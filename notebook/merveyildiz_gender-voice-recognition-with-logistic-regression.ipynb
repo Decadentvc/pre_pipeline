{
 "cells": [
  {
   "cell_type": "markdown",
   "metadata": {},
   "source": [
    "### INTRODUCTION\n",
    "\n",
    "In this kernel we will try to identify gender voices by using logistic regression. "
   ]
  },
  {
   "cell_type": "code",
   "execution_count": 1,
   "metadata": {
    "_cell_guid": "b1076dfc-b9ad-4769-8c92-a6c4dae69d19",
    "_uuid": "8f2839f25d086af736a60e9eeb907d3b93b6e0e5"
   },
   "outputs": [
    {
     "name": "stdout",
     "output_type": "stream",
     "text": [
      "/kaggle/input/voicegender/voice.csv\n"
     ]
    }
   ],
   "source": [
    "# This Python 3 environment comes with many helpful analytics libraries installed\n",
    "# It is defined by the kaggle/python docker image: https://github.com/kaggle/docker-python\n",
    "# For example, here's several helpful packages to load in \n",
    "\n",
    "import numpy as np # linear algebra\n",
    "import pandas as pd # data processing, CSV file I/O (e.g. pd.read_csv)\n",
    "\n",
    "# Input data files are available in the \"../input/\" directory.\n",
    "# For example, running this (by clicking run or pressing Shift+Enter) will list all files under the input directory\n",
    "\n",
    "import os\n",
    "for dirname, _, filenames in os.walk('/kaggle/input'):\n",
    "    for filename in filenames:\n",
    "        print(os.path.join(dirname, filename))\n",
    "\n",
    "# Any results you write to the current directory are saved as output."
   ]
  },
  {
   "cell_type": "markdown",
   "metadata": {},
   "source": [
    "import data"
   ]
  },
  {
   "cell_type": "code",
   "execution_count": 2,
   "metadata": {
    "_cell_guid": "79c7e3d0-c299-4dcb-8224-4455121ee9b0",
    "_uuid": "d629ff2d2480ee46fbb7e2d37f6b5fab8052498a"
   },
   "outputs": [],
   "source": [
    "data = pd.read_csv(\"/kaggle/input/voicegender/voice.csv\")"
   ]
  },
  {
   "cell_type": "code",
   "execution_count": 3,
   "metadata": {},
   "outputs": [
    {
     "name": "stdout",
     "output_type": "stream",
     "text": [
      "<class 'pandas.core.frame.DataFrame'>\n",
      "RangeIndex: 3168 entries, 0 to 3167\n",
      "Data columns (total 21 columns):\n",
      "meanfreq    3168 non-null float64\n",
      "sd          3168 non-null float64\n",
      "median      3168 non-null float64\n",
      "Q25         3168 non-null float64\n",
      "Q75         3168 non-null float64\n",
      "IQR         3168 non-null float64\n",
      "skew        3168 non-null float64\n",
      "kurt        3168 non-null float64\n",
      "sp.ent      3168 non-null float64\n",
      "sfm         3168 non-null float64\n",
      "mode        3168 non-null float64\n",
      "centroid    3168 non-null float64\n",
      "meanfun     3168 non-null float64\n",
      "minfun      3168 non-null float64\n",
      "maxfun      3168 non-null float64\n",
      "meandom     3168 non-null float64\n",
      "mindom      3168 non-null float64\n",
      "maxdom      3168 non-null float64\n",
      "dfrange     3168 non-null float64\n",
      "modindx     3168 non-null float64\n",
      "label       3168 non-null object\n",
      "dtypes: float64(20), object(1)\n",
      "memory usage: 519.9+ KB\n"
     ]
    }
   ],
   "source": [
    "data.info()"
   ]
  },
  {
   "cell_type": "code",
   "execution_count": 4,
   "metadata": {},
   "outputs": [],
   "source": [
    "data.label =[1 if each ==\"male\" else 0 for each in data.label]\n",
    "    \n",
    "y= data.label.values\n",
    "x_data = data.drop([\"label\"],axis=1)"
   ]
  },
  {
   "cell_type": "raw",
   "metadata": {},
   "source": [
    "# Normalization"
   ]
  },
  {
   "cell_type": "code",
   "execution_count": 5,
   "metadata": {},
   "outputs": [
    {
     "name": "stdout",
     "output_type": "stream",
     "text": [
      "      meanfreq        sd    median       Q25       Q75       IQR      skew  \\\n",
      "0     0.096419  0.473409  0.084125  0.060063  0.204956  0.254828  0.367853   \n",
      "1     0.125828  0.505075  0.116900  0.077635  0.215683  0.246961  0.644279   \n",
      "2     0.179222  0.675536  0.102873  0.034284  0.385912  0.457148  0.885255   \n",
      "3     0.528261  0.554611  0.587559  0.389906  0.715802  0.407358  0.031549   \n",
      "4     0.452195  0.627209  0.454272  0.317627  0.707515  0.474474  0.027742   \n",
      "...        ...       ...       ...       ...       ...       ...       ...   \n",
      "3163  0.436911  0.684871  0.570361  0.198513  0.686256  0.577704  0.046854   \n",
      "3164  0.362946  0.731172  0.262871  0.171937  0.702595  0.621185  0.015961   \n",
      "3165  0.484949  0.799042  0.690337  0.134329  0.786967  0.742124  0.050161   \n",
      "3166  0.492516  0.745692  0.695311  0.175136  0.767804  0.681107  0.041908   \n",
      "3167  0.595700  0.768964  0.687590  0.282629  0.901780  0.699289  0.045203   \n",
      "\n",
      "          kurt    sp.ent       sfm      mode  centroid   meanfun    minfun  \\\n",
      "0     0.208279  0.635798  0.564526  0.000000  0.096419  0.157706  0.030501   \n",
      "1     0.483766  0.630964  0.591578  0.000000  0.125828  0.287642  0.031140   \n",
      "2     0.782275  0.442738  0.548382  0.000000  0.179222  0.236945  0.030264   \n",
      "3     0.001613  0.923261  0.856457  0.299565  0.528261  0.183442  0.041287   \n",
      "4     0.001732  0.958736  0.926348  0.372362  0.452195  0.279190  0.036829   \n",
      "...        ...       ...       ...       ...       ...       ...       ...   \n",
      "3163  0.003489  0.921665  0.901057  0.717272  0.436911  0.698762  0.380813   \n",
      "3164  0.000333  0.912549  0.834545  0.048868  0.362946  0.732760  0.126776   \n",
      "3165  0.003469  0.855587  0.765849  0.028592  0.484949  0.847759  0.153011   \n",
      "3166  0.002539  0.870307  0.792241  0.757865  0.492516  0.641561  0.127158   \n",
      "3167  0.002830  0.822610  0.700510  0.956078  0.595700  0.714235  0.270097   \n",
      "\n",
      "        maxfun   meandom    mindom    maxdom   dfrange   modindx  \n",
      "0     0.981526  0.000000  0.006452  0.000000  0.000000  0.000000  \n",
      "1     0.834600  0.000407  0.006452  0.002144  0.002146  0.056449  \n",
      "2     0.954963  0.000060  0.006452  0.000357  0.000358  0.049885  \n",
      "3     0.834600  0.065659  0.006452  0.025375  0.025393  0.265043  \n",
      "4     0.929285  0.238994  0.006452  0.250536  0.250715  0.223380  \n",
      "...        ...       ...       ...       ...       ...       ...  \n",
      "3163  0.904450  0.279703  0.006452  0.192280  0.192418  0.173674  \n",
      "3164  0.981526  0.305791  0.075269  0.167977  0.166667  0.298053  \n",
      "3165  0.981526  0.164908  0.006452  0.134024  0.134120  0.208885  \n",
      "3166  0.834600  0.265621  0.006452  0.164046  0.164163  0.333559  \n",
      "3167  0.954963  0.074312  0.006452  0.025018  0.025036  0.375386  \n",
      "\n",
      "[3168 rows x 20 columns]\n"
     ]
    }
   ],
   "source": [
    "x = (x_data-np.min(x_data))/(np.max(x_data)-np.min(x_data)).values\n",
    "print(x)"
   ]
  },
  {
   "cell_type": "markdown",
   "metadata": {},
   "source": [
    "** train test split"
   ]
  },
  {
   "cell_type": "code",
   "execution_count": 6,
   "metadata": {},
   "outputs": [
    {
     "name": "stdout",
     "output_type": "stream",
     "text": [
      "x_train:  (2534, 20)\n",
      "x_test:  (634, 20)\n",
      "y_train:  (2534,)\n",
      "y_test:  (634,)\n"
     ]
    }
   ],
   "source": [
    "from sklearn.model_selection import train_test_split\n",
    "x_train,x_test,y_train,y_test=train_test_split(x,y,test_size=0.2,random_state=42)\n",
    "print(\"x_train: \",x_train.shape)\n",
    "print(\"x_test: \",x_test.shape)\n",
    "print(\"y_train: \",y_train.shape)\n",
    "print(\"y_test: \",y_test.shape)"
   ]
  },
  {
   "cell_type": "raw",
   "metadata": {},
   "source": [
    "### logistic regression with sklearn"
   ]
  },
  {
   "cell_type": "code",
   "execution_count": 7,
   "metadata": {},
   "outputs": [
    {
     "name": "stdout",
     "output_type": "stream",
     "text": [
      "test accuracy 0.9810725552050473\n"
     ]
    },
    {
     "name": "stderr",
     "output_type": "stream",
     "text": [
      "/opt/conda/lib/python3.6/site-packages/sklearn/linear_model/logistic.py:432: FutureWarning: Default solver will be changed to 'lbfgs' in 0.22. Specify a solver to silence this warning.\n",
      "  FutureWarning)\n"
     ]
    }
   ],
   "source": [
    "from sklearn.linear_model import LogisticRegression\n",
    "lr=LogisticRegression()\n",
    "lr.fit(x_train,y_train)\n",
    "print(\"test accuracy {}\".format(lr.score(x_test,y_test)))\n"
   ]
  },
  {
   "cell_type": "markdown",
   "metadata": {},
   "source": []
  }
 ],
 "metadata": {
  "kernelspec": {
   "display_name": "Python 3",
   "language": "python",
   "name": "python3"
  },
  "language_info": {
   "codemirror_mode": {
    "name": "ipython",
    "version": 3
   },
   "file_extension": ".py",
   "mimetype": "text/x-python",
   "name": "python",
   "nbconvert_exporter": "python",
   "pygments_lexer": "ipython3",
   "version": "3.6.6"
  }
 },
 "nbformat": 4,
 "nbformat_minor": 1
}
