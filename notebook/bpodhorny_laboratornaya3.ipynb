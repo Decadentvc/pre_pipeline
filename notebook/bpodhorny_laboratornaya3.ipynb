{
 "cells": [
  {
   "cell_type": "code",
   "execution_count": 1,
   "metadata": {
    "_cell_guid": "b1076dfc-b9ad-4769-8c92-a6c4dae69d19",
    "_uuid": "8f2839f25d086af736a60e9eeb907d3b93b6e0e5",
    "execution": {
     "iopub.execute_input": "2020-10-10T23:27:57.653731Z",
     "iopub.status.busy": "2020-10-10T23:27:57.652689Z",
     "iopub.status.idle": "2020-10-10T23:27:57.661365Z",
     "shell.execute_reply": "2020-10-10T23:27:57.660420Z"
    },
    "papermill": {
     "duration": 0.067033,
     "end_time": "2020-10-10T23:27:57.661550",
     "exception": false,
     "start_time": "2020-10-10T23:27:57.594517",
     "status": "completed"
    },
    "tags": []
   },
   "outputs": [
    {
     "name": "stdout",
     "output_type": "stream",
     "text": [
      "/kaggle/input/churn-in-telecoms-dataset/bigml_59c28831336c6604c800002a.csv\n"
     ]
    }
   ],
   "source": [
    "# This Python 3 environment comes with many helpful analytics libraries installed\n",
    "# It is defined by the kaggle/python Docker image: https://github.com/kaggle/docker-python\n",
    "# For example, here's several helpful packages to load\n",
    "\n",
    "import numpy as np # linear algebra\n",
    "import pandas as pd # data processing, CSV file I/O (e.g. pd.read_csv)\n",
    "\n",
    "# Input data files are available in the read-only \"../input/\" directory\n",
    "# For example, running this (by clicking run or pressing Shift+Enter) will list all files under the input directory\n",
    "\n",
    "import os\n",
    "for dirname, _, filenames in os.walk('/kaggle/input'):\n",
    "    for filename in filenames:\n",
    "        print(os.path.join(dirname, filename))\n",
    "\n",
    "# You can write up to 5GB to the current directory (/kaggle/working/) that gets preserved as output when you create a version using \"Save & Run All\" \n",
    "# You can also write temporary files to /kaggle/temp/, but they won't be saved outside of the current session"
   ]
  },
  {
   "cell_type": "code",
   "execution_count": 2,
   "metadata": {
    "_cell_guid": "79c7e3d0-c299-4dcb-8224-4455121ee9b0",
    "_uuid": "d629ff2d2480ee46fbb7e2d37f6b5fab8052498a",
    "execution": {
     "iopub.execute_input": "2020-10-10T23:27:57.762913Z",
     "iopub.status.busy": "2020-10-10T23:27:57.762083Z",
     "iopub.status.idle": "2020-10-10T23:27:59.223850Z",
     "shell.execute_reply": "2020-10-10T23:27:59.224452Z"
    },
    "papermill": {
     "duration": 1.514958,
     "end_time": "2020-10-10T23:27:59.224610",
     "exception": false,
     "start_time": "2020-10-10T23:27:57.709652",
     "status": "completed"
    },
    "tags": []
   },
   "outputs": [
    {
     "data": {
      "text/html": [
       "<div>\n",
       "<style scoped>\n",
       "    .dataframe tbody tr th:only-of-type {\n",
       "        vertical-align: middle;\n",
       "    }\n",
       "\n",
       "    .dataframe tbody tr th {\n",
       "        vertical-align: top;\n",
       "    }\n",
       "\n",
       "    .dataframe thead th {\n",
       "        text-align: right;\n",
       "    }\n",
       "</style>\n",
       "<table border=\"1\" class=\"dataframe\">\n",
       "  <thead>\n",
       "    <tr style=\"text-align: right;\">\n",
       "      <th></th>\n",
       "      <th>0</th>\n",
       "      <th>1</th>\n",
       "      <th>2</th>\n",
       "      <th>3</th>\n",
       "      <th>4</th>\n",
       "      <th>5</th>\n",
       "      <th>6</th>\n",
       "      <th>7</th>\n",
       "      <th>8</th>\n",
       "      <th>9</th>\n",
       "      <th>...</th>\n",
       "      <th>3323</th>\n",
       "      <th>3324</th>\n",
       "      <th>3325</th>\n",
       "      <th>3326</th>\n",
       "      <th>3327</th>\n",
       "      <th>3328</th>\n",
       "      <th>3329</th>\n",
       "      <th>3330</th>\n",
       "      <th>3331</th>\n",
       "      <th>3332</th>\n",
       "    </tr>\n",
       "  </thead>\n",
       "  <tbody>\n",
       "    <tr>\n",
       "      <th>state</th>\n",
       "      <td>KS</td>\n",
       "      <td>OH</td>\n",
       "      <td>NJ</td>\n",
       "      <td>OH</td>\n",
       "      <td>OK</td>\n",
       "      <td>AL</td>\n",
       "      <td>MA</td>\n",
       "      <td>MO</td>\n",
       "      <td>LA</td>\n",
       "      <td>WV</td>\n",
       "      <td>...</td>\n",
       "      <td>IN</td>\n",
       "      <td>WV</td>\n",
       "      <td>OH</td>\n",
       "      <td>OH</td>\n",
       "      <td>SC</td>\n",
       "      <td>AZ</td>\n",
       "      <td>WV</td>\n",
       "      <td>RI</td>\n",
       "      <td>CT</td>\n",
       "      <td>TN</td>\n",
       "    </tr>\n",
       "    <tr>\n",
       "      <th>account length</th>\n",
       "      <td>128</td>\n",
       "      <td>107</td>\n",
       "      <td>137</td>\n",
       "      <td>84</td>\n",
       "      <td>75</td>\n",
       "      <td>118</td>\n",
       "      <td>121</td>\n",
       "      <td>147</td>\n",
       "      <td>117</td>\n",
       "      <td>141</td>\n",
       "      <td>...</td>\n",
       "      <td>117</td>\n",
       "      <td>159</td>\n",
       "      <td>78</td>\n",
       "      <td>96</td>\n",
       "      <td>79</td>\n",
       "      <td>192</td>\n",
       "      <td>68</td>\n",
       "      <td>28</td>\n",
       "      <td>184</td>\n",
       "      <td>74</td>\n",
       "    </tr>\n",
       "    <tr>\n",
       "      <th>area code</th>\n",
       "      <td>415</td>\n",
       "      <td>415</td>\n",
       "      <td>415</td>\n",
       "      <td>408</td>\n",
       "      <td>415</td>\n",
       "      <td>510</td>\n",
       "      <td>510</td>\n",
       "      <td>415</td>\n",
       "      <td>408</td>\n",
       "      <td>415</td>\n",
       "      <td>...</td>\n",
       "      <td>415</td>\n",
       "      <td>415</td>\n",
       "      <td>408</td>\n",
       "      <td>415</td>\n",
       "      <td>415</td>\n",
       "      <td>415</td>\n",
       "      <td>415</td>\n",
       "      <td>510</td>\n",
       "      <td>510</td>\n",
       "      <td>415</td>\n",
       "    </tr>\n",
       "    <tr>\n",
       "      <th>phone number</th>\n",
       "      <td>382-4657</td>\n",
       "      <td>371-7191</td>\n",
       "      <td>358-1921</td>\n",
       "      <td>375-9999</td>\n",
       "      <td>330-6626</td>\n",
       "      <td>391-8027</td>\n",
       "      <td>355-9993</td>\n",
       "      <td>329-9001</td>\n",
       "      <td>335-4719</td>\n",
       "      <td>330-8173</td>\n",
       "      <td>...</td>\n",
       "      <td>362-5899</td>\n",
       "      <td>377-1164</td>\n",
       "      <td>368-8555</td>\n",
       "      <td>347-6812</td>\n",
       "      <td>348-3830</td>\n",
       "      <td>414-4276</td>\n",
       "      <td>370-3271</td>\n",
       "      <td>328-8230</td>\n",
       "      <td>364-6381</td>\n",
       "      <td>400-4344</td>\n",
       "    </tr>\n",
       "    <tr>\n",
       "      <th>international plan</th>\n",
       "      <td>no</td>\n",
       "      <td>no</td>\n",
       "      <td>no</td>\n",
       "      <td>yes</td>\n",
       "      <td>yes</td>\n",
       "      <td>yes</td>\n",
       "      <td>no</td>\n",
       "      <td>yes</td>\n",
       "      <td>no</td>\n",
       "      <td>yes</td>\n",
       "      <td>...</td>\n",
       "      <td>no</td>\n",
       "      <td>no</td>\n",
       "      <td>no</td>\n",
       "      <td>no</td>\n",
       "      <td>no</td>\n",
       "      <td>no</td>\n",
       "      <td>no</td>\n",
       "      <td>no</td>\n",
       "      <td>yes</td>\n",
       "      <td>no</td>\n",
       "    </tr>\n",
       "    <tr>\n",
       "      <th>voice mail plan</th>\n",
       "      <td>yes</td>\n",
       "      <td>yes</td>\n",
       "      <td>no</td>\n",
       "      <td>no</td>\n",
       "      <td>no</td>\n",
       "      <td>no</td>\n",
       "      <td>yes</td>\n",
       "      <td>no</td>\n",
       "      <td>no</td>\n",
       "      <td>yes</td>\n",
       "      <td>...</td>\n",
       "      <td>no</td>\n",
       "      <td>no</td>\n",
       "      <td>no</td>\n",
       "      <td>no</td>\n",
       "      <td>no</td>\n",
       "      <td>yes</td>\n",
       "      <td>no</td>\n",
       "      <td>no</td>\n",
       "      <td>no</td>\n",
       "      <td>yes</td>\n",
       "    </tr>\n",
       "    <tr>\n",
       "      <th>number vmail messages</th>\n",
       "      <td>25</td>\n",
       "      <td>26</td>\n",
       "      <td>0</td>\n",
       "      <td>0</td>\n",
       "      <td>0</td>\n",
       "      <td>0</td>\n",
       "      <td>24</td>\n",
       "      <td>0</td>\n",
       "      <td>0</td>\n",
       "      <td>37</td>\n",
       "      <td>...</td>\n",
       "      <td>0</td>\n",
       "      <td>0</td>\n",
       "      <td>0</td>\n",
       "      <td>0</td>\n",
       "      <td>0</td>\n",
       "      <td>36</td>\n",
       "      <td>0</td>\n",
       "      <td>0</td>\n",
       "      <td>0</td>\n",
       "      <td>25</td>\n",
       "    </tr>\n",
       "    <tr>\n",
       "      <th>total day minutes</th>\n",
       "      <td>265.1</td>\n",
       "      <td>161.6</td>\n",
       "      <td>243.4</td>\n",
       "      <td>299.4</td>\n",
       "      <td>166.7</td>\n",
       "      <td>223.4</td>\n",
       "      <td>218.2</td>\n",
       "      <td>157</td>\n",
       "      <td>184.5</td>\n",
       "      <td>258.6</td>\n",
       "      <td>...</td>\n",
       "      <td>118.4</td>\n",
       "      <td>169.8</td>\n",
       "      <td>193.4</td>\n",
       "      <td>106.6</td>\n",
       "      <td>134.7</td>\n",
       "      <td>156.2</td>\n",
       "      <td>231.1</td>\n",
       "      <td>180.8</td>\n",
       "      <td>213.8</td>\n",
       "      <td>234.4</td>\n",
       "    </tr>\n",
       "    <tr>\n",
       "      <th>total day calls</th>\n",
       "      <td>110</td>\n",
       "      <td>123</td>\n",
       "      <td>114</td>\n",
       "      <td>71</td>\n",
       "      <td>113</td>\n",
       "      <td>98</td>\n",
       "      <td>88</td>\n",
       "      <td>79</td>\n",
       "      <td>97</td>\n",
       "      <td>84</td>\n",
       "      <td>...</td>\n",
       "      <td>126</td>\n",
       "      <td>114</td>\n",
       "      <td>99</td>\n",
       "      <td>128</td>\n",
       "      <td>98</td>\n",
       "      <td>77</td>\n",
       "      <td>57</td>\n",
       "      <td>109</td>\n",
       "      <td>105</td>\n",
       "      <td>113</td>\n",
       "    </tr>\n",
       "    <tr>\n",
       "      <th>total day charge</th>\n",
       "      <td>45.07</td>\n",
       "      <td>27.47</td>\n",
       "      <td>41.38</td>\n",
       "      <td>50.9</td>\n",
       "      <td>28.34</td>\n",
       "      <td>37.98</td>\n",
       "      <td>37.09</td>\n",
       "      <td>26.69</td>\n",
       "      <td>31.37</td>\n",
       "      <td>43.96</td>\n",
       "      <td>...</td>\n",
       "      <td>20.13</td>\n",
       "      <td>28.87</td>\n",
       "      <td>32.88</td>\n",
       "      <td>18.12</td>\n",
       "      <td>22.9</td>\n",
       "      <td>26.55</td>\n",
       "      <td>39.29</td>\n",
       "      <td>30.74</td>\n",
       "      <td>36.35</td>\n",
       "      <td>39.85</td>\n",
       "    </tr>\n",
       "    <tr>\n",
       "      <th>total eve minutes</th>\n",
       "      <td>197.4</td>\n",
       "      <td>195.5</td>\n",
       "      <td>121.2</td>\n",
       "      <td>61.9</td>\n",
       "      <td>148.3</td>\n",
       "      <td>220.6</td>\n",
       "      <td>348.5</td>\n",
       "      <td>103.1</td>\n",
       "      <td>351.6</td>\n",
       "      <td>222</td>\n",
       "      <td>...</td>\n",
       "      <td>249.3</td>\n",
       "      <td>197.7</td>\n",
       "      <td>116.9</td>\n",
       "      <td>284.8</td>\n",
       "      <td>189.7</td>\n",
       "      <td>215.5</td>\n",
       "      <td>153.4</td>\n",
       "      <td>288.8</td>\n",
       "      <td>159.6</td>\n",
       "      <td>265.9</td>\n",
       "    </tr>\n",
       "    <tr>\n",
       "      <th>total eve calls</th>\n",
       "      <td>99</td>\n",
       "      <td>103</td>\n",
       "      <td>110</td>\n",
       "      <td>88</td>\n",
       "      <td>122</td>\n",
       "      <td>101</td>\n",
       "      <td>108</td>\n",
       "      <td>94</td>\n",
       "      <td>80</td>\n",
       "      <td>111</td>\n",
       "      <td>...</td>\n",
       "      <td>97</td>\n",
       "      <td>105</td>\n",
       "      <td>88</td>\n",
       "      <td>87</td>\n",
       "      <td>68</td>\n",
       "      <td>126</td>\n",
       "      <td>55</td>\n",
       "      <td>58</td>\n",
       "      <td>84</td>\n",
       "      <td>82</td>\n",
       "    </tr>\n",
       "    <tr>\n",
       "      <th>total eve charge</th>\n",
       "      <td>16.78</td>\n",
       "      <td>16.62</td>\n",
       "      <td>10.3</td>\n",
       "      <td>5.26</td>\n",
       "      <td>12.61</td>\n",
       "      <td>18.75</td>\n",
       "      <td>29.62</td>\n",
       "      <td>8.76</td>\n",
       "      <td>29.89</td>\n",
       "      <td>18.87</td>\n",
       "      <td>...</td>\n",
       "      <td>21.19</td>\n",
       "      <td>16.8</td>\n",
       "      <td>9.94</td>\n",
       "      <td>24.21</td>\n",
       "      <td>16.12</td>\n",
       "      <td>18.32</td>\n",
       "      <td>13.04</td>\n",
       "      <td>24.55</td>\n",
       "      <td>13.57</td>\n",
       "      <td>22.6</td>\n",
       "    </tr>\n",
       "    <tr>\n",
       "      <th>total night minutes</th>\n",
       "      <td>244.7</td>\n",
       "      <td>254.4</td>\n",
       "      <td>162.6</td>\n",
       "      <td>196.9</td>\n",
       "      <td>186.9</td>\n",
       "      <td>203.9</td>\n",
       "      <td>212.6</td>\n",
       "      <td>211.8</td>\n",
       "      <td>215.8</td>\n",
       "      <td>326.4</td>\n",
       "      <td>...</td>\n",
       "      <td>227</td>\n",
       "      <td>193.7</td>\n",
       "      <td>243.3</td>\n",
       "      <td>178.9</td>\n",
       "      <td>221.4</td>\n",
       "      <td>279.1</td>\n",
       "      <td>191.3</td>\n",
       "      <td>191.9</td>\n",
       "      <td>139.2</td>\n",
       "      <td>241.4</td>\n",
       "    </tr>\n",
       "    <tr>\n",
       "      <th>total night calls</th>\n",
       "      <td>91</td>\n",
       "      <td>103</td>\n",
       "      <td>104</td>\n",
       "      <td>89</td>\n",
       "      <td>121</td>\n",
       "      <td>118</td>\n",
       "      <td>118</td>\n",
       "      <td>96</td>\n",
       "      <td>90</td>\n",
       "      <td>97</td>\n",
       "      <td>...</td>\n",
       "      <td>56</td>\n",
       "      <td>82</td>\n",
       "      <td>109</td>\n",
       "      <td>92</td>\n",
       "      <td>128</td>\n",
       "      <td>83</td>\n",
       "      <td>123</td>\n",
       "      <td>91</td>\n",
       "      <td>137</td>\n",
       "      <td>77</td>\n",
       "    </tr>\n",
       "    <tr>\n",
       "      <th>total night charge</th>\n",
       "      <td>11.01</td>\n",
       "      <td>11.45</td>\n",
       "      <td>7.32</td>\n",
       "      <td>8.86</td>\n",
       "      <td>8.41</td>\n",
       "      <td>9.18</td>\n",
       "      <td>9.57</td>\n",
       "      <td>9.53</td>\n",
       "      <td>9.71</td>\n",
       "      <td>14.69</td>\n",
       "      <td>...</td>\n",
       "      <td>10.22</td>\n",
       "      <td>8.72</td>\n",
       "      <td>10.95</td>\n",
       "      <td>8.05</td>\n",
       "      <td>9.96</td>\n",
       "      <td>12.56</td>\n",
       "      <td>8.61</td>\n",
       "      <td>8.64</td>\n",
       "      <td>6.26</td>\n",
       "      <td>10.86</td>\n",
       "    </tr>\n",
       "    <tr>\n",
       "      <th>total intl minutes</th>\n",
       "      <td>10</td>\n",
       "      <td>13.7</td>\n",
       "      <td>12.2</td>\n",
       "      <td>6.6</td>\n",
       "      <td>10.1</td>\n",
       "      <td>6.3</td>\n",
       "      <td>7.5</td>\n",
       "      <td>7.1</td>\n",
       "      <td>8.7</td>\n",
       "      <td>11.2</td>\n",
       "      <td>...</td>\n",
       "      <td>13.6</td>\n",
       "      <td>11.6</td>\n",
       "      <td>9.3</td>\n",
       "      <td>14.9</td>\n",
       "      <td>11.8</td>\n",
       "      <td>9.9</td>\n",
       "      <td>9.6</td>\n",
       "      <td>14.1</td>\n",
       "      <td>5</td>\n",
       "      <td>13.7</td>\n",
       "    </tr>\n",
       "    <tr>\n",
       "      <th>total intl calls</th>\n",
       "      <td>3</td>\n",
       "      <td>3</td>\n",
       "      <td>5</td>\n",
       "      <td>7</td>\n",
       "      <td>3</td>\n",
       "      <td>6</td>\n",
       "      <td>7</td>\n",
       "      <td>6</td>\n",
       "      <td>4</td>\n",
       "      <td>5</td>\n",
       "      <td>...</td>\n",
       "      <td>3</td>\n",
       "      <td>4</td>\n",
       "      <td>4</td>\n",
       "      <td>7</td>\n",
       "      <td>5</td>\n",
       "      <td>6</td>\n",
       "      <td>4</td>\n",
       "      <td>6</td>\n",
       "      <td>10</td>\n",
       "      <td>4</td>\n",
       "    </tr>\n",
       "    <tr>\n",
       "      <th>total intl charge</th>\n",
       "      <td>2.7</td>\n",
       "      <td>3.7</td>\n",
       "      <td>3.29</td>\n",
       "      <td>1.78</td>\n",
       "      <td>2.73</td>\n",
       "      <td>1.7</td>\n",
       "      <td>2.03</td>\n",
       "      <td>1.92</td>\n",
       "      <td>2.35</td>\n",
       "      <td>3.02</td>\n",
       "      <td>...</td>\n",
       "      <td>3.67</td>\n",
       "      <td>3.13</td>\n",
       "      <td>2.51</td>\n",
       "      <td>4.02</td>\n",
       "      <td>3.19</td>\n",
       "      <td>2.67</td>\n",
       "      <td>2.59</td>\n",
       "      <td>3.81</td>\n",
       "      <td>1.35</td>\n",
       "      <td>3.7</td>\n",
       "    </tr>\n",
       "    <tr>\n",
       "      <th>customer service calls</th>\n",
       "      <td>1</td>\n",
       "      <td>1</td>\n",
       "      <td>0</td>\n",
       "      <td>2</td>\n",
       "      <td>3</td>\n",
       "      <td>0</td>\n",
       "      <td>3</td>\n",
       "      <td>0</td>\n",
       "      <td>1</td>\n",
       "      <td>0</td>\n",
       "      <td>...</td>\n",
       "      <td>5</td>\n",
       "      <td>1</td>\n",
       "      <td>2</td>\n",
       "      <td>1</td>\n",
       "      <td>2</td>\n",
       "      <td>2</td>\n",
       "      <td>3</td>\n",
       "      <td>2</td>\n",
       "      <td>2</td>\n",
       "      <td>0</td>\n",
       "    </tr>\n",
       "    <tr>\n",
       "      <th>churn</th>\n",
       "      <td>False</td>\n",
       "      <td>False</td>\n",
       "      <td>False</td>\n",
       "      <td>False</td>\n",
       "      <td>False</td>\n",
       "      <td>False</td>\n",
       "      <td>False</td>\n",
       "      <td>False</td>\n",
       "      <td>False</td>\n",
       "      <td>False</td>\n",
       "      <td>...</td>\n",
       "      <td>True</td>\n",
       "      <td>False</td>\n",
       "      <td>False</td>\n",
       "      <td>False</td>\n",
       "      <td>False</td>\n",
       "      <td>False</td>\n",
       "      <td>False</td>\n",
       "      <td>False</td>\n",
       "      <td>False</td>\n",
       "      <td>False</td>\n",
       "    </tr>\n",
       "  </tbody>\n",
       "</table>\n",
       "<p>21 rows × 3333 columns</p>\n",
       "</div>"
      ],
      "text/plain": [
       "                            0         1         2         3         4     \\\n",
       "state                         KS        OH        NJ        OH        OK   \n",
       "account length               128       107       137        84        75   \n",
       "area code                    415       415       415       408       415   \n",
       "phone number            382-4657  371-7191  358-1921  375-9999  330-6626   \n",
       "international plan            no        no        no       yes       yes   \n",
       "voice mail plan              yes       yes        no        no        no   \n",
       "number vmail messages         25        26         0         0         0   \n",
       "total day minutes          265.1     161.6     243.4     299.4     166.7   \n",
       "total day calls              110       123       114        71       113   \n",
       "total day charge           45.07     27.47     41.38      50.9     28.34   \n",
       "total eve minutes          197.4     195.5     121.2      61.9     148.3   \n",
       "total eve calls               99       103       110        88       122   \n",
       "total eve charge           16.78     16.62      10.3      5.26     12.61   \n",
       "total night minutes        244.7     254.4     162.6     196.9     186.9   \n",
       "total night calls             91       103       104        89       121   \n",
       "total night charge         11.01     11.45      7.32      8.86      8.41   \n",
       "total intl minutes            10      13.7      12.2       6.6      10.1   \n",
       "total intl calls               3         3         5         7         3   \n",
       "total intl charge            2.7       3.7      3.29      1.78      2.73   \n",
       "customer service calls         1         1         0         2         3   \n",
       "churn                      False     False     False     False     False   \n",
       "\n",
       "                            5         6         7         8         9     ...  \\\n",
       "state                         AL        MA        MO        LA        WV  ...   \n",
       "account length               118       121       147       117       141  ...   \n",
       "area code                    510       510       415       408       415  ...   \n",
       "phone number            391-8027  355-9993  329-9001  335-4719  330-8173  ...   \n",
       "international plan           yes        no       yes        no       yes  ...   \n",
       "voice mail plan               no       yes        no        no       yes  ...   \n",
       "number vmail messages          0        24         0         0        37  ...   \n",
       "total day minutes          223.4     218.2       157     184.5     258.6  ...   \n",
       "total day calls               98        88        79        97        84  ...   \n",
       "total day charge           37.98     37.09     26.69     31.37     43.96  ...   \n",
       "total eve minutes          220.6     348.5     103.1     351.6       222  ...   \n",
       "total eve calls              101       108        94        80       111  ...   \n",
       "total eve charge           18.75     29.62      8.76     29.89     18.87  ...   \n",
       "total night minutes        203.9     212.6     211.8     215.8     326.4  ...   \n",
       "total night calls            118       118        96        90        97  ...   \n",
       "total night charge          9.18      9.57      9.53      9.71     14.69  ...   \n",
       "total intl minutes           6.3       7.5       7.1       8.7      11.2  ...   \n",
       "total intl calls               6         7         6         4         5  ...   \n",
       "total intl charge            1.7      2.03      1.92      2.35      3.02  ...   \n",
       "customer service calls         0         3         0         1         0  ...   \n",
       "churn                      False     False     False     False     False  ...   \n",
       "\n",
       "                            3323      3324      3325      3326      3327  \\\n",
       "state                         IN        WV        OH        OH        SC   \n",
       "account length               117       159        78        96        79   \n",
       "area code                    415       415       408       415       415   \n",
       "phone number            362-5899  377-1164  368-8555  347-6812  348-3830   \n",
       "international plan            no        no        no        no        no   \n",
       "voice mail plan               no        no        no        no        no   \n",
       "number vmail messages          0         0         0         0         0   \n",
       "total day minutes          118.4     169.8     193.4     106.6     134.7   \n",
       "total day calls              126       114        99       128        98   \n",
       "total day charge           20.13     28.87     32.88     18.12      22.9   \n",
       "total eve minutes          249.3     197.7     116.9     284.8     189.7   \n",
       "total eve calls               97       105        88        87        68   \n",
       "total eve charge           21.19      16.8      9.94     24.21     16.12   \n",
       "total night minutes          227     193.7     243.3     178.9     221.4   \n",
       "total night calls             56        82       109        92       128   \n",
       "total night charge         10.22      8.72     10.95      8.05      9.96   \n",
       "total intl minutes          13.6      11.6       9.3      14.9      11.8   \n",
       "total intl calls               3         4         4         7         5   \n",
       "total intl charge           3.67      3.13      2.51      4.02      3.19   \n",
       "customer service calls         5         1         2         1         2   \n",
       "churn                       True     False     False     False     False   \n",
       "\n",
       "                            3328      3329      3330      3331      3332  \n",
       "state                         AZ        WV        RI        CT        TN  \n",
       "account length               192        68        28       184        74  \n",
       "area code                    415       415       510       510       415  \n",
       "phone number            414-4276  370-3271  328-8230  364-6381  400-4344  \n",
       "international plan            no        no        no       yes        no  \n",
       "voice mail plan              yes        no        no        no       yes  \n",
       "number vmail messages         36         0         0         0        25  \n",
       "total day minutes          156.2     231.1     180.8     213.8     234.4  \n",
       "total day calls               77        57       109       105       113  \n",
       "total day charge           26.55     39.29     30.74     36.35     39.85  \n",
       "total eve minutes          215.5     153.4     288.8     159.6     265.9  \n",
       "total eve calls              126        55        58        84        82  \n",
       "total eve charge           18.32     13.04     24.55     13.57      22.6  \n",
       "total night minutes        279.1     191.3     191.9     139.2     241.4  \n",
       "total night calls             83       123        91       137        77  \n",
       "total night charge         12.56      8.61      8.64      6.26     10.86  \n",
       "total intl minutes           9.9       9.6      14.1         5      13.7  \n",
       "total intl calls               6         4         6        10         4  \n",
       "total intl charge           2.67      2.59      3.81      1.35       3.7  \n",
       "customer service calls         2         3         2         2         0  \n",
       "churn                      False     False     False     False     False  \n",
       "\n",
       "[21 rows x 3333 columns]"
      ]
     },
     "execution_count": 2,
     "metadata": {},
     "output_type": "execute_result"
    }
   ],
   "source": [
    "import seaborn as sns\n",
    "import matplotlib.pyplot as plt\n",
    "df = pd.read_csv(\"../input/../input/churn-in-telecoms-dataset/bigml_59c28831336c6604c800002a.csv\", sep=\",\")\n",
    "df.T"
   ]
  },
  {
   "cell_type": "markdown",
   "metadata": {
    "papermill": {
     "duration": 0.047767,
     "end_time": "2020-10-10T23:27:59.321733",
     "exception": false,
     "start_time": "2020-10-10T23:27:59.273966",
     "status": "completed"
    },
    "tags": []
   },
   "source": [
    "# 1.Постановка задачи - определить что приводит к оттоку клиентов на основе тарифов мобильной связи.\n",
    "# 2.Наш таргет - столбец \"churn\", задача - категорильная т.к таргет представляет собой категориальный тип данных."
   ]
  },
  {
   "cell_type": "code",
   "execution_count": 3,
   "metadata": {
    "execution": {
     "iopub.execute_input": "2020-10-10T23:27:59.431619Z",
     "iopub.status.busy": "2020-10-10T23:27:59.430766Z",
     "iopub.status.idle": "2020-10-10T23:27:59.638934Z",
     "shell.execute_reply": "2020-10-10T23:27:59.638311Z"
    },
    "papermill": {
     "duration": 0.269386,
     "end_time": "2020-10-10T23:27:59.639068",
     "exception": false,
     "start_time": "2020-10-10T23:27:59.369682",
     "status": "completed"
    },
    "tags": []
   },
   "outputs": [
    {
     "data": {
      "text/plain": [
       "<matplotlib.axes._subplots.AxesSubplot at 0x7f9fe3b12790>"
      ]
     },
     "execution_count": 3,
     "metadata": {},
     "output_type": "execute_result"
    },
    {
     "data": {
      "image/png": "[encoded data removed]",
      "text/plain": [
       "<Figure size 432x288 with 1 Axes>"
      ]
     },
     "metadata": {
      "needs_background": "light"
     },
     "output_type": "display_data"
    }
   ],
   "source": [
    "df.groupby(\"churn\")[\"phone number\"].count().plot(kind='bar')"
   ]
  },
  {
   "cell_type": "markdown",
   "metadata": {
    "papermill": {
     "duration": 0.049974,
     "end_time": "2020-10-10T23:27:59.738905",
     "exception": false,
     "start_time": "2020-10-10T23:27:59.688931",
     "status": "completed"
    },
    "tags": []
   },
   "source": [
    "# 3.Из диаграммы видно, что в выборке большая часть клиентов - это те, которые отказались от услуг оператора, отсюда можем сделать вывод, что распределение не нормальное."
   ]
  },
  {
   "cell_type": "code",
   "execution_count": 4,
   "metadata": {
    "execution": {
     "iopub.execute_input": "2020-10-10T23:27:59.846972Z",
     "iopub.status.busy": "2020-10-10T23:27:59.846114Z",
     "iopub.status.idle": "2020-10-10T23:27:59.851560Z",
     "shell.execute_reply": "2020-10-10T23:27:59.850798Z"
    },
    "papermill": {
     "duration": 0.063007,
     "end_time": "2020-10-10T23:27:59.851707",
     "exception": false,
     "start_time": "2020-10-10T23:27:59.788700",
     "status": "completed"
    },
    "tags": []
   },
   "outputs": [
    {
     "data": {
      "text/plain": [
       "51"
      ]
     },
     "execution_count": 4,
     "metadata": {},
     "output_type": "execute_result"
    }
   ],
   "source": [
    "df[\"state\"].value_counts().shape[0]"
   ]
  },
  {
   "cell_type": "markdown",
   "metadata": {
    "papermill": {
     "duration": 0.049969,
     "end_time": "2020-10-10T23:27:59.952517",
     "exception": false,
     "start_time": "2020-10-10T23:27:59.902548",
     "status": "completed"
    },
    "tags": []
   },
   "source": [
    "# Т.к штатов очень много, а преобразовать мы их можем только с помощью getdummies(), то добавлять 51 столбец в таблицу считаю нецелесообразным т.к каждый штат содержит маленькое количество людей, причем различия по штатам очень незначительные, значит какой-либо значимой информации эта фича нам не даст. Уберем ее из таблицы."
   ]
  },
  {
   "cell_type": "markdown",
   "metadata": {
    "papermill": {
     "duration": 0.051669,
     "end_time": "2020-10-10T23:28:00.055519",
     "exception": false,
     "start_time": "2020-10-10T23:28:00.003850",
     "status": "completed"
    },
    "tags": []
   },
   "source": [
    "# Телефонный номер по логике никак не влияет на таргет ибо по-сути является неким вариантом id пользователя, так что его тоже уберем из таблицы."
   ]
  },
  {
   "cell_type": "code",
   "execution_count": 5,
   "metadata": {
    "execution": {
     "iopub.execute_input": "2020-10-10T23:28:00.166596Z",
     "iopub.status.busy": "2020-10-10T23:28:00.165445Z",
     "iopub.status.idle": "2020-10-10T23:28:00.170062Z",
     "shell.execute_reply": "2020-10-10T23:28:00.170636Z"
    },
    "papermill": {
     "duration": 0.064433,
     "end_time": "2020-10-10T23:28:00.170845",
     "exception": false,
     "start_time": "2020-10-10T23:28:00.106412",
     "status": "completed"
    },
    "tags": []
   },
   "outputs": [
    {
     "data": {
      "text/plain": [
       "415    1655\n",
       "510     840\n",
       "408     838\n",
       "Name: area code, dtype: int64"
      ]
     },
     "execution_count": 5,
     "metadata": {},
     "output_type": "execute_result"
    }
   ],
   "source": [
    "df[\"area code\"].value_counts()"
   ]
  },
  {
   "cell_type": "code",
   "execution_count": 6,
   "metadata": {
    "execution": {
     "iopub.execute_input": "2020-10-10T23:28:00.285980Z",
     "iopub.status.busy": "2020-10-10T23:28:00.285141Z",
     "iopub.status.idle": "2020-10-10T23:28:00.316324Z",
     "shell.execute_reply": "2020-10-10T23:28:00.315645Z"
    },
    "papermill": {
     "duration": 0.094712,
     "end_time": "2020-10-10T23:28:00.316457",
     "exception": false,
     "start_time": "2020-10-10T23:28:00.221745",
     "status": "completed"
    },
    "tags": []
   },
   "outputs": [
    {
     "data": {
      "text/html": [
       "<div>\n",
       "<style scoped>\n",
       "    .dataframe tbody tr th:only-of-type {\n",
       "        vertical-align: middle;\n",
       "    }\n",
       "\n",
       "    .dataframe tbody tr th {\n",
       "        vertical-align: top;\n",
       "    }\n",
       "\n",
       "    .dataframe thead th {\n",
       "        text-align: right;\n",
       "    }\n",
       "</style>\n",
       "<table border=\"1\" class=\"dataframe\">\n",
       "  <thead>\n",
       "    <tr style=\"text-align: right;\">\n",
       "      <th></th>\n",
       "      <th>account length</th>\n",
       "      <th>area code</th>\n",
       "      <th>international plan</th>\n",
       "      <th>voice mail plan</th>\n",
       "      <th>number vmail messages</th>\n",
       "      <th>total day minutes</th>\n",
       "      <th>total day calls</th>\n",
       "      <th>total day charge</th>\n",
       "      <th>total eve minutes</th>\n",
       "      <th>total eve calls</th>\n",
       "      <th>total eve charge</th>\n",
       "      <th>total night minutes</th>\n",
       "      <th>total night calls</th>\n",
       "      <th>total night charge</th>\n",
       "      <th>total intl minutes</th>\n",
       "      <th>total intl calls</th>\n",
       "      <th>total intl charge</th>\n",
       "      <th>customer service calls</th>\n",
       "      <th>churn</th>\n",
       "    </tr>\n",
       "  </thead>\n",
       "  <tbody>\n",
       "    <tr>\n",
       "      <th>0</th>\n",
       "      <td>128</td>\n",
       "      <td>1</td>\n",
       "      <td>0</td>\n",
       "      <td>1</td>\n",
       "      <td>25</td>\n",
       "      <td>265.1</td>\n",
       "      <td>110</td>\n",
       "      <td>45.07</td>\n",
       "      <td>197.4</td>\n",
       "      <td>99</td>\n",
       "      <td>16.78</td>\n",
       "      <td>244.7</td>\n",
       "      <td>91</td>\n",
       "      <td>11.01</td>\n",
       "      <td>10.0</td>\n",
       "      <td>3</td>\n",
       "      <td>2.70</td>\n",
       "      <td>1</td>\n",
       "      <td>0</td>\n",
       "    </tr>\n",
       "    <tr>\n",
       "      <th>1</th>\n",
       "      <td>107</td>\n",
       "      <td>1</td>\n",
       "      <td>0</td>\n",
       "      <td>1</td>\n",
       "      <td>26</td>\n",
       "      <td>161.6</td>\n",
       "      <td>123</td>\n",
       "      <td>27.47</td>\n",
       "      <td>195.5</td>\n",
       "      <td>103</td>\n",
       "      <td>16.62</td>\n",
       "      <td>254.4</td>\n",
       "      <td>103</td>\n",
       "      <td>11.45</td>\n",
       "      <td>13.7</td>\n",
       "      <td>3</td>\n",
       "      <td>3.70</td>\n",
       "      <td>1</td>\n",
       "      <td>0</td>\n",
       "    </tr>\n",
       "    <tr>\n",
       "      <th>2</th>\n",
       "      <td>137</td>\n",
       "      <td>1</td>\n",
       "      <td>0</td>\n",
       "      <td>0</td>\n",
       "      <td>0</td>\n",
       "      <td>243.4</td>\n",
       "      <td>114</td>\n",
       "      <td>41.38</td>\n",
       "      <td>121.2</td>\n",
       "      <td>110</td>\n",
       "      <td>10.30</td>\n",
       "      <td>162.6</td>\n",
       "      <td>104</td>\n",
       "      <td>7.32</td>\n",
       "      <td>12.2</td>\n",
       "      <td>5</td>\n",
       "      <td>3.29</td>\n",
       "      <td>0</td>\n",
       "      <td>0</td>\n",
       "    </tr>\n",
       "    <tr>\n",
       "      <th>3</th>\n",
       "      <td>84</td>\n",
       "      <td>0</td>\n",
       "      <td>1</td>\n",
       "      <td>0</td>\n",
       "      <td>0</td>\n",
       "      <td>299.4</td>\n",
       "      <td>71</td>\n",
       "      <td>50.90</td>\n",
       "      <td>61.9</td>\n",
       "      <td>88</td>\n",
       "      <td>5.26</td>\n",
       "      <td>196.9</td>\n",
       "      <td>89</td>\n",
       "      <td>8.86</td>\n",
       "      <td>6.6</td>\n",
       "      <td>7</td>\n",
       "      <td>1.78</td>\n",
       "      <td>2</td>\n",
       "      <td>0</td>\n",
       "    </tr>\n",
       "    <tr>\n",
       "      <th>4</th>\n",
       "      <td>75</td>\n",
       "      <td>1</td>\n",
       "      <td>1</td>\n",
       "      <td>0</td>\n",
       "      <td>0</td>\n",
       "      <td>166.7</td>\n",
       "      <td>113</td>\n",
       "      <td>28.34</td>\n",
       "      <td>148.3</td>\n",
       "      <td>122</td>\n",
       "      <td>12.61</td>\n",
       "      <td>186.9</td>\n",
       "      <td>121</td>\n",
       "      <td>8.41</td>\n",
       "      <td>10.1</td>\n",
       "      <td>3</td>\n",
       "      <td>2.73</td>\n",
       "      <td>3</td>\n",
       "      <td>0</td>\n",
       "    </tr>\n",
       "  </tbody>\n",
       "</table>\n",
       "</div>"
      ],
      "text/plain": [
       "   account length  area code  international plan  voice mail plan  \\\n",
       "0             128          1                   0                1   \n",
       "1             107          1                   0                1   \n",
       "2             137          1                   0                0   \n",
       "3              84          0                   1                0   \n",
       "4              75          1                   1                0   \n",
       "\n",
       "   number vmail messages  total day minutes  total day calls  \\\n",
       "0                     25              265.1              110   \n",
       "1                     26              161.6              123   \n",
       "2                      0              243.4              114   \n",
       "3                      0              299.4               71   \n",
       "4                      0              166.7              113   \n",
       "\n",
       "   total day charge  total eve minutes  total eve calls  total eve charge  \\\n",
       "0             45.07              197.4               99             16.78   \n",
       "1             27.47              195.5              103             16.62   \n",
       "2             41.38              121.2              110             10.30   \n",
       "3             50.90               61.9               88              5.26   \n",
       "4             28.34              148.3              122             12.61   \n",
       "\n",
       "   total night minutes  total night calls  total night charge  \\\n",
       "0                244.7                 91               11.01   \n",
       "1                254.4                103               11.45   \n",
       "2                162.6                104                7.32   \n",
       "3                196.9                 89                8.86   \n",
       "4                186.9                121                8.41   \n",
       "\n",
       "   total intl minutes  total intl calls  total intl charge  \\\n",
       "0                10.0                 3               2.70   \n",
       "1                13.7                 3               3.70   \n",
       "2                12.2                 5               3.29   \n",
       "3                 6.6                 7               1.78   \n",
       "4                10.1                 3               2.73   \n",
       "\n",
       "   customer service calls  churn  \n",
       "0                       1      0  \n",
       "1                       1      0  \n",
       "2                       0      0  \n",
       "3                       2      0  \n",
       "4                       3      0  "
      ]
     },
     "execution_count": 6,
     "metadata": {},
     "output_type": "execute_result"
    }
   ],
   "source": [
    "df1 = df.drop([\"state\", \"phone number\"], axis=1)\n",
    "df2 = df1.copy()\n",
    "\n",
    "df2[\"area code\"] = df['area code'].map({408:0,415:1,510:2})\n",
    "df2[\"international plan\"] = df['international plan'].map({\"no\":0,\"yes\":1})\n",
    "df2[\"voice mail plan\"] = df['voice mail plan'].map({\"no\":0,\"yes\":1})\n",
    "df2[\"churn\"] = df['churn'].map({False:0,True:1})\n",
    "\n",
    "df2.head()"
   ]
  },
  {
   "cell_type": "code",
   "execution_count": 7,
   "metadata": {
    "execution": {
     "iopub.execute_input": "2020-10-10T23:28:00.426098Z",
     "iopub.status.busy": "2020-10-10T23:28:00.425349Z",
     "iopub.status.idle": "2020-10-10T23:28:00.449471Z",
     "shell.execute_reply": "2020-10-10T23:28:00.448815Z"
    },
    "papermill": {
     "duration": 0.081611,
     "end_time": "2020-10-10T23:28:00.449620",
     "exception": false,
     "start_time": "2020-10-10T23:28:00.368009",
     "status": "completed"
    },
    "tags": []
   },
   "outputs": [
    {
     "data": {
      "text/html": [
       "<div>\n",
       "<style scoped>\n",
       "    .dataframe tbody tr th:only-of-type {\n",
       "        vertical-align: middle;\n",
       "    }\n",
       "\n",
       "    .dataframe tbody tr th {\n",
       "        vertical-align: top;\n",
       "    }\n",
       "\n",
       "    .dataframe thead th {\n",
       "        text-align: right;\n",
       "    }\n",
       "</style>\n",
       "<table border=\"1\" class=\"dataframe\">\n",
       "  <thead>\n",
       "    <tr style=\"text-align: right;\">\n",
       "      <th></th>\n",
       "      <th>account length</th>\n",
       "      <th>area code</th>\n",
       "      <th>international plan</th>\n",
       "      <th>voice mail plan</th>\n",
       "      <th>number vmail messages</th>\n",
       "      <th>total day minutes</th>\n",
       "      <th>total day calls</th>\n",
       "      <th>total day charge</th>\n",
       "      <th>total eve minutes</th>\n",
       "      <th>total eve calls</th>\n",
       "      <th>total eve charge</th>\n",
       "      <th>total night minutes</th>\n",
       "      <th>total night calls</th>\n",
       "      <th>total night charge</th>\n",
       "      <th>total intl minutes</th>\n",
       "      <th>total intl calls</th>\n",
       "      <th>total intl charge</th>\n",
       "      <th>customer service calls</th>\n",
       "    </tr>\n",
       "  </thead>\n",
       "  <tbody>\n",
       "    <tr>\n",
       "      <th>0</th>\n",
       "      <td>128</td>\n",
       "      <td>1</td>\n",
       "      <td>0</td>\n",
       "      <td>1</td>\n",
       "      <td>25</td>\n",
       "      <td>265.1</td>\n",
       "      <td>110</td>\n",
       "      <td>45.07</td>\n",
       "      <td>197.4</td>\n",
       "      <td>99</td>\n",
       "      <td>16.78</td>\n",
       "      <td>244.7</td>\n",
       "      <td>91</td>\n",
       "      <td>11.01</td>\n",
       "      <td>10.0</td>\n",
       "      <td>3</td>\n",
       "      <td>2.70</td>\n",
       "      <td>1</td>\n",
       "    </tr>\n",
       "    <tr>\n",
       "      <th>1</th>\n",
       "      <td>107</td>\n",
       "      <td>1</td>\n",
       "      <td>0</td>\n",
       "      <td>1</td>\n",
       "      <td>26</td>\n",
       "      <td>161.6</td>\n",
       "      <td>123</td>\n",
       "      <td>27.47</td>\n",
       "      <td>195.5</td>\n",
       "      <td>103</td>\n",
       "      <td>16.62</td>\n",
       "      <td>254.4</td>\n",
       "      <td>103</td>\n",
       "      <td>11.45</td>\n",
       "      <td>13.7</td>\n",
       "      <td>3</td>\n",
       "      <td>3.70</td>\n",
       "      <td>1</td>\n",
       "    </tr>\n",
       "    <tr>\n",
       "      <th>2</th>\n",
       "      <td>137</td>\n",
       "      <td>1</td>\n",
       "      <td>0</td>\n",
       "      <td>0</td>\n",
       "      <td>0</td>\n",
       "      <td>243.4</td>\n",
       "      <td>114</td>\n",
       "      <td>41.38</td>\n",
       "      <td>121.2</td>\n",
       "      <td>110</td>\n",
       "      <td>10.30</td>\n",
       "      <td>162.6</td>\n",
       "      <td>104</td>\n",
       "      <td>7.32</td>\n",
       "      <td>12.2</td>\n",
       "      <td>5</td>\n",
       "      <td>3.29</td>\n",
       "      <td>0</td>\n",
       "    </tr>\n",
       "    <tr>\n",
       "      <th>3</th>\n",
       "      <td>84</td>\n",
       "      <td>0</td>\n",
       "      <td>1</td>\n",
       "      <td>0</td>\n",
       "      <td>0</td>\n",
       "      <td>299.4</td>\n",
       "      <td>71</td>\n",
       "      <td>50.90</td>\n",
       "      <td>61.9</td>\n",
       "      <td>88</td>\n",
       "      <td>5.26</td>\n",
       "      <td>196.9</td>\n",
       "      <td>89</td>\n",
       "      <td>8.86</td>\n",
       "      <td>6.6</td>\n",
       "      <td>7</td>\n",
       "      <td>1.78</td>\n",
       "      <td>2</td>\n",
       "    </tr>\n",
       "    <tr>\n",
       "      <th>4</th>\n",
       "      <td>75</td>\n",
       "      <td>1</td>\n",
       "      <td>1</td>\n",
       "      <td>0</td>\n",
       "      <td>0</td>\n",
       "      <td>166.7</td>\n",
       "      <td>113</td>\n",
       "      <td>28.34</td>\n",
       "      <td>148.3</td>\n",
       "      <td>122</td>\n",
       "      <td>12.61</td>\n",
       "      <td>186.9</td>\n",
       "      <td>121</td>\n",
       "      <td>8.41</td>\n",
       "      <td>10.1</td>\n",
       "      <td>3</td>\n",
       "      <td>2.73</td>\n",
       "      <td>3</td>\n",
       "    </tr>\n",
       "  </tbody>\n",
       "</table>\n",
       "</div>"
      ],
      "text/plain": [
       "   account length  area code  international plan  voice mail plan  \\\n",
       "0             128          1                   0                1   \n",
       "1             107          1                   0                1   \n",
       "2             137          1                   0                0   \n",
       "3              84          0                   1                0   \n",
       "4              75          1                   1                0   \n",
       "\n",
       "   number vmail messages  total day minutes  total day calls  \\\n",
       "0                     25              265.1              110   \n",
       "1                     26              161.6              123   \n",
       "2                      0              243.4              114   \n",
       "3                      0              299.4               71   \n",
       "4                      0              166.7              113   \n",
       "\n",
       "   total day charge  total eve minutes  total eve calls  total eve charge  \\\n",
       "0             45.07              197.4               99             16.78   \n",
       "1             27.47              195.5              103             16.62   \n",
       "2             41.38              121.2              110             10.30   \n",
       "3             50.90               61.9               88              5.26   \n",
       "4             28.34              148.3              122             12.61   \n",
       "\n",
       "   total night minutes  total night calls  total night charge  \\\n",
       "0                244.7                 91               11.01   \n",
       "1                254.4                103               11.45   \n",
       "2                162.6                104                7.32   \n",
       "3                196.9                 89                8.86   \n",
       "4                186.9                121                8.41   \n",
       "\n",
       "   total intl minutes  total intl calls  total intl charge  \\\n",
       "0                10.0                 3               2.70   \n",
       "1                13.7                 3               3.70   \n",
       "2                12.2                 5               3.29   \n",
       "3                 6.6                 7               1.78   \n",
       "4                10.1                 3               2.73   \n",
       "\n",
       "   customer service calls  \n",
       "0                       1  \n",
       "1                       1  \n",
       "2                       0  \n",
       "3                       2  \n",
       "4                       3  "
      ]
     },
     "execution_count": 7,
     "metadata": {},
     "output_type": "execute_result"
    }
   ],
   "source": [
    "df_without_target = df2.drop([\"churn\"], axis=1)\n",
    "df_without_target.head() "
   ]
  },
  {
   "cell_type": "code",
   "execution_count": 8,
   "metadata": {
    "execution": {
     "iopub.execute_input": "2020-10-10T23:28:00.579031Z",
     "iopub.status.busy": "2020-10-10T23:28:00.578144Z",
     "iopub.status.idle": "2020-10-10T23:28:00.583101Z",
     "shell.execute_reply": "2020-10-10T23:28:00.582499Z"
    },
    "papermill": {
     "duration": 0.080244,
     "end_time": "2020-10-10T23:28:00.583241",
     "exception": false,
     "start_time": "2020-10-10T23:28:00.502997",
     "status": "completed"
    },
    "tags": []
   },
   "outputs": [
    {
     "data": {
      "text/html": [
       "<div>\n",
       "<style scoped>\n",
       "    .dataframe tbody tr th:only-of-type {\n",
       "        vertical-align: middle;\n",
       "    }\n",
       "\n",
       "    .dataframe tbody tr th {\n",
       "        vertical-align: top;\n",
       "    }\n",
       "\n",
       "    .dataframe thead th {\n",
       "        text-align: right;\n",
       "    }\n",
       "</style>\n",
       "<table border=\"1\" class=\"dataframe\">\n",
       "  <thead>\n",
       "    <tr style=\"text-align: right;\">\n",
       "      <th></th>\n",
       "      <th>account length</th>\n",
       "      <th>area code</th>\n",
       "      <th>international plan</th>\n",
       "      <th>voice mail plan</th>\n",
       "      <th>number vmail messages</th>\n",
       "      <th>total day minutes</th>\n",
       "      <th>total day calls</th>\n",
       "      <th>total day charge</th>\n",
       "      <th>total eve minutes</th>\n",
       "      <th>total eve calls</th>\n",
       "      <th>total eve charge</th>\n",
       "      <th>total night minutes</th>\n",
       "      <th>total night calls</th>\n",
       "      <th>total night charge</th>\n",
       "      <th>total intl minutes</th>\n",
       "      <th>total intl calls</th>\n",
       "      <th>total intl charge</th>\n",
       "      <th>customer service calls</th>\n",
       "    </tr>\n",
       "  </thead>\n",
       "  <tbody>\n",
       "    <tr>\n",
       "      <th>0</th>\n",
       "      <td>128</td>\n",
       "      <td>1</td>\n",
       "      <td>0</td>\n",
       "      <td>1</td>\n",
       "      <td>25</td>\n",
       "      <td>265.1</td>\n",
       "      <td>110</td>\n",
       "      <td>45.07</td>\n",
       "      <td>197.4</td>\n",
       "      <td>99</td>\n",
       "      <td>16.78</td>\n",
       "      <td>244.7</td>\n",
       "      <td>91</td>\n",
       "      <td>11.01</td>\n",
       "      <td>10.0</td>\n",
       "      <td>3</td>\n",
       "      <td>2.70</td>\n",
       "      <td>1</td>\n",
       "    </tr>\n",
       "    <tr>\n",
       "      <th>1</th>\n",
       "      <td>107</td>\n",
       "      <td>1</td>\n",
       "      <td>0</td>\n",
       "      <td>1</td>\n",
       "      <td>26</td>\n",
       "      <td>161.6</td>\n",
       "      <td>123</td>\n",
       "      <td>27.47</td>\n",
       "      <td>195.5</td>\n",
       "      <td>103</td>\n",
       "      <td>16.62</td>\n",
       "      <td>254.4</td>\n",
       "      <td>103</td>\n",
       "      <td>11.45</td>\n",
       "      <td>13.7</td>\n",
       "      <td>3</td>\n",
       "      <td>3.70</td>\n",
       "      <td>1</td>\n",
       "    </tr>\n",
       "    <tr>\n",
       "      <th>2</th>\n",
       "      <td>137</td>\n",
       "      <td>1</td>\n",
       "      <td>0</td>\n",
       "      <td>0</td>\n",
       "      <td>0</td>\n",
       "      <td>243.4</td>\n",
       "      <td>114</td>\n",
       "      <td>41.38</td>\n",
       "      <td>121.2</td>\n",
       "      <td>110</td>\n",
       "      <td>10.30</td>\n",
       "      <td>162.6</td>\n",
       "      <td>104</td>\n",
       "      <td>7.32</td>\n",
       "      <td>12.2</td>\n",
       "      <td>5</td>\n",
       "      <td>3.29</td>\n",
       "      <td>0</td>\n",
       "    </tr>\n",
       "    <tr>\n",
       "      <th>3</th>\n",
       "      <td>84</td>\n",
       "      <td>0</td>\n",
       "      <td>1</td>\n",
       "      <td>0</td>\n",
       "      <td>0</td>\n",
       "      <td>299.4</td>\n",
       "      <td>71</td>\n",
       "      <td>50.90</td>\n",
       "      <td>61.9</td>\n",
       "      <td>88</td>\n",
       "      <td>5.26</td>\n",
       "      <td>196.9</td>\n",
       "      <td>89</td>\n",
       "      <td>8.86</td>\n",
       "      <td>6.6</td>\n",
       "      <td>7</td>\n",
       "      <td>1.78</td>\n",
       "      <td>2</td>\n",
       "    </tr>\n",
       "    <tr>\n",
       "      <th>4</th>\n",
       "      <td>75</td>\n",
       "      <td>1</td>\n",
       "      <td>1</td>\n",
       "      <td>0</td>\n",
       "      <td>0</td>\n",
       "      <td>166.7</td>\n",
       "      <td>113</td>\n",
       "      <td>28.34</td>\n",
       "      <td>148.3</td>\n",
       "      <td>122</td>\n",
       "      <td>12.61</td>\n",
       "      <td>186.9</td>\n",
       "      <td>121</td>\n",
       "      <td>8.41</td>\n",
       "      <td>10.1</td>\n",
       "      <td>3</td>\n",
       "      <td>2.73</td>\n",
       "      <td>3</td>\n",
       "    </tr>\n",
       "  </tbody>\n",
       "</table>\n",
       "</div>"
      ],
      "text/plain": [
       "   account length  area code  international plan  voice mail plan  \\\n",
       "0             128          1                   0                1   \n",
       "1             107          1                   0                1   \n",
       "2             137          1                   0                0   \n",
       "3              84          0                   1                0   \n",
       "4              75          1                   1                0   \n",
       "\n",
       "   number vmail messages  total day minutes  total day calls  \\\n",
       "0                     25              265.1              110   \n",
       "1                     26              161.6              123   \n",
       "2                      0              243.4              114   \n",
       "3                      0              299.4               71   \n",
       "4                      0              166.7              113   \n",
       "\n",
       "   total day charge  total eve minutes  total eve calls  total eve charge  \\\n",
       "0             45.07              197.4               99             16.78   \n",
       "1             27.47              195.5              103             16.62   \n",
       "2             41.38              121.2              110             10.30   \n",
       "3             50.90               61.9               88              5.26   \n",
       "4             28.34              148.3              122             12.61   \n",
       "\n",
       "   total night minutes  total night calls  total night charge  \\\n",
       "0                244.7                 91               11.01   \n",
       "1                254.4                103               11.45   \n",
       "2                162.6                104                7.32   \n",
       "3                196.9                 89                8.86   \n",
       "4                186.9                121                8.41   \n",
       "\n",
       "   total intl minutes  total intl calls  total intl charge  \\\n",
       "0                10.0                 3               2.70   \n",
       "1                13.7                 3               3.70   \n",
       "2                12.2                 5               3.29   \n",
       "3                 6.6                 7               1.78   \n",
       "4                10.1                 3               2.73   \n",
       "\n",
       "   customer service calls  \n",
       "0                       1  \n",
       "1                       1  \n",
       "2                       0  \n",
       "3                       2  \n",
       "4                       3  "
      ]
     },
     "execution_count": 8,
     "metadata": {},
     "output_type": "execute_result"
    }
   ],
   "source": [
    "X = df_without_target\n",
    "X.head()"
   ]
  },
  {
   "cell_type": "code",
   "execution_count": 9,
   "metadata": {
    "execution": {
     "iopub.execute_input": "2020-10-10T23:28:00.697794Z",
     "iopub.status.busy": "2020-10-10T23:28:00.696978Z",
     "iopub.status.idle": "2020-10-10T23:28:00.842372Z",
     "shell.execute_reply": "2020-10-10T23:28:00.841589Z"
    },
    "papermill": {
     "duration": 0.205368,
     "end_time": "2020-10-10T23:28:00.842502",
     "exception": false,
     "start_time": "2020-10-10T23:28:00.637134",
     "status": "completed"
    },
    "tags": []
   },
   "outputs": [],
   "source": [
    "from sklearn.model_selection import train_test_split\n",
    "\n",
    "y = df2[\"churn\"]\n",
    "\n",
    "X_train, X_valid, y_train, y_valid = train_test_split(X, y, test_size = 0.2, random_state=2019)"
   ]
  },
  {
   "cell_type": "code",
   "execution_count": 10,
   "metadata": {
    "execution": {
     "iopub.execute_input": "2020-10-10T23:28:00.959314Z",
     "iopub.status.busy": "2020-10-10T23:28:00.958452Z",
     "iopub.status.idle": "2020-10-10T23:28:01.203000Z",
     "shell.execute_reply": "2020-10-10T23:28:01.202065Z"
    },
    "papermill": {
     "duration": 0.306849,
     "end_time": "2020-10-10T23:28:01.203143",
     "exception": false,
     "start_time": "2020-10-10T23:28:00.896294",
     "status": "completed"
    },
    "tags": []
   },
   "outputs": [
    {
     "data": {
      "text/plain": [
       "0.5838509316770186"
      ]
     },
     "execution_count": 10,
     "metadata": {},
     "output_type": "execute_result"
    }
   ],
   "source": [
    "from sklearn.tree import DecisionTreeClassifier\n",
    "from sklearn.metrics import f1_score\n",
    "\n",
    "tree = DecisionTreeClassifier(max_depth=3, random_state=2019)\n",
    "tree.fit(X_train, y_train)\n",
    "y_pred = tree.predict(X_valid)\n",
    "f1_score(y_valid, y_pred)"
   ]
  },
  {
   "cell_type": "code",
   "execution_count": 11,
   "metadata": {
    "execution": {
     "iopub.execute_input": "2020-10-10T23:28:01.336166Z",
     "iopub.status.busy": "2020-10-10T23:28:01.335446Z",
     "iopub.status.idle": "2020-10-10T23:28:01.338935Z",
     "shell.execute_reply": "2020-10-10T23:28:01.338280Z"
    },
    "papermill": {
     "duration": 0.070961,
     "end_time": "2020-10-10T23:28:01.339067",
     "exception": false,
     "start_time": "2020-10-10T23:28:01.268106",
     "status": "completed"
    },
    "tags": []
   },
   "outputs": [],
   "source": [
    "from sklearn.model_selection import KFold\n",
    "kf = KFold(n_splits = 5, shuffle = True, random_state = 42)"
   ]
  },
  {
   "cell_type": "code",
   "execution_count": 12,
   "metadata": {
    "execution": {
     "iopub.execute_input": "2020-10-10T23:28:01.458854Z",
     "iopub.status.busy": "2020-10-10T23:28:01.457726Z",
     "iopub.status.idle": "2020-10-10T23:28:04.313778Z",
     "shell.execute_reply": "2020-10-10T23:28:04.313117Z"
    },
    "papermill": {
     "duration": 2.920215,
     "end_time": "2020-10-10T23:28:04.313902",
     "exception": false,
     "start_time": "2020-10-10T23:28:01.393687",
     "status": "completed"
    },
    "tags": []
   },
   "outputs": [
    {
     "data": {
      "text/plain": [
       "GridSearchCV(cv=KFold(n_splits=5, random_state=42, shuffle=True),\n",
       "             estimator=DecisionTreeClassifier(max_depth=3, random_state=2019),\n",
       "             param_grid={'max_depth': array([ 2,  3,  4,  5,  6,  7,  8,  9, 10, 11, 12, 13, 14, 15, 16, 17, 18,\n",
       "       19])},\n",
       "             scoring='f1')"
      ]
     },
     "execution_count": 12,
     "metadata": {},
     "output_type": "execute_result"
    }
   ],
   "source": [
    "from sklearn.model_selection import GridSearchCV\n",
    "\n",
    "tree_params = {'max_depth': np.arange(2, 20)}\n",
    "\n",
    "tree_grid_depth = GridSearchCV(tree, tree_params, cv=kf, scoring='f1')\n",
    "tree_grid_depth.fit(X_train, y_train)"
   ]
  },
  {
   "cell_type": "code",
   "execution_count": 13,
   "metadata": {
    "execution": {
     "iopub.execute_input": "2020-10-10T23:28:04.429833Z",
     "iopub.status.busy": "2020-10-10T23:28:04.428987Z",
     "iopub.status.idle": "2020-10-10T23:28:04.433728Z",
     "shell.execute_reply": "2020-10-10T23:28:04.433005Z"
    },
    "papermill": {
     "duration": 0.064814,
     "end_time": "2020-10-10T23:28:04.433858",
     "exception": false,
     "start_time": "2020-10-10T23:28:04.369044",
     "status": "completed"
    },
    "tags": []
   },
   "outputs": [
    {
     "data": {
      "text/plain": [
       "{'max_depth': 6}"
      ]
     },
     "execution_count": 13,
     "metadata": {},
     "output_type": "execute_result"
    }
   ],
   "source": [
    "tree_grid_depth.best_params_"
   ]
  },
  {
   "cell_type": "code",
   "execution_count": 14,
   "metadata": {
    "execution": {
     "iopub.execute_input": "2020-10-10T23:28:04.556930Z",
     "iopub.status.busy": "2020-10-10T23:28:04.555926Z",
     "iopub.status.idle": "2020-10-10T23:28:04.560909Z",
     "shell.execute_reply": "2020-10-10T23:28:04.560335Z"
    },
    "papermill": {
     "duration": 0.067092,
     "end_time": "2020-10-10T23:28:04.561064",
     "exception": false,
     "start_time": "2020-10-10T23:28:04.493972",
     "status": "completed"
    },
    "tags": []
   },
   "outputs": [
    {
     "data": {
      "text/plain": [
       "0.7665506255740062"
      ]
     },
     "execution_count": 14,
     "metadata": {},
     "output_type": "execute_result"
    }
   ],
   "source": [
    "tree_grid_depth.best_score_"
   ]
  },
  {
   "cell_type": "code",
   "execution_count": 15,
   "metadata": {
    "execution": {
     "iopub.execute_input": "2020-10-10T23:28:04.688559Z",
     "iopub.status.busy": "2020-10-10T23:28:04.687783Z",
     "iopub.status.idle": "2020-10-10T23:28:04.967356Z",
     "shell.execute_reply": "2020-10-10T23:28:04.966715Z"
    },
    "papermill": {
     "duration": 0.350189,
     "end_time": "2020-10-10T23:28:04.967480",
     "exception": false,
     "start_time": "2020-10-10T23:28:04.617291",
     "status": "completed"
    },
    "tags": []
   },
   "outputs": [
    {
     "data": {
      "text/plain": [
       "Text(0, 0.5, 'f1_score')"
      ]
     },
     "execution_count": 15,
     "metadata": {},
     "output_type": "execute_result"
    },
    {
     "data": {
      "image/png": "[encoded data removed]",
      "text/plain": [
       "<Figure size 432x288 with 2 Axes>"
      ]
     },
     "metadata": {
      "needs_background": "light"
     },
     "output_type": "display_data"
    }
   ],
   "source": [
    "import matplotlib.pyplot as plt\n",
    "fig, ax = plt.subplots(nrows=1, ncols=2, sharey=True)\n",
    "\n",
    "ax[0].plot(tree_params['max_depth'], tree_grid_depth.cv_results_['mean_test_score']) \n",
    "ax[0].set_xlabel('max_depth')\n",
    "ax[0].set_ylabel('f1_score')"
   ]
  },
  {
   "cell_type": "code",
   "execution_count": 16,
   "metadata": {
    "execution": {
     "iopub.execute_input": "2020-10-10T23:28:05.100261Z",
     "iopub.status.busy": "2020-10-10T23:28:05.099478Z",
     "iopub.status.idle": "2020-10-10T23:28:07.310438Z",
     "shell.execute_reply": "2020-10-10T23:28:07.310983Z"
    },
    "papermill": {
     "duration": 2.285616,
     "end_time": "2020-10-10T23:28:07.311147",
     "exception": false,
     "start_time": "2020-10-10T23:28:05.025531",
     "status": "completed"
    },
    "tags": []
   },
   "outputs": [
    {
     "data": {
      "text/plain": [
       "GridSearchCV(cv=KFold(n_splits=5, random_state=42, shuffle=True),\n",
       "             estimator=DecisionTreeClassifier(max_depth=6, random_state=2019),\n",
       "             param_grid={'min_samples_split': array([ 2,  3,  4,  5,  6,  7,  8,  9, 10, 11, 12, 13, 14, 15, 16, 17, 18,\n",
       "       19])},\n",
       "             scoring='f1')"
      ]
     },
     "execution_count": 16,
     "metadata": {},
     "output_type": "execute_result"
    }
   ],
   "source": [
    "tree = DecisionTreeClassifier(max_depth=6, random_state=2019)\n",
    "tree_params = {'min_samples_split': np.arange(2, 20)}\n",
    "\n",
    "tree_grid_split = GridSearchCV(tree, tree_params, cv=kf, scoring='f1')\n",
    "tree_grid_split.fit(X_train, y_train)"
   ]
  },
  {
   "cell_type": "code",
   "execution_count": 17,
   "metadata": {
    "execution": {
     "iopub.execute_input": "2020-10-10T23:28:07.437851Z",
     "iopub.status.busy": "2020-10-10T23:28:07.437012Z",
     "iopub.status.idle": "2020-10-10T23:28:07.441628Z",
     "shell.execute_reply": "2020-10-10T23:28:07.440866Z"
    },
    "papermill": {
     "duration": 0.068155,
     "end_time": "2020-10-10T23:28:07.441753",
     "exception": false,
     "start_time": "2020-10-10T23:28:07.373598",
     "status": "completed"
    },
    "tags": []
   },
   "outputs": [
    {
     "data": {
      "text/plain": [
       "{'min_samples_split': 2}"
      ]
     },
     "execution_count": 17,
     "metadata": {},
     "output_type": "execute_result"
    }
   ],
   "source": [
    "tree_grid_split.best_params_"
   ]
  },
  {
   "cell_type": "code",
   "execution_count": 18,
   "metadata": {
    "execution": {
     "iopub.execute_input": "2020-10-10T23:28:07.568489Z",
     "iopub.status.busy": "2020-10-10T23:28:07.567620Z",
     "iopub.status.idle": "2020-10-10T23:28:07.572546Z",
     "shell.execute_reply": "2020-10-10T23:28:07.571919Z"
    },
    "papermill": {
     "duration": 0.0703,
     "end_time": "2020-10-10T23:28:07.572686",
     "exception": false,
     "start_time": "2020-10-10T23:28:07.502386",
     "status": "completed"
    },
    "tags": []
   },
   "outputs": [
    {
     "data": {
      "text/plain": [
       "0.7665506255740062"
      ]
     },
     "execution_count": 18,
     "metadata": {},
     "output_type": "execute_result"
    }
   ],
   "source": [
    "tree_grid_split.best_score_"
   ]
  },
  {
   "cell_type": "code",
   "execution_count": 19,
   "metadata": {
    "execution": {
     "iopub.execute_input": "2020-10-10T23:28:07.707647Z",
     "iopub.status.busy": "2020-10-10T23:28:07.699308Z",
     "iopub.status.idle": "2020-10-10T23:28:07.977289Z",
     "shell.execute_reply": "2020-10-10T23:28:07.976499Z"
    },
    "papermill": {
     "duration": 0.345352,
     "end_time": "2020-10-10T23:28:07.977429",
     "exception": false,
     "start_time": "2020-10-10T23:28:07.632077",
     "status": "completed"
    },
    "tags": []
   },
   "outputs": [
    {
     "data": {
      "text/plain": [
       "Text(0, 0.5, 'f1_score')"
      ]
     },
     "execution_count": 19,
     "metadata": {},
     "output_type": "execute_result"
    },
    {
     "data": {
      "image/png": "[encoded data removed]",
      "text/plain": [
       "<Figure size 432x288 with 2 Axes>"
      ]
     },
     "metadata": {
      "needs_background": "light"
     },
     "output_type": "display_data"
    }
   ],
   "source": [
    "fig, ax = plt.subplots(nrows=1, ncols=2, sharey=True)\n",
    "\n",
    "ax[0].plot(tree_params['min_samples_split'], tree_grid_split.cv_results_['mean_test_score']) \n",
    "ax[0].set_xlabel('min_samples_split')\n",
    "ax[0].set_ylabel('f1_score')"
   ]
  },
  {
   "cell_type": "code",
   "execution_count": 20,
   "metadata": {
    "execution": {
     "iopub.execute_input": "2020-10-10T23:28:08.112334Z",
     "iopub.status.busy": "2020-10-10T23:28:08.111556Z",
     "iopub.status.idle": "2020-10-10T23:28:10.645500Z",
     "shell.execute_reply": "2020-10-10T23:28:10.644750Z"
    },
    "papermill": {
     "duration": 2.606244,
     "end_time": "2020-10-10T23:28:10.645627",
     "exception": false,
     "start_time": "2020-10-10T23:28:08.039383",
     "status": "completed"
    },
    "tags": []
   },
   "outputs": [
    {
     "data": {
      "text/plain": [
       "GridSearchCV(cv=KFold(n_splits=5, random_state=42, shuffle=True),\n",
       "             estimator=DecisionTreeClassifier(max_depth=8, random_state=2019),\n",
       "             param_grid={'min_samples_leaf': array([ 2,  3,  4,  5,  6,  7,  8,  9, 10, 11, 12, 13, 14, 15, 16, 17, 18,\n",
       "       19])},\n",
       "             scoring='f1')"
      ]
     },
     "execution_count": 20,
     "metadata": {},
     "output_type": "execute_result"
    }
   ],
   "source": [
    "tree = DecisionTreeClassifier(max_depth=8, min_samples_split=2, random_state=2019)\n",
    "tree_params = {'min_samples_leaf': np.arange(2, 20)}\n",
    "\n",
    "tree_grid_leaf = GridSearchCV(tree, tree_params, cv=kf, scoring='f1')\n",
    "tree_grid_leaf.fit(X_train, y_train)"
   ]
  },
  {
   "cell_type": "code",
   "execution_count": 21,
   "metadata": {
    "execution": {
     "iopub.execute_input": "2020-10-10T23:28:10.775496Z",
     "iopub.status.busy": "2020-10-10T23:28:10.774467Z",
     "iopub.status.idle": "2020-10-10T23:28:10.779494Z",
     "shell.execute_reply": "2020-10-10T23:28:10.778767Z"
    },
    "papermill": {
     "duration": 0.071962,
     "end_time": "2020-10-10T23:28:10.779619",
     "exception": false,
     "start_time": "2020-10-10T23:28:10.707657",
     "status": "completed"
    },
    "tags": []
   },
   "outputs": [
    {
     "data": {
      "text/plain": [
       "{'min_samples_leaf': 16}"
      ]
     },
     "execution_count": 21,
     "metadata": {},
     "output_type": "execute_result"
    }
   ],
   "source": [
    "tree_grid_leaf.best_params_"
   ]
  },
  {
   "cell_type": "code",
   "execution_count": 22,
   "metadata": {
    "execution": {
     "iopub.execute_input": "2020-10-10T23:28:10.910510Z",
     "iopub.status.busy": "2020-10-10T23:28:10.909190Z",
     "iopub.status.idle": "2020-10-10T23:28:10.914317Z",
     "shell.execute_reply": "2020-10-10T23:28:10.913704Z"
    },
    "papermill": {
     "duration": 0.072623,
     "end_time": "2020-10-10T23:28:10.914458",
     "exception": false,
     "start_time": "2020-10-10T23:28:10.841835",
     "status": "completed"
    },
    "tags": []
   },
   "outputs": [
    {
     "data": {
      "text/plain": [
       "0.7634225138921636"
      ]
     },
     "execution_count": 22,
     "metadata": {},
     "output_type": "execute_result"
    }
   ],
   "source": [
    "tree_grid_leaf.best_score_"
   ]
  },
  {
   "cell_type": "code",
   "execution_count": 23,
   "metadata": {
    "execution": {
     "iopub.execute_input": "2020-10-10T23:28:11.066895Z",
     "iopub.status.busy": "2020-10-10T23:28:11.059648Z",
     "iopub.status.idle": "2020-10-10T23:28:11.354768Z",
     "shell.execute_reply": "2020-10-10T23:28:11.354091Z"
    },
    "papermill": {
     "duration": 0.374471,
     "end_time": "2020-10-10T23:28:11.354898",
     "exception": false,
     "start_time": "2020-10-10T23:28:10.980427",
     "status": "completed"
    },
    "tags": []
   },
   "outputs": [
    {
     "data": {
      "text/plain": [
       "Text(0, 0.5, 'f1_score')"
      ]
     },
     "execution_count": 23,
     "metadata": {},
     "output_type": "execute_result"
    },
    {
     "data": {
      "image/png": "[encoded data removed]",
      "text/plain": [
       "<Figure size 432x288 with 2 Axes>"
      ]
     },
     "metadata": {
      "needs_background": "light"
     },
     "output_type": "display_data"
    }
   ],
   "source": [
    "fig, ax = plt.subplots(nrows=1, ncols=2, sharey=True)\n",
    "\n",
    "ax[0].plot(tree_params['min_samples_leaf'], tree_grid_leaf.cv_results_['mean_test_score']) \n",
    "ax[0].set_xlabel('min_samples_leaf')\n",
    "ax[0].set_ylabel('f1_score')"
   ]
  },
  {
   "cell_type": "code",
   "execution_count": 24,
   "metadata": {
    "execution": {
     "iopub.execute_input": "2020-10-10T23:28:11.495361Z",
     "iopub.status.busy": "2020-10-10T23:28:11.494135Z",
     "iopub.status.idle": "2020-10-10T23:28:13.074149Z",
     "shell.execute_reply": "2020-10-10T23:28:13.073413Z"
    },
    "papermill": {
     "duration": 1.654505,
     "end_time": "2020-10-10T23:28:13.074294",
     "exception": false,
     "start_time": "2020-10-10T23:28:11.419789",
     "status": "completed"
    },
    "tags": []
   },
   "outputs": [
    {
     "data": {
      "text/plain": [
       "GridSearchCV(cv=KFold(n_splits=5, random_state=42, shuffle=True),\n",
       "             estimator=DecisionTreeClassifier(max_depth=8, min_samples_leaf=16,\n",
       "                                              random_state=2019),\n",
       "             param_grid={'max_features': array([ 2,  3,  4,  5,  6,  7,  8,  9, 10, 11, 12, 13, 14, 15, 16, 17])},\n",
       "             scoring='f1')"
      ]
     },
     "execution_count": 24,
     "metadata": {},
     "output_type": "execute_result"
    }
   ],
   "source": [
    "tree = DecisionTreeClassifier(max_depth=8, min_samples_split=2, min_samples_leaf=16, random_state=2019)\n",
    "tree_params = {'max_features': np.arange(2, 18)}\n",
    "\n",
    "tree_grid_features = GridSearchCV(tree, tree_params, cv=kf, scoring='f1')\n",
    "tree_grid_features.fit(X_train, y_train)"
   ]
  },
  {
   "cell_type": "code",
   "execution_count": 25,
   "metadata": {
    "execution": {
     "iopub.execute_input": "2020-10-10T23:28:13.219153Z",
     "iopub.status.busy": "2020-10-10T23:28:13.218043Z",
     "iopub.status.idle": "2020-10-10T23:28:13.222055Z",
     "shell.execute_reply": "2020-10-10T23:28:13.222603Z"
    },
    "papermill": {
     "duration": 0.077026,
     "end_time": "2020-10-10T23:28:13.222776",
     "exception": false,
     "start_time": "2020-10-10T23:28:13.145750",
     "status": "completed"
    },
    "tags": []
   },
   "outputs": [
    {
     "data": {
      "text/plain": [
       "{'max_features': 13}"
      ]
     },
     "execution_count": 25,
     "metadata": {},
     "output_type": "execute_result"
    }
   ],
   "source": [
    "tree_grid_features.best_params_"
   ]
  },
  {
   "cell_type": "code",
   "execution_count": 26,
   "metadata": {
    "execution": {
     "iopub.execute_input": "2020-10-10T23:28:13.362322Z",
     "iopub.status.busy": "2020-10-10T23:28:13.361291Z",
     "iopub.status.idle": "2020-10-10T23:28:13.366449Z",
     "shell.execute_reply": "2020-10-10T23:28:13.365694Z"
    },
    "papermill": {
     "duration": 0.076421,
     "end_time": "2020-10-10T23:28:13.366574",
     "exception": false,
     "start_time": "2020-10-10T23:28:13.290153",
     "status": "completed"
    },
    "tags": []
   },
   "outputs": [
    {
     "data": {
      "text/plain": [
       "0.7634225138921636"
      ]
     },
     "execution_count": 26,
     "metadata": {},
     "output_type": "execute_result"
    }
   ],
   "source": [
    "tree_grid_features.best_score_"
   ]
  },
  {
   "cell_type": "code",
   "execution_count": 27,
   "metadata": {
    "execution": {
     "iopub.execute_input": "2020-10-10T23:28:13.520459Z",
     "iopub.status.busy": "2020-10-10T23:28:13.513137Z",
     "iopub.status.idle": "2020-10-10T23:28:13.794838Z",
     "shell.execute_reply": "2020-10-10T23:28:13.795538Z"
    },
    "papermill": {
     "duration": 0.361031,
     "end_time": "2020-10-10T23:28:13.795692",
     "exception": false,
     "start_time": "2020-10-10T23:28:13.434661",
     "status": "completed"
    },
    "tags": []
   },
   "outputs": [
    {
     "data": {
      "text/plain": [
       "Text(0, 0.5, 'f1_score')"
      ]
     },
     "execution_count": 27,
     "metadata": {},
     "output_type": "execute_result"
    },
    {
     "data": {
      "image/png": "[encoded data removed]",
      "text/plain": [
       "<Figure size 432x288 with 2 Axes>"
      ]
     },
     "metadata": {
      "needs_background": "light"
     },
     "output_type": "display_data"
    }
   ],
   "source": [
    "fig, ax = plt.subplots(nrows=1, ncols=2, sharey=True)\n",
    "\n",
    "ax[0].plot(tree_params['max_features'], tree_grid_features.cv_results_['mean_test_score']) \n",
    "ax[0].set_xlabel('max_features')\n",
    "ax[0].set_ylabel('f1_score')"
   ]
  },
  {
   "cell_type": "markdown",
   "metadata": {
    "papermill": {
     "duration": 0.067707,
     "end_time": "2020-10-10T23:28:13.930842",
     "exception": false,
     "start_time": "2020-10-10T23:28:13.863135",
     "status": "completed"
    },
    "tags": []
   },
   "source": [
    "Можно сделать вывод о том, что один из лучших наборов параметров это: max_depth=6, min_samples_leaf=16, min_samples_split=2, max_features=13."
   ]
  },
  {
   "cell_type": "markdown",
   "metadata": {
    "papermill": {
     "duration": 0.069375,
     "end_time": "2020-10-10T23:28:14.067796",
     "exception": false,
     "start_time": "2020-10-10T23:28:13.998421",
     "status": "completed"
    },
    "tags": []
   },
   "source": [
    "Для удобства просмотра изображения дерева, уменьшим максимальную глубину до 3."
   ]
  },
  {
   "cell_type": "code",
   "execution_count": 28,
   "metadata": {
    "execution": {
     "iopub.execute_input": "2020-10-10T23:28:14.215543Z",
     "iopub.status.busy": "2020-10-10T23:28:14.214709Z",
     "iopub.status.idle": "2020-10-10T23:28:14.245867Z",
     "shell.execute_reply": "2020-10-10T23:28:14.245157Z"
    },
    "papermill": {
     "duration": 0.108911,
     "end_time": "2020-10-10T23:28:14.246000",
     "exception": false,
     "start_time": "2020-10-10T23:28:14.137089",
     "status": "completed"
    },
    "tags": []
   },
   "outputs": [
    {
     "data": {
      "text/plain": [
       "DecisionTreeClassifier(max_depth=3, max_features=13, min_samples_leaf=16)"
      ]
     },
     "execution_count": 28,
     "metadata": {},
     "output_type": "execute_result"
    }
   ],
   "source": [
    "best_tree = DecisionTreeClassifier(max_depth = 6, min_samples_split = 2, min_samples_leaf = 16, max_features = 13)\n",
    "best_tree.fit(X_train, y_train)\n",
    "mock_best_tree = DecisionTreeClassifier(max_depth = 3, min_samples_split = 2, min_samples_leaf = 16, max_features = 13)\n",
    "mock_best_tree.fit(X_train, y_train)"
   ]
  },
  {
   "cell_type": "code",
   "execution_count": 29,
   "metadata": {
    "execution": {
     "iopub.execute_input": "2020-10-10T23:28:14.392544Z",
     "iopub.status.busy": "2020-10-10T23:28:14.391712Z",
     "iopub.status.idle": "2020-10-10T23:28:14.402715Z",
     "shell.execute_reply": "2020-10-10T23:28:14.401716Z"
    },
    "papermill": {
     "duration": 0.086634,
     "end_time": "2020-10-10T23:28:14.402917",
     "exception": false,
     "start_time": "2020-10-10T23:28:14.316283",
     "status": "completed"
    },
    "tags": []
   },
   "outputs": [
    {
     "name": "stdout",
     "output_type": "stream",
     "text": [
      "digraph Tree {\n",
      "node [shape=box] ;\n",
      "0 [label=\"total day minutes <= 264.45\\ngini = 0.244\\nsamples = 2666\\nvalue = [2286, 380]\"] ;\n",
      "1 [label=\"customer service calls <= 3.5\\ngini = 0.198\\nsamples = 2494\\nvalue = [2216, 278]\"] ;\n",
      "0 -> 1 [labeldistance=2.5, labelangle=45, headlabel=\"True\"] ;\n",
      "2 [label=\"total day charge <= 37.715\\ngini = 0.142\\nsamples = 2294\\nvalue = [2118, 176]\"] ;\n",
      "1 -> 2 ;\n",
      "3 [label=\"gini = 0.1\\nsamples = 1922\\nvalue = [1821, 101]\"] ;\n",
      "2 -> 3 ;\n",
      "4 [label=\"gini = 0.322\\nsamples = 372\\nvalue = [297, 75]\"] ;\n",
      "2 -> 4 ;\n",
      "5 [label=\"total day charge <= 29.64\\ngini = 0.5\\nsamples = 200\\nvalue = [98, 102]\"] ;\n",
      "1 -> 5 ;\n",
      "6 [label=\"gini = 0.34\\nsamples = 106\\nvalue = [23, 83]\"] ;\n",
      "5 -> 6 ;\n",
      "7 [label=\"gini = 0.323\\nsamples = 94\\nvalue = [75, 19]\"] ;\n",
      "5 -> 7 ;\n",
      "8 [label=\"total eve minutes <= 149.1\\ngini = 0.483\\nsamples = 172\\nvalue = [70, 102]\"] ;\n",
      "0 -> 8 [labeldistance=2.5, labelangle=-45, headlabel=\"False\"] ;\n",
      "9 [label=\"gini = 0.111\\nsamples = 17\\nvalue = [16, 1]\"] ;\n",
      "8 -> 9 ;\n",
      "10 [label=\"number vmail messages <= 6.5\\ngini = 0.454\\nsamples = 155\\nvalue = [54, 101]\"] ;\n",
      "8 -> 10 ;\n",
      "11 [label=\"gini = 0.266\\nsamples = 114\\nvalue = [18, 96]\"] ;\n",
      "10 -> 11 ;\n",
      "12 [label=\"gini = 0.214\\nsamples = 41\\nvalue = [36, 5]\"] ;\n",
      "10 -> 12 ;\n",
      "}\n"
     ]
    }
   ],
   "source": [
    "from sklearn.tree import export_graphviz\n",
    "\n",
    "export_graphviz(mock_best_tree, out_file='tree.dot', feature_names=X.columns)\n",
    "print(open('tree.dot').read()) "
   ]
  },
  {
   "attachments": {},
   "cell_type": "markdown",
   "metadata": {
    "papermill": {
     "duration": 0.069841,
     "end_time": "2020-10-10T23:28:14.544280",
     "exception": false,
     "start_time": "2020-10-10T23:28:14.474439",
     "status": "completed"
    },
    "tags": []
   },
   "source": [
    "![](data:image/svg+xml;charset=utf-8,%3C%3Fxml%20version%3D%221.0%22%20encoding%3D%22UTF-8%22%20standalone%3D%22no%22%3F%3E%3C!DOCTYPE%20svg%20PUBLIC%20%22-%2F%2FW3C%2F%2FDTD%20SVG%201.1%2F%2FEN%22%20%22http%3A%2F%2Fwww.w3.org%2FGraphics%2FSVG%2F1.1%2FDTD%2Fsvg11.dtd%22%3E%3C!--%20Generated%20by%20graphviz%20version%202.40.1%20(20161225.0304)%0A%20--%3E%3C!--%20Title%3A%20Tree%20Pages%3A%201%20--%3E%3Csvg%20xmlns%3D%22http%3A%2F%2Fwww.w3.org%2F2000%2Fsvg%22%20xmlns%3Axlink%3D%22http%3A%2F%2Fwww.w3.org%2F1999%2Fxlink%22%20width%3D%22980pt%22%20height%3D%22400pt%22%20viewBox%3D%220.00%200.00%20980.04%20400.00%22%3E%0A%3Cg%20id%3D%22graph0%22%20class%3D%22graph%22%20transform%3D%22scale(1%201)%20rotate(0)%20translate(4%20396)%22%3E%0A%3Ctitle%3ETree%3C%2Ftitle%3E%0A%3Cpolygon%20fill%3D%22%23ffffff%22%20stroke%3D%22transparent%22%20points%3D%22-4%2C4%20-4%2C-396%20976.0356%2C-396%20976.0356%2C4%20-4%2C4%22%2F%3E%0A%3C!--%200%20--%3E%0A%3Cg%20id%3D%22node1%22%20class%3D%22node%22%3E%0A%3Ctitle%3E0%3C%2Ftitle%3E%0A%3Cpolygon%20fill%3D%22none%22%20stroke%3D%22%23000000%22%20points%3D%22615.4892%2C-392.1003%20442.0464%2C-392.1003%20442.0464%2C-316.6997%20615.4892%2C-316.6997%20615.4892%2C-392.1003%22%2F%3E%0A%3Ctext%20text-anchor%3D%22middle%22%20x%3D%22528.7678%22%20y%3D%22-375.4%22%20font-family%3D%22Times%2Cserif%22%20font-size%3D%2214.00%22%20fill%3D%22%23000000%22%3Etotal%20day%20minutes%20%26lt%3B%3D%20264.45%3C%2Ftext%3E%0A%3Ctext%20text-anchor%3D%22middle%22%20x%3D%22528.7678%22%20y%3D%22-358.6%22%20font-family%3D%22Times%2Cserif%22%20font-size%3D%2214.00%22%20fill%3D%22%23000000%22%3Egini%20%3D%200.244%3C%2Ftext%3E%0A%3Ctext%20text-anchor%3D%22middle%22%20x%3D%22528.7678%22%20y%3D%22-341.8%22%20font-family%3D%22Times%2Cserif%22%20font-size%3D%2214.00%22%20fill%3D%22%23000000%22%3Esamples%20%3D%202666%3C%2Ftext%3E%0A%3Ctext%20text-anchor%3D%22middle%22%20x%3D%22528.7678%22%20y%3D%22-325%22%20font-family%3D%22Times%2Cserif%22%20font-size%3D%2214.00%22%20fill%3D%22%23000000%22%3Evalue%20%3D%20%5B2286%2C%20380%5D%3C%2Ftext%3E%0A%3C%2Fg%3E%0A%3C!--%201%20--%3E%0A%3Cg%20id%3D%22node2%22%20class%3D%22node%22%3E%0A%3Ctitle%3E1%3C%2Ftitle%3E%0A%3Cpolygon%20fill%3D%22none%22%20stroke%3D%22%23000000%22%20points%3D%22487.6672%2C-280.9003%20307.8684%2C-280.9003%20307.8684%2C-205.4997%20487.6672%2C-205.4997%20487.6672%2C-280.9003%22%2F%3E%0A%3Ctext%20text-anchor%3D%22middle%22%20x%3D%22397.7678%22%20y%3D%22-264.2%22%20font-family%3D%22Times%2Cserif%22%20font-size%3D%2214.00%22%20fill%3D%22%23000000%22%3Ecustomer%20service%20calls%20%26lt%3B%3D%203.5%3C%2Ftext%3E%0A%3Ctext%20text-anchor%3D%22middle%22%20x%3D%22397.7678%22%20y%3D%22-247.4%22%20font-family%3D%22Times%2Cserif%22%20font-size%3D%2214.00%22%20fill%3D%22%23000000%22%3Egini%20%3D%200.198%3C%2Ftext%3E%0A%3Ctext%20text-anchor%3D%22middle%22%20x%3D%22397.7678%22%20y%3D%22-230.6%22%20font-family%3D%22Times%2Cserif%22%20font-size%3D%2214.00%22%20fill%3D%22%23000000%22%3Esamples%20%3D%202494%3C%2Ftext%3E%0A%3Ctext%20text-anchor%3D%22middle%22%20x%3D%22397.7678%22%20y%3D%22-213.8%22%20font-family%3D%22Times%2Cserif%22%20font-size%3D%2214.00%22%20fill%3D%22%23000000%22%3Evalue%20%3D%20%5B2216%2C%20278%5D%3C%2Ftext%3E%0A%3C%2Fg%3E%0A%3C!--%200%26%2345%3B%26gt%3B1%20--%3E%0A%3Cg%20id%3D%22edge1%22%20class%3D%22edge%22%3E%0A%3Ctitle%3E0-%26gt%3B1%3C%2Ftitle%3E%0A%3Cpath%20fill%3D%22none%22%20stroke%3D%22%23000000%22%20d%3D%22M484.4172%2C-316.7528C473.3203%2C-307.3331%20461.3161%2C-297.1433%20449.8806%2C-287.4362%22%2F%3E%0A%3Cpolygon%20fill%3D%22%23000000%22%20stroke%3D%22%23000000%22%20points%3D%22451.9615%2C-284.6116%20442.0728%2C-280.8085%20447.4315%2C-289.9482%20451.9615%2C-284.6116%22%2F%3E%0A%3Ctext%20text-anchor%3D%22middle%22%20x%3D%22444.1097%22%20y%3D%22-301.5254%22%20font-family%3D%22Times%2Cserif%22%20font-size%3D%2214.00%22%20fill%3D%22%23000000%22%3ETrue%3C%2Ftext%3E%0A%3C%2Fg%3E%0A%3C!--%208%20--%3E%0A%3Cg%20id%3D%22node9%22%20class%3D%22node%22%3E%0A%3Ctitle%3E8%3C%2Ftitle%3E%0A%3Cpolygon%20fill%3D%22none%22%20stroke%3D%22%23000000%22%20points%3D%22711.0775%2C-280.9003%20520.4581%2C-280.9003%20520.4581%2C-205.4997%20711.0775%2C-205.4997%20711.0775%2C-280.9003%22%2F%3E%0A%3Ctext%20text-anchor%3D%22middle%22%20x%3D%22615.7678%22%20y%3D%22-264.2%22%20font-family%3D%22Times%2Cserif%22%20font-size%3D%2214.00%22%20fill%3D%22%23000000%22%3Enumber%20vmail%20messages%20%26lt%3B%3D%206.5%3C%2Ftext%3E%0A%3Ctext%20text-anchor%3D%22middle%22%20x%3D%22615.7678%22%20y%3D%22-247.4%22%20font-family%3D%22Times%2Cserif%22%20font-size%3D%2214.00%22%20fill%3D%22%23000000%22%3Egini%20%3D%200.483%3C%2Ftext%3E%0A%3Ctext%20text-anchor%3D%22middle%22%20x%3D%22615.7678%22%20y%3D%22-230.6%22%20font-family%3D%22Times%2Cserif%22%20font-size%3D%2214.00%22%20fill%3D%22%23000000%22%3Esamples%20%3D%20172%3C%2Ftext%3E%0A%3Ctext%20text-anchor%3D%22middle%22%20x%3D%22615.7678%22%20y%3D%22-213.8%22%20font-family%3D%22Times%2Cserif%22%20font-size%3D%2214.00%22%20fill%3D%22%23000000%22%3Evalue%20%3D%20%5B70%2C%20102%5D%3C%2Ftext%3E%0A%3C%2Fg%3E%0A%3C!--%200%26%2345%3B%26gt%3B8%20--%3E%0A%3Cg%20id%3D%22edge8%22%20class%3D%22edge%22%3E%0A%3Ctitle%3E0-%26gt%3B8%3C%2Ftitle%3E%0A%3Cpath%20fill%3D%22none%22%20stroke%3D%22%23000000%22%20d%3D%22M558.222%2C-316.7528C565.2374%2C-307.786%20572.7988%2C-298.1213%20580.0606%2C-288.8395%22%2F%3E%0A%3Cpolygon%20fill%3D%22%23000000%22%20stroke%3D%22%23000000%22%20points%3D%22582.9385%2C-290.8411%20586.3439%2C-280.8085%20577.4253%2C-286.5278%20582.9385%2C-290.8411%22%2F%3E%0A%3Ctext%20text-anchor%3D%22middle%22%20x%3D%22589.3739%22%20y%3D%22-301.4242%22%20font-family%3D%22Times%2Cserif%22%20font-size%3D%2214.00%22%20fill%3D%22%23000000%22%3EFalse%3C%2Ftext%3E%0A%3C%2Fg%3E%0A%3C!--%202%20--%3E%0A%3Cg%20id%3D%22node3%22%20class%3D%22node%22%3E%0A%3Ctitle%3E2%3C%2Ftitle%3E%0A%3Cpolygon%20fill%3D%22none%22%20stroke%3D%22%23000000%22%20points%3D%22270.92%2C-169.7003%20116.6156%2C-169.7003%20116.6156%2C-94.2997%20270.92%2C-94.2997%20270.92%2C-169.7003%22%2F%3E%0A%3Ctext%20text-anchor%3D%22middle%22%20x%3D%22193.7678%22%20y%3D%22-153%22%20font-family%3D%22Times%2Cserif%22%20font-size%3D%2214.00%22%20fill%3D%22%23000000%22%3Einternational%20plan%20%26lt%3B%3D%200.5%3C%2Ftext%3E%0A%3Ctext%20text-anchor%3D%22middle%22%20x%3D%22193.7678%22%20y%3D%22-136.2%22%20font-family%3D%22Times%2Cserif%22%20font-size%3D%2214.00%22%20fill%3D%22%23000000%22%3Egini%20%3D%200.142%3C%2Ftext%3E%0A%3Ctext%20text-anchor%3D%22middle%22%20x%3D%22193.7678%22%20y%3D%22-119.4%22%20font-family%3D%22Times%2Cserif%22%20font-size%3D%2214.00%22%20fill%3D%22%23000000%22%3Esamples%20%3D%202294%3C%2Ftext%3E%0A%3Ctext%20text-anchor%3D%22middle%22%20x%3D%22193.7678%22%20y%3D%22-102.6%22%20font-family%3D%22Times%2Cserif%22%20font-size%3D%2214.00%22%20fill%3D%22%23000000%22%3Evalue%20%3D%20%5B2118%2C%20176%5D%3C%2Ftext%3E%0A%3C%2Fg%3E%0A%3C!--%201%26%2345%3B%26gt%3B2%20--%3E%0A%3Cg%20id%3D%22edge2%22%20class%3D%22edge%22%3E%0A%3Ctitle%3E1-%26gt%3B2%3C%2Ftitle%3E%0A%3Cpath%20fill%3D%22none%22%20stroke%3D%22%23000000%22%20d%3D%22M328.7027%2C-205.5528C310.342%2C-195.5444%20290.3863%2C-184.6666%20271.5926%2C-174.4221%22%2F%3E%0A%3Cpolygon%20fill%3D%22%23000000%22%20stroke%3D%22%23000000%22%20points%3D%22273.2172%2C-171.3215%20262.7618%2C-169.6085%20269.8669%2C-177.4677%20273.2172%2C-171.3215%22%2F%3E%0A%3C%2Fg%3E%0A%3C!--%205%20--%3E%0A%3Cg%20id%3D%22node6%22%20class%3D%22node%22%3E%0A%3Ctitle%3E5%3C%2Ftitle%3E%0A%3Cpolygon%20fill%3D%22none%22%20stroke%3D%22%23000000%22%20points%3D%22477.4627%2C-169.7003%20318.0729%2C-169.7003%20318.0729%2C-94.2997%20477.4627%2C-94.2997%20477.4627%2C-169.7003%22%2F%3E%0A%3Ctext%20text-anchor%3D%22middle%22%20x%3D%22397.7678%22%20y%3D%22-153%22%20font-family%3D%22Times%2Cserif%22%20font-size%3D%2214.00%22%20fill%3D%22%23000000%22%3Etotal%20day%20charge%20%26lt%3B%3D%2029.64%3C%2Ftext%3E%0A%3Ctext%20text-anchor%3D%22middle%22%20x%3D%22397.7678%22%20y%3D%22-136.2%22%20font-family%3D%22Times%2Cserif%22%20font-size%3D%2214.00%22%20fill%3D%22%23000000%22%3Egini%20%3D%200.5%3C%2Ftext%3E%0A%3Ctext%20text-anchor%3D%22middle%22%20x%3D%22397.7678%22%20y%3D%22-119.4%22%20font-family%3D%22Times%2Cserif%22%20font-size%3D%2214.00%22%20fill%3D%22%23000000%22%3Esamples%20%3D%20200%3C%2Ftext%3E%0A%3Ctext%20text-anchor%3D%22middle%22%20x%3D%22397.7678%22%20y%3D%22-102.6%22%20font-family%3D%22Times%2Cserif%22%20font-size%3D%2214.00%22%20fill%3D%22%23000000%22%3Evalue%20%3D%20%5B98%2C%20102%5D%3C%2Ftext%3E%0A%3C%2Fg%3E%0A%3C!--%201%26%2345%3B%26gt%3B5%20--%3E%0A%3Cg%20id%3D%22edge5%22%20class%3D%22edge%22%3E%0A%3Ctitle%3E1-%26gt%3B5%3C%2Ftitle%3E%0A%3Cpath%20fill%3D%22none%22%20stroke%3D%22%23000000%22%20d%3D%22M397.7678%2C-205.5528C397.7678%2C-197.22%20397.7678%2C-188.2845%20397.7678%2C-179.6137%22%2F%3E%0A%3Cpolygon%20fill%3D%22%23000000%22%20stroke%3D%22%23000000%22%20points%3D%22401.2679%2C-179.6084%20397.7678%2C-169.6085%20394.2679%2C-179.6085%20401.2679%2C-179.6084%22%2F%3E%0A%3C%2Fg%3E%0A%3C!--%203%20--%3E%0A%3Cg%20id%3D%22node4%22%20class%3D%22node%22%3E%0A%3Ctitle%3E3%3C%2Ftitle%3E%0A%3Cpolygon%20fill%3D%22none%22%20stroke%3D%22%23000000%22%20points%3D%22119.3043%2C-58.6014%20.2313%2C-58.6014%20.2313%2C.2014%20119.3043%2C.2014%20119.3043%2C-58.6014%22%2F%3E%0A%3Ctext%20text-anchor%3D%22middle%22%20x%3D%2259.7678%22%20y%3D%22-41.8%22%20font-family%3D%22Times%2Cserif%22%20font-size%3D%2214.00%22%20fill%3D%22%23000000%22%3Egini%20%3D%200.088%3C%2Ftext%3E%0A%3Ctext%20text-anchor%3D%22middle%22%20x%3D%2259.7678%22%20y%3D%22-25%22%20font-family%3D%22Times%2Cserif%22%20font-size%3D%2214.00%22%20fill%3D%22%23000000%22%3Esamples%20%3D%202092%3C%2Ftext%3E%0A%3Ctext%20text-anchor%3D%22middle%22%20x%3D%2259.7678%22%20y%3D%22-8.2%22%20font-family%3D%22Times%2Cserif%22%20font-size%3D%2214.00%22%20fill%3D%22%23000000%22%3Evalue%20%3D%20%5B1995%2C%2097%5D%3C%2Ftext%3E%0A%3C%2Fg%3E%0A%3C!--%202%26%2345%3B%26gt%3B3%20--%3E%0A%3Cg%20id%3D%22edge3%22%20class%3D%22edge%22%3E%0A%3Ctitle%3E2-%26gt%3B3%3C%2Ftitle%3E%0A%3Cpath%20fill%3D%22none%22%20stroke%3D%22%23000000%22%20d%3D%22M144.632%2C-94.3048C132.0098%2C-84.6215%20118.4751%2C-74.2382%20106.0052%2C-64.6717%22%2F%3E%0A%3Cpolygon%20fill%3D%22%23000000%22%20stroke%3D%22%23000000%22%20points%3D%22108.0493%2C-61.8285%2097.9847%2C-58.5186%20103.7885%2C-67.3824%20108.0493%2C-61.8285%22%2F%3E%0A%3C%2Fg%3E%0A%3C!--%204%20--%3E%0A%3Cg%20id%3D%22node5%22%20class%3D%22node%22%3E%0A%3Ctitle%3E4%3C%2Ftitle%3E%0A%3Cpolygon%20fill%3D%22none%22%20stroke%3D%22%23000000%22%20points%3D%22249.8044%2C-58.6014%20137.7312%2C-58.6014%20137.7312%2C.2014%20249.8044%2C.2014%20249.8044%2C-58.6014%22%2F%3E%0A%3Ctext%20text-anchor%3D%22middle%22%20x%3D%22193.7678%22%20y%3D%22-41.8%22%20font-family%3D%22Times%2Cserif%22%20font-size%3D%2214.00%22%20fill%3D%22%23000000%22%3Egini%20%3D%200.476%3C%2Ftext%3E%0A%3Ctext%20text-anchor%3D%22middle%22%20x%3D%22193.7678%22%20y%3D%22-25%22%20font-family%3D%22Times%2Cserif%22%20font-size%3D%2214.00%22%20fill%3D%22%23000000%22%3Esamples%20%3D%20202%3C%2Ftext%3E%0A%3Ctext%20text-anchor%3D%22middle%22%20x%3D%22193.7678%22%20y%3D%22-8.2%22%20font-family%3D%22Times%2Cserif%22%20font-size%3D%2214.00%22%20fill%3D%22%23000000%22%3Evalue%20%3D%20%5B123%2C%2079%5D%3C%2Ftext%3E%0A%3C%2Fg%3E%0A%3C!--%202%26%2345%3B%26gt%3B4%20--%3E%0A%3Cg%20id%3D%22edge4%22%20class%3D%22edge%22%3E%0A%3Ctitle%3E2-%26gt%3B4%3C%2Ftitle%3E%0A%3Cpath%20fill%3D%22none%22%20stroke%3D%22%23000000%22%20d%3D%22M193.7678%2C-94.3048C193.7678%2C-85.9126%20193.7678%2C-76.9946%20193.7678%2C-68.5382%22%2F%3E%0A%3Cpolygon%20fill%3D%22%23000000%22%20stroke%3D%22%23000000%22%20points%3D%22197.2679%2C-68.5186%20193.7678%2C-58.5186%20190.2679%2C-68.5187%20197.2679%2C-68.5186%22%2F%3E%0A%3C%2Fg%3E%0A%3C!--%206%20--%3E%0A%3Cg%20id%3D%22node7%22%20class%3D%22node%22%3E%0A%3Ctitle%3E6%3C%2Ftitle%3E%0A%3Cpolygon%20fill%3D%22none%22%20stroke%3D%22%23000000%22%20points%3D%22373.3044%2C-58.6014%20268.2312%2C-58.6014%20268.2312%2C.2014%20373.3044%2C.2014%20373.3044%2C-58.6014%22%2F%3E%0A%3Ctext%20text-anchor%3D%22middle%22%20x%3D%22320.7678%22%20y%3D%22-41.8%22%20font-family%3D%22Times%2Cserif%22%20font-size%3D%2214.00%22%20fill%3D%22%23000000%22%3Egini%20%3D%200.34%3C%2Ftext%3E%0A%3Ctext%20text-anchor%3D%22middle%22%20x%3D%22320.7678%22%20y%3D%22-25%22%20font-family%3D%22Times%2Cserif%22%20font-size%3D%2214.00%22%20fill%3D%22%23000000%22%3Esamples%20%3D%20106%3C%2Ftext%3E%0A%3Ctext%20text-anchor%3D%22middle%22%20x%3D%22320.7678%22%20y%3D%22-8.2%22%20font-family%3D%22Times%2Cserif%22%20font-size%3D%2214.00%22%20fill%3D%22%23000000%22%3Evalue%20%3D%20%5B23%2C%2083%5D%3C%2Ftext%3E%0A%3C%2Fg%3E%0A%3C!--%205%26%2345%3B%26gt%3B6%20--%3E%0A%3Cg%20id%3D%22edge6%22%20class%3D%22edge%22%3E%0A%3Ctitle%3E5-%26gt%3B6%3C%2Ftitle%3E%0A%3Cpath%20fill%3D%22none%22%20stroke%3D%22%23000000%22%20d%3D%22M369.5331%2C-94.3048C362.7636%2C-85.2671%20355.5373%2C-75.6195%20348.778%2C-66.5954%22%2F%3E%0A%3Cpolygon%20fill%3D%22%23000000%22%20stroke%3D%22%23000000%22%20points%3D%22351.5246%2C-64.4241%20342.7283%2C-58.5186%20345.922%2C-68.6207%20351.5246%2C-64.4241%22%2F%3E%0A%3C%2Fg%3E%0A%3C!--%207%20--%3E%0A%3Cg%20id%3D%22node8%22%20class%3D%22node%22%3E%0A%3Ctitle%3E7%3C%2Ftitle%3E%0A%3Cpolygon%20fill%3D%22none%22%20stroke%3D%22%23000000%22%20points%3D%22497.3044%2C-58.6014%20392.2312%2C-58.6014%20392.2312%2C.2014%20497.3044%2C.2014%20497.3044%2C-58.6014%22%2F%3E%0A%3Ctext%20text-anchor%3D%22middle%22%20x%3D%22444.7678%22%20y%3D%22-41.8%22%20font-family%3D%22Times%2Cserif%22%20font-size%3D%2214.00%22%20fill%3D%22%23000000%22%3Egini%20%3D%200.323%3C%2Ftext%3E%0A%3Ctext%20text-anchor%3D%22middle%22%20x%3D%22444.7678%22%20y%3D%22-25%22%20font-family%3D%22Times%2Cserif%22%20font-size%3D%2214.00%22%20fill%3D%22%23000000%22%3Esamples%20%3D%2094%3C%2Ftext%3E%0A%3Ctext%20text-anchor%3D%22middle%22%20x%3D%22444.7678%22%20y%3D%22-8.2%22%20font-family%3D%22Times%2Cserif%22%20font-size%3D%2214.00%22%20fill%3D%22%23000000%22%3Evalue%20%3D%20%5B75%2C%2019%5D%3C%2Ftext%3E%0A%3C%2Fg%3E%0A%3C!--%205%26%2345%3B%26gt%3B7%20--%3E%0A%3Cg%20id%3D%22edge7%22%20class%3D%22edge%22%3E%0A%3Ctitle%3E5-%26gt%3B7%3C%2Ftitle%3E%0A%3Cpath%20fill%3D%22none%22%20stroke%3D%22%23000000%22%20d%3D%22M415.002%2C-94.3048C418.9654%2C-85.636%20423.1853%2C-76.406%20427.1641%2C-67.7034%22%2F%3E%0A%3Cpolygon%20fill%3D%22%23000000%22%20stroke%3D%22%23000000%22%20points%3D%22430.3884%2C-69.0685%20431.3634%2C-58.5186%20424.0222%2C-66.1579%20430.3884%2C-69.0685%22%2F%3E%0A%3C%2Fg%3E%0A%3C!--%209%20--%3E%0A%3Cg%20id%3D%22node10%22%20class%3D%22node%22%3E%0A%3Ctitle%3E9%3C%2Ftitle%3E%0A%3Cpolygon%20fill%3D%22none%22%20stroke%3D%22%23000000%22%20points%3D%22698.677%2C-169.7003%20532.8586%2C-169.7003%20532.8586%2C-94.2997%20698.677%2C-94.2997%20698.677%2C-169.7003%22%2F%3E%0A%3Ctext%20text-anchor%3D%22middle%22%20x%3D%22615.7678%22%20y%3D%22-153%22%20font-family%3D%22Times%2Cserif%22%20font-size%3D%2214.00%22%20fill%3D%22%23000000%22%3Etotal%20eve%20charge%20%26lt%3B%3D%2016.025%3C%2Ftext%3E%0A%3Ctext%20text-anchor%3D%22middle%22%20x%3D%22615.7678%22%20y%3D%22-136.2%22%20font-family%3D%22Times%2Cserif%22%20font-size%3D%2214.00%22%20fill%3D%22%23000000%22%3Egini%20%3D%200.367%3C%2Ftext%3E%0A%3Ctext%20text-anchor%3D%22middle%22%20x%3D%22615.7678%22%20y%3D%22-119.4%22%20font-family%3D%22Times%2Cserif%22%20font-size%3D%2214.00%22%20fill%3D%22%23000000%22%3Esamples%20%3D%20128%3C%2Ftext%3E%0A%3Ctext%20text-anchor%3D%22middle%22%20x%3D%22615.7678%22%20y%3D%22-102.6%22%20font-family%3D%22Times%2Cserif%22%20font-size%3D%2214.00%22%20fill%3D%22%23000000%22%3Evalue%20%3D%20%5B31%2C%2097%5D%3C%2Ftext%3E%0A%3C%2Fg%3E%0A%3C!--%208%26%2345%3B%26gt%3B9%20--%3E%0A%3Cg%20id%3D%22edge9%22%20class%3D%22edge%22%3E%0A%3Ctitle%3E8-%26gt%3B9%3C%2Ftitle%3E%0A%3Cpath%20fill%3D%22none%22%20stroke%3D%22%23000000%22%20d%3D%22M615.7678%2C-205.5528C615.7678%2C-197.22%20615.7678%2C-188.2845%20615.7678%2C-179.6137%22%2F%3E%0A%3Cpolygon%20fill%3D%22%23000000%22%20stroke%3D%22%23000000%22%20points%3D%22619.2679%2C-179.6084%20615.7678%2C-169.6085%20612.2679%2C-179.6085%20619.2679%2C-179.6084%22%2F%3E%0A%3C%2Fg%3E%0A%3C!--%2012%20--%3E%0A%3Cg%20id%3D%22node13%22%20class%3D%22node%22%3E%0A%3Ctitle%3E12%3C%2Ftitle%3E%0A%3Cpolygon%20fill%3D%22none%22%20stroke%3D%22%23000000%22%20points%3D%22879.5278%2C-169.7003%20732.0078%2C-169.7003%20732.0078%2C-94.2997%20879.5278%2C-94.2997%20879.5278%2C-169.7003%22%2F%3E%0A%3Ctext%20text-anchor%3D%22middle%22%20x%3D%22805.7678%22%20y%3D%22-153%22%20font-family%3D%22Times%2Cserif%22%20font-size%3D%2214.00%22%20fill%3D%22%23000000%22%3Etotal%20eve%20calls%20%26lt%3B%3D%20107.5%3C%2Ftext%3E%0A%3Ctext%20text-anchor%3D%22middle%22%20x%3D%22805.7678%22%20y%3D%22-136.2%22%20font-family%3D%22Times%2Cserif%22%20font-size%3D%2214.00%22%20fill%3D%22%23000000%22%3Egini%20%3D%200.201%3C%2Ftext%3E%0A%3Ctext%20text-anchor%3D%22middle%22%20x%3D%22805.7678%22%20y%3D%22-119.4%22%20font-family%3D%22Times%2Cserif%22%20font-size%3D%2214.00%22%20fill%3D%22%23000000%22%3Esamples%20%3D%2044%3C%2Ftext%3E%0A%3Ctext%20text-anchor%3D%22middle%22%20x%3D%22805.7678%22%20y%3D%22-102.6%22%20font-family%3D%22Times%2Cserif%22%20font-size%3D%2214.00%22%20fill%3D%22%23000000%22%3Evalue%20%3D%20%5B39%2C%205%5D%3C%2Ftext%3E%0A%3C%2Fg%3E%0A%3C!--%208%26%2345%3B%26gt%3B12%20--%3E%0A%3Cg%20id%3D%22edge12%22%20class%3D%22edge%22%3E%0A%3Ctitle%3E8-%26gt%3B12%3C%2Ftitle%3E%0A%3Cpath%20fill%3D%22none%22%20stroke%3D%22%23000000%22%20d%3D%22M680.0931%2C-205.5528C696.9617%2C-195.6802%20715.2756%2C-184.9617%20732.5705%2C-174.8397%22%2F%3E%0A%3Cpolygon%20fill%3D%22%23000000%22%20stroke%3D%22%23000000%22%20points%3D%22734.6461%2C-177.6803%20741.5087%2C-169.6085%20731.1103%2C-171.639%20734.6461%2C-177.6803%22%2F%3E%0A%3C%2Fg%3E%0A%3C!--%2010%20--%3E%0A%3Cg%20id%3D%22node11%22%20class%3D%22node%22%3E%0A%3Ctitle%3E10%3C%2Ftitle%3E%0A%3Cpolygon%20fill%3D%22none%22%20stroke%3D%22%23000000%22%20points%3D%22621.3044%2C-58.6014%20516.2312%2C-58.6014%20516.2312%2C.2014%20621.3044%2C.2014%20621.3044%2C-58.6014%22%2F%3E%0A%3Ctext%20text-anchor%3D%22middle%22%20x%3D%22568.7678%22%20y%3D%22-41.8%22%20font-family%3D%22Times%2Cserif%22%20font-size%3D%2214.00%22%20fill%3D%22%23000000%22%3Egini%20%3D%200.497%3C%2Ftext%3E%0A%3Ctext%20text-anchor%3D%22middle%22%20x%3D%22568.7678%22%20y%3D%22-25%22%20font-family%3D%22Times%2Cserif%22%20font-size%3D%2214.00%22%20fill%3D%22%23000000%22%3Esamples%20%3D%2048%3C%2Ftext%3E%0A%3Ctext%20text-anchor%3D%22middle%22%20x%3D%22568.7678%22%20y%3D%22-8.2%22%20font-family%3D%22Times%2Cserif%22%20font-size%3D%2214.00%22%20fill%3D%22%23000000%22%3Evalue%20%3D%20%5B26%2C%2022%5D%3C%2Ftext%3E%0A%3C%2Fg%3E%0A%3C!--%209%26%2345%3B%26gt%3B10%20--%3E%0A%3Cg%20id%3D%22edge10%22%20class%3D%22edge%22%3E%0A%3Ctitle%3E9-%26gt%3B10%3C%2Ftitle%3E%0A%3Cpath%20fill%3D%22none%22%20stroke%3D%22%23000000%22%20d%3D%22M598.5336%2C-94.3048C594.5702%2C-85.636%20590.3503%2C-76.406%20586.3715%2C-67.7034%22%2F%3E%0A%3Cpolygon%20fill%3D%22%23000000%22%20stroke%3D%22%23000000%22%20points%3D%22589.5134%2C-66.1579%20582.1722%2C-58.5186%20583.1472%2C-69.0685%20589.5134%2C-66.1579%22%2F%3E%0A%3C%2Fg%3E%0A%3C!--%2011%20--%3E%0A%3Cg%20id%3D%22node12%22%20class%3D%22node%22%3E%0A%3Ctitle%3E11%3C%2Ftitle%3E%0A%3Cpolygon%20fill%3D%22none%22%20stroke%3D%22%23000000%22%20points%3D%22737.8045%2C-58.6014%20639.7311%2C-58.6014%20639.7311%2C.2014%20737.8045%2C.2014%20737.8045%2C-58.6014%22%2F%3E%0A%3Ctext%20text-anchor%3D%22middle%22%20x%3D%22688.7678%22%20y%3D%22-41.8%22%20font-family%3D%22Times%2Cserif%22%20font-size%3D%2214.00%22%20fill%3D%22%23000000%22%3Egini%20%3D%200.117%3C%2Ftext%3E%0A%3Ctext%20text-anchor%3D%22middle%22%20x%3D%22688.7678%22%20y%3D%22-25%22%20font-family%3D%22Times%2Cserif%22%20font-size%3D%2214.00%22%20fill%3D%22%23000000%22%3Esamples%20%3D%2080%3C%2Ftext%3E%0A%3Ctext%20text-anchor%3D%22middle%22%20x%3D%22688.7678%22%20y%3D%22-8.2%22%20font-family%3D%22Times%2Cserif%22%20font-size%3D%2214.00%22%20fill%3D%22%23000000%22%3Evalue%20%3D%20%5B5%2C%2075%5D%3C%2Ftext%3E%0A%3C%2Fg%3E%0A%3C!--%209%26%2345%3B%26gt%3B11%20--%3E%0A%3Cg%20id%3D%22edge11%22%20class%3D%22edge%22%3E%0A%3Ctitle%3E9-%26gt%3B11%3C%2Ftitle%3E%0A%3Cpath%20fill%3D%22none%22%20stroke%3D%22%23000000%22%20d%3D%22M642.5358%2C-94.3048C648.8882%2C-85.3593%20655.6648%2C-75.8163%20662.0164%2C-66.8718%22%2F%3E%0A%3Cpolygon%20fill%3D%22%23000000%22%20stroke%3D%22%23000000%22%20points%3D%22665.0119%2C-68.6985%20667.9481%2C-58.5186%20659.3046%2C-64.6456%20665.0119%2C-68.6985%22%2F%3E%0A%3C%2Fg%3E%0A%3C!--%2013%20--%3E%0A%3Cg%20id%3D%22node14%22%20class%3D%22node%22%3E%0A%3Ctitle%3E13%3C%2Ftitle%3E%0A%3Cpolygon%20fill%3D%22none%22%20stroke%3D%22%23000000%22%20points%3D%22854.8045%2C-58.6014%20756.7311%2C-58.6014%20756.7311%2C.2014%20854.8045%2C.2014%20854.8045%2C-58.6014%22%2F%3E%0A%3Ctext%20text-anchor%3D%22middle%22%20x%3D%22805.7678%22%20y%3D%22-41.8%22%20font-family%3D%22Times%2Cserif%22%20font-size%3D%2214.00%22%20fill%3D%22%23000000%22%3Egini%20%3D%200.32%3C%2Ftext%3E%0A%3Ctext%20text-anchor%3D%22middle%22%20x%3D%22805.7678%22%20y%3D%22-25%22%20font-family%3D%22Times%2Cserif%22%20font-size%3D%2214.00%22%20fill%3D%22%23000000%22%3Esamples%20%3D%2025%3C%2Ftext%3E%0A%3Ctext%20text-anchor%3D%22middle%22%20x%3D%22805.7678%22%20y%3D%22-8.2%22%20font-family%3D%22Times%2Cserif%22%20font-size%3D%2214.00%22%20fill%3D%22%23000000%22%3Evalue%20%3D%20%5B20%2C%205%5D%3C%2Ftext%3E%0A%3C%2Fg%3E%0A%3C!--%2012%26%2345%3B%26gt%3B13%20--%3E%0A%3Cg%20id%3D%22edge13%22%20class%3D%22edge%22%3E%0A%3Ctitle%3E12-%26gt%3B13%3C%2Ftitle%3E%0A%3Cpath%20fill%3D%22none%22%20stroke%3D%22%23000000%22%20d%3D%22M805.7678%2C-94.3048C805.7678%2C-85.9126%20805.7678%2C-76.9946%20805.7678%2C-68.5382%22%2F%3E%0A%3Cpolygon%20fill%3D%22%23000000%22%20stroke%3D%22%23000000%22%20points%3D%22809.2679%2C-68.5186%20805.7678%2C-58.5186%20802.2679%2C-68.5187%20809.2679%2C-68.5186%22%2F%3E%0A%3C%2Fg%3E%0A%3C!--%2014%20--%3E%0A%3Cg%20id%3D%22node15%22%20class%3D%22node%22%3E%0A%3Ctitle%3E14%3C%2Ftitle%3E%0A%3Cpolygon%20fill%3D%22none%22%20stroke%3D%22%23000000%22%20points%3D%22971.8045%2C-58.6014%20873.7311%2C-58.6014%20873.7311%2C.2014%20971.8045%2C.2014%20971.8045%2C-58.6014%22%2F%3E%0A%3Ctext%20text-anchor%3D%22middle%22%20x%3D%22922.7678%22%20y%3D%22-41.8%22%20font-family%3D%22Times%2Cserif%22%20font-size%3D%2214.00%22%20fill%3D%22%23000000%22%3Egini%20%3D%200.0%3C%2Ftext%3E%0A%3Ctext%20text-anchor%3D%22middle%22%20x%3D%22922.7678%22%20y%3D%22-25%22%20font-family%3D%22Times%2Cserif%22%20font-size%3D%2214.00%22%20fill%3D%22%23000000%22%3Esamples%20%3D%2019%3C%2Ftext%3E%0A%3Ctext%20text-anchor%3D%22middle%22%20x%3D%22922.7678%22%20y%3D%22-8.2%22%20font-family%3D%22Times%2Cserif%22%20font-size%3D%2214.00%22%20fill%3D%22%23000000%22%3Evalue%20%3D%20%5B19%2C%200%5D%3C%2Ftext%3E%0A%3C%2Fg%3E%0A%3C!--%2012%26%2345%3B%26gt%3B14%20--%3E%0A%3Cg%20id%3D%22edge14%22%20class%3D%22edge%22%3E%0A%3Ctitle%3E12-%26gt%3B14%3C%2Ftitle%3E%0A%3Cpath%20fill%3D%22none%22%20stroke%3D%22%23000000%22%20d%3D%22M848.6699%2C-94.3048C859.4809%2C-84.806%20871.0585%2C-74.6335%20881.7732%2C-65.2192%22%2F%3E%0A%3Cpolygon%20fill%3D%22%23000000%22%20stroke%3D%22%23000000%22%20points%3D%22884.1972%2C-67.7484%20889.3993%2C-58.5186%20879.5769%2C-62.4899%20884.1972%2C-67.7484%22%2F%3E%0A%3C%2Fg%3E%0A%3C%2Fg%3E%0A%3C%2Fsvg%3E)"
   ]
  },
  {
   "cell_type": "code",
   "execution_count": 30,
   "metadata": {
    "execution": {
     "iopub.execute_input": "2020-10-10T23:28:14.709531Z",
     "iopub.status.busy": "2020-10-10T23:28:14.702733Z",
     "iopub.status.idle": "2020-10-10T23:28:15.006376Z",
     "shell.execute_reply": "2020-10-10T23:28:15.005300Z"
    },
    "papermill": {
     "duration": 0.390776,
     "end_time": "2020-10-10T23:28:15.006556",
     "exception": false,
     "start_time": "2020-10-10T23:28:14.615780",
     "status": "completed"
    },
    "tags": []
   },
   "outputs": [
    {
     "name": "stdout",
     "output_type": "stream",
     "text": [
      "Feature ranking:\n",
      "1 total day charge 0.26211058582177105\n",
      "2 customer service calls 0.167126937284646\n",
      "3 total eve minutes 0.15495816825152378\n",
      "4 total intl minutes 0.09527190468854364\n",
      "5 international plan 0.085553012721287\n",
      "6 total intl calls 0.07673377482070065\n",
      "7 voice mail plan 0.0657551008201138\n",
      "8 total day minutes 0.06229957813246004\n",
      "9 total night minutes 0.02067687593746032\n",
      "10 total eve charge 0.006200402213845595\n"
     ]
    },
    {
     "data": {
      "image/png": "[encoded data removed]",
      "text/plain": [
       "<Figure size 1080x360 with 1 Axes>"
      ]
     },
     "metadata": {
      "needs_background": "light"
     },
     "output_type": "display_data"
    }
   ],
   "source": [
    "import matplotlib.pyplot as plt\n",
    "\n",
    "features = {'f'+str(i+1):name for (i, name) in zip(range(len(df_without_target.columns)), df_without_target.columns)}\n",
    "\n",
    "#Важность признаков\n",
    "\n",
    "importances = best_tree.feature_importances_\n",
    "\n",
    "indices = np.argsort(importances)[::-1]\n",
    "# Plot the feature importancies of the forest\n",
    "num_to_plot = 10\n",
    "feature_indices = [ind+1 for ind in indices[:num_to_plot]]\n",
    "\n",
    "# Print the feature ranking\n",
    "print(\"Feature ranking:\")\n",
    "\n",
    "for f in range(num_to_plot):\n",
    "    print(f+1, features[\"f\"+str(feature_indices[f])], importances[indices[f]])\n",
    "\n",
    "plt.figure(figsize=(15,5))\n",
    "plt.title(\"Feature importances\")\n",
    "bars = plt.bar(range(num_to_plot), \n",
    "               importances[indices[:num_to_plot]],\n",
    "               color=([str(i/float(num_to_plot+1)) for i in range(num_to_plot)]),\n",
    "               align=\"center\")\n",
    "ticks = plt.xticks(range(num_to_plot), \n",
    "                   feature_indices)\n",
    "plt.xlim([-1, num_to_plot])\n",
    "plt.legend(bars, [u''.join(features[\"f\"+str(i)]) for i in feature_indices]);"
   ]
  },
  {
   "cell_type": "markdown",
   "metadata": {
    "papermill": {
     "duration": 0.080589,
     "end_time": "2020-10-10T23:28:15.165755",
     "exception": false,
     "start_time": "2020-10-10T23:28:15.085166",
     "status": "completed"
    },
    "tags": []
   },
   "source": [
    "Можем сделать вывод о том, что судя по дереву решений, total day charge является самой полезной фичей, также неплохой фичей является customer service calls, в то время как total night minutes, number vmail messages и total eve minutes не являются существенными."
   ]
  },
  {
   "cell_type": "code",
   "execution_count": 31,
   "metadata": {
    "execution": {
     "iopub.execute_input": "2020-10-10T23:28:15.322437Z",
     "iopub.status.busy": "2020-10-10T23:28:15.321411Z",
     "iopub.status.idle": "2020-10-10T23:28:16.208010Z",
     "shell.execute_reply": "2020-10-10T23:28:16.207261Z"
    },
    "papermill": {
     "duration": 0.967059,
     "end_time": "2020-10-10T23:28:16.208142",
     "exception": false,
     "start_time": "2020-10-10T23:28:15.241083",
     "status": "completed"
    },
    "tags": []
   },
   "outputs": [
    {
     "data": {
      "text/plain": [
       "0.8817204301075269"
      ]
     },
     "execution_count": 31,
     "metadata": {},
     "output_type": "execute_result"
    }
   ],
   "source": [
    "from sklearn.ensemble import RandomForestClassifier\n",
    "rf = RandomForestClassifier(random_state=2019)\n",
    "rf.fit(X_train, y_train)\n",
    "y_pred = rf.predict(X_valid)\n",
    "\n",
    "f1_score(y_valid, y_pred)"
   ]
  },
  {
   "cell_type": "code",
   "execution_count": 32,
   "metadata": {
    "execution": {
     "iopub.execute_input": "2020-10-10T23:28:16.364667Z",
     "iopub.status.busy": "2020-10-10T23:28:16.363854Z",
     "iopub.status.idle": "2020-10-10T23:29:16.304400Z",
     "shell.execute_reply": "2020-10-10T23:29:16.304987Z"
    },
    "papermill": {
     "duration": 60.022577,
     "end_time": "2020-10-10T23:29:16.305165",
     "exception": false,
     "start_time": "2020-10-10T23:28:16.282588",
     "status": "completed"
    },
    "tags": []
   },
   "outputs": [
    {
     "data": {
      "text/plain": [
       "GridSearchCV(cv=KFold(n_splits=5, random_state=42, shuffle=True),\n",
       "             estimator=RandomForestClassifier(random_state=2019),\n",
       "             param_grid={'n_estimators': [50, 100, 150, 200, 300, 400, 450]},\n",
       "             scoring='f1')"
      ]
     },
     "execution_count": 32,
     "metadata": {},
     "output_type": "execute_result"
    }
   ],
   "source": [
    "rf_params = {\"n_estimators\":[50, 100, 150, 200, 300, 400, 450]}\n",
    "rf_grid_estimators = GridSearchCV(rf, rf_params, cv=kf, scoring='f1')\n",
    "rf_grid_estimators.fit(X_train, y_train)"
   ]
  },
  {
   "cell_type": "code",
   "execution_count": 33,
   "metadata": {
    "execution": {
     "iopub.execute_input": "2020-10-10T23:29:16.455070Z",
     "iopub.status.busy": "2020-10-10T23:29:16.453944Z",
     "iopub.status.idle": "2020-10-10T23:29:16.458716Z",
     "shell.execute_reply": "2020-10-10T23:29:16.457996Z"
    },
    "papermill": {
     "duration": 0.081856,
     "end_time": "2020-10-10T23:29:16.458835",
     "exception": false,
     "start_time": "2020-10-10T23:29:16.376979",
     "status": "completed"
    },
    "tags": []
   },
   "outputs": [
    {
     "data": {
      "text/plain": [
       "{'n_estimators': 400}"
      ]
     },
     "execution_count": 33,
     "metadata": {},
     "output_type": "execute_result"
    }
   ],
   "source": [
    "rf_grid_estimators.best_params_"
   ]
  },
  {
   "cell_type": "code",
   "execution_count": 34,
   "metadata": {
    "execution": {
     "iopub.execute_input": "2020-10-10T23:29:16.663440Z",
     "iopub.status.busy": "2020-10-10T23:29:16.662530Z",
     "iopub.status.idle": "2020-10-10T23:29:16.666669Z",
     "shell.execute_reply": "2020-10-10T23:29:16.667212Z"
    },
    "papermill": {
     "duration": 0.082866,
     "end_time": "2020-10-10T23:29:16.667371",
     "exception": false,
     "start_time": "2020-10-10T23:29:16.584505",
     "status": "completed"
    },
    "tags": []
   },
   "outputs": [
    {
     "data": {
      "text/plain": [
       "0.8105890008519129"
      ]
     },
     "execution_count": 34,
     "metadata": {},
     "output_type": "execute_result"
    }
   ],
   "source": [
    "rf_grid_estimators.best_score_"
   ]
  },
  {
   "cell_type": "code",
   "execution_count": 35,
   "metadata": {
    "execution": {
     "iopub.execute_input": "2020-10-10T23:29:16.828247Z",
     "iopub.status.busy": "2020-10-10T23:29:16.826868Z",
     "iopub.status.idle": "2020-10-10T23:29:17.118305Z",
     "shell.execute_reply": "2020-10-10T23:29:17.117695Z"
    },
    "papermill": {
     "duration": 0.377978,
     "end_time": "2020-10-10T23:29:17.118437",
     "exception": false,
     "start_time": "2020-10-10T23:29:16.740459",
     "status": "completed"
    },
    "tags": []
   },
   "outputs": [
    {
     "data": {
      "text/plain": [
       "Text(0, 0.5, 'f1_score')"
      ]
     },
     "execution_count": 35,
     "metadata": {},
     "output_type": "execute_result"
    },
    {
     "data": {
      "image/png": "[encoded data removed]",
      "text/plain": [
       "<Figure size 432x288 with 2 Axes>"
      ]
     },
     "metadata": {
      "needs_background": "light"
     },
     "output_type": "display_data"
    }
   ],
   "source": [
    "fig, ax = plt.subplots(nrows=1, ncols=2, sharey=True)\n",
    "\n",
    "ax[0].plot(rf_params['n_estimators'], rf_grid_estimators.cv_results_['mean_test_score']) \n",
    "ax[0].set_xlabel('n_estimators')\n",
    "ax[0].set_ylabel('f1_score')"
   ]
  },
  {
   "cell_type": "code",
   "execution_count": 36,
   "metadata": {
    "execution": {
     "iopub.execute_input": "2020-10-10T23:29:17.277950Z",
     "iopub.status.busy": "2020-10-10T23:29:17.277133Z",
     "iopub.status.idle": "2020-10-10T23:32:48.465673Z",
     "shell.execute_reply": "2020-10-10T23:32:48.466438Z"
    },
    "papermill": {
     "duration": 211.271819,
     "end_time": "2020-10-10T23:32:48.466635",
     "exception": false,
     "start_time": "2020-10-10T23:29:17.194816",
     "status": "completed"
    },
    "tags": []
   },
   "outputs": [
    {
     "data": {
      "text/plain": [
       "GridSearchCV(cv=KFold(n_splits=5, random_state=42, shuffle=True),\n",
       "             estimator=RandomForestClassifier(n_estimators=400,\n",
       "                                              random_state=2019),\n",
       "             param_grid={'max_depth': array([ 2,  3,  4,  5,  6,  7,  8,  9, 10, 11, 12, 13, 14, 15, 16, 17, 18,\n",
       "       19])},\n",
       "             scoring='f1')"
      ]
     },
     "execution_count": 36,
     "metadata": {},
     "output_type": "execute_result"
    }
   ],
   "source": [
    "rf = RandomForestClassifier(n_estimators=400, random_state=2019)\n",
    "rf_params = {'max_depth': np.arange(2, 20)}\n",
    "rf_grid_depth = GridSearchCV(rf, rf_params, cv=kf, scoring='f1')\n",
    "rf_grid_depth.fit(X_train, y_train)"
   ]
  },
  {
   "cell_type": "code",
   "execution_count": 37,
   "metadata": {
    "execution": {
     "iopub.execute_input": "2020-10-10T23:32:48.624688Z",
     "iopub.status.busy": "2020-10-10T23:32:48.623629Z",
     "iopub.status.idle": "2020-10-10T23:32:48.629310Z",
     "shell.execute_reply": "2020-10-10T23:32:48.628511Z"
    },
    "papermill": {
     "duration": 0.086419,
     "end_time": "2020-10-10T23:32:48.629441",
     "exception": false,
     "start_time": "2020-10-10T23:32:48.543022",
     "status": "completed"
    },
    "tags": []
   },
   "outputs": [
    {
     "data": {
      "text/plain": [
       "{'max_depth': 16}"
      ]
     },
     "execution_count": 37,
     "metadata": {},
     "output_type": "execute_result"
    }
   ],
   "source": [
    "rf_grid_depth.best_params_"
   ]
  },
  {
   "cell_type": "code",
   "execution_count": 38,
   "metadata": {
    "execution": {
     "iopub.execute_input": "2020-10-10T23:32:48.790551Z",
     "iopub.status.busy": "2020-10-10T23:32:48.789570Z",
     "iopub.status.idle": "2020-10-10T23:32:48.794603Z",
     "shell.execute_reply": "2020-10-10T23:32:48.793855Z"
    },
    "papermill": {
     "duration": 0.08822,
     "end_time": "2020-10-10T23:32:48.794732",
     "exception": false,
     "start_time": "2020-10-10T23:32:48.706512",
     "status": "completed"
    },
    "tags": []
   },
   "outputs": [
    {
     "data": {
      "text/plain": [
       "0.813161879471388"
      ]
     },
     "execution_count": 38,
     "metadata": {},
     "output_type": "execute_result"
    }
   ],
   "source": [
    "rf_grid_depth.best_score_"
   ]
  },
  {
   "cell_type": "code",
   "execution_count": 39,
   "metadata": {
    "execution": {
     "iopub.execute_input": "2020-10-10T23:32:48.963399Z",
     "iopub.status.busy": "2020-10-10T23:32:48.956305Z",
     "iopub.status.idle": "2020-10-10T23:32:49.260742Z",
     "shell.execute_reply": "2020-10-10T23:32:49.259869Z"
    },
    "papermill": {
     "duration": 0.389187,
     "end_time": "2020-10-10T23:32:49.260902",
     "exception": false,
     "start_time": "2020-10-10T23:32:48.871715",
     "status": "completed"
    },
    "tags": []
   },
   "outputs": [
    {
     "data": {
      "text/plain": [
       "Text(0, 0.5, 'f1_score')"
      ]
     },
     "execution_count": 39,
     "metadata": {},
     "output_type": "execute_result"
    },
    {
     "data": {
      "image/png": "[encoded data removed]",
      "text/plain": [
       "<Figure size 432x288 with 2 Axes>"
      ]
     },
     "metadata": {
      "needs_background": "light"
     },
     "output_type": "display_data"
    }
   ],
   "source": [
    "fig, ax = plt.subplots(nrows=1, ncols=2, sharey=True)\n",
    "\n",
    "ax[0].plot(rf_params['max_depth'], rf_grid_depth.cv_results_['mean_test_score']) \n",
    "ax[0].set_xlabel('max_depth')\n",
    "ax[0].set_ylabel('f1_score')"
   ]
  },
  {
   "cell_type": "code",
   "execution_count": 40,
   "metadata": {
    "execution": {
     "iopub.execute_input": "2020-10-10T23:32:49.429724Z",
     "iopub.status.busy": "2020-10-10T23:32:49.428933Z",
     "iopub.status.idle": "2020-10-10T23:36:52.951310Z",
     "shell.execute_reply": "2020-10-10T23:36:52.951911Z"
    },
    "papermill": {
     "duration": 243.611528,
     "end_time": "2020-10-10T23:36:52.952082",
     "exception": false,
     "start_time": "2020-10-10T23:32:49.340554",
     "status": "completed"
    },
    "tags": []
   },
   "outputs": [
    {
     "data": {
      "text/plain": [
       "GridSearchCV(cv=KFold(n_splits=5, random_state=42, shuffle=True),\n",
       "             estimator=RandomForestClassifier(max_depth=16, n_estimators=400,\n",
       "                                              random_state=2019),\n",
       "             param_grid={'min_samples_split': array([ 2,  3,  4,  5,  6,  7,  8,  9, 10, 11, 12, 13, 14, 15, 16, 17, 18,\n",
       "       19])},\n",
       "             scoring='f1')"
      ]
     },
     "execution_count": 40,
     "metadata": {},
     "output_type": "execute_result"
    }
   ],
   "source": [
    "rf = RandomForestClassifier(n_estimators=400, max_depth=16, random_state=2019)\n",
    "rf_params = {'min_samples_split': np.arange(2, 20)}\n",
    "rf_grid_split = GridSearchCV(rf, rf_params, cv=kf, scoring='f1')\n",
    "rf_grid_split.fit(X_train, y_train)"
   ]
  },
  {
   "cell_type": "code",
   "execution_count": 41,
   "metadata": {
    "execution": {
     "iopub.execute_input": "2020-10-10T23:36:53.119055Z",
     "iopub.status.busy": "2020-10-10T23:36:53.117925Z",
     "iopub.status.idle": "2020-10-10T23:36:53.122683Z",
     "shell.execute_reply": "2020-10-10T23:36:53.121899Z"
    },
    "papermill": {
     "duration": 0.089893,
     "end_time": "2020-10-10T23:36:53.122815",
     "exception": false,
     "start_time": "2020-10-10T23:36:53.032922",
     "status": "completed"
    },
    "tags": []
   },
   "outputs": [
    {
     "data": {
      "text/plain": [
       "{'min_samples_split': 8}"
      ]
     },
     "execution_count": 41,
     "metadata": {},
     "output_type": "execute_result"
    }
   ],
   "source": [
    "rf_grid_split.best_params_"
   ]
  },
  {
   "cell_type": "code",
   "execution_count": 42,
   "metadata": {
    "execution": {
     "iopub.execute_input": "2020-10-10T23:36:53.290848Z",
     "iopub.status.busy": "2020-10-10T23:36:53.289968Z",
     "iopub.status.idle": "2020-10-10T23:36:53.294438Z",
     "shell.execute_reply": "2020-10-10T23:36:53.295020Z"
    },
    "papermill": {
     "duration": 0.090957,
     "end_time": "2020-10-10T23:36:53.295195",
     "exception": false,
     "start_time": "2020-10-10T23:36:53.204238",
     "status": "completed"
    },
    "tags": []
   },
   "outputs": [
    {
     "data": {
      "text/plain": [
       "0.8140347255875435"
      ]
     },
     "execution_count": 42,
     "metadata": {},
     "output_type": "execute_result"
    }
   ],
   "source": [
    "rf_grid_split.best_score_"
   ]
  },
  {
   "cell_type": "code",
   "execution_count": 43,
   "metadata": {
    "execution": {
     "iopub.execute_input": "2020-10-10T23:36:53.461984Z",
     "iopub.status.busy": "2020-10-10T23:36:53.461205Z",
     "iopub.status.idle": "2020-10-10T23:36:53.749941Z",
     "shell.execute_reply": "2020-10-10T23:36:53.749335Z"
    },
    "papermill": {
     "duration": 0.374934,
     "end_time": "2020-10-10T23:36:53.750081",
     "exception": false,
     "start_time": "2020-10-10T23:36:53.375147",
     "status": "completed"
    },
    "tags": []
   },
   "outputs": [
    {
     "data": {
      "text/plain": [
       "Text(0, 0.5, 'f1_score')"
      ]
     },
     "execution_count": 43,
     "metadata": {},
     "output_type": "execute_result"
    },
    {
     "data": {
      "image/png": "[encoded data removed]",
      "text/plain": [
       "<Figure size 432x288 with 2 Axes>"
      ]
     },
     "metadata": {
      "needs_background": "light"
     },
     "output_type": "display_data"
    }
   ],
   "source": [
    "fig, ax = plt.subplots(nrows=1, ncols=2, sharey=True)\n",
    "\n",
    "ax[0].plot(rf_params['min_samples_split'], rf_grid_split.cv_results_['mean_test_score']) \n",
    "ax[0].set_xlabel('min_samples_split')\n",
    "ax[0].set_ylabel('f1_score')"
   ]
  },
  {
   "cell_type": "code",
   "execution_count": 44,
   "metadata": {
    "execution": {
     "iopub.execute_input": "2020-10-10T23:36:53.925234Z",
     "iopub.status.busy": "2020-10-10T23:36:53.923475Z",
     "iopub.status.idle": "2020-10-10T23:40:36.828976Z",
     "shell.execute_reply": "2020-10-10T23:40:36.829585Z"
    },
    "papermill": {
     "duration": 222.996955,
     "end_time": "2020-10-10T23:40:36.829773",
     "exception": false,
     "start_time": "2020-10-10T23:36:53.832818",
     "status": "completed"
    },
    "tags": []
   },
   "outputs": [
    {
     "data": {
      "text/plain": [
       "GridSearchCV(cv=KFold(n_splits=5, random_state=42, shuffle=True),\n",
       "             estimator=RandomForestClassifier(max_depth=16, min_samples_split=8,\n",
       "                                              n_estimators=400,\n",
       "                                              random_state=2019),\n",
       "             param_grid={'min_samples_leaf': array([ 2,  3,  4,  5,  6,  7,  8,  9, 10, 11, 12, 13, 14, 15, 16, 17, 18,\n",
       "       19])},\n",
       "             scoring='f1')"
      ]
     },
     "execution_count": 44,
     "metadata": {},
     "output_type": "execute_result"
    }
   ],
   "source": [
    "rf = RandomForestClassifier(n_estimators=400, max_depth=16, min_samples_split=8, random_state=2019)\n",
    "rf_params = {'min_samples_leaf': np.arange(2, 20)}\n",
    "rf_grid_leaf = GridSearchCV(rf, rf_params, cv=kf, scoring='f1')\n",
    "rf_grid_leaf.fit(X_train, y_train)"
   ]
  },
  {
   "cell_type": "code",
   "execution_count": 45,
   "metadata": {
    "execution": {
     "iopub.execute_input": "2020-10-10T23:40:37.001671Z",
     "iopub.status.busy": "2020-10-10T23:40:37.000790Z",
     "iopub.status.idle": "2020-10-10T23:40:37.005421Z",
     "shell.execute_reply": "2020-10-10T23:40:37.004649Z"
    },
    "papermill": {
     "duration": 0.093403,
     "end_time": "2020-10-10T23:40:37.005543",
     "exception": false,
     "start_time": "2020-10-10T23:40:36.912140",
     "status": "completed"
    },
    "tags": []
   },
   "outputs": [
    {
     "data": {
      "text/plain": [
       "{'min_samples_leaf': 2}"
      ]
     },
     "execution_count": 45,
     "metadata": {},
     "output_type": "execute_result"
    }
   ],
   "source": [
    "rf_grid_leaf.best_params_"
   ]
  },
  {
   "cell_type": "code",
   "execution_count": 46,
   "metadata": {
    "execution": {
     "iopub.execute_input": "2020-10-10T23:40:37.177018Z",
     "iopub.status.busy": "2020-10-10T23:40:37.176166Z",
     "iopub.status.idle": "2020-10-10T23:40:37.180789Z",
     "shell.execute_reply": "2020-10-10T23:40:37.180067Z"
    },
    "papermill": {
     "duration": 0.092832,
     "end_time": "2020-10-10T23:40:37.180906",
     "exception": false,
     "start_time": "2020-10-10T23:40:37.088074",
     "status": "completed"
    },
    "tags": []
   },
   "outputs": [
    {
     "data": {
      "text/plain": [
       "0.8008817846689512"
      ]
     },
     "execution_count": 46,
     "metadata": {},
     "output_type": "execute_result"
    }
   ],
   "source": [
    "rf_grid_leaf.best_score_"
   ]
  },
  {
   "cell_type": "code",
   "execution_count": 47,
   "metadata": {
    "execution": {
     "iopub.execute_input": "2020-10-10T23:40:37.355735Z",
     "iopub.status.busy": "2020-10-10T23:40:37.354882Z",
     "iopub.status.idle": "2020-10-10T23:40:37.653642Z",
     "shell.execute_reply": "2020-10-10T23:40:37.652803Z"
    },
    "papermill": {
     "duration": 0.388911,
     "end_time": "2020-10-10T23:40:37.653785",
     "exception": false,
     "start_time": "2020-10-10T23:40:37.264874",
     "status": "completed"
    },
    "tags": []
   },
   "outputs": [
    {
     "data": {
      "text/plain": [
       "Text(0, 0.5, 'f1_score')"
      ]
     },
     "execution_count": 47,
     "metadata": {},
     "output_type": "execute_result"
    },
    {
     "data": {
      "image/png": "[encoded data removed]",
      "text/plain": [
       "<Figure size 432x288 with 2 Axes>"
      ]
     },
     "metadata": {
      "needs_background": "light"
     },
     "output_type": "display_data"
    }
   ],
   "source": [
    "fig, ax = plt.subplots(nrows=1, ncols=2, sharey=True)\n",
    "\n",
    "ax[0].plot(rf_params['min_samples_leaf'], rf_grid_leaf.cv_results_['mean_test_score']) \n",
    "ax[0].set_xlabel('min_samples_leaf')\n",
    "ax[0].set_ylabel('f1_score')"
   ]
  },
  {
   "cell_type": "code",
   "execution_count": 48,
   "metadata": {
    "execution": {
     "iopub.execute_input": "2020-10-10T23:40:37.851882Z",
     "iopub.status.busy": "2020-10-10T23:40:37.850714Z",
     "iopub.status.idle": "2020-10-10T23:46:54.513379Z",
     "shell.execute_reply": "2020-10-10T23:46:54.513959Z"
    },
    "papermill": {
     "duration": 376.769815,
     "end_time": "2020-10-10T23:46:54.514136",
     "exception": false,
     "start_time": "2020-10-10T23:40:37.744321",
     "status": "completed"
    },
    "tags": []
   },
   "outputs": [
    {
     "data": {
      "text/plain": [
       "GridSearchCV(cv=KFold(n_splits=5, random_state=42, shuffle=True),\n",
       "             estimator=RandomForestClassifier(max_depth=16, min_samples_leaf=2,\n",
       "                                              min_samples_split=8,\n",
       "                                              n_estimators=400,\n",
       "                                              random_state=2019),\n",
       "             param_grid={'max_features': array([ 2,  3,  4,  5,  6,  7,  8,  9, 10, 11, 12, 13, 14, 15, 16, 17])},\n",
       "             scoring='f1')"
      ]
     },
     "execution_count": 48,
     "metadata": {},
     "output_type": "execute_result"
    }
   ],
   "source": [
    "rf = RandomForestClassifier(n_estimators=400, max_depth=16, min_samples_split=8, min_samples_leaf=2, random_state=2019)\n",
    "rf_params = {'max_features': np.arange(2, 18)}\n",
    "rf_grid_features = GridSearchCV(rf, rf_params, cv=kf, scoring='f1')\n",
    "rf_grid_features.fit(X_train, y_train)"
   ]
  },
  {
   "cell_type": "code",
   "execution_count": 49,
   "metadata": {
    "execution": {
     "iopub.execute_input": "2020-10-10T23:46:54.702633Z",
     "iopub.status.busy": "2020-10-10T23:46:54.701521Z",
     "iopub.status.idle": "2020-10-10T23:46:54.707221Z",
     "shell.execute_reply": "2020-10-10T23:46:54.706561Z"
    },
    "papermill": {
     "duration": 0.107926,
     "end_time": "2020-10-10T23:46:54.707346",
     "exception": false,
     "start_time": "2020-10-10T23:46:54.599420",
     "status": "completed"
    },
    "tags": []
   },
   "outputs": [
    {
     "data": {
      "text/plain": [
       "{'max_features': 11}"
      ]
     },
     "execution_count": 49,
     "metadata": {},
     "output_type": "execute_result"
    }
   ],
   "source": [
    "rf_grid_features.best_params_"
   ]
  },
  {
   "cell_type": "code",
   "execution_count": 50,
   "metadata": {
    "execution": {
     "iopub.execute_input": "2020-10-10T23:46:54.914807Z",
     "iopub.status.busy": "2020-10-10T23:46:54.913629Z",
     "iopub.status.idle": "2020-10-10T23:46:54.918940Z",
     "shell.execute_reply": "2020-10-10T23:46:54.918212Z"
    },
    "papermill": {
     "duration": 0.096632,
     "end_time": "2020-10-10T23:46:54.919063",
     "exception": false,
     "start_time": "2020-10-10T23:46:54.822431",
     "status": "completed"
    },
    "tags": []
   },
   "outputs": [
    {
     "data": {
      "text/plain": [
       "0.8276274368807925"
      ]
     },
     "execution_count": 50,
     "metadata": {},
     "output_type": "execute_result"
    }
   ],
   "source": [
    "rf_grid_features.best_score_"
   ]
  },
  {
   "cell_type": "code",
   "execution_count": 51,
   "metadata": {
    "execution": {
     "iopub.execute_input": "2020-10-10T23:46:55.101586Z",
     "iopub.status.busy": "2020-10-10T23:46:55.100831Z",
     "iopub.status.idle": "2020-10-10T23:46:55.382070Z",
     "shell.execute_reply": "2020-10-10T23:46:55.381478Z"
    },
    "papermill": {
     "duration": 0.374838,
     "end_time": "2020-10-10T23:46:55.382218",
     "exception": false,
     "start_time": "2020-10-10T23:46:55.007380",
     "status": "completed"
    },
    "tags": []
   },
   "outputs": [
    {
     "data": {
      "text/plain": [
       "Text(0, 0.5, 'f1_score')"
      ]
     },
     "execution_count": 51,
     "metadata": {},
     "output_type": "execute_result"
    },
    {
     "data": {
      "image/png": "[encoded data removed]",
      "text/plain": [
       "<Figure size 432x288 with 2 Axes>"
      ]
     },
     "metadata": {
      "needs_background": "light"
     },
     "output_type": "display_data"
    }
   ],
   "source": [
    "fig, ax = plt.subplots(nrows=1, ncols=2, sharey=True)\n",
    "\n",
    "ax[0].plot(rf_params['max_features'], rf_grid_features.cv_results_['mean_test_score']) \n",
    "ax[0].set_xlabel('max_features')\n",
    "ax[0].set_ylabel('f1_score')"
   ]
  },
  {
   "cell_type": "markdown",
   "metadata": {
    "papermill": {
     "duration": 0.088476,
     "end_time": "2020-10-10T23:46:55.560636",
     "exception": false,
     "start_time": "2020-10-10T23:46:55.472160",
     "status": "completed"
    },
    "tags": []
   },
   "source": [
    "Можно сделать вывод о том, что один из лучших наборов параметров это n_estimators=400, max_depth=16, min_samples_split=8, min_samples_leaf=2, max_features=11"
   ]
  },
  {
   "cell_type": "code",
   "execution_count": 52,
   "metadata": {
    "execution": {
     "iopub.execute_input": "2020-10-10T23:46:55.745706Z",
     "iopub.status.busy": "2020-10-10T23:46:55.744940Z",
     "iopub.status.idle": "2020-10-10T23:47:02.170022Z",
     "shell.execute_reply": "2020-10-10T23:47:02.169288Z"
    },
    "papermill": {
     "duration": 6.521273,
     "end_time": "2020-10-10T23:47:02.170144",
     "exception": false,
     "start_time": "2020-10-10T23:46:55.648871",
     "status": "completed"
    },
    "tags": []
   },
   "outputs": [
    {
     "data": {
      "text/plain": [
       "RandomForestClassifier(max_depth=16, max_features=11, min_samples_leaf=2,\n",
       "                       min_samples_split=8, n_estimators=400)"
      ]
     },
     "execution_count": 52,
     "metadata": {},
     "output_type": "execute_result"
    }
   ],
   "source": [
    "best_forest = RandomForestClassifier(n_estimators=400, max_depth=16, min_samples_split=8, min_samples_leaf=2, max_features=11)\n",
    "best_forest.fit(X_train, y_train)"
   ]
  },
  {
   "cell_type": "code",
   "execution_count": 53,
   "metadata": {
    "execution": {
     "iopub.execute_input": "2020-10-10T23:47:02.376452Z",
     "iopub.status.busy": "2020-10-10T23:47:02.364301Z",
     "iopub.status.idle": "2020-10-10T23:47:02.683698Z",
     "shell.execute_reply": "2020-10-10T23:47:02.682909Z"
    },
    "papermill": {
     "duration": 0.423793,
     "end_time": "2020-10-10T23:47:02.683825",
     "exception": false,
     "start_time": "2020-10-10T23:47:02.260032",
     "status": "completed"
    },
    "tags": []
   },
   "outputs": [
    {
     "name": "stdout",
     "output_type": "stream",
     "text": [
      "Feature ranking:\n",
      "1 total day charge 0.14364444536642101\n",
      "2 total day minutes 0.13900756590723493\n",
      "3 customer service calls 0.12756339107358716\n",
      "4 international plan 0.08823372356890025\n",
      "5 total intl calls 0.07956346241113839\n",
      "6 total eve minutes 0.07591386110053547\n",
      "7 total eve charge 0.07589629630104704\n",
      "8 total intl minutes 0.041874887688527145\n",
      "9 total intl charge 0.04035713880497868\n",
      "10 number vmail messages 0.03824473869469751\n"
     ]
    },
    {
     "data": {
      "image/png": "[encoded data removed]",
      "text/plain": [
       "<Figure size 1080x360 with 1 Axes>"
      ]
     },
     "metadata": {
      "needs_background": "light"
     },
     "output_type": "display_data"
    }
   ],
   "source": [
    "import matplotlib.pyplot as plt\n",
    "\n",
    "features = {'f'+str(i+1):name for (i, name) in zip(range(len(df_without_target.columns)), df_without_target.columns)}\n",
    "\n",
    "#Важность признаков\n",
    "\n",
    "importances = best_forest.feature_importances_\n",
    "\n",
    "indices = np.argsort(importances)[::-1]\n",
    "# Plot the feature importancies of the forest\n",
    "num_to_plot = 10\n",
    "feature_indices = [ind+1 for ind in indices[:num_to_plot]]\n",
    "\n",
    "# Print the feature ranking\n",
    "print(\"Feature ranking:\")\n",
    "\n",
    "for f in range(num_to_plot):\n",
    "    print(f+1, features[\"f\"+str(feature_indices[f])], importances[indices[f]])\n",
    "\n",
    "plt.figure(figsize=(15,5))\n",
    "plt.title(\"Feature importances\")\n",
    "bars = plt.bar(range(num_to_plot), \n",
    "               importances[indices[:num_to_plot]],\n",
    "               color=([str(i/float(num_to_plot+1)) for i in range(num_to_plot)]),\n",
    "               align=\"center\")\n",
    "ticks = plt.xticks(range(num_to_plot), \n",
    "                   feature_indices)\n",
    "plt.xlim([-1, num_to_plot])\n",
    "plt.legend(bars, [u''.join(features[\"f\"+str(i)]) for i in feature_indices]);"
   ]
  },
  {
   "attachments": {},
   "cell_type": "markdown",
   "metadata": {
    "papermill": {
     "duration": 0.091023,
     "end_time": "2020-10-10T23:47:02.868098",
     "exception": false,
     "start_time": "2020-10-10T23:47:02.777075",
     "status": "completed"
    },
    "tags": []
   },
   "source": [
    "Видим, что случайный лес показал, что самыми полезными фичами являются total day charge, total day minutes и customer service calls, в то время как в дереве total day minutes был посередине \"топа\", total eve minutes стал более полезной фичей и теперь самыми неэффективными в \"топе\" являются number vmail messages и total intl minutes."
   ]
  },
  {
   "cell_type": "markdown",
   "metadata": {
    "papermill": {
     "duration": 0.091457,
     "end_time": "2020-10-10T23:47:03.051369",
     "exception": false,
     "start_time": "2020-10-10T23:47:02.959912",
     "status": "completed"
    },
    "tags": []
   },
   "source": [
    "Сравнивая показатели f1_score knn метода, дерева решений и слуайного леса можем сделать вывод, что самая большая точность была у леса = 0.828, чуть похуже справилось дерево = 0.763 и метод knn дал почти в 2 раза меньшую точность = 0.496. Для нашего датасета лучше всего подошел именно лес, но интерпретация у него довольно сложная, так что как вариант в реальном кейсе можно бы было рассмотреть дерево у которого точность в данном случае не намного меньше но его легко объяснить и визуализировать, хотя если в датасет внести собираются вноситься изменения в дальнейшем, то дерево плохой вариант из-за своей неустойчивости."
   ]
  }
 ],
 "metadata": {
  "kernelspec": {
   "display_name": "Python 3",
   "language": "python",
   "name": "python3"
  },
  "language_info": {
   "codemirror_mode": {
    "name": "ipython",
    "version": 3
   },
   "file_extension": ".py",
   "mimetype": "text/x-python",
   "name": "python",
   "nbconvert_exporter": "python",
   "pygments_lexer": "ipython3",
   "version": "3.7.6"
  },
  "papermill": {
   "duration": 1150.80448,
   "end_time": "2020-10-10T23:47:03.250702",
   "environment_variables": {},
   "exception": null,
   "input_path": "__notebook__.ipynb",
   "output_path": "__notebook__.ipynb",
   "parameters": {},
   "start_time": "2020-10-10T23:27:52.446222",
   "version": "2.1.0"
  }
 },
 "nbformat": 4,
 "nbformat_minor": 4
}
