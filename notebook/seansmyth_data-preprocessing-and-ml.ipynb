{
 "cells": [
  {
   "cell_type": "markdown",
   "metadata": {},
   "source": [
    "# Predicting Heart Disease\n",
    "\n",
    "The aim of this project is to build, fit and compare a number of different binary classification models to try and predict whether a patient has heart disease using the 'Heart Disease Data Set' source from the UCI repository <cite data-cite = \"heart-disease\">(Created by Robert Detrano, Donated by David W Aha, 1989)</cite>. The specific dataset used for this project is known as the cleveland dataset, as it was taken from the V.A. Medical Center, Long Beach and Cleveland Clinic Foundation. The features include 5 numerical features and 8 nominal categorical features. The target feature is a binary feature, with 0 refering to a patient without heart disease and 1 refering to a patient with heart disease.\n",
    "\n",
    "The report for this project is organised as follows:\n",
    "\n",
    "* <a href='Over'>Section 2: (Overview)</a> outlines the method\n",
    "* <a href='DataPrep'>Section 3: (Data Preparation)</a> outlines and summarises data preparation process and model evaluation strategy\n",
    "* <a href='Hyper'>Section 4: (Hyperparameter Tuning)</a> describes the hyperparameter tuning process for each classification algorithm.\n",
    "* <a href='Per'>Section 5: (Performance Comparison)</a> describes the performance comparison for each classification algorithm\n",
    "* <a href='Limit'>Section 6: (Critiques and Limitations)</a> outlines the limitations of the approaches used in this report\n",
    "* <a href='Summary'>Section 7: (Summary)</a> concise summary of the report\n"
   ]
  },
  {
   "cell_type": "markdown",
   "metadata": {},
   "source": [
    "<a id='Over'></a>\n",
    "\n",
    "# Overview\n",
    "\n"
   ]
  },
  {
   "cell_type": "markdown",
   "metadata": {},
   "source": [
    "## Attribute Information:\n",
    " \n",
    "\n",
    "1. (age):\n",
    "integer\n",
    "\n",
    "Age in years\n",
    "\n",
    "2. (sex): \n",
    "binary category\n",
    "\n",
    "(1 = male; 0 = female)\n",
    "\n",
    "3. (cp): \n",
    "category\n",
    "\n",
    "chest pain type\n",
    "\n",
    "-- Value 1: typical angina \n",
    "\n",
    "-- Value 2: atypical angina \n",
    "\n",
    "-- Value 3: non-anginal pain \n",
    "\n",
    "-- Value 4: asymptomatic \n",
    "\n",
    "4. (trestbps):\n",
    "float\n",
    "\n",
    "resting blood pressure (in mm Hg on admission to the hospital)\n",
    "\n",
    "5. (chol):\n",
    "float\n",
    "\n",
    "serum cholestoral in mg/dl\n",
    "\n",
    "6. (fbs):\n",
    "binary categorical\n",
    "\n",
    "(fasting blood sugar > 120 mg/dl) (1 = true; 0 = false)\n",
    "\n",
    "7. (restecg): \n",
    "nominal/category\n",
    "\n",
    "resting electrocardiographic results\n",
    "\n",
    "-- Value 0: normal \n",
    "\n",
    "-- Value 1: having ST-T wave abnormality (T wave inversions and/or ST elevation or depression of > 0.05 mV) \n",
    "\n",
    "-- Value 2: showing probable or definite left ventricular hypertrophy by Estes' criteria \n",
    "\n",
    "8. (thalach):\n",
    "float\n",
    "\n",
    "maximum heart rate achieved\n",
    "\n",
    "9. (exang):\n",
    "binary category\n",
    "\n",
    "exercise induced angina (1 = yes; 0 = no)\n",
    "\n",
    "10. (oldpeak):\n",
    "float\n",
    "\n",
    "ST depression induced by exercise relative to rest\n",
    "\n",
    "11. (slope):\n",
    "nominal/category\n",
    "\n",
    "the slope of the peak exercise ST segment. The ST segement is a small segment between the major valley (S) and the third peak (T)\n",
    "\n",
    "-- Value 1: upsloping \n",
    "\n",
    "-- Value 2: flat \n",
    "\n",
    "-- Value 3: downsloping \n",
    "\n",
    "12. (ca):\n",
    "integer/category\n",
    "\n",
    "number of major vessels (0-3) colored by flourosopy\n",
    "\n",
    "13. (thal):\n",
    "nominal (category)\n",
    "\n",
    "3 = normal; 6 = fixed defect; 7 = reversable defect\n",
    "\n",
    "14. (target) (Dependant Variable):\n",
    "binary target\n",
    "\n",
    "0 = no heart disease; 1 = Heart Disease\n"
   ]
  },
  {
   "cell_type": "markdown",
   "metadata": {},
   "source": [
    "## Method\n",
    "\n",
    "I have built the following classifiers to try and predict heart disease:\n",
    "\n",
    "* KNN\n",
    "* Gaussian Naive Bayes\n",
    "* Bernoulli Naive Bayes\n",
    "* Decision Tree\n",
    "* Logistic Regression (both simplified and non-simplified)\n",
    "\n",
    "Using the cleaned data from phase 1, the process of transforming the data begins by encoding the categorical descriptive features by one-hot-encoding and then scaling the numerical features. The transformed data set was then split into a train and test set with a 70:30 ratio. From this split, the training set consisted of 212 rows, and the test set contained 91 rows.\n",
    "\n",
    "Before fitting one of the models mentioned above, the best features were selected using their respective F-scores inside a pipeline. In the pipeline, we consider 5, 10, 15, 20 and all the full set of 26 features (after encoding).\n",
    "\n",
    "Using the feature selection inside a hyperparameter search within a single pipeline, a 5 fold stratified cross validation took place to fine tune the hyperparameters. The AUC (Area Under Curve) was used as a the performance metric for each classifier. The stratified cross validation was used as it will help in making sure each fold is a representative of the whole, by using the same proportions of class structures <cite data-cite = 'CrossVal'></cite>, enabling less biased results. This cross validation strategy is essential as the target variable in this data set is unbalanced. Feature sensitivity was also examined as a result of the hyperparameter search.\n",
    "\n",
    "For Bernoulli Naive Bayes and the simplified Logistic Regression Models, new versions of the dataset were formed. With the Bernoulli Naive Bayes dataset looking at both a fully fitted binary model, whereby all the continuous features were binned and encoded, and a model that consists of just the binary variables. This was done to deal with the mixed dataset we have for this project. Like the Bernoulli Naive Bayes, the Logistic Regression model underwent two fits, one being a fully fitted model, and the other looking at a simplified model. To make a simplified model, the functions from the statsmodels.api, which contains the equivalent of the 'glm' function in R, were used in order to look into the p-value of each variable. From the p-value, predictors were cut until a satisfactory model was obtained. The simplified model was then tested against the other models.\n",
    "\n",
    "\n",
    "Once the best model was identified for each classification model, a number of pairwise t-tests were performed, with a 10 fold cross validation performed against the test data. The performance metric was again the AUC score. Since there are a number of classifiers, the two Naive Bayes models and the two logistic regression models were tested first. The best models from each were then tested against the rest of the models, until the significantly best model was obtained. In addition to the pairwise t-tests, the confusion matrices and classification reports were printed for each model, allowing us to compare the recall score for each classifier."
   ]
  },
  {
   "cell_type": "markdown",
   "metadata": {},
   "source": [
    "<a id = '#DataPrep'></a>\n",
    "\n",
    "# Data Preparation"
   ]
  },
  {
   "cell_type": "markdown",
   "metadata": {},
   "source": [
    "\n",
    "## Loading Dataset"
   ]
  },
  {
   "cell_type": "code",
   "execution_count": 1,
   "metadata": {},
   "outputs": [],
   "source": [
    "# imports and loading the dataset\n",
    "from scipy import stats\n",
    "import seaborn as sns\n",
    "import matplotlib.pyplot as plt\n",
    "import math\n",
    "from sklearn.model_selection import cross_val_score, RepeatedStratifiedKFold\n",
    "import warnings\n",
    "warnings.filterwarnings(\"ignore\")\n",
    "import numpy as np\n",
    "import pandas as pd\n",
    "from sklearn import feature_selection as fs"
   ]
  },
  {
   "cell_type": "code",
   "execution_count": 2,
   "metadata": {},
   "outputs": [
    {
     "name": "stdout",
     "output_type": "stream",
     "text": [
      "  age sex cp trestbps chol fbs restecg thalach exang oldpeak slope ca thal  \\\n",
      "1  63   1  3      145  233   1       0     150     0     2.3     0  0    1   \n",
      "2  37   1  2      130  250   0       1     187     0     3.5     0  0    2   \n",
      "3  41   0  1      130  204   0       0     172     0     1.4     2  0    2   \n",
      "4  56   1  1      120  236   0       1     178     0     0.8     2  0    2   \n",
      "5  57   0  0      120  354   0       1     163     1     0.6     2  0    2   \n",
      "\n",
      "  target  \n",
      "1      1  \n",
      "2      1  \n",
      "3      1  \n",
      "4      1  \n",
      "5      1  \n"
     ]
    }
   ],
   "source": [
    "heart_filename = '/kaggle/input/heart-disease-uci/heart.csv'\n",
    "heart_df = pd.read_csv(heart_filename, sep=',', decimal = '.', header = None, \n",
    "                    names=['age','sex','cp', \n",
    "                           'trestbps', 'chol', 'fbs', \n",
    "                           'restecg', 'thalach', 'exang', \n",
    "                           'oldpeak', 'slope', 'ca', 'thal', 'target'])\n",
    "#first row loads in as column names so remove the first row of values\n",
    "heart_df = heart_df.ix[1:]\n",
    "print(heart_df.head())\n",
    "# we are now using The data from the UCI repository known as preprocessed.cleveland.data"
   ]
  },
  {
   "cell_type": "markdown",
   "metadata": {},
   "source": [
    "### Checking For Missing Values\n",
    "\n",
    "I will check for missing values just in case"
   ]
  },
  {
   "cell_type": "code",
   "execution_count": 3,
   "metadata": {},
   "outputs": [
    {
     "data": {
      "text/plain": [
       "age         0\n",
       "sex         0\n",
       "cp          0\n",
       "trestbps    0\n",
       "chol        0\n",
       "fbs         0\n",
       "restecg     0\n",
       "thalach     0\n",
       "exang       0\n",
       "oldpeak     0\n",
       "slope       0\n",
       "ca          0\n",
       "thal        0\n",
       "target      0\n",
       "dtype: int64"
      ]
     },
     "execution_count": 3,
     "metadata": {},
     "output_type": "execute_result"
    }
   ],
   "source": [
    "heart_df.isna().sum()"
   ]
  },
  {
   "cell_type": "markdown",
   "metadata": {},
   "source": [
    "## check data set and how it has loaded in"
   ]
  },
  {
   "cell_type": "code",
   "execution_count": 4,
   "metadata": {},
   "outputs": [
    {
     "data": {
      "text/plain": [
       "Index(['age', 'sex', 'cp', 'trestbps', 'chol', 'fbs', 'restecg', 'thalach',\n",
       "       'exang', 'oldpeak', 'slope', 'ca', 'thal', 'target'],\n",
       "      dtype='object')"
      ]
     },
     "execution_count": 4,
     "metadata": {},
     "output_type": "execute_result"
    }
   ],
   "source": [
    "#check data set\n",
    "heart_df.columns"
   ]
  },
  {
   "cell_type": "code",
   "execution_count": 5,
   "metadata": {},
   "outputs": [
    {
     "data": {
      "text/html": [
       "<div>\n",
       "<style scoped>\n",
       "    .dataframe tbody tr th:only-of-type {\n",
       "        vertical-align: middle;\n",
       "    }\n",
       "\n",
       "    .dataframe tbody tr th {\n",
       "        vertical-align: top;\n",
       "    }\n",
       "\n",
       "    .dataframe thead th {\n",
       "        text-align: right;\n",
       "    }\n",
       "</style>\n",
       "<table border=\"1\" class=\"dataframe\">\n",
       "  <thead>\n",
       "    <tr style=\"text-align: right;\">\n",
       "      <th></th>\n",
       "      <th>age</th>\n",
       "      <th>sex</th>\n",
       "      <th>cp</th>\n",
       "      <th>trestbps</th>\n",
       "      <th>chol</th>\n",
       "      <th>fbs</th>\n",
       "      <th>restecg</th>\n",
       "      <th>thalach</th>\n",
       "      <th>exang</th>\n",
       "      <th>oldpeak</th>\n",
       "      <th>slope</th>\n",
       "      <th>ca</th>\n",
       "      <th>thal</th>\n",
       "      <th>target</th>\n",
       "    </tr>\n",
       "  </thead>\n",
       "  <tbody>\n",
       "    <tr>\n",
       "      <th>1</th>\n",
       "      <td>63</td>\n",
       "      <td>1</td>\n",
       "      <td>3</td>\n",
       "      <td>145</td>\n",
       "      <td>233</td>\n",
       "      <td>1</td>\n",
       "      <td>0</td>\n",
       "      <td>150</td>\n",
       "      <td>0</td>\n",
       "      <td>2.3</td>\n",
       "      <td>0</td>\n",
       "      <td>0</td>\n",
       "      <td>1</td>\n",
       "      <td>1</td>\n",
       "    </tr>\n",
       "    <tr>\n",
       "      <th>2</th>\n",
       "      <td>37</td>\n",
       "      <td>1</td>\n",
       "      <td>2</td>\n",
       "      <td>130</td>\n",
       "      <td>250</td>\n",
       "      <td>0</td>\n",
       "      <td>1</td>\n",
       "      <td>187</td>\n",
       "      <td>0</td>\n",
       "      <td>3.5</td>\n",
       "      <td>0</td>\n",
       "      <td>0</td>\n",
       "      <td>2</td>\n",
       "      <td>1</td>\n",
       "    </tr>\n",
       "    <tr>\n",
       "      <th>3</th>\n",
       "      <td>41</td>\n",
       "      <td>0</td>\n",
       "      <td>1</td>\n",
       "      <td>130</td>\n",
       "      <td>204</td>\n",
       "      <td>0</td>\n",
       "      <td>0</td>\n",
       "      <td>172</td>\n",
       "      <td>0</td>\n",
       "      <td>1.4</td>\n",
       "      <td>2</td>\n",
       "      <td>0</td>\n",
       "      <td>2</td>\n",
       "      <td>1</td>\n",
       "    </tr>\n",
       "    <tr>\n",
       "      <th>4</th>\n",
       "      <td>56</td>\n",
       "      <td>1</td>\n",
       "      <td>1</td>\n",
       "      <td>120</td>\n",
       "      <td>236</td>\n",
       "      <td>0</td>\n",
       "      <td>1</td>\n",
       "      <td>178</td>\n",
       "      <td>0</td>\n",
       "      <td>0.8</td>\n",
       "      <td>2</td>\n",
       "      <td>0</td>\n",
       "      <td>2</td>\n",
       "      <td>1</td>\n",
       "    </tr>\n",
       "    <tr>\n",
       "      <th>5</th>\n",
       "      <td>57</td>\n",
       "      <td>0</td>\n",
       "      <td>0</td>\n",
       "      <td>120</td>\n",
       "      <td>354</td>\n",
       "      <td>0</td>\n",
       "      <td>1</td>\n",
       "      <td>163</td>\n",
       "      <td>1</td>\n",
       "      <td>0.6</td>\n",
       "      <td>2</td>\n",
       "      <td>0</td>\n",
       "      <td>2</td>\n",
       "      <td>1</td>\n",
       "    </tr>\n",
       "  </tbody>\n",
       "</table>\n",
       "</div>"
      ],
      "text/plain": [
       "  age sex cp trestbps chol fbs restecg thalach exang oldpeak slope ca thal  \\\n",
       "1  63   1  3      145  233   1       0     150     0     2.3     0  0    1   \n",
       "2  37   1  2      130  250   0       1     187     0     3.5     0  0    2   \n",
       "3  41   0  1      130  204   0       0     172     0     1.4     2  0    2   \n",
       "4  56   1  1      120  236   0       1     178     0     0.8     2  0    2   \n",
       "5  57   0  0      120  354   0       1     163     1     0.6     2  0    2   \n",
       "\n",
       "  target  \n",
       "1      1  \n",
       "2      1  \n",
       "3      1  \n",
       "4      1  \n",
       "5      1  "
      ]
     },
     "execution_count": 5,
     "metadata": {},
     "output_type": "execute_result"
    }
   ],
   "source": [
    "# check load in\n",
    "heart_df.head() # no obvious nans or weird values"
   ]
  },
  {
   "cell_type": "code",
   "execution_count": 6,
   "metadata": {},
   "outputs": [
    {
     "data": {
      "text/html": [
       "<div>\n",
       "<style scoped>\n",
       "    .dataframe tbody tr th:only-of-type {\n",
       "        vertical-align: middle;\n",
       "    }\n",
       "\n",
       "    .dataframe tbody tr th {\n",
       "        vertical-align: top;\n",
       "    }\n",
       "\n",
       "    .dataframe thead th {\n",
       "        text-align: right;\n",
       "    }\n",
       "</style>\n",
       "<table border=\"1\" class=\"dataframe\">\n",
       "  <thead>\n",
       "    <tr style=\"text-align: right;\">\n",
       "      <th></th>\n",
       "      <th>age</th>\n",
       "      <th>sex</th>\n",
       "      <th>cp</th>\n",
       "      <th>trestbps</th>\n",
       "      <th>chol</th>\n",
       "      <th>fbs</th>\n",
       "      <th>restecg</th>\n",
       "      <th>thalach</th>\n",
       "      <th>exang</th>\n",
       "      <th>oldpeak</th>\n",
       "      <th>slope</th>\n",
       "      <th>ca</th>\n",
       "      <th>thal</th>\n",
       "      <th>target</th>\n",
       "    </tr>\n",
       "  </thead>\n",
       "  <tbody>\n",
       "    <tr>\n",
       "      <th>1</th>\n",
       "      <td>63</td>\n",
       "      <td>1</td>\n",
       "      <td>3</td>\n",
       "      <td>145</td>\n",
       "      <td>233</td>\n",
       "      <td>1</td>\n",
       "      <td>0</td>\n",
       "      <td>150</td>\n",
       "      <td>0</td>\n",
       "      <td>2.3</td>\n",
       "      <td>0</td>\n",
       "      <td>0</td>\n",
       "      <td>1</td>\n",
       "      <td>1</td>\n",
       "    </tr>\n",
       "    <tr>\n",
       "      <th>2</th>\n",
       "      <td>37</td>\n",
       "      <td>1</td>\n",
       "      <td>2</td>\n",
       "      <td>130</td>\n",
       "      <td>250</td>\n",
       "      <td>0</td>\n",
       "      <td>1</td>\n",
       "      <td>187</td>\n",
       "      <td>0</td>\n",
       "      <td>3.5</td>\n",
       "      <td>0</td>\n",
       "      <td>0</td>\n",
       "      <td>2</td>\n",
       "      <td>1</td>\n",
       "    </tr>\n",
       "  </tbody>\n",
       "</table>\n",
       "</div>"
      ],
      "text/plain": [
       "  age sex cp trestbps chol fbs restecg thalach exang oldpeak slope ca thal  \\\n",
       "1  63   1  3      145  233   1       0     150     0     2.3     0  0    1   \n",
       "2  37   1  2      130  250   0       1     187     0     3.5     0  0    2   \n",
       "\n",
       "  target  \n",
       "1      1  \n",
       "2      1  "
      ]
     },
     "execution_count": 6,
     "metadata": {},
     "output_type": "execute_result"
    }
   ],
   "source": [
    "heart_df.head(2)"
   ]
  },
  {
   "cell_type": "code",
   "execution_count": 7,
   "metadata": {},
   "outputs": [
    {
     "data": {
      "text/plain": [
       "(303,)"
      ]
     },
     "execution_count": 7,
     "metadata": {},
     "output_type": "execute_result"
    }
   ],
   "source": [
    "# check the shape (should be 303 lines)\n",
    "X = heart_df['age'].shape\n",
    "X"
   ]
  },
  {
   "cell_type": "code",
   "execution_count": 8,
   "metadata": {},
   "outputs": [
    {
     "data": {
      "text/html": [
       "<div>\n",
       "<style scoped>\n",
       "    .dataframe tbody tr th:only-of-type {\n",
       "        vertical-align: middle;\n",
       "    }\n",
       "\n",
       "    .dataframe tbody tr th {\n",
       "        vertical-align: top;\n",
       "    }\n",
       "\n",
       "    .dataframe thead th {\n",
       "        text-align: right;\n",
       "    }\n",
       "</style>\n",
       "<table border=\"1\" class=\"dataframe\">\n",
       "  <thead>\n",
       "    <tr style=\"text-align: right;\">\n",
       "      <th></th>\n",
       "      <th>age</th>\n",
       "      <th>cp</th>\n",
       "    </tr>\n",
       "  </thead>\n",
       "  <tbody>\n",
       "    <tr>\n",
       "      <th>1</th>\n",
       "      <td>63</td>\n",
       "      <td>3</td>\n",
       "    </tr>\n",
       "    <tr>\n",
       "      <th>2</th>\n",
       "      <td>37</td>\n",
       "      <td>2</td>\n",
       "    </tr>\n",
       "    <tr>\n",
       "      <th>3</th>\n",
       "      <td>41</td>\n",
       "      <td>1</td>\n",
       "    </tr>\n",
       "    <tr>\n",
       "      <th>4</th>\n",
       "      <td>56</td>\n",
       "      <td>1</td>\n",
       "    </tr>\n",
       "    <tr>\n",
       "      <th>5</th>\n",
       "      <td>57</td>\n",
       "      <td>0</td>\n",
       "    </tr>\n",
       "  </tbody>\n",
       "</table>\n",
       "</div>"
      ],
      "text/plain": [
       "  age cp\n",
       "1  63  3\n",
       "2  37  2\n",
       "3  41  1\n",
       "4  56  1\n",
       "5  57  0"
      ]
     },
     "execution_count": 8,
     "metadata": {},
     "output_type": "execute_result"
    }
   ],
   "source": [
    "Y = heart_df[['age', 'cp']]\n",
    "Y.head(5)"
   ]
  },
  {
   "cell_type": "code",
   "execution_count": 9,
   "metadata": {},
   "outputs": [
    {
     "data": {
      "text/plain": [
       "(303, 2)"
      ]
     },
     "execution_count": 9,
     "metadata": {},
     "output_type": "execute_result"
    }
   ],
   "source": [
    "Y.shape"
   ]
  },
  {
   "cell_type": "code",
   "execution_count": 10,
   "metadata": {},
   "outputs": [
    {
     "data": {
      "text/html": [
       "<div>\n",
       "<style scoped>\n",
       "    .dataframe tbody tr th:only-of-type {\n",
       "        vertical-align: middle;\n",
       "    }\n",
       "\n",
       "    .dataframe tbody tr th {\n",
       "        vertical-align: top;\n",
       "    }\n",
       "\n",
       "    .dataframe thead th {\n",
       "        text-align: right;\n",
       "    }\n",
       "</style>\n",
       "<table border=\"1\" class=\"dataframe\">\n",
       "  <thead>\n",
       "    <tr style=\"text-align: right;\">\n",
       "      <th></th>\n",
       "      <th>exang</th>\n",
       "      <th>oldpeak</th>\n",
       "    </tr>\n",
       "  </thead>\n",
       "  <tbody>\n",
       "    <tr>\n",
       "      <th>1</th>\n",
       "      <td>0</td>\n",
       "      <td>2.3</td>\n",
       "    </tr>\n",
       "    <tr>\n",
       "      <th>2</th>\n",
       "      <td>0</td>\n",
       "      <td>3.5</td>\n",
       "    </tr>\n",
       "    <tr>\n",
       "      <th>3</th>\n",
       "      <td>0</td>\n",
       "      <td>1.4</td>\n",
       "    </tr>\n",
       "    <tr>\n",
       "      <th>4</th>\n",
       "      <td>0</td>\n",
       "      <td>0.8</td>\n",
       "    </tr>\n",
       "    <tr>\n",
       "      <th>5</th>\n",
       "      <td>1</td>\n",
       "      <td>0.6</td>\n",
       "    </tr>\n",
       "  </tbody>\n",
       "</table>\n",
       "</div>"
      ],
      "text/plain": [
       "  exang oldpeak\n",
       "1     0     2.3\n",
       "2     0     3.5\n",
       "3     0     1.4\n",
       "4     0     0.8\n",
       "5     1     0.6"
      ]
     },
     "execution_count": 10,
     "metadata": {},
     "output_type": "execute_result"
    }
   ],
   "source": [
    "Z = heart_df[['exang', 'oldpeak']]\n",
    "Z.head(5)"
   ]
  },
  {
   "cell_type": "code",
   "execution_count": 11,
   "metadata": {},
   "outputs": [
    {
     "data": {
      "text/plain": [
       "(303, 2)"
      ]
     },
     "execution_count": 11,
     "metadata": {},
     "output_type": "execute_result"
    }
   ],
   "source": [
    "# seems to be no odd shapes\n",
    "Z.shape"
   ]
  },
  {
   "cell_type": "code",
   "execution_count": 12,
   "metadata": {},
   "outputs": [
    {
     "data": {
      "text/plain": [
       "age         0\n",
       "sex         0\n",
       "cp          0\n",
       "trestbps    0\n",
       "chol        0\n",
       "fbs         0\n",
       "restecg     0\n",
       "thalach     0\n",
       "exang       0\n",
       "oldpeak     0\n",
       "slope       0\n",
       "ca          0\n",
       "thal        0\n",
       "target      0\n",
       "dtype: int64"
      ]
     },
     "execution_count": 12,
     "metadata": {},
     "output_type": "execute_result"
    }
   ],
   "source": [
    "# check for NAN values\n",
    "\n",
    "heart_df.isnull().sum()"
   ]
  },
  {
   "cell_type": "markdown",
   "metadata": {},
   "source": [
    "\n",
    "\n",
    "The data set shows no null values and the shape seems to indicate that there are no extra columns and rows"
   ]
  },
  {
   "cell_type": "code",
   "execution_count": 13,
   "metadata": {},
   "outputs": [
    {
     "data": {
      "text/plain": [
       "age         object\n",
       "sex         object\n",
       "cp          object\n",
       "trestbps    object\n",
       "chol        object\n",
       "fbs         object\n",
       "restecg     object\n",
       "thalach     object\n",
       "exang       object\n",
       "oldpeak     object\n",
       "slope       object\n",
       "ca          object\n",
       "thal        object\n",
       "target      object\n",
       "dtype: object"
      ]
     },
     "execution_count": 13,
     "metadata": {},
     "output_type": "execute_result"
    }
   ],
   "source": [
    "#check data types\n",
    "heart_df.dtypes"
   ]
  },
  {
   "cell_type": "code",
   "execution_count": 14,
   "metadata": {},
   "outputs": [
    {
     "data": {
      "text/plain": [
       "age            int64\n",
       "sex         category\n",
       "cp          category\n",
       "trestbps     float64\n",
       "chol         float64\n",
       "fbs         category\n",
       "restecg     category\n",
       "thalach      float64\n",
       "exang       category\n",
       "oldpeak      float64\n",
       "slope       category\n",
       "ca          category\n",
       "thal        category\n",
       "target      category\n",
       "dtype: object"
      ]
     },
     "execution_count": 14,
     "metadata": {},
     "output_type": "execute_result"
    }
   ],
   "source": [
    "#change data types, loaded in as objects\n",
    "#some need to be changed to int, categorical and some to float therefore use a for loop\n",
    "col_list = ['trestbps', 'chol', 'thalach', 'oldpeak']\n",
    "for item in col_list:\n",
    "    heart_df[item] = heart_df[item].astype(str).astype(float)\n",
    "    \n",
    "col_list2 = ['age']\n",
    "for item2 in col_list2:\n",
    "    heart_df[item2] = heart_df[item2].astype(str).astype(np.int64)\n",
    "    \n",
    "col_list3 = ['sex','cp', 'fbs', 'restecg', 'exang', 'slope', 'ca', 'thal', 'target']\n",
    "for item3 in col_list3:\n",
    "    heart_df[item3] = heart_df[item3].astype(str).astype('category')\n",
    "    \n",
    "heart_df.dtypes"
   ]
  },
  {
   "cell_type": "markdown",
   "metadata": {},
   "source": [
    "\n",
    "\n",
    "The data types that loaded into jupyter were loaded in as objects. For further analysis, object data types are inapporiate, therefore, I changed them. For continuous variables I changed the data type to a float, and for nominal variables I changed the data type to a categorical."
   ]
  },
  {
   "cell_type": "code",
   "execution_count": 15,
   "metadata": {},
   "outputs": [
    {
     "data": {
      "text/html": [
       "<div>\n",
       "<style scoped>\n",
       "    .dataframe tbody tr th:only-of-type {\n",
       "        vertical-align: middle;\n",
       "    }\n",
       "\n",
       "    .dataframe tbody tr th {\n",
       "        vertical-align: top;\n",
       "    }\n",
       "\n",
       "    .dataframe thead th {\n",
       "        text-align: right;\n",
       "    }\n",
       "</style>\n",
       "<table border=\"1\" class=\"dataframe\">\n",
       "  <thead>\n",
       "    <tr style=\"text-align: right;\">\n",
       "      <th></th>\n",
       "      <th>age</th>\n",
       "      <th>sex</th>\n",
       "      <th>cp</th>\n",
       "      <th>trestbps</th>\n",
       "      <th>chol</th>\n",
       "      <th>fbs</th>\n",
       "      <th>restecg</th>\n",
       "      <th>thalach</th>\n",
       "      <th>exang</th>\n",
       "      <th>oldpeak</th>\n",
       "      <th>slope</th>\n",
       "      <th>ca</th>\n",
       "      <th>thal</th>\n",
       "      <th>target</th>\n",
       "    </tr>\n",
       "  </thead>\n",
       "  <tbody>\n",
       "    <tr>\n",
       "      <th>1</th>\n",
       "      <td>63</td>\n",
       "      <td>1</td>\n",
       "      <td>3</td>\n",
       "      <td>145.0</td>\n",
       "      <td>233.0</td>\n",
       "      <td>1</td>\n",
       "      <td>0</td>\n",
       "      <td>150.0</td>\n",
       "      <td>0</td>\n",
       "      <td>2.3</td>\n",
       "      <td>0</td>\n",
       "      <td>0</td>\n",
       "      <td>1</td>\n",
       "      <td>1</td>\n",
       "    </tr>\n",
       "    <tr>\n",
       "      <th>2</th>\n",
       "      <td>37</td>\n",
       "      <td>1</td>\n",
       "      <td>2</td>\n",
       "      <td>130.0</td>\n",
       "      <td>250.0</td>\n",
       "      <td>0</td>\n",
       "      <td>1</td>\n",
       "      <td>187.0</td>\n",
       "      <td>0</td>\n",
       "      <td>3.5</td>\n",
       "      <td>0</td>\n",
       "      <td>0</td>\n",
       "      <td>2</td>\n",
       "      <td>1</td>\n",
       "    </tr>\n",
       "    <tr>\n",
       "      <th>3</th>\n",
       "      <td>41</td>\n",
       "      <td>0</td>\n",
       "      <td>1</td>\n",
       "      <td>130.0</td>\n",
       "      <td>204.0</td>\n",
       "      <td>0</td>\n",
       "      <td>0</td>\n",
       "      <td>172.0</td>\n",
       "      <td>0</td>\n",
       "      <td>1.4</td>\n",
       "      <td>2</td>\n",
       "      <td>0</td>\n",
       "      <td>2</td>\n",
       "      <td>1</td>\n",
       "    </tr>\n",
       "    <tr>\n",
       "      <th>4</th>\n",
       "      <td>56</td>\n",
       "      <td>1</td>\n",
       "      <td>1</td>\n",
       "      <td>120.0</td>\n",
       "      <td>236.0</td>\n",
       "      <td>0</td>\n",
       "      <td>1</td>\n",
       "      <td>178.0</td>\n",
       "      <td>0</td>\n",
       "      <td>0.8</td>\n",
       "      <td>2</td>\n",
       "      <td>0</td>\n",
       "      <td>2</td>\n",
       "      <td>1</td>\n",
       "    </tr>\n",
       "    <tr>\n",
       "      <th>5</th>\n",
       "      <td>57</td>\n",
       "      <td>0</td>\n",
       "      <td>0</td>\n",
       "      <td>120.0</td>\n",
       "      <td>354.0</td>\n",
       "      <td>0</td>\n",
       "      <td>1</td>\n",
       "      <td>163.0</td>\n",
       "      <td>1</td>\n",
       "      <td>0.6</td>\n",
       "      <td>2</td>\n",
       "      <td>0</td>\n",
       "      <td>2</td>\n",
       "      <td>1</td>\n",
       "    </tr>\n",
       "  </tbody>\n",
       "</table>\n",
       "</div>"
      ],
      "text/plain": [
       "   age sex cp  trestbps   chol fbs restecg  thalach exang  oldpeak slope ca  \\\n",
       "1   63   1  3     145.0  233.0   1       0    150.0     0      2.3     0  0   \n",
       "2   37   1  2     130.0  250.0   0       1    187.0     0      3.5     0  0   \n",
       "3   41   0  1     130.0  204.0   0       0    172.0     0      1.4     2  0   \n",
       "4   56   1  1     120.0  236.0   0       1    178.0     0      0.8     2  0   \n",
       "5   57   0  0     120.0  354.0   0       1    163.0     1      0.6     2  0   \n",
       "\n",
       "  thal target  \n",
       "1    1      1  \n",
       "2    2      1  \n",
       "3    2      1  \n",
       "4    2      1  \n",
       "5    2      1  "
      ]
     },
     "execution_count": 15,
     "metadata": {},
     "output_type": "execute_result"
    }
   ],
   "source": [
    "# re-check the data\n",
    "heart_df.head(5)"
   ]
  },
  {
   "cell_type": "markdown",
   "metadata": {},
   "source": [
    "## Summary stats of float/int variables"
   ]
  },
  {
   "cell_type": "code",
   "execution_count": 16,
   "metadata": {},
   "outputs": [
    {
     "data": {
      "text/plain": [
       "count    303.000000\n",
       "mean      54.366337\n",
       "std        9.082101\n",
       "min       29.000000\n",
       "25%       47.500000\n",
       "50%       55.000000\n",
       "75%       61.000000\n",
       "max       77.000000\n",
       "Name: age, dtype: float64"
      ]
     },
     "execution_count": 16,
     "metadata": {},
     "output_type": "execute_result"
    }
   ],
   "source": [
    "heart_df['age'].describe()"
   ]
  },
  {
   "cell_type": "markdown",
   "metadata": {},
   "source": [
    "Average patient age is quite high at 54 years old, with the minimum age being quite young at 29. "
   ]
  },
  {
   "cell_type": "code",
   "execution_count": 17,
   "metadata": {},
   "outputs": [
    {
     "data": {
      "text/plain": [
       "count    303.000000\n",
       "mean     131.623762\n",
       "std       17.538143\n",
       "min       94.000000\n",
       "25%      120.000000\n",
       "50%      130.000000\n",
       "75%      140.000000\n",
       "max      200.000000\n",
       "Name: trestbps, dtype: float64"
      ]
     },
     "execution_count": 17,
     "metadata": {},
     "output_type": "execute_result"
    }
   ],
   "source": [
    "heart_df['trestbps'].describe()"
   ]
  },
  {
   "cell_type": "markdown",
   "metadata": {},
   "source": [
    "The mean resting blood pressure seems to be in the normal range as per heartfoundation.com, with the max blood pressure being extremely high at 200 and the min blood pressure being very low at 94"
   ]
  },
  {
   "cell_type": "code",
   "execution_count": 18,
   "metadata": {},
   "outputs": [
    {
     "data": {
      "text/plain": [
       "count    303.000000\n",
       "mean     246.264026\n",
       "std       51.830751\n",
       "min      126.000000\n",
       "25%      211.000000\n",
       "50%      240.000000\n",
       "75%      274.500000\n",
       "max      564.000000\n",
       "Name: chol, dtype: float64"
      ]
     },
     "execution_count": 18,
     "metadata": {},
     "output_type": "execute_result"
    }
   ],
   "source": [
    "heart_df['chol'].describe()"
   ]
  },
  {
   "cell_type": "markdown",
   "metadata": {},
   "source": [
    "The mean cholesterol level is quite high as per medicalnewstoday.com, whereby a desirable range for an adult should be under 200mg/dL. "
   ]
  },
  {
   "cell_type": "code",
   "execution_count": 19,
   "metadata": {},
   "outputs": [
    {
     "data": {
      "text/plain": [
       "count    303.000000\n",
       "mean     149.646865\n",
       "std       22.905161\n",
       "min       71.000000\n",
       "25%      133.500000\n",
       "50%      153.000000\n",
       "75%      166.000000\n",
       "max      202.000000\n",
       "Name: thalach, dtype: float64"
      ]
     },
     "execution_count": 19,
     "metadata": {},
     "output_type": "execute_result"
    }
   ],
   "source": [
    "heart_df['thalach'].describe()"
   ]
  },
  {
   "cell_type": "markdown",
   "metadata": {},
   "source": [
    "max heart rate should be roughly 220 minus your age according to active.com. The mean heart rate seems to be quite normal then for a mean age of roughly 54. The max heart rate however is extremely high at 202."
   ]
  },
  {
   "cell_type": "code",
   "execution_count": 20,
   "metadata": {},
   "outputs": [
    {
     "data": {
      "text/plain": [
       "count    303.000000\n",
       "mean       1.039604\n",
       "std        1.161075\n",
       "min        0.000000\n",
       "25%        0.000000\n",
       "50%        0.800000\n",
       "75%        1.600000\n",
       "max        6.200000\n",
       "Name: oldpeak, dtype: float64"
      ]
     },
     "execution_count": 20,
     "metadata": {},
     "output_type": "execute_result"
    }
   ],
   "source": [
    "heart_df['oldpeak'].describe()"
   ]
  },
  {
   "cell_type": "markdown",
   "metadata": {},
   "source": [
    "The mean depression seems to be around 1 with the max being quite high at 6.2."
   ]
  },
  {
   "cell_type": "markdown",
   "metadata": {},
   "source": [
    "Overall, in terms of these values, the patients seem to be middle aged with normal max heart rates. Most patients seem to have a higher than normal cholesterol count for an average healthy adult. \n",
    "\n",
    "Further analysis on the categorical variables is done in the visualisation section"
   ]
  },
  {
   "cell_type": "markdown",
   "metadata": {},
   "source": [
    "## check for odd/non real values\n",
    "\n",
    "If any of the features show non real or weird values (i.e. a String instead of an int etc) they need to be dealt with"
   ]
  },
  {
   "cell_type": "code",
   "execution_count": 21,
   "metadata": {},
   "outputs": [
    {
     "data": {
      "text/plain": [
       "True    303\n",
       "Name: age, dtype: int64"
      ]
     },
     "execution_count": 21,
     "metadata": {},
     "output_type": "execute_result"
    }
   ],
   "source": [
    "# check values for sanity in each column\n",
    "#sanity check\n",
    "age = pd.Series(heart_df['age'])\n",
    "# if every age is between these values it will print true\n",
    "age.between(18,120).value_counts()\n",
    "\n",
    "# age range seems real\n",
    "# all values returned true so we can continue"
   ]
  },
  {
   "cell_type": "code",
   "execution_count": 22,
   "metadata": {},
   "outputs": [
    {
     "data": {
      "text/plain": [
       "1    207\n",
       "0     96\n",
       "Name: sex, dtype: int64"
      ]
     },
     "execution_count": 22,
     "metadata": {},
     "output_type": "execute_result"
    }
   ],
   "source": [
    "#sanity check\n",
    "sex = heart_df['sex']\n",
    "sex.value_counts() \n",
    "\n",
    "# binary values correct"
   ]
  },
  {
   "cell_type": "code",
   "execution_count": 23,
   "metadata": {},
   "outputs": [
    {
     "data": {
      "text/plain": [
       "0    143\n",
       "2     87\n",
       "1     50\n",
       "3     23\n",
       "Name: cp, dtype: int64"
      ]
     },
     "execution_count": 23,
     "metadata": {},
     "output_type": "execute_result"
    }
   ],
   "source": [
    "#sanity check\n",
    "cp = heart_df['cp']\n",
    "cp.value_counts() \n",
    "\n",
    "# all defined nominal values exists with no extras"
   ]
  },
  {
   "cell_type": "code",
   "execution_count": 24,
   "metadata": {},
   "outputs": [
    {
     "data": {
      "text/plain": [
       "True    303\n",
       "Name: trestbps, dtype: int64"
      ]
     },
     "execution_count": 24,
     "metadata": {},
     "output_type": "execute_result"
    }
   ],
   "source": [
    "#sanity check\n",
    "trestbps = heart_df['trestbps']\n",
    "# if every trestbps is between these values it will print true (highest/lowest bps taken from healthline)\n",
    "trestbps.between(40,220).value_counts()\n",
    "# all blood pressure seem to indicate real values\n",
    "#all values returned true so we can continue"
   ]
  },
  {
   "cell_type": "code",
   "execution_count": 25,
   "metadata": {},
   "outputs": [
    {
     "data": {
      "text/plain": [
       "True    303\n",
       "Name: chol, dtype: int64"
      ]
     },
     "execution_count": 25,
     "metadata": {},
     "output_type": "execute_result"
    }
   ],
   "source": [
    "#sanity check\n",
    "chol = heart_df['chol']\n",
    "# if every chol is between these values it will print true (highest/lowest bps taken from healthline)\n",
    "chol.between(110,600).value_counts()\n",
    "\n",
    "#all values returned true so we can continue"
   ]
  },
  {
   "cell_type": "code",
   "execution_count": 26,
   "metadata": {},
   "outputs": [
    {
     "data": {
      "text/plain": [
       "0    258\n",
       "1     45\n",
       "Name: fbs, dtype: int64"
      ]
     },
     "execution_count": 26,
     "metadata": {},
     "output_type": "execute_result"
    }
   ],
   "source": [
    "#sanity check\n",
    "fbs = heart_df['fbs']\n",
    "fbs.value_counts() \n",
    "\n",
    "# binary value met"
   ]
  },
  {
   "cell_type": "code",
   "execution_count": 27,
   "metadata": {},
   "outputs": [
    {
     "data": {
      "text/plain": [
       "1    152\n",
       "0    147\n",
       "2      4\n",
       "Name: restecg, dtype: int64"
      ]
     },
     "execution_count": 27,
     "metadata": {},
     "output_type": "execute_result"
    }
   ],
   "source": [
    "restecg = heart_df['restecg']\n",
    "restecg.value_counts() \n",
    "\n",
    "# no non-nominal values, therefore we can continue"
   ]
  },
  {
   "cell_type": "code",
   "execution_count": 28,
   "metadata": {},
   "outputs": [
    {
     "data": {
      "text/plain": [
       "True    303\n",
       "Name: thalach, dtype: int64"
      ]
     },
     "execution_count": 28,
     "metadata": {},
     "output_type": "execute_result"
    }
   ],
   "source": [
    "#sanity check\n",
    "thalach = heart_df['thalach']\n",
    "# if every thalach (max heart rate) is between these values it will print true (highest/lowest bps taken from healthline)\n",
    "thalach.between(40,220).value_counts()\n",
    "# all heart rates seem to indicate real values\n",
    "#all values returned true so we can continue"
   ]
  },
  {
   "cell_type": "code",
   "execution_count": 29,
   "metadata": {},
   "outputs": [
    {
     "data": {
      "text/plain": [
       "0    204\n",
       "1     99\n",
       "Name: exang, dtype: int64"
      ]
     },
     "execution_count": 29,
     "metadata": {},
     "output_type": "execute_result"
    }
   ],
   "source": [
    "exang = heart_df['exang']\n",
    "exang.value_counts() \n",
    "\n",
    "# no non-binary values, therefore we can continue"
   ]
  },
  {
   "cell_type": "code",
   "execution_count": 30,
   "metadata": {},
   "outputs": [
    {
     "data": {
      "text/plain": [
       "1    152\n",
       "0    147\n",
       "2      4\n",
       "Name: restecg, dtype: int64"
      ]
     },
     "execution_count": 30,
     "metadata": {},
     "output_type": "execute_result"
    }
   ],
   "source": [
    "restecg = heart_df['restecg']\n",
    "restecg.value_counts() \n",
    "\n",
    "# no non-nominal values, therefore we can continue"
   ]
  },
  {
   "cell_type": "code",
   "execution_count": 31,
   "metadata": {},
   "outputs": [
    {
     "data": {
      "text/plain": [
       "True    303\n",
       "Name: oldpeak, dtype: int64"
      ]
     },
     "execution_count": 31,
     "metadata": {},
     "output_type": "execute_result"
    }
   ],
   "source": [
    "#sanity check\n",
    "oldpeak = heart_df['oldpeak']\n",
    "# if every oldpeak (ratio) is between these values it will print true (highest/lowest bps taken from definition of dataset)\n",
    "oldpeak.between(0,10).value_counts()\n",
    "#all values returned true so we can continue"
   ]
  },
  {
   "cell_type": "code",
   "execution_count": 32,
   "metadata": {},
   "outputs": [
    {
     "data": {
      "text/plain": [
       "2    142\n",
       "1    140\n",
       "0     21\n",
       "Name: slope, dtype: int64"
      ]
     },
     "execution_count": 32,
     "metadata": {},
     "output_type": "execute_result"
    }
   ],
   "source": [
    "slope = heart_df['slope']\n",
    "slope.value_counts() \n",
    "\n",
    "# no non-nominal values, therefore we can continue"
   ]
  },
  {
   "cell_type": "code",
   "execution_count": 33,
   "metadata": {},
   "outputs": [
    {
     "data": {
      "text/plain": [
       "0    175\n",
       "1     65\n",
       "2     38\n",
       "3     20\n",
       "4      5\n",
       "Name: ca, dtype: int64"
      ]
     },
     "execution_count": 33,
     "metadata": {},
     "output_type": "execute_result"
    }
   ],
   "source": [
    "ca = heart_df['ca']\n",
    "ca.value_counts() "
   ]
  },
  {
   "cell_type": "code",
   "execution_count": 34,
   "metadata": {},
   "outputs": [
    {
     "data": {
      "text/plain": [
       "2    166\n",
       "3    117\n",
       "1     18\n",
       "0      2\n",
       "Name: thal, dtype: int64"
      ]
     },
     "execution_count": 34,
     "metadata": {},
     "output_type": "execute_result"
    }
   ],
   "source": [
    "thal = heart_df['thal']\n",
    "thal.value_counts() \n",
    "# thal is correct per summaries on kaggle"
   ]
  },
  {
   "cell_type": "code",
   "execution_count": 35,
   "metadata": {},
   "outputs": [
    {
     "name": "stdout",
     "output_type": "stream",
     "text": [
      "<class 'pandas.core.frame.DataFrame'>\n",
      "RangeIndex: 303 entries, 1 to 303\n",
      "Data columns (total 14 columns):\n",
      "age         303 non-null int64\n",
      "sex         303 non-null category\n",
      "cp          303 non-null category\n",
      "trestbps    303 non-null float64\n",
      "chol        303 non-null float64\n",
      "fbs         303 non-null category\n",
      "restecg     303 non-null category\n",
      "thalach     303 non-null float64\n",
      "exang       303 non-null category\n",
      "oldpeak     303 non-null float64\n",
      "slope       303 non-null category\n",
      "ca          303 non-null category\n",
      "thal        303 non-null category\n",
      "target      303 non-null category\n",
      "dtypes: category(9), float64(4), int64(1)\n",
      "memory usage: 15.8 KB\n"
     ]
    }
   ],
   "source": [
    "heart_df.info()"
   ]
  },
  {
   "cell_type": "markdown",
   "metadata": {},
   "source": [
    "\n",
    "\n",
    "Each of the features now show no odd or non real values. Therefore the data is now cleaned and ready for further analysis"
   ]
  },
  {
   "cell_type": "markdown",
   "metadata": {},
   "source": [
    "# Visualisations\n",
    "\n",
    "## attributes vs the target\n",
    "\n",
    "In this section I will look at each of the attributes and its relationship with the target variable.\n",
    "\n",
    "These visualtions may indicate if there is an underlying relationship between the target and the feature\n",
    "    "
   ]
  },
  {
   "cell_type": "markdown",
   "metadata": {},
   "source": [
    "### Target Variable\n",
    "\n",
    "I want to take a look at the amount of patients that did/did not have heart disease. This will give better insight into looking at different attributes and their associations with heart disease. For example if more people have heart disease in this dataset, then an attribute may not be as influential as intially thought and vis versa.\n",
    "\n"
   ]
  },
  {
   "cell_type": "code",
   "execution_count": 36,
   "metadata": {},
   "outputs": [
    {
     "data": {
      "image/png": "[encoded data removed]",
      "text/plain": [
       "<Figure size 432x288 with 1 Axes>"
      ]
     },
     "metadata": {},
     "output_type": "display_data"
    }
   ],
   "source": [
    "heart_df['target'].value_counts().plot(kind='pie', autopct='%.2f', legend = True)\n",
    "plt.title('Heart Disease in Data Set')\n",
    "plt.show()"
   ]
  },
  {
   "cell_type": "markdown",
   "metadata": {},
   "source": [
    "It seems as though there are more people in this data set with heart disease then there are with out. However, this difference is very slight (165 people with vs 138 people without) so it shouldn't impede our analysis too much.\n",
    "\n"
   ]
  },
  {
   "cell_type": "markdown",
   "metadata": {},
   "source": [
    "### Age Vs Target"
   ]
  },
  {
   "cell_type": "code",
   "execution_count": 37,
   "metadata": {},
   "outputs": [
    {
     "data": {
      "image/png": "[encoded data removed]",
      "text/plain": [
       "<Figure size 720x360 with 1 Axes>"
      ]
     },
     "metadata": {
      "needs_background": "light"
     },
     "output_type": "display_data"
    }
   ],
   "source": [
    "# check age range\n",
    "heart_df['age'].plot(kind='hist', bins=20, figsize =(10,5))\n",
    "plt.title('Age of Patients', fontsize=14)\n",
    "plt.xlabel('Age',fontsize=14)\n",
    "plt.ylabel('Frequency',fontsize=14)\n",
    "plt.show()\n",
    "# most patients seem to be around 60 years old"
   ]
  },
  {
   "cell_type": "code",
   "execution_count": 38,
   "metadata": {},
   "outputs": [
    {
     "data": {
      "image/png": "[encoded data removed]",
      "text/plain": [
       "<Figure size 432x288 with 1 Axes>"
      ]
     },
     "metadata": {
      "needs_background": "light"
     },
     "output_type": "display_data"
    }
   ],
   "source": [
    "# lets see if age visually has any kind of relationship with heart disease\n",
    "age_bins = [20,30,40,50,60,70,80]\n",
    "heart_df['bin_age']=pd.cut(heart_df['age'], bins=age_bins)\n",
    "ageVsTarget=sns.countplot(x='bin_age',data=heart_df ,hue='target',linewidth=3)\n",
    "ageVsTarget.set_title(\"Age vs Heart Disease\")\n",
    "heart_df.drop(['bin_age'],axis=1,inplace=True)\n",
    "# It seems as though the patients with ages around 40-50 are more likely than not to have heart disease. The big peak at 50-60 \n",
    "# is about equal to one another (looks like a 50/50 shot)\n"
   ]
  },
  {
   "cell_type": "markdown",
   "metadata": {},
   "source": [
    "It seems as though the patients with ages around 40-50 are more likely than not to have heart disease. The big peak at 50-60 is about equal to one another (looks like a 50/50 shot)\n"
   ]
  },
  {
   "cell_type": "markdown",
   "metadata": {},
   "source": [
    "### Sex Vs Target"
   ]
  },
  {
   "cell_type": "code",
   "execution_count": 39,
   "metadata": {},
   "outputs": [
    {
     "data": {
      "image/png": "[encoded data removed]",
      "text/plain": [
       "<Figure size 432x288 with 1 Axes>"
      ]
     },
     "metadata": {},
     "output_type": "display_data"
    }
   ],
   "source": [
    "heart_df['sex'].value_counts().plot(kind='pie', autopct='%.2f', legend = True)\n",
    "plt.title('Gender in the Data Set')\n",
    "plt.show()"
   ]
  },
  {
   "cell_type": "markdown",
   "metadata": {},
   "source": [
    "The data set contains a lot more male patients than female, we can assume that the same predictors will influence both sexes however this may not be the case.\n",
    "\n"
   ]
  },
  {
   "cell_type": "code",
   "execution_count": 40,
   "metadata": {},
   "outputs": [
    {
     "data": {
      "text/plain": [
       "Text(0.5, 1.0, 'Gender vs Heart Disease')"
      ]
     },
     "execution_count": 40,
     "metadata": {},
     "output_type": "execute_result"
    },
    {
     "data": {
      "image/png": "[encoded data removed]",
      "text/plain": [
       "<Figure size 1152x432 with 1 Axes>"
      ]
     },
     "metadata": {
      "needs_background": "light"
     },
     "output_type": "display_data"
    }
   ],
   "source": [
    "# check sex with heart disease\n",
    "fig,ax=plt.subplots(figsize=(16,6))\n",
    "plt.subplot(121)\n",
    "s1=sns.boxplot(x='sex',y='age',hue='target',data=heart_df,palette='bright',linewidth=3)\n",
    "s1.set_title(\"Gender vs Heart Disease\")\n",
    "\n",
    "# the plot shows us that heart disease tends to affect women more broadly than men, whereas the age range of non affected women is more limited\n",
    "# men affected tend to be younger than women"
   ]
  },
  {
   "cell_type": "markdown",
   "metadata": {},
   "source": [
    "### Chest Pain Vs Target"
   ]
  },
  {
   "cell_type": "code",
   "execution_count": 41,
   "metadata": {},
   "outputs": [
    {
     "data": {
      "text/plain": [
       "Text(0.5, 1.0, 'CP vs Heart Disease')"
      ]
     },
     "execution_count": 41,
     "metadata": {},
     "output_type": "execute_result"
    },
    {
     "data": {
      "image/png": "[encoded data removed]",
      "text/plain": [
       "<Figure size 432x288 with 1 Axes>"
      ]
     },
     "metadata": {
      "needs_background": "light"
     },
     "output_type": "display_data"
    }
   ],
   "source": [
    "# cp and target\n",
    "\n",
    "cpVsTarget=sns.countplot(x='cp',data=heart_df ,hue='target',linewidth=3, palette = 'pastel')\n",
    "cpVsTarget.set_title(\"CP vs Heart Disease\")\n",
    "\n",
    "# chest pains 1, 2 and 3 may indicate heart disease, whereas 0 may not"
   ]
  },
  {
   "cell_type": "markdown",
   "metadata": {},
   "source": [
    "chest pains 1, 2 and 3 may indicate heart disease, whereas 0 may not"
   ]
  },
  {
   "cell_type": "markdown",
   "metadata": {},
   "source": [
    "### Trestbps Vs Target"
   ]
  },
  {
   "cell_type": "code",
   "execution_count": 42,
   "metadata": {},
   "outputs": [
    {
     "data": {
      "image/png": "[encoded data removed]",
      "text/plain": [
       "<Figure size 720x360 with 1 Axes>"
      ]
     },
     "metadata": {
      "needs_background": "light"
     },
     "output_type": "display_data"
    }
   ],
   "source": [
    "# trestbps and target\n",
    "\n",
    "heart_df['trestbps'].plot(kind='hist', bins=20, figsize =(10,5))\n",
    "plt.title('trestbps of Patients', fontsize=14)\n",
    "plt.xlabel('trestbps',fontsize=14)\n",
    "plt.ylabel('Frequency',fontsize=14)\n",
    "plt.show()\n",
    "# most trestbps seem to be around 130 with outliers around 200"
   ]
  },
  {
   "cell_type": "code",
   "execution_count": 43,
   "metadata": {},
   "outputs": [
    {
     "data": {
      "image/png": "[encoded data removed]",
      "text/plain": [
       "<Figure size 432x288 with 1 Axes>"
      ]
     },
     "metadata": {
      "needs_background": "light"
     },
     "output_type": "display_data"
    }
   ],
   "source": [
    "trestbps_bins = [80,100,120,140,160,180,200]\n",
    "heart_df['trestbps_bins']=pd.cut(heart_df['trestbps'], bins=trestbps_bins)\n",
    "treVsTarget=sns.countplot(x='trestbps_bins',data=heart_df ,hue='target',linewidth=3)\n",
    "treVsTarget.set_title(\"trestbps vs Heart Disease\")\n",
    "heart_df.drop(['trestbps_bins'],axis=1,inplace=True)\n",
    "\n",
    "# it seems as though the lower the resting blood pressure, the higher the chance of heart disease"
   ]
  },
  {
   "cell_type": "markdown",
   "metadata": {},
   "source": [
    "it seems as though the lower the resting blood pressure, the higher the chance of heart disease\n",
    "\n"
   ]
  },
  {
   "cell_type": "markdown",
   "metadata": {},
   "source": [
    "### Cholesterol Vs Target"
   ]
  },
  {
   "cell_type": "code",
   "execution_count": 44,
   "metadata": {},
   "outputs": [
    {
     "data": {
      "image/png": "[encoded data removed]",
      "text/plain": [
       "<Figure size 720x360 with 1 Axes>"
      ]
     },
     "metadata": {
      "needs_background": "light"
     },
     "output_type": "display_data"
    }
   ],
   "source": [
    "# chol and target\n",
    "\n",
    "heart_df['chol'].plot(kind='hist', bins=20, figsize =(10,5))\n",
    "plt.title('chol of Patients', fontsize=14)\n",
    "plt.xlabel('chol',fontsize=14)\n",
    "plt.ylabel('Frequency',fontsize=14)\n",
    "plt.show()\n",
    "# most chol seem to be around 240 with outliers around 400-500"
   ]
  },
  {
   "cell_type": "code",
   "execution_count": 45,
   "metadata": {},
   "outputs": [
    {
     "data": {
      "image/png": "[encoded data removed]",
      "text/plain": [
       "<Figure size 1728x576 with 1 Axes>"
      ]
     },
     "metadata": {
      "needs_background": "light"
     },
     "output_type": "display_data"
    }
   ],
   "source": [
    "chol_bins = [80,100,120,140,160,180,200,220,240,260,280,300,320,340,360,380,400,420]\n",
    "fig,ax=plt.subplots(figsize=(24,8))\n",
    "heart_df['chol_bins']=pd.cut(heart_df['chol'], bins=chol_bins)\n",
    "cholVsTarget=sns.countplot(x='chol_bins',data=heart_df ,hue='target',linewidth=3 )\n",
    "cholVsTarget.set_title(\"chol vs Heart Disease\")\n",
    "heart_df.drop(['chol_bins'],axis=1,inplace=True)\n"
   ]
  },
  {
   "cell_type": "markdown",
   "metadata": {},
   "source": [
    "Cholesterol and heart disease seem to vary, there is no distinct pattern observed. Patients with cholesterol levels of 200-240 and 280-320mg/dL have a higher chance of heart disease, however this could be due to the prevelance of heart disease in this data set.\n",
    "\n"
   ]
  },
  {
   "cell_type": "markdown",
   "metadata": {},
   "source": [
    "### fbs and target"
   ]
  },
  {
   "cell_type": "code",
   "execution_count": 46,
   "metadata": {},
   "outputs": [
    {
     "data": {
      "text/plain": [
       "Text(0.5, 1.0, 'fbs vs Heart Disease')"
      ]
     },
     "execution_count": 46,
     "metadata": {},
     "output_type": "execute_result"
    },
    {
     "data": {
      "image/png": "[encoded data removed]",
      "text/plain": [
       "<Figure size 432x288 with 1 Axes>"
      ]
     },
     "metadata": {
      "needs_background": "light"
     },
     "output_type": "display_data"
    }
   ],
   "source": [
    "# fbs and target\n",
    "\n",
    "fbsVsTarget=sns.countplot(x='fbs',data=heart_df ,hue='target',linewidth=3, palette = 'pastel')\n",
    "fbsVsTarget.set_title(\"fbs vs Heart Disease\")\n",
    "\n",
    "# fbs 0 may indicate more of a chance of heart disease, whereas 1 may not (seems to be close to 50-50)"
   ]
  },
  {
   "cell_type": "markdown",
   "metadata": {},
   "source": [
    "fbs 0 may indicate more of a chance of heart disease, whereas 1 may not (seems to be close to 50-50)\n"
   ]
  },
  {
   "cell_type": "markdown",
   "metadata": {},
   "source": [
    "### restecg and target"
   ]
  },
  {
   "cell_type": "code",
   "execution_count": 47,
   "metadata": {},
   "outputs": [
    {
     "data": {
      "text/plain": [
       "Text(0.5, 1.0, 'restecg vs Heart Disease')"
      ]
     },
     "execution_count": 47,
     "metadata": {},
     "output_type": "execute_result"
    },
    {
     "data": {
      "image/png": "[encoded data removed]",
      "text/plain": [
       "<Figure size 432x288 with 1 Axes>"
      ]
     },
     "metadata": {
      "needs_background": "light"
     },
     "output_type": "display_data"
    }
   ],
   "source": [
    "# restecg and target\n",
    "\n",
    "restecgVsTarget=sns.countplot(x='restecg',data=heart_df ,hue='target',linewidth=3, palette = 'bright')\n",
    "restecgVsTarget.set_title(\"restecg vs Heart Disease\")\n",
    "\n",
    "# restecg of 1 may indicate heart disease whereas 0 and 2 may not"
   ]
  },
  {
   "cell_type": "markdown",
   "metadata": {},
   "source": [
    "restecg of 1 may indicate heart disease whereas 0 and 2 may not\n",
    "\n"
   ]
  },
  {
   "cell_type": "markdown",
   "metadata": {},
   "source": [
    "### thalach and target"
   ]
  },
  {
   "cell_type": "code",
   "execution_count": 48,
   "metadata": {},
   "outputs": [
    {
     "data": {
      "image/png": "[encoded data removed]",
      "text/plain": [
       "<Figure size 720x360 with 1 Axes>"
      ]
     },
     "metadata": {
      "needs_background": "light"
     },
     "output_type": "display_data"
    }
   ],
   "source": [
    "# thalach and target\n",
    "# find bins\n",
    "heart_df['thalach'].plot(kind='hist', bins=20, figsize =(10,5))\n",
    "plt.title('thalach of Patients', fontsize=14)\n",
    "plt.xlabel('thalach',fontsize=14)\n",
    "plt.ylabel('Frequency',fontsize=14)\n",
    "plt.show()\n",
    "#right skewewed, most seem to be around 160bpm (max heart rate)"
   ]
  },
  {
   "cell_type": "code",
   "execution_count": 49,
   "metadata": {},
   "outputs": [
    {
     "data": {
      "image/png": "[encoded data removed]",
      "text/plain": [
       "<Figure size 1728x576 with 1 Axes>"
      ]
     },
     "metadata": {
      "needs_background": "light"
     },
     "output_type": "display_data"
    }
   ],
   "source": [
    "thalach_bins = [60,70,80,90,100,110,120,130,140,150,160,170,180,190,200]\n",
    "fig,ax=plt.subplots(figsize=(24,8))\n",
    "heart_df['thalach_bins']=pd.cut(heart_df['thalach'], bins=thalach_bins)\n",
    "thalachVsTarget=sns.countplot(x='thalach_bins',data=heart_df ,hue='target',linewidth=3 )\n",
    "thalachVsTarget.set_title(\"thalach vs Heart Disease\")\n",
    "heart_df.drop(['thalach_bins'],axis=1,inplace=True)\n",
    "#max heart rate above 150 seems to indicate heart disease"
   ]
  },
  {
   "cell_type": "markdown",
   "metadata": {},
   "source": [
    "max heart rate above 150 seems to indicate heart disease"
   ]
  },
  {
   "cell_type": "markdown",
   "metadata": {},
   "source": [
    "### exang and target (exercise induced angina)"
   ]
  },
  {
   "cell_type": "code",
   "execution_count": 50,
   "metadata": {},
   "outputs": [
    {
     "data": {
      "text/plain": [
       "Text(0.5, 1.0, 'exang vs Heart Disease')"
      ]
     },
     "execution_count": 50,
     "metadata": {},
     "output_type": "execute_result"
    },
    {
     "data": {
      "image/png": "[encoded data removed]",
      "text/plain": [
       "<Figure size 432x288 with 1 Axes>"
      ]
     },
     "metadata": {
      "needs_background": "light"
     },
     "output_type": "display_data"
    }
   ],
   "source": [
    "# exang and target (exercise induced angina)\n",
    "\n",
    "exangVsTarget=sns.countplot(x='exang',data=heart_df ,hue='target',linewidth=3, palette = 'bright')\n",
    "exangVsTarget.set_title(\"exang vs Heart Disease\")\n",
    "\n",
    "# exang of 0 may indicate heart disease whereas 1 may not\n"
   ]
  },
  {
   "cell_type": "markdown",
   "metadata": {},
   "source": [
    "exang of 0 may indicate heart disease whereas 1 may not\n",
    "\n"
   ]
  },
  {
   "cell_type": "markdown",
   "metadata": {},
   "source": [
    "### oldpeak and target"
   ]
  },
  {
   "cell_type": "code",
   "execution_count": 51,
   "metadata": {},
   "outputs": [
    {
     "data": {
      "image/png": "[encoded data removed]",
      "text/plain": [
       "<Figure size 720x360 with 1 Axes>"
      ]
     },
     "metadata": {
      "needs_background": "light"
     },
     "output_type": "display_data"
    }
   ],
   "source": [
    "# oldpeak and target\n",
    "# find bins\n",
    "heart_df['oldpeak'].plot(kind='hist', bins=20, figsize =(10,5))\n",
    "plt.title('oldpeak of Patients', fontsize=14)\n",
    "plt.xlabel('oldpeak',fontsize=14)\n",
    "plt.ylabel('Frequency',fontsize=14)\n",
    "plt.show()\n",
    "# extremely left skewed"
   ]
  },
  {
   "cell_type": "code",
   "execution_count": 52,
   "metadata": {},
   "outputs": [
    {
     "data": {
      "image/png": "[encoded data removed]",
      "text/plain": [
       "<Figure size 1728x576 with 1 Axes>"
      ]
     },
     "metadata": {
      "needs_background": "light"
     },
     "output_type": "display_data"
    }
   ],
   "source": [
    "oldpeak_bins = [0,0.5,1,1.5,2,2.5,3,3.5,4,4.5,5,5.5,6]\n",
    "fig,ax=plt.subplots(figsize=(24,8))\n",
    "heart_df['oldpeak_bins']=pd.cut(heart_df['oldpeak'], bins=oldpeak_bins)\n",
    "oldVsTarget=sns.countplot(x='oldpeak_bins',data=heart_df ,hue='target',linewidth=3 )\n",
    "oldVsTarget.set_title(\"oldpeak vs Heart Disease\")\n",
    "heart_df.drop(['oldpeak_bins'],axis=1,inplace=True)\n",
    "# an oldpeak below 1.5 may indicate heart disease"
   ]
  },
  {
   "cell_type": "markdown",
   "metadata": {},
   "source": [
    "an oldpeak below 1.5 may indicate heart disease\n",
    "\n"
   ]
  },
  {
   "cell_type": "markdown",
   "metadata": {},
   "source": [
    "### slope and target"
   ]
  },
  {
   "cell_type": "code",
   "execution_count": 53,
   "metadata": {},
   "outputs": [
    {
     "data": {
      "text/plain": [
       "Text(0.5, 1.0, 'slope vs Heart Disease')"
      ]
     },
     "execution_count": 53,
     "metadata": {},
     "output_type": "execute_result"
    },
    {
     "data": {
      "image/png": "[encoded data removed]",
      "text/plain": [
       "<Figure size 432x288 with 1 Axes>"
      ]
     },
     "metadata": {
      "needs_background": "light"
     },
     "output_type": "display_data"
    }
   ],
   "source": [
    "# slope and target\n",
    "\n",
    "slopeVsTarget=sns.countplot(x='slope',data=heart_df ,hue='target',linewidth=3, palette = 'bright')\n",
    "slopeVsTarget.set_title(\"slope vs Heart Disease\")\n",
    "\n",
    "# slope of 2 (downsloping) may indicate heart disease whereas 0 (upsloping) and 1 (flat) may not"
   ]
  },
  {
   "cell_type": "markdown",
   "metadata": {},
   "source": [
    "slope of 2 (downsloping) may indicate heart disease whereas 0 (upsloping) and 1 (flat) may not\n",
    "\n"
   ]
  },
  {
   "cell_type": "markdown",
   "metadata": {},
   "source": [
    "### ca and target"
   ]
  },
  {
   "cell_type": "code",
   "execution_count": 54,
   "metadata": {},
   "outputs": [
    {
     "data": {
      "text/plain": [
       "Text(0.5, 1.0, 'ca vs Heart Disease')"
      ]
     },
     "execution_count": 54,
     "metadata": {},
     "output_type": "execute_result"
    },
    {
     "data": {
      "image/png": "[encoded data removed]",
      "text/plain": [
       "<Figure size 432x288 with 1 Axes>"
      ]
     },
     "metadata": {
      "needs_background": "light"
     },
     "output_type": "display_data"
    }
   ],
   "source": [
    "# ca and target\n",
    "\n",
    "caVsTarget=sns.countplot(x='ca',data=heart_df ,hue='target',linewidth=3, palette = 'muted')\n",
    "caVsTarget.set_title(\"ca vs Heart Disease\")\n",
    "\n",
    "# no coloured cells may indicate no heart disease, whilst coloured cells may indicate no heart disease"
   ]
  },
  {
   "cell_type": "markdown",
   "metadata": {},
   "source": [
    "no coloured cells may indicate no heart disease, whilst coloured cells may indicate heart disease\n",
    "\n"
   ]
  },
  {
   "cell_type": "markdown",
   "metadata": {},
   "source": [
    "### thal and target"
   ]
  },
  {
   "cell_type": "code",
   "execution_count": 55,
   "metadata": {},
   "outputs": [
    {
     "data": {
      "text/plain": [
       "Text(0.5, 1.0, 'thal vs Heart Disease')"
      ]
     },
     "execution_count": 55,
     "metadata": {},
     "output_type": "execute_result"
    },
    {
     "data": {
      "image/png": "[encoded data removed]",
      "text/plain": [
       "<Figure size 432x288 with 1 Axes>"
      ]
     },
     "metadata": {
      "needs_background": "light"
     },
     "output_type": "display_data"
    }
   ],
   "source": [
    "# thal and target\n",
    "\n",
    "thalVsTarget=sns.countplot(x='thal',data=heart_df ,hue='target',linewidth=3, palette = 'muted')\n",
    "thalVsTarget.set_title(\"thal vs Heart Disease\")\n",
    "\n",
    "# thal of 2 seems to indicate heart disease whilst the others don't"
   ]
  },
  {
   "cell_type": "markdown",
   "metadata": {},
   "source": [
    "thal of 2 seems to indicate heart disease whilst the others don't\n"
   ]
  },
  {
   "cell_type": "markdown",
   "metadata": {},
   "source": [
    "<a id ='Encode'></a>\n",
    "\n",
    "## Encoding The Categorical Features"
   ]
  },
  {
   "cell_type": "markdown",
   "metadata": {},
   "source": [
    "### Encoding The Target Feature\n"
   ]
  },
  {
   "cell_type": "code",
   "execution_count": 56,
   "metadata": {},
   "outputs": [
    {
     "data": {
      "text/plain": [
       "1    165\n",
       "0    138\n",
       "Name: target, dtype: int64"
      ]
     },
     "execution_count": 56,
     "metadata": {},
     "output_type": "execute_result"
    }
   ],
   "source": [
    "heart = heart_df.drop(['target'], axis=1)\n",
    "target = heart_df['target']\n",
    "target.value_counts()"
   ]
  },
  {
   "cell_type": "code",
   "execution_count": 57,
   "metadata": {},
   "outputs": [
    {
     "data": {
      "text/plain": [
       "age            int64\n",
       "sex         category\n",
       "cp          category\n",
       "trestbps     float64\n",
       "chol         float64\n",
       "fbs         category\n",
       "restecg     category\n",
       "thalach      float64\n",
       "exang       category\n",
       "oldpeak      float64\n",
       "slope       category\n",
       "ca          category\n",
       "thal        category\n",
       "dtype: object"
      ]
     },
     "execution_count": 57,
     "metadata": {},
     "output_type": "execute_result"
    }
   ],
   "source": [
    "# one hot encoding\n",
    "heart.dtypes"
   ]
  },
  {
   "cell_type": "markdown",
   "metadata": {},
   "source": [
    "### Changing Data Types for Numerical Features\n"
   ]
  },
  {
   "cell_type": "code",
   "execution_count": 58,
   "metadata": {},
   "outputs": [
    {
     "data": {
      "text/plain": [
       "age           int64\n",
       "sex          object\n",
       "cp           object\n",
       "trestbps    float64\n",
       "chol        float64\n",
       "fbs          object\n",
       "restecg      object\n",
       "thalach     float64\n",
       "exang        object\n",
       "oldpeak     float64\n",
       "slope        object\n",
       "ca           object\n",
       "thal         object\n",
       "dtype: object"
      ]
     },
     "execution_count": 58,
     "metadata": {},
     "output_type": "execute_result"
    }
   ],
   "source": [
    "col_list = ['trestbps', 'chol', 'thalach', 'oldpeak']\n",
    "for item in col_list:\n",
    "    heart[item] = heart[item].astype(str).astype(float)\n",
    "    \n",
    "col_list2 = ['age']\n",
    "for item2 in col_list2:\n",
    "    heart[item2] = heart[item2].astype(str).astype(np.int64)\n",
    "    \n",
    "col_list3 = ['sex','cp', 'fbs', 'restecg', 'exang', 'slope', 'ca', 'thal']\n",
    "for item3 in col_list3:\n",
    "    heart[item3] = heart[item3].astype(str).astype('object')\n",
    "    \n",
    "heart.dtypes"
   ]
  },
  {
   "cell_type": "markdown",
   "metadata": {},
   "source": [
    "### Encoding Categorical Descriptive Features\n"
   ]
  },
  {
   "cell_type": "code",
   "execution_count": 59,
   "metadata": {},
   "outputs": [
    {
     "data": {
      "text/plain": [
       "['sex', 'cp', 'fbs', 'restecg', 'exang', 'slope', 'ca', 'thal']"
      ]
     },
     "execution_count": 59,
     "metadata": {},
     "output_type": "execute_result"
    }
   ],
   "source": [
    "categorical_cols = heart.columns[heart.dtypes==object].tolist()\n",
    "categorical_cols"
   ]
  },
  {
   "cell_type": "code",
   "execution_count": 60,
   "metadata": {},
   "outputs": [],
   "source": [
    "for col in categorical_cols:\n",
    "    n = len(heart[col].unique())\n",
    "    if (n == 2):\n",
    "        heart[col] = pd.get_dummies(heart[col], drop_first=True)\n",
    "   \n",
    "# use one-hot-encoding for categorical features with >2 levels\n",
    "heart = pd.get_dummies(heart)"
   ]
  },
  {
   "cell_type": "markdown",
   "metadata": {},
   "source": [
    "The new data frame above shows any categorical feature with over 2 values being parsed into a new binary column. The number of columns has increased to 26."
   ]
  },
  {
   "cell_type": "code",
   "execution_count": 61,
   "metadata": {},
   "outputs": [
    {
     "data": {
      "text/plain": [
       "Index(['age', 'sex', 'trestbps', 'chol', 'fbs', 'thalach', 'exang', 'oldpeak',\n",
       "       'cp_0', 'cp_1', 'cp_2', 'cp_3', 'restecg_0', 'restecg_1', 'restecg_2',\n",
       "       'slope_0', 'slope_1', 'slope_2', 'ca_0', 'ca_1', 'ca_2', 'ca_3', 'ca_4',\n",
       "       'thal_0', 'thal_1', 'thal_2', 'thal_3'],\n",
       "      dtype='object')"
      ]
     },
     "execution_count": 61,
     "metadata": {},
     "output_type": "execute_result"
    }
   ],
   "source": [
    "heart.columns"
   ]
  },
  {
   "cell_type": "markdown",
   "metadata": {},
   "source": [
    "Here we see all the new columns that have been one-hot-encoded"
   ]
  },
  {
   "cell_type": "code",
   "execution_count": 62,
   "metadata": {},
   "outputs": [
    {
     "data": {
      "text/html": [
       "<div>\n",
       "<style scoped>\n",
       "    .dataframe tbody tr th:only-of-type {\n",
       "        vertical-align: middle;\n",
       "    }\n",
       "\n",
       "    .dataframe tbody tr th {\n",
       "        vertical-align: top;\n",
       "    }\n",
       "\n",
       "    .dataframe thead th {\n",
       "        text-align: right;\n",
       "    }\n",
       "</style>\n",
       "<table border=\"1\" class=\"dataframe\">\n",
       "  <thead>\n",
       "    <tr style=\"text-align: right;\">\n",
       "      <th></th>\n",
       "      <th>age</th>\n",
       "      <th>sex</th>\n",
       "      <th>trestbps</th>\n",
       "      <th>chol</th>\n",
       "      <th>fbs</th>\n",
       "      <th>thalach</th>\n",
       "      <th>exang</th>\n",
       "      <th>oldpeak</th>\n",
       "      <th>cp_0</th>\n",
       "      <th>cp_1</th>\n",
       "      <th>...</th>\n",
       "      <th>slope_2</th>\n",
       "      <th>ca_0</th>\n",
       "      <th>ca_1</th>\n",
       "      <th>ca_2</th>\n",
       "      <th>ca_3</th>\n",
       "      <th>ca_4</th>\n",
       "      <th>thal_0</th>\n",
       "      <th>thal_1</th>\n",
       "      <th>thal_2</th>\n",
       "      <th>thal_3</th>\n",
       "    </tr>\n",
       "  </thead>\n",
       "  <tbody>\n",
       "    <tr>\n",
       "      <th>257</th>\n",
       "      <td>58</td>\n",
       "      <td>1</td>\n",
       "      <td>128.0</td>\n",
       "      <td>259.0</td>\n",
       "      <td>0</td>\n",
       "      <td>130.0</td>\n",
       "      <td>1</td>\n",
       "      <td>3.0</td>\n",
       "      <td>1</td>\n",
       "      <td>0</td>\n",
       "      <td>...</td>\n",
       "      <td>0</td>\n",
       "      <td>0</td>\n",
       "      <td>0</td>\n",
       "      <td>1</td>\n",
       "      <td>0</td>\n",
       "      <td>0</td>\n",
       "      <td>0</td>\n",
       "      <td>0</td>\n",
       "      <td>0</td>\n",
       "      <td>1</td>\n",
       "    </tr>\n",
       "    <tr>\n",
       "      <th>279</th>\n",
       "      <td>58</td>\n",
       "      <td>0</td>\n",
       "      <td>136.0</td>\n",
       "      <td>319.0</td>\n",
       "      <td>1</td>\n",
       "      <td>152.0</td>\n",
       "      <td>0</td>\n",
       "      <td>0.0</td>\n",
       "      <td>0</td>\n",
       "      <td>1</td>\n",
       "      <td>...</td>\n",
       "      <td>1</td>\n",
       "      <td>0</td>\n",
       "      <td>0</td>\n",
       "      <td>1</td>\n",
       "      <td>0</td>\n",
       "      <td>0</td>\n",
       "      <td>0</td>\n",
       "      <td>0</td>\n",
       "      <td>1</td>\n",
       "      <td>0</td>\n",
       "    </tr>\n",
       "    <tr>\n",
       "      <th>124</th>\n",
       "      <td>54</td>\n",
       "      <td>0</td>\n",
       "      <td>108.0</td>\n",
       "      <td>267.0</td>\n",
       "      <td>0</td>\n",
       "      <td>167.0</td>\n",
       "      <td>0</td>\n",
       "      <td>0.0</td>\n",
       "      <td>0</td>\n",
       "      <td>0</td>\n",
       "      <td>...</td>\n",
       "      <td>1</td>\n",
       "      <td>1</td>\n",
       "      <td>0</td>\n",
       "      <td>0</td>\n",
       "      <td>0</td>\n",
       "      <td>0</td>\n",
       "      <td>0</td>\n",
       "      <td>0</td>\n",
       "      <td>1</td>\n",
       "      <td>0</td>\n",
       "    </tr>\n",
       "    <tr>\n",
       "      <th>129</th>\n",
       "      <td>52</td>\n",
       "      <td>0</td>\n",
       "      <td>136.0</td>\n",
       "      <td>196.0</td>\n",
       "      <td>0</td>\n",
       "      <td>169.0</td>\n",
       "      <td>0</td>\n",
       "      <td>0.1</td>\n",
       "      <td>0</td>\n",
       "      <td>0</td>\n",
       "      <td>...</td>\n",
       "      <td>0</td>\n",
       "      <td>1</td>\n",
       "      <td>0</td>\n",
       "      <td>0</td>\n",
       "      <td>0</td>\n",
       "      <td>0</td>\n",
       "      <td>0</td>\n",
       "      <td>0</td>\n",
       "      <td>1</td>\n",
       "      <td>0</td>\n",
       "    </tr>\n",
       "    <tr>\n",
       "      <th>157</th>\n",
       "      <td>47</td>\n",
       "      <td>1</td>\n",
       "      <td>130.0</td>\n",
       "      <td>253.0</td>\n",
       "      <td>0</td>\n",
       "      <td>179.0</td>\n",
       "      <td>0</td>\n",
       "      <td>0.0</td>\n",
       "      <td>0</td>\n",
       "      <td>0</td>\n",
       "      <td>...</td>\n",
       "      <td>1</td>\n",
       "      <td>1</td>\n",
       "      <td>0</td>\n",
       "      <td>0</td>\n",
       "      <td>0</td>\n",
       "      <td>0</td>\n",
       "      <td>0</td>\n",
       "      <td>0</td>\n",
       "      <td>1</td>\n",
       "      <td>0</td>\n",
       "    </tr>\n",
       "  </tbody>\n",
       "</table>\n",
       "<p>5 rows × 27 columns</p>\n",
       "</div>"
      ],
      "text/plain": [
       "     age  sex  trestbps   chol  fbs  thalach  exang  oldpeak  cp_0  cp_1  ...  \\\n",
       "257   58    1     128.0  259.0    0    130.0      1      3.0     1     0  ...   \n",
       "279   58    0     136.0  319.0    1    152.0      0      0.0     0     1  ...   \n",
       "124   54    0     108.0  267.0    0    167.0      0      0.0     0     0  ...   \n",
       "129   52    0     136.0  196.0    0    169.0      0      0.1     0     0  ...   \n",
       "157   47    1     130.0  253.0    0    179.0      0      0.0     0     0  ...   \n",
       "\n",
       "     slope_2  ca_0  ca_1  ca_2  ca_3  ca_4  thal_0  thal_1  thal_2  thal_3  \n",
       "257        0     0     0     1     0     0       0       0       0       1  \n",
       "279        1     0     0     1     0     0       0       0       1       0  \n",
       "124        1     1     0     0     0     0       0       0       1       0  \n",
       "129        0     1     0     0     0     0       0       0       1       0  \n",
       "157        1     1     0     0     0     0       0       0       1       0  \n",
       "\n",
       "[5 rows x 27 columns]"
      ]
     },
     "execution_count": 62,
     "metadata": {},
     "output_type": "execute_result"
    }
   ],
   "source": [
    "heart.sample(5, random_state=999)"
   ]
  },
  {
   "cell_type": "markdown",
   "metadata": {},
   "source": [
    "### Data Scaling\n",
    "\n",
    "I will now apply min-max scaling to these features"
   ]
  },
  {
   "cell_type": "code",
   "execution_count": 63,
   "metadata": {},
   "outputs": [],
   "source": [
    "from sklearn import preprocessing\n",
    "\n",
    "heart_copy = heart.copy()\n",
    "df = heart.copy()\n",
    "Data_scaler = preprocessing.MinMaxScaler()\n",
    "Data_scaler.fit(heart)\n",
    "heart = Data_scaler.fit_transform(heart)"
   ]
  },
  {
   "cell_type": "code",
   "execution_count": 64,
   "metadata": {},
   "outputs": [
    {
     "data": {
      "text/html": [
       "<div>\n",
       "<style scoped>\n",
       "    .dataframe tbody tr th:only-of-type {\n",
       "        vertical-align: middle;\n",
       "    }\n",
       "\n",
       "    .dataframe tbody tr th {\n",
       "        vertical-align: top;\n",
       "    }\n",
       "\n",
       "    .dataframe thead th {\n",
       "        text-align: right;\n",
       "    }\n",
       "</style>\n",
       "<table border=\"1\" class=\"dataframe\">\n",
       "  <thead>\n",
       "    <tr style=\"text-align: right;\">\n",
       "      <th></th>\n",
       "      <th>age</th>\n",
       "      <th>sex</th>\n",
       "      <th>trestbps</th>\n",
       "      <th>chol</th>\n",
       "      <th>fbs</th>\n",
       "      <th>thalach</th>\n",
       "      <th>exang</th>\n",
       "      <th>oldpeak</th>\n",
       "      <th>cp_0</th>\n",
       "      <th>cp_1</th>\n",
       "      <th>...</th>\n",
       "      <th>slope_2</th>\n",
       "      <th>ca_0</th>\n",
       "      <th>ca_1</th>\n",
       "      <th>ca_2</th>\n",
       "      <th>ca_3</th>\n",
       "      <th>ca_4</th>\n",
       "      <th>thal_0</th>\n",
       "      <th>thal_1</th>\n",
       "      <th>thal_2</th>\n",
       "      <th>thal_3</th>\n",
       "    </tr>\n",
       "  </thead>\n",
       "  <tbody>\n",
       "    <tr>\n",
       "      <th>256</th>\n",
       "      <td>0.604167</td>\n",
       "      <td>1.0</td>\n",
       "      <td>0.320755</td>\n",
       "      <td>0.303653</td>\n",
       "      <td>0.0</td>\n",
       "      <td>0.450382</td>\n",
       "      <td>1.0</td>\n",
       "      <td>0.483871</td>\n",
       "      <td>1.0</td>\n",
       "      <td>0.0</td>\n",
       "      <td>...</td>\n",
       "      <td>0.0</td>\n",
       "      <td>0.0</td>\n",
       "      <td>0.0</td>\n",
       "      <td>1.0</td>\n",
       "      <td>0.0</td>\n",
       "      <td>0.0</td>\n",
       "      <td>0.0</td>\n",
       "      <td>0.0</td>\n",
       "      <td>0.0</td>\n",
       "      <td>1.0</td>\n",
       "    </tr>\n",
       "    <tr>\n",
       "      <th>278</th>\n",
       "      <td>0.604167</td>\n",
       "      <td>0.0</td>\n",
       "      <td>0.396226</td>\n",
       "      <td>0.440639</td>\n",
       "      <td>1.0</td>\n",
       "      <td>0.618321</td>\n",
       "      <td>0.0</td>\n",
       "      <td>0.000000</td>\n",
       "      <td>0.0</td>\n",
       "      <td>1.0</td>\n",
       "      <td>...</td>\n",
       "      <td>1.0</td>\n",
       "      <td>0.0</td>\n",
       "      <td>0.0</td>\n",
       "      <td>1.0</td>\n",
       "      <td>0.0</td>\n",
       "      <td>0.0</td>\n",
       "      <td>0.0</td>\n",
       "      <td>0.0</td>\n",
       "      <td>1.0</td>\n",
       "      <td>0.0</td>\n",
       "    </tr>\n",
       "    <tr>\n",
       "      <th>123</th>\n",
       "      <td>0.520833</td>\n",
       "      <td>0.0</td>\n",
       "      <td>0.132075</td>\n",
       "      <td>0.321918</td>\n",
       "      <td>0.0</td>\n",
       "      <td>0.732824</td>\n",
       "      <td>0.0</td>\n",
       "      <td>0.000000</td>\n",
       "      <td>0.0</td>\n",
       "      <td>0.0</td>\n",
       "      <td>...</td>\n",
       "      <td>1.0</td>\n",
       "      <td>1.0</td>\n",
       "      <td>0.0</td>\n",
       "      <td>0.0</td>\n",
       "      <td>0.0</td>\n",
       "      <td>0.0</td>\n",
       "      <td>0.0</td>\n",
       "      <td>0.0</td>\n",
       "      <td>1.0</td>\n",
       "      <td>0.0</td>\n",
       "    </tr>\n",
       "    <tr>\n",
       "      <th>128</th>\n",
       "      <td>0.479167</td>\n",
       "      <td>0.0</td>\n",
       "      <td>0.396226</td>\n",
       "      <td>0.159817</td>\n",
       "      <td>0.0</td>\n",
       "      <td>0.748092</td>\n",
       "      <td>0.0</td>\n",
       "      <td>0.016129</td>\n",
       "      <td>0.0</td>\n",
       "      <td>0.0</td>\n",
       "      <td>...</td>\n",
       "      <td>0.0</td>\n",
       "      <td>1.0</td>\n",
       "      <td>0.0</td>\n",
       "      <td>0.0</td>\n",
       "      <td>0.0</td>\n",
       "      <td>0.0</td>\n",
       "      <td>0.0</td>\n",
       "      <td>0.0</td>\n",
       "      <td>1.0</td>\n",
       "      <td>0.0</td>\n",
       "    </tr>\n",
       "    <tr>\n",
       "      <th>156</th>\n",
       "      <td>0.375000</td>\n",
       "      <td>1.0</td>\n",
       "      <td>0.339623</td>\n",
       "      <td>0.289954</td>\n",
       "      <td>0.0</td>\n",
       "      <td>0.824427</td>\n",
       "      <td>0.0</td>\n",
       "      <td>0.000000</td>\n",
       "      <td>0.0</td>\n",
       "      <td>0.0</td>\n",
       "      <td>...</td>\n",
       "      <td>1.0</td>\n",
       "      <td>1.0</td>\n",
       "      <td>0.0</td>\n",
       "      <td>0.0</td>\n",
       "      <td>0.0</td>\n",
       "      <td>0.0</td>\n",
       "      <td>0.0</td>\n",
       "      <td>0.0</td>\n",
       "      <td>1.0</td>\n",
       "      <td>0.0</td>\n",
       "    </tr>\n",
       "  </tbody>\n",
       "</table>\n",
       "<p>5 rows × 27 columns</p>\n",
       "</div>"
      ],
      "text/plain": [
       "          age  sex  trestbps      chol  fbs   thalach  exang   oldpeak  cp_0  \\\n",
       "256  0.604167  1.0  0.320755  0.303653  0.0  0.450382    1.0  0.483871   1.0   \n",
       "278  0.604167  0.0  0.396226  0.440639  1.0  0.618321    0.0  0.000000   0.0   \n",
       "123  0.520833  0.0  0.132075  0.321918  0.0  0.732824    0.0  0.000000   0.0   \n",
       "128  0.479167  0.0  0.396226  0.159817  0.0  0.748092    0.0  0.016129   0.0   \n",
       "156  0.375000  1.0  0.339623  0.289954  0.0  0.824427    0.0  0.000000   0.0   \n",
       "\n",
       "     cp_1  ...  slope_2  ca_0  ca_1  ca_2  ca_3  ca_4  thal_0  thal_1  thal_2  \\\n",
       "256   0.0  ...      0.0   0.0   0.0   1.0   0.0   0.0     0.0     0.0     0.0   \n",
       "278   1.0  ...      1.0   0.0   0.0   1.0   0.0   0.0     0.0     0.0     1.0   \n",
       "123   0.0  ...      1.0   1.0   0.0   0.0   0.0   0.0     0.0     0.0     1.0   \n",
       "128   0.0  ...      0.0   1.0   0.0   0.0   0.0   0.0     0.0     0.0     1.0   \n",
       "156   0.0  ...      1.0   1.0   0.0   0.0   0.0   0.0     0.0     0.0     1.0   \n",
       "\n",
       "     thal_3  \n",
       "256     1.0  \n",
       "278     0.0  \n",
       "123     0.0  \n",
       "128     0.0  \n",
       "156     0.0  \n",
       "\n",
       "[5 rows x 27 columns]"
      ]
     },
     "execution_count": 64,
     "metadata": {},
     "output_type": "execute_result"
    }
   ],
   "source": [
    "pd.DataFrame(heart, columns=heart_copy.columns).sample(5, random_state=999)"
   ]
  },
  {
   "cell_type": "markdown",
   "metadata": {},
   "source": [
    "<a id ='Fselction'></a>\n",
    "\n",
    "## Feature Selection And Ranking\n"
   ]
  },
  {
   "cell_type": "markdown",
   "metadata": {},
   "source": [
    "### F-Score Feature Selection \n",
    "\n",
    "We will now look at the 10 most important features as selected by their F-Score in the full dataset. This will give us some insight into what features are the most relevent. The F-Score uses the distribution of the relationship between the feature and the Target to produce a score. The higher the score, the more likely a feature is related to the target in some capacity. These results will guide our hyperparameter tuning, as we will include the F-Score Selection as part of our pipeline. "
   ]
  },
  {
   "cell_type": "code",
   "execution_count": 65,
   "metadata": {},
   "outputs": [],
   "source": [
    "number_f = 10"
   ]
  },
  {
   "cell_type": "markdown",
   "metadata": {},
   "source": [
    "Code below will output the 10 best features column numbers"
   ]
  },
  {
   "cell_type": "code",
   "execution_count": 66,
   "metadata": {},
   "outputs": [
    {
     "data": {
      "text/plain": [
       "array([25,  8, 26, 18,  6,  7,  5, 17, 16, 10])"
      ]
     },
     "execution_count": 66,
     "metadata": {},
     "output_type": "execute_result"
    }
   ],
   "source": [
    "fs_Fscore = fs.SelectKBest(fs.f_classif, k=number_f)\n",
    "fs_Fscore.fit_transform(heart, target)\n",
    "fs_colNum_fscore = np.argsort(fs_Fscore.scores_)[::-1][0:number_f]\n",
    "fs_colNum_fscore"
   ]
  },
  {
   "cell_type": "markdown",
   "metadata": {},
   "source": [
    "Code below will output the best the names of all the best features according their F-Score"
   ]
  },
  {
   "cell_type": "code",
   "execution_count": 67,
   "metadata": {},
   "outputs": [
    {
     "data": {
      "text/plain": [
       "array(['thal_2', 'cp_0', 'thal_3', 'ca_0', 'exang', 'oldpeak', 'thalach',\n",
       "       'slope_2', 'slope_1', 'cp_2'], dtype=object)"
      ]
     },
     "execution_count": 67,
     "metadata": {},
     "output_type": "execute_result"
    }
   ],
   "source": [
    "best_Features_Fscore = heart_copy.columns[fs_colNum_fscore].values\n",
    "best_Features_Fscore"
   ]
  },
  {
   "cell_type": "markdown",
   "metadata": {},
   "source": [
    "The F-Score of each of the best features is outpuuted below"
   ]
  },
  {
   "cell_type": "code",
   "execution_count": 68,
   "metadata": {},
   "outputs": [
    {
     "data": {
      "text/plain": [
       "array([115.94409453, 109.23326767,  93.13641568,  83.30805433,\n",
       "        70.95243822,  68.55143941,  65.1201044 ,  55.33459452,\n",
       "        45.40806725,  33.56548086])"
      ]
     },
     "execution_count": 68,
     "metadata": {},
     "output_type": "execute_result"
    }
   ],
   "source": [
    "fs_importance = fs_Fscore.scores_[fs_colNum_fscore]\n",
    "fs_importance"
   ]
  },
  {
   "cell_type": "code",
   "execution_count": 69,
   "metadata": {},
   "outputs": [],
   "source": [
    "import altair as alt\n",
    "\n",
    "def plot_importance(best_features, scores, method_name, color):\n",
    "    \n",
    "    df = pd.DataFrame({'features': best_features, \n",
    "                       'importances': scores})\n",
    "    \n",
    "    chart = alt.Chart(df,height = 100, width = 200, \n",
    "                      title=method_name + ' Feature Importances'\n",
    "                     ).mark_bar(opacity=0.85, \n",
    "                                color=color).encode(\n",
    "        alt.X('features', title='Feature', sort=None, axis=alt.AxisConfig(labelAngle=45)),\n",
    "        alt.Y('importances', title='Importance')\n",
    "    )\n",
    "    \n",
    "    return chart"
   ]
  },
  {
   "cell_type": "code",
   "execution_count": 70,
   "metadata": {},
   "outputs": [
    {
     "data": {
      "text/html": [
       "\n",
       "<div id=\"altair-viz-d8a7891dc8ff4409984bf1c59523262e\"></div>\n",
       "<script type=\"text/javascript\">\n",
       "  (function(spec, embedOpt){\n",
       "    const outputDiv = document.getElementById(\"altair-viz-d8a7891dc8ff4409984bf1c59523262e\");\n",
       "    const paths = {\n",
       "      \"vega\": \"https://cdn.jsdelivr.net/npm//vega@5?noext\",\n",
       "      \"vega-lib\": \"https://cdn.jsdelivr.net/npm//vega-lib?noext\",\n",
       "      \"vega-lite\": \"https://cdn.jsdelivr.net/npm//vega-lite@4.0.2?noext\",\n",
       "      \"vega-embed\": \"https://cdn.jsdelivr.net/npm//vega-embed@6?noext\",\n",
       "    };\n",
       "\n",
       "    function loadScript(lib) {\n",
       "      return new Promise(function(resolve, reject) {\n",
       "        var s = document.createElement('script');\n",
       "        s.src = paths[lib];\n",
       "        s.async = true;\n",
       "        s.onload = () => resolve(paths[lib]);\n",
       "        s.onerror = () => reject(`Error loading script: ${paths[lib]}`);\n",
       "        document.getElementsByTagName(\"head\")[0].appendChild(s);\n",
       "      });\n",
       "    }\n",
       "\n",
       "    function showError(err) {\n",
       "      outputDiv.innerHTML = `<div class=\"error\" style=\"color:red;\">${err}</div>`;\n",
       "      throw err;\n",
       "    }\n",
       "\n",
       "    function displayChart(vegaEmbed) {\n",
       "      vegaEmbed(outputDiv, spec, embedOpt)\n",
       "        .catch(err => showError(`Javascript Error: ${err.message}<br>This usually means there's a typo in your chart specification. See the javascript console for the full traceback.`));\n",
       "    }\n",
       "\n",
       "    if(typeof define === \"function\" && define.amd) {\n",
       "      requirejs.config({paths});\n",
       "      require([\"vega-embed\"], displayChart, err => showError(`Error loading script: ${err.message}`));\n",
       "    } else if (typeof vegaEmbed === \"function\") {\n",
       "      displayChart(vegaEmbed);\n",
       "    } else {\n",
       "      loadScript(\"vega\")\n",
       "        .then(() => loadScript(\"vega-lite\"))\n",
       "        .then(() => loadScript(\"vega-embed\"))\n",
       "        .catch(showError)\n",
       "        .then(() => displayChart(vegaEmbed));\n",
       "    }\n",
       "  })({\"config\": {\"view\": {\"continuousWidth\": 400, \"continuousHeight\": 300}}, \"data\": {\"name\": \"data-e2eea0bec51a2f12e7795f16fae3900a\"}, \"mark\": {\"type\": \"bar\", \"color\": \"red\", \"opacity\": 0.85}, \"encoding\": {\"x\": {\"type\": \"nominal\", \"axis\": {\"labelAngle\": 45}, \"field\": \"features\", \"sort\": null, \"title\": \"Feature\"}, \"y\": {\"type\": \"quantitative\", \"field\": \"importances\", \"title\": \"Importance\"}}, \"height\": 100, \"title\": \"F-Score Feature Importances\", \"width\": 200, \"$schema\": \"https://vega.github.io/schema/vega-lite/v4.0.2.json\", \"datasets\": {\"data-e2eea0bec51a2f12e7795f16fae3900a\": [{\"features\": \"thal_2\", \"importances\": 115.94409453103076}, {\"features\": \"cp_0\", \"importances\": 109.23326766953937}, {\"features\": \"thal_3\", \"importances\": 93.13641567610426}, {\"features\": \"ca_0\", \"importances\": 83.30805433350663}, {\"features\": \"exang\", \"importances\": 70.95243821639583}, {\"features\": \"oldpeak\", \"importances\": 68.55143941030713}, {\"features\": \"thalach\", \"importances\": 65.12010440125152}, {\"features\": \"slope_2\", \"importances\": 55.334594524132356}, {\"features\": \"slope_1\", \"importances\": 45.408067248090696}, {\"features\": \"cp_2\", \"importances\": 33.56548085954464}]}}, {\"mode\": \"vega-lite\"});\n",
       "</script>"
      ],
      "text/plain": [
       "alt.Chart(...)"
      ]
     },
     "execution_count": 70,
     "metadata": {},
     "output_type": "execute_result"
    }
   ],
   "source": [
    "plot_importance(best_Features_Fscore, fs_importance, \"F-Score\", \"red\")"
   ]
  },
  {
   "cell_type": "markdown",
   "metadata": {},
   "source": [
    "According to the F-Scores, the highest F-Score was thal_2, which refers to a fixed defect. This is followed by a chest pain value of 0 (cp_0) which refers to a typical angina, and then followed by thal_3 (which refers to a reversable defect). As a side note, all the features refer to an aspect of the chest or heart in some capacity."
   ]
  },
  {
   "cell_type": "markdown",
   "metadata": {},
   "source": [
    "### Data Train and Test Splitting\n",
    "\n",
    "The original dataset contains 303 values, which isn't a lot, therefore we shall use all 303 rows for the train and test split. We will also use a 70:30 ratio for the train and test split."
   ]
  },
  {
   "cell_type": "code",
   "execution_count": 71,
   "metadata": {},
   "outputs": [
    {
     "name": "stdout",
     "output_type": "stream",
     "text": [
      "(303, 27)\n",
      "(303, 1)\n"
     ]
    }
   ],
   "source": [
    "heart_sample = pd.DataFrame(heart).values\n",
    "target_sample = pd.DataFrame(target).values\n",
    "\n",
    "print(heart_sample.shape)\n",
    "print(target_sample.shape)"
   ]
  },
  {
   "cell_type": "code",
   "execution_count": 72,
   "metadata": {},
   "outputs": [
    {
     "name": "stdout",
     "output_type": "stream",
     "text": [
      "(212, 27)\n",
      "(91, 27)\n"
     ]
    }
   ],
   "source": [
    "from sklearn.model_selection import train_test_split\n",
    "\n",
    "heart_train, heart_test, \\\n",
    "target_train, target_test = train_test_split(heart_sample, target_sample, \n",
    "                                                    test_size = 0.3, random_state=999,\n",
    "                                                    stratify = target_sample)\n",
    "\n",
    "print(heart_train.shape)\n",
    "print(heart_test.shape)"
   ]
  },
  {
   "cell_type": "markdown",
   "metadata": {},
   "source": [
    "### Model Evaluation Strategy\n",
    "\n",
    "We will train and tune our data on the 212 rows and test it against 91 rows. \n",
    "\n",
    "For each model we will also used a 5 fold stratified cross-validation. The stratified cross validation will help in making sure each fold is a representative of the whole <cite data-cite = 'CrossVal'>(Kohavi, 1995)</cite>. Stratification is generally a better scheme when dealing with variance and bias compared to regular cross validation."
   ]
  },
  {
   "cell_type": "code",
   "execution_count": 73,
   "metadata": {},
   "outputs": [],
   "source": [
    "from sklearn.model_selection import StratifiedKFold, GridSearchCV\n",
    "\n",
    "cross_val_method = StratifiedKFold(n_splits=5, random_state=999)"
   ]
  },
  {
   "cell_type": "markdown",
   "metadata": {},
   "source": [
    "<a id ='Hyper'></a>\n",
    "\n",
    "# Hyperparameter Tuning\n"
   ]
  },
  {
   "cell_type": "markdown",
   "metadata": {},
   "source": [
    "## K-Nearest Neighbour (KNN)\n",
    "\n",
    "Using a pipeline, I will conduct a grid search to find the best features for KNN. I will tune the hyperparameters on:\n",
    "\n",
    "* Number of Neighbours (`n_neighbours`)\n",
    "* p (Manhatten, Euclidean and Minkowski)\n",
    "\n",
    "Similar usages of a Pipeline will be used on subsequent models."
   ]
  },
  {
   "cell_type": "code",
   "execution_count": 74,
   "metadata": {},
   "outputs": [],
   "source": [
    "from sklearn.pipeline import Pipeline\n",
    "from sklearn.neighbors import KNeighborsClassifier\n",
    "\n",
    "pipe_KNN = Pipeline([('fselector', fs.SelectKBest()), \n",
    "                     ('knn', KNeighborsClassifier())])\n",
    "\n",
    "params_pipe_KNN = {'fselector__k': [5,10, 20, heart.shape[1]],\n",
    "                   'knn__n_neighbors': [1, 5, 10, 15, 20, 25, 30 ,35, 40, 60],\n",
    "                   'knn__p': [1, 2, 3, 4, 5]}\n",
    " \n",
    "GridSearch_KNN = GridSearchCV(estimator=pipe_KNN, \n",
    "                           param_grid=params_pipe_KNN, \n",
    "                           cv=cross_val_method,\n",
    "                           scoring='roc_auc',\n",
    "                           verbose=1) \n"
   ]
  },
  {
   "cell_type": "code",
   "execution_count": 75,
   "metadata": {},
   "outputs": [
    {
     "name": "stdout",
     "output_type": "stream",
     "text": [
      "Fitting 5 folds for each of 200 candidates, totalling 1000 fits\n"
     ]
    },
    {
     "name": "stderr",
     "output_type": "stream",
     "text": [
      "[Parallel(n_jobs=1)]: Using backend SequentialBackend with 1 concurrent workers.\n",
      "[Parallel(n_jobs=1)]: Done 1000 out of 1000 | elapsed:   10.5s finished\n"
     ]
    }
   ],
   "source": [
    "GridSearch_KNN.fit(heart_train, target_train);"
   ]
  },
  {
   "cell_type": "code",
   "execution_count": 76,
   "metadata": {},
   "outputs": [
    {
     "data": {
      "text/plain": [
       "{'fselector__k': 20, 'knn__n_neighbors': 40, 'knn__p': 4}"
      ]
     },
     "execution_count": 76,
     "metadata": {},
     "output_type": "execute_result"
    }
   ],
   "source": [
    "GridSearch_KNN.best_params_"
   ]
  },
  {
   "cell_type": "code",
   "execution_count": 77,
   "metadata": {},
   "outputs": [
    {
     "data": {
      "text/plain": [
       "0.9181671236129701"
      ]
     },
     "execution_count": 77,
     "metadata": {},
     "output_type": "execute_result"
    }
   ],
   "source": [
    "GridSearch_KNN.best_score_"
   ]
  },
  {
   "cell_type": "markdown",
   "metadata": {},
   "source": [
    "We observe that the best parameters for the KNN are 20 features, 40 neighbours and p = 4. This gives an AUC score ~0.917."
   ]
  },
  {
   "cell_type": "markdown",
   "metadata": {},
   "source": [
    "Below is a custom function from <cite data-cite= 'Custom'>(Vural, 2019)</cite>, this function will get the search results of a pipeline and convert it into a pandas dataframe"
   ]
  },
  {
   "cell_type": "code",
   "execution_count": 78,
   "metadata": {},
   "outputs": [],
   "source": [
    "def get_search_results(gs):\n",
    "\n",
    "    def model_result(scores, params):\n",
    "        scores = {'mean_score': np.mean(scores),\n",
    "             'std_score': np.std(scores),\n",
    "             'min_score': np.min(scores),\n",
    "             'max_score': np.max(scores)}\n",
    "        return pd.Series({**params,**scores})\n",
    "\n",
    "    models = []\n",
    "    scores = []\n",
    "\n",
    "    for i in range(gs.n_splits_):\n",
    "        key = f\"split{i}_test_score\"\n",
    "        r = gs.cv_results_[key]        \n",
    "        scores.append(r.reshape(-1,1))\n",
    "\n",
    "    all_scores = np.hstack(scores)\n",
    "    for p, s in zip(gs.cv_results_['params'], all_scores):\n",
    "        models.append((model_result(s, p)))\n",
    "\n",
    "    pipe_results = pd.concat(models, axis=1).T.sort_values(['mean_score'], ascending=False)\n",
    "\n",
    "    columns_first = ['mean_score', 'std_score', 'max_score', 'min_score']\n",
    "    columns = columns_first + [c for c in pipe_results.columns if c not in columns_first]\n",
    "\n",
    "    return pipe_results[columns]"
   ]
  },
  {
   "cell_type": "code",
   "execution_count": 79,
   "metadata": {},
   "outputs": [
    {
     "data": {
      "text/html": [
       "<div>\n",
       "<style scoped>\n",
       "    .dataframe tbody tr th:only-of-type {\n",
       "        vertical-align: middle;\n",
       "    }\n",
       "\n",
       "    .dataframe tbody tr th {\n",
       "        vertical-align: top;\n",
       "    }\n",
       "\n",
       "    .dataframe thead th {\n",
       "        text-align: right;\n",
       "    }\n",
       "</style>\n",
       "<table border=\"1\" class=\"dataframe\">\n",
       "  <thead>\n",
       "    <tr style=\"text-align: right;\">\n",
       "      <th></th>\n",
       "      <th>mean_score</th>\n",
       "      <th>std_score</th>\n",
       "      <th>max_score</th>\n",
       "      <th>min_score</th>\n",
       "      <th>fselector__k</th>\n",
       "      <th>knn__n_neighbors</th>\n",
       "      <th>knn__p</th>\n",
       "    </tr>\n",
       "  </thead>\n",
       "  <tbody>\n",
       "    <tr>\n",
       "      <th>143</th>\n",
       "      <td>0.917952</td>\n",
       "      <td>0.050604</td>\n",
       "      <td>0.983982</td>\n",
       "      <td>0.842105</td>\n",
       "      <td>20.0</td>\n",
       "      <td>40.0</td>\n",
       "      <td>4.0</td>\n",
       "    </tr>\n",
       "    <tr>\n",
       "      <th>142</th>\n",
       "      <td>0.917746</td>\n",
       "      <td>0.050374</td>\n",
       "      <td>0.983982</td>\n",
       "      <td>0.842105</td>\n",
       "      <td>20.0</td>\n",
       "      <td>40.0</td>\n",
       "      <td>3.0</td>\n",
       "    </tr>\n",
       "    <tr>\n",
       "      <th>144</th>\n",
       "      <td>0.917506</td>\n",
       "      <td>0.050730</td>\n",
       "      <td>0.983982</td>\n",
       "      <td>0.842105</td>\n",
       "      <td>20.0</td>\n",
       "      <td>40.0</td>\n",
       "      <td>5.0</td>\n",
       "    </tr>\n",
       "    <tr>\n",
       "      <th>199</th>\n",
       "      <td>0.917391</td>\n",
       "      <td>0.045720</td>\n",
       "      <td>0.983982</td>\n",
       "      <td>0.856979</td>\n",
       "      <td>27.0</td>\n",
       "      <td>60.0</td>\n",
       "      <td>5.0</td>\n",
       "    </tr>\n",
       "    <tr>\n",
       "      <th>198</th>\n",
       "      <td>0.917162</td>\n",
       "      <td>0.045927</td>\n",
       "      <td>0.983982</td>\n",
       "      <td>0.856979</td>\n",
       "      <td>27.0</td>\n",
       "      <td>60.0</td>\n",
       "      <td>4.0</td>\n",
       "    </tr>\n",
       "  </tbody>\n",
       "</table>\n",
       "</div>"
      ],
      "text/plain": [
       "     mean_score  std_score  max_score  min_score  fselector__k  \\\n",
       "143    0.917952   0.050604   0.983982   0.842105          20.0   \n",
       "142    0.917746   0.050374   0.983982   0.842105          20.0   \n",
       "144    0.917506   0.050730   0.983982   0.842105          20.0   \n",
       "199    0.917391   0.045720   0.983982   0.856979          27.0   \n",
       "198    0.917162   0.045927   0.983982   0.856979          27.0   \n",
       "\n",
       "     knn__n_neighbors  knn__p  \n",
       "143              40.0     4.0  \n",
       "142              40.0     3.0  \n",
       "144              40.0     5.0  \n",
       "199              60.0     5.0  \n",
       "198              60.0     4.0  "
      ]
     },
     "execution_count": 79,
     "metadata": {},
     "output_type": "execute_result"
    }
   ],
   "source": [
    "KNN_results = get_search_results(GridSearch_KNN)\n",
    "KNN_results.head()"
   ]
  },
  {
   "cell_type": "markdown",
   "metadata": {},
   "source": [
    "We observe that the best grid search results all contain 20 or more features with a p value refering to a Minkowski distance parameter. \n",
    "\n",
    "The below function allows us to visualise the grid search based on the number of features entered."
   ]
  },
  {
   "cell_type": "code",
   "execution_count": 80,
   "metadata": {},
   "outputs": [],
   "source": [
    "import altair as alt\n",
    "\n",
    "def plot_GS_KNN(number_features):\n",
    "    results_KNN_x_features = KNN_results[KNN_results['fselector__k'] == number_features]\n",
    "\n",
    "    chart = alt.Chart(results_KNN_x_features, height = 100, width = 150,\n",
    "          title='KNN Performance Comparison with ' + str(number_features) + \" Features\"\n",
    "         ).mark_line(point=True).encode(\n",
    "    alt.X('knn__n_neighbors', title='Number of Neighbors'),\n",
    "    alt.Y('mean_score', title='AUC Score', scale=alt.Scale(zero=False)),\n",
    "    alt.Color('knn__p:N', title='p')\n",
    "    )\n",
    "    return chart\n"
   ]
  },
  {
   "cell_type": "code",
   "execution_count": 81,
   "metadata": {},
   "outputs": [
    {
     "data": {
      "text/html": [
       "\n",
       "<div id=\"altair-viz-9d34986e5db748b6a21c8a518240c871\"></div>\n",
       "<script type=\"text/javascript\">\n",
       "  (function(spec, embedOpt){\n",
       "    const outputDiv = document.getElementById(\"altair-viz-9d34986e5db748b6a21c8a518240c871\");\n",
       "    const paths = {\n",
       "      \"vega\": \"https://cdn.jsdelivr.net/npm//vega@5?noext\",\n",
       "      \"vega-lib\": \"https://cdn.jsdelivr.net/npm//vega-lib?noext\",\n",
       "      \"vega-lite\": \"https://cdn.jsdelivr.net/npm//vega-lite@4.0.2?noext\",\n",
       "      \"vega-embed\": \"https://cdn.jsdelivr.net/npm//vega-embed@6?noext\",\n",
       "    };\n",
       "\n",
       "    function loadScript(lib) {\n",
       "      return new Promise(function(resolve, reject) {\n",
       "        var s = document.createElement('script');\n",
       "        s.src = paths[lib];\n",
       "        s.async = true;\n",
       "        s.onload = () => resolve(paths[lib]);\n",
       "        s.onerror = () => reject(`Error loading script: ${paths[lib]}`);\n",
       "        document.getElementsByTagName(\"head\")[0].appendChild(s);\n",
       "      });\n",
       "    }\n",
       "\n",
       "    function showError(err) {\n",
       "      outputDiv.innerHTML = `<div class=\"error\" style=\"color:red;\">${err}</div>`;\n",
       "      throw err;\n",
       "    }\n",
       "\n",
       "    function displayChart(vegaEmbed) {\n",
       "      vegaEmbed(outputDiv, spec, embedOpt)\n",
       "        .catch(err => showError(`Javascript Error: ${err.message}<br>This usually means there's a typo in your chart specification. See the javascript console for the full traceback.`));\n",
       "    }\n",
       "\n",
       "    if(typeof define === \"function\" && define.amd) {\n",
       "      requirejs.config({paths});\n",
       "      require([\"vega-embed\"], displayChart, err => showError(`Error loading script: ${err.message}`));\n",
       "    } else if (typeof vegaEmbed === \"function\") {\n",
       "      displayChart(vegaEmbed);\n",
       "    } else {\n",
       "      loadScript(\"vega\")\n",
       "        .then(() => loadScript(\"vega-lite\"))\n",
       "        .then(() => loadScript(\"vega-embed\"))\n",
       "        .catch(showError)\n",
       "        .then(() => displayChart(vegaEmbed));\n",
       "    }\n",
       "  })({\"config\": {\"view\": {\"continuousWidth\": 400, \"continuousHeight\": 300}}, \"data\": {\"name\": \"data-3bae83965198728578e10afd46ebc8b9\"}, \"mark\": {\"type\": \"line\", \"point\": true}, \"encoding\": {\"color\": {\"type\": \"nominal\", \"field\": \"knn__p\", \"title\": \"p\"}, \"x\": {\"type\": \"quantitative\", \"field\": \"knn__n_neighbors\", \"title\": \"Number of Neighbors\"}, \"y\": {\"type\": \"quantitative\", \"field\": \"mean_score\", \"scale\": {\"zero\": false}, \"title\": \"AUC Score\"}}, \"height\": 100, \"title\": \"KNN Performance Comparison with 20 Features\", \"width\": 150, \"$schema\": \"https://vega.github.io/schema/vega-lite/v4.0.2.json\", \"datasets\": {\"data-3bae83965198728578e10afd46ebc8b9\": [{\"mean_score\": 0.9179519450800914, \"std_score\": 0.05060446067887995, \"max_score\": 0.9839816933638444, \"min_score\": 0.8421052631578947, \"fselector__k\": 20.0, \"knn__n_neighbors\": 40.0, \"knn__p\": 4.0}, {\"mean_score\": 0.9177459954233409, \"std_score\": 0.050374319515706686, \"max_score\": 0.9839816933638446, \"min_score\": 0.8421052631578948, \"fselector__k\": 20.0, \"knn__n_neighbors\": 40.0, \"knn__p\": 3.0}, {\"mean_score\": 0.9175057208237986, \"std_score\": 0.05072953527281631, \"max_score\": 0.9839816933638446, \"min_score\": 0.8421052631578947, \"fselector__k\": 20.0, \"knn__n_neighbors\": 40.0, \"knn__p\": 5.0}, {\"mean_score\": 0.9166933638443936, \"std_score\": 0.048268843881259446, \"max_score\": 0.9851258581235698, \"min_score\": 0.851258581235698, \"fselector__k\": 20.0, \"knn__n_neighbors\": 35.0, \"knn__p\": 1.0}, {\"mean_score\": 0.9162356979405034, \"std_score\": 0.049508346293392395, \"max_score\": 0.9839816933638444, \"min_score\": 0.8421052631578948, \"fselector__k\": 20.0, \"knn__n_neighbors\": 40.0, \"knn__p\": 2.0}, {\"mean_score\": 0.9158237986270024, \"std_score\": 0.047308792989563905, \"max_score\": 0.9828375286041189, \"min_score\": 0.8466819221967964, \"fselector__k\": 20.0, \"knn__n_neighbors\": 35.0, \"knn__p\": 5.0}, {\"mean_score\": 0.9151258581235698, \"std_score\": 0.048795234630355275, \"max_score\": 0.9862700228832952, \"min_score\": 0.8489702517162472, \"fselector__k\": 20.0, \"knn__n_neighbors\": 60.0, \"knn__p\": 2.0}, {\"mean_score\": 0.9148970251716249, \"std_score\": 0.04903912851218895, \"max_score\": 0.9828375286041189, \"min_score\": 0.8409610983981693, \"fselector__k\": 20.0, \"knn__n_neighbors\": 35.0, \"knn__p\": 4.0}, {\"mean_score\": 0.9144736842105262, \"std_score\": 0.0504679130511312, \"max_score\": 0.9851258581235698, \"min_score\": 0.8375286041189932, \"fselector__k\": 20.0, \"knn__n_neighbors\": 40.0, \"knn__p\": 1.0}, {\"mean_score\": 0.9144508009153318, \"std_score\": 0.0493510451888607, \"max_score\": 0.9828375286041189, \"min_score\": 0.839816933638444, \"fselector__k\": 20.0, \"knn__n_neighbors\": 35.0, \"knn__p\": 3.0}, {\"mean_score\": 0.9136956521739131, \"std_score\": 0.0409639363398203, \"max_score\": 0.9771167048054921, \"min_score\": 0.8661327231121282, \"fselector__k\": 20.0, \"knn__n_neighbors\": 30.0, \"knn__p\": 3.0}, {\"mean_score\": 0.9136613272311213, \"std_score\": 0.04181383575114089, \"max_score\": 0.9771167048054921, \"min_score\": 0.8627002288329519, \"fselector__k\": 20.0, \"knn__n_neighbors\": 30.0, \"knn__p\": 4.0}, {\"mean_score\": 0.9130320366132724, \"std_score\": 0.04176973064340629, \"max_score\": 0.9782608695652174, \"min_score\": 0.8661327231121282, \"fselector__k\": 20.0, \"knn__n_neighbors\": 30.0, \"knn__p\": 2.0}, {\"mean_score\": 0.9128832951945082, \"std_score\": 0.04926809060933499, \"max_score\": 0.9828375286041191, \"min_score\": 0.8432494279176201, \"fselector__k\": 20.0, \"knn__n_neighbors\": 35.0, \"knn__p\": 2.0}, {\"mean_score\": 0.912700228832952, \"std_score\": 0.04955678598647937, \"max_score\": 0.9874141876430206, \"min_score\": 0.8466819221967964, \"fselector__k\": 20.0, \"knn__n_neighbors\": 60.0, \"knn__p\": 5.0}, {\"mean_score\": 0.912608695652174, \"std_score\": 0.048082434642306784, \"max_score\": 0.9794050343249427, \"min_score\": 0.8466819221967963, \"fselector__k\": 20.0, \"knn__n_neighbors\": 60.0, \"knn__p\": 1.0}, {\"mean_score\": 0.9125286041189931, \"std_score\": 0.04166997160954237, \"max_score\": 0.9748283752860413, \"min_score\": 0.860411899313501, \"fselector__k\": 20.0, \"knn__n_neighbors\": 30.0, \"knn__p\": 5.0}, {\"mean_score\": 0.912025171624714, \"std_score\": 0.050065810310251736, \"max_score\": 0.9874141876430206, \"min_score\": 0.8443935926773455, \"fselector__k\": 20.0, \"knn__n_neighbors\": 60.0, \"knn__p\": 4.0}, {\"mean_score\": 0.9120022883295194, \"std_score\": 0.050176450326184466, \"max_score\": 0.9862700228832951, \"min_score\": 0.8432494279176201, \"fselector__k\": 20.0, \"knn__n_neighbors\": 60.0, \"knn__p\": 3.0}, {\"mean_score\": 0.9091762013729976, \"std_score\": 0.04199942859945911, \"max_score\": 0.9816933638443937, \"min_score\": 0.856979405034325, \"fselector__k\": 20.0, \"knn__n_neighbors\": 15.0, \"knn__p\": 3.0}, {\"mean_score\": 0.9089588100686499, \"std_score\": 0.04194223987008333, \"max_score\": 0.9816933638443937, \"min_score\": 0.856979405034325, \"fselector__k\": 20.0, \"knn__n_neighbors\": 15.0, \"knn__p\": 4.0}, {\"mean_score\": 0.9089588100686499, \"std_score\": 0.04150479705407767, \"max_score\": 0.982837528604119, \"min_score\": 0.8672768878718535, \"fselector__k\": 20.0, \"knn__n_neighbors\": 30.0, \"knn__p\": 1.0}, {\"mean_score\": 0.9089016018306637, \"std_score\": 0.03948972578897752, \"max_score\": 0.9759725400457666, \"min_score\": 0.8592677345537758, \"fselector__k\": 20.0, \"knn__n_neighbors\": 20.0, \"knn__p\": 3.0}, {\"mean_score\": 0.908741418764302, \"std_score\": 0.041974014421695564, \"max_score\": 0.9816933638443937, \"min_score\": 0.856979405034325, \"fselector__k\": 20.0, \"knn__n_neighbors\": 15.0, \"knn__p\": 2.0}, {\"mean_score\": 0.908741418764302, \"std_score\": 0.041889486029215016, \"max_score\": 0.9816933638443937, \"min_score\": 0.856979405034325, \"fselector__k\": 20.0, \"knn__n_neighbors\": 15.0, \"knn__p\": 5.0}, {\"mean_score\": 0.9084897025171624, \"std_score\": 0.03707829333481649, \"max_score\": 0.9748283752860412, \"min_score\": 0.8728260869565216, \"fselector__k\": 20.0, \"knn__n_neighbors\": 5.0, \"knn__p\": 1.0}, {\"mean_score\": 0.9084553775743707, \"std_score\": 0.03921368958506997, \"max_score\": 0.9748283752860412, \"min_score\": 0.8581235697940504, \"fselector__k\": 20.0, \"knn__n_neighbors\": 20.0, \"knn__p\": 5.0}, {\"mean_score\": 0.9082265446224256, \"std_score\": 0.0395089617840815, \"max_score\": 0.9748283752860412, \"min_score\": 0.856979405034325, \"fselector__k\": 20.0, \"knn__n_neighbors\": 20.0, \"knn__p\": 4.0}, {\"mean_score\": 0.9081922196796339, \"std_score\": 0.04254710773588977, \"max_score\": 0.9851258581235698, \"min_score\": 0.8663043478260869, \"fselector__k\": 20.0, \"knn__n_neighbors\": 10.0, \"knn__p\": 1.0}, {\"mean_score\": 0.90733409610984, \"std_score\": 0.04007649033900334, \"max_score\": 0.9759725400457666, \"min_score\": 0.8592677345537756, \"fselector__k\": 20.0, \"knn__n_neighbors\": 20.0, \"knn__p\": 2.0}, {\"mean_score\": 0.9067048054919908, \"std_score\": 0.0415613403791581, \"max_score\": 0.9851258581235698, \"min_score\": 0.8663043478260869, \"fselector__k\": 20.0, \"knn__n_neighbors\": 10.0, \"knn__p\": 2.0}, {\"mean_score\": 0.9065560640732265, \"std_score\": 0.03851680056777192, \"max_score\": 0.9759725400457666, \"min_score\": 0.8718535469107552, \"fselector__k\": 20.0, \"knn__n_neighbors\": 5.0, \"knn__p\": 2.0}, {\"mean_score\": 0.9061784897025171, \"std_score\": 0.04002008002606947, \"max_score\": 0.9759725400457666, \"min_score\": 0.8592677345537758, \"fselector__k\": 20.0, \"knn__n_neighbors\": 5.0, \"knn__p\": 3.0}, {\"mean_score\": 0.90616704805492, \"std_score\": 0.04168891756642435, \"max_score\": 0.9805491990846682, \"min_score\": 0.8604118993135011, \"fselector__k\": 20.0, \"knn__n_neighbors\": 15.0, \"knn__p\": 1.0}, {\"mean_score\": 0.9057551487414187, \"std_score\": 0.039725683861520575, \"max_score\": 0.9759725400457666, \"min_score\": 0.8592677345537758, \"fselector__k\": 20.0, \"knn__n_neighbors\": 5.0, \"knn__p\": 4.0}, {\"mean_score\": 0.9055377574370709, \"std_score\": 0.04356902786184765, \"max_score\": 0.9794050343249427, \"min_score\": 0.8501144164759725, \"fselector__k\": 20.0, \"knn__n_neighbors\": 25.0, \"knn__p\": 2.0}, {\"mean_score\": 0.9055263157894737, \"std_score\": 0.04229795600061585, \"max_score\": 0.9851258581235698, \"min_score\": 0.8706521739130434, \"fselector__k\": 20.0, \"knn__n_neighbors\": 10.0, \"knn__p\": 4.0}, {\"mean_score\": 0.9053089244851259, \"std_score\": 0.042283899363774365, \"max_score\": 0.9851258581235698, \"min_score\": 0.8706521739130434, \"fselector__k\": 20.0, \"knn__n_neighbors\": 10.0, \"knn__p\": 5.0}, {\"mean_score\": 0.9048283752860412, \"std_score\": 0.0416668392946763, \"max_score\": 0.9736842105263157, \"min_score\": 0.8501144164759725, \"fselector__k\": 20.0, \"knn__n_neighbors\": 25.0, \"knn__p\": 1.0}, {\"mean_score\": 0.9044736842105262, \"std_score\": 0.03927456827661795, \"max_score\": 0.9736842105263157, \"min_score\": 0.8627002288329519, \"fselector__k\": 20.0, \"knn__n_neighbors\": 20.0, \"knn__p\": 1.0}, {\"mean_score\": 0.9043821510297482, \"std_score\": 0.0373209567665381, \"max_score\": 0.9691075514874142, \"min_score\": 0.8592677345537758, \"fselector__k\": 20.0, \"knn__n_neighbors\": 5.0, \"knn__p\": 5.0}, {\"mean_score\": 0.90337528604119, \"std_score\": 0.042447741578298365, \"max_score\": 0.9782608695652174, \"min_score\": 0.851258581235698, \"fselector__k\": 20.0, \"knn__n_neighbors\": 25.0, \"knn__p\": 5.0}, {\"mean_score\": 0.9033638443935926, \"std_score\": 0.042019322676075346, \"max_score\": 0.977116704805492, \"min_score\": 0.851258581235698, \"fselector__k\": 20.0, \"knn__n_neighbors\": 25.0, \"knn__p\": 3.0}, {\"mean_score\": 0.903146453089245, \"std_score\": 0.04201085700331943, \"max_score\": 0.977116704805492, \"min_score\": 0.851258581235698, \"fselector__k\": 20.0, \"knn__n_neighbors\": 25.0, \"knn__p\": 4.0}, {\"mean_score\": 0.9026430205949657, \"std_score\": 0.04420067663682586, \"max_score\": 0.9851258581235698, \"min_score\": 0.8619565217391304, \"fselector__k\": 20.0, \"knn__n_neighbors\": 10.0, \"knn__p\": 3.0}, {\"mean_score\": 0.8002745995423343, \"std_score\": 0.07664563563280426, \"max_score\": 0.908466819221968, \"min_score\": 0.6853546910755148, \"fselector__k\": 20.0, \"knn__n_neighbors\": 1.0, \"knn__p\": 1.0}, {\"mean_score\": 0.7996224256292906, \"std_score\": 0.06731917365349523, \"max_score\": 0.908466819221968, \"min_score\": 0.7070938215102974, \"fselector__k\": 20.0, \"knn__n_neighbors\": 1.0, \"knn__p\": 4.0}, {\"mean_score\": 0.7996224256292906, \"std_score\": 0.06731917365349523, \"max_score\": 0.908466819221968, \"min_score\": 0.7070938215102974, \"fselector__k\": 20.0, \"knn__n_neighbors\": 1.0, \"knn__p\": 3.0}, {\"mean_score\": 0.7943592677345539, \"std_score\": 0.059134964332608446, \"max_score\": 0.8821510297482836, \"min_score\": 0.7070938215102974, \"fselector__k\": 20.0, \"knn__n_neighbors\": 1.0, \"knn__p\": 5.0}, {\"mean_score\": 0.7909267734553775, \"std_score\": 0.07488513861830351, \"max_score\": 0.908466819221968, \"min_score\": 0.6853546910755148, \"fselector__k\": 20.0, \"knn__n_neighbors\": 1.0, \"knn__p\": 2.0}]}}, {\"mode\": \"vega-lite\"});\n",
       "</script>"
      ],
      "text/plain": [
       "alt.Chart(...)"
      ]
     },
     "execution_count": 81,
     "metadata": {},
     "output_type": "execute_result"
    }
   ],
   "source": [
    "plot_GS_KNN(20)"
   ]
  },
  {
   "cell_type": "markdown",
   "metadata": {},
   "source": [
    "We observe that the KNN performance with 40 neighbours had overall better results. We also observe that the p value distribitions are very similar in both cases."
   ]
  },
  {
   "cell_type": "markdown",
   "metadata": {},
   "source": [
    "## (Gaussian) Naive Bayes (NB)"
   ]
  },
  {
   "cell_type": "markdown",
   "metadata": {},
   "source": [
    "For the Gaussian Naive Bayes model, we want to optimise var_smoothing. To do this I used a NumPy logspace of 10, to 10 to the power of -2, with 200 different values. To meet the requirements of a Gaussian distribution, I need to first perform a power transformation on the train data before fitting the model."
   ]
  },
  {
   "cell_type": "code",
   "execution_count": 82,
   "metadata": {},
   "outputs": [],
   "source": [
    "from sklearn.preprocessing import PowerTransformer\n",
    "heart_train_transformed = PowerTransformer().fit_transform(heart_train)"
   ]
  },
  {
   "cell_type": "code",
   "execution_count": 83,
   "metadata": {},
   "outputs": [
    {
     "name": "stdout",
     "output_type": "stream",
     "text": [
      "Fitting 5 folds for each of 10 candidates, totalling 50 fits\n"
     ]
    },
    {
     "name": "stderr",
     "output_type": "stream",
     "text": [
      "[Parallel(n_jobs=-2)]: Using backend LokyBackend with 3 concurrent workers.\n",
      "[Parallel(n_jobs=-2)]: Done  50 out of  50 | elapsed:    2.1s finished\n"
     ]
    }
   ],
   "source": [
    "from sklearn.naive_bayes import GaussianNB\n",
    "from sklearn.model_selection import RandomizedSearchCV\n",
    "\n",
    "pipe_NB = Pipeline([('fselector', fs.SelectKBest()), \n",
    "                     ('nb', GaussianNB())])\n",
    "\n",
    "params_pipe_NB = {'fselector__k': [5,10, 20, heart.shape[1]],\n",
    "                  'nb__var_smoothing': np.logspace(1,-2, num=200)}\n",
    "\n",
    "\n",
    "gs_NB = RandomizedSearchCV(estimator=pipe_NB, \n",
    "                          param_distributions=params_pipe_NB, \n",
    "                          cv=cross_val_method,\n",
    "                          refit=True,\n",
    "                          n_jobs=-2,\n",
    "                          scoring='roc_auc',\n",
    "                          verbose=1) \n",
    "\n",
    "gs_NB.fit(heart_train_transformed, target_train);"
   ]
  },
  {
   "cell_type": "code",
   "execution_count": 84,
   "metadata": {},
   "outputs": [
    {
     "data": {
      "text/plain": [
       "{'nb__var_smoothing': 9.329304026284683, 'fselector__k': 20}"
      ]
     },
     "execution_count": 84,
     "metadata": {},
     "output_type": "execute_result"
    }
   ],
   "source": [
    "gs_NB.best_params_"
   ]
  },
  {
   "cell_type": "code",
   "execution_count": 85,
   "metadata": {},
   "outputs": [
    {
     "data": {
      "text/plain": [
       "0.9145341306506628"
      ]
     },
     "execution_count": 85,
     "metadata": {},
     "output_type": "execute_result"
    }
   ],
   "source": [
    "gs_NB.best_score_"
   ]
  },
  {
   "cell_type": "markdown",
   "metadata": {},
   "source": [
    "We observe the optimal parameters of the Gaussian NB model yields an AUC score of ~0.916 with a var_smoothing value of ~6.83. This however, is using all 26 features. This however looks as though it doesn't perform as well as the KNN which had a slightly higher score. This will be tested later on to see if each score are significantly different from one another."
   ]
  },
  {
   "cell_type": "code",
   "execution_count": 86,
   "metadata": {},
   "outputs": [
    {
     "data": {
      "text/html": [
       "<div>\n",
       "<style scoped>\n",
       "    .dataframe tbody tr th:only-of-type {\n",
       "        vertical-align: middle;\n",
       "    }\n",
       "\n",
       "    .dataframe tbody tr th {\n",
       "        vertical-align: top;\n",
       "    }\n",
       "\n",
       "    .dataframe thead th {\n",
       "        text-align: right;\n",
       "    }\n",
       "</style>\n",
       "<table border=\"1\" class=\"dataframe\">\n",
       "  <thead>\n",
       "    <tr style=\"text-align: right;\">\n",
       "      <th></th>\n",
       "      <th>mean_score</th>\n",
       "      <th>std_score</th>\n",
       "      <th>max_score</th>\n",
       "      <th>min_score</th>\n",
       "      <th>nb__var_smoothing</th>\n",
       "      <th>fselector__k</th>\n",
       "    </tr>\n",
       "  </thead>\n",
       "  <tbody>\n",
       "    <tr>\n",
       "      <th>0</th>\n",
       "      <td>0.914279</td>\n",
       "      <td>0.051319</td>\n",
       "      <td>0.979405</td>\n",
       "      <td>0.846682</td>\n",
       "      <td>9.329304</td>\n",
       "      <td>20.0</td>\n",
       "    </tr>\n",
       "    <tr>\n",
       "      <th>4</th>\n",
       "      <td>0.912105</td>\n",
       "      <td>0.050555</td>\n",
       "      <td>0.979405</td>\n",
       "      <td>0.846682</td>\n",
       "      <td>6.368250</td>\n",
       "      <td>20.0</td>\n",
       "    </tr>\n",
       "    <tr>\n",
       "      <th>7</th>\n",
       "      <td>0.909977</td>\n",
       "      <td>0.050757</td>\n",
       "      <td>0.981693</td>\n",
       "      <td>0.844394</td>\n",
       "      <td>4.347013</td>\n",
       "      <td>27.0</td>\n",
       "    </tr>\n",
       "    <tr>\n",
       "      <th>2</th>\n",
       "      <td>0.904508</td>\n",
       "      <td>0.049018</td>\n",
       "      <td>0.967963</td>\n",
       "      <td>0.830664</td>\n",
       "      <td>6.368250</td>\n",
       "      <td>10.0</td>\n",
       "    </tr>\n",
       "    <tr>\n",
       "      <th>9</th>\n",
       "      <td>0.900023</td>\n",
       "      <td>0.054291</td>\n",
       "      <td>0.967963</td>\n",
       "      <td>0.816934</td>\n",
       "      <td>0.144812</td>\n",
       "      <td>10.0</td>\n",
       "    </tr>\n",
       "  </tbody>\n",
       "</table>\n",
       "</div>"
      ],
      "text/plain": [
       "   mean_score  std_score  max_score  min_score  nb__var_smoothing  \\\n",
       "0    0.914279   0.051319   0.979405   0.846682           9.329304   \n",
       "4    0.912105   0.050555   0.979405   0.846682           6.368250   \n",
       "7    0.909977   0.050757   0.981693   0.844394           4.347013   \n",
       "2    0.904508   0.049018   0.967963   0.830664           6.368250   \n",
       "9    0.900023   0.054291   0.967963   0.816934           0.144812   \n",
       "\n",
       "   fselector__k  \n",
       "0          20.0  \n",
       "4          20.0  \n",
       "7          27.0  \n",
       "2          10.0  \n",
       "9          10.0  "
      ]
     },
     "execution_count": 86,
     "metadata": {},
     "output_type": "execute_result"
    }
   ],
   "source": [
    "results_NB = get_search_results(gs_NB)\n",
    "results_NB.head()"
   ]
  },
  {
   "cell_type": "markdown",
   "metadata": {},
   "source": [
    "We observe that all 26 features yield the best result for this model. However 20 features yield a score slightly less than the best parameter score. \n",
    "\n",
    "Below is a function to plot the distribution of var_smoothing with the AUC score, with the input being the number of features you want to visualise."
   ]
  },
  {
   "cell_type": "code",
   "execution_count": 87,
   "metadata": {},
   "outputs": [],
   "source": [
    "def plot_GS_NB(number_features):\n",
    "    results_NB_x_features = results_NB[results_NB['fselector__k'] == number_features]\n",
    "\n",
    "    chart = alt.Chart(results_NB_x_features,height = 100, width = 150,\n",
    "          title='NB Performance Comparison with ' + str(number_features) + \" Features\"\n",
    "         ).mark_line(point=True).encode(\n",
    "    alt.X('nb__var_smoothing', title='Var. Smoothing'),\n",
    "    alt.Y('mean_score', title='AUC Score', scale=alt.Scale(zero=False)),\n",
    "    )\n",
    "    return chart\n"
   ]
  },
  {
   "cell_type": "code",
   "execution_count": 88,
   "metadata": {},
   "outputs": [
    {
     "data": {
      "text/html": [
       "\n",
       "<div id=\"altair-viz-4defb38d956d43b2a719c5f707c5a0ac\"></div>\n",
       "<script type=\"text/javascript\">\n",
       "  (function(spec, embedOpt){\n",
       "    const outputDiv = document.getElementById(\"altair-viz-4defb38d956d43b2a719c5f707c5a0ac\");\n",
       "    const paths = {\n",
       "      \"vega\": \"https://cdn.jsdelivr.net/npm//vega@5?noext\",\n",
       "      \"vega-lib\": \"https://cdn.jsdelivr.net/npm//vega-lib?noext\",\n",
       "      \"vega-lite\": \"https://cdn.jsdelivr.net/npm//vega-lite@4.0.2?noext\",\n",
       "      \"vega-embed\": \"https://cdn.jsdelivr.net/npm//vega-embed@6?noext\",\n",
       "    };\n",
       "\n",
       "    function loadScript(lib) {\n",
       "      return new Promise(function(resolve, reject) {\n",
       "        var s = document.createElement('script');\n",
       "        s.src = paths[lib];\n",
       "        s.async = true;\n",
       "        s.onload = () => resolve(paths[lib]);\n",
       "        s.onerror = () => reject(`Error loading script: ${paths[lib]}`);\n",
       "        document.getElementsByTagName(\"head\")[0].appendChild(s);\n",
       "      });\n",
       "    }\n",
       "\n",
       "    function showError(err) {\n",
       "      outputDiv.innerHTML = `<div class=\"error\" style=\"color:red;\">${err}</div>`;\n",
       "      throw err;\n",
       "    }\n",
       "\n",
       "    function displayChart(vegaEmbed) {\n",
       "      vegaEmbed(outputDiv, spec, embedOpt)\n",
       "        .catch(err => showError(`Javascript Error: ${err.message}<br>This usually means there's a typo in your chart specification. See the javascript console for the full traceback.`));\n",
       "    }\n",
       "\n",
       "    if(typeof define === \"function\" && define.amd) {\n",
       "      requirejs.config({paths});\n",
       "      require([\"vega-embed\"], displayChart, err => showError(`Error loading script: ${err.message}`));\n",
       "    } else if (typeof vegaEmbed === \"function\") {\n",
       "      displayChart(vegaEmbed);\n",
       "    } else {\n",
       "      loadScript(\"vega\")\n",
       "        .then(() => loadScript(\"vega-lite\"))\n",
       "        .then(() => loadScript(\"vega-embed\"))\n",
       "        .catch(showError)\n",
       "        .then(() => displayChart(vegaEmbed));\n",
       "    }\n",
       "  })({\"config\": {\"view\": {\"continuousWidth\": 400, \"continuousHeight\": 300}}, \"data\": {\"name\": \"data-f873cf97bc08a51d08038be1d0b1cec6\"}, \"mark\": {\"type\": \"line\", \"point\": true}, \"encoding\": {\"x\": {\"type\": \"quantitative\", \"field\": \"nb__var_smoothing\", \"title\": \"Var. Smoothing\"}, \"y\": {\"type\": \"quantitative\", \"field\": \"mean_score\", \"scale\": {\"zero\": false}, \"title\": \"AUC Score\"}}, \"height\": 100, \"title\": \"NB Performance Comparison with 10 Features\", \"width\": 150, \"$schema\": \"https://vega.github.io/schema/vega-lite/v4.0.2.json\", \"datasets\": {\"data-f873cf97bc08a51d08038be1d0b1cec6\": [{\"mean_score\": 0.9045080091533182, \"std_score\": 0.04901832581150071, \"max_score\": 0.9679633867276887, \"min_score\": 0.8306636155606407, \"nb__var_smoothing\": 6.368249944718588, \"fselector__k\": 10.0}, {\"mean_score\": 0.9000228832951944, \"std_score\": 0.05429065522420241, \"max_score\": 0.9679633867276888, \"min_score\": 0.816933638443936, \"nb__var_smoothing\": 0.14481182276745339, \"fselector__k\": 10.0}]}}, {\"mode\": \"vega-lite\"});\n",
       "</script>"
      ],
      "text/plain": [
       "alt.Chart(...)"
      ]
     },
     "execution_count": 88,
     "metadata": {},
     "output_type": "execute_result"
    }
   ],
   "source": [
    "plot_GS_NB(10)"
   ]
  },
  {
   "cell_type": "markdown",
   "metadata": {},
   "source": [
    "## Bernoulli NB\n",
    "\n",
    "In this section I will look at fitting a Bernoulli Naive Bayes (NB) model to this data. For Bernoulli NB, features are assumed independant boolean/binary variables which describe the input. Assuming all features are independant, we will begin to build this model by transforming the original data set into a set of binary variables. For this, we could either take the non-binary variables and bin them, for example, we could bin age into age group columns and give a binary 0 or 1 if a patient falls into that age group, or we could take away all the variables that are not binary. In this case we will do both by removing any non-binary variables and re-training the model and also binning all continous variables into binary columns. Since the target column is binary we do not have to binarize this column."
   ]
  },
  {
   "cell_type": "markdown",
   "metadata": {},
   "source": [
    "### Removing Non-Binary Features"
   ]
  },
  {
   "cell_type": "markdown",
   "metadata": {},
   "source": [
    "In this section I will remove the non-binary features and run a Bernoulli NB model on only the binary features"
   ]
  },
  {
   "cell_type": "code",
   "execution_count": 89,
   "metadata": {},
   "outputs": [],
   "source": [
    "from sklearn.naive_bayes import BernoulliNB"
   ]
  },
  {
   "cell_type": "code",
   "execution_count": 90,
   "metadata": {},
   "outputs": [
    {
     "data": {
      "text/html": [
       "<div>\n",
       "<style scoped>\n",
       "    .dataframe tbody tr th:only-of-type {\n",
       "        vertical-align: middle;\n",
       "    }\n",
       "\n",
       "    .dataframe tbody tr th {\n",
       "        vertical-align: top;\n",
       "    }\n",
       "\n",
       "    .dataframe thead th {\n",
       "        text-align: right;\n",
       "    }\n",
       "</style>\n",
       "<table border=\"1\" class=\"dataframe\">\n",
       "  <thead>\n",
       "    <tr style=\"text-align: right;\">\n",
       "      <th></th>\n",
       "      <th>age</th>\n",
       "      <th>sex</th>\n",
       "      <th>trestbps</th>\n",
       "      <th>chol</th>\n",
       "      <th>fbs</th>\n",
       "      <th>thalach</th>\n",
       "      <th>exang</th>\n",
       "      <th>oldpeak</th>\n",
       "      <th>cp_0</th>\n",
       "      <th>cp_1</th>\n",
       "      <th>...</th>\n",
       "      <th>slope_2</th>\n",
       "      <th>ca_0</th>\n",
       "      <th>ca_1</th>\n",
       "      <th>ca_2</th>\n",
       "      <th>ca_3</th>\n",
       "      <th>ca_4</th>\n",
       "      <th>thal_0</th>\n",
       "      <th>thal_1</th>\n",
       "      <th>thal_2</th>\n",
       "      <th>thal_3</th>\n",
       "    </tr>\n",
       "  </thead>\n",
       "  <tbody>\n",
       "    <tr>\n",
       "      <th>1</th>\n",
       "      <td>63</td>\n",
       "      <td>1</td>\n",
       "      <td>145.0</td>\n",
       "      <td>233.0</td>\n",
       "      <td>1</td>\n",
       "      <td>150.0</td>\n",
       "      <td>0</td>\n",
       "      <td>2.3</td>\n",
       "      <td>0</td>\n",
       "      <td>0</td>\n",
       "      <td>...</td>\n",
       "      <td>0</td>\n",
       "      <td>1</td>\n",
       "      <td>0</td>\n",
       "      <td>0</td>\n",
       "      <td>0</td>\n",
       "      <td>0</td>\n",
       "      <td>0</td>\n",
       "      <td>1</td>\n",
       "      <td>0</td>\n",
       "      <td>0</td>\n",
       "    </tr>\n",
       "    <tr>\n",
       "      <th>2</th>\n",
       "      <td>37</td>\n",
       "      <td>1</td>\n",
       "      <td>130.0</td>\n",
       "      <td>250.0</td>\n",
       "      <td>0</td>\n",
       "      <td>187.0</td>\n",
       "      <td>0</td>\n",
       "      <td>3.5</td>\n",
       "      <td>0</td>\n",
       "      <td>0</td>\n",
       "      <td>...</td>\n",
       "      <td>0</td>\n",
       "      <td>1</td>\n",
       "      <td>0</td>\n",
       "      <td>0</td>\n",
       "      <td>0</td>\n",
       "      <td>0</td>\n",
       "      <td>0</td>\n",
       "      <td>0</td>\n",
       "      <td>1</td>\n",
       "      <td>0</td>\n",
       "    </tr>\n",
       "    <tr>\n",
       "      <th>3</th>\n",
       "      <td>41</td>\n",
       "      <td>0</td>\n",
       "      <td>130.0</td>\n",
       "      <td>204.0</td>\n",
       "      <td>0</td>\n",
       "      <td>172.0</td>\n",
       "      <td>0</td>\n",
       "      <td>1.4</td>\n",
       "      <td>0</td>\n",
       "      <td>1</td>\n",
       "      <td>...</td>\n",
       "      <td>1</td>\n",
       "      <td>1</td>\n",
       "      <td>0</td>\n",
       "      <td>0</td>\n",
       "      <td>0</td>\n",
       "      <td>0</td>\n",
       "      <td>0</td>\n",
       "      <td>0</td>\n",
       "      <td>1</td>\n",
       "      <td>0</td>\n",
       "    </tr>\n",
       "    <tr>\n",
       "      <th>4</th>\n",
       "      <td>56</td>\n",
       "      <td>1</td>\n",
       "      <td>120.0</td>\n",
       "      <td>236.0</td>\n",
       "      <td>0</td>\n",
       "      <td>178.0</td>\n",
       "      <td>0</td>\n",
       "      <td>0.8</td>\n",
       "      <td>0</td>\n",
       "      <td>1</td>\n",
       "      <td>...</td>\n",
       "      <td>1</td>\n",
       "      <td>1</td>\n",
       "      <td>0</td>\n",
       "      <td>0</td>\n",
       "      <td>0</td>\n",
       "      <td>0</td>\n",
       "      <td>0</td>\n",
       "      <td>0</td>\n",
       "      <td>1</td>\n",
       "      <td>0</td>\n",
       "    </tr>\n",
       "    <tr>\n",
       "      <th>5</th>\n",
       "      <td>57</td>\n",
       "      <td>0</td>\n",
       "      <td>120.0</td>\n",
       "      <td>354.0</td>\n",
       "      <td>0</td>\n",
       "      <td>163.0</td>\n",
       "      <td>1</td>\n",
       "      <td>0.6</td>\n",
       "      <td>1</td>\n",
       "      <td>0</td>\n",
       "      <td>...</td>\n",
       "      <td>1</td>\n",
       "      <td>1</td>\n",
       "      <td>0</td>\n",
       "      <td>0</td>\n",
       "      <td>0</td>\n",
       "      <td>0</td>\n",
       "      <td>0</td>\n",
       "      <td>0</td>\n",
       "      <td>1</td>\n",
       "      <td>0</td>\n",
       "    </tr>\n",
       "  </tbody>\n",
       "</table>\n",
       "<p>5 rows × 27 columns</p>\n",
       "</div>"
      ],
      "text/plain": [
       "   age  sex  trestbps   chol  fbs  thalach  exang  oldpeak  cp_0  cp_1  ...  \\\n",
       "1   63    1     145.0  233.0    1    150.0      0      2.3     0     0  ...   \n",
       "2   37    1     130.0  250.0    0    187.0      0      3.5     0     0  ...   \n",
       "3   41    0     130.0  204.0    0    172.0      0      1.4     0     1  ...   \n",
       "4   56    1     120.0  236.0    0    178.0      0      0.8     0     1  ...   \n",
       "5   57    0     120.0  354.0    0    163.0      1      0.6     1     0  ...   \n",
       "\n",
       "   slope_2  ca_0  ca_1  ca_2  ca_3  ca_4  thal_0  thal_1  thal_2  thal_3  \n",
       "1        0     1     0     0     0     0       0       1       0       0  \n",
       "2        0     1     0     0     0     0       0       0       1       0  \n",
       "3        1     1     0     0     0     0       0       0       1       0  \n",
       "4        1     1     0     0     0     0       0       0       1       0  \n",
       "5        1     1     0     0     0     0       0       0       1       0  \n",
       "\n",
       "[5 rows x 27 columns]"
      ]
     },
     "execution_count": 90,
     "metadata": {},
     "output_type": "execute_result"
    }
   ],
   "source": [
    "# Check for binary values\n",
    "heart_copy.head()"
   ]
  },
  {
   "cell_type": "markdown",
   "metadata": {},
   "source": [
    "Drop all non-binary variables"
   ]
  },
  {
   "cell_type": "code",
   "execution_count": 91,
   "metadata": {},
   "outputs": [],
   "source": [
    "heart_B = heart_copy.drop(['age', 'trestbps','chol','thalach', 'oldpeak'], axis=1)"
   ]
  },
  {
   "cell_type": "markdown",
   "metadata": {},
   "source": [
    "Now we need to re-train a model as we have changed the dataframe"
   ]
  },
  {
   "cell_type": "code",
   "execution_count": 92,
   "metadata": {},
   "outputs": [
    {
     "name": "stdout",
     "output_type": "stream",
     "text": [
      "(303, 22)\n",
      "(303, 1)\n"
     ]
    }
   ],
   "source": [
    "heart_B_sample = pd.DataFrame(heart_B).values\n",
    "target_B_sample = pd.DataFrame(target).values\n",
    "\n",
    "print(heart_B_sample.shape)\n",
    "print(target_B_sample.shape)"
   ]
  },
  {
   "cell_type": "code",
   "execution_count": 93,
   "metadata": {},
   "outputs": [
    {
     "name": "stdout",
     "output_type": "stream",
     "text": [
      "(212, 22)\n",
      "(91, 22)\n"
     ]
    }
   ],
   "source": [
    "heart_B_train, heart_B_test, \\\n",
    "target_B_train, target_B_test = train_test_split(heart_B_sample, target_B_sample, \n",
    "                                                    test_size = 0.3, random_state=999,\n",
    "                                                    stratify = target_sample)\n",
    "print(heart_B_train.shape)\n",
    "print(heart_B_test.shape)"
   ]
  },
  {
   "cell_type": "code",
   "execution_count": 94,
   "metadata": {},
   "outputs": [
    {
     "name": "stdout",
     "output_type": "stream",
     "text": [
      "Fitting 5 folds for each of 5 candidates, totalling 25 fits\n"
     ]
    },
    {
     "name": "stderr",
     "output_type": "stream",
     "text": [
      "[Parallel(n_jobs=-2)]: Using backend LokyBackend with 3 concurrent workers.\n",
      "[Parallel(n_jobs=-2)]: Done  25 out of  25 | elapsed:    0.1s finished\n"
     ]
    }
   ],
   "source": [
    "pipe_b_NB = Pipeline([('fselector', fs.SelectKBest()), \n",
    "                     ('b_NB', BernoulliNB(binarize = None))])\n",
    "\n",
    "params_pipe_b_NB = {'fselector__k': [5, 10, 15, 20, heart_B.shape[1]]}\n",
    "\n",
    "gs_b_NB = RandomizedSearchCV(estimator=pipe_b_NB, \n",
    "                          param_distributions=params_pipe_b_NB, \n",
    "                          cv=cross_val_method,\n",
    "                          refit=True,\n",
    "                          n_jobs=-2,\n",
    "                          scoring='roc_auc',\n",
    "                          verbose=1) \n",
    "\n",
    "gs_b_NB.fit(heart_B_train, target_B_train);\n"
   ]
  },
  {
   "cell_type": "code",
   "execution_count": 95,
   "metadata": {},
   "outputs": [
    {
     "data": {
      "text/plain": [
       "{'fselector__k': 22}"
      ]
     },
     "execution_count": 95,
     "metadata": {},
     "output_type": "execute_result"
    }
   ],
   "source": [
    "gs_b_NB.best_params_"
   ]
  },
  {
   "cell_type": "code",
   "execution_count": 96,
   "metadata": {},
   "outputs": [
    {
     "data": {
      "text/plain": [
       "0.9200984413453652"
      ]
     },
     "execution_count": 96,
     "metadata": {},
     "output_type": "execute_result"
    }
   ],
   "source": [
    "gs_b_NB.best_score_"
   ]
  },
  {
   "cell_type": "markdown",
   "metadata": {},
   "source": [
    "We observe that all 21 features yield the best results for this model, with an AUC score of 0.92"
   ]
  },
  {
   "cell_type": "code",
   "execution_count": 97,
   "metadata": {},
   "outputs": [
    {
     "data": {
      "text/html": [
       "<div>\n",
       "<style scoped>\n",
       "    .dataframe tbody tr th:only-of-type {\n",
       "        vertical-align: middle;\n",
       "    }\n",
       "\n",
       "    .dataframe tbody tr th {\n",
       "        vertical-align: top;\n",
       "    }\n",
       "\n",
       "    .dataframe thead th {\n",
       "        text-align: right;\n",
       "    }\n",
       "</style>\n",
       "<table border=\"1\" class=\"dataframe\">\n",
       "  <thead>\n",
       "    <tr style=\"text-align: right;\">\n",
       "      <th></th>\n",
       "      <th>mean_score</th>\n",
       "      <th>std_score</th>\n",
       "      <th>max_score</th>\n",
       "      <th>min_score</th>\n",
       "      <th>fselector__k</th>\n",
       "    </tr>\n",
       "  </thead>\n",
       "  <tbody>\n",
       "    <tr>\n",
       "      <th>4</th>\n",
       "      <td>0.920000</td>\n",
       "      <td>0.044417</td>\n",
       "      <td>0.986270</td>\n",
       "      <td>0.860412</td>\n",
       "      <td>22.0</td>\n",
       "    </tr>\n",
       "    <tr>\n",
       "      <th>3</th>\n",
       "      <td>0.918650</td>\n",
       "      <td>0.045127</td>\n",
       "      <td>0.986270</td>\n",
       "      <td>0.860412</td>\n",
       "      <td>20.0</td>\n",
       "    </tr>\n",
       "    <tr>\n",
       "      <th>2</th>\n",
       "      <td>0.916957</td>\n",
       "      <td>0.040454</td>\n",
       "      <td>0.979405</td>\n",
       "      <td>0.869565</td>\n",
       "      <td>15.0</td>\n",
       "    </tr>\n",
       "    <tr>\n",
       "      <th>1</th>\n",
       "      <td>0.912014</td>\n",
       "      <td>0.043745</td>\n",
       "      <td>0.973684</td>\n",
       "      <td>0.839817</td>\n",
       "      <td>10.0</td>\n",
       "    </tr>\n",
       "    <tr>\n",
       "      <th>0</th>\n",
       "      <td>0.865435</td>\n",
       "      <td>0.053362</td>\n",
       "      <td>0.947368</td>\n",
       "      <td>0.779176</td>\n",
       "      <td>5.0</td>\n",
       "    </tr>\n",
       "  </tbody>\n",
       "</table>\n",
       "</div>"
      ],
      "text/plain": [
       "   mean_score  std_score  max_score  min_score  fselector__k\n",
       "4    0.920000   0.044417   0.986270   0.860412          22.0\n",
       "3    0.918650   0.045127   0.986270   0.860412          20.0\n",
       "2    0.916957   0.040454   0.979405   0.869565          15.0\n",
       "1    0.912014   0.043745   0.973684   0.839817          10.0\n",
       "0    0.865435   0.053362   0.947368   0.779176           5.0"
      ]
     },
     "execution_count": 97,
     "metadata": {},
     "output_type": "execute_result"
    }
   ],
   "source": [
    "results_b_NB = get_search_results(gs_b_NB)\n",
    "results_b_NB.head()"
   ]
  },
  {
   "cell_type": "markdown",
   "metadata": {},
   "source": [
    "We observe that 10 or more features produces a relatively similar score to models with more features. With the 10 feature mean score at ~0.91 and the best having a score of 0.92. This model seems to be the best model so far, producing a result better than both previous models."
   ]
  },
  {
   "cell_type": "markdown",
   "metadata": {},
   "source": [
    "This function will let us visualise both results."
   ]
  },
  {
   "cell_type": "code",
   "execution_count": 98,
   "metadata": {},
   "outputs": [],
   "source": [
    "def plot_GS_b_NB(results):\n",
    "\n",
    "    chart = alt.Chart(results, height = 100, width = 150,\n",
    "          title='Bernoulli NB Performance Comparison'\n",
    "         ).mark_line(point=True).encode(\n",
    "    alt.X('fselector__k', title='Features'),\n",
    "    alt.Y('mean_score', title='AUC Score', scale=alt.Scale(zero=False)),\n",
    "    )\n",
    "    return chart"
   ]
  },
  {
   "cell_type": "code",
   "execution_count": 99,
   "metadata": {},
   "outputs": [
    {
     "data": {
      "text/html": [
       "\n",
       "<div id=\"altair-viz-80cf327810814ab1a3b70749866db1ae\"></div>\n",
       "<script type=\"text/javascript\">\n",
       "  (function(spec, embedOpt){\n",
       "    const outputDiv = document.getElementById(\"altair-viz-80cf327810814ab1a3b70749866db1ae\");\n",
       "    const paths = {\n",
       "      \"vega\": \"https://cdn.jsdelivr.net/npm//vega@5?noext\",\n",
       "      \"vega-lib\": \"https://cdn.jsdelivr.net/npm//vega-lib?noext\",\n",
       "      \"vega-lite\": \"https://cdn.jsdelivr.net/npm//vega-lite@4.0.2?noext\",\n",
       "      \"vega-embed\": \"https://cdn.jsdelivr.net/npm//vega-embed@6?noext\",\n",
       "    };\n",
       "\n",
       "    function loadScript(lib) {\n",
       "      return new Promise(function(resolve, reject) {\n",
       "        var s = document.createElement('script');\n",
       "        s.src = paths[lib];\n",
       "        s.async = true;\n",
       "        s.onload = () => resolve(paths[lib]);\n",
       "        s.onerror = () => reject(`Error loading script: ${paths[lib]}`);\n",
       "        document.getElementsByTagName(\"head\")[0].appendChild(s);\n",
       "      });\n",
       "    }\n",
       "\n",
       "    function showError(err) {\n",
       "      outputDiv.innerHTML = `<div class=\"error\" style=\"color:red;\">${err}</div>`;\n",
       "      throw err;\n",
       "    }\n",
       "\n",
       "    function displayChart(vegaEmbed) {\n",
       "      vegaEmbed(outputDiv, spec, embedOpt)\n",
       "        .catch(err => showError(`Javascript Error: ${err.message}<br>This usually means there's a typo in your chart specification. See the javascript console for the full traceback.`));\n",
       "    }\n",
       "\n",
       "    if(typeof define === \"function\" && define.amd) {\n",
       "      requirejs.config({paths});\n",
       "      require([\"vega-embed\"], displayChart, err => showError(`Error loading script: ${err.message}`));\n",
       "    } else if (typeof vegaEmbed === \"function\") {\n",
       "      displayChart(vegaEmbed);\n",
       "    } else {\n",
       "      loadScript(\"vega\")\n",
       "        .then(() => loadScript(\"vega-lite\"))\n",
       "        .then(() => loadScript(\"vega-embed\"))\n",
       "        .catch(showError)\n",
       "        .then(() => displayChart(vegaEmbed));\n",
       "    }\n",
       "  })({\"config\": {\"view\": {\"continuousWidth\": 400, \"continuousHeight\": 300}}, \"data\": {\"name\": \"data-2cf67cdd720d910136c24f3b02a2115a\"}, \"mark\": {\"type\": \"line\", \"point\": true}, \"encoding\": {\"x\": {\"type\": \"quantitative\", \"field\": \"fselector__k\", \"title\": \"Features\"}, \"y\": {\"type\": \"quantitative\", \"field\": \"mean_score\", \"scale\": {\"zero\": false}, \"title\": \"AUC Score\"}}, \"height\": 100, \"title\": \"Bernoulli NB Performance Comparison\", \"width\": 150, \"$schema\": \"https://vega.github.io/schema/vega-lite/v4.0.2.json\", \"datasets\": {\"data-2cf67cdd720d910136c24f3b02a2115a\": [{\"mean_score\": 0.9200000000000002, \"std_score\": 0.0444173189092124, \"max_score\": 0.9862700228832952, \"min_score\": 0.8604118993135013, \"fselector__k\": 22.0}, {\"mean_score\": 0.9186498855835241, \"std_score\": 0.04512734342457444, \"max_score\": 0.9862700228832952, \"min_score\": 0.8604118993135013, \"fselector__k\": 20.0}, {\"mean_score\": 0.9169565217391303, \"std_score\": 0.04045417113207681, \"max_score\": 0.9794050343249427, \"min_score\": 0.8695652173913044, \"fselector__k\": 15.0}, {\"mean_score\": 0.9120137299771167, \"std_score\": 0.04374498160153588, \"max_score\": 0.9736842105263158, \"min_score\": 0.8398169336384441, \"fselector__k\": 10.0}, {\"mean_score\": 0.8654347826086957, \"std_score\": 0.05336169536162084, \"max_score\": 0.9473684210526315, \"min_score\": 0.7791762013729977, \"fselector__k\": 5.0}]}}, {\"mode\": \"vega-lite\"});\n",
       "</script>"
      ],
      "text/plain": [
       "alt.Chart(...)"
      ]
     },
     "execution_count": 99,
     "metadata": {},
     "output_type": "execute_result"
    }
   ],
   "source": [
    "plot_GS_b_NB(results_b_NB)"
   ]
  },
  {
   "cell_type": "markdown",
   "metadata": {},
   "source": [
    "This distribution shows us that the score basically plateaus after 10 features, with incremental performance gains as the number of features goes increases."
   ]
  },
  {
   "cell_type": "markdown",
   "metadata": {},
   "source": [
    "### Binning Continuous Values"
   ]
  },
  {
   "cell_type": "markdown",
   "metadata": {},
   "source": [
    "In this section I will make a new dataframe that will bin all the continuous variables and parse them as a 0 or 1 if they fit into that category. First I will bin the values, then I will make dummies of these values and drop the real column. The values I need to make bins for are: age, trestbps, chol, thalach and oldpeak. To make the bins for these columns, I looked at their summary statistics and determined a suitable number of bins."
   ]
  },
  {
   "cell_type": "code",
   "execution_count": 100,
   "metadata": {},
   "outputs": [],
   "source": [
    "heart_bin_B = heart_copy"
   ]
  },
  {
   "cell_type": "code",
   "execution_count": 101,
   "metadata": {},
   "outputs": [
    {
     "data": {
      "text/plain": [
       "count    303.000000\n",
       "mean      54.366337\n",
       "std        9.082101\n",
       "min       29.000000\n",
       "25%       47.500000\n",
       "50%       55.000000\n",
       "75%       61.000000\n",
       "max       77.000000\n",
       "Name: age, dtype: float64"
      ]
     },
     "execution_count": 101,
     "metadata": {},
     "output_type": "execute_result"
    }
   ],
   "source": [
    "heart_bin_B['age'].describe()"
   ]
  },
  {
   "cell_type": "code",
   "execution_count": 102,
   "metadata": {},
   "outputs": [],
   "source": [
    "# Set up bins variables\n",
    "heart_bin_B['age_bins'] = pd.cut(heart_bin_B['age'], 5)"
   ]
  },
  {
   "cell_type": "code",
   "execution_count": 103,
   "metadata": {},
   "outputs": [
    {
     "data": {
      "text/plain": [
       "count    303.000000\n",
       "mean     131.623762\n",
       "std       17.538143\n",
       "min       94.000000\n",
       "25%      120.000000\n",
       "50%      130.000000\n",
       "75%      140.000000\n",
       "max      200.000000\n",
       "Name: trestbps, dtype: float64"
      ]
     },
     "execution_count": 103,
     "metadata": {},
     "output_type": "execute_result"
    }
   ],
   "source": [
    "heart_bin_B['trestbps'].describe()"
   ]
  },
  {
   "cell_type": "code",
   "execution_count": 104,
   "metadata": {},
   "outputs": [],
   "source": [
    "heart_bin_B['trestbps_bins'] = pd.cut(heart_bin_B['trestbps'], 5)"
   ]
  },
  {
   "cell_type": "code",
   "execution_count": 105,
   "metadata": {},
   "outputs": [
    {
     "data": {
      "text/plain": [
       "count    303.000000\n",
       "mean     246.264026\n",
       "std       51.830751\n",
       "min      126.000000\n",
       "25%      211.000000\n",
       "50%      240.000000\n",
       "75%      274.500000\n",
       "max      564.000000\n",
       "Name: chol, dtype: float64"
      ]
     },
     "execution_count": 105,
     "metadata": {},
     "output_type": "execute_result"
    }
   ],
   "source": [
    "heart_bin_B['chol'].describe()"
   ]
  },
  {
   "cell_type": "code",
   "execution_count": 106,
   "metadata": {},
   "outputs": [],
   "source": [
    "heart_bin_B['chol_bins'] = pd.cut(heart_bin_B['chol'], 5)"
   ]
  },
  {
   "cell_type": "code",
   "execution_count": 107,
   "metadata": {},
   "outputs": [
    {
     "data": {
      "text/plain": [
       "count    303.000000\n",
       "mean     149.646865\n",
       "std       22.905161\n",
       "min       71.000000\n",
       "25%      133.500000\n",
       "50%      153.000000\n",
       "75%      166.000000\n",
       "max      202.000000\n",
       "Name: thalach, dtype: float64"
      ]
     },
     "execution_count": 107,
     "metadata": {},
     "output_type": "execute_result"
    }
   ],
   "source": [
    "heart_bin_B['thalach'].describe()"
   ]
  },
  {
   "cell_type": "code",
   "execution_count": 108,
   "metadata": {},
   "outputs": [],
   "source": [
    "heart_bin_B['thalach_bins'] = pd.cut(heart_bin_B['thalach'], 5)"
   ]
  },
  {
   "cell_type": "code",
   "execution_count": 109,
   "metadata": {},
   "outputs": [
    {
     "data": {
      "text/plain": [
       "count    303.000000\n",
       "mean       1.039604\n",
       "std        1.161075\n",
       "min        0.000000\n",
       "25%        0.000000\n",
       "50%        0.800000\n",
       "75%        1.600000\n",
       "max        6.200000\n",
       "Name: oldpeak, dtype: float64"
      ]
     },
     "execution_count": 109,
     "metadata": {},
     "output_type": "execute_result"
    }
   ],
   "source": [
    "heart_bin_B['oldpeak'].describe()"
   ]
  },
  {
   "cell_type": "code",
   "execution_count": 110,
   "metadata": {},
   "outputs": [],
   "source": [
    "heart_bin_B['oldpeak_bins'] = pd.cut(heart_bin_B['oldpeak'], 4)"
   ]
  },
  {
   "cell_type": "markdown",
   "metadata": {},
   "source": [
    "Now we will make dummies of these columns and drop the original continuous columns"
   ]
  },
  {
   "cell_type": "code",
   "execution_count": 111,
   "metadata": {},
   "outputs": [],
   "source": [
    "heart_bin_B = pd.get_dummies(heart_bin_B)\n",
    "heart_bin_B = heart_bin_B.drop(['age', 'trestbps','chol','thalach', 'oldpeak'], axis=1)"
   ]
  },
  {
   "cell_type": "markdown",
   "metadata": {},
   "source": [
    "Now we will re run the Bernoulli Naive Bayes Classifier to see if our results have gotten better. First we must re-train the model as we have changed the dataframe"
   ]
  },
  {
   "cell_type": "code",
   "execution_count": 112,
   "metadata": {},
   "outputs": [
    {
     "name": "stdout",
     "output_type": "stream",
     "text": [
      "(303, 46)\n",
      "(303, 1)\n"
     ]
    }
   ],
   "source": [
    "heart_B_bins = pd.DataFrame(heart_bin_B).values\n",
    "target_B_bins = pd.DataFrame(target).values\n",
    "\n",
    "print(heart_B_bins.shape)\n",
    "print(target_B_bins.shape)"
   ]
  },
  {
   "cell_type": "code",
   "execution_count": 113,
   "metadata": {},
   "outputs": [
    {
     "name": "stdout",
     "output_type": "stream",
     "text": [
      "(212, 46)\n",
      "(91, 46)\n"
     ]
    }
   ],
   "source": [
    "heart_B_bin_train, heart_B_bin_test, \\\n",
    "target_B_bin_train, target_B_bin_test = train_test_split(heart_B_bins, target_B_bins, \n",
    "                                                    test_size = 0.3, random_state=999,\n",
    "                                                    stratify = target_sample)\n",
    "print(heart_B_bin_train.shape)\n",
    "print(heart_B_bin_test.shape)"
   ]
  },
  {
   "cell_type": "code",
   "execution_count": 114,
   "metadata": {},
   "outputs": [
    {
     "name": "stdout",
     "output_type": "stream",
     "text": [
      "Fitting 5 folds for each of 9 candidates, totalling 45 fits\n"
     ]
    },
    {
     "name": "stderr",
     "output_type": "stream",
     "text": [
      "[Parallel(n_jobs=-2)]: Using backend LokyBackend with 3 concurrent workers.\n",
      "[Parallel(n_jobs=-2)]: Done  40 out of  45 | elapsed:    0.2s remaining:    0.0s\n",
      "[Parallel(n_jobs=-2)]: Done  45 out of  45 | elapsed:    0.2s finished\n"
     ]
    }
   ],
   "source": [
    "pipe_b_bins_NB = Pipeline([('fselector', fs.SelectKBest()), \n",
    "                     ('b_NB', BernoulliNB(binarize = None))])\n",
    "\n",
    "params_pipe_b_bins_NB = {'fselector__k': [5, 10, 15, 20, 25, 30, 35, 40, heart_B.shape[1]]}\n",
    "\n",
    "gs_b_NB_binned = RandomizedSearchCV(estimator=pipe_b_bins_NB, \n",
    "                          param_distributions=params_pipe_b_bins_NB, \n",
    "                          cv=cross_val_method,\n",
    "                          refit=True,\n",
    "                          n_jobs=-2,\n",
    "                          scoring='roc_auc',\n",
    "                          verbose=1) \n",
    "\n",
    "gs_b_NB_binned.fit(heart_B_bin_train, target_B_bin_train);"
   ]
  },
  {
   "cell_type": "code",
   "execution_count": 115,
   "metadata": {},
   "outputs": [
    {
     "data": {
      "text/plain": [
       "{'fselector__k': 22}"
      ]
     },
     "execution_count": 115,
     "metadata": {},
     "output_type": "execute_result"
    }
   ],
   "source": [
    "gs_b_NB_binned.best_params_"
   ]
  },
  {
   "cell_type": "code",
   "execution_count": 116,
   "metadata": {},
   "outputs": [
    {
     "data": {
      "text/plain": [
       "0.9134255861145891"
      ]
     },
     "execution_count": 116,
     "metadata": {},
     "output_type": "execute_result"
    }
   ],
   "source": [
    "gs_b_NB_binned.best_score_"
   ]
  },
  {
   "cell_type": "markdown",
   "metadata": {},
   "source": [
    "Binning the values didn't seem to give us a better classifier than the one before. In fact the top test result was lower than the non-binned one. Indicating that they didn't improve the overall score of the for this model."
   ]
  },
  {
   "cell_type": "code",
   "execution_count": 117,
   "metadata": {},
   "outputs": [
    {
     "data": {
      "text/html": [
       "<div>\n",
       "<style scoped>\n",
       "    .dataframe tbody tr th:only-of-type {\n",
       "        vertical-align: middle;\n",
       "    }\n",
       "\n",
       "    .dataframe tbody tr th {\n",
       "        vertical-align: top;\n",
       "    }\n",
       "\n",
       "    .dataframe thead th {\n",
       "        text-align: right;\n",
       "    }\n",
       "</style>\n",
       "<table border=\"1\" class=\"dataframe\">\n",
       "  <thead>\n",
       "    <tr style=\"text-align: right;\">\n",
       "      <th></th>\n",
       "      <th>mean_score</th>\n",
       "      <th>std_score</th>\n",
       "      <th>max_score</th>\n",
       "      <th>min_score</th>\n",
       "      <th>fselector__k</th>\n",
       "    </tr>\n",
       "  </thead>\n",
       "  <tbody>\n",
       "    <tr>\n",
       "      <th>8</th>\n",
       "      <td>0.913181</td>\n",
       "      <td>0.052435</td>\n",
       "      <td>0.979405</td>\n",
       "      <td>0.834096</td>\n",
       "      <td>22.0</td>\n",
       "    </tr>\n",
       "    <tr>\n",
       "      <th>7</th>\n",
       "      <td>0.912906</td>\n",
       "      <td>0.061507</td>\n",
       "      <td>0.990847</td>\n",
       "      <td>0.819222</td>\n",
       "      <td>40.0</td>\n",
       "    </tr>\n",
       "    <tr>\n",
       "      <th>5</th>\n",
       "      <td>0.912265</td>\n",
       "      <td>0.056416</td>\n",
       "      <td>0.983982</td>\n",
       "      <td>0.827231</td>\n",
       "      <td>30.0</td>\n",
       "    </tr>\n",
       "    <tr>\n",
       "      <th>3</th>\n",
       "      <td>0.909016</td>\n",
       "      <td>0.060030</td>\n",
       "      <td>0.981693</td>\n",
       "      <td>0.818078</td>\n",
       "      <td>20.0</td>\n",
       "    </tr>\n",
       "    <tr>\n",
       "      <th>6</th>\n",
       "      <td>0.908215</td>\n",
       "      <td>0.062834</td>\n",
       "      <td>0.988558</td>\n",
       "      <td>0.811213</td>\n",
       "      <td>35.0</td>\n",
       "    </tr>\n",
       "  </tbody>\n",
       "</table>\n",
       "</div>"
      ],
      "text/plain": [
       "   mean_score  std_score  max_score  min_score  fselector__k\n",
       "8    0.913181   0.052435   0.979405   0.834096          22.0\n",
       "7    0.912906   0.061507   0.990847   0.819222          40.0\n",
       "5    0.912265   0.056416   0.983982   0.827231          30.0\n",
       "3    0.909016   0.060030   0.981693   0.818078          20.0\n",
       "6    0.908215   0.062834   0.988558   0.811213          35.0"
      ]
     },
     "execution_count": 117,
     "metadata": {},
     "output_type": "execute_result"
    }
   ],
   "source": [
    "results_b__binned_NB = get_search_results(gs_b_NB_binned)\n",
    "results_b__binned_NB.head()"
   ]
  },
  {
   "cell_type": "markdown",
   "metadata": {},
   "source": [
    "For this version of the Bernoulli NB model, we observe that the classifier seems to be a bit less sensitive to the number of features, unlike previous models. "
   ]
  },
  {
   "cell_type": "code",
   "execution_count": 118,
   "metadata": {},
   "outputs": [
    {
     "data": {
      "text/html": [
       "\n",
       "<div id=\"altair-viz-258069bd64e448feab894c7849c70fec\"></div>\n",
       "<script type=\"text/javascript\">\n",
       "  (function(spec, embedOpt){\n",
       "    const outputDiv = document.getElementById(\"altair-viz-258069bd64e448feab894c7849c70fec\");\n",
       "    const paths = {\n",
       "      \"vega\": \"https://cdn.jsdelivr.net/npm//vega@5?noext\",\n",
       "      \"vega-lib\": \"https://cdn.jsdelivr.net/npm//vega-lib?noext\",\n",
       "      \"vega-lite\": \"https://cdn.jsdelivr.net/npm//vega-lite@4.0.2?noext\",\n",
       "      \"vega-embed\": \"https://cdn.jsdelivr.net/npm//vega-embed@6?noext\",\n",
       "    };\n",
       "\n",
       "    function loadScript(lib) {\n",
       "      return new Promise(function(resolve, reject) {\n",
       "        var s = document.createElement('script');\n",
       "        s.src = paths[lib];\n",
       "        s.async = true;\n",
       "        s.onload = () => resolve(paths[lib]);\n",
       "        s.onerror = () => reject(`Error loading script: ${paths[lib]}`);\n",
       "        document.getElementsByTagName(\"head\")[0].appendChild(s);\n",
       "      });\n",
       "    }\n",
       "\n",
       "    function showError(err) {\n",
       "      outputDiv.innerHTML = `<div class=\"error\" style=\"color:red;\">${err}</div>`;\n",
       "      throw err;\n",
       "    }\n",
       "\n",
       "    function displayChart(vegaEmbed) {\n",
       "      vegaEmbed(outputDiv, spec, embedOpt)\n",
       "        .catch(err => showError(`Javascript Error: ${err.message}<br>This usually means there's a typo in your chart specification. See the javascript console for the full traceback.`));\n",
       "    }\n",
       "\n",
       "    if(typeof define === \"function\" && define.amd) {\n",
       "      requirejs.config({paths});\n",
       "      require([\"vega-embed\"], displayChart, err => showError(`Error loading script: ${err.message}`));\n",
       "    } else if (typeof vegaEmbed === \"function\") {\n",
       "      displayChart(vegaEmbed);\n",
       "    } else {\n",
       "      loadScript(\"vega\")\n",
       "        .then(() => loadScript(\"vega-lite\"))\n",
       "        .then(() => loadScript(\"vega-embed\"))\n",
       "        .catch(showError)\n",
       "        .then(() => displayChart(vegaEmbed));\n",
       "    }\n",
       "  })({\"config\": {\"view\": {\"continuousWidth\": 400, \"continuousHeight\": 300}}, \"data\": {\"name\": \"data-3cc23854ff6a6c1f1e5a4e977605ba36\"}, \"mark\": {\"type\": \"line\", \"point\": true}, \"encoding\": {\"x\": {\"type\": \"quantitative\", \"field\": \"fselector__k\", \"title\": \"Features\"}, \"y\": {\"type\": \"quantitative\", \"field\": \"mean_score\", \"scale\": {\"zero\": false}, \"title\": \"AUC Score\"}}, \"height\": 100, \"title\": \"Bernoulli NB Performance Comparison\", \"width\": 150, \"$schema\": \"https://vega.github.io/schema/vega-lite/v4.0.2.json\", \"datasets\": {\"data-3cc23854ff6a6c1f1e5a4e977605ba36\": [{\"mean_score\": 0.9131807780320365, \"std_score\": 0.05243498254004607, \"max_score\": 0.9794050343249427, \"min_score\": 0.834096109839817, \"fselector__k\": 22.0}, {\"mean_score\": 0.9129061784897026, \"std_score\": 0.061506551591290544, \"max_score\": 0.9908466819221968, \"min_score\": 0.8192219679633868, \"fselector__k\": 40.0}, {\"mean_score\": 0.9122654462242563, \"std_score\": 0.056415904397762534, \"max_score\": 0.9839816933638443, \"min_score\": 0.8272311212814645, \"fselector__k\": 30.0}, {\"mean_score\": 0.9090160183066361, \"std_score\": 0.06003045096856035, \"max_score\": 0.9816933638443935, \"min_score\": 0.8180778032036614, \"fselector__k\": 20.0}, {\"mean_score\": 0.9082151029748283, \"std_score\": 0.06283447853517872, \"max_score\": 0.988558352402746, \"min_score\": 0.8112128146453089, \"fselector__k\": 35.0}, {\"mean_score\": 0.9078032036613273, \"std_score\": 0.05582015777084843, \"max_score\": 0.9794050343249427, \"min_score\": 0.8226544622425629, \"fselector__k\": 25.0}, {\"mean_score\": 0.9050572082379864, \"std_score\": 0.05818706778563395, \"max_score\": 0.9771167048054921, \"min_score\": 0.8135011441647598, \"fselector__k\": 15.0}, {\"mean_score\": 0.9050114416475974, \"std_score\": 0.05453144460244132, \"max_score\": 0.9736842105263158, \"min_score\": 0.8146453089244852, \"fselector__k\": 10.0}, {\"mean_score\": 0.8654347826086957, \"std_score\": 0.05336169536162084, \"max_score\": 0.9473684210526315, \"min_score\": 0.7791762013729977, \"fselector__k\": 5.0}]}}, {\"mode\": \"vega-lite\"});\n",
       "</script>"
      ],
      "text/plain": [
       "alt.Chart(...)"
      ]
     },
     "execution_count": 118,
     "metadata": {},
     "output_type": "execute_result"
    }
   ],
   "source": [
    "plot_GS_b_NB(results_b__binned_NB)"
   ]
  },
  {
   "cell_type": "markdown",
   "metadata": {},
   "source": [
    "This distribution is vastly different from the previous distribution, as we observe that the number of features doesn't always indicate how well the model performs."
   ]
  },
  {
   "cell_type": "markdown",
   "metadata": {},
   "source": [
    "## Decision Tree (DT)\n",
    "\n",
    "We want to build a Decision Tree to maximise the information gain. We will look to see which criterion, gini or entropy will give us the best result. To do this we will pipe in different values for these parameters in order to determine the best set of values. We will also look into different values for max_depth and min_samples_split, to find the best hyperparameters for this model."
   ]
  },
  {
   "cell_type": "code",
   "execution_count": 119,
   "metadata": {},
   "outputs": [],
   "source": [
    "from sklearn.tree import DecisionTreeClassifier"
   ]
  },
  {
   "cell_type": "code",
   "execution_count": 120,
   "metadata": {},
   "outputs": [],
   "source": [
    "DT_pipe = Pipeline([('fselector', fs.SelectKBest()), \n",
    "                     ('DT', DecisionTreeClassifier())])\n",
    "\n",
    "DT_pipe_params = {'fselector__k' : [5, 10, 15, 20,  heart.shape[1]],\n",
    "                  'DT__criterion': ['entropy', 'gini'],\n",
    "                 'DT__max_depth' : [2,3,5,9,10],\n",
    "                 'DT__min_samples_split' : [2,3,5,10,50,100]}\n",
    "\n",
    "GridSearch_DT = GridSearchCV(estimator=DT_pipe, \n",
    "                          param_grid=DT_pipe_params, \n",
    "                          cv=cross_val_method,\n",
    "                          refit=True,\n",
    "                          n_jobs=-2,\n",
    "                          scoring='roc_auc',\n",
    "                          verbose=0) "
   ]
  },
  {
   "cell_type": "code",
   "execution_count": 121,
   "metadata": {},
   "outputs": [
    {
     "data": {
      "text/plain": [
       "GridSearchCV(cv=StratifiedKFold(n_splits=5, random_state=999, shuffle=False),\n",
       "             error_score='raise-deprecating',\n",
       "             estimator=Pipeline(memory=None,\n",
       "                                steps=[('fselector',\n",
       "                                        SelectKBest(k=10,\n",
       "                                                    score_func=<function f_classif at 0x7f873677d7b8>)),\n",
       "                                       ('DT',\n",
       "                                        DecisionTreeClassifier(class_weight=None,\n",
       "                                                               criterion='gini',\n",
       "                                                               max_depth=None,\n",
       "                                                               max_features=None,\n",
       "                                                               max_leaf_nodes=None,\n",
       "                                                               min_impur...\n",
       "                                                               min_weight_fraction_leaf=0.0,\n",
       "                                                               presort=False,\n",
       "                                                               random_state=None,\n",
       "                                                               splitter='best'))],\n",
       "                                verbose=False),\n",
       "             iid='warn', n_jobs=-2,\n",
       "             param_grid={'DT__criterion': ['entropy', 'gini'],\n",
       "                         'DT__max_depth': [2, 3, 5, 9, 10],\n",
       "                         'DT__min_samples_split': [2, 3, 5, 10, 50, 100],\n",
       "                         'fselector__k': [5, 10, 15, 20, 27]},\n",
       "             pre_dispatch='2*n_jobs', refit=True, return_train_score=False,\n",
       "             scoring='roc_auc', verbose=0)"
      ]
     },
     "execution_count": 121,
     "metadata": {},
     "output_type": "execute_result"
    }
   ],
   "source": [
    "GridSearch_DT.fit(heart_train, target_train)"
   ]
  },
  {
   "cell_type": "code",
   "execution_count": 122,
   "metadata": {},
   "outputs": [
    {
     "data": {
      "text/plain": [
       "{'DT__criterion': 'entropy',\n",
       " 'DT__max_depth': 9,\n",
       " 'DT__min_samples_split': 50,\n",
       " 'fselector__k': 20}"
      ]
     },
     "execution_count": 122,
     "metadata": {},
     "output_type": "execute_result"
    }
   ],
   "source": [
    "GridSearch_DT.best_params_"
   ]
  },
  {
   "cell_type": "code",
   "execution_count": 123,
   "metadata": {},
   "outputs": [
    {
     "data": {
      "text/plain": [
       "0.8630726220802211"
      ]
     },
     "execution_count": 123,
     "metadata": {},
     "output_type": "execute_result"
    }
   ],
   "source": [
    "GridSearch_DT.best_score_"
   ]
  },
  {
   "cell_type": "markdown",
   "metadata": {},
   "source": [
    "We observe that the best parameters are the criterion being entropy, max_depth = 5, min_samples_split = 50, all based on the 20 best features as selected by their f score. This yielded an AUC score of ~0.86, which is much worse than the previous models."
   ]
  },
  {
   "cell_type": "code",
   "execution_count": 124,
   "metadata": {},
   "outputs": [
    {
     "data": {
      "text/html": [
       "<div>\n",
       "<style scoped>\n",
       "    .dataframe tbody tr th:only-of-type {\n",
       "        vertical-align: middle;\n",
       "    }\n",
       "\n",
       "    .dataframe tbody tr th {\n",
       "        vertical-align: top;\n",
       "    }\n",
       "\n",
       "    .dataframe thead th {\n",
       "        text-align: right;\n",
       "    }\n",
       "</style>\n",
       "<table border=\"1\" class=\"dataframe\">\n",
       "  <thead>\n",
       "    <tr style=\"text-align: right;\">\n",
       "      <th></th>\n",
       "      <th>mean_score</th>\n",
       "      <th>std_score</th>\n",
       "      <th>max_score</th>\n",
       "      <th>min_score</th>\n",
       "      <th>DT__criterion</th>\n",
       "      <th>DT__max_depth</th>\n",
       "      <th>DT__min_samples_split</th>\n",
       "      <th>fselector__k</th>\n",
       "    </tr>\n",
       "  </thead>\n",
       "  <tbody>\n",
       "    <tr>\n",
       "      <th>113</th>\n",
       "      <td>0.8627</td>\n",
       "      <td>0.0783921</td>\n",
       "      <td>0.929062</td>\n",
       "      <td>0.710526</td>\n",
       "      <td>entropy</td>\n",
       "      <td>9</td>\n",
       "      <td>50</td>\n",
       "      <td>20</td>\n",
       "    </tr>\n",
       "    <tr>\n",
       "      <th>32</th>\n",
       "      <td>0.861178</td>\n",
       "      <td>0.0631719</td>\n",
       "      <td>0.911957</td>\n",
       "      <td>0.741419</td>\n",
       "      <td>entropy</td>\n",
       "      <td>3</td>\n",
       "      <td>2</td>\n",
       "      <td>15</td>\n",
       "    </tr>\n",
       "    <tr>\n",
       "      <th>37</th>\n",
       "      <td>0.861178</td>\n",
       "      <td>0.0631719</td>\n",
       "      <td>0.911957</td>\n",
       "      <td>0.741419</td>\n",
       "      <td>entropy</td>\n",
       "      <td>3</td>\n",
       "      <td>3</td>\n",
       "      <td>15</td>\n",
       "    </tr>\n",
       "    <tr>\n",
       "      <th>42</th>\n",
       "      <td>0.861178</td>\n",
       "      <td>0.0631719</td>\n",
       "      <td>0.911957</td>\n",
       "      <td>0.741419</td>\n",
       "      <td>entropy</td>\n",
       "      <td>3</td>\n",
       "      <td>5</td>\n",
       "      <td>15</td>\n",
       "    </tr>\n",
       "    <tr>\n",
       "      <th>47</th>\n",
       "      <td>0.861178</td>\n",
       "      <td>0.0631719</td>\n",
       "      <td>0.911957</td>\n",
       "      <td>0.741419</td>\n",
       "      <td>entropy</td>\n",
       "      <td>3</td>\n",
       "      <td>10</td>\n",
       "      <td>15</td>\n",
       "    </tr>\n",
       "  </tbody>\n",
       "</table>\n",
       "</div>"
      ],
      "text/plain": [
       "    mean_score  std_score max_score min_score DT__criterion DT__max_depth  \\\n",
       "113     0.8627  0.0783921  0.929062  0.710526       entropy             9   \n",
       "32    0.861178  0.0631719  0.911957  0.741419       entropy             3   \n",
       "37    0.861178  0.0631719  0.911957  0.741419       entropy             3   \n",
       "42    0.861178  0.0631719  0.911957  0.741419       entropy             3   \n",
       "47    0.861178  0.0631719  0.911957  0.741419       entropy             3   \n",
       "\n",
       "    DT__min_samples_split fselector__k  \n",
       "113                    50           20  \n",
       "32                      2           15  \n",
       "37                      3           15  \n",
       "42                      5           15  \n",
       "47                     10           15  "
      ]
     },
     "execution_count": 124,
     "metadata": {},
     "output_type": "execute_result"
    }
   ],
   "source": [
    "results_DT = get_search_results(GridSearch_DT)\n",
    "results_DT.head()"
   ]
  },
  {
   "cell_type": "markdown",
   "metadata": {},
   "source": [
    "From the table we can observe that the best criterion was always entropy, with the min_sample_spit seeming to play a big role in determining the best DT, as its values are quite erratic. the F-score selector was constantly above 15.\n",
    "\n",
    "Below we visualise the results on how to the model performed based on both the max_depth and the criterion, given the number of features as an input."
   ]
  },
  {
   "cell_type": "code",
   "execution_count": 125,
   "metadata": {},
   "outputs": [],
   "source": [
    "def plot_DT_MaxDepth(number_of_features):\n",
    "    results_DT_x_features = results_DT[results_DT['fselector__k'] == number_of_features]\n",
    "\n",
    "    chart = alt.Chart(results_DT_x_features, height = 100, width = 150, \n",
    "          title='DT Performance Comparison with ' + str(number_of_features) +' Features'\n",
    "             ).mark_line(point=True).encode(\n",
    "        alt.X('DT__min_samples_split', title='Min Samples for Split'),\n",
    "        alt.Y('mean_score', title='AUC Score', scale=alt.Scale(zero=False)),\n",
    "        alt.Color('DT__max_depth:N', title='Max Depth')\n",
    "    )\n",
    "    return chart"
   ]
  },
  {
   "cell_type": "code",
   "execution_count": 126,
   "metadata": {},
   "outputs": [
    {
     "data": {
      "text/html": [
       "\n",
       "<div id=\"altair-viz-acb5681e05bc48ff83929b6b3fb35a1a\"></div>\n",
       "<script type=\"text/javascript\">\n",
       "  (function(spec, embedOpt){\n",
       "    const outputDiv = document.getElementById(\"altair-viz-acb5681e05bc48ff83929b6b3fb35a1a\");\n",
       "    const paths = {\n",
       "      \"vega\": \"https://cdn.jsdelivr.net/npm//vega@5?noext\",\n",
       "      \"vega-lib\": \"https://cdn.jsdelivr.net/npm//vega-lib?noext\",\n",
       "      \"vega-lite\": \"https://cdn.jsdelivr.net/npm//vega-lite@4.0.2?noext\",\n",
       "      \"vega-embed\": \"https://cdn.jsdelivr.net/npm//vega-embed@6?noext\",\n",
       "    };\n",
       "\n",
       "    function loadScript(lib) {\n",
       "      return new Promise(function(resolve, reject) {\n",
       "        var s = document.createElement('script');\n",
       "        s.src = paths[lib];\n",
       "        s.async = true;\n",
       "        s.onload = () => resolve(paths[lib]);\n",
       "        s.onerror = () => reject(`Error loading script: ${paths[lib]}`);\n",
       "        document.getElementsByTagName(\"head\")[0].appendChild(s);\n",
       "      });\n",
       "    }\n",
       "\n",
       "    function showError(err) {\n",
       "      outputDiv.innerHTML = `<div class=\"error\" style=\"color:red;\">${err}</div>`;\n",
       "      throw err;\n",
       "    }\n",
       "\n",
       "    function displayChart(vegaEmbed) {\n",
       "      vegaEmbed(outputDiv, spec, embedOpt)\n",
       "        .catch(err => showError(`Javascript Error: ${err.message}<br>This usually means there's a typo in your chart specification. See the javascript console for the full traceback.`));\n",
       "    }\n",
       "\n",
       "    if(typeof define === \"function\" && define.amd) {\n",
       "      requirejs.config({paths});\n",
       "      require([\"vega-embed\"], displayChart, err => showError(`Error loading script: ${err.message}`));\n",
       "    } else if (typeof vegaEmbed === \"function\") {\n",
       "      displayChart(vegaEmbed);\n",
       "    } else {\n",
       "      loadScript(\"vega\")\n",
       "        .then(() => loadScript(\"vega-lite\"))\n",
       "        .then(() => loadScript(\"vega-embed\"))\n",
       "        .catch(showError)\n",
       "        .then(() => displayChart(vegaEmbed));\n",
       "    }\n",
       "  })({\"config\": {\"view\": {\"continuousWidth\": 400, \"continuousHeight\": 300}}, \"data\": {\"name\": \"data-e0fc599dc89dbdb773eea1c482d5d0be\"}, \"mark\": {\"type\": \"line\", \"point\": true}, \"encoding\": {\"color\": {\"type\": \"nominal\", \"field\": \"DT__max_depth\", \"title\": \"Max Depth\"}, \"x\": {\"type\": \"quantitative\", \"field\": \"DT__min_samples_split\", \"title\": \"Min Samples for Split\"}, \"y\": {\"type\": \"quantitative\", \"field\": \"mean_score\", \"scale\": {\"zero\": false}, \"title\": \"AUC Score\"}}, \"height\": 100, \"title\": \"DT Performance Comparison with 20 Features\", \"width\": 150, \"$schema\": \"https://vega.github.io/schema/vega-lite/v4.0.2.json\", \"datasets\": {\"data-e0fc599dc89dbdb773eea1c482d5d0be\": [{\"mean_score\": 0.8627002288329519, \"std_score\": 0.0783920792445009, \"max_score\": 0.9290617848970251, \"min_score\": 0.7105263157894737, \"DT__criterion\": \"entropy\", \"DT__max_depth\": 9, \"DT__min_samples_split\": 50, \"fselector__k\": 20}, {\"mean_score\": 0.8581235697940504, \"std_score\": 0.07497781598124285, \"max_score\": 0.9061784897025171, \"min_score\": 0.7105263157894737, \"DT__criterion\": \"entropy\", \"DT__max_depth\": 3, \"DT__min_samples_split\": 50, \"fselector__k\": 20}, {\"mean_score\": 0.8570594965675056, \"std_score\": 0.07102907741078356, \"max_score\": 0.9119565217391304, \"min_score\": 0.7208237986270023, \"DT__criterion\": \"entropy\", \"DT__max_depth\": 3, \"DT__min_samples_split\": 5, \"fselector__k\": 20}, {\"mean_score\": 0.8570594965675056, \"std_score\": 0.07102907741078356, \"max_score\": 0.9119565217391304, \"min_score\": 0.7208237986270023, \"DT__criterion\": \"entropy\", \"DT__max_depth\": 3, \"DT__min_samples_split\": 10, \"fselector__k\": 20}, {\"mean_score\": 0.8570594965675056, \"std_score\": 0.07102907741078356, \"max_score\": 0.9119565217391304, \"min_score\": 0.7208237986270023, \"DT__criterion\": \"entropy\", \"DT__max_depth\": 3, \"DT__min_samples_split\": 3, \"fselector__k\": 20}, {\"mean_score\": 0.8570594965675056, \"std_score\": 0.07102907741078356, \"max_score\": 0.9119565217391304, \"min_score\": 0.7208237986270023, \"DT__criterion\": \"entropy\", \"DT__max_depth\": 3, \"DT__min_samples_split\": 2, \"fselector__k\": 20}, {\"mean_score\": 0.8565217391304347, \"std_score\": 0.07401340856035998, \"max_score\": 0.9032608695652175, \"min_score\": 0.7105263157894737, \"DT__criterion\": \"entropy\", \"DT__max_depth\": 10, \"DT__min_samples_split\": 50, \"fselector__k\": 20}, {\"mean_score\": 0.8565217391304347, \"std_score\": 0.07401340856035998, \"max_score\": 0.9032608695652175, \"min_score\": 0.7105263157894737, \"DT__criterion\": \"entropy\", \"DT__max_depth\": 5, \"DT__min_samples_split\": 50, \"fselector__k\": 20}, {\"mean_score\": 0.8454233409610984, \"std_score\": 0.0711668181179006, \"max_score\": 0.9184782608695652, \"min_score\": 0.7208237986270023, \"DT__criterion\": \"gini\", \"DT__max_depth\": 3, \"DT__min_samples_split\": 10, \"fselector__k\": 20}, {\"mean_score\": 0.8444851258581234, \"std_score\": 0.0720381852096031, \"max_score\": 0.9061784897025171, \"min_score\": 0.7036613272311212, \"DT__criterion\": \"entropy\", \"DT__max_depth\": 2, \"DT__min_samples_split\": 50, \"fselector__k\": 20}, {\"mean_score\": 0.8444851258581234, \"std_score\": 0.0720381852096031, \"max_score\": 0.9061784897025171, \"min_score\": 0.7036613272311212, \"DT__criterion\": \"entropy\", \"DT__max_depth\": 2, \"DT__min_samples_split\": 2, \"fselector__k\": 20}, {\"mean_score\": 0.8444851258581234, \"std_score\": 0.0720381852096031, \"max_score\": 0.9061784897025171, \"min_score\": 0.7036613272311212, \"DT__criterion\": \"entropy\", \"DT__max_depth\": 2, \"DT__min_samples_split\": 3, \"fselector__k\": 20}, {\"mean_score\": 0.8444851258581234, \"std_score\": 0.0720381852096031, \"max_score\": 0.9061784897025171, \"min_score\": 0.7036613272311212, \"DT__criterion\": \"entropy\", \"DT__max_depth\": 2, \"DT__min_samples_split\": 5, \"fselector__k\": 20}, {\"mean_score\": 0.8444851258581234, \"std_score\": 0.0720381852096031, \"max_score\": 0.9061784897025171, \"min_score\": 0.7036613272311212, \"DT__criterion\": \"entropy\", \"DT__max_depth\": 2, \"DT__min_samples_split\": 10, \"fselector__k\": 20}, {\"mean_score\": 0.8419450800915331, \"std_score\": 0.07217905507193266, \"max_score\": 0.9184782608695652, \"min_score\": 0.7208237986270023, \"DT__criterion\": \"gini\", \"DT__max_depth\": 3, \"DT__min_samples_split\": 5, \"fselector__k\": 20}, {\"mean_score\": 0.8419450800915331, \"std_score\": 0.07217905507193266, \"max_score\": 0.9184782608695652, \"min_score\": 0.7208237986270023, \"DT__criterion\": \"gini\", \"DT__max_depth\": 3, \"DT__min_samples_split\": 3, \"fselector__k\": 20}, {\"mean_score\": 0.8419450800915331, \"std_score\": 0.07217905507193266, \"max_score\": 0.9184782608695652, \"min_score\": 0.7208237986270023, \"DT__criterion\": \"gini\", \"DT__max_depth\": 3, \"DT__min_samples_split\": 2, \"fselector__k\": 20}, {\"mean_score\": 0.8396224256292907, \"std_score\": 0.06673419404337877, \"max_score\": 0.9021739130434783, \"min_score\": 0.7173913043478262, \"DT__criterion\": \"entropy\", \"DT__max_depth\": 5, \"DT__min_samples_split\": 10, \"fselector__k\": 20}, {\"mean_score\": 0.8346109839816933, \"std_score\": 0.06716720772013131, \"max_score\": 0.8993135011441648, \"min_score\": 0.7070938215102975, \"DT__criterion\": \"entropy\", \"DT__max_depth\": 9, \"DT__min_samples_split\": 10, \"fselector__k\": 20}, {\"mean_score\": 0.8315903890160182, \"std_score\": 0.08456915167231571, \"max_score\": 0.9290617848970251, \"min_score\": 0.7082379862700229, \"DT__criterion\": \"gini\", \"DT__max_depth\": 5, \"DT__min_samples_split\": 50, \"fselector__k\": 20}, {\"mean_score\": 0.8310068649885582, \"std_score\": 0.07633813772592905, \"max_score\": 0.9061784897025171, \"min_score\": 0.7036613272311212, \"DT__criterion\": \"gini\", \"DT__max_depth\": 2, \"DT__min_samples_split\": 2, \"fselector__k\": 20}, {\"mean_score\": 0.8310068649885582, \"std_score\": 0.07633813772592905, \"max_score\": 0.9061784897025171, \"min_score\": 0.7036613272311212, \"DT__criterion\": \"gini\", \"DT__max_depth\": 3, \"DT__min_samples_split\": 50, \"fselector__k\": 20}, {\"mean_score\": 0.8310068649885582, \"std_score\": 0.07633813772592905, \"max_score\": 0.9061784897025171, \"min_score\": 0.7036613272311212, \"DT__criterion\": \"gini\", \"DT__max_depth\": 2, \"DT__min_samples_split\": 50, \"fselector__k\": 20}, {\"mean_score\": 0.8310068649885582, \"std_score\": 0.07633813772592905, \"max_score\": 0.9061784897025171, \"min_score\": 0.7036613272311212, \"DT__criterion\": \"gini\", \"DT__max_depth\": 2, \"DT__min_samples_split\": 10, \"fselector__k\": 20}, {\"mean_score\": 0.8310068649885582, \"std_score\": 0.07633813772592905, \"max_score\": 0.9061784897025171, \"min_score\": 0.7036613272311212, \"DT__criterion\": \"gini\", \"DT__max_depth\": 2, \"DT__min_samples_split\": 3, \"fselector__k\": 20}, {\"mean_score\": 0.8310068649885582, \"std_score\": 0.07633813772592905, \"max_score\": 0.9061784897025171, \"min_score\": 0.7036613272311212, \"DT__criterion\": \"gini\", \"DT__max_depth\": 2, \"DT__min_samples_split\": 5, \"fselector__k\": 20}, {\"mean_score\": 0.8286727688787184, \"std_score\": 0.08120170752455204, \"max_score\": 0.9108695652173913, \"min_score\": 0.7082379862700229, \"DT__criterion\": \"gini\", \"DT__max_depth\": 10, \"DT__min_samples_split\": 50, \"fselector__k\": 20}, {\"mean_score\": 0.8283867276887872, \"std_score\": 0.06377433555192615, \"max_score\": 0.894736842105263, \"min_score\": 0.7070938215102975, \"DT__criterion\": \"entropy\", \"DT__max_depth\": 10, \"DT__min_samples_split\": 10, \"fselector__k\": 20}, {\"mean_score\": 0.8255148741418763, \"std_score\": 0.06148907910154094, \"max_score\": 0.8913043478260869, \"min_score\": 0.7151029748283753, \"DT__criterion\": \"gini\", \"DT__max_depth\": 5, \"DT__min_samples_split\": 10, \"fselector__k\": 20}, {\"mean_score\": 0.8254118993135011, \"std_score\": 0.07810367675794805, \"max_score\": 0.8981693363844393, \"min_score\": 0.7082379862700229, \"DT__criterion\": \"gini\", \"DT__max_depth\": 9, \"DT__min_samples_split\": 50, \"fselector__k\": 20}, {\"mean_score\": 0.8230091533180778, \"std_score\": 0.06951721742171434, \"max_score\": 0.9096109839816933, \"min_score\": 0.7151029748283753, \"DT__criterion\": \"gini\", \"DT__max_depth\": 9, \"DT__min_samples_split\": 10, \"fselector__k\": 20}, {\"mean_score\": 0.8195766590389016, \"std_score\": 0.06851054126566317, \"max_score\": 0.9096109839816933, \"min_score\": 0.7151029748283753, \"DT__criterion\": \"gini\", \"DT__max_depth\": 10, \"DT__min_samples_split\": 10, \"fselector__k\": 20}, {\"mean_score\": 0.813066361556064, \"std_score\": 0.07478127825967824, \"max_score\": 0.9, \"min_score\": 0.6796338672768879, \"DT__criterion\": \"gini\", \"DT__max_depth\": 5, \"DT__min_samples_split\": 5, \"fselector__k\": 20}, {\"mean_score\": 0.8128146453089246, \"std_score\": 0.057498576748885706, \"max_score\": 0.8535469107551488, \"min_score\": 0.7013729977116705, \"DT__criterion\": \"entropy\", \"DT__max_depth\": 5, \"DT__min_samples_split\": 5, \"fselector__k\": 20}, {\"mean_score\": 0.8124256292906178, \"std_score\": 0.08074799942156446, \"max_score\": 0.923913043478261, \"min_score\": 0.6990846681922196, \"DT__criterion\": \"gini\", \"DT__max_depth\": 5, \"DT__min_samples_split\": 3, \"fselector__k\": 20}, {\"mean_score\": 0.8094050343249428, \"std_score\": 0.06300625180568087, \"max_score\": 0.8586956521739131, \"min_score\": 0.6853546910755148, \"DT__criterion\": \"entropy\", \"DT__max_depth\": 10, \"DT__min_samples_split\": 5, \"fselector__k\": 20}, {\"mean_score\": 0.8040732265446223, \"std_score\": 0.06472116810299247, \"max_score\": 0.8717391304347827, \"min_score\": 0.6853546910755148, \"DT__criterion\": \"entropy\", \"DT__max_depth\": 9, \"DT__min_samples_split\": 5, \"fselector__k\": 20}, {\"mean_score\": 0.803661327231121, \"std_score\": 0.06739738426999738, \"max_score\": 0.8630434782608695, \"min_score\": 0.6876430205949657, \"DT__criterion\": \"gini\", \"DT__max_depth\": 9, \"DT__min_samples_split\": 5, \"fselector__k\": 20}, {\"mean_score\": 0.8026544622425629, \"std_score\": 0.06133306480331346, \"max_score\": 0.883695652173913, \"min_score\": 0.7013729977116705, \"DT__criterion\": \"entropy\", \"DT__max_depth\": 5, \"DT__min_samples_split\": 2, \"fselector__k\": 20}, {\"mean_score\": 0.7905949656750572, \"std_score\": 0.060177688981993556, \"max_score\": 0.8546910755148742, \"min_score\": 0.6876430205949657, \"DT__criterion\": \"gini\", \"DT__max_depth\": 10, \"DT__min_samples_split\": 5, \"fselector__k\": 20}, {\"mean_score\": 0.7900114416475972, \"std_score\": 0.04192647470503855, \"max_score\": 0.8340961098398169, \"min_score\": 0.711670480549199, \"DT__criterion\": \"entropy\", \"DT__max_depth\": 10, \"DT__min_samples_split\": 2, \"fselector__k\": 20}, {\"mean_score\": 0.7847482837528604, \"std_score\": 0.055674963154335316, \"max_score\": 0.8347826086956522, \"min_score\": 0.6853546910755148, \"DT__criterion\": \"entropy\", \"DT__max_depth\": 9, \"DT__min_samples_split\": 3, \"fselector__k\": 20}, {\"mean_score\": 0.7841647597254005, \"std_score\": 0.07705242824410075, \"max_score\": 0.8782608695652174, \"min_score\": 0.665903890160183, \"DT__criterion\": \"gini\", \"DT__max_depth\": 5, \"DT__min_samples_split\": 2, \"fselector__k\": 20}, {\"mean_score\": 0.7831807780320367, \"std_score\": 0.05197802108780206, \"max_score\": 0.8295194508009154, \"min_score\": 0.6853546910755148, \"DT__criterion\": \"entropy\", \"DT__max_depth\": 10, \"DT__min_samples_split\": 3, \"fselector__k\": 20}, {\"mean_score\": 0.7814302059496567, \"std_score\": 0.059790284508270564, \"max_score\": 0.8375286041189931, \"min_score\": 0.6681922196796339, \"DT__criterion\": \"entropy\", \"DT__max_depth\": 5, \"DT__min_samples_split\": 3, \"fselector__k\": 20}, {\"mean_score\": 0.7813157894736842, \"std_score\": 0.08252155054069757, \"max_score\": 0.8558352402745995, \"min_score\": 0.620137299771167, \"DT__criterion\": \"gini\", \"DT__max_depth\": 10, \"DT__min_samples_split\": 100, \"fselector__k\": 20}, {\"mean_score\": 0.7813157894736842, \"std_score\": 0.08252155054069757, \"max_score\": 0.8558352402745995, \"min_score\": 0.620137299771167, \"DT__criterion\": \"entropy\", \"DT__max_depth\": 2, \"DT__min_samples_split\": 100, \"fselector__k\": 20}, {\"mean_score\": 0.7813157894736842, \"std_score\": 0.08252155054069757, \"max_score\": 0.8558352402745995, \"min_score\": 0.620137299771167, \"DT__criterion\": \"gini\", \"DT__max_depth\": 9, \"DT__min_samples_split\": 100, \"fselector__k\": 20}, {\"mean_score\": 0.7813157894736842, \"std_score\": 0.08252155054069757, \"max_score\": 0.8558352402745995, \"min_score\": 0.620137299771167, \"DT__criterion\": \"entropy\", \"DT__max_depth\": 3, \"DT__min_samples_split\": 100, \"fselector__k\": 20}, {\"mean_score\": 0.7813157894736842, \"std_score\": 0.08252155054069757, \"max_score\": 0.8558352402745995, \"min_score\": 0.620137299771167, \"DT__criterion\": \"gini\", \"DT__max_depth\": 2, \"DT__min_samples_split\": 100, \"fselector__k\": 20}, {\"mean_score\": 0.7813157894736842, \"std_score\": 0.08252155054069757, \"max_score\": 0.8558352402745995, \"min_score\": 0.620137299771167, \"DT__criterion\": \"entropy\", \"DT__max_depth\": 5, \"DT__min_samples_split\": 100, \"fselector__k\": 20}, {\"mean_score\": 0.7813157894736842, \"std_score\": 0.08252155054069757, \"max_score\": 0.8558352402745995, \"min_score\": 0.620137299771167, \"DT__criterion\": \"gini\", \"DT__max_depth\": 3, \"DT__min_samples_split\": 100, \"fselector__k\": 20}, {\"mean_score\": 0.7813157894736842, \"std_score\": 0.08252155054069757, \"max_score\": 0.8558352402745995, \"min_score\": 0.620137299771167, \"DT__criterion\": \"gini\", \"DT__max_depth\": 5, \"DT__min_samples_split\": 100, \"fselector__k\": 20}, {\"mean_score\": 0.7813157894736842, \"std_score\": 0.08252155054069757, \"max_score\": 0.8558352402745995, \"min_score\": 0.620137299771167, \"DT__criterion\": \"entropy\", \"DT__max_depth\": 9, \"DT__min_samples_split\": 100, \"fselector__k\": 20}, {\"mean_score\": 0.7813157894736842, \"std_score\": 0.08252155054069757, \"max_score\": 0.8558352402745995, \"min_score\": 0.620137299771167, \"DT__criterion\": \"entropy\", \"DT__max_depth\": 10, \"DT__min_samples_split\": 100, \"fselector__k\": 20}, {\"mean_score\": 0.7724828375286041, \"std_score\": 0.053758578496131346, \"max_score\": 0.8249427917620138, \"min_score\": 0.6853546910755148, \"DT__criterion\": \"gini\", \"DT__max_depth\": 10, \"DT__min_samples_split\": 3, \"fselector__k\": 20}, {\"mean_score\": 0.770137299771167, \"std_score\": 0.05602464405306067, \"max_score\": 0.851258581235698, \"min_score\": 0.6853546910755148, \"DT__criterion\": \"entropy\", \"DT__max_depth\": 9, \"DT__min_samples_split\": 2, \"fselector__k\": 20}, {\"mean_score\": 0.7654004576659038, \"std_score\": 0.054982353896330834, \"max_score\": 0.8295194508009154, \"min_score\": 0.6978260869565216, \"DT__criterion\": \"gini\", \"DT__max_depth\": 9, \"DT__min_samples_split\": 2, \"fselector__k\": 20}, {\"mean_score\": 0.7631693363844392, \"std_score\": 0.06412204335180893, \"max_score\": 0.8558352402745995, \"min_score\": 0.6853546910755148, \"DT__criterion\": \"gini\", \"DT__max_depth\": 9, \"DT__min_samples_split\": 3, \"fselector__k\": 20}, {\"mean_score\": 0.7573569794050342, \"std_score\": 0.06178584625086582, \"max_score\": 0.8558352402745995, \"min_score\": 0.6853546910755148, \"DT__criterion\": \"gini\", \"DT__max_depth\": 10, \"DT__min_samples_split\": 2, \"fselector__k\": 20}]}}, {\"mode\": \"vega-lite\"});\n",
       "</script>"
      ],
      "text/plain": [
       "alt.Chart(...)"
      ]
     },
     "execution_count": 126,
     "metadata": {},
     "output_type": "execute_result"
    }
   ],
   "source": [
    "plot_DT_MaxDepth(20)"
   ]
  },
  {
   "cell_type": "code",
   "execution_count": 127,
   "metadata": {},
   "outputs": [],
   "source": [
    "def plot_DT_Cr(number_of_features):\n",
    "    results_DT_x_features = results_DT[results_DT['fselector__k'] == number_of_features]\n",
    "\n",
    "    chart = alt.Chart(results_DT_x_features, height = 100, width = 150,\n",
    "          title='DT Performance Comparison with ' + str(number_of_features) +' Features'\n",
    "             ).mark_line(point=True).encode(\n",
    "        alt.X('DT__min_samples_split', title='Min Samples for Split'),\n",
    "        alt.Y('mean_score', title='AUC Score', scale=alt.Scale(zero=False)),\n",
    "        alt.Color('DT__criterion')\n",
    "    )\n",
    "    return chart"
   ]
  },
  {
   "cell_type": "code",
   "execution_count": 128,
   "metadata": {},
   "outputs": [
    {
     "data": {
      "text/html": [
       "\n",
       "<div id=\"altair-viz-8aa8e1bf9a30462fb4780f07eee05b7d\"></div>\n",
       "<script type=\"text/javascript\">\n",
       "  (function(spec, embedOpt){\n",
       "    const outputDiv = document.getElementById(\"altair-viz-8aa8e1bf9a30462fb4780f07eee05b7d\");\n",
       "    const paths = {\n",
       "      \"vega\": \"https://cdn.jsdelivr.net/npm//vega@5?noext\",\n",
       "      \"vega-lib\": \"https://cdn.jsdelivr.net/npm//vega-lib?noext\",\n",
       "      \"vega-lite\": \"https://cdn.jsdelivr.net/npm//vega-lite@4.0.2?noext\",\n",
       "      \"vega-embed\": \"https://cdn.jsdelivr.net/npm//vega-embed@6?noext\",\n",
       "    };\n",
       "\n",
       "    function loadScript(lib) {\n",
       "      return new Promise(function(resolve, reject) {\n",
       "        var s = document.createElement('script');\n",
       "        s.src = paths[lib];\n",
       "        s.async = true;\n",
       "        s.onload = () => resolve(paths[lib]);\n",
       "        s.onerror = () => reject(`Error loading script: ${paths[lib]}`);\n",
       "        document.getElementsByTagName(\"head\")[0].appendChild(s);\n",
       "      });\n",
       "    }\n",
       "\n",
       "    function showError(err) {\n",
       "      outputDiv.innerHTML = `<div class=\"error\" style=\"color:red;\">${err}</div>`;\n",
       "      throw err;\n",
       "    }\n",
       "\n",
       "    function displayChart(vegaEmbed) {\n",
       "      vegaEmbed(outputDiv, spec, embedOpt)\n",
       "        .catch(err => showError(`Javascript Error: ${err.message}<br>This usually means there's a typo in your chart specification. See the javascript console for the full traceback.`));\n",
       "    }\n",
       "\n",
       "    if(typeof define === \"function\" && define.amd) {\n",
       "      requirejs.config({paths});\n",
       "      require([\"vega-embed\"], displayChart, err => showError(`Error loading script: ${err.message}`));\n",
       "    } else if (typeof vegaEmbed === \"function\") {\n",
       "      displayChart(vegaEmbed);\n",
       "    } else {\n",
       "      loadScript(\"vega\")\n",
       "        .then(() => loadScript(\"vega-lite\"))\n",
       "        .then(() => loadScript(\"vega-embed\"))\n",
       "        .catch(showError)\n",
       "        .then(() => displayChart(vegaEmbed));\n",
       "    }\n",
       "  })({\"config\": {\"view\": {\"continuousWidth\": 400, \"continuousHeight\": 300}}, \"data\": {\"name\": \"data-fff057f97135a6878136a80c19109f44\"}, \"mark\": {\"type\": \"line\", \"point\": true}, \"encoding\": {\"color\": {\"type\": \"nominal\", \"field\": \"DT__criterion\"}, \"x\": {\"type\": \"quantitative\", \"field\": \"DT__min_samples_split\", \"title\": \"Min Samples for Split\"}, \"y\": {\"type\": \"quantitative\", \"field\": \"mean_score\", \"scale\": {\"zero\": false}, \"title\": \"AUC Score\"}}, \"height\": 100, \"title\": \"DT Performance Comparison with 10 Features\", \"width\": 150, \"$schema\": \"https://vega.github.io/schema/vega-lite/v4.0.2.json\", \"datasets\": {\"data-fff057f97135a6878136a80c19109f44\": [{\"mean_score\": 0.8343020594965675, \"std_score\": 0.08020022536430206, \"max_score\": 0.9221967963386728, \"min_score\": 0.7036613272311212, \"DT__criterion\": \"entropy\", \"DT__max_depth\": 2, \"DT__min_samples_split\": 50, \"fselector__k\": 10}, {\"mean_score\": 0.8343020594965675, \"std_score\": 0.08020022536430206, \"max_score\": 0.9221967963386728, \"min_score\": 0.7036613272311212, \"DT__criterion\": \"entropy\", \"DT__max_depth\": 2, \"DT__min_samples_split\": 10, \"fselector__k\": 10}, {\"mean_score\": 0.8343020594965675, \"std_score\": 0.08020022536430206, \"max_score\": 0.9221967963386728, \"min_score\": 0.7036613272311212, \"DT__criterion\": \"entropy\", \"DT__max_depth\": 2, \"DT__min_samples_split\": 5, \"fselector__k\": 10}, {\"mean_score\": 0.8343020594965675, \"std_score\": 0.08020022536430206, \"max_score\": 0.9221967963386728, \"min_score\": 0.7036613272311212, \"DT__criterion\": \"entropy\", \"DT__max_depth\": 2, \"DT__min_samples_split\": 3, \"fselector__k\": 10}, {\"mean_score\": 0.8343020594965675, \"std_score\": 0.08020022536430206, \"max_score\": 0.9221967963386728, \"min_score\": 0.7036613272311212, \"DT__criterion\": \"entropy\", \"DT__max_depth\": 2, \"DT__min_samples_split\": 2, \"fselector__k\": 10}, {\"mean_score\": 0.8336498855835239, \"std_score\": 0.04987191465579229, \"max_score\": 0.9010869565217391, \"min_score\": 0.7608695652173914, \"DT__criterion\": \"entropy\", \"DT__max_depth\": 3, \"DT__min_samples_split\": 2, \"fselector__k\": 10}, {\"mean_score\": 0.8336498855835239, \"std_score\": 0.04987191465579229, \"max_score\": 0.9010869565217391, \"min_score\": 0.7608695652173914, \"DT__criterion\": \"entropy\", \"DT__max_depth\": 3, \"DT__min_samples_split\": 10, \"fselector__k\": 10}, {\"mean_score\": 0.8336498855835239, \"std_score\": 0.04987191465579229, \"max_score\": 0.9010869565217391, \"min_score\": 0.7608695652173914, \"DT__criterion\": \"entropy\", \"DT__max_depth\": 3, \"DT__min_samples_split\": 3, \"fselector__k\": 10}, {\"mean_score\": 0.8336498855835239, \"std_score\": 0.04987191465579229, \"max_score\": 0.9010869565217391, \"min_score\": 0.7608695652173914, \"DT__criterion\": \"entropy\", \"DT__max_depth\": 3, \"DT__min_samples_split\": 5, \"fselector__k\": 10}, {\"mean_score\": 0.832974828375286, \"std_score\": 0.07482789067646209, \"max_score\": 0.9107551487414187, \"min_score\": 0.7105263157894737, \"DT__criterion\": \"entropy\", \"DT__max_depth\": 9, \"DT__min_samples_split\": 50, \"fselector__k\": 10}, {\"mean_score\": 0.832974828375286, \"std_score\": 0.07482789067646209, \"max_score\": 0.9107551487414187, \"min_score\": 0.7105263157894737, \"DT__criterion\": \"entropy\", \"DT__max_depth\": 10, \"DT__min_samples_split\": 50, \"fselector__k\": 10}, {\"mean_score\": 0.832974828375286, \"std_score\": 0.07482789067646209, \"max_score\": 0.9107551487414187, \"min_score\": 0.7105263157894737, \"DT__criterion\": \"entropy\", \"DT__max_depth\": 5, \"DT__min_samples_split\": 50, \"fselector__k\": 10}, {\"mean_score\": 0.8316018306636156, \"std_score\": 0.0770908345337442, \"max_score\": 0.9107551487414187, \"min_score\": 0.7036613272311212, \"DT__criterion\": \"entropy\", \"DT__max_depth\": 3, \"DT__min_samples_split\": 50, \"fselector__k\": 10}, {\"mean_score\": 0.8292105263157895, \"std_score\": 0.050324908246215376, \"max_score\": 0.9010869565217391, \"min_score\": 0.7608695652173914, \"DT__criterion\": \"gini\", \"DT__max_depth\": 3, \"DT__min_samples_split\": 2, \"fselector__k\": 10}, {\"mean_score\": 0.8292105263157895, \"std_score\": 0.050324908246215376, \"max_score\": 0.9010869565217391, \"min_score\": 0.7608695652173914, \"DT__criterion\": \"gini\", \"DT__max_depth\": 3, \"DT__min_samples_split\": 3, \"fselector__k\": 10}, {\"mean_score\": 0.8286727688787184, \"std_score\": 0.042814247815313476, \"max_score\": 0.8981693363844393, \"min_score\": 0.7654462242562929, \"DT__criterion\": \"gini\", \"DT__max_depth\": 9, \"DT__min_samples_split\": 10, \"fselector__k\": 10}, {\"mean_score\": 0.8283409610983983, \"std_score\": 0.05007021864267049, \"max_score\": 0.9010869565217391, \"min_score\": 0.7608695652173914, \"DT__criterion\": \"gini\", \"DT__max_depth\": 3, \"DT__min_samples_split\": 10, \"fselector__k\": 10}, {\"mean_score\": 0.8274713958810068, \"std_score\": 0.049874907009417414, \"max_score\": 0.9010869565217391, \"min_score\": 0.7608695652173914, \"DT__criterion\": \"gini\", \"DT__max_depth\": 3, \"DT__min_samples_split\": 5, \"fselector__k\": 10}, {\"mean_score\": 0.8235240274599542, \"std_score\": 0.07226727403876357, \"max_score\": 0.9107551487414187, \"min_score\": 0.7105263157894737, \"DT__criterion\": \"gini\", \"DT__max_depth\": 5, \"DT__min_samples_split\": 50, \"fselector__k\": 10}, {\"mean_score\": 0.8235240274599542, \"std_score\": 0.07226727403876357, \"max_score\": 0.9107551487414187, \"min_score\": 0.7105263157894737, \"DT__criterion\": \"gini\", \"DT__max_depth\": 10, \"DT__min_samples_split\": 50, \"fselector__k\": 10}, {\"mean_score\": 0.8235240274599542, \"std_score\": 0.07226727403876357, \"max_score\": 0.9107551487414187, \"min_score\": 0.7105263157894737, \"DT__criterion\": \"gini\", \"DT__max_depth\": 9, \"DT__min_samples_split\": 50, \"fselector__k\": 10}, {\"mean_score\": 0.8232265446224256, \"std_score\": 0.058334452302520254, \"max_score\": 0.8981693363844393, \"min_score\": 0.7208237986270024, \"DT__criterion\": \"gini\", \"DT__max_depth\": 10, \"DT__min_samples_split\": 10, \"fselector__k\": 10}, {\"mean_score\": 0.823066361556064, \"std_score\": 0.07413830436065545, \"max_score\": 0.9107551487414187, \"min_score\": 0.7036613272311212, \"DT__criterion\": \"gini\", \"DT__max_depth\": 3, \"DT__min_samples_split\": 50, \"fselector__k\": 10}, {\"mean_score\": 0.8180549199084668, \"std_score\": 0.07225261942647176, \"max_score\": 0.9027459954233409, \"min_score\": 0.688787185354691, \"DT__criterion\": \"entropy\", \"DT__max_depth\": 10, \"DT__min_samples_split\": 10, \"fselector__k\": 10}, {\"mean_score\": 0.8180549199084668, \"std_score\": 0.07225261942647176, \"max_score\": 0.9027459954233409, \"min_score\": 0.688787185354691, \"DT__criterion\": \"entropy\", \"DT__max_depth\": 9, \"DT__min_samples_split\": 10, \"fselector__k\": 10}, {\"mean_score\": 0.8175629290617848, \"std_score\": 0.07959856459925753, \"max_score\": 0.9221967963386728, \"min_score\": 0.7036613272311212, \"DT__criterion\": \"gini\", \"DT__max_depth\": 2, \"DT__min_samples_split\": 10, \"fselector__k\": 10}, {\"mean_score\": 0.8175629290617848, \"std_score\": 0.07959856459925753, \"max_score\": 0.9221967963386728, \"min_score\": 0.7036613272311212, \"DT__criterion\": \"gini\", \"DT__max_depth\": 2, \"DT__min_samples_split\": 50, \"fselector__k\": 10}, {\"mean_score\": 0.8175629290617848, \"std_score\": 0.07959856459925753, \"max_score\": 0.9221967963386728, \"min_score\": 0.7036613272311212, \"DT__criterion\": \"gini\", \"DT__max_depth\": 2, \"DT__min_samples_split\": 2, \"fselector__k\": 10}, {\"mean_score\": 0.8175629290617848, \"std_score\": 0.07959856459925753, \"max_score\": 0.9221967963386728, \"min_score\": 0.7036613272311212, \"DT__criterion\": \"gini\", \"DT__max_depth\": 2, \"DT__min_samples_split\": 5, \"fselector__k\": 10}, {\"mean_score\": 0.8175629290617848, \"std_score\": 0.07959856459925753, \"max_score\": 0.9221967963386728, \"min_score\": 0.7036613272311212, \"DT__criterion\": \"gini\", \"DT__max_depth\": 2, \"DT__min_samples_split\": 3, \"fselector__k\": 10}, {\"mean_score\": 0.8163043478260871, \"std_score\": 0.07922058318804213, \"max_score\": 0.9073226544622426, \"min_score\": 0.679633867276888, \"DT__criterion\": \"entropy\", \"DT__max_depth\": 5, \"DT__min_samples_split\": 10, \"fselector__k\": 10}, {\"mean_score\": 0.8158466819221968, \"std_score\": 0.034012883543300614, \"max_score\": 0.8649885583524027, \"min_score\": 0.7837528604118992, \"DT__criterion\": \"gini\", \"DT__max_depth\": 10, \"DT__min_samples_split\": 5, \"fselector__k\": 10}, {\"mean_score\": 0.8112013729977117, \"std_score\": 0.042951622006248504, \"max_score\": 0.8604118993135011, \"min_score\": 0.7494279176201374, \"DT__criterion\": \"entropy\", \"DT__max_depth\": 10, \"DT__min_samples_split\": 5, \"fselector__k\": 10}, {\"mean_score\": 0.8078604118993136, \"std_score\": 0.061482964260434404, \"max_score\": 0.8890160183066361, \"min_score\": 0.7070938215102974, \"DT__criterion\": \"gini\", \"DT__max_depth\": 5, \"DT__min_samples_split\": 10, \"fselector__k\": 10}, {\"mean_score\": 0.801441647597254, \"std_score\": 0.04622557886047759, \"max_score\": 0.8649885583524028, \"min_score\": 0.7437070938215105, \"DT__criterion\": \"entropy\", \"DT__max_depth\": 9, \"DT__min_samples_split\": 5, \"fselector__k\": 10}, {\"mean_score\": 0.7985812356979405, \"std_score\": 0.045876846596023625, \"max_score\": 0.8581235697940504, \"min_score\": 0.7402745995423341, \"DT__criterion\": \"gini\", \"DT__max_depth\": 9, \"DT__min_samples_split\": 5, \"fselector__k\": 10}, {\"mean_score\": 0.7979061784897026, \"std_score\": 0.048567706477550106, \"max_score\": 0.8510869565217392, \"min_score\": 0.7185354691075515, \"DT__criterion\": \"gini\", \"DT__max_depth\": 5, \"DT__min_samples_split\": 5, \"fselector__k\": 10}, {\"mean_score\": 0.7908810068649885, \"std_score\": 0.06379240930471819, \"max_score\": 0.8672768878718536, \"min_score\": 0.6750572082379862, \"DT__criterion\": \"entropy\", \"DT__max_depth\": 5, \"DT__min_samples_split\": 2, \"fselector__k\": 10}, {\"mean_score\": 0.7873798627002289, \"std_score\": 0.0685021637193893, \"max_score\": 0.8558352402745995, \"min_score\": 0.6670480549199085, \"DT__criterion\": \"entropy\", \"DT__max_depth\": 5, \"DT__min_samples_split\": 5, \"fselector__k\": 10}, {\"mean_score\": 0.7869221967963387, \"std_score\": 0.031026398299014286, \"max_score\": 0.8295194508009154, \"min_score\": 0.7379862700228833, \"DT__criterion\": \"gini\", \"DT__max_depth\": 10, \"DT__min_samples_split\": 2, \"fselector__k\": 10}, {\"mean_score\": 0.7823340961098398, \"std_score\": 0.062103123608824085, \"max_score\": 0.8576086956521739, \"min_score\": 0.7048054919908467, \"DT__criterion\": \"gini\", \"DT__max_depth\": 5, \"DT__min_samples_split\": 3, \"fselector__k\": 10}, {\"mean_score\": 0.7813157894736842, \"std_score\": 0.08252155054069757, \"max_score\": 0.8558352402745995, \"min_score\": 0.620137299771167, \"DT__criterion\": \"entropy\", \"DT__max_depth\": 3, \"DT__min_samples_split\": 100, \"fselector__k\": 10}, {\"mean_score\": 0.7813157894736842, \"std_score\": 0.08252155054069757, \"max_score\": 0.8558352402745995, \"min_score\": 0.620137299771167, \"DT__criterion\": \"gini\", \"DT__max_depth\": 10, \"DT__min_samples_split\": 100, \"fselector__k\": 10}, {\"mean_score\": 0.7813157894736842, \"std_score\": 0.08252155054069757, \"max_score\": 0.8558352402745995, \"min_score\": 0.620137299771167, \"DT__criterion\": \"gini\", \"DT__max_depth\": 9, \"DT__min_samples_split\": 100, \"fselector__k\": 10}, {\"mean_score\": 0.7813157894736842, \"std_score\": 0.08252155054069757, \"max_score\": 0.8558352402745995, \"min_score\": 0.620137299771167, \"DT__criterion\": \"entropy\", \"DT__max_depth\": 2, \"DT__min_samples_split\": 100, \"fselector__k\": 10}, {\"mean_score\": 0.7813157894736842, \"std_score\": 0.08252155054069757, \"max_score\": 0.8558352402745995, \"min_score\": 0.620137299771167, \"DT__criterion\": \"entropy\", \"DT__max_depth\": 5, \"DT__min_samples_split\": 100, \"fselector__k\": 10}, {\"mean_score\": 0.7813157894736842, \"std_score\": 0.08252155054069757, \"max_score\": 0.8558352402745995, \"min_score\": 0.620137299771167, \"DT__criterion\": \"gini\", \"DT__max_depth\": 3, \"DT__min_samples_split\": 100, \"fselector__k\": 10}, {\"mean_score\": 0.7813157894736842, \"std_score\": 0.08252155054069757, \"max_score\": 0.8558352402745995, \"min_score\": 0.620137299771167, \"DT__criterion\": \"gini\", \"DT__max_depth\": 2, \"DT__min_samples_split\": 100, \"fselector__k\": 10}, {\"mean_score\": 0.7813157894736842, \"std_score\": 0.08252155054069757, \"max_score\": 0.8558352402745995, \"min_score\": 0.620137299771167, \"DT__criterion\": \"entropy\", \"DT__max_depth\": 10, \"DT__min_samples_split\": 100, \"fselector__k\": 10}, {\"mean_score\": 0.7813157894736842, \"std_score\": 0.08252155054069757, \"max_score\": 0.8558352402745995, \"min_score\": 0.620137299771167, \"DT__criterion\": \"gini\", \"DT__max_depth\": 5, \"DT__min_samples_split\": 100, \"fselector__k\": 10}, {\"mean_score\": 0.7813157894736842, \"std_score\": 0.08252155054069757, \"max_score\": 0.8558352402745995, \"min_score\": 0.620137299771167, \"DT__criterion\": \"entropy\", \"DT__max_depth\": 9, \"DT__min_samples_split\": 100, \"fselector__k\": 10}, {\"mean_score\": 0.7696453089244851, \"std_score\": 0.05623759631407994, \"max_score\": 0.8466819221967964, \"min_score\": 0.7116704805491991, \"DT__criterion\": \"gini\", \"DT__max_depth\": 5, \"DT__min_samples_split\": 2, \"fselector__k\": 10}, {\"mean_score\": 0.7691304347826087, \"std_score\": 0.044686227344384814, \"max_score\": 0.825, \"min_score\": 0.6922196796338672, \"DT__criterion\": \"entropy\", \"DT__max_depth\": 9, \"DT__min_samples_split\": 3, \"fselector__k\": 10}, {\"mean_score\": 0.7686384439359267, \"std_score\": 0.07867011309369963, \"max_score\": 0.8558352402745995, \"min_score\": 0.6361556064073227, \"DT__criterion\": \"entropy\", \"DT__max_depth\": 5, \"DT__min_samples_split\": 3, \"fselector__k\": 10}, {\"mean_score\": 0.7567734553775743, \"std_score\": 0.043872424431997334, \"max_score\": 0.8293478260869565, \"min_score\": 0.6910755148741419, \"DT__criterion\": \"gini\", \"DT__max_depth\": 9, \"DT__min_samples_split\": 3, \"fselector__k\": 10}, {\"mean_score\": 0.7542677345537758, \"std_score\": 0.030474578685595333, \"max_score\": 0.7929061784897025, \"min_score\": 0.7105263157894738, \"DT__criterion\": \"gini\", \"DT__max_depth\": 10, \"DT__min_samples_split\": 3, \"fselector__k\": 10}, {\"mean_score\": 0.7531464530892448, \"std_score\": 0.029671525686384304, \"max_score\": 0.8032036613272311, \"min_score\": 0.7239130434782609, \"DT__criterion\": \"gini\", \"DT__max_depth\": 9, \"DT__min_samples_split\": 2, \"fselector__k\": 10}, {\"mean_score\": 0.7438100686498856, \"std_score\": 0.04192576903629498, \"max_score\": 0.775, \"min_score\": 0.6613272311212816, \"DT__criterion\": \"entropy\", \"DT__max_depth\": 10, \"DT__min_samples_split\": 3, \"fselector__k\": 10}, {\"mean_score\": 0.7399199084668193, \"std_score\": 0.05534747749570226, \"max_score\": 0.8032036613272311, \"min_score\": 0.6464530892448513, \"DT__criterion\": \"entropy\", \"DT__max_depth\": 10, \"DT__min_samples_split\": 2, \"fselector__k\": 10}, {\"mean_score\": 0.7394851258581235, \"std_score\": 0.04258052464722286, \"max_score\": 0.7880434782608695, \"min_score\": 0.6624713958810069, \"DT__criterion\": \"entropy\", \"DT__max_depth\": 9, \"DT__min_samples_split\": 2, \"fselector__k\": 10}]}}, {\"mode\": \"vega-lite\"});\n",
       "</script>"
      ],
      "text/plain": [
       "alt.Chart(...)"
      ]
     },
     "execution_count": 128,
     "metadata": {},
     "output_type": "execute_result"
    }
   ],
   "source": [
    "plot_DT_Cr(10)"
   ]
  },
  {
   "cell_type": "markdown",
   "metadata": {},
   "source": [
    "## Regression Modelling\n",
    "\n",
    "In this section I will look into finding a suitable regression model for this data. Since the target is binary I will look into a logistic regression model. First I will fit a full model, use all predictors, then I will look into the model and see if I can make a simpler model. \n",
    "Firstly I tuned the parameters based on l1 and l2. Both of these metrics are based on preventing overfitting. I will also use these metrics when modelling the simple logistic regression model."
   ]
  },
  {
   "cell_type": "code",
   "execution_count": 129,
   "metadata": {},
   "outputs": [],
   "source": [
    "from sklearn.linear_model import LogisticRegression"
   ]
  },
  {
   "cell_type": "code",
   "execution_count": 130,
   "metadata": {},
   "outputs": [],
   "source": [
    "lr_pipe = Pipeline([('fselector', fs.SelectKBest()), \n",
    "                     ('lr', LogisticRegression())])\n",
    "\n",
    "lr_pipe_params = {'fselector__k' : [5, 10, 15, 20,  heart.shape[1]],\n",
    "                 'lr__penalty' : ['l1','l2']}\n",
    "\n",
    "GridSearch_lr = GridSearchCV(estimator=lr_pipe, \n",
    "                          param_grid=lr_pipe_params, \n",
    "                          cv=cross_val_method,\n",
    "                          refit=True,\n",
    "                          n_jobs=-2,\n",
    "                          scoring='roc_auc',\n",
    "                          verbose=1) "
   ]
  },
  {
   "cell_type": "code",
   "execution_count": 131,
   "metadata": {},
   "outputs": [
    {
     "name": "stdout",
     "output_type": "stream",
     "text": [
      "Fitting 5 folds for each of 10 candidates, totalling 50 fits\n"
     ]
    },
    {
     "name": "stderr",
     "output_type": "stream",
     "text": [
      "[Parallel(n_jobs=-2)]: Using backend LokyBackend with 3 concurrent workers.\n",
      "[Parallel(n_jobs=-2)]: Done  50 out of  50 | elapsed:    0.2s finished\n"
     ]
    },
    {
     "data": {
      "text/plain": [
       "GridSearchCV(cv=StratifiedKFold(n_splits=5, random_state=999, shuffle=False),\n",
       "             error_score='raise-deprecating',\n",
       "             estimator=Pipeline(memory=None,\n",
       "                                steps=[('fselector',\n",
       "                                        SelectKBest(k=10,\n",
       "                                                    score_func=<function f_classif at 0x7f873677d7b8>)),\n",
       "                                       ('lr',\n",
       "                                        LogisticRegression(C=1.0,\n",
       "                                                           class_weight=None,\n",
       "                                                           dual=False,\n",
       "                                                           fit_intercept=True,\n",
       "                                                           intercept_scaling=1,\n",
       "                                                           l1_ratio=None,\n",
       "                                                           max_iter=100,\n",
       "                                                           multi_class='warn',\n",
       "                                                           n_jobs=None,\n",
       "                                                           penalty='l2',\n",
       "                                                           random_state=None,\n",
       "                                                           solver='warn',\n",
       "                                                           tol=0.0001,\n",
       "                                                           verbose=0,\n",
       "                                                           warm_start=False))],\n",
       "                                verbose=False),\n",
       "             iid='warn', n_jobs=-2,\n",
       "             param_grid={'fselector__k': [5, 10, 15, 20, 27],\n",
       "                         'lr__penalty': ['l1', 'l2']},\n",
       "             pre_dispatch='2*n_jobs', refit=True, return_train_score=False,\n",
       "             scoring='roc_auc', verbose=1)"
      ]
     },
     "execution_count": 131,
     "metadata": {},
     "output_type": "execute_result"
    }
   ],
   "source": [
    "GridSearch_lr.fit(heart_train,target_train)"
   ]
  },
  {
   "cell_type": "code",
   "execution_count": 132,
   "metadata": {},
   "outputs": [
    {
     "data": {
      "text/plain": [
       "{'fselector__k': 20, 'lr__penalty': 'l2'}"
      ]
     },
     "execution_count": 132,
     "metadata": {},
     "output_type": "execute_result"
    }
   ],
   "source": [
    "GridSearch_lr.best_params_"
   ]
  },
  {
   "cell_type": "code",
   "execution_count": 133,
   "metadata": {},
   "outputs": [
    {
     "data": {
      "text/plain": [
       "0.9160927852856094"
      ]
     },
     "execution_count": 133,
     "metadata": {},
     "output_type": "execute_result"
    }
   ],
   "source": [
    "GridSearch_lr.best_score_"
   ]
  },
  {
   "cell_type": "markdown",
   "metadata": {},
   "source": [
    "We observe that the best parameters are l2 and 20 features. This gives us an AUC score of ~0.917. This model seems to perform the same as the KNN model."
   ]
  },
  {
   "cell_type": "code",
   "execution_count": 134,
   "metadata": {},
   "outputs": [
    {
     "data": {
      "text/html": [
       "<div>\n",
       "<style scoped>\n",
       "    .dataframe tbody tr th:only-of-type {\n",
       "        vertical-align: middle;\n",
       "    }\n",
       "\n",
       "    .dataframe tbody tr th {\n",
       "        vertical-align: top;\n",
       "    }\n",
       "\n",
       "    .dataframe thead th {\n",
       "        text-align: right;\n",
       "    }\n",
       "</style>\n",
       "<table border=\"1\" class=\"dataframe\">\n",
       "  <thead>\n",
       "    <tr style=\"text-align: right;\">\n",
       "      <th></th>\n",
       "      <th>mean_score</th>\n",
       "      <th>std_score</th>\n",
       "      <th>max_score</th>\n",
       "      <th>min_score</th>\n",
       "      <th>fselector__k</th>\n",
       "      <th>lr__penalty</th>\n",
       "    </tr>\n",
       "  </thead>\n",
       "  <tbody>\n",
       "    <tr>\n",
       "      <th>7</th>\n",
       "      <td>0.916018</td>\n",
       "      <td>0.0469514</td>\n",
       "      <td>0.990847</td>\n",
       "      <td>0.846682</td>\n",
       "      <td>20</td>\n",
       "      <td>l2</td>\n",
       "    </tr>\n",
       "    <tr>\n",
       "      <th>9</th>\n",
       "      <td>0.915927</td>\n",
       "      <td>0.0489337</td>\n",
       "      <td>0.990847</td>\n",
       "      <td>0.844394</td>\n",
       "      <td>27</td>\n",
       "      <td>l2</td>\n",
       "    </tr>\n",
       "    <tr>\n",
       "      <th>5</th>\n",
       "      <td>0.914211</td>\n",
       "      <td>0.047687</td>\n",
       "      <td>0.988558</td>\n",
       "      <td>0.842105</td>\n",
       "      <td>15</td>\n",
       "      <td>l2</td>\n",
       "    </tr>\n",
       "    <tr>\n",
       "      <th>8</th>\n",
       "      <td>0.914119</td>\n",
       "      <td>0.0506483</td>\n",
       "      <td>0.98627</td>\n",
       "      <td>0.832952</td>\n",
       "      <td>27</td>\n",
       "      <td>l1</td>\n",
       "    </tr>\n",
       "    <tr>\n",
       "      <th>4</th>\n",
       "      <td>0.912471</td>\n",
       "      <td>0.0491698</td>\n",
       "      <td>0.98627</td>\n",
       "      <td>0.83524</td>\n",
       "      <td>15</td>\n",
       "      <td>l1</td>\n",
       "    </tr>\n",
       "  </tbody>\n",
       "</table>\n",
       "</div>"
      ],
      "text/plain": [
       "  mean_score  std_score max_score min_score fselector__k lr__penalty\n",
       "7   0.916018  0.0469514  0.990847  0.846682           20          l2\n",
       "9   0.915927  0.0489337  0.990847  0.844394           27          l2\n",
       "5   0.914211   0.047687  0.988558  0.842105           15          l2\n",
       "8   0.914119  0.0506483   0.98627  0.832952           27          l1\n",
       "4   0.912471  0.0491698   0.98627   0.83524           15          l1"
      ]
     },
     "execution_count": 134,
     "metadata": {},
     "output_type": "execute_result"
    }
   ],
   "source": [
    "results_lr = get_search_results(GridSearch_lr)\n",
    "results_lr.head()"
   ]
  },
  {
   "cell_type": "markdown",
   "metadata": {},
   "source": [
    "From the table, we can observe that 15 features nearly gives us the same result as the 20 feature model.\n",
    "\n",
    "The below visualisation allow us to see how the score changes based on the penalty (l1 or l2)."
   ]
  },
  {
   "cell_type": "code",
   "execution_count": 135,
   "metadata": {},
   "outputs": [],
   "source": [
    "def plot_lr(results):\n",
    "    chart = alt.Chart(results, height = 100, width = 150,\n",
    "          title='Logistic Regression Performance'\n",
    "             ).mark_line(point=True).encode(\n",
    "        alt.X('fselector__k', title='Number of Features'),\n",
    "        alt.Y('mean_score', title='AUC Score', scale=alt.Scale(zero=False)),\n",
    "        alt.Color('lr__penalty')\n",
    "    )\n",
    "    return chart"
   ]
  },
  {
   "cell_type": "code",
   "execution_count": 136,
   "metadata": {},
   "outputs": [
    {
     "data": {
      "text/html": [
       "\n",
       "<div id=\"altair-viz-395a33c405224d48a94037c91ed9da4e\"></div>\n",
       "<script type=\"text/javascript\">\n",
       "  (function(spec, embedOpt){\n",
       "    const outputDiv = document.getElementById(\"altair-viz-395a33c405224d48a94037c91ed9da4e\");\n",
       "    const paths = {\n",
       "      \"vega\": \"https://cdn.jsdelivr.net/npm//vega@5?noext\",\n",
       "      \"vega-lib\": \"https://cdn.jsdelivr.net/npm//vega-lib?noext\",\n",
       "      \"vega-lite\": \"https://cdn.jsdelivr.net/npm//vega-lite@4.0.2?noext\",\n",
       "      \"vega-embed\": \"https://cdn.jsdelivr.net/npm//vega-embed@6?noext\",\n",
       "    };\n",
       "\n",
       "    function loadScript(lib) {\n",
       "      return new Promise(function(resolve, reject) {\n",
       "        var s = document.createElement('script');\n",
       "        s.src = paths[lib];\n",
       "        s.async = true;\n",
       "        s.onload = () => resolve(paths[lib]);\n",
       "        s.onerror = () => reject(`Error loading script: ${paths[lib]}`);\n",
       "        document.getElementsByTagName(\"head\")[0].appendChild(s);\n",
       "      });\n",
       "    }\n",
       "\n",
       "    function showError(err) {\n",
       "      outputDiv.innerHTML = `<div class=\"error\" style=\"color:red;\">${err}</div>`;\n",
       "      throw err;\n",
       "    }\n",
       "\n",
       "    function displayChart(vegaEmbed) {\n",
       "      vegaEmbed(outputDiv, spec, embedOpt)\n",
       "        .catch(err => showError(`Javascript Error: ${err.message}<br>This usually means there's a typo in your chart specification. See the javascript console for the full traceback.`));\n",
       "    }\n",
       "\n",
       "    if(typeof define === \"function\" && define.amd) {\n",
       "      requirejs.config({paths});\n",
       "      require([\"vega-embed\"], displayChart, err => showError(`Error loading script: ${err.message}`));\n",
       "    } else if (typeof vegaEmbed === \"function\") {\n",
       "      displayChart(vegaEmbed);\n",
       "    } else {\n",
       "      loadScript(\"vega\")\n",
       "        .then(() => loadScript(\"vega-lite\"))\n",
       "        .then(() => loadScript(\"vega-embed\"))\n",
       "        .catch(showError)\n",
       "        .then(() => displayChart(vegaEmbed));\n",
       "    }\n",
       "  })({\"config\": {\"view\": {\"continuousWidth\": 400, \"continuousHeight\": 300}}, \"data\": {\"name\": \"data-a0d329b54b4532fe17b06e55ef18afc8\"}, \"mark\": {\"type\": \"line\", \"point\": true}, \"encoding\": {\"color\": {\"type\": \"nominal\", \"field\": \"lr__penalty\"}, \"x\": {\"type\": \"quantitative\", \"field\": \"fselector__k\", \"title\": \"Number of Features\"}, \"y\": {\"type\": \"quantitative\", \"field\": \"mean_score\", \"scale\": {\"zero\": false}, \"title\": \"AUC Score\"}}, \"height\": 100, \"title\": \"Logistic Regression Performance\", \"width\": 150, \"$schema\": \"https://vega.github.io/schema/vega-lite/v4.0.2.json\", \"datasets\": {\"data-a0d329b54b4532fe17b06e55ef18afc8\": [{\"mean_score\": 0.9160183066361556, \"std_score\": 0.04695142513412749, \"max_score\": 0.9908466819221968, \"min_score\": 0.8466819221967964, \"fselector__k\": 20, \"lr__penalty\": \"l2\"}, {\"mean_score\": 0.9159267734553775, \"std_score\": 0.04893374245880353, \"max_score\": 0.9908466819221968, \"min_score\": 0.8443935926773456, \"fselector__k\": 27, \"lr__penalty\": \"l2\"}, {\"mean_score\": 0.9142105263157895, \"std_score\": 0.04768696439284001, \"max_score\": 0.9885583524027459, \"min_score\": 0.8421052631578948, \"fselector__k\": 15, \"lr__penalty\": \"l2\"}, {\"mean_score\": 0.9141189931350115, \"std_score\": 0.05064831637761984, \"max_score\": 0.9862700228832951, \"min_score\": 0.8329519450800916, \"fselector__k\": 27, \"lr__penalty\": \"l1\"}, {\"mean_score\": 0.9124713958810069, \"std_score\": 0.04916980662554682, \"max_score\": 0.9862700228832951, \"min_score\": 0.8352402745995424, \"fselector__k\": 15, \"lr__penalty\": \"l1\"}, {\"mean_score\": 0.9115217391304349, \"std_score\": 0.05060796846392076, \"max_score\": 0.9862700228832951, \"min_score\": 0.8318077803203662, \"fselector__k\": 20, \"lr__penalty\": \"l1\"}, {\"mean_score\": 0.9105720823798628, \"std_score\": 0.046619826785461796, \"max_score\": 0.9771167048054918, \"min_score\": 0.8329519450800915, \"fselector__k\": 10, \"lr__penalty\": \"l2\"}, {\"mean_score\": 0.9049427917620138, \"std_score\": 0.05608561674528822, \"max_score\": 0.982837528604119, \"min_score\": 0.8089244851258581, \"fselector__k\": 10, \"lr__penalty\": \"l1\"}, {\"mean_score\": 0.8691533180778033, \"std_score\": 0.05243743917672589, \"max_score\": 0.954233409610984, \"min_score\": 0.7894736842105263, \"fselector__k\": 5, \"lr__penalty\": \"l1\"}, {\"mean_score\": 0.8646224256292907, \"std_score\": 0.05462484620072495, \"max_score\": 0.9542334096109839, \"min_score\": 0.782608695652174, \"fselector__k\": 5, \"lr__penalty\": \"l2\"}]}}, {\"mode\": \"vega-lite\"});\n",
       "</script>"
      ],
      "text/plain": [
       "alt.Chart(...)"
      ]
     },
     "execution_count": 136,
     "metadata": {},
     "output_type": "execute_result"
    }
   ],
   "source": [
    "plot_lr(results_lr)"
   ]
  },
  {
   "cell_type": "markdown",
   "metadata": {},
   "source": [
    "### Simplest Model\n",
    "\n",
    "Now that we have a model built by sklearn we will see what the model looks like. From here, we can see the p values and make decisions about what to cut out and what to leave in. Firstly, I will take the binned data set that I created for the bernoulli NB and change the column names. This was done as the 'glm' function doesn't parse any column with ']' in it. I will then start fitting models and iteratively making them simpler. I will also make a dummy of the target variable in order to predict whether it is heart disease (target = 1)."
   ]
  },
  {
   "cell_type": "code",
   "execution_count": 137,
   "metadata": {},
   "outputs": [],
   "source": [
    "heart_lr = heart_bin_B.copy()\n",
    "heart_lr = heart_lr.rename(columns={'age_bins_(28.952, 38.6]' : 'age0', 'age_bins_(38.6, 48.2]' : 'age1',\n",
    "                                   'age_bins_(48.2, 57.8]' : 'age2', 'age_bins_(57.8, 67.4]' : 'age3',\n",
    "       'age_bins_(67.4, 77.0]': 'age4', 'trestbps_bins_(93.894, 115.2]' : 'trest0',\n",
    "       'trestbps_bins_(115.2, 136.4]' : 'trest1', 'trestbps_bins_(136.4, 157.6]' : 'trest2',\n",
    "       'trestbps_bins_(157.6, 178.8]' : 'trest3', 'trestbps_bins_(178.8, 200.0]' : 'trest4',\n",
    "       'chol_bins_(125.562, 213.6]' : 'chol0', 'chol_bins_(213.6, 301.2]' : 'chol1',\n",
    "       'chol_bins_(301.2, 388.8]' : 'chol2', 'chol_bins_(388.8, 476.4]' : 'chol3',\n",
    "       'chol_bins_(476.4, 564.0]' : 'chol4', 'thalach_bins_(70.869, 97.2]' : 'thalach0',\n",
    "       'thalach_bins_(97.2, 123.4]' : 'thalach1', 'thalach_bins_(123.4, 149.6]' : 'thalach2',\n",
    "       'thalach_bins_(149.6, 175.8]' : 'thalach3', 'thalach_bins_(175.8, 202.0]' : 'thalach4',\n",
    "       'oldpeak_bins_(-0.0062, 1.55]' : 'old0', 'oldpeak_bins_(1.55, 3.1]' : 'old1',\n",
    "       'oldpeak_bins_(3.1, 4.65]' : 'old2', 'oldpeak_bins_(4.65, 6.2]' : 'old3'\n",
    "    \n",
    "})\n",
    "dummies = pd.get_dummies(target)\n",
    "heart_lr['target1'] = dummies['1']"
   ]
  },
  {
   "cell_type": "markdown",
   "metadata": {},
   "source": [
    "Now that we've changed all the column names we can now start iteratively building a simple logistic regression model."
   ]
  },
  {
   "cell_type": "code",
   "execution_count": 138,
   "metadata": {},
   "outputs": [
    {
     "data": {
      "text/plain": [
       "Index(['sex', 'fbs', 'exang', 'cp_0', 'cp_1', 'cp_2', 'cp_3', 'restecg_0',\n",
       "       'restecg_1', 'restecg_2', 'slope_0', 'slope_1', 'slope_2', 'ca_0',\n",
       "       'ca_1', 'ca_2', 'ca_3', 'ca_4', 'thal_0', 'thal_1', 'thal_2', 'thal_3',\n",
       "       'age0', 'age1', 'age2', 'age3', 'age4', 'trest0', 'trest1', 'trest2',\n",
       "       'trest3', 'trest4', 'chol0', 'chol1', 'chol2', 'chol3', 'chol4',\n",
       "       'thalach0', 'thalach1', 'thalach2', 'thalach3', 'thalach4', 'old0',\n",
       "       'old1', 'old2', 'old3', 'target1'],\n",
       "      dtype='object')"
      ]
     },
     "execution_count": 138,
     "metadata": {},
     "output_type": "execute_result"
    }
   ],
   "source": [
    "heart_lr.columns"
   ]
  },
  {
   "cell_type": "markdown",
   "metadata": {},
   "source": [
    "We first start out trying to fit a full model. This was done using statsmodels package."
   ]
  },
  {
   "cell_type": "code",
   "execution_count": 139,
   "metadata": {},
   "outputs": [
    {
     "name": "stdout",
     "output_type": "stream",
     "text": [
      "                 Generalized Linear Model Regression Results                  \n",
      "==============================================================================\n",
      "Dep. Variable:                target1   No. Observations:                  303\n",
      "Model:                            GLM   Df Residuals:                      266\n",
      "Model Family:                Binomial   Df Model:                           36\n",
      "Link Function:                  logit   Scale:                          1.0000\n",
      "Method:                          IRLS   Log-Likelihood:                    nan\n",
      "Date:                Thu, 13 Feb 2020   Deviance:                          nan\n",
      "Time:                        01:36:06   Pearson chi2:                 2.16e+17\n",
      "No. Iterations:                   100                                         \n",
      "Covariance Type:            nonrobust                                         \n",
      "==============================================================================\n",
      "                 coef    std err          z      P>|z|      [0.025      0.975]\n",
      "------------------------------------------------------------------------------\n",
      "Intercept   6.911e+14   1.33e+07   5.19e+07      0.000    6.91e+14    6.91e+14\n",
      "sex        -6.078e+14   1.01e+07  -6.01e+07      0.000   -6.08e+14   -6.08e+14\n",
      "fbs         -5.03e+14   1.17e+07  -4.29e+07      0.000   -5.03e+14   -5.03e+14\n",
      "exang       6.094e+13   1.02e+07   5.95e+06      0.000    6.09e+13    6.09e+13\n",
      "cp_0       -1.307e+14   8.22e+06  -1.59e+07      0.000   -1.31e+14   -1.31e+14\n",
      "cp_1        5.304e+13    9.7e+06   5.47e+06      0.000     5.3e+13     5.3e+13\n",
      "cp_2        3.236e+14   7.76e+06   4.17e+07      0.000    3.24e+14    3.24e+14\n",
      "cp_3        4.452e+14   1.27e+07   3.52e+07      0.000    4.45e+14    4.45e+14\n",
      "restecg_0   8.711e+13   1.29e+07   6.74e+06      0.000    8.71e+13    8.71e+13\n",
      "restecg_1   2.789e+14   1.29e+07   2.16e+07      0.000    2.79e+14    2.79e+14\n",
      "restecg_2    3.25e+14   2.59e+07   1.25e+07      0.000    3.25e+14    3.25e+14\n",
      "slope_0     1.293e+14   1.25e+07   1.04e+07      0.000    1.29e+14    1.29e+14\n",
      "slope_1    -5.497e+13   8.38e+06  -6.56e+06      0.000    -5.5e+13    -5.5e+13\n",
      "slope_2     6.168e+14   9.42e+06   6.55e+07      0.000    6.17e+14    6.17e+14\n",
      "ca_0       -1.633e+15   3.25e+07  -5.02e+07      0.000   -1.63e+15   -1.63e+15\n",
      "ca_1       -3.166e+15   3.35e+07  -9.45e+07      0.000   -3.17e+15   -3.17e+15\n",
      "ca_2       -3.383e+15   3.54e+07  -9.56e+07      0.000   -3.38e+15   -3.38e+15\n",
      "ca_3       -3.088e+15   3.63e+07   -8.5e+07      0.000   -3.09e+15   -3.09e+15\n",
      "thal_0     -8.871e+14   3.81e+07  -2.33e+07      0.000   -8.87e+14   -8.87e+14\n",
      "thal_1       1.14e+15   1.79e+07   6.35e+07      0.000    1.14e+15    1.14e+15\n",
      "thal_2      3.928e+14   1.34e+07   2.93e+07      0.000    3.93e+14    3.93e+14\n",
      "thal_3      4.544e+13   1.34e+07   3.38e+06      0.000    4.54e+13    4.54e+13\n",
      "age0       -1.174e+15   1.81e+07  -6.47e+07      0.000   -1.17e+15   -1.17e+15\n",
      "age1       -1.995e+14   9.82e+06  -2.03e+07      0.000   -1.99e+14   -1.99e+14\n",
      "age2         3.68e+14   8.69e+06   4.23e+07      0.000    3.68e+14    3.68e+14\n",
      "age3        4.071e+14   8.95e+06   4.55e+07      0.000    4.07e+14    4.07e+14\n",
      "age4         1.29e+15   1.57e+07   8.21e+07      0.000    1.29e+15    1.29e+15\n",
      "trest0      5.281e+14   1.16e+07   4.54e+07      0.000    5.28e+14    5.28e+14\n",
      "trest1       2.73e+14   9.41e+06    2.9e+07      0.000    2.73e+14    2.73e+14\n",
      "trest2     -9.801e+13   9.69e+06  -1.01e+07      0.000    -9.8e+13    -9.8e+13\n",
      "trest3      4.838e+14   1.49e+07   3.25e+07      0.000    4.84e+14    4.84e+14\n",
      "trest4     -4.958e+14   2.67e+07  -1.86e+07      0.000   -4.96e+14   -4.96e+14\n",
      "chol0      -5.237e+14    1.7e+07  -3.08e+07      0.000   -5.24e+14   -5.24e+14\n",
      "chol1      -6.908e+14   1.62e+07  -4.27e+07      0.000   -6.91e+14   -6.91e+14\n",
      "chol2      -1.192e+15   1.81e+07  -6.59e+07      0.000   -1.19e+15   -1.19e+15\n",
      "chol3       3.929e+14   3.17e+07   1.24e+07      0.000    3.93e+14    3.93e+14\n",
      "chol4       2.705e+15   5.74e+07   4.71e+07      0.000     2.7e+15     2.7e+15\n",
      "thalach0   -6.616e+14   2.21e+07  -2.99e+07      0.000   -6.62e+14   -6.62e+14\n",
      "thalach1    1.717e+14   1.18e+07   1.45e+07      0.000    1.72e+14    1.72e+14\n",
      "thalach2    1.412e+13   9.15e+06   1.54e+06      0.000    1.41e+13    1.41e+13\n",
      "thalach3     3.36e+14   8.61e+06    3.9e+07      0.000    3.36e+14    3.36e+14\n",
      "thalach4    8.309e+14   1.39e+07   5.99e+07      0.000    8.31e+14    8.31e+14\n",
      "old0        1.506e+15   1.51e+07   9.95e+07      0.000    1.51e+15    1.51e+15\n",
      "old1        1.069e+15   1.53e+07   6.99e+07      0.000    1.07e+15    1.07e+15\n",
      "old2         9.69e+14   1.81e+07   5.34e+07      0.000    9.69e+14    9.69e+14\n",
      "old3       -2.853e+15      4e+07  -7.13e+07      0.000   -2.85e+15   -2.85e+15\n",
      "==============================================================================\n"
     ]
    }
   ],
   "source": [
    "import statsmodels.formula.api as smf\n",
    "import statsmodels.api as sm\n",
    "mylogit = smf.glm(formula='target1 ~  sex + fbs + exang + cp_0 + cp_1 + cp_2 + cp_3 + restecg_0 + restecg_1 + restecg_2 + slope_0 + slope_1 + slope_2 + ca_0 + ca_1 + ca_2 + ca_3 + thal_0 + thal_1 + thal_2 + thal_3 + age0 + age1 + age2 + age3 + age4 + trest0 + trest1 + trest2 + trest3 + trest4 + chol0 + chol1 + chol2 + chol3 + chol4 + thalach0 + thalach1 + thalach2 + thalach3 + thalach4 + old0 + old1 + old2 + old3', data=heart_lr, family=sm.families.Binomial())\n",
    "print(mylogit.fit().summary())"
   ]
  },
  {
   "cell_type": "markdown",
   "metadata": {},
   "source": [
    "Although all the p-values are 0, we see errors in the chi squared, AIC and BIC, giving a NAN value. Therefore, we must simplify this model.\n",
    "\n",
    "In order to simplify this model, I will first look at modelling just the categorical features, then reinserting the binned features later on."
   ]
  },
  {
   "cell_type": "code",
   "execution_count": 140,
   "metadata": {},
   "outputs": [
    {
     "name": "stdout",
     "output_type": "stream",
     "text": [
      "               Results: Generalized linear model\n",
      "===============================================================\n",
      "Model:              GLM              AIC:            227.8652  \n",
      "Link Function:      logit            BIC:            -1436.5486\n",
      "Dependent Variable: target1          Log-Likelihood: -95.933   \n",
      "Date:               2020-02-13 01:36 LL-Null:        -208.82   \n",
      "No. Observations:   303              Deviance:       191.87    \n",
      "Df Model:           17               Pearson chi2:   401.      \n",
      "Df Residuals:       285              Scale:          1.0000    \n",
      "Method:             IRLS                                       \n",
      "----------------------------------------------------------------\n",
      "             Coef.   Std.Err.     z     P>|z|    [0.025   0.975]\n",
      "----------------------------------------------------------------\n",
      "Intercept    1.5295    0.9516   1.6073  0.1080  -0.3356   3.3947\n",
      "sex         -1.5518    0.5054  -3.0706  0.0021  -2.5423  -0.5613\n",
      "fbs          0.3350    0.5469   0.6125  0.5402  -0.7369   1.4068\n",
      "exang       -0.9683    0.4294  -2.2550  0.0241  -1.8100  -0.1267\n",
      "cp_0        -0.8870    0.3688  -2.4052  0.0162  -1.6098  -0.1642\n",
      "cp_1         0.1845    0.4356   0.4236  0.6718  -0.6692   1.0382\n",
      "cp_2         1.0825    0.4349   2.4890  0.0128   0.2301   1.9349\n",
      "cp_3         1.1495    0.5522   2.0817  0.0374   0.0672   2.2318\n",
      "restecg_0    0.9232    0.6357   1.4522  0.1465  -0.3228   2.1691\n",
      "restecg_1    1.4666    0.6405   2.2899  0.0220   0.2113   2.7219\n",
      "restecg_2   -0.8602    1.3283  -0.6476  0.5172  -3.4636   1.7432\n",
      "slope_0      0.1286    0.5977   0.2152  0.8296  -1.0429   1.3002\n",
      "slope_1     -0.2298    0.3860  -0.5955  0.5515  -0.9863   0.5267\n",
      "slope_2      1.6307    0.4732   3.4462  0.0006   0.7033   2.5582\n",
      "ca_0        -1.5077    1.7007  -0.8865  0.3753  -4.8411   1.8256\n",
      "ca_1        -3.6812    1.7556  -2.0969  0.0360  -7.1221  -0.2403\n",
      "ca_2        -4.9071    1.8702  -2.6238  0.0087  -8.5726  -1.2416\n",
      "ca_3        -3.9782    1.8732  -2.1237  0.0337  -7.6496  -0.3067\n",
      "thal_0      -0.9223    2.3372  -0.3946  0.6931  -5.5031   3.6584\n",
      "thal_1       1.2997    0.9172   1.4170  0.1565  -0.4980   3.0975\n",
      "thal_2       1.3958    0.7433   1.8778  0.0604  -0.0611   2.8527\n",
      "thal_3      -0.2436    0.7384  -0.3300  0.7414  -1.6908   1.2035\n",
      "===============================================================\n",
      "\n"
     ]
    }
   ],
   "source": [
    "import statsmodels.formula.api as smf\n",
    "import statsmodels.api as sm\n",
    "mylogit = smf.glm(formula='target1 ~  sex + fbs + exang + cp_0 + cp_1 + cp_2 + cp_3 + restecg_0 + restecg_1 + restecg_2 + slope_0 + slope_1 + slope_2 + ca_0 + ca_1 + ca_2 + ca_3 + thal_0 + thal_1 + thal_2 + thal_3', data=heart_lr, family=sm.families.Binomial())\n",
    "print(mylogit.fit().summary2())"
   ]
  },
  {
   "cell_type": "markdown",
   "metadata": {},
   "source": [
    "From the above table we can see that fbs, cp_1, cp_3, all of restecg, slope_0, slope_1, ca_1, ca_3 and all of thal are insignificant at alpha = 0.05. Therefore we will remove them and fit a simpler model"
   ]
  },
  {
   "cell_type": "code",
   "execution_count": 141,
   "metadata": {},
   "outputs": [],
   "source": [
    "heart_lr1 = heart_lr.copy()\n",
    "heart_lr1 = heart_lr1.drop(['fbs','cp_1','cp_3','restecg_0','restecg_2','slope_0','ca_1', 'ca_3','thal_0','thal_1','thal_2','thal_3'], axis = 1)"
   ]
  },
  {
   "cell_type": "code",
   "execution_count": 142,
   "metadata": {},
   "outputs": [
    {
     "name": "stdout",
     "output_type": "stream",
     "text": [
      "               Results: Generalized linear model\n",
      "===============================================================\n",
      "Model:              GLM              AIC:            235.4467  \n",
      "Link Function:      logit            BIC:            -1462.3908\n",
      "Dependent Variable: target1          Log-Likelihood: -108.72   \n",
      "Date:               2020-02-13 01:36 LL-Null:        -208.82   \n",
      "No. Observations:   303              Deviance:       217.45    \n",
      "Df Model:           8                Pearson chi2:   309.      \n",
      "Df Residuals:       294              Scale:          1.0000    \n",
      "Method:             IRLS                                       \n",
      "----------------------------------------------------------------\n",
      "             Coef.   Std.Err.     z     P>|z|    [0.025   0.975]\n",
      "----------------------------------------------------------------\n",
      "Intercept    0.8012    0.8225   0.9741  0.3300  -0.8109   2.4133\n",
      "sex         -1.7984    0.4118  -4.3667  0.0000  -2.6056  -0.9912\n",
      "exang       -1.1365    0.3925  -2.8958  0.0038  -1.9058  -0.3673\n",
      "cp_0        -1.7565    0.4433  -3.9623  0.0001  -2.6253  -0.8876\n",
      "cp_2         0.3375    0.4850   0.6958  0.4865  -0.6130   1.2879\n",
      "slope_1     -0.2133    0.6556  -0.3253  0.7449  -1.4982   1.0716\n",
      "slope_2      1.6717    0.6666   2.5078  0.0121   0.3652   2.9781\n",
      "ca_0         2.0973    0.4034   5.1991  0.0000   1.3067   2.8880\n",
      "ca_2        -0.9116    0.6751  -1.3503  0.1769  -2.2347   0.4116\n",
      "===============================================================\n",
      "\n"
     ]
    }
   ],
   "source": [
    "mylogit = smf.glm(formula='target1 ~  sex + exang + cp_0 + cp_2 + slope_1 + slope_2 + ca_0 + ca_2', data=heart_lr1, family=sm.families.Binomial())\n",
    "print(mylogit.fit().summary2())"
   ]
  },
  {
   "cell_type": "markdown",
   "metadata": {},
   "source": [
    "I will now remove cp_2, slope_1, ca_2 as their p values are greater than 0.05.\n",
    "\n",
    "Now that I know what categorical variables, I will iteratively reinsert other variables. To judge whether or not the model is performing better I will look at the AIC and BIC. A lower AIC and BIC mean a better model. I will do this in one step."
   ]
  },
  {
   "cell_type": "code",
   "execution_count": 143,
   "metadata": {},
   "outputs": [
    {
     "name": "stdout",
     "output_type": "stream",
     "text": [
      "               Results: Generalized linear model\n",
      "===============================================================\n",
      "Model:              GLM              AIC:            232.2301  \n",
      "Link Function:      logit            BIC:            -1476.7485\n",
      "Dependent Variable: target1          Log-Likelihood: -110.12   \n",
      "Date:               2020-02-13 01:36 LL-Null:        -208.82   \n",
      "No. Observations:   303              Deviance:       220.23    \n",
      "Df Model:           5                Pearson chi2:   317.      \n",
      "Df Residuals:       297              Scale:          1.0000    \n",
      "Method:             IRLS                                       \n",
      "----------------------------------------------------------------\n",
      "             Coef.   Std.Err.     z     P>|z|    [0.025   0.975]\n",
      "----------------------------------------------------------------\n",
      "Intercept    0.5913    0.4473   1.3219  0.1862  -0.2854   1.4680\n",
      "sex         -1.7265    0.4016  -4.2992  0.0000  -2.5136  -0.9394\n",
      "exang       -1.1018    0.3886  -2.8350  0.0046  -1.8635  -0.3401\n",
      "cp_0        -1.9848    0.3679  -5.3953  0.0000  -2.7058  -1.2638\n",
      "slope_2      1.7879    0.3643   4.9071  0.0000   1.0738   2.5020\n",
      "ca_0         2.2810    0.3691   6.1797  0.0000   1.5575   3.0044\n",
      "===============================================================\n",
      "\n"
     ]
    }
   ],
   "source": [
    "mylogit = smf.glm(formula='target1 ~  sex + exang + cp_0  + slope_2 + ca_0', data=heart_lr1, family=sm.families.Binomial())\n",
    "print(mylogit.fit().summary2())"
   ]
  },
  {
   "cell_type": "markdown",
   "metadata": {},
   "source": [
    "The model without had an AIC of ~232, whereas this new model had an AIC of 229 indicating a better model. Every other binned predictor (besides age3) was not significant to 5%. \n",
    "\n",
    "However when the model with age3 was tested, the overall model was not adequate to 5%, as the defined by: \n",
    " H0: the model fits the data well vs.\n",
    " H1: the model does not fit the data well\n",
    "\n",
    "The p-value = 0.04669, therefore the logistic model for this data can not be used to predict the probability of having heart disease given these predictors. Therefore, we will leave out 'age3'\n",
    "\n",
    "The simplest model is defined as (where hd = heart disease):\n",
    "hd = 1.0814 + -1.7265SEX - 1.1018EXANG - 1.9848CP_0 + 1.7879SLOPE_2 + 2.2810CA_0\n",
    "\n",
    "From the model we can conduct a chi-squared test to see whether the model is adequet with the same hypothesis test used before.\n",
    "We can see that the residual deviance is ~215.00 on 296 degrees of freedom.\n",
    "The p value of the chi-square test is equals 0.2032, indicating that the null hypothesis is plausible, therefore\n",
    "we can conclude that the logistic model is significantly adequate.\n",
    "\n",
    "This means that a logistic model for this data can be used to predict the probability of having heart disease given these\n",
    "predictors.\n"
   ]
  },
  {
   "cell_type": "code",
   "execution_count": 144,
   "metadata": {},
   "outputs": [],
   "source": [
    "target1 = heart_lr1['target1']\n",
    "heart_lr1 = heart_lr1.drop(['target1', 'cp_2', 'restecg_1', 'slope_1',\n",
    "        'ca_2', 'age0', 'age1', 'age2', 'age3', 'age4', 'trest0',\n",
    "       'trest1', 'trest2', 'trest3', 'trest4', 'chol0', 'chol1', 'chol2',\n",
    "       'chol3', 'chol4', 'thalach0', 'thalach1', 'thalach2', 'thalach3',\n",
    "       'thalach4', 'old0', 'old1', 'old2', 'old3'], axis = 1)\n"
   ]
  },
  {
   "cell_type": "code",
   "execution_count": 145,
   "metadata": {},
   "outputs": [
    {
     "name": "stdout",
     "output_type": "stream",
     "text": [
      "(303, 6)\n",
      "(303, 1)\n"
     ]
    }
   ],
   "source": [
    "heart_lr_sample = pd.DataFrame(heart_lr1).values\n",
    "target_lr_sample = pd.DataFrame(target1).values\n",
    "\n",
    "print(heart_lr_sample.shape)\n",
    "print(target_lr_sample.shape)"
   ]
  },
  {
   "cell_type": "code",
   "execution_count": 146,
   "metadata": {},
   "outputs": [],
   "source": [
    "X_train, X_test, y_train, y_test = train_test_split(heart_lr_sample, target_lr_sample, test_size=0.3, random_state=0)"
   ]
  },
  {
   "cell_type": "code",
   "execution_count": 147,
   "metadata": {},
   "outputs": [
    {
     "name": "stdout",
     "output_type": "stream",
     "text": [
      "Fitting 5 folds for each of 8 candidates, totalling 40 fits\n"
     ]
    },
    {
     "name": "stderr",
     "output_type": "stream",
     "text": [
      "[Parallel(n_jobs=-2)]: Using backend LokyBackend with 3 concurrent workers.\n",
      "[Parallel(n_jobs=-2)]: Done  40 out of  40 | elapsed:    0.1s finished\n"
     ]
    },
    {
     "data": {
      "text/plain": [
       "GridSearchCV(cv=StratifiedKFold(n_splits=5, random_state=999, shuffle=False),\n",
       "             error_score='raise-deprecating',\n",
       "             estimator=Pipeline(memory=None,\n",
       "                                steps=[('fselector',\n",
       "                                        SelectKBest(k=10,\n",
       "                                                    score_func=<function f_classif at 0x7f873677d7b8>)),\n",
       "                                       ('lr',\n",
       "                                        LogisticRegression(C=1.0,\n",
       "                                                           class_weight=None,\n",
       "                                                           dual=False,\n",
       "                                                           fit_intercept=True,\n",
       "                                                           intercept_scaling=1,\n",
       "                                                           l1_ratio=None,\n",
       "                                                           max_iter=100,\n",
       "                                                           multi_class='warn',\n",
       "                                                           n_jobs=None,\n",
       "                                                           penalty='l2',\n",
       "                                                           random_state=None,\n",
       "                                                           solver='warn',\n",
       "                                                           tol=0.0001,\n",
       "                                                           verbose=0,\n",
       "                                                           warm_start=False))],\n",
       "                                verbose=False),\n",
       "             iid='warn', n_jobs=-2,\n",
       "             param_grid={'fselector__k': [1, 2, 3, 6],\n",
       "                         'lr__penalty': ['l1', 'l2']},\n",
       "             pre_dispatch='2*n_jobs', refit=True, return_train_score=False,\n",
       "             scoring='roc_auc', verbose=1)"
      ]
     },
     "execution_count": 147,
     "metadata": {},
     "output_type": "execute_result"
    }
   ],
   "source": [
    "lr_simple_pipe = Pipeline([('fselector', fs.SelectKBest()), \n",
    "                     ('lr', LogisticRegression())])\n",
    "\n",
    "lr_simple_pipe_params = {'fselector__k' : [1,2,3, heart_lr1.shape[1]],\n",
    "                 'lr__penalty' : ['l1','l2']}\n",
    "\n",
    "GridSearch_lr_simple = GridSearchCV(estimator=lr_simple_pipe, \n",
    "                          param_grid=lr_simple_pipe_params, \n",
    "                          cv=cross_val_method,\n",
    "                          refit=True,\n",
    "                          n_jobs=-2,\n",
    "                          scoring='roc_auc',\n",
    "                          verbose=1) \n",
    "GridSearch_lr_simple.fit(X_train, y_train)"
   ]
  },
  {
   "cell_type": "code",
   "execution_count": 148,
   "metadata": {},
   "outputs": [
    {
     "data": {
      "text/plain": [
       "{'fselector__k': 6, 'lr__penalty': 'l2'}"
      ]
     },
     "execution_count": 148,
     "metadata": {},
     "output_type": "execute_result"
    }
   ],
   "source": [
    "GridSearch_lr_simple.best_params_"
   ]
  },
  {
   "cell_type": "code",
   "execution_count": 149,
   "metadata": {},
   "outputs": [
    {
     "data": {
      "text/plain": [
       "0.8993942313227696"
      ]
     },
     "execution_count": 149,
     "metadata": {},
     "output_type": "execute_result"
    }
   ],
   "source": [
    "GridSearch_lr_simple.best_score_"
   ]
  },
  {
   "cell_type": "markdown",
   "metadata": {},
   "source": [
    "We observe a near similar result to the full regression model in terms of AUC score. Although smaller, this model is only using 5 predictors."
   ]
  },
  {
   "cell_type": "code",
   "execution_count": 150,
   "metadata": {},
   "outputs": [
    {
     "data": {
      "text/html": [
       "<div>\n",
       "<style scoped>\n",
       "    .dataframe tbody tr th:only-of-type {\n",
       "        vertical-align: middle;\n",
       "    }\n",
       "\n",
       "    .dataframe tbody tr th {\n",
       "        vertical-align: top;\n",
       "    }\n",
       "\n",
       "    .dataframe thead th {\n",
       "        text-align: right;\n",
       "    }\n",
       "</style>\n",
       "<table border=\"1\" class=\"dataframe\">\n",
       "  <thead>\n",
       "    <tr style=\"text-align: right;\">\n",
       "      <th></th>\n",
       "      <th>mean_score</th>\n",
       "      <th>std_score</th>\n",
       "      <th>max_score</th>\n",
       "      <th>min_score</th>\n",
       "      <th>fselector__k</th>\n",
       "      <th>lr__penalty</th>\n",
       "    </tr>\n",
       "  </thead>\n",
       "  <tbody>\n",
       "    <tr>\n",
       "      <th>7</th>\n",
       "      <td>0.899285</td>\n",
       "      <td>0.0325043</td>\n",
       "      <td>0.948465</td>\n",
       "      <td>0.848684</td>\n",
       "      <td>6</td>\n",
       "      <td>l2</td>\n",
       "    </tr>\n",
       "    <tr>\n",
       "      <th>6</th>\n",
       "      <td>0.893205</td>\n",
       "      <td>0.037661</td>\n",
       "      <td>0.951754</td>\n",
       "      <td>0.835526</td>\n",
       "      <td>6</td>\n",
       "      <td>l1</td>\n",
       "    </tr>\n",
       "    <tr>\n",
       "      <th>4</th>\n",
       "      <td>0.86401</td>\n",
       "      <td>0.0346206</td>\n",
       "      <td>0.908991</td>\n",
       "      <td>0.811213</td>\n",
       "      <td>3</td>\n",
       "      <td>l1</td>\n",
       "    </tr>\n",
       "    <tr>\n",
       "      <th>5</th>\n",
       "      <td>0.858899</td>\n",
       "      <td>0.0480232</td>\n",
       "      <td>0.917763</td>\n",
       "      <td>0.776888</td>\n",
       "      <td>3</td>\n",
       "      <td>l2</td>\n",
       "    </tr>\n",
       "    <tr>\n",
       "      <th>3</th>\n",
       "      <td>0.807221</td>\n",
       "      <td>0.0646012</td>\n",
       "      <td>0.879386</td>\n",
       "      <td>0.715103</td>\n",
       "      <td>2</td>\n",
       "      <td>l2</td>\n",
       "    </tr>\n",
       "  </tbody>\n",
       "</table>\n",
       "</div>"
      ],
      "text/plain": [
       "  mean_score  std_score max_score min_score fselector__k lr__penalty\n",
       "7   0.899285  0.0325043  0.948465  0.848684            6          l2\n",
       "6   0.893205   0.037661  0.951754  0.835526            6          l1\n",
       "4    0.86401  0.0346206  0.908991  0.811213            3          l1\n",
       "5   0.858899  0.0480232  0.917763  0.776888            3          l2\n",
       "3   0.807221  0.0646012  0.879386  0.715103            2          l2"
      ]
     },
     "execution_count": 150,
     "metadata": {},
     "output_type": "execute_result"
    }
   ],
   "source": [
    "results_s_lr = get_search_results(GridSearch_lr_simple)\n",
    "results_s_lr.head()"
   ]
  },
  {
   "cell_type": "markdown",
   "metadata": {},
   "source": [
    "From the table we can observe that the best model was a based on all 5 features and a penalty of l2. The max score of the top model was ~0.95, which is, considering the previous models high feature count, is quite remarkable.\n",
    "\n",
    "Below is a visualisation of the score vs the number of features."
   ]
  },
  {
   "cell_type": "code",
   "execution_count": 151,
   "metadata": {},
   "outputs": [
    {
     "data": {
      "text/html": [
       "\n",
       "<div id=\"altair-viz-1fc0044bd9534ee78a98915a4ecba327\"></div>\n",
       "<script type=\"text/javascript\">\n",
       "  (function(spec, embedOpt){\n",
       "    const outputDiv = document.getElementById(\"altair-viz-1fc0044bd9534ee78a98915a4ecba327\");\n",
       "    const paths = {\n",
       "      \"vega\": \"https://cdn.jsdelivr.net/npm//vega@5?noext\",\n",
       "      \"vega-lib\": \"https://cdn.jsdelivr.net/npm//vega-lib?noext\",\n",
       "      \"vega-lite\": \"https://cdn.jsdelivr.net/npm//vega-lite@4.0.2?noext\",\n",
       "      \"vega-embed\": \"https://cdn.jsdelivr.net/npm//vega-embed@6?noext\",\n",
       "    };\n",
       "\n",
       "    function loadScript(lib) {\n",
       "      return new Promise(function(resolve, reject) {\n",
       "        var s = document.createElement('script');\n",
       "        s.src = paths[lib];\n",
       "        s.async = true;\n",
       "        s.onload = () => resolve(paths[lib]);\n",
       "        s.onerror = () => reject(`Error loading script: ${paths[lib]}`);\n",
       "        document.getElementsByTagName(\"head\")[0].appendChild(s);\n",
       "      });\n",
       "    }\n",
       "\n",
       "    function showError(err) {\n",
       "      outputDiv.innerHTML = `<div class=\"error\" style=\"color:red;\">${err}</div>`;\n",
       "      throw err;\n",
       "    }\n",
       "\n",
       "    function displayChart(vegaEmbed) {\n",
       "      vegaEmbed(outputDiv, spec, embedOpt)\n",
       "        .catch(err => showError(`Javascript Error: ${err.message}<br>This usually means there's a typo in your chart specification. See the javascript console for the full traceback.`));\n",
       "    }\n",
       "\n",
       "    if(typeof define === \"function\" && define.amd) {\n",
       "      requirejs.config({paths});\n",
       "      require([\"vega-embed\"], displayChart, err => showError(`Error loading script: ${err.message}`));\n",
       "    } else if (typeof vegaEmbed === \"function\") {\n",
       "      displayChart(vegaEmbed);\n",
       "    } else {\n",
       "      loadScript(\"vega\")\n",
       "        .then(() => loadScript(\"vega-lite\"))\n",
       "        .then(() => loadScript(\"vega-embed\"))\n",
       "        .catch(showError)\n",
       "        .then(() => displayChart(vegaEmbed));\n",
       "    }\n",
       "  })({\"config\": {\"view\": {\"continuousWidth\": 400, \"continuousHeight\": 300}}, \"data\": {\"name\": \"data-9e962c4f0490b19e99333a584daa39a3\"}, \"mark\": {\"type\": \"line\", \"point\": true}, \"encoding\": {\"color\": {\"type\": \"nominal\", \"field\": \"lr__penalty\"}, \"x\": {\"type\": \"quantitative\", \"field\": \"fselector__k\", \"title\": \"Number of Features\"}, \"y\": {\"type\": \"quantitative\", \"field\": \"mean_score\", \"scale\": {\"zero\": false}, \"title\": \"AUC Score\"}}, \"height\": 100, \"title\": \"Logistic Regression Performance\", \"width\": 150, \"$schema\": \"https://vega.github.io/schema/vega-lite/v4.0.2.json\", \"datasets\": {\"data-9e962c4f0490b19e99333a584daa39a3\": [{\"mean_score\": 0.8992848970251718, \"std_score\": 0.03250428236355357, \"max_score\": 0.9484649122807018, \"min_score\": 0.8486842105263159, \"fselector__k\": 6, \"lr__penalty\": \"l2\"}, {\"mean_score\": 0.8932049326214087, \"std_score\": 0.03766103809087761, \"max_score\": 0.9517543859649122, \"min_score\": 0.8355263157894737, \"fselector__k\": 6, \"lr__penalty\": \"l1\"}, {\"mean_score\": 0.8640096618357488, \"std_score\": 0.03462059411012733, \"max_score\": 0.9089912280701755, \"min_score\": 0.811212814645309, \"fselector__k\": 3, \"lr__penalty\": \"l1\"}, {\"mean_score\": 0.8588990592423087, \"std_score\": 0.048023187404553434, \"max_score\": 0.917763157894737, \"min_score\": 0.776887871853547, \"fselector__k\": 3, \"lr__penalty\": \"l2\"}, {\"mean_score\": 0.8072209509280448, \"std_score\": 0.06460124425069022, \"max_score\": 0.8793859649122808, \"min_score\": 0.7151029748283753, \"fselector__k\": 2, \"lr__penalty\": \"l2\"}, {\"mean_score\": 0.8057716755657258, \"std_score\": 0.06305957247255906, \"max_score\": 0.8793859649122808, \"min_score\": 0.7151029748283753, \"fselector__k\": 2, \"lr__penalty\": \"l1\"}, {\"mean_score\": 0.7222762522247649, \"std_score\": 0.0814286334241763, \"max_score\": 0.8454106280193238, \"min_score\": 0.620137299771167, \"fselector__k\": 1, \"lr__penalty\": \"l1\"}, {\"mean_score\": 0.7222762522247649, \"std_score\": 0.0814286334241763, \"max_score\": 0.8454106280193238, \"min_score\": 0.620137299771167, \"fselector__k\": 1, \"lr__penalty\": \"l2\"}]}}, {\"mode\": \"vega-lite\"});\n",
       "</script>"
      ],
      "text/plain": [
       "alt.Chart(...)"
      ]
     },
     "execution_count": 151,
     "metadata": {},
     "output_type": "execute_result"
    }
   ],
   "source": [
    "plot_lr(results_s_lr)"
   ]
  },
  {
   "cell_type": "markdown",
   "metadata": {},
   "source": [
    "<a id='Per'></a>\n",
    "\n",
    "# Performance Comparison"
   ]
  },
  {
   "cell_type": "markdown",
   "metadata": {},
   "source": [
    "The classification models proposed have been optimised on the training data. For comparison, I will be doing a pairwise t-test in order to dicern which model performs the best. Due to the randomness of the cross validation, I will be doing a stratified 10 fold cross validation on each model to find the mean score before testing each model. The first round will consist of both Naive Bayes models and both logistic regression models. The better of the two will then be compared to KNN, DT and eachother. The tests will be as follows:\n",
    "\n",
    "The first round will consist of:\n",
    "\n",
    "* Bernoulli NB vs Gaussian NB\n",
    "* Simplified Logistic Regression vs Full Logistic Regression\n",
    "\n",
    "The winner of those tests will then be compared to KNN and DT. For these tests, assume the winners of the first round are B and C.\n",
    "\n",
    "* KNN vs B\n",
    "* KNN vs C\n",
    "* C vs B\n",
    "* KNN vs DT\n",
    "* DT vs C\n",
    "* DT vs B\n"
   ]
  },
  {
   "cell_type": "code",
   "execution_count": 152,
   "metadata": {},
   "outputs": [],
   "source": [
    "from sklearn.model_selection import cross_val_score\n",
    "\n",
    "ttest_cv = StratifiedKFold(n_splits=10, random_state=1)\n"
   ]
  },
  {
   "cell_type": "code",
   "execution_count": 153,
   "metadata": {},
   "outputs": [
    {
     "data": {
      "text/plain": [
       "0.945"
      ]
     },
     "execution_count": 153,
     "metadata": {},
     "output_type": "execute_result"
    }
   ],
   "source": [
    "results_b_NB_cv = cross_val_score(estimator=gs_b_NB.best_estimator_,\n",
    "                                 X=heart_test,\n",
    "                                 y=target_test, \n",
    "                                 cv=ttest_cv, \n",
    "                                 n_jobs=-2,\n",
    "                                 scoring='roc_auc')\n",
    "results_b_NB_cv.mean()"
   ]
  },
  {
   "cell_type": "code",
   "execution_count": 154,
   "metadata": {},
   "outputs": [
    {
     "data": {
      "text/plain": [
       "0.93"
      ]
     },
     "execution_count": 154,
     "metadata": {},
     "output_type": "execute_result"
    }
   ],
   "source": [
    "heart_test_transformed = PowerTransformer().fit_transform(heart_test)\n",
    "\n",
    "results_NB_cv = cross_val_score(estimator=gs_NB.best_estimator_,\n",
    "                                 X=heart_test_transformed,\n",
    "                                 y=target_test, \n",
    "                                 cv=ttest_cv, \n",
    "                                 n_jobs=-2,\n",
    "                                 scoring='roc_auc')\n",
    "results_NB_cv.mean()"
   ]
  },
  {
   "cell_type": "code",
   "execution_count": 155,
   "metadata": {},
   "outputs": [
    {
     "data": {
      "text/plain": [
       "0.9275"
      ]
     },
     "execution_count": 155,
     "metadata": {},
     "output_type": "execute_result"
    }
   ],
   "source": [
    "results_s_lr_cv = cross_val_score(estimator=GridSearch_lr_simple.best_estimator_,\n",
    "                                 X=heart_test,\n",
    "                                 y=target_test, \n",
    "                                 cv=ttest_cv, \n",
    "                                 n_jobs=-2,\n",
    "                                 scoring='roc_auc')\n",
    "results_s_lr_cv.mean()"
   ]
  },
  {
   "cell_type": "code",
   "execution_count": 156,
   "metadata": {},
   "outputs": [
    {
     "data": {
      "text/plain": [
       "0.9550000000000001"
      ]
     },
     "execution_count": 156,
     "metadata": {},
     "output_type": "execute_result"
    }
   ],
   "source": [
    "results_LR_cv = cross_val_score(estimator=GridSearch_lr.best_estimator_,\n",
    "                                 X=heart_test,\n",
    "                                 y=target_test, \n",
    "                                 cv=ttest_cv, \n",
    "                                 n_jobs=-2,\n",
    "                                 scoring='roc_auc')\n",
    "results_LR_cv.mean()"
   ]
  },
  {
   "cell_type": "code",
   "execution_count": 157,
   "metadata": {},
   "outputs": [
    {
     "data": {
      "text/plain": [
       "0.8325000000000001"
      ]
     },
     "execution_count": 157,
     "metadata": {},
     "output_type": "execute_result"
    }
   ],
   "source": [
    "results_DT_cv = cross_val_score(estimator=GridSearch_DT.best_estimator_,\n",
    "                                 X=heart_test,\n",
    "                                 y=target_test, \n",
    "                                 cv=ttest_cv, \n",
    "                                 n_jobs=-2,\n",
    "                                 scoring='roc_auc')\n",
    "results_DT_cv.mean()"
   ]
  },
  {
   "cell_type": "code",
   "execution_count": 158,
   "metadata": {},
   "outputs": [
    {
     "data": {
      "text/plain": [
       "0.924"
      ]
     },
     "execution_count": 158,
     "metadata": {},
     "output_type": "execute_result"
    }
   ],
   "source": [
    "results_KNN_cv = cross_val_score(estimator=GridSearch_KNN.best_estimator_,\n",
    "                                 X=heart_test,\n",
    "                                 y=target_test, \n",
    "                                 cv=ttest_cv, \n",
    "                                 n_jobs=-2,\n",
    "                                 scoring='roc_auc')\n",
    "results_KNN_cv.mean()"
   ]
  },
  {
   "cell_type": "markdown",
   "metadata": {},
   "source": [
    "Since the random state is constant, each of the test sets are fixed, therefore we can run paired t-tests accurately. I will run these paired t-tests to determine the best model according to their AUC score."
   ]
  },
  {
   "cell_type": "code",
   "execution_count": 159,
   "metadata": {},
   "outputs": [
    {
     "name": "stdout",
     "output_type": "stream",
     "text": [
      "t-test for Bernoulli NB vs Gaussian NB: \n",
      "Ttest_relResult(statistic=1.152331919396063, pvalue=0.2788729992489175)\n",
      "\n",
      "t-test for simple logistic regression vs full logistic regression: \n",
      "Ttest_relResult(statistic=1.6317449822326902, pvalue=0.13716899746360456)\n"
     ]
    }
   ],
   "source": [
    "from scipy import stats\n",
    "# round 1\n",
    "print(\"t-test for Bernoulli NB vs Gaussian NB: \\n\" + str(stats.ttest_rel(results_b_NB_cv, results_NB_cv)) + \"\\n\")\n",
    "print(\"t-test for simple logistic regression vs full logistic regression: \\n\" + str(stats.ttest_rel(results_LR_cv, results_s_lr_cv)))"
   ]
  },
  {
   "cell_type": "markdown",
   "metadata": {},
   "source": [
    "The Naive Bayes Models were not significantly different from one another as indicted by their p values being above 0.05. The Simple Logistic Regression model and the Full Logistic Regression Model however, are significantly different at 5% (p < 0.05). Therefore I will continue with the Full Logistic Regression Model. Either Naive Bayes model would be fine to continue with as they are not significantly different so I will continue with the Bernoulli Naive Bayes model."
   ]
  },
  {
   "cell_type": "code",
   "execution_count": 160,
   "metadata": {},
   "outputs": [
    {
     "name": "stdout",
     "output_type": "stream",
     "text": [
      "KNN vs DT: \n",
      "Ttest_relResult(statistic=4.32659176613511, pvalue=0.001914621000135942)\n",
      "\n",
      "KNN vs Logistic Regression: \n",
      "Ttest_relResult(statistic=-1.6070351454755647, pvalue=0.1425086849669964)\n",
      "\n",
      "Logistic Regression vs Bernoulli Naive Bayes: \n",
      "Ttest_relResult(statistic=0.801783725737274, pvalue=0.4433318501696598)\n",
      "\n",
      "KNN vs Bernoulli NB: \n",
      "Ttest_relResult(statistic=-1.0854005666235458, pvalue=0.3059603186621216)\n",
      "\n",
      "DT vs Logistic Regression: \n",
      "Ttest_relResult(statistic=-4.0630064472474485, pvalue=0.0028291585065381023)\n",
      "\n",
      "DT vs Bernoulli NB: \n",
      "Ttest_relResult(statistic=-4.258442010666455, pvalue=0.0021159958975452598)\n",
      "\n"
     ]
    }
   ],
   "source": [
    "# round 2:\n",
    "print(\"KNN vs DT: \\n\" + str(stats.ttest_rel(results_KNN_cv, results_DT_cv)) + \"\\n\")\n",
    "print(\"KNN vs Logistic Regression: \\n\" +str(stats.ttest_rel(results_KNN_cv, results_LR_cv))+ \"\\n\")\n",
    "print(\"Logistic Regression vs Bernoulli Naive Bayes: \\n\" +str(stats.ttest_rel(results_LR_cv, results_b_NB_cv))+ \"\\n\")\n",
    "print(\"KNN vs Bernoulli NB: \\n\" +str(stats.ttest_rel(results_KNN_cv, results_b_NB_cv))+ \"\\n\")\n",
    "print(\"DT vs Logistic Regression: \\n\" +str(stats.ttest_rel(results_DT_cv, results_LR_cv))+ \"\\n\")\n",
    "print(\"DT vs Bernoulli NB: \\n\" +str(stats.ttest_rel(results_DT_cv, results_b_NB_cv))+ \"\\n\")"
   ]
  },
  {
   "cell_type": "markdown",
   "metadata": {},
   "source": [
    "Most of these models differ to 5% significance, with the exception of KNN vs Bernoulli NB, Logistic Regression vs KNN and Logistic Regression vs Bernoulli NB. Since the Logistic Regression model is significantly different to both these models at 10% as p < 0.1, We can conclude with 90% accuracy that the Full Logistic Regression Model is statistically the best model when compared to the test data and in terms of AUC score.\n",
    "\n",
    "Since this method used the AUC to optimize hyperparameters, we will also take into consideration other factors to dicern the best model. To do this, I will be using sklearns classification report to look at:\n",
    "\n",
    "* Accuracy\n",
    "* Precision\n",
    "* Recall\n",
    "* F1 Score\n",
    "\n",
    "I will also be looking at each models confusion matrix\n",
    "\n",
    "To do this I will use the predict function from every grid search in order to obtain the results"
   ]
  },
  {
   "cell_type": "code",
   "execution_count": 161,
   "metadata": {},
   "outputs": [],
   "source": [
    "# KNN \n",
    "KNN_pred = GridSearch_KNN.predict(heart_test)"
   ]
  },
  {
   "cell_type": "code",
   "execution_count": 162,
   "metadata": {},
   "outputs": [],
   "source": [
    "# Gaussian NB\n",
    "G_NB_pred = gs_NB.predict(heart_test_transformed)"
   ]
  },
  {
   "cell_type": "code",
   "execution_count": 163,
   "metadata": {},
   "outputs": [],
   "source": [
    "# Bernoulli NB\n",
    "B_NB_pred = gs_b_NB.predict(heart_B_test)"
   ]
  },
  {
   "cell_type": "code",
   "execution_count": 164,
   "metadata": {},
   "outputs": [],
   "source": [
    "# DT\n",
    "pred_DT = GridSearch_DT.predict(heart_test)"
   ]
  },
  {
   "cell_type": "code",
   "execution_count": 165,
   "metadata": {},
   "outputs": [],
   "source": [
    "# Simple Logistic Regression\n",
    "pred_S_LR = GridSearch_lr_simple.predict(X_test)"
   ]
  },
  {
   "cell_type": "code",
   "execution_count": 166,
   "metadata": {},
   "outputs": [],
   "source": [
    "# Full Logistic Regression\n",
    "pred_FullLR = GridSearch_lr.predict(heart_test)"
   ]
  },
  {
   "cell_type": "code",
   "execution_count": 167,
   "metadata": {},
   "outputs": [
    {
     "name": "stdout",
     "output_type": "stream",
     "text": [
      "\n",
      "Classification report for K-Nearest Neighbor\n",
      "              precision    recall  f1-score   support\n",
      "\n",
      "           0       0.89      0.78      0.83        41\n",
      "           1       0.84      0.92      0.88        50\n",
      "\n",
      "    accuracy                           0.86        91\n",
      "   macro avg       0.86      0.85      0.85        91\n",
      "weighted avg       0.86      0.86      0.86        91\n",
      "\n",
      "\n",
      "Classification report for Gaussian Naive Bayes\n",
      "              precision    recall  f1-score   support\n",
      "\n",
      "           0       0.91      0.73      0.81        41\n",
      "           1       0.81      0.94      0.87        50\n",
      "\n",
      "    accuracy                           0.85        91\n",
      "   macro avg       0.86      0.84      0.84        91\n",
      "weighted avg       0.85      0.85      0.84        91\n",
      "\n",
      "\n",
      "Classification report for Decision Tree\n",
      "              precision    recall  f1-score   support\n",
      "\n",
      "           0       0.64      0.73      0.68        41\n",
      "           1       0.75      0.66      0.70        50\n",
      "\n",
      "    accuracy                           0.69        91\n",
      "   macro avg       0.69      0.70      0.69        91\n",
      "weighted avg       0.70      0.69      0.69        91\n",
      "\n",
      "\n",
      "Classification report for Simple Logistic Regression\n",
      "              precision    recall  f1-score   support\n",
      "\n",
      "           0       0.83      0.77      0.80        44\n",
      "           1       0.80      0.85      0.82        47\n",
      "\n",
      "    accuracy                           0.81        91\n",
      "   macro avg       0.81      0.81      0.81        91\n",
      "weighted avg       0.81      0.81      0.81        91\n",
      "\n",
      "\n",
      "Classification report for Full Logistic Regression\n",
      "              precision    recall  f1-score   support\n",
      "\n",
      "           0       0.85      0.83      0.84        41\n",
      "           1       0.86      0.88      0.87        50\n",
      "\n",
      "    accuracy                           0.86        91\n",
      "   macro avg       0.86      0.85      0.86        91\n",
      "weighted avg       0.86      0.86      0.86        91\n",
      "\n",
      "\n",
      "Classification report for Bernoulli NB\n",
      "              precision    recall  f1-score   support\n",
      "\n",
      "           0       0.88      0.88      0.88        41\n",
      "           1       0.90      0.90      0.90        50\n",
      "\n",
      "    accuracy                           0.89        91\n",
      "   macro avg       0.89      0.89      0.89        91\n",
      "weighted avg       0.89      0.89      0.89        91\n",
      "\n"
     ]
    }
   ],
   "source": [
    "from sklearn import metrics\n",
    "print(\"\\nClassification report for K-Nearest Neighbor\") \n",
    "print(metrics.classification_report(target_test, KNN_pred))\n",
    "print(\"\\nClassification report for Gaussian Naive Bayes\") \n",
    "print(metrics.classification_report(target_test, G_NB_pred))\n",
    "print(\"\\nClassification report for Decision Tree\") \n",
    "print(metrics.classification_report(target_test, pred_DT))\n",
    "print(\"\\nClassification report for Simple Logistic Regression\") \n",
    "print(metrics.classification_report(y_test, pred_S_LR))\n",
    "print(\"\\nClassification report for Full Logistic Regression\") \n",
    "print(metrics.classification_report(target_test, pred_FullLR))\n",
    "print(\"\\nClassification report for Bernoulli NB\") \n",
    "print(metrics.classification_report(target_test, B_NB_pred))"
   ]
  },
  {
   "cell_type": "code",
   "execution_count": 168,
   "metadata": {},
   "outputs": [
    {
     "name": "stdout",
     "output_type": "stream",
     "text": [
      "\n",
      "Confusion Matrix report for K-Nearest Neighbor\n",
      "[[32  9]\n",
      " [ 4 46]]\n",
      "\n",
      "Confusion Matrix for Gaussian Naive Bayes\n",
      "[[30 11]\n",
      " [ 3 47]]\n",
      "\n",
      "Confusion Matrix for Decision Tree\n",
      "[[30 11]\n",
      " [17 33]]\n",
      "\n",
      "Confusion Matrix for Simple Logistic Regression\n",
      "[[34 10]\n",
      " [ 7 40]]\n",
      "\n",
      "Confusion Matrix for Full Logistic Regression\n",
      "[[34  7]\n",
      " [ 6 44]]\n",
      "\n",
      "Confusion Matrix for Bernoulli NB\n",
      "[[36  5]\n",
      " [ 5 45]]\n"
     ]
    }
   ],
   "source": [
    "from sklearn import metrics\n",
    "print(\"\\nConfusion Matrix report for K-Nearest Neighbor\") \n",
    "print(metrics.confusion_matrix(target_test, KNN_pred))\n",
    "print(\"\\nConfusion Matrix for Gaussian Naive Bayes\") \n",
    "print(metrics.confusion_matrix(target_test, G_NB_pred))\n",
    "print(\"\\nConfusion Matrix for Decision Tree\") \n",
    "print(metrics.confusion_matrix(target_test, pred_DT))\n",
    "print(\"\\nConfusion Matrix for Simple Logistic Regression\") \n",
    "print(metrics.confusion_matrix(y_test, pred_S_LR))\n",
    "print(\"\\nConfusion Matrix for Full Logistic Regression\") \n",
    "print(metrics.confusion_matrix(target_test, pred_FullLR))\n",
    "print(\"\\nConfusion Matrix for Bernoulli NB\") \n",
    "print(metrics.confusion_matrix(target_test, B_NB_pred))"
   ]
  },
  {
   "cell_type": "markdown",
   "metadata": {},
   "source": [
    "From the classification reports, we can see that the classifier with the highest recall score was the Gaussian Naive Bayes and the K-Nearest Neighbour Classifier. We choose the recall score as we want to predict if someone has heart disease, which the recall score tells us. The confusion matrices also confirm these recall scores. This contrasts to the t-tests conducted on the AUC score, where the full logistic regression model was deemed to be the best model."
   ]
  },
  {
   "cell_type": "markdown",
   "metadata": {},
   "source": [
    "<a id='Limit'></a>\n",
    "\n",
    "# Critiques, Limitations and Proposed Solutions"
   ]
  },
  {
   "cell_type": "markdown",
   "metadata": {},
   "source": [
    "The modelling strategy implemented had a number of limitations. One of the limitations was the input - output approach taken in this report, as we were looking to find the best classifier based on raw predictive power. The main limitation based on this approach was the lack of in depth in the hyperparameter tuning. One example was the Bernoulli NB, where only the number of features was tested upon. In future machine learning tasks, further analysis on hyperparameter tunings should be taken into consideration.\n",
    "\n",
    "The next critique would be the feature selection method. Although the F-score feature selection technique is powerful, it does not take into account mutual information. (Chen Y. W, & Lin C. J., 2003)<cite data-cite ='Fscore'>(Yi-Wei Chen & Chih-Jen Lin, 2019)</cite>, combines this feature technique with both a Support Vector Machine (SVM) and a Random Forest Feature selector to get further information on these features. This allows for a more in depth feature selection method, taking many aspects into account.\n",
    "\n",
    "The feature selection method also gives us next limitation; the number of features needed to predict heart disease. All of these models have 20 or more features, with the exception of the simple Logistic Regression Model. This may produce overfitting, and therefore incorrectly classifying future patients.\n",
    "\n",
    "The next limitation of this project is the number of observations. Since this dataset is based on the Cleveland data, it does not take into account the other data bases in the same UCI directory <cite data-cite = \"heart-disease\">(Created by Robert Detrano, Donated by David W Aha, 1989)</cite>, such as the Hungarian and Swiss datasets. These extra observations could give further insight into the predicting heart disease on a more generalised basis.\n",
    "\n",
    "The full Logistic Regression Model statistically outperforms all the other models at significance level of 10%. The hyperparameter space for this model was quite simple, further analysis considering other Logistic Regression parameters in the future would help in further tuning this model."
   ]
  },
  {
   "cell_type": "markdown",
   "metadata": {},
   "source": [
    "<a id='Summary'></a>\n",
    "\n",
    "# Summary"
   ]
  },
  {
   "cell_type": "markdown",
   "metadata": {},
   "source": [
    "The Bernoulli NB Model with 21 predictors, selected by their F-score, produces the highest cross-validated AUC score on the training data. However, the Logistic Regression Model with 20 of the best features as selected by their F-score, statistically outperformed every other model at 10% significance on the test data. The Gaussian Naive Bayes Model and the K-Nearest Neighbour Model had the highest recall score ont the test data with of a score of 0.92. We observe that most of these models best parameters contained 20 or more, indicating that these models may be sensitive to the number of features and in turn may produce overfitting. "
   ]
  }
 ],
 "metadata": {
  "kernelspec": {
   "display_name": "Python 3",
   "language": "python",
   "name": "python3"
  },
  "language_info": {
   "codemirror_mode": {
    "name": "ipython",
    "version": 3
   },
   "file_extension": ".py",
   "mimetype": "text/x-python",
   "name": "python",
   "nbconvert_exporter": "python",
   "pygments_lexer": "ipython3",
   "version": "3.6.6"
  }
 },
 "nbformat": 4,
 "nbformat_minor": 1
}
