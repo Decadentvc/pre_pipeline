{
 "cells": [
  {
   "cell_type": "code",
   "execution_count": 1,
   "metadata": {
    "_cell_guid": "b1076dfc-b9ad-4769-8c92-a6c4dae69d19",
    "_uuid": "8f2839f25d086af736a60e9eeb907d3b93b6e0e5"
   },
   "outputs": [
    {
     "name": "stdout",
     "output_type": "stream",
     "text": [
      "/kaggle/input/xAPI-Edu-Data/xAPI-Edu-Data.csv\n"
     ]
    }
   ],
   "source": [
    "# This Python 3 environment comes with many helpful analytics libraries installed\n",
    "# It is defined by the kaggle/python docker image: https://github.com/kaggle/docker-python\n",
    "# For example, here's several helpful packages to load in \n",
    "\n",
    "import numpy as np # linear algebra\n",
    "import pandas as pd # data processing, CSV file I/O (e.g. pd.read_csv)\n",
    "\n",
    "# Input data files are available in the \"../input/\" directory.\n",
    "# For example, running this (by clicking run or pressing Shift+Enter) will list all files under the input directory\n",
    "\n",
    "import os\n",
    "for dirname, _, filenames in os.walk('/kaggle/input'):\n",
    "    for filename in filenames:\n",
    "        print(os.path.join(dirname, filename))\n",
    "\n",
    "# Any results you write to the current directory are saved as output."
   ]
  },
  {
   "cell_type": "markdown",
   "metadata": {},
   "source": [
    "# 一、数据载入"
   ]
  },
  {
   "cell_type": "code",
   "execution_count": 2,
   "metadata": {
    "_cell_guid": "79c7e3d0-c299-4dcb-8224-4455121ee9b0",
    "_uuid": "d629ff2d2480ee46fbb7e2d37f6b5fab8052498a"
   },
   "outputs": [
    {
     "data": {
      "text/html": [
       "<div>\n",
       "<style scoped>\n",
       "    .dataframe tbody tr th:only-of-type {\n",
       "        vertical-align: middle;\n",
       "    }\n",
       "\n",
       "    .dataframe tbody tr th {\n",
       "        vertical-align: top;\n",
       "    }\n",
       "\n",
       "    .dataframe thead th {\n",
       "        text-align: right;\n",
       "    }\n",
       "</style>\n",
       "<table border=\"1\" class=\"dataframe\">\n",
       "  <thead>\n",
       "    <tr style=\"text-align: right;\">\n",
       "      <th></th>\n",
       "      <th>gender</th>\n",
       "      <th>NationalITy</th>\n",
       "      <th>PlaceofBirth</th>\n",
       "      <th>StageID</th>\n",
       "      <th>GradeID</th>\n",
       "      <th>SectionID</th>\n",
       "      <th>Topic</th>\n",
       "      <th>Semester</th>\n",
       "      <th>Relation</th>\n",
       "      <th>raisedhands</th>\n",
       "      <th>VisITedResources</th>\n",
       "      <th>AnnouncementsView</th>\n",
       "      <th>Discussion</th>\n",
       "      <th>ParentAnsweringSurvey</th>\n",
       "      <th>ParentschoolSatisfaction</th>\n",
       "      <th>StudentAbsenceDays</th>\n",
       "      <th>Class</th>\n",
       "    </tr>\n",
       "  </thead>\n",
       "  <tbody>\n",
       "    <tr>\n",
       "      <th>0</th>\n",
       "      <td>M</td>\n",
       "      <td>KW</td>\n",
       "      <td>KuwaIT</td>\n",
       "      <td>lowerlevel</td>\n",
       "      <td>G-04</td>\n",
       "      <td>A</td>\n",
       "      <td>IT</td>\n",
       "      <td>F</td>\n",
       "      <td>Father</td>\n",
       "      <td>15</td>\n",
       "      <td>16</td>\n",
       "      <td>2</td>\n",
       "      <td>20</td>\n",
       "      <td>Yes</td>\n",
       "      <td>Good</td>\n",
       "      <td>Under-7</td>\n",
       "      <td>M</td>\n",
       "    </tr>\n",
       "    <tr>\n",
       "      <th>1</th>\n",
       "      <td>M</td>\n",
       "      <td>KW</td>\n",
       "      <td>KuwaIT</td>\n",
       "      <td>lowerlevel</td>\n",
       "      <td>G-04</td>\n",
       "      <td>A</td>\n",
       "      <td>IT</td>\n",
       "      <td>F</td>\n",
       "      <td>Father</td>\n",
       "      <td>20</td>\n",
       "      <td>20</td>\n",
       "      <td>3</td>\n",
       "      <td>25</td>\n",
       "      <td>Yes</td>\n",
       "      <td>Good</td>\n",
       "      <td>Under-7</td>\n",
       "      <td>M</td>\n",
       "    </tr>\n",
       "    <tr>\n",
       "      <th>2</th>\n",
       "      <td>M</td>\n",
       "      <td>KW</td>\n",
       "      <td>KuwaIT</td>\n",
       "      <td>lowerlevel</td>\n",
       "      <td>G-04</td>\n",
       "      <td>A</td>\n",
       "      <td>IT</td>\n",
       "      <td>F</td>\n",
       "      <td>Father</td>\n",
       "      <td>10</td>\n",
       "      <td>7</td>\n",
       "      <td>0</td>\n",
       "      <td>30</td>\n",
       "      <td>No</td>\n",
       "      <td>Bad</td>\n",
       "      <td>Above-7</td>\n",
       "      <td>L</td>\n",
       "    </tr>\n",
       "    <tr>\n",
       "      <th>3</th>\n",
       "      <td>M</td>\n",
       "      <td>KW</td>\n",
       "      <td>KuwaIT</td>\n",
       "      <td>lowerlevel</td>\n",
       "      <td>G-04</td>\n",
       "      <td>A</td>\n",
       "      <td>IT</td>\n",
       "      <td>F</td>\n",
       "      <td>Father</td>\n",
       "      <td>30</td>\n",
       "      <td>25</td>\n",
       "      <td>5</td>\n",
       "      <td>35</td>\n",
       "      <td>No</td>\n",
       "      <td>Bad</td>\n",
       "      <td>Above-7</td>\n",
       "      <td>L</td>\n",
       "    </tr>\n",
       "    <tr>\n",
       "      <th>4</th>\n",
       "      <td>M</td>\n",
       "      <td>KW</td>\n",
       "      <td>KuwaIT</td>\n",
       "      <td>lowerlevel</td>\n",
       "      <td>G-04</td>\n",
       "      <td>A</td>\n",
       "      <td>IT</td>\n",
       "      <td>F</td>\n",
       "      <td>Father</td>\n",
       "      <td>40</td>\n",
       "      <td>50</td>\n",
       "      <td>12</td>\n",
       "      <td>50</td>\n",
       "      <td>No</td>\n",
       "      <td>Bad</td>\n",
       "      <td>Above-7</td>\n",
       "      <td>M</td>\n",
       "    </tr>\n",
       "  </tbody>\n",
       "</table>\n",
       "</div>"
      ],
      "text/plain": [
       "  gender NationalITy PlaceofBirth     StageID GradeID SectionID Topic  \\\n",
       "0      M          KW       KuwaIT  lowerlevel    G-04         A    IT   \n",
       "1      M          KW       KuwaIT  lowerlevel    G-04         A    IT   \n",
       "2      M          KW       KuwaIT  lowerlevel    G-04         A    IT   \n",
       "3      M          KW       KuwaIT  lowerlevel    G-04         A    IT   \n",
       "4      M          KW       KuwaIT  lowerlevel    G-04         A    IT   \n",
       "\n",
       "  Semester Relation  raisedhands  VisITedResources  AnnouncementsView  \\\n",
       "0        F   Father           15                16                  2   \n",
       "1        F   Father           20                20                  3   \n",
       "2        F   Father           10                 7                  0   \n",
       "3        F   Father           30                25                  5   \n",
       "4        F   Father           40                50                 12   \n",
       "\n",
       "   Discussion ParentAnsweringSurvey ParentschoolSatisfaction  \\\n",
       "0          20                   Yes                     Good   \n",
       "1          25                   Yes                     Good   \n",
       "2          30                    No                      Bad   \n",
       "3          35                    No                      Bad   \n",
       "4          50                    No                      Bad   \n",
       "\n",
       "  StudentAbsenceDays Class  \n",
       "0            Under-7     M  \n",
       "1            Under-7     M  \n",
       "2            Above-7     L  \n",
       "3            Above-7     L  \n",
       "4            Above-7     M  "
      ]
     },
     "execution_count": 2,
     "metadata": {},
     "output_type": "execute_result"
    }
   ],
   "source": [
    "import pandas as pd \n",
    "\n",
    "edu_df = pd.read_csv('/kaggle/input/xAPI-Edu-Data/xAPI-Edu-Data.csv')\n",
    "edu_df.head()"
   ]
  },
  {
   "cell_type": "code",
   "execution_count": 3,
   "metadata": {},
   "outputs": [
    {
     "data": {
      "text/plain": [
       "Index(['gender', 'NationalITy', 'PlaceofBirth', 'StageID', 'GradeID',\n",
       "       'SectionID', 'Topic', 'Semester', 'Relation', 'raisedhands',\n",
       "       'VisITedResources', 'AnnouncementsView', 'Discussion',\n",
       "       'ParentAnsweringSurvey', 'ParentschoolSatisfaction',\n",
       "       'StudentAbsenceDays', 'Class'],\n",
       "      dtype='object')"
      ]
     },
     "execution_count": 3,
     "metadata": {},
     "output_type": "execute_result"
    }
   ],
   "source": [
    "edu_df.keys()"
   ]
  },
  {
   "cell_type": "markdown",
   "metadata": {},
   "source": [
    "# 二、家长参与特征（Parents Participation on learning process）初步统计与分析\n",
    "1. **家长参与特征包括**：\n",
    "    * 问卷调查参与情况(Parent Answering Survey): 家长是否参与学校的问卷调查，数据中对应key为'ParentAnsweringSurvey'\n",
    "    * 满意程度(Parent School Satisfaction): 家长对学校的满意程度，数据中对应key为'ParentschoolSatisfaction'\n",
    "2. **与家长相关的特征**：\n",
    "    * 负责学生的家长(Parent responsible for student): 数据中对应key为'Relation'\n",
    "3. **初步分析以下内容**:\n",
    "    * 问卷调查参与情况('ParentAnsweringSurvey')与以下属性的关系\n",
    "        - 学生表现(’Class‘)\n",
    "        - 学生逃课次数('StudentAbsenceDays')\n",
    "    * 满意程度('ParentschoolSatisfaction')与以下属性的关系\n",
    "        - 学生表现(’Class‘)\n",
    "        - 学生逃课次数('StudentAbsenceDays')\n",
    "    * 负责学生的家长('Relation')与以下属性的关系\n",
    "        - 学生表现(’Class‘)\n",
    "        - 学生逃课次数('StudentAbsenceDays')\n",
    "    * 三个家长相关特征间的关系"
   ]
  },
  {
   "cell_type": "markdown",
   "metadata": {},
   "source": [
    "## 1. 问卷调查特征\n",
    "\n",
    "从下方的简单统计结果可以观察到：\n",
    "1. 家长参加问卷调查与学生的表现成正相关。家长参与填写问卷，学生的成绩相对更好\n",
    "2. 家长参与问卷调查与学生出勤情况有轻微的负相关 （因为lift值略小于1）"
   ]
  },
  {
   "cell_type": "code",
   "execution_count": 4,
   "metadata": {},
   "outputs": [
    {
     "data": {
      "text/html": [
       "<div>\n",
       "<style scoped>\n",
       "    .dataframe tbody tr th:only-of-type {\n",
       "        vertical-align: middle;\n",
       "    }\n",
       "\n",
       "    .dataframe tbody tr th {\n",
       "        vertical-align: top;\n",
       "    }\n",
       "\n",
       "    .dataframe thead th {\n",
       "        text-align: right;\n",
       "    }\n",
       "</style>\n",
       "<table border=\"1\" class=\"dataframe\">\n",
       "  <thead>\n",
       "    <tr style=\"text-align: right;\">\n",
       "      <th>Class</th>\n",
       "      <th>H</th>\n",
       "      <th>L</th>\n",
       "      <th>M</th>\n",
       "    </tr>\n",
       "    <tr>\n",
       "      <th>ParentAnsweringSurvey</th>\n",
       "      <th></th>\n",
       "      <th></th>\n",
       "      <th></th>\n",
       "    </tr>\n",
       "  </thead>\n",
       "  <tbody>\n",
       "    <tr>\n",
       "      <th>No</th>\n",
       "      <td>28</td>\n",
       "      <td>99</td>\n",
       "      <td>83</td>\n",
       "    </tr>\n",
       "    <tr>\n",
       "      <th>Yes</th>\n",
       "      <td>114</td>\n",
       "      <td>28</td>\n",
       "      <td>128</td>\n",
       "    </tr>\n",
       "  </tbody>\n",
       "</table>\n",
       "</div>"
      ],
      "text/plain": [
       "Class                    H   L    M\n",
       "ParentAnsweringSurvey              \n",
       "No                      28  99   83\n",
       "Yes                    114  28  128"
      ]
     },
     "execution_count": 4,
     "metadata": {},
     "output_type": "execute_result"
    }
   ],
   "source": [
    "pd.crosstab(edu_df['ParentAnsweringSurvey'],edu_df['Class'])"
   ]
  },
  {
   "cell_type": "code",
   "execution_count": 5,
   "metadata": {},
   "outputs": [
    {
     "data": {
      "text/html": [
       "<div>\n",
       "<style scoped>\n",
       "    .dataframe tbody tr th:only-of-type {\n",
       "        vertical-align: middle;\n",
       "    }\n",
       "\n",
       "    .dataframe tbody tr th {\n",
       "        vertical-align: top;\n",
       "    }\n",
       "\n",
       "    .dataframe thead th {\n",
       "        text-align: right;\n",
       "    }\n",
       "</style>\n",
       "<table border=\"1\" class=\"dataframe\">\n",
       "  <thead>\n",
       "    <tr style=\"text-align: right;\">\n",
       "      <th>StudentAbsenceDays</th>\n",
       "      <th>Above-7</th>\n",
       "      <th>Under-7</th>\n",
       "    </tr>\n",
       "    <tr>\n",
       "      <th>ParentAnsweringSurvey</th>\n",
       "      <th></th>\n",
       "      <th></th>\n",
       "    </tr>\n",
       "  </thead>\n",
       "  <tbody>\n",
       "    <tr>\n",
       "      <th>No</th>\n",
       "      <td>114</td>\n",
       "      <td>96</td>\n",
       "    </tr>\n",
       "    <tr>\n",
       "      <th>Yes</th>\n",
       "      <td>77</td>\n",
       "      <td>193</td>\n",
       "    </tr>\n",
       "  </tbody>\n",
       "</table>\n",
       "</div>"
      ],
      "text/plain": [
       "StudentAbsenceDays     Above-7  Under-7\n",
       "ParentAnsweringSurvey                  \n",
       "No                         114       96\n",
       "Yes                         77      193"
      ]
     },
     "execution_count": 5,
     "metadata": {},
     "output_type": "execute_result"
    }
   ],
   "source": [
    "cross_table = pd.crosstab(edu_df['ParentAnsweringSurvey'],edu_df['StudentAbsenceDays'])\n",
    "cross_table"
   ]
  },
  {
   "cell_type": "code",
   "execution_count": 6,
   "metadata": {},
   "outputs": [
    {
     "name": "stdout",
     "output_type": "stream",
     "text": [
      "lift(Above-7, Yes)=0.717\n"
     ]
    }
   ],
   "source": [
    "# 计算ParentAnsweringSurvey和StudentAbsenceDays的lift值\n",
    "total = cross_table.sum().sum()\n",
    "\n",
    "lift_score = cross_table['Above-7']['Yes']/total / (cross_table['Above-7'].sum()/total * (cross_table['Above-7']['Yes']+cross_table['Under-7']['Yes']) / total)\n",
    "print('lift({})={:.3f}'.format('Above-7, Yes', lift_score))"
   ]
  },
  {
   "cell_type": "markdown",
   "metadata": {},
   "source": [
    "## 2. 满意程度特征\n",
    "\n",
    "数据反应出的相关关系与直觉相符合：\n",
    "1. 家长满意程度与表现呈明显的正相关，即学生成绩越好家长越满意\n",
    "2. 家长满意程度与学生缺勤情况呈明显的负相关，即学生缺勤越少家长越满意"
   ]
  },
  {
   "cell_type": "code",
   "execution_count": 7,
   "metadata": {},
   "outputs": [
    {
     "data": {
      "text/html": [
       "<div>\n",
       "<style scoped>\n",
       "    .dataframe tbody tr th:only-of-type {\n",
       "        vertical-align: middle;\n",
       "    }\n",
       "\n",
       "    .dataframe tbody tr th {\n",
       "        vertical-align: top;\n",
       "    }\n",
       "\n",
       "    .dataframe thead th {\n",
       "        text-align: right;\n",
       "    }\n",
       "</style>\n",
       "<table border=\"1\" class=\"dataframe\">\n",
       "  <thead>\n",
       "    <tr style=\"text-align: right;\">\n",
       "      <th>Class</th>\n",
       "      <th>H</th>\n",
       "      <th>L</th>\n",
       "      <th>M</th>\n",
       "    </tr>\n",
       "    <tr>\n",
       "      <th>ParentschoolSatisfaction</th>\n",
       "      <th></th>\n",
       "      <th></th>\n",
       "      <th></th>\n",
       "    </tr>\n",
       "  </thead>\n",
       "  <tbody>\n",
       "    <tr>\n",
       "      <th>Bad</th>\n",
       "      <td>24</td>\n",
       "      <td>84</td>\n",
       "      <td>80</td>\n",
       "    </tr>\n",
       "    <tr>\n",
       "      <th>Good</th>\n",
       "      <td>118</td>\n",
       "      <td>43</td>\n",
       "      <td>131</td>\n",
       "    </tr>\n",
       "  </tbody>\n",
       "</table>\n",
       "</div>"
      ],
      "text/plain": [
       "Class                       H   L    M\n",
       "ParentschoolSatisfaction              \n",
       "Bad                        24  84   80\n",
       "Good                      118  43  131"
      ]
     },
     "execution_count": 7,
     "metadata": {},
     "output_type": "execute_result"
    }
   ],
   "source": [
    "pd.crosstab(edu_df['ParentschoolSatisfaction'],edu_df['Class'])"
   ]
  },
  {
   "cell_type": "code",
   "execution_count": 8,
   "metadata": {},
   "outputs": [
    {
     "data": {
      "text/html": [
       "<div>\n",
       "<style scoped>\n",
       "    .dataframe tbody tr th:only-of-type {\n",
       "        vertical-align: middle;\n",
       "    }\n",
       "\n",
       "    .dataframe tbody tr th {\n",
       "        vertical-align: top;\n",
       "    }\n",
       "\n",
       "    .dataframe thead th {\n",
       "        text-align: right;\n",
       "    }\n",
       "</style>\n",
       "<table border=\"1\" class=\"dataframe\">\n",
       "  <thead>\n",
       "    <tr style=\"text-align: right;\">\n",
       "      <th>StudentAbsenceDays</th>\n",
       "      <th>Above-7</th>\n",
       "      <th>Under-7</th>\n",
       "    </tr>\n",
       "    <tr>\n",
       "      <th>ParentschoolSatisfaction</th>\n",
       "      <th></th>\n",
       "      <th></th>\n",
       "    </tr>\n",
       "  </thead>\n",
       "  <tbody>\n",
       "    <tr>\n",
       "      <th>Bad</th>\n",
       "      <td>101</td>\n",
       "      <td>87</td>\n",
       "    </tr>\n",
       "    <tr>\n",
       "      <th>Good</th>\n",
       "      <td>90</td>\n",
       "      <td>202</td>\n",
       "    </tr>\n",
       "  </tbody>\n",
       "</table>\n",
       "</div>"
      ],
      "text/plain": [
       "StudentAbsenceDays        Above-7  Under-7\n",
       "ParentschoolSatisfaction                  \n",
       "Bad                           101       87\n",
       "Good                           90      202"
      ]
     },
     "execution_count": 8,
     "metadata": {},
     "output_type": "execute_result"
    }
   ],
   "source": [
    "pd.crosstab(edu_df['ParentschoolSatisfaction'],edu_df['StudentAbsenceDays'])"
   ]
  },
  {
   "cell_type": "markdown",
   "metadata": {},
   "source": [
    "## 3. 负责家长属性\n",
    "\n",
    "从数据中可以发现：\n",
    "1. 母亲负责的学生其对应表现大多好于父亲负责的学生\n",
    "2. 母亲负责的学生对应的出勤情况大多好于父亲负责的学生**"
   ]
  },
  {
   "cell_type": "code",
   "execution_count": 9,
   "metadata": {},
   "outputs": [
    {
     "data": {
      "text/html": [
       "<div>\n",
       "<style scoped>\n",
       "    .dataframe tbody tr th:only-of-type {\n",
       "        vertical-align: middle;\n",
       "    }\n",
       "\n",
       "    .dataframe tbody tr th {\n",
       "        vertical-align: top;\n",
       "    }\n",
       "\n",
       "    .dataframe thead th {\n",
       "        text-align: right;\n",
       "    }\n",
       "</style>\n",
       "<table border=\"1\" class=\"dataframe\">\n",
       "  <thead>\n",
       "    <tr style=\"text-align: right;\">\n",
       "      <th>Class</th>\n",
       "      <th>H</th>\n",
       "      <th>L</th>\n",
       "      <th>M</th>\n",
       "    </tr>\n",
       "    <tr>\n",
       "      <th>Relation</th>\n",
       "      <th></th>\n",
       "      <th></th>\n",
       "      <th></th>\n",
       "    </tr>\n",
       "  </thead>\n",
       "  <tbody>\n",
       "    <tr>\n",
       "      <th>Father</th>\n",
       "      <td>42</td>\n",
       "      <td>104</td>\n",
       "      <td>137</td>\n",
       "    </tr>\n",
       "    <tr>\n",
       "      <th>Mum</th>\n",
       "      <td>100</td>\n",
       "      <td>23</td>\n",
       "      <td>74</td>\n",
       "    </tr>\n",
       "  </tbody>\n",
       "</table>\n",
       "</div>"
      ],
      "text/plain": [
       "Class       H    L    M\n",
       "Relation               \n",
       "Father     42  104  137\n",
       "Mum       100   23   74"
      ]
     },
     "execution_count": 9,
     "metadata": {},
     "output_type": "execute_result"
    }
   ],
   "source": [
    "pd.crosstab(edu_df['Relation'],edu_df['Class'])"
   ]
  },
  {
   "cell_type": "code",
   "execution_count": 10,
   "metadata": {},
   "outputs": [
    {
     "data": {
      "text/html": [
       "<div>\n",
       "<style scoped>\n",
       "    .dataframe tbody tr th:only-of-type {\n",
       "        vertical-align: middle;\n",
       "    }\n",
       "\n",
       "    .dataframe tbody tr th {\n",
       "        vertical-align: top;\n",
       "    }\n",
       "\n",
       "    .dataframe thead th {\n",
       "        text-align: right;\n",
       "    }\n",
       "</style>\n",
       "<table border=\"1\" class=\"dataframe\">\n",
       "  <thead>\n",
       "    <tr style=\"text-align: right;\">\n",
       "      <th>StudentAbsenceDays</th>\n",
       "      <th>Above-7</th>\n",
       "      <th>Under-7</th>\n",
       "    </tr>\n",
       "    <tr>\n",
       "      <th>Relation</th>\n",
       "      <th></th>\n",
       "      <th></th>\n",
       "    </tr>\n",
       "  </thead>\n",
       "  <tbody>\n",
       "    <tr>\n",
       "      <th>Father</th>\n",
       "      <td>138</td>\n",
       "      <td>145</td>\n",
       "    </tr>\n",
       "    <tr>\n",
       "      <th>Mum</th>\n",
       "      <td>53</td>\n",
       "      <td>144</td>\n",
       "    </tr>\n",
       "  </tbody>\n",
       "</table>\n",
       "</div>"
      ],
      "text/plain": [
       "StudentAbsenceDays  Above-7  Under-7\n",
       "Relation                            \n",
       "Father                  138      145\n",
       "Mum                      53      144"
      ]
     },
     "execution_count": 10,
     "metadata": {},
     "output_type": "execute_result"
    }
   ],
   "source": [
    "pd.crosstab(edu_df['Relation'],edu_df['StudentAbsenceDays'])"
   ]
  },
  {
   "cell_type": "markdown",
   "metadata": {},
   "source": [
    "## 4. 三个家长相关特征间的关系\n",
    "\n",
    "从数据中可以初步看到\n",
    "\n",
    "1. 参与调查问卷与满意度呈正比\n",
    "2. 父亲们在参与意见调查问题上并没有明显的倾向，而母亲们更倾向于参与意见调查\n",
    "3. 母亲们相对于父亲们对学校教育更满意（这很可能是因为母亲所负责的学生表现更好）"
   ]
  },
  {
   "cell_type": "code",
   "execution_count": 11,
   "metadata": {},
   "outputs": [
    {
     "data": {
      "text/html": [
       "<div>\n",
       "<style scoped>\n",
       "    .dataframe tbody tr th:only-of-type {\n",
       "        vertical-align: middle;\n",
       "    }\n",
       "\n",
       "    .dataframe tbody tr th {\n",
       "        vertical-align: top;\n",
       "    }\n",
       "\n",
       "    .dataframe thead th {\n",
       "        text-align: right;\n",
       "    }\n",
       "</style>\n",
       "<table border=\"1\" class=\"dataframe\">\n",
       "  <thead>\n",
       "    <tr style=\"text-align: right;\">\n",
       "      <th>ParentschoolSatisfaction</th>\n",
       "      <th>Bad</th>\n",
       "      <th>Good</th>\n",
       "    </tr>\n",
       "    <tr>\n",
       "      <th>ParentAnsweringSurvey</th>\n",
       "      <th></th>\n",
       "      <th></th>\n",
       "    </tr>\n",
       "  </thead>\n",
       "  <tbody>\n",
       "    <tr>\n",
       "      <th>No</th>\n",
       "      <td>145</td>\n",
       "      <td>65</td>\n",
       "    </tr>\n",
       "    <tr>\n",
       "      <th>Yes</th>\n",
       "      <td>43</td>\n",
       "      <td>227</td>\n",
       "    </tr>\n",
       "  </tbody>\n",
       "</table>\n",
       "</div>"
      ],
      "text/plain": [
       "ParentschoolSatisfaction  Bad  Good\n",
       "ParentAnsweringSurvey              \n",
       "No                        145    65\n",
       "Yes                        43   227"
      ]
     },
     "execution_count": 11,
     "metadata": {},
     "output_type": "execute_result"
    }
   ],
   "source": [
    "pd.crosstab(edu_df['ParentAnsweringSurvey'],edu_df['ParentschoolSatisfaction'])"
   ]
  },
  {
   "cell_type": "code",
   "execution_count": 12,
   "metadata": {},
   "outputs": [
    {
     "data": {
      "text/html": [
       "<div>\n",
       "<style scoped>\n",
       "    .dataframe tbody tr th:only-of-type {\n",
       "        vertical-align: middle;\n",
       "    }\n",
       "\n",
       "    .dataframe tbody tr th {\n",
       "        vertical-align: top;\n",
       "    }\n",
       "\n",
       "    .dataframe thead th {\n",
       "        text-align: right;\n",
       "    }\n",
       "</style>\n",
       "<table border=\"1\" class=\"dataframe\">\n",
       "  <thead>\n",
       "    <tr style=\"text-align: right;\">\n",
       "      <th>ParentAnsweringSurvey</th>\n",
       "      <th>No</th>\n",
       "      <th>Yes</th>\n",
       "    </tr>\n",
       "    <tr>\n",
       "      <th>Relation</th>\n",
       "      <th></th>\n",
       "      <th></th>\n",
       "    </tr>\n",
       "  </thead>\n",
       "  <tbody>\n",
       "    <tr>\n",
       "      <th>Father</th>\n",
       "      <td>143</td>\n",
       "      <td>140</td>\n",
       "    </tr>\n",
       "    <tr>\n",
       "      <th>Mum</th>\n",
       "      <td>67</td>\n",
       "      <td>130</td>\n",
       "    </tr>\n",
       "  </tbody>\n",
       "</table>\n",
       "</div>"
      ],
      "text/plain": [
       "ParentAnsweringSurvey   No  Yes\n",
       "Relation                       \n",
       "Father                 143  140\n",
       "Mum                     67  130"
      ]
     },
     "execution_count": 12,
     "metadata": {},
     "output_type": "execute_result"
    }
   ],
   "source": [
    "pd.crosstab(edu_df['Relation'],edu_df['ParentAnsweringSurvey'])"
   ]
  },
  {
   "cell_type": "code",
   "execution_count": 13,
   "metadata": {},
   "outputs": [
    {
     "data": {
      "text/html": [
       "<div>\n",
       "<style scoped>\n",
       "    .dataframe tbody tr th:only-of-type {\n",
       "        vertical-align: middle;\n",
       "    }\n",
       "\n",
       "    .dataframe tbody tr th {\n",
       "        vertical-align: top;\n",
       "    }\n",
       "\n",
       "    .dataframe thead th {\n",
       "        text-align: right;\n",
       "    }\n",
       "</style>\n",
       "<table border=\"1\" class=\"dataframe\">\n",
       "  <thead>\n",
       "    <tr style=\"text-align: right;\">\n",
       "      <th>ParentschoolSatisfaction</th>\n",
       "      <th>Bad</th>\n",
       "      <th>Good</th>\n",
       "    </tr>\n",
       "    <tr>\n",
       "      <th>Relation</th>\n",
       "      <th></th>\n",
       "      <th></th>\n",
       "    </tr>\n",
       "  </thead>\n",
       "  <tbody>\n",
       "    <tr>\n",
       "      <th>Father</th>\n",
       "      <td>144</td>\n",
       "      <td>139</td>\n",
       "    </tr>\n",
       "    <tr>\n",
       "      <th>Mum</th>\n",
       "      <td>44</td>\n",
       "      <td>153</td>\n",
       "    </tr>\n",
       "  </tbody>\n",
       "</table>\n",
       "</div>"
      ],
      "text/plain": [
       "ParentschoolSatisfaction  Bad  Good\n",
       "Relation                           \n",
       "Father                    144   139\n",
       "Mum                        44   153"
      ]
     },
     "execution_count": 13,
     "metadata": {},
     "output_type": "execute_result"
    }
   ],
   "source": [
    "pd.crosstab(edu_df['Relation'],edu_df['ParentschoolSatisfaction'])"
   ]
  },
  {
   "cell_type": "markdown",
   "metadata": {},
   "source": [
    "# 三、深入分析\n",
    "\n",
    "**对于学生的学习表现，父母具体参方（父亲或母亲）与父母参与的方式（是否参与问卷调查）哪一属性更为重要？**\n",
    "\n",
    "1. 基于机器学习\n",
    "    * 剔除相应的特征对logistics regression分类性能的影响\n",
    "    * decision tree对应节点位置的比较 "
   ]
  },
  {
   "cell_type": "markdown",
   "metadata": {},
   "source": [
    "## 单独观察父亲或母亲参与问卷调查('ParentAnsweringSurvey')和学生表现('Class')的关系\n",
    "\n",
    "从数据中可以观察到，所有父亲（或母亲）中参与调查问卷与学生的成绩成正相关"
   ]
  },
  {
   "cell_type": "code",
   "execution_count": 14,
   "metadata": {},
   "outputs": [],
   "source": [
    "# 仅包含父亲的子表\n",
    "father_sub_df = edu_df.loc[edu_df['Relation']=='Father']"
   ]
  },
  {
   "cell_type": "code",
   "execution_count": 15,
   "metadata": {},
   "outputs": [
    {
     "data": {
      "text/html": [
       "<div>\n",
       "<style scoped>\n",
       "    .dataframe tbody tr th:only-of-type {\n",
       "        vertical-align: middle;\n",
       "    }\n",
       "\n",
       "    .dataframe tbody tr th {\n",
       "        vertical-align: top;\n",
       "    }\n",
       "\n",
       "    .dataframe thead th {\n",
       "        text-align: right;\n",
       "    }\n",
       "</style>\n",
       "<table border=\"1\" class=\"dataframe\">\n",
       "  <thead>\n",
       "    <tr style=\"text-align: right;\">\n",
       "      <th>Class</th>\n",
       "      <th>H</th>\n",
       "      <th>L</th>\n",
       "      <th>M</th>\n",
       "    </tr>\n",
       "    <tr>\n",
       "      <th>ParentAnsweringSurvey</th>\n",
       "      <th></th>\n",
       "      <th></th>\n",
       "      <th></th>\n",
       "    </tr>\n",
       "  </thead>\n",
       "  <tbody>\n",
       "    <tr>\n",
       "      <th>No</th>\n",
       "      <td>6</td>\n",
       "      <td>80</td>\n",
       "      <td>57</td>\n",
       "    </tr>\n",
       "    <tr>\n",
       "      <th>Yes</th>\n",
       "      <td>36</td>\n",
       "      <td>24</td>\n",
       "      <td>80</td>\n",
       "    </tr>\n",
       "  </tbody>\n",
       "</table>\n",
       "</div>"
      ],
      "text/plain": [
       "Class                   H   L   M\n",
       "ParentAnsweringSurvey            \n",
       "No                      6  80  57\n",
       "Yes                    36  24  80"
      ]
     },
     "execution_count": 15,
     "metadata": {},
     "output_type": "execute_result"
    }
   ],
   "source": [
    "pd.crosstab(father_sub_df['ParentAnsweringSurvey'],father_sub_df['Class'])"
   ]
  },
  {
   "cell_type": "code",
   "execution_count": 16,
   "metadata": {},
   "outputs": [],
   "source": [
    "# 仅包含母亲的子表\n",
    "mother_sub_df = edu_df.loc[edu_df['Relation']=='Mum']"
   ]
  },
  {
   "cell_type": "code",
   "execution_count": 17,
   "metadata": {},
   "outputs": [
    {
     "data": {
      "text/html": [
       "<div>\n",
       "<style scoped>\n",
       "    .dataframe tbody tr th:only-of-type {\n",
       "        vertical-align: middle;\n",
       "    }\n",
       "\n",
       "    .dataframe tbody tr th {\n",
       "        vertical-align: top;\n",
       "    }\n",
       "\n",
       "    .dataframe thead th {\n",
       "        text-align: right;\n",
       "    }\n",
       "</style>\n",
       "<table border=\"1\" class=\"dataframe\">\n",
       "  <thead>\n",
       "    <tr style=\"text-align: right;\">\n",
       "      <th>Class</th>\n",
       "      <th>H</th>\n",
       "      <th>L</th>\n",
       "      <th>M</th>\n",
       "    </tr>\n",
       "    <tr>\n",
       "      <th>ParentAnsweringSurvey</th>\n",
       "      <th></th>\n",
       "      <th></th>\n",
       "      <th></th>\n",
       "    </tr>\n",
       "  </thead>\n",
       "  <tbody>\n",
       "    <tr>\n",
       "      <th>No</th>\n",
       "      <td>22</td>\n",
       "      <td>19</td>\n",
       "      <td>26</td>\n",
       "    </tr>\n",
       "    <tr>\n",
       "      <th>Yes</th>\n",
       "      <td>78</td>\n",
       "      <td>4</td>\n",
       "      <td>48</td>\n",
       "    </tr>\n",
       "  </tbody>\n",
       "</table>\n",
       "</div>"
      ],
      "text/plain": [
       "Class                   H   L   M\n",
       "ParentAnsweringSurvey            \n",
       "No                     22  19  26\n",
       "Yes                    78   4  48"
      ]
     },
     "execution_count": 17,
     "metadata": {},
     "output_type": "execute_result"
    }
   ],
   "source": [
    "pd.crosstab(mother_sub_df['ParentAnsweringSurvey'],mother_sub_df['Class'])"
   ]
  },
  {
   "cell_type": "markdown",
   "metadata": {},
   "source": [
    "## logistic regression"
   ]
  },
  {
   "cell_type": "code",
   "execution_count": 18,
   "metadata": {},
   "outputs": [],
   "source": [
    "from sklearn.preprocessing import LabelEncoder\n",
    "from sklearn.model_selection import train_test_split, KFold\n",
    "from sklearn.linear_model import LogisticRegression\n",
    "from sklearn.metrics import confusion_matrix, classification_report, accuracy_score\n",
    "from sklearn.model_selection import cross_val_score\n",
    "\n",
    "RANDOM_STATE = 42"
   ]
  },
  {
   "cell_type": "code",
   "execution_count": 19,
   "metadata": {},
   "outputs": [],
   "source": [
    "def get_features_and_target(df, features_to_use, target_key='Class'):\n",
    "    \n",
    "    assert target_key not in features_to_use, 'target labels should not be a part of features'\n",
    "    \n",
    "    target = df[target_key]\n",
    "    features = df[features_to_use]\n",
    "    \n",
    "    label_encoder = LabelEncoder()\n",
    "    cat_colums = features.dtypes.pipe(lambda features: features[features=='object']).index\n",
    "    for col in cat_colums:\n",
    "        label_encoder.fit(features[col])\n",
    "        print('>>> Mapping')\n",
    "        print({k:v for k, v in zip(label_encoder.classes_, range(len(label_encoder.classes_)))})\n",
    "        features.loc[:, col] = label_encoder.transform(features[col])\n",
    "    \n",
    "    label_encoder.fit(target)\n",
    "    print('>>> Mapping')\n",
    "    print({k:v for k, v in zip(label_encoder.classes_, range(len(label_encoder.classes_)))})\n",
    "    target = label_encoder.transform(target)\n",
    "    \n",
    "    return features, target    "
   ]
  },
  {
   "cell_type": "code",
   "execution_count": 20,
   "metadata": {},
   "outputs": [],
   "source": [
    "def k_fold_logistic(features, target, total_exp_num, k_fold, max_iter, rand_state=42):\n",
    "    # 10 fold validation\n",
    "\n",
    "    all_scores = list()\n",
    "\n",
    "    for i in range(total_exp_num):\n",
    "        kf = KFold(n_splits=k_fold, shuffle=True)\n",
    "        for j, (train_idx, test_idx) in enumerate(kf.split(features, target)):\n",
    "            k_X_train = features.values[train_idx]\n",
    "            k_y_train = target[train_idx]\n",
    "            k_X_test = features.values[test_idx]\n",
    "            k_y_test = target[test_idx]\n",
    "\n",
    "            clf = LogisticRegression(solver='lbfgs', multi_class='multinomial',max_iter=max_iter, random_state=rand_state+i)\n",
    "            clf.fit(k_X_train,k_y_train)\n",
    "            k_prediction = clf.predict(k_X_test)\n",
    "            k_score = accuracy_score(k_y_test, k_prediction)\n",
    "\n",
    "            all_scores.append(k_score) \n",
    "    print(\"Accuracy: {:.2f} (+/- {:.2f})\".format(np.mean(all_scores), np.std(all_scores) * 2))"
   ]
  },
  {
   "cell_type": "markdown",
   "metadata": {},
   "source": [
    "## 同时使用所有家长相关特征分类"
   ]
  },
  {
   "cell_type": "code",
   "execution_count": 21,
   "metadata": {},
   "outputs": [
    {
     "name": "stdout",
     "output_type": "stream",
     "text": [
      ">>> Mapping\n",
      "{'F': 0, 'M': 1}\n",
      ">>> Mapping\n",
      "{'Father': 0, 'Mum': 1}\n",
      ">>> Mapping\n",
      "{'HighSchool': 0, 'MiddleSchool': 1, 'lowerlevel': 2}\n",
      ">>> Mapping\n",
      "{'Arabic': 0, 'Biology': 1, 'Chemistry': 2, 'English': 3, 'French': 4, 'Geology': 5, 'History': 6, 'IT': 7, 'Math': 8, 'Quran': 9, 'Science': 10, 'Spanish': 11}\n",
      ">>> Mapping\n",
      "{'Above-7': 0, 'Under-7': 1}\n",
      ">>> Mapping\n",
      "{'No': 0, 'Yes': 1}\n",
      ">>> Mapping\n",
      "{'Bad': 0, 'Good': 1}\n",
      ">>> Mapping\n",
      "{'H': 0, 'L': 1, 'M': 2}\n"
     ]
    },
    {
     "name": "stderr",
     "output_type": "stream",
     "text": [
      "/opt/conda/lib/python3.6/site-packages/pandas/core/indexing.py:576: SettingWithCopyWarning: \n",
      "A value is trying to be set on a copy of a slice from a DataFrame.\n",
      "Try using .loc[row_indexer,col_indexer] = value instead\n",
      "\n",
      "See the caveats in the documentation: http://pandas.pydata.org/pandas-docs/stable/user_guide/indexing.html#returning-a-view-versus-a-copy\n",
      "  self.obj[item_labels[indexer[info_axis]]] = value\n",
      "/opt/conda/lib/python3.6/site-packages/pandas/core/indexing.py:494: SettingWithCopyWarning: \n",
      "A value is trying to be set on a copy of a slice from a DataFrame.\n",
      "Try using .loc[row_indexer,col_indexer] = value instead\n",
      "\n",
      "See the caveats in the documentation: http://pandas.pydata.org/pandas-docs/stable/user_guide/indexing.html#returning-a-view-versus-a-copy\n",
      "  self.obj[item] = s\n"
     ]
    }
   ],
   "source": [
    "# 特征选择\n",
    "LOGISTIC_FEATURE_TO_USE = ['gender', 'Relation', 'StageID', 'Topic', 'StudentAbsenceDays', 'ParentAnsweringSurvey', 'ParentschoolSatisfaction']\n",
    "features, target = get_features_and_target(edu_df, LOGISTIC_FEATURE_TO_USE, target_key='Class')"
   ]
  },
  {
   "cell_type": "code",
   "execution_count": 22,
   "metadata": {},
   "outputs": [
    {
     "name": "stdout",
     "output_type": "stream",
     "text": [
      "['gender', 'Relation', 'StageID', 'Topic', 'StudentAbsenceDays', 'ParentAnsweringSurvey', 'ParentschoolSatisfaction']\n",
      "Accuracy: 0.69 (+/- 0.11)\n"
     ]
    }
   ],
   "source": [
    "print(LOGISTIC_FEATURE_TO_USE)\n",
    "k_fold_logistic(features, target, total_exp_num=10, k_fold=10, max_iter=5000, rand_state=RANDOM_STATE)"
   ]
  },
  {
   "cell_type": "markdown",
   "metadata": {},
   "source": [
    "## 剔除问卷调查参与分类"
   ]
  },
  {
   "cell_type": "code",
   "execution_count": 23,
   "metadata": {},
   "outputs": [
    {
     "name": "stdout",
     "output_type": "stream",
     "text": [
      ">>> Mapping\n",
      "{'F': 0, 'M': 1}\n",
      ">>> Mapping\n",
      "{'Father': 0, 'Mum': 1}\n",
      ">>> Mapping\n",
      "{'HighSchool': 0, 'MiddleSchool': 1, 'lowerlevel': 2}\n",
      ">>> Mapping\n",
      "{'Arabic': 0, 'Biology': 1, 'Chemistry': 2, 'English': 3, 'French': 4, 'Geology': 5, 'History': 6, 'IT': 7, 'Math': 8, 'Quran': 9, 'Science': 10, 'Spanish': 11}\n",
      ">>> Mapping\n",
      "{'Above-7': 0, 'Under-7': 1}\n",
      ">>> Mapping\n",
      "{'Bad': 0, 'Good': 1}\n",
      ">>> Mapping\n",
      "{'H': 0, 'L': 1, 'M': 2}\n"
     ]
    },
    {
     "name": "stderr",
     "output_type": "stream",
     "text": [
      "/opt/conda/lib/python3.6/site-packages/pandas/core/indexing.py:576: SettingWithCopyWarning: \n",
      "A value is trying to be set on a copy of a slice from a DataFrame.\n",
      "Try using .loc[row_indexer,col_indexer] = value instead\n",
      "\n",
      "See the caveats in the documentation: http://pandas.pydata.org/pandas-docs/stable/user_guide/indexing.html#returning-a-view-versus-a-copy\n",
      "  self.obj[item_labels[indexer[info_axis]]] = value\n",
      "/opt/conda/lib/python3.6/site-packages/pandas/core/indexing.py:494: SettingWithCopyWarning: \n",
      "A value is trying to be set on a copy of a slice from a DataFrame.\n",
      "Try using .loc[row_indexer,col_indexer] = value instead\n",
      "\n",
      "See the caveats in the documentation: http://pandas.pydata.org/pandas-docs/stable/user_guide/indexing.html#returning-a-view-versus-a-copy\n",
      "  self.obj[item] = s\n"
     ]
    }
   ],
   "source": [
    "LOGISTIC_FEATURE_TO_USE = ['gender', 'Relation', 'StageID', 'Topic', 'StudentAbsenceDays', 'ParentschoolSatisfaction']\n",
    "\n",
    "features, target = get_features_and_target(edu_df, LOGISTIC_FEATURE_TO_USE, target_key='Class')"
   ]
  },
  {
   "cell_type": "code",
   "execution_count": 24,
   "metadata": {},
   "outputs": [
    {
     "name": "stdout",
     "output_type": "stream",
     "text": [
      "['gender', 'Relation', 'StageID', 'Topic', 'StudentAbsenceDays', 'ParentschoolSatisfaction']\n",
      "Accuracy: 0.64 (+/- 0.13)\n"
     ]
    }
   ],
   "source": [
    "print(LOGISTIC_FEATURE_TO_USE)\n",
    "k_fold_logistic(features, target, total_exp_num=10, k_fold=10, max_iter=5000, rand_state=RANDOM_STATE)"
   ]
  },
  {
   "cell_type": "markdown",
   "metadata": {},
   "source": [
    "## 剔除满意程度参与分类"
   ]
  },
  {
   "cell_type": "code",
   "execution_count": 25,
   "metadata": {},
   "outputs": [
    {
     "name": "stdout",
     "output_type": "stream",
     "text": [
      ">>> Mapping\n",
      "{'F': 0, 'M': 1}\n",
      ">>> Mapping\n",
      "{'Father': 0, 'Mum': 1}\n",
      ">>> Mapping\n",
      "{'HighSchool': 0, 'MiddleSchool': 1, 'lowerlevel': 2}\n",
      ">>> Mapping\n",
      "{'Arabic': 0, 'Biology': 1, 'Chemistry': 2, 'English': 3, 'French': 4, 'Geology': 5, 'History': 6, 'IT': 7, 'Math': 8, 'Quran': 9, 'Science': 10, 'Spanish': 11}\n",
      ">>> Mapping\n",
      "{'Above-7': 0, 'Under-7': 1}\n",
      ">>> Mapping\n",
      "{'No': 0, 'Yes': 1}\n",
      ">>> Mapping\n",
      "{'H': 0, 'L': 1, 'M': 2}\n"
     ]
    },
    {
     "name": "stderr",
     "output_type": "stream",
     "text": [
      "/opt/conda/lib/python3.6/site-packages/pandas/core/indexing.py:576: SettingWithCopyWarning: \n",
      "A value is trying to be set on a copy of a slice from a DataFrame.\n",
      "Try using .loc[row_indexer,col_indexer] = value instead\n",
      "\n",
      "See the caveats in the documentation: http://pandas.pydata.org/pandas-docs/stable/user_guide/indexing.html#returning-a-view-versus-a-copy\n",
      "  self.obj[item_labels[indexer[info_axis]]] = value\n",
      "/opt/conda/lib/python3.6/site-packages/pandas/core/indexing.py:494: SettingWithCopyWarning: \n",
      "A value is trying to be set on a copy of a slice from a DataFrame.\n",
      "Try using .loc[row_indexer,col_indexer] = value instead\n",
      "\n",
      "See the caveats in the documentation: http://pandas.pydata.org/pandas-docs/stable/user_guide/indexing.html#returning-a-view-versus-a-copy\n",
      "  self.obj[item] = s\n"
     ]
    }
   ],
   "source": [
    "LOGISTIC_FEATURE_TO_USE = ['gender', 'Relation', 'StageID', 'Topic', 'StudentAbsenceDays', 'ParentAnsweringSurvey']\n",
    "\n",
    "features, target = get_features_and_target(edu_df, LOGISTIC_FEATURE_TO_USE, target_key='Class')"
   ]
  },
  {
   "cell_type": "code",
   "execution_count": 26,
   "metadata": {},
   "outputs": [
    {
     "name": "stdout",
     "output_type": "stream",
     "text": [
      "['gender', 'Relation', 'StageID', 'Topic', 'StudentAbsenceDays', 'ParentAnsweringSurvey']\n",
      "Accuracy: 0.70 (+/- 0.13)\n"
     ]
    }
   ],
   "source": [
    "print(LOGISTIC_FEATURE_TO_USE)\n",
    "k_fold_logistic(features, target, total_exp_num=10, k_fold=10, max_iter=5000, rand_state=RANDOM_STATE)"
   ]
  },
  {
   "cell_type": "markdown",
   "metadata": {},
   "source": [
    "## 剔除家长参与分类"
   ]
  },
  {
   "cell_type": "code",
   "execution_count": 27,
   "metadata": {},
   "outputs": [
    {
     "name": "stdout",
     "output_type": "stream",
     "text": [
      ">>> Mapping\n",
      "{'F': 0, 'M': 1}\n",
      ">>> Mapping\n",
      "{'HighSchool': 0, 'MiddleSchool': 1, 'lowerlevel': 2}\n",
      ">>> Mapping\n",
      "{'Arabic': 0, 'Biology': 1, 'Chemistry': 2, 'English': 3, 'French': 4, 'Geology': 5, 'History': 6, 'IT': 7, 'Math': 8, 'Quran': 9, 'Science': 10, 'Spanish': 11}\n",
      ">>> Mapping\n",
      "{'Above-7': 0, 'Under-7': 1}\n",
      ">>> Mapping\n",
      "{'No': 0, 'Yes': 1}\n",
      ">>> Mapping\n",
      "{'Bad': 0, 'Good': 1}\n",
      ">>> Mapping\n",
      "{'H': 0, 'L': 1, 'M': 2}\n"
     ]
    },
    {
     "name": "stderr",
     "output_type": "stream",
     "text": [
      "/opt/conda/lib/python3.6/site-packages/pandas/core/indexing.py:576: SettingWithCopyWarning: \n",
      "A value is trying to be set on a copy of a slice from a DataFrame.\n",
      "Try using .loc[row_indexer,col_indexer] = value instead\n",
      "\n",
      "See the caveats in the documentation: http://pandas.pydata.org/pandas-docs/stable/user_guide/indexing.html#returning-a-view-versus-a-copy\n",
      "  self.obj[item_labels[indexer[info_axis]]] = value\n",
      "/opt/conda/lib/python3.6/site-packages/pandas/core/indexing.py:494: SettingWithCopyWarning: \n",
      "A value is trying to be set on a copy of a slice from a DataFrame.\n",
      "Try using .loc[row_indexer,col_indexer] = value instead\n",
      "\n",
      "See the caveats in the documentation: http://pandas.pydata.org/pandas-docs/stable/user_guide/indexing.html#returning-a-view-versus-a-copy\n",
      "  self.obj[item] = s\n"
     ]
    }
   ],
   "source": [
    "LOGISTIC_FEATURE_TO_USE = ['gender', 'StageID', 'Topic', 'StudentAbsenceDays', 'ParentAnsweringSurvey', 'ParentschoolSatisfaction']\n",
    "\n",
    "features, target = get_features_and_target(edu_df, LOGISTIC_FEATURE_TO_USE, target_key='Class')"
   ]
  },
  {
   "cell_type": "code",
   "execution_count": 28,
   "metadata": {},
   "outputs": [
    {
     "name": "stdout",
     "output_type": "stream",
     "text": [
      "['gender', 'StageID', 'Topic', 'StudentAbsenceDays', 'ParentAnsweringSurvey', 'ParentschoolSatisfaction']\n",
      "Accuracy: 0.64 (+/- 0.10)\n"
     ]
    }
   ],
   "source": [
    "print(LOGISTIC_FEATURE_TO_USE)\n",
    "k_fold_logistic(features, target, total_exp_num=10, k_fold=10, max_iter=5000, rand_state=RANDOM_STATE)"
   ]
  },
  {
   "cell_type": "markdown",
   "metadata": {},
   "source": [
    "## Decision Tree"
   ]
  },
  {
   "cell_type": "code",
   "execution_count": 29,
   "metadata": {},
   "outputs": [],
   "source": [
    "from sklearn import tree\n",
    "\n",
    "RAND_STATE = 42"
   ]
  },
  {
   "cell_type": "code",
   "execution_count": 30,
   "metadata": {},
   "outputs": [
    {
     "name": "stdout",
     "output_type": "stream",
     "text": [
      ">>> Mapping\n",
      "{'F': 0, 'M': 1}\n",
      ">>> Mapping\n",
      "{'Father': 0, 'Mum': 1}\n",
      ">>> Mapping\n",
      "{'HighSchool': 0, 'MiddleSchool': 1, 'lowerlevel': 2}\n",
      ">>> Mapping\n",
      "{'Arabic': 0, 'Biology': 1, 'Chemistry': 2, 'English': 3, 'French': 4, 'Geology': 5, 'History': 6, 'IT': 7, 'Math': 8, 'Quran': 9, 'Science': 10, 'Spanish': 11}\n",
      ">>> Mapping\n",
      "{'Above-7': 0, 'Under-7': 1}\n",
      ">>> Mapping\n",
      "{'No': 0, 'Yes': 1}\n",
      ">>> Mapping\n",
      "{'Bad': 0, 'Good': 1}\n",
      ">>> Mapping\n",
      "{'H': 0, 'L': 1, 'M': 2}\n"
     ]
    },
    {
     "name": "stderr",
     "output_type": "stream",
     "text": [
      "/opt/conda/lib/python3.6/site-packages/pandas/core/indexing.py:576: SettingWithCopyWarning: \n",
      "A value is trying to be set on a copy of a slice from a DataFrame.\n",
      "Try using .loc[row_indexer,col_indexer] = value instead\n",
      "\n",
      "See the caveats in the documentation: http://pandas.pydata.org/pandas-docs/stable/user_guide/indexing.html#returning-a-view-versus-a-copy\n",
      "  self.obj[item_labels[indexer[info_axis]]] = value\n",
      "/opt/conda/lib/python3.6/site-packages/pandas/core/indexing.py:494: SettingWithCopyWarning: \n",
      "A value is trying to be set on a copy of a slice from a DataFrame.\n",
      "Try using .loc[row_indexer,col_indexer] = value instead\n",
      "\n",
      "See the caveats in the documentation: http://pandas.pydata.org/pandas-docs/stable/user_guide/indexing.html#returning-a-view-versus-a-copy\n",
      "  self.obj[item] = s\n"
     ]
    }
   ],
   "source": [
    "DT_FEATURE_TO_USE = ['gender', 'Relation', 'StageID', 'Topic', 'StudentAbsenceDays', 'ParentAnsweringSurvey', 'ParentschoolSatisfaction']\n",
    "features, target = get_features_and_target(edu_df, DT_FEATURE_TO_USE, target_key='Class')\n",
    "\n",
    "X_train, X_test, y_train, y_test = train_test_split(features, target, random_state=RAND_STATE)\n",
    "\n",
    "dt = tree.DecisionTreeClassifier(max_depth=4)\n",
    "dt = dt.fit(X_train, y_train)"
   ]
  },
  {
   "cell_type": "code",
   "execution_count": 31,
   "metadata": {},
   "outputs": [
    {
     "data": {
      "text/plain": [
       "[Text(167.4, 195.696, 'X[4] <= 0.5\\ngini = 0.652\\nsamples = 360\\nvalue = [114, 93, 153]'),\n",
       " Text(83.7, 152.208, 'X[5] <= 0.5\\ngini = 0.485\\nsamples = 133\\nvalue = [3, 83, 47]'),\n",
       " Text(41.85, 108.72, 'X[3] <= 6.5\\ngini = 0.307\\nsamples = 86\\nvalue = [1, 70, 15]'),\n",
       " Text(20.925, 65.232, 'X[3] <= 0.5\\ngini = 0.184\\nsamples = 39\\nvalue = [0, 35, 4]'),\n",
       " Text(10.4625, 21.744, 'gini = 0.0\\nsamples = 10\\nvalue = [0, 10, 0]'),\n",
       " Text(31.387500000000003, 21.744, 'gini = 0.238\\nsamples = 29\\nvalue = [0, 25, 4]'),\n",
       " Text(62.775000000000006, 65.232, 'X[1] <= 0.5\\ngini = 0.39\\nsamples = 47\\nvalue = [1, 35, 11]'),\n",
       " Text(52.3125, 21.744, 'gini = 0.331\\nsamples = 43\\nvalue = [0, 34, 9]'),\n",
       " Text(73.2375, 21.744, 'gini = 0.625\\nsamples = 4\\nvalue = [1, 1, 2]'),\n",
       " Text(125.55000000000001, 108.72, 'X[3] <= 6.5\\ngini = 0.458\\nsamples = 47\\nvalue = [2, 13, 32]'),\n",
       " Text(104.625, 65.232, 'X[3] <= 2.5\\ngini = 0.381\\nsamples = 25\\nvalue = [1, 5, 19]'),\n",
       " Text(94.16250000000001, 21.744, 'gini = 0.556\\nsamples = 13\\nvalue = [1, 5, 7]'),\n",
       " Text(115.0875, 21.744, 'gini = 0.0\\nsamples = 12\\nvalue = [0, 0, 12]'),\n",
       " Text(146.475, 65.232, 'X[1] <= 0.5\\ngini = 0.517\\nsamples = 22\\nvalue = [1, 8, 13]'),\n",
       " Text(136.01250000000002, 21.744, 'gini = 0.561\\nsamples = 14\\nvalue = [1, 7, 6]'),\n",
       " Text(156.9375, 21.744, 'gini = 0.219\\nsamples = 8\\nvalue = [0, 1, 7]'),\n",
       " Text(251.10000000000002, 152.208, 'X[1] <= 0.5\\ngini = 0.541\\nsamples = 227\\nvalue = [111, 10, 106]'),\n",
       " Text(209.25, 108.72, 'X[5] <= 0.5\\ngini = 0.524\\nsamples = 108\\nvalue = [31, 10, 67]'),\n",
       " Text(188.32500000000002, 65.232, 'X[0] <= 0.5\\ngini = 0.405\\nsamples = 40\\nvalue = [4, 6, 30]'),\n",
       " Text(177.8625, 21.744, 'gini = 0.204\\nsamples = 18\\nvalue = [1, 1, 16]'),\n",
       " Text(198.7875, 21.744, 'gini = 0.525\\nsamples = 22\\nvalue = [3, 5, 14]'),\n",
       " Text(230.175, 65.232, 'X[2] <= 1.5\\ngini = 0.543\\nsamples = 68\\nvalue = [27, 4, 37]'),\n",
       " Text(219.7125, 21.744, 'gini = 0.48\\nsamples = 46\\nvalue = [14, 2, 30]'),\n",
       " Text(240.63750000000002, 21.744, 'gini = 0.541\\nsamples = 22\\nvalue = [13, 2, 7]'),\n",
       " Text(292.95, 108.72, 'X[0] <= 0.5\\ngini = 0.441\\nsamples = 119\\nvalue = [80, 0, 39]'),\n",
       " Text(272.02500000000003, 65.232, 'X[2] <= 1.5\\ngini = 0.285\\nsamples = 64\\nvalue = [53, 0, 11]'),\n",
       " Text(261.5625, 21.744, 'gini = 0.121\\nsamples = 31\\nvalue = [29, 0, 2]'),\n",
       " Text(282.4875, 21.744, 'gini = 0.397\\nsamples = 33\\nvalue = [24, 0, 9]'),\n",
       " Text(313.875, 65.232, 'X[5] <= 0.5\\ngini = 0.5\\nsamples = 55\\nvalue = [27, 0, 28]'),\n",
       " Text(303.4125, 21.744, 'gini = 0.231\\nsamples = 15\\nvalue = [2, 0, 13]'),\n",
       " Text(324.33750000000003, 21.744, 'gini = 0.469\\nsamples = 40\\nvalue = [25, 0, 15]')]"
      ]
     },
     "execution_count": 31,
     "metadata": {},
     "output_type": "execute_result"
    },
    {
     "data": {
      "image/png": "[encoded data removed]",
      "text/plain": [
       "<Figure size 432x288 with 1 Axes>"
      ]
     },
     "metadata": {
      "needs_background": "light"
     },
     "output_type": "display_data"
    }
   ],
   "source": [
    "tree.plot_tree(dt) "
   ]
  },
  {
   "cell_type": "code",
   "execution_count": 32,
   "metadata": {},
   "outputs": [],
   "source": [
    "import graphviz\n",
    "\n",
    "dot_data = tree.export_graphviz(dt, out_file=None) \n",
    "graph = graphviz.Source(dot_data)\n",
    "graph.render(\"Edu Dataset\")\n",
    "\n",
    "dot_data = tree.export_graphviz(dt, out_file=None, \n",
    "                                feature_names=DT_FEATURE_TO_USE,  \n",
    "                                class_names=['H', 'L', 'M'],  \n",
    "                                filled=True, rounded=True,  \n",
    "                                special_characters=True)\n",
    "graph = graphviz.Source(dot_data) "
   ]
  },
  {
   "cell_type": "code",
   "execution_count": 33,
   "metadata": {},
   "outputs": [
    {
     "data": {
      "image/svg+xml": [
       "<?xml version=\"1.0\" encoding=\"UTF-8\" standalone=\"no\"?>\n",
       "<!DOCTYPE svg PUBLIC \"-//W3C//DTD SVG 1.1//EN\"\n",
       " \"http://www.w3.org/Graphics/SVG/1.1/DTD/svg11.dtd\">\n",
       "<!-- Generated by graphviz version 2.38.0 (20140413.2041)\n",
       " -->\n",
       "<!-- Title: Tree Pages: 1 -->\n",
       "<svg width=\"2140pt\" height=\"552pt\"\n",
       " viewBox=\"0.00 0.00 2140.00 552.00\" xmlns=\"http://www.w3.org/2000/svg\" xmlns:xlink=\"http://www.w3.org/1999/xlink\">\n",
       "<g id=\"graph0\" class=\"graph\" transform=\"scale(1 1) rotate(0) translate(4 548)\">\n",
       "<title>Tree</title>\n",
       "<polygon fill=\"white\" stroke=\"none\" points=\"-4,4 -4,-548 2136,-548 2136,4 -4,4\"/>\n",
       "<!-- 0 -->\n",
       "<g id=\"node1\" class=\"node\"><title>0</title>\n",
       "<path fill=\"#ebe0fb\" stroke=\"black\" d=\"M1130,-544C1130,-544 973,-544 973,-544 967,-544 961,-538 961,-532 961,-532 961,-473 961,-473 961,-467 967,-461 973,-461 973,-461 1130,-461 1130,-461 1136,-461 1142,-467 1142,-473 1142,-473 1142,-532 1142,-532 1142,-538 1136,-544 1130,-544\"/>\n",
       "<text text-anchor=\"start\" x=\"969\" y=\"-528.8\" font-family=\"Helvetica,sans-Serif\" font-size=\"14.00\">StudentAbsenceDays ≤ 0.5</text>\n",
       "<text text-anchor=\"start\" x=\"1016\" y=\"-513.8\" font-family=\"Helvetica,sans-Serif\" font-size=\"14.00\">gini = 0.652</text>\n",
       "<text text-anchor=\"start\" x=\"1006.5\" y=\"-498.8\" font-family=\"Helvetica,sans-Serif\" font-size=\"14.00\">samples = 360</text>\n",
       "<text text-anchor=\"start\" x=\"986\" y=\"-483.8\" font-family=\"Helvetica,sans-Serif\" font-size=\"14.00\">value = [114, 93, 153]</text>\n",
       "<text text-anchor=\"start\" x=\"1022\" y=\"-468.8\" font-family=\"Helvetica,sans-Serif\" font-size=\"14.00\">class = M</text>\n",
       "</g>\n",
       "<!-- 1 -->\n",
       "<g id=\"node2\" class=\"node\"><title>1</title>\n",
       "<path fill=\"#acf4ca\" stroke=\"black\" d=\"M873.5,-425C873.5,-425 701.5,-425 701.5,-425 695.5,-425 689.5,-419 689.5,-413 689.5,-413 689.5,-354 689.5,-354 689.5,-348 695.5,-342 701.5,-342 701.5,-342 873.5,-342 873.5,-342 879.5,-342 885.5,-348 885.5,-354 885.5,-354 885.5,-413 885.5,-413 885.5,-419 879.5,-425 873.5,-425\"/>\n",
       "<text text-anchor=\"start\" x=\"697.5\" y=\"-409.8\" font-family=\"Helvetica,sans-Serif\" font-size=\"14.00\">ParentAnsweringSurvey ≤ 0.5</text>\n",
       "<text text-anchor=\"start\" x=\"752\" y=\"-394.8\" font-family=\"Helvetica,sans-Serif\" font-size=\"14.00\">gini = 0.485</text>\n",
       "<text text-anchor=\"start\" x=\"742.5\" y=\"-379.8\" font-family=\"Helvetica,sans-Serif\" font-size=\"14.00\">samples = 133</text>\n",
       "<text text-anchor=\"start\" x=\"733\" y=\"-364.8\" font-family=\"Helvetica,sans-Serif\" font-size=\"14.00\">value = [3, 83, 47]</text>\n",
       "<text text-anchor=\"start\" x=\"760\" y=\"-349.8\" font-family=\"Helvetica,sans-Serif\" font-size=\"14.00\">class = L</text>\n",
       "</g>\n",
       "<!-- 0&#45;&gt;1 -->\n",
       "<g id=\"edge1\" class=\"edge\"><title>0&#45;&gt;1</title>\n",
       "<path fill=\"none\" stroke=\"black\" d=\"M960.646,-461.235C937.34,-450.906 912.132,-439.735 888.355,-429.197\"/>\n",
       "<polygon fill=\"black\" stroke=\"black\" points=\"889.53,-425.889 878.969,-425.037 886.693,-432.289 889.53,-425.889\"/>\n",
       "<text text-anchor=\"middle\" x=\"887.968\" y=\"-444.662\" font-family=\"Helvetica,sans-Serif\" font-size=\"14.00\">True</text>\n",
       "</g>\n",
       "<!-- 16 -->\n",
       "<g id=\"node17\" class=\"node\"><title>16</title>\n",
       "<path fill=\"#fefaf7\" stroke=\"black\" d=\"M1378,-425C1378,-425 1255,-425 1255,-425 1249,-425 1243,-419 1243,-413 1243,-413 1243,-354 1243,-354 1243,-348 1249,-342 1255,-342 1255,-342 1378,-342 1378,-342 1384,-342 1390,-348 1390,-354 1390,-354 1390,-413 1390,-413 1390,-419 1384,-425 1378,-425\"/>\n",
       "<text text-anchor=\"start\" x=\"1274\" y=\"-409.8\" font-family=\"Helvetica,sans-Serif\" font-size=\"14.00\">Relation ≤ 0.5</text>\n",
       "<text text-anchor=\"start\" x=\"1281\" y=\"-394.8\" font-family=\"Helvetica,sans-Serif\" font-size=\"14.00\">gini = 0.541</text>\n",
       "<text text-anchor=\"start\" x=\"1271.5\" y=\"-379.8\" font-family=\"Helvetica,sans-Serif\" font-size=\"14.00\">samples = 227</text>\n",
       "<text text-anchor=\"start\" x=\"1251\" y=\"-364.8\" font-family=\"Helvetica,sans-Serif\" font-size=\"14.00\">value = [111, 10, 106]</text>\n",
       "<text text-anchor=\"start\" x=\"1288\" y=\"-349.8\" font-family=\"Helvetica,sans-Serif\" font-size=\"14.00\">class = H</text>\n",
       "</g>\n",
       "<!-- 0&#45;&gt;16 -->\n",
       "<g id=\"edge16\" class=\"edge\"><title>0&#45;&gt;16</title>\n",
       "<path fill=\"none\" stroke=\"black\" d=\"M1142.33,-461.399C1171.94,-448.327 1204.63,-433.89 1233.63,-421.089\"/>\n",
       "<polygon fill=\"black\" stroke=\"black\" points=\"1235.17,-424.235 1242.9,-416.994 1232.34,-417.831 1235.17,-424.235\"/>\n",
       "<text text-anchor=\"middle\" x=\"1233.87\" y=\"-436.606\" font-family=\"Helvetica,sans-Serif\" font-size=\"14.00\">False</text>\n",
       "</g>\n",
       "<!-- 2 -->\n",
       "<g id=\"node3\" class=\"node\"><title>2</title>\n",
       "<path fill=\"#66eb9d\" stroke=\"black\" d=\"M447,-306C447,-306 346,-306 346,-306 340,-306 334,-300 334,-294 334,-294 334,-235 334,-235 334,-229 340,-223 346,-223 346,-223 447,-223 447,-223 453,-223 459,-229 459,-235 459,-235 459,-294 459,-294 459,-300 453,-306 447,-306\"/>\n",
       "<text text-anchor=\"start\" x=\"362.5\" y=\"-290.8\" font-family=\"Helvetica,sans-Serif\" font-size=\"14.00\">Topic ≤ 6.5</text>\n",
       "<text text-anchor=\"start\" x=\"361\" y=\"-275.8\" font-family=\"Helvetica,sans-Serif\" font-size=\"14.00\">gini = 0.307</text>\n",
       "<text text-anchor=\"start\" x=\"355.5\" y=\"-260.8\" font-family=\"Helvetica,sans-Serif\" font-size=\"14.00\">samples = 86</text>\n",
       "<text text-anchor=\"start\" x=\"342\" y=\"-245.8\" font-family=\"Helvetica,sans-Serif\" font-size=\"14.00\">value = [1, 70, 15]</text>\n",
       "<text text-anchor=\"start\" x=\"369\" y=\"-230.8\" font-family=\"Helvetica,sans-Serif\" font-size=\"14.00\">class = L</text>\n",
       "</g>\n",
       "<!-- 1&#45;&gt;2 -->\n",
       "<g id=\"edge2\" class=\"edge\"><title>1&#45;&gt;2</title>\n",
       "<path fill=\"none\" stroke=\"black\" d=\"M689.339,-353.127C620.841,-332.63 530.939,-305.729 468.908,-287.167\"/>\n",
       "<polygon fill=\"black\" stroke=\"black\" points=\"469.783,-283.776 459.2,-284.262 467.777,-290.482 469.783,-283.776\"/>\n",
       "</g>\n",
       "<!-- 9 -->\n",
       "<g id=\"node10\" class=\"node\"><title>9</title>\n",
       "<path fill=\"#b990f0\" stroke=\"black\" d=\"M838,-306C838,-306 737,-306 737,-306 731,-306 725,-300 725,-294 725,-294 725,-235 725,-235 725,-229 731,-223 737,-223 737,-223 838,-223 838,-223 844,-223 850,-229 850,-235 850,-235 850,-294 850,-294 850,-300 844,-306 838,-306\"/>\n",
       "<text text-anchor=\"start\" x=\"753.5\" y=\"-290.8\" font-family=\"Helvetica,sans-Serif\" font-size=\"14.00\">Topic ≤ 6.5</text>\n",
       "<text text-anchor=\"start\" x=\"752\" y=\"-275.8\" font-family=\"Helvetica,sans-Serif\" font-size=\"14.00\">gini = 0.458</text>\n",
       "<text text-anchor=\"start\" x=\"746.5\" y=\"-260.8\" font-family=\"Helvetica,sans-Serif\" font-size=\"14.00\">samples = 47</text>\n",
       "<text text-anchor=\"start\" x=\"733\" y=\"-245.8\" font-family=\"Helvetica,sans-Serif\" font-size=\"14.00\">value = [2, 13, 32]</text>\n",
       "<text text-anchor=\"start\" x=\"758\" y=\"-230.8\" font-family=\"Helvetica,sans-Serif\" font-size=\"14.00\">class = M</text>\n",
       "</g>\n",
       "<!-- 1&#45;&gt;9 -->\n",
       "<g id=\"edge9\" class=\"edge\"><title>1&#45;&gt;9</title>\n",
       "<path fill=\"none\" stroke=\"black\" d=\"M787.5,-341.907C787.5,-333.649 787.5,-324.864 787.5,-316.302\"/>\n",
       "<polygon fill=\"black\" stroke=\"black\" points=\"791,-316.021 787.5,-306.021 784,-316.021 791,-316.021\"/>\n",
       "</g>\n",
       "<!-- 3 -->\n",
       "<g id=\"node4\" class=\"node\"><title>3</title>\n",
       "<path fill=\"#50e88f\" stroke=\"black\" d=\"M240,-187C240,-187 147,-187 147,-187 141,-187 135,-181 135,-175 135,-175 135,-116 135,-116 135,-110 141,-104 147,-104 147,-104 240,-104 240,-104 246,-104 252,-110 252,-116 252,-116 252,-175 252,-175 252,-181 246,-187 240,-187\"/>\n",
       "<text text-anchor=\"start\" x=\"159.5\" y=\"-171.8\" font-family=\"Helvetica,sans-Serif\" font-size=\"14.00\">Topic ≤ 0.5</text>\n",
       "<text text-anchor=\"start\" x=\"158\" y=\"-156.8\" font-family=\"Helvetica,sans-Serif\" font-size=\"14.00\">gini = 0.184</text>\n",
       "<text text-anchor=\"start\" x=\"152.5\" y=\"-141.8\" font-family=\"Helvetica,sans-Serif\" font-size=\"14.00\">samples = 39</text>\n",
       "<text text-anchor=\"start\" x=\"143\" y=\"-126.8\" font-family=\"Helvetica,sans-Serif\" font-size=\"14.00\">value = [0, 35, 4]</text>\n",
       "<text text-anchor=\"start\" x=\"166\" y=\"-111.8\" font-family=\"Helvetica,sans-Serif\" font-size=\"14.00\">class = L</text>\n",
       "</g>\n",
       "<!-- 2&#45;&gt;3 -->\n",
       "<g id=\"edge3\" class=\"edge\"><title>2&#45;&gt;3</title>\n",
       "<path fill=\"none\" stroke=\"black\" d=\"M333.937,-227.441C310.798,-214.105 284.476,-198.935 260.924,-185.36\"/>\n",
       "<polygon fill=\"black\" stroke=\"black\" points=\"262.458,-182.204 252.046,-180.243 258.962,-188.269 262.458,-182.204\"/>\n",
       "</g>\n",
       "<!-- 6 -->\n",
       "<g id=\"node7\" class=\"node\"><title>6</title>\n",
       "<path fill=\"#7beeab\" stroke=\"black\" d=\"M447,-187C447,-187 346,-187 346,-187 340,-187 334,-181 334,-175 334,-175 334,-116 334,-116 334,-110 340,-104 346,-104 346,-104 447,-104 447,-104 453,-104 459,-110 459,-116 459,-116 459,-175 459,-175 459,-181 453,-187 447,-187\"/>\n",
       "<text text-anchor=\"start\" x=\"354\" y=\"-171.8\" font-family=\"Helvetica,sans-Serif\" font-size=\"14.00\">Relation ≤ 0.5</text>\n",
       "<text text-anchor=\"start\" x=\"364.5\" y=\"-156.8\" font-family=\"Helvetica,sans-Serif\" font-size=\"14.00\">gini = 0.39</text>\n",
       "<text text-anchor=\"start\" x=\"355.5\" y=\"-141.8\" font-family=\"Helvetica,sans-Serif\" font-size=\"14.00\">samples = 47</text>\n",
       "<text text-anchor=\"start\" x=\"342\" y=\"-126.8\" font-family=\"Helvetica,sans-Serif\" font-size=\"14.00\">value = [1, 35, 11]</text>\n",
       "<text text-anchor=\"start\" x=\"369\" y=\"-111.8\" font-family=\"Helvetica,sans-Serif\" font-size=\"14.00\">class = L</text>\n",
       "</g>\n",
       "<!-- 2&#45;&gt;6 -->\n",
       "<g id=\"edge6\" class=\"edge\"><title>2&#45;&gt;6</title>\n",
       "<path fill=\"none\" stroke=\"black\" d=\"M396.5,-222.907C396.5,-214.649 396.5,-205.864 396.5,-197.302\"/>\n",
       "<polygon fill=\"black\" stroke=\"black\" points=\"400,-197.021 396.5,-187.021 393,-197.021 400,-197.021\"/>\n",
       "</g>\n",
       "<!-- 4 -->\n",
       "<g id=\"node5\" class=\"node\"><title>4</title>\n",
       "<path fill=\"#39e581\" stroke=\"black\" d=\"M105,-68C105,-68 12,-68 12,-68 6,-68 -7.10543e-15,-62 -7.10543e-15,-56 -7.10543e-15,-56 -7.10543e-15,-12 -7.10543e-15,-12 -7.10543e-15,-6 6,-0 12,-0 12,-0 105,-0 105,-0 111,-0 117,-6 117,-12 117,-12 117,-56 117,-56 117,-62 111,-68 105,-68\"/>\n",
       "<text text-anchor=\"start\" x=\"30.5\" y=\"-52.8\" font-family=\"Helvetica,sans-Serif\" font-size=\"14.00\">gini = 0.0</text>\n",
       "<text text-anchor=\"start\" x=\"17.5\" y=\"-37.8\" font-family=\"Helvetica,sans-Serif\" font-size=\"14.00\">samples = 10</text>\n",
       "<text text-anchor=\"start\" x=\"8\" y=\"-22.8\" font-family=\"Helvetica,sans-Serif\" font-size=\"14.00\">value = [0, 10, 0]</text>\n",
       "<text text-anchor=\"start\" x=\"31\" y=\"-7.8\" font-family=\"Helvetica,sans-Serif\" font-size=\"14.00\">class = L</text>\n",
       "</g>\n",
       "<!-- 3&#45;&gt;4 -->\n",
       "<g id=\"edge4\" class=\"edge\"><title>3&#45;&gt;4</title>\n",
       "<path fill=\"none\" stroke=\"black\" d=\"M143.231,-103.726C131.536,-94.2406 119.102,-84.1551 107.465,-74.7159\"/>\n",
       "<polygon fill=\"black\" stroke=\"black\" points=\"109.526,-71.8808 99.5543,-68.2996 105.116,-77.3173 109.526,-71.8808\"/>\n",
       "</g>\n",
       "<!-- 5 -->\n",
       "<g id=\"node6\" class=\"node\"><title>5</title>\n",
       "<path fill=\"#59e995\" stroke=\"black\" d=\"M240,-68C240,-68 147,-68 147,-68 141,-68 135,-62 135,-56 135,-56 135,-12 135,-12 135,-6 141,-0 147,-0 147,-0 240,-0 240,-0 246,-0 252,-6 252,-12 252,-12 252,-56 252,-56 252,-62 246,-68 240,-68\"/>\n",
       "<text text-anchor=\"start\" x=\"158\" y=\"-52.8\" font-family=\"Helvetica,sans-Serif\" font-size=\"14.00\">gini = 0.238</text>\n",
       "<text text-anchor=\"start\" x=\"152.5\" y=\"-37.8\" font-family=\"Helvetica,sans-Serif\" font-size=\"14.00\">samples = 29</text>\n",
       "<text text-anchor=\"start\" x=\"143\" y=\"-22.8\" font-family=\"Helvetica,sans-Serif\" font-size=\"14.00\">value = [0, 25, 4]</text>\n",
       "<text text-anchor=\"start\" x=\"166\" y=\"-7.8\" font-family=\"Helvetica,sans-Serif\" font-size=\"14.00\">class = L</text>\n",
       "</g>\n",
       "<!-- 3&#45;&gt;5 -->\n",
       "<g id=\"edge5\" class=\"edge\"><title>3&#45;&gt;5</title>\n",
       "<path fill=\"none\" stroke=\"black\" d=\"M193.5,-103.726C193.5,-95.5175 193.5,-86.8595 193.5,-78.56\"/>\n",
       "<polygon fill=\"black\" stroke=\"black\" points=\"197,-78.2996 193.5,-68.2996 190,-78.2996 197,-78.2996\"/>\n",
       "</g>\n",
       "<!-- 7 -->\n",
       "<g id=\"node8\" class=\"node\"><title>7</title>\n",
       "<path fill=\"#6deca2\" stroke=\"black\" d=\"M375,-68C375,-68 282,-68 282,-68 276,-68 270,-62 270,-56 270,-56 270,-12 270,-12 270,-6 276,-0 282,-0 282,-0 375,-0 375,-0 381,-0 387,-6 387,-12 387,-12 387,-56 387,-56 387,-62 381,-68 375,-68\"/>\n",
       "<text text-anchor=\"start\" x=\"293\" y=\"-52.8\" font-family=\"Helvetica,sans-Serif\" font-size=\"14.00\">gini = 0.331</text>\n",
       "<text text-anchor=\"start\" x=\"287.5\" y=\"-37.8\" font-family=\"Helvetica,sans-Serif\" font-size=\"14.00\">samples = 43</text>\n",
       "<text text-anchor=\"start\" x=\"278\" y=\"-22.8\" font-family=\"Helvetica,sans-Serif\" font-size=\"14.00\">value = [0, 34, 9]</text>\n",
       "<text text-anchor=\"start\" x=\"301\" y=\"-7.8\" font-family=\"Helvetica,sans-Serif\" font-size=\"14.00\">class = L</text>\n",
       "</g>\n",
       "<!-- 6&#45;&gt;7 -->\n",
       "<g id=\"edge7\" class=\"edge\"><title>6&#45;&gt;7</title>\n",
       "<path fill=\"none\" stroke=\"black\" d=\"M371.179,-103.726C365.742,-94.9703 359.987,-85.7032 354.523,-76.9051\"/>\n",
       "<polygon fill=\"black\" stroke=\"black\" points=\"357.428,-74.9484 349.179,-68.2996 351.481,-78.6413 357.428,-74.9484\"/>\n",
       "</g>\n",
       "<!-- 8 -->\n",
       "<g id=\"node9\" class=\"node\"><title>8</title>\n",
       "<path fill=\"#d5bdf6\" stroke=\"black\" d=\"M503.5,-68C503.5,-68 417.5,-68 417.5,-68 411.5,-68 405.5,-62 405.5,-56 405.5,-56 405.5,-12 405.5,-12 405.5,-6 411.5,-0 417.5,-0 417.5,-0 503.5,-0 503.5,-0 509.5,-0 515.5,-6 515.5,-12 515.5,-12 515.5,-56 515.5,-56 515.5,-62 509.5,-68 503.5,-68\"/>\n",
       "<text text-anchor=\"start\" x=\"425\" y=\"-52.8\" font-family=\"Helvetica,sans-Serif\" font-size=\"14.00\">gini = 0.625</text>\n",
       "<text text-anchor=\"start\" x=\"423\" y=\"-37.8\" font-family=\"Helvetica,sans-Serif\" font-size=\"14.00\">samples = 4</text>\n",
       "<text text-anchor=\"start\" x=\"413.5\" y=\"-22.8\" font-family=\"Helvetica,sans-Serif\" font-size=\"14.00\">value = [1, 1, 2]</text>\n",
       "<text text-anchor=\"start\" x=\"431\" y=\"-7.8\" font-family=\"Helvetica,sans-Serif\" font-size=\"14.00\">class = M</text>\n",
       "</g>\n",
       "<!-- 6&#45;&gt;8 -->\n",
       "<g id=\"edge8\" class=\"edge\"><title>6&#45;&gt;8</title>\n",
       "<path fill=\"none\" stroke=\"black\" d=\"M420.331,-103.726C425.396,-95.0615 430.752,-85.8962 435.847,-77.1802\"/>\n",
       "<polygon fill=\"black\" stroke=\"black\" points=\"439.013,-78.6992 441.037,-68.2996 432.969,-75.167 439.013,-78.6992\"/>\n",
       "</g>\n",
       "<!-- 10 -->\n",
       "<g id=\"node11\" class=\"node\"><title>10</title>\n",
       "<path fill=\"#a774ed\" stroke=\"black\" d=\"M766,-187C766,-187 673,-187 673,-187 667,-187 661,-181 661,-175 661,-175 661,-116 661,-116 661,-110 667,-104 673,-104 673,-104 766,-104 766,-104 772,-104 778,-110 778,-116 778,-116 778,-175 778,-175 778,-181 772,-187 766,-187\"/>\n",
       "<text text-anchor=\"start\" x=\"685.5\" y=\"-171.8\" font-family=\"Helvetica,sans-Serif\" font-size=\"14.00\">Topic ≤ 2.5</text>\n",
       "<text text-anchor=\"start\" x=\"684\" y=\"-156.8\" font-family=\"Helvetica,sans-Serif\" font-size=\"14.00\">gini = 0.381</text>\n",
       "<text text-anchor=\"start\" x=\"678.5\" y=\"-141.8\" font-family=\"Helvetica,sans-Serif\" font-size=\"14.00\">samples = 25</text>\n",
       "<text text-anchor=\"start\" x=\"669\" y=\"-126.8\" font-family=\"Helvetica,sans-Serif\" font-size=\"14.00\">value = [1, 5, 19]</text>\n",
       "<text text-anchor=\"start\" x=\"690\" y=\"-111.8\" font-family=\"Helvetica,sans-Serif\" font-size=\"14.00\">class = M</text>\n",
       "</g>\n",
       "<!-- 9&#45;&gt;10 -->\n",
       "<g id=\"edge10\" class=\"edge\"><title>9&#45;&gt;10</title>\n",
       "<path fill=\"none\" stroke=\"black\" d=\"M763.908,-222.907C758.844,-214.195 753.44,-204.897 748.207,-195.893\"/>\n",
       "<polygon fill=\"black\" stroke=\"black\" points=\"751.102,-193.908 743.051,-187.021 745.049,-197.425 751.102,-193.908\"/>\n",
       "</g>\n",
       "<!-- 13 -->\n",
       "<g id=\"node14\" class=\"node\"><title>13</title>\n",
       "<path fill=\"#d2b8f6\" stroke=\"black\" d=\"M901,-187C901,-187 808,-187 808,-187 802,-187 796,-181 796,-175 796,-175 796,-116 796,-116 796,-110 802,-104 808,-104 808,-104 901,-104 901,-104 907,-104 913,-110 913,-116 913,-116 913,-175 913,-175 913,-181 907,-187 901,-187\"/>\n",
       "<text text-anchor=\"start\" x=\"812\" y=\"-171.8\" font-family=\"Helvetica,sans-Serif\" font-size=\"14.00\">Relation ≤ 0.5</text>\n",
       "<text text-anchor=\"start\" x=\"819\" y=\"-156.8\" font-family=\"Helvetica,sans-Serif\" font-size=\"14.00\">gini = 0.517</text>\n",
       "<text text-anchor=\"start\" x=\"813.5\" y=\"-141.8\" font-family=\"Helvetica,sans-Serif\" font-size=\"14.00\">samples = 22</text>\n",
       "<text text-anchor=\"start\" x=\"804\" y=\"-126.8\" font-family=\"Helvetica,sans-Serif\" font-size=\"14.00\">value = [1, 8, 13]</text>\n",
       "<text text-anchor=\"start\" x=\"825\" y=\"-111.8\" font-family=\"Helvetica,sans-Serif\" font-size=\"14.00\">class = M</text>\n",
       "</g>\n",
       "<!-- 9&#45;&gt;13 -->\n",
       "<g id=\"edge13\" class=\"edge\"><title>9&#45;&gt;13</title>\n",
       "<path fill=\"none\" stroke=\"black\" d=\"M810.745,-222.907C815.734,-214.195 821.059,-204.897 826.215,-195.893\"/>\n",
       "<polygon fill=\"black\" stroke=\"black\" points=\"829.364,-197.438 831.296,-187.021 823.289,-193.959 829.364,-197.438\"/>\n",
       "</g>\n",
       "<!-- 11 -->\n",
       "<g id=\"node12\" class=\"node\"><title>11</title>\n",
       "<path fill=\"#e0cef8\" stroke=\"black\" d=\"M631.5,-68C631.5,-68 545.5,-68 545.5,-68 539.5,-68 533.5,-62 533.5,-56 533.5,-56 533.5,-12 533.5,-12 533.5,-6 539.5,-0 545.5,-0 545.5,-0 631.5,-0 631.5,-0 637.5,-0 643.5,-6 643.5,-12 643.5,-12 643.5,-56 643.5,-56 643.5,-62 637.5,-68 631.5,-68\"/>\n",
       "<text text-anchor=\"start\" x=\"553\" y=\"-52.8\" font-family=\"Helvetica,sans-Serif\" font-size=\"14.00\">gini = 0.556</text>\n",
       "<text text-anchor=\"start\" x=\"547.5\" y=\"-37.8\" font-family=\"Helvetica,sans-Serif\" font-size=\"14.00\">samples = 13</text>\n",
       "<text text-anchor=\"start\" x=\"541.5\" y=\"-22.8\" font-family=\"Helvetica,sans-Serif\" font-size=\"14.00\">value = [1, 5, 7]</text>\n",
       "<text text-anchor=\"start\" x=\"559\" y=\"-7.8\" font-family=\"Helvetica,sans-Serif\" font-size=\"14.00\">class = M</text>\n",
       "</g>\n",
       "<!-- 10&#45;&gt;11 -->\n",
       "<g id=\"edge11\" class=\"edge\"><title>10&#45;&gt;11</title>\n",
       "<path fill=\"none\" stroke=\"black\" d=\"M670.72,-103.726C659.372,-94.2406 647.307,-84.1551 636.014,-74.7159\"/>\n",
       "<polygon fill=\"black\" stroke=\"black\" points=\"638.255,-72.0276 628.338,-68.2996 633.766,-77.3984 638.255,-72.0276\"/>\n",
       "</g>\n",
       "<!-- 12 -->\n",
       "<g id=\"node13\" class=\"node\"><title>12</title>\n",
       "<path fill=\"#8139e5\" stroke=\"black\" d=\"M767,-68C767,-68 674,-68 674,-68 668,-68 662,-62 662,-56 662,-56 662,-12 662,-12 662,-6 668,-0 674,-0 674,-0 767,-0 767,-0 773,-0 779,-6 779,-12 779,-12 779,-56 779,-56 779,-62 773,-68 767,-68\"/>\n",
       "<text text-anchor=\"start\" x=\"692.5\" y=\"-52.8\" font-family=\"Helvetica,sans-Serif\" font-size=\"14.00\">gini = 0.0</text>\n",
       "<text text-anchor=\"start\" x=\"679.5\" y=\"-37.8\" font-family=\"Helvetica,sans-Serif\" font-size=\"14.00\">samples = 12</text>\n",
       "<text text-anchor=\"start\" x=\"670\" y=\"-22.8\" font-family=\"Helvetica,sans-Serif\" font-size=\"14.00\">value = [0, 0, 12]</text>\n",
       "<text text-anchor=\"start\" x=\"691\" y=\"-7.8\" font-family=\"Helvetica,sans-Serif\" font-size=\"14.00\">class = M</text>\n",
       "</g>\n",
       "<!-- 10&#45;&gt;12 -->\n",
       "<g id=\"edge12\" class=\"edge\"><title>10&#45;&gt;12</title>\n",
       "<path fill=\"none\" stroke=\"black\" d=\"M719.872,-103.726C719.947,-95.5175 720.026,-86.8595 720.102,-78.56\"/>\n",
       "<polygon fill=\"black\" stroke=\"black\" points=\"723.604,-78.3312 720.196,-68.2996 716.605,-78.2672 723.604,-78.3312\"/>\n",
       "</g>\n",
       "<!-- 14 -->\n",
       "<g id=\"node15\" class=\"node\"><title>14</title>\n",
       "<path fill=\"#e6fcef\" stroke=\"black\" d=\"M895.5,-68C895.5,-68 809.5,-68 809.5,-68 803.5,-68 797.5,-62 797.5,-56 797.5,-56 797.5,-12 797.5,-12 797.5,-6 803.5,-0 809.5,-0 809.5,-0 895.5,-0 895.5,-0 901.5,-0 907.5,-6 907.5,-12 907.5,-12 907.5,-56 907.5,-56 907.5,-62 901.5,-68 895.5,-68\"/>\n",
       "<text text-anchor=\"start\" x=\"817\" y=\"-52.8\" font-family=\"Helvetica,sans-Serif\" font-size=\"14.00\">gini = 0.561</text>\n",
       "<text text-anchor=\"start\" x=\"811.5\" y=\"-37.8\" font-family=\"Helvetica,sans-Serif\" font-size=\"14.00\">samples = 14</text>\n",
       "<text text-anchor=\"start\" x=\"805.5\" y=\"-22.8\" font-family=\"Helvetica,sans-Serif\" font-size=\"14.00\">value = [1, 7, 6]</text>\n",
       "<text text-anchor=\"start\" x=\"825\" y=\"-7.8\" font-family=\"Helvetica,sans-Serif\" font-size=\"14.00\">class = L</text>\n",
       "</g>\n",
       "<!-- 13&#45;&gt;14 -->\n",
       "<g id=\"edge14\" class=\"edge\"><title>13&#45;&gt;14</title>\n",
       "<path fill=\"none\" stroke=\"black\" d=\"M853.755,-103.726C853.605,-95.5175 853.447,-86.8595 853.296,-78.56\"/>\n",
       "<polygon fill=\"black\" stroke=\"black\" points=\"856.79,-78.234 853.108,-68.2996 849.792,-78.3619 856.79,-78.234\"/>\n",
       "</g>\n",
       "<!-- 15 -->\n",
       "<g id=\"node16\" class=\"node\"><title>15</title>\n",
       "<path fill=\"#9355e9\" stroke=\"black\" d=\"M1023.5,-68C1023.5,-68 937.5,-68 937.5,-68 931.5,-68 925.5,-62 925.5,-56 925.5,-56 925.5,-12 925.5,-12 925.5,-6 931.5,-0 937.5,-0 937.5,-0 1023.5,-0 1023.5,-0 1029.5,-0 1035.5,-6 1035.5,-12 1035.5,-12 1035.5,-56 1035.5,-56 1035.5,-62 1029.5,-68 1023.5,-68\"/>\n",
       "<text text-anchor=\"start\" x=\"945\" y=\"-52.8\" font-family=\"Helvetica,sans-Serif\" font-size=\"14.00\">gini = 0.219</text>\n",
       "<text text-anchor=\"start\" x=\"943\" y=\"-37.8\" font-family=\"Helvetica,sans-Serif\" font-size=\"14.00\">samples = 8</text>\n",
       "<text text-anchor=\"start\" x=\"933.5\" y=\"-22.8\" font-family=\"Helvetica,sans-Serif\" font-size=\"14.00\">value = [0, 1, 7]</text>\n",
       "<text text-anchor=\"start\" x=\"951\" y=\"-7.8\" font-family=\"Helvetica,sans-Serif\" font-size=\"14.00\">class = M</text>\n",
       "</g>\n",
       "<!-- 13&#45;&gt;15 -->\n",
       "<g id=\"edge15\" class=\"edge\"><title>13&#45;&gt;15</title>\n",
       "<path fill=\"none\" stroke=\"black\" d=\"M901.418,-103.726C912.228,-94.3318 923.715,-84.349 934.486,-74.9883\"/>\n",
       "<polygon fill=\"black\" stroke=\"black\" points=\"936.93,-77.501 942.183,-68.2996 932.339,-72.2174 936.93,-77.501\"/>\n",
       "</g>\n",
       "<!-- 17 -->\n",
       "<g id=\"node18\" class=\"node\"><title>17</title>\n",
       "<path fill=\"#c4a2f3\" stroke=\"black\" d=\"M1402.5,-306C1402.5,-306 1230.5,-306 1230.5,-306 1224.5,-306 1218.5,-300 1218.5,-294 1218.5,-294 1218.5,-235 1218.5,-235 1218.5,-229 1224.5,-223 1230.5,-223 1230.5,-223 1402.5,-223 1402.5,-223 1408.5,-223 1414.5,-229 1414.5,-235 1414.5,-235 1414.5,-294 1414.5,-294 1414.5,-300 1408.5,-306 1402.5,-306\"/>\n",
       "<text text-anchor=\"start\" x=\"1226.5\" y=\"-290.8\" font-family=\"Helvetica,sans-Serif\" font-size=\"14.00\">ParentAnsweringSurvey ≤ 0.5</text>\n",
       "<text text-anchor=\"start\" x=\"1281\" y=\"-275.8\" font-family=\"Helvetica,sans-Serif\" font-size=\"14.00\">gini = 0.524</text>\n",
       "<text text-anchor=\"start\" x=\"1271.5\" y=\"-260.8\" font-family=\"Helvetica,sans-Serif\" font-size=\"14.00\">samples = 108</text>\n",
       "<text text-anchor=\"start\" x=\"1258.5\" y=\"-245.8\" font-family=\"Helvetica,sans-Serif\" font-size=\"14.00\">value = [31, 10, 67]</text>\n",
       "<text text-anchor=\"start\" x=\"1287\" y=\"-230.8\" font-family=\"Helvetica,sans-Serif\" font-size=\"14.00\">class = M</text>\n",
       "</g>\n",
       "<!-- 16&#45;&gt;17 -->\n",
       "<g id=\"edge17\" class=\"edge\"><title>16&#45;&gt;17</title>\n",
       "<path fill=\"none\" stroke=\"black\" d=\"M1316.5,-341.907C1316.5,-333.649 1316.5,-324.864 1316.5,-316.302\"/>\n",
       "<polygon fill=\"black\" stroke=\"black\" points=\"1320,-316.021 1316.5,-306.021 1313,-316.021 1320,-316.021\"/>\n",
       "</g>\n",
       "<!-- 24 -->\n",
       "<g id=\"node25\" class=\"node\"><title>24</title>\n",
       "<path fill=\"#f2be9a\" stroke=\"black\" d=\"M1756,-306C1756,-306 1655,-306 1655,-306 1649,-306 1643,-300 1643,-294 1643,-294 1643,-235 1643,-235 1643,-229 1649,-223 1655,-223 1655,-223 1756,-223 1756,-223 1762,-223 1768,-229 1768,-235 1768,-235 1768,-294 1768,-294 1768,-300 1762,-306 1756,-306\"/>\n",
       "<text text-anchor=\"start\" x=\"1667\" y=\"-290.8\" font-family=\"Helvetica,sans-Serif\" font-size=\"14.00\">gender ≤ 0.5</text>\n",
       "<text text-anchor=\"start\" x=\"1670\" y=\"-275.8\" font-family=\"Helvetica,sans-Serif\" font-size=\"14.00\">gini = 0.441</text>\n",
       "<text text-anchor=\"start\" x=\"1660.5\" y=\"-260.8\" font-family=\"Helvetica,sans-Serif\" font-size=\"14.00\">samples = 119</text>\n",
       "<text text-anchor=\"start\" x=\"1651\" y=\"-245.8\" font-family=\"Helvetica,sans-Serif\" font-size=\"14.00\">value = [80, 0, 39]</text>\n",
       "<text text-anchor=\"start\" x=\"1677\" y=\"-230.8\" font-family=\"Helvetica,sans-Serif\" font-size=\"14.00\">class = H</text>\n",
       "</g>\n",
       "<!-- 16&#45;&gt;24 -->\n",
       "<g id=\"edge24\" class=\"edge\"><title>16&#45;&gt;24</title>\n",
       "<path fill=\"none\" stroke=\"black\" d=\"M1390.13,-360.356C1459.72,-339.424 1563.52,-308.203 1632.81,-287.363\"/>\n",
       "<polygon fill=\"black\" stroke=\"black\" points=\"1634.2,-290.598 1642.77,-284.366 1632.19,-283.895 1634.2,-290.598\"/>\n",
       "</g>\n",
       "<!-- 18 -->\n",
       "<g id=\"node19\" class=\"node\"><title>18</title>\n",
       "<path fill=\"#a673ed\" stroke=\"black\" d=\"M1294,-187C1294,-187 1201,-187 1201,-187 1195,-187 1189,-181 1189,-175 1189,-175 1189,-116 1189,-116 1189,-110 1195,-104 1201,-104 1201,-104 1294,-104 1294,-104 1300,-104 1306,-110 1306,-116 1306,-116 1306,-175 1306,-175 1306,-181 1300,-187 1294,-187\"/>\n",
       "<text text-anchor=\"start\" x=\"1209\" y=\"-171.8\" font-family=\"Helvetica,sans-Serif\" font-size=\"14.00\">gender ≤ 0.5</text>\n",
       "<text text-anchor=\"start\" x=\"1212\" y=\"-156.8\" font-family=\"Helvetica,sans-Serif\" font-size=\"14.00\">gini = 0.405</text>\n",
       "<text text-anchor=\"start\" x=\"1206.5\" y=\"-141.8\" font-family=\"Helvetica,sans-Serif\" font-size=\"14.00\">samples = 40</text>\n",
       "<text text-anchor=\"start\" x=\"1197\" y=\"-126.8\" font-family=\"Helvetica,sans-Serif\" font-size=\"14.00\">value = [4, 6, 30]</text>\n",
       "<text text-anchor=\"start\" x=\"1218\" y=\"-111.8\" font-family=\"Helvetica,sans-Serif\" font-size=\"14.00\">class = M</text>\n",
       "</g>\n",
       "<!-- 17&#45;&gt;18 -->\n",
       "<g id=\"edge18\" class=\"edge\"><title>17&#45;&gt;18</title>\n",
       "<path fill=\"none\" stroke=\"black\" d=\"M1292.56,-222.907C1287.42,-214.195 1281.94,-204.897 1276.63,-195.893\"/>\n",
       "<polygon fill=\"black\" stroke=\"black\" points=\"1279.49,-193.857 1271.4,-187.021 1273.46,-197.412 1279.49,-193.857\"/>\n",
       "</g>\n",
       "<!-- 21 -->\n",
       "<g id=\"node22\" class=\"node\"><title>21</title>\n",
       "<path fill=\"#e0cff9\" stroke=\"black\" d=\"M1437,-187C1437,-187 1336,-187 1336,-187 1330,-187 1324,-181 1324,-175 1324,-175 1324,-116 1324,-116 1324,-110 1330,-104 1336,-104 1336,-104 1437,-104 1437,-104 1443,-104 1449,-110 1449,-116 1449,-116 1449,-175 1449,-175 1449,-181 1443,-187 1437,-187\"/>\n",
       "<text text-anchor=\"start\" x=\"1344.5\" y=\"-171.8\" font-family=\"Helvetica,sans-Serif\" font-size=\"14.00\">StageID ≤ 1.5</text>\n",
       "<text text-anchor=\"start\" x=\"1351\" y=\"-156.8\" font-family=\"Helvetica,sans-Serif\" font-size=\"14.00\">gini = 0.543</text>\n",
       "<text text-anchor=\"start\" x=\"1345.5\" y=\"-141.8\" font-family=\"Helvetica,sans-Serif\" font-size=\"14.00\">samples = 68</text>\n",
       "<text text-anchor=\"start\" x=\"1332\" y=\"-126.8\" font-family=\"Helvetica,sans-Serif\" font-size=\"14.00\">value = [27, 4, 37]</text>\n",
       "<text text-anchor=\"start\" x=\"1357\" y=\"-111.8\" font-family=\"Helvetica,sans-Serif\" font-size=\"14.00\">class = M</text>\n",
       "</g>\n",
       "<!-- 17&#45;&gt;21 -->\n",
       "<g id=\"edge21\" class=\"edge\"><title>17&#45;&gt;21</title>\n",
       "<path fill=\"none\" stroke=\"black\" d=\"M1340.79,-222.907C1346.05,-214.105 1351.68,-204.703 1357.12,-195.612\"/>\n",
       "<polygon fill=\"black\" stroke=\"black\" points=\"1360.13,-197.399 1362.26,-187.021 1354.12,-193.805 1360.13,-197.399\"/>\n",
       "</g>\n",
       "<!-- 19 -->\n",
       "<g id=\"node20\" class=\"node\"><title>19</title>\n",
       "<path fill=\"#9050e8\" stroke=\"black\" d=\"M1159,-68C1159,-68 1066,-68 1066,-68 1060,-68 1054,-62 1054,-56 1054,-56 1054,-12 1054,-12 1054,-6 1060,-0 1066,-0 1066,-0 1159,-0 1159,-0 1165,-0 1171,-6 1171,-12 1171,-12 1171,-56 1171,-56 1171,-62 1165,-68 1159,-68\"/>\n",
       "<text text-anchor=\"start\" x=\"1077\" y=\"-52.8\" font-family=\"Helvetica,sans-Serif\" font-size=\"14.00\">gini = 0.204</text>\n",
       "<text text-anchor=\"start\" x=\"1071.5\" y=\"-37.8\" font-family=\"Helvetica,sans-Serif\" font-size=\"14.00\">samples = 18</text>\n",
       "<text text-anchor=\"start\" x=\"1062\" y=\"-22.8\" font-family=\"Helvetica,sans-Serif\" font-size=\"14.00\">value = [1, 1, 16]</text>\n",
       "<text text-anchor=\"start\" x=\"1083\" y=\"-7.8\" font-family=\"Helvetica,sans-Serif\" font-size=\"14.00\">class = M</text>\n",
       "</g>\n",
       "<!-- 18&#45;&gt;19 -->\n",
       "<g id=\"edge19\" class=\"edge\"><title>18&#45;&gt;19</title>\n",
       "<path fill=\"none\" stroke=\"black\" d=\"M1197.23,-103.726C1185.54,-94.2406 1173.1,-84.1551 1161.46,-74.7159\"/>\n",
       "<polygon fill=\"black\" stroke=\"black\" points=\"1163.53,-71.8808 1153.55,-68.2996 1159.12,-77.3173 1163.53,-71.8808\"/>\n",
       "</g>\n",
       "<!-- 20 -->\n",
       "<g id=\"node21\" class=\"node\"><title>20</title>\n",
       "<path fill=\"#bc96f1\" stroke=\"black\" d=\"M1294,-68C1294,-68 1201,-68 1201,-68 1195,-68 1189,-62 1189,-56 1189,-56 1189,-12 1189,-12 1189,-6 1195,-0 1201,-0 1201,-0 1294,-0 1294,-0 1300,-0 1306,-6 1306,-12 1306,-12 1306,-56 1306,-56 1306,-62 1300,-68 1294,-68\"/>\n",
       "<text text-anchor=\"start\" x=\"1212\" y=\"-52.8\" font-family=\"Helvetica,sans-Serif\" font-size=\"14.00\">gini = 0.525</text>\n",
       "<text text-anchor=\"start\" x=\"1206.5\" y=\"-37.8\" font-family=\"Helvetica,sans-Serif\" font-size=\"14.00\">samples = 22</text>\n",
       "<text text-anchor=\"start\" x=\"1197\" y=\"-22.8\" font-family=\"Helvetica,sans-Serif\" font-size=\"14.00\">value = [3, 5, 14]</text>\n",
       "<text text-anchor=\"start\" x=\"1218\" y=\"-7.8\" font-family=\"Helvetica,sans-Serif\" font-size=\"14.00\">class = M</text>\n",
       "</g>\n",
       "<!-- 18&#45;&gt;20 -->\n",
       "<g id=\"edge20\" class=\"edge\"><title>18&#45;&gt;20</title>\n",
       "<path fill=\"none\" stroke=\"black\" d=\"M1247.5,-103.726C1247.5,-95.5175 1247.5,-86.8595 1247.5,-78.56\"/>\n",
       "<polygon fill=\"black\" stroke=\"black\" points=\"1251,-78.2996 1247.5,-68.2996 1244,-78.2996 1251,-78.2996\"/>\n",
       "</g>\n",
       "<!-- 22 -->\n",
       "<g id=\"node23\" class=\"node\"><title>22</title>\n",
       "<path fill=\"#c09cf2\" stroke=\"black\" d=\"M1437,-68C1437,-68 1336,-68 1336,-68 1330,-68 1324,-62 1324,-56 1324,-56 1324,-12 1324,-12 1324,-6 1330,-0 1336,-0 1336,-0 1437,-0 1437,-0 1443,-0 1449,-6 1449,-12 1449,-12 1449,-56 1449,-56 1449,-62 1443,-68 1437,-68\"/>\n",
       "<text text-anchor=\"start\" x=\"1354.5\" y=\"-52.8\" font-family=\"Helvetica,sans-Serif\" font-size=\"14.00\">gini = 0.48</text>\n",
       "<text text-anchor=\"start\" x=\"1345.5\" y=\"-37.8\" font-family=\"Helvetica,sans-Serif\" font-size=\"14.00\">samples = 46</text>\n",
       "<text text-anchor=\"start\" x=\"1332\" y=\"-22.8\" font-family=\"Helvetica,sans-Serif\" font-size=\"14.00\">value = [14, 2, 30]</text>\n",
       "<text text-anchor=\"start\" x=\"1357\" y=\"-7.8\" font-family=\"Helvetica,sans-Serif\" font-size=\"14.00\">class = M</text>\n",
       "</g>\n",
       "<!-- 21&#45;&gt;22 -->\n",
       "<g id=\"edge22\" class=\"edge\"><title>21&#45;&gt;22</title>\n",
       "<path fill=\"none\" stroke=\"black\" d=\"M1386.5,-103.726C1386.5,-95.5175 1386.5,-86.8595 1386.5,-78.56\"/>\n",
       "<polygon fill=\"black\" stroke=\"black\" points=\"1390,-78.2996 1386.5,-68.2996 1383,-78.2996 1390,-78.2996\"/>\n",
       "</g>\n",
       "<!-- 23 -->\n",
       "<g id=\"node24\" class=\"node\"><title>23</title>\n",
       "<path fill=\"#f5cdb0\" stroke=\"black\" d=\"M1572,-68C1572,-68 1479,-68 1479,-68 1473,-68 1467,-62 1467,-56 1467,-56 1467,-12 1467,-12 1467,-6 1473,-0 1479,-0 1479,-0 1572,-0 1572,-0 1578,-0 1584,-6 1584,-12 1584,-12 1584,-56 1584,-56 1584,-62 1578,-68 1572,-68\"/>\n",
       "<text text-anchor=\"start\" x=\"1490\" y=\"-52.8\" font-family=\"Helvetica,sans-Serif\" font-size=\"14.00\">gini = 0.541</text>\n",
       "<text text-anchor=\"start\" x=\"1484.5\" y=\"-37.8\" font-family=\"Helvetica,sans-Serif\" font-size=\"14.00\">samples = 22</text>\n",
       "<text text-anchor=\"start\" x=\"1475\" y=\"-22.8\" font-family=\"Helvetica,sans-Serif\" font-size=\"14.00\">value = [13, 2, 7]</text>\n",
       "<text text-anchor=\"start\" x=\"1497\" y=\"-7.8\" font-family=\"Helvetica,sans-Serif\" font-size=\"14.00\">class = H</text>\n",
       "</g>\n",
       "<!-- 21&#45;&gt;23 -->\n",
       "<g id=\"edge23\" class=\"edge\"><title>21&#45;&gt;23</title>\n",
       "<path fill=\"none\" stroke=\"black\" d=\"M1438.26,-103.726C1450.3,-94.2406 1463.1,-84.1551 1475.08,-74.7159\"/>\n",
       "<polygon fill=\"black\" stroke=\"black\" points=\"1477.54,-77.2372 1483.23,-68.2996 1473.21,-71.7385 1477.54,-77.2372\"/>\n",
       "</g>\n",
       "<!-- 25 -->\n",
       "<g id=\"node26\" class=\"node\"><title>25</title>\n",
       "<path fill=\"#ea9b62\" stroke=\"black\" d=\"M1756,-187C1756,-187 1655,-187 1655,-187 1649,-187 1643,-181 1643,-175 1643,-175 1643,-116 1643,-116 1643,-110 1649,-104 1655,-104 1655,-104 1756,-104 1756,-104 1762,-104 1768,-110 1768,-116 1768,-116 1768,-175 1768,-175 1768,-181 1762,-187 1756,-187\"/>\n",
       "<text text-anchor=\"start\" x=\"1663.5\" y=\"-171.8\" font-family=\"Helvetica,sans-Serif\" font-size=\"14.00\">StageID ≤ 1.5</text>\n",
       "<text text-anchor=\"start\" x=\"1670\" y=\"-156.8\" font-family=\"Helvetica,sans-Serif\" font-size=\"14.00\">gini = 0.285</text>\n",
       "<text text-anchor=\"start\" x=\"1664.5\" y=\"-141.8\" font-family=\"Helvetica,sans-Serif\" font-size=\"14.00\">samples = 64</text>\n",
       "<text text-anchor=\"start\" x=\"1651\" y=\"-126.8\" font-family=\"Helvetica,sans-Serif\" font-size=\"14.00\">value = [53, 0, 11]</text>\n",
       "<text text-anchor=\"start\" x=\"1677\" y=\"-111.8\" font-family=\"Helvetica,sans-Serif\" font-size=\"14.00\">class = H</text>\n",
       "</g>\n",
       "<!-- 24&#45;&gt;25 -->\n",
       "<g id=\"edge25\" class=\"edge\"><title>24&#45;&gt;25</title>\n",
       "<path fill=\"none\" stroke=\"black\" d=\"M1705.5,-222.907C1705.5,-214.649 1705.5,-205.864 1705.5,-197.302\"/>\n",
       "<polygon fill=\"black\" stroke=\"black\" points=\"1709,-197.021 1705.5,-187.021 1702,-197.021 1709,-197.021\"/>\n",
       "</g>\n",
       "<!-- 28 -->\n",
       "<g id=\"node29\" class=\"node\"><title>28</title>\n",
       "<path fill=\"#faf8fe\" stroke=\"black\" d=\"M2016.5,-187C2016.5,-187 1844.5,-187 1844.5,-187 1838.5,-187 1832.5,-181 1832.5,-175 1832.5,-175 1832.5,-116 1832.5,-116 1832.5,-110 1838.5,-104 1844.5,-104 1844.5,-104 2016.5,-104 2016.5,-104 2022.5,-104 2028.5,-110 2028.5,-116 2028.5,-116 2028.5,-175 2028.5,-175 2028.5,-181 2022.5,-187 2016.5,-187\"/>\n",
       "<text text-anchor=\"start\" x=\"1840.5\" y=\"-171.8\" font-family=\"Helvetica,sans-Serif\" font-size=\"14.00\">ParentAnsweringSurvey ≤ 0.5</text>\n",
       "<text text-anchor=\"start\" x=\"1902.5\" y=\"-156.8\" font-family=\"Helvetica,sans-Serif\" font-size=\"14.00\">gini = 0.5</text>\n",
       "<text text-anchor=\"start\" x=\"1889.5\" y=\"-141.8\" font-family=\"Helvetica,sans-Serif\" font-size=\"14.00\">samples = 55</text>\n",
       "<text text-anchor=\"start\" x=\"1876\" y=\"-126.8\" font-family=\"Helvetica,sans-Serif\" font-size=\"14.00\">value = [27, 0, 28]</text>\n",
       "<text text-anchor=\"start\" x=\"1901\" y=\"-111.8\" font-family=\"Helvetica,sans-Serif\" font-size=\"14.00\">class = M</text>\n",
       "</g>\n",
       "<!-- 24&#45;&gt;28 -->\n",
       "<g id=\"edge28\" class=\"edge\"><title>24&#45;&gt;28</title>\n",
       "<path fill=\"none\" stroke=\"black\" d=\"M1768.18,-230.909C1791.45,-218.805 1818.3,-204.846 1843.37,-191.809\"/>\n",
       "<polygon fill=\"black\" stroke=\"black\" points=\"1845.26,-194.772 1852.51,-187.053 1842.03,-188.561 1845.26,-194.772\"/>\n",
       "</g>\n",
       "<!-- 26 -->\n",
       "<g id=\"node27\" class=\"node\"><title>26</title>\n",
       "<path fill=\"#e78a47\" stroke=\"black\" d=\"M1707,-68C1707,-68 1614,-68 1614,-68 1608,-68 1602,-62 1602,-56 1602,-56 1602,-12 1602,-12 1602,-6 1608,-0 1614,-0 1614,-0 1707,-0 1707,-0 1713,-0 1719,-6 1719,-12 1719,-12 1719,-56 1719,-56 1719,-62 1713,-68 1707,-68\"/>\n",
       "<text text-anchor=\"start\" x=\"1625\" y=\"-52.8\" font-family=\"Helvetica,sans-Serif\" font-size=\"14.00\">gini = 0.121</text>\n",
       "<text text-anchor=\"start\" x=\"1619.5\" y=\"-37.8\" font-family=\"Helvetica,sans-Serif\" font-size=\"14.00\">samples = 31</text>\n",
       "<text text-anchor=\"start\" x=\"1610\" y=\"-22.8\" font-family=\"Helvetica,sans-Serif\" font-size=\"14.00\">value = [29, 0, 2]</text>\n",
       "<text text-anchor=\"start\" x=\"1632\" y=\"-7.8\" font-family=\"Helvetica,sans-Serif\" font-size=\"14.00\">class = H</text>\n",
       "</g>\n",
       "<!-- 25&#45;&gt;26 -->\n",
       "<g id=\"edge26\" class=\"edge\"><title>25&#45;&gt;26</title>\n",
       "<path fill=\"none\" stroke=\"black\" d=\"M1688.74,-103.726C1685.26,-95.2439 1681.57,-86.2819 1678.06,-77.7312\"/>\n",
       "<polygon fill=\"black\" stroke=\"black\" points=\"1681.22,-76.2186 1674.18,-68.2996 1674.75,-78.8794 1681.22,-76.2186\"/>\n",
       "</g>\n",
       "<!-- 27 -->\n",
       "<g id=\"node28\" class=\"node\"><title>27</title>\n",
       "<path fill=\"#efb083\" stroke=\"black\" d=\"M1842,-68C1842,-68 1749,-68 1749,-68 1743,-68 1737,-62 1737,-56 1737,-56 1737,-12 1737,-12 1737,-6 1743,-0 1749,-0 1749,-0 1842,-0 1842,-0 1848,-0 1854,-6 1854,-12 1854,-12 1854,-56 1854,-56 1854,-62 1848,-68 1842,-68\"/>\n",
       "<text text-anchor=\"start\" x=\"1760\" y=\"-52.8\" font-family=\"Helvetica,sans-Serif\" font-size=\"14.00\">gini = 0.397</text>\n",
       "<text text-anchor=\"start\" x=\"1754.5\" y=\"-37.8\" font-family=\"Helvetica,sans-Serif\" font-size=\"14.00\">samples = 33</text>\n",
       "<text text-anchor=\"start\" x=\"1745\" y=\"-22.8\" font-family=\"Helvetica,sans-Serif\" font-size=\"14.00\">value = [24, 0, 9]</text>\n",
       "<text text-anchor=\"start\" x=\"1767\" y=\"-7.8\" font-family=\"Helvetica,sans-Serif\" font-size=\"14.00\">class = H</text>\n",
       "</g>\n",
       "<!-- 25&#45;&gt;27 -->\n",
       "<g id=\"edge27\" class=\"edge\"><title>25&#45;&gt;27</title>\n",
       "<path fill=\"none\" stroke=\"black\" d=\"M1739.01,-103.726C1746.43,-94.6966 1754.3,-85.1235 1761.73,-76.0816\"/>\n",
       "<polygon fill=\"black\" stroke=\"black\" points=\"1764.48,-78.2474 1768.13,-68.2996 1759.08,-73.8026 1764.48,-78.2474\"/>\n",
       "</g>\n",
       "<!-- 29 -->\n",
       "<g id=\"node30\" class=\"node\"><title>29</title>\n",
       "<path fill=\"#9457e9\" stroke=\"black\" d=\"M1977,-68C1977,-68 1884,-68 1884,-68 1878,-68 1872,-62 1872,-56 1872,-56 1872,-12 1872,-12 1872,-6 1878,-0 1884,-0 1884,-0 1977,-0 1977,-0 1983,-0 1989,-6 1989,-12 1989,-12 1989,-56 1989,-56 1989,-62 1983,-68 1977,-68\"/>\n",
       "<text text-anchor=\"start\" x=\"1895\" y=\"-52.8\" font-family=\"Helvetica,sans-Serif\" font-size=\"14.00\">gini = 0.231</text>\n",
       "<text text-anchor=\"start\" x=\"1889.5\" y=\"-37.8\" font-family=\"Helvetica,sans-Serif\" font-size=\"14.00\">samples = 15</text>\n",
       "<text text-anchor=\"start\" x=\"1880\" y=\"-22.8\" font-family=\"Helvetica,sans-Serif\" font-size=\"14.00\">value = [2, 0, 13]</text>\n",
       "<text text-anchor=\"start\" x=\"1901\" y=\"-7.8\" font-family=\"Helvetica,sans-Serif\" font-size=\"14.00\">class = M</text>\n",
       "</g>\n",
       "<!-- 28&#45;&gt;29 -->\n",
       "<g id=\"edge29\" class=\"edge\"><title>28&#45;&gt;29</title>\n",
       "<path fill=\"none\" stroke=\"black\" d=\"M1930.5,-103.726C1930.5,-95.5175 1930.5,-86.8595 1930.5,-78.56\"/>\n",
       "<polygon fill=\"black\" stroke=\"black\" points=\"1934,-78.2996 1930.5,-68.2996 1927,-78.2996 1934,-78.2996\"/>\n",
       "</g>\n",
       "<!-- 30 -->\n",
       "<g id=\"node31\" class=\"node\"><title>30</title>\n",
       "<path fill=\"#f5cdb0\" stroke=\"black\" d=\"M2120,-68C2120,-68 2019,-68 2019,-68 2013,-68 2007,-62 2007,-56 2007,-56 2007,-12 2007,-12 2007,-6 2013,-0 2019,-0 2019,-0 2120,-0 2120,-0 2126,-0 2132,-6 2132,-12 2132,-12 2132,-56 2132,-56 2132,-62 2126,-68 2120,-68\"/>\n",
       "<text text-anchor=\"start\" x=\"2034\" y=\"-52.8\" font-family=\"Helvetica,sans-Serif\" font-size=\"14.00\">gini = 0.469</text>\n",
       "<text text-anchor=\"start\" x=\"2028.5\" y=\"-37.8\" font-family=\"Helvetica,sans-Serif\" font-size=\"14.00\">samples = 40</text>\n",
       "<text text-anchor=\"start\" x=\"2015\" y=\"-22.8\" font-family=\"Helvetica,sans-Serif\" font-size=\"14.00\">value = [25, 0, 15]</text>\n",
       "<text text-anchor=\"start\" x=\"2041\" y=\"-7.8\" font-family=\"Helvetica,sans-Serif\" font-size=\"14.00\">class = H</text>\n",
       "</g>\n",
       "<!-- 28&#45;&gt;30 -->\n",
       "<g id=\"edge30\" class=\"edge\"><title>28&#45;&gt;30</title>\n",
       "<path fill=\"none\" stroke=\"black\" d=\"M1982.26,-103.726C1994.3,-94.2406 2007.1,-84.1551 2019.08,-74.7159\"/>\n",
       "<polygon fill=\"black\" stroke=\"black\" points=\"2021.54,-77.2372 2027.23,-68.2996 2017.21,-71.7385 2021.54,-77.2372\"/>\n",
       "</g>\n",
       "</g>\n",
       "</svg>\n"
      ],
      "text/plain": [
       "<graphviz.files.Source at 0x7fc9da8bfcf8>"
      ]
     },
     "execution_count": 33,
     "metadata": {},
     "output_type": "execute_result"
    }
   ],
   "source": [
    "graph"
   ]
  },
  {
   "cell_type": "code",
   "execution_count": 34,
   "metadata": {},
   "outputs": [
    {
     "name": "stdout",
     "output_type": "stream",
     "text": [
      "|--- StudentAbsenceDays <= 0.50\n",
      "|   |--- ParentAnsweringSurvey <= 0.50\n",
      "|   |   |--- Topic <= 6.50\n",
      "|   |   |   |--- Topic <= 0.50\n",
      "|   |   |   |   |--- class: 1\n",
      "|   |   |   |--- Topic >  0.50\n",
      "|   |   |   |   |--- class: 1\n",
      "|   |   |--- Topic >  6.50\n",
      "|   |   |   |--- Relation <= 0.50\n",
      "|   |   |   |   |--- class: 1\n",
      "|   |   |   |--- Relation >  0.50\n",
      "|   |   |   |   |--- class: 2\n",
      "|   |--- ParentAnsweringSurvey >  0.50\n",
      "|   |   |--- Topic <= 6.50\n",
      "|   |   |   |--- Topic <= 2.50\n",
      "|   |   |   |   |--- class: 2\n",
      "|   |   |   |--- Topic >  2.50\n",
      "|   |   |   |   |--- class: 2\n",
      "|   |   |--- Topic >  6.50\n",
      "|   |   |   |--- Relation <= 0.50\n",
      "|   |   |   |   |--- class: 1\n",
      "|   |   |   |--- Relation >  0.50\n",
      "|   |   |   |   |--- class: 2\n",
      "|--- StudentAbsenceDays >  0.50\n",
      "|   |--- Relation <= 0.50\n",
      "|   |   |--- ParentAnsweringSurvey <= 0.50\n",
      "|   |   |   |--- gender <= 0.50\n",
      "|   |   |   |   |--- class: 2\n",
      "|   |   |   |--- gender >  0.50\n",
      "|   |   |   |   |--- class: 2\n",
      "|   |   |--- ParentAnsweringSurvey >  0.50\n",
      "|   |   |   |--- StageID <= 1.50\n",
      "|   |   |   |   |--- class: 2\n",
      "|   |   |   |--- StageID >  1.50\n",
      "|   |   |   |   |--- class: 0\n",
      "|   |--- Relation >  0.50\n",
      "|   |   |--- gender <= 0.50\n",
      "|   |   |   |--- StageID <= 1.50\n",
      "|   |   |   |   |--- class: 0\n",
      "|   |   |   |--- StageID >  1.50\n",
      "|   |   |   |   |--- class: 0\n",
      "|   |   |--- gender >  0.50\n",
      "|   |   |   |--- ParentAnsweringSurvey <= 0.50\n",
      "|   |   |   |   |--- class: 2\n",
      "|   |   |   |--- ParentAnsweringSurvey >  0.50\n",
      "|   |   |   |   |--- class: 0\n",
      "\n"
     ]
    }
   ],
   "source": [
    "from sklearn.tree.export import export_text\n",
    "\n",
    "r = export_text(dt, feature_names=DT_FEATURE_TO_USE)\n",
    "print(r)"
   ]
  },
  {
   "cell_type": "code",
   "execution_count": 35,
   "metadata": {},
   "outputs": [
    {
     "name": "stdout",
     "output_type": "stream",
     "text": [
      "==== acc ====\n",
      "0.7333333333333333\n",
      "==== report ====\n",
      "              precision    recall  f1-score   support\n",
      "\n",
      "           0       0.60      0.64      0.62        28\n",
      "           1       0.80      0.94      0.86        34\n",
      "           2       0.76      0.66      0.70        58\n",
      "\n",
      "    accuracy                           0.73       120\n",
      "   macro avg       0.72      0.75      0.73       120\n",
      "weighted avg       0.73      0.73      0.73       120\n",
      "\n"
     ]
    }
   ],
   "source": [
    "pred = dt.predict(X_test)\n",
    "score = accuracy_score(y_test,pred)\n",
    "report = classification_report(y_test,pred)\n",
    "print('==== acc ====')\n",
    "print(score)\n",
    "print('==== report ====')\n",
    "print(report)"
   ]
  },
  {
   "cell_type": "markdown",
   "metadata": {},
   "source": [
    "### 总结\n",
    "\n",
    "1. 从logistic回归可以看到，剔除父母问卷调查参与度与父母具体负责人都对分类结果有着相同程度的影响。这说明两者对于学生最终表现的影响差异不大。\n",
    "2. 决策树进一步阐述了两者的影响，当学生自身不努力（缺勤程度较高时）父母问卷参与调查显得尤为重要，参与问卷后学生成绩普遍能达到'M'而不是'L'。当学生自身努力时，母亲的参与能为孩子提供助力，学生成绩普遍是'H'。"
   ]
  },
  {
   "cell_type": "code",
   "execution_count": null,
   "metadata": {},
   "outputs": [],
   "source": []
  }
 ],
 "metadata": {
  "kernelspec": {
   "display_name": "Python 3",
   "language": "python",
   "name": "python3"
  },
  "language_info": {
   "codemirror_mode": {
    "name": "ipython",
    "version": 3
   },
   "file_extension": ".py",
   "mimetype": "text/x-python",
   "name": "python",
   "nbconvert_exporter": "python",
   "pygments_lexer": "ipython3",
   "version": "3.6.6"
  }
 },
 "nbformat": 4,
 "nbformat_minor": 1
}
