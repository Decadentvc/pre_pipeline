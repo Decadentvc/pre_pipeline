{
 "cells": [
  {
   "cell_type": "markdown",
   "execution_count": null,
   "metadata": {
    "papermill": {
     "duration": 0.027789,
     "end_time": "2020-08-14T21:35:23.580455",
     "exception": false,
     "start_time": "2020-08-14T21:35:23.552666",
     "status": "completed"
    },
    "tags": []
   },
   "source": [
    "# Alman Kredi Riskini Tahmin Etme"
   ]
  },
  {
   "cell_type": "markdown",
   "execution_count": null,
   "metadata": {
    "papermill": {
     "duration": 0.021464,
     "end_time": "2020-08-14T21:35:23.625400",
     "exception": false,
     "start_time": "2020-08-14T21:35:23.603936",
     "status": "completed"
    },
    "tags": []
   },
   "source": [
    "# 1) Verinin Keşfi (EDA)"
   ]
  },
  {
   "cell_type": "code",
   "execution_count": 1,
   "metadata": {
    "_cell_guid": "79c7e3d0-c299-4dcb-8224-4455121ee9b0",
    "_uuid": "d629ff2d2480ee46fbb7e2d37f6b5fab8052498a",
    "execution": {
     "iopub.execute_input": "2020-08-14T21:35:23.677565Z",
     "iopub.status.busy": "2020-08-14T21:35:23.676753Z",
     "iopub.status.idle": "2020-08-14T21:35:25.274114Z",
     "shell.execute_reply": "2020-08-14T21:35:25.273177Z"
    },
    "papermill": {
     "duration": 1.626984,
     "end_time": "2020-08-14T21:35:25.274272",
     "exception": false,
     "start_time": "2020-08-14T21:35:23.647288",
     "status": "completed"
    },
    "tags": []
   },
   "outputs": [],
   "source": [
    "import pandas as pd\n",
    "import numpy as np\n",
    "import seaborn as sns\n",
    "import matplotlib.pyplot as plt"
   ]
  },
  {
   "cell_type": "code",
   "execution_count": 2,
   "metadata": {
    "execution": {
     "iopub.execute_input": "2020-08-14T21:35:25.329332Z",
     "iopub.status.busy": "2020-08-14T21:35:25.328335Z",
     "iopub.status.idle": "2020-08-14T21:35:25.361283Z",
     "shell.execute_reply": "2020-08-14T21:35:25.360517Z"
    },
    "papermill": {
     "duration": 0.065351,
     "end_time": "2020-08-14T21:35:25.361462",
     "exception": false,
     "start_time": "2020-08-14T21:35:25.296111",
     "status": "completed"
    },
    "tags": []
   },
   "outputs": [],
   "source": [
    "risk = pd.read_csv(\"../input/german-credit-data-with-risk/german_credit_data.csv\", index_col = \"Unnamed: 0\")\n",
    "df = risk.copy()"
   ]
  },
  {
   "cell_type": "code",
   "execution_count": 3,
   "metadata": {
    "execution": {
     "iopub.execute_input": "2020-08-14T21:35:25.432794Z",
     "iopub.status.busy": "2020-08-14T21:35:25.431859Z",
     "iopub.status.idle": "2020-08-14T21:35:25.452167Z",
     "shell.execute_reply": "2020-08-14T21:35:25.451249Z"
    },
    "papermill": {
     "duration": 0.067623,
     "end_time": "2020-08-14T21:35:25.452311",
     "exception": false,
     "start_time": "2020-08-14T21:35:25.384688",
     "status": "completed"
    },
    "tags": []
   },
   "outputs": [
    {
     "data": {
      "text/html": [
       "<div>\n",
       "<style scoped>\n",
       "    .dataframe tbody tr th:only-of-type {\n",
       "        vertical-align: middle;\n",
       "    }\n",
       "\n",
       "    .dataframe tbody tr th {\n",
       "        vertical-align: top;\n",
       "    }\n",
       "\n",
       "    .dataframe thead th {\n",
       "        text-align: right;\n",
       "    }\n",
       "</style>\n",
       "<table border=\"1\" class=\"dataframe\">\n",
       "  <thead>\n",
       "    <tr style=\"text-align: right;\">\n",
       "      <th></th>\n",
       "      <th>Age</th>\n",
       "      <th>Sex</th>\n",
       "      <th>Job</th>\n",
       "      <th>Housing</th>\n",
       "      <th>Saving accounts</th>\n",
       "      <th>Checking account</th>\n",
       "      <th>Credit amount</th>\n",
       "      <th>Duration</th>\n",
       "      <th>Purpose</th>\n",
       "      <th>Risk</th>\n",
       "    </tr>\n",
       "  </thead>\n",
       "  <tbody>\n",
       "    <tr>\n",
       "      <th>0</th>\n",
       "      <td>67</td>\n",
       "      <td>male</td>\n",
       "      <td>2</td>\n",
       "      <td>own</td>\n",
       "      <td>NaN</td>\n",
       "      <td>little</td>\n",
       "      <td>1169</td>\n",
       "      <td>6</td>\n",
       "      <td>radio/TV</td>\n",
       "      <td>good</td>\n",
       "    </tr>\n",
       "    <tr>\n",
       "      <th>1</th>\n",
       "      <td>22</td>\n",
       "      <td>female</td>\n",
       "      <td>2</td>\n",
       "      <td>own</td>\n",
       "      <td>little</td>\n",
       "      <td>moderate</td>\n",
       "      <td>5951</td>\n",
       "      <td>48</td>\n",
       "      <td>radio/TV</td>\n",
       "      <td>bad</td>\n",
       "    </tr>\n",
       "    <tr>\n",
       "      <th>2</th>\n",
       "      <td>49</td>\n",
       "      <td>male</td>\n",
       "      <td>1</td>\n",
       "      <td>own</td>\n",
       "      <td>little</td>\n",
       "      <td>NaN</td>\n",
       "      <td>2096</td>\n",
       "      <td>12</td>\n",
       "      <td>education</td>\n",
       "      <td>good</td>\n",
       "    </tr>\n",
       "    <tr>\n",
       "      <th>3</th>\n",
       "      <td>45</td>\n",
       "      <td>male</td>\n",
       "      <td>2</td>\n",
       "      <td>free</td>\n",
       "      <td>little</td>\n",
       "      <td>little</td>\n",
       "      <td>7882</td>\n",
       "      <td>42</td>\n",
       "      <td>furniture/equipment</td>\n",
       "      <td>good</td>\n",
       "    </tr>\n",
       "    <tr>\n",
       "      <th>4</th>\n",
       "      <td>53</td>\n",
       "      <td>male</td>\n",
       "      <td>2</td>\n",
       "      <td>free</td>\n",
       "      <td>little</td>\n",
       "      <td>little</td>\n",
       "      <td>4870</td>\n",
       "      <td>24</td>\n",
       "      <td>car</td>\n",
       "      <td>bad</td>\n",
       "    </tr>\n",
       "    <tr>\n",
       "      <th>...</th>\n",
       "      <td>...</td>\n",
       "      <td>...</td>\n",
       "      <td>...</td>\n",
       "      <td>...</td>\n",
       "      <td>...</td>\n",
       "      <td>...</td>\n",
       "      <td>...</td>\n",
       "      <td>...</td>\n",
       "      <td>...</td>\n",
       "      <td>...</td>\n",
       "    </tr>\n",
       "    <tr>\n",
       "      <th>995</th>\n",
       "      <td>31</td>\n",
       "      <td>female</td>\n",
       "      <td>1</td>\n",
       "      <td>own</td>\n",
       "      <td>little</td>\n",
       "      <td>NaN</td>\n",
       "      <td>1736</td>\n",
       "      <td>12</td>\n",
       "      <td>furniture/equipment</td>\n",
       "      <td>good</td>\n",
       "    </tr>\n",
       "    <tr>\n",
       "      <th>996</th>\n",
       "      <td>40</td>\n",
       "      <td>male</td>\n",
       "      <td>3</td>\n",
       "      <td>own</td>\n",
       "      <td>little</td>\n",
       "      <td>little</td>\n",
       "      <td>3857</td>\n",
       "      <td>30</td>\n",
       "      <td>car</td>\n",
       "      <td>good</td>\n",
       "    </tr>\n",
       "    <tr>\n",
       "      <th>997</th>\n",
       "      <td>38</td>\n",
       "      <td>male</td>\n",
       "      <td>2</td>\n",
       "      <td>own</td>\n",
       "      <td>little</td>\n",
       "      <td>NaN</td>\n",
       "      <td>804</td>\n",
       "      <td>12</td>\n",
       "      <td>radio/TV</td>\n",
       "      <td>good</td>\n",
       "    </tr>\n",
       "    <tr>\n",
       "      <th>998</th>\n",
       "      <td>23</td>\n",
       "      <td>male</td>\n",
       "      <td>2</td>\n",
       "      <td>free</td>\n",
       "      <td>little</td>\n",
       "      <td>little</td>\n",
       "      <td>1845</td>\n",
       "      <td>45</td>\n",
       "      <td>radio/TV</td>\n",
       "      <td>bad</td>\n",
       "    </tr>\n",
       "    <tr>\n",
       "      <th>999</th>\n",
       "      <td>27</td>\n",
       "      <td>male</td>\n",
       "      <td>2</td>\n",
       "      <td>own</td>\n",
       "      <td>moderate</td>\n",
       "      <td>moderate</td>\n",
       "      <td>4576</td>\n",
       "      <td>45</td>\n",
       "      <td>car</td>\n",
       "      <td>good</td>\n",
       "    </tr>\n",
       "  </tbody>\n",
       "</table>\n",
       "<p>1000 rows × 10 columns</p>\n",
       "</div>"
      ],
      "text/plain": [
       "     Age     Sex  Job Housing Saving accounts Checking account  Credit amount  \\\n",
       "0     67    male    2     own             NaN           little           1169   \n",
       "1     22  female    2     own          little         moderate           5951   \n",
       "2     49    male    1     own          little              NaN           2096   \n",
       "3     45    male    2    free          little           little           7882   \n",
       "4     53    male    2    free          little           little           4870   \n",
       "..   ...     ...  ...     ...             ...              ...            ...   \n",
       "995   31  female    1     own          little              NaN           1736   \n",
       "996   40    male    3     own          little           little           3857   \n",
       "997   38    male    2     own          little              NaN            804   \n",
       "998   23    male    2    free          little           little           1845   \n",
       "999   27    male    2     own        moderate         moderate           4576   \n",
       "\n",
       "     Duration              Purpose  Risk  \n",
       "0           6             radio/TV  good  \n",
       "1          48             radio/TV   bad  \n",
       "2          12            education  good  \n",
       "3          42  furniture/equipment  good  \n",
       "4          24                  car   bad  \n",
       "..        ...                  ...   ...  \n",
       "995        12  furniture/equipment  good  \n",
       "996        30                  car  good  \n",
       "997        12             radio/TV  good  \n",
       "998        45             radio/TV   bad  \n",
       "999        45                  car  good  \n",
       "\n",
       "[1000 rows x 10 columns]"
      ]
     },
     "execution_count": 3,
     "metadata": {},
     "output_type": "execute_result"
    }
   ],
   "source": [
    "df"
   ]
  },
  {
   "cell_type": "code",
   "execution_count": 4,
   "metadata": {
    "execution": {
     "iopub.execute_input": "2020-08-14T21:35:25.516233Z",
     "iopub.status.busy": "2020-08-14T21:35:25.515354Z",
     "iopub.status.idle": "2020-08-14T21:35:25.520969Z",
     "shell.execute_reply": "2020-08-14T21:35:25.519919Z"
    },
    "papermill": {
     "duration": 0.046258,
     "end_time": "2020-08-14T21:35:25.521177",
     "exception": false,
     "start_time": "2020-08-14T21:35:25.474919",
     "status": "completed"
    },
    "tags": []
   },
   "outputs": [
    {
     "name": "stdout",
     "output_type": "stream",
     "text": [
      "<class 'pandas.core.frame.DataFrame'>\n",
      "Int64Index: 1000 entries, 0 to 999\n",
      "Data columns (total 10 columns):\n",
      " #   Column            Non-Null Count  Dtype \n",
      "---  ------            --------------  ----- \n",
      " 0   Age               1000 non-null   int64 \n",
      " 1   Sex               1000 non-null   object\n",
      " 2   Job               1000 non-null   int64 \n",
      " 3   Housing           1000 non-null   object\n",
      " 4   Saving accounts   817 non-null    object\n",
      " 5   Checking account  606 non-null    object\n",
      " 6   Credit amount     1000 non-null   int64 \n",
      " 7   Duration          1000 non-null   int64 \n",
      " 8   Purpose           1000 non-null   object\n",
      " 9   Risk              1000 non-null   object\n",
      "dtypes: int64(4), object(6)\n",
      "memory usage: 85.9+ KB\n"
     ]
    }
   ],
   "source": [
    "df.info()"
   ]
  },
  {
   "cell_type": "code",
   "execution_count": 5,
   "metadata": {
    "execution": {
     "iopub.execute_input": "2020-08-14T21:35:25.580157Z",
     "iopub.status.busy": "2020-08-14T21:35:25.579086Z",
     "iopub.status.idle": "2020-08-14T21:35:25.609174Z",
     "shell.execute_reply": "2020-08-14T21:35:25.608387Z"
    },
    "papermill": {
     "duration": 0.064491,
     "end_time": "2020-08-14T21:35:25.609336",
     "exception": false,
     "start_time": "2020-08-14T21:35:25.544845",
     "status": "completed"
    },
    "tags": []
   },
   "outputs": [
    {
     "data": {
      "text/html": [
       "<div>\n",
       "<style scoped>\n",
       "    .dataframe tbody tr th:only-of-type {\n",
       "        vertical-align: middle;\n",
       "    }\n",
       "\n",
       "    .dataframe tbody tr th {\n",
       "        vertical-align: top;\n",
       "    }\n",
       "\n",
       "    .dataframe thead th {\n",
       "        text-align: right;\n",
       "    }\n",
       "</style>\n",
       "<table border=\"1\" class=\"dataframe\">\n",
       "  <thead>\n",
       "    <tr style=\"text-align: right;\">\n",
       "      <th></th>\n",
       "      <th>count</th>\n",
       "      <th>mean</th>\n",
       "      <th>std</th>\n",
       "      <th>min</th>\n",
       "      <th>25%</th>\n",
       "      <th>50%</th>\n",
       "      <th>75%</th>\n",
       "      <th>max</th>\n",
       "    </tr>\n",
       "  </thead>\n",
       "  <tbody>\n",
       "    <tr>\n",
       "      <th>Age</th>\n",
       "      <td>1000.0</td>\n",
       "      <td>35.546</td>\n",
       "      <td>11.375469</td>\n",
       "      <td>19.0</td>\n",
       "      <td>27.0</td>\n",
       "      <td>33.0</td>\n",
       "      <td>42.00</td>\n",
       "      <td>75.0</td>\n",
       "    </tr>\n",
       "    <tr>\n",
       "      <th>Job</th>\n",
       "      <td>1000.0</td>\n",
       "      <td>1.904</td>\n",
       "      <td>0.653614</td>\n",
       "      <td>0.0</td>\n",
       "      <td>2.0</td>\n",
       "      <td>2.0</td>\n",
       "      <td>2.00</td>\n",
       "      <td>3.0</td>\n",
       "    </tr>\n",
       "    <tr>\n",
       "      <th>Credit amount</th>\n",
       "      <td>1000.0</td>\n",
       "      <td>3271.258</td>\n",
       "      <td>2822.736876</td>\n",
       "      <td>250.0</td>\n",
       "      <td>1365.5</td>\n",
       "      <td>2319.5</td>\n",
       "      <td>3972.25</td>\n",
       "      <td>18424.0</td>\n",
       "    </tr>\n",
       "    <tr>\n",
       "      <th>Duration</th>\n",
       "      <td>1000.0</td>\n",
       "      <td>20.903</td>\n",
       "      <td>12.058814</td>\n",
       "      <td>4.0</td>\n",
       "      <td>12.0</td>\n",
       "      <td>18.0</td>\n",
       "      <td>24.00</td>\n",
       "      <td>72.0</td>\n",
       "    </tr>\n",
       "  </tbody>\n",
       "</table>\n",
       "</div>"
      ],
      "text/plain": [
       "                count      mean          std    min     25%     50%      75%  \\\n",
       "Age            1000.0    35.546    11.375469   19.0    27.0    33.0    42.00   \n",
       "Job            1000.0     1.904     0.653614    0.0     2.0     2.0     2.00   \n",
       "Credit amount  1000.0  3271.258  2822.736876  250.0  1365.5  2319.5  3972.25   \n",
       "Duration       1000.0    20.903    12.058814    4.0    12.0    18.0    24.00   \n",
       "\n",
       "                   max  \n",
       "Age               75.0  \n",
       "Job                3.0  \n",
       "Credit amount  18424.0  \n",
       "Duration          72.0  "
      ]
     },
     "execution_count": 5,
     "metadata": {},
     "output_type": "execute_result"
    }
   ],
   "source": [
    "df.describe().T"
   ]
  },
  {
   "cell_type": "code",
   "execution_count": 6,
   "metadata": {
    "execution": {
     "iopub.execute_input": "2020-08-14T21:35:25.666527Z",
     "iopub.status.busy": "2020-08-14T21:35:25.665558Z",
     "iopub.status.idle": "2020-08-14T21:35:25.671338Z",
     "shell.execute_reply": "2020-08-14T21:35:25.670472Z"
    },
    "papermill": {
     "duration": 0.038295,
     "end_time": "2020-08-14T21:35:25.671479",
     "exception": false,
     "start_time": "2020-08-14T21:35:25.633184",
     "status": "completed"
    },
    "tags": []
   },
   "outputs": [
    {
     "data": {
      "text/plain": [
       "Age                   0\n",
       "Sex                   0\n",
       "Job                   0\n",
       "Housing               0\n",
       "Saving accounts     183\n",
       "Checking account    394\n",
       "Credit amount         0\n",
       "Duration              0\n",
       "Purpose               0\n",
       "Risk                  0\n",
       "dtype: int64"
      ]
     },
     "execution_count": 6,
     "metadata": {},
     "output_type": "execute_result"
    }
   ],
   "source": [
    "df.isnull().sum()"
   ]
  },
  {
   "cell_type": "markdown",
   "execution_count": null,
   "metadata": {
    "papermill": {
     "duration": 0.024527,
     "end_time": "2020-08-14T21:35:25.719548",
     "exception": false,
     "start_time": "2020-08-14T21:35:25.695021",
     "status": "completed"
    },
    "tags": []
   },
   "source": [
    "## 1.1) Değişkenlerin İncelenmesi"
   ]
  },
  {
   "cell_type": "code",
   "execution_count": 7,
   "metadata": {
    "execution": {
     "iopub.execute_input": "2020-08-14T21:35:25.780443Z",
     "iopub.status.busy": "2020-08-14T21:35:25.779275Z",
     "iopub.status.idle": "2020-08-14T21:35:25.784458Z",
     "shell.execute_reply": "2020-08-14T21:35:25.783634Z"
    },
    "papermill": {
     "duration": 0.041596,
     "end_time": "2020-08-14T21:35:25.784600",
     "exception": false,
     "start_time": "2020-08-14T21:35:25.743004",
     "status": "completed"
    },
    "tags": []
   },
   "outputs": [
    {
     "data": {
      "text/plain": [
       "0     22\n",
       "1    200\n",
       "2    630\n",
       "3    148\n",
       "Name: Job, dtype: int64"
      ]
     },
     "execution_count": 7,
     "metadata": {},
     "output_type": "execute_result"
    }
   ],
   "source": [
    "df[\"Job\"].value_counts().sort_index()"
   ]
  },
  {
   "cell_type": "code",
   "execution_count": 8,
   "metadata": {
    "execution": {
     "iopub.execute_input": "2020-08-14T21:35:25.841307Z",
     "iopub.status.busy": "2020-08-14T21:35:25.840078Z",
     "iopub.status.idle": "2020-08-14T21:35:25.845293Z",
     "shell.execute_reply": "2020-08-14T21:35:25.844490Z"
    },
    "papermill": {
     "duration": 0.037209,
     "end_time": "2020-08-14T21:35:25.845428",
     "exception": false,
     "start_time": "2020-08-14T21:35:25.808219",
     "status": "completed"
    },
    "tags": []
   },
   "outputs": [
    {
     "data": {
      "text/plain": [
       "own     713\n",
       "rent    179\n",
       "free    108\n",
       "Name: Housing, dtype: int64"
      ]
     },
     "execution_count": 8,
     "metadata": {},
     "output_type": "execute_result"
    }
   ],
   "source": [
    "df[\"Housing\"].value_counts()"
   ]
  },
  {
   "cell_type": "code",
   "execution_count": 9,
   "metadata": {
    "execution": {
     "iopub.execute_input": "2020-08-14T21:35:25.904210Z",
     "iopub.status.busy": "2020-08-14T21:35:25.903186Z",
     "iopub.status.idle": "2020-08-14T21:35:25.908330Z",
     "shell.execute_reply": "2020-08-14T21:35:25.907638Z"
    },
    "papermill": {
     "duration": 0.038655,
     "end_time": "2020-08-14T21:35:25.908462",
     "exception": false,
     "start_time": "2020-08-14T21:35:25.869807",
     "status": "completed"
    },
    "tags": []
   },
   "outputs": [
    {
     "data": {
      "text/plain": [
       "little        603\n",
       "moderate      103\n",
       "quite rich     63\n",
       "rich           48\n",
       "Name: Saving accounts, dtype: int64"
      ]
     },
     "execution_count": 9,
     "metadata": {},
     "output_type": "execute_result"
    }
   ],
   "source": [
    "df[\"Saving accounts\"].value_counts()"
   ]
  },
  {
   "cell_type": "code",
   "execution_count": 10,
   "metadata": {
    "execution": {
     "iopub.execute_input": "2020-08-14T21:35:25.965864Z",
     "iopub.status.busy": "2020-08-14T21:35:25.964824Z",
     "iopub.status.idle": "2020-08-14T21:35:25.970660Z",
     "shell.execute_reply": "2020-08-14T21:35:25.969976Z"
    },
    "papermill": {
     "duration": 0.03858,
     "end_time": "2020-08-14T21:35:25.970816",
     "exception": false,
     "start_time": "2020-08-14T21:35:25.932236",
     "status": "completed"
    },
    "tags": []
   },
   "outputs": [
    {
     "data": {
      "text/plain": [
       "little      274\n",
       "moderate    269\n",
       "rich         63\n",
       "Name: Checking account, dtype: int64"
      ]
     },
     "execution_count": 10,
     "metadata": {},
     "output_type": "execute_result"
    }
   ],
   "source": [
    "df[\"Checking account\"].value_counts()"
   ]
  },
  {
   "cell_type": "code",
   "execution_count": 11,
   "metadata": {
    "execution": {
     "iopub.execute_input": "2020-08-14T21:35:26.030033Z",
     "iopub.status.busy": "2020-08-14T21:35:26.029135Z",
     "iopub.status.idle": "2020-08-14T21:35:26.033762Z",
     "shell.execute_reply": "2020-08-14T21:35:26.033083Z"
    },
    "papermill": {
     "duration": 0.039088,
     "end_time": "2020-08-14T21:35:26.033901",
     "exception": false,
     "start_time": "2020-08-14T21:35:25.994813",
     "status": "completed"
    },
    "tags": []
   },
   "outputs": [
    {
     "data": {
      "text/plain": [
       "car                    337\n",
       "radio/TV               280\n",
       "furniture/equipment    181\n",
       "business                97\n",
       "education               59\n",
       "repairs                 22\n",
       "domestic appliances     12\n",
       "vacation/others         12\n",
       "Name: Purpose, dtype: int64"
      ]
     },
     "execution_count": 11,
     "metadata": {},
     "output_type": "execute_result"
    }
   ],
   "source": [
    "df[\"Purpose\"].value_counts()"
   ]
  },
  {
   "cell_type": "code",
   "execution_count": 12,
   "metadata": {
    "execution": {
     "iopub.execute_input": "2020-08-14T21:35:26.092689Z",
     "iopub.status.busy": "2020-08-14T21:35:26.091784Z",
     "iopub.status.idle": "2020-08-14T21:35:26.096596Z",
     "shell.execute_reply": "2020-08-14T21:35:26.095998Z"
    },
    "papermill": {
     "duration": 0.038339,
     "end_time": "2020-08-14T21:35:26.096756",
     "exception": false,
     "start_time": "2020-08-14T21:35:26.058417",
     "status": "completed"
    },
    "tags": []
   },
   "outputs": [
    {
     "data": {
      "text/plain": [
       "good    700\n",
       "bad     300\n",
       "Name: Risk, dtype: int64"
      ]
     },
     "execution_count": 12,
     "metadata": {},
     "output_type": "execute_result"
    }
   ],
   "source": [
    "df[\"Risk\"].value_counts()"
   ]
  },
  {
   "cell_type": "code",
   "execution_count": 13,
   "metadata": {
    "execution": {
     "iopub.execute_input": "2020-08-14T21:35:26.160603Z",
     "iopub.status.busy": "2020-08-14T21:35:26.157901Z",
     "iopub.status.idle": "2020-08-14T21:35:26.183307Z",
     "shell.execute_reply": "2020-08-14T21:35:26.183925Z"
    },
    "papermill": {
     "duration": 0.063036,
     "end_time": "2020-08-14T21:35:26.184124",
     "exception": false,
     "start_time": "2020-08-14T21:35:26.121088",
     "status": "completed"
    },
    "tags": []
   },
   "outputs": [
    {
     "data": {
      "text/html": [
       "<div>\n",
       "<style scoped>\n",
       "    .dataframe tbody tr th:only-of-type {\n",
       "        vertical-align: middle;\n",
       "    }\n",
       "\n",
       "    .dataframe tbody tr th {\n",
       "        vertical-align: top;\n",
       "    }\n",
       "\n",
       "    .dataframe thead th {\n",
       "        text-align: right;\n",
       "    }\n",
       "</style>\n",
       "<table border=\"1\" class=\"dataframe\">\n",
       "  <thead>\n",
       "    <tr style=\"text-align: right;\">\n",
       "      <th></th>\n",
       "      <th>count</th>\n",
       "      <th>mean</th>\n",
       "      <th>std</th>\n",
       "      <th>min</th>\n",
       "      <th>25%</th>\n",
       "      <th>50%</th>\n",
       "      <th>75%</th>\n",
       "      <th>max</th>\n",
       "    </tr>\n",
       "  </thead>\n",
       "  <tbody>\n",
       "    <tr>\n",
       "      <th>Age</th>\n",
       "      <td>1000.0</td>\n",
       "      <td>35.546</td>\n",
       "      <td>11.375469</td>\n",
       "      <td>19.0</td>\n",
       "      <td>27.0</td>\n",
       "      <td>33.0</td>\n",
       "      <td>42.00</td>\n",
       "      <td>75.0</td>\n",
       "    </tr>\n",
       "    <tr>\n",
       "      <th>Job</th>\n",
       "      <td>1000.0</td>\n",
       "      <td>1.904</td>\n",
       "      <td>0.653614</td>\n",
       "      <td>0.0</td>\n",
       "      <td>2.0</td>\n",
       "      <td>2.0</td>\n",
       "      <td>2.00</td>\n",
       "      <td>3.0</td>\n",
       "    </tr>\n",
       "    <tr>\n",
       "      <th>Credit amount</th>\n",
       "      <td>1000.0</td>\n",
       "      <td>3271.258</td>\n",
       "      <td>2822.736876</td>\n",
       "      <td>250.0</td>\n",
       "      <td>1365.5</td>\n",
       "      <td>2319.5</td>\n",
       "      <td>3972.25</td>\n",
       "      <td>18424.0</td>\n",
       "    </tr>\n",
       "    <tr>\n",
       "      <th>Duration</th>\n",
       "      <td>1000.0</td>\n",
       "      <td>20.903</td>\n",
       "      <td>12.058814</td>\n",
       "      <td>4.0</td>\n",
       "      <td>12.0</td>\n",
       "      <td>18.0</td>\n",
       "      <td>24.00</td>\n",
       "      <td>72.0</td>\n",
       "    </tr>\n",
       "  </tbody>\n",
       "</table>\n",
       "</div>"
      ],
      "text/plain": [
       "                count      mean          std    min     25%     50%      75%  \\\n",
       "Age            1000.0    35.546    11.375469   19.0    27.0    33.0    42.00   \n",
       "Job            1000.0     1.904     0.653614    0.0     2.0     2.0     2.00   \n",
       "Credit amount  1000.0  3271.258  2822.736876  250.0  1365.5  2319.5  3972.25   \n",
       "Duration       1000.0    20.903    12.058814    4.0    12.0    18.0    24.00   \n",
       "\n",
       "                   max  \n",
       "Age               75.0  \n",
       "Job                3.0  \n",
       "Credit amount  18424.0  \n",
       "Duration          72.0  "
      ]
     },
     "execution_count": 13,
     "metadata": {},
     "output_type": "execute_result"
    }
   ],
   "source": [
    "df.describe().T"
   ]
  },
  {
   "cell_type": "code",
   "execution_count": 14,
   "metadata": {
    "execution": {
     "iopub.execute_input": "2020-08-14T21:35:26.253546Z",
     "iopub.status.busy": "2020-08-14T21:35:26.252497Z",
     "iopub.status.idle": "2020-08-14T21:35:26.258399Z",
     "shell.execute_reply": "2020-08-14T21:35:26.257437Z"
    },
    "papermill": {
     "duration": 0.049378,
     "end_time": "2020-08-14T21:35:26.258582",
     "exception": false,
     "start_time": "2020-08-14T21:35:26.209204",
     "status": "completed"
    },
    "tags": []
   },
   "outputs": [
    {
     "data": {
      "text/html": [
       "<div>\n",
       "<style scoped>\n",
       "    .dataframe tbody tr th:only-of-type {\n",
       "        vertical-align: middle;\n",
       "    }\n",
       "\n",
       "    .dataframe tbody tr th {\n",
       "        vertical-align: top;\n",
       "    }\n",
       "\n",
       "    .dataframe thead th {\n",
       "        text-align: right;\n",
       "    }\n",
       "</style>\n",
       "<table border=\"1\" class=\"dataframe\">\n",
       "  <thead>\n",
       "    <tr style=\"text-align: right;\">\n",
       "      <th></th>\n",
       "      <th>Age</th>\n",
       "      <th>Job</th>\n",
       "      <th>Credit amount</th>\n",
       "      <th>Duration</th>\n",
       "    </tr>\n",
       "  </thead>\n",
       "  <tbody>\n",
       "    <tr>\n",
       "      <th>Age</th>\n",
       "      <td>1.000000</td>\n",
       "      <td>0.015673</td>\n",
       "      <td>0.032716</td>\n",
       "      <td>-0.036136</td>\n",
       "    </tr>\n",
       "    <tr>\n",
       "      <th>Job</th>\n",
       "      <td>0.015673</td>\n",
       "      <td>1.000000</td>\n",
       "      <td>0.285385</td>\n",
       "      <td>0.210910</td>\n",
       "    </tr>\n",
       "    <tr>\n",
       "      <th>Credit amount</th>\n",
       "      <td>0.032716</td>\n",
       "      <td>0.285385</td>\n",
       "      <td>1.000000</td>\n",
       "      <td>0.624984</td>\n",
       "    </tr>\n",
       "    <tr>\n",
       "      <th>Duration</th>\n",
       "      <td>-0.036136</td>\n",
       "      <td>0.210910</td>\n",
       "      <td>0.624984</td>\n",
       "      <td>1.000000</td>\n",
       "    </tr>\n",
       "  </tbody>\n",
       "</table>\n",
       "</div>"
      ],
      "text/plain": [
       "                    Age       Job  Credit amount  Duration\n",
       "Age            1.000000  0.015673       0.032716 -0.036136\n",
       "Job            0.015673  1.000000       0.285385  0.210910\n",
       "Credit amount  0.032716  0.285385       1.000000  0.624984\n",
       "Duration      -0.036136  0.210910       0.624984  1.000000"
      ]
     },
     "execution_count": 14,
     "metadata": {},
     "output_type": "execute_result"
    }
   ],
   "source": [
    "df.corr()"
   ]
  },
  {
   "cell_type": "markdown",
   "execution_count": null,
   "metadata": {
    "papermill": {
     "duration": 0.025633,
     "end_time": "2020-08-14T21:35:26.309950",
     "exception": false,
     "start_time": "2020-08-14T21:35:26.284317",
     "status": "completed"
    },
    "tags": []
   },
   "source": [
    "# 2) Age ve Duration Değişkenlerinin Kategorikleştirilmesi"
   ]
  },
  {
   "cell_type": "code",
   "execution_count": 15,
   "metadata": {
    "execution": {
     "iopub.execute_input": "2020-08-14T21:35:26.411691Z",
     "iopub.status.busy": "2020-08-14T21:35:26.398083Z",
     "iopub.status.idle": "2020-08-14T21:35:26.790362Z",
     "shell.execute_reply": "2020-08-14T21:35:26.789652Z"
    },
    "papermill": {
     "duration": 0.45554,
     "end_time": "2020-08-14T21:35:26.790513",
     "exception": false,
     "start_time": "2020-08-14T21:35:26.334973",
     "status": "completed"
    },
    "tags": []
   },
   "outputs": [],
   "source": [
    "for i in df[\"Age\"]:\n",
    "    if i < 25:\n",
    "        df[\"Age\"] = df[\"Age\"].replace(i,\"0-25\")\n",
    "    elif (i >= 25) and (i < 30):\n",
    "        df[\"Age\"] = df[\"Age\"].replace(i,\"25-30\")\n",
    "    elif (i >= 30) and (i < 35):\n",
    "        df[\"Age\"] = df[\"Age\"].replace(i,\"30-35\")\n",
    "    elif (i >= 35) and (i < 40):\n",
    "        df[\"Age\"] = df[\"Age\"].replace(i,\"35-40\")\n",
    "    elif (i >= 40) and (i < 50):\n",
    "        df[\"Age\"] = df[\"Age\"].replace(i,\"40-50\")\n",
    "    elif (i >= 50) and (i < 76):\n",
    "        df[\"Age\"] = df[\"Age\"].replace(i,\"50-75\")"
   ]
  },
  {
   "cell_type": "code",
   "execution_count": 16,
   "metadata": {
    "execution": {
     "iopub.execute_input": "2020-08-14T21:35:26.870064Z",
     "iopub.status.busy": "2020-08-14T21:35:26.854508Z",
     "iopub.status.idle": "2020-08-14T21:35:27.270850Z",
     "shell.execute_reply": "2020-08-14T21:35:27.270173Z"
    },
    "papermill": {
     "duration": 0.455369,
     "end_time": "2020-08-14T21:35:27.271001",
     "exception": false,
     "start_time": "2020-08-14T21:35:26.815632",
     "status": "completed"
    },
    "tags": []
   },
   "outputs": [],
   "source": [
    "for i in df[\"Duration\"]:\n",
    "    if i < 12:\n",
    "        df[\"Duration\"] = df[\"Duration\"].replace(i,\"0-12\")\n",
    "    elif (i >= 12) and (i < 24):\n",
    "        df[\"Duration\"] = df[\"Duration\"].replace(i,\"12-24\")\n",
    "    elif (i >= 24) and (i < 36):\n",
    "        df[\"Duration\"] = df[\"Duration\"].replace(i,\"24-36\")\n",
    "    elif (i >= 36) and (i < 48):\n",
    "        df[\"Duration\"] = df[\"Duration\"].replace(i,\"36-48\")\n",
    "    elif (i >= 48) and (i < 60):\n",
    "        df[\"Duration\"] = df[\"Duration\"].replace(i,\"48-60\")\n",
    "    elif (i >= 60) and (i <= 72):\n",
    "        df[\"Duration\"] = df[\"Duration\"].replace(i,\"60-72\")"
   ]
  },
  {
   "cell_type": "code",
   "execution_count": 17,
   "metadata": {
    "execution": {
     "iopub.execute_input": "2020-08-14T21:35:27.335551Z",
     "iopub.status.busy": "2020-08-14T21:35:27.334721Z",
     "iopub.status.idle": "2020-08-14T21:35:27.339680Z",
     "shell.execute_reply": "2020-08-14T21:35:27.339059Z"
    },
    "papermill": {
     "duration": 0.042765,
     "end_time": "2020-08-14T21:35:27.339839",
     "exception": false,
     "start_time": "2020-08-14T21:35:27.297074",
     "status": "completed"
    },
    "tags": []
   },
   "outputs": [],
   "source": [
    "df[\"Job\"] = pd.Categorical(df[\"Job\"], categories = [0,1,2,3], \n",
    "                           ordered = True)\n",
    "df[\"Age\"] = pd.Categorical(df[\"Age\"], \n",
    "                           categories = ['0-25','25-30', '30-35','35-40','40-50','50-75'], \n",
    "                           ordered = True)\n",
    "df[\"Duration\"] = pd.Categorical(df[\"Duration\"], \n",
    "                                categories = ['0-12','12-24', '24-36','36-48','48-60','60-72'], \n",
    "                                ordered = True)"
   ]
  },
  {
   "cell_type": "markdown",
   "execution_count": null,
   "metadata": {
    "papermill": {
     "duration": 0.033524,
     "end_time": "2020-08-14T21:35:27.405472",
     "exception": false,
     "start_time": "2020-08-14T21:35:27.371948",
     "status": "completed"
    },
    "tags": []
   },
   "source": [
    "# 3) Görselleştirme"
   ]
  },
  {
   "cell_type": "markdown",
   "execution_count": null,
   "metadata": {
    "papermill": {
     "duration": 0.025012,
     "end_time": "2020-08-14T21:35:27.456185",
     "exception": false,
     "start_time": "2020-08-14T21:35:27.431173",
     "status": "completed"
    },
    "tags": []
   },
   "source": [
    "## 3.1) Değişkenlerin Görselleştirilmesi"
   ]
  },
  {
   "cell_type": "code",
   "execution_count": 18,
   "metadata": {
    "execution": {
     "iopub.execute_input": "2020-08-14T21:35:27.519326Z",
     "iopub.status.busy": "2020-08-14T21:35:27.518338Z",
     "iopub.status.idle": "2020-08-14T21:35:28.457334Z",
     "shell.execute_reply": "2020-08-14T21:35:28.458037Z"
    },
    "papermill": {
     "duration": 0.976735,
     "end_time": "2020-08-14T21:35:28.458244",
     "exception": false,
     "start_time": "2020-08-14T21:35:27.481509",
     "status": "completed"
    },
    "tags": []
   },
   "outputs": [
    {
     "data": {
      "image/png": "[encoded data removed]",
      "text/plain": [
       "<Figure size 1080x720 with 6 Axes>"
      ]
     },
     "metadata": {
      "needs_background": "light"
     },
     "output_type": "display_data"
    }
   ],
   "source": [
    "fig,ax = plt.subplots(ncols = 2, nrows = 3,figsize = (15, 10))\n",
    "cat_list = [\"Age\", \"Sex\", \"Job\",\"Housing\", \"Purpose\", \"Risk\"]\n",
    "palette = [\"crimson\", \"dodgerblue\", \"fuchsia\", \"lime\",\"yellow\", \"sandybrown\"]\n",
    "count = 0\n",
    "for i in range(3):\n",
    "    for j in range(2):\n",
    "        sns.countplot(df[cat_list[count]], ax = ax[i][j],\n",
    "                      palette = sns.dark_palette(palette[count],\n",
    "                                                 reverse=True))\n",
    "        ax[i][j].set_xticklabels(ax[i][j].get_xticklabels(),rotation = 30)\n",
    "        count += 1"
   ]
  },
  {
   "cell_type": "code",
   "execution_count": 19,
   "metadata": {
    "execution": {
     "iopub.execute_input": "2020-08-14T21:35:28.529498Z",
     "iopub.status.busy": "2020-08-14T21:35:28.528253Z",
     "iopub.status.idle": "2020-08-14T21:35:28.779112Z",
     "shell.execute_reply": "2020-08-14T21:35:28.778264Z"
    },
    "papermill": {
     "duration": 0.294052,
     "end_time": "2020-08-14T21:35:28.779257",
     "exception": false,
     "start_time": "2020-08-14T21:35:28.485205",
     "status": "completed"
    },
    "tags": []
   },
   "outputs": [
    {
     "data": {
      "text/plain": [
       "<matplotlib.axes._subplots.AxesSubplot at 0x7fec045c3250>"
      ]
     },
     "execution_count": 19,
     "metadata": {},
     "output_type": "execute_result"
    },
    {
     "data": {
      "image/png": "[encoded data removed]",
      "text/plain": [
       "<Figure size 1152x360 with 1 Axes>"
      ]
     },
     "metadata": {
      "needs_background": "light"
     },
     "output_type": "display_data"
    }
   ],
   "source": [
    "plt.figure(figsize = (16, 5))\n",
    "sns.stripplot(x = \"Age\", y = \"Credit amount\", data = df)"
   ]
  },
  {
   "cell_type": "code",
   "execution_count": 20,
   "metadata": {
    "execution": {
     "iopub.execute_input": "2020-08-14T21:35:28.864889Z",
     "iopub.status.busy": "2020-08-14T21:35:28.853601Z",
     "iopub.status.idle": "2020-08-14T21:35:29.144631Z",
     "shell.execute_reply": "2020-08-14T21:35:29.143453Z"
    },
    "papermill": {
     "duration": 0.332083,
     "end_time": "2020-08-14T21:35:29.144919",
     "exception": false,
     "start_time": "2020-08-14T21:35:28.812836",
     "status": "completed"
    },
    "tags": []
   },
   "outputs": [
    {
     "data": {
      "text/plain": [
       "<matplotlib.axes._subplots.AxesSubplot at 0x7fec0492b650>"
      ]
     },
     "execution_count": 20,
     "metadata": {},
     "output_type": "execute_result"
    },
    {
     "data": {
      "image/png": "[encoded data removed]",
      "text/plain": [
       "<Figure size 1152x360 with 1 Axes>"
      ]
     },
     "metadata": {
      "needs_background": "light"
     },
     "output_type": "display_data"
    }
   ],
   "source": [
    "plt.figure(figsize = (16, 5))\n",
    "sns.boxplot(x = \"Age\", y = \"Credit amount\",data = df)"
   ]
  },
  {
   "cell_type": "code",
   "execution_count": 21,
   "metadata": {
    "execution": {
     "iopub.execute_input": "2020-08-14T21:35:29.318882Z",
     "iopub.status.busy": "2020-08-14T21:35:29.313372Z",
     "iopub.status.idle": "2020-08-14T21:35:30.176195Z",
     "shell.execute_reply": "2020-08-14T21:35:30.175394Z"
    },
    "papermill": {
     "duration": 0.998419,
     "end_time": "2020-08-14T21:35:30.176330",
     "exception": false,
     "start_time": "2020-08-14T21:35:29.177911",
     "status": "completed"
    },
    "tags": []
   },
   "outputs": [
    {
     "data": {
      "image/png": "[encoded data removed]",
      "text/plain": [
       "<Figure size 1152x504 with 4 Axes>"
      ]
     },
     "metadata": {
      "needs_background": "light"
     },
     "output_type": "display_data"
    }
   ],
   "source": [
    "fig, ax = plt.subplots(ncols = 2, nrows = 2, figsize=(16, 7))\n",
    "liste = [\"Sex\", \"Risk\"]\n",
    "for i in range(2):\n",
    "    count = 0\n",
    "    sns.pointplot(x = \"Age\", y = \"Credit amount\", hue = liste[i], data = df, \n",
    "                  ax = ax[0][i], palette = [\"#FFAE00\",\"#000000\"], ci = None)\n",
    "    sns.pointplot(x = \"Purpose\", y = \"Credit amount\", hue = liste[i], data = df, \n",
    "                  ax = ax[1][i], palette = [\"#FF00F0\",\"#04FF00\"], ci = None)\n",
    "    ax[1][i].set_xticklabels(ax[1][i].get_xticklabels(), rotation = 40, size = 11)\n",
    "    ax[i][count].legend(loc = \"upper left\")\n",
    "    count += 1"
   ]
  },
  {
   "cell_type": "markdown",
   "execution_count": null,
   "metadata": {
    "papermill": {
     "duration": 0.029541,
     "end_time": "2020-08-14T21:35:30.235423",
     "exception": false,
     "start_time": "2020-08-14T21:35:30.205882",
     "status": "completed"
    },
    "tags": []
   },
   "source": [
    "## 3.2) Missing Value"
   ]
  },
  {
   "cell_type": "code",
   "execution_count": 22,
   "metadata": {
    "execution": {
     "iopub.execute_input": "2020-08-14T21:35:30.298490Z",
     "iopub.status.busy": "2020-08-14T21:35:30.297504Z",
     "iopub.status.idle": "2020-08-14T21:35:30.313799Z",
     "shell.execute_reply": "2020-08-14T21:35:30.312899Z"
    },
    "papermill": {
     "duration": 0.049966,
     "end_time": "2020-08-14T21:35:30.313953",
     "exception": false,
     "start_time": "2020-08-14T21:35:30.263987",
     "status": "completed"
    },
    "tags": []
   },
   "outputs": [],
   "source": [
    "import missingno as msno"
   ]
  },
  {
   "cell_type": "code",
   "execution_count": 23,
   "metadata": {
    "execution": {
     "iopub.execute_input": "2020-08-14T21:35:30.381391Z",
     "iopub.status.busy": "2020-08-14T21:35:30.380523Z",
     "iopub.status.idle": "2020-08-14T21:35:31.292511Z",
     "shell.execute_reply": "2020-08-14T21:35:31.291824Z"
    },
    "papermill": {
     "duration": 0.949695,
     "end_time": "2020-08-14T21:35:31.292729",
     "exception": false,
     "start_time": "2020-08-14T21:35:30.343034",
     "status": "completed"
    },
    "tags": []
   },
   "outputs": [
    {
     "data": {
      "text/plain": [
       "<matplotlib.axes._subplots.AxesSubplot at 0x7fec042e4fd0>"
      ]
     },
     "execution_count": 23,
     "metadata": {},
     "output_type": "execute_result"
    },
    {
     "data": {
      "image/png": "[encoded data removed]",
      "text/plain": [
       "<Figure size 1728x720 with 3 Axes>"
      ]
     },
     "metadata": {
      "needs_background": "light"
     },
     "output_type": "display_data"
    }
   ],
   "source": [
    "msno.bar(df)"
   ]
  },
  {
   "cell_type": "code",
   "execution_count": 24,
   "metadata": {
    "execution": {
     "iopub.execute_input": "2020-08-14T21:35:31.367296Z",
     "iopub.status.busy": "2020-08-14T21:35:31.359907Z",
     "iopub.status.idle": "2020-08-14T21:35:31.719063Z",
     "shell.execute_reply": "2020-08-14T21:35:31.719645Z"
    },
    "papermill": {
     "duration": 0.396792,
     "end_time": "2020-08-14T21:35:31.719854",
     "exception": false,
     "start_time": "2020-08-14T21:35:31.323062",
     "status": "completed"
    },
    "tags": []
   },
   "outputs": [
    {
     "data": {
      "text/plain": [
       "<matplotlib.axes._subplots.AxesSubplot at 0x7fec04128350>"
      ]
     },
     "execution_count": 24,
     "metadata": {},
     "output_type": "execute_result"
    },
    {
     "data": {
      "image/png": "[encoded data removed]",
      "text/plain": [
       "<Figure size 1440x864 with 2 Axes>"
      ]
     },
     "metadata": {
      "needs_background": "light"
     },
     "output_type": "display_data"
    }
   ],
   "source": [
    "msno.heatmap(df)"
   ]
  },
  {
   "cell_type": "code",
   "execution_count": 25,
   "metadata": {
    "execution": {
     "iopub.execute_input": "2020-08-14T21:35:31.790812Z",
     "iopub.status.busy": "2020-08-14T21:35:31.789427Z",
     "iopub.status.idle": "2020-08-14T21:35:32.301221Z",
     "shell.execute_reply": "2020-08-14T21:35:32.301910Z"
    },
    "papermill": {
     "duration": 0.551587,
     "end_time": "2020-08-14T21:35:32.302096",
     "exception": false,
     "start_time": "2020-08-14T21:35:31.750509",
     "status": "completed"
    },
    "tags": []
   },
   "outputs": [
    {
     "data": {
      "text/plain": [
       "<matplotlib.axes._subplots.AxesSubplot at 0x7fec0400a090>"
      ]
     },
     "execution_count": 25,
     "metadata": {},
     "output_type": "execute_result"
    },
    {
     "data": {
      "image/png": "[encoded data removed]",
      "text/plain": [
       "<Figure size 1800x720 with 2 Axes>"
      ]
     },
     "metadata": {
      "needs_background": "light"
     },
     "output_type": "display_data"
    }
   ],
   "source": [
    "msno.matrix(df)"
   ]
  },
  {
   "cell_type": "markdown",
   "execution_count": null,
   "metadata": {
    "papermill": {
     "duration": 0.029798,
     "end_time": "2020-08-14T21:35:32.363057",
     "exception": false,
     "start_time": "2020-08-14T21:35:32.333259",
     "status": "completed"
    },
    "tags": []
   },
   "source": [
    "# 4) Eksik Değerlerin Doldurulması"
   ]
  },
  {
   "cell_type": "code",
   "execution_count": 26,
   "metadata": {
    "execution": {
     "iopub.execute_input": "2020-08-14T21:35:32.446933Z",
     "iopub.status.busy": "2020-08-14T21:35:32.445547Z",
     "iopub.status.idle": "2020-08-14T21:35:32.451485Z",
     "shell.execute_reply": "2020-08-14T21:35:32.450798Z"
    },
    "papermill": {
     "duration": 0.057101,
     "end_time": "2020-08-14T21:35:32.451618",
     "exception": false,
     "start_time": "2020-08-14T21:35:32.394517",
     "status": "completed"
    },
    "tags": []
   },
   "outputs": [
    {
     "data": {
      "text/plain": [
       "Age                   0\n",
       "Sex                   0\n",
       "Job                   0\n",
       "Housing               0\n",
       "Saving accounts     183\n",
       "Checking account    394\n",
       "Credit amount         0\n",
       "Duration              0\n",
       "Purpose               0\n",
       "Risk                  0\n",
       "dtype: int64"
      ]
     },
     "execution_count": 26,
     "metadata": {},
     "output_type": "execute_result"
    }
   ],
   "source": [
    "df.isnull().sum()"
   ]
  },
  {
   "cell_type": "markdown",
   "execution_count": null,
   "metadata": {
    "papermill": {
     "duration": 0.11011,
     "end_time": "2020-08-14T21:35:32.606665",
     "exception": false,
     "start_time": "2020-08-14T21:35:32.496555",
     "status": "completed"
    },
    "tags": []
   },
   "source": [
    "## 4.1) Saving accounts"
   ]
  },
  {
   "cell_type": "code",
   "execution_count": 27,
   "metadata": {
    "execution": {
     "iopub.execute_input": "2020-08-14T21:35:32.677890Z",
     "iopub.status.busy": "2020-08-14T21:35:32.676942Z",
     "iopub.status.idle": "2020-08-14T21:35:32.682116Z",
     "shell.execute_reply": "2020-08-14T21:35:32.681315Z"
    },
    "papermill": {
     "duration": 0.044961,
     "end_time": "2020-08-14T21:35:32.682334",
     "exception": false,
     "start_time": "2020-08-14T21:35:32.637373",
     "status": "completed"
    },
    "tags": []
   },
   "outputs": [
    {
     "data": {
      "text/plain": [
       "little        603\n",
       "moderate      103\n",
       "quite rich     63\n",
       "rich           48\n",
       "Name: Saving accounts, dtype: int64"
      ]
     },
     "execution_count": 27,
     "metadata": {},
     "output_type": "execute_result"
    }
   ],
   "source": [
    "df[\"Saving accounts\"].value_counts()"
   ]
  },
  {
   "cell_type": "code",
   "execution_count": 28,
   "metadata": {
    "execution": {
     "iopub.execute_input": "2020-08-14T21:35:32.754569Z",
     "iopub.status.busy": "2020-08-14T21:35:32.753645Z",
     "iopub.status.idle": "2020-08-14T21:35:32.757499Z",
     "shell.execute_reply": "2020-08-14T21:35:32.756863Z"
    },
    "papermill": {
     "duration": 0.043403,
     "end_time": "2020-08-14T21:35:32.757652",
     "exception": false,
     "start_time": "2020-08-14T21:35:32.714249",
     "status": "completed"
    },
    "tags": []
   },
   "outputs": [],
   "source": [
    "df[\"Saving accounts\"].fillna(df[\"Saving accounts\"].mode()[0], inplace = True)"
   ]
  },
  {
   "cell_type": "code",
   "execution_count": 29,
   "metadata": {
    "execution": {
     "iopub.execute_input": "2020-08-14T21:35:32.829987Z",
     "iopub.status.busy": "2020-08-14T21:35:32.828975Z",
     "iopub.status.idle": "2020-08-14T21:35:32.833601Z",
     "shell.execute_reply": "2020-08-14T21:35:32.834190Z"
    },
    "papermill": {
     "duration": 0.045455,
     "end_time": "2020-08-14T21:35:32.834370",
     "exception": false,
     "start_time": "2020-08-14T21:35:32.788915",
     "status": "completed"
    },
    "tags": []
   },
   "outputs": [
    {
     "data": {
      "text/plain": [
       "little        786\n",
       "moderate      103\n",
       "quite rich     63\n",
       "rich           48\n",
       "Name: Saving accounts, dtype: int64"
      ]
     },
     "execution_count": 29,
     "metadata": {},
     "output_type": "execute_result"
    }
   ],
   "source": [
    "df[\"Saving accounts\"].value_counts()"
   ]
  },
  {
   "cell_type": "markdown",
   "execution_count": null,
   "metadata": {
    "papermill": {
     "duration": 0.033402,
     "end_time": "2020-08-14T21:35:32.899185",
     "exception": false,
     "start_time": "2020-08-14T21:35:32.865783",
     "status": "completed"
    },
    "tags": []
   },
   "source": [
    "## 4.2) Checking account"
   ]
  },
  {
   "cell_type": "code",
   "execution_count": 30,
   "metadata": {
    "execution": {
     "iopub.execute_input": "2020-08-14T21:35:32.971413Z",
     "iopub.status.busy": "2020-08-14T21:35:32.970455Z",
     "iopub.status.idle": "2020-08-14T21:35:32.976349Z",
     "shell.execute_reply": "2020-08-14T21:35:32.975652Z"
    },
    "papermill": {
     "duration": 0.046076,
     "end_time": "2020-08-14T21:35:32.976487",
     "exception": false,
     "start_time": "2020-08-14T21:35:32.930411",
     "status": "completed"
    },
    "tags": []
   },
   "outputs": [
    {
     "data": {
      "text/plain": [
       "little      274\n",
       "moderate    269\n",
       "rich         63\n",
       "Name: Checking account, dtype: int64"
      ]
     },
     "execution_count": 30,
     "metadata": {},
     "output_type": "execute_result"
    }
   ],
   "source": [
    "df[\"Checking account\"].value_counts()"
   ]
  },
  {
   "cell_type": "code",
   "execution_count": 31,
   "metadata": {
    "execution": {
     "iopub.execute_input": "2020-08-14T21:35:33.050723Z",
     "iopub.status.busy": "2020-08-14T21:35:33.049624Z",
     "iopub.status.idle": "2020-08-14T21:35:33.053661Z",
     "shell.execute_reply": "2020-08-14T21:35:33.052834Z"
    },
    "papermill": {
     "duration": 0.044842,
     "end_time": "2020-08-14T21:35:33.053834",
     "exception": false,
     "start_time": "2020-08-14T21:35:33.008992",
     "status": "completed"
    },
    "tags": []
   },
   "outputs": [],
   "source": [
    "df[\"Checking account\"].fillna(df[\"Checking account\"].mode()[0], inplace = True)"
   ]
  },
  {
   "cell_type": "code",
   "execution_count": 32,
   "metadata": {
    "execution": {
     "iopub.execute_input": "2020-08-14T21:35:33.126936Z",
     "iopub.status.busy": "2020-08-14T21:35:33.125913Z",
     "iopub.status.idle": "2020-08-14T21:35:33.130729Z",
     "shell.execute_reply": "2020-08-14T21:35:33.130116Z"
    },
    "papermill": {
     "duration": 0.045582,
     "end_time": "2020-08-14T21:35:33.130866",
     "exception": false,
     "start_time": "2020-08-14T21:35:33.085284",
     "status": "completed"
    },
    "tags": []
   },
   "outputs": [
    {
     "data": {
      "text/plain": [
       "little      668\n",
       "moderate    269\n",
       "rich         63\n",
       "Name: Checking account, dtype: int64"
      ]
     },
     "execution_count": 32,
     "metadata": {},
     "output_type": "execute_result"
    }
   ],
   "source": [
    "df[\"Checking account\"].value_counts()"
   ]
  },
  {
   "cell_type": "code",
   "execution_count": null,
   "metadata": {
    "papermill": {
     "duration": 0.031085,
     "end_time": "2020-08-14T21:35:33.193170",
     "exception": false,
     "start_time": "2020-08-14T21:35:33.162085",
     "status": "completed"
    },
    "tags": []
   },
   "outputs": [],
   "source": []
  },
  {
   "cell_type": "code",
   "execution_count": 33,
   "metadata": {
    "execution": {
     "iopub.execute_input": "2020-08-14T21:35:33.264424Z",
     "iopub.status.busy": "2020-08-14T21:35:33.263518Z",
     "iopub.status.idle": "2020-08-14T21:35:33.272025Z",
     "shell.execute_reply": "2020-08-14T21:35:33.271344Z"
    },
    "papermill": {
     "duration": 0.04758,
     "end_time": "2020-08-14T21:35:33.272175",
     "exception": false,
     "start_time": "2020-08-14T21:35:33.224595",
     "status": "completed"
    },
    "tags": []
   },
   "outputs": [
    {
     "data": {
      "text/plain": [
       "Age                 0\n",
       "Sex                 0\n",
       "Job                 0\n",
       "Housing             0\n",
       "Saving accounts     0\n",
       "Checking account    0\n",
       "Credit amount       0\n",
       "Duration            0\n",
       "Purpose             0\n",
       "Risk                0\n",
       "dtype: int64"
      ]
     },
     "execution_count": 33,
     "metadata": {},
     "output_type": "execute_result"
    }
   ],
   "source": [
    "df.isnull().sum()"
   ]
  },
  {
   "cell_type": "markdown",
   "execution_count": null,
   "metadata": {
    "papermill": {
     "duration": 0.031055,
     "end_time": "2020-08-14T21:35:33.335338",
     "exception": false,
     "start_time": "2020-08-14T21:35:33.304283",
     "status": "completed"
    },
    "tags": []
   },
   "source": [
    "# 5) Lojistik Regresyon Modeli"
   ]
  },
  {
   "cell_type": "code",
   "execution_count": 34,
   "metadata": {
    "execution": {
     "iopub.execute_input": "2020-08-14T21:35:33.411003Z",
     "iopub.status.busy": "2020-08-14T21:35:33.409737Z",
     "iopub.status.idle": "2020-08-14T21:35:34.646639Z",
     "shell.execute_reply": "2020-08-14T21:35:34.645776Z"
    },
    "papermill": {
     "duration": 1.280057,
     "end_time": "2020-08-14T21:35:34.646804",
     "exception": false,
     "start_time": "2020-08-14T21:35:33.366747",
     "status": "completed"
    },
    "tags": []
   },
   "outputs": [],
   "source": [
    "import statsmodels.api as sm\n",
    "from sklearn import preprocessing\n",
    "from sklearn import linear_model\n",
    "from sklearn.model_selection import train_test_split\n",
    "from sklearn.linear_model import LinearRegression\n",
    "from sklearn.metrics import mean_squared_error, r2_score\n",
    "from sklearn.metrics import roc_auc_score,roc_curve\n",
    "from sklearn.model_selection import train_test_split, cross_val_score, cross_val_predict\n",
    "from sklearn.metrics import confusion_matrix, accuracy_score, classification_report"
   ]
  },
  {
   "cell_type": "code",
   "execution_count": 35,
   "metadata": {
    "execution": {
     "iopub.execute_input": "2020-08-14T21:35:34.748495Z",
     "iopub.status.busy": "2020-08-14T21:35:34.735008Z",
     "iopub.status.idle": "2020-08-14T21:35:34.753996Z",
     "shell.execute_reply": "2020-08-14T21:35:34.753199Z"
    },
    "papermill": {
     "duration": 0.075573,
     "end_time": "2020-08-14T21:35:34.754177",
     "exception": false,
     "start_time": "2020-08-14T21:35:34.678604",
     "status": "completed"
    },
    "tags": []
   },
   "outputs": [
    {
     "data": {
      "text/html": [
       "<div>\n",
       "<style scoped>\n",
       "    .dataframe tbody tr th:only-of-type {\n",
       "        vertical-align: middle;\n",
       "    }\n",
       "\n",
       "    .dataframe tbody tr th {\n",
       "        vertical-align: top;\n",
       "    }\n",
       "\n",
       "    .dataframe thead th {\n",
       "        text-align: right;\n",
       "    }\n",
       "</style>\n",
       "<table border=\"1\" class=\"dataframe\">\n",
       "  <thead>\n",
       "    <tr style=\"text-align: right;\">\n",
       "      <th></th>\n",
       "      <th>Age</th>\n",
       "      <th>Sex</th>\n",
       "      <th>Job</th>\n",
       "      <th>Housing</th>\n",
       "      <th>Saving accounts</th>\n",
       "      <th>Checking account</th>\n",
       "      <th>Credit amount</th>\n",
       "      <th>Duration</th>\n",
       "      <th>Purpose</th>\n",
       "      <th>Risk</th>\n",
       "    </tr>\n",
       "  </thead>\n",
       "  <tbody>\n",
       "    <tr>\n",
       "      <th>0</th>\n",
       "      <td>50-75</td>\n",
       "      <td>male</td>\n",
       "      <td>2</td>\n",
       "      <td>own</td>\n",
       "      <td>little</td>\n",
       "      <td>little</td>\n",
       "      <td>1169</td>\n",
       "      <td>0-12</td>\n",
       "      <td>radio/TV</td>\n",
       "      <td>good</td>\n",
       "    </tr>\n",
       "    <tr>\n",
       "      <th>1</th>\n",
       "      <td>0-25</td>\n",
       "      <td>female</td>\n",
       "      <td>2</td>\n",
       "      <td>own</td>\n",
       "      <td>little</td>\n",
       "      <td>moderate</td>\n",
       "      <td>5951</td>\n",
       "      <td>48-60</td>\n",
       "      <td>radio/TV</td>\n",
       "      <td>bad</td>\n",
       "    </tr>\n",
       "    <tr>\n",
       "      <th>2</th>\n",
       "      <td>40-50</td>\n",
       "      <td>male</td>\n",
       "      <td>1</td>\n",
       "      <td>own</td>\n",
       "      <td>little</td>\n",
       "      <td>little</td>\n",
       "      <td>2096</td>\n",
       "      <td>12-24</td>\n",
       "      <td>education</td>\n",
       "      <td>good</td>\n",
       "    </tr>\n",
       "    <tr>\n",
       "      <th>3</th>\n",
       "      <td>40-50</td>\n",
       "      <td>male</td>\n",
       "      <td>2</td>\n",
       "      <td>free</td>\n",
       "      <td>little</td>\n",
       "      <td>little</td>\n",
       "      <td>7882</td>\n",
       "      <td>36-48</td>\n",
       "      <td>furniture/equipment</td>\n",
       "      <td>good</td>\n",
       "    </tr>\n",
       "    <tr>\n",
       "      <th>4</th>\n",
       "      <td>50-75</td>\n",
       "      <td>male</td>\n",
       "      <td>2</td>\n",
       "      <td>free</td>\n",
       "      <td>little</td>\n",
       "      <td>little</td>\n",
       "      <td>4870</td>\n",
       "      <td>24-36</td>\n",
       "      <td>car</td>\n",
       "      <td>bad</td>\n",
       "    </tr>\n",
       "    <tr>\n",
       "      <th>...</th>\n",
       "      <td>...</td>\n",
       "      <td>...</td>\n",
       "      <td>...</td>\n",
       "      <td>...</td>\n",
       "      <td>...</td>\n",
       "      <td>...</td>\n",
       "      <td>...</td>\n",
       "      <td>...</td>\n",
       "      <td>...</td>\n",
       "      <td>...</td>\n",
       "    </tr>\n",
       "    <tr>\n",
       "      <th>995</th>\n",
       "      <td>30-35</td>\n",
       "      <td>female</td>\n",
       "      <td>1</td>\n",
       "      <td>own</td>\n",
       "      <td>little</td>\n",
       "      <td>little</td>\n",
       "      <td>1736</td>\n",
       "      <td>12-24</td>\n",
       "      <td>furniture/equipment</td>\n",
       "      <td>good</td>\n",
       "    </tr>\n",
       "    <tr>\n",
       "      <th>996</th>\n",
       "      <td>40-50</td>\n",
       "      <td>male</td>\n",
       "      <td>3</td>\n",
       "      <td>own</td>\n",
       "      <td>little</td>\n",
       "      <td>little</td>\n",
       "      <td>3857</td>\n",
       "      <td>24-36</td>\n",
       "      <td>car</td>\n",
       "      <td>good</td>\n",
       "    </tr>\n",
       "    <tr>\n",
       "      <th>997</th>\n",
       "      <td>35-40</td>\n",
       "      <td>male</td>\n",
       "      <td>2</td>\n",
       "      <td>own</td>\n",
       "      <td>little</td>\n",
       "      <td>little</td>\n",
       "      <td>804</td>\n",
       "      <td>12-24</td>\n",
       "      <td>radio/TV</td>\n",
       "      <td>good</td>\n",
       "    </tr>\n",
       "    <tr>\n",
       "      <th>998</th>\n",
       "      <td>0-25</td>\n",
       "      <td>male</td>\n",
       "      <td>2</td>\n",
       "      <td>free</td>\n",
       "      <td>little</td>\n",
       "      <td>little</td>\n",
       "      <td>1845</td>\n",
       "      <td>36-48</td>\n",
       "      <td>radio/TV</td>\n",
       "      <td>bad</td>\n",
       "    </tr>\n",
       "    <tr>\n",
       "      <th>999</th>\n",
       "      <td>25-30</td>\n",
       "      <td>male</td>\n",
       "      <td>2</td>\n",
       "      <td>own</td>\n",
       "      <td>moderate</td>\n",
       "      <td>moderate</td>\n",
       "      <td>4576</td>\n",
       "      <td>36-48</td>\n",
       "      <td>car</td>\n",
       "      <td>good</td>\n",
       "    </tr>\n",
       "  </tbody>\n",
       "</table>\n",
       "<p>1000 rows × 10 columns</p>\n",
       "</div>"
      ],
      "text/plain": [
       "       Age     Sex Job Housing Saving accounts Checking account  \\\n",
       "0    50-75    male   2     own          little           little   \n",
       "1     0-25  female   2     own          little         moderate   \n",
       "2    40-50    male   1     own          little           little   \n",
       "3    40-50    male   2    free          little           little   \n",
       "4    50-75    male   2    free          little           little   \n",
       "..     ...     ...  ..     ...             ...              ...   \n",
       "995  30-35  female   1     own          little           little   \n",
       "996  40-50    male   3     own          little           little   \n",
       "997  35-40    male   2     own          little           little   \n",
       "998   0-25    male   2    free          little           little   \n",
       "999  25-30    male   2     own        moderate         moderate   \n",
       "\n",
       "     Credit amount Duration              Purpose  Risk  \n",
       "0             1169     0-12             radio/TV  good  \n",
       "1             5951    48-60             radio/TV   bad  \n",
       "2             2096    12-24            education  good  \n",
       "3             7882    36-48  furniture/equipment  good  \n",
       "4             4870    24-36                  car   bad  \n",
       "..             ...      ...                  ...   ...  \n",
       "995           1736    12-24  furniture/equipment  good  \n",
       "996           3857    24-36                  car  good  \n",
       "997            804    12-24             radio/TV  good  \n",
       "998           1845    36-48             radio/TV   bad  \n",
       "999           4576    36-48                  car  good  \n",
       "\n",
       "[1000 rows x 10 columns]"
      ]
     },
     "execution_count": 35,
     "metadata": {},
     "output_type": "execute_result"
    }
   ],
   "source": [
    "df"
   ]
  },
  {
   "cell_type": "code",
   "execution_count": 36,
   "metadata": {
    "execution": {
     "iopub.execute_input": "2020-08-14T21:35:34.825441Z",
     "iopub.status.busy": "2020-08-14T21:35:34.824603Z",
     "iopub.status.idle": "2020-08-14T21:35:34.840626Z",
     "shell.execute_reply": "2020-08-14T21:35:34.839873Z"
    },
    "papermill": {
     "duration": 0.054238,
     "end_time": "2020-08-14T21:35:34.840816",
     "exception": false,
     "start_time": "2020-08-14T21:35:34.786578",
     "status": "completed"
    },
    "tags": []
   },
   "outputs": [],
   "source": [
    "df_fit = df.apply(preprocessing.LabelEncoder().fit_transform)"
   ]
  },
  {
   "cell_type": "code",
   "execution_count": 37,
   "metadata": {
    "execution": {
     "iopub.execute_input": "2020-08-14T21:35:35.030539Z",
     "iopub.status.busy": "2020-08-14T21:35:35.029626Z",
     "iopub.status.idle": "2020-08-14T21:35:35.049062Z",
     "shell.execute_reply": "2020-08-14T21:35:35.048163Z"
    },
    "papermill": {
     "duration": 0.174815,
     "end_time": "2020-08-14T21:35:35.049209",
     "exception": false,
     "start_time": "2020-08-14T21:35:34.874394",
     "status": "completed"
    },
    "tags": []
   },
   "outputs": [
    {
     "data": {
      "text/html": [
       "<div>\n",
       "<style scoped>\n",
       "    .dataframe tbody tr th:only-of-type {\n",
       "        vertical-align: middle;\n",
       "    }\n",
       "\n",
       "    .dataframe tbody tr th {\n",
       "        vertical-align: top;\n",
       "    }\n",
       "\n",
       "    .dataframe thead th {\n",
       "        text-align: right;\n",
       "    }\n",
       "</style>\n",
       "<table border=\"1\" class=\"dataframe\">\n",
       "  <thead>\n",
       "    <tr style=\"text-align: right;\">\n",
       "      <th></th>\n",
       "      <th>Age</th>\n",
       "      <th>Sex</th>\n",
       "      <th>Job</th>\n",
       "      <th>Housing</th>\n",
       "      <th>Saving accounts</th>\n",
       "      <th>Checking account</th>\n",
       "      <th>Credit amount</th>\n",
       "      <th>Duration</th>\n",
       "      <th>Purpose</th>\n",
       "      <th>Risk</th>\n",
       "    </tr>\n",
       "  </thead>\n",
       "  <tbody>\n",
       "    <tr>\n",
       "      <th>0</th>\n",
       "      <td>5</td>\n",
       "      <td>1</td>\n",
       "      <td>2</td>\n",
       "      <td>1</td>\n",
       "      <td>0</td>\n",
       "      <td>0</td>\n",
       "      <td>142</td>\n",
       "      <td>0</td>\n",
       "      <td>5</td>\n",
       "      <td>1</td>\n",
       "    </tr>\n",
       "    <tr>\n",
       "      <th>1</th>\n",
       "      <td>0</td>\n",
       "      <td>0</td>\n",
       "      <td>2</td>\n",
       "      <td>1</td>\n",
       "      <td>0</td>\n",
       "      <td>1</td>\n",
       "      <td>770</td>\n",
       "      <td>4</td>\n",
       "      <td>5</td>\n",
       "      <td>0</td>\n",
       "    </tr>\n",
       "    <tr>\n",
       "      <th>2</th>\n",
       "      <td>4</td>\n",
       "      <td>1</td>\n",
       "      <td>1</td>\n",
       "      <td>1</td>\n",
       "      <td>0</td>\n",
       "      <td>0</td>\n",
       "      <td>390</td>\n",
       "      <td>1</td>\n",
       "      <td>3</td>\n",
       "      <td>1</td>\n",
       "    </tr>\n",
       "    <tr>\n",
       "      <th>3</th>\n",
       "      <td>4</td>\n",
       "      <td>1</td>\n",
       "      <td>2</td>\n",
       "      <td>0</td>\n",
       "      <td>0</td>\n",
       "      <td>0</td>\n",
       "      <td>848</td>\n",
       "      <td>3</td>\n",
       "      <td>4</td>\n",
       "      <td>1</td>\n",
       "    </tr>\n",
       "    <tr>\n",
       "      <th>4</th>\n",
       "      <td>5</td>\n",
       "      <td>1</td>\n",
       "      <td>2</td>\n",
       "      <td>0</td>\n",
       "      <td>0</td>\n",
       "      <td>0</td>\n",
       "      <td>734</td>\n",
       "      <td>2</td>\n",
       "      <td>1</td>\n",
       "      <td>0</td>\n",
       "    </tr>\n",
       "    <tr>\n",
       "      <th>...</th>\n",
       "      <td>...</td>\n",
       "      <td>...</td>\n",
       "      <td>...</td>\n",
       "      <td>...</td>\n",
       "      <td>...</td>\n",
       "      <td>...</td>\n",
       "      <td>...</td>\n",
       "      <td>...</td>\n",
       "      <td>...</td>\n",
       "      <td>...</td>\n",
       "    </tr>\n",
       "    <tr>\n",
       "      <th>995</th>\n",
       "      <td>2</td>\n",
       "      <td>0</td>\n",
       "      <td>1</td>\n",
       "      <td>1</td>\n",
       "      <td>0</td>\n",
       "      <td>0</td>\n",
       "      <td>310</td>\n",
       "      <td>1</td>\n",
       "      <td>4</td>\n",
       "      <td>1</td>\n",
       "    </tr>\n",
       "    <tr>\n",
       "      <th>996</th>\n",
       "      <td>4</td>\n",
       "      <td>1</td>\n",
       "      <td>3</td>\n",
       "      <td>1</td>\n",
       "      <td>0</td>\n",
       "      <td>0</td>\n",
       "      <td>661</td>\n",
       "      <td>2</td>\n",
       "      <td>1</td>\n",
       "      <td>1</td>\n",
       "    </tr>\n",
       "    <tr>\n",
       "      <th>997</th>\n",
       "      <td>3</td>\n",
       "      <td>1</td>\n",
       "      <td>2</td>\n",
       "      <td>1</td>\n",
       "      <td>0</td>\n",
       "      <td>0</td>\n",
       "      <td>69</td>\n",
       "      <td>1</td>\n",
       "      <td>5</td>\n",
       "      <td>1</td>\n",
       "    </tr>\n",
       "    <tr>\n",
       "      <th>998</th>\n",
       "      <td>0</td>\n",
       "      <td>1</td>\n",
       "      <td>2</td>\n",
       "      <td>0</td>\n",
       "      <td>0</td>\n",
       "      <td>0</td>\n",
       "      <td>332</td>\n",
       "      <td>3</td>\n",
       "      <td>5</td>\n",
       "      <td>0</td>\n",
       "    </tr>\n",
       "    <tr>\n",
       "      <th>999</th>\n",
       "      <td>1</td>\n",
       "      <td>1</td>\n",
       "      <td>2</td>\n",
       "      <td>1</td>\n",
       "      <td>1</td>\n",
       "      <td>1</td>\n",
       "      <td>711</td>\n",
       "      <td>3</td>\n",
       "      <td>1</td>\n",
       "      <td>1</td>\n",
       "    </tr>\n",
       "  </tbody>\n",
       "</table>\n",
       "<p>1000 rows × 10 columns</p>\n",
       "</div>"
      ],
      "text/plain": [
       "     Age  Sex  Job  Housing  Saving accounts  Checking account  Credit amount  \\\n",
       "0      5    1    2        1                0                 0            142   \n",
       "1      0    0    2        1                0                 1            770   \n",
       "2      4    1    1        1                0                 0            390   \n",
       "3      4    1    2        0                0                 0            848   \n",
       "4      5    1    2        0                0                 0            734   \n",
       "..   ...  ...  ...      ...              ...               ...            ...   \n",
       "995    2    0    1        1                0                 0            310   \n",
       "996    4    1    3        1                0                 0            661   \n",
       "997    3    1    2        1                0                 0             69   \n",
       "998    0    1    2        0                0                 0            332   \n",
       "999    1    1    2        1                1                 1            711   \n",
       "\n",
       "     Duration  Purpose  Risk  \n",
       "0           0        5     1  \n",
       "1           4        5     0  \n",
       "2           1        3     1  \n",
       "3           3        4     1  \n",
       "4           2        1     0  \n",
       "..        ...      ...   ...  \n",
       "995         1        4     1  \n",
       "996         2        1     1  \n",
       "997         1        5     1  \n",
       "998         3        5     0  \n",
       "999         3        1     1  \n",
       "\n",
       "[1000 rows x 10 columns]"
      ]
     },
     "execution_count": 37,
     "metadata": {},
     "output_type": "execute_result"
    }
   ],
   "source": [
    "df_fit"
   ]
  },
  {
   "cell_type": "code",
   "execution_count": 38,
   "metadata": {
    "execution": {
     "iopub.execute_input": "2020-08-14T21:35:35.128563Z",
     "iopub.status.busy": "2020-08-14T21:35:35.127434Z",
     "iopub.status.idle": "2020-08-14T21:35:35.132239Z",
     "shell.execute_reply": "2020-08-14T21:35:35.131429Z"
    },
    "papermill": {
     "duration": 0.049636,
     "end_time": "2020-08-14T21:35:35.132387",
     "exception": false,
     "start_time": "2020-08-14T21:35:35.082751",
     "status": "completed"
    },
    "tags": []
   },
   "outputs": [
    {
     "name": "stdout",
     "output_type": "stream",
     "text": [
      "<class 'pandas.core.frame.DataFrame'>\n",
      "Int64Index: 1000 entries, 0 to 999\n",
      "Data columns (total 10 columns):\n",
      " #   Column            Non-Null Count  Dtype\n",
      "---  ------            --------------  -----\n",
      " 0   Age               1000 non-null   int64\n",
      " 1   Sex               1000 non-null   int64\n",
      " 2   Job               1000 non-null   int64\n",
      " 3   Housing           1000 non-null   int64\n",
      " 4   Saving accounts   1000 non-null   int64\n",
      " 5   Checking account  1000 non-null   int64\n",
      " 6   Credit amount     1000 non-null   int64\n",
      " 7   Duration          1000 non-null   int64\n",
      " 8   Purpose           1000 non-null   int64\n",
      " 9   Risk              1000 non-null   int64\n",
      "dtypes: int64(10)\n",
      "memory usage: 125.9 KB\n"
     ]
    }
   ],
   "source": [
    "df_fit.info()"
   ]
  },
  {
   "cell_type": "code",
   "execution_count": 39,
   "metadata": {
    "execution": {
     "iopub.execute_input": "2020-08-14T21:35:35.206501Z",
     "iopub.status.busy": "2020-08-14T21:35:35.205274Z",
     "iopub.status.idle": "2020-08-14T21:35:35.209448Z",
     "shell.execute_reply": "2020-08-14T21:35:35.208659Z"
    },
    "papermill": {
     "duration": 0.044313,
     "end_time": "2020-08-14T21:35:35.209581",
     "exception": false,
     "start_time": "2020-08-14T21:35:35.165268",
     "status": "completed"
    },
    "tags": []
   },
   "outputs": [],
   "source": [
    "y = df_fit[\"Risk\"]\n",
    "X = df_fit.drop([\"Risk\"], axis=1)"
   ]
  },
  {
   "cell_type": "markdown",
   "execution_count": null,
   "metadata": {
    "papermill": {
     "duration": 0.032686,
     "end_time": "2020-08-14T21:35:35.276773",
     "exception": false,
     "start_time": "2020-08-14T21:35:35.244087",
     "status": "completed"
    },
    "tags": []
   },
   "source": [
    "## 5.1) statsmodels"
   ]
  },
  {
   "cell_type": "code",
   "execution_count": 40,
   "metadata": {
    "execution": {
     "iopub.execute_input": "2020-08-14T21:35:35.382490Z",
     "iopub.status.busy": "2020-08-14T21:35:35.381559Z",
     "iopub.status.idle": "2020-08-14T21:35:35.443991Z",
     "shell.execute_reply": "2020-08-14T21:35:35.443294Z"
    },
    "papermill": {
     "duration": 0.134528,
     "end_time": "2020-08-14T21:35:35.444137",
     "exception": false,
     "start_time": "2020-08-14T21:35:35.309609",
     "status": "completed"
    },
    "tags": []
   },
   "outputs": [
    {
     "name": "stdout",
     "output_type": "stream",
     "text": [
      "Optimization terminated successfully.\n",
      "         Current function value: 0.571030\n",
      "         Iterations 6\n"
     ]
    },
    {
     "data": {
      "text/html": [
       "<table class=\"simpletable\">\n",
       "<caption>Logit Regression Results</caption>\n",
       "<tr>\n",
       "  <th>Dep. Variable:</th>         <td>Risk</td>       <th>  No. Observations:  </th>  <td>  1000</td>  \n",
       "</tr>\n",
       "<tr>\n",
       "  <th>Model:</th>                 <td>Logit</td>      <th>  Df Residuals:      </th>  <td>   991</td>  \n",
       "</tr>\n",
       "<tr>\n",
       "  <th>Method:</th>                 <td>MLE</td>       <th>  Df Model:          </th>  <td>     8</td>  \n",
       "</tr>\n",
       "<tr>\n",
       "  <th>Date:</th>            <td>Fri, 14 Aug 2020</td> <th>  Pseudo R-squ.:     </th>  <td>0.06521</td> \n",
       "</tr>\n",
       "<tr>\n",
       "  <th>Time:</th>                <td>21:35:35</td>     <th>  Log-Likelihood:    </th> <td> -571.03</td> \n",
       "</tr>\n",
       "<tr>\n",
       "  <th>converged:</th>             <td>True</td>       <th>  LL-Null:           </th> <td> -610.86</td> \n",
       "</tr>\n",
       "<tr>\n",
       "  <th>Covariance Type:</th>     <td>nonrobust</td>    <th>  LLR p-value:       </th> <td>5.699e-14</td>\n",
       "</tr>\n",
       "</table>\n",
       "<table class=\"simpletable\">\n",
       "<tr>\n",
       "          <td></td>            <th>coef</th>     <th>std err</th>      <th>z</th>      <th>P>|z|</th>  <th>[0.025</th>    <th>0.975]</th>  \n",
       "</tr>\n",
       "<tr>\n",
       "  <th>Age</th>              <td>    0.1678</td> <td>    0.044</td> <td>    3.779</td> <td> 0.000</td> <td>    0.081</td> <td>    0.255</td>\n",
       "</tr>\n",
       "<tr>\n",
       "  <th>Sex</th>              <td>    0.4382</td> <td>    0.153</td> <td>    2.870</td> <td> 0.004</td> <td>    0.139</td> <td>    0.737</td>\n",
       "</tr>\n",
       "<tr>\n",
       "  <th>Job</th>              <td>    0.0735</td> <td>    0.100</td> <td>    0.735</td> <td> 0.462</td> <td>   -0.122</td> <td>    0.269</td>\n",
       "</tr>\n",
       "<tr>\n",
       "  <th>Housing</th>          <td>    0.1024</td> <td>    0.114</td> <td>    0.898</td> <td> 0.369</td> <td>   -0.121</td> <td>    0.326</td>\n",
       "</tr>\n",
       "<tr>\n",
       "  <th>Saving accounts</th>  <td>    0.3520</td> <td>    0.105</td> <td>    3.357</td> <td> 0.001</td> <td>    0.146</td> <td>    0.557</td>\n",
       "</tr>\n",
       "<tr>\n",
       "  <th>Checking account</th> <td>   -0.1683</td> <td>    0.116</td> <td>   -1.457</td> <td> 0.145</td> <td>   -0.395</td> <td>    0.058</td>\n",
       "</tr>\n",
       "<tr>\n",
       "  <th>Credit amount</th>    <td>    0.0007</td> <td>    0.000</td> <td>    1.930</td> <td> 0.054</td> <td>-1.07e-05</td> <td>    0.001</td>\n",
       "</tr>\n",
       "<tr>\n",
       "  <th>Duration</th>         <td>   -0.4796</td> <td>    0.081</td> <td>   -5.944</td> <td> 0.000</td> <td>   -0.638</td> <td>   -0.321</td>\n",
       "</tr>\n",
       "<tr>\n",
       "  <th>Purpose</th>          <td>    0.1048</td> <td>    0.035</td> <td>    3.036</td> <td> 0.002</td> <td>    0.037</td> <td>    0.173</td>\n",
       "</tr>\n",
       "</table>"
      ],
      "text/plain": [
       "<class 'statsmodels.iolib.summary.Summary'>\n",
       "\"\"\"\n",
       "                           Logit Regression Results                           \n",
       "==============================================================================\n",
       "Dep. Variable:                   Risk   No. Observations:                 1000\n",
       "Model:                          Logit   Df Residuals:                      991\n",
       "Method:                           MLE   Df Model:                            8\n",
       "Date:                Fri, 14 Aug 2020   Pseudo R-squ.:                 0.06521\n",
       "Time:                        21:35:35   Log-Likelihood:                -571.03\n",
       "converged:                       True   LL-Null:                       -610.86\n",
       "Covariance Type:            nonrobust   LLR p-value:                 5.699e-14\n",
       "====================================================================================\n",
       "                       coef    std err          z      P>|z|      [0.025      0.975]\n",
       "------------------------------------------------------------------------------------\n",
       "Age                  0.1678      0.044      3.779      0.000       0.081       0.255\n",
       "Sex                  0.4382      0.153      2.870      0.004       0.139       0.737\n",
       "Job                  0.0735      0.100      0.735      0.462      -0.122       0.269\n",
       "Housing              0.1024      0.114      0.898      0.369      -0.121       0.326\n",
       "Saving accounts      0.3520      0.105      3.357      0.001       0.146       0.557\n",
       "Checking account    -0.1683      0.116     -1.457      0.145      -0.395       0.058\n",
       "Credit amount        0.0007      0.000      1.930      0.054   -1.07e-05       0.001\n",
       "Duration            -0.4796      0.081     -5.944      0.000      -0.638      -0.321\n",
       "Purpose              0.1048      0.035      3.036      0.002       0.037       0.173\n",
       "====================================================================================\n",
       "\"\"\""
      ]
     },
     "execution_count": 40,
     "metadata": {},
     "output_type": "execute_result"
    }
   ],
   "source": [
    "loj = sm.Logit(y, X)\n",
    "loj_model= loj.fit()\n",
    "loj_model.summary()"
   ]
  },
  {
   "cell_type": "markdown",
   "execution_count": null,
   "metadata": {
    "papermill": {
     "duration": 0.033436,
     "end_time": "2020-08-14T21:35:35.511875",
     "exception": false,
     "start_time": "2020-08-14T21:35:35.478439",
     "status": "completed"
    },
    "tags": []
   },
   "source": [
    "## 5.2) scikit-learn"
   ]
  },
  {
   "cell_type": "code",
   "execution_count": 41,
   "metadata": {
    "execution": {
     "iopub.execute_input": "2020-08-14T21:35:35.585971Z",
     "iopub.status.busy": "2020-08-14T21:35:35.585035Z",
     "iopub.status.idle": "2020-08-14T21:35:35.588995Z",
     "shell.execute_reply": "2020-08-14T21:35:35.588285Z"
    },
    "papermill": {
     "duration": 0.043361,
     "end_time": "2020-08-14T21:35:35.589134",
     "exception": false,
     "start_time": "2020-08-14T21:35:35.545773",
     "status": "completed"
    },
    "tags": []
   },
   "outputs": [],
   "source": [
    "from sklearn.linear_model import LogisticRegression"
   ]
  },
  {
   "cell_type": "code",
   "execution_count": 42,
   "metadata": {
    "execution": {
     "iopub.execute_input": "2020-08-14T21:35:35.665750Z",
     "iopub.status.busy": "2020-08-14T21:35:35.664584Z",
     "iopub.status.idle": "2020-08-14T21:35:35.679249Z",
     "shell.execute_reply": "2020-08-14T21:35:35.678325Z"
    },
    "papermill": {
     "duration": 0.056597,
     "end_time": "2020-08-14T21:35:35.679396",
     "exception": false,
     "start_time": "2020-08-14T21:35:35.622799",
     "status": "completed"
    },
    "tags": []
   },
   "outputs": [
    {
     "data": {
      "text/plain": [
       "LogisticRegression(solver='liblinear')"
      ]
     },
     "execution_count": 42,
     "metadata": {},
     "output_type": "execute_result"
    }
   ],
   "source": [
    "loj = LogisticRegression(solver = \"liblinear\")\n",
    "loj_model = loj.fit(X,y)\n",
    "loj_model"
   ]
  },
  {
   "cell_type": "code",
   "execution_count": 43,
   "metadata": {
    "execution": {
     "iopub.execute_input": "2020-08-14T21:35:35.755568Z",
     "iopub.status.busy": "2020-08-14T21:35:35.754649Z",
     "iopub.status.idle": "2020-08-14T21:35:35.759934Z",
     "shell.execute_reply": "2020-08-14T21:35:35.759151Z"
    },
    "papermill": {
     "duration": 0.046423,
     "end_time": "2020-08-14T21:35:35.760079",
     "exception": false,
     "start_time": "2020-08-14T21:35:35.713656",
     "status": "completed"
    },
    "tags": []
   },
   "outputs": [
    {
     "data": {
      "text/plain": [
       "array([0.54055451])"
      ]
     },
     "execution_count": 43,
     "metadata": {},
     "output_type": "execute_result"
    }
   ],
   "source": [
    "loj_model.intercept_"
   ]
  },
  {
   "cell_type": "code",
   "execution_count": 44,
   "metadata": {
    "execution": {
     "iopub.execute_input": "2020-08-14T21:35:35.834891Z",
     "iopub.status.busy": "2020-08-14T21:35:35.833897Z",
     "iopub.status.idle": "2020-08-14T21:35:35.838876Z",
     "shell.execute_reply": "2020-08-14T21:35:35.838094Z"
    },
    "papermill": {
     "duration": 0.044673,
     "end_time": "2020-08-14T21:35:35.839008",
     "exception": false,
     "start_time": "2020-08-14T21:35:35.794335",
     "status": "completed"
    },
    "tags": []
   },
   "outputs": [
    {
     "data": {
      "text/plain": [
       "array([[ 0.13918276,  0.39906819, -0.02354297, -0.02468167,  0.32981798,\n",
       "        -0.18683519,  0.00060633, -0.48471656,  0.08564137]])"
      ]
     },
     "execution_count": 44,
     "metadata": {},
     "output_type": "execute_result"
    }
   ],
   "source": [
    "loj_model.coef_"
   ]
  },
  {
   "cell_type": "markdown",
   "execution_count": null,
   "metadata": {
    "papermill": {
     "duration": 0.033413,
     "end_time": "2020-08-14T21:35:35.908078",
     "exception": false,
     "start_time": "2020-08-14T21:35:35.874665",
     "status": "completed"
    },
    "tags": []
   },
   "source": [
    "## 5.3) Tahmin & Model Tuning"
   ]
  },
  {
   "cell_type": "code",
   "execution_count": 45,
   "metadata": {
    "execution": {
     "iopub.execute_input": "2020-08-14T21:35:35.984061Z",
     "iopub.status.busy": "2020-08-14T21:35:35.983022Z",
     "iopub.status.idle": "2020-08-14T21:35:35.989721Z",
     "shell.execute_reply": "2020-08-14T21:35:35.988879Z"
    },
    "papermill": {
     "duration": 0.047781,
     "end_time": "2020-08-14T21:35:35.989884",
     "exception": false,
     "start_time": "2020-08-14T21:35:35.942103",
     "status": "completed"
    },
    "tags": []
   },
   "outputs": [],
   "source": [
    "y_pred = loj_model.predict(X)"
   ]
  },
  {
   "cell_type": "code",
   "execution_count": 46,
   "metadata": {
    "execution": {
     "iopub.execute_input": "2020-08-14T21:35:36.071245Z",
     "iopub.status.busy": "2020-08-14T21:35:36.070193Z",
     "iopub.status.idle": "2020-08-14T21:35:36.079633Z",
     "shell.execute_reply": "2020-08-14T21:35:36.078920Z"
    },
    "papermill": {
     "duration": 0.051195,
     "end_time": "2020-08-14T21:35:36.079794",
     "exception": false,
     "start_time": "2020-08-14T21:35:36.028599",
     "status": "completed"
    },
    "tags": []
   },
   "outputs": [
    {
     "data": {
      "text/plain": [
       "array([[ 49, 251],\n",
       "       [ 36, 664]])"
      ]
     },
     "execution_count": 46,
     "metadata": {},
     "output_type": "execute_result"
    }
   ],
   "source": [
    "confusion_matrix(y, y_pred)"
   ]
  },
  {
   "cell_type": "code",
   "execution_count": 47,
   "metadata": {
    "execution": {
     "iopub.execute_input": "2020-08-14T21:35:36.157903Z",
     "iopub.status.busy": "2020-08-14T21:35:36.156660Z",
     "iopub.status.idle": "2020-08-14T21:35:36.163363Z",
     "shell.execute_reply": "2020-08-14T21:35:36.162620Z"
    },
    "papermill": {
     "duration": 0.048003,
     "end_time": "2020-08-14T21:35:36.163501",
     "exception": false,
     "start_time": "2020-08-14T21:35:36.115498",
     "status": "completed"
    },
    "tags": []
   },
   "outputs": [
    {
     "data": {
      "text/plain": [
       "0.713"
      ]
     },
     "execution_count": 47,
     "metadata": {},
     "output_type": "execute_result"
    }
   ],
   "source": [
    "accuracy_score(y, y_pred)"
   ]
  },
  {
   "cell_type": "code",
   "execution_count": 48,
   "metadata": {
    "execution": {
     "iopub.execute_input": "2020-08-14T21:35:36.240818Z",
     "iopub.status.busy": "2020-08-14T21:35:36.239938Z",
     "iopub.status.idle": "2020-08-14T21:35:36.251965Z",
     "shell.execute_reply": "2020-08-14T21:35:36.252901Z"
    },
    "papermill": {
     "duration": 0.054675,
     "end_time": "2020-08-14T21:35:36.253113",
     "exception": false,
     "start_time": "2020-08-14T21:35:36.198438",
     "status": "completed"
    },
    "tags": []
   },
   "outputs": [
    {
     "name": "stdout",
     "output_type": "stream",
     "text": [
      "              precision    recall  f1-score   support\n",
      "\n",
      "           0       0.58      0.16      0.25       300\n",
      "           1       0.73      0.95      0.82       700\n",
      "\n",
      "    accuracy                           0.71      1000\n",
      "   macro avg       0.65      0.56      0.54      1000\n",
      "weighted avg       0.68      0.71      0.65      1000\n",
      "\n"
     ]
    }
   ],
   "source": [
    "print(classification_report(y, y_pred))"
   ]
  },
  {
   "cell_type": "code",
   "execution_count": 49,
   "metadata": {
    "execution": {
     "iopub.execute_input": "2020-08-14T21:35:36.333649Z",
     "iopub.status.busy": "2020-08-14T21:35:36.332382Z",
     "iopub.status.idle": "2020-08-14T21:35:36.337799Z",
     "shell.execute_reply": "2020-08-14T21:35:36.336978Z"
    },
    "papermill": {
     "duration": 0.049302,
     "end_time": "2020-08-14T21:35:36.337946",
     "exception": false,
     "start_time": "2020-08-14T21:35:36.288644",
     "status": "completed"
    },
    "tags": []
   },
   "outputs": [
    {
     "data": {
      "text/plain": [
       "array([1, 0, 1, 1, 1, 1, 1, 1, 1, 1])"
      ]
     },
     "execution_count": 49,
     "metadata": {},
     "output_type": "execute_result"
    }
   ],
   "source": [
    "loj_model.predict(X)[0:10]"
   ]
  },
  {
   "cell_type": "code",
   "execution_count": 50,
   "metadata": {
    "execution": {
     "iopub.execute_input": "2020-08-14T21:35:36.419808Z",
     "iopub.status.busy": "2020-08-14T21:35:36.417800Z",
     "iopub.status.idle": "2020-08-14T21:35:36.426992Z",
     "shell.execute_reply": "2020-08-14T21:35:36.426166Z"
    },
    "papermill": {
     "duration": 0.05208,
     "end_time": "2020-08-14T21:35:36.427132",
     "exception": false,
     "start_time": "2020-08-14T21:35:36.375052",
     "status": "completed"
    },
    "tags": []
   },
   "outputs": [
    {
     "data": {
      "text/plain": [
       "array([[0.11124614, 0.88875386],\n",
       "       [0.68175107, 0.31824893],\n",
       "       [0.1889562 , 0.8110438 ],\n",
       "       [0.29904395, 0.70095605],\n",
       "       [0.24054246, 0.75945754],\n",
       "       [0.33999725, 0.66000275],\n",
       "       [0.12789356, 0.87210644],\n",
       "       [0.45641476, 0.54358524],\n",
       "       [0.05411469, 0.94588531],\n",
       "       [0.40955646, 0.59044354]])"
      ]
     },
     "execution_count": 50,
     "metadata": {},
     "output_type": "execute_result"
    }
   ],
   "source": [
    "loj_model.predict_proba(X)[0:10][:,0:2]"
   ]
  },
  {
   "cell_type": "code",
   "execution_count": 51,
   "metadata": {
    "execution": {
     "iopub.execute_input": "2020-08-14T21:35:36.507027Z",
     "iopub.status.busy": "2020-08-14T21:35:36.505738Z",
     "iopub.status.idle": "2020-08-14T21:35:36.512538Z",
     "shell.execute_reply": "2020-08-14T21:35:36.511680Z"
    },
    "papermill": {
     "duration": 0.049907,
     "end_time": "2020-08-14T21:35:36.512718",
     "exception": false,
     "start_time": "2020-08-14T21:35:36.462811",
     "status": "completed"
    },
    "tags": []
   },
   "outputs": [
    {
     "data": {
      "text/plain": [
       "0    1\n",
       "1    0\n",
       "2    1\n",
       "3    1\n",
       "4    0\n",
       "5    1\n",
       "6    1\n",
       "7    1\n",
       "8    1\n",
       "9    0\n",
       "Name: Risk, dtype: int64"
      ]
     },
     "execution_count": 51,
     "metadata": {},
     "output_type": "execute_result"
    }
   ],
   "source": [
    "y[0:10]"
   ]
  },
  {
   "cell_type": "code",
   "execution_count": null,
   "metadata": {
    "papermill": {
     "duration": 0.035486,
     "end_time": "2020-08-14T21:35:36.587005",
     "exception": false,
     "start_time": "2020-08-14T21:35:36.551519",
     "status": "completed"
    },
    "tags": []
   },
   "outputs": [],
   "source": []
  },
  {
   "cell_type": "code",
   "execution_count": 52,
   "metadata": {
    "execution": {
     "iopub.execute_input": "2020-08-14T21:35:36.668607Z",
     "iopub.status.busy": "2020-08-14T21:35:36.667731Z",
     "iopub.status.idle": "2020-08-14T21:35:36.671134Z",
     "shell.execute_reply": "2020-08-14T21:35:36.671686Z"
    },
    "papermill": {
     "duration": 0.0484,
     "end_time": "2020-08-14T21:35:36.671882",
     "exception": false,
     "start_time": "2020-08-14T21:35:36.623482",
     "status": "completed"
    },
    "tags": []
   },
   "outputs": [],
   "source": [
    "y_probs = loj_model.predict_proba(X)\n",
    "y_probs = y_probs[:,1]"
   ]
  },
  {
   "cell_type": "code",
   "execution_count": 53,
   "metadata": {
    "execution": {
     "iopub.execute_input": "2020-08-14T21:35:36.754587Z",
     "iopub.status.busy": "2020-08-14T21:35:36.753396Z",
     "iopub.status.idle": "2020-08-14T21:35:36.759888Z",
     "shell.execute_reply": "2020-08-14T21:35:36.758949Z"
    },
    "papermill": {
     "duration": 0.051069,
     "end_time": "2020-08-14T21:35:36.760037",
     "exception": false,
     "start_time": "2020-08-14T21:35:36.708968",
     "status": "completed"
    },
    "tags": []
   },
   "outputs": [
    {
     "data": {
      "text/plain": [
       "array([0.88875386, 0.31824893, 0.8110438 , 0.70095605, 0.75945754,\n",
       "       0.66000275, 0.87210644, 0.54358524, 0.94588531, 0.59044354])"
      ]
     },
     "execution_count": 53,
     "metadata": {},
     "output_type": "execute_result"
    }
   ],
   "source": [
    "y_probs[0:10]"
   ]
  },
  {
   "cell_type": "code",
   "execution_count": 54,
   "metadata": {
    "execution": {
     "iopub.execute_input": "2020-08-14T21:35:36.840167Z",
     "iopub.status.busy": "2020-08-14T21:35:36.839249Z",
     "iopub.status.idle": "2020-08-14T21:35:36.842930Z",
     "shell.execute_reply": "2020-08-14T21:35:36.842163Z"
    },
    "papermill": {
     "duration": 0.047065,
     "end_time": "2020-08-14T21:35:36.843101",
     "exception": false,
     "start_time": "2020-08-14T21:35:36.796036",
     "status": "completed"
    },
    "tags": []
   },
   "outputs": [],
   "source": [
    "y_pred = [1 if i > 0.5 else 0 for i in y_probs]"
   ]
  },
  {
   "cell_type": "code",
   "execution_count": 55,
   "metadata": {
    "execution": {
     "iopub.execute_input": "2020-08-14T21:35:36.925406Z",
     "iopub.status.busy": "2020-08-14T21:35:36.924278Z",
     "iopub.status.idle": "2020-08-14T21:35:36.929296Z",
     "shell.execute_reply": "2020-08-14T21:35:36.928538Z"
    },
    "papermill": {
     "duration": 0.049013,
     "end_time": "2020-08-14T21:35:36.929423",
     "exception": false,
     "start_time": "2020-08-14T21:35:36.880410",
     "status": "completed"
    },
    "tags": []
   },
   "outputs": [
    {
     "data": {
      "text/plain": [
       "[1, 0, 1, 1, 1, 1, 1, 1, 1, 1]"
      ]
     },
     "execution_count": 55,
     "metadata": {},
     "output_type": "execute_result"
    }
   ],
   "source": [
    "y_pred[0:10]"
   ]
  },
  {
   "cell_type": "code",
   "execution_count": 56,
   "metadata": {
    "execution": {
     "iopub.execute_input": "2020-08-14T21:35:37.008262Z",
     "iopub.status.busy": "2020-08-14T21:35:37.007236Z",
     "iopub.status.idle": "2020-08-14T21:35:37.016529Z",
     "shell.execute_reply": "2020-08-14T21:35:37.017213Z"
    },
    "papermill": {
     "duration": 0.052018,
     "end_time": "2020-08-14T21:35:37.017416",
     "exception": false,
     "start_time": "2020-08-14T21:35:36.965398",
     "status": "completed"
    },
    "tags": []
   },
   "outputs": [
    {
     "data": {
      "text/plain": [
       "array([[ 49, 251],\n",
       "       [ 36, 664]])"
      ]
     },
     "execution_count": 56,
     "metadata": {},
     "output_type": "execute_result"
    }
   ],
   "source": [
    "confusion_matrix(y, y_pred)"
   ]
  },
  {
   "cell_type": "code",
   "execution_count": 57,
   "metadata": {
    "execution": {
     "iopub.execute_input": "2020-08-14T21:35:37.101644Z",
     "iopub.status.busy": "2020-08-14T21:35:37.100741Z",
     "iopub.status.idle": "2020-08-14T21:35:37.105651Z",
     "shell.execute_reply": "2020-08-14T21:35:37.104878Z"
    },
    "papermill": {
     "duration": 0.051084,
     "end_time": "2020-08-14T21:35:37.105808",
     "exception": false,
     "start_time": "2020-08-14T21:35:37.054724",
     "status": "completed"
    },
    "tags": []
   },
   "outputs": [
    {
     "data": {
      "text/plain": [
       "0.713"
      ]
     },
     "execution_count": 57,
     "metadata": {},
     "output_type": "execute_result"
    }
   ],
   "source": [
    "accuracy_score(y, y_pred)"
   ]
  },
  {
   "cell_type": "code",
   "execution_count": 58,
   "metadata": {
    "execution": {
     "iopub.execute_input": "2020-08-14T21:35:37.185790Z",
     "iopub.status.busy": "2020-08-14T21:35:37.184942Z",
     "iopub.status.idle": "2020-08-14T21:35:37.197407Z",
     "shell.execute_reply": "2020-08-14T21:35:37.198157Z"
    },
    "papermill": {
     "duration": 0.055222,
     "end_time": "2020-08-14T21:35:37.198356",
     "exception": false,
     "start_time": "2020-08-14T21:35:37.143134",
     "status": "completed"
    },
    "tags": []
   },
   "outputs": [
    {
     "name": "stdout",
     "output_type": "stream",
     "text": [
      "              precision    recall  f1-score   support\n",
      "\n",
      "           0       0.58      0.16      0.25       300\n",
      "           1       0.73      0.95      0.82       700\n",
      "\n",
      "    accuracy                           0.71      1000\n",
      "   macro avg       0.65      0.56      0.54      1000\n",
      "weighted avg       0.68      0.71      0.65      1000\n",
      "\n"
     ]
    }
   ],
   "source": [
    "print(classification_report(y, y_pred))"
   ]
  },
  {
   "cell_type": "code",
   "execution_count": 59,
   "metadata": {
    "execution": {
     "iopub.execute_input": "2020-08-14T21:35:37.284804Z",
     "iopub.status.busy": "2020-08-14T21:35:37.283961Z",
     "iopub.status.idle": "2020-08-14T21:35:37.468317Z",
     "shell.execute_reply": "2020-08-14T21:35:37.467453Z"
    },
    "papermill": {
     "duration": 0.233313,
     "end_time": "2020-08-14T21:35:37.468461",
     "exception": false,
     "start_time": "2020-08-14T21:35:37.235148",
     "status": "completed"
    },
    "tags": []
   },
   "outputs": [
    {
     "data": {
      "image/png": "[encoded data removed]",
      "text/plain": [
       "<Figure size 432x288 with 1 Axes>"
      ]
     },
     "metadata": {
      "needs_background": "light"
     },
     "output_type": "display_data"
    }
   ],
   "source": [
    "logit_roc_auc = roc_auc_score(y, loj_model.predict(X))\n",
    "\n",
    "fpr, tpr, thresholds = roc_curve(y, loj_model.predict_proba(X)[:,1])\n",
    "plt.figure()\n",
    "plt.plot(fpr, tpr, label='AUC (area = %0.2f)' % logit_roc_auc)\n",
    "plt.plot([0, 1], [0, 1],'r--')\n",
    "plt.xlim([0.0, 1.0])\n",
    "plt.ylim([0.0, 1.05])\n",
    "plt.xlabel('False Positive Oranı')\n",
    "plt.ylabel('True Positive Oranı')\n",
    "plt.title('ROC')\n",
    "plt.show()"
   ]
  },
  {
   "cell_type": "code",
   "execution_count": 60,
   "metadata": {
    "execution": {
     "iopub.execute_input": "2020-08-14T21:35:37.554056Z",
     "iopub.status.busy": "2020-08-14T21:35:37.553173Z",
     "iopub.status.idle": "2020-08-14T21:35:37.556842Z",
     "shell.execute_reply": "2020-08-14T21:35:37.557440Z"
    },
    "papermill": {
     "duration": 0.051646,
     "end_time": "2020-08-14T21:35:37.557624",
     "exception": false,
     "start_time": "2020-08-14T21:35:37.505978",
     "status": "completed"
    },
    "tags": []
   },
   "outputs": [],
   "source": [
    "X_train, X_test, y_train, y_test = train_test_split(X, y, \n",
    "                                                    test_size = 0.30, \n",
    "                                                    random_state = 42)"
   ]
  },
  {
   "cell_type": "code",
   "execution_count": 61,
   "metadata": {
    "execution": {
     "iopub.execute_input": "2020-08-14T21:35:37.640513Z",
     "iopub.status.busy": "2020-08-14T21:35:37.639384Z",
     "iopub.status.idle": "2020-08-14T21:35:37.651288Z",
     "shell.execute_reply": "2020-08-14T21:35:37.650554Z"
    },
    "papermill": {
     "duration": 0.056875,
     "end_time": "2020-08-14T21:35:37.651429",
     "exception": false,
     "start_time": "2020-08-14T21:35:37.594554",
     "status": "completed"
    },
    "tags": []
   },
   "outputs": [
    {
     "data": {
      "text/plain": [
       "LogisticRegression(solver='liblinear')"
      ]
     },
     "execution_count": 61,
     "metadata": {},
     "output_type": "execute_result"
    }
   ],
   "source": [
    "loj = LogisticRegression(solver = \"liblinear\")\n",
    "loj_model = loj.fit(X_train,y_train)\n",
    "loj_model"
   ]
  },
  {
   "cell_type": "code",
   "execution_count": 62,
   "metadata": {
    "execution": {
     "iopub.execute_input": "2020-08-14T21:35:37.736799Z",
     "iopub.status.busy": "2020-08-14T21:35:37.735862Z",
     "iopub.status.idle": "2020-08-14T21:35:37.741019Z",
     "shell.execute_reply": "2020-08-14T21:35:37.740387Z"
    },
    "papermill": {
     "duration": 0.052256,
     "end_time": "2020-08-14T21:35:37.741157",
     "exception": false,
     "start_time": "2020-08-14T21:35:37.688901",
     "status": "completed"
    },
    "tags": []
   },
   "outputs": [
    {
     "data": {
      "text/plain": [
       "0.7066666666666667"
      ]
     },
     "execution_count": 62,
     "metadata": {},
     "output_type": "execute_result"
    }
   ],
   "source": [
    "accuracy_score(y_test, loj_model.predict(X_test))"
   ]
  },
  {
   "cell_type": "code",
   "execution_count": 63,
   "metadata": {
    "execution": {
     "iopub.execute_input": "2020-08-14T21:35:37.824765Z",
     "iopub.status.busy": "2020-08-14T21:35:37.823516Z",
     "iopub.status.idle": "2020-08-14T21:35:37.915952Z",
     "shell.execute_reply": "2020-08-14T21:35:37.915150Z"
    },
    "papermill": {
     "duration": 0.137374,
     "end_time": "2020-08-14T21:35:37.916103",
     "exception": false,
     "start_time": "2020-08-14T21:35:37.778729",
     "status": "completed"
    },
    "tags": []
   },
   "outputs": [
    {
     "data": {
      "text/plain": [
       "0.6933333333333334"
      ]
     },
     "execution_count": 63,
     "metadata": {},
     "output_type": "execute_result"
    }
   ],
   "source": [
    "cross_val_score(loj_model, X_test, y_test, cv = 10).mean()"
   ]
  },
  {
   "cell_type": "markdown",
   "execution_count": null,
   "metadata": {
    "papermill": {
     "duration": 0.038054,
     "end_time": "2020-08-14T21:35:37.991929",
     "exception": false,
     "start_time": "2020-08-14T21:35:37.953875",
     "status": "completed"
    },
    "tags": []
   },
   "source": [
    "# 6) Naive Bayes"
   ]
  },
  {
   "cell_type": "code",
   "execution_count": 64,
   "metadata": {
    "execution": {
     "iopub.execute_input": "2020-08-14T21:35:38.072540Z",
     "iopub.status.busy": "2020-08-14T21:35:38.071746Z",
     "iopub.status.idle": "2020-08-14T21:35:38.078728Z",
     "shell.execute_reply": "2020-08-14T21:35:38.077985Z"
    },
    "papermill": {
     "duration": 0.049363,
     "end_time": "2020-08-14T21:35:38.078875",
     "exception": false,
     "start_time": "2020-08-14T21:35:38.029512",
     "status": "completed"
    },
    "tags": []
   },
   "outputs": [],
   "source": [
    "from sklearn.naive_bayes import GaussianNB"
   ]
  },
  {
   "cell_type": "code",
   "execution_count": 65,
   "metadata": {
    "execution": {
     "iopub.execute_input": "2020-08-14T21:35:38.166027Z",
     "iopub.status.busy": "2020-08-14T21:35:38.163832Z",
     "iopub.status.idle": "2020-08-14T21:35:38.170027Z",
     "shell.execute_reply": "2020-08-14T21:35:38.169191Z"
    },
    "papermill": {
     "duration": 0.053575,
     "end_time": "2020-08-14T21:35:38.170178",
     "exception": false,
     "start_time": "2020-08-14T21:35:38.116603",
     "status": "completed"
    },
    "tags": []
   },
   "outputs": [],
   "source": [
    "y = df_fit[\"Risk\"]\n",
    "X = df_fit.drop([\"Risk\"], axis=1)\n",
    "X_train, X_test, y_train, y_test = train_test_split(X, y, \n",
    "                                                    test_size=0.30, \n",
    "                                                    random_state=42)"
   ]
  },
  {
   "cell_type": "code",
   "execution_count": 66,
   "metadata": {
    "execution": {
     "iopub.execute_input": "2020-08-14T21:35:38.256594Z",
     "iopub.status.busy": "2020-08-14T21:35:38.255760Z",
     "iopub.status.idle": "2020-08-14T21:35:38.262966Z",
     "shell.execute_reply": "2020-08-14T21:35:38.262266Z"
    },
    "papermill": {
     "duration": 0.054792,
     "end_time": "2020-08-14T21:35:38.263100",
     "exception": false,
     "start_time": "2020-08-14T21:35:38.208308",
     "status": "completed"
    },
    "tags": []
   },
   "outputs": [
    {
     "data": {
      "text/plain": [
       "GaussianNB()"
      ]
     },
     "execution_count": 66,
     "metadata": {},
     "output_type": "execute_result"
    }
   ],
   "source": [
    "nb = GaussianNB()\n",
    "nb_model = nb.fit(X_train, y_train)\n",
    "nb_model"
   ]
  },
  {
   "cell_type": "code",
   "execution_count": 67,
   "metadata": {
    "execution": {
     "iopub.execute_input": "2020-08-14T21:35:38.349124Z",
     "iopub.status.busy": "2020-08-14T21:35:38.348228Z",
     "iopub.status.idle": "2020-08-14T21:35:38.354466Z",
     "shell.execute_reply": "2020-08-14T21:35:38.353729Z"
    },
    "papermill": {
     "duration": 0.053398,
     "end_time": "2020-08-14T21:35:38.354609",
     "exception": false,
     "start_time": "2020-08-14T21:35:38.301211",
     "status": "completed"
    },
    "tags": []
   },
   "outputs": [
    {
     "data": {
      "text/plain": [
       "array([1, 1, 1, 1, 1, 1, 1, 1, 1, 1])"
      ]
     },
     "execution_count": 67,
     "metadata": {},
     "output_type": "execute_result"
    }
   ],
   "source": [
    "nb_model.predict(X_test)[0:10]"
   ]
  },
  {
   "cell_type": "code",
   "execution_count": 68,
   "metadata": {
    "execution": {
     "iopub.execute_input": "2020-08-14T21:35:38.440008Z",
     "iopub.status.busy": "2020-08-14T21:35:38.438258Z",
     "iopub.status.idle": "2020-08-14T21:35:38.445670Z",
     "shell.execute_reply": "2020-08-14T21:35:38.445050Z"
    },
    "papermill": {
     "duration": 0.053006,
     "end_time": "2020-08-14T21:35:38.445835",
     "exception": false,
     "start_time": "2020-08-14T21:35:38.392829",
     "status": "completed"
    },
    "tags": []
   },
   "outputs": [
    {
     "data": {
      "text/plain": [
       "array([[0.38746447, 0.61253553],\n",
       "       [0.15074446, 0.84925554],\n",
       "       [0.20097329, 0.79902671],\n",
       "       [0.3621911 , 0.6378089 ],\n",
       "       [0.43688895, 0.56311105],\n",
       "       [0.24018769, 0.75981231],\n",
       "       [0.1001893 , 0.8998107 ],\n",
       "       [0.43200628, 0.56799372],\n",
       "       [0.30152814, 0.69847186],\n",
       "       [0.00178941, 0.99821059]])"
      ]
     },
     "execution_count": 68,
     "metadata": {},
     "output_type": "execute_result"
    }
   ],
   "source": [
    "nb_model.predict_proba(X_test)[0:10]"
   ]
  },
  {
   "cell_type": "code",
   "execution_count": 69,
   "metadata": {
    "execution": {
     "iopub.execute_input": "2020-08-14T21:35:38.534606Z",
     "iopub.status.busy": "2020-08-14T21:35:38.533801Z",
     "iopub.status.idle": "2020-08-14T21:35:38.537054Z",
     "shell.execute_reply": "2020-08-14T21:35:38.537661Z"
    },
    "papermill": {
     "duration": 0.053583,
     "end_time": "2020-08-14T21:35:38.537883",
     "exception": false,
     "start_time": "2020-08-14T21:35:38.484300",
     "status": "completed"
    },
    "tags": []
   },
   "outputs": [],
   "source": [
    "y_pred = nb_model.predict(X_test)"
   ]
  },
  {
   "cell_type": "code",
   "execution_count": 70,
   "metadata": {
    "execution": {
     "iopub.execute_input": "2020-08-14T21:35:38.621489Z",
     "iopub.status.busy": "2020-08-14T21:35:38.620478Z",
     "iopub.status.idle": "2020-08-14T21:35:38.625748Z",
     "shell.execute_reply": "2020-08-14T21:35:38.624937Z"
    },
    "papermill": {
     "duration": 0.049992,
     "end_time": "2020-08-14T21:35:38.625891",
     "exception": false,
     "start_time": "2020-08-14T21:35:38.575899",
     "status": "completed"
    },
    "tags": []
   },
   "outputs": [
    {
     "data": {
      "text/plain": [
       "0.66"
      ]
     },
     "execution_count": 70,
     "metadata": {},
     "output_type": "execute_result"
    }
   ],
   "source": [
    "accuracy_score(y_test, y_pred)"
   ]
  },
  {
   "cell_type": "code",
   "execution_count": 71,
   "metadata": {
    "execution": {
     "iopub.execute_input": "2020-08-14T21:35:38.713860Z",
     "iopub.status.busy": "2020-08-14T21:35:38.709035Z",
     "iopub.status.idle": "2020-08-14T21:35:38.782455Z",
     "shell.execute_reply": "2020-08-14T21:35:38.781625Z"
    },
    "papermill": {
     "duration": 0.118465,
     "end_time": "2020-08-14T21:35:38.782596",
     "exception": false,
     "start_time": "2020-08-14T21:35:38.664131",
     "status": "completed"
    },
    "tags": []
   },
   "outputs": [
    {
     "data": {
      "text/plain": [
       "0.6466666666666665"
      ]
     },
     "execution_count": 71,
     "metadata": {},
     "output_type": "execute_result"
    }
   ],
   "source": [
    "cross_val_score(nb_model, X_test, y_test, cv = 10).mean()"
   ]
  },
  {
   "cell_type": "markdown",
   "execution_count": null,
   "metadata": {
    "papermill": {
     "duration": 0.03842,
     "end_time": "2020-08-14T21:35:38.859969",
     "exception": false,
     "start_time": "2020-08-14T21:35:38.821549",
     "status": "completed"
    },
    "tags": []
   },
   "source": [
    "# 7) Gradient Boosting Machines "
   ]
  },
  {
   "cell_type": "code",
   "execution_count": 72,
   "metadata": {
    "execution": {
     "iopub.execute_input": "2020-08-14T21:35:38.944225Z",
     "iopub.status.busy": "2020-08-14T21:35:38.943390Z",
     "iopub.status.idle": "2020-08-14T21:35:39.114959Z",
     "shell.execute_reply": "2020-08-14T21:35:39.114099Z"
    },
    "papermill": {
     "duration": 0.215683,
     "end_time": "2020-08-14T21:35:39.115116",
     "exception": false,
     "start_time": "2020-08-14T21:35:38.899433",
     "status": "completed"
    },
    "tags": []
   },
   "outputs": [],
   "source": [
    "from sklearn.ensemble import GradientBoostingClassifier"
   ]
  },
  {
   "cell_type": "code",
   "execution_count": 73,
   "metadata": {
    "execution": {
     "iopub.execute_input": "2020-08-14T21:35:39.203898Z",
     "iopub.status.busy": "2020-08-14T21:35:39.201983Z",
     "iopub.status.idle": "2020-08-14T21:35:39.207876Z",
     "shell.execute_reply": "2020-08-14T21:35:39.207055Z"
    },
    "papermill": {
     "duration": 0.054012,
     "end_time": "2020-08-14T21:35:39.208020",
     "exception": false,
     "start_time": "2020-08-14T21:35:39.154008",
     "status": "completed"
    },
    "tags": []
   },
   "outputs": [],
   "source": [
    "y = df_fit[\"Risk\"]\n",
    "X = df_fit.drop([\"Risk\"], axis=1)\n",
    "X_train, X_test, y_train, y_test = train_test_split(X, y, \n",
    "                                                    test_size=0.30, \n",
    "                                                    random_state=42)"
   ]
  },
  {
   "cell_type": "code",
   "execution_count": 74,
   "metadata": {
    "execution": {
     "iopub.execute_input": "2020-08-14T21:35:39.295591Z",
     "iopub.status.busy": "2020-08-14T21:35:39.294754Z",
     "iopub.status.idle": "2020-08-14T21:35:39.429866Z",
     "shell.execute_reply": "2020-08-14T21:35:39.429172Z"
    },
    "papermill": {
     "duration": 0.18247,
     "end_time": "2020-08-14T21:35:39.430000",
     "exception": false,
     "start_time": "2020-08-14T21:35:39.247530",
     "status": "completed"
    },
    "tags": []
   },
   "outputs": [],
   "source": [
    "gbm_model = GradientBoostingClassifier().fit(X_train, y_train)"
   ]
  },
  {
   "cell_type": "code",
   "execution_count": 75,
   "metadata": {
    "execution": {
     "iopub.execute_input": "2020-08-14T21:35:39.518948Z",
     "iopub.status.busy": "2020-08-14T21:35:39.517813Z",
     "iopub.status.idle": "2020-08-14T21:35:39.524110Z",
     "shell.execute_reply": "2020-08-14T21:35:39.524718Z"
    },
    "papermill": {
     "duration": 0.055634,
     "end_time": "2020-08-14T21:35:39.524906",
     "exception": false,
     "start_time": "2020-08-14T21:35:39.469272",
     "status": "completed"
    },
    "tags": []
   },
   "outputs": [
    {
     "data": {
      "text/plain": [
       "0.66"
      ]
     },
     "execution_count": 75,
     "metadata": {},
     "output_type": "execute_result"
    }
   ],
   "source": [
    "y_pred = gbm_model.predict(X_test)\n",
    "accuracy_score(y_test, y_pred)"
   ]
  },
  {
   "cell_type": "markdown",
   "execution_count": null,
   "metadata": {
    "papermill": {
     "duration": 0.038822,
     "end_time": "2020-08-14T21:35:39.602628",
     "exception": false,
     "start_time": "2020-08-14T21:35:39.563806",
     "status": "completed"
    },
    "tags": []
   },
   "source": [
    "## 6.1) Model Tuning"
   ]
  },
  {
   "cell_type": "code",
   "execution_count": 76,
   "metadata": {
    "execution": {
     "iopub.execute_input": "2020-08-14T21:35:39.688441Z",
     "iopub.status.busy": "2020-08-14T21:35:39.687263Z",
     "iopub.status.idle": "2020-08-14T21:35:39.690441Z",
     "shell.execute_reply": "2020-08-14T21:35:39.691190Z"
    },
    "papermill": {
     "duration": 0.049632,
     "end_time": "2020-08-14T21:35:39.691390",
     "exception": false,
     "start_time": "2020-08-14T21:35:39.641758",
     "status": "completed"
    },
    "tags": []
   },
   "outputs": [],
   "source": [
    "from sklearn.model_selection import learning_curve, GridSearchCV"
   ]
  },
  {
   "cell_type": "code",
   "execution_count": 77,
   "metadata": {
    "execution": {
     "iopub.execute_input": "2020-08-14T21:35:39.780970Z",
     "iopub.status.busy": "2020-08-14T21:35:39.779928Z",
     "iopub.status.idle": "2020-08-14T21:35:39.785029Z",
     "shell.execute_reply": "2020-08-14T21:35:39.784276Z"
    },
    "papermill": {
     "duration": 0.053095,
     "end_time": "2020-08-14T21:35:39.785171",
     "exception": false,
     "start_time": "2020-08-14T21:35:39.732076",
     "status": "completed"
    },
    "tags": []
   },
   "outputs": [
    {
     "data": {
      "text/plain": [
       "GradientBoostingClassifier()"
      ]
     },
     "execution_count": 77,
     "metadata": {},
     "output_type": "execute_result"
    }
   ],
   "source": [
    "gbm_model"
   ]
  },
  {
   "cell_type": "code",
   "execution_count": 78,
   "metadata": {
    "execution": {
     "iopub.execute_input": "2020-08-14T21:35:39.872426Z",
     "iopub.status.busy": "2020-08-14T21:35:39.871242Z",
     "iopub.status.idle": "2020-08-14T21:35:39.875115Z",
     "shell.execute_reply": "2020-08-14T21:35:39.874444Z"
    },
    "papermill": {
     "duration": 0.050351,
     "end_time": "2020-08-14T21:35:39.875250",
     "exception": false,
     "start_time": "2020-08-14T21:35:39.824899",
     "status": "completed"
    },
    "tags": []
   },
   "outputs": [],
   "source": [
    "gbm_params = {\"learning_rate\" : [0.001, 0.01, 0.1, 0.05],\n",
    "             \"n_estimators\": [100,500,100],\n",
    "             \"max_depth\": [3,5,10],\n",
    "             \"min_samples_split\": [2,5,10]}"
   ]
  },
  {
   "cell_type": "code",
   "execution_count": 79,
   "metadata": {
    "execution": {
     "iopub.execute_input": "2020-08-14T21:35:39.961121Z",
     "iopub.status.busy": "2020-08-14T21:35:39.960246Z",
     "iopub.status.idle": "2020-08-14T21:35:39.963893Z",
     "shell.execute_reply": "2020-08-14T21:35:39.963221Z"
    },
    "papermill": {
     "duration": 0.049353,
     "end_time": "2020-08-14T21:35:39.964030",
     "exception": false,
     "start_time": "2020-08-14T21:35:39.914677",
     "status": "completed"
    },
    "tags": []
   },
   "outputs": [],
   "source": [
    "gbm = GradientBoostingClassifier()\n",
    "\n",
    "gbm_cv = GridSearchCV(gbm, gbm_params, cv = 10, n_jobs = -1, verbose = 2)"
   ]
  },
  {
   "cell_type": "code",
   "execution_count": 80,
   "metadata": {
    "execution": {
     "iopub.execute_input": "2020-08-14T21:35:40.053670Z",
     "iopub.status.busy": "2020-08-14T21:35:40.052567Z",
     "iopub.status.idle": "2020-08-14T21:41:19.445738Z",
     "shell.execute_reply": "2020-08-14T21:41:19.444962Z"
    },
    "papermill": {
     "duration": 339.442059,
     "end_time": "2020-08-14T21:41:19.445920",
     "exception": false,
     "start_time": "2020-08-14T21:35:40.003861",
     "status": "completed"
    },
    "tags": []
   },
   "outputs": [
    {
     "name": "stdout",
     "output_type": "stream",
     "text": [
      "Fitting 10 folds for each of 108 candidates, totalling 1080 fits\n"
     ]
    },
    {
     "name": "stderr",
     "output_type": "stream",
     "text": [
      "[Parallel(n_jobs=-1)]: Using backend LokyBackend with 4 concurrent workers.\n",
      "[Parallel(n_jobs=-1)]: Done  33 tasks      | elapsed:    5.5s\n",
      "[Parallel(n_jobs=-1)]: Done 154 tasks      | elapsed:   25.1s\n",
      "[Parallel(n_jobs=-1)]: Done 357 tasks      | elapsed:  1.6min\n",
      "[Parallel(n_jobs=-1)]: Done 640 tasks      | elapsed:  3.1min\n",
      "[Parallel(n_jobs=-1)]: Done 1005 tasks      | elapsed:  5.0min\n",
      "[Parallel(n_jobs=-1)]: Done 1080 out of 1080 | elapsed:  5.7min finished\n"
     ]
    },
    {
     "data": {
      "text/plain": [
       "GridSearchCV(cv=10, estimator=GradientBoostingClassifier(), n_jobs=-1,\n",
       "             param_grid={'learning_rate': [0.001, 0.01, 0.1, 0.05],\n",
       "                         'max_depth': [3, 5, 10],\n",
       "                         'min_samples_split': [2, 5, 10],\n",
       "                         'n_estimators': [100, 500, 100]},\n",
       "             verbose=2)"
      ]
     },
     "execution_count": 80,
     "metadata": {},
     "output_type": "execute_result"
    }
   ],
   "source": [
    "gbm_cv.fit(X_train, y_train)"
   ]
  },
  {
   "cell_type": "code",
   "execution_count": 81,
   "metadata": {
    "execution": {
     "iopub.execute_input": "2020-08-14T21:41:19.533773Z",
     "iopub.status.busy": "2020-08-14T21:41:19.532838Z",
     "iopub.status.idle": "2020-08-14T21:41:19.536333Z",
     "shell.execute_reply": "2020-08-14T21:41:19.536964Z"
    },
    "papermill": {
     "duration": 0.050923,
     "end_time": "2020-08-14T21:41:19.537133",
     "exception": false,
     "start_time": "2020-08-14T21:41:19.486210",
     "status": "completed"
    },
    "tags": []
   },
   "outputs": [
    {
     "name": "stdout",
     "output_type": "stream",
     "text": [
      "En iyi parametreler: {'learning_rate': 0.01, 'max_depth': 5, 'min_samples_split': 10, 'n_estimators': 100}\n"
     ]
    }
   ],
   "source": [
    "print(\"En iyi parametreler: \" + str(gbm_cv.best_params_))"
   ]
  },
  {
   "cell_type": "code",
   "execution_count": 82,
   "metadata": {
    "execution": {
     "iopub.execute_input": "2020-08-14T21:41:19.624327Z",
     "iopub.status.busy": "2020-08-14T21:41:19.623541Z",
     "iopub.status.idle": "2020-08-14T21:41:19.627555Z",
     "shell.execute_reply": "2020-08-14T21:41:19.626922Z"
    },
    "papermill": {
     "duration": 0.050128,
     "end_time": "2020-08-14T21:41:19.627712",
     "exception": false,
     "start_time": "2020-08-14T21:41:19.577584",
     "status": "completed"
    },
    "tags": []
   },
   "outputs": [],
   "source": [
    "gbm = GradientBoostingClassifier(learning_rate = 0.01, \n",
    "                                 max_depth = 5,\n",
    "                                min_samples_split = 10,\n",
    "                                n_estimators = 100)"
   ]
  },
  {
   "cell_type": "code",
   "execution_count": 83,
   "metadata": {
    "execution": {
     "iopub.execute_input": "2020-08-14T21:41:19.718889Z",
     "iopub.status.busy": "2020-08-14T21:41:19.717737Z",
     "iopub.status.idle": "2020-08-14T21:41:19.934370Z",
     "shell.execute_reply": "2020-08-14T21:41:19.933604Z"
    },
    "papermill": {
     "duration": 0.265974,
     "end_time": "2020-08-14T21:41:19.934516",
     "exception": false,
     "start_time": "2020-08-14T21:41:19.668542",
     "status": "completed"
    },
    "tags": []
   },
   "outputs": [],
   "source": [
    "gbm_tuned =  gbm.fit(X_train,y_train)"
   ]
  },
  {
   "cell_type": "code",
   "execution_count": 84,
   "metadata": {
    "execution": {
     "iopub.execute_input": "2020-08-14T21:41:20.031362Z",
     "iopub.status.busy": "2020-08-14T21:41:20.029904Z",
     "iopub.status.idle": "2020-08-14T21:41:20.035792Z",
     "shell.execute_reply": "2020-08-14T21:41:20.034954Z"
    },
    "papermill": {
     "duration": 0.059986,
     "end_time": "2020-08-14T21:41:20.035934",
     "exception": false,
     "start_time": "2020-08-14T21:41:19.975948",
     "status": "completed"
    },
    "tags": []
   },
   "outputs": [
    {
     "data": {
      "text/plain": [
       "0.7133333333333334"
      ]
     },
     "execution_count": 84,
     "metadata": {},
     "output_type": "execute_result"
    }
   ],
   "source": [
    "y_pred = gbm_tuned.predict(X_test)\n",
    "accuracy_score(y_test, y_pred)"
   ]
  },
  {
   "cell_type": "code",
   "execution_count": 85,
   "metadata": {
    "execution": {
     "iopub.execute_input": "2020-08-14T21:41:20.127266Z",
     "iopub.status.busy": "2020-08-14T21:41:20.126422Z",
     "iopub.status.idle": "2020-08-14T21:41:21.114503Z",
     "shell.execute_reply": "2020-08-14T21:41:21.115138Z"
    },
    "papermill": {
     "duration": 1.03687,
     "end_time": "2020-08-14T21:41:21.115329",
     "exception": false,
     "start_time": "2020-08-14T21:41:20.078459",
     "status": "completed"
    },
    "tags": []
   },
   "outputs": [
    {
     "data": {
      "text/plain": [
       "0.6833333333333333"
      ]
     },
     "execution_count": 85,
     "metadata": {},
     "output_type": "execute_result"
    }
   ],
   "source": [
    "cross_val_score(gbm_model, X_test, y_test, cv = 10).mean()"
   ]
  }
 ],
 "metadata": {
  "kernelspec": {
   "display_name": "Python 3",
   "language": "python",
   "name": "python3"
  },
  "language_info": {
   "codemirror_mode": {
    "name": "ipython",
    "version": 3
   },
   "file_extension": ".py",
   "mimetype": "text/x-python",
   "name": "python",
   "nbconvert_exporter": "python",
   "pygments_lexer": "ipython3",
   "version": "3.7.6"
  },
  "papermill": {
   "duration": 365.177697,
   "end_time": "2020-08-14T21:41:21.280480",
   "environment_variables": {},
   "exception": null,
   "input_path": "__notebook__.ipynb",
   "output_path": "__notebook__.ipynb",
   "parameters": {},
   "start_time": "2020-08-14T21:35:16.102783",
   "version": "2.1.0"
  }
 },
 "nbformat": 4,
 "nbformat_minor": 4
}
