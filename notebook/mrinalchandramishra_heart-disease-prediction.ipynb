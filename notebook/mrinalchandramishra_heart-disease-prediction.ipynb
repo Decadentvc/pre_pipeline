{
 "cells": [
  {
   "cell_type": "markdown",
   "execution_count": null,
   "metadata": {},
   "source": [
    "#                            Heart Disease Prediction"
   ]
  },
  {
   "cell_type": "markdown",
   "execution_count": null,
   "metadata": {},
   "source": [
    "[](https://www.google.com/imgres?imgurl=https%3A%2F%2Fimages.ctfassets.net%2Fyixw23k2v6vo%2F6BezXYKnMqcG4LSEcWyXlt%2Fb490656e99f34bc18999f3563470eae6%2FiStock-1156928054.jpg%3Fw%3D802%26fm%3Djpg%26fit%3Dthumb%26q%3D65%26fl%3Dprogressive&imgrefurl=https%3A%2F%2Fwww.healthcentral.com%2Farticle%2Fcovid-19-dangerous-heart-disease&tbnid=FdkQRbtTfOzDIM&vet=12ahUKEwi44Oy1kcjqAhVID7cAHV8JBIAQMygHegUIARDbAQ..i&docid=5SLrZ_n3DML6cM&w=802&h=535&q=heart%20disease&ved=2ahUKEwi44Oy1kcjqAhVID7cAHV8JBIAQMygHegUIARDbAQ)\n",
    "Heart disease describes a range of conditions that affect your heart. Diseases under the heart disease umbrella include blood vessel diseases, such as coronary artery disease; heart rhythm problems (arrhythmias); and heart defects you're born with (congenital heart defects), among others.\n",
    "\n",
    "The term \"heart disease\" is often used interchangeably with the term \"cardiovascular disease.\" Cardiovascular disease generally refers to conditions that involve narrowed or blocked blood vessels that can lead to a heart attack, chest pain (angina) or stroke. Other heart conditions, such as those that affect your heart's muscle, valves or rhythm, also are considered forms of heart disease"
   ]
  },
  {
   "cell_type": "code",
   "execution_count": 1,
   "metadata": {
    "_cell_guid": "b1076dfc-b9ad-4769-8c92-a6c4dae69d19",
    "_uuid": "8f2839f25d086af736a60e9eeb907d3b93b6e0e5"
   },
   "outputs": [
    {
     "name": "stdout",
     "output_type": "stream",
     "text": [
      "/kaggle/input/heart-disease-uci/heart.csv\n"
     ]
    }
   ],
   "source": [
    "# This Python 3 environment comes with many helpful analytics libraries installed\n",
    "# It is defined by the kaggle/python Docker image: https://github.com/kaggle/docker-python\n",
    "# For example, here's several helpful packages to load\n",
    "\n",
    "import numpy as np # linear algebra\n",
    "import pandas as pd # data processing, CSV file I/O (e.g. pd.read_csv)\n",
    "\n",
    "# Input data files are available in the read-only \"../input/\" directory\n",
    "# For example, running this (by clicking run or pressing Shift+Enter) will list all files under the input directory\n",
    "\n",
    "import os\n",
    "for dirname, _, filenames in os.walk('/kaggle/input'):\n",
    "    for filename in filenames:\n",
    "        print(os.path.join(dirname, filename))\n",
    "\n",
    "# You can write up to 5GB to the current directory (/kaggle/working/) that gets preserved as output when you create a version using \"Save & Run All\" \n",
    "# You can also write temporary files to /kaggle/temp/, but they won't be saved outside of the current session"
   ]
  },
  {
   "cell_type": "code",
   "execution_count": 2,
   "metadata": {},
   "outputs": [],
   "source": [
    "import matplotlib.pyplot as plt \n",
    "import seaborn as sns\n",
    "from sklearn.utils import shuffle"
   ]
  },
  {
   "cell_type": "code",
   "execution_count": 3,
   "metadata": {
    "_cell_guid": "79c7e3d0-c299-4dcb-8224-4455121ee9b0",
    "_uuid": "d629ff2d2480ee46fbb7e2d37f6b5fab8052498a"
   },
   "outputs": [
    {
     "data": {
      "text/html": [
       "<div>\n",
       "<style scoped>\n",
       "    .dataframe tbody tr th:only-of-type {\n",
       "        vertical-align: middle;\n",
       "    }\n",
       "\n",
       "    .dataframe tbody tr th {\n",
       "        vertical-align: top;\n",
       "    }\n",
       "\n",
       "    .dataframe thead th {\n",
       "        text-align: right;\n",
       "    }\n",
       "</style>\n",
       "<table border=\"1\" class=\"dataframe\">\n",
       "  <thead>\n",
       "    <tr style=\"text-align: right;\">\n",
       "      <th></th>\n",
       "      <th>age</th>\n",
       "      <th>sex</th>\n",
       "      <th>cp</th>\n",
       "      <th>trestbps</th>\n",
       "      <th>chol</th>\n",
       "      <th>fbs</th>\n",
       "      <th>restecg</th>\n",
       "      <th>thalach</th>\n",
       "      <th>exang</th>\n",
       "      <th>oldpeak</th>\n",
       "      <th>slope</th>\n",
       "      <th>ca</th>\n",
       "      <th>thal</th>\n",
       "      <th>target</th>\n",
       "    </tr>\n",
       "  </thead>\n",
       "  <tbody>\n",
       "    <tr>\n",
       "      <th>0</th>\n",
       "      <td>63</td>\n",
       "      <td>1</td>\n",
       "      <td>3</td>\n",
       "      <td>145</td>\n",
       "      <td>233</td>\n",
       "      <td>1</td>\n",
       "      <td>0</td>\n",
       "      <td>150</td>\n",
       "      <td>0</td>\n",
       "      <td>2.3</td>\n",
       "      <td>0</td>\n",
       "      <td>0</td>\n",
       "      <td>1</td>\n",
       "      <td>1</td>\n",
       "    </tr>\n",
       "    <tr>\n",
       "      <th>1</th>\n",
       "      <td>37</td>\n",
       "      <td>1</td>\n",
       "      <td>2</td>\n",
       "      <td>130</td>\n",
       "      <td>250</td>\n",
       "      <td>0</td>\n",
       "      <td>1</td>\n",
       "      <td>187</td>\n",
       "      <td>0</td>\n",
       "      <td>3.5</td>\n",
       "      <td>0</td>\n",
       "      <td>0</td>\n",
       "      <td>2</td>\n",
       "      <td>1</td>\n",
       "    </tr>\n",
       "    <tr>\n",
       "      <th>2</th>\n",
       "      <td>41</td>\n",
       "      <td>0</td>\n",
       "      <td>1</td>\n",
       "      <td>130</td>\n",
       "      <td>204</td>\n",
       "      <td>0</td>\n",
       "      <td>0</td>\n",
       "      <td>172</td>\n",
       "      <td>0</td>\n",
       "      <td>1.4</td>\n",
       "      <td>2</td>\n",
       "      <td>0</td>\n",
       "      <td>2</td>\n",
       "      <td>1</td>\n",
       "    </tr>\n",
       "    <tr>\n",
       "      <th>3</th>\n",
       "      <td>56</td>\n",
       "      <td>1</td>\n",
       "      <td>1</td>\n",
       "      <td>120</td>\n",
       "      <td>236</td>\n",
       "      <td>0</td>\n",
       "      <td>1</td>\n",
       "      <td>178</td>\n",
       "      <td>0</td>\n",
       "      <td>0.8</td>\n",
       "      <td>2</td>\n",
       "      <td>0</td>\n",
       "      <td>2</td>\n",
       "      <td>1</td>\n",
       "    </tr>\n",
       "    <tr>\n",
       "      <th>4</th>\n",
       "      <td>57</td>\n",
       "      <td>0</td>\n",
       "      <td>0</td>\n",
       "      <td>120</td>\n",
       "      <td>354</td>\n",
       "      <td>0</td>\n",
       "      <td>1</td>\n",
       "      <td>163</td>\n",
       "      <td>1</td>\n",
       "      <td>0.6</td>\n",
       "      <td>2</td>\n",
       "      <td>0</td>\n",
       "      <td>2</td>\n",
       "      <td>1</td>\n",
       "    </tr>\n",
       "  </tbody>\n",
       "</table>\n",
       "</div>"
      ],
      "text/plain": [
       "   age  sex  cp  trestbps  chol  fbs  restecg  thalach  exang  oldpeak  slope  \\\n",
       "0   63    1   3       145   233    1        0      150      0      2.3      0   \n",
       "1   37    1   2       130   250    0        1      187      0      3.5      0   \n",
       "2   41    0   1       130   204    0        0      172      0      1.4      2   \n",
       "3   56    1   1       120   236    0        1      178      0      0.8      2   \n",
       "4   57    0   0       120   354    0        1      163      1      0.6      2   \n",
       "\n",
       "   ca  thal  target  \n",
       "0   0     1       1  \n",
       "1   0     2       1  \n",
       "2   0     2       1  \n",
       "3   0     2       1  \n",
       "4   0     2       1  "
      ]
     },
     "execution_count": 3,
     "metadata": {},
     "output_type": "execute_result"
    }
   ],
   "source": [
    "dataset=pd.read_csv('/kaggle/input/heart-disease-uci/heart.csv')\n",
    "dataset.head()"
   ]
  },
  {
   "cell_type": "markdown",
   "execution_count": null,
   "metadata": {},
   "source": [
    "### Intro to DataSet\n",
    "As we can see here there are 14 columns in this dataset having different feature.\n",
    "- Independent Feature:\n",
    "Age,Sex,cp,trestbps,chol,fbs,restecg,thalach,exang,oldpeak,slope,ca,thal\n",
    "- Dependent Feature:\n",
    "target\n"
   ]
  },
  {
   "cell_type": "code",
   "execution_count": 4,
   "metadata": {},
   "outputs": [
    {
     "data": {
      "text/plain": [
       "Index(['age', 'sex', 'cp', 'trestbps', 'chol', 'fbs', 'restecg', 'thalach',\n",
       "       'exang', 'oldpeak', 'slope', 'ca', 'thal', 'target'],\n",
       "      dtype='object')"
      ]
     },
     "execution_count": 4,
     "metadata": {},
     "output_type": "execute_result"
    }
   ],
   "source": [
    "dataset.columns"
   ]
  },
  {
   "cell_type": "markdown",
   "execution_count": null,
   "metadata": {},
   "source": [
    "**As we can see that it is very hard to understand columns which are in abbrv. form  so lets sort out the columns name to get better understanding of it**\n",
    "*what every columns mean*\n",
    "- cp : Cerebral palsy (CP)\n",
    "- trestbps : Resting blood Pressure\n",
    "- chol : cholestrol level\n",
    "- fbs : Fasting blood sugar\n",
    "- restecg : resting electrocardiographic.\n",
    "- thalach : maximum heart rate acheived\n",
    "- exang : exercise induced angina(exang)\n",
    "- oldpeak : ST depression induced by exercise relative to rest.\n",
    "- slope : heart rate slope \n",
    "- ca : coronary artery\n",
    "- thal : thallesimea\n",
    "\n",
    "\n"
   ]
  },
  {
   "cell_type": "markdown",
   "execution_count": null,
   "metadata": {},
   "source": [
    "# **Exploratory Data Analysis**"
   ]
  },
  {
   "cell_type": "code",
   "execution_count": 5,
   "metadata": {},
   "outputs": [
    {
     "name": "stdout",
     "output_type": "stream",
     "text": [
      "<class 'pandas.core.frame.DataFrame'>\n",
      "RangeIndex: 303 entries, 0 to 302\n",
      "Data columns (total 14 columns):\n",
      " #   Column    Non-Null Count  Dtype  \n",
      "---  ------    --------------  -----  \n",
      " 0   age       303 non-null    int64  \n",
      " 1   sex       303 non-null    int64  \n",
      " 2   cp        303 non-null    int64  \n",
      " 3   trestbps  303 non-null    int64  \n",
      " 4   chol      303 non-null    int64  \n",
      " 5   fbs       303 non-null    int64  \n",
      " 6   restecg   303 non-null    int64  \n",
      " 7   thalach   303 non-null    int64  \n",
      " 8   exang     303 non-null    int64  \n",
      " 9   oldpeak   303 non-null    float64\n",
      " 10  slope     303 non-null    int64  \n",
      " 11  ca        303 non-null    int64  \n",
      " 12  thal      303 non-null    int64  \n",
      " 13  target    303 non-null    int64  \n",
      "dtypes: float64(1), int64(13)\n",
      "memory usage: 33.3 KB\n"
     ]
    }
   ],
   "source": [
    "# now check the shape of data set\n",
    "dataset.info()"
   ]
  },
  {
   "cell_type": "markdown",
   "execution_count": null,
   "metadata": {},
   "source": [
    "From the above code we can see the dataset information which contains mainly 303 **Rows** and 14 **columns**.\n",
    "- It can also be analyzed that all the 14 columns are numerical value in the dataset out of which *target* is dependent columns. Now it will be easier for us to perform furthur exploration"
   ]
  },
  {
   "cell_type": "code",
   "execution_count": 6,
   "metadata": {},
   "outputs": [
    {
     "name": "stdout",
     "output_type": "stream",
     "text": [
      "Unique value available in columns:\n",
      "SEX has [1 0]\n",
      "CP has [3 2 1 0]\n",
      "Fbs has [1 0]\n",
      "EXANG has [0 1]\n",
      "Slope has [0 2 1]\n",
      "ca has [0 2 1 3 4]\n",
      "thal has [1 2 3 0]\n",
      "target has [1 0]\n",
      "\t\n",
      "          count        mean        std    min    25%    50%    75%    max\n",
      "age       303.0   54.366337   9.082101   29.0   47.5   55.0   61.0   77.0\n",
      "sex       303.0    0.683168   0.466011    0.0    0.0    1.0    1.0    1.0\n",
      "cp        303.0    0.966997   1.032052    0.0    0.0    1.0    2.0    3.0\n",
      "trestbps  303.0  131.623762  17.538143   94.0  120.0  130.0  140.0  200.0\n",
      "chol      303.0  246.264026  51.830751  126.0  211.0  240.0  274.5  564.0\n",
      "fbs       303.0    0.148515   0.356198    0.0    0.0    0.0    0.0    1.0\n",
      "restecg   303.0    0.528053   0.525860    0.0    0.0    1.0    1.0    2.0\n",
      "thalach   303.0  149.646865  22.905161   71.0  133.5  153.0  166.0  202.0\n",
      "exang     303.0    0.326733   0.469794    0.0    0.0    0.0    1.0    1.0\n",
      "oldpeak   303.0    1.039604   1.161075    0.0    0.0    0.8    1.6    6.2\n",
      "slope     303.0    1.399340   0.616226    0.0    1.0    1.0    2.0    2.0\n",
      "ca        303.0    0.729373   1.022606    0.0    0.0    0.0    1.0    4.0\n",
      "thal      303.0    2.313531   0.612277    0.0    2.0    2.0    3.0    3.0\n",
      "target    303.0    0.544554   0.498835    0.0    0.0    1.0    1.0    1.0\n"
     ]
    }
   ],
   "source": [
    "# lets describe the dataset\n",
    "\n",
    "print('Unique value available in columns:')\n",
    "print('SEX has',dataset['sex'].unique())\n",
    "print('CP has',dataset['cp'].unique())\n",
    "print('Fbs has',dataset['fbs'].unique())\n",
    "print('EXANG has',dataset['exang'].unique())\n",
    "print('Slope has',dataset['slope'].unique())\n",
    "print('ca has',dataset['ca'].unique())\n",
    "print('thal has',dataset['thal'].unique())\n",
    "print('target has',dataset['target'].unique())\n",
    "print('\\t')\n",
    "print(dataset.describe().T)"
   ]
  },
  {
   "cell_type": "markdown",
   "execution_count": null,
   "metadata": {},
   "source": [
    "- Age has mean of 54 years, minimum age is **29** and maximum **77**\n",
    "- trestbps has mean of 131, minimum  is **94** and maximum **200**\n",
    "- thal has mean of 2.31, minimum age is **0** and maximum **3**\n",
    "\n",
    "**Lets Check for any Null value in dataset**"
   ]
  },
  {
   "cell_type": "code",
   "execution_count": 7,
   "metadata": {},
   "outputs": [
    {
     "data": {
      "text/plain": [
       "age         False\n",
       "sex         False\n",
       "cp          False\n",
       "trestbps    False\n",
       "chol        False\n",
       "fbs         False\n",
       "restecg     False\n",
       "thalach     False\n",
       "exang       False\n",
       "oldpeak     False\n",
       "slope       False\n",
       "ca          False\n",
       "thal        False\n",
       "target      False\n",
       "dtype: bool"
      ]
     },
     "execution_count": 7,
     "metadata": {},
     "output_type": "execute_result"
    }
   ],
   "source": [
    "dataset.isnull().any()\n"
   ]
  },
  {
   "cell_type": "markdown",
   "execution_count": null,
   "metadata": {},
   "source": [
    "As there are no null values associated with any columns\n",
    "**Now we will see the distribution of our data**\n",
    "- age\n",
    "- sex\n",
    "- target"
   ]
  },
  {
   "cell_type": "code",
   "execution_count": 8,
   "metadata": {},
   "outputs": [
    {
     "data": {
      "text/plain": [
       "<matplotlib.axes._subplots.AxesSubplot at 0x7f71a0df67d0>"
      ]
     },
     "execution_count": 8,
     "metadata": {},
     "output_type": "execute_result"
    },
    {
     "data": {
      "image/png": "[encoded data removed]",
      "text/plain": [
       "<Figure size 1440x360 with 2 Axes>"
      ]
     },
     "metadata": {},
     "output_type": "display_data"
    }
   ],
   "source": [
    "plt.style.use('ggplot')\n",
    "fig,ax=plt.subplots(1,2,figsize=(20,5))\n",
    "ax[0].set_title('Age Distribution')\n",
    "ax[1].set_title('Resting Blood Pressure ')\n",
    "sns.distplot(dataset['age'],ax=ax[0])\n",
    "sns.distplot(dataset['trestbps'],ax=ax[1])"
   ]
  },
  {
   "cell_type": "markdown",
   "execution_count": null,
   "metadata": {},
   "source": [
    "From this, We can observe the following things:\n",
    "- That mostly people are from the above 40 age and less than 70 years old.\n",
    "- Most have blood pressure in bw 120 to 140."
   ]
  },
  {
   "cell_type": "markdown",
   "execution_count": null,
   "metadata": {},
   "source": [
    "##### Lets analyze about the target distribution"
   ]
  },
  {
   "cell_type": "code",
   "execution_count": 9,
   "metadata": {},
   "outputs": [
    {
     "data": {
      "text/plain": [
       "<matplotlib.axes._subplots.AxesSubplot at 0x7f71a0d1e490>"
      ]
     },
     "execution_count": 9,
     "metadata": {},
     "output_type": "execute_result"
    },
    {
     "data": {
      "image/png": "[encoded data removed]",
      "text/plain": [
       "<Figure size 432x288 with 1 Axes>"
      ]
     },
     "metadata": {},
     "output_type": "display_data"
    }
   ],
   "source": [
    "plt.style.use('ggplot')\n",
    "plt.figure(figsize=(6,4))\n",
    "sns.countplot(dataset['target'])"
   ]
  },
  {
   "cell_type": "markdown",
   "execution_count": null,
   "metadata": {},
   "source": [
    "We can see that it has:\n",
    "- There are approx 140 people not having heart disease\n",
    "- There are approx 170 people having heart disease \n",
    "\n",
    "So we can say that our dataset is perfectly balanced and equilly distributed"
   ]
  },
  {
   "cell_type": "markdown",
   "execution_count": null,
   "metadata": {},
   "source": [
    "#### We are done with EDA now lets focus on further process.\n",
    "\n",
    "# Feature Selection"
   ]
  },
  {
   "cell_type": "markdown",
   "execution_count": null,
   "metadata": {},
   "source": [
    "Now we will look for correlation of different feature."
   ]
  },
  {
   "cell_type": "code",
   "execution_count": 10,
   "metadata": {},
   "outputs": [
    {
     "data": {
      "text/plain": [
       "<matplotlib.axes._subplots.AxesSubplot at 0x7f71a0c4ff50>"
      ]
     },
     "execution_count": 10,
     "metadata": {},
     "output_type": "execute_result"
    },
    {
     "data": {
      "image/png": "[encoded data removed]",
      "text/plain": [
       "<Figure size 1080x432 with 2 Axes>"
      ]
     },
     "metadata": {},
     "output_type": "display_data"
    }
   ],
   "source": [
    "corr_matrix=dataset.corr()\n",
    "plt.figure(figsize=(15,6))\n",
    "sns.heatmap(corr_matrix)"
   ]
  },
  {
   "cell_type": "markdown",
   "execution_count": null,
   "metadata": {},
   "source": [
    "It looks like every feature is important for us.\n",
    "before doing model selection we have to shuffle our dataset as there are data splited to 0 and 1."
   ]
  },
  {
   "cell_type": "code",
   "execution_count": 11,
   "metadata": {},
   "outputs": [
    {
     "name": "stdout",
     "output_type": "stream",
     "text": [
      "   age  sex  cp  trestbps  chol  fbs  restecg  thalach  exang  oldpeak  slope  \\\n",
      "0   63    1   3       145   233    1        0      150      0      2.3      0   \n",
      "1   37    1   2       130   250    0        1      187      0      3.5      0   \n",
      "\n",
      "   ca  thal  target  \n",
      "0   0     1       1  \n",
      "1   0     2       1  \n",
      "     age  sex  cp  trestbps  chol  fbs  restecg  thalach  exang  oldpeak  \\\n",
      "301   57    1   0       130   131    0        1      115      1      1.2   \n",
      "302   57    0   1       130   236    0        0      174      0      0.0   \n",
      "\n",
      "     slope  ca  thal  target  \n",
      "301      1   1     3       0  \n",
      "302      1   1     2       0  \n"
     ]
    }
   ],
   "source": [
    "print(dataset.head(2))\n",
    "print(dataset.tail(2))\n",
    "\n",
    "dataset=shuffle(dataset)"
   ]
  },
  {
   "cell_type": "markdown",
   "execution_count": null,
   "metadata": {},
   "source": [
    "Now our dataset is randomly shuffeled and it will be better to use randomized sample."
   ]
  },
  {
   "cell_type": "code",
   "execution_count": 12,
   "metadata": {},
   "outputs": [
    {
     "data": {
      "text/html": [
       "<div>\n",
       "<style scoped>\n",
       "    .dataframe tbody tr th:only-of-type {\n",
       "        vertical-align: middle;\n",
       "    }\n",
       "\n",
       "    .dataframe tbody tr th {\n",
       "        vertical-align: top;\n",
       "    }\n",
       "\n",
       "    .dataframe thead th {\n",
       "        text-align: right;\n",
       "    }\n",
       "</style>\n",
       "<table border=\"1\" class=\"dataframe\">\n",
       "  <thead>\n",
       "    <tr style=\"text-align: right;\">\n",
       "      <th></th>\n",
       "      <th>age</th>\n",
       "      <th>sex</th>\n",
       "      <th>cp</th>\n",
       "      <th>trestbps</th>\n",
       "      <th>chol</th>\n",
       "      <th>fbs</th>\n",
       "      <th>restecg</th>\n",
       "      <th>thalach</th>\n",
       "      <th>exang</th>\n",
       "      <th>oldpeak</th>\n",
       "      <th>slope</th>\n",
       "      <th>ca</th>\n",
       "      <th>thal</th>\n",
       "      <th>target</th>\n",
       "    </tr>\n",
       "  </thead>\n",
       "  <tbody>\n",
       "    <tr>\n",
       "      <th>125</th>\n",
       "      <td>34</td>\n",
       "      <td>0</td>\n",
       "      <td>1</td>\n",
       "      <td>118</td>\n",
       "      <td>210</td>\n",
       "      <td>0</td>\n",
       "      <td>1</td>\n",
       "      <td>192</td>\n",
       "      <td>0</td>\n",
       "      <td>0.7</td>\n",
       "      <td>2</td>\n",
       "      <td>0</td>\n",
       "      <td>2</td>\n",
       "      <td>1</td>\n",
       "    </tr>\n",
       "    <tr>\n",
       "      <th>69</th>\n",
       "      <td>62</td>\n",
       "      <td>0</td>\n",
       "      <td>0</td>\n",
       "      <td>124</td>\n",
       "      <td>209</td>\n",
       "      <td>0</td>\n",
       "      <td>1</td>\n",
       "      <td>163</td>\n",
       "      <td>0</td>\n",
       "      <td>0.0</td>\n",
       "      <td>2</td>\n",
       "      <td>0</td>\n",
       "      <td>2</td>\n",
       "      <td>1</td>\n",
       "    </tr>\n",
       "    <tr>\n",
       "      <th>70</th>\n",
       "      <td>54</td>\n",
       "      <td>1</td>\n",
       "      <td>2</td>\n",
       "      <td>120</td>\n",
       "      <td>258</td>\n",
       "      <td>0</td>\n",
       "      <td>0</td>\n",
       "      <td>147</td>\n",
       "      <td>0</td>\n",
       "      <td>0.4</td>\n",
       "      <td>1</td>\n",
       "      <td>0</td>\n",
       "      <td>3</td>\n",
       "      <td>1</td>\n",
       "    </tr>\n",
       "    <tr>\n",
       "      <th>201</th>\n",
       "      <td>60</td>\n",
       "      <td>1</td>\n",
       "      <td>0</td>\n",
       "      <td>125</td>\n",
       "      <td>258</td>\n",
       "      <td>0</td>\n",
       "      <td>0</td>\n",
       "      <td>141</td>\n",
       "      <td>1</td>\n",
       "      <td>2.8</td>\n",
       "      <td>1</td>\n",
       "      <td>1</td>\n",
       "      <td>3</td>\n",
       "      <td>0</td>\n",
       "    </tr>\n",
       "    <tr>\n",
       "      <th>60</th>\n",
       "      <td>71</td>\n",
       "      <td>0</td>\n",
       "      <td>2</td>\n",
       "      <td>110</td>\n",
       "      <td>265</td>\n",
       "      <td>1</td>\n",
       "      <td>0</td>\n",
       "      <td>130</td>\n",
       "      <td>0</td>\n",
       "      <td>0.0</td>\n",
       "      <td>2</td>\n",
       "      <td>1</td>\n",
       "      <td>2</td>\n",
       "      <td>1</td>\n",
       "    </tr>\n",
       "  </tbody>\n",
       "</table>\n",
       "</div>"
      ],
      "text/plain": [
       "     age  sex  cp  trestbps  chol  fbs  restecg  thalach  exang  oldpeak  \\\n",
       "125   34    0   1       118   210    0        1      192      0      0.7   \n",
       "69    62    0   0       124   209    0        1      163      0      0.0   \n",
       "70    54    1   2       120   258    0        0      147      0      0.4   \n",
       "201   60    1   0       125   258    0        0      141      1      2.8   \n",
       "60    71    0   2       110   265    1        0      130      0      0.0   \n",
       "\n",
       "     slope  ca  thal  target  \n",
       "125      2   0     2       1  \n",
       "69       2   0     2       1  \n",
       "70       1   0     3       1  \n",
       "201      1   1     3       0  \n",
       "60       2   1     2       1  "
      ]
     },
     "execution_count": 12,
     "metadata": {},
     "output_type": "execute_result"
    }
   ],
   "source": [
    "dataset.head()"
   ]
  },
  {
   "cell_type": "markdown",
   "execution_count": null,
   "metadata": {},
   "source": [
    "now splitting independent variable and dependent variable into different dataframe"
   ]
  },
  {
   "cell_type": "code",
   "execution_count": 13,
   "metadata": {},
   "outputs": [
    {
     "name": "stdout",
     "output_type": "stream",
     "text": [
      "(303, 13) (303,)\n"
     ]
    }
   ],
   "source": [
    "x_dataset=dataset.drop('target',axis=1)\n",
    "y_dataset=dataset['target']\n",
    "print(x_dataset.shape,y_dataset.shape)"
   ]
  },
  {
   "cell_type": "code",
   "execution_count": 14,
   "metadata": {},
   "outputs": [
    {
     "name": "stdout",
     "output_type": "stream",
     "text": [
      "[[0.10416667 0.         0.33333333 ... 1.         0.         0.66666667]\n",
      " [0.6875     0.         0.         ... 1.         0.         0.66666667]\n",
      " [0.52083333 1.         0.66666667 ... 0.5        0.         1.        ]\n",
      " ...\n",
      " [0.47916667 1.         1.         ... 0.5        0.         0.33333333]\n",
      " [0.4375     0.         0.66666667 ... 0.5        0.         0.66666667]\n",
      " [0.60416667 1.         0.66666667 ... 0.5        0.         1.        ]]\n"
     ]
    }
   ],
   "source": [
    "from sklearn.preprocessing import MinMaxScaler\n",
    "scaler = MinMaxScaler()\n",
    "# transform data\n",
    "x_dataset = scaler.fit_transform(x_dataset)\n",
    "print(x_dataset)"
   ]
  },
  {
   "cell_type": "code",
   "execution_count": 15,
   "metadata": {},
   "outputs": [],
   "source": [
    "from sklearn.model_selection import train_test_split\n",
    "from sklearn.neighbors import KNeighborsClassifier\n",
    "from sklearn.svm import SVC\n",
    "from xgboost import XGBClassifier\n",
    "from sklearn.ensemble import RandomForestClassifier\n",
    "from sklearn.linear_model import LogisticRegression\n",
    "from sklearn.metrics import f1_score\n",
    "from sklearn.model_selection import RandomizedSearchCV\n"
   ]
  },
  {
   "cell_type": "markdown",
   "execution_count": null,
   "metadata": {},
   "source": [
    "Now everything is good lets divide our dataset into train and test set."
   ]
  },
  {
   "cell_type": "code",
   "execution_count": 16,
   "metadata": {},
   "outputs": [
    {
     "name": "stdout",
     "output_type": "stream",
     "text": [
      "(242, 13) (242,)\n"
     ]
    }
   ],
   "source": [
    "#splitting trainx,test_x,train_y,tets_y of size 20 percent\n",
    "X_train,X_test,y_train,y_test=train_test_split(x_dataset,y_dataset,test_size=0.2,random_state=0)\n",
    "print(X_train.shape,y_train.shape)# validating shape"
   ]
  },
  {
   "cell_type": "markdown",
   "execution_count": null,
   "metadata": {},
   "source": [
    "# Model Selection"
   ]
  },
  {
   "cell_type": "markdown",
   "execution_count": null,
   "metadata": {},
   "source": [
    "Now we are ready for model selection. It is hard to say that any one **GOD** algorithm performs well in every scenario. Every Model performs differently  on different dataset it is upto us to analyze which model perform better in this kind of scenario. There is no **GOD** algorithm or say algorithm which fits perfectly on every dataset.\n",
    "For model selection we have to analyze scores or accuracy of different algorithm and find one which best fits our modela and thus satisfy our problem. Let's say for this kind of dataset where we are predicting the heart disease of a person it is thus important for us to get maximum precision score.\n",
    "we have to focus on decreasing **FALSE POSITIVE RATE (FPR)** = **false positive(FP)**/**false positive + True negative(TN)**\n",
    "\n",
    "There are certain classification algorithm which we will analyze for our model:\n",
    "- KNNclassifier\n",
    "- SVMclassifier\n",
    "- RandomForest\n",
    "- Xgboost\n",
    "- logistics regression"
   ]
  },
  {
   "cell_type": "code",
   "execution_count": 17,
   "metadata": {},
   "outputs": [],
   "source": [
    "model1=KNeighborsClassifier()\n",
    "model2= SVC()\n",
    "model3= XGBClassifier()\n",
    "model4= RandomForestClassifier()\n",
    "model5= LogisticRegression()\n",
    "models=[model1,model2,model3,model4,model5]"
   ]
  },
  {
   "cell_type": "code",
   "execution_count": 18,
   "metadata": {},
   "outputs": [
    {
     "name": "stdout",
     "output_type": "stream",
     "text": [
      "KNeighborsClassifier()\n",
      "score 0.7377049180327869\n",
      "F1-score= 0.7241379310344828\n",
      "SVC()\n",
      "score 0.6885245901639344\n",
      "F1-score= 0.6885245901639345\n",
      "XGBClassifier(base_score=0.5, booster='gbtree', colsample_bylevel=1,\n",
      "              colsample_bynode=1, colsample_bytree=1, gamma=0, gpu_id=-1,\n",
      "              importance_type='gain', interaction_constraints='',\n",
      "              learning_rate=0.300000012, max_delta_step=0, max_depth=6,\n",
      "              min_child_weight=1, missing=nan, monotone_constraints='()',\n",
      "              n_estimators=100, n_jobs=0, num_parallel_tree=1, random_state=0,\n",
      "              reg_alpha=0, reg_lambda=1, scale_pos_weight=1, subsample=1,\n",
      "              tree_method='exact', validate_parameters=1, verbosity=None)\n",
      "score 0.7213114754098361\n",
      "F1-score= 0.711864406779661\n",
      "RandomForestClassifier()\n",
      "score 0.7540983606557377\n",
      "F1-score= 0.7457627118644067\n",
      "LogisticRegression()\n",
      "score 0.7049180327868853\n",
      "F1-score= 0.7000000000000001\n"
     ]
    }
   ],
   "source": [
    "for model in models:\n",
    "    model.fit(X_train,y_train)\n",
    "    print(model)\n",
    "    print('score',model.score(X_test,y_test))\n",
    "    y_pred=model.predict(X_test)\n",
    "    print('F1-score=',f1_score(y_test,y_pred))"
   ]
  },
  {
   "cell_type": "markdown",
   "execution_count": null,
   "metadata": {},
   "source": [
    "From the above cell, we can observe that our accuracy best fits with Random Forest classifiers at an score of 0.88 and f1_score of 0.89.\n",
    "well this score is not that good but we can surely increase it by parameter tuning in the below cell."
   ]
  },
  {
   "cell_type": "code",
   "execution_count": 19,
   "metadata": {},
   "outputs": [],
   "source": [
    "# creating model as RandomizedSearchCV\n",
    "model=RandomForestClassifier()"
   ]
  },
  {
   "cell_type": "markdown",
   "execution_count": null,
   "metadata": {},
   "source": [
    "**Hyper parameter tuning**"
   ]
  },
  {
   "cell_type": "markdown",
   "execution_count": null,
   "metadata": {},
   "source": [
    "There are two ways to tune parameters \n",
    "- Grid search Cv\n",
    "- Randomized Search Cv\n",
    "\n",
    "we will use Randomized search cv as it takes less time and check randomly for parameters."
   ]
  },
  {
   "cell_type": "code",
   "execution_count": 20,
   "metadata": {},
   "outputs": [],
   "source": [
    "# defining param grid\n",
    "n_estimators = [100, 200, 300, 400, 500]\n",
    "max_features = ['auto', 'sqrt']\n",
    "max_depth = [5, 10, 20, 30, 40, 50]\n",
    "min_samples_split = [2, 5, 10]\n",
    "min_samples_leaf = [1, 2, 4]\n",
    "bootstrap = [True, False]\n",
    "        \n",
    "random_grid = {'n_estimators': n_estimators,\n",
    "               'criterion':['gini','entropy'],\n",
    "                       'max_features': max_features,\n",
    "                       'max_depth': max_depth,\n",
    "                       'min_samples_split': min_samples_split,\n",
    "                       'min_samples_leaf': min_samples_leaf,\n",
    "                       'bootstrap': bootstrap}"
   ]
  },
  {
   "cell_type": "code",
   "execution_count": 21,
   "metadata": {},
   "outputs": [],
   "source": [
    "#randomSearch=RandomizedSearchCV(estimator =model, param_distributions = random_grid, cv = 10)\n",
    "#randomSearch.fit(X_train,y_train)"
   ]
  },
  {
   "cell_type": "code",
   "execution_count": 22,
   "metadata": {},
   "outputs": [],
   "source": [
    "# lets print the best param and best score of after tuning\n",
    "#print('best_params',randomSearch.best_params_)\n",
    "#print('best-score',randomSearch.best_score_)"
   ]
  },
  {
   "cell_type": "code",
   "execution_count": 23,
   "metadata": {},
   "outputs": [
    {
     "name": "stdout",
     "output_type": "stream",
     "text": [
      "RandomForestClassifier(bootstrap=False, max_depth=10, max_features='sqrt',\n",
      "                       min_samples_leaf=4, n_estimators=500)\n",
      "score 0.7704918032786885\n",
      "F1-score= 0.7666666666666667\n"
     ]
    }
   ],
   "source": [
    "model=RandomForestClassifier(n_estimators=500,min_samples_split=2,min_samples_leaf=4,max_features='sqrt',max_depth=10,bootstrap=False,criterion='gini')\n",
    "model.fit(X_train,y_train)\n",
    "print(model)\n",
    "print('score',model.score(X_test,y_test))\n",
    "y_pred=model.predict(X_test)\n",
    "print('F1-score=',f1_score(y_test,y_pred))"
   ]
  },
  {
   "cell_type": "code",
   "execution_count": 24,
   "metadata": {},
   "outputs": [
    {
     "data": {
      "text/plain": [
       "array([0, 1, 0, 0, 1, 1, 1, 0, 1, 1, 0, 1, 1, 1, 1, 0, 1, 1, 0, 0, 0, 0,\n",
       "       0, 0, 1, 1, 1, 0, 1, 1, 0, 0, 0, 1, 0, 1, 1, 1, 1, 1, 1, 0, 0, 1,\n",
       "       1, 1, 0, 0, 0, 0, 0, 0, 0, 0, 1, 1, 1, 1, 0, 1, 1])"
      ]
     },
     "execution_count": 24,
     "metadata": {},
     "output_type": "execute_result"
    }
   ],
   "source": [
    "y_pred=model.predict(X_test)\n",
    "y_pred"
   ]
  },
  {
   "cell_type": "code",
   "execution_count": null,
   "metadata": {},
   "outputs": [],
   "source": []
  },
  {
   "cell_type": "code",
   "execution_count": 25,
   "metadata": {},
   "outputs": [],
   "source": [
    "import pickle\n",
    "# save the model to disk\n",
    "filename = 'finalized_model.pkl'\n",
    "pickle.dump(model, open(filename, 'wb'))"
   ]
  },
  {
   "cell_type": "code",
   "execution_count": null,
   "metadata": {},
   "outputs": [],
   "source": []
  }
 ],
 "metadata": {
  "kernelspec": {
   "display_name": "Python 3",
   "language": "python",
   "name": "python3"
  },
  "language_info": {
   "codemirror_mode": {
    "name": "ipython",
    "version": 3
   },
   "file_extension": ".py",
   "mimetype": "text/x-python",
   "name": "python",
   "nbconvert_exporter": "python",
   "pygments_lexer": "ipython3",
   "version": "3.7.6"
  }
 },
 "nbformat": 4,
 "nbformat_minor": 4
}
