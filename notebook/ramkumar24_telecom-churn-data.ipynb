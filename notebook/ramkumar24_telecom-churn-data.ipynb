{
 "cells": [
  {
   "cell_type": "markdown",
   "metadata": {
    "papermill": {
     "duration": 0.04437,
     "end_time": "2020-10-25T15:07:44.721077",
     "exception": false,
     "start_time": "2020-10-25T15:07:44.676707",
     "status": "completed"
    },
    "tags": []
   },
   "source": [
    "Use-case : \n",
    "    -> Not to lose a potential customer.\n",
    "    -> In this case have to focus on increasing the Recall rate means reducing False Negative.\n",
    "    -> False Negative also called Type2 error defined as the customer will churn but the model will think he/she is not churn.\n",
    "    -> So the priority for this customer will be less because the model thinks he/she will retain.\n",
    "    -> False positive(type1 error) - the customer will not churn but the model will think he/she will churn. This will be solved by further contacting the customer.\n",
    "    -> But the Recall is important here we will think churn customer as retaining one so we may not focus on them much.\n",
    "    -> Since the ultimate goal is to find the churn customer and make them retain."
   ]
  },
  {
   "cell_type": "code",
   "execution_count": 1,
   "metadata": {
    "_cell_guid": "b1076dfc-b9ad-4769-8c92-a6c4dae69d19",
    "_uuid": "8f2839f25d086af736a60e9eeb907d3b93b6e0e5",
    "execution": {
     "iopub.execute_input": "2020-10-25T15:07:44.817534Z",
     "iopub.status.busy": "2020-10-25T15:07:44.816694Z",
     "iopub.status.idle": "2020-10-25T15:07:44.837579Z",
     "shell.execute_reply": "2020-10-25T15:07:44.836712Z"
    },
    "papermill": {
     "duration": 0.071441,
     "end_time": "2020-10-25T15:07:44.837712",
     "exception": false,
     "start_time": "2020-10-25T15:07:44.766271",
     "status": "completed"
    },
    "tags": []
   },
   "outputs": [
    {
     "name": "stdout",
     "output_type": "stream",
     "text": [
      "/kaggle/input/telco-customer-churn/WA_Fn-UseC_-Telco-Customer-Churn.csv\n"
     ]
    }
   ],
   "source": [
    "# This Python 3 environment comes with many helpful analytics libraries installed\n",
    "# It is defined by the kaggle/python Docker image: https://github.com/kaggle/docker-python\n",
    "# For example, here's several helpful packages to load\n",
    "\n",
    "import numpy as np # linear algebra\n",
    "import pandas as pd # data processing, CSV file I/O (e.g. pd.read_csv)\n",
    "\n",
    "# Input data files are available in the read-only \"../input/\" directory\n",
    "# For example, running this (by clicking run or pressing Shift+Enter) will list all files under the input directory\n",
    "\n",
    "import os\n",
    "for dirname, _, filenames in os.walk('/kaggle/input'):\n",
    "    for filename in filenames:\n",
    "        print(os.path.join(dirname, filename))\n",
    "\n",
    "# You can write up to 5GB to the current directory (/kaggle/working/) that gets preserved as output when you create a version using \"Save & Run All\" \n",
    "# You can also write temporary files to /kaggle/temp/, but they won't be saved outside of the current session"
   ]
  },
  {
   "cell_type": "code",
   "execution_count": 2,
   "metadata": {
    "execution": {
     "iopub.execute_input": "2020-10-25T15:07:44.932951Z",
     "iopub.status.busy": "2020-10-25T15:07:44.931787Z",
     "iopub.status.idle": "2020-10-25T15:07:44.935039Z",
     "shell.execute_reply": "2020-10-25T15:07:44.934258Z"
    },
    "papermill": {
     "duration": 0.053614,
     "end_time": "2020-10-25T15:07:44.935169",
     "exception": false,
     "start_time": "2020-10-25T15:07:44.881555",
     "status": "completed"
    },
    "tags": []
   },
   "outputs": [],
   "source": [
    "import warnings\n",
    "warnings.filterwarnings(\"ignore\")\n",
    "pd.set_option(\"display.max_rows\",None)\n",
    "pd.set_option(\"display.max_columns\",None)"
   ]
  },
  {
   "cell_type": "code",
   "execution_count": 3,
   "metadata": {
    "execution": {
     "iopub.execute_input": "2020-10-25T15:07:45.029741Z",
     "iopub.status.busy": "2020-10-25T15:07:45.028815Z",
     "iopub.status.idle": "2020-10-25T15:07:45.139590Z",
     "shell.execute_reply": "2020-10-25T15:07:45.138793Z"
    },
    "papermill": {
     "duration": 0.16116,
     "end_time": "2020-10-25T15:07:45.139753",
     "exception": false,
     "start_time": "2020-10-25T15:07:44.978593",
     "status": "completed"
    },
    "tags": []
   },
   "outputs": [],
   "source": [
    "dfx = pd.read_csv(\"../input/telco-customer-churn/WA_Fn-UseC_-Telco-Customer-Churn.csv\")"
   ]
  },
  {
   "cell_type": "code",
   "execution_count": 4,
   "metadata": {
    "execution": {
     "iopub.execute_input": "2020-10-25T15:07:45.236601Z",
     "iopub.status.busy": "2020-10-25T15:07:45.235752Z",
     "iopub.status.idle": "2020-10-25T15:07:45.241022Z",
     "shell.execute_reply": "2020-10-25T15:07:45.240201Z"
    },
    "papermill": {
     "duration": 0.056438,
     "end_time": "2020-10-25T15:07:45.241156",
     "exception": false,
     "start_time": "2020-10-25T15:07:45.184718",
     "status": "completed"
    },
    "tags": []
   },
   "outputs": [
    {
     "data": {
      "text/plain": [
       "(7043, 21)"
      ]
     },
     "execution_count": 4,
     "metadata": {},
     "output_type": "execute_result"
    }
   ],
   "source": [
    "dfx.shape"
   ]
  },
  {
   "cell_type": "code",
   "execution_count": 5,
   "metadata": {
    "execution": {
     "iopub.execute_input": "2020-10-25T15:07:45.343994Z",
     "iopub.status.busy": "2020-10-25T15:07:45.343102Z",
     "iopub.status.idle": "2020-10-25T15:07:45.376720Z",
     "shell.execute_reply": "2020-10-25T15:07:45.376052Z"
    },
    "papermill": {
     "duration": 0.0905,
     "end_time": "2020-10-25T15:07:45.376872",
     "exception": false,
     "start_time": "2020-10-25T15:07:45.286372",
     "status": "completed"
    },
    "tags": []
   },
   "outputs": [
    {
     "data": {
      "text/plain": [
       "(7043, 21)"
      ]
     },
     "execution_count": 5,
     "metadata": {},
     "output_type": "execute_result"
    }
   ],
   "source": [
    "df = dfx.drop_duplicates()\n",
    "df.shape"
   ]
  },
  {
   "cell_type": "code",
   "execution_count": 6,
   "metadata": {
    "execution": {
     "iopub.execute_input": "2020-10-25T15:07:45.488402Z",
     "iopub.status.busy": "2020-10-25T15:07:45.487583Z",
     "iopub.status.idle": "2020-10-25T15:07:45.505854Z",
     "shell.execute_reply": "2020-10-25T15:07:45.505048Z"
    },
    "papermill": {
     "duration": 0.083788,
     "end_time": "2020-10-25T15:07:45.505989",
     "exception": false,
     "start_time": "2020-10-25T15:07:45.422201",
     "status": "completed"
    },
    "tags": []
   },
   "outputs": [
    {
     "data": {
      "text/html": [
       "<div>\n",
       "<style scoped>\n",
       "    .dataframe tbody tr th:only-of-type {\n",
       "        vertical-align: middle;\n",
       "    }\n",
       "\n",
       "    .dataframe tbody tr th {\n",
       "        vertical-align: top;\n",
       "    }\n",
       "\n",
       "    .dataframe thead th {\n",
       "        text-align: right;\n",
       "    }\n",
       "</style>\n",
       "<table border=\"1\" class=\"dataframe\">\n",
       "  <thead>\n",
       "    <tr style=\"text-align: right;\">\n",
       "      <th></th>\n",
       "      <th>customerID</th>\n",
       "      <th>gender</th>\n",
       "      <th>SeniorCitizen</th>\n",
       "      <th>Partner</th>\n",
       "      <th>Dependents</th>\n",
       "      <th>tenure</th>\n",
       "      <th>PhoneService</th>\n",
       "      <th>MultipleLines</th>\n",
       "      <th>InternetService</th>\n",
       "      <th>OnlineSecurity</th>\n",
       "      <th>OnlineBackup</th>\n",
       "      <th>DeviceProtection</th>\n",
       "      <th>TechSupport</th>\n",
       "      <th>StreamingTV</th>\n",
       "      <th>StreamingMovies</th>\n",
       "      <th>Contract</th>\n",
       "      <th>PaperlessBilling</th>\n",
       "      <th>PaymentMethod</th>\n",
       "      <th>MonthlyCharges</th>\n",
       "      <th>TotalCharges</th>\n",
       "      <th>Churn</th>\n",
       "    </tr>\n",
       "  </thead>\n",
       "  <tbody>\n",
       "    <tr>\n",
       "      <th>0</th>\n",
       "      <td>7590-VHVEG</td>\n",
       "      <td>Female</td>\n",
       "      <td>0</td>\n",
       "      <td>Yes</td>\n",
       "      <td>No</td>\n",
       "      <td>1</td>\n",
       "      <td>No</td>\n",
       "      <td>No phone service</td>\n",
       "      <td>DSL</td>\n",
       "      <td>No</td>\n",
       "      <td>Yes</td>\n",
       "      <td>No</td>\n",
       "      <td>No</td>\n",
       "      <td>No</td>\n",
       "      <td>No</td>\n",
       "      <td>Month-to-month</td>\n",
       "      <td>Yes</td>\n",
       "      <td>Electronic check</td>\n",
       "      <td>29.85</td>\n",
       "      <td>29.85</td>\n",
       "      <td>No</td>\n",
       "    </tr>\n",
       "    <tr>\n",
       "      <th>1</th>\n",
       "      <td>5575-GNVDE</td>\n",
       "      <td>Male</td>\n",
       "      <td>0</td>\n",
       "      <td>No</td>\n",
       "      <td>No</td>\n",
       "      <td>34</td>\n",
       "      <td>Yes</td>\n",
       "      <td>No</td>\n",
       "      <td>DSL</td>\n",
       "      <td>Yes</td>\n",
       "      <td>No</td>\n",
       "      <td>Yes</td>\n",
       "      <td>No</td>\n",
       "      <td>No</td>\n",
       "      <td>No</td>\n",
       "      <td>One year</td>\n",
       "      <td>No</td>\n",
       "      <td>Mailed check</td>\n",
       "      <td>56.95</td>\n",
       "      <td>1889.5</td>\n",
       "      <td>No</td>\n",
       "    </tr>\n",
       "    <tr>\n",
       "      <th>2</th>\n",
       "      <td>3668-QPYBK</td>\n",
       "      <td>Male</td>\n",
       "      <td>0</td>\n",
       "      <td>No</td>\n",
       "      <td>No</td>\n",
       "      <td>2</td>\n",
       "      <td>Yes</td>\n",
       "      <td>No</td>\n",
       "      <td>DSL</td>\n",
       "      <td>Yes</td>\n",
       "      <td>Yes</td>\n",
       "      <td>No</td>\n",
       "      <td>No</td>\n",
       "      <td>No</td>\n",
       "      <td>No</td>\n",
       "      <td>Month-to-month</td>\n",
       "      <td>Yes</td>\n",
       "      <td>Mailed check</td>\n",
       "      <td>53.85</td>\n",
       "      <td>108.15</td>\n",
       "      <td>Yes</td>\n",
       "    </tr>\n",
       "    <tr>\n",
       "      <th>3</th>\n",
       "      <td>7795-CFOCW</td>\n",
       "      <td>Male</td>\n",
       "      <td>0</td>\n",
       "      <td>No</td>\n",
       "      <td>No</td>\n",
       "      <td>45</td>\n",
       "      <td>No</td>\n",
       "      <td>No phone service</td>\n",
       "      <td>DSL</td>\n",
       "      <td>Yes</td>\n",
       "      <td>No</td>\n",
       "      <td>Yes</td>\n",
       "      <td>Yes</td>\n",
       "      <td>No</td>\n",
       "      <td>No</td>\n",
       "      <td>One year</td>\n",
       "      <td>No</td>\n",
       "      <td>Bank transfer (automatic)</td>\n",
       "      <td>42.30</td>\n",
       "      <td>1840.75</td>\n",
       "      <td>No</td>\n",
       "    </tr>\n",
       "    <tr>\n",
       "      <th>4</th>\n",
       "      <td>9237-HQITU</td>\n",
       "      <td>Female</td>\n",
       "      <td>0</td>\n",
       "      <td>No</td>\n",
       "      <td>No</td>\n",
       "      <td>2</td>\n",
       "      <td>Yes</td>\n",
       "      <td>No</td>\n",
       "      <td>Fiber optic</td>\n",
       "      <td>No</td>\n",
       "      <td>No</td>\n",
       "      <td>No</td>\n",
       "      <td>No</td>\n",
       "      <td>No</td>\n",
       "      <td>No</td>\n",
       "      <td>Month-to-month</td>\n",
       "      <td>Yes</td>\n",
       "      <td>Electronic check</td>\n",
       "      <td>70.70</td>\n",
       "      <td>151.65</td>\n",
       "      <td>Yes</td>\n",
       "    </tr>\n",
       "  </tbody>\n",
       "</table>\n",
       "</div>"
      ],
      "text/plain": [
       "   customerID  gender  SeniorCitizen Partner Dependents  tenure PhoneService  \\\n",
       "0  7590-VHVEG  Female              0     Yes         No       1           No   \n",
       "1  5575-GNVDE    Male              0      No         No      34          Yes   \n",
       "2  3668-QPYBK    Male              0      No         No       2          Yes   \n",
       "3  7795-CFOCW    Male              0      No         No      45           No   \n",
       "4  9237-HQITU  Female              0      No         No       2          Yes   \n",
       "\n",
       "      MultipleLines InternetService OnlineSecurity OnlineBackup  \\\n",
       "0  No phone service             DSL             No          Yes   \n",
       "1                No             DSL            Yes           No   \n",
       "2                No             DSL            Yes          Yes   \n",
       "3  No phone service             DSL            Yes           No   \n",
       "4                No     Fiber optic             No           No   \n",
       "\n",
       "  DeviceProtection TechSupport StreamingTV StreamingMovies        Contract  \\\n",
       "0               No          No          No              No  Month-to-month   \n",
       "1              Yes          No          No              No        One year   \n",
       "2               No          No          No              No  Month-to-month   \n",
       "3              Yes         Yes          No              No        One year   \n",
       "4               No          No          No              No  Month-to-month   \n",
       "\n",
       "  PaperlessBilling              PaymentMethod  MonthlyCharges TotalCharges  \\\n",
       "0              Yes           Electronic check           29.85        29.85   \n",
       "1               No               Mailed check           56.95       1889.5   \n",
       "2              Yes               Mailed check           53.85       108.15   \n",
       "3               No  Bank transfer (automatic)           42.30      1840.75   \n",
       "4              Yes           Electronic check           70.70       151.65   \n",
       "\n",
       "  Churn  \n",
       "0    No  \n",
       "1    No  \n",
       "2   Yes  \n",
       "3    No  \n",
       "4   Yes  "
      ]
     },
     "execution_count": 6,
     "metadata": {},
     "output_type": "execute_result"
    }
   ],
   "source": [
    "df.head()"
   ]
  },
  {
   "cell_type": "code",
   "execution_count": 7,
   "metadata": {
    "execution": {
     "iopub.execute_input": "2020-10-25T15:07:45.620108Z",
     "iopub.status.busy": "2020-10-25T15:07:45.619227Z",
     "iopub.status.idle": "2020-10-25T15:07:45.628378Z",
     "shell.execute_reply": "2020-10-25T15:07:45.627416Z"
    },
    "papermill": {
     "duration": 0.076655,
     "end_time": "2020-10-25T15:07:45.628528",
     "exception": false,
     "start_time": "2020-10-25T15:07:45.551873",
     "status": "completed"
    },
    "tags": []
   },
   "outputs": [
    {
     "data": {
      "text/plain": [
       "customerID          0\n",
       "gender              0\n",
       "SeniorCitizen       0\n",
       "Partner             0\n",
       "Dependents          0\n",
       "tenure              0\n",
       "PhoneService        0\n",
       "MultipleLines       0\n",
       "InternetService     0\n",
       "OnlineSecurity      0\n",
       "OnlineBackup        0\n",
       "DeviceProtection    0\n",
       "TechSupport         0\n",
       "StreamingTV         0\n",
       "StreamingMovies     0\n",
       "Contract            0\n",
       "PaperlessBilling    0\n",
       "PaymentMethod       0\n",
       "MonthlyCharges      0\n",
       "TotalCharges        0\n",
       "Churn               0\n",
       "dtype: int64"
      ]
     },
     "execution_count": 7,
     "metadata": {},
     "output_type": "execute_result"
    }
   ],
   "source": [
    "df.isnull().sum()"
   ]
  },
  {
   "cell_type": "code",
   "execution_count": 8,
   "metadata": {
    "execution": {
     "iopub.execute_input": "2020-10-25T15:07:45.745078Z",
     "iopub.status.busy": "2020-10-25T15:07:45.743908Z",
     "iopub.status.idle": "2020-10-25T15:07:45.762261Z",
     "shell.execute_reply": "2020-10-25T15:07:45.761198Z"
    },
    "papermill": {
     "duration": 0.087172,
     "end_time": "2020-10-25T15:07:45.762454",
     "exception": false,
     "start_time": "2020-10-25T15:07:45.675282",
     "status": "completed"
    },
    "tags": []
   },
   "outputs": [
    {
     "name": "stdout",
     "output_type": "stream",
     "text": [
      "<class 'pandas.core.frame.DataFrame'>\n",
      "Int64Index: 7043 entries, 0 to 7042\n",
      "Data columns (total 21 columns):\n",
      " #   Column            Non-Null Count  Dtype  \n",
      "---  ------            --------------  -----  \n",
      " 0   customerID        7043 non-null   object \n",
      " 1   gender            7043 non-null   object \n",
      " 2   SeniorCitizen     7043 non-null   int64  \n",
      " 3   Partner           7043 non-null   object \n",
      " 4   Dependents        7043 non-null   object \n",
      " 5   tenure            7043 non-null   int64  \n",
      " 6   PhoneService      7043 non-null   object \n",
      " 7   MultipleLines     7043 non-null   object \n",
      " 8   InternetService   7043 non-null   object \n",
      " 9   OnlineSecurity    7043 non-null   object \n",
      " 10  OnlineBackup      7043 non-null   object \n",
      " 11  DeviceProtection  7043 non-null   object \n",
      " 12  TechSupport       7043 non-null   object \n",
      " 13  StreamingTV       7043 non-null   object \n",
      " 14  StreamingMovies   7043 non-null   object \n",
      " 15  Contract          7043 non-null   object \n",
      " 16  PaperlessBilling  7043 non-null   object \n",
      " 17  PaymentMethod     7043 non-null   object \n",
      " 18  MonthlyCharges    7043 non-null   float64\n",
      " 19  TotalCharges      7043 non-null   object \n",
      " 20  Churn             7043 non-null   object \n",
      "dtypes: float64(1), int64(2), object(18)\n",
      "memory usage: 1.2+ MB\n"
     ]
    }
   ],
   "source": [
    "df.info()"
   ]
  },
  {
   "cell_type": "code",
   "execution_count": 9,
   "metadata": {
    "execution": {
     "iopub.execute_input": "2020-10-25T15:07:45.875691Z",
     "iopub.status.busy": "2020-10-25T15:07:45.874876Z",
     "iopub.status.idle": "2020-10-25T15:07:45.878539Z",
     "shell.execute_reply": "2020-10-25T15:07:45.877919Z"
    },
    "papermill": {
     "duration": 0.065523,
     "end_time": "2020-10-25T15:07:45.878676",
     "exception": false,
     "start_time": "2020-10-25T15:07:45.813153",
     "status": "completed"
    },
    "tags": []
   },
   "outputs": [],
   "source": [
    "df[\"Churn\"] = df[\"Churn\"].replace((\"Yes\",\"No\"),(1,0))"
   ]
  },
  {
   "cell_type": "code",
   "execution_count": 10,
   "metadata": {
    "execution": {
     "iopub.execute_input": "2020-10-25T15:07:45.980894Z",
     "iopub.status.busy": "2020-10-25T15:07:45.979965Z",
     "iopub.status.idle": "2020-10-25T15:07:47.343157Z",
     "shell.execute_reply": "2020-10-25T15:07:47.342297Z"
    },
    "papermill": {
     "duration": 1.41718,
     "end_time": "2020-10-25T15:07:47.343289",
     "exception": false,
     "start_time": "2020-10-25T15:07:45.926109",
     "status": "completed"
    },
    "tags": []
   },
   "outputs": [
    {
     "data": {
      "text/plain": [
       "<matplotlib.axes._subplots.AxesSubplot at 0x7fe30c275ed0>"
      ]
     },
     "execution_count": 10,
     "metadata": {},
     "output_type": "execute_result"
    },
    {
     "data": {
      "image/png": "[encoded data removed]",
      "text/plain": [
       "<Figure size 432x288 with 1 Axes>"
      ]
     },
     "metadata": {
      "needs_background": "light"
     },
     "output_type": "display_data"
    }
   ],
   "source": [
    "target = df[\"Churn\"]\n",
    "import seaborn as sns\n",
    "sns.countplot(target)"
   ]
  },
  {
   "cell_type": "code",
   "execution_count": 11,
   "metadata": {
    "execution": {
     "iopub.execute_input": "2020-10-25T15:07:47.451043Z",
     "iopub.status.busy": "2020-10-25T15:07:47.450073Z",
     "iopub.status.idle": "2020-10-25T15:07:47.478068Z",
     "shell.execute_reply": "2020-10-25T15:07:47.477410Z"
    },
    "papermill": {
     "duration": 0.084922,
     "end_time": "2020-10-25T15:07:47.478211",
     "exception": false,
     "start_time": "2020-10-25T15:07:47.393289",
     "status": "completed"
    },
    "tags": []
   },
   "outputs": [
    {
     "name": "stdout",
     "output_type": "stream",
     "text": [
      "1    1869\n",
      "Name: Churn, dtype: int64\n",
      "0    5174\n",
      "Name: Churn, dtype: int64\n"
     ]
    }
   ],
   "source": [
    "print((target[target == 1].value_counts()))\n",
    "print((target[target == 0].value_counts()))"
   ]
  },
  {
   "cell_type": "code",
   "execution_count": 12,
   "metadata": {
    "execution": {
     "iopub.execute_input": "2020-10-25T15:07:47.583041Z",
     "iopub.status.busy": "2020-10-25T15:07:47.581911Z",
     "iopub.status.idle": "2020-10-25T15:07:47.589580Z",
     "shell.execute_reply": "2020-10-25T15:07:47.590760Z"
    },
    "papermill": {
     "duration": 0.063906,
     "end_time": "2020-10-25T15:07:47.591039",
     "exception": false,
     "start_time": "2020-10-25T15:07:47.527133",
     "status": "completed"
    },
    "tags": []
   },
   "outputs": [
    {
     "data": {
      "text/plain": [
       "7043"
      ]
     },
     "execution_count": 12,
     "metadata": {},
     "output_type": "execute_result"
    }
   ],
   "source": [
    "df[\"customerID\"].nunique()"
   ]
  },
  {
   "cell_type": "code",
   "execution_count": 13,
   "metadata": {
    "execution": {
     "iopub.execute_input": "2020-10-25T15:07:47.726370Z",
     "iopub.status.busy": "2020-10-25T15:07:47.725208Z",
     "iopub.status.idle": "2020-10-25T15:07:47.732576Z",
     "shell.execute_reply": "2020-10-25T15:07:47.731594Z"
    },
    "papermill": {
     "duration": 0.078246,
     "end_time": "2020-10-25T15:07:47.732760",
     "exception": false,
     "start_time": "2020-10-25T15:07:47.654514",
     "status": "completed"
    },
    "tags": []
   },
   "outputs": [],
   "source": [
    "df = df.drop([\"customerID\",\"Churn\"],axis=1)"
   ]
  },
  {
   "cell_type": "code",
   "execution_count": 14,
   "metadata": {
    "execution": {
     "iopub.execute_input": "2020-10-25T15:07:47.850345Z",
     "iopub.status.busy": "2020-10-25T15:07:47.849531Z",
     "iopub.status.idle": "2020-10-25T15:07:47.852680Z",
     "shell.execute_reply": "2020-10-25T15:07:47.851912Z"
    },
    "papermill": {
     "duration": 0.061767,
     "end_time": "2020-10-25T15:07:47.852815",
     "exception": false,
     "start_time": "2020-10-25T15:07:47.791048",
     "status": "completed"
    },
    "tags": []
   },
   "outputs": [],
   "source": [
    "df_num = [col for col in df.columns if df[col].dtype != 'object']\n",
    "df_num = df[df_num]"
   ]
  },
  {
   "cell_type": "code",
   "execution_count": 15,
   "metadata": {
    "execution": {
     "iopub.execute_input": "2020-10-25T15:07:47.966400Z",
     "iopub.status.busy": "2020-10-25T15:07:47.965273Z",
     "iopub.status.idle": "2020-10-25T15:07:47.969422Z",
     "shell.execute_reply": "2020-10-25T15:07:47.969976Z"
    },
    "papermill": {
     "duration": 0.066056,
     "end_time": "2020-10-25T15:07:47.970153",
     "exception": false,
     "start_time": "2020-10-25T15:07:47.904097",
     "status": "completed"
    },
    "tags": []
   },
   "outputs": [
    {
     "data": {
      "text/html": [
       "<div>\n",
       "<style scoped>\n",
       "    .dataframe tbody tr th:only-of-type {\n",
       "        vertical-align: middle;\n",
       "    }\n",
       "\n",
       "    .dataframe tbody tr th {\n",
       "        vertical-align: top;\n",
       "    }\n",
       "\n",
       "    .dataframe thead th {\n",
       "        text-align: right;\n",
       "    }\n",
       "</style>\n",
       "<table border=\"1\" class=\"dataframe\">\n",
       "  <thead>\n",
       "    <tr style=\"text-align: right;\">\n",
       "      <th></th>\n",
       "      <th>SeniorCitizen</th>\n",
       "      <th>tenure</th>\n",
       "      <th>MonthlyCharges</th>\n",
       "    </tr>\n",
       "  </thead>\n",
       "  <tbody>\n",
       "    <tr>\n",
       "      <th>0</th>\n",
       "      <td>0</td>\n",
       "      <td>1</td>\n",
       "      <td>29.85</td>\n",
       "    </tr>\n",
       "    <tr>\n",
       "      <th>1</th>\n",
       "      <td>0</td>\n",
       "      <td>34</td>\n",
       "      <td>56.95</td>\n",
       "    </tr>\n",
       "    <tr>\n",
       "      <th>2</th>\n",
       "      <td>0</td>\n",
       "      <td>2</td>\n",
       "      <td>53.85</td>\n",
       "    </tr>\n",
       "    <tr>\n",
       "      <th>3</th>\n",
       "      <td>0</td>\n",
       "      <td>45</td>\n",
       "      <td>42.30</td>\n",
       "    </tr>\n",
       "    <tr>\n",
       "      <th>4</th>\n",
       "      <td>0</td>\n",
       "      <td>2</td>\n",
       "      <td>70.70</td>\n",
       "    </tr>\n",
       "  </tbody>\n",
       "</table>\n",
       "</div>"
      ],
      "text/plain": [
       "   SeniorCitizen  tenure  MonthlyCharges\n",
       "0              0       1           29.85\n",
       "1              0      34           56.95\n",
       "2              0       2           53.85\n",
       "3              0      45           42.30\n",
       "4              0       2           70.70"
      ]
     },
     "execution_count": 15,
     "metadata": {},
     "output_type": "execute_result"
    }
   ],
   "source": [
    "df_num.head()"
   ]
  },
  {
   "cell_type": "code",
   "execution_count": 16,
   "metadata": {
    "execution": {
     "iopub.execute_input": "2020-10-25T15:07:48.080284Z",
     "iopub.status.busy": "2020-10-25T15:07:48.078893Z",
     "iopub.status.idle": "2020-10-25T15:07:48.083299Z",
     "shell.execute_reply": "2020-10-25T15:07:48.083871Z"
    },
    "papermill": {
     "duration": 0.062561,
     "end_time": "2020-10-25T15:07:48.084047",
     "exception": false,
     "start_time": "2020-10-25T15:07:48.021486",
     "status": "completed"
    },
    "tags": []
   },
   "outputs": [],
   "source": [
    "df_cat = df.drop(df_num.columns,axis=1)"
   ]
  },
  {
   "cell_type": "code",
   "execution_count": 17,
   "metadata": {
    "execution": {
     "iopub.execute_input": "2020-10-25T15:07:48.212982Z",
     "iopub.status.busy": "2020-10-25T15:07:48.211992Z",
     "iopub.status.idle": "2020-10-25T15:07:48.217608Z",
     "shell.execute_reply": "2020-10-25T15:07:48.216765Z"
    },
    "papermill": {
     "duration": 0.082361,
     "end_time": "2020-10-25T15:07:48.217736",
     "exception": false,
     "start_time": "2020-10-25T15:07:48.135375",
     "status": "completed"
    },
    "tags": []
   },
   "outputs": [
    {
     "data": {
      "text/html": [
       "<div>\n",
       "<style scoped>\n",
       "    .dataframe tbody tr th:only-of-type {\n",
       "        vertical-align: middle;\n",
       "    }\n",
       "\n",
       "    .dataframe tbody tr th {\n",
       "        vertical-align: top;\n",
       "    }\n",
       "\n",
       "    .dataframe thead th {\n",
       "        text-align: right;\n",
       "    }\n",
       "</style>\n",
       "<table border=\"1\" class=\"dataframe\">\n",
       "  <thead>\n",
       "    <tr style=\"text-align: right;\">\n",
       "      <th></th>\n",
       "      <th>gender</th>\n",
       "      <th>Partner</th>\n",
       "      <th>Dependents</th>\n",
       "      <th>PhoneService</th>\n",
       "      <th>MultipleLines</th>\n",
       "      <th>InternetService</th>\n",
       "      <th>OnlineSecurity</th>\n",
       "      <th>OnlineBackup</th>\n",
       "      <th>DeviceProtection</th>\n",
       "      <th>TechSupport</th>\n",
       "      <th>StreamingTV</th>\n",
       "      <th>StreamingMovies</th>\n",
       "      <th>Contract</th>\n",
       "      <th>PaperlessBilling</th>\n",
       "      <th>PaymentMethod</th>\n",
       "      <th>TotalCharges</th>\n",
       "    </tr>\n",
       "  </thead>\n",
       "  <tbody>\n",
       "    <tr>\n",
       "      <th>0</th>\n",
       "      <td>Female</td>\n",
       "      <td>Yes</td>\n",
       "      <td>No</td>\n",
       "      <td>No</td>\n",
       "      <td>No phone service</td>\n",
       "      <td>DSL</td>\n",
       "      <td>No</td>\n",
       "      <td>Yes</td>\n",
       "      <td>No</td>\n",
       "      <td>No</td>\n",
       "      <td>No</td>\n",
       "      <td>No</td>\n",
       "      <td>Month-to-month</td>\n",
       "      <td>Yes</td>\n",
       "      <td>Electronic check</td>\n",
       "      <td>29.85</td>\n",
       "    </tr>\n",
       "    <tr>\n",
       "      <th>1</th>\n",
       "      <td>Male</td>\n",
       "      <td>No</td>\n",
       "      <td>No</td>\n",
       "      <td>Yes</td>\n",
       "      <td>No</td>\n",
       "      <td>DSL</td>\n",
       "      <td>Yes</td>\n",
       "      <td>No</td>\n",
       "      <td>Yes</td>\n",
       "      <td>No</td>\n",
       "      <td>No</td>\n",
       "      <td>No</td>\n",
       "      <td>One year</td>\n",
       "      <td>No</td>\n",
       "      <td>Mailed check</td>\n",
       "      <td>1889.5</td>\n",
       "    </tr>\n",
       "    <tr>\n",
       "      <th>2</th>\n",
       "      <td>Male</td>\n",
       "      <td>No</td>\n",
       "      <td>No</td>\n",
       "      <td>Yes</td>\n",
       "      <td>No</td>\n",
       "      <td>DSL</td>\n",
       "      <td>Yes</td>\n",
       "      <td>Yes</td>\n",
       "      <td>No</td>\n",
       "      <td>No</td>\n",
       "      <td>No</td>\n",
       "      <td>No</td>\n",
       "      <td>Month-to-month</td>\n",
       "      <td>Yes</td>\n",
       "      <td>Mailed check</td>\n",
       "      <td>108.15</td>\n",
       "    </tr>\n",
       "    <tr>\n",
       "      <th>3</th>\n",
       "      <td>Male</td>\n",
       "      <td>No</td>\n",
       "      <td>No</td>\n",
       "      <td>No</td>\n",
       "      <td>No phone service</td>\n",
       "      <td>DSL</td>\n",
       "      <td>Yes</td>\n",
       "      <td>No</td>\n",
       "      <td>Yes</td>\n",
       "      <td>Yes</td>\n",
       "      <td>No</td>\n",
       "      <td>No</td>\n",
       "      <td>One year</td>\n",
       "      <td>No</td>\n",
       "      <td>Bank transfer (automatic)</td>\n",
       "      <td>1840.75</td>\n",
       "    </tr>\n",
       "    <tr>\n",
       "      <th>4</th>\n",
       "      <td>Female</td>\n",
       "      <td>No</td>\n",
       "      <td>No</td>\n",
       "      <td>Yes</td>\n",
       "      <td>No</td>\n",
       "      <td>Fiber optic</td>\n",
       "      <td>No</td>\n",
       "      <td>No</td>\n",
       "      <td>No</td>\n",
       "      <td>No</td>\n",
       "      <td>No</td>\n",
       "      <td>No</td>\n",
       "      <td>Month-to-month</td>\n",
       "      <td>Yes</td>\n",
       "      <td>Electronic check</td>\n",
       "      <td>151.65</td>\n",
       "    </tr>\n",
       "  </tbody>\n",
       "</table>\n",
       "</div>"
      ],
      "text/plain": [
       "   gender Partner Dependents PhoneService     MultipleLines InternetService  \\\n",
       "0  Female     Yes         No           No  No phone service             DSL   \n",
       "1    Male      No         No          Yes                No             DSL   \n",
       "2    Male      No         No          Yes                No             DSL   \n",
       "3    Male      No         No           No  No phone service             DSL   \n",
       "4  Female      No         No          Yes                No     Fiber optic   \n",
       "\n",
       "  OnlineSecurity OnlineBackup DeviceProtection TechSupport StreamingTV  \\\n",
       "0             No          Yes               No          No          No   \n",
       "1            Yes           No              Yes          No          No   \n",
       "2            Yes          Yes               No          No          No   \n",
       "3            Yes           No              Yes         Yes          No   \n",
       "4             No           No               No          No          No   \n",
       "\n",
       "  StreamingMovies        Contract PaperlessBilling              PaymentMethod  \\\n",
       "0              No  Month-to-month              Yes           Electronic check   \n",
       "1              No        One year               No               Mailed check   \n",
       "2              No  Month-to-month              Yes               Mailed check   \n",
       "3              No        One year               No  Bank transfer (automatic)   \n",
       "4              No  Month-to-month              Yes           Electronic check   \n",
       "\n",
       "  TotalCharges  \n",
       "0        29.85  \n",
       "1       1889.5  \n",
       "2       108.15  \n",
       "3      1840.75  \n",
       "4       151.65  "
      ]
     },
     "execution_count": 17,
     "metadata": {},
     "output_type": "execute_result"
    }
   ],
   "source": [
    "df_cat.head()"
   ]
  },
  {
   "cell_type": "code",
   "execution_count": 18,
   "metadata": {
    "execution": {
     "iopub.execute_input": "2020-10-25T15:07:48.339200Z",
     "iopub.status.busy": "2020-10-25T15:07:48.338409Z",
     "iopub.status.idle": "2020-10-25T15:07:48.389755Z",
     "shell.execute_reply": "2020-10-25T15:07:48.388986Z"
    },
    "papermill": {
     "duration": 0.115928,
     "end_time": "2020-10-25T15:07:48.389919",
     "exception": false,
     "start_time": "2020-10-25T15:07:48.273991",
     "status": "completed"
    },
    "tags": []
   },
   "outputs": [
    {
     "name": "stdout",
     "output_type": "stream",
     "text": [
      "gender : Male      3555\n",
      "Female    3488\n",
      "Name: gender, dtype: int64\n",
      "\n",
      "\n",
      "Partner : No     3641\n",
      "Yes    3402\n",
      "Name: Partner, dtype: int64\n",
      "\n",
      "\n",
      "Dependents : No     4933\n",
      "Yes    2110\n",
      "Name: Dependents, dtype: int64\n",
      "\n",
      "\n",
      "PhoneService : Yes    6361\n",
      "No      682\n",
      "Name: PhoneService, dtype: int64\n",
      "\n",
      "\n",
      "MultipleLines : No                  3390\n",
      "Yes                 2971\n",
      "No phone service     682\n",
      "Name: MultipleLines, dtype: int64\n",
      "\n",
      "\n",
      "InternetService : Fiber optic    3096\n",
      "DSL            2421\n",
      "No             1526\n",
      "Name: InternetService, dtype: int64\n",
      "\n",
      "\n",
      "OnlineSecurity : No                     3498\n",
      "Yes                    2019\n",
      "No internet service    1526\n",
      "Name: OnlineSecurity, dtype: int64\n",
      "\n",
      "\n",
      "OnlineBackup : No                     3088\n",
      "Yes                    2429\n",
      "No internet service    1526\n",
      "Name: OnlineBackup, dtype: int64\n",
      "\n",
      "\n",
      "DeviceProtection : No                     3095\n",
      "Yes                    2422\n",
      "No internet service    1526\n",
      "Name: DeviceProtection, dtype: int64\n",
      "\n",
      "\n",
      "TechSupport : No                     3473\n",
      "Yes                    2044\n",
      "No internet service    1526\n",
      "Name: TechSupport, dtype: int64\n",
      "\n",
      "\n",
      "StreamingTV : No                     2810\n",
      "Yes                    2707\n",
      "No internet service    1526\n",
      "Name: StreamingTV, dtype: int64\n",
      "\n",
      "\n",
      "StreamingMovies : No                     2785\n",
      "Yes                    2732\n",
      "No internet service    1526\n",
      "Name: StreamingMovies, dtype: int64\n",
      "\n",
      "\n",
      "Contract : Month-to-month    3875\n",
      "Two year          1695\n",
      "One year          1473\n",
      "Name: Contract, dtype: int64\n",
      "\n",
      "\n",
      "PaperlessBilling : Yes    4171\n",
      "No     2872\n",
      "Name: PaperlessBilling, dtype: int64\n",
      "\n",
      "\n",
      "PaymentMethod : Electronic check             2365\n",
      "Mailed check                 1612\n",
      "Bank transfer (automatic)    1544\n",
      "Credit card (automatic)      1522\n",
      "Name: PaymentMethod, dtype: int64\n",
      "\n",
      "\n"
     ]
    }
   ],
   "source": [
    "for col in df_cat.columns:\n",
    "    if col != 'TotalCharges':\n",
    "        print(col, \":\", df_cat[col].value_counts())\n",
    "        print(\"\\n\")"
   ]
  },
  {
   "cell_type": "code",
   "execution_count": 19,
   "metadata": {
    "execution": {
     "iopub.execute_input": "2020-10-25T15:07:48.533764Z",
     "iopub.status.busy": "2020-10-25T15:07:48.532913Z",
     "iopub.status.idle": "2020-10-25T15:07:48.538567Z",
     "shell.execute_reply": "2020-10-25T15:07:48.537921Z"
    },
    "papermill": {
     "duration": 0.095058,
     "end_time": "2020-10-25T15:07:48.538703",
     "exception": false,
     "start_time": "2020-10-25T15:07:48.443645",
     "status": "completed"
    },
    "tags": []
   },
   "outputs": [
    {
     "data": {
      "text/html": [
       "<div>\n",
       "<style scoped>\n",
       "    .dataframe tbody tr th:only-of-type {\n",
       "        vertical-align: middle;\n",
       "    }\n",
       "\n",
       "    .dataframe tbody tr th {\n",
       "        vertical-align: top;\n",
       "    }\n",
       "\n",
       "    .dataframe thead th {\n",
       "        text-align: right;\n",
       "    }\n",
       "</style>\n",
       "<table border=\"1\" class=\"dataframe\">\n",
       "  <thead>\n",
       "    <tr style=\"text-align: right;\">\n",
       "      <th></th>\n",
       "      <th>gender</th>\n",
       "      <th>SeniorCitizen</th>\n",
       "      <th>Partner</th>\n",
       "      <th>Dependents</th>\n",
       "      <th>tenure</th>\n",
       "      <th>PhoneService</th>\n",
       "      <th>MultipleLines</th>\n",
       "      <th>InternetService</th>\n",
       "      <th>OnlineSecurity</th>\n",
       "      <th>OnlineBackup</th>\n",
       "      <th>DeviceProtection</th>\n",
       "      <th>TechSupport</th>\n",
       "      <th>StreamingTV</th>\n",
       "      <th>StreamingMovies</th>\n",
       "      <th>Contract</th>\n",
       "      <th>PaperlessBilling</th>\n",
       "      <th>PaymentMethod</th>\n",
       "      <th>MonthlyCharges</th>\n",
       "      <th>TotalCharges</th>\n",
       "    </tr>\n",
       "  </thead>\n",
       "  <tbody>\n",
       "    <tr>\n",
       "      <th>488</th>\n",
       "      <td>Female</td>\n",
       "      <td>0</td>\n",
       "      <td>Yes</td>\n",
       "      <td>Yes</td>\n",
       "      <td>0</td>\n",
       "      <td>No</td>\n",
       "      <td>No phone service</td>\n",
       "      <td>DSL</td>\n",
       "      <td>Yes</td>\n",
       "      <td>No</td>\n",
       "      <td>Yes</td>\n",
       "      <td>Yes</td>\n",
       "      <td>Yes</td>\n",
       "      <td>No</td>\n",
       "      <td>Two year</td>\n",
       "      <td>Yes</td>\n",
       "      <td>Bank transfer (automatic)</td>\n",
       "      <td>52.55</td>\n",
       "      <td></td>\n",
       "    </tr>\n",
       "    <tr>\n",
       "      <th>753</th>\n",
       "      <td>Male</td>\n",
       "      <td>0</td>\n",
       "      <td>No</td>\n",
       "      <td>Yes</td>\n",
       "      <td>0</td>\n",
       "      <td>Yes</td>\n",
       "      <td>No</td>\n",
       "      <td>No</td>\n",
       "      <td>No internet service</td>\n",
       "      <td>No internet service</td>\n",
       "      <td>No internet service</td>\n",
       "      <td>No internet service</td>\n",
       "      <td>No internet service</td>\n",
       "      <td>No internet service</td>\n",
       "      <td>Two year</td>\n",
       "      <td>No</td>\n",
       "      <td>Mailed check</td>\n",
       "      <td>20.25</td>\n",
       "      <td></td>\n",
       "    </tr>\n",
       "    <tr>\n",
       "      <th>936</th>\n",
       "      <td>Female</td>\n",
       "      <td>0</td>\n",
       "      <td>Yes</td>\n",
       "      <td>Yes</td>\n",
       "      <td>0</td>\n",
       "      <td>Yes</td>\n",
       "      <td>No</td>\n",
       "      <td>DSL</td>\n",
       "      <td>Yes</td>\n",
       "      <td>Yes</td>\n",
       "      <td>Yes</td>\n",
       "      <td>No</td>\n",
       "      <td>Yes</td>\n",
       "      <td>Yes</td>\n",
       "      <td>Two year</td>\n",
       "      <td>No</td>\n",
       "      <td>Mailed check</td>\n",
       "      <td>80.85</td>\n",
       "      <td></td>\n",
       "    </tr>\n",
       "    <tr>\n",
       "      <th>1082</th>\n",
       "      <td>Male</td>\n",
       "      <td>0</td>\n",
       "      <td>Yes</td>\n",
       "      <td>Yes</td>\n",
       "      <td>0</td>\n",
       "      <td>Yes</td>\n",
       "      <td>Yes</td>\n",
       "      <td>No</td>\n",
       "      <td>No internet service</td>\n",
       "      <td>No internet service</td>\n",
       "      <td>No internet service</td>\n",
       "      <td>No internet service</td>\n",
       "      <td>No internet service</td>\n",
       "      <td>No internet service</td>\n",
       "      <td>Two year</td>\n",
       "      <td>No</td>\n",
       "      <td>Mailed check</td>\n",
       "      <td>25.75</td>\n",
       "      <td></td>\n",
       "    </tr>\n",
       "    <tr>\n",
       "      <th>1340</th>\n",
       "      <td>Female</td>\n",
       "      <td>0</td>\n",
       "      <td>Yes</td>\n",
       "      <td>Yes</td>\n",
       "      <td>0</td>\n",
       "      <td>No</td>\n",
       "      <td>No phone service</td>\n",
       "      <td>DSL</td>\n",
       "      <td>Yes</td>\n",
       "      <td>Yes</td>\n",
       "      <td>Yes</td>\n",
       "      <td>Yes</td>\n",
       "      <td>Yes</td>\n",
       "      <td>No</td>\n",
       "      <td>Two year</td>\n",
       "      <td>No</td>\n",
       "      <td>Credit card (automatic)</td>\n",
       "      <td>56.05</td>\n",
       "      <td></td>\n",
       "    </tr>\n",
       "    <tr>\n",
       "      <th>3331</th>\n",
       "      <td>Male</td>\n",
       "      <td>0</td>\n",
       "      <td>Yes</td>\n",
       "      <td>Yes</td>\n",
       "      <td>0</td>\n",
       "      <td>Yes</td>\n",
       "      <td>No</td>\n",
       "      <td>No</td>\n",
       "      <td>No internet service</td>\n",
       "      <td>No internet service</td>\n",
       "      <td>No internet service</td>\n",
       "      <td>No internet service</td>\n",
       "      <td>No internet service</td>\n",
       "      <td>No internet service</td>\n",
       "      <td>Two year</td>\n",
       "      <td>No</td>\n",
       "      <td>Mailed check</td>\n",
       "      <td>19.85</td>\n",
       "      <td></td>\n",
       "    </tr>\n",
       "    <tr>\n",
       "      <th>3826</th>\n",
       "      <td>Male</td>\n",
       "      <td>0</td>\n",
       "      <td>Yes</td>\n",
       "      <td>Yes</td>\n",
       "      <td>0</td>\n",
       "      <td>Yes</td>\n",
       "      <td>Yes</td>\n",
       "      <td>No</td>\n",
       "      <td>No internet service</td>\n",
       "      <td>No internet service</td>\n",
       "      <td>No internet service</td>\n",
       "      <td>No internet service</td>\n",
       "      <td>No internet service</td>\n",
       "      <td>No internet service</td>\n",
       "      <td>Two year</td>\n",
       "      <td>No</td>\n",
       "      <td>Mailed check</td>\n",
       "      <td>25.35</td>\n",
       "      <td></td>\n",
       "    </tr>\n",
       "    <tr>\n",
       "      <th>4380</th>\n",
       "      <td>Female</td>\n",
       "      <td>0</td>\n",
       "      <td>Yes</td>\n",
       "      <td>Yes</td>\n",
       "      <td>0</td>\n",
       "      <td>Yes</td>\n",
       "      <td>No</td>\n",
       "      <td>No</td>\n",
       "      <td>No internet service</td>\n",
       "      <td>No internet service</td>\n",
       "      <td>No internet service</td>\n",
       "      <td>No internet service</td>\n",
       "      <td>No internet service</td>\n",
       "      <td>No internet service</td>\n",
       "      <td>Two year</td>\n",
       "      <td>No</td>\n",
       "      <td>Mailed check</td>\n",
       "      <td>20.00</td>\n",
       "      <td></td>\n",
       "    </tr>\n",
       "    <tr>\n",
       "      <th>5218</th>\n",
       "      <td>Male</td>\n",
       "      <td>0</td>\n",
       "      <td>Yes</td>\n",
       "      <td>Yes</td>\n",
       "      <td>0</td>\n",
       "      <td>Yes</td>\n",
       "      <td>No</td>\n",
       "      <td>No</td>\n",
       "      <td>No internet service</td>\n",
       "      <td>No internet service</td>\n",
       "      <td>No internet service</td>\n",
       "      <td>No internet service</td>\n",
       "      <td>No internet service</td>\n",
       "      <td>No internet service</td>\n",
       "      <td>One year</td>\n",
       "      <td>Yes</td>\n",
       "      <td>Mailed check</td>\n",
       "      <td>19.70</td>\n",
       "      <td></td>\n",
       "    </tr>\n",
       "    <tr>\n",
       "      <th>6670</th>\n",
       "      <td>Female</td>\n",
       "      <td>0</td>\n",
       "      <td>Yes</td>\n",
       "      <td>Yes</td>\n",
       "      <td>0</td>\n",
       "      <td>Yes</td>\n",
       "      <td>Yes</td>\n",
       "      <td>DSL</td>\n",
       "      <td>No</td>\n",
       "      <td>Yes</td>\n",
       "      <td>Yes</td>\n",
       "      <td>Yes</td>\n",
       "      <td>Yes</td>\n",
       "      <td>No</td>\n",
       "      <td>Two year</td>\n",
       "      <td>No</td>\n",
       "      <td>Mailed check</td>\n",
       "      <td>73.35</td>\n",
       "      <td></td>\n",
       "    </tr>\n",
       "    <tr>\n",
       "      <th>6754</th>\n",
       "      <td>Male</td>\n",
       "      <td>0</td>\n",
       "      <td>No</td>\n",
       "      <td>Yes</td>\n",
       "      <td>0</td>\n",
       "      <td>Yes</td>\n",
       "      <td>Yes</td>\n",
       "      <td>DSL</td>\n",
       "      <td>Yes</td>\n",
       "      <td>Yes</td>\n",
       "      <td>No</td>\n",
       "      <td>Yes</td>\n",
       "      <td>No</td>\n",
       "      <td>No</td>\n",
       "      <td>Two year</td>\n",
       "      <td>Yes</td>\n",
       "      <td>Bank transfer (automatic)</td>\n",
       "      <td>61.90</td>\n",
       "      <td></td>\n",
       "    </tr>\n",
       "  </tbody>\n",
       "</table>\n",
       "</div>"
      ],
      "text/plain": [
       "      gender  SeniorCitizen Partner Dependents  tenure PhoneService  \\\n",
       "488   Female              0     Yes        Yes       0           No   \n",
       "753     Male              0      No        Yes       0          Yes   \n",
       "936   Female              0     Yes        Yes       0          Yes   \n",
       "1082    Male              0     Yes        Yes       0          Yes   \n",
       "1340  Female              0     Yes        Yes       0           No   \n",
       "3331    Male              0     Yes        Yes       0          Yes   \n",
       "3826    Male              0     Yes        Yes       0          Yes   \n",
       "4380  Female              0     Yes        Yes       0          Yes   \n",
       "5218    Male              0     Yes        Yes       0          Yes   \n",
       "6670  Female              0     Yes        Yes       0          Yes   \n",
       "6754    Male              0      No        Yes       0          Yes   \n",
       "\n",
       "         MultipleLines InternetService       OnlineSecurity  \\\n",
       "488   No phone service             DSL                  Yes   \n",
       "753                 No              No  No internet service   \n",
       "936                 No             DSL                  Yes   \n",
       "1082               Yes              No  No internet service   \n",
       "1340  No phone service             DSL                  Yes   \n",
       "3331                No              No  No internet service   \n",
       "3826               Yes              No  No internet service   \n",
       "4380                No              No  No internet service   \n",
       "5218                No              No  No internet service   \n",
       "6670               Yes             DSL                   No   \n",
       "6754               Yes             DSL                  Yes   \n",
       "\n",
       "             OnlineBackup     DeviceProtection          TechSupport  \\\n",
       "488                    No                  Yes                  Yes   \n",
       "753   No internet service  No internet service  No internet service   \n",
       "936                   Yes                  Yes                   No   \n",
       "1082  No internet service  No internet service  No internet service   \n",
       "1340                  Yes                  Yes                  Yes   \n",
       "3331  No internet service  No internet service  No internet service   \n",
       "3826  No internet service  No internet service  No internet service   \n",
       "4380  No internet service  No internet service  No internet service   \n",
       "5218  No internet service  No internet service  No internet service   \n",
       "6670                  Yes                  Yes                  Yes   \n",
       "6754                  Yes                   No                  Yes   \n",
       "\n",
       "              StreamingTV      StreamingMovies  Contract PaperlessBilling  \\\n",
       "488                   Yes                   No  Two year              Yes   \n",
       "753   No internet service  No internet service  Two year               No   \n",
       "936                   Yes                  Yes  Two year               No   \n",
       "1082  No internet service  No internet service  Two year               No   \n",
       "1340                  Yes                   No  Two year               No   \n",
       "3331  No internet service  No internet service  Two year               No   \n",
       "3826  No internet service  No internet service  Two year               No   \n",
       "4380  No internet service  No internet service  Two year               No   \n",
       "5218  No internet service  No internet service  One year              Yes   \n",
       "6670                  Yes                   No  Two year               No   \n",
       "6754                   No                   No  Two year              Yes   \n",
       "\n",
       "                  PaymentMethod  MonthlyCharges TotalCharges  \n",
       "488   Bank transfer (automatic)           52.55               \n",
       "753                Mailed check           20.25               \n",
       "936                Mailed check           80.85               \n",
       "1082               Mailed check           25.75               \n",
       "1340    Credit card (automatic)           56.05               \n",
       "3331               Mailed check           19.85               \n",
       "3826               Mailed check           25.35               \n",
       "4380               Mailed check           20.00               \n",
       "5218               Mailed check           19.70               \n",
       "6670               Mailed check           73.35               \n",
       "6754  Bank transfer (automatic)           61.90               "
      ]
     },
     "execution_count": 19,
     "metadata": {},
     "output_type": "execute_result"
    }
   ],
   "source": [
    "df[df[\"TotalCharges\"]== \" \"]"
   ]
  },
  {
   "cell_type": "code",
   "execution_count": 20,
   "metadata": {
    "execution": {
     "iopub.execute_input": "2020-10-25T15:07:48.671733Z",
     "iopub.status.busy": "2020-10-25T15:07:48.669291Z",
     "iopub.status.idle": "2020-10-25T15:07:48.677282Z",
     "shell.execute_reply": "2020-10-25T15:07:48.676507Z"
    },
    "papermill": {
     "duration": 0.084587,
     "end_time": "2020-10-25T15:07:48.677407",
     "exception": false,
     "start_time": "2020-10-25T15:07:48.592820",
     "status": "completed"
    },
    "tags": []
   },
   "outputs": [],
   "source": [
    "df_num[\"TotalCharges\"] = pd.to_numeric(df['TotalCharges'], errors='coerce')\n",
    "df_cat = df_cat.drop(\"TotalCharges\",axis=1)"
   ]
  },
  {
   "cell_type": "code",
   "execution_count": 21,
   "metadata": {
    "execution": {
     "iopub.execute_input": "2020-10-25T15:07:48.794581Z",
     "iopub.status.busy": "2020-10-25T15:07:48.793708Z",
     "iopub.status.idle": "2020-10-25T15:07:48.805554Z",
     "shell.execute_reply": "2020-10-25T15:07:48.804310Z"
    },
    "papermill": {
     "duration": 0.072587,
     "end_time": "2020-10-25T15:07:48.805725",
     "exception": false,
     "start_time": "2020-10-25T15:07:48.733138",
     "status": "completed"
    },
    "tags": []
   },
   "outputs": [
    {
     "name": "stdout",
     "output_type": "stream",
     "text": [
      "<class 'pandas.core.frame.DataFrame'>\n",
      "Int64Index: 7043 entries, 0 to 7042\n",
      "Data columns (total 4 columns):\n",
      " #   Column          Non-Null Count  Dtype  \n",
      "---  ------          --------------  -----  \n",
      " 0   SeniorCitizen   7043 non-null   int64  \n",
      " 1   tenure          7043 non-null   int64  \n",
      " 2   MonthlyCharges  7043 non-null   float64\n",
      " 3   TotalCharges    7032 non-null   float64\n",
      "dtypes: float64(2), int64(2)\n",
      "memory usage: 595.1 KB\n"
     ]
    }
   ],
   "source": [
    "df_num.info()"
   ]
  },
  {
   "cell_type": "code",
   "execution_count": 22,
   "metadata": {
    "execution": {
     "iopub.execute_input": "2020-10-25T15:07:48.923148Z",
     "iopub.status.busy": "2020-10-25T15:07:48.922337Z",
     "iopub.status.idle": "2020-10-25T15:07:49.236336Z",
     "shell.execute_reply": "2020-10-25T15:07:49.236923Z"
    },
    "papermill": {
     "duration": 0.375839,
     "end_time": "2020-10-25T15:07:49.237098",
     "exception": false,
     "start_time": "2020-10-25T15:07:48.861259",
     "status": "completed"
    },
    "tags": []
   },
   "outputs": [],
   "source": [
    "#df_num[\"TotalCharges\"] = df_num[\"TotalCharges\"].fillna(df_num[\"TotalCharges\"].median())\n",
    "from sklearn.impute import KNNImputer\n",
    "\n",
    "imputer = KNNImputer(n_neighbors=3)\n",
    "imputer_array = imputer.fit_transform(df_num)\n",
    "df_num = pd.DataFrame(imputer_array, columns  = df_num.columns)"
   ]
  },
  {
   "cell_type": "code",
   "execution_count": 23,
   "metadata": {
    "execution": {
     "iopub.execute_input": "2020-10-25T15:07:49.364575Z",
     "iopub.status.busy": "2020-10-25T15:07:49.363632Z",
     "iopub.status.idle": "2020-10-25T15:07:49.369002Z",
     "shell.execute_reply": "2020-10-25T15:07:49.368344Z"
    },
    "papermill": {
     "duration": 0.07468,
     "end_time": "2020-10-25T15:07:49.369134",
     "exception": false,
     "start_time": "2020-10-25T15:07:49.294454",
     "status": "completed"
    },
    "tags": []
   },
   "outputs": [
    {
     "data": {
      "text/html": [
       "<div>\n",
       "<style scoped>\n",
       "    .dataframe tbody tr th:only-of-type {\n",
       "        vertical-align: middle;\n",
       "    }\n",
       "\n",
       "    .dataframe tbody tr th {\n",
       "        vertical-align: top;\n",
       "    }\n",
       "\n",
       "    .dataframe thead th {\n",
       "        text-align: right;\n",
       "    }\n",
       "</style>\n",
       "<table border=\"1\" class=\"dataframe\">\n",
       "  <thead>\n",
       "    <tr style=\"text-align: right;\">\n",
       "      <th></th>\n",
       "      <th>SeniorCitizen</th>\n",
       "      <th>tenure</th>\n",
       "      <th>MonthlyCharges</th>\n",
       "      <th>TotalCharges</th>\n",
       "    </tr>\n",
       "  </thead>\n",
       "  <tbody>\n",
       "    <tr>\n",
       "      <th>0</th>\n",
       "      <td>0.0</td>\n",
       "      <td>1.0</td>\n",
       "      <td>29.85</td>\n",
       "      <td>29.85</td>\n",
       "    </tr>\n",
       "    <tr>\n",
       "      <th>1</th>\n",
       "      <td>0.0</td>\n",
       "      <td>34.0</td>\n",
       "      <td>56.95</td>\n",
       "      <td>1889.50</td>\n",
       "    </tr>\n",
       "    <tr>\n",
       "      <th>2</th>\n",
       "      <td>0.0</td>\n",
       "      <td>2.0</td>\n",
       "      <td>53.85</td>\n",
       "      <td>108.15</td>\n",
       "    </tr>\n",
       "    <tr>\n",
       "      <th>3</th>\n",
       "      <td>0.0</td>\n",
       "      <td>45.0</td>\n",
       "      <td>42.30</td>\n",
       "      <td>1840.75</td>\n",
       "    </tr>\n",
       "    <tr>\n",
       "      <th>4</th>\n",
       "      <td>0.0</td>\n",
       "      <td>2.0</td>\n",
       "      <td>70.70</td>\n",
       "      <td>151.65</td>\n",
       "    </tr>\n",
       "  </tbody>\n",
       "</table>\n",
       "</div>"
      ],
      "text/plain": [
       "   SeniorCitizen  tenure  MonthlyCharges  TotalCharges\n",
       "0            0.0     1.0           29.85         29.85\n",
       "1            0.0    34.0           56.95       1889.50\n",
       "2            0.0     2.0           53.85        108.15\n",
       "3            0.0    45.0           42.30       1840.75\n",
       "4            0.0     2.0           70.70        151.65"
      ]
     },
     "execution_count": 23,
     "metadata": {},
     "output_type": "execute_result"
    }
   ],
   "source": [
    "df_num.head()"
   ]
  },
  {
   "cell_type": "code",
   "execution_count": 24,
   "metadata": {
    "execution": {
     "iopub.execute_input": "2020-10-25T15:07:49.491990Z",
     "iopub.status.busy": "2020-10-25T15:07:49.491130Z",
     "iopub.status.idle": "2020-10-25T15:07:49.834396Z",
     "shell.execute_reply": "2020-10-25T15:07:49.833581Z"
    },
    "papermill": {
     "duration": 0.410112,
     "end_time": "2020-10-25T15:07:49.834537",
     "exception": false,
     "start_time": "2020-10-25T15:07:49.424425",
     "status": "completed"
    },
    "tags": []
   },
   "outputs": [],
   "source": [
    "def tenure_bin(df_num) :\n",
    "    if df_num[\"tenure\"] <= 12 :\n",
    "        return \"Tenure_0-12\"\n",
    "    elif df_num[\"tenure\"] > 12 and df_num[\"tenure\"] <= 24:\n",
    "        return \"Tenure_12-24\"\n",
    "    elif df_num[\"tenure\"] > 24 and df_num[\"tenure\"] <= 36 :\n",
    "        return \"Tenure_24-36\"\n",
    "    elif df_num[\"tenure\"] > 36 and df_num[\"tenure\"] <= 48 :\n",
    "        return \"Tenure_36-48\"\n",
    "    elif df_num[\"tenure\"] > 48 and df_num[\"tenure\"] <= 60 :\n",
    "        return \"Tenure_48-60\"\n",
    "    elif df_num[\"tenure\"] > 60 :\n",
    "        return \"Tenure_gt_60\"\n",
    "df_num[\"tenure_bin\"] = df_num.apply(lambda df_num:tenure_bin(df_num),\n",
    "                                      axis = 1)"
   ]
  },
  {
   "cell_type": "code",
   "execution_count": 25,
   "metadata": {
    "execution": {
     "iopub.execute_input": "2020-10-25T15:07:49.952241Z",
     "iopub.status.busy": "2020-10-25T15:07:49.951077Z",
     "iopub.status.idle": "2020-10-25T15:07:49.955000Z",
     "shell.execute_reply": "2020-10-25T15:07:49.955574Z"
    },
    "papermill": {
     "duration": 0.065433,
     "end_time": "2020-10-25T15:07:49.955741",
     "exception": false,
     "start_time": "2020-10-25T15:07:49.890308",
     "status": "completed"
    },
    "tags": []
   },
   "outputs": [],
   "source": [
    "df_num[\"y\"] = target"
   ]
  },
  {
   "cell_type": "code",
   "execution_count": 26,
   "metadata": {
    "execution": {
     "iopub.execute_input": "2020-10-25T15:07:50.084547Z",
     "iopub.status.busy": "2020-10-25T15:07:50.080394Z",
     "iopub.status.idle": "2020-10-25T15:07:50.311044Z",
     "shell.execute_reply": "2020-10-25T15:07:50.311595Z"
    },
    "papermill": {
     "duration": 0.300088,
     "end_time": "2020-10-25T15:07:50.311782",
     "exception": false,
     "start_time": "2020-10-25T15:07:50.011694",
     "status": "completed"
    },
    "tags": []
   },
   "outputs": [
    {
     "data": {
      "text/plain": [
       "<matplotlib.axes._subplots.AxesSubplot at 0x7fe301a1ac50>"
      ]
     },
     "execution_count": 26,
     "metadata": {},
     "output_type": "execute_result"
    },
    {
     "data": {
      "image/png": "[encoded data removed]",
      "text/plain": [
       "<Figure size 432x288 with 1 Axes>"
      ]
     },
     "metadata": {
      "needs_background": "light"
     },
     "output_type": "display_data"
    }
   ],
   "source": [
    "j_df = pd.DataFrame()\n",
    "\n",
    "j_df['yes'] = df_num[df_num['y'] == 1]['tenure_bin'].value_counts()\n",
    "j_df['no'] = df_num[df_num['y'] == 0]['tenure_bin'].value_counts()\n",
    "\n",
    "j_df.plot.bar(title = 'Job and deposit')"
   ]
  },
  {
   "cell_type": "code",
   "execution_count": 27,
   "metadata": {
    "execution": {
     "iopub.execute_input": "2020-10-25T15:07:50.440162Z",
     "iopub.status.busy": "2020-10-25T15:07:50.439251Z",
     "iopub.status.idle": "2020-10-25T15:07:50.448065Z",
     "shell.execute_reply": "2020-10-25T15:07:50.447110Z"
    },
    "papermill": {
     "duration": 0.078227,
     "end_time": "2020-10-25T15:07:50.448211",
     "exception": false,
     "start_time": "2020-10-25T15:07:50.369984",
     "status": "completed"
    },
    "tags": []
   },
   "outputs": [],
   "source": [
    "df_num[\"tenure_bin\"] = df_num[\"tenure_bin\"].replace([\"Tenure_0-12\",\"Tenure_12-24\",\n",
    "                                                     \"Tenure_24-36\",\"Tenure_36-48\",\"Tenure_48-60\",\"Tenure_gt_60\"],[5,4,3,2,1,0])"
   ]
  },
  {
   "cell_type": "code",
   "execution_count": 28,
   "metadata": {
    "execution": {
     "iopub.execute_input": "2020-10-25T15:07:50.572445Z",
     "iopub.status.busy": "2020-10-25T15:07:50.571541Z",
     "iopub.status.idle": "2020-10-25T15:07:50.574950Z",
     "shell.execute_reply": "2020-10-25T15:07:50.574131Z"
    },
    "papermill": {
     "duration": 0.068143,
     "end_time": "2020-10-25T15:07:50.575094",
     "exception": false,
     "start_time": "2020-10-25T15:07:50.506951",
     "status": "completed"
    },
    "tags": []
   },
   "outputs": [],
   "source": [
    "del df_num[\"tenure\"]\n",
    "del df_num[\"y\"]"
   ]
  },
  {
   "cell_type": "code",
   "execution_count": 29,
   "metadata": {
    "execution": {
     "iopub.execute_input": "2020-10-25T15:07:50.711017Z",
     "iopub.status.busy": "2020-10-25T15:07:50.706406Z",
     "iopub.status.idle": "2020-10-25T15:07:50.716222Z",
     "shell.execute_reply": "2020-10-25T15:07:50.715591Z"
    },
    "papermill": {
     "duration": 0.076603,
     "end_time": "2020-10-25T15:07:50.716359",
     "exception": false,
     "start_time": "2020-10-25T15:07:50.639756",
     "status": "completed"
    },
    "tags": []
   },
   "outputs": [
    {
     "data": {
      "text/html": [
       "<div>\n",
       "<style scoped>\n",
       "    .dataframe tbody tr th:only-of-type {\n",
       "        vertical-align: middle;\n",
       "    }\n",
       "\n",
       "    .dataframe tbody tr th {\n",
       "        vertical-align: top;\n",
       "    }\n",
       "\n",
       "    .dataframe thead th {\n",
       "        text-align: right;\n",
       "    }\n",
       "</style>\n",
       "<table border=\"1\" class=\"dataframe\">\n",
       "  <thead>\n",
       "    <tr style=\"text-align: right;\">\n",
       "      <th></th>\n",
       "      <th>SeniorCitizen</th>\n",
       "      <th>MonthlyCharges</th>\n",
       "      <th>TotalCharges</th>\n",
       "      <th>tenure_bin</th>\n",
       "    </tr>\n",
       "  </thead>\n",
       "  <tbody>\n",
       "    <tr>\n",
       "      <th>0</th>\n",
       "      <td>0.0</td>\n",
       "      <td>29.85</td>\n",
       "      <td>29.85</td>\n",
       "      <td>5</td>\n",
       "    </tr>\n",
       "    <tr>\n",
       "      <th>1</th>\n",
       "      <td>0.0</td>\n",
       "      <td>56.95</td>\n",
       "      <td>1889.50</td>\n",
       "      <td>3</td>\n",
       "    </tr>\n",
       "    <tr>\n",
       "      <th>2</th>\n",
       "      <td>0.0</td>\n",
       "      <td>53.85</td>\n",
       "      <td>108.15</td>\n",
       "      <td>5</td>\n",
       "    </tr>\n",
       "    <tr>\n",
       "      <th>3</th>\n",
       "      <td>0.0</td>\n",
       "      <td>42.30</td>\n",
       "      <td>1840.75</td>\n",
       "      <td>2</td>\n",
       "    </tr>\n",
       "    <tr>\n",
       "      <th>4</th>\n",
       "      <td>0.0</td>\n",
       "      <td>70.70</td>\n",
       "      <td>151.65</td>\n",
       "      <td>5</td>\n",
       "    </tr>\n",
       "  </tbody>\n",
       "</table>\n",
       "</div>"
      ],
      "text/plain": [
       "   SeniorCitizen  MonthlyCharges  TotalCharges  tenure_bin\n",
       "0            0.0           29.85         29.85           5\n",
       "1            0.0           56.95       1889.50           3\n",
       "2            0.0           53.85        108.15           5\n",
       "3            0.0           42.30       1840.75           2\n",
       "4            0.0           70.70        151.65           5"
      ]
     },
     "execution_count": 29,
     "metadata": {},
     "output_type": "execute_result"
    }
   ],
   "source": [
    "df_num.head()"
   ]
  },
  {
   "cell_type": "code",
   "execution_count": 30,
   "metadata": {
    "execution": {
     "iopub.execute_input": "2020-10-25T15:07:50.944431Z",
     "iopub.status.busy": "2020-10-25T15:07:50.942532Z",
     "iopub.status.idle": "2020-10-25T15:07:51.171919Z",
     "shell.execute_reply": "2020-10-25T15:07:51.171117Z"
    },
    "papermill": {
     "duration": 0.395987,
     "end_time": "2020-10-25T15:07:51.172048",
     "exception": false,
     "start_time": "2020-10-25T15:07:50.776061",
     "status": "completed"
    },
    "tags": []
   },
   "outputs": [
    {
     "data": {
      "text/plain": [
       "<matplotlib.axes._subplots.AxesSubplot at 0x7fe3019dfa10>"
      ]
     },
     "execution_count": 30,
     "metadata": {},
     "output_type": "execute_result"
    },
    {
     "data": {
      "image/png": "[encoded data removed]",
      "text/plain": [
       "<Figure size 432x288 with 1 Axes>"
      ]
     },
     "metadata": {
      "needs_background": "light"
     },
     "output_type": "display_data"
    }
   ],
   "source": [
    "sns.distplot(df_num[\"TotalCharges\"])"
   ]
  },
  {
   "cell_type": "code",
   "execution_count": 31,
   "metadata": {
    "execution": {
     "iopub.execute_input": "2020-10-25T15:07:51.309303Z",
     "iopub.status.busy": "2020-10-25T15:07:51.308307Z",
     "iopub.status.idle": "2020-10-25T15:07:51.552190Z",
     "shell.execute_reply": "2020-10-25T15:07:51.551387Z"
    },
    "papermill": {
     "duration": 0.318738,
     "end_time": "2020-10-25T15:07:51.552324",
     "exception": false,
     "start_time": "2020-10-25T15:07:51.233586",
     "status": "completed"
    },
    "tags": []
   },
   "outputs": [
    {
     "data": {
      "text/plain": [
       "<matplotlib.axes._subplots.AxesSubplot at 0x7fe30191d590>"
      ]
     },
     "execution_count": 31,
     "metadata": {},
     "output_type": "execute_result"
    },
    {
     "data": {
      "image/png": "[encoded data removed]",
      "text/plain": [
       "<Figure size 432x288 with 1 Axes>"
      ]
     },
     "metadata": {
      "needs_background": "light"
     },
     "output_type": "display_data"
    }
   ],
   "source": [
    "sns.distplot(df_num[\"MonthlyCharges\"])"
   ]
  },
  {
   "cell_type": "code",
   "execution_count": 32,
   "metadata": {
    "execution": {
     "iopub.execute_input": "2020-10-25T15:07:51.682014Z",
     "iopub.status.busy": "2020-10-25T15:07:51.681214Z",
     "iopub.status.idle": "2020-10-25T15:07:51.684253Z",
     "shell.execute_reply": "2020-10-25T15:07:51.683645Z"
    },
    "papermill": {
     "duration": 0.069939,
     "end_time": "2020-10-25T15:07:51.684391",
     "exception": false,
     "start_time": "2020-10-25T15:07:51.614452",
     "status": "completed"
    },
    "tags": []
   },
   "outputs": [],
   "source": [
    "#sns.pairplot(df,vars = ['tenure','MonthlyCharges','TotalCharges'], hue=\"y\")"
   ]
  },
  {
   "cell_type": "code",
   "execution_count": 33,
   "metadata": {
    "execution": {
     "iopub.execute_input": "2020-10-25T15:07:51.829733Z",
     "iopub.status.busy": "2020-10-25T15:07:51.823616Z",
     "iopub.status.idle": "2020-10-25T15:07:51.833433Z",
     "shell.execute_reply": "2020-10-25T15:07:51.832758Z"
    },
    "papermill": {
     "duration": 0.086495,
     "end_time": "2020-10-25T15:07:51.833565",
     "exception": false,
     "start_time": "2020-10-25T15:07:51.747070",
     "status": "completed"
    },
    "tags": []
   },
   "outputs": [],
   "source": [
    "df_cat = df_cat.replace([\"No internet service\",\"No phone service\"],'No')"
   ]
  },
  {
   "cell_type": "code",
   "execution_count": 34,
   "metadata": {
    "execution": {
     "iopub.execute_input": "2020-10-25T15:07:51.966351Z",
     "iopub.status.busy": "2020-10-25T15:07:51.965534Z",
     "iopub.status.idle": "2020-10-25T15:07:51.982942Z",
     "shell.execute_reply": "2020-10-25T15:07:51.982219Z"
    },
    "papermill": {
     "duration": 0.086163,
     "end_time": "2020-10-25T15:07:51.983073",
     "exception": false,
     "start_time": "2020-10-25T15:07:51.896910",
     "status": "completed"
    },
    "tags": []
   },
   "outputs": [],
   "source": [
    "label=[]\n",
    "for col in df_cat.columns:\n",
    "    if df_cat[col].nunique() > 2:\n",
    "        label.append(col)"
   ]
  },
  {
   "cell_type": "code",
   "execution_count": 35,
   "metadata": {
    "execution": {
     "iopub.execute_input": "2020-10-25T15:07:52.116244Z",
     "iopub.status.busy": "2020-10-25T15:07:52.115108Z",
     "iopub.status.idle": "2020-10-25T15:07:52.119581Z",
     "shell.execute_reply": "2020-10-25T15:07:52.118865Z"
    },
    "papermill": {
     "duration": 0.073554,
     "end_time": "2020-10-25T15:07:52.119711",
     "exception": false,
     "start_time": "2020-10-25T15:07:52.046157",
     "status": "completed"
    },
    "tags": []
   },
   "outputs": [
    {
     "data": {
      "text/plain": [
       "['InternetService', 'Contract', 'PaymentMethod']"
      ]
     },
     "execution_count": 35,
     "metadata": {},
     "output_type": "execute_result"
    }
   ],
   "source": [
    "label"
   ]
  },
  {
   "cell_type": "code",
   "execution_count": 36,
   "metadata": {
    "execution": {
     "iopub.execute_input": "2020-10-25T15:07:52.259361Z",
     "iopub.status.busy": "2020-10-25T15:07:52.258514Z",
     "iopub.status.idle": "2020-10-25T15:07:52.367765Z",
     "shell.execute_reply": "2020-10-25T15:07:52.366921Z"
    },
    "papermill": {
     "duration": 0.184182,
     "end_time": "2020-10-25T15:07:52.367916",
     "exception": false,
     "start_time": "2020-10-25T15:07:52.183734",
     "status": "completed"
    },
    "tags": []
   },
   "outputs": [
    {
     "data": {
      "text/html": [
       "<div>\n",
       "<style scoped>\n",
       "    .dataframe tbody tr th:only-of-type {\n",
       "        vertical-align: middle;\n",
       "    }\n",
       "\n",
       "    .dataframe tbody tr th {\n",
       "        vertical-align: top;\n",
       "    }\n",
       "\n",
       "    .dataframe thead th {\n",
       "        text-align: right;\n",
       "    }\n",
       "</style>\n",
       "<table border=\"1\" class=\"dataframe\">\n",
       "  <thead>\n",
       "    <tr style=\"text-align: right;\">\n",
       "      <th></th>\n",
       "      <th>gender</th>\n",
       "      <th>Partner</th>\n",
       "      <th>Dependents</th>\n",
       "      <th>PhoneService</th>\n",
       "      <th>MultipleLines</th>\n",
       "      <th>OnlineSecurity</th>\n",
       "      <th>OnlineBackup</th>\n",
       "      <th>DeviceProtection</th>\n",
       "      <th>TechSupport</th>\n",
       "      <th>StreamingTV</th>\n",
       "      <th>StreamingMovies</th>\n",
       "      <th>PaperlessBilling</th>\n",
       "    </tr>\n",
       "  </thead>\n",
       "  <tbody>\n",
       "    <tr>\n",
       "      <th>0</th>\n",
       "      <td>0</td>\n",
       "      <td>1</td>\n",
       "      <td>0</td>\n",
       "      <td>0</td>\n",
       "      <td>0</td>\n",
       "      <td>0</td>\n",
       "      <td>1</td>\n",
       "      <td>0</td>\n",
       "      <td>0</td>\n",
       "      <td>0</td>\n",
       "      <td>0</td>\n",
       "      <td>1</td>\n",
       "    </tr>\n",
       "    <tr>\n",
       "      <th>1</th>\n",
       "      <td>1</td>\n",
       "      <td>0</td>\n",
       "      <td>0</td>\n",
       "      <td>1</td>\n",
       "      <td>0</td>\n",
       "      <td>1</td>\n",
       "      <td>0</td>\n",
       "      <td>1</td>\n",
       "      <td>0</td>\n",
       "      <td>0</td>\n",
       "      <td>0</td>\n",
       "      <td>0</td>\n",
       "    </tr>\n",
       "    <tr>\n",
       "      <th>2</th>\n",
       "      <td>1</td>\n",
       "      <td>0</td>\n",
       "      <td>0</td>\n",
       "      <td>1</td>\n",
       "      <td>0</td>\n",
       "      <td>1</td>\n",
       "      <td>1</td>\n",
       "      <td>0</td>\n",
       "      <td>0</td>\n",
       "      <td>0</td>\n",
       "      <td>0</td>\n",
       "      <td>1</td>\n",
       "    </tr>\n",
       "    <tr>\n",
       "      <th>3</th>\n",
       "      <td>1</td>\n",
       "      <td>0</td>\n",
       "      <td>0</td>\n",
       "      <td>0</td>\n",
       "      <td>0</td>\n",
       "      <td>1</td>\n",
       "      <td>0</td>\n",
       "      <td>1</td>\n",
       "      <td>1</td>\n",
       "      <td>0</td>\n",
       "      <td>0</td>\n",
       "      <td>0</td>\n",
       "    </tr>\n",
       "    <tr>\n",
       "      <th>4</th>\n",
       "      <td>0</td>\n",
       "      <td>0</td>\n",
       "      <td>0</td>\n",
       "      <td>1</td>\n",
       "      <td>0</td>\n",
       "      <td>0</td>\n",
       "      <td>0</td>\n",
       "      <td>0</td>\n",
       "      <td>0</td>\n",
       "      <td>0</td>\n",
       "      <td>0</td>\n",
       "      <td>1</td>\n",
       "    </tr>\n",
       "  </tbody>\n",
       "</table>\n",
       "</div>"
      ],
      "text/plain": [
       "   gender  Partner  Dependents  PhoneService  MultipleLines  OnlineSecurity  \\\n",
       "0       0        1           0             0              0               0   \n",
       "1       1        0           0             1              0               1   \n",
       "2       1        0           0             1              0               1   \n",
       "3       1        0           0             0              0               1   \n",
       "4       0        0           0             1              0               0   \n",
       "\n",
       "   OnlineBackup  DeviceProtection  TechSupport  StreamingTV  StreamingMovies  \\\n",
       "0             1                 0            0            0                0   \n",
       "1             0                 1            0            0                0   \n",
       "2             1                 0            0            0                0   \n",
       "3             0                 1            1            0                0   \n",
       "4             0                 0            0            0                0   \n",
       "\n",
       "   PaperlessBilling  \n",
       "0                 1  \n",
       "1                 0  \n",
       "2                 1  \n",
       "3                 0  \n",
       "4                 1  "
      ]
     },
     "execution_count": 36,
     "metadata": {},
     "output_type": "execute_result"
    }
   ],
   "source": [
    "df_dum = df_cat.drop(label,axis=1)\n",
    "df_dum = df_dum.replace([\"Yes\",\"No\"],[1,0])\n",
    "df_dum = df_dum.replace([\"Female\",\"Male\"],[0,1])\n",
    "df_dum.head()"
   ]
  },
  {
   "cell_type": "code",
   "execution_count": 37,
   "metadata": {
    "execution": {
     "iopub.execute_input": "2020-10-25T15:07:52.510117Z",
     "iopub.status.busy": "2020-10-25T15:07:52.509150Z",
     "iopub.status.idle": "2020-10-25T15:07:52.514185Z",
     "shell.execute_reply": "2020-10-25T15:07:52.513547Z"
    },
    "papermill": {
     "duration": 0.082623,
     "end_time": "2020-10-25T15:07:52.514311",
     "exception": false,
     "start_time": "2020-10-25T15:07:52.431688",
     "status": "completed"
    },
    "tags": []
   },
   "outputs": [
    {
     "data": {
      "text/html": [
       "<div>\n",
       "<style scoped>\n",
       "    .dataframe tbody tr th:only-of-type {\n",
       "        vertical-align: middle;\n",
       "    }\n",
       "\n",
       "    .dataframe tbody tr th {\n",
       "        vertical-align: top;\n",
       "    }\n",
       "\n",
       "    .dataframe thead th {\n",
       "        text-align: right;\n",
       "    }\n",
       "</style>\n",
       "<table border=\"1\" class=\"dataframe\">\n",
       "  <thead>\n",
       "    <tr style=\"text-align: right;\">\n",
       "      <th></th>\n",
       "      <th>InternetService</th>\n",
       "      <th>Contract</th>\n",
       "      <th>PaymentMethod</th>\n",
       "    </tr>\n",
       "  </thead>\n",
       "  <tbody>\n",
       "    <tr>\n",
       "      <th>0</th>\n",
       "      <td>DSL</td>\n",
       "      <td>Month-to-month</td>\n",
       "      <td>Electronic check</td>\n",
       "    </tr>\n",
       "    <tr>\n",
       "      <th>1</th>\n",
       "      <td>DSL</td>\n",
       "      <td>One year</td>\n",
       "      <td>Mailed check</td>\n",
       "    </tr>\n",
       "    <tr>\n",
       "      <th>2</th>\n",
       "      <td>DSL</td>\n",
       "      <td>Month-to-month</td>\n",
       "      <td>Mailed check</td>\n",
       "    </tr>\n",
       "    <tr>\n",
       "      <th>3</th>\n",
       "      <td>DSL</td>\n",
       "      <td>One year</td>\n",
       "      <td>Bank transfer (automatic)</td>\n",
       "    </tr>\n",
       "    <tr>\n",
       "      <th>4</th>\n",
       "      <td>Fiber optic</td>\n",
       "      <td>Month-to-month</td>\n",
       "      <td>Electronic check</td>\n",
       "    </tr>\n",
       "  </tbody>\n",
       "</table>\n",
       "</div>"
      ],
      "text/plain": [
       "  InternetService        Contract              PaymentMethod\n",
       "0             DSL  Month-to-month           Electronic check\n",
       "1             DSL        One year               Mailed check\n",
       "2             DSL  Month-to-month               Mailed check\n",
       "3             DSL        One year  Bank transfer (automatic)\n",
       "4     Fiber optic  Month-to-month           Electronic check"
      ]
     },
     "execution_count": 37,
     "metadata": {},
     "output_type": "execute_result"
    }
   ],
   "source": [
    "df_la = df_cat[label]\n",
    "df_la.head()"
   ]
  },
  {
   "cell_type": "code",
   "execution_count": 38,
   "metadata": {
    "execution": {
     "iopub.execute_input": "2020-10-25T15:07:52.669193Z",
     "iopub.status.busy": "2020-10-25T15:07:52.668388Z",
     "iopub.status.idle": "2020-10-25T15:07:52.684859Z",
     "shell.execute_reply": "2020-10-25T15:07:52.685428Z"
    },
    "papermill": {
     "duration": 0.107148,
     "end_time": "2020-10-25T15:07:52.685599",
     "exception": false,
     "start_time": "2020-10-25T15:07:52.578451",
     "status": "completed"
    },
    "tags": []
   },
   "outputs": [
    {
     "data": {
      "text/html": [
       "<div>\n",
       "<style scoped>\n",
       "    .dataframe tbody tr th:only-of-type {\n",
       "        vertical-align: middle;\n",
       "    }\n",
       "\n",
       "    .dataframe tbody tr th {\n",
       "        vertical-align: top;\n",
       "    }\n",
       "\n",
       "    .dataframe thead th {\n",
       "        text-align: right;\n",
       "    }\n",
       "</style>\n",
       "<table border=\"1\" class=\"dataframe\">\n",
       "  <thead>\n",
       "    <tr style=\"text-align: right;\">\n",
       "      <th></th>\n",
       "      <th>InternetService</th>\n",
       "      <th>Contract</th>\n",
       "      <th>PaymentMethod</th>\n",
       "    </tr>\n",
       "  </thead>\n",
       "  <tbody>\n",
       "    <tr>\n",
       "      <th>0</th>\n",
       "      <td>1</td>\n",
       "      <td>2</td>\n",
       "      <td>3</td>\n",
       "    </tr>\n",
       "    <tr>\n",
       "      <th>1</th>\n",
       "      <td>1</td>\n",
       "      <td>1</td>\n",
       "      <td>2</td>\n",
       "    </tr>\n",
       "    <tr>\n",
       "      <th>2</th>\n",
       "      <td>1</td>\n",
       "      <td>2</td>\n",
       "      <td>2</td>\n",
       "    </tr>\n",
       "    <tr>\n",
       "      <th>3</th>\n",
       "      <td>1</td>\n",
       "      <td>1</td>\n",
       "      <td>1</td>\n",
       "    </tr>\n",
       "    <tr>\n",
       "      <th>4</th>\n",
       "      <td>2</td>\n",
       "      <td>2</td>\n",
       "      <td>3</td>\n",
       "    </tr>\n",
       "  </tbody>\n",
       "</table>\n",
       "</div>"
      ],
      "text/plain": [
       "   InternetService  Contract  PaymentMethod\n",
       "0                1         2              3\n",
       "1                1         1              2\n",
       "2                1         2              2\n",
       "3                1         1              1\n",
       "4                2         2              3"
      ]
     },
     "execution_count": 38,
     "metadata": {},
     "output_type": "execute_result"
    }
   ],
   "source": [
    "df_la[\"InternetService\"] = df_la[\"InternetService\"].replace([\"Fiber optic\",\"DSL\",\"No\"],[2,1,0])\n",
    "df_la[\"Contract\"] = df_la[\"Contract\"].replace([\"Month-to-month\",\"One year\",\"Two year\"],[2,1,0])\n",
    "df_la[\"PaymentMethod\"] = df_la[\"PaymentMethod\"].replace([\"Electronic check\",\n",
    "                                                       \"Mailed check\",\"Bank transfer (automatic)\",\n",
    "                                                      \"Credit card (automatic)\"],[3,2,1,0])\n",
    "df_la.head()"
   ]
  },
  {
   "cell_type": "code",
   "execution_count": 39,
   "metadata": {
    "execution": {
     "iopub.execute_input": "2020-10-25T15:07:52.820909Z",
     "iopub.status.busy": "2020-10-25T15:07:52.820114Z",
     "iopub.status.idle": "2020-10-25T15:07:52.823888Z",
     "shell.execute_reply": "2020-10-25T15:07:52.823215Z"
    },
    "papermill": {
     "duration": 0.073431,
     "end_time": "2020-10-25T15:07:52.824038",
     "exception": false,
     "start_time": "2020-10-25T15:07:52.750607",
     "status": "completed"
    },
    "tags": []
   },
   "outputs": [],
   "source": [
    "# Label encoder order is alphabetical\n",
    "#from sklearn.preprocessing import LabelEncoder\n",
    "#labelencoder_X = LabelEncoder()\n",
    "#df_l = pd.DataFrame()\n",
    "#for var in df_cat.columns:\n",
    " #   df_l[var]= labelencoder_X.fit_transform(df_cat[var]) "
   ]
  },
  {
   "cell_type": "code",
   "execution_count": 40,
   "metadata": {
    "execution": {
     "iopub.execute_input": "2020-10-25T15:07:52.963031Z",
     "iopub.status.busy": "2020-10-25T15:07:52.961135Z",
     "iopub.status.idle": "2020-10-25T15:07:52.967630Z",
     "shell.execute_reply": "2020-10-25T15:07:52.966982Z"
    },
    "papermill": {
     "duration": 0.077749,
     "end_time": "2020-10-25T15:07:52.967753",
     "exception": false,
     "start_time": "2020-10-25T15:07:52.890004",
     "status": "completed"
    },
    "tags": []
   },
   "outputs": [],
   "source": [
    "final = pd.concat([df_num,df_la,df_dum],axis=1)"
   ]
  },
  {
   "cell_type": "code",
   "execution_count": 41,
   "metadata": {
    "execution": {
     "iopub.execute_input": "2020-10-25T15:07:53.107634Z",
     "iopub.status.busy": "2020-10-25T15:07:53.106480Z",
     "iopub.status.idle": "2020-10-25T15:07:53.112491Z",
     "shell.execute_reply": "2020-10-25T15:07:53.111866Z"
    },
    "papermill": {
     "duration": 0.078694,
     "end_time": "2020-10-25T15:07:53.112628",
     "exception": false,
     "start_time": "2020-10-25T15:07:53.033934",
     "status": "completed"
    },
    "tags": []
   },
   "outputs": [
    {
     "name": "stdout",
     "output_type": "stream",
     "text": [
      "(7043, 19) Index(['SeniorCitizen', 'MonthlyCharges', 'TotalCharges', 'tenure_bin',\n",
      "       'InternetService', 'Contract', 'PaymentMethod', 'gender', 'Partner',\n",
      "       'Dependents', 'PhoneService', 'MultipleLines', 'OnlineSecurity',\n",
      "       'OnlineBackup', 'DeviceProtection', 'TechSupport', 'StreamingTV',\n",
      "       'StreamingMovies', 'PaperlessBilling'],\n",
      "      dtype='object')\n"
     ]
    }
   ],
   "source": [
    "print(final.shape,final.columns)"
   ]
  },
  {
   "cell_type": "code",
   "execution_count": 42,
   "metadata": {
    "execution": {
     "iopub.execute_input": "2020-10-25T15:07:53.268391Z",
     "iopub.status.busy": "2020-10-25T15:07:53.258176Z",
     "iopub.status.idle": "2020-10-25T15:07:53.273705Z",
     "shell.execute_reply": "2020-10-25T15:07:53.273056Z"
    },
    "papermill": {
     "duration": 0.094632,
     "end_time": "2020-10-25T15:07:53.273856",
     "exception": false,
     "start_time": "2020-10-25T15:07:53.179224",
     "status": "completed"
    },
    "tags": []
   },
   "outputs": [
    {
     "data": {
      "text/html": [
       "<div>\n",
       "<style scoped>\n",
       "    .dataframe tbody tr th:only-of-type {\n",
       "        vertical-align: middle;\n",
       "    }\n",
       "\n",
       "    .dataframe tbody tr th {\n",
       "        vertical-align: top;\n",
       "    }\n",
       "\n",
       "    .dataframe thead th {\n",
       "        text-align: right;\n",
       "    }\n",
       "</style>\n",
       "<table border=\"1\" class=\"dataframe\">\n",
       "  <thead>\n",
       "    <tr style=\"text-align: right;\">\n",
       "      <th></th>\n",
       "      <th>SeniorCitizen</th>\n",
       "      <th>MonthlyCharges</th>\n",
       "      <th>TotalCharges</th>\n",
       "      <th>tenure_bin</th>\n",
       "      <th>InternetService</th>\n",
       "      <th>Contract</th>\n",
       "      <th>PaymentMethod</th>\n",
       "      <th>gender</th>\n",
       "      <th>Partner</th>\n",
       "      <th>Dependents</th>\n",
       "      <th>PhoneService</th>\n",
       "      <th>MultipleLines</th>\n",
       "      <th>OnlineSecurity</th>\n",
       "      <th>OnlineBackup</th>\n",
       "      <th>DeviceProtection</th>\n",
       "      <th>TechSupport</th>\n",
       "      <th>StreamingTV</th>\n",
       "      <th>StreamingMovies</th>\n",
       "      <th>PaperlessBilling</th>\n",
       "    </tr>\n",
       "  </thead>\n",
       "  <tbody>\n",
       "    <tr>\n",
       "      <th>0</th>\n",
       "      <td>0.0</td>\n",
       "      <td>29.85</td>\n",
       "      <td>29.85</td>\n",
       "      <td>5</td>\n",
       "      <td>1</td>\n",
       "      <td>2</td>\n",
       "      <td>3</td>\n",
       "      <td>0</td>\n",
       "      <td>1</td>\n",
       "      <td>0</td>\n",
       "      <td>0</td>\n",
       "      <td>0</td>\n",
       "      <td>0</td>\n",
       "      <td>1</td>\n",
       "      <td>0</td>\n",
       "      <td>0</td>\n",
       "      <td>0</td>\n",
       "      <td>0</td>\n",
       "      <td>1</td>\n",
       "    </tr>\n",
       "    <tr>\n",
       "      <th>1</th>\n",
       "      <td>0.0</td>\n",
       "      <td>56.95</td>\n",
       "      <td>1889.50</td>\n",
       "      <td>3</td>\n",
       "      <td>1</td>\n",
       "      <td>1</td>\n",
       "      <td>2</td>\n",
       "      <td>1</td>\n",
       "      <td>0</td>\n",
       "      <td>0</td>\n",
       "      <td>1</td>\n",
       "      <td>0</td>\n",
       "      <td>1</td>\n",
       "      <td>0</td>\n",
       "      <td>1</td>\n",
       "      <td>0</td>\n",
       "      <td>0</td>\n",
       "      <td>0</td>\n",
       "      <td>0</td>\n",
       "    </tr>\n",
       "    <tr>\n",
       "      <th>2</th>\n",
       "      <td>0.0</td>\n",
       "      <td>53.85</td>\n",
       "      <td>108.15</td>\n",
       "      <td>5</td>\n",
       "      <td>1</td>\n",
       "      <td>2</td>\n",
       "      <td>2</td>\n",
       "      <td>1</td>\n",
       "      <td>0</td>\n",
       "      <td>0</td>\n",
       "      <td>1</td>\n",
       "      <td>0</td>\n",
       "      <td>1</td>\n",
       "      <td>1</td>\n",
       "      <td>0</td>\n",
       "      <td>0</td>\n",
       "      <td>0</td>\n",
       "      <td>0</td>\n",
       "      <td>1</td>\n",
       "    </tr>\n",
       "    <tr>\n",
       "      <th>3</th>\n",
       "      <td>0.0</td>\n",
       "      <td>42.30</td>\n",
       "      <td>1840.75</td>\n",
       "      <td>2</td>\n",
       "      <td>1</td>\n",
       "      <td>1</td>\n",
       "      <td>1</td>\n",
       "      <td>1</td>\n",
       "      <td>0</td>\n",
       "      <td>0</td>\n",
       "      <td>0</td>\n",
       "      <td>0</td>\n",
       "      <td>1</td>\n",
       "      <td>0</td>\n",
       "      <td>1</td>\n",
       "      <td>1</td>\n",
       "      <td>0</td>\n",
       "      <td>0</td>\n",
       "      <td>0</td>\n",
       "    </tr>\n",
       "    <tr>\n",
       "      <th>4</th>\n",
       "      <td>0.0</td>\n",
       "      <td>70.70</td>\n",
       "      <td>151.65</td>\n",
       "      <td>5</td>\n",
       "      <td>2</td>\n",
       "      <td>2</td>\n",
       "      <td>3</td>\n",
       "      <td>0</td>\n",
       "      <td>0</td>\n",
       "      <td>0</td>\n",
       "      <td>1</td>\n",
       "      <td>0</td>\n",
       "      <td>0</td>\n",
       "      <td>0</td>\n",
       "      <td>0</td>\n",
       "      <td>0</td>\n",
       "      <td>0</td>\n",
       "      <td>0</td>\n",
       "      <td>1</td>\n",
       "    </tr>\n",
       "  </tbody>\n",
       "</table>\n",
       "</div>"
      ],
      "text/plain": [
       "   SeniorCitizen  MonthlyCharges  TotalCharges  tenure_bin  InternetService  \\\n",
       "0            0.0           29.85         29.85           5                1   \n",
       "1            0.0           56.95       1889.50           3                1   \n",
       "2            0.0           53.85        108.15           5                1   \n",
       "3            0.0           42.30       1840.75           2                1   \n",
       "4            0.0           70.70        151.65           5                2   \n",
       "\n",
       "   Contract  PaymentMethod  gender  Partner  Dependents  PhoneService  \\\n",
       "0         2              3       0        1           0             0   \n",
       "1         1              2       1        0           0             1   \n",
       "2         2              2       1        0           0             1   \n",
       "3         1              1       1        0           0             0   \n",
       "4         2              3       0        0           0             1   \n",
       "\n",
       "   MultipleLines  OnlineSecurity  OnlineBackup  DeviceProtection  TechSupport  \\\n",
       "0              0               0             1                 0            0   \n",
       "1              0               1             0                 1            0   \n",
       "2              0               1             1                 0            0   \n",
       "3              0               1             0                 1            1   \n",
       "4              0               0             0                 0            0   \n",
       "\n",
       "   StreamingTV  StreamingMovies  PaperlessBilling  \n",
       "0            0                0                 1  \n",
       "1            0                0                 0  \n",
       "2            0                0                 1  \n",
       "3            0                0                 0  \n",
       "4            0                0                 1  "
      ]
     },
     "execution_count": 42,
     "metadata": {},
     "output_type": "execute_result"
    }
   ],
   "source": [
    "final.head()"
   ]
  },
  {
   "cell_type": "code",
   "execution_count": 43,
   "metadata": {
    "execution": {
     "iopub.execute_input": "2020-10-25T15:07:53.413129Z",
     "iopub.status.busy": "2020-10-25T15:07:53.412340Z",
     "iopub.status.idle": "2020-10-25T15:07:53.415201Z",
     "shell.execute_reply": "2020-10-25T15:07:53.415736Z"
    },
    "papermill": {
     "duration": 0.07482,
     "end_time": "2020-10-25T15:07:53.415926",
     "exception": false,
     "start_time": "2020-10-25T15:07:53.341106",
     "status": "completed"
    },
    "tags": []
   },
   "outputs": [],
   "source": [
    "#del final[\"Partner\"]\n",
    "#del final[\"Dependents\"]\n",
    "#del final[\"OnlineSecurity\"]\n",
    "#del final[\"OnlineBackup\"]\n",
    "#del final[\"DeviceProtection\"]"
   ]
  },
  {
   "cell_type": "code",
   "execution_count": 44,
   "metadata": {
    "execution": {
     "iopub.execute_input": "2020-10-25T15:07:53.571784Z",
     "iopub.status.busy": "2020-10-25T15:07:53.562133Z",
     "iopub.status.idle": "2020-10-25T15:07:53.576412Z",
     "shell.execute_reply": "2020-10-25T15:07:53.575651Z"
    },
    "papermill": {
     "duration": 0.09255,
     "end_time": "2020-10-25T15:07:53.576539",
     "exception": false,
     "start_time": "2020-10-25T15:07:53.483989",
     "status": "completed"
    },
    "tags": []
   },
   "outputs": [
    {
     "data": {
      "text/html": [
       "<div>\n",
       "<style scoped>\n",
       "    .dataframe tbody tr th:only-of-type {\n",
       "        vertical-align: middle;\n",
       "    }\n",
       "\n",
       "    .dataframe tbody tr th {\n",
       "        vertical-align: top;\n",
       "    }\n",
       "\n",
       "    .dataframe thead th {\n",
       "        text-align: right;\n",
       "    }\n",
       "</style>\n",
       "<table border=\"1\" class=\"dataframe\">\n",
       "  <thead>\n",
       "    <tr style=\"text-align: right;\">\n",
       "      <th></th>\n",
       "      <th>SeniorCitizen</th>\n",
       "      <th>MonthlyCharges</th>\n",
       "      <th>TotalCharges</th>\n",
       "      <th>tenure_bin</th>\n",
       "      <th>InternetService</th>\n",
       "      <th>Contract</th>\n",
       "      <th>PaymentMethod</th>\n",
       "      <th>gender</th>\n",
       "      <th>Partner</th>\n",
       "      <th>Dependents</th>\n",
       "      <th>PhoneService</th>\n",
       "      <th>MultipleLines</th>\n",
       "      <th>OnlineSecurity</th>\n",
       "      <th>OnlineBackup</th>\n",
       "      <th>DeviceProtection</th>\n",
       "      <th>TechSupport</th>\n",
       "      <th>StreamingTV</th>\n",
       "      <th>StreamingMovies</th>\n",
       "      <th>PaperlessBilling</th>\n",
       "    </tr>\n",
       "  </thead>\n",
       "  <tbody>\n",
       "    <tr>\n",
       "      <th>0</th>\n",
       "      <td>0.0</td>\n",
       "      <td>29.85</td>\n",
       "      <td>29.85</td>\n",
       "      <td>5</td>\n",
       "      <td>1</td>\n",
       "      <td>2</td>\n",
       "      <td>3</td>\n",
       "      <td>0</td>\n",
       "      <td>1</td>\n",
       "      <td>0</td>\n",
       "      <td>0</td>\n",
       "      <td>0</td>\n",
       "      <td>0</td>\n",
       "      <td>1</td>\n",
       "      <td>0</td>\n",
       "      <td>0</td>\n",
       "      <td>0</td>\n",
       "      <td>0</td>\n",
       "      <td>1</td>\n",
       "    </tr>\n",
       "    <tr>\n",
       "      <th>1</th>\n",
       "      <td>0.0</td>\n",
       "      <td>56.95</td>\n",
       "      <td>1889.50</td>\n",
       "      <td>3</td>\n",
       "      <td>1</td>\n",
       "      <td>1</td>\n",
       "      <td>2</td>\n",
       "      <td>1</td>\n",
       "      <td>0</td>\n",
       "      <td>0</td>\n",
       "      <td>1</td>\n",
       "      <td>0</td>\n",
       "      <td>1</td>\n",
       "      <td>0</td>\n",
       "      <td>1</td>\n",
       "      <td>0</td>\n",
       "      <td>0</td>\n",
       "      <td>0</td>\n",
       "      <td>0</td>\n",
       "    </tr>\n",
       "    <tr>\n",
       "      <th>2</th>\n",
       "      <td>0.0</td>\n",
       "      <td>53.85</td>\n",
       "      <td>108.15</td>\n",
       "      <td>5</td>\n",
       "      <td>1</td>\n",
       "      <td>2</td>\n",
       "      <td>2</td>\n",
       "      <td>1</td>\n",
       "      <td>0</td>\n",
       "      <td>0</td>\n",
       "      <td>1</td>\n",
       "      <td>0</td>\n",
       "      <td>1</td>\n",
       "      <td>1</td>\n",
       "      <td>0</td>\n",
       "      <td>0</td>\n",
       "      <td>0</td>\n",
       "      <td>0</td>\n",
       "      <td>1</td>\n",
       "    </tr>\n",
       "    <tr>\n",
       "      <th>3</th>\n",
       "      <td>0.0</td>\n",
       "      <td>42.30</td>\n",
       "      <td>1840.75</td>\n",
       "      <td>2</td>\n",
       "      <td>1</td>\n",
       "      <td>1</td>\n",
       "      <td>1</td>\n",
       "      <td>1</td>\n",
       "      <td>0</td>\n",
       "      <td>0</td>\n",
       "      <td>0</td>\n",
       "      <td>0</td>\n",
       "      <td>1</td>\n",
       "      <td>0</td>\n",
       "      <td>1</td>\n",
       "      <td>1</td>\n",
       "      <td>0</td>\n",
       "      <td>0</td>\n",
       "      <td>0</td>\n",
       "    </tr>\n",
       "    <tr>\n",
       "      <th>4</th>\n",
       "      <td>0.0</td>\n",
       "      <td>70.70</td>\n",
       "      <td>151.65</td>\n",
       "      <td>5</td>\n",
       "      <td>2</td>\n",
       "      <td>2</td>\n",
       "      <td>3</td>\n",
       "      <td>0</td>\n",
       "      <td>0</td>\n",
       "      <td>0</td>\n",
       "      <td>1</td>\n",
       "      <td>0</td>\n",
       "      <td>0</td>\n",
       "      <td>0</td>\n",
       "      <td>0</td>\n",
       "      <td>0</td>\n",
       "      <td>0</td>\n",
       "      <td>0</td>\n",
       "      <td>1</td>\n",
       "    </tr>\n",
       "  </tbody>\n",
       "</table>\n",
       "</div>"
      ],
      "text/plain": [
       "   SeniorCitizen  MonthlyCharges  TotalCharges  tenure_bin  InternetService  \\\n",
       "0            0.0           29.85         29.85           5                1   \n",
       "1            0.0           56.95       1889.50           3                1   \n",
       "2            0.0           53.85        108.15           5                1   \n",
       "3            0.0           42.30       1840.75           2                1   \n",
       "4            0.0           70.70        151.65           5                2   \n",
       "\n",
       "   Contract  PaymentMethod  gender  Partner  Dependents  PhoneService  \\\n",
       "0         2              3       0        1           0             0   \n",
       "1         1              2       1        0           0             1   \n",
       "2         2              2       1        0           0             1   \n",
       "3         1              1       1        0           0             0   \n",
       "4         2              3       0        0           0             1   \n",
       "\n",
       "   MultipleLines  OnlineSecurity  OnlineBackup  DeviceProtection  TechSupport  \\\n",
       "0              0               0             1                 0            0   \n",
       "1              0               1             0                 1            0   \n",
       "2              0               1             1                 0            0   \n",
       "3              0               1             0                 1            1   \n",
       "4              0               0             0                 0            0   \n",
       "\n",
       "   StreamingTV  StreamingMovies  PaperlessBilling  \n",
       "0            0                0                 1  \n",
       "1            0                0                 0  \n",
       "2            0                0                 1  \n",
       "3            0                0                 0  \n",
       "4            0                0                 1  "
      ]
     },
     "execution_count": 44,
     "metadata": {},
     "output_type": "execute_result"
    }
   ],
   "source": [
    "final.head()"
   ]
  },
  {
   "cell_type": "code",
   "execution_count": 45,
   "metadata": {
    "execution": {
     "iopub.execute_input": "2020-10-25T15:07:53.718689Z",
     "iopub.status.busy": "2020-10-25T15:07:53.717572Z",
     "iopub.status.idle": "2020-10-25T15:07:53.720737Z",
     "shell.execute_reply": "2020-10-25T15:07:53.721322Z"
    },
    "papermill": {
     "duration": 0.076891,
     "end_time": "2020-10-25T15:07:53.721492",
     "exception": false,
     "start_time": "2020-10-25T15:07:53.644601",
     "status": "completed"
    },
    "tags": []
   },
   "outputs": [],
   "source": [
    "#final[\"churn1\"] = target"
   ]
  },
  {
   "cell_type": "code",
   "execution_count": 46,
   "metadata": {
    "execution": {
     "iopub.execute_input": "2020-10-25T15:07:53.863931Z",
     "iopub.status.busy": "2020-10-25T15:07:53.863128Z",
     "iopub.status.idle": "2020-10-25T15:07:53.866224Z",
     "shell.execute_reply": "2020-10-25T15:07:53.865464Z"
    },
    "papermill": {
     "duration": 0.076091,
     "end_time": "2020-10-25T15:07:53.866346",
     "exception": false,
     "start_time": "2020-10-25T15:07:53.790255",
     "status": "completed"
    },
    "tags": []
   },
   "outputs": [],
   "source": [
    "#plt.figure(figsize=(15,8))\n",
    "#final.corr()['churn1'].sort_values(ascending = False).plot(kind='bar')"
   ]
  },
  {
   "cell_type": "code",
   "execution_count": 47,
   "metadata": {
    "execution": {
     "iopub.execute_input": "2020-10-25T15:07:54.010924Z",
     "iopub.status.busy": "2020-10-25T15:07:54.009872Z",
     "iopub.status.idle": "2020-10-25T15:07:54.014755Z",
     "shell.execute_reply": "2020-10-25T15:07:54.013936Z"
    },
    "papermill": {
     "duration": 0.079334,
     "end_time": "2020-10-25T15:07:54.014938",
     "exception": false,
     "start_time": "2020-10-25T15:07:53.935604",
     "status": "completed"
    },
    "tags": []
   },
   "outputs": [
    {
     "name": "stdout",
     "output_type": "stream",
     "text": [
      "(7043, 19) 7043\n"
     ]
    }
   ],
   "source": [
    "print(final.shape,len(target))"
   ]
  },
  {
   "cell_type": "code",
   "execution_count": 48,
   "metadata": {
    "execution": {
     "iopub.execute_input": "2020-10-25T15:07:54.214114Z",
     "iopub.status.busy": "2020-10-25T15:07:54.213256Z",
     "iopub.status.idle": "2020-10-25T15:07:54.219095Z",
     "shell.execute_reply": "2020-10-25T15:07:54.218263Z"
    },
    "papermill": {
     "duration": 0.084764,
     "end_time": "2020-10-25T15:07:54.219235",
     "exception": false,
     "start_time": "2020-10-25T15:07:54.134471",
     "status": "completed"
    },
    "tags": []
   },
   "outputs": [],
   "source": [
    "from sklearn.model_selection import train_test_split\n",
    "X_train, X_test, y_train, y_test = train_test_split(final, target, test_size = 0.30, random_state = 101)"
   ]
  },
  {
   "cell_type": "code",
   "execution_count": 49,
   "metadata": {
    "execution": {
     "iopub.execute_input": "2020-10-25T15:07:54.368789Z",
     "iopub.status.busy": "2020-10-25T15:07:54.367920Z",
     "iopub.status.idle": "2020-10-25T15:07:55.528205Z",
     "shell.execute_reply": "2020-10-25T15:07:55.527370Z"
    },
    "papermill": {
     "duration": 1.237911,
     "end_time": "2020-10-25T15:07:55.528338",
     "exception": false,
     "start_time": "2020-10-25T15:07:54.290427",
     "status": "completed"
    },
    "tags": []
   },
   "outputs": [],
   "source": [
    "from sklearn.ensemble import RandomForestClassifier\n",
    "from sklearn.ensemble import GradientBoostingClassifier,AdaBoostClassifier,BaggingClassifier\n",
    "from xgboost import XGBClassifier\n",
    "from sklearn.model_selection import KFold,GridSearchCV,StratifiedKFold,RandomizedSearchCV\n",
    "from lightgbm import LGBMClassifier\n",
    "from sklearn.metrics import confusion_matrix, accuracy_score\n",
    "from sklearn.metrics import classification_report\n",
    "from sklearn.metrics import precision_score,recall_score,f1_score\n",
    "import matplotlib.pyplot as plt\n",
    "from catboost import CatBoostClassifier\n",
    "from sklearn.svm import SVC\n",
    "from sklearn.linear_model import LogisticRegression"
   ]
  },
  {
   "cell_type": "code",
   "execution_count": 50,
   "metadata": {
    "execution": {
     "iopub.execute_input": "2020-10-25T15:07:55.676745Z",
     "iopub.status.busy": "2020-10-25T15:07:55.675700Z",
     "iopub.status.idle": "2020-10-25T15:07:55.678477Z",
     "shell.execute_reply": "2020-10-25T15:07:55.679095Z"
    },
    "papermill": {
     "duration": 0.080474,
     "end_time": "2020-10-25T15:07:55.679275",
     "exception": false,
     "start_time": "2020-10-25T15:07:55.598801",
     "status": "completed"
    },
    "tags": []
   },
   "outputs": [],
   "source": [
    "def metrics(y,yhat):\n",
    "    print(f\"Precision Score: {precision_score(y,yhat) * 100:.2f}%\")\n",
    "    print(f\"Recall Score: {recall_score(y,yhat) * 100:.2f}%\")\n",
    "    print(f\"F1 score: {f1_score(y,yhat) * 100:.2f}%\")"
   ]
  },
  {
   "cell_type": "code",
   "execution_count": 51,
   "metadata": {
    "execution": {
     "iopub.execute_input": "2020-10-25T15:07:55.834172Z",
     "iopub.status.busy": "2020-10-25T15:07:55.833149Z",
     "iopub.status.idle": "2020-10-25T15:07:55.836547Z",
     "shell.execute_reply": "2020-10-25T15:07:55.835814Z"
    },
    "papermill": {
     "duration": 0.086405,
     "end_time": "2020-10-25T15:07:55.836699",
     "exception": false,
     "start_time": "2020-10-25T15:07:55.750294",
     "status": "completed"
    },
    "tags": []
   },
   "outputs": [],
   "source": [
    "def plot_confusion(actual,pred):\n",
    "    conf_matrix = confusion_matrix(actual, pred)\n",
    "    f, ax = plt.subplots(figsize=(4, 4))\n",
    "    sns.heatmap(conf_matrix, annot=True, fmt=\"d\", linewidths=.5, ax=ax)\n",
    "    plt.title(\"Confusion Matrix\", fontsize=20)\n",
    "    plt.subplots_adjust(left=0.15, right=0.99, bottom=0.15, top=0.99)\n",
    "    ax.set_yticks(np.arange(conf_matrix.shape[0]) + 0.5, minor=False)\n",
    "    ax.set_xticklabels(['0', '1'], fontsize=16, rotation=360)\n",
    "    ax.set_yticklabels(['0', '1'], fontsize=16, rotation=360)\n",
    "    plt.show()"
   ]
  },
  {
   "cell_type": "code",
   "execution_count": 52,
   "metadata": {
    "execution": {
     "iopub.execute_input": "2020-10-25T15:07:55.989723Z",
     "iopub.status.busy": "2020-10-25T15:07:55.988900Z",
     "iopub.status.idle": "2020-10-25T15:07:56.353975Z",
     "shell.execute_reply": "2020-10-25T15:07:56.353119Z"
    },
    "papermill": {
     "duration": 0.44436,
     "end_time": "2020-10-25T15:07:56.354116",
     "exception": false,
     "start_time": "2020-10-25T15:07:55.909756",
     "status": "completed"
    },
    "tags": []
   },
   "outputs": [
    {
     "name": "stdout",
     "output_type": "stream",
     "text": [
      "              precision    recall  f1-score   support\n",
      "\n",
      "           0       0.90      0.74      0.81      1546\n",
      "           1       0.52      0.77      0.62       567\n",
      "\n",
      "    accuracy                           0.75      2113\n",
      "   macro avg       0.71      0.76      0.72      2113\n",
      "weighted avg       0.80      0.75      0.76      2113\n",
      "\n",
      "Precision Score: 51.83%\n",
      "Recall Score: 77.43%\n",
      "F1 score: 62.09%\n"
     ]
    },
    {
     "data": {
      "image/png": "[encoded data removed]",
      "text/plain": [
       "<Figure size 288x288 with 2 Axes>"
      ]
     },
     "metadata": {
      "needs_background": "light"
     },
     "output_type": "display_data"
    }
   ],
   "source": [
    "lr = LogisticRegression(class_weight='balanced')\n",
    "lr.fit(X_train, y_train)\n",
    "lrprd = lr.predict(X_test)\n",
    "print(classification_report(y_test,lrprd))\n",
    "metrics(y_test,lrprd)\n",
    "plot_confusion(y_test,lrprd)"
   ]
  },
  {
   "cell_type": "code",
   "execution_count": 53,
   "metadata": {
    "execution": {
     "iopub.execute_input": "2020-10-25T15:07:56.508584Z",
     "iopub.status.busy": "2020-10-25T15:07:56.507509Z",
     "iopub.status.idle": "2020-10-25T15:07:56.511175Z",
     "shell.execute_reply": "2020-10-25T15:07:56.510467Z"
    },
    "papermill": {
     "duration": 0.082645,
     "end_time": "2020-10-25T15:07:56.511307",
     "exception": false,
     "start_time": "2020-10-25T15:07:56.428662",
     "status": "completed"
    },
    "tags": []
   },
   "outputs": [],
   "source": [
    "#data['Churn'] = data['Churn'].map(lambda s :1  if s =='Yes' else 0)"
   ]
  },
  {
   "cell_type": "code",
   "execution_count": 54,
   "metadata": {
    "execution": {
     "iopub.execute_input": "2020-10-25T15:07:56.669253Z",
     "iopub.status.busy": "2020-10-25T15:07:56.668401Z",
     "iopub.status.idle": "2020-10-25T15:07:57.284007Z",
     "shell.execute_reply": "2020-10-25T15:07:57.283283Z"
    },
    "papermill": {
     "duration": 0.697504,
     "end_time": "2020-10-25T15:07:57.284152",
     "exception": false,
     "start_time": "2020-10-25T15:07:56.586648",
     "status": "completed"
    },
    "tags": []
   },
   "outputs": [
    {
     "name": "stdout",
     "output_type": "stream",
     "text": [
      "              precision    recall  f1-score   support\n",
      "\n",
      "           0       0.88      0.80      0.83      1546\n",
      "           1       0.56      0.69      0.62       567\n",
      "\n",
      "    accuracy                           0.77      2113\n",
      "   macro avg       0.72      0.75      0.73      2113\n",
      "weighted avg       0.79      0.77      0.78      2113\n",
      "\n",
      "Precision Score: 55.57%\n",
      "Recall Score: 69.49%\n",
      "F1 score: 61.76%\n"
     ]
    },
    {
     "data": {
      "image/png": "[encoded data removed]",
      "text/plain": [
       "<Figure size 288x288 with 2 Axes>"
      ]
     },
     "metadata": {
      "needs_background": "light"
     },
     "output_type": "display_data"
    }
   ],
   "source": [
    "#learning_rate=0.032,max_depth=4,n_estimators=100,\n",
    "lgb = LGBMClassifier(class_weight={0:0.21,1:0.79},learning_rate=0.13099999999999,max_depth=18,n_estimators=250)\n",
    "lgb.fit(X_train, y_train)\n",
    "lgbprd = lgb.predict(X_test)\n",
    "print(classification_report(y_test,lgbprd))\n",
    "metrics(y_test,lgbprd)\n",
    "plot_confusion(y_test,lgbprd)"
   ]
  },
  {
   "cell_type": "code",
   "execution_count": 55,
   "metadata": {
    "execution": {
     "iopub.execute_input": "2020-10-25T15:07:57.442617Z",
     "iopub.status.busy": "2020-10-25T15:07:57.440313Z",
     "iopub.status.idle": "2020-10-25T15:07:57.749597Z",
     "shell.execute_reply": "2020-10-25T15:07:57.748822Z"
    },
    "papermill": {
     "duration": 0.391007,
     "end_time": "2020-10-25T15:07:57.749737",
     "exception": false,
     "start_time": "2020-10-25T15:07:57.358730",
     "status": "completed"
    },
    "tags": []
   },
   "outputs": [
    {
     "data": {
      "text/plain": [
       "<matplotlib.axes._subplots.AxesSubplot at 0x7fe2f87218d0>"
      ]
     },
     "execution_count": 55,
     "metadata": {},
     "output_type": "execute_result"
    },
    {
     "data": {
      "image/png": "[encoded data removed]",
      "text/plain": [
       "<Figure size 720x720 with 1 Axes>"
      ]
     },
     "metadata": {
      "needs_background": "light"
     },
     "output_type": "display_data"
    }
   ],
   "source": [
    "plt.figure(figsize=(10,10))\n",
    "sns.barplot(y= final.columns,x = lgb.feature_importances_)"
   ]
  },
  {
   "cell_type": "code",
   "execution_count": 56,
   "metadata": {
    "execution": {
     "iopub.execute_input": "2020-10-25T15:07:57.911173Z",
     "iopub.status.busy": "2020-10-25T15:07:57.910081Z",
     "iopub.status.idle": "2020-10-25T15:07:58.760312Z",
     "shell.execute_reply": "2020-10-25T15:07:58.759412Z"
    },
    "papermill": {
     "duration": 0.934358,
     "end_time": "2020-10-25T15:07:58.760449",
     "exception": false,
     "start_time": "2020-10-25T15:07:57.826091",
     "status": "completed"
    },
    "tags": []
   },
   "outputs": [
    {
     "name": "stdout",
     "output_type": "stream",
     "text": [
      "              precision    recall  f1-score   support\n",
      "\n",
      "           0       1.00      0.87      0.93      5174\n",
      "           1       0.73      1.00      0.84      1869\n",
      "\n",
      "    accuracy                           0.90      7043\n",
      "   macro avg       0.87      0.93      0.89      7043\n",
      "weighted avg       0.93      0.90      0.91      7043\n",
      "\n",
      "Precision Score: 73.15%\n",
      "Recall Score: 99.84%\n",
      "F1 score: 84.43%\n"
     ]
    },
    {
     "data": {
      "image/png": "[encoded data removed]",
      "text/plain": [
       "<Figure size 288x288 with 2 Axes>"
      ]
     },
     "metadata": {
      "needs_background": "light"
     },
     "output_type": "display_data"
    }
   ],
   "source": [
    "LG = LGBMClassifier(class_weight={0:0.21,1:0.79},learning_rate=0.13099999999999,max_depth=18,n_estimators=250)\n",
    "LG.fit(final, target)\n",
    "prd = LG.predict(final)\n",
    "print(classification_report(target,prd))\n",
    "metrics(target,prd)\n",
    "plot_confusion(target,prd)"
   ]
  },
  {
   "cell_type": "code",
   "execution_count": null,
   "metadata": {
    "papermill": {
     "duration": 0.079046,
     "end_time": "2020-10-25T15:07:58.918661",
     "exception": false,
     "start_time": "2020-10-25T15:07:58.839615",
     "status": "completed"
    },
    "tags": []
   },
   "outputs": [],
   "source": []
  }
 ],
 "metadata": {
  "kernelspec": {
   "display_name": "Python 3",
   "language": "python",
   "name": "python3"
  },
  "language_info": {
   "codemirror_mode": {
    "name": "ipython",
    "version": 3
   },
   "file_extension": ".py",
   "mimetype": "text/x-python",
   "name": "python",
   "nbconvert_exporter": "python",
   "pygments_lexer": "ipython3",
   "version": "3.7.6"
  },
  "papermill": {
   "duration": 19.696636,
   "end_time": "2020-10-25T15:07:59.105688",
   "environment_variables": {},
   "exception": null,
   "input_path": "__notebook__.ipynb",
   "output_path": "__notebook__.ipynb",
   "parameters": {},
   "start_time": "2020-10-25T15:07:39.409052",
   "version": "2.1.0"
  }
 },
 "nbformat": 4,
 "nbformat_minor": 4
}
