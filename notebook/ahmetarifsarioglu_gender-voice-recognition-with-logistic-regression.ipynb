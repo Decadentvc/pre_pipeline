{
 "cells": [
  {
   "cell_type": "markdown",
   "metadata": {},
   "source": [
    "**INTRODUCTION**\n",
    "\n",
    "In this kernel we will try to identify gender voices by using logistic regression. This kernel has been prepared with the purpose of practicing machine learning algorithms. "
   ]
  },
  {
   "cell_type": "code",
   "execution_count": 1,
   "metadata": {
    "_cell_guid": "b1076dfc-b9ad-4769-8c92-a6c4dae69d19",
    "_uuid": "8f2839f25d086af736a60e9eeb907d3b93b6e0e5"
   },
   "outputs": [
    {
     "name": "stdout",
     "output_type": "stream",
     "text": [
      "/kaggle/input/voicegender/voice.csv\n"
     ]
    }
   ],
   "source": [
    "# This Python 3 environment comes with many helpful analytics libraries installed\n",
    "# It is defined by the kaggle/python docker image: https://github.com/kaggle/docker-python\n",
    "# For example, here's several helpful packages to load in \n",
    "\n",
    "import numpy as np # linear algebra\n",
    "import pandas as pd # data processing, CSV file I/O (e.g. pd.read_csv)\n",
    "import matplotlib.pyplot as plt\n",
    "\n",
    "# Input data files are available in the \"../input/\" directory.\n",
    "# For example, running this (by clicking run or pressing Shift+Enter) will list all files under the input directory\n",
    "\n",
    "import os\n",
    "for dirname, _, filenames in os.walk('/kaggle/input'):\n",
    "    for filename in filenames:\n",
    "        print(os.path.join(dirname, filename))\n",
    "\n",
    "# Any results you write to the current directory are saved as output."
   ]
  },
  {
   "cell_type": "code",
   "execution_count": 2,
   "metadata": {
    "_cell_guid": "79c7e3d0-c299-4dcb-8224-4455121ee9b0",
    "_uuid": "d629ff2d2480ee46fbb7e2d37f6b5fab8052498a"
   },
   "outputs": [],
   "source": [
    "# import data\n",
    "data = pd.read_csv('../input/voicegender/voice.csv')\n"
   ]
  },
  {
   "cell_type": "code",
   "execution_count": 3,
   "metadata": {},
   "outputs": [
    {
     "data": {
      "text/html": [
       "<div>\n",
       "<style scoped>\n",
       "    .dataframe tbody tr th:only-of-type {\n",
       "        vertical-align: middle;\n",
       "    }\n",
       "\n",
       "    .dataframe tbody tr th {\n",
       "        vertical-align: top;\n",
       "    }\n",
       "\n",
       "    .dataframe thead th {\n",
       "        text-align: right;\n",
       "    }\n",
       "</style>\n",
       "<table border=\"1\" class=\"dataframe\">\n",
       "  <thead>\n",
       "    <tr style=\"text-align: right;\">\n",
       "      <th></th>\n",
       "      <th>meanfreq</th>\n",
       "      <th>sd</th>\n",
       "      <th>median</th>\n",
       "      <th>Q25</th>\n",
       "      <th>Q75</th>\n",
       "      <th>IQR</th>\n",
       "      <th>skew</th>\n",
       "      <th>kurt</th>\n",
       "      <th>sp.ent</th>\n",
       "      <th>sfm</th>\n",
       "      <th>...</th>\n",
       "      <th>centroid</th>\n",
       "      <th>meanfun</th>\n",
       "      <th>minfun</th>\n",
       "      <th>maxfun</th>\n",
       "      <th>meandom</th>\n",
       "      <th>mindom</th>\n",
       "      <th>maxdom</th>\n",
       "      <th>dfrange</th>\n",
       "      <th>modindx</th>\n",
       "      <th>label</th>\n",
       "    </tr>\n",
       "  </thead>\n",
       "  <tbody>\n",
       "    <tr>\n",
       "      <th>0</th>\n",
       "      <td>0.059781</td>\n",
       "      <td>0.064241</td>\n",
       "      <td>0.032027</td>\n",
       "      <td>0.015071</td>\n",
       "      <td>0.090193</td>\n",
       "      <td>0.075122</td>\n",
       "      <td>12.863462</td>\n",
       "      <td>274.402906</td>\n",
       "      <td>0.893369</td>\n",
       "      <td>0.491918</td>\n",
       "      <td>...</td>\n",
       "      <td>0.059781</td>\n",
       "      <td>0.084279</td>\n",
       "      <td>0.015702</td>\n",
       "      <td>0.275862</td>\n",
       "      <td>0.007812</td>\n",
       "      <td>0.007812</td>\n",
       "      <td>0.007812</td>\n",
       "      <td>0.000000</td>\n",
       "      <td>0.000000</td>\n",
       "      <td>male</td>\n",
       "    </tr>\n",
       "    <tr>\n",
       "      <th>1</th>\n",
       "      <td>0.066009</td>\n",
       "      <td>0.067310</td>\n",
       "      <td>0.040229</td>\n",
       "      <td>0.019414</td>\n",
       "      <td>0.092666</td>\n",
       "      <td>0.073252</td>\n",
       "      <td>22.423285</td>\n",
       "      <td>634.613855</td>\n",
       "      <td>0.892193</td>\n",
       "      <td>0.513724</td>\n",
       "      <td>...</td>\n",
       "      <td>0.066009</td>\n",
       "      <td>0.107937</td>\n",
       "      <td>0.015826</td>\n",
       "      <td>0.250000</td>\n",
       "      <td>0.009014</td>\n",
       "      <td>0.007812</td>\n",
       "      <td>0.054688</td>\n",
       "      <td>0.046875</td>\n",
       "      <td>0.052632</td>\n",
       "      <td>male</td>\n",
       "    </tr>\n",
       "    <tr>\n",
       "      <th>2</th>\n",
       "      <td>0.077316</td>\n",
       "      <td>0.083829</td>\n",
       "      <td>0.036718</td>\n",
       "      <td>0.008701</td>\n",
       "      <td>0.131908</td>\n",
       "      <td>0.123207</td>\n",
       "      <td>30.757155</td>\n",
       "      <td>1024.927705</td>\n",
       "      <td>0.846389</td>\n",
       "      <td>0.478905</td>\n",
       "      <td>...</td>\n",
       "      <td>0.077316</td>\n",
       "      <td>0.098706</td>\n",
       "      <td>0.015656</td>\n",
       "      <td>0.271186</td>\n",
       "      <td>0.007990</td>\n",
       "      <td>0.007812</td>\n",
       "      <td>0.015625</td>\n",
       "      <td>0.007812</td>\n",
       "      <td>0.046512</td>\n",
       "      <td>male</td>\n",
       "    </tr>\n",
       "    <tr>\n",
       "      <th>3</th>\n",
       "      <td>0.151228</td>\n",
       "      <td>0.072111</td>\n",
       "      <td>0.158011</td>\n",
       "      <td>0.096582</td>\n",
       "      <td>0.207955</td>\n",
       "      <td>0.111374</td>\n",
       "      <td>1.232831</td>\n",
       "      <td>4.177296</td>\n",
       "      <td>0.963322</td>\n",
       "      <td>0.727232</td>\n",
       "      <td>...</td>\n",
       "      <td>0.151228</td>\n",
       "      <td>0.088965</td>\n",
       "      <td>0.017798</td>\n",
       "      <td>0.250000</td>\n",
       "      <td>0.201497</td>\n",
       "      <td>0.007812</td>\n",
       "      <td>0.562500</td>\n",
       "      <td>0.554688</td>\n",
       "      <td>0.247119</td>\n",
       "      <td>male</td>\n",
       "    </tr>\n",
       "    <tr>\n",
       "      <th>4</th>\n",
       "      <td>0.135120</td>\n",
       "      <td>0.079146</td>\n",
       "      <td>0.124656</td>\n",
       "      <td>0.078720</td>\n",
       "      <td>0.206045</td>\n",
       "      <td>0.127325</td>\n",
       "      <td>1.101174</td>\n",
       "      <td>4.333713</td>\n",
       "      <td>0.971955</td>\n",
       "      <td>0.783568</td>\n",
       "      <td>...</td>\n",
       "      <td>0.135120</td>\n",
       "      <td>0.106398</td>\n",
       "      <td>0.016931</td>\n",
       "      <td>0.266667</td>\n",
       "      <td>0.712812</td>\n",
       "      <td>0.007812</td>\n",
       "      <td>5.484375</td>\n",
       "      <td>5.476562</td>\n",
       "      <td>0.208274</td>\n",
       "      <td>male</td>\n",
       "    </tr>\n",
       "  </tbody>\n",
       "</table>\n",
       "<p>5 rows × 21 columns</p>\n",
       "</div>"
      ],
      "text/plain": [
       "   meanfreq        sd    median       Q25       Q75       IQR       skew  \\\n",
       "0  0.059781  0.064241  0.032027  0.015071  0.090193  0.075122  12.863462   \n",
       "1  0.066009  0.067310  0.040229  0.019414  0.092666  0.073252  22.423285   \n",
       "2  0.077316  0.083829  0.036718  0.008701  0.131908  0.123207  30.757155   \n",
       "3  0.151228  0.072111  0.158011  0.096582  0.207955  0.111374   1.232831   \n",
       "4  0.135120  0.079146  0.124656  0.078720  0.206045  0.127325   1.101174   \n",
       "\n",
       "          kurt    sp.ent       sfm  ...  centroid   meanfun    minfun  \\\n",
       "0   274.402906  0.893369  0.491918  ...  0.059781  0.084279  0.015702   \n",
       "1   634.613855  0.892193  0.513724  ...  0.066009  0.107937  0.015826   \n",
       "2  1024.927705  0.846389  0.478905  ...  0.077316  0.098706  0.015656   \n",
       "3     4.177296  0.963322  0.727232  ...  0.151228  0.088965  0.017798   \n",
       "4     4.333713  0.971955  0.783568  ...  0.135120  0.106398  0.016931   \n",
       "\n",
       "     maxfun   meandom    mindom    maxdom   dfrange   modindx  label  \n",
       "0  0.275862  0.007812  0.007812  0.007812  0.000000  0.000000   male  \n",
       "1  0.250000  0.009014  0.007812  0.054688  0.046875  0.052632   male  \n",
       "2  0.271186  0.007990  0.007812  0.015625  0.007812  0.046512   male  \n",
       "3  0.250000  0.201497  0.007812  0.562500  0.554688  0.247119   male  \n",
       "4  0.266667  0.712812  0.007812  5.484375  5.476562  0.208274   male  \n",
       "\n",
       "[5 rows x 21 columns]"
      ]
     },
     "execution_count": 3,
     "metadata": {},
     "output_type": "execute_result"
    }
   ],
   "source": [
    "data.head()"
   ]
  },
  {
   "cell_type": "code",
   "execution_count": 4,
   "metadata": {},
   "outputs": [
    {
     "name": "stdout",
     "output_type": "stream",
     "text": [
      "<class 'pandas.core.frame.DataFrame'>\n",
      "RangeIndex: 3168 entries, 0 to 3167\n",
      "Data columns (total 21 columns):\n",
      "meanfreq    3168 non-null float64\n",
      "sd          3168 non-null float64\n",
      "median      3168 non-null float64\n",
      "Q25         3168 non-null float64\n",
      "Q75         3168 non-null float64\n",
      "IQR         3168 non-null float64\n",
      "skew        3168 non-null float64\n",
      "kurt        3168 non-null float64\n",
      "sp.ent      3168 non-null float64\n",
      "sfm         3168 non-null float64\n",
      "mode        3168 non-null float64\n",
      "centroid    3168 non-null float64\n",
      "meanfun     3168 non-null float64\n",
      "minfun      3168 non-null float64\n",
      "maxfun      3168 non-null float64\n",
      "meandom     3168 non-null float64\n",
      "mindom      3168 non-null float64\n",
      "maxdom      3168 non-null float64\n",
      "dfrange     3168 non-null float64\n",
      "modindx     3168 non-null float64\n",
      "label       3168 non-null object\n",
      "dtypes: float64(20), object(1)\n",
      "memory usage: 519.9+ KB\n"
     ]
    }
   ],
   "source": [
    "data.info()"
   ]
  },
  {
   "cell_type": "code",
   "execution_count": 5,
   "metadata": {},
   "outputs": [
    {
     "data": {
      "text/plain": [
       "array(['male', 'female'], dtype=object)"
      ]
     },
     "execution_count": 5,
     "metadata": {},
     "output_type": "execute_result"
    }
   ],
   "source": [
    "data.label.unique()"
   ]
  },
  {
   "cell_type": "code",
   "execution_count": 6,
   "metadata": {},
   "outputs": [],
   "source": [
    "data.label=[1 if each ==\"female\" else 0 for each in data.label]"
   ]
  },
  {
   "cell_type": "code",
   "execution_count": 7,
   "metadata": {},
   "outputs": [
    {
     "data": {
      "text/plain": [
       "array([0, 1])"
      ]
     },
     "execution_count": 7,
     "metadata": {},
     "output_type": "execute_result"
    }
   ],
   "source": [
    "data.label.unique()"
   ]
  },
  {
   "cell_type": "code",
   "execution_count": 8,
   "metadata": {},
   "outputs": [
    {
     "name": "stdout",
     "output_type": "stream",
     "text": [
      "[0 0 0 ... 1 1 1]\n"
     ]
    }
   ],
   "source": [
    "y = data.label.values\n",
    "print(y)"
   ]
  },
  {
   "cell_type": "code",
   "execution_count": 9,
   "metadata": {},
   "outputs": [
    {
     "name": "stdout",
     "output_type": "stream",
     "text": [
      "      meanfreq        sd    median       Q25       Q75       IQR      skew  \\\n",
      "0     0.096419  0.473409  0.084125  0.060063  0.204956  0.254828  0.367853   \n",
      "1     0.125828  0.505075  0.116900  0.077635  0.215683  0.246961  0.644279   \n",
      "2     0.179222  0.675536  0.102873  0.034284  0.385912  0.457148  0.885255   \n",
      "3     0.528261  0.554611  0.587559  0.389906  0.715802  0.407358  0.031549   \n",
      "4     0.452195  0.627209  0.454272  0.317627  0.707515  0.474474  0.027742   \n",
      "...        ...       ...       ...       ...       ...       ...       ...   \n",
      "3163  0.436911  0.684871  0.570361  0.198513  0.686256  0.577704  0.046854   \n",
      "3164  0.362946  0.731172  0.262871  0.171937  0.702595  0.621185  0.015961   \n",
      "3165  0.484949  0.799042  0.690337  0.134329  0.786967  0.742124  0.050161   \n",
      "3166  0.492516  0.745692  0.695311  0.175136  0.767804  0.681107  0.041908   \n",
      "3167  0.595700  0.768964  0.687590  0.282629  0.901780  0.699289  0.045203   \n",
      "\n",
      "          kurt    sp.ent       sfm      mode  centroid   meanfun    minfun  \\\n",
      "0     0.208279  0.635798  0.564526  0.000000  0.096419  0.157706  0.030501   \n",
      "1     0.483766  0.630964  0.591578  0.000000  0.125828  0.287642  0.031140   \n",
      "2     0.782275  0.442738  0.548382  0.000000  0.179222  0.236945  0.030264   \n",
      "3     0.001613  0.923261  0.856457  0.299565  0.528261  0.183442  0.041287   \n",
      "4     0.001732  0.958736  0.926348  0.372362  0.452195  0.279190  0.036829   \n",
      "...        ...       ...       ...       ...       ...       ...       ...   \n",
      "3163  0.003489  0.921665  0.901057  0.717272  0.436911  0.698762  0.380813   \n",
      "3164  0.000333  0.912549  0.834545  0.048868  0.362946  0.732760  0.126776   \n",
      "3165  0.003469  0.855587  0.765849  0.028592  0.484949  0.847759  0.153011   \n",
      "3166  0.002539  0.870307  0.792241  0.757865  0.492516  0.641561  0.127158   \n",
      "3167  0.002830  0.822610  0.700510  0.956078  0.595700  0.714235  0.270097   \n",
      "\n",
      "        maxfun   meandom    mindom    maxdom   dfrange   modindx  \n",
      "0     0.981526  0.000000  0.006452  0.000000  0.000000  0.000000  \n",
      "1     0.834600  0.000407  0.006452  0.002144  0.002146  0.056449  \n",
      "2     0.954963  0.000060  0.006452  0.000357  0.000358  0.049885  \n",
      "3     0.834600  0.065659  0.006452  0.025375  0.025393  0.265043  \n",
      "4     0.929285  0.238994  0.006452  0.250536  0.250715  0.223380  \n",
      "...        ...       ...       ...       ...       ...       ...  \n",
      "3163  0.904450  0.279703  0.006452  0.192280  0.192418  0.173674  \n",
      "3164  0.981526  0.305791  0.075269  0.167977  0.166667  0.298053  \n",
      "3165  0.981526  0.164908  0.006452  0.134024  0.134120  0.208885  \n",
      "3166  0.834600  0.265621  0.006452  0.164046  0.164163  0.333559  \n",
      "3167  0.954963  0.074312  0.006452  0.025018  0.025036  0.375386  \n",
      "\n",
      "[3168 rows x 20 columns]\n"
     ]
    }
   ],
   "source": [
    "x_data = data.drop([\"label\"], axis=1)\n",
    "# normalization of x_data\n",
    "x = (x_data-np.min(x_data)) / (np.max(x_data)-np.min(x_data)).values\n",
    "print(x)"
   ]
  },
  {
   "cell_type": "code",
   "execution_count": 10,
   "metadata": {},
   "outputs": [
    {
     "name": "stdout",
     "output_type": "stream",
     "text": [
      "x_train:  (20, 2534)\n",
      "x_test:  (20, 634)\n",
      "y_train:  (2534,)\n",
      "y_test:  (634,)\n"
     ]
    }
   ],
   "source": [
    "# train-test split\n",
    "from sklearn.model_selection import train_test_split\n",
    "x_train, x_test, y_train, y_test = train_test_split(x,y,test_size = 0.2,random_state=42)\n",
    "\n",
    "x_train = x_train.T\n",
    "x_test = x_test.T\n",
    "y_train = y_train.T\n",
    "y_test = y_test.T\n",
    "\n",
    "print(\"x_train: \",x_train.shape)\n",
    "print(\"x_test: \",x_test.shape)\n",
    "print(\"y_train: \",y_train.shape)\n",
    "print(\"y_test: \",y_test.shape)"
   ]
  },
  {
   "cell_type": "code",
   "execution_count": 11,
   "metadata": {},
   "outputs": [],
   "source": [
    "# parameter initialization and sigmoid function\n",
    "def initialize_weights_and_bias(dimension):\n",
    "    \n",
    "    w = np.full((dimension,1),0.01)\n",
    "    b = 0.0\n",
    "    return w,b\n",
    "\n",
    "def sigmoid(z):\n",
    "    \n",
    "    y_head = 1/(1+ np.exp(-z))\n",
    "    return y_head"
   ]
  },
  {
   "cell_type": "code",
   "execution_count": 12,
   "metadata": {},
   "outputs": [],
   "source": [
    "def forward_backward_propagation(w,b,x_train,y_train):\n",
    "    # forward propagation\n",
    "    z = np.dot(w.T,x_train) + b\n",
    "    y_head = sigmoid(z)\n",
    "    loss = -y_train*np.log(y_head)-(1-y_train)*np.log(1-y_head)\n",
    "    cost = (np.sum(loss))/x_train.shape[1]      # x_train.shape[1]  is for scaling\n",
    "    \n",
    "    # backward propagation\n",
    "    derivative_weight = (np.dot(x_train,((y_head-y_train).T)))/x_train.shape[1] # x_train.shape[1]  is for scaling\n",
    "    derivative_bias = np.sum(y_head-y_train)/x_train.shape[1]                 # x_train.shape[1]  is for scaling\n",
    "    gradients = {\"derivative_weight\": derivative_weight, \"derivative_bias\": derivative_bias}\n",
    "    \n",
    "    return cost,gradients"
   ]
  },
  {
   "cell_type": "code",
   "execution_count": 13,
   "metadata": {},
   "outputs": [],
   "source": [
    "# Updating(learning) parameters\n",
    "def update(w, b, x_train, y_train, learning_rate,number_of_iterarion):\n",
    "    cost_list = []\n",
    "    cost_list2 = []\n",
    "    index = []\n",
    "    \n",
    "    # updating(learning) parameters is number_of_iterarion times\n",
    "    for i in range(number_of_iterarion):\n",
    "        # make forward and backward propagation and find cost and gradients\n",
    "        cost,gradients = forward_backward_propagation(w,b,x_train,y_train)\n",
    "        cost_list.append(cost)\n",
    "        # lets update\n",
    "        w = w - learning_rate * gradients[\"derivative_weight\"]\n",
    "        b = b - learning_rate * gradients[\"derivative_bias\"]\n",
    "        if i % 10 == 0:\n",
    "            cost_list2.append(cost)\n",
    "            index.append(i)\n",
    "            print (\"Cost after iteration %i: %f\" %(i, cost))\n",
    "            \n",
    "    # we update(learn) parameters weights and bias\n",
    "    parameters = {\"weight\": w,\"bias\": b}\n",
    "    plt.plot(index,cost_list2)\n",
    "    plt.xticks(index,rotation='vertical')\n",
    "    plt.xlabel(\"Number of Iterarion\")\n",
    "    plt.ylabel(\"Cost\")\n",
    "    plt.show()\n",
    "    return parameters, gradients, cost_list\n",
    "   \n",
    "    "
   ]
  },
  {
   "cell_type": "code",
   "execution_count": 14,
   "metadata": {},
   "outputs": [],
   "source": [
    "# prediction \n",
    "def predict(w,b,x_test):\n",
    "    # x_test is a input for forward propagation\n",
    "    z = sigmoid(np.dot(w.T,x_test)+b)\n",
    "    Y_prediction = np.zeros((1,x_test.shape[1]))\n",
    "    # if z is bigger than 0.5, our prediction is sign one (y_head=1),\n",
    "    # if z is smaller than 0.5, our prediction is sign zero (y_head=0),\n",
    "    for i in range(z.shape[1]):\n",
    "        if z[0,i]<= 0.5:\n",
    "            Y_prediction[0,i] = 0\n",
    "        else:\n",
    "            Y_prediction[0,i] = 1\n",
    "\n",
    "    return Y_prediction\n"
   ]
  },
  {
   "cell_type": "code",
   "execution_count": 15,
   "metadata": {},
   "outputs": [],
   "source": [
    "# logistic regression : combining the methods we write before\n",
    "def logistic_regression(x_train, y_train, x_test, y_test, learning_rate ,  num_iterations):\n",
    "    # initialize\n",
    "    dimension =  x_train.shape[0]  # that is 30\n",
    "    w,b = initialize_weights_and_bias(dimension)\n",
    "    # do not change learning rate\n",
    "    parameters, gradients, cost_list = update(w, b, x_train, y_train, learning_rate,num_iterations)\n",
    "    \n",
    "    y_prediction_test = predict(parameters[\"weight\"],parameters[\"bias\"],x_test)\n",
    "\n",
    "    # Print test Errors\n",
    "    print(\"test accuracy: {} %\".format(100 - np.mean(np.abs(y_prediction_test - y_test)) * 100))"
   ]
  },
  {
   "cell_type": "code",
   "execution_count": 16,
   "metadata": {},
   "outputs": [
    {
     "name": "stdout",
     "output_type": "stream",
     "text": [
      "Cost after iteration 0: 0.692360\n",
      "Cost after iteration 10: 0.570539\n",
      "Cost after iteration 20: 0.510995\n",
      "Cost after iteration 30: 0.472210\n",
      "Cost after iteration 40: 0.442623\n",
      "Cost after iteration 50: 0.418237\n",
      "Cost after iteration 60: 0.397345\n",
      "Cost after iteration 70: 0.379065\n",
      "Cost after iteration 80: 0.362863\n",
      "Cost after iteration 90: 0.348376\n",
      "Cost after iteration 100: 0.335335\n",
      "Cost after iteration 110: 0.323530\n",
      "Cost after iteration 120: 0.312793\n",
      "Cost after iteration 130: 0.302985\n",
      "Cost after iteration 140: 0.293990\n",
      "Cost after iteration 150: 0.285712\n",
      "Cost after iteration 160: 0.278069\n",
      "Cost after iteration 170: 0.270989\n",
      "Cost after iteration 180: 0.264414\n",
      "Cost after iteration 190: 0.258291\n",
      "Cost after iteration 200: 0.252575\n",
      "Cost after iteration 210: 0.247227\n",
      "Cost after iteration 220: 0.242212\n",
      "Cost after iteration 230: 0.237501\n",
      "Cost after iteration 240: 0.233067\n",
      "Cost after iteration 250: 0.228886\n",
      "Cost after iteration 260: 0.224937\n",
      "Cost after iteration 270: 0.221202\n",
      "Cost after iteration 280: 0.217663\n",
      "Cost after iteration 290: 0.214306\n"
     ]
    },
    {
     "data": {
      "image/png": "[encoded data removed]",
      "text/plain": [
       "<Figure size 432x288 with 1 Axes>"
      ]
     },
     "metadata": {
      "needs_background": "light"
     },
     "output_type": "display_data"
    },
    {
     "name": "stdout",
     "output_type": "stream",
     "text": [
      "test accuracy: 97.1608832807571 %\n"
     ]
    }
   ],
   "source": [
    "logistic_regression(x_train,y_train,x_test,y_test,learning_rate=1, num_iterations=300)"
   ]
  },
  {
   "cell_type": "code",
   "execution_count": 17,
   "metadata": {},
   "outputs": [
    {
     "name": "stdout",
     "output_type": "stream",
     "text": [
      "Cost after iteration 0: 0.692360\n",
      "Cost after iteration 10: 0.795272\n",
      "Cost after iteration 20: 0.645705\n",
      "Cost after iteration 30: 0.448314\n",
      "Cost after iteration 40: 0.368932\n",
      "Cost after iteration 50: 0.329773\n",
      "Cost after iteration 60: 0.306344\n",
      "Cost after iteration 70: 0.288460\n",
      "Cost after iteration 80: 0.273378\n",
      "Cost after iteration 90: 0.260396\n",
      "Cost after iteration 100: 0.249096\n",
      "Cost after iteration 110: 0.239171\n",
      "Cost after iteration 120: 0.230384\n",
      "Cost after iteration 130: 0.222553\n",
      "Cost after iteration 140: 0.215529\n",
      "Cost after iteration 150: 0.209195\n",
      "Cost after iteration 160: 0.203455\n",
      "Cost after iteration 170: 0.198230\n",
      "Cost after iteration 180: 0.193453\n",
      "Cost after iteration 190: 0.189071\n",
      "Cost after iteration 200: 0.185035\n",
      "Cost after iteration 210: 0.181308\n",
      "Cost after iteration 220: 0.177855\n",
      "Cost after iteration 230: 0.174646\n",
      "Cost after iteration 240: 0.171658\n",
      "Cost after iteration 250: 0.168868\n",
      "Cost after iteration 260: 0.166257\n",
      "Cost after iteration 270: 0.163809\n",
      "Cost after iteration 280: 0.161509\n",
      "Cost after iteration 290: 0.159343\n"
     ]
    },
    {
     "data": {
      "image/png": "[encoded data removed]",
      "text/plain": [
       "<Figure size 432x288 with 1 Axes>"
      ]
     },
     "metadata": {
      "needs_background": "light"
     },
     "output_type": "display_data"
    },
    {
     "name": "stdout",
     "output_type": "stream",
     "text": [
      "test accuracy: 97.94952681388013 %\n"
     ]
    }
   ],
   "source": [
    "logistic_regression(x_train,y_train,x_test,y_test,learning_rate=2, num_iterations=300)"
   ]
  },
  {
   "cell_type": "code",
   "execution_count": 18,
   "metadata": {},
   "outputs": [
    {
     "name": "stdout",
     "output_type": "stream",
     "text": [
      "Cost after iteration 0: 0.692360\n",
      "Cost after iteration 10: 0.795272\n",
      "Cost after iteration 20: 0.645705\n",
      "Cost after iteration 30: 0.448314\n",
      "Cost after iteration 40: 0.368932\n",
      "Cost after iteration 50: 0.329773\n",
      "Cost after iteration 60: 0.306344\n",
      "Cost after iteration 70: 0.288460\n",
      "Cost after iteration 80: 0.273378\n",
      "Cost after iteration 90: 0.260396\n",
      "Cost after iteration 100: 0.249096\n",
      "Cost after iteration 110: 0.239171\n",
      "Cost after iteration 120: 0.230384\n",
      "Cost after iteration 130: 0.222553\n",
      "Cost after iteration 140: 0.215529\n",
      "Cost after iteration 150: 0.209195\n",
      "Cost after iteration 160: 0.203455\n",
      "Cost after iteration 170: 0.198230\n",
      "Cost after iteration 180: 0.193453\n",
      "Cost after iteration 190: 0.189071\n",
      "Cost after iteration 200: 0.185035\n",
      "Cost after iteration 210: 0.181308\n",
      "Cost after iteration 220: 0.177855\n",
      "Cost after iteration 230: 0.174646\n",
      "Cost after iteration 240: 0.171658\n",
      "Cost after iteration 250: 0.168868\n",
      "Cost after iteration 260: 0.166257\n",
      "Cost after iteration 270: 0.163809\n",
      "Cost after iteration 280: 0.161509\n",
      "Cost after iteration 290: 0.159343\n",
      "Cost after iteration 300: 0.157301\n",
      "Cost after iteration 310: 0.155372\n",
      "Cost after iteration 320: 0.153547\n",
      "Cost after iteration 330: 0.151818\n",
      "Cost after iteration 340: 0.150177\n",
      "Cost after iteration 350: 0.148619\n",
      "Cost after iteration 360: 0.147136\n",
      "Cost after iteration 370: 0.145724\n",
      "Cost after iteration 380: 0.144377\n",
      "Cost after iteration 390: 0.143092\n",
      "Cost after iteration 400: 0.141863\n",
      "Cost after iteration 410: 0.140688\n",
      "Cost after iteration 420: 0.139563\n",
      "Cost after iteration 430: 0.138485\n",
      "Cost after iteration 440: 0.137451\n",
      "Cost after iteration 450: 0.136458\n",
      "Cost after iteration 460: 0.135504\n",
      "Cost after iteration 470: 0.134587\n",
      "Cost after iteration 480: 0.133705\n",
      "Cost after iteration 490: 0.132855\n"
     ]
    },
    {
     "data": {
      "image/png": "[encoded data removed]",
      "text/plain": [
       "<Figure size 432x288 with 1 Axes>"
      ]
     },
     "metadata": {
      "needs_background": "light"
     },
     "output_type": "display_data"
    },
    {
     "name": "stdout",
     "output_type": "stream",
     "text": [
      "test accuracy: 97.94952681388013 %\n"
     ]
    }
   ],
   "source": [
    "logistic_regression(x_train,y_train,x_test,y_test,learning_rate=2, num_iterations=500)"
   ]
  },
  {
   "cell_type": "code",
   "execution_count": 19,
   "metadata": {},
   "outputs": [
    {
     "name": "stdout",
     "output_type": "stream",
     "text": [
      "test accuracy: 0.9810725552050473\n"
     ]
    },
    {
     "name": "stderr",
     "output_type": "stream",
     "text": [
      "/opt/conda/lib/python3.6/site-packages/sklearn/linear_model/logistic.py:432: FutureWarning: Default solver will be changed to 'lbfgs' in 0.22. Specify a solver to silence this warning.\n",
      "  FutureWarning)\n"
     ]
    }
   ],
   "source": [
    "#%% logistic regression with sklearn\n",
    "from sklearn.linear_model import LogisticRegression\n",
    "lr = LogisticRegression()\n",
    "lr.fit(x_train.T,y_train.T) \n",
    "print(\"test accuracy: {}\".format(lr.score(x_test.T,y_test.T)))\n",
    "x_train = x_train.T\n",
    "y_train = y_train.T\n",
    "x_test = x_test.T\n",
    "y_test = y_test.T"
   ]
  },
  {
   "cell_type": "markdown",
   "metadata": {},
   "source": [
    "We achieve the highest test accuracy with sklearn that is %98,1"
   ]
  }
 ],
 "metadata": {
  "kernelspec": {
   "display_name": "Python 3",
   "language": "python",
   "name": "python3"
  },
  "language_info": {
   "codemirror_mode": {
    "name": "ipython",
    "version": 3
   },
   "file_extension": ".py",
   "mimetype": "text/x-python",
   "name": "python",
   "nbconvert_exporter": "python",
   "pygments_lexer": "ipython3",
   "version": "3.6.6"
  }
 },
 "nbformat": 4,
 "nbformat_minor": 1
}
