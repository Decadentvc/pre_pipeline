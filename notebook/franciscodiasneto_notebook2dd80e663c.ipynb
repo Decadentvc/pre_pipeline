{
 "cells": [
  {
   "cell_type": "code",
   "execution_count": 1,
   "metadata": {
    "_cell_guid": "b1076dfc-b9ad-4769-8c92-a6c4dae69d19",
    "_uuid": "8f2839f25d086af736a60e9eeb907d3b93b6e0e5",
    "execution": {
     "iopub.execute_input": "2020-09-07T16:21:56.540436Z",
     "iopub.status.busy": "2020-09-07T16:21:56.539605Z",
     "iopub.status.idle": "2020-09-07T16:21:56.556500Z",
     "shell.execute_reply": "2020-09-07T16:21:56.557223Z"
    },
    "papermill": {
     "duration": 0.037813,
     "end_time": "2020-09-07T16:21:56.557401",
     "exception": false,
     "start_time": "2020-09-07T16:21:56.519588",
     "status": "completed"
    },
    "tags": []
   },
   "outputs": [
    {
     "name": "stdout",
     "output_type": "stream",
     "text": [
      "/kaggle/input/heart-disease-uci/heart.csv\n"
     ]
    }
   ],
   "source": [
    "# This Python 3 environment comes with many helpful analytics libraries installed\n",
    "# It is defined by the kaggle/python Docker image: https://github.com/kaggle/docker-python\n",
    "# For example, here's several helpful packages to load\n",
    "\n",
    "import numpy as np # linear algebra\n",
    "import pandas as pd # data processing, CSV file I/O (e.g. pd.read_csv)\n",
    "\n",
    "# Input data files are available in the read-only \"../input/\" directory\n",
    "# For example, running this (by clicking run or pressing Shift+Enter) will list all files under the input directory\n",
    "\n",
    "import os\n",
    "for dirname, _, filenames in os.walk('/kaggle/input'):\n",
    "    for filename in filenames:\n",
    "        print(os.path.join(dirname, filename))\n",
    "\n",
    "# You can write up to 5GB to the current directory (/kaggle/working/) that gets preserved as output when you create a version using \"Save & Run All\" \n",
    "# You can also write temporary files to /kaggle/temp/, but they won't be saved outside of the current session"
   ]
  },
  {
   "cell_type": "code",
   "execution_count": 2,
   "metadata": {
    "_cell_guid": "79c7e3d0-c299-4dcb-8224-4455121ee9b0",
    "_uuid": "d629ff2d2480ee46fbb7e2d37f6b5fab8052498a",
    "execution": {
     "iopub.execute_input": "2020-09-07T16:21:56.588813Z",
     "iopub.status.busy": "2020-09-07T16:21:56.588051Z",
     "iopub.status.idle": "2020-09-07T16:21:58.036836Z",
     "shell.execute_reply": "2020-09-07T16:21:58.036048Z"
    },
    "papermill": {
     "duration": 1.466888,
     "end_time": "2020-09-07T16:21:58.037009",
     "exception": false,
     "start_time": "2020-09-07T16:21:56.570121",
     "status": "completed"
    },
    "tags": []
   },
   "outputs": [],
   "source": [
    "#importar bibliotecas\n",
    "import matplotlib.pyplot as plt\n",
    "from sklearn.linear_model import LogisticRegression\n",
    "from sklearn.model_selection import train_test_split\n",
    "from sklearn.metrics import classification_report, accuracy_score\n",
    "import seaborn as sns"
   ]
  },
  {
   "cell_type": "code",
   "execution_count": 3,
   "metadata": {
    "execution": {
     "iopub.execute_input": "2020-09-07T16:21:58.074403Z",
     "iopub.status.busy": "2020-09-07T16:21:58.073620Z",
     "iopub.status.idle": "2020-09-07T16:21:58.090894Z",
     "shell.execute_reply": "2020-09-07T16:21:58.090094Z"
    },
    "papermill": {
     "duration": 0.04217,
     "end_time": "2020-09-07T16:21:58.091055",
     "exception": false,
     "start_time": "2020-09-07T16:21:58.048885",
     "status": "completed"
    },
    "tags": []
   },
   "outputs": [],
   "source": [
    "#carregar dados para o dataframe\n",
    "df_heart=pd.read_csv('../input/heart-disease-uci/heart.csv', sep=',')"
   ]
  },
  {
   "cell_type": "code",
   "execution_count": 4,
   "metadata": {
    "execution": {
     "iopub.execute_input": "2020-09-07T16:21:58.141582Z",
     "iopub.status.busy": "2020-09-07T16:21:58.128723Z",
     "iopub.status.idle": "2020-09-07T16:21:58.146731Z",
     "shell.execute_reply": "2020-09-07T16:21:58.145703Z"
    },
    "papermill": {
     "duration": 0.042963,
     "end_time": "2020-09-07T16:21:58.146920",
     "exception": false,
     "start_time": "2020-09-07T16:21:58.103957",
     "status": "completed"
    },
    "tags": []
   },
   "outputs": [
    {
     "name": "stdout",
     "output_type": "stream",
     "text": [
      "<class 'pandas.core.frame.DataFrame'>\n",
      "RangeIndex: 303 entries, 0 to 302\n",
      "Data columns (total 14 columns):\n",
      " #   Column    Non-Null Count  Dtype  \n",
      "---  ------    --------------  -----  \n",
      " 0   age       303 non-null    int64  \n",
      " 1   sex       303 non-null    int64  \n",
      " 2   cp        303 non-null    int64  \n",
      " 3   trestbps  303 non-null    int64  \n",
      " 4   chol      303 non-null    int64  \n",
      " 5   fbs       303 non-null    int64  \n",
      " 6   restecg   303 non-null    int64  \n",
      " 7   thalach   303 non-null    int64  \n",
      " 8   exang     303 non-null    int64  \n",
      " 9   oldpeak   303 non-null    float64\n",
      " 10  slope     303 non-null    int64  \n",
      " 11  ca        303 non-null    int64  \n",
      " 12  thal      303 non-null    int64  \n",
      " 13  target    303 non-null    int64  \n",
      "dtypes: float64(1), int64(13)\n",
      "memory usage: 33.3 KB\n"
     ]
    }
   ],
   "source": [
    "#verificar os tipos de dados\n",
    "df_heart.info()"
   ]
  },
  {
   "cell_type": "code",
   "execution_count": 5,
   "metadata": {
    "execution": {
     "iopub.execute_input": "2020-09-07T16:21:58.179480Z",
     "iopub.status.busy": "2020-09-07T16:21:58.178438Z",
     "iopub.status.idle": "2020-09-07T16:21:58.183385Z",
     "shell.execute_reply": "2020-09-07T16:21:58.182378Z"
    },
    "papermill": {
     "duration": 0.022906,
     "end_time": "2020-09-07T16:21:58.183556",
     "exception": false,
     "start_time": "2020-09-07T16:21:58.160650",
     "status": "completed"
    },
    "tags": []
   },
   "outputs": [
    {
     "name": "stdout",
     "output_type": "stream",
     "text": [
      "(303, 14)\n"
     ]
    }
   ],
   "source": [
    "#verificar o shape\n",
    "print (df_heart.shape)"
   ]
  },
  {
   "cell_type": "code",
   "execution_count": 6,
   "metadata": {
    "execution": {
     "iopub.execute_input": "2020-09-07T16:21:58.218591Z",
     "iopub.status.busy": "2020-09-07T16:21:58.217630Z",
     "iopub.status.idle": "2020-09-07T16:21:58.245135Z",
     "shell.execute_reply": "2020-09-07T16:21:58.244328Z"
    },
    "papermill": {
     "duration": 0.047887,
     "end_time": "2020-09-07T16:21:58.245273",
     "exception": false,
     "start_time": "2020-09-07T16:21:58.197386",
     "status": "completed"
    },
    "tags": []
   },
   "outputs": [
    {
     "name": "stdout",
     "output_type": "stream",
     "text": [
      "Series([], dtype: int64)\n"
     ]
    }
   ],
   "source": [
    "#verificar quantidade  de instancias nulas por atributo\n",
    "nans = df_heart.isna().sum()\n",
    "print(nans[nans > 0])"
   ]
  },
  {
   "cell_type": "code",
   "execution_count": 7,
   "metadata": {
    "execution": {
     "iopub.execute_input": "2020-09-07T16:21:58.282078Z",
     "iopub.status.busy": "2020-09-07T16:21:58.281198Z",
     "iopub.status.idle": "2020-09-07T16:21:58.284978Z",
     "shell.execute_reply": "2020-09-07T16:21:58.284259Z"
    },
    "papermill": {
     "duration": 0.025706,
     "end_time": "2020-09-07T16:21:58.285101",
     "exception": false,
     "start_time": "2020-09-07T16:21:58.259395",
     "status": "completed"
    },
    "tags": []
   },
   "outputs": [],
   "source": [
    "#separar os atributos idade e frequencia  cardiaca maxima alcançada\n",
    "df_heart_clean = df_heart[['age','thalach']].copy()"
   ]
  },
  {
   "cell_type": "code",
   "execution_count": 8,
   "metadata": {
    "execution": {
     "iopub.execute_input": "2020-09-07T16:21:58.321314Z",
     "iopub.status.busy": "2020-09-07T16:21:58.320482Z",
     "iopub.status.idle": "2020-09-07T16:21:58.586165Z",
     "shell.execute_reply": "2020-09-07T16:21:58.585460Z"
    },
    "papermill": {
     "duration": 0.287,
     "end_time": "2020-09-07T16:21:58.586298",
     "exception": false,
     "start_time": "2020-09-07T16:21:58.299298",
     "status": "completed"
    },
    "tags": []
   },
   "outputs": [
    {
     "data": {
      "image/png": "[encoded data removed]",
      "text/plain": [
       "<Figure size 432x360 with 2 Axes>"
      ]
     },
     "metadata": {
      "needs_background": "light"
     },
     "output_type": "display_data"
    }
   ],
   "source": [
    "#verificar a correlação entre a idade e a frequencia cardiaca máxima alcançada\n",
    "plt.figure(figsize=(6,5))\n",
    "df_corr_ = df_heart_clean.corr()\n",
    "ax_ = sns.heatmap(df_corr_, annot=True)\n",
    "bottom, top = ax_.get_ylim()\n",
    "ax_.set_ylim(bottom + 0.5, top - 0.5)\n",
    "plt.show()"
   ]
  },
  {
   "cell_type": "code",
   "execution_count": 9,
   "metadata": {
    "execution": {
     "iopub.execute_input": "2020-09-07T16:21:58.628330Z",
     "iopub.status.busy": "2020-09-07T16:21:58.627480Z",
     "iopub.status.idle": "2020-09-07T16:21:58.631051Z",
     "shell.execute_reply": "2020-09-07T16:21:58.630326Z"
    },
    "papermill": {
     "duration": 0.028168,
     "end_time": "2020-09-07T16:21:58.631180",
     "exception": false,
     "start_time": "2020-09-07T16:21:58.603012",
     "status": "completed"
    },
    "tags": []
   },
   "outputs": [],
   "source": [
    "# Separar os dados entre treino e teste')\n",
    "X = df_heart.drop('target', axis=1)\n",
    "Y = df_heart['target']\n",
    "split_test_size = 0.3 #Definindo a taxa de split\n",
    "X_treino, X_teste, Y_treino, Y_teste = train_test_split(X, Y, test_size = split_test_size)"
   ]
  },
  {
   "cell_type": "code",
   "execution_count": 10,
   "metadata": {
    "execution": {
     "iopub.execute_input": "2020-09-07T16:21:58.670601Z",
     "iopub.status.busy": "2020-09-07T16:21:58.669688Z",
     "iopub.status.idle": "2020-09-07T16:21:58.886092Z",
     "shell.execute_reply": "2020-09-07T16:21:58.885309Z"
    },
    "papermill": {
     "duration": 0.239964,
     "end_time": "2020-09-07T16:21:58.886218",
     "exception": false,
     "start_time": "2020-09-07T16:21:58.646254",
     "status": "completed"
    },
    "tags": []
   },
   "outputs": [],
   "source": [
    "#utilizar o modelo Regressão Logística\n",
    "modelo = LogisticRegression(solver='lbfgs', max_iter=10000) #criar o modelo\n",
    "modelo.fit(X_treino, Y_treino.ravel()) #treinar o modelo\n",
    "lr_predict_test = modelo.predict(X_teste) #aplicar predição com os dados de teste"
   ]
  },
  {
   "cell_type": "code",
   "execution_count": 11,
   "metadata": {
    "execution": {
     "iopub.execute_input": "2020-09-07T16:21:58.924025Z",
     "iopub.status.busy": "2020-09-07T16:21:58.923246Z",
     "iopub.status.idle": "2020-09-07T16:21:58.926251Z",
     "shell.execute_reply": "2020-09-07T16:21:58.926850Z"
    },
    "papermill": {
     "duration": 0.025444,
     "end_time": "2020-09-07T16:21:58.927025",
     "exception": false,
     "start_time": "2020-09-07T16:21:58.901581",
     "status": "completed"
    },
    "tags": []
   },
   "outputs": [
    {
     "name": "stdout",
     "output_type": "stream",
     "text": [
      "Acurácia da RL:  0.8791208791208791\n"
     ]
    }
   ],
   "source": [
    "#medir a acuracia do modelo sobre os dados de teste\n",
    "acuracia = accuracy_score(Y_teste, lr_predict_test)\n",
    "print('Acurácia da RL: ',acuracia)"
   ]
  },
  {
   "cell_type": "code",
   "execution_count": 12,
   "metadata": {
    "execution": {
     "iopub.execute_input": "2020-09-07T16:21:58.980335Z",
     "iopub.status.busy": "2020-09-07T16:21:58.979539Z",
     "iopub.status.idle": "2020-09-07T16:21:59.024520Z",
     "shell.execute_reply": "2020-09-07T16:21:59.025188Z"
    },
    "papermill": {
     "duration": 0.082291,
     "end_time": "2020-09-07T16:21:59.025345",
     "exception": false,
     "start_time": "2020-09-07T16:21:58.943054",
     "status": "completed"
    },
    "tags": []
   },
   "outputs": [
    {
     "name": "stdout",
     "output_type": "stream",
     "text": [
      "Matriz de Confusão: \n",
      "Predito   0   1  All\n",
      "Real                \n",
      "0        34   9   43\n",
      "1         2  46   48\n",
      "All      36  55   91\n"
     ]
    }
   ],
   "source": [
    "#criar Confusion Matrix\n",
    "print('Matriz de Confusão: ')\n",
    "print(pd.crosstab(Y_teste,lr_predict_test,rownames=['Real'],colnames=['Predito'],margins=True))"
   ]
  },
  {
   "cell_type": "code",
   "execution_count": 13,
   "metadata": {
    "execution": {
     "iopub.execute_input": "2020-09-07T16:21:59.065264Z",
     "iopub.status.busy": "2020-09-07T16:21:59.064549Z",
     "iopub.status.idle": "2020-09-07T16:21:59.074281Z",
     "shell.execute_reply": "2020-09-07T16:21:59.073691Z"
    },
    "papermill": {
     "duration": 0.031955,
     "end_time": "2020-09-07T16:21:59.074408",
     "exception": false,
     "start_time": "2020-09-07T16:21:59.042453",
     "status": "completed"
    },
    "tags": []
   },
   "outputs": [
    {
     "name": "stdout",
     "output_type": "stream",
     "text": [
      "Relatório de Classificação: \n",
      "              precision    recall  f1-score   support\n",
      "\n",
      "           0       0.94      0.79      0.86        43\n",
      "           1       0.84      0.96      0.89        48\n",
      "\n",
      "    accuracy                           0.88        91\n",
      "   macro avg       0.89      0.87      0.88        91\n",
      "weighted avg       0.89      0.88      0.88        91\n",
      "\n"
     ]
    }
   ],
   "source": [
    "#exibir relatorio de classificação\n",
    "print('Relatório de Classificação: ')\n",
    "print(classification_report(Y_teste,lr_predict_test))"
   ]
  }
 ],
 "metadata": {
  "kernelspec": {
   "display_name": "Python 3",
   "language": "python",
   "name": "python3"
  },
  "language_info": {
   "codemirror_mode": {
    "name": "ipython",
    "version": 3
   },
   "file_extension": ".py",
   "mimetype": "text/x-python",
   "name": "python",
   "nbconvert_exporter": "python",
   "pygments_lexer": "ipython3",
   "version": "3.7.6"
  },
  "papermill": {
   "duration": 7.72349,
   "end_time": "2020-09-07T16:21:59.202042",
   "environment_variables": {},
   "exception": null,
   "input_path": "__notebook__.ipynb",
   "output_path": "__notebook__.ipynb",
   "parameters": {},
   "start_time": "2020-09-07T16:21:51.478552",
   "version": "2.1.0"
  }
 },
 "nbformat": 4,
 "nbformat_minor": 4
}
