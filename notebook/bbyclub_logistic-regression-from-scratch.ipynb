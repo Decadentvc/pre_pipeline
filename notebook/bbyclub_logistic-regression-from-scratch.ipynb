{
 "cells": [
  {
   "cell_type": "code",
   "execution_count": 1,
   "metadata": {
    "_cell_guid": "b1076dfc-b9ad-4769-8c92-a6c4dae69d19",
    "_uuid": "8f2839f25d086af736a60e9eeb907d3b93b6e0e5"
   },
   "outputs": [
    {
     "name": "stdout",
     "output_type": "stream",
     "text": [
      "['heart.csv']\n"
     ]
    }
   ],
   "source": [
    "# This Python 3 environment comes with many helpful analytics libraries installed\n",
    "# It is defined by the kaggle/python docker image: https://github.com/kaggle/docker-python\n",
    "# For example, here's several helpful packages to load in \n",
    "\n",
    "import numpy as np\n",
    "import pandas as pd\n",
    "import matplotlib.pyplot as plt\n",
    "import warnings \n",
    "warnings.filterwarnings(\"ignore\")\n",
    "\n",
    "# Input data files are available in the \"../input/\" directory.\n",
    "# For example, running this (by clicking run or pressing Shift+Enter) will list the files in the input directory\n",
    "\n",
    "import os\n",
    "print(os.listdir(\"../input\"))\n",
    "\n",
    "# Any results you write to the current directory are saved as output."
   ]
  },
  {
   "cell_type": "code",
   "execution_count": 2,
   "metadata": {},
   "outputs": [
    {
     "name": "stdout",
     "output_type": "stream",
     "text": [
      "<class 'pandas.core.frame.DataFrame'>\n",
      "RangeIndex: 303 entries, 0 to 302\n",
      "Data columns (total 14 columns):\n",
      "age         303 non-null int64\n",
      "sex         303 non-null int64\n",
      "cp          303 non-null int64\n",
      "trestbps    303 non-null int64\n",
      "chol        303 non-null int64\n",
      "fbs         303 non-null int64\n",
      "restecg     303 non-null int64\n",
      "thalach     303 non-null int64\n",
      "exang       303 non-null int64\n",
      "oldpeak     303 non-null float64\n",
      "slope       303 non-null int64\n",
      "ca          303 non-null int64\n",
      "thal        303 non-null int64\n",
      "target      303 non-null int64\n",
      "dtypes: float64(1), int64(13)\n",
      "memory usage: 33.2 KB\n"
     ]
    }
   ],
   "source": [
    "heart=pd.read_csv('../input/heart.csv')\n",
    "heart.info()\n",
    "\n",
    "x=heart.drop(\"target\",axis=1)\n",
    "y=heart.target.values"
   ]
  },
  {
   "cell_type": "code",
   "execution_count": 3,
   "metadata": {
    "_cell_guid": "79c7e3d0-c299-4dcb-8224-4455121ee9b0",
    "_uuid": "d629ff2d2480ee46fbb7e2d37f6b5fab8052498a"
   },
   "outputs": [
    {
     "name": "stdout",
     "output_type": "stream",
     "text": [
      "x_train:  (13, 242)\n",
      "x_test:  (13, 61)\n",
      "y_train:  (242,)\n",
      "y_test:  (61,)\n"
     ]
    }
   ],
   "source": [
    "from sklearn.model_selection import train_test_split\n",
    "x=(x-np.min(x))/(np.max(x)-np.min(x)).values\n",
    "x_train,x_test,y_train,y_test= train_test_split(x,y,test_size=0.2,random_state=42)\n",
    "\n",
    "x_test=x_test.T\n",
    "x_train=x_train.T\n",
    "y_test=y_test.T \n",
    "y_train=y_train.T\n",
    "\n",
    "print(\"x_train: \",x_train.shape)\n",
    "print(\"x_test: \",x_test.shape)\n",
    "print(\"y_train: \",y_train.shape)\n",
    "print(\"y_test: \",y_test.shape)"
   ]
  },
  {
   "cell_type": "code",
   "execution_count": 4,
   "metadata": {},
   "outputs": [],
   "source": [
    "class LogReg():\n",
    "    def initialize_weights_and_bias(self,dimension):\n",
    "        w=np.full((dimension,1),0.01) #initial weight values\n",
    "        b=0.0 #initial bias values\n",
    "        return w,b\n",
    "    \n",
    "    def sigmoid(self,z):\n",
    "        y_head=1/(1+np.exp(-z))\n",
    "        return y_head\n",
    "\n",
    "    def forward_backward_propagation(self,w,b,x_train,y_train):\n",
    "        z=np.dot(w.T,x_train)+b #our model\n",
    "        y_head=self.sigmoid(z)        \n",
    "        loss=-y_train*np.log(y_head)-(1-y_train)*np.log(1-y_head)\n",
    "        cost=np.sum(loss)/x_train.shape[1] #cost function\n",
    "        \n",
    "        #backward propagation\n",
    "        derivative_weights=np.dot(x_train,(y_head-y_train).T)/x_train.shape[1]\n",
    "        derivative_bias= np.sum(y_head-y_train)/x_train.shape[1]\n",
    "        \n",
    "        gradients={\"derivative_weight\": derivative_weights, \"derivative_bias\": derivative_bias}\n",
    "        return cost,gradients\n",
    "    def update(self,w,b,x_train,y_train,learning_rate,number_of_iteration):\n",
    "        self.cost_list=[]\n",
    "        for i in range (number_of_iteration):\n",
    "            cost,gradients=self.forward_backward_propagation(w,b,x_train,y_train)\n",
    "            self.cost_list.append(cost)\n",
    "            \n",
    "            w=w-learning_rate*gradients[\"derivative_weight\"]\n",
    "            b=b-learning_rate*gradients[\"derivative_bias\"]\n",
    "        parameters={\"weight\":w, \"bias\":b}\n",
    "        return parameters,gradients,self.cost_list\n",
    "    def predict(self,w,b,x_test):\n",
    "        z=self.sigmoid(np.dot(w.T,x_test)+b)\n",
    "        Y_prediction=np.zeros((1,x_test.shape[1]))\n",
    "        for i in range (z.shape[1]):\n",
    "            if z[0,1]<=0.5:\n",
    "                Y_prediction[0,i]=0\n",
    "            else:\n",
    "                Y_prediction[0,i]=1\n",
    "        return Y_prediction\n",
    "#    def score(self,x_test,y_test):\n",
    "#        y_head=self.predict(x_test)\n",
    "#        return 1-np.mean(np.abs(y_head-y_test))"
   ]
  },
  {
   "cell_type": "code",
   "execution_count": 5,
   "metadata": {},
   "outputs": [
    {
     "name": "stdout",
     "output_type": "stream",
     "text": [
      "test accuracy: 52.459016393442624 %\n",
      "test accuracy 0.8524590163934426\n"
     ]
    },
    {
     "data": {
      "image/png": "[encoded data removed]",
      "text/plain": [
       "<Figure size 720x504 with 1 Axes>"
      ]
     },
     "metadata": {
      "needs_background": "light"
     },
     "output_type": "display_data"
    }
   ],
   "source": [
    "log_reg=LogReg()\n",
    "dimension=x_train.shape[0]\n",
    "w,b = log_reg.initialize_weights_and_bias(dimension)\n",
    "parameters,gradients,cost_list= log_reg.update(w,b,x_train,y_train,0.1,300)\n",
    "y_prediction_test=log_reg.predict(parameters[\"weight\"],parameters[\"bias\"],x_test)\n",
    "print(\"test accuracy: {} %\".format(100-np.mean(np.abs(y_prediction_test-y_test))*100))\n",
    "#print(\"test accuracy: {} %\".format(log_reg.score(x_test,y_test)))\n",
    "\n",
    "from sklearn.linear_model import LogisticRegression\n",
    "lr=LogisticRegression()\n",
    "lr.fit(x_train.T,y_train.T)\n",
    "print(\"test accuracy {}\".format(lr.score(x_test.T,y_test.T)))\n",
    "x_train = x_train.T\n",
    "y_train = y_train.T\n",
    "x_test = x_test.T\n",
    "y_test = y_test.T\n",
    "# plt.figure(figsize=(10,7))\n",
    "# plt.plot(np.arange(len(log_reg.cost_list)),np.array(log_reg.cost_list))\n",
    "# plt.title(\"Change of Cost Function\")\n",
    "# plt.ylabel(\"Value of Cost Function\")\n",
    "# plt.xlabel(\"Number of Iteration\")\n",
    "# plt.show()"
   ]
  }
 ],
 "metadata": {
  "kernelspec": {
   "display_name": "Python 3",
   "language": "python",
   "name": "python3"
  },
  "language_info": {
   "codemirror_mode": {
    "name": "ipython",
    "version": 3
   },
   "file_extension": ".py",
   "mimetype": "text/x-python",
   "name": "python",
   "nbconvert_exporter": "python",
   "pygments_lexer": "ipython3",
   "version": "3.6.6"
  }
 },
 "nbformat": 4,
 "nbformat_minor": 1
}
