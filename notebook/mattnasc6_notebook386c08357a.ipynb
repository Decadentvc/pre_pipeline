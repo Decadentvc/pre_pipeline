{
 "cells": [
  {
   "cell_type": "code",
   "execution_count": 1,
   "metadata": {
    "_cell_guid": "b1076dfc-b9ad-4769-8c92-a6c4dae69d19",
    "_uuid": "8f2839f25d086af736a60e9eeb907d3b93b6e0e5",
    "execution": {
     "iopub.execute_input": "2020-09-09T13:45:33.640030Z",
     "iopub.status.busy": "2020-09-09T13:45:33.639390Z",
     "iopub.status.idle": "2020-09-09T13:45:33.651315Z",
     "shell.execute_reply": "2020-09-09T13:45:33.650685Z"
    },
    "papermill": {
     "duration": 0.029548,
     "end_time": "2020-09-09T13:45:33.651445",
     "exception": false,
     "start_time": "2020-09-09T13:45:33.621897",
     "status": "completed"
    },
    "tags": []
   },
   "outputs": [
    {
     "name": "stdout",
     "output_type": "stream",
     "text": [
      "/kaggle/input/telco-customer-churn/WA_Fn-UseC_-Telco-Customer-Churn.csv\n"
     ]
    }
   ],
   "source": [
    "# This Python 3 environment comes with many helpful analytics libraries installed\n",
    "# It is defined by the kaggle/python Docker image: https://github.com/kaggle/docker-python\n",
    "# For example, here's several helpful packages to load\n",
    "\n",
    "import numpy as np # linear algebra\n",
    "import pandas as pd # data processing, CSV file I/O (e.g. pd.read_csv)\n",
    "\n",
    "# Input data files are available in the read-only \"../input/\" directory\n",
    "# For example, running this (by clicking run or pressing Shift+Enter) will list all files under the input directory\n",
    "\n",
    "import os\n",
    "for dirname, _, filenames in os.walk('/kaggle/input'):\n",
    "    for filename in filenames:\n",
    "        print(os.path.join(dirname, filename))\n",
    "\n",
    "# You can write up to 5GB to the current directory (/kaggle/working/) that gets preserved as output when you create a version using \"Save & Run All\" \n",
    "# You can also write temporary files to /kaggle/temp/, but they won't be saved outside of the current session"
   ]
  },
  {
   "cell_type": "code",
   "execution_count": 2,
   "metadata": {
    "execution": {
     "iopub.execute_input": "2020-09-09T13:45:33.684596Z",
     "iopub.status.busy": "2020-09-09T13:45:33.683642Z",
     "iopub.status.idle": "2020-09-09T13:45:33.686573Z",
     "shell.execute_reply": "2020-09-09T13:45:33.686014Z"
    },
    "papermill": {
     "duration": 0.020938,
     "end_time": "2020-09-09T13:45:33.686694",
     "exception": false,
     "start_time": "2020-09-09T13:45:33.665756",
     "status": "completed"
    },
    "tags": []
   },
   "outputs": [],
   "source": [
    "import pandas as pd"
   ]
  },
  {
   "cell_type": "code",
   "execution_count": 3,
   "metadata": {
    "_cell_guid": "79c7e3d0-c299-4dcb-8224-4455121ee9b0",
    "_uuid": "d629ff2d2480ee46fbb7e2d37f6b5fab8052498a",
    "execution": {
     "iopub.execute_input": "2020-09-09T13:45:33.718049Z",
     "iopub.status.busy": "2020-09-09T13:45:33.717070Z",
     "iopub.status.idle": "2020-09-09T13:45:33.721489Z",
     "shell.execute_reply": "2020-09-09T13:45:33.721961Z"
    },
    "papermill": {
     "duration": 0.021876,
     "end_time": "2020-09-09T13:45:33.722105",
     "exception": false,
     "start_time": "2020-09-09T13:45:33.700229",
     "status": "completed"
    },
    "tags": []
   },
   "outputs": [],
   "source": [
    "directory = '../input/telco-customer-churn/WA_Fn-UseC_-Telco-Customer-Churn.csv'"
   ]
  },
  {
   "cell_type": "code",
   "execution_count": 4,
   "metadata": {
    "execution": {
     "iopub.execute_input": "2020-09-09T13:45:33.754372Z",
     "iopub.status.busy": "2020-09-09T13:45:33.753737Z",
     "iopub.status.idle": "2020-09-09T13:45:33.821829Z",
     "shell.execute_reply": "2020-09-09T13:45:33.822572Z"
    },
    "papermill": {
     "duration": 0.084832,
     "end_time": "2020-09-09T13:45:33.822719",
     "exception": false,
     "start_time": "2020-09-09T13:45:33.737887",
     "status": "completed"
    },
    "tags": []
   },
   "outputs": [
    {
     "data": {
      "text/plain": [
       "(7043, 21)"
      ]
     },
     "execution_count": 4,
     "metadata": {},
     "output_type": "execute_result"
    }
   ],
   "source": [
    "# Lendo a base de dados.\n",
    "data = pd.read_csv(directory)\n",
    "data.shape"
   ]
  },
  {
   "cell_type": "code",
   "execution_count": 5,
   "metadata": {
    "execution": {
     "iopub.execute_input": "2020-09-09T13:45:33.855811Z",
     "iopub.status.busy": "2020-09-09T13:45:33.855032Z",
     "iopub.status.idle": "2020-09-09T13:45:33.895887Z",
     "shell.execute_reply": "2020-09-09T13:45:33.896385Z"
    },
    "papermill": {
     "duration": 0.058945,
     "end_time": "2020-09-09T13:45:33.896538",
     "exception": false,
     "start_time": "2020-09-09T13:45:33.837593",
     "status": "completed"
    },
    "tags": []
   },
   "outputs": [
    {
     "data": {
      "text/html": [
       "<div>\n",
       "<style scoped>\n",
       "    .dataframe tbody tr th:only-of-type {\n",
       "        vertical-align: middle;\n",
       "    }\n",
       "\n",
       "    .dataframe tbody tr th {\n",
       "        vertical-align: top;\n",
       "    }\n",
       "\n",
       "    .dataframe thead th {\n",
       "        text-align: right;\n",
       "    }\n",
       "</style>\n",
       "<table border=\"1\" class=\"dataframe\">\n",
       "  <thead>\n",
       "    <tr style=\"text-align: right;\">\n",
       "      <th></th>\n",
       "      <th>customerID</th>\n",
       "      <th>gender</th>\n",
       "      <th>SeniorCitizen</th>\n",
       "      <th>Partner</th>\n",
       "      <th>Dependents</th>\n",
       "      <th>tenure</th>\n",
       "      <th>PhoneService</th>\n",
       "      <th>MultipleLines</th>\n",
       "      <th>InternetService</th>\n",
       "      <th>OnlineSecurity</th>\n",
       "      <th>...</th>\n",
       "      <th>DeviceProtection</th>\n",
       "      <th>TechSupport</th>\n",
       "      <th>StreamingTV</th>\n",
       "      <th>StreamingMovies</th>\n",
       "      <th>Contract</th>\n",
       "      <th>PaperlessBilling</th>\n",
       "      <th>PaymentMethod</th>\n",
       "      <th>MonthlyCharges</th>\n",
       "      <th>TotalCharges</th>\n",
       "      <th>Churn</th>\n",
       "    </tr>\n",
       "  </thead>\n",
       "  <tbody>\n",
       "    <tr>\n",
       "      <th>0</th>\n",
       "      <td>7590-VHVEG</td>\n",
       "      <td>Female</td>\n",
       "      <td>0</td>\n",
       "      <td>Yes</td>\n",
       "      <td>No</td>\n",
       "      <td>1</td>\n",
       "      <td>No</td>\n",
       "      <td>No phone service</td>\n",
       "      <td>DSL</td>\n",
       "      <td>No</td>\n",
       "      <td>...</td>\n",
       "      <td>No</td>\n",
       "      <td>No</td>\n",
       "      <td>No</td>\n",
       "      <td>No</td>\n",
       "      <td>Month-to-month</td>\n",
       "      <td>Yes</td>\n",
       "      <td>Electronic check</td>\n",
       "      <td>29.85</td>\n",
       "      <td>29.85</td>\n",
       "      <td>No</td>\n",
       "    </tr>\n",
       "    <tr>\n",
       "      <th>1</th>\n",
       "      <td>5575-GNVDE</td>\n",
       "      <td>Male</td>\n",
       "      <td>0</td>\n",
       "      <td>No</td>\n",
       "      <td>No</td>\n",
       "      <td>34</td>\n",
       "      <td>Yes</td>\n",
       "      <td>No</td>\n",
       "      <td>DSL</td>\n",
       "      <td>Yes</td>\n",
       "      <td>...</td>\n",
       "      <td>Yes</td>\n",
       "      <td>No</td>\n",
       "      <td>No</td>\n",
       "      <td>No</td>\n",
       "      <td>One year</td>\n",
       "      <td>No</td>\n",
       "      <td>Mailed check</td>\n",
       "      <td>56.95</td>\n",
       "      <td>1889.5</td>\n",
       "      <td>No</td>\n",
       "    </tr>\n",
       "    <tr>\n",
       "      <th>2</th>\n",
       "      <td>3668-QPYBK</td>\n",
       "      <td>Male</td>\n",
       "      <td>0</td>\n",
       "      <td>No</td>\n",
       "      <td>No</td>\n",
       "      <td>2</td>\n",
       "      <td>Yes</td>\n",
       "      <td>No</td>\n",
       "      <td>DSL</td>\n",
       "      <td>Yes</td>\n",
       "      <td>...</td>\n",
       "      <td>No</td>\n",
       "      <td>No</td>\n",
       "      <td>No</td>\n",
       "      <td>No</td>\n",
       "      <td>Month-to-month</td>\n",
       "      <td>Yes</td>\n",
       "      <td>Mailed check</td>\n",
       "      <td>53.85</td>\n",
       "      <td>108.15</td>\n",
       "      <td>Yes</td>\n",
       "    </tr>\n",
       "    <tr>\n",
       "      <th>3</th>\n",
       "      <td>7795-CFOCW</td>\n",
       "      <td>Male</td>\n",
       "      <td>0</td>\n",
       "      <td>No</td>\n",
       "      <td>No</td>\n",
       "      <td>45</td>\n",
       "      <td>No</td>\n",
       "      <td>No phone service</td>\n",
       "      <td>DSL</td>\n",
       "      <td>Yes</td>\n",
       "      <td>...</td>\n",
       "      <td>Yes</td>\n",
       "      <td>Yes</td>\n",
       "      <td>No</td>\n",
       "      <td>No</td>\n",
       "      <td>One year</td>\n",
       "      <td>No</td>\n",
       "      <td>Bank transfer (automatic)</td>\n",
       "      <td>42.30</td>\n",
       "      <td>1840.75</td>\n",
       "      <td>No</td>\n",
       "    </tr>\n",
       "    <tr>\n",
       "      <th>4</th>\n",
       "      <td>9237-HQITU</td>\n",
       "      <td>Female</td>\n",
       "      <td>0</td>\n",
       "      <td>No</td>\n",
       "      <td>No</td>\n",
       "      <td>2</td>\n",
       "      <td>Yes</td>\n",
       "      <td>No</td>\n",
       "      <td>Fiber optic</td>\n",
       "      <td>No</td>\n",
       "      <td>...</td>\n",
       "      <td>No</td>\n",
       "      <td>No</td>\n",
       "      <td>No</td>\n",
       "      <td>No</td>\n",
       "      <td>Month-to-month</td>\n",
       "      <td>Yes</td>\n",
       "      <td>Electronic check</td>\n",
       "      <td>70.70</td>\n",
       "      <td>151.65</td>\n",
       "      <td>Yes</td>\n",
       "    </tr>\n",
       "  </tbody>\n",
       "</table>\n",
       "<p>5 rows × 21 columns</p>\n",
       "</div>"
      ],
      "text/plain": [
       "   customerID  gender  SeniorCitizen Partner Dependents  tenure PhoneService  \\\n",
       "0  7590-VHVEG  Female              0     Yes         No       1           No   \n",
       "1  5575-GNVDE    Male              0      No         No      34          Yes   \n",
       "2  3668-QPYBK    Male              0      No         No       2          Yes   \n",
       "3  7795-CFOCW    Male              0      No         No      45           No   \n",
       "4  9237-HQITU  Female              0      No         No       2          Yes   \n",
       "\n",
       "      MultipleLines InternetService OnlineSecurity  ... DeviceProtection  \\\n",
       "0  No phone service             DSL             No  ...               No   \n",
       "1                No             DSL            Yes  ...              Yes   \n",
       "2                No             DSL            Yes  ...               No   \n",
       "3  No phone service             DSL            Yes  ...              Yes   \n",
       "4                No     Fiber optic             No  ...               No   \n",
       "\n",
       "  TechSupport StreamingTV StreamingMovies        Contract PaperlessBilling  \\\n",
       "0          No          No              No  Month-to-month              Yes   \n",
       "1          No          No              No        One year               No   \n",
       "2          No          No              No  Month-to-month              Yes   \n",
       "3         Yes          No              No        One year               No   \n",
       "4          No          No              No  Month-to-month              Yes   \n",
       "\n",
       "               PaymentMethod MonthlyCharges  TotalCharges Churn  \n",
       "0           Electronic check          29.85         29.85    No  \n",
       "1               Mailed check          56.95        1889.5    No  \n",
       "2               Mailed check          53.85        108.15   Yes  \n",
       "3  Bank transfer (automatic)          42.30       1840.75    No  \n",
       "4           Electronic check          70.70        151.65   Yes  \n",
       "\n",
       "[5 rows x 21 columns]"
      ]
     },
     "execution_count": 5,
     "metadata": {},
     "output_type": "execute_result"
    }
   ],
   "source": [
    "data.head()"
   ]
  },
  {
   "cell_type": "code",
   "execution_count": 6,
   "metadata": {
    "execution": {
     "iopub.execute_input": "2020-09-09T13:45:33.951504Z",
     "iopub.status.busy": "2020-09-09T13:45:33.950738Z",
     "iopub.status.idle": "2020-09-09T13:45:33.959134Z",
     "shell.execute_reply": "2020-09-09T13:45:33.958529Z"
    },
    "papermill": {
     "duration": 0.047722,
     "end_time": "2020-09-09T13:45:33.959297",
     "exception": false,
     "start_time": "2020-09-09T13:45:33.911575",
     "status": "completed"
    },
    "tags": []
   },
   "outputs": [
    {
     "data": {
      "text/plain": [
       "customerID           0\n",
       "gender               0\n",
       "SeniorCitizen        0\n",
       "Partner              0\n",
       "Dependents           0\n",
       "tenure               0\n",
       "PhoneService         0\n",
       "MultipleLines        0\n",
       "InternetService      0\n",
       "OnlineSecurity       0\n",
       "OnlineBackup         0\n",
       "DeviceProtection     0\n",
       "TechSupport          0\n",
       "StreamingTV          0\n",
       "StreamingMovies      0\n",
       "Contract             0\n",
       "PaperlessBilling     0\n",
       "PaymentMethod        0\n",
       "MonthlyCharges       0\n",
       "TotalCharges        11\n",
       "Churn                0\n",
       "dtype: int64"
      ]
     },
     "execution_count": 6,
     "metadata": {},
     "output_type": "execute_result"
    }
   ],
   "source": [
    "# A variável TotalCharges deveria ser um float, porém tem algumas linhas com caracteres bizarros.\n",
    "data['TotalCharges'] = pd.to_numeric(data['TotalCharges'], errors='coerce')\n",
    "data.isnull().sum()"
   ]
  },
  {
   "cell_type": "code",
   "execution_count": 7,
   "metadata": {
    "execution": {
     "iopub.execute_input": "2020-09-09T13:45:33.996235Z",
     "iopub.status.busy": "2020-09-09T13:45:33.995536Z",
     "iopub.status.idle": "2020-09-09T13:45:34.039005Z",
     "shell.execute_reply": "2020-09-09T13:45:34.038320Z"
    },
    "papermill": {
     "duration": 0.063978,
     "end_time": "2020-09-09T13:45:34.039116",
     "exception": false,
     "start_time": "2020-09-09T13:45:33.975138",
     "status": "completed"
    },
    "tags": []
   },
   "outputs": [],
   "source": [
    "# As 11 linhas vazias em TotalCharges são resultado dos caracteres bizarros. Como são só 11 linhas, vamos deletá-las.\n",
    "data.dropna(inplace = True)"
   ]
  },
  {
   "cell_type": "code",
   "execution_count": 8,
   "metadata": {
    "execution": {
     "iopub.execute_input": "2020-09-09T13:45:34.079141Z",
     "iopub.status.busy": "2020-09-09T13:45:34.078230Z",
     "iopub.status.idle": "2020-09-09T13:45:34.082931Z",
     "shell.execute_reply": "2020-09-09T13:45:34.082304Z"
    },
    "papermill": {
     "duration": 0.028008,
     "end_time": "2020-09-09T13:45:34.083038",
     "exception": false,
     "start_time": "2020-09-09T13:45:34.055030",
     "status": "completed"
    },
    "tags": []
   },
   "outputs": [
    {
     "data": {
      "text/plain": [
       "customerID           object\n",
       "gender               object\n",
       "SeniorCitizen         int64\n",
       "Partner              object\n",
       "Dependents           object\n",
       "tenure                int64\n",
       "PhoneService         object\n",
       "MultipleLines        object\n",
       "InternetService      object\n",
       "OnlineSecurity       object\n",
       "OnlineBackup         object\n",
       "DeviceProtection     object\n",
       "TechSupport          object\n",
       "StreamingTV          object\n",
       "StreamingMovies      object\n",
       "Contract             object\n",
       "PaperlessBilling     object\n",
       "PaymentMethod        object\n",
       "MonthlyCharges      float64\n",
       "TotalCharges        float64\n",
       "Churn                object\n",
       "dtype: object"
      ]
     },
     "execution_count": 8,
     "metadata": {},
     "output_type": "execute_result"
    }
   ],
   "source": [
    "# Tipos das variáveis.\n",
    "tipos_das_variaveis = data.dtypes\n",
    "tipos_das_variaveis"
   ]
  },
  {
   "cell_type": "code",
   "execution_count": 9,
   "metadata": {
    "execution": {
     "iopub.execute_input": "2020-09-09T13:45:34.140918Z",
     "iopub.status.busy": "2020-09-09T13:45:34.129567Z",
     "iopub.status.idle": "2020-09-09T13:45:34.231216Z",
     "shell.execute_reply": "2020-09-09T13:45:34.230465Z"
    },
    "papermill": {
     "duration": 0.132056,
     "end_time": "2020-09-09T13:45:34.231346",
     "exception": false,
     "start_time": "2020-09-09T13:45:34.099290",
     "status": "completed"
    },
    "tags": []
   },
   "outputs": [],
   "source": [
    "# Substituindo as strings das variáveis categóricas por números.\n",
    "data['gender'] = data['gender'].map(lambda x: 1 if x == 'Male' else 0)\n",
    "data['Partner'] = data['Partner'].map(lambda x: 1 if x == 'Yes' else 0)\n",
    "data['Dependents'] = data['Dependents'].map(lambda x: 1 if x == 'Yes' else 0)\n",
    "data['PhoneService'] = data['PhoneService'].map(lambda x: 1 if x == 'Yes' else 0)\n",
    "data['MultipleLines'] = data['MultipleLines'].map(lambda x: 1 if x  == 'Yes' else (0 if x == 'No' else 2))\n",
    "data['InternetService'] = data['InternetService'].map(lambda x: 1 if x  == 'Fiber optic' else (0 if x == 'No' else 2))\n",
    "data['OnlineSecurity'] = data['OnlineSecurity'].map(lambda x: 1 if x  == 'Yes' else (0 if x == 'No' else 2))\n",
    "data['OnlineBackup'] = data['OnlineBackup'].map(lambda x: 1 if x  == 'Yes' else (0 if x == 'No' else 2))\n",
    "data['DeviceProtection'] = data['DeviceProtection'].map(lambda x: 1 if x  == 'Yes' else (0 if x == 'No' else 2))\n",
    "data['TechSupport'] = data['TechSupport'].map(lambda x: 1 if x  == 'Yes' else (0 if x == 'No' else 2))\n",
    "data['StreamingTV'] = data['StreamingTV'].map(lambda x: 1 if x  == 'Yes' else (0 if x == 'No' else 2))\n",
    "data['StreamingMovies'] = data['StreamingMovies'].map(lambda x: 1 if x  == 'Yes' else (0 if x == 'No' else 2))\n",
    "data['Contract'] = data['Contract'].map(lambda x: 1 if x  == 'Month-to-month' else (0 if x == 'One year' else 2))\n",
    "data['PaperlessBilling'] = data['PaperlessBilling'].map(lambda x: 1 if x == 'Yes' else 0)\n",
    "data['PaymentMethod'] = data['PaymentMethod'].map(lambda x: 0 if x == 'Electronic check' else(1 if x == 'Mailed check' else(2 if x == 'Bank transfer (automatic)' else 3)))"
   ]
  },
  {
   "cell_type": "code",
   "execution_count": 10,
   "metadata": {
    "execution": {
     "iopub.execute_input": "2020-09-09T13:45:34.274710Z",
     "iopub.status.busy": "2020-09-09T13:45:34.273990Z",
     "iopub.status.idle": "2020-09-09T13:45:34.278101Z",
     "shell.execute_reply": "2020-09-09T13:45:34.277531Z"
    },
    "papermill": {
     "duration": 0.029002,
     "end_time": "2020-09-09T13:45:34.278241",
     "exception": false,
     "start_time": "2020-09-09T13:45:34.249239",
     "status": "completed"
    },
    "tags": []
   },
   "outputs": [
    {
     "data": {
      "text/plain": [
       "No     5163\n",
       "Yes    1869\n",
       "Name: Churn, dtype: int64"
      ]
     },
     "execution_count": 10,
     "metadata": {},
     "output_type": "execute_result"
    }
   ],
   "source": [
    "# Verificando balanceamento da variável resposta.\n",
    "data['Churn'].value_counts()"
   ]
  },
  {
   "cell_type": "code",
   "execution_count": 11,
   "metadata": {
    "execution": {
     "iopub.execute_input": "2020-09-09T13:45:34.321135Z",
     "iopub.status.busy": "2020-09-09T13:45:34.320382Z",
     "iopub.status.idle": "2020-09-09T13:45:35.447374Z",
     "shell.execute_reply": "2020-09-09T13:45:35.447951Z"
    },
    "papermill": {
     "duration": 1.153268,
     "end_time": "2020-09-09T13:45:35.448117",
     "exception": false,
     "start_time": "2020-09-09T13:45:34.294849",
     "status": "completed"
    },
    "tags": []
   },
   "outputs": [
    {
     "data": {
      "text/plain": [
       "((5625, 19), (1407, 19), (5625,), (1407,))"
      ]
     },
     "execution_count": 11,
     "metadata": {},
     "output_type": "execute_result"
    }
   ],
   "source": [
    "# Divisão em treino/teste\n",
    "from sklearn.model_selection import train_test_split\n",
    "\n",
    "data['Churn'] = data['Churn'].map(lambda x: 1 if x == 'Yes' else 0)\n",
    "y = data['Churn']\n",
    "data = data.drop(['customerID', 'Churn'], axis=1)\n",
    "X_train, X_test, y_train, y_test = train_test_split(data, y, test_size=0.2, random_state=11)\n",
    "X_train.shape, X_test.shape, y_train.shape, y_test.shape"
   ]
  },
  {
   "cell_type": "code",
   "execution_count": 12,
   "metadata": {
    "execution": {
     "iopub.execute_input": "2020-09-09T13:45:35.488560Z",
     "iopub.status.busy": "2020-09-09T13:45:35.487747Z",
     "iopub.status.idle": "2020-09-09T13:45:35.518448Z",
     "shell.execute_reply": "2020-09-09T13:45:35.518942Z"
    },
    "papermill": {
     "duration": 0.052818,
     "end_time": "2020-09-09T13:45:35.519099",
     "exception": false,
     "start_time": "2020-09-09T13:45:35.466281",
     "status": "completed"
    },
    "tags": []
   },
   "outputs": [
    {
     "name": "stderr",
     "output_type": "stream",
     "text": [
      "/opt/conda/lib/python3.7/site-packages/ipykernel_launcher.py:6: SettingWithCopyWarning: \n",
      "A value is trying to be set on a copy of a slice from a DataFrame.\n",
      "Try using .loc[row_indexer,col_indexer] = value instead\n",
      "\n",
      "See the caveats in the documentation: https://pandas.pydata.org/pandas-docs/stable/user_guide/indexing.html#returning-a-view-versus-a-copy\n",
      "  \n",
      "/opt/conda/lib/python3.7/site-packages/pandas/core/indexing.py:1736: SettingWithCopyWarning: \n",
      "A value is trying to be set on a copy of a slice from a DataFrame.\n",
      "Try using .loc[row_indexer,col_indexer] = value instead\n",
      "\n",
      "See the caveats in the documentation: https://pandas.pydata.org/pandas-docs/stable/user_guide/indexing.html#returning-a-view-versus-a-copy\n",
      "  isetter(loc, value[:, i].tolist())\n",
      "/opt/conda/lib/python3.7/site-packages/ipykernel_launcher.py:7: SettingWithCopyWarning: \n",
      "A value is trying to be set on a copy of a slice from a DataFrame.\n",
      "Try using .loc[row_indexer,col_indexer] = value instead\n",
      "\n",
      "See the caveats in the documentation: https://pandas.pydata.org/pandas-docs/stable/user_guide/indexing.html#returning-a-view-versus-a-copy\n",
      "  import sys\n",
      "/opt/conda/lib/python3.7/site-packages/pandas/core/indexing.py:1736: SettingWithCopyWarning: \n",
      "A value is trying to be set on a copy of a slice from a DataFrame.\n",
      "Try using .loc[row_indexer,col_indexer] = value instead\n",
      "\n",
      "See the caveats in the documentation: https://pandas.pydata.org/pandas-docs/stable/user_guide/indexing.html#returning-a-view-versus-a-copy\n",
      "  isetter(loc, value[:, i].tolist())\n"
     ]
    }
   ],
   "source": [
    "# Normalizando variáveis numéricas.\n",
    "from sklearn.preprocessing import MinMaxScaler\n",
    "\n",
    "columns_to_scale = ['tenure', 'MonthlyCharges', 'TotalCharges']\n",
    "scaler = MinMaxScaler()\n",
    "X_train[columns_to_scale] = scaler.fit_transform(X_train[columns_to_scale])\n",
    "X_test[columns_to_scale] = scaler.transform(X_test[columns_to_scale])"
   ]
  },
  {
   "cell_type": "code",
   "execution_count": 13,
   "metadata": {
    "execution": {
     "iopub.execute_input": "2020-09-09T13:45:35.559322Z",
     "iopub.status.busy": "2020-09-09T13:45:35.558486Z",
     "iopub.status.idle": "2020-09-09T14:11:43.671079Z",
     "shell.execute_reply": "2020-09-09T14:11:43.670320Z"
    },
    "papermill": {
     "duration": 1568.134073,
     "end_time": "2020-09-09T14:11:43.671239",
     "exception": false,
     "start_time": "2020-09-09T13:45:35.537166",
     "status": "completed"
    },
    "tags": []
   },
   "outputs": [
    {
     "name": "stdout",
     "output_type": "stream",
     "text": [
      "Fitting 3 folds for each of 500 candidates, totalling 1500 fits\n"
     ]
    },
    {
     "name": "stderr",
     "output_type": "stream",
     "text": [
      "[Parallel(n_jobs=-1)]: Using backend LokyBackend with 4 concurrent workers.\n",
      "[Parallel(n_jobs=-1)]: Done  42 tasks      | elapsed:   37.2s\n",
      "[Parallel(n_jobs=-1)]: Done 192 tasks      | elapsed:  2.8min\n",
      "[Parallel(n_jobs=-1)]: Done 442 tasks      | elapsed:  6.7min\n",
      "[Parallel(n_jobs=-1)]: Done 792 tasks      | elapsed: 12.9min\n",
      "[Parallel(n_jobs=-1)]: Done 1242 tasks      | elapsed: 21.3min\n",
      "[Parallel(n_jobs=-1)]: Done 1500 out of 1500 | elapsed: 26.1min finished\n"
     ]
    }
   ],
   "source": [
    "# Treinando uma Random Forest para classificação através de GridSearch\n",
    "from sklearn.ensemble import RandomForestClassifier\n",
    "from sklearn.model_selection import GridSearchCV\n",
    "\n",
    "forest = RandomForestClassifier(random_state=11)\n",
    "\n",
    "n_estimators = [100, 300, 500, 800, 1200]\n",
    "max_depth = [5, 8, 15, 25, 30]\n",
    "min_samples_split = [2, 5, 10, 15, 100]\n",
    "min_samples_leaf = [1, 2, 5, 10]\n",
    "\n",
    "hyperF = dict(n_estimators = n_estimators, max_depth = max_depth,  \n",
    "              min_samples_split = min_samples_split, \n",
    "              min_samples_leaf = min_samples_leaf)\n",
    "\n",
    "gridF = GridSearchCV(forest, hyperF, cv = 3, verbose = 1, \n",
    "                     n_jobs = -1)\n",
    "bestF = gridF.fit(X_train, y_train)"
   ]
  },
  {
   "cell_type": "code",
   "execution_count": 14,
   "metadata": {
    "execution": {
     "iopub.execute_input": "2020-09-09T14:11:43.753493Z",
     "iopub.status.busy": "2020-09-09T14:11:43.752417Z",
     "iopub.status.idle": "2020-09-09T14:11:43.757889Z",
     "shell.execute_reply": "2020-09-09T14:11:43.758452Z"
    },
    "papermill": {
     "duration": 0.066147,
     "end_time": "2020-09-09T14:11:43.758603",
     "exception": false,
     "start_time": "2020-09-09T14:11:43.692456",
     "status": "completed"
    },
    "tags": []
   },
   "outputs": [
    {
     "data": {
      "text/html": [
       "<div>\n",
       "<style scoped>\n",
       "    .dataframe tbody tr th:only-of-type {\n",
       "        vertical-align: middle;\n",
       "    }\n",
       "\n",
       "    .dataframe tbody tr th {\n",
       "        vertical-align: top;\n",
       "    }\n",
       "\n",
       "    .dataframe thead th {\n",
       "        text-align: right;\n",
       "    }\n",
       "</style>\n",
       "<table border=\"1\" class=\"dataframe\">\n",
       "  <thead>\n",
       "    <tr style=\"text-align: right;\">\n",
       "      <th></th>\n",
       "      <th>mean_fit_time</th>\n",
       "      <th>std_fit_time</th>\n",
       "      <th>mean_score_time</th>\n",
       "      <th>std_score_time</th>\n",
       "      <th>param_max_depth</th>\n",
       "      <th>param_min_samples_leaf</th>\n",
       "      <th>param_min_samples_split</th>\n",
       "      <th>param_n_estimators</th>\n",
       "      <th>params</th>\n",
       "      <th>split0_test_score</th>\n",
       "      <th>split1_test_score</th>\n",
       "      <th>split2_test_score</th>\n",
       "      <th>mean_test_score</th>\n",
       "      <th>std_test_score</th>\n",
       "      <th>rank_test_score</th>\n",
       "    </tr>\n",
       "  </thead>\n",
       "  <tbody>\n",
       "    <tr>\n",
       "      <th>0</th>\n",
       "      <td>0.553110</td>\n",
       "      <td>0.005202</td>\n",
       "      <td>0.041686</td>\n",
       "      <td>0.000738</td>\n",
       "      <td>5</td>\n",
       "      <td>1</td>\n",
       "      <td>2</td>\n",
       "      <td>100</td>\n",
       "      <td>{'max_depth': 5, 'min_samples_leaf': 1, 'min_s...</td>\n",
       "      <td>0.803200</td>\n",
       "      <td>0.795733</td>\n",
       "      <td>0.807467</td>\n",
       "      <td>0.802133</td>\n",
       "      <td>0.004849</td>\n",
       "      <td>366</td>\n",
       "    </tr>\n",
       "    <tr>\n",
       "      <th>1</th>\n",
       "      <td>1.694269</td>\n",
       "      <td>0.025398</td>\n",
       "      <td>0.124365</td>\n",
       "      <td>0.007570</td>\n",
       "      <td>5</td>\n",
       "      <td>1</td>\n",
       "      <td>2</td>\n",
       "      <td>300</td>\n",
       "      <td>{'max_depth': 5, 'min_samples_leaf': 1, 'min_s...</td>\n",
       "      <td>0.802133</td>\n",
       "      <td>0.797333</td>\n",
       "      <td>0.806933</td>\n",
       "      <td>0.802133</td>\n",
       "      <td>0.003919</td>\n",
       "      <td>366</td>\n",
       "    </tr>\n",
       "    <tr>\n",
       "      <th>2</th>\n",
       "      <td>2.760974</td>\n",
       "      <td>0.041501</td>\n",
       "      <td>0.191867</td>\n",
       "      <td>0.001433</td>\n",
       "      <td>5</td>\n",
       "      <td>1</td>\n",
       "      <td>2</td>\n",
       "      <td>500</td>\n",
       "      <td>{'max_depth': 5, 'min_samples_leaf': 1, 'min_s...</td>\n",
       "      <td>0.801067</td>\n",
       "      <td>0.797867</td>\n",
       "      <td>0.806400</td>\n",
       "      <td>0.801778</td>\n",
       "      <td>0.003520</td>\n",
       "      <td>390</td>\n",
       "    </tr>\n",
       "    <tr>\n",
       "      <th>3</th>\n",
       "      <td>4.331553</td>\n",
       "      <td>0.015529</td>\n",
       "      <td>0.308857</td>\n",
       "      <td>0.001413</td>\n",
       "      <td>5</td>\n",
       "      <td>1</td>\n",
       "      <td>2</td>\n",
       "      <td>800</td>\n",
       "      <td>{'max_depth': 5, 'min_samples_leaf': 1, 'min_s...</td>\n",
       "      <td>0.800533</td>\n",
       "      <td>0.797867</td>\n",
       "      <td>0.806400</td>\n",
       "      <td>0.801600</td>\n",
       "      <td>0.003564</td>\n",
       "      <td>392</td>\n",
       "    </tr>\n",
       "    <tr>\n",
       "      <th>4</th>\n",
       "      <td>6.574148</td>\n",
       "      <td>0.036676</td>\n",
       "      <td>0.450480</td>\n",
       "      <td>0.002825</td>\n",
       "      <td>5</td>\n",
       "      <td>1</td>\n",
       "      <td>2</td>\n",
       "      <td>1200</td>\n",
       "      <td>{'max_depth': 5, 'min_samples_leaf': 1, 'min_s...</td>\n",
       "      <td>0.800000</td>\n",
       "      <td>0.796267</td>\n",
       "      <td>0.805333</td>\n",
       "      <td>0.800533</td>\n",
       "      <td>0.003721</td>\n",
       "      <td>452</td>\n",
       "    </tr>\n",
       "    <tr>\n",
       "      <th>...</th>\n",
       "      <td>...</td>\n",
       "      <td>...</td>\n",
       "      <td>...</td>\n",
       "      <td>...</td>\n",
       "      <td>...</td>\n",
       "      <td>...</td>\n",
       "      <td>...</td>\n",
       "      <td>...</td>\n",
       "      <td>...</td>\n",
       "      <td>...</td>\n",
       "      <td>...</td>\n",
       "      <td>...</td>\n",
       "      <td>...</td>\n",
       "      <td>...</td>\n",
       "      <td>...</td>\n",
       "    </tr>\n",
       "    <tr>\n",
       "      <th>495</th>\n",
       "      <td>0.584702</td>\n",
       "      <td>0.003473</td>\n",
       "      <td>0.044816</td>\n",
       "      <td>0.000902</td>\n",
       "      <td>30</td>\n",
       "      <td>10</td>\n",
       "      <td>100</td>\n",
       "      <td>100</td>\n",
       "      <td>{'max_depth': 30, 'min_samples_leaf': 10, 'min...</td>\n",
       "      <td>0.802133</td>\n",
       "      <td>0.795200</td>\n",
       "      <td>0.808533</td>\n",
       "      <td>0.801956</td>\n",
       "      <td>0.005445</td>\n",
       "      <td>373</td>\n",
       "    </tr>\n",
       "    <tr>\n",
       "      <th>496</th>\n",
       "      <td>1.752736</td>\n",
       "      <td>0.008966</td>\n",
       "      <td>0.127467</td>\n",
       "      <td>0.002796</td>\n",
       "      <td>30</td>\n",
       "      <td>10</td>\n",
       "      <td>100</td>\n",
       "      <td>300</td>\n",
       "      <td>{'max_depth': 30, 'min_samples_leaf': 10, 'min...</td>\n",
       "      <td>0.805867</td>\n",
       "      <td>0.797333</td>\n",
       "      <td>0.806933</td>\n",
       "      <td>0.803378</td>\n",
       "      <td>0.004296</td>\n",
       "      <td>312</td>\n",
       "    </tr>\n",
       "    <tr>\n",
       "      <th>497</th>\n",
       "      <td>3.005135</td>\n",
       "      <td>0.023143</td>\n",
       "      <td>0.217333</td>\n",
       "      <td>0.016414</td>\n",
       "      <td>30</td>\n",
       "      <td>10</td>\n",
       "      <td>100</td>\n",
       "      <td>500</td>\n",
       "      <td>{'max_depth': 30, 'min_samples_leaf': 10, 'min...</td>\n",
       "      <td>0.805867</td>\n",
       "      <td>0.796800</td>\n",
       "      <td>0.810133</td>\n",
       "      <td>0.804267</td>\n",
       "      <td>0.005560</td>\n",
       "      <td>278</td>\n",
       "    </tr>\n",
       "    <tr>\n",
       "      <th>498</th>\n",
       "      <td>4.721478</td>\n",
       "      <td>0.062825</td>\n",
       "      <td>0.335387</td>\n",
       "      <td>0.008453</td>\n",
       "      <td>30</td>\n",
       "      <td>10</td>\n",
       "      <td>100</td>\n",
       "      <td>800</td>\n",
       "      <td>{'max_depth': 30, 'min_samples_leaf': 10, 'min...</td>\n",
       "      <td>0.803200</td>\n",
       "      <td>0.795733</td>\n",
       "      <td>0.810667</td>\n",
       "      <td>0.803200</td>\n",
       "      <td>0.006097</td>\n",
       "      <td>321</td>\n",
       "    </tr>\n",
       "    <tr>\n",
       "      <th>499</th>\n",
       "      <td>5.986492</td>\n",
       "      <td>0.491634</td>\n",
       "      <td>0.354466</td>\n",
       "      <td>0.042259</td>\n",
       "      <td>30</td>\n",
       "      <td>10</td>\n",
       "      <td>100</td>\n",
       "      <td>1200</td>\n",
       "      <td>{'max_depth': 30, 'min_samples_leaf': 10, 'min...</td>\n",
       "      <td>0.803733</td>\n",
       "      <td>0.795733</td>\n",
       "      <td>0.809600</td>\n",
       "      <td>0.803022</td>\n",
       "      <td>0.005683</td>\n",
       "      <td>333</td>\n",
       "    </tr>\n",
       "  </tbody>\n",
       "</table>\n",
       "<p>500 rows × 15 columns</p>\n",
       "</div>"
      ],
      "text/plain": [
       "     mean_fit_time  std_fit_time  mean_score_time  std_score_time  \\\n",
       "0         0.553110      0.005202         0.041686        0.000738   \n",
       "1         1.694269      0.025398         0.124365        0.007570   \n",
       "2         2.760974      0.041501         0.191867        0.001433   \n",
       "3         4.331553      0.015529         0.308857        0.001413   \n",
       "4         6.574148      0.036676         0.450480        0.002825   \n",
       "..             ...           ...              ...             ...   \n",
       "495       0.584702      0.003473         0.044816        0.000902   \n",
       "496       1.752736      0.008966         0.127467        0.002796   \n",
       "497       3.005135      0.023143         0.217333        0.016414   \n",
       "498       4.721478      0.062825         0.335387        0.008453   \n",
       "499       5.986492      0.491634         0.354466        0.042259   \n",
       "\n",
       "    param_max_depth param_min_samples_leaf param_min_samples_split  \\\n",
       "0                 5                      1                       2   \n",
       "1                 5                      1                       2   \n",
       "2                 5                      1                       2   \n",
       "3                 5                      1                       2   \n",
       "4                 5                      1                       2   \n",
       "..              ...                    ...                     ...   \n",
       "495              30                     10                     100   \n",
       "496              30                     10                     100   \n",
       "497              30                     10                     100   \n",
       "498              30                     10                     100   \n",
       "499              30                     10                     100   \n",
       "\n",
       "    param_n_estimators                                             params  \\\n",
       "0                  100  {'max_depth': 5, 'min_samples_leaf': 1, 'min_s...   \n",
       "1                  300  {'max_depth': 5, 'min_samples_leaf': 1, 'min_s...   \n",
       "2                  500  {'max_depth': 5, 'min_samples_leaf': 1, 'min_s...   \n",
       "3                  800  {'max_depth': 5, 'min_samples_leaf': 1, 'min_s...   \n",
       "4                 1200  {'max_depth': 5, 'min_samples_leaf': 1, 'min_s...   \n",
       "..                 ...                                                ...   \n",
       "495                100  {'max_depth': 30, 'min_samples_leaf': 10, 'min...   \n",
       "496                300  {'max_depth': 30, 'min_samples_leaf': 10, 'min...   \n",
       "497                500  {'max_depth': 30, 'min_samples_leaf': 10, 'min...   \n",
       "498                800  {'max_depth': 30, 'min_samples_leaf': 10, 'min...   \n",
       "499               1200  {'max_depth': 30, 'min_samples_leaf': 10, 'min...   \n",
       "\n",
       "     split0_test_score  split1_test_score  split2_test_score  mean_test_score  \\\n",
       "0             0.803200           0.795733           0.807467         0.802133   \n",
       "1             0.802133           0.797333           0.806933         0.802133   \n",
       "2             0.801067           0.797867           0.806400         0.801778   \n",
       "3             0.800533           0.797867           0.806400         0.801600   \n",
       "4             0.800000           0.796267           0.805333         0.800533   \n",
       "..                 ...                ...                ...              ...   \n",
       "495           0.802133           0.795200           0.808533         0.801956   \n",
       "496           0.805867           0.797333           0.806933         0.803378   \n",
       "497           0.805867           0.796800           0.810133         0.804267   \n",
       "498           0.803200           0.795733           0.810667         0.803200   \n",
       "499           0.803733           0.795733           0.809600         0.803022   \n",
       "\n",
       "     std_test_score  rank_test_score  \n",
       "0          0.004849              366  \n",
       "1          0.003919              366  \n",
       "2          0.003520              390  \n",
       "3          0.003564              392  \n",
       "4          0.003721              452  \n",
       "..              ...              ...  \n",
       "495        0.005445              373  \n",
       "496        0.004296              312  \n",
       "497        0.005560              278  \n",
       "498        0.006097              321  \n",
       "499        0.005683              333  \n",
       "\n",
       "[500 rows x 15 columns]"
      ]
     },
     "execution_count": 14,
     "metadata": {},
     "output_type": "execute_result"
    }
   ],
   "source": [
    "final_table = pd.DataFrame(bestF.cv_results_)\n",
    "final_table"
   ]
  },
  {
   "cell_type": "code",
   "execution_count": 15,
   "metadata": {
    "execution": {
     "iopub.execute_input": "2020-09-09T14:11:43.813034Z",
     "iopub.status.busy": "2020-09-09T14:11:43.811788Z",
     "iopub.status.idle": "2020-09-09T14:11:43.914050Z",
     "shell.execute_reply": "2020-09-09T14:11:43.913354Z"
    },
    "papermill": {
     "duration": 0.132645,
     "end_time": "2020-09-09T14:11:43.914169",
     "exception": false,
     "start_time": "2020-09-09T14:11:43.781524",
     "status": "completed"
    },
    "tags": []
   },
   "outputs": [
    {
     "data": {
      "text/plain": [
       "array([[910,  99],\n",
       "       [210, 188]])"
      ]
     },
     "execution_count": 15,
     "metadata": {},
     "output_type": "execute_result"
    }
   ],
   "source": [
    "# Verificando a matriz de confusão.\n",
    "from sklearn.metrics import confusion_matrix\n",
    "\n",
    "predicted = bestF.best_estimator_.predict(X_test)\n",
    "mc = confusion_matrix(y_test, predicted)\n",
    "mc"
   ]
  },
  {
   "cell_type": "code",
   "execution_count": 16,
   "metadata": {
    "execution": {
     "iopub.execute_input": "2020-09-09T14:11:43.970890Z",
     "iopub.status.busy": "2020-09-09T14:11:43.969999Z",
     "iopub.status.idle": "2020-09-09T14:11:43.975756Z",
     "shell.execute_reply": "2020-09-09T14:11:43.976493Z"
    },
    "papermill": {
     "duration": 0.040238,
     "end_time": "2020-09-09T14:11:43.976713",
     "exception": false,
     "start_time": "2020-09-09T14:11:43.936475",
     "status": "completed"
    },
    "tags": []
   },
   "outputs": [
    {
     "name": "stdout",
     "output_type": "stream",
     "text": [
      "acc: 0.7803837953091685\n",
      "precision: 0.6550522648083623\n",
      "recall: 0.4723618090452261\n"
     ]
    }
   ],
   "source": [
    "# Algumas métricas.\n",
    "def acc(tn, fp,fn, tp):\n",
    "    return ((tn+tp)/(tn+fp+fn+tp))\n",
    "\n",
    "def precision(tp, fp):\n",
    "    return (tp/(tp+fp))\n",
    "\n",
    "def recall(tp, fn):\n",
    "    return (tp/(tp+fn))\n",
    "\n",
    "print('acc: {}'.format(acc(mc[0, 0], mc[0, 1], mc[1, 0], mc[1, 1])))\n",
    "print('precision: {}'.format(precision(mc[1, 1], mc[0, 1])))\n",
    "print('recall: {}'.format(recall(mc[1, 1], mc[1, 0])))"
   ]
  },
  {
   "cell_type": "code",
   "execution_count": 17,
   "metadata": {
    "execution": {
     "iopub.execute_input": "2020-09-09T14:11:44.039195Z",
     "iopub.status.busy": "2020-09-09T14:11:44.034932Z",
     "iopub.status.idle": "2020-09-09T14:11:44.478371Z",
     "shell.execute_reply": "2020-09-09T14:11:44.477157Z"
    },
    "papermill": {
     "duration": 0.476586,
     "end_time": "2020-09-09T14:11:44.478517",
     "exception": false,
     "start_time": "2020-09-09T14:11:44.001931",
     "status": "completed"
    },
    "tags": []
   },
   "outputs": [
    {
     "name": "stdout",
     "output_type": "stream",
     "text": [
      "Feature ranking:\n",
      "1. feature 4 (0.190235)\n",
      "2. feature 18 (0.158123)\n",
      "3. feature 17 (0.128068)\n",
      "4. feature 11 (0.083775)\n",
      "5. feature 8 (0.076740)\n",
      "6. feature 16 (0.066772)\n",
      "7. feature 14 (0.065236)\n",
      "8. feature 7 (0.044513)\n",
      "9. feature 9 (0.033010)\n",
      "10. feature 10 (0.022046)\n",
      "11. feature 15 (0.020187)\n",
      "12. feature 13 (0.019662)\n",
      "13. feature 6 (0.019014)\n",
      "14. feature 12 (0.018021)\n",
      "15. feature 0 (0.014597)\n",
      "16. feature 1 (0.012739)\n",
      "17. feature 2 (0.012718)\n",
      "18. feature 3 (0.009968)\n",
      "19. feature 5 (0.004575)\n"
     ]
    },
    {
     "data": {
      "image/png": "[encoded data removed]",
      "text/plain": [
       "<Figure size 432x288 with 1 Axes>"
      ]
     },
     "metadata": {
      "needs_background": "light"
     },
     "output_type": "display_data"
    }
   ],
   "source": [
    "# Feature importance.\n",
    "import matplotlib.pyplot as plt\n",
    "\n",
    "importances = bestF.best_estimator_.feature_importances_\n",
    "std = np.std([tree.feature_importances_ for tree in bestF.best_estimator_.estimators_],\n",
    "             axis=0)\n",
    "indices = np.argsort(importances)[::-1]\n",
    "\n",
    "# Printando o ranking\n",
    "print(\"Feature ranking:\")\n",
    "\n",
    "for f in range(X_train.shape[1]):\n",
    "    print(\"%d. feature %d (%f)\" % (f + 1, indices[f], importances[indices[f]]))\n",
    "\n",
    "# Plotando o gráfico de importância\n",
    "plt.figure()\n",
    "plt.title(\"Feature importances\")\n",
    "plt.bar(range(X_train.shape[1]), importances[indices],\n",
    "        color=\"r\", yerr=std[indices], align=\"center\")\n",
    "plt.xticks(range(X_train.shape[1]), indices)\n",
    "plt.xlim([-1, X_train.shape[1]])\n",
    "plt.show()"
   ]
  },
  {
   "cell_type": "markdown",
   "execution_count": null,
   "metadata": {
    "papermill": {
     "duration": 0.02519,
     "end_time": "2020-09-09T14:11:44.528866",
     "exception": false,
     "start_time": "2020-09-09T14:11:44.503676",
     "status": "completed"
    },
    "tags": []
   },
   "source": [
    "# Conclusão\n",
    "\n",
    "* 0 - Gender\n",
    "* 1 - SeniorCitizen\n",
    "* 2 - Partner\n",
    "* 3 - Dependents\n",
    "* 4 - Tenure\n",
    "* 5 - PhoneService\n",
    "* 6 - MultipleLines\n",
    "* 7 - InternetService\n",
    "* 8 - OnlineSecurity\n",
    "* 9 - OnlineBackup\n",
    "* 10 - DeviceProtection\n",
    "* 11 - TechSupport\n",
    "* 12 - StreamingTV\n",
    "* 13 - StreamingMovies\n",
    "* 14 - Contract\n",
    "* 15 - PaperlessBilling\n",
    "* 16 - PaymentMethod\n",
    "* 17 - MonthlyCharges\n",
    "* 18 - TotalCharges\n",
    "\n",
    "### Conseguimos um modelo com aproximadamente 78% de acurácia e as 5 variáveis que mais tiveram importância na tomada de decisão foram 4 (Tenure - 19,02%), 18 (TotalCharges - 15,81%), 17 (MonthlyCharges - 12,80%), 11 (TechSupport - 8,37%) e 8 (OnlineSecurity - 7,67%)."
   ]
  }
 ],
 "metadata": {
  "kernelspec": {
   "display_name": "Python 3",
   "language": "python",
   "name": "python3"
  },
  "language_info": {
   "codemirror_mode": {
    "name": "ipython",
    "version": 3
   },
   "file_extension": ".py",
   "mimetype": "text/x-python",
   "name": "python",
   "nbconvert_exporter": "python",
   "pygments_lexer": "ipython3",
   "version": "3.7.6"
  },
  "papermill": {
   "duration": 1575.88275,
   "end_time": "2020-09-09T14:11:44.670638",
   "environment_variables": {},
   "exception": null,
   "input_path": "__notebook__.ipynb",
   "output_path": "__notebook__.ipynb",
   "parameters": {},
   "start_time": "2020-09-09T13:45:28.787888",
   "version": "2.1.0"
  }
 },
 "nbformat": 4,
 "nbformat_minor": 4
}
