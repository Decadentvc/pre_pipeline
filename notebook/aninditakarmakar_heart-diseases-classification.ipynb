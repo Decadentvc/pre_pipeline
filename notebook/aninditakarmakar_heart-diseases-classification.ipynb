{
 "cells": [
  {
   "cell_type": "code",
   "execution_count": 1,
   "metadata": {
    "_cell_guid": "79c7e3d0-c299-4dcb-8224-4455121ee9b0",
    "_uuid": "d629ff2d2480ee46fbb7e2d37f6b5fab8052498a",
    "execution": {
     "iopub.execute_input": "2020-09-06T19:42:48.984221Z",
     "iopub.status.busy": "2020-09-06T19:42:48.983135Z",
     "iopub.status.idle": "2020-09-06T19:42:50.106159Z",
     "shell.execute_reply": "2020-09-06T19:42:50.105287Z"
    },
    "papermill": {
     "duration": 1.15849,
     "end_time": "2020-09-06T19:42:50.106304",
     "exception": false,
     "start_time": "2020-09-06T19:42:48.947814",
     "status": "completed"
    },
    "tags": []
   },
   "outputs": [],
   "source": [
    "# Importing the libraries\n",
    "import numpy as np\n",
    "import matplotlib.pyplot as plt\n",
    "import pandas as pd\n",
    "import seaborn as sns\n",
    "import warnings \n",
    "warnings.filterwarnings('ignore')"
   ]
  },
  {
   "cell_type": "code",
   "execution_count": 2,
   "metadata": {
    "execution": {
     "iopub.execute_input": "2020-09-06T19:42:50.165063Z",
     "iopub.status.busy": "2020-09-06T19:42:50.164085Z",
     "iopub.status.idle": "2020-09-06T19:42:50.176650Z",
     "shell.execute_reply": "2020-09-06T19:42:50.175839Z"
    },
    "papermill": {
     "duration": 0.045243,
     "end_time": "2020-09-06T19:42:50.176771",
     "exception": false,
     "start_time": "2020-09-06T19:42:50.131528",
     "status": "completed"
    },
    "tags": []
   },
   "outputs": [],
   "source": [
    "# Importing the dataset\n",
    "dataset = pd.read_csv('../input/heart-disease-uci/heart.csv')"
   ]
  },
  {
   "cell_type": "code",
   "execution_count": 3,
   "metadata": {
    "execution": {
     "iopub.execute_input": "2020-09-06T19:42:50.243598Z",
     "iopub.status.busy": "2020-09-06T19:42:50.242504Z",
     "iopub.status.idle": "2020-09-06T19:42:50.255230Z",
     "shell.execute_reply": "2020-09-06T19:42:50.254592Z"
    },
    "papermill": {
     "duration": 0.053618,
     "end_time": "2020-09-06T19:42:50.255352",
     "exception": false,
     "start_time": "2020-09-06T19:42:50.201734",
     "status": "completed"
    },
    "tags": []
   },
   "outputs": [
    {
     "data": {
      "text/html": [
       "<div>\n",
       "<style scoped>\n",
       "    .dataframe tbody tr th:only-of-type {\n",
       "        vertical-align: middle;\n",
       "    }\n",
       "\n",
       "    .dataframe tbody tr th {\n",
       "        vertical-align: top;\n",
       "    }\n",
       "\n",
       "    .dataframe thead th {\n",
       "        text-align: right;\n",
       "    }\n",
       "</style>\n",
       "<table border=\"1\" class=\"dataframe\">\n",
       "  <thead>\n",
       "    <tr style=\"text-align: right;\">\n",
       "      <th></th>\n",
       "      <th>age</th>\n",
       "      <th>sex</th>\n",
       "      <th>cp</th>\n",
       "      <th>trestbps</th>\n",
       "      <th>chol</th>\n",
       "      <th>fbs</th>\n",
       "      <th>restecg</th>\n",
       "      <th>thalach</th>\n",
       "      <th>exang</th>\n",
       "      <th>oldpeak</th>\n",
       "      <th>slope</th>\n",
       "      <th>ca</th>\n",
       "      <th>thal</th>\n",
       "      <th>target</th>\n",
       "    </tr>\n",
       "  </thead>\n",
       "  <tbody>\n",
       "    <tr>\n",
       "      <th>0</th>\n",
       "      <td>63</td>\n",
       "      <td>1</td>\n",
       "      <td>3</td>\n",
       "      <td>145</td>\n",
       "      <td>233</td>\n",
       "      <td>1</td>\n",
       "      <td>0</td>\n",
       "      <td>150</td>\n",
       "      <td>0</td>\n",
       "      <td>2.3</td>\n",
       "      <td>0</td>\n",
       "      <td>0</td>\n",
       "      <td>1</td>\n",
       "      <td>1</td>\n",
       "    </tr>\n",
       "    <tr>\n",
       "      <th>1</th>\n",
       "      <td>37</td>\n",
       "      <td>1</td>\n",
       "      <td>2</td>\n",
       "      <td>130</td>\n",
       "      <td>250</td>\n",
       "      <td>0</td>\n",
       "      <td>1</td>\n",
       "      <td>187</td>\n",
       "      <td>0</td>\n",
       "      <td>3.5</td>\n",
       "      <td>0</td>\n",
       "      <td>0</td>\n",
       "      <td>2</td>\n",
       "      <td>1</td>\n",
       "    </tr>\n",
       "    <tr>\n",
       "      <th>2</th>\n",
       "      <td>41</td>\n",
       "      <td>0</td>\n",
       "      <td>1</td>\n",
       "      <td>130</td>\n",
       "      <td>204</td>\n",
       "      <td>0</td>\n",
       "      <td>0</td>\n",
       "      <td>172</td>\n",
       "      <td>0</td>\n",
       "      <td>1.4</td>\n",
       "      <td>2</td>\n",
       "      <td>0</td>\n",
       "      <td>2</td>\n",
       "      <td>1</td>\n",
       "    </tr>\n",
       "    <tr>\n",
       "      <th>3</th>\n",
       "      <td>56</td>\n",
       "      <td>1</td>\n",
       "      <td>1</td>\n",
       "      <td>120</td>\n",
       "      <td>236</td>\n",
       "      <td>0</td>\n",
       "      <td>1</td>\n",
       "      <td>178</td>\n",
       "      <td>0</td>\n",
       "      <td>0.8</td>\n",
       "      <td>2</td>\n",
       "      <td>0</td>\n",
       "      <td>2</td>\n",
       "      <td>1</td>\n",
       "    </tr>\n",
       "    <tr>\n",
       "      <th>4</th>\n",
       "      <td>57</td>\n",
       "      <td>0</td>\n",
       "      <td>0</td>\n",
       "      <td>120</td>\n",
       "      <td>354</td>\n",
       "      <td>0</td>\n",
       "      <td>1</td>\n",
       "      <td>163</td>\n",
       "      <td>1</td>\n",
       "      <td>0.6</td>\n",
       "      <td>2</td>\n",
       "      <td>0</td>\n",
       "      <td>2</td>\n",
       "      <td>1</td>\n",
       "    </tr>\n",
       "  </tbody>\n",
       "</table>\n",
       "</div>"
      ],
      "text/plain": [
       "   age  sex  cp  trestbps  chol  fbs  restecg  thalach  exang  oldpeak  slope  \\\n",
       "0   63    1   3       145   233    1        0      150      0      2.3      0   \n",
       "1   37    1   2       130   250    0        1      187      0      3.5      0   \n",
       "2   41    0   1       130   204    0        0      172      0      1.4      2   \n",
       "3   56    1   1       120   236    0        1      178      0      0.8      2   \n",
       "4   57    0   0       120   354    0        1      163      1      0.6      2   \n",
       "\n",
       "   ca  thal  target  \n",
       "0   0     1       1  \n",
       "1   0     2       1  \n",
       "2   0     2       1  \n",
       "3   0     2       1  \n",
       "4   0     2       1  "
      ]
     },
     "execution_count": 3,
     "metadata": {},
     "output_type": "execute_result"
    }
   ],
   "source": [
    "dataset.head()"
   ]
  },
  {
   "cell_type": "code",
   "execution_count": 4,
   "metadata": {
    "execution": {
     "iopub.execute_input": "2020-09-06T19:42:50.324766Z",
     "iopub.status.busy": "2020-09-06T19:42:50.323933Z",
     "iopub.status.idle": "2020-09-06T19:42:50.328666Z",
     "shell.execute_reply": "2020-09-06T19:42:50.327682Z"
    },
    "papermill": {
     "duration": 0.047098,
     "end_time": "2020-09-06T19:42:50.328837",
     "exception": false,
     "start_time": "2020-09-06T19:42:50.281739",
     "status": "completed"
    },
    "tags": []
   },
   "outputs": [
    {
     "name": "stdout",
     "output_type": "stream",
     "text": [
      "<class 'pandas.core.frame.DataFrame'>\n",
      "RangeIndex: 303 entries, 0 to 302\n",
      "Data columns (total 14 columns):\n",
      " #   Column    Non-Null Count  Dtype  \n",
      "---  ------    --------------  -----  \n",
      " 0   age       303 non-null    int64  \n",
      " 1   sex       303 non-null    int64  \n",
      " 2   cp        303 non-null    int64  \n",
      " 3   trestbps  303 non-null    int64  \n",
      " 4   chol      303 non-null    int64  \n",
      " 5   fbs       303 non-null    int64  \n",
      " 6   restecg   303 non-null    int64  \n",
      " 7   thalach   303 non-null    int64  \n",
      " 8   exang     303 non-null    int64  \n",
      " 9   oldpeak   303 non-null    float64\n",
      " 10  slope     303 non-null    int64  \n",
      " 11  ca        303 non-null    int64  \n",
      " 12  thal      303 non-null    int64  \n",
      " 13  target    303 non-null    int64  \n",
      "dtypes: float64(1), int64(13)\n",
      "memory usage: 33.3 KB\n"
     ]
    }
   ],
   "source": [
    "dataset.info()"
   ]
  },
  {
   "cell_type": "code",
   "execution_count": 5,
   "metadata": {
    "execution": {
     "iopub.execute_input": "2020-09-06T19:42:50.389465Z",
     "iopub.status.busy": "2020-09-06T19:42:50.388522Z",
     "iopub.status.idle": "2020-09-06T19:42:50.393333Z",
     "shell.execute_reply": "2020-09-06T19:42:50.392753Z"
    },
    "papermill": {
     "duration": 0.037407,
     "end_time": "2020-09-06T19:42:50.393460",
     "exception": false,
     "start_time": "2020-09-06T19:42:50.356053",
     "status": "completed"
    },
    "tags": []
   },
   "outputs": [
    {
     "data": {
      "text/plain": [
       "False"
      ]
     },
     "execution_count": 5,
     "metadata": {},
     "output_type": "execute_result"
    }
   ],
   "source": [
    "# Checking for null values in the dataset\n",
    "dataset.isnull().values.any()"
   ]
  },
  {
   "cell_type": "code",
   "execution_count": 6,
   "metadata": {
    "execution": {
     "iopub.execute_input": "2020-09-06T19:42:50.460669Z",
     "iopub.status.busy": "2020-09-06T19:42:50.459875Z",
     "iopub.status.idle": "2020-09-06T19:42:50.906150Z",
     "shell.execute_reply": "2020-09-06T19:42:50.905443Z"
    },
    "papermill": {
     "duration": 0.485923,
     "end_time": "2020-09-06T19:42:50.906276",
     "exception": false,
     "start_time": "2020-09-06T19:42:50.420353",
     "status": "completed"
    },
    "tags": []
   },
   "outputs": [
    {
     "data": {
      "image/png": "[encoded data removed]",
      "text/plain": [
       "<Figure size 648x504 with 1 Axes>"
      ]
     },
     "metadata": {
      "needs_background": "light"
     },
     "output_type": "display_data"
    }
   ],
   "source": [
    "# Visualising the dataset\n",
    "plt.figure(figsize=(9,7))\n",
    "plt.style.use('seaborn-pastel')\n",
    "labels=['female','male']\n",
    "sns.set_style(\"darkgrid\")\n",
    "ax=sns.barplot(x='target',y='age',data=dataset,hue='sex')\n",
    "h, l = ax.get_legend_handles_labels()\n",
    "ax.legend(h,labels,title=\"Gender\",loc='upper right')\n",
    "ax.set_ylabel(\"Age\",fontdict={'fontsize' : 12})\n",
    "ax.set_xlabel(\"Target variable: Angiographic disease status\",fontdict={'fontsize' : 12})\n",
    "for p in ax.patches:\n",
    "    width, height = p.get_width(), p.get_height()\n",
    "    x, y = p.get_xy() \n",
    "    ax.annotate('{:.2f}'.format(height), (x+ 0.15, y + height + 2.4))\n",
    "plt.title('Mean age of patients grouped by gender',fontweight=\"bold\")\n",
    "plt.show()"
   ]
  },
  {
   "cell_type": "code",
   "execution_count": 7,
   "metadata": {
    "execution": {
     "iopub.execute_input": "2020-09-06T19:42:50.975282Z",
     "iopub.status.busy": "2020-09-06T19:42:50.974219Z",
     "iopub.status.idle": "2020-09-06T19:42:50.977092Z",
     "shell.execute_reply": "2020-09-06T19:42:50.977641Z"
    },
    "papermill": {
     "duration": 0.041902,
     "end_time": "2020-09-06T19:42:50.977807",
     "exception": false,
     "start_time": "2020-09-06T19:42:50.935905",
     "status": "completed"
    },
    "tags": []
   },
   "outputs": [],
   "source": [
    "# Defining the features and the outcome variable\n",
    "x= dataset.iloc[:,:-1].values\n",
    "y = dataset.iloc[:,-1].values"
   ]
  },
  {
   "cell_type": "code",
   "execution_count": 8,
   "metadata": {
    "execution": {
     "iopub.execute_input": "2020-09-06T19:42:51.041987Z",
     "iopub.status.busy": "2020-09-06T19:42:51.041227Z",
     "iopub.status.idle": "2020-09-06T19:42:51.192592Z",
     "shell.execute_reply": "2020-09-06T19:42:51.191751Z"
    },
    "papermill": {
     "duration": 0.186011,
     "end_time": "2020-09-06T19:42:51.192715",
     "exception": false,
     "start_time": "2020-09-06T19:42:51.006704",
     "status": "completed"
    },
    "tags": []
   },
   "outputs": [],
   "source": [
    "# Splitting the dataset into training set and test set\n",
    "from sklearn.model_selection import train_test_split\n",
    "x_train,x_test,y_train,y_test = train_test_split(x,y,test_size=0.2,random_state=0)"
   ]
  },
  {
   "cell_type": "code",
   "execution_count": 9,
   "metadata": {
    "execution": {
     "iopub.execute_input": "2020-09-06T19:42:51.261620Z",
     "iopub.status.busy": "2020-09-06T19:42:51.260682Z",
     "iopub.status.idle": "2020-09-06T19:42:51.265292Z",
     "shell.execute_reply": "2020-09-06T19:42:51.264632Z"
    },
    "papermill": {
     "duration": 0.043095,
     "end_time": "2020-09-06T19:42:51.265429",
     "exception": false,
     "start_time": "2020-09-06T19:42:51.222334",
     "status": "completed"
    },
    "tags": []
   },
   "outputs": [],
   "source": [
    "## Feature Scaling\n",
    "from sklearn.preprocessing import StandardScaler\n",
    "sc = StandardScaler()\n",
    "x_train[:,[0,3,4,7,9,11]] = sc.fit_transform(x_train[:,[0,3,4,7,9,11]])\n",
    "x_test[:,[0,3,4,7,9,11]] = sc.transform(x_test[:,[0,3,4,7,9,11]])"
   ]
  },
  {
   "cell_type": "code",
   "execution_count": 10,
   "metadata": {
    "execution": {
     "iopub.execute_input": "2020-09-06T19:42:51.330519Z",
     "iopub.status.busy": "2020-09-06T19:42:51.329566Z",
     "iopub.status.idle": "2020-09-06T19:42:51.334329Z",
     "shell.execute_reply": "2020-09-06T19:42:51.333693Z"
    },
    "papermill": {
     "duration": 0.039456,
     "end_time": "2020-09-06T19:42:51.334450",
     "exception": false,
     "start_time": "2020-09-06T19:42:51.294994",
     "status": "completed"
    },
    "tags": []
   },
   "outputs": [
    {
     "name": "stdout",
     "output_type": "stream",
     "text": [
      "[-1.32773282  0.          2.         -0.57412513 -0.63267424  0.\n",
      "  1.          0.65626162  0.         -0.72460883  1.         -0.70710678\n",
      "  2.        ]\n"
     ]
    }
   ],
   "source": [
    "print(x_train[0])"
   ]
  },
  {
   "cell_type": "code",
   "execution_count": 11,
   "metadata": {
    "execution": {
     "iopub.execute_input": "2020-09-06T19:42:51.401510Z",
     "iopub.status.busy": "2020-09-06T19:42:51.400515Z",
     "iopub.status.idle": "2020-09-06T19:42:51.404022Z",
     "shell.execute_reply": "2020-09-06T19:42:51.404615Z"
    },
    "papermill": {
     "duration": 0.03997,
     "end_time": "2020-09-06T19:42:51.404771",
     "exception": false,
     "start_time": "2020-09-06T19:42:51.364801",
     "status": "completed"
    },
    "tags": []
   },
   "outputs": [
    {
     "name": "stdout",
     "output_type": "stream",
     "text": [
      "[ 1.69716475  1.          0.          0.77251645 -1.36354075  0.\n",
      "  1.         -1.07375268  1.          1.2900049   0.         -0.70710678\n",
      "  3.        ]\n"
     ]
    }
   ],
   "source": [
    "print(x_test[0])"
   ]
  },
  {
   "cell_type": "code",
   "execution_count": 12,
   "metadata": {
    "execution": {
     "iopub.execute_input": "2020-09-06T19:42:51.470872Z",
     "iopub.status.busy": "2020-09-06T19:42:51.470064Z",
     "iopub.status.idle": "2020-09-06T19:42:51.602503Z",
     "shell.execute_reply": "2020-09-06T19:42:51.601592Z"
    },
    "papermill": {
     "duration": 0.167801,
     "end_time": "2020-09-06T19:42:51.602655",
     "exception": false,
     "start_time": "2020-09-06T19:42:51.434854",
     "status": "completed"
    },
    "tags": []
   },
   "outputs": [
    {
     "data": {
      "text/plain": [
       "LogisticRegression(random_state=0)"
      ]
     },
     "execution_count": 12,
     "metadata": {},
     "output_type": "execute_result"
    }
   ],
   "source": [
    "## Applying the Logistic regression model on the training set\n",
    "from sklearn.linear_model import LogisticRegression\n",
    "classifier = LogisticRegression(random_state=0)\n",
    "classifier.fit(x_train,y_train)"
   ]
  },
  {
   "cell_type": "code",
   "execution_count": 13,
   "metadata": {
    "execution": {
     "iopub.execute_input": "2020-09-06T19:42:51.677015Z",
     "iopub.status.busy": "2020-09-06T19:42:51.676140Z",
     "iopub.status.idle": "2020-09-06T19:42:51.679331Z",
     "shell.execute_reply": "2020-09-06T19:42:51.680017Z"
    },
    "papermill": {
     "duration": 0.043774,
     "end_time": "2020-09-06T19:42:51.680197",
     "exception": false,
     "start_time": "2020-09-06T19:42:51.636423",
     "status": "completed"
    },
    "tags": []
   },
   "outputs": [
    {
     "name": "stdout",
     "output_type": "stream",
     "text": [
      "[[0 0]\n",
      " [1 1]\n",
      " [1 0]\n",
      " [0 0]\n",
      " [0 1]\n",
      " [0 0]\n",
      " [0 0]\n",
      " [0 0]\n",
      " [0 0]\n",
      " [0 0]\n",
      " [1 1]\n",
      " [1 1]\n",
      " [0 0]\n",
      " [1 1]\n",
      " [1 1]\n",
      " [1 1]\n",
      " [0 1]\n",
      " [1 1]\n",
      " [0 0]\n",
      " [1 1]\n",
      " [1 1]\n",
      " [0 0]\n",
      " [0 0]\n",
      " [0 0]\n",
      " [1 1]\n",
      " [1 0]\n",
      " [0 0]\n",
      " [0 0]\n",
      " [1 1]\n",
      " [1 1]\n",
      " [1 0]\n",
      " [0 0]\n",
      " [1 1]\n",
      " [1 1]\n",
      " [1 1]\n",
      " [1 0]\n",
      " [0 0]\n",
      " [1 1]\n",
      " [0 0]\n",
      " [0 0]\n",
      " [1 1]\n",
      " [1 1]\n",
      " [0 1]\n",
      " [0 0]\n",
      " [1 1]\n",
      " [1 1]\n",
      " [1 1]\n",
      " [1 0]\n",
      " [0 0]\n",
      " [1 1]\n",
      " [1 1]\n",
      " [1 1]\n",
      " [1 1]\n",
      " [1 1]\n",
      " [1 1]\n",
      " [0 0]\n",
      " [1 1]\n",
      " [1 0]\n",
      " [1 1]\n",
      " [1 1]\n",
      " [1 1]]\n"
     ]
    }
   ],
   "source": [
    "## Predicting test results\n",
    "y_pred = classifier.predict(x_test)\n",
    "np.set_printoptions(precision=2)\n",
    "print(np.concatenate((y_pred.reshape(len(y_pred),1),y_test.reshape(len(y_test),1)),1))"
   ]
  },
  {
   "cell_type": "code",
   "execution_count": 14,
   "metadata": {
    "execution": {
     "iopub.execute_input": "2020-09-06T19:42:51.765429Z",
     "iopub.status.busy": "2020-09-06T19:42:51.764568Z",
     "iopub.status.idle": "2020-09-06T19:42:51.989606Z",
     "shell.execute_reply": "2020-09-06T19:42:51.988949Z"
    },
    "papermill": {
     "duration": 0.274999,
     "end_time": "2020-09-06T19:42:51.989739",
     "exception": false,
     "start_time": "2020-09-06T19:42:51.714740",
     "status": "completed"
    },
    "tags": []
   },
   "outputs": [
    {
     "data": {
      "image/png": "[encoded data removed]",
      "text/plain": [
       "<Figure size 576x432 with 1 Axes>"
      ]
     },
     "metadata": {},
     "output_type": "display_data"
    }
   ],
   "source": [
    "# Visualising the test results vs predicted results\n",
    "bins = np.linspace(-1,2,10)\n",
    "plt.figure(figsize=(8,6))\n",
    "ax =plt.hist([y_test,y_pred],bins=bins,color=['blue','lawngreen'],label=['Actual result','Predicted result'],align='left')\n",
    "plt.xlabel('Target variable: Angiographic disease status',fontdict={'fontsize' : 12})\n",
    "plt.ylabel('Test set sample size',fontdict={'fontsize' : 12})\n",
    "plt.xlim(-1,2)\n",
    "plt.xticks([0,1])\n",
    "plt.ylim(0,len(y_test))\n",
    "plt.legend(prop={'size': 12})\n",
    "plt.show()"
   ]
  },
  {
   "cell_type": "code",
   "execution_count": 15,
   "metadata": {
    "execution": {
     "iopub.execute_input": "2020-09-06T19:42:52.064404Z",
     "iopub.status.busy": "2020-09-06T19:42:52.063446Z",
     "iopub.status.idle": "2020-09-06T19:42:52.066951Z",
     "shell.execute_reply": "2020-09-06T19:42:52.066089Z"
    },
    "papermill": {
     "duration": 0.044813,
     "end_time": "2020-09-06T19:42:52.067115",
     "exception": false,
     "start_time": "2020-09-06T19:42:52.022302",
     "status": "completed"
    },
    "tags": []
   },
   "outputs": [],
   "source": [
    "## Calculating the accuracy score and confusion matrix\n",
    "from sklearn.metrics import accuracy_score,confusion_matrix\n",
    "ac_LogReg = accuracy_score(y_test,y_pred)\n",
    "cm = confusion_matrix(y_test,y_pred)"
   ]
  },
  {
   "cell_type": "code",
   "execution_count": 16,
   "metadata": {
    "execution": {
     "iopub.execute_input": "2020-09-06T19:42:52.137606Z",
     "iopub.status.busy": "2020-09-06T19:42:52.136818Z",
     "iopub.status.idle": "2020-09-06T19:42:52.140682Z",
     "shell.execute_reply": "2020-09-06T19:42:52.139936Z"
    },
    "papermill": {
     "duration": 0.040999,
     "end_time": "2020-09-06T19:42:52.140801",
     "exception": false,
     "start_time": "2020-09-06T19:42:52.099802",
     "status": "completed"
    },
    "tags": []
   },
   "outputs": [
    {
     "name": "stdout",
     "output_type": "stream",
     "text": [
      "0.8524590163934426\n"
     ]
    }
   ],
   "source": [
    "## Printing the accuracy score\n",
    "print(ac_LogReg)"
   ]
  },
  {
   "cell_type": "code",
   "execution_count": 17,
   "metadata": {
    "execution": {
     "iopub.execute_input": "2020-09-06T19:42:52.213025Z",
     "iopub.status.busy": "2020-09-06T19:42:52.212107Z",
     "iopub.status.idle": "2020-09-06T19:42:52.215588Z",
     "shell.execute_reply": "2020-09-06T19:42:52.216301Z"
    },
    "papermill": {
     "duration": 0.042261,
     "end_time": "2020-09-06T19:42:52.216462",
     "exception": false,
     "start_time": "2020-09-06T19:42:52.174201",
     "status": "completed"
    },
    "tags": []
   },
   "outputs": [
    {
     "name": "stdout",
     "output_type": "stream",
     "text": [
      "[[21  6]\n",
      " [ 3 31]]\n"
     ]
    }
   ],
   "source": [
    "## Printing the confusion matrix\n",
    "print(cm)"
   ]
  },
  {
   "cell_type": "markdown",
   "execution_count": null,
   "metadata": {
    "papermill": {
     "duration": 0.033304,
     "end_time": "2020-09-06T19:42:52.284908",
     "exception": false,
     "start_time": "2020-09-06T19:42:52.251604",
     "status": "completed"
    },
    "tags": []
   },
   "source": [
    "****"
   ]
  },
  {
   "cell_type": "code",
   "execution_count": 18,
   "metadata": {
    "execution": {
     "iopub.execute_input": "2020-09-06T19:42:52.360004Z",
     "iopub.status.busy": "2020-09-06T19:42:52.359239Z",
     "iopub.status.idle": "2020-09-06T19:42:52.367526Z",
     "shell.execute_reply": "2020-09-06T19:42:52.366769Z"
    },
    "papermill": {
     "duration": 0.049052,
     "end_time": "2020-09-06T19:42:52.367646",
     "exception": false,
     "start_time": "2020-09-06T19:42:52.318594",
     "status": "completed"
    },
    "tags": []
   },
   "outputs": [
    {
     "data": {
      "text/plain": [
       "SVC(random_state=0)"
      ]
     },
     "execution_count": 18,
     "metadata": {},
     "output_type": "execute_result"
    }
   ],
   "source": [
    "## Applying the non-linear SVC model on the training set\n",
    "from sklearn.svm import SVC\n",
    "classifier = SVC(kernel='rbf',random_state=0)\n",
    "classifier.fit(x_train,y_train)"
   ]
  },
  {
   "cell_type": "code",
   "execution_count": 19,
   "metadata": {
    "execution": {
     "iopub.execute_input": "2020-09-06T19:42:52.443187Z",
     "iopub.status.busy": "2020-09-06T19:42:52.442158Z",
     "iopub.status.idle": "2020-09-06T19:42:52.449047Z",
     "shell.execute_reply": "2020-09-06T19:42:52.448283Z"
    },
    "papermill": {
     "duration": 0.04773,
     "end_time": "2020-09-06T19:42:52.449175",
     "exception": false,
     "start_time": "2020-09-06T19:42:52.401445",
     "status": "completed"
    },
    "tags": []
   },
   "outputs": [
    {
     "name": "stdout",
     "output_type": "stream",
     "text": [
      "[[0 0]\n",
      " [1 1]\n",
      " [1 0]\n",
      " [0 0]\n",
      " [0 1]\n",
      " [1 0]\n",
      " [0 0]\n",
      " [0 0]\n",
      " [0 0]\n",
      " [0 0]\n",
      " [1 1]\n",
      " [1 1]\n",
      " [0 0]\n",
      " [1 1]\n",
      " [1 1]\n",
      " [1 1]\n",
      " [0 1]\n",
      " [1 1]\n",
      " [0 0]\n",
      " [1 1]\n",
      " [1 1]\n",
      " [0 0]\n",
      " [0 0]\n",
      " [0 0]\n",
      " [1 1]\n",
      " [0 0]\n",
      " [0 0]\n",
      " [1 0]\n",
      " [1 1]\n",
      " [1 1]\n",
      " [1 0]\n",
      " [0 0]\n",
      " [1 1]\n",
      " [1 1]\n",
      " [1 1]\n",
      " [0 0]\n",
      " [0 0]\n",
      " [1 1]\n",
      " [0 0]\n",
      " [0 0]\n",
      " [1 1]\n",
      " [1 1]\n",
      " [1 1]\n",
      " [0 0]\n",
      " [1 1]\n",
      " [1 1]\n",
      " [1 1]\n",
      " [1 0]\n",
      " [0 0]\n",
      " [1 1]\n",
      " [1 1]\n",
      " [1 1]\n",
      " [1 1]\n",
      " [1 1]\n",
      " [1 1]\n",
      " [0 0]\n",
      " [1 1]\n",
      " [1 0]\n",
      " [1 1]\n",
      " [1 1]\n",
      " [1 1]]\n"
     ]
    }
   ],
   "source": [
    "## Predicting test results\n",
    "y_pred = classifier.predict(x_test)\n",
    "np.set_printoptions(precision=2)\n",
    "print(np.concatenate((y_pred.reshape(len(y_pred),1),y_test.reshape(len(y_test),1)),1))"
   ]
  },
  {
   "cell_type": "code",
   "execution_count": 20,
   "metadata": {
    "execution": {
     "iopub.execute_input": "2020-09-06T19:42:52.537865Z",
     "iopub.status.busy": "2020-09-06T19:42:52.535816Z",
     "iopub.status.idle": "2020-09-06T19:42:52.819760Z",
     "shell.execute_reply": "2020-09-06T19:42:52.819004Z"
    },
    "papermill": {
     "duration": 0.336778,
     "end_time": "2020-09-06T19:42:52.819887",
     "exception": false,
     "start_time": "2020-09-06T19:42:52.483109",
     "status": "completed"
    },
    "tags": []
   },
   "outputs": [
    {
     "data": {
      "image/png": "[encoded data removed]",
      "text/plain": [
       "<Figure size 576x432 with 1 Axes>"
      ]
     },
     "metadata": {},
     "output_type": "display_data"
    }
   ],
   "source": [
    "# Visualising the test results vs predicted results\n",
    "bins = np.linspace(-1,2,10)\n",
    "plt.figure(figsize=(8,6))\n",
    "ax =plt.hist([y_test,y_pred],bins=bins,color=['blue','lawngreen'],label=['Actual result','Predicted result'],align='left')\n",
    "plt.xlabel('Target variable: Angiographic disease status',fontdict={'fontsize' : 12})\n",
    "plt.ylabel('Test set sample size',fontdict={'fontsize' : 12})\n",
    "plt.xlim(-1,2)\n",
    "plt.xticks([0,1])\n",
    "plt.ylim(0,len(y_test))\n",
    "plt.legend(prop={'size': 12})\n",
    "plt.show()"
   ]
  },
  {
   "cell_type": "code",
   "execution_count": 21,
   "metadata": {
    "execution": {
     "iopub.execute_input": "2020-09-06T19:42:52.895869Z",
     "iopub.status.busy": "2020-09-06T19:42:52.894893Z",
     "iopub.status.idle": "2020-09-06T19:42:52.899995Z",
     "shell.execute_reply": "2020-09-06T19:42:52.899258Z"
    },
    "papermill": {
     "duration": 0.045718,
     "end_time": "2020-09-06T19:42:52.900116",
     "exception": false,
     "start_time": "2020-09-06T19:42:52.854398",
     "status": "completed"
    },
    "tags": []
   },
   "outputs": [],
   "source": [
    "## Calculating the accuracy score and confusion matrix\n",
    "from sklearn.metrics import accuracy_score,confusion_matrix\n",
    "ac_SVC = accuracy_score(y_test,y_pred)\n",
    "cm = confusion_matrix(y_test,y_pred)"
   ]
  },
  {
   "cell_type": "code",
   "execution_count": 22,
   "metadata": {
    "execution": {
     "iopub.execute_input": "2020-09-06T19:42:52.975871Z",
     "iopub.status.busy": "2020-09-06T19:42:52.974852Z",
     "iopub.status.idle": "2020-09-06T19:42:52.978340Z",
     "shell.execute_reply": "2020-09-06T19:42:52.978914Z"
    },
    "papermill": {
     "duration": 0.043626,
     "end_time": "2020-09-06T19:42:52.979112",
     "exception": false,
     "start_time": "2020-09-06T19:42:52.935486",
     "status": "completed"
    },
    "tags": []
   },
   "outputs": [
    {
     "name": "stdout",
     "output_type": "stream",
     "text": [
      "0.8688524590163934\n"
     ]
    }
   ],
   "source": [
    "## Printing the accuracy score\n",
    "print(ac_SVC)"
   ]
  },
  {
   "cell_type": "code",
   "execution_count": 23,
   "metadata": {
    "execution": {
     "iopub.execute_input": "2020-09-06T19:42:53.054818Z",
     "iopub.status.busy": "2020-09-06T19:42:53.053770Z",
     "iopub.status.idle": "2020-09-06T19:42:53.058294Z",
     "shell.execute_reply": "2020-09-06T19:42:53.057561Z"
    },
    "papermill": {
     "duration": 0.044572,
     "end_time": "2020-09-06T19:42:53.058415",
     "exception": false,
     "start_time": "2020-09-06T19:42:53.013843",
     "status": "completed"
    },
    "tags": []
   },
   "outputs": [
    {
     "name": "stdout",
     "output_type": "stream",
     "text": [
      "[[21  6]\n",
      " [ 2 32]]\n"
     ]
    }
   ],
   "source": [
    "## Printing the confusion matrix\n",
    "print(cm)"
   ]
  },
  {
   "cell_type": "markdown",
   "execution_count": null,
   "metadata": {
    "papermill": {
     "duration": 0.035,
     "end_time": "2020-09-06T19:42:53.129595",
     "exception": false,
     "start_time": "2020-09-06T19:42:53.094595",
     "status": "completed"
    },
    "tags": []
   },
   "source": [
    "---"
   ]
  },
  {
   "cell_type": "code",
   "execution_count": 24,
   "metadata": {
    "execution": {
     "iopub.execute_input": "2020-09-06T19:42:53.209699Z",
     "iopub.status.busy": "2020-09-06T19:42:53.208928Z",
     "iopub.status.idle": "2020-09-06T19:42:53.217140Z",
     "shell.execute_reply": "2020-09-06T19:42:53.216499Z"
    },
    "papermill": {
     "duration": 0.050022,
     "end_time": "2020-09-06T19:42:53.217262",
     "exception": false,
     "start_time": "2020-09-06T19:42:53.167240",
     "status": "completed"
    },
    "tags": []
   },
   "outputs": [
    {
     "data": {
      "text/plain": [
       "SVC(kernel='linear', random_state=0)"
      ]
     },
     "execution_count": 24,
     "metadata": {},
     "output_type": "execute_result"
    }
   ],
   "source": [
    "## Applying the Linear SVC model on the training set\n",
    "from sklearn.svm import SVC\n",
    "classifier = SVC(kernel='linear',random_state=0)\n",
    "classifier.fit(x_train,y_train)"
   ]
  },
  {
   "cell_type": "code",
   "execution_count": 25,
   "metadata": {
    "execution": {
     "iopub.execute_input": "2020-09-06T19:42:53.295787Z",
     "iopub.status.busy": "2020-09-06T19:42:53.294272Z",
     "iopub.status.idle": "2020-09-06T19:42:53.300054Z",
     "shell.execute_reply": "2020-09-06T19:42:53.299319Z"
    },
    "papermill": {
     "duration": 0.047286,
     "end_time": "2020-09-06T19:42:53.300178",
     "exception": false,
     "start_time": "2020-09-06T19:42:53.252892",
     "status": "completed"
    },
    "tags": []
   },
   "outputs": [
    {
     "name": "stdout",
     "output_type": "stream",
     "text": [
      "[[0 0]\n",
      " [1 1]\n",
      " [1 0]\n",
      " [0 0]\n",
      " [0 1]\n",
      " [1 0]\n",
      " [0 0]\n",
      " [0 0]\n",
      " [0 0]\n",
      " [0 0]\n",
      " [1 1]\n",
      " [1 1]\n",
      " [0 0]\n",
      " [1 1]\n",
      " [1 1]\n",
      " [1 1]\n",
      " [0 1]\n",
      " [1 1]\n",
      " [0 0]\n",
      " [1 1]\n",
      " [1 1]\n",
      " [0 0]\n",
      " [0 0]\n",
      " [0 0]\n",
      " [1 1]\n",
      " [1 0]\n",
      " [0 0]\n",
      " [0 0]\n",
      " [1 1]\n",
      " [1 1]\n",
      " [1 0]\n",
      " [0 0]\n",
      " [1 1]\n",
      " [1 1]\n",
      " [1 1]\n",
      " [1 0]\n",
      " [0 0]\n",
      " [1 1]\n",
      " [0 0]\n",
      " [0 0]\n",
      " [1 1]\n",
      " [1 1]\n",
      " [0 1]\n",
      " [0 0]\n",
      " [0 1]\n",
      " [1 1]\n",
      " [1 1]\n",
      " [1 0]\n",
      " [0 0]\n",
      " [1 1]\n",
      " [1 1]\n",
      " [1 1]\n",
      " [1 1]\n",
      " [1 1]\n",
      " [1 1]\n",
      " [0 0]\n",
      " [1 1]\n",
      " [1 0]\n",
      " [1 1]\n",
      " [1 1]\n",
      " [1 1]]\n"
     ]
    }
   ],
   "source": [
    "## Predicting test results\n",
    "y_pred = classifier.predict(x_test)\n",
    "np.set_printoptions(precision=2)\n",
    "print(np.concatenate((y_pred.reshape(len(y_pred),1),y_test.reshape(len(y_test),1)),1))"
   ]
  },
  {
   "cell_type": "code",
   "execution_count": 26,
   "metadata": {
    "execution": {
     "iopub.execute_input": "2020-09-06T19:42:53.469283Z",
     "iopub.status.busy": "2020-09-06T19:42:53.467937Z",
     "iopub.status.idle": "2020-09-06T19:42:53.690068Z",
     "shell.execute_reply": "2020-09-06T19:42:53.690771Z"
    },
    "papermill": {
     "duration": 0.355693,
     "end_time": "2020-09-06T19:42:53.690957",
     "exception": false,
     "start_time": "2020-09-06T19:42:53.335264",
     "status": "completed"
    },
    "tags": []
   },
   "outputs": [
    {
     "data": {
      "image/png": "[encoded data removed]",
      "text/plain": [
       "<Figure size 576x432 with 1 Axes>"
      ]
     },
     "metadata": {},
     "output_type": "display_data"
    }
   ],
   "source": [
    "# Visualising the test results vs predicted results\n",
    "bins = np.linspace(-1,2,10)\n",
    "plt.figure(figsize=(8,6))\n",
    "ax =plt.hist([y_test,y_pred],bins=bins,color=['blue','lawngreen'],label=['Actual result','Predicted result'],align='left')\n",
    "plt.xlabel('Target variable: Angiographic disease status',fontdict={'fontsize' : 12})\n",
    "plt.ylabel('Test set sample size',fontdict={'fontsize' : 12})\n",
    "plt.xlim(-1,2)\n",
    "plt.xticks([0,1])\n",
    "plt.ylim(0,len(y_test))\n",
    "plt.legend(prop={'size': 12})\n",
    "plt.show()"
   ]
  },
  {
   "cell_type": "code",
   "execution_count": 27,
   "metadata": {
    "execution": {
     "iopub.execute_input": "2020-09-06T19:42:53.779131Z",
     "iopub.status.busy": "2020-09-06T19:42:53.777136Z",
     "iopub.status.idle": "2020-09-06T19:42:53.782726Z",
     "shell.execute_reply": "2020-09-06T19:42:53.783533Z"
    },
    "papermill": {
     "duration": 0.057383,
     "end_time": "2020-09-06T19:42:53.783733",
     "exception": false,
     "start_time": "2020-09-06T19:42:53.726350",
     "status": "completed"
    },
    "tags": []
   },
   "outputs": [],
   "source": [
    "## Calculating the accuracy score and confusion matrix\n",
    "from sklearn.metrics import accuracy_score,confusion_matrix\n",
    "ac_LinearSVC = accuracy_score(y_test,y_pred)\n",
    "cm = confusion_matrix(y_test,y_pred)"
   ]
  },
  {
   "cell_type": "code",
   "execution_count": 28,
   "metadata": {
    "execution": {
     "iopub.execute_input": "2020-09-06T19:42:53.870081Z",
     "iopub.status.busy": "2020-09-06T19:42:53.869085Z",
     "iopub.status.idle": "2020-09-06T19:42:53.873639Z",
     "shell.execute_reply": "2020-09-06T19:42:53.872759Z"
    },
    "papermill": {
     "duration": 0.048348,
     "end_time": "2020-09-06T19:42:53.873800",
     "exception": false,
     "start_time": "2020-09-06T19:42:53.825452",
     "status": "completed"
    },
    "tags": []
   },
   "outputs": [
    {
     "name": "stdout",
     "output_type": "stream",
     "text": [
      "0.819672131147541\n"
     ]
    }
   ],
   "source": [
    "## Printing accuracy score\n",
    "print(ac_LinearSVC)"
   ]
  },
  {
   "cell_type": "code",
   "execution_count": 29,
   "metadata": {
    "execution": {
     "iopub.execute_input": "2020-09-06T19:42:53.959517Z",
     "iopub.status.busy": "2020-09-06T19:42:53.958527Z",
     "iopub.status.idle": "2020-09-06T19:42:53.961952Z",
     "shell.execute_reply": "2020-09-06T19:42:53.962753Z"
    },
    "papermill": {
     "duration": 0.047332,
     "end_time": "2020-09-06T19:42:53.962957",
     "exception": false,
     "start_time": "2020-09-06T19:42:53.915625",
     "status": "completed"
    },
    "tags": []
   },
   "outputs": [
    {
     "name": "stdout",
     "output_type": "stream",
     "text": [
      "[[20  7]\n",
      " [ 4 30]]\n"
     ]
    }
   ],
   "source": [
    "#Printing confusion matrix\n",
    "print(cm)"
   ]
  },
  {
   "cell_type": "markdown",
   "execution_count": null,
   "metadata": {
    "papermill": {
     "duration": 0.036721,
     "end_time": "2020-09-06T19:42:54.044253",
     "exception": false,
     "start_time": "2020-09-06T19:42:54.007532",
     "status": "completed"
    },
    "tags": []
   },
   "source": [
    "---"
   ]
  },
  {
   "cell_type": "code",
   "execution_count": 30,
   "metadata": {
    "execution": {
     "iopub.execute_input": "2020-09-06T19:42:54.124205Z",
     "iopub.status.busy": "2020-09-06T19:42:54.123207Z",
     "iopub.status.idle": "2020-09-06T19:42:54.237186Z",
     "shell.execute_reply": "2020-09-06T19:42:54.236461Z"
    },
    "papermill": {
     "duration": 0.156631,
     "end_time": "2020-09-06T19:42:54.237324",
     "exception": false,
     "start_time": "2020-09-06T19:42:54.080693",
     "status": "completed"
    },
    "tags": []
   },
   "outputs": [
    {
     "data": {
      "text/plain": [
       "KNeighborsClassifier()"
      ]
     },
     "execution_count": 30,
     "metadata": {},
     "output_type": "execute_result"
    }
   ],
   "source": [
    "## Applying the K-NN classification model on the training set\n",
    "from sklearn.neighbors import KNeighborsClassifier\n",
    "classifier = KNeighborsClassifier()\n",
    "classifier.fit(x_train,y_train)"
   ]
  },
  {
   "cell_type": "code",
   "execution_count": 31,
   "metadata": {
    "execution": {
     "iopub.execute_input": "2020-09-06T19:42:54.319252Z",
     "iopub.status.busy": "2020-09-06T19:42:54.318172Z",
     "iopub.status.idle": "2020-09-06T19:42:54.327123Z",
     "shell.execute_reply": "2020-09-06T19:42:54.327673Z"
    },
    "papermill": {
     "duration": 0.05338,
     "end_time": "2020-09-06T19:42:54.327834",
     "exception": false,
     "start_time": "2020-09-06T19:42:54.274454",
     "status": "completed"
    },
    "tags": []
   },
   "outputs": [
    {
     "name": "stdout",
     "output_type": "stream",
     "text": [
      "[[0 0]\n",
      " [0 1]\n",
      " [0 0]\n",
      " [0 0]\n",
      " [0 1]\n",
      " [1 0]\n",
      " [0 0]\n",
      " [0 0]\n",
      " [0 0]\n",
      " [0 0]\n",
      " [1 1]\n",
      " [1 1]\n",
      " [0 0]\n",
      " [1 1]\n",
      " [1 1]\n",
      " [1 1]\n",
      " [0 1]\n",
      " [1 1]\n",
      " [0 0]\n",
      " [1 1]\n",
      " [1 1]\n",
      " [0 0]\n",
      " [0 0]\n",
      " [0 0]\n",
      " [1 1]\n",
      " [1 0]\n",
      " [0 0]\n",
      " [1 0]\n",
      " [1 1]\n",
      " [1 1]\n",
      " [1 0]\n",
      " [0 0]\n",
      " [1 1]\n",
      " [1 1]\n",
      " [1 1]\n",
      " [0 0]\n",
      " [0 0]\n",
      " [1 1]\n",
      " [0 0]\n",
      " [0 0]\n",
      " [1 1]\n",
      " [1 1]\n",
      " [1 1]\n",
      " [0 0]\n",
      " [1 1]\n",
      " [1 1]\n",
      " [1 1]\n",
      " [1 0]\n",
      " [0 0]\n",
      " [1 1]\n",
      " [1 1]\n",
      " [1 1]\n",
      " [1 1]\n",
      " [1 1]\n",
      " [1 1]\n",
      " [1 0]\n",
      " [1 1]\n",
      " [1 0]\n",
      " [1 1]\n",
      " [1 1]\n",
      " [1 1]]\n"
     ]
    }
   ],
   "source": [
    "## Predicting test results\n",
    "y_pred = classifier.predict(x_test)\n",
    "np.set_printoptions(precision=2)\n",
    "print(np.concatenate((y_pred.reshape(len(y_pred),1),y_test.reshape(len(y_test),1)),1))"
   ]
  },
  {
   "cell_type": "code",
   "execution_count": 32,
   "metadata": {
    "execution": {
     "iopub.execute_input": "2020-09-06T19:42:54.425352Z",
     "iopub.status.busy": "2020-09-06T19:42:54.421397Z",
     "iopub.status.idle": "2020-09-06T19:42:54.667143Z",
     "shell.execute_reply": "2020-09-06T19:42:54.666160Z"
    },
    "papermill": {
     "duration": 0.302813,
     "end_time": "2020-09-06T19:42:54.667304",
     "exception": false,
     "start_time": "2020-09-06T19:42:54.364491",
     "status": "completed"
    },
    "tags": []
   },
   "outputs": [
    {
     "data": {
      "image/png": "[encoded data removed]",
      "text/plain": [
       "<Figure size 576x432 with 1 Axes>"
      ]
     },
     "metadata": {},
     "output_type": "display_data"
    }
   ],
   "source": [
    "# Visualising the test results vs predicted results\n",
    "bins = np.linspace(-1,2,10)\n",
    "plt.figure(figsize=(8,6))\n",
    "ax =plt.hist([y_test,y_pred],bins=bins,color=['blue','lawngreen'],label=['Actual result','Predicted result'],align='left')\n",
    "plt.xlabel('Target variable: Angiographic disease status',fontdict={'fontsize' : 12})\n",
    "plt.ylabel('Test set sample size',fontdict={'fontsize' : 12})\n",
    "plt.xlim(-1,2)\n",
    "plt.xticks([0,1])\n",
    "plt.ylim(0,len(y_test))\n",
    "plt.legend(prop={'size': 12})\n",
    "plt.show()"
   ]
  },
  {
   "cell_type": "code",
   "execution_count": 33,
   "metadata": {
    "execution": {
     "iopub.execute_input": "2020-09-06T19:42:54.755104Z",
     "iopub.status.busy": "2020-09-06T19:42:54.754148Z",
     "iopub.status.idle": "2020-09-06T19:42:54.758751Z",
     "shell.execute_reply": "2020-09-06T19:42:54.758164Z"
    },
    "papermill": {
     "duration": 0.048452,
     "end_time": "2020-09-06T19:42:54.758884",
     "exception": false,
     "start_time": "2020-09-06T19:42:54.710432",
     "status": "completed"
    },
    "tags": []
   },
   "outputs": [],
   "source": [
    "## Calculating the accuracy score and confusion matrix\n",
    "from sklearn.metrics import accuracy_score,confusion_matrix\n",
    "ac_KNN = accuracy_score(y_test,y_pred)\n",
    "cm = confusion_matrix(y_test,y_pred)"
   ]
  },
  {
   "cell_type": "code",
   "execution_count": 34,
   "metadata": {
    "execution": {
     "iopub.execute_input": "2020-09-06T19:42:54.839628Z",
     "iopub.status.busy": "2020-09-06T19:42:54.838605Z",
     "iopub.status.idle": "2020-09-06T19:42:54.842497Z",
     "shell.execute_reply": "2020-09-06T19:42:54.843132Z"
    },
    "papermill": {
     "duration": 0.046761,
     "end_time": "2020-09-06T19:42:54.843294",
     "exception": false,
     "start_time": "2020-09-06T19:42:54.796533",
     "status": "completed"
    },
    "tags": []
   },
   "outputs": [
    {
     "name": "stdout",
     "output_type": "stream",
     "text": [
      "0.8360655737704918\n"
     ]
    }
   ],
   "source": [
    "# Printing accuarcy score\n",
    "print(ac_KNN)"
   ]
  },
  {
   "cell_type": "code",
   "execution_count": 35,
   "metadata": {
    "execution": {
     "iopub.execute_input": "2020-09-06T19:42:54.971728Z",
     "iopub.status.busy": "2020-09-06T19:42:54.970804Z",
     "iopub.status.idle": "2020-09-06T19:42:54.975371Z",
     "shell.execute_reply": "2020-09-06T19:42:54.974634Z"
    },
    "papermill": {
     "duration": 0.047281,
     "end_time": "2020-09-06T19:42:54.975497",
     "exception": false,
     "start_time": "2020-09-06T19:42:54.928216",
     "status": "completed"
    },
    "tags": []
   },
   "outputs": [
    {
     "name": "stdout",
     "output_type": "stream",
     "text": [
      "[[20  7]\n",
      " [ 3 31]]\n"
     ]
    }
   ],
   "source": [
    "# Printing confusion matrix\n",
    "print(cm)"
   ]
  },
  {
   "cell_type": "markdown",
   "execution_count": null,
   "metadata": {
    "papermill": {
     "duration": 0.036767,
     "end_time": "2020-09-06T19:42:55.049299",
     "exception": false,
     "start_time": "2020-09-06T19:42:55.012532",
     "status": "completed"
    },
    "tags": []
   },
   "source": [
    "---"
   ]
  },
  {
   "cell_type": "code",
   "execution_count": 36,
   "metadata": {
    "execution": {
     "iopub.execute_input": "2020-09-06T19:42:55.130409Z",
     "iopub.status.busy": "2020-09-06T19:42:55.129595Z",
     "iopub.status.idle": "2020-09-06T19:42:55.140621Z",
     "shell.execute_reply": "2020-09-06T19:42:55.139765Z"
    },
    "papermill": {
     "duration": 0.053362,
     "end_time": "2020-09-06T19:42:55.140782",
     "exception": false,
     "start_time": "2020-09-06T19:42:55.087420",
     "status": "completed"
    },
    "tags": []
   },
   "outputs": [
    {
     "data": {
      "text/plain": [
       "GaussianNB()"
      ]
     },
     "execution_count": 36,
     "metadata": {},
     "output_type": "execute_result"
    }
   ],
   "source": [
    "## Applying the Naive Bayes classification model on the training set\n",
    "from sklearn.naive_bayes import GaussianNB\n",
    "classifier = GaussianNB()\n",
    "classifier.fit(x_train,y_train)"
   ]
  },
  {
   "cell_type": "code",
   "execution_count": 37,
   "metadata": {
    "execution": {
     "iopub.execute_input": "2020-09-06T19:42:55.229282Z",
     "iopub.status.busy": "2020-09-06T19:42:55.228351Z",
     "iopub.status.idle": "2020-09-06T19:42:55.232947Z",
     "shell.execute_reply": "2020-09-06T19:42:55.233520Z"
    },
    "papermill": {
     "duration": 0.051578,
     "end_time": "2020-09-06T19:42:55.233679",
     "exception": false,
     "start_time": "2020-09-06T19:42:55.182101",
     "status": "completed"
    },
    "tags": []
   },
   "outputs": [
    {
     "name": "stdout",
     "output_type": "stream",
     "text": [
      "[[0 0]\n",
      " [1 1]\n",
      " [1 0]\n",
      " [0 0]\n",
      " [0 1]\n",
      " [1 0]\n",
      " [0 0]\n",
      " [0 0]\n",
      " [0 0]\n",
      " [0 0]\n",
      " [1 1]\n",
      " [1 1]\n",
      " [0 0]\n",
      " [1 1]\n",
      " [1 1]\n",
      " [1 1]\n",
      " [0 1]\n",
      " [1 1]\n",
      " [0 0]\n",
      " [1 1]\n",
      " [1 1]\n",
      " [1 0]\n",
      " [0 0]\n",
      " [0 0]\n",
      " [1 1]\n",
      " [0 0]\n",
      " [0 0]\n",
      " [1 0]\n",
      " [1 1]\n",
      " [1 1]\n",
      " [0 0]\n",
      " [0 0]\n",
      " [1 1]\n",
      " [1 1]\n",
      " [1 1]\n",
      " [0 0]\n",
      " [0 0]\n",
      " [1 1]\n",
      " [0 0]\n",
      " [0 0]\n",
      " [1 1]\n",
      " [1 1]\n",
      " [0 1]\n",
      " [0 0]\n",
      " [1 1]\n",
      " [1 1]\n",
      " [1 1]\n",
      " [1 0]\n",
      " [0 0]\n",
      " [1 1]\n",
      " [1 1]\n",
      " [1 1]\n",
      " [1 1]\n",
      " [1 1]\n",
      " [1 1]\n",
      " [0 0]\n",
      " [1 1]\n",
      " [1 0]\n",
      " [1 1]\n",
      " [1 1]\n",
      " [1 1]]\n"
     ]
    }
   ],
   "source": [
    "## Predicting test results\n",
    "y_pred = classifier.predict(x_test)\n",
    "np.set_printoptions(precision=2)\n",
    "print(np.concatenate((y_pred.reshape(len(y_pred),1),y_test.reshape(len(y_test),1)),1))"
   ]
  },
  {
   "cell_type": "code",
   "execution_count": 38,
   "metadata": {
    "execution": {
     "iopub.execute_input": "2020-09-06T19:42:55.330626Z",
     "iopub.status.busy": "2020-09-06T19:42:55.323571Z",
     "iopub.status.idle": "2020-09-06T19:42:55.577714Z",
     "shell.execute_reply": "2020-09-06T19:42:55.576767Z"
    },
    "papermill": {
     "duration": 0.304854,
     "end_time": "2020-09-06T19:42:55.577855",
     "exception": false,
     "start_time": "2020-09-06T19:42:55.273001",
     "status": "completed"
    },
    "tags": []
   },
   "outputs": [
    {
     "data": {
      "image/png": "[encoded data removed]",
      "text/plain": [
       "<Figure size 576x432 with 1 Axes>"
      ]
     },
     "metadata": {},
     "output_type": "display_data"
    }
   ],
   "source": [
    "# Visualising the test results vs predicted results\n",
    "bins = np.linspace(-1,2,10)\n",
    "plt.figure(figsize=(8,6))\n",
    "ax =plt.hist([y_test,y_pred],bins=bins,color=['blue','lawngreen'],label=['Actual result','Predicted result'],align='left')\n",
    "plt.xlabel('Target variable: Angiographic disease status',fontdict={'fontsize' : 12})\n",
    "plt.ylabel('Test set sample size',fontdict={'fontsize' : 12})\n",
    "plt.xlim(-1,2)\n",
    "plt.xticks([0,1])\n",
    "plt.ylim(0,len(y_test))\n",
    "plt.legend(prop={'size': 12})\n",
    "plt.show()"
   ]
  },
  {
   "cell_type": "code",
   "execution_count": 39,
   "metadata": {
    "execution": {
     "iopub.execute_input": "2020-09-06T19:42:55.662865Z",
     "iopub.status.busy": "2020-09-06T19:42:55.661847Z",
     "iopub.status.idle": "2020-09-06T19:42:55.666865Z",
     "shell.execute_reply": "2020-09-06T19:42:55.666285Z"
    },
    "papermill": {
     "duration": 0.050693,
     "end_time": "2020-09-06T19:42:55.667020",
     "exception": false,
     "start_time": "2020-09-06T19:42:55.616327",
     "status": "completed"
    },
    "tags": []
   },
   "outputs": [],
   "source": [
    "## Calculating the accuracy score and confusion matrix\n",
    "from sklearn.metrics import accuracy_score,confusion_matrix\n",
    "ac_NBayes = accuracy_score(y_test,y_pred)\n",
    "cm = confusion_matrix(y_test,y_pred)"
   ]
  },
  {
   "cell_type": "code",
   "execution_count": 40,
   "metadata": {
    "execution": {
     "iopub.execute_input": "2020-09-06T19:42:55.749707Z",
     "iopub.status.busy": "2020-09-06T19:42:55.748714Z",
     "iopub.status.idle": "2020-09-06T19:42:55.752285Z",
     "shell.execute_reply": "2020-09-06T19:42:55.753113Z"
    },
    "papermill": {
     "duration": 0.047394,
     "end_time": "2020-09-06T19:42:55.753311",
     "exception": false,
     "start_time": "2020-09-06T19:42:55.705917",
     "status": "completed"
    },
    "tags": []
   },
   "outputs": [
    {
     "name": "stdout",
     "output_type": "stream",
     "text": [
      "0.8524590163934426\n"
     ]
    }
   ],
   "source": [
    "# Printing accuracy score\n",
    "print(ac_NBayes)"
   ]
  },
  {
   "cell_type": "code",
   "execution_count": 41,
   "metadata": {
    "execution": {
     "iopub.execute_input": "2020-09-06T19:42:55.841583Z",
     "iopub.status.busy": "2020-09-06T19:42:55.840455Z",
     "iopub.status.idle": "2020-09-06T19:42:55.844136Z",
     "shell.execute_reply": "2020-09-06T19:42:55.844914Z"
    },
    "papermill": {
     "duration": 0.047961,
     "end_time": "2020-09-06T19:42:55.845130",
     "exception": false,
     "start_time": "2020-09-06T19:42:55.797169",
     "status": "completed"
    },
    "tags": []
   },
   "outputs": [
    {
     "name": "stdout",
     "output_type": "stream",
     "text": [
      "[[21  6]\n",
      " [ 3 31]]\n"
     ]
    }
   ],
   "source": [
    "# Printing confusion matrix\n",
    "print(cm)"
   ]
  },
  {
   "cell_type": "markdown",
   "execution_count": null,
   "metadata": {
    "papermill": {
     "duration": 0.040107,
     "end_time": "2020-09-06T19:42:55.937612",
     "exception": false,
     "start_time": "2020-09-06T19:42:55.897505",
     "status": "completed"
    },
    "tags": []
   },
   "source": [
    "---"
   ]
  },
  {
   "cell_type": "code",
   "execution_count": 42,
   "metadata": {
    "execution": {
     "iopub.execute_input": "2020-09-06T19:42:56.021449Z",
     "iopub.status.busy": "2020-09-06T19:42:56.020595Z",
     "iopub.status.idle": "2020-09-06T19:42:56.078860Z",
     "shell.execute_reply": "2020-09-06T19:42:56.078135Z"
    },
    "papermill": {
     "duration": 0.102069,
     "end_time": "2020-09-06T19:42:56.079010",
     "exception": false,
     "start_time": "2020-09-06T19:42:55.976941",
     "status": "completed"
    },
    "tags": []
   },
   "outputs": [
    {
     "data": {
      "text/plain": [
       "DecisionTreeClassifier(criterion='entropy', random_state=0)"
      ]
     },
     "execution_count": 42,
     "metadata": {},
     "output_type": "execute_result"
    }
   ],
   "source": [
    "## Applying the Decision Tree Classification model on the training set\n",
    "from sklearn.tree import DecisionTreeClassifier\n",
    "classifier = DecisionTreeClassifier(criterion='entropy',random_state=0)\n",
    "classifier.fit(x_train,y_train)"
   ]
  },
  {
   "cell_type": "code",
   "execution_count": 43,
   "metadata": {
    "execution": {
     "iopub.execute_input": "2020-09-06T19:42:56.166645Z",
     "iopub.status.busy": "2020-09-06T19:42:56.165586Z",
     "iopub.status.idle": "2020-09-06T19:42:56.170548Z",
     "shell.execute_reply": "2020-09-06T19:42:56.169444Z"
    },
    "papermill": {
     "duration": 0.052024,
     "end_time": "2020-09-06T19:42:56.170708",
     "exception": false,
     "start_time": "2020-09-06T19:42:56.118684",
     "status": "completed"
    },
    "tags": []
   },
   "outputs": [
    {
     "name": "stdout",
     "output_type": "stream",
     "text": [
      "[[0 0]\n",
      " [0 1]\n",
      " [0 0]\n",
      " [0 0]\n",
      " [0 1]\n",
      " [1 0]\n",
      " [0 0]\n",
      " [0 0]\n",
      " [0 0]\n",
      " [0 0]\n",
      " [0 1]\n",
      " [1 1]\n",
      " [0 0]\n",
      " [1 1]\n",
      " [1 1]\n",
      " [1 1]\n",
      " [0 1]\n",
      " [1 1]\n",
      " [0 0]\n",
      " [1 1]\n",
      " [1 1]\n",
      " [0 0]\n",
      " [0 0]\n",
      " [0 0]\n",
      " [0 1]\n",
      " [1 0]\n",
      " [0 0]\n",
      " [0 0]\n",
      " [1 1]\n",
      " [1 1]\n",
      " [1 0]\n",
      " [0 0]\n",
      " [1 1]\n",
      " [0 1]\n",
      " [1 1]\n",
      " [0 0]\n",
      " [0 0]\n",
      " [1 1]\n",
      " [0 0]\n",
      " [0 0]\n",
      " [1 1]\n",
      " [0 1]\n",
      " [1 1]\n",
      " [0 0]\n",
      " [1 1]\n",
      " [1 1]\n",
      " [1 1]\n",
      " [1 0]\n",
      " [0 0]\n",
      " [1 1]\n",
      " [1 1]\n",
      " [1 1]\n",
      " [1 1]\n",
      " [0 1]\n",
      " [1 1]\n",
      " [0 0]\n",
      " [1 1]\n",
      " [1 0]\n",
      " [1 1]\n",
      " [1 1]\n",
      " [1 1]]\n"
     ]
    }
   ],
   "source": [
    "## Predicting test results\n",
    "y_pred = classifier.predict(x_test)\n",
    "np.set_printoptions(precision=2)\n",
    "print(np.concatenate((y_pred.reshape(len(y_pred),1),y_test.reshape(len(y_test),1)),1))"
   ]
  },
  {
   "cell_type": "code",
   "execution_count": 44,
   "metadata": {
    "execution": {
     "iopub.execute_input": "2020-09-06T19:42:56.270021Z",
     "iopub.status.busy": "2020-09-06T19:42:56.264167Z",
     "iopub.status.idle": "2020-09-06T19:42:56.509754Z",
     "shell.execute_reply": "2020-09-06T19:42:56.510378Z"
    },
    "papermill": {
     "duration": 0.297508,
     "end_time": "2020-09-06T19:42:56.510536",
     "exception": false,
     "start_time": "2020-09-06T19:42:56.213028",
     "status": "completed"
    },
    "tags": []
   },
   "outputs": [
    {
     "data": {
      "image/png": "[encoded data removed]",
      "text/plain": [
       "<Figure size 576x432 with 1 Axes>"
      ]
     },
     "metadata": {},
     "output_type": "display_data"
    }
   ],
   "source": [
    "# Visualising the test results vs predicted results\n",
    "bins = np.linspace(-1,2,10)\n",
    "plt.figure(figsize=(8,6))\n",
    "ax =plt.hist([y_test,y_pred],bins=bins,color=['blue','lawngreen'],label=['Actual result','Predicted result'],align='left')\n",
    "plt.xlabel('Target variable: Angiographic disease status',fontdict={'fontsize' : 12})\n",
    "plt.ylabel('Test set sample size',fontdict={'fontsize' : 12})\n",
    "plt.xlim(-1,2)\n",
    "plt.xticks([0,1])\n",
    "plt.ylim(0,len(y_test))\n",
    "plt.legend(prop={'size': 12})\n",
    "plt.show()"
   ]
  },
  {
   "cell_type": "code",
   "execution_count": 45,
   "metadata": {
    "execution": {
     "iopub.execute_input": "2020-09-06T19:42:56.598241Z",
     "iopub.status.busy": "2020-09-06T19:42:56.597442Z",
     "iopub.status.idle": "2020-09-06T19:42:56.601675Z",
     "shell.execute_reply": "2020-09-06T19:42:56.600873Z"
    },
    "papermill": {
     "duration": 0.051763,
     "end_time": "2020-09-06T19:42:56.601797",
     "exception": false,
     "start_time": "2020-09-06T19:42:56.550034",
     "status": "completed"
    },
    "tags": []
   },
   "outputs": [],
   "source": [
    "## Calculating the accuracy score and confusion matrix\n",
    "from sklearn.metrics import accuracy_score,confusion_matrix\n",
    "ac_DecisionTree = accuracy_score(y_test,y_pred)\n",
    "cm = confusion_matrix(y_test,y_pred)"
   ]
  },
  {
   "cell_type": "code",
   "execution_count": 46,
   "metadata": {
    "execution": {
     "iopub.execute_input": "2020-09-06T19:42:56.687251Z",
     "iopub.status.busy": "2020-09-06T19:42:56.686351Z",
     "iopub.status.idle": "2020-09-06T19:42:56.690908Z",
     "shell.execute_reply": "2020-09-06T19:42:56.690153Z"
    },
    "papermill": {
     "duration": 0.049359,
     "end_time": "2020-09-06T19:42:56.691097",
     "exception": false,
     "start_time": "2020-09-06T19:42:56.641738",
     "status": "completed"
    },
    "tags": []
   },
   "outputs": [
    {
     "name": "stdout",
     "output_type": "stream",
     "text": [
      "0.7868852459016393\n"
     ]
    }
   ],
   "source": [
    "## Printing accuracy score\n",
    "print(ac_DecisionTree)"
   ]
  },
  {
   "cell_type": "code",
   "execution_count": 47,
   "metadata": {
    "execution": {
     "iopub.execute_input": "2020-09-06T19:42:56.777177Z",
     "iopub.status.busy": "2020-09-06T19:42:56.776269Z",
     "iopub.status.idle": "2020-09-06T19:42:56.780468Z",
     "shell.execute_reply": "2020-09-06T19:42:56.779861Z"
    },
    "papermill": {
     "duration": 0.048673,
     "end_time": "2020-09-06T19:42:56.780602",
     "exception": false,
     "start_time": "2020-09-06T19:42:56.731929",
     "status": "completed"
    },
    "tags": []
   },
   "outputs": [
    {
     "name": "stdout",
     "output_type": "stream",
     "text": [
      "[[22  5]\n",
      " [ 8 26]]\n"
     ]
    }
   ],
   "source": [
    "## Printing confusion matrix\n",
    "print(cm)"
   ]
  },
  {
   "cell_type": "markdown",
   "execution_count": null,
   "metadata": {
    "papermill": {
     "duration": 0.039077,
     "end_time": "2020-09-06T19:42:56.859178",
     "exception": false,
     "start_time": "2020-09-06T19:42:56.820101",
     "status": "completed"
    },
    "tags": []
   },
   "source": [
    "---"
   ]
  },
  {
   "cell_type": "code",
   "execution_count": 48,
   "metadata": {
    "execution": {
     "iopub.execute_input": "2020-09-06T19:42:56.944253Z",
     "iopub.status.busy": "2020-09-06T19:42:56.943327Z",
     "iopub.status.idle": "2020-09-06T19:42:57.471833Z",
     "shell.execute_reply": "2020-09-06T19:42:57.470940Z"
    },
    "papermill": {
     "duration": 0.57327,
     "end_time": "2020-09-06T19:42:57.472055",
     "exception": false,
     "start_time": "2020-09-06T19:42:56.898785",
     "status": "completed"
    },
    "tags": []
   },
   "outputs": [
    {
     "data": {
      "text/plain": [
       "RandomForestClassifier(criterion='entropy', n_estimators=200, random_state=0)"
      ]
     },
     "execution_count": 48,
     "metadata": {},
     "output_type": "execute_result"
    }
   ],
   "source": [
    "## Applying the Random Forest Classification model on the training set\n",
    "from sklearn.ensemble import RandomForestClassifier\n",
    "classifier = RandomForestClassifier(n_estimators=200,criterion='entropy',random_state=0)\n",
    "classifier.fit(x_train,y_train)"
   ]
  },
  {
   "cell_type": "code",
   "execution_count": 49,
   "metadata": {
    "execution": {
     "iopub.execute_input": "2020-09-06T19:42:57.568702Z",
     "iopub.status.busy": "2020-09-06T19:42:57.567774Z",
     "iopub.status.idle": "2020-09-06T19:42:57.596593Z",
     "shell.execute_reply": "2020-09-06T19:42:57.597834Z"
    },
    "papermill": {
     "duration": 0.081274,
     "end_time": "2020-09-06T19:42:57.598044",
     "exception": false,
     "start_time": "2020-09-06T19:42:57.516770",
     "status": "completed"
    },
    "tags": []
   },
   "outputs": [
    {
     "name": "stdout",
     "output_type": "stream",
     "text": [
      "[[0 0]\n",
      " [1 1]\n",
      " [1 0]\n",
      " [0 0]\n",
      " [0 1]\n",
      " [1 0]\n",
      " [0 0]\n",
      " [0 0]\n",
      " [0 0]\n",
      " [0 0]\n",
      " [1 1]\n",
      " [1 1]\n",
      " [0 0]\n",
      " [1 1]\n",
      " [1 1]\n",
      " [1 1]\n",
      " [0 1]\n",
      " [1 1]\n",
      " [0 0]\n",
      " [1 1]\n",
      " [1 1]\n",
      " [0 0]\n",
      " [0 0]\n",
      " [0 0]\n",
      " [1 1]\n",
      " [0 0]\n",
      " [0 0]\n",
      " [0 0]\n",
      " [1 1]\n",
      " [1 1]\n",
      " [1 0]\n",
      " [0 0]\n",
      " [1 1]\n",
      " [1 1]\n",
      " [1 1]\n",
      " [0 0]\n",
      " [0 0]\n",
      " [1 1]\n",
      " [0 0]\n",
      " [0 0]\n",
      " [1 1]\n",
      " [0 1]\n",
      " [1 1]\n",
      " [0 0]\n",
      " [0 1]\n",
      " [1 1]\n",
      " [1 1]\n",
      " [1 0]\n",
      " [0 0]\n",
      " [1 1]\n",
      " [1 1]\n",
      " [1 1]\n",
      " [1 1]\n",
      " [1 1]\n",
      " [1 1]\n",
      " [0 0]\n",
      " [1 1]\n",
      " [1 0]\n",
      " [1 1]\n",
      " [1 1]\n",
      " [1 1]]\n"
     ]
    }
   ],
   "source": [
    "## Predicting test results\n",
    "y_pred = classifier.predict(x_test)\n",
    "np.set_printoptions(precision=2)\n",
    "print(np.concatenate((y_pred.reshape(len(y_pred),1),y_test.reshape(len(y_test),1)),1))"
   ]
  },
  {
   "cell_type": "code",
   "execution_count": 50,
   "metadata": {
    "execution": {
     "iopub.execute_input": "2020-09-06T19:42:57.699657Z",
     "iopub.status.busy": "2020-09-06T19:42:57.697792Z",
     "iopub.status.idle": "2020-09-06T19:42:57.947258Z",
     "shell.execute_reply": "2020-09-06T19:42:57.946189Z"
    },
    "papermill": {
     "duration": 0.308021,
     "end_time": "2020-09-06T19:42:57.947431",
     "exception": false,
     "start_time": "2020-09-06T19:42:57.639410",
     "status": "completed"
    },
    "tags": []
   },
   "outputs": [
    {
     "data": {
      "image/png": "[encoded data removed]",
      "text/plain": [
       "<Figure size 576x432 with 1 Axes>"
      ]
     },
     "metadata": {},
     "output_type": "display_data"
    }
   ],
   "source": [
    "# Visualising the test results vs predicted results\n",
    "bins = np.linspace(-1,2,10)\n",
    "plt.figure(figsize=(8,6))\n",
    "arr =plt.hist(x=[y_test,y_pred],bins=bins,color=['blue','lawngreen'],label=['Actual result','Predicted result'],align='left')\n",
    "plt.xlabel('Target variable: Angiographic disease status',fontdict={'fontsize' : 12})\n",
    "plt.ylabel('Test set sample size',fontdict={'fontsize' : 12})\n",
    "plt.xlim(-1,2)\n",
    "plt.xticks([0,1])\n",
    "plt.ylim(0,len(y_test))\n",
    "plt.legend(prop={'size': 12})\n",
    "plt.show()"
   ]
  },
  {
   "cell_type": "code",
   "execution_count": 51,
   "metadata": {
    "execution": {
     "iopub.execute_input": "2020-09-06T19:42:58.042389Z",
     "iopub.status.busy": "2020-09-06T19:42:58.041556Z",
     "iopub.status.idle": "2020-09-06T19:42:58.045479Z",
     "shell.execute_reply": "2020-09-06T19:42:58.044843Z"
    },
    "papermill": {
     "duration": 0.052489,
     "end_time": "2020-09-06T19:42:58.045612",
     "exception": false,
     "start_time": "2020-09-06T19:42:57.993123",
     "status": "completed"
    },
    "tags": []
   },
   "outputs": [],
   "source": [
    "## Calculating the accuracy score and confusion matrix\n",
    "from sklearn.metrics import accuracy_score,confusion_matrix\n",
    "ac_randomForest = accuracy_score(y_test,y_pred)\n",
    "cm = confusion_matrix(y_test,y_pred)"
   ]
  },
  {
   "cell_type": "code",
   "execution_count": 52,
   "metadata": {
    "execution": {
     "iopub.execute_input": "2020-09-06T19:42:58.132288Z",
     "iopub.status.busy": "2020-09-06T19:42:58.131420Z",
     "iopub.status.idle": "2020-09-06T19:42:58.137030Z",
     "shell.execute_reply": "2020-09-06T19:42:58.136351Z"
    },
    "papermill": {
     "duration": 0.050658,
     "end_time": "2020-09-06T19:42:58.137163",
     "exception": false,
     "start_time": "2020-09-06T19:42:58.086505",
     "status": "completed"
    },
    "tags": []
   },
   "outputs": [
    {
     "name": "stdout",
     "output_type": "stream",
     "text": [
      "0.8524590163934426\n"
     ]
    }
   ],
   "source": [
    "## Printing accuarcy score\n",
    "print(ac_randomForest)"
   ]
  },
  {
   "cell_type": "code",
   "execution_count": 53,
   "metadata": {
    "execution": {
     "iopub.execute_input": "2020-09-06T19:42:58.225133Z",
     "iopub.status.busy": "2020-09-06T19:42:58.224300Z",
     "iopub.status.idle": "2020-09-06T19:42:58.228536Z",
     "shell.execute_reply": "2020-09-06T19:42:58.229284Z"
    },
    "papermill": {
     "duration": 0.051129,
     "end_time": "2020-09-06T19:42:58.229488",
     "exception": false,
     "start_time": "2020-09-06T19:42:58.178359",
     "status": "completed"
    },
    "tags": []
   },
   "outputs": [
    {
     "name": "stdout",
     "output_type": "stream",
     "text": [
      "[[22  5]\n",
      " [ 4 30]]\n"
     ]
    }
   ],
   "source": [
    "## Printing confusion matrix\n",
    "print(cm)"
   ]
  },
  {
   "cell_type": "markdown",
   "execution_count": null,
   "metadata": {
    "papermill": {
     "duration": 0.041133,
     "end_time": "2020-09-06T19:42:58.312930",
     "exception": false,
     "start_time": "2020-09-06T19:42:58.271797",
     "status": "completed"
    },
    "tags": []
   },
   "source": [
    "---"
   ]
  },
  {
   "cell_type": "code",
   "execution_count": 54,
   "metadata": {
    "execution": {
     "iopub.execute_input": "2020-09-06T19:42:58.401636Z",
     "iopub.status.busy": "2020-09-06T19:42:58.400710Z",
     "iopub.status.idle": "2020-09-06T19:42:59.841801Z",
     "shell.execute_reply": "2020-09-06T19:42:59.842513Z"
    },
    "papermill": {
     "duration": 1.488199,
     "end_time": "2020-09-06T19:42:59.842700",
     "exception": false,
     "start_time": "2020-09-06T19:42:58.354501",
     "status": "completed"
    },
    "tags": []
   },
   "outputs": [
    {
     "data": {
      "text/plain": [
       "XGBClassifier(base_score=0.5, booster='gbtree', colsample_bylevel=1,\n",
       "              colsample_bynode=1, colsample_bytree=1, gamma=0, gpu_id=-1,\n",
       "              importance_type='gain', interaction_constraints='',\n",
       "              learning_rate=0.300000012, max_delta_step=0, max_depth=6,\n",
       "              min_child_weight=1, missing=nan, monotone_constraints='()',\n",
       "              n_estimators=100, n_jobs=0, num_parallel_tree=1, random_state=0,\n",
       "              reg_alpha=0, reg_lambda=1, scale_pos_weight=1, subsample=1,\n",
       "              tree_method='exact', validate_parameters=1, verbosity=None)"
      ]
     },
     "execution_count": 54,
     "metadata": {},
     "output_type": "execute_result"
    }
   ],
   "source": [
    "## Applying the XGBoost Classification model on the training set\n",
    "from xgboost import XGBClassifier\n",
    "classifier = XGBClassifier()\n",
    "classifier.fit(x_train,y_train)"
   ]
  },
  {
   "cell_type": "code",
   "execution_count": 55,
   "metadata": {
    "execution": {
     "iopub.execute_input": "2020-09-06T19:43:00.022356Z",
     "iopub.status.busy": "2020-09-06T19:43:00.021400Z",
     "iopub.status.idle": "2020-09-06T19:43:00.029760Z",
     "shell.execute_reply": "2020-09-06T19:43:00.030498Z"
    },
    "papermill": {
     "duration": 0.093896,
     "end_time": "2020-09-06T19:43:00.030703",
     "exception": false,
     "start_time": "2020-09-06T19:42:59.936807",
     "status": "completed"
    },
    "tags": []
   },
   "outputs": [
    {
     "name": "stdout",
     "output_type": "stream",
     "text": [
      "[[0 0]\n",
      " [1 1]\n",
      " [1 0]\n",
      " [0 0]\n",
      " [0 1]\n",
      " [1 0]\n",
      " [0 0]\n",
      " [0 0]\n",
      " [0 0]\n",
      " [0 0]\n",
      " [1 1]\n",
      " [1 1]\n",
      " [0 0]\n",
      " [1 1]\n",
      " [1 1]\n",
      " [0 1]\n",
      " [0 1]\n",
      " [1 1]\n",
      " [0 0]\n",
      " [0 1]\n",
      " [1 1]\n",
      " [0 0]\n",
      " [0 0]\n",
      " [0 0]\n",
      " [0 1]\n",
      " [1 0]\n",
      " [0 0]\n",
      " [0 0]\n",
      " [1 1]\n",
      " [1 1]\n",
      " [1 0]\n",
      " [0 0]\n",
      " [1 1]\n",
      " [1 1]\n",
      " [1 1]\n",
      " [0 0]\n",
      " [0 0]\n",
      " [1 1]\n",
      " [0 0]\n",
      " [0 0]\n",
      " [1 1]\n",
      " [0 1]\n",
      " [1 1]\n",
      " [0 0]\n",
      " [0 1]\n",
      " [1 1]\n",
      " [1 1]\n",
      " [1 0]\n",
      " [0 0]\n",
      " [1 1]\n",
      " [1 1]\n",
      " [1 1]\n",
      " [1 1]\n",
      " [1 1]\n",
      " [1 1]\n",
      " [0 0]\n",
      " [1 1]\n",
      " [1 0]\n",
      " [1 1]\n",
      " [1 1]\n",
      " [1 1]]\n"
     ]
    }
   ],
   "source": [
    "## Predicting test results\n",
    "y_pred = classifier.predict(x_test)\n",
    "np.set_printoptions(precision=2)\n",
    "print(np.concatenate((y_pred.reshape(len(y_pred),1),y_test.reshape(len(y_test),1)),1))"
   ]
  },
  {
   "cell_type": "code",
   "execution_count": 56,
   "metadata": {
    "execution": {
     "iopub.execute_input": "2020-09-06T19:43:00.245664Z",
     "iopub.status.busy": "2020-09-06T19:43:00.242259Z",
     "iopub.status.idle": "2020-09-06T19:43:00.481204Z",
     "shell.execute_reply": "2020-09-06T19:43:00.481941Z"
    },
    "papermill": {
     "duration": 0.355077,
     "end_time": "2020-09-06T19:43:00.482190",
     "exception": false,
     "start_time": "2020-09-06T19:43:00.127113",
     "status": "completed"
    },
    "tags": []
   },
   "outputs": [
    {
     "data": {
      "image/png": "[encoded data removed]",
      "text/plain": [
       "<Figure size 576x432 with 1 Axes>"
      ]
     },
     "metadata": {},
     "output_type": "display_data"
    }
   ],
   "source": [
    "# Visualising the test results vs predicted results\n",
    "bins = np.linspace(-1,2,10)\n",
    "plt.figure(figsize=(8,6))\n",
    "arr =plt.hist(x=[y_test,y_pred],bins=bins,color=['blue','lawngreen'],label=['Actual result','Predicted result'],align='left')\n",
    "plt.xlabel('Target variable: Angiographic disease status',fontdict={'fontsize' : 12})\n",
    "plt.ylabel('Test set sample size',fontdict={'fontsize' : 12})\n",
    "plt.xlim(-1,2)\n",
    "plt.xticks([0,1])\n",
    "plt.ylim(0,len(y_test))\n",
    "plt.legend(prop={'size': 12})\n",
    "plt.show()"
   ]
  },
  {
   "cell_type": "code",
   "execution_count": 57,
   "metadata": {
    "execution": {
     "iopub.execute_input": "2020-09-06T19:43:00.577876Z",
     "iopub.status.busy": "2020-09-06T19:43:00.576816Z",
     "iopub.status.idle": "2020-09-06T19:43:00.581462Z",
     "shell.execute_reply": "2020-09-06T19:43:00.582172Z"
    },
    "papermill": {
     "duration": 0.054496,
     "end_time": "2020-09-06T19:43:00.582346",
     "exception": false,
     "start_time": "2020-09-06T19:43:00.527850",
     "status": "completed"
    },
    "tags": []
   },
   "outputs": [],
   "source": [
    "## Calculating the accuracy score and confusion matrix\n",
    "from sklearn.metrics import accuracy_score,confusion_matrix\n",
    "ac_xgb = accuracy_score(y_test,y_pred)\n",
    "cm = confusion_matrix(y_test,y_pred)"
   ]
  },
  {
   "cell_type": "code",
   "execution_count": 58,
   "metadata": {
    "execution": {
     "iopub.execute_input": "2020-09-06T19:43:00.674030Z",
     "iopub.status.busy": "2020-09-06T19:43:00.673107Z",
     "iopub.status.idle": "2020-09-06T19:43:00.677742Z",
     "shell.execute_reply": "2020-09-06T19:43:00.676954Z"
    },
    "papermill": {
     "duration": 0.051558,
     "end_time": "2020-09-06T19:43:00.677866",
     "exception": false,
     "start_time": "2020-09-06T19:43:00.626308",
     "status": "completed"
    },
    "tags": []
   },
   "outputs": [
    {
     "name": "stdout",
     "output_type": "stream",
     "text": [
      "0.7868852459016393\n"
     ]
    }
   ],
   "source": [
    "## Printing accuarcy score\n",
    "print(ac_xgb)"
   ]
  },
  {
   "cell_type": "code",
   "execution_count": 59,
   "metadata": {
    "execution": {
     "iopub.execute_input": "2020-09-06T19:43:00.767802Z",
     "iopub.status.busy": "2020-09-06T19:43:00.767005Z",
     "iopub.status.idle": "2020-09-06T19:43:00.771947Z",
     "shell.execute_reply": "2020-09-06T19:43:00.771281Z"
    },
    "papermill": {
     "duration": 0.052184,
     "end_time": "2020-09-06T19:43:00.772105",
     "exception": false,
     "start_time": "2020-09-06T19:43:00.719921",
     "status": "completed"
    },
    "tags": []
   },
   "outputs": [
    {
     "name": "stdout",
     "output_type": "stream",
     "text": [
      "[[21  6]\n",
      " [ 7 27]]\n"
     ]
    }
   ],
   "source": [
    "## Printing confusion matrix\n",
    "print(cm)"
   ]
  },
  {
   "cell_type": "markdown",
   "execution_count": null,
   "metadata": {
    "papermill": {
     "duration": 0.041735,
     "end_time": "2020-09-06T19:43:00.857455",
     "exception": false,
     "start_time": "2020-09-06T19:43:00.815720",
     "status": "completed"
    },
    "tags": []
   },
   "source": [
    "---"
   ]
  },
  {
   "cell_type": "code",
   "execution_count": 60,
   "metadata": {
    "execution": {
     "iopub.execute_input": "2020-09-06T19:43:00.948481Z",
     "iopub.status.busy": "2020-09-06T19:43:00.947632Z",
     "iopub.status.idle": "2020-09-06T19:43:00.951576Z",
     "shell.execute_reply": "2020-09-06T19:43:00.950914Z"
    },
    "papermill": {
     "duration": 0.052289,
     "end_time": "2020-09-06T19:43:00.951710",
     "exception": false,
     "start_time": "2020-09-06T19:43:00.899421",
     "status": "completed"
    },
    "tags": []
   },
   "outputs": [],
   "source": [
    "#Comparing results of the models based on accuracy score\n",
    "modelList = [ac_LogReg,ac_SVC,ac_LinearSVC,ac_KNN,ac_NBayes,ac_DecisionTree,ac_randomForest,ac_xgb]"
   ]
  },
  {
   "cell_type": "code",
   "execution_count": 61,
   "metadata": {
    "execution": {
     "iopub.execute_input": "2020-09-06T19:43:01.045022Z",
     "iopub.status.busy": "2020-09-06T19:43:01.043987Z",
     "iopub.status.idle": "2020-09-06T19:43:01.047550Z",
     "shell.execute_reply": "2020-09-06T19:43:01.048366Z"
    },
    "papermill": {
     "duration": 0.053871,
     "end_time": "2020-09-06T19:43:01.048582",
     "exception": false,
     "start_time": "2020-09-06T19:43:00.994711",
     "status": "completed"
    },
    "tags": []
   },
   "outputs": [
    {
     "name": "stdout",
     "output_type": "stream",
     "text": [
      "[85.24590163934425, 86.88524590163934, 81.9672131147541, 83.60655737704919, 85.24590163934425, 78.68852459016394, 85.24590163934425, 78.68852459016394]\n"
     ]
    }
   ],
   "source": [
    "for i in range(0,len(modelList)):\n",
    "    modelList[i] = modelList[i]*100\n",
    "print(modelList)"
   ]
  },
  {
   "cell_type": "code",
   "execution_count": 62,
   "metadata": {
    "execution": {
     "iopub.execute_input": "2020-09-06T19:43:01.264024Z",
     "iopub.status.busy": "2020-09-06T19:43:01.262859Z",
     "iopub.status.idle": "2020-09-06T19:43:01.551795Z",
     "shell.execute_reply": "2020-09-06T19:43:01.551153Z"
    },
    "papermill": {
     "duration": 0.454355,
     "end_time": "2020-09-06T19:43:01.551980",
     "exception": false,
     "start_time": "2020-09-06T19:43:01.097625",
     "status": "completed"
    },
    "tags": []
   },
   "outputs": [
    {
     "data": {
      "image/png": "[encoded data removed]",
      "text/plain": [
       "<Figure size 864x504 with 1 Axes>"
      ]
     },
     "metadata": {},
     "output_type": "display_data"
    }
   ],
   "source": [
    "labelList = ['Logistic Regression','Kernel SVC','Linear SVC','K-NN','Naive Bayes','Decision Tree','Random Forest',\n",
    "            'XGBoost']\n",
    "plt.figure(figsize=(12,7))\n",
    "sns.set_style('dark')\n",
    "ax = sns.barplot(x=labelList,y=modelList,palette=sns.cubehelix_palette(8))\n",
    "plt.ylim(0,100)\n",
    "plt.title('Accuracy score comparison among different classification models')\n",
    "for p in ax.patches:\n",
    "    width, height = p.get_width(), p.get_height()\n",
    "    x, y = p.get_xy() \n",
    "    ax.annotate('{:.2f}%'.format(height), (x+0.25, y + height + 0.8))\n",
    "plt.show()"
   ]
  }
 ],
 "metadata": {
  "kernelspec": {
   "display_name": "Python 3",
   "language": "python",
   "name": "python3"
  },
  "language_info": {
   "codemirror_mode": {
    "name": "ipython",
    "version": 3
   },
   "file_extension": ".py",
   "mimetype": "text/x-python",
   "name": "python",
   "nbconvert_exporter": "python",
   "pygments_lexer": "ipython3",
   "version": "3.7.6"
  },
  "papermill": {
   "duration": 17.785104,
   "end_time": "2020-09-06T19:43:01.708689",
   "environment_variables": {},
   "exception": null,
   "input_path": "__notebook__.ipynb",
   "output_path": "__notebook__.ipynb",
   "parameters": {},
   "start_time": "2020-09-06T19:42:43.923585",
   "version": "2.1.0"
  }
 },
 "nbformat": 4,
 "nbformat_minor": 4
}
