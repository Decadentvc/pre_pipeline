{
 "cells": [
  {
   "cell_type": "code",
   "execution_count": 1,
   "metadata": {
    "_cell_guid": "b1076dfc-b9ad-4769-8c92-a6c4dae69d19",
    "_uuid": "8f2839f25d086af736a60e9eeb907d3b93b6e0e5"
   },
   "outputs": [],
   "source": [
    "import pandas as pd \n",
    "import os\n",
    "for dirname, _, filenames in os.walk('/kaggle/input'):\n",
    "    for filename in filenames:\n",
    "        datafile =(os.path.join(dirname, filename))"
   ]
  },
  {
   "cell_type": "markdown",
   "metadata": {},
   "source": [
    "**We have indian startup funding data and we will try to predict which type funding a startup will get based on the industry vertical and sub vertical."
   ]
  },
  {
   "cell_type": "code",
   "execution_count": 2,
   "metadata": {
    "_cell_guid": "79c7e3d0-c299-4dcb-8224-4455121ee9b0",
    "_uuid": "d629ff2d2480ee46fbb7e2d37f6b5fab8052498a"
   },
   "outputs": [
    {
     "data": {
      "text/html": [
       "<div>\n",
       "<style scoped>\n",
       "    .dataframe tbody tr th:only-of-type {\n",
       "        vertical-align: middle;\n",
       "    }\n",
       "\n",
       "    .dataframe tbody tr th {\n",
       "        vertical-align: top;\n",
       "    }\n",
       "\n",
       "    .dataframe thead th {\n",
       "        text-align: right;\n",
       "    }\n",
       "</style>\n",
       "<table border=\"1\" class=\"dataframe\">\n",
       "  <thead>\n",
       "    <tr style=\"text-align: right;\">\n",
       "      <th></th>\n",
       "      <th>Sr No</th>\n",
       "      <th>Date ddmmyyyy</th>\n",
       "      <th>Startup Name</th>\n",
       "      <th>Industry Vertical</th>\n",
       "      <th>SubVertical</th>\n",
       "      <th>City  Location</th>\n",
       "      <th>Investorsxe2x80x99 Name</th>\n",
       "      <th>InvestmentnType</th>\n",
       "      <th>Amount in USD</th>\n",
       "      <th>Remarks</th>\n",
       "    </tr>\n",
       "  </thead>\n",
       "  <tbody>\n",
       "    <tr>\n",
       "      <td>0</td>\n",
       "      <td>0</td>\n",
       "      <td>05/09/2019</td>\n",
       "      <td>FPL Technologies</td>\n",
       "      <td>FinTech</td>\n",
       "      <td>Financial Services</td>\n",
       "      <td>Pune</td>\n",
       "      <td>Matrix Partners India, Sequoia India</td>\n",
       "      <td>Maiden Round</td>\n",
       "      <td>4,500,000</td>\n",
       "      <td>NaN</td>\n",
       "    </tr>\n",
       "    <tr>\n",
       "      <td>1</td>\n",
       "      <td>1</td>\n",
       "      <td>04/09/2019</td>\n",
       "      <td>Cashflo</td>\n",
       "      <td>FinTech</td>\n",
       "      <td>Invoice discounting platform and SME lending m...</td>\n",
       "      <td>Mumbai</td>\n",
       "      <td>SAIF Partners</td>\n",
       "      <td>Series A</td>\n",
       "      <td>3,300,000</td>\n",
       "      <td>NaN</td>\n",
       "    </tr>\n",
       "    <tr>\n",
       "      <td>2</td>\n",
       "      <td>2</td>\n",
       "      <td>04/09/2019</td>\n",
       "      <td>Digital F5</td>\n",
       "      <td>Advertising, Marketing</td>\n",
       "      <td>Digital marketing firm</td>\n",
       "      <td>Mumbai</td>\n",
       "      <td>TIW Private Equity</td>\n",
       "      <td>Private Equity Round</td>\n",
       "      <td>6,000,000</td>\n",
       "      <td>NaN</td>\n",
       "    </tr>\n",
       "    <tr>\n",
       "      <td>3</td>\n",
       "      <td>3</td>\n",
       "      <td>04/09/2019</td>\n",
       "      <td>3rdFlix</td>\n",
       "      <td>SaaS</td>\n",
       "      <td>Education Technology</td>\n",
       "      <td>Hyderabad</td>\n",
       "      <td>Exfinity Venture Partners</td>\n",
       "      <td>pre-series A</td>\n",
       "      <td>5,000,000</td>\n",
       "      <td>NaN</td>\n",
       "    </tr>\n",
       "    <tr>\n",
       "      <td>4</td>\n",
       "      <td>4</td>\n",
       "      <td>04/09/2019</td>\n",
       "      <td>75F</td>\n",
       "      <td>IoT</td>\n",
       "      <td>Building automation system</td>\n",
       "      <td>Burnsville</td>\n",
       "      <td>Breakthrough Energy Ventures</td>\n",
       "      <td>Series A</td>\n",
       "      <td>18,000,000</td>\n",
       "      <td>NaN</td>\n",
       "    </tr>\n",
       "  </tbody>\n",
       "</table>\n",
       "</div>"
      ],
      "text/plain": [
       "   Sr No Date ddmmyyyy      Startup Name       Industry Vertical  \\\n",
       "0      0    05/09/2019  FPL Technologies                 FinTech   \n",
       "1      1    04/09/2019           Cashflo                 FinTech   \n",
       "2      2    04/09/2019        Digital F5  Advertising, Marketing   \n",
       "3      3    04/09/2019           3rdFlix                    SaaS   \n",
       "4      4    04/09/2019               75F                     IoT   \n",
       "\n",
       "                                         SubVertical City  Location  \\\n",
       "0                                 Financial Services           Pune   \n",
       "1  Invoice discounting platform and SME lending m...         Mumbai   \n",
       "2                             Digital marketing firm         Mumbai   \n",
       "3                               Education Technology      Hyderabad   \n",
       "4                         Building automation system     Burnsville   \n",
       "\n",
       "                Investorsxe2x80x99 Name       InvestmentnType Amount in USD  \\\n",
       "0  Matrix Partners India, Sequoia India          Maiden Round     4,500,000   \n",
       "1                         SAIF Partners              Series A     3,300,000   \n",
       "2                    TIW Private Equity  Private Equity Round     6,000,000   \n",
       "3             Exfinity Venture Partners          pre-series A     5,000,000   \n",
       "4          Breakthrough Energy Ventures              Series A    18,000,000   \n",
       "\n",
       "  Remarks  \n",
       "0     NaN  \n",
       "1     NaN  \n",
       "2     NaN  \n",
       "3     NaN  \n",
       "4     NaN  "
      ]
     },
     "execution_count": 2,
     "metadata": {},
     "output_type": "execute_result"
    }
   ],
   "source": [
    "df  = pd.read_csv(datafile)\n",
    "df.head(5)"
   ]
  },
  {
   "cell_type": "code",
   "execution_count": 3,
   "metadata": {},
   "outputs": [],
   "source": [
    "df['InvestmentnType'].unique()\n",
    "#There are some values which means the same eg Pre-Series A and pre-Series A , Pre Series A,pre-series A\n",
    "# eg. Seed / Angel Funding ,Seed / Angle Funding , Seed/Angel Funding, Seed/ Angel Funding\n",
    "# Angel Funding and Angel\n",
    "#Seed\\\\\\\\nFunding, Seed,Seed funding,Seed Funding Round,Seed Funding\n",
    "#Private Equity Round,PrivateEquity,Private Equity,Private,Private\\\\\\\\nEquity,Equity,Equity Based Funding\n",
    "#\n",
    "# We can now label data\n",
    "\n",
    "dict1 = {'Seed':'Seed','Seed\\\\\\\\nFunding':'Seed',\n",
    "        'Seed funding':'Seed','Seed Funding Round':'Seed',\n",
    "        'Seed Funding':'Seed','Seed / Angel Funding':'seed/angel',\n",
    "             'Seed / Angle Funding':'seed/angel',\n",
    "            'Seed/Angel Funding':'seed/angel',\n",
    "            'Seed/ Angel Funding':'seed/angel',\n",
    "            'Angel Funding':'angel','Angel':'angel',\n",
    "            'Private Equity Round':'pr/eq','PrivateEquity':'pr/eq',\n",
    "            'Private Equity':'pr/eq',\n",
    "            'Private\\\\\\\\nEquity':'pr/eq','Equity':'pr/eq',\n",
    "            'Equity Based Funding':'pr/eq',\n",
    "            'Series A':'series','pre-series A':'series','Series C':'series','Series D':'series',\n",
    "            'Series B':'series','Series J':'series','Series F':'series','Pre-Series A':'series',\n",
    "            'pre-Series A':'series','Series E':'series','Pre Series A':'series',\n",
    "            'Corporate Round':'others','Venture Round':'others','Single Venture':'others','Bridge Round':'others',\n",
    "             'Mezzanine':'others','Inhouse Funding':'others','Crowd Funding':'others','Crowd funding':'others',\n",
    "              'Structured Debt':'others','Term Loan':'others','Debt':'others','Maiden Round':'others'}\n",
    "    "
   ]
  },
  {
   "cell_type": "code",
   "execution_count": 4,
   "metadata": {},
   "outputs": [
    {
     "data": {
      "text/html": [
       "<div>\n",
       "<style scoped>\n",
       "    .dataframe tbody tr th:only-of-type {\n",
       "        vertical-align: middle;\n",
       "    }\n",
       "\n",
       "    .dataframe tbody tr th {\n",
       "        vertical-align: top;\n",
       "    }\n",
       "\n",
       "    .dataframe thead th {\n",
       "        text-align: right;\n",
       "    }\n",
       "</style>\n",
       "<table border=\"1\" class=\"dataframe\">\n",
       "  <thead>\n",
       "    <tr style=\"text-align: right;\">\n",
       "      <th></th>\n",
       "      <th>Industry Vertical</th>\n",
       "    </tr>\n",
       "  </thead>\n",
       "  <tbody>\n",
       "    <tr>\n",
       "      <td>0</td>\n",
       "      <td>FinTech</td>\n",
       "    </tr>\n",
       "    <tr>\n",
       "      <td>1</td>\n",
       "      <td>FinTech</td>\n",
       "    </tr>\n",
       "    <tr>\n",
       "      <td>2</td>\n",
       "      <td>Advertising, Marketing</td>\n",
       "    </tr>\n",
       "    <tr>\n",
       "      <td>3</td>\n",
       "      <td>SaaS</td>\n",
       "    </tr>\n",
       "    <tr>\n",
       "      <td>4</td>\n",
       "      <td>IoT</td>\n",
       "    </tr>\n",
       "  </tbody>\n",
       "</table>\n",
       "</div>"
      ],
      "text/plain": [
       "        Industry Vertical\n",
       "0                 FinTech\n",
       "1                 FinTech\n",
       "2  Advertising, Marketing\n",
       "3                    SaaS\n",
       "4                     IoT"
      ]
     },
     "execution_count": 4,
     "metadata": {},
     "output_type": "execute_result"
    }
   ],
   "source": [
    "df['lables']=df['InvestmentnType'].map(dict1)\n",
    "#We will create a dataframe with relevant coloumns only\n",
    "# We will try to classify what kind of funding does a startup is more likely\n",
    "#to get based on the industry vertical and sub vertical\n",
    "X = df[['Industry Vertical']]\n",
    "Y=df[['lables']]\n",
    "X.head(5)\n",
    "\n",
    "#X['categorical'] = pd.Categorical(X['Industry Vertical'])\n",
    "#XDummies = pd.get_dummies(X['categorical'], prefix = 'category')\n",
    "#XDummies.head(4)\n"
   ]
  },
  {
   "cell_type": "markdown",
   "metadata": {},
   "source": [
    "Above,These are the labels created on the basis of funding types."
   ]
  },
  {
   "cell_type": "code",
   "execution_count": 5,
   "metadata": {},
   "outputs": [
    {
     "data": {
      "text/plain": [
       "Industry Vertical    5.682951\n",
       "dtype: float64"
      ]
     },
     "execution_count": 5,
     "metadata": {},
     "output_type": "execute_result"
    }
   ],
   "source": [
    "miss_values = X.isnull().sum()/len(X)*100\n",
    "miss_values.sort_values()"
   ]
  },
  {
   "cell_type": "markdown",
   "metadata": {},
   "source": [
    "we Can see subvertical has 31 % missing data and industry vertical has 6% approx"
   ]
  },
  {
   "cell_type": "markdown",
   "metadata": {},
   "source": [
    "lets check how many null values are there in X data frame\n",
    "Now We have categorical data in the X data frame, we need to convert that into numbers so that we can fit it into our model"
   ]
  },
  {
   "cell_type": "code",
   "execution_count": 6,
   "metadata": {},
   "outputs": [
    {
     "data": {
      "text/html": [
       "<div>\n",
       "<style scoped>\n",
       "    .dataframe tbody tr th:only-of-type {\n",
       "        vertical-align: middle;\n",
       "    }\n",
       "\n",
       "    .dataframe tbody tr th {\n",
       "        vertical-align: top;\n",
       "    }\n",
       "\n",
       "    .dataframe thead th {\n",
       "        text-align: right;\n",
       "    }\n",
       "</style>\n",
       "<table border=\"1\" class=\"dataframe\">\n",
       "  <thead>\n",
       "    <tr style=\"text-align: right;\">\n",
       "      <th></th>\n",
       "      <th>Industry Vertical</th>\n",
       "    </tr>\n",
       "  </thead>\n",
       "  <tbody>\n",
       "    <tr>\n",
       "      <td>0</td>\n",
       "      <td>228</td>\n",
       "    </tr>\n",
       "    <tr>\n",
       "      <td>1</td>\n",
       "      <td>228</td>\n",
       "    </tr>\n",
       "    <tr>\n",
       "      <td>2</td>\n",
       "      <td>7</td>\n",
       "    </tr>\n",
       "    <tr>\n",
       "      <td>3</td>\n",
       "      <td>657</td>\n",
       "    </tr>\n",
       "    <tr>\n",
       "      <td>4</td>\n",
       "      <td>356</td>\n",
       "    </tr>\n",
       "  </tbody>\n",
       "</table>\n",
       "</div>"
      ],
      "text/plain": [
       "   Industry Vertical\n",
       "0                228\n",
       "1                228\n",
       "2                  7\n",
       "3                657\n",
       "4                356"
      ]
     },
     "execution_count": 6,
     "metadata": {},
     "output_type": "execute_result"
    }
   ],
   "source": [
    "import re\n",
    "X.head(4)\n",
    "#['Industry Vertical'] =X['Industry Vertical'].apply(lambda x : re.sub(r'[^A-Za-z]','',x)) \n",
    "X['Industry Vertical'].value_counts()\n",
    "X =X.apply(lambda col:pd.factorize(col,sort=True)[0])\n",
    "X['Industry Vertical'] = X['Industry Vertical'].fillna((X['Industry Vertical'].mode()))\n",
    "X.head(5)\n"
   ]
  },
  {
   "cell_type": "code",
   "execution_count": 7,
   "metadata": {},
   "outputs": [
    {
     "data": {
      "text/plain": [
       " 0    1386\n",
       " 3    1363\n",
       " 4     133\n",
       " 5      68\n",
       "-1      44\n",
       " 2      13\n",
       " 1       2\n",
       "Name: lables, dtype: int64"
      ]
     },
     "execution_count": 7,
     "metadata": {},
     "output_type": "execute_result"
    }
   ],
   "source": [
    "YY = Y.apply(lambda col:pd.factorize(col,sort=True)[0])\n",
    "YY['lables'] =YY['lables'].fillna((YY['lables'].mode()))\n",
    "YY.head(4)\n",
    "YY['lables'].value_counts()"
   ]
  },
  {
   "cell_type": "code",
   "execution_count": 8,
   "metadata": {},
   "outputs": [
    {
     "name": "stderr",
     "output_type": "stream",
     "text": [
      "Using TensorFlow backend.\n",
      "/opt/conda/lib/python3.6/site-packages/ipykernel_launcher.py:11: DataConversionWarning: A column-vector y was passed when a 1d array was expected. Please change the shape of y to (n_samples,), for example using ravel().\n",
      "  # This is added back by InteractiveShellApp.init_path()\n"
     ]
    }
   ],
   "source": [
    "from sklearn.model_selection import train_test_split\n",
    "from sklearn.ensemble import RandomForestClassifier\n",
    "from sklearn import metrics\n",
    "from imblearn.over_sampling import SMOTE\n",
    "smt = SMOTE()\n",
    "#X_train, y_train = smt.fit_sample(X, YY)\n",
    "# Split dataset into training set and test set\n",
    "X_train, X_test, y_train, y_test = train_test_split(X, YY, test_size=0.5) # 70% training and 30% test\n",
    "clf=RandomForestClassifier(n_estimators=100,random_state=2,max_depth=2,criterion='entropy',n_jobs=-1)\n",
    "#Train the model using the training sets y_pred=clf.predict(X_test)\n",
    "clf.fit(X_train,y_train)\n",
    "y_pred=clf.predict(X_test)\n"
   ]
  },
  {
   "cell_type": "markdown",
   "metadata": {},
   "source": [
    "checking the accurcay of model using accuracy_score and f1 score"
   ]
  },
  {
   "cell_type": "code",
   "execution_count": 9,
   "metadata": {},
   "outputs": [
    {
     "name": "stdout",
     "output_type": "stream",
     "text": [
      "Accuracy: 0.4750830564784053\n",
      "0.4750830564784053\n",
      "0.15563891141750022\n"
     ]
    },
    {
     "name": "stderr",
     "output_type": "stream",
     "text": [
      "/opt/conda/lib/python3.6/site-packages/sklearn/metrics/classification.py:1439: UndefinedMetricWarning: F-score is ill-defined and being set to 0.0 in labels with no true samples.\n",
      "  'recall', 'true', average, warn_for)\n"
     ]
    }
   ],
   "source": [
    "\n",
    "import numpy\n",
    "Pred_Y = numpy.ravel(y_pred,order='A')\n",
    "Test_Y = numpy.ravel(y_test,order='A')\n",
    "print(\"Accuracy:\",metrics.accuracy_score(y_test, y_pred))\n",
    "\n",
    "from sklearn.metrics import f1_score\n",
    "print(f1_score(Pred_Y, Test_Y,average='micro'))\n",
    "print(f1_score(Pred_Y, Test_Y, average='macro'))\n",
    "\n",
    "\n"
   ]
  },
  {
   "cell_type": "markdown",
   "metadata": {},
   "source": [
    "Clearly a very bad model."
   ]
  }
 ],
 "metadata": {
  "kernelspec": {
   "display_name": "Python 3",
   "language": "python",
   "name": "python3"
  },
  "language_info": {
   "codemirror_mode": {
    "name": "ipython",
    "version": 3
   },
   "file_extension": ".py",
   "mimetype": "text/x-python",
   "name": "python",
   "nbconvert_exporter": "python",
   "pygments_lexer": "ipython3",
   "version": "3.6.6"
  }
 },
 "nbformat": 4,
 "nbformat_minor": 1
}
