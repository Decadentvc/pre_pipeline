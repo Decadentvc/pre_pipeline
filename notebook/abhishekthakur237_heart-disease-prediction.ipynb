{
 "cells": [
  {
   "cell_type": "code",
   "execution_count": 1,
   "metadata": {
    "_cell_guid": "b1076dfc-b9ad-4769-8c92-a6c4dae69d19",
    "_uuid": "8f2839f25d086af736a60e9eeb907d3b93b6e0e5",
    "execution": {
     "iopub.execute_input": "2020-08-22T14:32:22.156202Z",
     "iopub.status.busy": "2020-08-22T14:32:22.155243Z",
     "iopub.status.idle": "2020-08-22T14:32:22.164093Z",
     "shell.execute_reply": "2020-08-22T14:32:22.164770Z"
    },
    "papermill": {
     "duration": 0.026305,
     "end_time": "2020-08-22T14:32:22.164995",
     "exception": false,
     "start_time": "2020-08-22T14:32:22.138690",
     "status": "completed"
    },
    "tags": []
   },
   "outputs": [
    {
     "name": "stdout",
     "output_type": "stream",
     "text": [
      "/kaggle/input/heart-disease/heart.csv\n"
     ]
    }
   ],
   "source": [
    "# This Python 3 environment comes with many helpful analytics libraries installed\n",
    "# It is defined by the kaggle/python Docker image: https://github.com/kaggle/docker-python\n",
    "# For example, here's several helpful packages to load\n",
    "\n",
    "import numpy as np # linear algebra\n",
    "import pandas as pd # data processing, CSV file I/O (e.g. pd.read_csv)\n",
    "\n",
    "# Input data files are available in the read-only \"../input/\" directory\n",
    "# For example, running this (by clicking run or pressing Shift+Enter) will list all files under the input directory\n",
    "\n",
    "import os\n",
    "for dirname, _, filenames in os.walk('/kaggle/input'):\n",
    "    for filename in filenames:\n",
    "        print(os.path.join(dirname, filename))\n",
    "\n",
    "# You can write up to 5GB to the current directory (/kaggle/working/) that gets preserved as output when you create a version using \"Save & Run All\" \n",
    "# You can also write temporary files to /kaggle/temp/, but they won't be saved outside of the current session"
   ]
  },
  {
   "cell_type": "markdown",
   "execution_count": null,
   "metadata": {
    "papermill": {
     "duration": 0.007384,
     "end_time": "2020-08-22T14:32:22.180922",
     "exception": false,
     "start_time": "2020-08-22T14:32:22.173538",
     "status": "completed"
    },
    "tags": []
   },
   "source": [
    "*This is my first kaggle submission...*\n",
    "\n",
    "**So if you think I made any mistake I'm all ears!\n",
    "Any suggestions from your side will be highly appreciated**"
   ]
  },
  {
   "cell_type": "code",
   "execution_count": 2,
   "metadata": {
    "_cell_guid": "79c7e3d0-c299-4dcb-8224-4455121ee9b0",
    "_uuid": "d629ff2d2480ee46fbb7e2d37f6b5fab8052498a",
    "execution": {
     "iopub.execute_input": "2020-08-22T14:32:22.204840Z",
     "iopub.status.busy": "2020-08-22T14:32:22.203743Z",
     "iopub.status.idle": "2020-08-22T14:32:22.239800Z",
     "shell.execute_reply": "2020-08-22T14:32:22.240473Z"
    },
    "papermill": {
     "duration": 0.052232,
     "end_time": "2020-08-22T14:32:22.240653",
     "exception": false,
     "start_time": "2020-08-22T14:32:22.188421",
     "status": "completed"
    },
    "tags": []
   },
   "outputs": [
    {
     "data": {
      "text/html": [
       "<div>\n",
       "<style scoped>\n",
       "    .dataframe tbody tr th:only-of-type {\n",
       "        vertical-align: middle;\n",
       "    }\n",
       "\n",
       "    .dataframe tbody tr th {\n",
       "        vertical-align: top;\n",
       "    }\n",
       "\n",
       "    .dataframe thead th {\n",
       "        text-align: right;\n",
       "    }\n",
       "</style>\n",
       "<table border=\"1\" class=\"dataframe\">\n",
       "  <thead>\n",
       "    <tr style=\"text-align: right;\">\n",
       "      <th></th>\n",
       "      <th>age</th>\n",
       "      <th>sex</th>\n",
       "      <th>cp</th>\n",
       "      <th>trestbps</th>\n",
       "      <th>chol</th>\n",
       "      <th>fbs</th>\n",
       "      <th>restecg</th>\n",
       "      <th>thalach</th>\n",
       "      <th>exang</th>\n",
       "      <th>oldpeak</th>\n",
       "      <th>slope</th>\n",
       "      <th>ca</th>\n",
       "      <th>thal</th>\n",
       "      <th>target</th>\n",
       "    </tr>\n",
       "  </thead>\n",
       "  <tbody>\n",
       "    <tr>\n",
       "      <th>0</th>\n",
       "      <td>63</td>\n",
       "      <td>1</td>\n",
       "      <td>3</td>\n",
       "      <td>145</td>\n",
       "      <td>233</td>\n",
       "      <td>1</td>\n",
       "      <td>0</td>\n",
       "      <td>150</td>\n",
       "      <td>0</td>\n",
       "      <td>2.3</td>\n",
       "      <td>0</td>\n",
       "      <td>0</td>\n",
       "      <td>1</td>\n",
       "      <td>1</td>\n",
       "    </tr>\n",
       "    <tr>\n",
       "      <th>1</th>\n",
       "      <td>37</td>\n",
       "      <td>1</td>\n",
       "      <td>2</td>\n",
       "      <td>130</td>\n",
       "      <td>250</td>\n",
       "      <td>0</td>\n",
       "      <td>1</td>\n",
       "      <td>187</td>\n",
       "      <td>0</td>\n",
       "      <td>3.5</td>\n",
       "      <td>0</td>\n",
       "      <td>0</td>\n",
       "      <td>2</td>\n",
       "      <td>1</td>\n",
       "    </tr>\n",
       "    <tr>\n",
       "      <th>2</th>\n",
       "      <td>41</td>\n",
       "      <td>0</td>\n",
       "      <td>1</td>\n",
       "      <td>130</td>\n",
       "      <td>204</td>\n",
       "      <td>0</td>\n",
       "      <td>0</td>\n",
       "      <td>172</td>\n",
       "      <td>0</td>\n",
       "      <td>1.4</td>\n",
       "      <td>2</td>\n",
       "      <td>0</td>\n",
       "      <td>2</td>\n",
       "      <td>1</td>\n",
       "    </tr>\n",
       "    <tr>\n",
       "      <th>3</th>\n",
       "      <td>56</td>\n",
       "      <td>1</td>\n",
       "      <td>1</td>\n",
       "      <td>120</td>\n",
       "      <td>236</td>\n",
       "      <td>0</td>\n",
       "      <td>1</td>\n",
       "      <td>178</td>\n",
       "      <td>0</td>\n",
       "      <td>0.8</td>\n",
       "      <td>2</td>\n",
       "      <td>0</td>\n",
       "      <td>2</td>\n",
       "      <td>1</td>\n",
       "    </tr>\n",
       "    <tr>\n",
       "      <th>4</th>\n",
       "      <td>57</td>\n",
       "      <td>0</td>\n",
       "      <td>0</td>\n",
       "      <td>120</td>\n",
       "      <td>354</td>\n",
       "      <td>0</td>\n",
       "      <td>1</td>\n",
       "      <td>163</td>\n",
       "      <td>1</td>\n",
       "      <td>0.6</td>\n",
       "      <td>2</td>\n",
       "      <td>0</td>\n",
       "      <td>2</td>\n",
       "      <td>1</td>\n",
       "    </tr>\n",
       "  </tbody>\n",
       "</table>\n",
       "</div>"
      ],
      "text/plain": [
       "   age  sex  cp  trestbps  chol  fbs  restecg  thalach  exang  oldpeak  slope  \\\n",
       "0   63    1   3       145   233    1        0      150      0      2.3      0   \n",
       "1   37    1   2       130   250    0        1      187      0      3.5      0   \n",
       "2   41    0   1       130   204    0        0      172      0      1.4      2   \n",
       "3   56    1   1       120   236    0        1      178      0      0.8      2   \n",
       "4   57    0   0       120   354    0        1      163      1      0.6      2   \n",
       "\n",
       "   ca  thal  target  \n",
       "0   0     1       1  \n",
       "1   0     2       1  \n",
       "2   0     2       1  \n",
       "3   0     2       1  \n",
       "4   0     2       1  "
      ]
     },
     "execution_count": 2,
     "metadata": {},
     "output_type": "execute_result"
    }
   ],
   "source": [
    "dataset = pd.read_csv('/kaggle/input/heart-disease/heart.csv')\n",
    "dataset.head()"
   ]
  },
  {
   "cell_type": "code",
   "execution_count": 3,
   "metadata": {
    "execution": {
     "iopub.execute_input": "2020-08-22T14:32:22.263681Z",
     "iopub.status.busy": "2020-08-22T14:32:22.262449Z",
     "iopub.status.idle": "2020-08-22T14:32:22.266866Z",
     "shell.execute_reply": "2020-08-22T14:32:22.267448Z"
    },
    "papermill": {
     "duration": 0.018982,
     "end_time": "2020-08-22T14:32:22.267621",
     "exception": false,
     "start_time": "2020-08-22T14:32:22.248639",
     "status": "completed"
    },
    "tags": []
   },
   "outputs": [
    {
     "data": {
      "text/plain": [
       "Index(['age', 'sex', 'cp', 'trestbps', 'chol', 'fbs', 'restecg', 'thalach',\n",
       "       'exang', 'oldpeak', 'slope', 'ca', 'thal', 'target'],\n",
       "      dtype='object')"
      ]
     },
     "execution_count": 3,
     "metadata": {},
     "output_type": "execute_result"
    }
   ],
   "source": [
    "dataset.columns"
   ]
  },
  {
   "cell_type": "code",
   "execution_count": 4,
   "metadata": {
    "execution": {
     "iopub.execute_input": "2020-08-22T14:32:22.290682Z",
     "iopub.status.busy": "2020-08-22T14:32:22.289894Z",
     "iopub.status.idle": "2020-08-22T14:32:22.293643Z",
     "shell.execute_reply": "2020-08-22T14:32:22.293062Z"
    },
    "papermill": {
     "duration": 0.017999,
     "end_time": "2020-08-22T14:32:22.293895",
     "exception": false,
     "start_time": "2020-08-22T14:32:22.275896",
     "status": "completed"
    },
    "tags": []
   },
   "outputs": [],
   "source": [
    "categorical = ['sex', 'cp', 'restecg', 'slope', 'thal']\n",
    "do_not_touch = ['fbs', 'exang']\n",
    "non_categorical = ['age', 'trestbps', 'chol', 'thalach', 'oldpeak', 'ca']"
   ]
  },
  {
   "cell_type": "markdown",
   "execution_count": null,
   "metadata": {
    "papermill": {
     "duration": 0.00939,
     "end_time": "2020-08-22T14:32:22.311506",
     "exception": false,
     "start_time": "2020-08-22T14:32:22.302116",
     "status": "completed"
    },
    "tags": []
   },
   "source": [
    "# OneHotEncoding categorical values"
   ]
  },
  {
   "cell_type": "code",
   "execution_count": 5,
   "metadata": {
    "execution": {
     "iopub.execute_input": "2020-08-22T14:32:22.336236Z",
     "iopub.status.busy": "2020-08-22T14:32:22.335441Z",
     "iopub.status.idle": "2020-08-22T14:32:23.425702Z",
     "shell.execute_reply": "2020-08-22T14:32:23.424914Z"
    },
    "papermill": {
     "duration": 1.106247,
     "end_time": "2020-08-22T14:32:23.425864",
     "exception": false,
     "start_time": "2020-08-22T14:32:22.319617",
     "status": "completed"
    },
    "tags": []
   },
   "outputs": [],
   "source": [
    "from sklearn.compose import ColumnTransformer\n",
    "from sklearn.preprocessing import OneHotEncoder\n",
    "\n",
    "ct = ColumnTransformer(transformers=[('encoder',OneHotEncoder(),categorical)],remainder='passthrough')\n",
    "X = ct.fit_transform(dataset[categorical+do_not_touch+non_categorical])\n",
    "y = dataset['target'].values"
   ]
  },
  {
   "cell_type": "code",
   "execution_count": 6,
   "metadata": {
    "execution": {
     "iopub.execute_input": "2020-08-22T14:32:23.450022Z",
     "iopub.status.busy": "2020-08-22T14:32:23.448964Z",
     "iopub.status.idle": "2020-08-22T14:32:23.453348Z",
     "shell.execute_reply": "2020-08-22T14:32:23.453908Z"
    },
    "papermill": {
     "duration": 0.019557,
     "end_time": "2020-08-22T14:32:23.454083",
     "exception": false,
     "start_time": "2020-08-22T14:32:23.434526",
     "status": "completed"
    },
    "tags": []
   },
   "outputs": [
    {
     "data": {
      "text/plain": [
       "array([  0. ,   1. ,   0. ,   0. ,   0. ,   1. ,   1. ,   0. ,   0. ,\n",
       "         1. ,   0. ,   0. ,   0. ,   1. ,   0. ,   0. ,   1. ,   0. ,\n",
       "        63. , 145. , 233. , 150. ,   2.3,   0. ])"
      ]
     },
     "execution_count": 6,
     "metadata": {},
     "output_type": "execute_result"
    }
   ],
   "source": [
    "X[0,:]"
   ]
  },
  {
   "cell_type": "code",
   "execution_count": 7,
   "metadata": {
    "execution": {
     "iopub.execute_input": "2020-08-22T14:32:23.477334Z",
     "iopub.status.busy": "2020-08-22T14:32:23.476385Z",
     "iopub.status.idle": "2020-08-22T14:32:23.534507Z",
     "shell.execute_reply": "2020-08-22T14:32:23.533824Z"
    },
    "papermill": {
     "duration": 0.072154,
     "end_time": "2020-08-22T14:32:23.534641",
     "exception": false,
     "start_time": "2020-08-22T14:32:23.462487",
     "status": "completed"
    },
    "tags": []
   },
   "outputs": [],
   "source": [
    "from sklearn.model_selection import train_test_split\n",
    "X_train,X_test,y_train,y_test = train_test_split(X,y,test_size=0.1,random_state=1)"
   ]
  },
  {
   "cell_type": "markdown",
   "execution_count": null,
   "metadata": {
    "papermill": {
     "duration": 0.008393,
     "end_time": "2020-08-22T14:32:23.552533",
     "exception": false,
     "start_time": "2020-08-22T14:32:23.544140",
     "status": "completed"
    },
    "tags": []
   },
   "source": [
    "# As you see, last 6 columns of the dataset are non categorical values.. \n",
    "# So they need to be scaled"
   ]
  },
  {
   "cell_type": "code",
   "execution_count": 8,
   "metadata": {
    "execution": {
     "iopub.execute_input": "2020-08-22T14:32:23.578739Z",
     "iopub.status.busy": "2020-08-22T14:32:23.577634Z",
     "iopub.status.idle": "2020-08-22T14:32:23.582106Z",
     "shell.execute_reply": "2020-08-22T14:32:23.582687Z"
    },
    "papermill": {
     "duration": 0.021606,
     "end_time": "2020-08-22T14:32:23.582887",
     "exception": false,
     "start_time": "2020-08-22T14:32:23.561281",
     "status": "completed"
    },
    "tags": []
   },
   "outputs": [],
   "source": [
    "from sklearn.preprocessing import StandardScaler\n",
    "scaler = StandardScaler()\n",
    "X_train[:,-6:] = scaler.fit_transform(X_train[:,-6:])\n",
    "X_test[:,-6:] = scaler.transform(X_test[:,-6:])"
   ]
  },
  {
   "cell_type": "code",
   "execution_count": 9,
   "metadata": {
    "execution": {
     "iopub.execute_input": "2020-08-22T14:32:23.607456Z",
     "iopub.status.busy": "2020-08-22T14:32:23.606295Z",
     "iopub.status.idle": "2020-08-22T14:32:23.611416Z",
     "shell.execute_reply": "2020-08-22T14:32:23.610618Z"
    },
    "papermill": {
     "duration": 0.019901,
     "end_time": "2020-08-22T14:32:23.611549",
     "exception": false,
     "start_time": "2020-08-22T14:32:23.591648",
     "status": "completed"
    },
    "tags": []
   },
   "outputs": [
    {
     "data": {
      "text/plain": [
       "array([ 0.        ,  1.        ,  0.        ,  1.        ,  0.        ,\n",
       "        0.        ,  0.        ,  1.        ,  0.        ,  0.        ,\n",
       "        0.        ,  1.        ,  0.        ,  0.        ,  1.        ,\n",
       "        0.        ,  0.        ,  0.        , -0.61990074, -0.08877873,\n",
       "        0.37511601,  0.91545786, -0.37805012, -0.70686683])"
      ]
     },
     "execution_count": 9,
     "metadata": {},
     "output_type": "execute_result"
    }
   ],
   "source": [
    "X_train[0,:]"
   ]
  },
  {
   "cell_type": "code",
   "execution_count": 10,
   "metadata": {
    "execution": {
     "iopub.execute_input": "2020-08-22T14:32:23.637840Z",
     "iopub.status.busy": "2020-08-22T14:32:23.637019Z",
     "iopub.status.idle": "2020-08-22T14:32:23.725517Z",
     "shell.execute_reply": "2020-08-22T14:32:23.724814Z"
    },
    "papermill": {
     "duration": 0.10534,
     "end_time": "2020-08-22T14:32:23.725648",
     "exception": false,
     "start_time": "2020-08-22T14:32:23.620308",
     "status": "completed"
    },
    "tags": []
   },
   "outputs": [],
   "source": [
    "from sklearn.svm import SVC\n",
    "estimator = SVC()\n",
    "\n",
    "parameters = [{'kernel':['rbf'],\n",
    "               'C':[1,10,100,1000],\n",
    "               'gamma':[1,0.1,0.001,0.0001],\n",
    "            },\n",
    "            {'kernel':['poly'],\n",
    "               'C':[1,10,100,1000],\n",
    "               'gamma':[1,0.1,0.001,0.0001],\n",
    "             'degree':range(1,5)}\n",
    "             ]\n",
    "\n"
   ]
  },
  {
   "cell_type": "markdown",
   "execution_count": null,
   "metadata": {
    "papermill": {
     "duration": 0.008475,
     "end_time": "2020-08-22T14:32:23.743419",
     "exception": false,
     "start_time": "2020-08-22T14:32:23.734944",
     "status": "completed"
    },
    "tags": []
   },
   "source": [
    "# Using Grid Search to find best fit SVC model "
   ]
  },
  {
   "cell_type": "code",
   "execution_count": 11,
   "metadata": {
    "execution": {
     "iopub.execute_input": "2020-08-22T14:32:23.768090Z",
     "iopub.status.busy": "2020-08-22T14:32:23.766988Z",
     "iopub.status.idle": "2020-08-22T14:32:23.770423Z",
     "shell.execute_reply": "2020-08-22T14:32:23.769656Z"
    },
    "papermill": {
     "duration": 0.01854,
     "end_time": "2020-08-22T14:32:23.770555",
     "exception": false,
     "start_time": "2020-08-22T14:32:23.752015",
     "status": "completed"
    },
    "tags": []
   },
   "outputs": [],
   "source": [
    "from sklearn.model_selection import GridSearchCV\n",
    " \n",
    "grid_search = GridSearchCV(\n",
    "    estimator=estimator,\n",
    "    param_grid=parameters,\n",
    "    scoring = 'accuracy',\n",
    "    n_jobs = 10,\n",
    "    cv = 10,\n",
    "    verbose=True\n",
    ")\n"
   ]
  },
  {
   "cell_type": "code",
   "execution_count": 12,
   "metadata": {
    "execution": {
     "iopub.execute_input": "2020-08-22T14:32:23.795617Z",
     "iopub.status.busy": "2020-08-22T14:32:23.794646Z",
     "iopub.status.idle": "2020-08-22T14:32:46.973250Z",
     "shell.execute_reply": "2020-08-22T14:32:46.973881Z"
    },
    "papermill": {
     "duration": 23.19478,
     "end_time": "2020-08-22T14:32:46.974067",
     "exception": false,
     "start_time": "2020-08-22T14:32:23.779287",
     "status": "completed"
    },
    "tags": []
   },
   "outputs": [
    {
     "name": "stdout",
     "output_type": "stream",
     "text": [
      "Fitting 10 folds for each of 80 candidates, totalling 800 fits\n"
     ]
    },
    {
     "name": "stderr",
     "output_type": "stream",
     "text": [
      "[Parallel(n_jobs=10)]: Using backend LokyBackend with 10 concurrent workers.\n",
      "[Parallel(n_jobs=10)]: Done  30 tasks      | elapsed:    4.5s\n",
      "[Parallel(n_jobs=10)]: Done 610 tasks      | elapsed:    6.7s\n",
      "[Parallel(n_jobs=10)]: Done 800 out of 800 | elapsed:   23.1s finished\n"
     ]
    },
    {
     "data": {
      "text/plain": [
       "SVC(C=100, gamma=0.0001)"
      ]
     },
     "execution_count": 12,
     "metadata": {},
     "output_type": "execute_result"
    }
   ],
   "source": [
    "grid_search.fit(X_train, y_train)\n",
    "grid_search.best_estimator_"
   ]
  },
  {
   "cell_type": "code",
   "execution_count": 13,
   "metadata": {
    "execution": {
     "iopub.execute_input": "2020-08-22T14:32:47.000033Z",
     "iopub.status.busy": "2020-08-22T14:32:46.999032Z",
     "iopub.status.idle": "2020-08-22T14:32:47.003430Z",
     "shell.execute_reply": "2020-08-22T14:32:47.002617Z"
    },
    "papermill": {
     "duration": 0.020073,
     "end_time": "2020-08-22T14:32:47.003573",
     "exception": false,
     "start_time": "2020-08-22T14:32:46.983500",
     "status": "completed"
    },
    "tags": []
   },
   "outputs": [],
   "source": [
    "y_pred = grid_search.best_estimator_.predict(X_test)"
   ]
  },
  {
   "cell_type": "markdown",
   "execution_count": null,
   "metadata": {
    "papermill": {
     "duration": 0.008954,
     "end_time": "2020-08-22T14:32:47.022329",
     "exception": false,
     "start_time": "2020-08-22T14:32:47.013375",
     "status": "completed"
    },
    "tags": []
   },
   "source": [
    "So, this is the final confusion matrix and the accuracy score"
   ]
  },
  {
   "cell_type": "code",
   "execution_count": 14,
   "metadata": {
    "execution": {
     "iopub.execute_input": "2020-08-22T14:32:47.051401Z",
     "iopub.status.busy": "2020-08-22T14:32:47.050304Z",
     "iopub.status.idle": "2020-08-22T14:32:47.055376Z",
     "shell.execute_reply": "2020-08-22T14:32:47.055953Z"
    },
    "papermill": {
     "duration": 0.024278,
     "end_time": "2020-08-22T14:32:47.056140",
     "exception": false,
     "start_time": "2020-08-22T14:32:47.031862",
     "status": "completed"
    },
    "tags": []
   },
   "outputs": [
    {
     "name": "stdout",
     "output_type": "stream",
     "text": [
      "[[13  3]\n",
      " [ 0 15]]\n"
     ]
    },
    {
     "data": {
      "text/plain": [
       "0.9032258064516129"
      ]
     },
     "execution_count": 14,
     "metadata": {},
     "output_type": "execute_result"
    }
   ],
   "source": [
    "from sklearn.metrics import confusion_matrix, accuracy_score\n",
    "print(confusion_matrix(y_test,y_pred))\n",
    "accuracy_score(y_test,y_pred)"
   ]
  }
 ],
 "metadata": {
  "kernelspec": {
   "display_name": "Python 3",
   "language": "python",
   "name": "python3"
  },
  "language_info": {
   "codemirror_mode": {
    "name": "ipython",
    "version": 3
   },
   "file_extension": ".py",
   "mimetype": "text/x-python",
   "name": "python",
   "nbconvert_exporter": "python",
   "pygments_lexer": "ipython3",
   "version": "3.7.6"
  },
  "papermill": {
   "duration": 29.729414,
   "end_time": "2020-08-22T14:32:47.182672",
   "environment_variables": {},
   "exception": null,
   "input_path": "__notebook__.ipynb",
   "output_path": "__notebook__.ipynb",
   "parameters": {},
   "start_time": "2020-08-22T14:32:17.453258",
   "version": "2.1.0"
  }
 },
 "nbformat": 4,
 "nbformat_minor": 4
}
