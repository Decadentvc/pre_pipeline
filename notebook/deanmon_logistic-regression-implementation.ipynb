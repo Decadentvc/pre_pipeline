{
 "cells": [
  {
   "cell_type": "markdown",
   "metadata": {
    "_cell_guid": "b1076dfc-b9ad-4769-8c92-a6c4dae69d19",
    "_uuid": "8f2839f25d086af736a60e9eeb907d3b93b6e0e5"
   },
   "source": [
    "## Welcome to my kernel ! \n",
    "## <br>What you will find here . \n",
    "\n",
    "*      [EDA (Explotary Data Analysis)](#1)\n",
    "*      [Hand-made Forward-Backward Functions](#2)\n",
    "*     [Sklearn-Logistic Regression](#3)"
   ]
  },
  {
   "cell_type": "markdown",
   "metadata": {
    "_uuid": "f636220b08099118f51ad38742274b0c24e855db"
   },
   "source": [
    "<div id=\"1\"/>\n",
    "## EDA (Explotary Data Analysis)"
   ]
  },
  {
   "cell_type": "code",
   "execution_count": 1,
   "metadata": {
    "_cell_guid": "79c7e3d0-c299-4dcb-8224-4455121ee9b0",
    "_uuid": "d629ff2d2480ee46fbb7e2d37f6b5fab8052498a"
   },
   "outputs": [],
   "source": [
    "import numpy as np # Linear Algebra Library\n",
    "import pandas as pd # Data Processing Library\n",
    "import matplotlib.pyplot as plt # Visualize Library"
   ]
  },
  {
   "cell_type": "code",
   "execution_count": 2,
   "metadata": {
    "_uuid": "90038dbac0c0bad13a99c071fb59ef98f9402405"
   },
   "outputs": [],
   "source": [
    "df = pd.read_csv(\"../input/voice.csv\")\n",
    "df.label = [1 if each == \"male\" else 0 for each in df.label]"
   ]
  },
  {
   "cell_type": "code",
   "execution_count": 3,
   "metadata": {
    "_uuid": "857b9555762385fe2bbbd7a878fbd6d1cb931047"
   },
   "outputs": [
    {
     "data": {
      "text/html": [
       "<div>\n",
       "<style scoped>\n",
       "    .dataframe tbody tr th:only-of-type {\n",
       "        vertical-align: middle;\n",
       "    }\n",
       "\n",
       "    .dataframe tbody tr th {\n",
       "        vertical-align: top;\n",
       "    }\n",
       "\n",
       "    .dataframe thead th {\n",
       "        text-align: right;\n",
       "    }\n",
       "</style>\n",
       "<table border=\"1\" class=\"dataframe\">\n",
       "  <thead>\n",
       "    <tr style=\"text-align: right;\">\n",
       "      <th></th>\n",
       "      <th>meanfreq</th>\n",
       "      <th>sd</th>\n",
       "      <th>median</th>\n",
       "      <th>Q25</th>\n",
       "      <th>Q75</th>\n",
       "      <th>IQR</th>\n",
       "      <th>skew</th>\n",
       "      <th>kurt</th>\n",
       "      <th>sp.ent</th>\n",
       "      <th>sfm</th>\n",
       "      <th>mode</th>\n",
       "      <th>centroid</th>\n",
       "      <th>meanfun</th>\n",
       "      <th>minfun</th>\n",
       "      <th>maxfun</th>\n",
       "      <th>meandom</th>\n",
       "      <th>mindom</th>\n",
       "      <th>maxdom</th>\n",
       "      <th>dfrange</th>\n",
       "      <th>modindx</th>\n",
       "      <th>label</th>\n",
       "    </tr>\n",
       "  </thead>\n",
       "  <tbody>\n",
       "    <tr>\n",
       "      <th>0</th>\n",
       "      <td>0.059781</td>\n",
       "      <td>0.064241</td>\n",
       "      <td>0.032027</td>\n",
       "      <td>0.015071</td>\n",
       "      <td>0.090193</td>\n",
       "      <td>0.075122</td>\n",
       "      <td>12.863462</td>\n",
       "      <td>274.402906</td>\n",
       "      <td>0.893369</td>\n",
       "      <td>0.491918</td>\n",
       "      <td>0.000000</td>\n",
       "      <td>0.059781</td>\n",
       "      <td>0.084279</td>\n",
       "      <td>0.015702</td>\n",
       "      <td>0.275862</td>\n",
       "      <td>0.007812</td>\n",
       "      <td>0.007812</td>\n",
       "      <td>0.007812</td>\n",
       "      <td>0.000000</td>\n",
       "      <td>0.000000</td>\n",
       "      <td>1</td>\n",
       "    </tr>\n",
       "    <tr>\n",
       "      <th>1</th>\n",
       "      <td>0.066009</td>\n",
       "      <td>0.067310</td>\n",
       "      <td>0.040229</td>\n",
       "      <td>0.019414</td>\n",
       "      <td>0.092666</td>\n",
       "      <td>0.073252</td>\n",
       "      <td>22.423285</td>\n",
       "      <td>634.613855</td>\n",
       "      <td>0.892193</td>\n",
       "      <td>0.513724</td>\n",
       "      <td>0.000000</td>\n",
       "      <td>0.066009</td>\n",
       "      <td>0.107937</td>\n",
       "      <td>0.015826</td>\n",
       "      <td>0.250000</td>\n",
       "      <td>0.009014</td>\n",
       "      <td>0.007812</td>\n",
       "      <td>0.054688</td>\n",
       "      <td>0.046875</td>\n",
       "      <td>0.052632</td>\n",
       "      <td>1</td>\n",
       "    </tr>\n",
       "    <tr>\n",
       "      <th>2</th>\n",
       "      <td>0.077316</td>\n",
       "      <td>0.083829</td>\n",
       "      <td>0.036718</td>\n",
       "      <td>0.008701</td>\n",
       "      <td>0.131908</td>\n",
       "      <td>0.123207</td>\n",
       "      <td>30.757155</td>\n",
       "      <td>1024.927705</td>\n",
       "      <td>0.846389</td>\n",
       "      <td>0.478905</td>\n",
       "      <td>0.000000</td>\n",
       "      <td>0.077316</td>\n",
       "      <td>0.098706</td>\n",
       "      <td>0.015656</td>\n",
       "      <td>0.271186</td>\n",
       "      <td>0.007990</td>\n",
       "      <td>0.007812</td>\n",
       "      <td>0.015625</td>\n",
       "      <td>0.007812</td>\n",
       "      <td>0.046512</td>\n",
       "      <td>1</td>\n",
       "    </tr>\n",
       "    <tr>\n",
       "      <th>3</th>\n",
       "      <td>0.151228</td>\n",
       "      <td>0.072111</td>\n",
       "      <td>0.158011</td>\n",
       "      <td>0.096582</td>\n",
       "      <td>0.207955</td>\n",
       "      <td>0.111374</td>\n",
       "      <td>1.232831</td>\n",
       "      <td>4.177296</td>\n",
       "      <td>0.963322</td>\n",
       "      <td>0.727232</td>\n",
       "      <td>0.083878</td>\n",
       "      <td>0.151228</td>\n",
       "      <td>0.088965</td>\n",
       "      <td>0.017798</td>\n",
       "      <td>0.250000</td>\n",
       "      <td>0.201497</td>\n",
       "      <td>0.007812</td>\n",
       "      <td>0.562500</td>\n",
       "      <td>0.554688</td>\n",
       "      <td>0.247119</td>\n",
       "      <td>1</td>\n",
       "    </tr>\n",
       "    <tr>\n",
       "      <th>4</th>\n",
       "      <td>0.135120</td>\n",
       "      <td>0.079146</td>\n",
       "      <td>0.124656</td>\n",
       "      <td>0.078720</td>\n",
       "      <td>0.206045</td>\n",
       "      <td>0.127325</td>\n",
       "      <td>1.101174</td>\n",
       "      <td>4.333713</td>\n",
       "      <td>0.971955</td>\n",
       "      <td>0.783568</td>\n",
       "      <td>0.104261</td>\n",
       "      <td>0.135120</td>\n",
       "      <td>0.106398</td>\n",
       "      <td>0.016931</td>\n",
       "      <td>0.266667</td>\n",
       "      <td>0.712812</td>\n",
       "      <td>0.007812</td>\n",
       "      <td>5.484375</td>\n",
       "      <td>5.476562</td>\n",
       "      <td>0.208274</td>\n",
       "      <td>1</td>\n",
       "    </tr>\n",
       "  </tbody>\n",
       "</table>\n",
       "</div>"
      ],
      "text/plain": [
       "   meanfreq        sd    median  ...     dfrange   modindx  label\n",
       "0  0.059781  0.064241  0.032027  ...    0.000000  0.000000      1\n",
       "1  0.066009  0.067310  0.040229  ...    0.046875  0.052632      1\n",
       "2  0.077316  0.083829  0.036718  ...    0.007812  0.046512      1\n",
       "3  0.151228  0.072111  0.158011  ...    0.554688  0.247119      1\n",
       "4  0.135120  0.079146  0.124656  ...    5.476562  0.208274      1\n",
       "\n",
       "[5 rows x 21 columns]"
      ]
     },
     "execution_count": 3,
     "metadata": {},
     "output_type": "execute_result"
    }
   ],
   "source": [
    "df.head()"
   ]
  },
  {
   "cell_type": "code",
   "execution_count": 4,
   "metadata": {
    "_uuid": "59de54d04123442135a964a80c2d32b505862d4f"
   },
   "outputs": [
    {
     "name": "stdout",
     "output_type": "stream",
     "text": [
      "<class 'pandas.core.frame.DataFrame'>\n",
      "RangeIndex: 3168 entries, 0 to 3167\n",
      "Data columns (total 21 columns):\n",
      "meanfreq    3168 non-null float64\n",
      "sd          3168 non-null float64\n",
      "median      3168 non-null float64\n",
      "Q25         3168 non-null float64\n",
      "Q75         3168 non-null float64\n",
      "IQR         3168 non-null float64\n",
      "skew        3168 non-null float64\n",
      "kurt        3168 non-null float64\n",
      "sp.ent      3168 non-null float64\n",
      "sfm         3168 non-null float64\n",
      "mode        3168 non-null float64\n",
      "centroid    3168 non-null float64\n",
      "meanfun     3168 non-null float64\n",
      "minfun      3168 non-null float64\n",
      "maxfun      3168 non-null float64\n",
      "meandom     3168 non-null float64\n",
      "mindom      3168 non-null float64\n",
      "maxdom      3168 non-null float64\n",
      "dfrange     3168 non-null float64\n",
      "modindx     3168 non-null float64\n",
      "label       3168 non-null int64\n",
      "dtypes: float64(20), int64(1)\n",
      "memory usage: 519.8 KB\n",
      "None\n"
     ]
    }
   ],
   "source": [
    "print(df.info())"
   ]
  },
  {
   "cell_type": "code",
   "execution_count": 5,
   "metadata": {
    "_uuid": "964b033372462cf49f8a75f93eab96ae887ce604"
   },
   "outputs": [
    {
     "data": {
      "text/html": [
       "<div>\n",
       "<style scoped>\n",
       "    .dataframe tbody tr th:only-of-type {\n",
       "        vertical-align: middle;\n",
       "    }\n",
       "\n",
       "    .dataframe tbody tr th {\n",
       "        vertical-align: top;\n",
       "    }\n",
       "\n",
       "    .dataframe thead th {\n",
       "        text-align: right;\n",
       "    }\n",
       "</style>\n",
       "<table border=\"1\" class=\"dataframe\">\n",
       "  <thead>\n",
       "    <tr style=\"text-align: right;\">\n",
       "      <th></th>\n",
       "      <th>meanfreq</th>\n",
       "      <th>sd</th>\n",
       "      <th>median</th>\n",
       "      <th>Q25</th>\n",
       "      <th>Q75</th>\n",
       "      <th>IQR</th>\n",
       "      <th>skew</th>\n",
       "      <th>kurt</th>\n",
       "      <th>sp.ent</th>\n",
       "      <th>sfm</th>\n",
       "      <th>mode</th>\n",
       "      <th>centroid</th>\n",
       "      <th>meanfun</th>\n",
       "      <th>minfun</th>\n",
       "      <th>maxfun</th>\n",
       "      <th>meandom</th>\n",
       "      <th>mindom</th>\n",
       "      <th>maxdom</th>\n",
       "      <th>dfrange</th>\n",
       "      <th>modindx</th>\n",
       "      <th>label</th>\n",
       "    </tr>\n",
       "  </thead>\n",
       "  <tbody>\n",
       "    <tr>\n",
       "      <th>count</th>\n",
       "      <td>3168.000000</td>\n",
       "      <td>3168.000000</td>\n",
       "      <td>3168.000000</td>\n",
       "      <td>3168.000000</td>\n",
       "      <td>3168.000000</td>\n",
       "      <td>3168.000000</td>\n",
       "      <td>3168.000000</td>\n",
       "      <td>3168.000000</td>\n",
       "      <td>3168.000000</td>\n",
       "      <td>3168.000000</td>\n",
       "      <td>3168.000000</td>\n",
       "      <td>3168.000000</td>\n",
       "      <td>3168.000000</td>\n",
       "      <td>3168.000000</td>\n",
       "      <td>3168.000000</td>\n",
       "      <td>3168.000000</td>\n",
       "      <td>3168.000000</td>\n",
       "      <td>3168.000000</td>\n",
       "      <td>3168.000000</td>\n",
       "      <td>3168.000000</td>\n",
       "      <td>3168.000000</td>\n",
       "    </tr>\n",
       "    <tr>\n",
       "      <th>mean</th>\n",
       "      <td>0.180907</td>\n",
       "      <td>0.057126</td>\n",
       "      <td>0.185621</td>\n",
       "      <td>0.140456</td>\n",
       "      <td>0.224765</td>\n",
       "      <td>0.084309</td>\n",
       "      <td>3.140168</td>\n",
       "      <td>36.568461</td>\n",
       "      <td>0.895127</td>\n",
       "      <td>0.408216</td>\n",
       "      <td>0.165282</td>\n",
       "      <td>0.180907</td>\n",
       "      <td>0.142807</td>\n",
       "      <td>0.036802</td>\n",
       "      <td>0.258842</td>\n",
       "      <td>0.829211</td>\n",
       "      <td>0.052647</td>\n",
       "      <td>5.047277</td>\n",
       "      <td>4.994630</td>\n",
       "      <td>0.173752</td>\n",
       "      <td>0.500000</td>\n",
       "    </tr>\n",
       "    <tr>\n",
       "      <th>std</th>\n",
       "      <td>0.029918</td>\n",
       "      <td>0.016652</td>\n",
       "      <td>0.036360</td>\n",
       "      <td>0.048680</td>\n",
       "      <td>0.023639</td>\n",
       "      <td>0.042783</td>\n",
       "      <td>4.240529</td>\n",
       "      <td>134.928661</td>\n",
       "      <td>0.044980</td>\n",
       "      <td>0.177521</td>\n",
       "      <td>0.077203</td>\n",
       "      <td>0.029918</td>\n",
       "      <td>0.032304</td>\n",
       "      <td>0.019220</td>\n",
       "      <td>0.030077</td>\n",
       "      <td>0.525205</td>\n",
       "      <td>0.063299</td>\n",
       "      <td>3.521157</td>\n",
       "      <td>3.520039</td>\n",
       "      <td>0.119454</td>\n",
       "      <td>0.500079</td>\n",
       "    </tr>\n",
       "    <tr>\n",
       "      <th>min</th>\n",
       "      <td>0.039363</td>\n",
       "      <td>0.018363</td>\n",
       "      <td>0.010975</td>\n",
       "      <td>0.000229</td>\n",
       "      <td>0.042946</td>\n",
       "      <td>0.014558</td>\n",
       "      <td>0.141735</td>\n",
       "      <td>2.068455</td>\n",
       "      <td>0.738651</td>\n",
       "      <td>0.036876</td>\n",
       "      <td>0.000000</td>\n",
       "      <td>0.039363</td>\n",
       "      <td>0.055565</td>\n",
       "      <td>0.009775</td>\n",
       "      <td>0.103093</td>\n",
       "      <td>0.007812</td>\n",
       "      <td>0.004883</td>\n",
       "      <td>0.007812</td>\n",
       "      <td>0.000000</td>\n",
       "      <td>0.000000</td>\n",
       "      <td>0.000000</td>\n",
       "    </tr>\n",
       "    <tr>\n",
       "      <th>25%</th>\n",
       "      <td>0.163662</td>\n",
       "      <td>0.041954</td>\n",
       "      <td>0.169593</td>\n",
       "      <td>0.111087</td>\n",
       "      <td>0.208747</td>\n",
       "      <td>0.042560</td>\n",
       "      <td>1.649569</td>\n",
       "      <td>5.669547</td>\n",
       "      <td>0.861811</td>\n",
       "      <td>0.258041</td>\n",
       "      <td>0.118016</td>\n",
       "      <td>0.163662</td>\n",
       "      <td>0.116998</td>\n",
       "      <td>0.018223</td>\n",
       "      <td>0.253968</td>\n",
       "      <td>0.419828</td>\n",
       "      <td>0.007812</td>\n",
       "      <td>2.070312</td>\n",
       "      <td>2.044922</td>\n",
       "      <td>0.099766</td>\n",
       "      <td>0.000000</td>\n",
       "    </tr>\n",
       "    <tr>\n",
       "      <th>50%</th>\n",
       "      <td>0.184838</td>\n",
       "      <td>0.059155</td>\n",
       "      <td>0.190032</td>\n",
       "      <td>0.140286</td>\n",
       "      <td>0.225684</td>\n",
       "      <td>0.094280</td>\n",
       "      <td>2.197101</td>\n",
       "      <td>8.318463</td>\n",
       "      <td>0.901767</td>\n",
       "      <td>0.396335</td>\n",
       "      <td>0.186599</td>\n",
       "      <td>0.184838</td>\n",
       "      <td>0.140519</td>\n",
       "      <td>0.046110</td>\n",
       "      <td>0.271186</td>\n",
       "      <td>0.765795</td>\n",
       "      <td>0.023438</td>\n",
       "      <td>4.992188</td>\n",
       "      <td>4.945312</td>\n",
       "      <td>0.139357</td>\n",
       "      <td>0.500000</td>\n",
       "    </tr>\n",
       "    <tr>\n",
       "      <th>75%</th>\n",
       "      <td>0.199146</td>\n",
       "      <td>0.067020</td>\n",
       "      <td>0.210618</td>\n",
       "      <td>0.175939</td>\n",
       "      <td>0.243660</td>\n",
       "      <td>0.114175</td>\n",
       "      <td>2.931694</td>\n",
       "      <td>13.648905</td>\n",
       "      <td>0.928713</td>\n",
       "      <td>0.533676</td>\n",
       "      <td>0.221104</td>\n",
       "      <td>0.199146</td>\n",
       "      <td>0.169581</td>\n",
       "      <td>0.047904</td>\n",
       "      <td>0.277457</td>\n",
       "      <td>1.177166</td>\n",
       "      <td>0.070312</td>\n",
       "      <td>7.007812</td>\n",
       "      <td>6.992188</td>\n",
       "      <td>0.209183</td>\n",
       "      <td>1.000000</td>\n",
       "    </tr>\n",
       "    <tr>\n",
       "      <th>max</th>\n",
       "      <td>0.251124</td>\n",
       "      <td>0.115273</td>\n",
       "      <td>0.261224</td>\n",
       "      <td>0.247347</td>\n",
       "      <td>0.273469</td>\n",
       "      <td>0.252225</td>\n",
       "      <td>34.725453</td>\n",
       "      <td>1309.612887</td>\n",
       "      <td>0.981997</td>\n",
       "      <td>0.842936</td>\n",
       "      <td>0.280000</td>\n",
       "      <td>0.251124</td>\n",
       "      <td>0.237636</td>\n",
       "      <td>0.204082</td>\n",
       "      <td>0.279114</td>\n",
       "      <td>2.957682</td>\n",
       "      <td>0.458984</td>\n",
       "      <td>21.867188</td>\n",
       "      <td>21.843750</td>\n",
       "      <td>0.932374</td>\n",
       "      <td>1.000000</td>\n",
       "    </tr>\n",
       "  </tbody>\n",
       "</table>\n",
       "</div>"
      ],
      "text/plain": [
       "          meanfreq           sd     ...           modindx        label\n",
       "count  3168.000000  3168.000000     ...       3168.000000  3168.000000\n",
       "mean      0.180907     0.057126     ...          0.173752     0.500000\n",
       "std       0.029918     0.016652     ...          0.119454     0.500079\n",
       "min       0.039363     0.018363     ...          0.000000     0.000000\n",
       "25%       0.163662     0.041954     ...          0.099766     0.000000\n",
       "50%       0.184838     0.059155     ...          0.139357     0.500000\n",
       "75%       0.199146     0.067020     ...          0.209183     1.000000\n",
       "max       0.251124     0.115273     ...          0.932374     1.000000\n",
       "\n",
       "[8 rows x 21 columns]"
      ]
     },
     "execution_count": 5,
     "metadata": {},
     "output_type": "execute_result"
    }
   ],
   "source": [
    "df.describe()"
   ]
  },
  {
   "cell_type": "code",
   "execution_count": 6,
   "metadata": {
    "_uuid": "c247bcb2e488b89f929b35665d9fa8107ff18a54"
   },
   "outputs": [],
   "source": [
    "y = df.label.values\n",
    "x_data = df.drop(\"label\",axis = 1) "
   ]
  },
  {
   "cell_type": "markdown",
   "metadata": {
    "_uuid": "791903834bb70b99d41c43c30b99c8df82f89cd4"
   },
   "source": [
    "<div id=\"2\"/>\n",
    "## Hand-made Forward-Backward Functions\n",
    "\n",
    "> "
   ]
  },
  {
   "cell_type": "markdown",
   "metadata": {
    "_uuid": "a306f55f65dcf28812f822c3db58ddcd47ebe09f"
   },
   "source": [
    "### Normalization"
   ]
  },
  {
   "cell_type": "code",
   "execution_count": 7,
   "metadata": {
    "_uuid": "1fa05fa45d7b891504bf2f956cf827f435f9e402"
   },
   "outputs": [],
   "source": [
    "x = (x_data - np.min(x_data))/(np.max(x_data)-np.min(x_data))"
   ]
  },
  {
   "cell_type": "markdown",
   "metadata": {
    "_uuid": "d010f8ac91d2136e1707274084927cf3a19769a5"
   },
   "source": [
    "### Train Test Split with Sklearn "
   ]
  },
  {
   "cell_type": "code",
   "execution_count": 8,
   "metadata": {
    "_kg_hide-input": false,
    "_kg_hide-output": true,
    "_uuid": "4b89e0cd73e65aee64f217019a97194728c2c061"
   },
   "outputs": [
    {
     "name": "stdout",
     "output_type": "stream",
     "text": [
      "x_train :                807       2495      2529    ...         1130      1294      860 \n",
      "meanfreq  0.665832  0.690781  0.777030    ...     0.769594  0.672626  0.606196\n",
      "sd        0.365315  0.481685  0.284782    ...     0.460609  0.410059  0.493876\n",
      "median    0.713283  0.771153  0.762816    ...     0.843042  0.723528  0.643003\n",
      "Q25       0.573272  0.751818  0.719151    ...     0.555666  0.499524  0.454718\n",
      "Q75       0.739741  0.783035  0.853189    ...     0.962464  0.792204  0.790591\n",
      "IQR       0.239920  0.096267  0.198279    ...     0.474255  0.367487  0.412510\n",
      "skew      0.038499  0.074903  0.060899    ...     0.053743  0.027467  0.019698\n",
      "kurt      0.002166  0.006989  0.006434    ...     0.003528  0.001484  0.000791\n",
      "sp.ent    0.737625  0.656182  0.657650    ...     0.555573  0.768144  0.881705\n",
      "sfm       0.444370  0.545160  0.398946    ...     0.278990  0.485163  0.741597\n",
      "mode      0.666165  0.713092  0.635514    ...     0.974482  0.681182  0.619217\n",
      "centroid  0.665832  0.690781  0.777030    ...     0.769594  0.672626  0.606196\n",
      "meanfun   0.421330  0.660556  0.626416    ...     0.373724  0.302193  0.387440\n",
      "minfun    0.191643  0.197966  0.193074    ...     0.193074  0.205684  0.197219\n",
      "maxfun    0.999749  0.981526  0.972570    ...     0.946308  0.972570  0.999749\n",
      "meandom   0.325694  0.362681  0.426227    ...     0.400816  0.264842  0.273166\n",
      "mindom    0.040860  0.040860  0.040860    ...     0.040860  0.040860  0.040860\n",
      "maxdom    0.189421  0.275197  0.390994    ...     0.339528  0.199071  0.275197\n",
      "dfrange   0.188841  0.274678  0.390558    ...     0.339056  0.198498  0.274678\n",
      "modindx   0.137621  0.092973  0.090246    ...     0.100215  0.066832  0.132333\n",
      "\n",
      "[20 rows x 2534 columns]\n",
      "x_test :                2148      1124      170     ...         533       857       2594\n",
      "meanfreq  0.696396  0.706059  0.525790    ...     0.408325  0.634850  0.941950\n",
      "sd        0.093991  0.432900  0.709565    ...     0.613130  0.421837  0.120701\n",
      "median    0.692709  0.737513  0.652647    ...     0.470444  0.700563  0.929636\n",
      "Q25       0.703007  0.557801  0.280989    ...     0.224925  0.471945  0.893147\n",
      "Q75       0.701816  0.867717  0.794435    ...     0.554321  0.729570  0.945982\n",
      "IQR       0.068242  0.380136  0.596876    ...     0.422273  0.335412  0.107367\n",
      "skew      0.072678  0.039199  0.071196    ...     0.034360  0.052811  0.051371\n",
      "kurt      0.006499  0.002270  0.015495    ...     0.002582  0.004354  0.003099\n",
      "sp.ent    0.341741  0.701775  0.947772    ...     0.939971  0.745778  0.313015\n",
      "sfm       0.152602  0.418515  0.924067    ...     0.838543  0.571932  0.101059\n",
      "mode      0.645161  0.501377  0.179218    ...     0.491114  0.713710  0.934087\n",
      "centroid  0.696396  0.706059  0.525790    ...     0.408325  0.634850  0.941950\n",
      "meanfun   0.643839  0.425803  0.298929    ...     0.445534  0.399668  0.724848\n",
      "minfun    0.070609  0.211379  0.038521    ...     0.031060  0.203841  0.194764\n",
      "maxfun    0.954963  0.963717  0.929285    ...     0.981526  0.999749  0.990585\n",
      "meandom   0.057887  0.287513  0.418033    ...     0.079693  0.425072  0.447176\n",
      "mindom    0.006452  0.040860  0.006452    ...     0.006452  0.040860  0.040860\n",
      "maxdom    0.010007  0.398499  0.254110    ...     0.250893  0.321301  0.446748\n",
      "dfrange   0.010014  0.398069  0.254292    ...     0.251073  0.320815  0.446352\n",
      "modindx   0.116829  0.105872  0.356505    ...     0.056694  0.145425  0.147500\n",
      "\n",
      "[20 rows x 634 columns]\n",
      "y_train :  [1 0 0 ... 1 1 1]\n",
      "y_test :                2148      1124      170     ...         533       857       2594\n",
      "meanfreq  0.696396  0.706059  0.525790    ...     0.408325  0.634850  0.941950\n",
      "sd        0.093991  0.432900  0.709565    ...     0.613130  0.421837  0.120701\n",
      "median    0.692709  0.737513  0.652647    ...     0.470444  0.700563  0.929636\n",
      "Q25       0.703007  0.557801  0.280989    ...     0.224925  0.471945  0.893147\n",
      "Q75       0.701816  0.867717  0.794435    ...     0.554321  0.729570  0.945982\n",
      "IQR       0.068242  0.380136  0.596876    ...     0.422273  0.335412  0.107367\n",
      "skew      0.072678  0.039199  0.071196    ...     0.034360  0.052811  0.051371\n",
      "kurt      0.006499  0.002270  0.015495    ...     0.002582  0.004354  0.003099\n",
      "sp.ent    0.341741  0.701775  0.947772    ...     0.939971  0.745778  0.313015\n",
      "sfm       0.152602  0.418515  0.924067    ...     0.838543  0.571932  0.101059\n",
      "mode      0.645161  0.501377  0.179218    ...     0.491114  0.713710  0.934087\n",
      "centroid  0.696396  0.706059  0.525790    ...     0.408325  0.634850  0.941950\n",
      "meanfun   0.643839  0.425803  0.298929    ...     0.445534  0.399668  0.724848\n",
      "minfun    0.070609  0.211379  0.038521    ...     0.031060  0.203841  0.194764\n",
      "maxfun    0.954963  0.963717  0.929285    ...     0.981526  0.999749  0.990585\n",
      "meandom   0.057887  0.287513  0.418033    ...     0.079693  0.425072  0.447176\n",
      "mindom    0.006452  0.040860  0.006452    ...     0.006452  0.040860  0.040860\n",
      "maxdom    0.010007  0.398499  0.254110    ...     0.250893  0.321301  0.446748\n",
      "dfrange   0.010014  0.398069  0.254292    ...     0.251073  0.320815  0.446352\n",
      "modindx   0.116829  0.105872  0.356505    ...     0.056694  0.145425  0.147500\n",
      "\n",
      "[20 rows x 634 columns]\n"
     ]
    }
   ],
   "source": [
    "from sklearn.model_selection import train_test_split\n",
    "\n",
    "x_train, x_test, y_train, y_test = train_test_split(x,y,test_size=0.2,random_state=42)\n",
    "\n",
    "x_train = x_train.T\n",
    "x_test = x_test.T\n",
    "y_train = y_train.T\n",
    "y_test = y_test.T\n",
    "\n",
    "print(\"x_train : \",x_train)\n",
    "print(\"x_test : \",x_test)\n",
    "print(\"y_train : \",y_train)\n",
    "print(\"y_test : \",x_test)"
   ]
  },
  {
   "cell_type": "markdown",
   "metadata": {
    "_uuid": "2d76ae3a046c2310a39e856b9bb78dd72765a4d4"
   },
   "source": [
    "### Initializing weights and bias to our model."
   ]
  },
  {
   "cell_type": "code",
   "execution_count": 9,
   "metadata": {
    "_uuid": "500db904b63c91c1949f6bbbbe671ab1f33c45e4"
   },
   "outputs": [],
   "source": [
    "def initialize_weight_and_bias(dimension):\n",
    "    w = np.full((dimension,1),0.01)\n",
    "    b = 0.00\n",
    "    return w,b\n",
    "def sigmoid(z):\n",
    "    y_head = 1/ (1+np.exp(-z))\n",
    "    return y_head"
   ]
  },
  {
   "cell_type": "markdown",
   "metadata": {
    "_uuid": "6dd13ace4b3e07c7000668b1c5bf8c8d275e1b96"
   },
   "source": [
    "### We need forward & backward propagation to decrease loss function"
   ]
  },
  {
   "cell_type": "code",
   "execution_count": 10,
   "metadata": {
    "_uuid": "be10c55d980f922644ae21cdd432bda7d8ac164c"
   },
   "outputs": [],
   "source": [
    "def forward_backward_propagation(w,b,x_train,y_train,learning_rate,number_of_iterations):\n",
    "    #for forward\n",
    "    z = np.dot(w.T,x_train) + b\n",
    "    y_head = sigmoid(z)\n",
    "    loss = -y_train*np.log(y_head)-(1-y_train)*np.log(1-y_head)\n",
    "    cost = (np.sum(loss))/x_train.shape[1]\n",
    "    \n",
    "    #for backward\n",
    "    derivative_weight = (np.dot(x_train,((y_head-y_train).T)))/x_train.shape[1]\n",
    "    derivative_bias = np.sum(y_head-y_train)/x_train.shape[1]\n",
    "    gradients = {\"derivative_weight\": derivative_weight, \"derivative_bias\": derivative_bias}\n",
    "    \n",
    "    return cost,gradients"
   ]
  },
  {
   "cell_type": "markdown",
   "metadata": {
    "_uuid": "5a3bf229348b096a94f4ca26446f88ba385f9c4e"
   },
   "source": [
    "### Depend on our function we need to update our data."
   ]
  },
  {
   "cell_type": "code",
   "execution_count": 11,
   "metadata": {
    "_uuid": "38693ecc01f96752b887cfaa9d228645367f6a93"
   },
   "outputs": [],
   "source": [
    "def update(w,b,x_train,y_train,learning_rate,number_of_iterations):\n",
    "    cost_list = []\n",
    "    cost_list2 = []\n",
    "    index = []    \n",
    "    \n",
    "    for i in range(number_of_iterations):\n",
    "        cost,gradients = forward_backward_propagation(w,b,x_train,y_train,learning_rate,number_of_iterations)\n",
    "        cost_list.append(cost)\n",
    "        w =  w - learning_rate*gradients[\"derivative_weight\"]\n",
    "        b =  b - learning_rate*gradients[\"derivative_bias\"]\n",
    "        \n",
    "        if i % 10 == 0:\n",
    "            cost_list2.append(cost)\n",
    "            index.append(i)\n",
    "            print(\"Cost after iterations %i : %f\" %(i,cost))\n",
    "        \n",
    "        \n",
    "        \n",
    "    parameters = {\"weight\":w,\"bias\":b}\n",
    "    plt.plot(index,cost_list2)\n",
    "    plt.xticks(index,rotation = \"vertical\")\n",
    "    plt.xlabel(\"Number of Iterations\")\n",
    "    plt.ylabel(\"Cost\")\n",
    "    plt.show()\n",
    "    return parameters, gradients, cost_list"
   ]
  },
  {
   "cell_type": "code",
   "execution_count": 12,
   "metadata": {
    "_uuid": "646369ff3061641ad40c341968a1510b67a21c9a"
   },
   "outputs": [],
   "source": [
    "def predict(w,b,x_test):\n",
    "    z = sigmoid(np.dot(w.T,x_test)+ b)\n",
    "    Y_prediction = np.zeros((1,x_test.shape[1]))\n",
    "    for i in range(z.shape[1]):\n",
    "        if z[0,i]<= 0.5:\n",
    "            Y_prediction[0,i] = 0\n",
    "        else:\n",
    "            Y_prediction[0,i] = 1\n",
    "    \n",
    "    return Y_prediction"
   ]
  },
  {
   "cell_type": "code",
   "execution_count": 13,
   "metadata": {
    "_uuid": "99f3a8df2f848458d7f05ab9e61c372d15cff972"
   },
   "outputs": [
    {
     "name": "stdout",
     "output_type": "stream",
     "text": [
      "Cost after iterations 0 : 0.695733\n",
      "Cost after iterations 10 : 0.570587\n",
      "Cost after iterations 20 : 0.511070\n",
      "Cost after iterations 30 : 0.472310\n",
      "Cost after iterations 40 : 0.442741\n",
      "Cost after iterations 50 : 0.418369\n",
      "Cost after iterations 60 : 0.397485\n",
      "Cost after iterations 70 : 0.379209\n",
      "Cost after iterations 80 : 0.363009\n",
      "Cost after iterations 90 : 0.348522\n",
      "Cost after iterations 100 : 0.335479\n",
      "Cost after iterations 110 : 0.323672\n",
      "Cost after iterations 120 : 0.312932\n",
      "Cost after iterations 130 : 0.303120\n",
      "Cost after iterations 140 : 0.294122\n",
      "Cost after iterations 150 : 0.285840\n",
      "Cost after iterations 160 : 0.278192\n",
      "Cost after iterations 170 : 0.271109\n",
      "Cost after iterations 180 : 0.264530\n",
      "Cost after iterations 190 : 0.258403\n",
      "Cost after iterations 200 : 0.252683\n",
      "Cost after iterations 210 : 0.247332\n",
      "Cost after iterations 220 : 0.242314\n",
      "Cost after iterations 230 : 0.237600\n",
      "Cost after iterations 240 : 0.233163\n",
      "Cost after iterations 250 : 0.228979\n",
      "Cost after iterations 260 : 0.225027\n",
      "Cost after iterations 270 : 0.221289\n",
      "Cost after iterations 280 : 0.217748\n",
      "Cost after iterations 290 : 0.214388\n",
      "Cost after iterations 300 : 0.211197\n",
      "Cost after iterations 310 : 0.208161\n",
      "Cost after iterations 320 : 0.205270\n",
      "Cost after iterations 330 : 0.202515\n",
      "Cost after iterations 340 : 0.199884\n",
      "Cost after iterations 350 : 0.197371\n",
      "Cost after iterations 360 : 0.194968\n",
      "Cost after iterations 370 : 0.192667\n",
      "Cost after iterations 380 : 0.190462\n",
      "Cost after iterations 390 : 0.188348\n",
      "Cost after iterations 400 : 0.186319\n",
      "Cost after iterations 410 : 0.184369\n",
      "Cost after iterations 420 : 0.182495\n",
      "Cost after iterations 430 : 0.180692\n",
      "Cost after iterations 440 : 0.178956\n",
      "Cost after iterations 450 : 0.177284\n",
      "Cost after iterations 460 : 0.175671\n",
      "Cost after iterations 470 : 0.174116\n",
      "Cost after iterations 480 : 0.172614\n",
      "Cost after iterations 490 : 0.171164\n"
     ]
    },
    {
     "data": {
      "image/png": "[encoded data removed]",
      "text/plain": [
       "<Figure size 432x288 with 1 Axes>"
      ]
     },
     "metadata": {},
     "output_type": "display_data"
    },
    {
     "name": "stdout",
     "output_type": "stream",
     "text": [
      "test accuracy : 97.79179810725552 %\n"
     ]
    }
   ],
   "source": [
    "def logistic_regression(x_train,y_train,x_test,y_test,learning_rate,number_of_iterations):\n",
    "    dimension = x_train.shape[0]\n",
    "    w,b = initialize_weight_and_bias(dimension)\n",
    "    \n",
    "    parameters, gradients, cost_list = update(w,b,x_train,y_train,learning_rate,number_of_iterations)\n",
    "    \n",
    "    y_prediction_test = predict(parameters[\"weight\"],parameters[\"bias\"],x_test)\n",
    "    \n",
    "    print(\"test accuracy : {} %\".format(100-np.mean(np.abs(y_prediction_test - y_test))*100))\n",
    "\n",
    "\n",
    "logistic_regression(x_train,y_train,x_test,y_test,learning_rate=1,number_of_iterations = 500) "
   ]
  },
  {
   "cell_type": "markdown",
   "metadata": {
    "_uuid": "7cca6e582625c8eaaa9712f5142b9240ce7a1968"
   },
   "source": [
    "<div id=\"2\"/>\n",
    "## Sklearn Logistic Regression\n",
    ">"
   ]
  },
  {
   "cell_type": "markdown",
   "metadata": {
    "_uuid": "c0ad8ad9f684ced28ec0ec79949bd0fd3d1fb8d4"
   },
   "source": [
    "These all functions all we have defined we can find all of it in sklearn library. Why we have done it? Actually we need to learn in fundamentally. Now you get its functionality."
   ]
  },
  {
   "cell_type": "code",
   "execution_count": 14,
   "metadata": {
    "_uuid": "17e5fc2f20acbf05b99a92051035d121c75f53fd"
   },
   "outputs": [
    {
     "name": "stdout",
     "output_type": "stream",
     "text": [
      "test accuracy 0.9810725552050473\n"
     ]
    },
    {
     "name": "stderr",
     "output_type": "stream",
     "text": [
      "/opt/conda/lib/python3.6/site-packages/sklearn/linear_model/logistic.py:433: FutureWarning: Default solver will be changed to 'lbfgs' in 0.22. Specify a solver to silence this warning.\n",
      "  FutureWarning)\n"
     ]
    }
   ],
   "source": [
    "from sklearn.linear_model import LogisticRegression\n",
    "lr = LogisticRegression()\n",
    "lr.fit(x_train.T,y_train.T)\n",
    "print(\"test accuracy {}\".format(lr.score(x_test.T,y_test.T)))\n",
    "x_train = x_train.T\n",
    "y_train = y_train.T\n",
    "x_test = x_test.T\n",
    "y_test = y_test.T"
   ]
  }
 ],
 "metadata": {
  "kernelspec": {
   "display_name": "Python 3",
   "language": "python",
   "name": "python3"
  },
  "language_info": {
   "codemirror_mode": {
    "name": "ipython",
    "version": 3
   },
   "file_extension": ".py",
   "mimetype": "text/x-python",
   "name": "python",
   "nbconvert_exporter": "python",
   "pygments_lexer": "ipython3",
   "version": "3.6.6"
  }
 },
 "nbformat": 4,
 "nbformat_minor": 1
}
