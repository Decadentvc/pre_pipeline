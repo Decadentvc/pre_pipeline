{
 "cells": [
  {
   "cell_type": "code",
   "execution_count": 1,
   "metadata": {
    "_cell_guid": "b1076dfc-b9ad-4769-8c92-a6c4dae69d19",
    "_uuid": "8f2839f25d086af736a60e9eeb907d3b93b6e0e5"
   },
   "outputs": [
    {
     "name": "stdout",
     "output_type": "stream",
     "text": [
      "/kaggle/input/malicious-and-benign-websites/dataset.csv\n"
     ]
    }
   ],
   "source": [
    "# This Python 3 environment comes with many helpful analytics libraries installed\n",
    "# It is defined by the kaggle/python docker image: https://github.com/kaggle/docker-python\n",
    "# For example, here's several helpful packages to load in \n",
    "\n",
    "import numpy as np # linear algebra\n",
    "import pandas as pd # data processing, CSV file I/O (e.g. pd.read_csv)\n",
    "\n",
    "# Input data files are available in the \"../input/\" directory.\n",
    "# For example, running this (by clicking run or pressing Shift+Enter) will list all files under the input directory\n",
    "\n",
    "import os\n",
    "for dirname, _, filenames in os.walk('/kaggle/input'):\n",
    "    for filename in filenames:\n",
    "        print(os.path.join(dirname, filename))\n",
    "\n",
    "# Any results you write to the current directory are saved as output.\n",
    "import warnings  \n",
    "warnings.filterwarnings('ignore')"
   ]
  },
  {
   "cell_type": "markdown",
   "metadata": {},
   "source": [
    "# Overview\n",
    "The goal of this notebook is to see if a simple neural network can be trained to classify a website as malicious or benign. "
   ]
  },
  {
   "cell_type": "code",
   "execution_count": 2,
   "metadata": {
    "_cell_guid": "79c7e3d0-c299-4dcb-8224-4455121ee9b0",
    "_uuid": "d629ff2d2480ee46fbb7e2d37f6b5fab8052498a"
   },
   "outputs": [
    {
     "data": {
      "text/html": [
       "<div>\n",
       "<style scoped>\n",
       "    .dataframe tbody tr th:only-of-type {\n",
       "        vertical-align: middle;\n",
       "    }\n",
       "\n",
       "    .dataframe tbody tr th {\n",
       "        vertical-align: top;\n",
       "    }\n",
       "\n",
       "    .dataframe thead th {\n",
       "        text-align: right;\n",
       "    }\n",
       "</style>\n",
       "<table border=\"1\" class=\"dataframe\">\n",
       "  <thead>\n",
       "    <tr style=\"text-align: right;\">\n",
       "      <th></th>\n",
       "      <th>URL</th>\n",
       "      <th>URL_LENGTH</th>\n",
       "      <th>NUMBER_SPECIAL_CHARACTERS</th>\n",
       "      <th>CHARSET</th>\n",
       "      <th>SERVER</th>\n",
       "      <th>CONTENT_LENGTH</th>\n",
       "      <th>WHOIS_COUNTRY</th>\n",
       "      <th>WHOIS_STATEPRO</th>\n",
       "      <th>WHOIS_REGDATE</th>\n",
       "      <th>WHOIS_UPDATED_DATE</th>\n",
       "      <th>...</th>\n",
       "      <th>DIST_REMOTE_TCP_PORT</th>\n",
       "      <th>REMOTE_IPS</th>\n",
       "      <th>APP_BYTES</th>\n",
       "      <th>SOURCE_APP_PACKETS</th>\n",
       "      <th>REMOTE_APP_PACKETS</th>\n",
       "      <th>SOURCE_APP_BYTES</th>\n",
       "      <th>REMOTE_APP_BYTES</th>\n",
       "      <th>APP_PACKETS</th>\n",
       "      <th>DNS_QUERY_TIMES</th>\n",
       "      <th>Type</th>\n",
       "    </tr>\n",
       "  </thead>\n",
       "  <tbody>\n",
       "    <tr>\n",
       "      <th>count</th>\n",
       "      <td>1781</td>\n",
       "      <td>1781.000000</td>\n",
       "      <td>1781.000000</td>\n",
       "      <td>1781</td>\n",
       "      <td>1780</td>\n",
       "      <td>969.000000</td>\n",
       "      <td>1781</td>\n",
       "      <td>1781</td>\n",
       "      <td>1781</td>\n",
       "      <td>1781</td>\n",
       "      <td>...</td>\n",
       "      <td>1781.000000</td>\n",
       "      <td>1781.000000</td>\n",
       "      <td>1.781000e+03</td>\n",
       "      <td>1781.000000</td>\n",
       "      <td>1781.000000</td>\n",
       "      <td>1.781000e+03</td>\n",
       "      <td>1.781000e+03</td>\n",
       "      <td>1781.000000</td>\n",
       "      <td>1780.000000</td>\n",
       "      <td>1781.000000</td>\n",
       "    </tr>\n",
       "    <tr>\n",
       "      <th>unique</th>\n",
       "      <td>1781</td>\n",
       "      <td>NaN</td>\n",
       "      <td>NaN</td>\n",
       "      <td>9</td>\n",
       "      <td>239</td>\n",
       "      <td>NaN</td>\n",
       "      <td>49</td>\n",
       "      <td>182</td>\n",
       "      <td>891</td>\n",
       "      <td>594</td>\n",
       "      <td>...</td>\n",
       "      <td>NaN</td>\n",
       "      <td>NaN</td>\n",
       "      <td>NaN</td>\n",
       "      <td>NaN</td>\n",
       "      <td>NaN</td>\n",
       "      <td>NaN</td>\n",
       "      <td>NaN</td>\n",
       "      <td>NaN</td>\n",
       "      <td>NaN</td>\n",
       "      <td>NaN</td>\n",
       "    </tr>\n",
       "    <tr>\n",
       "      <th>top</th>\n",
       "      <td>B0_1164</td>\n",
       "      <td>NaN</td>\n",
       "      <td>NaN</td>\n",
       "      <td>UTF-8</td>\n",
       "      <td>Apache</td>\n",
       "      <td>NaN</td>\n",
       "      <td>US</td>\n",
       "      <td>CA</td>\n",
       "      <td>None</td>\n",
       "      <td>None</td>\n",
       "      <td>...</td>\n",
       "      <td>NaN</td>\n",
       "      <td>NaN</td>\n",
       "      <td>NaN</td>\n",
       "      <td>NaN</td>\n",
       "      <td>NaN</td>\n",
       "      <td>NaN</td>\n",
       "      <td>NaN</td>\n",
       "      <td>NaN</td>\n",
       "      <td>NaN</td>\n",
       "      <td>NaN</td>\n",
       "    </tr>\n",
       "    <tr>\n",
       "      <th>freq</th>\n",
       "      <td>1</td>\n",
       "      <td>NaN</td>\n",
       "      <td>NaN</td>\n",
       "      <td>676</td>\n",
       "      <td>386</td>\n",
       "      <td>NaN</td>\n",
       "      <td>1103</td>\n",
       "      <td>372</td>\n",
       "      <td>127</td>\n",
       "      <td>139</td>\n",
       "      <td>...</td>\n",
       "      <td>NaN</td>\n",
       "      <td>NaN</td>\n",
       "      <td>NaN</td>\n",
       "      <td>NaN</td>\n",
       "      <td>NaN</td>\n",
       "      <td>NaN</td>\n",
       "      <td>NaN</td>\n",
       "      <td>NaN</td>\n",
       "      <td>NaN</td>\n",
       "      <td>NaN</td>\n",
       "    </tr>\n",
       "    <tr>\n",
       "      <th>mean</th>\n",
       "      <td>NaN</td>\n",
       "      <td>56.961258</td>\n",
       "      <td>11.111735</td>\n",
       "      <td>NaN</td>\n",
       "      <td>NaN</td>\n",
       "      <td>11726.927761</td>\n",
       "      <td>NaN</td>\n",
       "      <td>NaN</td>\n",
       "      <td>NaN</td>\n",
       "      <td>NaN</td>\n",
       "      <td>...</td>\n",
       "      <td>5.472768</td>\n",
       "      <td>3.060640</td>\n",
       "      <td>2.982339e+03</td>\n",
       "      <td>18.540146</td>\n",
       "      <td>18.746210</td>\n",
       "      <td>1.589255e+04</td>\n",
       "      <td>3.155599e+03</td>\n",
       "      <td>18.540146</td>\n",
       "      <td>2.263483</td>\n",
       "      <td>0.121280</td>\n",
       "    </tr>\n",
       "    <tr>\n",
       "      <th>std</th>\n",
       "      <td>NaN</td>\n",
       "      <td>27.555586</td>\n",
       "      <td>4.549896</td>\n",
       "      <td>NaN</td>\n",
       "      <td>NaN</td>\n",
       "      <td>36391.809051</td>\n",
       "      <td>NaN</td>\n",
       "      <td>NaN</td>\n",
       "      <td>NaN</td>\n",
       "      <td>NaN</td>\n",
       "      <td>...</td>\n",
       "      <td>21.807327</td>\n",
       "      <td>3.386975</td>\n",
       "      <td>5.605057e+04</td>\n",
       "      <td>41.627173</td>\n",
       "      <td>46.397969</td>\n",
       "      <td>6.986193e+04</td>\n",
       "      <td>5.605378e+04</td>\n",
       "      <td>41.627173</td>\n",
       "      <td>2.930853</td>\n",
       "      <td>0.326544</td>\n",
       "    </tr>\n",
       "    <tr>\n",
       "      <th>min</th>\n",
       "      <td>NaN</td>\n",
       "      <td>16.000000</td>\n",
       "      <td>5.000000</td>\n",
       "      <td>NaN</td>\n",
       "      <td>NaN</td>\n",
       "      <td>0.000000</td>\n",
       "      <td>NaN</td>\n",
       "      <td>NaN</td>\n",
       "      <td>NaN</td>\n",
       "      <td>NaN</td>\n",
       "      <td>...</td>\n",
       "      <td>0.000000</td>\n",
       "      <td>0.000000</td>\n",
       "      <td>0.000000e+00</td>\n",
       "      <td>0.000000</td>\n",
       "      <td>0.000000</td>\n",
       "      <td>0.000000e+00</td>\n",
       "      <td>0.000000e+00</td>\n",
       "      <td>0.000000</td>\n",
       "      <td>0.000000</td>\n",
       "      <td>0.000000</td>\n",
       "    </tr>\n",
       "    <tr>\n",
       "      <th>25%</th>\n",
       "      <td>NaN</td>\n",
       "      <td>39.000000</td>\n",
       "      <td>8.000000</td>\n",
       "      <td>NaN</td>\n",
       "      <td>NaN</td>\n",
       "      <td>324.000000</td>\n",
       "      <td>NaN</td>\n",
       "      <td>NaN</td>\n",
       "      <td>NaN</td>\n",
       "      <td>NaN</td>\n",
       "      <td>...</td>\n",
       "      <td>0.000000</td>\n",
       "      <td>0.000000</td>\n",
       "      <td>0.000000e+00</td>\n",
       "      <td>0.000000</td>\n",
       "      <td>0.000000</td>\n",
       "      <td>0.000000e+00</td>\n",
       "      <td>0.000000e+00</td>\n",
       "      <td>0.000000</td>\n",
       "      <td>0.000000</td>\n",
       "      <td>0.000000</td>\n",
       "    </tr>\n",
       "    <tr>\n",
       "      <th>50%</th>\n",
       "      <td>NaN</td>\n",
       "      <td>49.000000</td>\n",
       "      <td>10.000000</td>\n",
       "      <td>NaN</td>\n",
       "      <td>NaN</td>\n",
       "      <td>1853.000000</td>\n",
       "      <td>NaN</td>\n",
       "      <td>NaN</td>\n",
       "      <td>NaN</td>\n",
       "      <td>NaN</td>\n",
       "      <td>...</td>\n",
       "      <td>0.000000</td>\n",
       "      <td>2.000000</td>\n",
       "      <td>6.720000e+02</td>\n",
       "      <td>8.000000</td>\n",
       "      <td>9.000000</td>\n",
       "      <td>5.790000e+02</td>\n",
       "      <td>7.350000e+02</td>\n",
       "      <td>8.000000</td>\n",
       "      <td>0.000000</td>\n",
       "      <td>0.000000</td>\n",
       "    </tr>\n",
       "    <tr>\n",
       "      <th>75%</th>\n",
       "      <td>NaN</td>\n",
       "      <td>68.000000</td>\n",
       "      <td>13.000000</td>\n",
       "      <td>NaN</td>\n",
       "      <td>NaN</td>\n",
       "      <td>11323.000000</td>\n",
       "      <td>NaN</td>\n",
       "      <td>NaN</td>\n",
       "      <td>NaN</td>\n",
       "      <td>NaN</td>\n",
       "      <td>...</td>\n",
       "      <td>5.000000</td>\n",
       "      <td>5.000000</td>\n",
       "      <td>2.328000e+03</td>\n",
       "      <td>26.000000</td>\n",
       "      <td>25.000000</td>\n",
       "      <td>9.806000e+03</td>\n",
       "      <td>2.701000e+03</td>\n",
       "      <td>26.000000</td>\n",
       "      <td>4.000000</td>\n",
       "      <td>0.000000</td>\n",
       "    </tr>\n",
       "    <tr>\n",
       "      <th>max</th>\n",
       "      <td>NaN</td>\n",
       "      <td>249.000000</td>\n",
       "      <td>43.000000</td>\n",
       "      <td>NaN</td>\n",
       "      <td>NaN</td>\n",
       "      <td>649263.000000</td>\n",
       "      <td>NaN</td>\n",
       "      <td>NaN</td>\n",
       "      <td>NaN</td>\n",
       "      <td>NaN</td>\n",
       "      <td>...</td>\n",
       "      <td>708.000000</td>\n",
       "      <td>17.000000</td>\n",
       "      <td>2.362906e+06</td>\n",
       "      <td>1198.000000</td>\n",
       "      <td>1284.000000</td>\n",
       "      <td>2.060012e+06</td>\n",
       "      <td>2.362906e+06</td>\n",
       "      <td>1198.000000</td>\n",
       "      <td>20.000000</td>\n",
       "      <td>1.000000</td>\n",
       "    </tr>\n",
       "  </tbody>\n",
       "</table>\n",
       "<p>11 rows × 21 columns</p>\n",
       "</div>"
      ],
      "text/plain": [
       "            URL   URL_LENGTH  NUMBER_SPECIAL_CHARACTERS CHARSET  SERVER  \\\n",
       "count      1781  1781.000000                1781.000000    1781    1780   \n",
       "unique     1781          NaN                        NaN       9     239   \n",
       "top     B0_1164          NaN                        NaN   UTF-8  Apache   \n",
       "freq          1          NaN                        NaN     676     386   \n",
       "mean        NaN    56.961258                  11.111735     NaN     NaN   \n",
       "std         NaN    27.555586                   4.549896     NaN     NaN   \n",
       "min         NaN    16.000000                   5.000000     NaN     NaN   \n",
       "25%         NaN    39.000000                   8.000000     NaN     NaN   \n",
       "50%         NaN    49.000000                  10.000000     NaN     NaN   \n",
       "75%         NaN    68.000000                  13.000000     NaN     NaN   \n",
       "max         NaN   249.000000                  43.000000     NaN     NaN   \n",
       "\n",
       "        CONTENT_LENGTH WHOIS_COUNTRY WHOIS_STATEPRO WHOIS_REGDATE  \\\n",
       "count       969.000000          1781           1781          1781   \n",
       "unique             NaN            49            182           891   \n",
       "top                NaN            US             CA          None   \n",
       "freq               NaN          1103            372           127   \n",
       "mean      11726.927761           NaN            NaN           NaN   \n",
       "std       36391.809051           NaN            NaN           NaN   \n",
       "min           0.000000           NaN            NaN           NaN   \n",
       "25%         324.000000           NaN            NaN           NaN   \n",
       "50%        1853.000000           NaN            NaN           NaN   \n",
       "75%       11323.000000           NaN            NaN           NaN   \n",
       "max      649263.000000           NaN            NaN           NaN   \n",
       "\n",
       "       WHOIS_UPDATED_DATE  ...  DIST_REMOTE_TCP_PORT   REMOTE_IPS  \\\n",
       "count                1781  ...           1781.000000  1781.000000   \n",
       "unique                594  ...                   NaN          NaN   \n",
       "top                  None  ...                   NaN          NaN   \n",
       "freq                  139  ...                   NaN          NaN   \n",
       "mean                  NaN  ...              5.472768     3.060640   \n",
       "std                   NaN  ...             21.807327     3.386975   \n",
       "min                   NaN  ...              0.000000     0.000000   \n",
       "25%                   NaN  ...              0.000000     0.000000   \n",
       "50%                   NaN  ...              0.000000     2.000000   \n",
       "75%                   NaN  ...              5.000000     5.000000   \n",
       "max                   NaN  ...            708.000000    17.000000   \n",
       "\n",
       "           APP_BYTES  SOURCE_APP_PACKETS  REMOTE_APP_PACKETS  \\\n",
       "count   1.781000e+03         1781.000000         1781.000000   \n",
       "unique           NaN                 NaN                 NaN   \n",
       "top              NaN                 NaN                 NaN   \n",
       "freq             NaN                 NaN                 NaN   \n",
       "mean    2.982339e+03           18.540146           18.746210   \n",
       "std     5.605057e+04           41.627173           46.397969   \n",
       "min     0.000000e+00            0.000000            0.000000   \n",
       "25%     0.000000e+00            0.000000            0.000000   \n",
       "50%     6.720000e+02            8.000000            9.000000   \n",
       "75%     2.328000e+03           26.000000           25.000000   \n",
       "max     2.362906e+06         1198.000000         1284.000000   \n",
       "\n",
       "        SOURCE_APP_BYTES  REMOTE_APP_BYTES  APP_PACKETS  DNS_QUERY_TIMES  \\\n",
       "count       1.781000e+03      1.781000e+03  1781.000000      1780.000000   \n",
       "unique               NaN               NaN          NaN              NaN   \n",
       "top                  NaN               NaN          NaN              NaN   \n",
       "freq                 NaN               NaN          NaN              NaN   \n",
       "mean        1.589255e+04      3.155599e+03    18.540146         2.263483   \n",
       "std         6.986193e+04      5.605378e+04    41.627173         2.930853   \n",
       "min         0.000000e+00      0.000000e+00     0.000000         0.000000   \n",
       "25%         0.000000e+00      0.000000e+00     0.000000         0.000000   \n",
       "50%         5.790000e+02      7.350000e+02     8.000000         0.000000   \n",
       "75%         9.806000e+03      2.701000e+03    26.000000         4.000000   \n",
       "max         2.060012e+06      2.362906e+06  1198.000000        20.000000   \n",
       "\n",
       "               Type  \n",
       "count   1781.000000  \n",
       "unique          NaN  \n",
       "top             NaN  \n",
       "freq            NaN  \n",
       "mean       0.121280  \n",
       "std        0.326544  \n",
       "min        0.000000  \n",
       "25%        0.000000  \n",
       "50%        0.000000  \n",
       "75%        0.000000  \n",
       "max        1.000000  \n",
       "\n",
       "[11 rows x 21 columns]"
      ]
     },
     "execution_count": 2,
     "metadata": {},
     "output_type": "execute_result"
    }
   ],
   "source": [
    "dataset = pd.read_csv('../input/malicious-and-benign-websites/dataset.csv')\n",
    "dataset.describe(include='all')"
   ]
  },
  {
   "cell_type": "markdown",
   "metadata": {},
   "source": [
    "## Data Analysis and Preparation\n",
    "\n",
    "Let's begin by having a look at the data - cleaning it up where appropriate. "
   ]
  },
  {
   "cell_type": "code",
   "execution_count": 3,
   "metadata": {},
   "outputs": [
    {
     "data": {
      "text/html": [
       "<div>\n",
       "<style scoped>\n",
       "    .dataframe tbody tr th:only-of-type {\n",
       "        vertical-align: middle;\n",
       "    }\n",
       "\n",
       "    .dataframe tbody tr th {\n",
       "        vertical-align: top;\n",
       "    }\n",
       "\n",
       "    .dataframe thead th {\n",
       "        text-align: right;\n",
       "    }\n",
       "</style>\n",
       "<table border=\"1\" class=\"dataframe\">\n",
       "  <thead>\n",
       "    <tr style=\"text-align: right;\">\n",
       "      <th></th>\n",
       "      <th>URL</th>\n",
       "      <th>URL_LENGTH</th>\n",
       "      <th>NUMBER_SPECIAL_CHARACTERS</th>\n",
       "      <th>CHARSET</th>\n",
       "      <th>SERVER</th>\n",
       "      <th>CONTENT_LENGTH</th>\n",
       "      <th>WHOIS_COUNTRY</th>\n",
       "      <th>WHOIS_STATEPRO</th>\n",
       "      <th>WHOIS_REGDATE</th>\n",
       "      <th>WHOIS_UPDATED_DATE</th>\n",
       "      <th>...</th>\n",
       "      <th>DIST_REMOTE_TCP_PORT</th>\n",
       "      <th>REMOTE_IPS</th>\n",
       "      <th>APP_BYTES</th>\n",
       "      <th>SOURCE_APP_PACKETS</th>\n",
       "      <th>REMOTE_APP_PACKETS</th>\n",
       "      <th>SOURCE_APP_BYTES</th>\n",
       "      <th>REMOTE_APP_BYTES</th>\n",
       "      <th>APP_PACKETS</th>\n",
       "      <th>DNS_QUERY_TIMES</th>\n",
       "      <th>Type</th>\n",
       "    </tr>\n",
       "  </thead>\n",
       "  <tbody>\n",
       "    <tr>\n",
       "      <th>0</th>\n",
       "      <td>M0_109</td>\n",
       "      <td>16</td>\n",
       "      <td>7</td>\n",
       "      <td>iso-8859-1</td>\n",
       "      <td>nginx</td>\n",
       "      <td>263.0</td>\n",
       "      <td>None</td>\n",
       "      <td>None</td>\n",
       "      <td>10/10/2015 18:21</td>\n",
       "      <td>None</td>\n",
       "      <td>...</td>\n",
       "      <td>0</td>\n",
       "      <td>2</td>\n",
       "      <td>700</td>\n",
       "      <td>9</td>\n",
       "      <td>10</td>\n",
       "      <td>1153</td>\n",
       "      <td>832</td>\n",
       "      <td>9</td>\n",
       "      <td>2.0</td>\n",
       "      <td>1</td>\n",
       "    </tr>\n",
       "    <tr>\n",
       "      <th>1</th>\n",
       "      <td>B0_2314</td>\n",
       "      <td>16</td>\n",
       "      <td>6</td>\n",
       "      <td>UTF-8</td>\n",
       "      <td>Apache/2.4.10</td>\n",
       "      <td>15087.0</td>\n",
       "      <td>None</td>\n",
       "      <td>None</td>\n",
       "      <td>None</td>\n",
       "      <td>None</td>\n",
       "      <td>...</td>\n",
       "      <td>7</td>\n",
       "      <td>4</td>\n",
       "      <td>1230</td>\n",
       "      <td>17</td>\n",
       "      <td>19</td>\n",
       "      <td>1265</td>\n",
       "      <td>1230</td>\n",
       "      <td>17</td>\n",
       "      <td>0.0</td>\n",
       "      <td>0</td>\n",
       "    </tr>\n",
       "    <tr>\n",
       "      <th>2</th>\n",
       "      <td>B0_911</td>\n",
       "      <td>16</td>\n",
       "      <td>6</td>\n",
       "      <td>us-ascii</td>\n",
       "      <td>Microsoft-HTTPAPI/2.0</td>\n",
       "      <td>324.0</td>\n",
       "      <td>None</td>\n",
       "      <td>None</td>\n",
       "      <td>None</td>\n",
       "      <td>None</td>\n",
       "      <td>...</td>\n",
       "      <td>0</td>\n",
       "      <td>0</td>\n",
       "      <td>0</td>\n",
       "      <td>0</td>\n",
       "      <td>0</td>\n",
       "      <td>0</td>\n",
       "      <td>0</td>\n",
       "      <td>0</td>\n",
       "      <td>0.0</td>\n",
       "      <td>0</td>\n",
       "    </tr>\n",
       "    <tr>\n",
       "      <th>3</th>\n",
       "      <td>B0_113</td>\n",
       "      <td>17</td>\n",
       "      <td>6</td>\n",
       "      <td>ISO-8859-1</td>\n",
       "      <td>nginx</td>\n",
       "      <td>162.0</td>\n",
       "      <td>US</td>\n",
       "      <td>AK</td>\n",
       "      <td>7/10/1997 4:00</td>\n",
       "      <td>12/09/2013 0:45</td>\n",
       "      <td>...</td>\n",
       "      <td>22</td>\n",
       "      <td>3</td>\n",
       "      <td>3812</td>\n",
       "      <td>39</td>\n",
       "      <td>37</td>\n",
       "      <td>18784</td>\n",
       "      <td>4380</td>\n",
       "      <td>39</td>\n",
       "      <td>8.0</td>\n",
       "      <td>0</td>\n",
       "    </tr>\n",
       "    <tr>\n",
       "      <th>4</th>\n",
       "      <td>B0_403</td>\n",
       "      <td>17</td>\n",
       "      <td>6</td>\n",
       "      <td>UTF-8</td>\n",
       "      <td>None</td>\n",
       "      <td>124140.0</td>\n",
       "      <td>US</td>\n",
       "      <td>TX</td>\n",
       "      <td>12/05/1996 0:00</td>\n",
       "      <td>11/04/2017 0:00</td>\n",
       "      <td>...</td>\n",
       "      <td>2</td>\n",
       "      <td>5</td>\n",
       "      <td>4278</td>\n",
       "      <td>61</td>\n",
       "      <td>62</td>\n",
       "      <td>129889</td>\n",
       "      <td>4586</td>\n",
       "      <td>61</td>\n",
       "      <td>4.0</td>\n",
       "      <td>0</td>\n",
       "    </tr>\n",
       "  </tbody>\n",
       "</table>\n",
       "<p>5 rows × 21 columns</p>\n",
       "</div>"
      ],
      "text/plain": [
       "       URL  URL_LENGTH  NUMBER_SPECIAL_CHARACTERS     CHARSET  \\\n",
       "0   M0_109          16                          7  iso-8859-1   \n",
       "1  B0_2314          16                          6       UTF-8   \n",
       "2   B0_911          16                          6    us-ascii   \n",
       "3   B0_113          17                          6  ISO-8859-1   \n",
       "4   B0_403          17                          6       UTF-8   \n",
       "\n",
       "                  SERVER  CONTENT_LENGTH WHOIS_COUNTRY WHOIS_STATEPRO  \\\n",
       "0                  nginx           263.0          None           None   \n",
       "1          Apache/2.4.10         15087.0          None           None   \n",
       "2  Microsoft-HTTPAPI/2.0           324.0          None           None   \n",
       "3                  nginx           162.0            US             AK   \n",
       "4                   None        124140.0            US             TX   \n",
       "\n",
       "      WHOIS_REGDATE WHOIS_UPDATED_DATE  ...  DIST_REMOTE_TCP_PORT  REMOTE_IPS  \\\n",
       "0  10/10/2015 18:21               None  ...                     0           2   \n",
       "1              None               None  ...                     7           4   \n",
       "2              None               None  ...                     0           0   \n",
       "3    7/10/1997 4:00    12/09/2013 0:45  ...                    22           3   \n",
       "4   12/05/1996 0:00    11/04/2017 0:00  ...                     2           5   \n",
       "\n",
       "   APP_BYTES  SOURCE_APP_PACKETS  REMOTE_APP_PACKETS  SOURCE_APP_BYTES  \\\n",
       "0        700                   9                  10              1153   \n",
       "1       1230                  17                  19              1265   \n",
       "2          0                   0                   0                 0   \n",
       "3       3812                  39                  37             18784   \n",
       "4       4278                  61                  62            129889   \n",
       "\n",
       "   REMOTE_APP_BYTES  APP_PACKETS  DNS_QUERY_TIMES  Type  \n",
       "0               832            9              2.0     1  \n",
       "1              1230           17              0.0     0  \n",
       "2                 0            0              0.0     0  \n",
       "3              4380           39              8.0     0  \n",
       "4              4586           61              4.0     0  \n",
       "\n",
       "[5 rows x 21 columns]"
      ]
     },
     "execution_count": 3,
     "metadata": {},
     "output_type": "execute_result"
    }
   ],
   "source": [
    "dataset.head()"
   ]
  },
  {
   "cell_type": "markdown",
   "metadata": {},
   "source": [
    "The URL column is a unique identifier so we may as well remove that. "
   ]
  },
  {
   "cell_type": "code",
   "execution_count": 4,
   "metadata": {},
   "outputs": [],
   "source": [
    "dataset.drop('URL', axis =1, inplace=True)"
   ]
  },
  {
   "cell_type": "code",
   "execution_count": 5,
   "metadata": {},
   "outputs": [
    {
     "name": "stdout",
     "output_type": "stream",
     "text": [
      "URL_LENGTH                     0\n",
      "NUMBER_SPECIAL_CHARACTERS      0\n",
      "CHARSET                        0\n",
      "SERVER                         1\n",
      "CONTENT_LENGTH               812\n",
      "WHOIS_COUNTRY                  0\n",
      "WHOIS_STATEPRO                 0\n",
      "WHOIS_REGDATE                  0\n",
      "WHOIS_UPDATED_DATE             0\n",
      "TCP_CONVERSATION_EXCHANGE      0\n",
      "DIST_REMOTE_TCP_PORT           0\n",
      "REMOTE_IPS                     0\n",
      "APP_BYTES                      0\n",
      "SOURCE_APP_PACKETS             0\n",
      "REMOTE_APP_PACKETS             0\n",
      "SOURCE_APP_BYTES               0\n",
      "REMOTE_APP_BYTES               0\n",
      "APP_PACKETS                    0\n",
      "DNS_QUERY_TIMES                1\n",
      "Type                           0\n",
      "dtype: int64\n"
     ]
    }
   ],
   "source": [
    "# Look for null values \n",
    "print(dataset.isnull().sum())"
   ]
  },
  {
   "cell_type": "markdown",
   "metadata": {},
   "source": [
    "There are null values each for the DNS_QUERY_TIMES and SERVER columns, so we could easily drop these records / place a dummy value instead without affecting the data too much. The CONTENT_LENGTH column is a bit more concerning, we can't afford to drop that many records (almost half the dataset) and interpolating might distort the data somewhat. Given that there are plenty of other features, I'm choosing to drop the column."
   ]
  },
  {
   "cell_type": "code",
   "execution_count": 6,
   "metadata": {},
   "outputs": [
    {
     "name": "stdout",
     "output_type": "stream",
     "text": [
      "URL_LENGTH                   0\n",
      "NUMBER_SPECIAL_CHARACTERS    0\n",
      "CHARSET                      0\n",
      "SERVER                       0\n",
      "WHOIS_COUNTRY                0\n",
      "WHOIS_STATEPRO               0\n",
      "WHOIS_REGDATE                0\n",
      "WHOIS_UPDATED_DATE           0\n",
      "TCP_CONVERSATION_EXCHANGE    0\n",
      "DIST_REMOTE_TCP_PORT         0\n",
      "REMOTE_IPS                   0\n",
      "APP_BYTES                    0\n",
      "SOURCE_APP_PACKETS           0\n",
      "REMOTE_APP_PACKETS           0\n",
      "SOURCE_APP_BYTES             0\n",
      "REMOTE_APP_BYTES             0\n",
      "APP_PACKETS                  0\n",
      "DNS_QUERY_TIMES              0\n",
      "Type                         0\n",
      "dtype: int64\n"
     ]
    }
   ],
   "source": [
    "dataset.drop('CONTENT_LENGTH', axis =1, inplace=True)\n",
    "dataset.dropna(inplace=True)\n",
    "print(dataset.isnull().sum())"
   ]
  },
  {
   "cell_type": "markdown",
   "metadata": {},
   "source": [
    "Looking at the data there are several categorical features (WHOIS_COUNTRY, SERVER etc.). For simplicity we'll ignore these features in our network."
   ]
  },
  {
   "cell_type": "code",
   "execution_count": 7,
   "metadata": {},
   "outputs": [],
   "source": [
    "dataset.drop(['CHARSET', 'SERVER', 'WHOIS_COUNTRY', 'WHOIS_STATEPRO', 'WHOIS_REGDATE', 'WHOIS_UPDATED_DATE', ], axis =1, inplace=True)"
   ]
  },
  {
   "cell_type": "markdown",
   "metadata": {},
   "source": [
    "Let's have a look at the correlations of the remaining features."
   ]
  },
  {
   "cell_type": "code",
   "execution_count": 8,
   "metadata": {},
   "outputs": [
    {
     "data": {
      "text/html": [
       "<style  type=\"text/css\" >\n",
       "    #T_403db524_c84f_11e9_b08c_99fd4ce8f5a6row0_col0 {\n",
       "            background-color:  #b40426;\n",
       "            color:  #f1f1f1;\n",
       "        }    #T_403db524_c84f_11e9_b08c_99fd4ce8f5a6row0_col1 {\n",
       "            background-color:  #cf453c;\n",
       "            color:  #f1f1f1;\n",
       "        }    #T_403db524_c84f_11e9_b08c_99fd4ce8f5a6row0_col2 {\n",
       "            background-color:  #3b4cc0;\n",
       "            color:  #f1f1f1;\n",
       "        }    #T_403db524_c84f_11e9_b08c_99fd4ce8f5a6row0_col3 {\n",
       "            background-color:  #465ecf;\n",
       "            color:  #f1f1f1;\n",
       "        }    #T_403db524_c84f_11e9_b08c_99fd4ce8f5a6row0_col4 {\n",
       "            background-color:  #4358cb;\n",
       "            color:  #f1f1f1;\n",
       "        }    #T_403db524_c84f_11e9_b08c_99fd4ce8f5a6row0_col5 {\n",
       "            background-color:  #3b4cc0;\n",
       "            color:  #f1f1f1;\n",
       "        }    #T_403db524_c84f_11e9_b08c_99fd4ce8f5a6row0_col6 {\n",
       "            background-color:  #3b4cc0;\n",
       "            color:  #f1f1f1;\n",
       "        }    #T_403db524_c84f_11e9_b08c_99fd4ce8f5a6row0_col7 {\n",
       "            background-color:  #3b4cc0;\n",
       "            color:  #f1f1f1;\n",
       "        }    #T_403db524_c84f_11e9_b08c_99fd4ce8f5a6row0_col8 {\n",
       "            background-color:  #4358cb;\n",
       "            color:  #f1f1f1;\n",
       "        }    #T_403db524_c84f_11e9_b08c_99fd4ce8f5a6row0_col9 {\n",
       "            background-color:  #3b4cc0;\n",
       "            color:  #f1f1f1;\n",
       "        }    #T_403db524_c84f_11e9_b08c_99fd4ce8f5a6row0_col10 {\n",
       "            background-color:  #3b4cc0;\n",
       "            color:  #f1f1f1;\n",
       "        }    #T_403db524_c84f_11e9_b08c_99fd4ce8f5a6row0_col11 {\n",
       "            background-color:  #3b4cc0;\n",
       "            color:  #f1f1f1;\n",
       "        }    #T_403db524_c84f_11e9_b08c_99fd4ce8f5a6row0_col12 {\n",
       "            background-color:  #85a8fc;\n",
       "            color:  #000000;\n",
       "        }    #T_403db524_c84f_11e9_b08c_99fd4ce8f5a6row1_col0 {\n",
       "            background-color:  #cf453c;\n",
       "            color:  #f1f1f1;\n",
       "        }    #T_403db524_c84f_11e9_b08c_99fd4ce8f5a6row1_col1 {\n",
       "            background-color:  #b40426;\n",
       "            color:  #f1f1f1;\n",
       "        }    #T_403db524_c84f_11e9_b08c_99fd4ce8f5a6row1_col2 {\n",
       "            background-color:  #3b4cc0;\n",
       "            color:  #f1f1f1;\n",
       "        }    #T_403db524_c84f_11e9_b08c_99fd4ce8f5a6row1_col3 {\n",
       "            background-color:  #455cce;\n",
       "            color:  #f1f1f1;\n",
       "        }    #T_403db524_c84f_11e9_b08c_99fd4ce8f5a6row1_col4 {\n",
       "            background-color:  #4358cb;\n",
       "            color:  #f1f1f1;\n",
       "        }    #T_403db524_c84f_11e9_b08c_99fd4ce8f5a6row1_col5 {\n",
       "            background-color:  #3b4cc0;\n",
       "            color:  #f1f1f1;\n",
       "        }    #T_403db524_c84f_11e9_b08c_99fd4ce8f5a6row1_col6 {\n",
       "            background-color:  #3b4cc0;\n",
       "            color:  #f1f1f1;\n",
       "        }    #T_403db524_c84f_11e9_b08c_99fd4ce8f5a6row1_col7 {\n",
       "            background-color:  #3b4cc0;\n",
       "            color:  #f1f1f1;\n",
       "        }    #T_403db524_c84f_11e9_b08c_99fd4ce8f5a6row1_col8 {\n",
       "            background-color:  #4358cb;\n",
       "            color:  #f1f1f1;\n",
       "        }    #T_403db524_c84f_11e9_b08c_99fd4ce8f5a6row1_col9 {\n",
       "            background-color:  #3b4cc0;\n",
       "            color:  #f1f1f1;\n",
       "        }    #T_403db524_c84f_11e9_b08c_99fd4ce8f5a6row1_col10 {\n",
       "            background-color:  #3b4cc0;\n",
       "            color:  #f1f1f1;\n",
       "        }    #T_403db524_c84f_11e9_b08c_99fd4ce8f5a6row1_col11 {\n",
       "            background-color:  #3f53c6;\n",
       "            color:  #f1f1f1;\n",
       "        }    #T_403db524_c84f_11e9_b08c_99fd4ce8f5a6row1_col12 {\n",
       "            background-color:  #abc8fd;\n",
       "            color:  #000000;\n",
       "        }    #T_403db524_c84f_11e9_b08c_99fd4ce8f5a6row2_col0 {\n",
       "            background-color:  #4358cb;\n",
       "            color:  #f1f1f1;\n",
       "        }    #T_403db524_c84f_11e9_b08c_99fd4ce8f5a6row2_col1 {\n",
       "            background-color:  #3e51c5;\n",
       "            color:  #f1f1f1;\n",
       "        }    #T_403db524_c84f_11e9_b08c_99fd4ce8f5a6row2_col2 {\n",
       "            background-color:  #b40426;\n",
       "            color:  #f1f1f1;\n",
       "        }    #T_403db524_c84f_11e9_b08c_99fd4ce8f5a6row2_col3 {\n",
       "            background-color:  #f0cdbb;\n",
       "            color:  #000000;\n",
       "        }    #T_403db524_c84f_11e9_b08c_99fd4ce8f5a6row2_col4 {\n",
       "            background-color:  #bad0f8;\n",
       "            color:  #000000;\n",
       "        }    #T_403db524_c84f_11e9_b08c_99fd4ce8f5a6row2_col5 {\n",
       "            background-color:  #d5dbe5;\n",
       "            color:  #000000;\n",
       "        }    #T_403db524_c84f_11e9_b08c_99fd4ce8f5a6row2_col6 {\n",
       "            background-color:  #b40426;\n",
       "            color:  #f1f1f1;\n",
       "        }    #T_403db524_c84f_11e9_b08c_99fd4ce8f5a6row2_col7 {\n",
       "            background-color:  #b70d28;\n",
       "            color:  #f1f1f1;\n",
       "        }    #T_403db524_c84f_11e9_b08c_99fd4ce8f5a6row2_col8 {\n",
       "            background-color:  #de614d;\n",
       "            color:  #000000;\n",
       "        }    #T_403db524_c84f_11e9_b08c_99fd4ce8f5a6row2_col9 {\n",
       "            background-color:  #d6dce4;\n",
       "            color:  #000000;\n",
       "        }    #T_403db524_c84f_11e9_b08c_99fd4ce8f5a6row2_col10 {\n",
       "            background-color:  #b40426;\n",
       "            color:  #f1f1f1;\n",
       "        }    #T_403db524_c84f_11e9_b08c_99fd4ce8f5a6row2_col11 {\n",
       "            background-color:  #bed2f6;\n",
       "            color:  #000000;\n",
       "        }    #T_403db524_c84f_11e9_b08c_99fd4ce8f5a6row2_col12 {\n",
       "            background-color:  #465ecf;\n",
       "            color:  #f1f1f1;\n",
       "        }    #T_403db524_c84f_11e9_b08c_99fd4ce8f5a6row3_col0 {\n",
       "            background-color:  #4257c9;\n",
       "            color:  #f1f1f1;\n",
       "        }    #T_403db524_c84f_11e9_b08c_99fd4ce8f5a6row3_col1 {\n",
       "            background-color:  #3c4ec2;\n",
       "            color:  #f1f1f1;\n",
       "        }    #T_403db524_c84f_11e9_b08c_99fd4ce8f5a6row3_col2 {\n",
       "            background-color:  #edd1c2;\n",
       "            color:  #000000;\n",
       "        }    #T_403db524_c84f_11e9_b08c_99fd4ce8f5a6row3_col3 {\n",
       "            background-color:  #b40426;\n",
       "            color:  #f1f1f1;\n",
       "        }    #T_403db524_c84f_11e9_b08c_99fd4ce8f5a6row3_col4 {\n",
       "            background-color:  #93b5fe;\n",
       "            color:  #000000;\n",
       "        }    #T_403db524_c84f_11e9_b08c_99fd4ce8f5a6row3_col5 {\n",
       "            background-color:  #f08a6c;\n",
       "            color:  #000000;\n",
       "        }    #T_403db524_c84f_11e9_b08c_99fd4ce8f5a6row3_col6 {\n",
       "            background-color:  #eed0c0;\n",
       "            color:  #000000;\n",
       "        }    #T_403db524_c84f_11e9_b08c_99fd4ce8f5a6row3_col7 {\n",
       "            background-color:  #f2cab5;\n",
       "            color:  #000000;\n",
       "        }    #T_403db524_c84f_11e9_b08c_99fd4ce8f5a6row3_col8 {\n",
       "            background-color:  #adc9fd;\n",
       "            color:  #000000;\n",
       "        }    #T_403db524_c84f_11e9_b08c_99fd4ce8f5a6row3_col9 {\n",
       "            background-color:  #f08a6c;\n",
       "            color:  #000000;\n",
       "        }    #T_403db524_c84f_11e9_b08c_99fd4ce8f5a6row3_col10 {\n",
       "            background-color:  #eed0c0;\n",
       "            color:  #000000;\n",
       "        }    #T_403db524_c84f_11e9_b08c_99fd4ce8f5a6row3_col11 {\n",
       "            background-color:  #a1c0ff;\n",
       "            color:  #000000;\n",
       "        }    #T_403db524_c84f_11e9_b08c_99fd4ce8f5a6row3_col12 {\n",
       "            background-color:  #3b4cc0;\n",
       "            color:  #f1f1f1;\n",
       "        }    #T_403db524_c84f_11e9_b08c_99fd4ce8f5a6row4_col0 {\n",
       "            background-color:  #4055c8;\n",
       "            color:  #f1f1f1;\n",
       "        }    #T_403db524_c84f_11e9_b08c_99fd4ce8f5a6row4_col1 {\n",
       "            background-color:  #3b4cc0;\n",
       "            color:  #f1f1f1;\n",
       "        }    #T_403db524_c84f_11e9_b08c_99fd4ce8f5a6row4_col2 {\n",
       "            background-color:  #b2ccfb;\n",
       "            color:  #000000;\n",
       "        }    #T_403db524_c84f_11e9_b08c_99fd4ce8f5a6row4_col3 {\n",
       "            background-color:  #94b6ff;\n",
       "            color:  #000000;\n",
       "        }    #T_403db524_c84f_11e9_b08c_99fd4ce8f5a6row4_col4 {\n",
       "            background-color:  #b40426;\n",
       "            color:  #f1f1f1;\n",
       "        }    #T_403db524_c84f_11e9_b08c_99fd4ce8f5a6row4_col5 {\n",
       "            background-color:  #4961d2;\n",
       "            color:  #f1f1f1;\n",
       "        }    #T_403db524_c84f_11e9_b08c_99fd4ce8f5a6row4_col6 {\n",
       "            background-color:  #bcd2f7;\n",
       "            color:  #000000;\n",
       "        }    #T_403db524_c84f_11e9_b08c_99fd4ce8f5a6row4_col7 {\n",
       "            background-color:  #a7c5fe;\n",
       "            color:  #000000;\n",
       "        }    #T_403db524_c84f_11e9_b08c_99fd4ce8f5a6row4_col8 {\n",
       "            background-color:  #7da0f9;\n",
       "            color:  #000000;\n",
       "        }    #T_403db524_c84f_11e9_b08c_99fd4ce8f5a6row4_col9 {\n",
       "            background-color:  #4961d2;\n",
       "            color:  #f1f1f1;\n",
       "        }    #T_403db524_c84f_11e9_b08c_99fd4ce8f5a6row4_col10 {\n",
       "            background-color:  #bcd2f7;\n",
       "            color:  #000000;\n",
       "        }    #T_403db524_c84f_11e9_b08c_99fd4ce8f5a6row4_col11 {\n",
       "            background-color:  #eed0c0;\n",
       "            color:  #000000;\n",
       "        }    #T_403db524_c84f_11e9_b08c_99fd4ce8f5a6row4_col12 {\n",
       "            background-color:  #3b4cc0;\n",
       "            color:  #f1f1f1;\n",
       "        }    #T_403db524_c84f_11e9_b08c_99fd4ce8f5a6row5_col0 {\n",
       "            background-color:  #465ecf;\n",
       "            color:  #f1f1f1;\n",
       "        }    #T_403db524_c84f_11e9_b08c_99fd4ce8f5a6row5_col1 {\n",
       "            background-color:  #4257c9;\n",
       "            color:  #f1f1f1;\n",
       "        }    #T_403db524_c84f_11e9_b08c_99fd4ce8f5a6row5_col2 {\n",
       "            background-color:  #d7dce3;\n",
       "            color:  #000000;\n",
       "        }    #T_403db524_c84f_11e9_b08c_99fd4ce8f5a6row5_col3 {\n",
       "            background-color:  #ee8468;\n",
       "            color:  #000000;\n",
       "        }    #T_403db524_c84f_11e9_b08c_99fd4ce8f5a6row5_col4 {\n",
       "            background-color:  #5875e1;\n",
       "            color:  #000000;\n",
       "        }    #T_403db524_c84f_11e9_b08c_99fd4ce8f5a6row5_col5 {\n",
       "            background-color:  #b40426;\n",
       "            color:  #f1f1f1;\n",
       "        }    #T_403db524_c84f_11e9_b08c_99fd4ce8f5a6row5_col6 {\n",
       "            background-color:  #d4dbe6;\n",
       "            color:  #000000;\n",
       "        }    #T_403db524_c84f_11e9_b08c_99fd4ce8f5a6row5_col7 {\n",
       "            background-color:  #d9dce1;\n",
       "            color:  #000000;\n",
       "        }    #T_403db524_c84f_11e9_b08c_99fd4ce8f5a6row5_col8 {\n",
       "            background-color:  #5e7de7;\n",
       "            color:  #000000;\n",
       "        }    #T_403db524_c84f_11e9_b08c_99fd4ce8f5a6row5_col9 {\n",
       "            background-color:  #b40426;\n",
       "            color:  #f1f1f1;\n",
       "        }    #T_403db524_c84f_11e9_b08c_99fd4ce8f5a6row5_col10 {\n",
       "            background-color:  #d4dbe6;\n",
       "            color:  #000000;\n",
       "        }    #T_403db524_c84f_11e9_b08c_99fd4ce8f5a6row5_col11 {\n",
       "            background-color:  #516ddb;\n",
       "            color:  #000000;\n",
       "        }    #T_403db524_c84f_11e9_b08c_99fd4ce8f5a6row5_col12 {\n",
       "            background-color:  #4e68d8;\n",
       "            color:  #000000;\n",
       "        }    #T_403db524_c84f_11e9_b08c_99fd4ce8f5a6row6_col0 {\n",
       "            background-color:  #4257c9;\n",
       "            color:  #f1f1f1;\n",
       "        }    #T_403db524_c84f_11e9_b08c_99fd4ce8f5a6row6_col1 {\n",
       "            background-color:  #3d50c3;\n",
       "            color:  #f1f1f1;\n",
       "        }    #T_403db524_c84f_11e9_b08c_99fd4ce8f5a6row6_col2 {\n",
       "            background-color:  #b40426;\n",
       "            color:  #f1f1f1;\n",
       "        }    #T_403db524_c84f_11e9_b08c_99fd4ce8f5a6row6_col3 {\n",
       "            background-color:  #f1cdba;\n",
       "            color:  #000000;\n",
       "        }    #T_403db524_c84f_11e9_b08c_99fd4ce8f5a6row6_col4 {\n",
       "            background-color:  #c3d5f4;\n",
       "            color:  #000000;\n",
       "        }    #T_403db524_c84f_11e9_b08c_99fd4ce8f5a6row6_col5 {\n",
       "            background-color:  #d2dbe8;\n",
       "            color:  #000000;\n",
       "        }    #T_403db524_c84f_11e9_b08c_99fd4ce8f5a6row6_col6 {\n",
       "            background-color:  #b40426;\n",
       "            color:  #f1f1f1;\n",
       "        }    #T_403db524_c84f_11e9_b08c_99fd4ce8f5a6row6_col7 {\n",
       "            background-color:  #b70d28;\n",
       "            color:  #f1f1f1;\n",
       "        }    #T_403db524_c84f_11e9_b08c_99fd4ce8f5a6row6_col8 {\n",
       "            background-color:  #e0654f;\n",
       "            color:  #000000;\n",
       "        }    #T_403db524_c84f_11e9_b08c_99fd4ce8f5a6row6_col9 {\n",
       "            background-color:  #d3dbe7;\n",
       "            color:  #000000;\n",
       "        }    #T_403db524_c84f_11e9_b08c_99fd4ce8f5a6row6_col10 {\n",
       "            background-color:  #b40426;\n",
       "            color:  #f1f1f1;\n",
       "        }    #T_403db524_c84f_11e9_b08c_99fd4ce8f5a6row6_col11 {\n",
       "            background-color:  #cedaeb;\n",
       "            color:  #000000;\n",
       "        }    #T_403db524_c84f_11e9_b08c_99fd4ce8f5a6row6_col12 {\n",
       "            background-color:  #485fd1;\n",
       "            color:  #f1f1f1;\n",
       "        }    #T_403db524_c84f_11e9_b08c_99fd4ce8f5a6row7_col0 {\n",
       "            background-color:  #445acc;\n",
       "            color:  #f1f1f1;\n",
       "        }    #T_403db524_c84f_11e9_b08c_99fd4ce8f5a6row7_col1 {\n",
       "            background-color:  #3f53c6;\n",
       "            color:  #f1f1f1;\n",
       "        }    #T_403db524_c84f_11e9_b08c_99fd4ce8f5a6row7_col2 {\n",
       "            background-color:  #b70d28;\n",
       "            color:  #f1f1f1;\n",
       "        }    #T_403db524_c84f_11e9_b08c_99fd4ce8f5a6row7_col3 {\n",
       "            background-color:  #f4c5ad;\n",
       "            color:  #000000;\n",
       "        }    #T_403db524_c84f_11e9_b08c_99fd4ce8f5a6row7_col4 {\n",
       "            background-color:  #b2ccfb;\n",
       "            color:  #000000;\n",
       "        }    #T_403db524_c84f_11e9_b08c_99fd4ce8f5a6row7_col5 {\n",
       "            background-color:  #d8dce2;\n",
       "            color:  #000000;\n",
       "        }    #T_403db524_c84f_11e9_b08c_99fd4ce8f5a6row7_col6 {\n",
       "            background-color:  #b70d28;\n",
       "            color:  #f1f1f1;\n",
       "        }    #T_403db524_c84f_11e9_b08c_99fd4ce8f5a6row7_col7 {\n",
       "            background-color:  #b40426;\n",
       "            color:  #f1f1f1;\n",
       "        }    #T_403db524_c84f_11e9_b08c_99fd4ce8f5a6row7_col8 {\n",
       "            background-color:  #da5a49;\n",
       "            color:  #000000;\n",
       "        }    #T_403db524_c84f_11e9_b08c_99fd4ce8f5a6row7_col9 {\n",
       "            background-color:  #d8dce2;\n",
       "            color:  #000000;\n",
       "        }    #T_403db524_c84f_11e9_b08c_99fd4ce8f5a6row7_col10 {\n",
       "            background-color:  #b70d28;\n",
       "            color:  #f1f1f1;\n",
       "        }    #T_403db524_c84f_11e9_b08c_99fd4ce8f5a6row7_col11 {\n",
       "            background-color:  #bfd3f6;\n",
       "            color:  #000000;\n",
       "        }    #T_403db524_c84f_11e9_b08c_99fd4ce8f5a6row7_col12 {\n",
       "            background-color:  #485fd1;\n",
       "            color:  #f1f1f1;\n",
       "        }    #T_403db524_c84f_11e9_b08c_99fd4ce8f5a6row8_col0 {\n",
       "            background-color:  #4961d2;\n",
       "            color:  #f1f1f1;\n",
       "        }    #T_403db524_c84f_11e9_b08c_99fd4ce8f5a6row8_col1 {\n",
       "            background-color:  #445acc;\n",
       "            color:  #f1f1f1;\n",
       "        }    #T_403db524_c84f_11e9_b08c_99fd4ce8f5a6row8_col2 {\n",
       "            background-color:  #df634e;\n",
       "            color:  #000000;\n",
       "        }    #T_403db524_c84f_11e9_b08c_99fd4ce8f5a6row8_col3 {\n",
       "            background-color:  #b5cdfa;\n",
       "            color:  #000000;\n",
       "        }    #T_403db524_c84f_11e9_b08c_99fd4ce8f5a6row8_col4 {\n",
       "            background-color:  #86a9fc;\n",
       "            color:  #000000;\n",
       "        }    #T_403db524_c84f_11e9_b08c_99fd4ce8f5a6row8_col5 {\n",
       "            background-color:  #5977e3;\n",
       "            color:  #000000;\n",
       "        }    #T_403db524_c84f_11e9_b08c_99fd4ce8f5a6row8_col6 {\n",
       "            background-color:  #e16751;\n",
       "            color:  #000000;\n",
       "        }    #T_403db524_c84f_11e9_b08c_99fd4ce8f5a6row8_col7 {\n",
       "            background-color:  #da5a49;\n",
       "            color:  #000000;\n",
       "        }    #T_403db524_c84f_11e9_b08c_99fd4ce8f5a6row8_col8 {\n",
       "            background-color:  #b40426;\n",
       "            color:  #f1f1f1;\n",
       "        }    #T_403db524_c84f_11e9_b08c_99fd4ce8f5a6row8_col9 {\n",
       "            background-color:  #5977e3;\n",
       "            color:  #000000;\n",
       "        }    #T_403db524_c84f_11e9_b08c_99fd4ce8f5a6row8_col10 {\n",
       "            background-color:  #e16751;\n",
       "            color:  #000000;\n",
       "        }    #T_403db524_c84f_11e9_b08c_99fd4ce8f5a6row8_col11 {\n",
       "            background-color:  #92b4fe;\n",
       "            color:  #000000;\n",
       "        }    #T_403db524_c84f_11e9_b08c_99fd4ce8f5a6row8_col12 {\n",
       "            background-color:  #455cce;\n",
       "            color:  #f1f1f1;\n",
       "        }    #T_403db524_c84f_11e9_b08c_99fd4ce8f5a6row9_col0 {\n",
       "            background-color:  #465ecf;\n",
       "            color:  #f1f1f1;\n",
       "        }    #T_403db524_c84f_11e9_b08c_99fd4ce8f5a6row9_col1 {\n",
       "            background-color:  #4257c9;\n",
       "            color:  #f1f1f1;\n",
       "        }    #T_403db524_c84f_11e9_b08c_99fd4ce8f5a6row9_col2 {\n",
       "            background-color:  #d7dce3;\n",
       "            color:  #000000;\n",
       "        }    #T_403db524_c84f_11e9_b08c_99fd4ce8f5a6row9_col3 {\n",
       "            background-color:  #ee8468;\n",
       "            color:  #000000;\n",
       "        }    #T_403db524_c84f_11e9_b08c_99fd4ce8f5a6row9_col4 {\n",
       "            background-color:  #5875e1;\n",
       "            color:  #000000;\n",
       "        }    #T_403db524_c84f_11e9_b08c_99fd4ce8f5a6row9_col5 {\n",
       "            background-color:  #b40426;\n",
       "            color:  #f1f1f1;\n",
       "        }    #T_403db524_c84f_11e9_b08c_99fd4ce8f5a6row9_col6 {\n",
       "            background-color:  #d5dbe5;\n",
       "            color:  #000000;\n",
       "        }    #T_403db524_c84f_11e9_b08c_99fd4ce8f5a6row9_col7 {\n",
       "            background-color:  #d9dce1;\n",
       "            color:  #000000;\n",
       "        }    #T_403db524_c84f_11e9_b08c_99fd4ce8f5a6row9_col8 {\n",
       "            background-color:  #5e7de7;\n",
       "            color:  #000000;\n",
       "        }    #T_403db524_c84f_11e9_b08c_99fd4ce8f5a6row9_col9 {\n",
       "            background-color:  #b40426;\n",
       "            color:  #f1f1f1;\n",
       "        }    #T_403db524_c84f_11e9_b08c_99fd4ce8f5a6row9_col10 {\n",
       "            background-color:  #d5dbe5;\n",
       "            color:  #000000;\n",
       "        }    #T_403db524_c84f_11e9_b08c_99fd4ce8f5a6row9_col11 {\n",
       "            background-color:  #536edd;\n",
       "            color:  #000000;\n",
       "        }    #T_403db524_c84f_11e9_b08c_99fd4ce8f5a6row9_col12 {\n",
       "            background-color:  #4f69d9;\n",
       "            color:  #000000;\n",
       "        }    #T_403db524_c84f_11e9_b08c_99fd4ce8f5a6row10_col0 {\n",
       "            background-color:  #4257c9;\n",
       "            color:  #f1f1f1;\n",
       "        }    #T_403db524_c84f_11e9_b08c_99fd4ce8f5a6row10_col1 {\n",
       "            background-color:  #3d50c3;\n",
       "            color:  #f1f1f1;\n",
       "        }    #T_403db524_c84f_11e9_b08c_99fd4ce8f5a6row10_col2 {\n",
       "            background-color:  #b40426;\n",
       "            color:  #f1f1f1;\n",
       "        }    #T_403db524_c84f_11e9_b08c_99fd4ce8f5a6row10_col3 {\n",
       "            background-color:  #f1cdba;\n",
       "            color:  #000000;\n",
       "        }    #T_403db524_c84f_11e9_b08c_99fd4ce8f5a6row10_col4 {\n",
       "            background-color:  #c3d5f4;\n",
       "            color:  #000000;\n",
       "        }    #T_403db524_c84f_11e9_b08c_99fd4ce8f5a6row10_col5 {\n",
       "            background-color:  #d2dbe8;\n",
       "            color:  #000000;\n",
       "        }    #T_403db524_c84f_11e9_b08c_99fd4ce8f5a6row10_col6 {\n",
       "            background-color:  #b40426;\n",
       "            color:  #f1f1f1;\n",
       "        }    #T_403db524_c84f_11e9_b08c_99fd4ce8f5a6row10_col7 {\n",
       "            background-color:  #b70d28;\n",
       "            color:  #f1f1f1;\n",
       "        }    #T_403db524_c84f_11e9_b08c_99fd4ce8f5a6row10_col8 {\n",
       "            background-color:  #e0654f;\n",
       "            color:  #000000;\n",
       "        }    #T_403db524_c84f_11e9_b08c_99fd4ce8f5a6row10_col9 {\n",
       "            background-color:  #d3dbe7;\n",
       "            color:  #000000;\n",
       "        }    #T_403db524_c84f_11e9_b08c_99fd4ce8f5a6row10_col10 {\n",
       "            background-color:  #b40426;\n",
       "            color:  #f1f1f1;\n",
       "        }    #T_403db524_c84f_11e9_b08c_99fd4ce8f5a6row10_col11 {\n",
       "            background-color:  #cedaeb;\n",
       "            color:  #000000;\n",
       "        }    #T_403db524_c84f_11e9_b08c_99fd4ce8f5a6row10_col12 {\n",
       "            background-color:  #485fd1;\n",
       "            color:  #f1f1f1;\n",
       "        }    #T_403db524_c84f_11e9_b08c_99fd4ce8f5a6row11_col0 {\n",
       "            background-color:  #3b4cc0;\n",
       "            color:  #f1f1f1;\n",
       "        }    #T_403db524_c84f_11e9_b08c_99fd4ce8f5a6row11_col1 {\n",
       "            background-color:  #3b4cc0;\n",
       "            color:  #f1f1f1;\n",
       "        }    #T_403db524_c84f_11e9_b08c_99fd4ce8f5a6row11_col2 {\n",
       "            background-color:  #b9d0f9;\n",
       "            color:  #000000;\n",
       "        }    #T_403db524_c84f_11e9_b08c_99fd4ce8f5a6row11_col3 {\n",
       "            background-color:  #a5c3fe;\n",
       "            color:  #000000;\n",
       "        }    #T_403db524_c84f_11e9_b08c_99fd4ce8f5a6row11_col4 {\n",
       "            background-color:  #efcfbf;\n",
       "            color:  #000000;\n",
       "        }    #T_403db524_c84f_11e9_b08c_99fd4ce8f5a6row11_col5 {\n",
       "            background-color:  #455cce;\n",
       "            color:  #f1f1f1;\n",
       "        }    #T_403db524_c84f_11e9_b08c_99fd4ce8f5a6row11_col6 {\n",
       "            background-color:  #cbd8ee;\n",
       "            color:  #000000;\n",
       "        }    #T_403db524_c84f_11e9_b08c_99fd4ce8f5a6row11_col7 {\n",
       "            background-color:  #b9d0f9;\n",
       "            color:  #000000;\n",
       "        }    #T_403db524_c84f_11e9_b08c_99fd4ce8f5a6row11_col8 {\n",
       "            background-color:  #8caffe;\n",
       "            color:  #000000;\n",
       "        }    #T_403db524_c84f_11e9_b08c_99fd4ce8f5a6row11_col9 {\n",
       "            background-color:  #465ecf;\n",
       "            color:  #f1f1f1;\n",
       "        }    #T_403db524_c84f_11e9_b08c_99fd4ce8f5a6row11_col10 {\n",
       "            background-color:  #cbd8ee;\n",
       "            color:  #000000;\n",
       "        }    #T_403db524_c84f_11e9_b08c_99fd4ce8f5a6row11_col11 {\n",
       "            background-color:  #b40426;\n",
       "            color:  #f1f1f1;\n",
       "        }    #T_403db524_c84f_11e9_b08c_99fd4ce8f5a6row11_col12 {\n",
       "            background-color:  #6687ed;\n",
       "            color:  #000000;\n",
       "        }    #T_403db524_c84f_11e9_b08c_99fd4ce8f5a6row12_col0 {\n",
       "            background-color:  #81a4fb;\n",
       "            color:  #000000;\n",
       "        }    #T_403db524_c84f_11e9_b08c_99fd4ce8f5a6row12_col1 {\n",
       "            background-color:  #a3c2fe;\n",
       "            color:  #000000;\n",
       "        }    #T_403db524_c84f_11e9_b08c_99fd4ce8f5a6row12_col2 {\n",
       "            background-color:  #3b4cc0;\n",
       "            color:  #f1f1f1;\n",
       "        }    #T_403db524_c84f_11e9_b08c_99fd4ce8f5a6row12_col3 {\n",
       "            background-color:  #3b4cc0;\n",
       "            color:  #f1f1f1;\n",
       "        }    #T_403db524_c84f_11e9_b08c_99fd4ce8f5a6row12_col4 {\n",
       "            background-color:  #3b4cc0;\n",
       "            color:  #f1f1f1;\n",
       "        }    #T_403db524_c84f_11e9_b08c_99fd4ce8f5a6row12_col5 {\n",
       "            background-color:  #3e51c5;\n",
       "            color:  #f1f1f1;\n",
       "        }    #T_403db524_c84f_11e9_b08c_99fd4ce8f5a6row12_col6 {\n",
       "            background-color:  #3c4ec2;\n",
       "            color:  #f1f1f1;\n",
       "        }    #T_403db524_c84f_11e9_b08c_99fd4ce8f5a6row12_col7 {\n",
       "            background-color:  #3b4cc0;\n",
       "            color:  #f1f1f1;\n",
       "        }    #T_403db524_c84f_11e9_b08c_99fd4ce8f5a6row12_col8 {\n",
       "            background-color:  #3b4cc0;\n",
       "            color:  #f1f1f1;\n",
       "        }    #T_403db524_c84f_11e9_b08c_99fd4ce8f5a6row12_col9 {\n",
       "            background-color:  #3e51c5;\n",
       "            color:  #f1f1f1;\n",
       "        }    #T_403db524_c84f_11e9_b08c_99fd4ce8f5a6row12_col10 {\n",
       "            background-color:  #3c4ec2;\n",
       "            color:  #f1f1f1;\n",
       "        }    #T_403db524_c84f_11e9_b08c_99fd4ce8f5a6row12_col11 {\n",
       "            background-color:  #6282ea;\n",
       "            color:  #000000;\n",
       "        }    #T_403db524_c84f_11e9_b08c_99fd4ce8f5a6row12_col12 {\n",
       "            background-color:  #b40426;\n",
       "            color:  #f1f1f1;\n",
       "        }</style><table id=\"T_403db524_c84f_11e9_b08c_99fd4ce8f5a6\" ><thead>    <tr>        <th class=\"blank level0\" ></th>        <th class=\"col_heading level0 col0\" >URL_LENGTH</th>        <th class=\"col_heading level0 col1\" >NUMBER_SPECIAL_CHARACTERS</th>        <th class=\"col_heading level0 col2\" >TCP_CONVERSATION_EXCHANGE</th>        <th class=\"col_heading level0 col3\" >DIST_REMOTE_TCP_PORT</th>        <th class=\"col_heading level0 col4\" >REMOTE_IPS</th>        <th class=\"col_heading level0 col5\" >APP_BYTES</th>        <th class=\"col_heading level0 col6\" >SOURCE_APP_PACKETS</th>        <th class=\"col_heading level0 col7\" >REMOTE_APP_PACKETS</th>        <th class=\"col_heading level0 col8\" >SOURCE_APP_BYTES</th>        <th class=\"col_heading level0 col9\" >REMOTE_APP_BYTES</th>        <th class=\"col_heading level0 col10\" >APP_PACKETS</th>        <th class=\"col_heading level0 col11\" >DNS_QUERY_TIMES</th>        <th class=\"col_heading level0 col12\" >Type</th>    </tr></thead><tbody>\n",
       "                <tr>\n",
       "                        <th id=\"T_403db524_c84f_11e9_b08c_99fd4ce8f5a6level0_row0\" class=\"row_heading level0 row0\" >URL_LENGTH</th>\n",
       "                        <td id=\"T_403db524_c84f_11e9_b08c_99fd4ce8f5a6row0_col0\" class=\"data row0 col0\" >1</td>\n",
       "                        <td id=\"T_403db524_c84f_11e9_b08c_99fd4ce8f5a6row0_col1\" class=\"data row0 col1\" >0.918098</td>\n",
       "                        <td id=\"T_403db524_c84f_11e9_b08c_99fd4ce8f5a6row0_col2\" class=\"data row0 col2\" >-0.038159</td>\n",
       "                        <td id=\"T_403db524_c84f_11e9_b08c_99fd4ce8f5a6row0_col3\" class=\"data row0 col3\" >-0.0396963</td>\n",
       "                        <td id=\"T_403db524_c84f_11e9_b08c_99fd4ce8f5a6row0_col4\" class=\"data row0 col4\" >-0.0461736</td>\n",
       "                        <td id=\"T_403db524_c84f_11e9_b08c_99fd4ce8f5a6row0_col5\" class=\"data row0 col5\" >-0.0264163</td>\n",
       "                        <td id=\"T_403db524_c84f_11e9_b08c_99fd4ce8f5a6row0_col6\" class=\"data row0 col6\" >-0.0419671</td>\n",
       "                        <td id=\"T_403db524_c84f_11e9_b08c_99fd4ce8f5a6row0_col7\" class=\"data row0 col7\" >-0.0334806</td>\n",
       "                        <td id=\"T_403db524_c84f_11e9_b08c_99fd4ce8f5a6row0_col8\" class=\"data row0 col8\" >-0.0146276</td>\n",
       "                        <td id=\"T_403db524_c84f_11e9_b08c_99fd4ce8f5a6row0_col9\" class=\"data row0 col9\" >-0.0266523</td>\n",
       "                        <td id=\"T_403db524_c84f_11e9_b08c_99fd4ce8f5a6row0_col10\" class=\"data row0 col10\" >-0.0419671</td>\n",
       "                        <td id=\"T_403db524_c84f_11e9_b08c_99fd4ce8f5a6row0_col11\" class=\"data row0 col11\" >-0.068453</td>\n",
       "                        <td id=\"T_403db524_c84f_11e9_b08c_99fd4ce8f5a6row0_col12\" class=\"data row0 col12\" >0.162641</td>\n",
       "            </tr>\n",
       "            <tr>\n",
       "                        <th id=\"T_403db524_c84f_11e9_b08c_99fd4ce8f5a6level0_row1\" class=\"row_heading level0 row1\" >NUMBER_SPECIAL_CHARACTERS</th>\n",
       "                        <td id=\"T_403db524_c84f_11e9_b08c_99fd4ce8f5a6row1_col0\" class=\"data row1 col0\" >0.918098</td>\n",
       "                        <td id=\"T_403db524_c84f_11e9_b08c_99fd4ce8f5a6row1_col1\" class=\"data row1 col1\" >1</td>\n",
       "                        <td id=\"T_403db524_c84f_11e9_b08c_99fd4ce8f5a6row1_col2\" class=\"data row1 col2\" >-0.0373227</td>\n",
       "                        <td id=\"T_403db524_c84f_11e9_b08c_99fd4ce8f5a6row1_col3\" class=\"data row1 col3\" >-0.042554</td>\n",
       "                        <td id=\"T_403db524_c84f_11e9_b08c_99fd4ce8f5a6row1_col4\" class=\"data row1 col4\" >-0.0469611</td>\n",
       "                        <td id=\"T_403db524_c84f_11e9_b08c_99fd4ce8f5a6row1_col5\" class=\"data row1 col5\" >-0.0238958</td>\n",
       "                        <td id=\"T_403db524_c84f_11e9_b08c_99fd4ce8f5a6row1_col6\" class=\"data row1 col6\" >-0.0399387</td>\n",
       "                        <td id=\"T_403db524_c84f_11e9_b08c_99fd4ce8f5a6row1_col7\" class=\"data row1 col7\" >-0.0304671</td>\n",
       "                        <td id=\"T_403db524_c84f_11e9_b08c_99fd4ce8f5a6row1_col8\" class=\"data row1 col8\" >-0.0142756</td>\n",
       "                        <td id=\"T_403db524_c84f_11e9_b08c_99fd4ce8f5a6row1_col9\" class=\"data row1 col9\" >-0.0240788</td>\n",
       "                        <td id=\"T_403db524_c84f_11e9_b08c_99fd4ce8f5a6row1_col10\" class=\"data row1 col10\" >-0.0399387</td>\n",
       "                        <td id=\"T_403db524_c84f_11e9_b08c_99fd4ce8f5a6row1_col11\" class=\"data row1 col11\" >-0.0500667</td>\n",
       "                        <td id=\"T_403db524_c84f_11e9_b08c_99fd4ce8f5a6row1_col12\" class=\"data row1 col12\" >0.28115</td>\n",
       "            </tr>\n",
       "            <tr>\n",
       "                        <th id=\"T_403db524_c84f_11e9_b08c_99fd4ce8f5a6level0_row2\" class=\"row_heading level0 row2\" >TCP_CONVERSATION_EXCHANGE</th>\n",
       "                        <td id=\"T_403db524_c84f_11e9_b08c_99fd4ce8f5a6row2_col0\" class=\"data row2 col0\" >-0.038159</td>\n",
       "                        <td id=\"T_403db524_c84f_11e9_b08c_99fd4ce8f5a6row2_col1\" class=\"data row2 col1\" >-0.0373227</td>\n",
       "                        <td id=\"T_403db524_c84f_11e9_b08c_99fd4ce8f5a6row2_col2\" class=\"data row2 col2\" >1</td>\n",
       "                        <td id=\"T_403db524_c84f_11e9_b08c_99fd4ce8f5a6row2_col3\" class=\"data row2 col3\" >0.55518</td>\n",
       "                        <td id=\"T_403db524_c84f_11e9_b08c_99fd4ce8f5a6row2_col4\" class=\"data row2 col4\" >0.331057</td>\n",
       "                        <td id=\"T_403db524_c84f_11e9_b08c_99fd4ce8f5a6row2_col5\" class=\"data row2 col5\" >0.457324</td>\n",
       "                        <td id=\"T_403db524_c84f_11e9_b08c_99fd4ce8f5a6row2_col6\" class=\"data row2 col6\" >0.997798</td>\n",
       "                        <td id=\"T_403db524_c84f_11e9_b08c_99fd4ce8f5a6row2_col7\" class=\"data row2 col7\" >0.990871</td>\n",
       "                        <td id=\"T_403db524_c84f_11e9_b08c_99fd4ce8f5a6row2_col8\" class=\"data row2 col8\" >0.865585</td>\n",
       "                        <td id=\"T_403db524_c84f_11e9_b08c_99fd4ce8f5a6row2_col9\" class=\"data row2 col9\" >0.458705</td>\n",
       "                        <td id=\"T_403db524_c84f_11e9_b08c_99fd4ce8f5a6row2_col10\" class=\"data row2 col10\" >0.997798</td>\n",
       "                        <td id=\"T_403db524_c84f_11e9_b08c_99fd4ce8f5a6row2_col11\" class=\"data row2 col11\" >0.349877</td>\n",
       "                        <td id=\"T_403db524_c84f_11e9_b08c_99fd4ce8f5a6row2_col12\" class=\"data row2 col12\" >-0.0402757</td>\n",
       "            </tr>\n",
       "            <tr>\n",
       "                        <th id=\"T_403db524_c84f_11e9_b08c_99fd4ce8f5a6level0_row3\" class=\"row_heading level0 row3\" >DIST_REMOTE_TCP_PORT</th>\n",
       "                        <td id=\"T_403db524_c84f_11e9_b08c_99fd4ce8f5a6row3_col0\" class=\"data row3 col0\" >-0.0396963</td>\n",
       "                        <td id=\"T_403db524_c84f_11e9_b08c_99fd4ce8f5a6row3_col1\" class=\"data row3 col1\" >-0.042554</td>\n",
       "                        <td id=\"T_403db524_c84f_11e9_b08c_99fd4ce8f5a6row3_col2\" class=\"data row3 col2\" >0.55518</td>\n",
       "                        <td id=\"T_403db524_c84f_11e9_b08c_99fd4ce8f5a6row3_col3\" class=\"data row3 col3\" >1</td>\n",
       "                        <td id=\"T_403db524_c84f_11e9_b08c_99fd4ce8f5a6row3_col4\" class=\"data row3 col4\" >0.210198</td>\n",
       "                        <td id=\"T_403db524_c84f_11e9_b08c_99fd4ce8f5a6row3_col5\" class=\"data row3 col5\" >0.780243</td>\n",
       "                        <td id=\"T_403db524_c84f_11e9_b08c_99fd4ce8f5a6row3_col6\" class=\"data row3 col6\" >0.558601</td>\n",
       "                        <td id=\"T_403db524_c84f_11e9_b08c_99fd4ce8f5a6row3_col7\" class=\"data row3 col7\" >0.591173</td>\n",
       "                        <td id=\"T_403db524_c84f_11e9_b08c_99fd4ce8f5a6row3_col8\" class=\"data row3 col8\" >0.313333</td>\n",
       "                        <td id=\"T_403db524_c84f_11e9_b08c_99fd4ce8f5a6row3_col9\" class=\"data row3 col9\" >0.781216</td>\n",
       "                        <td id=\"T_403db524_c84f_11e9_b08c_99fd4ce8f5a6row3_col10\" class=\"data row3 col10\" >0.558601</td>\n",
       "                        <td id=\"T_403db524_c84f_11e9_b08c_99fd4ce8f5a6row3_col11\" class=\"data row3 col11\" >0.259919</td>\n",
       "                        <td id=\"T_403db524_c84f_11e9_b08c_99fd4ce8f5a6row3_col12\" class=\"data row3 col12\" >-0.0829994</td>\n",
       "            </tr>\n",
       "            <tr>\n",
       "                        <th id=\"T_403db524_c84f_11e9_b08c_99fd4ce8f5a6level0_row4\" class=\"row_heading level0 row4\" >REMOTE_IPS</th>\n",
       "                        <td id=\"T_403db524_c84f_11e9_b08c_99fd4ce8f5a6row4_col0\" class=\"data row4 col0\" >-0.0461736</td>\n",
       "                        <td id=\"T_403db524_c84f_11e9_b08c_99fd4ce8f5a6row4_col1\" class=\"data row4 col1\" >-0.0469611</td>\n",
       "                        <td id=\"T_403db524_c84f_11e9_b08c_99fd4ce8f5a6row4_col2\" class=\"data row4 col2\" >0.331057</td>\n",
       "                        <td id=\"T_403db524_c84f_11e9_b08c_99fd4ce8f5a6row4_col3\" class=\"data row4 col3\" >0.210198</td>\n",
       "                        <td id=\"T_403db524_c84f_11e9_b08c_99fd4ce8f5a6row4_col4\" class=\"data row4 col4\" >1</td>\n",
       "                        <td id=\"T_403db524_c84f_11e9_b08c_99fd4ce8f5a6row4_col5\" class=\"data row4 col5\" >0.0231239</td>\n",
       "                        <td id=\"T_403db524_c84f_11e9_b08c_99fd4ce8f5a6row4_col6\" class=\"data row4 col6\" >0.361087</td>\n",
       "                        <td id=\"T_403db524_c84f_11e9_b08c_99fd4ce8f5a6row4_col7\" class=\"data row4 col7\" >0.304712</td>\n",
       "                        <td id=\"T_403db524_c84f_11e9_b08c_99fd4ce8f5a6row4_col8\" class=\"data row4 col8\" >0.17166</td>\n",
       "                        <td id=\"T_403db524_c84f_11e9_b08c_99fd4ce8f5a6row4_col9\" class=\"data row4 col9\" >0.0253217</td>\n",
       "                        <td id=\"T_403db524_c84f_11e9_b08c_99fd4ce8f5a6row4_col10\" class=\"data row4 col10\" >0.361087</td>\n",
       "                        <td id=\"T_403db524_c84f_11e9_b08c_99fd4ce8f5a6row4_col11\" class=\"data row4 col11\" >0.548413</td>\n",
       "                        <td id=\"T_403db524_c84f_11e9_b08c_99fd4ce8f5a6row4_col12\" class=\"data row4 col12\" >-0.0788005</td>\n",
       "            </tr>\n",
       "            <tr>\n",
       "                        <th id=\"T_403db524_c84f_11e9_b08c_99fd4ce8f5a6level0_row5\" class=\"row_heading level0 row5\" >APP_BYTES</th>\n",
       "                        <td id=\"T_403db524_c84f_11e9_b08c_99fd4ce8f5a6row5_col0\" class=\"data row5 col0\" >-0.0264163</td>\n",
       "                        <td id=\"T_403db524_c84f_11e9_b08c_99fd4ce8f5a6row5_col1\" class=\"data row5 col1\" >-0.0238958</td>\n",
       "                        <td id=\"T_403db524_c84f_11e9_b08c_99fd4ce8f5a6row5_col2\" class=\"data row5 col2\" >0.457324</td>\n",
       "                        <td id=\"T_403db524_c84f_11e9_b08c_99fd4ce8f5a6row5_col3\" class=\"data row5 col3\" >0.780243</td>\n",
       "                        <td id=\"T_403db524_c84f_11e9_b08c_99fd4ce8f5a6row5_col4\" class=\"data row5 col4\" >0.0231239</td>\n",
       "                        <td id=\"T_403db524_c84f_11e9_b08c_99fd4ce8f5a6row5_col5\" class=\"data row5 col5\" >1</td>\n",
       "                        <td id=\"T_403db524_c84f_11e9_b08c_99fd4ce8f5a6row5_col6\" class=\"data row5 col6\" >0.445828</td>\n",
       "                        <td id=\"T_403db524_c84f_11e9_b08c_99fd4ce8f5a6row5_col7\" class=\"data row5 col7\" >0.46901</td>\n",
       "                        <td id=\"T_403db524_c84f_11e9_b08c_99fd4ce8f5a6row5_col8\" class=\"data row5 col8\" >0.0744558</td>\n",
       "                        <td id=\"T_403db524_c84f_11e9_b08c_99fd4ce8f5a6row5_col9\" class=\"data row5 col9\" >0.999992</td>\n",
       "                        <td id=\"T_403db524_c84f_11e9_b08c_99fd4ce8f5a6row5_col10\" class=\"data row5 col10\" >0.445828</td>\n",
       "                        <td id=\"T_403db524_c84f_11e9_b08c_99fd4ce8f5a6row5_col11\" class=\"data row5 col11\" >0.0122082</td>\n",
       "                        <td id=\"T_403db524_c84f_11e9_b08c_99fd4ce8f5a6row5_col12\" class=\"data row5 col12\" >-0.0112807</td>\n",
       "            </tr>\n",
       "            <tr>\n",
       "                        <th id=\"T_403db524_c84f_11e9_b08c_99fd4ce8f5a6level0_row6\" class=\"row_heading level0 row6\" >SOURCE_APP_PACKETS</th>\n",
       "                        <td id=\"T_403db524_c84f_11e9_b08c_99fd4ce8f5a6row6_col0\" class=\"data row6 col0\" >-0.0419671</td>\n",
       "                        <td id=\"T_403db524_c84f_11e9_b08c_99fd4ce8f5a6row6_col1\" class=\"data row6 col1\" >-0.0399387</td>\n",
       "                        <td id=\"T_403db524_c84f_11e9_b08c_99fd4ce8f5a6row6_col2\" class=\"data row6 col2\" >0.997798</td>\n",
       "                        <td id=\"T_403db524_c84f_11e9_b08c_99fd4ce8f5a6row6_col3\" class=\"data row6 col3\" >0.558601</td>\n",
       "                        <td id=\"T_403db524_c84f_11e9_b08c_99fd4ce8f5a6row6_col4\" class=\"data row6 col4\" >0.361087</td>\n",
       "                        <td id=\"T_403db524_c84f_11e9_b08c_99fd4ce8f5a6row6_col5\" class=\"data row6 col5\" >0.445828</td>\n",
       "                        <td id=\"T_403db524_c84f_11e9_b08c_99fd4ce8f5a6row6_col6\" class=\"data row6 col6\" >1</td>\n",
       "                        <td id=\"T_403db524_c84f_11e9_b08c_99fd4ce8f5a6row6_col7\" class=\"data row6 col7\" >0.9893</td>\n",
       "                        <td id=\"T_403db524_c84f_11e9_b08c_99fd4ce8f5a6row6_col8\" class=\"data row6 col8\" >0.857496</td>\n",
       "                        <td id=\"T_403db524_c84f_11e9_b08c_99fd4ce8f5a6row6_col9\" class=\"data row6 col9\" >0.447453</td>\n",
       "                        <td id=\"T_403db524_c84f_11e9_b08c_99fd4ce8f5a6row6_col10\" class=\"data row6 col10\" >1</td>\n",
       "                        <td id=\"T_403db524_c84f_11e9_b08c_99fd4ce8f5a6row6_col11\" class=\"data row6 col11\" >0.410876</td>\n",
       "                        <td id=\"T_403db524_c84f_11e9_b08c_99fd4ce8f5a6row6_col12\" class=\"data row6 col12\" >-0.0345086</td>\n",
       "            </tr>\n",
       "            <tr>\n",
       "                        <th id=\"T_403db524_c84f_11e9_b08c_99fd4ce8f5a6level0_row7\" class=\"row_heading level0 row7\" >REMOTE_APP_PACKETS</th>\n",
       "                        <td id=\"T_403db524_c84f_11e9_b08c_99fd4ce8f5a6row7_col0\" class=\"data row7 col0\" >-0.0334806</td>\n",
       "                        <td id=\"T_403db524_c84f_11e9_b08c_99fd4ce8f5a6row7_col1\" class=\"data row7 col1\" >-0.0304671</td>\n",
       "                        <td id=\"T_403db524_c84f_11e9_b08c_99fd4ce8f5a6row7_col2\" class=\"data row7 col2\" >0.990871</td>\n",
       "                        <td id=\"T_403db524_c84f_11e9_b08c_99fd4ce8f5a6row7_col3\" class=\"data row7 col3\" >0.591173</td>\n",
       "                        <td id=\"T_403db524_c84f_11e9_b08c_99fd4ce8f5a6row7_col4\" class=\"data row7 col4\" >0.304712</td>\n",
       "                        <td id=\"T_403db524_c84f_11e9_b08c_99fd4ce8f5a6row7_col5\" class=\"data row7 col5\" >0.46901</td>\n",
       "                        <td id=\"T_403db524_c84f_11e9_b08c_99fd4ce8f5a6row7_col6\" class=\"data row7 col6\" >0.9893</td>\n",
       "                        <td id=\"T_403db524_c84f_11e9_b08c_99fd4ce8f5a6row7_col7\" class=\"data row7 col7\" >1</td>\n",
       "                        <td id=\"T_403db524_c84f_11e9_b08c_99fd4ce8f5a6row7_col8\" class=\"data row7 col8\" >0.88055</td>\n",
       "                        <td id=\"T_403db524_c84f_11e9_b08c_99fd4ce8f5a6row7_col9\" class=\"data row7 col9\" >0.470412</td>\n",
       "                        <td id=\"T_403db524_c84f_11e9_b08c_99fd4ce8f5a6row7_col10\" class=\"data row7 col10\" >0.9893</td>\n",
       "                        <td id=\"T_403db524_c84f_11e9_b08c_99fd4ce8f5a6row7_col11\" class=\"data row7 col11\" >0.355648</td>\n",
       "                        <td id=\"T_403db524_c84f_11e9_b08c_99fd4ce8f5a6row7_col12\" class=\"data row7 col12\" >-0.0330292</td>\n",
       "            </tr>\n",
       "            <tr>\n",
       "                        <th id=\"T_403db524_c84f_11e9_b08c_99fd4ce8f5a6level0_row8\" class=\"row_heading level0 row8\" >SOURCE_APP_BYTES</th>\n",
       "                        <td id=\"T_403db524_c84f_11e9_b08c_99fd4ce8f5a6row8_col0\" class=\"data row8 col0\" >-0.0146276</td>\n",
       "                        <td id=\"T_403db524_c84f_11e9_b08c_99fd4ce8f5a6row8_col1\" class=\"data row8 col1\" >-0.0142756</td>\n",
       "                        <td id=\"T_403db524_c84f_11e9_b08c_99fd4ce8f5a6row8_col2\" class=\"data row8 col2\" >0.865585</td>\n",
       "                        <td id=\"T_403db524_c84f_11e9_b08c_99fd4ce8f5a6row8_col3\" class=\"data row8 col3\" >0.313333</td>\n",
       "                        <td id=\"T_403db524_c84f_11e9_b08c_99fd4ce8f5a6row8_col4\" class=\"data row8 col4\" >0.17166</td>\n",
       "                        <td id=\"T_403db524_c84f_11e9_b08c_99fd4ce8f5a6row8_col5\" class=\"data row8 col5\" >0.0744558</td>\n",
       "                        <td id=\"T_403db524_c84f_11e9_b08c_99fd4ce8f5a6row8_col6\" class=\"data row8 col6\" >0.857496</td>\n",
       "                        <td id=\"T_403db524_c84f_11e9_b08c_99fd4ce8f5a6row8_col7\" class=\"data row8 col7\" >0.88055</td>\n",
       "                        <td id=\"T_403db524_c84f_11e9_b08c_99fd4ce8f5a6row8_col8\" class=\"data row8 col8\" >1</td>\n",
       "                        <td id=\"T_403db524_c84f_11e9_b08c_99fd4ce8f5a6row8_col9\" class=\"data row8 col9\" >0.0753195</td>\n",
       "                        <td id=\"T_403db524_c84f_11e9_b08c_99fd4ce8f5a6row8_col10\" class=\"data row8 col10\" >0.857496</td>\n",
       "                        <td id=\"T_403db524_c84f_11e9_b08c_99fd4ce8f5a6row8_col11\" class=\"data row8 col11\" >0.215227</td>\n",
       "                        <td id=\"T_403db524_c84f_11e9_b08c_99fd4ce8f5a6row8_col12\" class=\"data row8 col12\" >-0.0439493</td>\n",
       "            </tr>\n",
       "            <tr>\n",
       "                        <th id=\"T_403db524_c84f_11e9_b08c_99fd4ce8f5a6level0_row9\" class=\"row_heading level0 row9\" >REMOTE_APP_BYTES</th>\n",
       "                        <td id=\"T_403db524_c84f_11e9_b08c_99fd4ce8f5a6row9_col0\" class=\"data row9 col0\" >-0.0266523</td>\n",
       "                        <td id=\"T_403db524_c84f_11e9_b08c_99fd4ce8f5a6row9_col1\" class=\"data row9 col1\" >-0.0240788</td>\n",
       "                        <td id=\"T_403db524_c84f_11e9_b08c_99fd4ce8f5a6row9_col2\" class=\"data row9 col2\" >0.458705</td>\n",
       "                        <td id=\"T_403db524_c84f_11e9_b08c_99fd4ce8f5a6row9_col3\" class=\"data row9 col3\" >0.781216</td>\n",
       "                        <td id=\"T_403db524_c84f_11e9_b08c_99fd4ce8f5a6row9_col4\" class=\"data row9 col4\" >0.0253217</td>\n",
       "                        <td id=\"T_403db524_c84f_11e9_b08c_99fd4ce8f5a6row9_col5\" class=\"data row9 col5\" >0.999992</td>\n",
       "                        <td id=\"T_403db524_c84f_11e9_b08c_99fd4ce8f5a6row9_col6\" class=\"data row9 col6\" >0.447453</td>\n",
       "                        <td id=\"T_403db524_c84f_11e9_b08c_99fd4ce8f5a6row9_col7\" class=\"data row9 col7\" >0.470412</td>\n",
       "                        <td id=\"T_403db524_c84f_11e9_b08c_99fd4ce8f5a6row9_col8\" class=\"data row9 col8\" >0.0753195</td>\n",
       "                        <td id=\"T_403db524_c84f_11e9_b08c_99fd4ce8f5a6row9_col9\" class=\"data row9 col9\" >1</td>\n",
       "                        <td id=\"T_403db524_c84f_11e9_b08c_99fd4ce8f5a6row9_col10\" class=\"data row9 col10\" >0.447453</td>\n",
       "                        <td id=\"T_403db524_c84f_11e9_b08c_99fd4ce8f5a6row9_col11\" class=\"data row9 col11\" >0.0162014</td>\n",
       "                        <td id=\"T_403db524_c84f_11e9_b08c_99fd4ce8f5a6row9_col12\" class=\"data row9 col12\" >-0.0110238</td>\n",
       "            </tr>\n",
       "            <tr>\n",
       "                        <th id=\"T_403db524_c84f_11e9_b08c_99fd4ce8f5a6level0_row10\" class=\"row_heading level0 row10\" >APP_PACKETS</th>\n",
       "                        <td id=\"T_403db524_c84f_11e9_b08c_99fd4ce8f5a6row10_col0\" class=\"data row10 col0\" >-0.0419671</td>\n",
       "                        <td id=\"T_403db524_c84f_11e9_b08c_99fd4ce8f5a6row10_col1\" class=\"data row10 col1\" >-0.0399387</td>\n",
       "                        <td id=\"T_403db524_c84f_11e9_b08c_99fd4ce8f5a6row10_col2\" class=\"data row10 col2\" >0.997798</td>\n",
       "                        <td id=\"T_403db524_c84f_11e9_b08c_99fd4ce8f5a6row10_col3\" class=\"data row10 col3\" >0.558601</td>\n",
       "                        <td id=\"T_403db524_c84f_11e9_b08c_99fd4ce8f5a6row10_col4\" class=\"data row10 col4\" >0.361087</td>\n",
       "                        <td id=\"T_403db524_c84f_11e9_b08c_99fd4ce8f5a6row10_col5\" class=\"data row10 col5\" >0.445828</td>\n",
       "                        <td id=\"T_403db524_c84f_11e9_b08c_99fd4ce8f5a6row10_col6\" class=\"data row10 col6\" >1</td>\n",
       "                        <td id=\"T_403db524_c84f_11e9_b08c_99fd4ce8f5a6row10_col7\" class=\"data row10 col7\" >0.9893</td>\n",
       "                        <td id=\"T_403db524_c84f_11e9_b08c_99fd4ce8f5a6row10_col8\" class=\"data row10 col8\" >0.857496</td>\n",
       "                        <td id=\"T_403db524_c84f_11e9_b08c_99fd4ce8f5a6row10_col9\" class=\"data row10 col9\" >0.447453</td>\n",
       "                        <td id=\"T_403db524_c84f_11e9_b08c_99fd4ce8f5a6row10_col10\" class=\"data row10 col10\" >1</td>\n",
       "                        <td id=\"T_403db524_c84f_11e9_b08c_99fd4ce8f5a6row10_col11\" class=\"data row10 col11\" >0.410876</td>\n",
       "                        <td id=\"T_403db524_c84f_11e9_b08c_99fd4ce8f5a6row10_col12\" class=\"data row10 col12\" >-0.0345086</td>\n",
       "            </tr>\n",
       "            <tr>\n",
       "                        <th id=\"T_403db524_c84f_11e9_b08c_99fd4ce8f5a6level0_row11\" class=\"row_heading level0 row11\" >DNS_QUERY_TIMES</th>\n",
       "                        <td id=\"T_403db524_c84f_11e9_b08c_99fd4ce8f5a6row11_col0\" class=\"data row11 col0\" >-0.068453</td>\n",
       "                        <td id=\"T_403db524_c84f_11e9_b08c_99fd4ce8f5a6row11_col1\" class=\"data row11 col1\" >-0.0500667</td>\n",
       "                        <td id=\"T_403db524_c84f_11e9_b08c_99fd4ce8f5a6row11_col2\" class=\"data row11 col2\" >0.349877</td>\n",
       "                        <td id=\"T_403db524_c84f_11e9_b08c_99fd4ce8f5a6row11_col3\" class=\"data row11 col3\" >0.259919</td>\n",
       "                        <td id=\"T_403db524_c84f_11e9_b08c_99fd4ce8f5a6row11_col4\" class=\"data row11 col4\" >0.548413</td>\n",
       "                        <td id=\"T_403db524_c84f_11e9_b08c_99fd4ce8f5a6row11_col5\" class=\"data row11 col5\" >0.0122082</td>\n",
       "                        <td id=\"T_403db524_c84f_11e9_b08c_99fd4ce8f5a6row11_col6\" class=\"data row11 col6\" >0.410876</td>\n",
       "                        <td id=\"T_403db524_c84f_11e9_b08c_99fd4ce8f5a6row11_col7\" class=\"data row11 col7\" >0.355648</td>\n",
       "                        <td id=\"T_403db524_c84f_11e9_b08c_99fd4ce8f5a6row11_col8\" class=\"data row11 col8\" >0.215227</td>\n",
       "                        <td id=\"T_403db524_c84f_11e9_b08c_99fd4ce8f5a6row11_col9\" class=\"data row11 col9\" >0.0162014</td>\n",
       "                        <td id=\"T_403db524_c84f_11e9_b08c_99fd4ce8f5a6row11_col10\" class=\"data row11 col10\" >0.410876</td>\n",
       "                        <td id=\"T_403db524_c84f_11e9_b08c_99fd4ce8f5a6row11_col11\" class=\"data row11 col11\" >1</td>\n",
       "                        <td id=\"T_403db524_c84f_11e9_b08c_99fd4ce8f5a6row11_col12\" class=\"data row11 col12\" >0.0686061</td>\n",
       "            </tr>\n",
       "            <tr>\n",
       "                        <th id=\"T_403db524_c84f_11e9_b08c_99fd4ce8f5a6level0_row12\" class=\"row_heading level0 row12\" >Type</th>\n",
       "                        <td id=\"T_403db524_c84f_11e9_b08c_99fd4ce8f5a6row12_col0\" class=\"data row12 col0\" >0.162641</td>\n",
       "                        <td id=\"T_403db524_c84f_11e9_b08c_99fd4ce8f5a6row12_col1\" class=\"data row12 col1\" >0.28115</td>\n",
       "                        <td id=\"T_403db524_c84f_11e9_b08c_99fd4ce8f5a6row12_col2\" class=\"data row12 col2\" >-0.0402757</td>\n",
       "                        <td id=\"T_403db524_c84f_11e9_b08c_99fd4ce8f5a6row12_col3\" class=\"data row12 col3\" >-0.0829994</td>\n",
       "                        <td id=\"T_403db524_c84f_11e9_b08c_99fd4ce8f5a6row12_col4\" class=\"data row12 col4\" >-0.0788005</td>\n",
       "                        <td id=\"T_403db524_c84f_11e9_b08c_99fd4ce8f5a6row12_col5\" class=\"data row12 col5\" >-0.0112807</td>\n",
       "                        <td id=\"T_403db524_c84f_11e9_b08c_99fd4ce8f5a6row12_col6\" class=\"data row12 col6\" >-0.0345086</td>\n",
       "                        <td id=\"T_403db524_c84f_11e9_b08c_99fd4ce8f5a6row12_col7\" class=\"data row12 col7\" >-0.0330292</td>\n",
       "                        <td id=\"T_403db524_c84f_11e9_b08c_99fd4ce8f5a6row12_col8\" class=\"data row12 col8\" >-0.0439493</td>\n",
       "                        <td id=\"T_403db524_c84f_11e9_b08c_99fd4ce8f5a6row12_col9\" class=\"data row12 col9\" >-0.0110238</td>\n",
       "                        <td id=\"T_403db524_c84f_11e9_b08c_99fd4ce8f5a6row12_col10\" class=\"data row12 col10\" >-0.0345086</td>\n",
       "                        <td id=\"T_403db524_c84f_11e9_b08c_99fd4ce8f5a6row12_col11\" class=\"data row12 col11\" >0.0686061</td>\n",
       "                        <td id=\"T_403db524_c84f_11e9_b08c_99fd4ce8f5a6row12_col12\" class=\"data row12 col12\" >1</td>\n",
       "            </tr>\n",
       "    </tbody></table>"
      ],
      "text/plain": [
       "<pandas.io.formats.style.Styler at 0x7f56f38859b0>"
      ]
     },
     "execution_count": 8,
     "metadata": {},
     "output_type": "execute_result"
    }
   ],
   "source": [
    "corr = dataset.corr()\n",
    "corr.style.background_gradient(cmap='coolwarm')"
   ]
  },
  {
   "cell_type": "markdown",
   "metadata": {},
   "source": [
    "Looks like there are some highly correlated features in there. A lot of these make sense - for example longer URLs will probably contain more special characters. Let's remove some of the more highly correlated features. "
   ]
  },
  {
   "cell_type": "code",
   "execution_count": 9,
   "metadata": {},
   "outputs": [
    {
     "data": {
      "text/html": [
       "<style  type=\"text/css\" >\n",
       "    #T_4045a4dc_c84f_11e9_b08c_99fd4ce8f5a6row0_col0 {\n",
       "            background-color:  #b40426;\n",
       "            color:  #f1f1f1;\n",
       "        }    #T_4045a4dc_c84f_11e9_b08c_99fd4ce8f5a6row0_col1 {\n",
       "            background-color:  #455cce;\n",
       "            color:  #f1f1f1;\n",
       "        }    #T_4045a4dc_c84f_11e9_b08c_99fd4ce8f5a6row0_col2 {\n",
       "            background-color:  #4358cb;\n",
       "            color:  #f1f1f1;\n",
       "        }    #T_4045a4dc_c84f_11e9_b08c_99fd4ce8f5a6row0_col3 {\n",
       "            background-color:  #3b4cc0;\n",
       "            color:  #f1f1f1;\n",
       "        }    #T_4045a4dc_c84f_11e9_b08c_99fd4ce8f5a6row0_col4 {\n",
       "            background-color:  #3b4cc0;\n",
       "            color:  #f1f1f1;\n",
       "        }    #T_4045a4dc_c84f_11e9_b08c_99fd4ce8f5a6row0_col5 {\n",
       "            background-color:  #abc8fd;\n",
       "            color:  #000000;\n",
       "        }    #T_4045a4dc_c84f_11e9_b08c_99fd4ce8f5a6row1_col0 {\n",
       "            background-color:  #3c4ec2;\n",
       "            color:  #f1f1f1;\n",
       "        }    #T_4045a4dc_c84f_11e9_b08c_99fd4ce8f5a6row1_col1 {\n",
       "            background-color:  #b40426;\n",
       "            color:  #f1f1f1;\n",
       "        }    #T_4045a4dc_c84f_11e9_b08c_99fd4ce8f5a6row1_col2 {\n",
       "            background-color:  #93b5fe;\n",
       "            color:  #000000;\n",
       "        }    #T_4045a4dc_c84f_11e9_b08c_99fd4ce8f5a6row1_col3 {\n",
       "            background-color:  #eed0c0;\n",
       "            color:  #000000;\n",
       "        }    #T_4045a4dc_c84f_11e9_b08c_99fd4ce8f5a6row1_col4 {\n",
       "            background-color:  #9dbdff;\n",
       "            color:  #000000;\n",
       "        }    #T_4045a4dc_c84f_11e9_b08c_99fd4ce8f5a6row1_col5 {\n",
       "            background-color:  #3b4cc0;\n",
       "            color:  #f1f1f1;\n",
       "        }    #T_4045a4dc_c84f_11e9_b08c_99fd4ce8f5a6row2_col0 {\n",
       "            background-color:  #3b4cc0;\n",
       "            color:  #f1f1f1;\n",
       "        }    #T_4045a4dc_c84f_11e9_b08c_99fd4ce8f5a6row2_col1 {\n",
       "            background-color:  #94b6ff;\n",
       "            color:  #000000;\n",
       "        }    #T_4045a4dc_c84f_11e9_b08c_99fd4ce8f5a6row2_col2 {\n",
       "            background-color:  #b40426;\n",
       "            color:  #f1f1f1;\n",
       "        }    #T_4045a4dc_c84f_11e9_b08c_99fd4ce8f5a6row2_col3 {\n",
       "            background-color:  #bbd1f8;\n",
       "            color:  #000000;\n",
       "        }    #T_4045a4dc_c84f_11e9_b08c_99fd4ce8f5a6row2_col4 {\n",
       "            background-color:  #edd2c3;\n",
       "            color:  #000000;\n",
       "        }    #T_4045a4dc_c84f_11e9_b08c_99fd4ce8f5a6row2_col5 {\n",
       "            background-color:  #3b4cc0;\n",
       "            color:  #f1f1f1;\n",
       "        }    #T_4045a4dc_c84f_11e9_b08c_99fd4ce8f5a6row3_col0 {\n",
       "            background-color:  #3d50c3;\n",
       "            color:  #f1f1f1;\n",
       "        }    #T_4045a4dc_c84f_11e9_b08c_99fd4ce8f5a6row3_col1 {\n",
       "            background-color:  #f1cdba;\n",
       "            color:  #000000;\n",
       "        }    #T_4045a4dc_c84f_11e9_b08c_99fd4ce8f5a6row3_col2 {\n",
       "            background-color:  #c3d5f4;\n",
       "            color:  #000000;\n",
       "        }    #T_4045a4dc_c84f_11e9_b08c_99fd4ce8f5a6row3_col3 {\n",
       "            background-color:  #b40426;\n",
       "            color:  #f1f1f1;\n",
       "        }    #T_4045a4dc_c84f_11e9_b08c_99fd4ce8f5a6row3_col4 {\n",
       "            background-color:  #ccd9ed;\n",
       "            color:  #000000;\n",
       "        }    #T_4045a4dc_c84f_11e9_b08c_99fd4ce8f5a6row3_col5 {\n",
       "            background-color:  #485fd1;\n",
       "            color:  #f1f1f1;\n",
       "        }    #T_4045a4dc_c84f_11e9_b08c_99fd4ce8f5a6row4_col0 {\n",
       "            background-color:  #3b4cc0;\n",
       "            color:  #f1f1f1;\n",
       "        }    #T_4045a4dc_c84f_11e9_b08c_99fd4ce8f5a6row4_col1 {\n",
       "            background-color:  #a5c3fe;\n",
       "            color:  #000000;\n",
       "        }    #T_4045a4dc_c84f_11e9_b08c_99fd4ce8f5a6row4_col2 {\n",
       "            background-color:  #efcfbf;\n",
       "            color:  #000000;\n",
       "        }    #T_4045a4dc_c84f_11e9_b08c_99fd4ce8f5a6row4_col3 {\n",
       "            background-color:  #cad8ef;\n",
       "            color:  #000000;\n",
       "        }    #T_4045a4dc_c84f_11e9_b08c_99fd4ce8f5a6row4_col4 {\n",
       "            background-color:  #b40426;\n",
       "            color:  #f1f1f1;\n",
       "        }    #T_4045a4dc_c84f_11e9_b08c_99fd4ce8f5a6row4_col5 {\n",
       "            background-color:  #6687ed;\n",
       "            color:  #000000;\n",
       "        }    #T_4045a4dc_c84f_11e9_b08c_99fd4ce8f5a6row5_col0 {\n",
       "            background-color:  #a3c2fe;\n",
       "            color:  #000000;\n",
       "        }    #T_4045a4dc_c84f_11e9_b08c_99fd4ce8f5a6row5_col1 {\n",
       "            background-color:  #3b4cc0;\n",
       "            color:  #f1f1f1;\n",
       "        }    #T_4045a4dc_c84f_11e9_b08c_99fd4ce8f5a6row5_col2 {\n",
       "            background-color:  #3b4cc0;\n",
       "            color:  #f1f1f1;\n",
       "        }    #T_4045a4dc_c84f_11e9_b08c_99fd4ce8f5a6row5_col3 {\n",
       "            background-color:  #3c4ec2;\n",
       "            color:  #f1f1f1;\n",
       "        }    #T_4045a4dc_c84f_11e9_b08c_99fd4ce8f5a6row5_col4 {\n",
       "            background-color:  #5d7ce6;\n",
       "            color:  #000000;\n",
       "        }    #T_4045a4dc_c84f_11e9_b08c_99fd4ce8f5a6row5_col5 {\n",
       "            background-color:  #b40426;\n",
       "            color:  #f1f1f1;\n",
       "        }</style><table id=\"T_4045a4dc_c84f_11e9_b08c_99fd4ce8f5a6\" ><thead>    <tr>        <th class=\"blank level0\" ></th>        <th class=\"col_heading level0 col0\" >NUMBER_SPECIAL_CHARACTERS</th>        <th class=\"col_heading level0 col1\" >DIST_REMOTE_TCP_PORT</th>        <th class=\"col_heading level0 col2\" >REMOTE_IPS</th>        <th class=\"col_heading level0 col3\" >APP_PACKETS</th>        <th class=\"col_heading level0 col4\" >DNS_QUERY_TIMES</th>        <th class=\"col_heading level0 col5\" >Type</th>    </tr></thead><tbody>\n",
       "                <tr>\n",
       "                        <th id=\"T_4045a4dc_c84f_11e9_b08c_99fd4ce8f5a6level0_row0\" class=\"row_heading level0 row0\" >NUMBER_SPECIAL_CHARACTERS</th>\n",
       "                        <td id=\"T_4045a4dc_c84f_11e9_b08c_99fd4ce8f5a6row0_col0\" class=\"data row0 col0\" >1</td>\n",
       "                        <td id=\"T_4045a4dc_c84f_11e9_b08c_99fd4ce8f5a6row0_col1\" class=\"data row0 col1\" >-0.042554</td>\n",
       "                        <td id=\"T_4045a4dc_c84f_11e9_b08c_99fd4ce8f5a6row0_col2\" class=\"data row0 col2\" >-0.0469611</td>\n",
       "                        <td id=\"T_4045a4dc_c84f_11e9_b08c_99fd4ce8f5a6row0_col3\" class=\"data row0 col3\" >-0.0399387</td>\n",
       "                        <td id=\"T_4045a4dc_c84f_11e9_b08c_99fd4ce8f5a6row0_col4\" class=\"data row0 col4\" >-0.0500667</td>\n",
       "                        <td id=\"T_4045a4dc_c84f_11e9_b08c_99fd4ce8f5a6row0_col5\" class=\"data row0 col5\" >0.28115</td>\n",
       "            </tr>\n",
       "            <tr>\n",
       "                        <th id=\"T_4045a4dc_c84f_11e9_b08c_99fd4ce8f5a6level0_row1\" class=\"row_heading level0 row1\" >DIST_REMOTE_TCP_PORT</th>\n",
       "                        <td id=\"T_4045a4dc_c84f_11e9_b08c_99fd4ce8f5a6row1_col0\" class=\"data row1 col0\" >-0.042554</td>\n",
       "                        <td id=\"T_4045a4dc_c84f_11e9_b08c_99fd4ce8f5a6row1_col1\" class=\"data row1 col1\" >1</td>\n",
       "                        <td id=\"T_4045a4dc_c84f_11e9_b08c_99fd4ce8f5a6row1_col2\" class=\"data row1 col2\" >0.210198</td>\n",
       "                        <td id=\"T_4045a4dc_c84f_11e9_b08c_99fd4ce8f5a6row1_col3\" class=\"data row1 col3\" >0.558601</td>\n",
       "                        <td id=\"T_4045a4dc_c84f_11e9_b08c_99fd4ce8f5a6row1_col4\" class=\"data row1 col4\" >0.259919</td>\n",
       "                        <td id=\"T_4045a4dc_c84f_11e9_b08c_99fd4ce8f5a6row1_col5\" class=\"data row1 col5\" >-0.0829994</td>\n",
       "            </tr>\n",
       "            <tr>\n",
       "                        <th id=\"T_4045a4dc_c84f_11e9_b08c_99fd4ce8f5a6level0_row2\" class=\"row_heading level0 row2\" >REMOTE_IPS</th>\n",
       "                        <td id=\"T_4045a4dc_c84f_11e9_b08c_99fd4ce8f5a6row2_col0\" class=\"data row2 col0\" >-0.0469611</td>\n",
       "                        <td id=\"T_4045a4dc_c84f_11e9_b08c_99fd4ce8f5a6row2_col1\" class=\"data row2 col1\" >0.210198</td>\n",
       "                        <td id=\"T_4045a4dc_c84f_11e9_b08c_99fd4ce8f5a6row2_col2\" class=\"data row2 col2\" >1</td>\n",
       "                        <td id=\"T_4045a4dc_c84f_11e9_b08c_99fd4ce8f5a6row2_col3\" class=\"data row2 col3\" >0.361087</td>\n",
       "                        <td id=\"T_4045a4dc_c84f_11e9_b08c_99fd4ce8f5a6row2_col4\" class=\"data row2 col4\" >0.548413</td>\n",
       "                        <td id=\"T_4045a4dc_c84f_11e9_b08c_99fd4ce8f5a6row2_col5\" class=\"data row2 col5\" >-0.0788005</td>\n",
       "            </tr>\n",
       "            <tr>\n",
       "                        <th id=\"T_4045a4dc_c84f_11e9_b08c_99fd4ce8f5a6level0_row3\" class=\"row_heading level0 row3\" >APP_PACKETS</th>\n",
       "                        <td id=\"T_4045a4dc_c84f_11e9_b08c_99fd4ce8f5a6row3_col0\" class=\"data row3 col0\" >-0.0399387</td>\n",
       "                        <td id=\"T_4045a4dc_c84f_11e9_b08c_99fd4ce8f5a6row3_col1\" class=\"data row3 col1\" >0.558601</td>\n",
       "                        <td id=\"T_4045a4dc_c84f_11e9_b08c_99fd4ce8f5a6row3_col2\" class=\"data row3 col2\" >0.361087</td>\n",
       "                        <td id=\"T_4045a4dc_c84f_11e9_b08c_99fd4ce8f5a6row3_col3\" class=\"data row3 col3\" >1</td>\n",
       "                        <td id=\"T_4045a4dc_c84f_11e9_b08c_99fd4ce8f5a6row3_col4\" class=\"data row3 col4\" >0.410876</td>\n",
       "                        <td id=\"T_4045a4dc_c84f_11e9_b08c_99fd4ce8f5a6row3_col5\" class=\"data row3 col5\" >-0.0345086</td>\n",
       "            </tr>\n",
       "            <tr>\n",
       "                        <th id=\"T_4045a4dc_c84f_11e9_b08c_99fd4ce8f5a6level0_row4\" class=\"row_heading level0 row4\" >DNS_QUERY_TIMES</th>\n",
       "                        <td id=\"T_4045a4dc_c84f_11e9_b08c_99fd4ce8f5a6row4_col0\" class=\"data row4 col0\" >-0.0500667</td>\n",
       "                        <td id=\"T_4045a4dc_c84f_11e9_b08c_99fd4ce8f5a6row4_col1\" class=\"data row4 col1\" >0.259919</td>\n",
       "                        <td id=\"T_4045a4dc_c84f_11e9_b08c_99fd4ce8f5a6row4_col2\" class=\"data row4 col2\" >0.548413</td>\n",
       "                        <td id=\"T_4045a4dc_c84f_11e9_b08c_99fd4ce8f5a6row4_col3\" class=\"data row4 col3\" >0.410876</td>\n",
       "                        <td id=\"T_4045a4dc_c84f_11e9_b08c_99fd4ce8f5a6row4_col4\" class=\"data row4 col4\" >1</td>\n",
       "                        <td id=\"T_4045a4dc_c84f_11e9_b08c_99fd4ce8f5a6row4_col5\" class=\"data row4 col5\" >0.0686061</td>\n",
       "            </tr>\n",
       "            <tr>\n",
       "                        <th id=\"T_4045a4dc_c84f_11e9_b08c_99fd4ce8f5a6level0_row5\" class=\"row_heading level0 row5\" >Type</th>\n",
       "                        <td id=\"T_4045a4dc_c84f_11e9_b08c_99fd4ce8f5a6row5_col0\" class=\"data row5 col0\" >0.28115</td>\n",
       "                        <td id=\"T_4045a4dc_c84f_11e9_b08c_99fd4ce8f5a6row5_col1\" class=\"data row5 col1\" >-0.0829994</td>\n",
       "                        <td id=\"T_4045a4dc_c84f_11e9_b08c_99fd4ce8f5a6row5_col2\" class=\"data row5 col2\" >-0.0788005</td>\n",
       "                        <td id=\"T_4045a4dc_c84f_11e9_b08c_99fd4ce8f5a6row5_col3\" class=\"data row5 col3\" >-0.0345086</td>\n",
       "                        <td id=\"T_4045a4dc_c84f_11e9_b08c_99fd4ce8f5a6row5_col4\" class=\"data row5 col4\" >0.0686061</td>\n",
       "                        <td id=\"T_4045a4dc_c84f_11e9_b08c_99fd4ce8f5a6row5_col5\" class=\"data row5 col5\" >1</td>\n",
       "            </tr>\n",
       "    </tbody></table>"
      ],
      "text/plain": [
       "<pandas.io.formats.style.Styler at 0x7f56ec1f2940>"
      ]
     },
     "execution_count": 9,
     "metadata": {},
     "output_type": "execute_result"
    }
   ],
   "source": [
    "dataset.drop(['TCP_CONVERSATION_EXCHANGE','URL_LENGTH','APP_BYTES','SOURCE_APP_PACKETS','REMOTE_APP_PACKETS','SOURCE_APP_BYTES','REMOTE_APP_BYTES'], axis = 1, inplace=True)\n",
    "corr = dataset.corr()\n",
    "corr.style.background_gradient(cmap='coolwarm')"
   ]
  },
  {
   "cell_type": "markdown",
   "metadata": {},
   "source": [
    "That looks a lot better, let's examine the data to see if it's suitable to use in the model."
   ]
  },
  {
   "cell_type": "code",
   "execution_count": 10,
   "metadata": {},
   "outputs": [
    {
     "data": {
      "text/plain": [
       "<matplotlib.axes._subplots.AxesSubplot at 0x7f56e922f470>"
      ]
     },
     "execution_count": 10,
     "metadata": {},
     "output_type": "execute_result"
    },
    {
     "data": {
      "image/png": "[encoded data removed]",
      "text/plain": [
       "<Figure size 432x288 with 1 Axes>"
      ]
     },
     "metadata": {
      "needs_background": "light"
     },
     "output_type": "display_data"
    }
   ],
   "source": [
    "import seaborn as sns\n",
    "sns.distplot(dataset.loc[dataset['Type'] == 1]['NUMBER_SPECIAL_CHARACTERS'], bins = 50, color='red')\n",
    "sns.distplot(dataset.loc[dataset['Type'] == 0]['NUMBER_SPECIAL_CHARACTERS'], bins = 50, color='blue')"
   ]
  },
  {
   "cell_type": "markdown",
   "metadata": {},
   "source": [
    "The red bars are the malicious websites - there are some definite odd spikes there so this looks promising."
   ]
  },
  {
   "cell_type": "code",
   "execution_count": 11,
   "metadata": {},
   "outputs": [
    {
     "data": {
      "text/plain": [
       "<matplotlib.axes._subplots.AxesSubplot at 0x7f56eba56be0>"
      ]
     },
     "execution_count": 11,
     "metadata": {},
     "output_type": "execute_result"
    },
    {
     "data": {
      "image/png": "[encoded data removed]",
      "text/plain": [
       "<Figure size 432x288 with 1 Axes>"
      ]
     },
     "metadata": {
      "needs_background": "light"
     },
     "output_type": "display_data"
    }
   ],
   "source": [
    "sns.distplot(dataset.loc[dataset['Type'] == 1]['DIST_REMOTE_TCP_PORT'], bins = 50, color='red')\n"
   ]
  },
  {
   "cell_type": "code",
   "execution_count": 12,
   "metadata": {},
   "outputs": [
    {
     "data": {
      "text/plain": [
       "<matplotlib.axes._subplots.AxesSubplot at 0x7f56e6fdbe80>"
      ]
     },
     "execution_count": 12,
     "metadata": {},
     "output_type": "execute_result"
    },
    {
     "data": {
      "image/png": "[encoded data removed]",
      "text/plain": [
       "<Figure size 432x288 with 1 Axes>"
      ]
     },
     "metadata": {
      "needs_background": "light"
     },
     "output_type": "display_data"
    }
   ],
   "source": [
    "sns.distplot(dataset.loc[dataset['Type'] == 0]['DIST_REMOTE_TCP_PORT'], bins = 50, color='blue')"
   ]
  },
  {
   "cell_type": "code",
   "execution_count": 13,
   "metadata": {},
   "outputs": [
    {
     "name": "stdout",
     "output_type": "stream",
     "text": [
      "0      763\n",
      "3      151\n",
      "2       75\n",
      "4       67\n",
      "6       60\n",
      "      ... \n",
      "53       1\n",
      "317      1\n",
      "31       1\n",
      "50       1\n",
      "708      1\n",
      "Name: DIST_REMOTE_TCP_PORT, Length: 66, dtype: int64\n"
     ]
    }
   ],
   "source": [
    "print(dataset.loc[dataset['Type'] == 0]['DIST_REMOTE_TCP_PORT'].value_counts())"
   ]
  },
  {
   "cell_type": "code",
   "execution_count": 14,
   "metadata": {},
   "outputs": [
    {
     "name": "stdout",
     "output_type": "stream",
     "text": [
      "0     153\n",
      "1      52\n",
      "5       4\n",
      "4       2\n",
      "18      1\n",
      "12      1\n",
      "11      1\n",
      "8       1\n",
      "2       1\n",
      "Name: DIST_REMOTE_TCP_PORT, dtype: int64\n"
     ]
    }
   ],
   "source": [
    "print(dataset.loc[dataset['Type'] == 1]['DIST_REMOTE_TCP_PORT'].value_counts())"
   ]
  },
  {
   "cell_type": "markdown",
   "metadata": {},
   "source": [
    "Looks like malicious websites generally have don't have a port associated (0 isn't a valid port?) not sure if we can infer anything from this or nor but we'll leave it in for now. It may be worth removing it later and observing the affect on the model."
   ]
  },
  {
   "cell_type": "code",
   "execution_count": 15,
   "metadata": {},
   "outputs": [
    {
     "data": {
      "text/plain": [
       "<matplotlib.axes._subplots.AxesSubplot at 0x7f56e6f086d8>"
      ]
     },
     "execution_count": 15,
     "metadata": {},
     "output_type": "execute_result"
    },
    {
     "data": {
      "image/png": "[encoded data removed]",
      "text/plain": [
       "<Figure size 432x288 with 1 Axes>"
      ]
     },
     "metadata": {
      "needs_background": "light"
     },
     "output_type": "display_data"
    }
   ],
   "source": [
    "sns.distplot(dataset.loc[dataset['Type'] == 1]['REMOTE_IPS'], bins = 50, color='red')\n",
    "sns.distplot(dataset.loc[dataset['Type'] == 0]['REMOTE_IPS'], bins = 50, color='blue')"
   ]
  },
  {
   "cell_type": "markdown",
   "metadata": {},
   "source": [
    "REMOTE_IPS is described as 'this variable has the total number of IPs connected to the honeypot'. Looks like malicious websites have a slightly lower grouping of remote IPs connected than benign."
   ]
  },
  {
   "cell_type": "code",
   "execution_count": 16,
   "metadata": {},
   "outputs": [
    {
     "data": {
      "text/plain": [
       "<matplotlib.axes._subplots.AxesSubplot at 0x7f56e6d6e160>"
      ]
     },
     "execution_count": 16,
     "metadata": {},
     "output_type": "execute_result"
    },
    {
     "data": {
      "image/png": "[encoded data removed]",
      "text/plain": [
       "<Figure size 432x288 with 1 Axes>"
      ]
     },
     "metadata": {
      "needs_background": "light"
     },
     "output_type": "display_data"
    }
   ],
   "source": [
    "sns.distplot(dataset.loc[dataset['Type'] == 1]['APP_PACKETS'], bins = 50, color='red')\n",
    "sns.distplot(dataset.loc[dataset['Type'] == 0]['APP_PACKETS'], bins = 50, color='blue')"
   ]
  },
  {
   "cell_type": "markdown",
   "metadata": {},
   "source": [
    "Hard to infer much from this, looks like there might be an outlier. APP_PACKETS is '...the total number of IP packets generated during the communication between the honeypot and the server'. So a large number of these could be a technical error."
   ]
  },
  {
   "cell_type": "code",
   "execution_count": 17,
   "metadata": {},
   "outputs": [
    {
     "data": {
      "text/plain": [
       "<matplotlib.axes._subplots.AxesSubplot at 0x7f56e6e115c0>"
      ]
     },
     "execution_count": 17,
     "metadata": {},
     "output_type": "execute_result"
    },
    {
     "data": {
      "image/png": "[encoded data removed]",
      "text/plain": [
       "<Figure size 432x288 with 1 Axes>"
      ]
     },
     "metadata": {
      "needs_background": "light"
     },
     "output_type": "display_data"
    }
   ],
   "source": [
    "sns.boxplot(dataset['APP_PACKETS'])"
   ]
  },
  {
   "cell_type": "markdown",
   "metadata": {},
   "source": [
    "Given there's a couple of values definitely way out of the normal range we'll remove these. "
   ]
  },
  {
   "cell_type": "code",
   "execution_count": 18,
   "metadata": {},
   "outputs": [],
   "source": [
    "dataset = dataset[((dataset.APP_PACKETS - dataset.APP_PACKETS.mean()) / dataset.APP_PACKETS.std()).abs() < 3]"
   ]
  },
  {
   "cell_type": "code",
   "execution_count": 19,
   "metadata": {},
   "outputs": [
    {
     "data": {
      "text/plain": [
       "<matplotlib.axes._subplots.AxesSubplot at 0x7f56e6bfc9b0>"
      ]
     },
     "execution_count": 19,
     "metadata": {},
     "output_type": "execute_result"
    },
    {
     "data": {
      "image/png": "[encoded data removed]",
      "text/plain": [
       "<Figure size 432x288 with 1 Axes>"
      ]
     },
     "metadata": {
      "needs_background": "light"
     },
     "output_type": "display_data"
    }
   ],
   "source": [
    "sns.boxplot(dataset['APP_PACKETS'])"
   ]
  },
  {
   "cell_type": "markdown",
   "metadata": {},
   "source": [
    "That looks a lote better. Let's have a look at the histogram again."
   ]
  },
  {
   "cell_type": "code",
   "execution_count": 20,
   "metadata": {},
   "outputs": [
    {
     "data": {
      "text/plain": [
       "<matplotlib.axes._subplots.AxesSubplot at 0x7f56de52bf28>"
      ]
     },
     "execution_count": 20,
     "metadata": {},
     "output_type": "execute_result"
    },
    {
     "data": {
      "image/png": "[encoded data removed]",
      "text/plain": [
       "<Figure size 432x288 with 1 Axes>"
      ]
     },
     "metadata": {
      "needs_background": "light"
     },
     "output_type": "display_data"
    }
   ],
   "source": [
    "sns.distplot(dataset.loc[dataset['Type'] == 1]['APP_PACKETS'], bins = 50, color='red')\n",
    "sns.distplot(dataset.loc[dataset['Type'] == 0]['APP_PACKETS'], bins = 50, color='blue')"
   ]
  },
  {
   "cell_type": "code",
   "execution_count": 21,
   "metadata": {},
   "outputs": [
    {
     "name": "stdout",
     "output_type": "stream",
     "text": [
      "0     153\n",
      "1      52\n",
      "5       4\n",
      "4       2\n",
      "12      1\n",
      "11      1\n",
      "8       1\n",
      "2       1\n",
      "Name: DIST_REMOTE_TCP_PORT, dtype: int64\n"
     ]
    }
   ],
   "source": [
    "print(dataset.loc[dataset['Type'] == 1]['DIST_REMOTE_TCP_PORT'].value_counts())"
   ]
  },
  {
   "cell_type": "code",
   "execution_count": 22,
   "metadata": {},
   "outputs": [
    {
     "name": "stdout",
     "output_type": "stream",
     "text": [
      "0     760\n",
      "3     151\n",
      "2      74\n",
      "4      67\n",
      "6      59\n",
      "     ... \n",
      "59      1\n",
      "60      1\n",
      "67      1\n",
      "73      1\n",
      "31      1\n",
      "Name: DIST_REMOTE_TCP_PORT, Length: 63, dtype: int64\n"
     ]
    }
   ],
   "source": [
    "print(dataset.loc[dataset['Type'] == 0]['DIST_REMOTE_TCP_PORT'].value_counts())"
   ]
  },
  {
   "cell_type": "markdown",
   "metadata": {},
   "source": [
    "Nothing too obvious. Again the spike at 0, these might correlate with the 0 on remote IPs. "
   ]
  },
  {
   "cell_type": "code",
   "execution_count": 23,
   "metadata": {},
   "outputs": [
    {
     "data": {
      "text/plain": [
       "<matplotlib.axes._subplots.AxesSubplot at 0x7f56de39e048>"
      ]
     },
     "execution_count": 23,
     "metadata": {},
     "output_type": "execute_result"
    },
    {
     "data": {
      "image/png": "[encoded data removed]",
      "text/plain": [
       "<Figure size 432x288 with 1 Axes>"
      ]
     },
     "metadata": {
      "needs_background": "light"
     },
     "output_type": "display_data"
    }
   ],
   "source": [
    "sns.distplot(dataset.loc[dataset['Type'] == 1]['DNS_QUERY_TIMES'], bins = 50, color='red')\n",
    "sns.distplot(dataset.loc[dataset['Type'] == 0]['DNS_QUERY_TIMES'], bins = 50, color='blue')"
   ]
  },
  {
   "cell_type": "code",
   "execution_count": 24,
   "metadata": {},
   "outputs": [
    {
     "name": "stdout",
     "output_type": "stream",
     "text": [
      "0.0     974\n",
      "4.0     307\n",
      "6.0     210\n",
      "2.0     137\n",
      "8.0     105\n",
      "10.0     19\n",
      "12.0     12\n",
      "14.0      2\n",
      "9.0       1\n",
      "Name: DNS_QUERY_TIMES, dtype: int64\n"
     ]
    }
   ],
   "source": [
    "print(dataset['DNS_QUERY_TIMES'].value_counts())"
   ]
  },
  {
   "cell_type": "markdown",
   "metadata": {},
   "source": [
    "The graph is slightly misleading - there aren't actually any negative values (thankfully). Again nothing too obvious but we'll leave it our model. "
   ]
  },
  {
   "cell_type": "markdown",
   "metadata": {},
   "source": [
    "## The Model\n",
    "\n",
    "Given our reduced dataset, let's start trying to create a model. We'll start by scaling the data then splitting it into a test and train set. We'll then use a simple logistic regression model to baseline the accuracy then see if we can perform better using a nerual network."
   ]
  },
  {
   "cell_type": "code",
   "execution_count": 25,
   "metadata": {},
   "outputs": [],
   "source": [
    "# Scale data then split\n",
    "from sklearn import preprocessing\n",
    "# Separate into train and test as well as features and predictor\n",
    "X = dataset.drop('Type',axis=1) #Predictors\n",
    "y = dataset['Type']\n",
    "X = preprocessing.scale(X)\n",
    "\n",
    "from sklearn.model_selection import train_test_split\n",
    "X_train, X_test, y_train, y_test = train_test_split(X, y, test_size=0.3, random_state=11)"
   ]
  },
  {
   "cell_type": "code",
   "execution_count": 26,
   "metadata": {},
   "outputs": [],
   "source": [
    "# Method for evaluating results\n",
    "from sklearn.metrics import f1_score\n",
    "from sklearn.metrics import classification_report,confusion_matrix\n",
    "from sklearn.metrics import accuracy_score, precision_score, recall_score\n",
    "def calculateScores(y_test, predictions):\n",
    "    accuracy = 100*accuracy_score(y_test, predictions)\n",
    "    precision = 100*precision_score(y_test, predictions)\n",
    "    recall = 100*recall_score(y_test, predictions)\n",
    "    f1 = 100*f1_score(y_test, predictions)\n",
    "    print (' Accuracy  %.2f%%' % accuracy)\n",
    "    print (' Precision %.2f%%'% precision)\n",
    "    print (' Recall    %.2f%%'% recall)\n",
    "    print (' F1        %.2f%%'% f1)\n",
    "    print('Confusion Matrix')\n",
    "    print(confusion_matrix(y_test,predictions))\n",
    "    return {'Accuracy':accuracy, 'F1': f1}"
   ]
  },
  {
   "cell_type": "code",
   "execution_count": 27,
   "metadata": {},
   "outputs": [
    {
     "name": "stdout",
     "output_type": "stream",
     "text": [
      " Accuracy  86.25%\n",
      " Precision 33.33%\n",
      " Recall    5.80%\n",
      " F1        9.88%\n",
      "Confusion Matrix\n",
      "[[454   8]\n",
      " [ 65   4]]\n"
     ]
    }
   ],
   "source": [
    "from sklearn.linear_model import LogisticRegression\n",
    "reg = LogisticRegression(solver='lbfgs')\n",
    "model = reg.fit(X_train, y_train)\n",
    "predictions = model.predict(X_test)\n",
    "scores = calculateScores(y_test, predictions)"
   ]
  },
  {
   "cell_type": "markdown",
   "metadata": {},
   "source": [
    "So our base model has 86% accueracy, but pretty poor precision and recall. From the confusion matrix we can see that while it's pretty good at predicting benign websites, it's poor at predicting the malicious ones, which makes it pretty useless if we wanted to use it in the real world. \n",
    "\n",
    "Let's see if we can improve this with a neural network. We'll use the standard SciKit learn class, starting off by using all the default values, before attempting to optimise it by adjusting its parameters."
   ]
  },
  {
   "cell_type": "code",
   "execution_count": 28,
   "metadata": {},
   "outputs": [
    {
     "name": "stdout",
     "output_type": "stream",
     "text": [
      " Accuracy  88.32%\n",
      " Precision 61.29%\n",
      " Recall    27.54%\n",
      " F1        38.00%\n",
      "Confusion Matrix\n",
      "[[450  12]\n",
      " [ 50  19]]\n"
     ]
    }
   ],
   "source": [
    "from sklearn.neural_network import MLPClassifier\n",
    "mlp = MLPClassifier(random_state=1)\n",
    "mlp.fit(X_train, y_train)\n",
    "predictions = mlp.predict(X_test)\n",
    "scores = calculateScores(y_test, predictions)"
   ]
  },
  {
   "cell_type": "markdown",
   "metadata": {},
   "source": [
    "Straight away that's a small improvement on the simple model, it is better at classifying the malicious websites, as seen in the confusion matrix and the F1 score.\n",
    "\n",
    "Let's have a play with the parameters to see if this can be improved."
   ]
  },
  {
   "cell_type": "code",
   "execution_count": 29,
   "metadata": {},
   "outputs": [],
   "source": [
    "def predict( X_train, y_train, **kwargs):\n",
    "    mlp = MLPClassifier(**kwargs, random_state=1)\n",
    "    mlp.fit(X_train, y_train)\n",
    "    return mlp.predict(X_test)"
   ]
  },
  {
   "cell_type": "code",
   "execution_count": 30,
   "metadata": {},
   "outputs": [],
   "source": [
    "def calculateScoresNoOutput(y_test, predictions):\n",
    "    accuracy = 100*accuracy_score(y_test, predictions)\n",
    "    precision = 100*precision_score(y_test, predictions)\n",
    "    recall = 100*recall_score(y_test, predictions)\n",
    "    f1 = 100*f1_score(y_test, predictions)\n",
    "    return {'Accuracy':accuracy, 'F1': f1}"
   ]
  },
  {
   "cell_type": "code",
   "execution_count": 31,
   "metadata": {},
   "outputs": [
    {
     "data": {
      "text/html": [
       "<div>\n",
       "<style scoped>\n",
       "    .dataframe tbody tr th:only-of-type {\n",
       "        vertical-align: middle;\n",
       "    }\n",
       "\n",
       "    .dataframe tbody tr th {\n",
       "        vertical-align: top;\n",
       "    }\n",
       "\n",
       "    .dataframe thead th {\n",
       "        text-align: right;\n",
       "    }\n",
       "</style>\n",
       "<table border=\"1\" class=\"dataframe\">\n",
       "  <thead>\n",
       "    <tr style=\"text-align: right;\">\n",
       "      <th></th>\n",
       "      <th>Solver</th>\n",
       "      <th>Accuracy</th>\n",
       "      <th>F1</th>\n",
       "    </tr>\n",
       "  </thead>\n",
       "  <tbody>\n",
       "    <tr>\n",
       "      <th>0</th>\n",
       "      <td>lbfgs</td>\n",
       "      <td>88.700565</td>\n",
       "      <td>52.380952</td>\n",
       "    </tr>\n",
       "    <tr>\n",
       "      <th>1</th>\n",
       "      <td>sgd</td>\n",
       "      <td>87.947269</td>\n",
       "      <td>17.948718</td>\n",
       "    </tr>\n",
       "    <tr>\n",
       "      <th>2</th>\n",
       "      <td>adam</td>\n",
       "      <td>88.323917</td>\n",
       "      <td>38.000000</td>\n",
       "    </tr>\n",
       "  </tbody>\n",
       "</table>\n",
       "</div>"
      ],
      "text/plain": [
       "  Solver   Accuracy         F1\n",
       "0  lbfgs  88.700565  52.380952\n",
       "1    sgd  87.947269  17.948718\n",
       "2   adam  88.323917  38.000000"
      ]
     },
     "execution_count": 31,
     "metadata": {},
     "output_type": "execute_result"
    }
   ],
   "source": [
    "# Let's try the different solvers\n",
    "solvers = ['lbfgs', 'sgd', 'adam']\n",
    "results = []\n",
    "for solver in solvers:\n",
    "    result_dict = calculateScoresNoOutput(y_test, predict(X_train, y_train, solver=solver))\n",
    "    result_dict['Solver'] = solver\n",
    "    results.append(result_dict)\n",
    "df = pd.DataFrame(results, columns = ['Solver','Accuracy', 'F1'])\n",
    "df"
   ]
  },
  {
   "cell_type": "markdown",
   "metadata": {},
   "source": [
    "Looks like the lbfgs solver is the best, with highest accuray and F1 scores. We'll use that from now on. "
   ]
  },
  {
   "cell_type": "code",
   "execution_count": 32,
   "metadata": {},
   "outputs": [],
   "source": [
    "# Generalise attempting different values\n",
    "def try_different_values(values, column_name, X_train, y_train, **kwargs):\n",
    "    results = []\n",
    "    for value in values:\n",
    "        kwargs[column_name] = value\n",
    "        result_dict = calculateScoresNoOutput(y_test, predict(X_train, y_train, **kwargs))\n",
    "        result_dict[column_name] = value\n",
    "        results.append(result_dict)\n",
    "    df = pd.DataFrame(results, columns = [column_name,'Accuracy', 'F1'])\n",
    "    return df"
   ]
  },
  {
   "cell_type": "code",
   "execution_count": 33,
   "metadata": {},
   "outputs": [
    {
     "data": {
      "text/html": [
       "<div>\n",
       "<style scoped>\n",
       "    .dataframe tbody tr th:only-of-type {\n",
       "        vertical-align: middle;\n",
       "    }\n",
       "\n",
       "    .dataframe tbody tr th {\n",
       "        vertical-align: top;\n",
       "    }\n",
       "\n",
       "    .dataframe thead th {\n",
       "        text-align: right;\n",
       "    }\n",
       "</style>\n",
       "<table border=\"1\" class=\"dataframe\">\n",
       "  <thead>\n",
       "    <tr style=\"text-align: right;\">\n",
       "      <th></th>\n",
       "      <th>activation</th>\n",
       "      <th>Accuracy</th>\n",
       "      <th>F1</th>\n",
       "    </tr>\n",
       "  </thead>\n",
       "  <tbody>\n",
       "    <tr>\n",
       "      <th>0</th>\n",
       "      <td>identity</td>\n",
       "      <td>86.440678</td>\n",
       "      <td>16.279070</td>\n",
       "    </tr>\n",
       "    <tr>\n",
       "      <th>1</th>\n",
       "      <td>logistic</td>\n",
       "      <td>90.207156</td>\n",
       "      <td>57.377049</td>\n",
       "    </tr>\n",
       "    <tr>\n",
       "      <th>2</th>\n",
       "      <td>tanh</td>\n",
       "      <td>89.077213</td>\n",
       "      <td>55.384615</td>\n",
       "    </tr>\n",
       "    <tr>\n",
       "      <th>3</th>\n",
       "      <td>relu</td>\n",
       "      <td>88.700565</td>\n",
       "      <td>52.380952</td>\n",
       "    </tr>\n",
       "  </tbody>\n",
       "</table>\n",
       "</div>"
      ],
      "text/plain": [
       "  activation   Accuracy         F1\n",
       "0   identity  86.440678  16.279070\n",
       "1   logistic  90.207156  57.377049\n",
       "2       tanh  89.077213  55.384615\n",
       "3       relu  88.700565  52.380952"
      ]
     },
     "execution_count": 33,
     "metadata": {},
     "output_type": "execute_result"
    }
   ],
   "source": [
    "activations = ['identity', 'logistic', 'tanh', 'relu']\n",
    "try_different_values(activations, 'activation', X_train, y_train, solver='lbfgs')"
   ]
  },
  {
   "cell_type": "markdown",
   "metadata": {},
   "source": [
    "Another improvement using the logistic activation. Let's try adjusting the regularisation"
   ]
  },
  {
   "cell_type": "code",
   "execution_count": 34,
   "metadata": {},
   "outputs": [],
   "source": [
    "alphas = []\n",
    "for i in range(5,40):\n",
    "     alphas.append(1/(2**i))\n",
    "alpha_df = try_different_values(alphas, 'alpha', X_train, y_train, solver='lbfgs', activation='logistic')"
   ]
  },
  {
   "cell_type": "code",
   "execution_count": 35,
   "metadata": {},
   "outputs": [
    {
     "data": {
      "text/plain": [
       "<matplotlib.axes._subplots.AxesSubplot at 0x7f56d6c0e0b8>"
      ]
     },
     "execution_count": 35,
     "metadata": {},
     "output_type": "execute_result"
    },
    {
     "data": {
      "image/png": "[encoded data removed]",
      "text/plain": [
       "<Figure size 432x288 with 1 Axes>"
      ]
     },
     "metadata": {
      "needs_background": "light"
     },
     "output_type": "display_data"
    }
   ],
   "source": [
    "alpha_df.set_index('alpha', inplace=True)\n",
    "alpha_df.plot()"
   ]
  },
  {
   "cell_type": "code",
   "execution_count": 36,
   "metadata": {},
   "outputs": [
    {
     "name": "stdout",
     "output_type": "stream",
     "text": [
      "Accuracy    90.207156\n",
      "F1          56.666667\n",
      "Name: 7.450580596923828e-09, dtype: float64\n",
      "Accuracy    89.453861\n",
      "F1          58.208955\n",
      "Name: 4.76837158203125e-07, dtype: float64\n"
     ]
    }
   ],
   "source": [
    "print(alpha_df.loc[alpha_df['Accuracy'].idxmax()])\n",
    "print(alpha_df.loc[alpha_df['F1'].idxmax()])"
   ]
  },
  {
   "cell_type": "markdown",
   "metadata": {},
   "source": [
    "The regularisation parameter doesn't seem to change much. Let's save it and try the batch size."
   ]
  },
  {
   "cell_type": "code",
   "execution_count": 37,
   "metadata": {},
   "outputs": [],
   "source": [
    "# Store alpha\n",
    "alpha= 4.76837158203125e-07"
   ]
  },
  {
   "cell_type": "code",
   "execution_count": 38,
   "metadata": {},
   "outputs": [],
   "source": [
    "batch_sizes = [2 ** e for e in range(10)]\n",
    "batch_df = try_different_values(batch_sizes, 'batch_size', X_train, y_train, solver='lbfgs', activation='logistic', alpha=alpha)"
   ]
  },
  {
   "cell_type": "code",
   "execution_count": 39,
   "metadata": {},
   "outputs": [
    {
     "data": {
      "text/plain": [
       "<matplotlib.axes._subplots.AxesSubplot at 0x7f56d6b96438>"
      ]
     },
     "execution_count": 39,
     "metadata": {},
     "output_type": "execute_result"
    },
    {
     "data": {
      "image/png": "[encoded data removed]",
      "text/plain": [
       "<Figure size 432x288 with 1 Axes>"
      ]
     },
     "metadata": {
      "needs_background": "light"
     },
     "output_type": "display_data"
    }
   ],
   "source": [
    "batch_df.set_index('batch_size', inplace=True)\n",
    "batch_df.plot()"
   ]
  },
  {
   "cell_type": "markdown",
   "metadata": {},
   "source": [
    "Batch size doesn't seem to be affecting the accuracy - let's move on to the hidden layers. "
   ]
  },
  {
   "cell_type": "code",
   "execution_count": 40,
   "metadata": {},
   "outputs": [],
   "source": [
    "layers = []\n",
    "for i in range (1,25):\n",
    "    layers+= [(i)]\n",
    "layers_df = try_different_values(layers, 'hidden_layer_sizes', X_train, y_train, solver='lbfgs', activation='logistic', alpha=alpha)"
   ]
  },
  {
   "cell_type": "code",
   "execution_count": 41,
   "metadata": {},
   "outputs": [
    {
     "data": {
      "text/plain": [
       "<matplotlib.axes._subplots.AxesSubplot at 0x7f56d6b0bc88>"
      ]
     },
     "execution_count": 41,
     "metadata": {},
     "output_type": "execute_result"
    },
    {
     "data": {
      "image/png": "[encoded data removed]",
      "text/plain": [
       "<Figure size 432x288 with 1 Axes>"
      ]
     },
     "metadata": {
      "needs_background": "light"
     },
     "output_type": "display_data"
    }
   ],
   "source": [
    "layers_df.set_index('hidden_layer_sizes', inplace=True)\n",
    "layers_df.plot()"
   ]
  },
  {
   "cell_type": "code",
   "execution_count": 42,
   "metadata": {},
   "outputs": [
    {
     "name": "stdout",
     "output_type": "stream",
     "text": [
      "Accuracy    90.018832\n",
      "F1          62.937063\n",
      "Name: 5, dtype: float64\n",
      "Accuracy    90.018832\n",
      "F1          62.937063\n",
      "Name: 5, dtype: float64\n"
     ]
    }
   ],
   "source": [
    "print(layers_df.loc[layers_df['Accuracy'].idxmax()])\n",
    "print(layers_df.loc[layers_df['F1'].idxmax()])"
   ]
  },
  {
   "cell_type": "markdown",
   "metadata": {},
   "source": [
    "There's a definite advatage at 5 hidden layers. What if we add a second layer. "
   ]
  },
  {
   "cell_type": "code",
   "execution_count": 43,
   "metadata": {},
   "outputs": [],
   "source": [
    "layers = []\n",
    "for i in range (1,15):\n",
    "    for j in range(1,15):\n",
    "        layers+= [(i,j)]\n",
    "layers_df = try_different_values(layers, 'hidden_layer_sizes', X_train, y_train, solver='lbfgs', activation='logistic', alpha=alpha)"
   ]
  },
  {
   "cell_type": "code",
   "execution_count": 44,
   "metadata": {},
   "outputs": [
    {
     "data": {
      "text/plain": [
       "<matplotlib.axes._subplots.AxesSubplot at 0x7f56d6aeb748>"
      ]
     },
     "execution_count": 44,
     "metadata": {},
     "output_type": "execute_result"
    },
    {
     "data": {
      "image/png": "[encoded data removed]",
      "text/plain": [
       "<Figure size 432x288 with 1 Axes>"
      ]
     },
     "metadata": {
      "needs_background": "light"
     },
     "output_type": "display_data"
    }
   ],
   "source": [
    "layers_df.set_index('hidden_layer_sizes', inplace=True)\n",
    "layers_df.plot()"
   ]
  },
  {
   "cell_type": "code",
   "execution_count": 45,
   "metadata": {},
   "outputs": [
    {
     "name": "stdout",
     "output_type": "stream",
     "text": [
      "   hidden_layer_sizes   Accuracy       F1\n",
      "33             (3, 6)  90.583804  60.9375\n",
      "    hidden_layer_sizes   Accuracy         F1\n",
      "162            (12, 9)  90.583804  62.121212\n"
     ]
    }
   ],
   "source": [
    "#layers_df = layers_df.reset_index()\n",
    "layers_df = layers_df.reset_index()\n",
    "print(layers_df.iloc[[layers_df['Accuracy'].idxmax()]])\n",
    "print(layers_df.iloc[[layers_df['F1'].idxmax()]])"
   ]
  },
  {
   "cell_type": "markdown",
   "metadata": {},
   "source": [
    "So the best result with another hidden layer isn't better than a single hidden layer of size. We'll try a third just to see."
   ]
  },
  {
   "cell_type": "code",
   "execution_count": 46,
   "metadata": {},
   "outputs": [],
   "source": [
    "layers = []\n",
    "for i in range (1,10):\n",
    "    for j in range(1,10):\n",
    "        for k in range (1,10):\n",
    "            layers+= [(i,j,k)]\n",
    "layers_3_df = try_different_values(layers, 'hidden_layer_sizes', X_train, y_train, solver='lbfgs', activation='logistic', alpha=alpha)"
   ]
  },
  {
   "cell_type": "code",
   "execution_count": 47,
   "metadata": {},
   "outputs": [
    {
     "data": {
      "text/plain": [
       "<matplotlib.axes._subplots.AxesSubplot at 0x7f56d6a4d080>"
      ]
     },
     "execution_count": 47,
     "metadata": {},
     "output_type": "execute_result"
    },
    {
     "data": {
      "image/png": "[encoded data removed]",
      "text/plain": [
       "<Figure size 432x288 with 1 Axes>"
      ]
     },
     "metadata": {
      "needs_background": "light"
     },
     "output_type": "display_data"
    }
   ],
   "source": [
    "layers_3_df.set_index('hidden_layer_sizes', inplace=True)\n",
    "layers_3_df.plot()"
   ]
  },
  {
   "cell_type": "code",
   "execution_count": 48,
   "metadata": {},
   "outputs": [
    {
     "name": "stdout",
     "output_type": "stream",
     "text": [
      "    hidden_layer_sizes  Accuracy         F1\n",
      "460          (6, 7, 2)   91.3371  65.151515\n",
      "    hidden_layer_sizes  Accuracy         F1\n",
      "460          (6, 7, 2)   91.3371  65.151515\n"
     ]
    }
   ],
   "source": [
    "layers_3_df = layers_3_df.reset_index()\n",
    "print(layers_3_df.iloc[[layers_3_df['Accuracy'].idxmax()]])\n",
    "print(layers_3_df.iloc[[layers_3_df['F1'].idxmax()]])"
   ]
  },
  {
   "cell_type": "markdown",
   "metadata": {},
   "source": [
    "## Conclusion\n",
    "Looking at the final results. We've got up to 91% accuracy, with an F1 score of 65%. This is qutie good considering the rather naive neural network implementation and lazy data preparation. Whilst not the most complete implementation it does show that a neural network is a viable model for this data. \n",
    "### Future Work\n",
    "A more considered approad to implementing the neural network could be considered i.e. is the lbfgs solver still the best with a three layer hidden network? The data could be better prepared and the categorical data should be included to see if it adds any value. The other issue is that there is not a large amont of data, specifically malicious websites. If more data could be collected it could help the model, and help stop any problems of overfitting.\n",
    "\n"
   ]
  }
 ],
 "metadata": {
  "kernelspec": {
   "display_name": "Python 3",
   "language": "python",
   "name": "python3"
  },
  "language_info": {
   "codemirror_mode": {
    "name": "ipython",
    "version": 3
   },
   "file_extension": ".py",
   "mimetype": "text/x-python",
   "name": "python",
   "nbconvert_exporter": "python",
   "pygments_lexer": "ipython3",
   "version": "3.6.6"
  }
 },
 "nbformat": 4,
 "nbformat_minor": 1
}
