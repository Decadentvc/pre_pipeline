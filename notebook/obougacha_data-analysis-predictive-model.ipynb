{
 "cells": [
  {
   "cell_type": "markdown",
   "execution_count": null,
   "metadata": {},
   "source": [
    "# Data Analysis & Predictive Model Building\n",
    "***\n",
    "#### By Omar BOUGACHA\n",
    "\n"
   ]
  },
  {
   "cell_type": "markdown",
   "execution_count": null,
   "metadata": {},
   "source": [
    "## Introduction\n",
    "***"
   ]
  },
  {
   "cell_type": "code",
   "execution_count": 1,
   "metadata": {
    "_cell_guid": "b1076dfc-b9ad-4769-8c92-a6c4dae69d19",
    "_uuid": "8f2839f25d086af736a60e9eeb907d3b93b6e0e5"
   },
   "outputs": [
    {
     "name": "stdout",
     "output_type": "stream",
     "text": [
      "/kaggle/input/patient-survey-score-with-demographics/pxdata.csv\n"
     ]
    }
   ],
   "source": [
    "import os\n",
    "for dirname, _, filenames in os.walk('/kaggle/input'):\n",
    "    for filename in filenames:\n",
    "        print(os.path.join(dirname, filename))"
   ]
  },
  {
   "cell_type": "code",
   "execution_count": 2,
   "metadata": {},
   "outputs": [],
   "source": [
    "import pandas as pd\n",
    "import numpy as np\n",
    "import matplotlib.pyplot as plt\n",
    "import seaborn as sns\n",
    "base_color = sns.color_palette()[0]"
   ]
  },
  {
   "cell_type": "markdown",
   "execution_count": null,
   "metadata": {},
   "source": [
    "## Data Wrangling"
   ]
  },
  {
   "cell_type": "markdown",
   "execution_count": null,
   "metadata": {},
   "source": [
    "### Data Gathering"
   ]
  },
  {
   "cell_type": "code",
   "execution_count": 3,
   "metadata": {},
   "outputs": [
    {
     "data": {
      "text/html": [
       "<div>\n",
       "<style scoped>\n",
       "    .dataframe tbody tr th:only-of-type {\n",
       "        vertical-align: middle;\n",
       "    }\n",
       "\n",
       "    .dataframe tbody tr th {\n",
       "        vertical-align: top;\n",
       "    }\n",
       "\n",
       "    .dataframe thead th {\n",
       "        text-align: right;\n",
       "    }\n",
       "</style>\n",
       "<table border=\"1\" class=\"dataframe\">\n",
       "  <thead>\n",
       "    <tr style=\"text-align: right;\">\n",
       "      <th></th>\n",
       "      <th>Survey</th>\n",
       "      <th>Composite</th>\n",
       "      <th>Perfect</th>\n",
       "      <th>Rate</th>\n",
       "      <th>Recommend</th>\n",
       "      <th>Date</th>\n",
       "      <th>Health</th>\n",
       "      <th>Mental</th>\n",
       "      <th>College</th>\n",
       "      <th>White</th>\n",
       "      <th>English</th>\n",
       "      <th>Service</th>\n",
       "      <th>Specialty</th>\n",
       "      <th>Unit</th>\n",
       "      <th>Sex</th>\n",
       "      <th>Source</th>\n",
       "      <th>Home</th>\n",
       "      <th>Age</th>\n",
       "      <th>Stay</th>\n",
       "      <th>Visit</th>\n",
       "    </tr>\n",
       "  </thead>\n",
       "  <tbody>\n",
       "    <tr>\n",
       "      <th>0</th>\n",
       "      <td>1</td>\n",
       "      <td>88.888889</td>\n",
       "      <td>0</td>\n",
       "      <td>11</td>\n",
       "      <td>4</td>\n",
       "      <td>12/24/2015</td>\n",
       "      <td>5</td>\n",
       "      <td>5</td>\n",
       "      <td>Y</td>\n",
       "      <td>N</td>\n",
       "      <td>Y</td>\n",
       "      <td>M</td>\n",
       "      <td>39</td>\n",
       "      <td>10</td>\n",
       "      <td>F</td>\n",
       "      <td>D</td>\n",
       "      <td>Y</td>\n",
       "      <td>18-34</td>\n",
       "      <td>2+</td>\n",
       "      <td>0</td>\n",
       "    </tr>\n",
       "    <tr>\n",
       "      <th>1</th>\n",
       "      <td>2</td>\n",
       "      <td>50.000000</td>\n",
       "      <td>0</td>\n",
       "      <td>6</td>\n",
       "      <td>3</td>\n",
       "      <td>1/6/2015</td>\n",
       "      <td>4</td>\n",
       "      <td>4</td>\n",
       "      <td>N</td>\n",
       "      <td>Y</td>\n",
       "      <td>Y</td>\n",
       "      <td>S</td>\n",
       "      <td>39</td>\n",
       "      <td>20</td>\n",
       "      <td>F</td>\n",
       "      <td>D</td>\n",
       "      <td>Y</td>\n",
       "      <td>50-64</td>\n",
       "      <td>2+</td>\n",
       "      <td>0</td>\n",
       "    </tr>\n",
       "  </tbody>\n",
       "</table>\n",
       "</div>"
      ],
      "text/plain": [
       "   Survey  Composite  Perfect  Rate  Recommend        Date  Health  Mental  \\\n",
       "0       1  88.888889        0    11          4  12/24/2015       5       5   \n",
       "1       2  50.000000        0     6          3    1/6/2015       4       4   \n",
       "\n",
       "  College White English Service  Specialty  Unit Sex Source Home    Age Stay  \\\n",
       "0       Y     N       Y       M         39    10   F      D    Y  18-34   2+   \n",
       "1       N     Y       Y       S         39    20   F      D    Y  50-64   2+   \n",
       "\n",
       "   Visit  \n",
       "0      0  \n",
       "1      0  "
      ]
     },
     "execution_count": 3,
     "metadata": {},
     "output_type": "execute_result"
    }
   ],
   "source": [
    "data_df = pd.read_csv('/kaggle/input/patient-survey-score-with-demographics/pxdata.csv')\n",
    "data_df.head(2)"
   ]
  },
  {
   "cell_type": "markdown",
   "execution_count": null,
   "metadata": {},
   "source": [
    "Lets go for the data quality and tidiness assessment."
   ]
  },
  {
   "cell_type": "markdown",
   "execution_count": null,
   "metadata": {},
   "source": [
    "### Data Quality & Tidiness Assessment"
   ]
  },
  {
   "cell_type": "markdown",
   "execution_count": null,
   "metadata": {},
   "source": [
    "#### Data Completness (Missing values)"
   ]
  },
  {
   "cell_type": "code",
   "execution_count": 4,
   "metadata": {},
   "outputs": [
    {
     "data": {
      "text/plain": [
       "Survey       0\n",
       "Composite    0\n",
       "Perfect      0\n",
       "Rate         0\n",
       "Recommend    0\n",
       "Date         0\n",
       "Health       0\n",
       "Mental       0\n",
       "College      0\n",
       "White        0\n",
       "English      0\n",
       "Service      8\n",
       "Specialty    0\n",
       "Unit         0\n",
       "Sex          0\n",
       "Source       0\n",
       "Home         0\n",
       "Age          0\n",
       "Stay         0\n",
       "Visit        0\n",
       "dtype: int64"
      ]
     },
     "execution_count": 4,
     "metadata": {},
     "output_type": "execute_result"
    }
   ],
   "source": [
    "data_df.isnull().sum()"
   ]
  },
  {
   "cell_type": "markdown",
   "execution_count": null,
   "metadata": {},
   "source": [
    "As we can see, all the records are given in this dataset. We do not have any missing values."
   ]
  },
  {
   "cell_type": "markdown",
   "execution_count": null,
   "metadata": {},
   "source": [
    "#### Data Accuracy \n",
    "\n",
    "Accurate data should present the right values in the right format. Since we cannot cross-reference the given values to other sources of data, we only check the right format of the data. "
   ]
  },
  {
   "cell_type": "code",
   "execution_count": 5,
   "metadata": {},
   "outputs": [
    {
     "data": {
      "text/plain": [
       "Survey         int64\n",
       "Composite    float64\n",
       "Perfect        int64\n",
       "Rate           int64\n",
       "Recommend      int64\n",
       "Date          object\n",
       "Health         int64\n",
       "Mental         int64\n",
       "College       object\n",
       "White         object\n",
       "English       object\n",
       "Service       object\n",
       "Specialty      int64\n",
       "Unit           int64\n",
       "Sex           object\n",
       "Source        object\n",
       "Home          object\n",
       "Age           object\n",
       "Stay          object\n",
       "Visit          int64\n",
       "dtype: object"
      ]
     },
     "execution_count": 5,
     "metadata": {},
     "output_type": "execute_result"
    }
   ],
   "source": [
    "data_df.dtypes"
   ]
  },
  {
   "cell_type": "markdown",
   "execution_count": null,
   "metadata": {},
   "source": [
    "As we can see we have some data accuracy issues: \n",
    "* The Date feature should be of type datetime not string. \n",
    "* Perfect, College, White, and English should be of type boolean. \n",
    "* Age and Stay should be categorical"
   ]
  },
  {
   "cell_type": "markdown",
   "execution_count": null,
   "metadata": {},
   "source": [
    "#### Data Consistency: \n",
    "\n",
    "We check for each feature if the data points present different values for the same meaning."
   ]
  },
  {
   "cell_type": "code",
   "execution_count": 6,
   "metadata": {},
   "outputs": [
    {
     "data": {
      "text/plain": [
       "Survey       950\n",
       "Composite    111\n",
       "Perfect        2\n",
       "Rate          11\n",
       "Recommend      4\n",
       "Date         338\n",
       "Health         5\n",
       "Mental         5\n",
       "College        2\n",
       "White          2\n",
       "English        2\n",
       "Service        3\n",
       "Specialty      7\n",
       "Unit          15\n",
       "Sex            2\n",
       "Source         2\n",
       "Home           3\n",
       "Age            6\n",
       "Stay           4\n",
       "Visit          2\n",
       "dtype: int64"
      ]
     },
     "execution_count": 6,
     "metadata": {},
     "output_type": "execute_result"
    }
   ],
   "source": [
    "data_df.nunique()"
   ]
  },
  {
   "cell_type": "code",
   "execution_count": 7,
   "metadata": {},
   "outputs": [
    {
     "data": {
      "text/plain": [
       "0    796\n",
       "1    154\n",
       "Name: Perfect, dtype: int64"
      ]
     },
     "execution_count": 7,
     "metadata": {},
     "output_type": "execute_result"
    }
   ],
   "source": [
    "data_df['Perfect'].value_counts()"
   ]
  },
  {
   "cell_type": "code",
   "execution_count": 8,
   "metadata": {},
   "outputs": [
    {
     "data": {
      "text/plain": [
       "11    462\n",
       "10    216\n",
       "9     148\n",
       "8      50\n",
       "6      23\n",
       "7      19\n",
       "5      11\n",
       "4       9\n",
       "1       8\n",
       "3       2\n",
       "2       2\n",
       "Name: Rate, dtype: int64"
      ]
     },
     "execution_count": 8,
     "metadata": {},
     "output_type": "execute_result"
    }
   ],
   "source": [
    "data_df['Rate'].value_counts()"
   ]
  },
  {
   "cell_type": "code",
   "execution_count": 9,
   "metadata": {},
   "outputs": [
    {
     "data": {
      "text/plain": [
       "4    728\n",
       "3    180\n",
       "2     25\n",
       "1     17\n",
       "Name: Recommend, dtype: int64"
      ]
     },
     "execution_count": 9,
     "metadata": {},
     "output_type": "execute_result"
    }
   ],
   "source": [
    "data_df['Recommend'].value_counts()"
   ]
  },
  {
   "cell_type": "code",
   "execution_count": 10,
   "metadata": {},
   "outputs": [
    {
     "data": {
      "text/plain": [
       "4    314\n",
       "3    282\n",
       "5    176\n",
       "2    140\n",
       "1     38\n",
       "Name: Health, dtype: int64"
      ]
     },
     "execution_count": 10,
     "metadata": {},
     "output_type": "execute_result"
    }
   ],
   "source": [
    "data_df['Health'].value_counts()"
   ]
  },
  {
   "cell_type": "code",
   "execution_count": 11,
   "metadata": {},
   "outputs": [
    {
     "data": {
      "text/plain": [
       "5    365\n",
       "4    318\n",
       "3    197\n",
       "2     63\n",
       "1      7\n",
       "Name: Mental, dtype: int64"
      ]
     },
     "execution_count": 11,
     "metadata": {},
     "output_type": "execute_result"
    }
   ],
   "source": [
    "data_df['Mental'].value_counts()"
   ]
  },
  {
   "cell_type": "code",
   "execution_count": 12,
   "metadata": {},
   "outputs": [
    {
     "data": {
      "text/plain": [
       "Y    626\n",
       "N    324\n",
       "Name: College, dtype: int64"
      ]
     },
     "execution_count": 12,
     "metadata": {},
     "output_type": "execute_result"
    }
   ],
   "source": [
    "data_df['College'].value_counts()"
   ]
  },
  {
   "cell_type": "code",
   "execution_count": 13,
   "metadata": {},
   "outputs": [
    {
     "data": {
      "text/plain": [
       "Y    857\n",
       "N     93\n",
       "Name: White, dtype: int64"
      ]
     },
     "execution_count": 13,
     "metadata": {},
     "output_type": "execute_result"
    }
   ],
   "source": [
    "data_df['White'].value_counts()"
   ]
  },
  {
   "cell_type": "code",
   "execution_count": 14,
   "metadata": {},
   "outputs": [
    {
     "data": {
      "text/plain": [
       "Y    865\n",
       "N     85\n",
       "Name: English, dtype: int64"
      ]
     },
     "execution_count": 14,
     "metadata": {},
     "output_type": "execute_result"
    }
   ],
   "source": [
    "data_df['English'].value_counts()"
   ]
  },
  {
   "cell_type": "code",
   "execution_count": 15,
   "metadata": {},
   "outputs": [
    {
     "data": {
      "text/plain": [
       "M    623\n",
       "S    237\n",
       "O     82\n",
       "Name: Service, dtype: int64"
      ]
     },
     "execution_count": 15,
     "metadata": {},
     "output_type": "execute_result"
    }
   ],
   "source": [
    "data_df['Service'].value_counts()"
   ]
  },
  {
   "cell_type": "code",
   "execution_count": 16,
   "metadata": {},
   "outputs": [
    {
     "data": {
      "text/plain": [
       "1     540\n",
       "39    221\n",
       "2     117\n",
       "8      61\n",
       "15      6\n",
       "54      3\n",
       "5       2\n",
       "Name: Specialty, dtype: int64"
      ]
     },
     "execution_count": 16,
     "metadata": {},
     "output_type": "execute_result"
    }
   ],
   "source": [
    "data_df['Specialty'].value_counts()"
   ]
  },
  {
   "cell_type": "code",
   "execution_count": 17,
   "metadata": {},
   "outputs": [
    {
     "data": {
      "text/plain": [
       "10    210\n",
       "24    132\n",
       "18    117\n",
       "8      99\n",
       "9      96\n",
       "4      89\n",
       "25     77\n",
       "7      70\n",
       "28     27\n",
       "20     10\n",
       "11     10\n",
       "26      7\n",
       "3       3\n",
       "21      2\n",
       "23      1\n",
       "Name: Unit, dtype: int64"
      ]
     },
     "execution_count": 17,
     "metadata": {},
     "output_type": "execute_result"
    }
   ],
   "source": [
    "data_df['Unit'].value_counts()"
   ]
  },
  {
   "cell_type": "code",
   "execution_count": 18,
   "metadata": {},
   "outputs": [
    {
     "data": {
      "text/plain": [
       "T    599\n",
       "D    351\n",
       "Name: Source, dtype: int64"
      ]
     },
     "execution_count": 18,
     "metadata": {},
     "output_type": "execute_result"
    }
   ],
   "source": [
    "data_df['Source'].value_counts()"
   ]
  },
  {
   "cell_type": "code",
   "execution_count": 19,
   "metadata": {},
   "outputs": [
    {
     "data": {
      "text/plain": [
       "Y    589\n",
       "S    326\n",
       "N     35\n",
       "Name: Home, dtype: int64"
      ]
     },
     "execution_count": 19,
     "metadata": {},
     "output_type": "execute_result"
    }
   ],
   "source": [
    "data_df['Home'].value_counts()"
   ]
  },
  {
   "cell_type": "code",
   "execution_count": 20,
   "metadata": {},
   "outputs": [
    {
     "data": {
      "text/plain": [
       "array(['18-34', '50-64', '35-49', '65-79', '80+', '80-90'], dtype=object)"
      ]
     },
     "execution_count": 20,
     "metadata": {},
     "output_type": "execute_result"
    }
   ],
   "source": [
    "data_df['Age'].unique()"
   ]
  },
  {
   "cell_type": "markdown",
   "execution_count": null,
   "metadata": {},
   "source": [
    "We can see in the age values we have two categories that mean the same thing 80+ and 80-90. I believe the 80+ is just a mistyping error. Therefore, it should be fixed to 90+"
   ]
  },
  {
   "cell_type": "code",
   "execution_count": 21,
   "metadata": {},
   "outputs": [
    {
     "data": {
      "text/plain": [
       "array(['2+', '4+', '1', '8+'], dtype=object)"
      ]
     },
     "execution_count": 21,
     "metadata": {},
     "output_type": "execute_result"
    }
   ],
   "source": [
    "data_df['Stay'].unique()"
   ]
  },
  {
   "cell_type": "markdown",
   "execution_count": null,
   "metadata": {},
   "source": [
    "The stay categories should be defined as: '1', '2-3', '4-7', '8+'"
   ]
  },
  {
   "cell_type": "code",
   "execution_count": 22,
   "metadata": {},
   "outputs": [
    {
     "data": {
      "text/plain": [
       "array([0, 1])"
      ]
     },
     "execution_count": 22,
     "metadata": {},
     "output_type": "execute_result"
    }
   ],
   "source": [
    "data_df['Visit'].unique()"
   ]
  },
  {
   "cell_type": "markdown",
   "execution_count": null,
   "metadata": {},
   "source": [
    "### Data Cleaning"
   ]
  },
  {
   "cell_type": "code",
   "execution_count": 23,
   "metadata": {},
   "outputs": [],
   "source": [
    "cleaned_data = data_df.copy()"
   ]
  },
  {
   "cell_type": "markdown",
   "execution_count": null,
   "metadata": {},
   "source": [
    "* The Date feature should be of type datetime not string. \n",
    "\n",
    "##### Define: \n",
    "* convert the type from string to datetime\n",
    "\n",
    "##### Code:"
   ]
  },
  {
   "cell_type": "code",
   "execution_count": 24,
   "metadata": {},
   "outputs": [],
   "source": [
    "cleaned_data['Date'] = pd.to_datetime(cleaned_data['Date'])"
   ]
  },
  {
   "cell_type": "markdown",
   "execution_count": null,
   "metadata": {},
   "source": [
    "##### Test:"
   ]
  },
  {
   "cell_type": "code",
   "execution_count": 25,
   "metadata": {},
   "outputs": [
    {
     "data": {
      "text/plain": [
       "Survey                int64\n",
       "Composite           float64\n",
       "Perfect               int64\n",
       "Rate                  int64\n",
       "Recommend             int64\n",
       "Date         datetime64[ns]\n",
       "Health                int64\n",
       "Mental                int64\n",
       "College              object\n",
       "White                object\n",
       "English              object\n",
       "Service              object\n",
       "Specialty             int64\n",
       "Unit                  int64\n",
       "Sex                  object\n",
       "Source               object\n",
       "Home                 object\n",
       "Age                  object\n",
       "Stay                 object\n",
       "Visit                 int64\n",
       "dtype: object"
      ]
     },
     "execution_count": 25,
     "metadata": {},
     "output_type": "execute_result"
    }
   ],
   "source": [
    "cleaned_data.dtypes"
   ]
  },
  {
   "cell_type": "markdown",
   "execution_count": null,
   "metadata": {},
   "source": [
    "* Perfect, College, White, and English should be of type boolean. \n",
    "\n",
    "##### Define: \n",
    "* convert the type from string to boolean\n",
    "\n",
    "##### Code:"
   ]
  },
  {
   "cell_type": "code",
   "execution_count": 26,
   "metadata": {},
   "outputs": [],
   "source": [
    "cleaned_data['Perfect'] = cleaned_data['Perfect'].apply(lambda x : True if x==1 else False)\n",
    "cleaned_data['College'] = cleaned_data['College'].apply(lambda x : True if x=='Y' else False)\n",
    "cleaned_data['White'] = cleaned_data['White'].apply(lambda x : True if x=='Y' else False)\n",
    "cleaned_data['English'] = cleaned_data['English'].apply(lambda x : True if x=='Y' else False)"
   ]
  },
  {
   "cell_type": "markdown",
   "execution_count": null,
   "metadata": {},
   "source": [
    "##### Test"
   ]
  },
  {
   "cell_type": "code",
   "execution_count": 27,
   "metadata": {},
   "outputs": [
    {
     "data": {
      "text/plain": [
       "Survey                int64\n",
       "Composite           float64\n",
       "Perfect                bool\n",
       "Rate                  int64\n",
       "Recommend             int64\n",
       "Date         datetime64[ns]\n",
       "Health                int64\n",
       "Mental                int64\n",
       "College                bool\n",
       "White                  bool\n",
       "English                bool\n",
       "Service              object\n",
       "Specialty             int64\n",
       "Unit                  int64\n",
       "Sex                  object\n",
       "Source               object\n",
       "Home                 object\n",
       "Age                  object\n",
       "Stay                 object\n",
       "Visit                 int64\n",
       "dtype: object"
      ]
     },
     "execution_count": 27,
     "metadata": {},
     "output_type": "execute_result"
    }
   ],
   "source": [
    "cleaned_data.dtypes"
   ]
  },
  {
   "cell_type": "markdown",
   "execution_count": null,
   "metadata": {},
   "source": [
    "* the Stay categories: \n",
    "\n",
    "##### define: \n",
    "* Change the stay categories to: '1', '2-3', '4-7', '8+'\n",
    "\n",
    "##### Code:"
   ]
  },
  {
   "cell_type": "code",
   "execution_count": 28,
   "metadata": {},
   "outputs": [],
   "source": [
    "cleaned_data['Stay'] = cleaned_data['Stay'].replace({'2+':'2-3', '4+': '4-7'})"
   ]
  },
  {
   "cell_type": "markdown",
   "execution_count": null,
   "metadata": {},
   "source": [
    "##### Test:"
   ]
  },
  {
   "cell_type": "code",
   "execution_count": 29,
   "metadata": {},
   "outputs": [
    {
     "data": {
      "text/plain": [
       "array(['2-3', '4-7', '1', '8+'], dtype=object)"
      ]
     },
     "execution_count": 29,
     "metadata": {},
     "output_type": "execute_result"
    }
   ],
   "source": [
    "cleaned_data['Stay'].unique()"
   ]
  },
  {
   "cell_type": "markdown",
   "execution_count": null,
   "metadata": {},
   "source": [
    "* 80+ and 80-90 category. \n",
    "\n",
    "##### Define: \n",
    "* Change the 80+ category to 90+\n",
    "\n",
    "##### Code: \n"
   ]
  },
  {
   "cell_type": "code",
   "execution_count": 30,
   "metadata": {},
   "outputs": [],
   "source": [
    "cleaned_data['Age'] = cleaned_data[\"Age\"].apply(lambda x: '90+' if x=='80+' else x)"
   ]
  },
  {
   "cell_type": "markdown",
   "execution_count": null,
   "metadata": {},
   "source": [
    "##### Test"
   ]
  },
  {
   "cell_type": "code",
   "execution_count": 31,
   "metadata": {},
   "outputs": [
    {
     "data": {
      "text/plain": [
       "array(['18-34', '50-64', '35-49', '65-79', '90+', '80-90'], dtype=object)"
      ]
     },
     "execution_count": 31,
     "metadata": {},
     "output_type": "execute_result"
    }
   ],
   "source": [
    "cleaned_data['Age'].unique()"
   ]
  },
  {
   "cell_type": "markdown",
   "execution_count": null,
   "metadata": {},
   "source": [
    "* Age should be categorical\n",
    "\n",
    "##### Define:\n",
    "* Change Age to categorical type\n",
    "\n",
    "##### Code:"
   ]
  },
  {
   "cell_type": "code",
   "execution_count": 32,
   "metadata": {},
   "outputs": [],
   "source": [
    "from pandas.api.types import CategoricalDtype\n",
    "age_cat = CategoricalDtype(['18-34', '35-49', '50-64', '65-79', '80-90', '90+'], ordered=True)"
   ]
  },
  {
   "cell_type": "code",
   "execution_count": 33,
   "metadata": {},
   "outputs": [],
   "source": [
    "cleaned_data['Age'] = cleaned_data['Age'].astype(age_cat)"
   ]
  },
  {
   "cell_type": "markdown",
   "execution_count": null,
   "metadata": {},
   "source": [
    "##### Test"
   ]
  },
  {
   "cell_type": "code",
   "execution_count": 34,
   "metadata": {},
   "outputs": [
    {
     "data": {
      "text/plain": [
       "CategoricalDtype(categories=['18-34', '35-49', '50-64', '65-79', '80-90', '90+'], ordered=True)"
      ]
     },
     "execution_count": 34,
     "metadata": {},
     "output_type": "execute_result"
    }
   ],
   "source": [
    "cleaned_data['Age'].dtype"
   ]
  },
  {
   "cell_type": "markdown",
   "execution_count": null,
   "metadata": {},
   "source": [
    "* Stay should be categorical\n",
    "\n",
    "##### Define:\n",
    "* Change Stay type from string to categorical:\n",
    "\n",
    "##### Code:"
   ]
  },
  {
   "cell_type": "code",
   "execution_count": 35,
   "metadata": {},
   "outputs": [],
   "source": [
    "stay_cat = CategoricalDtype(['1', '2-3', '4-7', '8+'], ordered=True)\n",
    "cleaned_data['Stay'] = cleaned_data['Stay'].astype(stay_cat)"
   ]
  },
  {
   "cell_type": "markdown",
   "execution_count": null,
   "metadata": {},
   "source": [
    "##### Test:"
   ]
  },
  {
   "cell_type": "code",
   "execution_count": 36,
   "metadata": {},
   "outputs": [
    {
     "data": {
      "text/plain": [
       "Survey                int64\n",
       "Composite           float64\n",
       "Perfect                bool\n",
       "Rate                  int64\n",
       "Recommend             int64\n",
       "Date         datetime64[ns]\n",
       "Health                int64\n",
       "Mental                int64\n",
       "College                bool\n",
       "White                  bool\n",
       "English                bool\n",
       "Service              object\n",
       "Specialty             int64\n",
       "Unit                  int64\n",
       "Sex                  object\n",
       "Source               object\n",
       "Home                 object\n",
       "Age                category\n",
       "Stay               category\n",
       "Visit                 int64\n",
       "dtype: object"
      ]
     },
     "execution_count": 36,
     "metadata": {},
     "output_type": "execute_result"
    }
   ],
   "source": [
    "cleaned_data.dtypes"
   ]
  },
  {
   "cell_type": "markdown",
   "execution_count": null,
   "metadata": {},
   "source": [
    "## Exploratory Data Analysis"
   ]
  },
  {
   "cell_type": "markdown",
   "execution_count": null,
   "metadata": {},
   "source": [
    "In the EDA process, we continue working using the cleaned_data table to analyze the different relationships between the variables. The EDA process has 3 main components: \n",
    "* Univariate Analysis\n",
    "* Bivariate Analysis \n",
    "* Multivariate Analysis\n",
    "\n",
    "However, in this analysis, we focuse only on univariate and bivariate analysis."
   ]
  },
  {
   "cell_type": "markdown",
   "execution_count": null,
   "metadata": {},
   "source": [
    "### Univariate Analysis"
   ]
  },
  {
   "cell_type": "code",
   "execution_count": 37,
   "metadata": {},
   "outputs": [
    {
     "data": {
      "image/png": "[encoded data removed]",
      "text/plain": [
       "<Figure size 432x288 with 1 Axes>"
      ]
     },
     "metadata": {
      "needs_background": "light"
     },
     "output_type": "display_data"
    }
   ],
   "source": [
    "cleaned_data['Composite'].hist(bins=100)\n",
    "plt.xlabel('Composite')\n",
    "plt.ylabel('Count')\n",
    "plt.show()"
   ]
  },
  {
   "cell_type": "markdown",
   "execution_count": null,
   "metadata": {},
   "source": [
    "We can see that the composite feature is highly skewed to the left."
   ]
  },
  {
   "cell_type": "code",
   "execution_count": 38,
   "metadata": {},
   "outputs": [
    {
     "data": {
      "image/png": "[encoded data removed]",
      "text/plain": [
       "<Figure size 720x720 with 4 Axes>"
      ]
     },
     "metadata": {
      "needs_background": "light"
     },
     "output_type": "display_data"
    }
   ],
   "source": [
    "fig = plt.figure(figsize=(10,10))\n",
    "ax1 = fig.add_subplot(2,2,1)\n",
    "ax2 = fig.add_subplot(2,2,2)\n",
    "ax3 = fig.add_subplot(2,2,3)\n",
    "ax4 = fig.add_subplot(2,2,4)\n",
    "sns.countplot(x='Perfect', data=cleaned_data, ax=ax1, color=base_color)\n",
    "sns.countplot(x='College', data=cleaned_data, ax=ax2, color=base_color)\n",
    "sns.countplot(x='White', data=cleaned_data, ax=ax3, color=base_color)\n",
    "sns.countplot(x='English', data=cleaned_data, ax=ax4, color=base_color)\n",
    "plt.tight_layout()\n",
    "plt.show()"
   ]
  },
  {
   "cell_type": "code",
   "execution_count": 39,
   "metadata": {},
   "outputs": [
    {
     "data": {
      "image/png": "[encoded data removed]",
      "text/plain": [
       "<Figure size 720x360 with 2 Axes>"
      ]
     },
     "metadata": {
      "needs_background": "light"
     },
     "output_type": "display_data"
    }
   ],
   "source": [
    "fig = plt.figure(figsize=(10,5))\n",
    "ax1 = fig.add_subplot(1,2,1)\n",
    "ax2 = fig.add_subplot(1,2,2)\n",
    "sns.countplot(x='Rate', data=cleaned_data, ax=ax1, color=base_color)\n",
    "sns.countplot(x='Recommend', data=cleaned_data, ax=ax2, color=base_color)\n",
    "plt.tight_layout()\n",
    "plt.show()"
   ]
  },
  {
   "cell_type": "code",
   "execution_count": 40,
   "metadata": {},
   "outputs": [
    {
     "data": {
      "image/png": "[encoded data removed]",
      "text/plain": [
       "<Figure size 720x360 with 2 Axes>"
      ]
     },
     "metadata": {
      "needs_background": "light"
     },
     "output_type": "display_data"
    }
   ],
   "source": [
    "fig = plt.figure(figsize=(10,5))\n",
    "ax1 = fig.add_subplot(1,2,1)\n",
    "ax2 = fig.add_subplot(1,2,2)\n",
    "sns.countplot(x='Health', data=cleaned_data, ax=ax1, color=base_color)\n",
    "sns.countplot(x='Mental', data=cleaned_data, ax=ax2, color=base_color)\n",
    "plt.tight_layout()\n",
    "plt.show()"
   ]
  },
  {
   "cell_type": "code",
   "execution_count": 41,
   "metadata": {},
   "outputs": [
    {
     "data": {
      "image/png": "[encoded data removed]",
      "text/plain": [
       "<Figure size 1080x360 with 3 Axes>"
      ]
     },
     "metadata": {
      "needs_background": "light"
     },
     "output_type": "display_data"
    }
   ],
   "source": [
    "fig = plt.figure(figsize=(15,5))\n",
    "ax1 = fig.add_subplot(1,3,1)\n",
    "ax2 = fig.add_subplot(1,3,2)\n",
    "ax3 = fig.add_subplot(1,3,3)\n",
    "sns.countplot(x='Age', data=cleaned_data, ax=ax1, color=base_color)\n",
    "sns.countplot(x='Sex', data=cleaned_data, ax=ax2, color=base_color)\n",
    "sns.countplot(x='Home', data=cleaned_data, ax=ax3, color=base_color)\n",
    "plt.tight_layout()\n",
    "plt.show()"
   ]
  },
  {
   "cell_type": "code",
   "execution_count": 42,
   "metadata": {},
   "outputs": [
    {
     "data": {
      "image/png": "[encoded data removed]",
      "text/plain": [
       "<Figure size 720x360 with 2 Axes>"
      ]
     },
     "metadata": {
      "needs_background": "light"
     },
     "output_type": "display_data"
    }
   ],
   "source": [
    "fig = plt.figure(figsize=(10,5))\n",
    "ax1 = fig.add_subplot(1,2,1)\n",
    "ax2 = fig.add_subplot(1,2,2)\n",
    "sns.countplot(x='Source', data=cleaned_data, ax=ax1, color=base_color)\n",
    "sns.countplot(x='Service', data=cleaned_data, ax=ax2, color=base_color)\n",
    "plt.tight_layout()\n",
    "plt.show()"
   ]
  },
  {
   "cell_type": "code",
   "execution_count": 43,
   "metadata": {},
   "outputs": [
    {
     "data": {
      "image/png": "[encoded data removed]",
      "text/plain": [
       "<Figure size 720x360 with 2 Axes>"
      ]
     },
     "metadata": {
      "needs_background": "light"
     },
     "output_type": "display_data"
    }
   ],
   "source": [
    "fig = plt.figure(figsize=(10,5))\n",
    "ax1 = fig.add_subplot(1,2,1)\n",
    "ax2 = fig.add_subplot(1,2,2)\n",
    "sns.countplot(x='Unit', data=cleaned_data, ax=ax1, color=base_color)\n",
    "sns.countplot(x='Specialty', data=cleaned_data, ax=ax2, color=base_color)\n",
    "plt.tight_layout()\n",
    "plt.show()"
   ]
  },
  {
   "cell_type": "code",
   "execution_count": 44,
   "metadata": {},
   "outputs": [
    {
     "data": {
      "image/png": "[encoded data removed]",
      "text/plain": [
       "<Figure size 720x360 with 2 Axes>"
      ]
     },
     "metadata": {
      "needs_background": "light"
     },
     "output_type": "display_data"
    }
   ],
   "source": [
    "fig = plt.figure(figsize=(10,5))\n",
    "ax1 = fig.add_subplot(1,2,1)\n",
    "ax2 = fig.add_subplot(1,2,2)\n",
    "sns.countplot(x='Stay', data=cleaned_data, ax=ax1, color=base_color)\n",
    "sns.countplot(x='Visit', data=cleaned_data, ax=ax2, color=base_color)\n",
    "plt.tight_layout()\n",
    "plt.show()"
   ]
  },
  {
   "cell_type": "code",
   "execution_count": 45,
   "metadata": {},
   "outputs": [
    {
     "data": {
      "image/png": "[encoded data removed]",
      "text/plain": [
       "<Figure size 432x288 with 1 Axes>"
      ]
     },
     "metadata": {
      "needs_background": "light"
     },
     "output_type": "display_data"
    }
   ],
   "source": [
    "cleaned_data['Date'].hist(bins=100)\n",
    "plt.xlabel('Date')\n",
    "plt.ylabel('Count')\n",
    "plt.show()"
   ]
  },
  {
   "cell_type": "markdown",
   "execution_count": null,
   "metadata": {},
   "source": [
    "This feature of the date allows us to derive other features and to study them. We can most likely derive the month feature and the day of week. "
   ]
  },
  {
   "cell_type": "markdown",
   "execution_count": null,
   "metadata": {},
   "source": [
    "#### Feature Engineering:\n",
    "\n",
    "##### Define: \n",
    "* From Date extract the Month Name\n",
    "* From Date extract the Day-of-Week\n",
    "\n",
    "##### Code: "
   ]
  },
  {
   "cell_type": "code",
   "execution_count": 46,
   "metadata": {},
   "outputs": [],
   "source": [
    "cleaned_data['Month'] = cleaned_data['Date'].apply(lambda x : x.strftime(\"%B\"))"
   ]
  },
  {
   "cell_type": "code",
   "execution_count": 47,
   "metadata": {},
   "outputs": [],
   "source": [
    "cleaned_data['Day_of_Week'] = cleaned_data['Date'].apply(lambda x: x.strftime(\"%A\"))"
   ]
  },
  {
   "cell_type": "markdown",
   "execution_count": null,
   "metadata": {},
   "source": [
    "Lets change them to categorical type:"
   ]
  },
  {
   "cell_type": "code",
   "execution_count": 48,
   "metadata": {},
   "outputs": [],
   "source": [
    "m_cat = CategoricalDtype(['January', 'February', 'March', 'April', 'May', 'June', 'July', \n",
    "                          'August', 'September', 'October', 'November', 'December'], ordered=True)\n",
    "d_w_cat = CategoricalDtype(['Monday', 'Tuesday', 'Wednesday', 'Thursday', 'Friday', \n",
    "                            'Saturday', 'Sunday'], ordered=True)"
   ]
  },
  {
   "cell_type": "code",
   "execution_count": 49,
   "metadata": {},
   "outputs": [],
   "source": [
    "cleaned_data['Month'] = cleaned_data['Month'].astype(m_cat)\n",
    "cleaned_data['Day_of_Week'] = cleaned_data['Day_of_Week'].astype(d_w_cat)"
   ]
  },
  {
   "cell_type": "markdown",
   "execution_count": null,
   "metadata": {},
   "source": [
    "##### Test: "
   ]
  },
  {
   "cell_type": "code",
   "execution_count": 50,
   "metadata": {},
   "outputs": [
    {
     "data": {
      "text/plain": [
       "[December, January, August, May, October, ..., September, March, November, April, June]\n",
       "Length: 12\n",
       "Categories (12, object): [January < February < March < April ... September < October < November < December]"
      ]
     },
     "execution_count": 50,
     "metadata": {},
     "output_type": "execute_result"
    }
   ],
   "source": [
    "cleaned_data['Month'].unique()"
   ]
  },
  {
   "cell_type": "code",
   "execution_count": 51,
   "metadata": {},
   "outputs": [
    {
     "data": {
      "text/plain": [
       "[Thursday, Tuesday, Saturday, Wednesday, Monday, Friday, Sunday]\n",
       "Categories (7, object): [Monday < Tuesday < Wednesday < Thursday < Friday < Saturday < Sunday]"
      ]
     },
     "execution_count": 51,
     "metadata": {},
     "output_type": "execute_result"
    }
   ],
   "source": [
    "cleaned_data['Day_of_Week'].unique()"
   ]
  },
  {
   "cell_type": "markdown",
   "execution_count": null,
   "metadata": {},
   "source": [
    "Lets now plot their bar plot."
   ]
  },
  {
   "cell_type": "code",
   "execution_count": 52,
   "metadata": {},
   "outputs": [
    {
     "data": {
      "image/png": "[encoded data removed]",
      "text/plain": [
       "<Figure size 864x360 with 2 Axes>"
      ]
     },
     "metadata": {
      "needs_background": "light"
     },
     "output_type": "display_data"
    }
   ],
   "source": [
    "fig = plt.figure(figsize=(12,5))\n",
    "ax1 = fig.add_subplot(1,2,1)\n",
    "ax2 = fig.add_subplot(1,2,2)\n",
    "ch1 = sns.countplot(x='Month', data=cleaned_data, ax=ax1, color=base_color)\n",
    "ch1.set_xticklabels(labels = ch1.get_xticklabels(), rotation=45)\n",
    "ch2 = sns.countplot(x='Day_of_Week', data=cleaned_data, ax=ax2, color=base_color)\n",
    "ch2.set_xticklabels(labels = ch2.get_xticklabels(), rotation=45)\n",
    "plt.tight_layout()\n",
    "plt.show()"
   ]
  },
  {
   "cell_type": "markdown",
   "execution_count": null,
   "metadata": {},
   "source": [
    "### Bivariate Analysis"
   ]
  },
  {
   "cell_type": "code",
   "execution_count": 53,
   "metadata": {},
   "outputs": [
    {
     "data": {
      "image/png": "[encoded data removed]",
      "text/plain": [
       "<Figure size 432x288 with 1 Axes>"
      ]
     },
     "metadata": {
      "needs_background": "light"
     },
     "output_type": "display_data"
    }
   ],
   "source": [
    "d_m = cleaned_data[cleaned_data['Sex']=='M']\n",
    "sns.distplot(d_m['Composite'],kde=False, label='Male')\n",
    "d_f = cleaned_data[cleaned_data['Sex']=='F']\n",
    "sns.distplot(d_f['Composite'],kde=False, label='Female')\n",
    "plt.legend(prop={'size': 12})\n",
    "plt.title('Distrubtion of Composite per Gender')\n",
    "plt.xlabel('Composite')\n",
    "plt.ylabel('Count')\n",
    "plt.show()"
   ]
  },
  {
   "cell_type": "code",
   "execution_count": 54,
   "metadata": {},
   "outputs": [
    {
     "data": {
      "image/png": "[encoded data removed]",
      "text/plain": [
       "<Figure size 720x720 with 4 Axes>"
      ]
     },
     "metadata": {
      "needs_background": "light"
     },
     "output_type": "display_data"
    }
   ],
   "source": [
    "fig = plt.figure(figsize=(10,10))\n",
    "ax1 = fig.add_subplot(2,2,1)\n",
    "ax2 = fig.add_subplot(2,2,2)\n",
    "ax3 = fig.add_subplot(2,2,3)\n",
    "ax4 = fig.add_subplot(2,2,4)\n",
    "sns.countplot(x='Perfect', data=cleaned_data, ax=ax1, hue='Sex')\n",
    "sns.countplot(x='College', data=cleaned_data, ax=ax2, hue='Sex')\n",
    "sns.countplot(x='White', data=cleaned_data, ax=ax3, hue='Sex')\n",
    "sns.countplot(x='English', data=cleaned_data, ax=ax4, hue='Sex')\n",
    "plt.tight_layout()\n",
    "plt.show()"
   ]
  },
  {
   "cell_type": "code",
   "execution_count": 55,
   "metadata": {},
   "outputs": [
    {
     "data": {
      "image/png": "[encoded data removed]",
      "text/plain": [
       "<Figure size 720x360 with 2 Axes>"
      ]
     },
     "metadata": {
      "needs_background": "light"
     },
     "output_type": "display_data"
    }
   ],
   "source": [
    "fig = plt.figure(figsize=(10,5))\n",
    "ax1 = fig.add_subplot(1,2,1)\n",
    "ax2 = fig.add_subplot(1,2,2)\n",
    "sns.countplot(x='Rate', data=cleaned_data, ax=ax1, hue='Sex')\n",
    "sns.countplot(x='Recommend', data=cleaned_data, ax=ax2, hue='Sex')\n",
    "plt.tight_layout()\n",
    "plt.show()"
   ]
  },
  {
   "cell_type": "code",
   "execution_count": 56,
   "metadata": {},
   "outputs": [
    {
     "data": {
      "image/png": "[encoded data removed]",
      "text/plain": [
       "<Figure size 432x288 with 1 Axes>"
      ]
     },
     "metadata": {
      "needs_background": "light"
     },
     "output_type": "display_data"
    }
   ],
   "source": [
    "d_m = cleaned_data[cleaned_data['Visit']==0]\n",
    "sns.distplot(d_m['Composite'],kde=False, label='No Visit')\n",
    "d_f = cleaned_data[cleaned_data['Visit']==1]\n",
    "sns.distplot(d_f['Composite'],kde=False, label='Visit')\n",
    "plt.legend(prop={'size': 12})\n",
    "plt.title('Distrubtion of Composite per Visit')\n",
    "plt.xlabel('Composite')\n",
    "plt.ylabel('Count')\n",
    "plt.show()"
   ]
  },
  {
   "cell_type": "code",
   "execution_count": 57,
   "metadata": {},
   "outputs": [
    {
     "data": {
      "image/png": "[encoded data removed]",
      "text/plain": [
       "<Figure size 720x720 with 4 Axes>"
      ]
     },
     "metadata": {
      "needs_background": "light"
     },
     "output_type": "display_data"
    }
   ],
   "source": [
    "fig = plt.figure(figsize=(10,10))\n",
    "ax1 = fig.add_subplot(2,2,1)\n",
    "ax2 = fig.add_subplot(2,2,2)\n",
    "ax3 = fig.add_subplot(2,2,3)\n",
    "ax4 = fig.add_subplot(2,2,4)\n",
    "sns.countplot(x='Perfect', data=cleaned_data, ax=ax1, hue='Visit')\n",
    "sns.countplot(x='College', data=cleaned_data, ax=ax2, hue='Visit')\n",
    "sns.countplot(x='White', data=cleaned_data, ax=ax3, hue='Visit')\n",
    "sns.countplot(x='English', data=cleaned_data, ax=ax4, hue='Visit')\n",
    "plt.tight_layout()\n",
    "plt.show()"
   ]
  },
  {
   "cell_type": "code",
   "execution_count": 58,
   "metadata": {},
   "outputs": [
    {
     "data": {
      "image/png": "[encoded data removed]",
      "text/plain": [
       "<Figure size 720x360 with 2 Axes>"
      ]
     },
     "metadata": {
      "needs_background": "light"
     },
     "output_type": "display_data"
    }
   ],
   "source": [
    "fig = plt.figure(figsize=(10,5))\n",
    "ax1 = fig.add_subplot(1,2,1)\n",
    "ax2 = fig.add_subplot(1,2,2)\n",
    "sns.countplot(x='Rate', data=cleaned_data, ax=ax1, hue='Visit')\n",
    "sns.countplot(x='Recommend', data=cleaned_data, ax=ax2, hue='Visit')\n",
    "plt.tight_layout()\n",
    "plt.show()"
   ]
  },
  {
   "cell_type": "code",
   "execution_count": 59,
   "metadata": {},
   "outputs": [
    {
     "data": {
      "image/png": "[encoded data removed]",
      "text/plain": [
       "<Figure size 1080x360 with 3 Axes>"
      ]
     },
     "metadata": {
      "needs_background": "light"
     },
     "output_type": "display_data"
    }
   ],
   "source": [
    "fig = plt.figure(figsize=(15,5))\n",
    "ax1 = fig.add_subplot(1,3,1)\n",
    "ax2 = fig.add_subplot(1,3,2)\n",
    "ax3 = fig.add_subplot(1,3,3)\n",
    "sns.countplot(x='Age', data=cleaned_data, ax=ax1, hue='Visit')\n",
    "sns.countplot(x='Sex', data=cleaned_data, ax=ax2, hue='Visit')\n",
    "sns.countplot(x='Home', data=cleaned_data, ax=ax3, hue='Visit')\n",
    "plt.tight_layout()\n",
    "plt.show()"
   ]
  },
  {
   "cell_type": "code",
   "execution_count": 60,
   "metadata": {},
   "outputs": [
    {
     "data": {
      "image/png": "[encoded data removed]",
      "text/plain": [
       "<Figure size 762.375x360 with 1 Axes>"
      ]
     },
     "metadata": {
      "needs_background": "light"
     },
     "output_type": "display_data"
    }
   ],
   "source": [
    "sns.catplot(x='Month', data=cleaned_data, kind='count', hue='Visit', aspect=2)\n",
    "plt.show()"
   ]
  },
  {
   "cell_type": "code",
   "execution_count": 61,
   "metadata": {},
   "outputs": [
    {
     "data": {
      "image/png": "[encoded data removed]",
      "text/plain": [
       "<Figure size 474.375x360 with 1 Axes>"
      ]
     },
     "metadata": {
      "needs_background": "light"
     },
     "output_type": "display_data"
    }
   ],
   "source": [
    "sns.catplot(x='Day_of_Week', kind='count', data=cleaned_data, hue='Visit', aspect=1.2)\n",
    "plt.show()"
   ]
  },
  {
   "cell_type": "code",
   "execution_count": 62,
   "metadata": {},
   "outputs": [
    {
     "data": {
      "image/png": "[encoded data removed]",
      "text/plain": [
       "<Figure size 432x360 with 1 Axes>"
      ]
     },
     "metadata": {
      "needs_background": "light"
     },
     "output_type": "display_data"
    }
   ],
   "source": [
    "sns.catplot(x='Day_of_Week', data=cleaned_data, y='Visit', kind='bar', aspect=1.2, ci=None, color=base_color)\n",
    "plt.ylabel('Probability of Visit')\n",
    "plt.show()"
   ]
  },
  {
   "cell_type": "code",
   "execution_count": 63,
   "metadata": {},
   "outputs": [
    {
     "data": {
      "image/png": "[encoded data removed]",
      "text/plain": [
       "<Figure size 432x360 with 1 Axes>"
      ]
     },
     "metadata": {
      "needs_background": "light"
     },
     "output_type": "display_data"
    }
   ],
   "source": [
    "sns.catplot(x='Age', data=cleaned_data, y='Visit', kind='bar', aspect=1.2, ci=None, color=base_color)\n",
    "plt.ylabel('Probability of Visit')\n",
    "plt.show()"
   ]
  },
  {
   "cell_type": "code",
   "execution_count": 64,
   "metadata": {},
   "outputs": [
    {
     "data": {
      "image/png": "[encoded data removed]",
      "text/plain": [
       "<Figure size 288x360 with 1 Axes>"
      ]
     },
     "metadata": {
      "needs_background": "light"
     },
     "output_type": "display_data"
    }
   ],
   "source": [
    "sns.catplot(x='Sex', data=cleaned_data, y='Visit', kind='bar', aspect=0.8, ci=None, color=base_color)\n",
    "plt.ylabel('Probability of Visit')\n",
    "plt.show()"
   ]
  },
  {
   "cell_type": "markdown",
   "execution_count": null,
   "metadata": {},
   "source": [
    "We can see that the gender has an influence on the Visit status. Lets verify if this observation is statistically significant or not. \n",
    "\n",
    "The null hypothesis in this case is that the probablity (ratio) of visit if the gender is Female is the same as the Male: \n",
    "$$H_0: p_{F} = p_{M}$$ \n",
    "\n",
    "The $H_1$ is that the gender has an influence. \n",
    "$$H_1: p_{F} \\neq p_{M}$$"
   ]
  },
  {
   "cell_type": "code",
   "execution_count": 65,
   "metadata": {},
   "outputs": [
    {
     "data": {
      "text/plain": [
       "(-5.837952212106604, 2.6423154439254327e-09)"
      ]
     },
     "execution_count": 65,
     "metadata": {},
     "output_type": "execute_result"
    }
   ],
   "source": [
    "import statsmodels.api as sm\n",
    "female = cleaned_data[cleaned_data['Sex']=='F']\n",
    "male = cleaned_data[cleaned_data['Sex']=='M']\n",
    "counts = np.array([female['Visit'].sum(), \n",
    "                   male['Visit'].sum()])\n",
    "nobs = np.array([female.shape[0], male.shape[0]])\n",
    "zstat, pval = sm.stats.proportions_ztest(counts, nobs, alternative='smaller')\n",
    "zstat, pval"
   ]
  },
  {
   "cell_type": "markdown",
   "execution_count": null,
   "metadata": {},
   "source": [
    "We can see that the p-value is so small (lower than 0.05). Hence, we succeeded in rejecting the null hypothesis. Therefore, **the gender has an influence of the visit outcome**."
   ]
  },
  {
   "cell_type": "code",
   "execution_count": 66,
   "metadata": {},
   "outputs": [
    {
     "data": {
      "image/png": "[encoded data removed]",
      "text/plain": [
       "<Figure size 432x360 with 1 Axes>"
      ]
     },
     "metadata": {
      "needs_background": "light"
     },
     "output_type": "display_data"
    }
   ],
   "source": [
    "sns.catplot(x='Mental', data=cleaned_data, y='Visit', kind='bar', aspect=1.2, ci=None, color=base_color)\n",
    "plt.ylabel('Probability of Visit')\n",
    "plt.show()"
   ]
  },
  {
   "cell_type": "code",
   "execution_count": 67,
   "metadata": {},
   "outputs": [
    {
     "data": {
      "image/png": "[encoded data removed]",
      "text/plain": [
       "<Figure size 288x360 with 1 Axes>"
      ]
     },
     "metadata": {
      "needs_background": "light"
     },
     "output_type": "display_data"
    }
   ],
   "source": [
    "sns.catplot(x='College', data=cleaned_data, y='Visit', kind='bar', aspect=0.8, ci=None, color=base_color)\n",
    "plt.ylabel('Probability of Visit')\n",
    "plt.show()"
   ]
  },
  {
   "cell_type": "markdown",
   "execution_count": null,
   "metadata": {},
   "source": [
    "Lets do the statistical test for this feature also. \n",
    "\n",
    "The null hypothesis in this case is that the probablity (ratio) of visit if the college is True is the same as the False: \n",
    "$$H_0: p_{F} = p_{T}$$ \n",
    "\n",
    "The $H_1$ is that the college has an influence. \n",
    "$$H_1: p_{F} \\neq p_{T}$$"
   ]
  },
  {
   "cell_type": "code",
   "execution_count": 68,
   "metadata": {},
   "outputs": [
    {
     "data": {
      "text/plain": [
       "(-6.784763420415986, 5.81384468644381e-12)"
      ]
     },
     "execution_count": 68,
     "metadata": {},
     "output_type": "execute_result"
    }
   ],
   "source": [
    "collage = cleaned_data[cleaned_data['College']]\n",
    "no_collage = cleaned_data[cleaned_data['College']==False]\n",
    "counts = np.array([collage['Visit'].sum(), \n",
    "                   no_collage['Visit'].sum()])\n",
    "nobs = np.array([collage.shape[0], no_collage.shape[0]])\n",
    "zstat, pval = sm.stats.proportions_ztest(counts, nobs, alternative='smaller')\n",
    "zstat, pval"
   ]
  },
  {
   "cell_type": "markdown",
   "execution_count": null,
   "metadata": {},
   "source": [
    "The obtained p-value is lower than 0.05. Then, we can safely reject the null hypothesis. Therefore, **the college status has an influence over the visit outcome**."
   ]
  },
  {
   "cell_type": "code",
   "execution_count": 69,
   "metadata": {},
   "outputs": [
    {
     "data": {
      "image/png": "[encoded data removed]",
      "text/plain": [
       "<Figure size 288x360 with 1 Axes>"
      ]
     },
     "metadata": {
      "needs_background": "light"
     },
     "output_type": "display_data"
    }
   ],
   "source": [
    "sns.catplot(x='White', data=cleaned_data, y='Visit', kind='bar', aspect=0.8, ci=None, color=base_color)\n",
    "plt.ylabel('Probability of Visit')\n",
    "plt.show()"
   ]
  },
  {
   "cell_type": "markdown",
   "execution_count": null,
   "metadata": {},
   "source": [
    "Lets do the statistical test for this feature also. \n",
    "\n",
    "The null hypothesis in this case is that the probablity (ratio) of visit if the white is True is the same as the False: \n",
    "$$H_0: p_{F} = p_{T}$$ \n",
    "\n",
    "The $H_1$ is that the white has an influence. \n",
    "$$H_1: p_{F} \\neq p_{T}$$"
   ]
  },
  {
   "cell_type": "code",
   "execution_count": 70,
   "metadata": {},
   "outputs": [
    {
     "data": {
      "text/plain": [
       "(0.9436427600534665, 0.8273238832610508)"
      ]
     },
     "execution_count": 70,
     "metadata": {},
     "output_type": "execute_result"
    }
   ],
   "source": [
    "co = cleaned_data[cleaned_data['White']]\n",
    "no = cleaned_data[cleaned_data['White']==False]\n",
    "counts = np.array([co['Visit'].sum(), \n",
    "                   no['Visit'].sum()])\n",
    "nobs = np.array([co.shape[0], no.shape[0]])\n",
    "zstat, pval = sm.stats.proportions_ztest(counts, nobs, alternative='smaller')\n",
    "zstat, pval"
   ]
  },
  {
   "cell_type": "markdown",
   "execution_count": null,
   "metadata": {},
   "source": [
    "We can see that the p-value for this feature is equal to 0.82. Then, $p-value > 0.05$. So we fail to reject the null hypothesis. Hence, **the white or no white does not influence the visit outcome**."
   ]
  },
  {
   "cell_type": "code",
   "execution_count": 71,
   "metadata": {},
   "outputs": [
    {
     "data": {
      "text/html": [
       "<div>\n",
       "<style scoped>\n",
       "    .dataframe tbody tr th:only-of-type {\n",
       "        vertical-align: middle;\n",
       "    }\n",
       "\n",
       "    .dataframe tbody tr th {\n",
       "        vertical-align: top;\n",
       "    }\n",
       "\n",
       "    .dataframe thead th {\n",
       "        text-align: right;\n",
       "    }\n",
       "</style>\n",
       "<table border=\"1\" class=\"dataframe\">\n",
       "  <thead>\n",
       "    <tr style=\"text-align: right;\">\n",
       "      <th></th>\n",
       "      <th>Survey</th>\n",
       "      <th>Composite</th>\n",
       "      <th>Perfect</th>\n",
       "      <th>Rate</th>\n",
       "      <th>Recommend</th>\n",
       "      <th>Health</th>\n",
       "      <th>Mental</th>\n",
       "      <th>College</th>\n",
       "      <th>White</th>\n",
       "      <th>English</th>\n",
       "      <th>Specialty</th>\n",
       "      <th>Unit</th>\n",
       "      <th>Visit</th>\n",
       "    </tr>\n",
       "  </thead>\n",
       "  <tbody>\n",
       "    <tr>\n",
       "      <th>Survey</th>\n",
       "      <td>1.000000</td>\n",
       "      <td>-0.130091</td>\n",
       "      <td>-0.086734</td>\n",
       "      <td>-0.049551</td>\n",
       "      <td>-0.077368</td>\n",
       "      <td>-0.338575</td>\n",
       "      <td>-0.189398</td>\n",
       "      <td>-0.197478</td>\n",
       "      <td>0.037386</td>\n",
       "      <td>0.023688</td>\n",
       "      <td>-0.539227</td>\n",
       "      <td>0.211268</td>\n",
       "      <td>0.270656</td>\n",
       "    </tr>\n",
       "    <tr>\n",
       "      <th>Composite</th>\n",
       "      <td>-0.130091</td>\n",
       "      <td>1.000000</td>\n",
       "      <td>0.486817</td>\n",
       "      <td>0.667853</td>\n",
       "      <td>0.668381</td>\n",
       "      <td>0.304673</td>\n",
       "      <td>0.286247</td>\n",
       "      <td>0.064606</td>\n",
       "      <td>-0.026486</td>\n",
       "      <td>-0.032156</td>\n",
       "      <td>0.180980</td>\n",
       "      <td>-0.187392</td>\n",
       "      <td>-0.161704</td>\n",
       "    </tr>\n",
       "    <tr>\n",
       "      <th>Perfect</th>\n",
       "      <td>-0.086734</td>\n",
       "      <td>0.486817</td>\n",
       "      <td>1.000000</td>\n",
       "      <td>0.258999</td>\n",
       "      <td>0.214381</td>\n",
       "      <td>0.194182</td>\n",
       "      <td>0.141524</td>\n",
       "      <td>-0.014929</td>\n",
       "      <td>-0.028105</td>\n",
       "      <td>-0.032232</td>\n",
       "      <td>0.109630</td>\n",
       "      <td>-0.085911</td>\n",
       "      <td>-0.073111</td>\n",
       "    </tr>\n",
       "    <tr>\n",
       "      <th>Rate</th>\n",
       "      <td>-0.049551</td>\n",
       "      <td>0.667853</td>\n",
       "      <td>0.258999</td>\n",
       "      <td>1.000000</td>\n",
       "      <td>0.750540</td>\n",
       "      <td>0.197541</td>\n",
       "      <td>0.196124</td>\n",
       "      <td>-0.038537</td>\n",
       "      <td>-0.033618</td>\n",
       "      <td>-0.034509</td>\n",
       "      <td>0.039644</td>\n",
       "      <td>-0.107829</td>\n",
       "      <td>-0.088462</td>\n",
       "    </tr>\n",
       "    <tr>\n",
       "      <th>Recommend</th>\n",
       "      <td>-0.077368</td>\n",
       "      <td>0.668381</td>\n",
       "      <td>0.214381</td>\n",
       "      <td>0.750540</td>\n",
       "      <td>1.000000</td>\n",
       "      <td>0.237462</td>\n",
       "      <td>0.213459</td>\n",
       "      <td>0.055483</td>\n",
       "      <td>-0.020478</td>\n",
       "      <td>-0.019094</td>\n",
       "      <td>0.117063</td>\n",
       "      <td>-0.128136</td>\n",
       "      <td>-0.113022</td>\n",
       "    </tr>\n",
       "    <tr>\n",
       "      <th>Health</th>\n",
       "      <td>-0.338575</td>\n",
       "      <td>0.304673</td>\n",
       "      <td>0.194182</td>\n",
       "      <td>0.197541</td>\n",
       "      <td>0.237462</td>\n",
       "      <td>1.000000</td>\n",
       "      <td>0.568119</td>\n",
       "      <td>0.288219</td>\n",
       "      <td>-0.075647</td>\n",
       "      <td>-0.064309</td>\n",
       "      <td>0.455834</td>\n",
       "      <td>-0.240402</td>\n",
       "      <td>-0.318065</td>\n",
       "    </tr>\n",
       "    <tr>\n",
       "      <th>Mental</th>\n",
       "      <td>-0.189398</td>\n",
       "      <td>0.286247</td>\n",
       "      <td>0.141524</td>\n",
       "      <td>0.196124</td>\n",
       "      <td>0.213459</td>\n",
       "      <td>0.568119</td>\n",
       "      <td>1.000000</td>\n",
       "      <td>0.182993</td>\n",
       "      <td>-0.066171</td>\n",
       "      <td>-0.038858</td>\n",
       "      <td>0.214903</td>\n",
       "      <td>-0.117784</td>\n",
       "      <td>-0.184966</td>\n",
       "    </tr>\n",
       "    <tr>\n",
       "      <th>College</th>\n",
       "      <td>-0.197478</td>\n",
       "      <td>0.064606</td>\n",
       "      <td>-0.014929</td>\n",
       "      <td>-0.038537</td>\n",
       "      <td>0.055483</td>\n",
       "      <td>0.288219</td>\n",
       "      <td>0.182993</td>\n",
       "      <td>1.000000</td>\n",
       "      <td>0.009580</td>\n",
       "      <td>0.038979</td>\n",
       "      <td>0.346085</td>\n",
       "      <td>-0.133505</td>\n",
       "      <td>-0.220127</td>\n",
       "    </tr>\n",
       "    <tr>\n",
       "      <th>White</th>\n",
       "      <td>0.037386</td>\n",
       "      <td>-0.026486</td>\n",
       "      <td>-0.028105</td>\n",
       "      <td>-0.033618</td>\n",
       "      <td>-0.020478</td>\n",
       "      <td>-0.075647</td>\n",
       "      <td>-0.066171</td>\n",
       "      <td>0.009580</td>\n",
       "      <td>1.000000</td>\n",
       "      <td>0.728210</td>\n",
       "      <td>-0.022607</td>\n",
       "      <td>-0.006775</td>\n",
       "      <td>0.030616</td>\n",
       "    </tr>\n",
       "    <tr>\n",
       "      <th>English</th>\n",
       "      <td>0.023688</td>\n",
       "      <td>-0.032156</td>\n",
       "      <td>-0.032232</td>\n",
       "      <td>-0.034509</td>\n",
       "      <td>-0.019094</td>\n",
       "      <td>-0.064309</td>\n",
       "      <td>-0.038858</td>\n",
       "      <td>0.038979</td>\n",
       "      <td>0.728210</td>\n",
       "      <td>1.000000</td>\n",
       "      <td>-0.025017</td>\n",
       "      <td>0.017805</td>\n",
       "      <td>0.002694</td>\n",
       "    </tr>\n",
       "    <tr>\n",
       "      <th>Specialty</th>\n",
       "      <td>-0.539227</td>\n",
       "      <td>0.180980</td>\n",
       "      <td>0.109630</td>\n",
       "      <td>0.039644</td>\n",
       "      <td>0.117063</td>\n",
       "      <td>0.455834</td>\n",
       "      <td>0.214903</td>\n",
       "      <td>0.346085</td>\n",
       "      <td>-0.022607</td>\n",
       "      <td>-0.025017</td>\n",
       "      <td>1.000000</td>\n",
       "      <td>-0.312367</td>\n",
       "      <td>-0.346278</td>\n",
       "    </tr>\n",
       "    <tr>\n",
       "      <th>Unit</th>\n",
       "      <td>0.211268</td>\n",
       "      <td>-0.187392</td>\n",
       "      <td>-0.085911</td>\n",
       "      <td>-0.107829</td>\n",
       "      <td>-0.128136</td>\n",
       "      <td>-0.240402</td>\n",
       "      <td>-0.117784</td>\n",
       "      <td>-0.133505</td>\n",
       "      <td>-0.006775</td>\n",
       "      <td>0.017805</td>\n",
       "      <td>-0.312367</td>\n",
       "      <td>1.000000</td>\n",
       "      <td>0.178852</td>\n",
       "    </tr>\n",
       "    <tr>\n",
       "      <th>Visit</th>\n",
       "      <td>0.270656</td>\n",
       "      <td>-0.161704</td>\n",
       "      <td>-0.073111</td>\n",
       "      <td>-0.088462</td>\n",
       "      <td>-0.113022</td>\n",
       "      <td>-0.318065</td>\n",
       "      <td>-0.184966</td>\n",
       "      <td>-0.220127</td>\n",
       "      <td>0.030616</td>\n",
       "      <td>0.002694</td>\n",
       "      <td>-0.346278</td>\n",
       "      <td>0.178852</td>\n",
       "      <td>1.000000</td>\n",
       "    </tr>\n",
       "  </tbody>\n",
       "</table>\n",
       "</div>"
      ],
      "text/plain": [
       "             Survey  Composite   Perfect      Rate  Recommend    Health  \\\n",
       "Survey     1.000000  -0.130091 -0.086734 -0.049551  -0.077368 -0.338575   \n",
       "Composite -0.130091   1.000000  0.486817  0.667853   0.668381  0.304673   \n",
       "Perfect   -0.086734   0.486817  1.000000  0.258999   0.214381  0.194182   \n",
       "Rate      -0.049551   0.667853  0.258999  1.000000   0.750540  0.197541   \n",
       "Recommend -0.077368   0.668381  0.214381  0.750540   1.000000  0.237462   \n",
       "Health    -0.338575   0.304673  0.194182  0.197541   0.237462  1.000000   \n",
       "Mental    -0.189398   0.286247  0.141524  0.196124   0.213459  0.568119   \n",
       "College   -0.197478   0.064606 -0.014929 -0.038537   0.055483  0.288219   \n",
       "White      0.037386  -0.026486 -0.028105 -0.033618  -0.020478 -0.075647   \n",
       "English    0.023688  -0.032156 -0.032232 -0.034509  -0.019094 -0.064309   \n",
       "Specialty -0.539227   0.180980  0.109630  0.039644   0.117063  0.455834   \n",
       "Unit       0.211268  -0.187392 -0.085911 -0.107829  -0.128136 -0.240402   \n",
       "Visit      0.270656  -0.161704 -0.073111 -0.088462  -0.113022 -0.318065   \n",
       "\n",
       "             Mental   College     White   English  Specialty      Unit  \\\n",
       "Survey    -0.189398 -0.197478  0.037386  0.023688  -0.539227  0.211268   \n",
       "Composite  0.286247  0.064606 -0.026486 -0.032156   0.180980 -0.187392   \n",
       "Perfect    0.141524 -0.014929 -0.028105 -0.032232   0.109630 -0.085911   \n",
       "Rate       0.196124 -0.038537 -0.033618 -0.034509   0.039644 -0.107829   \n",
       "Recommend  0.213459  0.055483 -0.020478 -0.019094   0.117063 -0.128136   \n",
       "Health     0.568119  0.288219 -0.075647 -0.064309   0.455834 -0.240402   \n",
       "Mental     1.000000  0.182993 -0.066171 -0.038858   0.214903 -0.117784   \n",
       "College    0.182993  1.000000  0.009580  0.038979   0.346085 -0.133505   \n",
       "White     -0.066171  0.009580  1.000000  0.728210  -0.022607 -0.006775   \n",
       "English   -0.038858  0.038979  0.728210  1.000000  -0.025017  0.017805   \n",
       "Specialty  0.214903  0.346085 -0.022607 -0.025017   1.000000 -0.312367   \n",
       "Unit      -0.117784 -0.133505 -0.006775  0.017805  -0.312367  1.000000   \n",
       "Visit     -0.184966 -0.220127  0.030616  0.002694  -0.346278  0.178852   \n",
       "\n",
       "              Visit  \n",
       "Survey     0.270656  \n",
       "Composite -0.161704  \n",
       "Perfect   -0.073111  \n",
       "Rate      -0.088462  \n",
       "Recommend -0.113022  \n",
       "Health    -0.318065  \n",
       "Mental    -0.184966  \n",
       "College   -0.220127  \n",
       "White      0.030616  \n",
       "English    0.002694  \n",
       "Specialty -0.346278  \n",
       "Unit       0.178852  \n",
       "Visit      1.000000  "
      ]
     },
     "execution_count": 71,
     "metadata": {},
     "output_type": "execute_result"
    }
   ],
   "source": [
    "cleaned_data.corr()"
   ]
  },
  {
   "cell_type": "code",
   "execution_count": 72,
   "metadata": {},
   "outputs": [
    {
     "data": {
      "image/png": "[encoded data removed]",
      "text/plain": [
       "<Figure size 720x720 with 2 Axes>"
      ]
     },
     "metadata": {
      "needs_background": "light"
     },
     "output_type": "display_data"
    }
   ],
   "source": [
    "fig = plt.figure(figsize=(10,10))\n",
    "ax = fig.add_subplot(1,1,1)\n",
    "sns.heatmap(cleaned_data.corr(), ax=ax);"
   ]
  },
  {
   "cell_type": "markdown",
   "execution_count": null,
   "metadata": {},
   "source": [
    "We can see from the correlation heatmap and the matrix that we have two highly correlated couple of features: \n",
    "* the Rate and Recommend\n",
    "* the White and English"
   ]
  },
  {
   "cell_type": "markdown",
   "execution_count": null,
   "metadata": {},
   "source": [
    "## Modeling:\n",
    "*********"
   ]
  },
  {
   "cell_type": "markdown",
   "execution_count": null,
   "metadata": {},
   "source": [
    "In this project, we suppose that we want to build a model that is able to predict the visit outcome. Hence, we have a binary classification problem. The features, in this work, come in different types (categorical, integer, boolean, and float). Therefore, we should start by preparing the data for the model building. "
   ]
  },
  {
   "cell_type": "markdown",
   "execution_count": null,
   "metadata": {},
   "source": [
    "### Data Preparation:"
   ]
  },
  {
   "cell_type": "code",
   "execution_count": 73,
   "metadata": {},
   "outputs": [],
   "source": [
    "y = cleaned_data['Visit']\n",
    "X = cleaned_data[[x for x in cleaned_data.columns if x not in ['Survey', 'Visit', 'Date']]]"
   ]
  },
  {
   "cell_type": "markdown",
   "execution_count": null,
   "metadata": {},
   "source": [
    "* Transforming the boolean columns into binary (0,1)"
   ]
  },
  {
   "cell_type": "code",
   "execution_count": 74,
   "metadata": {},
   "outputs": [
    {
     "name": "stderr",
     "output_type": "stream",
     "text": [
      "/opt/conda/lib/python3.7/site-packages/ipykernel_launcher.py:1: SettingWithCopyWarning: \n",
      "A value is trying to be set on a copy of a slice from a DataFrame.\n",
      "Try using .loc[row_indexer,col_indexer] = value instead\n",
      "\n",
      "See the caveats in the documentation: https://pandas.pydata.org/pandas-docs/stable/user_guide/indexing.html#returning-a-view-versus-a-copy\n",
      "  \"\"\"Entry point for launching an IPython kernel.\n",
      "/opt/conda/lib/python3.7/site-packages/ipykernel_launcher.py:2: SettingWithCopyWarning: \n",
      "A value is trying to be set on a copy of a slice from a DataFrame.\n",
      "Try using .loc[row_indexer,col_indexer] = value instead\n",
      "\n",
      "See the caveats in the documentation: https://pandas.pydata.org/pandas-docs/stable/user_guide/indexing.html#returning-a-view-versus-a-copy\n",
      "  \n",
      "/opt/conda/lib/python3.7/site-packages/ipykernel_launcher.py:3: SettingWithCopyWarning: \n",
      "A value is trying to be set on a copy of a slice from a DataFrame.\n",
      "Try using .loc[row_indexer,col_indexer] = value instead\n",
      "\n",
      "See the caveats in the documentation: https://pandas.pydata.org/pandas-docs/stable/user_guide/indexing.html#returning-a-view-versus-a-copy\n",
      "  This is separate from the ipykernel package so we can avoid doing imports until\n",
      "/opt/conda/lib/python3.7/site-packages/ipykernel_launcher.py:4: SettingWithCopyWarning: \n",
      "A value is trying to be set on a copy of a slice from a DataFrame.\n",
      "Try using .loc[row_indexer,col_indexer] = value instead\n",
      "\n",
      "See the caveats in the documentation: https://pandas.pydata.org/pandas-docs/stable/user_guide/indexing.html#returning-a-view-versus-a-copy\n",
      "  after removing the cwd from sys.path.\n"
     ]
    }
   ],
   "source": [
    "X['White'] = X['White'].astype('int32')\n",
    "X['College'] = X['College'].astype('int32')\n",
    "X['English'] = X['English'].astype('int32')\n",
    "X['Perfect'] = X['Perfect'].astype('int32')"
   ]
  },
  {
   "cell_type": "markdown",
   "execution_count": null,
   "metadata": {},
   "source": [
    "* Transforming Sex to binary (0 for F, 1 for M)"
   ]
  },
  {
   "cell_type": "code",
   "execution_count": 75,
   "metadata": {},
   "outputs": [
    {
     "name": "stderr",
     "output_type": "stream",
     "text": [
      "/opt/conda/lib/python3.7/site-packages/ipykernel_launcher.py:1: SettingWithCopyWarning: \n",
      "A value is trying to be set on a copy of a slice from a DataFrame.\n",
      "Try using .loc[row_indexer,col_indexer] = value instead\n",
      "\n",
      "See the caveats in the documentation: https://pandas.pydata.org/pandas-docs/stable/user_guide/indexing.html#returning-a-view-versus-a-copy\n",
      "  \"\"\"Entry point for launching an IPython kernel.\n"
     ]
    }
   ],
   "source": [
    "X['Sex'] = X['Sex'].replace({'F':0, 'M':1})"
   ]
  },
  {
   "cell_type": "markdown",
   "execution_count": null,
   "metadata": {},
   "source": [
    "* Transfroming Source to binary (0 for T and 1 for D)"
   ]
  },
  {
   "cell_type": "code",
   "execution_count": 76,
   "metadata": {},
   "outputs": [
    {
     "name": "stderr",
     "output_type": "stream",
     "text": [
      "/opt/conda/lib/python3.7/site-packages/ipykernel_launcher.py:1: SettingWithCopyWarning: \n",
      "A value is trying to be set on a copy of a slice from a DataFrame.\n",
      "Try using .loc[row_indexer,col_indexer] = value instead\n",
      "\n",
      "See the caveats in the documentation: https://pandas.pydata.org/pandas-docs/stable/user_guide/indexing.html#returning-a-view-versus-a-copy\n",
      "  \"\"\"Entry point for launching an IPython kernel.\n"
     ]
    }
   ],
   "source": [
    "X['Source'] = X['Source'].replace({'D':1,'T':0})"
   ]
  },
  {
   "cell_type": "markdown",
   "execution_count": null,
   "metadata": {},
   "source": [
    "* Get dummies for features: Service, Home, Specialty, and Unit. \n",
    "* Define baseline for each feature. \n",
    "    * Feature Service baseline is: O\n",
    "    * Feature Home baseline is: Y\n",
    "    * Feature Specialty baseline is: 1\n",
    "    * Feature Unit baseline is: 3"
   ]
  },
  {
   "cell_type": "code",
   "execution_count": 77,
   "metadata": {},
   "outputs": [],
   "source": [
    "X = pd.get_dummies(X, columns=['Service', 'Home', 'Specialty', 'Unit'])"
   ]
  },
  {
   "cell_type": "code",
   "execution_count": 78,
   "metadata": {},
   "outputs": [
    {
     "data": {
      "text/plain": [
       "Index(['Composite', 'Perfect', 'Rate', 'Recommend', 'Health', 'Mental',\n",
       "       'College', 'White', 'English', 'Sex', 'Source', 'Age', 'Stay', 'Month',\n",
       "       'Day_of_Week', 'Service_M', 'Service_O', 'Service_S', 'Home_N',\n",
       "       'Home_S', 'Home_Y', 'Specialty_1', 'Specialty_2', 'Specialty_5',\n",
       "       'Specialty_8', 'Specialty_15', 'Specialty_39', 'Specialty_54', 'Unit_3',\n",
       "       'Unit_4', 'Unit_7', 'Unit_8', 'Unit_9', 'Unit_10', 'Unit_11', 'Unit_18',\n",
       "       'Unit_20', 'Unit_21', 'Unit_23', 'Unit_24', 'Unit_25', 'Unit_26',\n",
       "       'Unit_28'],\n",
       "      dtype='object')"
      ]
     },
     "execution_count": 78,
     "metadata": {},
     "output_type": "execute_result"
    }
   ],
   "source": [
    "X.columns"
   ]
  },
  {
   "cell_type": "code",
   "execution_count": 79,
   "metadata": {},
   "outputs": [],
   "source": [
    "X.drop(['Service_O', 'Home_Y', 'Specialty_1', 'Unit_3'], axis=1, inplace=True)"
   ]
  },
  {
   "cell_type": "markdown",
   "execution_count": null,
   "metadata": {},
   "source": [
    "* Convert Month, Day_of_Week, Age, and Stay caterogies to numeric"
   ]
  },
  {
   "cell_type": "code",
   "execution_count": 80,
   "metadata": {},
   "outputs": [],
   "source": [
    "X['Month'] = X['Month'].replace({'January':0, 'February':1, 'March':2, 'April':3, 'May':4, 'June':5, 'July':6, \n",
    "                                 'August':7, 'September':8, 'October':9, 'November':10, 'December':11})\n",
    "X['Day_of_Week'] = X['Day_of_Week'].replace({'Monday':0, 'Tuesday':1, 'Wednesday':2, 'Thursday':3, 'Friday':4, \n",
    "                                             'Saturday':5, 'Sunday':6})\n",
    "X['Age'] = X['Age'].replace({'18-34':0, '35-49':1, '50-64':2, '65-79':3, '80-90':4, '90+':5})\n",
    "X['Stay'] = X['Stay'].replace({'1':0, '2-3':1, '4-7':2, '8+':3})"
   ]
  },
  {
   "cell_type": "code",
   "execution_count": 81,
   "metadata": {},
   "outputs": [
    {
     "data": {
      "text/plain": [
       "Composite       float64\n",
       "Perfect           int32\n",
       "Rate              int64\n",
       "Recommend         int64\n",
       "Health            int64\n",
       "Mental            int64\n",
       "College           int32\n",
       "White             int32\n",
       "English           int32\n",
       "Sex               int64\n",
       "Source            int64\n",
       "Age               int64\n",
       "Stay              int64\n",
       "Month             int64\n",
       "Day_of_Week       int64\n",
       "Service_M         uint8\n",
       "Service_S         uint8\n",
       "Home_N            uint8\n",
       "Home_S            uint8\n",
       "Specialty_2       uint8\n",
       "Specialty_5       uint8\n",
       "Specialty_8       uint8\n",
       "Specialty_15      uint8\n",
       "Specialty_39      uint8\n",
       "Specialty_54      uint8\n",
       "Unit_4            uint8\n",
       "Unit_7            uint8\n",
       "Unit_8            uint8\n",
       "Unit_9            uint8\n",
       "Unit_10           uint8\n",
       "Unit_11           uint8\n",
       "Unit_18           uint8\n",
       "Unit_20           uint8\n",
       "Unit_21           uint8\n",
       "Unit_23           uint8\n",
       "Unit_24           uint8\n",
       "Unit_25           uint8\n",
       "Unit_26           uint8\n",
       "Unit_28           uint8\n",
       "dtype: object"
      ]
     },
     "execution_count": 81,
     "metadata": {},
     "output_type": "execute_result"
    }
   ],
   "source": [
    "X.dtypes"
   ]
  },
  {
   "cell_type": "markdown",
   "execution_count": null,
   "metadata": {},
   "source": [
    "### Methodology:\n",
    "\n",
    "To assess the performance of the models, we divide the dataset into two parts train and test. The train part is used to fit the models we are going to build and then we use the model to predict the outcome of the test part. Then, the built models should be compared to select the best model. In this application, we use the accuracy, precision, and f1-score to compare the models. We, also, plot the ROC and compute the area under curve of each model. "
   ]
  },
  {
   "cell_type": "code",
   "execution_count": 82,
   "metadata": {},
   "outputs": [],
   "source": [
    "from sklearn.model_selection import train_test_split\n",
    "from sklearn.metrics import accuracy_score, f1_score, precision_score\n",
    "from sklearn.metrics import classification_report, confusion_matrix\n",
    "from sklearn.metrics import roc_auc_score, roc_curve, auc"
   ]
  },
  {
   "cell_type": "code",
   "execution_count": 83,
   "metadata": {},
   "outputs": [],
   "source": [
    "X_train, X_test, y_train, y_test = train_test_split(X, y, random_state=0, train_size=0.7)"
   ]
  },
  {
   "cell_type": "code",
   "execution_count": 84,
   "metadata": {},
   "outputs": [],
   "source": [
    "Performances=[]"
   ]
  },
  {
   "cell_type": "markdown",
   "execution_count": null,
   "metadata": {},
   "source": [
    "### Decision Tree"
   ]
  },
  {
   "cell_type": "code",
   "execution_count": 85,
   "metadata": {},
   "outputs": [],
   "source": [
    "from sklearn.tree import DecisionTreeClassifier"
   ]
  },
  {
   "cell_type": "code",
   "execution_count": 86,
   "metadata": {},
   "outputs": [
    {
     "data": {
      "text/plain": [
       "DecisionTreeClassifier(ccp_alpha=0.0, class_weight=None, criterion='gini',\n",
       "                       max_depth=None, max_features=None, max_leaf_nodes=None,\n",
       "                       min_impurity_decrease=0.0, min_impurity_split=None,\n",
       "                       min_samples_leaf=1, min_samples_split=2,\n",
       "                       min_weight_fraction_leaf=0.0, presort='deprecated',\n",
       "                       random_state=0, splitter='best')"
      ]
     },
     "execution_count": 86,
     "metadata": {},
     "output_type": "execute_result"
    }
   ],
   "source": [
    "dtc = DecisionTreeClassifier(random_state=0)\n",
    "dtc.fit(X_train, y_train)"
   ]
  },
  {
   "cell_type": "code",
   "execution_count": 87,
   "metadata": {},
   "outputs": [],
   "source": [
    "model={'Model': 'DecisionTree'}\n",
    "model['Accuracy'] = accuracy_score(y_test, dtc.predict(X_test))\n",
    "model['Precision'] = precision_score(y_test, dtc.predict(X_test))\n",
    "model['F1-Score'] = f1_score(y_test, dtc.predict(X_test))\n",
    "Performances.append(model)"
   ]
  },
  {
   "cell_type": "code",
   "execution_count": 88,
   "metadata": {},
   "outputs": [
    {
     "data": {
      "text/plain": [
       "array([[135,  46],\n",
       "       [ 54,  50]])"
      ]
     },
     "execution_count": 88,
     "metadata": {},
     "output_type": "execute_result"
    }
   ],
   "source": [
    "confusion_matrix(y_test, dtc.predict(X_test))"
   ]
  },
  {
   "cell_type": "code",
   "execution_count": 89,
   "metadata": {},
   "outputs": [
    {
     "name": "stdout",
     "output_type": "stream",
     "text": [
      "              precision    recall  f1-score   support\n",
      "\n",
      "           0       0.71      0.75      0.73       181\n",
      "           1       0.52      0.48      0.50       104\n",
      "\n",
      "    accuracy                           0.65       285\n",
      "   macro avg       0.62      0.61      0.61       285\n",
      "weighted avg       0.64      0.65      0.65       285\n",
      "\n"
     ]
    }
   ],
   "source": [
    "print(classification_report(y_test, dtc.predict(X_test)))"
   ]
  },
  {
   "cell_type": "code",
   "execution_count": 90,
   "metadata": {},
   "outputs": [
    {
     "data": {
      "image/png": "[encoded data removed]",
      "text/plain": [
       "<Figure size 1080x1080 with 1 Axes>"
      ]
     },
     "metadata": {
      "needs_background": "light"
     },
     "output_type": "display_data"
    }
   ],
   "source": [
    "dtc_features = pd.DataFrame()\n",
    "dtc_features['Feature'] = X_train.columns.tolist()\n",
    "dtc_features['Importance'] = dtc.feature_importances_\n",
    "sns.catplot(y='Feature', x='Importance', data=dtc_features, kind='bar', height=15, color=base_color)\n",
    "plt.show()"
   ]
  },
  {
   "cell_type": "markdown",
   "execution_count": null,
   "metadata": {},
   "source": [
    "### Random Forest"
   ]
  },
  {
   "cell_type": "code",
   "execution_count": 91,
   "metadata": {},
   "outputs": [],
   "source": [
    "from sklearn.ensemble import RandomForestClassifier"
   ]
  },
  {
   "cell_type": "code",
   "execution_count": 92,
   "metadata": {},
   "outputs": [
    {
     "data": {
      "text/plain": [
       "RandomForestClassifier(bootstrap=True, ccp_alpha=0.0, class_weight=None,\n",
       "                       criterion='gini', max_depth=None, max_features='auto',\n",
       "                       max_leaf_nodes=None, max_samples=None,\n",
       "                       min_impurity_decrease=0.0, min_impurity_split=None,\n",
       "                       min_samples_leaf=1, min_samples_split=2,\n",
       "                       min_weight_fraction_leaf=0.0, n_estimators=100,\n",
       "                       n_jobs=None, oob_score=False, random_state=0, verbose=0,\n",
       "                       warm_start=False)"
      ]
     },
     "execution_count": 92,
     "metadata": {},
     "output_type": "execute_result"
    }
   ],
   "source": [
    "rfc = RandomForestClassifier(n_estimators=100, random_state=0)\n",
    "rfc.fit(X_train, y_train)"
   ]
  },
  {
   "cell_type": "code",
   "execution_count": 93,
   "metadata": {},
   "outputs": [],
   "source": [
    "model={'Model': 'RandomForest'}\n",
    "model['Accuracy'] = accuracy_score(y_test, rfc.predict(X_test))\n",
    "model['Precision'] = precision_score(y_test, rfc.predict(X_test))\n",
    "model['F1-Score'] = f1_score(y_test, rfc.predict(X_test))\n",
    "Performances.append(model)"
   ]
  },
  {
   "cell_type": "code",
   "execution_count": 94,
   "metadata": {},
   "outputs": [
    {
     "data": {
      "text/plain": [
       "array([[158,  23],\n",
       "       [ 71,  33]])"
      ]
     },
     "execution_count": 94,
     "metadata": {},
     "output_type": "execute_result"
    }
   ],
   "source": [
    "confusion_matrix(y_test, rfc.predict(X_test))"
   ]
  },
  {
   "cell_type": "code",
   "execution_count": 95,
   "metadata": {},
   "outputs": [
    {
     "name": "stdout",
     "output_type": "stream",
     "text": [
      "              precision    recall  f1-score   support\n",
      "\n",
      "           0       0.69      0.87      0.77       181\n",
      "           1       0.59      0.32      0.41       104\n",
      "\n",
      "    accuracy                           0.67       285\n",
      "   macro avg       0.64      0.60      0.59       285\n",
      "weighted avg       0.65      0.67      0.64       285\n",
      "\n"
     ]
    }
   ],
   "source": [
    "print(classification_report(y_test, rfc.predict(X_test)))"
   ]
  },
  {
   "cell_type": "code",
   "execution_count": 96,
   "metadata": {},
   "outputs": [
    {
     "data": {
      "image/png": "[encoded data removed]",
      "text/plain": [
       "<Figure size 1080x1080 with 1 Axes>"
      ]
     },
     "metadata": {
      "needs_background": "light"
     },
     "output_type": "display_data"
    }
   ],
   "source": [
    "rfc_features = pd.DataFrame()\n",
    "rfc_features['Feature'] = X_train.columns.tolist()\n",
    "rfc_features['Importance'] = rfc.feature_importances_\n",
    "sns.catplot(y='Feature', x='Importance', data=rfc_features, kind='bar', height=15, color=base_color)\n",
    "plt.show()"
   ]
  },
  {
   "cell_type": "markdown",
   "execution_count": null,
   "metadata": {},
   "source": [
    "### XGBoost"
   ]
  },
  {
   "cell_type": "code",
   "execution_count": 97,
   "metadata": {},
   "outputs": [],
   "source": [
    "from xgboost import XGBClassifier"
   ]
  },
  {
   "cell_type": "code",
   "execution_count": 98,
   "metadata": {},
   "outputs": [
    {
     "data": {
      "text/plain": [
       "XGBClassifier(base_score=0.5, booster=None, colsample_bylevel=1,\n",
       "              colsample_bynode=1, colsample_bytree=1, gamma=0, gpu_id=-1,\n",
       "              importance_type='gain', interaction_constraints=None,\n",
       "              learning_rate=0.300000012, max_delta_step=0, max_depth=6,\n",
       "              min_child_weight=1, missing=nan, monotone_constraints=None,\n",
       "              n_estimators=100, n_jobs=0, num_parallel_tree=1,\n",
       "              objective='binary:logistic', random_state=0, reg_alpha=0,\n",
       "              reg_lambda=1, scale_pos_weight=1, subsample=1, tree_method=None,\n",
       "              validate_parameters=False, verbosity=None)"
      ]
     },
     "execution_count": 98,
     "metadata": {},
     "output_type": "execute_result"
    }
   ],
   "source": [
    "xgb = XGBClassifier(n_estimators=100,random_state=0)\n",
    "xgb.fit(X_train, y_train)"
   ]
  },
  {
   "cell_type": "code",
   "execution_count": 99,
   "metadata": {},
   "outputs": [],
   "source": [
    "model={'Model': 'XGBoost'}\n",
    "model['Accuracy'] = accuracy_score(y_test, xgb.predict(X_test))\n",
    "model['Precision'] = precision_score(y_test, xgb.predict(X_test))\n",
    "model['F1-Score'] = f1_score(y_test, xgb.predict(X_test))\n",
    "Performances.append(model)"
   ]
  },
  {
   "cell_type": "code",
   "execution_count": 100,
   "metadata": {},
   "outputs": [
    {
     "data": {
      "text/plain": [
       "array([[147,  34],\n",
       "       [ 66,  38]])"
      ]
     },
     "execution_count": 100,
     "metadata": {},
     "output_type": "execute_result"
    }
   ],
   "source": [
    "confusion_matrix(y_test, xgb.predict(X_test))"
   ]
  },
  {
   "cell_type": "code",
   "execution_count": 101,
   "metadata": {},
   "outputs": [
    {
     "name": "stdout",
     "output_type": "stream",
     "text": [
      "              precision    recall  f1-score   support\n",
      "\n",
      "           0       0.69      0.81      0.75       181\n",
      "           1       0.53      0.37      0.43       104\n",
      "\n",
      "    accuracy                           0.65       285\n",
      "   macro avg       0.61      0.59      0.59       285\n",
      "weighted avg       0.63      0.65      0.63       285\n",
      "\n"
     ]
    }
   ],
   "source": [
    "print(classification_report(y_test, xgb.predict(X_test)))"
   ]
  },
  {
   "cell_type": "code",
   "execution_count": 102,
   "metadata": {},
   "outputs": [
    {
     "data": {
      "image/png": "[encoded data removed]",
      "text/plain": [
       "<Figure size 1080x1080 with 1 Axes>"
      ]
     },
     "metadata": {
      "needs_background": "light"
     },
     "output_type": "display_data"
    }
   ],
   "source": [
    "xgb_features = pd.DataFrame()\n",
    "xgb_features['Feature'] = X_train.columns.tolist()\n",
    "xgb_features['Importance'] = xgb.feature_importances_\n",
    "sns.catplot(y='Feature', x='Importance', data=xgb_features, kind='bar', height=15, color=base_color)\n",
    "plt.show()"
   ]
  },
  {
   "cell_type": "markdown",
   "execution_count": null,
   "metadata": {},
   "source": [
    "### CatBoost"
   ]
  },
  {
   "cell_type": "code",
   "execution_count": 103,
   "metadata": {},
   "outputs": [],
   "source": [
    "from catboost import CatBoostClassifier"
   ]
  },
  {
   "cell_type": "code",
   "execution_count": 104,
   "metadata": {},
   "outputs": [
    {
     "name": "stdout",
     "output_type": "stream",
     "text": [
      "Learning rate set to 0.003736\n",
      "0:\tlearn: 0.6917757\ttotal: 54.9ms\tremaining: 2m 17s\n",
      "1:\tlearn: 0.6903920\ttotal: 56.9ms\tremaining: 1m 11s\n",
      "2:\tlearn: 0.6888171\ttotal: 58.6ms\tremaining: 48.8s\n",
      "3:\tlearn: 0.6872559\ttotal: 60.3ms\tremaining: 37.6s\n",
      "4:\tlearn: 0.6859331\ttotal: 62ms\tremaining: 31s\n",
      "5:\tlearn: 0.6846569\ttotal: 63.8ms\tremaining: 26.5s\n",
      "6:\tlearn: 0.6833147\ttotal: 66ms\tremaining: 23.5s\n",
      "7:\tlearn: 0.6820860\ttotal: 68ms\tremaining: 21.2s\n",
      "8:\tlearn: 0.6808877\ttotal: 70.1ms\tremaining: 19.4s\n",
      "9:\tlearn: 0.6797505\ttotal: 72.2ms\tremaining: 18s\n",
      "10:\tlearn: 0.6785129\ttotal: 74.2ms\tremaining: 16.8s\n",
      "11:\tlearn: 0.6772420\ttotal: 76.1ms\tremaining: 15.8s\n",
      "12:\tlearn: 0.6760329\ttotal: 78ms\tremaining: 14.9s\n",
      "13:\tlearn: 0.6749963\ttotal: 79.6ms\tremaining: 14.1s\n",
      "14:\tlearn: 0.6735689\ttotal: 81.2ms\tremaining: 13.5s\n",
      "15:\tlearn: 0.6723208\ttotal: 83ms\tremaining: 12.9s\n",
      "16:\tlearn: 0.6709080\ttotal: 84.7ms\tremaining: 12.4s\n",
      "17:\tlearn: 0.6697378\ttotal: 88.3ms\tremaining: 12.2s\n",
      "18:\tlearn: 0.6687114\ttotal: 90.1ms\tremaining: 11.8s\n",
      "19:\tlearn: 0.6674773\ttotal: 92ms\tremaining: 11.4s\n",
      "20:\tlearn: 0.6664278\ttotal: 95.3ms\tremaining: 11.3s\n",
      "21:\tlearn: 0.6653860\ttotal: 97.3ms\tremaining: 11s\n",
      "22:\tlearn: 0.6641849\ttotal: 101ms\tremaining: 10.8s\n",
      "23:\tlearn: 0.6630724\ttotal: 103ms\tremaining: 10.6s\n",
      "24:\tlearn: 0.6620608\ttotal: 104ms\tremaining: 10.3s\n",
      "25:\tlearn: 0.6609046\ttotal: 106ms\tremaining: 10.1s\n",
      "26:\tlearn: 0.6598811\ttotal: 108ms\tremaining: 9.85s\n",
      "27:\tlearn: 0.6588169\ttotal: 109ms\tremaining: 9.62s\n",
      "28:\tlearn: 0.6578254\ttotal: 110ms\tremaining: 9.38s\n",
      "29:\tlearn: 0.6568993\ttotal: 112ms\tremaining: 9.19s\n",
      "30:\tlearn: 0.6557506\ttotal: 113ms\tremaining: 9.01s\n",
      "31:\tlearn: 0.6546894\ttotal: 115ms\tremaining: 8.85s\n",
      "32:\tlearn: 0.6536181\ttotal: 116ms\tremaining: 8.69s\n",
      "33:\tlearn: 0.6525161\ttotal: 118ms\tremaining: 8.54s\n",
      "34:\tlearn: 0.6513381\ttotal: 119ms\tremaining: 8.39s\n",
      "35:\tlearn: 0.6506491\ttotal: 120ms\tremaining: 8.24s\n",
      "36:\tlearn: 0.6495177\ttotal: 122ms\tremaining: 8.12s\n",
      "37:\tlearn: 0.6484058\ttotal: 123ms\tremaining: 7.99s\n",
      "38:\tlearn: 0.6475803\ttotal: 125ms\tremaining: 7.89s\n",
      "39:\tlearn: 0.6467952\ttotal: 127ms\tremaining: 7.78s\n",
      "40:\tlearn: 0.6457239\ttotal: 128ms\tremaining: 7.68s\n",
      "41:\tlearn: 0.6448512\ttotal: 130ms\tremaining: 7.58s\n",
      "42:\tlearn: 0.6443030\ttotal: 130ms\tremaining: 7.44s\n",
      "43:\tlearn: 0.6432539\ttotal: 132ms\tremaining: 7.36s\n",
      "44:\tlearn: 0.6424695\ttotal: 133ms\tremaining: 7.27s\n",
      "45:\tlearn: 0.6418468\ttotal: 134ms\tremaining: 7.17s\n",
      "46:\tlearn: 0.6407727\ttotal: 136ms\tremaining: 7.09s\n",
      "47:\tlearn: 0.6397015\ttotal: 137ms\tremaining: 7.01s\n",
      "48:\tlearn: 0.6389577\ttotal: 139ms\tremaining: 6.95s\n",
      "49:\tlearn: 0.6380562\ttotal: 141ms\tremaining: 6.89s\n",
      "50:\tlearn: 0.6370887\ttotal: 142ms\tremaining: 6.83s\n",
      "51:\tlearn: 0.6358401\ttotal: 144ms\tremaining: 6.76s\n",
      "52:\tlearn: 0.6349315\ttotal: 145ms\tremaining: 6.71s\n",
      "53:\tlearn: 0.6338889\ttotal: 147ms\tremaining: 6.65s\n",
      "54:\tlearn: 0.6329622\ttotal: 148ms\tremaining: 6.6s\n",
      "55:\tlearn: 0.6320179\ttotal: 150ms\tremaining: 6.55s\n",
      "56:\tlearn: 0.6309943\ttotal: 152ms\tremaining: 6.5s\n",
      "57:\tlearn: 0.6300643\ttotal: 153ms\tremaining: 6.45s\n",
      "58:\tlearn: 0.6291638\ttotal: 155ms\tremaining: 6.39s\n",
      "59:\tlearn: 0.6283730\ttotal: 156ms\tremaining: 6.35s\n",
      "60:\tlearn: 0.6274384\ttotal: 158ms\tremaining: 6.3s\n",
      "61:\tlearn: 0.6266788\ttotal: 159ms\tremaining: 6.26s\n",
      "62:\tlearn: 0.6257604\ttotal: 161ms\tremaining: 6.22s\n",
      "63:\tlearn: 0.6249417\ttotal: 162ms\tremaining: 6.18s\n",
      "64:\tlearn: 0.6240707\ttotal: 164ms\tremaining: 6.14s\n",
      "65:\tlearn: 0.6233305\ttotal: 165ms\tremaining: 6.1s\n",
      "66:\tlearn: 0.6224561\ttotal: 167ms\tremaining: 6.07s\n",
      "67:\tlearn: 0.6216694\ttotal: 169ms\tremaining: 6.03s\n",
      "68:\tlearn: 0.6208213\ttotal: 170ms\tremaining: 6s\n",
      "69:\tlearn: 0.6200581\ttotal: 172ms\tremaining: 5.96s\n",
      "70:\tlearn: 0.6192057\ttotal: 173ms\tremaining: 5.92s\n",
      "71:\tlearn: 0.6182455\ttotal: 175ms\tremaining: 5.89s\n",
      "72:\tlearn: 0.6173138\ttotal: 176ms\tremaining: 5.86s\n",
      "73:\tlearn: 0.6164310\ttotal: 178ms\tremaining: 5.83s\n",
      "74:\tlearn: 0.6156346\ttotal: 179ms\tremaining: 5.8s\n",
      "75:\tlearn: 0.6148631\ttotal: 181ms\tremaining: 5.77s\n",
      "76:\tlearn: 0.6139491\ttotal: 183ms\tremaining: 5.75s\n",
      "77:\tlearn: 0.6132599\ttotal: 184ms\tremaining: 5.72s\n",
      "78:\tlearn: 0.6124550\ttotal: 186ms\tremaining: 5.69s\n",
      "79:\tlearn: 0.6119750\ttotal: 188ms\tremaining: 5.69s\n",
      "80:\tlearn: 0.6116371\ttotal: 189ms\tremaining: 5.64s\n",
      "81:\tlearn: 0.6110576\ttotal: 190ms\tremaining: 5.6s\n",
      "82:\tlearn: 0.6104690\ttotal: 192ms\tremaining: 5.58s\n",
      "83:\tlearn: 0.6096409\ttotal: 193ms\tremaining: 5.55s\n",
      "84:\tlearn: 0.6088761\ttotal: 195ms\tremaining: 5.53s\n",
      "85:\tlearn: 0.6081911\ttotal: 196ms\tremaining: 5.51s\n",
      "86:\tlearn: 0.6074940\ttotal: 198ms\tremaining: 5.49s\n",
      "87:\tlearn: 0.6067019\ttotal: 199ms\tremaining: 5.47s\n",
      "88:\tlearn: 0.6060255\ttotal: 201ms\tremaining: 5.44s\n",
      "89:\tlearn: 0.6054597\ttotal: 202ms\tremaining: 5.4s\n",
      "90:\tlearn: 0.6048296\ttotal: 203ms\tremaining: 5.38s\n",
      "91:\tlearn: 0.6042285\ttotal: 205ms\tremaining: 5.37s\n",
      "92:\tlearn: 0.6038012\ttotal: 206ms\tremaining: 5.34s\n",
      "93:\tlearn: 0.6030419\ttotal: 208ms\tremaining: 5.32s\n",
      "94:\tlearn: 0.6022858\ttotal: 209ms\tremaining: 5.3s\n",
      "95:\tlearn: 0.6014260\ttotal: 211ms\tremaining: 5.28s\n",
      "96:\tlearn: 0.6005704\ttotal: 212ms\tremaining: 5.26s\n",
      "97:\tlearn: 0.5998018\ttotal: 214ms\tremaining: 5.25s\n",
      "98:\tlearn: 0.5995095\ttotal: 215ms\tremaining: 5.21s\n",
      "99:\tlearn: 0.5987916\ttotal: 216ms\tremaining: 5.19s\n",
      "100:\tlearn: 0.5982594\ttotal: 218ms\tremaining: 5.17s\n",
      "101:\tlearn: 0.5975044\ttotal: 219ms\tremaining: 5.15s\n",
      "102:\tlearn: 0.5970092\ttotal: 221ms\tremaining: 5.14s\n",
      "103:\tlearn: 0.5964261\ttotal: 222ms\tremaining: 5.12s\n",
      "104:\tlearn: 0.5957346\ttotal: 224ms\tremaining: 5.1s\n",
      "105:\tlearn: 0.5951033\ttotal: 225ms\tremaining: 5.09s\n",
      "106:\tlearn: 0.5944682\ttotal: 227ms\tremaining: 5.07s\n",
      "107:\tlearn: 0.5936763\ttotal: 229ms\tremaining: 5.06s\n",
      "108:\tlearn: 0.5928304\ttotal: 230ms\tremaining: 5.05s\n",
      "109:\tlearn: 0.5920815\ttotal: 232ms\tremaining: 5.03s\n",
      "110:\tlearn: 0.5916056\ttotal: 233ms\tremaining: 5.01s\n",
      "111:\tlearn: 0.5911528\ttotal: 235ms\tremaining: 5s\n",
      "112:\tlearn: 0.5905804\ttotal: 236ms\tremaining: 4.99s\n",
      "113:\tlearn: 0.5899546\ttotal: 238ms\tremaining: 4.97s\n",
      "114:\tlearn: 0.5893595\ttotal: 239ms\tremaining: 4.96s\n",
      "115:\tlearn: 0.5887948\ttotal: 241ms\tremaining: 4.95s\n",
      "116:\tlearn: 0.5881881\ttotal: 242ms\tremaining: 4.93s\n",
      "117:\tlearn: 0.5876208\ttotal: 244ms\tremaining: 4.92s\n",
      "118:\tlearn: 0.5869218\ttotal: 245ms\tremaining: 4.91s\n",
      "119:\tlearn: 0.5862361\ttotal: 247ms\tremaining: 4.89s\n",
      "120:\tlearn: 0.5855833\ttotal: 248ms\tremaining: 4.88s\n",
      "121:\tlearn: 0.5850577\ttotal: 250ms\tremaining: 4.87s\n",
      "122:\tlearn: 0.5843642\ttotal: 251ms\tremaining: 4.86s\n",
      "123:\tlearn: 0.5837189\ttotal: 253ms\tremaining: 4.85s\n",
      "124:\tlearn: 0.5831299\ttotal: 255ms\tremaining: 4.83s\n",
      "125:\tlearn: 0.5826196\ttotal: 256ms\tremaining: 4.83s\n",
      "126:\tlearn: 0.5820227\ttotal: 258ms\tremaining: 4.82s\n",
      "127:\tlearn: 0.5813925\ttotal: 259ms\tremaining: 4.8s\n",
      "128:\tlearn: 0.5807799\ttotal: 261ms\tremaining: 4.8s\n",
      "129:\tlearn: 0.5801912\ttotal: 263ms\tremaining: 4.79s\n",
      "130:\tlearn: 0.5796322\ttotal: 264ms\tremaining: 4.78s\n",
      "131:\tlearn: 0.5790886\ttotal: 266ms\tremaining: 4.76s\n",
      "132:\tlearn: 0.5784325\ttotal: 267ms\tremaining: 4.76s\n",
      "133:\tlearn: 0.5775334\ttotal: 269ms\tremaining: 4.75s\n",
      "134:\tlearn: 0.5768231\ttotal: 270ms\tremaining: 4.74s\n",
      "135:\tlearn: 0.5760496\ttotal: 272ms\tremaining: 4.73s\n",
      "136:\tlearn: 0.5753441\ttotal: 274ms\tremaining: 4.72s\n",
      "137:\tlearn: 0.5748177\ttotal: 275ms\tremaining: 4.71s\n",
      "138:\tlearn: 0.5742818\ttotal: 277ms\tremaining: 4.7s\n",
      "139:\tlearn: 0.5737750\ttotal: 278ms\tremaining: 4.69s\n",
      "140:\tlearn: 0.5731659\ttotal: 280ms\tremaining: 4.68s\n",
      "141:\tlearn: 0.5725187\ttotal: 281ms\tremaining: 4.67s\n",
      "142:\tlearn: 0.5720609\ttotal: 283ms\tremaining: 4.66s\n",
      "143:\tlearn: 0.5715939\ttotal: 284ms\tremaining: 4.65s\n",
      "144:\tlearn: 0.5709765\ttotal: 286ms\tremaining: 4.64s\n",
      "145:\tlearn: 0.5703614\ttotal: 287ms\tremaining: 4.63s\n",
      "146:\tlearn: 0.5696345\ttotal: 289ms\tremaining: 4.62s\n",
      "147:\tlearn: 0.5691327\ttotal: 290ms\tremaining: 4.61s\n",
      "148:\tlearn: 0.5685066\ttotal: 292ms\tremaining: 4.61s\n",
      "149:\tlearn: 0.5678580\ttotal: 293ms\tremaining: 4.6s\n",
      "150:\tlearn: 0.5674213\ttotal: 295ms\tremaining: 4.59s\n",
      "151:\tlearn: 0.5668933\ttotal: 297ms\tremaining: 4.58s\n",
      "152:\tlearn: 0.5665884\ttotal: 298ms\tremaining: 4.57s\n",
      "153:\tlearn: 0.5660031\ttotal: 300ms\tremaining: 4.56s\n",
      "154:\tlearn: 0.5653477\ttotal: 301ms\tremaining: 4.55s\n",
      "155:\tlearn: 0.5648453\ttotal: 303ms\tremaining: 4.55s\n",
      "156:\tlearn: 0.5644566\ttotal: 304ms\tremaining: 4.54s\n",
      "157:\tlearn: 0.5639020\ttotal: 306ms\tremaining: 4.53s\n",
      "158:\tlearn: 0.5633293\ttotal: 307ms\tremaining: 4.52s\n",
      "159:\tlearn: 0.5627436\ttotal: 309ms\tremaining: 4.52s\n",
      "160:\tlearn: 0.5622149\ttotal: 310ms\tremaining: 4.51s\n",
      "161:\tlearn: 0.5619020\ttotal: 312ms\tremaining: 4.5s\n",
      "162:\tlearn: 0.5612433\ttotal: 314ms\tremaining: 4.5s\n",
      "163:\tlearn: 0.5608571\ttotal: 315ms\tremaining: 4.49s\n",
      "164:\tlearn: 0.5605457\ttotal: 317ms\tremaining: 4.48s\n",
      "165:\tlearn: 0.5600919\ttotal: 318ms\tremaining: 4.47s\n",
      "166:\tlearn: 0.5597387\ttotal: 320ms\tremaining: 4.47s\n",
      "167:\tlearn: 0.5592832\ttotal: 321ms\tremaining: 4.46s\n",
      "168:\tlearn: 0.5586824\ttotal: 323ms\tremaining: 4.45s\n",
      "169:\tlearn: 0.5582435\ttotal: 324ms\tremaining: 4.44s\n",
      "170:\tlearn: 0.5577588\ttotal: 326ms\tremaining: 4.44s\n",
      "171:\tlearn: 0.5571087\ttotal: 327ms\tremaining: 4.43s\n",
      "172:\tlearn: 0.5565661\ttotal: 329ms\tremaining: 4.42s\n",
      "173:\tlearn: 0.5562227\ttotal: 331ms\tremaining: 4.42s\n",
      "174:\tlearn: 0.5557219\ttotal: 332ms\tremaining: 4.41s\n",
      "175:\tlearn: 0.5553950\ttotal: 334ms\tremaining: 4.41s\n",
      "176:\tlearn: 0.5549123\ttotal: 335ms\tremaining: 4.4s\n",
      "177:\tlearn: 0.5545383\ttotal: 337ms\tremaining: 4.39s\n",
      "178:\tlearn: 0.5541015\ttotal: 338ms\tremaining: 4.39s\n",
      "179:\tlearn: 0.5535050\ttotal: 340ms\tremaining: 4.38s\n",
      "180:\tlearn: 0.5531514\ttotal: 341ms\tremaining: 4.37s\n",
      "181:\tlearn: 0.5527288\ttotal: 343ms\tremaining: 4.37s\n",
      "182:\tlearn: 0.5523191\ttotal: 344ms\tremaining: 4.36s\n",
      "183:\tlearn: 0.5518940\ttotal: 346ms\tremaining: 4.35s\n",
      "184:\tlearn: 0.5515254\ttotal: 347ms\tremaining: 4.34s\n",
      "185:\tlearn: 0.5509726\ttotal: 349ms\tremaining: 4.34s\n",
      "186:\tlearn: 0.5505012\ttotal: 350ms\tremaining: 4.33s\n",
      "187:\tlearn: 0.5500884\ttotal: 352ms\tremaining: 4.33s\n",
      "188:\tlearn: 0.5496701\ttotal: 354ms\tremaining: 4.32s\n",
      "189:\tlearn: 0.5495038\ttotal: 354ms\tremaining: 4.31s\n",
      "190:\tlearn: 0.5490892\ttotal: 356ms\tremaining: 4.3s\n",
      "191:\tlearn: 0.5487078\ttotal: 357ms\tremaining: 4.29s\n",
      "192:\tlearn: 0.5483079\ttotal: 359ms\tremaining: 4.29s\n",
      "193:\tlearn: 0.5479273\ttotal: 361ms\tremaining: 4.29s\n",
      "194:\tlearn: 0.5475153\ttotal: 362ms\tremaining: 4.28s\n",
      "195:\tlearn: 0.5470601\ttotal: 364ms\tremaining: 4.27s\n",
      "196:\tlearn: 0.5466583\ttotal: 365ms\tremaining: 4.27s\n",
      "197:\tlearn: 0.5464005\ttotal: 366ms\tremaining: 4.26s\n",
      "198:\tlearn: 0.5460075\ttotal: 368ms\tremaining: 4.25s\n",
      "199:\tlearn: 0.5454994\ttotal: 369ms\tremaining: 4.25s\n",
      "200:\tlearn: 0.5447821\ttotal: 371ms\tremaining: 4.24s\n",
      "201:\tlearn: 0.5444337\ttotal: 373ms\tremaining: 4.24s\n",
      "202:\tlearn: 0.5440985\ttotal: 375ms\tremaining: 4.24s\n",
      "203:\tlearn: 0.5437392\ttotal: 377ms\tremaining: 4.24s\n",
      "204:\tlearn: 0.5434597\ttotal: 378ms\tremaining: 4.24s\n",
      "205:\tlearn: 0.5431734\ttotal: 380ms\tremaining: 4.23s\n",
      "206:\tlearn: 0.5426490\ttotal: 382ms\tremaining: 4.23s\n",
      "207:\tlearn: 0.5423088\ttotal: 383ms\tremaining: 4.22s\n",
      "208:\tlearn: 0.5418868\ttotal: 385ms\tremaining: 4.22s\n",
      "209:\tlearn: 0.5414731\ttotal: 387ms\tremaining: 4.21s\n",
      "210:\tlearn: 0.5410992\ttotal: 388ms\tremaining: 4.21s\n",
      "211:\tlearn: 0.5404590\ttotal: 390ms\tremaining: 4.21s\n",
      "212:\tlearn: 0.5400142\ttotal: 391ms\tremaining: 4.2s\n",
      "213:\tlearn: 0.5397078\ttotal: 393ms\tremaining: 4.2s\n",
      "214:\tlearn: 0.5393596\ttotal: 395ms\tremaining: 4.19s\n",
      "215:\tlearn: 0.5389659\ttotal: 396ms\tremaining: 4.19s\n",
      "216:\tlearn: 0.5387136\ttotal: 397ms\tremaining: 4.18s\n",
      "217:\tlearn: 0.5383117\ttotal: 399ms\tremaining: 4.17s\n",
      "218:\tlearn: 0.5379173\ttotal: 400ms\tremaining: 4.17s\n",
      "219:\tlearn: 0.5375201\ttotal: 402ms\tremaining: 4.17s\n",
      "220:\tlearn: 0.5371759\ttotal: 404ms\tremaining: 4.16s\n",
      "221:\tlearn: 0.5366034\ttotal: 405ms\tremaining: 4.16s\n",
      "222:\tlearn: 0.5362376\ttotal: 407ms\tremaining: 4.15s\n",
      "223:\tlearn: 0.5358427\ttotal: 408ms\tremaining: 4.15s\n",
      "224:\tlearn: 0.5354371\ttotal: 410ms\tremaining: 4.14s\n",
      "225:\tlearn: 0.5350210\ttotal: 412ms\tremaining: 4.14s\n",
      "226:\tlearn: 0.5346991\ttotal: 413ms\tremaining: 4.14s\n",
      "227:\tlearn: 0.5342596\ttotal: 415ms\tremaining: 4.13s\n",
      "228:\tlearn: 0.5339487\ttotal: 416ms\tremaining: 4.13s\n",
      "229:\tlearn: 0.5336075\ttotal: 418ms\tremaining: 4.12s\n",
      "230:\tlearn: 0.5331163\ttotal: 419ms\tremaining: 4.12s\n",
      "231:\tlearn: 0.5326313\ttotal: 421ms\tremaining: 4.12s\n",
      "232:\tlearn: 0.5322970\ttotal: 423ms\tremaining: 4.11s\n",
      "233:\tlearn: 0.5319522\ttotal: 424ms\tremaining: 4.11s\n",
      "234:\tlearn: 0.5317442\ttotal: 425ms\tremaining: 4.1s\n",
      "235:\tlearn: 0.5314099\ttotal: 427ms\tremaining: 4.09s\n",
      "236:\tlearn: 0.5310177\ttotal: 428ms\tremaining: 4.09s\n",
      "237:\tlearn: 0.5306882\ttotal: 430ms\tremaining: 4.09s\n",
      "238:\tlearn: 0.5301606\ttotal: 432ms\tremaining: 4.08s\n",
      "239:\tlearn: 0.5298982\ttotal: 433ms\tremaining: 4.08s\n",
      "240:\tlearn: 0.5297664\ttotal: 434ms\tremaining: 4.07s\n",
      "241:\tlearn: 0.5293309\ttotal: 435ms\tremaining: 4.06s\n",
      "242:\tlearn: 0.5291039\ttotal: 437ms\tremaining: 4.06s\n",
      "243:\tlearn: 0.5287985\ttotal: 439ms\tremaining: 4.05s\n",
      "244:\tlearn: 0.5284044\ttotal: 440ms\tremaining: 4.05s\n",
      "245:\tlearn: 0.5279151\ttotal: 442ms\tremaining: 4.05s\n",
      "246:\tlearn: 0.5276220\ttotal: 444ms\tremaining: 4.04s\n",
      "247:\tlearn: 0.5271989\ttotal: 445ms\tremaining: 4.04s\n",
      "248:\tlearn: 0.5270008\ttotal: 447ms\tremaining: 4.04s\n",
      "249:\tlearn: 0.5266828\ttotal: 448ms\tremaining: 4.03s\n",
      "250:\tlearn: 0.5263550\ttotal: 450ms\tremaining: 4.03s\n",
      "251:\tlearn: 0.5260224\ttotal: 451ms\tremaining: 4.03s\n",
      "252:\tlearn: 0.5256258\ttotal: 453ms\tremaining: 4.02s\n",
      "253:\tlearn: 0.5253218\ttotal: 454ms\tremaining: 4.02s\n",
      "254:\tlearn: 0.5250056\ttotal: 456ms\tremaining: 4.01s\n",
      "255:\tlearn: 0.5246741\ttotal: 458ms\tremaining: 4.01s\n",
      "256:\tlearn: 0.5242837\ttotal: 459ms\tremaining: 4.01s\n",
      "257:\tlearn: 0.5239484\ttotal: 461ms\tremaining: 4s\n",
      "258:\tlearn: 0.5236843\ttotal: 462ms\tremaining: 4s\n",
      "259:\tlearn: 0.5233792\ttotal: 464ms\tremaining: 4s\n",
      "260:\tlearn: 0.5230264\ttotal: 466ms\tremaining: 3.99s\n",
      "261:\tlearn: 0.5226964\ttotal: 467ms\tremaining: 3.99s\n",
      "262:\tlearn: 0.5222777\ttotal: 469ms\tremaining: 3.99s\n",
      "263:\tlearn: 0.5218530\ttotal: 470ms\tremaining: 3.98s\n",
      "264:\tlearn: 0.5215740\ttotal: 472ms\tremaining: 3.98s\n",
      "265:\tlearn: 0.5214249\ttotal: 473ms\tremaining: 3.97s\n",
      "266:\tlearn: 0.5211610\ttotal: 474ms\tremaining: 3.97s\n",
      "267:\tlearn: 0.5208564\ttotal: 476ms\tremaining: 3.96s\n",
      "268:\tlearn: 0.5205581\ttotal: 478ms\tremaining: 3.96s\n",
      "269:\tlearn: 0.5201013\ttotal: 479ms\tremaining: 3.96s\n",
      "270:\tlearn: 0.5197616\ttotal: 480ms\tremaining: 3.95s\n",
      "271:\tlearn: 0.5193575\ttotal: 482ms\tremaining: 3.95s\n",
      "272:\tlearn: 0.5190840\ttotal: 484ms\tremaining: 3.95s\n",
      "273:\tlearn: 0.5187410\ttotal: 490ms\tremaining: 3.98s\n",
      "274:\tlearn: 0.5184001\ttotal: 492ms\tremaining: 3.98s\n",
      "275:\tlearn: 0.5181157\ttotal: 494ms\tremaining: 3.98s\n",
      "276:\tlearn: 0.5178300\ttotal: 496ms\tremaining: 3.98s\n",
      "277:\tlearn: 0.5175123\ttotal: 497ms\tremaining: 3.97s\n",
      "278:\tlearn: 0.5172488\ttotal: 499ms\tremaining: 3.97s\n",
      "279:\tlearn: 0.5169271\ttotal: 505ms\tremaining: 4s\n",
      "280:\tlearn: 0.5165079\ttotal: 506ms\tremaining: 4s\n",
      "281:\tlearn: 0.5159903\ttotal: 508ms\tremaining: 3.99s\n",
      "282:\tlearn: 0.5157926\ttotal: 509ms\tremaining: 3.99s\n",
      "283:\tlearn: 0.5154027\ttotal: 511ms\tremaining: 3.98s\n",
      "284:\tlearn: 0.5151418\ttotal: 512ms\tremaining: 3.98s\n",
      "285:\tlearn: 0.5148781\ttotal: 514ms\tremaining: 3.98s\n",
      "286:\tlearn: 0.5145288\ttotal: 515ms\tremaining: 3.97s\n",
      "287:\tlearn: 0.5142002\ttotal: 517ms\tremaining: 3.97s\n",
      "288:\tlearn: 0.5139669\ttotal: 518ms\tremaining: 3.96s\n",
      "289:\tlearn: 0.5136918\ttotal: 520ms\tremaining: 3.96s\n",
      "290:\tlearn: 0.5134430\ttotal: 521ms\tremaining: 3.96s\n",
      "291:\tlearn: 0.5130950\ttotal: 523ms\tremaining: 3.95s\n",
      "292:\tlearn: 0.5127337\ttotal: 524ms\tremaining: 3.95s\n",
      "293:\tlearn: 0.5125355\ttotal: 526ms\tremaining: 3.95s\n",
      "294:\tlearn: 0.5123190\ttotal: 527ms\tremaining: 3.94s\n",
      "295:\tlearn: 0.5121348\ttotal: 529ms\tremaining: 3.94s\n",
      "296:\tlearn: 0.5118089\ttotal: 530ms\tremaining: 3.93s\n",
      "297:\tlearn: 0.5116204\ttotal: 532ms\tremaining: 3.93s\n",
      "298:\tlearn: 0.5112317\ttotal: 533ms\tremaining: 3.92s\n",
      "299:\tlearn: 0.5108566\ttotal: 535ms\tremaining: 3.92s\n",
      "300:\tlearn: 0.5105983\ttotal: 537ms\tremaining: 3.92s\n",
      "301:\tlearn: 0.5102509\ttotal: 538ms\tremaining: 3.92s\n",
      "302:\tlearn: 0.5099874\ttotal: 540ms\tremaining: 3.91s\n",
      "303:\tlearn: 0.5095436\ttotal: 541ms\tremaining: 3.91s\n",
      "304:\tlearn: 0.5092773\ttotal: 543ms\tremaining: 3.9s\n",
      "305:\tlearn: 0.5090005\ttotal: 544ms\tremaining: 3.9s\n",
      "306:\tlearn: 0.5086101\ttotal: 546ms\tremaining: 3.9s\n",
      "307:\tlearn: 0.5082957\ttotal: 547ms\tremaining: 3.89s\n",
      "308:\tlearn: 0.5080146\ttotal: 549ms\tremaining: 3.89s\n",
      "309:\tlearn: 0.5076804\ttotal: 550ms\tremaining: 3.89s\n",
      "310:\tlearn: 0.5073922\ttotal: 552ms\tremaining: 3.88s\n",
      "311:\tlearn: 0.5070785\ttotal: 553ms\tremaining: 3.88s\n",
      "312:\tlearn: 0.5068136\ttotal: 555ms\tremaining: 3.88s\n",
      "313:\tlearn: 0.5064792\ttotal: 557ms\tremaining: 3.88s\n",
      "314:\tlearn: 0.5059496\ttotal: 558ms\tremaining: 3.87s\n",
      "315:\tlearn: 0.5057614\ttotal: 560ms\tremaining: 3.87s\n",
      "316:\tlearn: 0.5055682\ttotal: 562ms\tremaining: 3.87s\n",
      "317:\tlearn: 0.5053583\ttotal: 564ms\tremaining: 3.87s\n",
      "318:\tlearn: 0.5050161\ttotal: 566ms\tremaining: 3.87s\n",
      "319:\tlearn: 0.5047763\ttotal: 567ms\tremaining: 3.86s\n",
      "320:\tlearn: 0.5045391\ttotal: 569ms\tremaining: 3.86s\n",
      "321:\tlearn: 0.5041942\ttotal: 570ms\tremaining: 3.86s\n",
      "322:\tlearn: 0.5037865\ttotal: 572ms\tremaining: 3.85s\n",
      "323:\tlearn: 0.5035889\ttotal: 573ms\tremaining: 3.85s\n",
      "324:\tlearn: 0.5032625\ttotal: 575ms\tremaining: 3.85s\n",
      "325:\tlearn: 0.5030031\ttotal: 576ms\tremaining: 3.84s\n",
      "326:\tlearn: 0.5027181\ttotal: 578ms\tremaining: 3.84s\n",
      "327:\tlearn: 0.5024166\ttotal: 579ms\tremaining: 3.83s\n",
      "328:\tlearn: 0.5020272\ttotal: 581ms\tremaining: 3.83s\n",
      "329:\tlearn: 0.5018237\ttotal: 582ms\tremaining: 3.83s\n",
      "330:\tlearn: 0.5015580\ttotal: 584ms\tremaining: 3.82s\n",
      "331:\tlearn: 0.5013326\ttotal: 585ms\tremaining: 3.82s\n",
      "332:\tlearn: 0.5009631\ttotal: 587ms\tremaining: 3.82s\n",
      "333:\tlearn: 0.5006982\ttotal: 588ms\tremaining: 3.81s\n",
      "334:\tlearn: 0.5004558\ttotal: 590ms\tremaining: 3.81s\n",
      "335:\tlearn: 0.5002408\ttotal: 591ms\tremaining: 3.81s\n",
      "336:\tlearn: 0.4999631\ttotal: 593ms\tremaining: 3.8s\n",
      "337:\tlearn: 0.4996509\ttotal: 594ms\tremaining: 3.8s\n",
      "338:\tlearn: 0.4994236\ttotal: 596ms\tremaining: 3.8s\n",
      "339:\tlearn: 0.4990407\ttotal: 597ms\tremaining: 3.79s\n",
      "340:\tlearn: 0.4987424\ttotal: 599ms\tremaining: 3.79s\n",
      "341:\tlearn: 0.4983613\ttotal: 600ms\tremaining: 3.79s\n",
      "342:\tlearn: 0.4980265\ttotal: 602ms\tremaining: 3.78s\n",
      "343:\tlearn: 0.4976600\ttotal: 603ms\tremaining: 3.78s\n",
      "344:\tlearn: 0.4973817\ttotal: 605ms\tremaining: 3.78s\n",
      "345:\tlearn: 0.4970160\ttotal: 606ms\tremaining: 3.77s\n",
      "346:\tlearn: 0.4966817\ttotal: 608ms\tremaining: 3.77s\n",
      "347:\tlearn: 0.4964534\ttotal: 609ms\tremaining: 3.77s\n",
      "348:\tlearn: 0.4961736\ttotal: 611ms\tremaining: 3.76s\n",
      "349:\tlearn: 0.4959326\ttotal: 612ms\tremaining: 3.76s\n",
      "350:\tlearn: 0.4956388\ttotal: 614ms\tremaining: 3.76s\n",
      "351:\tlearn: 0.4953800\ttotal: 615ms\tremaining: 3.75s\n",
      "352:\tlearn: 0.4953172\ttotal: 616ms\tremaining: 3.75s\n",
      "353:\tlearn: 0.4951605\ttotal: 618ms\tremaining: 3.74s\n",
      "354:\tlearn: 0.4949756\ttotal: 619ms\tremaining: 3.74s\n",
      "355:\tlearn: 0.4947318\ttotal: 621ms\tremaining: 3.74s\n",
      "356:\tlearn: 0.4944360\ttotal: 622ms\tremaining: 3.73s\n",
      "357:\tlearn: 0.4941975\ttotal: 624ms\tremaining: 3.73s\n",
      "358:\tlearn: 0.4939015\ttotal: 625ms\tremaining: 3.73s\n",
      "359:\tlearn: 0.4935974\ttotal: 627ms\tremaining: 3.73s\n",
      "360:\tlearn: 0.4934207\ttotal: 628ms\tremaining: 3.72s\n",
      "361:\tlearn: 0.4931180\ttotal: 630ms\tremaining: 3.72s\n",
      "362:\tlearn: 0.4928451\ttotal: 631ms\tremaining: 3.71s\n",
      "363:\tlearn: 0.4926952\ttotal: 633ms\tremaining: 3.71s\n",
      "364:\tlearn: 0.4925469\ttotal: 634ms\tremaining: 3.71s\n",
      "365:\tlearn: 0.4921429\ttotal: 636ms\tremaining: 3.71s\n",
      "366:\tlearn: 0.4919058\ttotal: 637ms\tremaining: 3.7s\n",
      "367:\tlearn: 0.4915887\ttotal: 639ms\tremaining: 3.7s\n",
      "368:\tlearn: 0.4913671\ttotal: 640ms\tremaining: 3.7s\n",
      "369:\tlearn: 0.4910279\ttotal: 642ms\tremaining: 3.69s\n",
      "370:\tlearn: 0.4908094\ttotal: 643ms\tremaining: 3.69s\n",
      "371:\tlearn: 0.4905870\ttotal: 645ms\tremaining: 3.69s\n",
      "372:\tlearn: 0.4903681\ttotal: 646ms\tremaining: 3.69s\n",
      "373:\tlearn: 0.4901217\ttotal: 648ms\tremaining: 3.68s\n",
      "374:\tlearn: 0.4899271\ttotal: 649ms\tremaining: 3.68s\n",
      "375:\tlearn: 0.4896171\ttotal: 651ms\tremaining: 3.68s\n",
      "376:\tlearn: 0.4892630\ttotal: 652ms\tremaining: 3.67s\n",
      "377:\tlearn: 0.4891236\ttotal: 654ms\tremaining: 3.67s\n",
      "378:\tlearn: 0.4888718\ttotal: 655ms\tremaining: 3.67s\n",
      "379:\tlearn: 0.4885289\ttotal: 657ms\tremaining: 3.66s\n",
      "380:\tlearn: 0.4882381\ttotal: 658ms\tremaining: 3.66s\n",
      "381:\tlearn: 0.4880067\ttotal: 660ms\tremaining: 3.66s\n",
      "382:\tlearn: 0.4878057\ttotal: 661ms\tremaining: 3.65s\n",
      "383:\tlearn: 0.4876147\ttotal: 663ms\tremaining: 3.65s\n",
      "384:\tlearn: 0.4873153\ttotal: 664ms\tremaining: 3.65s\n",
      "385:\tlearn: 0.4871003\ttotal: 666ms\tremaining: 3.65s\n",
      "386:\tlearn: 0.4868639\ttotal: 667ms\tremaining: 3.64s\n",
      "387:\tlearn: 0.4865490\ttotal: 669ms\tremaining: 3.64s\n",
      "388:\tlearn: 0.4863175\ttotal: 670ms\tremaining: 3.64s\n",
      "389:\tlearn: 0.4861191\ttotal: 672ms\tremaining: 3.63s\n",
      "390:\tlearn: 0.4857137\ttotal: 673ms\tremaining: 3.63s\n",
      "391:\tlearn: 0.4854708\ttotal: 675ms\tremaining: 3.63s\n",
      "392:\tlearn: 0.4850001\ttotal: 676ms\tremaining: 3.62s\n",
      "393:\tlearn: 0.4847851\ttotal: 678ms\tremaining: 3.62s\n",
      "394:\tlearn: 0.4845216\ttotal: 679ms\tremaining: 3.62s\n",
      "395:\tlearn: 0.4843277\ttotal: 681ms\tremaining: 3.62s\n",
      "396:\tlearn: 0.4841315\ttotal: 682ms\tremaining: 3.61s\n",
      "397:\tlearn: 0.4838195\ttotal: 684ms\tremaining: 3.61s\n",
      "398:\tlearn: 0.4836654\ttotal: 685ms\tremaining: 3.61s\n",
      "399:\tlearn: 0.4834486\ttotal: 687ms\tremaining: 3.6s\n",
      "400:\tlearn: 0.4832429\ttotal: 688ms\tremaining: 3.6s\n",
      "401:\tlearn: 0.4828332\ttotal: 690ms\tremaining: 3.6s\n",
      "402:\tlearn: 0.4826553\ttotal: 691ms\tremaining: 3.6s\n",
      "403:\tlearn: 0.4823898\ttotal: 693ms\tremaining: 3.59s\n",
      "404:\tlearn: 0.4822425\ttotal: 694ms\tremaining: 3.59s\n",
      "405:\tlearn: 0.4820764\ttotal: 696ms\tremaining: 3.59s\n",
      "406:\tlearn: 0.4818884\ttotal: 697ms\tremaining: 3.58s\n",
      "407:\tlearn: 0.4816454\ttotal: 699ms\tremaining: 3.58s\n",
      "408:\tlearn: 0.4814416\ttotal: 700ms\tremaining: 3.58s\n",
      "409:\tlearn: 0.4811846\ttotal: 702ms\tremaining: 3.58s\n",
      "410:\tlearn: 0.4809677\ttotal: 703ms\tremaining: 3.57s\n",
      "411:\tlearn: 0.4807230\ttotal: 705ms\tremaining: 3.57s\n",
      "412:\tlearn: 0.4805339\ttotal: 706ms\tremaining: 3.57s\n",
      "413:\tlearn: 0.4803512\ttotal: 708ms\tremaining: 3.57s\n",
      "414:\tlearn: 0.4801419\ttotal: 709ms\tremaining: 3.56s\n",
      "415:\tlearn: 0.4799069\ttotal: 711ms\tremaining: 3.56s\n",
      "416:\tlearn: 0.4795633\ttotal: 712ms\tremaining: 3.56s\n",
      "417:\tlearn: 0.4793850\ttotal: 714ms\tremaining: 3.56s\n",
      "418:\tlearn: 0.4791743\ttotal: 715ms\tremaining: 3.55s\n",
      "419:\tlearn: 0.4790026\ttotal: 717ms\tremaining: 3.55s\n",
      "420:\tlearn: 0.4788484\ttotal: 718ms\tremaining: 3.55s\n",
      "421:\tlearn: 0.4786642\ttotal: 720ms\tremaining: 3.54s\n",
      "422:\tlearn: 0.4783899\ttotal: 721ms\tremaining: 3.54s\n",
      "423:\tlearn: 0.4781725\ttotal: 723ms\tremaining: 3.54s\n",
      "424:\tlearn: 0.4781032\ttotal: 724ms\tremaining: 3.54s\n",
      "425:\tlearn: 0.4777635\ttotal: 726ms\tremaining: 3.53s\n",
      "426:\tlearn: 0.4775505\ttotal: 727ms\tremaining: 3.53s\n",
      "427:\tlearn: 0.4773522\ttotal: 729ms\tremaining: 3.53s\n",
      "428:\tlearn: 0.4771841\ttotal: 730ms\tremaining: 3.52s\n",
      "429:\tlearn: 0.4769159\ttotal: 732ms\tremaining: 3.52s\n",
      "430:\tlearn: 0.4766597\ttotal: 733ms\tremaining: 3.52s\n",
      "431:\tlearn: 0.4764129\ttotal: 735ms\tremaining: 3.52s\n",
      "432:\tlearn: 0.4762598\ttotal: 736ms\tremaining: 3.52s\n",
      "433:\tlearn: 0.4760306\ttotal: 738ms\tremaining: 3.51s\n",
      "434:\tlearn: 0.4758996\ttotal: 739ms\tremaining: 3.51s\n",
      "435:\tlearn: 0.4756793\ttotal: 741ms\tremaining: 3.51s\n",
      "436:\tlearn: 0.4753046\ttotal: 743ms\tremaining: 3.51s\n",
      "437:\tlearn: 0.4751203\ttotal: 744ms\tremaining: 3.5s\n",
      "438:\tlearn: 0.4748638\ttotal: 746ms\tremaining: 3.5s\n",
      "439:\tlearn: 0.4747475\ttotal: 747ms\tremaining: 3.5s\n",
      "440:\tlearn: 0.4746334\ttotal: 750ms\tremaining: 3.5s\n",
      "441:\tlearn: 0.4744234\ttotal: 752ms\tremaining: 3.5s\n",
      "442:\tlearn: 0.4742967\ttotal: 753ms\tremaining: 3.5s\n",
      "443:\tlearn: 0.4739329\ttotal: 755ms\tremaining: 3.49s\n",
      "444:\tlearn: 0.4736695\ttotal: 756ms\tremaining: 3.49s\n",
      "445:\tlearn: 0.4735387\ttotal: 757ms\tremaining: 3.49s\n",
      "446:\tlearn: 0.4733951\ttotal: 759ms\tremaining: 3.49s\n",
      "447:\tlearn: 0.4731206\ttotal: 761ms\tremaining: 3.48s\n",
      "448:\tlearn: 0.4729235\ttotal: 762ms\tremaining: 3.48s\n",
      "449:\tlearn: 0.4726584\ttotal: 764ms\tremaining: 3.48s\n",
      "450:\tlearn: 0.4723641\ttotal: 765ms\tremaining: 3.48s\n",
      "451:\tlearn: 0.4721142\ttotal: 767ms\tremaining: 3.47s\n",
      "452:\tlearn: 0.4720061\ttotal: 768ms\tremaining: 3.47s\n",
      "453:\tlearn: 0.4718415\ttotal: 770ms\tremaining: 3.47s\n",
      "454:\tlearn: 0.4716047\ttotal: 771ms\tremaining: 3.46s\n",
      "455:\tlearn: 0.4712781\ttotal: 773ms\tremaining: 3.46s\n",
      "456:\tlearn: 0.4711723\ttotal: 774ms\tremaining: 3.46s\n",
      "457:\tlearn: 0.4709889\ttotal: 776ms\tremaining: 3.46s\n",
      "458:\tlearn: 0.4707511\ttotal: 778ms\tremaining: 3.46s\n",
      "459:\tlearn: 0.4705100\ttotal: 779ms\tremaining: 3.46s\n",
      "460:\tlearn: 0.4702501\ttotal: 781ms\tremaining: 3.45s\n",
      "461:\tlearn: 0.4699788\ttotal: 782ms\tremaining: 3.45s\n",
      "462:\tlearn: 0.4698350\ttotal: 784ms\tremaining: 3.45s\n",
      "463:\tlearn: 0.4696617\ttotal: 786ms\tremaining: 3.45s\n",
      "464:\tlearn: 0.4694240\ttotal: 787ms\tremaining: 3.44s\n",
      "465:\tlearn: 0.4690575\ttotal: 789ms\tremaining: 3.44s\n",
      "466:\tlearn: 0.4689106\ttotal: 790ms\tremaining: 3.44s\n",
      "467:\tlearn: 0.4687305\ttotal: 792ms\tremaining: 3.44s\n",
      "468:\tlearn: 0.4685642\ttotal: 793ms\tremaining: 3.44s\n",
      "469:\tlearn: 0.4683654\ttotal: 795ms\tremaining: 3.43s\n",
      "470:\tlearn: 0.4681253\ttotal: 796ms\tremaining: 3.43s\n",
      "471:\tlearn: 0.4678845\ttotal: 798ms\tremaining: 3.43s\n",
      "472:\tlearn: 0.4677364\ttotal: 799ms\tremaining: 3.42s\n",
      "473:\tlearn: 0.4673893\ttotal: 801ms\tremaining: 3.42s\n",
      "474:\tlearn: 0.4672527\ttotal: 803ms\tremaining: 3.42s\n",
      "475:\tlearn: 0.4670660\ttotal: 804ms\tremaining: 3.42s\n",
      "476:\tlearn: 0.4668888\ttotal: 805ms\tremaining: 3.42s\n",
      "477:\tlearn: 0.4666042\ttotal: 807ms\tremaining: 3.41s\n",
      "478:\tlearn: 0.4662460\ttotal: 809ms\tremaining: 3.41s\n",
      "479:\tlearn: 0.4661247\ttotal: 810ms\tremaining: 3.41s\n",
      "480:\tlearn: 0.4660290\ttotal: 811ms\tremaining: 3.4s\n",
      "481:\tlearn: 0.4658638\ttotal: 813ms\tremaining: 3.4s\n",
      "482:\tlearn: 0.4656819\ttotal: 814ms\tremaining: 3.4s\n",
      "483:\tlearn: 0.4655076\ttotal: 816ms\tremaining: 3.4s\n",
      "484:\tlearn: 0.4653287\ttotal: 817ms\tremaining: 3.4s\n",
      "485:\tlearn: 0.4652507\ttotal: 819ms\tremaining: 3.39s\n",
      "486:\tlearn: 0.4650689\ttotal: 820ms\tremaining: 3.39s\n",
      "487:\tlearn: 0.4649136\ttotal: 822ms\tremaining: 3.39s\n",
      "488:\tlearn: 0.4645869\ttotal: 823ms\tremaining: 3.39s\n",
      "489:\tlearn: 0.4643917\ttotal: 825ms\tremaining: 3.38s\n",
      "490:\tlearn: 0.4641166\ttotal: 826ms\tremaining: 3.38s\n",
      "491:\tlearn: 0.4639823\ttotal: 828ms\tremaining: 3.38s\n",
      "492:\tlearn: 0.4637974\ttotal: 829ms\tremaining: 3.38s\n",
      "493:\tlearn: 0.4636409\ttotal: 831ms\tremaining: 3.37s\n",
      "494:\tlearn: 0.4634569\ttotal: 832ms\tremaining: 3.37s\n",
      "495:\tlearn: 0.4632813\ttotal: 834ms\tremaining: 3.37s\n",
      "496:\tlearn: 0.4630145\ttotal: 835ms\tremaining: 3.37s\n",
      "497:\tlearn: 0.4628438\ttotal: 837ms\tremaining: 3.36s\n",
      "498:\tlearn: 0.4625331\ttotal: 838ms\tremaining: 3.36s\n",
      "499:\tlearn: 0.4622868\ttotal: 840ms\tremaining: 3.36s\n",
      "500:\tlearn: 0.4620233\ttotal: 841ms\tremaining: 3.36s\n",
      "501:\tlearn: 0.4617979\ttotal: 843ms\tremaining: 3.35s\n",
      "502:\tlearn: 0.4615489\ttotal: 844ms\tremaining: 3.35s\n",
      "503:\tlearn: 0.4613249\ttotal: 846ms\tremaining: 3.35s\n",
      "504:\tlearn: 0.4611617\ttotal: 848ms\tremaining: 3.35s\n",
      "505:\tlearn: 0.4609415\ttotal: 849ms\tremaining: 3.35s\n",
      "506:\tlearn: 0.4606929\ttotal: 851ms\tremaining: 3.34s\n",
      "507:\tlearn: 0.4604520\ttotal: 852ms\tremaining: 3.34s\n",
      "508:\tlearn: 0.4601839\ttotal: 854ms\tremaining: 3.34s\n",
      "509:\tlearn: 0.4600443\ttotal: 855ms\tremaining: 3.34s\n",
      "510:\tlearn: 0.4599982\ttotal: 857ms\tremaining: 3.33s\n",
      "511:\tlearn: 0.4597937\ttotal: 858ms\tremaining: 3.33s\n",
      "512:\tlearn: 0.4596014\ttotal: 860ms\tremaining: 3.33s\n",
      "513:\tlearn: 0.4594332\ttotal: 862ms\tremaining: 3.33s\n",
      "514:\tlearn: 0.4592126\ttotal: 863ms\tremaining: 3.33s\n",
      "515:\tlearn: 0.4589057\ttotal: 865ms\tremaining: 3.32s\n",
      "516:\tlearn: 0.4587235\ttotal: 866ms\tremaining: 3.32s\n",
      "517:\tlearn: 0.4585610\ttotal: 868ms\tremaining: 3.32s\n",
      "518:\tlearn: 0.4583785\ttotal: 869ms\tremaining: 3.32s\n",
      "519:\tlearn: 0.4582805\ttotal: 871ms\tremaining: 3.32s\n",
      "520:\tlearn: 0.4580754\ttotal: 872ms\tremaining: 3.31s\n",
      "521:\tlearn: 0.4580076\ttotal: 874ms\tremaining: 3.31s\n",
      "522:\tlearn: 0.4577831\ttotal: 875ms\tremaining: 3.31s\n",
      "523:\tlearn: 0.4575795\ttotal: 877ms\tremaining: 3.31s\n",
      "524:\tlearn: 0.4573513\ttotal: 878ms\tremaining: 3.3s\n",
      "525:\tlearn: 0.4571265\ttotal: 880ms\tremaining: 3.3s\n",
      "526:\tlearn: 0.4568839\ttotal: 881ms\tremaining: 3.3s\n",
      "527:\tlearn: 0.4567201\ttotal: 883ms\tremaining: 3.3s\n",
      "528:\tlearn: 0.4566116\ttotal: 884ms\tremaining: 3.29s\n",
      "529:\tlearn: 0.4564869\ttotal: 886ms\tremaining: 3.29s\n",
      "530:\tlearn: 0.4561769\ttotal: 887ms\tremaining: 3.29s\n",
      "531:\tlearn: 0.4559302\ttotal: 889ms\tremaining: 3.29s\n",
      "532:\tlearn: 0.4558087\ttotal: 890ms\tremaining: 3.29s\n",
      "533:\tlearn: 0.4556427\ttotal: 892ms\tremaining: 3.28s\n",
      "534:\tlearn: 0.4554421\ttotal: 894ms\tremaining: 3.28s\n",
      "535:\tlearn: 0.4551861\ttotal: 895ms\tremaining: 3.28s\n",
      "536:\tlearn: 0.4550845\ttotal: 897ms\tremaining: 3.28s\n",
      "537:\tlearn: 0.4550174\ttotal: 898ms\tremaining: 3.27s\n",
      "538:\tlearn: 0.4547981\ttotal: 900ms\tremaining: 3.27s\n",
      "539:\tlearn: 0.4545684\ttotal: 901ms\tremaining: 3.27s\n",
      "540:\tlearn: 0.4543688\ttotal: 902ms\tremaining: 3.27s\n",
      "541:\tlearn: 0.4542278\ttotal: 904ms\tremaining: 3.27s\n",
      "542:\tlearn: 0.4540378\ttotal: 906ms\tremaining: 3.26s\n",
      "543:\tlearn: 0.4538223\ttotal: 907ms\tremaining: 3.26s\n",
      "544:\tlearn: 0.4536242\ttotal: 909ms\tremaining: 3.26s\n",
      "545:\tlearn: 0.4534303\ttotal: 910ms\tremaining: 3.26s\n",
      "546:\tlearn: 0.4533223\ttotal: 911ms\tremaining: 3.25s\n",
      "547:\tlearn: 0.4531229\ttotal: 913ms\tremaining: 3.25s\n",
      "548:\tlearn: 0.4529812\ttotal: 915ms\tremaining: 3.25s\n",
      "549:\tlearn: 0.4526893\ttotal: 916ms\tremaining: 3.25s\n",
      "550:\tlearn: 0.4525899\ttotal: 918ms\tremaining: 3.25s\n",
      "551:\tlearn: 0.4524356\ttotal: 919ms\tremaining: 3.24s\n",
      "552:\tlearn: 0.4521557\ttotal: 921ms\tremaining: 3.24s\n",
      "553:\tlearn: 0.4518955\ttotal: 922ms\tremaining: 3.24s\n",
      "554:\tlearn: 0.4516212\ttotal: 924ms\tremaining: 3.24s\n",
      "555:\tlearn: 0.4515050\ttotal: 925ms\tremaining: 3.23s\n",
      "556:\tlearn: 0.4513332\ttotal: 927ms\tremaining: 3.23s\n",
      "557:\tlearn: 0.4511594\ttotal: 928ms\tremaining: 3.23s\n",
      "558:\tlearn: 0.4510084\ttotal: 930ms\tremaining: 3.23s\n",
      "559:\tlearn: 0.4508542\ttotal: 932ms\tremaining: 3.23s\n",
      "560:\tlearn: 0.4506175\ttotal: 933ms\tremaining: 3.22s\n",
      "561:\tlearn: 0.4505153\ttotal: 935ms\tremaining: 3.22s\n",
      "562:\tlearn: 0.4503676\ttotal: 937ms\tremaining: 3.22s\n",
      "563:\tlearn: 0.4502214\ttotal: 939ms\tremaining: 3.22s\n",
      "564:\tlearn: 0.4500176\ttotal: 940ms\tremaining: 3.22s\n",
      "565:\tlearn: 0.4497488\ttotal: 942ms\tremaining: 3.22s\n",
      "566:\tlearn: 0.4496639\ttotal: 943ms\tremaining: 3.21s\n",
      "567:\tlearn: 0.4494215\ttotal: 944ms\tremaining: 3.21s\n",
      "568:\tlearn: 0.4492595\ttotal: 946ms\tremaining: 3.21s\n",
      "569:\tlearn: 0.4490372\ttotal: 948ms\tremaining: 3.21s\n",
      "570:\tlearn: 0.4488382\ttotal: 949ms\tremaining: 3.21s\n",
      "571:\tlearn: 0.4486998\ttotal: 951ms\tremaining: 3.2s\n",
      "572:\tlearn: 0.4485983\ttotal: 952ms\tremaining: 3.2s\n",
      "573:\tlearn: 0.4484566\ttotal: 954ms\tremaining: 3.2s\n",
      "574:\tlearn: 0.4482780\ttotal: 955ms\tremaining: 3.2s\n",
      "575:\tlearn: 0.4481721\ttotal: 957ms\tremaining: 3.19s\n",
      "576:\tlearn: 0.4480292\ttotal: 958ms\tremaining: 3.19s\n",
      "577:\tlearn: 0.4479311\ttotal: 960ms\tremaining: 3.19s\n",
      "578:\tlearn: 0.4478052\ttotal: 961ms\tremaining: 3.19s\n",
      "579:\tlearn: 0.4476021\ttotal: 963ms\tremaining: 3.19s\n",
      "580:\tlearn: 0.4474839\ttotal: 965ms\tremaining: 3.19s\n",
      "581:\tlearn: 0.4473793\ttotal: 966ms\tremaining: 3.18s\n",
      "582:\tlearn: 0.4471402\ttotal: 968ms\tremaining: 3.18s\n",
      "583:\tlearn: 0.4469233\ttotal: 969ms\tremaining: 3.18s\n",
      "584:\tlearn: 0.4467134\ttotal: 971ms\tremaining: 3.18s\n",
      "585:\tlearn: 0.4464209\ttotal: 972ms\tremaining: 3.17s\n",
      "586:\tlearn: 0.4462613\ttotal: 974ms\tremaining: 3.17s\n",
      "587:\tlearn: 0.4461313\ttotal: 975ms\tremaining: 3.17s\n",
      "588:\tlearn: 0.4460183\ttotal: 977ms\tremaining: 3.17s\n",
      "589:\tlearn: 0.4458393\ttotal: 978ms\tremaining: 3.17s\n",
      "590:\tlearn: 0.4456570\ttotal: 980ms\tremaining: 3.17s\n",
      "591:\tlearn: 0.4455648\ttotal: 981ms\tremaining: 3.16s\n",
      "592:\tlearn: 0.4453801\ttotal: 983ms\tremaining: 3.16s\n",
      "593:\tlearn: 0.4452032\ttotal: 985ms\tremaining: 3.16s\n",
      "594:\tlearn: 0.4449724\ttotal: 986ms\tremaining: 3.16s\n",
      "595:\tlearn: 0.4448451\ttotal: 988ms\tremaining: 3.15s\n",
      "596:\tlearn: 0.4446339\ttotal: 989ms\tremaining: 3.15s\n",
      "597:\tlearn: 0.4445022\ttotal: 991ms\tremaining: 3.15s\n",
      "598:\tlearn: 0.4443272\ttotal: 993ms\tremaining: 3.15s\n",
      "599:\tlearn: 0.4441723\ttotal: 994ms\tremaining: 3.15s\n",
      "600:\tlearn: 0.4440430\ttotal: 996ms\tremaining: 3.15s\n",
      "601:\tlearn: 0.4438716\ttotal: 997ms\tremaining: 3.14s\n",
      "602:\tlearn: 0.4436957\ttotal: 999ms\tremaining: 3.14s\n",
      "603:\tlearn: 0.4435322\ttotal: 1s\tremaining: 3.14s\n",
      "604:\tlearn: 0.4434534\ttotal: 1s\tremaining: 3.14s\n",
      "605:\tlearn: 0.4432412\ttotal: 1s\tremaining: 3.13s\n",
      "606:\tlearn: 0.4431284\ttotal: 1s\tremaining: 3.13s\n",
      "607:\tlearn: 0.4429431\ttotal: 1.01s\tremaining: 3.13s\n",
      "608:\tlearn: 0.4427475\ttotal: 1.01s\tremaining: 3.13s\n",
      "609:\tlearn: 0.4427393\ttotal: 1.01s\tremaining: 3.12s\n",
      "610:\tlearn: 0.4426467\ttotal: 1.01s\tremaining: 3.12s\n",
      "611:\tlearn: 0.4425211\ttotal: 1.01s\tremaining: 3.12s\n",
      "612:\tlearn: 0.4423448\ttotal: 1.01s\tremaining: 3.12s\n",
      "613:\tlearn: 0.4421560\ttotal: 1.01s\tremaining: 3.12s\n",
      "614:\tlearn: 0.4418982\ttotal: 1.01s\tremaining: 3.11s\n",
      "615:\tlearn: 0.4417190\ttotal: 1.02s\tremaining: 3.11s\n",
      "616:\tlearn: 0.4416101\ttotal: 1.02s\tremaining: 3.11s\n",
      "617:\tlearn: 0.4415282\ttotal: 1.02s\tremaining: 3.11s\n",
      "618:\tlearn: 0.4414157\ttotal: 1.02s\tremaining: 3.1s\n",
      "619:\tlearn: 0.4412739\ttotal: 1.02s\tremaining: 3.1s\n",
      "620:\tlearn: 0.4411442\ttotal: 1.02s\tremaining: 3.1s\n",
      "621:\tlearn: 0.4410213\ttotal: 1.03s\tremaining: 3.1s\n",
      "622:\tlearn: 0.4409006\ttotal: 1.03s\tremaining: 3.1s\n",
      "623:\tlearn: 0.4407741\ttotal: 1.03s\tremaining: 3.1s\n",
      "624:\tlearn: 0.4405421\ttotal: 1.03s\tremaining: 3.1s\n",
      "625:\tlearn: 0.4403988\ttotal: 1.03s\tremaining: 3.09s\n",
      "626:\tlearn: 0.4402814\ttotal: 1.03s\tremaining: 3.09s\n",
      "627:\tlearn: 0.4400245\ttotal: 1.04s\tremaining: 3.09s\n",
      "628:\tlearn: 0.4398613\ttotal: 1.04s\tremaining: 3.09s\n",
      "629:\tlearn: 0.4396826\ttotal: 1.04s\tremaining: 3.08s\n",
      "630:\tlearn: 0.4395255\ttotal: 1.04s\tremaining: 3.08s\n",
      "631:\tlearn: 0.4393085\ttotal: 1.04s\tremaining: 3.08s\n",
      "632:\tlearn: 0.4391057\ttotal: 1.04s\tremaining: 3.08s\n",
      "633:\tlearn: 0.4388689\ttotal: 1.04s\tremaining: 3.08s\n",
      "634:\tlearn: 0.4386127\ttotal: 1.05s\tremaining: 3.07s\n",
      "635:\tlearn: 0.4384325\ttotal: 1.05s\tremaining: 3.07s\n",
      "636:\tlearn: 0.4382441\ttotal: 1.05s\tremaining: 3.07s\n",
      "637:\tlearn: 0.4380186\ttotal: 1.05s\tremaining: 3.07s\n",
      "638:\tlearn: 0.4377782\ttotal: 1.05s\tremaining: 3.07s\n",
      "639:\tlearn: 0.4376638\ttotal: 1.05s\tremaining: 3.06s\n",
      "640:\tlearn: 0.4374858\ttotal: 1.05s\tremaining: 3.06s\n",
      "641:\tlearn: 0.4373611\ttotal: 1.06s\tremaining: 3.06s\n",
      "642:\tlearn: 0.4372409\ttotal: 1.06s\tremaining: 3.06s\n",
      "643:\tlearn: 0.4370670\ttotal: 1.06s\tremaining: 3.06s\n",
      "644:\tlearn: 0.4369138\ttotal: 1.06s\tremaining: 3.05s\n",
      "645:\tlearn: 0.4367699\ttotal: 1.06s\tremaining: 3.05s\n",
      "646:\tlearn: 0.4366121\ttotal: 1.06s\tremaining: 3.05s\n",
      "647:\tlearn: 0.4364566\ttotal: 1.07s\tremaining: 3.05s\n",
      "648:\tlearn: 0.4362342\ttotal: 1.07s\tremaining: 3.05s\n",
      "649:\tlearn: 0.4360071\ttotal: 1.07s\tremaining: 3.04s\n",
      "650:\tlearn: 0.4358098\ttotal: 1.07s\tremaining: 3.04s\n",
      "651:\tlearn: 0.4356866\ttotal: 1.07s\tremaining: 3.05s\n",
      "652:\tlearn: 0.4355210\ttotal: 1.08s\tremaining: 3.05s\n",
      "653:\tlearn: 0.4353039\ttotal: 1.08s\tremaining: 3.05s\n",
      "654:\tlearn: 0.4352112\ttotal: 1.08s\tremaining: 3.05s\n",
      "655:\tlearn: 0.4349952\ttotal: 1.08s\tremaining: 3.05s\n",
      "656:\tlearn: 0.4346919\ttotal: 1.09s\tremaining: 3.05s\n",
      "657:\tlearn: 0.4345063\ttotal: 1.09s\tremaining: 3.05s\n",
      "658:\tlearn: 0.4342982\ttotal: 1.09s\tremaining: 3.05s\n",
      "659:\tlearn: 0.4341657\ttotal: 1.09s\tremaining: 3.05s\n",
      "660:\tlearn: 0.4338962\ttotal: 1.09s\tremaining: 3.05s\n",
      "661:\tlearn: 0.4337135\ttotal: 1.1s\tremaining: 3.04s\n",
      "662:\tlearn: 0.4335069\ttotal: 1.1s\tremaining: 3.04s\n",
      "663:\tlearn: 0.4333314\ttotal: 1.1s\tremaining: 3.04s\n",
      "664:\tlearn: 0.4331905\ttotal: 1.1s\tremaining: 3.04s\n",
      "665:\tlearn: 0.4330342\ttotal: 1.1s\tremaining: 3.04s\n",
      "666:\tlearn: 0.4328675\ttotal: 1.1s\tremaining: 3.03s\n",
      "667:\tlearn: 0.4326897\ttotal: 1.1s\tremaining: 3.03s\n",
      "668:\tlearn: 0.4325552\ttotal: 1.11s\tremaining: 3.03s\n",
      "669:\tlearn: 0.4324740\ttotal: 1.11s\tremaining: 3.03s\n",
      "670:\tlearn: 0.4323345\ttotal: 1.11s\tremaining: 3.03s\n",
      "671:\tlearn: 0.4321735\ttotal: 1.11s\tremaining: 3.02s\n",
      "672:\tlearn: 0.4320042\ttotal: 1.11s\tremaining: 3.02s\n",
      "673:\tlearn: 0.4318387\ttotal: 1.11s\tremaining: 3.02s\n",
      "674:\tlearn: 0.4316808\ttotal: 1.12s\tremaining: 3.02s\n",
      "675:\tlearn: 0.4315890\ttotal: 1.12s\tremaining: 3.02s\n",
      "676:\tlearn: 0.4314269\ttotal: 1.12s\tremaining: 3.02s\n",
      "677:\tlearn: 0.4313311\ttotal: 1.12s\tremaining: 3.01s\n",
      "678:\tlearn: 0.4312011\ttotal: 1.12s\tremaining: 3.01s\n",
      "679:\tlearn: 0.4310485\ttotal: 1.13s\tremaining: 3.01s\n",
      "680:\tlearn: 0.4308392\ttotal: 1.13s\tremaining: 3.01s\n",
      "681:\tlearn: 0.4306353\ttotal: 1.13s\tremaining: 3.01s\n",
      "682:\tlearn: 0.4304852\ttotal: 1.13s\tremaining: 3.01s\n",
      "683:\tlearn: 0.4303646\ttotal: 1.13s\tremaining: 3.01s\n",
      "684:\tlearn: 0.4302347\ttotal: 1.13s\tremaining: 3s\n",
      "685:\tlearn: 0.4300704\ttotal: 1.14s\tremaining: 3s\n",
      "686:\tlearn: 0.4297788\ttotal: 1.14s\tremaining: 3s\n",
      "687:\tlearn: 0.4295888\ttotal: 1.14s\tremaining: 3s\n",
      "688:\tlearn: 0.4294147\ttotal: 1.14s\tremaining: 3s\n",
      "689:\tlearn: 0.4291985\ttotal: 1.14s\tremaining: 2.99s\n",
      "690:\tlearn: 0.4290160\ttotal: 1.14s\tremaining: 2.99s\n",
      "691:\tlearn: 0.4287602\ttotal: 1.14s\tremaining: 2.99s\n",
      "692:\tlearn: 0.4287055\ttotal: 1.15s\tremaining: 2.99s\n",
      "693:\tlearn: 0.4285181\ttotal: 1.15s\tremaining: 2.99s\n",
      "694:\tlearn: 0.4283912\ttotal: 1.15s\tremaining: 2.98s\n",
      "695:\tlearn: 0.4283288\ttotal: 1.15s\tremaining: 2.98s\n",
      "696:\tlearn: 0.4281781\ttotal: 1.15s\tremaining: 2.98s\n",
      "697:\tlearn: 0.4279429\ttotal: 1.15s\tremaining: 2.98s\n",
      "698:\tlearn: 0.4277863\ttotal: 1.16s\tremaining: 2.98s\n",
      "699:\tlearn: 0.4275722\ttotal: 1.16s\tremaining: 2.97s\n",
      "700:\tlearn: 0.4274421\ttotal: 1.16s\tremaining: 2.97s\n",
      "701:\tlearn: 0.4272741\ttotal: 1.16s\tremaining: 2.97s\n",
      "702:\tlearn: 0.4271444\ttotal: 1.16s\tremaining: 2.97s\n",
      "703:\tlearn: 0.4269140\ttotal: 1.16s\tremaining: 2.97s\n",
      "704:\tlearn: 0.4268352\ttotal: 1.16s\tremaining: 2.96s\n",
      "705:\tlearn: 0.4267100\ttotal: 1.17s\tremaining: 2.96s\n",
      "706:\tlearn: 0.4265291\ttotal: 1.17s\tremaining: 2.96s\n",
      "707:\tlearn: 0.4264420\ttotal: 1.17s\tremaining: 2.96s\n",
      "708:\tlearn: 0.4262148\ttotal: 1.17s\tremaining: 2.96s\n",
      "709:\tlearn: 0.4261151\ttotal: 1.17s\tremaining: 2.95s\n",
      "710:\tlearn: 0.4258616\ttotal: 1.17s\tremaining: 2.95s\n",
      "711:\tlearn: 0.4257867\ttotal: 1.17s\tremaining: 2.95s\n",
      "712:\tlearn: 0.4256468\ttotal: 1.18s\tremaining: 2.95s\n",
      "713:\tlearn: 0.4254378\ttotal: 1.18s\tremaining: 2.95s\n",
      "714:\tlearn: 0.4253152\ttotal: 1.18s\tremaining: 2.94s\n",
      "715:\tlearn: 0.4251662\ttotal: 1.18s\tremaining: 2.94s\n",
      "716:\tlearn: 0.4250285\ttotal: 1.18s\tremaining: 2.94s\n",
      "717:\tlearn: 0.4249281\ttotal: 1.18s\tremaining: 2.94s\n",
      "718:\tlearn: 0.4248230\ttotal: 1.19s\tremaining: 2.94s\n",
      "719:\tlearn: 0.4246694\ttotal: 1.19s\tremaining: 2.93s\n",
      "720:\tlearn: 0.4245722\ttotal: 1.19s\tremaining: 2.93s\n",
      "721:\tlearn: 0.4244592\ttotal: 1.19s\tremaining: 2.93s\n",
      "722:\tlearn: 0.4243502\ttotal: 1.19s\tremaining: 2.93s\n",
      "723:\tlearn: 0.4243476\ttotal: 1.19s\tremaining: 2.92s\n",
      "724:\tlearn: 0.4242311\ttotal: 1.19s\tremaining: 2.92s\n",
      "725:\tlearn: 0.4241601\ttotal: 1.19s\tremaining: 2.92s\n",
      "726:\tlearn: 0.4239714\ttotal: 1.2s\tremaining: 2.92s\n",
      "727:\tlearn: 0.4238748\ttotal: 1.2s\tremaining: 2.92s\n",
      "728:\tlearn: 0.4238064\ttotal: 1.2s\tremaining: 2.91s\n",
      "729:\tlearn: 0.4237316\ttotal: 1.2s\tremaining: 2.91s\n",
      "730:\tlearn: 0.4235657\ttotal: 1.2s\tremaining: 2.91s\n",
      "731:\tlearn: 0.4234060\ttotal: 1.2s\tremaining: 2.91s\n",
      "732:\tlearn: 0.4232891\ttotal: 1.21s\tremaining: 2.9s\n",
      "733:\tlearn: 0.4231395\ttotal: 1.21s\tremaining: 2.9s\n",
      "734:\tlearn: 0.4230349\ttotal: 1.21s\tremaining: 2.9s\n",
      "735:\tlearn: 0.4228222\ttotal: 1.21s\tremaining: 2.9s\n",
      "736:\tlearn: 0.4227009\ttotal: 1.21s\tremaining: 2.9s\n",
      "737:\tlearn: 0.4225937\ttotal: 1.21s\tremaining: 2.9s\n",
      "738:\tlearn: 0.4224120\ttotal: 1.21s\tremaining: 2.89s\n",
      "739:\tlearn: 0.4221314\ttotal: 1.22s\tremaining: 2.89s\n",
      "740:\tlearn: 0.4220803\ttotal: 1.22s\tremaining: 2.89s\n",
      "741:\tlearn: 0.4219538\ttotal: 1.22s\tremaining: 2.89s\n",
      "742:\tlearn: 0.4218828\ttotal: 1.22s\tremaining: 2.89s\n",
      "743:\tlearn: 0.4217558\ttotal: 1.22s\tremaining: 2.88s\n",
      "744:\tlearn: 0.4216286\ttotal: 1.22s\tremaining: 2.88s\n",
      "745:\tlearn: 0.4214778\ttotal: 1.23s\tremaining: 2.88s\n",
      "746:\tlearn: 0.4212950\ttotal: 1.23s\tremaining: 2.88s\n",
      "747:\tlearn: 0.4212467\ttotal: 1.23s\tremaining: 2.88s\n",
      "748:\tlearn: 0.4210454\ttotal: 1.23s\tremaining: 2.88s\n",
      "749:\tlearn: 0.4208981\ttotal: 1.23s\tremaining: 2.87s\n",
      "750:\tlearn: 0.4206979\ttotal: 1.23s\tremaining: 2.87s\n",
      "751:\tlearn: 0.4206186\ttotal: 1.23s\tremaining: 2.87s\n",
      "752:\tlearn: 0.4204059\ttotal: 1.24s\tremaining: 2.87s\n",
      "753:\tlearn: 0.4202778\ttotal: 1.24s\tremaining: 2.87s\n",
      "754:\tlearn: 0.4201174\ttotal: 1.24s\tremaining: 2.86s\n",
      "755:\tlearn: 0.4199881\ttotal: 1.24s\tremaining: 2.86s\n",
      "756:\tlearn: 0.4199062\ttotal: 1.24s\tremaining: 2.86s\n",
      "757:\tlearn: 0.4198053\ttotal: 1.24s\tremaining: 2.86s\n",
      "758:\tlearn: 0.4197546\ttotal: 1.24s\tremaining: 2.85s\n",
      "759:\tlearn: 0.4195522\ttotal: 1.25s\tremaining: 2.85s\n",
      "760:\tlearn: 0.4194300\ttotal: 1.25s\tremaining: 2.85s\n",
      "761:\tlearn: 0.4192651\ttotal: 1.25s\tremaining: 2.85s\n",
      "762:\tlearn: 0.4192260\ttotal: 1.25s\tremaining: 2.85s\n",
      "763:\tlearn: 0.4191529\ttotal: 1.25s\tremaining: 2.84s\n",
      "764:\tlearn: 0.4190309\ttotal: 1.25s\tremaining: 2.84s\n",
      "765:\tlearn: 0.4189404\ttotal: 1.25s\tremaining: 2.84s\n",
      "766:\tlearn: 0.4186911\ttotal: 1.25s\tremaining: 2.84s\n",
      "767:\tlearn: 0.4185967\ttotal: 1.26s\tremaining: 2.83s\n",
      "768:\tlearn: 0.4184433\ttotal: 1.26s\tremaining: 2.83s\n",
      "769:\tlearn: 0.4182952\ttotal: 1.26s\tremaining: 2.83s\n",
      "770:\tlearn: 0.4181713\ttotal: 1.26s\tremaining: 2.83s\n",
      "771:\tlearn: 0.4180769\ttotal: 1.26s\tremaining: 2.83s\n",
      "772:\tlearn: 0.4178990\ttotal: 1.26s\tremaining: 2.83s\n",
      "773:\tlearn: 0.4176917\ttotal: 1.27s\tremaining: 2.82s\n",
      "774:\tlearn: 0.4176340\ttotal: 1.27s\tremaining: 2.82s\n",
      "775:\tlearn: 0.4175535\ttotal: 1.27s\tremaining: 2.82s\n",
      "776:\tlearn: 0.4174023\ttotal: 1.27s\tremaining: 2.82s\n",
      "777:\tlearn: 0.4172475\ttotal: 1.27s\tremaining: 2.82s\n",
      "778:\tlearn: 0.4169873\ttotal: 1.27s\tremaining: 2.81s\n",
      "779:\tlearn: 0.4169830\ttotal: 1.27s\tremaining: 2.81s\n",
      "780:\tlearn: 0.4167706\ttotal: 1.28s\tremaining: 2.81s\n",
      "781:\tlearn: 0.4166689\ttotal: 1.28s\tremaining: 2.81s\n",
      "782:\tlearn: 0.4164756\ttotal: 1.28s\tremaining: 2.81s\n",
      "783:\tlearn: 0.4163224\ttotal: 1.28s\tremaining: 2.8s\n",
      "784:\tlearn: 0.4162253\ttotal: 1.28s\tremaining: 2.8s\n",
      "785:\tlearn: 0.4160309\ttotal: 1.28s\tremaining: 2.8s\n",
      "786:\tlearn: 0.4158690\ttotal: 1.28s\tremaining: 2.8s\n",
      "787:\tlearn: 0.4156901\ttotal: 1.29s\tremaining: 2.8s\n",
      "788:\tlearn: 0.4154869\ttotal: 1.29s\tremaining: 2.79s\n",
      "789:\tlearn: 0.4152957\ttotal: 1.29s\tremaining: 2.79s\n",
      "790:\tlearn: 0.4151832\ttotal: 1.29s\tremaining: 2.79s\n",
      "791:\tlearn: 0.4150398\ttotal: 1.29s\tremaining: 2.79s\n",
      "792:\tlearn: 0.4148950\ttotal: 1.29s\tremaining: 2.79s\n",
      "793:\tlearn: 0.4147548\ttotal: 1.3s\tremaining: 2.79s\n",
      "794:\tlearn: 0.4144819\ttotal: 1.3s\tremaining: 2.78s\n",
      "795:\tlearn: 0.4142363\ttotal: 1.3s\tremaining: 2.78s\n",
      "796:\tlearn: 0.4141721\ttotal: 1.3s\tremaining: 2.78s\n",
      "797:\tlearn: 0.4140477\ttotal: 1.3s\tremaining: 2.78s\n",
      "798:\tlearn: 0.4138396\ttotal: 1.3s\tremaining: 2.78s\n",
      "799:\tlearn: 0.4136649\ttotal: 1.3s\tremaining: 2.77s\n",
      "800:\tlearn: 0.4135165\ttotal: 1.31s\tremaining: 2.77s\n",
      "801:\tlearn: 0.4133072\ttotal: 1.31s\tremaining: 2.77s\n",
      "802:\tlearn: 0.4132251\ttotal: 1.31s\tremaining: 2.77s\n",
      "803:\tlearn: 0.4129142\ttotal: 1.31s\tremaining: 2.77s\n",
      "804:\tlearn: 0.4127210\ttotal: 1.31s\tremaining: 2.77s\n",
      "805:\tlearn: 0.4126424\ttotal: 1.31s\tremaining: 2.77s\n",
      "806:\tlearn: 0.4124756\ttotal: 1.32s\tremaining: 2.76s\n",
      "807:\tlearn: 0.4123421\ttotal: 1.32s\tremaining: 2.76s\n",
      "808:\tlearn: 0.4121707\ttotal: 1.32s\tremaining: 2.76s\n",
      "809:\tlearn: 0.4119952\ttotal: 1.32s\tremaining: 2.76s\n",
      "810:\tlearn: 0.4118944\ttotal: 1.32s\tremaining: 2.75s\n",
      "811:\tlearn: 0.4116321\ttotal: 1.32s\tremaining: 2.75s\n",
      "812:\tlearn: 0.4115151\ttotal: 1.33s\tremaining: 2.75s\n",
      "813:\tlearn: 0.4114225\ttotal: 1.33s\tremaining: 2.75s\n",
      "814:\tlearn: 0.4113216\ttotal: 1.33s\tremaining: 2.75s\n",
      "815:\tlearn: 0.4112678\ttotal: 1.33s\tremaining: 2.75s\n",
      "816:\tlearn: 0.4111784\ttotal: 1.33s\tremaining: 2.74s\n",
      "817:\tlearn: 0.4110824\ttotal: 1.33s\tremaining: 2.74s\n",
      "818:\tlearn: 0.4109436\ttotal: 1.33s\tremaining: 2.74s\n",
      "819:\tlearn: 0.4107970\ttotal: 1.34s\tremaining: 2.74s\n",
      "820:\tlearn: 0.4105691\ttotal: 1.34s\tremaining: 2.74s\n",
      "821:\tlearn: 0.4104327\ttotal: 1.34s\tremaining: 2.73s\n",
      "822:\tlearn: 0.4103894\ttotal: 1.34s\tremaining: 2.73s\n",
      "823:\tlearn: 0.4103110\ttotal: 1.34s\tremaining: 2.73s\n",
      "824:\tlearn: 0.4101404\ttotal: 1.34s\tremaining: 2.73s\n",
      "825:\tlearn: 0.4099947\ttotal: 1.34s\tremaining: 2.73s\n",
      "826:\tlearn: 0.4099211\ttotal: 1.35s\tremaining: 2.73s\n",
      "827:\tlearn: 0.4097548\ttotal: 1.35s\tremaining: 2.72s\n",
      "828:\tlearn: 0.4095968\ttotal: 1.35s\tremaining: 2.72s\n",
      "829:\tlearn: 0.4094908\ttotal: 1.35s\tremaining: 2.72s\n",
      "830:\tlearn: 0.4093826\ttotal: 1.35s\tremaining: 2.72s\n",
      "831:\tlearn: 0.4093357\ttotal: 1.35s\tremaining: 2.71s\n",
      "832:\tlearn: 0.4092303\ttotal: 1.36s\tremaining: 2.71s\n",
      "833:\tlearn: 0.4091400\ttotal: 1.36s\tremaining: 2.71s\n",
      "834:\tlearn: 0.4090465\ttotal: 1.36s\tremaining: 2.71s\n",
      "835:\tlearn: 0.4089340\ttotal: 1.36s\tremaining: 2.71s\n",
      "836:\tlearn: 0.4087230\ttotal: 1.36s\tremaining: 2.71s\n",
      "837:\tlearn: 0.4085745\ttotal: 1.36s\tremaining: 2.7s\n",
      "838:\tlearn: 0.4083343\ttotal: 1.36s\tremaining: 2.7s\n",
      "839:\tlearn: 0.4082430\ttotal: 1.37s\tremaining: 2.7s\n",
      "840:\tlearn: 0.4080416\ttotal: 1.37s\tremaining: 2.7s\n",
      "841:\tlearn: 0.4079183\ttotal: 1.37s\tremaining: 2.7s\n",
      "842:\tlearn: 0.4076972\ttotal: 1.37s\tremaining: 2.69s\n",
      "843:\tlearn: 0.4075973\ttotal: 1.37s\tremaining: 2.69s\n",
      "844:\tlearn: 0.4074357\ttotal: 1.37s\tremaining: 2.69s\n",
      "845:\tlearn: 0.4073064\ttotal: 1.38s\tremaining: 2.69s\n",
      "846:\tlearn: 0.4071884\ttotal: 1.38s\tremaining: 2.69s\n",
      "847:\tlearn: 0.4069598\ttotal: 1.38s\tremaining: 2.69s\n",
      "848:\tlearn: 0.4068293\ttotal: 1.38s\tremaining: 2.68s\n",
      "849:\tlearn: 0.4066803\ttotal: 1.38s\tremaining: 2.68s\n",
      "850:\tlearn: 0.4064466\ttotal: 1.38s\tremaining: 2.68s\n",
      "851:\tlearn: 0.4063098\ttotal: 1.38s\tremaining: 2.68s\n",
      "852:\tlearn: 0.4062397\ttotal: 1.39s\tremaining: 2.68s\n",
      "853:\tlearn: 0.4060376\ttotal: 1.39s\tremaining: 2.67s\n",
      "854:\tlearn: 0.4059208\ttotal: 1.39s\tremaining: 2.67s\n",
      "855:\tlearn: 0.4058080\ttotal: 1.39s\tremaining: 2.67s\n",
      "856:\tlearn: 0.4056776\ttotal: 1.39s\tremaining: 2.67s\n",
      "857:\tlearn: 0.4054749\ttotal: 1.39s\tremaining: 2.67s\n",
      "858:\tlearn: 0.4053957\ttotal: 1.4s\tremaining: 2.67s\n",
      "859:\tlearn: 0.4052446\ttotal: 1.4s\tremaining: 2.66s\n",
      "860:\tlearn: 0.4050349\ttotal: 1.4s\tremaining: 2.66s\n",
      "861:\tlearn: 0.4048428\ttotal: 1.4s\tremaining: 2.66s\n",
      "862:\tlearn: 0.4047682\ttotal: 1.4s\tremaining: 2.66s\n",
      "863:\tlearn: 0.4046545\ttotal: 1.4s\tremaining: 2.66s\n",
      "864:\tlearn: 0.4044912\ttotal: 1.4s\tremaining: 2.65s\n",
      "865:\tlearn: 0.4044054\ttotal: 1.41s\tremaining: 2.65s\n",
      "866:\tlearn: 0.4041585\ttotal: 1.41s\tremaining: 2.65s\n",
      "867:\tlearn: 0.4040109\ttotal: 1.41s\tremaining: 2.65s\n",
      "868:\tlearn: 0.4038752\ttotal: 1.41s\tremaining: 2.65s\n",
      "869:\tlearn: 0.4037467\ttotal: 1.41s\tremaining: 2.65s\n",
      "870:\tlearn: 0.4036914\ttotal: 1.41s\tremaining: 2.64s\n",
      "871:\tlearn: 0.4035443\ttotal: 1.42s\tremaining: 2.64s\n",
      "872:\tlearn: 0.4033124\ttotal: 1.42s\tremaining: 2.64s\n",
      "873:\tlearn: 0.4031106\ttotal: 1.42s\tremaining: 2.64s\n",
      "874:\tlearn: 0.4030141\ttotal: 1.42s\tremaining: 2.64s\n",
      "875:\tlearn: 0.4028242\ttotal: 1.42s\tremaining: 2.63s\n",
      "876:\tlearn: 0.4026153\ttotal: 1.42s\tremaining: 2.63s\n",
      "877:\tlearn: 0.4024557\ttotal: 1.42s\tremaining: 2.63s\n",
      "878:\tlearn: 0.4022646\ttotal: 1.43s\tremaining: 2.63s\n",
      "879:\tlearn: 0.4021922\ttotal: 1.43s\tremaining: 2.63s\n",
      "880:\tlearn: 0.4020941\ttotal: 1.43s\tremaining: 2.63s\n",
      "881:\tlearn: 0.4019553\ttotal: 1.43s\tremaining: 2.62s\n",
      "882:\tlearn: 0.4018430\ttotal: 1.43s\tremaining: 2.62s\n",
      "883:\tlearn: 0.4016704\ttotal: 1.43s\tremaining: 2.62s\n",
      "884:\tlearn: 0.4016055\ttotal: 1.44s\tremaining: 2.62s\n",
      "885:\tlearn: 0.4015018\ttotal: 1.44s\tremaining: 2.62s\n",
      "886:\tlearn: 0.4013694\ttotal: 1.44s\tremaining: 2.62s\n",
      "887:\tlearn: 0.4012937\ttotal: 1.44s\tremaining: 2.61s\n",
      "888:\tlearn: 0.4011609\ttotal: 1.44s\tremaining: 2.61s\n",
      "889:\tlearn: 0.4010044\ttotal: 1.44s\tremaining: 2.61s\n",
      "890:\tlearn: 0.4009327\ttotal: 1.44s\tremaining: 2.61s\n",
      "891:\tlearn: 0.4008142\ttotal: 1.45s\tremaining: 2.61s\n",
      "892:\tlearn: 0.4006942\ttotal: 1.45s\tremaining: 2.6s\n",
      "893:\tlearn: 0.4006343\ttotal: 1.45s\tremaining: 2.6s\n",
      "894:\tlearn: 0.4004505\ttotal: 1.45s\tremaining: 2.6s\n",
      "895:\tlearn: 0.4002902\ttotal: 1.45s\tremaining: 2.6s\n",
      "896:\tlearn: 0.4001649\ttotal: 1.45s\tremaining: 2.6s\n",
      "897:\tlearn: 0.4000329\ttotal: 1.45s\tremaining: 2.6s\n",
      "898:\tlearn: 0.3998482\ttotal: 1.46s\tremaining: 2.59s\n",
      "899:\tlearn: 0.3997697\ttotal: 1.46s\tremaining: 2.59s\n",
      "900:\tlearn: 0.3995612\ttotal: 1.46s\tremaining: 2.59s\n",
      "901:\tlearn: 0.3994363\ttotal: 1.46s\tremaining: 2.59s\n",
      "902:\tlearn: 0.3992398\ttotal: 1.46s\tremaining: 2.59s\n",
      "903:\tlearn: 0.3991133\ttotal: 1.46s\tremaining: 2.58s\n",
      "904:\tlearn: 0.3989937\ttotal: 1.47s\tremaining: 2.58s\n",
      "905:\tlearn: 0.3989282\ttotal: 1.47s\tremaining: 2.58s\n",
      "906:\tlearn: 0.3987309\ttotal: 1.47s\tremaining: 2.58s\n",
      "907:\tlearn: 0.3986014\ttotal: 1.47s\tremaining: 2.58s\n",
      "908:\tlearn: 0.3984695\ttotal: 1.47s\tremaining: 2.58s\n",
      "909:\tlearn: 0.3983923\ttotal: 1.47s\tremaining: 2.57s\n",
      "910:\tlearn: 0.3982859\ttotal: 1.47s\tremaining: 2.57s\n",
      "911:\tlearn: 0.3981164\ttotal: 1.48s\tremaining: 2.57s\n",
      "912:\tlearn: 0.3980336\ttotal: 1.48s\tremaining: 2.57s\n",
      "913:\tlearn: 0.3978678\ttotal: 1.48s\tremaining: 2.57s\n",
      "914:\tlearn: 0.3977512\ttotal: 1.48s\tremaining: 2.56s\n",
      "915:\tlearn: 0.3976707\ttotal: 1.48s\tremaining: 2.56s\n",
      "916:\tlearn: 0.3975009\ttotal: 1.48s\tremaining: 2.56s\n",
      "917:\tlearn: 0.3974670\ttotal: 1.49s\tremaining: 2.56s\n",
      "918:\tlearn: 0.3973419\ttotal: 1.49s\tremaining: 2.56s\n",
      "919:\tlearn: 0.3971788\ttotal: 1.49s\tremaining: 2.56s\n",
      "920:\tlearn: 0.3969654\ttotal: 1.49s\tremaining: 2.55s\n",
      "921:\tlearn: 0.3968511\ttotal: 1.49s\tremaining: 2.55s\n",
      "922:\tlearn: 0.3967395\ttotal: 1.49s\tremaining: 2.55s\n",
      "923:\tlearn: 0.3965928\ttotal: 1.49s\tremaining: 2.55s\n",
      "924:\tlearn: 0.3964445\ttotal: 1.5s\tremaining: 2.55s\n",
      "925:\tlearn: 0.3963205\ttotal: 1.5s\tremaining: 2.54s\n",
      "926:\tlearn: 0.3961871\ttotal: 1.5s\tremaining: 2.54s\n",
      "927:\tlearn: 0.3960696\ttotal: 1.5s\tremaining: 2.54s\n",
      "928:\tlearn: 0.3959460\ttotal: 1.5s\tremaining: 2.54s\n",
      "929:\tlearn: 0.3958305\ttotal: 1.5s\tremaining: 2.54s\n",
      "930:\tlearn: 0.3957377\ttotal: 1.5s\tremaining: 2.54s\n",
      "931:\tlearn: 0.3956596\ttotal: 1.51s\tremaining: 2.54s\n",
      "932:\tlearn: 0.3956567\ttotal: 1.51s\tremaining: 2.53s\n",
      "933:\tlearn: 0.3955267\ttotal: 1.51s\tremaining: 2.53s\n",
      "934:\tlearn: 0.3954013\ttotal: 1.51s\tremaining: 2.53s\n",
      "935:\tlearn: 0.3952870\ttotal: 1.51s\tremaining: 2.53s\n",
      "936:\tlearn: 0.3952220\ttotal: 1.51s\tremaining: 2.52s\n",
      "937:\tlearn: 0.3951294\ttotal: 1.51s\tremaining: 2.52s\n",
      "938:\tlearn: 0.3950319\ttotal: 1.52s\tremaining: 2.52s\n",
      "939:\tlearn: 0.3948351\ttotal: 1.52s\tremaining: 2.52s\n",
      "940:\tlearn: 0.3946604\ttotal: 1.52s\tremaining: 2.52s\n",
      "941:\tlearn: 0.3945830\ttotal: 1.52s\tremaining: 2.52s\n",
      "942:\tlearn: 0.3943828\ttotal: 1.52s\tremaining: 2.51s\n",
      "943:\tlearn: 0.3941289\ttotal: 1.52s\tremaining: 2.51s\n",
      "944:\tlearn: 0.3939573\ttotal: 1.52s\tremaining: 2.51s\n",
      "945:\tlearn: 0.3936624\ttotal: 1.53s\tremaining: 2.51s\n",
      "946:\tlearn: 0.3935410\ttotal: 1.53s\tremaining: 2.51s\n",
      "947:\tlearn: 0.3933990\ttotal: 1.53s\tremaining: 2.5s\n",
      "948:\tlearn: 0.3932681\ttotal: 1.53s\tremaining: 2.5s\n",
      "949:\tlearn: 0.3932054\ttotal: 1.53s\tremaining: 2.5s\n",
      "950:\tlearn: 0.3930503\ttotal: 1.53s\tremaining: 2.5s\n",
      "951:\tlearn: 0.3928905\ttotal: 1.54s\tremaining: 2.5s\n",
      "952:\tlearn: 0.3927693\ttotal: 1.54s\tremaining: 2.5s\n",
      "953:\tlearn: 0.3925573\ttotal: 1.54s\tremaining: 2.49s\n",
      "954:\tlearn: 0.3924340\ttotal: 1.54s\tremaining: 2.49s\n",
      "955:\tlearn: 0.3923052\ttotal: 1.54s\tremaining: 2.49s\n",
      "956:\tlearn: 0.3922387\ttotal: 1.54s\tremaining: 2.49s\n",
      "957:\tlearn: 0.3921043\ttotal: 1.54s\tremaining: 2.49s\n",
      "958:\tlearn: 0.3918812\ttotal: 1.55s\tremaining: 2.48s\n",
      "959:\tlearn: 0.3917243\ttotal: 1.55s\tremaining: 2.48s\n",
      "960:\tlearn: 0.3916047\ttotal: 1.55s\tremaining: 2.48s\n",
      "961:\tlearn: 0.3914727\ttotal: 1.55s\tremaining: 2.48s\n",
      "962:\tlearn: 0.3913542\ttotal: 1.55s\tremaining: 2.48s\n",
      "963:\tlearn: 0.3912957\ttotal: 1.55s\tremaining: 2.48s\n",
      "964:\tlearn: 0.3911370\ttotal: 1.55s\tremaining: 2.47s\n",
      "965:\tlearn: 0.3910790\ttotal: 1.56s\tremaining: 2.47s\n",
      "966:\tlearn: 0.3909845\ttotal: 1.56s\tremaining: 2.47s\n",
      "967:\tlearn: 0.3908473\ttotal: 1.56s\tremaining: 2.47s\n",
      "968:\tlearn: 0.3906607\ttotal: 1.56s\tremaining: 2.47s\n",
      "969:\tlearn: 0.3905563\ttotal: 1.56s\tremaining: 2.46s\n",
      "970:\tlearn: 0.3904302\ttotal: 1.56s\tremaining: 2.46s\n",
      "971:\tlearn: 0.3903115\ttotal: 1.57s\tremaining: 2.46s\n",
      "972:\tlearn: 0.3901243\ttotal: 1.57s\tremaining: 2.46s\n",
      "973:\tlearn: 0.3900022\ttotal: 1.57s\tremaining: 2.46s\n",
      "974:\tlearn: 0.3899048\ttotal: 1.57s\tremaining: 2.46s\n",
      "975:\tlearn: 0.3897754\ttotal: 1.57s\tremaining: 2.46s\n",
      "976:\tlearn: 0.3897010\ttotal: 1.57s\tremaining: 2.45s\n",
      "977:\tlearn: 0.3896141\ttotal: 1.57s\tremaining: 2.45s\n",
      "978:\tlearn: 0.3894956\ttotal: 1.58s\tremaining: 2.45s\n",
      "979:\tlearn: 0.3894309\ttotal: 1.58s\tremaining: 2.45s\n",
      "980:\tlearn: 0.3893169\ttotal: 1.58s\tremaining: 2.45s\n",
      "981:\tlearn: 0.3892426\ttotal: 1.58s\tremaining: 2.44s\n",
      "982:\tlearn: 0.3891744\ttotal: 1.58s\tremaining: 2.44s\n",
      "983:\tlearn: 0.3890581\ttotal: 1.58s\tremaining: 2.44s\n",
      "984:\tlearn: 0.3889329\ttotal: 1.59s\tremaining: 2.44s\n",
      "985:\tlearn: 0.3888589\ttotal: 1.59s\tremaining: 2.44s\n",
      "986:\tlearn: 0.3888497\ttotal: 1.59s\tremaining: 2.43s\n",
      "987:\tlearn: 0.3887644\ttotal: 1.59s\tremaining: 2.43s\n",
      "988:\tlearn: 0.3886720\ttotal: 1.59s\tremaining: 2.43s\n",
      "989:\tlearn: 0.3884845\ttotal: 1.59s\tremaining: 2.43s\n",
      "990:\tlearn: 0.3884439\ttotal: 1.59s\tremaining: 2.43s\n",
      "991:\tlearn: 0.3882451\ttotal: 1.59s\tremaining: 2.42s\n",
      "992:\tlearn: 0.3880495\ttotal: 1.6s\tremaining: 2.42s\n",
      "993:\tlearn: 0.3879499\ttotal: 1.6s\tremaining: 2.42s\n",
      "994:\tlearn: 0.3878738\ttotal: 1.6s\tremaining: 2.42s\n",
      "995:\tlearn: 0.3877939\ttotal: 1.6s\tremaining: 2.42s\n",
      "996:\tlearn: 0.3876180\ttotal: 1.6s\tremaining: 2.42s\n",
      "997:\tlearn: 0.3874718\ttotal: 1.6s\tremaining: 2.42s\n",
      "998:\tlearn: 0.3874503\ttotal: 1.6s\tremaining: 2.41s\n",
      "999:\tlearn: 0.3873611\ttotal: 1.61s\tremaining: 2.41s\n",
      "1000:\tlearn: 0.3871829\ttotal: 1.61s\tremaining: 2.41s\n",
      "1001:\tlearn: 0.3871048\ttotal: 1.61s\tremaining: 2.41s\n",
      "1002:\tlearn: 0.3870442\ttotal: 1.61s\tremaining: 2.4s\n",
      "1003:\tlearn: 0.3869227\ttotal: 1.61s\tremaining: 2.4s\n",
      "1004:\tlearn: 0.3867750\ttotal: 1.61s\tremaining: 2.4s\n",
      "1005:\tlearn: 0.3866696\ttotal: 1.61s\tremaining: 2.4s\n",
      "1006:\tlearn: 0.3865435\ttotal: 1.62s\tremaining: 2.4s\n",
      "1007:\tlearn: 0.3864078\ttotal: 1.62s\tremaining: 2.4s\n",
      "1008:\tlearn: 0.3862763\ttotal: 1.62s\tremaining: 2.39s\n",
      "1009:\tlearn: 0.3860783\ttotal: 1.62s\tremaining: 2.39s\n",
      "1010:\tlearn: 0.3859919\ttotal: 1.62s\tremaining: 2.39s\n",
      "1011:\tlearn: 0.3858066\ttotal: 1.63s\tremaining: 2.39s\n",
      "1012:\tlearn: 0.3857217\ttotal: 1.63s\tremaining: 2.39s\n",
      "1013:\tlearn: 0.3856446\ttotal: 1.63s\tremaining: 2.38s\n",
      "1014:\tlearn: 0.3855639\ttotal: 1.63s\tremaining: 2.38s\n",
      "1015:\tlearn: 0.3853070\ttotal: 1.63s\tremaining: 2.38s\n",
      "1016:\tlearn: 0.3852254\ttotal: 1.63s\tremaining: 2.38s\n",
      "1017:\tlearn: 0.3851768\ttotal: 1.63s\tremaining: 2.38s\n",
      "1018:\tlearn: 0.3850963\ttotal: 1.64s\tremaining: 2.38s\n",
      "1019:\tlearn: 0.3849865\ttotal: 1.64s\tremaining: 2.37s\n",
      "1020:\tlearn: 0.3849129\ttotal: 1.64s\tremaining: 2.37s\n",
      "1021:\tlearn: 0.3848070\ttotal: 1.64s\tremaining: 2.37s\n",
      "1022:\tlearn: 0.3846451\ttotal: 1.64s\tremaining: 2.37s\n",
      "1023:\tlearn: 0.3845268\ttotal: 1.64s\tremaining: 2.37s\n",
      "1024:\tlearn: 0.3844262\ttotal: 1.64s\tremaining: 2.37s\n",
      "1025:\tlearn: 0.3842915\ttotal: 1.65s\tremaining: 2.36s\n",
      "1026:\tlearn: 0.3841831\ttotal: 1.65s\tremaining: 2.36s\n",
      "1027:\tlearn: 0.3840237\ttotal: 1.65s\tremaining: 2.36s\n",
      "1028:\tlearn: 0.3839283\ttotal: 1.65s\tremaining: 2.36s\n",
      "1029:\tlearn: 0.3838115\ttotal: 1.65s\tremaining: 2.36s\n",
      "1030:\tlearn: 0.3836033\ttotal: 1.65s\tremaining: 2.35s\n",
      "1031:\tlearn: 0.3834621\ttotal: 1.65s\tremaining: 2.35s\n",
      "1032:\tlearn: 0.3833288\ttotal: 1.66s\tremaining: 2.35s\n",
      "1033:\tlearn: 0.3831819\ttotal: 1.66s\tremaining: 2.35s\n",
      "1034:\tlearn: 0.3831234\ttotal: 1.66s\tremaining: 2.35s\n",
      "1035:\tlearn: 0.3829887\ttotal: 1.66s\tremaining: 2.35s\n",
      "1036:\tlearn: 0.3828947\ttotal: 1.66s\tremaining: 2.35s\n",
      "1037:\tlearn: 0.3827863\ttotal: 1.66s\tremaining: 2.34s\n",
      "1038:\tlearn: 0.3825452\ttotal: 1.67s\tremaining: 2.34s\n",
      "1039:\tlearn: 0.3824090\ttotal: 1.67s\tremaining: 2.34s\n",
      "1040:\tlearn: 0.3822923\ttotal: 1.67s\tremaining: 2.34s\n",
      "1041:\tlearn: 0.3822095\ttotal: 1.67s\tremaining: 2.34s\n",
      "1042:\tlearn: 0.3821190\ttotal: 1.67s\tremaining: 2.33s\n",
      "1043:\tlearn: 0.3819618\ttotal: 1.67s\tremaining: 2.33s\n",
      "1044:\tlearn: 0.3818599\ttotal: 1.67s\tremaining: 2.33s\n",
      "1045:\tlearn: 0.3817737\ttotal: 1.68s\tremaining: 2.33s\n",
      "1046:\tlearn: 0.3816906\ttotal: 1.68s\tremaining: 2.33s\n",
      "1047:\tlearn: 0.3815469\ttotal: 1.68s\tremaining: 2.33s\n",
      "1048:\tlearn: 0.3814464\ttotal: 1.68s\tremaining: 2.32s\n",
      "1049:\tlearn: 0.3812840\ttotal: 1.68s\tremaining: 2.32s\n",
      "1050:\tlearn: 0.3811492\ttotal: 1.68s\tremaining: 2.32s\n",
      "1051:\tlearn: 0.3810201\ttotal: 1.69s\tremaining: 2.32s\n",
      "1052:\tlearn: 0.3809078\ttotal: 1.69s\tremaining: 2.32s\n",
      "1053:\tlearn: 0.3807006\ttotal: 1.69s\tremaining: 2.32s\n",
      "1054:\tlearn: 0.3806080\ttotal: 1.69s\tremaining: 2.31s\n",
      "1055:\tlearn: 0.3805325\ttotal: 1.69s\tremaining: 2.31s\n",
      "1056:\tlearn: 0.3804421\ttotal: 1.69s\tremaining: 2.31s\n",
      "1057:\tlearn: 0.3803073\ttotal: 1.7s\tremaining: 2.31s\n",
      "1058:\tlearn: 0.3801629\ttotal: 1.7s\tremaining: 2.31s\n",
      "1059:\tlearn: 0.3800873\ttotal: 1.7s\tremaining: 2.31s\n",
      "1060:\tlearn: 0.3799904\ttotal: 1.7s\tremaining: 2.31s\n",
      "1061:\tlearn: 0.3799043\ttotal: 1.7s\tremaining: 2.3s\n",
      "1062:\tlearn: 0.3798444\ttotal: 1.7s\tremaining: 2.3s\n",
      "1063:\tlearn: 0.3797908\ttotal: 1.7s\tremaining: 2.3s\n",
      "1064:\tlearn: 0.3796374\ttotal: 1.71s\tremaining: 2.3s\n",
      "1065:\tlearn: 0.3795300\ttotal: 1.71s\tremaining: 2.3s\n",
      "1066:\tlearn: 0.3794501\ttotal: 1.71s\tremaining: 2.29s\n",
      "1067:\tlearn: 0.3792772\ttotal: 1.71s\tremaining: 2.29s\n",
      "1068:\tlearn: 0.3790363\ttotal: 1.71s\tremaining: 2.29s\n",
      "1069:\tlearn: 0.3789798\ttotal: 1.71s\tremaining: 2.29s\n",
      "1070:\tlearn: 0.3788369\ttotal: 1.71s\tremaining: 2.29s\n",
      "1071:\tlearn: 0.3787444\ttotal: 1.72s\tremaining: 2.29s\n",
      "1072:\tlearn: 0.3786374\ttotal: 1.72s\tremaining: 2.28s\n",
      "1073:\tlearn: 0.3785098\ttotal: 1.72s\tremaining: 2.28s\n",
      "1074:\tlearn: 0.3783460\ttotal: 1.72s\tremaining: 2.28s\n",
      "1075:\tlearn: 0.3782478\ttotal: 1.72s\tremaining: 2.28s\n",
      "1076:\tlearn: 0.3782191\ttotal: 1.72s\tremaining: 2.28s\n",
      "1077:\tlearn: 0.3781248\ttotal: 1.72s\tremaining: 2.27s\n",
      "1078:\tlearn: 0.3779424\ttotal: 1.73s\tremaining: 2.27s\n",
      "1079:\tlearn: 0.3778028\ttotal: 1.73s\tremaining: 2.27s\n",
      "1080:\tlearn: 0.3776005\ttotal: 1.73s\tremaining: 2.27s\n",
      "1081:\tlearn: 0.3773978\ttotal: 1.73s\tremaining: 2.27s\n",
      "1082:\tlearn: 0.3773118\ttotal: 1.73s\tremaining: 2.27s\n",
      "1083:\tlearn: 0.3772012\ttotal: 1.73s\tremaining: 2.26s\n",
      "1084:\tlearn: 0.3770876\ttotal: 1.74s\tremaining: 2.26s\n",
      "1085:\tlearn: 0.3769277\ttotal: 1.74s\tremaining: 2.26s\n",
      "1086:\tlearn: 0.3767803\ttotal: 1.74s\tremaining: 2.26s\n",
      "1087:\tlearn: 0.3767191\ttotal: 1.74s\tremaining: 2.26s\n",
      "1088:\tlearn: 0.3766310\ttotal: 1.74s\tremaining: 2.26s\n",
      "1089:\tlearn: 0.3765328\ttotal: 1.74s\tremaining: 2.25s\n",
      "1090:\tlearn: 0.3763761\ttotal: 1.74s\tremaining: 2.25s\n",
      "1091:\tlearn: 0.3762812\ttotal: 1.75s\tremaining: 2.25s\n",
      "1092:\tlearn: 0.3760890\ttotal: 1.75s\tremaining: 2.25s\n",
      "1093:\tlearn: 0.3759689\ttotal: 1.75s\tremaining: 2.25s\n",
      "1094:\tlearn: 0.3757635\ttotal: 1.75s\tremaining: 2.25s\n",
      "1095:\tlearn: 0.3756488\ttotal: 1.75s\tremaining: 2.24s\n",
      "1096:\tlearn: 0.3755760\ttotal: 1.75s\tremaining: 2.24s\n",
      "1097:\tlearn: 0.3754268\ttotal: 1.75s\tremaining: 2.24s\n",
      "1098:\tlearn: 0.3752601\ttotal: 1.76s\tremaining: 2.24s\n",
      "1099:\tlearn: 0.3751453\ttotal: 1.76s\tremaining: 2.24s\n",
      "1100:\tlearn: 0.3750448\ttotal: 1.76s\tremaining: 2.23s\n",
      "1101:\tlearn: 0.3748763\ttotal: 1.76s\tremaining: 2.23s\n",
      "1102:\tlearn: 0.3747854\ttotal: 1.76s\tremaining: 2.23s\n",
      "1103:\tlearn: 0.3746462\ttotal: 1.76s\tremaining: 2.23s\n",
      "1104:\tlearn: 0.3744586\ttotal: 1.76s\tremaining: 2.23s\n",
      "1105:\tlearn: 0.3743810\ttotal: 1.77s\tremaining: 2.23s\n",
      "1106:\tlearn: 0.3743018\ttotal: 1.77s\tremaining: 2.23s\n",
      "1107:\tlearn: 0.3741871\ttotal: 1.77s\tremaining: 2.22s\n",
      "1108:\tlearn: 0.3741077\ttotal: 1.77s\tremaining: 2.22s\n",
      "1109:\tlearn: 0.3739734\ttotal: 1.77s\tremaining: 2.22s\n",
      "1110:\tlearn: 0.3739113\ttotal: 1.77s\tremaining: 2.22s\n",
      "1111:\tlearn: 0.3738100\ttotal: 1.78s\tremaining: 2.22s\n",
      "1112:\tlearn: 0.3737115\ttotal: 1.78s\tremaining: 2.21s\n",
      "1113:\tlearn: 0.3736028\ttotal: 1.78s\tremaining: 2.21s\n",
      "1114:\tlearn: 0.3734750\ttotal: 1.78s\tremaining: 2.21s\n",
      "1115:\tlearn: 0.3733564\ttotal: 1.78s\tremaining: 2.21s\n",
      "1116:\tlearn: 0.3731056\ttotal: 1.78s\tremaining: 2.21s\n",
      "1117:\tlearn: 0.3729340\ttotal: 1.78s\tremaining: 2.21s\n",
      "1118:\tlearn: 0.3728624\ttotal: 1.79s\tremaining: 2.21s\n",
      "1119:\tlearn: 0.3726726\ttotal: 1.79s\tremaining: 2.2s\n",
      "1120:\tlearn: 0.3725063\ttotal: 1.79s\tremaining: 2.2s\n",
      "1121:\tlearn: 0.3723676\ttotal: 1.79s\tremaining: 2.2s\n",
      "1122:\tlearn: 0.3722796\ttotal: 1.79s\tremaining: 2.2s\n",
      "1123:\tlearn: 0.3721990\ttotal: 1.79s\tremaining: 2.2s\n",
      "1124:\tlearn: 0.3720616\ttotal: 1.8s\tremaining: 2.19s\n",
      "1125:\tlearn: 0.3719786\ttotal: 1.8s\tremaining: 2.19s\n",
      "1126:\tlearn: 0.3719390\ttotal: 1.8s\tremaining: 2.19s\n",
      "1127:\tlearn: 0.3718763\ttotal: 1.8s\tremaining: 2.19s\n",
      "1128:\tlearn: 0.3717934\ttotal: 1.8s\tremaining: 2.19s\n",
      "1129:\tlearn: 0.3716096\ttotal: 1.8s\tremaining: 2.19s\n",
      "1130:\tlearn: 0.3715355\ttotal: 1.8s\tremaining: 2.18s\n",
      "1131:\tlearn: 0.3713303\ttotal: 1.81s\tremaining: 2.18s\n",
      "1132:\tlearn: 0.3711992\ttotal: 1.81s\tremaining: 2.18s\n",
      "1133:\tlearn: 0.3710574\ttotal: 1.81s\tremaining: 2.18s\n",
      "1134:\tlearn: 0.3709440\ttotal: 1.81s\tremaining: 2.18s\n",
      "1135:\tlearn: 0.3707880\ttotal: 1.81s\tremaining: 2.18s\n",
      "1136:\tlearn: 0.3707332\ttotal: 1.81s\tremaining: 2.17s\n",
      "1137:\tlearn: 0.3706131\ttotal: 1.81s\tremaining: 2.17s\n",
      "1138:\tlearn: 0.3705469\ttotal: 1.82s\tremaining: 2.17s\n",
      "1139:\tlearn: 0.3705069\ttotal: 1.82s\tremaining: 2.17s\n",
      "1140:\tlearn: 0.3703893\ttotal: 1.82s\tremaining: 2.17s\n",
      "1141:\tlearn: 0.3702885\ttotal: 1.82s\tremaining: 2.17s\n",
      "1142:\tlearn: 0.3701920\ttotal: 1.82s\tremaining: 2.16s\n",
      "1143:\tlearn: 0.3700647\ttotal: 1.82s\tremaining: 2.16s\n",
      "1144:\tlearn: 0.3698840\ttotal: 1.83s\tremaining: 2.16s\n",
      "1145:\tlearn: 0.3697871\ttotal: 1.83s\tremaining: 2.16s\n",
      "1146:\tlearn: 0.3697069\ttotal: 1.83s\tremaining: 2.16s\n",
      "1147:\tlearn: 0.3695717\ttotal: 1.83s\tremaining: 2.15s\n",
      "1148:\tlearn: 0.3693863\ttotal: 1.83s\tremaining: 2.15s\n",
      "1149:\tlearn: 0.3693768\ttotal: 1.83s\tremaining: 2.15s\n",
      "1150:\tlearn: 0.3692885\ttotal: 1.83s\tremaining: 2.15s\n",
      "1151:\tlearn: 0.3691288\ttotal: 1.84s\tremaining: 2.15s\n",
      "1152:\tlearn: 0.3690232\ttotal: 1.84s\tremaining: 2.15s\n",
      "1153:\tlearn: 0.3689649\ttotal: 1.84s\tremaining: 2.15s\n",
      "1154:\tlearn: 0.3689191\ttotal: 1.84s\tremaining: 2.14s\n",
      "1155:\tlearn: 0.3688260\ttotal: 1.84s\tremaining: 2.14s\n",
      "1156:\tlearn: 0.3687237\ttotal: 1.84s\tremaining: 2.14s\n",
      "1157:\tlearn: 0.3686332\ttotal: 1.84s\tremaining: 2.14s\n",
      "1158:\tlearn: 0.3685554\ttotal: 1.85s\tremaining: 2.14s\n",
      "1159:\tlearn: 0.3684236\ttotal: 1.85s\tremaining: 2.13s\n",
      "1160:\tlearn: 0.3682449\ttotal: 1.85s\tremaining: 2.13s\n",
      "1161:\tlearn: 0.3681513\ttotal: 1.85s\tremaining: 2.13s\n",
      "1162:\tlearn: 0.3680905\ttotal: 1.85s\tremaining: 2.13s\n",
      "1163:\tlearn: 0.3680266\ttotal: 1.85s\tremaining: 2.13s\n",
      "1164:\tlearn: 0.3679182\ttotal: 1.86s\tremaining: 2.13s\n",
      "1165:\tlearn: 0.3678437\ttotal: 1.86s\tremaining: 2.13s\n",
      "1166:\tlearn: 0.3677687\ttotal: 1.86s\tremaining: 2.12s\n",
      "1167:\tlearn: 0.3676503\ttotal: 1.86s\tremaining: 2.12s\n",
      "1168:\tlearn: 0.3675407\ttotal: 1.86s\tremaining: 2.12s\n",
      "1169:\tlearn: 0.3674264\ttotal: 1.86s\tremaining: 2.12s\n",
      "1170:\tlearn: 0.3672961\ttotal: 1.86s\tremaining: 2.12s\n",
      "1171:\tlearn: 0.3672627\ttotal: 1.87s\tremaining: 2.12s\n",
      "1172:\tlearn: 0.3671080\ttotal: 1.87s\tremaining: 2.11s\n",
      "1173:\tlearn: 0.3670273\ttotal: 1.87s\tremaining: 2.11s\n",
      "1174:\tlearn: 0.3669134\ttotal: 1.87s\tremaining: 2.11s\n",
      "1175:\tlearn: 0.3668193\ttotal: 1.87s\tremaining: 2.11s\n",
      "1176:\tlearn: 0.3666893\ttotal: 1.87s\tremaining: 2.11s\n",
      "1177:\tlearn: 0.3666196\ttotal: 1.88s\tremaining: 2.1s\n",
      "1178:\tlearn: 0.3665545\ttotal: 1.88s\tremaining: 2.1s\n",
      "1179:\tlearn: 0.3663366\ttotal: 1.88s\tremaining: 2.1s\n",
      "1180:\tlearn: 0.3662436\ttotal: 1.88s\tremaining: 2.1s\n",
      "1181:\tlearn: 0.3660667\ttotal: 1.88s\tremaining: 2.1s\n",
      "1182:\tlearn: 0.3659941\ttotal: 1.88s\tremaining: 2.1s\n",
      "1183:\tlearn: 0.3659162\ttotal: 1.89s\tremaining: 2.1s\n",
      "1184:\tlearn: 0.3657272\ttotal: 1.89s\tremaining: 2.09s\n",
      "1185:\tlearn: 0.3656139\ttotal: 1.89s\tremaining: 2.09s\n",
      "1186:\tlearn: 0.3654755\ttotal: 1.89s\tremaining: 2.09s\n",
      "1187:\tlearn: 0.3653720\ttotal: 1.89s\tremaining: 2.09s\n",
      "1188:\tlearn: 0.3652566\ttotal: 1.89s\tremaining: 2.09s\n",
      "1189:\tlearn: 0.3651759\ttotal: 1.9s\tremaining: 2.09s\n",
      "1190:\tlearn: 0.3650395\ttotal: 1.9s\tremaining: 2.08s\n",
      "1191:\tlearn: 0.3649637\ttotal: 1.9s\tremaining: 2.08s\n",
      "1192:\tlearn: 0.3648243\ttotal: 1.9s\tremaining: 2.08s\n",
      "1193:\tlearn: 0.3647038\ttotal: 1.9s\tremaining: 2.08s\n",
      "1194:\tlearn: 0.3646038\ttotal: 1.9s\tremaining: 2.08s\n",
      "1195:\tlearn: 0.3644918\ttotal: 1.9s\tremaining: 2.08s\n",
      "1196:\tlearn: 0.3643769\ttotal: 1.91s\tremaining: 2.07s\n",
      "1197:\tlearn: 0.3642537\ttotal: 1.91s\tremaining: 2.07s\n",
      "1198:\tlearn: 0.3641763\ttotal: 1.91s\tremaining: 2.07s\n",
      "1199:\tlearn: 0.3640601\ttotal: 1.91s\tremaining: 2.07s\n",
      "1200:\tlearn: 0.3640036\ttotal: 1.91s\tremaining: 2.07s\n",
      "1201:\tlearn: 0.3638978\ttotal: 1.91s\tremaining: 2.07s\n",
      "1202:\tlearn: 0.3638181\ttotal: 1.91s\tremaining: 2.06s\n",
      "1203:\tlearn: 0.3637329\ttotal: 1.92s\tremaining: 2.06s\n",
      "1204:\tlearn: 0.3636806\ttotal: 1.92s\tremaining: 2.06s\n",
      "1205:\tlearn: 0.3635963\ttotal: 1.92s\tremaining: 2.06s\n",
      "1206:\tlearn: 0.3635019\ttotal: 1.92s\tremaining: 2.06s\n",
      "1207:\tlearn: 0.3634318\ttotal: 1.92s\tremaining: 2.06s\n",
      "1208:\tlearn: 0.3632564\ttotal: 1.92s\tremaining: 2.05s\n",
      "1209:\tlearn: 0.3631970\ttotal: 1.93s\tremaining: 2.05s\n",
      "1210:\tlearn: 0.3630825\ttotal: 1.93s\tremaining: 2.05s\n",
      "1211:\tlearn: 0.3629683\ttotal: 1.93s\tremaining: 2.05s\n",
      "1212:\tlearn: 0.3628617\ttotal: 1.93s\tremaining: 2.05s\n",
      "1213:\tlearn: 0.3627108\ttotal: 1.93s\tremaining: 2.04s\n",
      "1214:\tlearn: 0.3625814\ttotal: 1.93s\tremaining: 2.04s\n",
      "1215:\tlearn: 0.3624632\ttotal: 1.93s\tremaining: 2.04s\n",
      "1216:\tlearn: 0.3623396\ttotal: 1.94s\tremaining: 2.04s\n",
      "1217:\tlearn: 0.3622656\ttotal: 1.94s\tremaining: 2.04s\n",
      "1218:\tlearn: 0.3621534\ttotal: 1.94s\tremaining: 2.04s\n",
      "1219:\tlearn: 0.3620332\ttotal: 1.94s\tremaining: 2.04s\n",
      "1220:\tlearn: 0.3619106\ttotal: 1.94s\tremaining: 2.03s\n",
      "1221:\tlearn: 0.3618830\ttotal: 1.94s\tremaining: 2.03s\n",
      "1222:\tlearn: 0.3617432\ttotal: 1.94s\tremaining: 2.03s\n",
      "1223:\tlearn: 0.3616357\ttotal: 1.95s\tremaining: 2.03s\n",
      "1224:\tlearn: 0.3615140\ttotal: 1.95s\tremaining: 2.03s\n",
      "1225:\tlearn: 0.3614542\ttotal: 1.95s\tremaining: 2.02s\n",
      "1226:\tlearn: 0.3613855\ttotal: 1.95s\tremaining: 2.02s\n",
      "1227:\tlearn: 0.3612985\ttotal: 1.95s\tremaining: 2.02s\n",
      "1228:\tlearn: 0.3612464\ttotal: 1.95s\tremaining: 2.02s\n",
      "1229:\tlearn: 0.3611192\ttotal: 1.96s\tremaining: 2.02s\n",
      "1230:\tlearn: 0.3610827\ttotal: 1.96s\tremaining: 2.02s\n",
      "1231:\tlearn: 0.3609038\ttotal: 1.96s\tremaining: 2.02s\n",
      "1232:\tlearn: 0.3608170\ttotal: 1.96s\tremaining: 2.01s\n",
      "1233:\tlearn: 0.3607526\ttotal: 1.96s\tremaining: 2.01s\n",
      "1234:\tlearn: 0.3606509\ttotal: 1.96s\tremaining: 2.01s\n",
      "1235:\tlearn: 0.3606337\ttotal: 1.96s\tremaining: 2.01s\n",
      "1236:\tlearn: 0.3605335\ttotal: 1.97s\tremaining: 2.01s\n",
      "1237:\tlearn: 0.3604182\ttotal: 1.97s\tremaining: 2s\n",
      "1238:\tlearn: 0.3602871\ttotal: 1.97s\tremaining: 2s\n",
      "1239:\tlearn: 0.3602178\ttotal: 1.97s\tremaining: 2s\n",
      "1240:\tlearn: 0.3601420\ttotal: 1.97s\tremaining: 2s\n",
      "1241:\tlearn: 0.3599969\ttotal: 1.97s\tremaining: 2s\n",
      "1242:\tlearn: 0.3597580\ttotal: 1.97s\tremaining: 2s\n",
      "1243:\tlearn: 0.3596962\ttotal: 1.98s\tremaining: 1.99s\n",
      "1244:\tlearn: 0.3595517\ttotal: 1.98s\tremaining: 1.99s\n",
      "1245:\tlearn: 0.3594566\ttotal: 1.98s\tremaining: 1.99s\n",
      "1246:\tlearn: 0.3594243\ttotal: 1.98s\tremaining: 1.99s\n",
      "1247:\tlearn: 0.3592466\ttotal: 1.98s\tremaining: 1.99s\n",
      "1248:\tlearn: 0.3591240\ttotal: 1.98s\tremaining: 1.99s\n",
      "1249:\tlearn: 0.3590219\ttotal: 1.98s\tremaining: 1.98s\n",
      "1250:\tlearn: 0.3588948\ttotal: 1.99s\tremaining: 1.98s\n",
      "1251:\tlearn: 0.3588401\ttotal: 1.99s\tremaining: 1.98s\n",
      "1252:\tlearn: 0.3587801\ttotal: 1.99s\tremaining: 1.98s\n",
      "1253:\tlearn: 0.3587410\ttotal: 1.99s\tremaining: 1.98s\n",
      "1254:\tlearn: 0.3585638\ttotal: 1.99s\tremaining: 1.98s\n",
      "1255:\tlearn: 0.3584747\ttotal: 1.99s\tremaining: 1.97s\n",
      "1256:\tlearn: 0.3583617\ttotal: 2s\tremaining: 1.97s\n",
      "1257:\tlearn: 0.3582961\ttotal: 2s\tremaining: 1.97s\n",
      "1258:\tlearn: 0.3581878\ttotal: 2s\tremaining: 1.97s\n",
      "1259:\tlearn: 0.3580881\ttotal: 2s\tremaining: 1.97s\n",
      "1260:\tlearn: 0.3579725\ttotal: 2s\tremaining: 1.97s\n",
      "1261:\tlearn: 0.3578577\ttotal: 2s\tremaining: 1.96s\n",
      "1262:\tlearn: 0.3577591\ttotal: 2s\tremaining: 1.96s\n",
      "1263:\tlearn: 0.3576889\ttotal: 2s\tremaining: 1.96s\n",
      "1264:\tlearn: 0.3576309\ttotal: 2.01s\tremaining: 1.96s\n",
      "1265:\tlearn: 0.3575056\ttotal: 2.01s\tremaining: 1.96s\n",
      "1266:\tlearn: 0.3573762\ttotal: 2.01s\tremaining: 1.96s\n",
      "1267:\tlearn: 0.3572345\ttotal: 2.01s\tremaining: 1.95s\n",
      "1268:\tlearn: 0.3571903\ttotal: 2.01s\tremaining: 1.95s\n",
      "1269:\tlearn: 0.3570962\ttotal: 2.01s\tremaining: 1.95s\n",
      "1270:\tlearn: 0.3570109\ttotal: 2.02s\tremaining: 1.95s\n",
      "1271:\tlearn: 0.3568422\ttotal: 2.02s\tremaining: 1.95s\n",
      "1272:\tlearn: 0.3567209\ttotal: 2.02s\tremaining: 1.95s\n",
      "1273:\tlearn: 0.3566021\ttotal: 2.02s\tremaining: 1.95s\n",
      "1274:\tlearn: 0.3564657\ttotal: 2.02s\tremaining: 1.94s\n",
      "1275:\tlearn: 0.3563958\ttotal: 2.03s\tremaining: 1.94s\n",
      "1276:\tlearn: 0.3563056\ttotal: 2.03s\tremaining: 1.94s\n",
      "1277:\tlearn: 0.3561592\ttotal: 2.03s\tremaining: 1.94s\n",
      "1278:\tlearn: 0.3560242\ttotal: 2.03s\tremaining: 1.94s\n",
      "1279:\tlearn: 0.3559573\ttotal: 2.03s\tremaining: 1.94s\n",
      "1280:\tlearn: 0.3559237\ttotal: 2.04s\tremaining: 1.94s\n",
      "1281:\tlearn: 0.3557341\ttotal: 2.04s\tremaining: 1.94s\n",
      "1282:\tlearn: 0.3556807\ttotal: 2.04s\tremaining: 1.94s\n",
      "1283:\tlearn: 0.3555922\ttotal: 2.04s\tremaining: 1.93s\n",
      "1284:\tlearn: 0.3555105\ttotal: 2.04s\tremaining: 1.93s\n",
      "1285:\tlearn: 0.3554335\ttotal: 2.05s\tremaining: 1.93s\n",
      "1286:\tlearn: 0.3553386\ttotal: 2.05s\tremaining: 1.93s\n",
      "1287:\tlearn: 0.3552612\ttotal: 2.05s\tremaining: 1.93s\n",
      "1288:\tlearn: 0.3551118\ttotal: 2.05s\tremaining: 1.93s\n",
      "1289:\tlearn: 0.3549405\ttotal: 2.05s\tremaining: 1.92s\n",
      "1290:\tlearn: 0.3547826\ttotal: 2.05s\tremaining: 1.92s\n",
      "1291:\tlearn: 0.3546813\ttotal: 2.06s\tremaining: 1.92s\n",
      "1292:\tlearn: 0.3545661\ttotal: 2.06s\tremaining: 1.92s\n",
      "1293:\tlearn: 0.3543821\ttotal: 2.06s\tremaining: 1.92s\n",
      "1294:\tlearn: 0.3543223\ttotal: 2.06s\tremaining: 1.92s\n",
      "1295:\tlearn: 0.3542682\ttotal: 2.06s\tremaining: 1.92s\n",
      "1296:\tlearn: 0.3541494\ttotal: 2.06s\tremaining: 1.91s\n",
      "1297:\tlearn: 0.3540896\ttotal: 2.07s\tremaining: 1.91s\n",
      "1298:\tlearn: 0.3540010\ttotal: 2.07s\tremaining: 1.91s\n",
      "1299:\tlearn: 0.3539054\ttotal: 2.07s\tremaining: 1.91s\n",
      "1300:\tlearn: 0.3537227\ttotal: 2.07s\tremaining: 1.91s\n",
      "1301:\tlearn: 0.3535625\ttotal: 2.07s\tremaining: 1.91s\n",
      "1302:\tlearn: 0.3534596\ttotal: 2.07s\tremaining: 1.91s\n",
      "1303:\tlearn: 0.3534586\ttotal: 2.07s\tremaining: 1.9s\n",
      "1304:\tlearn: 0.3532548\ttotal: 2.08s\tremaining: 1.9s\n",
      "1305:\tlearn: 0.3530681\ttotal: 2.08s\tremaining: 1.9s\n",
      "1306:\tlearn: 0.3529473\ttotal: 2.08s\tremaining: 1.9s\n",
      "1307:\tlearn: 0.3527657\ttotal: 2.08s\tremaining: 1.9s\n",
      "1308:\tlearn: 0.3527488\ttotal: 2.08s\tremaining: 1.89s\n",
      "1309:\tlearn: 0.3527037\ttotal: 2.08s\tremaining: 1.89s\n",
      "1310:\tlearn: 0.3526146\ttotal: 2.08s\tremaining: 1.89s\n",
      "1311:\tlearn: 0.3525114\ttotal: 2.08s\tremaining: 1.89s\n",
      "1312:\tlearn: 0.3524127\ttotal: 2.09s\tremaining: 1.89s\n",
      "1313:\tlearn: 0.3523765\ttotal: 2.09s\tremaining: 1.89s\n",
      "1314:\tlearn: 0.3522706\ttotal: 2.09s\tremaining: 1.88s\n",
      "1315:\tlearn: 0.3521934\ttotal: 2.09s\tremaining: 1.88s\n",
      "1316:\tlearn: 0.3521047\ttotal: 2.09s\tremaining: 1.88s\n",
      "1317:\tlearn: 0.3520118\ttotal: 2.09s\tremaining: 1.88s\n",
      "1318:\tlearn: 0.3518861\ttotal: 2.1s\tremaining: 1.88s\n",
      "1319:\tlearn: 0.3518052\ttotal: 2.1s\tremaining: 1.88s\n",
      "1320:\tlearn: 0.3516847\ttotal: 2.1s\tremaining: 1.87s\n",
      "1321:\tlearn: 0.3515433\ttotal: 2.1s\tremaining: 1.87s\n",
      "1322:\tlearn: 0.3514384\ttotal: 2.1s\tremaining: 1.87s\n",
      "1323:\tlearn: 0.3512873\ttotal: 2.1s\tremaining: 1.87s\n",
      "1324:\tlearn: 0.3511521\ttotal: 2.1s\tremaining: 1.87s\n",
      "1325:\tlearn: 0.3510865\ttotal: 2.11s\tremaining: 1.86s\n",
      "1326:\tlearn: 0.3509867\ttotal: 2.11s\tremaining: 1.86s\n",
      "1327:\tlearn: 0.3508327\ttotal: 2.11s\tremaining: 1.86s\n",
      "1328:\tlearn: 0.3506903\ttotal: 2.11s\tremaining: 1.86s\n",
      "1329:\tlearn: 0.3506211\ttotal: 2.11s\tremaining: 1.86s\n",
      "1330:\tlearn: 0.3505337\ttotal: 2.11s\tremaining: 1.86s\n",
      "1331:\tlearn: 0.3505181\ttotal: 2.12s\tremaining: 1.85s\n",
      "1332:\tlearn: 0.3503509\ttotal: 2.12s\tremaining: 1.85s\n",
      "1333:\tlearn: 0.3502371\ttotal: 2.12s\tremaining: 1.85s\n",
      "1334:\tlearn: 0.3501100\ttotal: 2.12s\tremaining: 1.85s\n",
      "1335:\tlearn: 0.3500103\ttotal: 2.12s\tremaining: 1.85s\n",
      "1336:\tlearn: 0.3499349\ttotal: 2.12s\tremaining: 1.85s\n",
      "1337:\tlearn: 0.3498421\ttotal: 2.13s\tremaining: 1.84s\n",
      "1338:\tlearn: 0.3497289\ttotal: 2.13s\tremaining: 1.84s\n",
      "1339:\tlearn: 0.3496445\ttotal: 2.13s\tremaining: 1.84s\n",
      "1340:\tlearn: 0.3495156\ttotal: 2.13s\tremaining: 1.84s\n",
      "1341:\tlearn: 0.3494167\ttotal: 2.13s\tremaining: 1.84s\n",
      "1342:\tlearn: 0.3492986\ttotal: 2.13s\tremaining: 1.84s\n",
      "1343:\tlearn: 0.3490964\ttotal: 2.13s\tremaining: 1.83s\n",
      "1344:\tlearn: 0.3489695\ttotal: 2.13s\tremaining: 1.83s\n",
      "1345:\tlearn: 0.3488310\ttotal: 2.14s\tremaining: 1.83s\n",
      "1346:\tlearn: 0.3486801\ttotal: 2.14s\tremaining: 1.83s\n",
      "1347:\tlearn: 0.3485771\ttotal: 2.14s\tremaining: 1.83s\n",
      "1348:\tlearn: 0.3485068\ttotal: 2.14s\tremaining: 1.83s\n",
      "1349:\tlearn: 0.3484337\ttotal: 2.14s\tremaining: 1.82s\n",
      "1350:\tlearn: 0.3483421\ttotal: 2.14s\tremaining: 1.82s\n",
      "1351:\tlearn: 0.3482461\ttotal: 2.15s\tremaining: 1.82s\n",
      "1352:\tlearn: 0.3480741\ttotal: 2.15s\tremaining: 1.82s\n",
      "1353:\tlearn: 0.3479614\ttotal: 2.15s\tremaining: 1.82s\n",
      "1354:\tlearn: 0.3479263\ttotal: 2.15s\tremaining: 1.82s\n",
      "1355:\tlearn: 0.3478338\ttotal: 2.15s\tremaining: 1.82s\n",
      "1356:\tlearn: 0.3477088\ttotal: 2.15s\tremaining: 1.81s\n",
      "1357:\tlearn: 0.3475703\ttotal: 2.15s\tremaining: 1.81s\n",
      "1358:\tlearn: 0.3475032\ttotal: 2.16s\tremaining: 1.81s\n",
      "1359:\tlearn: 0.3473654\ttotal: 2.16s\tremaining: 1.81s\n",
      "1360:\tlearn: 0.3472370\ttotal: 2.16s\tremaining: 1.81s\n",
      "1361:\tlearn: 0.3471370\ttotal: 2.16s\tremaining: 1.81s\n",
      "1362:\tlearn: 0.3470047\ttotal: 2.16s\tremaining: 1.8s\n",
      "1363:\tlearn: 0.3468815\ttotal: 2.16s\tremaining: 1.8s\n",
      "1364:\tlearn: 0.3467956\ttotal: 2.17s\tremaining: 1.8s\n",
      "1365:\tlearn: 0.3466332\ttotal: 2.17s\tremaining: 1.8s\n",
      "1366:\tlearn: 0.3464990\ttotal: 2.17s\tremaining: 1.8s\n",
      "1367:\tlearn: 0.3463484\ttotal: 2.17s\tremaining: 1.8s\n",
      "1368:\tlearn: 0.3462524\ttotal: 2.17s\tremaining: 1.79s\n",
      "1369:\tlearn: 0.3460929\ttotal: 2.17s\tremaining: 1.79s\n",
      "1370:\tlearn: 0.3459411\ttotal: 2.17s\tremaining: 1.79s\n",
      "1371:\tlearn: 0.3458325\ttotal: 2.18s\tremaining: 1.79s\n",
      "1372:\tlearn: 0.3457000\ttotal: 2.18s\tremaining: 1.79s\n",
      "1373:\tlearn: 0.3456749\ttotal: 2.18s\tremaining: 1.78s\n",
      "1374:\tlearn: 0.3454513\ttotal: 2.18s\tremaining: 1.78s\n",
      "1375:\tlearn: 0.3452558\ttotal: 2.18s\tremaining: 1.78s\n",
      "1376:\tlearn: 0.3451186\ttotal: 2.18s\tremaining: 1.78s\n",
      "1377:\tlearn: 0.3449957\ttotal: 2.19s\tremaining: 1.78s\n",
      "1378:\tlearn: 0.3449094\ttotal: 2.19s\tremaining: 1.78s\n",
      "1379:\tlearn: 0.3447621\ttotal: 2.19s\tremaining: 1.77s\n",
      "1380:\tlearn: 0.3446366\ttotal: 2.19s\tremaining: 1.77s\n",
      "1381:\tlearn: 0.3445437\ttotal: 2.19s\tremaining: 1.77s\n",
      "1382:\tlearn: 0.3444558\ttotal: 2.19s\tremaining: 1.77s\n",
      "1383:\tlearn: 0.3443676\ttotal: 2.19s\tremaining: 1.77s\n",
      "1384:\tlearn: 0.3442687\ttotal: 2.19s\tremaining: 1.77s\n",
      "1385:\tlearn: 0.3441537\ttotal: 2.2s\tremaining: 1.77s\n",
      "1386:\tlearn: 0.3440618\ttotal: 2.2s\tremaining: 1.76s\n",
      "1387:\tlearn: 0.3440167\ttotal: 2.2s\tremaining: 1.76s\n",
      "1388:\tlearn: 0.3439664\ttotal: 2.2s\tremaining: 1.76s\n",
      "1389:\tlearn: 0.3439611\ttotal: 2.2s\tremaining: 1.76s\n",
      "1390:\tlearn: 0.3438451\ttotal: 2.2s\tremaining: 1.76s\n",
      "1391:\tlearn: 0.3437311\ttotal: 2.21s\tremaining: 1.76s\n",
      "1392:\tlearn: 0.3436316\ttotal: 2.21s\tremaining: 1.75s\n",
      "1393:\tlearn: 0.3435482\ttotal: 2.21s\tremaining: 1.75s\n",
      "1394:\tlearn: 0.3434566\ttotal: 2.21s\tremaining: 1.75s\n",
      "1395:\tlearn: 0.3433762\ttotal: 2.21s\tremaining: 1.75s\n",
      "1396:\tlearn: 0.3432441\ttotal: 2.21s\tremaining: 1.75s\n",
      "1397:\tlearn: 0.3431616\ttotal: 2.21s\tremaining: 1.75s\n",
      "1398:\tlearn: 0.3430620\ttotal: 2.22s\tremaining: 1.75s\n",
      "1399:\tlearn: 0.3429574\ttotal: 2.22s\tremaining: 1.74s\n",
      "1400:\tlearn: 0.3429025\ttotal: 2.22s\tremaining: 1.74s\n",
      "1401:\tlearn: 0.3428222\ttotal: 2.22s\tremaining: 1.74s\n",
      "1402:\tlearn: 0.3427434\ttotal: 2.22s\tremaining: 1.74s\n",
      "1403:\tlearn: 0.3426442\ttotal: 2.23s\tremaining: 1.74s\n",
      "1404:\tlearn: 0.3426039\ttotal: 2.23s\tremaining: 1.73s\n",
      "1405:\tlearn: 0.3425052\ttotal: 2.23s\tremaining: 1.73s\n",
      "1406:\tlearn: 0.3423603\ttotal: 2.23s\tremaining: 1.73s\n",
      "1407:\tlearn: 0.3422601\ttotal: 2.23s\tremaining: 1.73s\n",
      "1408:\tlearn: 0.3422189\ttotal: 2.23s\tremaining: 1.73s\n",
      "1409:\tlearn: 0.3421394\ttotal: 2.23s\tremaining: 1.73s\n",
      "1410:\tlearn: 0.3420644\ttotal: 2.23s\tremaining: 1.72s\n",
      "1411:\tlearn: 0.3419186\ttotal: 2.24s\tremaining: 1.72s\n",
      "1412:\tlearn: 0.3417886\ttotal: 2.24s\tremaining: 1.72s\n",
      "1413:\tlearn: 0.3416308\ttotal: 2.24s\tremaining: 1.72s\n",
      "1414:\tlearn: 0.3415714\ttotal: 2.24s\tremaining: 1.72s\n",
      "1415:\tlearn: 0.3415093\ttotal: 2.24s\tremaining: 1.72s\n",
      "1416:\tlearn: 0.3413479\ttotal: 2.24s\tremaining: 1.72s\n",
      "1417:\tlearn: 0.3412546\ttotal: 2.25s\tremaining: 1.71s\n",
      "1418:\tlearn: 0.3411249\ttotal: 2.25s\tremaining: 1.71s\n",
      "1419:\tlearn: 0.3409826\ttotal: 2.25s\tremaining: 1.71s\n",
      "1420:\tlearn: 0.3408624\ttotal: 2.25s\tremaining: 1.71s\n",
      "1421:\tlearn: 0.3407896\ttotal: 2.25s\tremaining: 1.71s\n",
      "1422:\tlearn: 0.3406315\ttotal: 2.25s\tremaining: 1.71s\n",
      "1423:\tlearn: 0.3404919\ttotal: 2.25s\tremaining: 1.7s\n",
      "1424:\tlearn: 0.3403989\ttotal: 2.26s\tremaining: 1.7s\n",
      "1425:\tlearn: 0.3402462\ttotal: 2.26s\tremaining: 1.7s\n",
      "1426:\tlearn: 0.3401574\ttotal: 2.26s\tremaining: 1.7s\n",
      "1427:\tlearn: 0.3400823\ttotal: 2.26s\tremaining: 1.7s\n",
      "1428:\tlearn: 0.3399921\ttotal: 2.26s\tremaining: 1.7s\n",
      "1429:\tlearn: 0.3398695\ttotal: 2.27s\tremaining: 1.69s\n",
      "1430:\tlearn: 0.3398501\ttotal: 2.27s\tremaining: 1.69s\n",
      "1431:\tlearn: 0.3396848\ttotal: 2.27s\tremaining: 1.69s\n",
      "1432:\tlearn: 0.3396423\ttotal: 2.27s\tremaining: 1.69s\n",
      "1433:\tlearn: 0.3395868\ttotal: 2.27s\tremaining: 1.69s\n",
      "1434:\tlearn: 0.3395298\ttotal: 2.27s\tremaining: 1.69s\n",
      "1435:\tlearn: 0.3394785\ttotal: 2.27s\tremaining: 1.68s\n",
      "1436:\tlearn: 0.3393404\ttotal: 2.27s\tremaining: 1.68s\n",
      "1437:\tlearn: 0.3392674\ttotal: 2.28s\tremaining: 1.68s\n",
      "1438:\tlearn: 0.3392053\ttotal: 2.28s\tremaining: 1.68s\n",
      "1439:\tlearn: 0.3390315\ttotal: 2.28s\tremaining: 1.68s\n",
      "1440:\tlearn: 0.3389791\ttotal: 2.28s\tremaining: 1.68s\n",
      "1441:\tlearn: 0.3388177\ttotal: 2.28s\tremaining: 1.67s\n",
      "1442:\tlearn: 0.3387089\ttotal: 2.28s\tremaining: 1.67s\n",
      "1443:\tlearn: 0.3385584\ttotal: 2.29s\tremaining: 1.67s\n",
      "1444:\tlearn: 0.3384392\ttotal: 2.29s\tremaining: 1.67s\n",
      "1445:\tlearn: 0.3382633\ttotal: 2.29s\tremaining: 1.67s\n",
      "1446:\tlearn: 0.3382014\ttotal: 2.29s\tremaining: 1.67s\n",
      "1447:\tlearn: 0.3381332\ttotal: 2.29s\tremaining: 1.66s\n",
      "1448:\tlearn: 0.3379929\ttotal: 2.29s\tremaining: 1.66s\n",
      "1449:\tlearn: 0.3377887\ttotal: 2.29s\tremaining: 1.66s\n",
      "1450:\tlearn: 0.3375865\ttotal: 2.3s\tremaining: 1.66s\n",
      "1451:\tlearn: 0.3375291\ttotal: 2.3s\tremaining: 1.66s\n",
      "1452:\tlearn: 0.3374229\ttotal: 2.3s\tremaining: 1.66s\n",
      "1453:\tlearn: 0.3372847\ttotal: 2.3s\tremaining: 1.66s\n",
      "1454:\tlearn: 0.3370929\ttotal: 2.3s\tremaining: 1.65s\n",
      "1455:\tlearn: 0.3369762\ttotal: 2.3s\tremaining: 1.65s\n",
      "1456:\tlearn: 0.3368977\ttotal: 2.31s\tremaining: 1.65s\n",
      "1457:\tlearn: 0.3367672\ttotal: 2.31s\tremaining: 1.65s\n",
      "1458:\tlearn: 0.3367227\ttotal: 2.31s\tremaining: 1.65s\n",
      "1459:\tlearn: 0.3366877\ttotal: 2.31s\tremaining: 1.65s\n",
      "1460:\tlearn: 0.3366100\ttotal: 2.31s\tremaining: 1.64s\n",
      "1461:\tlearn: 0.3365213\ttotal: 2.31s\tremaining: 1.64s\n",
      "1462:\tlearn: 0.3364282\ttotal: 2.31s\tremaining: 1.64s\n",
      "1463:\tlearn: 0.3363039\ttotal: 2.32s\tremaining: 1.64s\n",
      "1464:\tlearn: 0.3361836\ttotal: 2.32s\tremaining: 1.64s\n",
      "1465:\tlearn: 0.3360487\ttotal: 2.32s\tremaining: 1.64s\n",
      "1466:\tlearn: 0.3359594\ttotal: 2.32s\tremaining: 1.63s\n",
      "1467:\tlearn: 0.3357765\ttotal: 2.32s\tremaining: 1.63s\n",
      "1468:\tlearn: 0.3356191\ttotal: 2.32s\tremaining: 1.63s\n",
      "1469:\tlearn: 0.3355185\ttotal: 2.33s\tremaining: 1.63s\n",
      "1470:\tlearn: 0.3353782\ttotal: 2.33s\tremaining: 1.63s\n",
      "1471:\tlearn: 0.3352744\ttotal: 2.33s\tremaining: 1.63s\n",
      "1472:\tlearn: 0.3352422\ttotal: 2.33s\tremaining: 1.62s\n",
      "1473:\tlearn: 0.3351112\ttotal: 2.33s\tremaining: 1.62s\n",
      "1474:\tlearn: 0.3349449\ttotal: 2.33s\tremaining: 1.62s\n",
      "1475:\tlearn: 0.3348788\ttotal: 2.33s\tremaining: 1.62s\n",
      "1476:\tlearn: 0.3348750\ttotal: 2.33s\tremaining: 1.62s\n",
      "1477:\tlearn: 0.3347468\ttotal: 2.34s\tremaining: 1.61s\n",
      "1478:\tlearn: 0.3347320\ttotal: 2.34s\tremaining: 1.61s\n",
      "1479:\tlearn: 0.3345982\ttotal: 2.34s\tremaining: 1.61s\n",
      "1480:\tlearn: 0.3345339\ttotal: 2.34s\tremaining: 1.61s\n",
      "1481:\tlearn: 0.3344367\ttotal: 2.34s\tremaining: 1.61s\n",
      "1482:\tlearn: 0.3343310\ttotal: 2.34s\tremaining: 1.61s\n",
      "1483:\tlearn: 0.3342356\ttotal: 2.35s\tremaining: 1.61s\n",
      "1484:\tlearn: 0.3341972\ttotal: 2.35s\tremaining: 1.6s\n",
      "1485:\tlearn: 0.3341045\ttotal: 2.35s\tremaining: 1.6s\n",
      "1486:\tlearn: 0.3340731\ttotal: 2.35s\tremaining: 1.6s\n",
      "1487:\tlearn: 0.3339308\ttotal: 2.35s\tremaining: 1.6s\n",
      "1488:\tlearn: 0.3338608\ttotal: 2.35s\tremaining: 1.6s\n",
      "1489:\tlearn: 0.3337180\ttotal: 2.35s\tremaining: 1.6s\n",
      "1490:\tlearn: 0.3336536\ttotal: 2.36s\tremaining: 1.59s\n",
      "1491:\tlearn: 0.3335832\ttotal: 2.36s\tremaining: 1.59s\n",
      "1492:\tlearn: 0.3334997\ttotal: 2.36s\tremaining: 1.59s\n",
      "1493:\tlearn: 0.3332983\ttotal: 2.36s\tremaining: 1.59s\n",
      "1494:\tlearn: 0.3331696\ttotal: 2.36s\tremaining: 1.59s\n",
      "1495:\tlearn: 0.3331353\ttotal: 2.36s\tremaining: 1.59s\n",
      "1496:\tlearn: 0.3330477\ttotal: 2.37s\tremaining: 1.58s\n",
      "1497:\tlearn: 0.3329131\ttotal: 2.37s\tremaining: 1.58s\n",
      "1498:\tlearn: 0.3328535\ttotal: 2.37s\tremaining: 1.58s\n",
      "1499:\tlearn: 0.3328520\ttotal: 2.37s\tremaining: 1.58s\n",
      "1500:\tlearn: 0.3327272\ttotal: 2.37s\tremaining: 1.58s\n",
      "1501:\tlearn: 0.3326119\ttotal: 2.37s\tremaining: 1.58s\n",
      "1502:\tlearn: 0.3325572\ttotal: 2.37s\tremaining: 1.57s\n",
      "1503:\tlearn: 0.3324854\ttotal: 2.38s\tremaining: 1.57s\n",
      "1504:\tlearn: 0.3324093\ttotal: 2.38s\tremaining: 1.57s\n",
      "1505:\tlearn: 0.3323823\ttotal: 2.38s\tremaining: 1.57s\n",
      "1506:\tlearn: 0.3322062\ttotal: 2.38s\tremaining: 1.57s\n",
      "1507:\tlearn: 0.3321021\ttotal: 2.38s\tremaining: 1.57s\n",
      "1508:\tlearn: 0.3320183\ttotal: 2.38s\tremaining: 1.56s\n",
      "1509:\tlearn: 0.3319547\ttotal: 2.38s\tremaining: 1.56s\n",
      "1510:\tlearn: 0.3318688\ttotal: 2.39s\tremaining: 1.56s\n",
      "1511:\tlearn: 0.3317482\ttotal: 2.39s\tremaining: 1.56s\n",
      "1512:\tlearn: 0.3316124\ttotal: 2.39s\tremaining: 1.56s\n",
      "1513:\tlearn: 0.3315027\ttotal: 2.39s\tremaining: 1.56s\n",
      "1514:\tlearn: 0.3312964\ttotal: 2.39s\tremaining: 1.55s\n",
      "1515:\tlearn: 0.3311966\ttotal: 2.39s\tremaining: 1.55s\n",
      "1516:\tlearn: 0.3311020\ttotal: 2.4s\tremaining: 1.55s\n",
      "1517:\tlearn: 0.3309943\ttotal: 2.4s\tremaining: 1.55s\n",
      "1518:\tlearn: 0.3309140\ttotal: 2.4s\tremaining: 1.55s\n",
      "1519:\tlearn: 0.3306853\ttotal: 2.4s\tremaining: 1.55s\n",
      "1520:\tlearn: 0.3306327\ttotal: 2.4s\tremaining: 1.55s\n",
      "1521:\tlearn: 0.3305729\ttotal: 2.4s\tremaining: 1.54s\n",
      "1522:\tlearn: 0.3304218\ttotal: 2.4s\tremaining: 1.54s\n",
      "1523:\tlearn: 0.3302977\ttotal: 2.41s\tremaining: 1.54s\n",
      "1524:\tlearn: 0.3301813\ttotal: 2.41s\tremaining: 1.54s\n",
      "1525:\tlearn: 0.3300549\ttotal: 2.41s\tremaining: 1.54s\n",
      "1526:\tlearn: 0.3299345\ttotal: 2.41s\tremaining: 1.54s\n",
      "1527:\tlearn: 0.3297508\ttotal: 2.41s\tremaining: 1.53s\n",
      "1528:\tlearn: 0.3297053\ttotal: 2.41s\tremaining: 1.53s\n",
      "1529:\tlearn: 0.3296379\ttotal: 2.42s\tremaining: 1.53s\n",
      "1530:\tlearn: 0.3295154\ttotal: 2.42s\tremaining: 1.53s\n",
      "1531:\tlearn: 0.3294690\ttotal: 2.42s\tremaining: 1.53s\n",
      "1532:\tlearn: 0.3294049\ttotal: 2.42s\tremaining: 1.53s\n",
      "1533:\tlearn: 0.3292793\ttotal: 2.42s\tremaining: 1.52s\n",
      "1534:\tlearn: 0.3291732\ttotal: 2.42s\tremaining: 1.52s\n",
      "1535:\tlearn: 0.3289312\ttotal: 2.42s\tremaining: 1.52s\n",
      "1536:\tlearn: 0.3288795\ttotal: 2.43s\tremaining: 1.52s\n",
      "1537:\tlearn: 0.3287602\ttotal: 2.43s\tremaining: 1.52s\n",
      "1538:\tlearn: 0.3286425\ttotal: 2.43s\tremaining: 1.52s\n",
      "1539:\tlearn: 0.3285462\ttotal: 2.43s\tremaining: 1.52s\n",
      "1540:\tlearn: 0.3284551\ttotal: 2.43s\tremaining: 1.51s\n",
      "1541:\tlearn: 0.3284064\ttotal: 2.44s\tremaining: 1.51s\n",
      "1542:\tlearn: 0.3283359\ttotal: 2.44s\tremaining: 1.51s\n",
      "1543:\tlearn: 0.3281915\ttotal: 2.44s\tremaining: 1.51s\n",
      "1544:\tlearn: 0.3280724\ttotal: 2.44s\tremaining: 1.51s\n",
      "1545:\tlearn: 0.3279580\ttotal: 2.44s\tremaining: 1.51s\n",
      "1546:\tlearn: 0.3278516\ttotal: 2.44s\tremaining: 1.5s\n",
      "1547:\tlearn: 0.3277956\ttotal: 2.44s\tremaining: 1.5s\n",
      "1548:\tlearn: 0.3276164\ttotal: 2.45s\tremaining: 1.5s\n",
      "1549:\tlearn: 0.3274859\ttotal: 2.45s\tremaining: 1.5s\n",
      "1550:\tlearn: 0.3273786\ttotal: 2.45s\tremaining: 1.5s\n",
      "1551:\tlearn: 0.3272671\ttotal: 2.45s\tremaining: 1.5s\n",
      "1552:\tlearn: 0.3271582\ttotal: 2.45s\tremaining: 1.5s\n",
      "1553:\tlearn: 0.3270553\ttotal: 2.45s\tremaining: 1.49s\n",
      "1554:\tlearn: 0.3269703\ttotal: 2.46s\tremaining: 1.49s\n",
      "1555:\tlearn: 0.3268542\ttotal: 2.46s\tremaining: 1.49s\n",
      "1556:\tlearn: 0.3267679\ttotal: 2.46s\tremaining: 1.49s\n",
      "1557:\tlearn: 0.3266600\ttotal: 2.46s\tremaining: 1.49s\n",
      "1558:\tlearn: 0.3265549\ttotal: 2.46s\tremaining: 1.49s\n",
      "1559:\tlearn: 0.3263948\ttotal: 2.46s\tremaining: 1.48s\n",
      "1560:\tlearn: 0.3263638\ttotal: 2.46s\tremaining: 1.48s\n",
      "1561:\tlearn: 0.3261773\ttotal: 2.47s\tremaining: 1.48s\n",
      "1562:\tlearn: 0.3260747\ttotal: 2.47s\tremaining: 1.48s\n",
      "1563:\tlearn: 0.3260158\ttotal: 2.47s\tremaining: 1.48s\n",
      "1564:\tlearn: 0.3258714\ttotal: 2.47s\tremaining: 1.48s\n",
      "1565:\tlearn: 0.3257103\ttotal: 2.47s\tremaining: 1.48s\n",
      "1566:\tlearn: 0.3256348\ttotal: 2.47s\tremaining: 1.47s\n",
      "1567:\tlearn: 0.3255565\ttotal: 2.48s\tremaining: 1.47s\n",
      "1568:\tlearn: 0.3253893\ttotal: 2.48s\tremaining: 1.47s\n",
      "1569:\tlearn: 0.3252136\ttotal: 2.48s\tremaining: 1.47s\n",
      "1570:\tlearn: 0.3251143\ttotal: 2.48s\tremaining: 1.47s\n",
      "1571:\tlearn: 0.3250602\ttotal: 2.48s\tremaining: 1.47s\n",
      "1572:\tlearn: 0.3249145\ttotal: 2.48s\tremaining: 1.46s\n",
      "1573:\tlearn: 0.3248185\ttotal: 2.48s\tremaining: 1.46s\n",
      "1574:\tlearn: 0.3245768\ttotal: 2.49s\tremaining: 1.46s\n",
      "1575:\tlearn: 0.3244635\ttotal: 2.49s\tremaining: 1.46s\n",
      "1576:\tlearn: 0.3243275\ttotal: 2.49s\tremaining: 1.46s\n",
      "1577:\tlearn: 0.3241863\ttotal: 2.49s\tremaining: 1.46s\n",
      "1578:\tlearn: 0.3241238\ttotal: 2.49s\tremaining: 1.45s\n",
      "1579:\tlearn: 0.3239334\ttotal: 2.49s\tremaining: 1.45s\n",
      "1580:\tlearn: 0.3238613\ttotal: 2.5s\tremaining: 1.45s\n",
      "1581:\tlearn: 0.3237222\ttotal: 2.5s\tremaining: 1.45s\n",
      "1582:\tlearn: 0.3236281\ttotal: 2.5s\tremaining: 1.45s\n",
      "1583:\tlearn: 0.3235072\ttotal: 2.5s\tremaining: 1.45s\n",
      "1584:\tlearn: 0.3234446\ttotal: 2.5s\tremaining: 1.44s\n",
      "1585:\tlearn: 0.3232867\ttotal: 2.5s\tremaining: 1.44s\n",
      "1586:\tlearn: 0.3231841\ttotal: 2.5s\tremaining: 1.44s\n",
      "1587:\tlearn: 0.3230333\ttotal: 2.51s\tremaining: 1.44s\n",
      "1588:\tlearn: 0.3228811\ttotal: 2.51s\tremaining: 1.44s\n",
      "1589:\tlearn: 0.3227542\ttotal: 2.51s\tremaining: 1.44s\n",
      "1590:\tlearn: 0.3225705\ttotal: 2.51s\tremaining: 1.44s\n",
      "1591:\tlearn: 0.3224364\ttotal: 2.51s\tremaining: 1.43s\n",
      "1592:\tlearn: 0.3223650\ttotal: 2.52s\tremaining: 1.43s\n",
      "1593:\tlearn: 0.3221932\ttotal: 2.52s\tremaining: 1.43s\n",
      "1594:\tlearn: 0.3221261\ttotal: 2.52s\tremaining: 1.43s\n",
      "1595:\tlearn: 0.3220260\ttotal: 2.52s\tremaining: 1.43s\n",
      "1596:\tlearn: 0.3219046\ttotal: 2.52s\tremaining: 1.43s\n",
      "1597:\tlearn: 0.3218176\ttotal: 2.52s\tremaining: 1.42s\n",
      "1598:\tlearn: 0.3217383\ttotal: 2.52s\tremaining: 1.42s\n",
      "1599:\tlearn: 0.3216179\ttotal: 2.53s\tremaining: 1.42s\n",
      "1600:\tlearn: 0.3215730\ttotal: 2.53s\tremaining: 1.42s\n",
      "1601:\tlearn: 0.3215183\ttotal: 2.53s\tremaining: 1.42s\n",
      "1602:\tlearn: 0.3214252\ttotal: 2.53s\tremaining: 1.42s\n",
      "1603:\tlearn: 0.3213812\ttotal: 2.53s\tremaining: 1.41s\n",
      "1604:\tlearn: 0.3212684\ttotal: 2.53s\tremaining: 1.41s\n",
      "1605:\tlearn: 0.3212368\ttotal: 2.54s\tremaining: 1.41s\n",
      "1606:\tlearn: 0.3211270\ttotal: 2.54s\tremaining: 1.41s\n",
      "1607:\tlearn: 0.3210677\ttotal: 2.54s\tremaining: 1.41s\n",
      "1608:\tlearn: 0.3209758\ttotal: 2.54s\tremaining: 1.41s\n",
      "1609:\tlearn: 0.3209281\ttotal: 2.54s\tremaining: 1.41s\n",
      "1610:\tlearn: 0.3208625\ttotal: 2.54s\tremaining: 1.4s\n",
      "1611:\tlearn: 0.3207287\ttotal: 2.54s\tremaining: 1.4s\n",
      "1612:\tlearn: 0.3205320\ttotal: 2.55s\tremaining: 1.4s\n",
      "1613:\tlearn: 0.3204549\ttotal: 2.55s\tremaining: 1.4s\n",
      "1614:\tlearn: 0.3203539\ttotal: 2.55s\tremaining: 1.4s\n",
      "1615:\tlearn: 0.3202039\ttotal: 2.55s\tremaining: 1.4s\n",
      "1616:\tlearn: 0.3201478\ttotal: 2.55s\tremaining: 1.39s\n",
      "1617:\tlearn: 0.3200383\ttotal: 2.55s\tremaining: 1.39s\n",
      "1618:\tlearn: 0.3199216\ttotal: 2.56s\tremaining: 1.39s\n",
      "1619:\tlearn: 0.3198309\ttotal: 2.56s\tremaining: 1.39s\n",
      "1620:\tlearn: 0.3197437\ttotal: 2.56s\tremaining: 1.39s\n",
      "1621:\tlearn: 0.3195926\ttotal: 2.56s\tremaining: 1.39s\n",
      "1622:\tlearn: 0.3194844\ttotal: 2.56s\tremaining: 1.38s\n",
      "1623:\tlearn: 0.3193960\ttotal: 2.56s\tremaining: 1.38s\n",
      "1624:\tlearn: 0.3193626\ttotal: 2.56s\tremaining: 1.38s\n",
      "1625:\tlearn: 0.3192667\ttotal: 2.57s\tremaining: 1.38s\n",
      "1626:\tlearn: 0.3191761\ttotal: 2.57s\tremaining: 1.38s\n",
      "1627:\tlearn: 0.3190844\ttotal: 2.57s\tremaining: 1.38s\n",
      "1628:\tlearn: 0.3189784\ttotal: 2.57s\tremaining: 1.37s\n",
      "1629:\tlearn: 0.3188423\ttotal: 2.57s\tremaining: 1.37s\n",
      "1630:\tlearn: 0.3186791\ttotal: 2.57s\tremaining: 1.37s\n",
      "1631:\tlearn: 0.3185615\ttotal: 2.58s\tremaining: 1.37s\n",
      "1632:\tlearn: 0.3184185\ttotal: 2.58s\tremaining: 1.37s\n",
      "1633:\tlearn: 0.3183264\ttotal: 2.58s\tremaining: 1.37s\n",
      "1634:\tlearn: 0.3181485\ttotal: 2.58s\tremaining: 1.36s\n",
      "1635:\tlearn: 0.3180723\ttotal: 2.58s\tremaining: 1.36s\n",
      "1636:\tlearn: 0.3179881\ttotal: 2.58s\tremaining: 1.36s\n",
      "1637:\tlearn: 0.3178518\ttotal: 2.58s\tremaining: 1.36s\n",
      "1638:\tlearn: 0.3176647\ttotal: 2.58s\tremaining: 1.36s\n",
      "1639:\tlearn: 0.3175409\ttotal: 2.59s\tremaining: 1.36s\n",
      "1640:\tlearn: 0.3173836\ttotal: 2.59s\tremaining: 1.35s\n",
      "1641:\tlearn: 0.3171772\ttotal: 2.59s\tremaining: 1.35s\n",
      "1642:\tlearn: 0.3171129\ttotal: 2.59s\tremaining: 1.35s\n",
      "1643:\tlearn: 0.3169423\ttotal: 2.59s\tremaining: 1.35s\n",
      "1644:\tlearn: 0.3168176\ttotal: 2.6s\tremaining: 1.35s\n",
      "1645:\tlearn: 0.3166632\ttotal: 2.6s\tremaining: 1.35s\n",
      "1646:\tlearn: 0.3166206\ttotal: 2.6s\tremaining: 1.35s\n",
      "1647:\tlearn: 0.3165165\ttotal: 2.6s\tremaining: 1.34s\n",
      "1648:\tlearn: 0.3163700\ttotal: 2.6s\tremaining: 1.34s\n",
      "1649:\tlearn: 0.3162313\ttotal: 2.61s\tremaining: 1.34s\n",
      "1650:\tlearn: 0.3160814\ttotal: 2.61s\tremaining: 1.34s\n",
      "1651:\tlearn: 0.3160133\ttotal: 2.61s\tremaining: 1.34s\n",
      "1652:\tlearn: 0.3159574\ttotal: 2.61s\tremaining: 1.34s\n",
      "1653:\tlearn: 0.3158247\ttotal: 2.61s\tremaining: 1.34s\n",
      "1654:\tlearn: 0.3156521\ttotal: 2.62s\tremaining: 1.33s\n",
      "1655:\tlearn: 0.3156024\ttotal: 2.62s\tremaining: 1.33s\n",
      "1656:\tlearn: 0.3155295\ttotal: 2.62s\tremaining: 1.33s\n",
      "1657:\tlearn: 0.3153626\ttotal: 2.62s\tremaining: 1.33s\n",
      "1658:\tlearn: 0.3152834\ttotal: 2.62s\tremaining: 1.33s\n",
      "1659:\tlearn: 0.3151532\ttotal: 2.63s\tremaining: 1.33s\n",
      "1660:\tlearn: 0.3150374\ttotal: 2.63s\tremaining: 1.33s\n",
      "1661:\tlearn: 0.3149292\ttotal: 2.63s\tremaining: 1.33s\n",
      "1662:\tlearn: 0.3147849\ttotal: 2.63s\tremaining: 1.32s\n",
      "1663:\tlearn: 0.3145884\ttotal: 2.63s\tremaining: 1.32s\n",
      "1664:\tlearn: 0.3143949\ttotal: 2.64s\tremaining: 1.32s\n",
      "1665:\tlearn: 0.3142720\ttotal: 2.64s\tremaining: 1.32s\n",
      "1666:\tlearn: 0.3141385\ttotal: 2.64s\tremaining: 1.32s\n",
      "1667:\tlearn: 0.3140281\ttotal: 2.64s\tremaining: 1.32s\n",
      "1668:\tlearn: 0.3139138\ttotal: 2.64s\tremaining: 1.32s\n",
      "1669:\tlearn: 0.3138419\ttotal: 2.65s\tremaining: 1.31s\n",
      "1670:\tlearn: 0.3137332\ttotal: 2.65s\tremaining: 1.31s\n",
      "1671:\tlearn: 0.3136385\ttotal: 2.65s\tremaining: 1.31s\n",
      "1672:\tlearn: 0.3134800\ttotal: 2.65s\tremaining: 1.31s\n",
      "1673:\tlearn: 0.3134357\ttotal: 2.65s\tremaining: 1.31s\n",
      "1674:\tlearn: 0.3132622\ttotal: 2.65s\tremaining: 1.31s\n",
      "1675:\tlearn: 0.3132010\ttotal: 2.66s\tremaining: 1.31s\n",
      "1676:\tlearn: 0.3130860\ttotal: 2.66s\tremaining: 1.3s\n",
      "1677:\tlearn: 0.3130336\ttotal: 2.66s\tremaining: 1.3s\n",
      "1678:\tlearn: 0.3129114\ttotal: 2.66s\tremaining: 1.3s\n",
      "1679:\tlearn: 0.3127995\ttotal: 2.67s\tremaining: 1.3s\n",
      "1680:\tlearn: 0.3127029\ttotal: 2.67s\tremaining: 1.3s\n",
      "1681:\tlearn: 0.3126265\ttotal: 2.67s\tremaining: 1.3s\n",
      "1682:\tlearn: 0.3124833\ttotal: 2.67s\tremaining: 1.3s\n",
      "1683:\tlearn: 0.3123833\ttotal: 2.67s\tremaining: 1.29s\n",
      "1684:\tlearn: 0.3123302\ttotal: 2.68s\tremaining: 1.29s\n",
      "1685:\tlearn: 0.3121801\ttotal: 2.68s\tremaining: 1.29s\n",
      "1686:\tlearn: 0.3120733\ttotal: 2.68s\tremaining: 1.29s\n",
      "1687:\tlearn: 0.3119996\ttotal: 2.68s\tremaining: 1.29s\n",
      "1688:\tlearn: 0.3119231\ttotal: 2.69s\tremaining: 1.29s\n",
      "1689:\tlearn: 0.3118020\ttotal: 2.69s\tremaining: 1.29s\n",
      "1690:\tlearn: 0.3117205\ttotal: 2.69s\tremaining: 1.29s\n",
      "1691:\tlearn: 0.3116399\ttotal: 2.69s\tremaining: 1.28s\n",
      "1692:\tlearn: 0.3115444\ttotal: 2.69s\tremaining: 1.28s\n",
      "1693:\tlearn: 0.3114456\ttotal: 2.69s\tremaining: 1.28s\n",
      "1694:\tlearn: 0.3113364\ttotal: 2.69s\tremaining: 1.28s\n",
      "1695:\tlearn: 0.3112514\ttotal: 2.7s\tremaining: 1.28s\n",
      "1696:\tlearn: 0.3111764\ttotal: 2.7s\tremaining: 1.28s\n",
      "1697:\tlearn: 0.3110887\ttotal: 2.7s\tremaining: 1.27s\n",
      "1698:\tlearn: 0.3110046\ttotal: 2.7s\tremaining: 1.27s\n",
      "1699:\tlearn: 0.3108560\ttotal: 2.7s\tremaining: 1.27s\n",
      "1700:\tlearn: 0.3107728\ttotal: 2.7s\tremaining: 1.27s\n",
      "1701:\tlearn: 0.3106455\ttotal: 2.71s\tremaining: 1.27s\n",
      "1702:\tlearn: 0.3105461\ttotal: 2.71s\tremaining: 1.27s\n",
      "1703:\tlearn: 0.3103673\ttotal: 2.71s\tremaining: 1.26s\n",
      "1704:\tlearn: 0.3103103\ttotal: 2.71s\tremaining: 1.26s\n",
      "1705:\tlearn: 0.3101894\ttotal: 2.71s\tremaining: 1.26s\n",
      "1706:\tlearn: 0.3100992\ttotal: 2.71s\tremaining: 1.26s\n",
      "1707:\tlearn: 0.3099932\ttotal: 2.71s\tremaining: 1.26s\n",
      "1708:\tlearn: 0.3098986\ttotal: 2.72s\tremaining: 1.26s\n",
      "1709:\tlearn: 0.3097543\ttotal: 2.72s\tremaining: 1.25s\n",
      "1710:\tlearn: 0.3096936\ttotal: 2.72s\tremaining: 1.25s\n",
      "1711:\tlearn: 0.3095809\ttotal: 2.72s\tremaining: 1.25s\n",
      "1712:\tlearn: 0.3095087\ttotal: 2.72s\tremaining: 1.25s\n",
      "1713:\tlearn: 0.3093942\ttotal: 2.72s\tremaining: 1.25s\n",
      "1714:\tlearn: 0.3092780\ttotal: 2.72s\tremaining: 1.25s\n",
      "1715:\tlearn: 0.3092084\ttotal: 2.73s\tremaining: 1.25s\n",
      "1716:\tlearn: 0.3090976\ttotal: 2.73s\tremaining: 1.24s\n",
      "1717:\tlearn: 0.3089848\ttotal: 2.73s\tremaining: 1.24s\n",
      "1718:\tlearn: 0.3088221\ttotal: 2.73s\tremaining: 1.24s\n",
      "1719:\tlearn: 0.3087408\ttotal: 2.73s\tremaining: 1.24s\n",
      "1720:\tlearn: 0.3086259\ttotal: 2.73s\tremaining: 1.24s\n",
      "1721:\tlearn: 0.3084704\ttotal: 2.73s\tremaining: 1.24s\n",
      "1722:\tlearn: 0.3083614\ttotal: 2.74s\tremaining: 1.23s\n",
      "1723:\tlearn: 0.3082539\ttotal: 2.74s\tremaining: 1.23s\n",
      "1724:\tlearn: 0.3081451\ttotal: 2.74s\tremaining: 1.23s\n",
      "1725:\tlearn: 0.3080841\ttotal: 2.74s\tremaining: 1.23s\n",
      "1726:\tlearn: 0.3080099\ttotal: 2.74s\tremaining: 1.23s\n",
      "1727:\tlearn: 0.3079297\ttotal: 2.74s\tremaining: 1.23s\n",
      "1728:\tlearn: 0.3078448\ttotal: 2.75s\tremaining: 1.22s\n",
      "1729:\tlearn: 0.3077448\ttotal: 2.75s\tremaining: 1.22s\n",
      "1730:\tlearn: 0.3075982\ttotal: 2.75s\tremaining: 1.22s\n",
      "1731:\tlearn: 0.3074756\ttotal: 2.75s\tremaining: 1.22s\n",
      "1732:\tlearn: 0.3073423\ttotal: 2.75s\tremaining: 1.22s\n",
      "1733:\tlearn: 0.3072765\ttotal: 2.75s\tremaining: 1.22s\n",
      "1734:\tlearn: 0.3071111\ttotal: 2.76s\tremaining: 1.22s\n",
      "1735:\tlearn: 0.3069880\ttotal: 2.76s\tremaining: 1.21s\n",
      "1736:\tlearn: 0.3069096\ttotal: 2.76s\tremaining: 1.21s\n",
      "1737:\tlearn: 0.3067792\ttotal: 2.76s\tremaining: 1.21s\n",
      "1738:\tlearn: 0.3065992\ttotal: 2.76s\tremaining: 1.21s\n",
      "1739:\tlearn: 0.3065181\ttotal: 2.76s\tremaining: 1.21s\n",
      "1740:\tlearn: 0.3064101\ttotal: 2.77s\tremaining: 1.21s\n",
      "1741:\tlearn: 0.3062117\ttotal: 2.77s\tremaining: 1.2s\n",
      "1742:\tlearn: 0.3060727\ttotal: 2.77s\tremaining: 1.2s\n",
      "1743:\tlearn: 0.3059861\ttotal: 2.77s\tremaining: 1.2s\n",
      "1744:\tlearn: 0.3058731\ttotal: 2.77s\tremaining: 1.2s\n",
      "1745:\tlearn: 0.3057756\ttotal: 2.77s\tremaining: 1.2s\n",
      "1746:\tlearn: 0.3057043\ttotal: 2.77s\tremaining: 1.2s\n",
      "1747:\tlearn: 0.3056012\ttotal: 2.78s\tremaining: 1.19s\n",
      "1748:\tlearn: 0.3054580\ttotal: 2.78s\tremaining: 1.19s\n",
      "1749:\tlearn: 0.3053732\ttotal: 2.78s\tremaining: 1.19s\n",
      "1750:\tlearn: 0.3051899\ttotal: 2.78s\tremaining: 1.19s\n",
      "1751:\tlearn: 0.3050522\ttotal: 2.78s\tremaining: 1.19s\n",
      "1752:\tlearn: 0.3049279\ttotal: 2.78s\tremaining: 1.19s\n",
      "1753:\tlearn: 0.3048632\ttotal: 2.79s\tremaining: 1.18s\n",
      "1754:\tlearn: 0.3047371\ttotal: 2.79s\tremaining: 1.18s\n",
      "1755:\tlearn: 0.3045849\ttotal: 2.79s\tremaining: 1.18s\n",
      "1756:\tlearn: 0.3044296\ttotal: 2.79s\tremaining: 1.18s\n",
      "1757:\tlearn: 0.3043506\ttotal: 2.79s\tremaining: 1.18s\n",
      "1758:\tlearn: 0.3042017\ttotal: 2.79s\tremaining: 1.18s\n",
      "1759:\tlearn: 0.3040255\ttotal: 2.79s\tremaining: 1.17s\n",
      "1760:\tlearn: 0.3039294\ttotal: 2.8s\tremaining: 1.17s\n",
      "1761:\tlearn: 0.3037666\ttotal: 2.8s\tremaining: 1.17s\n",
      "1762:\tlearn: 0.3036709\ttotal: 2.8s\tremaining: 1.17s\n",
      "1763:\tlearn: 0.3036090\ttotal: 2.8s\tremaining: 1.17s\n",
      "1764:\tlearn: 0.3035143\ttotal: 2.8s\tremaining: 1.17s\n",
      "1765:\tlearn: 0.3033622\ttotal: 2.81s\tremaining: 1.17s\n",
      "1766:\tlearn: 0.3032708\ttotal: 2.81s\tremaining: 1.16s\n",
      "1767:\tlearn: 0.3031311\ttotal: 2.81s\tremaining: 1.16s\n",
      "1768:\tlearn: 0.3029784\ttotal: 2.81s\tremaining: 1.16s\n",
      "1769:\tlearn: 0.3028196\ttotal: 2.81s\tremaining: 1.16s\n",
      "1770:\tlearn: 0.3027280\ttotal: 2.81s\tremaining: 1.16s\n",
      "1771:\tlearn: 0.3026093\ttotal: 2.81s\tremaining: 1.16s\n",
      "1772:\tlearn: 0.3025133\ttotal: 2.82s\tremaining: 1.15s\n",
      "1773:\tlearn: 0.3022992\ttotal: 2.82s\tremaining: 1.15s\n",
      "1774:\tlearn: 0.3021893\ttotal: 2.82s\tremaining: 1.15s\n",
      "1775:\tlearn: 0.3021021\ttotal: 2.82s\tremaining: 1.15s\n",
      "1776:\tlearn: 0.3019849\ttotal: 2.82s\tremaining: 1.15s\n",
      "1777:\tlearn: 0.3018017\ttotal: 2.83s\tremaining: 1.15s\n",
      "1778:\tlearn: 0.3017037\ttotal: 2.83s\tremaining: 1.15s\n",
      "1779:\tlearn: 0.3015996\ttotal: 2.83s\tremaining: 1.14s\n",
      "1780:\tlearn: 0.3015316\ttotal: 2.83s\tremaining: 1.14s\n",
      "1781:\tlearn: 0.3014339\ttotal: 2.83s\tremaining: 1.14s\n",
      "1782:\tlearn: 0.3013441\ttotal: 2.83s\tremaining: 1.14s\n",
      "1783:\tlearn: 0.3012939\ttotal: 2.83s\tremaining: 1.14s\n",
      "1784:\tlearn: 0.3012116\ttotal: 2.83s\tremaining: 1.14s\n",
      "1785:\tlearn: 0.3010973\ttotal: 2.84s\tremaining: 1.13s\n",
      "1786:\tlearn: 0.3009855\ttotal: 2.84s\tremaining: 1.13s\n",
      "1787:\tlearn: 0.3008689\ttotal: 2.84s\tremaining: 1.13s\n",
      "1788:\tlearn: 0.3007213\ttotal: 2.84s\tremaining: 1.13s\n",
      "1789:\tlearn: 0.3005731\ttotal: 2.84s\tremaining: 1.13s\n",
      "1790:\tlearn: 0.3005591\ttotal: 2.84s\tremaining: 1.13s\n",
      "1791:\tlearn: 0.3004412\ttotal: 2.85s\tremaining: 1.12s\n",
      "1792:\tlearn: 0.3003186\ttotal: 2.85s\tremaining: 1.12s\n",
      "1793:\tlearn: 0.3002187\ttotal: 2.85s\tremaining: 1.12s\n",
      "1794:\tlearn: 0.3001408\ttotal: 2.85s\tremaining: 1.12s\n",
      "1795:\tlearn: 0.3000509\ttotal: 2.85s\tremaining: 1.12s\n",
      "1796:\tlearn: 0.2999386\ttotal: 2.85s\tremaining: 1.12s\n",
      "1797:\tlearn: 0.2998281\ttotal: 2.85s\tremaining: 1.11s\n",
      "1798:\tlearn: 0.2997061\ttotal: 2.86s\tremaining: 1.11s\n",
      "1799:\tlearn: 0.2995604\ttotal: 2.86s\tremaining: 1.11s\n",
      "1800:\tlearn: 0.2994026\ttotal: 2.86s\tremaining: 1.11s\n",
      "1801:\tlearn: 0.2993343\ttotal: 2.86s\tremaining: 1.11s\n",
      "1802:\tlearn: 0.2991950\ttotal: 2.86s\tremaining: 1.11s\n",
      "1803:\tlearn: 0.2991087\ttotal: 2.86s\tremaining: 1.1s\n",
      "1804:\tlearn: 0.2990549\ttotal: 2.88s\tremaining: 1.11s\n",
      "1805:\tlearn: 0.2989202\ttotal: 2.88s\tremaining: 1.11s\n",
      "1806:\tlearn: 0.2988247\ttotal: 2.88s\tremaining: 1.11s\n",
      "1807:\tlearn: 0.2986868\ttotal: 2.89s\tremaining: 1.1s\n",
      "1808:\tlearn: 0.2985753\ttotal: 2.89s\tremaining: 1.1s\n",
      "1809:\tlearn: 0.2984367\ttotal: 2.89s\tremaining: 1.1s\n",
      "1810:\tlearn: 0.2983113\ttotal: 2.89s\tremaining: 1.1s\n",
      "1811:\tlearn: 0.2981778\ttotal: 2.89s\tremaining: 1.1s\n",
      "1812:\tlearn: 0.2980806\ttotal: 2.9s\tremaining: 1.1s\n",
      "1813:\tlearn: 0.2978749\ttotal: 2.9s\tremaining: 1.09s\n",
      "1814:\tlearn: 0.2977288\ttotal: 2.9s\tremaining: 1.09s\n",
      "1815:\tlearn: 0.2976143\ttotal: 2.9s\tremaining: 1.09s\n",
      "1816:\tlearn: 0.2975186\ttotal: 2.9s\tremaining: 1.09s\n",
      "1817:\tlearn: 0.2974354\ttotal: 2.9s\tremaining: 1.09s\n",
      "1818:\tlearn: 0.2972049\ttotal: 2.9s\tremaining: 1.09s\n",
      "1819:\tlearn: 0.2971171\ttotal: 2.91s\tremaining: 1.09s\n",
      "1820:\tlearn: 0.2970007\ttotal: 2.91s\tremaining: 1.08s\n",
      "1821:\tlearn: 0.2969302\ttotal: 2.91s\tremaining: 1.08s\n",
      "1822:\tlearn: 0.2967746\ttotal: 2.91s\tremaining: 1.08s\n",
      "1823:\tlearn: 0.2966785\ttotal: 2.91s\tremaining: 1.08s\n",
      "1824:\tlearn: 0.2965684\ttotal: 2.92s\tremaining: 1.08s\n",
      "1825:\tlearn: 0.2964752\ttotal: 2.92s\tremaining: 1.08s\n",
      "1826:\tlearn: 0.2963980\ttotal: 2.92s\tremaining: 1.07s\n",
      "1827:\tlearn: 0.2963413\ttotal: 2.92s\tremaining: 1.07s\n",
      "1828:\tlearn: 0.2962438\ttotal: 2.92s\tremaining: 1.07s\n",
      "1829:\tlearn: 0.2960879\ttotal: 2.92s\tremaining: 1.07s\n",
      "1830:\tlearn: 0.2959943\ttotal: 2.93s\tremaining: 1.07s\n",
      "1831:\tlearn: 0.2958822\ttotal: 2.93s\tremaining: 1.07s\n",
      "1832:\tlearn: 0.2957919\ttotal: 2.93s\tremaining: 1.07s\n",
      "1833:\tlearn: 0.2957214\ttotal: 2.93s\tremaining: 1.06s\n",
      "1834:\tlearn: 0.2955332\ttotal: 2.93s\tremaining: 1.06s\n",
      "1835:\tlearn: 0.2954056\ttotal: 2.94s\tremaining: 1.06s\n",
      "1836:\tlearn: 0.2953413\ttotal: 2.94s\tremaining: 1.06s\n",
      "1837:\tlearn: 0.2952275\ttotal: 2.94s\tremaining: 1.06s\n",
      "1838:\tlearn: 0.2950905\ttotal: 2.94s\tremaining: 1.06s\n",
      "1839:\tlearn: 0.2949529\ttotal: 2.94s\tremaining: 1.05s\n",
      "1840:\tlearn: 0.2948735\ttotal: 2.94s\tremaining: 1.05s\n",
      "1841:\tlearn: 0.2947281\ttotal: 2.94s\tremaining: 1.05s\n",
      "1842:\tlearn: 0.2946348\ttotal: 2.95s\tremaining: 1.05s\n",
      "1843:\tlearn: 0.2945419\ttotal: 2.95s\tremaining: 1.05s\n",
      "1844:\tlearn: 0.2944306\ttotal: 2.95s\tremaining: 1.05s\n",
      "1845:\tlearn: 0.2943235\ttotal: 2.95s\tremaining: 1.05s\n",
      "1846:\tlearn: 0.2941906\ttotal: 2.95s\tremaining: 1.04s\n",
      "1847:\tlearn: 0.2940302\ttotal: 2.96s\tremaining: 1.04s\n",
      "1848:\tlearn: 0.2938730\ttotal: 2.96s\tremaining: 1.04s\n",
      "1849:\tlearn: 0.2937691\ttotal: 2.96s\tremaining: 1.04s\n",
      "1850:\tlearn: 0.2936279\ttotal: 2.96s\tremaining: 1.04s\n",
      "1851:\tlearn: 0.2935030\ttotal: 2.96s\tremaining: 1.04s\n",
      "1852:\tlearn: 0.2934056\ttotal: 2.96s\tremaining: 1.03s\n",
      "1853:\tlearn: 0.2932774\ttotal: 2.97s\tremaining: 1.03s\n",
      "1854:\tlearn: 0.2932289\ttotal: 2.97s\tremaining: 1.03s\n",
      "1855:\tlearn: 0.2931381\ttotal: 2.97s\tremaining: 1.03s\n",
      "1856:\tlearn: 0.2929851\ttotal: 2.97s\tremaining: 1.03s\n",
      "1857:\tlearn: 0.2928800\ttotal: 2.97s\tremaining: 1.03s\n",
      "1858:\tlearn: 0.2927681\ttotal: 2.98s\tremaining: 1.03s\n",
      "1859:\tlearn: 0.2926688\ttotal: 2.98s\tremaining: 1.02s\n",
      "1860:\tlearn: 0.2926128\ttotal: 2.99s\tremaining: 1.02s\n",
      "1861:\tlearn: 0.2924639\ttotal: 2.99s\tremaining: 1.02s\n",
      "1862:\tlearn: 0.2923464\ttotal: 2.99s\tremaining: 1.02s\n",
      "1863:\tlearn: 0.2922473\ttotal: 3s\tremaining: 1.02s\n",
      "1864:\tlearn: 0.2921387\ttotal: 3s\tremaining: 1.02s\n",
      "1865:\tlearn: 0.2920980\ttotal: 3s\tremaining: 1.02s\n",
      "1866:\tlearn: 0.2919595\ttotal: 3s\tremaining: 1.02s\n",
      "1867:\tlearn: 0.2919139\ttotal: 3s\tremaining: 1.01s\n",
      "1868:\tlearn: 0.2918392\ttotal: 3s\tremaining: 1.01s\n",
      "1869:\tlearn: 0.2917105\ttotal: 3s\tremaining: 1.01s\n",
      "1870:\tlearn: 0.2915059\ttotal: 3.01s\tremaining: 1.01s\n",
      "1871:\tlearn: 0.2914212\ttotal: 3.01s\tremaining: 1.01s\n",
      "1872:\tlearn: 0.2913185\ttotal: 3.01s\tremaining: 1.01s\n",
      "1873:\tlearn: 0.2912054\ttotal: 3.01s\tremaining: 1.01s\n",
      "1874:\tlearn: 0.2910977\ttotal: 3.01s\tremaining: 1s\n",
      "1875:\tlearn: 0.2909409\ttotal: 3.02s\tremaining: 1s\n",
      "1876:\tlearn: 0.2908418\ttotal: 3.02s\tremaining: 1s\n",
      "1877:\tlearn: 0.2907611\ttotal: 3.02s\tremaining: 1s\n",
      "1878:\tlearn: 0.2906077\ttotal: 3.02s\tremaining: 999ms\n",
      "1879:\tlearn: 0.2904157\ttotal: 3.02s\tremaining: 997ms\n",
      "1880:\tlearn: 0.2903555\ttotal: 3.02s\tremaining: 995ms\n",
      "1881:\tlearn: 0.2902534\ttotal: 3.03s\tremaining: 994ms\n",
      "1882:\tlearn: 0.2901359\ttotal: 3.03s\tremaining: 992ms\n",
      "1883:\tlearn: 0.2900315\ttotal: 3.03s\tremaining: 991ms\n",
      "1884:\tlearn: 0.2898901\ttotal: 3.03s\tremaining: 989ms\n",
      "1885:\tlearn: 0.2897563\ttotal: 3.03s\tremaining: 987ms\n",
      "1886:\tlearn: 0.2896833\ttotal: 3.03s\tremaining: 986ms\n",
      "1887:\tlearn: 0.2896277\ttotal: 3.04s\tremaining: 984ms\n",
      "1888:\tlearn: 0.2895656\ttotal: 3.04s\tremaining: 982ms\n",
      "1889:\tlearn: 0.2894077\ttotal: 3.04s\tremaining: 981ms\n",
      "1890:\tlearn: 0.2893010\ttotal: 3.04s\tremaining: 979ms\n",
      "1891:\tlearn: 0.2892095\ttotal: 3.04s\tremaining: 978ms\n",
      "1892:\tlearn: 0.2890607\ttotal: 3.04s\tremaining: 976ms\n",
      "1893:\tlearn: 0.2889554\ttotal: 3.04s\tremaining: 974ms\n",
      "1894:\tlearn: 0.2887453\ttotal: 3.05s\tremaining: 973ms\n",
      "1895:\tlearn: 0.2886614\ttotal: 3.05s\tremaining: 971ms\n",
      "1896:\tlearn: 0.2885680\ttotal: 3.05s\tremaining: 970ms\n",
      "1897:\tlearn: 0.2884016\ttotal: 3.05s\tremaining: 968ms\n",
      "1898:\tlearn: 0.2882349\ttotal: 3.05s\tremaining: 966ms\n",
      "1899:\tlearn: 0.2880365\ttotal: 3.05s\tremaining: 965ms\n",
      "1900:\tlearn: 0.2879201\ttotal: 3.06s\tremaining: 963ms\n",
      "1901:\tlearn: 0.2878031\ttotal: 3.06s\tremaining: 961ms\n",
      "1902:\tlearn: 0.2876120\ttotal: 3.06s\tremaining: 960ms\n",
      "1903:\tlearn: 0.2874499\ttotal: 3.06s\tremaining: 958ms\n",
      "1904:\tlearn: 0.2873643\ttotal: 3.06s\tremaining: 956ms\n",
      "1905:\tlearn: 0.2872515\ttotal: 3.06s\tremaining: 955ms\n",
      "1906:\tlearn: 0.2870824\ttotal: 3.06s\tremaining: 953ms\n",
      "1907:\tlearn: 0.2869628\ttotal: 3.07s\tremaining: 952ms\n",
      "1908:\tlearn: 0.2868583\ttotal: 3.07s\tremaining: 950ms\n",
      "1909:\tlearn: 0.2867665\ttotal: 3.07s\tremaining: 948ms\n",
      "1910:\tlearn: 0.2866889\ttotal: 3.07s\tremaining: 947ms\n",
      "1911:\tlearn: 0.2866226\ttotal: 3.07s\tremaining: 945ms\n",
      "1912:\tlearn: 0.2864626\ttotal: 3.07s\tremaining: 943ms\n",
      "1913:\tlearn: 0.2863773\ttotal: 3.08s\tremaining: 942ms\n",
      "1914:\tlearn: 0.2863184\ttotal: 3.08s\tremaining: 940ms\n",
      "1915:\tlearn: 0.2861921\ttotal: 3.08s\tremaining: 938ms\n",
      "1916:\tlearn: 0.2860566\ttotal: 3.08s\tremaining: 937ms\n",
      "1917:\tlearn: 0.2859782\ttotal: 3.08s\tremaining: 935ms\n",
      "1918:\tlearn: 0.2858927\ttotal: 3.08s\tremaining: 933ms\n",
      "1919:\tlearn: 0.2857631\ttotal: 3.08s\tremaining: 932ms\n",
      "1920:\tlearn: 0.2856360\ttotal: 3.09s\tremaining: 930ms\n",
      "1921:\tlearn: 0.2855006\ttotal: 3.09s\tremaining: 929ms\n",
      "1922:\tlearn: 0.2854162\ttotal: 3.09s\tremaining: 927ms\n",
      "1923:\tlearn: 0.2853002\ttotal: 3.09s\tremaining: 925ms\n",
      "1924:\tlearn: 0.2851270\ttotal: 3.09s\tremaining: 924ms\n",
      "1925:\tlearn: 0.2849995\ttotal: 3.09s\tremaining: 922ms\n",
      "1926:\tlearn: 0.2848505\ttotal: 3.1s\tremaining: 920ms\n",
      "1927:\tlearn: 0.2848004\ttotal: 3.1s\tremaining: 919ms\n",
      "1928:\tlearn: 0.2847009\ttotal: 3.1s\tremaining: 917ms\n",
      "1929:\tlearn: 0.2845629\ttotal: 3.1s\tremaining: 916ms\n",
      "1930:\tlearn: 0.2844669\ttotal: 3.1s\tremaining: 914ms\n",
      "1931:\tlearn: 0.2843593\ttotal: 3.1s\tremaining: 912ms\n",
      "1932:\tlearn: 0.2842990\ttotal: 3.1s\tremaining: 911ms\n",
      "1933:\tlearn: 0.2842600\ttotal: 3.11s\tremaining: 909ms\n",
      "1934:\tlearn: 0.2842156\ttotal: 3.11s\tremaining: 907ms\n",
      "1935:\tlearn: 0.2840973\ttotal: 3.11s\tremaining: 906ms\n",
      "1936:\tlearn: 0.2840022\ttotal: 3.11s\tremaining: 904ms\n",
      "1937:\tlearn: 0.2838926\ttotal: 3.11s\tremaining: 903ms\n",
      "1938:\tlearn: 0.2837467\ttotal: 3.11s\tremaining: 901ms\n",
      "1939:\tlearn: 0.2836257\ttotal: 3.12s\tremaining: 899ms\n",
      "1940:\tlearn: 0.2834601\ttotal: 3.12s\tremaining: 898ms\n",
      "1941:\tlearn: 0.2833075\ttotal: 3.12s\tremaining: 896ms\n",
      "1942:\tlearn: 0.2832406\ttotal: 3.12s\tremaining: 894ms\n",
      "1943:\tlearn: 0.2831508\ttotal: 3.12s\tremaining: 893ms\n",
      "1944:\tlearn: 0.2830362\ttotal: 3.12s\tremaining: 891ms\n",
      "1945:\tlearn: 0.2829520\ttotal: 3.12s\tremaining: 890ms\n",
      "1946:\tlearn: 0.2829018\ttotal: 3.13s\tremaining: 888ms\n",
      "1947:\tlearn: 0.2828642\ttotal: 3.13s\tremaining: 886ms\n",
      "1948:\tlearn: 0.2827167\ttotal: 3.13s\tremaining: 885ms\n",
      "1949:\tlearn: 0.2826308\ttotal: 3.13s\tremaining: 883ms\n",
      "1950:\tlearn: 0.2825154\ttotal: 3.13s\tremaining: 881ms\n",
      "1951:\tlearn: 0.2823648\ttotal: 3.13s\tremaining: 880ms\n",
      "1952:\tlearn: 0.2823008\ttotal: 3.13s\tremaining: 878ms\n",
      "1953:\tlearn: 0.2822073\ttotal: 3.14s\tremaining: 877ms\n",
      "1954:\tlearn: 0.2820902\ttotal: 3.14s\tremaining: 875ms\n",
      "1955:\tlearn: 0.2819492\ttotal: 3.14s\tremaining: 873ms\n",
      "1956:\tlearn: 0.2818062\ttotal: 3.14s\tremaining: 872ms\n",
      "1957:\tlearn: 0.2817254\ttotal: 3.14s\tremaining: 870ms\n",
      "1958:\tlearn: 0.2816132\ttotal: 3.14s\tremaining: 868ms\n",
      "1959:\tlearn: 0.2814938\ttotal: 3.15s\tremaining: 867ms\n",
      "1960:\tlearn: 0.2814158\ttotal: 3.15s\tremaining: 865ms\n",
      "1961:\tlearn: 0.2813248\ttotal: 3.15s\tremaining: 864ms\n",
      "1962:\tlearn: 0.2812115\ttotal: 3.15s\tremaining: 862ms\n",
      "1963:\tlearn: 0.2810773\ttotal: 3.15s\tremaining: 860ms\n",
      "1964:\tlearn: 0.2809544\ttotal: 3.15s\tremaining: 859ms\n",
      "1965:\tlearn: 0.2807985\ttotal: 3.15s\tremaining: 857ms\n",
      "1966:\tlearn: 0.2806984\ttotal: 3.16s\tremaining: 855ms\n",
      "1967:\tlearn: 0.2806009\ttotal: 3.16s\tremaining: 854ms\n",
      "1968:\tlearn: 0.2805197\ttotal: 3.16s\tremaining: 852ms\n",
      "1969:\tlearn: 0.2804260\ttotal: 3.16s\tremaining: 851ms\n",
      "1970:\tlearn: 0.2803260\ttotal: 3.16s\tremaining: 849ms\n",
      "1971:\tlearn: 0.2801939\ttotal: 3.16s\tremaining: 847ms\n",
      "1972:\tlearn: 0.2800722\ttotal: 3.17s\tremaining: 846ms\n",
      "1973:\tlearn: 0.2799265\ttotal: 3.17s\tremaining: 844ms\n",
      "1974:\tlearn: 0.2798675\ttotal: 3.17s\tremaining: 842ms\n",
      "1975:\tlearn: 0.2797571\ttotal: 3.17s\tremaining: 841ms\n",
      "1976:\tlearn: 0.2797023\ttotal: 3.17s\tremaining: 839ms\n",
      "1977:\tlearn: 0.2796475\ttotal: 3.17s\tremaining: 838ms\n",
      "1978:\tlearn: 0.2795467\ttotal: 3.17s\tremaining: 836ms\n",
      "1979:\tlearn: 0.2794434\ttotal: 3.18s\tremaining: 834ms\n",
      "1980:\tlearn: 0.2792911\ttotal: 3.18s\tremaining: 833ms\n",
      "1981:\tlearn: 0.2792154\ttotal: 3.18s\tremaining: 831ms\n",
      "1982:\tlearn: 0.2790445\ttotal: 3.18s\tremaining: 829ms\n",
      "1983:\tlearn: 0.2789594\ttotal: 3.18s\tremaining: 828ms\n",
      "1984:\tlearn: 0.2788086\ttotal: 3.18s\tremaining: 826ms\n",
      "1985:\tlearn: 0.2787350\ttotal: 3.19s\tremaining: 824ms\n",
      "1986:\tlearn: 0.2786518\ttotal: 3.19s\tremaining: 823ms\n",
      "1987:\tlearn: 0.2785197\ttotal: 3.19s\tremaining: 821ms\n",
      "1988:\tlearn: 0.2784262\ttotal: 3.19s\tremaining: 820ms\n",
      "1989:\tlearn: 0.2782819\ttotal: 3.19s\tremaining: 818ms\n",
      "1990:\tlearn: 0.2781795\ttotal: 3.19s\tremaining: 816ms\n",
      "1991:\tlearn: 0.2780189\ttotal: 3.19s\tremaining: 815ms\n",
      "1992:\tlearn: 0.2778575\ttotal: 3.19s\tremaining: 813ms\n",
      "1993:\tlearn: 0.2778042\ttotal: 3.2s\tremaining: 812ms\n",
      "1994:\tlearn: 0.2777382\ttotal: 3.2s\tremaining: 810ms\n",
      "1995:\tlearn: 0.2776276\ttotal: 3.2s\tremaining: 809ms\n",
      "1996:\tlearn: 0.2774959\ttotal: 3.2s\tremaining: 807ms\n",
      "1997:\tlearn: 0.2773457\ttotal: 3.21s\tremaining: 805ms\n",
      "1998:\tlearn: 0.2772420\ttotal: 3.21s\tremaining: 804ms\n",
      "1999:\tlearn: 0.2771445\ttotal: 3.21s\tremaining: 802ms\n",
      "2000:\tlearn: 0.2770399\ttotal: 3.21s\tremaining: 800ms\n",
      "2001:\tlearn: 0.2769115\ttotal: 3.21s\tremaining: 799ms\n",
      "2002:\tlearn: 0.2768088\ttotal: 3.21s\tremaining: 797ms\n",
      "2003:\tlearn: 0.2766995\ttotal: 3.21s\tremaining: 796ms\n",
      "2004:\tlearn: 0.2765944\ttotal: 3.22s\tremaining: 794ms\n",
      "2005:\tlearn: 0.2764907\ttotal: 3.22s\tremaining: 792ms\n",
      "2006:\tlearn: 0.2763640\ttotal: 3.22s\tremaining: 791ms\n",
      "2007:\tlearn: 0.2763005\ttotal: 3.22s\tremaining: 789ms\n",
      "2008:\tlearn: 0.2760897\ttotal: 3.22s\tremaining: 788ms\n",
      "2009:\tlearn: 0.2759693\ttotal: 3.22s\tremaining: 786ms\n",
      "2010:\tlearn: 0.2758768\ttotal: 3.23s\tremaining: 784ms\n",
      "2011:\tlearn: 0.2757372\ttotal: 3.23s\tremaining: 783ms\n",
      "2012:\tlearn: 0.2755850\ttotal: 3.23s\tremaining: 781ms\n",
      "2013:\tlearn: 0.2754650\ttotal: 3.23s\tremaining: 779ms\n",
      "2014:\tlearn: 0.2753978\ttotal: 3.23s\tremaining: 778ms\n",
      "2015:\tlearn: 0.2752954\ttotal: 3.23s\tremaining: 776ms\n",
      "2016:\tlearn: 0.2751786\ttotal: 3.23s\tremaining: 774ms\n",
      "2017:\tlearn: 0.2750857\ttotal: 3.23s\tremaining: 773ms\n",
      "2018:\tlearn: 0.2749615\ttotal: 3.24s\tremaining: 771ms\n",
      "2019:\tlearn: 0.2749020\ttotal: 3.24s\tremaining: 770ms\n",
      "2020:\tlearn: 0.2747258\ttotal: 3.24s\tremaining: 768ms\n",
      "2021:\tlearn: 0.2746181\ttotal: 3.24s\tremaining: 766ms\n",
      "2022:\tlearn: 0.2744842\ttotal: 3.24s\tremaining: 765ms\n",
      "2023:\tlearn: 0.2744439\ttotal: 3.24s\tremaining: 763ms\n",
      "2024:\tlearn: 0.2742849\ttotal: 3.25s\tremaining: 762ms\n",
      "2025:\tlearn: 0.2742447\ttotal: 3.25s\tremaining: 760ms\n",
      "2026:\tlearn: 0.2741411\ttotal: 3.25s\tremaining: 758ms\n",
      "2027:\tlearn: 0.2740353\ttotal: 3.25s\tremaining: 757ms\n",
      "2028:\tlearn: 0.2739687\ttotal: 3.25s\tremaining: 755ms\n",
      "2029:\tlearn: 0.2739055\ttotal: 3.25s\tremaining: 753ms\n",
      "2030:\tlearn: 0.2738417\ttotal: 3.25s\tremaining: 752ms\n",
      "2031:\tlearn: 0.2738002\ttotal: 3.26s\tremaining: 750ms\n",
      "2032:\tlearn: 0.2737067\ttotal: 3.26s\tremaining: 749ms\n",
      "2033:\tlearn: 0.2736296\ttotal: 3.26s\tremaining: 747ms\n",
      "2034:\tlearn: 0.2734632\ttotal: 3.26s\tremaining: 745ms\n",
      "2035:\tlearn: 0.2733980\ttotal: 3.26s\tremaining: 744ms\n",
      "2036:\tlearn: 0.2733126\ttotal: 3.27s\tremaining: 742ms\n",
      "2037:\tlearn: 0.2732139\ttotal: 3.27s\tremaining: 741ms\n",
      "2038:\tlearn: 0.2730484\ttotal: 3.27s\tremaining: 739ms\n",
      "2039:\tlearn: 0.2729360\ttotal: 3.27s\tremaining: 738ms\n",
      "2040:\tlearn: 0.2728160\ttotal: 3.27s\tremaining: 736ms\n",
      "2041:\tlearn: 0.2726651\ttotal: 3.27s\tremaining: 735ms\n",
      "2042:\tlearn: 0.2725609\ttotal: 3.28s\tremaining: 733ms\n",
      "2043:\tlearn: 0.2725253\ttotal: 3.28s\tremaining: 731ms\n",
      "2044:\tlearn: 0.2724675\ttotal: 3.28s\tremaining: 730ms\n",
      "2045:\tlearn: 0.2723614\ttotal: 3.28s\tremaining: 728ms\n",
      "2046:\tlearn: 0.2722211\ttotal: 3.28s\tremaining: 727ms\n",
      "2047:\tlearn: 0.2720997\ttotal: 3.28s\tremaining: 725ms\n",
      "2048:\tlearn: 0.2719934\ttotal: 3.29s\tremaining: 723ms\n",
      "2049:\tlearn: 0.2718916\ttotal: 3.29s\tremaining: 722ms\n",
      "2050:\tlearn: 0.2717772\ttotal: 3.29s\tremaining: 720ms\n",
      "2051:\tlearn: 0.2716644\ttotal: 3.29s\tremaining: 719ms\n",
      "2052:\tlearn: 0.2715950\ttotal: 3.29s\tremaining: 717ms\n",
      "2053:\tlearn: 0.2714437\ttotal: 3.29s\tremaining: 715ms\n",
      "2054:\tlearn: 0.2713548\ttotal: 3.29s\tremaining: 714ms\n",
      "2055:\tlearn: 0.2712576\ttotal: 3.3s\tremaining: 712ms\n",
      "2056:\tlearn: 0.2712144\ttotal: 3.3s\tremaining: 710ms\n",
      "2057:\tlearn: 0.2711147\ttotal: 3.3s\tremaining: 709ms\n",
      "2058:\tlearn: 0.2710075\ttotal: 3.3s\tremaining: 707ms\n",
      "2059:\tlearn: 0.2709366\ttotal: 3.3s\tremaining: 706ms\n",
      "2060:\tlearn: 0.2708839\ttotal: 3.3s\tremaining: 704ms\n",
      "2061:\tlearn: 0.2708138\ttotal: 3.31s\tremaining: 702ms\n",
      "2062:\tlearn: 0.2707316\ttotal: 3.31s\tremaining: 701ms\n",
      "2063:\tlearn: 0.2705972\ttotal: 3.31s\tremaining: 699ms\n",
      "2064:\tlearn: 0.2704451\ttotal: 3.31s\tremaining: 697ms\n",
      "2065:\tlearn: 0.2702963\ttotal: 3.31s\tremaining: 696ms\n",
      "2066:\tlearn: 0.2701420\ttotal: 3.31s\tremaining: 694ms\n",
      "2067:\tlearn: 0.2700461\ttotal: 3.31s\tremaining: 693ms\n",
      "2068:\tlearn: 0.2699983\ttotal: 3.32s\tremaining: 691ms\n",
      "2069:\tlearn: 0.2699343\ttotal: 3.32s\tremaining: 689ms\n",
      "2070:\tlearn: 0.2698457\ttotal: 3.32s\tremaining: 688ms\n",
      "2071:\tlearn: 0.2697142\ttotal: 3.32s\tremaining: 686ms\n",
      "2072:\tlearn: 0.2696178\ttotal: 3.32s\tremaining: 684ms\n",
      "2073:\tlearn: 0.2694876\ttotal: 3.32s\tremaining: 683ms\n",
      "2074:\tlearn: 0.2693761\ttotal: 3.33s\tremaining: 681ms\n",
      "2075:\tlearn: 0.2692684\ttotal: 3.33s\tremaining: 680ms\n",
      "2076:\tlearn: 0.2690970\ttotal: 3.33s\tremaining: 678ms\n",
      "2077:\tlearn: 0.2689323\ttotal: 3.33s\tremaining: 676ms\n",
      "2078:\tlearn: 0.2688091\ttotal: 3.33s\tremaining: 675ms\n",
      "2079:\tlearn: 0.2687512\ttotal: 3.33s\tremaining: 673ms\n",
      "2080:\tlearn: 0.2686433\ttotal: 3.33s\tremaining: 671ms\n",
      "2081:\tlearn: 0.2685644\ttotal: 3.34s\tremaining: 670ms\n",
      "2082:\tlearn: 0.2684528\ttotal: 3.34s\tremaining: 668ms\n",
      "2083:\tlearn: 0.2683548\ttotal: 3.34s\tremaining: 667ms\n",
      "2084:\tlearn: 0.2682452\ttotal: 3.34s\tremaining: 665ms\n",
      "2085:\tlearn: 0.2681271\ttotal: 3.34s\tremaining: 663ms\n",
      "2086:\tlearn: 0.2680794\ttotal: 3.34s\tremaining: 662ms\n",
      "2087:\tlearn: 0.2679362\ttotal: 3.35s\tremaining: 660ms\n",
      "2088:\tlearn: 0.2678006\ttotal: 3.35s\tremaining: 658ms\n",
      "2089:\tlearn: 0.2676751\ttotal: 3.35s\tremaining: 657ms\n",
      "2090:\tlearn: 0.2675716\ttotal: 3.35s\tremaining: 655ms\n",
      "2091:\tlearn: 0.2674328\ttotal: 3.35s\tremaining: 654ms\n",
      "2092:\tlearn: 0.2672818\ttotal: 3.35s\tremaining: 652ms\n",
      "2093:\tlearn: 0.2671484\ttotal: 3.35s\tremaining: 650ms\n",
      "2094:\tlearn: 0.2670749\ttotal: 3.35s\tremaining: 649ms\n",
      "2095:\tlearn: 0.2669662\ttotal: 3.36s\tremaining: 647ms\n",
      "2096:\tlearn: 0.2669169\ttotal: 3.36s\tremaining: 645ms\n",
      "2097:\tlearn: 0.2667809\ttotal: 3.36s\tremaining: 644ms\n",
      "2098:\tlearn: 0.2666628\ttotal: 3.36s\tremaining: 642ms\n",
      "2099:\tlearn: 0.2665665\ttotal: 3.36s\tremaining: 641ms\n",
      "2100:\tlearn: 0.2664841\ttotal: 3.36s\tremaining: 639ms\n",
      "2101:\tlearn: 0.2663910\ttotal: 3.37s\tremaining: 637ms\n",
      "2102:\tlearn: 0.2662435\ttotal: 3.37s\tremaining: 636ms\n",
      "2103:\tlearn: 0.2660758\ttotal: 3.37s\tremaining: 634ms\n",
      "2104:\tlearn: 0.2660535\ttotal: 3.37s\tremaining: 633ms\n",
      "2105:\tlearn: 0.2659826\ttotal: 3.37s\tremaining: 631ms\n",
      "2106:\tlearn: 0.2658706\ttotal: 3.37s\tremaining: 629ms\n",
      "2107:\tlearn: 0.2657263\ttotal: 3.38s\tremaining: 628ms\n",
      "2108:\tlearn: 0.2656986\ttotal: 3.38s\tremaining: 626ms\n",
      "2109:\tlearn: 0.2655428\ttotal: 3.38s\tremaining: 624ms\n",
      "2110:\tlearn: 0.2654432\ttotal: 3.38s\tremaining: 623ms\n",
      "2111:\tlearn: 0.2653443\ttotal: 3.38s\tremaining: 621ms\n",
      "2112:\tlearn: 0.2652504\ttotal: 3.38s\tremaining: 620ms\n",
      "2113:\tlearn: 0.2651754\ttotal: 3.38s\tremaining: 618ms\n",
      "2114:\tlearn: 0.2651315\ttotal: 3.39s\tremaining: 617ms\n",
      "2115:\tlearn: 0.2650238\ttotal: 3.39s\tremaining: 615ms\n",
      "2116:\tlearn: 0.2648896\ttotal: 3.39s\tremaining: 613ms\n",
      "2117:\tlearn: 0.2647972\ttotal: 3.39s\tremaining: 612ms\n",
      "2118:\tlearn: 0.2646667\ttotal: 3.39s\tremaining: 610ms\n",
      "2119:\tlearn: 0.2645704\ttotal: 3.39s\tremaining: 609ms\n",
      "2120:\tlearn: 0.2645611\ttotal: 3.4s\tremaining: 607ms\n",
      "2121:\tlearn: 0.2644247\ttotal: 3.4s\tremaining: 605ms\n",
      "2122:\tlearn: 0.2643730\ttotal: 3.4s\tremaining: 604ms\n",
      "2123:\tlearn: 0.2642680\ttotal: 3.4s\tremaining: 602ms\n",
      "2124:\tlearn: 0.2641560\ttotal: 3.4s\tremaining: 601ms\n",
      "2125:\tlearn: 0.2640896\ttotal: 3.4s\tremaining: 599ms\n",
      "2126:\tlearn: 0.2639348\ttotal: 3.4s\tremaining: 597ms\n",
      "2127:\tlearn: 0.2638660\ttotal: 3.41s\tremaining: 596ms\n",
      "2128:\tlearn: 0.2637610\ttotal: 3.41s\tremaining: 594ms\n",
      "2129:\tlearn: 0.2636263\ttotal: 3.41s\tremaining: 592ms\n",
      "2130:\tlearn: 0.2635287\ttotal: 3.41s\tremaining: 591ms\n",
      "2131:\tlearn: 0.2634806\ttotal: 3.41s\tremaining: 589ms\n",
      "2132:\tlearn: 0.2633750\ttotal: 3.42s\tremaining: 588ms\n",
      "2133:\tlearn: 0.2632635\ttotal: 3.42s\tremaining: 586ms\n",
      "2134:\tlearn: 0.2631014\ttotal: 3.42s\tremaining: 584ms\n",
      "2135:\tlearn: 0.2631010\ttotal: 3.42s\tremaining: 583ms\n",
      "2136:\tlearn: 0.2630249\ttotal: 3.42s\tremaining: 581ms\n",
      "2137:\tlearn: 0.2629457\ttotal: 3.42s\tremaining: 579ms\n",
      "2138:\tlearn: 0.2628608\ttotal: 3.42s\tremaining: 578ms\n",
      "2139:\tlearn: 0.2627507\ttotal: 3.42s\tremaining: 576ms\n",
      "2140:\tlearn: 0.2626336\ttotal: 3.43s\tremaining: 575ms\n",
      "2141:\tlearn: 0.2625476\ttotal: 3.43s\tremaining: 573ms\n",
      "2142:\tlearn: 0.2624648\ttotal: 3.43s\tremaining: 571ms\n",
      "2143:\tlearn: 0.2623767\ttotal: 3.43s\tremaining: 570ms\n",
      "2144:\tlearn: 0.2623062\ttotal: 3.43s\tremaining: 568ms\n",
      "2145:\tlearn: 0.2621621\ttotal: 3.43s\tremaining: 566ms\n",
      "2146:\tlearn: 0.2620462\ttotal: 3.44s\tremaining: 565ms\n",
      "2147:\tlearn: 0.2618828\ttotal: 3.44s\tremaining: 563ms\n",
      "2148:\tlearn: 0.2617855\ttotal: 3.44s\tremaining: 562ms\n",
      "2149:\tlearn: 0.2616318\ttotal: 3.44s\tremaining: 560ms\n",
      "2150:\tlearn: 0.2615534\ttotal: 3.44s\tremaining: 558ms\n",
      "2151:\tlearn: 0.2614472\ttotal: 3.44s\tremaining: 557ms\n",
      "2152:\tlearn: 0.2613464\ttotal: 3.44s\tremaining: 555ms\n",
      "2153:\tlearn: 0.2612631\ttotal: 3.44s\tremaining: 554ms\n",
      "2154:\tlearn: 0.2611684\ttotal: 3.45s\tremaining: 552ms\n",
      "2155:\tlearn: 0.2611055\ttotal: 3.45s\tremaining: 550ms\n",
      "2156:\tlearn: 0.2610337\ttotal: 3.45s\tremaining: 549ms\n",
      "2157:\tlearn: 0.2609745\ttotal: 3.45s\tremaining: 547ms\n",
      "2158:\tlearn: 0.2608849\ttotal: 3.45s\tremaining: 545ms\n",
      "2159:\tlearn: 0.2608177\ttotal: 3.46s\tremaining: 544ms\n",
      "2160:\tlearn: 0.2607276\ttotal: 3.46s\tremaining: 542ms\n",
      "2161:\tlearn: 0.2605949\ttotal: 3.46s\tremaining: 541ms\n",
      "2162:\tlearn: 0.2605052\ttotal: 3.46s\tremaining: 539ms\n",
      "2163:\tlearn: 0.2604160\ttotal: 3.46s\tremaining: 537ms\n",
      "2164:\tlearn: 0.2603388\ttotal: 3.46s\tremaining: 536ms\n",
      "2165:\tlearn: 0.2601703\ttotal: 3.46s\tremaining: 534ms\n",
      "2166:\tlearn: 0.2600359\ttotal: 3.46s\tremaining: 533ms\n",
      "2167:\tlearn: 0.2599449\ttotal: 3.47s\tremaining: 531ms\n",
      "2168:\tlearn: 0.2598832\ttotal: 3.47s\tremaining: 529ms\n",
      "2169:\tlearn: 0.2597873\ttotal: 3.47s\tremaining: 528ms\n",
      "2170:\tlearn: 0.2596857\ttotal: 3.47s\tremaining: 526ms\n",
      "2171:\tlearn: 0.2596123\ttotal: 3.47s\tremaining: 524ms\n",
      "2172:\tlearn: 0.2595155\ttotal: 3.47s\tremaining: 523ms\n",
      "2173:\tlearn: 0.2594947\ttotal: 3.48s\tremaining: 521ms\n",
      "2174:\tlearn: 0.2593900\ttotal: 3.48s\tremaining: 520ms\n",
      "2175:\tlearn: 0.2592776\ttotal: 3.48s\tremaining: 518ms\n",
      "2176:\tlearn: 0.2591995\ttotal: 3.48s\tremaining: 516ms\n",
      "2177:\tlearn: 0.2590754\ttotal: 3.48s\tremaining: 515ms\n",
      "2178:\tlearn: 0.2589651\ttotal: 3.48s\tremaining: 513ms\n",
      "2179:\tlearn: 0.2588357\ttotal: 3.48s\tremaining: 512ms\n",
      "2180:\tlearn: 0.2587616\ttotal: 3.49s\tremaining: 510ms\n",
      "2181:\tlearn: 0.2586574\ttotal: 3.49s\tremaining: 508ms\n",
      "2182:\tlearn: 0.2585015\ttotal: 3.49s\tremaining: 507ms\n",
      "2183:\tlearn: 0.2584346\ttotal: 3.49s\tremaining: 505ms\n",
      "2184:\tlearn: 0.2583441\ttotal: 3.49s\tremaining: 504ms\n",
      "2185:\tlearn: 0.2582431\ttotal: 3.49s\tremaining: 502ms\n",
      "2186:\tlearn: 0.2581385\ttotal: 3.5s\tremaining: 500ms\n",
      "2187:\tlearn: 0.2580460\ttotal: 3.5s\tremaining: 499ms\n",
      "2188:\tlearn: 0.2579588\ttotal: 3.5s\tremaining: 497ms\n",
      "2189:\tlearn: 0.2579171\ttotal: 3.5s\tremaining: 495ms\n",
      "2190:\tlearn: 0.2578441\ttotal: 3.5s\tremaining: 494ms\n",
      "2191:\tlearn: 0.2577674\ttotal: 3.5s\tremaining: 492ms\n",
      "2192:\tlearn: 0.2577359\ttotal: 3.5s\tremaining: 491ms\n",
      "2193:\tlearn: 0.2576289\ttotal: 3.51s\tremaining: 489ms\n",
      "2194:\tlearn: 0.2575140\ttotal: 3.51s\tremaining: 487ms\n",
      "2195:\tlearn: 0.2573921\ttotal: 3.51s\tremaining: 486ms\n",
      "2196:\tlearn: 0.2573073\ttotal: 3.51s\tremaining: 484ms\n",
      "2197:\tlearn: 0.2572478\ttotal: 3.51s\tremaining: 483ms\n",
      "2198:\tlearn: 0.2571433\ttotal: 3.51s\tremaining: 481ms\n",
      "2199:\tlearn: 0.2570738\ttotal: 3.52s\tremaining: 479ms\n",
      "2200:\tlearn: 0.2569796\ttotal: 3.52s\tremaining: 478ms\n",
      "2201:\tlearn: 0.2568739\ttotal: 3.52s\tremaining: 476ms\n",
      "2202:\tlearn: 0.2567304\ttotal: 3.52s\tremaining: 475ms\n",
      "2203:\tlearn: 0.2566723\ttotal: 3.52s\tremaining: 473ms\n",
      "2204:\tlearn: 0.2565880\ttotal: 3.52s\tremaining: 471ms\n",
      "2205:\tlearn: 0.2565289\ttotal: 3.52s\tremaining: 470ms\n",
      "2206:\tlearn: 0.2564072\ttotal: 3.53s\tremaining: 468ms\n",
      "2207:\tlearn: 0.2563191\ttotal: 3.53s\tremaining: 467ms\n",
      "2208:\tlearn: 0.2562106\ttotal: 3.53s\tremaining: 465ms\n",
      "2209:\tlearn: 0.2561213\ttotal: 3.53s\tremaining: 463ms\n",
      "2210:\tlearn: 0.2560208\ttotal: 3.53s\tremaining: 462ms\n",
      "2211:\tlearn: 0.2558732\ttotal: 3.53s\tremaining: 460ms\n",
      "2212:\tlearn: 0.2557773\ttotal: 3.54s\tremaining: 459ms\n",
      "2213:\tlearn: 0.2556416\ttotal: 3.54s\tremaining: 457ms\n",
      "2214:\tlearn: 0.2554909\ttotal: 3.54s\tremaining: 455ms\n",
      "2215:\tlearn: 0.2553373\ttotal: 3.54s\tremaining: 454ms\n",
      "2216:\tlearn: 0.2553007\ttotal: 3.54s\tremaining: 452ms\n",
      "2217:\tlearn: 0.2551952\ttotal: 3.54s\tremaining: 451ms\n",
      "2218:\tlearn: 0.2550872\ttotal: 3.54s\tremaining: 449ms\n",
      "2219:\tlearn: 0.2550159\ttotal: 3.55s\tremaining: 447ms\n",
      "2220:\tlearn: 0.2549373\ttotal: 3.55s\tremaining: 446ms\n",
      "2221:\tlearn: 0.2548125\ttotal: 3.55s\tremaining: 444ms\n",
      "2222:\tlearn: 0.2547154\ttotal: 3.55s\tremaining: 443ms\n",
      "2223:\tlearn: 0.2546579\ttotal: 3.55s\tremaining: 441ms\n",
      "2224:\tlearn: 0.2545302\ttotal: 3.55s\tremaining: 439ms\n",
      "2225:\tlearn: 0.2544304\ttotal: 3.56s\tremaining: 438ms\n",
      "2226:\tlearn: 0.2543528\ttotal: 3.56s\tremaining: 436ms\n",
      "2227:\tlearn: 0.2542366\ttotal: 3.56s\tremaining: 435ms\n",
      "2228:\tlearn: 0.2541518\ttotal: 3.56s\tremaining: 433ms\n",
      "2229:\tlearn: 0.2540649\ttotal: 3.56s\tremaining: 431ms\n",
      "2230:\tlearn: 0.2539321\ttotal: 3.56s\tremaining: 430ms\n",
      "2231:\tlearn: 0.2538827\ttotal: 3.56s\tremaining: 428ms\n",
      "2232:\tlearn: 0.2538285\ttotal: 3.57s\tremaining: 427ms\n",
      "2233:\tlearn: 0.2537196\ttotal: 3.57s\tremaining: 425ms\n",
      "2234:\tlearn: 0.2536290\ttotal: 3.57s\tremaining: 423ms\n",
      "2235:\tlearn: 0.2535503\ttotal: 3.57s\tremaining: 422ms\n",
      "2236:\tlearn: 0.2534616\ttotal: 3.57s\tremaining: 420ms\n",
      "2237:\tlearn: 0.2533596\ttotal: 3.58s\tremaining: 419ms\n",
      "2238:\tlearn: 0.2533047\ttotal: 3.58s\tremaining: 417ms\n",
      "2239:\tlearn: 0.2531815\ttotal: 3.58s\tremaining: 415ms\n",
      "2240:\tlearn: 0.2530943\ttotal: 3.58s\tremaining: 414ms\n",
      "2241:\tlearn: 0.2529958\ttotal: 3.58s\tremaining: 412ms\n",
      "2242:\tlearn: 0.2528789\ttotal: 3.58s\tremaining: 411ms\n",
      "2243:\tlearn: 0.2527784\ttotal: 3.58s\tremaining: 409ms\n",
      "2244:\tlearn: 0.2526253\ttotal: 3.59s\tremaining: 407ms\n",
      "2245:\tlearn: 0.2525528\ttotal: 3.59s\tremaining: 406ms\n",
      "2246:\tlearn: 0.2524716\ttotal: 3.59s\tremaining: 404ms\n",
      "2247:\tlearn: 0.2523617\ttotal: 3.59s\tremaining: 403ms\n",
      "2248:\tlearn: 0.2522824\ttotal: 3.59s\tremaining: 401ms\n",
      "2249:\tlearn: 0.2521849\ttotal: 3.59s\tremaining: 399ms\n",
      "2250:\tlearn: 0.2520906\ttotal: 3.6s\tremaining: 398ms\n",
      "2251:\tlearn: 0.2519894\ttotal: 3.6s\tremaining: 396ms\n",
      "2252:\tlearn: 0.2518411\ttotal: 3.6s\tremaining: 394ms\n",
      "2253:\tlearn: 0.2517020\ttotal: 3.6s\tremaining: 393ms\n",
      "2254:\tlearn: 0.2516371\ttotal: 3.6s\tremaining: 391ms\n",
      "2255:\tlearn: 0.2514958\ttotal: 3.6s\tremaining: 390ms\n",
      "2256:\tlearn: 0.2514427\ttotal: 3.6s\tremaining: 388ms\n",
      "2257:\tlearn: 0.2513042\ttotal: 3.61s\tremaining: 386ms\n",
      "2258:\tlearn: 0.2511972\ttotal: 3.61s\tremaining: 385ms\n",
      "2259:\tlearn: 0.2511686\ttotal: 3.61s\tremaining: 383ms\n",
      "2260:\tlearn: 0.2510384\ttotal: 3.61s\tremaining: 382ms\n",
      "2261:\tlearn: 0.2509634\ttotal: 3.61s\tremaining: 380ms\n",
      "2262:\tlearn: 0.2508330\ttotal: 3.61s\tremaining: 378ms\n",
      "2263:\tlearn: 0.2507311\ttotal: 3.62s\tremaining: 377ms\n",
      "2264:\tlearn: 0.2506561\ttotal: 3.62s\tremaining: 375ms\n",
      "2265:\tlearn: 0.2505768\ttotal: 3.62s\tremaining: 374ms\n",
      "2266:\tlearn: 0.2505065\ttotal: 3.62s\tremaining: 372ms\n",
      "2267:\tlearn: 0.2504103\ttotal: 3.62s\tremaining: 370ms\n",
      "2268:\tlearn: 0.2503321\ttotal: 3.62s\tremaining: 369ms\n",
      "2269:\tlearn: 0.2502258\ttotal: 3.62s\tremaining: 367ms\n",
      "2270:\tlearn: 0.2501388\ttotal: 3.63s\tremaining: 366ms\n",
      "2271:\tlearn: 0.2500364\ttotal: 3.63s\tremaining: 364ms\n",
      "2272:\tlearn: 0.2499402\ttotal: 3.63s\tremaining: 362ms\n",
      "2273:\tlearn: 0.2498320\ttotal: 3.63s\tremaining: 361ms\n",
      "2274:\tlearn: 0.2497254\ttotal: 3.63s\tremaining: 359ms\n",
      "2275:\tlearn: 0.2495819\ttotal: 3.63s\tremaining: 358ms\n",
      "2276:\tlearn: 0.2494393\ttotal: 3.63s\tremaining: 356ms\n",
      "2277:\tlearn: 0.2493942\ttotal: 3.64s\tremaining: 354ms\n",
      "2278:\tlearn: 0.2493087\ttotal: 3.64s\tremaining: 353ms\n",
      "2279:\tlearn: 0.2492481\ttotal: 3.64s\tremaining: 351ms\n",
      "2280:\tlearn: 0.2491662\ttotal: 3.64s\tremaining: 350ms\n",
      "2281:\tlearn: 0.2490703\ttotal: 3.64s\tremaining: 348ms\n",
      "2282:\tlearn: 0.2490444\ttotal: 3.64s\tremaining: 346ms\n",
      "2283:\tlearn: 0.2489438\ttotal: 3.64s\tremaining: 345ms\n",
      "2284:\tlearn: 0.2488790\ttotal: 3.65s\tremaining: 343ms\n",
      "2285:\tlearn: 0.2487996\ttotal: 3.65s\tremaining: 341ms\n",
      "2286:\tlearn: 0.2486865\ttotal: 3.65s\tremaining: 340ms\n",
      "2287:\tlearn: 0.2486136\ttotal: 3.65s\tremaining: 338ms\n",
      "2288:\tlearn: 0.2485865\ttotal: 3.65s\tremaining: 337ms\n",
      "2289:\tlearn: 0.2485273\ttotal: 3.65s\tremaining: 335ms\n",
      "2290:\tlearn: 0.2484811\ttotal: 3.65s\tremaining: 333ms\n",
      "2291:\tlearn: 0.2483906\ttotal: 3.66s\tremaining: 332ms\n",
      "2292:\tlearn: 0.2482969\ttotal: 3.66s\tremaining: 330ms\n",
      "2293:\tlearn: 0.2482063\ttotal: 3.66s\tremaining: 329ms\n",
      "2294:\tlearn: 0.2481681\ttotal: 3.66s\tremaining: 327ms\n",
      "2295:\tlearn: 0.2480912\ttotal: 3.66s\tremaining: 325ms\n",
      "2296:\tlearn: 0.2479504\ttotal: 3.66s\tremaining: 324ms\n",
      "2297:\tlearn: 0.2478293\ttotal: 3.67s\tremaining: 322ms\n",
      "2298:\tlearn: 0.2477382\ttotal: 3.67s\tremaining: 321ms\n",
      "2299:\tlearn: 0.2476049\ttotal: 3.67s\tremaining: 319ms\n",
      "2300:\tlearn: 0.2475133\ttotal: 3.67s\tremaining: 317ms\n",
      "2301:\tlearn: 0.2473932\ttotal: 3.67s\tremaining: 316ms\n",
      "2302:\tlearn: 0.2472451\ttotal: 3.67s\tremaining: 314ms\n",
      "2303:\tlearn: 0.2471060\ttotal: 3.67s\tremaining: 313ms\n",
      "2304:\tlearn: 0.2470002\ttotal: 3.68s\tremaining: 311ms\n",
      "2305:\tlearn: 0.2469324\ttotal: 3.68s\tremaining: 309ms\n",
      "2306:\tlearn: 0.2468270\ttotal: 3.68s\tremaining: 308ms\n",
      "2307:\tlearn: 0.2467388\ttotal: 3.68s\tremaining: 306ms\n",
      "2308:\tlearn: 0.2467029\ttotal: 3.68s\tremaining: 305ms\n",
      "2309:\tlearn: 0.2466188\ttotal: 3.68s\tremaining: 303ms\n",
      "2310:\tlearn: 0.2464995\ttotal: 3.69s\tremaining: 301ms\n",
      "2311:\tlearn: 0.2464376\ttotal: 3.69s\tremaining: 300ms\n",
      "2312:\tlearn: 0.2464079\ttotal: 3.69s\tremaining: 298ms\n",
      "2313:\tlearn: 0.2463156\ttotal: 3.69s\tremaining: 297ms\n",
      "2314:\tlearn: 0.2462380\ttotal: 3.69s\tremaining: 295ms\n",
      "2315:\tlearn: 0.2461491\ttotal: 3.69s\tremaining: 293ms\n",
      "2316:\tlearn: 0.2460938\ttotal: 3.69s\tremaining: 292ms\n",
      "2317:\tlearn: 0.2459536\ttotal: 3.7s\tremaining: 290ms\n",
      "2318:\tlearn: 0.2458052\ttotal: 3.7s\tremaining: 289ms\n",
      "2319:\tlearn: 0.2457884\ttotal: 3.7s\tremaining: 287ms\n",
      "2320:\tlearn: 0.2456543\ttotal: 3.7s\tremaining: 285ms\n",
      "2321:\tlearn: 0.2455731\ttotal: 3.7s\tremaining: 284ms\n",
      "2322:\tlearn: 0.2454730\ttotal: 3.7s\tremaining: 282ms\n",
      "2323:\tlearn: 0.2453789\ttotal: 3.71s\tremaining: 281ms\n",
      "2324:\tlearn: 0.2452795\ttotal: 3.71s\tremaining: 279ms\n",
      "2325:\tlearn: 0.2451995\ttotal: 3.71s\tremaining: 277ms\n",
      "2326:\tlearn: 0.2451090\ttotal: 3.71s\tremaining: 276ms\n",
      "2327:\tlearn: 0.2450621\ttotal: 3.71s\tremaining: 274ms\n",
      "2328:\tlearn: 0.2449635\ttotal: 3.71s\tremaining: 273ms\n",
      "2329:\tlearn: 0.2448727\ttotal: 3.71s\tremaining: 271ms\n",
      "2330:\tlearn: 0.2448186\ttotal: 3.71s\tremaining: 269ms\n",
      "2331:\tlearn: 0.2447773\ttotal: 3.72s\tremaining: 268ms\n",
      "2332:\tlearn: 0.2446981\ttotal: 3.72s\tremaining: 266ms\n",
      "2333:\tlearn: 0.2445867\ttotal: 3.72s\tremaining: 265ms\n",
      "2334:\tlearn: 0.2444610\ttotal: 3.72s\tremaining: 263ms\n",
      "2335:\tlearn: 0.2443143\ttotal: 3.72s\tremaining: 261ms\n",
      "2336:\tlearn: 0.2442051\ttotal: 3.72s\tremaining: 260ms\n",
      "2337:\tlearn: 0.2441104\ttotal: 3.73s\tremaining: 258ms\n",
      "2338:\tlearn: 0.2440452\ttotal: 3.73s\tremaining: 257ms\n",
      "2339:\tlearn: 0.2439149\ttotal: 3.73s\tremaining: 255ms\n",
      "2340:\tlearn: 0.2437644\ttotal: 3.73s\tremaining: 253ms\n",
      "2341:\tlearn: 0.2436384\ttotal: 3.73s\tremaining: 252ms\n",
      "2342:\tlearn: 0.2435457\ttotal: 3.73s\tremaining: 250ms\n",
      "2343:\tlearn: 0.2434949\ttotal: 3.73s\tremaining: 249ms\n",
      "2344:\tlearn: 0.2433602\ttotal: 3.74s\tremaining: 247ms\n",
      "2345:\tlearn: 0.2432429\ttotal: 3.74s\tremaining: 245ms\n",
      "2346:\tlearn: 0.2430843\ttotal: 3.74s\tremaining: 244ms\n",
      "2347:\tlearn: 0.2429578\ttotal: 3.74s\tremaining: 242ms\n",
      "2348:\tlearn: 0.2429136\ttotal: 3.74s\tremaining: 241ms\n",
      "2349:\tlearn: 0.2428636\ttotal: 3.74s\tremaining: 239ms\n",
      "2350:\tlearn: 0.2427835\ttotal: 3.75s\tremaining: 237ms\n",
      "2351:\tlearn: 0.2426951\ttotal: 3.75s\tremaining: 236ms\n",
      "2352:\tlearn: 0.2426459\ttotal: 3.75s\tremaining: 234ms\n",
      "2353:\tlearn: 0.2424969\ttotal: 3.75s\tremaining: 233ms\n",
      "2354:\tlearn: 0.2424046\ttotal: 3.75s\tremaining: 231ms\n",
      "2355:\tlearn: 0.2423336\ttotal: 3.75s\tremaining: 229ms\n",
      "2356:\tlearn: 0.2422601\ttotal: 3.75s\tremaining: 228ms\n",
      "2357:\tlearn: 0.2421839\ttotal: 3.75s\tremaining: 226ms\n",
      "2358:\tlearn: 0.2421094\ttotal: 3.76s\tremaining: 225ms\n",
      "2359:\tlearn: 0.2420406\ttotal: 3.76s\tremaining: 223ms\n",
      "2360:\tlearn: 0.2418926\ttotal: 3.76s\tremaining: 221ms\n",
      "2361:\tlearn: 0.2418458\ttotal: 3.76s\tremaining: 220ms\n",
      "2362:\tlearn: 0.2417092\ttotal: 3.76s\tremaining: 218ms\n",
      "2363:\tlearn: 0.2416228\ttotal: 3.77s\tremaining: 217ms\n",
      "2364:\tlearn: 0.2415015\ttotal: 3.77s\tremaining: 215ms\n",
      "2365:\tlearn: 0.2414680\ttotal: 3.77s\tremaining: 213ms\n",
      "2366:\tlearn: 0.2414343\ttotal: 3.77s\tremaining: 212ms\n",
      "2367:\tlearn: 0.2413811\ttotal: 3.77s\tremaining: 210ms\n",
      "2368:\tlearn: 0.2413013\ttotal: 3.77s\tremaining: 209ms\n",
      "2369:\tlearn: 0.2411658\ttotal: 3.77s\tremaining: 207ms\n",
      "2370:\tlearn: 0.2410898\ttotal: 3.78s\tremaining: 205ms\n",
      "2371:\tlearn: 0.2410047\ttotal: 3.78s\tremaining: 204ms\n",
      "2372:\tlearn: 0.2409424\ttotal: 3.78s\tremaining: 202ms\n",
      "2373:\tlearn: 0.2408256\ttotal: 3.78s\tremaining: 201ms\n",
      "2374:\tlearn: 0.2407334\ttotal: 3.78s\tremaining: 199ms\n",
      "2375:\tlearn: 0.2405913\ttotal: 3.78s\tremaining: 197ms\n",
      "2376:\tlearn: 0.2404897\ttotal: 3.79s\tremaining: 196ms\n",
      "2377:\tlearn: 0.2403521\ttotal: 3.79s\tremaining: 194ms\n",
      "2378:\tlearn: 0.2403299\ttotal: 3.79s\tremaining: 193ms\n",
      "2379:\tlearn: 0.2402432\ttotal: 3.79s\tremaining: 191ms\n",
      "2380:\tlearn: 0.2401108\ttotal: 3.79s\tremaining: 190ms\n",
      "2381:\tlearn: 0.2400283\ttotal: 3.79s\tremaining: 188ms\n",
      "2382:\tlearn: 0.2399930\ttotal: 3.79s\tremaining: 186ms\n",
      "2383:\tlearn: 0.2399126\ttotal: 3.8s\tremaining: 185ms\n",
      "2384:\tlearn: 0.2398125\ttotal: 3.8s\tremaining: 183ms\n",
      "2385:\tlearn: 0.2397514\ttotal: 3.8s\tremaining: 182ms\n",
      "2386:\tlearn: 0.2396916\ttotal: 3.8s\tremaining: 180ms\n",
      "2387:\tlearn: 0.2395574\ttotal: 3.8s\tremaining: 178ms\n",
      "2388:\tlearn: 0.2394844\ttotal: 3.8s\tremaining: 177ms\n",
      "2389:\tlearn: 0.2394067\ttotal: 3.81s\tremaining: 175ms\n",
      "2390:\tlearn: 0.2392608\ttotal: 3.81s\tremaining: 174ms\n",
      "2391:\tlearn: 0.2391758\ttotal: 3.81s\tremaining: 172ms\n",
      "2392:\tlearn: 0.2390728\ttotal: 3.81s\tremaining: 170ms\n",
      "2393:\tlearn: 0.2389995\ttotal: 3.81s\tremaining: 169ms\n",
      "2394:\tlearn: 0.2389132\ttotal: 3.81s\tremaining: 167ms\n",
      "2395:\tlearn: 0.2387833\ttotal: 3.81s\tremaining: 166ms\n",
      "2396:\tlearn: 0.2386922\ttotal: 3.82s\tremaining: 164ms\n",
      "2397:\tlearn: 0.2385481\ttotal: 3.82s\tremaining: 162ms\n",
      "2398:\tlearn: 0.2384948\ttotal: 3.82s\tremaining: 161ms\n",
      "2399:\tlearn: 0.2384511\ttotal: 3.82s\tremaining: 159ms\n",
      "2400:\tlearn: 0.2383637\ttotal: 3.82s\tremaining: 158ms\n",
      "2401:\tlearn: 0.2382635\ttotal: 3.82s\tremaining: 156ms\n",
      "2402:\tlearn: 0.2381558\ttotal: 3.83s\tremaining: 154ms\n",
      "2403:\tlearn: 0.2381026\ttotal: 3.83s\tremaining: 153ms\n",
      "2404:\tlearn: 0.2380231\ttotal: 3.83s\tremaining: 151ms\n",
      "2405:\tlearn: 0.2378804\ttotal: 3.83s\tremaining: 150ms\n",
      "2406:\tlearn: 0.2377873\ttotal: 3.83s\tremaining: 148ms\n",
      "2407:\tlearn: 0.2376657\ttotal: 3.83s\tremaining: 146ms\n",
      "2408:\tlearn: 0.2375896\ttotal: 3.83s\tremaining: 145ms\n",
      "2409:\tlearn: 0.2375103\ttotal: 3.84s\tremaining: 143ms\n",
      "2410:\tlearn: 0.2374194\ttotal: 3.84s\tremaining: 142ms\n",
      "2411:\tlearn: 0.2373751\ttotal: 3.84s\tremaining: 140ms\n",
      "2412:\tlearn: 0.2372852\ttotal: 3.84s\tremaining: 139ms\n",
      "2413:\tlearn: 0.2372064\ttotal: 3.84s\tremaining: 137ms\n",
      "2414:\tlearn: 0.2371618\ttotal: 3.84s\tremaining: 135ms\n",
      "2415:\tlearn: 0.2370980\ttotal: 3.85s\tremaining: 134ms\n",
      "2416:\tlearn: 0.2370168\ttotal: 3.85s\tremaining: 132ms\n",
      "2417:\tlearn: 0.2369551\ttotal: 3.85s\tremaining: 131ms\n",
      "2418:\tlearn: 0.2368227\ttotal: 3.85s\tremaining: 129ms\n",
      "2419:\tlearn: 0.2367440\ttotal: 3.85s\tremaining: 127ms\n",
      "2420:\tlearn: 0.2366125\ttotal: 3.85s\tremaining: 126ms\n",
      "2421:\tlearn: 0.2365306\ttotal: 3.85s\tremaining: 124ms\n",
      "2422:\tlearn: 0.2364525\ttotal: 3.86s\tremaining: 123ms\n",
      "2423:\tlearn: 0.2364068\ttotal: 3.86s\tremaining: 121ms\n",
      "2424:\tlearn: 0.2363413\ttotal: 3.86s\tremaining: 119ms\n",
      "2425:\tlearn: 0.2361731\ttotal: 3.86s\tremaining: 118ms\n",
      "2426:\tlearn: 0.2360479\ttotal: 3.86s\tremaining: 116ms\n",
      "2427:\tlearn: 0.2359201\ttotal: 3.86s\tremaining: 115ms\n",
      "2428:\tlearn: 0.2357796\ttotal: 3.87s\tremaining: 113ms\n",
      "2429:\tlearn: 0.2357155\ttotal: 3.87s\tremaining: 111ms\n",
      "2430:\tlearn: 0.2356492\ttotal: 3.87s\tremaining: 110ms\n",
      "2431:\tlearn: 0.2356097\ttotal: 3.87s\tremaining: 108ms\n",
      "2432:\tlearn: 0.2354838\ttotal: 3.87s\tremaining: 107ms\n",
      "2433:\tlearn: 0.2353864\ttotal: 3.87s\tremaining: 105ms\n",
      "2434:\tlearn: 0.2352689\ttotal: 3.87s\tremaining: 103ms\n",
      "2435:\tlearn: 0.2351554\ttotal: 3.88s\tremaining: 102ms\n",
      "2436:\tlearn: 0.2350538\ttotal: 3.88s\tremaining: 100ms\n",
      "2437:\tlearn: 0.2349914\ttotal: 3.88s\tremaining: 98.6ms\n",
      "2438:\tlearn: 0.2349155\ttotal: 3.88s\tremaining: 97.1ms\n",
      "2439:\tlearn: 0.2348255\ttotal: 3.88s\tremaining: 95.5ms\n",
      "2440:\tlearn: 0.2347878\ttotal: 3.88s\tremaining: 93.9ms\n",
      "2441:\tlearn: 0.2346903\ttotal: 3.88s\tremaining: 92.3ms\n",
      "2442:\tlearn: 0.2346622\ttotal: 3.89s\tremaining: 90.7ms\n",
      "2443:\tlearn: 0.2345693\ttotal: 3.89s\tremaining: 89.1ms\n",
      "2444:\tlearn: 0.2345267\ttotal: 3.89s\tremaining: 87.5ms\n",
      "2445:\tlearn: 0.2344451\ttotal: 3.89s\tremaining: 85.9ms\n",
      "2446:\tlearn: 0.2343484\ttotal: 3.89s\tremaining: 84.3ms\n",
      "2447:\tlearn: 0.2343026\ttotal: 3.89s\tremaining: 82.7ms\n",
      "2448:\tlearn: 0.2342033\ttotal: 3.9s\tremaining: 81.1ms\n",
      "2449:\tlearn: 0.2341025\ttotal: 3.9s\tremaining: 79.5ms\n",
      "2450:\tlearn: 0.2340691\ttotal: 3.9s\tremaining: 77.9ms\n",
      "2451:\tlearn: 0.2338590\ttotal: 3.9s\tremaining: 76.4ms\n",
      "2452:\tlearn: 0.2337423\ttotal: 3.9s\tremaining: 74.8ms\n",
      "2453:\tlearn: 0.2336491\ttotal: 3.9s\tremaining: 73.2ms\n",
      "2454:\tlearn: 0.2336107\ttotal: 3.9s\tremaining: 71.6ms\n",
      "2455:\tlearn: 0.2335470\ttotal: 3.91s\tremaining: 70ms\n",
      "2456:\tlearn: 0.2334471\ttotal: 3.91s\tremaining: 68.4ms\n",
      "2457:\tlearn: 0.2333716\ttotal: 3.91s\tremaining: 66.8ms\n",
      "2458:\tlearn: 0.2332711\ttotal: 3.91s\tremaining: 65.2ms\n",
      "2459:\tlearn: 0.2331590\ttotal: 3.91s\tremaining: 63.6ms\n",
      "2460:\tlearn: 0.2330982\ttotal: 3.91s\tremaining: 62ms\n",
      "2461:\tlearn: 0.2330786\ttotal: 3.92s\tremaining: 60.4ms\n",
      "2462:\tlearn: 0.2329914\ttotal: 3.92s\tremaining: 58.8ms\n",
      "2463:\tlearn: 0.2329200\ttotal: 3.92s\tremaining: 57.3ms\n",
      "2464:\tlearn: 0.2328312\ttotal: 3.92s\tremaining: 55.7ms\n",
      "2465:\tlearn: 0.2327464\ttotal: 3.92s\tremaining: 54.1ms\n",
      "2466:\tlearn: 0.2327143\ttotal: 3.92s\tremaining: 52.5ms\n",
      "2467:\tlearn: 0.2326539\ttotal: 3.92s\tremaining: 50.9ms\n",
      "2468:\tlearn: 0.2326043\ttotal: 3.93s\tremaining: 49.3ms\n",
      "2469:\tlearn: 0.2325719\ttotal: 3.93s\tremaining: 47.7ms\n",
      "2470:\tlearn: 0.2324331\ttotal: 3.93s\tremaining: 46.1ms\n",
      "2471:\tlearn: 0.2323160\ttotal: 3.93s\tremaining: 44.5ms\n",
      "2472:\tlearn: 0.2322337\ttotal: 3.93s\tremaining: 42.9ms\n",
      "2473:\tlearn: 0.2321431\ttotal: 3.93s\tremaining: 41.3ms\n",
      "2474:\tlearn: 0.2320475\ttotal: 3.94s\tremaining: 39.8ms\n",
      "2475:\tlearn: 0.2319626\ttotal: 3.94s\tremaining: 38.2ms\n",
      "2476:\tlearn: 0.2318858\ttotal: 3.94s\tremaining: 36.6ms\n",
      "2477:\tlearn: 0.2318441\ttotal: 3.94s\tremaining: 35ms\n",
      "2478:\tlearn: 0.2317494\ttotal: 3.94s\tremaining: 33.4ms\n",
      "2479:\tlearn: 0.2316663\ttotal: 3.94s\tremaining: 31.8ms\n",
      "2480:\tlearn: 0.2315703\ttotal: 3.94s\tremaining: 30.2ms\n",
      "2481:\tlearn: 0.2315261\ttotal: 3.95s\tremaining: 28.6ms\n",
      "2482:\tlearn: 0.2314505\ttotal: 3.95s\tremaining: 27ms\n",
      "2483:\tlearn: 0.2313810\ttotal: 3.95s\tremaining: 25.4ms\n",
      "2484:\tlearn: 0.2312354\ttotal: 3.95s\tremaining: 23.9ms\n",
      "2485:\tlearn: 0.2310908\ttotal: 3.95s\tremaining: 22.3ms\n",
      "2486:\tlearn: 0.2310459\ttotal: 3.95s\tremaining: 20.7ms\n",
      "2487:\tlearn: 0.2309660\ttotal: 3.96s\tremaining: 19.1ms\n",
      "2488:\tlearn: 0.2309370\ttotal: 3.96s\tremaining: 17.5ms\n",
      "2489:\tlearn: 0.2309097\ttotal: 3.96s\tremaining: 15.9ms\n",
      "2490:\tlearn: 0.2307951\ttotal: 3.96s\tremaining: 14.3ms\n",
      "2491:\tlearn: 0.2307454\ttotal: 3.96s\tremaining: 12.7ms\n",
      "2492:\tlearn: 0.2307151\ttotal: 3.96s\tremaining: 11.1ms\n",
      "2493:\tlearn: 0.2306092\ttotal: 3.96s\tremaining: 9.54ms\n",
      "2494:\tlearn: 0.2305078\ttotal: 3.97s\tremaining: 7.95ms\n",
      "2495:\tlearn: 0.2304392\ttotal: 3.97s\tremaining: 6.36ms\n",
      "2496:\tlearn: 0.2303278\ttotal: 3.97s\tremaining: 4.77ms\n",
      "2497:\tlearn: 0.2302200\ttotal: 3.97s\tremaining: 3.18ms\n",
      "2498:\tlearn: 0.2301285\ttotal: 3.97s\tremaining: 1.59ms\n",
      "2499:\tlearn: 0.2300058\ttotal: 3.97s\tremaining: 0us\n"
     ]
    },
    {
     "data": {
      "text/plain": [
       "<catboost.core.CatBoostClassifier at 0x7f9eda3cc290>"
      ]
     },
     "execution_count": 104,
     "metadata": {},
     "output_type": "execute_result"
    }
   ],
   "source": [
    "cb = CatBoostClassifier(n_estimators=2500, random_state=0)\n",
    "cb.fit(X_train, y_train)"
   ]
  },
  {
   "cell_type": "code",
   "execution_count": 105,
   "metadata": {},
   "outputs": [],
   "source": [
    "model={'Model': 'CatBoost'}\n",
    "model['Accuracy'] = accuracy_score(y_test, cb.predict(X_test))\n",
    "model['Precision'] = precision_score(y_test, cb.predict(X_test))\n",
    "model['F1-Score'] = f1_score(y_test, cb.predict(X_test))\n",
    "Performances.append(model)"
   ]
  },
  {
   "cell_type": "code",
   "execution_count": 106,
   "metadata": {},
   "outputs": [
    {
     "data": {
      "text/plain": [
       "array([[160,  21],\n",
       "       [ 64,  40]])"
      ]
     },
     "execution_count": 106,
     "metadata": {},
     "output_type": "execute_result"
    }
   ],
   "source": [
    "confusion_matrix(y_test, cb.predict(X_test))"
   ]
  },
  {
   "cell_type": "code",
   "execution_count": 107,
   "metadata": {},
   "outputs": [
    {
     "name": "stdout",
     "output_type": "stream",
     "text": [
      "              precision    recall  f1-score   support\n",
      "\n",
      "           0       0.71      0.88      0.79       181\n",
      "           1       0.66      0.38      0.48       104\n",
      "\n",
      "    accuracy                           0.70       285\n",
      "   macro avg       0.69      0.63      0.64       285\n",
      "weighted avg       0.69      0.70      0.68       285\n",
      "\n"
     ]
    }
   ],
   "source": [
    "print(classification_report(y_test, cb.predict(X_test)))"
   ]
  },
  {
   "cell_type": "code",
   "execution_count": 108,
   "metadata": {},
   "outputs": [
    {
     "data": {
      "image/png": "[encoded data removed]",
      "text/plain": [
       "<Figure size 1080x1080 with 1 Axes>"
      ]
     },
     "metadata": {
      "needs_background": "light"
     },
     "output_type": "display_data"
    }
   ],
   "source": [
    "cb_features = pd.DataFrame()\n",
    "cb_features['Feature'] = X_train.columns.tolist()\n",
    "cb_features['Importance'] = cb.feature_importances_\n",
    "sns.catplot(y='Feature', x='Importance', data=cb_features, kind='bar', height=15, color=base_color)\n",
    "plt.show()"
   ]
  },
  {
   "cell_type": "markdown",
   "execution_count": null,
   "metadata": {},
   "source": [
    "### Models Comparaison:"
   ]
  },
  {
   "cell_type": "code",
   "execution_count": 109,
   "metadata": {},
   "outputs": [
    {
     "data": {
      "text/html": [
       "<div>\n",
       "<style scoped>\n",
       "    .dataframe tbody tr th:only-of-type {\n",
       "        vertical-align: middle;\n",
       "    }\n",
       "\n",
       "    .dataframe tbody tr th {\n",
       "        vertical-align: top;\n",
       "    }\n",
       "\n",
       "    .dataframe thead th {\n",
       "        text-align: right;\n",
       "    }\n",
       "</style>\n",
       "<table border=\"1\" class=\"dataframe\">\n",
       "  <thead>\n",
       "    <tr style=\"text-align: right;\">\n",
       "      <th></th>\n",
       "      <th>Model</th>\n",
       "      <th>Accuracy</th>\n",
       "      <th>Precision</th>\n",
       "      <th>F1-Score</th>\n",
       "    </tr>\n",
       "  </thead>\n",
       "  <tbody>\n",
       "    <tr>\n",
       "      <th>0</th>\n",
       "      <td>DecisionTree</td>\n",
       "      <td>0.649123</td>\n",
       "      <td>0.520833</td>\n",
       "      <td>0.500000</td>\n",
       "    </tr>\n",
       "    <tr>\n",
       "      <th>1</th>\n",
       "      <td>RandomForest</td>\n",
       "      <td>0.670175</td>\n",
       "      <td>0.589286</td>\n",
       "      <td>0.412500</td>\n",
       "    </tr>\n",
       "    <tr>\n",
       "      <th>2</th>\n",
       "      <td>XGBoost</td>\n",
       "      <td>0.649123</td>\n",
       "      <td>0.527778</td>\n",
       "      <td>0.431818</td>\n",
       "    </tr>\n",
       "    <tr>\n",
       "      <th>3</th>\n",
       "      <td>CatBoost</td>\n",
       "      <td>0.701754</td>\n",
       "      <td>0.655738</td>\n",
       "      <td>0.484848</td>\n",
       "    </tr>\n",
       "  </tbody>\n",
       "</table>\n",
       "</div>"
      ],
      "text/plain": [
       "          Model  Accuracy  Precision  F1-Score\n",
       "0  DecisionTree  0.649123   0.520833  0.500000\n",
       "1  RandomForest  0.670175   0.589286  0.412500\n",
       "2       XGBoost  0.649123   0.527778  0.431818\n",
       "3      CatBoost  0.701754   0.655738  0.484848"
      ]
     },
     "execution_count": 109,
     "metadata": {},
     "output_type": "execute_result"
    }
   ],
   "source": [
    "pd.DataFrame(Performances)"
   ]
  },
  {
   "cell_type": "markdown",
   "execution_count": null,
   "metadata": {},
   "source": [
    "From the obtained table we can see that the CatBoost is the best method in terms of accuracy and precision. However, in terms of F1-Score of the class Visit=1 it has the second best value after the Decision Tree. If we compare the macro average of the F1-Score on the two classes we can see that the CatBoost (0.64) is better that the Decision Tree (0.61). This information is obtained from the classification reports. \n",
    "\n",
    "Lets see if the same results are obtained from the ROC Curves."
   ]
  },
  {
   "cell_type": "markdown",
   "execution_count": null,
   "metadata": {
    "_cell_guid": "79c7e3d0-c299-4dcb-8224-4455121ee9b0",
    "_uuid": "d629ff2d2480ee46fbb7e2d37f6b5fab8052498a",
    "collapsed": true
   },
   "source": [
    "### ROC Curves: "
   ]
  },
  {
   "cell_type": "code",
   "execution_count": 110,
   "metadata": {},
   "outputs": [],
   "source": [
    "fpr_RFC, tpr_RFC, _ = roc_curve(y_test, rfc.predict_proba(X_test)[:,1])\n",
    "roc_auc_RFC = auc(fpr_RFC, tpr_RFC)\n",
    "fpr_dtc, tpr_dtc, _ = roc_curve(y_test, dtc.predict_proba(X_test)[:,1])\n",
    "roc_auc_dtc = auc(fpr_dtc, tpr_dtc)\n",
    "fpr_XGB, tpr_XGB, _ = roc_curve(y_test, xgb.predict_proba(X_test)[:,1])\n",
    "roc_auc_XGB = auc(fpr_XGB, tpr_XGB)\n",
    "fpr_CAT, tpr_CAT, _ = roc_curve(y_test, cb.predict_proba(X_test)[:,1])\n",
    "roc_auc_CAT = auc(fpr_CAT, tpr_CAT)"
   ]
  },
  {
   "cell_type": "code",
   "execution_count": 111,
   "metadata": {},
   "outputs": [
    {
     "data": {
      "image/png": "[encoded data removed]",
      "text/plain": [
       "<Figure size 576x576 with 1 Axes>"
      ]
     },
     "metadata": {
      "needs_background": "light"
     },
     "output_type": "display_data"
    }
   ],
   "source": [
    "plt.figure(figsize=(8,8))\n",
    "lw = 2\n",
    "plt.plot(fpr_dtc, tpr_dtc, \n",
    "         lw=lw, label='ROC curve Decision Tree (area = %0.2f)' % roc_auc_dtc)\n",
    "plt.plot(fpr_RFC, tpr_RFC, \n",
    "         lw=lw, label='ROC curve Random Forest (area = %0.2f)' % roc_auc_RFC)\n",
    "plt.plot(fpr_XGB, tpr_XGB, \n",
    "         lw=lw, label='ROC curve XGBoost (area = %0.2f)' % roc_auc_XGB)\n",
    "plt.plot(fpr_CAT, tpr_CAT, \n",
    "         lw=lw, label='ROC curve CATBoost (area = %0.2f)' % roc_auc_CAT)\n",
    "plt.plot([0, 1], [0, 1], color='navy', lw=lw, linestyle='--')\n",
    "plt.xlim([0.0, 1.0])\n",
    "plt.ylim([0.0, 1.05])\n",
    "plt.xlabel('False Positive Rate')\n",
    "plt.ylabel('True Positive Rate')\n",
    "plt.title('ROC Using All Features')\n",
    "plt.legend(loc=\"lower right\")\n",
    "plt.show()"
   ]
  },
  {
   "cell_type": "markdown",
   "execution_count": null,
   "metadata": {},
   "source": [
    "Using the ROC curve to select the best model is quite easy. We search for the model that goes rapidly to the top and the one with the higher curve and the highest area under curve. According to these criteria, we can conclude that the CatBoost model is the best."
   ]
  },
  {
   "cell_type": "markdown",
   "execution_count": null,
   "metadata": {},
   "source": [
    "From the table of models' performances and the ROC curves, we can conclude that the **CatBoost** model is the most suitable model for this application."
   ]
  }
 ],
 "metadata": {
  "kernelspec": {
   "display_name": "Python 3",
   "language": "python",
   "name": "python3"
  },
  "language_info": {
   "codemirror_mode": {
    "name": "ipython",
    "version": 3
   },
   "file_extension": ".py",
   "mimetype": "text/x-python",
   "name": "python",
   "nbconvert_exporter": "python",
   "pygments_lexer": "ipython3",
   "version": "3.7.6"
  }
 },
 "nbformat": 4,
 "nbformat_minor": 4
}
