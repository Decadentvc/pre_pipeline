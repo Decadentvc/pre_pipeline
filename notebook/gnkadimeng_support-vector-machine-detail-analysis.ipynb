{
 "cells": [
  {
   "cell_type": "markdown",
   "metadata": {
    "_cell_guid": "ce53be83-4475-8d60-f4a5-b7baa884bd11"
   },
   "source": [
    "Here I m going to run **Support Vector machine** with different **kernels(linear,gaussian,polynomial)** and also tune the various parameters such as **C** ,**gamma** and **degree** to find out the best performing model ."
   ]
  },
  {
   "cell_type": "code",
   "execution_count": 1,
   "metadata": {
    "_cell_guid": "a627464e-bd59-249c-ff6e-1483fcfcf5c8"
   },
   "outputs": [
    {
     "name": "stdout",
     "output_type": "stream",
     "text": [
      "voice.csv\n",
      "\n"
     ]
    }
   ],
   "source": [
    "# This Python 3 environment comes with many helpful analytics libraries installed\n",
    "# It is defined by the kaggle/python docker image: https://github.com/kaggle/docker-python\n",
    "# For example, here's several helpful packages to load in \n",
    "\n",
    "\n",
    "# Input data files are available in the \"../input/\" directory.\n",
    "# For example, running this (by clicking run or pressing Shift+Enter) will list the files in the input directory\n",
    "\n",
    "from subprocess import check_output\n",
    "print(check_output([\"ls\", \"../input\"]).decode(\"utf8\"))\n",
    "\n",
    "# Any results you write to the current directory are saved as output."
   ]
  },
  {
   "cell_type": "markdown",
   "metadata": {
    "_cell_guid": "cd01fe18-db57-3da4-2916-f99e096988ac"
   },
   "source": [
    "# Importing all the necessary libraries"
   ]
  },
  {
   "cell_type": "code",
   "execution_count": 2,
   "metadata": {
    "_cell_guid": "0247ac12-6357-659f-0182-36d245e9b551"
   },
   "outputs": [],
   "source": [
    "import pandas as pd\n",
    "import numpy as np\n",
    "import seaborn as sns\n",
    "\n",
    "import matplotlib.pyplot as plt\n",
    "\n",
    "%matplotlib inline"
   ]
  },
  {
   "cell_type": "markdown",
   "metadata": {
    "_cell_guid": "0200d0e4-320f-2822-88a9-f6c0225658e6"
   },
   "source": [
    "# Reading the comma separated values file into the dataframe"
   ]
  },
  {
   "cell_type": "code",
   "execution_count": 3,
   "metadata": {
    "_cell_guid": "2e847afc-36c5-b7bb-78c6-4288f847868e"
   },
   "outputs": [
    {
     "data": {
      "text/html": [
       "<div>\n",
       "<table border=\"1\" class=\"dataframe\">\n",
       "  <thead>\n",
       "    <tr style=\"text-align: right;\">\n",
       "      <th></th>\n",
       "      <th>meanfreq</th>\n",
       "      <th>sd</th>\n",
       "      <th>median</th>\n",
       "      <th>Q25</th>\n",
       "      <th>Q75</th>\n",
       "      <th>IQR</th>\n",
       "      <th>skew</th>\n",
       "      <th>kurt</th>\n",
       "      <th>sp.ent</th>\n",
       "      <th>sfm</th>\n",
       "      <th>...</th>\n",
       "      <th>centroid</th>\n",
       "      <th>meanfun</th>\n",
       "      <th>minfun</th>\n",
       "      <th>maxfun</th>\n",
       "      <th>meandom</th>\n",
       "      <th>mindom</th>\n",
       "      <th>maxdom</th>\n",
       "      <th>dfrange</th>\n",
       "      <th>modindx</th>\n",
       "      <th>label</th>\n",
       "    </tr>\n",
       "  </thead>\n",
       "  <tbody>\n",
       "    <tr>\n",
       "      <th>0</th>\n",
       "      <td>0.059781</td>\n",
       "      <td>0.064241</td>\n",
       "      <td>0.032027</td>\n",
       "      <td>0.015071</td>\n",
       "      <td>0.090193</td>\n",
       "      <td>0.075122</td>\n",
       "      <td>12.863462</td>\n",
       "      <td>274.402906</td>\n",
       "      <td>0.893369</td>\n",
       "      <td>0.491918</td>\n",
       "      <td>...</td>\n",
       "      <td>0.059781</td>\n",
       "      <td>0.084279</td>\n",
       "      <td>0.015702</td>\n",
       "      <td>0.275862</td>\n",
       "      <td>0.007812</td>\n",
       "      <td>0.007812</td>\n",
       "      <td>0.007812</td>\n",
       "      <td>0.000000</td>\n",
       "      <td>0.000000</td>\n",
       "      <td>male</td>\n",
       "    </tr>\n",
       "    <tr>\n",
       "      <th>1</th>\n",
       "      <td>0.066009</td>\n",
       "      <td>0.067310</td>\n",
       "      <td>0.040229</td>\n",
       "      <td>0.019414</td>\n",
       "      <td>0.092666</td>\n",
       "      <td>0.073252</td>\n",
       "      <td>22.423285</td>\n",
       "      <td>634.613855</td>\n",
       "      <td>0.892193</td>\n",
       "      <td>0.513724</td>\n",
       "      <td>...</td>\n",
       "      <td>0.066009</td>\n",
       "      <td>0.107937</td>\n",
       "      <td>0.015826</td>\n",
       "      <td>0.250000</td>\n",
       "      <td>0.009014</td>\n",
       "      <td>0.007812</td>\n",
       "      <td>0.054688</td>\n",
       "      <td>0.046875</td>\n",
       "      <td>0.052632</td>\n",
       "      <td>male</td>\n",
       "    </tr>\n",
       "    <tr>\n",
       "      <th>2</th>\n",
       "      <td>0.077316</td>\n",
       "      <td>0.083829</td>\n",
       "      <td>0.036718</td>\n",
       "      <td>0.008701</td>\n",
       "      <td>0.131908</td>\n",
       "      <td>0.123207</td>\n",
       "      <td>30.757155</td>\n",
       "      <td>1024.927705</td>\n",
       "      <td>0.846389</td>\n",
       "      <td>0.478905</td>\n",
       "      <td>...</td>\n",
       "      <td>0.077316</td>\n",
       "      <td>0.098706</td>\n",
       "      <td>0.015656</td>\n",
       "      <td>0.271186</td>\n",
       "      <td>0.007990</td>\n",
       "      <td>0.007812</td>\n",
       "      <td>0.015625</td>\n",
       "      <td>0.007812</td>\n",
       "      <td>0.046512</td>\n",
       "      <td>male</td>\n",
       "    </tr>\n",
       "    <tr>\n",
       "      <th>3</th>\n",
       "      <td>0.151228</td>\n",
       "      <td>0.072111</td>\n",
       "      <td>0.158011</td>\n",
       "      <td>0.096582</td>\n",
       "      <td>0.207955</td>\n",
       "      <td>0.111374</td>\n",
       "      <td>1.232831</td>\n",
       "      <td>4.177296</td>\n",
       "      <td>0.963322</td>\n",
       "      <td>0.727232</td>\n",
       "      <td>...</td>\n",
       "      <td>0.151228</td>\n",
       "      <td>0.088965</td>\n",
       "      <td>0.017798</td>\n",
       "      <td>0.250000</td>\n",
       "      <td>0.201497</td>\n",
       "      <td>0.007812</td>\n",
       "      <td>0.562500</td>\n",
       "      <td>0.554688</td>\n",
       "      <td>0.247119</td>\n",
       "      <td>male</td>\n",
       "    </tr>\n",
       "    <tr>\n",
       "      <th>4</th>\n",
       "      <td>0.135120</td>\n",
       "      <td>0.079146</td>\n",
       "      <td>0.124656</td>\n",
       "      <td>0.078720</td>\n",
       "      <td>0.206045</td>\n",
       "      <td>0.127325</td>\n",
       "      <td>1.101174</td>\n",
       "      <td>4.333713</td>\n",
       "      <td>0.971955</td>\n",
       "      <td>0.783568</td>\n",
       "      <td>...</td>\n",
       "      <td>0.135120</td>\n",
       "      <td>0.106398</td>\n",
       "      <td>0.016931</td>\n",
       "      <td>0.266667</td>\n",
       "      <td>0.712812</td>\n",
       "      <td>0.007812</td>\n",
       "      <td>5.484375</td>\n",
       "      <td>5.476562</td>\n",
       "      <td>0.208274</td>\n",
       "      <td>male</td>\n",
       "    </tr>\n",
       "  </tbody>\n",
       "</table>\n",
       "<p>5 rows × 21 columns</p>\n",
       "</div>"
      ],
      "text/plain": [
       "   meanfreq        sd    median       Q25       Q75       IQR       skew  \\\n",
       "0  0.059781  0.064241  0.032027  0.015071  0.090193  0.075122  12.863462   \n",
       "1  0.066009  0.067310  0.040229  0.019414  0.092666  0.073252  22.423285   \n",
       "2  0.077316  0.083829  0.036718  0.008701  0.131908  0.123207  30.757155   \n",
       "3  0.151228  0.072111  0.158011  0.096582  0.207955  0.111374   1.232831   \n",
       "4  0.135120  0.079146  0.124656  0.078720  0.206045  0.127325   1.101174   \n",
       "\n",
       "          kurt    sp.ent       sfm  ...    centroid   meanfun    minfun  \\\n",
       "0   274.402906  0.893369  0.491918  ...    0.059781  0.084279  0.015702   \n",
       "1   634.613855  0.892193  0.513724  ...    0.066009  0.107937  0.015826   \n",
       "2  1024.927705  0.846389  0.478905  ...    0.077316  0.098706  0.015656   \n",
       "3     4.177296  0.963322  0.727232  ...    0.151228  0.088965  0.017798   \n",
       "4     4.333713  0.971955  0.783568  ...    0.135120  0.106398  0.016931   \n",
       "\n",
       "     maxfun   meandom    mindom    maxdom   dfrange   modindx  label  \n",
       "0  0.275862  0.007812  0.007812  0.007812  0.000000  0.000000   male  \n",
       "1  0.250000  0.009014  0.007812  0.054688  0.046875  0.052632   male  \n",
       "2  0.271186  0.007990  0.007812  0.015625  0.007812  0.046512   male  \n",
       "3  0.250000  0.201497  0.007812  0.562500  0.554688  0.247119   male  \n",
       "4  0.266667  0.712812  0.007812  5.484375  5.476562  0.208274   male  \n",
       "\n",
       "[5 rows x 21 columns]"
      ]
     },
     "execution_count": 3,
     "metadata": {},
     "output_type": "execute_result"
    }
   ],
   "source": [
    "df = pd.read_csv('../input/voice.csv')\n",
    "df.head()"
   ]
  },
  {
   "cell_type": "markdown",
   "metadata": {
    "_cell_guid": "2d654f09-1018-5498-e4ea-428752a19d4b"
   },
   "source": [
    "# Checking the correlation between each feature"
   ]
  },
  {
   "cell_type": "code",
   "execution_count": 4,
   "metadata": {
    "_cell_guid": "8c9f6f78-3e24-bb65-8270-f9a795441d5e"
   },
   "outputs": [
    {
     "data": {
      "text/html": [
       "<div>\n",
       "<table border=\"1\" class=\"dataframe\">\n",
       "  <thead>\n",
       "    <tr style=\"text-align: right;\">\n",
       "      <th></th>\n",
       "      <th>meanfreq</th>\n",
       "      <th>sd</th>\n",
       "      <th>median</th>\n",
       "      <th>Q25</th>\n",
       "      <th>Q75</th>\n",
       "      <th>IQR</th>\n",
       "      <th>skew</th>\n",
       "      <th>kurt</th>\n",
       "      <th>sp.ent</th>\n",
       "      <th>sfm</th>\n",
       "      <th>mode</th>\n",
       "      <th>centroid</th>\n",
       "      <th>meanfun</th>\n",
       "      <th>minfun</th>\n",
       "      <th>maxfun</th>\n",
       "      <th>meandom</th>\n",
       "      <th>mindom</th>\n",
       "      <th>maxdom</th>\n",
       "      <th>dfrange</th>\n",
       "      <th>modindx</th>\n",
       "    </tr>\n",
       "  </thead>\n",
       "  <tbody>\n",
       "    <tr>\n",
       "      <th>meanfreq</th>\n",
       "      <td>1.000000</td>\n",
       "      <td>-0.739039</td>\n",
       "      <td>0.925445</td>\n",
       "      <td>0.911416</td>\n",
       "      <td>0.740997</td>\n",
       "      <td>-0.627605</td>\n",
       "      <td>-0.322327</td>\n",
       "      <td>-0.316036</td>\n",
       "      <td>-0.601203</td>\n",
       "      <td>-0.784332</td>\n",
       "      <td>0.687715</td>\n",
       "      <td>1.000000</td>\n",
       "      <td>0.460844</td>\n",
       "      <td>0.383937</td>\n",
       "      <td>0.274004</td>\n",
       "      <td>0.536666</td>\n",
       "      <td>0.229261</td>\n",
       "      <td>0.519528</td>\n",
       "      <td>0.515570</td>\n",
       "      <td>-0.216979</td>\n",
       "    </tr>\n",
       "    <tr>\n",
       "      <th>sd</th>\n",
       "      <td>-0.739039</td>\n",
       "      <td>1.000000</td>\n",
       "      <td>-0.562603</td>\n",
       "      <td>-0.846931</td>\n",
       "      <td>-0.161076</td>\n",
       "      <td>0.874660</td>\n",
       "      <td>0.314597</td>\n",
       "      <td>0.346241</td>\n",
       "      <td>0.716620</td>\n",
       "      <td>0.838086</td>\n",
       "      <td>-0.529150</td>\n",
       "      <td>-0.739039</td>\n",
       "      <td>-0.466281</td>\n",
       "      <td>-0.345609</td>\n",
       "      <td>-0.129662</td>\n",
       "      <td>-0.482726</td>\n",
       "      <td>-0.357667</td>\n",
       "      <td>-0.482278</td>\n",
       "      <td>-0.475999</td>\n",
       "      <td>0.122660</td>\n",
       "    </tr>\n",
       "    <tr>\n",
       "      <th>median</th>\n",
       "      <td>0.925445</td>\n",
       "      <td>-0.562603</td>\n",
       "      <td>1.000000</td>\n",
       "      <td>0.774922</td>\n",
       "      <td>0.731849</td>\n",
       "      <td>-0.477352</td>\n",
       "      <td>-0.257407</td>\n",
       "      <td>-0.243382</td>\n",
       "      <td>-0.502005</td>\n",
       "      <td>-0.661690</td>\n",
       "      <td>0.677433</td>\n",
       "      <td>0.925445</td>\n",
       "      <td>0.414909</td>\n",
       "      <td>0.337602</td>\n",
       "      <td>0.251328</td>\n",
       "      <td>0.455943</td>\n",
       "      <td>0.191169</td>\n",
       "      <td>0.438919</td>\n",
       "      <td>0.435621</td>\n",
       "      <td>-0.213298</td>\n",
       "    </tr>\n",
       "    <tr>\n",
       "      <th>Q25</th>\n",
       "      <td>0.911416</td>\n",
       "      <td>-0.846931</td>\n",
       "      <td>0.774922</td>\n",
       "      <td>1.000000</td>\n",
       "      <td>0.477140</td>\n",
       "      <td>-0.874189</td>\n",
       "      <td>-0.319475</td>\n",
       "      <td>-0.350182</td>\n",
       "      <td>-0.648126</td>\n",
       "      <td>-0.766875</td>\n",
       "      <td>0.591277</td>\n",
       "      <td>0.911416</td>\n",
       "      <td>0.545035</td>\n",
       "      <td>0.320994</td>\n",
       "      <td>0.199841</td>\n",
       "      <td>0.467403</td>\n",
       "      <td>0.302255</td>\n",
       "      <td>0.459683</td>\n",
       "      <td>0.454394</td>\n",
       "      <td>-0.141377</td>\n",
       "    </tr>\n",
       "    <tr>\n",
       "      <th>Q75</th>\n",
       "      <td>0.740997</td>\n",
       "      <td>-0.161076</td>\n",
       "      <td>0.731849</td>\n",
       "      <td>0.477140</td>\n",
       "      <td>1.000000</td>\n",
       "      <td>0.009636</td>\n",
       "      <td>-0.206339</td>\n",
       "      <td>-0.148881</td>\n",
       "      <td>-0.174905</td>\n",
       "      <td>-0.378198</td>\n",
       "      <td>0.486857</td>\n",
       "      <td>0.740997</td>\n",
       "      <td>0.155091</td>\n",
       "      <td>0.258002</td>\n",
       "      <td>0.285584</td>\n",
       "      <td>0.359181</td>\n",
       "      <td>-0.023750</td>\n",
       "      <td>0.335114</td>\n",
       "      <td>0.335648</td>\n",
       "      <td>-0.216475</td>\n",
       "    </tr>\n",
       "    <tr>\n",
       "      <th>IQR</th>\n",
       "      <td>-0.627605</td>\n",
       "      <td>0.874660</td>\n",
       "      <td>-0.477352</td>\n",
       "      <td>-0.874189</td>\n",
       "      <td>0.009636</td>\n",
       "      <td>1.000000</td>\n",
       "      <td>0.249497</td>\n",
       "      <td>0.316185</td>\n",
       "      <td>0.640813</td>\n",
       "      <td>0.663601</td>\n",
       "      <td>-0.403764</td>\n",
       "      <td>-0.627605</td>\n",
       "      <td>-0.534462</td>\n",
       "      <td>-0.222680</td>\n",
       "      <td>-0.069588</td>\n",
       "      <td>-0.333362</td>\n",
       "      <td>-0.357037</td>\n",
       "      <td>-0.337877</td>\n",
       "      <td>-0.331563</td>\n",
       "      <td>0.041252</td>\n",
       "    </tr>\n",
       "    <tr>\n",
       "      <th>skew</th>\n",
       "      <td>-0.322327</td>\n",
       "      <td>0.314597</td>\n",
       "      <td>-0.257407</td>\n",
       "      <td>-0.319475</td>\n",
       "      <td>-0.206339</td>\n",
       "      <td>0.249497</td>\n",
       "      <td>1.000000</td>\n",
       "      <td>0.977020</td>\n",
       "      <td>-0.195459</td>\n",
       "      <td>0.079694</td>\n",
       "      <td>-0.434859</td>\n",
       "      <td>-0.322327</td>\n",
       "      <td>-0.167668</td>\n",
       "      <td>-0.216954</td>\n",
       "      <td>-0.080861</td>\n",
       "      <td>-0.336848</td>\n",
       "      <td>-0.061608</td>\n",
       "      <td>-0.305651</td>\n",
       "      <td>-0.304640</td>\n",
       "      <td>-0.169325</td>\n",
       "    </tr>\n",
       "    <tr>\n",
       "      <th>kurt</th>\n",
       "      <td>-0.316036</td>\n",
       "      <td>0.346241</td>\n",
       "      <td>-0.243382</td>\n",
       "      <td>-0.350182</td>\n",
       "      <td>-0.148881</td>\n",
       "      <td>0.316185</td>\n",
       "      <td>0.977020</td>\n",
       "      <td>1.000000</td>\n",
       "      <td>-0.127644</td>\n",
       "      <td>0.109884</td>\n",
       "      <td>-0.406722</td>\n",
       "      <td>-0.316036</td>\n",
       "      <td>-0.194560</td>\n",
       "      <td>-0.203201</td>\n",
       "      <td>-0.045667</td>\n",
       "      <td>-0.303234</td>\n",
       "      <td>-0.103313</td>\n",
       "      <td>-0.274500</td>\n",
       "      <td>-0.272729</td>\n",
       "      <td>-0.205539</td>\n",
       "    </tr>\n",
       "    <tr>\n",
       "      <th>sp.ent</th>\n",
       "      <td>-0.601203</td>\n",
       "      <td>0.716620</td>\n",
       "      <td>-0.502005</td>\n",
       "      <td>-0.648126</td>\n",
       "      <td>-0.174905</td>\n",
       "      <td>0.640813</td>\n",
       "      <td>-0.195459</td>\n",
       "      <td>-0.127644</td>\n",
       "      <td>1.000000</td>\n",
       "      <td>0.866411</td>\n",
       "      <td>-0.325298</td>\n",
       "      <td>-0.601203</td>\n",
       "      <td>-0.513194</td>\n",
       "      <td>-0.305826</td>\n",
       "      <td>-0.120738</td>\n",
       "      <td>-0.293562</td>\n",
       "      <td>-0.294869</td>\n",
       "      <td>-0.324253</td>\n",
       "      <td>-0.319054</td>\n",
       "      <td>0.198074</td>\n",
       "    </tr>\n",
       "    <tr>\n",
       "      <th>sfm</th>\n",
       "      <td>-0.784332</td>\n",
       "      <td>0.838086</td>\n",
       "      <td>-0.661690</td>\n",
       "      <td>-0.766875</td>\n",
       "      <td>-0.378198</td>\n",
       "      <td>0.663601</td>\n",
       "      <td>0.079694</td>\n",
       "      <td>0.109884</td>\n",
       "      <td>0.866411</td>\n",
       "      <td>1.000000</td>\n",
       "      <td>-0.485913</td>\n",
       "      <td>-0.784332</td>\n",
       "      <td>-0.421066</td>\n",
       "      <td>-0.362100</td>\n",
       "      <td>-0.192369</td>\n",
       "      <td>-0.428442</td>\n",
       "      <td>-0.289593</td>\n",
       "      <td>-0.436649</td>\n",
       "      <td>-0.431580</td>\n",
       "      <td>0.211477</td>\n",
       "    </tr>\n",
       "    <tr>\n",
       "      <th>mode</th>\n",
       "      <td>0.687715</td>\n",
       "      <td>-0.529150</td>\n",
       "      <td>0.677433</td>\n",
       "      <td>0.591277</td>\n",
       "      <td>0.486857</td>\n",
       "      <td>-0.403764</td>\n",
       "      <td>-0.434859</td>\n",
       "      <td>-0.406722</td>\n",
       "      <td>-0.325298</td>\n",
       "      <td>-0.485913</td>\n",
       "      <td>1.000000</td>\n",
       "      <td>0.687715</td>\n",
       "      <td>0.324771</td>\n",
       "      <td>0.385467</td>\n",
       "      <td>0.172329</td>\n",
       "      <td>0.491479</td>\n",
       "      <td>0.198150</td>\n",
       "      <td>0.477187</td>\n",
       "      <td>0.473775</td>\n",
       "      <td>-0.182344</td>\n",
       "    </tr>\n",
       "    <tr>\n",
       "      <th>centroid</th>\n",
       "      <td>1.000000</td>\n",
       "      <td>-0.739039</td>\n",
       "      <td>0.925445</td>\n",
       "      <td>0.911416</td>\n",
       "      <td>0.740997</td>\n",
       "      <td>-0.627605</td>\n",
       "      <td>-0.322327</td>\n",
       "      <td>-0.316036</td>\n",
       "      <td>-0.601203</td>\n",
       "      <td>-0.784332</td>\n",
       "      <td>0.687715</td>\n",
       "      <td>1.000000</td>\n",
       "      <td>0.460844</td>\n",
       "      <td>0.383937</td>\n",
       "      <td>0.274004</td>\n",
       "      <td>0.536666</td>\n",
       "      <td>0.229261</td>\n",
       "      <td>0.519528</td>\n",
       "      <td>0.515570</td>\n",
       "      <td>-0.216979</td>\n",
       "    </tr>\n",
       "    <tr>\n",
       "      <th>meanfun</th>\n",
       "      <td>0.460844</td>\n",
       "      <td>-0.466281</td>\n",
       "      <td>0.414909</td>\n",
       "      <td>0.545035</td>\n",
       "      <td>0.155091</td>\n",
       "      <td>-0.534462</td>\n",
       "      <td>-0.167668</td>\n",
       "      <td>-0.194560</td>\n",
       "      <td>-0.513194</td>\n",
       "      <td>-0.421066</td>\n",
       "      <td>0.324771</td>\n",
       "      <td>0.460844</td>\n",
       "      <td>1.000000</td>\n",
       "      <td>0.339387</td>\n",
       "      <td>0.311950</td>\n",
       "      <td>0.270840</td>\n",
       "      <td>0.162163</td>\n",
       "      <td>0.277982</td>\n",
       "      <td>0.275154</td>\n",
       "      <td>-0.054858</td>\n",
       "    </tr>\n",
       "    <tr>\n",
       "      <th>minfun</th>\n",
       "      <td>0.383937</td>\n",
       "      <td>-0.345609</td>\n",
       "      <td>0.337602</td>\n",
       "      <td>0.320994</td>\n",
       "      <td>0.258002</td>\n",
       "      <td>-0.222680</td>\n",
       "      <td>-0.216954</td>\n",
       "      <td>-0.203201</td>\n",
       "      <td>-0.305826</td>\n",
       "      <td>-0.362100</td>\n",
       "      <td>0.385467</td>\n",
       "      <td>0.383937</td>\n",
       "      <td>0.339387</td>\n",
       "      <td>1.000000</td>\n",
       "      <td>0.213987</td>\n",
       "      <td>0.375979</td>\n",
       "      <td>0.082015</td>\n",
       "      <td>0.317860</td>\n",
       "      <td>0.316486</td>\n",
       "      <td>0.002042</td>\n",
       "    </tr>\n",
       "    <tr>\n",
       "      <th>maxfun</th>\n",
       "      <td>0.274004</td>\n",
       "      <td>-0.129662</td>\n",
       "      <td>0.251328</td>\n",
       "      <td>0.199841</td>\n",
       "      <td>0.285584</td>\n",
       "      <td>-0.069588</td>\n",
       "      <td>-0.080861</td>\n",
       "      <td>-0.045667</td>\n",
       "      <td>-0.120738</td>\n",
       "      <td>-0.192369</td>\n",
       "      <td>0.172329</td>\n",
       "      <td>0.274004</td>\n",
       "      <td>0.311950</td>\n",
       "      <td>0.213987</td>\n",
       "      <td>1.000000</td>\n",
       "      <td>0.337553</td>\n",
       "      <td>-0.243426</td>\n",
       "      <td>0.355390</td>\n",
       "      <td>0.359880</td>\n",
       "      <td>-0.363029</td>\n",
       "    </tr>\n",
       "    <tr>\n",
       "      <th>meandom</th>\n",
       "      <td>0.536666</td>\n",
       "      <td>-0.482726</td>\n",
       "      <td>0.455943</td>\n",
       "      <td>0.467403</td>\n",
       "      <td>0.359181</td>\n",
       "      <td>-0.333362</td>\n",
       "      <td>-0.336848</td>\n",
       "      <td>-0.303234</td>\n",
       "      <td>-0.293562</td>\n",
       "      <td>-0.428442</td>\n",
       "      <td>0.491479</td>\n",
       "      <td>0.536666</td>\n",
       "      <td>0.270840</td>\n",
       "      <td>0.375979</td>\n",
       "      <td>0.337553</td>\n",
       "      <td>1.000000</td>\n",
       "      <td>0.099656</td>\n",
       "      <td>0.812838</td>\n",
       "      <td>0.811304</td>\n",
       "      <td>-0.180954</td>\n",
       "    </tr>\n",
       "    <tr>\n",
       "      <th>mindom</th>\n",
       "      <td>0.229261</td>\n",
       "      <td>-0.357667</td>\n",
       "      <td>0.191169</td>\n",
       "      <td>0.302255</td>\n",
       "      <td>-0.023750</td>\n",
       "      <td>-0.357037</td>\n",
       "      <td>-0.061608</td>\n",
       "      <td>-0.103313</td>\n",
       "      <td>-0.294869</td>\n",
       "      <td>-0.289593</td>\n",
       "      <td>0.198150</td>\n",
       "      <td>0.229261</td>\n",
       "      <td>0.162163</td>\n",
       "      <td>0.082015</td>\n",
       "      <td>-0.243426</td>\n",
       "      <td>0.099656</td>\n",
       "      <td>1.000000</td>\n",
       "      <td>0.026640</td>\n",
       "      <td>0.008666</td>\n",
       "      <td>0.200212</td>\n",
       "    </tr>\n",
       "    <tr>\n",
       "      <th>maxdom</th>\n",
       "      <td>0.519528</td>\n",
       "      <td>-0.482278</td>\n",
       "      <td>0.438919</td>\n",
       "      <td>0.459683</td>\n",
       "      <td>0.335114</td>\n",
       "      <td>-0.337877</td>\n",
       "      <td>-0.305651</td>\n",
       "      <td>-0.274500</td>\n",
       "      <td>-0.324253</td>\n",
       "      <td>-0.436649</td>\n",
       "      <td>0.477187</td>\n",
       "      <td>0.519528</td>\n",
       "      <td>0.277982</td>\n",
       "      <td>0.317860</td>\n",
       "      <td>0.355390</td>\n",
       "      <td>0.812838</td>\n",
       "      <td>0.026640</td>\n",
       "      <td>1.000000</td>\n",
       "      <td>0.999838</td>\n",
       "      <td>-0.425531</td>\n",
       "    </tr>\n",
       "    <tr>\n",
       "      <th>dfrange</th>\n",
       "      <td>0.515570</td>\n",
       "      <td>-0.475999</td>\n",
       "      <td>0.435621</td>\n",
       "      <td>0.454394</td>\n",
       "      <td>0.335648</td>\n",
       "      <td>-0.331563</td>\n",
       "      <td>-0.304640</td>\n",
       "      <td>-0.272729</td>\n",
       "      <td>-0.319054</td>\n",
       "      <td>-0.431580</td>\n",
       "      <td>0.473775</td>\n",
       "      <td>0.515570</td>\n",
       "      <td>0.275154</td>\n",
       "      <td>0.316486</td>\n",
       "      <td>0.359880</td>\n",
       "      <td>0.811304</td>\n",
       "      <td>0.008666</td>\n",
       "      <td>0.999838</td>\n",
       "      <td>1.000000</td>\n",
       "      <td>-0.429266</td>\n",
       "    </tr>\n",
       "    <tr>\n",
       "      <th>modindx</th>\n",
       "      <td>-0.216979</td>\n",
       "      <td>0.122660</td>\n",
       "      <td>-0.213298</td>\n",
       "      <td>-0.141377</td>\n",
       "      <td>-0.216475</td>\n",
       "      <td>0.041252</td>\n",
       "      <td>-0.169325</td>\n",
       "      <td>-0.205539</td>\n",
       "      <td>0.198074</td>\n",
       "      <td>0.211477</td>\n",
       "      <td>-0.182344</td>\n",
       "      <td>-0.216979</td>\n",
       "      <td>-0.054858</td>\n",
       "      <td>0.002042</td>\n",
       "      <td>-0.363029</td>\n",
       "      <td>-0.180954</td>\n",
       "      <td>0.200212</td>\n",
       "      <td>-0.425531</td>\n",
       "      <td>-0.429266</td>\n",
       "      <td>1.000000</td>\n",
       "    </tr>\n",
       "  </tbody>\n",
       "</table>\n",
       "</div>"
      ],
      "text/plain": [
       "          meanfreq        sd    median       Q25       Q75       IQR  \\\n",
       "meanfreq  1.000000 -0.739039  0.925445  0.911416  0.740997 -0.627605   \n",
       "sd       -0.739039  1.000000 -0.562603 -0.846931 -0.161076  0.874660   \n",
       "median    0.925445 -0.562603  1.000000  0.774922  0.731849 -0.477352   \n",
       "Q25       0.911416 -0.846931  0.774922  1.000000  0.477140 -0.874189   \n",
       "Q75       0.740997 -0.161076  0.731849  0.477140  1.000000  0.009636   \n",
       "IQR      -0.627605  0.874660 -0.477352 -0.874189  0.009636  1.000000   \n",
       "skew     -0.322327  0.314597 -0.257407 -0.319475 -0.206339  0.249497   \n",
       "kurt     -0.316036  0.346241 -0.243382 -0.350182 -0.148881  0.316185   \n",
       "sp.ent   -0.601203  0.716620 -0.502005 -0.648126 -0.174905  0.640813   \n",
       "sfm      -0.784332  0.838086 -0.661690 -0.766875 -0.378198  0.663601   \n",
       "mode      0.687715 -0.529150  0.677433  0.591277  0.486857 -0.403764   \n",
       "centroid  1.000000 -0.739039  0.925445  0.911416  0.740997 -0.627605   \n",
       "meanfun   0.460844 -0.466281  0.414909  0.545035  0.155091 -0.534462   \n",
       "minfun    0.383937 -0.345609  0.337602  0.320994  0.258002 -0.222680   \n",
       "maxfun    0.274004 -0.129662  0.251328  0.199841  0.285584 -0.069588   \n",
       "meandom   0.536666 -0.482726  0.455943  0.467403  0.359181 -0.333362   \n",
       "mindom    0.229261 -0.357667  0.191169  0.302255 -0.023750 -0.357037   \n",
       "maxdom    0.519528 -0.482278  0.438919  0.459683  0.335114 -0.337877   \n",
       "dfrange   0.515570 -0.475999  0.435621  0.454394  0.335648 -0.331563   \n",
       "modindx  -0.216979  0.122660 -0.213298 -0.141377 -0.216475  0.041252   \n",
       "\n",
       "              skew      kurt    sp.ent       sfm      mode  centroid  \\\n",
       "meanfreq -0.322327 -0.316036 -0.601203 -0.784332  0.687715  1.000000   \n",
       "sd        0.314597  0.346241  0.716620  0.838086 -0.529150 -0.739039   \n",
       "median   -0.257407 -0.243382 -0.502005 -0.661690  0.677433  0.925445   \n",
       "Q25      -0.319475 -0.350182 -0.648126 -0.766875  0.591277  0.911416   \n",
       "Q75      -0.206339 -0.148881 -0.174905 -0.378198  0.486857  0.740997   \n",
       "IQR       0.249497  0.316185  0.640813  0.663601 -0.403764 -0.627605   \n",
       "skew      1.000000  0.977020 -0.195459  0.079694 -0.434859 -0.322327   \n",
       "kurt      0.977020  1.000000 -0.127644  0.109884 -0.406722 -0.316036   \n",
       "sp.ent   -0.195459 -0.127644  1.000000  0.866411 -0.325298 -0.601203   \n",
       "sfm       0.079694  0.109884  0.866411  1.000000 -0.485913 -0.784332   \n",
       "mode     -0.434859 -0.406722 -0.325298 -0.485913  1.000000  0.687715   \n",
       "centroid -0.322327 -0.316036 -0.601203 -0.784332  0.687715  1.000000   \n",
       "meanfun  -0.167668 -0.194560 -0.513194 -0.421066  0.324771  0.460844   \n",
       "minfun   -0.216954 -0.203201 -0.305826 -0.362100  0.385467  0.383937   \n",
       "maxfun   -0.080861 -0.045667 -0.120738 -0.192369  0.172329  0.274004   \n",
       "meandom  -0.336848 -0.303234 -0.293562 -0.428442  0.491479  0.536666   \n",
       "mindom   -0.061608 -0.103313 -0.294869 -0.289593  0.198150  0.229261   \n",
       "maxdom   -0.305651 -0.274500 -0.324253 -0.436649  0.477187  0.519528   \n",
       "dfrange  -0.304640 -0.272729 -0.319054 -0.431580  0.473775  0.515570   \n",
       "modindx  -0.169325 -0.205539  0.198074  0.211477 -0.182344 -0.216979   \n",
       "\n",
       "           meanfun    minfun    maxfun   meandom    mindom    maxdom  \\\n",
       "meanfreq  0.460844  0.383937  0.274004  0.536666  0.229261  0.519528   \n",
       "sd       -0.466281 -0.345609 -0.129662 -0.482726 -0.357667 -0.482278   \n",
       "median    0.414909  0.337602  0.251328  0.455943  0.191169  0.438919   \n",
       "Q25       0.545035  0.320994  0.199841  0.467403  0.302255  0.459683   \n",
       "Q75       0.155091  0.258002  0.285584  0.359181 -0.023750  0.335114   \n",
       "IQR      -0.534462 -0.222680 -0.069588 -0.333362 -0.357037 -0.337877   \n",
       "skew     -0.167668 -0.216954 -0.080861 -0.336848 -0.061608 -0.305651   \n",
       "kurt     -0.194560 -0.203201 -0.045667 -0.303234 -0.103313 -0.274500   \n",
       "sp.ent   -0.513194 -0.305826 -0.120738 -0.293562 -0.294869 -0.324253   \n",
       "sfm      -0.421066 -0.362100 -0.192369 -0.428442 -0.289593 -0.436649   \n",
       "mode      0.324771  0.385467  0.172329  0.491479  0.198150  0.477187   \n",
       "centroid  0.460844  0.383937  0.274004  0.536666  0.229261  0.519528   \n",
       "meanfun   1.000000  0.339387  0.311950  0.270840  0.162163  0.277982   \n",
       "minfun    0.339387  1.000000  0.213987  0.375979  0.082015  0.317860   \n",
       "maxfun    0.311950  0.213987  1.000000  0.337553 -0.243426  0.355390   \n",
       "meandom   0.270840  0.375979  0.337553  1.000000  0.099656  0.812838   \n",
       "mindom    0.162163  0.082015 -0.243426  0.099656  1.000000  0.026640   \n",
       "maxdom    0.277982  0.317860  0.355390  0.812838  0.026640  1.000000   \n",
       "dfrange   0.275154  0.316486  0.359880  0.811304  0.008666  0.999838   \n",
       "modindx  -0.054858  0.002042 -0.363029 -0.180954  0.200212 -0.425531   \n",
       "\n",
       "           dfrange   modindx  \n",
       "meanfreq  0.515570 -0.216979  \n",
       "sd       -0.475999  0.122660  \n",
       "median    0.435621 -0.213298  \n",
       "Q25       0.454394 -0.141377  \n",
       "Q75       0.335648 -0.216475  \n",
       "IQR      -0.331563  0.041252  \n",
       "skew     -0.304640 -0.169325  \n",
       "kurt     -0.272729 -0.205539  \n",
       "sp.ent   -0.319054  0.198074  \n",
       "sfm      -0.431580  0.211477  \n",
       "mode      0.473775 -0.182344  \n",
       "centroid  0.515570 -0.216979  \n",
       "meanfun   0.275154 -0.054858  \n",
       "minfun    0.316486  0.002042  \n",
       "maxfun    0.359880 -0.363029  \n",
       "meandom   0.811304 -0.180954  \n",
       "mindom    0.008666  0.200212  \n",
       "maxdom    0.999838 -0.425531  \n",
       "dfrange   1.000000 -0.429266  \n",
       "modindx  -0.429266  1.000000  "
      ]
     },
     "execution_count": 4,
     "metadata": {},
     "output_type": "execute_result"
    }
   ],
   "source": [
    "df.corr()"
   ]
  },
  {
   "cell_type": "markdown",
   "metadata": {
    "_cell_guid": "51c112a4-8b80-2a6a-5688-825581b9c1dd"
   },
   "source": [
    "# Checking whether there is any null values "
   ]
  },
  {
   "cell_type": "code",
   "execution_count": 5,
   "metadata": {
    "_cell_guid": "af637554-1c8d-cdf4-c76e-6429511dbcf7"
   },
   "outputs": [
    {
     "data": {
      "text/plain": [
       "meanfreq    0\n",
       "sd          0\n",
       "median      0\n",
       "Q25         0\n",
       "Q75         0\n",
       "IQR         0\n",
       "skew        0\n",
       "kurt        0\n",
       "sp.ent      0\n",
       "sfm         0\n",
       "mode        0\n",
       "centroid    0\n",
       "meanfun     0\n",
       "minfun      0\n",
       "maxfun      0\n",
       "meandom     0\n",
       "mindom      0\n",
       "maxdom      0\n",
       "dfrange     0\n",
       "modindx     0\n",
       "label       0\n",
       "dtype: int64"
      ]
     },
     "execution_count": 5,
     "metadata": {},
     "output_type": "execute_result"
    }
   ],
   "source": [
    "df.isnull().sum()"
   ]
  },
  {
   "cell_type": "code",
   "execution_count": 6,
   "metadata": {
    "_cell_guid": "da3a570c-0527-1f21-a980-edebea590239"
   },
   "outputs": [
    {
     "data": {
      "text/plain": [
       "(3168, 21)"
      ]
     },
     "execution_count": 6,
     "metadata": {},
     "output_type": "execute_result"
    }
   ],
   "source": [
    "df.shape"
   ]
  },
  {
   "cell_type": "code",
   "execution_count": 7,
   "metadata": {
    "_cell_guid": "fe354f60-1504-a06e-9675-c80c755bf66f"
   },
   "outputs": [
    {
     "name": "stdout",
     "output_type": "stream",
     "text": [
      "Total number of labels: 3168\n",
      "Number of male: 1584\n",
      "Number of female: 1584\n"
     ]
    }
   ],
   "source": [
    "print(\"Total number of labels: {}\".format(df.shape[0]))\n",
    "print(\"Number of male: {}\".format(df[df.label == 'male'].shape[0]))\n",
    "print(\"Number of female: {}\".format(df[df.label == 'female'].shape[0]))"
   ]
  },
  {
   "cell_type": "markdown",
   "metadata": {
    "_cell_guid": "af99e2cb-9132-7c97-3dce-6a81c6b85bb9"
   },
   "source": [
    "Thus we can see there are equal number of male and female labels"
   ]
  },
  {
   "cell_type": "code",
   "execution_count": 8,
   "metadata": {
    "_cell_guid": "78f518d5-a32d-376f-d132-1250bd0b7544"
   },
   "outputs": [
    {
     "data": {
      "text/plain": [
       "(3168, 21)"
      ]
     },
     "execution_count": 8,
     "metadata": {},
     "output_type": "execute_result"
    }
   ],
   "source": [
    "df.shape"
   ]
  },
  {
   "cell_type": "markdown",
   "metadata": {
    "_cell_guid": "85fbbf85-f199-9528-8147-7583154c4c6e"
   },
   "source": [
    "There are 21 features and 3168 instances."
   ]
  },
  {
   "cell_type": "markdown",
   "metadata": {
    "_cell_guid": "35926698-93b2-6af7-7647-20e876461359"
   },
   "source": [
    "# Separating features and labels"
   ]
  },
  {
   "cell_type": "code",
   "execution_count": 9,
   "metadata": {
    "_cell_guid": "36d5feea-f653-99c9-aa5d-a60c9f0d20f8"
   },
   "outputs": [
    {
     "data": {
      "text/html": [
       "<div>\n",
       "<table border=\"1\" class=\"dataframe\">\n",
       "  <thead>\n",
       "    <tr style=\"text-align: right;\">\n",
       "      <th></th>\n",
       "      <th>meanfreq</th>\n",
       "      <th>sd</th>\n",
       "      <th>median</th>\n",
       "      <th>Q25</th>\n",
       "      <th>Q75</th>\n",
       "      <th>IQR</th>\n",
       "      <th>skew</th>\n",
       "      <th>kurt</th>\n",
       "      <th>sp.ent</th>\n",
       "      <th>sfm</th>\n",
       "      <th>mode</th>\n",
       "      <th>centroid</th>\n",
       "      <th>meanfun</th>\n",
       "      <th>minfun</th>\n",
       "      <th>maxfun</th>\n",
       "      <th>meandom</th>\n",
       "      <th>mindom</th>\n",
       "      <th>maxdom</th>\n",
       "      <th>dfrange</th>\n",
       "      <th>modindx</th>\n",
       "    </tr>\n",
       "  </thead>\n",
       "  <tbody>\n",
       "    <tr>\n",
       "      <th>0</th>\n",
       "      <td>0.059781</td>\n",
       "      <td>0.064241</td>\n",
       "      <td>0.032027</td>\n",
       "      <td>0.015071</td>\n",
       "      <td>0.090193</td>\n",
       "      <td>0.075122</td>\n",
       "      <td>12.863462</td>\n",
       "      <td>274.402906</td>\n",
       "      <td>0.893369</td>\n",
       "      <td>0.491918</td>\n",
       "      <td>0.000000</td>\n",
       "      <td>0.059781</td>\n",
       "      <td>0.084279</td>\n",
       "      <td>0.015702</td>\n",
       "      <td>0.275862</td>\n",
       "      <td>0.007812</td>\n",
       "      <td>0.007812</td>\n",
       "      <td>0.007812</td>\n",
       "      <td>0.000000</td>\n",
       "      <td>0.000000</td>\n",
       "    </tr>\n",
       "    <tr>\n",
       "      <th>1</th>\n",
       "      <td>0.066009</td>\n",
       "      <td>0.067310</td>\n",
       "      <td>0.040229</td>\n",
       "      <td>0.019414</td>\n",
       "      <td>0.092666</td>\n",
       "      <td>0.073252</td>\n",
       "      <td>22.423285</td>\n",
       "      <td>634.613855</td>\n",
       "      <td>0.892193</td>\n",
       "      <td>0.513724</td>\n",
       "      <td>0.000000</td>\n",
       "      <td>0.066009</td>\n",
       "      <td>0.107937</td>\n",
       "      <td>0.015826</td>\n",
       "      <td>0.250000</td>\n",
       "      <td>0.009014</td>\n",
       "      <td>0.007812</td>\n",
       "      <td>0.054688</td>\n",
       "      <td>0.046875</td>\n",
       "      <td>0.052632</td>\n",
       "    </tr>\n",
       "    <tr>\n",
       "      <th>2</th>\n",
       "      <td>0.077316</td>\n",
       "      <td>0.083829</td>\n",
       "      <td>0.036718</td>\n",
       "      <td>0.008701</td>\n",
       "      <td>0.131908</td>\n",
       "      <td>0.123207</td>\n",
       "      <td>30.757155</td>\n",
       "      <td>1024.927705</td>\n",
       "      <td>0.846389</td>\n",
       "      <td>0.478905</td>\n",
       "      <td>0.000000</td>\n",
       "      <td>0.077316</td>\n",
       "      <td>0.098706</td>\n",
       "      <td>0.015656</td>\n",
       "      <td>0.271186</td>\n",
       "      <td>0.007990</td>\n",
       "      <td>0.007812</td>\n",
       "      <td>0.015625</td>\n",
       "      <td>0.007812</td>\n",
       "      <td>0.046512</td>\n",
       "    </tr>\n",
       "    <tr>\n",
       "      <th>3</th>\n",
       "      <td>0.151228</td>\n",
       "      <td>0.072111</td>\n",
       "      <td>0.158011</td>\n",
       "      <td>0.096582</td>\n",
       "      <td>0.207955</td>\n",
       "      <td>0.111374</td>\n",
       "      <td>1.232831</td>\n",
       "      <td>4.177296</td>\n",
       "      <td>0.963322</td>\n",
       "      <td>0.727232</td>\n",
       "      <td>0.083878</td>\n",
       "      <td>0.151228</td>\n",
       "      <td>0.088965</td>\n",
       "      <td>0.017798</td>\n",
       "      <td>0.250000</td>\n",
       "      <td>0.201497</td>\n",
       "      <td>0.007812</td>\n",
       "      <td>0.562500</td>\n",
       "      <td>0.554688</td>\n",
       "      <td>0.247119</td>\n",
       "    </tr>\n",
       "    <tr>\n",
       "      <th>4</th>\n",
       "      <td>0.135120</td>\n",
       "      <td>0.079146</td>\n",
       "      <td>0.124656</td>\n",
       "      <td>0.078720</td>\n",
       "      <td>0.206045</td>\n",
       "      <td>0.127325</td>\n",
       "      <td>1.101174</td>\n",
       "      <td>4.333713</td>\n",
       "      <td>0.971955</td>\n",
       "      <td>0.783568</td>\n",
       "      <td>0.104261</td>\n",
       "      <td>0.135120</td>\n",
       "      <td>0.106398</td>\n",
       "      <td>0.016931</td>\n",
       "      <td>0.266667</td>\n",
       "      <td>0.712812</td>\n",
       "      <td>0.007812</td>\n",
       "      <td>5.484375</td>\n",
       "      <td>5.476562</td>\n",
       "      <td>0.208274</td>\n",
       "    </tr>\n",
       "  </tbody>\n",
       "</table>\n",
       "</div>"
      ],
      "text/plain": [
       "   meanfreq        sd    median       Q25       Q75       IQR       skew  \\\n",
       "0  0.059781  0.064241  0.032027  0.015071  0.090193  0.075122  12.863462   \n",
       "1  0.066009  0.067310  0.040229  0.019414  0.092666  0.073252  22.423285   \n",
       "2  0.077316  0.083829  0.036718  0.008701  0.131908  0.123207  30.757155   \n",
       "3  0.151228  0.072111  0.158011  0.096582  0.207955  0.111374   1.232831   \n",
       "4  0.135120  0.079146  0.124656  0.078720  0.206045  0.127325   1.101174   \n",
       "\n",
       "          kurt    sp.ent       sfm      mode  centroid   meanfun    minfun  \\\n",
       "0   274.402906  0.893369  0.491918  0.000000  0.059781  0.084279  0.015702   \n",
       "1   634.613855  0.892193  0.513724  0.000000  0.066009  0.107937  0.015826   \n",
       "2  1024.927705  0.846389  0.478905  0.000000  0.077316  0.098706  0.015656   \n",
       "3     4.177296  0.963322  0.727232  0.083878  0.151228  0.088965  0.017798   \n",
       "4     4.333713  0.971955  0.783568  0.104261  0.135120  0.106398  0.016931   \n",
       "\n",
       "     maxfun   meandom    mindom    maxdom   dfrange   modindx  \n",
       "0  0.275862  0.007812  0.007812  0.007812  0.000000  0.000000  \n",
       "1  0.250000  0.009014  0.007812  0.054688  0.046875  0.052632  \n",
       "2  0.271186  0.007990  0.007812  0.015625  0.007812  0.046512  \n",
       "3  0.250000  0.201497  0.007812  0.562500  0.554688  0.247119  \n",
       "4  0.266667  0.712812  0.007812  5.484375  5.476562  0.208274  "
      ]
     },
     "execution_count": 9,
     "metadata": {},
     "output_type": "execute_result"
    }
   ],
   "source": [
    "X=df.iloc[:, :-1]\n",
    "X.head()"
   ]
  },
  {
   "cell_type": "markdown",
   "metadata": {
    "_cell_guid": "eabb15db-3594-8ad5-2a5b-10527ac27b88"
   },
   "source": [
    "# Converting string value to int type for labels"
   ]
  },
  {
   "cell_type": "code",
   "execution_count": 10,
   "metadata": {
    "_cell_guid": "d4681c81-0d46-deac-48a8-8238f7fe330c"
   },
   "outputs": [
    {
     "data": {
      "text/plain": [
       "array([1, 1, 1, ..., 0, 0, 0])"
      ]
     },
     "execution_count": 10,
     "metadata": {},
     "output_type": "execute_result"
    }
   ],
   "source": [
    "from sklearn.preprocessing import LabelEncoder\n",
    "y=df.iloc[:,-1]\n",
    "\n",
    "# Encode label category\n",
    "# male -> 1\n",
    "# female -> 0\n",
    "\n",
    "gender_encoder = LabelEncoder()\n",
    "y = gender_encoder.fit_transform(y)\n",
    "y"
   ]
  },
  {
   "cell_type": "markdown",
   "metadata": {
    "_cell_guid": "c4badc10-5597-845a-85e2-c8cbf4c3e0d4"
   },
   "source": [
    "# Data Standardisation\n",
    "Standardization refers to shifting the distribution of each attribute to have a mean of zero and a standard deviation of one (unit variance). It is useful to standardize attributes for a model. Standardization of datasets is a common requirement for many machine learning estimators implemented in scikit-learn; they might behave badly if the individual features do not more or less look like standard normally distributed data."
   ]
  },
  {
   "cell_type": "code",
   "execution_count": 11,
   "metadata": {
    "_cell_guid": "3c999a7a-cded-223a-3b4f-55ee8fbbdb7e"
   },
   "outputs": [],
   "source": [
    "# Scale the data to be between -1 and 1\n",
    "from sklearn.preprocessing import StandardScaler\n",
    "scaler = StandardScaler()\n",
    "scaler.fit(X)\n",
    "X = scaler.transform(X)"
   ]
  },
  {
   "cell_type": "markdown",
   "metadata": {
    "_cell_guid": "31ce4128-0a4a-ae10-3a25-1c362398295c"
   },
   "source": [
    "# Splitting dataset into training set and testing set for better generalisation"
   ]
  },
  {
   "cell_type": "code",
   "execution_count": 12,
   "metadata": {
    "_cell_guid": "ea416e41-d033-34de-6e28-5725be182435"
   },
   "outputs": [],
   "source": [
    "from sklearn.model_selection import train_test_split\n",
    "X_train, X_test, y_train, y_test = train_test_split(X, y, test_size=0.2, random_state=1)"
   ]
  },
  {
   "cell_type": "markdown",
   "metadata": {
    "_cell_guid": "416eb826-73fc-bbd2-0676-2a803ae9327b"
   },
   "source": [
    "# Running SVM with default hyperparameter."
   ]
  },
  {
   "cell_type": "code",
   "execution_count": 13,
   "metadata": {
    "_cell_guid": "05ccf988-5612-03ac-5d2f-122baa32ab19"
   },
   "outputs": [
    {
     "name": "stdout",
     "output_type": "stream",
     "text": [
      "Accuracy Score:\n",
      "0.976340694006\n"
     ]
    }
   ],
   "source": [
    "from sklearn.svm import SVC\n",
    "from sklearn import metrics\n",
    "svc=SVC() #Default hyperparameters\n",
    "svc.fit(X_train,y_train)\n",
    "y_pred=svc.predict(X_test)\n",
    "print('Accuracy Score:')\n",
    "print(metrics.accuracy_score(y_test,y_pred))"
   ]
  },
  {
   "cell_type": "markdown",
   "metadata": {
    "_cell_guid": "e5548edc-79be-2f23-a994-ddb73e82ee22"
   },
   "source": [
    "# Default Linear kernel"
   ]
  },
  {
   "cell_type": "code",
   "execution_count": 14,
   "metadata": {
    "_cell_guid": "fd19993f-2f0d-c9da-e944-3206e6a292c0"
   },
   "outputs": [
    {
     "name": "stdout",
     "output_type": "stream",
     "text": [
      "Accuracy Score:\n",
      "0.977917981073\n"
     ]
    }
   ],
   "source": [
    "svc=SVC(kernel='linear')\n",
    "svc.fit(X_train,y_train)\n",
    "y_pred=svc.predict(X_test)\n",
    "print('Accuracy Score:')\n",
    "print(metrics.accuracy_score(y_test,y_pred))"
   ]
  },
  {
   "cell_type": "markdown",
   "metadata": {
    "_cell_guid": "12039039-6d6e-915c-d213-50c102eb3c09"
   },
   "source": [
    "# Default RBF kernel"
   ]
  },
  {
   "cell_type": "code",
   "execution_count": 15,
   "metadata": {
    "_cell_guid": "61a30229-7028-815d-631f-1b24343da1b3"
   },
   "outputs": [
    {
     "name": "stdout",
     "output_type": "stream",
     "text": [
      "Accuracy Score:\n",
      "0.976340694006\n"
     ]
    }
   ],
   "source": [
    "svc=SVC(kernel='rbf')\n",
    "svc.fit(X_train,y_train)\n",
    "y_pred=svc.predict(X_test)\n",
    "print('Accuracy Score:')\n",
    "print(metrics.accuracy_score(y_test,y_pred))"
   ]
  },
  {
   "cell_type": "markdown",
   "metadata": {
    "_cell_guid": "200005e4-4577-0fc3-e833-a438cbf5ceff"
   },
   "source": [
    "We can conclude from above that svm by default uses **rbf** kernel as a parameter for kernel"
   ]
  },
  {
   "cell_type": "markdown",
   "metadata": {
    "_cell_guid": "3392a4d6-6ed0-49d0-7868-038f2489e8c8"
   },
   "source": [
    "# Default Polynomial kernel"
   ]
  },
  {
   "cell_type": "code",
   "execution_count": 16,
   "metadata": {
    "_cell_guid": "8a705a2e-0d6f-6d2a-45fd-358513529f75"
   },
   "outputs": [
    {
     "name": "stdout",
     "output_type": "stream",
     "text": [
      "Accuracy Score:\n",
      "0.958990536278\n"
     ]
    }
   ],
   "source": [
    "svc=SVC(kernel='poly')\n",
    "svc.fit(X_train,y_train)\n",
    "y_pred=svc.predict(X_test)\n",
    "print('Accuracy Score:')\n",
    "print(metrics.accuracy_score(y_test,y_pred))"
   ]
  },
  {
   "cell_type": "markdown",
   "metadata": {
    "_cell_guid": "fc3a244d-4ef3-34f4-eb3a-3286772145b2"
   },
   "source": [
    "Polynomial kernel is performing poorly.The reason behind this maybe it is overfitting the training dataset"
   ]
  },
  {
   "cell_type": "markdown",
   "metadata": {
    "_cell_guid": "a54fb78f-de14-da2f-fe18-605b3f5180d5"
   },
   "source": [
    "# Performing K-fold cross validation with different kernels"
   ]
  },
  {
   "cell_type": "markdown",
   "metadata": {
    "_cell_guid": "ad1fe233-c013-d253-9596-f23e1a11c347"
   },
   "source": [
    "# CV on Linear kernel"
   ]
  },
  {
   "cell_type": "code",
   "execution_count": 17,
   "metadata": {
    "_cell_guid": "25f97e10-5a1c-103a-4be1-f9d766ade49d"
   },
   "outputs": [
    {
     "name": "stderr",
     "output_type": "stream",
     "text": [
      "/opt/conda/lib/python3.5/site-packages/sklearn/cross_validation.py:44: DeprecationWarning: This module was deprecated in version 0.18 in favor of the model_selection module into which all the refactored classes and functions are moved. Also note that the interface of the new CV iterators are different from that of this module. This module will be removed in 0.20.\n",
      "  \"This module will be removed in 0.20.\", DeprecationWarning)\n"
     ]
    },
    {
     "name": "stdout",
     "output_type": "stream",
     "text": [
      "[ 0.91194969  0.97169811  0.97169811  0.97169811  0.96202532  0.98734177\n",
      "  0.99050633  0.98101266  0.95253165  0.99367089]\n"
     ]
    }
   ],
   "source": [
    "from sklearn.cross_validation import cross_val_score\n",
    "svc=SVC(kernel='linear')\n",
    "scores = cross_val_score(svc, X, y, cv=10, scoring='accuracy') #cv is cross validation\n",
    "print(scores)"
   ]
  },
  {
   "cell_type": "markdown",
   "metadata": {
    "_cell_guid": "f1e11e9e-0d61-70cb-8d80-3c31fcce6cef"
   },
   "source": [
    "We can see above how the accuracy score is different everytime.This shows that accuracy score depends upon how the datasets got split."
   ]
  },
  {
   "cell_type": "code",
   "execution_count": 18,
   "metadata": {
    "_cell_guid": "a2e7ab72-5fa9-3e54-d59c-b2b4c24ed7dc"
   },
   "outputs": [
    {
     "name": "stdout",
     "output_type": "stream",
     "text": [
      "0.969413263275\n"
     ]
    }
   ],
   "source": [
    "print(scores.mean())"
   ]
  },
  {
   "cell_type": "markdown",
   "metadata": {
    "_cell_guid": "6d61c1df-0285-0a0e-64ad-c2bef642e15d"
   },
   "source": [
    "In K-fold cross validation we generally take the mean of all the scores."
   ]
  },
  {
   "cell_type": "markdown",
   "metadata": {
    "_cell_guid": "5236f0a2-7d83-d6cb-fb88-2aacf70fea4c"
   },
   "source": [
    "# CV on rbf kernel"
   ]
  },
  {
   "cell_type": "code",
   "execution_count": 19,
   "metadata": {
    "_cell_guid": "e7015bbc-ea05-d4e9-c50b-ee48149fd2bf"
   },
   "outputs": [
    {
     "name": "stdout",
     "output_type": "stream",
     "text": [
      "[ 0.93396226  0.95597484  0.96855346  0.9591195   0.96835443  0.99683544\n",
      "  0.98734177  0.98101266  0.91455696  0.99367089]\n"
     ]
    }
   ],
   "source": [
    "from sklearn.cross_validation import cross_val_score\n",
    "svc=SVC(kernel='rbf')\n",
    "scores = cross_val_score(svc, X, y, cv=10, scoring='accuracy') #cv is cross validation\n",
    "print(scores)"
   ]
  },
  {
   "cell_type": "code",
   "execution_count": 20,
   "metadata": {
    "_cell_guid": "fb9609a2-6e5c-4a8f-e273-12916ea7215f"
   },
   "outputs": [
    {
     "name": "stdout",
     "output_type": "stream",
     "text": [
      "0.965938221479\n"
     ]
    }
   ],
   "source": [
    "print(scores.mean())"
   ]
  },
  {
   "cell_type": "markdown",
   "metadata": {
    "_cell_guid": "9e261f77-d75e-f6f5-833b-a30a9feee04d"
   },
   "source": [
    "# CV on Polynomial kernel"
   ]
  },
  {
   "cell_type": "code",
   "execution_count": 21,
   "metadata": {
    "_cell_guid": "fd133fd6-c088-6803-8d59-5e5739674689"
   },
   "outputs": [
    {
     "name": "stdout",
     "output_type": "stream",
     "text": [
      "[ 0.89937107  0.94654088  0.93081761  0.91509434  0.95886076  1.\n",
      "  0.98101266  0.96835443  0.87974684  0.9778481 ]\n"
     ]
    }
   ],
   "source": [
    "from sklearn.cross_validation import cross_val_score\n",
    "svc=SVC(kernel='poly')\n",
    "scores = cross_val_score(svc, X, y, cv=10, scoring='accuracy') #cv is cross validation\n",
    "print(scores)"
   ]
  },
  {
   "cell_type": "code",
   "execution_count": 22,
   "metadata": {
    "_cell_guid": "e07031f3-a32c-46e3-7cce-ba873870f3fe"
   },
   "outputs": [
    {
     "name": "stdout",
     "output_type": "stream",
     "text": [
      "0.945764668418\n"
     ]
    }
   ],
   "source": [
    "print(scores.mean())"
   ]
  },
  {
   "cell_type": "markdown",
   "metadata": {
    "_cell_guid": "7a264296-51e3-904b-ab6b-4f86d0358f53"
   },
   "source": [
    "**When K-fold cross validation is done we can see different score in each iteration.This happens because when we use train_test_split method,the dataset get split in random manner into testing and training dataset.Thus it depends on how the dataset got split and which samples are training set and which samples are in testing set.**\n",
    "\n",
    "**With K-fold cross validation we can see that the dataset got split into 10 equal parts thus covering all the data into training as well into testing set.This is the reason we got 10 different accuracy score.**"
   ]
  },
  {
   "cell_type": "markdown",
   "metadata": {
    "_cell_guid": "0912611e-a132-cd7e-edcf-8f63603a7f38"
   },
   "source": [
    "### Taking all the values of C and checking out the accuracy score with kernel as linear."
   ]
  },
  {
   "cell_type": "markdown",
   "metadata": {
    "_cell_guid": "cad5cfc0-be06-ff7f-bb83-0d8e168d0cbf"
   },
   "source": [
    "**The C parameter tells the SVM optimization how much you want to avoid misclassifying each training example. For large values of C, the optimization will choose a smaller-margin hyperplane if that hyperplane does a better job of getting all the training points classified correctly. Conversely, a very small value of C will cause the optimizer to look for a larger-margin separating hyperplane, even if that hyperplane misclassifies more points.**\n",
    "\n",
    "**Thus for a very large values we can cause overfitting of the model and for a very small value of C we can cause underfitting.Thus the value of C must be chosen in such a manner that it generalised the unseen data well**"
   ]
  },
  {
   "cell_type": "code",
   "execution_count": 23,
   "metadata": {
    "_cell_guid": "75bfb3a4-06d5-c828-23bb-a03ffea9b6c7"
   },
   "outputs": [
    {
     "name": "stdout",
     "output_type": "stream",
     "text": [
      "[0.96941326327521682, 0.96878433245760687, 0.96878433245760687, 0.96878433245760687, 0.96909879786641184, 0.96941326327521682, 0.96909879786641184, 0.96878433245760687, 0.96846986704880178, 0.96846986704880178, 0.96846986704880178, 0.96846986704880178, 0.96815341135259914, 0.96815341135259914, 0.96815341135259914, 0.96815341135259914, 0.9678369556563966, 0.9678369556563966, 0.9678369556563966, 0.9678369556563966, 0.96815341135259914, 0.96846787676140433, 0.96846787676140433, 0.9681514210652018, 0.9681514210652018]\n"
     ]
    }
   ],
   "source": [
    "C_range=list(range(1,26))\n",
    "acc_score=[]\n",
    "for c in C_range:\n",
    "    svc = SVC(kernel='linear', C=c)\n",
    "    scores = cross_val_score(svc, X, y, cv=10, scoring='accuracy')\n",
    "    acc_score.append(scores.mean())\n",
    "print(acc_score)    \n",
    "    "
   ]
  },
  {
   "cell_type": "code",
   "execution_count": 24,
   "metadata": {
    "_cell_guid": "d7d004c8-458f-ae86-d777-ab92b253df34"
   },
   "outputs": [
    {
     "data": {
      "text/plain": [
       "<matplotlib.text.Text at 0x7faebdc4a080>"
      ]
     },
     "execution_count": 24,
     "metadata": {},
     "output_type": "execute_result"
    },
    {
     "data": {
      "image/png": "[encoded data removed]",
      "text/plain": [
       "<matplotlib.figure.Figure at 0x7faed727a3c8>"
      ]
     },
     "metadata": {},
     "output_type": "display_data"
    }
   ],
   "source": [
    "import matplotlib.pyplot as plt\n",
    "%matplotlib inline\n",
    "\n",
    "\n",
    "C_values=list(range(1,26))\n",
    "# plot the value of C for SVM (x-axis) versus the cross-validated accuracy (y-axis)\n",
    "plt.plot(C_values,acc_score)\n",
    "plt.xticks(np.arange(0,27,2))\n",
    "plt.xlabel('Value of C for SVC')\n",
    "plt.ylabel('Cross-Validated Accuracy')"
   ]
  },
  {
   "cell_type": "markdown",
   "metadata": {
    "_cell_guid": "d9c892c1-0923-a8e3-53bf-40886621828c"
   },
   "source": [
    "**From the above plot we can see that accuracy has been close to 97% for C=1 and C=6 and then it drops around 96.8% and remains constant.**"
   ]
  },
  {
   "cell_type": "markdown",
   "metadata": {
    "_cell_guid": "37666b87-8625-668f-6984-61be1852635b"
   },
   "source": [
    "### Let us look into more detail of what is the exact value of C which is giving us a good accuracy score"
   ]
  },
  {
   "cell_type": "code",
   "execution_count": 25,
   "metadata": {
    "_cell_guid": "49795d4a-e816-45e5-7404-881df395f894"
   },
   "outputs": [
    {
     "name": "stdout",
     "output_type": "stream",
     "text": [
      "[0.97004816495501944, 0.96910078815380951, 0.96909879786641184, 0.96909879786641184, 0.96941326327521682, 0.96941326327521682, 0.96972772868402191, 0.96941127298781937, 0.9690968075790144, 0.96941326327521682, 0.96941326327521682, 0.96941326327521682, 0.96941326327521682, 0.96878234217020953, 0.96909879786641184, 0.96909879786641184, 0.96909879786641184, 0.96909879786641184, 0.96878433245760687, 0.96878433245760687, 0.96909879786641184, 0.96909879786641184, 0.96878433245760687, 0.96878433245760687, 0.96878433245760687, 0.96878433245760687, 0.96878433245760687, 0.96878433245760687, 0.96878433245760687, 0.96878433245760687, 0.96878433245760687, 0.96878433245760687, 0.96878433245760687, 0.96878433245760687, 0.96878433245760687, 0.96878433245760687, 0.96878433245760687, 0.96878433245760687, 0.96878433245760687, 0.96878433245760687, 0.96878433245760687, 0.96878433245760687, 0.96878433245760687, 0.96878433245760687, 0.96878433245760687, 0.96878433245760687, 0.96909879786641184, 0.96909879786641184, 0.96909879786641184, 0.96909879786641184, 0.96909879786641184, 0.96909879786641184, 0.96909879786641184, 0.96909879786641184, 0.96909879786641184, 0.96941326327521682, 0.96941326327521682, 0.96941326327521682, 0.96941326327521682]\n"
     ]
    }
   ],
   "source": [
    "C_range=list(np.arange(0.1,6,0.1))\n",
    "acc_score=[]\n",
    "for c in C_range:\n",
    "    svc = SVC(kernel='linear', C=c)\n",
    "    scores = cross_val_score(svc, X, y, cv=10, scoring='accuracy')\n",
    "    acc_score.append(scores.mean())\n",
    "print(acc_score)    \n",
    "    "
   ]
  },
  {
   "cell_type": "code",
   "execution_count": 26,
   "metadata": {
    "_cell_guid": "ab18923a-5802-45e4-6290-37b6ea89eb86"
   },
   "outputs": [
    {
     "data": {
      "text/plain": [
       "<matplotlib.text.Text at 0x7faebdc4a550>"
      ]
     },
     "execution_count": 26,
     "metadata": {},
     "output_type": "execute_result"
    },
    {
     "data": {
      "image/png": "[encoded data removed]",
      "text/plain": [
       "<matplotlib.figure.Figure at 0x7faebb21e470>"
      ]
     },
     "metadata": {},
     "output_type": "display_data"
    }
   ],
   "source": [
    "import matplotlib.pyplot as plt\n",
    "%matplotlib inline\n",
    "\n",
    "C_values=list(np.arange(0.1,6,0.1))\n",
    "# plot the value of C for SVM (x-axis) versus the cross-validated accuracy (y-axis)\n",
    "plt.plot(C_values,acc_score)\n",
    "plt.xticks(np.arange(0.0,6,0.3))\n",
    "plt.xlabel('Value of C for SVC ')\n",
    "plt.ylabel('Cross-Validated Accuracy')"
   ]
  },
  {
   "cell_type": "markdown",
   "metadata": {
    "_cell_guid": "d604755b-9603-9f61-d8d7-c533ba9851a9"
   },
   "source": [
    "### Accuracy score is highest for C=0.1."
   ]
  },
  {
   "cell_type": "markdown",
   "metadata": {
    "_cell_guid": "a8d63c32-a177-b287-08c4-f85f144c6324"
   },
   "source": [
    "### Taking kernel as **rbf** and taking different values gamma"
   ]
  },
  {
   "cell_type": "markdown",
   "metadata": {
    "_cell_guid": "dea9c10d-0351-e3fd-0e11-50a7dd18c310"
   },
   "source": [
    "**Technically, the gamma parameter is the inverse of the standard deviation of the RBF kernel (Gaussian function), which is used as similarity measure between two points. Intuitively, a small gamma value define a Gaussian function with a large variance. In this case, two points can be considered similar even if are far from each other. In the other hand, a large gamma value means define a Gaussian function with a small variance and in this case, two points are considered similar just if they are close to each other**"
   ]
  },
  {
   "cell_type": "code",
   "execution_count": 27,
   "metadata": {
    "_cell_guid": "282b0fe3-0b34-d692-7412-8acab5711326"
   },
   "outputs": [
    {
     "name": "stdout",
     "output_type": "stream",
     "text": [
      "[0.88781147997770871, 0.95524639757981067, 0.9681514210652018, 0.96309609107555116, 0.9072366849773108, 0.59553777565480459, 0.5]\n"
     ]
    }
   ],
   "source": [
    "gamma_range=[0.0001,0.001,0.01,0.1,1,10,100]\n",
    "acc_score=[]\n",
    "for g in gamma_range:\n",
    "    svc = SVC(kernel='rbf', gamma=g)\n",
    "    scores = cross_val_score(svc, X, y, cv=10, scoring='accuracy')\n",
    "    acc_score.append(scores.mean())\n",
    "print(acc_score)    \n",
    "    "
   ]
  },
  {
   "cell_type": "code",
   "execution_count": 28,
   "metadata": {
    "_cell_guid": "22bc0e0e-fdfc-6c6d-c9c5-8863f818254f"
   },
   "outputs": [
    {
     "data": {
      "text/plain": [
       "<matplotlib.text.Text at 0x7faebb2292b0>"
      ]
     },
     "execution_count": 28,
     "metadata": {},
     "output_type": "execute_result"
    },
    {
     "data": {
      "image/png": "[encoded data removed]",
      "text/plain": [
       "<matplotlib.figure.Figure at 0x7faebb1f0a58>"
      ]
     },
     "metadata": {},
     "output_type": "display_data"
    }
   ],
   "source": [
    "import matplotlib.pyplot as plt\n",
    "%matplotlib inline\n",
    "\n",
    "gamma_range=[0.0001,0.001,0.01,0.1,1,10,100]\n",
    "\n",
    "# plot the value of C for SVM (x-axis) versus the cross-validated accuracy (y-axis)\n",
    "plt.plot(gamma_range,acc_score)\n",
    "plt.xlabel('Value of gamma for SVC ')\n",
    "plt.xticks(np.arange(0.0001,100,5))\n",
    "plt.ylabel('Cross-Validated Accuracy')"
   ]
  },
  {
   "cell_type": "markdown",
   "metadata": {
    "_cell_guid": "15e21695-add0-983e-6a87-c25b98fff692"
   },
   "source": [
    "**We can see that for gamma=10 and 100 the kernel is performing poorly.We can also see a slight dip in accuracy score when gamma is 1.Let us look into more details for the range 0.0001 to 0.1.**"
   ]
  },
  {
   "cell_type": "code",
   "execution_count": 29,
   "metadata": {
    "_cell_guid": "4b65f0c1-8753-bc48-efda-03589d3631d5"
   },
   "outputs": [
    {
     "name": "stdout",
     "output_type": "stream",
     "text": [
      "[0.88781147997770871, 0.95524639757981067, 0.9681514210652018, 0.96309609107555116]\n"
     ]
    }
   ],
   "source": [
    "gamma_range=[0.0001,0.001,0.01,0.1]\n",
    "acc_score=[]\n",
    "for g in gamma_range:\n",
    "    svc = SVC(kernel='rbf', gamma=g)\n",
    "    scores = cross_val_score(svc, X, y, cv=10, scoring='accuracy')\n",
    "    acc_score.append(scores.mean())\n",
    "print(acc_score)    \n",
    "    "
   ]
  },
  {
   "cell_type": "code",
   "execution_count": 30,
   "metadata": {
    "_cell_guid": "0b8d11a5-d9d2-6272-a94b-e85e747667a1"
   },
   "outputs": [
    {
     "data": {
      "text/plain": [
       "<matplotlib.text.Text at 0x7faebb21eda0>"
      ]
     },
     "execution_count": 30,
     "metadata": {},
     "output_type": "execute_result"
    },
    {
     "data": {
      "image/png": "[encoded data removed]",
      "text/plain": [
       "<matplotlib.figure.Figure at 0x7faebb1c7128>"
      ]
     },
     "metadata": {},
     "output_type": "display_data"
    }
   ],
   "source": [
    "import matplotlib.pyplot as plt\n",
    "%matplotlib inline\n",
    "\n",
    "gamma_range=[0.0001,0.001,0.01,0.1]\n",
    "\n",
    "# plot the value of C for SVM (x-axis) versus the cross-validated accuracy (y-axis)\n",
    "plt.plot(gamma_range,acc_score)\n",
    "plt.xlabel('Value of gamma for SVC ')\n",
    "plt.ylabel('Cross-Validated Accuracy')"
   ]
  },
  {
   "cell_type": "markdown",
   "metadata": {
    "_cell_guid": "0708b835-3e46-82dc-c74b-0f6d34d9b51f"
   },
   "source": [
    "The score increases steadily and raches its peak at 0.01 and then decreases till gamma=1.Thus Gamma should be around 0.01."
   ]
  },
  {
   "cell_type": "markdown",
   "metadata": {
    "_cell_guid": "90f76105-a03f-0326-9676-46053a98db93"
   },
   "source": [
    "Let us look into more detail for gamma values"
   ]
  },
  {
   "cell_type": "code",
   "execution_count": 31,
   "metadata": {
    "_cell_guid": "279aa6b5-1201-e181-1d60-5d48ce6f9abf"
   },
   "outputs": [
    {
     "name": "stdout",
     "output_type": "stream",
     "text": [
      "[0.9681514210652018, 0.96783894594379449, 0.96783496536899916, 0.96688957885518645, 0.96593822147918151]\n"
     ]
    }
   ],
   "source": [
    "gamma_range=[0.01,0.02,0.03,0.04,0.05]\n",
    "acc_score=[]\n",
    "for g in gamma_range:\n",
    "    svc = SVC(kernel='rbf', gamma=g)\n",
    "    scores = cross_val_score(svc, X, y, cv=10, scoring='accuracy')\n",
    "    acc_score.append(scores.mean())\n",
    "print(acc_score)    \n",
    "    "
   ]
  },
  {
   "cell_type": "code",
   "execution_count": 32,
   "metadata": {
    "_cell_guid": "ad8df21f-7c1d-823d-5696-9ed04ed662d1"
   },
   "outputs": [
    {
     "data": {
      "text/plain": [
       "<matplotlib.text.Text at 0x7faebb0dd320>"
      ]
     },
     "execution_count": 32,
     "metadata": {},
     "output_type": "execute_result"
    },
    {
     "data": {
      "image/png": "[encoded data removed]",
      "text/plain": [
       "<matplotlib.figure.Figure at 0x7faebb1884a8>"
      ]
     },
     "metadata": {},
     "output_type": "display_data"
    }
   ],
   "source": [
    "import matplotlib.pyplot as plt\n",
    "%matplotlib inline\n",
    "\n",
    "gamma_range=[0.01,0.02,0.03,0.04,0.05]\n",
    "\n",
    "# plot the value of C for SVM (x-axis) versus the cross-validated accuracy (y-axis)\n",
    "plt.plot(gamma_range,acc_score)\n",
    "plt.xlabel('Value of gamma for SVC ')\n",
    "plt.ylabel('Cross-Validated Accuracy')"
   ]
  },
  {
   "cell_type": "markdown",
   "metadata": {
    "_cell_guid": "651abf9c-4698-9c01-aa2d-cfe3144be51f"
   },
   "source": [
    "**We can see there is constant decrease in the accuracy score as gamma value increase.Thus gamma=0.01 is the best parameter.**"
   ]
  },
  {
   "cell_type": "markdown",
   "metadata": {
    "_cell_guid": "413851c2-7bfd-859e-53a1-75ba442a678c"
   },
   "source": [
    "# Taking polynomial kernel with different degree"
   ]
  },
  {
   "cell_type": "code",
   "execution_count": 33,
   "metadata": {
    "_cell_guid": "71802e03-f3f1-2e7a-0b91-53063605bc5c"
   },
   "outputs": [
    {
     "name": "stdout",
     "output_type": "stream",
     "text": [
      "[0.85069262001432988, 0.94576466841811957, 0.83121168696759806, 0.86598200780192658, 0.77475718493750489]\n"
     ]
    }
   ],
   "source": [
    "degree=[2,3,4,5,6]\n",
    "acc_score=[]\n",
    "for d in degree:\n",
    "    svc = SVC(kernel='poly', degree=d)\n",
    "    scores = cross_val_score(svc, X, y, cv=10, scoring='accuracy')\n",
    "    acc_score.append(scores.mean())\n",
    "print(acc_score)    \n",
    "    "
   ]
  },
  {
   "cell_type": "code",
   "execution_count": 34,
   "metadata": {
    "_cell_guid": "76acd1a6-c10b-beb9-b99b-1986b46b1bc8"
   },
   "outputs": [
    {
     "data": {
      "text/plain": [
       "<matplotlib.text.Text at 0x7faebb027278>"
      ]
     },
     "execution_count": 34,
     "metadata": {},
     "output_type": "execute_result"
    },
    {
     "data": {
      "image/png": "[encoded data removed]",
      "text/plain": [
       "<matplotlib.figure.Figure at 0x7faebb0887f0>"
      ]
     },
     "metadata": {},
     "output_type": "display_data"
    }
   ],
   "source": [
    "import matplotlib.pyplot as plt\n",
    "%matplotlib inline\n",
    "\n",
    "degree=[2,3,4,5,6]\n",
    "\n",
    "# plot the value of C for SVM (x-axis) versus the cross-validated accuracy (y-axis)\n",
    "plt.plot(degree,acc_score,color='r')\n",
    "plt.xlabel('degrees for SVC ')\n",
    "plt.ylabel('Cross-Validated Accuracy')"
   ]
  },
  {
   "cell_type": "markdown",
   "metadata": {
    "_cell_guid": "0b5454f1-2788-8627-f70e-1556983a82d9"
   },
   "source": [
    "**Score is high for third degree polynomial and then there is drop in the accuracy score as degree of polynomial increases.Thus increase in polynomial degree results in high complexity of the model and thus causes overfitting.**"
   ]
  },
  {
   "cell_type": "markdown",
   "metadata": {
    "_cell_guid": "2143d3d8-4abf-983d-ee4c-cc74f4fde0b7"
   },
   "source": [
    "# Now performing SVM by taking hyperparameter C=0.1 and kernel as linear \n",
    "\n",
    "\n",
    "----------"
   ]
  },
  {
   "cell_type": "code",
   "execution_count": 35,
   "metadata": {
    "_cell_guid": "499ae7bd-c349-3c50-0f6e-3ca8633d0b28"
   },
   "outputs": [
    {
     "name": "stdout",
     "output_type": "stream",
     "text": [
      "0.97476340694\n"
     ]
    }
   ],
   "source": [
    "from sklearn.svm import SVC\n",
    "svc= SVC(kernel='linear',C=0.1)\n",
    "svc.fit(X_train,y_train)\n",
    "y_predict=svc.predict(X_test)\n",
    "accuracy_score= metrics.accuracy_score(y_test,y_predict)\n",
    "print(accuracy_score)"
   ]
  },
  {
   "cell_type": "markdown",
   "metadata": {
    "_cell_guid": "b4cf3a4a-9f64-5567-3037-bc2719ae098c"
   },
   "source": [
    "# With K-fold cross validation(where K=10)"
   ]
  },
  {
   "cell_type": "code",
   "execution_count": 36,
   "metadata": {
    "_cell_guid": "4b9e8e3f-2861-ed79-d48f-ca71c9264165"
   },
   "outputs": [
    {
     "name": "stdout",
     "output_type": "stream",
     "text": [
      "[ 0.90880503  0.97169811  0.97484277  0.96855346  0.96202532  0.99050633\n",
      "  0.99050633  0.98101266  0.95886076  0.99367089]\n"
     ]
    }
   ],
   "source": [
    "from sklearn.cross_validation import cross_val_score\n",
    "svc=SVC(kernel='linear',C=0.1)\n",
    "scores = cross_val_score(svc, X, y, cv=10, scoring='accuracy')\n",
    "print(scores)"
   ]
  },
  {
   "cell_type": "markdown",
   "metadata": {
    "_cell_guid": "daad2a8a-c37f-86b7-9120-8fb3a67cdc38"
   },
   "source": [
    "Taking the mean of all the scores"
   ]
  },
  {
   "cell_type": "code",
   "execution_count": 37,
   "metadata": {
    "_cell_guid": "57b5946d-b6b8-b758-9570-b855ebaa6bd2"
   },
   "outputs": [
    {
     "name": "stdout",
     "output_type": "stream",
     "text": [
      "0.970048164955\n"
     ]
    }
   ],
   "source": [
    "print(scores.mean())"
   ]
  },
  {
   "cell_type": "markdown",
   "metadata": {
    "_cell_guid": "76ec14cd-f216-6179-063e-8ec211daa46c"
   },
   "source": [
    "The accuracy is slightly good without K-fold cross validation but it may fail to generalise the unseen data.Hence it is advisable to perform K-fold cross validation where all the data is covered so it may predict unseen data well."
   ]
  },
  {
   "cell_type": "markdown",
   "metadata": {
    "_cell_guid": "d8887f84-1f58-63f5-a35e-6423e816105a"
   },
   "source": [
    "# Now performing SVM by taking hyperparameter gamma=0.01 and kernel as rbf"
   ]
  },
  {
   "cell_type": "code",
   "execution_count": 38,
   "metadata": {
    "_cell_guid": "dc42218a-35a1-bd50-032a-fffd67b4772c"
   },
   "outputs": [
    {
     "data": {
      "text/plain": [
       "0.96687697160883279"
      ]
     },
     "execution_count": 38,
     "metadata": {},
     "output_type": "execute_result"
    }
   ],
   "source": [
    "from sklearn.svm import SVC\n",
    "svc= SVC(kernel='rbf',gamma=0.01)\n",
    "svc.fit(X_train,y_train)\n",
    "y_predict=svc.predict(X_test)\n",
    "metrics.accuracy_score(y_test,y_predict)"
   ]
  },
  {
   "cell_type": "markdown",
   "metadata": {
    "_cell_guid": "e0b485e2-4ea3-ed6d-ece1-d29cda102038"
   },
   "source": [
    "# With K-fold cross validation(where K=10)"
   ]
  },
  {
   "cell_type": "code",
   "execution_count": 39,
   "metadata": {
    "_cell_guid": "e3baf72f-df6a-f4a0-029e-5c5dcd0aa726"
   },
   "outputs": [
    {
     "name": "stdout",
     "output_type": "stream",
     "text": [
      "[ 0.91194969  0.97169811  0.97169811  0.97169811  0.96202532  0.98734177\n",
      "  0.99050633  0.98101266  0.95253165  0.99367089]\n",
      "0.969413263275\n"
     ]
    }
   ],
   "source": [
    "svc=SVC(kernel='linear',gamma=0.01)\n",
    "scores = cross_val_score(svc, X, y, cv=10, scoring='accuracy')\n",
    "print(scores)\n",
    "print(scores.mean())"
   ]
  },
  {
   "cell_type": "markdown",
   "metadata": {
    "_cell_guid": "b35afce0-4274-e96f-66f8-89a57fbc0d30"
   },
   "source": [
    "# Now performing SVM by taking hyperparameter degree=3 and kernel as poly"
   ]
  },
  {
   "cell_type": "code",
   "execution_count": 40,
   "metadata": {
    "_cell_guid": "1c4402fd-f477-c7cb-044f-4164afac973f"
   },
   "outputs": [
    {
     "name": "stdout",
     "output_type": "stream",
     "text": [
      "0.958990536278\n"
     ]
    }
   ],
   "source": [
    "from sklearn.svm import SVC\n",
    "svc= SVC(kernel='poly',degree=3)\n",
    "svc.fit(X_train,y_train)\n",
    "y_predict=svc.predict(X_test)\n",
    "accuracy_score= metrics.accuracy_score(y_test,y_predict)\n",
    "print(accuracy_score)"
   ]
  },
  {
   "cell_type": "markdown",
   "metadata": {
    "_cell_guid": "1ef380ed-2e09-a0f8-3831-140df751f299"
   },
   "source": [
    "# With K-fold cross validation(where K=10)"
   ]
  },
  {
   "cell_type": "code",
   "execution_count": 41,
   "metadata": {
    "_cell_guid": "0327e745-ab33-23a2-db23-04cd62d5267c"
   },
   "outputs": [
    {
     "name": "stdout",
     "output_type": "stream",
     "text": [
      "[ 0.89937107  0.94654088  0.93081761  0.91509434  0.95886076  1.\n",
      "  0.98101266  0.96835443  0.87974684  0.9778481 ]\n",
      "0.945764668418\n"
     ]
    }
   ],
   "source": [
    "svc=SVC(kernel='poly',degree=3)\n",
    "scores = cross_val_score(svc, X, y, cv=10, scoring='accuracy')\n",
    "print(scores)\n",
    "print(scores.mean())"
   ]
  },
  {
   "cell_type": "markdown",
   "metadata": {
    "_cell_guid": "3a81d277-41ee-f387-0745-1aba41754f40"
   },
   "source": [
    "#Let us perform Grid search technique to find the best parameter"
   ]
  },
  {
   "cell_type": "code",
   "execution_count": 42,
   "metadata": {
    "_cell_guid": "fd5a4e22-4b4e-691b-81dd-298d6985e0b9"
   },
   "outputs": [],
   "source": [
    "from sklearn.svm import SVC\n",
    "svm_model= SVC()"
   ]
  },
  {
   "cell_type": "code",
   "execution_count": 43,
   "metadata": {
    "_cell_guid": "0192d0ba-9dad-7c1d-546d-ebe6be61a6a0"
   },
   "outputs": [],
   "source": [
    "tuned_parameters = {\n",
    " 'C': (np.arange(0.1,1,0.1)) , 'kernel': ['linear'],\n",
    " 'C': (np.arange(0.1,1,0.1)) , 'gamma': [0.01,0.02,0.03,0.04,0.05], 'kernel': ['rbf'],\n",
    " 'degree': [2,3,4] ,'gamma':[0.01,0.02,0.03,0.04,0.05], 'C':(np.arange(0.1,1,0.1)) , 'kernel':['poly']\n",
    "                   }"
   ]
  },
  {
   "cell_type": "code",
   "execution_count": 44,
   "metadata": {
    "_cell_guid": "2b5f7459-74de-d88c-08c1-70418281b77c"
   },
   "outputs": [
    {
     "name": "stderr",
     "output_type": "stream",
     "text": [
      "/opt/conda/lib/python3.5/site-packages/sklearn/grid_search.py:43: DeprecationWarning: This module was deprecated in version 0.18 in favor of the model_selection module into which all the refactored classes and functions are moved. This module will be removed in 0.20.\n",
      "  DeprecationWarning)\n"
     ]
    }
   ],
   "source": [
    "from sklearn.grid_search import GridSearchCV\n",
    "\n",
    "model_svm = GridSearchCV(svm_model, tuned_parameters,cv=10,scoring='accuracy')"
   ]
  },
  {
   "cell_type": "code",
   "execution_count": 45,
   "metadata": {
    "_cell_guid": "54e69fea-2b9d-5084-35c7-f2e24d36cb5a"
   },
   "outputs": [
    {
     "name": "stdout",
     "output_type": "stream",
     "text": [
      "0.9569850039463299\n"
     ]
    }
   ],
   "source": [
    "model_svm.fit(X_train, y_train)\n",
    "print(model_svm.best_score_)"
   ]
  },
  {
   "cell_type": "code",
   "execution_count": 46,
   "metadata": {
    "_cell_guid": "52a1103d-a5e9-34fc-e830-077b5a7e2d9f"
   },
   "outputs": [
    {
     "name": "stdout",
     "output_type": "stream",
     "text": [
      "[mean: 0.72612, std: 0.02657, params: {'kernel': 'poly', 'C': 0.10000000000000001, 'gamma': 0.01, 'degree': 2}, mean: 0.66732, std: 0.01472, params: {'kernel': 'poly', 'C': 0.10000000000000001, 'gamma': 0.02, 'degree': 2}, mean: 0.73639, std: 0.02183, params: {'kernel': 'poly', 'C': 0.10000000000000001, 'gamma': 0.03, 'degree': 2}, mean: 0.79242, std: 0.02043, params: {'kernel': 'poly', 'C': 0.10000000000000001, 'gamma': 0.04, 'degree': 2}, mean: 0.82952, std: 0.02263, params: {'kernel': 'poly', 'C': 0.10000000000000001, 'gamma': 0.05, 'degree': 2}, mean: 0.57893, std: 0.01547, params: {'kernel': 'poly', 'C': 0.10000000000000001, 'gamma': 0.01, 'degree': 3}, mean: 0.88477, std: 0.01732, params: {'kernel': 'poly', 'C': 0.10000000000000001, 'gamma': 0.02, 'degree': 3}, mean: 0.89227, std: 0.01451, params: {'kernel': 'poly', 'C': 0.10000000000000001, 'gamma': 0.03, 'degree': 3}, mean: 0.90489, std: 0.01413, params: {'kernel': 'poly', 'C': 0.10000000000000001, 'gamma': 0.04, 'degree': 3}, mean: 0.92305, std: 0.01402, params: {'kernel': 'poly', 'C': 0.10000000000000001, 'gamma': 0.05, 'degree': 3}, mean: 0.52013, std: 0.00624, params: {'kernel': 'poly', 'C': 0.10000000000000001, 'gamma': 0.01, 'degree': 4}, mean: 0.64957, std: 0.08461, params: {'kernel': 'poly', 'C': 0.10000000000000001, 'gamma': 0.02, 'degree': 4}, mean: 0.62628, std: 0.02313, params: {'kernel': 'poly', 'C': 0.10000000000000001, 'gamma': 0.03, 'degree': 4}, mean: 0.69140, std: 0.01449, params: {'kernel': 'poly', 'C': 0.10000000000000001, 'gamma': 0.04, 'degree': 4}, mean: 0.73717, std: 0.01137, params: {'kernel': 'poly', 'C': 0.10000000000000001, 'gamma': 0.05, 'degree': 4}, mean: 0.61918, std: 0.01962, params: {'kernel': 'poly', 'C': 0.20000000000000001, 'gamma': 0.01, 'degree': 2}, mean: 0.72928, std: 0.02083, params: {'kernel': 'poly', 'C': 0.20000000000000001, 'gamma': 0.02, 'degree': 2}, mean: 0.80584, std: 0.01981, params: {'kernel': 'poly', 'C': 0.20000000000000001, 'gamma': 0.03, 'degree': 2}, mean: 0.83860, std: 0.02137, params: {'kernel': 'poly', 'C': 0.20000000000000001, 'gamma': 0.04, 'degree': 2}, mean: 0.85991, std: 0.01857, params: {'kernel': 'poly', 'C': 0.20000000000000001, 'gamma': 0.05, 'degree': 2}, mean: 0.67482, std: 0.01236, params: {'kernel': 'poly', 'C': 0.20000000000000001, 'gamma': 0.01, 'degree': 3}, mean: 0.89305, std: 0.01376, params: {'kernel': 'poly', 'C': 0.20000000000000001, 'gamma': 0.02, 'degree': 3}, mean: 0.89937, std: 0.01154, params: {'kernel': 'poly', 'C': 0.20000000000000001, 'gamma': 0.03, 'degree': 3}, mean: 0.92305, std: 0.01400, params: {'kernel': 'poly', 'C': 0.20000000000000001, 'gamma': 0.04, 'degree': 3}, mean: 0.93173, std: 0.01257, params: {'kernel': 'poly', 'C': 0.20000000000000001, 'gamma': 0.05, 'degree': 3}, mean: 0.52170, std: 0.00746, params: {'kernel': 'poly', 'C': 0.20000000000000001, 'gamma': 0.01, 'degree': 4}, mean: 0.61918, std: 0.02345, params: {'kernel': 'poly', 'C': 0.20000000000000001, 'gamma': 0.02, 'degree': 4}, mean: 0.66062, std: 0.01926, params: {'kernel': 'poly', 'C': 0.20000000000000001, 'gamma': 0.03, 'degree': 4}, mean: 0.72849, std: 0.01368, params: {'kernel': 'poly', 'C': 0.20000000000000001, 'gamma': 0.04, 'degree': 4}, mean: 0.78532, std: 0.01081, params: {'kernel': 'poly', 'C': 0.20000000000000001, 'gamma': 0.05, 'degree': 4}, mean: 0.64286, std: 0.01743, params: {'kernel': 'poly', 'C': 0.30000000000000004, 'gamma': 0.01, 'degree': 2}, mean: 0.76006, std: 0.02344, params: {'kernel': 'poly', 'C': 0.30000000000000004, 'gamma': 0.02, 'degree': 2}, mean: 0.83425, std: 0.02183, params: {'kernel': 'poly', 'C': 0.30000000000000004, 'gamma': 0.03, 'degree': 2}, mean: 0.85596, std: 0.01763, params: {'kernel': 'poly', 'C': 0.30000000000000004, 'gamma': 0.04, 'degree': 2}, mean: 0.87096, std: 0.01478, params: {'kernel': 'poly', 'C': 0.30000000000000004, 'gamma': 0.05, 'degree': 2}, mean: 0.75612, std: 0.05853, params: {'kernel': 'poly', 'C': 0.30000000000000004, 'gamma': 0.01, 'degree': 3}, mean: 0.89976, std: 0.01558, params: {'kernel': 'poly', 'C': 0.30000000000000004, 'gamma': 0.02, 'degree': 3}, mean: 0.91279, std: 0.01377, params: {'kernel': 'poly', 'C': 0.30000000000000004, 'gamma': 0.03, 'degree': 3}, mean: 0.92581, std: 0.01174, params: {'kernel': 'poly', 'C': 0.30000000000000004, 'gamma': 0.04, 'degree': 3}, mean: 0.93686, std: 0.01465, params: {'kernel': 'poly', 'C': 0.30000000000000004, 'gamma': 0.05, 'degree': 3}, mean: 0.52289, std: 0.00827, params: {'kernel': 'poly', 'C': 0.30000000000000004, 'gamma': 0.01, 'degree': 4}, mean: 0.60773, std: 0.02105, params: {'kernel': 'poly', 'C': 0.30000000000000004, 'gamma': 0.02, 'degree': 4}, mean: 0.68824, std: 0.01584, params: {'kernel': 'poly', 'C': 0.30000000000000004, 'gamma': 0.03, 'degree': 4}, mean: 0.74980, std: 0.00995, params: {'kernel': 'poly', 'C': 0.30000000000000004, 'gamma': 0.04, 'degree': 4}, mean: 0.81097, std: 0.01323, params: {'kernel': 'poly', 'C': 0.30000000000000004, 'gamma': 0.05, 'degree': 4}, mean: 0.66732, std: 0.01472, params: {'kernel': 'poly', 'C': 0.40000000000000002, 'gamma': 0.01, 'degree': 2}, mean: 0.79242, std: 0.02043, params: {'kernel': 'poly', 'C': 0.40000000000000002, 'gamma': 0.02, 'degree': 2}, mean: 0.84491, std: 0.01931, params: {'kernel': 'poly', 'C': 0.40000000000000002, 'gamma': 0.03, 'degree': 2}, mean: 0.86740, std: 0.01602, params: {'kernel': 'poly', 'C': 0.40000000000000002, 'gamma': 0.04, 'degree': 2}, mean: 0.87885, std: 0.01398, params: {'kernel': 'poly', 'C': 0.40000000000000002, 'gamma': 0.05, 'degree': 2}, mean: 0.88595, std: 0.02025, params: {'kernel': 'poly', 'C': 0.40000000000000002, 'gamma': 0.01, 'degree': 3}, mean: 0.88792, std: 0.01298, params: {'kernel': 'poly', 'C': 0.40000000000000002, 'gamma': 0.02, 'degree': 3}, mean: 0.91713, std: 0.01525, params: {'kernel': 'poly', 'C': 0.40000000000000002, 'gamma': 0.03, 'degree': 3}, mean: 0.93212, std: 0.01317, params: {'kernel': 'poly', 'C': 0.40000000000000002, 'gamma': 0.04, 'degree': 3}, mean: 0.93962, std: 0.01391, params: {'kernel': 'poly', 'C': 0.40000000000000002, 'gamma': 0.05, 'degree': 3}, mean: 0.52407, std: 0.00821, params: {'kernel': 'poly', 'C': 0.40000000000000002, 'gamma': 0.01, 'degree': 4}, mean: 0.61839, std: 0.02117, params: {'kernel': 'poly', 'C': 0.40000000000000002, 'gamma': 0.02, 'degree': 4}, mean: 0.70521, std: 0.01274, params: {'kernel': 'poly', 'C': 0.40000000000000002, 'gamma': 0.03, 'degree': 4}, mean: 0.76756, std: 0.01182, params: {'kernel': 'poly', 'C': 0.40000000000000002, 'gamma': 0.04, 'degree': 4}, mean: 0.83189, std: 0.01487, params: {'kernel': 'poly', 'C': 0.40000000000000002, 'gamma': 0.05, 'degree': 4}, mean: 0.69021, std: 0.01465, params: {'kernel': 'poly', 'C': 0.5, 'gamma': 0.01, 'degree': 2}, mean: 0.81373, std: 0.01974, params: {'kernel': 'poly', 'C': 0.5, 'gamma': 0.02, 'degree': 2}, mean: 0.85399, std: 0.02018, params: {'kernel': 'poly', 'C': 0.5, 'gamma': 0.03, 'degree': 2}, mean: 0.87293, std: 0.01451, params: {'kernel': 'poly', 'C': 0.5, 'gamma': 0.04, 'degree': 2}, mean: 0.88635, std: 0.01682, params: {'kernel': 'poly', 'C': 0.5, 'gamma': 0.05, 'degree': 2}, mean: 0.88122, std: 0.02708, params: {'kernel': 'poly', 'C': 0.5, 'gamma': 0.01, 'degree': 3}, mean: 0.89108, std: 0.01345, params: {'kernel': 'poly', 'C': 0.5, 'gamma': 0.02, 'degree': 3}, mean: 0.92423, std: 0.01313, params: {'kernel': 'poly', 'C': 0.5, 'gamma': 0.03, 'degree': 3}, mean: 0.93449, std: 0.01247, params: {'kernel': 'poly', 'C': 0.5, 'gamma': 0.04, 'degree': 3}, mean: 0.94515, std: 0.01231, params: {'kernel': 'poly', 'C': 0.5, 'gamma': 0.05, 'degree': 3}, mean: 0.52486, std: 0.00869, params: {'kernel': 'poly', 'C': 0.5, 'gamma': 0.01, 'degree': 4}, mean: 0.62628, std: 0.02337, params: {'kernel': 'poly', 'C': 0.5, 'gamma': 0.02, 'degree': 4}, mean: 0.71705, std: 0.01255, params: {'kernel': 'poly', 'C': 0.5, 'gamma': 0.03, 'degree': 4}, mean: 0.78769, std: 0.01208, params: {'kernel': 'poly', 'C': 0.5, 'gamma': 0.04, 'degree': 4}, mean: 0.84294, std: 0.01226, params: {'kernel': 'poly', 'C': 0.5, 'gamma': 0.05, 'degree': 4}, mean: 0.70324, std: 0.01618, params: {'kernel': 'poly', 'C': 0.59999999999999998, 'gamma': 0.01, 'degree': 2}, mean: 0.82794, std: 0.02095, params: {'kernel': 'poly', 'C': 0.59999999999999998, 'gamma': 0.02, 'degree': 2}, mean: 0.85951, std: 0.02042, params: {'kernel': 'poly', 'C': 0.59999999999999998, 'gamma': 0.03, 'degree': 2}, mean: 0.87727, std: 0.01501, params: {'kernel': 'poly', 'C': 0.59999999999999998, 'gamma': 0.04, 'degree': 2}, mean: 0.89069, std: 0.01645, params: {'kernel': 'poly', 'C': 0.59999999999999998, 'gamma': 0.05, 'degree': 2}, mean: 0.88990, std: 0.01863, params: {'kernel': 'poly', 'C': 0.59999999999999998, 'gamma': 0.01, 'degree': 3}, mean: 0.89937, std: 0.01392, params: {'kernel': 'poly', 'C': 0.59999999999999998, 'gamma': 0.02, 'degree': 3}, mean: 0.92541, std: 0.01284, params: {'kernel': 'poly', 'C': 0.59999999999999998, 'gamma': 0.03, 'degree': 3}, mean: 0.93765, std: 0.01419, params: {'kernel': 'poly', 'C': 0.59999999999999998, 'gamma': 0.04, 'degree': 3}, mean: 0.94988, std: 0.01275, params: {'kernel': 'poly', 'C': 0.59999999999999998, 'gamma': 0.05, 'degree': 3}, mean: 0.52526, std: 0.00844, params: {'kernel': 'poly', 'C': 0.59999999999999998, 'gamma': 0.01, 'degree': 4}, mean: 0.63299, std: 0.02192, params: {'kernel': 'poly', 'C': 0.59999999999999998, 'gamma': 0.02, 'degree': 4}, mean: 0.72731, std: 0.01406, params: {'kernel': 'poly', 'C': 0.59999999999999998, 'gamma': 0.03, 'degree': 4}, mean: 0.79795, std: 0.00926, params: {'kernel': 'poly', 'C': 0.59999999999999998, 'gamma': 0.04, 'degree': 4}, mean: 0.85201, std: 0.01153, params: {'kernel': 'poly', 'C': 0.59999999999999998, 'gamma': 0.05, 'degree': 4}, mean: 0.71744, std: 0.01718, params: {'kernel': 'poly', 'C': 0.70000000000000007, 'gamma': 0.01, 'degree': 2}, mean: 0.83702, std: 0.02210, params: {'kernel': 'poly', 'C': 0.70000000000000007, 'gamma': 0.02, 'degree': 2}, mean: 0.86661, std: 0.01615, params: {'kernel': 'poly', 'C': 0.70000000000000007, 'gamma': 0.03, 'degree': 2}, mean: 0.88200, std: 0.01385, params: {'kernel': 'poly', 'C': 0.70000000000000007, 'gamma': 0.04, 'degree': 2}, mean: 0.89503, std: 0.01488, params: {'kernel': 'poly', 'C': 0.70000000000000007, 'gamma': 0.05, 'degree': 2}, mean: 0.88832, std: 0.01891, params: {'kernel': 'poly', 'C': 0.70000000000000007, 'gamma': 0.01, 'degree': 3}, mean: 0.89976, std: 0.01100, params: {'kernel': 'poly', 'C': 0.70000000000000007, 'gamma': 0.02, 'degree': 3}, mean: 0.92620, std: 0.01254, params: {'kernel': 'poly', 'C': 0.70000000000000007, 'gamma': 0.03, 'degree': 3}, mean: 0.93962, std: 0.01391, params: {'kernel': 'poly', 'C': 0.70000000000000007, 'gamma': 0.04, 'degree': 3}, mean: 0.95185, std: 0.01249, params: {'kernel': 'poly', 'C': 0.70000000000000007, 'gamma': 0.05, 'degree': 3}, mean: 0.52802, std: 0.00792, params: {'kernel': 'poly', 'C': 0.70000000000000007, 'gamma': 0.01, 'degree': 4}, mean: 0.63694, std: 0.02086, params: {'kernel': 'poly', 'C': 0.70000000000000007, 'gamma': 0.02, 'degree': 4}, mean: 0.73283, std: 0.01160, params: {'kernel': 'poly', 'C': 0.70000000000000007, 'gamma': 0.03, 'degree': 4}, mean: 0.80900, std: 0.01167, params: {'kernel': 'poly', 'C': 0.70000000000000007, 'gamma': 0.04, 'degree': 4}, mean: 0.85872, std: 0.01067, params: {'kernel': 'poly', 'C': 0.70000000000000007, 'gamma': 0.05, 'degree': 4}, mean: 0.72928, std: 0.02083, params: {'kernel': 'poly', 'C': 0.80000000000000004, 'gamma': 0.01, 'degree': 2}, mean: 0.83860, std: 0.02137, params: {'kernel': 'poly', 'C': 0.80000000000000004, 'gamma': 0.02, 'degree': 2}, mean: 0.86977, std: 0.01539, params: {'kernel': 'poly', 'C': 0.80000000000000004, 'gamma': 0.03, 'degree': 2}, mean: 0.88871, std: 0.01719, params: {'kernel': 'poly', 'C': 0.80000000000000004, 'gamma': 0.04, 'degree': 2}, mean: 0.89740, std: 0.01486, params: {'kernel': 'poly', 'C': 0.80000000000000004, 'gamma': 0.05, 'degree': 2}, mean: 0.88477, std: 0.01732, params: {'kernel': 'poly', 'C': 0.80000000000000004, 'gamma': 0.01, 'degree': 3}, mean: 0.90489, std: 0.01413, params: {'kernel': 'poly', 'C': 0.80000000000000004, 'gamma': 0.02, 'degree': 3}, mean: 0.92739, std: 0.01256, params: {'kernel': 'poly', 'C': 0.80000000000000004, 'gamma': 0.03, 'degree': 3}, mean: 0.94041, std: 0.01350, params: {'kernel': 'poly', 'C': 0.80000000000000004, 'gamma': 0.04, 'degree': 3}, mean: 0.95304, std: 0.01282, params: {'kernel': 'poly', 'C': 0.80000000000000004, 'gamma': 0.05, 'degree': 3}, mean: 0.53118, std: 0.00929, params: {'kernel': 'poly', 'C': 0.80000000000000004, 'gamma': 0.01, 'degree': 4}, mean: 0.64365, std: 0.01861, params: {'kernel': 'poly', 'C': 0.80000000000000004, 'gamma': 0.02, 'degree': 4}, mean: 0.74033, std: 0.00960, params: {'kernel': 'poly', 'C': 0.80000000000000004, 'gamma': 0.03, 'degree': 4}, mean: 0.81650, std: 0.01457, params: {'kernel': 'poly', 'C': 0.80000000000000004, 'gamma': 0.04, 'degree': 4}, mean: 0.86306, std: 0.01004, params: {'kernel': 'poly', 'C': 0.80000000000000004, 'gamma': 0.05, 'degree': 4}, mean: 0.73639, std: 0.02183, params: {'kernel': 'poly', 'C': 0.90000000000000002, 'gamma': 0.01, 'degree': 2}, mean: 0.84491, std: 0.01931, params: {'kernel': 'poly', 'C': 0.90000000000000002, 'gamma': 0.02, 'degree': 2}, mean: 0.87332, std: 0.01381, params: {'kernel': 'poly', 'C': 0.90000000000000002, 'gamma': 0.03, 'degree': 2}, mean: 0.89029, std: 0.01614, params: {'kernel': 'poly', 'C': 0.90000000000000002, 'gamma': 0.04, 'degree': 2}, mean: 0.90016, std: 0.01470, params: {'kernel': 'poly', 'C': 0.90000000000000002, 'gamma': 0.05, 'degree': 2}, mean: 0.88635, std: 0.02196, params: {'kernel': 'poly', 'C': 0.90000000000000002, 'gamma': 0.01, 'degree': 3}, mean: 0.90845, std: 0.01163, params: {'kernel': 'poly', 'C': 0.90000000000000002, 'gamma': 0.02, 'degree': 3}, mean: 0.92976, std: 0.01369, params: {'kernel': 'poly', 'C': 0.90000000000000002, 'gamma': 0.03, 'degree': 3}, mean: 0.94278, std: 0.01301, params: {'kernel': 'poly', 'C': 0.90000000000000002, 'gamma': 0.04, 'degree': 3}, mean: 0.95699, std: 0.01139, params: {'kernel': 'poly', 'C': 0.90000000000000002, 'gamma': 0.05, 'degree': 3}, mean: 0.53591, std: 0.00947, params: {'kernel': 'poly', 'C': 0.90000000000000002, 'gamma': 0.01, 'degree': 4}, mean: 0.65075, std: 0.02041, params: {'kernel': 'poly', 'C': 0.90000000000000002, 'gamma': 0.02, 'degree': 4}, mean: 0.74467, std: 0.00863, params: {'kernel': 'poly', 'C': 0.90000000000000002, 'gamma': 0.03, 'degree': 4}, mean: 0.82755, std: 0.01468, params: {'kernel': 'poly', 'C': 0.90000000000000002, 'gamma': 0.04, 'degree': 4}, mean: 0.86622, std: 0.01030, params: {'kernel': 'poly', 'C': 0.90000000000000002, 'gamma': 0.05, 'degree': 4}]\n"
     ]
    }
   ],
   "source": [
    "print(model_svm.grid_scores_)"
   ]
  },
  {
   "cell_type": "code",
   "execution_count": 47,
   "metadata": {
    "_cell_guid": "e2cb91d1-5bea-4f53-a7e0-a1ad2c966b81"
   },
   "outputs": [
    {
     "name": "stdout",
     "output_type": "stream",
     "text": [
      "{'kernel': 'poly', 'C': 0.90000000000000002, 'gamma': 0.05, 'degree': 3}\n"
     ]
    }
   ],
   "source": [
    "print(model_svm.best_params_)"
   ]
  },
  {
   "cell_type": "code",
   "execution_count": 48,
   "metadata": {
    "_cell_guid": "af4b757d-2dea-8976-4141-d6f670524fe3"
   },
   "outputs": [
    {
     "name": "stdout",
     "output_type": "stream",
     "text": [
      "0.958990536278\n"
     ]
    }
   ],
   "source": [
    "y_pred= model_svm.predict(X_test)\n",
    "print(metrics.accuracy_score(y_pred,y_test))"
   ]
  },
  {
   "cell_type": "markdown",
   "metadata": {
    "_cell_guid": "b7011956-298d-22ed-976c-2ffbf6954dd8"
   },
   "source": [
    "You can find my notebook on Github:\n",
    "(\"https://github.com/nirajvermafcb/Data-Science-with-python\")"
   ]
  }
 ],
 "metadata": {
  "_change_revision": 2,
  "_is_fork": false,
  "kernelspec": {
   "display_name": "Python 3",
   "language": "python",
   "name": "python3"
  },
  "language_info": {
   "codemirror_mode": {
    "name": "ipython",
    "version": 3
   },
   "file_extension": ".py",
   "mimetype": "text/x-python",
   "name": "python",
   "nbconvert_exporter": "python",
   "pygments_lexer": "ipython3",
   "version": "3.5.2"
  }
 },
 "nbformat": 4,
 "nbformat_minor": 0
}
