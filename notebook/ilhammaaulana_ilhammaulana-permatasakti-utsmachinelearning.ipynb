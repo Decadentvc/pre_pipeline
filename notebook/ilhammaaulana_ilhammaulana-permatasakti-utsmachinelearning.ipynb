{
 "cells": [
  {
   "cell_type": "markdown",
   "metadata": {
    "papermill": {
     "duration": 0.011964,
     "end_time": "2020-10-22T09:40:16.061398",
     "exception": false,
     "start_time": "2020-10-22T09:40:16.049434",
     "status": "completed"
    },
    "tags": []
   },
   "source": [
    "Nama : Ilham Maulana UtsMachineLearning PT:Univ Bina Insani"
   ]
  },
  {
   "cell_type": "code",
   "execution_count": 1,
   "metadata": {
    "execution": {
     "iopub.execute_input": "2020-10-22T09:40:16.090982Z",
     "iopub.status.busy": "2020-10-22T09:40:16.090170Z",
     "iopub.status.idle": "2020-10-22T09:40:16.092848Z",
     "shell.execute_reply": "2020-10-22T09:40:16.093453Z"
    },
    "papermill": {
     "duration": 0.0198,
     "end_time": "2020-10-22T09:40:16.093658",
     "exception": false,
     "start_time": "2020-10-22T09:40:16.073858",
     "status": "completed"
    },
    "tags": []
   },
   "outputs": [],
   "source": [
    "import numpy as np\n",
    "import matplotlib.pyplot as plt\n",
    "import pandas as pd"
   ]
  },
  {
   "cell_type": "code",
   "execution_count": 2,
   "metadata": {
    "execution": {
     "iopub.execute_input": "2020-10-22T09:40:16.125736Z",
     "iopub.status.busy": "2020-10-22T09:40:16.124882Z",
     "iopub.status.idle": "2020-10-22T09:40:16.140255Z",
     "shell.execute_reply": "2020-10-22T09:40:16.139443Z"
    },
    "papermill": {
     "duration": 0.035243,
     "end_time": "2020-10-22T09:40:16.140403",
     "exception": false,
     "start_time": "2020-10-22T09:40:16.105160",
     "status": "completed"
    },
    "tags": []
   },
   "outputs": [],
   "source": [
    "#mengimpor data\n",
    "dataset = pd.read_csv(\"../input/balance-scale/balance-scale.csv\")\n",
    "X = dataset.iloc[:, [2, 3]].values\n",
    "y = dataset.iloc[:, 4].values"
   ]
  },
  {
   "cell_type": "code",
   "execution_count": 3,
   "metadata": {
    "execution": {
     "iopub.execute_input": "2020-10-22T09:40:16.175704Z",
     "iopub.status.busy": "2020-10-22T09:40:16.174553Z",
     "iopub.status.idle": "2020-10-22T09:40:16.191567Z",
     "shell.execute_reply": "2020-10-22T09:40:16.192316Z"
    },
    "papermill": {
     "duration": 0.04072,
     "end_time": "2020-10-22T09:40:16.192480",
     "exception": false,
     "start_time": "2020-10-22T09:40:16.151760",
     "status": "completed"
    },
    "tags": []
   },
   "outputs": [
    {
     "data": {
      "text/html": [
       "<div>\n",
       "<style scoped>\n",
       "    .dataframe tbody tr th:only-of-type {\n",
       "        vertical-align: middle;\n",
       "    }\n",
       "\n",
       "    .dataframe tbody tr th {\n",
       "        vertical-align: top;\n",
       "    }\n",
       "\n",
       "    .dataframe thead th {\n",
       "        text-align: right;\n",
       "    }\n",
       "</style>\n",
       "<table border=\"1\" class=\"dataframe\">\n",
       "  <thead>\n",
       "    <tr style=\"text-align: right;\">\n",
       "      <th></th>\n",
       "      <th>L</th>\n",
       "      <th>R</th>\n",
       "    </tr>\n",
       "  </thead>\n",
       "  <tbody>\n",
       "    <tr>\n",
       "      <th>0</th>\n",
       "      <td>0</td>\n",
       "      <td>0</td>\n",
       "    </tr>\n",
       "    <tr>\n",
       "      <th>1</th>\n",
       "      <td>0</td>\n",
       "      <td>1</td>\n",
       "    </tr>\n",
       "    <tr>\n",
       "      <th>2</th>\n",
       "      <td>0</td>\n",
       "      <td>1</td>\n",
       "    </tr>\n",
       "    <tr>\n",
       "      <th>3</th>\n",
       "      <td>0</td>\n",
       "      <td>1</td>\n",
       "    </tr>\n",
       "    <tr>\n",
       "      <th>4</th>\n",
       "      <td>0</td>\n",
       "      <td>1</td>\n",
       "    </tr>\n",
       "    <tr>\n",
       "      <th>...</th>\n",
       "      <td>...</td>\n",
       "      <td>...</td>\n",
       "    </tr>\n",
       "    <tr>\n",
       "      <th>620</th>\n",
       "      <td>1</td>\n",
       "      <td>0</td>\n",
       "    </tr>\n",
       "    <tr>\n",
       "      <th>621</th>\n",
       "      <td>1</td>\n",
       "      <td>0</td>\n",
       "    </tr>\n",
       "    <tr>\n",
       "      <th>622</th>\n",
       "      <td>1</td>\n",
       "      <td>0</td>\n",
       "    </tr>\n",
       "    <tr>\n",
       "      <th>623</th>\n",
       "      <td>1</td>\n",
       "      <td>0</td>\n",
       "    </tr>\n",
       "    <tr>\n",
       "      <th>624</th>\n",
       "      <td>0</td>\n",
       "      <td>0</td>\n",
       "    </tr>\n",
       "  </tbody>\n",
       "</table>\n",
       "<p>625 rows × 2 columns</p>\n",
       "</div>"
      ],
      "text/plain": [
       "     L  R\n",
       "0    0  0\n",
       "1    0  1\n",
       "2    0  1\n",
       "3    0  1\n",
       "4    0  1\n",
       "..  .. ..\n",
       "620  1  0\n",
       "621  1  0\n",
       "622  1  0\n",
       "623  1  0\n",
       "624  0  0\n",
       "\n",
       "[625 rows x 2 columns]"
      ]
     },
     "execution_count": 3,
     "metadata": {},
     "output_type": "execute_result"
    }
   ],
   "source": [
    "sex = pd.get_dummies(dataset[\"Class\"], drop_first=True)\n",
    "sex"
   ]
  },
  {
   "cell_type": "code",
   "execution_count": 4,
   "metadata": {
    "execution": {
     "iopub.execute_input": "2020-10-22T09:40:16.236508Z",
     "iopub.status.busy": "2020-10-22T09:40:16.235510Z",
     "iopub.status.idle": "2020-10-22T09:40:16.240478Z",
     "shell.execute_reply": "2020-10-22T09:40:16.239727Z"
    },
    "papermill": {
     "duration": 0.03584,
     "end_time": "2020-10-22T09:40:16.240607",
     "exception": false,
     "start_time": "2020-10-22T09:40:16.204767",
     "status": "completed"
    },
    "tags": []
   },
   "outputs": [
    {
     "data": {
      "text/html": [
       "<div>\n",
       "<style scoped>\n",
       "    .dataframe tbody tr th:only-of-type {\n",
       "        vertical-align: middle;\n",
       "    }\n",
       "\n",
       "    .dataframe tbody tr th {\n",
       "        vertical-align: top;\n",
       "    }\n",
       "\n",
       "    .dataframe thead th {\n",
       "        text-align: right;\n",
       "    }\n",
       "</style>\n",
       "<table border=\"1\" class=\"dataframe\">\n",
       "  <thead>\n",
       "    <tr style=\"text-align: right;\">\n",
       "      <th></th>\n",
       "      <th>Class</th>\n",
       "      <th>L-Weight</th>\n",
       "      <th>L-Distance</th>\n",
       "      <th>R-Weight</th>\n",
       "      <th>R-Distance</th>\n",
       "      <th>L</th>\n",
       "      <th>R</th>\n",
       "    </tr>\n",
       "  </thead>\n",
       "  <tbody>\n",
       "    <tr>\n",
       "      <th>0</th>\n",
       "      <td>B</td>\n",
       "      <td>1</td>\n",
       "      <td>1</td>\n",
       "      <td>1</td>\n",
       "      <td>1</td>\n",
       "      <td>0</td>\n",
       "      <td>0</td>\n",
       "    </tr>\n",
       "    <tr>\n",
       "      <th>1</th>\n",
       "      <td>R</td>\n",
       "      <td>1</td>\n",
       "      <td>1</td>\n",
       "      <td>1</td>\n",
       "      <td>2</td>\n",
       "      <td>0</td>\n",
       "      <td>1</td>\n",
       "    </tr>\n",
       "    <tr>\n",
       "      <th>2</th>\n",
       "      <td>R</td>\n",
       "      <td>1</td>\n",
       "      <td>1</td>\n",
       "      <td>1</td>\n",
       "      <td>3</td>\n",
       "      <td>0</td>\n",
       "      <td>1</td>\n",
       "    </tr>\n",
       "    <tr>\n",
       "      <th>3</th>\n",
       "      <td>R</td>\n",
       "      <td>1</td>\n",
       "      <td>1</td>\n",
       "      <td>1</td>\n",
       "      <td>4</td>\n",
       "      <td>0</td>\n",
       "      <td>1</td>\n",
       "    </tr>\n",
       "    <tr>\n",
       "      <th>4</th>\n",
       "      <td>R</td>\n",
       "      <td>1</td>\n",
       "      <td>1</td>\n",
       "      <td>1</td>\n",
       "      <td>5</td>\n",
       "      <td>0</td>\n",
       "      <td>1</td>\n",
       "    </tr>\n",
       "    <tr>\n",
       "      <th>...</th>\n",
       "      <td>...</td>\n",
       "      <td>...</td>\n",
       "      <td>...</td>\n",
       "      <td>...</td>\n",
       "      <td>...</td>\n",
       "      <td>...</td>\n",
       "      <td>...</td>\n",
       "    </tr>\n",
       "    <tr>\n",
       "      <th>620</th>\n",
       "      <td>L</td>\n",
       "      <td>5</td>\n",
       "      <td>5</td>\n",
       "      <td>5</td>\n",
       "      <td>1</td>\n",
       "      <td>1</td>\n",
       "      <td>0</td>\n",
       "    </tr>\n",
       "    <tr>\n",
       "      <th>621</th>\n",
       "      <td>L</td>\n",
       "      <td>5</td>\n",
       "      <td>5</td>\n",
       "      <td>5</td>\n",
       "      <td>2</td>\n",
       "      <td>1</td>\n",
       "      <td>0</td>\n",
       "    </tr>\n",
       "    <tr>\n",
       "      <th>622</th>\n",
       "      <td>L</td>\n",
       "      <td>5</td>\n",
       "      <td>5</td>\n",
       "      <td>5</td>\n",
       "      <td>3</td>\n",
       "      <td>1</td>\n",
       "      <td>0</td>\n",
       "    </tr>\n",
       "    <tr>\n",
       "      <th>623</th>\n",
       "      <td>L</td>\n",
       "      <td>5</td>\n",
       "      <td>5</td>\n",
       "      <td>5</td>\n",
       "      <td>4</td>\n",
       "      <td>1</td>\n",
       "      <td>0</td>\n",
       "    </tr>\n",
       "    <tr>\n",
       "      <th>624</th>\n",
       "      <td>B</td>\n",
       "      <td>5</td>\n",
       "      <td>5</td>\n",
       "      <td>5</td>\n",
       "      <td>5</td>\n",
       "      <td>0</td>\n",
       "      <td>0</td>\n",
       "    </tr>\n",
       "  </tbody>\n",
       "</table>\n",
       "<p>625 rows × 7 columns</p>\n",
       "</div>"
      ],
      "text/plain": [
       "    Class  L-Weight  L-Distance  R-Weight  R-Distance  L  R\n",
       "0       B         1           1         1           1  0  0\n",
       "1       R         1           1         1           2  0  1\n",
       "2       R         1           1         1           3  0  1\n",
       "3       R         1           1         1           4  0  1\n",
       "4       R         1           1         1           5  0  1\n",
       "..    ...       ...         ...       ...         ... .. ..\n",
       "620     L         5           5         5           1  1  0\n",
       "621     L         5           5         5           2  1  0\n",
       "622     L         5           5         5           3  1  0\n",
       "623     L         5           5         5           4  1  0\n",
       "624     B         5           5         5           5  0  0\n",
       "\n",
       "[625 rows x 7 columns]"
      ]
     },
     "execution_count": 4,
     "metadata": {},
     "output_type": "execute_result"
    }
   ],
   "source": [
    "dataset =pd.concat([dataset, sex], axis=1)\n",
    "dataset"
   ]
  },
  {
   "cell_type": "code",
   "execution_count": 5,
   "metadata": {
    "execution": {
     "iopub.execute_input": "2020-10-22T09:40:16.284485Z",
     "iopub.status.busy": "2020-10-22T09:40:16.283552Z",
     "iopub.status.idle": "2020-10-22T09:40:16.288488Z",
     "shell.execute_reply": "2020-10-22T09:40:16.287740Z"
    },
    "papermill": {
     "duration": 0.03489,
     "end_time": "2020-10-22T09:40:16.288613",
     "exception": false,
     "start_time": "2020-10-22T09:40:16.253723",
     "status": "completed"
    },
    "tags": []
   },
   "outputs": [
    {
     "data": {
      "text/html": [
       "<div>\n",
       "<style scoped>\n",
       "    .dataframe tbody tr th:only-of-type {\n",
       "        vertical-align: middle;\n",
       "    }\n",
       "\n",
       "    .dataframe tbody tr th {\n",
       "        vertical-align: top;\n",
       "    }\n",
       "\n",
       "    .dataframe thead th {\n",
       "        text-align: right;\n",
       "    }\n",
       "</style>\n",
       "<table border=\"1\" class=\"dataframe\">\n",
       "  <thead>\n",
       "    <tr style=\"text-align: right;\">\n",
       "      <th></th>\n",
       "      <th>L-Weight</th>\n",
       "      <th>L-Distance</th>\n",
       "      <th>R-Weight</th>\n",
       "      <th>R-Distance</th>\n",
       "      <th>L</th>\n",
       "      <th>R</th>\n",
       "    </tr>\n",
       "  </thead>\n",
       "  <tbody>\n",
       "    <tr>\n",
       "      <th>0</th>\n",
       "      <td>1</td>\n",
       "      <td>1</td>\n",
       "      <td>1</td>\n",
       "      <td>1</td>\n",
       "      <td>0</td>\n",
       "      <td>0</td>\n",
       "    </tr>\n",
       "    <tr>\n",
       "      <th>1</th>\n",
       "      <td>1</td>\n",
       "      <td>1</td>\n",
       "      <td>1</td>\n",
       "      <td>2</td>\n",
       "      <td>0</td>\n",
       "      <td>1</td>\n",
       "    </tr>\n",
       "    <tr>\n",
       "      <th>2</th>\n",
       "      <td>1</td>\n",
       "      <td>1</td>\n",
       "      <td>1</td>\n",
       "      <td>3</td>\n",
       "      <td>0</td>\n",
       "      <td>1</td>\n",
       "    </tr>\n",
       "    <tr>\n",
       "      <th>3</th>\n",
       "      <td>1</td>\n",
       "      <td>1</td>\n",
       "      <td>1</td>\n",
       "      <td>4</td>\n",
       "      <td>0</td>\n",
       "      <td>1</td>\n",
       "    </tr>\n",
       "    <tr>\n",
       "      <th>4</th>\n",
       "      <td>1</td>\n",
       "      <td>1</td>\n",
       "      <td>1</td>\n",
       "      <td>5</td>\n",
       "      <td>0</td>\n",
       "      <td>1</td>\n",
       "    </tr>\n",
       "    <tr>\n",
       "      <th>...</th>\n",
       "      <td>...</td>\n",
       "      <td>...</td>\n",
       "      <td>...</td>\n",
       "      <td>...</td>\n",
       "      <td>...</td>\n",
       "      <td>...</td>\n",
       "    </tr>\n",
       "    <tr>\n",
       "      <th>620</th>\n",
       "      <td>5</td>\n",
       "      <td>5</td>\n",
       "      <td>5</td>\n",
       "      <td>1</td>\n",
       "      <td>1</td>\n",
       "      <td>0</td>\n",
       "    </tr>\n",
       "    <tr>\n",
       "      <th>621</th>\n",
       "      <td>5</td>\n",
       "      <td>5</td>\n",
       "      <td>5</td>\n",
       "      <td>2</td>\n",
       "      <td>1</td>\n",
       "      <td>0</td>\n",
       "    </tr>\n",
       "    <tr>\n",
       "      <th>622</th>\n",
       "      <td>5</td>\n",
       "      <td>5</td>\n",
       "      <td>5</td>\n",
       "      <td>3</td>\n",
       "      <td>1</td>\n",
       "      <td>0</td>\n",
       "    </tr>\n",
       "    <tr>\n",
       "      <th>623</th>\n",
       "      <td>5</td>\n",
       "      <td>5</td>\n",
       "      <td>5</td>\n",
       "      <td>4</td>\n",
       "      <td>1</td>\n",
       "      <td>0</td>\n",
       "    </tr>\n",
       "    <tr>\n",
       "      <th>624</th>\n",
       "      <td>5</td>\n",
       "      <td>5</td>\n",
       "      <td>5</td>\n",
       "      <td>5</td>\n",
       "      <td>0</td>\n",
       "      <td>0</td>\n",
       "    </tr>\n",
       "  </tbody>\n",
       "</table>\n",
       "<p>625 rows × 6 columns</p>\n",
       "</div>"
      ],
      "text/plain": [
       "     L-Weight  L-Distance  R-Weight  R-Distance  L  R\n",
       "0           1           1         1           1  0  0\n",
       "1           1           1         1           2  0  1\n",
       "2           1           1         1           3  0  1\n",
       "3           1           1         1           4  0  1\n",
       "4           1           1         1           5  0  1\n",
       "..        ...         ...       ...         ... .. ..\n",
       "620         5           5         5           1  1  0\n",
       "621         5           5         5           2  1  0\n",
       "622         5           5         5           3  1  0\n",
       "623         5           5         5           4  1  0\n",
       "624         5           5         5           5  0  0\n",
       "\n",
       "[625 rows x 6 columns]"
      ]
     },
     "execution_count": 5,
     "metadata": {},
     "output_type": "execute_result"
    }
   ],
   "source": [
    "dataset.drop(\"Class\",axis=1 ,inplace=True)\n",
    "dataset"
   ]
  },
  {
   "cell_type": "code",
   "execution_count": 6,
   "metadata": {
    "execution": {
     "iopub.execute_input": "2020-10-22T09:40:16.322525Z",
     "iopub.status.busy": "2020-10-22T09:40:16.321679Z",
     "iopub.status.idle": "2020-10-22T09:40:17.486066Z",
     "shell.execute_reply": "2020-10-22T09:40:17.485338Z"
    },
    "papermill": {
     "duration": 1.183689,
     "end_time": "2020-10-22T09:40:17.486221",
     "exception": false,
     "start_time": "2020-10-22T09:40:16.302532",
     "status": "completed"
    },
    "tags": []
   },
   "outputs": [],
   "source": [
    "#membagi dataset menjadi training set and test set\n",
    "from sklearn.model_selection import train_test_split\n",
    "X_train, X_test, y_train, y_test = train_test_split(X, y, test_size=0.25, random_state=0)"
   ]
  },
  {
   "cell_type": "code",
   "execution_count": 7,
   "metadata": {
    "execution": {
     "iopub.execute_input": "2020-10-22T09:40:17.522022Z",
     "iopub.status.busy": "2020-10-22T09:40:17.520694Z",
     "iopub.status.idle": "2020-10-22T09:40:17.525702Z",
     "shell.execute_reply": "2020-10-22T09:40:17.525066Z"
    },
    "papermill": {
     "duration": 0.025483,
     "end_time": "2020-10-22T09:40:17.525839",
     "exception": false,
     "start_time": "2020-10-22T09:40:17.500356",
     "status": "completed"
    },
    "tags": []
   },
   "outputs": [],
   "source": [
    "#Featue Scalling\n",
    "from sklearn.preprocessing import StandardScaler\n",
    "sc = StandardScaler()\n",
    "X_train = sc.fit_transform(X_train)\n",
    "X_test = sc.transform(X_test)"
   ]
  },
  {
   "cell_type": "code",
   "execution_count": 8,
   "metadata": {
    "execution": {
     "iopub.execute_input": "2020-10-22T09:40:17.562318Z",
     "iopub.status.busy": "2020-10-22T09:40:17.561483Z",
     "iopub.status.idle": "2020-10-22T09:40:17.744570Z",
     "shell.execute_reply": "2020-10-22T09:40:17.743885Z"
    },
    "papermill": {
     "duration": 0.204616,
     "end_time": "2020-10-22T09:40:17.744700",
     "exception": false,
     "start_time": "2020-10-22T09:40:17.540084",
     "status": "completed"
    },
    "tags": []
   },
   "outputs": [
    {
     "data": {
      "text/plain": [
       "KNeighborsClassifier()"
      ]
     },
     "execution_count": 8,
     "metadata": {},
     "output_type": "execute_result"
    }
   ],
   "source": [
    "#membuat model K-NN\n",
    "from sklearn.neighbors import KNeighborsClassifier\n",
    "classifier = KNeighborsClassifier(n_neighbors = 5, metric = 'minkowski',p=2)\n",
    "classifier.fit(X_train, y_train)\n",
    "\n"
   ]
  },
  {
   "cell_type": "code",
   "execution_count": 9,
   "metadata": {
    "execution": {
     "iopub.execute_input": "2020-10-22T09:40:17.780607Z",
     "iopub.status.busy": "2020-10-22T09:40:17.779814Z",
     "iopub.status.idle": "2020-10-22T09:40:17.791347Z",
     "shell.execute_reply": "2020-10-22T09:40:17.790667Z"
    },
    "papermill": {
     "duration": 0.031871,
     "end_time": "2020-10-22T09:40:17.791482",
     "exception": false,
     "start_time": "2020-10-22T09:40:17.759611",
     "status": "completed"
    },
    "tags": []
   },
   "outputs": [],
   "source": [
    "# Memprediksi Test set\n",
    "y_pred = classifier.predict(X_test)"
   ]
  },
  {
   "cell_type": "code",
   "execution_count": 10,
   "metadata": {
    "execution": {
     "iopub.execute_input": "2020-10-22T09:40:17.828820Z",
     "iopub.status.busy": "2020-10-22T09:40:17.827036Z",
     "iopub.status.idle": "2020-10-22T09:40:17.832011Z",
     "shell.execute_reply": "2020-10-22T09:40:17.832619Z"
    },
    "papermill": {
     "duration": 0.026412,
     "end_time": "2020-10-22T09:40:17.832794",
     "exception": false,
     "start_time": "2020-10-22T09:40:17.806382",
     "status": "completed"
    },
    "tags": []
   },
   "outputs": [],
   "source": [
    "# Membuat Confusion Matrix\n",
    "from sklearn.metrics import confusion_matrix\n",
    "cm = confusion_matrix(y_test, y_pred)"
   ]
  },
  {
   "cell_type": "code",
   "execution_count": 11,
   "metadata": {
    "execution": {
     "iopub.execute_input": "2020-10-22T09:40:17.879416Z",
     "iopub.status.busy": "2020-10-22T09:40:17.877324Z",
     "iopub.status.idle": "2020-10-22T09:40:27.756620Z",
     "shell.execute_reply": "2020-10-22T09:40:27.755831Z"
    },
    "papermill": {
     "duration": 9.908563,
     "end_time": "2020-10-22T09:40:27.756749",
     "exception": false,
     "start_time": "2020-10-22T09:40:17.848186",
     "status": "completed"
    },
    "tags": []
   },
   "outputs": [
    {
     "data": {
      "image/png": "[encoded data removed]",
      "text/plain": [
       "<Figure size 432x288 with 1 Axes>"
      ]
     },
     "metadata": {
      "needs_background": "light"
     },
     "output_type": "display_data"
    }
   ],
   "source": [
    "# Visualisasi hasil Training set\n",
    "from matplotlib.colors import ListedColormap\n",
    "X_set, y_set = X_train, y_train\n",
    "X1, X2 = np.meshgrid(np.arange(start = X_set[:, 0].min() - 1, stop =\n",
    "X_set[:, 0].max() + 1, step = 0.01),\n",
    " np.arange(start = X_set[:, 1].min() - 1, stop =\n",
    "X_set[:, 1].max() + 1, step = 0.01))\n",
    "plt.contourf(X1, X2, classifier.predict(np.array([X1.ravel(),\n",
    "X2.ravel()]).T).reshape(X1.shape),\n",
    " alpha = 0.75, cmap = ListedColormap(('red', 'green')))\n",
    "plt.xlim(X1.min(), X1.max())\n",
    "plt.ylim(X2.min(), X2.max())\n",
    "for i, j in enumerate(np.unique(y_set)):\n",
    " plt.scatter(X_set[y_set == j, 0], X_set[y_set == j, 1],\n",
    " c = ListedColormap(('red', 'green'))(i), label = j)\n",
    "plt.title('K-NN (Training set)')\n",
    "plt.xlabel('Class')\n",
    "plt.ylabel('Skala Keseimbangan')\n",
    "plt.legend()\n",
    "plt.show()"
   ]
  },
  {
   "cell_type": "code",
   "execution_count": 12,
   "metadata": {
    "execution": {
     "iopub.execute_input": "2020-10-22T09:40:27.805462Z",
     "iopub.status.busy": "2020-10-22T09:40:27.804624Z",
     "iopub.status.idle": "2020-10-22T09:40:37.619177Z",
     "shell.execute_reply": "2020-10-22T09:40:37.618568Z"
    },
    "papermill": {
     "duration": 9.846329,
     "end_time": "2020-10-22T09:40:37.619315",
     "exception": false,
     "start_time": "2020-10-22T09:40:27.772986",
     "status": "completed"
    },
    "tags": []
   },
   "outputs": [
    {
     "data": {
      "image/png": "[encoded data removed]",
      "text/plain": [
       "<Figure size 432x288 with 1 Axes>"
      ]
     },
     "metadata": {
      "needs_background": "light"
     },
     "output_type": "display_data"
    }
   ],
   "source": [
    "# Visualisasi hasil Test set\n",
    "from matplotlib.colors import ListedColormap\n",
    "X_set, y_set = X_test, y_test\n",
    "X1, X2 = np.meshgrid(np.arange(start = X_set[:, 0].min() - 1, stop =\n",
    "X_set[:, 0].max() + 1, step = 0.01),\n",
    " np.arange(start = X_set[:, 1].min() - 1, stop =\n",
    "X_set[:, 1].max() + 1, step = 0.01))\n",
    "plt.contourf(X1, X2, classifier.predict(np.array([X1.ravel(),\n",
    "X2.ravel()]).T).reshape(X1.shape),\n",
    " alpha = 0.75, cmap = ListedColormap(('red', 'green')))\n",
    "plt.xlim(X1.min(), X1.max())\n",
    "plt.ylim(X2.min(), X2.max())\n",
    "for i, j in enumerate(np.unique(y_set)):\n",
    " plt.scatter(X_set[y_set == j, 0], X_set[y_set == j, 1],\n",
    " c = ListedColormap(('red', 'green'))(i), label = j)\n",
    "plt.title('K-NN (Test set)')\n",
    "plt.xlabel('Class')\n",
    "plt.ylabel('Skala keseimbangan')\n",
    "plt.legend()\n",
    "plt.show()"
   ]
  }
 ],
 "metadata": {
  "kernelspec": {
   "display_name": "Python 3",
   "language": "python",
   "name": "python3"
  },
  "language_info": {
   "codemirror_mode": {
    "name": "ipython",
    "version": 3
   },
   "file_extension": ".py",
   "mimetype": "text/x-python",
   "name": "python",
   "nbconvert_exporter": "python",
   "pygments_lexer": "ipython3",
   "version": "3.7.6"
  },
  "papermill": {
   "duration": 26.874112,
   "end_time": "2020-10-22T09:40:37.745846",
   "environment_variables": {},
   "exception": null,
   "input_path": "__notebook__.ipynb",
   "output_path": "__notebook__.ipynb",
   "parameters": {},
   "start_time": "2020-10-22T09:40:10.871734",
   "version": "2.1.0"
  }
 },
 "nbformat": 4,
 "nbformat_minor": 4
}
