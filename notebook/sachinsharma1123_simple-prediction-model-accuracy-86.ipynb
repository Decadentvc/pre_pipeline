{
 "cells": [
  {
   "cell_type": "code",
   "execution_count": 1,
   "metadata": {
    "_cell_guid": "b1076dfc-b9ad-4769-8c92-a6c4dae69d19",
    "_uuid": "8f2839f25d086af736a60e9eeb907d3b93b6e0e5",
    "execution": {
     "iopub.execute_input": "2020-08-14T06:56:31.890281Z",
     "iopub.status.busy": "2020-08-14T06:56:31.889645Z",
     "iopub.status.idle": "2020-08-14T06:56:31.897102Z",
     "shell.execute_reply": "2020-08-14T06:56:31.896096Z"
    },
    "papermill": {
     "duration": 0.027529,
     "end_time": "2020-08-14T06:56:31.897271",
     "exception": false,
     "start_time": "2020-08-14T06:56:31.869742",
     "status": "completed"
    },
    "tags": []
   },
   "outputs": [
    {
     "name": "stdout",
     "output_type": "stream",
     "text": [
      "/kaggle/input/heart-disease-uci/heart.csv\n"
     ]
    }
   ],
   "source": [
    "# This Python 3 environment comes with many helpful analytics libraries installed\n",
    "# It is defined by the kaggle/python Docker image: https://github.com/kaggle/docker-python\n",
    "# For example, here's several helpful packages to load\n",
    "\n",
    "import numpy as np # linear algebra\n",
    "import pandas as pd # data processing, CSV file I/O (e.g. pd.read_csv)\n",
    "\n",
    "# Input data files are available in the read-only \"../input/\" directory\n",
    "# For example, running this (by clicking run or pressing Shift+Enter) will list all files under the input directory\n",
    "\n",
    "import os\n",
    "for dirname, _, filenames in os.walk('/kaggle/input'):\n",
    "    for filename in filenames:\n",
    "        print(os.path.join(dirname, filename))\n",
    "\n",
    "# You can write up to 5GB to the current directory (/kaggle/working/) that gets preserved as output when you create a version using \"Save & Run All\" \n",
    "# You can also write temporary files to /kaggle/temp/, but they won't be saved outside of the current session"
   ]
  },
  {
   "cell_type": "code",
   "execution_count": 2,
   "metadata": {
    "execution": {
     "iopub.execute_input": "2020-08-14T06:56:31.932932Z",
     "iopub.status.busy": "2020-08-14T06:56:31.932129Z",
     "iopub.status.idle": "2020-08-14T06:56:31.942867Z",
     "shell.execute_reply": "2020-08-14T06:56:31.942237Z"
    },
    "papermill": {
     "duration": 0.030835,
     "end_time": "2020-08-14T06:56:31.942975",
     "exception": false,
     "start_time": "2020-08-14T06:56:31.912140",
     "status": "completed"
    },
    "tags": []
   },
   "outputs": [],
   "source": [
    "df=pd.read_csv('/kaggle/input/heart-disease-uci/heart.csv')"
   ]
  },
  {
   "cell_type": "code",
   "execution_count": 3,
   "metadata": {
    "_cell_guid": "79c7e3d0-c299-4dcb-8224-4455121ee9b0",
    "_uuid": "d629ff2d2480ee46fbb7e2d37f6b5fab8052498a",
    "execution": {
     "iopub.execute_input": "2020-08-14T06:56:31.991905Z",
     "iopub.status.busy": "2020-08-14T06:56:31.990983Z",
     "iopub.status.idle": "2020-08-14T06:56:32.003238Z",
     "shell.execute_reply": "2020-08-14T06:56:32.002764Z"
    },
    "papermill": {
     "duration": 0.046577,
     "end_time": "2020-08-14T06:56:32.003349",
     "exception": false,
     "start_time": "2020-08-14T06:56:31.956772",
     "status": "completed"
    },
    "tags": []
   },
   "outputs": [
    {
     "data": {
      "text/html": [
       "<div>\n",
       "<style scoped>\n",
       "    .dataframe tbody tr th:only-of-type {\n",
       "        vertical-align: middle;\n",
       "    }\n",
       "\n",
       "    .dataframe tbody tr th {\n",
       "        vertical-align: top;\n",
       "    }\n",
       "\n",
       "    .dataframe thead th {\n",
       "        text-align: right;\n",
       "    }\n",
       "</style>\n",
       "<table border=\"1\" class=\"dataframe\">\n",
       "  <thead>\n",
       "    <tr style=\"text-align: right;\">\n",
       "      <th></th>\n",
       "      <th>age</th>\n",
       "      <th>sex</th>\n",
       "      <th>cp</th>\n",
       "      <th>trestbps</th>\n",
       "      <th>chol</th>\n",
       "      <th>fbs</th>\n",
       "      <th>restecg</th>\n",
       "      <th>thalach</th>\n",
       "      <th>exang</th>\n",
       "      <th>oldpeak</th>\n",
       "      <th>slope</th>\n",
       "      <th>ca</th>\n",
       "      <th>thal</th>\n",
       "      <th>target</th>\n",
       "    </tr>\n",
       "  </thead>\n",
       "  <tbody>\n",
       "    <tr>\n",
       "      <th>0</th>\n",
       "      <td>63</td>\n",
       "      <td>1</td>\n",
       "      <td>3</td>\n",
       "      <td>145</td>\n",
       "      <td>233</td>\n",
       "      <td>1</td>\n",
       "      <td>0</td>\n",
       "      <td>150</td>\n",
       "      <td>0</td>\n",
       "      <td>2.3</td>\n",
       "      <td>0</td>\n",
       "      <td>0</td>\n",
       "      <td>1</td>\n",
       "      <td>1</td>\n",
       "    </tr>\n",
       "    <tr>\n",
       "      <th>1</th>\n",
       "      <td>37</td>\n",
       "      <td>1</td>\n",
       "      <td>2</td>\n",
       "      <td>130</td>\n",
       "      <td>250</td>\n",
       "      <td>0</td>\n",
       "      <td>1</td>\n",
       "      <td>187</td>\n",
       "      <td>0</td>\n",
       "      <td>3.5</td>\n",
       "      <td>0</td>\n",
       "      <td>0</td>\n",
       "      <td>2</td>\n",
       "      <td>1</td>\n",
       "    </tr>\n",
       "    <tr>\n",
       "      <th>2</th>\n",
       "      <td>41</td>\n",
       "      <td>0</td>\n",
       "      <td>1</td>\n",
       "      <td>130</td>\n",
       "      <td>204</td>\n",
       "      <td>0</td>\n",
       "      <td>0</td>\n",
       "      <td>172</td>\n",
       "      <td>0</td>\n",
       "      <td>1.4</td>\n",
       "      <td>2</td>\n",
       "      <td>0</td>\n",
       "      <td>2</td>\n",
       "      <td>1</td>\n",
       "    </tr>\n",
       "    <tr>\n",
       "      <th>3</th>\n",
       "      <td>56</td>\n",
       "      <td>1</td>\n",
       "      <td>1</td>\n",
       "      <td>120</td>\n",
       "      <td>236</td>\n",
       "      <td>0</td>\n",
       "      <td>1</td>\n",
       "      <td>178</td>\n",
       "      <td>0</td>\n",
       "      <td>0.8</td>\n",
       "      <td>2</td>\n",
       "      <td>0</td>\n",
       "      <td>2</td>\n",
       "      <td>1</td>\n",
       "    </tr>\n",
       "    <tr>\n",
       "      <th>4</th>\n",
       "      <td>57</td>\n",
       "      <td>0</td>\n",
       "      <td>0</td>\n",
       "      <td>120</td>\n",
       "      <td>354</td>\n",
       "      <td>0</td>\n",
       "      <td>1</td>\n",
       "      <td>163</td>\n",
       "      <td>1</td>\n",
       "      <td>0.6</td>\n",
       "      <td>2</td>\n",
       "      <td>0</td>\n",
       "      <td>2</td>\n",
       "      <td>1</td>\n",
       "    </tr>\n",
       "    <tr>\n",
       "      <th>...</th>\n",
       "      <td>...</td>\n",
       "      <td>...</td>\n",
       "      <td>...</td>\n",
       "      <td>...</td>\n",
       "      <td>...</td>\n",
       "      <td>...</td>\n",
       "      <td>...</td>\n",
       "      <td>...</td>\n",
       "      <td>...</td>\n",
       "      <td>...</td>\n",
       "      <td>...</td>\n",
       "      <td>...</td>\n",
       "      <td>...</td>\n",
       "      <td>...</td>\n",
       "    </tr>\n",
       "    <tr>\n",
       "      <th>298</th>\n",
       "      <td>57</td>\n",
       "      <td>0</td>\n",
       "      <td>0</td>\n",
       "      <td>140</td>\n",
       "      <td>241</td>\n",
       "      <td>0</td>\n",
       "      <td>1</td>\n",
       "      <td>123</td>\n",
       "      <td>1</td>\n",
       "      <td>0.2</td>\n",
       "      <td>1</td>\n",
       "      <td>0</td>\n",
       "      <td>3</td>\n",
       "      <td>0</td>\n",
       "    </tr>\n",
       "    <tr>\n",
       "      <th>299</th>\n",
       "      <td>45</td>\n",
       "      <td>1</td>\n",
       "      <td>3</td>\n",
       "      <td>110</td>\n",
       "      <td>264</td>\n",
       "      <td>0</td>\n",
       "      <td>1</td>\n",
       "      <td>132</td>\n",
       "      <td>0</td>\n",
       "      <td>1.2</td>\n",
       "      <td>1</td>\n",
       "      <td>0</td>\n",
       "      <td>3</td>\n",
       "      <td>0</td>\n",
       "    </tr>\n",
       "    <tr>\n",
       "      <th>300</th>\n",
       "      <td>68</td>\n",
       "      <td>1</td>\n",
       "      <td>0</td>\n",
       "      <td>144</td>\n",
       "      <td>193</td>\n",
       "      <td>1</td>\n",
       "      <td>1</td>\n",
       "      <td>141</td>\n",
       "      <td>0</td>\n",
       "      <td>3.4</td>\n",
       "      <td>1</td>\n",
       "      <td>2</td>\n",
       "      <td>3</td>\n",
       "      <td>0</td>\n",
       "    </tr>\n",
       "    <tr>\n",
       "      <th>301</th>\n",
       "      <td>57</td>\n",
       "      <td>1</td>\n",
       "      <td>0</td>\n",
       "      <td>130</td>\n",
       "      <td>131</td>\n",
       "      <td>0</td>\n",
       "      <td>1</td>\n",
       "      <td>115</td>\n",
       "      <td>1</td>\n",
       "      <td>1.2</td>\n",
       "      <td>1</td>\n",
       "      <td>1</td>\n",
       "      <td>3</td>\n",
       "      <td>0</td>\n",
       "    </tr>\n",
       "    <tr>\n",
       "      <th>302</th>\n",
       "      <td>57</td>\n",
       "      <td>0</td>\n",
       "      <td>1</td>\n",
       "      <td>130</td>\n",
       "      <td>236</td>\n",
       "      <td>0</td>\n",
       "      <td>0</td>\n",
       "      <td>174</td>\n",
       "      <td>0</td>\n",
       "      <td>0.0</td>\n",
       "      <td>1</td>\n",
       "      <td>1</td>\n",
       "      <td>2</td>\n",
       "      <td>0</td>\n",
       "    </tr>\n",
       "  </tbody>\n",
       "</table>\n",
       "<p>303 rows × 14 columns</p>\n",
       "</div>"
      ],
      "text/plain": [
       "     age  sex  cp  trestbps  chol  fbs  restecg  thalach  exang  oldpeak  \\\n",
       "0     63    1   3       145   233    1        0      150      0      2.3   \n",
       "1     37    1   2       130   250    0        1      187      0      3.5   \n",
       "2     41    0   1       130   204    0        0      172      0      1.4   \n",
       "3     56    1   1       120   236    0        1      178      0      0.8   \n",
       "4     57    0   0       120   354    0        1      163      1      0.6   \n",
       "..   ...  ...  ..       ...   ...  ...      ...      ...    ...      ...   \n",
       "298   57    0   0       140   241    0        1      123      1      0.2   \n",
       "299   45    1   3       110   264    0        1      132      0      1.2   \n",
       "300   68    1   0       144   193    1        1      141      0      3.4   \n",
       "301   57    1   0       130   131    0        1      115      1      1.2   \n",
       "302   57    0   1       130   236    0        0      174      0      0.0   \n",
       "\n",
       "     slope  ca  thal  target  \n",
       "0        0   0     1       1  \n",
       "1        0   0     2       1  \n",
       "2        2   0     2       1  \n",
       "3        2   0     2       1  \n",
       "4        2   0     2       1  \n",
       "..     ...  ..   ...     ...  \n",
       "298      1   0     3       0  \n",
       "299      1   0     3       0  \n",
       "300      1   2     3       0  \n",
       "301      1   1     3       0  \n",
       "302      1   1     2       0  \n",
       "\n",
       "[303 rows x 14 columns]"
      ]
     },
     "execution_count": 3,
     "metadata": {},
     "output_type": "execute_result"
    }
   ],
   "source": [
    "df"
   ]
  },
  {
   "cell_type": "code",
   "execution_count": 4,
   "metadata": {
    "execution": {
     "iopub.execute_input": "2020-08-14T06:56:32.040713Z",
     "iopub.status.busy": "2020-08-14T06:56:32.039779Z",
     "iopub.status.idle": "2020-08-14T06:56:32.043590Z",
     "shell.execute_reply": "2020-08-14T06:56:32.042958Z"
    },
    "papermill": {
     "duration": 0.02566,
     "end_time": "2020-08-14T06:56:32.043717",
     "exception": false,
     "start_time": "2020-08-14T06:56:32.018057",
     "status": "completed"
    },
    "tags": []
   },
   "outputs": [
    {
     "data": {
      "text/plain": [
       "age         0\n",
       "sex         0\n",
       "cp          0\n",
       "trestbps    0\n",
       "chol        0\n",
       "fbs         0\n",
       "restecg     0\n",
       "thalach     0\n",
       "exang       0\n",
       "oldpeak     0\n",
       "slope       0\n",
       "ca          0\n",
       "thal        0\n",
       "target      0\n",
       "dtype: int64"
      ]
     },
     "execution_count": 4,
     "metadata": {},
     "output_type": "execute_result"
    }
   ],
   "source": [
    "df.isnull().sum()"
   ]
  },
  {
   "cell_type": "code",
   "execution_count": 5,
   "metadata": {
    "execution": {
     "iopub.execute_input": "2020-08-14T06:56:32.086962Z",
     "iopub.status.busy": "2020-08-14T06:56:32.085946Z",
     "iopub.status.idle": "2020-08-14T06:56:32.090310Z",
     "shell.execute_reply": "2020-08-14T06:56:32.089721Z"
    },
    "papermill": {
     "duration": 0.028481,
     "end_time": "2020-08-14T06:56:32.090416",
     "exception": false,
     "start_time": "2020-08-14T06:56:32.061935",
     "status": "completed"
    },
    "tags": []
   },
   "outputs": [
    {
     "data": {
      "text/plain": [
       "1    165\n",
       "0    138\n",
       "Name: target, dtype: int64"
      ]
     },
     "execution_count": 5,
     "metadata": {},
     "output_type": "execute_result"
    }
   ],
   "source": [
    "df['target'].value_counts()"
   ]
  },
  {
   "cell_type": "code",
   "execution_count": 6,
   "metadata": {
    "execution": {
     "iopub.execute_input": "2020-08-14T06:56:32.126414Z",
     "iopub.status.busy": "2020-08-14T06:56:32.125691Z",
     "iopub.status.idle": "2020-08-14T06:56:33.094352Z",
     "shell.execute_reply": "2020-08-14T06:56:33.093672Z"
    },
    "papermill": {
     "duration": 0.988451,
     "end_time": "2020-08-14T06:56:33.094470",
     "exception": false,
     "start_time": "2020-08-14T06:56:32.106019",
     "status": "completed"
    },
    "tags": []
   },
   "outputs": [],
   "source": [
    "import seaborn as sns\n",
    "import matplotlib.pyplot as plt\n"
   ]
  },
  {
   "cell_type": "code",
   "execution_count": 7,
   "metadata": {
    "execution": {
     "iopub.execute_input": "2020-08-14T06:56:33.139878Z",
     "iopub.status.busy": "2020-08-14T06:56:33.136854Z",
     "iopub.status.idle": "2020-08-14T06:56:33.321456Z",
     "shell.execute_reply": "2020-08-14T06:56:33.320959Z"
    },
    "papermill": {
     "duration": 0.210892,
     "end_time": "2020-08-14T06:56:33.321593",
     "exception": false,
     "start_time": "2020-08-14T06:56:33.110701",
     "status": "completed"
    },
    "tags": []
   },
   "outputs": [
    {
     "data": {
      "text/plain": [
       "<matplotlib.axes._subplots.AxesSubplot at 0x7fa26a172b50>"
      ]
     },
     "execution_count": 7,
     "metadata": {},
     "output_type": "execute_result"
    },
    {
     "data": {
      "image/png": "[encoded data removed]",
      "text/plain": [
       "<Figure size 432x288 with 1 Axes>"
      ]
     },
     "metadata": {
      "needs_background": "light"
     },
     "output_type": "display_data"
    }
   ],
   "source": [
    "sns.countplot(x=df['target'],hue='sex',data=df)"
   ]
  },
  {
   "cell_type": "code",
   "execution_count": 8,
   "metadata": {
    "execution": {
     "iopub.execute_input": "2020-08-14T06:56:33.363705Z",
     "iopub.status.busy": "2020-08-14T06:56:33.363051Z",
     "iopub.status.idle": "2020-08-14T06:56:33.483171Z",
     "shell.execute_reply": "2020-08-14T06:56:33.482658Z"
    },
    "papermill": {
     "duration": 0.143941,
     "end_time": "2020-08-14T06:56:33.483286",
     "exception": false,
     "start_time": "2020-08-14T06:56:33.339345",
     "status": "completed"
    },
    "tags": []
   },
   "outputs": [
    {
     "data": {
      "text/plain": [
       "<matplotlib.axes._subplots.AxesSubplot at 0x7fa267f8d610>"
      ]
     },
     "execution_count": 8,
     "metadata": {},
     "output_type": "execute_result"
    },
    {
     "data": {
      "image/png": "[encoded data removed]",
      "text/plain": [
       "<Figure size 432x288 with 1 Axes>"
      ]
     },
     "metadata": {
      "needs_background": "light"
     },
     "output_type": "display_data"
    }
   ],
   "source": [
    "sns.countplot(x=df['target'],hue='exang',data=df)"
   ]
  },
  {
   "cell_type": "code",
   "execution_count": 9,
   "metadata": {
    "execution": {
     "iopub.execute_input": "2020-08-14T06:56:33.524986Z",
     "iopub.status.busy": "2020-08-14T06:56:33.522547Z",
     "iopub.status.idle": "2020-08-14T06:56:33.810904Z",
     "shell.execute_reply": "2020-08-14T06:56:33.810357Z"
    },
    "papermill": {
     "duration": 0.309968,
     "end_time": "2020-08-14T06:56:33.811018",
     "exception": false,
     "start_time": "2020-08-14T06:56:33.501050",
     "status": "completed"
    },
    "tags": []
   },
   "outputs": [
    {
     "data": {
      "text/plain": [
       "<matplotlib.axes._subplots.AxesSubplot at 0x7fa267eff750>"
      ]
     },
     "execution_count": 9,
     "metadata": {},
     "output_type": "execute_result"
    },
    {
     "data": {
      "image/png": "[encoded data removed]",
      "text/plain": [
       "<Figure size 432x288 with 2 Axes>"
      ]
     },
     "metadata": {
      "needs_background": "light"
     },
     "output_type": "display_data"
    }
   ],
   "source": [
    "sns.heatmap(df.corr())"
   ]
  },
  {
   "cell_type": "code",
   "execution_count": 10,
   "metadata": {
    "execution": {
     "iopub.execute_input": "2020-08-14T06:56:33.854013Z",
     "iopub.status.busy": "2020-08-14T06:56:33.853084Z",
     "iopub.status.idle": "2020-08-14T06:56:33.859560Z",
     "shell.execute_reply": "2020-08-14T06:56:33.859043Z"
    },
    "papermill": {
     "duration": 0.029785,
     "end_time": "2020-08-14T06:56:33.859674",
     "exception": false,
     "start_time": "2020-08-14T06:56:33.829889",
     "status": "completed"
    },
    "tags": []
   },
   "outputs": [
    {
     "data": {
      "text/plain": [
       "age        -0.225439\n",
       "sex        -0.280937\n",
       "cp          0.433798\n",
       "trestbps   -0.144931\n",
       "chol       -0.085239\n",
       "fbs        -0.028046\n",
       "restecg     0.137230\n",
       "thalach     0.421741\n",
       "exang      -0.436757\n",
       "oldpeak    -0.430696\n",
       "slope       0.345877\n",
       "ca         -0.391724\n",
       "thal       -0.344029\n",
       "target      1.000000\n",
       "Name: target, dtype: float64"
      ]
     },
     "execution_count": 10,
     "metadata": {},
     "output_type": "execute_result"
    }
   ],
   "source": [
    "df.corr()['target']"
   ]
  },
  {
   "cell_type": "code",
   "execution_count": 11,
   "metadata": {
    "execution": {
     "iopub.execute_input": "2020-08-14T06:56:33.904104Z",
     "iopub.status.busy": "2020-08-14T06:56:33.903406Z",
     "iopub.status.idle": "2020-08-14T06:56:33.906130Z",
     "shell.execute_reply": "2020-08-14T06:56:33.905633Z"
    },
    "papermill": {
     "duration": 0.027474,
     "end_time": "2020-08-14T06:56:33.906237",
     "exception": false,
     "start_time": "2020-08-14T06:56:33.878763",
     "status": "completed"
    },
    "tags": []
   },
   "outputs": [],
   "source": [
    "y=df['target']\n",
    "x=df.drop(['target'],axis=1)"
   ]
  },
  {
   "cell_type": "code",
   "execution_count": 12,
   "metadata": {
    "execution": {
     "iopub.execute_input": "2020-08-14T06:56:33.950159Z",
     "iopub.status.busy": "2020-08-14T06:56:33.949443Z",
     "iopub.status.idle": "2020-08-14T06:56:34.072641Z",
     "shell.execute_reply": "2020-08-14T06:56:34.071871Z"
    },
    "papermill": {
     "duration": 0.147189,
     "end_time": "2020-08-14T06:56:34.072769",
     "exception": false,
     "start_time": "2020-08-14T06:56:33.925580",
     "status": "completed"
    },
    "tags": []
   },
   "outputs": [],
   "source": [
    "from sklearn.model_selection import train_test_split\n",
    "x_train,x_test,y_train,y_test=train_test_split(x,y,random_state=0,test_size=0.2)"
   ]
  },
  {
   "cell_type": "code",
   "execution_count": 13,
   "metadata": {
    "execution": {
     "iopub.execute_input": "2020-08-14T06:56:34.119208Z",
     "iopub.status.busy": "2020-08-14T06:56:34.118555Z",
     "iopub.status.idle": "2020-08-14T06:56:34.407301Z",
     "shell.execute_reply": "2020-08-14T06:56:34.406636Z"
    },
    "papermill": {
     "duration": 0.314139,
     "end_time": "2020-08-14T06:56:34.407416",
     "exception": false,
     "start_time": "2020-08-14T06:56:34.093277",
     "status": "completed"
    },
    "tags": []
   },
   "outputs": [],
   "source": [
    "from sklearn.neighbors import KNeighborsClassifier\n",
    "from sklearn.metrics import accuracy_score\n",
    "list_1=[]\n",
    "for i in range(1,21):\n",
    "    knn=KNeighborsClassifier(n_neighbors=i)\n",
    "    knn.fit(x_train,y_train)\n",
    "    pred_s=knn.predict(x_test)\n",
    "    scores=accuracy_score(y_test,pred_s)\n",
    "    list_1.append(scores)\n",
    "    "
   ]
  },
  {
   "cell_type": "code",
   "execution_count": 14,
   "metadata": {
    "execution": {
     "iopub.execute_input": "2020-08-14T06:56:34.453972Z",
     "iopub.status.busy": "2020-08-14T06:56:34.453354Z",
     "iopub.status.idle": "2020-08-14T06:56:34.757084Z",
     "shell.execute_reply": "2020-08-14T06:56:34.756443Z"
    },
    "papermill": {
     "duration": 0.330124,
     "end_time": "2020-08-14T06:56:34.757208",
     "exception": false,
     "start_time": "2020-08-14T06:56:34.427084",
     "status": "completed"
    },
    "tags": []
   },
   "outputs": [
    {
     "data": {
      "text/plain": [
       "<matplotlib.axes._subplots.AxesSubplot at 0x7fa266915490>"
      ]
     },
     "execution_count": 14,
     "metadata": {},
     "output_type": "execute_result"
    },
    {
     "data": {
      "image/png": "[encoded data removed]",
      "text/plain": [
       "<Figure size 432x288 with 1 Axes>"
      ]
     },
     "metadata": {
      "needs_background": "light"
     },
     "output_type": "display_data"
    }
   ],
   "source": [
    "sns.barplot(x=list(range(1,21)),y=list_1)"
   ]
  },
  {
   "cell_type": "code",
   "execution_count": 15,
   "metadata": {
    "execution": {
     "iopub.execute_input": "2020-08-14T06:56:34.810123Z",
     "iopub.status.busy": "2020-08-14T06:56:34.807212Z",
     "iopub.status.idle": "2020-08-14T06:56:34.944301Z",
     "shell.execute_reply": "2020-08-14T06:56:34.943693Z"
    },
    "papermill": {
     "duration": 0.16647,
     "end_time": "2020-08-14T06:56:34.944412",
     "exception": false,
     "start_time": "2020-08-14T06:56:34.777942",
     "status": "completed"
    },
    "tags": []
   },
   "outputs": [
    {
     "data": {
      "image/png": "[encoded data removed]",
      "text/plain": [
       "<Figure size 432x288 with 1 Axes>"
      ]
     },
     "metadata": {
      "needs_background": "light"
     },
     "output_type": "display_data"
    }
   ],
   "source": [
    "plt.scatter(list(range(1,21)),list_1)\n",
    "plt.show()"
   ]
  },
  {
   "cell_type": "code",
   "execution_count": 16,
   "metadata": {
    "execution": {
     "iopub.execute_input": "2020-08-14T06:56:34.991542Z",
     "iopub.status.busy": "2020-08-14T06:56:34.990833Z",
     "iopub.status.idle": "2020-08-14T06:56:34.994423Z",
     "shell.execute_reply": "2020-08-14T06:56:34.993936Z"
    },
    "papermill": {
     "duration": 0.029027,
     "end_time": "2020-08-14T06:56:34.994556",
     "exception": false,
     "start_time": "2020-08-14T06:56:34.965529",
     "status": "completed"
    },
    "tags": []
   },
   "outputs": [
    {
     "name": "stdout",
     "output_type": "stream",
     "text": [
      "0.7213114754098361\n"
     ]
    }
   ],
   "source": [
    "print(max(list_1))"
   ]
  },
  {
   "cell_type": "code",
   "execution_count": 17,
   "metadata": {
    "execution": {
     "iopub.execute_input": "2020-08-14T06:56:35.042640Z",
     "iopub.status.busy": "2020-08-14T06:56:35.041998Z",
     "iopub.status.idle": "2020-08-14T06:56:35.044604Z",
     "shell.execute_reply": "2020-08-14T06:56:35.045054Z"
    },
    "papermill": {
     "duration": 0.02898,
     "end_time": "2020-08-14T06:56:35.045194",
     "exception": false,
     "start_time": "2020-08-14T06:56:35.016214",
     "status": "completed"
    },
    "tags": []
   },
   "outputs": [],
   "source": [
    "from sklearn.linear_model import LogisticRegression\n",
    "lr=LogisticRegression(max_iter=10000)"
   ]
  },
  {
   "cell_type": "code",
   "execution_count": 18,
   "metadata": {
    "execution": {
     "iopub.execute_input": "2020-08-14T06:56:35.095439Z",
     "iopub.status.busy": "2020-08-14T06:56:35.094777Z",
     "iopub.status.idle": "2020-08-14T06:56:35.356696Z",
     "shell.execute_reply": "2020-08-14T06:56:35.356150Z"
    },
    "papermill": {
     "duration": 0.289821,
     "end_time": "2020-08-14T06:56:35.356836",
     "exception": false,
     "start_time": "2020-08-14T06:56:35.067015",
     "status": "completed"
    },
    "tags": []
   },
   "outputs": [],
   "source": [
    "lr.fit(x_train,y_train)\n",
    "pred_1=lr.predict(x_test)\n",
    "score_1=accuracy_score(y_test,pred_1)"
   ]
  },
  {
   "cell_type": "code",
   "execution_count": 19,
   "metadata": {
    "execution": {
     "iopub.execute_input": "2020-08-14T06:56:35.407134Z",
     "iopub.status.busy": "2020-08-14T06:56:35.406141Z",
     "iopub.status.idle": "2020-08-14T06:56:35.410567Z",
     "shell.execute_reply": "2020-08-14T06:56:35.409950Z"
    },
    "papermill": {
     "duration": 0.031563,
     "end_time": "2020-08-14T06:56:35.410676",
     "exception": false,
     "start_time": "2020-08-14T06:56:35.379113",
     "status": "completed"
    },
    "tags": []
   },
   "outputs": [
    {
     "data": {
      "text/plain": [
       "0.8524590163934426"
      ]
     },
     "execution_count": 19,
     "metadata": {},
     "output_type": "execute_result"
    }
   ],
   "source": [
    "score_1"
   ]
  },
  {
   "cell_type": "code",
   "execution_count": 20,
   "metadata": {
    "execution": {
     "iopub.execute_input": "2020-08-14T06:56:35.460366Z",
     "iopub.status.busy": "2020-08-14T06:56:35.459733Z",
     "iopub.status.idle": "2020-08-14T06:56:35.522586Z",
     "shell.execute_reply": "2020-08-14T06:56:35.521988Z"
    },
    "papermill": {
     "duration": 0.089686,
     "end_time": "2020-08-14T06:56:35.522700",
     "exception": false,
     "start_time": "2020-08-14T06:56:35.433014",
     "status": "completed"
    },
    "tags": []
   },
   "outputs": [],
   "source": [
    "from sklearn.ensemble import RandomForestClassifier\n",
    "rfc=RandomForestClassifier()"
   ]
  },
  {
   "cell_type": "code",
   "execution_count": 21,
   "metadata": {
    "execution": {
     "iopub.execute_input": "2020-08-14T06:56:35.585124Z",
     "iopub.status.busy": "2020-08-14T06:56:35.580010Z",
     "iopub.status.idle": "2020-08-14T06:56:35.750362Z",
     "shell.execute_reply": "2020-08-14T06:56:35.749856Z"
    },
    "papermill": {
     "duration": 0.2049,
     "end_time": "2020-08-14T06:56:35.750491",
     "exception": false,
     "start_time": "2020-08-14T06:56:35.545591",
     "status": "completed"
    },
    "tags": []
   },
   "outputs": [],
   "source": [
    "rfc.fit(x_train,y_train)\n",
    "pred_2=rfc.predict(x_test)\n",
    "score_2=accuracy_score(y_test,pred_2)"
   ]
  },
  {
   "cell_type": "code",
   "execution_count": 22,
   "metadata": {
    "execution": {
     "iopub.execute_input": "2020-08-14T06:56:35.800815Z",
     "iopub.status.busy": "2020-08-14T06:56:35.800126Z",
     "iopub.status.idle": "2020-08-14T06:56:35.804205Z",
     "shell.execute_reply": "2020-08-14T06:56:35.803686Z"
    },
    "papermill": {
     "duration": 0.03126,
     "end_time": "2020-08-14T06:56:35.804311",
     "exception": false,
     "start_time": "2020-08-14T06:56:35.773051",
     "status": "completed"
    },
    "tags": []
   },
   "outputs": [
    {
     "data": {
      "text/plain": [
       "0.8688524590163934"
      ]
     },
     "execution_count": 22,
     "metadata": {},
     "output_type": "execute_result"
    }
   ],
   "source": [
    "score_2"
   ]
  },
  {
   "cell_type": "code",
   "execution_count": 23,
   "metadata": {
    "execution": {
     "iopub.execute_input": "2020-08-14T06:56:35.857975Z",
     "iopub.status.busy": "2020-08-14T06:56:35.857326Z",
     "iopub.status.idle": "2020-08-14T06:56:35.865898Z",
     "shell.execute_reply": "2020-08-14T06:56:35.865259Z"
    },
    "papermill": {
     "duration": 0.038567,
     "end_time": "2020-08-14T06:56:35.866010",
     "exception": false,
     "start_time": "2020-08-14T06:56:35.827443",
     "status": "completed"
    },
    "tags": []
   },
   "outputs": [],
   "source": [
    "from sklearn.svm import SVC\n",
    "svm=SVC()\n",
    "svm.fit(x_train,y_train)\n",
    "pred_3=svm.predict(x_test)\n",
    "score_3=accuracy_score(y_test,pred_3)"
   ]
  },
  {
   "cell_type": "code",
   "execution_count": 24,
   "metadata": {
    "execution": {
     "iopub.execute_input": "2020-08-14T06:56:35.916941Z",
     "iopub.status.busy": "2020-08-14T06:56:35.916201Z",
     "iopub.status.idle": "2020-08-14T06:56:35.919695Z",
     "shell.execute_reply": "2020-08-14T06:56:35.919176Z"
    },
    "papermill": {
     "duration": 0.030738,
     "end_time": "2020-08-14T06:56:35.919803",
     "exception": false,
     "start_time": "2020-08-14T06:56:35.889065",
     "status": "completed"
    },
    "tags": []
   },
   "outputs": [
    {
     "data": {
      "text/plain": [
       "0.6885245901639344"
      ]
     },
     "execution_count": 24,
     "metadata": {},
     "output_type": "execute_result"
    }
   ],
   "source": [
    "score_3"
   ]
  },
  {
   "cell_type": "code",
   "execution_count": 25,
   "metadata": {
    "execution": {
     "iopub.execute_input": "2020-08-14T06:56:35.970821Z",
     "iopub.status.busy": "2020-08-14T06:56:35.969933Z",
     "iopub.status.idle": "2020-08-14T06:56:35.972833Z",
     "shell.execute_reply": "2020-08-14T06:56:35.972220Z"
    },
    "papermill": {
     "duration": 0.029855,
     "end_time": "2020-08-14T06:56:35.972956",
     "exception": false,
     "start_time": "2020-08-14T06:56:35.943101",
     "status": "completed"
    },
    "tags": []
   },
   "outputs": [],
   "source": [
    "#from all the classifier logistics regression classifier gives the best accuracy of almost 86"
   ]
  }
 ],
 "metadata": {
  "kernelspec": {
   "display_name": "Python 3",
   "language": "python",
   "name": "python3"
  },
  "language_info": {
   "codemirror_mode": {
    "name": "ipython",
    "version": 3
   },
   "file_extension": ".py",
   "mimetype": "text/x-python",
   "name": "python",
   "nbconvert_exporter": "python",
   "pygments_lexer": "ipython3",
   "version": "3.7.6"
  },
  "papermill": {
   "duration": 8.388867,
   "end_time": "2020-08-14T06:56:36.103693",
   "environment_variables": {},
   "exception": null,
   "input_path": "__notebook__.ipynb",
   "output_path": "__notebook__.ipynb",
   "parameters": {},
   "start_time": "2020-08-14T06:56:27.714826",
   "version": "2.1.0"
  }
 },
 "nbformat": 4,
 "nbformat_minor": 4
}
