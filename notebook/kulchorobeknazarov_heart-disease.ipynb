{
 "cells": [
  {
   "cell_type": "code",
   "execution_count": 1,
   "metadata": {
    "_cell_guid": "b1076dfc-b9ad-4769-8c92-a6c4dae69d19",
    "_uuid": "8f2839f25d086af736a60e9eeb907d3b93b6e0e5",
    "execution": {
     "iopub.execute_input": "2020-08-28T07:32:12.758340Z",
     "iopub.status.busy": "2020-08-28T07:32:12.757552Z",
     "iopub.status.idle": "2020-08-28T07:32:14.541214Z",
     "shell.execute_reply": "2020-08-28T07:32:14.540484Z"
    },
    "papermill": {
     "duration": 1.80422,
     "end_time": "2020-08-28T07:32:14.541368",
     "exception": false,
     "start_time": "2020-08-28T07:32:12.737148",
     "status": "completed"
    },
    "tags": []
   },
   "outputs": [],
   "source": [
    "import pandas as pd\n",
    "import numpy as np\n",
    "import statsmodels.api as sm\n",
    "import matplotlib.pyplot as plt\n",
    "import seaborn as sns\n",
    "sns.set()"
   ]
  },
  {
   "cell_type": "code",
   "execution_count": 2,
   "metadata": {
    "_cell_guid": "79c7e3d0-c299-4dcb-8224-4455121ee9b0",
    "_uuid": "d629ff2d2480ee46fbb7e2d37f6b5fab8052498a",
    "execution": {
     "iopub.execute_input": "2020-08-28T07:32:14.585383Z",
     "iopub.status.busy": "2020-08-28T07:32:14.584583Z",
     "iopub.status.idle": "2020-08-28T07:32:14.639939Z",
     "shell.execute_reply": "2020-08-28T07:32:14.639288Z"
    },
    "papermill": {
     "duration": 0.084722,
     "end_time": "2020-08-28T07:32:14.640060",
     "exception": false,
     "start_time": "2020-08-28T07:32:14.555338",
     "status": "completed"
    },
    "tags": []
   },
   "outputs": [
    {
     "data": {
      "text/plain": [
       "age         0\n",
       "sex         0\n",
       "cp          0\n",
       "trestbps    0\n",
       "chol        0\n",
       "fbs         0\n",
       "restecg     0\n",
       "thalach     0\n",
       "exang       0\n",
       "oldpeak     0\n",
       "slope       0\n",
       "ca          0\n",
       "thal        0\n",
       "target      0\n",
       "dtype: int64"
      ]
     },
     "execution_count": 2,
     "metadata": {},
     "output_type": "execute_result"
    }
   ],
   "source": [
    "df=pd.read_csv('../input/heart-disease/heart.csv')\n",
    "df.describe(include='all')\n",
    "df.isnull().sum()"
   ]
  },
  {
   "cell_type": "code",
   "execution_count": 3,
   "metadata": {
    "execution": {
     "iopub.execute_input": "2020-08-28T07:32:14.679808Z",
     "iopub.status.busy": "2020-08-28T07:32:14.678688Z",
     "iopub.status.idle": "2020-08-28T07:32:14.682179Z",
     "shell.execute_reply": "2020-08-28T07:32:14.681403Z"
    },
    "papermill": {
     "duration": 0.028098,
     "end_time": "2020-08-28T07:32:14.682300",
     "exception": false,
     "start_time": "2020-08-28T07:32:14.654202",
     "status": "completed"
    },
    "tags": []
   },
   "outputs": [],
   "source": [
    "y=df['target']\n",
    "x=df.drop(['target'],axis=1)"
   ]
  },
  {
   "cell_type": "code",
   "execution_count": 4,
   "metadata": {
    "execution": {
     "iopub.execute_input": "2020-08-28T07:32:14.717084Z",
     "iopub.status.busy": "2020-08-28T07:32:14.716274Z",
     "iopub.status.idle": "2020-08-28T07:32:14.949043Z",
     "shell.execute_reply": "2020-08-28T07:32:14.948408Z"
    },
    "papermill": {
     "duration": 0.252575,
     "end_time": "2020-08-28T07:32:14.949202",
     "exception": false,
     "start_time": "2020-08-28T07:32:14.696627",
     "status": "completed"
    },
    "tags": []
   },
   "outputs": [],
   "source": [
    "from sklearn.model_selection import train_test_split\n",
    "x_train,x_test,y_train,y_test=train_test_split(x,y,train_size=0.8)"
   ]
  },
  {
   "cell_type": "code",
   "execution_count": 5,
   "metadata": {
    "execution": {
     "iopub.execute_input": "2020-08-28T07:32:14.984671Z",
     "iopub.status.busy": "2020-08-28T07:32:14.983844Z",
     "iopub.status.idle": "2020-08-28T07:32:15.449759Z",
     "shell.execute_reply": "2020-08-28T07:32:15.448968Z"
    },
    "papermill": {
     "duration": 0.486468,
     "end_time": "2020-08-28T07:32:15.449893",
     "exception": false,
     "start_time": "2020-08-28T07:32:14.963425",
     "status": "completed"
    },
    "tags": []
   },
   "outputs": [
    {
     "data": {
      "text/plain": [
       "RandomForestClassifier()"
      ]
     },
     "execution_count": 5,
     "metadata": {},
     "output_type": "execute_result"
    }
   ],
   "source": [
    "from sklearn.ensemble import RandomForestClassifier\n",
    "clf=RandomForestClassifier()\n",
    "clf.fit(x_train,y_train)"
   ]
  },
  {
   "cell_type": "code",
   "execution_count": 6,
   "metadata": {
    "execution": {
     "iopub.execute_input": "2020-08-28T07:32:15.492002Z",
     "iopub.status.busy": "2020-08-28T07:32:15.490221Z",
     "iopub.status.idle": "2020-08-28T07:32:15.506641Z",
     "shell.execute_reply": "2020-08-28T07:32:15.506023Z"
    },
    "papermill": {
     "duration": 0.04187,
     "end_time": "2020-08-28T07:32:15.506786",
     "exception": false,
     "start_time": "2020-08-28T07:32:15.464916",
     "status": "completed"
    },
    "tags": []
   },
   "outputs": [
    {
     "data": {
      "text/plain": [
       "0.7213114754098361"
      ]
     },
     "execution_count": 6,
     "metadata": {},
     "output_type": "execute_result"
    }
   ],
   "source": [
    "clf.score(x_test,y_test)"
   ]
  },
  {
   "cell_type": "code",
   "execution_count": 7,
   "metadata": {
    "execution": {
     "iopub.execute_input": "2020-08-28T07:32:15.545856Z",
     "iopub.status.busy": "2020-08-28T07:32:15.544860Z",
     "iopub.status.idle": "2020-08-28T07:32:16.688584Z",
     "shell.execute_reply": "2020-08-28T07:32:16.687615Z"
    },
    "papermill": {
     "duration": 1.166455,
     "end_time": "2020-08-28T07:32:16.688750",
     "exception": false,
     "start_time": "2020-08-28T07:32:15.522295",
     "status": "completed"
    },
    "tags": []
   },
   "outputs": [
    {
     "data": {
      "text/plain": [
       "array([0.61538462, 0.83333333, 1.        , 0.75      , 0.66666667])"
      ]
     },
     "execution_count": 7,
     "metadata": {},
     "output_type": "execute_result"
    }
   ],
   "source": [
    "from sklearn.model_selection import cross_val_score\n",
    "validation=cross_val_score(clf,x_test,y_test,cv=5)\n",
    "validation"
   ]
  },
  {
   "cell_type": "code",
   "execution_count": 8,
   "metadata": {
    "execution": {
     "iopub.execute_input": "2020-08-28T07:32:16.751048Z",
     "iopub.status.busy": "2020-08-28T07:32:16.750170Z",
     "iopub.status.idle": "2020-08-28T07:32:16.754979Z",
     "shell.execute_reply": "2020-08-28T07:32:16.754366Z"
    },
    "papermill": {
     "duration": 0.047499,
     "end_time": "2020-08-28T07:32:16.755127",
     "exception": false,
     "start_time": "2020-08-28T07:32:16.707628",
     "status": "completed"
    },
    "tags": []
   },
   "outputs": [
    {
     "data": {
      "text/plain": [
       "array([0.18, 0.32, 0.2 , 0.5 , 0.23, 0.21, 0.08, 0.36, 0.02, 0.91, 0.1 ,\n",
       "       0.24, 0.59, 0.51, 0.46, 0.68, 0.77, 0.03, 0.81, 0.35, 0.25, 0.03,\n",
       "       0.11, 0.09, 0.9 , 0.5 , 0.02, 0.4 , 0.6 , 0.37, 1.  , 0.18, 0.84,\n",
       "       0.69, 0.81, 0.09, 0.42, 0.16, 0.52, 0.12, 0.11, 0.21, 0.95, 0.74,\n",
       "       0.64, 0.7 , 0.05, 0.21, 0.82, 0.34, 0.72, 0.38, 0.99, 0.64, 0.81,\n",
       "       0.1 , 0.59, 0.03, 0.82, 0.58, 0.44])"
      ]
     },
     "execution_count": 8,
     "metadata": {},
     "output_type": "execute_result"
    }
   ],
   "source": [
    "from sklearn.metrics import roc_curve\n",
    "y_preds=clf.predict_proba(x_test)\n",
    "y_preds_positive=y_preds[:,1]\n",
    "y_preds_positive"
   ]
  },
  {
   "cell_type": "code",
   "execution_count": 9,
   "metadata": {
    "execution": {
     "iopub.execute_input": "2020-08-28T07:32:16.797091Z",
     "iopub.status.busy": "2020-08-28T07:32:16.796207Z",
     "iopub.status.idle": "2020-08-28T07:32:16.800689Z",
     "shell.execute_reply": "2020-08-28T07:32:16.799896Z"
    },
    "papermill": {
     "duration": 0.029226,
     "end_time": "2020-08-28T07:32:16.800820",
     "exception": false,
     "start_time": "2020-08-28T07:32:16.771594",
     "status": "completed"
    },
    "tags": []
   },
   "outputs": [
    {
     "data": {
      "text/plain": [
       "0.8839869281045751"
      ]
     },
     "execution_count": 9,
     "metadata": {},
     "output_type": "execute_result"
    }
   ],
   "source": [
    "from sklearn.metrics import roc_auc_score\n",
    "roc_score=roc_auc_score(y_test,y_preds_positive)\n",
    "roc_score"
   ]
  },
  {
   "cell_type": "code",
   "execution_count": 10,
   "metadata": {
    "execution": {
     "iopub.execute_input": "2020-08-28T07:32:16.861213Z",
     "iopub.status.busy": "2020-08-28T07:32:16.860347Z",
     "iopub.status.idle": "2020-08-28T07:32:16.863907Z",
     "shell.execute_reply": "2020-08-28T07:32:16.863180Z"
    },
    "papermill": {
     "duration": 0.045969,
     "end_time": "2020-08-28T07:32:16.864041",
     "exception": false,
     "start_time": "2020-08-28T07:32:16.818072",
     "status": "completed"
    },
    "tags": []
   },
   "outputs": [],
   "source": [
    "fpr,tpr,thresholds=roc_curve(y_test,clf.predict(x_test))"
   ]
  },
  {
   "cell_type": "code",
   "execution_count": 11,
   "metadata": {
    "execution": {
     "iopub.execute_input": "2020-08-28T07:32:16.907692Z",
     "iopub.status.busy": "2020-08-28T07:32:16.906753Z",
     "iopub.status.idle": "2020-08-28T07:32:17.264209Z",
     "shell.execute_reply": "2020-08-28T07:32:17.263566Z"
    },
    "papermill": {
     "duration": 0.382698,
     "end_time": "2020-08-28T07:32:17.264348",
     "exception": false,
     "start_time": "2020-08-28T07:32:16.881650",
     "status": "completed"
    },
    "tags": []
   },
   "outputs": [
    {
     "data": {
      "image/png": "[encoded data removed]",
      "text/plain": [
       "<Figure size 432x288 with 1 Axes>"
      ]
     },
     "metadata": {},
     "output_type": "display_data"
    }
   ],
   "source": [
    "def plot_roc_curve(fpr,tpr):\n",
    "    plt.plot(fpr,tpr,color='orange',label='ROC',)\n",
    "    plt.plot([0,1],[0,1],color='darkblue',label='Guessing',linestyle=\"--\")\n",
    "    plt.legend()\n",
    "    plt.show()\n",
    "    \n",
    "plot_roc_curve(fpr,tpr)"
   ]
  },
  {
   "cell_type": "code",
   "execution_count": 12,
   "metadata": {
    "execution": {
     "iopub.execute_input": "2020-08-28T07:32:17.315016Z",
     "iopub.status.busy": "2020-08-28T07:32:17.313839Z",
     "iopub.status.idle": "2020-08-28T07:32:17.333873Z",
     "shell.execute_reply": "2020-08-28T07:32:17.333132Z"
    },
    "papermill": {
     "duration": 0.050862,
     "end_time": "2020-08-28T07:32:17.333999",
     "exception": false,
     "start_time": "2020-08-28T07:32:17.283137",
     "status": "completed"
    },
    "tags": []
   },
   "outputs": [
    {
     "data": {
      "text/plain": [
       "array([[23,  4],\n",
       "       [13, 21]])"
      ]
     },
     "execution_count": 12,
     "metadata": {},
     "output_type": "execute_result"
    }
   ],
   "source": [
    "from sklearn.metrics import confusion_matrix\n",
    "conf=confusion_matrix(y_test,clf.predict(x_test))\n",
    "conf"
   ]
  },
  {
   "cell_type": "code",
   "execution_count": 13,
   "metadata": {
    "execution": {
     "iopub.execute_input": "2020-08-28T07:32:17.387342Z",
     "iopub.status.busy": "2020-08-28T07:32:17.386233Z",
     "iopub.status.idle": "2020-08-28T07:32:17.507531Z",
     "shell.execute_reply": "2020-08-28T07:32:17.508063Z"
    },
    "papermill": {
     "duration": 0.154863,
     "end_time": "2020-08-28T07:32:17.508254",
     "exception": false,
     "start_time": "2020-08-28T07:32:17.353391",
     "status": "completed"
    },
    "tags": []
   },
   "outputs": [
    {
     "data": {
      "image/png": "[encoded data removed]",
      "text/plain": [
       "<Figure size 288x288 with 1 Axes>"
      ]
     },
     "metadata": {},
     "output_type": "display_data"
    }
   ],
   "source": [
    "def plot_conf_matrix(conf):\n",
    "    f,ax=plt.subplots(figsize=(4,4))\n",
    "    ax=sns.heatmap(conf,annot=True,cbar=False)\n",
    "\n",
    "plot_conf_matrix(conf)"
   ]
  },
  {
   "cell_type": "code",
   "execution_count": 14,
   "metadata": {
    "execution": {
     "iopub.execute_input": "2020-08-28T07:32:17.554726Z",
     "iopub.status.busy": "2020-08-28T07:32:17.553957Z",
     "iopub.status.idle": "2020-08-28T07:32:17.557419Z",
     "shell.execute_reply": "2020-08-28T07:32:17.556837Z"
    },
    "papermill": {
     "duration": 0.029135,
     "end_time": "2020-08-28T07:32:17.557543",
     "exception": false,
     "start_time": "2020-08-28T07:32:17.528408",
     "status": "completed"
    },
    "tags": []
   },
   "outputs": [],
   "source": [
    "y_test=y_test.reset_index(drop=True)"
   ]
  },
  {
   "cell_type": "code",
   "execution_count": 15,
   "metadata": {
    "execution": {
     "iopub.execute_input": "2020-08-28T07:32:17.625357Z",
     "iopub.status.busy": "2020-08-28T07:32:17.616245Z",
     "iopub.status.idle": "2020-08-28T07:32:17.643660Z",
     "shell.execute_reply": "2020-08-28T07:32:17.644265Z"
    },
    "papermill": {
     "duration": 0.066258,
     "end_time": "2020-08-28T07:32:17.644435",
     "exception": false,
     "start_time": "2020-08-28T07:32:17.578177",
     "status": "completed"
    },
    "tags": []
   },
   "outputs": [
    {
     "data": {
      "text/html": [
       "<div>\n",
       "<style scoped>\n",
       "    .dataframe tbody tr th:only-of-type {\n",
       "        vertical-align: middle;\n",
       "    }\n",
       "\n",
       "    .dataframe tbody tr th {\n",
       "        vertical-align: top;\n",
       "    }\n",
       "\n",
       "    .dataframe thead th {\n",
       "        text-align: right;\n",
       "    }\n",
       "</style>\n",
       "<table border=\"1\" class=\"dataframe\">\n",
       "  <thead>\n",
       "    <tr style=\"text-align: right;\">\n",
       "      <th></th>\n",
       "      <th>Actual</th>\n",
       "      <th>Predicted</th>\n",
       "    </tr>\n",
       "  </thead>\n",
       "  <tbody>\n",
       "    <tr>\n",
       "      <th>0</th>\n",
       "      <td>0</td>\n",
       "      <td>0</td>\n",
       "    </tr>\n",
       "    <tr>\n",
       "      <th>1</th>\n",
       "      <td>1</td>\n",
       "      <td>0</td>\n",
       "    </tr>\n",
       "    <tr>\n",
       "      <th>2</th>\n",
       "      <td>0</td>\n",
       "      <td>0</td>\n",
       "    </tr>\n",
       "    <tr>\n",
       "      <th>3</th>\n",
       "      <td>1</td>\n",
       "      <td>0</td>\n",
       "    </tr>\n",
       "    <tr>\n",
       "      <th>4</th>\n",
       "      <td>0</td>\n",
       "      <td>0</td>\n",
       "    </tr>\n",
       "    <tr>\n",
       "      <th>5</th>\n",
       "      <td>0</td>\n",
       "      <td>0</td>\n",
       "    </tr>\n",
       "    <tr>\n",
       "      <th>6</th>\n",
       "      <td>0</td>\n",
       "      <td>0</td>\n",
       "    </tr>\n",
       "    <tr>\n",
       "      <th>7</th>\n",
       "      <td>1</td>\n",
       "      <td>0</td>\n",
       "    </tr>\n",
       "    <tr>\n",
       "      <th>8</th>\n",
       "      <td>0</td>\n",
       "      <td>0</td>\n",
       "    </tr>\n",
       "    <tr>\n",
       "      <th>9</th>\n",
       "      <td>1</td>\n",
       "      <td>1</td>\n",
       "    </tr>\n",
       "    <tr>\n",
       "      <th>10</th>\n",
       "      <td>0</td>\n",
       "      <td>0</td>\n",
       "    </tr>\n",
       "    <tr>\n",
       "      <th>11</th>\n",
       "      <td>1</td>\n",
       "      <td>0</td>\n",
       "    </tr>\n",
       "    <tr>\n",
       "      <th>12</th>\n",
       "      <td>1</td>\n",
       "      <td>1</td>\n",
       "    </tr>\n",
       "    <tr>\n",
       "      <th>13</th>\n",
       "      <td>1</td>\n",
       "      <td>1</td>\n",
       "    </tr>\n",
       "    <tr>\n",
       "      <th>14</th>\n",
       "      <td>1</td>\n",
       "      <td>0</td>\n",
       "    </tr>\n",
       "    <tr>\n",
       "      <th>15</th>\n",
       "      <td>0</td>\n",
       "      <td>1</td>\n",
       "    </tr>\n",
       "    <tr>\n",
       "      <th>16</th>\n",
       "      <td>1</td>\n",
       "      <td>1</td>\n",
       "    </tr>\n",
       "    <tr>\n",
       "      <th>17</th>\n",
       "      <td>0</td>\n",
       "      <td>0</td>\n",
       "    </tr>\n",
       "    <tr>\n",
       "      <th>18</th>\n",
       "      <td>1</td>\n",
       "      <td>1</td>\n",
       "    </tr>\n",
       "    <tr>\n",
       "      <th>19</th>\n",
       "      <td>1</td>\n",
       "      <td>0</td>\n",
       "    </tr>\n",
       "    <tr>\n",
       "      <th>20</th>\n",
       "      <td>0</td>\n",
       "      <td>0</td>\n",
       "    </tr>\n",
       "    <tr>\n",
       "      <th>21</th>\n",
       "      <td>0</td>\n",
       "      <td>0</td>\n",
       "    </tr>\n",
       "    <tr>\n",
       "      <th>22</th>\n",
       "      <td>0</td>\n",
       "      <td>0</td>\n",
       "    </tr>\n",
       "    <tr>\n",
       "      <th>23</th>\n",
       "      <td>0</td>\n",
       "      <td>0</td>\n",
       "    </tr>\n",
       "    <tr>\n",
       "      <th>24</th>\n",
       "      <td>1</td>\n",
       "      <td>1</td>\n",
       "    </tr>\n",
       "    <tr>\n",
       "      <th>25</th>\n",
       "      <td>1</td>\n",
       "      <td>0</td>\n",
       "    </tr>\n",
       "    <tr>\n",
       "      <th>26</th>\n",
       "      <td>0</td>\n",
       "      <td>0</td>\n",
       "    </tr>\n",
       "    <tr>\n",
       "      <th>27</th>\n",
       "      <td>1</td>\n",
       "      <td>0</td>\n",
       "    </tr>\n",
       "    <tr>\n",
       "      <th>28</th>\n",
       "      <td>1</td>\n",
       "      <td>1</td>\n",
       "    </tr>\n",
       "    <tr>\n",
       "      <th>29</th>\n",
       "      <td>1</td>\n",
       "      <td>0</td>\n",
       "    </tr>\n",
       "    <tr>\n",
       "      <th>30</th>\n",
       "      <td>1</td>\n",
       "      <td>1</td>\n",
       "    </tr>\n",
       "    <tr>\n",
       "      <th>31</th>\n",
       "      <td>0</td>\n",
       "      <td>0</td>\n",
       "    </tr>\n",
       "    <tr>\n",
       "      <th>32</th>\n",
       "      <td>1</td>\n",
       "      <td>1</td>\n",
       "    </tr>\n",
       "    <tr>\n",
       "      <th>33</th>\n",
       "      <td>1</td>\n",
       "      <td>1</td>\n",
       "    </tr>\n",
       "    <tr>\n",
       "      <th>34</th>\n",
       "      <td>1</td>\n",
       "      <td>1</td>\n",
       "    </tr>\n",
       "    <tr>\n",
       "      <th>35</th>\n",
       "      <td>0</td>\n",
       "      <td>0</td>\n",
       "    </tr>\n",
       "    <tr>\n",
       "      <th>36</th>\n",
       "      <td>1</td>\n",
       "      <td>0</td>\n",
       "    </tr>\n",
       "    <tr>\n",
       "      <th>37</th>\n",
       "      <td>0</td>\n",
       "      <td>0</td>\n",
       "    </tr>\n",
       "    <tr>\n",
       "      <th>38</th>\n",
       "      <td>1</td>\n",
       "      <td>1</td>\n",
       "    </tr>\n",
       "    <tr>\n",
       "      <th>39</th>\n",
       "      <td>1</td>\n",
       "      <td>0</td>\n",
       "    </tr>\n",
       "    <tr>\n",
       "      <th>40</th>\n",
       "      <td>0</td>\n",
       "      <td>0</td>\n",
       "    </tr>\n",
       "    <tr>\n",
       "      <th>41</th>\n",
       "      <td>0</td>\n",
       "      <td>0</td>\n",
       "    </tr>\n",
       "    <tr>\n",
       "      <th>42</th>\n",
       "      <td>1</td>\n",
       "      <td>1</td>\n",
       "    </tr>\n",
       "    <tr>\n",
       "      <th>43</th>\n",
       "      <td>1</td>\n",
       "      <td>1</td>\n",
       "    </tr>\n",
       "    <tr>\n",
       "      <th>44</th>\n",
       "      <td>1</td>\n",
       "      <td>1</td>\n",
       "    </tr>\n",
       "    <tr>\n",
       "      <th>45</th>\n",
       "      <td>1</td>\n",
       "      <td>1</td>\n",
       "    </tr>\n",
       "    <tr>\n",
       "      <th>46</th>\n",
       "      <td>0</td>\n",
       "      <td>0</td>\n",
       "    </tr>\n",
       "    <tr>\n",
       "      <th>47</th>\n",
       "      <td>0</td>\n",
       "      <td>0</td>\n",
       "    </tr>\n",
       "    <tr>\n",
       "      <th>48</th>\n",
       "      <td>1</td>\n",
       "      <td>1</td>\n",
       "    </tr>\n",
       "    <tr>\n",
       "      <th>49</th>\n",
       "      <td>1</td>\n",
       "      <td>0</td>\n",
       "    </tr>\n",
       "    <tr>\n",
       "      <th>50</th>\n",
       "      <td>0</td>\n",
       "      <td>1</td>\n",
       "    </tr>\n",
       "    <tr>\n",
       "      <th>51</th>\n",
       "      <td>1</td>\n",
       "      <td>0</td>\n",
       "    </tr>\n",
       "    <tr>\n",
       "      <th>52</th>\n",
       "      <td>1</td>\n",
       "      <td>1</td>\n",
       "    </tr>\n",
       "    <tr>\n",
       "      <th>53</th>\n",
       "      <td>0</td>\n",
       "      <td>1</td>\n",
       "    </tr>\n",
       "    <tr>\n",
       "      <th>54</th>\n",
       "      <td>0</td>\n",
       "      <td>1</td>\n",
       "    </tr>\n",
       "    <tr>\n",
       "      <th>55</th>\n",
       "      <td>0</td>\n",
       "      <td>0</td>\n",
       "    </tr>\n",
       "    <tr>\n",
       "      <th>56</th>\n",
       "      <td>1</td>\n",
       "      <td>1</td>\n",
       "    </tr>\n",
       "    <tr>\n",
       "      <th>57</th>\n",
       "      <td>0</td>\n",
       "      <td>0</td>\n",
       "    </tr>\n",
       "    <tr>\n",
       "      <th>58</th>\n",
       "      <td>1</td>\n",
       "      <td>1</td>\n",
       "    </tr>\n",
       "    <tr>\n",
       "      <th>59</th>\n",
       "      <td>1</td>\n",
       "      <td>1</td>\n",
       "    </tr>\n",
       "    <tr>\n",
       "      <th>60</th>\n",
       "      <td>0</td>\n",
       "      <td>0</td>\n",
       "    </tr>\n",
       "  </tbody>\n",
       "</table>\n",
       "</div>"
      ],
      "text/plain": [
       "    Actual  Predicted\n",
       "0        0          0\n",
       "1        1          0\n",
       "2        0          0\n",
       "3        1          0\n",
       "4        0          0\n",
       "5        0          0\n",
       "6        0          0\n",
       "7        1          0\n",
       "8        0          0\n",
       "9        1          1\n",
       "10       0          0\n",
       "11       1          0\n",
       "12       1          1\n",
       "13       1          1\n",
       "14       1          0\n",
       "15       0          1\n",
       "16       1          1\n",
       "17       0          0\n",
       "18       1          1\n",
       "19       1          0\n",
       "20       0          0\n",
       "21       0          0\n",
       "22       0          0\n",
       "23       0          0\n",
       "24       1          1\n",
       "25       1          0\n",
       "26       0          0\n",
       "27       1          0\n",
       "28       1          1\n",
       "29       1          0\n",
       "30       1          1\n",
       "31       0          0\n",
       "32       1          1\n",
       "33       1          1\n",
       "34       1          1\n",
       "35       0          0\n",
       "36       1          0\n",
       "37       0          0\n",
       "38       1          1\n",
       "39       1          0\n",
       "40       0          0\n",
       "41       0          0\n",
       "42       1          1\n",
       "43       1          1\n",
       "44       1          1\n",
       "45       1          1\n",
       "46       0          0\n",
       "47       0          0\n",
       "48       1          1\n",
       "49       1          0\n",
       "50       0          1\n",
       "51       1          0\n",
       "52       1          1\n",
       "53       0          1\n",
       "54       0          1\n",
       "55       0          0\n",
       "56       1          1\n",
       "57       0          0\n",
       "58       1          1\n",
       "59       1          1\n",
       "60       0          0"
      ]
     },
     "execution_count": 15,
     "metadata": {},
     "output_type": "execute_result"
    }
   ],
   "source": [
    "\n",
    "df_pf=pd.DataFrame()\n",
    "df_pf['Actual']=y_test\n",
    "df_pf['Predicted']=clf.predict(x_test)\n",
    "\n",
    "pd.options.display.max_rows=999\n",
    "df_pf"
   ]
  },
  {
   "cell_type": "code",
   "execution_count": null,
   "metadata": {
    "papermill": {
     "duration": 0.021028,
     "end_time": "2020-08-28T07:32:17.687085",
     "exception": false,
     "start_time": "2020-08-28T07:32:17.666057",
     "status": "completed"
    },
    "tags": []
   },
   "outputs": [],
   "source": []
  }
 ],
 "metadata": {
  "kernelspec": {
   "display_name": "Python 3",
   "language": "python",
   "name": "python3"
  },
  "language_info": {
   "codemirror_mode": {
    "name": "ipython",
    "version": 3
   },
   "file_extension": ".py",
   "mimetype": "text/x-python",
   "name": "python",
   "nbconvert_exporter": "python",
   "pygments_lexer": "ipython3",
   "version": "3.7.6"
  },
  "papermill": {
   "duration": 10.933262,
   "end_time": "2020-08-28T07:32:18.791220",
   "environment_variables": {},
   "exception": null,
   "input_path": "__notebook__.ipynb",
   "output_path": "__notebook__.ipynb",
   "parameters": {},
   "start_time": "2020-08-28T07:32:07.857958",
   "version": "2.1.0"
  }
 },
 "nbformat": 4,
 "nbformat_minor": 4
}
