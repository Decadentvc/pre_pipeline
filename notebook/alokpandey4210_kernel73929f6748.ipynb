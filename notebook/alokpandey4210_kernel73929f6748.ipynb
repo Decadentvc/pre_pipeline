{
 "cells": [
  {
   "cell_type": "code",
   "execution_count": 1,
   "metadata": {
    "_cell_guid": "b1076dfc-b9ad-4769-8c92-a6c4dae69d19",
    "_uuid": "8f2839f25d086af736a60e9eeb907d3b93b6e0e5"
   },
   "outputs": [
    {
     "name": "stdout",
     "output_type": "stream",
     "text": [
      "/kaggle/input/telco-customer-churn/WA_Fn-UseC_-Telco-Customer-Churn.csv\n"
     ]
    }
   ],
   "source": [
    "# This Python 3 environment comes with many helpful analytics libraries installed\n",
    "# It is defined by the kaggle/python docker image: https://github.com/kaggle/docker-python\n",
    "# For example, here's several helpful packages to load in \n",
    "\n",
    "import numpy as np # linear algebra\n",
    "import pandas as pd # data processing, CSV file I/O (e.g. pd.read_csv)\n",
    "\n",
    "# Input data files are available in the \"../input/\" directory.\n",
    "# For example, running this (by clicking run or pressing Shift+Enter) will list all files under the input directory\n",
    "\n",
    "import os\n",
    "for dirname, _, filenames in os.walk('/kaggle/input'):\n",
    "    for filename in filenames:\n",
    "        print(os.path.join(dirname, filename))\n",
    "\n",
    "# Any results you write to the current directory are saved as output."
   ]
  },
  {
   "cell_type": "code",
   "execution_count": 2,
   "metadata": {},
   "outputs": [
    {
     "data": {
      "text/html": [
       "<div>\n",
       "<style scoped>\n",
       "    .dataframe tbody tr th:only-of-type {\n",
       "        vertical-align: middle;\n",
       "    }\n",
       "\n",
       "    .dataframe tbody tr th {\n",
       "        vertical-align: top;\n",
       "    }\n",
       "\n",
       "    .dataframe thead th {\n",
       "        text-align: right;\n",
       "    }\n",
       "</style>\n",
       "<table border=\"1\" class=\"dataframe\">\n",
       "  <thead>\n",
       "    <tr style=\"text-align: right;\">\n",
       "      <th></th>\n",
       "      <th>customerID</th>\n",
       "      <th>gender</th>\n",
       "      <th>SeniorCitizen</th>\n",
       "      <th>Partner</th>\n",
       "      <th>Dependents</th>\n",
       "      <th>tenure</th>\n",
       "      <th>PhoneService</th>\n",
       "      <th>MultipleLines</th>\n",
       "      <th>InternetService</th>\n",
       "      <th>OnlineSecurity</th>\n",
       "      <th>...</th>\n",
       "      <th>DeviceProtection</th>\n",
       "      <th>TechSupport</th>\n",
       "      <th>StreamingTV</th>\n",
       "      <th>StreamingMovies</th>\n",
       "      <th>Contract</th>\n",
       "      <th>PaperlessBilling</th>\n",
       "      <th>PaymentMethod</th>\n",
       "      <th>MonthlyCharges</th>\n",
       "      <th>TotalCharges</th>\n",
       "      <th>Churn</th>\n",
       "    </tr>\n",
       "  </thead>\n",
       "  <tbody>\n",
       "    <tr>\n",
       "      <td>0</td>\n",
       "      <td>7590-VHVEG</td>\n",
       "      <td>Female</td>\n",
       "      <td>0</td>\n",
       "      <td>Yes</td>\n",
       "      <td>No</td>\n",
       "      <td>1</td>\n",
       "      <td>No</td>\n",
       "      <td>No phone service</td>\n",
       "      <td>DSL</td>\n",
       "      <td>No</td>\n",
       "      <td>...</td>\n",
       "      <td>No</td>\n",
       "      <td>No</td>\n",
       "      <td>No</td>\n",
       "      <td>No</td>\n",
       "      <td>Month-to-month</td>\n",
       "      <td>Yes</td>\n",
       "      <td>Electronic check</td>\n",
       "      <td>29.85</td>\n",
       "      <td>29.85</td>\n",
       "      <td>No</td>\n",
       "    </tr>\n",
       "    <tr>\n",
       "      <td>1</td>\n",
       "      <td>5575-GNVDE</td>\n",
       "      <td>Male</td>\n",
       "      <td>0</td>\n",
       "      <td>No</td>\n",
       "      <td>No</td>\n",
       "      <td>34</td>\n",
       "      <td>Yes</td>\n",
       "      <td>No</td>\n",
       "      <td>DSL</td>\n",
       "      <td>Yes</td>\n",
       "      <td>...</td>\n",
       "      <td>Yes</td>\n",
       "      <td>No</td>\n",
       "      <td>No</td>\n",
       "      <td>No</td>\n",
       "      <td>One year</td>\n",
       "      <td>No</td>\n",
       "      <td>Mailed check</td>\n",
       "      <td>56.95</td>\n",
       "      <td>1889.5</td>\n",
       "      <td>No</td>\n",
       "    </tr>\n",
       "    <tr>\n",
       "      <td>2</td>\n",
       "      <td>3668-QPYBK</td>\n",
       "      <td>Male</td>\n",
       "      <td>0</td>\n",
       "      <td>No</td>\n",
       "      <td>No</td>\n",
       "      <td>2</td>\n",
       "      <td>Yes</td>\n",
       "      <td>No</td>\n",
       "      <td>DSL</td>\n",
       "      <td>Yes</td>\n",
       "      <td>...</td>\n",
       "      <td>No</td>\n",
       "      <td>No</td>\n",
       "      <td>No</td>\n",
       "      <td>No</td>\n",
       "      <td>Month-to-month</td>\n",
       "      <td>Yes</td>\n",
       "      <td>Mailed check</td>\n",
       "      <td>53.85</td>\n",
       "      <td>108.15</td>\n",
       "      <td>Yes</td>\n",
       "    </tr>\n",
       "    <tr>\n",
       "      <td>3</td>\n",
       "      <td>7795-CFOCW</td>\n",
       "      <td>Male</td>\n",
       "      <td>0</td>\n",
       "      <td>No</td>\n",
       "      <td>No</td>\n",
       "      <td>45</td>\n",
       "      <td>No</td>\n",
       "      <td>No phone service</td>\n",
       "      <td>DSL</td>\n",
       "      <td>Yes</td>\n",
       "      <td>...</td>\n",
       "      <td>Yes</td>\n",
       "      <td>Yes</td>\n",
       "      <td>No</td>\n",
       "      <td>No</td>\n",
       "      <td>One year</td>\n",
       "      <td>No</td>\n",
       "      <td>Bank transfer (automatic)</td>\n",
       "      <td>42.30</td>\n",
       "      <td>1840.75</td>\n",
       "      <td>No</td>\n",
       "    </tr>\n",
       "    <tr>\n",
       "      <td>4</td>\n",
       "      <td>9237-HQITU</td>\n",
       "      <td>Female</td>\n",
       "      <td>0</td>\n",
       "      <td>No</td>\n",
       "      <td>No</td>\n",
       "      <td>2</td>\n",
       "      <td>Yes</td>\n",
       "      <td>No</td>\n",
       "      <td>Fiber optic</td>\n",
       "      <td>No</td>\n",
       "      <td>...</td>\n",
       "      <td>No</td>\n",
       "      <td>No</td>\n",
       "      <td>No</td>\n",
       "      <td>No</td>\n",
       "      <td>Month-to-month</td>\n",
       "      <td>Yes</td>\n",
       "      <td>Electronic check</td>\n",
       "      <td>70.70</td>\n",
       "      <td>151.65</td>\n",
       "      <td>Yes</td>\n",
       "    </tr>\n",
       "  </tbody>\n",
       "</table>\n",
       "<p>5 rows × 21 columns</p>\n",
       "</div>"
      ],
      "text/plain": [
       "   customerID  gender  SeniorCitizen Partner Dependents  tenure PhoneService  \\\n",
       "0  7590-VHVEG  Female              0     Yes         No       1           No   \n",
       "1  5575-GNVDE    Male              0      No         No      34          Yes   \n",
       "2  3668-QPYBK    Male              0      No         No       2          Yes   \n",
       "3  7795-CFOCW    Male              0      No         No      45           No   \n",
       "4  9237-HQITU  Female              0      No         No       2          Yes   \n",
       "\n",
       "      MultipleLines InternetService OnlineSecurity  ... DeviceProtection  \\\n",
       "0  No phone service             DSL             No  ...               No   \n",
       "1                No             DSL            Yes  ...              Yes   \n",
       "2                No             DSL            Yes  ...               No   \n",
       "3  No phone service             DSL            Yes  ...              Yes   \n",
       "4                No     Fiber optic             No  ...               No   \n",
       "\n",
       "  TechSupport StreamingTV StreamingMovies        Contract PaperlessBilling  \\\n",
       "0          No          No              No  Month-to-month              Yes   \n",
       "1          No          No              No        One year               No   \n",
       "2          No          No              No  Month-to-month              Yes   \n",
       "3         Yes          No              No        One year               No   \n",
       "4          No          No              No  Month-to-month              Yes   \n",
       "\n",
       "               PaymentMethod MonthlyCharges  TotalCharges Churn  \n",
       "0           Electronic check          29.85         29.85    No  \n",
       "1               Mailed check          56.95        1889.5    No  \n",
       "2               Mailed check          53.85        108.15   Yes  \n",
       "3  Bank transfer (automatic)          42.30       1840.75    No  \n",
       "4           Electronic check          70.70        151.65   Yes  \n",
       "\n",
       "[5 rows x 21 columns]"
      ]
     },
     "execution_count": 2,
     "metadata": {},
     "output_type": "execute_result"
    }
   ],
   "source": [
    "df=pd.read_csv('/kaggle/input/telco-customer-churn/WA_Fn-UseC_-Telco-Customer-Churn.csv')\n",
    "df.head()"
   ]
  },
  {
   "cell_type": "code",
   "execution_count": 3,
   "metadata": {},
   "outputs": [
    {
     "data": {
      "text/html": [
       "<div>\n",
       "<style scoped>\n",
       "    .dataframe tbody tr th:only-of-type {\n",
       "        vertical-align: middle;\n",
       "    }\n",
       "\n",
       "    .dataframe tbody tr th {\n",
       "        vertical-align: top;\n",
       "    }\n",
       "\n",
       "    .dataframe thead th {\n",
       "        text-align: right;\n",
       "    }\n",
       "</style>\n",
       "<table border=\"1\" class=\"dataframe\">\n",
       "  <thead>\n",
       "    <tr style=\"text-align: right;\">\n",
       "      <th></th>\n",
       "      <th>SeniorCitizen</th>\n",
       "      <th>tenure</th>\n",
       "      <th>MonthlyCharges</th>\n",
       "    </tr>\n",
       "  </thead>\n",
       "  <tbody>\n",
       "    <tr>\n",
       "      <td>SeniorCitizen</td>\n",
       "      <td>1.000000</td>\n",
       "      <td>0.016567</td>\n",
       "      <td>0.220173</td>\n",
       "    </tr>\n",
       "    <tr>\n",
       "      <td>tenure</td>\n",
       "      <td>0.016567</td>\n",
       "      <td>1.000000</td>\n",
       "      <td>0.247900</td>\n",
       "    </tr>\n",
       "    <tr>\n",
       "      <td>MonthlyCharges</td>\n",
       "      <td>0.220173</td>\n",
       "      <td>0.247900</td>\n",
       "      <td>1.000000</td>\n",
       "    </tr>\n",
       "  </tbody>\n",
       "</table>\n",
       "</div>"
      ],
      "text/plain": [
       "                SeniorCitizen    tenure  MonthlyCharges\n",
       "SeniorCitizen        1.000000  0.016567        0.220173\n",
       "tenure               0.016567  1.000000        0.247900\n",
       "MonthlyCharges       0.220173  0.247900        1.000000"
      ]
     },
     "execution_count": 3,
     "metadata": {},
     "output_type": "execute_result"
    }
   ],
   "source": [
    "df.corr(method='pearson')"
   ]
  },
  {
   "cell_type": "code",
   "execution_count": 4,
   "metadata": {},
   "outputs": [
    {
     "data": {
      "text/plain": [
       "No     5174\n",
       "Yes    1869\n",
       "Name: Churn, dtype: int64"
      ]
     },
     "execution_count": 4,
     "metadata": {},
     "output_type": "execute_result"
    }
   ],
   "source": [
    "df['Churn'].value_counts()"
   ]
  },
  {
   "cell_type": "code",
   "execution_count": 5,
   "metadata": {},
   "outputs": [],
   "source": [
    "X=df.drop(['customerID','Churn'],axis=1)"
   ]
  },
  {
   "cell_type": "code",
   "execution_count": 6,
   "metadata": {},
   "outputs": [],
   "source": [
    "y=df['Churn']"
   ]
  },
  {
   "cell_type": "code",
   "execution_count": 7,
   "metadata": {},
   "outputs": [
    {
     "data": {
      "text/plain": [
       "<bound method DataFrame.info of       gender  SeniorCitizen Partner Dependents  tenure PhoneService  \\\n",
       "0     Female              0     Yes         No       1           No   \n",
       "1       Male              0      No         No      34          Yes   \n",
       "2       Male              0      No         No       2          Yes   \n",
       "3       Male              0      No         No      45           No   \n",
       "4     Female              0      No         No       2          Yes   \n",
       "...      ...            ...     ...        ...     ...          ...   \n",
       "7038    Male              0     Yes        Yes      24          Yes   \n",
       "7039  Female              0     Yes        Yes      72          Yes   \n",
       "7040  Female              0     Yes        Yes      11           No   \n",
       "7041    Male              1     Yes         No       4          Yes   \n",
       "7042    Male              0      No         No      66          Yes   \n",
       "\n",
       "         MultipleLines InternetService OnlineSecurity OnlineBackup  \\\n",
       "0     No phone service             DSL             No          Yes   \n",
       "1                   No             DSL            Yes           No   \n",
       "2                   No             DSL            Yes          Yes   \n",
       "3     No phone service             DSL            Yes           No   \n",
       "4                   No     Fiber optic             No           No   \n",
       "...                ...             ...            ...          ...   \n",
       "7038               Yes             DSL            Yes           No   \n",
       "7039               Yes     Fiber optic             No          Yes   \n",
       "7040  No phone service             DSL            Yes           No   \n",
       "7041               Yes     Fiber optic             No           No   \n",
       "7042                No     Fiber optic            Yes           No   \n",
       "\n",
       "     DeviceProtection TechSupport StreamingTV StreamingMovies        Contract  \\\n",
       "0                  No          No          No              No  Month-to-month   \n",
       "1                 Yes          No          No              No        One year   \n",
       "2                  No          No          No              No  Month-to-month   \n",
       "3                 Yes         Yes          No              No        One year   \n",
       "4                  No          No          No              No  Month-to-month   \n",
       "...               ...         ...         ...             ...             ...   \n",
       "7038              Yes         Yes         Yes             Yes        One year   \n",
       "7039              Yes          No         Yes             Yes        One year   \n",
       "7040               No          No          No              No  Month-to-month   \n",
       "7041               No          No          No              No  Month-to-month   \n",
       "7042              Yes         Yes         Yes             Yes        Two year   \n",
       "\n",
       "     PaperlessBilling              PaymentMethod  MonthlyCharges TotalCharges  \n",
       "0                 Yes           Electronic check           29.85        29.85  \n",
       "1                  No               Mailed check           56.95       1889.5  \n",
       "2                 Yes               Mailed check           53.85       108.15  \n",
       "3                  No  Bank transfer (automatic)           42.30      1840.75  \n",
       "4                 Yes           Electronic check           70.70       151.65  \n",
       "...               ...                        ...             ...          ...  \n",
       "7038              Yes               Mailed check           84.80       1990.5  \n",
       "7039              Yes    Credit card (automatic)          103.20       7362.9  \n",
       "7040              Yes           Electronic check           29.60       346.45  \n",
       "7041              Yes               Mailed check           74.40        306.6  \n",
       "7042              Yes  Bank transfer (automatic)          105.65       6844.5  \n",
       "\n",
       "[7043 rows x 19 columns]>"
      ]
     },
     "execution_count": 7,
     "metadata": {},
     "output_type": "execute_result"
    }
   ],
   "source": [
    "X.info"
   ]
  },
  {
   "cell_type": "code",
   "execution_count": 8,
   "metadata": {},
   "outputs": [],
   "source": [
    "from sklearn.preprocessing import LabelBinarizer\n",
    "lb=LabelBinarizer()\n",
    "y=lb.fit_transform(y)"
   ]
  },
  {
   "cell_type": "code",
   "execution_count": 9,
   "metadata": {},
   "outputs": [
    {
     "data": {
      "text/plain": [
       "gender              0\n",
       "SeniorCitizen       0\n",
       "Partner             0\n",
       "Dependents          0\n",
       "tenure              0\n",
       "PhoneService        0\n",
       "MultipleLines       0\n",
       "InternetService     0\n",
       "OnlineSecurity      0\n",
       "OnlineBackup        0\n",
       "DeviceProtection    0\n",
       "TechSupport         0\n",
       "StreamingTV         0\n",
       "StreamingMovies     0\n",
       "Contract            0\n",
       "PaperlessBilling    0\n",
       "PaymentMethod       0\n",
       "MonthlyCharges      0\n",
       "TotalCharges        0\n",
       "dtype: int64"
      ]
     },
     "execution_count": 9,
     "metadata": {},
     "output_type": "execute_result"
    }
   ],
   "source": [
    "X.isnull().sum()"
   ]
  },
  {
   "cell_type": "code",
   "execution_count": null,
   "metadata": {},
   "outputs": [],
   "source": []
  },
  {
   "cell_type": "code",
   "execution_count": 10,
   "metadata": {},
   "outputs": [],
   "source": [
    "X=pd.get_dummies(X)"
   ]
  },
  {
   "cell_type": "code",
   "execution_count": 11,
   "metadata": {},
   "outputs": [],
   "source": [
    "from sklearn.model_selection import train_test_split\n",
    "X_train,X_test,y_train,y_test=train_test_split(X,y,test_size=0.20)"
   ]
  },
  {
   "cell_type": "code",
   "execution_count": 12,
   "metadata": {},
   "outputs": [
    {
     "name": "stderr",
     "output_type": "stream",
     "text": [
      "/opt/conda/lib/python3.6/site-packages/sklearn/linear_model/logistic.py:432: FutureWarning: Default solver will be changed to 'lbfgs' in 0.22. Specify a solver to silence this warning.\n",
      "  FutureWarning)\n",
      "/opt/conda/lib/python3.6/site-packages/sklearn/utils/validation.py:724: DataConversionWarning: A column-vector y was passed when a 1d array was expected. Please change the shape of y to (n_samples, ), for example using ravel().\n",
      "  y = column_or_1d(y, warn=True)\n"
     ]
    },
    {
     "data": {
      "text/plain": [
       "0.8126330731014905"
      ]
     },
     "execution_count": 12,
     "metadata": {},
     "output_type": "execute_result"
    }
   ],
   "source": [
    "from sklearn.linear_model import LogisticRegression\n",
    "d=LogisticRegression()\n",
    "d.fit(X_train,y_train)\n",
    "d.score(X_test,y_test)"
   ]
  },
  {
   "cell_type": "code",
   "execution_count": 13,
   "metadata": {},
   "outputs": [
    {
     "name": "stderr",
     "output_type": "stream",
     "text": [
      "/opt/conda/lib/python3.6/site-packages/ipykernel_launcher.py:3: DataConversionWarning: A column-vector y was passed when a 1d array was expected. Please change the shape of y to (n_samples, ), for example using ravel().\n",
      "  This is separate from the ipykernel package so we can avoid doing imports until\n"
     ]
    },
    {
     "data": {
      "text/plain": [
       "0.7806955287437899"
      ]
     },
     "execution_count": 13,
     "metadata": {},
     "output_type": "execute_result"
    }
   ],
   "source": [
    "from sklearn.neighbors import KNeighborsClassifier\n",
    "k=KNeighborsClassifier()\n",
    "k.fit(X_train,y_train)\n",
    "k.score(X_test,y_test)"
   ]
  },
  {
   "cell_type": "code",
   "execution_count": 14,
   "metadata": {},
   "outputs": [
    {
     "name": "stderr",
     "output_type": "stream",
     "text": [
      "/opt/conda/lib/python3.6/site-packages/sklearn/utils/validation.py:724: DataConversionWarning: A column-vector y was passed when a 1d array was expected. Please change the shape of y to (n_samples, ), for example using ravel().\n",
      "  y = column_or_1d(y, warn=True)\n",
      "/opt/conda/lib/python3.6/site-packages/sklearn/svm/base.py:193: FutureWarning: The default value of gamma will change from 'auto' to 'scale' in version 0.22 to account better for unscaled features. Set gamma explicitly to 'auto' or 'scale' to avoid this warning.\n",
      "  \"avoid this warning.\", FutureWarning)\n"
     ]
    },
    {
     "data": {
      "text/plain": [
       "0.7977288857345636"
      ]
     },
     "execution_count": 14,
     "metadata": {},
     "output_type": "execute_result"
    }
   ],
   "source": [
    "from sklearn.svm import SVC\n",
    "w=SVC()\n",
    "w.fit(X_train,y_train)\n",
    "w.score(X_test,y_test)"
   ]
  },
  {
   "cell_type": "code",
   "execution_count": 15,
   "metadata": {},
   "outputs": [
    {
     "name": "stderr",
     "output_type": "stream",
     "text": [
      "/opt/conda/lib/python3.6/site-packages/sklearn/utils/validation.py:724: DataConversionWarning: A column-vector y was passed when a 1d array was expected. Please change the shape of y to (n_samples, ), for example using ravel().\n",
      "  y = column_or_1d(y, warn=True)\n"
     ]
    },
    {
     "data": {
      "text/plain": [
       "0.276792051100071"
      ]
     },
     "execution_count": 15,
     "metadata": {},
     "output_type": "execute_result"
    }
   ],
   "source": [
    "from sklearn.naive_bayes import GaussianNB\n",
    "u=GaussianNB()\n",
    "u.fit(X_train,y_train)\n",
    "u.score(X_test,y_test)"
   ]
  },
  {
   "cell_type": "code",
   "execution_count": 16,
   "metadata": {},
   "outputs": [
    {
     "data": {
      "text/plain": [
       "0.7913413768630234"
      ]
     },
     "execution_count": 16,
     "metadata": {},
     "output_type": "execute_result"
    }
   ],
   "source": [
    "from sklearn.tree import DecisionTreeClassifier\n",
    "m=DecisionTreeClassifier()\n",
    "m.fit(X_train,y_train)\n",
    "m.score(X_test,y_test)"
   ]
  },
  {
   "cell_type": "code",
   "execution_count": 17,
   "metadata": {},
   "outputs": [
    {
     "name": "stderr",
     "output_type": "stream",
     "text": [
      "/opt/conda/lib/python3.6/site-packages/sklearn/ensemble/forest.py:245: FutureWarning: The default value of n_estimators will change from 10 in version 0.20 to 100 in 0.22.\n",
      "  \"10 in version 0.20 to 100 in 0.22.\", FutureWarning)\n",
      "/opt/conda/lib/python3.6/site-packages/ipykernel_launcher.py:3: DataConversionWarning: A column-vector y was passed when a 1d array was expected. Please change the shape of y to (n_samples,), for example using ravel().\n",
      "  This is separate from the ipykernel package so we can avoid doing imports until\n"
     ]
    },
    {
     "data": {
      "text/plain": [
       "0.8041163946061036"
      ]
     },
     "execution_count": 17,
     "metadata": {},
     "output_type": "execute_result"
    }
   ],
   "source": [
    "from sklearn.ensemble import RandomForestClassifier\n",
    "o=RandomForestClassifier()\n",
    "o.fit(X_train,y_train)\n",
    "o.score(X_test,y_test)"
   ]
  },
  {
   "cell_type": "code",
   "execution_count": 18,
   "metadata": {},
   "outputs": [
    {
     "name": "stderr",
     "output_type": "stream",
     "text": [
      "/opt/conda/lib/python3.6/site-packages/sklearn/ensemble/forest.py:245: FutureWarning: The default value of n_estimators will change from 10 in version 0.20 to 100 in 0.22.\n",
      "  \"10 in version 0.20 to 100 in 0.22.\", FutureWarning)\n",
      "/opt/conda/lib/python3.6/site-packages/ipykernel_launcher.py:3: DataConversionWarning: A column-vector y was passed when a 1d array was expected. Please change the shape of y to (n_samples,), for example using ravel().\n",
      "  This is separate from the ipykernel package so we can avoid doing imports until\n"
     ]
    },
    {
     "data": {
      "text/plain": [
       "0.7806955287437899"
      ]
     },
     "execution_count": 18,
     "metadata": {},
     "output_type": "execute_result"
    }
   ],
   "source": [
    "from sklearn.ensemble import ExtraTreesClassifier\n",
    "i=ExtraTreesClassifier()\n",
    "i.fit(X_train,y_train)\n",
    "i.score(X_test,y_test)"
   ]
  },
  {
   "cell_type": "code",
   "execution_count": 19,
   "metadata": {},
   "outputs": [
    {
     "name": "stderr",
     "output_type": "stream",
     "text": [
      "/opt/conda/lib/python3.6/site-packages/sklearn/utils/validation.py:724: DataConversionWarning: A column-vector y was passed when a 1d array was expected. Please change the shape of y to (n_samples, ), for example using ravel().\n",
      "  y = column_or_1d(y, warn=True)\n"
     ]
    },
    {
     "data": {
      "text/plain": [
       "0.7551454932576295"
      ]
     },
     "execution_count": 19,
     "metadata": {},
     "output_type": "execute_result"
    }
   ],
   "source": [
    "from sklearn.linear_model import SGDClassifier\n",
    "r=SGDClassifier()\n",
    "r.fit(X_train,y_train)\n",
    "r.score(X_test,y_test)"
   ]
  },
  {
   "cell_type": "code",
   "execution_count": 20,
   "metadata": {},
   "outputs": [
    {
     "name": "stdout",
     "output_type": "stream",
     "text": [
      "confusion_matrix\n",
      "[[947  95]\n",
      " [169 198]]\n"
     ]
    }
   ],
   "source": [
    "from sklearn.metrics import confusion_matrix\n",
    "y_predict=d.predict(X_test)\n",
    "results=confusion_matrix(y_test,y_predict)\n",
    "print(\"confusion_matrix\")\n",
    "print(results)\n"
   ]
  },
  {
   "cell_type": "code",
   "execution_count": 21,
   "metadata": {},
   "outputs": [],
   "source": [
    "# save model\n",
    "import pickle\n",
    "file_names=\"churn.sav\"\n",
    "tuples=(d,X)\n",
    "pickle.dump(tuples,open(file_names,'wb'))"
   ]
  },
  {
   "cell_type": "code",
   "execution_count": 22,
   "metadata": {},
   "outputs": [
    {
     "name": "stdout",
     "output_type": "stream",
     "text": [
      "confusion_matrix\n",
      "[[916 126]\n",
      " [183 184]]\n"
     ]
    }
   ],
   "source": [
    "from sklearn.metrics import confusion_matrix\n",
    "y_predict1=k.predict(X_test)\n",
    "results1=confusion_matrix(y_test,y_predict1)\n",
    "print(\"confusion_matrix\")\n",
    "print(results1)"
   ]
  },
  {
   "cell_type": "code",
   "execution_count": 23,
   "metadata": {},
   "outputs": [
    {
     "name": "stdout",
     "output_type": "stream",
     "text": [
      "confusion_matrix\n",
      "[[970  72]\n",
      " [213 154]]\n"
     ]
    }
   ],
   "source": [
    "from sklearn.metrics import confusion_matrix\n",
    "y_predict2=w.predict(X_test)\n",
    "results2=confusion_matrix(y_test,y_predict2)\n",
    "print(\"confusion_matrix\")\n",
    "print(results2)"
   ]
  },
  {
   "cell_type": "code",
   "execution_count": 24,
   "metadata": {},
   "outputs": [
    {
     "name": "stdout",
     "output_type": "stream",
     "text": [
      "confusion_matrix\n",
      "[[919 123]\n",
      " [171 196]]\n"
     ]
    }
   ],
   "source": [
    "from sklearn.metrics import confusion_matrix\n",
    "y_predict3=m.predict(X_test)\n",
    "results3=confusion_matrix(y_test,y_predict3)\n",
    "print(\"confusion_matrix\")\n",
    "print(results3)"
   ]
  },
  {
   "cell_type": "code",
   "execution_count": 25,
   "metadata": {},
   "outputs": [
    {
     "name": "stdout",
     "output_type": "stream",
     "text": [
      "confusion_matrix\n",
      "[[ 48 994]\n",
      " [ 25 342]]\n"
     ]
    }
   ],
   "source": [
    "from sklearn.metrics import confusion_matrix\n",
    "y_predict4=u.predict(X_test)\n",
    "results4=confusion_matrix(y_test,y_predict4)\n",
    "print(\"confusion_matrix\")\n",
    "print(results4)"
   ]
  },
  {
   "cell_type": "code",
   "execution_count": 26,
   "metadata": {},
   "outputs": [
    {
     "name": "stdout",
     "output_type": "stream",
     "text": [
      "confusion_matrix\n",
      "[[1036    6]\n",
      " [ 339   28]]\n"
     ]
    }
   ],
   "source": [
    "from sklearn.metrics import confusion_matrix\n",
    "y_predict5=r.predict(X_test)\n",
    "results5=confusion_matrix(y_test,y_predict5)\n",
    "print(\"confusion_matrix\")\n",
    "print(results5)"
   ]
  },
  {
   "cell_type": "code",
   "execution_count": 27,
   "metadata": {},
   "outputs": [
    {
     "name": "stdout",
     "output_type": "stream",
     "text": [
      "[0.         0.01247601 0.04798464 0.12092131 0.27351248 0.49616123\n",
      " 1.        ]  [0.         0.14713896 0.32425068 0.5013624  0.73024523 0.89918256\n",
      " 1.        ]  [2.  1.  0.8 0.6 0.4 0.2 0. ]\n"
     ]
    }
   ],
   "source": [
    "from sklearn.metrics import roc_curve,auc,roc_auc_score\n",
    "fpr,tpr,threshold=roc_curve(y_test,k.predict_proba(X_test)[:,1])\n",
    "print(fpr,'',tpr,'',threshold)\n"
   ]
  },
  {
   "cell_type": "code",
   "execution_count": 28,
   "metadata": {},
   "outputs": [
    {
     "name": "stdout",
     "output_type": "stream",
     "text": [
      "[0.00000000e+00 0.00000000e+00 0.00000000e+00 9.59692898e-04\n",
      " 9.59692898e-04 1.91938580e-03 1.91938580e-03 2.87907869e-03\n",
      " 2.87907869e-03 3.83877159e-03 3.83877159e-03 5.75815739e-03\n",
      " 5.75815739e-03 6.71785029e-03 6.71785029e-03 7.67754319e-03\n",
      " 7.67754319e-03 8.63723608e-03 8.63723608e-03 9.59692898e-03\n",
      " 9.59692898e-03 1.05566219e-02 1.05566219e-02 1.15163148e-02\n",
      " 1.15163148e-02 1.24760077e-02 1.24760077e-02 1.34357006e-02\n",
      " 1.34357006e-02 1.53550864e-02 1.53550864e-02 1.72744722e-02\n",
      " 1.72744722e-02 1.82341651e-02 1.82341651e-02 1.91938580e-02\n",
      " 1.91938580e-02 2.01535509e-02 2.01535509e-02 2.11132438e-02\n",
      " 2.11132438e-02 2.20729367e-02 2.20729367e-02 2.30326296e-02\n",
      " 2.39923225e-02 2.49520154e-02 2.49520154e-02 2.59117083e-02\n",
      " 2.59117083e-02 2.68714012e-02 2.68714012e-02 2.87907869e-02\n",
      " 2.87907869e-02 3.07101727e-02 3.07101727e-02 3.26295585e-02\n",
      " 3.26295585e-02 3.35892514e-02 3.35892514e-02 3.74280230e-02\n",
      " 3.74280230e-02 3.93474088e-02 3.93474088e-02 4.03071017e-02\n",
      " 4.03071017e-02 4.22264875e-02 4.22264875e-02 4.31861804e-02\n",
      " 4.31861804e-02 4.41458733e-02 4.41458733e-02 4.79846449e-02\n",
      " 4.79846449e-02 5.08637236e-02 5.08637236e-02 5.27831094e-02\n",
      " 5.27831094e-02 5.37428023e-02 5.37428023e-02 5.47024952e-02\n",
      " 5.47024952e-02 5.66218810e-02 5.66218810e-02 6.33397313e-02\n",
      " 6.33397313e-02 6.42994242e-02 6.42994242e-02 6.52591171e-02\n",
      " 6.52591171e-02 6.62188100e-02 6.62188100e-02 6.71785029e-02\n",
      " 6.71785029e-02 6.81381958e-02 6.81381958e-02 6.90978887e-02\n",
      " 6.90978887e-02 7.10172745e-02 7.10172745e-02 7.19769674e-02\n",
      " 7.19769674e-02 7.58157390e-02 7.58157390e-02 7.67754319e-02\n",
      " 7.67754319e-02 7.77351248e-02 7.77351248e-02 7.96545106e-02\n",
      " 7.96545106e-02 8.06142035e-02 8.06142035e-02 8.15738964e-02\n",
      " 8.15738964e-02 8.34932821e-02 8.34932821e-02 8.34932821e-02\n",
      " 8.63723608e-02 8.63723608e-02 8.73320537e-02 8.73320537e-02\n",
      " 8.82917466e-02 8.82917466e-02 9.02111324e-02 9.02111324e-02\n",
      " 9.11708253e-02 9.11708253e-02 9.21305182e-02 9.21305182e-02\n",
      " 9.59692898e-02 9.59692898e-02 9.78886756e-02 9.78886756e-02\n",
      " 9.88483685e-02 9.88483685e-02 1.00767754e-01 1.00767754e-01\n",
      " 1.05566219e-01 1.05566219e-01 1.08445298e-01 1.08445298e-01\n",
      " 1.12284069e-01 1.12284069e-01 1.19001919e-01 1.19001919e-01\n",
      " 1.21880998e-01 1.21880998e-01 1.23800384e-01 1.23800384e-01\n",
      " 1.25719770e-01 1.25719770e-01 1.27639155e-01 1.27639155e-01\n",
      " 1.28598848e-01 1.28598848e-01 1.38195777e-01 1.38195777e-01\n",
      " 1.39155470e-01 1.39155470e-01 1.45873321e-01 1.45873321e-01\n",
      " 1.47792706e-01 1.47792706e-01 1.48752399e-01 1.48752399e-01\n",
      " 1.50671785e-01 1.50671785e-01 1.51631478e-01 1.51631478e-01\n",
      " 1.53550864e-01 1.53550864e-01 1.54510557e-01 1.54510557e-01\n",
      " 1.55470250e-01 1.55470250e-01 1.60268714e-01 1.60268714e-01\n",
      " 1.62188100e-01 1.62188100e-01 1.63147793e-01 1.63147793e-01\n",
      " 1.66026871e-01 1.66026871e-01 1.66986564e-01 1.66986564e-01\n",
      " 1.69865643e-01 1.69865643e-01 1.71785029e-01 1.71785029e-01\n",
      " 1.75623800e-01 1.75623800e-01 1.80422265e-01 1.80422265e-01\n",
      " 1.82341651e-01 1.82341651e-01 1.83301344e-01 1.83301344e-01\n",
      " 1.84261036e-01 1.84261036e-01 1.94817658e-01 1.94817658e-01\n",
      " 2.02495202e-01 2.02495202e-01 2.03454894e-01 2.03454894e-01\n",
      " 2.05374280e-01 2.05374280e-01 2.07293666e-01 2.07293666e-01\n",
      " 2.08253359e-01 2.08253359e-01 2.10172745e-01 2.10172745e-01\n",
      " 2.11132438e-01 2.11132438e-01 2.12092131e-01 2.12092131e-01\n",
      " 2.14971209e-01 2.14971209e-01 2.18809981e-01 2.18809981e-01\n",
      " 2.21689060e-01 2.21689060e-01 2.22648752e-01 2.22648752e-01\n",
      " 2.26487524e-01 2.26487524e-01 2.29366603e-01 2.29366603e-01\n",
      " 2.37044146e-01 2.37044146e-01 2.40882917e-01 2.40882917e-01\n",
      " 2.56238004e-01 2.56238004e-01 2.58157390e-01 2.58157390e-01\n",
      " 2.59117083e-01 2.59117083e-01 2.63915547e-01 2.63915547e-01\n",
      " 2.74472169e-01 2.74472169e-01 2.78310940e-01 2.78310940e-01\n",
      " 2.81190019e-01 2.81190019e-01 2.82149712e-01 2.82149712e-01\n",
      " 2.85988484e-01 2.85988484e-01 2.92706334e-01 2.92706334e-01\n",
      " 2.97504798e-01 2.97504798e-01 3.08061420e-01 3.08061420e-01\n",
      " 3.14779271e-01 3.14779271e-01 3.21497121e-01 3.21497121e-01\n",
      " 3.24376200e-01 3.24376200e-01 3.39731286e-01 3.39731286e-01\n",
      " 3.40690979e-01 3.40690979e-01 3.44529750e-01 3.44529750e-01\n",
      " 3.47408829e-01 3.47408829e-01 3.51247601e-01 3.51247601e-01\n",
      " 3.54126679e-01 3.54126679e-01 3.57005758e-01 3.57005758e-01\n",
      " 3.57965451e-01 3.57965451e-01 3.64683301e-01 3.64683301e-01\n",
      " 3.67562380e-01 3.67562380e-01 3.69481766e-01 3.69481766e-01\n",
      " 3.71401152e-01 3.71401152e-01 3.86756238e-01 3.86756238e-01\n",
      " 4.01151631e-01 4.01151631e-01 4.15547025e-01 4.15547025e-01\n",
      " 4.17466411e-01 4.17466411e-01 4.20345489e-01 4.20345489e-01\n",
      " 4.24184261e-01 4.24184261e-01 4.46257198e-01 4.46257198e-01\n",
      " 4.52975048e-01 4.52975048e-01 4.59692898e-01 4.59692898e-01\n",
      " 4.74088292e-01 4.74088292e-01 4.80806142e-01 4.80806142e-01\n",
      " 5.07677543e-01 5.07677543e-01 5.15355086e-01 5.15355086e-01\n",
      " 5.33589251e-01 5.33589251e-01 5.41266795e-01 5.41266795e-01\n",
      " 5.42226488e-01 5.42226488e-01 5.50863724e-01 5.50863724e-01\n",
      " 5.73896353e-01 5.73896353e-01 5.79654511e-01 5.79654511e-01\n",
      " 5.82533589e-01 5.82533589e-01 5.83493282e-01 5.83493282e-01\n",
      " 5.93090211e-01 5.93090211e-01 6.15163148e-01 6.15163148e-01\n",
      " 6.26679463e-01 6.26679463e-01 6.42994242e-01 6.42994242e-01\n",
      " 6.65067179e-01 6.65067179e-01 7.38003839e-01 7.38003839e-01\n",
      " 7.85028791e-01 7.85028791e-01 8.33973129e-01 8.33973129e-01\n",
      " 8.82917466e-01 8.82917466e-01 9.67370441e-01 9.67370441e-01\n",
      " 1.00000000e+00]  [0.         0.0027248  0.00544959 0.00544959 0.01634877 0.01634877\n",
      " 0.03814714 0.03814714 0.04087193 0.04087193 0.05722071 0.05722071\n",
      " 0.09809264 0.09809264 0.10081744 0.10081744 0.13351499 0.13351499\n",
      " 0.13623978 0.13623978 0.13896458 0.13896458 0.14713896 0.14713896\n",
      " 0.15531335 0.15531335 0.16348774 0.16348774 0.16893733 0.16893733\n",
      " 0.19346049 0.19346049 0.22070845 0.22070845 0.22888283 0.22888283\n",
      " 0.23705722 0.23705722 0.2506812  0.2506812  0.25340599 0.25340599\n",
      " 0.26430518 0.26430518 0.26702997 0.26702997 0.27247956 0.27247956\n",
      " 0.27792916 0.27792916 0.29972752 0.29972752 0.30517711 0.30517711\n",
      " 0.31607629 0.31607629 0.32425068 0.32425068 0.33787466 0.33787466\n",
      " 0.34604905 0.34604905 0.36512262 0.36512262 0.36784741 0.36784741\n",
      " 0.3760218  0.3760218  0.38147139 0.38147139 0.38419619 0.38419619\n",
      " 0.38692098 0.38692098 0.40599455 0.40599455 0.41144414 0.41144414\n",
      " 0.41416894 0.41416894 0.41689373 0.41689373 0.41961853 0.41961853\n",
      " 0.42506812 0.42506812 0.42779292 0.42779292 0.43051771 0.43051771\n",
      " 0.43324251 0.43324251 0.4359673  0.4359673  0.44959128 0.44959128\n",
      " 0.45231608 0.45231608 0.46321526 0.46321526 0.46594005 0.46594005\n",
      " 0.47683924 0.47683924 0.48228883 0.48228883 0.48501362 0.48501362\n",
      " 0.48773842 0.48773842 0.5013624  0.5013624  0.51226158 0.51226158\n",
      " 0.51771117 0.52043597 0.52043597 0.52316076 0.52316076 0.52861035\n",
      " 0.52861035 0.53133515 0.53133515 0.53678474 0.53678474 0.53950954\n",
      " 0.53950954 0.54223433 0.54223433 0.54768392 0.54768392 0.55585831\n",
      " 0.55585831 0.55858311 0.55858311 0.56948229 0.56948229 0.57493188\n",
      " 0.57493188 0.58855586 0.58855586 0.59128065 0.59128065 0.60217984\n",
      " 0.60217984 0.60490463 0.60490463 0.60762943 0.60762943 0.61307902\n",
      " 0.61307902 0.61580381 0.61580381 0.61852861 0.61852861 0.62125341\n",
      " 0.62125341 0.6239782  0.6239782  0.626703   0.626703   0.63215259\n",
      " 0.63215259 0.63760218 0.63760218 0.64032698 0.64032698 0.64305177\n",
      " 0.64305177 0.64577657 0.64577657 0.64850136 0.64850136 0.65122616\n",
      " 0.65122616 0.65667575 0.65667575 0.65940054 0.65940054 0.66212534\n",
      " 0.66212534 0.66485014 0.66485014 0.67302452 0.67302452 0.67847411\n",
      " 0.67847411 0.68392371 0.68392371 0.6893733  0.6893733  0.69482289\n",
      " 0.69482289 0.70572207 0.70572207 0.70844687 0.70844687 0.71117166\n",
      " 0.71117166 0.71934605 0.71934605 0.72479564 0.72479564 0.73024523\n",
      " 0.73024523 0.73297003 0.73297003 0.73569482 0.73569482 0.74114441\n",
      " 0.74114441 0.74386921 0.74386921 0.7520436  0.7520436  0.75476839\n",
      " 0.75476839 0.75749319 0.75749319 0.76839237 0.76839237 0.77111717\n",
      " 0.77111717 0.77384196 0.77384196 0.77656676 0.77656676 0.77929155\n",
      " 0.77929155 0.78201635 0.78201635 0.79019074 0.79019074 0.79836512\n",
      " 0.79836512 0.80381471 0.80381471 0.80926431 0.80926431 0.8119891\n",
      " 0.8119891  0.8147139  0.8147139  0.81743869 0.81743869 0.82016349\n",
      " 0.82016349 0.82561308 0.82561308 0.82833787 0.82833787 0.83106267\n",
      " 0.83106267 0.83923706 0.83923706 0.84741144 0.84741144 0.85286104\n",
      " 0.85286104 0.85558583 0.85558583 0.85831063 0.85831063 0.86103542\n",
      " 0.86103542 0.86920981 0.86920981 0.8746594  0.8746594  0.88010899\n",
      " 0.88010899 0.88555858 0.88555858 0.89100817 0.89100817 0.89373297\n",
      " 0.89373297 0.89645777 0.89645777 0.89918256 0.89918256 0.90190736\n",
      " 0.90190736 0.90463215 0.90463215 0.90735695 0.90735695 0.91008174\n",
      " 0.91008174 0.91553134 0.91553134 0.91825613 0.91825613 0.92098093\n",
      " 0.92098093 0.92643052 0.92643052 0.92915531 0.92915531 0.93188011\n",
      " 0.93188011 0.9346049  0.9346049  0.9373297  0.9373297  0.9400545\n",
      " 0.9400545  0.94277929 0.94277929 0.94550409 0.94550409 0.95095368\n",
      " 0.95095368 0.95367847 0.95367847 0.95640327 0.95640327 0.95912807\n",
      " 0.95912807 0.96185286 0.96185286 0.96457766 0.96457766 0.96730245\n",
      " 0.96730245 0.97002725 0.97002725 0.97275204 0.97275204 0.97547684\n",
      " 0.97547684 0.97820163 0.97820163 0.98092643 0.98092643 0.98365123\n",
      " 0.98365123 0.98637602 0.98637602 0.98910082 0.98910082 0.99182561\n",
      " 0.99182561 0.99455041 0.99455041 0.9972752  0.9972752  1.\n",
      " 1.        ]  [1.86298987 0.86298987 0.86078986 0.85579909 0.84022683 0.83826578\n",
      " 0.8197433  0.81586436 0.81572615 0.81299079 0.80089229 0.79861147\n",
      " 0.77009496 0.76833491 0.76802845 0.76684034 0.74760993 0.7468676\n",
      " 0.74420642 0.74417197 0.74360537 0.74265606 0.74129149 0.73727611\n",
      " 0.73510683 0.73432221 0.73287771 0.73234656 0.73218834 0.73159629\n",
      " 0.72317938 0.72145754 0.70785037 0.70557732 0.70201352 0.69692774\n",
      " 0.69384339 0.69378322 0.68978856 0.68717778 0.68620551 0.68614143\n",
      " 0.68288515 0.68240741 0.68088738 0.68075218 0.67895179 0.67878097\n",
      " 0.67574622 0.67410161 0.66585087 0.66524743 0.66260833 0.66174015\n",
      " 0.65499006 0.65332237 0.65257873 0.65172184 0.64404228 0.64158536\n",
      " 0.63734665 0.6337722  0.62100174 0.61910137 0.61840372 0.61739413\n",
      " 0.61576131 0.61498294 0.61092094 0.61052671 0.61039283 0.60874682\n",
      " 0.60819054 0.60085119 0.58781349 0.58625645 0.58509384 0.58488581\n",
      " 0.58428676 0.58348704 0.58027782 0.57805075 0.5772475  0.57266155\n",
      " 0.57242007 0.57189828 0.57123167 0.57110994 0.57090873 0.56970246\n",
      " 0.56774442 0.56562365 0.56503836 0.56397434 0.56007247 0.55883296\n",
      " 0.55830941 0.55540678 0.55138239 0.54988257 0.54935979 0.54649935\n",
      " 0.5440384  0.54252887 0.54149035 0.54111908 0.54058328 0.54035568\n",
      " 0.53925502 0.53910772 0.53081862 0.53018729 0.52269546 0.51973137\n",
      " 0.51899522 0.51814513 0.51323457 0.51233469 0.5121774  0.50906044\n",
      " 0.50682919 0.50610664 0.50381965 0.50289542 0.50275591 0.50171805\n",
      " 0.49845406 0.49651519 0.49484483 0.4851976  0.4836243  0.48061328\n",
      " 0.48002312 0.4773344  0.47362912 0.46907622 0.46275658 0.46206303\n",
      " 0.45856792 0.4500678  0.44190296 0.44115534 0.43379067 0.4295982\n",
      " 0.42739749 0.42681934 0.42475527 0.42324194 0.42220067 0.42082732\n",
      " 0.41919463 0.41859798 0.41812864 0.41753113 0.41175259 0.41148676\n",
      " 0.41143569 0.41072868 0.40379785 0.40376372 0.40084615 0.39873552\n",
      " 0.39841101 0.3981925  0.39666208 0.39499532 0.39444614 0.39428571\n",
      " 0.39355512 0.39229617 0.38846736 0.38802155 0.38786373 0.38612899\n",
      " 0.38341502 0.38192515 0.38100096 0.38022826 0.37968929 0.37961408\n",
      " 0.3742997  0.37385872 0.37170299 0.37006883 0.36728124 0.3669159\n",
      " 0.36589119 0.36515042 0.36382937 0.3628865  0.35968279 0.35889436\n",
      " 0.35478545 0.3530874  0.35016592 0.3490747  0.34899339 0.34820401\n",
      " 0.34105555 0.33556136 0.33216647 0.33104647 0.32913719 0.3268495\n",
      " 0.32557009 0.32462864 0.3244374  0.32389218 0.32260046 0.32101757\n",
      " 0.3203269  0.31768353 0.31738871 0.3153528  0.31534627 0.3144975\n",
      " 0.31321529 0.31319216 0.30916808 0.30661698 0.30565951 0.30501673\n",
      " 0.30368409 0.3015386  0.30082859 0.30077907 0.29961695 0.29937819\n",
      " 0.29567547 0.29558955 0.2907882  0.28752836 0.28015718 0.27880644\n",
      " 0.27840883 0.27639648 0.27625201 0.27465619 0.26785356 0.26685198\n",
      " 0.25715637 0.25667334 0.25487751 0.25421699 0.25247262 0.25242632\n",
      " 0.25208895 0.25182086 0.24549955 0.24423882 0.23761008 0.23649335\n",
      " 0.23344893 0.23168203 0.22854145 0.22657742 0.22139977 0.22113715\n",
      " 0.21744672 0.21641335 0.2144849  0.21422222 0.20500268 0.20444206\n",
      " 0.20429234 0.20266714 0.1996293  0.19854028 0.19530686 0.19420062\n",
      " 0.19276402 0.19186374 0.19117345 0.19020054 0.18830183 0.18756231\n",
      " 0.187551   0.18744889 0.18216468 0.18195094 0.18061237 0.18011462\n",
      " 0.17793693 0.17783643 0.17600919 0.17600802 0.16410572 0.16381838\n",
      " 0.15535636 0.15448948 0.14551206 0.1447302  0.14377207 0.1429826\n",
      " 0.14058869 0.1402403  0.13804092 0.13803671 0.12540746 0.12455615\n",
      " 0.12212835 0.12182318 0.11890529 0.11883144 0.11209522 0.11205689\n",
      " 0.10982071 0.10944502 0.09885513 0.09811311 0.09598212 0.09585306\n",
      " 0.090242   0.09008383 0.08547038 0.08524028 0.08477449 0.08436227\n",
      " 0.0818499  0.08176956 0.07484521 0.07471499 0.07339084 0.0729872\n",
      " 0.07199098 0.07184359 0.07179968 0.07131523 0.06678853 0.0663996\n",
      " 0.05757094 0.05748123 0.05397805 0.05382842 0.04894276 0.0488457\n",
      " 0.0440323  0.04390292 0.03153428 0.03123072 0.02466028 0.02447948\n",
      " 0.01732304 0.01732173 0.0127063  0.01268443 0.0056609  0.00563665\n",
      " 0.00349498]\n"
     ]
    }
   ],
   "source": [
    "from sklearn.metrics import roc_curve,auc,roc_auc_score\n",
    "fpr1,tpr1,threshold1=roc_curve(y_test,d.predict_proba(X_test)[:,1])\n",
    "print(fpr1,'',tpr1,'',threshold1)"
   ]
  },
  {
   "cell_type": "code",
   "execution_count": 29,
   "metadata": {},
   "outputs": [
    {
     "name": "stdout",
     "output_type": "stream",
     "text": [
      "[0.         0.11804223 0.11900192 1.        ]  [0.         0.53405995 0.54223433 1.        ]  [2.  1.  0.5 0. ]\n"
     ]
    }
   ],
   "source": [
    "from sklearn.metrics import roc_curve,auc,roc_auc_score\n",
    "fpr2,tpr2,threshold2=roc_curve(y_test,m.predict_proba(X_test)[:,1])\n",
    "print(fpr2,'',tpr2,'',threshold2)"
   ]
  },
  {
   "cell_type": "code",
   "execution_count": 30,
   "metadata": {},
   "outputs": [
    {
     "name": "stdout",
     "output_type": "stream",
     "text": [
      "[0.         0.95393474 1.        ]  [0.         0.93188011 1.        ]  [2. 1. 0.]\n"
     ]
    }
   ],
   "source": [
    "from sklearn.metrics import roc_curve,auc,roc_auc_score\n",
    "fpr3,tpr3,threshold3=roc_curve(y_test,u.predict_proba(X_test)[:,1])\n",
    "print(fpr3,'',tpr3,'',threshold3)"
   ]
  },
  {
   "cell_type": "code",
   "execution_count": 31,
   "metadata": {},
   "outputs": [
    {
     "data": {
      "text/plain": [
       "0.6902205463189108"
      ]
     },
     "execution_count": 31,
     "metadata": {},
     "output_type": "execute_result"
    }
   ],
   "source": [
    "roc_auc=roc_auc_score(y_test,k.predict(X_test))\n",
    "roc_auc"
   ]
  },
  {
   "cell_type": "code",
   "execution_count": 32,
   "metadata": {},
   "outputs": [
    {
     "data": {
      "text/plain": [
       "0.7241693557244243"
      ]
     },
     "execution_count": 32,
     "metadata": {},
     "output_type": "execute_result"
    }
   ],
   "source": [
    "roc_auc1=roc_auc_score(y_test,d.predict(X_test))\n",
    "roc_auc1"
   ]
  },
  {
   "cell_type": "code",
   "execution_count": 33,
   "metadata": {},
   "outputs": [
    {
     "data": {
      "text/plain": [
       "0.7080088595082815"
      ]
     },
     "execution_count": 33,
     "metadata": {},
     "output_type": "execute_result"
    }
   ],
   "source": [
    "roc_auc2=roc_auc_score(y_test,m.predict(X_test))\n",
    "roc_auc2"
   ]
  },
  {
   "cell_type": "code",
   "execution_count": 34,
   "metadata": {},
   "outputs": [
    {
     "data": {
      "text/plain": [
       "0.48897268405445404"
      ]
     },
     "execution_count": 34,
     "metadata": {},
     "output_type": "execute_result"
    }
   ],
   "source": [
    "roc_auc3=roc_auc_score(y_test,u.predict(X_test))\n",
    "roc_auc3"
   ]
  },
  {
   "cell_type": "code",
   "execution_count": 35,
   "metadata": {},
   "outputs": [],
   "source": [
    "yfg=d.predict_proba(X_test)"
   ]
  },
  {
   "cell_type": "code",
   "execution_count": 36,
   "metadata": {},
   "outputs": [
    {
     "data": {
      "text/plain": [
       "array([[0.86961413, 0.13038587],\n",
       "       [0.5148024 , 0.4851976 ],\n",
       "       [0.98284346, 0.01715654],\n",
       "       ...,\n",
       "       [0.70169616, 0.29830384],\n",
       "       [0.79342164, 0.20657836],\n",
       "       [0.5875533 , 0.4124467 ]])"
      ]
     },
     "execution_count": 36,
     "metadata": {},
     "output_type": "execute_result"
    }
   ],
   "source": [
    "yfg"
   ]
  },
  {
   "cell_type": "code",
   "execution_count": 37,
   "metadata": {},
   "outputs": [
    {
     "data": {
      "text/plain": [
       "array([[1., 0.],\n",
       "       [0., 0.],\n",
       "       [1., 0.],\n",
       "       ...,\n",
       "       [1., 0.],\n",
       "       [1., 0.],\n",
       "       [0., 0.]])"
      ]
     },
     "execution_count": 37,
     "metadata": {},
     "output_type": "execute_result"
    }
   ],
   "source": [
    "from sklearn.preprocessing import binarize\n",
    "yqc=binarize(yfg,0.60)\n",
    "yqc[:]"
   ]
  },
  {
   "cell_type": "code",
   "execution_count": 38,
   "metadata": {},
   "outputs": [],
   "source": [
    "rt=yqc[:,1]"
   ]
  },
  {
   "cell_type": "code",
   "execution_count": 39,
   "metadata": {},
   "outputs": [],
   "source": [
    "fb=rt.astype(int)"
   ]
  },
  {
   "cell_type": "code",
   "execution_count": 40,
   "metadata": {},
   "outputs": [
    {
     "data": {
      "text/plain": [
       "array([[989,  53],\n",
       "       [224, 143]])"
      ]
     },
     "execution_count": 40,
     "metadata": {},
     "output_type": "execute_result"
    }
   ],
   "source": [
    "from sklearn.metrics import confusion_matrix\n",
    "hj=confusion_matrix(y_test,fb)\n",
    "hj"
   ]
  },
  {
   "cell_type": "code",
   "execution_count": 41,
   "metadata": {},
   "outputs": [
    {
     "data": {
      "text/plain": [
       "array([[1023,   19],\n",
       "       [ 283,   84]])"
      ]
     },
     "execution_count": 41,
     "metadata": {},
     "output_type": "execute_result"
    }
   ],
   "source": [
    "from sklearn.preprocessing import binarize\n",
    "yqc=binarize(yfg,0.70)\n",
    "yqc[:]\n",
    "rt=yqc[:,1]\n",
    "fb=rt.astype(int)\n",
    "from sklearn.metrics import confusion_matrix\n",
    "hj=confusion_matrix(y_test,fb)\n",
    "hj"
   ]
  },
  {
   "cell_type": "code",
   "execution_count": 42,
   "metadata": {},
   "outputs": [
    {
     "data": {
      "text/plain": [
       "array([[1038,    4],\n",
       "       [ 346,   21]])"
      ]
     },
     "execution_count": 42,
     "metadata": {},
     "output_type": "execute_result"
    }
   ],
   "source": [
    "from sklearn.preprocessing import binarize\n",
    "yqc=binarize(yfg,0.80)\n",
    "yqc[:]\n",
    "rt=yqc[:,1]\n",
    "fb=rt.astype(int)\n",
    "from sklearn.metrics import confusion_matrix\n",
    "hj=confusion_matrix(y_test,fb)\n",
    "hj"
   ]
  },
  {
   "cell_type": "code",
   "execution_count": 43,
   "metadata": {},
   "outputs": [
    {
     "data": {
      "text/plain": [
       "array([[1042,    0],\n",
       "       [ 367,    0]])"
      ]
     },
     "execution_count": 43,
     "metadata": {},
     "output_type": "execute_result"
    }
   ],
   "source": [
    "from sklearn.preprocessing import binarize\n",
    "yqc=binarize(yfg,0.90)\n",
    "yqc[:]\n",
    "rt=yqc[:,1]\n",
    "fb=rt.astype(int)\n",
    "from sklearn.metrics import confusion_matrix\n",
    "hj=confusion_matrix(y_test,fb)\n",
    "hj"
   ]
  },
  {
   "cell_type": "code",
   "execution_count": null,
   "metadata": {},
   "outputs": [],
   "source": []
  }
 ],
 "metadata": {
  "kernelspec": {
   "display_name": "Python 3",
   "language": "python",
   "name": "python3"
  },
  "language_info": {
   "codemirror_mode": {
    "name": "ipython",
    "version": 3
   },
   "file_extension": ".py",
   "mimetype": "text/x-python",
   "name": "python",
   "nbconvert_exporter": "python",
   "pygments_lexer": "ipython3",
   "version": "3.6.6"
  }
 },
 "nbformat": 4,
 "nbformat_minor": 1
}
