{
 "cells": [
  {
   "cell_type": "code",
   "execution_count": 1,
   "metadata": {
    "_cell_guid": "79c7e3d0-c299-4dcb-8224-4455121ee9b0",
    "_uuid": "d629ff2d2480ee46fbb7e2d37f6b5fab8052498a",
    "collapsed": true
   },
   "outputs": [],
   "source": [
    "# Get the data\n",
    "import pandas as pd\n",
    "dataset = pd.read_csv('../input/train.csv') # read the csv file\n",
    "X = dataset.iloc[:, :20].values # Independent variables(features): first 20 columns\n",
    "y = dataset.iloc[:, 20].values # dependent variable price: last column"
   ]
  },
  {
   "cell_type": "code",
   "execution_count": 2,
   "metadata": {
    "_uuid": "3375952c4565373fe0d1abf625aa72ba84ceb2d1"
   },
   "outputs": [],
   "source": [
    "# Splitting the dataset into the Training set and Test set\n",
    "from sklearn.model_selection import train_test_split \n",
    "X_train, X_test, y_train, y_test = train_test_split(X, y, test_size = 0.20, random_state = 42) # Split the data into training and testing data\n"
   ]
  },
  {
   "cell_type": "code",
   "execution_count": 3,
   "metadata": {
    "_uuid": "48cd8d67c1983d08c5032a6b9a1e59ec7869f7ee"
   },
   "outputs": [],
   "source": [
    "# Preprocessing - Feature Scaling\n",
    "# This step needs to be done as all the independent variables must be in the same scale\n",
    "from sklearn.preprocessing import StandardScaler\n",
    "sc = StandardScaler()\n",
    "X_train = sc.fit_transform(X_train)\n",
    "X_test = sc.transform(X_test)"
   ]
  },
  {
   "cell_type": "code",
   "execution_count": 4,
   "metadata": {
    "_uuid": "d566ba59aa1e9d9290c7ff0a26d5c852c3929f94"
   },
   "outputs": [
    {
     "data": {
      "text/plain": [
       "SVC(C=0.5, cache_size=200, class_weight=None, coef0=0.0,\n",
       "  decision_function_shape='ovr', degree=3, gamma='auto_deprecated',\n",
       "  kernel='linear', max_iter=-1, probability=False, random_state=42,\n",
       "  shrinking=True, tol=0.001, verbose=False)"
      ]
     },
     "execution_count": 4,
     "metadata": {},
     "output_type": "execute_result"
    }
   ],
   "source": [
    "# Training the model\n",
    "from sklearn.svm import SVC\n",
    "classifier_svm = SVC(C = 0.5 , kernel = 'linear', random_state = 42)\n",
    "classifier_svm.fit(X_train, y_train)"
   ]
  },
  {
   "cell_type": "code",
   "execution_count": 5,
   "metadata": {
    "_uuid": "cf927ed74ece7a8fe8fae8f33e79bf0310b75850"
   },
   "outputs": [],
   "source": [
    "# Predicting the Test set results\n",
    "y_svm = classifier_svm.predict(X_test)"
   ]
  },
  {
   "cell_type": "code",
   "execution_count": 6,
   "metadata": {
    "_uuid": "b1315e13863a3fa182f8e5d1f965dfde4393e881"
   },
   "outputs": [
    {
     "name": "stdout",
     "output_type": "stream",
     "text": [
      "Accuracy using Kernel SVM :  97.5 %\n"
     ]
    }
   ],
   "source": [
    "# Printing accuracy\n",
    "from sklearn.metrics import accuracy_score\n",
    "print('Accuracy using Kernel SVM : ',accuracy_score(y_test,y_svm)*100,'%')"
   ]
  }
 ],
 "metadata": {
  "kernelspec": {
   "display_name": "Python 3",
   "language": "python",
   "name": "python3"
  },
  "language_info": {
   "codemirror_mode": {
    "name": "ipython",
    "version": 3
   },
   "file_extension": ".py",
   "mimetype": "text/x-python",
   "name": "python",
   "nbconvert_exporter": "python",
   "pygments_lexer": "ipython3",
   "version": "3.6.6"
  }
 },
 "nbformat": 4,
 "nbformat_minor": 1
}
