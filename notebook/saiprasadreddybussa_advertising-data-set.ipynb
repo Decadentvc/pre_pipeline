{
 "cells": [
  {
   "cell_type": "code",
   "execution_count": 1,
   "metadata": {
    "_cell_guid": "b1076dfc-b9ad-4769-8c92-a6c4dae69d19",
    "_uuid": "8f2839f25d086af736a60e9eeb907d3b93b6e0e5"
   },
   "outputs": [
    {
     "name": "stdout",
     "output_type": "stream",
     "text": [
      "/kaggle/input/advertising/advertising.csv\n"
     ]
    }
   ],
   "source": [
    "# This Python 3 environment comes with many helpful analytics libraries installed\n",
    "# It is defined by the kaggle/python Docker image: https://github.com/kaggle/docker-python\n",
    "# For example, here's several helpful packages to load\n",
    "\n",
    "import numpy as np # linear algebra\n",
    "import pandas as pd # data processing, CSV file I/O (e.g. pd.read_csv)\n",
    "\n",
    "# Input data files are available in the read-only \"../input/\" directory\n",
    "# For example, running this (by clicking run or pressing Shift+Enter) will list all files under the input directory\n",
    "\n",
    "import os\n",
    "for dirname, _, filenames in os.walk('/kaggle/input'):\n",
    "    for filename in filenames:\n",
    "        print(os.path.join(dirname, filename))\n",
    "\n",
    "# You can write up to 5GB to the current directory (/kaggle/working/) that gets preserved as output when you create a version using \"Save & Run All\" \n",
    "# You can also write temporary files to /kaggle/temp/, but they won't be saved outside of the current session"
   ]
  },
  {
   "cell_type": "code",
   "execution_count": 2,
   "metadata": {
    "_cell_guid": "79c7e3d0-c299-4dcb-8224-4455121ee9b0",
    "_uuid": "d629ff2d2480ee46fbb7e2d37f6b5fab8052498a"
   },
   "outputs": [
    {
     "data": {
      "text/html": [
       "<div>\n",
       "<style scoped>\n",
       "    .dataframe tbody tr th:only-of-type {\n",
       "        vertical-align: middle;\n",
       "    }\n",
       "\n",
       "    .dataframe tbody tr th {\n",
       "        vertical-align: top;\n",
       "    }\n",
       "\n",
       "    .dataframe thead th {\n",
       "        text-align: right;\n",
       "    }\n",
       "</style>\n",
       "<table border=\"1\" class=\"dataframe\">\n",
       "  <thead>\n",
       "    <tr style=\"text-align: right;\">\n",
       "      <th></th>\n",
       "      <th>Daily Time Spent on Site</th>\n",
       "      <th>Age</th>\n",
       "      <th>Area Income</th>\n",
       "      <th>Daily Internet Usage</th>\n",
       "      <th>Ad Topic Line</th>\n",
       "      <th>City</th>\n",
       "      <th>Male</th>\n",
       "      <th>Country</th>\n",
       "      <th>Timestamp</th>\n",
       "      <th>Clicked on Ad</th>\n",
       "    </tr>\n",
       "  </thead>\n",
       "  <tbody>\n",
       "    <tr>\n",
       "      <th>0</th>\n",
       "      <td>68.95</td>\n",
       "      <td>35</td>\n",
       "      <td>61833.90</td>\n",
       "      <td>256.09</td>\n",
       "      <td>Cloned 5thgeneration orchestration</td>\n",
       "      <td>Wrightburgh</td>\n",
       "      <td>0</td>\n",
       "      <td>Tunisia</td>\n",
       "      <td>2016-03-27 00:53:11</td>\n",
       "      <td>0</td>\n",
       "    </tr>\n",
       "    <tr>\n",
       "      <th>1</th>\n",
       "      <td>80.23</td>\n",
       "      <td>31</td>\n",
       "      <td>68441.85</td>\n",
       "      <td>193.77</td>\n",
       "      <td>Monitored national standardization</td>\n",
       "      <td>West Jodi</td>\n",
       "      <td>1</td>\n",
       "      <td>Nauru</td>\n",
       "      <td>2016-04-04 01:39:02</td>\n",
       "      <td>0</td>\n",
       "    </tr>\n",
       "    <tr>\n",
       "      <th>2</th>\n",
       "      <td>69.47</td>\n",
       "      <td>26</td>\n",
       "      <td>59785.94</td>\n",
       "      <td>236.50</td>\n",
       "      <td>Organic bottom-line service-desk</td>\n",
       "      <td>Davidton</td>\n",
       "      <td>0</td>\n",
       "      <td>San Marino</td>\n",
       "      <td>2016-03-13 20:35:42</td>\n",
       "      <td>0</td>\n",
       "    </tr>\n",
       "    <tr>\n",
       "      <th>3</th>\n",
       "      <td>74.15</td>\n",
       "      <td>29</td>\n",
       "      <td>54806.18</td>\n",
       "      <td>245.89</td>\n",
       "      <td>Triple-buffered reciprocal time-frame</td>\n",
       "      <td>West Terrifurt</td>\n",
       "      <td>1</td>\n",
       "      <td>Italy</td>\n",
       "      <td>2016-01-10 02:31:19</td>\n",
       "      <td>0</td>\n",
       "    </tr>\n",
       "    <tr>\n",
       "      <th>4</th>\n",
       "      <td>68.37</td>\n",
       "      <td>35</td>\n",
       "      <td>73889.99</td>\n",
       "      <td>225.58</td>\n",
       "      <td>Robust logistical utilization</td>\n",
       "      <td>South Manuel</td>\n",
       "      <td>0</td>\n",
       "      <td>Iceland</td>\n",
       "      <td>2016-06-03 03:36:18</td>\n",
       "      <td>0</td>\n",
       "    </tr>\n",
       "  </tbody>\n",
       "</table>\n",
       "</div>"
      ],
      "text/plain": [
       "   Daily Time Spent on Site  Age  Area Income  Daily Internet Usage  \\\n",
       "0                     68.95   35     61833.90                256.09   \n",
       "1                     80.23   31     68441.85                193.77   \n",
       "2                     69.47   26     59785.94                236.50   \n",
       "3                     74.15   29     54806.18                245.89   \n",
       "4                     68.37   35     73889.99                225.58   \n",
       "\n",
       "                           Ad Topic Line            City  Male     Country  \\\n",
       "0     Cloned 5thgeneration orchestration     Wrightburgh     0     Tunisia   \n",
       "1     Monitored national standardization       West Jodi     1       Nauru   \n",
       "2       Organic bottom-line service-desk        Davidton     0  San Marino   \n",
       "3  Triple-buffered reciprocal time-frame  West Terrifurt     1       Italy   \n",
       "4          Robust logistical utilization    South Manuel     0     Iceland   \n",
       "\n",
       "             Timestamp  Clicked on Ad  \n",
       "0  2016-03-27 00:53:11              0  \n",
       "1  2016-04-04 01:39:02              0  \n",
       "2  2016-03-13 20:35:42              0  \n",
       "3  2016-01-10 02:31:19              0  \n",
       "4  2016-06-03 03:36:18              0  "
      ]
     },
     "execution_count": 2,
     "metadata": {},
     "output_type": "execute_result"
    }
   ],
   "source": [
    "Data = pd.read_csv(\"/../kaggle/input/advertising/advertising.csv\")\n",
    "Data.head()"
   ]
  },
  {
   "cell_type": "code",
   "execution_count": 3,
   "metadata": {},
   "outputs": [
    {
     "data": {
      "text/html": [
       "<div>\n",
       "<style scoped>\n",
       "    .dataframe tbody tr th:only-of-type {\n",
       "        vertical-align: middle;\n",
       "    }\n",
       "\n",
       "    .dataframe tbody tr th {\n",
       "        vertical-align: top;\n",
       "    }\n",
       "\n",
       "    .dataframe thead th {\n",
       "        text-align: right;\n",
       "    }\n",
       "</style>\n",
       "<table border=\"1\" class=\"dataframe\">\n",
       "  <thead>\n",
       "    <tr style=\"text-align: right;\">\n",
       "      <th></th>\n",
       "      <th>Daily Time Spent on Site</th>\n",
       "      <th>Age</th>\n",
       "      <th>Area Income</th>\n",
       "      <th>Daily Internet Usage</th>\n",
       "      <th>Male</th>\n",
       "      <th>Clicked on Ad</th>\n",
       "    </tr>\n",
       "  </thead>\n",
       "  <tbody>\n",
       "    <tr>\n",
       "      <th>count</th>\n",
       "      <td>1000.000000</td>\n",
       "      <td>1000.000000</td>\n",
       "      <td>1000.000000</td>\n",
       "      <td>1000.000000</td>\n",
       "      <td>1000.000000</td>\n",
       "      <td>1000.00000</td>\n",
       "    </tr>\n",
       "    <tr>\n",
       "      <th>mean</th>\n",
       "      <td>65.000200</td>\n",
       "      <td>36.009000</td>\n",
       "      <td>55000.000080</td>\n",
       "      <td>180.000100</td>\n",
       "      <td>0.481000</td>\n",
       "      <td>0.50000</td>\n",
       "    </tr>\n",
       "    <tr>\n",
       "      <th>std</th>\n",
       "      <td>15.853615</td>\n",
       "      <td>8.785562</td>\n",
       "      <td>13414.634022</td>\n",
       "      <td>43.902339</td>\n",
       "      <td>0.499889</td>\n",
       "      <td>0.50025</td>\n",
       "    </tr>\n",
       "    <tr>\n",
       "      <th>min</th>\n",
       "      <td>32.600000</td>\n",
       "      <td>19.000000</td>\n",
       "      <td>13996.500000</td>\n",
       "      <td>104.780000</td>\n",
       "      <td>0.000000</td>\n",
       "      <td>0.00000</td>\n",
       "    </tr>\n",
       "    <tr>\n",
       "      <th>25%</th>\n",
       "      <td>51.360000</td>\n",
       "      <td>29.000000</td>\n",
       "      <td>47031.802500</td>\n",
       "      <td>138.830000</td>\n",
       "      <td>0.000000</td>\n",
       "      <td>0.00000</td>\n",
       "    </tr>\n",
       "    <tr>\n",
       "      <th>50%</th>\n",
       "      <td>68.215000</td>\n",
       "      <td>35.000000</td>\n",
       "      <td>57012.300000</td>\n",
       "      <td>183.130000</td>\n",
       "      <td>0.000000</td>\n",
       "      <td>0.50000</td>\n",
       "    </tr>\n",
       "    <tr>\n",
       "      <th>75%</th>\n",
       "      <td>78.547500</td>\n",
       "      <td>42.000000</td>\n",
       "      <td>65470.635000</td>\n",
       "      <td>218.792500</td>\n",
       "      <td>1.000000</td>\n",
       "      <td>1.00000</td>\n",
       "    </tr>\n",
       "    <tr>\n",
       "      <th>max</th>\n",
       "      <td>91.430000</td>\n",
       "      <td>61.000000</td>\n",
       "      <td>79484.800000</td>\n",
       "      <td>269.960000</td>\n",
       "      <td>1.000000</td>\n",
       "      <td>1.00000</td>\n",
       "    </tr>\n",
       "  </tbody>\n",
       "</table>\n",
       "</div>"
      ],
      "text/plain": [
       "       Daily Time Spent on Site          Age   Area Income  \\\n",
       "count               1000.000000  1000.000000   1000.000000   \n",
       "mean                  65.000200    36.009000  55000.000080   \n",
       "std                   15.853615     8.785562  13414.634022   \n",
       "min                   32.600000    19.000000  13996.500000   \n",
       "25%                   51.360000    29.000000  47031.802500   \n",
       "50%                   68.215000    35.000000  57012.300000   \n",
       "75%                   78.547500    42.000000  65470.635000   \n",
       "max                   91.430000    61.000000  79484.800000   \n",
       "\n",
       "       Daily Internet Usage         Male  Clicked on Ad  \n",
       "count           1000.000000  1000.000000     1000.00000  \n",
       "mean             180.000100     0.481000        0.50000  \n",
       "std               43.902339     0.499889        0.50025  \n",
       "min              104.780000     0.000000        0.00000  \n",
       "25%              138.830000     0.000000        0.00000  \n",
       "50%              183.130000     0.000000        0.50000  \n",
       "75%              218.792500     1.000000        1.00000  \n",
       "max              269.960000     1.000000        1.00000  "
      ]
     },
     "execution_count": 3,
     "metadata": {},
     "output_type": "execute_result"
    }
   ],
   "source": [
    "Data.describe()"
   ]
  },
  {
   "cell_type": "code",
   "execution_count": 4,
   "metadata": {},
   "outputs": [
    {
     "name": "stdout",
     "output_type": "stream",
     "text": [
      "<class 'pandas.core.frame.DataFrame'>\n",
      "RangeIndex: 1000 entries, 0 to 999\n",
      "Data columns (total 10 columns):\n",
      " #   Column                    Non-Null Count  Dtype  \n",
      "---  ------                    --------------  -----  \n",
      " 0   Daily Time Spent on Site  1000 non-null   float64\n",
      " 1   Age                       1000 non-null   int64  \n",
      " 2   Area Income               1000 non-null   float64\n",
      " 3   Daily Internet Usage      1000 non-null   float64\n",
      " 4   Ad Topic Line             1000 non-null   object \n",
      " 5   City                      1000 non-null   object \n",
      " 6   Male                      1000 non-null   int64  \n",
      " 7   Country                   1000 non-null   object \n",
      " 8   Timestamp                 1000 non-null   object \n",
      " 9   Clicked on Ad             1000 non-null   int64  \n",
      "dtypes: float64(3), int64(3), object(4)\n",
      "memory usage: 78.2+ KB\n"
     ]
    }
   ],
   "source": [
    "Data.info()"
   ]
  },
  {
   "cell_type": "code",
   "execution_count": 5,
   "metadata": {},
   "outputs": [
    {
     "data": {
      "text/html": [
       "<div>\n",
       "<style scoped>\n",
       "    .dataframe tbody tr th:only-of-type {\n",
       "        vertical-align: middle;\n",
       "    }\n",
       "\n",
       "    .dataframe tbody tr th {\n",
       "        vertical-align: top;\n",
       "    }\n",
       "\n",
       "    .dataframe thead th {\n",
       "        text-align: right;\n",
       "    }\n",
       "</style>\n",
       "<table border=\"1\" class=\"dataframe\">\n",
       "  <thead>\n",
       "    <tr style=\"text-align: right;\">\n",
       "      <th></th>\n",
       "      <th>Daily Time Spent on Site</th>\n",
       "      <th>Age</th>\n",
       "      <th>Area Income</th>\n",
       "      <th>Daily Internet Usage</th>\n",
       "      <th>Male</th>\n",
       "      <th>Clicked on Ad</th>\n",
       "    </tr>\n",
       "  </thead>\n",
       "  <tbody>\n",
       "    <tr>\n",
       "      <th>Daily Time Spent on Site</th>\n",
       "      <td>1.000000</td>\n",
       "      <td>-0.331513</td>\n",
       "      <td>0.310954</td>\n",
       "      <td>0.518658</td>\n",
       "      <td>-0.018951</td>\n",
       "      <td>-0.748117</td>\n",
       "    </tr>\n",
       "    <tr>\n",
       "      <th>Age</th>\n",
       "      <td>-0.331513</td>\n",
       "      <td>1.000000</td>\n",
       "      <td>-0.182605</td>\n",
       "      <td>-0.367209</td>\n",
       "      <td>-0.021044</td>\n",
       "      <td>0.492531</td>\n",
       "    </tr>\n",
       "    <tr>\n",
       "      <th>Area Income</th>\n",
       "      <td>0.310954</td>\n",
       "      <td>-0.182605</td>\n",
       "      <td>1.000000</td>\n",
       "      <td>0.337496</td>\n",
       "      <td>0.001322</td>\n",
       "      <td>-0.476255</td>\n",
       "    </tr>\n",
       "    <tr>\n",
       "      <th>Daily Internet Usage</th>\n",
       "      <td>0.518658</td>\n",
       "      <td>-0.367209</td>\n",
       "      <td>0.337496</td>\n",
       "      <td>1.000000</td>\n",
       "      <td>0.028012</td>\n",
       "      <td>-0.786539</td>\n",
       "    </tr>\n",
       "    <tr>\n",
       "      <th>Male</th>\n",
       "      <td>-0.018951</td>\n",
       "      <td>-0.021044</td>\n",
       "      <td>0.001322</td>\n",
       "      <td>0.028012</td>\n",
       "      <td>1.000000</td>\n",
       "      <td>-0.038027</td>\n",
       "    </tr>\n",
       "    <tr>\n",
       "      <th>Clicked on Ad</th>\n",
       "      <td>-0.748117</td>\n",
       "      <td>0.492531</td>\n",
       "      <td>-0.476255</td>\n",
       "      <td>-0.786539</td>\n",
       "      <td>-0.038027</td>\n",
       "      <td>1.000000</td>\n",
       "    </tr>\n",
       "  </tbody>\n",
       "</table>\n",
       "</div>"
      ],
      "text/plain": [
       "                          Daily Time Spent on Site       Age  Area Income  \\\n",
       "Daily Time Spent on Site                  1.000000 -0.331513     0.310954   \n",
       "Age                                      -0.331513  1.000000    -0.182605   \n",
       "Area Income                               0.310954 -0.182605     1.000000   \n",
       "Daily Internet Usage                      0.518658 -0.367209     0.337496   \n",
       "Male                                     -0.018951 -0.021044     0.001322   \n",
       "Clicked on Ad                            -0.748117  0.492531    -0.476255   \n",
       "\n",
       "                          Daily Internet Usage      Male  Clicked on Ad  \n",
       "Daily Time Spent on Site              0.518658 -0.018951      -0.748117  \n",
       "Age                                  -0.367209 -0.021044       0.492531  \n",
       "Area Income                           0.337496  0.001322      -0.476255  \n",
       "Daily Internet Usage                  1.000000  0.028012      -0.786539  \n",
       "Male                                  0.028012  1.000000      -0.038027  \n",
       "Clicked on Ad                        -0.786539 -0.038027       1.000000  "
      ]
     },
     "execution_count": 5,
     "metadata": {},
     "output_type": "execute_result"
    }
   ],
   "source": [
    "Data.corr()"
   ]
  },
  {
   "cell_type": "code",
   "execution_count": 6,
   "metadata": {},
   "outputs": [
    {
     "data": {
      "text/plain": [
       "Williamsport         3\n",
       "Lisamouth            3\n",
       "Benjaminchester      2\n",
       "Robertfurt           2\n",
       "East John            2\n",
       "                    ..\n",
       "Lake Conniefurt      1\n",
       "North Ricardotown    1\n",
       "South Denisefurt     1\n",
       "Lake Evantown        1\n",
       "Lisafort             1\n",
       "Name: City, Length: 969, dtype: int64"
      ]
     },
     "execution_count": 6,
     "metadata": {},
     "output_type": "execute_result"
    }
   ],
   "source": [
    "Data.City.value_counts()"
   ]
  },
  {
   "cell_type": "code",
   "execution_count": 7,
   "metadata": {},
   "outputs": [],
   "source": [
    "import seaborn as sns"
   ]
  },
  {
   "cell_type": "code",
   "execution_count": 8,
   "metadata": {},
   "outputs": [
    {
     "data": {
      "image/png": "[encoded data removed]",
      "text/plain": [
       "<Figure size 432x288 with 2 Axes>"
      ]
     },
     "metadata": {
      "needs_background": "light"
     },
     "output_type": "display_data"
    }
   ],
   "source": [
    "sns.heatmap(Data.corr());"
   ]
  },
  {
   "cell_type": "code",
   "execution_count": 9,
   "metadata": {},
   "outputs": [],
   "source": [
    "from sklearn.linear_model import LogisticRegression\n",
    "from sklearn.model_selection import train_test_split\n",
    "from sklearn.metrics import accuracy_score,auc,roc_curve,precision_score"
   ]
  },
  {
   "cell_type": "code",
   "execution_count": 10,
   "metadata": {},
   "outputs": [],
   "source": [
    "X = Data[['Daily Time Spent on Site','Age','Area Income','Daily Internet Usage']]"
   ]
  },
  {
   "cell_type": "code",
   "execution_count": 11,
   "metadata": {},
   "outputs": [],
   "source": [
    "y =Data['Clicked on Ad']"
   ]
  },
  {
   "cell_type": "code",
   "execution_count": 12,
   "metadata": {},
   "outputs": [
    {
     "data": {
      "text/plain": [
       "((700, 4), (300, 4), (700,), (300,))"
      ]
     },
     "execution_count": 12,
     "metadata": {},
     "output_type": "execute_result"
    }
   ],
   "source": [
    "X_train,X_test,y_train,y_test = train_test_split(X,y,test_size=0.3,random_state=42,stratify=y)\n",
    "X_train.shape,X_test.shape,y_train.shape,y_test.shape"
   ]
  },
  {
   "cell_type": "markdown",
   "execution_count": null,
   "metadata": {},
   "source": [
    "**Base line Accuracy**"
   ]
  },
  {
   "cell_type": "code",
   "execution_count": 13,
   "metadata": {},
   "outputs": [
    {
     "data": {
      "text/plain": [
       "1    500\n",
       "0    500\n",
       "Name: Clicked on Ad, dtype: int64"
      ]
     },
     "execution_count": 13,
     "metadata": {},
     "output_type": "execute_result"
    }
   ],
   "source": [
    "y.value_counts()"
   ]
  },
  {
   "cell_type": "code",
   "execution_count": 14,
   "metadata": {},
   "outputs": [],
   "source": [
    "model = LogisticRegression()"
   ]
  },
  {
   "cell_type": "code",
   "execution_count": 15,
   "metadata": {},
   "outputs": [
    {
     "name": "stderr",
     "output_type": "stream",
     "text": [
      "/opt/conda/lib/python3.7/site-packages/sklearn/linear_model/_logistic.py:764: ConvergenceWarning: lbfgs failed to converge (status=1):\n",
      "STOP: TOTAL NO. of ITERATIONS REACHED LIMIT.\n",
      "\n",
      "Increase the number of iterations (max_iter) or scale the data as shown in:\n",
      "    https://scikit-learn.org/stable/modules/preprocessing.html\n",
      "Please also refer to the documentation for alternative solver options:\n",
      "    https://scikit-learn.org/stable/modules/linear_model.html#logistic-regression\n",
      "  extra_warning_msg=_LOGISTIC_SOLVER_CONVERGENCE_MSG)\n"
     ]
    },
    {
     "data": {
      "text/plain": [
       "LogisticRegression()"
      ]
     },
     "execution_count": 15,
     "metadata": {},
     "output_type": "execute_result"
    }
   ],
   "source": [
    "model.fit(X_train,y_train)"
   ]
  },
  {
   "cell_type": "code",
   "execution_count": 16,
   "metadata": {},
   "outputs": [
    {
     "data": {
      "text/plain": [
       "0.9371428571428572"
      ]
     },
     "execution_count": 16,
     "metadata": {},
     "output_type": "execute_result"
    }
   ],
   "source": [
    "model.score(X_train,y_train)"
   ]
  },
  {
   "cell_type": "code",
   "execution_count": 17,
   "metadata": {},
   "outputs": [],
   "source": [
    "pred_test = model.predict(X_test)"
   ]
  },
  {
   "cell_type": "code",
   "execution_count": 18,
   "metadata": {},
   "outputs": [
    {
     "data": {
      "text/plain": [
       "0.9633333333333334"
      ]
     },
     "execution_count": 18,
     "metadata": {},
     "output_type": "execute_result"
    }
   ],
   "source": [
    "accuracy_score(y_test,pred_test)"
   ]
  },
  {
   "cell_type": "code",
   "execution_count": 19,
   "metadata": {},
   "outputs": [
    {
     "data": {
      "text/plain": [
       "array([[0.59035757, 0.40964243],\n",
       "       [0.89065845, 0.10934155],\n",
       "       [0.01481139, 0.98518861],\n",
       "       ...,\n",
       "       [0.70893485, 0.29106515],\n",
       "       [0.92892433, 0.07107567],\n",
       "       [0.01191309, 0.98808691]])"
      ]
     },
     "execution_count": 19,
     "metadata": {},
     "output_type": "execute_result"
    }
   ],
   "source": [
    "pred_train = model.predict_proba(X_train)\n",
    "pred_train[:]"
   ]
  },
  {
   "cell_type": "code",
   "execution_count": 20,
   "metadata": {},
   "outputs": [
    {
     "data": {
      "text/plain": [
       "array([0.40964243, 0.10934155, 0.98518861, 0.11977051, 0.82666749,\n",
       "       0.95564588, 0.13353101, 0.99268046, 0.98524593, 0.80416738,\n",
       "       0.09387922, 0.12134081, 0.08397911, 0.87070999, 0.94714839,\n",
       "       0.32317178, 0.83713215, 0.07588998, 0.19573473, 0.25545115,\n",
       "       0.94465357, 0.80346876, 0.96206696, 0.14537424, 0.9656109 ,\n",
       "       0.21613649, 0.98876718, 0.89914083, 0.96942939, 0.14119351,\n",
       "       0.11891849, 0.99013026, 0.44151817, 0.10491228, 0.79305416,\n",
       "       0.19680695, 0.87509473, 0.98396417, 0.94952956, 0.91221948,\n",
       "       0.16397094, 0.70420104, 0.98901194, 0.94739013, 0.44104134,\n",
       "       0.92891223, 0.79845099, 0.12555887, 0.08160926, 0.08730716,\n",
       "       0.98787922, 0.26731229, 0.94892236, 0.1192423 , 0.84983488,\n",
       "       0.07693865, 0.09614969, 0.97494693, 0.10430342, 0.87667032,\n",
       "       0.07897668, 0.09709289, 0.92967129, 0.10123335, 0.10279193,\n",
       "       0.98946843, 0.07968426, 0.71043302, 0.91313172, 0.46141422,\n",
       "       0.4409911 , 0.85835198, 0.29236441, 0.0746522 , 0.78595169,\n",
       "       0.97080578, 0.98268615, 0.08331337, 0.87549646, 0.08958106,\n",
       "       0.95010526, 0.10430907, 0.46378548, 0.11887878, 0.09188977,\n",
       "       0.09678292, 0.94835153, 0.99011251, 0.07330221, 0.92898824,\n",
       "       0.69319585, 0.988998  , 0.95246218, 0.97580904, 0.9561479 ,\n",
       "       0.10061685, 0.0720975 , 0.12657858, 0.07772774, 0.98778911,\n",
       "       0.09454471, 0.23399928, 0.97626785, 0.19042096, 0.8815663 ,\n",
       "       0.15012052, 0.3126998 , 0.13327924, 0.97054701, 0.12819071,\n",
       "       0.57713186, 0.07343379, 0.26224118, 0.98839515, 0.76671372,\n",
       "       0.07713593, 0.74116554, 0.12427956, 0.67784935, 0.98961623,\n",
       "       0.15548369, 0.97417192, 0.98222846, 0.06786372, 0.88923329,\n",
       "       0.97532367, 0.81079557, 0.09831468, 0.08093354, 0.90058699,\n",
       "       0.42515139, 0.08550731, 0.07567158, 0.46682467, 0.47577977,\n",
       "       0.0792763 , 0.98161456, 0.21535615, 0.96971779, 0.13289246,\n",
       "       0.96981983, 0.22235428, 0.81279426, 0.88494311, 0.93515582,\n",
       "       0.10742239, 0.92437734, 0.93625222, 0.52700437, 0.73427627,\n",
       "       0.98628722, 0.18192458, 0.96704956, 0.97570363, 0.87013388,\n",
       "       0.08415712, 0.07537051, 0.12735139, 0.1943256 , 0.91476928,\n",
       "       0.07689776, 0.91174985, 0.98556828, 0.08721212, 0.10869056,\n",
       "       0.98462979, 0.30812029, 0.07538738, 0.09074554, 0.96154865,\n",
       "       0.08337431, 0.13490275, 0.09157717, 0.98267991, 0.94989127,\n",
       "       0.10186898, 0.16888152, 0.87527698, 0.11199807, 0.93519021,\n",
       "       0.6844504 , 0.22014428, 0.96872923, 0.09301371, 0.07142076,\n",
       "       0.44448314, 0.74889067, 0.0895287 , 0.92843527, 0.12909065,\n",
       "       0.84181423, 0.10122092, 0.14576332, 0.07474725, 0.07732962,\n",
       "       0.08814706, 0.07922282, 0.98409092, 0.12926695, 0.95697434,\n",
       "       0.52665347, 0.94697405, 0.19213137, 0.1688292 , 0.98654815,\n",
       "       0.11797681, 0.11441771, 0.94812682, 0.22028393, 0.5047051 ,\n",
       "       0.08747625, 0.11603658, 0.22289699, 0.11568876, 0.18501422,\n",
       "       0.94673409, 0.07229115, 0.92164414, 0.90447377, 0.98862139,\n",
       "       0.3720746 , 0.96841231, 0.98449228, 0.64035974, 0.91606851,\n",
       "       0.11560973, 0.0789893 , 0.15033395, 0.10114021, 0.98533592,\n",
       "       0.87499206, 0.90645163, 0.98758019, 0.1481664 , 0.30203222,\n",
       "       0.98895111, 0.95099228, 0.64007873, 0.11290626, 0.18047088,\n",
       "       0.12705278, 0.15063202, 0.59856844, 0.97973695, 0.07297715,\n",
       "       0.10524668, 0.28329339, 0.98592394, 0.08713517, 0.89029186,\n",
       "       0.0837302 , 0.2693576 , 0.96162935, 0.87527818, 0.93483771,\n",
       "       0.97757307, 0.06718614, 0.95110244, 0.54362834, 0.06688642,\n",
       "       0.08959343, 0.88425495, 0.93623155, 0.98865198, 0.13523502,\n",
       "       0.06419137, 0.13877432, 0.7745086 , 0.61776828, 0.94249152,\n",
       "       0.08568268, 0.89750047, 0.97769879, 0.97914205, 0.4747004 ,\n",
       "       0.14163904, 0.13961808, 0.71990761, 0.65817931, 0.83505813,\n",
       "       0.1226582 , 0.91191764, 0.85888212, 0.08075747, 0.91665283,\n",
       "       0.08569651, 0.9311375 , 0.14825356, 0.0677501 , 0.40231417,\n",
       "       0.09315345, 0.06940337, 0.93743109, 0.08046825, 0.99165039,\n",
       "       0.87091884, 0.9200172 , 0.9851517 , 0.95189987, 0.98978155,\n",
       "       0.30895417, 0.18407431, 0.11648226, 0.17240207, 0.6420811 ,\n",
       "       0.09144313, 0.08669085, 0.07290525, 0.92189494, 0.92766276,\n",
       "       0.97776476, 0.71383063, 0.24255652, 0.95980215, 0.97685693,\n",
       "       0.08457421, 0.89383142, 0.1005052 , 0.6556754 , 0.70550045,\n",
       "       0.68228392, 0.07133052, 0.61457541, 0.91907871, 0.98638945,\n",
       "       0.23547626, 0.31548685, 0.9806819 , 0.06994698, 0.94118074,\n",
       "       0.06665826, 0.59305733, 0.78094197, 0.1433979 , 0.0811248 ,\n",
       "       0.94911859, 0.11086969, 0.42135084, 0.13599736, 0.17672662,\n",
       "       0.10735044, 0.0765048 , 0.97150291, 0.17059943, 0.14689089,\n",
       "       0.08578037, 0.2037415 , 0.06751869, 0.94721015, 0.65203427,\n",
       "       0.14822487, 0.96021494, 0.90866641, 0.14006361, 0.95956433,\n",
       "       0.0780261 , 0.29010214, 0.14310252, 0.97421603, 0.81833923,\n",
       "       0.97282178, 0.151715  , 0.10003001, 0.99007679, 0.07803273,\n",
       "       0.10807717, 0.06684505, 0.50202363, 0.30057506, 0.12665364,\n",
       "       0.92720957, 0.12928125, 0.17621167, 0.67127173, 0.95515773,\n",
       "       0.86032192, 0.09980987, 0.15965302, 0.24939691, 0.09204608,\n",
       "       0.09402906, 0.07881621, 0.13922155, 0.07854927, 0.06696823,\n",
       "       0.96039286, 0.07113229, 0.1357159 , 0.10427381, 0.08051282,\n",
       "       0.08897912, 0.9886573 , 0.07127406, 0.85307867, 0.09117503,\n",
       "       0.09237306, 0.21223249, 0.90866476, 0.07714763, 0.22351192,\n",
       "       0.08823886, 0.55189331, 0.09029232, 0.06673106, 0.74648305,\n",
       "       0.9464874 , 0.95034111, 0.10234027, 0.18642587, 0.94440294,\n",
       "       0.46551952, 0.08927093, 0.09306156, 0.92944481, 0.07424474,\n",
       "       0.95885101, 0.1282324 , 0.07450452, 0.16954942, 0.07320739,\n",
       "       0.97588604, 0.98624537, 0.12654258, 0.15175029, 0.98087934,\n",
       "       0.20154075, 0.0824336 , 0.34153201, 0.81210927, 0.07116598,\n",
       "       0.85225254, 0.96539748, 0.11047815, 0.0835348 , 0.11749686,\n",
       "       0.19118363, 0.97590757, 0.15256485, 0.06471607, 0.07081945,\n",
       "       0.99161619, 0.09184286, 0.23545533, 0.97819958, 0.91114201,\n",
       "       0.986292  , 0.97620125, 0.95624377, 0.09274731, 0.47397576,\n",
       "       0.93222919, 0.10746037, 0.1714641 , 0.95664109, 0.32353274,\n",
       "       0.96170831, 0.21131661, 0.92642099, 0.93064951, 0.12356847,\n",
       "       0.61023445, 0.49360958, 0.07079858, 0.52636684, 0.16522479,\n",
       "       0.24106048, 0.96189237, 0.14115407, 0.067065  , 0.98120043,\n",
       "       0.52956518, 0.13900457, 0.99272887, 0.97766726, 0.07638253,\n",
       "       0.62729012, 0.70688987, 0.34506026, 0.08397588, 0.94266812,\n",
       "       0.06750642, 0.36147428, 0.74365976, 0.98351427, 0.11254596,\n",
       "       0.09629515, 0.0819982 , 0.98516466, 0.12782821, 0.95140002,\n",
       "       0.33081868, 0.81962795, 0.98273985, 0.98171942, 0.96559551,\n",
       "       0.08800692, 0.1715525 , 0.06228623, 0.71395305, 0.98470576,\n",
       "       0.14119424, 0.98827871, 0.06354157, 0.98050206, 0.86737999,\n",
       "       0.07393636, 0.1086787 , 0.20898778, 0.94945327, 0.12406594,\n",
       "       0.07192811, 0.67528438, 0.96294073, 0.10535438, 0.98932725,\n",
       "       0.08429009, 0.45502677, 0.95789266, 0.08999591, 0.95007739,\n",
       "       0.14351979, 0.96584729, 0.79537769, 0.83931713, 0.07878481,\n",
       "       0.07791017, 0.97622658, 0.19089422, 0.09456966, 0.94392279,\n",
       "       0.20196989, 0.12693403, 0.10094915, 0.74155412, 0.18802744,\n",
       "       0.98415081, 0.1008865 , 0.0638844 , 0.96042524, 0.94157847,\n",
       "       0.96875258, 0.16279604, 0.97326751, 0.60669215, 0.89076085,\n",
       "       0.97830169, 0.08228265, 0.96958121, 0.06636963, 0.30109796,\n",
       "       0.06967941, 0.97345421, 0.446121  , 0.97604031, 0.13366172,\n",
       "       0.84639948, 0.62535793, 0.74840906, 0.11265909, 0.15590007,\n",
       "       0.92360164, 0.68064891, 0.95301039, 0.11958666, 0.98164041,\n",
       "       0.96905885, 0.07864428, 0.16659785, 0.94034071, 0.15569303,\n",
       "       0.13006223, 0.0997287 , 0.98837288, 0.96749777, 0.92119985,\n",
       "       0.1749111 , 0.13011939, 0.13903485, 0.24860931, 0.92854158,\n",
       "       0.12181749, 0.0724416 , 0.89894076, 0.08970274, 0.8682207 ,\n",
       "       0.92573419, 0.10135536, 0.07561256, 0.08696404, 0.14874502,\n",
       "       0.89491584, 0.95286106, 0.16031062, 0.08447301, 0.19453667,\n",
       "       0.7464759 , 0.39442546, 0.72618032, 0.67842113, 0.07521678,\n",
       "       0.15959147, 0.06788586, 0.39927962, 0.98178878, 0.85987629,\n",
       "       0.88439249, 0.09258672, 0.11091138, 0.90470831, 0.21388932,\n",
       "       0.15576579, 0.92898974, 0.32660775, 0.10517606, 0.95602706,\n",
       "       0.31080989, 0.98245135, 0.11795151, 0.66512133, 0.60325615,\n",
       "       0.92374628, 0.90672689, 0.13594969, 0.84355067, 0.87032956,\n",
       "       0.13007778, 0.17734723, 0.13234154, 0.97681129, 0.97333271,\n",
       "       0.95095301, 0.18066768, 0.17298499, 0.99097724, 0.13653554,\n",
       "       0.13001659, 0.94554381, 0.69127522, 0.11465215, 0.9394619 ,\n",
       "       0.11378377, 0.25197252, 0.11450901, 0.4144022 , 0.07786379,\n",
       "       0.88474484, 0.99242689, 0.18847982, 0.980555  , 0.13543173,\n",
       "       0.13687238, 0.07665992, 0.08855951, 0.08362129, 0.0671958 ,\n",
       "       0.98016109, 0.96927753, 0.08567565, 0.9361434 , 0.6203862 ,\n",
       "       0.98741172, 0.07167454, 0.97963755, 0.23234771, 0.09026879,\n",
       "       0.11210662, 0.20403491, 0.94923881, 0.19472494, 0.9763853 ,\n",
       "       0.80700123, 0.12428425, 0.07739422, 0.93787911, 0.06764355,\n",
       "       0.06951987, 0.46535371, 0.97721812, 0.09413812, 0.29696468,\n",
       "       0.09748397, 0.89458591, 0.55758524, 0.21235687, 0.98402052,\n",
       "       0.089246  , 0.83789459, 0.25496538, 0.96913327, 0.14266077,\n",
       "       0.63149046, 0.11964818, 0.09464796, 0.27200892, 0.50330567,\n",
       "       0.07355192, 0.88686705, 0.29106515, 0.07107567, 0.98808691])"
      ]
     },
     "execution_count": 20,
     "metadata": {},
     "output_type": "execute_result"
    }
   ],
   "source": [
    "pred_train[:,1]"
   ]
  },
  {
   "cell_type": "code",
   "execution_count": 21,
   "metadata": {},
   "outputs": [],
   "source": [
    "fpr,tpr,t = roc_curve(y_train,pred_train[:,1],pos_label=1)       "
   ]
  },
  {
   "cell_type": "code",
   "execution_count": 22,
   "metadata": {},
   "outputs": [
    {
     "data": {
      "text/plain": [
       "Text(0, 0.5, 'True Positive Rate (TPR)')"
      ]
     },
     "execution_count": 22,
     "metadata": {},
     "output_type": "execute_result"
    },
    {
     "data": {
      "text/plain": [
       "<Figure size 720x360 with 0 Axes>"
      ]
     },
     "metadata": {},
     "output_type": "display_data"
    },
    {
     "data": {
      "image/png": "[encoded data removed]",
      "text/plain": [
       "<Figure size 432x288 with 2 Axes>"
      ]
     },
     "metadata": {
      "needs_background": "light"
     },
     "output_type": "display_data"
    }
   ],
   "source": [
    "import matplotlib.pyplot as plt\n",
    "from matplotlib.collections import LineCollection\n",
    "import matplotlib as npl\n",
    "l1 = []\n",
    "for i in range(len(fpr)-1):\n",
    "    l1.append([(fpr[i],tpr[i]),(fpr[i+1],tpr[i+1])])\n",
    "#print(l1)\n",
    "\n",
    "lc = LineCollection(l1,cmap='hsv')\n",
    "plt.figure(figsize=(10,5))\n",
    "fig, ax = plt.subplots()\n",
    "line=ax.add_collection(lc)\n",
    "lc.set_array(t[1:])\n",
    "\n",
    "plt.colorbar(line, ticks=np.arange(0,1,0.1))\n",
    "\n",
    "plt.title('ROC Curve')\n",
    "plt.xlabel('False Postive Rate (FPR)')\n",
    "plt.ylabel('True Positive Rate (TPR)')"
   ]
  },
  {
   "cell_type": "code",
   "execution_count": 23,
   "metadata": {},
   "outputs": [
    {
     "data": {
      "text/plain": [
       "array([[0.27649635, 0.72350365],\n",
       "       [0.10792819, 0.89207181],\n",
       "       [0.06789401, 0.93210599],\n",
       "       [0.29024764, 0.70975236],\n",
       "       [0.92099862, 0.07900138]])"
      ]
     },
     "execution_count": 23,
     "metadata": {},
     "output_type": "execute_result"
    }
   ],
   "source": [
    "pred_test_prob = model.predict_proba(X_test)\n",
    "pred_test_prob[:5]"
   ]
  },
  {
   "cell_type": "code",
   "execution_count": 24,
   "metadata": {},
   "outputs": [
    {
     "data": {
      "text/plain": [
       "array([0, 1, 1, 0, 0, 1, 1, 1, 1, 0, 1, 0, 0, 1, 1, 0, 0, 0, 0, 1, 0, 0,\n",
       "       0, 0, 0, 0, 1, 1, 0, 1, 1, 0, 1, 1, 0, 1, 0, 0, 0, 1, 0, 0, 1, 0,\n",
       "       1, 0, 0, 0, 1, 0, 0, 0, 0, 0, 0, 1, 0, 0, 0, 0, 0, 0, 0, 0, 1, 0,\n",
       "       0, 0, 0, 1, 1, 1, 0, 1, 0, 0, 1, 0, 0, 0, 0, 0, 0, 0, 0, 0, 0, 1,\n",
       "       1, 1, 1, 1, 0, 0, 1, 0, 1, 0, 0, 0, 1, 1, 0, 1, 1, 0, 1, 1, 1, 0,\n",
       "       0, 0, 0, 0, 0, 0, 0, 0, 0, 0, 1, 0, 0, 0, 0, 0, 1, 0, 0, 0, 0, 1,\n",
       "       1, 0, 0, 0, 1, 0, 0, 0, 1, 0, 1, 1, 1, 1, 0, 1, 1, 0, 0, 1, 0, 0,\n",
       "       0, 1, 1, 0, 1, 1, 1, 0, 0, 1, 1, 0, 0, 0, 0, 0, 0, 0, 1, 1, 0, 0,\n",
       "       1, 0, 0, 1, 0, 0, 1, 1, 1, 0, 0, 1, 1, 1, 1, 1, 0, 0, 0, 1, 1, 0,\n",
       "       0, 1, 0, 1, 1, 1, 0, 1, 0, 1, 0, 0, 0, 0, 0, 0, 0, 1, 0, 1, 1, 1,\n",
       "       0, 0, 0, 1, 0, 0, 0, 0, 0, 1, 1, 1, 0, 1, 1, 0, 0, 0, 0, 1, 1, 0,\n",
       "       0, 0, 1, 0, 1, 0, 1, 1, 1, 1, 0, 1, 1, 0, 1, 1, 1, 0, 0, 0, 0, 0,\n",
       "       0, 0, 0, 1, 1, 0, 1, 0, 0, 1, 1, 0, 0, 1, 1, 0, 0, 0, 1, 0, 0, 1,\n",
       "       1, 1, 0, 0, 0, 1, 1, 0, 0, 0, 0, 0, 0, 0])"
      ]
     },
     "execution_count": 24,
     "metadata": {},
     "output_type": "execute_result"
    }
   ],
   "source": [
    "pred_t_test = np.where(pred_test_prob[:,1]>=0.8,1,0)\n",
    "pred_t_test"
   ]
  },
  {
   "cell_type": "code",
   "execution_count": 25,
   "metadata": {},
   "outputs": [
    {
     "data": {
      "text/plain": [
       "0.8933333333333333"
      ]
     },
     "execution_count": 25,
     "metadata": {},
     "output_type": "execute_result"
    }
   ],
   "source": [
    "accuracy_score(y_test,pred_t_test)"
   ]
  },
  {
   "cell_type": "code",
   "execution_count": null,
   "metadata": {},
   "outputs": [],
   "source": []
  }
 ],
 "metadata": {
  "kernelspec": {
   "display_name": "Python 3",
   "language": "python",
   "name": "python3"
  },
  "language_info": {
   "codemirror_mode": {
    "name": "ipython",
    "version": 3
   },
   "file_extension": ".py",
   "mimetype": "text/x-python",
   "name": "python",
   "nbconvert_exporter": "python",
   "pygments_lexer": "ipython3",
   "version": "3.7.6"
  }
 },
 "nbformat": 4,
 "nbformat_minor": 4
}
