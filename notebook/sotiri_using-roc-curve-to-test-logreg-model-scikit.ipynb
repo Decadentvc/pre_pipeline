{
 "cells": [
  {
   "cell_type": "code",
   "execution_count": 1,
   "metadata": {
    "_uuid": "24463a766ce3a0397a9276284dddb89539685427"
   },
   "outputs": [
    {
     "name": "stdout",
     "output_type": "stream",
     "text": [
      "['heart.csv']\n"
     ]
    }
   ],
   "source": [
    "from sklearn.linear_model import LogisticRegression\n",
    "from sklearn.model_selection import GridSearchCV, train_test_split\n",
    "from sklearn.metrics import classification_report,confusion_matrix,roc_curve,roc_auc_score\n",
    "import pandas as pd\n",
    "import numpy as np\n",
    "import matplotlib.pyplot as plt\n",
    "import seaborn as sns\n",
    "\n",
    "import os\n",
    "print(os.listdir(\"../input\"))"
   ]
  },
  {
   "cell_type": "code",
   "execution_count": 2,
   "metadata": {
    "_uuid": "af0ddc8f2432fb62bc951cae3132481498286ac1"
   },
   "outputs": [
    {
     "data": {
      "text/html": [
       "<div>\n",
       "<style scoped>\n",
       "    .dataframe tbody tr th:only-of-type {\n",
       "        vertical-align: middle;\n",
       "    }\n",
       "\n",
       "    .dataframe tbody tr th {\n",
       "        vertical-align: top;\n",
       "    }\n",
       "\n",
       "    .dataframe thead th {\n",
       "        text-align: right;\n",
       "    }\n",
       "</style>\n",
       "<table border=\"1\" class=\"dataframe\">\n",
       "  <thead>\n",
       "    <tr style=\"text-align: right;\">\n",
       "      <th></th>\n",
       "      <th>age</th>\n",
       "      <th>sex</th>\n",
       "      <th>cp</th>\n",
       "      <th>trestbps</th>\n",
       "      <th>chol</th>\n",
       "      <th>fbs</th>\n",
       "      <th>restecg</th>\n",
       "      <th>thalach</th>\n",
       "      <th>exang</th>\n",
       "      <th>oldpeak</th>\n",
       "      <th>slope</th>\n",
       "      <th>ca</th>\n",
       "      <th>thal</th>\n",
       "      <th>target</th>\n",
       "    </tr>\n",
       "  </thead>\n",
       "  <tbody>\n",
       "    <tr>\n",
       "      <th>0</th>\n",
       "      <td>63</td>\n",
       "      <td>1</td>\n",
       "      <td>3</td>\n",
       "      <td>145</td>\n",
       "      <td>233</td>\n",
       "      <td>1</td>\n",
       "      <td>0</td>\n",
       "      <td>150</td>\n",
       "      <td>0</td>\n",
       "      <td>2.3</td>\n",
       "      <td>0</td>\n",
       "      <td>0</td>\n",
       "      <td>1</td>\n",
       "      <td>1</td>\n",
       "    </tr>\n",
       "    <tr>\n",
       "      <th>1</th>\n",
       "      <td>37</td>\n",
       "      <td>1</td>\n",
       "      <td>2</td>\n",
       "      <td>130</td>\n",
       "      <td>250</td>\n",
       "      <td>0</td>\n",
       "      <td>1</td>\n",
       "      <td>187</td>\n",
       "      <td>0</td>\n",
       "      <td>3.5</td>\n",
       "      <td>0</td>\n",
       "      <td>0</td>\n",
       "      <td>2</td>\n",
       "      <td>1</td>\n",
       "    </tr>\n",
       "    <tr>\n",
       "      <th>2</th>\n",
       "      <td>41</td>\n",
       "      <td>0</td>\n",
       "      <td>1</td>\n",
       "      <td>130</td>\n",
       "      <td>204</td>\n",
       "      <td>0</td>\n",
       "      <td>0</td>\n",
       "      <td>172</td>\n",
       "      <td>0</td>\n",
       "      <td>1.4</td>\n",
       "      <td>2</td>\n",
       "      <td>0</td>\n",
       "      <td>2</td>\n",
       "      <td>1</td>\n",
       "    </tr>\n",
       "    <tr>\n",
       "      <th>3</th>\n",
       "      <td>56</td>\n",
       "      <td>1</td>\n",
       "      <td>1</td>\n",
       "      <td>120</td>\n",
       "      <td>236</td>\n",
       "      <td>0</td>\n",
       "      <td>1</td>\n",
       "      <td>178</td>\n",
       "      <td>0</td>\n",
       "      <td>0.8</td>\n",
       "      <td>2</td>\n",
       "      <td>0</td>\n",
       "      <td>2</td>\n",
       "      <td>1</td>\n",
       "    </tr>\n",
       "    <tr>\n",
       "      <th>4</th>\n",
       "      <td>57</td>\n",
       "      <td>0</td>\n",
       "      <td>0</td>\n",
       "      <td>120</td>\n",
       "      <td>354</td>\n",
       "      <td>0</td>\n",
       "      <td>1</td>\n",
       "      <td>163</td>\n",
       "      <td>1</td>\n",
       "      <td>0.6</td>\n",
       "      <td>2</td>\n",
       "      <td>0</td>\n",
       "      <td>2</td>\n",
       "      <td>1</td>\n",
       "    </tr>\n",
       "  </tbody>\n",
       "</table>\n",
       "</div>"
      ],
      "text/plain": [
       "   age  sex  cp  trestbps  chol   ...    oldpeak  slope  ca  thal  target\n",
       "0   63    1   3       145   233   ...        2.3      0   0     1       1\n",
       "1   37    1   2       130   250   ...        3.5      0   0     2       1\n",
       "2   41    0   1       130   204   ...        1.4      2   0     2       1\n",
       "3   56    1   1       120   236   ...        0.8      2   0     2       1\n",
       "4   57    0   0       120   354   ...        0.6      2   0     2       1\n",
       "\n",
       "[5 rows x 14 columns]"
      ]
     },
     "execution_count": 2,
     "metadata": {},
     "output_type": "execute_result"
    }
   ],
   "source": [
    "#Dataframe:\n",
    "df = pd.read_csv(\"../input/heart.csv\")\n",
    "\n",
    "# X = regressors, y= response\n",
    "X = df.drop(columns='target', axis=1)\n",
    "y = df.target\n",
    "\n",
    "#Binary classification: 1 - Heart disease, 0 - No Disease\n",
    "df.head()"
   ]
  },
  {
   "cell_type": "code",
   "execution_count": 3,
   "metadata": {
    "_uuid": "b7683c27138982c6637ddd4c6e936ead9195e47c"
   },
   "outputs": [
    {
     "name": "stdout",
     "output_type": "stream",
     "text": [
      "Number of individuals with heart disease: 165\n",
      "Mean (disease): 52.4969696969697 , Standard Deviation (disease): 9.521665402091422\n",
      "Number of individuals with no disease: 138\n",
      "Mean (nd): 56.60144927536232 , Standard Deviation (nd): 7.93318096468507\n"
     ]
    }
   ],
   "source": [
    "#Check to see if age is normally distributed amongst those who have heart disease:\n",
    "df_heart = df[df['target']==1].age\n",
    "age_arr = np.array(df_heart)\n",
    "print('Number of individuals with heart disease: {}'.format(df_heart.count()))\n",
    "print('Mean (disease): {0} , Standard Deviation (disease): {1}'.format(np.mean(df_heart),np.std(df_heart)))\n",
    "\n",
    "# No Disease:\n",
    "df_no_disease = df[df['target']==0].age\n",
    "age_nd_arr = np.array(df_no_disease)\n",
    "print('Number of individuals with no disease: {}'.format(df_no_disease.count()))\n",
    "print('Mean (nd): {0} , Standard Deviation (nd): {1}'.format(np.mean(df_no_disease),np.std(df_no_disease)))"
   ]
  },
  {
   "cell_type": "code",
   "execution_count": 4,
   "metadata": {
    "_uuid": "26d9e3d7ca5f7a050d5261d9d077d27c7a7103e0"
   },
   "outputs": [],
   "source": [
    "#Check Cumulative density function:\n",
    "#CDF function:\n",
    "def ecdf(data):\n",
    "    \"\"\"Compute ECDF for a one-dimensional array of measurements.\"\"\"\n",
    "    # Number of data points: n\n",
    "    n = len(data)\n",
    "\n",
    "    # x-data for the ECDF: x\n",
    "    x = np.sort(data)\n",
    "\n",
    "    # y-data for the ECDF: y\n",
    "    y = np.arange(1, n+1) / n\n",
    "\n",
    "    return x, y"
   ]
  },
  {
   "cell_type": "code",
   "execution_count": 5,
   "metadata": {
    "_uuid": "d6f206458d46466a325bc1db3be877332a7b87dd"
   },
   "outputs": [
    {
     "data": {
      "image/png": "[encoded data removed]",
      "text/plain": [
       "<Figure size 432x288 with 1 Axes>"
      ]
     },
     "metadata": {},
     "output_type": "display_data"
    }
   ],
   "source": [
    "#Unpack ecdf for plotting:\n",
    "x,y = ecdf(age_arr)\n",
    "x_nd,y_nd = ecdf(age_nd_arr)\n",
    "\n",
    "#Plot:\n",
    "sns.set()\n",
    "_ = plt.plot(x,y,marker='.',linestyle='none')\n",
    "_ = plt.plot(x_nd,y_nd,marker='.',linestyle='none')\n",
    "_ = plt.xlabel('Age (years)')\n",
    "_ = plt.ylabel('CDF')\n",
    "_ = plt.title('Cumulative Density Function')\n",
    "\n",
    "_ = plt.legend(['Disease','No Disease'],loc='lower right')\n",
    "\n",
    "#We know as sample size n = 165 >30 by central limit theorem we can approx normal"
   ]
  },
  {
   "cell_type": "code",
   "execution_count": 6,
   "metadata": {
    "_uuid": "73aeff8b388e33b408f42f1f48c77c3f5c12ac75"
   },
   "outputs": [
    {
     "data": {
      "image/png": "[encoded data removed]",
      "text/plain": [
       "<Figure size 432x288 with 1 Axes>"
      ]
     },
     "metadata": {},
     "output_type": "display_data"
    }
   ],
   "source": [
    "#Focus on fitting a distribution to the ages with disease:\n",
    "#Normal:\n",
    "mu = np.mean(df_heart)\n",
    "sigma = np.std(df_heart)\n",
    "sample = np.random.normal(mu,sigma,size=10000)\n",
    "x_theo,y_theo = ecdf(sample)\n",
    "#Plot sample against actual results to compare:\n",
    "_ = plt.plot(x_theo,y_theo)\n",
    "_ = plt.plot(x,y,marker='.',linestyle='none')\n",
    "_ = plt.xlabel('Age (Years)')\n",
    "_ = plt.ylabel('CDF')\n",
    "\n",
    "#Fairly normal:"
   ]
  },
  {
   "cell_type": "code",
   "execution_count": 7,
   "metadata": {
    "_uuid": "d05b142c301fd129a5adcea29639f47a19a94b53"
   },
   "outputs": [
    {
     "data": {
      "image/png": "[encoded data removed]",
      "text/plain": [
       "<Figure size 432x288 with 1 Axes>"
      ]
     },
     "metadata": {},
     "output_type": "display_data"
    }
   ],
   "source": [
    "#Plotting the bell curve:\n",
    "_ = plt.hist(sample,bins=100,density=True,histtype='step')\n",
    "_ = plt.xlabel('Age')\n",
    "_ = plt.ylabel('Probability')\n",
    "_ = plt.ylim(-0.01, 0.42)\n",
    "plt.show()"
   ]
  },
  {
   "cell_type": "code",
   "execution_count": 8,
   "metadata": {
    "_uuid": "3b2eb2f173dd744c4c3d0605087c484015e8fd8a"
   },
   "outputs": [
    {
     "name": "stdout",
     "output_type": "stream",
     "text": [
      "The probability of someone getting heart disease under 30 is 0.0085\n"
     ]
    }
   ],
   "source": [
    "#What is the probability of getting a heart attack at age<=30?\n",
    "age_30 = np.sum(sample < 30)\n",
    "age_30\n",
    "#77 people out of 10000 is quite small:\n",
    "print('The probability of someone getting heart disease under 30 is {}'.format(age_30/len(sample)))"
   ]
  },
  {
   "cell_type": "code",
   "execution_count": 9,
   "metadata": {
    "_uuid": "d7f60db36f69f2912306455b9319334588927039"
   },
   "outputs": [],
   "source": [
    "# Now onto the predictive model:\n",
    "lr = LogisticRegression(solver='saga',max_iter=10000)\n",
    "\n",
    "#X_1 = features, y_1 = target:\n",
    "X_1 = df.drop(columns='target',axis=1)\n",
    "y_1 = df.target\n",
    "\n",
    "#Train vs Test split:\n",
    "X_train,X_test,y_train,y_test = train_test_split(X_1,y_1,test_size=0.3,random_state=42)"
   ]
  },
  {
   "cell_type": "code",
   "execution_count": 10,
   "metadata": {
    "_uuid": "f57230ffc40a0d5e7aae5c65d16e3bd0e068797e"
   },
   "outputs": [],
   "source": [
    "#Setup a hyperparameter grid to train C (the hyperparameter of LogReg)\n",
    "#Grid of values using np.logspace:\n",
    "#logspace is usually in base 10 (powers of 10) and are evenly divided between start & stop:\n",
    "c_space = np.logspace(-5,8,)\n",
    "\n",
    "#Parameter grid:\n",
    "param_grid = {'C': c_space}"
   ]
  },
  {
   "cell_type": "code",
   "execution_count": 11,
   "metadata": {
    "_uuid": "4ec019ea7a28158724e5934f67aebbb0da800ae7"
   },
   "outputs": [],
   "source": [
    "#Using GridsearchCV: Find the best possible value for C (hyper parameter)\n",
    "logreg_cv = GridSearchCV(lr,param_grid,cv=5)"
   ]
  },
  {
   "cell_type": "code",
   "execution_count": 12,
   "metadata": {
    "_uuid": "42168775a975c9ab2460e3984c6d8fb41af002c3"
   },
   "outputs": [
    {
     "name": "stderr",
     "output_type": "stream",
     "text": [
      "/opt/conda/lib/python3.6/site-packages/sklearn/model_selection/_search.py:841: DeprecationWarning: The default of the `iid` parameter will change from True to False in version 0.22 and will be removed in 0.24. This will change numeric results when test-set sizes are unequal.\n",
      "  DeprecationWarning)\n"
     ]
    },
    {
     "data": {
      "text/plain": [
       "GridSearchCV(cv=5, error_score='raise-deprecating',\n",
       "       estimator=LogisticRegression(C=1.0, class_weight=None, dual=False, fit_intercept=True,\n",
       "          intercept_scaling=1, max_iter=10000, multi_class='warn',\n",
       "          n_jobs=None, penalty='l2', random_state=None, solver='saga',\n",
       "          tol=0.0001, verbose=0, warm_start=False),\n",
       "       fit_params=None, iid='warn', n_jobs=None,\n",
       "       param_grid={'C': array([1.00000e-05, 1.84207e-05, 3.39322e-05, 6.25055e-05, 1.15140e-04,\n",
       "       2.12095e-04, 3.90694e-04, 7.19686e-04, 1.32571e-03, 2.44205e-03,\n",
       "       4.49843e-03, 8.28643e-03, 1.52642e-02, 2.81177e-02, 5.17947e-02,\n",
       "       9.54095e-02, 1.75751e-01, 3.23746e-01, 5.96362e-01, 1.09854e... 2.55955e+06, 4.71487e+06,\n",
       "       8.68511e+06, 1.59986e+07, 2.94705e+07, 5.42868e+07, 1.00000e+08])},\n",
       "       pre_dispatch='2*n_jobs', refit=True, return_train_score='warn',\n",
       "       scoring=None, verbose=0)"
      ]
     },
     "execution_count": 12,
     "metadata": {},
     "output_type": "execute_result"
    }
   ],
   "source": [
    "#Fit logreg_cv onto training data to find best hyper parameter C:\n",
    "logreg_cv.fit(X_train,y_train)"
   ]
  },
  {
   "cell_type": "code",
   "execution_count": 13,
   "metadata": {
    "_uuid": "13786c83d9b8f27e34c7c32043a6e8703dab7408"
   },
   "outputs": [
    {
     "name": "stdout",
     "output_type": "stream",
     "text": [
      "{'C': 0.5963623316594648}\n",
      "0.8113207547169812\n"
     ]
    }
   ],
   "source": [
    "#Print the tuned parameters and score:\n",
    "best_param_c = logreg_cv.best_params_\n",
    "print(best_param_c)\n",
    "\n",
    "#Gives you R^2 with the associated best hyperparameter C\n",
    "best_score = logreg_cv.best_score_\n",
    "print(best_score)"
   ]
  },
  {
   "cell_type": "code",
   "execution_count": 14,
   "metadata": {
    "_uuid": "2938e1a6c8729558656c7646f92b9b3687408ef3"
   },
   "outputs": [],
   "source": [
    "#Predict based on new hyperparameter C = 0.59636\n",
    "y_pred = logreg_cv.predict(X_test)"
   ]
  },
  {
   "cell_type": "code",
   "execution_count": 15,
   "metadata": {
    "_uuid": "9f61ab1bdf450aeeaef2b4569cb30535003fae8d"
   },
   "outputs": [
    {
     "data": {
      "text/html": [
       "<div>\n",
       "<style scoped>\n",
       "    .dataframe tbody tr th:only-of-type {\n",
       "        vertical-align: middle;\n",
       "    }\n",
       "\n",
       "    .dataframe tbody tr th {\n",
       "        vertical-align: top;\n",
       "    }\n",
       "\n",
       "    .dataframe thead th {\n",
       "        text-align: right;\n",
       "    }\n",
       "</style>\n",
       "<table border=\"1\" class=\"dataframe\">\n",
       "  <thead>\n",
       "    <tr style=\"text-align: right;\">\n",
       "      <th></th>\n",
       "      <th>0 pred</th>\n",
       "      <th>1 pred</th>\n",
       "    </tr>\n",
       "  </thead>\n",
       "  <tbody>\n",
       "    <tr>\n",
       "      <th>0 True</th>\n",
       "      <td>34</td>\n",
       "      <td>7</td>\n",
       "    </tr>\n",
       "    <tr>\n",
       "      <th>1 True</th>\n",
       "      <td>5</td>\n",
       "      <td>45</td>\n",
       "    </tr>\n",
       "  </tbody>\n",
       "</table>\n",
       "</div>"
      ],
      "text/plain": [
       "        0 pred  1 pred\n",
       "0 True      34       7\n",
       "1 True       5      45"
      ]
     },
     "execution_count": 15,
     "metadata": {},
     "output_type": "execute_result"
    }
   ],
   "source": [
    "#Now to test the robustness of model use ROC:\n",
    "conf_matrix = confusion_matrix(y_test,y_pred)\n",
    "conf_matrix = pd.DataFrame(conf_matrix,index=['0 True','1 True'], columns=['0 pred','1 pred'])\n",
    "conf_matrix"
   ]
  },
  {
   "cell_type": "code",
   "execution_count": 16,
   "metadata": {
    "_uuid": "89afadbef6b5dd8ee21347aea9da7811f709a688"
   },
   "outputs": [
    {
     "name": "stdout",
     "output_type": "stream",
     "text": [
      "              precision    recall  f1-score   support\n",
      "\n",
      "           0       0.87      0.83      0.85        41\n",
      "           1       0.87      0.90      0.88        50\n",
      "\n",
      "   micro avg       0.87      0.87      0.87        91\n",
      "   macro avg       0.87      0.86      0.87        91\n",
      "weighted avg       0.87      0.87      0.87        91\n",
      "\n"
     ]
    }
   ],
   "source": [
    "#Now looks at the classification report: Inspecting Recall and Precision\n",
    "class_report = classification_report(y_test,y_pred)\n",
    "print(class_report)"
   ]
  },
  {
   "cell_type": "code",
   "execution_count": 17,
   "metadata": {
    "_uuid": "0777b9fc78334cfd75a5fc75e3b9947740aa911f"
   },
   "outputs": [],
   "source": [
    "#ROC curve:\n",
    "#Grab probabilities of datapoint predicting positive\n",
    "y_pred_prob = logreg_cv.predict_proba(X_test)[:,1]\n",
    "\n",
    "#Unpack fpr,tpr,threshold from roc_curve:\n",
    "fpr,tpr,threshold = roc_curve(y_test,y_pred_prob)"
   ]
  },
  {
   "cell_type": "code",
   "execution_count": 18,
   "metadata": {
    "_uuid": "736c3e8514185da0452a5c78ae838ab79c63d20e"
   },
   "outputs": [
    {
     "data": {
      "image/png": "[encoded data removed]",
      "text/plain": [
       "<Figure size 432x288 with 1 Axes>"
      ]
     },
     "metadata": {},
     "output_type": "display_data"
    }
   ],
   "source": [
    "#Plot ROC:\n",
    "_ = plt.plot(fpr,tpr,color='red')\n",
    "_ = plt.plot([0,1],[0,1],'k--')\n",
    "_ = plt.xlabel('FPR')\n",
    "_ = plt.ylabel('TPR')\n",
    "\n",
    "plt.show()\n",
    "#Model does a good job of observing true positives "
   ]
  },
  {
   "cell_type": "code",
   "execution_count": 19,
   "metadata": {
    "_uuid": "e49a2e62399944d2c0cc9308b0a287427351c580"
   },
   "outputs": [
    {
     "name": "stdout",
     "output_type": "stream",
     "text": [
      "The area under the ROC is 0.8878048780487805\n"
     ]
    }
   ],
   "source": [
    "#Now looking at area under the curve to get a single statistic:\n",
    "area = roc_auc_score(y_test,y_pred_prob)\n",
    "print('The area under the ROC is {}'.format(area))"
   ]
  },
  {
   "cell_type": "code",
   "execution_count": 20,
   "metadata": {
    "_uuid": "c1ef546f228683d4c41dbfda4943e31cb2367189"
   },
   "outputs": [],
   "source": []
  }
 ],
 "metadata": {
  "kernelspec": {
   "display_name": "Python 3",
   "language": "python",
   "name": "python3"
  },
  "language_info": {
   "codemirror_mode": {
    "name": "ipython",
    "version": 3
   },
   "file_extension": ".py",
   "mimetype": "text/x-python",
   "name": "python",
   "nbconvert_exporter": "python",
   "pygments_lexer": "ipython3",
   "version": "3.6.8"
  }
 },
 "nbformat": 4,
 "nbformat_minor": 1
}
