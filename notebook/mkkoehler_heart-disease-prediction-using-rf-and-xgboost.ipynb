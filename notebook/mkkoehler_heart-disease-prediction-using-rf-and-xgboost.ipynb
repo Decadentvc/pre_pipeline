{
 "cells": [
  {
   "cell_type": "markdown",
   "metadata": {},
   "source": [
    "# Introduction\n",
    "\n",
    "A simple notebook to have a look at the predition of heart diseases using Random forrest, for which the feature importance is tested, and XGBoost, for which also cross validation is tested."
   ]
  },
  {
   "cell_type": "code",
   "execution_count": 1,
   "metadata": {
    "_cell_guid": "b1076dfc-b9ad-4769-8c92-a6c4dae69d19",
    "_uuid": "8f2839f25d086af736a60e9eeb907d3b93b6e0e5"
   },
   "outputs": [
    {
     "name": "stdout",
     "output_type": "stream",
     "text": [
      "/kaggle/input/heart-disease-cleveland-uci/heart_cleveland_upload.csv\n"
     ]
    }
   ],
   "source": [
    "# This Python 3 environment comes with many helpful analytics libraries installed\n",
    "# It is defined by the kaggle/python docker image: https://github.com/kaggle/docker-python\n",
    "# For example, here's several helpful packages to load in \n",
    "\n",
    "import numpy as np # linear algebra\n",
    "import pandas as pd # data processing, CSV file I/O (e.g. pd.read_csv)\n",
    "import seaborn as sns\n",
    "import matplotlib as mpl\n",
    "import matplotlib.pyplot as plt\n",
    "from sklearn.model_selection import train_test_split\n",
    "from sklearn.model_selection import cross_val_score\n",
    "from sklearn.metrics import mean_absolute_error\n",
    "from sklearn.metrics import accuracy_score\n",
    "from xgboost import XGBRegressor\n",
    "from sklearn.pipeline import Pipeline\n",
    "from sklearn.ensemble import RandomForestClassifier\n",
    "from sklearn.inspection import permutation_importance\n",
    "\n",
    "\n",
    "# Input data files are available in the \"../input/\" directory.\n",
    "# For example, running this (by clicking run or pressing Shift+Enter) will list all files under the input directory\n",
    "\n",
    "import os\n",
    "for dirname, _, filenames in os.walk('/kaggle/input'):\n",
    "    for filename in filenames:\n",
    "        print(os.path.join(dirname, filename))\n",
    "\n",
    "# Any results you write to the current directory are saved as output.\n",
    "\n",
    "path_to_file = '../input/heart-disease-cleveland-uci/heart_cleveland_upload.csv'\n",
    "\n",
    "#getting data\n",
    "X_full = pd.read_csv(path_to_file)\n",
    "X = X_full.drop(columns=['condition'],axis = 1)\n",
    "#target\n",
    "y = X_full.condition\n",
    "\n",
    "#print(list(X_full.columns))\n",
    "#X.head(10)"
   ]
  },
  {
   "cell_type": "markdown",
   "metadata": {},
   "source": [
    "Separate test sample and training sample."
   ]
  },
  {
   "cell_type": "code",
   "execution_count": 2,
   "metadata": {},
   "outputs": [],
   "source": [
    "# training and validation sets\n",
    "X_train, X_valid, y_train, y_valid = train_test_split(X, y, train_size=0.8, test_size=0.2,random_state=0)"
   ]
  },
  {
   "cell_type": "markdown",
   "metadata": {},
   "source": [
    "**Random forrest**\n",
    "\n",
    "The accuracy for training and test sample is printed-out below. Additionally, the feature importance is shown. Here it should be mentioned that the condition was dropped. Otherwise the test accuracy is of course 100% and the feature importance of the quantity shoots up to 70 % or so."
   ]
  },
  {
   "cell_type": "code",
   "execution_count": 3,
   "metadata": {},
   "outputs": [
    {
     "name": "stdout",
     "output_type": "stream",
     "text": [
      "Random forrest train accuracy: 1.000\n",
      "Random forrest test accuracy: 0.750\n"
     ]
    },
    {
     "data": {
      "image/png": "[encoded data removed]",
      "text/plain": [
       "<Figure size 720x576 with 1 Axes>"
      ]
     },
     "metadata": {
      "needs_background": "light"
     },
     "output_type": "display_data"
    }
   ],
   "source": [
    "#\n",
    "# random forrest\n",
    "#\n",
    "\n",
    "\n",
    "\n",
    "rf = Pipeline([\n",
    "        ('classifier', RandomForestClassifier(random_state=42))\n",
    "])\n",
    "\n",
    "rf.fit(X_train, y_train)\n",
    "\n",
    "print(\"Random forrest train accuracy: %0.3f\" % rf.score(X_train, y_train))\n",
    "print(\"Random forrest test accuracy: %0.3f\" % rf.score(X_valid, y_valid))\n",
    "\n",
    "#\n",
    "# feature importance\n",
    "#\n",
    "tree_feature_importances = (\n",
    "    rf.named_steps['classifier'].feature_importances_)\n",
    "sorted_idx = tree_feature_importances.argsort()\n",
    "\n",
    "#make plot of feature importance\n",
    "fig_size = plt.rcParams[\"figure.figsize\"]\n",
    "fig_size[0] = 10\n",
    "fig_size[1] = 8\n",
    "plt.rcParams[\"figure.figsize\"] = fig_size\n",
    "\n",
    "y_ticks = np.arange(0, len(X.columns))\n",
    "fig, ax = plt.subplots()\n",
    "ax.barh(y_ticks, tree_feature_importances[sorted_idx])\n",
    "ax.set_yticklabels(X.columns[sorted_idx])\n",
    "ax.set_yticks(y_ticks)\n",
    "ax.set_title(\"Random Forest Feature Importances\")\n",
    "plt.show()\n"
   ]
  },
  {
   "cell_type": "markdown",
   "metadata": {},
   "source": [
    "**XGBoost**\n",
    "\n",
    "Check the uncertainty from XGBoost and from cross validation."
   ]
  },
  {
   "cell_type": "code",
   "execution_count": 4,
   "metadata": {},
   "outputs": [
    {
     "name": "stdout",
     "output_type": "stream",
     "text": [
      "mean absolute error ->  0.2995993584394455\n",
      "uncertainty from cross validation ->  0.2875805316848316\n"
     ]
    }
   ],
   "source": [
    "#\n",
    "# xgboost\n",
    "#\n",
    "from sklearn.model_selection import GridSearchCV\n",
    "model1 = XGBRegressor(n_estimators=150, learning_rate=0.05,random_state = 0)\n",
    "model1.fit(X_train, y_train)\n",
    "predictions1 = model1.predict(X_valid)\n",
    "mae1 = mean_absolute_error(y_valid, predictions1)\n",
    "print('mean absolute error -> ', mae1)\n",
    "\n",
    "#print(model1.get_params())\n",
    "\n",
    "#uncertainty when performing cross validation\n",
    "cv_uncert = -1 * cross_val_score(model1, X, y,cv=10, scoring='neg_mean_absolute_error')\n",
    "print('uncertainty from cross validation -> ', cv_uncert.mean())"
   ]
  }
 ],
 "metadata": {
  "kernelspec": {
   "display_name": "Python 3",
   "language": "python",
   "name": "python3"
  },
  "language_info": {
   "codemirror_mode": {
    "name": "ipython",
    "version": 3
   },
   "file_extension": ".py",
   "mimetype": "text/x-python",
   "name": "python",
   "nbconvert_exporter": "python",
   "pygments_lexer": "ipython3",
   "version": "3.6.6"
  }
 },
 "nbformat": 4,
 "nbformat_minor": 4
}
