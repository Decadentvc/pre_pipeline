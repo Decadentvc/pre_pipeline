{
 "cells": [
  {
   "cell_type": "code",
   "execution_count": 1,
   "metadata": {
    "_cell_guid": "b1076dfc-b9ad-4769-8c92-a6c4dae69d19",
    "_uuid": "8f2839f25d086af736a60e9eeb907d3b93b6e0e5"
   },
   "outputs": [
    {
     "name": "stdout",
     "output_type": "stream",
     "text": [
      "/kaggle/input/heart-disease-uci/heart.csv\n"
     ]
    }
   ],
   "source": [
    "# This Python 3 environment comes with many helpful analytics libraries installed\n",
    "# It is defined by the kaggle/python docker image: https://github.com/kaggle/docker-python\n",
    "# For example, here's several helpful packages to load in \n",
    "\n",
    "import numpy as np # linear algebra\n",
    "import pandas as pd # data processing, CSV file I/O (e.g. pd.read_csv)\n",
    "\n",
    "# Input data files are available in the \"../input/\" directory.\n",
    "# For example, running this (by clicking run or pressing Shift+Enter) will list all files under the input directory\n",
    "\n",
    "import os\n",
    "for dirname, _, filenames in os.walk('/kaggle/input'):\n",
    "    for filename in filenames:\n",
    "        print(os.path.join(dirname, filename))\n",
    "\n",
    "# Any results you write to the current directory are saved as output."
   ]
  },
  {
   "cell_type": "code",
   "execution_count": 2,
   "metadata": {
    "_cell_guid": "79c7e3d0-c299-4dcb-8224-4455121ee9b0",
    "_uuid": "d629ff2d2480ee46fbb7e2d37f6b5fab8052498a"
   },
   "outputs": [
    {
     "data": {
      "text/html": [
       "<div>\n",
       "<style scoped>\n",
       "    .dataframe tbody tr th:only-of-type {\n",
       "        vertical-align: middle;\n",
       "    }\n",
       "\n",
       "    .dataframe tbody tr th {\n",
       "        vertical-align: top;\n",
       "    }\n",
       "\n",
       "    .dataframe thead th {\n",
       "        text-align: right;\n",
       "    }\n",
       "</style>\n",
       "<table border=\"1\" class=\"dataframe\">\n",
       "  <thead>\n",
       "    <tr style=\"text-align: right;\">\n",
       "      <th></th>\n",
       "      <th>age</th>\n",
       "      <th>sex</th>\n",
       "      <th>cp</th>\n",
       "      <th>trestbps</th>\n",
       "      <th>chol</th>\n",
       "      <th>fbs</th>\n",
       "      <th>restecg</th>\n",
       "      <th>thalach</th>\n",
       "      <th>exang</th>\n",
       "      <th>oldpeak</th>\n",
       "      <th>slope</th>\n",
       "      <th>ca</th>\n",
       "      <th>thal</th>\n",
       "      <th>target</th>\n",
       "    </tr>\n",
       "  </thead>\n",
       "  <tbody>\n",
       "    <tr>\n",
       "      <th>0</th>\n",
       "      <td>63</td>\n",
       "      <td>1</td>\n",
       "      <td>3</td>\n",
       "      <td>145</td>\n",
       "      <td>233</td>\n",
       "      <td>1</td>\n",
       "      <td>0</td>\n",
       "      <td>150</td>\n",
       "      <td>0</td>\n",
       "      <td>2.3</td>\n",
       "      <td>0</td>\n",
       "      <td>0</td>\n",
       "      <td>1</td>\n",
       "      <td>1</td>\n",
       "    </tr>\n",
       "    <tr>\n",
       "      <th>1</th>\n",
       "      <td>37</td>\n",
       "      <td>1</td>\n",
       "      <td>2</td>\n",
       "      <td>130</td>\n",
       "      <td>250</td>\n",
       "      <td>0</td>\n",
       "      <td>1</td>\n",
       "      <td>187</td>\n",
       "      <td>0</td>\n",
       "      <td>3.5</td>\n",
       "      <td>0</td>\n",
       "      <td>0</td>\n",
       "      <td>2</td>\n",
       "      <td>1</td>\n",
       "    </tr>\n",
       "    <tr>\n",
       "      <th>2</th>\n",
       "      <td>41</td>\n",
       "      <td>0</td>\n",
       "      <td>1</td>\n",
       "      <td>130</td>\n",
       "      <td>204</td>\n",
       "      <td>0</td>\n",
       "      <td>0</td>\n",
       "      <td>172</td>\n",
       "      <td>0</td>\n",
       "      <td>1.4</td>\n",
       "      <td>2</td>\n",
       "      <td>0</td>\n",
       "      <td>2</td>\n",
       "      <td>1</td>\n",
       "    </tr>\n",
       "    <tr>\n",
       "      <th>3</th>\n",
       "      <td>56</td>\n",
       "      <td>1</td>\n",
       "      <td>1</td>\n",
       "      <td>120</td>\n",
       "      <td>236</td>\n",
       "      <td>0</td>\n",
       "      <td>1</td>\n",
       "      <td>178</td>\n",
       "      <td>0</td>\n",
       "      <td>0.8</td>\n",
       "      <td>2</td>\n",
       "      <td>0</td>\n",
       "      <td>2</td>\n",
       "      <td>1</td>\n",
       "    </tr>\n",
       "    <tr>\n",
       "      <th>4</th>\n",
       "      <td>57</td>\n",
       "      <td>0</td>\n",
       "      <td>0</td>\n",
       "      <td>120</td>\n",
       "      <td>354</td>\n",
       "      <td>0</td>\n",
       "      <td>1</td>\n",
       "      <td>163</td>\n",
       "      <td>1</td>\n",
       "      <td>0.6</td>\n",
       "      <td>2</td>\n",
       "      <td>0</td>\n",
       "      <td>2</td>\n",
       "      <td>1</td>\n",
       "    </tr>\n",
       "  </tbody>\n",
       "</table>\n",
       "</div>"
      ],
      "text/plain": [
       "   age  sex  cp  trestbps  chol  fbs  restecg  thalach  exang  oldpeak  slope  \\\n",
       "0   63    1   3       145   233    1        0      150      0      2.3      0   \n",
       "1   37    1   2       130   250    0        1      187      0      3.5      0   \n",
       "2   41    0   1       130   204    0        0      172      0      1.4      2   \n",
       "3   56    1   1       120   236    0        1      178      0      0.8      2   \n",
       "4   57    0   0       120   354    0        1      163      1      0.6      2   \n",
       "\n",
       "   ca  thal  target  \n",
       "0   0     1       1  \n",
       "1   0     2       1  \n",
       "2   0     2       1  \n",
       "3   0     2       1  \n",
       "4   0     2       1  "
      ]
     },
     "execution_count": 2,
     "metadata": {},
     "output_type": "execute_result"
    }
   ],
   "source": [
    "data=pd.read_csv(\"../input/heart-disease-uci/heart.csv\")\n",
    "data.head()"
   ]
  },
  {
   "cell_type": "code",
   "execution_count": 3,
   "metadata": {},
   "outputs": [],
   "source": [
    "%matplotlib inline\n",
    "import seaborn as sns"
   ]
  },
  {
   "cell_type": "code",
   "execution_count": 4,
   "metadata": {},
   "outputs": [],
   "source": [
    "x=data.iloc[:,0:13]\n",
    "y=data.iloc[:,13:]"
   ]
  },
  {
   "cell_type": "code",
   "execution_count": 5,
   "metadata": {},
   "outputs": [
    {
     "name": "stdout",
     "output_type": "stream",
     "text": [
      "Learning rate set to 0.5\n",
      "0:\tlearn: 0.6026946\ttotal: 53.3ms\tremaining: 213ms\n",
      "1:\tlearn: 0.5005685\ttotal: 54.6ms\tremaining: 81.9ms\n",
      "2:\tlearn: 0.4543639\ttotal: 55.7ms\tremaining: 37.1ms\n",
      "3:\tlearn: 0.4164360\ttotal: 56.7ms\tremaining: 14.2ms\n",
      "4:\tlearn: 0.3865602\ttotal: 57.7ms\tremaining: 0us\n",
      "Learning rate set to 0.5\n",
      "0:\tlearn: 0.5952476\ttotal: 1.37ms\tremaining: 5.49ms\n",
      "1:\tlearn: 0.4997867\ttotal: 2.87ms\tremaining: 4.3ms\n",
      "2:\tlearn: 0.4552547\ttotal: 4.15ms\tremaining: 2.77ms\n",
      "3:\tlearn: 0.4272284\ttotal: 5.47ms\tremaining: 1.37ms\n",
      "4:\tlearn: 0.3945969\ttotal: 6.97ms\tremaining: 0us\n",
      "Learning rate set to 0.5\n",
      "0:\tlearn: 0.5579294\ttotal: 718us\tremaining: 2.87ms\n",
      "1:\tlearn: 0.4705210\ttotal: 1.9ms\tremaining: 2.85ms\n",
      "2:\tlearn: 0.4162723\ttotal: 2.97ms\tremaining: 1.98ms\n",
      "3:\tlearn: 0.3773926\ttotal: 4.12ms\tremaining: 1.03ms\n",
      "4:\tlearn: 0.3447337\ttotal: 5.17ms\tremaining: 0us\n"
     ]
    },
    {
     "data": {
      "text/plain": [
       "array([0.79207921, 0.87128713, 0.76237624])"
      ]
     },
     "execution_count": 5,
     "metadata": {},
     "output_type": "execute_result"
    }
   ],
   "source": [
    "from sklearn.model_selection import cross_val_score\n",
    "from catboost import CatBoostClassifier\n",
    "cat=CatBoostClassifier(iterations=5)\n",
    "cross_val_score(cat,x,y,cv=3)"
   ]
  },
  {
   "cell_type": "markdown",
   "metadata": {},
   "source": [
    "## Catboost have promising results."
   ]
  },
  {
   "cell_type": "code",
   "execution_count": 6,
   "metadata": {},
   "outputs": [
    {
     "name": "stdout",
     "output_type": "stream",
     "text": [
      "Learning rate set to 0.153729\n",
      "0:\tlearn: 0.6633012\ttotal: 1.19ms\tremaining: 58.2ms\n",
      "1:\tlearn: 0.6220204\ttotal: 2.29ms\tremaining: 55ms\n",
      "2:\tlearn: 0.5974368\ttotal: 3.4ms\tremaining: 53.2ms\n",
      "3:\tlearn: 0.5749036\ttotal: 4.87ms\tremaining: 56ms\n",
      "4:\tlearn: 0.5534403\ttotal: 5.89ms\tremaining: 53.1ms\n",
      "5:\tlearn: 0.5297457\ttotal: 6.94ms\tremaining: 50.9ms\n",
      "6:\tlearn: 0.5056613\ttotal: 8.02ms\tremaining: 49.3ms\n",
      "7:\tlearn: 0.4834170\ttotal: 9.11ms\tremaining: 47.8ms\n",
      "8:\tlearn: 0.4709956\ttotal: 10.1ms\tremaining: 46ms\n",
      "9:\tlearn: 0.4581387\ttotal: 11.1ms\tremaining: 44.4ms\n",
      "10:\tlearn: 0.4451755\ttotal: 12.1ms\tremaining: 43ms\n",
      "11:\tlearn: 0.4335307\ttotal: 13.1ms\tremaining: 41.6ms\n",
      "12:\tlearn: 0.4220449\ttotal: 14.1ms\tremaining: 40.1ms\n",
      "13:\tlearn: 0.4103191\ttotal: 15.1ms\tremaining: 38.7ms\n",
      "14:\tlearn: 0.3999194\ttotal: 16ms\tremaining: 37.4ms\n",
      "15:\tlearn: 0.3907005\ttotal: 17ms\tremaining: 36.2ms\n",
      "16:\tlearn: 0.3822214\ttotal: 18ms\tremaining: 35ms\n",
      "17:\tlearn: 0.3735879\ttotal: 19ms\tremaining: 33.7ms\n",
      "18:\tlearn: 0.3670632\ttotal: 20ms\tremaining: 32.6ms\n",
      "19:\tlearn: 0.3597381\ttotal: 20.9ms\tremaining: 31.4ms\n",
      "20:\tlearn: 0.3532374\ttotal: 22ms\tremaining: 30.3ms\n",
      "21:\tlearn: 0.3457962\ttotal: 22.9ms\tremaining: 29.2ms\n",
      "22:\tlearn: 0.3402819\ttotal: 24ms\tremaining: 28.2ms\n",
      "23:\tlearn: 0.3360669\ttotal: 25ms\tremaining: 27.1ms\n",
      "24:\tlearn: 0.3302298\ttotal: 26ms\tremaining: 26ms\n",
      "25:\tlearn: 0.3261155\ttotal: 26.9ms\tremaining: 24.9ms\n",
      "26:\tlearn: 0.3226592\ttotal: 27.9ms\tremaining: 23.8ms\n",
      "27:\tlearn: 0.3163645\ttotal: 28.9ms\tremaining: 22.7ms\n",
      "28:\tlearn: 0.3129181\ttotal: 30ms\tremaining: 21.7ms\n",
      "29:\tlearn: 0.3074578\ttotal: 31ms\tremaining: 20.7ms\n",
      "30:\tlearn: 0.3024083\ttotal: 32ms\tremaining: 19.6ms\n",
      "31:\tlearn: 0.2990886\ttotal: 32.9ms\tremaining: 18.5ms\n",
      "32:\tlearn: 0.2938896\ttotal: 33.9ms\tremaining: 17.5ms\n",
      "33:\tlearn: 0.2886270\ttotal: 35ms\tremaining: 16.5ms\n",
      "34:\tlearn: 0.2842284\ttotal: 36ms\tremaining: 15.4ms\n",
      "35:\tlearn: 0.2800932\ttotal: 37ms\tremaining: 14.4ms\n",
      "36:\tlearn: 0.2768355\ttotal: 38ms\tremaining: 13.4ms\n",
      "37:\tlearn: 0.2720170\ttotal: 39ms\tremaining: 12.3ms\n",
      "38:\tlearn: 0.2690472\ttotal: 39.9ms\tremaining: 11.3ms\n",
      "39:\tlearn: 0.2645044\ttotal: 40.9ms\tremaining: 10.2ms\n",
      "40:\tlearn: 0.2600799\ttotal: 41.9ms\tremaining: 9.2ms\n",
      "41:\tlearn: 0.2566653\ttotal: 42.9ms\tremaining: 8.17ms\n",
      "42:\tlearn: 0.2535019\ttotal: 43.9ms\tremaining: 7.14ms\n",
      "43:\tlearn: 0.2504287\ttotal: 44.8ms\tremaining: 6.11ms\n",
      "44:\tlearn: 0.2465079\ttotal: 45.8ms\tremaining: 5.09ms\n",
      "45:\tlearn: 0.2434555\ttotal: 46.8ms\tremaining: 4.07ms\n",
      "46:\tlearn: 0.2400225\ttotal: 47.8ms\tremaining: 3.05ms\n",
      "47:\tlearn: 0.2357987\ttotal: 48.8ms\tremaining: 2.03ms\n",
      "48:\tlearn: 0.2316310\ttotal: 49.8ms\tremaining: 1.01ms\n",
      "49:\tlearn: 0.2274163\ttotal: 50.8ms\tremaining: 0us\n",
      "Learning rate set to 0.153729\n",
      "0:\tlearn: 0.6607238\ttotal: 1.17ms\tremaining: 57.5ms\n",
      "1:\tlearn: 0.6191648\ttotal: 2.31ms\tremaining: 55.6ms\n",
      "2:\tlearn: 0.5935217\ttotal: 3.36ms\tremaining: 52.7ms\n",
      "3:\tlearn: 0.5757242\ttotal: 4.36ms\tremaining: 50.1ms\n",
      "4:\tlearn: 0.5471982\ttotal: 5.34ms\tremaining: 48.1ms\n",
      "5:\tlearn: 0.5279419\ttotal: 6.3ms\tremaining: 46.2ms\n",
      "6:\tlearn: 0.5060647\ttotal: 7.29ms\tremaining: 44.8ms\n",
      "7:\tlearn: 0.4852881\ttotal: 8.33ms\tremaining: 43.7ms\n",
      "8:\tlearn: 0.4643230\ttotal: 9.29ms\tremaining: 42.3ms\n",
      "9:\tlearn: 0.4499699\ttotal: 10.3ms\tremaining: 41.2ms\n",
      "10:\tlearn: 0.4357386\ttotal: 11.3ms\tremaining: 40ms\n",
      "11:\tlearn: 0.4253149\ttotal: 12.2ms\tremaining: 38.8ms\n",
      "12:\tlearn: 0.4115755\ttotal: 13.2ms\tremaining: 37.6ms\n",
      "13:\tlearn: 0.4004841\ttotal: 14.2ms\tremaining: 36.5ms\n",
      "14:\tlearn: 0.3924588\ttotal: 15.1ms\tremaining: 35.3ms\n",
      "15:\tlearn: 0.3840672\ttotal: 16.1ms\tremaining: 34.2ms\n",
      "16:\tlearn: 0.3747243\ttotal: 17.1ms\tremaining: 33.2ms\n",
      "17:\tlearn: 0.3637653\ttotal: 18ms\tremaining: 32.1ms\n",
      "18:\tlearn: 0.3564970\ttotal: 19ms\tremaining: 31ms\n",
      "19:\tlearn: 0.3499760\ttotal: 20ms\tremaining: 30ms\n",
      "20:\tlearn: 0.3425123\ttotal: 21ms\tremaining: 29ms\n",
      "21:\tlearn: 0.3375006\ttotal: 22ms\tremaining: 28ms\n",
      "22:\tlearn: 0.3332014\ttotal: 23.4ms\tremaining: 27.5ms\n",
      "23:\tlearn: 0.3260853\ttotal: 24.5ms\tremaining: 26.5ms\n",
      "24:\tlearn: 0.3209401\ttotal: 25.5ms\tremaining: 25.5ms\n",
      "25:\tlearn: 0.3159529\ttotal: 26.5ms\tremaining: 24.4ms\n",
      "26:\tlearn: 0.3111170\ttotal: 27.5ms\tremaining: 23.4ms\n",
      "27:\tlearn: 0.3078636\ttotal: 28.5ms\tremaining: 22.4ms\n",
      "28:\tlearn: 0.3050948\ttotal: 29.5ms\tremaining: 21.4ms\n",
      "29:\tlearn: 0.2988213\ttotal: 30.5ms\tremaining: 20.3ms\n",
      "30:\tlearn: 0.2930694\ttotal: 31.5ms\tremaining: 19.3ms\n",
      "31:\tlearn: 0.2896428\ttotal: 32.5ms\tremaining: 18.3ms\n",
      "32:\tlearn: 0.2855191\ttotal: 33.5ms\tremaining: 17.3ms\n",
      "33:\tlearn: 0.2810438\ttotal: 34.6ms\tremaining: 16.3ms\n",
      "34:\tlearn: 0.2755947\ttotal: 35.6ms\tremaining: 15.3ms\n",
      "35:\tlearn: 0.2721847\ttotal: 36.6ms\tremaining: 14.2ms\n",
      "36:\tlearn: 0.2677517\ttotal: 37.6ms\tremaining: 13.2ms\n",
      "37:\tlearn: 0.2646085\ttotal: 38.6ms\tremaining: 12.2ms\n",
      "38:\tlearn: 0.2614926\ttotal: 39.6ms\tremaining: 11.2ms\n",
      "39:\tlearn: 0.2583816\ttotal: 40.7ms\tremaining: 10.2ms\n",
      "40:\tlearn: 0.2548362\ttotal: 41.7ms\tremaining: 9.15ms\n",
      "41:\tlearn: 0.2503585\ttotal: 42.7ms\tremaining: 8.13ms\n",
      "42:\tlearn: 0.2462629\ttotal: 43.7ms\tremaining: 7.12ms\n",
      "43:\tlearn: 0.2433572\ttotal: 44.7ms\tremaining: 6.1ms\n",
      "44:\tlearn: 0.2404138\ttotal: 45.8ms\tremaining: 5.08ms\n",
      "45:\tlearn: 0.2371274\ttotal: 46.8ms\tremaining: 4.07ms\n",
      "46:\tlearn: 0.2339551\ttotal: 48ms\tremaining: 3.06ms\n",
      "47:\tlearn: 0.2307470\ttotal: 49ms\tremaining: 2.04ms\n",
      "48:\tlearn: 0.2274970\ttotal: 50ms\tremaining: 1.02ms\n",
      "49:\tlearn: 0.2257650\ttotal: 51.2ms\tremaining: 0us\n",
      "Learning rate set to 0.153729\n",
      "0:\tlearn: 0.6449193\ttotal: 668us\tremaining: 32.7ms\n",
      "1:\tlearn: 0.6015697\ttotal: 1.82ms\tremaining: 43.8ms\n",
      "2:\tlearn: 0.5692353\ttotal: 2.93ms\tremaining: 45.9ms\n",
      "3:\tlearn: 0.5449558\ttotal: 3.96ms\tremaining: 45.6ms\n",
      "4:\tlearn: 0.5211172\ttotal: 4.98ms\tremaining: 44.8ms\n",
      "5:\tlearn: 0.5003673\ttotal: 5.98ms\tremaining: 43.9ms\n",
      "6:\tlearn: 0.4812439\ttotal: 6.96ms\tremaining: 42.8ms\n",
      "7:\tlearn: 0.4635925\ttotal: 7.98ms\tremaining: 41.9ms\n",
      "8:\tlearn: 0.4484658\ttotal: 8.95ms\tremaining: 40.8ms\n",
      "9:\tlearn: 0.4339165\ttotal: 9.99ms\tremaining: 40ms\n",
      "10:\tlearn: 0.4230935\ttotal: 11.6ms\tremaining: 41.1ms\n",
      "11:\tlearn: 0.4097184\ttotal: 12.8ms\tremaining: 40.6ms\n",
      "12:\tlearn: 0.3993997\ttotal: 13.8ms\tremaining: 39.2ms\n",
      "13:\tlearn: 0.3884673\ttotal: 14.8ms\tremaining: 37.9ms\n",
      "14:\tlearn: 0.3778486\ttotal: 16.3ms\tremaining: 38.1ms\n",
      "15:\tlearn: 0.3702827\ttotal: 17.4ms\tremaining: 37ms\n",
      "16:\tlearn: 0.3609705\ttotal: 18.4ms\tremaining: 35.7ms\n",
      "17:\tlearn: 0.3471709\ttotal: 19.2ms\tremaining: 34.2ms\n",
      "18:\tlearn: 0.3400397\ttotal: 20.3ms\tremaining: 33ms\n",
      "19:\tlearn: 0.3315040\ttotal: 21.2ms\tremaining: 31.8ms\n",
      "20:\tlearn: 0.3244894\ttotal: 22.2ms\tremaining: 30.7ms\n",
      "21:\tlearn: 0.3196936\ttotal: 23.2ms\tremaining: 29.5ms\n",
      "22:\tlearn: 0.3139197\ttotal: 24.2ms\tremaining: 28.4ms\n",
      "23:\tlearn: 0.3079441\ttotal: 25.2ms\tremaining: 27.3ms\n",
      "24:\tlearn: 0.3017579\ttotal: 26.2ms\tremaining: 26.2ms\n",
      "25:\tlearn: 0.2962622\ttotal: 27.1ms\tremaining: 25.1ms\n",
      "26:\tlearn: 0.2929348\ttotal: 28.1ms\tremaining: 24ms\n",
      "27:\tlearn: 0.2877851\ttotal: 29.1ms\tremaining: 22.9ms\n",
      "28:\tlearn: 0.2833793\ttotal: 30.1ms\tremaining: 21.8ms\n",
      "29:\tlearn: 0.2789813\ttotal: 31.1ms\tremaining: 20.7ms\n",
      "30:\tlearn: 0.2764197\ttotal: 32ms\tremaining: 19.6ms\n",
      "31:\tlearn: 0.2721038\ttotal: 33ms\tremaining: 18.6ms\n",
      "32:\tlearn: 0.2672033\ttotal: 34.1ms\tremaining: 17.5ms\n",
      "33:\tlearn: 0.2638624\ttotal: 35.2ms\tremaining: 16.6ms\n",
      "34:\tlearn: 0.2600482\ttotal: 36.2ms\tremaining: 15.5ms\n",
      "35:\tlearn: 0.2566861\ttotal: 37.2ms\tremaining: 14.5ms\n",
      "36:\tlearn: 0.2525363\ttotal: 38.2ms\tremaining: 13.4ms\n",
      "37:\tlearn: 0.2472428\ttotal: 39.3ms\tremaining: 12.4ms\n",
      "38:\tlearn: 0.2431850\ttotal: 40.3ms\tremaining: 11.4ms\n",
      "39:\tlearn: 0.2399980\ttotal: 41.3ms\tremaining: 10.3ms\n",
      "40:\tlearn: 0.2357162\ttotal: 42.4ms\tremaining: 9.3ms\n",
      "41:\tlearn: 0.2323917\ttotal: 43.3ms\tremaining: 8.26ms\n",
      "42:\tlearn: 0.2286432\ttotal: 44.3ms\tremaining: 7.21ms\n",
      "43:\tlearn: 0.2264378\ttotal: 45.3ms\tremaining: 6.17ms\n",
      "44:\tlearn: 0.2223432\ttotal: 46.3ms\tremaining: 5.15ms\n",
      "45:\tlearn: 0.2190684\ttotal: 47.3ms\tremaining: 4.11ms\n",
      "46:\tlearn: 0.2161447\ttotal: 48.3ms\tremaining: 3.08ms\n",
      "47:\tlearn: 0.2131320\ttotal: 49.3ms\tremaining: 2.06ms\n",
      "48:\tlearn: 0.2098759\ttotal: 50.3ms\tremaining: 1.03ms\n",
      "49:\tlearn: 0.2069405\ttotal: 51.3ms\tremaining: 0us\n"
     ]
    },
    {
     "data": {
      "text/plain": [
       "array([0.82178218, 0.85148515, 0.78217822])"
      ]
     },
     "execution_count": 6,
     "metadata": {},
     "output_type": "execute_result"
    }
   ],
   "source": [
    "cat=CatBoostClassifier(iterations=50)\n",
    "cross_val_score(cat,x,y,cv=3)"
   ]
  },
  {
   "cell_type": "markdown",
   "metadata": {},
   "source": [
    "### I don't know much about catboost but looks like it's work."
   ]
  },
  {
   "cell_type": "code",
   "execution_count": 7,
   "metadata": {},
   "outputs": [],
   "source": [
    "from sklearn.model_selection import train_test_split\n",
    "X_train, X_test, y_train, y_test = train_test_split(x, y, test_size=0.25, random_state=42)"
   ]
  },
  {
   "cell_type": "code",
   "execution_count": 8,
   "metadata": {},
   "outputs": [
    {
     "name": "stdout",
     "output_type": "stream",
     "text": [
      "0:\tlearn: 0.4869497\ttotal: 1.42ms\tremaining: 212ms\n",
      "1:\tlearn: 0.3895800\ttotal: 2.85ms\tremaining: 211ms\n",
      "2:\tlearn: 0.3496517\ttotal: 4.14ms\tremaining: 203ms\n",
      "3:\tlearn: 0.3115664\ttotal: 5.25ms\tremaining: 192ms\n",
      "4:\tlearn: 0.2850753\ttotal: 6.53ms\tremaining: 189ms\n",
      "5:\tlearn: 0.2608714\ttotal: 7.61ms\tremaining: 183ms\n",
      "6:\tlearn: 0.2374583\ttotal: 8.76ms\tremaining: 179ms\n",
      "7:\tlearn: 0.2194163\ttotal: 9.88ms\tremaining: 175ms\n",
      "8:\tlearn: 0.2028531\ttotal: 11ms\tremaining: 172ms\n",
      "9:\tlearn: 0.1891470\ttotal: 12.1ms\tremaining: 169ms\n",
      "10:\tlearn: 0.1792033\ttotal: 13.2ms\tremaining: 167ms\n",
      "11:\tlearn: 0.1679953\ttotal: 14.5ms\tremaining: 167ms\n",
      "12:\tlearn: 0.1589948\ttotal: 15.7ms\tremaining: 166ms\n",
      "13:\tlearn: 0.1506493\ttotal: 16.8ms\tremaining: 164ms\n",
      "14:\tlearn: 0.1383219\ttotal: 17.9ms\tremaining: 162ms\n",
      "15:\tlearn: 0.1321145\ttotal: 19.4ms\tremaining: 163ms\n",
      "16:\tlearn: 0.1236966\ttotal: 20.5ms\tremaining: 161ms\n",
      "17:\tlearn: 0.1169977\ttotal: 21.6ms\tremaining: 158ms\n",
      "18:\tlearn: 0.1082740\ttotal: 22.6ms\tremaining: 156ms\n",
      "19:\tlearn: 0.1057151\ttotal: 23.7ms\tremaining: 154ms\n",
      "20:\tlearn: 0.1025755\ttotal: 24.8ms\tremaining: 152ms\n",
      "21:\tlearn: 0.0969545\ttotal: 25.9ms\tremaining: 151ms\n",
      "22:\tlearn: 0.0929082\ttotal: 27ms\tremaining: 149ms\n",
      "23:\tlearn: 0.0889214\ttotal: 28.1ms\tremaining: 147ms\n",
      "24:\tlearn: 0.0857217\ttotal: 29.2ms\tremaining: 146ms\n",
      "25:\tlearn: 0.0816232\ttotal: 30.3ms\tremaining: 145ms\n",
      "26:\tlearn: 0.0793422\ttotal: 31.4ms\tremaining: 143ms\n",
      "27:\tlearn: 0.0762242\ttotal: 32.4ms\tremaining: 141ms\n",
      "28:\tlearn: 0.0732983\ttotal: 33.6ms\tremaining: 140ms\n",
      "29:\tlearn: 0.0706477\ttotal: 34.6ms\tremaining: 138ms\n",
      "30:\tlearn: 0.0682255\ttotal: 35.7ms\tremaining: 137ms\n",
      "31:\tlearn: 0.0652952\ttotal: 36.9ms\tremaining: 136ms\n",
      "32:\tlearn: 0.0628268\ttotal: 38ms\tremaining: 135ms\n",
      "33:\tlearn: 0.0602347\ttotal: 39.3ms\tremaining: 134ms\n",
      "34:\tlearn: 0.0583181\ttotal: 40.4ms\tremaining: 133ms\n",
      "35:\tlearn: 0.0564906\ttotal: 41.5ms\tremaining: 131ms\n",
      "36:\tlearn: 0.0554624\ttotal: 42.6ms\tremaining: 130ms\n",
      "37:\tlearn: 0.0541981\ttotal: 43.7ms\tremaining: 129ms\n",
      "38:\tlearn: 0.0527201\ttotal: 44.7ms\tremaining: 127ms\n",
      "39:\tlearn: 0.0516635\ttotal: 45.8ms\tremaining: 126ms\n",
      "40:\tlearn: 0.0502931\ttotal: 46.9ms\tremaining: 125ms\n",
      "41:\tlearn: 0.0484072\ttotal: 48ms\tremaining: 123ms\n",
      "42:\tlearn: 0.0469091\ttotal: 49ms\tremaining: 122ms\n",
      "43:\tlearn: 0.0461704\ttotal: 50.1ms\tremaining: 121ms\n",
      "44:\tlearn: 0.0450188\ttotal: 51.1ms\tremaining: 119ms\n",
      "45:\tlearn: 0.0434932\ttotal: 52.1ms\tremaining: 118ms\n",
      "46:\tlearn: 0.0424850\ttotal: 53.1ms\tremaining: 116ms\n",
      "47:\tlearn: 0.0414086\ttotal: 54.2ms\tremaining: 115ms\n",
      "48:\tlearn: 0.0400610\ttotal: 55.3ms\tremaining: 114ms\n",
      "49:\tlearn: 0.0392186\ttotal: 56.3ms\tremaining: 113ms\n",
      "50:\tlearn: 0.0386303\ttotal: 57.3ms\tremaining: 111ms\n",
      "51:\tlearn: 0.0377512\ttotal: 58.4ms\tremaining: 110ms\n",
      "52:\tlearn: 0.0369594\ttotal: 59.4ms\tremaining: 109ms\n",
      "53:\tlearn: 0.0358862\ttotal: 60.5ms\tremaining: 107ms\n",
      "54:\tlearn: 0.0351332\ttotal: 61.5ms\tremaining: 106ms\n",
      "55:\tlearn: 0.0345528\ttotal: 62.5ms\tremaining: 105ms\n",
      "56:\tlearn: 0.0332874\ttotal: 63.6ms\tremaining: 104ms\n",
      "57:\tlearn: 0.0326122\ttotal: 64.6ms\tremaining: 103ms\n",
      "58:\tlearn: 0.0319004\ttotal: 65.7ms\tremaining: 101ms\n",
      "59:\tlearn: 0.0312373\ttotal: 66.8ms\tremaining: 100ms\n",
      "60:\tlearn: 0.0307348\ttotal: 67.8ms\tremaining: 98.9ms\n",
      "61:\tlearn: 0.0300609\ttotal: 68.9ms\tremaining: 97.8ms\n",
      "62:\tlearn: 0.0295299\ttotal: 69.9ms\tremaining: 96.5ms\n",
      "63:\tlearn: 0.0290096\ttotal: 71ms\tremaining: 95.4ms\n",
      "64:\tlearn: 0.0283538\ttotal: 72.1ms\tremaining: 94.2ms\n",
      "65:\tlearn: 0.0278442\ttotal: 73.1ms\tremaining: 93ms\n",
      "66:\tlearn: 0.0274383\ttotal: 74.2ms\tremaining: 91.9ms\n",
      "67:\tlearn: 0.0269262\ttotal: 75.3ms\tremaining: 90.8ms\n",
      "68:\tlearn: 0.0266548\ttotal: 76.4ms\tremaining: 89.7ms\n",
      "69:\tlearn: 0.0262821\ttotal: 77.5ms\tremaining: 88.5ms\n",
      "70:\tlearn: 0.0258666\ttotal: 79.2ms\tremaining: 88.1ms\n",
      "71:\tlearn: 0.0254769\ttotal: 80.4ms\tremaining: 87.1ms\n",
      "72:\tlearn: 0.0248563\ttotal: 81.5ms\tremaining: 85.9ms\n",
      "73:\tlearn: 0.0243620\ttotal: 82.6ms\tremaining: 84.8ms\n",
      "74:\tlearn: 0.0237581\ttotal: 84.1ms\tremaining: 84.1ms\n",
      "75:\tlearn: 0.0232296\ttotal: 85.3ms\tremaining: 83.1ms\n",
      "76:\tlearn: 0.0229267\ttotal: 86.3ms\tremaining: 81.8ms\n",
      "77:\tlearn: 0.0226515\ttotal: 87.4ms\tremaining: 80.7ms\n",
      "78:\tlearn: 0.0223748\ttotal: 88.5ms\tremaining: 79.5ms\n",
      "79:\tlearn: 0.0221904\ttotal: 89.5ms\tremaining: 78.3ms\n",
      "80:\tlearn: 0.0219231\ttotal: 90.5ms\tremaining: 77.1ms\n",
      "81:\tlearn: 0.0217026\ttotal: 91.5ms\tremaining: 75.9ms\n",
      "82:\tlearn: 0.0213918\ttotal: 92.5ms\tremaining: 74.7ms\n",
      "83:\tlearn: 0.0210994\ttotal: 93.5ms\tremaining: 73.5ms\n",
      "84:\tlearn: 0.0207764\ttotal: 94.5ms\tremaining: 72.3ms\n",
      "85:\tlearn: 0.0204391\ttotal: 95.5ms\tremaining: 71.1ms\n",
      "86:\tlearn: 0.0202452\ttotal: 96.6ms\tremaining: 69.9ms\n",
      "87:\tlearn: 0.0198415\ttotal: 97.6ms\tremaining: 68.8ms\n",
      "88:\tlearn: 0.0196095\ttotal: 98.7ms\tremaining: 67.6ms\n",
      "89:\tlearn: 0.0194573\ttotal: 99.7ms\tremaining: 66.5ms\n",
      "90:\tlearn: 0.0192530\ttotal: 101ms\tremaining: 65.3ms\n",
      "91:\tlearn: 0.0190202\ttotal: 102ms\tremaining: 64.2ms\n",
      "92:\tlearn: 0.0188078\ttotal: 103ms\tremaining: 63ms\n",
      "93:\tlearn: 0.0186512\ttotal: 104ms\tremaining: 61.8ms\n",
      "94:\tlearn: 0.0183396\ttotal: 105ms\tremaining: 60.7ms\n",
      "95:\tlearn: 0.0182104\ttotal: 106ms\tremaining: 59.5ms\n",
      "96:\tlearn: 0.0179906\ttotal: 107ms\tremaining: 58.4ms\n",
      "97:\tlearn: 0.0177612\ttotal: 108ms\tremaining: 57.2ms\n",
      "98:\tlearn: 0.0175969\ttotal: 109ms\tremaining: 56.1ms\n",
      "99:\tlearn: 0.0174576\ttotal: 110ms\tremaining: 55ms\n",
      "100:\tlearn: 0.0172717\ttotal: 111ms\tremaining: 53.9ms\n",
      "101:\tlearn: 0.0171103\ttotal: 112ms\tremaining: 52.7ms\n",
      "102:\tlearn: 0.0168773\ttotal: 113ms\tremaining: 51.6ms\n",
      "103:\tlearn: 0.0166821\ttotal: 114ms\tremaining: 50.5ms\n",
      "104:\tlearn: 0.0164954\ttotal: 115ms\tremaining: 49.4ms\n",
      "105:\tlearn: 0.0163128\ttotal: 116ms\tremaining: 48.2ms\n",
      "106:\tlearn: 0.0161477\ttotal: 117ms\tremaining: 47.1ms\n",
      "107:\tlearn: 0.0160132\ttotal: 118ms\tremaining: 46ms\n",
      "108:\tlearn: 0.0158676\ttotal: 119ms\tremaining: 44.9ms\n",
      "109:\tlearn: 0.0156665\ttotal: 120ms\tremaining: 43.7ms\n",
      "110:\tlearn: 0.0154773\ttotal: 121ms\tremaining: 42.6ms\n",
      "111:\tlearn: 0.0152804\ttotal: 122ms\tremaining: 41.5ms\n",
      "112:\tlearn: 0.0151003\ttotal: 123ms\tremaining: 40.4ms\n",
      "113:\tlearn: 0.0148764\ttotal: 124ms\tremaining: 39.3ms\n",
      "114:\tlearn: 0.0146959\ttotal: 125ms\tremaining: 38.2ms\n",
      "115:\tlearn: 0.0145553\ttotal: 127ms\tremaining: 37.1ms\n",
      "116:\tlearn: 0.0143515\ttotal: 128ms\tremaining: 36.1ms\n",
      "117:\tlearn: 0.0141733\ttotal: 129ms\tremaining: 35ms\n",
      "118:\tlearn: 0.0140454\ttotal: 130ms\tremaining: 34ms\n",
      "119:\tlearn: 0.0139113\ttotal: 131ms\tremaining: 32.9ms\n",
      "120:\tlearn: 0.0138286\ttotal: 133ms\tremaining: 31.8ms\n",
      "121:\tlearn: 0.0136690\ttotal: 134ms\tremaining: 30.7ms\n",
      "122:\tlearn: 0.0135492\ttotal: 135ms\tremaining: 29.6ms\n",
      "123:\tlearn: 0.0134220\ttotal: 136ms\tremaining: 28.5ms\n",
      "124:\tlearn: 0.0133053\ttotal: 137ms\tremaining: 27.3ms\n",
      "125:\tlearn: 0.0132072\ttotal: 138ms\tremaining: 26.2ms\n",
      "126:\tlearn: 0.0131353\ttotal: 139ms\tremaining: 25.1ms\n",
      "127:\tlearn: 0.0130521\ttotal: 140ms\tremaining: 24ms\n",
      "128:\tlearn: 0.0129466\ttotal: 141ms\tremaining: 22.9ms\n",
      "129:\tlearn: 0.0128072\ttotal: 142ms\tremaining: 21.8ms\n",
      "130:\tlearn: 0.0127043\ttotal: 143ms\tremaining: 20.7ms\n",
      "131:\tlearn: 0.0125811\ttotal: 144ms\tremaining: 19.6ms\n",
      "132:\tlearn: 0.0124195\ttotal: 145ms\tremaining: 18.5ms\n",
      "133:\tlearn: 0.0123438\ttotal: 146ms\tremaining: 17.4ms\n",
      "134:\tlearn: 0.0122505\ttotal: 147ms\tremaining: 16.4ms\n",
      "135:\tlearn: 0.0121791\ttotal: 148ms\tremaining: 15.3ms\n",
      "136:\tlearn: 0.0120925\ttotal: 149ms\tremaining: 14.2ms\n",
      "137:\tlearn: 0.0120352\ttotal: 150ms\tremaining: 13.1ms\n",
      "138:\tlearn: 0.0119538\ttotal: 151ms\tremaining: 12ms\n",
      "139:\tlearn: 0.0118731\ttotal: 152ms\tremaining: 10.9ms\n",
      "140:\tlearn: 0.0117915\ttotal: 153ms\tremaining: 9.79ms\n",
      "141:\tlearn: 0.0116643\ttotal: 154ms\tremaining: 8.7ms\n",
      "142:\tlearn: 0.0115888\ttotal: 156ms\tremaining: 7.61ms\n",
      "143:\tlearn: 0.0115162\ttotal: 156ms\tremaining: 6.52ms\n",
      "144:\tlearn: 0.0114457\ttotal: 158ms\tremaining: 5.43ms\n",
      "145:\tlearn: 0.0113819\ttotal: 159ms\tremaining: 4.34ms\n",
      "146:\tlearn: 0.0113061\ttotal: 160ms\tremaining: 3.26ms\n",
      "147:\tlearn: 0.0112296\ttotal: 161ms\tremaining: 2.17ms\n",
      "148:\tlearn: 0.0111531\ttotal: 162ms\tremaining: 1.08ms\n",
      "149:\tlearn: 0.0110531\ttotal: 163ms\tremaining: 0us\n"
     ]
    },
    {
     "data": {
      "text/plain": [
       "<catboost.core.CatBoostClassifier at 0x7fb51717dc88>"
      ]
     },
     "execution_count": 8,
     "metadata": {},
     "output_type": "execute_result"
    }
   ],
   "source": [
    "cat=CatBoostClassifier(iterations=150,learning_rate=1)\n",
    "cat.fit(X_train,y_train)"
   ]
  },
  {
   "cell_type": "code",
   "execution_count": 9,
   "metadata": {},
   "outputs": [
    {
     "name": "stdout",
     "output_type": "stream",
     "text": [
      "0.7894736842105263\n",
      "[[27  8]\n",
      " [ 8 33]]\n"
     ]
    }
   ],
   "source": [
    "ypred=cat.predict(X_test)\n",
    "import sklearn.metrics as metrik\n",
    "print(metrik.accuracy_score(y_true=y_test,y_pred=ypred))\n",
    "print(metrik.confusion_matrix(y_true=y_test,y_pred=ypred))"
   ]
  },
  {
   "cell_type": "code",
   "execution_count": 10,
   "metadata": {},
   "outputs": [
    {
     "name": "stdout",
     "output_type": "stream",
     "text": [
      "0.8289473684210527\n",
      "[[28  7]\n",
      " [ 6 35]]\n"
     ]
    },
    {
     "name": "stderr",
     "output_type": "stream",
     "text": [
      "/opt/conda/lib/python3.6/site-packages/sklearn/ensemble/gradient_boosting.py:1450: DataConversionWarning: A column-vector y was passed when a 1d array was expected. Please change the shape of y to (n_samples, ), for example using ravel().\n",
      "  y = column_or_1d(y, warn=True)\n"
     ]
    }
   ],
   "source": [
    "from sklearn.ensemble import GradientBoostingClassifier\n",
    "gb = GradientBoostingClassifier(n_estimators=20)\n",
    "gb.fit(X_train,y_train)\n",
    "ypred=gb.predict(X_test)\n",
    "import sklearn.metrics as metrik\n",
    "print(metrik.accuracy_score(y_true=y_test,y_pred=ypred))\n",
    "print(metrik.confusion_matrix(y_true=y_test,y_pred=ypred))"
   ]
  },
  {
   "cell_type": "code",
   "execution_count": 11,
   "metadata": {},
   "outputs": [
    {
     "name": "stdout",
     "output_type": "stream",
     "text": [
      "0.8421052631578947\n",
      "[[28  7]\n",
      " [ 5 36]]\n"
     ]
    },
    {
     "name": "stderr",
     "output_type": "stream",
     "text": [
      "/opt/conda/lib/python3.6/site-packages/sklearn/ensemble/gradient_boosting.py:1450: DataConversionWarning: A column-vector y was passed when a 1d array was expected. Please change the shape of y to (n_samples, ), for example using ravel().\n",
      "  y = column_or_1d(y, warn=True)\n"
     ]
    }
   ],
   "source": [
    "from sklearn.ensemble import GradientBoostingClassifier\n",
    "gb = GradientBoostingClassifier(n_estimators=10)\n",
    "gb.fit(X_train,y_train)\n",
    "ypred=gb.predict(X_test)\n",
    "import sklearn.metrics as metrik\n",
    "print(metrik.accuracy_score(y_true=y_test,y_pred=ypred))\n",
    "print(metrik.confusion_matrix(y_true=y_test,y_pred=ypred))"
   ]
  },
  {
   "cell_type": "markdown",
   "metadata": {},
   "source": [
    "## İt's work better than Catboost.What our old friend random forest. "
   ]
  },
  {
   "cell_type": "code",
   "execution_count": 12,
   "metadata": {},
   "outputs": [
    {
     "name": "stdout",
     "output_type": "stream",
     "text": [
      "0.8552631578947368\n",
      "[[31  4]\n",
      " [ 7 34]]\n"
     ]
    },
    {
     "name": "stderr",
     "output_type": "stream",
     "text": [
      "/opt/conda/lib/python3.6/site-packages/sklearn/ensemble/forest.py:245: FutureWarning: The default value of n_estimators will change from 10 in version 0.20 to 100 in 0.22.\n",
      "  \"10 in version 0.20 to 100 in 0.22.\", FutureWarning)\n",
      "/opt/conda/lib/python3.6/site-packages/ipykernel_launcher.py:3: DataConversionWarning: A column-vector y was passed when a 1d array was expected. Please change the shape of y to (n_samples,), for example using ravel().\n",
      "  This is separate from the ipykernel package so we can avoid doing imports until\n"
     ]
    }
   ],
   "source": [
    "from sklearn.ensemble import RandomForestClassifier\n",
    "rfc=RandomForestClassifier()\n",
    "rfc.fit(X_train,y_train)\n",
    "ypred=rfc.predict(X_test)\n",
    "import sklearn.metrics as metrik\n",
    "print(metrik.accuracy_score(y_true=y_test,y_pred=ypred))\n",
    "print(metrik.confusion_matrix(y_true=y_test,y_pred=ypred))"
   ]
  },
  {
   "cell_type": "markdown",
   "metadata": {},
   "source": [
    "## Random forest is works better than XGBoost"
   ]
  },
  {
   "cell_type": "code",
   "execution_count": 13,
   "metadata": {},
   "outputs": [],
   "source": [
    "from sklearn.decomposition import PCA\n",
    "pca=PCA(n_components=3)\n",
    "x_pca=pca.fit_transform(x)"
   ]
  },
  {
   "cell_type": "code",
   "execution_count": 14,
   "metadata": {},
   "outputs": [],
   "source": [
    "from sklearn.model_selection import train_test_split\n",
    "xp_train, xp_test, y_train, y_test = train_test_split(x_pca, y, test_size=0.25, random_state=42)"
   ]
  },
  {
   "cell_type": "code",
   "execution_count": 15,
   "metadata": {},
   "outputs": [
    {
     "name": "stdout",
     "output_type": "stream",
     "text": [
      "0:\tlearn: 0.6153761\ttotal: 1.91ms\tremaining: 284ms\n",
      "1:\tlearn: 0.5911315\ttotal: 3.45ms\tremaining: 255ms\n",
      "2:\tlearn: 0.5414581\ttotal: 5.04ms\tremaining: 247ms\n",
      "3:\tlearn: 0.5355082\ttotal: 6.28ms\tremaining: 229ms\n",
      "4:\tlearn: 0.5152087\ttotal: 7.51ms\tremaining: 218ms\n",
      "5:\tlearn: 0.5016776\ttotal: 8.76ms\tremaining: 210ms\n",
      "6:\tlearn: 0.4845200\ttotal: 10ms\tremaining: 205ms\n",
      "7:\tlearn: 0.4689587\ttotal: 11.2ms\tremaining: 199ms\n",
      "8:\tlearn: 0.4476694\ttotal: 12.5ms\tremaining: 195ms\n",
      "9:\tlearn: 0.4357007\ttotal: 13.8ms\tremaining: 193ms\n",
      "10:\tlearn: 0.4145255\ttotal: 15.1ms\tremaining: 191ms\n",
      "11:\tlearn: 0.3989594\ttotal: 16.4ms\tremaining: 188ms\n",
      "12:\tlearn: 0.3857375\ttotal: 17.7ms\tremaining: 187ms\n",
      "13:\tlearn: 0.3774088\ttotal: 18.7ms\tremaining: 181ms\n",
      "14:\tlearn: 0.3654064\ttotal: 19.8ms\tremaining: 178ms\n",
      "15:\tlearn: 0.3508953\ttotal: 21ms\tremaining: 176ms\n",
      "16:\tlearn: 0.3341799\ttotal: 22.2ms\tremaining: 174ms\n",
      "17:\tlearn: 0.3238512\ttotal: 23.4ms\tremaining: 172ms\n",
      "18:\tlearn: 0.3089124\ttotal: 24.6ms\tremaining: 170ms\n",
      "19:\tlearn: 0.3005638\ttotal: 25.9ms\tremaining: 168ms\n",
      "20:\tlearn: 0.2924931\ttotal: 27ms\tremaining: 166ms\n",
      "21:\tlearn: 0.2814639\ttotal: 28.3ms\tremaining: 164ms\n",
      "22:\tlearn: 0.2766958\ttotal: 29.5ms\tremaining: 163ms\n",
      "23:\tlearn: 0.2646499\ttotal: 30.7ms\tremaining: 161ms\n",
      "24:\tlearn: 0.2581143\ttotal: 31.9ms\tremaining: 159ms\n",
      "25:\tlearn: 0.2544599\ttotal: 33.2ms\tremaining: 158ms\n",
      "26:\tlearn: 0.2496169\ttotal: 34.5ms\tremaining: 157ms\n",
      "27:\tlearn: 0.2412047\ttotal: 35.7ms\tremaining: 156ms\n",
      "28:\tlearn: 0.2324570\ttotal: 36.9ms\tremaining: 154ms\n",
      "29:\tlearn: 0.2283401\ttotal: 38.1ms\tremaining: 152ms\n",
      "30:\tlearn: 0.2240932\ttotal: 39.5ms\tremaining: 151ms\n",
      "31:\tlearn: 0.2179690\ttotal: 40.7ms\tremaining: 150ms\n",
      "32:\tlearn: 0.2145631\ttotal: 41.9ms\tremaining: 149ms\n",
      "33:\tlearn: 0.2099244\ttotal: 43.1ms\tremaining: 147ms\n",
      "34:\tlearn: 0.2041440\ttotal: 44.4ms\tremaining: 146ms\n",
      "35:\tlearn: 0.1989044\ttotal: 45.6ms\tremaining: 144ms\n",
      "36:\tlearn: 0.1950262\ttotal: 46.9ms\tremaining: 143ms\n",
      "37:\tlearn: 0.1923299\ttotal: 48.1ms\tremaining: 142ms\n",
      "38:\tlearn: 0.1884303\ttotal: 49.3ms\tremaining: 140ms\n",
      "39:\tlearn: 0.1834517\ttotal: 50.6ms\tremaining: 139ms\n",
      "40:\tlearn: 0.1776319\ttotal: 51.9ms\tremaining: 138ms\n",
      "41:\tlearn: 0.1751376\ttotal: 53ms\tremaining: 136ms\n",
      "42:\tlearn: 0.1713187\ttotal: 54.4ms\tremaining: 135ms\n",
      "43:\tlearn: 0.1688325\ttotal: 55.7ms\tremaining: 134ms\n",
      "44:\tlearn: 0.1674815\ttotal: 57.1ms\tremaining: 133ms\n",
      "45:\tlearn: 0.1645018\ttotal: 58.3ms\tremaining: 132ms\n",
      "46:\tlearn: 0.1634257\ttotal: 59.5ms\tremaining: 130ms\n",
      "47:\tlearn: 0.1602439\ttotal: 60.8ms\tremaining: 129ms\n",
      "48:\tlearn: 0.1564911\ttotal: 62.1ms\tremaining: 128ms\n",
      "49:\tlearn: 0.1544730\ttotal: 63.3ms\tremaining: 127ms\n",
      "50:\tlearn: 0.1524455\ttotal: 64.5ms\tremaining: 125ms\n",
      "51:\tlearn: 0.1506806\ttotal: 65.7ms\tremaining: 124ms\n",
      "52:\tlearn: 0.1480457\ttotal: 67ms\tremaining: 123ms\n",
      "53:\tlearn: 0.1447717\ttotal: 68.4ms\tremaining: 122ms\n",
      "54:\tlearn: 0.1432116\ttotal: 69.6ms\tremaining: 120ms\n",
      "55:\tlearn: 0.1400043\ttotal: 70.9ms\tremaining: 119ms\n",
      "56:\tlearn: 0.1380094\ttotal: 72.3ms\tremaining: 118ms\n",
      "57:\tlearn: 0.1362153\ttotal: 73.6ms\tremaining: 117ms\n",
      "58:\tlearn: 0.1334237\ttotal: 74.8ms\tremaining: 115ms\n",
      "59:\tlearn: 0.1318439\ttotal: 76.1ms\tremaining: 114ms\n",
      "60:\tlearn: 0.1313334\ttotal: 77.3ms\tremaining: 113ms\n",
      "61:\tlearn: 0.1296464\ttotal: 78.6ms\tremaining: 112ms\n",
      "62:\tlearn: 0.1282644\ttotal: 79.9ms\tremaining: 110ms\n",
      "63:\tlearn: 0.1269592\ttotal: 81.2ms\tremaining: 109ms\n",
      "64:\tlearn: 0.1235206\ttotal: 82.4ms\tremaining: 108ms\n",
      "65:\tlearn: 0.1213248\ttotal: 83.8ms\tremaining: 107ms\n",
      "66:\tlearn: 0.1199159\ttotal: 85.1ms\tremaining: 105ms\n",
      "67:\tlearn: 0.1187237\ttotal: 86.3ms\tremaining: 104ms\n",
      "68:\tlearn: 0.1178669\ttotal: 87.6ms\tremaining: 103ms\n",
      "69:\tlearn: 0.1154824\ttotal: 88.9ms\tremaining: 102ms\n",
      "70:\tlearn: 0.1138241\ttotal: 90.3ms\tremaining: 101ms\n",
      "71:\tlearn: 0.1121590\ttotal: 91.8ms\tremaining: 99.5ms\n",
      "72:\tlearn: 0.1099534\ttotal: 93.2ms\tremaining: 98.3ms\n",
      "73:\tlearn: 0.1087842\ttotal: 94.4ms\tremaining: 96.9ms\n",
      "74:\tlearn: 0.1070674\ttotal: 95.7ms\tremaining: 95.7ms\n",
      "75:\tlearn: 0.1057858\ttotal: 96.9ms\tremaining: 94.4ms\n",
      "76:\tlearn: 0.1042370\ttotal: 98.3ms\tremaining: 93.2ms\n",
      "77:\tlearn: 0.1029712\ttotal: 99.5ms\tremaining: 91.9ms\n",
      "78:\tlearn: 0.1013268\ttotal: 101ms\tremaining: 90.6ms\n",
      "79:\tlearn: 0.1007295\ttotal: 102ms\tremaining: 89.3ms\n",
      "80:\tlearn: 0.0999905\ttotal: 103ms\tremaining: 88ms\n",
      "81:\tlearn: 0.0974151\ttotal: 105ms\tremaining: 86.7ms\n",
      "82:\tlearn: 0.0955054\ttotal: 106ms\tremaining: 85.4ms\n",
      "83:\tlearn: 0.0946800\ttotal: 107ms\tremaining: 84.1ms\n",
      "84:\tlearn: 0.0934980\ttotal: 108ms\tremaining: 82.8ms\n",
      "85:\tlearn: 0.0918600\ttotal: 110ms\tremaining: 81.5ms\n",
      "86:\tlearn: 0.0907565\ttotal: 111ms\tremaining: 80.3ms\n",
      "87:\tlearn: 0.0893045\ttotal: 112ms\tremaining: 79.1ms\n",
      "88:\tlearn: 0.0877019\ttotal: 114ms\tremaining: 77.9ms\n",
      "89:\tlearn: 0.0868844\ttotal: 115ms\tremaining: 76.7ms\n",
      "90:\tlearn: 0.0859667\ttotal: 116ms\tremaining: 75.4ms\n",
      "91:\tlearn: 0.0845350\ttotal: 118ms\tremaining: 74.2ms\n",
      "92:\tlearn: 0.0836497\ttotal: 119ms\tremaining: 73ms\n",
      "93:\tlearn: 0.0824982\ttotal: 120ms\tremaining: 71.7ms\n",
      "94:\tlearn: 0.0818864\ttotal: 122ms\tremaining: 70.5ms\n",
      "95:\tlearn: 0.0808219\ttotal: 123ms\tremaining: 69.2ms\n",
      "96:\tlearn: 0.0798199\ttotal: 124ms\tremaining: 67.9ms\n",
      "97:\tlearn: 0.0791029\ttotal: 126ms\tremaining: 66.6ms\n",
      "98:\tlearn: 0.0781569\ttotal: 127ms\tremaining: 65.3ms\n",
      "99:\tlearn: 0.0767544\ttotal: 128ms\tremaining: 64.1ms\n",
      "100:\tlearn: 0.0761441\ttotal: 130ms\tremaining: 62.9ms\n",
      "101:\tlearn: 0.0752028\ttotal: 131ms\tremaining: 61.7ms\n",
      "102:\tlearn: 0.0747904\ttotal: 132ms\tremaining: 60.5ms\n",
      "103:\tlearn: 0.0736202\ttotal: 134ms\tremaining: 59.2ms\n",
      "104:\tlearn: 0.0726467\ttotal: 135ms\tremaining: 58ms\n",
      "105:\tlearn: 0.0722020\ttotal: 137ms\tremaining: 56.7ms\n",
      "106:\tlearn: 0.0711514\ttotal: 138ms\tremaining: 55.4ms\n",
      "107:\tlearn: 0.0706436\ttotal: 139ms\tremaining: 54.2ms\n",
      "108:\tlearn: 0.0701900\ttotal: 141ms\tremaining: 53ms\n",
      "109:\tlearn: 0.0693338\ttotal: 142ms\tremaining: 51.8ms\n",
      "110:\tlearn: 0.0688073\ttotal: 144ms\tremaining: 50.5ms\n",
      "111:\tlearn: 0.0680333\ttotal: 145ms\tremaining: 49.3ms\n",
      "112:\tlearn: 0.0671505\ttotal: 147ms\tremaining: 48ms\n",
      "113:\tlearn: 0.0666654\ttotal: 148ms\tremaining: 46.7ms\n",
      "114:\tlearn: 0.0662296\ttotal: 150ms\tremaining: 45.5ms\n",
      "115:\tlearn: 0.0654195\ttotal: 151ms\tremaining: 44.3ms\n",
      "116:\tlearn: 0.0646750\ttotal: 152ms\tremaining: 43ms\n",
      "117:\tlearn: 0.0639240\ttotal: 154ms\tremaining: 41.7ms\n",
      "118:\tlearn: 0.0629970\ttotal: 155ms\tremaining: 40.4ms\n",
      "119:\tlearn: 0.0624040\ttotal: 156ms\tremaining: 39.1ms\n",
      "120:\tlearn: 0.0617751\ttotal: 158ms\tremaining: 37.8ms\n",
      "121:\tlearn: 0.0614755\ttotal: 159ms\tremaining: 36.5ms\n",
      "122:\tlearn: 0.0607499\ttotal: 160ms\tremaining: 35.2ms\n",
      "123:\tlearn: 0.0600335\ttotal: 162ms\tremaining: 33.9ms\n",
      "124:\tlearn: 0.0595649\ttotal: 163ms\tremaining: 32.6ms\n",
      "125:\tlearn: 0.0588469\ttotal: 164ms\tremaining: 31.3ms\n",
      "126:\tlearn: 0.0582593\ttotal: 166ms\tremaining: 30ms\n",
      "127:\tlearn: 0.0579651\ttotal: 167ms\tremaining: 28.7ms\n",
      "128:\tlearn: 0.0574187\ttotal: 169ms\tremaining: 27.4ms\n",
      "129:\tlearn: 0.0570564\ttotal: 170ms\tremaining: 26.1ms\n",
      "130:\tlearn: 0.0563670\ttotal: 171ms\tremaining: 24.8ms\n",
      "131:\tlearn: 0.0560843\ttotal: 173ms\tremaining: 23.5ms\n",
      "132:\tlearn: 0.0555075\ttotal: 174ms\tremaining: 22.2ms\n",
      "133:\tlearn: 0.0549292\ttotal: 175ms\tremaining: 20.9ms\n",
      "134:\tlearn: 0.0544734\ttotal: 177ms\tremaining: 19.6ms\n",
      "135:\tlearn: 0.0542221\ttotal: 178ms\tremaining: 18.3ms\n",
      "136:\tlearn: 0.0539315\ttotal: 179ms\tremaining: 17ms\n",
      "137:\tlearn: 0.0535618\ttotal: 181ms\tremaining: 15.7ms\n",
      "138:\tlearn: 0.0528927\ttotal: 182ms\tremaining: 14.4ms\n",
      "139:\tlearn: 0.0523645\ttotal: 183ms\tremaining: 13.1ms\n",
      "140:\tlearn: 0.0519862\ttotal: 185ms\tremaining: 11.8ms\n",
      "141:\tlearn: 0.0512409\ttotal: 187ms\tremaining: 10.5ms\n",
      "142:\tlearn: 0.0510414\ttotal: 188ms\tremaining: 9.2ms\n",
      "143:\tlearn: 0.0507138\ttotal: 189ms\tremaining: 7.89ms\n",
      "144:\tlearn: 0.0505351\ttotal: 191ms\tremaining: 6.58ms\n",
      "145:\tlearn: 0.0500700\ttotal: 192ms\tremaining: 5.26ms\n",
      "146:\tlearn: 0.0497360\ttotal: 194ms\tremaining: 3.95ms\n",
      "147:\tlearn: 0.0494346\ttotal: 195ms\tremaining: 2.64ms\n",
      "148:\tlearn: 0.0490288\ttotal: 196ms\tremaining: 1.32ms\n",
      "149:\tlearn: 0.0487109\ttotal: 198ms\tremaining: 0us\n",
      "0.6447368421052632\n",
      "[[23 12]\n",
      " [15 26]]\n"
     ]
    }
   ],
   "source": [
    "cat=CatBoostClassifier(iterations=150,learning_rate=1)\n",
    "cat.fit(xp_train,y_train)\n",
    "ypred=cat.predict(xp_test)\n",
    "import sklearn.metrics as metrik\n",
    "print(metrik.accuracy_score(y_true=y_test,y_pred=ypred))\n",
    "print(metrik.confusion_matrix(y_true=y_test,y_pred=ypred))"
   ]
  },
  {
   "cell_type": "markdown",
   "metadata": {},
   "source": [
    "Catboost is crying. %64 accuracy is horrific."
   ]
  },
  {
   "cell_type": "code",
   "execution_count": 16,
   "metadata": {},
   "outputs": [
    {
     "name": "stdout",
     "output_type": "stream",
     "text": [
      "0.6710526315789473\n",
      "[[20 15]\n",
      " [10 31]]\n"
     ]
    },
    {
     "name": "stderr",
     "output_type": "stream",
     "text": [
      "/opt/conda/lib/python3.6/site-packages/sklearn/ensemble/gradient_boosting.py:1450: DataConversionWarning: A column-vector y was passed when a 1d array was expected. Please change the shape of y to (n_samples, ), for example using ravel().\n",
      "  y = column_or_1d(y, warn=True)\n"
     ]
    }
   ],
   "source": [
    "from sklearn.ensemble import GradientBoostingClassifier\n",
    "gb = GradientBoostingClassifier(n_estimators=10)\n",
    "gb.fit(xp_train,y_train)\n",
    "ypred=gb.predict(xp_test)\n",
    "import sklearn.metrics as metrik\n",
    "print(metrik.accuracy_score(y_true=y_test,y_pred=ypred))\n",
    "print(metrik.confusion_matrix(y_true=y_test,y_pred=ypred))"
   ]
  },
  {
   "cell_type": "code",
   "execution_count": 17,
   "metadata": {},
   "outputs": [
    {
     "name": "stdout",
     "output_type": "stream",
     "text": [
      "0.631578947368421\n",
      "[[24 11]\n",
      " [17 24]]\n"
     ]
    },
    {
     "name": "stderr",
     "output_type": "stream",
     "text": [
      "/opt/conda/lib/python3.6/site-packages/sklearn/ensemble/forest.py:245: FutureWarning: The default value of n_estimators will change from 10 in version 0.20 to 100 in 0.22.\n",
      "  \"10 in version 0.20 to 100 in 0.22.\", FutureWarning)\n",
      "/opt/conda/lib/python3.6/site-packages/ipykernel_launcher.py:3: DataConversionWarning: A column-vector y was passed when a 1d array was expected. Please change the shape of y to (n_samples,), for example using ravel().\n",
      "  This is separate from the ipykernel package so we can avoid doing imports until\n"
     ]
    }
   ],
   "source": [
    "from sklearn.ensemble import RandomForestClassifier\n",
    "rfc=RandomForestClassifier()\n",
    "rfc.fit(xp_train,y_train)\n",
    "ypred=rfc.predict(xp_test)\n",
    "import sklearn.metrics as metrik\n",
    "print(metrik.accuracy_score(y_true=y_test,y_pred=ypred))\n",
    "print(metrik.confusion_matrix(y_true=y_test,y_pred=ypred))"
   ]
  },
  {
   "cell_type": "markdown",
   "metadata": {},
   "source": [
    "## Less column can't work well with these algorithm. Especially gradient boosting algorithm. "
   ]
  },
  {
   "cell_type": "code",
   "execution_count": 18,
   "metadata": {},
   "outputs": [],
   "source": [
    "from sklearn.decomposition import PCA\n",
    "pca=PCA(n_components=10)\n",
    "x_pca=pca.fit_transform(x)"
   ]
  },
  {
   "cell_type": "code",
   "execution_count": 19,
   "metadata": {},
   "outputs": [],
   "source": [
    "from sklearn.model_selection import train_test_split\n",
    "xp_train, xp_test, y_train, y_test = train_test_split(x_pca, y, test_size=0.25, random_state=42)\n"
   ]
  },
  {
   "cell_type": "code",
   "execution_count": 20,
   "metadata": {},
   "outputs": [
    {
     "name": "stdout",
     "output_type": "stream",
     "text": [
      "0:\tlearn: 0.5314373\ttotal: 4.57ms\tremaining: 680ms\n",
      "1:\tlearn: 0.4164720\ttotal: 7.26ms\tremaining: 537ms\n",
      "2:\tlearn: 0.3790486\ttotal: 9.8ms\tremaining: 480ms\n",
      "3:\tlearn: 0.3410872\ttotal: 12.1ms\tremaining: 440ms\n",
      "4:\tlearn: 0.3105262\ttotal: 14.2ms\tremaining: 413ms\n",
      "5:\tlearn: 0.2786178\ttotal: 16.5ms\tremaining: 396ms\n",
      "6:\tlearn: 0.2415711\ttotal: 18.7ms\tremaining: 381ms\n",
      "7:\tlearn: 0.2208966\ttotal: 20.9ms\tremaining: 371ms\n",
      "8:\tlearn: 0.2052018\ttotal: 23.1ms\tremaining: 362ms\n",
      "9:\tlearn: 0.1955715\ttotal: 25.5ms\tremaining: 357ms\n",
      "10:\tlearn: 0.1819924\ttotal: 27.7ms\tremaining: 350ms\n",
      "11:\tlearn: 0.1684584\ttotal: 29.9ms\tremaining: 344ms\n",
      "12:\tlearn: 0.1544622\ttotal: 32.3ms\tremaining: 340ms\n",
      "13:\tlearn: 0.1397069\ttotal: 34.7ms\tremaining: 337ms\n",
      "14:\tlearn: 0.1262503\ttotal: 37.1ms\tremaining: 334ms\n",
      "15:\tlearn: 0.1219481\ttotal: 39.5ms\tremaining: 330ms\n",
      "16:\tlearn: 0.1168237\ttotal: 41.7ms\tremaining: 326ms\n",
      "17:\tlearn: 0.1117126\ttotal: 43.9ms\tremaining: 322ms\n",
      "18:\tlearn: 0.1051212\ttotal: 46.4ms\tremaining: 320ms\n",
      "19:\tlearn: 0.1006792\ttotal: 48.7ms\tremaining: 316ms\n",
      "20:\tlearn: 0.0963311\ttotal: 51ms\tremaining: 313ms\n",
      "21:\tlearn: 0.0933430\ttotal: 53.2ms\tremaining: 310ms\n",
      "22:\tlearn: 0.0874655\ttotal: 55.4ms\tremaining: 306ms\n",
      "23:\tlearn: 0.0808778\ttotal: 57.5ms\tremaining: 302ms\n",
      "24:\tlearn: 0.0768151\ttotal: 59.6ms\tremaining: 298ms\n",
      "25:\tlearn: 0.0724055\ttotal: 61.9ms\tremaining: 295ms\n",
      "26:\tlearn: 0.0689348\ttotal: 64.3ms\tremaining: 293ms\n",
      "27:\tlearn: 0.0669386\ttotal: 66.3ms\tremaining: 289ms\n",
      "28:\tlearn: 0.0651978\ttotal: 68.5ms\tremaining: 286ms\n",
      "29:\tlearn: 0.0623082\ttotal: 70.7ms\tremaining: 283ms\n",
      "30:\tlearn: 0.0600444\ttotal: 72.8ms\tremaining: 280ms\n",
      "31:\tlearn: 0.0577086\ttotal: 75.1ms\tremaining: 277ms\n",
      "32:\tlearn: 0.0549123\ttotal: 77.4ms\tremaining: 274ms\n",
      "33:\tlearn: 0.0535122\ttotal: 79.6ms\tremaining: 272ms\n",
      "34:\tlearn: 0.0514580\ttotal: 82ms\tremaining: 269ms\n",
      "35:\tlearn: 0.0500947\ttotal: 84.1ms\tremaining: 266ms\n",
      "36:\tlearn: 0.0486511\ttotal: 86.4ms\tremaining: 264ms\n",
      "37:\tlearn: 0.0476515\ttotal: 88.6ms\tremaining: 261ms\n",
      "38:\tlearn: 0.0462200\ttotal: 90.7ms\tremaining: 258ms\n",
      "39:\tlearn: 0.0449138\ttotal: 93ms\tremaining: 256ms\n",
      "40:\tlearn: 0.0435398\ttotal: 95.2ms\tremaining: 253ms\n",
      "41:\tlearn: 0.0425581\ttotal: 97.5ms\tremaining: 251ms\n",
      "42:\tlearn: 0.0401786\ttotal: 99.8ms\tremaining: 248ms\n",
      "43:\tlearn: 0.0388925\ttotal: 102ms\tremaining: 246ms\n",
      "44:\tlearn: 0.0377715\ttotal: 104ms\tremaining: 243ms\n",
      "45:\tlearn: 0.0369737\ttotal: 106ms\tremaining: 240ms\n",
      "46:\tlearn: 0.0360811\ttotal: 109ms\tremaining: 239ms\n",
      "47:\tlearn: 0.0349914\ttotal: 111ms\tremaining: 236ms\n",
      "48:\tlearn: 0.0343512\ttotal: 113ms\tremaining: 234ms\n",
      "49:\tlearn: 0.0337954\ttotal: 116ms\tremaining: 231ms\n",
      "50:\tlearn: 0.0332689\ttotal: 118ms\tremaining: 229ms\n",
      "51:\tlearn: 0.0323164\ttotal: 120ms\tremaining: 226ms\n",
      "52:\tlearn: 0.0315929\ttotal: 122ms\tremaining: 223ms\n",
      "53:\tlearn: 0.0308314\ttotal: 124ms\tremaining: 221ms\n",
      "54:\tlearn: 0.0300338\ttotal: 126ms\tremaining: 218ms\n",
      "55:\tlearn: 0.0294373\ttotal: 128ms\tremaining: 216ms\n",
      "56:\tlearn: 0.0288542\ttotal: 131ms\tremaining: 213ms\n",
      "57:\tlearn: 0.0281839\ttotal: 133ms\tremaining: 210ms\n",
      "58:\tlearn: 0.0275805\ttotal: 135ms\tremaining: 208ms\n",
      "59:\tlearn: 0.0271373\ttotal: 138ms\tremaining: 207ms\n",
      "60:\tlearn: 0.0266618\ttotal: 141ms\tremaining: 205ms\n",
      "61:\tlearn: 0.0262301\ttotal: 143ms\tremaining: 204ms\n",
      "62:\tlearn: 0.0258922\ttotal: 146ms\tremaining: 201ms\n",
      "63:\tlearn: 0.0255446\ttotal: 148ms\tremaining: 199ms\n",
      "64:\tlearn: 0.0248877\ttotal: 150ms\tremaining: 196ms\n",
      "65:\tlearn: 0.0243923\ttotal: 152ms\tremaining: 194ms\n",
      "66:\tlearn: 0.0238488\ttotal: 154ms\tremaining: 191ms\n",
      "67:\tlearn: 0.0234582\ttotal: 157ms\tremaining: 189ms\n",
      "68:\tlearn: 0.0231737\ttotal: 159ms\tremaining: 186ms\n",
      "69:\tlearn: 0.0229141\ttotal: 161ms\tremaining: 184ms\n",
      "70:\tlearn: 0.0225624\ttotal: 163ms\tremaining: 181ms\n",
      "71:\tlearn: 0.0219907\ttotal: 165ms\tremaining: 179ms\n",
      "72:\tlearn: 0.0217827\ttotal: 167ms\tremaining: 176ms\n",
      "73:\tlearn: 0.0215386\ttotal: 170ms\tremaining: 174ms\n",
      "74:\tlearn: 0.0211312\ttotal: 172ms\tremaining: 172ms\n",
      "75:\tlearn: 0.0206934\ttotal: 174ms\tremaining: 170ms\n",
      "76:\tlearn: 0.0203228\ttotal: 176ms\tremaining: 167ms\n",
      "77:\tlearn: 0.0199422\ttotal: 179ms\tremaining: 165ms\n",
      "78:\tlearn: 0.0197854\ttotal: 181ms\tremaining: 163ms\n",
      "79:\tlearn: 0.0195223\ttotal: 183ms\tremaining: 160ms\n",
      "80:\tlearn: 0.0193079\ttotal: 185ms\tremaining: 158ms\n",
      "81:\tlearn: 0.0189848\ttotal: 188ms\tremaining: 155ms\n",
      "82:\tlearn: 0.0187730\ttotal: 190ms\tremaining: 153ms\n",
      "83:\tlearn: 0.0185690\ttotal: 192ms\tremaining: 151ms\n",
      "84:\tlearn: 0.0183076\ttotal: 194ms\tremaining: 148ms\n",
      "85:\tlearn: 0.0180969\ttotal: 197ms\tremaining: 147ms\n",
      "86:\tlearn: 0.0177502\ttotal: 199ms\tremaining: 144ms\n",
      "87:\tlearn: 0.0174708\ttotal: 201ms\tremaining: 142ms\n",
      "88:\tlearn: 0.0171856\ttotal: 203ms\tremaining: 139ms\n",
      "89:\tlearn: 0.0169894\ttotal: 206ms\tremaining: 137ms\n",
      "90:\tlearn: 0.0168342\ttotal: 208ms\tremaining: 135ms\n",
      "91:\tlearn: 0.0167041\ttotal: 210ms\tremaining: 132ms\n",
      "92:\tlearn: 0.0164803\ttotal: 212ms\tremaining: 130ms\n",
      "93:\tlearn: 0.0163371\ttotal: 214ms\tremaining: 128ms\n",
      "94:\tlearn: 0.0161301\ttotal: 217ms\tremaining: 125ms\n",
      "95:\tlearn: 0.0160362\ttotal: 219ms\tremaining: 123ms\n",
      "96:\tlearn: 0.0157951\ttotal: 221ms\tremaining: 121ms\n",
      "97:\tlearn: 0.0156464\ttotal: 223ms\tremaining: 118ms\n",
      "98:\tlearn: 0.0154332\ttotal: 225ms\tremaining: 116ms\n",
      "99:\tlearn: 0.0152995\ttotal: 227ms\tremaining: 114ms\n",
      "100:\tlearn: 0.0151335\ttotal: 230ms\tremaining: 111ms\n",
      "101:\tlearn: 0.0149826\ttotal: 232ms\tremaining: 109ms\n",
      "102:\tlearn: 0.0148497\ttotal: 234ms\tremaining: 107ms\n",
      "103:\tlearn: 0.0145922\ttotal: 237ms\tremaining: 105ms\n",
      "104:\tlearn: 0.0144456\ttotal: 239ms\tremaining: 102ms\n",
      "105:\tlearn: 0.0142797\ttotal: 241ms\tremaining: 100ms\n",
      "106:\tlearn: 0.0141675\ttotal: 244ms\tremaining: 97.9ms\n",
      "107:\tlearn: 0.0141008\ttotal: 246ms\tremaining: 95.5ms\n",
      "108:\tlearn: 0.0140486\ttotal: 248ms\tremaining: 93.2ms\n",
      "109:\tlearn: 0.0138267\ttotal: 250ms\tremaining: 90.9ms\n",
      "110:\tlearn: 0.0136235\ttotal: 252ms\tremaining: 88.5ms\n",
      "111:\tlearn: 0.0134622\ttotal: 254ms\tremaining: 86.2ms\n",
      "112:\tlearn: 0.0133089\ttotal: 256ms\tremaining: 83.9ms\n",
      "113:\tlearn: 0.0131538\ttotal: 258ms\tremaining: 81.6ms\n",
      "114:\tlearn: 0.0130444\ttotal: 261ms\tremaining: 79.3ms\n",
      "115:\tlearn: 0.0129484\ttotal: 263ms\tremaining: 77ms\n",
      "116:\tlearn: 0.0128851\ttotal: 265ms\tremaining: 74.7ms\n",
      "117:\tlearn: 0.0127200\ttotal: 267ms\tremaining: 72.4ms\n",
      "118:\tlearn: 0.0124844\ttotal: 269ms\tremaining: 70.1ms\n",
      "119:\tlearn: 0.0122946\ttotal: 271ms\tremaining: 67.8ms\n",
      "120:\tlearn: 0.0121812\ttotal: 273ms\tremaining: 65.5ms\n",
      "121:\tlearn: 0.0120931\ttotal: 275ms\tremaining: 63.2ms\n",
      "122:\tlearn: 0.0119379\ttotal: 277ms\tremaining: 60.9ms\n",
      "123:\tlearn: 0.0118340\ttotal: 279ms\tremaining: 58.6ms\n",
      "124:\tlearn: 0.0117298\ttotal: 282ms\tremaining: 56.3ms\n",
      "125:\tlearn: 0.0116793\ttotal: 284ms\tremaining: 54ms\n",
      "126:\tlearn: 0.0115160\ttotal: 286ms\tremaining: 51.8ms\n",
      "127:\tlearn: 0.0113947\ttotal: 288ms\tremaining: 49.5ms\n",
      "128:\tlearn: 0.0113307\ttotal: 290ms\tremaining: 47.2ms\n",
      "129:\tlearn: 0.0112176\ttotal: 292ms\tremaining: 44.9ms\n",
      "130:\tlearn: 0.0110612\ttotal: 294ms\tremaining: 42.7ms\n",
      "131:\tlearn: 0.0109913\ttotal: 296ms\tremaining: 40.4ms\n",
      "132:\tlearn: 0.0109145\ttotal: 299ms\tremaining: 38.2ms\n",
      "133:\tlearn: 0.0108038\ttotal: 302ms\tremaining: 36ms\n",
      "134:\tlearn: 0.0106934\ttotal: 304ms\tremaining: 33.8ms\n",
      "135:\tlearn: 0.0106504\ttotal: 306ms\tremaining: 31.5ms\n",
      "136:\tlearn: 0.0105235\ttotal: 309ms\tremaining: 29.3ms\n",
      "137:\tlearn: 0.0104479\ttotal: 311ms\tremaining: 27ms\n",
      "138:\tlearn: 0.0103775\ttotal: 313ms\tremaining: 24.8ms\n",
      "139:\tlearn: 0.0102622\ttotal: 315ms\tremaining: 22.5ms\n",
      "140:\tlearn: 0.0101863\ttotal: 317ms\tremaining: 20.3ms\n",
      "141:\tlearn: 0.0100999\ttotal: 320ms\tremaining: 18ms\n",
      "142:\tlearn: 0.0100183\ttotal: 322ms\tremaining: 15.8ms\n",
      "143:\tlearn: 0.0099638\ttotal: 324ms\tremaining: 13.5ms\n",
      "144:\tlearn: 0.0098280\ttotal: 326ms\tremaining: 11.3ms\n",
      "145:\tlearn: 0.0097463\ttotal: 329ms\tremaining: 9.02ms\n",
      "146:\tlearn: 0.0096938\ttotal: 332ms\tremaining: 6.77ms\n",
      "147:\tlearn: 0.0096252\ttotal: 334ms\tremaining: 4.51ms\n",
      "148:\tlearn: 0.0095685\ttotal: 336ms\tremaining: 2.26ms\n",
      "149:\tlearn: 0.0094849\ttotal: 339ms\tremaining: 0us\n",
      "0.7894736842105263\n",
      "[[26  9]\n",
      " [ 7 34]]\n"
     ]
    }
   ],
   "source": [
    "cat=CatBoostClassifier(iterations=150,learning_rate=1)\n",
    "cat.fit(xp_train,y_train)\n",
    "ypred=cat.predict(xp_test)\n",
    "import sklearn.metrics as metrik\n",
    "print(metrik.accuracy_score(y_true=y_test,y_pred=ypred))\n",
    "print(metrik.confusion_matrix(y_true=y_test,y_pred=ypred))"
   ]
  },
  {
   "cell_type": "markdown",
   "metadata": {},
   "source": [
    "Better than 3 component pca but not best."
   ]
  },
  {
   "cell_type": "code",
   "execution_count": 21,
   "metadata": {},
   "outputs": [
    {
     "name": "stdout",
     "output_type": "stream",
     "text": [
      "0.7368421052631579\n",
      "[[26  9]\n",
      " [11 30]]\n"
     ]
    },
    {
     "name": "stderr",
     "output_type": "stream",
     "text": [
      "/opt/conda/lib/python3.6/site-packages/sklearn/ensemble/gradient_boosting.py:1450: DataConversionWarning: A column-vector y was passed when a 1d array was expected. Please change the shape of y to (n_samples, ), for example using ravel().\n",
      "  y = column_or_1d(y, warn=True)\n"
     ]
    }
   ],
   "source": [
    "from sklearn.ensemble import GradientBoostingClassifier\n",
    "gb = GradientBoostingClassifier(n_estimators=10)\n",
    "gb.fit(xp_train,y_train)\n",
    "ypred=gb.predict(xp_test)\n",
    "import sklearn.metrics as metrik\n",
    "print(metrik.accuracy_score(y_true=y_test,y_pred=ypred))\n",
    "print(metrik.confusion_matrix(y_true=y_test,y_pred=ypred))"
   ]
  },
  {
   "cell_type": "markdown",
   "metadata": {},
   "source": [
    "Same things as catboost."
   ]
  },
  {
   "cell_type": "code",
   "execution_count": 22,
   "metadata": {},
   "outputs": [
    {
     "name": "stdout",
     "output_type": "stream",
     "text": [
      "0.6973684210526315\n",
      "[[29  6]\n",
      " [17 24]]\n"
     ]
    },
    {
     "name": "stderr",
     "output_type": "stream",
     "text": [
      "/opt/conda/lib/python3.6/site-packages/sklearn/ensemble/forest.py:245: FutureWarning: The default value of n_estimators will change from 10 in version 0.20 to 100 in 0.22.\n",
      "  \"10 in version 0.20 to 100 in 0.22.\", FutureWarning)\n",
      "/opt/conda/lib/python3.6/site-packages/ipykernel_launcher.py:3: DataConversionWarning: A column-vector y was passed when a 1d array was expected. Please change the shape of y to (n_samples,), for example using ravel().\n",
      "  This is separate from the ipykernel package so we can avoid doing imports until\n"
     ]
    }
   ],
   "source": [
    "from sklearn.ensemble import RandomForestClassifier\n",
    "rfc=RandomForestClassifier()\n",
    "rfc.fit(xp_train,y_train)\n",
    "ypred=rfc.predict(xp_test)\n",
    "import sklearn.metrics as metrik\n",
    "print(metrik.accuracy_score(y_true=y_test,y_pred=ypred))\n",
    "print(metrik.confusion_matrix(y_true=y_test,y_pred=ypred))"
   ]
  },
  {
   "cell_type": "markdown",
   "metadata": {},
   "source": [
    "Same"
   ]
  },
  {
   "cell_type": "markdown",
   "metadata": {},
   "source": [
    "## Conclusion\n",
    "Boosting Algorithm has potential but old school algorithm is also in race. "
   ]
  },
  {
   "cell_type": "code",
   "execution_count": 23,
   "metadata": {},
   "outputs": [],
   "source": [
    "import category_encoders as ce\n",
    "count_encode=ce.CountEncoder(cols=[\"sex\",\"cp\",\"slope\",\"thal\"])\n",
    "x_count=count_encode.fit_transform(x)\n",
    "\n",
    "from sklearn.model_selection import train_test_split\n",
    "Xco_train, Xco_test, y_train, y_test = train_test_split(x_count, y, test_size=0.25, random_state=42)"
   ]
  },
  {
   "cell_type": "code",
   "execution_count": 24,
   "metadata": {},
   "outputs": [
    {
     "name": "stdout",
     "output_type": "stream",
     "text": [
      "0.8552631578947368\n",
      "[[31  4]\n",
      " [ 7 34]]\n"
     ]
    },
    {
     "name": "stderr",
     "output_type": "stream",
     "text": [
      "/opt/conda/lib/python3.6/site-packages/sklearn/ensemble/forest.py:245: FutureWarning: The default value of n_estimators will change from 10 in version 0.20 to 100 in 0.22.\n",
      "  \"10 in version 0.20 to 100 in 0.22.\", FutureWarning)\n",
      "/opt/conda/lib/python3.6/site-packages/ipykernel_launcher.py:3: DataConversionWarning: A column-vector y was passed when a 1d array was expected. Please change the shape of y to (n_samples,), for example using ravel().\n",
      "  This is separate from the ipykernel package so we can avoid doing imports until\n"
     ]
    }
   ],
   "source": [
    "from sklearn.ensemble import RandomForestClassifier\n",
    "rfc=RandomForestClassifier()\n",
    "rfc.fit(Xco_train,y_train)\n",
    "ypred=rfc.predict(Xco_test)\n",
    "import sklearn.metrics as metrik\n",
    "print(metrik.accuracy_score(y_true=y_test,y_pred=ypred))\n",
    "print(metrik.confusion_matrix(y_true=y_test,y_pred=ypred))"
   ]
  },
  {
   "cell_type": "code",
   "execution_count": 25,
   "metadata": {},
   "outputs": [
    {
     "name": "stdout",
     "output_type": "stream",
     "text": [
      "0.8552631578947368\n",
      "[[29  6]\n",
      " [ 5 36]]\n"
     ]
    },
    {
     "name": "stderr",
     "output_type": "stream",
     "text": [
      "/opt/conda/lib/python3.6/site-packages/sklearn/ensemble/gradient_boosting.py:1450: DataConversionWarning: A column-vector y was passed when a 1d array was expected. Please change the shape of y to (n_samples, ), for example using ravel().\n",
      "  y = column_or_1d(y, warn=True)\n"
     ]
    }
   ],
   "source": [
    "from sklearn.ensemble import GradientBoostingClassifier\n",
    "gb = GradientBoostingClassifier(n_estimators=10)\n",
    "gb.fit(Xco_train,y_train)\n",
    "ypred=gb.predict(Xco_test)\n",
    "import sklearn.metrics as metrik\n",
    "print(metrik.accuracy_score(y_true=y_test,y_pred=ypred))\n",
    "print(metrik.confusion_matrix(y_true=y_test,y_pred=ypred))"
   ]
  },
  {
   "cell_type": "markdown",
   "metadata": {},
   "source": [
    "With Count Encoder accuracy is greater than ever. "
   ]
  },
  {
   "cell_type": "code",
   "execution_count": 26,
   "metadata": {},
   "outputs": [
    {
     "name": "stdout",
     "output_type": "stream",
     "text": [
      "Learning rate set to 0.5\n",
      "0:\tlearn: 0.6026946\ttotal: 1.15ms\tremaining: 4.61ms\n",
      "1:\tlearn: 0.5284926\ttotal: 2.5ms\tremaining: 3.75ms\n",
      "2:\tlearn: 0.4700288\ttotal: 3.61ms\tremaining: 2.4ms\n",
      "3:\tlearn: 0.4344300\ttotal: 4.81ms\tremaining: 1.2ms\n",
      "4:\tlearn: 0.3989819\ttotal: 5.83ms\tremaining: 0us\n",
      "Learning rate set to 0.5\n",
      "0:\tlearn: 0.5952476\ttotal: 1.11ms\tremaining: 4.46ms\n",
      "1:\tlearn: 0.4996570\ttotal: 2.32ms\tremaining: 3.48ms\n",
      "2:\tlearn: 0.4484215\ttotal: 3.45ms\tremaining: 2.3ms\n",
      "3:\tlearn: 0.4181829\ttotal: 4.52ms\tremaining: 1.13ms\n",
      "4:\tlearn: 0.3822077\ttotal: 5.62ms\tremaining: 0us\n",
      "Learning rate set to 0.5\n",
      "0:\tlearn: 0.5650121\ttotal: 1.24ms\tremaining: 4.97ms\n",
      "1:\tlearn: 0.4881137\ttotal: 2.47ms\tremaining: 3.71ms\n",
      "2:\tlearn: 0.4396295\ttotal: 3.63ms\tremaining: 2.42ms\n",
      "3:\tlearn: 0.4039478\ttotal: 4.33ms\tremaining: 1.08ms\n",
      "4:\tlearn: 0.3742253\ttotal: 5.37ms\tremaining: 0us\n"
     ]
    },
    {
     "data": {
      "text/plain": [
       "array([0.83168317, 0.86138614, 0.78217822])"
      ]
     },
     "execution_count": 26,
     "metadata": {},
     "output_type": "execute_result"
    }
   ],
   "source": [
    "from sklearn.model_selection import cross_val_score\n",
    "from catboost import CatBoostClassifier\n",
    "cat=CatBoostClassifier(iterations=5)\n",
    "cross_val_score(cat,x_count,y,cv=3)"
   ]
  },
  {
   "cell_type": "code",
   "execution_count": 27,
   "metadata": {},
   "outputs": [
    {
     "name": "stdout",
     "output_type": "stream",
     "text": [
      "0.8421052631578947\n",
      "[[29  6]\n",
      " [ 6 35]]\n"
     ]
    }
   ],
   "source": [
    "cat=CatBoostClassifier(verbose=0)\n",
    "cat.fit(Xco_train,y_train)\n",
    "ypred=cat.predict(Xco_test)\n",
    "import sklearn.metrics as metrik\n",
    "print(metrik.accuracy_score(y_true=y_test,y_pred=ypred))\n",
    "print(metrik.confusion_matrix(y_true=y_test,y_pred=ypred))"
   ]
  },
  {
   "cell_type": "markdown",
   "metadata": {},
   "source": [
    "## Count Encoders improve Categorical variable further with frequency and it's works :)"
   ]
  }
 ],
 "metadata": {
  "kernelspec": {
   "display_name": "Python 3",
   "language": "python",
   "name": "python3"
  },
  "language_info": {
   "codemirror_mode": {
    "name": "ipython",
    "version": 3
   },
   "file_extension": ".py",
   "mimetype": "text/x-python",
   "name": "python",
   "nbconvert_exporter": "python",
   "pygments_lexer": "ipython3",
   "version": "3.6.6"
  }
 },
 "nbformat": 4,
 "nbformat_minor": 4
}
