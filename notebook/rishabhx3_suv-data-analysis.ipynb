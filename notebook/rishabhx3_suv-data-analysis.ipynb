{
 "cells": [
  {
   "cell_type": "markdown",
   "execution_count": null,
   "metadata": {
    "papermill": {
     "duration": 0.013011,
     "end_time": "2020-08-31T15:40:40.410035",
     "exception": false,
     "start_time": "2020-08-31T15:40:40.397024",
     "status": "completed"
    },
    "tags": []
   },
   "source": [
    "## Logistic Regression"
   ]
  },
  {
   "cell_type": "markdown",
   "execution_count": null,
   "metadata": {
    "papermill": {
     "duration": 0.010929,
     "end_time": "2020-08-31T15:40:40.434480",
     "exception": false,
     "start_time": "2020-08-31T15:40:40.423551",
     "status": "completed"
    },
    "tags": []
   },
   "source": [
    "Logistic Regression is a classification algorithm and not a regression algorithm. It is used to estimate discrete values (like 0 or 1, True or False, Yes or No) based on a given set of independent variables."
   ]
  },
  {
   "cell_type": "markdown",
   "execution_count": null,
   "metadata": {
    "papermill": {
     "duration": 0.010928,
     "end_time": "2020-08-31T15:40:40.458029",
     "exception": false,
     "start_time": "2020-08-31T15:40:40.447101",
     "status": "completed"
    },
    "tags": []
   },
   "source": [
    "Logistic Regression produces results in a binary format that is used to predict the outcome of a categorical dependent variable. So the outcome should be discrete/categorical."
   ]
  },
  {
   "cell_type": "markdown",
   "execution_count": null,
   "metadata": {
    "papermill": {
     "duration": 0.010822,
     "end_time": "2020-08-31T15:40:40.480303",
     "exception": false,
     "start_time": "2020-08-31T15:40:40.469481",
     "status": "completed"
    },
    "tags": []
   },
   "source": [
    "## Dataset\n",
    "\n",
    "We will be using a simple dataset to implement this algorithm. This dataset contains Head Size (cm^3) and Brain Weight (grams) columns where Head Size is an independent variable.\n",
    "\n",
    "Download the dataset [here](https://www.kaggle.com/iamaniket/suv-data)."
   ]
  },
  {
   "cell_type": "markdown",
   "execution_count": null,
   "metadata": {
    "papermill": {
     "duration": 0.011076,
     "end_time": "2020-08-31T15:40:40.503091",
     "exception": false,
     "start_time": "2020-08-31T15:40:40.492015",
     "status": "completed"
    },
    "tags": []
   },
   "source": [
    "## So let’s begin here…"
   ]
  },
  {
   "cell_type": "code",
   "execution_count": 1,
   "metadata": {
    "execution": {
     "iopub.execute_input": "2020-08-31T15:40:40.534233Z",
     "iopub.status.busy": "2020-08-31T15:40:40.533429Z",
     "iopub.status.idle": "2020-08-31T15:40:42.046084Z",
     "shell.execute_reply": "2020-08-31T15:40:42.045343Z"
    },
    "papermill": {
     "duration": 1.531643,
     "end_time": "2020-08-31T15:40:42.046222",
     "exception": false,
     "start_time": "2020-08-31T15:40:40.514579",
     "status": "completed"
    },
    "tags": []
   },
   "outputs": [],
   "source": [
    "import pandas as pd\n",
    "import numpy as np\n",
    "import matplotlib.pyplot as plt\n",
    "import seaborn as sns\n",
    "\n",
    "from sklearn.linear_model import LogisticRegression\n",
    "from sklearn.model_selection import train_test_split\n",
    "from sklearn.preprocessing import StandardScaler\n",
    "from sklearn.metrics import classification_report\n",
    "from sklearn.metrics import confusion_matrix\n",
    "from sklearn.metrics import accuracy_score"
   ]
  },
  {
   "cell_type": "markdown",
   "execution_count": null,
   "metadata": {
    "papermill": {
     "duration": 0.010994,
     "end_time": "2020-08-31T15:40:42.068937",
     "exception": false,
     "start_time": "2020-08-31T15:40:42.057943",
     "status": "completed"
    },
    "tags": []
   },
   "source": [
    "## Load Data"
   ]
  },
  {
   "cell_type": "code",
   "execution_count": 2,
   "metadata": {
    "execution": {
     "iopub.execute_input": "2020-08-31T15:40:42.111815Z",
     "iopub.status.busy": "2020-08-31T15:40:42.110963Z",
     "iopub.status.idle": "2020-08-31T15:40:42.160626Z",
     "shell.execute_reply": "2020-08-31T15:40:42.159824Z"
    },
    "papermill": {
     "duration": 0.080452,
     "end_time": "2020-08-31T15:40:42.160798",
     "exception": false,
     "start_time": "2020-08-31T15:40:42.080346",
     "status": "completed"
    },
    "tags": []
   },
   "outputs": [
    {
     "data": {
      "text/html": [
       "<div>\n",
       "<style scoped>\n",
       "    .dataframe tbody tr th:only-of-type {\n",
       "        vertical-align: middle;\n",
       "    }\n",
       "\n",
       "    .dataframe tbody tr th {\n",
       "        vertical-align: top;\n",
       "    }\n",
       "\n",
       "    .dataframe thead th {\n",
       "        text-align: right;\n",
       "    }\n",
       "</style>\n",
       "<table border=\"1\" class=\"dataframe\">\n",
       "  <thead>\n",
       "    <tr style=\"text-align: right;\">\n",
       "      <th></th>\n",
       "      <th>User ID</th>\n",
       "      <th>Gender</th>\n",
       "      <th>Age</th>\n",
       "      <th>EstimatedSalary</th>\n",
       "      <th>Purchased</th>\n",
       "    </tr>\n",
       "  </thead>\n",
       "  <tbody>\n",
       "    <tr>\n",
       "      <th>0</th>\n",
       "      <td>15624510</td>\n",
       "      <td>Male</td>\n",
       "      <td>19</td>\n",
       "      <td>19000</td>\n",
       "      <td>0</td>\n",
       "    </tr>\n",
       "    <tr>\n",
       "      <th>1</th>\n",
       "      <td>15810944</td>\n",
       "      <td>Male</td>\n",
       "      <td>35</td>\n",
       "      <td>20000</td>\n",
       "      <td>0</td>\n",
       "    </tr>\n",
       "    <tr>\n",
       "      <th>2</th>\n",
       "      <td>15668575</td>\n",
       "      <td>Female</td>\n",
       "      <td>26</td>\n",
       "      <td>43000</td>\n",
       "      <td>0</td>\n",
       "    </tr>\n",
       "    <tr>\n",
       "      <th>3</th>\n",
       "      <td>15603246</td>\n",
       "      <td>Female</td>\n",
       "      <td>27</td>\n",
       "      <td>57000</td>\n",
       "      <td>0</td>\n",
       "    </tr>\n",
       "    <tr>\n",
       "      <th>4</th>\n",
       "      <td>15804002</td>\n",
       "      <td>Male</td>\n",
       "      <td>19</td>\n",
       "      <td>76000</td>\n",
       "      <td>0</td>\n",
       "    </tr>\n",
       "    <tr>\n",
       "      <th>5</th>\n",
       "      <td>15728773</td>\n",
       "      <td>Male</td>\n",
       "      <td>27</td>\n",
       "      <td>58000</td>\n",
       "      <td>0</td>\n",
       "    </tr>\n",
       "    <tr>\n",
       "      <th>6</th>\n",
       "      <td>15598044</td>\n",
       "      <td>Female</td>\n",
       "      <td>27</td>\n",
       "      <td>84000</td>\n",
       "      <td>0</td>\n",
       "    </tr>\n",
       "    <tr>\n",
       "      <th>7</th>\n",
       "      <td>15694829</td>\n",
       "      <td>Female</td>\n",
       "      <td>32</td>\n",
       "      <td>150000</td>\n",
       "      <td>1</td>\n",
       "    </tr>\n",
       "    <tr>\n",
       "      <th>8</th>\n",
       "      <td>15600575</td>\n",
       "      <td>Male</td>\n",
       "      <td>25</td>\n",
       "      <td>33000</td>\n",
       "      <td>0</td>\n",
       "    </tr>\n",
       "    <tr>\n",
       "      <th>9</th>\n",
       "      <td>15727311</td>\n",
       "      <td>Female</td>\n",
       "      <td>35</td>\n",
       "      <td>65000</td>\n",
       "      <td>0</td>\n",
       "    </tr>\n",
       "  </tbody>\n",
       "</table>\n",
       "</div>"
      ],
      "text/plain": [
       "    User ID  Gender  Age  EstimatedSalary  Purchased\n",
       "0  15624510    Male   19            19000          0\n",
       "1  15810944    Male   35            20000          0\n",
       "2  15668575  Female   26            43000          0\n",
       "3  15603246  Female   27            57000          0\n",
       "4  15804002    Male   19            76000          0\n",
       "5  15728773    Male   27            58000          0\n",
       "6  15598044  Female   27            84000          0\n",
       "7  15694829  Female   32           150000          1\n",
       "8  15600575    Male   25            33000          0\n",
       "9  15727311  Female   35            65000          0"
      ]
     },
     "execution_count": 2,
     "metadata": {},
     "output_type": "execute_result"
    }
   ],
   "source": [
    "data = pd.read_csv(\"../input/suv-data/suv_data.csv\")\n",
    "data.head(10)"
   ]
  },
  {
   "cell_type": "code",
   "execution_count": 3,
   "metadata": {
    "execution": {
     "iopub.execute_input": "2020-08-31T15:40:42.191993Z",
     "iopub.status.busy": "2020-08-31T15:40:42.190949Z",
     "iopub.status.idle": "2020-08-31T15:40:42.195256Z",
     "shell.execute_reply": "2020-08-31T15:40:42.194507Z"
    },
    "papermill": {
     "duration": 0.022244,
     "end_time": "2020-08-31T15:40:42.195391",
     "exception": false,
     "start_time": "2020-08-31T15:40:42.173147",
     "status": "completed"
    },
    "tags": []
   },
   "outputs": [
    {
     "name": "stdout",
     "output_type": "stream",
     "text": [
      "Number of customers:  400\n"
     ]
    }
   ],
   "source": [
    "print(\"Number of customers: \", len(data))"
   ]
  },
  {
   "cell_type": "markdown",
   "execution_count": null,
   "metadata": {
    "papermill": {
     "duration": 0.011425,
     "end_time": "2020-08-31T15:40:42.218653",
     "exception": false,
     "start_time": "2020-08-31T15:40:42.207228",
     "status": "completed"
    },
    "tags": []
   },
   "source": [
    "## Analyzing Data"
   ]
  },
  {
   "cell_type": "code",
   "execution_count": 4,
   "metadata": {
    "execution": {
     "iopub.execute_input": "2020-08-31T15:40:42.263187Z",
     "iopub.status.busy": "2020-08-31T15:40:42.262266Z",
     "iopub.status.idle": "2020-08-31T15:40:42.267080Z",
     "shell.execute_reply": "2020-08-31T15:40:42.265972Z"
    },
    "papermill": {
     "duration": 0.036539,
     "end_time": "2020-08-31T15:40:42.267252",
     "exception": false,
     "start_time": "2020-08-31T15:40:42.230713",
     "status": "completed"
    },
    "tags": []
   },
   "outputs": [
    {
     "name": "stdout",
     "output_type": "stream",
     "text": [
      "<class 'pandas.core.frame.DataFrame'>\n",
      "RangeIndex: 400 entries, 0 to 399\n",
      "Data columns (total 5 columns):\n",
      " #   Column           Non-Null Count  Dtype \n",
      "---  ------           --------------  ----- \n",
      " 0   User ID          400 non-null    int64 \n",
      " 1   Gender           400 non-null    object\n",
      " 2   Age              400 non-null    int64 \n",
      " 3   EstimatedSalary  400 non-null    int64 \n",
      " 4   Purchased        400 non-null    int64 \n",
      "dtypes: int64(4), object(1)\n",
      "memory usage: 15.8+ KB\n"
     ]
    }
   ],
   "source": [
    "data.info()"
   ]
  },
  {
   "cell_type": "markdown",
   "execution_count": null,
   "metadata": {
    "papermill": {
     "duration": 0.01207,
     "end_time": "2020-08-31T15:40:42.292355",
     "exception": false,
     "start_time": "2020-08-31T15:40:42.280285",
     "status": "completed"
    },
    "tags": []
   },
   "source": [
    "## Customers who purchased the SUV"
   ]
  },
  {
   "cell_type": "code",
   "execution_count": 5,
   "metadata": {
    "execution": {
     "iopub.execute_input": "2020-08-31T15:40:42.323052Z",
     "iopub.status.busy": "2020-08-31T15:40:42.322179Z",
     "iopub.status.idle": "2020-08-31T15:40:42.516875Z",
     "shell.execute_reply": "2020-08-31T15:40:42.517433Z"
    },
    "papermill": {
     "duration": 0.213122,
     "end_time": "2020-08-31T15:40:42.517607",
     "exception": false,
     "start_time": "2020-08-31T15:40:42.304485",
     "status": "completed"
    },
    "tags": []
   },
   "outputs": [
    {
     "data": {
      "text/plain": [
       "<matplotlib.axes._subplots.AxesSubplot at 0x7fcbe75f0310>"
      ]
     },
     "execution_count": 5,
     "metadata": {},
     "output_type": "execute_result"
    },
    {
     "data": {
      "image/png": "[encoded data removed]",
      "text/plain": [
       "<Figure size 432x288 with 1 Axes>"
      ]
     },
     "metadata": {
      "needs_background": "light"
     },
     "output_type": "display_data"
    }
   ],
   "source": [
    "sns.countplot(x='Purchased', data = data)"
   ]
  },
  {
   "cell_type": "markdown",
   "execution_count": null,
   "metadata": {
    "papermill": {
     "duration": 0.012126,
     "end_time": "2020-08-31T15:40:42.542379",
     "exception": false,
     "start_time": "2020-08-31T15:40:42.530253",
     "status": "completed"
    },
    "tags": []
   },
   "source": [
    "## Customers who purchased the SUV based on Gender"
   ]
  },
  {
   "cell_type": "code",
   "execution_count": 6,
   "metadata": {
    "execution": {
     "iopub.execute_input": "2020-08-31T15:40:42.587015Z",
     "iopub.status.busy": "2020-08-31T15:40:42.585840Z",
     "iopub.status.idle": "2020-08-31T15:40:42.732668Z",
     "shell.execute_reply": "2020-08-31T15:40:42.731968Z"
    },
    "papermill": {
     "duration": 0.178131,
     "end_time": "2020-08-31T15:40:42.732854",
     "exception": false,
     "start_time": "2020-08-31T15:40:42.554723",
     "status": "completed"
    },
    "tags": []
   },
   "outputs": [
    {
     "data": {
      "text/plain": [
       "<matplotlib.axes._subplots.AxesSubplot at 0x7fcbe739e7d0>"
      ]
     },
     "execution_count": 6,
     "metadata": {},
     "output_type": "execute_result"
    },
    {
     "data": {
      "image/png": "[encoded data removed]",
      "text/plain": [
       "<Figure size 432x288 with 1 Axes>"
      ]
     },
     "metadata": {
      "needs_background": "light"
     },
     "output_type": "display_data"
    }
   ],
   "source": [
    "sns.countplot(x='Purchased', hue = 'Gender', data = data)"
   ]
  },
  {
   "cell_type": "markdown",
   "execution_count": null,
   "metadata": {
    "papermill": {
     "duration": 0.012459,
     "end_time": "2020-08-31T15:40:42.758275",
     "exception": false,
     "start_time": "2020-08-31T15:40:42.745816",
     "status": "completed"
    },
    "tags": []
   },
   "source": [
    "## Graph for age of customers"
   ]
  },
  {
   "cell_type": "code",
   "execution_count": 7,
   "metadata": {
    "execution": {
     "iopub.execute_input": "2020-08-31T15:40:42.790184Z",
     "iopub.status.busy": "2020-08-31T15:40:42.789316Z",
     "iopub.status.idle": "2020-08-31T15:40:43.004427Z",
     "shell.execute_reply": "2020-08-31T15:40:43.005051Z"
    },
    "papermill": {
     "duration": 0.233884,
     "end_time": "2020-08-31T15:40:43.005228",
     "exception": false,
     "start_time": "2020-08-31T15:40:42.771344",
     "status": "completed"
    },
    "tags": []
   },
   "outputs": [
    {
     "data": {
      "text/plain": [
       "<matplotlib.axes._subplots.AxesSubplot at 0x7fcbe7307950>"
      ]
     },
     "execution_count": 7,
     "metadata": {},
     "output_type": "execute_result"
    },
    {
     "data": {
      "image/png": "[encoded data removed]",
      "text/plain": [
       "<Figure size 432x288 with 1 Axes>"
      ]
     },
     "metadata": {
      "needs_background": "light"
     },
     "output_type": "display_data"
    }
   ],
   "source": [
    "data['Age'].plot.hist()"
   ]
  },
  {
   "cell_type": "markdown",
   "execution_count": null,
   "metadata": {
    "papermill": {
     "duration": 0.013569,
     "end_time": "2020-08-31T15:40:43.032268",
     "exception": false,
     "start_time": "2020-08-31T15:40:43.018699",
     "status": "completed"
    },
    "tags": []
   },
   "source": [
    "## Graph for Estimated Salary of Customers"
   ]
  },
  {
   "cell_type": "code",
   "execution_count": 8,
   "metadata": {
    "execution": {
     "iopub.execute_input": "2020-08-31T15:40:43.159530Z",
     "iopub.status.busy": "2020-08-31T15:40:43.074615Z",
     "iopub.status.idle": "2020-08-31T15:40:43.354427Z",
     "shell.execute_reply": "2020-08-31T15:40:43.353620Z"
    },
    "papermill": {
     "duration": 0.308915,
     "end_time": "2020-08-31T15:40:43.354560",
     "exception": false,
     "start_time": "2020-08-31T15:40:43.045645",
     "status": "completed"
    },
    "tags": []
   },
   "outputs": [
    {
     "data": {
      "text/plain": [
       "<matplotlib.axes._subplots.AxesSubplot at 0x7fcbe740c090>"
      ]
     },
     "execution_count": 8,
     "metadata": {},
     "output_type": "execute_result"
    },
    {
     "data": {
      "image/png": "[encoded data removed]",
      "text/plain": [
       "<Figure size 432x288 with 1 Axes>"
      ]
     },
     "metadata": {
      "needs_background": "light"
     },
     "output_type": "display_data"
    }
   ],
   "source": [
    "data['EstimatedSalary'].plot.hist()"
   ]
  },
  {
   "cell_type": "markdown",
   "execution_count": null,
   "metadata": {
    "papermill": {
     "duration": 0.019444,
     "end_time": "2020-08-31T15:40:43.390255",
     "exception": false,
     "start_time": "2020-08-31T15:40:43.370811",
     "status": "completed"
    },
    "tags": []
   },
   "source": [
    "## Customers who purchased the SUV based on Age"
   ]
  },
  {
   "cell_type": "code",
   "execution_count": 9,
   "metadata": {
    "execution": {
     "iopub.execute_input": "2020-08-31T15:40:43.433359Z",
     "iopub.status.busy": "2020-08-31T15:40:43.432193Z",
     "iopub.status.idle": "2020-08-31T15:40:43.668203Z",
     "shell.execute_reply": "2020-08-31T15:40:43.667520Z"
    },
    "papermill": {
     "duration": 0.261946,
     "end_time": "2020-08-31T15:40:43.668330",
     "exception": false,
     "start_time": "2020-08-31T15:40:43.406384",
     "status": "completed"
    },
    "tags": []
   },
   "outputs": [
    {
     "data": {
      "text/plain": [
       "<matplotlib.axes._subplots.AxesSubplot at 0x7fcbe71a7fd0>"
      ]
     },
     "execution_count": 9,
     "metadata": {},
     "output_type": "execute_result"
    },
    {
     "data": {
      "image/png": "[encoded data removed]",
      "text/plain": [
       "<Figure size 360x360 with 1 Axes>"
      ]
     },
     "metadata": {
      "needs_background": "light"
     },
     "output_type": "display_data"
    }
   ],
   "source": [
    "plt.figure(figsize = (5,5))\n",
    "sns.distplot(data[data['Purchased']==1]['Age'])"
   ]
  },
  {
   "cell_type": "code",
   "execution_count": 10,
   "metadata": {
    "execution": {
     "iopub.execute_input": "2020-08-31T15:40:43.727846Z",
     "iopub.status.busy": "2020-08-31T15:40:43.707472Z",
     "iopub.status.idle": "2020-08-31T15:40:45.803758Z",
     "shell.execute_reply": "2020-08-31T15:40:45.803031Z"
    },
    "papermill": {
     "duration": 2.121165,
     "end_time": "2020-08-31T15:40:45.803901",
     "exception": false,
     "start_time": "2020-08-31T15:40:43.682736",
     "status": "completed"
    },
    "tags": []
   },
   "outputs": [
    {
     "data": {
      "text/plain": [
       "<matplotlib.axes._subplots.AxesSubplot at 0x7fcbe50ad3d0>"
      ]
     },
     "execution_count": 10,
     "metadata": {},
     "output_type": "execute_result"
    },
    {
     "data": {
      "image/png": "[encoded data removed]",
      "text/plain": [
       "<Figure size 1440x720 with 1 Axes>"
      ]
     },
     "metadata": {
      "needs_background": "light"
     },
     "output_type": "display_data"
    }
   ],
   "source": [
    "plt.figure(figsize = (20,10))\n",
    "sns.barplot(x=data['Age'],y=data['Purchased'])"
   ]
  },
  {
   "cell_type": "markdown",
   "execution_count": null,
   "metadata": {
    "papermill": {
     "duration": 0.014821,
     "end_time": "2020-08-31T15:40:45.834016",
     "exception": false,
     "start_time": "2020-08-31T15:40:45.819195",
     "status": "completed"
    },
    "tags": []
   },
   "source": [
    "## Customers who purchased the SUV based on Estimated Salary"
   ]
  },
  {
   "cell_type": "code",
   "execution_count": 11,
   "metadata": {
    "execution": {
     "iopub.execute_input": "2020-08-31T15:40:45.877758Z",
     "iopub.status.busy": "2020-08-31T15:40:45.871827Z",
     "iopub.status.idle": "2020-08-31T15:40:46.052164Z",
     "shell.execute_reply": "2020-08-31T15:40:46.051502Z"
    },
    "papermill": {
     "duration": 0.203536,
     "end_time": "2020-08-31T15:40:46.052289",
     "exception": false,
     "start_time": "2020-08-31T15:40:45.848753",
     "status": "completed"
    },
    "tags": []
   },
   "outputs": [
    {
     "data": {
      "text/plain": [
       "<matplotlib.axes._subplots.AxesSubplot at 0x7fcbe4aada50>"
      ]
     },
     "execution_count": 11,
     "metadata": {},
     "output_type": "execute_result"
    },
    {
     "data": {
      "image/png": "[encoded data removed]",
      "text/plain": [
       "<Figure size 360x360 with 1 Axes>"
      ]
     },
     "metadata": {
      "needs_background": "light"
     },
     "output_type": "display_data"
    }
   ],
   "source": [
    "plt.figure(figsize = (5,5))\n",
    "sns.distplot(data[data['Purchased']==1]['EstimatedSalary'])"
   ]
  },
  {
   "cell_type": "code",
   "execution_count": 12,
   "metadata": {
    "execution": {
     "iopub.execute_input": "2020-08-31T15:40:46.102005Z",
     "iopub.status.busy": "2020-08-31T15:40:46.088643Z",
     "iopub.status.idle": "2020-08-31T15:40:49.417826Z",
     "shell.execute_reply": "2020-08-31T15:40:49.418429Z"
    },
    "papermill": {
     "duration": 3.351186,
     "end_time": "2020-08-31T15:40:49.418587",
     "exception": false,
     "start_time": "2020-08-31T15:40:46.067401",
     "status": "completed"
    },
    "tags": []
   },
   "outputs": [
    {
     "data": {
      "text/plain": [
       "<matplotlib.axes._subplots.AxesSubplot at 0x7fcbe4f154d0>"
      ]
     },
     "execution_count": 12,
     "metadata": {},
     "output_type": "execute_result"
    },
    {
     "data": {
      "image/png": "[encoded data removed]",
      "text/plain": [
       "<Figure size 1440x504 with 1 Axes>"
      ]
     },
     "metadata": {
      "needs_background": "light"
     },
     "output_type": "display_data"
    }
   ],
   "source": [
    "plt.figure(figsize = (20,7))\n",
    "sns.lineplot(x=data['EstimatedSalary'],y=data['Purchased'])"
   ]
  },
  {
   "cell_type": "markdown",
   "execution_count": null,
   "metadata": {
    "papermill": {
     "duration": 0.0161,
     "end_time": "2020-08-31T15:40:49.451401",
     "exception": false,
     "start_time": "2020-08-31T15:40:49.435301",
     "status": "completed"
    },
    "tags": []
   },
   "source": [
    "## Preprocessing"
   ]
  },
  {
   "cell_type": "code",
   "execution_count": 13,
   "metadata": {
    "execution": {
     "iopub.execute_input": "2020-08-31T15:40:49.495894Z",
     "iopub.status.busy": "2020-08-31T15:40:49.490224Z",
     "iopub.status.idle": "2020-08-31T15:40:49.501213Z",
     "shell.execute_reply": "2020-08-31T15:40:49.500547Z"
    },
    "papermill": {
     "duration": 0.033328,
     "end_time": "2020-08-31T15:40:49.501347",
     "exception": false,
     "start_time": "2020-08-31T15:40:49.468019",
     "status": "completed"
    },
    "tags": []
   },
   "outputs": [
    {
     "data": {
      "text/html": [
       "<div>\n",
       "<style scoped>\n",
       "    .dataframe tbody tr th:only-of-type {\n",
       "        vertical-align: middle;\n",
       "    }\n",
       "\n",
       "    .dataframe tbody tr th {\n",
       "        vertical-align: top;\n",
       "    }\n",
       "\n",
       "    .dataframe thead th {\n",
       "        text-align: right;\n",
       "    }\n",
       "</style>\n",
       "<table border=\"1\" class=\"dataframe\">\n",
       "  <thead>\n",
       "    <tr style=\"text-align: right;\">\n",
       "      <th></th>\n",
       "      <th>Male</th>\n",
       "    </tr>\n",
       "  </thead>\n",
       "  <tbody>\n",
       "    <tr>\n",
       "      <th>0</th>\n",
       "      <td>1</td>\n",
       "    </tr>\n",
       "    <tr>\n",
       "      <th>1</th>\n",
       "      <td>1</td>\n",
       "    </tr>\n",
       "    <tr>\n",
       "      <th>2</th>\n",
       "      <td>0</td>\n",
       "    </tr>\n",
       "    <tr>\n",
       "      <th>3</th>\n",
       "      <td>0</td>\n",
       "    </tr>\n",
       "    <tr>\n",
       "      <th>4</th>\n",
       "      <td>1</td>\n",
       "    </tr>\n",
       "  </tbody>\n",
       "</table>\n",
       "</div>"
      ],
      "text/plain": [
       "   Male\n",
       "0     1\n",
       "1     1\n",
       "2     0\n",
       "3     0\n",
       "4     1"
      ]
     },
     "execution_count": 13,
     "metadata": {},
     "output_type": "execute_result"
    }
   ],
   "source": [
    "Gender = pd.get_dummies(data['Gender'], drop_first = True)\n",
    "Gender.head(5)"
   ]
  },
  {
   "cell_type": "code",
   "execution_count": 14,
   "metadata": {
    "execution": {
     "iopub.execute_input": "2020-08-31T15:40:49.542303Z",
     "iopub.status.busy": "2020-08-31T15:40:49.541525Z",
     "iopub.status.idle": "2020-08-31T15:40:49.545277Z",
     "shell.execute_reply": "2020-08-31T15:40:49.544520Z"
    },
    "papermill": {
     "duration": 0.027071,
     "end_time": "2020-08-31T15:40:49.545401",
     "exception": false,
     "start_time": "2020-08-31T15:40:49.518330",
     "status": "completed"
    },
    "tags": []
   },
   "outputs": [],
   "source": [
    "data = pd.concat([data, Gender], axis = 1)"
   ]
  },
  {
   "cell_type": "markdown",
   "execution_count": null,
   "metadata": {
    "papermill": {
     "duration": 0.016559,
     "end_time": "2020-08-31T15:40:49.578893",
     "exception": false,
     "start_time": "2020-08-31T15:40:49.562334",
     "status": "completed"
    },
    "tags": []
   },
   "source": [
    "### Dropping User ID and Gender column"
   ]
  },
  {
   "cell_type": "code",
   "execution_count": 15,
   "metadata": {
    "execution": {
     "iopub.execute_input": "2020-08-31T15:40:49.626881Z",
     "iopub.status.busy": "2020-08-31T15:40:49.625822Z",
     "iopub.status.idle": "2020-08-31T15:40:49.630735Z",
     "shell.execute_reply": "2020-08-31T15:40:49.629993Z"
    },
    "papermill": {
     "duration": 0.034908,
     "end_time": "2020-08-31T15:40:49.630858",
     "exception": false,
     "start_time": "2020-08-31T15:40:49.595950",
     "status": "completed"
    },
    "tags": []
   },
   "outputs": [
    {
     "data": {
      "text/html": [
       "<div>\n",
       "<style scoped>\n",
       "    .dataframe tbody tr th:only-of-type {\n",
       "        vertical-align: middle;\n",
       "    }\n",
       "\n",
       "    .dataframe tbody tr th {\n",
       "        vertical-align: top;\n",
       "    }\n",
       "\n",
       "    .dataframe thead th {\n",
       "        text-align: right;\n",
       "    }\n",
       "</style>\n",
       "<table border=\"1\" class=\"dataframe\">\n",
       "  <thead>\n",
       "    <tr style=\"text-align: right;\">\n",
       "      <th></th>\n",
       "      <th>Age</th>\n",
       "      <th>EstimatedSalary</th>\n",
       "      <th>Purchased</th>\n",
       "      <th>Male</th>\n",
       "    </tr>\n",
       "  </thead>\n",
       "  <tbody>\n",
       "    <tr>\n",
       "      <th>0</th>\n",
       "      <td>19</td>\n",
       "      <td>19000</td>\n",
       "      <td>0</td>\n",
       "      <td>1</td>\n",
       "    </tr>\n",
       "    <tr>\n",
       "      <th>1</th>\n",
       "      <td>35</td>\n",
       "      <td>20000</td>\n",
       "      <td>0</td>\n",
       "      <td>1</td>\n",
       "    </tr>\n",
       "    <tr>\n",
       "      <th>2</th>\n",
       "      <td>26</td>\n",
       "      <td>43000</td>\n",
       "      <td>0</td>\n",
       "      <td>0</td>\n",
       "    </tr>\n",
       "    <tr>\n",
       "      <th>3</th>\n",
       "      <td>27</td>\n",
       "      <td>57000</td>\n",
       "      <td>0</td>\n",
       "      <td>0</td>\n",
       "    </tr>\n",
       "    <tr>\n",
       "      <th>4</th>\n",
       "      <td>19</td>\n",
       "      <td>76000</td>\n",
       "      <td>0</td>\n",
       "      <td>1</td>\n",
       "    </tr>\n",
       "  </tbody>\n",
       "</table>\n",
       "</div>"
      ],
      "text/plain": [
       "   Age  EstimatedSalary  Purchased  Male\n",
       "0   19            19000          0     1\n",
       "1   35            20000          0     1\n",
       "2   26            43000          0     0\n",
       "3   27            57000          0     0\n",
       "4   19            76000          0     1"
      ]
     },
     "execution_count": 15,
     "metadata": {},
     "output_type": "execute_result"
    }
   ],
   "source": [
    "data.drop(['User ID', 'Gender'], axis = 1, inplace = True)\n",
    "data.head()"
   ]
  },
  {
   "cell_type": "markdown",
   "execution_count": null,
   "metadata": {
    "papermill": {
     "duration": 0.01658,
     "end_time": "2020-08-31T15:40:49.664606",
     "exception": false,
     "start_time": "2020-08-31T15:40:49.648026",
     "status": "completed"
    },
    "tags": []
   },
   "source": [
    "## Dependent and Independent variables"
   ]
  },
  {
   "cell_type": "code",
   "execution_count": 16,
   "metadata": {
    "execution": {
     "iopub.execute_input": "2020-08-31T15:40:49.706379Z",
     "iopub.status.busy": "2020-08-31T15:40:49.705350Z",
     "iopub.status.idle": "2020-08-31T15:40:49.708934Z",
     "shell.execute_reply": "2020-08-31T15:40:49.708174Z"
    },
    "papermill": {
     "duration": 0.02759,
     "end_time": "2020-08-31T15:40:49.709062",
     "exception": false,
     "start_time": "2020-08-31T15:40:49.681472",
     "status": "completed"
    },
    "tags": []
   },
   "outputs": [],
   "source": [
    "X = data.drop('Purchased', axis = 1)\n",
    "y = data['Purchased']"
   ]
  },
  {
   "cell_type": "code",
   "execution_count": 17,
   "metadata": {
    "execution": {
     "iopub.execute_input": "2020-08-31T15:40:49.748886Z",
     "iopub.status.busy": "2020-08-31T15:40:49.748095Z",
     "iopub.status.idle": "2020-08-31T15:40:49.751503Z",
     "shell.execute_reply": "2020-08-31T15:40:49.750798Z"
    },
    "papermill": {
     "duration": 0.025449,
     "end_time": "2020-08-31T15:40:49.751628",
     "exception": false,
     "start_time": "2020-08-31T15:40:49.726179",
     "status": "completed"
    },
    "tags": []
   },
   "outputs": [],
   "source": [
    "from sklearn.model_selection import train_test_split\n",
    "from sklearn.preprocessing import StandardScaler"
   ]
  },
  {
   "cell_type": "markdown",
   "execution_count": null,
   "metadata": {
    "papermill": {
     "duration": 0.016916,
     "end_time": "2020-08-31T15:40:49.785831",
     "exception": false,
     "start_time": "2020-08-31T15:40:49.768915",
     "status": "completed"
    },
    "tags": []
   },
   "source": [
    "## Train and Test data"
   ]
  },
  {
   "cell_type": "code",
   "execution_count": 18,
   "metadata": {
    "execution": {
     "iopub.execute_input": "2020-08-31T15:40:49.830021Z",
     "iopub.status.busy": "2020-08-31T15:40:49.828977Z",
     "iopub.status.idle": "2020-08-31T15:40:49.832630Z",
     "shell.execute_reply": "2020-08-31T15:40:49.831848Z"
    },
    "papermill": {
     "duration": 0.029619,
     "end_time": "2020-08-31T15:40:49.832785",
     "exception": false,
     "start_time": "2020-08-31T15:40:49.803166",
     "status": "completed"
    },
    "tags": []
   },
   "outputs": [],
   "source": [
    "X_train, X_test, y_train, y_test = train_test_split(X, y, test_size = 0.2, random_state = 1)"
   ]
  },
  {
   "cell_type": "code",
   "execution_count": 19,
   "metadata": {
    "execution": {
     "iopub.execute_input": "2020-08-31T15:40:49.876640Z",
     "iopub.status.busy": "2020-08-31T15:40:49.875500Z",
     "iopub.status.idle": "2020-08-31T15:40:49.885391Z",
     "shell.execute_reply": "2020-08-31T15:40:49.884666Z"
    },
    "papermill": {
     "duration": 0.035286,
     "end_time": "2020-08-31T15:40:49.885517",
     "exception": false,
     "start_time": "2020-08-31T15:40:49.850231",
     "status": "completed"
    },
    "tags": []
   },
   "outputs": [],
   "source": [
    "sc = StandardScaler()\n",
    "X_train = sc.fit_transform(X_train)\n",
    "X_test = sc.transform(X_test)"
   ]
  },
  {
   "cell_type": "code",
   "execution_count": 20,
   "metadata": {
    "execution": {
     "iopub.execute_input": "2020-08-31T15:40:49.927244Z",
     "iopub.status.busy": "2020-08-31T15:40:49.926080Z",
     "iopub.status.idle": "2020-08-31T15:40:49.930040Z",
     "shell.execute_reply": "2020-08-31T15:40:49.929284Z"
    },
    "papermill": {
     "duration": 0.027142,
     "end_time": "2020-08-31T15:40:49.930165",
     "exception": false,
     "start_time": "2020-08-31T15:40:49.903023",
     "status": "completed"
    },
    "tags": []
   },
   "outputs": [],
   "source": [
    "from sklearn.linear_model import LogisticRegression\n",
    "from sklearn.metrics import classification_report\n",
    "from sklearn.metrics import confusion_matrix\n",
    "from sklearn.metrics import accuracy_score"
   ]
  },
  {
   "cell_type": "markdown",
   "execution_count": null,
   "metadata": {
    "papermill": {
     "duration": 0.01696,
     "end_time": "2020-08-31T15:40:49.964510",
     "exception": false,
     "start_time": "2020-08-31T15:40:49.947550",
     "status": "completed"
    },
    "tags": []
   },
   "source": [
    "## Define Model"
   ]
  },
  {
   "cell_type": "code",
   "execution_count": 21,
   "metadata": {
    "execution": {
     "iopub.execute_input": "2020-08-31T15:40:50.005488Z",
     "iopub.status.busy": "2020-08-31T15:40:50.004718Z",
     "iopub.status.idle": "2020-08-31T15:40:50.008601Z",
     "shell.execute_reply": "2020-08-31T15:40:50.007894Z"
    },
    "papermill": {
     "duration": 0.026984,
     "end_time": "2020-08-31T15:40:50.008835",
     "exception": false,
     "start_time": "2020-08-31T15:40:49.981851",
     "status": "completed"
    },
    "tags": []
   },
   "outputs": [],
   "source": [
    "model = LogisticRegression(solver = 'liblinear')"
   ]
  },
  {
   "cell_type": "markdown",
   "execution_count": null,
   "metadata": {
    "papermill": {
     "duration": 0.016994,
     "end_time": "2020-08-31T15:40:50.043388",
     "exception": false,
     "start_time": "2020-08-31T15:40:50.026394",
     "status": "completed"
    },
    "tags": []
   },
   "source": [
    "## Fit Model"
   ]
  },
  {
   "cell_type": "code",
   "execution_count": 22,
   "metadata": {
    "execution": {
     "iopub.execute_input": "2020-08-31T15:40:50.085096Z",
     "iopub.status.busy": "2020-08-31T15:40:50.084217Z",
     "iopub.status.idle": "2020-08-31T15:40:50.094114Z",
     "shell.execute_reply": "2020-08-31T15:40:50.093291Z"
    },
    "papermill": {
     "duration": 0.033345,
     "end_time": "2020-08-31T15:40:50.094254",
     "exception": false,
     "start_time": "2020-08-31T15:40:50.060909",
     "status": "completed"
    },
    "tags": []
   },
   "outputs": [
    {
     "data": {
      "text/plain": [
       "LogisticRegression(solver='liblinear')"
      ]
     },
     "execution_count": 22,
     "metadata": {},
     "output_type": "execute_result"
    }
   ],
   "source": [
    "model.fit(X_train,y_train)"
   ]
  },
  {
   "cell_type": "markdown",
   "execution_count": null,
   "metadata": {
    "papermill": {
     "duration": 0.017328,
     "end_time": "2020-08-31T15:40:50.129625",
     "exception": false,
     "start_time": "2020-08-31T15:40:50.112297",
     "status": "completed"
    },
    "tags": []
   },
   "source": [
    "## Predictions"
   ]
  },
  {
   "cell_type": "code",
   "execution_count": 23,
   "metadata": {
    "execution": {
     "iopub.execute_input": "2020-08-31T15:40:50.172432Z",
     "iopub.status.busy": "2020-08-31T15:40:50.171467Z",
     "iopub.status.idle": "2020-08-31T15:40:50.174593Z",
     "shell.execute_reply": "2020-08-31T15:40:50.173968Z"
    },
    "papermill": {
     "duration": 0.027452,
     "end_time": "2020-08-31T15:40:50.174742",
     "exception": false,
     "start_time": "2020-08-31T15:40:50.147290",
     "status": "completed"
    },
    "tags": []
   },
   "outputs": [],
   "source": [
    "predictions = model.predict(X_test)"
   ]
  },
  {
   "cell_type": "markdown",
   "execution_count": null,
   "metadata": {
    "papermill": {
     "duration": 0.017527,
     "end_time": "2020-08-31T15:40:50.209948",
     "exception": false,
     "start_time": "2020-08-31T15:40:50.192421",
     "status": "completed"
    },
    "tags": []
   },
   "source": [
    "## Classification Report"
   ]
  },
  {
   "cell_type": "code",
   "execution_count": 24,
   "metadata": {
    "execution": {
     "iopub.execute_input": "2020-08-31T15:40:50.253250Z",
     "iopub.status.busy": "2020-08-31T15:40:50.252268Z",
     "iopub.status.idle": "2020-08-31T15:40:50.260521Z",
     "shell.execute_reply": "2020-08-31T15:40:50.261269Z"
    },
    "papermill": {
     "duration": 0.033858,
     "end_time": "2020-08-31T15:40:50.261424",
     "exception": false,
     "start_time": "2020-08-31T15:40:50.227566",
     "status": "completed"
    },
    "tags": []
   },
   "outputs": [
    {
     "name": "stdout",
     "output_type": "stream",
     "text": [
      "              precision    recall  f1-score   support\n",
      "\n",
      "           0       0.87      0.83      0.85        48\n",
      "           1       0.76      0.81      0.79        32\n",
      "\n",
      "    accuracy                           0.82        80\n",
      "   macro avg       0.82      0.82      0.82        80\n",
      "weighted avg       0.83      0.82      0.83        80\n",
      "\n"
     ]
    }
   ],
   "source": [
    "print(classification_report(y_test, predictions))"
   ]
  },
  {
   "cell_type": "markdown",
   "execution_count": null,
   "metadata": {
    "papermill": {
     "duration": 0.01749,
     "end_time": "2020-08-31T15:40:50.297667",
     "exception": false,
     "start_time": "2020-08-31T15:40:50.280177",
     "status": "completed"
    },
    "tags": []
   },
   "source": [
    "## Confusion Matrix\n",
    "\n",
    "It is a 2x2 matrix that has 4 outcomes. This tells how accurate the values are."
   ]
  },
  {
   "cell_type": "code",
   "execution_count": 25,
   "metadata": {
    "execution": {
     "iopub.execute_input": "2020-08-31T15:40:50.340540Z",
     "iopub.status.busy": "2020-08-31T15:40:50.339379Z",
     "iopub.status.idle": "2020-08-31T15:40:50.344417Z",
     "shell.execute_reply": "2020-08-31T15:40:50.343818Z"
    },
    "papermill": {
     "duration": 0.029139,
     "end_time": "2020-08-31T15:40:50.344535",
     "exception": false,
     "start_time": "2020-08-31T15:40:50.315396",
     "status": "completed"
    },
    "tags": []
   },
   "outputs": [
    {
     "name": "stdout",
     "output_type": "stream",
     "text": [
      "Confusion Matrix: \n",
      " [[40  8]\n",
      " [ 6 26]]\n"
     ]
    }
   ],
   "source": [
    "print(\"Confusion Matrix: \\n\",confusion_matrix(y_test, predictions))"
   ]
  },
  {
   "cell_type": "markdown",
   "execution_count": null,
   "metadata": {
    "papermill": {
     "duration": 0.017448,
     "end_time": "2020-08-31T15:40:50.380151",
     "exception": false,
     "start_time": "2020-08-31T15:40:50.362703",
     "status": "completed"
    },
    "tags": []
   },
   "source": [
    "## Accuracy"
   ]
  },
  {
   "cell_type": "code",
   "execution_count": 26,
   "metadata": {
    "execution": {
     "iopub.execute_input": "2020-08-31T15:40:50.423178Z",
     "iopub.status.busy": "2020-08-31T15:40:50.422188Z",
     "iopub.status.idle": "2020-08-31T15:40:50.425772Z",
     "shell.execute_reply": "2020-08-31T15:40:50.426706Z"
    },
    "papermill": {
     "duration": 0.028726,
     "end_time": "2020-08-31T15:40:50.426891",
     "exception": false,
     "start_time": "2020-08-31T15:40:50.398165",
     "status": "completed"
    },
    "tags": []
   },
   "outputs": [
    {
     "name": "stdout",
     "output_type": "stream",
     "text": [
      "Accuracy:  0.825\n"
     ]
    }
   ],
   "source": [
    "print(\"Accuracy: \",accuracy_score(y_test, predictions))"
   ]
  }
 ],
 "metadata": {
  "kernelspec": {
   "display_name": "Python 3",
   "language": "python",
   "name": "python3"
  },
  "language_info": {
   "codemirror_mode": {
    "name": "ipython",
    "version": 3
   },
   "file_extension": ".py",
   "mimetype": "text/x-python",
   "name": "python",
   "nbconvert_exporter": "python",
   "pygments_lexer": "ipython3",
   "version": "3.7.6"
  },
  "papermill": {
   "duration": 15.323436,
   "end_time": "2020-08-31T15:40:50.552919",
   "environment_variables": {},
   "exception": null,
   "input_path": "__notebook__.ipynb",
   "output_path": "__notebook__.ipynb",
   "parameters": {},
   "start_time": "2020-08-31T15:40:35.229483",
   "version": "2.1.0"
  }
 },
 "nbformat": 4,
 "nbformat_minor": 4
}
