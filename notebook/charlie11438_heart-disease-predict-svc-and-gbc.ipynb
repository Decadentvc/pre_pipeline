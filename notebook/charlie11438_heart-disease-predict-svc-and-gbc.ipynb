{
 "cells": [
  {
   "cell_type": "markdown",
   "metadata": {
    "_uuid": "9842e4245653a12e8ba75ff43b9ef4355cf502ee"
   },
   "source": [
    "# Kaggle-heart disease dataset\n",
    "\n",
    "## 2019-02-20"
   ]
  },
  {
   "cell_type": "code",
   "execution_count": 1,
   "metadata": {
    "_uuid": "e63a1e401debbee1a304c3bc31b2ea3e412af55b"
   },
   "outputs": [],
   "source": [
    "import pandas as pd\n",
    "import numpy as np\n",
    "import matplotlib.pyplot as plt\n",
    "import seaborn as sns\n",
    "from sklearn.decomposition import PCA\n",
    "from sklearn.ensemble import GradientBoostingClassifier as GBC\n",
    "from sklearn.svm import SVC\n",
    "from sklearn.metrics import classification_report\n",
    "from sklearn.model_selection import train_test_split"
   ]
  },
  {
   "cell_type": "code",
   "execution_count": 2,
   "metadata": {
    "_uuid": "5c9fd3d81be40289ae652610c40c2892c3056db0"
   },
   "outputs": [
    {
     "name": "stdout",
     "output_type": "stream",
     "text": [
      "   age  sex  cp  trestbps  chol   ...    oldpeak  slope  ca  thal  target\n",
      "0   63    1   3       145   233   ...        2.3      0   0     1       1\n",
      "1   37    1   2       130   250   ...        3.5      0   0     2       1\n",
      "2   41    0   1       130   204   ...        1.4      2   0     2       1\n",
      "3   56    1   1       120   236   ...        0.8      2   0     2       1\n",
      "4   57    0   0       120   354   ...        0.6      2   0     2       1\n",
      "\n",
      "[5 rows x 14 columns]\n",
      "(303, 14)\n"
     ]
    }
   ],
   "source": [
    "original=pd.read_csv('../input/heart.csv')\n",
    "print(original.head())\n",
    "print(original.shape)"
   ]
  },
  {
   "cell_type": "code",
   "execution_count": 3,
   "metadata": {
    "_uuid": "5a90517ccc378b11906cbe6c04a840b15e9cf4b7"
   },
   "outputs": [
    {
     "data": {
      "text/plain": [
       "age         False\n",
       "sex         False\n",
       "cp          False\n",
       "trestbps    False\n",
       "chol        False\n",
       "fbs         False\n",
       "restecg     False\n",
       "thalach     False\n",
       "exang       False\n",
       "oldpeak     False\n",
       "slope       False\n",
       "ca          False\n",
       "thal        False\n",
       "target      False\n",
       "dtype: bool"
      ]
     },
     "execution_count": 3,
     "metadata": {},
     "output_type": "execute_result"
    }
   ],
   "source": [
    "np.isnan(original.any())"
   ]
  },
  {
   "cell_type": "markdown",
   "metadata": {
    "_uuid": "972a5efbdd34d1de1f5ef6422387b3204597c21b"
   },
   "source": [
    "## Principal Component Analysis"
   ]
  },
  {
   "cell_type": "code",
   "execution_count": 4,
   "metadata": {
    "_uuid": "0600fef5148944c706a9d94092de3a4f4e1a7d11"
   },
   "outputs": [
    {
     "name": "stdout",
     "output_type": "stream",
     "text": [
      "14\n",
      "Index(['age', 'sex', 'cp', 'trestbps', 'chol', 'fbs', 'restecg', 'thalach',\n",
      "       'exang', 'oldpeak', 'slope', 'ca', 'thal', 'target'],\n",
      "      dtype='object')\n"
     ]
    }
   ],
   "source": [
    "print(original.columns.shape[0])\n",
    "print(original.columns)"
   ]
  },
  {
   "cell_type": "code",
   "execution_count": 5,
   "metadata": {
    "_uuid": "74847cc4cbfe4d422a9e0d06cafc606796e14ce4"
   },
   "outputs": [
    {
     "name": "stdout",
     "output_type": "stream",
     "text": [
      "   age  sex  cp  trestbps  chol  ...   exang  oldpeak  slope  ca  thal\n",
      "0   63    1   3       145   233  ...       0      2.3      0   0     1\n",
      "1   37    1   2       130   250  ...       0      3.5      0   0     2\n",
      "2   41    0   1       130   204  ...       0      1.4      2   0     2\n",
      "3   56    1   1       120   236  ...       0      0.8      2   0     2\n",
      "4   57    0   0       120   354  ...       1      0.6      2   0     2\n",
      "\n",
      "[5 rows x 13 columns]\n"
     ]
    }
   ],
   "source": [
    "data=original.iloc[:,0:13]\n",
    "target=original.loc[:,'target']\n",
    "print(data.head())"
   ]
  },
  {
   "cell_type": "code",
   "execution_count": 6,
   "metadata": {
    "_uuid": "f5ea13d6708fdcfb5c0ed72c7f81640a1c6fe985"
   },
   "outputs": [],
   "source": [
    "pca=PCA(n_components=13).fit(data)"
   ]
  },
  {
   "cell_type": "code",
   "execution_count": 7,
   "metadata": {
    "_uuid": "7a83ae06f1011284aa9147ddf11fbbf7ff9d26a3"
   },
   "outputs": [
    {
     "name": "stdout",
     "output_type": "stream",
     "text": [
      "           0   columns\n",
      "0   0.747564       age\n",
      "1   0.150370       sex\n",
      "2   0.084597        cp\n",
      "3   0.016216  trestbps\n",
      "4   0.000384      chol\n",
      "5   0.000281       fbs\n",
      "6   0.000229   restecg\n",
      "7   0.000100   thalach\n",
      "8   0.000077     exang\n",
      "9   0.000059   oldpeak\n",
      "10  0.000050     slope\n",
      "11  0.000041        ca\n",
      "12  0.000031      thal\n"
     ]
    }
   ],
   "source": [
    "pvr=pd.DataFrame(pca.explained_variance_ratio_)\n",
    "x=np.array(data.columns)\n",
    "pvr['columns']=x\n",
    "print(pvr)"
   ]
  },
  {
   "cell_type": "markdown",
   "metadata": {
    "_uuid": "fc4741bdd58466a6d6933ae991fe74007bedb80d"
   },
   "source": [
    "## PCA\n",
    "\n",
    "With pvr,if I want to reduce data's dimension\n",
    "\n",
    "I'll set n_components between two~three\n",
    "\n",
    "but data size is small,so try not to reduce data's dimension\n",
    "\n",
    "Then try to analysis correlation"
   ]
  },
  {
   "cell_type": "markdown",
   "metadata": {
    "_uuid": "e34936954b089c72ffd5ec8778a6811614c748cc"
   },
   "source": [
    "## Correlation Analysis-Pearson coefficient"
   ]
  },
  {
   "cell_type": "code",
   "execution_count": 8,
   "metadata": {
    "_uuid": "799f705e5cc37f09cea8ba8bb27b992be2edeb06"
   },
   "outputs": [
    {
     "data": {
      "text/html": [
       "<div>\n",
       "<style scoped>\n",
       "    .dataframe tbody tr th:only-of-type {\n",
       "        vertical-align: middle;\n",
       "    }\n",
       "\n",
       "    .dataframe tbody tr th {\n",
       "        vertical-align: top;\n",
       "    }\n",
       "\n",
       "    .dataframe thead th {\n",
       "        text-align: right;\n",
       "    }\n",
       "</style>\n",
       "<table border=\"1\" class=\"dataframe\">\n",
       "  <thead>\n",
       "    <tr style=\"text-align: right;\">\n",
       "      <th></th>\n",
       "      <th>age</th>\n",
       "      <th>sex</th>\n",
       "      <th>cp</th>\n",
       "      <th>trestbps</th>\n",
       "      <th>chol</th>\n",
       "      <th>fbs</th>\n",
       "      <th>restecg</th>\n",
       "      <th>thalach</th>\n",
       "      <th>exang</th>\n",
       "      <th>oldpeak</th>\n",
       "      <th>slope</th>\n",
       "      <th>ca</th>\n",
       "      <th>thal</th>\n",
       "      <th>target</th>\n",
       "    </tr>\n",
       "  </thead>\n",
       "  <tbody>\n",
       "    <tr>\n",
       "      <th>target</th>\n",
       "      <td>-0.23</td>\n",
       "      <td>-0.28</td>\n",
       "      <td>0.43</td>\n",
       "      <td>-0.14</td>\n",
       "      <td>-0.09</td>\n",
       "      <td>-0.03</td>\n",
       "      <td>0.14</td>\n",
       "      <td>0.42</td>\n",
       "      <td>-0.44</td>\n",
       "      <td>-0.43</td>\n",
       "      <td>0.35</td>\n",
       "      <td>-0.39</td>\n",
       "      <td>-0.34</td>\n",
       "      <td>1.00</td>\n",
       "    </tr>\n",
       "    <tr>\n",
       "      <th>cp</th>\n",
       "      <td>-0.07</td>\n",
       "      <td>-0.05</td>\n",
       "      <td>1.00</td>\n",
       "      <td>0.05</td>\n",
       "      <td>-0.08</td>\n",
       "      <td>0.09</td>\n",
       "      <td>0.04</td>\n",
       "      <td>0.30</td>\n",
       "      <td>-0.39</td>\n",
       "      <td>-0.15</td>\n",
       "      <td>0.12</td>\n",
       "      <td>-0.18</td>\n",
       "      <td>-0.16</td>\n",
       "      <td>0.43</td>\n",
       "    </tr>\n",
       "    <tr>\n",
       "      <th>thalach</th>\n",
       "      <td>-0.40</td>\n",
       "      <td>-0.04</td>\n",
       "      <td>0.30</td>\n",
       "      <td>-0.05</td>\n",
       "      <td>-0.01</td>\n",
       "      <td>-0.01</td>\n",
       "      <td>0.04</td>\n",
       "      <td>1.00</td>\n",
       "      <td>-0.38</td>\n",
       "      <td>-0.34</td>\n",
       "      <td>0.39</td>\n",
       "      <td>-0.21</td>\n",
       "      <td>-0.10</td>\n",
       "      <td>0.42</td>\n",
       "    </tr>\n",
       "    <tr>\n",
       "      <th>slope</th>\n",
       "      <td>-0.17</td>\n",
       "      <td>-0.03</td>\n",
       "      <td>0.12</td>\n",
       "      <td>-0.12</td>\n",
       "      <td>-0.00</td>\n",
       "      <td>-0.06</td>\n",
       "      <td>0.09</td>\n",
       "      <td>0.39</td>\n",
       "      <td>-0.26</td>\n",
       "      <td>-0.58</td>\n",
       "      <td>1.00</td>\n",
       "      <td>-0.08</td>\n",
       "      <td>-0.10</td>\n",
       "      <td>0.35</td>\n",
       "    </tr>\n",
       "    <tr>\n",
       "      <th>restecg</th>\n",
       "      <td>-0.12</td>\n",
       "      <td>-0.06</td>\n",
       "      <td>0.04</td>\n",
       "      <td>-0.11</td>\n",
       "      <td>-0.15</td>\n",
       "      <td>-0.08</td>\n",
       "      <td>1.00</td>\n",
       "      <td>0.04</td>\n",
       "      <td>-0.07</td>\n",
       "      <td>-0.06</td>\n",
       "      <td>0.09</td>\n",
       "      <td>-0.07</td>\n",
       "      <td>-0.01</td>\n",
       "      <td>0.14</td>\n",
       "    </tr>\n",
       "    <tr>\n",
       "      <th>fbs</th>\n",
       "      <td>0.12</td>\n",
       "      <td>0.05</td>\n",
       "      <td>0.09</td>\n",
       "      <td>0.18</td>\n",
       "      <td>0.01</td>\n",
       "      <td>1.00</td>\n",
       "      <td>-0.08</td>\n",
       "      <td>-0.01</td>\n",
       "      <td>0.03</td>\n",
       "      <td>0.01</td>\n",
       "      <td>-0.06</td>\n",
       "      <td>0.14</td>\n",
       "      <td>-0.03</td>\n",
       "      <td>-0.03</td>\n",
       "    </tr>\n",
       "    <tr>\n",
       "      <th>chol</th>\n",
       "      <td>0.21</td>\n",
       "      <td>-0.20</td>\n",
       "      <td>-0.08</td>\n",
       "      <td>0.12</td>\n",
       "      <td>1.00</td>\n",
       "      <td>0.01</td>\n",
       "      <td>-0.15</td>\n",
       "      <td>-0.01</td>\n",
       "      <td>0.07</td>\n",
       "      <td>0.05</td>\n",
       "      <td>-0.00</td>\n",
       "      <td>0.07</td>\n",
       "      <td>0.10</td>\n",
       "      <td>-0.09</td>\n",
       "    </tr>\n",
       "    <tr>\n",
       "      <th>trestbps</th>\n",
       "      <td>0.28</td>\n",
       "      <td>-0.06</td>\n",
       "      <td>0.05</td>\n",
       "      <td>1.00</td>\n",
       "      <td>0.12</td>\n",
       "      <td>0.18</td>\n",
       "      <td>-0.11</td>\n",
       "      <td>-0.05</td>\n",
       "      <td>0.07</td>\n",
       "      <td>0.19</td>\n",
       "      <td>-0.12</td>\n",
       "      <td>0.10</td>\n",
       "      <td>0.06</td>\n",
       "      <td>-0.14</td>\n",
       "    </tr>\n",
       "    <tr>\n",
       "      <th>age</th>\n",
       "      <td>1.00</td>\n",
       "      <td>-0.10</td>\n",
       "      <td>-0.07</td>\n",
       "      <td>0.28</td>\n",
       "      <td>0.21</td>\n",
       "      <td>0.12</td>\n",
       "      <td>-0.12</td>\n",
       "      <td>-0.40</td>\n",
       "      <td>0.10</td>\n",
       "      <td>0.21</td>\n",
       "      <td>-0.17</td>\n",
       "      <td>0.28</td>\n",
       "      <td>0.07</td>\n",
       "      <td>-0.23</td>\n",
       "    </tr>\n",
       "    <tr>\n",
       "      <th>sex</th>\n",
       "      <td>-0.10</td>\n",
       "      <td>1.00</td>\n",
       "      <td>-0.05</td>\n",
       "      <td>-0.06</td>\n",
       "      <td>-0.20</td>\n",
       "      <td>0.05</td>\n",
       "      <td>-0.06</td>\n",
       "      <td>-0.04</td>\n",
       "      <td>0.14</td>\n",
       "      <td>0.10</td>\n",
       "      <td>-0.03</td>\n",
       "      <td>0.12</td>\n",
       "      <td>0.21</td>\n",
       "      <td>-0.28</td>\n",
       "    </tr>\n",
       "    <tr>\n",
       "      <th>thal</th>\n",
       "      <td>0.07</td>\n",
       "      <td>0.21</td>\n",
       "      <td>-0.16</td>\n",
       "      <td>0.06</td>\n",
       "      <td>0.10</td>\n",
       "      <td>-0.03</td>\n",
       "      <td>-0.01</td>\n",
       "      <td>-0.10</td>\n",
       "      <td>0.21</td>\n",
       "      <td>0.21</td>\n",
       "      <td>-0.10</td>\n",
       "      <td>0.15</td>\n",
       "      <td>1.00</td>\n",
       "      <td>-0.34</td>\n",
       "    </tr>\n",
       "    <tr>\n",
       "      <th>ca</th>\n",
       "      <td>0.28</td>\n",
       "      <td>0.12</td>\n",
       "      <td>-0.18</td>\n",
       "      <td>0.10</td>\n",
       "      <td>0.07</td>\n",
       "      <td>0.14</td>\n",
       "      <td>-0.07</td>\n",
       "      <td>-0.21</td>\n",
       "      <td>0.12</td>\n",
       "      <td>0.22</td>\n",
       "      <td>-0.08</td>\n",
       "      <td>1.00</td>\n",
       "      <td>0.15</td>\n",
       "      <td>-0.39</td>\n",
       "    </tr>\n",
       "    <tr>\n",
       "      <th>oldpeak</th>\n",
       "      <td>0.21</td>\n",
       "      <td>0.10</td>\n",
       "      <td>-0.15</td>\n",
       "      <td>0.19</td>\n",
       "      <td>0.05</td>\n",
       "      <td>0.01</td>\n",
       "      <td>-0.06</td>\n",
       "      <td>-0.34</td>\n",
       "      <td>0.29</td>\n",
       "      <td>1.00</td>\n",
       "      <td>-0.58</td>\n",
       "      <td>0.22</td>\n",
       "      <td>0.21</td>\n",
       "      <td>-0.43</td>\n",
       "    </tr>\n",
       "    <tr>\n",
       "      <th>exang</th>\n",
       "      <td>0.10</td>\n",
       "      <td>0.14</td>\n",
       "      <td>-0.39</td>\n",
       "      <td>0.07</td>\n",
       "      <td>0.07</td>\n",
       "      <td>0.03</td>\n",
       "      <td>-0.07</td>\n",
       "      <td>-0.38</td>\n",
       "      <td>1.00</td>\n",
       "      <td>0.29</td>\n",
       "      <td>-0.26</td>\n",
       "      <td>0.12</td>\n",
       "      <td>0.21</td>\n",
       "      <td>-0.44</td>\n",
       "    </tr>\n",
       "  </tbody>\n",
       "</table>\n",
       "</div>"
      ],
      "text/plain": [
       "           age   sex    cp  trestbps   ...    slope    ca  thal  target\n",
       "target   -0.23 -0.28  0.43     -0.14   ...     0.35 -0.39 -0.34    1.00\n",
       "cp       -0.07 -0.05  1.00      0.05   ...     0.12 -0.18 -0.16    0.43\n",
       "thalach  -0.40 -0.04  0.30     -0.05   ...     0.39 -0.21 -0.10    0.42\n",
       "slope    -0.17 -0.03  0.12     -0.12   ...     1.00 -0.08 -0.10    0.35\n",
       "restecg  -0.12 -0.06  0.04     -0.11   ...     0.09 -0.07 -0.01    0.14\n",
       "fbs       0.12  0.05  0.09      0.18   ...    -0.06  0.14 -0.03   -0.03\n",
       "chol      0.21 -0.20 -0.08      0.12   ...    -0.00  0.07  0.10   -0.09\n",
       "trestbps  0.28 -0.06  0.05      1.00   ...    -0.12  0.10  0.06   -0.14\n",
       "age       1.00 -0.10 -0.07      0.28   ...    -0.17  0.28  0.07   -0.23\n",
       "sex      -0.10  1.00 -0.05     -0.06   ...    -0.03  0.12  0.21   -0.28\n",
       "thal      0.07  0.21 -0.16      0.06   ...    -0.10  0.15  1.00   -0.34\n",
       "ca        0.28  0.12 -0.18      0.10   ...    -0.08  1.00  0.15   -0.39\n",
       "oldpeak   0.21  0.10 -0.15      0.19   ...    -0.58  0.22  0.21   -0.43\n",
       "exang     0.10  0.14 -0.39      0.07   ...    -0.26  0.12  0.21   -0.44\n",
       "\n",
       "[14 rows x 14 columns]"
      ]
     },
     "execution_count": 8,
     "metadata": {},
     "output_type": "execute_result"
    }
   ],
   "source": [
    "pearsonMatrix=pd.DataFrame(np.round(original.corr(method='pearson'),2))\n",
    "pearsonMatrix.sort_values(by='target',ascending=False)"
   ]
  },
  {
   "cell_type": "markdown",
   "metadata": {
    "_uuid": "5bfd750fc472ea953fcba58f06a411be9e800c9c"
   },
   "source": [
    "## pearson coefficient\n",
    "\n",
    "With this matrix,features:cp.thalach.slope and restecg have positive correlation\n",
    "\n",
    "other features have negative correlation\n",
    "\n",
    "So,Use four features to predict"
   ]
  },
  {
   "cell_type": "markdown",
   "metadata": {
    "_uuid": "450853491236cbd6c219ab2014cb6063be8f6861"
   },
   "source": [
    "## predict-using SVC"
   ]
  },
  {
   "cell_type": "code",
   "execution_count": 9,
   "metadata": {
    "_uuid": "bafd938efeefdb5b2a9a37555000645300748065"
   },
   "outputs": [
    {
     "name": "stdout",
     "output_type": "stream",
     "text": [
      "   cp  thalach  slope  restecg\n",
      "0   3      150      0        0\n",
      "1   2      187      0        1\n",
      "2   1      172      2        0\n",
      "3   1      178      2        1\n",
      "4   0      163      2        1\n"
     ]
    }
   ],
   "source": [
    "features=original.loc[:,['cp','thalach','slope','restecg']]\n",
    "print(features.head())"
   ]
  },
  {
   "cell_type": "code",
   "execution_count": 10,
   "metadata": {
    "_uuid": "c8558a4cc3c24c1b4826fa185b3d9e1067bd9b30"
   },
   "outputs": [
    {
     "name": "stderr",
     "output_type": "stream",
     "text": [
      "/opt/conda/lib/python3.6/site-packages/sklearn/model_selection/_split.py:2179: FutureWarning: From version 0.21, test_size will always complement train_size unless both are specified.\n",
      "  FutureWarning)\n"
     ]
    }
   ],
   "source": [
    "dataTrain,dataTest, \\\n",
    "targetTrain,targetTest = \\\n",
    "train_test_split(features,target,train_size=0.8)"
   ]
  },
  {
   "cell_type": "code",
   "execution_count": 11,
   "metadata": {
    "_uuid": "127e7908420bee0e9e09d594a7bffbcd229536ce"
   },
   "outputs": [
    {
     "name": "stderr",
     "output_type": "stream",
     "text": [
      "/opt/conda/lib/python3.6/site-packages/sklearn/svm/base.py:196: FutureWarning: The default value of gamma will change from 'auto' to 'scale' in version 0.22 to account better for unscaled features. Set gamma explicitly to 'auto' or 'scale' to avoid this warning.\n",
      "  \"avoid this warning.\", FutureWarning)\n"
     ]
    }
   ],
   "source": [
    "heartSVC=SVC().fit(dataTrain,targetTrain)"
   ]
  },
  {
   "cell_type": "code",
   "execution_count": 12,
   "metadata": {
    "_uuid": "469dc4b7a2209955ea3902aa3d22ccc30db75012"
   },
   "outputs": [
    {
     "data": {
      "text/plain": [
       "SVC(C=1.0, cache_size=200, class_weight=None, coef0=0.0,\n",
       "  decision_function_shape='ovr', degree=3, gamma='auto_deprecated',\n",
       "  kernel='rbf', max_iter=-1, probability=False, random_state=None,\n",
       "  shrinking=True, tol=0.001, verbose=False)"
      ]
     },
     "execution_count": 12,
     "metadata": {},
     "output_type": "execute_result"
    }
   ],
   "source": [
    "heartSVC"
   ]
  },
  {
   "cell_type": "code",
   "execution_count": 13,
   "metadata": {
    "_uuid": "2d448b82600c8fc79743d8ed7ec0a965640fe35f"
   },
   "outputs": [],
   "source": [
    "pre=heartSVC.predict(dataTrain)"
   ]
  },
  {
   "cell_type": "code",
   "execution_count": 14,
   "metadata": {
    "_uuid": "dbb435a1bb86e6e0dc8b5d61265ba29e8f4cf0fe"
   },
   "outputs": [
    {
     "name": "stdout",
     "output_type": "stream",
     "text": [
      "              precision    recall  f1-score   support\n",
      "\n",
      "           0       0.87      0.78      0.82       110\n",
      "           1       0.83      0.90      0.87       132\n",
      "\n",
      "   micro avg       0.85      0.85      0.85       242\n",
      "   macro avg       0.85      0.84      0.84       242\n",
      "weighted avg       0.85      0.85      0.85       242\n",
      "\n"
     ]
    }
   ],
   "source": [
    "print(classification_report(targetTrain,pre))"
   ]
  },
  {
   "cell_type": "code",
   "execution_count": 15,
   "metadata": {
    "_uuid": "e2665ae6c8dc94c859a1495848c5db4dbefede95"
   },
   "outputs": [
    {
     "name": "stdout",
     "output_type": "stream",
     "text": [
      "              precision    recall  f1-score   support\n",
      "\n",
      "           0       0.88      0.50      0.64        28\n",
      "           1       0.69      0.94      0.79        33\n",
      "\n",
      "   micro avg       0.74      0.74      0.74        61\n",
      "   macro avg       0.78      0.72      0.72        61\n",
      "weighted avg       0.77      0.74      0.72        61\n",
      "\n"
     ]
    }
   ],
   "source": [
    "predict=heartSVC.predict(dataTest)\n",
    "print(classification_report(targetTest,predict))"
   ]
  },
  {
   "cell_type": "markdown",
   "metadata": {
    "_uuid": "57347aa16de75a740f69bcedad3311e807d39dfb"
   },
   "source": [
    "## predict-using GBC"
   ]
  },
  {
   "cell_type": "code",
   "execution_count": 16,
   "metadata": {
    "_uuid": "8d8663790c4ea0e4eda73e836ca7b81e4ed1b69b"
   },
   "outputs": [],
   "source": [
    "heartGBC=GBC(max_depth=2)"
   ]
  },
  {
   "cell_type": "code",
   "execution_count": 17,
   "metadata": {
    "_uuid": "7c2512581636013a6996461770344dee8e3dbe77"
   },
   "outputs": [
    {
     "data": {
      "text/plain": [
       "GradientBoostingClassifier(criterion='friedman_mse', init=None,\n",
       "              learning_rate=0.1, loss='deviance', max_depth=2,\n",
       "              max_features=None, max_leaf_nodes=None,\n",
       "              min_impurity_decrease=0.0, min_impurity_split=None,\n",
       "              min_samples_leaf=1, min_samples_split=2,\n",
       "              min_weight_fraction_leaf=0.0, n_estimators=100,\n",
       "              n_iter_no_change=None, presort='auto', random_state=None,\n",
       "              subsample=1.0, tol=0.0001, validation_fraction=0.1,\n",
       "              verbose=0, warm_start=False)"
      ]
     },
     "execution_count": 17,
     "metadata": {},
     "output_type": "execute_result"
    }
   ],
   "source": [
    "heartGBC.fit(dataTrain,targetTrain)"
   ]
  },
  {
   "cell_type": "code",
   "execution_count": 18,
   "metadata": {
    "_uuid": "e6821ff76df23f359bc0e175d5ebd44096d06d1c"
   },
   "outputs": [
    {
     "name": "stdout",
     "output_type": "stream",
     "text": [
      "              precision    recall  f1-score   support\n",
      "\n",
      "           0       0.87      0.83      0.85       110\n",
      "           1       0.86      0.89      0.88       132\n",
      "\n",
      "   micro avg       0.86      0.86      0.86       242\n",
      "   macro avg       0.86      0.86      0.86       242\n",
      "weighted avg       0.86      0.86      0.86       242\n",
      "\n"
     ]
    }
   ],
   "source": [
    "Gpre=heartGBC.predict(dataTrain)\n",
    "print(classification_report(targetTrain,Gpre))"
   ]
  },
  {
   "cell_type": "code",
   "execution_count": 19,
   "metadata": {
    "_uuid": "398ad4ee2ce9b6867a0861fdc6952b90970b10ff"
   },
   "outputs": [
    {
     "name": "stdout",
     "output_type": "stream",
     "text": [
      "              precision    recall  f1-score   support\n",
      "\n",
      "           0       0.81      0.46      0.59        28\n",
      "           1       0.67      0.91      0.77        33\n",
      "\n",
      "   micro avg       0.70      0.70      0.70        61\n",
      "   macro avg       0.74      0.69      0.68        61\n",
      "weighted avg       0.73      0.70      0.69        61\n",
      "\n"
     ]
    }
   ],
   "source": [
    "Gpredict=heartGBC.predict(dataTest)\n",
    "print(classification_report(targetTest,Gpredict))"
   ]
  },
  {
   "cell_type": "markdown",
   "metadata": {
    "_uuid": "97fffaa52a184aacd07669625ca1dadc74627fda"
   },
   "source": [
    "## predict\n",
    "\n",
    "With using GradientBoostingClassifier and SVC,\n",
    "\n",
    "GradientBoostingClassifier predict test data's f1-score is better than SVC\n",
    "\n",
    "So use GradientBoostingClassifier may be better than SVC\n",
    "\n"
   ]
  },
  {
   "cell_type": "code",
   "execution_count": 20,
   "metadata": {
    "_uuid": "5db6c2b9c2e3dd2d25361b5717b19691b598a215"
   },
   "outputs": [],
   "source": []
  }
 ],
 "metadata": {
  "kernelspec": {
   "display_name": "Python 3",
   "language": "python",
   "name": "python3"
  },
  "language_info": {
   "codemirror_mode": {
    "name": "ipython",
    "version": 3
   },
   "file_extension": ".py",
   "mimetype": "text/x-python",
   "name": "python",
   "nbconvert_exporter": "python",
   "pygments_lexer": "ipython3",
   "version": "3.6.6"
  }
 },
 "nbformat": 4,
 "nbformat_minor": 1
}
