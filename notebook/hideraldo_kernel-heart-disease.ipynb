{
 "cells": [
  {
   "cell_type": "markdown",
   "metadata": {},
   "source": [
    "# Diagnosing Heart Disease"
   ]
  },
  {
   "cell_type": "markdown",
   "metadata": {},
   "source": [
    "## Database contains 76 attributes where we have found any other trends in the heart data to predict certain cardiovascular events or find any clear indications of heart health."
   ]
  },
  {
   "cell_type": "code",
   "execution_count": 1,
   "metadata": {},
   "outputs": [],
   "source": [
    "import numpy as np\n",
    "import pandas as pd\n",
    "import seaborn as sns\n",
    "import matplotlib.pyplot as plt"
   ]
  },
  {
   "cell_type": "markdown",
   "metadata": {},
   "source": [
    "### Upload data"
   ]
  },
  {
   "cell_type": "code",
   "execution_count": 2,
   "metadata": {},
   "outputs": [],
   "source": [
    "dt = pd.read_csv(\"../input/heart.csv\")"
   ]
  },
  {
   "cell_type": "markdown",
   "metadata": {},
   "source": [
    "### Show the first ten attributes."
   ]
  },
  {
   "cell_type": "code",
   "execution_count": 3,
   "metadata": {},
   "outputs": [
    {
     "data": {
      "text/html": [
       "<div>\n",
       "<style scoped>\n",
       "    .dataframe tbody tr th:only-of-type {\n",
       "        vertical-align: middle;\n",
       "    }\n",
       "\n",
       "    .dataframe tbody tr th {\n",
       "        vertical-align: top;\n",
       "    }\n",
       "\n",
       "    .dataframe thead th {\n",
       "        text-align: right;\n",
       "    }\n",
       "</style>\n",
       "<table border=\"1\" class=\"dataframe\">\n",
       "  <thead>\n",
       "    <tr style=\"text-align: right;\">\n",
       "      <th></th>\n",
       "      <th>age</th>\n",
       "      <th>sex</th>\n",
       "      <th>cp</th>\n",
       "      <th>trestbps</th>\n",
       "      <th>chol</th>\n",
       "      <th>fbs</th>\n",
       "      <th>restecg</th>\n",
       "      <th>thalach</th>\n",
       "      <th>exang</th>\n",
       "      <th>oldpeak</th>\n",
       "      <th>slope</th>\n",
       "      <th>ca</th>\n",
       "      <th>thal</th>\n",
       "      <th>target</th>\n",
       "    </tr>\n",
       "  </thead>\n",
       "  <tbody>\n",
       "    <tr>\n",
       "      <th>0</th>\n",
       "      <td>63</td>\n",
       "      <td>1</td>\n",
       "      <td>3</td>\n",
       "      <td>145</td>\n",
       "      <td>233</td>\n",
       "      <td>1</td>\n",
       "      <td>0</td>\n",
       "      <td>150</td>\n",
       "      <td>0</td>\n",
       "      <td>2.3</td>\n",
       "      <td>0</td>\n",
       "      <td>0</td>\n",
       "      <td>1</td>\n",
       "      <td>1</td>\n",
       "    </tr>\n",
       "    <tr>\n",
       "      <th>1</th>\n",
       "      <td>37</td>\n",
       "      <td>1</td>\n",
       "      <td>2</td>\n",
       "      <td>130</td>\n",
       "      <td>250</td>\n",
       "      <td>0</td>\n",
       "      <td>1</td>\n",
       "      <td>187</td>\n",
       "      <td>0</td>\n",
       "      <td>3.5</td>\n",
       "      <td>0</td>\n",
       "      <td>0</td>\n",
       "      <td>2</td>\n",
       "      <td>1</td>\n",
       "    </tr>\n",
       "    <tr>\n",
       "      <th>2</th>\n",
       "      <td>41</td>\n",
       "      <td>0</td>\n",
       "      <td>1</td>\n",
       "      <td>130</td>\n",
       "      <td>204</td>\n",
       "      <td>0</td>\n",
       "      <td>0</td>\n",
       "      <td>172</td>\n",
       "      <td>0</td>\n",
       "      <td>1.4</td>\n",
       "      <td>2</td>\n",
       "      <td>0</td>\n",
       "      <td>2</td>\n",
       "      <td>1</td>\n",
       "    </tr>\n",
       "    <tr>\n",
       "      <th>3</th>\n",
       "      <td>56</td>\n",
       "      <td>1</td>\n",
       "      <td>1</td>\n",
       "      <td>120</td>\n",
       "      <td>236</td>\n",
       "      <td>0</td>\n",
       "      <td>1</td>\n",
       "      <td>178</td>\n",
       "      <td>0</td>\n",
       "      <td>0.8</td>\n",
       "      <td>2</td>\n",
       "      <td>0</td>\n",
       "      <td>2</td>\n",
       "      <td>1</td>\n",
       "    </tr>\n",
       "    <tr>\n",
       "      <th>4</th>\n",
       "      <td>57</td>\n",
       "      <td>0</td>\n",
       "      <td>0</td>\n",
       "      <td>120</td>\n",
       "      <td>354</td>\n",
       "      <td>0</td>\n",
       "      <td>1</td>\n",
       "      <td>163</td>\n",
       "      <td>1</td>\n",
       "      <td>0.6</td>\n",
       "      <td>2</td>\n",
       "      <td>0</td>\n",
       "      <td>2</td>\n",
       "      <td>1</td>\n",
       "    </tr>\n",
       "    <tr>\n",
       "      <th>5</th>\n",
       "      <td>57</td>\n",
       "      <td>1</td>\n",
       "      <td>0</td>\n",
       "      <td>140</td>\n",
       "      <td>192</td>\n",
       "      <td>0</td>\n",
       "      <td>1</td>\n",
       "      <td>148</td>\n",
       "      <td>0</td>\n",
       "      <td>0.4</td>\n",
       "      <td>1</td>\n",
       "      <td>0</td>\n",
       "      <td>1</td>\n",
       "      <td>1</td>\n",
       "    </tr>\n",
       "    <tr>\n",
       "      <th>6</th>\n",
       "      <td>56</td>\n",
       "      <td>0</td>\n",
       "      <td>1</td>\n",
       "      <td>140</td>\n",
       "      <td>294</td>\n",
       "      <td>0</td>\n",
       "      <td>0</td>\n",
       "      <td>153</td>\n",
       "      <td>0</td>\n",
       "      <td>1.3</td>\n",
       "      <td>1</td>\n",
       "      <td>0</td>\n",
       "      <td>2</td>\n",
       "      <td>1</td>\n",
       "    </tr>\n",
       "    <tr>\n",
       "      <th>7</th>\n",
       "      <td>44</td>\n",
       "      <td>1</td>\n",
       "      <td>1</td>\n",
       "      <td>120</td>\n",
       "      <td>263</td>\n",
       "      <td>0</td>\n",
       "      <td>1</td>\n",
       "      <td>173</td>\n",
       "      <td>0</td>\n",
       "      <td>0.0</td>\n",
       "      <td>2</td>\n",
       "      <td>0</td>\n",
       "      <td>3</td>\n",
       "      <td>1</td>\n",
       "    </tr>\n",
       "    <tr>\n",
       "      <th>8</th>\n",
       "      <td>52</td>\n",
       "      <td>1</td>\n",
       "      <td>2</td>\n",
       "      <td>172</td>\n",
       "      <td>199</td>\n",
       "      <td>1</td>\n",
       "      <td>1</td>\n",
       "      <td>162</td>\n",
       "      <td>0</td>\n",
       "      <td>0.5</td>\n",
       "      <td>2</td>\n",
       "      <td>0</td>\n",
       "      <td>3</td>\n",
       "      <td>1</td>\n",
       "    </tr>\n",
       "    <tr>\n",
       "      <th>9</th>\n",
       "      <td>57</td>\n",
       "      <td>1</td>\n",
       "      <td>2</td>\n",
       "      <td>150</td>\n",
       "      <td>168</td>\n",
       "      <td>0</td>\n",
       "      <td>1</td>\n",
       "      <td>174</td>\n",
       "      <td>0</td>\n",
       "      <td>1.6</td>\n",
       "      <td>2</td>\n",
       "      <td>0</td>\n",
       "      <td>2</td>\n",
       "      <td>1</td>\n",
       "    </tr>\n",
       "  </tbody>\n",
       "</table>\n",
       "</div>"
      ],
      "text/plain": [
       "   age  sex  cp  trestbps  chol   ...    oldpeak  slope  ca  thal  target\n",
       "0   63    1   3       145   233   ...        2.3      0   0     1       1\n",
       "1   37    1   2       130   250   ...        3.5      0   0     2       1\n",
       "2   41    0   1       130   204   ...        1.4      2   0     2       1\n",
       "3   56    1   1       120   236   ...        0.8      2   0     2       1\n",
       "4   57    0   0       120   354   ...        0.6      2   0     2       1\n",
       "5   57    1   0       140   192   ...        0.4      1   0     1       1\n",
       "6   56    0   1       140   294   ...        1.3      1   0     2       1\n",
       "7   44    1   1       120   263   ...        0.0      2   0     3       1\n",
       "8   52    1   2       172   199   ...        0.5      2   0     3       1\n",
       "9   57    1   2       150   168   ...        1.6      2   0     2       1\n",
       "\n",
       "[10 rows x 14 columns]"
      ]
     },
     "execution_count": 3,
     "metadata": {},
     "output_type": "execute_result"
    }
   ],
   "source": [
    "dt.head(10)"
   ]
  },
  {
   "cell_type": "markdown",
   "metadata": {},
   "source": [
    "### Types of data."
   ]
  },
  {
   "cell_type": "code",
   "execution_count": 4,
   "metadata": {},
   "outputs": [
    {
     "data": {
      "text/plain": [
       "age           int64\n",
       "sex           int64\n",
       "cp            int64\n",
       "trestbps      int64\n",
       "chol          int64\n",
       "fbs           int64\n",
       "restecg       int64\n",
       "thalach       int64\n",
       "exang         int64\n",
       "oldpeak     float64\n",
       "slope         int64\n",
       "ca            int64\n",
       "thal          int64\n",
       "target        int64\n",
       "dtype: object"
      ]
     },
     "execution_count": 4,
     "metadata": {},
     "output_type": "execute_result"
    }
   ],
   "source": [
    "dt.dtypes"
   ]
  },
  {
   "cell_type": "markdown",
   "metadata": {},
   "source": [
    "### we separate the predicts"
   ]
  },
  {
   "cell_type": "code",
   "execution_count": 5,
   "metadata": {},
   "outputs": [],
   "source": [
    "predicts = dt.iloc[:, 0:13].values"
   ]
  },
  {
   "cell_type": "markdown",
   "metadata": {},
   "source": [
    "### we separate the class"
   ]
  },
  {
   "cell_type": "code",
   "execution_count": 6,
   "metadata": {},
   "outputs": [],
   "source": [
    "cla = dt.iloc[:,13].values"
   ]
  },
  {
   "cell_type": "markdown",
   "metadata": {},
   "source": [
    "### Training"
   ]
  },
  {
   "cell_type": "code",
   "execution_count": 7,
   "metadata": {},
   "outputs": [],
   "source": [
    "from sklearn.model_selection import train_test_split\n",
    "predicts_train, predicts_test, class_train, class_test = train_test_split(predicts, cla, test_size=0.2, random_state=42)"
   ]
  },
  {
   "cell_type": "markdown",
   "metadata": {},
   "source": [
    "# Naive Bayes"
   ]
  },
  {
   "cell_type": "code",
   "execution_count": 8,
   "metadata": {},
   "outputs": [],
   "source": [
    "from sklearn.naive_bayes import GaussianNB\n",
    "classifier_NB = GaussianNB()\n",
    "classifier_NB.fit(predicts_train, class_train)\n",
    "predicts_NB = classifier_NB.predict(predicts_test)"
   ]
  },
  {
   "cell_type": "markdown",
   "metadata": {},
   "source": [
    "### Confusion table Naive Bayes"
   ]
  },
  {
   "cell_type": "code",
   "execution_count": 9,
   "metadata": {},
   "outputs": [],
   "source": [
    "from sklearn.metrics import confusion_matrix, accuracy_score\n",
    "predict_NB = accuracy_score(class_test, predicts_NB)"
   ]
  },
  {
   "cell_type": "code",
   "execution_count": 10,
   "metadata": {},
   "outputs": [],
   "source": [
    "matriz_NB = confusion_matrix(class_test, predicts_NB)"
   ]
  },
  {
   "cell_type": "code",
   "execution_count": 11,
   "metadata": {},
   "outputs": [
    {
     "data": {
      "text/plain": [
       "<matplotlib.axes._subplots.AxesSubplot at 0x7fecb99ddf28>"
      ]
     },
     "execution_count": 11,
     "metadata": {},
     "output_type": "execute_result"
    },
    {
     "data": {
      "image/png": "[encoded data removed]",
      "text/plain": [
       "<Figure size 432x288 with 1 Axes>"
      ]
     },
     "metadata": {},
     "output_type": "display_data"
    }
   ],
   "source": [
    "plt.title(\"Naive Bayes Confusion Matrix\")\n",
    "sns.heatmap(matriz_NB,annot=True,cmap=\"Blues\",fmt=\"d\",cbar=False)"
   ]
  },
  {
   "cell_type": "markdown",
   "metadata": {},
   "source": [
    "### Result Naive Bayes"
   ]
  },
  {
   "cell_type": "code",
   "execution_count": 12,
   "metadata": {},
   "outputs": [
    {
     "name": "stdout",
     "output_type": "stream",
     "text": [
      "0.8688524590163934\n"
     ]
    }
   ],
   "source": [
    "print(predict_NB)"
   ]
  },
  {
   "cell_type": "markdown",
   "metadata": {},
   "source": [
    "# Tree Classifier"
   ]
  },
  {
   "cell_type": "code",
   "execution_count": 13,
   "metadata": {},
   "outputs": [],
   "source": [
    "from sklearn.tree import DecisionTreeClassifier\n",
    "classifier_Tree = DecisionTreeClassifier(criterion= 'entropy', random_state=0)\n",
    "classifier_Tree.fit(predicts_train, class_train)\n",
    "predicts_Tree = classifier_Tree.predict(predicts_test)"
   ]
  },
  {
   "cell_type": "markdown",
   "metadata": {},
   "source": [
    "### Confusion table Tree Classifier"
   ]
  },
  {
   "cell_type": "code",
   "execution_count": 14,
   "metadata": {},
   "outputs": [],
   "source": [
    "predict_Tree = accuracy_score(class_test, predicts_Tree)"
   ]
  },
  {
   "cell_type": "code",
   "execution_count": 15,
   "metadata": {},
   "outputs": [],
   "source": [
    "matriz_Tree = confusion_matrix(class_test, predicts_Tree)"
   ]
  },
  {
   "cell_type": "code",
   "execution_count": 16,
   "metadata": {},
   "outputs": [
    {
     "data": {
      "text/plain": [
       "<matplotlib.axes._subplots.AxesSubplot at 0x7fecac9a9240>"
      ]
     },
     "execution_count": 16,
     "metadata": {},
     "output_type": "execute_result"
    },
    {
     "data": {
      "image/png": "[encoded data removed]",
      "text/plain": [
       "<Figure size 432x288 with 1 Axes>"
      ]
     },
     "metadata": {},
     "output_type": "display_data"
    }
   ],
   "source": [
    "plt.title(\"Decision Tree Classifier Confusion Matrix\")\n",
    "sns.heatmap(matriz_Tree,annot=True,cmap=\"Greens\",fmt=\"d\",cbar=False)"
   ]
  },
  {
   "cell_type": "markdown",
   "metadata": {},
   "source": [
    "### Result Tree Classifier"
   ]
  },
  {
   "cell_type": "code",
   "execution_count": 17,
   "metadata": {},
   "outputs": [
    {
     "name": "stdout",
     "output_type": "stream",
     "text": [
      "0.819672131147541\n"
     ]
    }
   ],
   "source": [
    "print(predict_Tree)"
   ]
  },
  {
   "cell_type": "markdown",
   "metadata": {},
   "source": [
    "# Random Forest"
   ]
  },
  {
   "cell_type": "code",
   "execution_count": 18,
   "metadata": {},
   "outputs": [],
   "source": [
    "from sklearn.ensemble import RandomForestClassifier\n",
    "classifier_RF = RandomForestClassifier(n_estimators=10, criterion= 'entropy', random_state=0)\n",
    "classifier_RF.fit(predicts_train, class_train)\n",
    "predicts_RF= classifier_RF.predict(predicts_test)"
   ]
  },
  {
   "cell_type": "markdown",
   "metadata": {},
   "source": [
    "### Confusion table Random Forest"
   ]
  },
  {
   "cell_type": "code",
   "execution_count": 19,
   "metadata": {},
   "outputs": [],
   "source": [
    "predict_RF = accuracy_score(class_test, predicts_RF)"
   ]
  },
  {
   "cell_type": "code",
   "execution_count": 20,
   "metadata": {},
   "outputs": [],
   "source": [
    "matriz_RF = confusion_matrix(class_test, predicts_RF)"
   ]
  },
  {
   "cell_type": "code",
   "execution_count": 21,
   "metadata": {},
   "outputs": [
    {
     "data": {
      "text/plain": [
       "<matplotlib.axes._subplots.AxesSubplot at 0x7fecac2774a8>"
      ]
     },
     "execution_count": 21,
     "metadata": {},
     "output_type": "execute_result"
    },
    {
     "data": {
      "image/png": "[encoded data removed]",
      "text/plain": [
       "<Figure size 432x288 with 1 Axes>"
      ]
     },
     "metadata": {},
     "output_type": "display_data"
    }
   ],
   "source": [
    "plt.title(\"Random Forest Confusion Matrix\")\n",
    "sns.heatmap(matriz_RF,annot=True,cmap=\"Reds\",fmt=\"d\",cbar=False)"
   ]
  },
  {
   "cell_type": "markdown",
   "metadata": {},
   "source": [
    "### Result Random Forest"
   ]
  },
  {
   "cell_type": "code",
   "execution_count": 22,
   "metadata": {},
   "outputs": [
    {
     "name": "stdout",
     "output_type": "stream",
     "text": [
      "0.8524590163934426\n"
     ]
    }
   ],
   "source": [
    "print(predict_RF)"
   ]
  },
  {
   "cell_type": "markdown",
   "metadata": {},
   "source": [
    "# KNN"
   ]
  },
  {
   "cell_type": "markdown",
   "metadata": {},
   "source": [
    "### OneHotEncoder"
   ]
  },
  {
   "cell_type": "code",
   "execution_count": 23,
   "metadata": {},
   "outputs": [],
   "source": [
    "predicts_enc = dt.iloc[:, 0:13].values"
   ]
  },
  {
   "cell_type": "code",
   "execution_count": 24,
   "metadata": {},
   "outputs": [],
   "source": [
    "cla_enc = dt.iloc[:,13].values"
   ]
  },
  {
   "cell_type": "code",
   "execution_count": 25,
   "metadata": {},
   "outputs": [],
   "source": [
    "from sklearn.preprocessing import LabelEncoder, OneHotEncoder, StandardScaler\n",
    "labelencoder_predicts = LabelEncoder()\n",
    "predicts_enc[:,1] =  labelencoder_predicts.fit_transform(predicts_enc[:,1])\n",
    "predicts_enc[:,2] =  labelencoder_predicts.fit_transform(predicts_enc[:,2])\n",
    "predicts_enc[:,3] =  labelencoder_predicts.fit_transform(predicts_enc[:,3])\n",
    "predicts_enc[:,4] =  labelencoder_predicts.fit_transform(predicts_enc[:,4])\n",
    "predicts_enc[:,5] =  labelencoder_predicts.fit_transform(predicts_enc[:,5])\n",
    "predicts_enc[:,6] =  labelencoder_predicts.fit_transform(predicts_enc[:,6])\n",
    "predicts_enc[:,7] =  labelencoder_predicts.fit_transform(predicts_enc[:,7])\n",
    "predicts_enc[:,8] =  labelencoder_predicts.fit_transform(predicts_enc[:,8])\n",
    "predicts_enc[:,9] =  labelencoder_predicts.fit_transform(predicts_enc[:,9])\n",
    "predicts_enc[:,10] =  labelencoder_predicts.fit_transform(predicts_enc[:,10])\n",
    "predicts_enc[:,11] =  labelencoder_predicts.fit_transform(predicts_enc[:,11])\n",
    "predicts_enc[:,12] =  labelencoder_predicts.fit_transform(predicts_enc[:,12])"
   ]
  },
  {
   "cell_type": "code",
   "execution_count": 26,
   "metadata": {},
   "outputs": [],
   "source": [
    "onehotencode = OneHotEncoder(categories='auto')\n",
    "predicts_enc = onehotencode.fit_transform(predicts_enc).toarray()"
   ]
  },
  {
   "cell_type": "code",
   "execution_count": 27,
   "metadata": {},
   "outputs": [],
   "source": [
    "labelencoder_cla_enc = LabelEncoder()\n",
    "cla_enc = labelencoder_cla_enc.fit_transform(cla_enc)"
   ]
  },
  {
   "cell_type": "markdown",
   "metadata": {},
   "source": [
    "### Training LabelEncoder"
   ]
  },
  {
   "cell_type": "code",
   "execution_count": 28,
   "metadata": {},
   "outputs": [],
   "source": [
    "predicts_train_enc, predicts_test_enc, class_train_enc, class_test_enc = train_test_split(predicts_enc, cla_enc, test_size=0.2, random_state=42)"
   ]
  },
  {
   "cell_type": "code",
   "execution_count": 29,
   "metadata": {},
   "outputs": [],
   "source": [
    "from sklearn.neighbors import KNeighborsClassifier\n",
    "classifier_KNN = KNeighborsClassifier(n_neighbors=5, metric='minkowski', p=2)\n",
    "classifier_KNN.fit(predicts_train_enc, class_train_enc)\n",
    "predicts_KNN = classifier_KNN.predict(predicts_test_enc)"
   ]
  },
  {
   "cell_type": "markdown",
   "metadata": {},
   "source": [
    "### Confusion table KNN"
   ]
  },
  {
   "cell_type": "code",
   "execution_count": 30,
   "metadata": {},
   "outputs": [],
   "source": [
    "predict_KNN = accuracy_score(class_test_enc, predicts_KNN)"
   ]
  },
  {
   "cell_type": "code",
   "execution_count": 31,
   "metadata": {},
   "outputs": [],
   "source": [
    "matriz_KNN = confusion_matrix(class_test_enc, predicts_KNN)"
   ]
  },
  {
   "cell_type": "code",
   "execution_count": 32,
   "metadata": {},
   "outputs": [
    {
     "data": {
      "text/plain": [
       "<matplotlib.axes._subplots.AxesSubplot at 0x7fecac24a860>"
      ]
     },
     "execution_count": 32,
     "metadata": {},
     "output_type": "execute_result"
    },
    {
     "data": {
      "image/png": "[encoded data removed]",
      "text/plain": [
       "<Figure size 432x288 with 1 Axes>"
      ]
     },
     "metadata": {},
     "output_type": "display_data"
    }
   ],
   "source": [
    "plt.title(\"KNN Confusion Matrix\")\n",
    "sns.heatmap(matriz_KNN,annot=True,cmap=\"Purples\",fmt=\"d\",cbar=False)"
   ]
  },
  {
   "cell_type": "markdown",
   "metadata": {},
   "source": [
    "### Result KNN"
   ]
  },
  {
   "cell_type": "code",
   "execution_count": 33,
   "metadata": {},
   "outputs": [
    {
     "name": "stdout",
     "output_type": "stream",
     "text": [
      "0.8688524590163934\n"
     ]
    }
   ],
   "source": [
    "print(predict_KNN)"
   ]
  },
  {
   "cell_type": "markdown",
   "metadata": {},
   "source": [
    "# Regression (best result using scaling)"
   ]
  },
  {
   "cell_type": "code",
   "execution_count": 34,
   "metadata": {},
   "outputs": [],
   "source": [
    "from sklearn.linear_model import LogisticRegression\n",
    "classifier_Regression = LogisticRegression(solver = 'lbfgs')\n",
    "classifier_Regression.fit(predicts_train_enc, class_train_enc)\n",
    "predicts_Regression = classifier_Regression.predict(predicts_test_enc)"
   ]
  },
  {
   "cell_type": "markdown",
   "metadata": {},
   "source": [
    "### Confusion table Regression"
   ]
  },
  {
   "cell_type": "code",
   "execution_count": 35,
   "metadata": {},
   "outputs": [],
   "source": [
    "predict_Regression = accuracy_score(class_test_enc, predicts_Regression)"
   ]
  },
  {
   "cell_type": "code",
   "execution_count": 36,
   "metadata": {},
   "outputs": [],
   "source": [
    "matriz_Regression = confusion_matrix(class_test_enc, predicts_Regression)"
   ]
  },
  {
   "cell_type": "code",
   "execution_count": 37,
   "metadata": {},
   "outputs": [
    {
     "data": {
      "text/plain": [
       "<matplotlib.axes._subplots.AxesSubplot at 0x7fecaadacb70>"
      ]
     },
     "execution_count": 37,
     "metadata": {},
     "output_type": "execute_result"
    },
    {
     "data": {
      "image/png": "[encoded data removed]",
      "text/plain": [
       "<Figure size 432x288 with 1 Axes>"
      ]
     },
     "metadata": {},
     "output_type": "display_data"
    }
   ],
   "source": [
    "plt.title(\"Regression Confusion Matrix\")\n",
    "sns.heatmap(matriz_Regression,annot=True,cmap=\"Oranges\",fmt=\"d\",cbar=False)"
   ]
  },
  {
   "cell_type": "markdown",
   "metadata": {},
   "source": [
    "### Result Regression"
   ]
  },
  {
   "cell_type": "code",
   "execution_count": 38,
   "metadata": {},
   "outputs": [
    {
     "name": "stdout",
     "output_type": "stream",
     "text": [
      "0.819672131147541\n"
     ]
    }
   ],
   "source": [
    "print(predict_Regression)"
   ]
  },
  {
   "cell_type": "markdown",
   "metadata": {},
   "source": [
    "# SVM (best result using scaling)"
   ]
  },
  {
   "cell_type": "code",
   "execution_count": 39,
   "metadata": {},
   "outputs": [],
   "source": [
    "from sklearn.svm import SVC\n",
    "classifier_SVM = SVC(kernel='linear', random_state=1)\n",
    "classifier_SVM.fit(predicts_train_enc, class_train_enc)\n",
    "predicts_SVM = classifier_Regression.predict(predicts_test_enc)"
   ]
  },
  {
   "cell_type": "markdown",
   "metadata": {},
   "source": [
    "### Confusion table SVM"
   ]
  },
  {
   "cell_type": "code",
   "execution_count": 40,
   "metadata": {},
   "outputs": [],
   "source": [
    "predict_SVM = accuracy_score(class_test_enc, predicts_SVM)"
   ]
  },
  {
   "cell_type": "code",
   "execution_count": 41,
   "metadata": {},
   "outputs": [],
   "source": [
    "matriz_SVM = confusion_matrix(class_test_enc, predicts_SVM)"
   ]
  },
  {
   "cell_type": "code",
   "execution_count": 42,
   "metadata": {},
   "outputs": [
    {
     "data": {
      "text/plain": [
       "<matplotlib.axes._subplots.AxesSubplot at 0x7feca7340b70>"
      ]
     },
     "execution_count": 42,
     "metadata": {},
     "output_type": "execute_result"
    },
    {
     "data": {
      "image/png": "[encoded data removed]",
      "text/plain": [
       "<Figure size 432x288 with 1 Axes>"
      ]
     },
     "metadata": {},
     "output_type": "display_data"
    }
   ],
   "source": [
    "plt.title(\"SVM Confusion Matrix\")\n",
    "sns.heatmap(matriz_SVM,annot=True,cmap=\"Greys\",fmt=\"d\",cbar=False)"
   ]
  },
  {
   "cell_type": "markdown",
   "metadata": {},
   "source": [
    "### Result SVM"
   ]
  },
  {
   "cell_type": "code",
   "execution_count": 43,
   "metadata": {},
   "outputs": [
    {
     "name": "stdout",
     "output_type": "stream",
     "text": [
      "0.819672131147541\n"
     ]
    }
   ],
   "source": [
    "print(predict_SVM)"
   ]
  },
  {
   "cell_type": "markdown",
   "metadata": {},
   "source": [
    "## Neural Networks "
   ]
  },
  {
   "cell_type": "code",
   "execution_count": 44,
   "metadata": {},
   "outputs": [
    {
     "name": "stdout",
     "output_type": "stream",
     "text": [
      "Iteration 1, loss = 0.67218146\n",
      "Iteration 2, loss = 0.64345194\n",
      "Iteration 3, loss = 0.61828724\n",
      "Iteration 4, loss = 0.59456105\n",
      "Iteration 5, loss = 0.57226638\n",
      "Iteration 6, loss = 0.55148113\n",
      "Iteration 7, loss = 0.53019816\n",
      "Iteration 8, loss = 0.51030605\n",
      "Iteration 9, loss = 0.49102647\n",
      "Iteration 10, loss = 0.47164081\n",
      "Iteration 11, loss = 0.45329532\n",
      "Iteration 12, loss = 0.43487474\n",
      "Iteration 13, loss = 0.41734112\n",
      "Iteration 14, loss = 0.40009856\n",
      "Iteration 15, loss = 0.38368339\n",
      "Iteration 16, loss = 0.36751395\n",
      "Iteration 17, loss = 0.35262842\n",
      "Iteration 18, loss = 0.33879819\n",
      "Iteration 19, loss = 0.32551652\n",
      "Iteration 20, loss = 0.31293194\n",
      "Iteration 21, loss = 0.30107876\n",
      "Iteration 22, loss = 0.28946105\n",
      "Iteration 23, loss = 0.27868957\n",
      "Iteration 24, loss = 0.26837454\n",
      "Iteration 25, loss = 0.25799968\n",
      "Iteration 26, loss = 0.24872856\n",
      "Iteration 27, loss = 0.24006092\n",
      "Iteration 28, loss = 0.23189500\n",
      "Iteration 29, loss = 0.22400658\n",
      "Iteration 30, loss = 0.21637140\n",
      "Iteration 31, loss = 0.20890248\n",
      "Iteration 32, loss = 0.20187651\n",
      "Iteration 33, loss = 0.19516810\n",
      "Iteration 34, loss = 0.18855094\n",
      "Iteration 35, loss = 0.18225269\n",
      "Iteration 36, loss = 0.17616545\n",
      "Iteration 37, loss = 0.17049324\n",
      "Iteration 38, loss = 0.16491774\n",
      "Iteration 39, loss = 0.15960523\n",
      "Iteration 40, loss = 0.15441190\n",
      "Iteration 41, loss = 0.14944478\n",
      "Iteration 42, loss = 0.14455551\n",
      "Iteration 43, loss = 0.13987115\n",
      "Iteration 44, loss = 0.13536023\n",
      "Iteration 45, loss = 0.13090031\n",
      "Iteration 46, loss = 0.12667643\n",
      "Iteration 47, loss = 0.12269922\n",
      "Iteration 48, loss = 0.11838915\n",
      "Iteration 49, loss = 0.11458389\n",
      "Iteration 50, loss = 0.11101779\n",
      "Iteration 51, loss = 0.10746142\n",
      "Iteration 52, loss = 0.10397522\n",
      "Iteration 53, loss = 0.10067293\n",
      "Iteration 54, loss = 0.09744569\n",
      "Iteration 55, loss = 0.09446468\n",
      "Iteration 56, loss = 0.09152121\n",
      "Iteration 57, loss = 0.08859130\n",
      "Iteration 58, loss = 0.08593032\n",
      "Iteration 59, loss = 0.08319869\n",
      "Iteration 60, loss = 0.08069493\n",
      "Iteration 61, loss = 0.07814624\n",
      "Iteration 62, loss = 0.07569366\n",
      "Iteration 63, loss = 0.07330840\n",
      "Iteration 64, loss = 0.07102328\n",
      "Iteration 65, loss = 0.06875939\n",
      "Iteration 66, loss = 0.06665209\n",
      "Iteration 67, loss = 0.06457426\n",
      "Iteration 68, loss = 0.06265050\n",
      "Iteration 69, loss = 0.06085501\n",
      "Iteration 70, loss = 0.05899202\n",
      "Iteration 71, loss = 0.05721433\n",
      "Iteration 72, loss = 0.05555109\n",
      "Iteration 73, loss = 0.05389102\n",
      "Iteration 74, loss = 0.05235133\n",
      "Iteration 75, loss = 0.05095355\n",
      "Iteration 76, loss = 0.04954330\n",
      "Iteration 77, loss = 0.04815496\n",
      "Iteration 78, loss = 0.04682113\n",
      "Iteration 79, loss = 0.04548035\n",
      "Iteration 80, loss = 0.04430726\n",
      "Iteration 81, loss = 0.04314607\n",
      "Iteration 82, loss = 0.04197487\n",
      "Iteration 83, loss = 0.04091509\n",
      "Iteration 84, loss = 0.03986109\n",
      "Iteration 85, loss = 0.03876619\n",
      "Iteration 86, loss = 0.03779524\n",
      "Iteration 87, loss = 0.03686541\n",
      "Iteration 88, loss = 0.03594786\n",
      "Iteration 89, loss = 0.03503488\n",
      "Iteration 90, loss = 0.03414196\n",
      "Iteration 91, loss = 0.03326426\n",
      "Iteration 92, loss = 0.03248773\n",
      "Iteration 93, loss = 0.03170996\n",
      "Iteration 94, loss = 0.03092620\n",
      "Iteration 95, loss = 0.03021603\n",
      "Iteration 96, loss = 0.02944809\n",
      "Iteration 97, loss = 0.02873776\n",
      "Iteration 98, loss = 0.02805410\n",
      "Iteration 99, loss = 0.02741573\n",
      "Iteration 100, loss = 0.02672414\n",
      "Iteration 101, loss = 0.02613439\n",
      "Iteration 102, loss = 0.02554567\n",
      "Iteration 103, loss = 0.02498521\n",
      "Iteration 104, loss = 0.02445892\n",
      "Iteration 105, loss = 0.02391566\n",
      "Iteration 106, loss = 0.02338851\n",
      "Iteration 107, loss = 0.02285982\n",
      "Iteration 108, loss = 0.02238718\n",
      "Iteration 109, loss = 0.02193180\n",
      "Iteration 110, loss = 0.02147372\n",
      "Iteration 111, loss = 0.02104560\n",
      "Iteration 112, loss = 0.02060580\n",
      "Iteration 113, loss = 0.02018603\n",
      "Iteration 114, loss = 0.01978321\n",
      "Iteration 115, loss = 0.01939480\n",
      "Iteration 116, loss = 0.01902068\n",
      "Iteration 117, loss = 0.01865940\n",
      "Iteration 118, loss = 0.01830077\n",
      "Iteration 119, loss = 0.01794336\n",
      "Iteration 120, loss = 0.01760743\n",
      "Iteration 121, loss = 0.01728396\n",
      "Iteration 122, loss = 0.01696668\n",
      "Iteration 123, loss = 0.01665348\n",
      "Iteration 124, loss = 0.01635287\n",
      "Iteration 125, loss = 0.01605927\n",
      "Iteration 126, loss = 0.01576614\n",
      "Iteration 127, loss = 0.01548276\n",
      "Iteration 128, loss = 0.01521558\n",
      "Iteration 129, loss = 0.01494318\n",
      "Iteration 130, loss = 0.01467989\n",
      "Iteration 131, loss = 0.01442011\n",
      "Iteration 132, loss = 0.01418061\n",
      "Iteration 133, loss = 0.01394862\n",
      "Iteration 134, loss = 0.01373415\n",
      "Iteration 135, loss = 0.01350758\n",
      "Iteration 136, loss = 0.01326876\n",
      "Iteration 137, loss = 0.01305849\n",
      "Iteration 138, loss = 0.01284304\n",
      "Iteration 139, loss = 0.01263575\n",
      "Iteration 140, loss = 0.01243569\n",
      "Iteration 141, loss = 0.01223643\n",
      "Iteration 142, loss = 0.01203657\n",
      "Iteration 143, loss = 0.01185640\n",
      "Iteration 144, loss = 0.01168244\n",
      "Iteration 145, loss = 0.01148998\n",
      "Iteration 146, loss = 0.01129666\n",
      "Iteration 147, loss = 0.01111389\n",
      "Iteration 148, loss = 0.01093230\n",
      "Iteration 149, loss = 0.01077593\n",
      "Iteration 150, loss = 0.01060224\n",
      "Iteration 151, loss = 0.01043539\n",
      "Iteration 152, loss = 0.01026618\n",
      "Iteration 153, loss = 0.01010078\n",
      "Iteration 154, loss = 0.00994670\n",
      "Iteration 155, loss = 0.00979112\n",
      "Iteration 156, loss = 0.00964674\n",
      "Iteration 157, loss = 0.00949663\n",
      "Iteration 158, loss = 0.00935290\n",
      "Iteration 159, loss = 0.00921403\n",
      "Iteration 160, loss = 0.00908068\n",
      "Iteration 161, loss = 0.00895209\n",
      "Iteration 162, loss = 0.00882455\n",
      "Iteration 163, loss = 0.00870118\n",
      "Iteration 164, loss = 0.00858169\n",
      "Iteration 165, loss = 0.00845988\n",
      "Iteration 166, loss = 0.00834249\n",
      "Iteration 167, loss = 0.00822255\n",
      "Iteration 168, loss = 0.00811369\n",
      "Iteration 169, loss = 0.00800747\n",
      "Iteration 170, loss = 0.00789568\n",
      "Iteration 171, loss = 0.00778686\n",
      "Iteration 172, loss = 0.00768409\n",
      "Iteration 173, loss = 0.00759296\n",
      "Iteration 174, loss = 0.00749259\n",
      "Iteration 175, loss = 0.00739755\n",
      "Iteration 176, loss = 0.00730150\n",
      "Iteration 177, loss = 0.00720898\n",
      "Iteration 178, loss = 0.00711989\n",
      "Iteration 179, loss = 0.00703573\n",
      "Iteration 180, loss = 0.00695071\n",
      "Iteration 181, loss = 0.00686885\n",
      "Iteration 182, loss = 0.00678914\n",
      "Iteration 183, loss = 0.00670973\n",
      "Iteration 184, loss = 0.00663299\n",
      "Iteration 185, loss = 0.00655532\n",
      "Iteration 186, loss = 0.00647557\n",
      "Iteration 187, loss = 0.00639919\n",
      "Iteration 188, loss = 0.00632715\n",
      "Iteration 189, loss = 0.00625239\n",
      "Iteration 190, loss = 0.00618255\n",
      "Iteration 191, loss = 0.00610838\n",
      "Iteration 192, loss = 0.00603502\n",
      "Iteration 193, loss = 0.00596208\n",
      "Iteration 194, loss = 0.00589573\n",
      "Iteration 195, loss = 0.00582528\n",
      "Iteration 196, loss = 0.00575839\n",
      "Iteration 197, loss = 0.00568976\n",
      "Iteration 198, loss = 0.00562304\n",
      "Iteration 199, loss = 0.00555903\n",
      "Iteration 200, loss = 0.00550152\n",
      "Iteration 201, loss = 0.00544051\n",
      "Iteration 202, loss = 0.00537579\n",
      "Iteration 203, loss = 0.00531574\n",
      "Iteration 204, loss = 0.00525481\n",
      "Iteration 205, loss = 0.00519726\n",
      "Iteration 206, loss = 0.00513997\n",
      "Iteration 207, loss = 0.00508315\n",
      "Iteration 208, loss = 0.00502919\n",
      "Iteration 209, loss = 0.00497064\n",
      "Iteration 210, loss = 0.00492213\n",
      "Iteration 211, loss = 0.00486628\n",
      "Iteration 212, loss = 0.00481635\n",
      "Iteration 213, loss = 0.00476420\n",
      "Iteration 214, loss = 0.00471575\n",
      "Iteration 215, loss = 0.00466814\n",
      "Iteration 216, loss = 0.00461807\n",
      "Iteration 217, loss = 0.00457458\n",
      "Iteration 218, loss = 0.00452717\n",
      "Iteration 219, loss = 0.00448156\n",
      "Iteration 220, loss = 0.00443789\n",
      "Iteration 221, loss = 0.00439364\n",
      "Iteration 222, loss = 0.00435113\n",
      "Iteration 223, loss = 0.00430850\n",
      "Iteration 224, loss = 0.00426762\n",
      "Iteration 225, loss = 0.00422813\n",
      "Iteration 226, loss = 0.00418950\n",
      "Iteration 227, loss = 0.00415075\n",
      "Iteration 228, loss = 0.00411131\n",
      "Iteration 229, loss = 0.00406888\n",
      "Iteration 230, loss = 0.00402988\n",
      "Iteration 231, loss = 0.00399152\n",
      "Iteration 232, loss = 0.00395472\n",
      "Iteration 233, loss = 0.00391932\n",
      "Iteration 234, loss = 0.00388304\n",
      "Iteration 235, loss = 0.00384676\n",
      "Iteration 236, loss = 0.00381095\n",
      "Iteration 237, loss = 0.00377600\n",
      "Iteration 238, loss = 0.00374186\n",
      "Iteration 239, loss = 0.00370697\n",
      "Iteration 240, loss = 0.00367416\n",
      "Iteration 241, loss = 0.00364155\n",
      "Iteration 242, loss = 0.00360886\n",
      "Iteration 243, loss = 0.00357880\n",
      "Iteration 244, loss = 0.00354619\n",
      "Iteration 245, loss = 0.00351525\n",
      "Iteration 246, loss = 0.00348568\n",
      "Iteration 247, loss = 0.00345524\n",
      "Iteration 248, loss = 0.00342514\n",
      "Iteration 249, loss = 0.00339730\n",
      "Iteration 250, loss = 0.00336910\n",
      "Iteration 251, loss = 0.00334197\n",
      "Iteration 252, loss = 0.00331493\n",
      "Iteration 253, loss = 0.00329017\n",
      "Iteration 254, loss = 0.00326469\n",
      "Iteration 255, loss = 0.00323731\n",
      "Iteration 256, loss = 0.00321186\n",
      "Iteration 257, loss = 0.00318495\n",
      "Iteration 258, loss = 0.00315959\n",
      "Iteration 259, loss = 0.00313370\n",
      "Iteration 260, loss = 0.00310855\n",
      "Iteration 261, loss = 0.00308459\n",
      "Iteration 262, loss = 0.00306080\n",
      "Iteration 263, loss = 0.00303724\n",
      "Iteration 264, loss = 0.00301409\n",
      "Iteration 265, loss = 0.00299115\n",
      "Iteration 266, loss = 0.00296715\n",
      "Iteration 267, loss = 0.00294417\n",
      "Iteration 268, loss = 0.00292153\n",
      "Iteration 269, loss = 0.00289866\n",
      "Iteration 270, loss = 0.00287656\n",
      "Iteration 271, loss = 0.00285598\n",
      "Iteration 272, loss = 0.00283331\n",
      "Iteration 273, loss = 0.00280971\n",
      "Iteration 274, loss = 0.00278764\n",
      "Iteration 275, loss = 0.00276639\n",
      "Iteration 276, loss = 0.00274567\n",
      "Iteration 277, loss = 0.00272353\n",
      "Iteration 278, loss = 0.00270330\n",
      "Iteration 279, loss = 0.00268579\n",
      "Iteration 280, loss = 0.00266728\n",
      "Iteration 281, loss = 0.00264897\n",
      "Iteration 282, loss = 0.00262976\n",
      "Iteration 283, loss = 0.00261060\n",
      "Iteration 284, loss = 0.00259121\n",
      "Iteration 285, loss = 0.00257334\n",
      "Iteration 286, loss = 0.00255544\n",
      "Iteration 287, loss = 0.00253874\n",
      "Iteration 288, loss = 0.00252177\n",
      "Iteration 289, loss = 0.00250429\n",
      "Training loss did not improve more than tol=0.000020 for 10 consecutive epochs. Stopping.\n"
     ]
    }
   ],
   "source": [
    "from sklearn.neural_network import MLPClassifier\n",
    "classifier_Neural = MLPClassifier(verbose=True, max_iter=2000, tol=0.00002)\n",
    "classifier_Neural.fit(predicts_train_enc, class_train_enc)\n",
    "predicts_Neural = classifier_Neural.predict(predicts_test_enc)"
   ]
  },
  {
   "cell_type": "markdown",
   "metadata": {},
   "source": [
    "### Confusion table Neural Networks"
   ]
  },
  {
   "cell_type": "code",
   "execution_count": 45,
   "metadata": {},
   "outputs": [],
   "source": [
    "predict_Neural = accuracy_score(class_test_enc, predicts_Neural)"
   ]
  },
  {
   "cell_type": "code",
   "execution_count": 46,
   "metadata": {},
   "outputs": [],
   "source": [
    "matriz_Neural = confusion_matrix(class_test_enc, predicts_Neural)"
   ]
  },
  {
   "cell_type": "code",
   "execution_count": 47,
   "metadata": {},
   "outputs": [
    {
     "data": {
      "text/plain": [
       "<matplotlib.axes._subplots.AxesSubplot at 0x7feca7332fd0>"
      ]
     },
     "execution_count": 47,
     "metadata": {},
     "output_type": "execute_result"
    },
    {
     "data": {
      "image/png": "[encoded data removed]",
      "text/plain": [
       "<Figure size 432x288 with 1 Axes>"
      ]
     },
     "metadata": {},
     "output_type": "display_data"
    }
   ],
   "source": [
    "plt.title(\"Neural Networks Confusion Matrix\")\n",
    "sns.heatmap(matriz_Neural,annot=True,cmap=\"Blues\",fmt=\"d\",cbar=False)"
   ]
  },
  {
   "cell_type": "markdown",
   "metadata": {},
   "source": [
    "### Result Neural Networks"
   ]
  },
  {
   "cell_type": "code",
   "execution_count": 48,
   "metadata": {},
   "outputs": [
    {
     "name": "stdout",
     "output_type": "stream",
     "text": [
      "0.7704918032786885\n"
     ]
    }
   ],
   "source": [
    "print(predict_Neural)"
   ]
  },
  {
   "cell_type": "markdown",
   "metadata": {},
   "source": [
    "# Neural Networks - Keras"
   ]
  },
  {
   "cell_type": "code",
   "execution_count": 49,
   "metadata": {},
   "outputs": [
    {
     "name": "stderr",
     "output_type": "stream",
     "text": [
      "Using TensorFlow backend.\n"
     ]
    }
   ],
   "source": [
    "import keras\n",
    "from keras.models import Sequential\n",
    "from keras.layers import Dense"
   ]
  },
  {
   "cell_type": "code",
   "execution_count": 50,
   "metadata": {},
   "outputs": [
    {
     "name": "stdout",
     "output_type": "stream",
     "text": [
      "WARNING:tensorflow:From /opt/conda/lib/python3.6/site-packages/tensorflow/python/framework/op_def_library.py:263: colocate_with (from tensorflow.python.framework.ops) is deprecated and will be removed in a future version.\n",
      "Instructions for updating:\n",
      "Colocations handled automatically by placer.\n"
     ]
    }
   ],
   "source": [
    "classifier_Neural_Keras = Sequential()\n",
    "classifier_Neural_Keras.add(Dense(units = 5, activation = 'relu', input_dim = 398))"
   ]
  },
  {
   "cell_type": "code",
   "execution_count": 51,
   "metadata": {},
   "outputs": [],
   "source": [
    "classifier_Neural_Keras.add(Dense(units = 5, activation = 'relu'))\n",
    "classifier_Neural_Keras.add(Dense(units = 1, activation = 'sigmoid'))"
   ]
  },
  {
   "cell_type": "code",
   "execution_count": 52,
   "metadata": {},
   "outputs": [],
   "source": [
    "classifier_Neural_Keras.compile(optimizer= 'adam', loss= 'binary_crossentropy', metrics= ['accuracy'])"
   ]
  },
  {
   "cell_type": "code",
   "execution_count": 53,
   "metadata": {},
   "outputs": [
    {
     "name": "stdout",
     "output_type": "stream",
     "text": [
      "WARNING:tensorflow:From /opt/conda/lib/python3.6/site-packages/tensorflow/python/ops/math_ops.py:3066: to_int32 (from tensorflow.python.ops.math_ops) is deprecated and will be removed in a future version.\n",
      "Instructions for updating:\n",
      "Use tf.cast instead.\n",
      "Epoch 1/40\n",
      "242/242 [==============================] - 1s 3ms/step - loss: 0.6771 - acc: 0.6322\n",
      "Epoch 2/40\n",
      "242/242 [==============================] - 0s 157us/step - loss: 0.6402 - acc: 0.7190\n",
      "Epoch 3/40\n",
      "242/242 [==============================] - 0s 158us/step - loss: 0.5808 - acc: 0.8017\n",
      "Epoch 4/40\n",
      "242/242 [==============================] - 0s 158us/step - loss: 0.5078 - acc: 0.8636\n",
      "Epoch 5/40\n",
      "242/242 [==============================] - 0s 160us/step - loss: 0.4343 - acc: 0.9008\n",
      "Epoch 6/40\n",
      "242/242 [==============================] - 0s 159us/step - loss: 0.3781 - acc: 0.9008\n",
      "Epoch 7/40\n",
      "242/242 [==============================] - 0s 164us/step - loss: 0.3296 - acc: 0.9132\n",
      "Epoch 8/40\n",
      "242/242 [==============================] - 0s 161us/step - loss: 0.2914 - acc: 0.9174\n",
      "Epoch 9/40\n",
      "242/242 [==============================] - 0s 159us/step - loss: 0.2592 - acc: 0.9298\n",
      "Epoch 10/40\n",
      "242/242 [==============================] - 0s 177us/step - loss: 0.2310 - acc: 0.9380\n",
      "Epoch 11/40\n",
      "242/242 [==============================] - 0s 159us/step - loss: 0.2081 - acc: 0.9380\n",
      "Epoch 12/40\n",
      "242/242 [==============================] - 0s 164us/step - loss: 0.1893 - acc: 0.9463\n",
      "Epoch 13/40\n",
      "242/242 [==============================] - 0s 208us/step - loss: 0.1721 - acc: 0.9545\n",
      "Epoch 14/40\n",
      "242/242 [==============================] - 0s 165us/step - loss: 0.1568 - acc: 0.9587\n",
      "Epoch 15/40\n",
      "242/242 [==============================] - 0s 161us/step - loss: 0.1424 - acc: 0.9669\n",
      "Epoch 16/40\n",
      "242/242 [==============================] - 0s 160us/step - loss: 0.1306 - acc: 0.9793\n",
      "Epoch 17/40\n",
      "242/242 [==============================] - 0s 159us/step - loss: 0.1206 - acc: 0.9835\n",
      "Epoch 18/40\n",
      "242/242 [==============================] - 0s 165us/step - loss: 0.1108 - acc: 0.9835\n",
      "Epoch 19/40\n",
      "242/242 [==============================] - 0s 164us/step - loss: 0.1016 - acc: 0.9835\n",
      "Epoch 20/40\n",
      "242/242 [==============================] - 0s 163us/step - loss: 0.0933 - acc: 0.9876\n",
      "Epoch 21/40\n",
      "242/242 [==============================] - 0s 185us/step - loss: 0.0850 - acc: 0.9876\n",
      "Epoch 22/40\n",
      "242/242 [==============================] - 0s 163us/step - loss: 0.0787 - acc: 0.9876\n",
      "Epoch 23/40\n",
      "242/242 [==============================] - 0s 160us/step - loss: 0.0727 - acc: 0.9876\n",
      "Epoch 24/40\n",
      "242/242 [==============================] - 0s 164us/step - loss: 0.0680 - acc: 0.9876\n",
      "Epoch 25/40\n",
      "242/242 [==============================] - 0s 161us/step - loss: 0.0636 - acc: 0.9917\n",
      "Epoch 26/40\n",
      "242/242 [==============================] - 0s 164us/step - loss: 0.0592 - acc: 0.9917\n",
      "Epoch 27/40\n",
      "242/242 [==============================] - 0s 160us/step - loss: 0.0547 - acc: 0.9917\n",
      "Epoch 28/40\n",
      "242/242 [==============================] - 0s 165us/step - loss: 0.0508 - acc: 0.9917\n",
      "Epoch 29/40\n",
      "242/242 [==============================] - 0s 197us/step - loss: 0.0463 - acc: 0.9917\n",
      "Epoch 30/40\n",
      "242/242 [==============================] - 0s 160us/step - loss: 0.0447 - acc: 0.9917\n",
      "Epoch 31/40\n",
      "242/242 [==============================] - 0s 212us/step - loss: 0.0389 - acc: 0.9917\n",
      "Epoch 32/40\n",
      "242/242 [==============================] - 0s 163us/step - loss: 0.0352 - acc: 0.9917\n",
      "Epoch 33/40\n",
      "242/242 [==============================] - 0s 162us/step - loss: 0.0322 - acc: 0.9917\n",
      "Epoch 34/40\n",
      "242/242 [==============================] - 0s 161us/step - loss: 0.0291 - acc: 0.9917\n",
      "Epoch 35/40\n",
      "242/242 [==============================] - 0s 167us/step - loss: 0.0264 - acc: 0.9959\n",
      "Epoch 36/40\n",
      "242/242 [==============================] - 0s 162us/step - loss: 0.0239 - acc: 0.9959\n",
      "Epoch 37/40\n",
      "242/242 [==============================] - 0s 158us/step - loss: 0.0206 - acc: 1.0000\n",
      "Epoch 38/40\n",
      "242/242 [==============================] - 0s 156us/step - loss: 0.0185 - acc: 1.0000\n",
      "Epoch 39/40\n",
      "242/242 [==============================] - 0s 157us/step - loss: 0.0169 - acc: 1.0000\n",
      "Epoch 40/40\n",
      "242/242 [==============================] - 0s 160us/step - loss: 0.0155 - acc: 1.0000\n"
     ]
    },
    {
     "data": {
      "text/plain": [
       "<keras.callbacks.History at 0x7fec99e220b8>"
      ]
     },
     "execution_count": 53,
     "metadata": {},
     "output_type": "execute_result"
    }
   ],
   "source": [
    "classifier_Neural_Keras.fit(predicts_train_enc, class_train_enc, batch_size = 8, epochs = 40)"
   ]
  },
  {
   "cell_type": "code",
   "execution_count": 54,
   "metadata": {},
   "outputs": [],
   "source": [
    "predicts_Neural_Keras = classifier_Neural_Keras.predict(predicts_test_enc)"
   ]
  },
  {
   "cell_type": "markdown",
   "metadata": {},
   "source": [
    "### Confusion table Neural Networks - Keras"
   ]
  },
  {
   "cell_type": "code",
   "execution_count": 55,
   "metadata": {},
   "outputs": [],
   "source": [
    "predict_Neural_Keras = accuracy_score(class_test_enc, predicts_Neural_Keras.round())"
   ]
  },
  {
   "cell_type": "code",
   "execution_count": 56,
   "metadata": {},
   "outputs": [],
   "source": [
    "matriz_Neural_Keras = confusion_matrix(class_test_enc, predicts_Neural_Keras.round())"
   ]
  },
  {
   "cell_type": "code",
   "execution_count": 57,
   "metadata": {},
   "outputs": [
    {
     "data": {
      "text/plain": [
       "<matplotlib.axes._subplots.AxesSubplot at 0x7fec9816cb38>"
      ]
     },
     "execution_count": 57,
     "metadata": {},
     "output_type": "execute_result"
    },
    {
     "data": {
      "image/png": "[encoded data removed]",
      "text/plain": [
       "<Figure size 432x288 with 1 Axes>"
      ]
     },
     "metadata": {},
     "output_type": "display_data"
    }
   ],
   "source": [
    "plt.title(\"Neural Networks_Keras Confusion Matrix\")\n",
    "sns.heatmap(matriz_Neural_Keras,annot=True,cmap=\"Greens\",fmt=\"d\",cbar=False)"
   ]
  },
  {
   "cell_type": "markdown",
   "metadata": {},
   "source": [
    "### Result Neural Networks Keras"
   ]
  },
  {
   "cell_type": "code",
   "execution_count": 58,
   "metadata": {},
   "outputs": [
    {
     "name": "stdout",
     "output_type": "stream",
     "text": [
      "0.6885245901639344\n"
     ]
    }
   ],
   "source": [
    "print(predict_Neural_Keras)"
   ]
  },
  {
   "cell_type": "markdown",
   "metadata": {},
   "source": [
    "## Graph of Algorithms"
   ]
  },
  {
   "cell_type": "code",
   "execution_count": 59,
   "metadata": {},
   "outputs": [
    {
     "data": {
      "image/png": "[encoded data removed]",
      "text/plain": [
       "<Figure size 1152x360 with 1 Axes>"
      ]
     },
     "metadata": {},
     "output_type": "display_data"
    }
   ],
   "source": [
    "plt.rcParams['figure.figsize'] = (16,5)\n",
    "names_alg = ['Naive Bayes', 'Tree Classifier', 'Random Forest', 'KNN', 'Regression', 'SVM', 'Neural Networks', 'Keras']\n",
    "result_alg = [predict_NB, predict_Tree, predict_RF, predict_KNN, predict_Regression, predict_SVM, predict_Neural, predict_Neural_Keras]\n",
    "xs = [i + 0.5 for i, _ in enumerate(names_alg)]\n",
    "plt.bar(xs,result_alg, color=('#8B0000','#FF6347','#CD6600','#8B8B00','#458B00','#53868B','#EE7942','#00FF33'))\n",
    "plt.ylabel(\"Value\")\n",
    "plt.title(\"Algorithms\")\n",
    "plt.xticks([i + 0.5 for i, _ in enumerate(names_alg)], names_alg)\n",
    "plt.show()"
   ]
  }
 ],
 "metadata": {
  "kernelspec": {
   "display_name": "Python 3",
   "language": "python",
   "name": "python3"
  },
  "language_info": {
   "codemirror_mode": {
    "name": "ipython",
    "version": 3
   },
   "file_extension": ".py",
   "mimetype": "text/x-python",
   "name": "python",
   "nbconvert_exporter": "python",
   "pygments_lexer": "ipython3",
   "version": "3.6.7"
  }
 },
 "nbformat": 4,
 "nbformat_minor": 1
}
