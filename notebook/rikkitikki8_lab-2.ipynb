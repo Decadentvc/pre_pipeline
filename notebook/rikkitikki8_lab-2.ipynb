{
 "cells": [
  {
   "cell_type": "code",
   "execution_count": 1,
   "metadata": {
    "_cell_guid": "b1076dfc-b9ad-4769-8c92-a6c4dae69d19",
    "_uuid": "8f2839f25d086af736a60e9eeb907d3b93b6e0e5",
    "execution": {
     "iopub.execute_input": "2020-09-25T19:07:42.913456Z",
     "iopub.status.busy": "2020-09-25T19:07:42.912667Z",
     "iopub.status.idle": "2020-09-25T19:07:44.333144Z",
     "shell.execute_reply": "2020-09-25T19:07:44.334165Z"
    },
    "papermill": {
     "duration": 1.443203,
     "end_time": "2020-09-25T19:07:44.334441",
     "exception": false,
     "start_time": "2020-09-25T19:07:42.891238",
     "status": "completed"
    },
    "tags": []
   },
   "outputs": [
    {
     "name": "stdout",
     "output_type": "stream",
     "text": [
      "/kaggle/input/churn-in-telecoms-dataset/bigml_59c28831336c6604c800002a.csv\n"
     ]
    },
    {
     "data": {
      "text/html": [
       "<div>\n",
       "<style scoped>\n",
       "    .dataframe tbody tr th:only-of-type {\n",
       "        vertical-align: middle;\n",
       "    }\n",
       "\n",
       "    .dataframe tbody tr th {\n",
       "        vertical-align: top;\n",
       "    }\n",
       "\n",
       "    .dataframe thead th {\n",
       "        text-align: right;\n",
       "    }\n",
       "</style>\n",
       "<table border=\"1\" class=\"dataframe\">\n",
       "  <thead>\n",
       "    <tr style=\"text-align: right;\">\n",
       "      <th></th>\n",
       "      <th>state</th>\n",
       "      <th>account length</th>\n",
       "      <th>area code</th>\n",
       "      <th>phone number</th>\n",
       "      <th>international plan</th>\n",
       "      <th>voice mail plan</th>\n",
       "      <th>number vmail messages</th>\n",
       "      <th>total day minutes</th>\n",
       "      <th>total day calls</th>\n",
       "      <th>total day charge</th>\n",
       "      <th>...</th>\n",
       "      <th>total eve calls</th>\n",
       "      <th>total eve charge</th>\n",
       "      <th>total night minutes</th>\n",
       "      <th>total night calls</th>\n",
       "      <th>total night charge</th>\n",
       "      <th>total intl minutes</th>\n",
       "      <th>total intl calls</th>\n",
       "      <th>total intl charge</th>\n",
       "      <th>customer service calls</th>\n",
       "      <th>churn</th>\n",
       "    </tr>\n",
       "  </thead>\n",
       "  <tbody>\n",
       "    <tr>\n",
       "      <th>0</th>\n",
       "      <td>KS</td>\n",
       "      <td>128</td>\n",
       "      <td>415</td>\n",
       "      <td>382-4657</td>\n",
       "      <td>no</td>\n",
       "      <td>yes</td>\n",
       "      <td>25</td>\n",
       "      <td>265.1</td>\n",
       "      <td>110</td>\n",
       "      <td>45.07</td>\n",
       "      <td>...</td>\n",
       "      <td>99</td>\n",
       "      <td>16.78</td>\n",
       "      <td>244.7</td>\n",
       "      <td>91</td>\n",
       "      <td>11.01</td>\n",
       "      <td>10.0</td>\n",
       "      <td>3</td>\n",
       "      <td>2.70</td>\n",
       "      <td>1</td>\n",
       "      <td>False</td>\n",
       "    </tr>\n",
       "    <tr>\n",
       "      <th>1</th>\n",
       "      <td>OH</td>\n",
       "      <td>107</td>\n",
       "      <td>415</td>\n",
       "      <td>371-7191</td>\n",
       "      <td>no</td>\n",
       "      <td>yes</td>\n",
       "      <td>26</td>\n",
       "      <td>161.6</td>\n",
       "      <td>123</td>\n",
       "      <td>27.47</td>\n",
       "      <td>...</td>\n",
       "      <td>103</td>\n",
       "      <td>16.62</td>\n",
       "      <td>254.4</td>\n",
       "      <td>103</td>\n",
       "      <td>11.45</td>\n",
       "      <td>13.7</td>\n",
       "      <td>3</td>\n",
       "      <td>3.70</td>\n",
       "      <td>1</td>\n",
       "      <td>False</td>\n",
       "    </tr>\n",
       "    <tr>\n",
       "      <th>2</th>\n",
       "      <td>NJ</td>\n",
       "      <td>137</td>\n",
       "      <td>415</td>\n",
       "      <td>358-1921</td>\n",
       "      <td>no</td>\n",
       "      <td>no</td>\n",
       "      <td>0</td>\n",
       "      <td>243.4</td>\n",
       "      <td>114</td>\n",
       "      <td>41.38</td>\n",
       "      <td>...</td>\n",
       "      <td>110</td>\n",
       "      <td>10.30</td>\n",
       "      <td>162.6</td>\n",
       "      <td>104</td>\n",
       "      <td>7.32</td>\n",
       "      <td>12.2</td>\n",
       "      <td>5</td>\n",
       "      <td>3.29</td>\n",
       "      <td>0</td>\n",
       "      <td>False</td>\n",
       "    </tr>\n",
       "    <tr>\n",
       "      <th>3</th>\n",
       "      <td>OH</td>\n",
       "      <td>84</td>\n",
       "      <td>408</td>\n",
       "      <td>375-9999</td>\n",
       "      <td>yes</td>\n",
       "      <td>no</td>\n",
       "      <td>0</td>\n",
       "      <td>299.4</td>\n",
       "      <td>71</td>\n",
       "      <td>50.90</td>\n",
       "      <td>...</td>\n",
       "      <td>88</td>\n",
       "      <td>5.26</td>\n",
       "      <td>196.9</td>\n",
       "      <td>89</td>\n",
       "      <td>8.86</td>\n",
       "      <td>6.6</td>\n",
       "      <td>7</td>\n",
       "      <td>1.78</td>\n",
       "      <td>2</td>\n",
       "      <td>False</td>\n",
       "    </tr>\n",
       "    <tr>\n",
       "      <th>4</th>\n",
       "      <td>OK</td>\n",
       "      <td>75</td>\n",
       "      <td>415</td>\n",
       "      <td>330-6626</td>\n",
       "      <td>yes</td>\n",
       "      <td>no</td>\n",
       "      <td>0</td>\n",
       "      <td>166.7</td>\n",
       "      <td>113</td>\n",
       "      <td>28.34</td>\n",
       "      <td>...</td>\n",
       "      <td>122</td>\n",
       "      <td>12.61</td>\n",
       "      <td>186.9</td>\n",
       "      <td>121</td>\n",
       "      <td>8.41</td>\n",
       "      <td>10.1</td>\n",
       "      <td>3</td>\n",
       "      <td>2.73</td>\n",
       "      <td>3</td>\n",
       "      <td>False</td>\n",
       "    </tr>\n",
       "  </tbody>\n",
       "</table>\n",
       "<p>5 rows × 21 columns</p>\n",
       "</div>"
      ],
      "text/plain": [
       "  state  account length  area code phone number international plan  \\\n",
       "0    KS             128        415     382-4657                 no   \n",
       "1    OH             107        415     371-7191                 no   \n",
       "2    NJ             137        415     358-1921                 no   \n",
       "3    OH              84        408     375-9999                yes   \n",
       "4    OK              75        415     330-6626                yes   \n",
       "\n",
       "  voice mail plan  number vmail messages  total day minutes  total day calls  \\\n",
       "0             yes                     25              265.1              110   \n",
       "1             yes                     26              161.6              123   \n",
       "2              no                      0              243.4              114   \n",
       "3              no                      0              299.4               71   \n",
       "4              no                      0              166.7              113   \n",
       "\n",
       "   total day charge  ...  total eve calls  total eve charge  \\\n",
       "0             45.07  ...               99             16.78   \n",
       "1             27.47  ...              103             16.62   \n",
       "2             41.38  ...              110             10.30   \n",
       "3             50.90  ...               88              5.26   \n",
       "4             28.34  ...              122             12.61   \n",
       "\n",
       "   total night minutes  total night calls  total night charge  \\\n",
       "0                244.7                 91               11.01   \n",
       "1                254.4                103               11.45   \n",
       "2                162.6                104                7.32   \n",
       "3                196.9                 89                8.86   \n",
       "4                186.9                121                8.41   \n",
       "\n",
       "   total intl minutes  total intl calls  total intl charge  \\\n",
       "0                10.0                 3               2.70   \n",
       "1                13.7                 3               3.70   \n",
       "2                12.2                 5               3.29   \n",
       "3                 6.6                 7               1.78   \n",
       "4                10.1                 3               2.73   \n",
       "\n",
       "   customer service calls  churn  \n",
       "0                       1  False  \n",
       "1                       1  False  \n",
       "2                       0  False  \n",
       "3                       2  False  \n",
       "4                       3  False  \n",
       "\n",
       "[5 rows x 21 columns]"
      ]
     },
     "execution_count": 1,
     "metadata": {},
     "output_type": "execute_result"
    }
   ],
   "source": [
    "# This Python 3 environment comes with many helpful analytics libraries installed\n",
    "# It is defined by the kaggle/python Docker image: https://github.com/kaggle/docker-python\n",
    "# For example, here's several helpful packages to load\n",
    "\n",
    "import numpy as np # linear algebra\n",
    "import pandas as pd # data processing, CSV file I/O (e.g. pd.read_csv)\n",
    "import seaborn as sns\n",
    "\n",
    "import os\n",
    "for dirname, _, filenames in os.walk('/kaggle/input'):\n",
    "    for filename in filenames:\n",
    "        print(os.path.join(dirname, filename))\n",
    "\n",
    "df = pd.read_csv('../input/churn-in-telecoms-dataset/bigml_59c28831336c6604c800002a.csv')\n",
    "df.head()"
   ]
  },
  {
   "cell_type": "code",
   "execution_count": 2,
   "metadata": {
    "execution": {
     "iopub.execute_input": "2020-09-25T19:07:44.370212Z",
     "iopub.status.busy": "2020-09-25T19:07:44.369143Z",
     "iopub.status.idle": "2020-09-25T19:07:44.372350Z",
     "shell.execute_reply": "2020-09-25T19:07:44.371722Z"
    },
    "papermill": {
     "duration": 0.021812,
     "end_time": "2020-09-25T19:07:44.372473",
     "exception": false,
     "start_time": "2020-09-25T19:07:44.350661",
     "status": "completed"
    },
    "tags": []
   },
   "outputs": [],
   "source": [
    "# df.info()"
   ]
  },
  {
   "cell_type": "markdown",
   "metadata": {
    "papermill": {
     "duration": 0.013727,
     "end_time": "2020-09-25T19:07:44.400235",
     "exception": false,
     "start_time": "2020-09-25T19:07:44.386508",
     "status": "completed"
    },
    "tags": []
   },
   "source": [
    "## Целевой признак — churn, который говорит о том, покинет ли клиент телефонную компанию. Рассматривается задача классификации."
   ]
  },
  {
   "cell_type": "code",
   "execution_count": 3,
   "metadata": {
    "execution": {
     "iopub.execute_input": "2020-09-25T19:07:44.439584Z",
     "iopub.status.busy": "2020-09-25T19:07:44.438805Z",
     "iopub.status.idle": "2020-09-25T19:07:44.448573Z",
     "shell.execute_reply": "2020-09-25T19:07:44.447812Z"
    },
    "papermill": {
     "duration": 0.034431,
     "end_time": "2020-09-25T19:07:44.448698",
     "exception": false,
     "start_time": "2020-09-25T19:07:44.414267",
     "status": "completed"
    },
    "tags": []
   },
   "outputs": [
    {
     "data": {
      "text/plain": [
       "False    2850\n",
       "True      483\n",
       "Name: churn, dtype: int64"
      ]
     },
     "execution_count": 3,
     "metadata": {},
     "output_type": "execute_result"
    }
   ],
   "source": [
    "df.churn.value_counts()"
   ]
  },
  {
   "cell_type": "code",
   "execution_count": 4,
   "metadata": {
    "execution": {
     "iopub.execute_input": "2020-09-25T19:07:44.491427Z",
     "iopub.status.busy": "2020-09-25T19:07:44.488240Z",
     "iopub.status.idle": "2020-09-25T19:07:44.690392Z",
     "shell.execute_reply": "2020-09-25T19:07:44.689617Z"
    },
    "papermill": {
     "duration": 0.226734,
     "end_time": "2020-09-25T19:07:44.690523",
     "exception": false,
     "start_time": "2020-09-25T19:07:44.463789",
     "status": "completed"
    },
    "tags": []
   },
   "outputs": [
    {
     "data": {
      "text/plain": [
       "<matplotlib.axes._subplots.AxesSubplot at 0x7fced16a6d90>"
      ]
     },
     "execution_count": 4,
     "metadata": {},
     "output_type": "execute_result"
    },
    {
     "data": {
      "image/png": "[encoded data removed]",
      "text/plain": [
       "<Figure size 432x288 with 1 Axes>"
      ]
     },
     "metadata": {
      "needs_background": "light"
     },
     "output_type": "display_data"
    }
   ],
   "source": [
    "sns.countplot(df['churn'])"
   ]
  },
  {
   "cell_type": "markdown",
   "metadata": {
    "papermill": {
     "duration": 0.015258,
     "end_time": "2020-09-25T19:07:44.721254",
     "exception": false,
     "start_time": "2020-09-25T19:07:44.705996",
     "status": "completed"
    },
    "tags": []
   },
   "source": [
    "### Случаев, когда человек остается клиентом компании гораздо больше, чем обратных."
   ]
  },
  {
   "cell_type": "code",
   "execution_count": 5,
   "metadata": {
    "execution": {
     "iopub.execute_input": "2020-09-25T19:07:44.757511Z",
     "iopub.status.busy": "2020-09-25T19:07:44.756512Z",
     "iopub.status.idle": "2020-09-25T19:07:44.760014Z",
     "shell.execute_reply": "2020-09-25T19:07:44.759521Z"
    },
    "papermill": {
     "duration": 0.0234,
     "end_time": "2020-09-25T19:07:44.760174",
     "exception": false,
     "start_time": "2020-09-25T19:07:44.736774",
     "status": "completed"
    },
    "tags": []
   },
   "outputs": [],
   "source": [
    "# df = df.join(pd.get_dummies(df['state']))\n",
    "# После создания дополнительных признаков на основе столбца 'state' accuracy понижается."
   ]
  },
  {
   "cell_type": "code",
   "execution_count": 6,
   "metadata": {
    "execution": {
     "iopub.execute_input": "2020-09-25T19:07:44.800416Z",
     "iopub.status.busy": "2020-09-25T19:07:44.799608Z",
     "iopub.status.idle": "2020-09-25T19:07:44.802688Z",
     "shell.execute_reply": "2020-09-25T19:07:44.802028Z"
    },
    "papermill": {
     "duration": 0.027009,
     "end_time": "2020-09-25T19:07:44.802808",
     "exception": false,
     "start_time": "2020-09-25T19:07:44.775799",
     "status": "completed"
    },
    "tags": []
   },
   "outputs": [],
   "source": [
    "states = df.state.unique()\n",
    "states_num = {}\n",
    "for i in range(len(states)):\n",
    "    states_num[states[i]] = i\n",
    "df['states_num'] = df['state'].map(states_num)"
   ]
  },
  {
   "cell_type": "code",
   "execution_count": 7,
   "metadata": {
    "execution": {
     "iopub.execute_input": "2020-09-25T19:07:44.843107Z",
     "iopub.status.busy": "2020-09-25T19:07:44.842080Z",
     "iopub.status.idle": "2020-09-25T19:07:44.857447Z",
     "shell.execute_reply": "2020-09-25T19:07:44.857911Z"
    },
    "papermill": {
     "duration": 0.039759,
     "end_time": "2020-09-25T19:07:44.858090",
     "exception": false,
     "start_time": "2020-09-25T19:07:44.818331",
     "status": "completed"
    },
    "tags": []
   },
   "outputs": [],
   "source": [
    "df.drop('state', axis=1, inplace=True)\n",
    "\n",
    "df['churn_'] = df['churn'].map({True: 1, False: 0})\n",
    "df.drop('churn', axis=1, inplace=True)\n",
    "\n",
    "df['international_plan'] = df['international plan'].map({'yes': 1, 'no': 0})\n",
    "df.drop('international plan', axis=1, inplace=True)\n",
    "\n",
    "df['voice_mail_plan'] = df['voice mail plan'].map({'yes': 1, 'no': 0})\n",
    "df.drop('voice mail plan', axis=1, inplace=True)\n",
    "\n",
    "df.drop('phone number', axis=1, inplace=True)"
   ]
  },
  {
   "cell_type": "code",
   "execution_count": 8,
   "metadata": {
    "execution": {
     "iopub.execute_input": "2020-09-25T19:07:44.894506Z",
     "iopub.status.busy": "2020-09-25T19:07:44.893633Z",
     "iopub.status.idle": "2020-09-25T19:07:44.896546Z",
     "shell.execute_reply": "2020-09-25T19:07:44.895966Z"
    },
    "papermill": {
     "duration": 0.022817,
     "end_time": "2020-09-25T19:07:44.896661",
     "exception": false,
     "start_time": "2020-09-25T19:07:44.873844",
     "status": "completed"
    },
    "tags": []
   },
   "outputs": [],
   "source": [
    "# df.info()"
   ]
  },
  {
   "cell_type": "code",
   "execution_count": 9,
   "metadata": {
    "execution": {
     "iopub.execute_input": "2020-09-25T19:07:44.935983Z",
     "iopub.status.busy": "2020-09-25T19:07:44.935350Z",
     "iopub.status.idle": "2020-09-25T19:07:44.938171Z",
     "shell.execute_reply": "2020-09-25T19:07:44.938623Z"
    },
    "papermill": {
     "duration": 0.02605,
     "end_time": "2020-09-25T19:07:44.938766",
     "exception": false,
     "start_time": "2020-09-25T19:07:44.912716",
     "status": "completed"
    },
    "tags": []
   },
   "outputs": [],
   "source": [
    "y = df['churn_']\n",
    "X = df.drop(labels = ['churn_'],axis = 1) "
   ]
  },
  {
   "cell_type": "code",
   "execution_count": 10,
   "metadata": {
    "execution": {
     "iopub.execute_input": "2020-09-25T19:07:44.976306Z",
     "iopub.status.busy": "2020-09-25T19:07:44.975595Z",
     "iopub.status.idle": "2020-09-25T19:07:45.085307Z",
     "shell.execute_reply": "2020-09-25T19:07:45.084425Z"
    },
    "papermill": {
     "duration": 0.130818,
     "end_time": "2020-09-25T19:07:45.085469",
     "exception": false,
     "start_time": "2020-09-25T19:07:44.954651",
     "status": "completed"
    },
    "tags": []
   },
   "outputs": [],
   "source": [
    "from sklearn.preprocessing import StandardScaler\n",
    "scaler = StandardScaler()\n",
    "scaler.fit(X)\n",
    "scaler.mean_\n",
    "X_new = scaler.transform(X)"
   ]
  },
  {
   "cell_type": "code",
   "execution_count": 11,
   "metadata": {
    "execution": {
     "iopub.execute_input": "2020-09-25T19:07:45.136573Z",
     "iopub.status.busy": "2020-09-25T19:07:45.135307Z",
     "iopub.status.idle": "2020-09-25T19:07:45.208392Z",
     "shell.execute_reply": "2020-09-25T19:07:45.207850Z"
    },
    "papermill": {
     "duration": 0.098403,
     "end_time": "2020-09-25T19:07:45.208517",
     "exception": false,
     "start_time": "2020-09-25T19:07:45.110114",
     "status": "completed"
    },
    "tags": []
   },
   "outputs": [],
   "source": [
    "from sklearn.model_selection import train_test_split\n",
    "X_train, X_valid, y_train, y_valid = train_test_split(X_new, \n",
    "                                                      y, \n",
    "                                                      test_size=0.3, \n",
    "                                                      random_state=19)"
   ]
  },
  {
   "cell_type": "code",
   "execution_count": 12,
   "metadata": {
    "execution": {
     "iopub.execute_input": "2020-09-25T19:07:45.246882Z",
     "iopub.status.busy": "2020-09-25T19:07:45.245977Z",
     "iopub.status.idle": "2020-09-25T19:07:45.582437Z",
     "shell.execute_reply": "2020-09-25T19:07:45.583088Z"
    },
    "papermill": {
     "duration": 0.358572,
     "end_time": "2020-09-25T19:07:45.583306",
     "exception": false,
     "start_time": "2020-09-25T19:07:45.224734",
     "status": "completed"
    },
    "tags": []
   },
   "outputs": [],
   "source": [
    "from sklearn.neighbors import KNeighborsClassifier\n",
    "knn = KNeighborsClassifier(n_neighbors=1)\n",
    "knn.fit(X_train, y_train)\n",
    "y_pred = knn.predict(X_valid)"
   ]
  },
  {
   "cell_type": "code",
   "execution_count": 13,
   "metadata": {
    "execution": {
     "iopub.execute_input": "2020-09-25T19:07:45.631471Z",
     "iopub.status.busy": "2020-09-25T19:07:45.630491Z",
     "iopub.status.idle": "2020-09-25T19:07:45.636867Z",
     "shell.execute_reply": "2020-09-25T19:07:45.635983Z"
    },
    "papermill": {
     "duration": 0.029219,
     "end_time": "2020-09-25T19:07:45.637018",
     "exception": false,
     "start_time": "2020-09-25T19:07:45.607799",
     "status": "completed"
    },
    "tags": []
   },
   "outputs": [
    {
     "data": {
      "text/plain": [
       "0.878"
      ]
     },
     "execution_count": 13,
     "metadata": {},
     "output_type": "execute_result"
    }
   ],
   "source": [
    "from sklearn.metrics import accuracy_score\n",
    "accuracy_score(y_valid, y_pred)"
   ]
  },
  {
   "cell_type": "code",
   "execution_count": 14,
   "metadata": {
    "execution": {
     "iopub.execute_input": "2020-09-25T19:07:45.685752Z",
     "iopub.status.busy": "2020-09-25T19:07:45.684896Z",
     "iopub.status.idle": "2020-09-25T19:07:46.127705Z",
     "shell.execute_reply": "2020-09-25T19:07:46.126948Z"
    },
    "papermill": {
     "duration": 0.468186,
     "end_time": "2020-09-25T19:07:46.127838",
     "exception": false,
     "start_time": "2020-09-25T19:07:45.659652",
     "status": "completed"
    },
    "tags": []
   },
   "outputs": [
    {
     "data": {
      "text/plain": [
       "0.8862888375632003"
      ]
     },
     "execution_count": 14,
     "metadata": {},
     "output_type": "execute_result"
    }
   ],
   "source": [
    "from sklearn.model_selection import KFold\n",
    "from sklearn.model_selection import cross_val_score\n",
    "kf = KFold(n_splits=5, shuffle=True, random_state=42)\n",
    "knn = KNeighborsClassifier(n_neighbors=5)\n",
    "scores = cross_val_score(knn, X_new, y, \n",
    "                         cv=kf, scoring='accuracy')\n",
    "mean_score = scores.mean()\n",
    "mean_score"
   ]
  },
  {
   "cell_type": "code",
   "execution_count": 15,
   "metadata": {
    "execution": {
     "iopub.execute_input": "2020-09-25T19:07:46.170733Z",
     "iopub.status.busy": "2020-09-25T19:07:46.169998Z",
     "iopub.status.idle": "2020-09-25T19:07:58.476208Z",
     "shell.execute_reply": "2020-09-25T19:07:58.475652Z"
    },
    "papermill": {
     "duration": 12.331234,
     "end_time": "2020-09-25T19:07:58.476332",
     "exception": false,
     "start_time": "2020-09-25T19:07:46.145098",
     "status": "completed"
    },
    "tags": []
   },
   "outputs": [
    {
     "data": {
      "text/plain": [
       "GridSearchCV(cv=KFold(n_splits=5, random_state=42, shuffle=True),\n",
       "             estimator=KNeighborsClassifier(),\n",
       "             param_grid={'n_neighbors': array([ 1,  2,  3,  4,  5,  6,  7,  8,  9, 10, 11, 12, 13, 14, 15, 16, 17,\n",
       "       18, 19, 20, 21, 22, 23, 24, 25, 26, 27, 28, 29, 30, 31, 32, 33, 34,\n",
       "       35, 36, 37, 38, 39, 40, 41, 42, 43, 44, 45, 46, 47, 48, 49, 50])},\n",
       "             scoring='accuracy')"
      ]
     },
     "execution_count": 15,
     "metadata": {},
     "output_type": "execute_result"
    }
   ],
   "source": [
    "from sklearn.model_selection import GridSearchCV\n",
    "knn_params = {'n_neighbors': np.arange(1, 51)}\n",
    "knn_grid = GridSearchCV(knn, \n",
    "                        knn_params, \n",
    "                        scoring='accuracy',\n",
    "                        cv=kf)\n",
    "knn_grid.fit(X_train, y_train)"
   ]
  },
  {
   "cell_type": "code",
   "execution_count": 16,
   "metadata": {
    "execution": {
     "iopub.execute_input": "2020-09-25T19:07:58.517095Z",
     "iopub.status.busy": "2020-09-25T19:07:58.516029Z",
     "iopub.status.idle": "2020-09-25T19:07:58.520390Z",
     "shell.execute_reply": "2020-09-25T19:07:58.519746Z"
    },
    "papermill": {
     "duration": 0.026587,
     "end_time": "2020-09-25T19:07:58.520506",
     "exception": false,
     "start_time": "2020-09-25T19:07:58.493919",
     "status": "completed"
    },
    "tags": []
   },
   "outputs": [
    {
     "data": {
      "text/plain": [
       "0.8808337392359228"
      ]
     },
     "execution_count": 16,
     "metadata": {},
     "output_type": "execute_result"
    }
   ],
   "source": [
    "knn_grid.best_score_"
   ]
  },
  {
   "cell_type": "code",
   "execution_count": 17,
   "metadata": {
    "execution": {
     "iopub.execute_input": "2020-09-25T19:07:58.562039Z",
     "iopub.status.busy": "2020-09-25T19:07:58.561320Z",
     "iopub.status.idle": "2020-09-25T19:07:58.565594Z",
     "shell.execute_reply": "2020-09-25T19:07:58.564924Z"
    },
    "papermill": {
     "duration": 0.027151,
     "end_time": "2020-09-25T19:07:58.565709",
     "exception": false,
     "start_time": "2020-09-25T19:07:58.538558",
     "status": "completed"
    },
    "tags": []
   },
   "outputs": [
    {
     "data": {
      "text/plain": [
       "{'n_neighbors': 5}"
      ]
     },
     "execution_count": 17,
     "metadata": {},
     "output_type": "execute_result"
    }
   ],
   "source": [
    "knn_grid.best_params_"
   ]
  },
  {
   "cell_type": "code",
   "execution_count": 18,
   "metadata": {
    "execution": {
     "iopub.execute_input": "2020-09-25T19:07:58.609708Z",
     "iopub.status.busy": "2020-09-25T19:07:58.608967Z",
     "iopub.status.idle": "2020-09-25T19:07:58.612545Z",
     "shell.execute_reply": "2020-09-25T19:07:58.611994Z"
    },
    "papermill": {
     "duration": 0.02844,
     "end_time": "2020-09-25T19:07:58.612667",
     "exception": false,
     "start_time": "2020-09-25T19:07:58.584227",
     "status": "completed"
    },
    "tags": []
   },
   "outputs": [],
   "source": [
    "score_df = pd.DataFrame(knn_grid.cv_results_)\n",
    "# score_df.head()"
   ]
  },
  {
   "cell_type": "code",
   "execution_count": 19,
   "metadata": {
    "execution": {
     "iopub.execute_input": "2020-09-25T19:07:58.664657Z",
     "iopub.status.busy": "2020-09-25T19:07:58.663499Z",
     "iopub.status.idle": "2020-09-25T19:07:58.818708Z",
     "shell.execute_reply": "2020-09-25T19:07:58.818173Z"
    },
    "papermill": {
     "duration": 0.186723,
     "end_time": "2020-09-25T19:07:58.818846",
     "exception": false,
     "start_time": "2020-09-25T19:07:58.632123",
     "status": "completed"
    },
    "tags": []
   },
   "outputs": [
    {
     "data": {
      "text/plain": [
       "[<matplotlib.lines.Line2D at 0x7fcec6c24710>]"
      ]
     },
     "execution_count": 19,
     "metadata": {},
     "output_type": "execute_result"
    },
    {
     "data": {
      "image/png": "[encoded data removed]",
      "text/plain": [
       "<Figure size 720x504 with 1 Axes>"
      ]
     },
     "metadata": {
      "needs_background": "light"
     },
     "output_type": "display_data"
    }
   ],
   "source": [
    "import matplotlib.pyplot as plt\n",
    "plt.figure(figsize=(10, 7))\n",
    "plt.plot(score_df['param_n_neighbors'], score_df['mean_test_score'])"
   ]
  },
  {
   "cell_type": "code",
   "execution_count": 20,
   "metadata": {
    "execution": {
     "iopub.execute_input": "2020-09-25T19:07:58.868092Z",
     "iopub.status.busy": "2020-09-25T19:07:58.867136Z",
     "iopub.status.idle": "2020-09-25T19:34:02.485588Z",
     "shell.execute_reply": "2020-09-25T19:34:02.486143Z"
    },
    "papermill": {
     "duration": 1563.646964,
     "end_time": "2020-09-25T19:34:02.486301",
     "exception": false,
     "start_time": "2020-09-25T19:07:58.839337",
     "status": "completed"
    },
    "tags": []
   },
   "outputs": [
    {
     "data": {
      "text/plain": [
       "'p = 1.678391959798995:   accuracy = 0.8889879384632009'"
      ]
     },
     "execution_count": 20,
     "metadata": {},
     "output_type": "execute_result"
    }
   ],
   "source": [
    "p = np.linspace(1,10,200)\n",
    "p_dict ={}\n",
    "max_acc = 0\n",
    "for val in p:\n",
    "    knn = KNeighborsClassifier(n_neighbors=5, p=val, metric='minkowski', weights='distance')\n",
    "    scores = cross_val_score(knn, X_new, y, \n",
    "                         cv=kf, scoring='accuracy')\n",
    "    mean_score = scores.mean()\n",
    "    if mean_score > max_acc:\n",
    "        max_acc = mean_score\n",
    "        max_acc_str = 'p = {}:   accuracy = {}'.format(val, max_acc)\n",
    "    p_dict[val] = mean_score\n",
    "    \n",
    "max_acc_str"
   ]
  },
  {
   "cell_type": "code",
   "execution_count": 21,
   "metadata": {
    "execution": {
     "iopub.execute_input": "2020-09-25T19:34:02.532885Z",
     "iopub.status.busy": "2020-09-25T19:34:02.532266Z",
     "iopub.status.idle": "2020-09-25T19:34:09.661766Z",
     "shell.execute_reply": "2020-09-25T19:34:09.661028Z"
    },
    "papermill": {
     "duration": 7.15542,
     "end_time": "2020-09-25T19:34:09.661898",
     "exception": false,
     "start_time": "2020-09-25T19:34:02.506478",
     "status": "completed"
    },
    "tags": []
   },
   "outputs": [
    {
     "data": {
      "text/plain": [
       "0.8736888312600456"
      ]
     },
     "execution_count": 21,
     "metadata": {},
     "output_type": "execute_result"
    }
   ],
   "source": [
    "from sklearn.neighbors import NearestCentroid\n",
    "clf = NearestCentroid()\n",
    "clf.fit(X_train, y_train)\n",
    "scores = cross_val_score(knn, X_new, y, \n",
    "                         cv=kf, scoring='accuracy')\n",
    "mean_score = scores.mean()\n",
    "mean_score"
   ]
  },
  {
   "cell_type": "code",
   "execution_count": 22,
   "metadata": {
    "execution": {
     "iopub.execute_input": "2020-09-25T19:34:09.710491Z",
     "iopub.status.busy": "2020-09-25T19:34:09.709835Z",
     "iopub.status.idle": "2020-09-25T19:34:16.785217Z",
     "shell.execute_reply": "2020-09-25T19:34:16.784541Z"
    },
    "papermill": {
     "duration": 7.10252,
     "end_time": "2020-09-25T19:34:16.785335",
     "exception": false,
     "start_time": "2020-09-25T19:34:09.682815",
     "status": "completed"
    },
    "tags": []
   },
   "outputs": [
    {
     "data": {
      "text/plain": [
       "0.8736888312600456"
      ]
     },
     "execution_count": 22,
     "metadata": {},
     "output_type": "execute_result"
    }
   ],
   "source": [
    "from sklearn.neighbors import RadiusNeighborsClassifier\n",
    "neigh = RadiusNeighborsClassifier(radius=1.0)\n",
    "neigh.fit(X_train, y_train)\n",
    "scores = cross_val_score(knn, X_new, y, \n",
    "                         cv=kf, scoring='accuracy')\n",
    "mean_score = scores.mean()\n",
    "mean_score"
   ]
  }
 ],
 "metadata": {
  "kernelspec": {
   "display_name": "Python 3",
   "language": "python",
   "name": "python3"
  },
  "language_info": {
   "codemirror_mode": {
    "name": "ipython",
    "version": 3
   },
   "file_extension": ".py",
   "mimetype": "text/x-python",
   "name": "python",
   "nbconvert_exporter": "python",
   "pygments_lexer": "ipython3",
   "version": "3.7.6"
  },
  "papermill": {
   "duration": 1599.434066,
   "end_time": "2020-09-25T19:34:16.913988",
   "environment_variables": {},
   "exception": null,
   "input_path": "__notebook__.ipynb",
   "output_path": "__notebook__.ipynb",
   "parameters": {},
   "start_time": "2020-09-25T19:07:37.479922",
   "version": "2.1.0"
  }
 },
 "nbformat": 4,
 "nbformat_minor": 4
}
