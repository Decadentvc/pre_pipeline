{
 "cells": [
  {
   "cell_type": "code",
   "execution_count": 1,
   "metadata": {
    "_cell_guid": "b1076dfc-b9ad-4769-8c92-a6c4dae69d19",
    "_uuid": "8f2839f25d086af736a60e9eeb907d3b93b6e0e5",
    "execution": {
     "iopub.execute_input": "2020-08-20T05:21:27.793578Z",
     "iopub.status.busy": "2020-08-20T05:21:27.792791Z",
     "iopub.status.idle": "2020-08-20T05:21:27.799480Z",
     "shell.execute_reply": "2020-08-20T05:21:27.800015Z"
    },
    "papermill": {
     "duration": 0.035497,
     "end_time": "2020-08-20T05:21:27.800209",
     "exception": false,
     "start_time": "2020-08-20T05:21:27.764712",
     "status": "completed"
    },
    "tags": []
   },
   "outputs": [
    {
     "name": "stdout",
     "output_type": "stream",
     "text": [
      "/kaggle/input/german-credit-data-with-risk/german_credit_data.csv\n"
     ]
    }
   ],
   "source": [
    "# This Python 3 environment comes with many helpful analytics libraries installed\n",
    "# It is defined by the kaggle/python Docker image: https://github.com/kaggle/docker-python\n",
    "# For example, here's several helpful packages to load\n",
    "\n",
    "import numpy as np # linear algebra\n",
    "import pandas as pd # data processing, CSV file I/O (e.g. pd.read_csv)\n",
    "\n",
    "# Input data files are available in the read-only \"../input/\" directory\n",
    "# For example, running this (by clicking run or pressing Shift+Enter) will list all files under the input directory\n",
    "\n",
    "import os\n",
    "for dirname, _, filenames in os.walk('/kaggle/input'):\n",
    "    for filename in filenames:\n",
    "        print(os.path.join(dirname, filename))\n",
    "\n",
    "# You can write up to 5GB to the current directory (/kaggle/working/) that gets preserved as output when you create a version using \"Save & Run All\" \n",
    "# You can also write temporary files to /kaggle/temp/, but they won't be saved outside of the current session"
   ]
  },
  {
   "cell_type": "code",
   "execution_count": 2,
   "metadata": {
    "_cell_guid": "79c7e3d0-c299-4dcb-8224-4455121ee9b0",
    "_uuid": "d629ff2d2480ee46fbb7e2d37f6b5fab8052498a",
    "execution": {
     "iopub.execute_input": "2020-08-20T05:21:27.850118Z",
     "iopub.status.busy": "2020-08-20T05:21:27.849346Z",
     "iopub.status.idle": "2020-08-20T05:21:27.863988Z",
     "shell.execute_reply": "2020-08-20T05:21:27.863253Z"
    },
    "papermill": {
     "duration": 0.042742,
     "end_time": "2020-08-20T05:21:27.864136",
     "exception": false,
     "start_time": "2020-08-20T05:21:27.821394",
     "status": "completed"
    },
    "tags": []
   },
   "outputs": [],
   "source": [
    "df=pd.read_csv('/kaggle/input/german-credit-data-with-risk/german_credit_data.csv')"
   ]
  },
  {
   "cell_type": "code",
   "execution_count": 3,
   "metadata": {
    "execution": {
     "iopub.execute_input": "2020-08-20T05:21:27.931720Z",
     "iopub.status.busy": "2020-08-20T05:21:27.915100Z",
     "iopub.status.idle": "2020-08-20T05:21:27.947208Z",
     "shell.execute_reply": "2020-08-20T05:21:27.946543Z"
    },
    "papermill": {
     "duration": 0.062389,
     "end_time": "2020-08-20T05:21:27.947327",
     "exception": false,
     "start_time": "2020-08-20T05:21:27.884938",
     "status": "completed"
    },
    "tags": []
   },
   "outputs": [
    {
     "data": {
      "text/html": [
       "<div>\n",
       "<style scoped>\n",
       "    .dataframe tbody tr th:only-of-type {\n",
       "        vertical-align: middle;\n",
       "    }\n",
       "\n",
       "    .dataframe tbody tr th {\n",
       "        vertical-align: top;\n",
       "    }\n",
       "\n",
       "    .dataframe thead th {\n",
       "        text-align: right;\n",
       "    }\n",
       "</style>\n",
       "<table border=\"1\" class=\"dataframe\">\n",
       "  <thead>\n",
       "    <tr style=\"text-align: right;\">\n",
       "      <th></th>\n",
       "      <th>Unnamed: 0</th>\n",
       "      <th>Age</th>\n",
       "      <th>Sex</th>\n",
       "      <th>Job</th>\n",
       "      <th>Housing</th>\n",
       "      <th>Saving accounts</th>\n",
       "      <th>Checking account</th>\n",
       "      <th>Credit amount</th>\n",
       "      <th>Duration</th>\n",
       "      <th>Purpose</th>\n",
       "      <th>Risk</th>\n",
       "    </tr>\n",
       "  </thead>\n",
       "  <tbody>\n",
       "    <tr>\n",
       "      <th>0</th>\n",
       "      <td>0</td>\n",
       "      <td>67</td>\n",
       "      <td>male</td>\n",
       "      <td>2</td>\n",
       "      <td>own</td>\n",
       "      <td>NaN</td>\n",
       "      <td>little</td>\n",
       "      <td>1169</td>\n",
       "      <td>6</td>\n",
       "      <td>radio/TV</td>\n",
       "      <td>good</td>\n",
       "    </tr>\n",
       "    <tr>\n",
       "      <th>1</th>\n",
       "      <td>1</td>\n",
       "      <td>22</td>\n",
       "      <td>female</td>\n",
       "      <td>2</td>\n",
       "      <td>own</td>\n",
       "      <td>little</td>\n",
       "      <td>moderate</td>\n",
       "      <td>5951</td>\n",
       "      <td>48</td>\n",
       "      <td>radio/TV</td>\n",
       "      <td>bad</td>\n",
       "    </tr>\n",
       "    <tr>\n",
       "      <th>2</th>\n",
       "      <td>2</td>\n",
       "      <td>49</td>\n",
       "      <td>male</td>\n",
       "      <td>1</td>\n",
       "      <td>own</td>\n",
       "      <td>little</td>\n",
       "      <td>NaN</td>\n",
       "      <td>2096</td>\n",
       "      <td>12</td>\n",
       "      <td>education</td>\n",
       "      <td>good</td>\n",
       "    </tr>\n",
       "    <tr>\n",
       "      <th>3</th>\n",
       "      <td>3</td>\n",
       "      <td>45</td>\n",
       "      <td>male</td>\n",
       "      <td>2</td>\n",
       "      <td>free</td>\n",
       "      <td>little</td>\n",
       "      <td>little</td>\n",
       "      <td>7882</td>\n",
       "      <td>42</td>\n",
       "      <td>furniture/equipment</td>\n",
       "      <td>good</td>\n",
       "    </tr>\n",
       "    <tr>\n",
       "      <th>4</th>\n",
       "      <td>4</td>\n",
       "      <td>53</td>\n",
       "      <td>male</td>\n",
       "      <td>2</td>\n",
       "      <td>free</td>\n",
       "      <td>little</td>\n",
       "      <td>little</td>\n",
       "      <td>4870</td>\n",
       "      <td>24</td>\n",
       "      <td>car</td>\n",
       "      <td>bad</td>\n",
       "    </tr>\n",
       "    <tr>\n",
       "      <th>...</th>\n",
       "      <td>...</td>\n",
       "      <td>...</td>\n",
       "      <td>...</td>\n",
       "      <td>...</td>\n",
       "      <td>...</td>\n",
       "      <td>...</td>\n",
       "      <td>...</td>\n",
       "      <td>...</td>\n",
       "      <td>...</td>\n",
       "      <td>...</td>\n",
       "      <td>...</td>\n",
       "    </tr>\n",
       "    <tr>\n",
       "      <th>995</th>\n",
       "      <td>995</td>\n",
       "      <td>31</td>\n",
       "      <td>female</td>\n",
       "      <td>1</td>\n",
       "      <td>own</td>\n",
       "      <td>little</td>\n",
       "      <td>NaN</td>\n",
       "      <td>1736</td>\n",
       "      <td>12</td>\n",
       "      <td>furniture/equipment</td>\n",
       "      <td>good</td>\n",
       "    </tr>\n",
       "    <tr>\n",
       "      <th>996</th>\n",
       "      <td>996</td>\n",
       "      <td>40</td>\n",
       "      <td>male</td>\n",
       "      <td>3</td>\n",
       "      <td>own</td>\n",
       "      <td>little</td>\n",
       "      <td>little</td>\n",
       "      <td>3857</td>\n",
       "      <td>30</td>\n",
       "      <td>car</td>\n",
       "      <td>good</td>\n",
       "    </tr>\n",
       "    <tr>\n",
       "      <th>997</th>\n",
       "      <td>997</td>\n",
       "      <td>38</td>\n",
       "      <td>male</td>\n",
       "      <td>2</td>\n",
       "      <td>own</td>\n",
       "      <td>little</td>\n",
       "      <td>NaN</td>\n",
       "      <td>804</td>\n",
       "      <td>12</td>\n",
       "      <td>radio/TV</td>\n",
       "      <td>good</td>\n",
       "    </tr>\n",
       "    <tr>\n",
       "      <th>998</th>\n",
       "      <td>998</td>\n",
       "      <td>23</td>\n",
       "      <td>male</td>\n",
       "      <td>2</td>\n",
       "      <td>free</td>\n",
       "      <td>little</td>\n",
       "      <td>little</td>\n",
       "      <td>1845</td>\n",
       "      <td>45</td>\n",
       "      <td>radio/TV</td>\n",
       "      <td>bad</td>\n",
       "    </tr>\n",
       "    <tr>\n",
       "      <th>999</th>\n",
       "      <td>999</td>\n",
       "      <td>27</td>\n",
       "      <td>male</td>\n",
       "      <td>2</td>\n",
       "      <td>own</td>\n",
       "      <td>moderate</td>\n",
       "      <td>moderate</td>\n",
       "      <td>4576</td>\n",
       "      <td>45</td>\n",
       "      <td>car</td>\n",
       "      <td>good</td>\n",
       "    </tr>\n",
       "  </tbody>\n",
       "</table>\n",
       "<p>1000 rows × 11 columns</p>\n",
       "</div>"
      ],
      "text/plain": [
       "     Unnamed: 0  Age     Sex  Job Housing Saving accounts Checking account  \\\n",
       "0             0   67    male    2     own             NaN           little   \n",
       "1             1   22  female    2     own          little         moderate   \n",
       "2             2   49    male    1     own          little              NaN   \n",
       "3             3   45    male    2    free          little           little   \n",
       "4             4   53    male    2    free          little           little   \n",
       "..          ...  ...     ...  ...     ...             ...              ...   \n",
       "995         995   31  female    1     own          little              NaN   \n",
       "996         996   40    male    3     own          little           little   \n",
       "997         997   38    male    2     own          little              NaN   \n",
       "998         998   23    male    2    free          little           little   \n",
       "999         999   27    male    2     own        moderate         moderate   \n",
       "\n",
       "     Credit amount  Duration              Purpose  Risk  \n",
       "0             1169         6             radio/TV  good  \n",
       "1             5951        48             radio/TV   bad  \n",
       "2             2096        12            education  good  \n",
       "3             7882        42  furniture/equipment  good  \n",
       "4             4870        24                  car   bad  \n",
       "..             ...       ...                  ...   ...  \n",
       "995           1736        12  furniture/equipment  good  \n",
       "996           3857        30                  car  good  \n",
       "997            804        12             radio/TV  good  \n",
       "998           1845        45             radio/TV   bad  \n",
       "999           4576        45                  car  good  \n",
       "\n",
       "[1000 rows x 11 columns]"
      ]
     },
     "execution_count": 3,
     "metadata": {},
     "output_type": "execute_result"
    }
   ],
   "source": [
    "df"
   ]
  },
  {
   "cell_type": "code",
   "execution_count": 4,
   "metadata": {
    "execution": {
     "iopub.execute_input": "2020-08-20T05:21:28.012737Z",
     "iopub.status.busy": "2020-08-20T05:21:28.011904Z",
     "iopub.status.idle": "2020-08-20T05:21:28.015418Z",
     "shell.execute_reply": "2020-08-20T05:21:28.016287Z"
    },
    "papermill": {
     "duration": 0.046019,
     "end_time": "2020-08-20T05:21:28.016492",
     "exception": false,
     "start_time": "2020-08-20T05:21:27.970473",
     "status": "completed"
    },
    "tags": []
   },
   "outputs": [
    {
     "name": "stdout",
     "output_type": "stream",
     "text": [
      "<class 'pandas.core.frame.DataFrame'>\n",
      "RangeIndex: 1000 entries, 0 to 999\n",
      "Data columns (total 11 columns):\n",
      " #   Column            Non-Null Count  Dtype \n",
      "---  ------            --------------  ----- \n",
      " 0   Unnamed: 0        1000 non-null   int64 \n",
      " 1   Age               1000 non-null   int64 \n",
      " 2   Sex               1000 non-null   object\n",
      " 3   Job               1000 non-null   int64 \n",
      " 4   Housing           1000 non-null   object\n",
      " 5   Saving accounts   817 non-null    object\n",
      " 6   Checking account  606 non-null    object\n",
      " 7   Credit amount     1000 non-null   int64 \n",
      " 8   Duration          1000 non-null   int64 \n",
      " 9   Purpose           1000 non-null   object\n",
      " 10  Risk              1000 non-null   object\n",
      "dtypes: int64(5), object(6)\n",
      "memory usage: 86.1+ KB\n"
     ]
    }
   ],
   "source": [
    "df.info()"
   ]
  },
  {
   "cell_type": "code",
   "execution_count": 5,
   "metadata": {
    "execution": {
     "iopub.execute_input": "2020-08-20T05:21:28.069650Z",
     "iopub.status.busy": "2020-08-20T05:21:28.068845Z",
     "iopub.status.idle": "2020-08-20T05:21:28.073558Z",
     "shell.execute_reply": "2020-08-20T05:21:28.072939Z"
    },
    "papermill": {
     "duration": 0.034415,
     "end_time": "2020-08-20T05:21:28.073675",
     "exception": false,
     "start_time": "2020-08-20T05:21:28.039260",
     "status": "completed"
    },
    "tags": []
   },
   "outputs": [
    {
     "data": {
      "text/plain": [
       "Unnamed: 0            0\n",
       "Age                   0\n",
       "Sex                   0\n",
       "Job                   0\n",
       "Housing               0\n",
       "Saving accounts     183\n",
       "Checking account    394\n",
       "Credit amount         0\n",
       "Duration              0\n",
       "Purpose               0\n",
       "Risk                  0\n",
       "dtype: int64"
      ]
     },
     "execution_count": 5,
     "metadata": {},
     "output_type": "execute_result"
    }
   ],
   "source": [
    "df.isnull().sum()"
   ]
  },
  {
   "cell_type": "code",
   "execution_count": 6,
   "metadata": {
    "execution": {
     "iopub.execute_input": "2020-08-20T05:21:28.124064Z",
     "iopub.status.busy": "2020-08-20T05:21:28.123144Z",
     "iopub.status.idle": "2020-08-20T05:21:28.126611Z",
     "shell.execute_reply": "2020-08-20T05:21:28.126054Z"
    },
    "papermill": {
     "duration": 0.030142,
     "end_time": "2020-08-20T05:21:28.126738",
     "exception": false,
     "start_time": "2020-08-20T05:21:28.096596",
     "status": "completed"
    },
    "tags": []
   },
   "outputs": [],
   "source": [
    "#fill the nan values in both columns"
   ]
  },
  {
   "cell_type": "code",
   "execution_count": 7,
   "metadata": {
    "execution": {
     "iopub.execute_input": "2020-08-20T05:21:28.184049Z",
     "iopub.status.busy": "2020-08-20T05:21:28.183357Z",
     "iopub.status.idle": "2020-08-20T05:21:28.185965Z",
     "shell.execute_reply": "2020-08-20T05:21:28.186519Z"
    },
    "papermill": {
     "duration": 0.03693,
     "end_time": "2020-08-20T05:21:28.186673",
     "exception": false,
     "start_time": "2020-08-20T05:21:28.149743",
     "status": "completed"
    },
    "tags": []
   },
   "outputs": [],
   "source": [
    "df['Saving accounts']=df['Saving accounts'].fillna(df['Saving accounts'].mode()[0])"
   ]
  },
  {
   "cell_type": "code",
   "execution_count": 8,
   "metadata": {
    "execution": {
     "iopub.execute_input": "2020-08-20T05:21:28.239946Z",
     "iopub.status.busy": "2020-08-20T05:21:28.238730Z",
     "iopub.status.idle": "2020-08-20T05:21:28.242401Z",
     "shell.execute_reply": "2020-08-20T05:21:28.241728Z"
    },
    "papermill": {
     "duration": 0.033256,
     "end_time": "2020-08-20T05:21:28.242522",
     "exception": false,
     "start_time": "2020-08-20T05:21:28.209266",
     "status": "completed"
    },
    "tags": []
   },
   "outputs": [],
   "source": [
    "df['Checking account']=df['Checking account'].fillna(df['Checking account'].mode()[0])"
   ]
  },
  {
   "cell_type": "code",
   "execution_count": 9,
   "metadata": {
    "execution": {
     "iopub.execute_input": "2020-08-20T05:21:28.294953Z",
     "iopub.status.busy": "2020-08-20T05:21:28.294269Z",
     "iopub.status.idle": "2020-08-20T05:21:29.810725Z",
     "shell.execute_reply": "2020-08-20T05:21:29.810134Z"
    },
    "papermill": {
     "duration": 1.545307,
     "end_time": "2020-08-20T05:21:29.810869",
     "exception": false,
     "start_time": "2020-08-20T05:21:28.265562",
     "status": "completed"
    },
    "tags": []
   },
   "outputs": [
    {
     "data": {
      "text/plain": [
       "<matplotlib.axes._subplots.AxesSubplot at 0x7f98456ace10>"
      ]
     },
     "execution_count": 9,
     "metadata": {},
     "output_type": "execute_result"
    },
    {
     "data": {
      "image/png": "[encoded data removed]",
      "text/plain": [
       "<Figure size 432x288 with 2 Axes>"
      ]
     },
     "metadata": {
      "needs_background": "light"
     },
     "output_type": "display_data"
    }
   ],
   "source": [
    "import seaborn as sns\n",
    "import matplotlib.pyplot as plt\n",
    "sns.heatmap(df.isnull())"
   ]
  },
  {
   "cell_type": "code",
   "execution_count": 10,
   "metadata": {
    "execution": {
     "iopub.execute_input": "2020-08-20T05:21:29.866689Z",
     "iopub.status.busy": "2020-08-20T05:21:29.866078Z",
     "iopub.status.idle": "2020-08-20T05:21:29.869552Z",
     "shell.execute_reply": "2020-08-20T05:21:29.868872Z"
    },
    "papermill": {
     "duration": 0.034041,
     "end_time": "2020-08-20T05:21:29.869676",
     "exception": false,
     "start_time": "2020-08-20T05:21:29.835635",
     "status": "completed"
    },
    "tags": []
   },
   "outputs": [],
   "source": [
    "#now remove the unnamed column as it is unnecessary\n",
    "df=df.drop(['Unnamed: 0'],axis=1)"
   ]
  },
  {
   "cell_type": "code",
   "execution_count": 11,
   "metadata": {
    "execution": {
     "iopub.execute_input": "2020-08-20T05:21:29.940754Z",
     "iopub.status.busy": "2020-08-20T05:21:29.940113Z",
     "iopub.status.idle": "2020-08-20T05:21:29.945341Z",
     "shell.execute_reply": "2020-08-20T05:21:29.944620Z"
    },
    "papermill": {
     "duration": 0.051582,
     "end_time": "2020-08-20T05:21:29.945475",
     "exception": false,
     "start_time": "2020-08-20T05:21:29.893893",
     "status": "completed"
    },
    "tags": []
   },
   "outputs": [
    {
     "data": {
      "text/html": [
       "<div>\n",
       "<style scoped>\n",
       "    .dataframe tbody tr th:only-of-type {\n",
       "        vertical-align: middle;\n",
       "    }\n",
       "\n",
       "    .dataframe tbody tr th {\n",
       "        vertical-align: top;\n",
       "    }\n",
       "\n",
       "    .dataframe thead th {\n",
       "        text-align: right;\n",
       "    }\n",
       "</style>\n",
       "<table border=\"1\" class=\"dataframe\">\n",
       "  <thead>\n",
       "    <tr style=\"text-align: right;\">\n",
       "      <th></th>\n",
       "      <th>Age</th>\n",
       "      <th>Sex</th>\n",
       "      <th>Job</th>\n",
       "      <th>Housing</th>\n",
       "      <th>Saving accounts</th>\n",
       "      <th>Checking account</th>\n",
       "      <th>Credit amount</th>\n",
       "      <th>Duration</th>\n",
       "      <th>Purpose</th>\n",
       "      <th>Risk</th>\n",
       "    </tr>\n",
       "  </thead>\n",
       "  <tbody>\n",
       "    <tr>\n",
       "      <th>0</th>\n",
       "      <td>67</td>\n",
       "      <td>male</td>\n",
       "      <td>2</td>\n",
       "      <td>own</td>\n",
       "      <td>little</td>\n",
       "      <td>little</td>\n",
       "      <td>1169</td>\n",
       "      <td>6</td>\n",
       "      <td>radio/TV</td>\n",
       "      <td>good</td>\n",
       "    </tr>\n",
       "    <tr>\n",
       "      <th>1</th>\n",
       "      <td>22</td>\n",
       "      <td>female</td>\n",
       "      <td>2</td>\n",
       "      <td>own</td>\n",
       "      <td>little</td>\n",
       "      <td>moderate</td>\n",
       "      <td>5951</td>\n",
       "      <td>48</td>\n",
       "      <td>radio/TV</td>\n",
       "      <td>bad</td>\n",
       "    </tr>\n",
       "    <tr>\n",
       "      <th>2</th>\n",
       "      <td>49</td>\n",
       "      <td>male</td>\n",
       "      <td>1</td>\n",
       "      <td>own</td>\n",
       "      <td>little</td>\n",
       "      <td>little</td>\n",
       "      <td>2096</td>\n",
       "      <td>12</td>\n",
       "      <td>education</td>\n",
       "      <td>good</td>\n",
       "    </tr>\n",
       "    <tr>\n",
       "      <th>3</th>\n",
       "      <td>45</td>\n",
       "      <td>male</td>\n",
       "      <td>2</td>\n",
       "      <td>free</td>\n",
       "      <td>little</td>\n",
       "      <td>little</td>\n",
       "      <td>7882</td>\n",
       "      <td>42</td>\n",
       "      <td>furniture/equipment</td>\n",
       "      <td>good</td>\n",
       "    </tr>\n",
       "    <tr>\n",
       "      <th>4</th>\n",
       "      <td>53</td>\n",
       "      <td>male</td>\n",
       "      <td>2</td>\n",
       "      <td>free</td>\n",
       "      <td>little</td>\n",
       "      <td>little</td>\n",
       "      <td>4870</td>\n",
       "      <td>24</td>\n",
       "      <td>car</td>\n",
       "      <td>bad</td>\n",
       "    </tr>\n",
       "    <tr>\n",
       "      <th>...</th>\n",
       "      <td>...</td>\n",
       "      <td>...</td>\n",
       "      <td>...</td>\n",
       "      <td>...</td>\n",
       "      <td>...</td>\n",
       "      <td>...</td>\n",
       "      <td>...</td>\n",
       "      <td>...</td>\n",
       "      <td>...</td>\n",
       "      <td>...</td>\n",
       "    </tr>\n",
       "    <tr>\n",
       "      <th>995</th>\n",
       "      <td>31</td>\n",
       "      <td>female</td>\n",
       "      <td>1</td>\n",
       "      <td>own</td>\n",
       "      <td>little</td>\n",
       "      <td>little</td>\n",
       "      <td>1736</td>\n",
       "      <td>12</td>\n",
       "      <td>furniture/equipment</td>\n",
       "      <td>good</td>\n",
       "    </tr>\n",
       "    <tr>\n",
       "      <th>996</th>\n",
       "      <td>40</td>\n",
       "      <td>male</td>\n",
       "      <td>3</td>\n",
       "      <td>own</td>\n",
       "      <td>little</td>\n",
       "      <td>little</td>\n",
       "      <td>3857</td>\n",
       "      <td>30</td>\n",
       "      <td>car</td>\n",
       "      <td>good</td>\n",
       "    </tr>\n",
       "    <tr>\n",
       "      <th>997</th>\n",
       "      <td>38</td>\n",
       "      <td>male</td>\n",
       "      <td>2</td>\n",
       "      <td>own</td>\n",
       "      <td>little</td>\n",
       "      <td>little</td>\n",
       "      <td>804</td>\n",
       "      <td>12</td>\n",
       "      <td>radio/TV</td>\n",
       "      <td>good</td>\n",
       "    </tr>\n",
       "    <tr>\n",
       "      <th>998</th>\n",
       "      <td>23</td>\n",
       "      <td>male</td>\n",
       "      <td>2</td>\n",
       "      <td>free</td>\n",
       "      <td>little</td>\n",
       "      <td>little</td>\n",
       "      <td>1845</td>\n",
       "      <td>45</td>\n",
       "      <td>radio/TV</td>\n",
       "      <td>bad</td>\n",
       "    </tr>\n",
       "    <tr>\n",
       "      <th>999</th>\n",
       "      <td>27</td>\n",
       "      <td>male</td>\n",
       "      <td>2</td>\n",
       "      <td>own</td>\n",
       "      <td>moderate</td>\n",
       "      <td>moderate</td>\n",
       "      <td>4576</td>\n",
       "      <td>45</td>\n",
       "      <td>car</td>\n",
       "      <td>good</td>\n",
       "    </tr>\n",
       "  </tbody>\n",
       "</table>\n",
       "<p>1000 rows × 10 columns</p>\n",
       "</div>"
      ],
      "text/plain": [
       "     Age     Sex  Job Housing Saving accounts Checking account  Credit amount  \\\n",
       "0     67    male    2     own          little           little           1169   \n",
       "1     22  female    2     own          little         moderate           5951   \n",
       "2     49    male    1     own          little           little           2096   \n",
       "3     45    male    2    free          little           little           7882   \n",
       "4     53    male    2    free          little           little           4870   \n",
       "..   ...     ...  ...     ...             ...              ...            ...   \n",
       "995   31  female    1     own          little           little           1736   \n",
       "996   40    male    3     own          little           little           3857   \n",
       "997   38    male    2     own          little           little            804   \n",
       "998   23    male    2    free          little           little           1845   \n",
       "999   27    male    2     own        moderate         moderate           4576   \n",
       "\n",
       "     Duration              Purpose  Risk  \n",
       "0           6             radio/TV  good  \n",
       "1          48             radio/TV   bad  \n",
       "2          12            education  good  \n",
       "3          42  furniture/equipment  good  \n",
       "4          24                  car   bad  \n",
       "..        ...                  ...   ...  \n",
       "995        12  furniture/equipment  good  \n",
       "996        30                  car  good  \n",
       "997        12             radio/TV  good  \n",
       "998        45             radio/TV   bad  \n",
       "999        45                  car  good  \n",
       "\n",
       "[1000 rows x 10 columns]"
      ]
     },
     "execution_count": 11,
     "metadata": {},
     "output_type": "execute_result"
    }
   ],
   "source": [
    "df"
   ]
  },
  {
   "cell_type": "code",
   "execution_count": 12,
   "metadata": {
    "execution": {
     "iopub.execute_input": "2020-08-20T05:21:30.004851Z",
     "iopub.status.busy": "2020-08-20T05:21:30.004102Z",
     "iopub.status.idle": "2020-08-20T05:21:30.138677Z",
     "shell.execute_reply": "2020-08-20T05:21:30.138112Z"
    },
    "papermill": {
     "duration": 0.168079,
     "end_time": "2020-08-20T05:21:30.138816",
     "exception": false,
     "start_time": "2020-08-20T05:21:29.970737",
     "status": "completed"
    },
    "tags": []
   },
   "outputs": [
    {
     "data": {
      "text/plain": [
       "<matplotlib.axes._subplots.AxesSubplot at 0x7f9845416ad0>"
      ]
     },
     "execution_count": 12,
     "metadata": {},
     "output_type": "execute_result"
    },
    {
     "data": {
      "image/png": "[encoded data removed]",
      "text/plain": [
       "<Figure size 432x288 with 1 Axes>"
      ]
     },
     "metadata": {
      "needs_background": "light"
     },
     "output_type": "display_data"
    }
   ],
   "source": [
    "sns.countplot(x=df['Risk'],hue='Sex',data=df)"
   ]
  },
  {
   "cell_type": "code",
   "execution_count": 13,
   "metadata": {
    "execution": {
     "iopub.execute_input": "2020-08-20T05:21:30.200380Z",
     "iopub.status.busy": "2020-08-20T05:21:30.199586Z",
     "iopub.status.idle": "2020-08-20T05:21:30.347636Z",
     "shell.execute_reply": "2020-08-20T05:21:30.346801Z"
    },
    "papermill": {
     "duration": 0.182756,
     "end_time": "2020-08-20T05:21:30.347818",
     "exception": false,
     "start_time": "2020-08-20T05:21:30.165062",
     "status": "completed"
    },
    "tags": []
   },
   "outputs": [
    {
     "data": {
      "text/plain": [
       "<matplotlib.axes._subplots.AxesSubplot at 0x7f9845377650>"
      ]
     },
     "execution_count": 13,
     "metadata": {},
     "output_type": "execute_result"
    },
    {
     "data": {
      "image/png": "[encoded data removed]",
      "text/plain": [
       "<Figure size 432x288 with 1 Axes>"
      ]
     },
     "metadata": {
      "needs_background": "light"
     },
     "output_type": "display_data"
    }
   ],
   "source": [
    "sns.countplot(x=df['Risk'],hue='Housing',data=df)"
   ]
  },
  {
   "cell_type": "code",
   "execution_count": 14,
   "metadata": {
    "execution": {
     "iopub.execute_input": "2020-08-20T05:21:30.407899Z",
     "iopub.status.busy": "2020-08-20T05:21:30.406967Z",
     "iopub.status.idle": "2020-08-20T05:21:30.410379Z",
     "shell.execute_reply": "2020-08-20T05:21:30.409760Z"
    },
    "papermill": {
     "duration": 0.034973,
     "end_time": "2020-08-20T05:21:30.410490",
     "exception": false,
     "start_time": "2020-08-20T05:21:30.375517",
     "status": "completed"
    },
    "tags": []
   },
   "outputs": [],
   "source": [
    "#there is  good risk at own house"
   ]
  },
  {
   "cell_type": "code",
   "execution_count": 15,
   "metadata": {
    "execution": {
     "iopub.execute_input": "2020-08-20T05:21:30.474077Z",
     "iopub.status.busy": "2020-08-20T05:21:30.473376Z",
     "iopub.status.idle": "2020-08-20T05:21:30.628021Z",
     "shell.execute_reply": "2020-08-20T05:21:30.627463Z"
    },
    "papermill": {
     "duration": 0.190077,
     "end_time": "2020-08-20T05:21:30.628150",
     "exception": false,
     "start_time": "2020-08-20T05:21:30.438073",
     "status": "completed"
    },
    "tags": []
   },
   "outputs": [
    {
     "data": {
      "text/plain": [
       "<matplotlib.axes._subplots.AxesSubplot at 0x7f98452fa990>"
      ]
     },
     "execution_count": 15,
     "metadata": {},
     "output_type": "execute_result"
    },
    {
     "data": {
      "image/png": "[encoded data removed]",
      "text/plain": [
       "<Figure size 432x288 with 1 Axes>"
      ]
     },
     "metadata": {
      "needs_background": "light"
     },
     "output_type": "display_data"
    }
   ],
   "source": [
    "sns.countplot(x=df['Risk'],hue='Saving accounts',data=df)"
   ]
  },
  {
   "cell_type": "code",
   "execution_count": 16,
   "metadata": {
    "execution": {
     "iopub.execute_input": "2020-08-20T05:21:30.690647Z",
     "iopub.status.busy": "2020-08-20T05:21:30.690009Z",
     "iopub.status.idle": "2020-08-20T05:21:30.692448Z",
     "shell.execute_reply": "2020-08-20T05:21:30.692912Z"
    },
    "papermill": {
     "duration": 0.035771,
     "end_time": "2020-08-20T05:21:30.693068",
     "exception": false,
     "start_time": "2020-08-20T05:21:30.657297",
     "status": "completed"
    },
    "tags": []
   },
   "outputs": [],
   "source": [
    "#high risk at little savings"
   ]
  },
  {
   "cell_type": "code",
   "execution_count": 17,
   "metadata": {
    "execution": {
     "iopub.execute_input": "2020-08-20T05:21:30.759392Z",
     "iopub.status.busy": "2020-08-20T05:21:30.757520Z",
     "iopub.status.idle": "2020-08-20T05:21:30.904692Z",
     "shell.execute_reply": "2020-08-20T05:21:30.904128Z"
    },
    "papermill": {
     "duration": 0.183191,
     "end_time": "2020-08-20T05:21:30.904839",
     "exception": false,
     "start_time": "2020-08-20T05:21:30.721648",
     "status": "completed"
    },
    "tags": []
   },
   "outputs": [
    {
     "data": {
      "text/plain": [
       "<matplotlib.axes._subplots.AxesSubplot at 0x7f984526c0d0>"
      ]
     },
     "execution_count": 17,
     "metadata": {},
     "output_type": "execute_result"
    },
    {
     "data": {
      "image/png": "[encoded data removed]",
      "text/plain": [
       "<Figure size 432x288 with 1 Axes>"
      ]
     },
     "metadata": {
      "needs_background": "light"
     },
     "output_type": "display_data"
    }
   ],
   "source": [
    "sns.countplot(x=df['Risk'],hue='Checking account',data=df)"
   ]
  },
  {
   "cell_type": "code",
   "execution_count": 18,
   "metadata": {
    "execution": {
     "iopub.execute_input": "2020-08-20T05:21:31.065327Z",
     "iopub.status.busy": "2020-08-20T05:21:31.064362Z",
     "iopub.status.idle": "2020-08-20T05:21:31.245331Z",
     "shell.execute_reply": "2020-08-20T05:21:31.244516Z"
    },
    "papermill": {
     "duration": 0.310493,
     "end_time": "2020-08-20T05:21:31.245469",
     "exception": false,
     "start_time": "2020-08-20T05:21:30.934976",
     "status": "completed"
    },
    "tags": []
   },
   "outputs": [
    {
     "data": {
      "text/plain": [
       "<matplotlib.axes._subplots.AxesSubplot at 0x7f98451f0990>"
      ]
     },
     "execution_count": 18,
     "metadata": {},
     "output_type": "execute_result"
    },
    {
     "data": {
      "image/png": "[encoded data removed]",
      "text/plain": [
       "<Figure size 432x288 with 1 Axes>"
      ]
     },
     "metadata": {
      "needs_background": "light"
     },
     "output_type": "display_data"
    }
   ],
   "source": [
    "sns.scatterplot(x=df['Age'],y=df['Credit amount'],data=df)"
   ]
  },
  {
   "cell_type": "code",
   "execution_count": 19,
   "metadata": {
    "execution": {
     "iopub.execute_input": "2020-08-20T05:21:31.328571Z",
     "iopub.status.busy": "2020-08-20T05:21:31.327489Z",
     "iopub.status.idle": "2020-08-20T05:21:31.522622Z",
     "shell.execute_reply": "2020-08-20T05:21:31.522084Z"
    },
    "papermill": {
     "duration": 0.244707,
     "end_time": "2020-08-20T05:21:31.522736",
     "exception": false,
     "start_time": "2020-08-20T05:21:31.278029",
     "status": "completed"
    },
    "tags": []
   },
   "outputs": [
    {
     "data": {
      "text/plain": [
       "<matplotlib.axes._subplots.AxesSubplot at 0x7f9844150410>"
      ]
     },
     "execution_count": 19,
     "metadata": {},
     "output_type": "execute_result"
    },
    {
     "data": {
      "image/png": "[encoded data removed]",
      "text/plain": [
       "<Figure size 432x288 with 1 Axes>"
      ]
     },
     "metadata": {
      "needs_background": "light"
     },
     "output_type": "display_data"
    }
   ],
   "source": [
    "sns.distplot(df['Credit amount'])"
   ]
  },
  {
   "cell_type": "code",
   "execution_count": 20,
   "metadata": {
    "execution": {
     "iopub.execute_input": "2020-08-20T05:21:31.596398Z",
     "iopub.status.busy": "2020-08-20T05:21:31.593753Z",
     "iopub.status.idle": "2020-08-20T05:21:31.740215Z",
     "shell.execute_reply": "2020-08-20T05:21:31.739629Z"
    },
    "papermill": {
     "duration": 0.185517,
     "end_time": "2020-08-20T05:21:31.740338",
     "exception": false,
     "start_time": "2020-08-20T05:21:31.554821",
     "status": "completed"
    },
    "tags": []
   },
   "outputs": [
    {
     "data": {
      "text/plain": [
       "<matplotlib.axes._subplots.AxesSubplot at 0x7f984402a1d0>"
      ]
     },
     "execution_count": 20,
     "metadata": {},
     "output_type": "execute_result"
    },
    {
     "data": {
      "image/png": "[encoded data removed]",
      "text/plain": [
       "<Figure size 432x288 with 1 Axes>"
      ]
     },
     "metadata": {
      "needs_background": "light"
     },
     "output_type": "display_data"
    }
   ],
   "source": [
    "sns.countplot(x=df['Risk'],hue='Job',data=df)"
   ]
  },
  {
   "cell_type": "code",
   "execution_count": 21,
   "metadata": {
    "execution": {
     "iopub.execute_input": "2020-08-20T05:21:31.837260Z",
     "iopub.status.busy": "2020-08-20T05:21:31.836279Z",
     "iopub.status.idle": "2020-08-20T05:21:31.839687Z",
     "shell.execute_reply": "2020-08-20T05:21:31.838804Z"
    },
    "papermill": {
     "duration": 0.047138,
     "end_time": "2020-08-20T05:21:31.839879",
     "exception": false,
     "start_time": "2020-08-20T05:21:31.792741",
     "status": "completed"
    },
    "tags": []
   },
   "outputs": [],
   "source": [
    "#now dealing with the categorical features"
   ]
  },
  {
   "cell_type": "code",
   "execution_count": 22,
   "metadata": {
    "execution": {
     "iopub.execute_input": "2020-08-20T05:21:31.938064Z",
     "iopub.status.busy": "2020-08-20T05:21:31.936918Z",
     "iopub.status.idle": "2020-08-20T05:21:32.012353Z",
     "shell.execute_reply": "2020-08-20T05:21:32.011649Z"
    },
    "papermill": {
     "duration": 0.127749,
     "end_time": "2020-08-20T05:21:32.012477",
     "exception": false,
     "start_time": "2020-08-20T05:21:31.884728",
     "status": "completed"
    },
    "tags": []
   },
   "outputs": [],
   "source": [
    "from sklearn.preprocessing import LabelEncoder\n",
    "le=LabelEncoder()\n",
    "for i in list(df.columns):\n",
    "    if df[i].dtype=='object':\n",
    "        df[i]=le.fit_transform(df[i])"
   ]
  },
  {
   "cell_type": "code",
   "execution_count": 23,
   "metadata": {
    "execution": {
     "iopub.execute_input": "2020-08-20T05:21:32.095974Z",
     "iopub.status.busy": "2020-08-20T05:21:32.094989Z",
     "iopub.status.idle": "2020-08-20T05:21:32.098646Z",
     "shell.execute_reply": "2020-08-20T05:21:32.099154Z"
    },
    "papermill": {
     "duration": 0.052607,
     "end_time": "2020-08-20T05:21:32.099323",
     "exception": false,
     "start_time": "2020-08-20T05:21:32.046716",
     "status": "completed"
    },
    "tags": []
   },
   "outputs": [
    {
     "data": {
      "text/html": [
       "<div>\n",
       "<style scoped>\n",
       "    .dataframe tbody tr th:only-of-type {\n",
       "        vertical-align: middle;\n",
       "    }\n",
       "\n",
       "    .dataframe tbody tr th {\n",
       "        vertical-align: top;\n",
       "    }\n",
       "\n",
       "    .dataframe thead th {\n",
       "        text-align: right;\n",
       "    }\n",
       "</style>\n",
       "<table border=\"1\" class=\"dataframe\">\n",
       "  <thead>\n",
       "    <tr style=\"text-align: right;\">\n",
       "      <th></th>\n",
       "      <th>Age</th>\n",
       "      <th>Sex</th>\n",
       "      <th>Job</th>\n",
       "      <th>Housing</th>\n",
       "      <th>Saving accounts</th>\n",
       "      <th>Checking account</th>\n",
       "      <th>Credit amount</th>\n",
       "      <th>Duration</th>\n",
       "      <th>Purpose</th>\n",
       "      <th>Risk</th>\n",
       "    </tr>\n",
       "  </thead>\n",
       "  <tbody>\n",
       "    <tr>\n",
       "      <th>0</th>\n",
       "      <td>67</td>\n",
       "      <td>1</td>\n",
       "      <td>2</td>\n",
       "      <td>1</td>\n",
       "      <td>0</td>\n",
       "      <td>0</td>\n",
       "      <td>1169</td>\n",
       "      <td>6</td>\n",
       "      <td>5</td>\n",
       "      <td>1</td>\n",
       "    </tr>\n",
       "    <tr>\n",
       "      <th>1</th>\n",
       "      <td>22</td>\n",
       "      <td>0</td>\n",
       "      <td>2</td>\n",
       "      <td>1</td>\n",
       "      <td>0</td>\n",
       "      <td>1</td>\n",
       "      <td>5951</td>\n",
       "      <td>48</td>\n",
       "      <td>5</td>\n",
       "      <td>0</td>\n",
       "    </tr>\n",
       "    <tr>\n",
       "      <th>2</th>\n",
       "      <td>49</td>\n",
       "      <td>1</td>\n",
       "      <td>1</td>\n",
       "      <td>1</td>\n",
       "      <td>0</td>\n",
       "      <td>0</td>\n",
       "      <td>2096</td>\n",
       "      <td>12</td>\n",
       "      <td>3</td>\n",
       "      <td>1</td>\n",
       "    </tr>\n",
       "    <tr>\n",
       "      <th>3</th>\n",
       "      <td>45</td>\n",
       "      <td>1</td>\n",
       "      <td>2</td>\n",
       "      <td>0</td>\n",
       "      <td>0</td>\n",
       "      <td>0</td>\n",
       "      <td>7882</td>\n",
       "      <td>42</td>\n",
       "      <td>4</td>\n",
       "      <td>1</td>\n",
       "    </tr>\n",
       "    <tr>\n",
       "      <th>4</th>\n",
       "      <td>53</td>\n",
       "      <td>1</td>\n",
       "      <td>2</td>\n",
       "      <td>0</td>\n",
       "      <td>0</td>\n",
       "      <td>0</td>\n",
       "      <td>4870</td>\n",
       "      <td>24</td>\n",
       "      <td>1</td>\n",
       "      <td>0</td>\n",
       "    </tr>\n",
       "    <tr>\n",
       "      <th>...</th>\n",
       "      <td>...</td>\n",
       "      <td>...</td>\n",
       "      <td>...</td>\n",
       "      <td>...</td>\n",
       "      <td>...</td>\n",
       "      <td>...</td>\n",
       "      <td>...</td>\n",
       "      <td>...</td>\n",
       "      <td>...</td>\n",
       "      <td>...</td>\n",
       "    </tr>\n",
       "    <tr>\n",
       "      <th>995</th>\n",
       "      <td>31</td>\n",
       "      <td>0</td>\n",
       "      <td>1</td>\n",
       "      <td>1</td>\n",
       "      <td>0</td>\n",
       "      <td>0</td>\n",
       "      <td>1736</td>\n",
       "      <td>12</td>\n",
       "      <td>4</td>\n",
       "      <td>1</td>\n",
       "    </tr>\n",
       "    <tr>\n",
       "      <th>996</th>\n",
       "      <td>40</td>\n",
       "      <td>1</td>\n",
       "      <td>3</td>\n",
       "      <td>1</td>\n",
       "      <td>0</td>\n",
       "      <td>0</td>\n",
       "      <td>3857</td>\n",
       "      <td>30</td>\n",
       "      <td>1</td>\n",
       "      <td>1</td>\n",
       "    </tr>\n",
       "    <tr>\n",
       "      <th>997</th>\n",
       "      <td>38</td>\n",
       "      <td>1</td>\n",
       "      <td>2</td>\n",
       "      <td>1</td>\n",
       "      <td>0</td>\n",
       "      <td>0</td>\n",
       "      <td>804</td>\n",
       "      <td>12</td>\n",
       "      <td>5</td>\n",
       "      <td>1</td>\n",
       "    </tr>\n",
       "    <tr>\n",
       "      <th>998</th>\n",
       "      <td>23</td>\n",
       "      <td>1</td>\n",
       "      <td>2</td>\n",
       "      <td>0</td>\n",
       "      <td>0</td>\n",
       "      <td>0</td>\n",
       "      <td>1845</td>\n",
       "      <td>45</td>\n",
       "      <td>5</td>\n",
       "      <td>0</td>\n",
       "    </tr>\n",
       "    <tr>\n",
       "      <th>999</th>\n",
       "      <td>27</td>\n",
       "      <td>1</td>\n",
       "      <td>2</td>\n",
       "      <td>1</td>\n",
       "      <td>1</td>\n",
       "      <td>1</td>\n",
       "      <td>4576</td>\n",
       "      <td>45</td>\n",
       "      <td>1</td>\n",
       "      <td>1</td>\n",
       "    </tr>\n",
       "  </tbody>\n",
       "</table>\n",
       "<p>1000 rows × 10 columns</p>\n",
       "</div>"
      ],
      "text/plain": [
       "     Age  Sex  Job  Housing  Saving accounts  Checking account  Credit amount  \\\n",
       "0     67    1    2        1                0                 0           1169   \n",
       "1     22    0    2        1                0                 1           5951   \n",
       "2     49    1    1        1                0                 0           2096   \n",
       "3     45    1    2        0                0                 0           7882   \n",
       "4     53    1    2        0                0                 0           4870   \n",
       "..   ...  ...  ...      ...              ...               ...            ...   \n",
       "995   31    0    1        1                0                 0           1736   \n",
       "996   40    1    3        1                0                 0           3857   \n",
       "997   38    1    2        1                0                 0            804   \n",
       "998   23    1    2        0                0                 0           1845   \n",
       "999   27    1    2        1                1                 1           4576   \n",
       "\n",
       "     Duration  Purpose  Risk  \n",
       "0           6        5     1  \n",
       "1          48        5     0  \n",
       "2          12        3     1  \n",
       "3          42        4     1  \n",
       "4          24        1     0  \n",
       "..        ...      ...   ...  \n",
       "995        12        4     1  \n",
       "996        30        1     1  \n",
       "997        12        5     1  \n",
       "998        45        5     0  \n",
       "999        45        1     1  \n",
       "\n",
       "[1000 rows x 10 columns]"
      ]
     },
     "execution_count": 23,
     "metadata": {},
     "output_type": "execute_result"
    }
   ],
   "source": [
    "df"
   ]
  },
  {
   "cell_type": "code",
   "execution_count": 24,
   "metadata": {
    "execution": {
     "iopub.execute_input": "2020-08-20T05:21:32.173709Z",
     "iopub.status.busy": "2020-08-20T05:21:32.172735Z",
     "iopub.status.idle": "2020-08-20T05:21:32.176976Z",
     "shell.execute_reply": "2020-08-20T05:21:32.176345Z"
    },
    "papermill": {
     "duration": 0.043769,
     "end_time": "2020-08-20T05:21:32.177104",
     "exception": false,
     "start_time": "2020-08-20T05:21:32.133335",
     "status": "completed"
    },
    "tags": []
   },
   "outputs": [],
   "source": [
    "y=df['Risk']\n",
    "x=df.drop(['Risk'],axis=1)"
   ]
  },
  {
   "cell_type": "code",
   "execution_count": 25,
   "metadata": {
    "execution": {
     "iopub.execute_input": "2020-08-20T05:21:32.249066Z",
     "iopub.status.busy": "2020-08-20T05:21:32.248390Z",
     "iopub.status.idle": "2020-08-20T05:21:32.305367Z",
     "shell.execute_reply": "2020-08-20T05:21:32.304612Z"
    },
    "papermill": {
     "duration": 0.095201,
     "end_time": "2020-08-20T05:21:32.305490",
     "exception": false,
     "start_time": "2020-08-20T05:21:32.210289",
     "status": "completed"
    },
    "tags": []
   },
   "outputs": [],
   "source": [
    "from sklearn.model_selection import train_test_split\n",
    "x_train,x_test,y_train,y_test=train_test_split(x,y,random_state=0,test_size=0.2)"
   ]
  },
  {
   "cell_type": "code",
   "execution_count": 26,
   "metadata": {
    "execution": {
     "iopub.execute_input": "2020-08-20T05:21:32.381444Z",
     "iopub.status.busy": "2020-08-20T05:21:32.380660Z",
     "iopub.status.idle": "2020-08-20T05:21:32.518357Z",
     "shell.execute_reply": "2020-08-20T05:21:32.517754Z"
    },
    "papermill": {
     "duration": 0.17819,
     "end_time": "2020-08-20T05:21:32.518474",
     "exception": false,
     "start_time": "2020-08-20T05:21:32.340284",
     "status": "completed"
    },
    "tags": []
   },
   "outputs": [],
   "source": [
    "from sklearn.linear_model import LogisticRegression\n",
    "from sklearn.metrics import accuracy_score\n",
    "list_scores=[]\n",
    "list_models=[]\n",
    "lr=LogisticRegression(max_iter=10000)\n",
    "lr.fit(x_train,y_train)\n",
    "pred_1=lr.predict(x_test)\n",
    "score_1=accuracy_score(y_test,pred_1)\n",
    "list_scores.append(score_1)\n",
    "list_models.append('logistic regression')\n"
   ]
  },
  {
   "cell_type": "code",
   "execution_count": 27,
   "metadata": {
    "execution": {
     "iopub.execute_input": "2020-08-20T05:21:32.590961Z",
     "iopub.status.busy": "2020-08-20T05:21:32.590101Z",
     "iopub.status.idle": "2020-08-20T05:21:32.593878Z",
     "shell.execute_reply": "2020-08-20T05:21:32.594477Z"
    },
    "papermill": {
     "duration": 0.042694,
     "end_time": "2020-08-20T05:21:32.594672",
     "exception": false,
     "start_time": "2020-08-20T05:21:32.551978",
     "status": "completed"
    },
    "tags": []
   },
   "outputs": [
    {
     "data": {
      "text/plain": [
       "0.715"
      ]
     },
     "execution_count": 27,
     "metadata": {},
     "output_type": "execute_result"
    }
   ],
   "source": [
    "score_1"
   ]
  },
  {
   "cell_type": "code",
   "execution_count": 28,
   "metadata": {
    "execution": {
     "iopub.execute_input": "2020-08-20T05:21:32.676520Z",
     "iopub.status.busy": "2020-08-20T05:21:32.675673Z",
     "iopub.status.idle": "2020-08-20T05:21:32.965272Z",
     "shell.execute_reply": "2020-08-20T05:21:32.964658Z"
    },
    "papermill": {
     "duration": 0.331257,
     "end_time": "2020-08-20T05:21:32.965392",
     "exception": false,
     "start_time": "2020-08-20T05:21:32.634135",
     "status": "completed"
    },
    "tags": []
   },
   "outputs": [],
   "source": [
    "from sklearn.neighbors import KNeighborsClassifier\n",
    "list_1=[]\n",
    "for i in range(1,21):\n",
    "    knn=KNeighborsClassifier(n_neighbors=i)\n",
    "    knn.fit(x_train,y_train)\n",
    "    pred_s=knn.predict(x_test)\n",
    "    scores=accuracy_score(y_test,pred_s)\n",
    "    list_1.append(scores)\n",
    "    "
   ]
  },
  {
   "cell_type": "code",
   "execution_count": 29,
   "metadata": {
    "execution": {
     "iopub.execute_input": "2020-08-20T05:21:33.050890Z",
     "iopub.status.busy": "2020-08-20T05:21:33.048137Z",
     "iopub.status.idle": "2020-08-20T05:21:33.319333Z",
     "shell.execute_reply": "2020-08-20T05:21:33.318741Z"
    },
    "papermill": {
     "duration": 0.31987,
     "end_time": "2020-08-20T05:21:33.319453",
     "exception": false,
     "start_time": "2020-08-20T05:21:32.999583",
     "status": "completed"
    },
    "tags": []
   },
   "outputs": [
    {
     "data": {
      "text/plain": [
       "<matplotlib.axes._subplots.AxesSubplot at 0x7f983ad31b10>"
      ]
     },
     "execution_count": 29,
     "metadata": {},
     "output_type": "execute_result"
    },
    {
     "data": {
      "image/png": "[encoded data removed]",
      "text/plain": [
       "<Figure size 432x288 with 1 Axes>"
      ]
     },
     "metadata": {},
     "output_type": "display_data"
    }
   ],
   "source": [
    "sns.set_style('whitegrid')\n",
    "sns.lineplot(x=list(range(1,21)),y=list_1)"
   ]
  },
  {
   "cell_type": "code",
   "execution_count": 30,
   "metadata": {
    "execution": {
     "iopub.execute_input": "2020-08-20T05:21:33.400521Z",
     "iopub.status.busy": "2020-08-20T05:21:33.399714Z",
     "iopub.status.idle": "2020-08-20T05:21:33.402886Z",
     "shell.execute_reply": "2020-08-20T05:21:33.402224Z"
    },
    "papermill": {
     "duration": 0.046698,
     "end_time": "2020-08-20T05:21:33.403012",
     "exception": false,
     "start_time": "2020-08-20T05:21:33.356314",
     "status": "completed"
    },
    "tags": []
   },
   "outputs": [],
   "source": [
    "list_scores.append(max(list_1))\n",
    "list_models.append('kneighbors classifier')"
   ]
  },
  {
   "cell_type": "code",
   "execution_count": 31,
   "metadata": {
    "execution": {
     "iopub.execute_input": "2020-08-20T05:21:33.480720Z",
     "iopub.status.busy": "2020-08-20T05:21:33.479809Z",
     "iopub.status.idle": "2020-08-20T05:21:33.775517Z",
     "shell.execute_reply": "2020-08-20T05:21:33.774723Z"
    },
    "papermill": {
     "duration": 0.337176,
     "end_time": "2020-08-20T05:21:33.775698",
     "exception": false,
     "start_time": "2020-08-20T05:21:33.438522",
     "status": "completed"
    },
    "tags": []
   },
   "outputs": [],
   "source": [
    "from sklearn.ensemble import RandomForestClassifier\n",
    "rfc=RandomForestClassifier()\n",
    "rfc.fit(x_train,y_train)\n",
    "pred_2=rfc.predict(x_test)\n",
    "score_2=accuracy_score(y_test,pred_2)"
   ]
  },
  {
   "cell_type": "code",
   "execution_count": 32,
   "metadata": {
    "execution": {
     "iopub.execute_input": "2020-08-20T05:21:33.854242Z",
     "iopub.status.busy": "2020-08-20T05:21:33.853337Z",
     "iopub.status.idle": "2020-08-20T05:21:33.856260Z",
     "shell.execute_reply": "2020-08-20T05:21:33.855648Z"
    },
    "papermill": {
     "duration": 0.043101,
     "end_time": "2020-08-20T05:21:33.856374",
     "exception": false,
     "start_time": "2020-08-20T05:21:33.813273",
     "status": "completed"
    },
    "tags": []
   },
   "outputs": [],
   "source": [
    "list_scores.append(score_2)\n",
    "list_models.append('random forest classifier')"
   ]
  },
  {
   "cell_type": "code",
   "execution_count": 33,
   "metadata": {
    "execution": {
     "iopub.execute_input": "2020-08-20T05:21:33.933053Z",
     "iopub.status.busy": "2020-08-20T05:21:33.932072Z",
     "iopub.status.idle": "2020-08-20T05:21:33.936293Z",
     "shell.execute_reply": "2020-08-20T05:21:33.935622Z"
    },
    "papermill": {
     "duration": 0.044426,
     "end_time": "2020-08-20T05:21:33.936426",
     "exception": false,
     "start_time": "2020-08-20T05:21:33.892000",
     "status": "completed"
    },
    "tags": []
   },
   "outputs": [
    {
     "data": {
      "text/plain": [
       "0.69"
      ]
     },
     "execution_count": 33,
     "metadata": {},
     "output_type": "execute_result"
    }
   ],
   "source": [
    "score_2"
   ]
  },
  {
   "cell_type": "code",
   "execution_count": 34,
   "metadata": {
    "execution": {
     "iopub.execute_input": "2020-08-20T05:21:34.017665Z",
     "iopub.status.busy": "2020-08-20T05:21:34.017022Z",
     "iopub.status.idle": "2020-08-20T05:21:34.060818Z",
     "shell.execute_reply": "2020-08-20T05:21:34.060198Z"
    },
    "papermill": {
     "duration": 0.087473,
     "end_time": "2020-08-20T05:21:34.060957",
     "exception": false,
     "start_time": "2020-08-20T05:21:33.973484",
     "status": "completed"
    },
    "tags": []
   },
   "outputs": [],
   "source": [
    "from sklearn.svm import SVC\n",
    "svm=SVC()\n",
    "svm.fit(x_train,y_train)\n",
    "pred_3=svm.predict(x_test)\n",
    "score_3=accuracy_score(y_test,pred_3)\n",
    "list_scores.append(score_3)\n",
    "list_models.append('support vector machines')"
   ]
  },
  {
   "cell_type": "code",
   "execution_count": 35,
   "metadata": {
    "execution": {
     "iopub.execute_input": "2020-08-20T05:21:34.139419Z",
     "iopub.status.busy": "2020-08-20T05:21:34.138564Z",
     "iopub.status.idle": "2020-08-20T05:21:34.143205Z",
     "shell.execute_reply": "2020-08-20T05:21:34.142550Z"
    },
    "papermill": {
     "duration": 0.045851,
     "end_time": "2020-08-20T05:21:34.143326",
     "exception": false,
     "start_time": "2020-08-20T05:21:34.097475",
     "status": "completed"
    },
    "tags": []
   },
   "outputs": [
    {
     "data": {
      "text/plain": [
       "0.715"
      ]
     },
     "execution_count": 35,
     "metadata": {},
     "output_type": "execute_result"
    }
   ],
   "source": [
    "score_3"
   ]
  },
  {
   "cell_type": "code",
   "execution_count": 36,
   "metadata": {
    "execution": {
     "iopub.execute_input": "2020-08-20T05:21:34.226019Z",
     "iopub.status.busy": "2020-08-20T05:21:34.225304Z",
     "iopub.status.idle": "2020-08-20T05:21:34.362240Z",
     "shell.execute_reply": "2020-08-20T05:21:34.361619Z"
    },
    "papermill": {
     "duration": 0.182375,
     "end_time": "2020-08-20T05:21:34.362371",
     "exception": false,
     "start_time": "2020-08-20T05:21:34.179996",
     "status": "completed"
    },
    "tags": []
   },
   "outputs": [],
   "source": [
    "from sklearn.ensemble import GradientBoostingClassifier\n",
    "gbr=GradientBoostingClassifier()\n",
    "gbr.fit(x_train,y_train)\n",
    "pred_4=gbr.predict(x_test)\n",
    "score_4=accuracy_score(y_test,pred_4)\n",
    "list_scores.append(score_4)\n",
    "list_models.append('gradient boosting classifier')"
   ]
  },
  {
   "cell_type": "code",
   "execution_count": 37,
   "metadata": {
    "execution": {
     "iopub.execute_input": "2020-08-20T05:21:34.442800Z",
     "iopub.status.busy": "2020-08-20T05:21:34.441571Z",
     "iopub.status.idle": "2020-08-20T05:21:34.446424Z",
     "shell.execute_reply": "2020-08-20T05:21:34.445745Z"
    },
    "papermill": {
     "duration": 0.047394,
     "end_time": "2020-08-20T05:21:34.446545",
     "exception": false,
     "start_time": "2020-08-20T05:21:34.399151",
     "status": "completed"
    },
    "tags": []
   },
   "outputs": [
    {
     "data": {
      "text/plain": [
       "0.725"
      ]
     },
     "execution_count": 37,
     "metadata": {},
     "output_type": "execute_result"
    }
   ],
   "source": [
    "score_4"
   ]
  },
  {
   "cell_type": "code",
   "execution_count": 38,
   "metadata": {
    "execution": {
     "iopub.execute_input": "2020-08-20T05:21:34.533268Z",
     "iopub.status.busy": "2020-08-20T05:21:34.527968Z",
     "iopub.status.idle": "2020-08-20T05:21:34.680193Z",
     "shell.execute_reply": "2020-08-20T05:21:34.679527Z"
    },
    "papermill": {
     "duration": 0.195563,
     "end_time": "2020-08-20T05:21:34.680321",
     "exception": false,
     "start_time": "2020-08-20T05:21:34.484758",
     "status": "completed"
    },
    "tags": []
   },
   "outputs": [
    {
     "data": {
      "image/png": "[encoded data removed]",
      "text/plain": [
       "<Figure size 720x216 with 1 Axes>"
      ]
     },
     "metadata": {},
     "output_type": "display_data"
    }
   ],
   "source": [
    "plt.figure(figsize=(10,3))\n",
    "plt.bar(list_models,list_scores,width=0.1)\n",
    "plt.show()"
   ]
  }
 ],
 "metadata": {
  "kernelspec": {
   "display_name": "Python 3",
   "language": "python",
   "name": "python3"
  },
  "language_info": {
   "codemirror_mode": {
    "name": "ipython",
    "version": 3
   },
   "file_extension": ".py",
   "mimetype": "text/x-python",
   "name": "python",
   "nbconvert_exporter": "python",
   "pygments_lexer": "ipython3",
   "version": "3.7.6"
  },
  "papermill": {
   "duration": 11.663131,
   "end_time": "2020-08-20T05:21:34.825965",
   "environment_variables": {},
   "exception": null,
   "input_path": "__notebook__.ipynb",
   "output_path": "__notebook__.ipynb",
   "parameters": {},
   "start_time": "2020-08-20T05:21:23.162834",
   "version": "2.1.0"
  }
 },
 "nbformat": 4,
 "nbformat_minor": 4
}
