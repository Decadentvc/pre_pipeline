{
 "cells": [
  {
   "cell_type": "markdown",
   "metadata": {
    "papermill": {
     "duration": 0.056502,
     "end_time": "2020-09-28T05:52:13.438335",
     "exception": false,
     "start_time": "2020-09-28T05:52:13.381833",
     "status": "completed"
    },
    "tags": []
   },
   "source": [
    "# Analysis of students' performance\n",
    "\n",
    "We start by importing necessary libraries."
   ]
  },
  {
   "cell_type": "code",
   "execution_count": 1,
   "metadata": {
    "execution": {
     "iopub.execute_input": "2020-09-28T05:52:13.564731Z",
     "iopub.status.busy": "2020-09-28T05:52:13.563887Z",
     "iopub.status.idle": "2020-09-28T05:52:14.880914Z",
     "shell.execute_reply": "2020-09-28T05:52:14.880199Z"
    },
    "papermill": {
     "duration": 1.387008,
     "end_time": "2020-09-28T05:52:14.881103",
     "exception": false,
     "start_time": "2020-09-28T05:52:13.494095",
     "status": "completed"
    },
    "tags": []
   },
   "outputs": [],
   "source": [
    "import numpy as np\n",
    "import pandas as pd\n",
    "import matplotlib.pyplot as plt\n",
    "import seaborn as sns\n",
    "\n",
    "from sklearn.model_selection import train_test_split, GridSearchCV\n",
    "from sklearn.linear_model import LogisticRegression\n",
    "from sklearn.neighbors import KNeighborsClassifier\n",
    "from sklearn.ensemble import RandomForestClassifier\n",
    "from sklearn.svm import SVC\n",
    "\n",
    "from sklearn.metrics import accuracy_score, precision_score, classification_report, confusion_matrix\n",
    "\n",
    "sns.set_style('darkgrid')\n",
    "%matplotlib inline"
   ]
  },
  {
   "cell_type": "code",
   "execution_count": 2,
   "metadata": {
    "execution": {
     "iopub.execute_input": "2020-09-28T05:52:14.998894Z",
     "iopub.status.busy": "2020-09-28T05:52:14.998053Z",
     "iopub.status.idle": "2020-09-28T05:52:15.089789Z",
     "shell.execute_reply": "2020-09-28T05:52:15.088881Z"
    },
    "papermill": {
     "duration": 0.154155,
     "end_time": "2020-09-28T05:52:15.089956",
     "exception": false,
     "start_time": "2020-09-28T05:52:14.935801",
     "status": "completed"
    },
    "tags": []
   },
   "outputs": [],
   "source": [
    "edu_df = pd.read_csv('../input/xAPI-Edu-Data/xAPI-Edu-Data.csv', engine='python')"
   ]
  },
  {
   "cell_type": "markdown",
   "metadata": {
    "papermill": {
     "duration": 0.053869,
     "end_time": "2020-09-28T05:52:15.197988",
     "exception": false,
     "start_time": "2020-09-28T05:52:15.144119",
     "status": "completed"
    },
    "tags": []
   },
   "source": [
    "Let's look at the data."
   ]
  },
  {
   "cell_type": "code",
   "execution_count": 3,
   "metadata": {
    "execution": {
     "iopub.execute_input": "2020-09-28T05:52:15.329645Z",
     "iopub.status.busy": "2020-09-28T05:52:15.328803Z",
     "iopub.status.idle": "2020-09-28T05:52:15.347986Z",
     "shell.execute_reply": "2020-09-28T05:52:15.347112Z"
    },
    "papermill": {
     "duration": 0.095011,
     "end_time": "2020-09-28T05:52:15.348144",
     "exception": false,
     "start_time": "2020-09-28T05:52:15.253133",
     "status": "completed"
    },
    "tags": []
   },
   "outputs": [
    {
     "data": {
      "text/html": [
       "<div>\n",
       "<style scoped>\n",
       "    .dataframe tbody tr th:only-of-type {\n",
       "        vertical-align: middle;\n",
       "    }\n",
       "\n",
       "    .dataframe tbody tr th {\n",
       "        vertical-align: top;\n",
       "    }\n",
       "\n",
       "    .dataframe thead th {\n",
       "        text-align: right;\n",
       "    }\n",
       "</style>\n",
       "<table border=\"1\" class=\"dataframe\">\n",
       "  <thead>\n",
       "    <tr style=\"text-align: right;\">\n",
       "      <th></th>\n",
       "      <th>gender</th>\n",
       "      <th>NationalITy</th>\n",
       "      <th>PlaceofBirth</th>\n",
       "      <th>StageID</th>\n",
       "      <th>GradeID</th>\n",
       "      <th>SectionID</th>\n",
       "      <th>Topic</th>\n",
       "      <th>Semester</th>\n",
       "      <th>Relation</th>\n",
       "      <th>raisedhands</th>\n",
       "      <th>VisITedResources</th>\n",
       "      <th>AnnouncementsView</th>\n",
       "      <th>Discussion</th>\n",
       "      <th>ParentAnsweringSurvey</th>\n",
       "      <th>ParentschoolSatisfaction</th>\n",
       "      <th>StudentAbsenceDays</th>\n",
       "      <th>Class</th>\n",
       "    </tr>\n",
       "  </thead>\n",
       "  <tbody>\n",
       "    <tr>\n",
       "      <th>0</th>\n",
       "      <td>M</td>\n",
       "      <td>KW</td>\n",
       "      <td>KuwaIT</td>\n",
       "      <td>lowerlevel</td>\n",
       "      <td>G-04</td>\n",
       "      <td>A</td>\n",
       "      <td>IT</td>\n",
       "      <td>F</td>\n",
       "      <td>Father</td>\n",
       "      <td>15</td>\n",
       "      <td>16</td>\n",
       "      <td>2</td>\n",
       "      <td>20</td>\n",
       "      <td>Yes</td>\n",
       "      <td>Good</td>\n",
       "      <td>Under-7</td>\n",
       "      <td>M</td>\n",
       "    </tr>\n",
       "    <tr>\n",
       "      <th>1</th>\n",
       "      <td>M</td>\n",
       "      <td>KW</td>\n",
       "      <td>KuwaIT</td>\n",
       "      <td>lowerlevel</td>\n",
       "      <td>G-04</td>\n",
       "      <td>A</td>\n",
       "      <td>IT</td>\n",
       "      <td>F</td>\n",
       "      <td>Father</td>\n",
       "      <td>20</td>\n",
       "      <td>20</td>\n",
       "      <td>3</td>\n",
       "      <td>25</td>\n",
       "      <td>Yes</td>\n",
       "      <td>Good</td>\n",
       "      <td>Under-7</td>\n",
       "      <td>M</td>\n",
       "    </tr>\n",
       "    <tr>\n",
       "      <th>2</th>\n",
       "      <td>M</td>\n",
       "      <td>KW</td>\n",
       "      <td>KuwaIT</td>\n",
       "      <td>lowerlevel</td>\n",
       "      <td>G-04</td>\n",
       "      <td>A</td>\n",
       "      <td>IT</td>\n",
       "      <td>F</td>\n",
       "      <td>Father</td>\n",
       "      <td>10</td>\n",
       "      <td>7</td>\n",
       "      <td>0</td>\n",
       "      <td>30</td>\n",
       "      <td>No</td>\n",
       "      <td>Bad</td>\n",
       "      <td>Above-7</td>\n",
       "      <td>L</td>\n",
       "    </tr>\n",
       "    <tr>\n",
       "      <th>3</th>\n",
       "      <td>M</td>\n",
       "      <td>KW</td>\n",
       "      <td>KuwaIT</td>\n",
       "      <td>lowerlevel</td>\n",
       "      <td>G-04</td>\n",
       "      <td>A</td>\n",
       "      <td>IT</td>\n",
       "      <td>F</td>\n",
       "      <td>Father</td>\n",
       "      <td>30</td>\n",
       "      <td>25</td>\n",
       "      <td>5</td>\n",
       "      <td>35</td>\n",
       "      <td>No</td>\n",
       "      <td>Bad</td>\n",
       "      <td>Above-7</td>\n",
       "      <td>L</td>\n",
       "    </tr>\n",
       "    <tr>\n",
       "      <th>4</th>\n",
       "      <td>M</td>\n",
       "      <td>KW</td>\n",
       "      <td>KuwaIT</td>\n",
       "      <td>lowerlevel</td>\n",
       "      <td>G-04</td>\n",
       "      <td>A</td>\n",
       "      <td>IT</td>\n",
       "      <td>F</td>\n",
       "      <td>Father</td>\n",
       "      <td>40</td>\n",
       "      <td>50</td>\n",
       "      <td>12</td>\n",
       "      <td>50</td>\n",
       "      <td>No</td>\n",
       "      <td>Bad</td>\n",
       "      <td>Above-7</td>\n",
       "      <td>M</td>\n",
       "    </tr>\n",
       "  </tbody>\n",
       "</table>\n",
       "</div>"
      ],
      "text/plain": [
       "  gender NationalITy PlaceofBirth     StageID GradeID SectionID Topic  \\\n",
       "0      M          KW       KuwaIT  lowerlevel    G-04         A    IT   \n",
       "1      M          KW       KuwaIT  lowerlevel    G-04         A    IT   \n",
       "2      M          KW       KuwaIT  lowerlevel    G-04         A    IT   \n",
       "3      M          KW       KuwaIT  lowerlevel    G-04         A    IT   \n",
       "4      M          KW       KuwaIT  lowerlevel    G-04         A    IT   \n",
       "\n",
       "  Semester Relation  raisedhands  VisITedResources  AnnouncementsView  \\\n",
       "0        F   Father           15                16                  2   \n",
       "1        F   Father           20                20                  3   \n",
       "2        F   Father           10                 7                  0   \n",
       "3        F   Father           30                25                  5   \n",
       "4        F   Father           40                50                 12   \n",
       "\n",
       "   Discussion ParentAnsweringSurvey ParentschoolSatisfaction  \\\n",
       "0          20                   Yes                     Good   \n",
       "1          25                   Yes                     Good   \n",
       "2          30                    No                      Bad   \n",
       "3          35                    No                      Bad   \n",
       "4          50                    No                      Bad   \n",
       "\n",
       "  StudentAbsenceDays Class  \n",
       "0            Under-7     M  \n",
       "1            Under-7     M  \n",
       "2            Above-7     L  \n",
       "3            Above-7     L  \n",
       "4            Above-7     M  "
      ]
     },
     "execution_count": 3,
     "metadata": {},
     "output_type": "execute_result"
    }
   ],
   "source": [
    "edu_df.head()"
   ]
  },
  {
   "cell_type": "code",
   "execution_count": 4,
   "metadata": {
    "execution": {
     "iopub.execute_input": "2020-09-28T05:52:15.468962Z",
     "iopub.status.busy": "2020-09-28T05:52:15.467396Z",
     "iopub.status.idle": "2020-09-28T05:52:15.472743Z",
     "shell.execute_reply": "2020-09-28T05:52:15.471905Z"
    },
    "papermill": {
     "duration": 0.066767,
     "end_time": "2020-09-28T05:52:15.472896",
     "exception": false,
     "start_time": "2020-09-28T05:52:15.406129",
     "status": "completed"
    },
    "tags": []
   },
   "outputs": [
    {
     "name": "stdout",
     "output_type": "stream",
     "text": [
      "the shape of our dataset is (480, 17)\n"
     ]
    }
   ],
   "source": [
    "print(\"the shape of our dataset is {}\".format(edu_df.shape))"
   ]
  },
  {
   "cell_type": "code",
   "execution_count": 5,
   "metadata": {
    "execution": {
     "iopub.execute_input": "2020-09-28T05:52:15.607432Z",
     "iopub.status.busy": "2020-09-28T05:52:15.601666Z",
     "iopub.status.idle": "2020-09-28T05:52:15.613214Z",
     "shell.execute_reply": "2020-09-28T05:52:15.612135Z"
    },
    "papermill": {
     "duration": 0.083952,
     "end_time": "2020-09-28T05:52:15.613413",
     "exception": false,
     "start_time": "2020-09-28T05:52:15.529461",
     "status": "completed"
    },
    "tags": []
   },
   "outputs": [
    {
     "name": "stdout",
     "output_type": "stream",
     "text": [
      "<class 'pandas.core.frame.DataFrame'>\n",
      "RangeIndex: 480 entries, 0 to 479\n",
      "Data columns (total 17 columns):\n",
      " #   Column                    Non-Null Count  Dtype \n",
      "---  ------                    --------------  ----- \n",
      " 0   gender                    480 non-null    object\n",
      " 1   NationalITy               480 non-null    object\n",
      " 2   PlaceofBirth              480 non-null    object\n",
      " 3   StageID                   480 non-null    object\n",
      " 4   GradeID                   480 non-null    object\n",
      " 5   SectionID                 480 non-null    object\n",
      " 6   Topic                     480 non-null    object\n",
      " 7   Semester                  480 non-null    object\n",
      " 8   Relation                  480 non-null    object\n",
      " 9   raisedhands               480 non-null    int64 \n",
      " 10  VisITedResources          480 non-null    int64 \n",
      " 11  AnnouncementsView         480 non-null    int64 \n",
      " 12  Discussion                480 non-null    int64 \n",
      " 13  ParentAnsweringSurvey     480 non-null    object\n",
      " 14  ParentschoolSatisfaction  480 non-null    object\n",
      " 15  StudentAbsenceDays        480 non-null    object\n",
      " 16  Class                     480 non-null    object\n",
      "dtypes: int64(4), object(13)\n",
      "memory usage: 63.9+ KB\n"
     ]
    }
   ],
   "source": [
    "edu_df.info()"
   ]
  },
  {
   "cell_type": "code",
   "execution_count": 6,
   "metadata": {
    "execution": {
     "iopub.execute_input": "2020-09-28T05:52:15.736068Z",
     "iopub.status.busy": "2020-09-28T05:52:15.735218Z",
     "iopub.status.idle": "2020-09-28T05:52:15.753134Z",
     "shell.execute_reply": "2020-09-28T05:52:15.752341Z"
    },
    "papermill": {
     "duration": 0.082071,
     "end_time": "2020-09-28T05:52:15.753277",
     "exception": false,
     "start_time": "2020-09-28T05:52:15.671206",
     "status": "completed"
    },
    "tags": []
   },
   "outputs": [
    {
     "data": {
      "text/plain": [
       "gender                       2\n",
       "NationalITy                 14\n",
       "PlaceofBirth                14\n",
       "StageID                      3\n",
       "GradeID                     10\n",
       "SectionID                    3\n",
       "Topic                       12\n",
       "Semester                     2\n",
       "Relation                     2\n",
       "raisedhands                 82\n",
       "VisITedResources            89\n",
       "AnnouncementsView           88\n",
       "Discussion                  90\n",
       "ParentAnsweringSurvey        2\n",
       "ParentschoolSatisfaction     2\n",
       "StudentAbsenceDays           2\n",
       "Class                        3\n",
       "dtype: int64"
      ]
     },
     "execution_count": 6,
     "metadata": {},
     "output_type": "execute_result"
    }
   ],
   "source": [
    "edu_df.nunique()"
   ]
  },
  {
   "cell_type": "markdown",
   "metadata": {
    "papermill": {
     "duration": 0.05809,
     "end_time": "2020-09-28T05:52:15.868887",
     "exception": false,
     "start_time": "2020-09-28T05:52:15.810797",
     "status": "completed"
    },
    "tags": []
   },
   "source": [
    "So there is no null value in the data and also most of the features are categorical in nature. "
   ]
  },
  {
   "cell_type": "markdown",
   "metadata": {
    "papermill": {
     "duration": 0.057076,
     "end_time": "2020-09-28T05:52:15.985363",
     "exception": false,
     "start_time": "2020-09-28T05:52:15.928287",
     "status": "completed"
    },
    "tags": []
   },
   "source": [
    "## Exploratory Data Analysis\n",
    "\n",
    "The first question that we ask is - **Where do the students currently enrolled in the online classes come from? What are the male to female ratios?**\n",
    "\n",
    "The attributes that will help us to find answers to these are - 'NationalITy', 'PlaceofBirth' and 'gender'."
   ]
  },
  {
   "cell_type": "code",
   "execution_count": 7,
   "metadata": {
    "execution": {
     "iopub.execute_input": "2020-09-28T05:52:16.110398Z",
     "iopub.status.busy": "2020-09-28T05:52:16.109418Z",
     "iopub.status.idle": "2020-09-28T05:52:16.115165Z",
     "shell.execute_reply": "2020-09-28T05:52:16.114448Z"
    },
    "papermill": {
     "duration": 0.071326,
     "end_time": "2020-09-28T05:52:16.115333",
     "exception": false,
     "start_time": "2020-09-28T05:52:16.044007",
     "status": "completed"
    },
    "tags": []
   },
   "outputs": [
    {
     "data": {
      "text/plain": [
       "array(['KW', 'lebanon', 'Egypt', 'SaudiArabia', 'USA', 'Jordan',\n",
       "       'venzuela', 'Iran', 'Tunis', 'Morocco', 'Syria', 'Palestine',\n",
       "       'Iraq', 'Lybia'], dtype=object)"
      ]
     },
     "execution_count": 7,
     "metadata": {},
     "output_type": "execute_result"
    }
   ],
   "source": [
    "edu_df['NationalITy'].unique()"
   ]
  },
  {
   "cell_type": "code",
   "execution_count": 8,
   "metadata": {
    "execution": {
     "iopub.execute_input": "2020-09-28T05:52:16.240666Z",
     "iopub.status.busy": "2020-09-28T05:52:16.239355Z",
     "iopub.status.idle": "2020-09-28T05:52:16.244684Z",
     "shell.execute_reply": "2020-09-28T05:52:16.245336Z"
    },
    "papermill": {
     "duration": 0.07194,
     "end_time": "2020-09-28T05:52:16.245543",
     "exception": false,
     "start_time": "2020-09-28T05:52:16.173603",
     "status": "completed"
    },
    "tags": []
   },
   "outputs": [
    {
     "data": {
      "text/plain": [
       "array(['KuwaIT', 'lebanon', 'Egypt', 'SaudiArabia', 'USA', 'Jordan',\n",
       "       'venzuela', 'Iran', 'Tunis', 'Morocco', 'Syria', 'Iraq',\n",
       "       'Palestine', 'Lybia'], dtype=object)"
      ]
     },
     "execution_count": 8,
     "metadata": {},
     "output_type": "execute_result"
    }
   ],
   "source": [
    "edu_df['PlaceofBirth'].unique()"
   ]
  },
  {
   "cell_type": "markdown",
   "metadata": {
    "papermill": {
     "duration": 0.057901,
     "end_time": "2020-09-28T05:52:16.362233",
     "exception": false,
     "start_time": "2020-09-28T05:52:16.304332",
     "status": "completed"
    },
    "tags": []
   },
   "source": [
    "Both of these attributes basically carry the same information and hence we drop one of them."
   ]
  },
  {
   "cell_type": "code",
   "execution_count": 9,
   "metadata": {
    "execution": {
     "iopub.execute_input": "2020-09-28T05:52:16.490593Z",
     "iopub.status.busy": "2020-09-28T05:52:16.489761Z",
     "iopub.status.idle": "2020-09-28T05:52:16.493435Z",
     "shell.execute_reply": "2020-09-28T05:52:16.492670Z"
    },
    "papermill": {
     "duration": 0.073068,
     "end_time": "2020-09-28T05:52:16.493587",
     "exception": false,
     "start_time": "2020-09-28T05:52:16.420519",
     "status": "completed"
    },
    "tags": []
   },
   "outputs": [],
   "source": [
    "edu_df.drop('NationalITy', axis=1, inplace=True)"
   ]
  },
  {
   "cell_type": "code",
   "execution_count": 10,
   "metadata": {
    "execution": {
     "iopub.execute_input": "2020-09-28T05:52:16.620693Z",
     "iopub.status.busy": "2020-09-28T05:52:16.619669Z",
     "iopub.status.idle": "2020-09-28T05:52:16.625796Z",
     "shell.execute_reply": "2020-09-28T05:52:16.625026Z"
    },
    "papermill": {
     "duration": 0.073237,
     "end_time": "2020-09-28T05:52:16.625936",
     "exception": false,
     "start_time": "2020-09-28T05:52:16.552699",
     "status": "completed"
    },
    "tags": []
   },
   "outputs": [
    {
     "data": {
      "text/plain": [
       "Index(['gender', 'PlaceofBirth', 'StageID', 'GradeID', 'SectionID', 'Topic',\n",
       "       'Semester', 'Relation', 'raisedhands', 'VisITedResources',\n",
       "       'AnnouncementsView', 'Discussion', 'ParentAnsweringSurvey',\n",
       "       'ParentschoolSatisfaction', 'StudentAbsenceDays', 'Class'],\n",
       "      dtype='object')"
      ]
     },
     "execution_count": 10,
     "metadata": {},
     "output_type": "execute_result"
    }
   ],
   "source": [
    "edu_df.columns"
   ]
  },
  {
   "cell_type": "code",
   "execution_count": 11,
   "metadata": {
    "execution": {
     "iopub.execute_input": "2020-09-28T05:52:16.750239Z",
     "iopub.status.busy": "2020-09-28T05:52:16.749459Z",
     "iopub.status.idle": "2020-09-28T05:52:17.158714Z",
     "shell.execute_reply": "2020-09-28T05:52:17.157993Z"
    },
    "papermill": {
     "duration": 0.474493,
     "end_time": "2020-09-28T05:52:17.158862",
     "exception": false,
     "start_time": "2020-09-28T05:52:16.684369",
     "status": "completed"
    },
    "tags": []
   },
   "outputs": [
    {
     "data": {
      "image/png": "[encoded data removed]",
      "text/plain": [
       "<Figure size 1008x576 with 1 Axes>"
      ]
     },
     "metadata": {
      "needs_background": "light"
     },
     "output_type": "display_data"
    }
   ],
   "source": [
    "plt.figure(figsize=(14,8))\n",
    "sns.countplot('PlaceofBirth', data=edu_df)\n",
    "plt.xlabel('nationality')\n",
    "plt.ylabel('number of students');"
   ]
  },
  {
   "cell_type": "markdown",
   "metadata": {
    "papermill": {
     "duration": 0.067211,
     "end_time": "2020-09-28T05:52:17.288871",
     "exception": false,
     "start_time": "2020-09-28T05:52:17.221660",
     "status": "completed"
    },
    "tags": []
   },
   "source": [
    "From the above plot, we see that most of the enrollments are from Kuwait and Jordon. Although most of the students come from middle east countries, interestingly there are some enrollments from the united states.\n",
    "\n",
    "Next we look at the male to female ratio for each of these countries."
   ]
  },
  {
   "cell_type": "code",
   "execution_count": 12,
   "metadata": {
    "execution": {
     "iopub.execute_input": "2020-09-28T05:52:17.423047Z",
     "iopub.status.busy": "2020-09-28T05:52:17.422159Z",
     "iopub.status.idle": "2020-09-28T05:52:17.425151Z",
     "shell.execute_reply": "2020-09-28T05:52:17.424509Z"
    },
    "papermill": {
     "duration": 0.073572,
     "end_time": "2020-09-28T05:52:17.425306",
     "exception": false,
     "start_time": "2020-09-28T05:52:17.351734",
     "status": "completed"
    },
    "tags": []
   },
   "outputs": [],
   "source": [
    "sorted_place = edu_df['PlaceofBirth'].value_counts().index"
   ]
  },
  {
   "cell_type": "code",
   "execution_count": 13,
   "metadata": {
    "execution": {
     "iopub.execute_input": "2020-09-28T05:52:17.602767Z",
     "iopub.status.busy": "2020-09-28T05:52:17.557050Z",
     "iopub.status.idle": "2020-09-28T05:52:17.950853Z",
     "shell.execute_reply": "2020-09-28T05:52:17.950237Z"
    },
    "papermill": {
     "duration": 0.465517,
     "end_time": "2020-09-28T05:52:17.951015",
     "exception": false,
     "start_time": "2020-09-28T05:52:17.485498",
     "status": "completed"
    },
    "tags": []
   },
   "outputs": [
    {
     "data": {
      "image/png": "[encoded data removed]",
      "text/plain": [
       "<Figure size 1008x576 with 1 Axes>"
      ]
     },
     "metadata": {
      "needs_background": "light"
     },
     "output_type": "display_data"
    }
   ],
   "source": [
    "plt.figure(figsize=(14,8))\n",
    "sns.countplot('PlaceofBirth', hue='gender', data=edu_df, order=sorted_place)\n",
    "plt.xlabel('nationality')\n",
    "plt.ylabel('number of students')\n",
    "plt.legend(loc='upper right');"
   ]
  },
  {
   "cell_type": "markdown",
   "metadata": {
    "papermill": {
     "duration": 0.060779,
     "end_time": "2020-09-28T05:52:18.073001",
     "exception": false,
     "start_time": "2020-09-28T05:52:18.012222",
     "status": "completed"
    },
    "tags": []
   },
   "source": [
    "On average, the number of female students as compared to male students is quite low. In case of Lebanon, number of female enrollment is almost double that of male enrollments and in case of USA, it is slightly higher."
   ]
  },
  {
   "cell_type": "markdown",
   "metadata": {
    "papermill": {
     "duration": 0.069644,
     "end_time": "2020-09-28T05:52:18.207373",
     "exception": false,
     "start_time": "2020-09-28T05:52:18.137729",
     "status": "completed"
    },
    "tags": []
   },
   "source": [
    "The next question of interest might be - **what is the general distribution of education levels of students? Is there any gender bias?**\n",
    "\n",
    "The attributes 'StageID' and 'gender' will help us to find the answers."
   ]
  },
  {
   "cell_type": "code",
   "execution_count": 14,
   "metadata": {
    "execution": {
     "iopub.execute_input": "2020-09-28T05:52:18.362728Z",
     "iopub.status.busy": "2020-09-28T05:52:18.355815Z",
     "iopub.status.idle": "2020-09-28T05:52:18.753521Z",
     "shell.execute_reply": "2020-09-28T05:52:18.752878Z"
    },
    "papermill": {
     "duration": 0.474415,
     "end_time": "2020-09-28T05:52:18.753653",
     "exception": false,
     "start_time": "2020-09-28T05:52:18.279238",
     "status": "completed"
    },
    "tags": []
   },
   "outputs": [
    {
     "data": {
      "image/png": "[encoded data removed]",
      "text/plain": [
       "<Figure size 1008x576 with 2 Axes>"
      ]
     },
     "metadata": {
      "needs_background": "light"
     },
     "output_type": "display_data"
    }
   ],
   "source": [
    "fig, ax = plt.subplots(1,2, figsize=(14,8))\n",
    "sns.countplot('StageID', data=edu_df, ax=ax[0])\n",
    "sns.countplot('StageID', hue='gender', data=edu_df, ax=ax[1]);"
   ]
  },
  {
   "cell_type": "markdown",
   "metadata": {
    "papermill": {
     "duration": 0.062536,
     "end_time": "2020-09-28T05:52:18.878605",
     "exception": false,
     "start_time": "2020-09-28T05:52:18.816069",
     "status": "completed"
    },
    "tags": []
   },
   "source": [
    "Most of the students are from middle school. An interesting point to note is that, numbers of male and female students coming from high school are almost comparable.\n",
    "\n",
    "**What are the popular topics among students?**"
   ]
  },
  {
   "cell_type": "code",
   "execution_count": 15,
   "metadata": {
    "execution": {
     "iopub.execute_input": "2020-09-28T05:52:19.036008Z",
     "iopub.status.busy": "2020-09-28T05:52:19.016863Z",
     "iopub.status.idle": "2020-09-28T05:52:19.309863Z",
     "shell.execute_reply": "2020-09-28T05:52:19.309197Z"
    },
    "papermill": {
     "duration": 0.368848,
     "end_time": "2020-09-28T05:52:19.310034",
     "exception": false,
     "start_time": "2020-09-28T05:52:18.941186",
     "status": "completed"
    },
    "tags": []
   },
   "outputs": [
    {
     "data": {
      "image/png": "[encoded data removed]",
      "text/plain": [
       "<Figure size 1008x576 with 1 Axes>"
      ]
     },
     "metadata": {
      "needs_background": "light"
     },
     "output_type": "display_data"
    }
   ],
   "source": [
    "labels = edu_df['Topic'].unique()\n",
    "\n",
    "plt.figure(figsize=(14,8))\n",
    "f = sns.countplot('Topic', data=edu_df)\n",
    "f.set_xticklabels(labels=labels, rotation=120);"
   ]
  },
  {
   "cell_type": "markdown",
   "metadata": {
    "papermill": {
     "duration": 0.064546,
     "end_time": "2020-09-28T05:52:19.438707",
     "exception": false,
     "start_time": "2020-09-28T05:52:19.374161",
     "status": "completed"
    },
    "tags": []
   },
   "source": [
    "So most of the students have enrolled for IT. Interestingly, next popular topics are two languages - French and Arabic.\n",
    "\n",
    "Another interesting point might be to see **whether there is any influence coming from the background of a student on topic selection.**"
   ]
  },
  {
   "cell_type": "code",
   "execution_count": 16,
   "metadata": {
    "execution": {
     "iopub.execute_input": "2020-09-28T05:52:19.582141Z",
     "iopub.status.busy": "2020-09-28T05:52:19.580997Z",
     "iopub.status.idle": "2020-09-28T05:52:20.330880Z",
     "shell.execute_reply": "2020-09-28T05:52:20.330203Z"
    },
    "papermill": {
     "duration": 0.828243,
     "end_time": "2020-09-28T05:52:20.331042",
     "exception": false,
     "start_time": "2020-09-28T05:52:19.502799",
     "status": "completed"
    },
    "tags": []
   },
   "outputs": [
    {
     "data": {
      "image/png": "[encoded data removed]",
      "text/plain": [
       "<Figure size 1008x576 with 2 Axes>"
      ]
     },
     "metadata": {
      "needs_background": "light"
     },
     "output_type": "display_data"
    }
   ],
   "source": [
    "fig, ax = plt.subplots(1,2, figsize=(14,8))\n",
    "sns.countplot('Topic', hue='gender', data=edu_df, ax=ax[0])\n",
    "sns.countplot('Topic', hue='StageID', data=edu_df, ax=ax[1])\n",
    "ax[0].set_ylabel(\"number of students\")\n",
    "ax[1].set_ylabel(\"number of students\")\n",
    "ax[0].set_xticklabels(labels=labels, rotation=120)\n",
    "ax[1].set_xticklabels(labels=labels, rotation=120)\n",
    "ax[1].legend(loc='upper right');"
   ]
  },
  {
   "cell_type": "markdown",
   "metadata": {
    "papermill": {
     "duration": 0.065771,
     "end_time": "2020-09-28T05:52:20.463277",
     "exception": false,
     "start_time": "2020-09-28T05:52:20.397506",
     "status": "completed"
    },
    "tags": []
   },
   "source": [
    "Chemistry seems to be equally popular among both female and male students. Students enrolled for biology, chemistry and geology are from middle school only.\n",
    "\n",
    "Next we check **how popular the topics are in different countries that the students come from.** We look at some countries with high enrollment numbers."
   ]
  },
  {
   "cell_type": "code",
   "execution_count": 17,
   "metadata": {
    "execution": {
     "iopub.execute_input": "2020-09-28T05:52:20.603880Z",
     "iopub.status.busy": "2020-09-28T05:52:20.602716Z",
     "iopub.status.idle": "2020-09-28T05:52:20.606889Z",
     "shell.execute_reply": "2020-09-28T05:52:20.606015Z"
    },
    "papermill": {
     "duration": 0.078276,
     "end_time": "2020-09-28T05:52:20.607060",
     "exception": false,
     "start_time": "2020-09-28T05:52:20.528784",
     "status": "completed"
    },
    "tags": []
   },
   "outputs": [],
   "source": [
    "topic_order = edu_df['Topic'].value_counts().index"
   ]
  },
  {
   "cell_type": "code",
   "execution_count": 18,
   "metadata": {
    "execution": {
     "iopub.execute_input": "2020-09-28T05:52:20.755272Z",
     "iopub.status.busy": "2020-09-28T05:52:20.754354Z",
     "iopub.status.idle": "2020-09-28T05:52:22.084600Z",
     "shell.execute_reply": "2020-09-28T05:52:22.083797Z"
    },
    "papermill": {
     "duration": 1.411449,
     "end_time": "2020-09-28T05:52:22.084743",
     "exception": false,
     "start_time": "2020-09-28T05:52:20.673294",
     "status": "completed"
    },
    "tags": []
   },
   "outputs": [
    {
     "data": {
      "image/png": "[encoded data removed]",
      "text/plain": [
       "<Figure size 864x576 with 4 Axes>"
      ]
     },
     "metadata": {
      "needs_background": "light"
     },
     "output_type": "display_data"
    }
   ],
   "source": [
    "fig, ax = plt.subplots(2,2, figsize=(12,8))\n",
    "sns.countplot(edu_df.query('PlaceofBirth==\"KuwaIT\"')['Topic'], ax=ax[0,0], order=topic_order)\n",
    "sns.countplot(edu_df.query('PlaceofBirth==\"Jordan\"')['Topic'], ax=ax[0,1], order=topic_order)\n",
    "sns.countplot(edu_df.query('PlaceofBirth==\"Iraq\"')['Topic'], ax=ax[1,0], order=topic_order)\n",
    "sns.countplot(edu_df.query('PlaceofBirth==\"USA\"')['Topic'], ax=ax[1,1], order=topic_order)\n",
    "ax[0,0].set_xticklabels(labels=labels, rotation=120)\n",
    "ax[0,1].set_xticklabels(labels=labels, rotation=120)\n",
    "ax[1,0].set_xticklabels(labels=labels, rotation=120)\n",
    "ax[1,1].set_xticklabels(labels=labels, rotation=120)\n",
    "ax[0,0].set_title('Kuwait')\n",
    "ax[0,1].set_title('Jordan')\n",
    "ax[1,0].set_title('Iraq')\n",
    "ax[1,1].set_title('USA')\n",
    "plt.tight_layout();"
   ]
  },
  {
   "cell_type": "markdown",
   "metadata": {
    "papermill": {
     "duration": 0.067983,
     "end_time": "2020-09-28T05:52:22.221642",
     "exception": false,
     "start_time": "2020-09-28T05:52:22.153659",
     "status": "completed"
    },
    "tags": []
   },
   "source": [
    "Quite a few things to observe here :\n",
    "\n",
    "- IT has the highest demand in Kuwait (also highest among the four countries shown above).\n",
    "- Math is the most popular topic in Jordan.\n",
    "- No student from Iraq has taken IT.\n",
    "- There is a comparable demand of math, biology and chemistry in USA."
   ]
  },
  {
   "cell_type": "markdown",
   "metadata": {
    "papermill": {
     "duration": 0.067516,
     "end_time": "2020-09-28T05:52:22.357381",
     "exception": false,
     "start_time": "2020-09-28T05:52:22.289865",
     "status": "completed"
    },
    "tags": []
   },
   "source": [
    "Next we ask the question, **what factors affect the grade of a student?** Note that the grade of a student is directly related to the 'class' the student belongs to.\n",
    "\n",
    "The attributes of interest to find answer to this question are:\n",
    "1. raisedhands\n",
    "2. VisITedResources\n",
    "3. AnnouncementsView\n",
    "4. Discussion\n",
    "5. StudentAbsenceDays"
   ]
  },
  {
   "cell_type": "code",
   "execution_count": 19,
   "metadata": {
    "execution": {
     "iopub.execute_input": "2020-09-28T05:52:22.513096Z",
     "iopub.status.busy": "2020-09-28T05:52:22.508601Z",
     "iopub.status.idle": "2020-09-28T05:52:22.910572Z",
     "shell.execute_reply": "2020-09-28T05:52:22.909758Z"
    },
    "papermill": {
     "duration": 0.485224,
     "end_time": "2020-09-28T05:52:22.910714",
     "exception": false,
     "start_time": "2020-09-28T05:52:22.425490",
     "status": "completed"
    },
    "tags": []
   },
   "outputs": [
    {
     "data": {
      "image/png": "[encoded data removed]",
      "text/plain": [
       "<Figure size 1008x576 with 2 Axes>"
      ]
     },
     "metadata": {
      "needs_background": "light"
     },
     "output_type": "display_data"
    }
   ],
   "source": [
    "fig, ax = plt.subplots(1, 2, figsize=(14,8))\n",
    "sns.countplot('Class', data=edu_df, ax=ax[0])\n",
    "sns.countplot('Class', hue='StudentAbsenceDays', data=edu_df, ax=ax[1]);"
   ]
  },
  {
   "cell_type": "markdown",
   "metadata": {
    "papermill": {
     "duration": 0.069075,
     "end_time": "2020-09-28T05:52:23.049718",
     "exception": false,
     "start_time": "2020-09-28T05:52:22.980643",
     "status": "completed"
    },
    "tags": []
   },
   "source": [
    "So most of the students belong to 'middle level' with scores in the range 70-89. Students in 'high level' have high attendance rate whereas those in 'low level' have the lowest attendance rate. "
   ]
  },
  {
   "cell_type": "code",
   "execution_count": 20,
   "metadata": {
    "execution": {
     "iopub.execute_input": "2020-09-28T05:52:23.209705Z",
     "iopub.status.busy": "2020-09-28T05:52:23.201479Z",
     "iopub.status.idle": "2020-09-28T05:52:24.709035Z",
     "shell.execute_reply": "2020-09-28T05:52:24.709744Z"
    },
    "papermill": {
     "duration": 1.588113,
     "end_time": "2020-09-28T05:52:24.709934",
     "exception": false,
     "start_time": "2020-09-28T05:52:23.121821",
     "status": "completed"
    },
    "tags": []
   },
   "outputs": [
    {
     "data": {
      "image/png": "[encoded data removed]",
      "text/plain": [
       "<Figure size 1008x576 with 4 Axes>"
      ]
     },
     "metadata": {
      "needs_background": "light"
     },
     "output_type": "display_data"
    }
   ],
   "source": [
    "fig, ax = plt.subplots(2, 2, figsize=(14,8))\n",
    "sns.barplot(x='Class', y='raisedhands', data=edu_df, ax=ax[0,0])\n",
    "sns.barplot(x='Class', y='VisITedResources', data=edu_df, ax=ax[0,1])\n",
    "sns.barplot(x='Class', y='Discussion', data=edu_df, ax=ax[1,0])\n",
    "sns.barplot(x='Class', y='AnnouncementsView', data=edu_df, ax=ax[1,1])\n",
    "plt.tight_layout();"
   ]
  },
  {
   "cell_type": "markdown",
   "metadata": {
    "papermill": {
     "duration": 0.068394,
     "end_time": "2020-09-28T05:52:24.847982",
     "exception": false,
     "start_time": "2020-09-28T05:52:24.779588",
     "status": "completed"
    },
    "tags": []
   },
   "source": [
    "It is clear from the above plots that students who are more involved in the classroom activities generally score high marks. Another interesting observation could be **how female students perform compared to male student?**"
   ]
  },
  {
   "cell_type": "code",
   "execution_count": 21,
   "metadata": {
    "execution": {
     "iopub.execute_input": "2020-09-28T05:52:25.014254Z",
     "iopub.status.busy": "2020-09-28T05:52:25.004400Z",
     "iopub.status.idle": "2020-09-28T05:52:25.271512Z",
     "shell.execute_reply": "2020-09-28T05:52:25.270694Z"
    },
    "papermill": {
     "duration": 0.354742,
     "end_time": "2020-09-28T05:52:25.271661",
     "exception": false,
     "start_time": "2020-09-28T05:52:24.916919",
     "status": "completed"
    },
    "tags": []
   },
   "outputs": [
    {
     "data": {
      "image/png": "[encoded data removed]",
      "text/plain": [
       "<Figure size 1008x576 with 1 Axes>"
      ]
     },
     "metadata": {
      "needs_background": "light"
     },
     "output_type": "display_data"
    }
   ],
   "source": [
    "plt.figure(figsize=(14,8))\n",
    "sns.countplot('Class', hue='gender', data=edu_df);"
   ]
  },
  {
   "cell_type": "markdown",
   "metadata": {
    "papermill": {
     "duration": 0.074938,
     "end_time": "2020-09-28T05:52:25.422288",
     "exception": false,
     "start_time": "2020-09-28T05:52:25.347350",
     "status": "completed"
    },
    "tags": []
   },
   "source": [
    "As we can see from the above plot, female students tend to have higher performance scores as compared to male students."
   ]
  },
  {
   "cell_type": "code",
   "execution_count": 22,
   "metadata": {
    "execution": {
     "iopub.execute_input": "2020-09-28T05:52:25.579478Z",
     "iopub.status.busy": "2020-09-28T05:52:25.574015Z",
     "iopub.status.idle": "2020-09-28T05:52:25.808498Z",
     "shell.execute_reply": "2020-09-28T05:52:25.807712Z"
    },
    "papermill": {
     "duration": 0.31205,
     "end_time": "2020-09-28T05:52:25.808661",
     "exception": false,
     "start_time": "2020-09-28T05:52:25.496611",
     "status": "completed"
    },
    "tags": []
   },
   "outputs": [
    {
     "data": {
      "image/png": "[encoded data removed]",
      "text/plain": [
       "<Figure size 864x576 with 1 Axes>"
      ]
     },
     "metadata": {
      "needs_background": "light"
     },
     "output_type": "display_data"
    }
   ],
   "source": [
    "plt.figure(figsize=(12,8))\n",
    "sns.countplot('gender', hue='StudentAbsenceDays', data=edu_df);"
   ]
  },
  {
   "cell_type": "code",
   "execution_count": 23,
   "metadata": {
    "execution": {
     "iopub.execute_input": "2020-09-28T05:52:26.045637Z",
     "iopub.status.busy": "2020-09-28T05:52:26.044764Z",
     "iopub.status.idle": "2020-09-28T05:52:26.789528Z",
     "shell.execute_reply": "2020-09-28T05:52:26.788691Z"
    },
    "papermill": {
     "duration": 0.837297,
     "end_time": "2020-09-28T05:52:26.789690",
     "exception": false,
     "start_time": "2020-09-28T05:52:25.952393",
     "status": "completed"
    },
    "tags": []
   },
   "outputs": [
    {
     "data": {
      "image/png": "[encoded data removed]",
      "text/plain": [
       "<Figure size 1008x576 with 4 Axes>"
      ]
     },
     "metadata": {
      "needs_background": "light"
     },
     "output_type": "display_data"
    }
   ],
   "source": [
    "fig, ax = plt.subplots(2, 2, figsize=(14,8))\n",
    "sns.boxplot(x='gender', y='raisedhands', data=edu_df, ax=ax[0,0])\n",
    "sns.boxplot(x='gender', y='VisITedResources', data=edu_df, ax=ax[0,1])\n",
    "sns.boxplot(x='gender', y='Discussion', data=edu_df, ax=ax[1,0])\n",
    "sns.boxplot(x='gender', y='AnnouncementsView', data=edu_df, ax=ax[1,1])\n",
    "plt.tight_layout();"
   ]
  },
  {
   "cell_type": "markdown",
   "metadata": {
    "papermill": {
     "duration": 0.073456,
     "end_time": "2020-09-28T05:52:26.936970",
     "exception": false,
     "start_time": "2020-09-28T05:52:26.863514",
     "status": "completed"
    },
    "tags": []
   },
   "source": [
    "Few points to note from the above plots:\n",
    "\n",
    "1. Female students have a better attendance rate.\n",
    "2. Also they are generally more involved in the classroom activities as compared to fellow male students.\n",
    "\n",
    "This also explains why female students generally score higher than male students. Note that, this is also in line with our general observation.\n",
    "\n",
    "The attributes 'SectionID', 'StageID' and 'Semester' might also be related to a student's performance. We investigate that below."
   ]
  },
  {
   "cell_type": "code",
   "execution_count": 24,
   "metadata": {
    "execution": {
     "iopub.execute_input": "2020-09-28T05:52:27.095529Z",
     "iopub.status.busy": "2020-09-28T05:52:27.094324Z",
     "iopub.status.idle": "2020-09-28T05:52:27.777273Z",
     "shell.execute_reply": "2020-09-28T05:52:27.776585Z"
    },
    "papermill": {
     "duration": 0.766363,
     "end_time": "2020-09-28T05:52:27.777425",
     "exception": false,
     "start_time": "2020-09-28T05:52:27.011062",
     "status": "completed"
    },
    "tags": []
   },
   "outputs": [
    {
     "data": {
      "image/png": "[encoded data removed]",
      "text/plain": [
       "<Figure size 1008x432 with 3 Axes>"
      ]
     },
     "metadata": {
      "needs_background": "light"
     },
     "output_type": "display_data"
    }
   ],
   "source": [
    "fig, ax = plt.subplots(1,3, figsize=(14,6))\n",
    "sns.countplot('SectionID', hue='Class', data=edu_df, ax=ax[0])\n",
    "sns.countplot('StageID', hue='Class', data=edu_df, ax=ax[1])\n",
    "sns.countplot('Semester', hue='Class', data=edu_df, ax=ax[2]);"
   ]
  },
  {
   "cell_type": "markdown",
   "metadata": {
    "papermill": {
     "duration": 0.078414,
     "end_time": "2020-09-28T05:52:27.932695",
     "exception": false,
     "start_time": "2020-09-28T05:52:27.854281",
     "status": "completed"
    },
    "tags": []
   },
   "source": [
    "Couple of interesting points to note here are:\n",
    "\n",
    "1. Students of section A have shown an overall better performance and very few students from section C have scored high marks.\n",
    "2. Students coming from middle school have have the highest number of 'middle-level' and 'high-level' grades. In case of high school, these two numbers are almost comparable.\n",
    "3. There is a decrease in number of 'low-level' grades and a corresponding increase in number of 'high-level' grades in second semester. That means, as students transit from first to second semester, they generally give a better performance.\n",
    "\n",
    "**How students perform in different topics?**"
   ]
  },
  {
   "cell_type": "code",
   "execution_count": 25,
   "metadata": {
    "execution": {
     "iopub.execute_input": "2020-09-28T05:52:28.104805Z",
     "iopub.status.busy": "2020-09-28T05:52:28.096493Z",
     "iopub.status.idle": "2020-09-28T05:52:28.588995Z",
     "shell.execute_reply": "2020-09-28T05:52:28.588274Z"
    },
    "papermill": {
     "duration": 0.579632,
     "end_time": "2020-09-28T05:52:28.589142",
     "exception": false,
     "start_time": "2020-09-28T05:52:28.009510",
     "status": "completed"
    },
    "scrolled": false,
    "tags": []
   },
   "outputs": [
    {
     "data": {
      "image/png": "[encoded data removed]",
      "text/plain": [
       "<Figure size 1008x576 with 1 Axes>"
      ]
     },
     "metadata": {
      "needs_background": "light"
     },
     "output_type": "display_data"
    }
   ],
   "source": [
    "plt.figure(figsize=(14,8))\n",
    "f = sns.countplot('Topic', hue='Class', data=edu_df)\n",
    "f.set_xticklabels(labels=labels, rotation=120);"
   ]
  },
  {
   "cell_type": "markdown",
   "metadata": {
    "papermill": {
     "duration": 0.076296,
     "end_time": "2020-09-28T05:52:28.742819",
     "exception": false,
     "start_time": "2020-09-28T05:52:28.666523",
     "status": "completed"
    },
    "tags": []
   },
   "source": [
    "Although IT has maximum number of enrollments, the overall performance of students in this course is poor as compared to others since the number of students with high marks are significantly lower than that with low and average marks (which are almost comparable in this case). In subjects like biology and chemistry, most of the students have scored high marks. Also in gelogy, there is no student with low score. "
   ]
  },
  {
   "cell_type": "markdown",
   "metadata": {
    "papermill": {
     "duration": 0.078006,
     "end_time": "2020-09-28T05:52:28.895904",
     "exception": false,
     "start_time": "2020-09-28T05:52:28.817898",
     "status": "completed"
    },
    "tags": []
   },
   "source": [
    "Let's now see **how satisfied parents are with each school of study.**"
   ]
  },
  {
   "cell_type": "code",
   "execution_count": 26,
   "metadata": {
    "execution": {
     "iopub.execute_input": "2020-09-28T05:52:29.060387Z",
     "iopub.status.busy": "2020-09-28T05:52:29.059486Z",
     "iopub.status.idle": "2020-09-28T05:52:29.487049Z",
     "shell.execute_reply": "2020-09-28T05:52:29.486224Z"
    },
    "papermill": {
     "duration": 0.514982,
     "end_time": "2020-09-28T05:52:29.487204",
     "exception": false,
     "start_time": "2020-09-28T05:52:28.972222",
     "status": "completed"
    },
    "tags": []
   },
   "outputs": [
    {
     "data": {
      "image/png": "[encoded data removed]",
      "text/plain": [
       "<Figure size 1008x576 with 1 Axes>"
      ]
     },
     "metadata": {
      "needs_background": "light"
     },
     "output_type": "display_data"
    }
   ],
   "source": [
    "plt.figure(figsize=(14,8))\n",
    "sns.countplot('Topic', hue='ParentschoolSatisfaction', data=edu_df);"
   ]
  },
  {
   "cell_type": "markdown",
   "metadata": {
    "papermill": {
     "duration": 0.077398,
     "end_time": "2020-09-28T05:52:29.642419",
     "exception": false,
     "start_time": "2020-09-28T05:52:29.565021",
     "status": "completed"
    },
    "tags": []
   },
   "source": [
    "One interesting point to note is that the most popular course IT has received almost comparable number of good and bad reviews. Courses like chemistry, biology have got significantly more number of positive feedbacks from parents. Looking at the last two plots, it seems that parents voting for each of the school of studies have been affected by the performance of their children in those courses.\n",
    "\n",
    "It will be interesting to monitor how all these factors affect students to take up a particular course in the future. Also studying this data closely is extremely important for the organization to expand its business, *e.g.*, understanding which topics are more popular among students and also in different countries, introducing new methods to engage more students in the classroom activities which will help them to perform better and in turn attract more students to enroll, improving structures of the courses in which students have not performed well and also have got comparatively poor reviews and so on."
   ]
  },
  {
   "cell_type": "markdown",
   "metadata": {
    "papermill": {
     "duration": 0.077795,
     "end_time": "2020-09-28T05:52:29.798535",
     "exception": false,
     "start_time": "2020-09-28T05:52:29.720740",
     "status": "completed"
    },
    "tags": []
   },
   "source": [
    "## Building a classification model "
   ]
  },
  {
   "cell_type": "markdown",
   "metadata": {
    "papermill": {
     "duration": 0.076445,
     "end_time": "2020-09-28T05:52:29.953870",
     "exception": false,
     "start_time": "2020-09-28T05:52:29.877425",
     "status": "completed"
    },
    "tags": []
   },
   "source": [
    "In this section, we will build a simple model which, given a bunch of features related to a student, will be able to predict how the student will perform."
   ]
  },
  {
   "cell_type": "code",
   "execution_count": 27,
   "metadata": {
    "execution": {
     "iopub.execute_input": "2020-09-28T05:52:30.141486Z",
     "iopub.status.busy": "2020-09-28T05:52:30.140448Z",
     "iopub.status.idle": "2020-09-28T05:52:30.146792Z",
     "shell.execute_reply": "2020-09-28T05:52:30.145989Z"
    },
    "papermill": {
     "duration": 0.109902,
     "end_time": "2020-09-28T05:52:30.146963",
     "exception": false,
     "start_time": "2020-09-28T05:52:30.037061",
     "status": "completed"
    },
    "tags": []
   },
   "outputs": [
    {
     "data": {
      "text/html": [
       "<div>\n",
       "<style scoped>\n",
       "    .dataframe tbody tr th:only-of-type {\n",
       "        vertical-align: middle;\n",
       "    }\n",
       "\n",
       "    .dataframe tbody tr th {\n",
       "        vertical-align: top;\n",
       "    }\n",
       "\n",
       "    .dataframe thead th {\n",
       "        text-align: right;\n",
       "    }\n",
       "</style>\n",
       "<table border=\"1\" class=\"dataframe\">\n",
       "  <thead>\n",
       "    <tr style=\"text-align: right;\">\n",
       "      <th></th>\n",
       "      <th>gender</th>\n",
       "      <th>PlaceofBirth</th>\n",
       "      <th>StageID</th>\n",
       "      <th>GradeID</th>\n",
       "      <th>SectionID</th>\n",
       "      <th>Topic</th>\n",
       "      <th>Semester</th>\n",
       "      <th>Relation</th>\n",
       "      <th>raisedhands</th>\n",
       "      <th>VisITedResources</th>\n",
       "      <th>AnnouncementsView</th>\n",
       "      <th>Discussion</th>\n",
       "      <th>ParentAnsweringSurvey</th>\n",
       "      <th>ParentschoolSatisfaction</th>\n",
       "      <th>StudentAbsenceDays</th>\n",
       "    </tr>\n",
       "  </thead>\n",
       "  <tbody>\n",
       "    <tr>\n",
       "      <th>0</th>\n",
       "      <td>M</td>\n",
       "      <td>KuwaIT</td>\n",
       "      <td>lowerlevel</td>\n",
       "      <td>G-04</td>\n",
       "      <td>A</td>\n",
       "      <td>IT</td>\n",
       "      <td>F</td>\n",
       "      <td>Father</td>\n",
       "      <td>15</td>\n",
       "      <td>16</td>\n",
       "      <td>2</td>\n",
       "      <td>20</td>\n",
       "      <td>Yes</td>\n",
       "      <td>Good</td>\n",
       "      <td>Under-7</td>\n",
       "    </tr>\n",
       "    <tr>\n",
       "      <th>1</th>\n",
       "      <td>M</td>\n",
       "      <td>KuwaIT</td>\n",
       "      <td>lowerlevel</td>\n",
       "      <td>G-04</td>\n",
       "      <td>A</td>\n",
       "      <td>IT</td>\n",
       "      <td>F</td>\n",
       "      <td>Father</td>\n",
       "      <td>20</td>\n",
       "      <td>20</td>\n",
       "      <td>3</td>\n",
       "      <td>25</td>\n",
       "      <td>Yes</td>\n",
       "      <td>Good</td>\n",
       "      <td>Under-7</td>\n",
       "    </tr>\n",
       "    <tr>\n",
       "      <th>2</th>\n",
       "      <td>M</td>\n",
       "      <td>KuwaIT</td>\n",
       "      <td>lowerlevel</td>\n",
       "      <td>G-04</td>\n",
       "      <td>A</td>\n",
       "      <td>IT</td>\n",
       "      <td>F</td>\n",
       "      <td>Father</td>\n",
       "      <td>10</td>\n",
       "      <td>7</td>\n",
       "      <td>0</td>\n",
       "      <td>30</td>\n",
       "      <td>No</td>\n",
       "      <td>Bad</td>\n",
       "      <td>Above-7</td>\n",
       "    </tr>\n",
       "    <tr>\n",
       "      <th>3</th>\n",
       "      <td>M</td>\n",
       "      <td>KuwaIT</td>\n",
       "      <td>lowerlevel</td>\n",
       "      <td>G-04</td>\n",
       "      <td>A</td>\n",
       "      <td>IT</td>\n",
       "      <td>F</td>\n",
       "      <td>Father</td>\n",
       "      <td>30</td>\n",
       "      <td>25</td>\n",
       "      <td>5</td>\n",
       "      <td>35</td>\n",
       "      <td>No</td>\n",
       "      <td>Bad</td>\n",
       "      <td>Above-7</td>\n",
       "    </tr>\n",
       "    <tr>\n",
       "      <th>4</th>\n",
       "      <td>M</td>\n",
       "      <td>KuwaIT</td>\n",
       "      <td>lowerlevel</td>\n",
       "      <td>G-04</td>\n",
       "      <td>A</td>\n",
       "      <td>IT</td>\n",
       "      <td>F</td>\n",
       "      <td>Father</td>\n",
       "      <td>40</td>\n",
       "      <td>50</td>\n",
       "      <td>12</td>\n",
       "      <td>50</td>\n",
       "      <td>No</td>\n",
       "      <td>Bad</td>\n",
       "      <td>Above-7</td>\n",
       "    </tr>\n",
       "  </tbody>\n",
       "</table>\n",
       "</div>"
      ],
      "text/plain": [
       "  gender PlaceofBirth     StageID GradeID SectionID Topic Semester Relation  \\\n",
       "0      M       KuwaIT  lowerlevel    G-04         A    IT        F   Father   \n",
       "1      M       KuwaIT  lowerlevel    G-04         A    IT        F   Father   \n",
       "2      M       KuwaIT  lowerlevel    G-04         A    IT        F   Father   \n",
       "3      M       KuwaIT  lowerlevel    G-04         A    IT        F   Father   \n",
       "4      M       KuwaIT  lowerlevel    G-04         A    IT        F   Father   \n",
       "\n",
       "   raisedhands  VisITedResources  AnnouncementsView  Discussion  \\\n",
       "0           15                16                  2          20   \n",
       "1           20                20                  3          25   \n",
       "2           10                 7                  0          30   \n",
       "3           30                25                  5          35   \n",
       "4           40                50                 12          50   \n",
       "\n",
       "  ParentAnsweringSurvey ParentschoolSatisfaction StudentAbsenceDays  \n",
       "0                   Yes                     Good            Under-7  \n",
       "1                   Yes                     Good            Under-7  \n",
       "2                    No                      Bad            Above-7  \n",
       "3                    No                      Bad            Above-7  \n",
       "4                    No                      Bad            Above-7  "
      ]
     },
     "execution_count": 27,
     "metadata": {},
     "output_type": "execute_result"
    }
   ],
   "source": [
    "X = edu_df.drop('Class', axis=1)\n",
    "X.head()"
   ]
  },
  {
   "cell_type": "code",
   "execution_count": 28,
   "metadata": {
    "execution": {
     "iopub.execute_input": "2020-09-28T05:52:30.314172Z",
     "iopub.status.busy": "2020-09-28T05:52:30.313312Z",
     "iopub.status.idle": "2020-09-28T05:52:30.316377Z",
     "shell.execute_reply": "2020-09-28T05:52:30.316970Z"
    },
    "papermill": {
     "duration": 0.090797,
     "end_time": "2020-09-28T05:52:30.317170",
     "exception": false,
     "start_time": "2020-09-28T05:52:30.226373",
     "status": "completed"
    },
    "tags": []
   },
   "outputs": [],
   "source": [
    "y = edu_df['Class']"
   ]
  },
  {
   "cell_type": "markdown",
   "metadata": {
    "papermill": {
     "duration": 0.077674,
     "end_time": "2020-09-28T05:52:30.474842",
     "exception": false,
     "start_time": "2020-09-28T05:52:30.397168",
     "status": "completed"
    },
    "tags": []
   },
   "source": [
    "So, X is our **feature matrix** and y is the **target variable**."
   ]
  },
  {
   "cell_type": "markdown",
   "metadata": {
    "papermill": {
     "duration": 0.079122,
     "end_time": "2020-09-28T05:52:30.632783",
     "exception": false,
     "start_time": "2020-09-28T05:52:30.553661",
     "status": "completed"
    },
    "tags": []
   },
   "source": [
    "Let's now convert all the categorical variables into dummy variables."
   ]
  },
  {
   "cell_type": "code",
   "execution_count": 29,
   "metadata": {
    "execution": {
     "iopub.execute_input": "2020-09-28T05:52:30.804289Z",
     "iopub.status.busy": "2020-09-28T05:52:30.802625Z",
     "iopub.status.idle": "2020-09-28T05:52:30.839028Z",
     "shell.execute_reply": "2020-09-28T05:52:30.838109Z"
    },
    "papermill": {
     "duration": 0.128887,
     "end_time": "2020-09-28T05:52:30.839190",
     "exception": false,
     "start_time": "2020-09-28T05:52:30.710303",
     "status": "completed"
    },
    "tags": []
   },
   "outputs": [
    {
     "data": {
      "text/html": [
       "<div>\n",
       "<style scoped>\n",
       "    .dataframe tbody tr th:only-of-type {\n",
       "        vertical-align: middle;\n",
       "    }\n",
       "\n",
       "    .dataframe tbody tr th {\n",
       "        vertical-align: top;\n",
       "    }\n",
       "\n",
       "    .dataframe thead th {\n",
       "        text-align: right;\n",
       "    }\n",
       "</style>\n",
       "<table border=\"1\" class=\"dataframe\">\n",
       "  <thead>\n",
       "    <tr style=\"text-align: right;\">\n",
       "      <th></th>\n",
       "      <th>raisedhands</th>\n",
       "      <th>VisITedResources</th>\n",
       "      <th>AnnouncementsView</th>\n",
       "      <th>Discussion</th>\n",
       "      <th>gender_M</th>\n",
       "      <th>PlaceofBirth_Iran</th>\n",
       "      <th>PlaceofBirth_Iraq</th>\n",
       "      <th>PlaceofBirth_Jordan</th>\n",
       "      <th>PlaceofBirth_KuwaIT</th>\n",
       "      <th>PlaceofBirth_Lybia</th>\n",
       "      <th>...</th>\n",
       "      <th>Topic_IT</th>\n",
       "      <th>Topic_Math</th>\n",
       "      <th>Topic_Quran</th>\n",
       "      <th>Topic_Science</th>\n",
       "      <th>Topic_Spanish</th>\n",
       "      <th>Semester_S</th>\n",
       "      <th>Relation_Mum</th>\n",
       "      <th>ParentAnsweringSurvey_Yes</th>\n",
       "      <th>ParentschoolSatisfaction_Good</th>\n",
       "      <th>StudentAbsenceDays_Under-7</th>\n",
       "    </tr>\n",
       "  </thead>\n",
       "  <tbody>\n",
       "    <tr>\n",
       "      <th>0</th>\n",
       "      <td>15</td>\n",
       "      <td>16</td>\n",
       "      <td>2</td>\n",
       "      <td>20</td>\n",
       "      <td>1</td>\n",
       "      <td>0</td>\n",
       "      <td>0</td>\n",
       "      <td>0</td>\n",
       "      <td>1</td>\n",
       "      <td>0</td>\n",
       "      <td>...</td>\n",
       "      <td>1</td>\n",
       "      <td>0</td>\n",
       "      <td>0</td>\n",
       "      <td>0</td>\n",
       "      <td>0</td>\n",
       "      <td>0</td>\n",
       "      <td>0</td>\n",
       "      <td>1</td>\n",
       "      <td>1</td>\n",
       "      <td>1</td>\n",
       "    </tr>\n",
       "    <tr>\n",
       "      <th>1</th>\n",
       "      <td>20</td>\n",
       "      <td>20</td>\n",
       "      <td>3</td>\n",
       "      <td>25</td>\n",
       "      <td>1</td>\n",
       "      <td>0</td>\n",
       "      <td>0</td>\n",
       "      <td>0</td>\n",
       "      <td>1</td>\n",
       "      <td>0</td>\n",
       "      <td>...</td>\n",
       "      <td>1</td>\n",
       "      <td>0</td>\n",
       "      <td>0</td>\n",
       "      <td>0</td>\n",
       "      <td>0</td>\n",
       "      <td>0</td>\n",
       "      <td>0</td>\n",
       "      <td>1</td>\n",
       "      <td>1</td>\n",
       "      <td>1</td>\n",
       "    </tr>\n",
       "    <tr>\n",
       "      <th>2</th>\n",
       "      <td>10</td>\n",
       "      <td>7</td>\n",
       "      <td>0</td>\n",
       "      <td>30</td>\n",
       "      <td>1</td>\n",
       "      <td>0</td>\n",
       "      <td>0</td>\n",
       "      <td>0</td>\n",
       "      <td>1</td>\n",
       "      <td>0</td>\n",
       "      <td>...</td>\n",
       "      <td>1</td>\n",
       "      <td>0</td>\n",
       "      <td>0</td>\n",
       "      <td>0</td>\n",
       "      <td>0</td>\n",
       "      <td>0</td>\n",
       "      <td>0</td>\n",
       "      <td>0</td>\n",
       "      <td>0</td>\n",
       "      <td>0</td>\n",
       "    </tr>\n",
       "    <tr>\n",
       "      <th>3</th>\n",
       "      <td>30</td>\n",
       "      <td>25</td>\n",
       "      <td>5</td>\n",
       "      <td>35</td>\n",
       "      <td>1</td>\n",
       "      <td>0</td>\n",
       "      <td>0</td>\n",
       "      <td>0</td>\n",
       "      <td>1</td>\n",
       "      <td>0</td>\n",
       "      <td>...</td>\n",
       "      <td>1</td>\n",
       "      <td>0</td>\n",
       "      <td>0</td>\n",
       "      <td>0</td>\n",
       "      <td>0</td>\n",
       "      <td>0</td>\n",
       "      <td>0</td>\n",
       "      <td>0</td>\n",
       "      <td>0</td>\n",
       "      <td>0</td>\n",
       "    </tr>\n",
       "    <tr>\n",
       "      <th>4</th>\n",
       "      <td>40</td>\n",
       "      <td>50</td>\n",
       "      <td>12</td>\n",
       "      <td>50</td>\n",
       "      <td>1</td>\n",
       "      <td>0</td>\n",
       "      <td>0</td>\n",
       "      <td>0</td>\n",
       "      <td>1</td>\n",
       "      <td>0</td>\n",
       "      <td>...</td>\n",
       "      <td>1</td>\n",
       "      <td>0</td>\n",
       "      <td>0</td>\n",
       "      <td>0</td>\n",
       "      <td>0</td>\n",
       "      <td>0</td>\n",
       "      <td>0</td>\n",
       "      <td>0</td>\n",
       "      <td>0</td>\n",
       "      <td>0</td>\n",
       "    </tr>\n",
       "  </tbody>\n",
       "</table>\n",
       "<p>5 rows × 47 columns</p>\n",
       "</div>"
      ],
      "text/plain": [
       "   raisedhands  VisITedResources  AnnouncementsView  Discussion  gender_M  \\\n",
       "0           15                16                  2          20         1   \n",
       "1           20                20                  3          25         1   \n",
       "2           10                 7                  0          30         1   \n",
       "3           30                25                  5          35         1   \n",
       "4           40                50                 12          50         1   \n",
       "\n",
       "   PlaceofBirth_Iran  PlaceofBirth_Iraq  PlaceofBirth_Jordan  \\\n",
       "0                  0                  0                    0   \n",
       "1                  0                  0                    0   \n",
       "2                  0                  0                    0   \n",
       "3                  0                  0                    0   \n",
       "4                  0                  0                    0   \n",
       "\n",
       "   PlaceofBirth_KuwaIT  PlaceofBirth_Lybia  ...  Topic_IT  Topic_Math  \\\n",
       "0                    1                   0  ...         1           0   \n",
       "1                    1                   0  ...         1           0   \n",
       "2                    1                   0  ...         1           0   \n",
       "3                    1                   0  ...         1           0   \n",
       "4                    1                   0  ...         1           0   \n",
       "\n",
       "   Topic_Quran  Topic_Science  Topic_Spanish  Semester_S  Relation_Mum  \\\n",
       "0            0              0              0           0             0   \n",
       "1            0              0              0           0             0   \n",
       "2            0              0              0           0             0   \n",
       "3            0              0              0           0             0   \n",
       "4            0              0              0           0             0   \n",
       "\n",
       "   ParentAnsweringSurvey_Yes  ParentschoolSatisfaction_Good  \\\n",
       "0                          1                              1   \n",
       "1                          1                              1   \n",
       "2                          0                              0   \n",
       "3                          0                              0   \n",
       "4                          0                              0   \n",
       "\n",
       "   StudentAbsenceDays_Under-7  \n",
       "0                           1  \n",
       "1                           1  \n",
       "2                           0  \n",
       "3                           0  \n",
       "4                           0  \n",
       "\n",
       "[5 rows x 47 columns]"
      ]
     },
     "execution_count": 29,
     "metadata": {},
     "output_type": "execute_result"
    }
   ],
   "source": [
    "X = pd.get_dummies(X, drop_first=True)\n",
    "X.head()"
   ]
  },
  {
   "cell_type": "markdown",
   "metadata": {
    "papermill": {
     "duration": 0.079957,
     "end_time": "2020-09-28T05:52:30.998586",
     "exception": false,
     "start_time": "2020-09-28T05:52:30.918629",
     "status": "completed"
    },
    "tags": []
   },
   "source": [
    "So we have total 47 features to train our model on. Let's split our dataset into train and test sets. "
   ]
  },
  {
   "cell_type": "code",
   "execution_count": 30,
   "metadata": {
    "execution": {
     "iopub.execute_input": "2020-09-28T05:52:31.170771Z",
     "iopub.status.busy": "2020-09-28T05:52:31.169712Z",
     "iopub.status.idle": "2020-09-28T05:52:31.177652Z",
     "shell.execute_reply": "2020-09-28T05:52:31.176776Z"
    },
    "papermill": {
     "duration": 0.094789,
     "end_time": "2020-09-28T05:52:31.177814",
     "exception": false,
     "start_time": "2020-09-28T05:52:31.083025",
     "status": "completed"
    },
    "tags": []
   },
   "outputs": [],
   "source": [
    "X_train, X_test, y_train, y_test = train_test_split(X, y, test_size=0.2)"
   ]
  },
  {
   "cell_type": "code",
   "execution_count": 31,
   "metadata": {
    "execution": {
     "iopub.execute_input": "2020-09-28T05:52:31.345037Z",
     "iopub.status.busy": "2020-09-28T05:52:31.344199Z",
     "iopub.status.idle": "2020-09-28T05:52:31.348201Z",
     "shell.execute_reply": "2020-09-28T05:52:31.347396Z"
    },
    "papermill": {
     "duration": 0.088996,
     "end_time": "2020-09-28T05:52:31.348354",
     "exception": false,
     "start_time": "2020-09-28T05:52:31.259358",
     "status": "completed"
    },
    "tags": []
   },
   "outputs": [
    {
     "name": "stdout",
     "output_type": "stream",
     "text": [
      "the shape of the training set is (384, 47)\n",
      "the shape of the test set is (96, 47)\n"
     ]
    }
   ],
   "source": [
    "print(\"the shape of the training set is {}\".format(X_train.shape))\n",
    "print(\"the shape of the test set is {}\".format(X_test.shape))"
   ]
  },
  {
   "cell_type": "markdown",
   "metadata": {
    "papermill": {
     "duration": 0.081067,
     "end_time": "2020-09-28T05:52:31.510896",
     "exception": false,
     "start_time": "2020-09-28T05:52:31.429829",
     "status": "completed"
    },
    "tags": []
   },
   "source": [
    "Before building the model, let's find out how the target classes are distributed in the dataset. This is crucial to understand in order to choose the evaluation metric to test the model's performance."
   ]
  },
  {
   "cell_type": "code",
   "execution_count": 32,
   "metadata": {
    "execution": {
     "iopub.execute_input": "2020-09-28T05:52:31.682115Z",
     "iopub.status.busy": "2020-09-28T05:52:31.681301Z",
     "iopub.status.idle": "2020-09-28T05:52:31.850492Z",
     "shell.execute_reply": "2020-09-28T05:52:31.849832Z"
    },
    "papermill": {
     "duration": 0.25837,
     "end_time": "2020-09-28T05:52:31.850819",
     "exception": false,
     "start_time": "2020-09-28T05:52:31.592449",
     "status": "completed"
    },
    "tags": []
   },
   "outputs": [
    {
     "data": {
      "image/png": "[encoded data removed]",
      "text/plain": [
       "<Figure size 432x288 with 1 Axes>"
      ]
     },
     "metadata": {
      "needs_background": "light"
     },
     "output_type": "display_data"
    }
   ],
   "source": [
    "sns.countplot('Class', data=edu_df);"
   ]
  },
  {
   "cell_type": "markdown",
   "metadata": {
    "papermill": {
     "duration": 0.081862,
     "end_time": "2020-09-28T05:52:32.015542",
     "exception": false,
     "start_time": "2020-09-28T05:52:31.933680",
     "status": "completed"
    },
    "tags": []
   },
   "source": [
    "So from the above plot it is clear that when the dataset can be considered to be moderately balanced. Hence, accuracy score can be a good metric in this case."
   ]
  },
  {
   "cell_type": "markdown",
   "metadata": {
    "papermill": {
     "duration": 0.080299,
     "end_time": "2020-09-28T05:52:32.178475",
     "exception": false,
     "start_time": "2020-09-28T05:52:32.098176",
     "status": "completed"
    },
    "tags": []
   },
   "source": [
    "The first classification algorithm that we use is k nearest neighbors. One important hyper-parameter of this algorithm is n_neighbors which is the number of nearest neighbors to be considered when performing the classification. To find out the optimum value of this parameter in our case, let's generate a plot of test accuracy as a function of n_neighbors."
   ]
  },
  {
   "cell_type": "code",
   "execution_count": 33,
   "metadata": {
    "execution": {
     "iopub.execute_input": "2020-09-28T05:52:32.373961Z",
     "iopub.status.busy": "2020-09-28T05:52:32.368286Z",
     "iopub.status.idle": "2020-09-28T05:52:33.109366Z",
     "shell.execute_reply": "2020-09-28T05:52:33.108462Z"
    },
    "papermill": {
     "duration": 0.84493,
     "end_time": "2020-09-28T05:52:33.109522",
     "exception": false,
     "start_time": "2020-09-28T05:52:32.264592",
     "status": "completed"
    },
    "tags": []
   },
   "outputs": [],
   "source": [
    "# consider n_neighbors in the range (1,50)\n",
    "n_neighbors = range(50)\n",
    "accuracy_list = []\n",
    "\n",
    "for n in n_neighbors:\n",
    "    knn = KNeighborsClassifier(n_neighbors=n+1)\n",
    "    # fit on the training set\n",
    "    knn.fit(X_train, y_train)\n",
    "    # predict on the test set\n",
    "    pred = knn.predict(X_test)\n",
    "    # calculate the accuracy score on the test set\n",
    "    accuracy = accuracy_score(y_test, pred)\n",
    "    # store the value\n",
    "    accuracy_list.append(accuracy)"
   ]
  },
  {
   "cell_type": "code",
   "execution_count": 34,
   "metadata": {
    "execution": {
     "iopub.execute_input": "2020-09-28T05:52:33.290607Z",
     "iopub.status.busy": "2020-09-28T05:52:33.285583Z",
     "iopub.status.idle": "2020-09-28T05:52:33.603841Z",
     "shell.execute_reply": "2020-09-28T05:52:33.603085Z"
    },
    "papermill": {
     "duration": 0.407934,
     "end_time": "2020-09-28T05:52:33.603997",
     "exception": false,
     "start_time": "2020-09-28T05:52:33.196063",
     "status": "completed"
    },
    "tags": []
   },
   "outputs": [
    {
     "data": {
      "text/plain": [
       "Text(0, 0.5, 'accuracy score')"
      ]
     },
     "execution_count": 34,
     "metadata": {},
     "output_type": "execute_result"
    },
    {
     "data": {
      "image/png": "[encoded data removed]",
      "text/plain": [
       "<Figure size 432x288 with 1 Axes>"
      ]
     },
     "metadata": {
      "needs_background": "light"
     },
     "output_type": "display_data"
    }
   ],
   "source": [
    "plt.plot(range(1,51), accuracy_list)\n",
    "plt.xlabel('number of neighbors')\n",
    "plt.ylabel('accuracy score')"
   ]
  },
  {
   "cell_type": "markdown",
   "metadata": {
    "papermill": {
     "duration": 0.082667,
     "end_time": "2020-09-28T05:52:33.771338",
     "exception": false,
     "start_time": "2020-09-28T05:52:33.688671",
     "status": "completed"
    },
    "tags": []
   },
   "source": [
    "As can be seen from the above plot, approximately n_neighbors = 12 gives the best accuracy result and we will choose this value to train our model."
   ]
  },
  {
   "cell_type": "code",
   "execution_count": 35,
   "metadata": {
    "execution": {
     "iopub.execute_input": "2020-09-28T05:52:33.949558Z",
     "iopub.status.busy": "2020-09-28T05:52:33.946267Z",
     "iopub.status.idle": "2020-09-28T05:52:33.957835Z",
     "shell.execute_reply": "2020-09-28T05:52:33.958660Z"
    },
    "papermill": {
     "duration": 0.104712,
     "end_time": "2020-09-28T05:52:33.958847",
     "exception": false,
     "start_time": "2020-09-28T05:52:33.854135",
     "status": "completed"
    },
    "tags": []
   },
   "outputs": [
    {
     "data": {
      "text/plain": [
       "KNeighborsClassifier(n_neighbors=12)"
      ]
     },
     "execution_count": 35,
     "metadata": {},
     "output_type": "execute_result"
    }
   ],
   "source": [
    "knn = KNeighborsClassifier(n_neighbors=12)\n",
    "knn.fit(X_train, y_train)"
   ]
  },
  {
   "cell_type": "code",
   "execution_count": 36,
   "metadata": {
    "execution": {
     "iopub.execute_input": "2020-09-28T05:52:34.140731Z",
     "iopub.status.busy": "2020-09-28T05:52:34.139929Z",
     "iopub.status.idle": "2020-09-28T05:52:34.153348Z",
     "shell.execute_reply": "2020-09-28T05:52:34.152514Z"
    },
    "papermill": {
     "duration": 0.109477,
     "end_time": "2020-09-28T05:52:34.153489",
     "exception": false,
     "start_time": "2020-09-28T05:52:34.044012",
     "status": "completed"
    },
    "tags": []
   },
   "outputs": [
    {
     "name": "stdout",
     "output_type": "stream",
     "text": [
      "The accuracy score for KNN algorithm is 0.625\n"
     ]
    }
   ],
   "source": [
    "knn_pred = knn.predict(X_test)\n",
    "knn_accuracy = accuracy_score(y_true=y_test, y_pred=knn_pred)\n",
    "print(\"The accuracy score for KNN algorithm is {}\".format(knn_accuracy))"
   ]
  },
  {
   "cell_type": "markdown",
   "metadata": {
    "papermill": {
     "duration": 0.085692,
     "end_time": "2020-09-28T05:52:34.326786",
     "exception": false,
     "start_time": "2020-09-28T05:52:34.241094",
     "status": "completed"
    },
    "tags": []
   },
   "source": [
    "The next classification algorithm that we consider is random forest clasiification. To find the optimum value of the hyper-parameter n_estimators (*i.e*. the number of trees to be conisdered during the classification) in this case, we follow the simialr strategy as above."
   ]
  },
  {
   "cell_type": "code",
   "execution_count": 37,
   "metadata": {
    "execution": {
     "iopub.execute_input": "2020-09-28T05:52:34.515471Z",
     "iopub.status.busy": "2020-09-28T05:52:34.513751Z",
     "iopub.status.idle": "2020-09-28T05:52:40.228888Z",
     "shell.execute_reply": "2020-09-28T05:52:40.228081Z"
    },
    "papermill": {
     "duration": 5.814424,
     "end_time": "2020-09-28T05:52:40.229137",
     "exception": false,
     "start_time": "2020-09-28T05:52:34.414713",
     "status": "completed"
    },
    "tags": []
   },
   "outputs": [],
   "source": [
    "# consider n_estimators in the range (10,200)\n",
    "n_estimators = range(0,210,10)\n",
    "accuracy_list = []\n",
    "\n",
    "for n in n_estimators:\n",
    "    rf = RandomForestClassifier(n_estimators=n+1)\n",
    "    # fit on the training set\n",
    "    rf.fit(X_train, y_train)\n",
    "    # predict on the test set\n",
    "    pred = rf.predict(X_test)\n",
    "    # calculate the accuracy score on the test set\n",
    "    accuracy = accuracy_score(y_test, pred)\n",
    "    # store the value\n",
    "    accuracy_list.append(accuracy)"
   ]
  },
  {
   "cell_type": "code",
   "execution_count": 38,
   "metadata": {
    "execution": {
     "iopub.execute_input": "2020-09-28T05:52:40.426721Z",
     "iopub.status.busy": "2020-09-28T05:52:40.425583Z",
     "iopub.status.idle": "2020-09-28T05:52:40.839477Z",
     "shell.execute_reply": "2020-09-28T05:52:40.838705Z"
    },
    "papermill": {
     "duration": 0.505429,
     "end_time": "2020-09-28T05:52:40.839617",
     "exception": false,
     "start_time": "2020-09-28T05:52:40.334188",
     "status": "completed"
    },
    "tags": []
   },
   "outputs": [
    {
     "data": {
      "text/plain": [
       "Text(0, 0.5, 'accuracy score')"
      ]
     },
     "execution_count": 38,
     "metadata": {},
     "output_type": "execute_result"
    },
    {
     "data": {
      "image/png": "[encoded data removed]",
      "text/plain": [
       "<Figure size 432x288 with 1 Axes>"
      ]
     },
     "metadata": {
      "needs_background": "light"
     },
     "output_type": "display_data"
    }
   ],
   "source": [
    "plt.plot(range(0,210,10), accuracy_list)\n",
    "plt.xlabel('number of trees')\n",
    "plt.ylabel('accuracy score')"
   ]
  },
  {
   "cell_type": "markdown",
   "metadata": {
    "papermill": {
     "duration": 0.09117,
     "end_time": "2020-09-28T05:52:41.020728",
     "exception": false,
     "start_time": "2020-09-28T05:52:40.929558",
     "status": "completed"
    },
    "tags": []
   },
   "source": [
    "Therefore, n_estimators ~ 110 gives best accuracy score as evaluated on the test set and hence we will use this value to train our model. "
   ]
  },
  {
   "cell_type": "code",
   "execution_count": 39,
   "metadata": {
    "execution": {
     "iopub.execute_input": "2020-09-28T05:52:41.228526Z",
     "iopub.status.busy": "2020-09-28T05:52:41.227545Z",
     "iopub.status.idle": "2020-09-28T05:52:41.532436Z",
     "shell.execute_reply": "2020-09-28T05:52:41.531581Z"
    },
    "papermill": {
     "duration": 0.420057,
     "end_time": "2020-09-28T05:52:41.532592",
     "exception": false,
     "start_time": "2020-09-28T05:52:41.112535",
     "status": "completed"
    },
    "tags": []
   },
   "outputs": [
    {
     "data": {
      "text/plain": [
       "RandomForestClassifier(n_estimators=110)"
      ]
     },
     "execution_count": 39,
     "metadata": {},
     "output_type": "execute_result"
    }
   ],
   "source": [
    "rf = RandomForestClassifier(n_estimators=110)\n",
    "rf.fit(X_train, y_train)"
   ]
  },
  {
   "cell_type": "code",
   "execution_count": 40,
   "metadata": {
    "execution": {
     "iopub.execute_input": "2020-09-28T05:52:41.723802Z",
     "iopub.status.busy": "2020-09-28T05:52:41.722736Z",
     "iopub.status.idle": "2020-09-28T05:52:41.741677Z",
     "shell.execute_reply": "2020-09-28T05:52:41.742601Z"
    },
    "papermill": {
     "duration": 0.122015,
     "end_time": "2020-09-28T05:52:41.742871",
     "exception": false,
     "start_time": "2020-09-28T05:52:41.620856",
     "status": "completed"
    },
    "tags": []
   },
   "outputs": [
    {
     "name": "stdout",
     "output_type": "stream",
     "text": [
      "The accuracy score for random forest algorithm is 0.71875\n"
     ]
    }
   ],
   "source": [
    "rf_pred = rf.predict(X_test)\n",
    "rf_accuracy = accuracy_score(y_true=y_test, y_pred=rf_pred)\n",
    "print(\"The accuracy score for random forest algorithm is {}\".format(rf_accuracy))"
   ]
  },
  {
   "cell_type": "markdown",
   "metadata": {
    "papermill": {
     "duration": 0.087613,
     "end_time": "2020-09-28T05:52:41.918302",
     "exception": false,
     "start_time": "2020-09-28T05:52:41.830689",
     "status": "completed"
    },
    "tags": []
   },
   "source": [
    "We will perform a grid search over a range of some hyper-parameters for the classification algorithms logistic regression and support vector machine to find out which algorithm works best in the present case and for what choice of parameters.\n",
    "\n",
    "Below we define a list of algorithms and a corresponding list of parameter regions that will be used in gridsearching."
   ]
  },
  {
   "cell_type": "code",
   "execution_count": 41,
   "metadata": {
    "execution": {
     "iopub.execute_input": "2020-09-28T05:52:42.103756Z",
     "iopub.status.busy": "2020-09-28T05:52:42.102654Z",
     "iopub.status.idle": "2020-09-28T05:52:42.105717Z",
     "shell.execute_reply": "2020-09-28T05:52:42.104979Z"
    },
    "papermill": {
     "duration": 0.099083,
     "end_time": "2020-09-28T05:52:42.105877",
     "exception": false,
     "start_time": "2020-09-28T05:52:42.006794",
     "status": "completed"
    },
    "tags": []
   },
   "outputs": [],
   "source": [
    "model_list = [LogisticRegression(max_iter=200), SVC()]\n",
    "\n",
    "param_dict = [\n",
    "              {'C': [0.1, 0.5, 1.0]},\n",
    "              {'kernel': ['rbf', 'linear', 'sigmoid', 'poly']}\n",
    "             ]"
   ]
  },
  {
   "cell_type": "markdown",
   "metadata": {
    "papermill": {
     "duration": 0.090035,
     "end_time": "2020-09-28T05:52:42.290532",
     "exception": false,
     "start_time": "2020-09-28T05:52:42.200497",
     "status": "completed"
    },
    "tags": []
   },
   "source": [
    "And we run a loop over them."
   ]
  },
  {
   "cell_type": "code",
   "execution_count": 42,
   "metadata": {
    "execution": {
     "iopub.execute_input": "2020-09-28T05:52:42.488219Z",
     "iopub.status.busy": "2020-09-28T05:52:42.487213Z",
     "iopub.status.idle": "2020-09-28T05:52:47.420632Z",
     "shell.execute_reply": "2020-09-28T05:52:47.421385Z"
    },
    "papermill": {
     "duration": 5.040697,
     "end_time": "2020-09-28T05:52:47.421593",
     "exception": false,
     "start_time": "2020-09-28T05:52:42.380896",
     "status": "completed"
    },
    "tags": []
   },
   "outputs": [
    {
     "name": "stdout",
     "output_type": "stream",
     "text": [
      "the current estimator is : LogisticRegression(max_iter=200)\n",
      "Fitting 5 folds for each of 3 candidates, totalling 15 fits\n",
      "[CV] C=0.1 ...........................................................\n",
      "[CV] ............................... C=0.1, score=0.727, total=   0.1s\n",
      "[CV] C=0.1 ...........................................................\n"
     ]
    },
    {
     "name": "stderr",
     "output_type": "stream",
     "text": [
      "[Parallel(n_jobs=1)]: Using backend SequentialBackend with 1 concurrent workers.\n",
      "/opt/conda/lib/python3.7/site-packages/sklearn/linear_model/_logistic.py:764: ConvergenceWarning: lbfgs failed to converge (status=1):\n",
      "STOP: TOTAL NO. of ITERATIONS REACHED LIMIT.\n",
      "\n",
      "Increase the number of iterations (max_iter) or scale the data as shown in:\n",
      "    https://scikit-learn.org/stable/modules/preprocessing.html\n",
      "Please also refer to the documentation for alternative solver options:\n",
      "    https://scikit-learn.org/stable/modules/linear_model.html#logistic-regression\n",
      "  extra_warning_msg=_LOGISTIC_SOLVER_CONVERGENCE_MSG)\n",
      "[Parallel(n_jobs=1)]: Done   1 out of   1 | elapsed:    0.1s remaining:    0.0s\n",
      "/opt/conda/lib/python3.7/site-packages/sklearn/linear_model/_logistic.py:764: ConvergenceWarning: lbfgs failed to converge (status=1):\n",
      "STOP: TOTAL NO. of ITERATIONS REACHED LIMIT.\n",
      "\n",
      "Increase the number of iterations (max_iter) or scale the data as shown in:\n",
      "    https://scikit-learn.org/stable/modules/preprocessing.html\n",
      "Please also refer to the documentation for alternative solver options:\n",
      "    https://scikit-learn.org/stable/modules/linear_model.html#logistic-regression\n",
      "  extra_warning_msg=_LOGISTIC_SOLVER_CONVERGENCE_MSG)\n",
      "[Parallel(n_jobs=1)]: Done   2 out of   2 | elapsed:    0.2s remaining:    0.0s\n",
      "/opt/conda/lib/python3.7/site-packages/sklearn/linear_model/_logistic.py:764: ConvergenceWarning: lbfgs failed to converge (status=1):\n",
      "STOP: TOTAL NO. of ITERATIONS REACHED LIMIT.\n",
      "\n",
      "Increase the number of iterations (max_iter) or scale the data as shown in:\n",
      "    https://scikit-learn.org/stable/modules/preprocessing.html\n",
      "Please also refer to the documentation for alternative solver options:\n",
      "    https://scikit-learn.org/stable/modules/linear_model.html#logistic-regression\n",
      "  extra_warning_msg=_LOGISTIC_SOLVER_CONVERGENCE_MSG)\n",
      "/opt/conda/lib/python3.7/site-packages/sklearn/linear_model/_logistic.py:764: ConvergenceWarning: lbfgs failed to converge (status=1):\n",
      "STOP: TOTAL NO. of ITERATIONS REACHED LIMIT.\n",
      "\n",
      "Increase the number of iterations (max_iter) or scale the data as shown in:\n",
      "    https://scikit-learn.org/stable/modules/preprocessing.html\n",
      "Please also refer to the documentation for alternative solver options:\n",
      "    https://scikit-learn.org/stable/modules/linear_model.html#logistic-regression\n",
      "  extra_warning_msg=_LOGISTIC_SOLVER_CONVERGENCE_MSG)\n"
     ]
    },
    {
     "name": "stdout",
     "output_type": "stream",
     "text": [
      "[CV] ............................... C=0.1, score=0.766, total=   0.1s\n",
      "[CV] C=0.1 ...........................................................\n",
      "[CV] ............................... C=0.1, score=0.714, total=   0.1s\n",
      "[CV] C=0.1 ...........................................................\n",
      "[CV] ............................... C=0.1, score=0.766, total=   0.1s\n",
      "[CV] C=0.1 ...........................................................\n"
     ]
    },
    {
     "name": "stderr",
     "output_type": "stream",
     "text": [
      "/opt/conda/lib/python3.7/site-packages/sklearn/linear_model/_logistic.py:764: ConvergenceWarning: lbfgs failed to converge (status=1):\n",
      "STOP: TOTAL NO. of ITERATIONS REACHED LIMIT.\n",
      "\n",
      "Increase the number of iterations (max_iter) or scale the data as shown in:\n",
      "    https://scikit-learn.org/stable/modules/preprocessing.html\n",
      "Please also refer to the documentation for alternative solver options:\n",
      "    https://scikit-learn.org/stable/modules/linear_model.html#logistic-regression\n",
      "  extra_warning_msg=_LOGISTIC_SOLVER_CONVERGENCE_MSG)\n",
      "/opt/conda/lib/python3.7/site-packages/sklearn/linear_model/_logistic.py:764: ConvergenceWarning: lbfgs failed to converge (status=1):\n",
      "STOP: TOTAL NO. of ITERATIONS REACHED LIMIT.\n",
      "\n",
      "Increase the number of iterations (max_iter) or scale the data as shown in:\n",
      "    https://scikit-learn.org/stable/modules/preprocessing.html\n",
      "Please also refer to the documentation for alternative solver options:\n",
      "    https://scikit-learn.org/stable/modules/linear_model.html#logistic-regression\n",
      "  extra_warning_msg=_LOGISTIC_SOLVER_CONVERGENCE_MSG)\n",
      "/opt/conda/lib/python3.7/site-packages/sklearn/linear_model/_logistic.py:764: ConvergenceWarning: lbfgs failed to converge (status=1):\n",
      "STOP: TOTAL NO. of ITERATIONS REACHED LIMIT.\n",
      "\n",
      "Increase the number of iterations (max_iter) or scale the data as shown in:\n",
      "    https://scikit-learn.org/stable/modules/preprocessing.html\n",
      "Please also refer to the documentation for alternative solver options:\n",
      "    https://scikit-learn.org/stable/modules/linear_model.html#logistic-regression\n",
      "  extra_warning_msg=_LOGISTIC_SOLVER_CONVERGENCE_MSG)\n"
     ]
    },
    {
     "name": "stdout",
     "output_type": "stream",
     "text": [
      "[CV] ............................... C=0.1, score=0.750, total=   0.1s\n",
      "[CV] C=0.5 ...........................................................\n",
      "[CV] ............................... C=0.5, score=0.701, total=   0.1s\n",
      "[CV] C=0.5 ...........................................................\n",
      "[CV] ............................... C=0.5, score=0.766, total=   0.1s\n",
      "[CV] C=0.5 ...........................................................\n"
     ]
    },
    {
     "name": "stderr",
     "output_type": "stream",
     "text": [
      "/opt/conda/lib/python3.7/site-packages/sklearn/linear_model/_logistic.py:764: ConvergenceWarning: lbfgs failed to converge (status=1):\n",
      "STOP: TOTAL NO. of ITERATIONS REACHED LIMIT.\n",
      "\n",
      "Increase the number of iterations (max_iter) or scale the data as shown in:\n",
      "    https://scikit-learn.org/stable/modules/preprocessing.html\n",
      "Please also refer to the documentation for alternative solver options:\n",
      "    https://scikit-learn.org/stable/modules/linear_model.html#logistic-regression\n",
      "  extra_warning_msg=_LOGISTIC_SOLVER_CONVERGENCE_MSG)\n",
      "/opt/conda/lib/python3.7/site-packages/sklearn/linear_model/_logistic.py:764: ConvergenceWarning: lbfgs failed to converge (status=1):\n",
      "STOP: TOTAL NO. of ITERATIONS REACHED LIMIT.\n",
      "\n",
      "Increase the number of iterations (max_iter) or scale the data as shown in:\n",
      "    https://scikit-learn.org/stable/modules/preprocessing.html\n",
      "Please also refer to the documentation for alternative solver options:\n",
      "    https://scikit-learn.org/stable/modules/linear_model.html#logistic-regression\n",
      "  extra_warning_msg=_LOGISTIC_SOLVER_CONVERGENCE_MSG)\n",
      "/opt/conda/lib/python3.7/site-packages/sklearn/linear_model/_logistic.py:764: ConvergenceWarning: lbfgs failed to converge (status=1):\n",
      "STOP: TOTAL NO. of ITERATIONS REACHED LIMIT.\n",
      "\n",
      "Increase the number of iterations (max_iter) or scale the data as shown in:\n",
      "    https://scikit-learn.org/stable/modules/preprocessing.html\n",
      "Please also refer to the documentation for alternative solver options:\n",
      "    https://scikit-learn.org/stable/modules/linear_model.html#logistic-regression\n",
      "  extra_warning_msg=_LOGISTIC_SOLVER_CONVERGENCE_MSG)\n"
     ]
    },
    {
     "name": "stdout",
     "output_type": "stream",
     "text": [
      "[CV] ............................... C=0.5, score=0.701, total=   0.1s\n",
      "[CV] C=0.5 ...........................................................\n",
      "[CV] ............................... C=0.5, score=0.766, total=   0.1s\n",
      "[CV] C=0.5 ...........................................................\n",
      "[CV] ............................... C=0.5, score=0.842, total=   0.1s\n",
      "[CV] C=1.0 ...........................................................\n"
     ]
    },
    {
     "name": "stderr",
     "output_type": "stream",
     "text": [
      "/opt/conda/lib/python3.7/site-packages/sklearn/linear_model/_logistic.py:764: ConvergenceWarning: lbfgs failed to converge (status=1):\n",
      "STOP: TOTAL NO. of ITERATIONS REACHED LIMIT.\n",
      "\n",
      "Increase the number of iterations (max_iter) or scale the data as shown in:\n",
      "    https://scikit-learn.org/stable/modules/preprocessing.html\n",
      "Please also refer to the documentation for alternative solver options:\n",
      "    https://scikit-learn.org/stable/modules/linear_model.html#logistic-regression\n",
      "  extra_warning_msg=_LOGISTIC_SOLVER_CONVERGENCE_MSG)\n",
      "/opt/conda/lib/python3.7/site-packages/sklearn/linear_model/_logistic.py:764: ConvergenceWarning: lbfgs failed to converge (status=1):\n",
      "STOP: TOTAL NO. of ITERATIONS REACHED LIMIT.\n",
      "\n",
      "Increase the number of iterations (max_iter) or scale the data as shown in:\n",
      "    https://scikit-learn.org/stable/modules/preprocessing.html\n",
      "Please also refer to the documentation for alternative solver options:\n",
      "    https://scikit-learn.org/stable/modules/linear_model.html#logistic-regression\n",
      "  extra_warning_msg=_LOGISTIC_SOLVER_CONVERGENCE_MSG)\n",
      "/opt/conda/lib/python3.7/site-packages/sklearn/linear_model/_logistic.py:764: ConvergenceWarning: lbfgs failed to converge (status=1):\n",
      "STOP: TOTAL NO. of ITERATIONS REACHED LIMIT.\n",
      "\n",
      "Increase the number of iterations (max_iter) or scale the data as shown in:\n",
      "    https://scikit-learn.org/stable/modules/preprocessing.html\n",
      "Please also refer to the documentation for alternative solver options:\n",
      "    https://scikit-learn.org/stable/modules/linear_model.html#logistic-regression\n",
      "  extra_warning_msg=_LOGISTIC_SOLVER_CONVERGENCE_MSG)\n"
     ]
    },
    {
     "name": "stdout",
     "output_type": "stream",
     "text": [
      "[CV] ............................... C=1.0, score=0.740, total=   0.1s\n",
      "[CV] C=1.0 ...........................................................\n",
      "[CV] ............................... C=1.0, score=0.779, total=   0.1s\n",
      "[CV] C=1.0 ...........................................................\n",
      "[CV] ............................... C=1.0, score=0.701, total=   0.1s\n",
      "[CV] C=1.0 ...........................................................\n"
     ]
    },
    {
     "name": "stderr",
     "output_type": "stream",
     "text": [
      "/opt/conda/lib/python3.7/site-packages/sklearn/linear_model/_logistic.py:764: ConvergenceWarning: lbfgs failed to converge (status=1):\n",
      "STOP: TOTAL NO. of ITERATIONS REACHED LIMIT.\n",
      "\n",
      "Increase the number of iterations (max_iter) or scale the data as shown in:\n",
      "    https://scikit-learn.org/stable/modules/preprocessing.html\n",
      "Please also refer to the documentation for alternative solver options:\n",
      "    https://scikit-learn.org/stable/modules/linear_model.html#logistic-regression\n",
      "  extra_warning_msg=_LOGISTIC_SOLVER_CONVERGENCE_MSG)\n",
      "/opt/conda/lib/python3.7/site-packages/sklearn/linear_model/_logistic.py:764: ConvergenceWarning: lbfgs failed to converge (status=1):\n",
      "STOP: TOTAL NO. of ITERATIONS REACHED LIMIT.\n",
      "\n",
      "Increase the number of iterations (max_iter) or scale the data as shown in:\n",
      "    https://scikit-learn.org/stable/modules/preprocessing.html\n",
      "Please also refer to the documentation for alternative solver options:\n",
      "    https://scikit-learn.org/stable/modules/linear_model.html#logistic-regression\n",
      "  extra_warning_msg=_LOGISTIC_SOLVER_CONVERGENCE_MSG)\n",
      "[Parallel(n_jobs=1)]: Done  15 out of  15 | elapsed:    1.6s finished\n"
     ]
    },
    {
     "name": "stdout",
     "output_type": "stream",
     "text": [
      "[CV] ............................... C=1.0, score=0.779, total=   0.1s\n",
      "[CV] C=1.0 ...........................................................\n",
      "[CV] ............................... C=1.0, score=0.776, total=   0.1s\n"
     ]
    },
    {
     "name": "stderr",
     "output_type": "stream",
     "text": [
      "/opt/conda/lib/python3.7/site-packages/sklearn/linear_model/_logistic.py:764: ConvergenceWarning: lbfgs failed to converge (status=1):\n",
      "STOP: TOTAL NO. of ITERATIONS REACHED LIMIT.\n",
      "\n",
      "Increase the number of iterations (max_iter) or scale the data as shown in:\n",
      "    https://scikit-learn.org/stable/modules/preprocessing.html\n",
      "Please also refer to the documentation for alternative solver options:\n",
      "    https://scikit-learn.org/stable/modules/linear_model.html#logistic-regression\n",
      "  extra_warning_msg=_LOGISTIC_SOLVER_CONVERGENCE_MSG)\n",
      "[Parallel(n_jobs=1)]: Using backend SequentialBackend with 1 concurrent workers.\n",
      "[Parallel(n_jobs=1)]: Done   1 out of   1 | elapsed:    0.0s remaining:    0.0s\n",
      "[Parallel(n_jobs=1)]: Done   2 out of   2 | elapsed:    0.0s remaining:    0.0s\n"
     ]
    },
    {
     "name": "stdout",
     "output_type": "stream",
     "text": [
      "\n",
      "the best score on the training set is : 0.755434039644566 for the parameter {'C': 0.5}\n",
      "\n",
      "the current estimator is : SVC()\n",
      "Fitting 5 folds for each of 4 candidates, totalling 20 fits\n",
      "[CV] kernel=rbf ......................................................\n",
      "[CV] .......................... kernel=rbf, score=0.623, total=   0.0s\n",
      "[CV] kernel=rbf ......................................................\n",
      "[CV] .......................... kernel=rbf, score=0.597, total=   0.0s\n",
      "[CV] kernel=rbf ......................................................\n",
      "[CV] .......................... kernel=rbf, score=0.662, total=   0.0s\n",
      "[CV] kernel=rbf ......................................................\n",
      "[CV] .......................... kernel=rbf, score=0.610, total=   0.0s\n",
      "[CV] kernel=rbf ......................................................\n",
      "[CV] .......................... kernel=rbf, score=0.658, total=   0.0s\n",
      "[CV] kernel=linear ...................................................\n",
      "[CV] ....................... kernel=linear, score=0.792, total=   0.5s\n",
      "[CV] kernel=linear ...................................................\n",
      "[CV] ....................... kernel=linear, score=0.766, total=   0.6s\n",
      "[CV] kernel=linear ...................................................\n",
      "[CV] ....................... kernel=linear, score=0.779, total=   0.4s\n",
      "[CV] kernel=linear ...................................................\n",
      "[CV] ....................... kernel=linear, score=0.805, total=   0.4s\n",
      "[CV] kernel=linear ...................................................\n",
      "[CV] ....................... kernel=linear, score=0.816, total=   0.5s\n",
      "[CV] kernel=sigmoid ..................................................\n",
      "[CV] ...................... kernel=sigmoid, score=0.390, total=   0.0s\n",
      "[CV] kernel=sigmoid ..................................................\n",
      "[CV] ...................... kernel=sigmoid, score=0.377, total=   0.0s\n",
      "[CV] kernel=sigmoid ..................................................\n",
      "[CV] ...................... kernel=sigmoid, score=0.377, total=   0.0s\n",
      "[CV] kernel=sigmoid ..................................................\n",
      "[CV] ...................... kernel=sigmoid, score=0.364, total=   0.0s\n",
      "[CV] kernel=sigmoid ..................................................\n",
      "[CV] ...................... kernel=sigmoid, score=0.395, total=   0.0s\n",
      "[CV] kernel=poly .....................................................\n",
      "[CV] ......................... kernel=poly, score=0.675, total=   0.0s\n",
      "[CV] kernel=poly .....................................................\n",
      "[CV] ......................... kernel=poly, score=0.597, total=   0.0s\n",
      "[CV] kernel=poly .....................................................\n",
      "[CV] ......................... kernel=poly, score=0.623, total=   0.0s\n",
      "[CV] kernel=poly .....................................................\n",
      "[CV] ......................... kernel=poly, score=0.623, total=   0.0s\n",
      "[CV] kernel=poly .....................................................\n",
      "[CV] ......................... kernel=poly, score=0.658, total=   0.0s\n"
     ]
    },
    {
     "name": "stderr",
     "output_type": "stream",
     "text": [
      "[Parallel(n_jobs=1)]: Done  20 out of  20 | elapsed:    2.7s finished\n"
     ]
    },
    {
     "name": "stdout",
     "output_type": "stream",
     "text": [
      "\n",
      "the best score on the training set is : 0.7917293233082707 for the parameter {'kernel': 'linear'}\n",
      "\n"
     ]
    }
   ],
   "source": [
    "for model, param in zip(model_list, param_dict):\n",
    "    grid_cv = GridSearchCV(estimator=model, param_grid=param, verbose=3)\n",
    "    print(\"the current estimator is : {}\".format(model))\n",
    "    grid_cv.fit(X_train, y_train)\n",
    "    print()\n",
    "    print(\"the best score on the training set is : {} for the parameter {}\".format(grid_cv.best_score_, \n",
    "                                                                                   grid_cv.best_params_))\n",
    "    print()"
   ]
  },
  {
   "cell_type": "code",
   "execution_count": 43,
   "metadata": {
    "execution": {
     "iopub.execute_input": "2020-09-28T05:52:47.628260Z",
     "iopub.status.busy": "2020-09-28T05:52:47.627272Z",
     "iopub.status.idle": "2020-09-28T05:52:47.631206Z",
     "shell.execute_reply": "2020-09-28T05:52:47.631996Z"
    },
    "papermill": {
     "duration": 0.112108,
     "end_time": "2020-09-28T05:52:47.632199",
     "exception": false,
     "start_time": "2020-09-28T05:52:47.520091",
     "status": "completed"
    },
    "tags": []
   },
   "outputs": [
    {
     "name": "stdout",
     "output_type": "stream",
     "text": [
      "The overall best estimator is SVC(kernel='linear') with parameter {'kernel': 'linear'} and it produces a cross-validated score 0.7917293233082707 on the training set\n"
     ]
    }
   ],
   "source": [
    "print(\"The overall best estimator is {} with parameter {} and it produces a cross-validated score {} on the training set\".\n",
    "      format(grid_cv.best_estimator_, grid_cv.best_params_, grid_cv.best_score_))"
   ]
  },
  {
   "cell_type": "markdown",
   "metadata": {
    "papermill": {
     "duration": 0.098458,
     "end_time": "2020-09-28T05:52:47.829246",
     "exception": false,
     "start_time": "2020-09-28T05:52:47.730788",
     "status": "completed"
    },
    "tags": []
   },
   "source": [
    "Let's use this model to make predictions on the test set."
   ]
  },
  {
   "cell_type": "code",
   "execution_count": 44,
   "metadata": {
    "execution": {
     "iopub.execute_input": "2020-09-28T05:52:48.039227Z",
     "iopub.status.busy": "2020-09-28T05:52:48.038132Z",
     "iopub.status.idle": "2020-09-28T05:52:48.044362Z",
     "shell.execute_reply": "2020-09-28T05:52:48.043497Z"
    },
    "papermill": {
     "duration": 0.117695,
     "end_time": "2020-09-28T05:52:48.044527",
     "exception": false,
     "start_time": "2020-09-28T05:52:47.926832",
     "status": "completed"
    },
    "tags": []
   },
   "outputs": [],
   "source": [
    "pred = grid_cv.predict(X_test)"
   ]
  },
  {
   "cell_type": "markdown",
   "metadata": {
    "papermill": {
     "duration": 0.106663,
     "end_time": "2020-09-28T05:52:48.253571",
     "exception": false,
     "start_time": "2020-09-28T05:52:48.146908",
     "status": "completed"
    },
    "tags": []
   },
   "source": [
    "Below we print the classification report of our test set."
   ]
  },
  {
   "cell_type": "code",
   "execution_count": 45,
   "metadata": {
    "execution": {
     "iopub.execute_input": "2020-09-28T05:52:48.469130Z",
     "iopub.status.busy": "2020-09-28T05:52:48.466403Z",
     "iopub.status.idle": "2020-09-28T05:52:48.476144Z",
     "shell.execute_reply": "2020-09-28T05:52:48.475078Z"
    },
    "papermill": {
     "duration": 0.121095,
     "end_time": "2020-09-28T05:52:48.476343",
     "exception": false,
     "start_time": "2020-09-28T05:52:48.355248",
     "status": "completed"
    },
    "tags": []
   },
   "outputs": [
    {
     "name": "stdout",
     "output_type": "stream",
     "text": [
      "              precision    recall  f1-score   support\n",
      "\n",
      "           H       0.74      0.82      0.78        28\n",
      "           L       0.76      0.76      0.76        25\n",
      "           M       0.72      0.67      0.70        43\n",
      "\n",
      "    accuracy                           0.74        96\n",
      "   macro avg       0.74      0.75      0.75        96\n",
      "weighted avg       0.74      0.74      0.74        96\n",
      "\n"
     ]
    }
   ],
   "source": [
    "print(classification_report(y_true=y_test, y_pred=pred))"
   ]
  },
  {
   "cell_type": "markdown",
   "metadata": {
    "papermill": {
     "duration": 0.098439,
     "end_time": "2020-09-28T05:52:48.673686",
     "exception": false,
     "start_time": "2020-09-28T05:52:48.575247",
     "status": "completed"
    },
    "tags": []
   },
   "source": [
    "Therefore, the SVC model with linear kernel produces an accuracy score of 0.80 on the test data which is the highest accuracy score among all the algorithms that we have tried here. "
   ]
  }
 ],
 "metadata": {
  "kernelspec": {
   "display_name": "Python 3",
   "language": "python",
   "name": "python3"
  },
  "language_info": {
   "codemirror_mode": {
    "name": "ipython",
    "version": 3
   },
   "file_extension": ".py",
   "mimetype": "text/x-python",
   "name": "python",
   "nbconvert_exporter": "python",
   "pygments_lexer": "ipython3",
   "version": "3.7.6"
  },
  "papermill": {
   "duration": 49.541332,
   "end_time": "2020-09-28T05:52:48.882860",
   "environment_variables": {},
   "exception": null,
   "input_path": "__notebook__.ipynb",
   "output_path": "__notebook__.ipynb",
   "parameters": {},
   "start_time": "2020-09-28T05:51:59.341528",
   "version": "2.1.0"
  }
 },
 "nbformat": 4,
 "nbformat_minor": 4
}
