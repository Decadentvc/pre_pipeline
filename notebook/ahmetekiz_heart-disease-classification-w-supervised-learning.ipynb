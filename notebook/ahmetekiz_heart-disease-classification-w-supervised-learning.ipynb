{
 "cells": [
  {
   "cell_type": "markdown",
   "execution_count": null,
   "metadata": {
    "papermill": {
     "duration": 0.013715,
     "end_time": "2020-08-20T17:26:58.825877",
     "exception": false,
     "start_time": "2020-08-20T17:26:58.812162",
     "status": "completed"
    },
    "tags": []
   },
   "source": [
    "# Introduction\n",
    "\n",
    "Heart disease describes a range of conditions that affect your heart. Diseases under the heart disease umbrella include blood vessel diseases, such as coronary artery disease; heart rhythm problems (arrhythmias); and heart defects you're born with (congenital heart defects), among others.\n",
    "\n",
    "We have patients data that shows us a few types of symptoms about heart diseases. We want to classify who has heart disease or not. \n",
    "So, we can use some supervised learning techniques.\n",
    "\n",
    "<font color = 'blue'>\n",
    "Content:\n",
    "    \n",
    "1. [Load and Check Data](#1)\n",
    "1. [Variable Description](#2)\n",
    "1. [Take a Look Data](#3)\n",
    "1. [Supervised Learning](#4)\n",
    "    * [Logistic Regression Classification](#5)\n",
    "    * [K-Nearest Neighbour (KNN) Classification](#6)\n",
    "    * [Support Vector Machine (SVM) Classification](#7)\n",
    "    * [Naive Bayes Classification](#8)\n",
    "    * [Decision Tree Classification](#9)\n",
    "    * [Random Forest Classification](#10)\n",
    "1. [Comparison of Accuracy](#11)\n",
    "1. [Confusion Matrix](#12)\n",
    "1. [Conclusion](#13)\n",
    "    "
   ]
  },
  {
   "cell_type": "code",
   "execution_count": 1,
   "metadata": {
    "_cell_guid": "b1076dfc-b9ad-4769-8c92-a6c4dae69d19",
    "_uuid": "8f2839f25d086af736a60e9eeb907d3b93b6e0e5",
    "execution": {
     "iopub.execute_input": "2020-08-20T17:26:58.859618Z",
     "iopub.status.busy": "2020-08-20T17:26:58.858640Z",
     "iopub.status.idle": "2020-08-20T17:26:58.870010Z",
     "shell.execute_reply": "2020-08-20T17:26:58.869131Z"
    },
    "papermill": {
     "duration": 0.032032,
     "end_time": "2020-08-20T17:26:58.870209",
     "exception": false,
     "start_time": "2020-08-20T17:26:58.838177",
     "status": "completed"
    },
    "tags": []
   },
   "outputs": [
    {
     "name": "stdout",
     "output_type": "stream",
     "text": [
      "/kaggle/input/heart-disease-uci/heart.csv\n"
     ]
    }
   ],
   "source": [
    "# This Python 3 environment comes with many helpful analytics libraries installed\n",
    "# It is defined by the kaggle/python Docker image: https://github.com/kaggle/docker-python\n",
    "# For example, here's several helpful packages to load\n",
    "\n",
    "import numpy as np # linear algebra\n",
    "import pandas as pd # data processing, CSV file I/O (e.g. pd.read_csv)\n",
    "\n",
    "# Input data files are available in the read-only \"../input/\" directory\n",
    "# For example, running this (by clicking run or pressing Shift+Enter) will list all files under the input directory\n",
    "\n",
    "import os\n",
    "for dirname, _, filenames in os.walk('/kaggle/input'):\n",
    "    for filename in filenames:\n",
    "        print(os.path.join(dirname, filename))\n",
    "\n",
    "# You can write up to 5GB to the current directory (/kaggle/working/) that gets preserved as output when you create a version using \"Save & Run All\" \n",
    "# You can also write temporary files to /kaggle/temp/, but they won't be saved outside of the current session"
   ]
  },
  {
   "cell_type": "markdown",
   "execution_count": null,
   "metadata": {
    "papermill": {
     "duration": 0.011118,
     "end_time": "2020-08-20T17:26:58.895515",
     "exception": false,
     "start_time": "2020-08-20T17:26:58.884397",
     "status": "completed"
    },
    "tags": []
   },
   "source": [
    "<a id = '1'></a><br>\n",
    "# Load and Check Data"
   ]
  },
  {
   "cell_type": "code",
   "execution_count": 2,
   "metadata": {
    "_cell_guid": "79c7e3d0-c299-4dcb-8224-4455121ee9b0",
    "_uuid": "d629ff2d2480ee46fbb7e2d37f6b5fab8052498a",
    "execution": {
     "iopub.execute_input": "2020-08-20T17:26:58.929704Z",
     "iopub.status.busy": "2020-08-20T17:26:58.928788Z",
     "iopub.status.idle": "2020-08-20T17:26:58.943292Z",
     "shell.execute_reply": "2020-08-20T17:26:58.943950Z"
    },
    "papermill": {
     "duration": 0.037144,
     "end_time": "2020-08-20T17:26:58.944216",
     "exception": false,
     "start_time": "2020-08-20T17:26:58.907072",
     "status": "completed"
    },
    "tags": []
   },
   "outputs": [],
   "source": [
    "df = pd.read_csv(\"/kaggle/input/heart-disease-uci/heart.csv\")  # patients data frame"
   ]
  },
  {
   "cell_type": "code",
   "execution_count": 3,
   "metadata": {
    "execution": {
     "iopub.execute_input": "2020-08-20T17:26:58.998723Z",
     "iopub.status.busy": "2020-08-20T17:26:58.997484Z",
     "iopub.status.idle": "2020-08-20T17:26:59.002498Z",
     "shell.execute_reply": "2020-08-20T17:26:59.001669Z"
    },
    "papermill": {
     "duration": 0.04661,
     "end_time": "2020-08-20T17:26:59.002654",
     "exception": false,
     "start_time": "2020-08-20T17:26:58.956044",
     "status": "completed"
    },
    "tags": []
   },
   "outputs": [
    {
     "name": "stdout",
     "output_type": "stream",
     "text": [
      "<class 'pandas.core.frame.DataFrame'>\n",
      "RangeIndex: 303 entries, 0 to 302\n",
      "Data columns (total 14 columns):\n",
      " #   Column    Non-Null Count  Dtype  \n",
      "---  ------    --------------  -----  \n",
      " 0   age       303 non-null    int64  \n",
      " 1   sex       303 non-null    int64  \n",
      " 2   cp        303 non-null    int64  \n",
      " 3   trestbps  303 non-null    int64  \n",
      " 4   chol      303 non-null    int64  \n",
      " 5   fbs       303 non-null    int64  \n",
      " 6   restecg   303 non-null    int64  \n",
      " 7   thalach   303 non-null    int64  \n",
      " 8   exang     303 non-null    int64  \n",
      " 9   oldpeak   303 non-null    float64\n",
      " 10  slope     303 non-null    int64  \n",
      " 11  ca        303 non-null    int64  \n",
      " 12  thal      303 non-null    int64  \n",
      " 13  target    303 non-null    int64  \n",
      "dtypes: float64(1), int64(13)\n",
      "memory usage: 33.3 KB\n"
     ]
    }
   ],
   "source": [
    "df.info()"
   ]
  },
  {
   "cell_type": "code",
   "execution_count": 4,
   "metadata": {
    "execution": {
     "iopub.execute_input": "2020-08-20T17:26:59.042159Z",
     "iopub.status.busy": "2020-08-20T17:26:59.041292Z",
     "iopub.status.idle": "2020-08-20T17:26:59.056314Z",
     "shell.execute_reply": "2020-08-20T17:26:59.055607Z"
    },
    "papermill": {
     "duration": 0.041804,
     "end_time": "2020-08-20T17:26:59.056458",
     "exception": false,
     "start_time": "2020-08-20T17:26:59.014654",
     "status": "completed"
    },
    "tags": []
   },
   "outputs": [
    {
     "data": {
      "text/html": [
       "<div>\n",
       "<style scoped>\n",
       "    .dataframe tbody tr th:only-of-type {\n",
       "        vertical-align: middle;\n",
       "    }\n",
       "\n",
       "    .dataframe tbody tr th {\n",
       "        vertical-align: top;\n",
       "    }\n",
       "\n",
       "    .dataframe thead th {\n",
       "        text-align: right;\n",
       "    }\n",
       "</style>\n",
       "<table border=\"1\" class=\"dataframe\">\n",
       "  <thead>\n",
       "    <tr style=\"text-align: right;\">\n",
       "      <th></th>\n",
       "      <th>age</th>\n",
       "      <th>sex</th>\n",
       "      <th>cp</th>\n",
       "      <th>trestbps</th>\n",
       "      <th>chol</th>\n",
       "      <th>fbs</th>\n",
       "      <th>restecg</th>\n",
       "      <th>thalach</th>\n",
       "      <th>exang</th>\n",
       "      <th>oldpeak</th>\n",
       "      <th>slope</th>\n",
       "      <th>ca</th>\n",
       "      <th>thal</th>\n",
       "      <th>target</th>\n",
       "    </tr>\n",
       "  </thead>\n",
       "  <tbody>\n",
       "    <tr>\n",
       "      <th>0</th>\n",
       "      <td>63</td>\n",
       "      <td>1</td>\n",
       "      <td>3</td>\n",
       "      <td>145</td>\n",
       "      <td>233</td>\n",
       "      <td>1</td>\n",
       "      <td>0</td>\n",
       "      <td>150</td>\n",
       "      <td>0</td>\n",
       "      <td>2.3</td>\n",
       "      <td>0</td>\n",
       "      <td>0</td>\n",
       "      <td>1</td>\n",
       "      <td>1</td>\n",
       "    </tr>\n",
       "    <tr>\n",
       "      <th>1</th>\n",
       "      <td>37</td>\n",
       "      <td>1</td>\n",
       "      <td>2</td>\n",
       "      <td>130</td>\n",
       "      <td>250</td>\n",
       "      <td>0</td>\n",
       "      <td>1</td>\n",
       "      <td>187</td>\n",
       "      <td>0</td>\n",
       "      <td>3.5</td>\n",
       "      <td>0</td>\n",
       "      <td>0</td>\n",
       "      <td>2</td>\n",
       "      <td>1</td>\n",
       "    </tr>\n",
       "    <tr>\n",
       "      <th>2</th>\n",
       "      <td>41</td>\n",
       "      <td>0</td>\n",
       "      <td>1</td>\n",
       "      <td>130</td>\n",
       "      <td>204</td>\n",
       "      <td>0</td>\n",
       "      <td>0</td>\n",
       "      <td>172</td>\n",
       "      <td>0</td>\n",
       "      <td>1.4</td>\n",
       "      <td>2</td>\n",
       "      <td>0</td>\n",
       "      <td>2</td>\n",
       "      <td>1</td>\n",
       "    </tr>\n",
       "    <tr>\n",
       "      <th>3</th>\n",
       "      <td>56</td>\n",
       "      <td>1</td>\n",
       "      <td>1</td>\n",
       "      <td>120</td>\n",
       "      <td>236</td>\n",
       "      <td>0</td>\n",
       "      <td>1</td>\n",
       "      <td>178</td>\n",
       "      <td>0</td>\n",
       "      <td>0.8</td>\n",
       "      <td>2</td>\n",
       "      <td>0</td>\n",
       "      <td>2</td>\n",
       "      <td>1</td>\n",
       "    </tr>\n",
       "    <tr>\n",
       "      <th>4</th>\n",
       "      <td>57</td>\n",
       "      <td>0</td>\n",
       "      <td>0</td>\n",
       "      <td>120</td>\n",
       "      <td>354</td>\n",
       "      <td>0</td>\n",
       "      <td>1</td>\n",
       "      <td>163</td>\n",
       "      <td>1</td>\n",
       "      <td>0.6</td>\n",
       "      <td>2</td>\n",
       "      <td>0</td>\n",
       "      <td>2</td>\n",
       "      <td>1</td>\n",
       "    </tr>\n",
       "  </tbody>\n",
       "</table>\n",
       "</div>"
      ],
      "text/plain": [
       "   age  sex  cp  trestbps  chol  fbs  restecg  thalach  exang  oldpeak  slope  \\\n",
       "0   63    1   3       145   233    1        0      150      0      2.3      0   \n",
       "1   37    1   2       130   250    0        1      187      0      3.5      0   \n",
       "2   41    0   1       130   204    0        0      172      0      1.4      2   \n",
       "3   56    1   1       120   236    0        1      178      0      0.8      2   \n",
       "4   57    0   0       120   354    0        1      163      1      0.6      2   \n",
       "\n",
       "   ca  thal  target  \n",
       "0   0     1       1  \n",
       "1   0     2       1  \n",
       "2   0     2       1  \n",
       "3   0     2       1  \n",
       "4   0     2       1  "
      ]
     },
     "execution_count": 4,
     "metadata": {},
     "output_type": "execute_result"
    }
   ],
   "source": [
    "df.head()"
   ]
  },
  {
   "cell_type": "markdown",
   "execution_count": null,
   "metadata": {
    "papermill": {
     "duration": 0.011546,
     "end_time": "2020-08-20T17:26:59.080400",
     "exception": false,
     "start_time": "2020-08-20T17:26:59.068854",
     "status": "completed"
    },
    "tags": []
   },
   "source": [
    "<a id = '2'></a><br>\n",
    "# Variable Description"
   ]
  },
  {
   "cell_type": "markdown",
   "execution_count": null,
   "metadata": {
    "papermill": {
     "duration": 0.011364,
     "end_time": "2020-08-20T17:26:59.103779",
     "exception": false,
     "start_time": "2020-08-20T17:26:59.092415",
     "status": "completed"
    },
    "tags": []
   },
   "source": [
    "- **age:** age in years \n",
    "- **sex:** (1 = male; 0 = female) \n",
    "- **cp:** chest pain type (4 values)\n",
    "- **trestbps:** resting blood pressure (in mm Hg on admission to the hospital) \n",
    "- **chol:** serum cholestoral in mg/dl\n",
    "- **fbs:** fasting blood sugar > 120 mg/dl (1 = true; 0 = false) \n",
    "- **restecg:** resting electrocardiographic results (values 0,1,2)\n",
    "- **thalach:** maximum heart rate achieved\n",
    "- **exang:** exercise induced angina (1 = yes; 0 = no) \n",
    "- **oldpeak:** ST depression induced by exercise relative to rest \n",
    "- **slope:** the slope of the peak exercise ST segment\n",
    "- **ca:** number of major vessels (0-3) colored by flourosopy\n",
    "- **thal:** 3 = normal; 6 = fixed defect; 7 = reversable defect\n",
    "- **target:** 0 = has heart disease; 1 = no heart disease."
   ]
  },
  {
   "cell_type": "markdown",
   "execution_count": null,
   "metadata": {
    "papermill": {
     "duration": 0.011828,
     "end_time": "2020-08-20T17:26:59.128130",
     "exception": false,
     "start_time": "2020-08-20T17:26:59.116302",
     "status": "completed"
    },
    "tags": []
   },
   "source": [
    "<a id = '3'></a><br>\n",
    "# Take a Look Data"
   ]
  },
  {
   "cell_type": "code",
   "execution_count": 5,
   "metadata": {
    "execution": {
     "iopub.execute_input": "2020-08-20T17:26:59.159993Z",
     "iopub.status.busy": "2020-08-20T17:26:59.159111Z",
     "iopub.status.idle": "2020-08-20T17:27:00.404895Z",
     "shell.execute_reply": "2020-08-20T17:27:00.403872Z"
    },
    "papermill": {
     "duration": 1.264885,
     "end_time": "2020-08-20T17:27:00.405068",
     "exception": false,
     "start_time": "2020-08-20T17:26:59.140183",
     "status": "completed"
    },
    "tags": []
   },
   "outputs": [],
   "source": [
    "# libraries for Visualization\n",
    "\n",
    "import seaborn as sns\n",
    "import matplotlib.pyplot as plt"
   ]
  },
  {
   "cell_type": "code",
   "execution_count": 6,
   "metadata": {
    "execution": {
     "iopub.execute_input": "2020-08-20T17:27:00.445628Z",
     "iopub.status.busy": "2020-08-20T17:27:00.444658Z",
     "iopub.status.idle": "2020-08-20T17:27:00.589106Z",
     "shell.execute_reply": "2020-08-20T17:27:00.589747Z"
    },
    "papermill": {
     "duration": 0.170632,
     "end_time": "2020-08-20T17:27:00.589954",
     "exception": false,
     "start_time": "2020-08-20T17:27:00.419322",
     "status": "completed"
    },
    "tags": []
   },
   "outputs": [
    {
     "name": "stderr",
     "output_type": "stream",
     "text": [
      "/opt/conda/lib/python3.7/site-packages/ipykernel_launcher.py:8: MatplotlibDeprecationWarning: Non-1D inputs to pie() are currently squeeze()d, but this behavior is deprecated since 3.1 and will be removed in 3.3; pass a 1D array instead.\n",
      "  \n"
     ]
    },
    {
     "data": {
      "image/png": "[encoded data removed]",
      "text/plain": [
       "<Figure size 576x576 with 1 Axes>"
      ]
     },
     "metadata": {},
     "output_type": "display_data"
    }
   ],
   "source": [
    "labels = ['M' if i == 1 else 'F' for i in df.sex.value_counts().index]\n",
    "colors = ['gray','red']\n",
    "explode = [0,0.1]\n",
    "sizes = [df.sex.value_counts().values]\n",
    "\n",
    "# visual\n",
    "plt.figure(figsize = (8,8))\n",
    "plt.pie(sizes, explode=explode, labels=labels, colors=colors, autopct='%1.1f%%')   # matplot methodu , 'autopct' ile 1 tane ondalik kismini gostermek icin\n",
    "plt.title('Sex Ratio of Patients',color = 'blue',fontsize = 15)\n",
    "plt.show()"
   ]
  },
  {
   "cell_type": "code",
   "execution_count": 7,
   "metadata": {
    "execution": {
     "iopub.execute_input": "2020-08-20T17:27:00.623872Z",
     "iopub.status.busy": "2020-08-20T17:27:00.622824Z",
     "iopub.status.idle": "2020-08-20T17:27:01.136389Z",
     "shell.execute_reply": "2020-08-20T17:27:01.135449Z"
    },
    "papermill": {
     "duration": 0.533774,
     "end_time": "2020-08-20T17:27:01.136571",
     "exception": false,
     "start_time": "2020-08-20T17:27:00.602797",
     "status": "completed"
    },
    "tags": []
   },
   "outputs": [
    {
     "data": {
      "image/png": "[encoded data removed]",
      "text/plain": [
       "<Figure size 1080x720 with 1 Axes>"
      ]
     },
     "metadata": {
      "needs_background": "light"
     },
     "output_type": "display_data"
    }
   ],
   "source": [
    "plt.figure(figsize=(15,10))\n",
    "sns.countplot(df.age)\n",
    "plt.title(\"Age Distribution\",color = 'black',fontsize=20)\n",
    "plt.show()"
   ]
  },
  {
   "cell_type": "code",
   "execution_count": 8,
   "metadata": {
    "execution": {
     "iopub.execute_input": "2020-08-20T17:27:01.175617Z",
     "iopub.status.busy": "2020-08-20T17:27:01.174391Z",
     "iopub.status.idle": "2020-08-20T17:27:01.335911Z",
     "shell.execute_reply": "2020-08-20T17:27:01.335187Z"
    },
    "papermill": {
     "duration": 0.186189,
     "end_time": "2020-08-20T17:27:01.336057",
     "exception": false,
     "start_time": "2020-08-20T17:27:01.149868",
     "status": "completed"
    },
    "tags": []
   },
   "outputs": [
    {
     "data": {
      "image/png": "[encoded data removed]",
      "text/plain": [
       "<Figure size 720x504 with 1 Axes>"
      ]
     },
     "metadata": {
      "needs_background": "light"
     },
     "output_type": "display_data"
    }
   ],
   "source": [
    "\n",
    "heart_disease = ['Has Heart Disease' if i == 0 else 'No Heart Disease' for i in df.target]\n",
    "\n",
    "df_1 =  pd.DataFrame({'target':heart_disease})\n",
    "\n",
    "plt.figure(figsize=(10,7))\n",
    "\n",
    "sns.countplot(x = df_1.target)\n",
    "plt.ylabel('Count')\n",
    "plt.xlabel('Has Heart Disease or No Heart Disease')\n",
    "plt.title('Heart Disease Count',color = 'blue',fontsize=15)\n",
    "plt.show()"
   ]
  },
  {
   "cell_type": "markdown",
   "execution_count": null,
   "metadata": {
    "papermill": {
     "duration": 0.012664,
     "end_time": "2020-08-20T17:27:01.362161",
     "exception": false,
     "start_time": "2020-08-20T17:27:01.349497",
     "status": "completed"
    },
    "tags": []
   },
   "source": [
    "<a id = '4'></a><br>\n",
    "# Supervised Learning\n",
    "\n",
    "In this section, we'll use some of the widely used supervised learning classification algorithms. But first we'll prepare data."
   ]
  },
  {
   "cell_type": "code",
   "execution_count": 9,
   "metadata": {
    "execution": {
     "iopub.execute_input": "2020-08-20T17:27:01.401631Z",
     "iopub.status.busy": "2020-08-20T17:27:01.400693Z",
     "iopub.status.idle": "2020-08-20T17:27:01.442611Z",
     "shell.execute_reply": "2020-08-20T17:27:01.441672Z"
    },
    "papermill": {
     "duration": 0.067098,
     "end_time": "2020-08-20T17:27:01.442769",
     "exception": false,
     "start_time": "2020-08-20T17:27:01.375671",
     "status": "completed"
    },
    "tags": []
   },
   "outputs": [],
   "source": [
    "y = df.target.values\n",
    "x_data = df.drop([\"target\"],axis=1)\n",
    "\n",
    "# normalization \n",
    "x = ( x_data - np.min(x_data) ) / ( np.max(x_data) - np.min(x_data) ).values"
   ]
  },
  {
   "cell_type": "markdown",
   "execution_count": null,
   "metadata": {
    "papermill": {
     "duration": 0.012956,
     "end_time": "2020-08-20T17:27:01.469193",
     "exception": false,
     "start_time": "2020-08-20T17:27:01.456237",
     "status": "completed"
    },
    "tags": []
   },
   "source": [
    "The data was normalized. We will split the data as test data and train data."
   ]
  },
  {
   "cell_type": "code",
   "execution_count": 10,
   "metadata": {
    "execution": {
     "iopub.execute_input": "2020-08-20T17:27:01.503783Z",
     "iopub.status.busy": "2020-08-20T17:27:01.502877Z",
     "iopub.status.idle": "2020-08-20T17:27:01.796627Z",
     "shell.execute_reply": "2020-08-20T17:27:01.795655Z"
    },
    "papermill": {
     "duration": 0.313958,
     "end_time": "2020-08-20T17:27:01.796799",
     "exception": false,
     "start_time": "2020-08-20T17:27:01.482841",
     "status": "completed"
    },
    "tags": []
   },
   "outputs": [],
   "source": [
    "# %% split data\n",
    "from sklearn.model_selection import train_test_split\n",
    "\n",
    "x_train, x_test, y_train, y_test = train_test_split(x,y,test_size = 0.2, random_state = 42) # test data = 0.2 data"
   ]
  },
  {
   "cell_type": "code",
   "execution_count": 11,
   "metadata": {
    "execution": {
     "iopub.execute_input": "2020-08-20T17:27:01.836270Z",
     "iopub.status.busy": "2020-08-20T17:27:01.835026Z",
     "iopub.status.idle": "2020-08-20T17:27:01.838665Z",
     "shell.execute_reply": "2020-08-20T17:27:01.839579Z"
    },
    "papermill": {
     "duration": 0.029227,
     "end_time": "2020-08-20T17:27:01.839849",
     "exception": false,
     "start_time": "2020-08-20T17:27:01.810622",
     "status": "completed"
    },
    "tags": []
   },
   "outputs": [],
   "source": [
    "accuracies = {} # Create a dictionary to save algorithms accuracies.\n",
    "\n",
    "def save_score(name,score):\n",
    "    \"\"\"\n",
    "    Parameters\n",
    "    ----------\n",
    "    name : Algorithm name\n",
    "    score : Algorithm test score    \n",
    "\n",
    "    Returns\n",
    "    -------\n",
    "    None.\n",
    "    \"\"\"\n",
    "    accuracies[name] = score*100\n",
    "    \n",
    "    return None"
   ]
  },
  {
   "cell_type": "markdown",
   "execution_count": null,
   "metadata": {
    "papermill": {
     "duration": 0.015456,
     "end_time": "2020-08-20T17:27:01.872258",
     "exception": false,
     "start_time": "2020-08-20T17:27:01.856802",
     "status": "completed"
    },
    "tags": []
   },
   "source": [
    "<a id = '5'></a><br>\n",
    "## Logistic Regression Classification"
   ]
  },
  {
   "cell_type": "code",
   "execution_count": 12,
   "metadata": {
    "execution": {
     "iopub.execute_input": "2020-08-20T17:27:01.919146Z",
     "iopub.status.busy": "2020-08-20T17:27:01.918221Z",
     "iopub.status.idle": "2020-08-20T17:27:02.068655Z",
     "shell.execute_reply": "2020-08-20T17:27:02.067789Z"
    },
    "papermill": {
     "duration": 0.179206,
     "end_time": "2020-08-20T17:27:02.068851",
     "exception": false,
     "start_time": "2020-08-20T17:27:01.889645",
     "status": "completed"
    },
    "tags": []
   },
   "outputs": [
    {
     "name": "stdout",
     "output_type": "stream",
     "text": [
      "Test Accuracy 0.8524590163934426\n"
     ]
    }
   ],
   "source": [
    "from sklearn.linear_model import LogisticRegression\n",
    "\n",
    "lr = LogisticRegression()\n",
    "\n",
    "lr.fit(x_train,y_train)\n",
    "\n",
    "print(\"Test Accuracy {}\".format(lr.score(x_test,y_test)))\n",
    "\n",
    "save_score( \"Logistic Regression Classification\",lr.score(x_test,y_test) )"
   ]
  },
  {
   "cell_type": "markdown",
   "execution_count": null,
   "metadata": {
    "papermill": {
     "duration": 0.016173,
     "end_time": "2020-08-20T17:27:02.101728",
     "exception": false,
     "start_time": "2020-08-20T17:27:02.085555",
     "status": "completed"
    },
    "tags": []
   },
   "source": [
    "<font color = 'red'>\n",
    "Logistic Regression Classification algorithm accuracy is %85.24."
   ]
  },
  {
   "cell_type": "markdown",
   "execution_count": null,
   "metadata": {
    "papermill": {
     "duration": 0.014178,
     "end_time": "2020-08-20T17:27:02.132196",
     "exception": false,
     "start_time": "2020-08-20T17:27:02.118018",
     "status": "completed"
    },
    "tags": []
   },
   "source": [
    "<a id = '6'></a><br>\n",
    "## K-Nearest Neighbour (KNN) Classification"
   ]
  },
  {
   "cell_type": "code",
   "execution_count": 13,
   "metadata": {
    "execution": {
     "iopub.execute_input": "2020-08-20T17:27:02.169821Z",
     "iopub.status.busy": "2020-08-20T17:27:02.168882Z",
     "iopub.status.idle": "2020-08-20T17:27:02.274568Z",
     "shell.execute_reply": "2020-08-20T17:27:02.275230Z"
    },
    "papermill": {
     "duration": 0.129221,
     "end_time": "2020-08-20T17:27:02.275459",
     "exception": false,
     "start_time": "2020-08-20T17:27:02.146238",
     "status": "completed"
    },
    "tags": []
   },
   "outputs": [
    {
     "name": "stdout",
     "output_type": "stream",
     "text": [
      " 3 nn score: 0.8360655737704918 \n"
     ]
    }
   ],
   "source": [
    "# knn model\n",
    "\n",
    "from sklearn.neighbors import KNeighborsClassifier\n",
    "\n",
    "knn = KNeighborsClassifier(n_neighbors = 3) # n_neighbors = k\n",
    "\n",
    "knn.fit(x_train,y_train)\n",
    "\n",
    "prediction = knn.predict(x_test)\n",
    "\n",
    "print(\" {} nn score: {} \".format(3,knn.score(x_test,y_test)))\n",
    "\n",
    "save_score( \"K-Nearest Neighbour (KNN) Classification\",knn.score(x_test,y_test) )"
   ]
  },
  {
   "cell_type": "markdown",
   "execution_count": null,
   "metadata": {
    "papermill": {
     "duration": 0.013363,
     "end_time": "2020-08-20T17:27:02.303174",
     "exception": false,
     "start_time": "2020-08-20T17:27:02.289811",
     "status": "completed"
    },
    "tags": []
   },
   "source": [
    "<font color = 'red'>\n",
    "K-Nearest Neighbour (KNN) Classification algorithm  accuracy is %83.60 ."
   ]
  },
  {
   "cell_type": "code",
   "execution_count": 14,
   "metadata": {
    "execution": {
     "iopub.execute_input": "2020-08-20T17:27:02.345525Z",
     "iopub.status.busy": "2020-08-20T17:27:02.342330Z",
     "iopub.status.idle": "2020-08-20T17:27:03.002328Z",
     "shell.execute_reply": "2020-08-20T17:27:03.001555Z"
    },
    "papermill": {
     "duration": 0.685911,
     "end_time": "2020-08-20T17:27:03.002513",
     "exception": false,
     "start_time": "2020-08-20T17:27:02.316602",
     "status": "completed"
    },
    "tags": []
   },
   "outputs": [
    {
     "data": {
      "image/png": "[encoded data removed]",
      "text/plain": [
       "<Figure size 2160x432 with 1 Axes>"
      ]
     },
     "metadata": {
      "needs_background": "light"
     },
     "output_type": "display_data"
    }
   ],
   "source": [
    "# find k value\n",
    "\n",
    "score_list = []\n",
    "\n",
    "for each in range(1,50):\n",
    "    \n",
    "    knn2 = KNeighborsClassifier(n_neighbors = each)\n",
    "    \n",
    "    knn2.fit(x_train,y_train)\n",
    "    \n",
    "    score_list.append(knn2.score(x_test,y_test))\n",
    "    \n",
    "plt.figure(figsize=(30,6))   \n",
    "plt.plot(range(1,50),score_list)\n",
    "plt.xlabel(\"k values\")\n",
    "plt.ylabel(\"accuracy\")\n",
    "plt.show()"
   ]
  },
  {
   "cell_type": "markdown",
   "execution_count": null,
   "metadata": {
    "papermill": {
     "duration": 0.014235,
     "end_time": "2020-08-20T17:27:03.031648",
     "exception": false,
     "start_time": "2020-08-20T17:27:03.017413",
     "status": "completed"
    },
    "tags": []
   },
   "source": [
    "<a id = '7'></a><br>\n",
    "## Support Vector Machine (SVM) Classification"
   ]
  },
  {
   "cell_type": "code",
   "execution_count": 15,
   "metadata": {
    "execution": {
     "iopub.execute_input": "2020-08-20T17:27:03.073921Z",
     "iopub.status.busy": "2020-08-20T17:27:03.073059Z",
     "iopub.status.idle": "2020-08-20T17:27:03.087626Z",
     "shell.execute_reply": "2020-08-20T17:27:03.086857Z"
    },
    "papermill": {
     "duration": 0.041635,
     "end_time": "2020-08-20T17:27:03.087791",
     "exception": false,
     "start_time": "2020-08-20T17:27:03.046156",
     "status": "completed"
    },
    "tags": []
   },
   "outputs": [
    {
     "name": "stdout",
     "output_type": "stream",
     "text": [
      "print accuracy of svm algo:  0.8360655737704918\n"
     ]
    }
   ],
   "source": [
    "# SVM\n",
    "\n",
    "from sklearn.svm import SVC\n",
    "\n",
    "svm = SVC(random_state = 1)\n",
    "\n",
    "svm.fit(x_train,y_train)\n",
    "\n",
    "print(\"print accuracy of svm algo: \",svm.score(x_test,y_test))\n",
    "\n",
    "save_score( \"Support Vector Machine (SVM) Classification\",svm.score(x_test,y_test) )"
   ]
  },
  {
   "cell_type": "markdown",
   "execution_count": null,
   "metadata": {
    "papermill": {
     "duration": 0.01414,
     "end_time": "2020-08-20T17:27:03.116956",
     "exception": false,
     "start_time": "2020-08-20T17:27:03.102816",
     "status": "completed"
    },
    "tags": []
   },
   "source": [
    "<font color = 'red'>\n",
    "Support Vector Machine (SVM) Classification algorithm accuracy is %83.60 ."
   ]
  },
  {
   "cell_type": "markdown",
   "execution_count": null,
   "metadata": {
    "papermill": {
     "duration": 0.014621,
     "end_time": "2020-08-20T17:27:03.147035",
     "exception": false,
     "start_time": "2020-08-20T17:27:03.132414",
     "status": "completed"
    },
    "tags": []
   },
   "source": [
    "<a id = '8'></a><br>\n",
    "## Naive Bayes Classification"
   ]
  },
  {
   "cell_type": "code",
   "execution_count": 16,
   "metadata": {
    "execution": {
     "iopub.execute_input": "2020-08-20T17:27:03.184827Z",
     "iopub.status.busy": "2020-08-20T17:27:03.183883Z",
     "iopub.status.idle": "2020-08-20T17:27:03.204215Z",
     "shell.execute_reply": "2020-08-20T17:27:03.202985Z"
    },
    "papermill": {
     "duration": 0.04269,
     "end_time": "2020-08-20T17:27:03.204426",
     "exception": false,
     "start_time": "2020-08-20T17:27:03.161736",
     "status": "completed"
    },
    "tags": []
   },
   "outputs": [
    {
     "name": "stdout",
     "output_type": "stream",
     "text": [
      "Accuracy of Naive Bayes Algo:  0.8688524590163934\n"
     ]
    }
   ],
   "source": [
    "from sklearn.naive_bayes import GaussianNB\n",
    "\n",
    "nb = GaussianNB()\n",
    "\n",
    "nb.fit(x_train,y_train)\n",
    "\n",
    "print(\"Accuracy of Naive Bayes Algo: \",nb.score(x_test,y_test))\n",
    "\n",
    "save_score( \"Naive Bayes Classification\",nb.score(x_test,y_test) )"
   ]
  },
  {
   "cell_type": "markdown",
   "execution_count": null,
   "metadata": {
    "papermill": {
     "duration": 0.01432,
     "end_time": "2020-08-20T17:27:03.233681",
     "exception": false,
     "start_time": "2020-08-20T17:27:03.219361",
     "status": "completed"
    },
    "tags": []
   },
   "source": [
    "<font color = 'red'>\n",
    "Naive Bayes Classification algorithm accuracy is %86.88 ."
   ]
  },
  {
   "cell_type": "markdown",
   "execution_count": null,
   "metadata": {
    "papermill": {
     "duration": 0.014126,
     "end_time": "2020-08-20T17:27:03.262640",
     "exception": false,
     "start_time": "2020-08-20T17:27:03.248514",
     "status": "completed"
    },
    "tags": []
   },
   "source": [
    "<a id = '9'></a><br>\n",
    "## Decision Tree Classification"
   ]
  },
  {
   "cell_type": "code",
   "execution_count": 17,
   "metadata": {
    "execution": {
     "iopub.execute_input": "2020-08-20T17:27:03.301287Z",
     "iopub.status.busy": "2020-08-20T17:27:03.300416Z",
     "iopub.status.idle": "2020-08-20T17:27:03.348992Z",
     "shell.execute_reply": "2020-08-20T17:27:03.348303Z"
    },
    "papermill": {
     "duration": 0.071919,
     "end_time": "2020-08-20T17:27:03.349156",
     "exception": false,
     "start_time": "2020-08-20T17:27:03.277237",
     "status": "completed"
    },
    "tags": []
   },
   "outputs": [
    {
     "name": "stdout",
     "output_type": "stream",
     "text": [
      "score:  0.8360655737704918\n"
     ]
    }
   ],
   "source": [
    "from sklearn.tree import DecisionTreeClassifier\n",
    "\n",
    "dt = DecisionTreeClassifier()\n",
    "\n",
    "dt.fit(x_train,y_train)\n",
    "\n",
    "print(\"score: \", dt.score(x_test,y_test))\n",
    "\n",
    "save_score( \"Decision Tree Classification\",dt.score(x_test,y_test) )"
   ]
  },
  {
   "cell_type": "markdown",
   "execution_count": null,
   "metadata": {
    "papermill": {
     "duration": 0.014481,
     "end_time": "2020-08-20T17:27:03.378201",
     "exception": false,
     "start_time": "2020-08-20T17:27:03.363720",
     "status": "completed"
    },
    "tags": []
   },
   "source": [
    "<font color = 'red'>\n",
    "Decision Tree Classification algorithm accuracy is %78.68 ."
   ]
  },
  {
   "cell_type": "markdown",
   "execution_count": null,
   "metadata": {
    "papermill": {
     "duration": 0.014348,
     "end_time": "2020-08-20T17:27:03.408226",
     "exception": false,
     "start_time": "2020-08-20T17:27:03.393878",
     "status": "completed"
    },
    "tags": []
   },
   "source": [
    "<a id = '10'></a><br>\n",
    "## Random Forest Classification"
   ]
  },
  {
   "cell_type": "code",
   "execution_count": 18,
   "metadata": {
    "execution": {
     "iopub.execute_input": "2020-08-20T17:27:03.447479Z",
     "iopub.status.busy": "2020-08-20T17:27:03.446641Z",
     "iopub.status.idle": "2020-08-20T17:27:03.754439Z",
     "shell.execute_reply": "2020-08-20T17:27:03.755866Z"
    },
    "papermill": {
     "duration": 0.333314,
     "end_time": "2020-08-20T17:27:03.756152",
     "exception": false,
     "start_time": "2020-08-20T17:27:03.422838",
     "status": "completed"
    },
    "tags": []
   },
   "outputs": [
    {
     "name": "stdout",
     "output_type": "stream",
     "text": [
      "random forest algo result:  0.8524590163934426\n"
     ]
    }
   ],
   "source": [
    "from sklearn.ensemble import RandomForestClassifier\n",
    "\n",
    "rf = RandomForestClassifier(n_estimators = 100,random_state = 1)  # n_estimater = kac agac olacak\n",
    "\n",
    "rf.fit(x_train,y_train)\n",
    "\n",
    "print(\"random forest algo result: \",rf.score(x_test,y_test))\n",
    "\n",
    "accuracies[\"Random Forest Classification\"] = [rf.score(x_test,y_test)*100]\n",
    "\n",
    "save_score( \"Random Forest Classification\",rf.score(x_test,y_test) )"
   ]
  },
  {
   "cell_type": "markdown",
   "execution_count": null,
   "metadata": {
    "papermill": {
     "duration": 0.014285,
     "end_time": "2020-08-20T17:27:03.785769",
     "exception": false,
     "start_time": "2020-08-20T17:27:03.771484",
     "status": "completed"
    },
    "tags": []
   },
   "source": [
    "<font color = 'red'>\n",
    "Random Forest Classification algorithm accuracy is %85.24 ."
   ]
  },
  {
   "cell_type": "markdown",
   "execution_count": null,
   "metadata": {
    "papermill": {
     "duration": 0.014386,
     "end_time": "2020-08-20T17:27:03.815034",
     "exception": false,
     "start_time": "2020-08-20T17:27:03.800648",
     "status": "completed"
    },
    "tags": []
   },
   "source": [
    "<a id = '11'></a><br>\n",
    "## Comparison of Accuracy"
   ]
  },
  {
   "cell_type": "code",
   "execution_count": 19,
   "metadata": {
    "execution": {
     "iopub.execute_input": "2020-08-20T17:27:03.894796Z",
     "iopub.status.busy": "2020-08-20T17:27:03.893519Z",
     "iopub.status.idle": "2020-08-20T17:27:04.129161Z",
     "shell.execute_reply": "2020-08-20T17:27:04.130118Z"
    },
    "papermill": {
     "duration": 0.292273,
     "end_time": "2020-08-20T17:27:04.130400",
     "exception": false,
     "start_time": "2020-08-20T17:27:03.838127",
     "status": "completed"
    },
    "tags": []
   },
   "outputs": [
    {
     "data": {
      "image/png": "[encoded data removed]",
      "text/plain": [
       "<Figure size 2160x576 with 1 Axes>"
      ]
     },
     "metadata": {
      "needs_background": "light"
     },
     "output_type": "display_data"
    }
   ],
   "source": [
    "plt.figure(figsize=(30,8))\n",
    "sns.barplot(x = list( accuracies.keys() ), y = list( accuracies.values() ) )\n",
    "plt.show()"
   ]
  },
  {
   "cell_type": "markdown",
   "execution_count": null,
   "metadata": {
    "papermill": {
     "duration": 0.015612,
     "end_time": "2020-08-20T17:27:04.164522",
     "exception": false,
     "start_time": "2020-08-20T17:27:04.148910",
     "status": "completed"
    },
    "tags": []
   },
   "source": [
    "<a id = '12'></a><br>\n",
    "## Confusion Matrix"
   ]
  },
  {
   "cell_type": "code",
   "execution_count": 20,
   "metadata": {
    "execution": {
     "iopub.execute_input": "2020-08-20T17:27:04.209879Z",
     "iopub.status.busy": "2020-08-20T17:27:04.205458Z",
     "iopub.status.idle": "2020-08-20T17:27:04.239900Z",
     "shell.execute_reply": "2020-08-20T17:27:04.239009Z"
    },
    "papermill": {
     "duration": 0.06019,
     "end_time": "2020-08-20T17:27:04.240047",
     "exception": false,
     "start_time": "2020-08-20T17:27:04.179857",
     "status": "completed"
    },
    "tags": []
   },
   "outputs": [],
   "source": [
    "# Predictions\n",
    "\n",
    "y_lr_pred = lr.predict(x_test)\n",
    "y_knn_pred = knn.predict(x_test)\n",
    "y_svm_pred = svm.predict(x_test)\n",
    "y_nb_pred = nb.predict(x_test)\n",
    "y_dt_pred = dt.predict(x_test)\n",
    "y_rf_pred = rf.predict(x_test)\n",
    "\n",
    "y_true = y_test"
   ]
  },
  {
   "cell_type": "code",
   "execution_count": 21,
   "metadata": {
    "execution": {
     "iopub.execute_input": "2020-08-20T17:27:04.284587Z",
     "iopub.status.busy": "2020-08-20T17:27:04.282668Z",
     "iopub.status.idle": "2020-08-20T17:27:04.290287Z",
     "shell.execute_reply": "2020-08-20T17:27:04.291223Z"
    },
    "papermill": {
     "duration": 0.035832,
     "end_time": "2020-08-20T17:27:04.291505",
     "exception": false,
     "start_time": "2020-08-20T17:27:04.255673",
     "status": "completed"
    },
    "tags": []
   },
   "outputs": [],
   "source": [
    "# confusion matrix\n",
    "\n",
    "from sklearn.metrics import confusion_matrix\n",
    "\n",
    "cm_lr = confusion_matrix(y_true,y_lr_pred)\n",
    "cm_knn = confusion_matrix(y_true,y_knn_pred)\n",
    "cm_svm = confusion_matrix(y_true,y_svm_pred)\n",
    "cm_nb = confusion_matrix(y_true,y_nb_pred)\n",
    "cm_dt = confusion_matrix(y_true,y_dt_pred)\n",
    "cm_rf = confusion_matrix(y_true,y_rf_pred)"
   ]
  },
  {
   "cell_type": "code",
   "execution_count": 22,
   "metadata": {
    "execution": {
     "iopub.execute_input": "2020-08-20T17:27:04.354808Z",
     "iopub.status.busy": "2020-08-20T17:27:04.353572Z",
     "iopub.status.idle": "2020-08-20T17:27:05.019963Z",
     "shell.execute_reply": "2020-08-20T17:27:05.019147Z"
    },
    "papermill": {
     "duration": 0.708755,
     "end_time": "2020-08-20T17:27:05.020136",
     "exception": false,
     "start_time": "2020-08-20T17:27:04.311381",
     "status": "completed"
    },
    "tags": []
   },
   "outputs": [
    {
     "data": {
      "image/png": "[encoded data removed]",
      "text/plain": [
       "<Figure size 1728x864 with 6 Axes>"
      ]
     },
     "metadata": {
      "needs_background": "light"
     },
     "output_type": "display_data"
    }
   ],
   "source": [
    "# cm visualization\n",
    "\n",
    "plt.figure(figsize=(24,12))\n",
    "\n",
    "plt.suptitle(\"Confusion Matrixes\",fontsize=24)\n",
    "plt.subplots_adjust(wspace = 0.4, hspace= 0.4)\n",
    "\n",
    "plt.subplot(2,3,1)\n",
    "plt.title(\"Logistic Regression Confusion Matrix\")\n",
    "sns.heatmap(cm_lr,annot=True,cmap=\"Blues\",fmt=\"d\",cbar=False, annot_kws={\"size\": 24})\n",
    "\n",
    "plt.subplot(2,3,2)\n",
    "plt.title(\"K Nearest Neighbors Confusion Matrix\")\n",
    "sns.heatmap(cm_knn,annot=True,cmap=\"Blues\",fmt=\"d\",cbar=False, annot_kws={\"size\": 24})\n",
    "\n",
    "plt.subplot(2,3,3)\n",
    "plt.title(\"Support Vector Machine Confusion Matrix\")\n",
    "sns.heatmap(cm_svm,annot=True,cmap=\"Blues\",fmt=\"d\",cbar=False, annot_kws={\"size\": 24})\n",
    "\n",
    "plt.subplot(2,3,4)\n",
    "plt.title(\"Naive Bayes Confusion Matrix\")\n",
    "sns.heatmap(cm_nb,annot=True,cmap=\"Blues\",fmt=\"d\",cbar=False, annot_kws={\"size\": 24})\n",
    "\n",
    "plt.subplot(2,3,5)\n",
    "plt.title(\"Decision Tree Classifier Confusion Matrix\")\n",
    "sns.heatmap(cm_dt,annot=True,cmap=\"Blues\",fmt=\"d\",cbar=False, annot_kws={\"size\": 24})\n",
    "\n",
    "plt.subplot(2,3,6)\n",
    "plt.title(\"Random Forest Confusion Matrix\")\n",
    "sns.heatmap(cm_rf,annot=True,cmap=\"Blues\",fmt=\"d\",cbar=False, annot_kws={\"size\": 24})\n",
    "\n",
    "plt.show()"
   ]
  },
  {
   "cell_type": "markdown",
   "execution_count": null,
   "metadata": {
    "papermill": {
     "duration": 0.015516,
     "end_time": "2020-08-20T17:27:05.052129",
     "exception": false,
     "start_time": "2020-08-20T17:27:05.036613",
     "status": "completed"
    },
    "tags": []
   },
   "source": [
    "<a id = '13'></a><br>\n",
    "## Conclusion\n",
    "I am new with ML and just trying to apply what I have just learned. Thanks for reading."
   ]
  }
 ],
 "metadata": {
  "kernelspec": {
   "display_name": "Python 3",
   "language": "python",
   "name": "python3"
  },
  "language_info": {
   "codemirror_mode": {
    "name": "ipython",
    "version": 3
   },
   "file_extension": ".py",
   "mimetype": "text/x-python",
   "name": "python",
   "nbconvert_exporter": "python",
   "pygments_lexer": "ipython3",
   "version": "3.7.6"
  },
  "papermill": {
   "duration": 11.914464,
   "end_time": "2020-08-20T17:27:05.178797",
   "environment_variables": {},
   "exception": null,
   "input_path": "__notebook__.ipynb",
   "output_path": "__notebook__.ipynb",
   "parameters": {},
   "start_time": "2020-08-20T17:26:53.264333",
   "version": "2.1.0"
  }
 },
 "nbformat": 4,
 "nbformat_minor": 4
}
