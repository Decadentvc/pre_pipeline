{
 "cells": [
  {
   "cell_type": "code",
   "execution_count": 1,
   "metadata": {
    "_cell_guid": "b1076dfc-b9ad-4769-8c92-a6c4dae69d19",
    "_uuid": "8f2839f25d086af736a60e9eeb907d3b93b6e0e5",
    "execution": {
     "iopub.execute_input": "2020-08-26T06:07:48.856451Z",
     "iopub.status.busy": "2020-08-26T06:07:48.855349Z",
     "iopub.status.idle": "2020-08-26T06:07:48.862333Z",
     "shell.execute_reply": "2020-08-26T06:07:48.861706Z"
    },
    "papermill": {
     "duration": 0.022677,
     "end_time": "2020-08-26T06:07:48.862464",
     "exception": false,
     "start_time": "2020-08-26T06:07:48.839787",
     "status": "completed"
    },
    "tags": []
   },
   "outputs": [
    {
     "name": "stdout",
     "output_type": "stream",
     "text": [
      "/kaggle/input/gender-classification/Transformed Data Set - Sheet1.csv\n"
     ]
    }
   ],
   "source": [
    "# This Python 3 environment comes with many helpful analytics libraries installed\n",
    "# It is defined by the kaggle/python Docker image: https://github.com/kaggle/docker-python\n",
    "# For example, here's several helpful packages to load\n",
    "\n",
    "import numpy as np # linear algebra\n",
    "import pandas as pd # data processing, CSV file I/O (e.g. pd.read_csv)\n",
    "\n",
    "# Input data files are available in the read-only \"../input/\" directory\n",
    "# For example, running this (by clicking run or pressing Shift+Enter) will list all files under the input directory\n",
    "\n",
    "import os\n",
    "for dirname, _, filenames in os.walk('/kaggle/input'):\n",
    "    for filename in filenames:\n",
    "        print(os.path.join(dirname, filename))\n",
    "\n",
    "# You can write up to 5GB to the current directory (/kaggle/working/) that gets preserved as output when you create a version using \"Save & Run All\" \n",
    "# You can also write temporary files to /kaggle/temp/, but they won't be saved outside of the current session"
   ]
  },
  {
   "cell_type": "code",
   "execution_count": 2,
   "metadata": {
    "_cell_guid": "79c7e3d0-c299-4dcb-8224-4455121ee9b0",
    "_uuid": "d629ff2d2480ee46fbb7e2d37f6b5fab8052498a",
    "execution": {
     "iopub.execute_input": "2020-08-26T06:07:48.885421Z",
     "iopub.status.busy": "2020-08-26T06:07:48.884708Z",
     "iopub.status.idle": "2020-08-26T06:07:48.914233Z",
     "shell.execute_reply": "2020-08-26T06:07:48.913645Z"
    },
    "papermill": {
     "duration": 0.043967,
     "end_time": "2020-08-26T06:07:48.914363",
     "exception": false,
     "start_time": "2020-08-26T06:07:48.870396",
     "status": "completed"
    },
    "tags": []
   },
   "outputs": [
    {
     "name": "stdout",
     "output_type": "stream",
     "text": [
      "<class 'pandas.core.frame.DataFrame'>\n",
      "RangeIndex: 66 entries, 0 to 65\n",
      "Data columns (total 5 columns):\n",
      " #   Column                Non-Null Count  Dtype \n",
      "---  ------                --------------  ----- \n",
      " 0   Favorite Color        66 non-null     object\n",
      " 1   Favorite Music Genre  66 non-null     object\n",
      " 2   Favorite Beverage     66 non-null     object\n",
      " 3   Favorite Soft Drink   66 non-null     object\n",
      " 4   Gender                66 non-null     object\n",
      "dtypes: object(5)\n",
      "memory usage: 2.7+ KB\n"
     ]
    }
   ],
   "source": [
    "dataframe = pd.read_csv(\"/kaggle/input/gender-classification/Transformed Data Set - Sheet1.csv\")\n",
    "dataframe.info()"
   ]
  },
  {
   "cell_type": "code",
   "execution_count": 3,
   "metadata": {
    "execution": {
     "iopub.execute_input": "2020-08-26T06:07:48.937568Z",
     "iopub.status.busy": "2020-08-26T06:07:48.936795Z",
     "iopub.status.idle": "2020-08-26T06:07:48.939873Z",
     "shell.execute_reply": "2020-08-26T06:07:48.940407Z"
    },
    "papermill": {
     "duration": 0.017481,
     "end_time": "2020-08-26T06:07:48.940567",
     "exception": false,
     "start_time": "2020-08-26T06:07:48.923086",
     "status": "completed"
    },
    "tags": []
   },
   "outputs": [],
   "source": [
    "dataframe.rename(columns={'Favorite Color' :'FavoriteColor', 'Favorite Music Genre':'FavoriteMusicGenre', \n",
    "                          'Favorite Beverage':'FavoriteBeverage', 'Favorite Soft Drink':'FavoriteSoftDrink'}, inplace=True)"
   ]
  },
  {
   "cell_type": "markdown",
   "execution_count": null,
   "metadata": {
    "papermill": {
     "duration": 0.00734,
     "end_time": "2020-08-26T06:07:48.955556",
     "exception": false,
     "start_time": "2020-08-26T06:07:48.948216",
     "status": "completed"
    },
    "tags": []
   },
   "source": [
    "Since all columns are of type object, so we will have to bring them all in type numeric to make it in machine readable format."
   ]
  },
  {
   "cell_type": "code",
   "execution_count": 4,
   "metadata": {
    "execution": {
     "iopub.execute_input": "2020-08-26T06:07:48.976780Z",
     "iopub.status.busy": "2020-08-26T06:07:48.975975Z",
     "iopub.status.idle": "2020-08-26T06:07:49.919616Z",
     "shell.execute_reply": "2020-08-26T06:07:49.918956Z"
    },
    "papermill": {
     "duration": 0.956548,
     "end_time": "2020-08-26T06:07:49.919764",
     "exception": false,
     "start_time": "2020-08-26T06:07:48.963216",
     "status": "completed"
    },
    "tags": []
   },
   "outputs": [
    {
     "name": "stdout",
     "output_type": "stream",
     "text": [
      "<class 'pandas.core.frame.DataFrame'>\n",
      "RangeIndex: 66 entries, 0 to 65\n",
      "Data columns (total 5 columns):\n",
      " #   Column              Non-Null Count  Dtype\n",
      "---  ------              --------------  -----\n",
      " 0   FavoriteColor       66 non-null     int64\n",
      " 1   FavoriteMusicGenre  66 non-null     int64\n",
      " 2   FavoriteBeverage    66 non-null     int64\n",
      " 3   FavoriteSoftDrink   66 non-null     int64\n",
      " 4   Gender              66 non-null     int64\n",
      "dtypes: int64(5)\n",
      "memory usage: 2.7 KB\n"
     ]
    }
   ],
   "source": [
    "from sklearn.preprocessing import LabelEncoder\n",
    "dataframe=dataframe.apply(LabelEncoder().fit_transform)\n",
    "dataframe.info()\n"
   ]
  },
  {
   "cell_type": "code",
   "execution_count": 5,
   "metadata": {
    "execution": {
     "iopub.execute_input": "2020-08-26T06:07:49.953455Z",
     "iopub.status.busy": "2020-08-26T06:07:49.952694Z",
     "iopub.status.idle": "2020-08-26T06:07:49.956186Z",
     "shell.execute_reply": "2020-08-26T06:07:49.956784Z"
    },
    "papermill": {
     "duration": 0.020265,
     "end_time": "2020-08-26T06:07:49.956939",
     "exception": false,
     "start_time": "2020-08-26T06:07:49.936674",
     "status": "completed"
    },
    "tags": []
   },
   "outputs": [],
   "source": [
    "X = dataframe.drop(['Gender'], axis = 1)\n",
    "y = dataframe.Gender"
   ]
  },
  {
   "cell_type": "code",
   "execution_count": 6,
   "metadata": {
    "execution": {
     "iopub.execute_input": "2020-08-26T06:07:49.981274Z",
     "iopub.status.busy": "2020-08-26T06:07:49.980394Z",
     "iopub.status.idle": "2020-08-26T06:07:50.041040Z",
     "shell.execute_reply": "2020-08-26T06:07:50.040322Z"
    },
    "papermill": {
     "duration": 0.076129,
     "end_time": "2020-08-26T06:07:50.041227",
     "exception": false,
     "start_time": "2020-08-26T06:07:49.965098",
     "status": "completed"
    },
    "tags": []
   },
   "outputs": [],
   "source": [
    "from sklearn.model_selection import train_test_split\n",
    "X_train, X_test, y_train, y_test = train_test_split(X, y, test_size=0.30, random_state=0)"
   ]
  },
  {
   "cell_type": "markdown",
   "execution_count": null,
   "metadata": {
    "papermill": {
     "duration": 0.007818,
     "end_time": "2020-08-26T06:07:50.057599",
     "exception": false,
     "start_time": "2020-08-26T06:07:50.049781",
     "status": "completed"
    },
    "tags": []
   },
   "source": [
    "Using **KNN Classifier**"
   ]
  },
  {
   "cell_type": "code",
   "execution_count": 7,
   "metadata": {
    "execution": {
     "iopub.execute_input": "2020-08-26T06:07:50.086694Z",
     "iopub.status.busy": "2020-08-26T06:07:50.085599Z",
     "iopub.status.idle": "2020-08-26T06:07:50.248775Z",
     "shell.execute_reply": "2020-08-26T06:07:50.248078Z"
    },
    "papermill": {
     "duration": 0.183248,
     "end_time": "2020-08-26T06:07:50.248901",
     "exception": false,
     "start_time": "2020-08-26T06:07:50.065653",
     "status": "completed"
    },
    "tags": []
   },
   "outputs": [
    {
     "name": "stdout",
     "output_type": "stream",
     "text": [
      "Result for the test set is : [1 0 1 1 1 0 0 0 1 0 1 0 0 0 1 1 1 1 1 0]\n",
      "Score on training set is : 82.61%\n",
      "Score on test set is : 50.00%\n"
     ]
    }
   ],
   "source": [
    "from sklearn.neighbors import KNeighborsClassifier\n",
    "knn = KNeighborsClassifier(n_neighbors=3)\n",
    "knn.fit(X_train, y_train)\n",
    "\n",
    "y_pred = knn.predict(X_test)\n",
    "print(\"Result for the test set is : {}\".format(y_pred))\n",
    "print(\"Score on training set is : {:.2f}%\".format(knn.score(X_train, y_train)*100))\n",
    "print(\"Score on test set is : {:.2f}%\".format(knn.score(X_test, y_test)*100))"
   ]
  },
  {
   "cell_type": "markdown",
   "execution_count": null,
   "metadata": {
    "papermill": {
     "duration": 0.007958,
     "end_time": "2020-08-26T06:07:50.265386",
     "exception": false,
     "start_time": "2020-08-26T06:07:50.257428",
     "status": "completed"
    },
    "tags": []
   },
   "source": [
    "**Confusion Matrix, Recall score and Precision score**"
   ]
  },
  {
   "cell_type": "code",
   "execution_count": 8,
   "metadata": {
    "execution": {
     "iopub.execute_input": "2020-08-26T06:07:50.287540Z",
     "iopub.status.busy": "2020-08-26T06:07:50.286795Z",
     "iopub.status.idle": "2020-08-26T06:07:50.290066Z",
     "shell.execute_reply": "2020-08-26T06:07:50.289469Z"
    },
    "papermill": {
     "duration": 0.016648,
     "end_time": "2020-08-26T06:07:50.290219",
     "exception": false,
     "start_time": "2020-08-26T06:07:50.273571",
     "status": "completed"
    },
    "tags": []
   },
   "outputs": [],
   "source": [
    "from sklearn.metrics import recall_score, precision_score, confusion_matrix"
   ]
  },
  {
   "cell_type": "code",
   "execution_count": 9,
   "metadata": {
    "execution": {
     "iopub.execute_input": "2020-08-26T06:07:50.314469Z",
     "iopub.status.busy": "2020-08-26T06:07:50.313524Z",
     "iopub.status.idle": "2020-08-26T06:07:50.323495Z",
     "shell.execute_reply": "2020-08-26T06:07:50.322860Z"
    },
    "papermill": {
     "duration": 0.025089,
     "end_time": "2020-08-26T06:07:50.323620",
     "exception": false,
     "start_time": "2020-08-26T06:07:50.298531",
     "status": "completed"
    },
    "tags": []
   },
   "outputs": [
    {
     "name": "stdout",
     "output_type": "stream",
     "text": [
      "Recall score 0.4949494949494949\n",
      "Precision score 0.4949494949494949\n",
      "CONFUSION MATRIX [[4 5]\n",
      " [5 6]]\n"
     ]
    }
   ],
   "source": [
    "print(\"Recall score\", recall_score(y_test, y_pred, average='macro'))\n",
    "print(\"Precision score\", precision_score(y_test, y_pred, average='macro'))\n",
    "print (\"CONFUSION MATRIX\", confusion_matrix(y_test, y_pred))"
   ]
  }
 ],
 "metadata": {
  "kernelspec": {
   "display_name": "Python 3",
   "language": "python",
   "name": "python3"
  },
  "language_info": {
   "codemirror_mode": {
    "name": "ipython",
    "version": 3
   },
   "file_extension": ".py",
   "mimetype": "text/x-python",
   "name": "python",
   "nbconvert_exporter": "python",
   "pygments_lexer": "ipython3",
   "version": "3.7.6"
  },
  "papermill": {
   "duration": 6.037699,
   "end_time": "2020-08-26T06:07:50.438771",
   "environment_variables": {},
   "exception": null,
   "input_path": "__notebook__.ipynb",
   "output_path": "__notebook__.ipynb",
   "parameters": {},
   "start_time": "2020-08-26T06:07:44.401072",
   "version": "2.1.0"
  }
 },
 "nbformat": 4,
 "nbformat_minor": 4
}
