{
 "cells": [
  {
   "cell_type": "code",
   "execution_count": 1,
   "metadata": {
    "_cell_guid": "b1076dfc-b9ad-4769-8c92-a6c4dae69d19",
    "_uuid": "8f2839f25d086af736a60e9eeb907d3b93b6e0e5",
    "execution": {
     "iopub.execute_input": "2020-08-19T16:48:17.330152Z",
     "iopub.status.busy": "2020-08-19T16:48:17.329175Z",
     "iopub.status.idle": "2020-08-19T16:48:17.338811Z",
     "shell.execute_reply": "2020-08-19T16:48:17.337555Z"
    },
    "papermill": {
     "duration": 0.055299,
     "end_time": "2020-08-19T16:48:17.339010",
     "exception": false,
     "start_time": "2020-08-19T16:48:17.283711",
     "status": "completed"
    },
    "tags": []
   },
   "outputs": [
    {
     "name": "stdout",
     "output_type": "stream",
     "text": [
      "/kaggle/input/social-network-ads/Social_Network_Ads.csv\n"
     ]
    }
   ],
   "source": [
    "# This Python 3 environment comes with many helpful analytics libraries installed\n",
    "# It is defined by the kaggle/python Docker image: https://github.com/kaggle/docker-python\n",
    "# For example, here's several helpful packages to load\n",
    "\n",
    "import numpy as np # linear algebra\n",
    "import pandas as pd # data processing, CSV file I/O (e.g. pd.read_csv)\n",
    "\n",
    "# Input data files are available in the read-only \"../input/\" directory\n",
    "# For example, running this (by clicking run or pressing Shift+Enter) will list all files under the input directory\n",
    "\n",
    "import os\n",
    "for dirname, _, filenames in os.walk('/kaggle/input'):\n",
    "    for filename in filenames:\n",
    "        print(os.path.join(dirname, filename))\n",
    "\n",
    "# You can write up to 5GB to the current directory (/kaggle/working/) that gets preserved as output when you create a version using \"Save & Run All\" \n",
    "# You can also write temporary files to /kaggle/temp/, but they won't be saved outside of the current session"
   ]
  },
  {
   "cell_type": "code",
   "execution_count": 2,
   "metadata": {
    "_cell_guid": "79c7e3d0-c299-4dcb-8224-4455121ee9b0",
    "_uuid": "d629ff2d2480ee46fbb7e2d37f6b5fab8052498a",
    "execution": {
     "iopub.execute_input": "2020-08-19T16:48:17.407202Z",
     "iopub.status.busy": "2020-08-19T16:48:17.406386Z",
     "iopub.status.idle": "2020-08-19T16:48:17.420790Z",
     "shell.execute_reply": "2020-08-19T16:48:17.419596Z"
    },
    "papermill": {
     "duration": 0.050296,
     "end_time": "2020-08-19T16:48:17.420998",
     "exception": false,
     "start_time": "2020-08-19T16:48:17.370702",
     "status": "completed"
    },
    "tags": []
   },
   "outputs": [],
   "source": [
    "df=pd.read_csv('/kaggle/input/social-network-ads/Social_Network_Ads.csv')"
   ]
  },
  {
   "cell_type": "code",
   "execution_count": 3,
   "metadata": {
    "execution": {
     "iopub.execute_input": "2020-08-19T16:48:17.507189Z",
     "iopub.status.busy": "2020-08-19T16:48:17.506389Z",
     "iopub.status.idle": "2020-08-19T16:48:17.523040Z",
     "shell.execute_reply": "2020-08-19T16:48:17.522309Z"
    },
    "papermill": {
     "duration": 0.069328,
     "end_time": "2020-08-19T16:48:17.523181",
     "exception": false,
     "start_time": "2020-08-19T16:48:17.453853",
     "status": "completed"
    },
    "tags": []
   },
   "outputs": [
    {
     "data": {
      "text/html": [
       "<div>\n",
       "<style scoped>\n",
       "    .dataframe tbody tr th:only-of-type {\n",
       "        vertical-align: middle;\n",
       "    }\n",
       "\n",
       "    .dataframe tbody tr th {\n",
       "        vertical-align: top;\n",
       "    }\n",
       "\n",
       "    .dataframe thead th {\n",
       "        text-align: right;\n",
       "    }\n",
       "</style>\n",
       "<table border=\"1\" class=\"dataframe\">\n",
       "  <thead>\n",
       "    <tr style=\"text-align: right;\">\n",
       "      <th></th>\n",
       "      <th>User ID</th>\n",
       "      <th>Gender</th>\n",
       "      <th>Age</th>\n",
       "      <th>EstimatedSalary</th>\n",
       "      <th>Purchased</th>\n",
       "    </tr>\n",
       "  </thead>\n",
       "  <tbody>\n",
       "    <tr>\n",
       "      <th>0</th>\n",
       "      <td>15624510</td>\n",
       "      <td>Male</td>\n",
       "      <td>19</td>\n",
       "      <td>19000</td>\n",
       "      <td>0</td>\n",
       "    </tr>\n",
       "    <tr>\n",
       "      <th>1</th>\n",
       "      <td>15810944</td>\n",
       "      <td>Male</td>\n",
       "      <td>35</td>\n",
       "      <td>20000</td>\n",
       "      <td>0</td>\n",
       "    </tr>\n",
       "    <tr>\n",
       "      <th>2</th>\n",
       "      <td>15668575</td>\n",
       "      <td>Female</td>\n",
       "      <td>26</td>\n",
       "      <td>43000</td>\n",
       "      <td>0</td>\n",
       "    </tr>\n",
       "    <tr>\n",
       "      <th>3</th>\n",
       "      <td>15603246</td>\n",
       "      <td>Female</td>\n",
       "      <td>27</td>\n",
       "      <td>57000</td>\n",
       "      <td>0</td>\n",
       "    </tr>\n",
       "    <tr>\n",
       "      <th>4</th>\n",
       "      <td>15804002</td>\n",
       "      <td>Male</td>\n",
       "      <td>19</td>\n",
       "      <td>76000</td>\n",
       "      <td>0</td>\n",
       "    </tr>\n",
       "    <tr>\n",
       "      <th>...</th>\n",
       "      <td>...</td>\n",
       "      <td>...</td>\n",
       "      <td>...</td>\n",
       "      <td>...</td>\n",
       "      <td>...</td>\n",
       "    </tr>\n",
       "    <tr>\n",
       "      <th>395</th>\n",
       "      <td>15691863</td>\n",
       "      <td>Female</td>\n",
       "      <td>46</td>\n",
       "      <td>41000</td>\n",
       "      <td>1</td>\n",
       "    </tr>\n",
       "    <tr>\n",
       "      <th>396</th>\n",
       "      <td>15706071</td>\n",
       "      <td>Male</td>\n",
       "      <td>51</td>\n",
       "      <td>23000</td>\n",
       "      <td>1</td>\n",
       "    </tr>\n",
       "    <tr>\n",
       "      <th>397</th>\n",
       "      <td>15654296</td>\n",
       "      <td>Female</td>\n",
       "      <td>50</td>\n",
       "      <td>20000</td>\n",
       "      <td>1</td>\n",
       "    </tr>\n",
       "    <tr>\n",
       "      <th>398</th>\n",
       "      <td>15755018</td>\n",
       "      <td>Male</td>\n",
       "      <td>36</td>\n",
       "      <td>33000</td>\n",
       "      <td>0</td>\n",
       "    </tr>\n",
       "    <tr>\n",
       "      <th>399</th>\n",
       "      <td>15594041</td>\n",
       "      <td>Female</td>\n",
       "      <td>49</td>\n",
       "      <td>36000</td>\n",
       "      <td>1</td>\n",
       "    </tr>\n",
       "  </tbody>\n",
       "</table>\n",
       "<p>400 rows × 5 columns</p>\n",
       "</div>"
      ],
      "text/plain": [
       "      User ID  Gender  Age  EstimatedSalary  Purchased\n",
       "0    15624510    Male   19            19000          0\n",
       "1    15810944    Male   35            20000          0\n",
       "2    15668575  Female   26            43000          0\n",
       "3    15603246  Female   27            57000          0\n",
       "4    15804002    Male   19            76000          0\n",
       "..        ...     ...  ...              ...        ...\n",
       "395  15691863  Female   46            41000          1\n",
       "396  15706071    Male   51            23000          1\n",
       "397  15654296  Female   50            20000          1\n",
       "398  15755018    Male   36            33000          0\n",
       "399  15594041  Female   49            36000          1\n",
       "\n",
       "[400 rows x 5 columns]"
      ]
     },
     "execution_count": 3,
     "metadata": {},
     "output_type": "execute_result"
    }
   ],
   "source": [
    "df"
   ]
  },
  {
   "cell_type": "code",
   "execution_count": 4,
   "metadata": {
    "execution": {
     "iopub.execute_input": "2020-08-19T16:48:17.601452Z",
     "iopub.status.busy": "2020-08-19T16:48:17.600614Z",
     "iopub.status.idle": "2020-08-19T16:48:17.605886Z",
     "shell.execute_reply": "2020-08-19T16:48:17.605080Z"
    },
    "papermill": {
     "duration": 0.054696,
     "end_time": "2020-08-19T16:48:17.606022",
     "exception": false,
     "start_time": "2020-08-19T16:48:17.551326",
     "status": "completed"
    },
    "tags": []
   },
   "outputs": [
    {
     "name": "stdout",
     "output_type": "stream",
     "text": [
      "<class 'pandas.core.frame.DataFrame'>\n",
      "RangeIndex: 400 entries, 0 to 399\n",
      "Data columns (total 5 columns):\n",
      " #   Column           Non-Null Count  Dtype \n",
      "---  ------           --------------  ----- \n",
      " 0   User ID          400 non-null    int64 \n",
      " 1   Gender           400 non-null    object\n",
      " 2   Age              400 non-null    int64 \n",
      " 3   EstimatedSalary  400 non-null    int64 \n",
      " 4   Purchased        400 non-null    int64 \n",
      "dtypes: int64(4), object(1)\n",
      "memory usage: 15.8+ KB\n"
     ]
    }
   ],
   "source": [
    "df.info()"
   ]
  },
  {
   "cell_type": "code",
   "execution_count": 5,
   "metadata": {
    "execution": {
     "iopub.execute_input": "2020-08-19T16:48:17.671978Z",
     "iopub.status.busy": "2020-08-19T16:48:17.670831Z",
     "iopub.status.idle": "2020-08-19T16:48:17.675623Z",
     "shell.execute_reply": "2020-08-19T16:48:17.674938Z"
    },
    "papermill": {
     "duration": 0.041392,
     "end_time": "2020-08-19T16:48:17.675772",
     "exception": false,
     "start_time": "2020-08-19T16:48:17.634380",
     "status": "completed"
    },
    "tags": []
   },
   "outputs": [
    {
     "data": {
      "text/plain": [
       "User ID            0\n",
       "Gender             0\n",
       "Age                0\n",
       "EstimatedSalary    0\n",
       "Purchased          0\n",
       "dtype: int64"
      ]
     },
     "execution_count": 5,
     "metadata": {},
     "output_type": "execute_result"
    }
   ],
   "source": [
    "df.isnull().sum()"
   ]
  },
  {
   "cell_type": "code",
   "execution_count": 6,
   "metadata": {
    "execution": {
     "iopub.execute_input": "2020-08-19T16:48:17.741949Z",
     "iopub.status.busy": "2020-08-19T16:48:17.741060Z",
     "iopub.status.idle": "2020-08-19T16:48:19.411277Z",
     "shell.execute_reply": "2020-08-19T16:48:19.410441Z"
    },
    "papermill": {
     "duration": 1.705031,
     "end_time": "2020-08-19T16:48:19.411430",
     "exception": false,
     "start_time": "2020-08-19T16:48:17.706399",
     "status": "completed"
    },
    "tags": []
   },
   "outputs": [
    {
     "data": {
      "text/plain": [
       "<matplotlib.axes._subplots.AxesSubplot at 0x7f391f5dfb50>"
      ]
     },
     "execution_count": 6,
     "metadata": {},
     "output_type": "execute_result"
    },
    {
     "data": {
      "image/png": "[encoded data removed]",
      "text/plain": [
       "<Figure size 432x288 with 2 Axes>"
      ]
     },
     "metadata": {
      "needs_background": "light"
     },
     "output_type": "display_data"
    }
   ],
   "source": [
    "import matplotlib.pyplot as plt\n",
    "import seaborn as sns\n",
    "sns.heatmap(df.corr())"
   ]
  },
  {
   "cell_type": "code",
   "execution_count": 7,
   "metadata": {
    "execution": {
     "iopub.execute_input": "2020-08-19T16:48:19.477438Z",
     "iopub.status.busy": "2020-08-19T16:48:19.476433Z",
     "iopub.status.idle": "2020-08-19T16:48:19.479993Z",
     "shell.execute_reply": "2020-08-19T16:48:19.479302Z"
    },
    "papermill": {
     "duration": 0.038224,
     "end_time": "2020-08-19T16:48:19.480124",
     "exception": false,
     "start_time": "2020-08-19T16:48:19.441900",
     "status": "completed"
    },
    "tags": []
   },
   "outputs": [],
   "source": [
    "#lets drop the id columns as it is unnecessary "
   ]
  },
  {
   "cell_type": "code",
   "execution_count": 8,
   "metadata": {
    "execution": {
     "iopub.execute_input": "2020-08-19T16:48:19.546975Z",
     "iopub.status.busy": "2020-08-19T16:48:19.546084Z",
     "iopub.status.idle": "2020-08-19T16:48:19.549757Z",
     "shell.execute_reply": "2020-08-19T16:48:19.548977Z"
    },
    "papermill": {
     "duration": 0.040116,
     "end_time": "2020-08-19T16:48:19.549898",
     "exception": false,
     "start_time": "2020-08-19T16:48:19.509782",
     "status": "completed"
    },
    "tags": []
   },
   "outputs": [],
   "source": [
    "df=df.drop(['User ID'],axis=1)"
   ]
  },
  {
   "cell_type": "code",
   "execution_count": 9,
   "metadata": {
    "execution": {
     "iopub.execute_input": "2020-08-19T16:48:19.623411Z",
     "iopub.status.busy": "2020-08-19T16:48:19.622149Z",
     "iopub.status.idle": "2020-08-19T16:48:19.633460Z",
     "shell.execute_reply": "2020-08-19T16:48:19.632776Z"
    },
    "papermill": {
     "duration": 0.05303,
     "end_time": "2020-08-19T16:48:19.633608",
     "exception": false,
     "start_time": "2020-08-19T16:48:19.580578",
     "status": "completed"
    },
    "tags": []
   },
   "outputs": [
    {
     "data": {
      "text/html": [
       "<div>\n",
       "<style scoped>\n",
       "    .dataframe tbody tr th:only-of-type {\n",
       "        vertical-align: middle;\n",
       "    }\n",
       "\n",
       "    .dataframe tbody tr th {\n",
       "        vertical-align: top;\n",
       "    }\n",
       "\n",
       "    .dataframe thead th {\n",
       "        text-align: right;\n",
       "    }\n",
       "</style>\n",
       "<table border=\"1\" class=\"dataframe\">\n",
       "  <thead>\n",
       "    <tr style=\"text-align: right;\">\n",
       "      <th></th>\n",
       "      <th>Gender</th>\n",
       "      <th>Age</th>\n",
       "      <th>EstimatedSalary</th>\n",
       "      <th>Purchased</th>\n",
       "    </tr>\n",
       "  </thead>\n",
       "  <tbody>\n",
       "    <tr>\n",
       "      <th>0</th>\n",
       "      <td>Male</td>\n",
       "      <td>19</td>\n",
       "      <td>19000</td>\n",
       "      <td>0</td>\n",
       "    </tr>\n",
       "    <tr>\n",
       "      <th>1</th>\n",
       "      <td>Male</td>\n",
       "      <td>35</td>\n",
       "      <td>20000</td>\n",
       "      <td>0</td>\n",
       "    </tr>\n",
       "    <tr>\n",
       "      <th>2</th>\n",
       "      <td>Female</td>\n",
       "      <td>26</td>\n",
       "      <td>43000</td>\n",
       "      <td>0</td>\n",
       "    </tr>\n",
       "    <tr>\n",
       "      <th>3</th>\n",
       "      <td>Female</td>\n",
       "      <td>27</td>\n",
       "      <td>57000</td>\n",
       "      <td>0</td>\n",
       "    </tr>\n",
       "    <tr>\n",
       "      <th>4</th>\n",
       "      <td>Male</td>\n",
       "      <td>19</td>\n",
       "      <td>76000</td>\n",
       "      <td>0</td>\n",
       "    </tr>\n",
       "    <tr>\n",
       "      <th>...</th>\n",
       "      <td>...</td>\n",
       "      <td>...</td>\n",
       "      <td>...</td>\n",
       "      <td>...</td>\n",
       "    </tr>\n",
       "    <tr>\n",
       "      <th>395</th>\n",
       "      <td>Female</td>\n",
       "      <td>46</td>\n",
       "      <td>41000</td>\n",
       "      <td>1</td>\n",
       "    </tr>\n",
       "    <tr>\n",
       "      <th>396</th>\n",
       "      <td>Male</td>\n",
       "      <td>51</td>\n",
       "      <td>23000</td>\n",
       "      <td>1</td>\n",
       "    </tr>\n",
       "    <tr>\n",
       "      <th>397</th>\n",
       "      <td>Female</td>\n",
       "      <td>50</td>\n",
       "      <td>20000</td>\n",
       "      <td>1</td>\n",
       "    </tr>\n",
       "    <tr>\n",
       "      <th>398</th>\n",
       "      <td>Male</td>\n",
       "      <td>36</td>\n",
       "      <td>33000</td>\n",
       "      <td>0</td>\n",
       "    </tr>\n",
       "    <tr>\n",
       "      <th>399</th>\n",
       "      <td>Female</td>\n",
       "      <td>49</td>\n",
       "      <td>36000</td>\n",
       "      <td>1</td>\n",
       "    </tr>\n",
       "  </tbody>\n",
       "</table>\n",
       "<p>400 rows × 4 columns</p>\n",
       "</div>"
      ],
      "text/plain": [
       "     Gender  Age  EstimatedSalary  Purchased\n",
       "0      Male   19            19000          0\n",
       "1      Male   35            20000          0\n",
       "2    Female   26            43000          0\n",
       "3    Female   27            57000          0\n",
       "4      Male   19            76000          0\n",
       "..      ...  ...              ...        ...\n",
       "395  Female   46            41000          1\n",
       "396    Male   51            23000          1\n",
       "397  Female   50            20000          1\n",
       "398    Male   36            33000          0\n",
       "399  Female   49            36000          1\n",
       "\n",
       "[400 rows x 4 columns]"
      ]
     },
     "execution_count": 9,
     "metadata": {},
     "output_type": "execute_result"
    }
   ],
   "source": [
    "df"
   ]
  },
  {
   "cell_type": "code",
   "execution_count": 10,
   "metadata": {
    "execution": {
     "iopub.execute_input": "2020-08-19T16:48:19.719074Z",
     "iopub.status.busy": "2020-08-19T16:48:19.706604Z",
     "iopub.status.idle": "2020-08-19T16:48:19.875240Z",
     "shell.execute_reply": "2020-08-19T16:48:19.874406Z"
    },
    "papermill": {
     "duration": 0.210177,
     "end_time": "2020-08-19T16:48:19.875377",
     "exception": false,
     "start_time": "2020-08-19T16:48:19.665200",
     "status": "completed"
    },
    "tags": []
   },
   "outputs": [
    {
     "data": {
      "text/plain": [
       "<matplotlib.axes._subplots.AxesSubplot at 0x7f391f369a50>"
      ]
     },
     "execution_count": 10,
     "metadata": {},
     "output_type": "execute_result"
    },
    {
     "data": {
      "image/png": "[encoded data removed]",
      "text/plain": [
       "<Figure size 432x288 with 1 Axes>"
      ]
     },
     "metadata": {
      "needs_background": "light"
     },
     "output_type": "display_data"
    }
   ],
   "source": [
    "sns.countplot(x=df['Purchased'],hue='Gender',data=df)"
   ]
  },
  {
   "cell_type": "code",
   "execution_count": 11,
   "metadata": {
    "execution": {
     "iopub.execute_input": "2020-08-19T16:48:19.946564Z",
     "iopub.status.busy": "2020-08-19T16:48:19.945747Z",
     "iopub.status.idle": "2020-08-19T16:48:19.949023Z",
     "shell.execute_reply": "2020-08-19T16:48:19.949616Z"
    },
    "papermill": {
     "duration": 0.041809,
     "end_time": "2020-08-19T16:48:19.949801",
     "exception": false,
     "start_time": "2020-08-19T16:48:19.907992",
     "status": "completed"
    },
    "tags": []
   },
   "outputs": [],
   "source": [
    "#females purchased more than males"
   ]
  },
  {
   "cell_type": "code",
   "execution_count": 12,
   "metadata": {
    "execution": {
     "iopub.execute_input": "2020-08-19T16:48:20.047423Z",
     "iopub.status.busy": "2020-08-19T16:48:20.045819Z",
     "iopub.status.idle": "2020-08-19T16:48:21.869093Z",
     "shell.execute_reply": "2020-08-19T16:48:21.868298Z"
    },
    "papermill": {
     "duration": 1.879333,
     "end_time": "2020-08-19T16:48:21.869244",
     "exception": false,
     "start_time": "2020-08-19T16:48:19.989911",
     "status": "completed"
    },
    "tags": []
   },
   "outputs": [
    {
     "data": {
      "text/plain": [
       "<matplotlib.axes._subplots.AxesSubplot at 0x7f391f2ead90>"
      ]
     },
     "execution_count": 12,
     "metadata": {},
     "output_type": "execute_result"
    },
    {
     "data": {
      "image/png": "[encoded data removed]",
      "text/plain": [
       "<Figure size 432x288 with 1 Axes>"
      ]
     },
     "metadata": {
      "needs_background": "light"
     },
     "output_type": "display_data"
    }
   ],
   "source": [
    "sns.lineplot(x=df['Age'],y=df['EstimatedSalary'],data=df)"
   ]
  },
  {
   "cell_type": "code",
   "execution_count": 13,
   "metadata": {
    "execution": {
     "iopub.execute_input": "2020-08-19T16:48:21.945687Z",
     "iopub.status.busy": "2020-08-19T16:48:21.944855Z",
     "iopub.status.idle": "2020-08-19T16:48:21.949131Z",
     "shell.execute_reply": "2020-08-19T16:48:21.948342Z"
    },
    "papermill": {
     "duration": 0.0448,
     "end_time": "2020-08-19T16:48:21.949307",
     "exception": false,
     "start_time": "2020-08-19T16:48:21.904507",
     "status": "completed"
    },
    "tags": []
   },
   "outputs": [],
   "source": [
    "#from this figure we can conclude that salary slightly increases with increase in age"
   ]
  },
  {
   "cell_type": "code",
   "execution_count": 14,
   "metadata": {
    "execution": {
     "iopub.execute_input": "2020-08-19T16:48:22.033348Z",
     "iopub.status.busy": "2020-08-19T16:48:22.025561Z",
     "iopub.status.idle": "2020-08-19T16:48:22.256395Z",
     "shell.execute_reply": "2020-08-19T16:48:22.255576Z"
    },
    "papermill": {
     "duration": 0.272482,
     "end_time": "2020-08-19T16:48:22.256602",
     "exception": false,
     "start_time": "2020-08-19T16:48:21.984120",
     "status": "completed"
    },
    "tags": []
   },
   "outputs": [
    {
     "data": {
      "text/plain": [
       "<matplotlib.axes._subplots.AxesSubplot at 0x7f391d1e9890>"
      ]
     },
     "execution_count": 14,
     "metadata": {},
     "output_type": "execute_result"
    },
    {
     "data": {
      "image/png": "[encoded data removed]",
      "text/plain": [
       "<Figure size 432x288 with 1 Axes>"
      ]
     },
     "metadata": {
      "needs_background": "light"
     },
     "output_type": "display_data"
    }
   ],
   "source": [
    "sns.distplot(df['EstimatedSalary'])"
   ]
  },
  {
   "cell_type": "code",
   "execution_count": 15,
   "metadata": {
    "execution": {
     "iopub.execute_input": "2020-08-19T16:48:22.337382Z",
     "iopub.status.busy": "2020-08-19T16:48:22.335973Z",
     "iopub.status.idle": "2020-08-19T16:48:22.338876Z",
     "shell.execute_reply": "2020-08-19T16:48:22.339689Z"
    },
    "papermill": {
     "duration": 0.046412,
     "end_time": "2020-08-19T16:48:22.339893",
     "exception": false,
     "start_time": "2020-08-19T16:48:22.293481",
     "status": "completed"
    },
    "tags": []
   },
   "outputs": [],
   "source": [
    "#now preprocess categorical features i"
   ]
  },
  {
   "cell_type": "code",
   "execution_count": 16,
   "metadata": {
    "execution": {
     "iopub.execute_input": "2020-08-19T16:48:22.421630Z",
     "iopub.status.busy": "2020-08-19T16:48:22.420638Z",
     "iopub.status.idle": "2020-08-19T16:48:22.509631Z",
     "shell.execute_reply": "2020-08-19T16:48:22.508776Z"
    },
    "papermill": {
     "duration": 0.132446,
     "end_time": "2020-08-19T16:48:22.509817",
     "exception": false,
     "start_time": "2020-08-19T16:48:22.377371",
     "status": "completed"
    },
    "tags": []
   },
   "outputs": [],
   "source": [
    "from sklearn.preprocessing import LabelEncoder\n",
    "le=LabelEncoder()\n",
    "df['Gender']=le.fit_transform(df['Gender'])"
   ]
  },
  {
   "cell_type": "code",
   "execution_count": 17,
   "metadata": {
    "execution": {
     "iopub.execute_input": "2020-08-19T16:48:22.593476Z",
     "iopub.status.busy": "2020-08-19T16:48:22.592446Z",
     "iopub.status.idle": "2020-08-19T16:48:22.596046Z",
     "shell.execute_reply": "2020-08-19T16:48:22.595281Z"
    },
    "papermill": {
     "duration": 0.048908,
     "end_time": "2020-08-19T16:48:22.596185",
     "exception": false,
     "start_time": "2020-08-19T16:48:22.547277",
     "status": "completed"
    },
    "tags": []
   },
   "outputs": [],
   "source": [
    "y=df['Purchased']\n",
    "x=df.drop(['Purchased'],axis=1)"
   ]
  },
  {
   "cell_type": "code",
   "execution_count": 18,
   "metadata": {
    "execution": {
     "iopub.execute_input": "2020-08-19T16:48:22.678343Z",
     "iopub.status.busy": "2020-08-19T16:48:22.677433Z",
     "iopub.status.idle": "2020-08-19T16:48:22.752850Z",
     "shell.execute_reply": "2020-08-19T16:48:22.752065Z"
    },
    "papermill": {
     "duration": 0.11905,
     "end_time": "2020-08-19T16:48:22.752983",
     "exception": false,
     "start_time": "2020-08-19T16:48:22.633933",
     "status": "completed"
    },
    "tags": []
   },
   "outputs": [],
   "source": [
    "from sklearn.model_selection import train_test_split\n",
    "x_train,x_test,y_train,y_test=train_test_split(x,y,random_state=0,test_size=0.2)"
   ]
  },
  {
   "cell_type": "code",
   "execution_count": 19,
   "metadata": {
    "execution": {
     "iopub.execute_input": "2020-08-19T16:48:22.837804Z",
     "iopub.status.busy": "2020-08-19T16:48:22.836919Z",
     "iopub.status.idle": "2020-08-19T16:48:23.062601Z",
     "shell.execute_reply": "2020-08-19T16:48:23.061620Z"
    },
    "papermill": {
     "duration": 0.271702,
     "end_time": "2020-08-19T16:48:23.062750",
     "exception": false,
     "start_time": "2020-08-19T16:48:22.791048",
     "status": "completed"
    },
    "tags": []
   },
   "outputs": [],
   "source": [
    "from sklearn.linear_model import LogisticRegression\n",
    "from sklearn.metrics import accuracy_score\n",
    "list_scores=[]\n",
    "list_models=[]\n",
    "lr=LogisticRegression(max_iter=10000)\n",
    "lr.fit(x_train,y_train)\n",
    "pred_1=lr.predict(x_test)\n",
    "score_1=accuracy_score(y_test,pred_1)"
   ]
  },
  {
   "cell_type": "code",
   "execution_count": 20,
   "metadata": {
    "execution": {
     "iopub.execute_input": "2020-08-19T16:48:23.150477Z",
     "iopub.status.busy": "2020-08-19T16:48:23.149418Z",
     "iopub.status.idle": "2020-08-19T16:48:23.153278Z",
     "shell.execute_reply": "2020-08-19T16:48:23.153924Z"
    },
    "papermill": {
     "duration": 0.048764,
     "end_time": "2020-08-19T16:48:23.154103",
     "exception": false,
     "start_time": "2020-08-19T16:48:23.105339",
     "status": "completed"
    },
    "tags": []
   },
   "outputs": [
    {
     "data": {
      "text/plain": [
       "0.725"
      ]
     },
     "execution_count": 20,
     "metadata": {},
     "output_type": "execute_result"
    }
   ],
   "source": [
    "score_1"
   ]
  },
  {
   "cell_type": "code",
   "execution_count": 21,
   "metadata": {
    "execution": {
     "iopub.execute_input": "2020-08-19T16:48:23.238575Z",
     "iopub.status.busy": "2020-08-19T16:48:23.237270Z",
     "iopub.status.idle": "2020-08-19T16:48:23.240963Z",
     "shell.execute_reply": "2020-08-19T16:48:23.240237Z"
    },
    "papermill": {
     "duration": 0.048549,
     "end_time": "2020-08-19T16:48:23.241103",
     "exception": false,
     "start_time": "2020-08-19T16:48:23.192554",
     "status": "completed"
    },
    "tags": []
   },
   "outputs": [],
   "source": [
    "list_scores.append(score_1)\n",
    "list_models.append('logistic regression')"
   ]
  },
  {
   "cell_type": "code",
   "execution_count": 22,
   "metadata": {
    "execution": {
     "iopub.execute_input": "2020-08-19T16:48:23.328865Z",
     "iopub.status.busy": "2020-08-19T16:48:23.328013Z",
     "iopub.status.idle": "2020-08-19T16:48:23.589152Z",
     "shell.execute_reply": "2020-08-19T16:48:23.588324Z"
    },
    "papermill": {
     "duration": 0.307955,
     "end_time": "2020-08-19T16:48:23.589306",
     "exception": false,
     "start_time": "2020-08-19T16:48:23.281351",
     "status": "completed"
    },
    "tags": []
   },
   "outputs": [],
   "source": [
    "from sklearn.neighbors import KNeighborsClassifier\n",
    "list_1=[]\n",
    "for i in range(1,21):\n",
    "    knn=KNeighborsClassifier(n_neighbors=i)\n",
    "    knn.fit(x_train,y_train)\n",
    "    pred_s=knn.predict(x_test)\n",
    "    scores=accuracy_score(y_test,pred_s)\n",
    "    list_1.append(scores)"
   ]
  },
  {
   "cell_type": "code",
   "execution_count": 23,
   "metadata": {
    "execution": {
     "iopub.execute_input": "2020-08-19T16:48:23.687960Z",
     "iopub.status.busy": "2020-08-19T16:48:23.674493Z",
     "iopub.status.idle": "2020-08-19T16:48:23.955975Z",
     "shell.execute_reply": "2020-08-19T16:48:23.955248Z"
    },
    "papermill": {
     "duration": 0.327411,
     "end_time": "2020-08-19T16:48:23.956107",
     "exception": false,
     "start_time": "2020-08-19T16:48:23.628696",
     "status": "completed"
    },
    "tags": []
   },
   "outputs": [
    {
     "data": {
      "text/plain": [
       "<matplotlib.axes._subplots.AxesSubplot at 0x7f3918eb7910>"
      ]
     },
     "execution_count": 23,
     "metadata": {},
     "output_type": "execute_result"
    },
    {
     "data": {
      "image/png": "[encoded data removed]",
      "text/plain": [
       "<Figure size 432x288 with 1 Axes>"
      ]
     },
     "metadata": {
      "needs_background": "light"
     },
     "output_type": "display_data"
    }
   ],
   "source": [
    "sns.barplot(x=list(range(1,21)),y=list_1)"
   ]
  },
  {
   "cell_type": "code",
   "execution_count": 24,
   "metadata": {
    "execution": {
     "iopub.execute_input": "2020-08-19T16:48:24.042936Z",
     "iopub.status.busy": "2020-08-19T16:48:24.041918Z",
     "iopub.status.idle": "2020-08-19T16:48:24.045658Z",
     "shell.execute_reply": "2020-08-19T16:48:24.046261Z"
    },
    "papermill": {
     "duration": 0.050751,
     "end_time": "2020-08-19T16:48:24.046435",
     "exception": false,
     "start_time": "2020-08-19T16:48:23.995684",
     "status": "completed"
    },
    "tags": []
   },
   "outputs": [
    {
     "name": "stdout",
     "output_type": "stream",
     "text": [
      "0.8875\n"
     ]
    }
   ],
   "source": [
    "print(max(list_1))"
   ]
  },
  {
   "cell_type": "code",
   "execution_count": 25,
   "metadata": {
    "execution": {
     "iopub.execute_input": "2020-08-19T16:48:24.133365Z",
     "iopub.status.busy": "2020-08-19T16:48:24.132541Z",
     "iopub.status.idle": "2020-08-19T16:48:24.135741Z",
     "shell.execute_reply": "2020-08-19T16:48:24.134975Z"
    },
    "papermill": {
     "duration": 0.049142,
     "end_time": "2020-08-19T16:48:24.135884",
     "exception": false,
     "start_time": "2020-08-19T16:48:24.086742",
     "status": "completed"
    },
    "tags": []
   },
   "outputs": [],
   "source": [
    "list_scores.append(max(list_1))\n",
    "list_models.append('kneighbors classifier')\n"
   ]
  },
  {
   "cell_type": "code",
   "execution_count": 26,
   "metadata": {
    "execution": {
     "iopub.execute_input": "2020-08-19T16:48:24.223871Z",
     "iopub.status.busy": "2020-08-19T16:48:24.223036Z",
     "iopub.status.idle": "2020-08-19T16:48:24.546195Z",
     "shell.execute_reply": "2020-08-19T16:48:24.545493Z"
    },
    "papermill": {
     "duration": 0.370179,
     "end_time": "2020-08-19T16:48:24.546355",
     "exception": false,
     "start_time": "2020-08-19T16:48:24.176176",
     "status": "completed"
    },
    "tags": []
   },
   "outputs": [],
   "source": [
    "from sklearn.ensemble import RandomForestClassifier\n",
    "rfc=RandomForestClassifier()\n",
    "rfc.fit(x_train,y_train)\n",
    "pred_2=rfc.predict(x_test)\n",
    "score_2=accuracy_score(y_test,pred_2)"
   ]
  },
  {
   "cell_type": "code",
   "execution_count": 27,
   "metadata": {
    "execution": {
     "iopub.execute_input": "2020-08-19T16:48:24.634186Z",
     "iopub.status.busy": "2020-08-19T16:48:24.633230Z",
     "iopub.status.idle": "2020-08-19T16:48:24.638186Z",
     "shell.execute_reply": "2020-08-19T16:48:24.637442Z"
    },
    "papermill": {
     "duration": 0.051536,
     "end_time": "2020-08-19T16:48:24.638345",
     "exception": false,
     "start_time": "2020-08-19T16:48:24.586809",
     "status": "completed"
    },
    "tags": []
   },
   "outputs": [
    {
     "data": {
      "text/plain": [
       "0.925"
      ]
     },
     "execution_count": 27,
     "metadata": {},
     "output_type": "execute_result"
    }
   ],
   "source": [
    "score_2"
   ]
  },
  {
   "cell_type": "code",
   "execution_count": 28,
   "metadata": {
    "execution": {
     "iopub.execute_input": "2020-08-19T16:48:24.727741Z",
     "iopub.status.busy": "2020-08-19T16:48:24.726769Z",
     "iopub.status.idle": "2020-08-19T16:48:24.730288Z",
     "shell.execute_reply": "2020-08-19T16:48:24.729651Z"
    },
    "papermill": {
     "duration": 0.050366,
     "end_time": "2020-08-19T16:48:24.730432",
     "exception": false,
     "start_time": "2020-08-19T16:48:24.680066",
     "status": "completed"
    },
    "tags": []
   },
   "outputs": [],
   "source": [
    "list_scores.append(score_2)\n",
    "list_models.append('random forest classifier')"
   ]
  },
  {
   "cell_type": "code",
   "execution_count": 29,
   "metadata": {
    "execution": {
     "iopub.execute_input": "2020-08-19T16:48:24.825165Z",
     "iopub.status.busy": "2020-08-19T16:48:24.823825Z",
     "iopub.status.idle": "2020-08-19T16:48:24.918535Z",
     "shell.execute_reply": "2020-08-19T16:48:24.917697Z"
    },
    "papermill": {
     "duration": 0.146435,
     "end_time": "2020-08-19T16:48:24.918677",
     "exception": false,
     "start_time": "2020-08-19T16:48:24.772242",
     "status": "completed"
    },
    "tags": []
   },
   "outputs": [],
   "source": [
    "from sklearn.ensemble import GradientBoostingClassifier\n",
    "gbr=GradientBoostingClassifier()\n",
    "gbr.fit(x_train,y_train)\n",
    "pred_3=gbr.predict(x_test)\n",
    "score_3=accuracy_score(y_test,pred_3)"
   ]
  },
  {
   "cell_type": "code",
   "execution_count": 30,
   "metadata": {
    "execution": {
     "iopub.execute_input": "2020-08-19T16:48:25.009015Z",
     "iopub.status.busy": "2020-08-19T16:48:25.007838Z",
     "iopub.status.idle": "2020-08-19T16:48:25.013629Z",
     "shell.execute_reply": "2020-08-19T16:48:25.012968Z"
    },
    "papermill": {
     "duration": 0.053575,
     "end_time": "2020-08-19T16:48:25.013773",
     "exception": false,
     "start_time": "2020-08-19T16:48:24.960198",
     "status": "completed"
    },
    "tags": []
   },
   "outputs": [
    {
     "data": {
      "text/plain": [
       "0.925"
      ]
     },
     "execution_count": 30,
     "metadata": {},
     "output_type": "execute_result"
    }
   ],
   "source": [
    "score_3"
   ]
  },
  {
   "cell_type": "code",
   "execution_count": 31,
   "metadata": {
    "execution": {
     "iopub.execute_input": "2020-08-19T16:48:25.104380Z",
     "iopub.status.busy": "2020-08-19T16:48:25.103372Z",
     "iopub.status.idle": "2020-08-19T16:48:25.107328Z",
     "shell.execute_reply": "2020-08-19T16:48:25.106527Z"
    },
    "papermill": {
     "duration": 0.051717,
     "end_time": "2020-08-19T16:48:25.107466",
     "exception": false,
     "start_time": "2020-08-19T16:48:25.055749",
     "status": "completed"
    },
    "tags": []
   },
   "outputs": [],
   "source": [
    "list_scores.append(score_3)\n",
    "list_models.append('gradient boosting classifier')"
   ]
  },
  {
   "cell_type": "code",
   "execution_count": 32,
   "metadata": {
    "execution": {
     "iopub.execute_input": "2020-08-19T16:48:25.211797Z",
     "iopub.status.busy": "2020-08-19T16:48:25.204793Z",
     "iopub.status.idle": "2020-08-19T16:48:25.351790Z",
     "shell.execute_reply": "2020-08-19T16:48:25.350947Z"
    },
    "papermill": {
     "duration": 0.201299,
     "end_time": "2020-08-19T16:48:25.351935",
     "exception": false,
     "start_time": "2020-08-19T16:48:25.150636",
     "status": "completed"
    },
    "tags": []
   },
   "outputs": [
    {
     "data": {
      "text/plain": [
       "<BarContainer object of 4 artists>"
      ]
     },
     "execution_count": 32,
     "metadata": {},
     "output_type": "execute_result"
    },
    {
     "data": {
      "image/png": "[encoded data removed]",
      "text/plain": [
       "<Figure size 720x360 with 1 Axes>"
      ]
     },
     "metadata": {
      "needs_background": "light"
     },
     "output_type": "display_data"
    }
   ],
   "source": [
    "plt.figure(figsize=(10,5))\n",
    "plt.bar(list_models,list_scores,width=0.4)"
   ]
  },
  {
   "cell_type": "code",
   "execution_count": 33,
   "metadata": {
    "execution": {
     "iopub.execute_input": "2020-08-19T16:48:25.445668Z",
     "iopub.status.busy": "2020-08-19T16:48:25.444840Z",
     "iopub.status.idle": "2020-08-19T16:48:25.448704Z",
     "shell.execute_reply": "2020-08-19T16:48:25.447957Z"
    },
    "papermill": {
     "duration": 0.053287,
     "end_time": "2020-08-19T16:48:25.448840",
     "exception": false,
     "start_time": "2020-08-19T16:48:25.395553",
     "status": "completed"
    },
    "tags": []
   },
   "outputs": [],
   "source": [
    "#from the above figure we can conclude that random forest gives the best accuracy score"
   ]
  }
 ],
 "metadata": {
  "kernelspec": {
   "display_name": "Python 3",
   "language": "python",
   "name": "python3"
  },
  "language_info": {
   "codemirror_mode": {
    "name": "ipython",
    "version": 3
   },
   "file_extension": ".py",
   "mimetype": "text/x-python",
   "name": "python",
   "nbconvert_exporter": "python",
   "pygments_lexer": "ipython3",
   "version": "3.7.6"
  },
  "papermill": {
   "duration": 15.104925,
   "end_time": "2020-08-19T16:48:26.588251",
   "environment_variables": {},
   "exception": null,
   "input_path": "__notebook__.ipynb",
   "output_path": "__notebook__.ipynb",
   "parameters": {},
   "start_time": "2020-08-19T16:48:11.483326",
   "version": "2.1.0"
  }
 },
 "nbformat": 4,
 "nbformat_minor": 4
}
