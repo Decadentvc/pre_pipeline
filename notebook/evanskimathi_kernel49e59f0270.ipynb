{
 "cells": [
  {
   "cell_type": "code",
   "execution_count": 1,
   "metadata": {
    "_cell_guid": "dac75402-467c-4e8d-9af4-3dce32719a8b",
    "_uuid": "46334977-c40d-4f0a-9ea8-264e3c28b989"
   },
   "outputs": [],
   "source": [
    "import numpy as np\n",
    "import pandas as pd\n",
    "import matplotlib.pyplot as plt\n",
    "#inline matplotlib"
   ]
  },
  {
   "cell_type": "code",
   "execution_count": 2,
   "metadata": {
    "_cell_guid": "2442d3a3-f736-4551-930f-e2018a50d978",
    "_uuid": "e628f7cd-8046-4336-b19e-f217025d5938"
   },
   "outputs": [
    {
     "name": "stdout",
     "output_type": "stream",
     "text": [
      "/kaggle/input/social-network-ads/Social_Network_Ads.csv\n"
     ]
    }
   ],
   "source": [
    "import os\n",
    "for dirname, _, filenames in os.walk('/kaggle/input'):\n",
    "    for filename in filenames:\n",
    "        print(os.path.join(dirname, filename))"
   ]
  },
  {
   "cell_type": "code",
   "execution_count": 3,
   "metadata": {
    "_cell_guid": "d974ca1b-ecd1-4da3-815d-5ee4c2f66eb4",
    "_uuid": "48128f15-3354-4439-83de-4636be2b0a50"
   },
   "outputs": [],
   "source": [
    "#importing the data"
   ]
  },
  {
   "cell_type": "code",
   "execution_count": 4,
   "metadata": {
    "_cell_guid": "6695965e-64f2-4707-9191-a8ed4a5315a1",
    "_uuid": "93461f67-de06-4a6b-be01-03c2afe2d39d"
   },
   "outputs": [],
   "source": [
    "dataset = pd.read_csv('../input/social-network-ads/Social_Network_Ads.csv')\n"
   ]
  },
  {
   "cell_type": "code",
   "execution_count": 5,
   "metadata": {
    "_cell_guid": "e267161a-e519-4e35-bb02-56ac44e07b80",
    "_uuid": "9da4353c-0743-4ba8-8075-a51cdeab339c"
   },
   "outputs": [],
   "source": [
    "#selecting the most gender as most valuable feature"
   ]
  },
  {
   "cell_type": "code",
   "execution_count": 6,
   "metadata": {
    "_cell_guid": "3c3f1b9b-be6b-4825-8c72-bbe0a2412175",
    "_uuid": "465769f7-1283-4794-84f9-11481776db62"
   },
   "outputs": [],
   "source": [
    "df_getdummy = pd.get_dummies(data=dataset, columns=['Gender'])"
   ]
  },
  {
   "cell_type": "code",
   "execution_count": 7,
   "metadata": {
    "_cell_guid": "321c5979-8078-497c-af08-a8a781ae48aa",
    "_uuid": "0da666d4-1d13-4c36-81d1-2987082eb332"
   },
   "outputs": [
    {
     "data": {
      "text/html": [
       "<div>\n",
       "<style scoped>\n",
       "    .dataframe tbody tr th:only-of-type {\n",
       "        vertical-align: middle;\n",
       "    }\n",
       "\n",
       "    .dataframe tbody tr th {\n",
       "        vertical-align: top;\n",
       "    }\n",
       "\n",
       "    .dataframe thead th {\n",
       "        text-align: right;\n",
       "    }\n",
       "</style>\n",
       "<table border=\"1\" class=\"dataframe\">\n",
       "  <thead>\n",
       "    <tr style=\"text-align: right;\">\n",
       "      <th></th>\n",
       "      <th>User ID</th>\n",
       "      <th>Gender</th>\n",
       "      <th>Age</th>\n",
       "      <th>EstimatedSalary</th>\n",
       "      <th>Purchased</th>\n",
       "    </tr>\n",
       "  </thead>\n",
       "  <tbody>\n",
       "    <tr>\n",
       "      <th>0</th>\n",
       "      <td>15624510</td>\n",
       "      <td>Male</td>\n",
       "      <td>19</td>\n",
       "      <td>19000</td>\n",
       "      <td>0</td>\n",
       "    </tr>\n",
       "    <tr>\n",
       "      <th>1</th>\n",
       "      <td>15810944</td>\n",
       "      <td>Male</td>\n",
       "      <td>35</td>\n",
       "      <td>20000</td>\n",
       "      <td>0</td>\n",
       "    </tr>\n",
       "    <tr>\n",
       "      <th>2</th>\n",
       "      <td>15668575</td>\n",
       "      <td>Female</td>\n",
       "      <td>26</td>\n",
       "      <td>43000</td>\n",
       "      <td>0</td>\n",
       "    </tr>\n",
       "    <tr>\n",
       "      <th>3</th>\n",
       "      <td>15603246</td>\n",
       "      <td>Female</td>\n",
       "      <td>27</td>\n",
       "      <td>57000</td>\n",
       "      <td>0</td>\n",
       "    </tr>\n",
       "    <tr>\n",
       "      <th>4</th>\n",
       "      <td>15804002</td>\n",
       "      <td>Male</td>\n",
       "      <td>19</td>\n",
       "      <td>76000</td>\n",
       "      <td>0</td>\n",
       "    </tr>\n",
       "  </tbody>\n",
       "</table>\n",
       "</div>"
      ],
      "text/plain": [
       "    User ID  Gender  Age  EstimatedSalary  Purchased\n",
       "0  15624510    Male   19            19000          0\n",
       "1  15810944    Male   35            20000          0\n",
       "2  15668575  Female   26            43000          0\n",
       "3  15603246  Female   27            57000          0\n",
       "4  15804002    Male   19            76000          0"
      ]
     },
     "execution_count": 7,
     "metadata": {},
     "output_type": "execute_result"
    }
   ],
   "source": [
    "dataset.head(5)"
   ]
  },
  {
   "cell_type": "code",
   "execution_count": 8,
   "metadata": {
    "_cell_guid": "7a58d58f-9357-4c7b-a36a-0c6b8f6c6f7c",
    "_uuid": "b2229dd6-06ce-490b-b74b-98bf77974947"
   },
   "outputs": [],
   "source": [
    "#Declaring dummy data"
   ]
  },
  {
   "cell_type": "code",
   "execution_count": 9,
   "metadata": {
    "_cell_guid": "0197103c-6713-459c-89f0-5f9fbe268613",
    "_uuid": "913d6c0c-2355-47c0-91d4-6fbb4cb38a11"
   },
   "outputs": [],
   "source": [
    "x = df_getdummy.drop('Purchased',axis=1)"
   ]
  },
  {
   "cell_type": "code",
   "execution_count": 10,
   "metadata": {
    "_cell_guid": "aa9cec57-fd13-43a5-b902-c496b5bd1bc8",
    "_uuid": "a1e87470-863b-4516-97ab-d3c26bbe5b11"
   },
   "outputs": [],
   "source": [
    "y = df_getdummy['Purchased']"
   ]
  },
  {
   "cell_type": "code",
   "execution_count": 11,
   "metadata": {
    "_cell_guid": "00b5b9c9-8002-4fb8-bf47-ffc7e9c62b07",
    "_uuid": "dbdedf99-a8cf-44dd-b895-e2a38ea44673"
   },
   "outputs": [],
   "source": [
    "#Splitting my data between training and test data"
   ]
  },
  {
   "cell_type": "code",
   "execution_count": 12,
   "metadata": {
    "_cell_guid": "f753bc40-7db6-4b6f-ae1e-ac2c7447c2a1",
    "_uuid": "d654ae58-615b-4aca-b9b3-cc3ba8353ebb"
   },
   "outputs": [],
   "source": [
    "from sklearn.model_selection import train_test_split\n",
    "x_train, x_test,y_train,y_test=train_test_split(x,y, test_size = 0.20, random_state = 0)"
   ]
  },
  {
   "cell_type": "code",
   "execution_count": 13,
   "metadata": {
    "_cell_guid": "09219996-af5b-41b1-a5b1-b860b449621a",
    "_uuid": "8f61083b-b4bf-4a35-bd14-ff7464ecc4e8"
   },
   "outputs": [],
   "source": [
    "#Feature scaling"
   ]
  },
  {
   "cell_type": "code",
   "execution_count": 14,
   "metadata": {
    "_cell_guid": "1e80ca93-7782-49ab-b8e5-d99da47f12a5",
    "_uuid": "36002f83-f520-4aad-a2e9-d715d45c3f51"
   },
   "outputs": [],
   "source": [
    "from sklearn.preprocessing import StandardScaler\n",
    "sc =StandardScaler()\n",
    "x_train = sc.fit_transform(x_train)\n",
    "x_test =sc.fit_transform(x_test)"
   ]
  },
  {
   "cell_type": "code",
   "execution_count": 15,
   "metadata": {
    "_cell_guid": "727a0608-edf3-4c33-ab66-9dcc034c04df",
    "_uuid": "54afe20f-c0cc-416a-bb97-1778fad180be"
   },
   "outputs": [],
   "source": [
    "#Fitting logistic regression model onto our dataset"
   ]
  },
  {
   "cell_type": "code",
   "execution_count": 16,
   "metadata": {
    "_cell_guid": "0d2c7499-5287-4b10-aade-e84118d46ec6",
    "_uuid": "50c186d8-daf8-4d7d-b2cc-3ad45449de9d"
   },
   "outputs": [
    {
     "data": {
      "text/plain": [
       "LogisticRegression(C=1.0, class_weight=None, dual=False, fit_intercept=True,\n",
       "                   intercept_scaling=1, l1_ratio=None, max_iter=100,\n",
       "                   multi_class='auto', n_jobs=None, penalty='l2',\n",
       "                   random_state=0, solver='lbfgs', tol=0.0001, verbose=0,\n",
       "                   warm_start=False)"
      ]
     },
     "execution_count": 16,
     "metadata": {},
     "output_type": "execute_result"
    }
   ],
   "source": [
    "from sklearn.linear_model import LogisticRegression\n",
    "classifier = LogisticRegression(random_state = 0)\n",
    "classifier.fit(x_train, y_train)"
   ]
  },
  {
   "cell_type": "code",
   "execution_count": 17,
   "metadata": {
    "_cell_guid": "01a7a1ad-7e5c-4369-8a91-78e5f2b95378",
    "_uuid": "475113db-9a51-4c38-bb6e-a42e8a181642"
   },
   "outputs": [],
   "source": [
    "#predicting our test set results"
   ]
  },
  {
   "cell_type": "code",
   "execution_count": 18,
   "metadata": {
    "_cell_guid": "13999537-184e-47da-87de-f1ff14007c8a",
    "_uuid": "9f8dfc8d-265a-42be-a04f-0de7fb9fde85"
   },
   "outputs": [],
   "source": [
    "y_pred = classifier.predict(x_test)"
   ]
  },
  {
   "cell_type": "code",
   "execution_count": 19,
   "metadata": {
    "_cell_guid": "2df31080-0031-43d1-8994-d423f0a14bd5",
    "_uuid": "af2c8358-7554-4096-b66b-3f6454df4d71"
   },
   "outputs": [],
   "source": [
    "#getting result of our classification model in matrix form"
   ]
  },
  {
   "cell_type": "code",
   "execution_count": 20,
   "metadata": {
    "_cell_guid": "cbd5655e-9f3b-4020-9f2b-d2668454ca55",
    "_uuid": "60614e7f-6442-41f2-ab32-1fae30d150f6"
   },
   "outputs": [
    {
     "data": {
      "text/plain": [
       "array([[53,  5],\n",
       "       [ 3, 19]])"
      ]
     },
     "execution_count": 20,
     "metadata": {},
     "output_type": "execute_result"
    }
   ],
   "source": [
    "from sklearn.metrics import confusion_matrix\n",
    "confusion_matrix(y_test, y_pred)"
   ]
  },
  {
   "cell_type": "code",
   "execution_count": 21,
   "metadata": {
    "_cell_guid": "6333cde5-94d7-4906-9588-55f6a81e0628",
    "_uuid": "a1b340de-d86b-4223-819b-c8404409acc2"
   },
   "outputs": [],
   "source": [
    "from sklearn.metrics import accuracy_score"
   ]
  },
  {
   "cell_type": "code",
   "execution_count": 22,
   "metadata": {
    "_cell_guid": "78ae0a48-66c0-48eb-a640-1c1be6c5b22c",
    "_uuid": "c1bab69e-70bf-4172-b1af-c0c26504521c"
   },
   "outputs": [],
   "source": [
    "#Retrieving our regression result"
   ]
  },
  {
   "cell_type": "code",
   "execution_count": 23,
   "metadata": {
    "_cell_guid": "93fdb059-68cd-414d-9197-1a5b2838c04d",
    "_uuid": "3c25c43e-8d66-4968-bd11-813abc71726d"
   },
   "outputs": [
    {
     "data": {
      "text/plain": [
       "0.83125"
      ]
     },
     "execution_count": 23,
     "metadata": {},
     "output_type": "execute_result"
    }
   ],
   "source": [
    "accuracy_score(y_true=y_train, y_pred=classifier.predict(x_train))"
   ]
  },
  {
   "cell_type": "code",
   "execution_count": null,
   "metadata": {
    "_cell_guid": "73ca727f-404e-46b0-ad3c-b813132067be",
    "_uuid": "7a5948f7-239a-404c-81c3-c8b89ac720f6"
   },
   "outputs": [],
   "source": []
  }
 ],
 "metadata": {
  "kernelspec": {
   "display_name": "Python 2",
   "language": "python",
   "name": "python3"
  },
  "language_info": {
   "codemirror_mode": {
    "name": "ipython",
    "version": 3
   },
   "file_extension": ".py",
   "mimetype": "text/x-python",
   "name": "python",
   "nbconvert_exporter": "python",
   "pygments_lexer": "ipython3",
   "version": "3.6.6"
  }
 },
 "nbformat": 4,
 "nbformat_minor": 4
}
