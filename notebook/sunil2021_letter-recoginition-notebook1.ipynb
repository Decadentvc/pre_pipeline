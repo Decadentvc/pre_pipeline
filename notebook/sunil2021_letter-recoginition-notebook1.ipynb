{
 "cells": [
  {
   "cell_type": "markdown",
   "execution_count": null,
   "metadata": {
    "papermill": {
     "duration": 0.007508,
     "end_time": "2020-09-03T10:26:46.266465",
     "exception": false,
     "start_time": "2020-09-03T10:26:46.258957",
     "status": "completed"
    },
    "tags": []
   },
   "source": [
    "SVM is the supervised learning method which can be used for both classification and regression challenges.Mostly it is used for classification problem.\n",
    "The main function of SVM is to check the hyperplane between two classes is distinguish between two classes.\n",
    "\n",
    "There are mainly three kernal functions represent typical decision boundaries:\n",
    "1. linear kernal \n",
    "2. Polynomial kernal\n",
    "3. Radial basis function kernal"
   ]
  },
  {
   "cell_type": "code",
   "execution_count": 1,
   "metadata": {
    "_cell_guid": "b1076dfc-b9ad-4769-8c92-a6c4dae69d19",
    "_uuid": "8f2839f25d086af736a60e9eeb907d3b93b6e0e5",
    "execution": {
     "iopub.execute_input": "2020-09-03T10:26:46.287121Z",
     "iopub.status.busy": "2020-09-03T10:26:46.286526Z",
     "iopub.status.idle": "2020-09-03T10:26:46.295430Z",
     "shell.execute_reply": "2020-09-03T10:26:46.294886Z"
    },
    "papermill": {
     "duration": 0.022605,
     "end_time": "2020-09-03T10:26:46.295538",
     "exception": false,
     "start_time": "2020-09-03T10:26:46.272933",
     "status": "completed"
    },
    "tags": []
   },
   "outputs": [
    {
     "name": "stdout",
     "output_type": "stream",
     "text": [
      "/kaggle/input/letterrecognition-using-svm/letter-recognition.csv\n"
     ]
    }
   ],
   "source": [
    "# This Python 3 environment comes with many helpful analytics libraries installed\n",
    "# It is defined by the kaggle/python Docker image: https://github.com/kaggle/docker-python\n",
    "# For example, here's several helpful packages to load\n",
    "\n",
    "import numpy as np # linear algebra\n",
    "import pandas as pd # data processing, CSV file I/O (e.g. pd.read_csv)\n",
    "\n",
    "# Input data files are available in the read-only \"../input/\" directory\n",
    "# For example, running this (by clicking run or pressing Shift+Enter) will list all files under the input directory\n",
    "\n",
    "import os\n",
    "for dirname, _, filenames in os.walk('/kaggle/input'):\n",
    "    for filename in filenames:\n",
    "        print(os.path.join(dirname, filename))\n",
    "\n",
    "# You can write up to 5GB to the current directory (/kaggle/working/) that gets preserved as output when you create a version using \"Save & Run All\" \n",
    "# You can also write temporary files to /kaggle/temp/, but they won't be saved outside of the current session"
   ]
  },
  {
   "cell_type": "code",
   "execution_count": 2,
   "metadata": {
    "execution": {
     "iopub.execute_input": "2020-09-03T10:26:46.314913Z",
     "iopub.status.busy": "2020-09-03T10:26:46.314114Z",
     "iopub.status.idle": "2020-09-03T10:26:47.249451Z",
     "shell.execute_reply": "2020-09-03T10:26:47.249965Z"
    },
    "papermill": {
     "duration": 0.946709,
     "end_time": "2020-09-03T10:26:47.250129",
     "exception": false,
     "start_time": "2020-09-03T10:26:46.303420",
     "status": "completed"
    },
    "tags": []
   },
   "outputs": [],
   "source": [
    "# libraries\n",
    "import matplotlib.pyplot as plt\n",
    "import seaborn as sns"
   ]
  },
  {
   "cell_type": "markdown",
   "execution_count": null,
   "metadata": {
    "papermill": {
     "duration": 0.006442,
     "end_time": "2020-09-03T10:26:47.263509",
     "exception": false,
     "start_time": "2020-09-03T10:26:47.257067",
     "status": "completed"
    },
    "tags": []
   },
   "source": [
    "# 1. Reading, Understanding and Visualising the dataset"
   ]
  },
  {
   "cell_type": "code",
   "execution_count": 3,
   "metadata": {
    "_cell_guid": "79c7e3d0-c299-4dcb-8224-4455121ee9b0",
    "_uuid": "d629ff2d2480ee46fbb7e2d37f6b5fab8052498a",
    "execution": {
     "iopub.execute_input": "2020-09-03T10:26:47.284516Z",
     "iopub.status.busy": "2020-09-03T10:26:47.283864Z",
     "iopub.status.idle": "2020-09-03T10:26:47.376720Z",
     "shell.execute_reply": "2020-09-03T10:26:47.376173Z"
    },
    "papermill": {
     "duration": 0.106681,
     "end_time": "2020-09-03T10:26:47.376826",
     "exception": false,
     "start_time": "2020-09-03T10:26:47.270145",
     "status": "completed"
    },
    "tags": []
   },
   "outputs": [
    {
     "data": {
      "text/html": [
       "<div>\n",
       "<style scoped>\n",
       "    .dataframe tbody tr th:only-of-type {\n",
       "        vertical-align: middle;\n",
       "    }\n",
       "\n",
       "    .dataframe tbody tr th {\n",
       "        vertical-align: top;\n",
       "    }\n",
       "\n",
       "    .dataframe thead th {\n",
       "        text-align: right;\n",
       "    }\n",
       "</style>\n",
       "<table border=\"1\" class=\"dataframe\">\n",
       "  <thead>\n",
       "    <tr style=\"text-align: right;\">\n",
       "      <th></th>\n",
       "      <th>letter</th>\n",
       "      <th>xbox</th>\n",
       "      <th>ybox</th>\n",
       "      <th>width</th>\n",
       "      <th>height</th>\n",
       "      <th>onpix</th>\n",
       "      <th>xbar</th>\n",
       "      <th>ybar</th>\n",
       "      <th>x2bar</th>\n",
       "      <th>y2bar</th>\n",
       "      <th>xybar</th>\n",
       "      <th>x2ybar</th>\n",
       "      <th>xy2bar</th>\n",
       "      <th>xedge</th>\n",
       "      <th>xedgey</th>\n",
       "      <th>yedge</th>\n",
       "      <th>yedgex</th>\n",
       "    </tr>\n",
       "  </thead>\n",
       "  <tbody>\n",
       "    <tr>\n",
       "      <th>0</th>\n",
       "      <td>T</td>\n",
       "      <td>2</td>\n",
       "      <td>8</td>\n",
       "      <td>3</td>\n",
       "      <td>5</td>\n",
       "      <td>1</td>\n",
       "      <td>8</td>\n",
       "      <td>13</td>\n",
       "      <td>0</td>\n",
       "      <td>6</td>\n",
       "      <td>6</td>\n",
       "      <td>10</td>\n",
       "      <td>8</td>\n",
       "      <td>0</td>\n",
       "      <td>8</td>\n",
       "      <td>0</td>\n",
       "      <td>8</td>\n",
       "    </tr>\n",
       "    <tr>\n",
       "      <th>1</th>\n",
       "      <td>I</td>\n",
       "      <td>5</td>\n",
       "      <td>12</td>\n",
       "      <td>3</td>\n",
       "      <td>7</td>\n",
       "      <td>2</td>\n",
       "      <td>10</td>\n",
       "      <td>5</td>\n",
       "      <td>5</td>\n",
       "      <td>4</td>\n",
       "      <td>13</td>\n",
       "      <td>3</td>\n",
       "      <td>9</td>\n",
       "      <td>2</td>\n",
       "      <td>8</td>\n",
       "      <td>4</td>\n",
       "      <td>10</td>\n",
       "    </tr>\n",
       "    <tr>\n",
       "      <th>2</th>\n",
       "      <td>D</td>\n",
       "      <td>4</td>\n",
       "      <td>11</td>\n",
       "      <td>6</td>\n",
       "      <td>8</td>\n",
       "      <td>6</td>\n",
       "      <td>10</td>\n",
       "      <td>6</td>\n",
       "      <td>2</td>\n",
       "      <td>6</td>\n",
       "      <td>10</td>\n",
       "      <td>3</td>\n",
       "      <td>7</td>\n",
       "      <td>3</td>\n",
       "      <td>7</td>\n",
       "      <td>3</td>\n",
       "      <td>9</td>\n",
       "    </tr>\n",
       "    <tr>\n",
       "      <th>3</th>\n",
       "      <td>N</td>\n",
       "      <td>7</td>\n",
       "      <td>11</td>\n",
       "      <td>6</td>\n",
       "      <td>6</td>\n",
       "      <td>3</td>\n",
       "      <td>5</td>\n",
       "      <td>9</td>\n",
       "      <td>4</td>\n",
       "      <td>6</td>\n",
       "      <td>4</td>\n",
       "      <td>4</td>\n",
       "      <td>10</td>\n",
       "      <td>6</td>\n",
       "      <td>10</td>\n",
       "      <td>2</td>\n",
       "      <td>8</td>\n",
       "    </tr>\n",
       "    <tr>\n",
       "      <th>4</th>\n",
       "      <td>G</td>\n",
       "      <td>2</td>\n",
       "      <td>1</td>\n",
       "      <td>3</td>\n",
       "      <td>1</td>\n",
       "      <td>1</td>\n",
       "      <td>8</td>\n",
       "      <td>6</td>\n",
       "      <td>6</td>\n",
       "      <td>6</td>\n",
       "      <td>6</td>\n",
       "      <td>5</td>\n",
       "      <td>9</td>\n",
       "      <td>1</td>\n",
       "      <td>7</td>\n",
       "      <td>5</td>\n",
       "      <td>10</td>\n",
       "    </tr>\n",
       "  </tbody>\n",
       "</table>\n",
       "</div>"
      ],
      "text/plain": [
       "  letter  xbox   ybox   width   height  onpix   xbar   ybar   x2bar  y2bar   \\\n",
       "0      T      2      8       3       5       1      8     13      0       6   \n",
       "1      I      5     12       3       7       2     10      5      5       4   \n",
       "2      D      4     11       6       8       6     10      6      2       6   \n",
       "3      N      7     11       6       6       3      5      9      4       6   \n",
       "4      G      2      1       3       1       1      8      6      6       6   \n",
       "\n",
       "   xybar   x2ybar  xy2bar  xedge   xedgey  yedge   yedgex  \n",
       "0       6      10       8       0       8       0       8  \n",
       "1      13       3       9       2       8       4      10  \n",
       "2      10       3       7       3       7       3       9  \n",
       "3       4       4      10       6      10       2       8  \n",
       "4       6       5       9       1       7       5      10  "
      ]
     },
     "execution_count": 3,
     "metadata": {},
     "output_type": "execute_result"
    }
   ],
   "source": [
    "# Reading the dataset\n",
    "data_train = pd.read_csv(\"/kaggle/input/letterrecognition-using-svm/letter-recognition.csv\")\n",
    "data_train.head()"
   ]
  },
  {
   "cell_type": "code",
   "execution_count": 4,
   "metadata": {
    "execution": {
     "iopub.execute_input": "2020-09-03T10:26:47.399183Z",
     "iopub.status.busy": "2020-09-03T10:26:47.398573Z",
     "iopub.status.idle": "2020-09-03T10:26:47.418066Z",
     "shell.execute_reply": "2020-09-03T10:26:47.418565Z"
    },
    "papermill": {
     "duration": 0.034506,
     "end_time": "2020-09-03T10:26:47.418697",
     "exception": false,
     "start_time": "2020-09-03T10:26:47.384191",
     "status": "completed"
    },
    "tags": []
   },
   "outputs": [
    {
     "name": "stdout",
     "output_type": "stream",
     "text": [
      "<class 'pandas.core.frame.DataFrame'>\n",
      "RangeIndex: 20000 entries, 0 to 19999\n",
      "Data columns (total 17 columns):\n",
      " #   Column  Non-Null Count  Dtype \n",
      "---  ------  --------------  ----- \n",
      " 0   letter  20000 non-null  object\n",
      " 1   xbox    20000 non-null  int64 \n",
      " 2   ybox    20000 non-null  int64 \n",
      " 3   width   20000 non-null  int64 \n",
      " 4   height  20000 non-null  int64 \n",
      " 5   onpix   20000 non-null  int64 \n",
      " 6   xbar    20000 non-null  int64 \n",
      " 7   ybar    20000 non-null  int64 \n",
      " 8   x2bar   20000 non-null  int64 \n",
      " 9   y2bar   20000 non-null  int64 \n",
      " 10  xybar   20000 non-null  int64 \n",
      " 11  x2ybar  20000 non-null  int64 \n",
      " 12  xy2bar  20000 non-null  int64 \n",
      " 13  xedge   20000 non-null  int64 \n",
      " 14  xedgey  20000 non-null  int64 \n",
      " 15  yedge   20000 non-null  int64 \n",
      " 16  yedgex  20000 non-null  int64 \n",
      "dtypes: int64(16), object(1)\n",
      "memory usage: 2.6+ MB\n"
     ]
    }
   ],
   "source": [
    "data_train.info()"
   ]
  },
  {
   "cell_type": "code",
   "execution_count": 5,
   "metadata": {
    "execution": {
     "iopub.execute_input": "2020-09-03T10:26:47.437230Z",
     "iopub.status.busy": "2020-09-03T10:26:47.436509Z",
     "iopub.status.idle": "2020-09-03T10:26:47.441710Z",
     "shell.execute_reply": "2020-09-03T10:26:47.440898Z"
    },
    "papermill": {
     "duration": 0.016162,
     "end_time": "2020-09-03T10:26:47.441825",
     "exception": false,
     "start_time": "2020-09-03T10:26:47.425663",
     "status": "completed"
    },
    "tags": []
   },
   "outputs": [
    {
     "data": {
      "text/plain": [
       "(20000, 17)"
      ]
     },
     "execution_count": 5,
     "metadata": {},
     "output_type": "execute_result"
    }
   ],
   "source": [
    "# dimension of dataset\n",
    "data_train.shape"
   ]
  },
  {
   "cell_type": "code",
   "execution_count": 6,
   "metadata": {
    "execution": {
     "iopub.execute_input": "2020-09-03T10:26:47.468010Z",
     "iopub.status.busy": "2020-09-03T10:26:47.467191Z",
     "iopub.status.idle": "2020-09-03T10:26:47.471004Z",
     "shell.execute_reply": "2020-09-03T10:26:47.470305Z"
    },
    "papermill": {
     "duration": 0.018644,
     "end_time": "2020-09-03T10:26:47.471121",
     "exception": false,
     "start_time": "2020-09-03T10:26:47.452477",
     "status": "completed"
    },
    "tags": []
   },
   "outputs": [
    {
     "name": "stdout",
     "output_type": "stream",
     "text": [
      "Index(['letter', 'xbox ', 'ybox ', 'width ', 'height', 'onpix ', 'xbar ',\n",
      "       'ybar ', 'x2bar', 'y2bar ', 'xybar ', 'x2ybar', 'xy2bar', 'xedge ',\n",
      "       'xedgey', 'yedge ', 'yedgex'],\n",
      "      dtype='object')\n"
     ]
    }
   ],
   "source": [
    "# columns of dataset\n",
    "print(data_train.columns)"
   ]
  },
  {
   "cell_type": "code",
   "execution_count": 7,
   "metadata": {
    "execution": {
     "iopub.execute_input": "2020-09-03T10:26:47.498769Z",
     "iopub.status.busy": "2020-09-03T10:26:47.497947Z",
     "iopub.status.idle": "2020-09-03T10:26:47.502019Z",
     "shell.execute_reply": "2020-09-03T10:26:47.501243Z"
    },
    "papermill": {
     "duration": 0.019759,
     "end_time": "2020-09-03T10:26:47.502131",
     "exception": false,
     "start_time": "2020-09-03T10:26:47.482372",
     "status": "completed"
    },
    "tags": []
   },
   "outputs": [
    {
     "name": "stdout",
     "output_type": "stream",
     "text": [
      "['A', 'B', 'C', 'D', 'E', 'F', 'G', 'H', 'I', 'J', 'K', 'L', 'M', 'N', 'O', 'P', 'Q', 'R', 'S', 'T', 'U', 'V', 'W', 'X', 'Y', 'Z']\n"
     ]
    }
   ],
   "source": [
    "# printing the letter in correct sequence\n",
    "sequence = list(np.sort(data_train['letter'].unique()))\n",
    "print(sequence)"
   ]
  },
  {
   "cell_type": "code",
   "execution_count": 8,
   "metadata": {
    "execution": {
     "iopub.execute_input": "2020-09-03T10:26:47.532117Z",
     "iopub.status.busy": "2020-09-03T10:26:47.531521Z",
     "iopub.status.idle": "2020-09-03T10:26:47.563581Z",
     "shell.execute_reply": "2020-09-03T10:26:47.562943Z"
    },
    "papermill": {
     "duration": 0.050442,
     "end_time": "2020-09-03T10:26:47.563684",
     "exception": false,
     "start_time": "2020-09-03T10:26:47.513242",
     "status": "completed"
    },
    "tags": []
   },
   "outputs": [
    {
     "data": {
      "text/html": [
       "<div>\n",
       "<style scoped>\n",
       "    .dataframe tbody tr th:only-of-type {\n",
       "        vertical-align: middle;\n",
       "    }\n",
       "\n",
       "    .dataframe tbody tr th {\n",
       "        vertical-align: top;\n",
       "    }\n",
       "\n",
       "    .dataframe thead th {\n",
       "        text-align: right;\n",
       "    }\n",
       "</style>\n",
       "<table border=\"1\" class=\"dataframe\">\n",
       "  <thead>\n",
       "    <tr style=\"text-align: right;\">\n",
       "      <th></th>\n",
       "      <th>xbox</th>\n",
       "      <th>ybox</th>\n",
       "      <th>width</th>\n",
       "      <th>height</th>\n",
       "      <th>onpix</th>\n",
       "      <th>xbar</th>\n",
       "      <th>ybar</th>\n",
       "      <th>x2bar</th>\n",
       "      <th>y2bar</th>\n",
       "      <th>xybar</th>\n",
       "      <th>x2ybar</th>\n",
       "      <th>xy2bar</th>\n",
       "      <th>xedge</th>\n",
       "      <th>xedgey</th>\n",
       "      <th>yedge</th>\n",
       "      <th>yedgex</th>\n",
       "    </tr>\n",
       "    <tr>\n",
       "      <th>letter</th>\n",
       "      <th></th>\n",
       "      <th></th>\n",
       "      <th></th>\n",
       "      <th></th>\n",
       "      <th></th>\n",
       "      <th></th>\n",
       "      <th></th>\n",
       "      <th></th>\n",
       "      <th></th>\n",
       "      <th></th>\n",
       "      <th></th>\n",
       "      <th></th>\n",
       "      <th></th>\n",
       "      <th></th>\n",
       "      <th></th>\n",
       "      <th></th>\n",
       "    </tr>\n",
       "  </thead>\n",
       "  <tbody>\n",
       "    <tr>\n",
       "      <th>A</th>\n",
       "      <td>3.337136</td>\n",
       "      <td>6.975919</td>\n",
       "      <td>5.128010</td>\n",
       "      <td>5.178707</td>\n",
       "      <td>2.991128</td>\n",
       "      <td>8.851711</td>\n",
       "      <td>3.631179</td>\n",
       "      <td>2.755387</td>\n",
       "      <td>2.043093</td>\n",
       "      <td>7.802281</td>\n",
       "      <td>2.338403</td>\n",
       "      <td>8.465146</td>\n",
       "      <td>2.771863</td>\n",
       "      <td>6.321926</td>\n",
       "      <td>2.875792</td>\n",
       "      <td>7.468948</td>\n",
       "    </tr>\n",
       "    <tr>\n",
       "      <th>B</th>\n",
       "      <td>3.985640</td>\n",
       "      <td>6.962141</td>\n",
       "      <td>5.088773</td>\n",
       "      <td>5.169713</td>\n",
       "      <td>4.596606</td>\n",
       "      <td>7.671018</td>\n",
       "      <td>7.062663</td>\n",
       "      <td>5.366841</td>\n",
       "      <td>5.571802</td>\n",
       "      <td>7.954308</td>\n",
       "      <td>5.506527</td>\n",
       "      <td>6.652742</td>\n",
       "      <td>3.117493</td>\n",
       "      <td>7.919060</td>\n",
       "      <td>6.612272</td>\n",
       "      <td>9.100522</td>\n",
       "    </tr>\n",
       "    <tr>\n",
       "      <th>C</th>\n",
       "      <td>4.031250</td>\n",
       "      <td>7.063859</td>\n",
       "      <td>4.701087</td>\n",
       "      <td>5.296196</td>\n",
       "      <td>2.775815</td>\n",
       "      <td>5.437500</td>\n",
       "      <td>7.627717</td>\n",
       "      <td>5.927989</td>\n",
       "      <td>7.177989</td>\n",
       "      <td>8.773098</td>\n",
       "      <td>7.494565</td>\n",
       "      <td>11.947011</td>\n",
       "      <td>1.991848</td>\n",
       "      <td>8.876359</td>\n",
       "      <td>4.080163</td>\n",
       "      <td>8.555707</td>\n",
       "    </tr>\n",
       "    <tr>\n",
       "      <th>D</th>\n",
       "      <td>4.023602</td>\n",
       "      <td>7.244720</td>\n",
       "      <td>5.170186</td>\n",
       "      <td>5.288199</td>\n",
       "      <td>4.026087</td>\n",
       "      <td>7.539130</td>\n",
       "      <td>6.806211</td>\n",
       "      <td>5.921739</td>\n",
       "      <td>6.508075</td>\n",
       "      <td>8.166460</td>\n",
       "      <td>5.111801</td>\n",
       "      <td>5.750311</td>\n",
       "      <td>3.365217</td>\n",
       "      <td>7.813665</td>\n",
       "      <td>3.971429</td>\n",
       "      <td>7.628571</td>\n",
       "    </tr>\n",
       "    <tr>\n",
       "      <th>E</th>\n",
       "      <td>3.727865</td>\n",
       "      <td>6.944010</td>\n",
       "      <td>4.756510</td>\n",
       "      <td>5.201823</td>\n",
       "      <td>3.679688</td>\n",
       "      <td>5.966146</td>\n",
       "      <td>7.352865</td>\n",
       "      <td>4.223958</td>\n",
       "      <td>7.585938</td>\n",
       "      <td>8.507812</td>\n",
       "      <td>6.242188</td>\n",
       "      <td>10.341146</td>\n",
       "      <td>2.127604</td>\n",
       "      <td>8.298177</td>\n",
       "      <td>6.022135</td>\n",
       "      <td>8.506510</td>\n",
       "    </tr>\n",
       "  </tbody>\n",
       "</table>\n",
       "</div>"
      ],
      "text/plain": [
       "           xbox      ybox     width     height    onpix      xbar      ybar   \\\n",
       "letter                                                                         \n",
       "A       3.337136  6.975919  5.128010  5.178707  2.991128  8.851711  3.631179   \n",
       "B       3.985640  6.962141  5.088773  5.169713  4.596606  7.671018  7.062663   \n",
       "C       4.031250  7.063859  4.701087  5.296196  2.775815  5.437500  7.627717   \n",
       "D       4.023602  7.244720  5.170186  5.288199  4.026087  7.539130  6.806211   \n",
       "E       3.727865  6.944010  4.756510  5.201823  3.679688  5.966146  7.352865   \n",
       "\n",
       "           x2bar    y2bar     xybar     x2ybar     xy2bar    xedge     xedgey  \\\n",
       "letter                                                                          \n",
       "A       2.755387  2.043093  7.802281  2.338403   8.465146  2.771863  6.321926   \n",
       "B       5.366841  5.571802  7.954308  5.506527   6.652742  3.117493  7.919060   \n",
       "C       5.927989  7.177989  8.773098  7.494565  11.947011  1.991848  8.876359   \n",
       "D       5.921739  6.508075  8.166460  5.111801   5.750311  3.365217  7.813665   \n",
       "E       4.223958  7.585938  8.507812  6.242188  10.341146  2.127604  8.298177   \n",
       "\n",
       "          yedge     yedgex  \n",
       "letter                      \n",
       "A       2.875792  7.468948  \n",
       "B       6.612272  9.100522  \n",
       "C       4.080163  8.555707  \n",
       "D       3.971429  7.628571  \n",
       "E       6.022135  8.506510  "
      ]
     },
     "execution_count": 8,
     "metadata": {},
     "output_type": "execute_result"
    }
   ],
   "source": [
    "# getting mean of columns for each alphabet\n",
    "data_train_mean = data_train.groupby('letter').mean()\n",
    "data_train_mean.head()"
   ]
  },
  {
   "cell_type": "markdown",
   "execution_count": null,
   "metadata": {
    "papermill": {
     "duration": 0.007503,
     "end_time": "2020-09-03T10:26:47.578924",
     "exception": false,
     "start_time": "2020-09-03T10:26:47.571421",
     "status": "completed"
    },
    "tags": []
   },
   "source": [
    "# 2. Data Preparation"
   ]
  },
  {
   "cell_type": "code",
   "execution_count": 9,
   "metadata": {
    "execution": {
     "iopub.execute_input": "2020-09-03T10:26:47.600927Z",
     "iopub.status.busy": "2020-09-03T10:26:47.599894Z",
     "iopub.status.idle": "2020-09-03T10:26:47.603893Z",
     "shell.execute_reply": "2020-09-03T10:26:47.603066Z"
    },
    "papermill": {
     "duration": 0.017619,
     "end_time": "2020-09-03T10:26:47.604017",
     "exception": false,
     "start_time": "2020-09-03T10:26:47.586398",
     "status": "completed"
    },
    "tags": []
   },
   "outputs": [],
   "source": [
    "X = data_train.drop(['letter'],axis = 1)\n",
    "y = data_train['letter']"
   ]
  },
  {
   "cell_type": "code",
   "execution_count": 10,
   "metadata": {
    "execution": {
     "iopub.execute_input": "2020-09-03T10:26:47.632435Z",
     "iopub.status.busy": "2020-09-03T10:26:47.631767Z",
     "iopub.status.idle": "2020-09-03T10:26:47.696726Z",
     "shell.execute_reply": "2020-09-03T10:26:47.697204Z"
    },
    "papermill": {
     "duration": 0.081447,
     "end_time": "2020-09-03T10:26:47.697364",
     "exception": false,
     "start_time": "2020-09-03T10:26:47.615917",
     "status": "completed"
    },
    "tags": []
   },
   "outputs": [],
   "source": [
    "# Scaling\n",
    "from sklearn.preprocessing import scale\n",
    "X = scale(X)"
   ]
  },
  {
   "cell_type": "code",
   "execution_count": 11,
   "metadata": {
    "execution": {
     "iopub.execute_input": "2020-09-03T10:26:47.721142Z",
     "iopub.status.busy": "2020-09-03T10:26:47.720495Z",
     "iopub.status.idle": "2020-09-03T10:26:47.777005Z",
     "shell.execute_reply": "2020-09-03T10:26:47.776488Z"
    },
    "papermill": {
     "duration": 0.069309,
     "end_time": "2020-09-03T10:26:47.777114",
     "exception": false,
     "start_time": "2020-09-03T10:26:47.707805",
     "status": "completed"
    },
    "tags": []
   },
   "outputs": [],
   "source": [
    "from sklearn.model_selection import train_test_split\n",
    "\n",
    "# Spliting the dataset into train-test\n",
    "X_train,X_test,y_train,y_test = train_test_split(X,y,train_size=0.7,test_size=0.3,random_state=101)"
   ]
  },
  {
   "cell_type": "markdown",
   "execution_count": null,
   "metadata": {
    "papermill": {
     "duration": 0.007782,
     "end_time": "2020-09-03T10:26:47.792897",
     "exception": false,
     "start_time": "2020-09-03T10:26:47.785115",
     "status": "completed"
    },
    "tags": []
   },
   "source": [
    "# 3. Training a Model"
   ]
  },
  {
   "cell_type": "code",
   "execution_count": 12,
   "metadata": {
    "execution": {
     "iopub.execute_input": "2020-09-03T10:26:47.812887Z",
     "iopub.status.busy": "2020-09-03T10:26:47.812239Z",
     "iopub.status.idle": "2020-09-03T10:26:52.432746Z",
     "shell.execute_reply": "2020-09-03T10:26:52.432043Z"
    },
    "papermill": {
     "duration": 4.632287,
     "end_time": "2020-09-03T10:26:52.432853",
     "exception": false,
     "start_time": "2020-09-03T10:26:47.800566",
     "status": "completed"
    },
    "tags": []
   },
   "outputs": [],
   "source": [
    "from sklearn.svm import SVC\n",
    "\n",
    "# Building a linear SVM model\n",
    "linear_model = SVC(kernel='linear')\n",
    "linear_model.fit(X_train,y_train)\n",
    "\n",
    "y_pred = linear_model.predict(X_test)"
   ]
  },
  {
   "cell_type": "code",
   "execution_count": 13,
   "metadata": {
    "execution": {
     "iopub.execute_input": "2020-09-03T10:26:52.482227Z",
     "iopub.status.busy": "2020-09-03T10:26:52.481161Z",
     "iopub.status.idle": "2020-09-03T10:26:52.489755Z",
     "shell.execute_reply": "2020-09-03T10:26:52.489048Z"
    },
    "papermill": {
     "duration": 0.04897,
     "end_time": "2020-09-03T10:26:52.489891",
     "exception": false,
     "start_time": "2020-09-03T10:26:52.440921",
     "status": "completed"
    },
    "tags": []
   },
   "outputs": [
    {
     "name": "stdout",
     "output_type": "stream",
     "text": [
      "accuracy : 0.8523333333333334 \n",
      "\n",
      "confusion_matrix : [[198   0   0   0   0   0   1   1   0   1   1   1   0   0   0   0   0   1\n",
      "    0   1   1   0   0   0   3   0]\n",
      " [  0 188   0   3   0   1   3   3   1   0   1   0   0   2   0   1   1   9\n",
      "    3   0   0   1   0   1   0   0]\n",
      " [  1   0 200   0   7   0  12   1   0   0   5   0   0   0   3   0   0   0\n",
      "    0   0   1   0   0   0   0   0]\n",
      " [  1  15   0 210   0   1   2   2   1   0   1   0   1   5   3   0   0   5\n",
      "    0   1   0   0   0   0   0   0]\n",
      " [  0   1   3   0 204   2   6   1   0   0   1   5   0   0   0   0   2   2\n",
      "    1   2   0   0   0   1   0   3]\n",
      " [  0   0   0   1   1 201   1   2   1   1   0   0   0   2   0   2   0   0\n",
      "    3   7   1   0   1   0   1   0]\n",
      " [  0   1   9   4   2   2 167   1   0   1   4   3   1   0   1   0   9   1\n",
      "    8   0   0   2   3   0   0   0]\n",
      " [  0   7   3  11   0   4   3 141   0   2   4   1   2   0  12   0   4  12\n",
      "    0   0   4   2   0   4   1   0]\n",
      " [  0   0   2   3   0   6   0   0 184   9   0   0   0   0   1   0   0   0\n",
      "    3   0   0   0   0   4   0   3]\n",
      " [  2   0   0   3   0   2   0   2  10 187   0   0   0   1   2   0   0   1\n",
      "    5   0   1   0   0   0   0   4]\n",
      " [  0   1   5   2   0   0   1   3   0   0 198   2   2   0   0   0   0  19\n",
      "    0   0   0   0   0  12   0   0]\n",
      " [  2   1   3   2   5   0   8   1   0   0   1 206   0   0   0   0   5   0\n",
      "    2   1   0   0   0   0   0   0]\n",
      " [  0   3   0   0   0   0   0   3   0   0   0   0 222   1   0   0   0   2\n",
      "    0   0   0   0   3   0   0   0]\n",
      " [  1   0   0   4   0   0   0   6   0   0   0   0   1 235   1   1   0   0\n",
      "    0   0   0   1   1   0   0   0]\n",
      " [  3   0   4   7   0   0   0  21   0   0   0   0   2   0 163   3   2   3\n",
      "    0   0   3   0  10   0   0   0]\n",
      " [  0   2   0   2   0  16   5   1   0   1   3   0   0   0   1 225   0   0\n",
      "    0   0   0   1   0   0   8   0]\n",
      " [  3   1   0   0   4   0   9   0   0   2   0   1   0   0   6   0 198   0\n",
      "    8   0   0   0   1   0   0   2]\n",
      " [ 11  11   0   2   0   1   6   3   0   0  10   0   0   3   4   0   2 188\n",
      "    0   1   0   0   0   1   0   0]\n",
      " [  1  13   0   0   9   5   8   0   7   1   0   2   0   0   0   1   6   1\n",
      "  155   6   0   0   0   3   0  10]\n",
      " [  0   0   0   1   1   4   2   4   1   0   0   0   0   0   0   0   0   1\n",
      "    3 214   0   0   0   1   1   6]\n",
      " [  2   0   1   2   0   0   0   2   0   0   0   0   1   1   3   0   0   0\n",
      "    0   0 211   0   1   0   0   0]\n",
      " [  2   2   0   0   0   0   1   3   0   0   0   0   0   1   0   1   0   3\n",
      "    0   0   0 190   6   0   2   0]\n",
      " [  0   0   0   0   0   0   1   0   0   0   0   0   6   1   2   0   0   0\n",
      "    0   0   0   0 212   0   0   0]\n",
      " [  0   2   0   4   5   0   1   0   2   3   3   3   0   0   1   0   0   1\n",
      "    2   2   1   0   0 212   1   1]\n",
      " [  2   0   0   0   0   2   0   1   0   0   0   0   1   0   0   0   3   0\n",
      "    0   4   1  10   0   2 211   0]\n",
      " [  1   0   0   0   3   0   0   0   0   6   0   0   0   0   0   0   5   0\n",
      "   18   1   0   0   0   1   0 194]]\n"
     ]
    }
   ],
   "source": [
    "from sklearn import metrics\n",
    "from sklearn.metrics import confusion_matrix\n",
    "\n",
    "# accuracy and confusion matrix\n",
    "print(\"accuracy :\", metrics.accuracy_score(y_true = y_test,y_pred = y_pred), \"\\n\")\n",
    "print(\"confusion_matrix :\", metrics.confusion_matrix(y_true = y_test,y_pred = y_pred))"
   ]
  },
  {
   "cell_type": "code",
   "execution_count": 14,
   "metadata": {
    "execution": {
     "iopub.execute_input": "2020-09-03T10:26:52.526207Z",
     "iopub.status.busy": "2020-09-03T10:26:52.518892Z",
     "iopub.status.idle": "2020-09-03T10:26:59.259785Z",
     "shell.execute_reply": "2020-09-03T10:26:59.260402Z"
    },
    "papermill": {
     "duration": 6.758065,
     "end_time": "2020-09-03T10:26:59.260546",
     "exception": false,
     "start_time": "2020-09-03T10:26:52.502481",
     "status": "completed"
    },
    "tags": []
   },
   "outputs": [],
   "source": [
    "#Building a non-linear SVM model\n",
    "non_linear_model = SVC(kernel = 'rbf')\n",
    "non_linear_model.fit(X_train,y_train)\n",
    "\n",
    "# Predict\n",
    "y_pred = non_linear_model.predict(X_test)"
   ]
  },
  {
   "cell_type": "code",
   "execution_count": 15,
   "metadata": {
    "execution": {
     "iopub.execute_input": "2020-09-03T10:26:59.310576Z",
     "iopub.status.busy": "2020-09-03T10:26:59.309713Z",
     "iopub.status.idle": "2020-09-03T10:26:59.315868Z",
     "shell.execute_reply": "2020-09-03T10:26:59.315048Z"
    },
    "papermill": {
     "duration": 0.047299,
     "end_time": "2020-09-03T10:26:59.315996",
     "exception": false,
     "start_time": "2020-09-03T10:26:59.268697",
     "status": "completed"
    },
    "tags": []
   },
   "outputs": [
    {
     "name": "stdout",
     "output_type": "stream",
     "text": [
      "accuracy : 0.9383333333333334 \n",
      "\n",
      "confusion_matrix : [[205   0   0   1   0   0   0   0   0   1   0   0   0   0   0   0   0   0\n",
      "    0   0   0   0   0   0   2   0]\n",
      " [  0 205   0   3   1   0   1   0   0   0   0   0   0   0   0   0   0   6\n",
      "    1   0   0   0   0   1   0   0]\n",
      " [  0   0 213   0   5   0   7   1   0   0   0   0   0   0   4   0   0   0\n",
      "    0   0   0   0   0   0   0   0]\n",
      " [  0   4   0 234   0   0   1   3   0   0   0   0   0   3   1   0   0   2\n",
      "    0   0   0   0   0   0   0   0]\n",
      " [  0   0   0   0 221   1   9   0   0   0   0   0   0   0   0   0   0   1\n",
      "    0   0   0   0   0   0   0   2]\n",
      " [  0   0   0   1   0 215   1   1   1   0   0   0   0   1   0   1   0   0\n",
      "    1   3   0   0   0   0   0   0]\n",
      " [  0   0   3   4   1   1 202   0   0   0   0   1   1   0   2   0   0   1\n",
      "    0   0   0   1   2   0   0   0]\n",
      " [  0   7   0   5   0   0   4 177   0   0   2   0   1   0   3   0   4  13\n",
      "    0   0   1   0   0   0   0   0]\n",
      " [  0   0   1   1   0   3   0   0 194  11   0   0   0   0   0   1   0   0\n",
      "    2   0   0   0   0   2   0   0]\n",
      " [  1   0   0   1   0   0   0   0   6 206   0   0   0   1   2   0   0   0\n",
      "    2   0   0   0   0   1   0   0]\n",
      " [  0   4   0   2   0   0   0   4   0   0 217   0   1   0   0   0   0  14\n",
      "    0   0   0   0   0   3   0   0]\n",
      " [  0   0   1   0   2   0   6   0   0   0   1 222   0   0   0   0   0   3\n",
      "    0   0   0   0   0   2   0   0]\n",
      " [  0   5   0   0   0   0   0   2   0   0   0   0 225   0   0   0   0   0\n",
      "    0   0   0   0   2   0   0   0]\n",
      " [  0   2   0   1   0   0   0   2   0   0   0   0   1 239   3   0   0   2\n",
      "    0   0   0   0   0   0   1   0]\n",
      " [  0   0   0   1   0   0   0   0   0   0   0   0   0   0 209   0   1   1\n",
      "    0   0   1   0   8   0   0   0]\n",
      " [  0   2   0   3   3  11   1   1   0   0   0   0   0   0   1 237   1   0\n",
      "    0   0   0   0   0   0   5   0]\n",
      " [  0   0   0   0   2   0   2   0   0   0   0   0   0   0   6   0 222   0\n",
      "    1   0   0   0   2   0   0   0]\n",
      " [  0  10   0   2   0   0   0   0   0   0   1   0   0   4   0   0   2 224\n",
      "    0   0   0   0   0   0   0   0]\n",
      " [  0   3   0   0   2   3   0   0   0   0   0   0   0   0   0   0   0   0\n",
      "  220   0   0   0   0   0   0   0]\n",
      " [  0   0   0   1   0   2   0   2   0   0   0   0   0   0   0   1   0   1\n",
      "    0 228   0   0   0   3   1   0]\n",
      " [  0   0   0   0   0   0   0   0   0   0   0   0   0   1   1   0   0   0\n",
      "    0   0 222   0   0   0   0   0]\n",
      " [  0   7   0   0   0   0   0   1   0   0   0   0   1   4   0   1   0   0\n",
      "    0   0   0 193   1   0   3   0]\n",
      " [  0   1   0   0   0   0   1   1   0   0   0   0   0   1   0   0   0   0\n",
      "    0   0   1   0 217   0   0   0]\n",
      " [  0   2   0   3   2   0   0   0   1   0   2   0   0   0   0   0   0   1\n",
      "    0   0   0   0   0 233   0   0]\n",
      " [  2   0   0   0   0   0   0   0   0   0   0   0   1   0   0   0   1   0\n",
      "    0   1   2   2   0   0 228   0]\n",
      " [  0   0   0   0   2   0   0   0   0   0   0   0   0   0   0   0   4   0\n",
      "    1   0   0   0   0   0   0 222]]\n"
     ]
    }
   ],
   "source": [
    "# accuracy and confusion matrix for non-linear SVM model\n",
    "print(\"accuracy :\", metrics.accuracy_score(y_true = y_test,y_pred = y_pred), \"\\n\")\n",
    "print(\"confusion_matrix :\", metrics.confusion_matrix(y_true = y_test,y_pred = y_pred))"
   ]
  },
  {
   "cell_type": "markdown",
   "execution_count": null,
   "metadata": {
    "papermill": {
     "duration": 0.012026,
     "end_time": "2020-09-03T10:26:59.340802",
     "exception": false,
     "start_time": "2020-09-03T10:26:59.328776",
     "status": "completed"
    },
    "tags": []
   },
   "source": [
    "1. Accuracy Score by linear SVM - 85.2\n",
    "2. Accuracy Score by Non linear SVM -93.8"
   ]
  },
  {
   "cell_type": "markdown",
   "execution_count": null,
   "metadata": {
    "papermill": {
     "duration": 0.012384,
     "end_time": "2020-09-03T10:26:59.365451",
     "exception": false,
     "start_time": "2020-09-03T10:26:59.353067",
     "status": "completed"
    },
    "tags": []
   },
   "source": [
    "Hyperparameters tuning :\n",
    "For given problem statement we have multiple hyperparameters to optimise -\n",
    "1. Selection of Kernel(linear, rbf)\n",
    "2. C\n",
    "3. Gamma"
   ]
  },
  {
   "cell_type": "markdown",
   "execution_count": null,
   "metadata": {
    "papermill": {
     "duration": 0.012313,
     "end_time": "2020-09-03T10:26:59.390366",
     "exception": false,
     "start_time": "2020-09-03T10:26:59.378053",
     "status": "completed"
    },
    "tags": []
   },
   "source": [
    "# 4. Hypertuning using Grid-Search"
   ]
  },
  {
   "cell_type": "code",
   "execution_count": 16,
   "metadata": {
    "execution": {
     "iopub.execute_input": "2020-09-03T10:26:59.424743Z",
     "iopub.status.busy": "2020-09-03T10:26:59.423704Z",
     "iopub.status.idle": "2020-09-03T10:40:15.643581Z",
     "shell.execute_reply": "2020-09-03T10:40:15.642938Z"
    },
    "papermill": {
     "duration": 796.240719,
     "end_time": "2020-09-03T10:40:15.643686",
     "exception": false,
     "start_time": "2020-09-03T10:26:59.402967",
     "status": "completed"
    },
    "tags": []
   },
   "outputs": [
    {
     "name": "stdout",
     "output_type": "stream",
     "text": [
      "Fitting 5 folds for each of 12 candidates, totalling 60 fits\n"
     ]
    },
    {
     "name": "stderr",
     "output_type": "stream",
     "text": [
      "[Parallel(n_jobs=1)]: Using backend SequentialBackend with 1 concurrent workers.\n",
      "[Parallel(n_jobs=1)]: Done  60 out of  60 | elapsed: 13.2min finished\n"
     ]
    },
    {
     "data": {
      "text/plain": [
       "GridSearchCV(cv=KFold(n_splits=5, random_state=101, shuffle=True),\n",
       "             estimator=SVC(),\n",
       "             param_grid=[{'C': [1, 10, 100, 1000],\n",
       "                          'gamma': [0.01, 0.001, 0.0001]}],\n",
       "             return_train_score=True, scoring='accuracy', verbose=1)"
      ]
     },
     "execution_count": 16,
     "metadata": {},
     "output_type": "execute_result"
    }
   ],
   "source": [
    "# hypertuning\n",
    "from sklearn.model_selection import KFold\n",
    "from sklearn.model_selection import cross_val_score\n",
    "from sklearn.model_selection import GridSearchCV\n",
    "\n",
    "# creating a KFold object with 5 splits \n",
    "folds = KFold(n_splits = 5, shuffle = True, random_state = 101)\n",
    "\n",
    "# specify range of hyperparameters\n",
    "# Set the parameters by cross-validation\n",
    "hyper_params = [ {'gamma': [1e-2, 1e-3, 1e-4],\n",
    "                     'C': [1, 10, 100, 1000]}]\n",
    "\n",
    "\n",
    "# specify model\n",
    "model = SVC(kernel=\"rbf\")\n",
    "\n",
    "# set up GridSearchCV()\n",
    "model_cv = GridSearchCV(estimator = model, \n",
    "                        param_grid = hyper_params, \n",
    "                        scoring= 'accuracy', \n",
    "                        cv = folds, \n",
    "                        verbose = 1,\n",
    "                        return_train_score=True)      \n",
    "\n",
    "# fit the model\n",
    "model_cv.fit(X_train, y_train)                  \n"
   ]
  },
  {
   "cell_type": "code",
   "execution_count": 17,
   "metadata": {
    "execution": {
     "iopub.execute_input": "2020-09-03T10:40:15.678127Z",
     "iopub.status.busy": "2020-09-03T10:40:15.670504Z",
     "iopub.status.idle": "2020-09-03T10:40:15.704502Z",
     "shell.execute_reply": "2020-09-03T10:40:15.703979Z"
    },
    "papermill": {
     "duration": 0.052487,
     "end_time": "2020-09-03T10:40:15.704604",
     "exception": false,
     "start_time": "2020-09-03T10:40:15.652117",
     "status": "completed"
    },
    "tags": []
   },
   "outputs": [
    {
     "data": {
      "text/html": [
       "<div>\n",
       "<style scoped>\n",
       "    .dataframe tbody tr th:only-of-type {\n",
       "        vertical-align: middle;\n",
       "    }\n",
       "\n",
       "    .dataframe tbody tr th {\n",
       "        vertical-align: top;\n",
       "    }\n",
       "\n",
       "    .dataframe thead th {\n",
       "        text-align: right;\n",
       "    }\n",
       "</style>\n",
       "<table border=\"1\" class=\"dataframe\">\n",
       "  <thead>\n",
       "    <tr style=\"text-align: right;\">\n",
       "      <th></th>\n",
       "      <th>mean_fit_time</th>\n",
       "      <th>std_fit_time</th>\n",
       "      <th>mean_score_time</th>\n",
       "      <th>std_score_time</th>\n",
       "      <th>param_C</th>\n",
       "      <th>param_gamma</th>\n",
       "      <th>params</th>\n",
       "      <th>split0_test_score</th>\n",
       "      <th>split1_test_score</th>\n",
       "      <th>split2_test_score</th>\n",
       "      <th>...</th>\n",
       "      <th>mean_test_score</th>\n",
       "      <th>std_test_score</th>\n",
       "      <th>rank_test_score</th>\n",
       "      <th>split0_train_score</th>\n",
       "      <th>split1_train_score</th>\n",
       "      <th>split2_train_score</th>\n",
       "      <th>split3_train_score</th>\n",
       "      <th>split4_train_score</th>\n",
       "      <th>mean_train_score</th>\n",
       "      <th>std_train_score</th>\n",
       "    </tr>\n",
       "  </thead>\n",
       "  <tbody>\n",
       "    <tr>\n",
       "      <th>0</th>\n",
       "      <td>3.248212</td>\n",
       "      <td>0.221713</td>\n",
       "      <td>1.789803</td>\n",
       "      <td>0.010888</td>\n",
       "      <td>1</td>\n",
       "      <td>0.01</td>\n",
       "      <td>{'C': 1, 'gamma': 0.01}</td>\n",
       "      <td>0.826429</td>\n",
       "      <td>0.834643</td>\n",
       "      <td>0.828571</td>\n",
       "      <td>...</td>\n",
       "      <td>0.832714</td>\n",
       "      <td>0.006221</td>\n",
       "      <td>7</td>\n",
       "      <td>0.843929</td>\n",
       "      <td>0.844196</td>\n",
       "      <td>0.847679</td>\n",
       "      <td>0.843571</td>\n",
       "      <td>0.844018</td>\n",
       "      <td>0.844679</td>\n",
       "      <td>0.001514</td>\n",
       "    </tr>\n",
       "    <tr>\n",
       "      <th>1</th>\n",
       "      <td>7.364371</td>\n",
       "      <td>1.081142</td>\n",
       "      <td>2.508698</td>\n",
       "      <td>0.544182</td>\n",
       "      <td>1</td>\n",
       "      <td>0.001</td>\n",
       "      <td>{'C': 1, 'gamma': 0.001}</td>\n",
       "      <td>0.684643</td>\n",
       "      <td>0.672500</td>\n",
       "      <td>0.682500</td>\n",
       "      <td>...</td>\n",
       "      <td>0.677214</td>\n",
       "      <td>0.005622</td>\n",
       "      <td>10</td>\n",
       "      <td>0.682054</td>\n",
       "      <td>0.683125</td>\n",
       "      <td>0.687946</td>\n",
       "      <td>0.679554</td>\n",
       "      <td>0.686429</td>\n",
       "      <td>0.683821</td>\n",
       "      <td>0.003021</td>\n",
       "    </tr>\n",
       "    <tr>\n",
       "      <th>2</th>\n",
       "      <td>16.233263</td>\n",
       "      <td>2.321817</td>\n",
       "      <td>2.739265</td>\n",
       "      <td>0.790813</td>\n",
       "      <td>1</td>\n",
       "      <td>0.0001</td>\n",
       "      <td>{'C': 1, 'gamma': 0.0001}</td>\n",
       "      <td>0.203929</td>\n",
       "      <td>0.207143</td>\n",
       "      <td>0.206429</td>\n",
       "      <td>...</td>\n",
       "      <td>0.217571</td>\n",
       "      <td>0.014490</td>\n",
       "      <td>12</td>\n",
       "      <td>0.212679</td>\n",
       "      <td>0.217589</td>\n",
       "      <td>0.228393</td>\n",
       "      <td>0.240625</td>\n",
       "      <td>0.240625</td>\n",
       "      <td>0.227982</td>\n",
       "      <td>0.011507</td>\n",
       "    </tr>\n",
       "    <tr>\n",
       "      <th>3</th>\n",
       "      <td>1.894781</td>\n",
       "      <td>0.062608</td>\n",
       "      <td>1.384813</td>\n",
       "      <td>0.306929</td>\n",
       "      <td>10</td>\n",
       "      <td>0.01</td>\n",
       "      <td>{'C': 10, 'gamma': 0.01}</td>\n",
       "      <td>0.914643</td>\n",
       "      <td>0.908571</td>\n",
       "      <td>0.902500</td>\n",
       "      <td>...</td>\n",
       "      <td>0.911214</td>\n",
       "      <td>0.005654</td>\n",
       "      <td>3</td>\n",
       "      <td>0.929643</td>\n",
       "      <td>0.929464</td>\n",
       "      <td>0.930357</td>\n",
       "      <td>0.928929</td>\n",
       "      <td>0.928125</td>\n",
       "      <td>0.929304</td>\n",
       "      <td>0.000746</td>\n",
       "    </tr>\n",
       "    <tr>\n",
       "      <th>4</th>\n",
       "      <td>3.758603</td>\n",
       "      <td>0.946963</td>\n",
       "      <td>2.125921</td>\n",
       "      <td>0.513406</td>\n",
       "      <td>10</td>\n",
       "      <td>0.001</td>\n",
       "      <td>{'C': 10, 'gamma': 0.001}</td>\n",
       "      <td>0.805714</td>\n",
       "      <td>0.809643</td>\n",
       "      <td>0.803571</td>\n",
       "      <td>...</td>\n",
       "      <td>0.808929</td>\n",
       "      <td>0.006227</td>\n",
       "      <td>8</td>\n",
       "      <td>0.818125</td>\n",
       "      <td>0.817679</td>\n",
       "      <td>0.819643</td>\n",
       "      <td>0.814375</td>\n",
       "      <td>0.819464</td>\n",
       "      <td>0.817857</td>\n",
       "      <td>0.001897</td>\n",
       "    </tr>\n",
       "    <tr>\n",
       "      <th>5</th>\n",
       "      <td>7.671123</td>\n",
       "      <td>2.187489</td>\n",
       "      <td>2.252778</td>\n",
       "      <td>0.026173</td>\n",
       "      <td>10</td>\n",
       "      <td>0.0001</td>\n",
       "      <td>{'C': 10, 'gamma': 0.0001}</td>\n",
       "      <td>0.684286</td>\n",
       "      <td>0.671071</td>\n",
       "      <td>0.682500</td>\n",
       "      <td>...</td>\n",
       "      <td>0.677000</td>\n",
       "      <td>0.005788</td>\n",
       "      <td>11</td>\n",
       "      <td>0.681875</td>\n",
       "      <td>0.683304</td>\n",
       "      <td>0.687500</td>\n",
       "      <td>0.680089</td>\n",
       "      <td>0.685446</td>\n",
       "      <td>0.683643</td>\n",
       "      <td>0.002608</td>\n",
       "    </tr>\n",
       "    <tr>\n",
       "      <th>6</th>\n",
       "      <td>2.406010</td>\n",
       "      <td>0.563496</td>\n",
       "      <td>1.004986</td>\n",
       "      <td>0.201724</td>\n",
       "      <td>100</td>\n",
       "      <td>0.01</td>\n",
       "      <td>{'C': 100, 'gamma': 0.01}</td>\n",
       "      <td>0.948571</td>\n",
       "      <td>0.946786</td>\n",
       "      <td>0.941429</td>\n",
       "      <td>...</td>\n",
       "      <td>0.947786</td>\n",
       "      <td>0.003742</td>\n",
       "      <td>2</td>\n",
       "      <td>0.978482</td>\n",
       "      <td>0.977946</td>\n",
       "      <td>0.978393</td>\n",
       "      <td>0.978661</td>\n",
       "      <td>0.978571</td>\n",
       "      <td>0.978411</td>\n",
       "      <td>0.000249</td>\n",
       "    </tr>\n",
       "    <tr>\n",
       "      <th>7</th>\n",
       "      <td>2.554952</td>\n",
       "      <td>0.589721</td>\n",
       "      <td>1.286663</td>\n",
       "      <td>0.009871</td>\n",
       "      <td>100</td>\n",
       "      <td>0.001</td>\n",
       "      <td>{'C': 100, 'gamma': 0.001}</td>\n",
       "      <td>0.861071</td>\n",
       "      <td>0.866071</td>\n",
       "      <td>0.850357</td>\n",
       "      <td>...</td>\n",
       "      <td>0.863357</td>\n",
       "      <td>0.008074</td>\n",
       "      <td>5</td>\n",
       "      <td>0.879554</td>\n",
       "      <td>0.877143</td>\n",
       "      <td>0.882143</td>\n",
       "      <td>0.875536</td>\n",
       "      <td>0.879464</td>\n",
       "      <td>0.878768</td>\n",
       "      <td>0.002262</td>\n",
       "    </tr>\n",
       "    <tr>\n",
       "      <th>8</th>\n",
       "      <td>3.255606</td>\n",
       "      <td>0.239158</td>\n",
       "      <td>1.802905</td>\n",
       "      <td>0.030106</td>\n",
       "      <td>100</td>\n",
       "      <td>0.0001</td>\n",
       "      <td>{'C': 100, 'gamma': 0.0001}</td>\n",
       "      <td>0.801071</td>\n",
       "      <td>0.806429</td>\n",
       "      <td>0.803929</td>\n",
       "      <td>...</td>\n",
       "      <td>0.805714</td>\n",
       "      <td>0.006140</td>\n",
       "      <td>9</td>\n",
       "      <td>0.813571</td>\n",
       "      <td>0.812679</td>\n",
       "      <td>0.814286</td>\n",
       "      <td>0.810000</td>\n",
       "      <td>0.815357</td>\n",
       "      <td>0.813179</td>\n",
       "      <td>0.001815</td>\n",
       "    </tr>\n",
       "    <tr>\n",
       "      <th>9</th>\n",
       "      <td>2.431518</td>\n",
       "      <td>0.266779</td>\n",
       "      <td>0.829975</td>\n",
       "      <td>0.009408</td>\n",
       "      <td>1000</td>\n",
       "      <td>0.01</td>\n",
       "      <td>{'C': 1000, 'gamma': 0.01}</td>\n",
       "      <td>0.953571</td>\n",
       "      <td>0.949643</td>\n",
       "      <td>0.948571</td>\n",
       "      <td>...</td>\n",
       "      <td>0.951714</td>\n",
       "      <td>0.002183</td>\n",
       "      <td>1</td>\n",
       "      <td>0.997054</td>\n",
       "      <td>0.997768</td>\n",
       "      <td>0.997411</td>\n",
       "      <td>0.997321</td>\n",
       "      <td>0.997232</td>\n",
       "      <td>0.997357</td>\n",
       "      <td>0.000237</td>\n",
       "    </tr>\n",
       "    <tr>\n",
       "      <th>10</th>\n",
       "      <td>2.760856</td>\n",
       "      <td>0.464435</td>\n",
       "      <td>1.061721</td>\n",
       "      <td>0.167803</td>\n",
       "      <td>1000</td>\n",
       "      <td>0.001</td>\n",
       "      <td>{'C': 1000, 'gamma': 0.001}</td>\n",
       "      <td>0.897500</td>\n",
       "      <td>0.895714</td>\n",
       "      <td>0.889643</td>\n",
       "      <td>...</td>\n",
       "      <td>0.898357</td>\n",
       "      <td>0.006197</td>\n",
       "      <td>4</td>\n",
       "      <td>0.931339</td>\n",
       "      <td>0.927679</td>\n",
       "      <td>0.931607</td>\n",
       "      <td>0.927589</td>\n",
       "      <td>0.931696</td>\n",
       "      <td>0.929982</td>\n",
       "      <td>0.001921</td>\n",
       "    </tr>\n",
       "    <tr>\n",
       "      <th>11</th>\n",
       "      <td>2.592529</td>\n",
       "      <td>0.754143</td>\n",
       "      <td>1.482412</td>\n",
       "      <td>0.361814</td>\n",
       "      <td>1000</td>\n",
       "      <td>0.0001</td>\n",
       "      <td>{'C': 1000, 'gamma': 0.0001}</td>\n",
       "      <td>0.844643</td>\n",
       "      <td>0.848214</td>\n",
       "      <td>0.829286</td>\n",
       "      <td>...</td>\n",
       "      <td>0.844357</td>\n",
       "      <td>0.008717</td>\n",
       "      <td>6</td>\n",
       "      <td>0.860982</td>\n",
       "      <td>0.858482</td>\n",
       "      <td>0.864018</td>\n",
       "      <td>0.858304</td>\n",
       "      <td>0.861607</td>\n",
       "      <td>0.860679</td>\n",
       "      <td>0.002125</td>\n",
       "    </tr>\n",
       "  </tbody>\n",
       "</table>\n",
       "<p>12 rows × 22 columns</p>\n",
       "</div>"
      ],
      "text/plain": [
       "    mean_fit_time  std_fit_time  mean_score_time  std_score_time param_C  \\\n",
       "0        3.248212      0.221713         1.789803        0.010888       1   \n",
       "1        7.364371      1.081142         2.508698        0.544182       1   \n",
       "2       16.233263      2.321817         2.739265        0.790813       1   \n",
       "3        1.894781      0.062608         1.384813        0.306929      10   \n",
       "4        3.758603      0.946963         2.125921        0.513406      10   \n",
       "5        7.671123      2.187489         2.252778        0.026173      10   \n",
       "6        2.406010      0.563496         1.004986        0.201724     100   \n",
       "7        2.554952      0.589721         1.286663        0.009871     100   \n",
       "8        3.255606      0.239158         1.802905        0.030106     100   \n",
       "9        2.431518      0.266779         0.829975        0.009408    1000   \n",
       "10       2.760856      0.464435         1.061721        0.167803    1000   \n",
       "11       2.592529      0.754143         1.482412        0.361814    1000   \n",
       "\n",
       "   param_gamma                        params  split0_test_score  \\\n",
       "0         0.01       {'C': 1, 'gamma': 0.01}           0.826429   \n",
       "1        0.001      {'C': 1, 'gamma': 0.001}           0.684643   \n",
       "2       0.0001     {'C': 1, 'gamma': 0.0001}           0.203929   \n",
       "3         0.01      {'C': 10, 'gamma': 0.01}           0.914643   \n",
       "4        0.001     {'C': 10, 'gamma': 0.001}           0.805714   \n",
       "5       0.0001    {'C': 10, 'gamma': 0.0001}           0.684286   \n",
       "6         0.01     {'C': 100, 'gamma': 0.01}           0.948571   \n",
       "7        0.001    {'C': 100, 'gamma': 0.001}           0.861071   \n",
       "8       0.0001   {'C': 100, 'gamma': 0.0001}           0.801071   \n",
       "9         0.01    {'C': 1000, 'gamma': 0.01}           0.953571   \n",
       "10       0.001   {'C': 1000, 'gamma': 0.001}           0.897500   \n",
       "11      0.0001  {'C': 1000, 'gamma': 0.0001}           0.844643   \n",
       "\n",
       "    split1_test_score  split2_test_score  ...  mean_test_score  \\\n",
       "0            0.834643           0.828571  ...         0.832714   \n",
       "1            0.672500           0.682500  ...         0.677214   \n",
       "2            0.207143           0.206429  ...         0.217571   \n",
       "3            0.908571           0.902500  ...         0.911214   \n",
       "4            0.809643           0.803571  ...         0.808929   \n",
       "5            0.671071           0.682500  ...         0.677000   \n",
       "6            0.946786           0.941429  ...         0.947786   \n",
       "7            0.866071           0.850357  ...         0.863357   \n",
       "8            0.806429           0.803929  ...         0.805714   \n",
       "9            0.949643           0.948571  ...         0.951714   \n",
       "10           0.895714           0.889643  ...         0.898357   \n",
       "11           0.848214           0.829286  ...         0.844357   \n",
       "\n",
       "    std_test_score  rank_test_score  split0_train_score  split1_train_score  \\\n",
       "0         0.006221                7            0.843929            0.844196   \n",
       "1         0.005622               10            0.682054            0.683125   \n",
       "2         0.014490               12            0.212679            0.217589   \n",
       "3         0.005654                3            0.929643            0.929464   \n",
       "4         0.006227                8            0.818125            0.817679   \n",
       "5         0.005788               11            0.681875            0.683304   \n",
       "6         0.003742                2            0.978482            0.977946   \n",
       "7         0.008074                5            0.879554            0.877143   \n",
       "8         0.006140                9            0.813571            0.812679   \n",
       "9         0.002183                1            0.997054            0.997768   \n",
       "10        0.006197                4            0.931339            0.927679   \n",
       "11        0.008717                6            0.860982            0.858482   \n",
       "\n",
       "    split2_train_score  split3_train_score  split4_train_score  \\\n",
       "0             0.847679            0.843571            0.844018   \n",
       "1             0.687946            0.679554            0.686429   \n",
       "2             0.228393            0.240625            0.240625   \n",
       "3             0.930357            0.928929            0.928125   \n",
       "4             0.819643            0.814375            0.819464   \n",
       "5             0.687500            0.680089            0.685446   \n",
       "6             0.978393            0.978661            0.978571   \n",
       "7             0.882143            0.875536            0.879464   \n",
       "8             0.814286            0.810000            0.815357   \n",
       "9             0.997411            0.997321            0.997232   \n",
       "10            0.931607            0.927589            0.931696   \n",
       "11            0.864018            0.858304            0.861607   \n",
       "\n",
       "    mean_train_score  std_train_score  \n",
       "0           0.844679         0.001514  \n",
       "1           0.683821         0.003021  \n",
       "2           0.227982         0.011507  \n",
       "3           0.929304         0.000746  \n",
       "4           0.817857         0.001897  \n",
       "5           0.683643         0.002608  \n",
       "6           0.978411         0.000249  \n",
       "7           0.878768         0.002262  \n",
       "8           0.813179         0.001815  \n",
       "9           0.997357         0.000237  \n",
       "10          0.929982         0.001921  \n",
       "11          0.860679         0.002125  \n",
       "\n",
       "[12 rows x 22 columns]"
      ]
     },
     "execution_count": 17,
     "metadata": {},
     "output_type": "execute_result"
    }
   ],
   "source": [
    "# cv results\n",
    "cv_results = pd.DataFrame(model_cv.cv_results_)\n",
    "cv_results"
   ]
  },
  {
   "cell_type": "code",
   "execution_count": 18,
   "metadata": {
    "execution": {
     "iopub.execute_input": "2020-09-03T10:40:15.738228Z",
     "iopub.status.busy": "2020-09-03T10:40:15.737619Z",
     "iopub.status.idle": "2020-09-03T10:40:17.074644Z",
     "shell.execute_reply": "2020-09-03T10:40:17.074101Z"
    },
    "papermill": {
     "duration": 1.360969,
     "end_time": "2020-09-03T10:40:17.074755",
     "exception": false,
     "start_time": "2020-09-03T10:40:15.713786",
     "status": "completed"
    },
    "tags": []
   },
   "outputs": [
    {
     "data": {
      "image/png": "[encoded data removed]",
      "text/plain": [
       "<Figure size 1152x432 with 3 Axes>"
      ]
     },
     "metadata": {
      "needs_background": "light"
     },
     "output_type": "display_data"
    }
   ],
   "source": [
    "# converting C to numeric type for plotting on x-axis\n",
    "cv_results['param_C'] = cv_results['param_C'].astype('int')\n",
    "\n",
    "# # plotting\n",
    "plt.figure(figsize=(16,6))\n",
    "\n",
    "# subplot 1/3\n",
    "plt.subplot(131)\n",
    "gamma_01 = cv_results[cv_results['param_gamma']==0.01]\n",
    "\n",
    "plt.plot(gamma_01[\"param_C\"], gamma_01[\"mean_test_score\"])\n",
    "plt.plot(gamma_01[\"param_C\"], gamma_01[\"mean_train_score\"])\n",
    "plt.xlabel('C')\n",
    "plt.ylabel('Accuracy')\n",
    "plt.title(\"Gamma=0.01\")\n",
    "plt.ylim([0.60, 1])\n",
    "plt.legend(['test accuracy', 'train accuracy'], loc='upper left')\n",
    "plt.xscale('log')\n",
    "\n",
    "# subplot 2/3\n",
    "plt.subplot(132)\n",
    "gamma_001 = cv_results[cv_results['param_gamma']==0.001]\n",
    "\n",
    "plt.plot(gamma_001[\"param_C\"], gamma_001[\"mean_test_score\"])\n",
    "plt.plot(gamma_001[\"param_C\"], gamma_001[\"mean_train_score\"])\n",
    "plt.xlabel('C')\n",
    "plt.ylabel('Accuracy')\n",
    "plt.title(\"Gamma=0.001\")\n",
    "plt.ylim([0.60, 1])\n",
    "plt.legend(['test accuracy', 'train accuracy'], loc='upper left')\n",
    "plt.xscale('log')\n",
    "\n",
    "\n",
    "# subplot 3/3\n",
    "plt.subplot(133)\n",
    "gamma_0001 = cv_results[cv_results['param_gamma']==0.0001]\n",
    "\n",
    "plt.plot(gamma_0001[\"param_C\"], gamma_0001[\"mean_test_score\"])\n",
    "plt.plot(gamma_0001[\"param_C\"], gamma_0001[\"mean_train_score\"])\n",
    "plt.xlabel('C')\n",
    "plt.ylabel('Accuracy')\n",
    "plt.title(\"Gamma=0.0001\")\n",
    "plt.ylim([0.60, 1])\n",
    "plt.legend(['test accuracy', 'train accuracy'], loc='upper left')\n",
    "plt.xscale('log')\n"
   ]
  },
  {
   "cell_type": "markdown",
   "execution_count": null,
   "metadata": {
    "papermill": {
     "duration": 0.010191,
     "end_time": "2020-09-03T10:40:17.096153",
     "exception": false,
     "start_time": "2020-09-03T10:40:17.085962",
     "status": "completed"
    },
    "tags": []
   },
   "source": [
    " **Observations -** \n",
    " 1. When  the value of Gamma is low then accuracy is also quite low.\n",
    " 2. Gamma value increases, accuracy also increases.\n",
    " 3. Accordingly we will be select the C- values."
   ]
  },
  {
   "cell_type": "code",
   "execution_count": 19,
   "metadata": {
    "execution": {
     "iopub.execute_input": "2020-09-03T10:40:17.121159Z",
     "iopub.status.busy": "2020-09-03T10:40:17.120327Z",
     "iopub.status.idle": "2020-09-03T10:40:17.125612Z",
     "shell.execute_reply": "2020-09-03T10:40:17.126093Z"
    },
    "papermill": {
     "duration": 0.020512,
     "end_time": "2020-09-03T10:40:17.126247",
     "exception": false,
     "start_time": "2020-09-03T10:40:17.105735",
     "status": "completed"
    },
    "tags": []
   },
   "outputs": [
    {
     "name": "stdout",
     "output_type": "stream",
     "text": [
      "The best test score is 0.9517142857142857 corresponding to hyperparameters {'C': 1000, 'gamma': 0.01}\n"
     ]
    }
   ],
   "source": [
    "# printing the optimal accuracy score and hyperparameters\n",
    "best_score = model_cv.best_score_\n",
    "best_hyperparams = model_cv.best_params_\n",
    "\n",
    "print(\"The best test score is {0} corresponding to hyperparameters {1}\".format(best_score, best_hyperparams))"
   ]
  },
  {
   "cell_type": "markdown",
   "execution_count": null,
   "metadata": {
    "papermill": {
     "duration": 0.009372,
     "end_time": "2020-09-03T10:40:17.145730",
     "exception": false,
     "start_time": "2020-09-03T10:40:17.136358",
     "status": "completed"
    },
    "tags": []
   },
   "source": [
    "# 5. Building and Evaluating a final model with optimal C and gamma value"
   ]
  },
  {
   "cell_type": "code",
   "execution_count": 20,
   "metadata": {
    "execution": {
     "iopub.execute_input": "2020-09-03T10:40:17.171706Z",
     "iopub.status.busy": "2020-09-03T10:40:17.170866Z",
     "iopub.status.idle": "2020-09-03T10:40:22.258083Z",
     "shell.execute_reply": "2020-09-03T10:40:22.258957Z"
    },
    "papermill": {
     "duration": 5.103462,
     "end_time": "2020-09-03T10:40:22.259155",
     "exception": false,
     "start_time": "2020-09-03T10:40:17.155693",
     "status": "completed"
    },
    "tags": []
   },
   "outputs": [
    {
     "name": "stdout",
     "output_type": "stream",
     "text": [
      "accuracy 0.9596666666666667 \n",
      "\n",
      "[[206   0   0   0   0   0   0   0   0   0   0   1   0   0   0   0   0   0\n",
      "    0   0   0   0   0   0   2   0]\n",
      " [  0 211   0   2   1   0   1   0   0   0   0   0   0   0   0   0   0   1\n",
      "    2   0   0   0   0   0   0   0]\n",
      " [  0   0 220   0   3   0   4   1   0   0   0   0   0   0   2   0   0   0\n",
      "    0   0   0   0   0   0   0   0]\n",
      " [  0   3   0 236   0   1   0   1   0   1   0   0   0   2   2   0   0   1\n",
      "    1   0   0   0   0   0   0   0]\n",
      " [  0   0   1   0 225   1   4   0   0   0   0   0   0   0   0   0   0   0\n",
      "    1   0   0   0   0   0   0   2]\n",
      " [  0   0   0   1   0 217   0   0   1   1   0   0   0   1   0   3   0   0\n",
      "    0   0   0   1   0   0   0   0]\n",
      " [  0   0   2   3   1   0 209   0   0   0   0   0   1   0   1   0   0   0\n",
      "    0   0   0   1   1   0   0   0]\n",
      " [  0   1   3   5   0   0   2 195   1   1   2   1   1   0   1   0   3   1\n",
      "    0   0   0   0   0   0   0   0]\n",
      " [  0   0   0   1   0   1   0   0 203   8   0   0   0   0   0   0   1   0\n",
      "    0   0   0   0   0   1   0   0]\n",
      " [  0   0   0   0   0   0   0   0   7 209   0   0   0   1   0   0   0   1\n",
      "    0   0   2   0   0   0   0   0]\n",
      " [  0   1   0   0   2   0   0   5   0   0 228   0   0   0   0   0   0   5\n",
      "    0   0   0   0   0   4   0   0]\n",
      " [  0   0   0   0   0   0   1   1   0   0   0 232   0   0   0   1   0   1\n",
      "    0   1   0   0   0   0   0   0]\n",
      " [  0   0   0   0   0   0   0   0   0   0   0   0 230   2   0   0   0   0\n",
      "    0   0   0   0   2   0   0   0]\n",
      " [  0   3   0   1   0   0   0   0   0   0   0   0   1 244   0   0   0   1\n",
      "    0   0   0   0   1   0   0   0]\n",
      " [  0   0   2   0   0   0   2   0   0   1   0   0   2   0 210   0   1   1\n",
      "    0   0   1   0   1   0   0   0]\n",
      " [  0   0   0   0   1   8   0   1   1   0   0   0   0   0   0 252   1   0\n",
      "    0   0   0   0   0   0   1   0]\n",
      " [  0   0   0   0   3   0   1   0   0   0   0   0   0   0   2   1 226   0\n",
      "    0   0   0   0   0   0   0   2]\n",
      " [  0   8   0   1   0   0   1   3   0   0   3   0   0   3   0   0   0 224\n",
      "    0   0   0   0   0   0   0   0]\n",
      " [  0   1   0   0   1   2   1   0   0   0   0   0   0   0   0   0   0   0\n",
      "  223   0   0   0   0   0   0   0]\n",
      " [  0   0   0   1   0   0   0   1   0   0   0   0   0   0   0   1   0   0\n",
      "    0 235   0   0   0   1   0   0]\n",
      " [  2   0   0   0   0   0   1   2   0   0   0   0   0   2   0   0   0   0\n",
      "    0   0 217   0   0   0   0   0]\n",
      " [  0   4   0   0   0   0   0   0   0   0   0   0   1   0   0   1   0   0\n",
      "    0   0   0 203   1   0   1   0]\n",
      " [  0   0   0   0   0   0   1   0   0   0   0   0   0   0   0   1   0   0\n",
      "    0   0   0   0 220   0   0   0]\n",
      " [  0   1   0   3   2   0   0   0   0   0   3   1   0   0   0   0   0   1\n",
      "    0   0   0   0   0 232   1   0]\n",
      " [  1   0   0   0   0   0   0   0   0   1   0   0   0   0   0   0   0   0\n",
      "    1   0   1   2   1   0 230   0]\n",
      " [  0   0   0   0   2   1   0   0   0   0   0   0   0   0   0   0   3   0\n",
      "    1   1   0   0   0   0   0 221]] \n",
      "\n"
     ]
    }
   ],
   "source": [
    "# Building and Evaluating a final model\n",
    "# model with optimal hyperparameters\n",
    "\n",
    "# model\n",
    "model = SVC(C=1000, gamma=0.01, kernel=\"rbf\")\n",
    "\n",
    "model.fit(X_train, y_train)\n",
    "y_pred = model.predict(X_test)\n",
    "\n",
    "# metrics\n",
    "print(\"accuracy\", metrics.accuracy_score(y_test, y_pred), \"\\n\")\n",
    "print(metrics.confusion_matrix(y_test, y_pred), \"\\n\")"
   ]
  },
  {
   "cell_type": "markdown",
   "execution_count": null,
   "metadata": {
    "papermill": {
     "duration": 0.014815,
     "end_time": "2020-09-03T10:40:22.290693",
     "exception": false,
     "start_time": "2020-09-03T10:40:22.275878",
     "status": "completed"
    },
    "tags": []
   },
   "source": [
    "Hence optimal value of Gamma and C are 0.01 and 1000 respectively.Therefore building a model with optimal value give the accuracy score of 0.956."
   ]
  }
 ],
 "metadata": {
  "kernelspec": {
   "display_name": "Python 3",
   "language": "python",
   "name": "python3"
  },
  "language_info": {
   "codemirror_mode": {
    "name": "ipython",
    "version": 3
   },
   "file_extension": ".py",
   "mimetype": "text/x-python",
   "name": "python",
   "nbconvert_exporter": "python",
   "pygments_lexer": "ipython3",
   "version": "3.7.6"
  },
  "papermill": {
   "duration": 822.053082,
   "end_time": "2020-09-03T10:40:23.339797",
   "environment_variables": {},
   "exception": null,
   "input_path": "__notebook__.ipynb",
   "output_path": "__notebook__.ipynb",
   "parameters": {},
   "start_time": "2020-09-03T10:26:41.286715",
   "version": "2.1.0"
  }
 },
 "nbformat": 4,
 "nbformat_minor": 4
}
