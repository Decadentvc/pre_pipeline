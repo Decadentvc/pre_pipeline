{
 "cells": [
  {
   "cell_type": "markdown",
   "metadata": {},
   "source": [
    "<h1>Вовед</h1>\n",
    "\n",
    "Имаме податоци кои се класифицирани дали пациентите имаат срцеви заболувања или не според карактеристиките во него. Ќе се обидам да ги искористам овие податоци за да создадам модел што ќе се обиде да предвиди дали пациентот има оваа болест или не. Ќе користам алгоритам за логистичка регресија (класификација)."
   ]
  },
  {
   "cell_type": "code",
   "execution_count": 1,
   "metadata": {
    "_cell_guid": "b1076dfc-b9ad-4769-8c92-a6c4dae69d19",
    "_uuid": "8f2839f25d086af736a60e9eeb907d3b93b6e0e5"
   },
   "outputs": [
    {
     "name": "stdout",
     "output_type": "stream",
     "text": [
      "['heart-disease-uci']\n"
     ]
    }
   ],
   "source": [
    "#Првенствено ги внесуваме сите пакети што ќе ни бидат потребни за анализа на овој датасет\n",
    "\n",
    "import numpy as np\n",
    "import pandas as pd\n",
    "import matplotlib.pyplot as plt\n",
    "import seaborn as sns\n",
    "from sklearn.model_selection import train_test_split\n",
    "from sklearn.metrics import f1_score\n",
    "\n",
    "import os\n",
    "import os\n",
    "print(os.listdir(\"../input\"))\n",
    "\n",
    "# Последниве три реда се автоматски генерирани од Kaggle"
   ]
  },
  {
   "cell_type": "markdown",
   "metadata": {},
   "source": [
    "<h1>Читање на податоците</h1>"
   ]
  },
  {
   "cell_type": "code",
   "execution_count": 2,
   "metadata": {
    "_cell_guid": "",
    "_uuid": ""
   },
   "outputs": [],
   "source": [
    "# Ги читаме податоците\n",
    "heart = pd.read_csv(\"../input/heart-disease-uci/heart.csv\")"
   ]
  },
  {
   "cell_type": "code",
   "execution_count": 3,
   "metadata": {},
   "outputs": [
    {
     "data": {
      "text/html": [
       "<div>\n",
       "<style scoped>\n",
       "    .dataframe tbody tr th:only-of-type {\n",
       "        vertical-align: middle;\n",
       "    }\n",
       "\n",
       "    .dataframe tbody tr th {\n",
       "        vertical-align: top;\n",
       "    }\n",
       "\n",
       "    .dataframe thead th {\n",
       "        text-align: right;\n",
       "    }\n",
       "</style>\n",
       "<table border=\"1\" class=\"dataframe\">\n",
       "  <thead>\n",
       "    <tr style=\"text-align: right;\">\n",
       "      <th></th>\n",
       "      <th>age</th>\n",
       "      <th>sex</th>\n",
       "      <th>cp</th>\n",
       "      <th>trestbps</th>\n",
       "      <th>chol</th>\n",
       "      <th>fbs</th>\n",
       "      <th>restecg</th>\n",
       "      <th>thalach</th>\n",
       "      <th>exang</th>\n",
       "      <th>oldpeak</th>\n",
       "      <th>slope</th>\n",
       "      <th>ca</th>\n",
       "      <th>thal</th>\n",
       "      <th>target</th>\n",
       "    </tr>\n",
       "  </thead>\n",
       "  <tbody>\n",
       "    <tr>\n",
       "      <th>0</th>\n",
       "      <td>63</td>\n",
       "      <td>1</td>\n",
       "      <td>3</td>\n",
       "      <td>145</td>\n",
       "      <td>233</td>\n",
       "      <td>1</td>\n",
       "      <td>0</td>\n",
       "      <td>150</td>\n",
       "      <td>0</td>\n",
       "      <td>2.3</td>\n",
       "      <td>0</td>\n",
       "      <td>0</td>\n",
       "      <td>1</td>\n",
       "      <td>1</td>\n",
       "    </tr>\n",
       "    <tr>\n",
       "      <th>1</th>\n",
       "      <td>37</td>\n",
       "      <td>1</td>\n",
       "      <td>2</td>\n",
       "      <td>130</td>\n",
       "      <td>250</td>\n",
       "      <td>0</td>\n",
       "      <td>1</td>\n",
       "      <td>187</td>\n",
       "      <td>0</td>\n",
       "      <td>3.5</td>\n",
       "      <td>0</td>\n",
       "      <td>0</td>\n",
       "      <td>2</td>\n",
       "      <td>1</td>\n",
       "    </tr>\n",
       "    <tr>\n",
       "      <th>2</th>\n",
       "      <td>41</td>\n",
       "      <td>0</td>\n",
       "      <td>1</td>\n",
       "      <td>130</td>\n",
       "      <td>204</td>\n",
       "      <td>0</td>\n",
       "      <td>0</td>\n",
       "      <td>172</td>\n",
       "      <td>0</td>\n",
       "      <td>1.4</td>\n",
       "      <td>2</td>\n",
       "      <td>0</td>\n",
       "      <td>2</td>\n",
       "      <td>1</td>\n",
       "    </tr>\n",
       "    <tr>\n",
       "      <th>3</th>\n",
       "      <td>56</td>\n",
       "      <td>1</td>\n",
       "      <td>1</td>\n",
       "      <td>120</td>\n",
       "      <td>236</td>\n",
       "      <td>0</td>\n",
       "      <td>1</td>\n",
       "      <td>178</td>\n",
       "      <td>0</td>\n",
       "      <td>0.8</td>\n",
       "      <td>2</td>\n",
       "      <td>0</td>\n",
       "      <td>2</td>\n",
       "      <td>1</td>\n",
       "    </tr>\n",
       "    <tr>\n",
       "      <th>4</th>\n",
       "      <td>57</td>\n",
       "      <td>0</td>\n",
       "      <td>0</td>\n",
       "      <td>120</td>\n",
       "      <td>354</td>\n",
       "      <td>0</td>\n",
       "      <td>1</td>\n",
       "      <td>163</td>\n",
       "      <td>1</td>\n",
       "      <td>0.6</td>\n",
       "      <td>2</td>\n",
       "      <td>0</td>\n",
       "      <td>2</td>\n",
       "      <td>1</td>\n",
       "    </tr>\n",
       "  </tbody>\n",
       "</table>\n",
       "</div>"
      ],
      "text/plain": [
       "   age  sex  cp  trestbps  chol  fbs  restecg  thalach  exang  oldpeak  slope  \\\n",
       "0   63    1   3       145   233    1        0      150      0      2.3      0   \n",
       "1   37    1   2       130   250    0        1      187      0      3.5      0   \n",
       "2   41    0   1       130   204    0        0      172      0      1.4      2   \n",
       "3   56    1   1       120   236    0        1      178      0      0.8      2   \n",
       "4   57    0   0       120   354    0        1      163      1      0.6      2   \n",
       "\n",
       "   ca  thal  target  \n",
       "0   0     1       1  \n",
       "1   0     2       1  \n",
       "2   0     2       1  \n",
       "3   0     2       1  \n",
       "4   0     2       1  "
      ]
     },
     "execution_count": 3,
     "metadata": {},
     "output_type": "execute_result"
    }
   ],
   "source": [
    "# Првите 5 реда од податоците\n",
    "heart.head()"
   ]
  },
  {
   "cell_type": "markdown",
   "metadata": {},
   "source": [
    "* Податоците содржат:\n",
    "* \n",
    "* age - години\n",
    "* sex - (1 = машко; 0 = женско)\n",
    "* cp - вид на болка во градите(chest pain)\n",
    "* trestbps - крвен притисок при одморање (во mm Hg при прием во болница)\n",
    "* chol - холестерол во mg/dl\n",
    "* fbs - (шеќер во крвта > 120 mg/dl) (1 = точно; 0 = неточно) (кратенка од fasting blood sugar)\n",
    "* restecg - резултати од електрокардиограм при одморање\n",
    "* thalach - максимален пулс\n",
    "* exang - ангина индуцирана при вежбање (1 = да; 0 = не) (exercise induced angina)\n",
    "* oldpeak - ST депресија индуцирана од вежбање релативно со одмор\n",
    "* slope - наклон на врвот на ST сегментот при вежбање\n",
    "* ca - број на главни крвни садови обоени со флуороскопија (0-3) \n",
    "* thal - 3 = нормално; 6 = поправен дефект; 7 = реверзибилен дефект\n",
    "* target - have disease or not (1=yes, 0=no)"
   ]
  },
  {
   "cell_type": "code",
   "execution_count": 4,
   "metadata": {},
   "outputs": [
    {
     "data": {
      "text/plain": [
       "1    165\n",
       "0    138\n",
       "Name: target, dtype: int64"
      ]
     },
     "execution_count": 4,
     "metadata": {},
     "output_type": "execute_result"
    }
   ],
   "source": [
    "#Број на луѓе што ја имаат/немаат заболување\n",
    "heart.target.value_counts()"
   ]
  },
  {
   "cell_type": "code",
   "execution_count": 5,
   "metadata": {},
   "outputs": [
    {
     "data": {
      "image/png": "[encoded data removed]",
      "text/plain": [
       "<Figure size 432x288 with 1 Axes>"
      ]
     },
     "metadata": {
      "needs_background": "light"
     },
     "output_type": "display_data"
    }
   ],
   "source": [
    "# На график ги прикажуваме бројот на луѓето што немаат и имаат заболување\n",
    "sns.countplot(x=\"target\", data=heart)\n",
    "plt.xlabel(\"Заболување (0 = нема, 1 = има)\")\n",
    "plt.ylabel('Број')\n",
    "plt.show()"
   ]
  },
  {
   "cell_type": "code",
   "execution_count": 6,
   "metadata": {},
   "outputs": [
    {
     "name": "stdout",
     "output_type": "stream",
     "text": [
      "Процент на пациенти што немаат заболување: 45.54%\n",
      "Процент на пациенти што имаат заболување: 54.46%\n"
     ]
    }
   ],
   "source": [
    "# Го наоѓаме процентот на пациенти што имаат и немаат заболување\n",
    "nema_bolest = len(heart[heart.target == 0])\n",
    "ima_bolest = len(heart[heart.target == 1])\n",
    "broj_na_zaboleni = len(heart.target)\n",
    "print(\"Процент на пациенти што немаат заболување: {:.2f}%\".format((nema_bolest / broj_na_zaboleni)*100))\n",
    "print(\"Процент на пациенти што имаат заболување: {:.2f}%\".format((ima_bolest / broj_na_zaboleni)*100))"
   ]
  },
  {
   "cell_type": "code",
   "execution_count": 7,
   "metadata": {},
   "outputs": [
    {
     "data": {
      "image/png": "[encoded data removed]",
      "text/plain": [
       "<Figure size 432x288 with 1 Axes>"
      ]
     },
     "metadata": {
      "needs_background": "light"
     },
     "output_type": "display_data"
    }
   ],
   "source": [
    "# Ги претставуваме машките и женските пациенти на график\n",
    "sns.countplot(x='sex', data=heart)\n",
    "plt.xlabel(\"Пол (0 = женски, 1= машки)\")\n",
    "plt.ylabel('Број')\n",
    "plt.show()"
   ]
  },
  {
   "cell_type": "code",
   "execution_count": 8,
   "metadata": {},
   "outputs": [
    {
     "name": "stdout",
     "output_type": "stream",
     "text": [
      "Процент на женски пациенти: 31.68%\n",
      "Процент на машки пациенти: 68.32%\n"
     ]
    }
   ],
   "source": [
    "# Го наоѓаме процентот на машки и женски пациенти\n",
    "broj_zenski = len(heart[heart.sex == 0])\n",
    "broj_maski = len(heart[heart.sex == 1])\n",
    "broj_pacienti = len(heart.sex)\n",
    "print(\"Процент на женски пациенти: {:.2f}%\".format((broj_zenski / broj_pacienti)*100))\n",
    "print(\"Процент на машки пациенти: {:.2f}%\".format((broj_maski / broj_pacienti)*100))"
   ]
  },
  {
   "cell_type": "code",
   "execution_count": 9,
   "metadata": {},
   "outputs": [
    {
     "data": {
      "image/png": "[encoded data removed]",
      "text/plain": [
       "<Figure size 1440x432 with 1 Axes>"
      ]
     },
     "metadata": {
      "needs_background": "light"
     },
     "output_type": "display_data"
    }
   ],
   "source": [
    "pd.crosstab(heart.age,heart.target).plot(kind=\"bar\",figsize=(20,6))\n",
    "plt.title('Зачестеност на срцеви заболувања споредбено со возраста на пациентот')\n",
    "plt.xlabel('Возраст')\n",
    "plt.ylabel('Зачестеност')\n",
    "plt.legend([\"Нема заболување\", \"Има заболување \"])\n",
    "plt.show()"
   ]
  },
  {
   "cell_type": "code",
   "execution_count": 10,
   "metadata": {},
   "outputs": [
    {
     "data": {
      "image/png": "[encoded data removed]",
      "text/plain": [
       "<Figure size 1440x432 with 1 Axes>"
      ]
     },
     "metadata": {
      "needs_background": "light"
     },
     "output_type": "display_data"
    }
   ],
   "source": [
    "pd.crosstab(heart.sex,heart.target).plot(kind=\"bar\",figsize=(20,6))\n",
    "plt.title('Зачестеност на срцеви заболувања споредбено со полот на пациентот')\n",
    "plt.xlabel('Пол (0 = женски, 1 = машки)')\n",
    "plt.xticks(rotation=0)\n",
    "plt.legend([\"Нема заболување\", \"Има заболување\"])\n",
    "plt.ylabel('Зачестеност')\n",
    "plt.show()"
   ]
  },
  {
   "cell_type": "markdown",
   "metadata": {},
   "source": [
    "<h1>Создавање на модели</h1>"
   ]
  },
  {
   "cell_type": "code",
   "execution_count": 11,
   "metadata": {},
   "outputs": [],
   "source": [
    "y = heart.target.values\n",
    "x_data = heart.drop(['target'], axis = 1)"
   ]
  },
  {
   "cell_type": "markdown",
   "metadata": {},
   "source": [
    "<h2>Нормализирање на податоците</h2>"
   ]
  },
  {
   "cell_type": "code",
   "execution_count": 12,
   "metadata": {},
   "outputs": [],
   "source": [
    "#Ги менуваме вредностите да бидат во опсегот од 0 до 1\n",
    "x = (x_data - np.min(x_data)) / (np.max(x_data) - np.min(x_data)).values"
   ]
  },
  {
   "cell_type": "markdown",
   "metadata": {},
   "source": [
    "Ќе ги поделиме податоците во размер 80:20. 80 проценти ќе бидат користени за тренинг на моделот, а 20 проценти ќе ги искористиме за тест."
   ]
  },
  {
   "cell_type": "code",
   "execution_count": 13,
   "metadata": {},
   "outputs": [],
   "source": [
    "x_train, x_test, y_train, y_test = train_test_split(x,y,test_size = 0.2,random_state=0)"
   ]
  },
  {
   "cell_type": "markdown",
   "metadata": {},
   "source": [
    "<h2>Логистичка регресија</h2>"
   ]
  },
  {
   "cell_type": "code",
   "execution_count": 14,
   "metadata": {},
   "outputs": [
    {
     "name": "stdout",
     "output_type": "stream",
     "text": [
      "Прецизност на моделот со логистичка регресија 85.25%\n",
      "F1 Score from Logistic Regression: 87.32%\n",
      "Scores from 10 Fold Cross Validation with Logistic Regression [0.87096774 0.80645161 0.83870968 0.87096774 0.90322581 0.8\n",
      " 0.83333333 0.9        0.68965517 0.72413793]\n",
      "0.9032258064516129\n",
      "0.6896551724137931\n"
     ]
    },
    {
     "name": "stderr",
     "output_type": "stream",
     "text": [
      "/opt/conda/lib/python3.6/site-packages/sklearn/linear_model/logistic.py:432: FutureWarning: Default solver will be changed to 'lbfgs' in 0.22. Specify a solver to silence this warning.\n",
      "  FutureWarning)\n",
      "/opt/conda/lib/python3.6/site-packages/sklearn/linear_model/logistic.py:432: FutureWarning: Default solver will be changed to 'lbfgs' in 0.22. Specify a solver to silence this warning.\n",
      "  FutureWarning)\n",
      "/opt/conda/lib/python3.6/site-packages/sklearn/linear_model/logistic.py:432: FutureWarning: Default solver will be changed to 'lbfgs' in 0.22. Specify a solver to silence this warning.\n",
      "  FutureWarning)\n",
      "/opt/conda/lib/python3.6/site-packages/sklearn/linear_model/logistic.py:432: FutureWarning: Default solver will be changed to 'lbfgs' in 0.22. Specify a solver to silence this warning.\n",
      "  FutureWarning)\n",
      "/opt/conda/lib/python3.6/site-packages/sklearn/linear_model/logistic.py:432: FutureWarning: Default solver will be changed to 'lbfgs' in 0.22. Specify a solver to silence this warning.\n",
      "  FutureWarning)\n",
      "/opt/conda/lib/python3.6/site-packages/sklearn/linear_model/logistic.py:432: FutureWarning: Default solver will be changed to 'lbfgs' in 0.22. Specify a solver to silence this warning.\n",
      "  FutureWarning)\n",
      "/opt/conda/lib/python3.6/site-packages/sklearn/linear_model/logistic.py:432: FutureWarning: Default solver will be changed to 'lbfgs' in 0.22. Specify a solver to silence this warning.\n",
      "  FutureWarning)\n",
      "/opt/conda/lib/python3.6/site-packages/sklearn/linear_model/logistic.py:432: FutureWarning: Default solver will be changed to 'lbfgs' in 0.22. Specify a solver to silence this warning.\n",
      "  FutureWarning)\n",
      "/opt/conda/lib/python3.6/site-packages/sklearn/linear_model/logistic.py:432: FutureWarning: Default solver will be changed to 'lbfgs' in 0.22. Specify a solver to silence this warning.\n",
      "  FutureWarning)\n",
      "/opt/conda/lib/python3.6/site-packages/sklearn/linear_model/logistic.py:432: FutureWarning: Default solver will be changed to 'lbfgs' in 0.22. Specify a solver to silence this warning.\n",
      "  FutureWarning)\n",
      "/opt/conda/lib/python3.6/site-packages/sklearn/linear_model/logistic.py:432: FutureWarning: Default solver will be changed to 'lbfgs' in 0.22. Specify a solver to silence this warning.\n",
      "  FutureWarning)\n"
     ]
    }
   ],
   "source": [
    "# Логистичка регресија (accuracy и f1_score)\n",
    "accuracies = {}\n",
    "f1_scores = {}\n",
    "\n",
    "from sklearn.linear_model import LogisticRegression\n",
    "from sklearn.model_selection import cross_val_score\n",
    "lr = LogisticRegression()\n",
    "lr.fit(x_train,y_train)\n",
    "pred_lr = lr.predict(x_test)\n",
    "acc = lr.score(x_test,y_test)*100\n",
    "accuracies['Logistic Regression'] = acc\n",
    "print(\"Прецизност на моделот со логистичка регресија {:.2f}%\".format(acc))\n",
    "f1_score_lr = f1_score(pred_lr, y_test)*100\n",
    "\n",
    "f1_scores['Logistic Regression F1'] = f1_score_lr\n",
    "print('F1 Score from Logistic Regression: {:.2f}%'.format(f1_score_lr))\n",
    "\n",
    "lr_scores_cvs = cross_val_score(lr, x_data, y, cv=10, scoring='accuracy')\n",
    "print('Scores from 10 Fold Cross Validation with Logistic Regression',lr_scores_cvs)\n",
    "\n",
    "print(max(lr_scores_cvs))\n",
    "print(min(lr_scores_cvs))"
   ]
  },
  {
   "cell_type": "markdown",
   "metadata": {},
   "source": [
    "Овој модел работи со 85.25% прецизност."
   ]
  },
  {
   "cell_type": "markdown",
   "metadata": {},
   "source": [
    "<h2>Random Forest Класификација</h2>"
   ]
  },
  {
   "cell_type": "code",
   "execution_count": 15,
   "metadata": {},
   "outputs": [
    {
     "name": "stderr",
     "output_type": "stream",
     "text": [
      "/opt/conda/lib/python3.6/site-packages/sklearn/ensemble/forest.py:245: FutureWarning: The default value of n_estimators will change from 10 in version 0.20 to 100 in 0.22.\n",
      "  \"10 in version 0.20 to 100 in 0.22.\", FutureWarning)\n"
     ]
    },
    {
     "name": "stdout",
     "output_type": "stream",
     "text": [
      "Прецизност на моделот со Random Forest : 88.52%\n",
      "F1 Score from Logistic Regression: 89.55%\n",
      "Scores from 10 Fold Cross Validation with Random Forest [0.74193548 0.77419355 0.93548387 0.90322581 0.90322581 0.73333333\n",
      " 0.73333333 0.86666667 0.65517241 0.86206897]\n",
      "0.9354838709677419\n",
      "0.6551724137931034\n"
     ]
    }
   ],
   "source": [
    "# Random Forest Класификација (accuracy, f1_score и feature importances)\n",
    "from sklearn.ensemble import RandomForestClassifier\n",
    "rf = RandomForestClassifier(random_state = 0)\n",
    "rf.fit(x_train, y_train)\n",
    "pred_rf = rf.predict(x_test)\n",
    "acc = rf.score(x_test,y_test)*100\n",
    "accuracies['Random Forest'] = acc\n",
    "print(\"Прецизност на моделот со Random Forest : {:.2f}%\".format(acc))\n",
    "f1_score_rf = f1_score(pred_rf, y_test)*100\n",
    "f1_scores['Random Forest F1'] = f1_score_rf\n",
    "print('F1 Score from Logistic Regression: {:.2f}%'.format(f1_score_rf))\n",
    "\n",
    "rf_scores_cvs = cross_val_score(rf, x_data, y, cv=10, scoring='accuracy')\n",
    "print('Scores from 10 Fold Cross Validation with Random Forest',rf_scores_cvs)\n",
    "\n",
    "print(max(rf_scores_cvs))\n",
    "print(min(rf_scores_cvs))"
   ]
  },
  {
   "cell_type": "markdown",
   "metadata": {},
   "source": [
    "Овој модел работи со 88.52% прецизност."
   ]
  },
  {
   "cell_type": "code",
   "execution_count": 16,
   "metadata": {},
   "outputs": [
    {
     "name": "stdout",
     "output_type": "stream",
     "text": [
      "The feature importances using Random Forest Classifier are: [0.09130246 0.04991216 0.09872792 0.05474557 0.08672946 0.00476595\n",
      " 0.01523087 0.14438163 0.05797206 0.10564719 0.05464249 0.11129001\n",
      " 0.12465224]\n",
      "age 9.130245746036355\n",
      "sex 4.991215587186019\n",
      "cp 9.872791657426575\n",
      "trestbps 5.47455749573462\n",
      "chol 8.672945926321407\n",
      "fbs 0.47659516765335924\n",
      "restecg 1.5230866944901815\n",
      "thalach 14.438162672391991\n",
      "exang 5.7972060726555235\n",
      "oldpeak 10.564718913197286\n",
      "slope 5.464248648161849\n",
      "ca 11.129001105683594\n",
      "thal 12.46522431306124\n"
     ]
    }
   ],
   "source": [
    "#Feature importances\n",
    "print('The feature importances using Random Forest Classifier are:',rf.feature_importances_)\n",
    "\n",
    "#Секоја колона со соодветната важност\n",
    "for i in range(0, len(heart.columns)-1):\n",
    "    print(heart.columns[i], rf.feature_importances_[i]*100)"
   ]
  },
  {
   "cell_type": "markdown",
   "metadata": {},
   "source": [
    "<h2>Support Vector Machine</h2>"
   ]
  },
  {
   "cell_type": "code",
   "execution_count": 17,
   "metadata": {},
   "outputs": [
    {
     "name": "stdout",
     "output_type": "stream",
     "text": [
      "Прецизност на моделот со SVM Algorithm: 81.97%\n",
      "F1 Score from Logistic Regression: 84.93%\n",
      "Scores from 10 Fold Cross Validation with SVM [0.58064516 0.58064516 0.5483871  0.5483871  0.5483871  0.53333333\n",
      " 0.53333333 0.53333333 0.55172414 0.55172414]\n",
      "0.5806451612903226\n",
      "0.5333333333333333\n"
     ]
    },
    {
     "name": "stderr",
     "output_type": "stream",
     "text": [
      "/opt/conda/lib/python3.6/site-packages/sklearn/svm/base.py:193: FutureWarning: The default value of gamma will change from 'auto' to 'scale' in version 0.22 to account better for unscaled features. Set gamma explicitly to 'auto' or 'scale' to avoid this warning.\n",
      "  \"avoid this warning.\", FutureWarning)\n",
      "/opt/conda/lib/python3.6/site-packages/sklearn/svm/base.py:193: FutureWarning: The default value of gamma will change from 'auto' to 'scale' in version 0.22 to account better for unscaled features. Set gamma explicitly to 'auto' or 'scale' to avoid this warning.\n",
      "  \"avoid this warning.\", FutureWarning)\n",
      "/opt/conda/lib/python3.6/site-packages/sklearn/svm/base.py:193: FutureWarning: The default value of gamma will change from 'auto' to 'scale' in version 0.22 to account better for unscaled features. Set gamma explicitly to 'auto' or 'scale' to avoid this warning.\n",
      "  \"avoid this warning.\", FutureWarning)\n",
      "/opt/conda/lib/python3.6/site-packages/sklearn/svm/base.py:193: FutureWarning: The default value of gamma will change from 'auto' to 'scale' in version 0.22 to account better for unscaled features. Set gamma explicitly to 'auto' or 'scale' to avoid this warning.\n",
      "  \"avoid this warning.\", FutureWarning)\n",
      "/opt/conda/lib/python3.6/site-packages/sklearn/svm/base.py:193: FutureWarning: The default value of gamma will change from 'auto' to 'scale' in version 0.22 to account better for unscaled features. Set gamma explicitly to 'auto' or 'scale' to avoid this warning.\n",
      "  \"avoid this warning.\", FutureWarning)\n",
      "/opt/conda/lib/python3.6/site-packages/sklearn/svm/base.py:193: FutureWarning: The default value of gamma will change from 'auto' to 'scale' in version 0.22 to account better for unscaled features. Set gamma explicitly to 'auto' or 'scale' to avoid this warning.\n",
      "  \"avoid this warning.\", FutureWarning)\n",
      "/opt/conda/lib/python3.6/site-packages/sklearn/svm/base.py:193: FutureWarning: The default value of gamma will change from 'auto' to 'scale' in version 0.22 to account better for unscaled features. Set gamma explicitly to 'auto' or 'scale' to avoid this warning.\n",
      "  \"avoid this warning.\", FutureWarning)\n",
      "/opt/conda/lib/python3.6/site-packages/sklearn/svm/base.py:193: FutureWarning: The default value of gamma will change from 'auto' to 'scale' in version 0.22 to account better for unscaled features. Set gamma explicitly to 'auto' or 'scale' to avoid this warning.\n",
      "  \"avoid this warning.\", FutureWarning)\n",
      "/opt/conda/lib/python3.6/site-packages/sklearn/svm/base.py:193: FutureWarning: The default value of gamma will change from 'auto' to 'scale' in version 0.22 to account better for unscaled features. Set gamma explicitly to 'auto' or 'scale' to avoid this warning.\n",
      "  \"avoid this warning.\", FutureWarning)\n",
      "/opt/conda/lib/python3.6/site-packages/sklearn/svm/base.py:193: FutureWarning: The default value of gamma will change from 'auto' to 'scale' in version 0.22 to account better for unscaled features. Set gamma explicitly to 'auto' or 'scale' to avoid this warning.\n",
      "  \"avoid this warning.\", FutureWarning)\n",
      "/opt/conda/lib/python3.6/site-packages/sklearn/svm/base.py:193: FutureWarning: The default value of gamma will change from 'auto' to 'scale' in version 0.22 to account better for unscaled features. Set gamma explicitly to 'auto' or 'scale' to avoid this warning.\n",
      "  \"avoid this warning.\", FutureWarning)\n"
     ]
    }
   ],
   "source": [
    "# Support Vector Machine Класификација (accuracy, и f1_score\n",
    "\n",
    "from sklearn.svm import SVC\n",
    "svm = SVC(random_state = 0)\n",
    "svm.fit(x_train, y_train)\n",
    "pred_svc = svm.predict(x_test)\n",
    "acc = svm.score(x_test,y_test)*100\n",
    "accuracies['SVM'] = acc\n",
    "print(\"Прецизност на моделот со SVM Algorithm: {:.2f}%\".format(acc))\n",
    "f1_score_svc = f1_score(pred_svc, y_test)*100\n",
    "f1_scores['SVC F1'] = f1_score_svc\n",
    "print('F1 Score from Logistic Regression: {:.2f}%'.format(f1_score_svc))\n",
    "\n",
    "svc_scores_cvs = cross_val_score(svm, x_data, y, cv=10, scoring='accuracy')\n",
    "print('Scores from 10 Fold Cross Validation with SVM',svc_scores_cvs)\n",
    "\n",
    "print(max(svc_scores_cvs))\n",
    "print(min(svc_scores_cvs))"
   ]
  },
  {
   "cell_type": "markdown",
   "metadata": {},
   "source": [
    "Овој модел работи со 81.97% прецизност"
   ]
  },
  {
   "cell_type": "markdown",
   "metadata": {},
   "source": [
    "<h2>Исцртување на точноста на трите методи</h2>"
   ]
  },
  {
   "cell_type": "code",
   "execution_count": 18,
   "metadata": {},
   "outputs": [
    {
     "data": {
      "image/png": "[encoded data removed]",
      "text/plain": [
       "<Figure size 1152x360 with 1 Axes>"
      ]
     },
     "metadata": {},
     "output_type": "display_data"
    }
   ],
   "source": [
    "colors = [\"purple\", \"green\", \"orange\"]\n",
    "\n",
    "sns.set_style(\"whitegrid\")\n",
    "plt.figure(figsize=(16,5))\n",
    "plt.yticks(np.arange(0,100,2))\n",
    "plt.ylabel(\"Accuracy %\")\n",
    "plt.xlabel(\"Algorithms\")\n",
    "plt.ylim(80, 90)\n",
    "sns.barplot(x=list(accuracies.keys()), y=list(accuracies.values()), palette=colors)\n",
    "plt.show()"
   ]
  },
  {
   "cell_type": "markdown",
   "metadata": {},
   "source": [
    "<h2>Исцртување на F1 Scores на трите методи</h2>"
   ]
  },
  {
   "cell_type": "code",
   "execution_count": 19,
   "metadata": {},
   "outputs": [
    {
     "data": {
      "image/png": "[encoded data removed]",
      "text/plain": [
       "<Figure size 1152x360 with 1 Axes>"
      ]
     },
     "metadata": {},
     "output_type": "display_data"
    }
   ],
   "source": [
    "colors = [\"purple\", \"green\", \"orange\"]\n",
    "\n",
    "sns.set_style(\"whitegrid\")\n",
    "plt.figure(figsize=(16,5))\n",
    "plt.yticks(np.arange(0,100,2))\n",
    "plt.ylim(80, 90)\n",
    "plt.ylabel(\"Accuracy %\")\n",
    "plt.xlabel(\"F1 Scores\")\n",
    "sns.barplot(x=list(f1_scores.keys()), y=list(f1_scores.values()), palette=colors)\n",
    "plt.show()"
   ]
  },
  {
   "cell_type": "markdown",
   "metadata": {},
   "source": [
    "<h2>Confusion Matrices</h2>"
   ]
  },
  {
   "cell_type": "code",
   "execution_count": 20,
   "metadata": {},
   "outputs": [
    {
     "data": {
      "image/png": "[encoded data removed]",
      "text/plain": [
       "<Figure size 1728x864 with 3 Axes>"
      ]
     },
     "metadata": {},
     "output_type": "display_data"
    }
   ],
   "source": [
    "# Исцртување на confusion матрица за сите три методи\n",
    "\n",
    "from sklearn.metrics import confusion_matrix\n",
    "\n",
    "y_lr = lr.predict(x_test)\n",
    "y_svm = svm.predict(x_test)\n",
    "y_rf = rf.predict(x_test)\n",
    "\n",
    "cm_lr = confusion_matrix(y_test,y_lr)\n",
    "cm_svm = confusion_matrix(y_test,y_svm)\n",
    "cm_rf = confusion_matrix(y_test,y_rf)\n",
    "\n",
    "plt.figure(figsize=(24,12))\n",
    "plt.suptitle(\"Confusion Matrices\",fontsize=24)\n",
    "\n",
    "plt.subplot(1,3,1)\n",
    "plt.title(\"Logistic Regression Confusion Matrix\")\n",
    "sns.heatmap(cm_lr,annot=True,cmap=\"Blues\",fmt=\"d\",cbar=False, annot_kws={\"size\": 24})\n",
    "\n",
    "plt.subplot(1,3,2)\n",
    "plt.title(\"Support Vector Machine Confusion Matrix\")\n",
    "sns.heatmap(cm_svm,annot=True,cmap=\"Blues\",fmt=\"d\",cbar=False, annot_kws={\"size\": 24})\n",
    "\n",
    "plt.subplot(1,3,3)\n",
    "plt.title(\"Random Forest Confusion Matrix\")\n",
    "sns.heatmap(cm_rf,annot=True,cmap=\"Blues\",fmt=\"d\",cbar=False, annot_kws={\"size\": 24})\n",
    "\n",
    "plt.show()"
   ]
  },
  {
   "cell_type": "markdown",
   "metadata": {},
   "source": [
    "<h3>Опис на проблемот</h3>\n",
    "\n",
    "Срцевите заболувања опишуваат низа состојби кои влијаат на срцето. Болести под сферата на срцеви заболувања вклучуваат болести на крвните садови, како што е корорнарна артериска болест; проблеми со срцевиот ритам (аритмии); и срцеви мани, меѓу кои и оние кои се присутни при раѓање (вродени срцеви мани).\n",
    "\n",
    "Терминот \"срцеви заболувања\" често се користи наизменично со терминот \"кардиоваскуларна болест\". Кардиоваскуларните заболувања обично се однесуваат на состојби кои вклучуваат стеснети или блокирани крвни садови кои можат да доведат до срцев удар, болка во градите (ангина) или мозочен удар. Други срцеви заболувања, како оние што влијаат на срцевиот мускул, вентилите или ритамот, исто така се сметаат за форми на срцеви заболувања.\n",
    "\n",
    "Многу форми на срцеви заболувања може да се спречат или третираат со здрав избор на живот\n",
    "\n",
    "Симптомите на кардиоваскуларни заболувања може да бидат различни кај мажите и жените. На пример, мажите имаат поголема веројатност да имаат болка во градите; жените имаат поголема веројатност да имаат други симптоми заедно со непријатност во градите, како што се скратен здив, гадење и екстремен умор.\n",
    "\n",
    "Симптомите можат да вклучуваат:\n",
    "\n",
    "* Болка во градите, затегнатост на градите, притисок на градите и непријатност во градите (ангина)\n",
    "* Скратен здив\n",
    "* Болка, вкочанетост, слабост или студ во нозете или рацете ако крвните садови во тие делови на вашето тело се стеснети\n",
    "* Болка во вратот, вилицата, грлото, горниот дел на стомакот или грбот\n",
    "\n",
    "(Инфомрациите погоре се од Светската Здравствена Организација - СЗО)\n",
    "\n",
    "При сите овие информации, битно е да се посочи дека најголемиот убиец на светот се срцевите заболувања. Затоа е многу важно што порано, побрзо и поефикасно да се открие заболувањето, додека има време да се лечи или спречи. Брзиот развој на технологијата ни го овозможува тоа во формата на машинско учење. Притоа, се собираат податоци за луѓето кои имаат и немаат срцеви заболувања и вз база на алгоритам можеме да откриеме со колкава веројатност некој нов пациент би можел да има заболување. Овој датасет е релативно мал но сепак ќе ми послужи како легитимна анализа. Ова е проблем на класификација и има 13 features и 1 target класа, при што има вкупно 303 податоци за пациенти. Од овие 303 пациенти, 165(54.46%) имаат заболување а 138(45.54%) немаат заболување. Бројот на пациентите шти имаат и немаат болест е релативно близок и можам да започнам со обработка на податоците. Притоа, во оваа анализа битен е и полот на пациентот и има 31.68% женски пациенти а 68.32% машки пациенти. Овие податоци се земени од Кливленд и се направени со цел да се индикација за здравјето на срцето.\n",
    "\n",
    "Притоа, прв чекор кон решавање на овој проблем ми е скалирање на вредостите на целиот датасет во опсег (0,1) со цел олеснување на понатамошниот тек на настани. \n",
    "\n",
    "Во моето решение на овој проблем, користам три методи на класификација:\n",
    "\n",
    "* Логистичка регресија\n",
    "* Random Forest\n",
    "* Support Vector Machine\n",
    "\n",
    "За сите три методи се користат истите четири променливи од функцијијата train_test_split. Со неа целото множество го делам на множество за тестирање и множество за тренинг. Притоа, множеството го делам во размер 80:20. Сите овие три методи се всушност алгоритми за класификација и даваат одреден резултат за нивната прецизност. Заедно со тоа пресметувам и f1 score со кој дознавам колку има true positives/false negatives. Во принцип, не сакам овој аглоритам да означи здрав човек со срцево заболување ниту пак болен човек како здрав. Процентот на f1 score ми кажува колку можам да бидам сигурен во тоа дека прецизноста е сосем точна. Освен тоа, правам и Cross Validation. Ова е доста класична и основна техника за евалуација на моделот. На пример, во мојот слчај ја правам оваа метода 10 пати. Множеството за тренинг тогаш се дели на 10 еднакви дела од кои самиот алгоритам бира еден. Тогаш алгоритмот се тренира на останатите 9 поделоци и се тестира на последниот, и целата оваа постапка се извршува 10 пати. Притоа, ни го враќа процентот на прецизност од секоја итерација. Доколку оваа метода ми даде подобри резултати од нашето првично мерење, можам да ги менувам параметрите и да го достигнам тоа ниво на прецизност. Исто така оваа техника помага многу во однос на тоа дали станува збор за overfitting. \n",
    "\n",
    "<h3>Логистичка регресија</h3>\n",
    "\n",
    "Ова е првиот статистички модел кој го правам. Имено, кога имаме бинарни множества, во случајот дали пациент има или нема болест, еден од најдобрите модели е самата логистичка регресија. Сите податоци може да се најдат на одредено место на одредена сигмоидна функција во вид на издолжено Ѕ по х - оската. Оваа функција дава вредности од 0 до 1 и ни кажува со колкава веројатност новиот пациент би можел да има или да нема заболување врз база на претходниот тренинг. Притоа во моето решение со самиот овој метод добив вредност на точност 85.25%, f1 score 87.32%. Дополнително од 10 Fold Cross Validation сите 10 добиени вредности се во опсегот од 69% до 90% точност. Од тука прозилегува дека сепак не станува збор за overfitting и дека логистичката регресија дава добри резултати и истовремено поставува висока конкуренција за останатите модели.\n",
    "\n",
    "<h3>Random Forest</h3>\n",
    "\n",
    "Овој метод претставува подобрена верзија на Decision Tree моделот. Самиот Random Forest може да се класифицира како повеќе дрва на одлуки во едно. Во овој метод по случаен избор се бираат карактеристиките и се прават многу дрва на одлуки. Откако тоа е направено, секој од новите тест пациенти од податочната база поминуваат низ сите овие дрва на одлуки. Откако тоа е завршено, секое дрво го класифицира пациентот, дали има заболување или нема. Потоа се собираат сите информации од сите дрвја и се избира поголемиот број и тогаш новиот пациент се декларира со заболување или без. Бидејќи има многу дрва на одлуки, самиот модел наликува на шума и ние можеме да избереме колку дрва ќе има во неа. Единствено нешто во кое ние не можеме да имаме никаков удел е случајноста на подредувањето на карактеристиките. Ова го прави моделот подобар бидејќи нема да има многу биас во моделот, а со самото тоа може и да се реши проблемот на overfitting. Овој метод, во мојот случај дава точност од 88.52%, f1 score 89.55%, а 10 Fold Cross Validation е од опсег 65% до 94%.\n",
    "\n",
    "<h3>Support Vector Machine</h3>\n",
    "\n",
    "\n",
    "SVM е модел кој со оглед на обележаните податоци за обука (надгледувано учење), алгоритмот испорачува оптимална функција која категоризира нови примери. На два димензионални простори, овој функција е линија што ја дели рамнината на два дела каде во секоја класа лежи или на едната или другата страна. На пример во овој случај алгоритамот ги дели пациентите на оние кои имаат заболување или немаат заболување со строга граница. Врз база на пациентите од тренинг множетвото тоа ни кажува во кој дел ќе спаѓаат новите пациенти. Овој метод дава точност од 81.97%, f1 score 84.93% а 10 Fold Cross Validation е од опсег 53% до 55%. Гледаме дека процентот на точност опаѓа кога правам cross validation. Тоа е бидејќи датасетот е доста мал (има само 303 примероци). Златното правило во овие случаји е да се добијат повеќе податоци за да може подобро да се определи прецизноста.\n",
    "\n",
    "<h3>Заклучок</h3>\n",
    "\n",
    "На самите графици се приметува дека Random Forest е најдобриот модел од овие три. Тој ги дава најдобрите резултати како и најдобра вредност за f1 score. Исто така, самата Cross Validation ни кажува дека може да се достигне прецизност од 94% што значително би го подобрило моделот. Самите графици и нумерички резултати ни го потврдуваат ова. Бидејќи немам доволно податоци, Cross Validation ни дава доста голем опсег на прецизностите."
   ]
  }
 ],
 "metadata": {
  "kernelspec": {
   "display_name": "Python 3",
   "language": "python",
   "name": "python3"
  },
  "language_info": {
   "codemirror_mode": {
    "name": "ipython",
    "version": 3
   },
   "file_extension": ".py",
   "mimetype": "text/x-python",
   "name": "python",
   "nbconvert_exporter": "python",
   "pygments_lexer": "ipython3",
   "version": "3.6.6"
  }
 },
 "nbformat": 4,
 "nbformat_minor": 1
}
