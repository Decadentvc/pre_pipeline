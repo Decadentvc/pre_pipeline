{
 "cells": [
  {
   "cell_type": "markdown",
   "metadata": {
    "papermill": {
     "duration": 0.025469,
     "end_time": "2020-09-14T01:22:47.935331",
     "exception": false,
     "start_time": "2020-09-14T01:22:47.909862",
     "status": "completed"
    },
    "tags": []
   },
   "source": [
    "# Getting Started"
   ]
  },
  {
   "cell_type": "code",
   "execution_count": 1,
   "metadata": {
    "_cell_guid": "79c7e3d0-c299-4dcb-8224-4455121ee9b0",
    "_uuid": "d629ff2d2480ee46fbb7e2d37f6b5fab8052498a",
    "execution": {
     "iopub.execute_input": "2020-09-14T01:22:47.989850Z",
     "iopub.status.busy": "2020-09-14T01:22:47.989005Z",
     "iopub.status.idle": "2020-09-14T01:22:49.283611Z",
     "shell.execute_reply": "2020-09-14T01:22:49.282598Z"
    },
    "papermill": {
     "duration": 1.324915,
     "end_time": "2020-09-14T01:22:49.283767",
     "exception": false,
     "start_time": "2020-09-14T01:22:47.958852",
     "status": "completed"
    },
    "tags": []
   },
   "outputs": [],
   "source": [
    "import numpy as np\n",
    "import pandas as pd\n",
    "\n",
    "from sklearn.preprocessing import MinMaxScaler\n",
    "from sklearn.model_selection import train_test_split\n",
    "\n",
    "from sklearn.linear_model import LogisticRegression"
   ]
  },
  {
   "cell_type": "code",
   "execution_count": 2,
   "metadata": {
    "execution": {
     "iopub.execute_input": "2020-09-14T01:22:49.345930Z",
     "iopub.status.busy": "2020-09-14T01:22:49.344986Z",
     "iopub.status.idle": "2020-09-14T01:22:49.360284Z",
     "shell.execute_reply": "2020-09-14T01:22:49.359376Z"
    },
    "papermill": {
     "duration": 0.051912,
     "end_time": "2020-09-14T01:22:49.360434",
     "exception": false,
     "start_time": "2020-09-14T01:22:49.308522",
     "status": "completed"
    },
    "tags": []
   },
   "outputs": [],
   "source": [
    "data = pd.read_csv('../input/food-preferences/Food_Preference.csv')"
   ]
  },
  {
   "cell_type": "code",
   "execution_count": 3,
   "metadata": {
    "execution": {
     "iopub.execute_input": "2020-09-14T01:22:49.433539Z",
     "iopub.status.busy": "2020-09-14T01:22:49.418733Z",
     "iopub.status.idle": "2020-09-14T01:22:49.449072Z",
     "shell.execute_reply": "2020-09-14T01:22:49.448253Z"
    },
    "papermill": {
     "duration": 0.063991,
     "end_time": "2020-09-14T01:22:49.449208",
     "exception": false,
     "start_time": "2020-09-14T01:22:49.385217",
     "status": "completed"
    },
    "tags": []
   },
   "outputs": [
    {
     "data": {
      "text/html": [
       "<div>\n",
       "<style scoped>\n",
       "    .dataframe tbody tr th:only-of-type {\n",
       "        vertical-align: middle;\n",
       "    }\n",
       "\n",
       "    .dataframe tbody tr th {\n",
       "        vertical-align: top;\n",
       "    }\n",
       "\n",
       "    .dataframe thead th {\n",
       "        text-align: right;\n",
       "    }\n",
       "</style>\n",
       "<table border=\"1\" class=\"dataframe\">\n",
       "  <thead>\n",
       "    <tr style=\"text-align: right;\">\n",
       "      <th></th>\n",
       "      <th>Timestamp</th>\n",
       "      <th>Participant_ID</th>\n",
       "      <th>Gender</th>\n",
       "      <th>Nationality</th>\n",
       "      <th>Age</th>\n",
       "      <th>Food</th>\n",
       "      <th>Juice</th>\n",
       "      <th>Dessert</th>\n",
       "    </tr>\n",
       "  </thead>\n",
       "  <tbody>\n",
       "    <tr>\n",
       "      <th>0</th>\n",
       "      <td>2019/05/07 2:59:13 PM GMT+8</td>\n",
       "      <td>FPS001</td>\n",
       "      <td>Male</td>\n",
       "      <td>Indian</td>\n",
       "      <td>24</td>\n",
       "      <td>Traditional food</td>\n",
       "      <td>Fresh Juice</td>\n",
       "      <td>Maybe</td>\n",
       "    </tr>\n",
       "    <tr>\n",
       "      <th>1</th>\n",
       "      <td>2019/05/07 2:59:45 PM GMT+8</td>\n",
       "      <td>FPS002</td>\n",
       "      <td>Female</td>\n",
       "      <td>Indian</td>\n",
       "      <td>22</td>\n",
       "      <td>Western Food</td>\n",
       "      <td>Carbonated drinks</td>\n",
       "      <td>Yes</td>\n",
       "    </tr>\n",
       "    <tr>\n",
       "      <th>2</th>\n",
       "      <td>2019/05/07 3:00:05 PM GMT+8</td>\n",
       "      <td>FPS003</td>\n",
       "      <td>Male</td>\n",
       "      <td>Indian</td>\n",
       "      <td>31</td>\n",
       "      <td>Western Food</td>\n",
       "      <td>Fresh Juice</td>\n",
       "      <td>Maybe</td>\n",
       "    </tr>\n",
       "    <tr>\n",
       "      <th>3</th>\n",
       "      <td>2019/05/07 3:00:11 PM GMT+8</td>\n",
       "      <td>FPS004</td>\n",
       "      <td>Female</td>\n",
       "      <td>Indian</td>\n",
       "      <td>25</td>\n",
       "      <td>Traditional food</td>\n",
       "      <td>Fresh Juice</td>\n",
       "      <td>Maybe</td>\n",
       "    </tr>\n",
       "    <tr>\n",
       "      <th>4</th>\n",
       "      <td>2019/05/07 3:02:50 PM GMT+8</td>\n",
       "      <td>FPS005</td>\n",
       "      <td>Male</td>\n",
       "      <td>Indian</td>\n",
       "      <td>27</td>\n",
       "      <td>Traditional food</td>\n",
       "      <td>Fresh Juice</td>\n",
       "      <td>Maybe</td>\n",
       "    </tr>\n",
       "    <tr>\n",
       "      <th>...</th>\n",
       "      <td>...</td>\n",
       "      <td>...</td>\n",
       "      <td>...</td>\n",
       "      <td>...</td>\n",
       "      <td>...</td>\n",
       "      <td>...</td>\n",
       "      <td>...</td>\n",
       "      <td>...</td>\n",
       "    </tr>\n",
       "    <tr>\n",
       "      <th>283</th>\n",
       "      <td>2019/05/10 9:24:00 AM GMT+8</td>\n",
       "      <td>FPS284</td>\n",
       "      <td>Male</td>\n",
       "      <td>Indian</td>\n",
       "      <td>27</td>\n",
       "      <td>Western Food</td>\n",
       "      <td>Fresh Juice</td>\n",
       "      <td>Yes</td>\n",
       "    </tr>\n",
       "    <tr>\n",
       "      <th>284</th>\n",
       "      <td>2019/05/10 9:32:54 AM GMT+8</td>\n",
       "      <td>FPS285</td>\n",
       "      <td>Male</td>\n",
       "      <td>Indian</td>\n",
       "      <td>24</td>\n",
       "      <td>Traditional food</td>\n",
       "      <td>Fresh Juice</td>\n",
       "      <td>Yes</td>\n",
       "    </tr>\n",
       "    <tr>\n",
       "      <th>285</th>\n",
       "      <td>2019/05/10 12:09:17 PM GMT+8</td>\n",
       "      <td>FPS286</td>\n",
       "      <td>Male</td>\n",
       "      <td>Indian</td>\n",
       "      <td>25</td>\n",
       "      <td>Traditional food</td>\n",
       "      <td>Fresh Juice</td>\n",
       "      <td>Yes</td>\n",
       "    </tr>\n",
       "    <tr>\n",
       "      <th>286</th>\n",
       "      <td>2019/05/10 12:52:17 PM GMT+8</td>\n",
       "      <td>FPS287</td>\n",
       "      <td>Male</td>\n",
       "      <td>Indian</td>\n",
       "      <td>27</td>\n",
       "      <td>Traditional food</td>\n",
       "      <td>Fresh Juice</td>\n",
       "      <td>Yes</td>\n",
       "    </tr>\n",
       "    <tr>\n",
       "      <th>287</th>\n",
       "      <td>2019/05/10 12:55:42 PM GMT+8</td>\n",
       "      <td>FPS288</td>\n",
       "      <td>Male</td>\n",
       "      <td>Indian</td>\n",
       "      <td>27</td>\n",
       "      <td>Traditional food</td>\n",
       "      <td>Fresh Juice</td>\n",
       "      <td>No</td>\n",
       "    </tr>\n",
       "  </tbody>\n",
       "</table>\n",
       "<p>288 rows × 8 columns</p>\n",
       "</div>"
      ],
      "text/plain": [
       "                        Timestamp Participant_ID  Gender Nationality  Age  \\\n",
       "0     2019/05/07 2:59:13 PM GMT+8         FPS001    Male      Indian   24   \n",
       "1     2019/05/07 2:59:45 PM GMT+8         FPS002  Female      Indian   22   \n",
       "2     2019/05/07 3:00:05 PM GMT+8         FPS003    Male      Indian   31   \n",
       "3     2019/05/07 3:00:11 PM GMT+8         FPS004  Female      Indian   25   \n",
       "4     2019/05/07 3:02:50 PM GMT+8         FPS005    Male      Indian   27   \n",
       "..                            ...            ...     ...         ...  ...   \n",
       "283   2019/05/10 9:24:00 AM GMT+8         FPS284    Male      Indian   27   \n",
       "284   2019/05/10 9:32:54 AM GMT+8         FPS285    Male      Indian   24   \n",
       "285  2019/05/10 12:09:17 PM GMT+8         FPS286    Male      Indian   25   \n",
       "286  2019/05/10 12:52:17 PM GMT+8         FPS287    Male      Indian   27   \n",
       "287  2019/05/10 12:55:42 PM GMT+8         FPS288    Male      Indian   27   \n",
       "\n",
       "                 Food              Juice Dessert  \n",
       "0    Traditional food        Fresh Juice   Maybe  \n",
       "1        Western Food  Carbonated drinks     Yes  \n",
       "2        Western Food        Fresh Juice   Maybe  \n",
       "3    Traditional food        Fresh Juice   Maybe  \n",
       "4    Traditional food        Fresh Juice   Maybe  \n",
       "..                ...                ...     ...  \n",
       "283      Western Food        Fresh Juice     Yes  \n",
       "284  Traditional food        Fresh Juice     Yes  \n",
       "285  Traditional food        Fresh Juice     Yes  \n",
       "286  Traditional food        Fresh Juice     Yes  \n",
       "287  Traditional food        Fresh Juice      No  \n",
       "\n",
       "[288 rows x 8 columns]"
      ]
     },
     "execution_count": 3,
     "metadata": {},
     "output_type": "execute_result"
    }
   ],
   "source": [
    "data"
   ]
  },
  {
   "cell_type": "code",
   "execution_count": 4,
   "metadata": {
    "execution": {
     "iopub.execute_input": "2020-09-14T01:22:49.513587Z",
     "iopub.status.busy": "2020-09-14T01:22:49.512650Z",
     "iopub.status.idle": "2020-09-14T01:22:49.516738Z",
     "shell.execute_reply": "2020-09-14T01:22:49.515931Z"
    },
    "papermill": {
     "duration": 0.039965,
     "end_time": "2020-09-14T01:22:49.516870",
     "exception": false,
     "start_time": "2020-09-14T01:22:49.476905",
     "status": "completed"
    },
    "tags": []
   },
   "outputs": [],
   "source": [
    "data.drop(['Timestamp', 'Participant_ID'], axis=1, inplace=True)"
   ]
  },
  {
   "cell_type": "code",
   "execution_count": 5,
   "metadata": {
    "execution": {
     "iopub.execute_input": "2020-09-14T01:22:49.575215Z",
     "iopub.status.busy": "2020-09-14T01:22:49.574384Z",
     "iopub.status.idle": "2020-09-14T01:22:49.591192Z",
     "shell.execute_reply": "2020-09-14T01:22:49.591748Z"
    },
    "papermill": {
     "duration": 0.050175,
     "end_time": "2020-09-14T01:22:49.591920",
     "exception": false,
     "start_time": "2020-09-14T01:22:49.541745",
     "status": "completed"
    },
    "tags": []
   },
   "outputs": [
    {
     "data": {
      "text/html": [
       "<div>\n",
       "<style scoped>\n",
       "    .dataframe tbody tr th:only-of-type {\n",
       "        vertical-align: middle;\n",
       "    }\n",
       "\n",
       "    .dataframe tbody tr th {\n",
       "        vertical-align: top;\n",
       "    }\n",
       "\n",
       "    .dataframe thead th {\n",
       "        text-align: right;\n",
       "    }\n",
       "</style>\n",
       "<table border=\"1\" class=\"dataframe\">\n",
       "  <thead>\n",
       "    <tr style=\"text-align: right;\">\n",
       "      <th></th>\n",
       "      <th>Gender</th>\n",
       "      <th>Nationality</th>\n",
       "      <th>Age</th>\n",
       "      <th>Food</th>\n",
       "      <th>Juice</th>\n",
       "      <th>Dessert</th>\n",
       "    </tr>\n",
       "  </thead>\n",
       "  <tbody>\n",
       "    <tr>\n",
       "      <th>0</th>\n",
       "      <td>Male</td>\n",
       "      <td>Indian</td>\n",
       "      <td>24</td>\n",
       "      <td>Traditional food</td>\n",
       "      <td>Fresh Juice</td>\n",
       "      <td>Maybe</td>\n",
       "    </tr>\n",
       "    <tr>\n",
       "      <th>1</th>\n",
       "      <td>Female</td>\n",
       "      <td>Indian</td>\n",
       "      <td>22</td>\n",
       "      <td>Western Food</td>\n",
       "      <td>Carbonated drinks</td>\n",
       "      <td>Yes</td>\n",
       "    </tr>\n",
       "    <tr>\n",
       "      <th>2</th>\n",
       "      <td>Male</td>\n",
       "      <td>Indian</td>\n",
       "      <td>31</td>\n",
       "      <td>Western Food</td>\n",
       "      <td>Fresh Juice</td>\n",
       "      <td>Maybe</td>\n",
       "    </tr>\n",
       "    <tr>\n",
       "      <th>3</th>\n",
       "      <td>Female</td>\n",
       "      <td>Indian</td>\n",
       "      <td>25</td>\n",
       "      <td>Traditional food</td>\n",
       "      <td>Fresh Juice</td>\n",
       "      <td>Maybe</td>\n",
       "    </tr>\n",
       "    <tr>\n",
       "      <th>4</th>\n",
       "      <td>Male</td>\n",
       "      <td>Indian</td>\n",
       "      <td>27</td>\n",
       "      <td>Traditional food</td>\n",
       "      <td>Fresh Juice</td>\n",
       "      <td>Maybe</td>\n",
       "    </tr>\n",
       "    <tr>\n",
       "      <th>...</th>\n",
       "      <td>...</td>\n",
       "      <td>...</td>\n",
       "      <td>...</td>\n",
       "      <td>...</td>\n",
       "      <td>...</td>\n",
       "      <td>...</td>\n",
       "    </tr>\n",
       "    <tr>\n",
       "      <th>283</th>\n",
       "      <td>Male</td>\n",
       "      <td>Indian</td>\n",
       "      <td>27</td>\n",
       "      <td>Western Food</td>\n",
       "      <td>Fresh Juice</td>\n",
       "      <td>Yes</td>\n",
       "    </tr>\n",
       "    <tr>\n",
       "      <th>284</th>\n",
       "      <td>Male</td>\n",
       "      <td>Indian</td>\n",
       "      <td>24</td>\n",
       "      <td>Traditional food</td>\n",
       "      <td>Fresh Juice</td>\n",
       "      <td>Yes</td>\n",
       "    </tr>\n",
       "    <tr>\n",
       "      <th>285</th>\n",
       "      <td>Male</td>\n",
       "      <td>Indian</td>\n",
       "      <td>25</td>\n",
       "      <td>Traditional food</td>\n",
       "      <td>Fresh Juice</td>\n",
       "      <td>Yes</td>\n",
       "    </tr>\n",
       "    <tr>\n",
       "      <th>286</th>\n",
       "      <td>Male</td>\n",
       "      <td>Indian</td>\n",
       "      <td>27</td>\n",
       "      <td>Traditional food</td>\n",
       "      <td>Fresh Juice</td>\n",
       "      <td>Yes</td>\n",
       "    </tr>\n",
       "    <tr>\n",
       "      <th>287</th>\n",
       "      <td>Male</td>\n",
       "      <td>Indian</td>\n",
       "      <td>27</td>\n",
       "      <td>Traditional food</td>\n",
       "      <td>Fresh Juice</td>\n",
       "      <td>No</td>\n",
       "    </tr>\n",
       "  </tbody>\n",
       "</table>\n",
       "<p>288 rows × 6 columns</p>\n",
       "</div>"
      ],
      "text/plain": [
       "     Gender Nationality  Age              Food              Juice Dessert\n",
       "0      Male      Indian   24  Traditional food        Fresh Juice   Maybe\n",
       "1    Female      Indian   22      Western Food  Carbonated drinks     Yes\n",
       "2      Male      Indian   31      Western Food        Fresh Juice   Maybe\n",
       "3    Female      Indian   25  Traditional food        Fresh Juice   Maybe\n",
       "4      Male      Indian   27  Traditional food        Fresh Juice   Maybe\n",
       "..      ...         ...  ...               ...                ...     ...\n",
       "283    Male      Indian   27      Western Food        Fresh Juice     Yes\n",
       "284    Male      Indian   24  Traditional food        Fresh Juice     Yes\n",
       "285    Male      Indian   25  Traditional food        Fresh Juice     Yes\n",
       "286    Male      Indian   27  Traditional food        Fresh Juice     Yes\n",
       "287    Male      Indian   27  Traditional food        Fresh Juice      No\n",
       "\n",
       "[288 rows x 6 columns]"
      ]
     },
     "execution_count": 5,
     "metadata": {},
     "output_type": "execute_result"
    }
   ],
   "source": [
    "data"
   ]
  },
  {
   "cell_type": "code",
   "execution_count": 6,
   "metadata": {
    "execution": {
     "iopub.execute_input": "2020-09-14T01:22:49.663398Z",
     "iopub.status.busy": "2020-09-14T01:22:49.653461Z",
     "iopub.status.idle": "2020-09-14T01:22:49.669599Z",
     "shell.execute_reply": "2020-09-14T01:22:49.668745Z"
    },
    "papermill": {
     "duration": 0.050664,
     "end_time": "2020-09-14T01:22:49.669734",
     "exception": false,
     "start_time": "2020-09-14T01:22:49.619070",
     "status": "completed"
    },
    "tags": []
   },
   "outputs": [
    {
     "name": "stdout",
     "output_type": "stream",
     "text": [
      "<class 'pandas.core.frame.DataFrame'>\n",
      "RangeIndex: 288 entries, 0 to 287\n",
      "Data columns (total 6 columns):\n",
      " #   Column       Non-Null Count  Dtype \n",
      "---  ------       --------------  ----- \n",
      " 0   Gender       284 non-null    object\n",
      " 1   Nationality  288 non-null    object\n",
      " 2   Age          288 non-null    int64 \n",
      " 3   Food         288 non-null    object\n",
      " 4   Juice        288 non-null    object\n",
      " 5   Dessert      288 non-null    object\n",
      "dtypes: int64(1), object(5)\n",
      "memory usage: 13.6+ KB\n"
     ]
    }
   ],
   "source": [
    "data.info()"
   ]
  },
  {
   "cell_type": "markdown",
   "metadata": {
    "papermill": {
     "duration": 0.027209,
     "end_time": "2020-09-14T01:22:49.723887",
     "exception": false,
     "start_time": "2020-09-14T01:22:49.696678",
     "status": "completed"
    },
    "tags": []
   },
   "source": [
    "# Preprocessing"
   ]
  },
  {
   "cell_type": "markdown",
   "metadata": {
    "papermill": {
     "duration": 0.026062,
     "end_time": "2020-09-14T01:22:49.777705",
     "exception": false,
     "start_time": "2020-09-14T01:22:49.751643",
     "status": "completed"
    },
    "tags": []
   },
   "source": [
    "## Missing Values"
   ]
  },
  {
   "cell_type": "code",
   "execution_count": 7,
   "metadata": {
    "execution": {
     "iopub.execute_input": "2020-09-14T01:22:49.840206Z",
     "iopub.status.busy": "2020-09-14T01:22:49.839362Z",
     "iopub.status.idle": "2020-09-14T01:22:49.873178Z",
     "shell.execute_reply": "2020-09-14T01:22:49.872444Z"
    },
    "papermill": {
     "duration": 0.067559,
     "end_time": "2020-09-14T01:22:49.873345",
     "exception": false,
     "start_time": "2020-09-14T01:22:49.805786",
     "status": "completed"
    },
    "tags": []
   },
   "outputs": [],
   "source": [
    "data.dropna(axis=0, inplace=True)\n",
    "data.reset_index(drop=True, inplace=True)"
   ]
  },
  {
   "cell_type": "code",
   "execution_count": 8,
   "metadata": {
    "execution": {
     "iopub.execute_input": "2020-09-14T01:22:49.936980Z",
     "iopub.status.busy": "2020-09-14T01:22:49.935790Z",
     "iopub.status.idle": "2020-09-14T01:22:49.941277Z",
     "shell.execute_reply": "2020-09-14T01:22:49.940483Z"
    },
    "papermill": {
     "duration": 0.040808,
     "end_time": "2020-09-14T01:22:49.941412",
     "exception": false,
     "start_time": "2020-09-14T01:22:49.900604",
     "status": "completed"
    },
    "tags": []
   },
   "outputs": [
    {
     "data": {
      "text/plain": [
       "0      24\n",
       "1      22\n",
       "2      31\n",
       "3      25\n",
       "4      27\n",
       "       ..\n",
       "279    27\n",
       "280    24\n",
       "281    25\n",
       "282    27\n",
       "283    27\n",
       "Name: Age, Length: 284, dtype: int64"
      ]
     },
     "execution_count": 8,
     "metadata": {},
     "output_type": "execute_result"
    }
   ],
   "source": [
    "data['Age']"
   ]
  },
  {
   "cell_type": "code",
   "execution_count": 9,
   "metadata": {
    "execution": {
     "iopub.execute_input": "2020-09-14T01:22:50.009802Z",
     "iopub.status.busy": "2020-09-14T01:22:50.008980Z",
     "iopub.status.idle": "2020-09-14T01:22:50.013433Z",
     "shell.execute_reply": "2020-09-14T01:22:50.012724Z"
    },
    "papermill": {
     "duration": 0.043049,
     "end_time": "2020-09-14T01:22:50.013566",
     "exception": false,
     "start_time": "2020-09-14T01:22:49.970517",
     "status": "completed"
    },
    "tags": []
   },
   "outputs": [],
   "source": [
    "age_bins = pd.qcut(data['Age'], q=2, labels=[0, 1])"
   ]
  },
  {
   "cell_type": "code",
   "execution_count": 10,
   "metadata": {
    "execution": {
     "iopub.execute_input": "2020-09-14T01:22:50.090669Z",
     "iopub.status.busy": "2020-09-14T01:22:50.089545Z",
     "iopub.status.idle": "2020-09-14T01:22:50.094818Z",
     "shell.execute_reply": "2020-09-14T01:22:50.094062Z"
    },
    "papermill": {
     "duration": 0.051981,
     "end_time": "2020-09-14T01:22:50.094962",
     "exception": false,
     "start_time": "2020-09-14T01:22:50.042981",
     "status": "completed"
    },
    "tags": []
   },
   "outputs": [
    {
     "data": {
      "text/html": [
       "<div>\n",
       "<style scoped>\n",
       "    .dataframe tbody tr th:only-of-type {\n",
       "        vertical-align: middle;\n",
       "    }\n",
       "\n",
       "    .dataframe tbody tr th {\n",
       "        vertical-align: top;\n",
       "    }\n",
       "\n",
       "    .dataframe thead th {\n",
       "        text-align: right;\n",
       "    }\n",
       "</style>\n",
       "<table border=\"1\" class=\"dataframe\">\n",
       "  <thead>\n",
       "    <tr style=\"text-align: right;\">\n",
       "      <th></th>\n",
       "      <th>Age</th>\n",
       "      <th>Age</th>\n",
       "    </tr>\n",
       "  </thead>\n",
       "  <tbody>\n",
       "    <tr>\n",
       "      <th>0</th>\n",
       "      <td>24</td>\n",
       "      <td>0</td>\n",
       "    </tr>\n",
       "    <tr>\n",
       "      <th>1</th>\n",
       "      <td>22</td>\n",
       "      <td>0</td>\n",
       "    </tr>\n",
       "    <tr>\n",
       "      <th>2</th>\n",
       "      <td>31</td>\n",
       "      <td>1</td>\n",
       "    </tr>\n",
       "    <tr>\n",
       "      <th>3</th>\n",
       "      <td>25</td>\n",
       "      <td>0</td>\n",
       "    </tr>\n",
       "    <tr>\n",
       "      <th>4</th>\n",
       "      <td>27</td>\n",
       "      <td>0</td>\n",
       "    </tr>\n",
       "    <tr>\n",
       "      <th>...</th>\n",
       "      <td>...</td>\n",
       "      <td>...</td>\n",
       "    </tr>\n",
       "    <tr>\n",
       "      <th>279</th>\n",
       "      <td>27</td>\n",
       "      <td>0</td>\n",
       "    </tr>\n",
       "    <tr>\n",
       "      <th>280</th>\n",
       "      <td>24</td>\n",
       "      <td>0</td>\n",
       "    </tr>\n",
       "    <tr>\n",
       "      <th>281</th>\n",
       "      <td>25</td>\n",
       "      <td>0</td>\n",
       "    </tr>\n",
       "    <tr>\n",
       "      <th>282</th>\n",
       "      <td>27</td>\n",
       "      <td>0</td>\n",
       "    </tr>\n",
       "    <tr>\n",
       "      <th>283</th>\n",
       "      <td>27</td>\n",
       "      <td>0</td>\n",
       "    </tr>\n",
       "  </tbody>\n",
       "</table>\n",
       "<p>284 rows × 2 columns</p>\n",
       "</div>"
      ],
      "text/plain": [
       "    Age Age\n",
       "0    24   0\n",
       "1    22   0\n",
       "2    31   1\n",
       "3    25   0\n",
       "4    27   0\n",
       "..   ..  ..\n",
       "279  27   0\n",
       "280  24   0\n",
       "281  25   0\n",
       "282  27   0\n",
       "283  27   0\n",
       "\n",
       "[284 rows x 2 columns]"
      ]
     },
     "execution_count": 10,
     "metadata": {},
     "output_type": "execute_result"
    }
   ],
   "source": [
    "pd.concat([data['Age'], age_bins], axis=1)"
   ]
  },
  {
   "cell_type": "code",
   "execution_count": 11,
   "metadata": {
    "execution": {
     "iopub.execute_input": "2020-09-14T01:22:50.159040Z",
     "iopub.status.busy": "2020-09-14T01:22:50.158191Z",
     "iopub.status.idle": "2020-09-14T01:22:50.162175Z",
     "shell.execute_reply": "2020-09-14T01:22:50.161410Z"
    },
    "papermill": {
     "duration": 0.038489,
     "end_time": "2020-09-14T01:22:50.162320",
     "exception": false,
     "start_time": "2020-09-14T01:22:50.123831",
     "status": "completed"
    },
    "tags": []
   },
   "outputs": [],
   "source": [
    "data['Age'] = age_bins"
   ]
  },
  {
   "cell_type": "markdown",
   "metadata": {
    "papermill": {
     "duration": 0.028248,
     "end_time": "2020-09-14T01:22:50.219603",
     "exception": false,
     "start_time": "2020-09-14T01:22:50.191355",
     "status": "completed"
    },
    "tags": []
   },
   "source": [
    "## Encoding"
   ]
  },
  {
   "cell_type": "code",
   "execution_count": 12,
   "metadata": {
    "execution": {
     "iopub.execute_input": "2020-09-14T01:22:50.293135Z",
     "iopub.status.busy": "2020-09-14T01:22:50.292289Z",
     "iopub.status.idle": "2020-09-14T01:22:50.306407Z",
     "shell.execute_reply": "2020-09-14T01:22:50.305578Z"
    },
    "papermill": {
     "duration": 0.058248,
     "end_time": "2020-09-14T01:22:50.306543",
     "exception": false,
     "start_time": "2020-09-14T01:22:50.248295",
     "status": "completed"
    },
    "tags": []
   },
   "outputs": [
    {
     "data": {
      "text/html": [
       "<div>\n",
       "<style scoped>\n",
       "    .dataframe tbody tr th:only-of-type {\n",
       "        vertical-align: middle;\n",
       "    }\n",
       "\n",
       "    .dataframe tbody tr th {\n",
       "        vertical-align: top;\n",
       "    }\n",
       "\n",
       "    .dataframe thead th {\n",
       "        text-align: right;\n",
       "    }\n",
       "</style>\n",
       "<table border=\"1\" class=\"dataframe\">\n",
       "  <thead>\n",
       "    <tr style=\"text-align: right;\">\n",
       "      <th></th>\n",
       "      <th>Gender</th>\n",
       "      <th>Nationality</th>\n",
       "      <th>Age</th>\n",
       "      <th>Food</th>\n",
       "      <th>Juice</th>\n",
       "      <th>Dessert</th>\n",
       "    </tr>\n",
       "  </thead>\n",
       "  <tbody>\n",
       "    <tr>\n",
       "      <th>0</th>\n",
       "      <td>Male</td>\n",
       "      <td>Indian</td>\n",
       "      <td>0</td>\n",
       "      <td>Traditional food</td>\n",
       "      <td>Fresh Juice</td>\n",
       "      <td>Maybe</td>\n",
       "    </tr>\n",
       "    <tr>\n",
       "      <th>1</th>\n",
       "      <td>Female</td>\n",
       "      <td>Indian</td>\n",
       "      <td>0</td>\n",
       "      <td>Western Food</td>\n",
       "      <td>Carbonated drinks</td>\n",
       "      <td>Yes</td>\n",
       "    </tr>\n",
       "    <tr>\n",
       "      <th>2</th>\n",
       "      <td>Male</td>\n",
       "      <td>Indian</td>\n",
       "      <td>1</td>\n",
       "      <td>Western Food</td>\n",
       "      <td>Fresh Juice</td>\n",
       "      <td>Maybe</td>\n",
       "    </tr>\n",
       "    <tr>\n",
       "      <th>3</th>\n",
       "      <td>Female</td>\n",
       "      <td>Indian</td>\n",
       "      <td>0</td>\n",
       "      <td>Traditional food</td>\n",
       "      <td>Fresh Juice</td>\n",
       "      <td>Maybe</td>\n",
       "    </tr>\n",
       "    <tr>\n",
       "      <th>4</th>\n",
       "      <td>Male</td>\n",
       "      <td>Indian</td>\n",
       "      <td>0</td>\n",
       "      <td>Traditional food</td>\n",
       "      <td>Fresh Juice</td>\n",
       "      <td>Maybe</td>\n",
       "    </tr>\n",
       "    <tr>\n",
       "      <th>...</th>\n",
       "      <td>...</td>\n",
       "      <td>...</td>\n",
       "      <td>...</td>\n",
       "      <td>...</td>\n",
       "      <td>...</td>\n",
       "      <td>...</td>\n",
       "    </tr>\n",
       "    <tr>\n",
       "      <th>279</th>\n",
       "      <td>Male</td>\n",
       "      <td>Indian</td>\n",
       "      <td>0</td>\n",
       "      <td>Western Food</td>\n",
       "      <td>Fresh Juice</td>\n",
       "      <td>Yes</td>\n",
       "    </tr>\n",
       "    <tr>\n",
       "      <th>280</th>\n",
       "      <td>Male</td>\n",
       "      <td>Indian</td>\n",
       "      <td>0</td>\n",
       "      <td>Traditional food</td>\n",
       "      <td>Fresh Juice</td>\n",
       "      <td>Yes</td>\n",
       "    </tr>\n",
       "    <tr>\n",
       "      <th>281</th>\n",
       "      <td>Male</td>\n",
       "      <td>Indian</td>\n",
       "      <td>0</td>\n",
       "      <td>Traditional food</td>\n",
       "      <td>Fresh Juice</td>\n",
       "      <td>Yes</td>\n",
       "    </tr>\n",
       "    <tr>\n",
       "      <th>282</th>\n",
       "      <td>Male</td>\n",
       "      <td>Indian</td>\n",
       "      <td>0</td>\n",
       "      <td>Traditional food</td>\n",
       "      <td>Fresh Juice</td>\n",
       "      <td>Yes</td>\n",
       "    </tr>\n",
       "    <tr>\n",
       "      <th>283</th>\n",
       "      <td>Male</td>\n",
       "      <td>Indian</td>\n",
       "      <td>0</td>\n",
       "      <td>Traditional food</td>\n",
       "      <td>Fresh Juice</td>\n",
       "      <td>No</td>\n",
       "    </tr>\n",
       "  </tbody>\n",
       "</table>\n",
       "<p>284 rows × 6 columns</p>\n",
       "</div>"
      ],
      "text/plain": [
       "     Gender Nationality Age              Food              Juice Dessert\n",
       "0      Male      Indian   0  Traditional food        Fresh Juice   Maybe\n",
       "1    Female      Indian   0      Western Food  Carbonated drinks     Yes\n",
       "2      Male      Indian   1      Western Food        Fresh Juice   Maybe\n",
       "3    Female      Indian   0  Traditional food        Fresh Juice   Maybe\n",
       "4      Male      Indian   0  Traditional food        Fresh Juice   Maybe\n",
       "..      ...         ...  ..               ...                ...     ...\n",
       "279    Male      Indian   0      Western Food        Fresh Juice     Yes\n",
       "280    Male      Indian   0  Traditional food        Fresh Juice     Yes\n",
       "281    Male      Indian   0  Traditional food        Fresh Juice     Yes\n",
       "282    Male      Indian   0  Traditional food        Fresh Juice     Yes\n",
       "283    Male      Indian   0  Traditional food        Fresh Juice      No\n",
       "\n",
       "[284 rows x 6 columns]"
      ]
     },
     "execution_count": 12,
     "metadata": {},
     "output_type": "execute_result"
    }
   ],
   "source": [
    "data"
   ]
  },
  {
   "cell_type": "code",
   "execution_count": 13,
   "metadata": {
    "execution": {
     "iopub.execute_input": "2020-09-14T01:22:50.372054Z",
     "iopub.status.busy": "2020-09-14T01:22:50.371253Z",
     "iopub.status.idle": "2020-09-14T01:22:50.375727Z",
     "shell.execute_reply": "2020-09-14T01:22:50.374904Z"
    },
    "papermill": {
     "duration": 0.039881,
     "end_time": "2020-09-14T01:22:50.375860",
     "exception": false,
     "start_time": "2020-09-14T01:22:50.335979",
     "status": "completed"
    },
    "tags": []
   },
   "outputs": [],
   "source": [
    "categorical_features = ['Gender', 'Nationality', 'Food', 'Juice', 'Dessert']"
   ]
  },
  {
   "cell_type": "code",
   "execution_count": 14,
   "metadata": {
    "execution": {
     "iopub.execute_input": "2020-09-14T01:22:50.441792Z",
     "iopub.status.busy": "2020-09-14T01:22:50.440689Z",
     "iopub.status.idle": "2020-09-14T01:22:50.444801Z",
     "shell.execute_reply": "2020-09-14T01:22:50.444081Z"
    },
    "papermill": {
     "duration": 0.039713,
     "end_time": "2020-09-14T01:22:50.444933",
     "exception": false,
     "start_time": "2020-09-14T01:22:50.405220",
     "status": "completed"
    },
    "tags": []
   },
   "outputs": [],
   "source": [
    "def get_uniques(df, columns):\n",
    "    return {column: list(df[column].unique()) for column in columns}"
   ]
  },
  {
   "cell_type": "code",
   "execution_count": 15,
   "metadata": {
    "execution": {
     "iopub.execute_input": "2020-09-14T01:22:50.510554Z",
     "iopub.status.busy": "2020-09-14T01:22:50.509355Z",
     "iopub.status.idle": "2020-09-14T01:22:50.518407Z",
     "shell.execute_reply": "2020-09-14T01:22:50.517735Z"
    },
    "papermill": {
     "duration": 0.044211,
     "end_time": "2020-09-14T01:22:50.518533",
     "exception": false,
     "start_time": "2020-09-14T01:22:50.474322",
     "status": "completed"
    },
    "tags": []
   },
   "outputs": [
    {
     "data": {
      "text/plain": [
       "{'Gender': ['Male', 'Female'],\n",
       " 'Nationality': ['Indian',\n",
       "  'Pakistani ',\n",
       "  'Tanzanian',\n",
       "  'Indonesia',\n",
       "  'Pakistan',\n",
       "  'Maldivian ',\n",
       "  'MY',\n",
       "  'Malaysian',\n",
       "  'Malaysian ',\n",
       "  'Indonesian ',\n",
       "  'Maldivian',\n",
       "  'MALAYSIAN',\n",
       "  'Malaysia ',\n",
       "  'Pakistani',\n",
       "  'Canadian',\n",
       "  'Nigerian ',\n",
       "  'Algerian ',\n",
       "  'Korean ',\n",
       "  'Seychellois',\n",
       "  'Indonesain',\n",
       "  'Indonesian',\n",
       "  'Malaysia',\n",
       "  'Japan',\n",
       "  'China',\n",
       "  'Mauritian',\n",
       "  'Yemen'],\n",
       " 'Food': ['Traditional food', 'Western Food'],\n",
       " 'Juice': ['Fresh Juice', 'Carbonated drinks'],\n",
       " 'Dessert': ['Maybe', 'Yes', 'No']}"
      ]
     },
     "execution_count": 15,
     "metadata": {},
     "output_type": "execute_result"
    }
   ],
   "source": [
    "get_uniques(data, categorical_features)"
   ]
  },
  {
   "cell_type": "code",
   "execution_count": 16,
   "metadata": {
    "execution": {
     "iopub.execute_input": "2020-09-14T01:22:50.585663Z",
     "iopub.status.busy": "2020-09-14T01:22:50.584873Z",
     "iopub.status.idle": "2020-09-14T01:22:50.588670Z",
     "shell.execute_reply": "2020-09-14T01:22:50.587925Z"
    },
    "papermill": {
     "duration": 0.039714,
     "end_time": "2020-09-14T01:22:50.588793",
     "exception": false,
     "start_time": "2020-09-14T01:22:50.549079",
     "status": "completed"
    },
    "tags": []
   },
   "outputs": [],
   "source": [
    "binary_features = ['Gender', 'Food', 'Juice']\n",
    "\n",
    "ordinal_features = ['Dessert']\n",
    "\n",
    "nominal_features = ['Nationality']"
   ]
  },
  {
   "cell_type": "code",
   "execution_count": 17,
   "metadata": {
    "execution": {
     "iopub.execute_input": "2020-09-14T01:22:50.657176Z",
     "iopub.status.busy": "2020-09-14T01:22:50.656062Z",
     "iopub.status.idle": "2020-09-14T01:22:50.659668Z",
     "shell.execute_reply": "2020-09-14T01:22:50.659049Z"
    },
    "papermill": {
     "duration": 0.040576,
     "end_time": "2020-09-14T01:22:50.659791",
     "exception": false,
     "start_time": "2020-09-14T01:22:50.619215",
     "status": "completed"
    },
    "tags": []
   },
   "outputs": [],
   "source": [
    "def binary_encode(df, column, positive_label):\n",
    "    df = df.copy()\n",
    "    df[column] = df[column].apply(lambda x: 1 if x == positive_label else 0)\n",
    "    return df"
   ]
  },
  {
   "cell_type": "code",
   "execution_count": 18,
   "metadata": {
    "execution": {
     "iopub.execute_input": "2020-09-14T01:22:50.728241Z",
     "iopub.status.busy": "2020-09-14T01:22:50.727383Z",
     "iopub.status.idle": "2020-09-14T01:22:50.731244Z",
     "shell.execute_reply": "2020-09-14T01:22:50.730488Z"
    },
    "papermill": {
     "duration": 0.04087,
     "end_time": "2020-09-14T01:22:50.731371",
     "exception": false,
     "start_time": "2020-09-14T01:22:50.690501",
     "status": "completed"
    },
    "tags": []
   },
   "outputs": [],
   "source": [
    "def ordinal_encode(df, column, ordering):\n",
    "    df = df.copy()\n",
    "    df[column] = df[column].apply(lambda x: ordering.index(x))\n",
    "    return df"
   ]
  },
  {
   "cell_type": "code",
   "execution_count": 19,
   "metadata": {
    "execution": {
     "iopub.execute_input": "2020-09-14T01:22:50.801465Z",
     "iopub.status.busy": "2020-09-14T01:22:50.800063Z",
     "iopub.status.idle": "2020-09-14T01:22:50.803409Z",
     "shell.execute_reply": "2020-09-14T01:22:50.804233Z"
    },
    "papermill": {
     "duration": 0.042668,
     "end_time": "2020-09-14T01:22:50.804411",
     "exception": false,
     "start_time": "2020-09-14T01:22:50.761743",
     "status": "completed"
    },
    "tags": []
   },
   "outputs": [],
   "source": [
    "def onehot_encode(df, column):\n",
    "    df = df.copy()\n",
    "    dummies = pd.get_dummies(df[column])\n",
    "    df = pd.concat([df, dummies], axis=1)\n",
    "    df.drop(column, axis=1, inplace=True)\n",
    "    return df"
   ]
  },
  {
   "cell_type": "code",
   "execution_count": 20,
   "metadata": {
    "execution": {
     "iopub.execute_input": "2020-09-14T01:22:50.889999Z",
     "iopub.status.busy": "2020-09-14T01:22:50.882984Z",
     "iopub.status.idle": "2020-09-14T01:22:50.898894Z",
     "shell.execute_reply": "2020-09-14T01:22:50.897936Z"
    },
    "papermill": {
     "duration": 0.056987,
     "end_time": "2020-09-14T01:22:50.899081",
     "exception": false,
     "start_time": "2020-09-14T01:22:50.842094",
     "status": "completed"
    },
    "tags": []
   },
   "outputs": [],
   "source": [
    "data = binary_encode(data, 'Gender', 'Male')\n",
    "data = binary_encode(data, 'Food', 'Traditional food')\n",
    "data = binary_encode(data, 'Juice', 'Fresh Juice')\n",
    "\n",
    "dessert_ordering = ['No', 'Maybe', 'Yes']\n",
    "data = ordinal_encode(data, 'Dessert', dessert_ordering)\n",
    "\n",
    "data = onehot_encode(data, 'Nationality')"
   ]
  },
  {
   "cell_type": "code",
   "execution_count": 21,
   "metadata": {
    "execution": {
     "iopub.execute_input": "2020-09-14T01:22:51.000852Z",
     "iopub.status.busy": "2020-09-14T01:22:50.986894Z",
     "iopub.status.idle": "2020-09-14T01:22:51.021615Z",
     "shell.execute_reply": "2020-09-14T01:22:51.020795Z"
    },
    "papermill": {
     "duration": 0.0807,
     "end_time": "2020-09-14T01:22:51.021757",
     "exception": false,
     "start_time": "2020-09-14T01:22:50.941057",
     "status": "completed"
    },
    "tags": []
   },
   "outputs": [
    {
     "data": {
      "text/html": [
       "<div>\n",
       "<style scoped>\n",
       "    .dataframe tbody tr th:only-of-type {\n",
       "        vertical-align: middle;\n",
       "    }\n",
       "\n",
       "    .dataframe tbody tr th {\n",
       "        vertical-align: top;\n",
       "    }\n",
       "\n",
       "    .dataframe thead th {\n",
       "        text-align: right;\n",
       "    }\n",
       "</style>\n",
       "<table border=\"1\" class=\"dataframe\">\n",
       "  <thead>\n",
       "    <tr style=\"text-align: right;\">\n",
       "      <th></th>\n",
       "      <th>Gender</th>\n",
       "      <th>Age</th>\n",
       "      <th>Food</th>\n",
       "      <th>Juice</th>\n",
       "      <th>Dessert</th>\n",
       "      <th>Algerian</th>\n",
       "      <th>Canadian</th>\n",
       "      <th>China</th>\n",
       "      <th>Indian</th>\n",
       "      <th>Indonesain</th>\n",
       "      <th>...</th>\n",
       "      <th>Maldivian</th>\n",
       "      <th>Maldivian</th>\n",
       "      <th>Mauritian</th>\n",
       "      <th>Nigerian</th>\n",
       "      <th>Pakistan</th>\n",
       "      <th>Pakistani</th>\n",
       "      <th>Pakistani</th>\n",
       "      <th>Seychellois</th>\n",
       "      <th>Tanzanian</th>\n",
       "      <th>Yemen</th>\n",
       "    </tr>\n",
       "  </thead>\n",
       "  <tbody>\n",
       "    <tr>\n",
       "      <th>0</th>\n",
       "      <td>1</td>\n",
       "      <td>0</td>\n",
       "      <td>1</td>\n",
       "      <td>1</td>\n",
       "      <td>1</td>\n",
       "      <td>0</td>\n",
       "      <td>0</td>\n",
       "      <td>0</td>\n",
       "      <td>1</td>\n",
       "      <td>0</td>\n",
       "      <td>...</td>\n",
       "      <td>0</td>\n",
       "      <td>0</td>\n",
       "      <td>0</td>\n",
       "      <td>0</td>\n",
       "      <td>0</td>\n",
       "      <td>0</td>\n",
       "      <td>0</td>\n",
       "      <td>0</td>\n",
       "      <td>0</td>\n",
       "      <td>0</td>\n",
       "    </tr>\n",
       "    <tr>\n",
       "      <th>1</th>\n",
       "      <td>0</td>\n",
       "      <td>0</td>\n",
       "      <td>0</td>\n",
       "      <td>0</td>\n",
       "      <td>2</td>\n",
       "      <td>0</td>\n",
       "      <td>0</td>\n",
       "      <td>0</td>\n",
       "      <td>1</td>\n",
       "      <td>0</td>\n",
       "      <td>...</td>\n",
       "      <td>0</td>\n",
       "      <td>0</td>\n",
       "      <td>0</td>\n",
       "      <td>0</td>\n",
       "      <td>0</td>\n",
       "      <td>0</td>\n",
       "      <td>0</td>\n",
       "      <td>0</td>\n",
       "      <td>0</td>\n",
       "      <td>0</td>\n",
       "    </tr>\n",
       "    <tr>\n",
       "      <th>2</th>\n",
       "      <td>1</td>\n",
       "      <td>1</td>\n",
       "      <td>0</td>\n",
       "      <td>1</td>\n",
       "      <td>1</td>\n",
       "      <td>0</td>\n",
       "      <td>0</td>\n",
       "      <td>0</td>\n",
       "      <td>1</td>\n",
       "      <td>0</td>\n",
       "      <td>...</td>\n",
       "      <td>0</td>\n",
       "      <td>0</td>\n",
       "      <td>0</td>\n",
       "      <td>0</td>\n",
       "      <td>0</td>\n",
       "      <td>0</td>\n",
       "      <td>0</td>\n",
       "      <td>0</td>\n",
       "      <td>0</td>\n",
       "      <td>0</td>\n",
       "    </tr>\n",
       "    <tr>\n",
       "      <th>3</th>\n",
       "      <td>0</td>\n",
       "      <td>0</td>\n",
       "      <td>1</td>\n",
       "      <td>1</td>\n",
       "      <td>1</td>\n",
       "      <td>0</td>\n",
       "      <td>0</td>\n",
       "      <td>0</td>\n",
       "      <td>1</td>\n",
       "      <td>0</td>\n",
       "      <td>...</td>\n",
       "      <td>0</td>\n",
       "      <td>0</td>\n",
       "      <td>0</td>\n",
       "      <td>0</td>\n",
       "      <td>0</td>\n",
       "      <td>0</td>\n",
       "      <td>0</td>\n",
       "      <td>0</td>\n",
       "      <td>0</td>\n",
       "      <td>0</td>\n",
       "    </tr>\n",
       "    <tr>\n",
       "      <th>4</th>\n",
       "      <td>1</td>\n",
       "      <td>0</td>\n",
       "      <td>1</td>\n",
       "      <td>1</td>\n",
       "      <td>1</td>\n",
       "      <td>0</td>\n",
       "      <td>0</td>\n",
       "      <td>0</td>\n",
       "      <td>1</td>\n",
       "      <td>0</td>\n",
       "      <td>...</td>\n",
       "      <td>0</td>\n",
       "      <td>0</td>\n",
       "      <td>0</td>\n",
       "      <td>0</td>\n",
       "      <td>0</td>\n",
       "      <td>0</td>\n",
       "      <td>0</td>\n",
       "      <td>0</td>\n",
       "      <td>0</td>\n",
       "      <td>0</td>\n",
       "    </tr>\n",
       "    <tr>\n",
       "      <th>...</th>\n",
       "      <td>...</td>\n",
       "      <td>...</td>\n",
       "      <td>...</td>\n",
       "      <td>...</td>\n",
       "      <td>...</td>\n",
       "      <td>...</td>\n",
       "      <td>...</td>\n",
       "      <td>...</td>\n",
       "      <td>...</td>\n",
       "      <td>...</td>\n",
       "      <td>...</td>\n",
       "      <td>...</td>\n",
       "      <td>...</td>\n",
       "      <td>...</td>\n",
       "      <td>...</td>\n",
       "      <td>...</td>\n",
       "      <td>...</td>\n",
       "      <td>...</td>\n",
       "      <td>...</td>\n",
       "      <td>...</td>\n",
       "      <td>...</td>\n",
       "    </tr>\n",
       "    <tr>\n",
       "      <th>279</th>\n",
       "      <td>1</td>\n",
       "      <td>0</td>\n",
       "      <td>0</td>\n",
       "      <td>1</td>\n",
       "      <td>2</td>\n",
       "      <td>0</td>\n",
       "      <td>0</td>\n",
       "      <td>0</td>\n",
       "      <td>1</td>\n",
       "      <td>0</td>\n",
       "      <td>...</td>\n",
       "      <td>0</td>\n",
       "      <td>0</td>\n",
       "      <td>0</td>\n",
       "      <td>0</td>\n",
       "      <td>0</td>\n",
       "      <td>0</td>\n",
       "      <td>0</td>\n",
       "      <td>0</td>\n",
       "      <td>0</td>\n",
       "      <td>0</td>\n",
       "    </tr>\n",
       "    <tr>\n",
       "      <th>280</th>\n",
       "      <td>1</td>\n",
       "      <td>0</td>\n",
       "      <td>1</td>\n",
       "      <td>1</td>\n",
       "      <td>2</td>\n",
       "      <td>0</td>\n",
       "      <td>0</td>\n",
       "      <td>0</td>\n",
       "      <td>1</td>\n",
       "      <td>0</td>\n",
       "      <td>...</td>\n",
       "      <td>0</td>\n",
       "      <td>0</td>\n",
       "      <td>0</td>\n",
       "      <td>0</td>\n",
       "      <td>0</td>\n",
       "      <td>0</td>\n",
       "      <td>0</td>\n",
       "      <td>0</td>\n",
       "      <td>0</td>\n",
       "      <td>0</td>\n",
       "    </tr>\n",
       "    <tr>\n",
       "      <th>281</th>\n",
       "      <td>1</td>\n",
       "      <td>0</td>\n",
       "      <td>1</td>\n",
       "      <td>1</td>\n",
       "      <td>2</td>\n",
       "      <td>0</td>\n",
       "      <td>0</td>\n",
       "      <td>0</td>\n",
       "      <td>1</td>\n",
       "      <td>0</td>\n",
       "      <td>...</td>\n",
       "      <td>0</td>\n",
       "      <td>0</td>\n",
       "      <td>0</td>\n",
       "      <td>0</td>\n",
       "      <td>0</td>\n",
       "      <td>0</td>\n",
       "      <td>0</td>\n",
       "      <td>0</td>\n",
       "      <td>0</td>\n",
       "      <td>0</td>\n",
       "    </tr>\n",
       "    <tr>\n",
       "      <th>282</th>\n",
       "      <td>1</td>\n",
       "      <td>0</td>\n",
       "      <td>1</td>\n",
       "      <td>1</td>\n",
       "      <td>2</td>\n",
       "      <td>0</td>\n",
       "      <td>0</td>\n",
       "      <td>0</td>\n",
       "      <td>1</td>\n",
       "      <td>0</td>\n",
       "      <td>...</td>\n",
       "      <td>0</td>\n",
       "      <td>0</td>\n",
       "      <td>0</td>\n",
       "      <td>0</td>\n",
       "      <td>0</td>\n",
       "      <td>0</td>\n",
       "      <td>0</td>\n",
       "      <td>0</td>\n",
       "      <td>0</td>\n",
       "      <td>0</td>\n",
       "    </tr>\n",
       "    <tr>\n",
       "      <th>283</th>\n",
       "      <td>1</td>\n",
       "      <td>0</td>\n",
       "      <td>1</td>\n",
       "      <td>1</td>\n",
       "      <td>0</td>\n",
       "      <td>0</td>\n",
       "      <td>0</td>\n",
       "      <td>0</td>\n",
       "      <td>1</td>\n",
       "      <td>0</td>\n",
       "      <td>...</td>\n",
       "      <td>0</td>\n",
       "      <td>0</td>\n",
       "      <td>0</td>\n",
       "      <td>0</td>\n",
       "      <td>0</td>\n",
       "      <td>0</td>\n",
       "      <td>0</td>\n",
       "      <td>0</td>\n",
       "      <td>0</td>\n",
       "      <td>0</td>\n",
       "    </tr>\n",
       "  </tbody>\n",
       "</table>\n",
       "<p>284 rows × 31 columns</p>\n",
       "</div>"
      ],
      "text/plain": [
       "     Gender Age  Food  Juice  Dessert  Algerian   Canadian  China  Indian  \\\n",
       "0         1   0     1      1        1          0         0      0       1   \n",
       "1         0   0     0      0        2          0         0      0       1   \n",
       "2         1   1     0      1        1          0         0      0       1   \n",
       "3         0   0     1      1        1          0         0      0       1   \n",
       "4         1   0     1      1        1          0         0      0       1   \n",
       "..      ...  ..   ...    ...      ...        ...       ...    ...     ...   \n",
       "279       1   0     0      1        2          0         0      0       1   \n",
       "280       1   0     1      1        2          0         0      0       1   \n",
       "281       1   0     1      1        2          0         0      0       1   \n",
       "282       1   0     1      1        2          0         0      0       1   \n",
       "283       1   0     1      1        0          0         0      0       1   \n",
       "\n",
       "     Indonesain  ...  Maldivian  Maldivian   Mauritian  Nigerian   Pakistan  \\\n",
       "0             0  ...          0           0          0          0         0   \n",
       "1             0  ...          0           0          0          0         0   \n",
       "2             0  ...          0           0          0          0         0   \n",
       "3             0  ...          0           0          0          0         0   \n",
       "4             0  ...          0           0          0          0         0   \n",
       "..          ...  ...        ...         ...        ...        ...       ...   \n",
       "279           0  ...          0           0          0          0         0   \n",
       "280           0  ...          0           0          0          0         0   \n",
       "281           0  ...          0           0          0          0         0   \n",
       "282           0  ...          0           0          0          0         0   \n",
       "283           0  ...          0           0          0          0         0   \n",
       "\n",
       "     Pakistani  Pakistani   Seychellois  Tanzanian  Yemen  \n",
       "0            0           0            0          0      0  \n",
       "1            0           0            0          0      0  \n",
       "2            0           0            0          0      0  \n",
       "3            0           0            0          0      0  \n",
       "4            0           0            0          0      0  \n",
       "..         ...         ...          ...        ...    ...  \n",
       "279          0           0            0          0      0  \n",
       "280          0           0            0          0      0  \n",
       "281          0           0            0          0      0  \n",
       "282          0           0            0          0      0  \n",
       "283          0           0            0          0      0  \n",
       "\n",
       "[284 rows x 31 columns]"
      ]
     },
     "execution_count": 21,
     "metadata": {},
     "output_type": "execute_result"
    }
   ],
   "source": [
    "data"
   ]
  },
  {
   "cell_type": "markdown",
   "metadata": {
    "papermill": {
     "duration": 0.034068,
     "end_time": "2020-09-14T01:22:51.089364",
     "exception": false,
     "start_time": "2020-09-14T01:22:51.055296",
     "status": "completed"
    },
    "tags": []
   },
   "source": [
    "## Scaling and Splitting"
   ]
  },
  {
   "cell_type": "code",
   "execution_count": 22,
   "metadata": {
    "execution": {
     "iopub.execute_input": "2020-09-14T01:22:51.162750Z",
     "iopub.status.busy": "2020-09-14T01:22:51.161787Z",
     "iopub.status.idle": "2020-09-14T01:22:51.165697Z",
     "shell.execute_reply": "2020-09-14T01:22:51.164953Z"
    },
    "papermill": {
     "duration": 0.043392,
     "end_time": "2020-09-14T01:22:51.165821",
     "exception": false,
     "start_time": "2020-09-14T01:22:51.122429",
     "status": "completed"
    },
    "tags": []
   },
   "outputs": [],
   "source": [
    "y = data['Age']\n",
    "X = data.drop('Age', axis=1)"
   ]
  },
  {
   "cell_type": "code",
   "execution_count": 23,
   "metadata": {
    "execution": {
     "iopub.execute_input": "2020-09-14T01:22:51.239108Z",
     "iopub.status.busy": "2020-09-14T01:22:51.238114Z",
     "iopub.status.idle": "2020-09-14T01:22:51.245258Z",
     "shell.execute_reply": "2020-09-14T01:22:51.244593Z"
    },
    "papermill": {
     "duration": 0.047572,
     "end_time": "2020-09-14T01:22:51.245392",
     "exception": false,
     "start_time": "2020-09-14T01:22:51.197820",
     "status": "completed"
    },
    "tags": []
   },
   "outputs": [],
   "source": [
    "scaler = MinMaxScaler()\n",
    "\n",
    "X = scaler.fit_transform(X)"
   ]
  },
  {
   "cell_type": "code",
   "execution_count": 24,
   "metadata": {
    "execution": {
     "iopub.execute_input": "2020-09-14T01:22:51.317695Z",
     "iopub.status.busy": "2020-09-14T01:22:51.316925Z",
     "iopub.status.idle": "2020-09-14T01:22:51.321479Z",
     "shell.execute_reply": "2020-09-14T01:22:51.320738Z"
    },
    "papermill": {
     "duration": 0.043685,
     "end_time": "2020-09-14T01:22:51.321610",
     "exception": false,
     "start_time": "2020-09-14T01:22:51.277925",
     "status": "completed"
    },
    "tags": []
   },
   "outputs": [],
   "source": [
    "X_train, X_test, y_train, y_test = train_test_split(X, y, train_size=0.7)"
   ]
  },
  {
   "cell_type": "markdown",
   "metadata": {
    "papermill": {
     "duration": 0.032274,
     "end_time": "2020-09-14T01:22:51.386559",
     "exception": false,
     "start_time": "2020-09-14T01:22:51.354285",
     "status": "completed"
    },
    "tags": []
   },
   "source": [
    "# Training"
   ]
  },
  {
   "cell_type": "code",
   "execution_count": 25,
   "metadata": {
    "execution": {
     "iopub.execute_input": "2020-09-14T01:22:51.504506Z",
     "iopub.status.busy": "2020-09-14T01:22:51.503277Z",
     "iopub.status.idle": "2020-09-14T01:22:51.511205Z",
     "shell.execute_reply": "2020-09-14T01:22:51.509972Z"
    },
    "papermill": {
     "duration": 0.091669,
     "end_time": "2020-09-14T01:22:51.511349",
     "exception": false,
     "start_time": "2020-09-14T01:22:51.419680",
     "status": "completed"
    },
    "tags": []
   },
   "outputs": [
    {
     "data": {
      "text/plain": [
       "0.7209302325581395"
      ]
     },
     "execution_count": 25,
     "metadata": {},
     "output_type": "execute_result"
    }
   ],
   "source": [
    "model = LogisticRegression()\n",
    "model.fit(X_train, y_train)\n",
    "model.score(X_test, y_test)"
   ]
  },
  {
   "cell_type": "markdown",
   "metadata": {
    "papermill": {
     "duration": 0.033876,
     "end_time": "2020-09-14T01:22:51.579481",
     "exception": false,
     "start_time": "2020-09-14T01:22:51.545605",
     "status": "completed"
    },
    "tags": []
   },
   "source": [
    "# Data Every Day  \n",
    "\n",
    "This notebook is featured on Data Every Day, a YouTube series where I train models on a new dataset each day.  \n",
    "\n",
    "***\n",
    "\n",
    "Check it out!  \n",
    "https://youtu.be/r0eaUpurifA"
   ]
  }
 ],
 "metadata": {
  "kernelspec": {
   "display_name": "Python 3",
   "language": "python",
   "name": "python3"
  },
  "language_info": {
   "codemirror_mode": {
    "name": "ipython",
    "version": 3
   },
   "file_extension": ".py",
   "mimetype": "text/x-python",
   "name": "python",
   "nbconvert_exporter": "python",
   "pygments_lexer": "ipython3",
   "version": "3.7.6"
  },
  "papermill": {
   "duration": 8.847685,
   "end_time": "2020-09-14T01:22:51.723445",
   "environment_variables": {},
   "exception": null,
   "input_path": "__notebook__.ipynb",
   "output_path": "__notebook__.ipynb",
   "parameters": {},
   "start_time": "2020-09-14T01:22:42.875760",
   "version": "2.1.0"
  }
 },
 "nbformat": 4,
 "nbformat_minor": 4
}
