{
 "cells": [
  {
   "cell_type": "code",
   "execution_count": 1,
   "metadata": {
    "_cell_guid": "b1076dfc-b9ad-4769-8c92-a6c4dae69d19",
    "_uuid": "8f2839f25d086af736a60e9eeb907d3b93b6e0e5"
   },
   "outputs": [
    {
     "name": "stdout",
     "output_type": "stream",
     "text": [
      "['heart.csv']\n"
     ]
    }
   ],
   "source": [
    "# This Python 3 environment comes with many helpful analytics libraries installed\n",
    "# It is defined by the kaggle/python docker image: https://github.com/kaggle/docker-python\n",
    "# For example, here's several helpful packages to load in \n",
    "\n",
    "import numpy as np # linear algebra\n",
    "import pandas as pd # data processing, CSV file I/O (e.g. pd.read_csv)\n",
    "from sklearn.preprocessing import StandardScaler\n",
    "from sklearn.model_selection import train_test_split, GridSearchCV\n",
    "from sklearn.metrics import *  \n",
    "import matplotlib.pyplot as plt\n",
    "import seaborn as sns\n",
    "import itertools\n",
    "%matplotlib inline\n",
    "plt.rcParams[\"figure.figsize\"] = (20,7)\n",
    "# Input data files are available in the \"../input/\" directory.\n",
    "# For example, running this (by clicking run or pressing Shift+Enter) will list the files in the input directory\n",
    "\n",
    "import os\n",
    "print(os.listdir(\"../input\"))\n",
    "\n",
    "# Any results you write to the current directory are saved as output."
   ]
  },
  {
   "cell_type": "code",
   "execution_count": 2,
   "metadata": {
    "_cell_guid": "79c7e3d0-c299-4dcb-8224-4455121ee9b0",
    "_uuid": "d629ff2d2480ee46fbb7e2d37f6b5fab8052498a"
   },
   "outputs": [
    {
     "data": {
      "text/html": [
       "<div>\n",
       "<style scoped>\n",
       "    .dataframe tbody tr th:only-of-type {\n",
       "        vertical-align: middle;\n",
       "    }\n",
       "\n",
       "    .dataframe tbody tr th {\n",
       "        vertical-align: top;\n",
       "    }\n",
       "\n",
       "    .dataframe thead th {\n",
       "        text-align: right;\n",
       "    }\n",
       "</style>\n",
       "<table border=\"1\" class=\"dataframe\">\n",
       "  <thead>\n",
       "    <tr style=\"text-align: right;\">\n",
       "      <th></th>\n",
       "      <th>age</th>\n",
       "      <th>sex</th>\n",
       "      <th>cp</th>\n",
       "      <th>trestbps</th>\n",
       "      <th>chol</th>\n",
       "      <th>fbs</th>\n",
       "      <th>restecg</th>\n",
       "      <th>thalach</th>\n",
       "      <th>exang</th>\n",
       "      <th>oldpeak</th>\n",
       "      <th>slope</th>\n",
       "      <th>ca</th>\n",
       "      <th>thal</th>\n",
       "      <th>target</th>\n",
       "    </tr>\n",
       "  </thead>\n",
       "  <tbody>\n",
       "    <tr>\n",
       "      <th>0</th>\n",
       "      <td>63</td>\n",
       "      <td>1</td>\n",
       "      <td>3</td>\n",
       "      <td>145</td>\n",
       "      <td>233</td>\n",
       "      <td>1</td>\n",
       "      <td>0</td>\n",
       "      <td>150</td>\n",
       "      <td>0</td>\n",
       "      <td>2.3</td>\n",
       "      <td>0</td>\n",
       "      <td>0</td>\n",
       "      <td>1</td>\n",
       "      <td>1</td>\n",
       "    </tr>\n",
       "    <tr>\n",
       "      <th>1</th>\n",
       "      <td>37</td>\n",
       "      <td>1</td>\n",
       "      <td>2</td>\n",
       "      <td>130</td>\n",
       "      <td>250</td>\n",
       "      <td>0</td>\n",
       "      <td>1</td>\n",
       "      <td>187</td>\n",
       "      <td>0</td>\n",
       "      <td>3.5</td>\n",
       "      <td>0</td>\n",
       "      <td>0</td>\n",
       "      <td>2</td>\n",
       "      <td>1</td>\n",
       "    </tr>\n",
       "    <tr>\n",
       "      <th>2</th>\n",
       "      <td>41</td>\n",
       "      <td>0</td>\n",
       "      <td>1</td>\n",
       "      <td>130</td>\n",
       "      <td>204</td>\n",
       "      <td>0</td>\n",
       "      <td>0</td>\n",
       "      <td>172</td>\n",
       "      <td>0</td>\n",
       "      <td>1.4</td>\n",
       "      <td>2</td>\n",
       "      <td>0</td>\n",
       "      <td>2</td>\n",
       "      <td>1</td>\n",
       "    </tr>\n",
       "    <tr>\n",
       "      <th>3</th>\n",
       "      <td>56</td>\n",
       "      <td>1</td>\n",
       "      <td>1</td>\n",
       "      <td>120</td>\n",
       "      <td>236</td>\n",
       "      <td>0</td>\n",
       "      <td>1</td>\n",
       "      <td>178</td>\n",
       "      <td>0</td>\n",
       "      <td>0.8</td>\n",
       "      <td>2</td>\n",
       "      <td>0</td>\n",
       "      <td>2</td>\n",
       "      <td>1</td>\n",
       "    </tr>\n",
       "    <tr>\n",
       "      <th>4</th>\n",
       "      <td>57</td>\n",
       "      <td>0</td>\n",
       "      <td>0</td>\n",
       "      <td>120</td>\n",
       "      <td>354</td>\n",
       "      <td>0</td>\n",
       "      <td>1</td>\n",
       "      <td>163</td>\n",
       "      <td>1</td>\n",
       "      <td>0.6</td>\n",
       "      <td>2</td>\n",
       "      <td>0</td>\n",
       "      <td>2</td>\n",
       "      <td>1</td>\n",
       "    </tr>\n",
       "  </tbody>\n",
       "</table>\n",
       "</div>"
      ],
      "text/plain": [
       "   age  sex  cp  trestbps  chol   ...    oldpeak  slope  ca  thal  target\n",
       "0   63    1   3       145   233   ...        2.3      0   0     1       1\n",
       "1   37    1   2       130   250   ...        3.5      0   0     2       1\n",
       "2   41    0   1       130   204   ...        1.4      2   0     2       1\n",
       "3   56    1   1       120   236   ...        0.8      2   0     2       1\n",
       "4   57    0   0       120   354   ...        0.6      2   0     2       1\n",
       "\n",
       "[5 rows x 14 columns]"
      ]
     },
     "execution_count": 2,
     "metadata": {},
     "output_type": "execute_result"
    }
   ],
   "source": [
    "df = pd.read_csv('../input/heart.csv')\n",
    "df.head()"
   ]
  },
  {
   "cell_type": "code",
   "execution_count": 3,
   "metadata": {
    "_uuid": "f5e0c7ddadccb3a5c95e4d188023b45a1811f8fb"
   },
   "outputs": [],
   "source": [
    "x = df.iloc[:,:-1].values\n",
    "y = df.iloc[:,-1].values"
   ]
  },
  {
   "cell_type": "code",
   "execution_count": 4,
   "metadata": {
    "_uuid": "3d4efc8c569010b7997d798e9d0aa72f9c5a8441"
   },
   "outputs": [
    {
     "name": "stdout",
     "output_type": "stream",
     "text": [
      "Train set: (242, 13) (242,)\n",
      "Test set: (61, 13) (61,)\n"
     ]
    }
   ],
   "source": [
    "x_train, x_test, y_train, y_test = train_test_split(x, y, test_size=0.2)\n",
    "print ('Train set:', x_train.shape,  y_train.shape)\n",
    "print ('Test set:', x_test.shape,  y_test.shape)"
   ]
  },
  {
   "cell_type": "code",
   "execution_count": 5,
   "metadata": {
    "_uuid": "abb2c7c6a8bdc3e7f68017445822d616d6dc1952"
   },
   "outputs": [
    {
     "data": {
      "image/png": "[encoded data removed]",
      "text/plain": [
       "<Figure size 432x288 with 1 Axes>"
      ]
     },
     "metadata": {},
     "output_type": "display_data"
    }
   ],
   "source": [
    "LABELS = [\"1\", \"0\"]\n",
    "count_classes = pd.value_counts(df['target'], sort = True)\n",
    "count_classes.plot(kind = 'bar', rot=0)\n",
    "plt.title(\"Yes/No class distribution\")\n",
    "plt.xticks(range(2), LABELS)\n",
    "plt.xlabel(\"Class\")\n",
    "plt.ylabel(\"Frequency\");"
   ]
  },
  {
   "cell_type": "code",
   "execution_count": 6,
   "metadata": {
    "_uuid": "88277ed4620fec7325a8d88d40eed6b2d39bd1c0"
   },
   "outputs": [],
   "source": [
    "female=df[df['sex']== 0]\n",
    "male=df[df['sex']== 1]"
   ]
  },
  {
   "cell_type": "code",
   "execution_count": 7,
   "metadata": {
    "_uuid": "7d9300d76459182548ba85d75c8f6c531d73ed2c"
   },
   "outputs": [],
   "source": [
    "male_cp0=male[male['cp'] == 0]\n",
    "male_cp1=male[male['cp'] == 1]\n",
    "male_cp2=male[male['cp'] == 2]\n",
    "male_cp3=male[male['cp'] == 3]\n",
    "\n",
    "female_cp0=female[female['cp'] == 0]\n",
    "female_cp1=female[female['cp'] == 1]\n",
    "female_cp2=female[female['cp'] == 2]\n",
    "female_cp3=female[female['cp'] == 3]\n"
   ]
  },
  {
   "cell_type": "code",
   "execution_count": 8,
   "metadata": {
    "_uuid": "4c28467c70dfdd7a844a27664cf2cc3c32418155"
   },
   "outputs": [
    {
     "data": {
      "image/png": "[encoded data removed]",
      "text/plain": [
       "<Figure size 432x288 with 2 Axes>"
      ]
     },
     "metadata": {},
     "output_type": "display_data"
    }
   ],
   "source": [
    "f, (ax1, ax2) = plt.subplots(1, 2, sharex=True)\n",
    "f.suptitle('Male vs Female check pain  ') \n",
    "\n",
    "ax1.set_title(\"male cholestoral vs BP\")\n",
    "ax1.scatter(male_cp0.chol,male_cp0.trestbps,color='red')\n",
    "ax1.scatter(male_cp1.chol,male_cp1.trestbps,color='green')\n",
    "ax1.scatter(male_cp2.chol,male_cp2.trestbps,color='yellow')\n",
    "ax1.scatter(male_cp3.chol,male_cp3.trestbps,color='blue')\n",
    "ax1.legend(['male_cp0','male_cp1','male_cp2','male_cp4'])\n",
    "\n",
    "\n",
    "ax2.set_title(\"female cholestoral vs BP\")\n",
    "ax2.scatter(female_cp0.chol,female_cp0.trestbps,color='red')\n",
    "ax2.scatter(female_cp1.chol,female_cp1.trestbps,color='green')\n",
    "ax2.scatter(female_cp2.chol,female_cp2.trestbps,color='yellow')\n",
    "ax2.scatter(female_cp3.chol,female_cp3.trestbps,color='blue')\n",
    "ax2.legend(['female_cp0','female_cp1','female_cp2','female_cp3'])\n",
    "\n",
    "plt.xlabel(\"Cholestoral\")\n",
    "plt.ylabel(\"Blood pressure\")\n",
    "\n",
    "plt.show();"
   ]
  },
  {
   "cell_type": "code",
   "execution_count": 9,
   "metadata": {
    "_uuid": "92f65bf3216127e2805241f95460e42cc43def15"
   },
   "outputs": [],
   "source": [
    "def plot_confusion_matrix(y, pred, labels, classes, normalize=False, cmap=plt.cm.Blues):\n",
    "    \"\"\"\n",
    "    Plots the confusion matrix.\n",
    "    Args:\n",
    "        y: Data Labels\n",
    "        pred: Predicted outputs\n",
    "        labels: A list of label values to calculate confusion matrix\n",
    "        classes: A list of containing unique class names for plotting\n",
    "        normalize:Wheter to plot data with int or percentage values. Default is int.\n",
    "        cmap: Color map pf the plot\n",
    "    \n",
    "    \"\"\"\n",
    "    cm = confusion_matrix(y, pred, labels=labels)\n",
    "    \n",
    "    if normalize:\n",
    "        cm = cm.astype('float') / cm.sum(axis=1)[:, np.newaxis]\n",
    "\n",
    "    plt.figure()\n",
    "    plt.imshow(cm, interpolation='nearest', cmap=cmap)\n",
    "    plt.title('Confusion Matrix')\n",
    "    plt.colorbar()\n",
    "    tick_marks = np.arange(len(classes))\n",
    "    plt.xticks(tick_marks, classes, rotation=45)\n",
    "    plt.yticks(tick_marks, classes)\n",
    "\n",
    "    fmt = '.2f' if normalize else 'd'\n",
    "    thresh = cm.max() / 2.\n",
    "    \n",
    "    for i, j in itertools.product(range(cm.shape[0]), range(cm.shape[1])):\n",
    "        plt.text(j, i, format(cm[i, j], fmt),\n",
    "                 horizontalalignment=\"center\",\n",
    "                 color=\"white\" if cm[i, j] > thresh else \"black\")\n",
    "\n",
    "    plt.tight_layout()\n",
    "    plt.ylabel('True label')\n",
    "    plt.xlabel('Predicted label')"
   ]
  },
  {
   "cell_type": "code",
   "execution_count": 10,
   "metadata": {
    "_uuid": "050df26a8852427bfc18451149a3e8e67125ef46"
   },
   "outputs": [],
   "source": [
    "def best_model(model, train, test, grid_params):\n",
    "    \"\"\"\n",
    "    Takes a model and grid params as an input and finds the best model.\n",
    "    \n",
    "    Args:\n",
    "        model: A model class\n",
    "        train: A dict containing train features as X and labels as y\n",
    "        test: A dict containing test features as X and labels as y\n",
    "        grid_params: GridSearchCV parameters\n",
    "        \n",
    "    Returns:\n",
    "        best_estimator, table and best_params\n",
    "    \"\"\"\n",
    "    \n",
    "    grid = GridSearchCV(model, grid_params, cv=4, scoring='f1_weighted', \n",
    "                        n_jobs=-1, return_train_score=True).fit(train['X'], train['y'])\n",
    "    estimator = grid.best_estimator_\n",
    "    table = pd.DataFrame(grid.cv_results_).loc[:, \n",
    "                ['params', 'mean_test_score', 'std_test_score','mean_train_score', \n",
    "                 'std_train_score']].sort_values(by='mean_test_score', ascending=False)\n",
    "    \n",
    "    params = grid.best_params_\n",
    "    preds = estimator.predict(test['X'])\n",
    "    plot_confusion_matrix(test['y'], preds, labels=[1, 0], classes=['target=1','target=0'])\n",
    "    print(classification_report(test['y'], preds))\n",
    "    \n",
    "    return estimator, table, params"
   ]
  },
  {
   "cell_type": "code",
   "execution_count": 11,
   "metadata": {
    "_uuid": "27453030c7b3a2b5d765d84551e1105e7939c238"
   },
   "outputs": [],
   "source": [
    "from sklearn.linear_model import LogisticRegression\n",
    "lr = LogisticRegression()"
   ]
  },
  {
   "cell_type": "code",
   "execution_count": 12,
   "metadata": {
    "_uuid": "7c39596beb1f79b2e089e299a268fc2b1edba167"
   },
   "outputs": [
    {
     "name": "stderr",
     "output_type": "stream",
     "text": [
      "/opt/conda/lib/python3.6/site-packages/sklearn/model_selection/_search.py:841: DeprecationWarning: The default of the `iid` parameter will change from True to False in version 0.22 and will be removed in 0.24. This will change numeric results when test-set sizes are unequal.\n",
      "  DeprecationWarning)\n"
     ]
    },
    {
     "name": "stdout",
     "output_type": "stream",
     "text": [
      "              precision    recall  f1-score   support\n",
      "\n",
      "           0       0.90      0.87      0.88        30\n",
      "           1       0.88      0.90      0.89        31\n",
      "\n",
      "   micro avg       0.89      0.89      0.89        61\n",
      "   macro avg       0.89      0.88      0.89        61\n",
      "weighted avg       0.89      0.89      0.89        61\n",
      "\n"
     ]
    },
    {
     "data": {
      "image/png": "[encoded data removed]",
      "text/plain": [
       "<Figure size 432x288 with 2 Axes>"
      ]
     },
     "metadata": {},
     "output_type": "display_data"
    }
   ],
   "source": [
    "est, table, params = best_model(lr, train={'X': x_train, 'y': y_train},\n",
    "                                test={'X': x_test, 'y':y_test},\n",
    "                                grid_params=[{'solver':['liblinear', 'sag', 'newton-cg', 'lbfgs'],\n",
    "                                              'C': [0.01, 0.05, 0.1, 0.5, 1, 5]}])\n"
   ]
  },
  {
   "cell_type": "code",
   "execution_count": 13,
   "metadata": {
    "_uuid": "0d3fe73c183f334c6a38a58b86e756bcd1cb115c"
   },
   "outputs": [
    {
     "name": "stdout",
     "output_type": "stream",
     "text": [
      "Best Estimator :  LogisticRegression(C=5, class_weight=None, dual=False, fit_intercept=True,\n",
      "          intercept_scaling=1, max_iter=100, multi_class='warn',\n",
      "          n_jobs=None, penalty='l2', random_state=None, solver='liblinear',\n",
      "          tol=0.0001, verbose=0, warm_start=False)\n",
      "Best Parameters :  {'C': 5, 'solver': 'liblinear'}\n",
      "Accuracy :  0.8852459016393442\n"
     ]
    }
   ],
   "source": [
    "print(\"Best Estimator : \",est)\n",
    "print(\"Best Parameters : \" ,params)\n",
    "print(\"Accuracy : \",jaccard_similarity_score(y_test, est.predict(x_test)))"
   ]
  },
  {
   "cell_type": "code",
   "execution_count": 14,
   "metadata": {
    "_uuid": "d6808052a43163b565bf6319afefa7d3a9bf076d"
   },
   "outputs": [
    {
     "name": "stdout",
     "output_type": "stream",
     "text": [
      "accuracy_mean 0.8097173913043478 accuracy_std 0.08710988559062538\n"
     ]
    }
   ],
   "source": [
    "# Applying k-Fold Cross Validation\n",
    "from sklearn.model_selection import cross_val_score\n",
    "accuracies = cross_val_score(estimator = est, X = x_train, y = y_train, cv = 10)\n",
    "print('accuracy_mean {0} accuracy_std {1}'.format(accuracies.mean(),accuracies.std()))"
   ]
  },
  {
   "cell_type": "code",
   "execution_count": 15,
   "metadata": {
    "_uuid": "6c4e09afe2f8ecbcaebfc1cc1def68c68bc8259a"
   },
   "outputs": [],
   "source": [
    "from sklearn.svm import SVC\n",
    "sv = SVC(gamma='scale')"
   ]
  },
  {
   "cell_type": "code",
   "execution_count": 16,
   "metadata": {
    "_uuid": "1583cd1c1ed0463156609aeb2282e98bfd0390a2"
   },
   "outputs": [
    {
     "name": "stderr",
     "output_type": "stream",
     "text": [
      "/opt/conda/lib/python3.6/site-packages/sklearn/model_selection/_search.py:841: DeprecationWarning: The default of the `iid` parameter will change from True to False in version 0.22 and will be removed in 0.24. This will change numeric results when test-set sizes are unequal.\n",
      "  DeprecationWarning)\n"
     ]
    },
    {
     "name": "stdout",
     "output_type": "stream",
     "text": [
      "              precision    recall  f1-score   support\n",
      "\n",
      "           0       0.93      0.83      0.88        30\n",
      "           1       0.85      0.94      0.89        31\n",
      "\n",
      "   micro avg       0.89      0.89      0.89        61\n",
      "   macro avg       0.89      0.88      0.88        61\n",
      "weighted avg       0.89      0.89      0.88        61\n",
      "\n"
     ]
    },
    {
     "data": {
      "image/png": "[encoded data removed]",
      "text/plain": [
       "<Figure size 432x288 with 2 Axes>"
      ]
     },
     "metadata": {},
     "output_type": "display_data"
    }
   ],
   "source": [
    "est, table, params = best_model(sv, train={'X': x_train, 'y': y_train},\n",
    "                                test={'X': x_test, 'y':y_test},\n",
    "                                grid_params=[{'kernel':['linear', 'rbf'],\n",
    "                                              'C': [1, 3, 5, 7, 10, 20]}])"
   ]
  },
  {
   "cell_type": "code",
   "execution_count": 17,
   "metadata": {
    "_uuid": "3bcf34896f62a67c3c99bb4431e5b62609b0eeaa"
   },
   "outputs": [
    {
     "name": "stdout",
     "output_type": "stream",
     "text": [
      "Best Estimator :  SVC(C=20, cache_size=200, class_weight=None, coef0=0.0,\n",
      "  decision_function_shape='ovr', degree=3, gamma='scale', kernel='linear',\n",
      "  max_iter=-1, probability=False, random_state=None, shrinking=True,\n",
      "  tol=0.001, verbose=False)\n",
      "Best Parameters :  {'C': 20, 'kernel': 'linear'}\n",
      "Accuracy :  0.8852459016393442\n"
     ]
    }
   ],
   "source": [
    "print(\"Best Estimator : \",est)\n",
    "print(\"Best Parameters : \" ,params)\n",
    "print(\"Accuracy : \",jaccard_similarity_score(y_test, est.predict(x_test)))"
   ]
  },
  {
   "cell_type": "code",
   "execution_count": 18,
   "metadata": {
    "_uuid": "dabac43954429c1a807cd7f9d9a22b92201d474d"
   },
   "outputs": [
    {
     "name": "stdout",
     "output_type": "stream",
     "text": [
      "accuracy_mean 0.7852173913043478 accuracy_std 0.09342186817140835\n"
     ]
    }
   ],
   "source": [
    "# Applying k-Fold Cross Validation\n",
    "from sklearn.model_selection import cross_val_score\n",
    "accuracies = cross_val_score(estimator = est, X = x_train, y = y_train, cv = 10)\n",
    "print('accuracy_mean {0} accuracy_std {1}'.format(accuracies.mean(),accuracies.std()))"
   ]
  },
  {
   "cell_type": "code",
   "execution_count": 19,
   "metadata": {
    "_uuid": "7fddaa666affb009dede92677103b3f2c3eb843b"
   },
   "outputs": [],
   "source": []
  }
 ],
 "metadata": {
  "kernelspec": {
   "display_name": "Python 3",
   "language": "python",
   "name": "python3"
  },
  "language_info": {
   "codemirror_mode": {
    "name": "ipython",
    "version": 3
   },
   "file_extension": ".py",
   "mimetype": "text/x-python",
   "name": "python",
   "nbconvert_exporter": "python",
   "pygments_lexer": "ipython3",
   "version": "3.6.6"
  }
 },
 "nbformat": 4,
 "nbformat_minor": 1
}
