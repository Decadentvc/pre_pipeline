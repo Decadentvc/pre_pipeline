{
 "cells": [
  {
   "cell_type": "markdown",
   "execution_count": null,
   "metadata": {
    "papermill": {
     "duration": 0.007511,
     "end_time": "2020-08-25T17:02:19.232132",
     "exception": false,
     "start_time": "2020-08-25T17:02:19.224621",
     "status": "completed"
    },
    "tags": []
   },
   "source": [
    "# 1)  Importing the required libraries"
   ]
  },
  {
   "cell_type": "code",
   "execution_count": 1,
   "metadata": {
    "execution": {
     "iopub.execute_input": "2020-08-25T17:02:19.250414Z",
     "iopub.status.busy": "2020-08-25T17:02:19.249773Z",
     "iopub.status.idle": "2020-08-25T17:02:20.343499Z",
     "shell.execute_reply": "2020-08-25T17:02:20.342876Z"
    },
    "papermill": {
     "duration": 1.105184,
     "end_time": "2020-08-25T17:02:20.343621",
     "exception": false,
     "start_time": "2020-08-25T17:02:19.238437",
     "status": "completed"
    },
    "tags": []
   },
   "outputs": [],
   "source": [
    "import numpy as np\n",
    "import pandas as pd\n",
    "import matplotlib.pyplot as plt\n",
    "import seaborn as sns\n",
    "from sklearn.linear_model import LogisticRegression\n",
    "from sklearn.model_selection import train_test_split"
   ]
  },
  {
   "cell_type": "markdown",
   "execution_count": null,
   "metadata": {
    "papermill": {
     "duration": 0.008336,
     "end_time": "2020-08-25T17:02:20.359011",
     "exception": false,
     "start_time": "2020-08-25T17:02:20.350675",
     "status": "completed"
    },
    "tags": []
   },
   "source": [
    "# 2) Reading Dataset"
   ]
  },
  {
   "cell_type": "code",
   "execution_count": 2,
   "metadata": {
    "execution": {
     "iopub.execute_input": "2020-08-25T17:02:20.382389Z",
     "iopub.status.busy": "2020-08-25T17:02:20.381367Z",
     "iopub.status.idle": "2020-08-25T17:02:20.424102Z",
     "shell.execute_reply": "2020-08-25T17:02:20.424821Z"
    },
    "papermill": {
     "duration": 0.059679,
     "end_time": "2020-08-25T17:02:20.425026",
     "exception": false,
     "start_time": "2020-08-25T17:02:20.365347",
     "status": "completed"
    },
    "tags": []
   },
   "outputs": [
    {
     "data": {
      "text/html": [
       "<div>\n",
       "<style scoped>\n",
       "    .dataframe tbody tr th:only-of-type {\n",
       "        vertical-align: middle;\n",
       "    }\n",
       "\n",
       "    .dataframe tbody tr th {\n",
       "        vertical-align: top;\n",
       "    }\n",
       "\n",
       "    .dataframe thead th {\n",
       "        text-align: right;\n",
       "    }\n",
       "</style>\n",
       "<table border=\"1\" class=\"dataframe\">\n",
       "  <thead>\n",
       "    <tr style=\"text-align: right;\">\n",
       "      <th></th>\n",
       "      <th>age</th>\n",
       "      <th>sex</th>\n",
       "      <th>cp</th>\n",
       "      <th>trestbps</th>\n",
       "      <th>chol</th>\n",
       "      <th>fbs</th>\n",
       "      <th>restecg</th>\n",
       "      <th>thalach</th>\n",
       "      <th>exang</th>\n",
       "      <th>oldpeak</th>\n",
       "      <th>slope</th>\n",
       "      <th>ca</th>\n",
       "      <th>thal</th>\n",
       "      <th>target</th>\n",
       "    </tr>\n",
       "  </thead>\n",
       "  <tbody>\n",
       "    <tr>\n",
       "      <th>0</th>\n",
       "      <td>63</td>\n",
       "      <td>1</td>\n",
       "      <td>3</td>\n",
       "      <td>145</td>\n",
       "      <td>233</td>\n",
       "      <td>1</td>\n",
       "      <td>0</td>\n",
       "      <td>150</td>\n",
       "      <td>0</td>\n",
       "      <td>2.3</td>\n",
       "      <td>0</td>\n",
       "      <td>0</td>\n",
       "      <td>1</td>\n",
       "      <td>1</td>\n",
       "    </tr>\n",
       "    <tr>\n",
       "      <th>1</th>\n",
       "      <td>37</td>\n",
       "      <td>1</td>\n",
       "      <td>2</td>\n",
       "      <td>130</td>\n",
       "      <td>250</td>\n",
       "      <td>0</td>\n",
       "      <td>1</td>\n",
       "      <td>187</td>\n",
       "      <td>0</td>\n",
       "      <td>3.5</td>\n",
       "      <td>0</td>\n",
       "      <td>0</td>\n",
       "      <td>2</td>\n",
       "      <td>1</td>\n",
       "    </tr>\n",
       "    <tr>\n",
       "      <th>2</th>\n",
       "      <td>41</td>\n",
       "      <td>0</td>\n",
       "      <td>1</td>\n",
       "      <td>130</td>\n",
       "      <td>204</td>\n",
       "      <td>0</td>\n",
       "      <td>0</td>\n",
       "      <td>172</td>\n",
       "      <td>0</td>\n",
       "      <td>1.4</td>\n",
       "      <td>2</td>\n",
       "      <td>0</td>\n",
       "      <td>2</td>\n",
       "      <td>1</td>\n",
       "    </tr>\n",
       "    <tr>\n",
       "      <th>3</th>\n",
       "      <td>56</td>\n",
       "      <td>1</td>\n",
       "      <td>1</td>\n",
       "      <td>120</td>\n",
       "      <td>236</td>\n",
       "      <td>0</td>\n",
       "      <td>1</td>\n",
       "      <td>178</td>\n",
       "      <td>0</td>\n",
       "      <td>0.8</td>\n",
       "      <td>2</td>\n",
       "      <td>0</td>\n",
       "      <td>2</td>\n",
       "      <td>1</td>\n",
       "    </tr>\n",
       "    <tr>\n",
       "      <th>4</th>\n",
       "      <td>57</td>\n",
       "      <td>0</td>\n",
       "      <td>0</td>\n",
       "      <td>120</td>\n",
       "      <td>354</td>\n",
       "      <td>0</td>\n",
       "      <td>1</td>\n",
       "      <td>163</td>\n",
       "      <td>1</td>\n",
       "      <td>0.6</td>\n",
       "      <td>2</td>\n",
       "      <td>0</td>\n",
       "      <td>2</td>\n",
       "      <td>1</td>\n",
       "    </tr>\n",
       "    <tr>\n",
       "      <th>...</th>\n",
       "      <td>...</td>\n",
       "      <td>...</td>\n",
       "      <td>...</td>\n",
       "      <td>...</td>\n",
       "      <td>...</td>\n",
       "      <td>...</td>\n",
       "      <td>...</td>\n",
       "      <td>...</td>\n",
       "      <td>...</td>\n",
       "      <td>...</td>\n",
       "      <td>...</td>\n",
       "      <td>...</td>\n",
       "      <td>...</td>\n",
       "      <td>...</td>\n",
       "    </tr>\n",
       "    <tr>\n",
       "      <th>298</th>\n",
       "      <td>57</td>\n",
       "      <td>0</td>\n",
       "      <td>0</td>\n",
       "      <td>140</td>\n",
       "      <td>241</td>\n",
       "      <td>0</td>\n",
       "      <td>1</td>\n",
       "      <td>123</td>\n",
       "      <td>1</td>\n",
       "      <td>0.2</td>\n",
       "      <td>1</td>\n",
       "      <td>0</td>\n",
       "      <td>3</td>\n",
       "      <td>0</td>\n",
       "    </tr>\n",
       "    <tr>\n",
       "      <th>299</th>\n",
       "      <td>45</td>\n",
       "      <td>1</td>\n",
       "      <td>3</td>\n",
       "      <td>110</td>\n",
       "      <td>264</td>\n",
       "      <td>0</td>\n",
       "      <td>1</td>\n",
       "      <td>132</td>\n",
       "      <td>0</td>\n",
       "      <td>1.2</td>\n",
       "      <td>1</td>\n",
       "      <td>0</td>\n",
       "      <td>3</td>\n",
       "      <td>0</td>\n",
       "    </tr>\n",
       "    <tr>\n",
       "      <th>300</th>\n",
       "      <td>68</td>\n",
       "      <td>1</td>\n",
       "      <td>0</td>\n",
       "      <td>144</td>\n",
       "      <td>193</td>\n",
       "      <td>1</td>\n",
       "      <td>1</td>\n",
       "      <td>141</td>\n",
       "      <td>0</td>\n",
       "      <td>3.4</td>\n",
       "      <td>1</td>\n",
       "      <td>2</td>\n",
       "      <td>3</td>\n",
       "      <td>0</td>\n",
       "    </tr>\n",
       "    <tr>\n",
       "      <th>301</th>\n",
       "      <td>57</td>\n",
       "      <td>1</td>\n",
       "      <td>0</td>\n",
       "      <td>130</td>\n",
       "      <td>131</td>\n",
       "      <td>0</td>\n",
       "      <td>1</td>\n",
       "      <td>115</td>\n",
       "      <td>1</td>\n",
       "      <td>1.2</td>\n",
       "      <td>1</td>\n",
       "      <td>1</td>\n",
       "      <td>3</td>\n",
       "      <td>0</td>\n",
       "    </tr>\n",
       "    <tr>\n",
       "      <th>302</th>\n",
       "      <td>57</td>\n",
       "      <td>0</td>\n",
       "      <td>1</td>\n",
       "      <td>130</td>\n",
       "      <td>236</td>\n",
       "      <td>0</td>\n",
       "      <td>0</td>\n",
       "      <td>174</td>\n",
       "      <td>0</td>\n",
       "      <td>0.0</td>\n",
       "      <td>1</td>\n",
       "      <td>1</td>\n",
       "      <td>2</td>\n",
       "      <td>0</td>\n",
       "    </tr>\n",
       "  </tbody>\n",
       "</table>\n",
       "<p>303 rows × 14 columns</p>\n",
       "</div>"
      ],
      "text/plain": [
       "     age  sex  cp  trestbps  chol  fbs  restecg  thalach  exang  oldpeak  \\\n",
       "0     63    1   3       145   233    1        0      150      0      2.3   \n",
       "1     37    1   2       130   250    0        1      187      0      3.5   \n",
       "2     41    0   1       130   204    0        0      172      0      1.4   \n",
       "3     56    1   1       120   236    0        1      178      0      0.8   \n",
       "4     57    0   0       120   354    0        1      163      1      0.6   \n",
       "..   ...  ...  ..       ...   ...  ...      ...      ...    ...      ...   \n",
       "298   57    0   0       140   241    0        1      123      1      0.2   \n",
       "299   45    1   3       110   264    0        1      132      0      1.2   \n",
       "300   68    1   0       144   193    1        1      141      0      3.4   \n",
       "301   57    1   0       130   131    0        1      115      1      1.2   \n",
       "302   57    0   1       130   236    0        0      174      0      0.0   \n",
       "\n",
       "     slope  ca  thal  target  \n",
       "0        0   0     1       1  \n",
       "1        0   0     2       1  \n",
       "2        2   0     2       1  \n",
       "3        2   0     2       1  \n",
       "4        2   0     2       1  \n",
       "..     ...  ..   ...     ...  \n",
       "298      1   0     3       0  \n",
       "299      1   0     3       0  \n",
       "300      1   2     3       0  \n",
       "301      1   1     3       0  \n",
       "302      1   1     2       0  \n",
       "\n",
       "[303 rows x 14 columns]"
      ]
     },
     "execution_count": 2,
     "metadata": {},
     "output_type": "execute_result"
    }
   ],
   "source": [
    "heart_data = pd.read_csv(\"../input/heart-disease-detection-dataset/datasets_33180_43520_heart.csv\")\n",
    "heart_data_df = pd.DataFrame(heart_data)\n",
    "heart_data_df"
   ]
  },
  {
   "cell_type": "markdown",
   "execution_count": null,
   "metadata": {
    "papermill": {
     "duration": 0.006465,
     "end_time": "2020-08-25T17:02:20.438613",
     "exception": false,
     "start_time": "2020-08-25T17:02:20.432148",
     "status": "completed"
    },
    "tags": []
   },
   "source": [
    "Data contains;\n",
    "\n",
    "* age - age in years\n",
    "* sex - (1 = male; 0 = female)\n",
    "* cp - chest pain type\n",
    "* trestbps - resting blood pressure (in mm Hg on admission to the hospital)\n",
    "* chol - serum cholestoral in mg/dl\n",
    "* fbs - (fasting blood sugar > 120 mg/dl) (1 = true; 0 = false)\n",
    "* restecg - resting electrocardiographic results\n",
    "* thalach - maximum heart rate achieved\n",
    "* exang - exercise induced angina (1 = yes; 0 = no)\n",
    "* oldpeak - ST depression induced by exercise relative to rest\n",
    "* slope - the slope of the peak exercise ST segment\n",
    "* ca - number of major vessels (0-3) colored by flourosopy\n",
    "* thal - 3 = normal; 6 = fixed defect; 7 = reversable defect\n",
    "* target - have disease or not (1=yes, 0=no)"
   ]
  },
  {
   "cell_type": "markdown",
   "execution_count": null,
   "metadata": {
    "papermill": {
     "duration": 0.006201,
     "end_time": "2020-08-25T17:02:20.451512",
     "exception": false,
     "start_time": "2020-08-25T17:02:20.445311",
     "status": "completed"
    },
    "tags": []
   },
   "source": [
    "# 3) Preprocessing "
   ]
  },
  {
   "cell_type": "code",
   "execution_count": 3,
   "metadata": {
    "execution": {
     "iopub.execute_input": "2020-08-25T17:02:20.468314Z",
     "iopub.status.busy": "2020-08-25T17:02:20.467552Z",
     "iopub.status.idle": "2020-08-25T17:02:20.479470Z",
     "shell.execute_reply": "2020-08-25T17:02:20.478829Z"
    },
    "papermill": {
     "duration": 0.021542,
     "end_time": "2020-08-25T17:02:20.479584",
     "exception": false,
     "start_time": "2020-08-25T17:02:20.458042",
     "status": "completed"
    },
    "tags": []
   },
   "outputs": [
    {
     "data": {
      "text/plain": [
       "1    165\n",
       "0    138\n",
       "Name: target, dtype: int64"
      ]
     },
     "execution_count": 3,
     "metadata": {},
     "output_type": "execute_result"
    }
   ],
   "source": [
    "heart_data.target.value_counts()"
   ]
  },
  {
   "cell_type": "code",
   "execution_count": 4,
   "metadata": {
    "execution": {
     "iopub.execute_input": "2020-08-25T17:02:20.509410Z",
     "iopub.status.busy": "2020-08-25T17:02:20.508177Z",
     "iopub.status.idle": "2020-08-25T17:02:20.514383Z",
     "shell.execute_reply": "2020-08-25T17:02:20.513524Z"
    },
    "papermill": {
     "duration": 0.028109,
     "end_time": "2020-08-25T17:02:20.514548",
     "exception": false,
     "start_time": "2020-08-25T17:02:20.486439",
     "status": "completed"
    },
    "tags": []
   },
   "outputs": [
    {
     "name": "stdout",
     "output_type": "stream",
     "text": [
      "<class 'pandas.core.frame.DataFrame'>\n",
      "RangeIndex: 303 entries, 0 to 302\n",
      "Data columns (total 14 columns):\n",
      " #   Column    Non-Null Count  Dtype  \n",
      "---  ------    --------------  -----  \n",
      " 0   age       303 non-null    int64  \n",
      " 1   sex       303 non-null    int64  \n",
      " 2   cp        303 non-null    int64  \n",
      " 3   trestbps  303 non-null    int64  \n",
      " 4   chol      303 non-null    int64  \n",
      " 5   fbs       303 non-null    int64  \n",
      " 6   restecg   303 non-null    int64  \n",
      " 7   thalach   303 non-null    int64  \n",
      " 8   exang     303 non-null    int64  \n",
      " 9   oldpeak   303 non-null    float64\n",
      " 10  slope     303 non-null    int64  \n",
      " 11  ca        303 non-null    int64  \n",
      " 12  thal      303 non-null    int64  \n",
      " 13  target    303 non-null    int64  \n",
      "dtypes: float64(1), int64(13)\n",
      "memory usage: 33.3 KB\n"
     ]
    }
   ],
   "source": [
    "heart_data_df.info()"
   ]
  },
  {
   "cell_type": "markdown",
   "execution_count": null,
   "metadata": {
    "papermill": {
     "duration": 0.006585,
     "end_time": "2020-08-25T17:02:20.528906",
     "exception": false,
     "start_time": "2020-08-25T17:02:20.522321",
     "status": "completed"
    },
    "tags": []
   },
   "source": [
    "# Since, our dataset was clean enough, so we could just avoid the various steps of preprocessing, but just check for null values"
   ]
  },
  {
   "cell_type": "code",
   "execution_count": 5,
   "metadata": {
    "execution": {
     "iopub.execute_input": "2020-08-25T17:02:20.549817Z",
     "iopub.status.busy": "2020-08-25T17:02:20.548988Z",
     "iopub.status.idle": "2020-08-25T17:02:20.553224Z",
     "shell.execute_reply": "2020-08-25T17:02:20.552662Z"
    },
    "papermill": {
     "duration": 0.017428,
     "end_time": "2020-08-25T17:02:20.553344",
     "exception": false,
     "start_time": "2020-08-25T17:02:20.535916",
     "status": "completed"
    },
    "tags": []
   },
   "outputs": [
    {
     "data": {
      "text/plain": [
       "age         0\n",
       "sex         0\n",
       "cp          0\n",
       "trestbps    0\n",
       "chol        0\n",
       "fbs         0\n",
       "restecg     0\n",
       "thalach     0\n",
       "exang       0\n",
       "oldpeak     0\n",
       "slope       0\n",
       "ca          0\n",
       "thal        0\n",
       "target      0\n",
       "dtype: int64"
      ]
     },
     "execution_count": 5,
     "metadata": {},
     "output_type": "execute_result"
    }
   ],
   "source": [
    "heart_data_df.isnull().sum()"
   ]
  },
  {
   "cell_type": "markdown",
   "execution_count": null,
   "metadata": {
    "papermill": {
     "duration": 0.006906,
     "end_time": "2020-08-25T17:02:20.567292",
     "exception": false,
     "start_time": "2020-08-25T17:02:20.560386",
     "status": "completed"
    },
    "tags": []
   },
   "source": [
    "# 4) Visualization"
   ]
  },
  {
   "cell_type": "code",
   "execution_count": 6,
   "metadata": {
    "execution": {
     "iopub.execute_input": "2020-08-25T17:02:20.587053Z",
     "iopub.status.busy": "2020-08-25T17:02:20.586424Z",
     "iopub.status.idle": "2020-08-25T17:02:20.765336Z",
     "shell.execute_reply": "2020-08-25T17:02:20.764752Z"
    },
    "papermill": {
     "duration": 0.190888,
     "end_time": "2020-08-25T17:02:20.765455",
     "exception": false,
     "start_time": "2020-08-25T17:02:20.574567",
     "status": "completed"
    },
    "tags": []
   },
   "outputs": [
    {
     "data": {
      "text/plain": [
       "Text(0.5, 0, 'Sex (0 = No Disease, 1= Have Disease)')"
      ]
     },
     "execution_count": 6,
     "metadata": {},
     "output_type": "execute_result"
    },
    {
     "data": {
      "image/png": "[encoded data removed]",
      "text/plain": [
       "<Figure size 432x216 with 1 Axes>"
      ]
     },
     "metadata": {
      "needs_background": "light"
     },
     "output_type": "display_data"
    }
   ],
   "source": [
    "plt.figure(figsize=(6,3))\n",
    "sns.countplot('target', data=heart_data_df, palette='terrain')\n",
    "plt.xlabel(\"Sex (0 = No Disease, 1= Have Disease)\")"
   ]
  },
  {
   "cell_type": "code",
   "execution_count": 7,
   "metadata": {
    "execution": {
     "iopub.execute_input": "2020-08-25T17:02:20.788311Z",
     "iopub.status.busy": "2020-08-25T17:02:20.785890Z",
     "iopub.status.idle": "2020-08-25T17:02:20.902278Z",
     "shell.execute_reply": "2020-08-25T17:02:20.901715Z"
    },
    "papermill": {
     "duration": 0.129283,
     "end_time": "2020-08-25T17:02:20.902405",
     "exception": false,
     "start_time": "2020-08-25T17:02:20.773122",
     "status": "completed"
    },
    "tags": []
   },
   "outputs": [
    {
     "data": {
      "image/png": "[encoded data removed]",
      "text/plain": [
       "<Figure size 432x288 with 1 Axes>"
      ]
     },
     "metadata": {
      "needs_background": "light"
     },
     "output_type": "display_data"
    }
   ],
   "source": [
    "sns.countplot('sex', data=heart_data_df, palette=\"magma\")\n",
    "plt.xlabel(\"Sex (0 = female, 1= male)\")\n",
    "plt.show()"
   ]
  },
  {
   "cell_type": "code",
   "execution_count": 8,
   "metadata": {
    "execution": {
     "iopub.execute_input": "2020-08-25T17:02:20.925037Z",
     "iopub.status.busy": "2020-08-25T17:02:20.924104Z",
     "iopub.status.idle": "2020-08-25T17:02:20.953448Z",
     "shell.execute_reply": "2020-08-25T17:02:20.952901Z"
    },
    "papermill": {
     "duration": 0.043445,
     "end_time": "2020-08-25T17:02:20.953579",
     "exception": false,
     "start_time": "2020-08-25T17:02:20.910134",
     "status": "completed"
    },
    "tags": []
   },
   "outputs": [
    {
     "name": "stdout",
     "output_type": "stream",
     "text": [
      "Percentage of Female Patients: 31.68%\n",
      "Percentage of Male Patients: 68.32%\n"
     ]
    }
   ],
   "source": [
    "FemaleCount = len(heart_data_df[heart_data_df.sex == 0])\n",
    "MaleCount = len(heart_data_df[heart_data_df.sex == 1])\n",
    "print(\"Percentage of Female Patients: {:.2f}%\".format((FemaleCount / (len(heart_data_df.sex))*100)))\n",
    "print(\"Percentage of Male Patients: {:.2f}%\".format((MaleCount / (len(heart_data_df.sex))*100)))"
   ]
  },
  {
   "cell_type": "code",
   "execution_count": 9,
   "metadata": {
    "execution": {
     "iopub.execute_input": "2020-08-25T17:02:20.987615Z",
     "iopub.status.busy": "2020-08-25T17:02:20.986536Z",
     "iopub.status.idle": "2020-08-25T17:02:20.990992Z",
     "shell.execute_reply": "2020-08-25T17:02:20.990415Z"
    },
    "papermill": {
     "duration": 0.029934,
     "end_time": "2020-08-25T17:02:20.991110",
     "exception": false,
     "start_time": "2020-08-25T17:02:20.961176",
     "status": "completed"
    },
    "tags": []
   },
   "outputs": [
    {
     "data": {
      "text/html": [
       "<div>\n",
       "<style scoped>\n",
       "    .dataframe tbody tr th:only-of-type {\n",
       "        vertical-align: middle;\n",
       "    }\n",
       "\n",
       "    .dataframe tbody tr th {\n",
       "        vertical-align: top;\n",
       "    }\n",
       "\n",
       "    .dataframe thead th {\n",
       "        text-align: right;\n",
       "    }\n",
       "</style>\n",
       "<table border=\"1\" class=\"dataframe\">\n",
       "  <thead>\n",
       "    <tr style=\"text-align: right;\">\n",
       "      <th></th>\n",
       "      <th>age</th>\n",
       "      <th>sex</th>\n",
       "      <th>cp</th>\n",
       "      <th>trestbps</th>\n",
       "      <th>chol</th>\n",
       "      <th>fbs</th>\n",
       "      <th>restecg</th>\n",
       "      <th>thalach</th>\n",
       "      <th>exang</th>\n",
       "      <th>oldpeak</th>\n",
       "      <th>slope</th>\n",
       "      <th>ca</th>\n",
       "      <th>thal</th>\n",
       "    </tr>\n",
       "    <tr>\n",
       "      <th>target</th>\n",
       "      <th></th>\n",
       "      <th></th>\n",
       "      <th></th>\n",
       "      <th></th>\n",
       "      <th></th>\n",
       "      <th></th>\n",
       "      <th></th>\n",
       "      <th></th>\n",
       "      <th></th>\n",
       "      <th></th>\n",
       "      <th></th>\n",
       "      <th></th>\n",
       "      <th></th>\n",
       "    </tr>\n",
       "  </thead>\n",
       "  <tbody>\n",
       "    <tr>\n",
       "      <th>0</th>\n",
       "      <td>56.601449</td>\n",
       "      <td>0.826087</td>\n",
       "      <td>0.478261</td>\n",
       "      <td>134.398551</td>\n",
       "      <td>251.086957</td>\n",
       "      <td>0.159420</td>\n",
       "      <td>0.449275</td>\n",
       "      <td>139.101449</td>\n",
       "      <td>0.550725</td>\n",
       "      <td>1.585507</td>\n",
       "      <td>1.166667</td>\n",
       "      <td>1.166667</td>\n",
       "      <td>2.543478</td>\n",
       "    </tr>\n",
       "    <tr>\n",
       "      <th>1</th>\n",
       "      <td>52.496970</td>\n",
       "      <td>0.563636</td>\n",
       "      <td>1.375758</td>\n",
       "      <td>129.303030</td>\n",
       "      <td>242.230303</td>\n",
       "      <td>0.139394</td>\n",
       "      <td>0.593939</td>\n",
       "      <td>158.466667</td>\n",
       "      <td>0.139394</td>\n",
       "      <td>0.583030</td>\n",
       "      <td>1.593939</td>\n",
       "      <td>0.363636</td>\n",
       "      <td>2.121212</td>\n",
       "    </tr>\n",
       "  </tbody>\n",
       "</table>\n",
       "</div>"
      ],
      "text/plain": [
       "              age       sex        cp    trestbps        chol       fbs  \\\n",
       "target                                                                    \n",
       "0       56.601449  0.826087  0.478261  134.398551  251.086957  0.159420   \n",
       "1       52.496970  0.563636  1.375758  129.303030  242.230303  0.139394   \n",
       "\n",
       "         restecg     thalach     exang   oldpeak     slope        ca      thal  \n",
       "target                                                                          \n",
       "0       0.449275  139.101449  0.550725  1.585507  1.166667  1.166667  2.543478  \n",
       "1       0.593939  158.466667  0.139394  0.583030  1.593939  0.363636  2.121212  "
      ]
     },
     "execution_count": 9,
     "metadata": {},
     "output_type": "execute_result"
    }
   ],
   "source": [
    "#grouping Dataset by the desired o/p and other columns respective of their mean\n",
    "heart_data_df.groupby('target').mean()"
   ]
  },
  {
   "cell_type": "code",
   "execution_count": 10,
   "metadata": {
    "execution": {
     "iopub.execute_input": "2020-08-25T17:02:21.027309Z",
     "iopub.status.busy": "2020-08-25T17:02:21.026514Z",
     "iopub.status.idle": "2020-08-25T17:02:21.586669Z",
     "shell.execute_reply": "2020-08-25T17:02:21.586179Z"
    },
    "papermill": {
     "duration": 0.587629,
     "end_time": "2020-08-25T17:02:21.586774",
     "exception": false,
     "start_time": "2020-08-25T17:02:20.999145",
     "status": "completed"
    },
    "scrolled": true,
    "tags": []
   },
   "outputs": [
    {
     "data": {
      "image/png": "[encoded data removed]",
      "text/plain": [
       "<Figure size 1440x432 with 1 Axes>"
      ]
     },
     "metadata": {
      "needs_background": "light"
     },
     "output_type": "display_data"
    }
   ],
   "source": [
    "#Compute a simple cross tabulation of two (or more) factors. By default computes a frequency table of the factors unless\n",
    "#an array of values and an aggregation function are passed.\n",
    "pd.crosstab(heart_data_df.age, heart_data_df.target).plot(kind=\"bar\",figsize=(20,6))\n",
    "plt.title('Heart Disease Frequency for Age & Sex')\n",
    "plt.xlabel('Age')\n",
    "plt.ylabel('Frequency')\n",
    "plt.show()"
   ]
  },
  {
   "cell_type": "code",
   "execution_count": 11,
   "metadata": {
    "execution": {
     "iopub.execute_input": "2020-08-25T17:02:21.615771Z",
     "iopub.status.busy": "2020-08-25T17:02:21.614753Z",
     "iopub.status.idle": "2020-08-25T17:02:21.783637Z",
     "shell.execute_reply": "2020-08-25T17:02:21.783117Z"
    },
    "papermill": {
     "duration": 0.188588,
     "end_time": "2020-08-25T17:02:21.783749",
     "exception": false,
     "start_time": "2020-08-25T17:02:21.595161",
     "status": "completed"
    },
    "tags": []
   },
   "outputs": [
    {
     "data": {
      "image/png": "[encoded data removed]",
      "text/plain": [
       "<Figure size 432x288 with 1 Axes>"
      ]
     },
     "metadata": {
      "needs_background": "light"
     },
     "output_type": "display_data"
    }
   ],
   "source": [
    "plt.scatter(heart_data_df.age[heart_data_df.target==1], heart_data_df.thalach[heart_data_df.target==1], c='red')\n",
    "plt.scatter(heart_data_df.age[heart_data_df.target==0],heart_data_df.thalach[heart_data_df.target==0])\n",
    "plt.legend([\"Disease\", \"Not Disease\"])\n",
    "plt.xlabel(\"Age\")\n",
    "plt.ylabel(\"Maximum Heart Rate\")\n",
    "plt.show()"
   ]
  },
  {
   "cell_type": "code",
   "execution_count": 12,
   "metadata": {
    "execution": {
     "iopub.execute_input": "2020-08-25T17:02:21.826830Z",
     "iopub.status.busy": "2020-08-25T17:02:21.814461Z",
     "iopub.status.idle": "2020-08-25T17:02:21.968257Z",
     "shell.execute_reply": "2020-08-25T17:02:21.967796Z"
    },
    "papermill": {
     "duration": 0.17596,
     "end_time": "2020-08-25T17:02:21.968378",
     "exception": false,
     "start_time": "2020-08-25T17:02:21.792418",
     "status": "completed"
    },
    "tags": []
   },
   "outputs": [
    {
     "data": {
      "image/png": "[encoded data removed]",
      "text/plain": [
       "<Figure size 1080x432 with 1 Axes>"
      ]
     },
     "metadata": {
      "needs_background": "light"
     },
     "output_type": "display_data"
    }
   ],
   "source": [
    "pd.crosstab(heart_data_df.sex,heart_data_df.target).plot(kind=\"bar\",figsize=(15,6),color=['#800080','#FFFF00' ])\n",
    "plt.title('Heart Disease Frequency for Sex')\n",
    "plt.xlabel('Sex (0 = Female, 1 = Male)')\n",
    "plt.legend([\"Haven't Disease\", \"Have Disease\"])\n",
    "plt.ylabel('Frequency')\n",
    "plt.show()"
   ]
  },
  {
   "cell_type": "code",
   "execution_count": 13,
   "metadata": {
    "execution": {
     "iopub.execute_input": "2020-08-25T17:02:22.009390Z",
     "iopub.status.busy": "2020-08-25T17:02:22.004775Z",
     "iopub.status.idle": "2020-08-25T17:02:22.159345Z",
     "shell.execute_reply": "2020-08-25T17:02:22.159806Z"
    },
    "papermill": {
     "duration": 0.182763,
     "end_time": "2020-08-25T17:02:22.160024",
     "exception": false,
     "start_time": "2020-08-25T17:02:21.977261",
     "status": "completed"
    },
    "tags": []
   },
   "outputs": [
    {
     "data": {
      "image/png": "[encoded data removed]",
      "text/plain": [
       "<Figure size 1080x432 with 1 Axes>"
      ]
     },
     "metadata": {
      "needs_background": "light"
     },
     "output_type": "display_data"
    }
   ],
   "source": [
    "pd.crosstab(heart_data_df.cp,heart_data_df.target).plot(kind=\"bar\",figsize=(15,6),color=['#7D0552','#05517D' ])\n",
    "plt.title('Heart Disease Frequency According To Chest Pain Type')\n",
    "plt.xlabel('Chest Pain Type')\n",
    "plt.ylabel('Frequency of Disease or Not')\n",
    "plt.show()"
   ]
  },
  {
   "cell_type": "code",
   "execution_count": 14,
   "metadata": {
    "execution": {
     "iopub.execute_input": "2020-08-25T17:02:22.187870Z",
     "iopub.status.busy": "2020-08-25T17:02:22.185405Z",
     "iopub.status.idle": "2020-08-25T17:02:22.433541Z",
     "shell.execute_reply": "2020-08-25T17:02:22.432978Z"
    },
    "papermill": {
     "duration": 0.26387,
     "end_time": "2020-08-25T17:02:22.433649",
     "exception": false,
     "start_time": "2020-08-25T17:02:22.169779",
     "status": "completed"
    },
    "tags": []
   },
   "outputs": [
    {
     "data": {
      "text/plain": [
       "<matplotlib.axes._subplots.AxesSubplot at 0x7f35d5713f90>"
      ]
     },
     "execution_count": 14,
     "metadata": {},
     "output_type": "execute_result"
    },
    {
     "data": {
      "image/png": "[encoded data removed]",
      "text/plain": [
       "<Figure size 432x288 with 2 Axes>"
      ]
     },
     "metadata": {
      "needs_background": "light"
     },
     "output_type": "display_data"
    }
   ],
   "source": [
    "sns.heatmap(heart_data_df.corr())"
   ]
  },
  {
   "cell_type": "code",
   "execution_count": 15,
   "metadata": {
    "execution": {
     "iopub.execute_input": "2020-08-25T17:02:22.465039Z",
     "iopub.status.busy": "2020-08-25T17:02:22.464266Z",
     "iopub.status.idle": "2020-08-25T17:02:22.895415Z",
     "shell.execute_reply": "2020-08-25T17:02:22.894845Z"
    },
    "papermill": {
     "duration": 0.452456,
     "end_time": "2020-08-25T17:02:22.895540",
     "exception": false,
     "start_time": "2020-08-25T17:02:22.443084",
     "status": "completed"
    },
    "tags": []
   },
   "outputs": [
    {
     "data": {
      "text/plain": [
       "<seaborn.axisgrid.FacetGrid at 0x7f35d55246d0>"
      ]
     },
     "execution_count": 15,
     "metadata": {},
     "output_type": "execute_result"
    },
    {
     "data": {
      "text/plain": [
       "<Figure size 864x720 with 0 Axes>"
      ]
     },
     "metadata": {},
     "output_type": "display_data"
    },
    {
     "data": {
      "image/png": "[encoded data removed]",
      "text/plain": [
       "<Figure size 402.375x360 with 1 Axes>"
      ]
     },
     "metadata": {
      "needs_background": "light"
     },
     "output_type": "display_data"
    }
   ],
   "source": [
    "plt.figure(figsize=(12,10))\n",
    "sns.catplot('sex', 'age', hue='cp', data = heart_data_df, kind='bar')"
   ]
  },
  {
   "cell_type": "code",
   "execution_count": 16,
   "metadata": {
    "execution": {
     "iopub.execute_input": "2020-08-25T17:02:22.923618Z",
     "iopub.status.busy": "2020-08-25T17:02:22.922735Z",
     "iopub.status.idle": "2020-08-25T17:02:23.127227Z",
     "shell.execute_reply": "2020-08-25T17:02:23.126673Z"
    },
    "papermill": {
     "duration": 0.221626,
     "end_time": "2020-08-25T17:02:23.127354",
     "exception": false,
     "start_time": "2020-08-25T17:02:22.905728",
     "status": "completed"
    },
    "tags": []
   },
   "outputs": [
    {
     "data": {
      "image/png": "[encoded data removed]",
      "text/plain": [
       "<Figure size 1080x432 with 1 Axes>"
      ]
     },
     "metadata": {
      "needs_background": "light"
     },
     "output_type": "display_data"
    }
   ],
   "source": [
    "pd.crosstab(heart_data_df.chol,heart_data_df.target).plot(kind=\"area\",figsize=(15,6),color=['#8C001A','#347C17' ])\n",
    "plt.title('Heart Disease Frequency According To Cholestrol')\n",
    "plt.xlabel('Cholestrol')\n",
    "plt.ylabel('Frequency of Disease or Not')\n",
    "plt.show()\n"
   ]
  },
  {
   "cell_type": "code",
   "execution_count": 17,
   "metadata": {
    "execution": {
     "iopub.execute_input": "2020-08-25T17:02:23.162015Z",
     "iopub.status.busy": "2020-08-25T17:02:23.161375Z",
     "iopub.status.idle": "2020-08-25T17:02:23.306710Z",
     "shell.execute_reply": "2020-08-25T17:02:23.307142Z"
    },
    "papermill": {
     "duration": 0.169104,
     "end_time": "2020-08-25T17:02:23.307291",
     "exception": false,
     "start_time": "2020-08-25T17:02:23.138187",
     "status": "completed"
    },
    "tags": []
   },
   "outputs": [
    {
     "data": {
      "image/png": "[encoded data removed]",
      "text/plain": [
       "<Figure size 1080x432 with 1 Axes>"
      ]
     },
     "metadata": {
      "needs_background": "light"
     },
     "output_type": "display_data"
    }
   ],
   "source": [
    "pd.crosstab(heart_data_df.restecg,heart_data_df.sex).plot(kind=\"barh\",figsize=(15,6),color=['#50EBEC','#ED5185' ])\n",
    "plt.title('Heart Disease Frequency based on Rest ECG')\n",
    "plt.xlabel('Rest_ECG')\n",
    "plt.ylabel('Frequency of Disease or Not')\n",
    "plt.show()"
   ]
  },
  {
   "cell_type": "markdown",
   "execution_count": null,
   "metadata": {
    "papermill": {
     "duration": 0.010905,
     "end_time": "2020-08-25T17:02:23.329250",
     "exception": false,
     "start_time": "2020-08-25T17:02:23.318345",
     "status": "completed"
    },
    "tags": []
   },
   "source": [
    "# 5) Feature Engineering"
   ]
  },
  {
   "cell_type": "markdown",
   "execution_count": null,
   "metadata": {
    "papermill": {
     "duration": 0.01061,
     "end_time": "2020-08-25T17:02:23.350836",
     "exception": false,
     "start_time": "2020-08-25T17:02:23.340226",
     "status": "completed"
    },
    "tags": []
   },
   "source": [
    "This involves the selecting of features necessary for out further analysis"
   ]
  },
  {
   "cell_type": "code",
   "execution_count": 18,
   "metadata": {
    "execution": {
     "iopub.execute_input": "2020-08-25T17:02:23.388019Z",
     "iopub.status.busy": "2020-08-25T17:02:23.387043Z",
     "iopub.status.idle": "2020-08-25T17:02:23.392683Z",
     "shell.execute_reply": "2020-08-25T17:02:23.392145Z"
    },
    "papermill": {
     "duration": 0.031087,
     "end_time": "2020-08-25T17:02:23.392788",
     "exception": false,
     "start_time": "2020-08-25T17:02:23.361701",
     "status": "completed"
    },
    "tags": []
   },
   "outputs": [
    {
     "data": {
      "text/html": [
       "<div>\n",
       "<style scoped>\n",
       "    .dataframe tbody tr th:only-of-type {\n",
       "        vertical-align: middle;\n",
       "    }\n",
       "\n",
       "    .dataframe tbody tr th {\n",
       "        vertical-align: top;\n",
       "    }\n",
       "\n",
       "    .dataframe thead th {\n",
       "        text-align: right;\n",
       "    }\n",
       "</style>\n",
       "<table border=\"1\" class=\"dataframe\">\n",
       "  <thead>\n",
       "    <tr style=\"text-align: right;\">\n",
       "      <th></th>\n",
       "      <th>age</th>\n",
       "      <th>sex</th>\n",
       "      <th>cp</th>\n",
       "      <th>trestbps</th>\n",
       "      <th>chol</th>\n",
       "      <th>fbs</th>\n",
       "      <th>restecg</th>\n",
       "      <th>thalach</th>\n",
       "      <th>exang</th>\n",
       "      <th>oldpeak</th>\n",
       "      <th>ca</th>\n",
       "      <th>target</th>\n",
       "    </tr>\n",
       "  </thead>\n",
       "  <tbody>\n",
       "    <tr>\n",
       "      <th>0</th>\n",
       "      <td>63</td>\n",
       "      <td>1</td>\n",
       "      <td>3</td>\n",
       "      <td>145</td>\n",
       "      <td>233</td>\n",
       "      <td>1</td>\n",
       "      <td>0</td>\n",
       "      <td>150</td>\n",
       "      <td>0</td>\n",
       "      <td>2.3</td>\n",
       "      <td>0</td>\n",
       "      <td>1</td>\n",
       "    </tr>\n",
       "    <tr>\n",
       "      <th>1</th>\n",
       "      <td>37</td>\n",
       "      <td>1</td>\n",
       "      <td>2</td>\n",
       "      <td>130</td>\n",
       "      <td>250</td>\n",
       "      <td>0</td>\n",
       "      <td>1</td>\n",
       "      <td>187</td>\n",
       "      <td>0</td>\n",
       "      <td>3.5</td>\n",
       "      <td>0</td>\n",
       "      <td>1</td>\n",
       "    </tr>\n",
       "    <tr>\n",
       "      <th>2</th>\n",
       "      <td>41</td>\n",
       "      <td>0</td>\n",
       "      <td>1</td>\n",
       "      <td>130</td>\n",
       "      <td>204</td>\n",
       "      <td>0</td>\n",
       "      <td>0</td>\n",
       "      <td>172</td>\n",
       "      <td>0</td>\n",
       "      <td>1.4</td>\n",
       "      <td>0</td>\n",
       "      <td>1</td>\n",
       "    </tr>\n",
       "    <tr>\n",
       "      <th>3</th>\n",
       "      <td>56</td>\n",
       "      <td>1</td>\n",
       "      <td>1</td>\n",
       "      <td>120</td>\n",
       "      <td>236</td>\n",
       "      <td>0</td>\n",
       "      <td>1</td>\n",
       "      <td>178</td>\n",
       "      <td>0</td>\n",
       "      <td>0.8</td>\n",
       "      <td>0</td>\n",
       "      <td>1</td>\n",
       "    </tr>\n",
       "    <tr>\n",
       "      <th>4</th>\n",
       "      <td>57</td>\n",
       "      <td>0</td>\n",
       "      <td>0</td>\n",
       "      <td>120</td>\n",
       "      <td>354</td>\n",
       "      <td>0</td>\n",
       "      <td>1</td>\n",
       "      <td>163</td>\n",
       "      <td>1</td>\n",
       "      <td>0.6</td>\n",
       "      <td>0</td>\n",
       "      <td>1</td>\n",
       "    </tr>\n",
       "    <tr>\n",
       "      <th>5</th>\n",
       "      <td>57</td>\n",
       "      <td>1</td>\n",
       "      <td>0</td>\n",
       "      <td>140</td>\n",
       "      <td>192</td>\n",
       "      <td>0</td>\n",
       "      <td>1</td>\n",
       "      <td>148</td>\n",
       "      <td>0</td>\n",
       "      <td>0.4</td>\n",
       "      <td>0</td>\n",
       "      <td>1</td>\n",
       "    </tr>\n",
       "    <tr>\n",
       "      <th>6</th>\n",
       "      <td>56</td>\n",
       "      <td>0</td>\n",
       "      <td>1</td>\n",
       "      <td>140</td>\n",
       "      <td>294</td>\n",
       "      <td>0</td>\n",
       "      <td>0</td>\n",
       "      <td>153</td>\n",
       "      <td>0</td>\n",
       "      <td>1.3</td>\n",
       "      <td>0</td>\n",
       "      <td>1</td>\n",
       "    </tr>\n",
       "    <tr>\n",
       "      <th>7</th>\n",
       "      <td>44</td>\n",
       "      <td>1</td>\n",
       "      <td>1</td>\n",
       "      <td>120</td>\n",
       "      <td>263</td>\n",
       "      <td>0</td>\n",
       "      <td>1</td>\n",
       "      <td>173</td>\n",
       "      <td>0</td>\n",
       "      <td>0.0</td>\n",
       "      <td>0</td>\n",
       "      <td>1</td>\n",
       "    </tr>\n",
       "    <tr>\n",
       "      <th>8</th>\n",
       "      <td>52</td>\n",
       "      <td>1</td>\n",
       "      <td>2</td>\n",
       "      <td>172</td>\n",
       "      <td>199</td>\n",
       "      <td>1</td>\n",
       "      <td>1</td>\n",
       "      <td>162</td>\n",
       "      <td>0</td>\n",
       "      <td>0.5</td>\n",
       "      <td>0</td>\n",
       "      <td>1</td>\n",
       "    </tr>\n",
       "    <tr>\n",
       "      <th>9</th>\n",
       "      <td>57</td>\n",
       "      <td>1</td>\n",
       "      <td>2</td>\n",
       "      <td>150</td>\n",
       "      <td>168</td>\n",
       "      <td>0</td>\n",
       "      <td>1</td>\n",
       "      <td>174</td>\n",
       "      <td>0</td>\n",
       "      <td>1.6</td>\n",
       "      <td>0</td>\n",
       "      <td>1</td>\n",
       "    </tr>\n",
       "  </tbody>\n",
       "</table>\n",
       "</div>"
      ],
      "text/plain": [
       "   age  sex  cp  trestbps  chol  fbs  restecg  thalach  exang  oldpeak  ca  \\\n",
       "0   63    1   3       145   233    1        0      150      0      2.3   0   \n",
       "1   37    1   2       130   250    0        1      187      0      3.5   0   \n",
       "2   41    0   1       130   204    0        0      172      0      1.4   0   \n",
       "3   56    1   1       120   236    0        1      178      0      0.8   0   \n",
       "4   57    0   0       120   354    0        1      163      1      0.6   0   \n",
       "5   57    1   0       140   192    0        1      148      0      0.4   0   \n",
       "6   56    0   1       140   294    0        0      153      0      1.3   0   \n",
       "7   44    1   1       120   263    0        1      173      0      0.0   0   \n",
       "8   52    1   2       172   199    1        1      162      0      0.5   0   \n",
       "9   57    1   2       150   168    0        1      174      0      1.6   0   \n",
       "\n",
       "   target  \n",
       "0       1  \n",
       "1       1  \n",
       "2       1  \n",
       "3       1  \n",
       "4       1  \n",
       "5       1  \n",
       "6       1  \n",
       "7       1  \n",
       "8       1  \n",
       "9       1  "
      ]
     },
     "execution_count": 18,
     "metadata": {},
     "output_type": "execute_result"
    }
   ],
   "source": [
    "heart_data_df.drop(['slope', 'thal'], axis=1, inplace=True)\n",
    "heart_data_df.head(10)"
   ]
  },
  {
   "cell_type": "markdown",
   "execution_count": null,
   "metadata": {
    "papermill": {
     "duration": 0.010921,
     "end_time": "2020-08-25T17:02:23.415676",
     "exception": false,
     "start_time": "2020-08-25T17:02:23.404755",
     "status": "completed"
    },
    "tags": []
   },
   "source": [
    "# 6) Data Splitting"
   ]
  },
  {
   "cell_type": "code",
   "execution_count": 19,
   "metadata": {
    "execution": {
     "iopub.execute_input": "2020-08-25T17:02:23.445438Z",
     "iopub.status.busy": "2020-08-25T17:02:23.444534Z",
     "iopub.status.idle": "2020-08-25T17:02:23.447859Z",
     "shell.execute_reply": "2020-08-25T17:02:23.447436Z"
    },
    "papermill": {
     "duration": 0.020835,
     "end_time": "2020-08-25T17:02:23.447992",
     "exception": false,
     "start_time": "2020-08-25T17:02:23.427157",
     "status": "completed"
    },
    "tags": []
   },
   "outputs": [],
   "source": [
    "x = heart_data_df.drop(['target'], axis=1)\n",
    "y = heart_data_df['target'].values"
   ]
  },
  {
   "cell_type": "code",
   "execution_count": 20,
   "metadata": {
    "execution": {
     "iopub.execute_input": "2020-08-25T17:02:23.476989Z",
     "iopub.status.busy": "2020-08-25T17:02:23.476404Z",
     "iopub.status.idle": "2020-08-25T17:02:23.478408Z",
     "shell.execute_reply": "2020-08-25T17:02:23.478773Z"
    },
    "papermill": {
     "duration": 0.019648,
     "end_time": "2020-08-25T17:02:23.478923",
     "exception": false,
     "start_time": "2020-08-25T17:02:23.459275",
     "status": "completed"
    },
    "tags": []
   },
   "outputs": [],
   "source": [
    "from sklearn.model_selection import train_test_split\n",
    "X_train, X_test, y_train, y_test = train_test_split(x, y, test_size=0.15, random_state=32)"
   ]
  },
  {
   "cell_type": "markdown",
   "execution_count": null,
   "metadata": {
    "papermill": {
     "duration": 0.010396,
     "end_time": "2020-08-25T17:02:23.500167",
     "exception": false,
     "start_time": "2020-08-25T17:02:23.489771",
     "status": "completed"
    },
    "tags": []
   },
   "source": [
    "# 7) Model Selection, Training & Prediction"
   ]
  },
  {
   "cell_type": "markdown",
   "execution_count": null,
   "metadata": {
    "papermill": {
     "duration": 0.010875,
     "end_time": "2020-08-25T17:02:23.521741",
     "exception": false,
     "start_time": "2020-08-25T17:02:23.510866",
     "status": "completed"
    },
    "tags": []
   },
   "source": [
    "# 7 a) Using Logistic Regression"
   ]
  },
  {
   "cell_type": "code",
   "execution_count": 21,
   "metadata": {
    "execution": {
     "iopub.execute_input": "2020-08-25T17:02:23.546118Z",
     "iopub.status.busy": "2020-08-25T17:02:23.545573Z",
     "iopub.status.idle": "2020-08-25T17:02:23.598933Z",
     "shell.execute_reply": "2020-08-25T17:02:23.598466Z"
    },
    "papermill": {
     "duration": 0.066515,
     "end_time": "2020-08-25T17:02:23.599076",
     "exception": false,
     "start_time": "2020-08-25T17:02:23.532561",
     "status": "completed"
    },
    "tags": []
   },
   "outputs": [
    {
     "name": "stderr",
     "output_type": "stream",
     "text": [
      "/opt/conda/lib/python3.7/site-packages/sklearn/linear_model/_logistic.py:764: ConvergenceWarning: lbfgs failed to converge (status=1):\n",
      "STOP: TOTAL NO. of ITERATIONS REACHED LIMIT.\n",
      "\n",
      "Increase the number of iterations (max_iter) or scale the data as shown in:\n",
      "    https://scikit-learn.org/stable/modules/preprocessing.html\n",
      "Please also refer to the documentation for alternative solver options:\n",
      "    https://scikit-learn.org/stable/modules/linear_model.html#logistic-regression\n",
      "  extra_warning_msg=_LOGISTIC_SOLVER_CONVERGENCE_MSG)\n"
     ]
    },
    {
     "data": {
      "text/plain": [
       "LogisticRegression()"
      ]
     },
     "execution_count": 21,
     "metadata": {},
     "output_type": "execute_result"
    }
   ],
   "source": [
    "from sklearn.linear_model import LogisticRegression\n",
    "log = LogisticRegression()\n",
    "log.fit(X_train,y_train)"
   ]
  },
  {
   "cell_type": "code",
   "execution_count": 22,
   "metadata": {
    "execution": {
     "iopub.execute_input": "2020-08-25T17:02:23.626791Z",
     "iopub.status.busy": "2020-08-25T17:02:23.625995Z",
     "iopub.status.idle": "2020-08-25T17:02:23.629755Z",
     "shell.execute_reply": "2020-08-25T17:02:23.629126Z"
    },
    "papermill": {
     "duration": 0.019414,
     "end_time": "2020-08-25T17:02:23.629900",
     "exception": false,
     "start_time": "2020-08-25T17:02:23.610486",
     "status": "completed"
    },
    "tags": []
   },
   "outputs": [],
   "source": [
    "accuracies = {}"
   ]
  },
  {
   "cell_type": "code",
   "execution_count": 23,
   "metadata": {
    "execution": {
     "iopub.execute_input": "2020-08-25T17:02:23.668563Z",
     "iopub.status.busy": "2020-08-25T17:02:23.667716Z",
     "iopub.status.idle": "2020-08-25T17:02:23.672935Z",
     "shell.execute_reply": "2020-08-25T17:02:23.672238Z"
    },
    "papermill": {
     "duration": 0.025199,
     "end_time": "2020-08-25T17:02:23.673102",
     "exception": false,
     "start_time": "2020-08-25T17:02:23.647903",
     "status": "completed"
    },
    "tags": []
   },
   "outputs": [
    {
     "name": "stdout",
     "output_type": "stream",
     "text": [
      "Test Accuracy 80.43%\n"
     ]
    }
   ],
   "source": [
    "acc = log.score(X_test,y_test)*100\n",
    "accuracies['Logistic Regression'] = acc\n",
    "print(\"Test Accuracy {:.2f}%\".format(acc))"
   ]
  },
  {
   "cell_type": "markdown",
   "execution_count": null,
   "metadata": {
    "papermill": {
     "duration": 0.012501,
     "end_time": "2020-08-25T17:02:23.705231",
     "exception": false,
     "start_time": "2020-08-25T17:02:23.692730",
     "status": "completed"
    },
    "tags": []
   },
   "source": [
    "# 7b) Using Decision Tree"
   ]
  },
  {
   "cell_type": "code",
   "execution_count": 24,
   "metadata": {
    "execution": {
     "iopub.execute_input": "2020-08-25T17:02:23.735426Z",
     "iopub.status.busy": "2020-08-25T17:02:23.734702Z",
     "iopub.status.idle": "2020-08-25T17:02:23.846602Z",
     "shell.execute_reply": "2020-08-25T17:02:23.847151Z"
    },
    "papermill": {
     "duration": 0.129623,
     "end_time": "2020-08-25T17:02:23.847309",
     "exception": false,
     "start_time": "2020-08-25T17:02:23.717686",
     "status": "completed"
    },
    "tags": []
   },
   "outputs": [
    {
     "name": "stdout",
     "output_type": "stream",
     "text": [
      "Decision Tree Test Accuracy 80.43%\n"
     ]
    }
   ],
   "source": [
    "from sklearn.tree import DecisionTreeClassifier\n",
    "dc = DecisionTreeClassifier()\n",
    "dc.fit(X_train, y_train)\n",
    "\n",
    "acc = dc.score(X_test, y_test)*100\n",
    "accuracies['Decision Tree'] = acc\n",
    "print(\"Decision Tree Test Accuracy {:.2f}%\".format(acc))"
   ]
  },
  {
   "cell_type": "markdown",
   "execution_count": null,
   "metadata": {
    "papermill": {
     "duration": 0.012285,
     "end_time": "2020-08-25T17:02:23.872017",
     "exception": false,
     "start_time": "2020-08-25T17:02:23.859732",
     "status": "completed"
    },
    "tags": []
   },
   "source": [
    "# 7c) Using Random Forest"
   ]
  },
  {
   "cell_type": "code",
   "execution_count": 25,
   "metadata": {
    "execution": {
     "iopub.execute_input": "2020-08-25T17:02:23.901620Z",
     "iopub.status.busy": "2020-08-25T17:02:23.900918Z",
     "iopub.status.idle": "2020-08-25T17:02:25.496772Z",
     "shell.execute_reply": "2020-08-25T17:02:25.496314Z"
    },
    "papermill": {
     "duration": 1.612441,
     "end_time": "2020-08-25T17:02:25.496896",
     "exception": false,
     "start_time": "2020-08-25T17:02:23.884455",
     "status": "completed"
    },
    "tags": []
   },
   "outputs": [
    {
     "name": "stdout",
     "output_type": "stream",
     "text": [
      "Random Forest Algorithm Accuracy Score : 84.78%\n"
     ]
    }
   ],
   "source": [
    "from sklearn.ensemble import RandomForestClassifier\n",
    "rf = RandomForestClassifier(n_estimators = 1000, random_state = 1)\n",
    "rf.fit(X_train, y_train)\n",
    "\n",
    "acc = rf.score(X_test,y_test)*100\n",
    "accuracies['Random Forest'] = acc\n",
    "print(\"Random Forest Algorithm Accuracy Score : {:.2f}%\".format(acc))"
   ]
  },
  {
   "cell_type": "markdown",
   "execution_count": null,
   "metadata": {
    "papermill": {
     "duration": 0.031372,
     "end_time": "2020-08-25T17:02:25.539533",
     "exception": false,
     "start_time": "2020-08-25T17:02:25.508161",
     "status": "completed"
    },
    "tags": []
   },
   "source": [
    "# 8) Comparing Models"
   ]
  },
  {
   "cell_type": "code",
   "execution_count": 26,
   "metadata": {
    "execution": {
     "iopub.execute_input": "2020-08-25T17:02:25.576862Z",
     "iopub.status.busy": "2020-08-25T17:02:25.575852Z",
     "iopub.status.idle": "2020-08-25T17:02:25.701790Z",
     "shell.execute_reply": "2020-08-25T17:02:25.701325Z"
    },
    "papermill": {
     "duration": 0.1497,
     "end_time": "2020-08-25T17:02:25.701902",
     "exception": false,
     "start_time": "2020-08-25T17:02:25.552202",
     "status": "completed"
    },
    "tags": []
   },
   "outputs": [
    {
     "data": {
      "image/png": "[encoded data removed]",
      "text/plain": [
       "<Figure size 1152x360 with 1 Axes>"
      ]
     },
     "metadata": {},
     "output_type": "display_data"
    }
   ],
   "source": [
    "colors = [\"purple\", \"magenta\", \"cyan\"]\n",
    "\n",
    "sns.set_style(\"whitegrid\")\n",
    "plt.figure(figsize=(16,5))\n",
    "plt.yticks(np.arange(0,100,10))\n",
    "plt.ylabel(\"Accuracy %\")\n",
    "plt.xlabel(\"Algorithms\")\n",
    "sns.barplot(x=list(accuracies.keys()), y=list(accuracies.values()), palette=colors)\n",
    "plt.show()\n"
   ]
  },
  {
   "cell_type": "code",
   "execution_count": 27,
   "metadata": {
    "execution": {
     "iopub.execute_input": "2020-08-25T17:02:25.737740Z",
     "iopub.status.busy": "2020-08-25T17:02:25.736018Z",
     "iopub.status.idle": "2020-08-25T17:02:25.827732Z",
     "shell.execute_reply": "2020-08-25T17:02:25.828341Z"
    },
    "papermill": {
     "duration": 0.115486,
     "end_time": "2020-08-25T17:02:25.828508",
     "exception": false,
     "start_time": "2020-08-25T17:02:25.713022",
     "status": "completed"
    },
    "tags": []
   },
   "outputs": [
    {
     "name": "stdout",
     "output_type": "stream",
     "text": [
      "[1 0 1 1 1 1 0 0 1 1 0 1 0 0 1 0 1 0 1 0 1 1 0 0 0 0 0 0 0 1 1 1 1 1 0 1 1\n",
      " 1 1 1 0 1 1 1 1 0]\n",
      "[1 0 1 1 1 1 0 1 1 1 1 1 0 0 1 0 0 0 1 0 1 1 0 0 1 0 0 1 0 0 1 1 1 1 0 1 1\n",
      " 1 1 0 0 1 1 0 1 0]\n",
      "[1 0 1 1 1 1 0 0 1 1 1 1 0 0 1 0 0 0 1 0 1 1 0 0 0 0 0 0 0 1 1 1 1 1 0 1 1\n",
      " 1 1 0 1 1 1 1 1 0]\n"
     ]
    }
   ],
   "source": [
    "log_pred = log.predict(X_test)\n",
    "dt_pred = dc.predict(X_test)\n",
    "rand_for_pred = rf.predict(X_test)\n",
    "print(log_pred)\n",
    "print(dt_pred)\n",
    "print(rand_for_pred)"
   ]
  },
  {
   "cell_type": "code",
   "execution_count": 28,
   "metadata": {
    "execution": {
     "iopub.execute_input": "2020-08-25T17:02:25.858474Z",
     "iopub.status.busy": "2020-08-25T17:02:25.857266Z",
     "iopub.status.idle": "2020-08-25T17:02:25.861533Z",
     "shell.execute_reply": "2020-08-25T17:02:25.861033Z"
    },
    "papermill": {
     "duration": 0.021346,
     "end_time": "2020-08-25T17:02:25.861653",
     "exception": false,
     "start_time": "2020-08-25T17:02:25.840307",
     "status": "completed"
    },
    "tags": []
   },
   "outputs": [],
   "source": [
    "from sklearn.metrics import confusion_matrix\n",
    "\n",
    "cm_log = confusion_matrix(y_test, log_pred )\n",
    "cm_dt = confusion_matrix(y_test, dt_pred)\n",
    "cm_rf = confusion_matrix(y_test,rand_for_pred)"
   ]
  },
  {
   "cell_type": "code",
   "execution_count": 29,
   "metadata": {
    "execution": {
     "iopub.execute_input": "2020-08-25T17:02:25.895256Z",
     "iopub.status.busy": "2020-08-25T17:02:25.894637Z",
     "iopub.status.idle": "2020-08-25T17:02:26.174251Z",
     "shell.execute_reply": "2020-08-25T17:02:26.173807Z"
    },
    "papermill": {
     "duration": 0.30112,
     "end_time": "2020-08-25T17:02:26.174360",
     "exception": false,
     "start_time": "2020-08-25T17:02:25.873240",
     "status": "completed"
    },
    "tags": []
   },
   "outputs": [
    {
     "data": {
      "image/png": "[encoded data removed]",
      "text/plain": [
       "<Figure size 1728x864 with 3 Axes>"
      ]
     },
     "metadata": {},
     "output_type": "display_data"
    }
   ],
   "source": [
    "plt.figure(figsize=(24,12))\n",
    "\n",
    "plt.suptitle(\"Confusion Matrixes\",fontsize=24)\n",
    "plt.subplots_adjust(wspace = 0.4, hspace= 0.4)\n",
    "\n",
    "plt.subplot(2,3,1)\n",
    "plt.title(\"Logistic Regression Confusion Matrix\")\n",
    "sns.heatmap(cm_log,annot=True,cmap=\"YlOrBr\",fmt=\"d\",cbar=False, annot_kws={\"size\": 24})\n",
    "\n",
    "plt.subplot(2,3,2)\n",
    "plt.title(\"Decision Tree Classifier Confusion Matrix\")\n",
    "sns.heatmap(cm_dt,annot=True,cmap=\"YlOrRd\",fmt=\"d\",cbar=False, annot_kws={\"size\": 24})\n",
    "\n",
    "plt.subplot(2,3,3)\n",
    "plt.title(\"Random Forest Confusion Matrix\")\n",
    "sns.heatmap(cm_rf,annot=True,cmap=\"YlGnBu\",fmt=\"d\",cbar=False, annot_kws={\"size\": 24})\n",
    "\n",
    "plt.show()"
   ]
  },
  {
   "cell_type": "markdown",
   "execution_count": null,
   "metadata": {
    "papermill": {
     "duration": 0.011354,
     "end_time": "2020-08-25T17:02:26.197268",
     "exception": false,
     "start_time": "2020-08-25T17:02:26.185914",
     "status": "completed"
    },
    "tags": []
   },
   "source": [
    "***This analysis clearifies that RandomForest could be the best model for the heart disease detection as it has an accuracy of 85%, so this could give nore precised result of the record***"
   ]
  }
 ],
 "metadata": {
  "kernelspec": {
   "display_name": "Python 3",
   "language": "python",
   "name": "python3"
  },
  "language_info": {
   "codemirror_mode": {
    "name": "ipython",
    "version": 3
   },
   "file_extension": ".py",
   "mimetype": "text/x-python",
   "name": "python",
   "nbconvert_exporter": "python",
   "pygments_lexer": "ipython3",
   "version": "3.7.6"
  },
  "papermill": {
   "duration": 11.371548,
   "end_time": "2020-08-25T17:02:26.317863",
   "environment_variables": {},
   "exception": null,
   "input_path": "__notebook__.ipynb",
   "output_path": "__notebook__.ipynb",
   "parameters": {},
   "start_time": "2020-08-25T17:02:14.946315",
   "version": "2.1.0"
  }
 },
 "nbformat": 4,
 "nbformat_minor": 4
}
