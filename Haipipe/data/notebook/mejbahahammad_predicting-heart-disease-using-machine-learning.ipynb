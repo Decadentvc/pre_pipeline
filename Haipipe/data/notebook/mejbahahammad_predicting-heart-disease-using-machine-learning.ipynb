{
 "cells": [
  {
   "cell_type": "markdown",
   "metadata": {
    "papermill": {
     "duration": 0.021847,
     "end_time": "2020-09-01T17:26:29.573129",
     "exception": false,
     "start_time": "2020-09-01T17:26:29.551282",
     "status": "completed"
    },
    "tags": []
   },
   "source": [
    "# 1. Classification"
   ]
  },
  {
   "cell_type": "markdown",
   "metadata": {
    "papermill": {
     "duration": 0.015032,
     "end_time": "2020-09-01T17:26:29.603567",
     "exception": false,
     "start_time": "2020-09-01T17:26:29.588535",
     "status": "completed"
    },
    "tags": []
   },
   "source": [
    "# 1.1 Classifications Explained: \n",
    "\n",
    "The Central Statistics Office has a statutory role in the co-ordination of official statistics in Ireland. In particular, it has the authority to ensure that appropriate standard classifications are used for this purpose. To this end, the Statistics Act 1993, 10(2), states that ’The Office (viz. Central Statistics Office) shall have authority to co-ordinate official statistics compiled by public authorities to ensure, in particular, adherence to statistical standards and the use of appropriate classifications.\n",
    "\n",
    "A classification is an ordered set of related categories used to group data according to its similarities. It consists of codes and descriptors and allows survey responses to be put into meaningful categories in order to produce useful data. A classification is a useful tool for anyone developing statistical surveys. It is a framework which both simplifies the topic being studied and makes it easy to categorise all data or responses received."
   ]
  },
  {
   "cell_type": "markdown",
   "metadata": {
    "papermill": {
     "duration": 0.014916,
     "end_time": "2020-09-01T17:26:29.634460",
     "exception": false,
     "start_time": "2020-09-01T17:26:29.619544",
     "status": "completed"
    },
    "tags": []
   },
   "source": [
    "# 1.2 Features of a classification\n",
    "It is generally accepted that a standard classification will usually meet a number of requirements which are outlined below.\n",
    "\n",
    "Exhaustive categories  - All survey responses need to fit into the classification structure somewhere\n",
    "Precise and meaningful descriptors for categories - The content of each category in the classification should be clearly defined\n",
    "Conceptually sound - The classification should have a conceptual basis and a logical structure\n",
    "Statistically balanced - In general, survey responses should not fall heavily into one category and sparsely into the other categories\n",
    "Operationally feasible - There is no point in having a classification that cannot be implemented in practice\n",
    "Statistically robust - The classification should be able to be used for a number of years without revision\n",
    "Internationally comparable - The classification should be comparable with any international standard classification"
   ]
  },
  {
   "cell_type": "markdown",
   "metadata": {
    "papermill": {
     "duration": 0.015077,
     "end_time": "2020-09-01T17:26:29.664939",
     "exception": false,
     "start_time": "2020-09-01T17:26:29.649862",
     "status": "completed"
    },
    "tags": []
   },
   "source": [
    "###  <u><b>More specifically, we'll look at the following topics.</b></u>\n",
    "\n",
    "   ### <b style=\"color:blue\">1. Exploratory data analysis (EDA)</b> - the process of going through a dataset and finding out more about it.\n",
    "   \n",
    "   ### <b style=\"color:blue\">2. Model training</b>  - create model(s) to learn to predict a target variable based on other variables.\n",
    "   \n",
    "   ### <b style=\"color:blue\">3. Model evaluation</b>  - evaluating a models predictions using problem-specific evaluation metrics. \n",
    "   \n",
    "   ### <b style=\"color:blue\">4. Model comparison</b>  - comparing several different models to find the best one.\n",
    "   \n",
    "   ### <b style=\"color:blue\">5. Model fine-tuning</b>  - once we've found a good model, how can we improve it?\n",
    "   \n",
    "   ### <b style=\"color:blue\">6. Feature importance</b>  - since we're predicting the presence of heart disease, are there some things which are more important for prediction?\n",
    "   \n",
    "   ### <b style=\"color:blue\">7. Cross-validation</b>  - if we do build a good model, can we be sure it will work on unseen data?\n",
    "   \n",
    "   ### <b style=\"color:blue\">8. Reporting what we've found</b>  - if we had to present our work, what would we show someone?\n"
   ]
  },
  {
   "cell_type": "markdown",
   "metadata": {
    "papermill": {
     "duration": 0.015059,
     "end_time": "2020-09-01T17:26:29.695667",
     "exception": false,
     "start_time": "2020-09-01T17:26:29.680608",
     "status": "completed"
    },
    "tags": []
   },
   "source": [
    "# 1.3 Heart Disease Data Dictionary\n",
    "\n",
    "A data dictionary describes the data you're dealing with. Not all datasets come with them so this is where you may have to do your research or ask a **subject matter expert** (someone who knows about the data) for more.\n",
    "\n",
    "The following are the features we'll use to predict our target variable (heart disease or no heart disease).\n",
    "\n",
    "   <b style=\"color:blue\">1. age</b> - age in years \n",
    "   \n",
    "   <b style=\"color:blue\">2. sex</b> - (1 = male; 0 = female) \n",
    "   \n",
    "   <b style=\"color:blue\">3. cp</b> - chest pain type \n",
    "     * 0: Typical angina: chest pain related decrease blood supply to the heart\n",
    "     * 1: Atypical angina: chest pain not related to heart\n",
    "     * 2: Non-anginal pain: typically esophageal spasms (non heart related)\n",
    "     * 3: Asymptomatic: chest pain not showing signs of disease\n",
    "     \n",
    "   <b style=\"color:blue\">4. trestbps</b> - resting blood pressure (in mm Hg on admission to the hospital)\n",
    "     * anything above 130-140 is typically cause for concern\n",
    "     \n",
    "   <b style=\"color:blue\">5. chol</b> - serum cholestoral in mg/dl \n",
    "     * serum = LDL + HDL + .2 * triglycerides\n",
    "     * above 200 is cause for concern\n",
    "     \n",
    "   <b style=\"color:blue\">6. fbs</b> - (fasting blood sugar > 120 mg/dl) (1 = true; 0 = false) \n",
    "     * '>126' mg/dL signals diabetes\n",
    "     \n",
    "   <b style=\"color:blue\">7. restecg</b> - resting electrocardiographic results\n",
    "     * 0: Nothing to note\n",
    "     * 1: ST-T Wave abnormality\n",
    "        - can range from mild symptoms to severe problems\n",
    "        - signals non-normal heart beat\n",
    "     * 2: Possible or definite left ventricular hypertrophy\n",
    "        - Enlarged heart's main pumping chamber\n",
    "        \n",
    "   <b style=\"color:blue\">8. thalach</b> - maximum heart rate achieved \n",
    "   \n",
    "   <b style=\"color:blue\">9. exang</b> - exercise induced angina (1 = yes; 0 = no) \n",
    "   \n",
    "   <b style=\"color:blue\">10. oldpeak</b> - ST depression induced by exercise relative to rest \n",
    "     * looks at stress of heart during excercise\n",
    "     * unhealthy heart will stress more\n",
    "     \n",
    "   <b style=\"color:blue\">11. slope</b> - the slope of the peak exercise ST segment\n",
    "     * 0: Upsloping: better heart rate with excercise (uncommon)\n",
    "     * 1: Flatsloping: minimal change (typical healthy heart)\n",
    "     * 2: Downslopins: signs of unhealthy heart\n",
    "     \n",
    "   <b style=\"color:blue\">12. ca</b> - number of major vessels (0-3) colored by flourosopy \n",
    "     * colored vessel means the doctor can see the blood passing through\n",
    "     * the more blood movement the better (no clots)\n",
    "     \n",
    "   <b style=\"color:blue\">13. thal</b> - thalium stress result\n",
    "     * 1,3: normal\n",
    "     * 6: fixed defect: used to be defect but ok now\n",
    "     * 7: reversable defect: no proper blood movement when excercising \n",
    "     \n",
    "   <b style=\"color:blue\">14. target</b> - have disease or not (1=yes, 0=no) (= the predicted attribute)\n"
   ]
  },
  {
   "cell_type": "markdown",
   "metadata": {
    "papermill": {
     "duration": 0.015611,
     "end_time": "2020-09-01T17:26:29.726780",
     "exception": false,
     "start_time": "2020-09-01T17:26:29.711169",
     "status": "completed"
    },
    "tags": []
   },
   "source": [
    "<img src=\"https://img.grepmed.com/uploads/6940/management-hfref-dapagliflozin-sglt2inhibitor-cardiology-32-original.png\" alt=\"CLS\">"
   ]
  },
  {
   "cell_type": "markdown",
   "metadata": {
    "papermill": {
     "duration": 0.015091,
     "end_time": "2020-09-01T17:26:29.757421",
     "exception": false,
     "start_time": "2020-09-01T17:26:29.742330",
     "status": "completed"
    },
    "tags": []
   },
   "source": [
    "<img src=\"https://ars.els-cdn.com/content/image/1-s2.0-S1386505617303684-gr2.jpg\" alt=\"Process\">"
   ]
  },
  {
   "cell_type": "markdown",
   "metadata": {
    "papermill": {
     "duration": 0.015181,
     "end_time": "2020-09-01T17:26:29.788346",
     "exception": false,
     "start_time": "2020-09-01T17:26:29.773165",
     "status": "completed"
    },
    "tags": []
   },
   "source": [
    "# 2. Import lnecessary ibraries python"
   ]
  },
  {
   "cell_type": "code",
   "execution_count": 1,
   "metadata": {
    "execution": {
     "iopub.execute_input": "2020-09-01T17:26:29.834718Z",
     "iopub.status.busy": "2020-09-01T17:26:29.833593Z",
     "iopub.status.idle": "2020-09-01T17:26:31.918316Z",
     "shell.execute_reply": "2020-09-01T17:26:31.916873Z"
    },
    "papermill": {
     "duration": 2.114669,
     "end_time": "2020-09-01T17:26:31.918521",
     "exception": false,
     "start_time": "2020-09-01T17:26:29.803852",
     "status": "completed"
    },
    "tags": []
   },
   "outputs": [],
   "source": [
    "\n",
    "import numpy as np \n",
    "import pandas as pd \n",
    "import matplotlib.pyplot as plt\n",
    "import seaborn as sns \n",
    "import warnings\n",
    "warnings.filterwarnings('ignore')\n",
    "\n",
    "\n",
    "from sklearn.linear_model import LogisticRegression\n",
    "from sklearn.neighbors import KNeighborsClassifier\n",
    "from sklearn.ensemble import RandomForestClassifier\n",
    "\n",
    "\n",
    "from sklearn.model_selection import train_test_split, cross_val_score\n",
    "from sklearn.model_selection import RandomizedSearchCV, GridSearchCV\n",
    "from sklearn.metrics import confusion_matrix, classification_report\n",
    "from sklearn.metrics import precision_score, recall_score, f1_score\n",
    "from sklearn.metrics import plot_roc_curve\n",
    "\n",
    "%matplotlib inline"
   ]
  },
  {
   "cell_type": "markdown",
   "metadata": {
    "papermill": {
     "duration": 0.015832,
     "end_time": "2020-09-01T17:26:31.954326",
     "exception": false,
     "start_time": "2020-09-01T17:26:31.938494",
     "status": "completed"
    },
    "tags": []
   },
   "source": [
    "# 2.1 Load DataSet"
   ]
  },
  {
   "cell_type": "code",
   "execution_count": 2,
   "metadata": {
    "execution": {
     "iopub.execute_input": "2020-09-01T17:26:31.996840Z",
     "iopub.status.busy": "2020-09-01T17:26:31.995886Z",
     "iopub.status.idle": "2020-09-01T17:26:32.033318Z",
     "shell.execute_reply": "2020-09-01T17:26:32.033904Z"
    },
    "papermill": {
     "duration": 0.064255,
     "end_time": "2020-09-01T17:26:32.034058",
     "exception": false,
     "start_time": "2020-09-01T17:26:31.969803",
     "status": "completed"
    },
    "tags": []
   },
   "outputs": [
    {
     "data": {
      "text/html": [
       "<div>\n",
       "<style scoped>\n",
       "    .dataframe tbody tr th:only-of-type {\n",
       "        vertical-align: middle;\n",
       "    }\n",
       "\n",
       "    .dataframe tbody tr th {\n",
       "        vertical-align: top;\n",
       "    }\n",
       "\n",
       "    .dataframe thead th {\n",
       "        text-align: right;\n",
       "    }\n",
       "</style>\n",
       "<table border=\"1\" class=\"dataframe\">\n",
       "  <thead>\n",
       "    <tr style=\"text-align: right;\">\n",
       "      <th></th>\n",
       "      <th>age</th>\n",
       "      <th>sex</th>\n",
       "      <th>cp</th>\n",
       "      <th>trestbps</th>\n",
       "      <th>chol</th>\n",
       "      <th>fbs</th>\n",
       "      <th>restecg</th>\n",
       "      <th>thalach</th>\n",
       "      <th>exang</th>\n",
       "      <th>oldpeak</th>\n",
       "      <th>slope</th>\n",
       "      <th>ca</th>\n",
       "      <th>thal</th>\n",
       "      <th>target</th>\n",
       "    </tr>\n",
       "  </thead>\n",
       "  <tbody>\n",
       "    <tr>\n",
       "      <th>0</th>\n",
       "      <td>63</td>\n",
       "      <td>1</td>\n",
       "      <td>3</td>\n",
       "      <td>145</td>\n",
       "      <td>233</td>\n",
       "      <td>1</td>\n",
       "      <td>0</td>\n",
       "      <td>150</td>\n",
       "      <td>0</td>\n",
       "      <td>2.3</td>\n",
       "      <td>0</td>\n",
       "      <td>0</td>\n",
       "      <td>1</td>\n",
       "      <td>1</td>\n",
       "    </tr>\n",
       "    <tr>\n",
       "      <th>1</th>\n",
       "      <td>37</td>\n",
       "      <td>1</td>\n",
       "      <td>2</td>\n",
       "      <td>130</td>\n",
       "      <td>250</td>\n",
       "      <td>0</td>\n",
       "      <td>1</td>\n",
       "      <td>187</td>\n",
       "      <td>0</td>\n",
       "      <td>3.5</td>\n",
       "      <td>0</td>\n",
       "      <td>0</td>\n",
       "      <td>2</td>\n",
       "      <td>1</td>\n",
       "    </tr>\n",
       "    <tr>\n",
       "      <th>2</th>\n",
       "      <td>41</td>\n",
       "      <td>0</td>\n",
       "      <td>1</td>\n",
       "      <td>130</td>\n",
       "      <td>204</td>\n",
       "      <td>0</td>\n",
       "      <td>0</td>\n",
       "      <td>172</td>\n",
       "      <td>0</td>\n",
       "      <td>1.4</td>\n",
       "      <td>2</td>\n",
       "      <td>0</td>\n",
       "      <td>2</td>\n",
       "      <td>1</td>\n",
       "    </tr>\n",
       "    <tr>\n",
       "      <th>3</th>\n",
       "      <td>56</td>\n",
       "      <td>1</td>\n",
       "      <td>1</td>\n",
       "      <td>120</td>\n",
       "      <td>236</td>\n",
       "      <td>0</td>\n",
       "      <td>1</td>\n",
       "      <td>178</td>\n",
       "      <td>0</td>\n",
       "      <td>0.8</td>\n",
       "      <td>2</td>\n",
       "      <td>0</td>\n",
       "      <td>2</td>\n",
       "      <td>1</td>\n",
       "    </tr>\n",
       "    <tr>\n",
       "      <th>4</th>\n",
       "      <td>57</td>\n",
       "      <td>0</td>\n",
       "      <td>0</td>\n",
       "      <td>120</td>\n",
       "      <td>354</td>\n",
       "      <td>0</td>\n",
       "      <td>1</td>\n",
       "      <td>163</td>\n",
       "      <td>1</td>\n",
       "      <td>0.6</td>\n",
       "      <td>2</td>\n",
       "      <td>0</td>\n",
       "      <td>2</td>\n",
       "      <td>1</td>\n",
       "    </tr>\n",
       "  </tbody>\n",
       "</table>\n",
       "</div>"
      ],
      "text/plain": [
       "   age  sex  cp  trestbps  chol  fbs  restecg  thalach  exang  oldpeak  slope  \\\n",
       "0   63    1   3       145   233    1        0      150      0      2.3      0   \n",
       "1   37    1   2       130   250    0        1      187      0      3.5      0   \n",
       "2   41    0   1       130   204    0        0      172      0      1.4      2   \n",
       "3   56    1   1       120   236    0        1      178      0      0.8      2   \n",
       "4   57    0   0       120   354    0        1      163      1      0.6      2   \n",
       "\n",
       "   ca  thal  target  \n",
       "0   0     1       1  \n",
       "1   0     2       1  \n",
       "2   0     2       1  \n",
       "3   0     2       1  \n",
       "4   0     2       1  "
      ]
     },
     "execution_count": 2,
     "metadata": {},
     "output_type": "execute_result"
    }
   ],
   "source": [
    "heart_dataset = pd.read_csv('../input/heart-disease-uci/heart.csv')\n",
    "heart_dataset.head()"
   ]
  },
  {
   "cell_type": "markdown",
   "metadata": {
    "papermill": {
     "duration": 0.015212,
     "end_time": "2020-09-01T17:26:32.064871",
     "exception": false,
     "start_time": "2020-09-01T17:26:32.049659",
     "status": "completed"
    },
    "tags": []
   },
   "source": [
    "# 2.2 Target of the Dataset"
   ]
  },
  {
   "cell_type": "code",
   "execution_count": 3,
   "metadata": {
    "execution": {
     "iopub.execute_input": "2020-09-01T17:26:32.108438Z",
     "iopub.status.busy": "2020-09-01T17:26:32.107204Z",
     "iopub.status.idle": "2020-09-01T17:26:32.111809Z",
     "shell.execute_reply": "2020-09-01T17:26:32.111057Z"
    },
    "papermill": {
     "duration": 0.031682,
     "end_time": "2020-09-01T17:26:32.111935",
     "exception": false,
     "start_time": "2020-09-01T17:26:32.080253",
     "status": "completed"
    },
    "tags": []
   },
   "outputs": [
    {
     "data": {
      "text/plain": [
       "1    165\n",
       "0    138\n",
       "Name: target, dtype: int64"
      ]
     },
     "execution_count": 3,
     "metadata": {},
     "output_type": "execute_result"
    }
   ],
   "source": [
    "heart_dataset.target.value_counts()"
   ]
  },
  {
   "cell_type": "markdown",
   "metadata": {
    "papermill": {
     "duration": 0.015411,
     "end_time": "2020-09-01T17:26:32.143531",
     "exception": false,
     "start_time": "2020-09-01T17:26:32.128120",
     "status": "completed"
    },
    "tags": []
   },
   "source": [
    "# 2.2.1 Normalize the target value"
   ]
  },
  {
   "cell_type": "code",
   "execution_count": 4,
   "metadata": {
    "execution": {
     "iopub.execute_input": "2020-09-01T17:26:32.181928Z",
     "iopub.status.busy": "2020-09-01T17:26:32.181117Z",
     "iopub.status.idle": "2020-09-01T17:26:32.214095Z",
     "shell.execute_reply": "2020-09-01T17:26:32.213315Z"
    },
    "papermill": {
     "duration": 0.055211,
     "end_time": "2020-09-01T17:26:32.214241",
     "exception": false,
     "start_time": "2020-09-01T17:26:32.159030",
     "status": "completed"
    },
    "tags": []
   },
   "outputs": [
    {
     "data": {
      "text/plain": [
       "1    0.544554\n",
       "0    0.455446\n",
       "Name: target, dtype: float64"
      ]
     },
     "execution_count": 4,
     "metadata": {},
     "output_type": "execute_result"
    }
   ],
   "source": [
    "heart_dataset.target.value_counts(normalize=True)"
   ]
  },
  {
   "cell_type": "code",
   "execution_count": 5,
   "metadata": {
    "execution": {
     "iopub.execute_input": "2020-09-01T17:26:32.254349Z",
     "iopub.status.busy": "2020-09-01T17:26:32.253446Z",
     "iopub.status.idle": "2020-09-01T17:26:32.505650Z",
     "shell.execute_reply": "2020-09-01T17:26:32.504855Z"
    },
    "papermill": {
     "duration": 0.275654,
     "end_time": "2020-09-01T17:26:32.505781",
     "exception": false,
     "start_time": "2020-09-01T17:26:32.230127",
     "status": "completed"
    },
    "tags": []
   },
   "outputs": [
    {
     "data": {
      "image/png": "[encoded data removed]",
      "text/plain": [
       "<Figure size 432x288 with 1 Axes>"
      ]
     },
     "metadata": {
      "needs_background": "light"
     },
     "output_type": "display_data"
    }
   ],
   "source": [
    "heart_dataset.target.value_counts().plot(kind = 'bar', color = [\"blue\", 'red'])\n",
    "plt.tight_layout()\n",
    "plt.show()"
   ]
  },
  {
   "cell_type": "markdown",
   "metadata": {
    "papermill": {
     "duration": 0.016197,
     "end_time": "2020-09-01T17:26:32.538622",
     "exception": false,
     "start_time": "2020-09-01T17:26:32.522425",
     "status": "completed"
    },
    "tags": []
   },
   "source": [
    "# 2.3 Compare Target columns with Sex column"
   ]
  },
  {
   "cell_type": "markdown",
   "metadata": {
    "papermill": {
     "duration": 0.01642,
     "end_time": "2020-09-01T17:26:32.571573",
     "exception": false,
     "start_time": "2020-09-01T17:26:32.555153",
     "status": "completed"
    },
    "tags": []
   },
   "source": [
    "## <b style=\"color:blue\">what does pd.crosstab() do?</b>\n",
    "### crosstab. Compute a simple cross tabulation of two (or more) factors. By default computes a frequency table of the factors unless an array of values and an aggregation function are passed."
   ]
  },
  {
   "cell_type": "code",
   "execution_count": 6,
   "metadata": {
    "execution": {
     "iopub.execute_input": "2020-09-01T17:26:32.712344Z",
     "iopub.status.busy": "2020-09-01T17:26:32.711475Z",
     "iopub.status.idle": "2020-09-01T17:26:32.725557Z",
     "shell.execute_reply": "2020-09-01T17:26:32.724797Z"
    },
    "papermill": {
     "duration": 0.137838,
     "end_time": "2020-09-01T17:26:32.725683",
     "exception": false,
     "start_time": "2020-09-01T17:26:32.587845",
     "status": "completed"
    },
    "tags": []
   },
   "outputs": [
    {
     "data": {
      "text/html": [
       "<div>\n",
       "<style scoped>\n",
       "    .dataframe tbody tr th:only-of-type {\n",
       "        vertical-align: middle;\n",
       "    }\n",
       "\n",
       "    .dataframe tbody tr th {\n",
       "        vertical-align: top;\n",
       "    }\n",
       "\n",
       "    .dataframe thead th {\n",
       "        text-align: right;\n",
       "    }\n",
       "</style>\n",
       "<table border=\"1\" class=\"dataframe\">\n",
       "  <thead>\n",
       "    <tr style=\"text-align: right;\">\n",
       "      <th>sex</th>\n",
       "      <th>0</th>\n",
       "      <th>1</th>\n",
       "    </tr>\n",
       "    <tr>\n",
       "      <th>target</th>\n",
       "      <th></th>\n",
       "      <th></th>\n",
       "    </tr>\n",
       "  </thead>\n",
       "  <tbody>\n",
       "    <tr>\n",
       "      <th>0</th>\n",
       "      <td>24</td>\n",
       "      <td>114</td>\n",
       "    </tr>\n",
       "    <tr>\n",
       "      <th>1</th>\n",
       "      <td>72</td>\n",
       "      <td>93</td>\n",
       "    </tr>\n",
       "  </tbody>\n",
       "</table>\n",
       "</div>"
      ],
      "text/plain": [
       "sex      0    1\n",
       "target         \n",
       "0       24  114\n",
       "1       72   93"
      ]
     },
     "execution_count": 6,
     "metadata": {},
     "output_type": "execute_result"
    }
   ],
   "source": [
    "pd.crosstab(heart_dataset.target, heart_dataset.sex)"
   ]
  },
  {
   "cell_type": "code",
   "execution_count": 7,
   "metadata": {
    "execution": {
     "iopub.execute_input": "2020-09-01T17:26:32.788961Z",
     "iopub.status.busy": "2020-09-01T17:26:32.787677Z",
     "iopub.status.idle": "2020-09-01T17:26:32.989954Z",
     "shell.execute_reply": "2020-09-01T17:26:32.989311Z"
    },
    "papermill": {
     "duration": 0.248106,
     "end_time": "2020-09-01T17:26:32.990089",
     "exception": false,
     "start_time": "2020-09-01T17:26:32.741983",
     "status": "completed"
    },
    "tags": []
   },
   "outputs": [
    {
     "data": {
      "image/png": "[encoded data removed]",
      "text/plain": [
       "<Figure size 720x576 with 1 Axes>"
      ]
     },
     "metadata": {
      "needs_background": "light"
     },
     "output_type": "display_data"
    }
   ],
   "source": [
    "pd.crosstab(heart_dataset.target, heart_dataset.sex).plot(kind ='bar',\n",
    "                                                         figsize = (10, 8),\n",
    "                                                         color = [\"red\",\"blue\"])\n",
    "plt.title(\"Hear Disease Frequency for Sex attribute\")\n",
    "plt.xlabel(\"0 = No Disease \\t 1 = Disease\")\n",
    "plt.ylabel(\"Target Amount\")\n",
    "plt.legend([\"Male\", \"Female\"])\n",
    "plt.tight_layout()\n",
    "plt.show()"
   ]
  },
  {
   "cell_type": "code",
   "execution_count": 8,
   "metadata": {
    "execution": {
     "iopub.execute_input": "2020-09-01T17:26:33.042758Z",
     "iopub.status.busy": "2020-09-01T17:26:33.041627Z",
     "iopub.status.idle": "2020-09-01T17:26:33.252305Z",
     "shell.execute_reply": "2020-09-01T17:26:33.251664Z"
    },
    "papermill": {
     "duration": 0.245206,
     "end_time": "2020-09-01T17:26:33.252440",
     "exception": false,
     "start_time": "2020-09-01T17:26:33.007234",
     "status": "completed"
    },
    "tags": []
   },
   "outputs": [
    {
     "data": {
      "image/png": "[encoded data removed]",
      "text/plain": [
       "<Figure size 720x432 with 1 Axes>"
      ]
     },
     "metadata": {
      "needs_background": "light"
     },
     "output_type": "display_data"
    }
   ],
   "source": [
    "# Create another figure\n",
    "plt.figure(figsize=(10,6))\n",
    "\n",
    "# Start with positve examples\n",
    "plt.scatter(heart_dataset.age[heart_dataset.target==1], \n",
    "            heart_dataset.thalach[heart_dataset.target==1], \n",
    "            c=\"salmon\") # define it as a scatter figure\n",
    "\n",
    "# Now for negative examples, we want them on the same plot, so we call plt again\n",
    "plt.scatter(heart_dataset.age[heart_dataset.target==0], \n",
    "            heart_dataset.thalach[heart_dataset.target==0], \n",
    "            c=\"lightblue\") # axis always come as (x, y)\n",
    "\n",
    "# Add some helpful info\n",
    "plt.title(\"Heart Disease in function of Age and Max Heart Rate\")\n",
    "plt.xlabel(\"Age\")\n",
    "plt.legend([\"Disease\", \"No Disease\"])\n",
    "plt.ylabel(\"Max Heart Rate\");"
   ]
  },
  {
   "cell_type": "code",
   "execution_count": 9,
   "metadata": {
    "execution": {
     "iopub.execute_input": "2020-09-01T17:26:33.317349Z",
     "iopub.status.busy": "2020-09-01T17:26:33.311277Z",
     "iopub.status.idle": "2020-09-01T17:26:33.500536Z",
     "shell.execute_reply": "2020-09-01T17:26:33.499860Z"
    },
    "papermill": {
     "duration": 0.230792,
     "end_time": "2020-09-01T17:26:33.500660",
     "exception": false,
     "start_time": "2020-09-01T17:26:33.269868",
     "status": "completed"
    },
    "tags": []
   },
   "outputs": [
    {
     "data": {
      "image/png": "[encoded data removed]",
      "text/plain": [
       "<Figure size 720x432 with 1 Axes>"
      ]
     },
     "metadata": {
      "needs_background": "light"
     },
     "output_type": "display_data"
    }
   ],
   "source": [
    "# Create a new crosstab and base plot\n",
    "pd.crosstab(heart_dataset.cp, heart_dataset.target).plot(kind=\"bar\", \n",
    "                                   figsize=(10,6), \n",
    "                                   color=[\"blue\", \"salmon\"])\n",
    "\n",
    "# Add attributes to the plot to make it more readable\n",
    "plt.title(\"Heart Disease Frequency Per Chest Pain Type\")\n",
    "plt.xlabel(\"Chest Pain Type\")\n",
    "plt.ylabel(\"Frequency\")\n",
    "plt.legend([\"No Disease\", \"Disease\"])\n",
    "plt.xticks(rotation = 0);"
   ]
  },
  {
   "cell_type": "markdown",
   "metadata": {
    "papermill": {
     "duration": 0.016952,
     "end_time": "2020-09-01T17:26:33.535584",
     "exception": false,
     "start_time": "2020-09-01T17:26:33.518632",
     "status": "completed"
    },
    "tags": []
   },
   "source": [
    "# 3. Correlation\n",
    "\n",
    "## <b style=\"color:blue\">3.1 Definition</b>\n",
    "Correlation is used to test relationships between quantitative variables or categorical variables. In other words, it’s a measure of how things are related. The study of how variables are correlated is called correlation analysis.\n",
    "\n",
    "## <b style=\"color:blue\">3.2 Some examples of data that have a high correlation:</b>\n",
    "\n",
    "   * Your caloric intake and your weight.\n",
    "   * Your eye color and your relatives’ eye colors.\n",
    "   * The amount of time your study and your GPA.\n",
    "   \n",
    "## <b style=\"color:blue\">3.3 Some examples of data that have a low correlation (or none at all):</b>\n",
    "\n",
    "   * Your sexual preference and the type of cereal you eat.\n",
    "   * A dog’s name and the type of dog biscuit they prefer.\n",
    "   * The cost of a car wash and how long it takes to buy a soda inside the station.\n",
    "   \n",
    "## <b style=\"color:blue\">Types</b>\n",
    "The most common correlation coefficient is the Pearson Correlation Coefficient. It’s used to test for linear relationships between data. In AP stats or elementary stats, the Pearson is likely the only one you’ll be working with. However, you may come across others, depending upon the type of data you are working with. For example, Goodman and Kruskal’s lambda coefficient is a fairly common coefficient. It can be symmetric, where you do not have to specify which variable is dependent, and asymmetric where the dependent variable is specified."
   ]
  },
  {
   "cell_type": "code",
   "execution_count": 10,
   "metadata": {
    "execution": {
     "iopub.execute_input": "2020-09-01T17:26:33.580961Z",
     "iopub.status.busy": "2020-09-01T17:26:33.580163Z",
     "iopub.status.idle": "2020-09-01T17:26:34.549678Z",
     "shell.execute_reply": "2020-09-01T17:26:34.550293Z"
    },
    "papermill": {
     "duration": 0.997423,
     "end_time": "2020-09-01T17:26:34.550468",
     "exception": false,
     "start_time": "2020-09-01T17:26:33.553045",
     "status": "completed"
    },
    "tags": []
   },
   "outputs": [
    {
     "data": {
      "image/png": "[encoded data removed]",
      "text/plain": [
       "<Figure size 1080x720 with 2 Axes>"
      ]
     },
     "metadata": {
      "needs_background": "light"
     },
     "output_type": "display_data"
    }
   ],
   "source": [
    "corr_matrix = heart_dataset.corr()\n",
    "plt.figure(figsize=(15, 10))\n",
    "sns.heatmap(corr_matrix, \n",
    "            annot=True, \n",
    "            linewidths=0.5, \n",
    "            fmt= \".2f\", \n",
    "            cmap=\"YlGnBu\");"
   ]
  },
  {
   "cell_type": "markdown",
   "metadata": {
    "papermill": {
     "duration": 0.018917,
     "end_time": "2020-09-01T17:26:34.589016",
     "exception": false,
     "start_time": "2020-09-01T17:26:34.570099",
     "status": "completed"
    },
    "tags": []
   },
   "source": [
    "# 4. Create Heart Disease Diagnosis Model"
   ]
  },
  {
   "cell_type": "markdown",
   "metadata": {
    "papermill": {
     "duration": 0.018785,
     "end_time": "2020-09-01T17:26:34.627732",
     "exception": false,
     "start_time": "2020-09-01T17:26:34.608947",
     "status": "completed"
    },
    "tags": []
   },
   "source": [
    "## 4.1 Independent Variables "
   ]
  },
  {
   "cell_type": "code",
   "execution_count": 11,
   "metadata": {
    "execution": {
     "iopub.execute_input": "2020-09-01T17:26:34.673058Z",
     "iopub.status.busy": "2020-09-01T17:26:34.672287Z",
     "iopub.status.idle": "2020-09-01T17:26:34.675910Z",
     "shell.execute_reply": "2020-09-01T17:26:34.675307Z"
    },
    "papermill": {
     "duration": 0.029216,
     "end_time": "2020-09-01T17:26:34.676042",
     "exception": false,
     "start_time": "2020-09-01T17:26:34.646826",
     "status": "completed"
    },
    "tags": []
   },
   "outputs": [],
   "source": [
    "X = heart_dataset.drop('target', axis = 1)\n"
   ]
  },
  {
   "cell_type": "markdown",
   "metadata": {
    "papermill": {
     "duration": 0.018569,
     "end_time": "2020-09-01T17:26:34.713567",
     "exception": false,
     "start_time": "2020-09-01T17:26:34.694998",
     "status": "completed"
    },
    "tags": []
   },
   "source": [
    "## 4.2 Dependent Varialbes"
   ]
  },
  {
   "cell_type": "code",
   "execution_count": 12,
   "metadata": {
    "execution": {
     "iopub.execute_input": "2020-09-01T17:26:34.757439Z",
     "iopub.status.busy": "2020-09-01T17:26:34.756439Z",
     "iopub.status.idle": "2020-09-01T17:26:34.759641Z",
     "shell.execute_reply": "2020-09-01T17:26:34.759028Z"
    },
    "papermill": {
     "duration": 0.027357,
     "end_time": "2020-09-01T17:26:34.759786",
     "exception": false,
     "start_time": "2020-09-01T17:26:34.732429",
     "status": "completed"
    },
    "tags": []
   },
   "outputs": [],
   "source": [
    "y = heart_dataset.target.values"
   ]
  },
  {
   "cell_type": "markdown",
   "metadata": {
    "papermill": {
     "duration": 0.01871,
     "end_time": "2020-09-01T17:26:34.797777",
     "exception": false,
     "start_time": "2020-09-01T17:26:34.779067",
     "status": "completed"
    },
    "tags": []
   },
   "source": [
    "## 4.3 Train - Test Split "
   ]
  },
  {
   "cell_type": "code",
   "execution_count": 13,
   "metadata": {
    "execution": {
     "iopub.execute_input": "2020-09-01T17:26:34.844628Z",
     "iopub.status.busy": "2020-09-01T17:26:34.843585Z",
     "iopub.status.idle": "2020-09-01T17:26:34.846053Z",
     "shell.execute_reply": "2020-09-01T17:26:34.846669Z"
    },
    "papermill": {
     "duration": 0.029861,
     "end_time": "2020-09-01T17:26:34.846838",
     "exception": false,
     "start_time": "2020-09-01T17:26:34.816977",
     "status": "completed"
    },
    "tags": []
   },
   "outputs": [],
   "source": [
    "# Random seed for reproducibility\n",
    "np.random.seed(42)\n",
    "\n",
    "# Split into train & test set\n",
    "X_train, X_test, y_train, y_test = train_test_split(X, # independent variables \n",
    "                                                    y, # dependent variable\n",
    "                                                    test_size = 0.2) # percentage of data to use for test set"
   ]
  },
  {
   "cell_type": "markdown",
   "metadata": {
    "papermill": {
     "duration": 0.019078,
     "end_time": "2020-09-01T17:26:34.885211",
     "exception": false,
     "start_time": "2020-09-01T17:26:34.866133",
     "status": "completed"
    },
    "tags": []
   },
   "source": [
    "## 4.4 Model Selection"
   ]
  },
  {
   "cell_type": "code",
   "execution_count": 14,
   "metadata": {
    "execution": {
     "iopub.execute_input": "2020-09-01T17:26:34.934755Z",
     "iopub.status.busy": "2020-09-01T17:26:34.933658Z",
     "iopub.status.idle": "2020-09-01T17:26:34.936518Z",
     "shell.execute_reply": "2020-09-01T17:26:34.937051Z"
    },
    "papermill": {
     "duration": 0.032733,
     "end_time": "2020-09-01T17:26:34.937241",
     "exception": false,
     "start_time": "2020-09-01T17:26:34.904508",
     "status": "completed"
    },
    "tags": []
   },
   "outputs": [],
   "source": [
    "# Put models in a dictionary\n",
    "models = {\"KNN\": KNeighborsClassifier(),\n",
    "          \"Logistic Regression\": LogisticRegression(solver='liblinear'), \n",
    "          \"Random Forest\": RandomForestClassifier()}\n",
    "\n",
    "# Create function to fit and score models\n",
    "def fit_and_score(models, X_train, X_test, y_train, y_test):\n",
    "    \"\"\"\n",
    "    Fits and evaluates given machine learning models.\n",
    "    models : a dict of different Scikit-Learn machine learning models\n",
    "    X_train : training data\n",
    "    X_test : testing data\n",
    "    y_train : labels assosciated with training data\n",
    "    y_test : labels assosciated with test data\n",
    "    \"\"\"\n",
    "    # Random seed for reproducible results\n",
    "    np.random.seed(42)\n",
    "    # Make a list to keep model scores\n",
    "    model_scores = {}\n",
    "    # Loop through models\n",
    "    for name, model in models.items():\n",
    "        # Fit the model to the data\n",
    "        model.fit(X_train, y_train)\n",
    "        # Evaluate the model and append its score to model_scores\n",
    "        model_scores[name] = model.score(X_test, y_test)\n",
    "    return model_scores"
   ]
  },
  {
   "cell_type": "markdown",
   "metadata": {
    "papermill": {
     "duration": 0.019068,
     "end_time": "2020-09-01T17:26:34.975597",
     "exception": false,
     "start_time": "2020-09-01T17:26:34.956529",
     "status": "completed"
    },
    "tags": []
   },
   "source": [
    "## 4.5 Find out the model score"
   ]
  },
  {
   "cell_type": "code",
   "execution_count": 15,
   "metadata": {
    "execution": {
     "iopub.execute_input": "2020-09-01T17:26:35.023141Z",
     "iopub.status.busy": "2020-09-01T17:26:35.022332Z",
     "iopub.status.idle": "2020-09-01T17:26:35.329328Z",
     "shell.execute_reply": "2020-09-01T17:26:35.328582Z"
    },
    "papermill": {
     "duration": 0.334504,
     "end_time": "2020-09-01T17:26:35.329463",
     "exception": false,
     "start_time": "2020-09-01T17:26:34.994959",
     "status": "completed"
    },
    "tags": []
   },
   "outputs": [
    {
     "data": {
      "text/plain": [
       "{'KNN': 0.6885245901639344,\n",
       " 'Logistic Regression': 0.8852459016393442,\n",
       " 'Random Forest': 0.8360655737704918}"
      ]
     },
     "execution_count": 15,
     "metadata": {},
     "output_type": "execute_result"
    }
   ],
   "source": [
    "model_scores = fit_and_score(models=models,\n",
    "                             X_train=X_train,\n",
    "                             X_test=X_test,\n",
    "                             y_train=y_train,\n",
    "                             y_test=y_test)\n",
    "model_scores"
   ]
  },
  {
   "cell_type": "markdown",
   "metadata": {
    "papermill": {
     "duration": 0.019602,
     "end_time": "2020-09-01T17:26:35.369100",
     "exception": false,
     "start_time": "2020-09-01T17:26:35.349498",
     "status": "completed"
    },
    "tags": []
   },
   "source": [
    "# 5. Comparison The All Models Score"
   ]
  },
  {
   "cell_type": "code",
   "execution_count": 16,
   "metadata": {
    "execution": {
     "iopub.execute_input": "2020-09-01T17:26:35.426344Z",
     "iopub.status.busy": "2020-09-01T17:26:35.425212Z",
     "iopub.status.idle": "2020-09-01T17:26:35.568221Z",
     "shell.execute_reply": "2020-09-01T17:26:35.567381Z"
    },
    "papermill": {
     "duration": 0.179181,
     "end_time": "2020-09-01T17:26:35.568356",
     "exception": false,
     "start_time": "2020-09-01T17:26:35.389175",
     "status": "completed"
    },
    "tags": []
   },
   "outputs": [
    {
     "data": {
      "image/png": "[encoded data removed]",
      "text/plain": [
       "<Figure size 432x288 with 1 Axes>"
      ]
     },
     "metadata": {
      "needs_background": "light"
     },
     "output_type": "display_data"
    }
   ],
   "source": [
    "model_compare = pd.DataFrame(model_scores, index=['accuracy'])\n",
    "model_compare.T.plot.bar();"
   ]
  },
  {
   "cell_type": "code",
   "execution_count": 17,
   "metadata": {
    "execution": {
     "iopub.execute_input": "2020-09-01T17:26:35.622925Z",
     "iopub.status.busy": "2020-09-01T17:26:35.619454Z",
     "iopub.status.idle": "2020-09-01T17:26:36.082727Z",
     "shell.execute_reply": "2020-09-01T17:26:36.083330Z"
    },
    "papermill": {
     "duration": 0.495339,
     "end_time": "2020-09-01T17:26:36.083507",
     "exception": false,
     "start_time": "2020-09-01T17:26:35.588168",
     "status": "completed"
    },
    "tags": []
   },
   "outputs": [],
   "source": [
    "# Create a list of train scores\n",
    "train_scores = []\n",
    "\n",
    "# Create a list of test scores\n",
    "test_scores = []\n",
    "\n",
    "# Create a list of different values for n_neighbors\n",
    "neighbors = range(1, 21) # 1 to 20\n",
    "\n",
    "# Setup algorithm\n",
    "knn = KNeighborsClassifier()\n",
    "\n",
    "# Loop through different neighbors values\n",
    "for i in neighbors:\n",
    "    knn.set_params(n_neighbors = i) # set neighbors value\n",
    "    \n",
    "    # Fit the algorithm\n",
    "    knn.fit(X_train, y_train)\n",
    "    \n",
    "    # Update the training scores\n",
    "    train_scores.append(knn.score(X_train, y_train))\n",
    "    \n",
    "    # Update the test scores\n",
    "    test_scores.append(knn.score(X_test, y_test))"
   ]
  },
  {
   "cell_type": "code",
   "execution_count": 18,
   "metadata": {
    "execution": {
     "iopub.execute_input": "2020-09-01T17:26:36.137919Z",
     "iopub.status.busy": "2020-09-01T17:26:36.136643Z",
     "iopub.status.idle": "2020-09-01T17:26:36.363688Z",
     "shell.execute_reply": "2020-09-01T17:26:36.362994Z"
    },
    "papermill": {
     "duration": 0.260354,
     "end_time": "2020-09-01T17:26:36.363860",
     "exception": false,
     "start_time": "2020-09-01T17:26:36.103506",
     "status": "completed"
    },
    "tags": []
   },
   "outputs": [
    {
     "name": "stdout",
     "output_type": "stream",
     "text": [
      "Maximum KNN score on the test data: 75.41%\n"
     ]
    },
    {
     "data": {
      "image/png": "[encoded data removed]",
      "text/plain": [
       "<Figure size 432x288 with 1 Axes>"
      ]
     },
     "metadata": {
      "needs_background": "light"
     },
     "output_type": "display_data"
    }
   ],
   "source": [
    "plt.plot(neighbors, train_scores, label=\"Train score\")\n",
    "plt.plot(neighbors, test_scores, label=\"Test score\")\n",
    "plt.xticks(np.arange(1, 21, 1))\n",
    "plt.xlabel(\"Number of neighbors\")\n",
    "plt.ylabel(\"Model score\")\n",
    "plt.legend()\n",
    "\n",
    "print(f\"Maximum KNN score on the test data: {max(test_scores)*100:.2f}%\")"
   ]
  },
  {
   "cell_type": "markdown",
   "metadata": {
    "papermill": {
     "duration": 0.020525,
     "end_time": "2020-09-01T17:26:36.405090",
     "exception": false,
     "start_time": "2020-09-01T17:26:36.384565",
     "status": "completed"
    },
    "tags": []
   },
   "source": [
    "## 6. Apply RandomizeSearchCV"
   ]
  },
  {
   "cell_type": "code",
   "execution_count": 19,
   "metadata": {
    "execution": {
     "iopub.execute_input": "2020-09-01T17:26:36.507255Z",
     "iopub.status.busy": "2020-09-01T17:26:36.506439Z",
     "iopub.status.idle": "2020-09-01T17:26:36.510021Z",
     "shell.execute_reply": "2020-09-01T17:26:36.509348Z"
    },
    "papermill": {
     "duration": 0.032209,
     "end_time": "2020-09-01T17:26:36.510147",
     "exception": false,
     "start_time": "2020-09-01T17:26:36.477938",
     "status": "completed"
    },
    "tags": []
   },
   "outputs": [],
   "source": [
    "# Different LogisticRegression hyperparameters\n",
    "log_reg_grid = {\"C\": np.logspace(-4, 4, 20),\n",
    "                \"solver\": [\"liblinear\"]}\n",
    "\n",
    "# Different RandomForestClassifier hyperparameters\n",
    "rf_grid = {\"n_estimators\": np.arange(10, 1000, 50),\n",
    "           \"max_depth\": [None, 3, 5, 10],\n",
    "           \"min_samples_split\": np.arange(2, 20, 2),\n",
    "           \"min_samples_leaf\": np.arange(1, 20, 2)}"
   ]
  },
  {
   "cell_type": "code",
   "execution_count": 20,
   "metadata": {
    "execution": {
     "iopub.execute_input": "2020-09-01T17:26:36.561355Z",
     "iopub.status.busy": "2020-09-01T17:26:36.560141Z",
     "iopub.status.idle": "2020-09-01T17:26:37.343261Z",
     "shell.execute_reply": "2020-09-01T17:26:37.344081Z"
    },
    "papermill": {
     "duration": 0.813801,
     "end_time": "2020-09-01T17:26:37.344312",
     "exception": false,
     "start_time": "2020-09-01T17:26:36.530511",
     "status": "completed"
    },
    "tags": []
   },
   "outputs": [
    {
     "name": "stdout",
     "output_type": "stream",
     "text": [
      "Fitting 5 folds for each of 20 candidates, totalling 100 fits\n"
     ]
    },
    {
     "name": "stderr",
     "output_type": "stream",
     "text": [
      "[Parallel(n_jobs=1)]: Using backend SequentialBackend with 1 concurrent workers.\n",
      "[Parallel(n_jobs=1)]: Done 100 out of 100 | elapsed:    0.8s finished\n"
     ]
    }
   ],
   "source": [
    "# Setup random seed\n",
    "np.random.seed(42)\n",
    "\n",
    "# Setup random hyperparameter search for LogisticRegression\n",
    "RandomSearch_model = RandomizedSearchCV(LogisticRegression(solver='liblinear'),\n",
    "                                param_distributions=log_reg_grid,\n",
    "                                cv=5,\n",
    "                                n_iter=20,\n",
    "                                verbose=True)\n",
    "\n",
    "# Fit random hyperparameter search model\n",
    "RandomSearch_model.fit(X_train, y_train);"
   ]
  },
  {
   "cell_type": "code",
   "execution_count": 21,
   "metadata": {
    "execution": {
     "iopub.execute_input": "2020-09-01T17:26:37.392003Z",
     "iopub.status.busy": "2020-09-01T17:26:37.391217Z",
     "iopub.status.idle": "2020-09-01T17:26:37.396532Z",
     "shell.execute_reply": "2020-09-01T17:26:37.395738Z"
    },
    "papermill": {
     "duration": 0.031113,
     "end_time": "2020-09-01T17:26:37.396664",
     "exception": false,
     "start_time": "2020-09-01T17:26:37.365551",
     "status": "completed"
    },
    "tags": []
   },
   "outputs": [
    {
     "data": {
      "text/plain": [
       "{'solver': 'liblinear', 'C': 0.23357214690901212}"
      ]
     },
     "execution_count": 21,
     "metadata": {},
     "output_type": "execute_result"
    }
   ],
   "source": [
    "RandomSearch_model.best_params_"
   ]
  },
  {
   "cell_type": "code",
   "execution_count": 22,
   "metadata": {
    "execution": {
     "iopub.execute_input": "2020-09-01T17:26:37.449093Z",
     "iopub.status.busy": "2020-09-01T17:26:37.447962Z",
     "iopub.status.idle": "2020-09-01T17:26:37.453103Z",
     "shell.execute_reply": "2020-09-01T17:26:37.452534Z"
    },
    "papermill": {
     "duration": 0.034854,
     "end_time": "2020-09-01T17:26:37.453253",
     "exception": false,
     "start_time": "2020-09-01T17:26:37.418399",
     "status": "completed"
    },
    "tags": []
   },
   "outputs": [
    {
     "data": {
      "text/plain": [
       "0.8852459016393442"
      ]
     },
     "execution_count": 22,
     "metadata": {},
     "output_type": "execute_result"
    }
   ],
   "source": [
    "RandomSearch_model.score(X_test, y_test)"
   ]
  },
  {
   "cell_type": "code",
   "execution_count": 23,
   "metadata": {
    "execution": {
     "iopub.execute_input": "2020-09-01T17:26:37.505953Z",
     "iopub.status.busy": "2020-09-01T17:26:37.505087Z",
     "iopub.status.idle": "2020-09-01T17:28:30.568870Z",
     "shell.execute_reply": "2020-09-01T17:28:30.567967Z"
    },
    "papermill": {
     "duration": 113.094689,
     "end_time": "2020-09-01T17:28:30.569074",
     "exception": false,
     "start_time": "2020-09-01T17:26:37.474385",
     "status": "completed"
    },
    "tags": []
   },
   "outputs": [
    {
     "name": "stderr",
     "output_type": "stream",
     "text": [
      "[Parallel(n_jobs=1)]: Using backend SequentialBackend with 1 concurrent workers.\n"
     ]
    },
    {
     "name": "stdout",
     "output_type": "stream",
     "text": [
      "Fitting 5 folds for each of 20 candidates, totalling 100 fits\n"
     ]
    },
    {
     "name": "stderr",
     "output_type": "stream",
     "text": [
      "[Parallel(n_jobs=1)]: Done 100 out of 100 | elapsed:  1.9min finished\n"
     ]
    }
   ],
   "source": [
    "# Setup random seed\n",
    "np.random.seed(42)\n",
    "\n",
    "# Setup random hyperparameter search for RandomForestClassifier\n",
    "RFC = RandomizedSearchCV(RandomForestClassifier(),\n",
    "                           param_distributions=rf_grid,\n",
    "                           cv=5,\n",
    "                           n_iter=20,\n",
    "                           verbose=True)\n",
    "\n",
    "# Fit random hyperparameter search model\n",
    "RFC.fit(X_train, y_train);"
   ]
  },
  {
   "cell_type": "code",
   "execution_count": 24,
   "metadata": {
    "execution": {
     "iopub.execute_input": "2020-09-01T17:28:30.633761Z",
     "iopub.status.busy": "2020-09-01T17:28:30.623394Z",
     "iopub.status.idle": "2020-09-01T17:28:30.656255Z",
     "shell.execute_reply": "2020-09-01T17:28:30.655564Z"
    },
    "papermill": {
     "duration": 0.064814,
     "end_time": "2020-09-01T17:28:30.656380",
     "exception": false,
     "start_time": "2020-09-01T17:28:30.591566",
     "status": "completed"
    },
    "tags": []
   },
   "outputs": [
    {
     "data": {
      "text/plain": [
       "0.8688524590163934"
      ]
     },
     "execution_count": 24,
     "metadata": {},
     "output_type": "execute_result"
    }
   ],
   "source": [
    "RFC.score(X_test, y_test)"
   ]
  },
  {
   "cell_type": "code",
   "execution_count": 25,
   "metadata": {
    "execution": {
     "iopub.execute_input": "2020-09-01T17:28:30.714271Z",
     "iopub.status.busy": "2020-09-01T17:28:30.709360Z",
     "iopub.status.idle": "2020-09-01T17:28:31.537975Z",
     "shell.execute_reply": "2020-09-01T17:28:31.537352Z"
    },
    "papermill": {
     "duration": 0.859708,
     "end_time": "2020-09-01T17:28:31.538108",
     "exception": false,
     "start_time": "2020-09-01T17:28:30.678400",
     "status": "completed"
    },
    "tags": []
   },
   "outputs": [
    {
     "name": "stdout",
     "output_type": "stream",
     "text": [
      "Fitting 5 folds for each of 20 candidates, totalling 100 fits\n"
     ]
    },
    {
     "name": "stderr",
     "output_type": "stream",
     "text": [
      "[Parallel(n_jobs=1)]: Using backend SequentialBackend with 1 concurrent workers.\n",
      "[Parallel(n_jobs=1)]: Done 100 out of 100 | elapsed:    0.8s finished\n"
     ]
    }
   ],
   "source": [
    "# Different LogisticRegression hyperparameters\n",
    "log_reg_grid = {\"C\": np.logspace(-4, 4, 20),\n",
    "                \"solver\": [\"liblinear\"]}\n",
    "\n",
    "# Setup grid hyperparameter search for LogisticRegression\n",
    "gs_log_reg = GridSearchCV(LogisticRegression(solver='liblinear'),\n",
    "                          param_grid=log_reg_grid,\n",
    "                          cv=5,\n",
    "                          verbose=True)\n",
    "\n",
    "# Fit grid hyperparameter search model\n",
    "gs_log_reg.fit(X_train, y_train);"
   ]
  },
  {
   "cell_type": "markdown",
   "metadata": {
    "papermill": {
     "duration": 0.021976,
     "end_time": "2020-09-01T17:28:31.582879",
     "exception": false,
     "start_time": "2020-09-01T17:28:31.560903",
     "status": "completed"
    },
    "tags": []
   },
   "source": [
    "# 7. Evaluate accuracy"
   ]
  },
  {
   "cell_type": "code",
   "execution_count": 26,
   "metadata": {
    "execution": {
     "iopub.execute_input": "2020-09-01T17:28:31.636459Z",
     "iopub.status.busy": "2020-09-01T17:28:31.635373Z",
     "iopub.status.idle": "2020-09-01T17:28:31.638864Z",
     "shell.execute_reply": "2020-09-01T17:28:31.639465Z"
    },
    "papermill": {
     "duration": 0.03453,
     "end_time": "2020-09-01T17:28:31.639640",
     "exception": false,
     "start_time": "2020-09-01T17:28:31.605110",
     "status": "completed"
    },
    "tags": []
   },
   "outputs": [],
   "source": [
    "# Make preidctions on test data\n",
    "y_preds = gs_log_reg.predict(X_test)"
   ]
  },
  {
   "cell_type": "markdown",
   "metadata": {
    "papermill": {
     "duration": 0.022263,
     "end_time": "2020-09-01T17:28:31.684651",
     "exception": false,
     "start_time": "2020-09-01T17:28:31.662388",
     "status": "completed"
    },
    "tags": []
   },
   "source": [
    "## 7.1 ROC curve"
   ]
  },
  {
   "cell_type": "code",
   "execution_count": 27,
   "metadata": {
    "execution": {
     "iopub.execute_input": "2020-09-01T17:28:31.740233Z",
     "iopub.status.busy": "2020-09-01T17:28:31.739415Z",
     "iopub.status.idle": "2020-09-01T17:28:31.928336Z",
     "shell.execute_reply": "2020-09-01T17:28:31.927698Z"
    },
    "papermill": {
     "duration": 0.221444,
     "end_time": "2020-09-01T17:28:31.928481",
     "exception": false,
     "start_time": "2020-09-01T17:28:31.707037",
     "status": "completed"
    },
    "tags": []
   },
   "outputs": [
    {
     "data": {
      "image/png": "[encoded data removed]",
      "text/plain": [
       "<Figure size 432x288 with 1 Axes>"
      ]
     },
     "metadata": {
      "needs_background": "light"
     },
     "output_type": "display_data"
    }
   ],
   "source": [
    "# Import ROC curve function from metrics module\n",
    "from sklearn.metrics import plot_roc_curve\n",
    "\n",
    "# Plot ROC curve and calculate AUC metric\n",
    "plot_roc_curve(gs_log_reg, X_test, y_test);"
   ]
  },
  {
   "cell_type": "markdown",
   "metadata": {
    "papermill": {
     "duration": 0.022178,
     "end_time": "2020-09-01T17:28:31.973319",
     "exception": false,
     "start_time": "2020-09-01T17:28:31.951141",
     "status": "completed"
    },
    "tags": []
   },
   "source": [
    "## 7.2 Confusion Metrics"
   ]
  },
  {
   "cell_type": "code",
   "execution_count": 28,
   "metadata": {
    "execution": {
     "iopub.execute_input": "2020-09-01T17:28:32.029054Z",
     "iopub.status.busy": "2020-09-01T17:28:32.027547Z",
     "iopub.status.idle": "2020-09-01T17:28:32.151174Z",
     "shell.execute_reply": "2020-09-01T17:28:32.150312Z"
    },
    "papermill": {
     "duration": 0.155405,
     "end_time": "2020-09-01T17:28:32.151328",
     "exception": false,
     "start_time": "2020-09-01T17:28:31.995923",
     "status": "completed"
    },
    "tags": []
   },
   "outputs": [
    {
     "data": {
      "image/png": "[encoded data removed]",
      "text/plain": [
       "<Figure size 216x216 with 1 Axes>"
      ]
     },
     "metadata": {},
     "output_type": "display_data"
    }
   ],
   "source": [
    "# Import Seaborn\n",
    "import seaborn as sns\n",
    "sns.set(font_scale=1.5) # Increase font size\n",
    "\n",
    "def plot_conf_mat(y_test, y_preds):\n",
    "    \"\"\"\n",
    "    Plots a confusion matrix using Seaborn's heatmap().\n",
    "    \"\"\"\n",
    "    fig, ax = plt.subplots(figsize=(3, 3))\n",
    "    ax = sns.heatmap(confusion_matrix(y_test, y_preds),\n",
    "                     annot=True, # Annotate the boxes\n",
    "                     cbar=False)\n",
    "    plt.xlabel(\"true label\")\n",
    "    plt.ylabel(\"predicted label\")\n",
    "    \n",
    "plot_conf_mat(y_test, y_preds)"
   ]
  },
  {
   "cell_type": "markdown",
   "metadata": {
    "papermill": {
     "duration": 0.02261,
     "end_time": "2020-09-01T17:28:32.196752",
     "exception": false,
     "start_time": "2020-09-01T17:28:32.174142",
     "status": "completed"
    },
    "tags": []
   },
   "source": [
    "## 7.3 Classification Report"
   ]
  },
  {
   "cell_type": "code",
   "execution_count": 29,
   "metadata": {
    "execution": {
     "iopub.execute_input": "2020-09-01T17:28:32.258400Z",
     "iopub.status.busy": "2020-09-01T17:28:32.257330Z",
     "iopub.status.idle": "2020-09-01T17:28:32.267880Z",
     "shell.execute_reply": "2020-09-01T17:28:32.267033Z"
    },
    "papermill": {
     "duration": 0.044998,
     "end_time": "2020-09-01T17:28:32.268064",
     "exception": false,
     "start_time": "2020-09-01T17:28:32.223066",
     "status": "completed"
    },
    "tags": []
   },
   "outputs": [
    {
     "name": "stdout",
     "output_type": "stream",
     "text": [
      "              precision    recall  f1-score   support\n",
      "\n",
      "           0       0.89      0.86      0.88        29\n",
      "           1       0.88      0.91      0.89        32\n",
      "\n",
      "    accuracy                           0.89        61\n",
      "   macro avg       0.89      0.88      0.88        61\n",
      "weighted avg       0.89      0.89      0.89        61\n",
      "\n"
     ]
    }
   ],
   "source": [
    "print(classification_report(y_test, y_preds))"
   ]
  },
  {
   "cell_type": "markdown",
   "metadata": {
    "papermill": {
     "duration": 0.022601,
     "end_time": "2020-09-01T17:28:32.314659",
     "exception": false,
     "start_time": "2020-09-01T17:28:32.292058",
     "status": "completed"
    },
    "tags": []
   },
   "source": [
    "## 7.3 Corss validation Score"
   ]
  },
  {
   "cell_type": "code",
   "execution_count": 30,
   "metadata": {
    "execution": {
     "iopub.execute_input": "2020-09-01T17:28:32.367961Z",
     "iopub.status.busy": "2020-09-01T17:28:32.367145Z",
     "iopub.status.idle": "2020-09-01T17:28:32.370816Z",
     "shell.execute_reply": "2020-09-01T17:28:32.370007Z"
    },
    "papermill": {
     "duration": 0.032822,
     "end_time": "2020-09-01T17:28:32.370958",
     "exception": false,
     "start_time": "2020-09-01T17:28:32.338136",
     "status": "completed"
    },
    "tags": []
   },
   "outputs": [],
   "source": [
    "# Import cross_val_score\n",
    "from sklearn.model_selection import cross_val_score\n",
    "\n",
    "# Instantiate best model with best hyperparameters (found with GridSearchCV)\n",
    "clf = LogisticRegression(C=0.23357214690901212,\n",
    "                         solver=\"liblinear\")"
   ]
  },
  {
   "cell_type": "markdown",
   "metadata": {
    "papermill": {
     "duration": 0.023077,
     "end_time": "2020-09-01T17:28:32.417468",
     "exception": false,
     "start_time": "2020-09-01T17:28:32.394391",
     "status": "completed"
    },
    "tags": []
   },
   "source": [
    "## 7.3.1 Corss validation Accuracy score"
   ]
  },
  {
   "cell_type": "code",
   "execution_count": 31,
   "metadata": {
    "execution": {
     "iopub.execute_input": "2020-09-01T17:28:32.471088Z",
     "iopub.status.busy": "2020-09-01T17:28:32.469921Z",
     "iopub.status.idle": "2020-09-01T17:28:32.515113Z",
     "shell.execute_reply": "2020-09-01T17:28:32.514215Z"
    },
    "papermill": {
     "duration": 0.074684,
     "end_time": "2020-09-01T17:28:32.515266",
     "exception": false,
     "start_time": "2020-09-01T17:28:32.440582",
     "status": "completed"
    },
    "tags": []
   },
   "outputs": [],
   "source": [
    "cross_validation_score_accuracy = cross_val_score(clf,\n",
    "                                                  X,\n",
    "                                                  y,\n",
    "                                                  cv = 5,\n",
    "                                                  scoring = 'accuracy')"
   ]
  },
  {
   "cell_type": "markdown",
   "metadata": {
    "papermill": {
     "duration": 0.022771,
     "end_time": "2020-09-01T17:28:32.561214",
     "exception": false,
     "start_time": "2020-09-01T17:28:32.538443",
     "status": "completed"
    },
    "tags": []
   },
   "source": [
    "## 7.3.2 Corss validation Precision score"
   ]
  },
  {
   "cell_type": "code",
   "execution_count": 32,
   "metadata": {
    "execution": {
     "iopub.execute_input": "2020-09-01T17:28:32.615773Z",
     "iopub.status.busy": "2020-09-01T17:28:32.614938Z",
     "iopub.status.idle": "2020-09-01T17:28:32.663894Z",
     "shell.execute_reply": "2020-09-01T17:28:32.663229Z"
    },
    "papermill": {
     "duration": 0.07938,
     "end_time": "2020-09-01T17:28:32.664020",
     "exception": false,
     "start_time": "2020-09-01T17:28:32.584640",
     "status": "completed"
    },
    "tags": []
   },
   "outputs": [],
   "source": [
    "cross_validation_score_precision = cross_val_score(clf,\n",
    "                                                  X,\n",
    "                                                  y,\n",
    "                                                  cv = 5,\n",
    "                                                  scoring = 'precision')"
   ]
  },
  {
   "cell_type": "markdown",
   "metadata": {
    "papermill": {
     "duration": 0.022811,
     "end_time": "2020-09-01T17:28:32.710310",
     "exception": false,
     "start_time": "2020-09-01T17:28:32.687499",
     "status": "completed"
    },
    "tags": []
   },
   "source": [
    "## 7.3.3 Corss validation Recall score"
   ]
  },
  {
   "cell_type": "code",
   "execution_count": 33,
   "metadata": {
    "execution": {
     "iopub.execute_input": "2020-09-01T17:28:32.767331Z",
     "iopub.status.busy": "2020-09-01T17:28:32.763315Z",
     "iopub.status.idle": "2020-09-01T17:28:32.812146Z",
     "shell.execute_reply": "2020-09-01T17:28:32.811484Z"
    },
    "papermill": {
     "duration": 0.078592,
     "end_time": "2020-09-01T17:28:32.812292",
     "exception": false,
     "start_time": "2020-09-01T17:28:32.733700",
     "status": "completed"
    },
    "tags": []
   },
   "outputs": [],
   "source": [
    "cross_validation_score_recall = cross_val_score(clf,\n",
    "                                                  X,\n",
    "                                                  y,\n",
    "                                                  cv = 5,\n",
    "                                                  scoring = 'recall')"
   ]
  },
  {
   "cell_type": "markdown",
   "metadata": {
    "papermill": {
     "duration": 0.023371,
     "end_time": "2020-09-01T17:28:32.859167",
     "exception": false,
     "start_time": "2020-09-01T17:28:32.835796",
     "status": "completed"
    },
    "tags": []
   },
   "source": [
    "## 7.3.4 Corss validation F1 score"
   ]
  },
  {
   "cell_type": "code",
   "execution_count": 34,
   "metadata": {
    "execution": {
     "iopub.execute_input": "2020-09-01T17:28:32.916700Z",
     "iopub.status.busy": "2020-09-01T17:28:32.915814Z",
     "iopub.status.idle": "2020-09-01T17:28:32.959973Z",
     "shell.execute_reply": "2020-09-01T17:28:32.959229Z"
    },
    "papermill": {
     "duration": 0.077548,
     "end_time": "2020-09-01T17:28:32.960101",
     "exception": false,
     "start_time": "2020-09-01T17:28:32.882553",
     "status": "completed"
    },
    "tags": []
   },
   "outputs": [],
   "source": [
    "cross_validation_score_f1 = cross_val_score(clf,\n",
    "                                                  X,\n",
    "                                                  y,\n",
    "                                                  cv = 5,\n",
    "                                                  scoring = 'f1')"
   ]
  },
  {
   "cell_type": "markdown",
   "metadata": {
    "papermill": {
     "duration": 0.024273,
     "end_time": "2020-09-01T17:28:33.008010",
     "exception": false,
     "start_time": "2020-09-01T17:28:32.983737",
     "status": "completed"
    },
    "tags": []
   },
   "source": [
    "## 7.4 Visualizing cross-validated metrics"
   ]
  },
  {
   "cell_type": "code",
   "execution_count": 35,
   "metadata": {
    "execution": {
     "iopub.execute_input": "2020-09-01T17:28:33.075548Z",
     "iopub.status.busy": "2020-09-01T17:28:33.074702Z",
     "iopub.status.idle": "2020-09-01T17:28:33.277216Z",
     "shell.execute_reply": "2020-09-01T17:28:33.276571Z"
    },
    "papermill": {
     "duration": 0.245192,
     "end_time": "2020-09-01T17:28:33.277347",
     "exception": false,
     "start_time": "2020-09-01T17:28:33.032155",
     "status": "completed"
    },
    "tags": []
   },
   "outputs": [
    {
     "data": {
      "image/png": "[encoded data removed]",
      "text/plain": [
       "<Figure size 432x288 with 1 Axes>"
      ]
     },
     "metadata": {},
     "output_type": "display_data"
    }
   ],
   "source": [
    "# Visualizing cross-validated metrics\n",
    "cv_metrics = pd.DataFrame({\"Accuracy\": cross_validation_score_accuracy,\n",
    "                            \"Precision\": cross_validation_score_precision,\n",
    "                            \"Recall\": cross_validation_score_recall,\n",
    "                            \"F1\": cross_validation_score_f1})\n",
    "cv_metrics.T.plot.bar(title=\"Cross-Validated Metrics\", legend=False);"
   ]
  },
  {
   "cell_type": "code",
   "execution_count": null,
   "metadata": {
    "papermill": {
     "duration": 0.022984,
     "end_time": "2020-09-01T17:28:33.324101",
     "exception": false,
     "start_time": "2020-09-01T17:28:33.301117",
     "status": "completed"
    },
    "tags": []
   },
   "outputs": [],
   "source": []
  }
 ],
 "metadata": {
  "kernelspec": {
   "display_name": "Python 3",
   "language": "python",
   "name": "python3"
  },
  "language_info": {
   "codemirror_mode": {
    "name": "ipython",
    "version": 3
   },
   "file_extension": ".py",
   "mimetype": "text/x-python",
   "name": "python",
   "nbconvert_exporter": "python",
   "pygments_lexer": "ipython3",
   "version": "3.7.6"
  },
  "papermill": {
   "duration": 130.558985,
   "end_time": "2020-09-01T17:28:33.459508",
   "environment_variables": {},
   "exception": null,
   "input_path": "__notebook__.ipynb",
   "output_path": "__notebook__.ipynb",
   "parameters": {},
   "start_time": "2020-09-01T17:26:22.900523",
   "version": "2.1.0"
  }
 },
 "nbformat": 4,
 "nbformat_minor": 4
}
