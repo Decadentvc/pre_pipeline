{
 "cells": [
  {
   "cell_type": "code",
   "execution_count": 1,
   "metadata": {
    "_cell_guid": "b1076dfc-b9ad-4769-8c92-a6c4dae69d19",
    "_uuid": "8f2839f25d086af736a60e9eeb907d3b93b6e0e5"
   },
   "outputs": [
    {
     "name": "stdout",
     "output_type": "stream",
     "text": [
      "['heart.csv']\n"
     ]
    }
   ],
   "source": [
    "# This Python 3 environment comes with many helpful analytics libraries installed\n",
    "# It is defined by the kaggle/python docker image: https://github.com/kaggle/docker-python\n",
    "# For example, here's several helpful packages to load in \n",
    "\n",
    "import numpy as np # linear algebra\n",
    "import pandas as pd # data processing, CSV file I/O (e.g. pd.read_csv)\n",
    "\n",
    "# Input data files are available in the \"../input/\" directory.\n",
    "# For example, running this (by clicking run or pressing Shift+Enter) will list the files in the input directory\n",
    "import matplotlib.pyplot as plt\n",
    "import seaborn as sns\n",
    "from sklearn.model_selection import train_test_split\n",
    "from sklearn.metrics import confusion_matrix\n",
    "from sklearn.linear_model import LinearRegression\n",
    "from sklearn.linear_model import LogisticRegression\n",
    "from sklearn.ensemble import RandomForestClassifier\n",
    "from scipy.cluster.hierarchy import dendrogram,linkage\n",
    "import os\n",
    "print(os.listdir(\"../input\"))\n",
    "\n",
    "# Any results you write to the current directory are saved as output."
   ]
  },
  {
   "cell_type": "code",
   "execution_count": 2,
   "metadata": {
    "_cell_guid": "79c7e3d0-c299-4dcb-8224-4455121ee9b0",
    "_uuid": "d629ff2d2480ee46fbb7e2d37f6b5fab8052498a"
   },
   "outputs": [],
   "source": [
    "dataset=pd.read_csv(\"../input/heart.csv\")"
   ]
  },
  {
   "cell_type": "code",
   "execution_count": 3,
   "metadata": {
    "_uuid": "8abba767167f1b9df65790033cfb4e79cae8b0dc"
   },
   "outputs": [
    {
     "data": {
      "text/html": [
       "<div>\n",
       "<style scoped>\n",
       "    .dataframe tbody tr th:only-of-type {\n",
       "        vertical-align: middle;\n",
       "    }\n",
       "\n",
       "    .dataframe tbody tr th {\n",
       "        vertical-align: top;\n",
       "    }\n",
       "\n",
       "    .dataframe thead th {\n",
       "        text-align: right;\n",
       "    }\n",
       "</style>\n",
       "<table border=\"1\" class=\"dataframe\">\n",
       "  <thead>\n",
       "    <tr style=\"text-align: right;\">\n",
       "      <th></th>\n",
       "      <th>age</th>\n",
       "      <th>sex</th>\n",
       "      <th>cp</th>\n",
       "      <th>trestbps</th>\n",
       "      <th>chol</th>\n",
       "      <th>fbs</th>\n",
       "      <th>restecg</th>\n",
       "      <th>thalach</th>\n",
       "      <th>exang</th>\n",
       "      <th>oldpeak</th>\n",
       "      <th>slope</th>\n",
       "      <th>ca</th>\n",
       "      <th>thal</th>\n",
       "      <th>target</th>\n",
       "    </tr>\n",
       "  </thead>\n",
       "  <tbody>\n",
       "    <tr>\n",
       "      <th>0</th>\n",
       "      <td>63</td>\n",
       "      <td>1</td>\n",
       "      <td>3</td>\n",
       "      <td>145</td>\n",
       "      <td>233</td>\n",
       "      <td>1</td>\n",
       "      <td>0</td>\n",
       "      <td>150</td>\n",
       "      <td>0</td>\n",
       "      <td>2.3</td>\n",
       "      <td>0</td>\n",
       "      <td>0</td>\n",
       "      <td>1</td>\n",
       "      <td>1</td>\n",
       "    </tr>\n",
       "    <tr>\n",
       "      <th>1</th>\n",
       "      <td>37</td>\n",
       "      <td>1</td>\n",
       "      <td>2</td>\n",
       "      <td>130</td>\n",
       "      <td>250</td>\n",
       "      <td>0</td>\n",
       "      <td>1</td>\n",
       "      <td>187</td>\n",
       "      <td>0</td>\n",
       "      <td>3.5</td>\n",
       "      <td>0</td>\n",
       "      <td>0</td>\n",
       "      <td>2</td>\n",
       "      <td>1</td>\n",
       "    </tr>\n",
       "    <tr>\n",
       "      <th>2</th>\n",
       "      <td>41</td>\n",
       "      <td>0</td>\n",
       "      <td>1</td>\n",
       "      <td>130</td>\n",
       "      <td>204</td>\n",
       "      <td>0</td>\n",
       "      <td>0</td>\n",
       "      <td>172</td>\n",
       "      <td>0</td>\n",
       "      <td>1.4</td>\n",
       "      <td>2</td>\n",
       "      <td>0</td>\n",
       "      <td>2</td>\n",
       "      <td>1</td>\n",
       "    </tr>\n",
       "    <tr>\n",
       "      <th>3</th>\n",
       "      <td>56</td>\n",
       "      <td>1</td>\n",
       "      <td>1</td>\n",
       "      <td>120</td>\n",
       "      <td>236</td>\n",
       "      <td>0</td>\n",
       "      <td>1</td>\n",
       "      <td>178</td>\n",
       "      <td>0</td>\n",
       "      <td>0.8</td>\n",
       "      <td>2</td>\n",
       "      <td>0</td>\n",
       "      <td>2</td>\n",
       "      <td>1</td>\n",
       "    </tr>\n",
       "    <tr>\n",
       "      <th>4</th>\n",
       "      <td>57</td>\n",
       "      <td>0</td>\n",
       "      <td>0</td>\n",
       "      <td>120</td>\n",
       "      <td>354</td>\n",
       "      <td>0</td>\n",
       "      <td>1</td>\n",
       "      <td>163</td>\n",
       "      <td>1</td>\n",
       "      <td>0.6</td>\n",
       "      <td>2</td>\n",
       "      <td>0</td>\n",
       "      <td>2</td>\n",
       "      <td>1</td>\n",
       "    </tr>\n",
       "  </tbody>\n",
       "</table>\n",
       "</div>"
      ],
      "text/plain": [
       "   age  sex  cp  trestbps  chol   ...    oldpeak  slope  ca  thal  target\n",
       "0   63    1   3       145   233   ...        2.3      0   0     1       1\n",
       "1   37    1   2       130   250   ...        3.5      0   0     2       1\n",
       "2   41    0   1       130   204   ...        1.4      2   0     2       1\n",
       "3   56    1   1       120   236   ...        0.8      2   0     2       1\n",
       "4   57    0   0       120   354   ...        0.6      2   0     2       1\n",
       "\n",
       "[5 rows x 14 columns]"
      ]
     },
     "execution_count": 3,
     "metadata": {},
     "output_type": "execute_result"
    }
   ],
   "source": [
    "dataset.head()"
   ]
  },
  {
   "cell_type": "code",
   "execution_count": 4,
   "metadata": {
    "_uuid": "ee07d2c4561e6fd208b4267891df6231dba0c71e"
   },
   "outputs": [
    {
     "data": {
      "image/png": "[encoded data removed]",
      "text/plain": [
       "<Figure size 432x288 with 1 Axes>"
      ]
     },
     "metadata": {},
     "output_type": "display_data"
    }
   ],
   "source": [
    "sns.countplot(x=dataset.sex,palette=\"bwr\")\n",
    "plt.show()"
   ]
  },
  {
   "cell_type": "code",
   "execution_count": 5,
   "metadata": {
    "_uuid": "7d7b8739635ef5d24bbb07f38423871683ed6c81"
   },
   "outputs": [
    {
     "data": {
      "text/plain": [
       "array([1, 0])"
      ]
     },
     "execution_count": 5,
     "metadata": {},
     "output_type": "execute_result"
    }
   ],
   "source": [
    "dataset.sex.value_counts().index.values"
   ]
  },
  {
   "cell_type": "code",
   "execution_count": 6,
   "metadata": {
    "_uuid": "3f48c6bda973f3e97782f48b964d3fb29868a932"
   },
   "outputs": [
    {
     "name": "stdout",
     "output_type": "stream",
     "text": [
      "Female count 96 and %31.683168316831683\n",
      "Male count 207 and %68.31683168316832\n"
     ]
    }
   ],
   "source": [
    "# AND\n",
    "print(\"Female count {} and %{}\".format(len(dataset[dataset.sex==0]),(len(dataset[dataset.sex==0]*100)/len(dataset.sex)*100)))\n",
    "# AND\n",
    "print(\"Male count {} and %{}\".format(len(dataset[dataset.sex==1]),(len(dataset[dataset.sex==1]*100)/len(dataset.sex)*100)))"
   ]
  },
  {
   "cell_type": "code",
   "execution_count": 7,
   "metadata": {
    "_uuid": "9ae989c91c69d0d55cfb9eadb9ea8a850cdd3288"
   },
   "outputs": [
    {
     "data": {
      "image/png": "[encoded data removed]",
      "text/plain": [
       "<Figure size 432x288 with 1 Axes>"
      ]
     },
     "metadata": {},
     "output_type": "display_data"
    }
   ],
   "source": [
    "sns.countplot(x=dataset.target, palette=\"bwr\")\n",
    "plt.show()"
   ]
  },
  {
   "cell_type": "code",
   "execution_count": 8,
   "metadata": {
    "_uuid": "7289fd1c3c931d03317ac25d5ecbe8d0d0ef1b80"
   },
   "outputs": [
    {
     "name": "stdout",
     "output_type": "stream",
     "text": [
      "Havent Heart Disease count 138 and %45.54455445544555\n",
      "Have Heart Disease count 165 and %54.45544554455446\n"
     ]
    }
   ],
   "source": [
    "# AND\n",
    "print(\"Havent Heart Disease count {} and %{}\".format(len(dataset[dataset.target==0]),(len(dataset[dataset.target==0]*100)/len(dataset.target)*100)))\n",
    "# AND\n",
    "print(\"Have Heart Disease count {} and %{}\".format(len(dataset[dataset.target==1]),(len(dataset[dataset.target==1]*100)/len(dataset.target)*100)))"
   ]
  },
  {
   "cell_type": "code",
   "execution_count": 9,
   "metadata": {
    "_uuid": "6e6684b86aed7ed95284bf4fa466ffdbcf0e0eca"
   },
   "outputs": [
    {
     "data": {
      "image/png": "[encoded data removed]",
      "text/plain": [
       "<Figure size 1440x432 with 1 Axes>"
      ]
     },
     "metadata": {},
     "output_type": "display_data"
    }
   ],
   "source": [
    "pd.crosstab(dataset.age,dataset.target).plot(kind=\"bar\",figsize=(20,6))\n",
    "plt.title('Heart Disease Frequency for Ages')\n",
    "plt.xlabel('Age')\n",
    "plt.ylabel('Frequency')\n",
    "plt.savefig('heartDiseaseAndAges.png')\n",
    "plt.show()"
   ]
  },
  {
   "cell_type": "code",
   "execution_count": 10,
   "metadata": {
    "_uuid": "c008466bc5c257dacf2683f073eaa17bdc560976"
   },
   "outputs": [
    {
     "data": {
      "image/png": "[encoded data removed]",
      "text/plain": [
       "<Figure size 1080x432 with 1 Axes>"
      ]
     },
     "metadata": {},
     "output_type": "display_data"
    }
   ],
   "source": [
    "pd.crosstab(dataset.sex,dataset.target).plot(kind=\"bar\",figsize=(15,6),color=['#1CA53B','#AA1111' ])\n",
    "plt.title('Heart Disease Frequency for Sex')\n",
    "plt.xlabel('Sex (0 = Female, 1 = Male)')\n",
    "plt.xticks(rotation=0)\n",
    "plt.legend([\"Haven't Disease\", \"Have Disease\"])\n",
    "plt.ylabel('Frequency')\n",
    "plt.show()"
   ]
  },
  {
   "cell_type": "code",
   "execution_count": 11,
   "metadata": {
    "_uuid": "6d572bfa2c863ea07fb5fd3249603cbaf4bdef94"
   },
   "outputs": [],
   "source": [
    "#dataset.drop([\"age\"],axis=1,inplace=True)"
   ]
  },
  {
   "cell_type": "code",
   "execution_count": 12,
   "metadata": {
    "_uuid": "a02557e0d7867f786831864f090fb4197834364b"
   },
   "outputs": [
    {
     "data": {
      "text/html": [
       "<div>\n",
       "<style scoped>\n",
       "    .dataframe tbody tr th:only-of-type {\n",
       "        vertical-align: middle;\n",
       "    }\n",
       "\n",
       "    .dataframe tbody tr th {\n",
       "        vertical-align: top;\n",
       "    }\n",
       "\n",
       "    .dataframe thead th {\n",
       "        text-align: right;\n",
       "    }\n",
       "</style>\n",
       "<table border=\"1\" class=\"dataframe\">\n",
       "  <thead>\n",
       "    <tr style=\"text-align: right;\">\n",
       "      <th></th>\n",
       "      <th>age</th>\n",
       "      <th>sex</th>\n",
       "      <th>cp</th>\n",
       "      <th>trestbps</th>\n",
       "      <th>chol</th>\n",
       "      <th>fbs</th>\n",
       "      <th>restecg</th>\n",
       "      <th>thalach</th>\n",
       "      <th>exang</th>\n",
       "      <th>oldpeak</th>\n",
       "      <th>slope</th>\n",
       "      <th>ca</th>\n",
       "      <th>thal</th>\n",
       "      <th>target</th>\n",
       "    </tr>\n",
       "  </thead>\n",
       "  <tbody>\n",
       "    <tr>\n",
       "      <th>0</th>\n",
       "      <td>63</td>\n",
       "      <td>1</td>\n",
       "      <td>3</td>\n",
       "      <td>145</td>\n",
       "      <td>233</td>\n",
       "      <td>1</td>\n",
       "      <td>0</td>\n",
       "      <td>150</td>\n",
       "      <td>0</td>\n",
       "      <td>2.3</td>\n",
       "      <td>0</td>\n",
       "      <td>0</td>\n",
       "      <td>1</td>\n",
       "      <td>1</td>\n",
       "    </tr>\n",
       "    <tr>\n",
       "      <th>1</th>\n",
       "      <td>37</td>\n",
       "      <td>1</td>\n",
       "      <td>2</td>\n",
       "      <td>130</td>\n",
       "      <td>250</td>\n",
       "      <td>0</td>\n",
       "      <td>1</td>\n",
       "      <td>187</td>\n",
       "      <td>0</td>\n",
       "      <td>3.5</td>\n",
       "      <td>0</td>\n",
       "      <td>0</td>\n",
       "      <td>2</td>\n",
       "      <td>1</td>\n",
       "    </tr>\n",
       "    <tr>\n",
       "      <th>2</th>\n",
       "      <td>41</td>\n",
       "      <td>0</td>\n",
       "      <td>1</td>\n",
       "      <td>130</td>\n",
       "      <td>204</td>\n",
       "      <td>0</td>\n",
       "      <td>0</td>\n",
       "      <td>172</td>\n",
       "      <td>0</td>\n",
       "      <td>1.4</td>\n",
       "      <td>2</td>\n",
       "      <td>0</td>\n",
       "      <td>2</td>\n",
       "      <td>1</td>\n",
       "    </tr>\n",
       "    <tr>\n",
       "      <th>3</th>\n",
       "      <td>56</td>\n",
       "      <td>1</td>\n",
       "      <td>1</td>\n",
       "      <td>120</td>\n",
       "      <td>236</td>\n",
       "      <td>0</td>\n",
       "      <td>1</td>\n",
       "      <td>178</td>\n",
       "      <td>0</td>\n",
       "      <td>0.8</td>\n",
       "      <td>2</td>\n",
       "      <td>0</td>\n",
       "      <td>2</td>\n",
       "      <td>1</td>\n",
       "    </tr>\n",
       "    <tr>\n",
       "      <th>4</th>\n",
       "      <td>57</td>\n",
       "      <td>0</td>\n",
       "      <td>0</td>\n",
       "      <td>120</td>\n",
       "      <td>354</td>\n",
       "      <td>0</td>\n",
       "      <td>1</td>\n",
       "      <td>163</td>\n",
       "      <td>1</td>\n",
       "      <td>0.6</td>\n",
       "      <td>2</td>\n",
       "      <td>0</td>\n",
       "      <td>2</td>\n",
       "      <td>1</td>\n",
       "    </tr>\n",
       "  </tbody>\n",
       "</table>\n",
       "</div>"
      ],
      "text/plain": [
       "   age  sex  cp  trestbps  chol   ...    oldpeak  slope  ca  thal  target\n",
       "0   63    1   3       145   233   ...        2.3      0   0     1       1\n",
       "1   37    1   2       130   250   ...        3.5      0   0     2       1\n",
       "2   41    0   1       130   204   ...        1.4      2   0     2       1\n",
       "3   56    1   1       120   236   ...        0.8      2   0     2       1\n",
       "4   57    0   0       120   354   ...        0.6      2   0     2       1\n",
       "\n",
       "[5 rows x 14 columns]"
      ]
     },
     "execution_count": 12,
     "metadata": {},
     "output_type": "execute_result"
    }
   ],
   "source": [
    "dataset.head()"
   ]
  },
  {
   "cell_type": "markdown",
   "metadata": {
    "_uuid": "3d18672b6d405271d521c740938e71040e58e11a"
   },
   "source": [
    "****LOGISTIC REGRESSION****"
   ]
  },
  {
   "cell_type": "code",
   "execution_count": 13,
   "metadata": {
    "_uuid": "2440e6a95c1463f8990c7235b85cc29fd588c846"
   },
   "outputs": [],
   "source": [
    "x_data=dataset.drop([\"target\"],axis=1)\n",
    "y=dataset.target.values"
   ]
  },
  {
   "cell_type": "code",
   "execution_count": 14,
   "metadata": {
    "_uuid": "e7a130434ca5a063db47ad0009524d95d4b8d5cf"
   },
   "outputs": [],
   "source": [
    "#Normalize\n",
    "x=(x_data-np.min(x_data))/(np.max(x_data)-np.min(x_data))"
   ]
  },
  {
   "cell_type": "code",
   "execution_count": 15,
   "metadata": {
    "_uuid": "c788128933989ecc9b2055226c0898679b9eac00"
   },
   "outputs": [],
   "source": [
    "x_train,x_test,y_train,y_test=train_test_split(x,y,test_size=0.2,random_state=42)"
   ]
  },
  {
   "cell_type": "code",
   "execution_count": 16,
   "metadata": {
    "_uuid": "1c2ad85c2abdf9dc40e2ccb106d433ea9973419c"
   },
   "outputs": [
    {
     "data": {
      "text/plain": [
       "((242, 13), (61, 13))"
      ]
     },
     "execution_count": 16,
     "metadata": {},
     "output_type": "execute_result"
    }
   ],
   "source": [
    "x_train.shape,x_test.shape # All 303 Rows"
   ]
  },
  {
   "cell_type": "code",
   "execution_count": 17,
   "metadata": {
    "_uuid": "5d424617c4ed00acaaedc798763fff51db11db0c"
   },
   "outputs": [
    {
     "data": {
      "text/plain": [
       "((13, 242), (13, 61), (242,), (61,))"
      ]
     },
     "execution_count": 17,
     "metadata": {},
     "output_type": "execute_result"
    }
   ],
   "source": [
    "x_train=x_train.T\n",
    "y_train=y_train.T\n",
    "x_test=x_test.T\n",
    "y_test=y_test.T\n",
    "x_train.shape,x_test.shape ,y_train.shape , y_test.shape"
   ]
  },
  {
   "cell_type": "code",
   "execution_count": 18,
   "metadata": {
    "_uuid": "dc6513c06e41cf36f45aac1844ef28c034a27c4f"
   },
   "outputs": [],
   "source": [
    "def initialize_weight_bias(x_train):\n",
    "    weight=np.full((x_train.shape[0],1),0.1)\n",
    "    bias=0.0\n",
    "    return weight,bias"
   ]
  },
  {
   "cell_type": "code",
   "execution_count": 19,
   "metadata": {
    "_uuid": "766d6bd7dadcd89cb9054fd68a3d17e660c80404"
   },
   "outputs": [],
   "source": [
    "def sigmoid(z):\n",
    "    y_head=1/(1+np.exp(-z))\n",
    "    return y_head"
   ]
  },
  {
   "cell_type": "code",
   "execution_count": 20,
   "metadata": {
    "_uuid": "1cec03a803bf2f01452fc3a8abd1e13e00063c3e"
   },
   "outputs": [],
   "source": [
    "def forward_backward_propagation(x_train,y_train,weight,bias):\n",
    "    y_head= sigmoid(np.dot(weight.T,x_train) + bias)\n",
    "    loss = -(y_train*np.log(y_head) + (1-y_train)*np.log(1-y_head))\n",
    "    cost = np.sum(loss) / x_train.shape[1]\n",
    "    \n",
    "    #backward propagation\n",
    "    derivative_weight = np.dot(x_train,((y_head-y_train).T))/x_train.shape[1]\n",
    "    derivative_bias = np.sum(y_head-y_train)/x_train.shape[1]\n",
    "    gradients = {\"Derivative Weight\" : derivative_weight, \"Derivative Bias\" : derivative_bias}\n",
    "    \n",
    "    return cost,gradients "
   ]
  },
  {
   "cell_type": "code",
   "execution_count": 21,
   "metadata": {
    "_uuid": "f34f94b6502351a753caf47a679bb3f8c7a0aec0"
   },
   "outputs": [],
   "source": [
    "def update(x_train,y_train,weight,bias,learningRate,iteration):\n",
    "    costlist=[]\n",
    "    cost2list2=[]\n",
    "    index=[]\n",
    "    for i in range(iteration):\n",
    "        cost,gradients = forward_backward_propagation(x_train,y_train,weight,bias)\n",
    "        costlist.append(cost)\n",
    "        weight = weight - learningRate * gradients[\"Derivative Weight\"]\n",
    "        bias = bias - learningRate * gradients[\"Derivative Bias\"]\n",
    "        if i%10==0:\n",
    "            cost2list2.append(cost)\n",
    "            index.append(i)\n",
    "            print(\"Cost after iteration %i: %f\" %(i,cost))\n",
    "    parameters = {\"weight\": weight,\"bias\": bias}\n",
    "    plt.plot(index,cost2list2)\n",
    "    plt.xticks(index,rotation='vertical')\n",
    "    plt.xlabel(\"Number of iteration\")\n",
    "    plt.ylabel(\"Cost\")\n",
    "    plt.show()\n",
    "    return parameters,gradients,costlist"
   ]
  },
  {
   "cell_type": "code",
   "execution_count": 22,
   "metadata": {
    "_uuid": "24e9eaaab06a79b6190d6a8a4ce6ae6db3b3ffd5"
   },
   "outputs": [],
   "source": [
    "def predict(x_test,weight,bias):\n",
    "    z=sigmoid(np.dot(weight.T,x_test)+bias)\n",
    "    Y_prediction=np.zeros((1,x_test.shape[1]))\n",
    "    for i in range(z.shape[1]):\n",
    "        if(z[0,i]<=0.5):\n",
    "            Y_prediction[0,i]=0\n",
    "        else:\n",
    "            Y_prediction[0,i]=1\n",
    "    return Y_prediction"
   ]
  },
  {
   "cell_type": "code",
   "execution_count": 23,
   "metadata": {
    "_uuid": "db1d27d1232f564840257777bacb553b54d44f86"
   },
   "outputs": [],
   "source": [
    "def logistic_regression(x_train,y_train,x_test,y_test,learning_rate,num_iterations):\n",
    "    weight,bias=initialize_weight_bias(x_train)\n",
    "    parameters,gradients,cost_list=update(x_train,y_train,weight,bias,learning_rate,num_iterations)\n",
    "    y_prediction_test=predict(x_test,parameters[\"weight\"],parameters[\"bias\"])\n",
    "    #\n",
    "    print(\"test accuracy : {} \".format(100-np.mean(np.abs(y_prediction_test-y_test))*100))"
   ]
  },
  {
   "cell_type": "code",
   "execution_count": 24,
   "metadata": {
    "_uuid": "ecffb247d463b8eb1948e93bbe9a10dbf06e1141",
    "scrolled": true
   },
   "outputs": [
    {
     "name": "stdout",
     "output_type": "stream",
     "text": [
      "Cost after iteration 0: 0.718824\n",
      "Cost after iteration 10: 0.525760\n",
      "Cost after iteration 20: 0.466610\n",
      "Cost after iteration 30: 0.437944\n",
      "Cost after iteration 40: 0.420743\n",
      "Cost after iteration 50: 0.409081\n",
      "Cost after iteration 60: 0.400567\n",
      "Cost after iteration 70: 0.394044\n",
      "Cost after iteration 80: 0.388875\n",
      "Cost after iteration 90: 0.384674\n",
      "Cost after iteration 100: 0.381192\n",
      "Cost after iteration 110: 0.378259\n",
      "Cost after iteration 120: 0.375757\n",
      "Cost after iteration 130: 0.373596\n",
      "Cost after iteration 140: 0.371712\n"
     ]
    },
    {
     "data": {
      "image/png": "[encoded data removed]",
      "text/plain": [
       "<Figure size 432x288 with 1 Axes>"
      ]
     },
     "metadata": {},
     "output_type": "display_data"
    },
    {
     "name": "stdout",
     "output_type": "stream",
     "text": [
      "test accuracy : 85.24590163934427 \n"
     ]
    }
   ],
   "source": [
    "logistic_regression(x_train,y_train,x_test,y_test,learning_rate=1,num_iterations=150)"
   ]
  },
  {
   "cell_type": "code",
   "execution_count": 25,
   "metadata": {
    "_uuid": "388fb167a428e5750cc122571889fa5342c90b8a"
   },
   "outputs": [
    {
     "name": "stdout",
     "output_type": "stream",
     "text": [
      "Accuracy :  0.8524590163934426\n"
     ]
    },
    {
     "name": "stderr",
     "output_type": "stream",
     "text": [
      "/opt/conda/lib/python3.6/site-packages/sklearn/linear_model/logistic.py:433: FutureWarning: Default solver will be changed to 'lbfgs' in 0.22. Specify a solver to silence this warning.\n",
      "  FutureWarning)\n"
     ]
    }
   ],
   "source": [
    "lr=LogisticRegression()\n",
    "lr.fit(x_train.T,y_train.T)\n",
    "print(\"Accuracy : \",lr.score(x_test.T,y_test.T))\n",
    "# YEEEEEEEEEEEEEEEEEEEEEEEEEEEEEEEEEEEEEEEEEEEEEEEEEEEEEEEEEEY -.- ^.^"
   ]
  },
  {
   "cell_type": "markdown",
   "metadata": {
    "_uuid": "6df19b57b9b654fb14a6c6d797a329bcf9cf2c6f"
   },
   "source": [
    "****KNN****"
   ]
  },
  {
   "cell_type": "code",
   "execution_count": 26,
   "metadata": {
    "_uuid": "7eb06692a315e6d61bf267ec2a89972d379e1a64"
   },
   "outputs": [
    {
     "data": {
      "image/png": "[encoded data removed]",
      "text/plain": [
       "<Figure size 432x288 with 1 Axes>"
      ]
     },
     "metadata": {},
     "output_type": "display_data"
    }
   ],
   "source": [
    "x_train2,x_test2,y_train2,y_test2=train_test_split(x,y,test_size=0.2,random_state=0)\n",
    "from sklearn.neighbors import KNeighborsClassifier\n",
    "score=[]\n",
    "for each in range(1,20):\n",
    "    knn01=KNeighborsClassifier(n_neighbors=each)\n",
    "    knn01.fit(x_train2,y_train2)\n",
    "    score.append(knn01.score(x_test2,y_test2))\n",
    "plt.plot(range(1,20),score,color=\"red\")\n",
    "plt.show()"
   ]
  },
  {
   "cell_type": "code",
   "execution_count": 27,
   "metadata": {
    "_uuid": "85be4bea8c0086799a8c3d1104f7f651ee61c140"
   },
   "outputs": [
    {
     "name": "stdout",
     "output_type": "stream",
     "text": [
      "Accuracy :%90.1639344262295\n"
     ]
    }
   ],
   "source": [
    "knn=KNeighborsClassifier(n_neighbors=7)\n",
    "knn.fit(x_train2,y_train2)\n",
    "print(\"Accuracy :%{}\".format((knn.score(x_test2,y_test2))*100))"
   ]
  },
  {
   "cell_type": "markdown",
   "metadata": {
    "_uuid": "698e0962b9be53e0ac9c31be1319c514ae15e6dd"
   },
   "source": [
    "**SUPPORT VECTOR MACHINE**"
   ]
  },
  {
   "cell_type": "code",
   "execution_count": 28,
   "metadata": {
    "_uuid": "39d2ef7175c6baf7b33f9f6a3452c0df5911a143"
   },
   "outputs": [
    {
     "name": "stdout",
     "output_type": "stream",
     "text": [
      "accuracy of svm algo: 0.819672131147541\n"
     ]
    },
    {
     "name": "stderr",
     "output_type": "stream",
     "text": [
      "/opt/conda/lib/python3.6/site-packages/sklearn/svm/base.py:196: FutureWarning: The default value of gamma will change from 'auto' to 'scale' in version 0.22 to account better for unscaled features. Set gamma explicitly to 'auto' or 'scale' to avoid this warning.\n",
      "  \"avoid this warning.\", FutureWarning)\n"
     ]
    }
   ],
   "source": [
    "# Support Vector Machine\n",
    "from sklearn.svm import SVC\n",
    "\n",
    "svm=SVC(random_state=1)\n",
    "svm.fit(x_train2,y_train2)\n",
    "\n",
    "# %% print\n",
    "\n",
    "print(\"accuracy of svm algo:\" ,svm.score(x_test2,y_test2))"
   ]
  },
  {
   "cell_type": "markdown",
   "metadata": {
    "_uuid": "f67770d377f924fc4382cf07c4cfa4fd482237cc"
   },
   "source": [
    "***GAUSSIAN***"
   ]
  },
  {
   "cell_type": "code",
   "execution_count": 29,
   "metadata": {
    "_uuid": "946183e655e0199029ed08a09032264e475ebfe3"
   },
   "outputs": [
    {
     "name": "stdout",
     "output_type": "stream",
     "text": [
      "accuracy of naivebayes algo: 0.8524590163934426\n"
     ]
    }
   ],
   "source": [
    "\n",
    "from sklearn.naive_bayes import GaussianNB\n",
    "\n",
    "naive=GaussianNB();\n",
    "naive.fit(x_train2,y_train2)\n",
    "\n",
    "# %% print\n",
    "print(\"accuracy of naivebayes algo:\" ,naive.score(x_test2,y_test2))"
   ]
  },
  {
   "cell_type": "markdown",
   "metadata": {
    "_uuid": "325a6c5bdba577845cc67b8a4a48f50e8c3b42b9"
   },
   "source": [
    "****Deep Learning - ANN - With Keras Libraries****"
   ]
  },
  {
   "cell_type": "code",
   "execution_count": 30,
   "metadata": {
    "_uuid": "59ff9aac3fc496c7499a766a3f22195a7de6a8b2"
   },
   "outputs": [
    {
     "name": "stderr",
     "output_type": "stream",
     "text": [
      "Using TensorFlow backend.\n"
     ]
    },
    {
     "name": "stdout",
     "output_type": "stream",
     "text": [
      "Epoch 1/100\n",
      "161/161 [==============================] - 0s 3ms/step - loss: 0.6932 - acc: 0.4348\n",
      "Epoch 2/100\n",
      "161/161 [==============================] - 0s 65us/step - loss: 0.6931 - acc: 0.5590\n",
      "Epoch 3/100\n",
      "161/161 [==============================] - 0s 51us/step - loss: 0.6931 - acc: 0.5590\n",
      "Epoch 4/100\n",
      "161/161 [==============================] - 0s 50us/step - loss: 0.6929 - acc: 0.5590\n",
      "Epoch 5/100\n",
      "161/161 [==============================] - 0s 56us/step - loss: 0.6928 - acc: 0.5590\n",
      "Epoch 6/100\n",
      "161/161 [==============================] - 0s 53us/step - loss: 0.6928 - acc: 0.5590\n",
      "Epoch 7/100\n",
      "161/161 [==============================] - 0s 55us/step - loss: 0.6928 - acc: 0.5590\n",
      "Epoch 8/100\n",
      "161/161 [==============================] - 0s 54us/step - loss: 0.6927 - acc: 0.5590\n",
      "Epoch 9/100\n",
      "161/161 [==============================] - 0s 56us/step - loss: 0.6926 - acc: 0.5590\n",
      "Epoch 10/100\n",
      "161/161 [==============================] - 0s 53us/step - loss: 0.6925 - acc: 0.5590\n",
      "Epoch 11/100\n",
      "161/161 [==============================] - 0s 57us/step - loss: 0.6925 - acc: 0.5590\n",
      "Epoch 12/100\n",
      "161/161 [==============================] - 0s 48us/step - loss: 0.6924 - acc: 0.5590\n",
      "Epoch 13/100\n",
      "161/161 [==============================] - 0s 51us/step - loss: 0.6924 - acc: 0.5590\n",
      "Epoch 14/100\n",
      "161/161 [==============================] - 0s 51us/step - loss: 0.6924 - acc: 0.5590\n",
      "Epoch 15/100\n",
      "161/161 [==============================] - 0s 49us/step - loss: 0.6924 - acc: 0.5590\n",
      "Epoch 16/100\n",
      "161/161 [==============================] - 0s 49us/step - loss: 0.6923 - acc: 0.5590\n",
      "Epoch 17/100\n",
      "161/161 [==============================] - 0s 51us/step - loss: 0.6923 - acc: 0.5590\n",
      "Epoch 18/100\n",
      "161/161 [==============================] - 0s 69us/step - loss: 0.6923 - acc: 0.5590\n",
      "Epoch 19/100\n",
      "161/161 [==============================] - 0s 52us/step - loss: 0.6922 - acc: 0.5590\n",
      "Epoch 20/100\n",
      "161/161 [==============================] - 0s 48us/step - loss: 0.6921 - acc: 0.5590\n",
      "Epoch 21/100\n",
      "161/161 [==============================] - 0s 54us/step - loss: 0.6921 - acc: 0.5590\n",
      "Epoch 22/100\n",
      "161/161 [==============================] - 0s 76us/step - loss: 0.6920 - acc: 0.5590\n",
      "Epoch 23/100\n",
      "161/161 [==============================] - 0s 50us/step - loss: 0.6919 - acc: 0.5590\n",
      "Epoch 24/100\n",
      "161/161 [==============================] - 0s 53us/step - loss: 0.6917 - acc: 0.5590\n",
      "Epoch 25/100\n",
      "161/161 [==============================] - 0s 49us/step - loss: 0.6916 - acc: 0.5590\n",
      "Epoch 26/100\n",
      "161/161 [==============================] - 0s 54us/step - loss: 0.6915 - acc: 0.5590\n",
      "Epoch 27/100\n",
      "161/161 [==============================] - 0s 50us/step - loss: 0.6915 - acc: 0.5590\n",
      "Epoch 28/100\n",
      "161/161 [==============================] - 0s 49us/step - loss: 0.6915 - acc: 0.5590\n",
      "Epoch 29/100\n",
      "161/161 [==============================] - 0s 51us/step - loss: 0.6914 - acc: 0.5590\n",
      "Epoch 30/100\n",
      "161/161 [==============================] - 0s 55us/step - loss: 0.6913 - acc: 0.5590\n",
      "Epoch 31/100\n",
      "161/161 [==============================] - 0s 83us/step - loss: 0.6913 - acc: 0.5590\n",
      "Epoch 32/100\n",
      "161/161 [==============================] - 0s 54us/step - loss: 0.6911 - acc: 0.5590\n",
      "Epoch 33/100\n",
      "161/161 [==============================] - 0s 56us/step - loss: 0.6909 - acc: 0.5590\n",
      "Epoch 34/100\n",
      "161/161 [==============================] - 0s 54us/step - loss: 0.6908 - acc: 0.5590\n",
      "Epoch 35/100\n",
      "161/161 [==============================] - 0s 54us/step - loss: 0.6908 - acc: 0.5590\n",
      "Epoch 36/100\n",
      "161/161 [==============================] - 0s 55us/step - loss: 0.6907 - acc: 0.5590\n",
      "Epoch 37/100\n",
      "161/161 [==============================] - 0s 56us/step - loss: 0.6907 - acc: 0.5590\n",
      "Epoch 38/100\n",
      "161/161 [==============================] - 0s 74us/step - loss: 0.6906 - acc: 0.5590\n",
      "Epoch 39/100\n",
      "161/161 [==============================] - 0s 57us/step - loss: 0.6905 - acc: 0.5590\n",
      "Epoch 40/100\n",
      "161/161 [==============================] - 0s 59us/step - loss: 0.6904 - acc: 0.5590\n",
      "Epoch 41/100\n",
      "161/161 [==============================] - 0s 51us/step - loss: 0.6904 - acc: 0.5590\n",
      "Epoch 42/100\n",
      "161/161 [==============================] - 0s 56us/step - loss: 0.6903 - acc: 0.5590\n",
      "Epoch 43/100\n",
      "161/161 [==============================] - 0s 50us/step - loss: 0.6902 - acc: 0.5590\n",
      "Epoch 44/100\n",
      "161/161 [==============================] - 0s 54us/step - loss: 0.6901 - acc: 0.5590\n",
      "Epoch 45/100\n",
      "161/161 [==============================] - 0s 64us/step - loss: 0.6899 - acc: 0.5590\n",
      "Epoch 46/100\n",
      "161/161 [==============================] - 0s 50us/step - loss: 0.6899 - acc: 0.5590\n",
      "Epoch 47/100\n",
      "161/161 [==============================] - 0s 51us/step - loss: 0.6898 - acc: 0.5590\n",
      "Epoch 48/100\n",
      "161/161 [==============================] - 0s 57us/step - loss: 0.6898 - acc: 0.5590\n",
      "Epoch 49/100\n",
      "161/161 [==============================] - 0s 56us/step - loss: 0.6896 - acc: 0.5590\n",
      "Epoch 50/100\n",
      "161/161 [==============================] - 0s 61us/step - loss: 0.6896 - acc: 0.5590\n",
      "Epoch 51/100\n",
      "161/161 [==============================] - 0s 53us/step - loss: 0.6896 - acc: 0.5590\n",
      "Epoch 52/100\n",
      "161/161 [==============================] - 0s 55us/step - loss: 0.6895 - acc: 0.5590\n",
      "Epoch 53/100\n",
      "161/161 [==============================] - 0s 54us/step - loss: 0.6895 - acc: 0.5590\n",
      "Epoch 54/100\n",
      "161/161 [==============================] - 0s 63us/step - loss: 0.6895 - acc: 0.5590\n",
      "Epoch 55/100\n",
      "161/161 [==============================] - 0s 60us/step - loss: 0.6894 - acc: 0.5590\n",
      "Epoch 56/100\n",
      "161/161 [==============================] - 0s 55us/step - loss: 0.6893 - acc: 0.5590\n",
      "Epoch 57/100\n",
      "161/161 [==============================] - 0s 53us/step - loss: 0.6892 - acc: 0.5590\n",
      "Epoch 58/100\n",
      "161/161 [==============================] - 0s 56us/step - loss: 0.6891 - acc: 0.5590\n",
      "Epoch 59/100\n",
      "161/161 [==============================] - 0s 63us/step - loss: 0.6891 - acc: 0.5590\n",
      "Epoch 60/100\n",
      "161/161 [==============================] - 0s 48us/step - loss: 0.6891 - acc: 0.5590\n",
      "Epoch 61/100\n",
      "161/161 [==============================] - 0s 66us/step - loss: 0.6890 - acc: 0.5590\n",
      "Epoch 62/100\n",
      "161/161 [==============================] - 0s 61us/step - loss: 0.6889 - acc: 0.5590\n",
      "Epoch 63/100\n",
      "161/161 [==============================] - 0s 59us/step - loss: 0.6889 - acc: 0.5590\n",
      "Epoch 64/100\n",
      "161/161 [==============================] - 0s 54us/step - loss: 0.6888 - acc: 0.5590\n",
      "Epoch 65/100\n",
      "161/161 [==============================] - 0s 53us/step - loss: 0.6888 - acc: 0.5590\n",
      "Epoch 66/100\n",
      "161/161 [==============================] - 0s 53us/step - loss: 0.6888 - acc: 0.5590\n",
      "Epoch 67/100\n",
      "161/161 [==============================] - 0s 52us/step - loss: 0.6888 - acc: 0.5590\n",
      "Epoch 68/100\n",
      "161/161 [==============================] - 0s 57us/step - loss: 0.6888 - acc: 0.5590\n",
      "Epoch 69/100\n",
      "161/161 [==============================] - 0s 60us/step - loss: 0.6887 - acc: 0.5590\n",
      "Epoch 70/100\n",
      "161/161 [==============================] - 0s 54us/step - loss: 0.6887 - acc: 0.5590\n",
      "Epoch 71/100\n",
      "161/161 [==============================] - 0s 61us/step - loss: 0.6886 - acc: 0.5590\n",
      "Epoch 72/100\n",
      "161/161 [==============================] - 0s 65us/step - loss: 0.6885 - acc: 0.5590\n",
      "Epoch 73/100\n",
      "161/161 [==============================] - 0s 54us/step - loss: 0.6885 - acc: 0.5590\n",
      "Epoch 74/100\n",
      "161/161 [==============================] - 0s 54us/step - loss: 0.6884 - acc: 0.5590\n",
      "Epoch 75/100\n",
      "161/161 [==============================] - 0s 56us/step - loss: 0.6884 - acc: 0.5590\n",
      "Epoch 76/100\n",
      "161/161 [==============================] - 0s 56us/step - loss: 0.6884 - acc: 0.5590\n",
      "Epoch 77/100\n",
      "161/161 [==============================] - 0s 58us/step - loss: 0.6884 - acc: 0.5590\n",
      "Epoch 78/100\n",
      "161/161 [==============================] - 0s 50us/step - loss: 0.6884 - acc: 0.5590\n",
      "Epoch 79/100\n",
      "161/161 [==============================] - 0s 56us/step - loss: 0.6885 - acc: 0.5590\n",
      "Epoch 80/100\n",
      "161/161 [==============================] - 0s 52us/step - loss: 0.6886 - acc: 0.5590\n",
      "Epoch 81/100\n",
      "161/161 [==============================] - 0s 51us/step - loss: 0.6886 - acc: 0.5590\n",
      "Epoch 82/100\n",
      "161/161 [==============================] - 0s 51us/step - loss: 0.6885 - acc: 0.5590\n",
      "Epoch 83/100\n",
      "161/161 [==============================] - 0s 58us/step - loss: 0.6885 - acc: 0.5590\n",
      "Epoch 84/100\n",
      "161/161 [==============================] - 0s 59us/step - loss: 0.6885 - acc: 0.5590\n",
      "Epoch 85/100\n",
      "161/161 [==============================] - 0s 55us/step - loss: 0.6885 - acc: 0.5590\n",
      "Epoch 86/100\n",
      "161/161 [==============================] - 0s 51us/step - loss: 0.6885 - acc: 0.5590\n",
      "Epoch 87/100\n",
      "161/161 [==============================] - 0s 57us/step - loss: 0.6885 - acc: 0.5590\n",
      "Epoch 88/100\n",
      "161/161 [==============================] - 0s 54us/step - loss: 0.6885 - acc: 0.5590\n",
      "Epoch 89/100\n",
      "161/161 [==============================] - 0s 56us/step - loss: 0.6885 - acc: 0.5590\n",
      "Epoch 90/100\n",
      "161/161 [==============================] - 0s 60us/step - loss: 0.6885 - acc: 0.5590\n",
      "Epoch 91/100\n",
      "161/161 [==============================] - 0s 55us/step - loss: 0.6885 - acc: 0.5590\n",
      "Epoch 92/100\n",
      "161/161 [==============================] - 0s 60us/step - loss: 0.6885 - acc: 0.5590\n",
      "Epoch 93/100\n",
      "161/161 [==============================] - 0s 59us/step - loss: 0.6884 - acc: 0.5590\n",
      "Epoch 94/100\n",
      "161/161 [==============================] - 0s 57us/step - loss: 0.6883 - acc: 0.5590\n",
      "Epoch 95/100\n",
      "161/161 [==============================] - 0s 55us/step - loss: 0.6883 - acc: 0.5590\n",
      "Epoch 96/100\n",
      "161/161 [==============================] - 0s 53us/step - loss: 0.6882 - acc: 0.5590\n",
      "Epoch 97/100\n",
      "161/161 [==============================] - 0s 61us/step - loss: 0.6882 - acc: 0.5590\n",
      "Epoch 98/100\n",
      "161/161 [==============================] - 0s 51us/step - loss: 0.6882 - acc: 0.5590\n",
      "Epoch 99/100\n",
      "161/161 [==============================] - 0s 57us/step - loss: 0.6881 - acc: 0.5590\n",
      "Epoch 100/100\n",
      "161/161 [==============================] - 0s 52us/step - loss: 0.6881 - acc: 0.5590\n",
      "81/81 [==============================] - 0s 446us/step\n",
      "Epoch 1/100\n",
      "161/161 [==============================] - 0s 2ms/step - loss: 0.6931 - acc: 0.4658\n",
      "Epoch 2/100\n",
      "161/161 [==============================] - 0s 51us/step - loss: 0.6931 - acc: 0.5963\n",
      "Epoch 3/100\n",
      "161/161 [==============================] - 0s 53us/step - loss: 0.6931 - acc: 0.4845\n",
      "Epoch 4/100\n",
      "161/161 [==============================] - 0s 54us/step - loss: 0.6931 - acc: 0.4845\n",
      "Epoch 5/100\n",
      "161/161 [==============================] - 0s 53us/step - loss: 0.6931 - acc: 0.4845\n",
      "Epoch 6/100\n",
      "161/161 [==============================] - 0s 56us/step - loss: 0.6931 - acc: 0.4845\n",
      "Epoch 7/100\n",
      "161/161 [==============================] - 0s 53us/step - loss: 0.6931 - acc: 0.4845\n",
      "Epoch 8/100\n",
      "161/161 [==============================] - 0s 54us/step - loss: 0.6930 - acc: 0.4845\n",
      "Epoch 9/100\n",
      "161/161 [==============================] - 0s 53us/step - loss: 0.6929 - acc: 0.4845\n",
      "Epoch 10/100\n",
      "161/161 [==============================] - 0s 61us/step - loss: 0.6928 - acc: 0.4845\n",
      "Epoch 11/100\n",
      "161/161 [==============================] - 0s 57us/step - loss: 0.6927 - acc: 0.4845\n",
      "Epoch 12/100\n",
      "161/161 [==============================] - 0s 51us/step - loss: 0.6926 - acc: 0.4845\n",
      "Epoch 13/100\n",
      "161/161 [==============================] - 0s 54us/step - loss: 0.6923 - acc: 0.4845\n",
      "Epoch 14/100\n",
      "161/161 [==============================] - 0s 51us/step - loss: 0.6922 - acc: 0.4845\n",
      "Epoch 15/100\n",
      "161/161 [==============================] - 0s 54us/step - loss: 0.6919 - acc: 0.4845\n",
      "Epoch 16/100\n",
      "161/161 [==============================] - 0s 52us/step - loss: 0.6915 - acc: 0.4845\n",
      "Epoch 17/100\n",
      "161/161 [==============================] - 0s 58us/step - loss: 0.6912 - acc: 0.4845\n",
      "Epoch 18/100\n",
      "161/161 [==============================] - 0s 50us/step - loss: 0.6907 - acc: 0.4845\n",
      "Epoch 19/100\n",
      "161/161 [==============================] - 0s 55us/step - loss: 0.6901 - acc: 0.4845\n",
      "Epoch 20/100\n",
      "161/161 [==============================] - 0s 50us/step - loss: 0.6893 - acc: 0.4845\n",
      "Epoch 21/100\n",
      "161/161 [==============================] - 0s 53us/step - loss: 0.6882 - acc: 0.4845\n",
      "Epoch 22/100\n",
      "161/161 [==============================] - 0s 56us/step - loss: 0.6873 - acc: 0.4845\n",
      "Epoch 23/100\n",
      "161/161 [==============================] - 0s 52us/step - loss: 0.6862 - acc: 0.4845\n",
      "Epoch 24/100\n",
      "161/161 [==============================] - 0s 54us/step - loss: 0.6851 - acc: 0.4845\n",
      "Epoch 25/100\n",
      "161/161 [==============================] - 0s 53us/step - loss: 0.6836 - acc: 0.4845\n",
      "Epoch 26/100\n",
      "161/161 [==============================] - 0s 52us/step - loss: 0.6818 - acc: 0.4845\n",
      "Epoch 27/100\n",
      "161/161 [==============================] - 0s 56us/step - loss: 0.6796 - acc: 0.4845\n",
      "Epoch 28/100\n",
      "161/161 [==============================] - 0s 53us/step - loss: 0.6774 - acc: 0.4845\n",
      "Epoch 29/100\n",
      "161/161 [==============================] - 0s 53us/step - loss: 0.6753 - acc: 0.4845\n",
      "Epoch 30/100\n",
      "161/161 [==============================] - 0s 60us/step - loss: 0.6735 - acc: 0.4845\n",
      "Epoch 31/100\n",
      "161/161 [==============================] - 0s 56us/step - loss: 0.6716 - acc: 0.4845\n",
      "Epoch 32/100\n",
      "161/161 [==============================] - 0s 53us/step - loss: 0.6698 - acc: 0.4845\n",
      "Epoch 33/100\n",
      "161/161 [==============================] - 0s 53us/step - loss: 0.6678 - acc: 0.4845\n",
      "Epoch 34/100\n",
      "161/161 [==============================] - 0s 57us/step - loss: 0.6662 - acc: 0.6211\n",
      "Epoch 35/100\n",
      "161/161 [==============================] - 0s 53us/step - loss: 0.6642 - acc: 0.7081\n",
      "Epoch 36/100\n",
      "161/161 [==============================] - 0s 56us/step - loss: 0.6621 - acc: 0.7143\n",
      "Epoch 37/100\n",
      "161/161 [==============================] - 0s 52us/step - loss: 0.6596 - acc: 0.7143\n",
      "Epoch 38/100\n",
      "161/161 [==============================] - 0s 51us/step - loss: 0.6558 - acc: 0.6894\n",
      "Epoch 39/100\n",
      "161/161 [==============================] - 0s 52us/step - loss: 0.6530 - acc: 0.6398\n",
      "Epoch 40/100\n",
      "161/161 [==============================] - 0s 56us/step - loss: 0.6496 - acc: 0.5963\n",
      "Epoch 41/100\n",
      "161/161 [==============================] - 0s 54us/step - loss: 0.6464 - acc: 0.6149\n",
      "Epoch 42/100\n",
      "161/161 [==============================] - 0s 57us/step - loss: 0.6433 - acc: 0.6398\n",
      "Epoch 43/100\n",
      "161/161 [==============================] - 0s 54us/step - loss: 0.6409 - acc: 0.7143\n",
      "Epoch 44/100\n",
      "161/161 [==============================] - 0s 57us/step - loss: 0.6387 - acc: 0.7453\n",
      "Epoch 45/100\n",
      "161/161 [==============================] - 0s 58us/step - loss: 0.6362 - acc: 0.7516\n",
      "Epoch 46/100\n",
      "161/161 [==============================] - 0s 56us/step - loss: 0.6329 - acc: 0.7453\n",
      "Epoch 47/100\n",
      "161/161 [==============================] - 0s 67us/step - loss: 0.6290 - acc: 0.7143\n",
      "Epoch 48/100\n",
      "161/161 [==============================] - 0s 49us/step - loss: 0.6253 - acc: 0.7081\n",
      "Epoch 49/100\n",
      "161/161 [==============================] - 0s 56us/step - loss: 0.6228 - acc: 0.7267\n",
      "Epoch 50/100\n",
      "161/161 [==============================] - 0s 61us/step - loss: 0.6197 - acc: 0.7329\n",
      "Epoch 51/100\n",
      "161/161 [==============================] - 0s 53us/step - loss: 0.6177 - acc: 0.7516\n",
      "Epoch 52/100\n",
      "161/161 [==============================] - 0s 50us/step - loss: 0.6164 - acc: 0.7516\n",
      "Epoch 53/100\n",
      "161/161 [==============================] - 0s 53us/step - loss: 0.6139 - acc: 0.7516\n",
      "Epoch 54/100\n",
      "161/161 [==============================] - 0s 57us/step - loss: 0.6103 - acc: 0.7516\n",
      "Epoch 55/100\n",
      "161/161 [==============================] - 0s 48us/step - loss: 0.6068 - acc: 0.7516\n",
      "Epoch 56/100\n",
      "161/161 [==============================] - 0s 53us/step - loss: 0.6044 - acc: 0.7516\n",
      "Epoch 57/100\n",
      "161/161 [==============================] - 0s 56us/step - loss: 0.6020 - acc: 0.7391\n",
      "Epoch 58/100\n",
      "161/161 [==============================] - 0s 57us/step - loss: 0.5988 - acc: 0.7453\n",
      "Epoch 59/100\n",
      "161/161 [==============================] - 0s 52us/step - loss: 0.5959 - acc: 0.7516\n",
      "Epoch 60/100\n",
      "161/161 [==============================] - 0s 50us/step - loss: 0.5928 - acc: 0.7640\n",
      "Epoch 61/100\n",
      "161/161 [==============================] - 0s 57us/step - loss: 0.5902 - acc: 0.7516\n",
      "Epoch 62/100\n",
      "161/161 [==============================] - 0s 61us/step - loss: 0.5872 - acc: 0.7516\n",
      "Epoch 63/100\n",
      "161/161 [==============================] - 0s 56us/step - loss: 0.5844 - acc: 0.7640\n",
      "Epoch 64/100\n",
      "161/161 [==============================] - 0s 55us/step - loss: 0.5823 - acc: 0.7578\n",
      "Epoch 65/100\n",
      "161/161 [==============================] - 0s 51us/step - loss: 0.5816 - acc: 0.7391\n",
      "Epoch 66/100\n",
      "161/161 [==============================] - 0s 52us/step - loss: 0.5806 - acc: 0.7205\n",
      "Epoch 67/100\n",
      "161/161 [==============================] - 0s 57us/step - loss: 0.5778 - acc: 0.7516\n",
      "Epoch 68/100\n",
      "161/161 [==============================] - 0s 53us/step - loss: 0.5743 - acc: 0.7578\n",
      "Epoch 69/100\n",
      "161/161 [==============================] - 0s 51us/step - loss: 0.5722 - acc: 0.7516\n",
      "Epoch 70/100\n",
      "161/161 [==============================] - 0s 50us/step - loss: 0.5707 - acc: 0.7640\n",
      "Epoch 71/100\n",
      "161/161 [==============================] - 0s 56us/step - loss: 0.5705 - acc: 0.7516\n",
      "Epoch 72/100\n",
      "161/161 [==============================] - 0s 49us/step - loss: 0.5688 - acc: 0.7516\n",
      "Epoch 73/100\n",
      "161/161 [==============================] - 0s 52us/step - loss: 0.5666 - acc: 0.7578\n",
      "Epoch 74/100\n",
      "161/161 [==============================] - 0s 51us/step - loss: 0.5646 - acc: 0.7640\n",
      "Epoch 75/100\n",
      "161/161 [==============================] - 0s 50us/step - loss: 0.5632 - acc: 0.7578\n",
      "Epoch 76/100\n",
      "161/161 [==============================] - 0s 54us/step - loss: 0.5616 - acc: 0.7640\n",
      "Epoch 77/100\n",
      "161/161 [==============================] - 0s 51us/step - loss: 0.5589 - acc: 0.7640\n",
      "Epoch 78/100\n",
      "161/161 [==============================] - 0s 52us/step - loss: 0.5576 - acc: 0.7826\n",
      "Epoch 79/100\n",
      "161/161 [==============================] - 0s 58us/step - loss: 0.5561 - acc: 0.7764\n",
      "Epoch 80/100\n",
      "161/161 [==============================] - 0s 55us/step - loss: 0.5549 - acc: 0.8012\n",
      "Epoch 81/100\n",
      "161/161 [==============================] - 0s 54us/step - loss: 0.5538 - acc: 0.7826\n",
      "Epoch 82/100\n",
      "161/161 [==============================] - 0s 53us/step - loss: 0.5524 - acc: 0.7826\n",
      "Epoch 83/100\n",
      "161/161 [==============================] - 0s 50us/step - loss: 0.5510 - acc: 0.7888\n",
      "Epoch 84/100\n",
      "161/161 [==============================] - 0s 55us/step - loss: 0.5490 - acc: 0.7826\n",
      "Epoch 85/100\n",
      "161/161 [==============================] - 0s 52us/step - loss: 0.5476 - acc: 0.7888\n",
      "Epoch 86/100\n",
      "161/161 [==============================] - 0s 55us/step - loss: 0.5472 - acc: 0.7764\n",
      "Epoch 87/100\n",
      "161/161 [==============================] - 0s 50us/step - loss: 0.5465 - acc: 0.7640\n",
      "Epoch 88/100\n",
      "161/161 [==============================] - 0s 58us/step - loss: 0.5453 - acc: 0.7702\n",
      "Epoch 89/100\n",
      "161/161 [==============================] - 0s 58us/step - loss: 0.5439 - acc: 0.7826\n",
      "Epoch 90/100\n",
      "161/161 [==============================] - 0s 57us/step - loss: 0.5424 - acc: 0.7826\n",
      "Epoch 91/100\n",
      "161/161 [==============================] - 0s 57us/step - loss: 0.5411 - acc: 0.7888\n",
      "Epoch 92/100\n",
      "161/161 [==============================] - 0s 48us/step - loss: 0.5397 - acc: 0.7888\n",
      "Epoch 93/100\n",
      "161/161 [==============================] - 0s 50us/step - loss: 0.5395 - acc: 0.7888\n",
      "Epoch 94/100\n",
      "161/161 [==============================] - 0s 56us/step - loss: 0.5385 - acc: 0.7888\n",
      "Epoch 95/100\n",
      "161/161 [==============================] - 0s 56us/step - loss: 0.5380 - acc: 0.7826\n",
      "Epoch 96/100\n",
      "161/161 [==============================] - 0s 52us/step - loss: 0.5354 - acc: 0.7826\n",
      "Epoch 97/100\n",
      "161/161 [==============================] - 0s 49us/step - loss: 0.5347 - acc: 0.7888\n",
      "Epoch 98/100\n",
      "161/161 [==============================] - 0s 50us/step - loss: 0.5338 - acc: 0.7950\n",
      "Epoch 99/100\n",
      "161/161 [==============================] - 0s 55us/step - loss: 0.5335 - acc: 0.7950\n",
      "Epoch 100/100\n",
      "161/161 [==============================] - 0s 51us/step - loss: 0.5317 - acc: 0.7950\n",
      "81/81 [==============================] - 0s 625us/step\n",
      "Epoch 1/100\n",
      "162/162 [==============================] - 0s 2ms/step - loss: 0.6931 - acc: 0.5494\n",
      "Epoch 2/100\n",
      "162/162 [==============================] - 0s 58us/step - loss: 0.6930 - acc: 0.5494\n",
      "Epoch 3/100\n",
      "162/162 [==============================] - 0s 55us/step - loss: 0.6928 - acc: 0.5494\n",
      "Epoch 4/100\n",
      "162/162 [==============================] - 0s 53us/step - loss: 0.6927 - acc: 0.5494\n",
      "Epoch 5/100\n",
      "162/162 [==============================] - 0s 54us/step - loss: 0.6925 - acc: 0.5494\n",
      "Epoch 6/100\n",
      "162/162 [==============================] - 0s 53us/step - loss: 0.6923 - acc: 0.5494\n",
      "Epoch 7/100\n",
      "162/162 [==============================] - 0s 56us/step - loss: 0.6921 - acc: 0.5494\n",
      "Epoch 8/100\n",
      "162/162 [==============================] - 0s 58us/step - loss: 0.6920 - acc: 0.5494\n",
      "Epoch 9/100\n",
      "162/162 [==============================] - 0s 54us/step - loss: 0.6917 - acc: 0.5494\n",
      "Epoch 10/100\n",
      "162/162 [==============================] - 0s 50us/step - loss: 0.6914 - acc: 0.5494\n",
      "Epoch 11/100\n",
      "162/162 [==============================] - 0s 54us/step - loss: 0.6911 - acc: 0.5494\n",
      "Epoch 12/100\n",
      "162/162 [==============================] - 0s 57us/step - loss: 0.6908 - acc: 0.5494\n",
      "Epoch 13/100\n",
      "162/162 [==============================] - 0s 81us/step - loss: 0.6905 - acc: 0.5494\n",
      "Epoch 14/100\n",
      "162/162 [==============================] - 0s 60us/step - loss: 0.6899 - acc: 0.5494\n",
      "Epoch 15/100\n",
      "162/162 [==============================] - 0s 65us/step - loss: 0.6892 - acc: 0.5556\n",
      "Epoch 16/100\n",
      "162/162 [==============================] - 0s 50us/step - loss: 0.6884 - acc: 0.6173\n",
      "Epoch 17/100\n",
      "162/162 [==============================] - 0s 62us/step - loss: 0.6876 - acc: 0.6481\n",
      "Epoch 18/100\n",
      "162/162 [==============================] - 0s 62us/step - loss: 0.6866 - acc: 0.7284\n",
      "Epoch 19/100\n",
      "162/162 [==============================] - 0s 59us/step - loss: 0.6853 - acc: 0.7840\n",
      "Epoch 20/100\n",
      "162/162 [==============================] - 0s 55us/step - loss: 0.6835 - acc: 0.8210\n",
      "Epoch 21/100\n",
      "162/162 [==============================] - 0s 100us/step - loss: 0.6819 - acc: 0.7901\n",
      "Epoch 22/100\n",
      "162/162 [==============================] - 0s 60us/step - loss: 0.6795 - acc: 0.7716\n",
      "Epoch 23/100\n",
      "162/162 [==============================] - 0s 64us/step - loss: 0.6772 - acc: 0.7593\n",
      "Epoch 24/100\n",
      "162/162 [==============================] - 0s 58us/step - loss: 0.6744 - acc: 0.7531\n",
      "Epoch 25/100\n",
      "162/162 [==============================] - 0s 61us/step - loss: 0.6713 - acc: 0.7407\n",
      "Epoch 26/100\n",
      "162/162 [==============================] - 0s 57us/step - loss: 0.6681 - acc: 0.7407\n",
      "Epoch 27/100\n",
      "162/162 [==============================] - 0s 56us/step - loss: 0.6647 - acc: 0.7778\n",
      "Epoch 28/100\n",
      "162/162 [==============================] - 0s 61us/step - loss: 0.6605 - acc: 0.7469\n",
      "Epoch 29/100\n",
      "162/162 [==============================] - 0s 61us/step - loss: 0.6561 - acc: 0.7531\n",
      "Epoch 30/100\n",
      "162/162 [==============================] - 0s 58us/step - loss: 0.6527 - acc: 0.7654\n",
      "Epoch 31/100\n",
      "162/162 [==============================] - 0s 55us/step - loss: 0.6510 - acc: 0.7840\n",
      "Epoch 32/100\n",
      "162/162 [==============================] - 0s 54us/step - loss: 0.6490 - acc: 0.7901\n",
      "Epoch 33/100\n",
      "162/162 [==============================] - 0s 53us/step - loss: 0.6454 - acc: 0.7901\n",
      "Epoch 34/100\n",
      "162/162 [==============================] - 0s 48us/step - loss: 0.6415 - acc: 0.7778\n",
      "Epoch 35/100\n",
      "162/162 [==============================] - 0s 51us/step - loss: 0.6368 - acc: 0.7716\n",
      "Epoch 36/100\n",
      "162/162 [==============================] - 0s 56us/step - loss: 0.6314 - acc: 0.7407\n",
      "Epoch 37/100\n",
      "162/162 [==============================] - 0s 55us/step - loss: 0.6274 - acc: 0.7284\n",
      "Epoch 38/100\n",
      "162/162 [==============================] - 0s 56us/step - loss: 0.6231 - acc: 0.7407\n",
      "Epoch 39/100\n",
      "162/162 [==============================] - 0s 52us/step - loss: 0.6189 - acc: 0.7593\n",
      "Epoch 40/100\n",
      "162/162 [==============================] - 0s 60us/step - loss: 0.6150 - acc: 0.7593\n",
      "Epoch 41/100\n",
      "162/162 [==============================] - 0s 56us/step - loss: 0.6116 - acc: 0.7654\n",
      "Epoch 42/100\n",
      "162/162 [==============================] - 0s 62us/step - loss: 0.6061 - acc: 0.7593\n",
      "Epoch 43/100\n",
      "162/162 [==============================] - 0s 56us/step - loss: 0.6021 - acc: 0.7716\n",
      "Epoch 44/100\n",
      "162/162 [==============================] - 0s 50us/step - loss: 0.5986 - acc: 0.7716\n",
      "Epoch 45/100\n",
      "162/162 [==============================] - 0s 49us/step - loss: 0.5949 - acc: 0.7716\n",
      "Epoch 46/100\n",
      "162/162 [==============================] - 0s 55us/step - loss: 0.5902 - acc: 0.7716\n",
      "Epoch 47/100\n",
      "162/162 [==============================] - 0s 62us/step - loss: 0.5860 - acc: 0.7654\n",
      "Epoch 48/100\n",
      "162/162 [==============================] - 0s 55us/step - loss: 0.5825 - acc: 0.7593\n",
      "Epoch 49/100\n",
      "162/162 [==============================] - 0s 49us/step - loss: 0.5804 - acc: 0.7407\n",
      "Epoch 50/100\n",
      "162/162 [==============================] - 0s 51us/step - loss: 0.5764 - acc: 0.7593\n",
      "Epoch 51/100\n",
      "162/162 [==============================] - 0s 51us/step - loss: 0.5714 - acc: 0.7840\n",
      "Epoch 52/100\n",
      "162/162 [==============================] - 0s 57us/step - loss: 0.5685 - acc: 0.7778\n",
      "Epoch 53/100\n",
      "162/162 [==============================] - 0s 53us/step - loss: 0.5655 - acc: 0.7778\n",
      "Epoch 54/100\n",
      "162/162 [==============================] - 0s 54us/step - loss: 0.5626 - acc: 0.7778\n",
      "Epoch 55/100\n",
      "162/162 [==============================] - 0s 54us/step - loss: 0.5603 - acc: 0.7778\n",
      "Epoch 56/100\n",
      "162/162 [==============================] - 0s 55us/step - loss: 0.5572 - acc: 0.7778\n",
      "Epoch 57/100\n",
      "162/162 [==============================] - 0s 58us/step - loss: 0.5545 - acc: 0.7716\n",
      "Epoch 58/100\n",
      "162/162 [==============================] - 0s 54us/step - loss: 0.5518 - acc: 0.7778\n",
      "Epoch 59/100\n",
      "162/162 [==============================] - 0s 64us/step - loss: 0.5487 - acc: 0.7840\n",
      "Epoch 60/100\n",
      "162/162 [==============================] - 0s 60us/step - loss: 0.5464 - acc: 0.7901\n",
      "Epoch 61/100\n",
      "162/162 [==============================] - 0s 92us/step - loss: 0.5452 - acc: 0.7963\n",
      "Epoch 62/100\n",
      "162/162 [==============================] - 0s 53us/step - loss: 0.5413 - acc: 0.7840\n",
      "Epoch 63/100\n",
      "162/162 [==============================] - 0s 51us/step - loss: 0.5399 - acc: 0.7778\n",
      "Epoch 64/100\n",
      "162/162 [==============================] - 0s 49us/step - loss: 0.5392 - acc: 0.7840\n",
      "Epoch 65/100\n",
      "162/162 [==============================] - 0s 53us/step - loss: 0.5367 - acc: 0.8025\n",
      "Epoch 66/100\n",
      "162/162 [==============================] - 0s 54us/step - loss: 0.5342 - acc: 0.8025\n",
      "Epoch 67/100\n",
      "162/162 [==============================] - 0s 57us/step - loss: 0.5323 - acc: 0.7840\n",
      "Epoch 68/100\n",
      "162/162 [==============================] - 0s 49us/step - loss: 0.5309 - acc: 0.7778\n",
      "Epoch 69/100\n",
      "162/162 [==============================] - 0s 53us/step - loss: 0.5288 - acc: 0.7778\n",
      "Epoch 70/100\n",
      "162/162 [==============================] - 0s 54us/step - loss: 0.5269 - acc: 0.7840\n",
      "Epoch 71/100\n",
      "162/162 [==============================] - 0s 54us/step - loss: 0.5253 - acc: 0.7778\n",
      "Epoch 72/100\n",
      "162/162 [==============================] - 0s 54us/step - loss: 0.5229 - acc: 0.8086\n",
      "Epoch 73/100\n",
      "162/162 [==============================] - 0s 59us/step - loss: 0.5225 - acc: 0.8210\n",
      "Epoch 74/100\n",
      "162/162 [==============================] - 0s 52us/step - loss: 0.5212 - acc: 0.8210\n",
      "Epoch 75/100\n",
      "162/162 [==============================] - 0s 58us/step - loss: 0.5191 - acc: 0.8148\n",
      "Epoch 76/100\n",
      "162/162 [==============================] - 0s 51us/step - loss: 0.5174 - acc: 0.8086\n",
      "Epoch 77/100\n",
      "162/162 [==============================] - 0s 51us/step - loss: 0.5161 - acc: 0.8086\n",
      "Epoch 78/100\n",
      "162/162 [==============================] - 0s 52us/step - loss: 0.5152 - acc: 0.8086\n",
      "Epoch 79/100\n",
      "162/162 [==============================] - 0s 51us/step - loss: 0.5140 - acc: 0.8086\n",
      "Epoch 80/100\n",
      "162/162 [==============================] - 0s 52us/step - loss: 0.5123 - acc: 0.8086\n",
      "Epoch 81/100\n",
      "162/162 [==============================] - 0s 55us/step - loss: 0.5105 - acc: 0.8086\n",
      "Epoch 82/100\n",
      "162/162 [==============================] - 0s 51us/step - loss: 0.5092 - acc: 0.8086\n",
      "Epoch 83/100\n",
      "162/162 [==============================] - 0s 56us/step - loss: 0.5077 - acc: 0.8086\n",
      "Epoch 84/100\n",
      "162/162 [==============================] - 0s 50us/step - loss: 0.5059 - acc: 0.8210\n",
      "Epoch 85/100\n",
      "162/162 [==============================] - 0s 49us/step - loss: 0.5039 - acc: 0.8210\n",
      "Epoch 86/100\n",
      "162/162 [==============================] - 0s 55us/step - loss: 0.5029 - acc: 0.8333\n",
      "Epoch 87/100\n",
      "162/162 [==============================] - 0s 55us/step - loss: 0.5023 - acc: 0.8457\n",
      "Epoch 88/100\n",
      "162/162 [==============================] - 0s 49us/step - loss: 0.5010 - acc: 0.8457\n",
      "Epoch 89/100\n",
      "162/162 [==============================] - 0s 53us/step - loss: 0.4999 - acc: 0.8457\n",
      "Epoch 90/100\n",
      "162/162 [==============================] - 0s 56us/step - loss: 0.4981 - acc: 0.8333\n",
      "Epoch 91/100\n",
      "162/162 [==============================] - 0s 57us/step - loss: 0.4979 - acc: 0.8272\n",
      "Epoch 92/100\n",
      "162/162 [==============================] - 0s 56us/step - loss: 0.4973 - acc: 0.8148\n",
      "Epoch 93/100\n",
      "162/162 [==============================] - 0s 51us/step - loss: 0.4960 - acc: 0.8148\n",
      "Epoch 94/100\n",
      "162/162 [==============================] - 0s 52us/step - loss: 0.4946 - acc: 0.8148\n",
      "Epoch 95/100\n",
      "162/162 [==============================] - 0s 47us/step - loss: 0.4934 - acc: 0.8148\n",
      "Epoch 96/100\n",
      "162/162 [==============================] - 0s 48us/step - loss: 0.4923 - acc: 0.8210\n",
      "Epoch 97/100\n",
      "162/162 [==============================] - 0s 52us/step - loss: 0.4900 - acc: 0.8395\n",
      "Epoch 98/100\n",
      "162/162 [==============================] - 0s 52us/step - loss: 0.4888 - acc: 0.8395\n",
      "Epoch 99/100\n",
      "162/162 [==============================] - 0s 49us/step - loss: 0.4880 - acc: 0.8272\n",
      "Epoch 100/100\n",
      "162/162 [==============================] - 0s 49us/step - loss: 0.4871 - acc: 0.8333\n",
      "80/80 [==============================] - 0s 782us/step\n",
      "Accuracy mean: 0.7236625536479085\n",
      "Accuracy variance: 0.15445782472007843\n"
     ]
    }
   ],
   "source": [
    "from keras.wrappers.scikit_learn import KerasClassifier\n",
    "# %%\n",
    "from sklearn.model_selection import cross_val_score\n",
    "from keras.models import Sequential\n",
    "from keras.layers import Dense\n",
    "# %%\n",
    "def build_classifier():\n",
    "    classifier = Sequential() # initialize neural network\n",
    "    classifier.add(Dense(units = 8, kernel_initializer = 'uniform', activation = 'relu', input_dim = x_train2.shape[1]))\n",
    "    classifier.add(Dense(units = 4, kernel_initializer = 'uniform', activation = 'relu'))\n",
    "    classifier.add(Dense(units = 1, kernel_initializer = 'uniform', activation = 'sigmoid'))\n",
    "    classifier.compile(optimizer = 'adam', loss = 'binary_crossentropy', metrics = ['accuracy'])\n",
    "    return classifier\n",
    "classifier = KerasClassifier(build_fn = build_classifier, epochs = 100)\n",
    "accuracies = cross_val_score(estimator = classifier, X = x_train2, y = y_train2, cv = 3)\n",
    "mean = accuracies.mean()\n",
    "variance = accuracies.std()\n",
    "print(\"Accuracy mean: \"+ str(mean))\n",
    "print(\"Accuracy variance: \"+ str(variance))"
   ]
  },
  {
   "cell_type": "markdown",
   "metadata": {
    "_uuid": "34c4cac698098487744c646af34fb2d10b16ee23"
   },
   "source": [
    "****K-Means Clustering****"
   ]
  },
  {
   "cell_type": "code",
   "execution_count": 31,
   "metadata": {
    "_uuid": "8cbb12e964ddcae5db3c8f6d9bb554f391c2ff82"
   },
   "outputs": [
    {
     "data": {
      "image/png": "[encoded data removed]",
      "text/plain": [
       "<Figure size 432x288 with 1 Axes>"
      ]
     },
     "metadata": {},
     "output_type": "display_data"
    }
   ],
   "source": [
    "from sklearn.cluster import KMeans\n",
    "wcss=[]\n",
    "datasetkmeans=dataset.drop([\"target\"],axis=1)\n",
    "for each in range(1,15):\n",
    "    kmeans=KMeans(n_clusters=each)\n",
    "    kmeans.fit(datasetkmeans)\n",
    "    wcss.append(kmeans.inertia_)\n",
    "    \n",
    "plt.plot(range(1,15),wcss)\n",
    "plt.xlabel(\"number of k value\")\n",
    "plt.ylabel(\"WCSS\")\n",
    "plt.show()\n",
    "# %% for K=2  \n"
   ]
  },
  {
   "cell_type": "code",
   "execution_count": 32,
   "metadata": {
    "_uuid": "038a95e0e0fbf980f11bfaaadbe1dd4db632f1b0"
   },
   "outputs": [
    {
     "data": {
      "image/png": "[encoded data removed]",
      "text/plain": [
       "<Figure size 432x288 with 1 Axes>"
      ]
     },
     "metadata": {},
     "output_type": "display_data"
    },
    {
     "data": {
      "image/png": "[encoded data removed]",
      "text/plain": [
       "<Figure size 432x288 with 1 Axes>"
      ]
     },
     "metadata": {},
     "output_type": "display_data"
    }
   ],
   "source": [
    "kmeans2=KMeans(n_clusters=2)\n",
    "clusters=kmeans2.fit_predict(datasetkmeans)\n",
    "datasetkmeans[\"label\"]=clusters\n",
    "plt.scatter(datasetkmeans.trestbps[datasetkmeans.label==0],datasetkmeans.chol[datasetkmeans.label==0],color=\"red\",label=\"Havent Heart Disease\")\n",
    "plt.scatter(datasetkmeans.trestbps[datasetkmeans.label==1],datasetkmeans.chol[datasetkmeans.label==1],color=\"blue\",label=\"Have Heart Disease\")\n",
    "plt.title(\"Manual\")\n",
    "plt.legend()\n",
    "plt.show()\n",
    "\n",
    "plt.scatter(dataset.trestbps[dataset.target==0],dataset.chol[dataset.target==0],color=\"red\",label=\"Havent Heart Disease\")\n",
    "plt.scatter(dataset.trestbps[dataset.target==1],dataset.chol[dataset.target==1],color=\"blue\",label=\"Have Heart Disease\")\n",
    "plt.title(\"Auto\")\n",
    "plt.legend()\n",
    "plt.show()"
   ]
  },
  {
   "cell_type": "markdown",
   "metadata": {
    "_uuid": "db3910c501d90f3182e111acb4ee5bd2559cf411"
   },
   "source": [
    "****Hierarcical Clustering****"
   ]
  },
  {
   "cell_type": "code",
   "execution_count": 33,
   "metadata": {
    "_uuid": "33da856b6fe347801a865adda0f53c3f3cba470d"
   },
   "outputs": [
    {
     "data": {
      "text/html": [
       "<div>\n",
       "<style scoped>\n",
       "    .dataframe tbody tr th:only-of-type {\n",
       "        vertical-align: middle;\n",
       "    }\n",
       "\n",
       "    .dataframe tbody tr th {\n",
       "        vertical-align: top;\n",
       "    }\n",
       "\n",
       "    .dataframe thead th {\n",
       "        text-align: right;\n",
       "    }\n",
       "</style>\n",
       "<table border=\"1\" class=\"dataframe\">\n",
       "  <thead>\n",
       "    <tr style=\"text-align: right;\">\n",
       "      <th></th>\n",
       "      <th>age</th>\n",
       "      <th>sex</th>\n",
       "      <th>cp</th>\n",
       "      <th>trestbps</th>\n",
       "      <th>chol</th>\n",
       "      <th>fbs</th>\n",
       "      <th>restecg</th>\n",
       "      <th>thalach</th>\n",
       "      <th>exang</th>\n",
       "      <th>oldpeak</th>\n",
       "      <th>slope</th>\n",
       "      <th>ca</th>\n",
       "      <th>thal</th>\n",
       "      <th>target</th>\n",
       "    </tr>\n",
       "  </thead>\n",
       "  <tbody>\n",
       "    <tr>\n",
       "      <th>0</th>\n",
       "      <td>63</td>\n",
       "      <td>1</td>\n",
       "      <td>3</td>\n",
       "      <td>145</td>\n",
       "      <td>233</td>\n",
       "      <td>1</td>\n",
       "      <td>0</td>\n",
       "      <td>150</td>\n",
       "      <td>0</td>\n",
       "      <td>2.3</td>\n",
       "      <td>0</td>\n",
       "      <td>0</td>\n",
       "      <td>1</td>\n",
       "      <td>1</td>\n",
       "    </tr>\n",
       "    <tr>\n",
       "      <th>1</th>\n",
       "      <td>37</td>\n",
       "      <td>1</td>\n",
       "      <td>2</td>\n",
       "      <td>130</td>\n",
       "      <td>250</td>\n",
       "      <td>0</td>\n",
       "      <td>1</td>\n",
       "      <td>187</td>\n",
       "      <td>0</td>\n",
       "      <td>3.5</td>\n",
       "      <td>0</td>\n",
       "      <td>0</td>\n",
       "      <td>2</td>\n",
       "      <td>1</td>\n",
       "    </tr>\n",
       "    <tr>\n",
       "      <th>2</th>\n",
       "      <td>41</td>\n",
       "      <td>0</td>\n",
       "      <td>1</td>\n",
       "      <td>130</td>\n",
       "      <td>204</td>\n",
       "      <td>0</td>\n",
       "      <td>0</td>\n",
       "      <td>172</td>\n",
       "      <td>0</td>\n",
       "      <td>1.4</td>\n",
       "      <td>2</td>\n",
       "      <td>0</td>\n",
       "      <td>2</td>\n",
       "      <td>1</td>\n",
       "    </tr>\n",
       "    <tr>\n",
       "      <th>3</th>\n",
       "      <td>56</td>\n",
       "      <td>1</td>\n",
       "      <td>1</td>\n",
       "      <td>120</td>\n",
       "      <td>236</td>\n",
       "      <td>0</td>\n",
       "      <td>1</td>\n",
       "      <td>178</td>\n",
       "      <td>0</td>\n",
       "      <td>0.8</td>\n",
       "      <td>2</td>\n",
       "      <td>0</td>\n",
       "      <td>2</td>\n",
       "      <td>1</td>\n",
       "    </tr>\n",
       "    <tr>\n",
       "      <th>4</th>\n",
       "      <td>57</td>\n",
       "      <td>0</td>\n",
       "      <td>0</td>\n",
       "      <td>120</td>\n",
       "      <td>354</td>\n",
       "      <td>0</td>\n",
       "      <td>1</td>\n",
       "      <td>163</td>\n",
       "      <td>1</td>\n",
       "      <td>0.6</td>\n",
       "      <td>2</td>\n",
       "      <td>0</td>\n",
       "      <td>2</td>\n",
       "      <td>1</td>\n",
       "    </tr>\n",
       "  </tbody>\n",
       "</table>\n",
       "</div>"
      ],
      "text/plain": [
       "   age  sex  cp  trestbps  chol   ...    oldpeak  slope  ca  thal  target\n",
       "0   63    1   3       145   233   ...        2.3      0   0     1       1\n",
       "1   37    1   2       130   250   ...        3.5      0   0     2       1\n",
       "2   41    0   1       130   204   ...        1.4      2   0     2       1\n",
       "3   56    1   1       120   236   ...        0.8      2   0     2       1\n",
       "4   57    0   0       120   354   ...        0.6      2   0     2       1\n",
       "\n",
       "[5 rows x 14 columns]"
      ]
     },
     "execution_count": 33,
     "metadata": {},
     "output_type": "execute_result"
    }
   ],
   "source": [
    "dataset.head()"
   ]
  },
  {
   "cell_type": "code",
   "execution_count": 34,
   "metadata": {
    "_uuid": "194671ca4e8ccd9d0e78342a9d7e89e4d79e7923"
   },
   "outputs": [
    {
     "data": {
      "image/png": "[encoded data removed]",
      "text/plain": [
       "<Figure size 432x288 with 1 Axes>"
      ]
     },
     "metadata": {},
     "output_type": "display_data"
    },
    {
     "data": {
      "image/png": "[encoded data removed]",
      "text/plain": [
       "<Figure size 432x288 with 1 Axes>"
      ]
     },
     "metadata": {},
     "output_type": "display_data"
    },
    {
     "data": {
      "image/png": "[encoded data removed]",
      "text/plain": [
       "<Figure size 432x288 with 1 Axes>"
      ]
     },
     "metadata": {},
     "output_type": "display_data"
    },
    {
     "data": {
      "text/plain": [
       "(97, 303, 303)"
      ]
     },
     "execution_count": 34,
     "metadata": {},
     "output_type": "execute_result"
    }
   ],
   "source": [
    "from scipy.cluster.hierarchy import dendrogram,linkage\n",
    "datasetexcept=dataset.drop([\"target\"],axis=1)\n",
    "merg=linkage(dataset,method=\"ward\")\n",
    "dendrogram(merg,leaf_rotation=90)\n",
    "plt.xlabel(\"Data Point\")\n",
    "plt.ylabel(\"Euclidean Distance\")\n",
    "plt.show()\n",
    "# %% HCC\n",
    "from sklearn.cluster import AgglomerativeClustering\n",
    "\n",
    "hierarcical=AgglomerativeClustering(n_clusters=2,affinity=\"euclidean\",linkage=\"ward\")\n",
    "\n",
    "clusters=hierarcical.fit_predict(x)\n",
    "\n",
    "dataset[\"label\"]=clusters\n",
    "\n",
    "plt.scatter(dataset.trestbps[dataset.label==0],dataset.chol[dataset.label==0],color=\"red\",label=\"Havent Heart Disease\")\n",
    "plt.scatter(dataset.trestbps[dataset.label==1],dataset.chol[dataset.label==1],color=\"blue\",label=\"Have Heart Disease\")\n",
    "plt.title(\"Manual\")\n",
    "plt.legend()\n",
    "plt.show()\n",
    "\n",
    "plt.scatter(dataset.trestbps[dataset.target==0],dataset.chol[dataset.target==0],color=\"red\",label=\"Havent Heart Disease\")\n",
    "plt.scatter(dataset.trestbps[dataset.target==1],dataset.chol[dataset.target==1],color=\"blue\",label=\"Have Heart Disease\")\n",
    "plt.title(\"Auto\")\n",
    "plt.legend()\n",
    "plt.show()\n",
    "fitaa=list(hierarcical.fit_predict(X=dataset.label.values.reshape(-1,1),y=dataset.target.values.reshape(-1,1)))\n",
    "fitbb=dataset.target\n",
    "dictionaryab={\"predict\":fitaa,\"real\":fitbb}\n",
    "datasetab=pd.DataFrame(dictionaryab)\n",
    "len(datasetab[datasetab.predict==datasetab.real]),len(datasetab.predict),len(datasetab.real)\n",
    "# TOO BAD like %33"
   ]
  },
  {
   "cell_type": "markdown",
   "metadata": {
    "_uuid": "067f463f1d13c94e9b0bb09630b4dc3aeab28ed5"
   },
   "source": [
    "****K-Fold Cross Validation****"
   ]
  },
  {
   "cell_type": "code",
   "execution_count": 35,
   "metadata": {
    "_uuid": "56ddea196f0ac4da4e527ebfcaa0174e059b3e2b"
   },
   "outputs": [
    {
     "name": "stdout",
     "output_type": "stream",
     "text": [
      "Average accuracy : 0.7900641025641025\n",
      "Average Std : 0.06675982765920031\n",
      "Test accuracy 0.8688524590163934\n",
      "tuned hyperparameter K: {'n_neighbors': 8}\n",
      "tuned parametreye göre en iyi accuracy(best_score)  : 0.8250825082508251\n"
     ]
    },
    {
     "name": "stderr",
     "output_type": "stream",
     "text": [
      "/opt/conda/lib/python3.6/site-packages/sklearn/model_selection/_search.py:841: DeprecationWarning: The default of the `iid` parameter will change from True to False in version 0.22 and will be removed in 0.24. This will change numeric results when test-set sizes are unequal.\n",
      "  DeprecationWarning)\n"
     ]
    }
   ],
   "source": [
    "from sklearn.neighbors import KNeighborsClassifier\n",
    "knn=KNeighborsClassifier(n_neighbors=8) # n_neighbors K değeridir.\n",
    "\n",
    "# %% K Fold CV K=10\n",
    "\n",
    "from sklearn.model_selection import cross_val_score\n",
    "\n",
    "accuracies=cross_val_score(estimator=knn,X=x_train2,y=y_train2,cv=10)\n",
    "print(\"Average accuracy :\",np.mean(accuracies))\n",
    "print(\"Average Std :\",np.std(accuracies))\n",
    "\n",
    "# %% TEST\n",
    "knn.fit(x_train2,y_train2)\n",
    "print(\"Test accuracy {}\".format(knn.score(x_test2,y_test2)))\n",
    "\n",
    "# %% Grid Search K-Fold CV\n",
    "\n",
    "from sklearn.model_selection import GridSearchCV\n",
    "\n",
    "grid={\"n_neighbors\":np.arange(1,50)}\n",
    "knn=KNeighborsClassifier()\n",
    "knn_cv=GridSearchCV(knn,grid,cv=10)\n",
    "knn_cv.fit(x,y)\n",
    "\n",
    "# %% print hyperparamet KNN algorithm K Değeri\n",
    "\n",
    "print(\"tuned hyperparameter K:\",knn_cv.best_params_)\n",
    "\n",
    "print(\"tuned parametreye göre en iyi accuracy(best_score)  :\",knn_cv.best_score_)\n"
   ]
  },
  {
   "cell_type": "code",
   "execution_count": 36,
   "metadata": {
    "_uuid": "ab84b28abe7c7b46da5a08ee3cfe09cbb4185b13"
   },
   "outputs": [
    {
     "data": {
      "text/html": [
       "<div>\n",
       "<style scoped>\n",
       "    .dataframe tbody tr th:only-of-type {\n",
       "        vertical-align: middle;\n",
       "    }\n",
       "\n",
       "    .dataframe tbody tr th {\n",
       "        vertical-align: top;\n",
       "    }\n",
       "\n",
       "    .dataframe thead th {\n",
       "        text-align: right;\n",
       "    }\n",
       "</style>\n",
       "<table border=\"1\" class=\"dataframe\">\n",
       "  <thead>\n",
       "    <tr style=\"text-align: right;\">\n",
       "      <th></th>\n",
       "      <th>age</th>\n",
       "      <th>sex</th>\n",
       "      <th>cp</th>\n",
       "      <th>trestbps</th>\n",
       "      <th>chol</th>\n",
       "      <th>fbs</th>\n",
       "      <th>restecg</th>\n",
       "      <th>thalach</th>\n",
       "      <th>exang</th>\n",
       "      <th>oldpeak</th>\n",
       "      <th>slope</th>\n",
       "      <th>ca</th>\n",
       "      <th>thal</th>\n",
       "      <th>label</th>\n",
       "    </tr>\n",
       "    <tr>\n",
       "      <th>target</th>\n",
       "      <th></th>\n",
       "      <th></th>\n",
       "      <th></th>\n",
       "      <th></th>\n",
       "      <th></th>\n",
       "      <th></th>\n",
       "      <th></th>\n",
       "      <th></th>\n",
       "      <th></th>\n",
       "      <th></th>\n",
       "      <th></th>\n",
       "      <th></th>\n",
       "      <th></th>\n",
       "      <th></th>\n",
       "    </tr>\n",
       "  </thead>\n",
       "  <tbody>\n",
       "    <tr>\n",
       "      <th>0</th>\n",
       "      <td>56.601449</td>\n",
       "      <td>0.826087</td>\n",
       "      <td>0.478261</td>\n",
       "      <td>134.398551</td>\n",
       "      <td>251.086957</td>\n",
       "      <td>0.159420</td>\n",
       "      <td>0.449275</td>\n",
       "      <td>139.101449</td>\n",
       "      <td>0.550725</td>\n",
       "      <td>1.585507</td>\n",
       "      <td>1.166667</td>\n",
       "      <td>1.166667</td>\n",
       "      <td>2.543478</td>\n",
       "      <td>0.449275</td>\n",
       "    </tr>\n",
       "    <tr>\n",
       "      <th>1</th>\n",
       "      <td>52.496970</td>\n",
       "      <td>0.563636</td>\n",
       "      <td>1.375758</td>\n",
       "      <td>129.303030</td>\n",
       "      <td>242.230303</td>\n",
       "      <td>0.139394</td>\n",
       "      <td>0.593939</td>\n",
       "      <td>158.466667</td>\n",
       "      <td>0.139394</td>\n",
       "      <td>0.583030</td>\n",
       "      <td>1.593939</td>\n",
       "      <td>0.363636</td>\n",
       "      <td>2.121212</td>\n",
       "      <td>0.127273</td>\n",
       "    </tr>\n",
       "  </tbody>\n",
       "</table>\n",
       "</div>"
      ],
      "text/plain": [
       "              age       sex        cp    ...           ca      thal     label\n",
       "target                                   ...                                 \n",
       "0       56.601449  0.826087  0.478261    ...     1.166667  2.543478  0.449275\n",
       "1       52.496970  0.563636  1.375758    ...     0.363636  2.121212  0.127273\n",
       "\n",
       "[2 rows x 14 columns]"
      ]
     },
     "execution_count": 36,
     "metadata": {},
     "output_type": "execute_result"
    }
   ],
   "source": [
    "# GROUP BY \"target\"\n",
    "dataset.groupby(\"target\").mean()"
   ]
  },
  {
   "cell_type": "code",
   "execution_count": 37,
   "metadata": {
    "_uuid": "23c2b5b27f48a114ab9438f4a7d60fcc80a19eb4"
   },
   "outputs": [
    {
     "data": {
      "text/plain": [
       "1    165\n",
       "0    138\n",
       "Name: target, dtype: int64"
      ]
     },
     "execution_count": 37,
     "metadata": {},
     "output_type": "execute_result"
    }
   ],
   "source": [
    "# VALUE COUNTS\n",
    "dataset.target.value_counts()"
   ]
  },
  {
   "cell_type": "markdown",
   "metadata": {
    "_uuid": "817aee48d97f785274904f73c6624c7fce15b4aa"
   },
   "source": [
    "****Decision Tree****"
   ]
  },
  {
   "cell_type": "code",
   "execution_count": 38,
   "metadata": {
    "_uuid": "c34606b72b521e727d74fc7e47911ca9e604aeb0"
   },
   "outputs": [
    {
     "name": "stdout",
     "output_type": "stream",
     "text": [
      "Score :  0.7540983606557377\n"
     ]
    }
   ],
   "source": [
    "#DECİSİON TREE\n",
    "from sklearn.tree import DecisionTreeClassifier\n",
    "dt=DecisionTreeClassifier()\n",
    "dt.fit(x_train2,y_train2)\n",
    "print(\"Score : \",dt.score(x_test2,y_test2))"
   ]
  },
  {
   "cell_type": "markdown",
   "metadata": {
    "_uuid": "c13bcef1e9333bd7e483873e6853eb25d28739a0"
   },
   "source": [
    "****Random Forest****"
   ]
  },
  {
   "cell_type": "code",
   "execution_count": 39,
   "metadata": {
    "_uuid": "b10c620c41622009ab8d49c51bc7a7309ceb6224"
   },
   "outputs": [
    {
     "name": "stdout",
     "output_type": "stream",
     "text": [
      "random forest algo result :  0.8524590163934426\n"
     ]
    }
   ],
   "source": [
    "# %% Random Forest\n",
    "from sklearn.ensemble import RandomForestClassifier\n",
    "rf=RandomForestClassifier(n_estimators=100,random_state=42)\n",
    "rf.fit(x_train2,y_train2)\n",
    "print(\"random forest algo result : \",rf.score(x_test2,y_test2))"
   ]
  },
  {
   "cell_type": "code",
   "execution_count": 40,
   "metadata": {
    "_uuid": "b60d1e2d432920fc61da1ff09db8f81f6d3a1c46"
   },
   "outputs": [],
   "source": []
  }
 ],
 "metadata": {
  "kernelspec": {
   "display_name": "Python 3",
   "language": "python",
   "name": "python3"
  },
  "language_info": {
   "codemirror_mode": {
    "name": "ipython",
    "version": 3
   },
   "file_extension": ".py",
   "mimetype": "text/x-python",
   "name": "python",
   "nbconvert_exporter": "python",
   "pygments_lexer": "ipython3",
   "version": "3.6.6"
  }
 },
 "nbformat": 4,
 "nbformat_minor": 1
}
