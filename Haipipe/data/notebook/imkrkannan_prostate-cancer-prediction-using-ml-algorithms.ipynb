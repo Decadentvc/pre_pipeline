{
 "cells": [
  {
   "cell_type": "markdown",
   "metadata": {
    "papermill": {
     "duration": 0.030383,
     "end_time": "2020-10-14T16:12:15.648394",
     "exception": false,
     "start_time": "2020-10-14T16:12:15.618011",
     "status": "completed"
    },
    "tags": []
   },
   "source": [
    "**What is Prostate cancer?**\n",
    "\n",
    "Prostate cancer is a form of cancer that develops in the prostate gland.\n",
    "\n",
    "**In Brief:**\n",
    "\n",
    "A cancer in a man's prostate, a small walnut-sized gland that produces seminal fluid.\n",
    "A man's prostate produces the seminal fluid that nourishes and transports sperm.\n",
    "Symptoms include difficulty with urination, but sometimes there are no symptoms at all."
   ]
  },
  {
   "cell_type": "markdown",
   "metadata": {
    "papermill": {
     "duration": 0.031517,
     "end_time": "2020-10-14T16:12:15.716217",
     "exception": false,
     "start_time": "2020-10-14T16:12:15.684700",
     "status": "completed"
    },
    "tags": []
   },
   "source": [
    "![CANCER](https://www.mountelizabeth.com.sg/images/default-source/default-album/surgery-prostate-cancer.jpg?sfvrsn=e70a871e_4)"
   ]
  },
  {
   "cell_type": "code",
   "execution_count": 1,
   "metadata": {
    "_cell_guid": "b1076dfc-b9ad-4769-8c92-a6c4dae69d19",
    "_uuid": "8f2839f25d086af736a60e9eeb907d3b93b6e0e5",
    "execution": {
     "iopub.execute_input": "2020-10-14T16:12:15.780840Z",
     "iopub.status.busy": "2020-10-14T16:12:15.779974Z",
     "iopub.status.idle": "2020-10-14T16:12:15.787176Z",
     "shell.execute_reply": "2020-10-14T16:12:15.787986Z"
    },
    "papermill": {
     "duration": 0.042987,
     "end_time": "2020-10-14T16:12:15.788185",
     "exception": false,
     "start_time": "2020-10-14T16:12:15.745198",
     "status": "completed"
    },
    "tags": []
   },
   "outputs": [
    {
     "name": "stdout",
     "output_type": "stream",
     "text": [
      "/kaggle/input/prostate-cancer/Prostate_Cancer.csv\n"
     ]
    }
   ],
   "source": [
    "# This Python 3 environment comes with many helpful analytics libraries installed\n",
    "# It is defined by the kaggle/python Docker image: https://github.com/kaggle/docker-python\n",
    "# For example, here's several helpful packages to load\n",
    "\n",
    "import numpy as np # linear algebra\n",
    "import pandas as pd # data processing, CSV file I/O (e.g. pd.read_csv)\n",
    "\n",
    "# Input data files are available in the read-only \"../input/\" directory\n",
    "# For example, running this (by clicking run or pressing Shift+Enter) will list all files under the input directory\n",
    "\n",
    "import os\n",
    "for dirname, _, filenames in os.walk('/kaggle/input'):\n",
    "    for filename in filenames:\n",
    "        print(os.path.join(dirname, filename))\n",
    "\n",
    "# You can write up to 5GB to the current directory (/kaggle/working/) that gets preserved as output when you create a version using \"Save & Run All\" \n",
    "# You can also write temporary files to /kaggle/temp/, but they won't be saved outside of the current session"
   ]
  },
  {
   "cell_type": "markdown",
   "metadata": {
    "papermill": {
     "duration": 0.029353,
     "end_time": "2020-10-14T16:12:15.854795",
     "exception": false,
     "start_time": "2020-10-14T16:12:15.825442",
     "status": "completed"
    },
    "tags": []
   },
   "source": [
    "**In this study, we tried to predict Prostate Cancer using 6 different algorithm:**\n",
    "<ol>\n",
    "    <li>Logistic regression classification</li>\n",
    "    <li>SVM (Support Vector Machine) classification</li>\n",
    "    <li>Naive bayes classification</li>\n",
    "    <li>Decision tree classification</li>\n",
    "    <li>Random forest classification</li>\n",
    "    <li>K-Nearest Neighbor classification</li>\n",
    "</ol>\n",
    "\n",
    "**Predictor variable use in classifying Prostate and its features**\n",
    "<ol>\n",
    "    <li>radius (mean of distances from center to points on the perimeter)</li>\n",
    "    <li>texture (standard deviation of gray-scale values)</li>\n",
    "    <li>perimeter</li>\n",
    "    <li>area</li>\n",
    "    <li>smoothness (local variation in radius lengths)</li>\n",
    "</ol>"
   ]
  },
  {
   "cell_type": "markdown",
   "metadata": {
    "papermill": {
     "duration": 0.029247,
     "end_time": "2020-10-14T16:12:15.913857",
     "exception": false,
     "start_time": "2020-10-14T16:12:15.884610",
     "status": "completed"
    },
    "tags": []
   },
   "source": [
    "We measure the study of 7 different algorithms using a confusion matrix."
   ]
  },
  {
   "cell_type": "markdown",
   "metadata": {
    "papermill": {
     "duration": 0.028972,
     "end_time": "2020-10-14T16:12:15.972643",
     "exception": false,
     "start_time": "2020-10-14T16:12:15.943671",
     "status": "completed"
    },
    "tags": []
   },
   "source": [
    "# IMPORTING LIBRARIES"
   ]
  },
  {
   "cell_type": "code",
   "execution_count": 2,
   "metadata": {
    "_cell_guid": "79c7e3d0-c299-4dcb-8224-4455121ee9b0",
    "_uuid": "d629ff2d2480ee46fbb7e2d37f6b5fab8052498a",
    "execution": {
     "iopub.execute_input": "2020-10-14T16:12:16.036970Z",
     "iopub.status.busy": "2020-10-14T16:12:16.036239Z",
     "iopub.status.idle": "2020-10-14T16:12:16.990930Z",
     "shell.execute_reply": "2020-10-14T16:12:16.990232Z"
    },
    "papermill": {
     "duration": 0.988824,
     "end_time": "2020-10-14T16:12:16.991046",
     "exception": false,
     "start_time": "2020-10-14T16:12:16.002222",
     "status": "completed"
    },
    "tags": []
   },
   "outputs": [],
   "source": [
    "import numpy as np \n",
    "import pandas as pd \n",
    "import matplotlib.pyplot as plt\n",
    "import seaborn as sns\n",
    "\n",
    "from sklearn import preprocessing\n",
    "from sklearn.preprocessing import MinMaxScaler"
   ]
  },
  {
   "cell_type": "markdown",
   "metadata": {
    "papermill": {
     "duration": 0.029433,
     "end_time": "2020-10-14T16:12:17.050202",
     "exception": false,
     "start_time": "2020-10-14T16:12:17.020769",
     "status": "completed"
    },
    "tags": []
   },
   "source": [
    "# Exploratory Data Analysis"
   ]
  },
  {
   "cell_type": "code",
   "execution_count": 3,
   "metadata": {
    "execution": {
     "iopub.execute_input": "2020-10-14T16:12:17.115440Z",
     "iopub.status.busy": "2020-10-14T16:12:17.114774Z",
     "iopub.status.idle": "2020-10-14T16:12:17.157284Z",
     "shell.execute_reply": "2020-10-14T16:12:17.157762Z"
    },
    "papermill": {
     "duration": 0.078495,
     "end_time": "2020-10-14T16:12:17.157920",
     "exception": false,
     "start_time": "2020-10-14T16:12:17.079425",
     "status": "completed"
    },
    "tags": []
   },
   "outputs": [
    {
     "name": "stdout",
     "output_type": "stream",
     "text": [
      "Dataset : (100, 10)\n",
      "<class 'pandas.core.frame.DataFrame'>\n",
      "RangeIndex: 100 entries, 0 to 99\n",
      "Data columns (total 10 columns):\n",
      " #   Column             Non-Null Count  Dtype  \n",
      "---  ------             --------------  -----  \n",
      " 0   id                 100 non-null    int64  \n",
      " 1   diagnosis_result   100 non-null    object \n",
      " 2   radius             100 non-null    int64  \n",
      " 3   texture            100 non-null    int64  \n",
      " 4   perimeter          100 non-null    int64  \n",
      " 5   area               100 non-null    int64  \n",
      " 6   smoothness         100 non-null    float64\n",
      " 7   compactness        100 non-null    float64\n",
      " 8   symmetry           100 non-null    float64\n",
      " 9   fractal_dimension  100 non-null    float64\n",
      "dtypes: float64(4), int64(5), object(1)\n",
      "memory usage: 7.9+ KB\n"
     ]
    },
    {
     "data": {
      "text/html": [
       "<div>\n",
       "<style scoped>\n",
       "    .dataframe tbody tr th:only-of-type {\n",
       "        vertical-align: middle;\n",
       "    }\n",
       "\n",
       "    .dataframe tbody tr th {\n",
       "        vertical-align: top;\n",
       "    }\n",
       "\n",
       "    .dataframe thead th {\n",
       "        text-align: right;\n",
       "    }\n",
       "</style>\n",
       "<table border=\"1\" class=\"dataframe\">\n",
       "  <thead>\n",
       "    <tr style=\"text-align: right;\">\n",
       "      <th></th>\n",
       "      <th>id</th>\n",
       "      <th>diagnosis_result</th>\n",
       "      <th>radius</th>\n",
       "      <th>texture</th>\n",
       "      <th>perimeter</th>\n",
       "      <th>area</th>\n",
       "      <th>smoothness</th>\n",
       "      <th>compactness</th>\n",
       "      <th>symmetry</th>\n",
       "      <th>fractal_dimension</th>\n",
       "    </tr>\n",
       "  </thead>\n",
       "  <tbody>\n",
       "    <tr>\n",
       "      <th>0</th>\n",
       "      <td>1</td>\n",
       "      <td>M</td>\n",
       "      <td>23</td>\n",
       "      <td>12</td>\n",
       "      <td>151</td>\n",
       "      <td>954</td>\n",
       "      <td>0.143</td>\n",
       "      <td>0.278</td>\n",
       "      <td>0.242</td>\n",
       "      <td>0.079</td>\n",
       "    </tr>\n",
       "    <tr>\n",
       "      <th>1</th>\n",
       "      <td>2</td>\n",
       "      <td>B</td>\n",
       "      <td>9</td>\n",
       "      <td>13</td>\n",
       "      <td>133</td>\n",
       "      <td>1326</td>\n",
       "      <td>0.143</td>\n",
       "      <td>0.079</td>\n",
       "      <td>0.181</td>\n",
       "      <td>0.057</td>\n",
       "    </tr>\n",
       "    <tr>\n",
       "      <th>2</th>\n",
       "      <td>3</td>\n",
       "      <td>M</td>\n",
       "      <td>21</td>\n",
       "      <td>27</td>\n",
       "      <td>130</td>\n",
       "      <td>1203</td>\n",
       "      <td>0.125</td>\n",
       "      <td>0.160</td>\n",
       "      <td>0.207</td>\n",
       "      <td>0.060</td>\n",
       "    </tr>\n",
       "    <tr>\n",
       "      <th>3</th>\n",
       "      <td>4</td>\n",
       "      <td>M</td>\n",
       "      <td>14</td>\n",
       "      <td>16</td>\n",
       "      <td>78</td>\n",
       "      <td>386</td>\n",
       "      <td>0.070</td>\n",
       "      <td>0.284</td>\n",
       "      <td>0.260</td>\n",
       "      <td>0.097</td>\n",
       "    </tr>\n",
       "    <tr>\n",
       "      <th>4</th>\n",
       "      <td>5</td>\n",
       "      <td>M</td>\n",
       "      <td>9</td>\n",
       "      <td>19</td>\n",
       "      <td>135</td>\n",
       "      <td>1297</td>\n",
       "      <td>0.141</td>\n",
       "      <td>0.133</td>\n",
       "      <td>0.181</td>\n",
       "      <td>0.059</td>\n",
       "    </tr>\n",
       "    <tr>\n",
       "      <th>5</th>\n",
       "      <td>6</td>\n",
       "      <td>B</td>\n",
       "      <td>25</td>\n",
       "      <td>25</td>\n",
       "      <td>83</td>\n",
       "      <td>477</td>\n",
       "      <td>0.128</td>\n",
       "      <td>0.170</td>\n",
       "      <td>0.209</td>\n",
       "      <td>0.076</td>\n",
       "    </tr>\n",
       "    <tr>\n",
       "      <th>6</th>\n",
       "      <td>7</td>\n",
       "      <td>M</td>\n",
       "      <td>16</td>\n",
       "      <td>26</td>\n",
       "      <td>120</td>\n",
       "      <td>1040</td>\n",
       "      <td>0.095</td>\n",
       "      <td>0.109</td>\n",
       "      <td>0.179</td>\n",
       "      <td>0.057</td>\n",
       "    </tr>\n",
       "    <tr>\n",
       "      <th>7</th>\n",
       "      <td>8</td>\n",
       "      <td>M</td>\n",
       "      <td>15</td>\n",
       "      <td>18</td>\n",
       "      <td>90</td>\n",
       "      <td>578</td>\n",
       "      <td>0.119</td>\n",
       "      <td>0.165</td>\n",
       "      <td>0.220</td>\n",
       "      <td>0.075</td>\n",
       "    </tr>\n",
       "    <tr>\n",
       "      <th>8</th>\n",
       "      <td>9</td>\n",
       "      <td>M</td>\n",
       "      <td>19</td>\n",
       "      <td>24</td>\n",
       "      <td>88</td>\n",
       "      <td>520</td>\n",
       "      <td>0.127</td>\n",
       "      <td>0.193</td>\n",
       "      <td>0.235</td>\n",
       "      <td>0.074</td>\n",
       "    </tr>\n",
       "    <tr>\n",
       "      <th>9</th>\n",
       "      <td>10</td>\n",
       "      <td>M</td>\n",
       "      <td>25</td>\n",
       "      <td>11</td>\n",
       "      <td>84</td>\n",
       "      <td>476</td>\n",
       "      <td>0.119</td>\n",
       "      <td>0.240</td>\n",
       "      <td>0.203</td>\n",
       "      <td>0.082</td>\n",
       "    </tr>\n",
       "  </tbody>\n",
       "</table>\n",
       "</div>"
      ],
      "text/plain": [
       "   id diagnosis_result  radius  texture  perimeter  area  smoothness  \\\n",
       "0   1                M      23       12        151   954       0.143   \n",
       "1   2                B       9       13        133  1326       0.143   \n",
       "2   3                M      21       27        130  1203       0.125   \n",
       "3   4                M      14       16         78   386       0.070   \n",
       "4   5                M       9       19        135  1297       0.141   \n",
       "5   6                B      25       25         83   477       0.128   \n",
       "6   7                M      16       26        120  1040       0.095   \n",
       "7   8                M      15       18         90   578       0.119   \n",
       "8   9                M      19       24         88   520       0.127   \n",
       "9  10                M      25       11         84   476       0.119   \n",
       "\n",
       "   compactness  symmetry  fractal_dimension  \n",
       "0        0.278     0.242              0.079  \n",
       "1        0.079     0.181              0.057  \n",
       "2        0.160     0.207              0.060  \n",
       "3        0.284     0.260              0.097  \n",
       "4        0.133     0.181              0.059  \n",
       "5        0.170     0.209              0.076  \n",
       "6        0.109     0.179              0.057  \n",
       "7        0.165     0.220              0.075  \n",
       "8        0.193     0.235              0.074  \n",
       "9        0.240     0.203              0.082  "
      ]
     },
     "execution_count": 3,
     "metadata": {},
     "output_type": "execute_result"
    }
   ],
   "source": [
    "df = pd.read_csv('/kaggle/input/prostate-cancer/Prostate_Cancer.csv')\n",
    "print('Dataset :',df.shape)\n",
    "x = df.iloc[:, [0, 1, 2, 3]].values\n",
    "df.info()\n",
    "df[0:10]"
   ]
  },
  {
   "cell_type": "markdown",
   "metadata": {
    "papermill": {
     "duration": 0.031038,
     "end_time": "2020-10-14T16:12:17.220002",
     "exception": false,
     "start_time": "2020-10-14T16:12:17.188964",
     "status": "completed"
    },
    "tags": []
   },
   "source": [
    "# DIAGNOSIS Explanation"
   ]
  },
  {
   "cell_type": "markdown",
   "metadata": {
    "papermill": {
     "duration": 0.03009,
     "end_time": "2020-10-14T16:12:17.280349",
     "exception": false,
     "start_time": "2020-10-14T16:12:17.250259",
     "status": "completed"
    },
    "tags": []
   },
   "source": [
    "**Diagnosis of prostate cancer is based on Type of tumour found in the medical test.**"
   ]
  },
  {
   "cell_type": "markdown",
   "metadata": {
    "papermill": {
     "duration": 0.030285,
     "end_time": "2020-10-14T16:12:17.341676",
     "exception": false,
     "start_time": "2020-10-14T16:12:17.311391",
     "status": "completed"
    },
    "tags": []
   },
   "source": [
    "**Beningn Tumour: Noncancerous**\n",
    "\n",
    "If the cells are not cancerous, the tumor is benign. It won't invade nearby tissues or spread to other areas of the body (metastasize). A benign tumor is less worrisome unless it is pressing on nearby tissues, nerves, or blood vessels and causing damage.1\n",
    "\n",
    "﻿ Fibroids in the uterus or lipomas are examples of benign tumors. \n",
    "Benign tumors may need to be removed by surgery.\n",
    "\n",
    "**Malignant Tumour: Cancerous**\n",
    "\n",
    "Malignant means that the tumor is made of cancer cells, and it can invade nearby tissues. Some cancer cells can move into the bloodstream or lymph nodes, where they can spread to other tissues within the body—this is called metastasis.\n",
    "\n",
    "Now For Conveinent Purpose Diagnosis Result in the Table Can be Changed to following:\n",
    "\n",
    "M = '1' Which Indicates diagnosis of Prostate Cancer \n",
    "B = '0' which Indicates patient doesn't have Prostate Cancer and not Harmful. "
   ]
  },
  {
   "cell_type": "code",
   "execution_count": 4,
   "metadata": {
    "execution": {
     "iopub.execute_input": "2020-10-14T16:12:17.410670Z",
     "iopub.status.busy": "2020-10-14T16:12:17.409897Z",
     "iopub.status.idle": "2020-10-14T16:12:17.412694Z",
     "shell.execute_reply": "2020-10-14T16:12:17.412131Z"
    },
    "papermill": {
     "duration": 0.040329,
     "end_time": "2020-10-14T16:12:17.412798",
     "exception": false,
     "start_time": "2020-10-14T16:12:17.372469",
     "status": "completed"
    },
    "tags": []
   },
   "outputs": [],
   "source": [
    "df['diagnosis_result'] = df['diagnosis_result'].replace(['B'],'0')\n",
    "df['diagnosis_result'] = df['diagnosis_result'].replace(['M'],'1')"
   ]
  },
  {
   "cell_type": "code",
   "execution_count": 5,
   "metadata": {
    "execution": {
     "iopub.execute_input": "2020-10-14T16:12:17.479790Z",
     "iopub.status.busy": "2020-10-14T16:12:17.479179Z",
     "iopub.status.idle": "2020-10-14T16:12:17.491752Z",
     "shell.execute_reply": "2020-10-14T16:12:17.491145Z"
    },
    "papermill": {
     "duration": 0.048171,
     "end_time": "2020-10-14T16:12:17.491855",
     "exception": false,
     "start_time": "2020-10-14T16:12:17.443684",
     "status": "completed"
    },
    "tags": []
   },
   "outputs": [
    {
     "name": "stdout",
     "output_type": "stream",
     "text": [
      "<class 'pandas.core.frame.DataFrame'>\n",
      "RangeIndex: 100 entries, 0 to 99\n",
      "Data columns (total 10 columns):\n",
      " #   Column             Non-Null Count  Dtype  \n",
      "---  ------             --------------  -----  \n",
      " 0   id                 100 non-null    int64  \n",
      " 1   diagnosis_result   100 non-null    int64  \n",
      " 2   radius             100 non-null    int64  \n",
      " 3   texture            100 non-null    int64  \n",
      " 4   perimeter          100 non-null    int64  \n",
      " 5   area               100 non-null    int64  \n",
      " 6   smoothness         100 non-null    float64\n",
      " 7   compactness        100 non-null    float64\n",
      " 8   symmetry           100 non-null    float64\n",
      " 9   fractal_dimension  100 non-null    float64\n",
      "dtypes: float64(4), int64(6)\n",
      "memory usage: 7.9 KB\n"
     ]
    }
   ],
   "source": [
    "df[['diagnosis_result']] = df[['diagnosis_result']].apply(pd.to_numeric, errors ='ignore')\n",
    "df.info()"
   ]
  },
  {
   "cell_type": "code",
   "execution_count": 6,
   "metadata": {
    "execution": {
     "iopub.execute_input": "2020-10-14T16:12:17.561056Z",
     "iopub.status.busy": "2020-10-14T16:12:17.560104Z",
     "iopub.status.idle": "2020-10-14T16:12:17.563866Z",
     "shell.execute_reply": "2020-10-14T16:12:17.563295Z"
    },
    "papermill": {
     "duration": 0.0411,
     "end_time": "2020-10-14T16:12:17.563993",
     "exception": false,
     "start_time": "2020-10-14T16:12:17.522893",
     "status": "completed"
    },
    "tags": []
   },
   "outputs": [
    {
     "data": {
      "text/plain": [
       "1    62\n",
       "0    38\n",
       "Name: diagnosis_result, dtype: int64"
      ]
     },
     "execution_count": 6,
     "metadata": {},
     "output_type": "execute_result"
    }
   ],
   "source": [
    "df['diagnosis_result'].value_counts()"
   ]
  },
  {
   "cell_type": "code",
   "execution_count": 7,
   "metadata": {
    "execution": {
     "iopub.execute_input": "2020-10-14T16:12:17.632586Z",
     "iopub.status.busy": "2020-10-14T16:12:17.631811Z",
     "iopub.status.idle": "2020-10-14T16:12:17.791919Z",
     "shell.execute_reply": "2020-10-14T16:12:17.791392Z"
    },
    "papermill": {
     "duration": 0.196733,
     "end_time": "2020-10-14T16:12:17.792037",
     "exception": false,
     "start_time": "2020-10-14T16:12:17.595304",
     "status": "completed"
    },
    "tags": []
   },
   "outputs": [
    {
     "data": {
      "image/png": "[encoded data removed]",
      "text/plain": [
       "<Figure size 432x288 with 1 Axes>"
      ]
     },
     "metadata": {
      "needs_background": "light"
     },
     "output_type": "display_data"
    }
   ],
   "source": [
    "df.diagnosis_result.value_counts()[0:30].plot(kind='bar')\n",
    "plt.show()"
   ]
  },
  {
   "cell_type": "markdown",
   "metadata": {
    "papermill": {
     "duration": 0.03163,
     "end_time": "2020-10-14T16:12:17.856311",
     "exception": false,
     "start_time": "2020-10-14T16:12:17.824681",
     "status": "completed"
    },
    "tags": []
   },
   "source": [
    "**Distribution of diagnosis 68 benign  38 malignant with Cancer**"
   ]
  },
  {
   "cell_type": "markdown",
   "metadata": {
    "papermill": {
     "duration": 0.031703,
     "end_time": "2020-10-14T16:12:17.919965",
     "exception": false,
     "start_time": "2020-10-14T16:12:17.888262",
     "status": "completed"
    },
    "tags": []
   },
   "source": [
    "# VISUALIZATION"
   ]
  },
  {
   "cell_type": "code",
   "execution_count": 8,
   "metadata": {
    "execution": {
     "iopub.execute_input": "2020-10-14T16:12:17.999130Z",
     "iopub.status.busy": "2020-10-14T16:12:17.995173Z",
     "iopub.status.idle": "2020-10-14T16:12:18.200984Z",
     "shell.execute_reply": "2020-10-14T16:12:18.200314Z"
    },
    "papermill": {
     "duration": 0.249098,
     "end_time": "2020-10-14T16:12:18.201107",
     "exception": false,
     "start_time": "2020-10-14T16:12:17.952009",
     "status": "completed"
    },
    "tags": []
   },
   "outputs": [
    {
     "data": {
      "text/plain": [
       "<matplotlib.axes._subplots.AxesSubplot at 0x7f59f10896d0>"
      ]
     },
     "execution_count": 8,
     "metadata": {},
     "output_type": "execute_result"
    },
    {
     "data": {
      "image/png": "[encoded data removed]",
      "text/plain": [
       "<Figure size 432x288 with 2 Axes>"
      ]
     },
     "metadata": {
      "needs_background": "light"
     },
     "output_type": "display_data"
    }
   ],
   "source": [
    "df = df[['radius','texture','perimeter','area', 'smoothness','diagnosis_result']] #Subsetting the data\n",
    "cor = df.corr() #Calculate the correlation of the above variables\n",
    "sns.heatmap(cor, square = True) #Plot the correlation as heat map"
   ]
  },
  {
   "cell_type": "markdown",
   "metadata": {
    "papermill": {
     "duration": 0.033478,
     "end_time": "2020-10-14T16:12:18.268422",
     "exception": false,
     "start_time": "2020-10-14T16:12:18.234944",
     "status": "completed"
    },
    "tags": []
   },
   "source": [
    "As you can see above, we obtain the heatmap of correlation among the variables. The color palette in the side represents the amount of correlation among the variables. The lighter shade represents a high correlation."
   ]
  },
  {
   "cell_type": "code",
   "execution_count": 9,
   "metadata": {
    "execution": {
     "iopub.execute_input": "2020-10-14T16:12:18.340613Z",
     "iopub.status.busy": "2020-10-14T16:12:18.340041Z",
     "iopub.status.idle": "2020-10-14T16:12:26.263558Z",
     "shell.execute_reply": "2020-10-14T16:12:26.264065Z"
    },
    "papermill": {
     "duration": 7.962566,
     "end_time": "2020-10-14T16:12:26.264212",
     "exception": false,
     "start_time": "2020-10-14T16:12:18.301646",
     "status": "completed"
    },
    "tags": []
   },
   "outputs": [
    {
     "name": "stderr",
     "output_type": "stream",
     "text": [
      "/opt/conda/lib/python3.7/site-packages/seaborn/axisgrid.py:2079: UserWarning: The `size` parameter has been renamed to `height`; please update your code.\n",
      "  warnings.warn(msg, UserWarning)\n"
     ]
    },
    {
     "data": {
      "image/png": "[encoded data removed]",
      "text/plain": [
       "<Figure size 1168.88x1080 with 30 Axes>"
      ]
     },
     "metadata": {},
     "output_type": "display_data"
    }
   ],
   "source": [
    "sns.set_style(\"ticks\")\n",
    "sns.pairplot(df,hue=\"diagnosis_result\",size=3);\n",
    "plt.show()"
   ]
  },
  {
   "cell_type": "markdown",
   "metadata": {
    "papermill": {
     "duration": 0.038215,
     "end_time": "2020-10-14T16:12:26.340955",
     "exception": false,
     "start_time": "2020-10-14T16:12:26.302740",
     "status": "completed"
    },
    "tags": []
   },
   "source": [
    "Data for training and testing To select a set of training data that will be input in the Machine Learning algorithm, to ensure that the classification algorithm training can be generalized well to new data. For this study using a sample size of 20%, assumed it ideal ratio between training and testing"
   ]
  },
  {
   "cell_type": "code",
   "execution_count": 10,
   "metadata": {
    "execution": {
     "iopub.execute_input": "2020-10-14T16:12:26.423338Z",
     "iopub.status.busy": "2020-10-14T16:12:26.422680Z",
     "iopub.status.idle": "2020-10-14T16:12:26.478824Z",
     "shell.execute_reply": "2020-10-14T16:12:26.478166Z"
    },
    "papermill": {
     "duration": 0.099457,
     "end_time": "2020-10-14T16:12:26.478958",
     "exception": false,
     "start_time": "2020-10-14T16:12:26.379501",
     "status": "completed"
    },
    "tags": []
   },
   "outputs": [],
   "source": [
    "from sklearn.model_selection import train_test_split\n",
    "Y = df['diagnosis_result']\n",
    "X = df.drop(columns=['diagnosis_result'])\n",
    "X_train, X_test, Y_train, Y_test = train_test_split(X, Y, test_size=0.2, random_state=9)"
   ]
  },
  {
   "cell_type": "code",
   "execution_count": 11,
   "metadata": {
    "execution": {
     "iopub.execute_input": "2020-10-14T16:12:26.561149Z",
     "iopub.status.busy": "2020-10-14T16:12:26.560369Z",
     "iopub.status.idle": "2020-10-14T16:12:26.564895Z",
     "shell.execute_reply": "2020-10-14T16:12:26.564083Z"
    },
    "papermill": {
     "duration": 0.047671,
     "end_time": "2020-10-14T16:12:26.565034",
     "exception": false,
     "start_time": "2020-10-14T16:12:26.517363",
     "status": "completed"
    },
    "tags": []
   },
   "outputs": [
    {
     "name": "stdout",
     "output_type": "stream",
     "text": [
      "X train shape:  (80, 5)\n",
      "Y train shape:  (80,)\n",
      "X test shape:  (20, 5)\n",
      "Y test shape:  (20,)\n"
     ]
    }
   ],
   "source": [
    "print('X train shape: ', X_train.shape)\n",
    "print('Y train shape: ', Y_train.shape)\n",
    "print('X test shape: ', X_test.shape)\n",
    "print('Y test shape: ', Y_test.shape)"
   ]
  },
  {
   "cell_type": "markdown",
   "metadata": {
    "papermill": {
     "duration": 0.038245,
     "end_time": "2020-10-14T16:12:26.642554",
     "exception": false,
     "start_time": "2020-10-14T16:12:26.604309",
     "status": "completed"
    },
    "tags": []
   },
   "source": [
    "# 1. Logistic regression classification"
   ]
  },
  {
   "cell_type": "markdown",
   "metadata": {
    "papermill": {
     "duration": 0.038254,
     "end_time": "2020-10-14T16:12:26.719581",
     "exception": false,
     "start_time": "2020-10-14T16:12:26.681327",
     "status": "completed"
    },
    "tags": []
   },
   "source": [
    "Logistic regression is a technique that can be applied to binary classification problems. This technique uses the logistic function or sigmoid function, which is an S-shaped curve that can assume any real value number and assign it to a value between 0 and 1, but never exactly in those limits. Thus, logistic regression models the probability of the default class (the probability that an input  (X)  belongs to the default class  (Y=1) )  (P(X)=P(Y=1|X)) . In order to make the prediction of the probability, the logistic function is used, which allows us to obtain the log-odds or the probit. Thus, the model is a linear combination of the inputs, but that this linear combination relates to the log-odds of the default class.\n",
    "\n",
    "Started from make an instance of the model setting the default values. Specify the inverse of the regularization strength in 10. Trained the logistic regression model with the training data, and then applied such model to the test data."
   ]
  },
  {
   "cell_type": "code",
   "execution_count": 12,
   "metadata": {
    "execution": {
     "iopub.execute_input": "2020-10-14T16:12:26.801837Z",
     "iopub.status.busy": "2020-10-14T16:12:26.801244Z",
     "iopub.status.idle": "2020-10-14T16:12:26.899014Z",
     "shell.execute_reply": "2020-10-14T16:12:26.898486Z"
    },
    "papermill": {
     "duration": 0.140904,
     "end_time": "2020-10-14T16:12:26.899138",
     "exception": false,
     "start_time": "2020-10-14T16:12:26.758234",
     "status": "completed"
    },
    "tags": []
   },
   "outputs": [],
   "source": [
    "from sklearn.linear_model import LogisticRegression\n",
    "\n",
    "# We defining the model\n",
    "logreg = LogisticRegression(C=10)\n",
    "\n",
    "# We train the model\n",
    "logreg.fit(X_train, Y_train)\n",
    "\n",
    "# We predict target values\n",
    "Y_predict1 = logreg.predict(X_test)"
   ]
  },
  {
   "cell_type": "code",
   "execution_count": 13,
   "metadata": {
    "execution": {
     "iopub.execute_input": "2020-10-14T16:12:26.991310Z",
     "iopub.status.busy": "2020-10-14T16:12:26.990331Z",
     "iopub.status.idle": "2020-10-14T16:12:27.137846Z",
     "shell.execute_reply": "2020-10-14T16:12:27.137237Z"
    },
    "papermill": {
     "duration": 0.199869,
     "end_time": "2020-10-14T16:12:27.137979",
     "exception": false,
     "start_time": "2020-10-14T16:12:26.938110",
     "status": "completed"
    },
    "tags": []
   },
   "outputs": [
    {
     "data": {
      "image/png": "[encoded data removed]",
      "text/plain": [
       "<Figure size 360x360 with 2 Axes>"
      ]
     },
     "metadata": {},
     "output_type": "display_data"
    }
   ],
   "source": [
    "# The confusion matrix\n",
    "from sklearn.metrics import confusion_matrix\n",
    "import seaborn as sns\n",
    "\n",
    "logreg_cm = confusion_matrix(Y_test, Y_predict1)\n",
    "f, ax = plt.subplots(figsize=(5,5))\n",
    "sns.heatmap(logreg_cm, annot=True, linewidth=0.7, linecolor='red', fmt='g', ax=ax, cmap=\"BuPu\")\n",
    "plt.title('Logistic Regression Classification Confusion Matrix')\n",
    "plt.xlabel('Y predict')\n",
    "plt.ylabel('Y test')\n",
    "plt.show()"
   ]
  },
  {
   "cell_type": "code",
   "execution_count": 14,
   "metadata": {
    "execution": {
     "iopub.execute_input": "2020-10-14T16:12:27.225169Z",
     "iopub.status.busy": "2020-10-14T16:12:27.224387Z",
     "iopub.status.idle": "2020-10-14T16:12:27.227743Z",
     "shell.execute_reply": "2020-10-14T16:12:27.227241Z"
    },
    "papermill": {
     "duration": 0.049937,
     "end_time": "2020-10-14T16:12:27.227848",
     "exception": false,
     "start_time": "2020-10-14T16:12:27.177911",
     "status": "completed"
    },
    "tags": []
   },
   "outputs": [
    {
     "name": "stdout",
     "output_type": "stream",
     "text": [
      "0.8\n"
     ]
    }
   ],
   "source": [
    "# Test score\n",
    "score_logreg = logreg.score(X_test, Y_test)\n",
    "print(score_logreg)"
   ]
  },
  {
   "cell_type": "code",
   "execution_count": 15,
   "metadata": {
    "execution": {
     "iopub.execute_input": "2020-10-14T16:12:27.313718Z",
     "iopub.status.busy": "2020-10-14T16:12:27.312839Z",
     "iopub.status.idle": "2020-10-14T16:12:27.318490Z",
     "shell.execute_reply": "2020-10-14T16:12:27.317821Z"
    },
    "papermill": {
     "duration": 0.050403,
     "end_time": "2020-10-14T16:12:27.318601",
     "exception": false,
     "start_time": "2020-10-14T16:12:27.268198",
     "status": "completed"
    },
    "tags": []
   },
   "outputs": [
    {
     "name": "stdout",
     "output_type": "stream",
     "text": [
      "Average precision-recall score: 0.90\n"
     ]
    }
   ],
   "source": [
    "#precision and recall\n",
    "from sklearn.metrics import average_precision_score\n",
    "average_precision = average_precision_score(Y_test, Y_predict1)\n",
    "\n",
    "print('Average precision-recall score: {0:0.2f}'.format(average_precision))"
   ]
  },
  {
   "cell_type": "markdown",
   "metadata": {
    "papermill": {
     "duration": 0.04045,
     "end_time": "2020-10-14T16:12:27.400231",
     "exception": false,
     "start_time": "2020-10-14T16:12:27.359781",
     "status": "completed"
    },
    "tags": []
   },
   "source": [
    "# 2. SVM (Support Vector Machine) classification"
   ]
  },
  {
   "cell_type": "markdown",
   "metadata": {
    "papermill": {
     "duration": 0.040046,
     "end_time": "2020-10-14T16:12:27.481329",
     "exception": false,
     "start_time": "2020-10-14T16:12:27.441283",
     "status": "completed"
    },
    "tags": []
   },
   "source": [
    "SVMs (Support Vector Machine) have shown a rapid proliferation during the last years. The learning problem setting for SVMs corresponds to a some unknown and nonlinear dependency (mapping, function)  y=f(x)  between some high-dimensional input vector  x  and scalar output  y . It is noteworthy that there is no information on the joint probability functions, therefore, a free distribution learning must be carried out. The only information available is a training data set  D=(xi,yi)∈X×Y,i=1 ,  l , where  l  stands for the number of the training data pairs and is therefore equal to the size of the training data set  D , additionally,  yi  is denoted as  di , where  d  stands for a desired (target) value. Hence, SVMs belong to the supervised learning techniques.\n",
    "\n",
    "From the classification approach, the goal of SVM is to find a hyperplane in an N-dimensional space that clearly classifies the data points. Thus hyperplanes are decision boundaries that help classify the data points. Data points falling on either side of the hyperplane can be attributed to different classes"
   ]
  },
  {
   "cell_type": "code",
   "execution_count": 16,
   "metadata": {
    "execution": {
     "iopub.execute_input": "2020-10-14T16:12:27.568624Z",
     "iopub.status.busy": "2020-10-14T16:12:27.567894Z",
     "iopub.status.idle": "2020-10-14T16:12:29.245240Z",
     "shell.execute_reply": "2020-10-14T16:12:29.244522Z"
    },
    "papermill": {
     "duration": 1.723353,
     "end_time": "2020-10-14T16:12:29.245364",
     "exception": false,
     "start_time": "2020-10-14T16:12:27.522011",
     "status": "completed"
    },
    "tags": []
   },
   "outputs": [],
   "source": [
    "from sklearn.ensemble import BaggingClassifier\n",
    "from sklearn.multiclass import OneVsRestClassifier\n",
    "from sklearn.svm import SVC\n",
    "\n",
    "# We define the SVM model\n",
    "svmcla = OneVsRestClassifier(BaggingClassifier(SVC(C=10,kernel='rbf',random_state=9, probability=True),n_jobs=-1))\n",
    "\n",
    "# We train model\n",
    "svmcla.fit(X_train, Y_train)\n",
    "\n",
    "# We predict target values\n",
    "Y_predict2 = svmcla.predict(X_test)"
   ]
  },
  {
   "cell_type": "code",
   "execution_count": 17,
   "metadata": {
    "execution": {
     "iopub.execute_input": "2020-10-14T16:12:29.343739Z",
     "iopub.status.busy": "2020-10-14T16:12:29.341579Z",
     "iopub.status.idle": "2020-10-14T16:12:29.492081Z",
     "shell.execute_reply": "2020-10-14T16:12:29.491461Z"
    },
    "papermill": {
     "duration": 0.204267,
     "end_time": "2020-10-14T16:12:29.492194",
     "exception": false,
     "start_time": "2020-10-14T16:12:29.287927",
     "status": "completed"
    },
    "tags": []
   },
   "outputs": [
    {
     "data": {
      "image/png": "[encoded data removed]",
      "text/plain": [
       "<Figure size 360x360 with 2 Axes>"
      ]
     },
     "metadata": {},
     "output_type": "display_data"
    }
   ],
   "source": [
    "# The confusion matrix\n",
    "svmcla_cm = confusion_matrix(Y_test, Y_predict2)\n",
    "f, ax = plt.subplots(figsize=(5,5))\n",
    "sns.heatmap(svmcla_cm, annot=True, linewidth=0.7, linecolor='red', fmt='g', ax=ax, cmap=\"BuPu\")\n",
    "plt.title('SVM Classification Confusion Matrix')\n",
    "plt.xlabel('Y predict')\n",
    "plt.ylabel('Y test')\n",
    "plt.show()"
   ]
  },
  {
   "cell_type": "code",
   "execution_count": 18,
   "metadata": {
    "execution": {
     "iopub.execute_input": "2020-10-14T16:12:29.581763Z",
     "iopub.status.busy": "2020-10-14T16:12:29.581137Z",
     "iopub.status.idle": "2020-10-14T16:12:29.598220Z",
     "shell.execute_reply": "2020-10-14T16:12:29.597529Z"
    },
    "papermill": {
     "duration": 0.064659,
     "end_time": "2020-10-14T16:12:29.598338",
     "exception": false,
     "start_time": "2020-10-14T16:12:29.533679",
     "status": "completed"
    },
    "tags": []
   },
   "outputs": [
    {
     "name": "stdout",
     "output_type": "stream",
     "text": [
      "0.8\n"
     ]
    }
   ],
   "source": [
    "# Test score\n",
    "score_svmcla = svmcla.score(X_test, Y_test)\n",
    "print(score_svmcla)"
   ]
  },
  {
   "cell_type": "code",
   "execution_count": 19,
   "metadata": {
    "execution": {
     "iopub.execute_input": "2020-10-14T16:12:29.687675Z",
     "iopub.status.busy": "2020-10-14T16:12:29.687089Z",
     "iopub.status.idle": "2020-10-14T16:12:29.691902Z",
     "shell.execute_reply": "2020-10-14T16:12:29.691208Z"
    },
    "papermill": {
     "duration": 0.051795,
     "end_time": "2020-10-14T16:12:29.692041",
     "exception": false,
     "start_time": "2020-10-14T16:12:29.640246",
     "status": "completed"
    },
    "tags": []
   },
   "outputs": [
    {
     "name": "stdout",
     "output_type": "stream",
     "text": [
      "Average precision-recall score: 0.95\n"
     ]
    }
   ],
   "source": [
    "#precision and recall\n",
    "from sklearn.metrics import average_precision_score\n",
    "average_precision = average_precision_score(Y_test, Y_predict2)\n",
    "\n",
    "print('Average precision-recall score: {0:0.2f}'.format(average_precision))"
   ]
  },
  {
   "cell_type": "markdown",
   "metadata": {
    "papermill": {
     "duration": 0.042201,
     "end_time": "2020-10-14T16:12:29.777068",
     "exception": false,
     "start_time": "2020-10-14T16:12:29.734867",
     "status": "completed"
    },
    "tags": []
   },
   "source": [
    "# 3. Naive bayes classification"
   ]
  },
  {
   "cell_type": "markdown",
   "metadata": {
    "papermill": {
     "duration": 0.041929,
     "end_time": "2020-10-14T16:12:29.861519",
     "exception": false,
     "start_time": "2020-10-14T16:12:29.819590",
     "status": "completed"
    },
    "tags": []
   },
   "source": [
    "The naive Bayesian classifier is a probabilistic classifier based on Bayes' theorem with strong independence assumptions between the features. Thus, using Bayes theorem  (P(X|Y)=P(Y|X)P(X)P(Y)) , we can find the probability of  X  happening, given that  Y  has occurred. Here,  Y  is the evidence and  X  is the hypothesis. The assumption made here is that the presence of one particular feature does not affect the other (the predictors/features are independent). Hence it is called naive. In this case we will assume that we assume the values are sampled from a Gaussian distribution and therefore we consider a Gaussian Naive Bayes."
   ]
  },
  {
   "cell_type": "code",
   "execution_count": 20,
   "metadata": {
    "execution": {
     "iopub.execute_input": "2020-10-14T16:12:29.951593Z",
     "iopub.status.busy": "2020-10-14T16:12:29.950994Z",
     "iopub.status.idle": "2020-10-14T16:12:29.961544Z",
     "shell.execute_reply": "2020-10-14T16:12:29.961037Z"
    },
    "papermill": {
     "duration": 0.057592,
     "end_time": "2020-10-14T16:12:29.961660",
     "exception": false,
     "start_time": "2020-10-14T16:12:29.904068",
     "status": "completed"
    },
    "tags": []
   },
   "outputs": [],
   "source": [
    "from sklearn.naive_bayes import GaussianNB\n",
    "\n",
    "# We define the model\n",
    "nbcla = GaussianNB()\n",
    "\n",
    "# We train model\n",
    "nbcla.fit(X_train, Y_train)\n",
    "\n",
    "# We predict target values\n",
    "Y_predict3 = nbcla.predict(X_test)"
   ]
  },
  {
   "cell_type": "code",
   "execution_count": 21,
   "metadata": {
    "execution": {
     "iopub.execute_input": "2020-10-14T16:12:30.059906Z",
     "iopub.status.busy": "2020-10-14T16:12:30.058947Z",
     "iopub.status.idle": "2020-10-14T16:12:30.204022Z",
     "shell.execute_reply": "2020-10-14T16:12:30.203526Z"
    },
    "papermill": {
     "duration": 0.199967,
     "end_time": "2020-10-14T16:12:30.204138",
     "exception": false,
     "start_time": "2020-10-14T16:12:30.004171",
     "status": "completed"
    },
    "tags": []
   },
   "outputs": [
    {
     "data": {
      "image/png": "[encoded data removed]",
      "text/plain": [
       "<Figure size 360x360 with 2 Axes>"
      ]
     },
     "metadata": {},
     "output_type": "display_data"
    }
   ],
   "source": [
    "# The confusion matrix\n",
    "nbcla_cm = confusion_matrix(Y_test, Y_predict3)\n",
    "f, ax = plt.subplots(figsize=(5,5))\n",
    "sns.heatmap(nbcla_cm, annot=True, linewidth=0.7, linecolor='red', fmt='g', ax=ax, cmap=\"BuPu\")\n",
    "plt.title('Naive Bayes Classification Confusion Matrix')\n",
    "plt.xlabel('Y predict')\n",
    "plt.ylabel('Y test')\n",
    "plt.show()"
   ]
  },
  {
   "cell_type": "code",
   "execution_count": 22,
   "metadata": {
    "execution": {
     "iopub.execute_input": "2020-10-14T16:12:30.299377Z",
     "iopub.status.busy": "2020-10-14T16:12:30.298646Z",
     "iopub.status.idle": "2020-10-14T16:12:30.301790Z",
     "shell.execute_reply": "2020-10-14T16:12:30.302560Z"
    },
    "papermill": {
     "duration": 0.054536,
     "end_time": "2020-10-14T16:12:30.302737",
     "exception": false,
     "start_time": "2020-10-14T16:12:30.248201",
     "status": "completed"
    },
    "tags": []
   },
   "outputs": [
    {
     "name": "stdout",
     "output_type": "stream",
     "text": [
      "0.75\n"
     ]
    }
   ],
   "source": [
    "# Test score\n",
    "score_nbcla = nbcla.score(X_test, Y_test)\n",
    "print(score_nbcla)"
   ]
  },
  {
   "cell_type": "code",
   "execution_count": 23,
   "metadata": {
    "execution": {
     "iopub.execute_input": "2020-10-14T16:12:30.397800Z",
     "iopub.status.busy": "2020-10-14T16:12:30.397174Z",
     "iopub.status.idle": "2020-10-14T16:12:30.400900Z",
     "shell.execute_reply": "2020-10-14T16:12:30.400097Z"
    },
    "papermill": {
     "duration": 0.05375,
     "end_time": "2020-10-14T16:12:30.401050",
     "exception": false,
     "start_time": "2020-10-14T16:12:30.347300",
     "status": "completed"
    },
    "tags": []
   },
   "outputs": [
    {
     "name": "stdout",
     "output_type": "stream",
     "text": [
      "Average precision-recall score: 0.94\n"
     ]
    }
   ],
   "source": [
    "#precision and recall\n",
    "from sklearn.metrics import average_precision_score\n",
    "average_precision = average_precision_score(Y_test, Y_predict3)\n",
    "\n",
    "print('Average precision-recall score: {0:0.2f}'.format(average_precision))"
   ]
  },
  {
   "cell_type": "markdown",
   "metadata": {
    "papermill": {
     "duration": 0.043953,
     "end_time": "2020-10-14T16:12:30.491029",
     "exception": false,
     "start_time": "2020-10-14T16:12:30.447076",
     "status": "completed"
    },
    "tags": []
   },
   "source": [
    "# 4. Decision Tree classification"
   ]
  },
  {
   "cell_type": "markdown",
   "metadata": {
    "papermill": {
     "duration": 0.044234,
     "end_time": "2020-10-14T16:12:30.579481",
     "exception": false,
     "start_time": "2020-10-14T16:12:30.535247",
     "status": "completed"
    },
    "tags": []
   },
   "source": [
    "A decision tree is a flowchart-like tree structure where an internal node represents feature, the branch represents a decision rule, and each leaf node represents the outcome. The decision tree analyzes a set of data to construct a set of rules or questions, which are used to predict a class, i.e., the goal of decision tree is to create a model that predicts the value of a target variable by learning simple decision rules inferred from the data features. In this sense the decision tree selects the best attribute using to divide the records, converting that attribute into a decision node and dividing the data set into smaller subsets, to finally start the construction of the tree repeating this process recursively."
   ]
  },
  {
   "cell_type": "code",
   "execution_count": 24,
   "metadata": {
    "execution": {
     "iopub.execute_input": "2020-10-14T16:12:30.676865Z",
     "iopub.status.busy": "2020-10-14T16:12:30.675000Z",
     "iopub.status.idle": "2020-10-14T16:12:30.682501Z",
     "shell.execute_reply": "2020-10-14T16:12:30.681944Z"
    },
    "papermill": {
     "duration": 0.058999,
     "end_time": "2020-10-14T16:12:30.682614",
     "exception": false,
     "start_time": "2020-10-14T16:12:30.623615",
     "status": "completed"
    },
    "tags": []
   },
   "outputs": [],
   "source": [
    "from sklearn.tree import DecisionTreeClassifier\n",
    "\n",
    "# We define the model\n",
    "dtcla = DecisionTreeClassifier(random_state=9)\n",
    "\n",
    "# We train model\n",
    "dtcla.fit(X_train, Y_train)\n",
    "\n",
    "# We predict target values\n",
    "Y_predict4 = dtcla.predict(X_test)"
   ]
  },
  {
   "cell_type": "code",
   "execution_count": 25,
   "metadata": {
    "execution": {
     "iopub.execute_input": "2020-10-14T16:12:30.779249Z",
     "iopub.status.busy": "2020-10-14T16:12:30.778524Z",
     "iopub.status.idle": "2020-10-14T16:12:30.784263Z",
     "shell.execute_reply": "2020-10-14T16:12:30.783655Z"
    },
    "papermill": {
     "duration": 0.057528,
     "end_time": "2020-10-14T16:12:30.784372",
     "exception": false,
     "start_time": "2020-10-14T16:12:30.726844",
     "status": "completed"
    },
    "tags": []
   },
   "outputs": [],
   "source": [
    "from sklearn.tree import DecisionTreeClassifier\n",
    "\n",
    "# We define the model\n",
    "dtcla = DecisionTreeClassifier(random_state=9)\n",
    "\n",
    "# We train model\n",
    "dtcla.fit(X_train, Y_train)\n",
    "\n",
    "# We predict target values\n",
    "Y_predict4 = dtcla.predict(X_test)"
   ]
  },
  {
   "cell_type": "code",
   "execution_count": 26,
   "metadata": {
    "execution": {
     "iopub.execute_input": "2020-10-14T16:12:30.879939Z",
     "iopub.status.busy": "2020-10-14T16:12:30.879014Z",
     "iopub.status.idle": "2020-10-14T16:12:30.882260Z",
     "shell.execute_reply": "2020-10-14T16:12:30.882812Z"
    },
    "papermill": {
     "duration": 0.054549,
     "end_time": "2020-10-14T16:12:30.882967",
     "exception": false,
     "start_time": "2020-10-14T16:12:30.828418",
     "status": "completed"
    },
    "tags": []
   },
   "outputs": [
    {
     "name": "stdout",
     "output_type": "stream",
     "text": [
      "0.8\n"
     ]
    }
   ],
   "source": [
    "# Test score\n",
    "score_dtcla = dtcla.score(X_test, Y_test)\n",
    "print(score_dtcla)"
   ]
  },
  {
   "cell_type": "code",
   "execution_count": 27,
   "metadata": {
    "execution": {
     "iopub.execute_input": "2020-10-14T16:12:30.979159Z",
     "iopub.status.busy": "2020-10-14T16:12:30.978356Z",
     "iopub.status.idle": "2020-10-14T16:12:30.981290Z",
     "shell.execute_reply": "2020-10-14T16:12:30.981757Z"
    },
    "papermill": {
     "duration": 0.054335,
     "end_time": "2020-10-14T16:12:30.981916",
     "exception": false,
     "start_time": "2020-10-14T16:12:30.927581",
     "status": "completed"
    },
    "tags": []
   },
   "outputs": [
    {
     "name": "stdout",
     "output_type": "stream",
     "text": [
      "Average precision-recall score: 0.90\n"
     ]
    }
   ],
   "source": [
    "#precision and recall\n",
    "from sklearn.metrics import average_precision_score\n",
    "average_precision = average_precision_score(Y_test, Y_predict4)\n",
    "\n",
    "print('Average precision-recall score: {0:0.2f}'.format(average_precision))"
   ]
  },
  {
   "cell_type": "markdown",
   "metadata": {
    "papermill": {
     "duration": 0.044525,
     "end_time": "2020-10-14T16:12:31.073762",
     "exception": false,
     "start_time": "2020-10-14T16:12:31.029237",
     "status": "completed"
    },
    "tags": []
   },
   "source": [
    "# 5. Random forest classification"
   ]
  },
  {
   "cell_type": "markdown",
   "metadata": {
    "papermill": {
     "duration": 0.044492,
     "end_time": "2020-10-14T16:12:31.164106",
     "exception": false,
     "start_time": "2020-10-14T16:12:31.119614",
     "status": "completed"
    },
    "tags": []
   },
   "source": [
    "Based on the previous classification method, random forest is a supervised learning algorithm that creates a forest randomly. This forest, is a set of decision trees, most of the times trained with the bagging method. The essential idea of bagging is to average many noisy but approximately impartial models, and therefore reduce the variation. Each tree is constructed using the following algorithm:\n",
    "\n",
    "* Let  N  be the number of test cases,  M  is the number of variables in the classifier.\n",
    "* Let  m  be the number of input variables to be used to determine the decision in a given node;  m<M .\n",
    "* Choose a training set for this tree and use the rest of the test cases to estimate the error.\n",
    "* For each node of the tree, randomly choose  m  variables on which to base the decision.\n",
    "* Calculate the best partition of the training set from the  m  variables.\n",
    "\n",
    "For prediction a new case is pushed down the tree. Then it is assigned the label of the terminal node where it ends. This process is iterated by all the trees in the assembly, and the label that gets the most incidents is reported as the prediction. We define the number of trees in the forest in 100."
   ]
  },
  {
   "cell_type": "code",
   "execution_count": 28,
   "metadata": {
    "execution": {
     "iopub.execute_input": "2020-10-14T16:12:31.271615Z",
     "iopub.status.busy": "2020-10-14T16:12:31.266541Z",
     "iopub.status.idle": "2020-10-14T16:12:31.628951Z",
     "shell.execute_reply": "2020-10-14T16:12:31.628357Z"
    },
    "papermill": {
     "duration": 0.419847,
     "end_time": "2020-10-14T16:12:31.629103",
     "exception": false,
     "start_time": "2020-10-14T16:12:31.209256",
     "status": "completed"
    },
    "tags": []
   },
   "outputs": [],
   "source": [
    "from sklearn.ensemble import RandomForestClassifier\n",
    "\n",
    "# We define the model\n",
    "rfcla = RandomForestClassifier(n_estimators=100,random_state=9,n_jobs=-1)\n",
    "\n",
    "# We train model\n",
    "rfcla.fit(X_train, Y_train)\n",
    "\n",
    "# We predict target values\n",
    "Y_predict5 = rfcla.predict(X_test)"
   ]
  },
  {
   "cell_type": "code",
   "execution_count": 29,
   "metadata": {
    "execution": {
     "iopub.execute_input": "2020-10-14T16:12:31.796252Z",
     "iopub.status.busy": "2020-10-14T16:12:31.795569Z",
     "iopub.status.idle": "2020-10-14T16:12:31.940323Z",
     "shell.execute_reply": "2020-10-14T16:12:31.939697Z"
    },
    "papermill": {
     "duration": 0.225803,
     "end_time": "2020-10-14T16:12:31.940434",
     "exception": false,
     "start_time": "2020-10-14T16:12:31.714631",
     "status": "completed"
    },
    "tags": []
   },
   "outputs": [
    {
     "data": {
      "image/png": "[encoded data removed]",
      "text/plain": [
       "<Figure size 360x360 with 2 Axes>"
      ]
     },
     "metadata": {},
     "output_type": "display_data"
    }
   ],
   "source": [
    "# The confusion matrix\n",
    "rfcla_cm = confusion_matrix(Y_test, Y_predict5)\n",
    "f, ax = plt.subplots(figsize=(5,5))\n",
    "sns.heatmap(rfcla_cm, annot=True, linewidth=0.7, linecolor='red', fmt='g', ax=ax, cmap=\"BuPu\")\n",
    "plt.title('Random Forest Classification Confusion Matrix')\n",
    "plt.xlabel('Y predict')\n",
    "plt.ylabel('Y test')\n",
    "plt.show()"
   ]
  },
  {
   "cell_type": "code",
   "execution_count": 30,
   "metadata": {
    "execution": {
     "iopub.execute_input": "2020-10-14T16:12:32.040424Z",
     "iopub.status.busy": "2020-10-14T16:12:32.039549Z",
     "iopub.status.idle": "2020-10-14T16:12:32.147469Z",
     "shell.execute_reply": "2020-10-14T16:12:32.146677Z"
    },
    "papermill": {
     "duration": 0.161071,
     "end_time": "2020-10-14T16:12:32.147625",
     "exception": false,
     "start_time": "2020-10-14T16:12:31.986554",
     "status": "completed"
    },
    "tags": []
   },
   "outputs": [
    {
     "name": "stdout",
     "output_type": "stream",
     "text": [
      "0.8\n"
     ]
    }
   ],
   "source": [
    "# Test score\n",
    "score_rfcla = rfcla.score(X_test, Y_test)\n",
    "print(score_rfcla)"
   ]
  },
  {
   "cell_type": "code",
   "execution_count": 31,
   "metadata": {
    "execution": {
     "iopub.execute_input": "2020-10-14T16:12:32.280412Z",
     "iopub.status.busy": "2020-10-14T16:12:32.279764Z",
     "iopub.status.idle": "2020-10-14T16:12:32.282591Z",
     "shell.execute_reply": "2020-10-14T16:12:32.283389Z"
    },
    "papermill": {
     "duration": 0.069422,
     "end_time": "2020-10-14T16:12:32.283558",
     "exception": false,
     "start_time": "2020-10-14T16:12:32.214136",
     "status": "completed"
    },
    "tags": []
   },
   "outputs": [
    {
     "name": "stdout",
     "output_type": "stream",
     "text": [
      "Average precision-recall score: 0.95\n"
     ]
    }
   ],
   "source": [
    "#precision and recall\n",
    "from sklearn.metrics import average_precision_score\n",
    "average_precision = average_precision_score(Y_test, Y_predict5)\n",
    "\n",
    "print('Average precision-recall score: {0:0.2f}'.format(average_precision))"
   ]
  },
  {
   "cell_type": "markdown",
   "metadata": {
    "papermill": {
     "duration": 0.046877,
     "end_time": "2020-10-14T16:12:32.378194",
     "exception": false,
     "start_time": "2020-10-14T16:12:32.331317",
     "status": "completed"
    },
    "tags": []
   },
   "source": [
    "# 6. K-Nearest Neighbor classification"
   ]
  },
  {
   "cell_type": "markdown",
   "metadata": {
    "papermill": {
     "duration": 0.046957,
     "end_time": "2020-10-14T16:12:32.473033",
     "exception": false,
     "start_time": "2020-10-14T16:12:32.426076",
     "status": "completed"
    },
    "tags": []
   },
   "source": [
    "K-Nearest neighbors is a technique that stores all available cases and classifies new cases based on a similarity measure (e.g., distance functions). This technique is non-parametric since there are no assumptions for the distribution of underlying data and it is lazy since it does not need any training data point model generation. All the training data used in the test phase. This makes the training faster and the test phase slower and more costlier. In this technique, the number of neighbors k is usually an odd number if the number of classes is 2. For finding closest similar points, find the distance between points using distance measures such as Euclidean distance, Hamming distance, Manhattan distance and Minkowski distance."
   ]
  },
  {
   "cell_type": "code",
   "execution_count": 32,
   "metadata": {
    "execution": {
     "iopub.execute_input": "2020-10-14T16:12:32.578371Z",
     "iopub.status.busy": "2020-10-14T16:12:32.577525Z",
     "iopub.status.idle": "2020-10-14T16:12:32.684222Z",
     "shell.execute_reply": "2020-10-14T16:12:32.683690Z"
    },
    "papermill": {
     "duration": 0.164352,
     "end_time": "2020-10-14T16:12:32.684344",
     "exception": false,
     "start_time": "2020-10-14T16:12:32.519992",
     "status": "completed"
    },
    "tags": []
   },
   "outputs": [],
   "source": [
    "from sklearn.neighbors import KNeighborsClassifier\n",
    "\n",
    "# We define the model\n",
    "knncla = KNeighborsClassifier(n_neighbors=5,n_jobs=-1)\n",
    "\n",
    "# We train model\n",
    "knncla.fit(X_train, Y_train)\n",
    "\n",
    "# We predict target values\n",
    "Y_predict6 = knncla.predict(X_test)"
   ]
  },
  {
   "cell_type": "code",
   "execution_count": 33,
   "metadata": {
    "execution": {
     "iopub.execute_input": "2020-10-14T16:12:32.789469Z",
     "iopub.status.busy": "2020-10-14T16:12:32.784111Z",
     "iopub.status.idle": "2020-10-14T16:12:32.935625Z",
     "shell.execute_reply": "2020-10-14T16:12:32.935021Z"
    },
    "papermill": {
     "duration": 0.204328,
     "end_time": "2020-10-14T16:12:32.935734",
     "exception": false,
     "start_time": "2020-10-14T16:12:32.731406",
     "status": "completed"
    },
    "tags": []
   },
   "outputs": [
    {
     "data": {
      "image/png": "[encoded data removed]",
      "text/plain": [
       "<Figure size 360x360 with 2 Axes>"
      ]
     },
     "metadata": {},
     "output_type": "display_data"
    }
   ],
   "source": [
    "# The confusion matrix\n",
    "knncla_cm = confusion_matrix(Y_test, Y_predict6)\n",
    "f, ax = plt.subplots(figsize=(5,5))\n",
    "sns.heatmap(knncla_cm, annot=True, linewidth=0.7, linecolor='red', fmt='g', ax=ax, cmap=\"BuPu\")\n",
    "plt.title('KNN Classification Confusion Matrix')\n",
    "plt.xlabel('Y predict')\n",
    "plt.ylabel('Y test')\n",
    "plt.show()"
   ]
  },
  {
   "cell_type": "code",
   "execution_count": 34,
   "metadata": {
    "execution": {
     "iopub.execute_input": "2020-10-14T16:12:33.039059Z",
     "iopub.status.busy": "2020-10-14T16:12:33.038128Z",
     "iopub.status.idle": "2020-10-14T16:12:33.145588Z",
     "shell.execute_reply": "2020-10-14T16:12:33.146101Z"
    },
    "papermill": {
     "duration": 0.162502,
     "end_time": "2020-10-14T16:12:33.146264",
     "exception": false,
     "start_time": "2020-10-14T16:12:32.983762",
     "status": "completed"
    },
    "tags": []
   },
   "outputs": [
    {
     "name": "stdout",
     "output_type": "stream",
     "text": [
      "0.8\n"
     ]
    }
   ],
   "source": [
    "# Test score\n",
    "score_knncla= knncla.score(X_test, Y_test)\n",
    "print(score_knncla)"
   ]
  },
  {
   "cell_type": "code",
   "execution_count": 35,
   "metadata": {
    "execution": {
     "iopub.execute_input": "2020-10-14T16:12:33.251411Z",
     "iopub.status.busy": "2020-10-14T16:12:33.250631Z",
     "iopub.status.idle": "2020-10-14T16:12:33.253460Z",
     "shell.execute_reply": "2020-10-14T16:12:33.253971Z"
    },
    "papermill": {
     "duration": 0.059152,
     "end_time": "2020-10-14T16:12:33.254112",
     "exception": false,
     "start_time": "2020-10-14T16:12:33.194960",
     "status": "completed"
    },
    "tags": []
   },
   "outputs": [
    {
     "name": "stdout",
     "output_type": "stream",
     "text": [
      "Average precision-recall score: 0.95\n"
     ]
    }
   ],
   "source": [
    "#precision and recall\n",
    "from sklearn.metrics import average_precision_score\n",
    "average_precision = average_precision_score(Y_test, Y_predict6)\n",
    "\n",
    "print('Average precision-recall score: {0:0.2f}'.format(average_precision))"
   ]
  },
  {
   "cell_type": "markdown",
   "metadata": {
    "papermill": {
     "duration": 0.048854,
     "end_time": "2020-10-14T16:12:33.352017",
     "exception": false,
     "start_time": "2020-10-14T16:12:33.303163",
     "status": "completed"
    },
    "tags": []
   },
   "source": [
    "# Comparison of classification techniques"
   ]
  },
  {
   "cell_type": "code",
   "execution_count": 36,
   "metadata": {
    "execution": {
     "iopub.execute_input": "2020-10-14T16:12:33.458949Z",
     "iopub.status.busy": "2020-10-14T16:12:33.458172Z",
     "iopub.status.idle": "2020-10-14T16:12:33.461559Z",
     "shell.execute_reply": "2020-10-14T16:12:33.461059Z"
    },
    "papermill": {
     "duration": 0.059201,
     "end_time": "2020-10-14T16:12:33.461667",
     "exception": false,
     "start_time": "2020-10-14T16:12:33.402466",
     "status": "completed"
    },
    "tags": []
   },
   "outputs": [
    {
     "name": "stdout",
     "output_type": "stream",
     "text": [
      "Logistic Regression Score       0.80\n",
      "Support Vector Machine Score    0.80\n",
      "Naive Bayes Score               0.75\n",
      "Decision Tree Score             0.80\n",
      "Random Forest Score             0.80\n",
      "K-Nearest Neighbour Score       0.80\n",
      "dtype: float64\n"
     ]
    }
   ],
   "source": [
    "Testscores = pd.Series([score_logreg, score_svmcla, score_nbcla, score_dtcla, score_rfcla, score_knncla],index=['Logistic Regression Score', 'Support Vector Machine Score', 'Naive Bayes Score', 'Decision Tree Score', 'Random Forest Score', 'K-Nearest Neighbour Score']) \n",
    "print(Testscores)"
   ]
  },
  {
   "cell_type": "markdown",
   "metadata": {
    "papermill": {
     "duration": 0.04901,
     "end_time": "2020-10-14T16:12:33.559751",
     "exception": false,
     "start_time": "2020-10-14T16:12:33.510741",
     "status": "completed"
    },
    "tags": []
   },
   "source": [
    "**ROC curve**"
   ]
  },
  {
   "cell_type": "markdown",
   "metadata": {
    "papermill": {
     "duration": 0.049283,
     "end_time": "2020-10-14T16:12:33.658067",
     "exception": false,
     "start_time": "2020-10-14T16:12:33.608784",
     "status": "completed"
    },
    "tags": []
   },
   "source": [
    "From a Comparison of classification techniques, we plotting ROC to illustrates the diagnostic ability of a binary classifier system as its discrimination threshold is varied."
   ]
  },
  {
   "cell_type": "code",
   "execution_count": 37,
   "metadata": {
    "execution": {
     "iopub.execute_input": "2020-10-14T16:12:33.769911Z",
     "iopub.status.busy": "2020-10-14T16:12:33.764777Z",
     "iopub.status.idle": "2020-10-14T16:12:34.707536Z",
     "shell.execute_reply": "2020-10-14T16:12:34.706900Z"
    },
    "papermill": {
     "duration": 1.000494,
     "end_time": "2020-10-14T16:12:34.707677",
     "exception": false,
     "start_time": "2020-10-14T16:12:33.707183",
     "status": "completed"
    },
    "tags": []
   },
   "outputs": [
    {
     "data": {
      "image/png": "[encoded data removed]",
      "text/plain": [
       "<Figure size 432x288 with 6 Axes>"
      ]
     },
     "metadata": {},
     "output_type": "display_data"
    }
   ],
   "source": [
    "from sklearn.metrics import roc_curve\n",
    "\n",
    "# Logistic Regression Classification\n",
    "Y_predict1_proba = logreg.predict_proba(X_test)\n",
    "Y_predict1_proba = Y_predict1_proba[:, 1]\n",
    "fpr, tpr, thresholds = roc_curve(Y_test, Y_predict1_proba)\n",
    "plt.subplot(331)\n",
    "plt.plot([0,1],[0,1],'k--')\n",
    "plt.plot(fpr,tpr, label='ANN')\n",
    "plt.xlabel('fpr')\n",
    "plt.ylabel('tpr')\n",
    "plt.title('ROC Curve Logistic Regression')\n",
    "plt.grid(True)\n",
    "\n",
    "# SVM Classification\n",
    "Y_predict2_proba = svmcla.predict_proba(X_test)\n",
    "Y_predict2_proba = Y_predict2_proba[:, 1]\n",
    "fpr, tpr, thresholds = roc_curve(Y_test, Y_predict2_proba)\n",
    "plt.subplot(332)\n",
    "plt.plot([0,1],[0,1],'k--')\n",
    "plt.plot(fpr,tpr, label='ANN')\n",
    "plt.xlabel('fpr')\n",
    "plt.ylabel('tpr')\n",
    "plt.title('ROC Curve SVM')\n",
    "plt.grid(True)\n",
    "\n",
    "# Naive Bayes Classification\n",
    "Y_predict3_proba = nbcla.predict_proba(X_test)\n",
    "Y_predict3_proba = Y_predict3_proba[:, 1]\n",
    "fpr, tpr, thresholds = roc_curve(Y_test, Y_predict3_proba)\n",
    "plt.subplot(333)\n",
    "plt.plot([0,1],[0,1],'k--')\n",
    "plt.plot(fpr,tpr, label='ANN')\n",
    "plt.xlabel('fpr')\n",
    "plt.ylabel('tpr')\n",
    "plt.title('ROC Curve Naive Bayes')\n",
    "plt.grid(True)\n",
    "\n",
    "# Decision Tree Classification\n",
    "Y_predict4_proba = dtcla.predict_proba(X_test)\n",
    "Y_predict4_proba = Y_predict4_proba[:, 1]\n",
    "fpr, tpr, thresholds = roc_curve(Y_test, Y_predict4_proba)\n",
    "plt.subplot(334)\n",
    "plt.plot([0,1],[0,1],'k--')\n",
    "plt.plot(fpr,tpr, label='ANN')\n",
    "plt.xlabel('fpr')\n",
    "plt.ylabel('tpr')\n",
    "plt.title('ROC Curve Decision Tree')\n",
    "plt.grid(True)\n",
    "\n",
    "# Random Forest Classification\n",
    "Y_predict5_proba = rfcla.predict_proba(X_test)\n",
    "Y_predict5_proba = Y_predict5_proba[:, 1]\n",
    "fpr, tpr, thresholds = roc_curve(Y_test, Y_predict5_proba)\n",
    "plt.subplot(335)\n",
    "plt.plot([0,1],[0,1],'k--')\n",
    "plt.plot(fpr,tpr, label='ANN')\n",
    "plt.xlabel('fpr')\n",
    "plt.ylabel('tpr')\n",
    "plt.title('ROC Curve Random Forest')\n",
    "plt.grid(True)\n",
    "\n",
    "# KNN Classification\n",
    "Y_predict6_proba = knncla.predict_proba(X_test)\n",
    "Y_predict6_proba = Y_predict6_proba[:, 1]\n",
    "fpr, tpr, thresholds = roc_curve(Y_test, Y_predict6_proba)\n",
    "plt.subplot(336)\n",
    "plt.plot([0,1],[0,1],'k--')\n",
    "plt.plot(fpr,tpr, label='ANN')\n",
    "plt.xlabel('fpr')\n",
    "plt.ylabel('tpr')\n",
    "plt.title('ROC Curve KNN')\n",
    "plt.grid(True)\n",
    "plt.subplots_adjust(top=2, bottom=0.08, left=0.10, right=1.4, hspace=0.45, wspace=0.45)\n",
    "plt.show()"
   ]
  }
 ],
 "metadata": {
  "kernelspec": {
   "display_name": "Python 3",
   "language": "python",
   "name": "python3"
  },
  "language_info": {
   "codemirror_mode": {
    "name": "ipython",
    "version": 3
   },
   "file_extension": ".py",
   "mimetype": "text/x-python",
   "name": "python",
   "nbconvert_exporter": "python",
   "pygments_lexer": "ipython3",
   "version": "3.7.6"
  },
  "papermill": {
   "duration": 23.397758,
   "end_time": "2020-10-14T16:12:34.865159",
   "environment_variables": {},
   "exception": null,
   "input_path": "__notebook__.ipynb",
   "output_path": "__notebook__.ipynb",
   "parameters": {},
   "start_time": "2020-10-14T16:12:11.467401",
   "version": "2.1.0"
  }
 },
 "nbformat": 4,
 "nbformat_minor": 4
}
