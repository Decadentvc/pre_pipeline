{
 "cells": [
  {
   "cell_type": "markdown",
   "execution_count": null,
   "metadata": {},
   "source": [
    "# Introduction\n",
    "I tried some classification models on this data, I hope you enjoy it! :)"
   ]
  },
  {
   "cell_type": "code",
   "execution_count": 1,
   "metadata": {
    "_cell_guid": "b1076dfc-b9ad-4769-8c92-a6c4dae69d19",
    "_uuid": "8f2839f25d086af736a60e9eeb907d3b93b6e0e5"
   },
   "outputs": [
    {
     "name": "stdout",
     "output_type": "stream",
     "text": [
      "/kaggle/input/heart-disease-uci/heart.csv\n"
     ]
    }
   ],
   "source": [
    "# This Python 3 environment comes with many helpful analytics libraries installed\n",
    "# It is defined by the kaggle/python Docker image: https://github.com/kaggle/docker-python\n",
    "# For example, here's several helpful packages to load\n",
    "\n",
    "import numpy as np # linear algebra\n",
    "import pandas as pd # data processing, CSV file I/O (e.g. pd.read_csv)\n",
    "import matplotlib.pyplot as plt\n",
    "import seaborn as sns\n",
    "import warnings\n",
    "warnings.filterwarnings(\"ignore\")\n",
    "\n",
    "\n",
    "# Input data files are available in the read-only \"../input/\" directory\n",
    "# For example, running this (by clicking run or pressing Shift+Enter) will list all files under the input directory\n",
    "\n",
    "import os\n",
    "for dirname, _, filenames in os.walk('/kaggle/input'):\n",
    "    for filename in filenames:\n",
    "        print(os.path.join(dirname, filename))\n",
    "\n",
    "# You can write up to 5GB to the current directory (/kaggle/working/) that gets preserved as output when you create a version using \"Save & Run All\" \n",
    "# You can also write temporary files to /kaggle/temp/, but they won't be saved outside of the current session"
   ]
  },
  {
   "cell_type": "code",
   "execution_count": 2,
   "metadata": {
    "_cell_guid": "79c7e3d0-c299-4dcb-8224-4455121ee9b0",
    "_uuid": "d629ff2d2480ee46fbb7e2d37f6b5fab8052498a"
   },
   "outputs": [],
   "source": [
    "data=pd.read_csv(\"/kaggle/input/heart-disease-uci/heart.csv\")"
   ]
  },
  {
   "cell_type": "code",
   "execution_count": 3,
   "metadata": {},
   "outputs": [
    {
     "data": {
      "text/html": [
       "<div>\n",
       "<style scoped>\n",
       "    .dataframe tbody tr th:only-of-type {\n",
       "        vertical-align: middle;\n",
       "    }\n",
       "\n",
       "    .dataframe tbody tr th {\n",
       "        vertical-align: top;\n",
       "    }\n",
       "\n",
       "    .dataframe thead th {\n",
       "        text-align: right;\n",
       "    }\n",
       "</style>\n",
       "<table border=\"1\" class=\"dataframe\">\n",
       "  <thead>\n",
       "    <tr style=\"text-align: right;\">\n",
       "      <th></th>\n",
       "      <th>age</th>\n",
       "      <th>sex</th>\n",
       "      <th>cp</th>\n",
       "      <th>trestbps</th>\n",
       "      <th>chol</th>\n",
       "      <th>fbs</th>\n",
       "      <th>restecg</th>\n",
       "      <th>thalach</th>\n",
       "      <th>exang</th>\n",
       "      <th>oldpeak</th>\n",
       "      <th>slope</th>\n",
       "      <th>ca</th>\n",
       "      <th>thal</th>\n",
       "      <th>target</th>\n",
       "    </tr>\n",
       "  </thead>\n",
       "  <tbody>\n",
       "    <tr>\n",
       "      <th>0</th>\n",
       "      <td>63</td>\n",
       "      <td>1</td>\n",
       "      <td>3</td>\n",
       "      <td>145</td>\n",
       "      <td>233</td>\n",
       "      <td>1</td>\n",
       "      <td>0</td>\n",
       "      <td>150</td>\n",
       "      <td>0</td>\n",
       "      <td>2.3</td>\n",
       "      <td>0</td>\n",
       "      <td>0</td>\n",
       "      <td>1</td>\n",
       "      <td>1</td>\n",
       "    </tr>\n",
       "    <tr>\n",
       "      <th>1</th>\n",
       "      <td>37</td>\n",
       "      <td>1</td>\n",
       "      <td>2</td>\n",
       "      <td>130</td>\n",
       "      <td>250</td>\n",
       "      <td>0</td>\n",
       "      <td>1</td>\n",
       "      <td>187</td>\n",
       "      <td>0</td>\n",
       "      <td>3.5</td>\n",
       "      <td>0</td>\n",
       "      <td>0</td>\n",
       "      <td>2</td>\n",
       "      <td>1</td>\n",
       "    </tr>\n",
       "    <tr>\n",
       "      <th>2</th>\n",
       "      <td>41</td>\n",
       "      <td>0</td>\n",
       "      <td>1</td>\n",
       "      <td>130</td>\n",
       "      <td>204</td>\n",
       "      <td>0</td>\n",
       "      <td>0</td>\n",
       "      <td>172</td>\n",
       "      <td>0</td>\n",
       "      <td>1.4</td>\n",
       "      <td>2</td>\n",
       "      <td>0</td>\n",
       "      <td>2</td>\n",
       "      <td>1</td>\n",
       "    </tr>\n",
       "    <tr>\n",
       "      <th>3</th>\n",
       "      <td>56</td>\n",
       "      <td>1</td>\n",
       "      <td>1</td>\n",
       "      <td>120</td>\n",
       "      <td>236</td>\n",
       "      <td>0</td>\n",
       "      <td>1</td>\n",
       "      <td>178</td>\n",
       "      <td>0</td>\n",
       "      <td>0.8</td>\n",
       "      <td>2</td>\n",
       "      <td>0</td>\n",
       "      <td>2</td>\n",
       "      <td>1</td>\n",
       "    </tr>\n",
       "    <tr>\n",
       "      <th>4</th>\n",
       "      <td>57</td>\n",
       "      <td>0</td>\n",
       "      <td>0</td>\n",
       "      <td>120</td>\n",
       "      <td>354</td>\n",
       "      <td>0</td>\n",
       "      <td>1</td>\n",
       "      <td>163</td>\n",
       "      <td>1</td>\n",
       "      <td>0.6</td>\n",
       "      <td>2</td>\n",
       "      <td>0</td>\n",
       "      <td>2</td>\n",
       "      <td>1</td>\n",
       "    </tr>\n",
       "    <tr>\n",
       "      <th>...</th>\n",
       "      <td>...</td>\n",
       "      <td>...</td>\n",
       "      <td>...</td>\n",
       "      <td>...</td>\n",
       "      <td>...</td>\n",
       "      <td>...</td>\n",
       "      <td>...</td>\n",
       "      <td>...</td>\n",
       "      <td>...</td>\n",
       "      <td>...</td>\n",
       "      <td>...</td>\n",
       "      <td>...</td>\n",
       "      <td>...</td>\n",
       "      <td>...</td>\n",
       "    </tr>\n",
       "    <tr>\n",
       "      <th>298</th>\n",
       "      <td>57</td>\n",
       "      <td>0</td>\n",
       "      <td>0</td>\n",
       "      <td>140</td>\n",
       "      <td>241</td>\n",
       "      <td>0</td>\n",
       "      <td>1</td>\n",
       "      <td>123</td>\n",
       "      <td>1</td>\n",
       "      <td>0.2</td>\n",
       "      <td>1</td>\n",
       "      <td>0</td>\n",
       "      <td>3</td>\n",
       "      <td>0</td>\n",
       "    </tr>\n",
       "    <tr>\n",
       "      <th>299</th>\n",
       "      <td>45</td>\n",
       "      <td>1</td>\n",
       "      <td>3</td>\n",
       "      <td>110</td>\n",
       "      <td>264</td>\n",
       "      <td>0</td>\n",
       "      <td>1</td>\n",
       "      <td>132</td>\n",
       "      <td>0</td>\n",
       "      <td>1.2</td>\n",
       "      <td>1</td>\n",
       "      <td>0</td>\n",
       "      <td>3</td>\n",
       "      <td>0</td>\n",
       "    </tr>\n",
       "    <tr>\n",
       "      <th>300</th>\n",
       "      <td>68</td>\n",
       "      <td>1</td>\n",
       "      <td>0</td>\n",
       "      <td>144</td>\n",
       "      <td>193</td>\n",
       "      <td>1</td>\n",
       "      <td>1</td>\n",
       "      <td>141</td>\n",
       "      <td>0</td>\n",
       "      <td>3.4</td>\n",
       "      <td>1</td>\n",
       "      <td>2</td>\n",
       "      <td>3</td>\n",
       "      <td>0</td>\n",
       "    </tr>\n",
       "    <tr>\n",
       "      <th>301</th>\n",
       "      <td>57</td>\n",
       "      <td>1</td>\n",
       "      <td>0</td>\n",
       "      <td>130</td>\n",
       "      <td>131</td>\n",
       "      <td>0</td>\n",
       "      <td>1</td>\n",
       "      <td>115</td>\n",
       "      <td>1</td>\n",
       "      <td>1.2</td>\n",
       "      <td>1</td>\n",
       "      <td>1</td>\n",
       "      <td>3</td>\n",
       "      <td>0</td>\n",
       "    </tr>\n",
       "    <tr>\n",
       "      <th>302</th>\n",
       "      <td>57</td>\n",
       "      <td>0</td>\n",
       "      <td>1</td>\n",
       "      <td>130</td>\n",
       "      <td>236</td>\n",
       "      <td>0</td>\n",
       "      <td>0</td>\n",
       "      <td>174</td>\n",
       "      <td>0</td>\n",
       "      <td>0.0</td>\n",
       "      <td>1</td>\n",
       "      <td>1</td>\n",
       "      <td>2</td>\n",
       "      <td>0</td>\n",
       "    </tr>\n",
       "  </tbody>\n",
       "</table>\n",
       "<p>303 rows × 14 columns</p>\n",
       "</div>"
      ],
      "text/plain": [
       "     age  sex  cp  trestbps  chol  fbs  restecg  thalach  exang  oldpeak  \\\n",
       "0     63    1   3       145   233    1        0      150      0      2.3   \n",
       "1     37    1   2       130   250    0        1      187      0      3.5   \n",
       "2     41    0   1       130   204    0        0      172      0      1.4   \n",
       "3     56    1   1       120   236    0        1      178      0      0.8   \n",
       "4     57    0   0       120   354    0        1      163      1      0.6   \n",
       "..   ...  ...  ..       ...   ...  ...      ...      ...    ...      ...   \n",
       "298   57    0   0       140   241    0        1      123      1      0.2   \n",
       "299   45    1   3       110   264    0        1      132      0      1.2   \n",
       "300   68    1   0       144   193    1        1      141      0      3.4   \n",
       "301   57    1   0       130   131    0        1      115      1      1.2   \n",
       "302   57    0   1       130   236    0        0      174      0      0.0   \n",
       "\n",
       "     slope  ca  thal  target  \n",
       "0        0   0     1       1  \n",
       "1        0   0     2       1  \n",
       "2        2   0     2       1  \n",
       "3        2   0     2       1  \n",
       "4        2   0     2       1  \n",
       "..     ...  ..   ...     ...  \n",
       "298      1   0     3       0  \n",
       "299      1   0     3       0  \n",
       "300      1   2     3       0  \n",
       "301      1   1     3       0  \n",
       "302      1   1     2       0  \n",
       "\n",
       "[303 rows x 14 columns]"
      ]
     },
     "execution_count": 3,
     "metadata": {},
     "output_type": "execute_result"
    }
   ],
   "source": [
    "data"
   ]
  },
  {
   "cell_type": "code",
   "execution_count": 4,
   "metadata": {},
   "outputs": [
    {
     "name": "stdout",
     "output_type": "stream",
     "text": [
      "<class 'pandas.core.frame.DataFrame'>\n",
      "RangeIndex: 303 entries, 0 to 302\n",
      "Data columns (total 14 columns):\n",
      " #   Column    Non-Null Count  Dtype  \n",
      "---  ------    --------------  -----  \n",
      " 0   age       303 non-null    int64  \n",
      " 1   sex       303 non-null    int64  \n",
      " 2   cp        303 non-null    int64  \n",
      " 3   trestbps  303 non-null    int64  \n",
      " 4   chol      303 non-null    int64  \n",
      " 5   fbs       303 non-null    int64  \n",
      " 6   restecg   303 non-null    int64  \n",
      " 7   thalach   303 non-null    int64  \n",
      " 8   exang     303 non-null    int64  \n",
      " 9   oldpeak   303 non-null    float64\n",
      " 10  slope     303 non-null    int64  \n",
      " 11  ca        303 non-null    int64  \n",
      " 12  thal      303 non-null    int64  \n",
      " 13  target    303 non-null    int64  \n",
      "dtypes: float64(1), int64(13)\n",
      "memory usage: 33.3 KB\n"
     ]
    }
   ],
   "source": [
    "data.info()"
   ]
  },
  {
   "cell_type": "markdown",
   "execution_count": null,
   "metadata": {},
   "source": [
    "It looks like there is no missing data, that's good."
   ]
  },
  {
   "cell_type": "code",
   "execution_count": 5,
   "metadata": {},
   "outputs": [
    {
     "data": {
      "text/plain": [
       "1    165\n",
       "0    138\n",
       "Name: target, dtype: int64"
      ]
     },
     "execution_count": 5,
     "metadata": {},
     "output_type": "execute_result"
    }
   ],
   "source": [
    "data.target.value_counts()"
   ]
  },
  {
   "cell_type": "markdown",
   "execution_count": null,
   "metadata": {},
   "source": [
    "The data is not big but it is balanced."
   ]
  },
  {
   "cell_type": "code",
   "execution_count": 6,
   "metadata": {},
   "outputs": [],
   "source": [
    "x_data=data.drop([\"target\"], axis=1)\n",
    "x=((x_data-np.min(x_data))/(np.max(x_data)-np.min(x_data))).values\n",
    "y=data.target.values"
   ]
  },
  {
   "cell_type": "code",
   "execution_count": 7,
   "metadata": {},
   "outputs": [],
   "source": [
    "from sklearn.model_selection import train_test_split\n",
    "x_train, x_test, y_train, y_test=train_test_split(x,y, test_size=0.2, random_state=42)"
   ]
  },
  {
   "cell_type": "markdown",
   "execution_count": null,
   "metadata": {},
   "source": [
    "# Logistic Regression Classification"
   ]
  },
  {
   "cell_type": "code",
   "execution_count": 8,
   "metadata": {},
   "outputs": [
    {
     "name": "stdout",
     "output_type": "stream",
     "text": [
      "Logistic Regression Accuracy: 85.24590163934425 %\n"
     ]
    }
   ],
   "source": [
    "from sklearn.linear_model import LogisticRegression\n",
    "lr=LogisticRegression()\n",
    "lr.fit(x_train, y_train)\n",
    "print(\"Logistic Regression Accuracy:\", 100*lr.score(x_test, y_test), \"%\")"
   ]
  },
  {
   "cell_type": "code",
   "execution_count": 9,
   "metadata": {},
   "outputs": [
    {
     "data": {
      "image/png": "[encoded data removed]",
      "text/plain": [
       "<Figure size 432x432 with 2 Axes>"
      ]
     },
     "metadata": {
      "needs_background": "light"
     },
     "output_type": "display_data"
    }
   ],
   "source": [
    "from sklearn.metrics import confusion_matrix\n",
    "y_true=y_test\n",
    "y_pred=lr.predict(x_test)\n",
    "cmlr=confusion_matrix(y_true, y_pred)\n",
    "f,ax=plt.subplots(figsize=(6,6))\n",
    "sns.heatmap(cmlr, annot=True)\n",
    "plt.xlabel(\"y_pred\")\n",
    "plt.ylabel(\"y_true\")\n",
    "plt.show()"
   ]
  },
  {
   "cell_type": "markdown",
   "execution_count": null,
   "metadata": {},
   "source": [
    "It cannot be considered successful but the prediction is balanced."
   ]
  },
  {
   "cell_type": "markdown",
   "execution_count": null,
   "metadata": {},
   "source": [
    "# KNN Classification"
   ]
  },
  {
   "cell_type": "code",
   "execution_count": 10,
   "metadata": {},
   "outputs": [
    {
     "name": "stdout",
     "output_type": "stream",
     "text": [
      "n= 1 Accuracy: 80.32786885245902 %\n",
      "n= 2 Accuracy: 73.77049180327869 %\n",
      "n= 3 Accuracy: 83.60655737704919 %\n",
      "n= 4 Accuracy: 77.04918032786885 %\n",
      "n= 5 Accuracy: 81.9672131147541 %\n",
      "n= 6 Accuracy: 81.9672131147541 %\n",
      "n= 7 Accuracy: 81.9672131147541 %\n",
      "n= 8 Accuracy: 80.32786885245902 %\n",
      "n= 9 Accuracy: 81.9672131147541 %\n",
      "n= 10 Accuracy: 81.9672131147541 %\n",
      "n= 11 Accuracy: 81.9672131147541 %\n",
      "n= 12 Accuracy: 83.60655737704919 %\n",
      "n= 13 Accuracy: 80.32786885245902 %\n",
      "n= 14 Accuracy: 81.9672131147541 %\n",
      "n= 15 Accuracy: 81.9672131147541 %\n",
      "n= 16 Accuracy: 83.60655737704919 %\n",
      "n= 17 Accuracy: 83.60655737704919 %\n",
      "n= 18 Accuracy: 85.24590163934425 %\n",
      "n= 19 Accuracy: 81.9672131147541 %\n",
      "n= 20 Accuracy: 83.60655737704919 %\n",
      "n= 21 Accuracy: 83.60655737704919 %\n",
      "n= 22 Accuracy: 83.60655737704919 %\n",
      "n= 23 Accuracy: 83.60655737704919 %\n",
      "n= 24 Accuracy: 85.24590163934425 %\n",
      "n= 25 Accuracy: 81.9672131147541 %\n",
      "n= 26 Accuracy: 81.9672131147541 %\n",
      "n= 27 Accuracy: 81.9672131147541 %\n",
      "n= 28 Accuracy: 81.9672131147541 %\n",
      "n= 29 Accuracy: 81.9672131147541 %\n"
     ]
    }
   ],
   "source": [
    "from sklearn.neighbors import KNeighborsClassifier\n",
    "score_list=[]\n",
    "for each in range(1,30):\n",
    "    knn2=KNeighborsClassifier(n_neighbors=each)\n",
    "    knn2.fit(x_train, y_train)\n",
    "    score_list.append(100*knn2.score(x_test, y_test))\n",
    "    print(\"n=\", each, \"Accuracy:\", 100*knn2.score(x_test, y_test), \"%\")"
   ]
  },
  {
   "cell_type": "code",
   "execution_count": 11,
   "metadata": {},
   "outputs": [
    {
     "data": {
      "image/png": "[encoded data removed]",
      "text/plain": [
       "<Figure size 432x288 with 1 Axes>"
      ]
     },
     "metadata": {
      "needs_background": "light"
     },
     "output_type": "display_data"
    }
   ],
   "source": [
    "plt.plot([*range(1,30)], score_list)\n",
    "plt.xlabel(\"n Value\")\n",
    "plt.ylabel(\"Accuracy %\")\n",
    "plt.show()"
   ]
  },
  {
   "cell_type": "code",
   "execution_count": 12,
   "metadata": {},
   "outputs": [
    {
     "name": "stdout",
     "output_type": "stream",
     "text": [
      "KNN Prediction Accuracy: 85.24590163934425 %\n"
     ]
    }
   ],
   "source": [
    "optimal_n_value=score_list.index(max(score_list))+1\n",
    "knn=KNeighborsClassifier(n_neighbors=optimal_n_value)\n",
    "knn.fit(x_train, y_train)\n",
    "print(\"KNN Prediction Accuracy:\", 100*knn.score(x_test, y_test), \"%\")"
   ]
  },
  {
   "cell_type": "code",
   "execution_count": 13,
   "metadata": {},
   "outputs": [],
   "source": [
    "from sklearn.metrics import confusion_matrix\n",
    "y_true=y_test\n",
    "y_pred=knn.predict(x_test)\n",
    "cmknn=confusion_matrix(y_true, y_pred)"
   ]
  },
  {
   "cell_type": "code",
   "execution_count": 14,
   "metadata": {},
   "outputs": [
    {
     "data": {
      "image/png": "[encoded data removed]",
      "text/plain": [
       "<Figure size 432x432 with 2 Axes>"
      ]
     },
     "metadata": {
      "needs_background": "light"
     },
     "output_type": "display_data"
    }
   ],
   "source": [
    "f,ax=plt.subplots(figsize=(6,6))\n",
    "sns.heatmap(cmknn, annot=True)\n",
    "plt.xlabel(\"y_pred\")\n",
    "plt.ylabel(\"y_true\")\n",
    "plt.show()"
   ]
  },
  {
   "cell_type": "markdown",
   "execution_count": null,
   "metadata": {},
   "source": [
    "It is balanced, the reason of the lack of the success of these models is the amount of data which is very low for a machine learning model."
   ]
  },
  {
   "cell_type": "markdown",
   "execution_count": null,
   "metadata": {},
   "source": [
    "# SVM Classification"
   ]
  },
  {
   "cell_type": "code",
   "execution_count": 15,
   "metadata": {},
   "outputs": [
    {
     "name": "stdout",
     "output_type": "stream",
     "text": [
      "SVM Prediction Accuracy: 83.60655737704919 %\n"
     ]
    }
   ],
   "source": [
    "from sklearn.svm import SVC\n",
    "svm=SVC(random_state=42)\n",
    "svm.fit(x_train, y_train)\n",
    "print(\"SVM Prediction Accuracy:\", 100*svm.score(x_test, y_test), \"%\")"
   ]
  },
  {
   "cell_type": "code",
   "execution_count": 16,
   "metadata": {},
   "outputs": [],
   "source": [
    "y_true=y_test\n",
    "y_pred=svm.predict(x_test)\n",
    "cmsvm=confusion_matrix(y_true, y_pred)"
   ]
  },
  {
   "cell_type": "code",
   "execution_count": 17,
   "metadata": {},
   "outputs": [
    {
     "data": {
      "image/png": "[encoded data removed]",
      "text/plain": [
       "<Figure size 432x432 with 2 Axes>"
      ]
     },
     "metadata": {
      "needs_background": "light"
     },
     "output_type": "display_data"
    }
   ],
   "source": [
    "f,ax=plt.subplots(figsize=(6,6))\n",
    "sns.heatmap(cmsvm, annot=True)\n",
    "plt.xlabel(\"y_pred\")\n",
    "plt.ylabel(\"y_true\")\n",
    "plt.show()"
   ]
  },
  {
   "cell_type": "markdown",
   "execution_count": null,
   "metadata": {},
   "source": [
    "Again, it is not successful because of the same problems."
   ]
  },
  {
   "cell_type": "markdown",
   "execution_count": null,
   "metadata": {},
   "source": [
    "# Naive Bayes Classification"
   ]
  },
  {
   "cell_type": "code",
   "execution_count": 18,
   "metadata": {},
   "outputs": [
    {
     "name": "stdout",
     "output_type": "stream",
     "text": [
      "Naive Bayes Prediction Accuracy: 86.88524590163934 %\n"
     ]
    }
   ],
   "source": [
    "from sklearn.naive_bayes import GaussianNB\n",
    "nb=GaussianNB()\n",
    "nb.fit(x_train, y_train)\n",
    "print(\"Naive Bayes Prediction Accuracy:\", 100*nb.score(x_test, y_test), \"%\")"
   ]
  },
  {
   "cell_type": "code",
   "execution_count": 19,
   "metadata": {},
   "outputs": [],
   "source": [
    "y_true=y_test\n",
    "y_pred=nb.predict(x_test)\n",
    "cmnb=confusion_matrix(y_true, y_pred)"
   ]
  },
  {
   "cell_type": "code",
   "execution_count": 20,
   "metadata": {},
   "outputs": [
    {
     "data": {
      "image/png": "[encoded data removed]",
      "text/plain": [
       "<Figure size 432x432 with 2 Axes>"
      ]
     },
     "metadata": {
      "needs_background": "light"
     },
     "output_type": "display_data"
    }
   ],
   "source": [
    "f,ax=plt.subplots(figsize=(6,6))\n",
    "sns.heatmap(cmnb, annot=True)\n",
    "plt.xlabel(\"y_pred\")\n",
    "plt.ylabel(\"y_true\")\n",
    "plt.show()"
   ]
  },
  {
   "cell_type": "markdown",
   "execution_count": null,
   "metadata": {},
   "source": [
    "This one is a little better than the other models."
   ]
  },
  {
   "cell_type": "markdown",
   "execution_count": null,
   "metadata": {},
   "source": [
    "# Decision Trees Classification"
   ]
  },
  {
   "cell_type": "code",
   "execution_count": 21,
   "metadata": {},
   "outputs": [
    {
     "name": "stdout",
     "output_type": "stream",
     "text": [
      "Decision Trees Prediction Accuracy: 81.9672131147541 %\n"
     ]
    }
   ],
   "source": [
    "from sklearn.tree import DecisionTreeClassifier\n",
    "dt=DecisionTreeClassifier()\n",
    "dt.fit(x_train, y_train)\n",
    "print(\"Decision Trees Prediction Accuracy:\", 100*dt.score(x_test, y_test), \"%\")"
   ]
  },
  {
   "cell_type": "code",
   "execution_count": 22,
   "metadata": {},
   "outputs": [],
   "source": [
    "y_true=y_test\n",
    "y_pred=dt.predict(x_test)\n",
    "cmdt=confusion_matrix(y_true, y_pred)"
   ]
  },
  {
   "cell_type": "code",
   "execution_count": 23,
   "metadata": {},
   "outputs": [
    {
     "data": {
      "image/png": "[encoded data removed]",
      "text/plain": [
       "<Figure size 432x432 with 2 Axes>"
      ]
     },
     "metadata": {
      "needs_background": "light"
     },
     "output_type": "display_data"
    }
   ],
   "source": [
    "f,ax= plt.subplots(figsize=(6,6))\n",
    "sns.heatmap(cmdt, annot=True)\n",
    "plt.xlabel(\"y_pred\")\n",
    "plt.ylabel(\"y_true\")\n",
    "plt.show()"
   ]
  },
  {
   "cell_type": "markdown",
   "execution_count": null,
   "metadata": {},
   "source": [
    "This model is not successful either."
   ]
  },
  {
   "cell_type": "markdown",
   "execution_count": null,
   "metadata": {},
   "source": [
    "# Random Forest Classification"
   ]
  },
  {
   "cell_type": "code",
   "execution_count": 24,
   "metadata": {},
   "outputs": [
    {
     "name": "stdout",
     "output_type": "stream",
     "text": [
      "n_estimators= 1 --> Accuracy: 75.40983606557377 %\n",
      "n_estimators= 2 --> Accuracy: 77.04918032786885 %\n",
      "n_estimators= 3 --> Accuracy: 78.68852459016394 %\n",
      "n_estimators= 4 --> Accuracy: 72.1311475409836 %\n",
      "n_estimators= 5 --> Accuracy: 78.68852459016394 %\n",
      "n_estimators= 6 --> Accuracy: 80.32786885245902 %\n",
      "n_estimators= 7 --> Accuracy: 83.60655737704919 %\n",
      "n_estimators= 8 --> Accuracy: 83.60655737704919 %\n",
      "n_estimators= 9 --> Accuracy: 83.60655737704919 %\n",
      "n_estimators= 10 --> Accuracy: 85.24590163934425 %\n",
      "n_estimators= 11 --> Accuracy: 85.24590163934425 %\n",
      "n_estimators= 12 --> Accuracy: 85.24590163934425 %\n",
      "n_estimators= 13 --> Accuracy: 85.24590163934425 %\n",
      "n_estimators= 14 --> Accuracy: 83.60655737704919 %\n",
      "n_estimators= 15 --> Accuracy: 85.24590163934425 %\n",
      "n_estimators= 16 --> Accuracy: 85.24590163934425 %\n",
      "n_estimators= 17 --> Accuracy: 85.24590163934425 %\n",
      "n_estimators= 18 --> Accuracy: 85.24590163934425 %\n",
      "n_estimators= 19 --> Accuracy: 85.24590163934425 %\n",
      "n_estimators= 20 --> Accuracy: 83.60655737704919 %\n",
      "n_estimators= 21 --> Accuracy: 85.24590163934425 %\n",
      "n_estimators= 22 --> Accuracy: 81.9672131147541 %\n",
      "n_estimators= 23 --> Accuracy: 85.24590163934425 %\n",
      "n_estimators= 24 --> Accuracy: 85.24590163934425 %\n",
      "n_estimators= 25 --> Accuracy: 86.88524590163934 %\n",
      "n_estimators= 26 --> Accuracy: 83.60655737704919 %\n",
      "n_estimators= 27 --> Accuracy: 85.24590163934425 %\n",
      "n_estimators= 28 --> Accuracy: 83.60655737704919 %\n",
      "n_estimators= 29 --> Accuracy: 85.24590163934425 %\n",
      "n_estimators= 30 --> Accuracy: 85.24590163934425 %\n",
      "n_estimators= 31 --> Accuracy: 85.24590163934425 %\n",
      "n_estimators= 32 --> Accuracy: 85.24590163934425 %\n",
      "n_estimators= 33 --> Accuracy: 85.24590163934425 %\n",
      "n_estimators= 34 --> Accuracy: 83.60655737704919 %\n",
      "n_estimators= 35 --> Accuracy: 85.24590163934425 %\n",
      "n_estimators= 36 --> Accuracy: 85.24590163934425 %\n",
      "n_estimators= 37 --> Accuracy: 85.24590163934425 %\n",
      "n_estimators= 38 --> Accuracy: 85.24590163934425 %\n",
      "n_estimators= 39 --> Accuracy: 85.24590163934425 %\n",
      "n_estimators= 40 --> Accuracy: 85.24590163934425 %\n",
      "n_estimators= 41 --> Accuracy: 85.24590163934425 %\n",
      "n_estimators= 42 --> Accuracy: 85.24590163934425 %\n",
      "n_estimators= 43 --> Accuracy: 85.24590163934425 %\n",
      "n_estimators= 44 --> Accuracy: 85.24590163934425 %\n",
      "n_estimators= 45 --> Accuracy: 86.88524590163934 %\n",
      "n_estimators= 46 --> Accuracy: 86.88524590163934 %\n",
      "n_estimators= 47 --> Accuracy: 86.88524590163934 %\n",
      "n_estimators= 48 --> Accuracy: 85.24590163934425 %\n",
      "n_estimators= 49 --> Accuracy: 88.52459016393442 %\n",
      "n_estimators= 50 --> Accuracy: 86.88524590163934 %\n",
      "n_estimators= 51 --> Accuracy: 86.88524590163934 %\n",
      "n_estimators= 52 --> Accuracy: 86.88524590163934 %\n",
      "n_estimators= 53 --> Accuracy: 85.24590163934425 %\n",
      "n_estimators= 54 --> Accuracy: 85.24590163934425 %\n",
      "n_estimators= 55 --> Accuracy: 85.24590163934425 %\n",
      "n_estimators= 56 --> Accuracy: 85.24590163934425 %\n",
      "n_estimators= 57 --> Accuracy: 85.24590163934425 %\n",
      "n_estimators= 58 --> Accuracy: 85.24590163934425 %\n",
      "n_estimators= 59 --> Accuracy: 85.24590163934425 %\n",
      "n_estimators= 60 --> Accuracy: 85.24590163934425 %\n",
      "n_estimators= 61 --> Accuracy: 85.24590163934425 %\n",
      "n_estimators= 62 --> Accuracy: 83.60655737704919 %\n",
      "n_estimators= 63 --> Accuracy: 85.24590163934425 %\n",
      "n_estimators= 64 --> Accuracy: 83.60655737704919 %\n",
      "n_estimators= 65 --> Accuracy: 83.60655737704919 %\n",
      "n_estimators= 66 --> Accuracy: 83.60655737704919 %\n",
      "n_estimators= 67 --> Accuracy: 83.60655737704919 %\n",
      "n_estimators= 68 --> Accuracy: 83.60655737704919 %\n",
      "n_estimators= 69 --> Accuracy: 85.24590163934425 %\n",
      "n_estimators= 70 --> Accuracy: 85.24590163934425 %\n",
      "n_estimators= 71 --> Accuracy: 85.24590163934425 %\n",
      "n_estimators= 72 --> Accuracy: 85.24590163934425 %\n",
      "n_estimators= 73 --> Accuracy: 85.24590163934425 %\n",
      "n_estimators= 74 --> Accuracy: 83.60655737704919 %\n"
     ]
    },
    {
     "data": {
      "image/png": "[encoded data removed]",
      "text/plain": [
       "<Figure size 432x288 with 1 Axes>"
      ]
     },
     "metadata": {
      "needs_background": "light"
     },
     "output_type": "display_data"
    }
   ],
   "source": [
    "from sklearn.ensemble import RandomForestClassifier\n",
    "score_list=[]\n",
    "for each in range(1,75):\n",
    "    rf2=RandomForestClassifier(n_estimators=each, random_state=42)\n",
    "    rf2.fit(x_train, y_train)\n",
    "    score_list.append(100*rf2.score(x_test, y_test))\n",
    "    print(\"n_estimators=\", each, \"--> Accuracy:\", 100*rf2.score(x_test, y_test), \"%\")\n",
    "\n",
    "plt.plot([*range(1,75)], score_list)\n",
    "plt.xlabel(\"n_estimators Value\")\n",
    "plt.ylabel(\"Accuracy %\")\n",
    "plt.show()"
   ]
  },
  {
   "cell_type": "code",
   "execution_count": 25,
   "metadata": {},
   "outputs": [
    {
     "name": "stdout",
     "output_type": "stream",
     "text": [
      "Random Forest Prediction Accuracy: 88.52459016393442 %\n"
     ]
    }
   ],
   "source": [
    "optimal_n_estimators_value=score_list.index(max(score_list))+1\n",
    "rf=RandomForestClassifier(n_estimators=optimal_n_estimators_value, random_state=42)\n",
    "rf.fit(x_train, y_train)\n",
    "print(\"Random Forest Prediction Accuracy:\", 100*rf.score(x_test, y_test), \"%\")"
   ]
  },
  {
   "cell_type": "code",
   "execution_count": 26,
   "metadata": {},
   "outputs": [],
   "source": [
    "y_true=y_test\n",
    "y_pred=rf.predict(x_test)\n",
    "cmrf=confusion_matrix(y_true, y_pred)"
   ]
  },
  {
   "cell_type": "code",
   "execution_count": 27,
   "metadata": {},
   "outputs": [
    {
     "data": {
      "image/png": "[encoded data removed]",
      "text/plain": [
       "<Figure size 432x432 with 2 Axes>"
      ]
     },
     "metadata": {
      "needs_background": "light"
     },
     "output_type": "display_data"
    }
   ],
   "source": [
    "f,ax= plt.subplots(figsize=(6,6))\n",
    "sns.heatmap(cmrf, annot=True)\n",
    "plt.xlabel(\"y_pred\")\n",
    "plt.ylabel(\"y_true\")\n",
    "plt.show()"
   ]
  },
  {
   "cell_type": "markdown",
   "execution_count": null,
   "metadata": {},
   "source": [
    "This model can be considered successful."
   ]
  },
  {
   "cell_type": "markdown",
   "execution_count": null,
   "metadata": {},
   "source": [
    "# Conclusion"
   ]
  },
  {
   "cell_type": "code",
   "execution_count": 28,
   "metadata": {},
   "outputs": [
    {
     "name": "stdout",
     "output_type": "stream",
     "text": [
      "Logistic Regression Accuracy: 85.24590163934425 %\n",
      "KNN Prediction Accuracy: 85.24590163934425 %\n",
      "SVM Prediction Accuracy: 83.60655737704919 %\n",
      "Naive Bayes Prediction Accuracy: 86.88524590163934 %\n",
      "Decision Trees Prediction Accuracy: 81.9672131147541 %\n",
      "Random Forest Prediction Accuracy: 88.52459016393442 %\n"
     ]
    }
   ],
   "source": [
    "print(\"Logistic Regression Accuracy:\", 100*lr.score(x_test, y_test), \"%\")\n",
    "print(\"KNN Prediction Accuracy:\", 100*knn.score(x_test, y_test), \"%\")\n",
    "print(\"SVM Prediction Accuracy:\", 100*svm.score(x_test, y_test), \"%\")\n",
    "print(\"Naive Bayes Prediction Accuracy:\", 100*nb.score(x_test, y_test), \"%\")\n",
    "print(\"Decision Trees Prediction Accuracy:\", 100*dt.score(x_test, y_test), \"%\")\n",
    "print(\"Random Forest Prediction Accuracy:\", 100*rf.score(x_test, y_test), \"%\")"
   ]
  },
  {
   "cell_type": "markdown",
   "execution_count": null,
   "metadata": {},
   "source": [
    "It is seen that random forest classification model is the best prediction model for this data."
   ]
  }
 ],
 "metadata": {
  "kernelspec": {
   "display_name": "Python 3",
   "language": "python",
   "name": "python3"
  },
  "language_info": {
   "codemirror_mode": {
    "name": "ipython",
    "version": 3
   },
   "file_extension": ".py",
   "mimetype": "text/x-python",
   "name": "python",
   "nbconvert_exporter": "python",
   "pygments_lexer": "ipython3",
   "version": "3.7.6"
  }
 },
 "nbformat": 4,
 "nbformat_minor": 4
}
