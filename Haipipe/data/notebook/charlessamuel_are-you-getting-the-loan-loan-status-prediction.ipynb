{
 "cells": [
  {
   "cell_type": "markdown",
   "execution_count": null,
   "metadata": {
    "papermill": {
     "duration": 0.014019,
     "end_time": "2020-09-09T06:59:00.507436",
     "exception": false,
     "start_time": "2020-09-09T06:59:00.493417",
     "status": "completed"
    },
    "tags": []
   },
   "source": [
    "**Sources**:\n",
    "\n",
    "https://www.kaggle.com/kamalkhumar/loan-status-prediction\n",
    "\n",
    "https://pandas.pydata.org/pandas-docs/stable/reference/api/pandas.DataFrame.describe.html\n",
    "\n",
    "https://seaborn.pydata.org/generated/seaborn.heatmap.html"
   ]
  },
  {
   "cell_type": "code",
   "execution_count": 1,
   "metadata": {
    "_cell_guid": "b1076dfc-b9ad-4769-8c92-a6c4dae69d19",
    "_uuid": "8f2839f25d086af736a60e9eeb907d3b93b6e0e5",
    "execution": {
     "iopub.execute_input": "2020-09-09T06:59:00.538904Z",
     "iopub.status.busy": "2020-09-09T06:59:00.537922Z",
     "iopub.status.idle": "2020-09-09T06:59:00.547700Z",
     "shell.execute_reply": "2020-09-09T06:59:00.546690Z"
    },
    "papermill": {
     "duration": 0.028724,
     "end_time": "2020-09-09T06:59:00.547937",
     "exception": false,
     "start_time": "2020-09-09T06:59:00.519213",
     "status": "completed"
    },
    "tags": []
   },
   "outputs": [
    {
     "name": "stdout",
     "output_type": "stream",
     "text": [
      "/kaggle/input/loan-data-set/loan_data_set.csv\n"
     ]
    }
   ],
   "source": [
    "# This Python 3 environment comes with many helpful analytics libraries installed\n",
    "# It is defined by the kaggle/python Docker image: https://github.com/kaggle/docker-python\n",
    "# For example, here's several helpful packages to load\n",
    "# Input data files are available in the read-only \"../input/\" directory\n",
    "# For example, running this (by clicking run or pressing Shift+Enter) will list all files under the input directory\n",
    "\n",
    "import os\n",
    "for dirname, _, filenames in os.walk('/kaggle/input'):\n",
    "    for filename in filenames:\n",
    "        print(os.path.join(dirname, filename))\n",
    "\n",
    "# You can write up to 5GB to the current directory (/kaggle/working/) that gets preserved as output when you create a version using \"Save & Run All\" \n",
    "# You can also write temporary files to /kaggle/temp/, but they won't be saved outside of the current session"
   ]
  },
  {
   "cell_type": "markdown",
   "execution_count": null,
   "metadata": {
    "papermill": {
     "duration": 0.012285,
     "end_time": "2020-09-09T06:59:00.576934",
     "exception": false,
     "start_time": "2020-09-09T06:59:00.564649",
     "status": "completed"
    },
    "tags": []
   },
   "source": [
    "# **DS Toolkit for Classification**"
   ]
  },
  {
   "cell_type": "code",
   "execution_count": 2,
   "metadata": {
    "execution": {
     "iopub.execute_input": "2020-09-09T06:59:00.622157Z",
     "iopub.status.busy": "2020-09-09T06:59:00.621397Z",
     "iopub.status.idle": "2020-09-09T06:59:02.301343Z",
     "shell.execute_reply": "2020-09-09T06:59:02.300287Z"
    },
    "papermill": {
     "duration": 1.711812,
     "end_time": "2020-09-09T06:59:02.301533",
     "exception": false,
     "start_time": "2020-09-09T06:59:00.589721",
     "status": "completed"
    },
    "tags": []
   },
   "outputs": [],
   "source": [
    "import numpy as np\n",
    "import pandas as pd\n",
    "import seaborn as sns\n",
    "from matplotlib import pyplot as plt\n",
    "\n",
    "from sklearn.preprocessing import Normalizer\n",
    "from sklearn.model_selection import train_test_split\n",
    "from pylab import plot, show, subplot, specgram, imshow, savefig\n",
    "from sklearn import preprocessing\n",
    "from sklearn import metrics\n",
    "from sklearn.preprocessing import LabelEncoder\n",
    "from sklearn.model_selection import cross_val_score\n",
    "from sklearn.preprocessing import Normalizer\n",
    "from sklearn.feature_extraction.text import TfidfVectorizer\n",
    "from sklearn.model_selection import train_test_split\n",
    "from sklearn.naive_bayes import MultinomialNB\n",
    "from sklearn.naive_bayes import GaussianNB\n",
    "from sklearn.naive_bayes import BernoulliNB\n",
    "from sklearn.svm import SVC\n",
    "from sklearn.neural_network import MLPClassifier\n",
    "from sklearn.ensemble import AdaBoostClassifier\n",
    "from sklearn.tree import DecisionTreeClassifier\n",
    "from sklearn.ensemble import RandomForestClassifier\n",
    "from sklearn.ensemble import GradientBoostingClassifier\n",
    "from sklearn.linear_model import LogisticRegression\n",
    "from sklearn.model_selection import GridSearchCV\n",
    "from sklearn.metrics import accuracy_score,f1_score, confusion_matrix\n",
    "%matplotlib inline"
   ]
  },
  {
   "cell_type": "code",
   "execution_count": 3,
   "metadata": {
    "execution": {
     "iopub.execute_input": "2020-09-09T06:59:02.334560Z",
     "iopub.status.busy": "2020-09-09T06:59:02.333805Z",
     "iopub.status.idle": "2020-09-09T06:59:02.336932Z",
     "shell.execute_reply": "2020-09-09T06:59:02.336320Z"
    },
    "papermill": {
     "duration": 0.020881,
     "end_time": "2020-09-09T06:59:02.337055",
     "exception": false,
     "start_time": "2020-09-09T06:59:02.316174",
     "status": "completed"
    },
    "tags": []
   },
   "outputs": [],
   "source": [
    "FILEPATH = '/kaggle/input/loan-data-set/loan_data_set.csv'"
   ]
  },
  {
   "cell_type": "code",
   "execution_count": 4,
   "metadata": {
    "_cell_guid": "79c7e3d0-c299-4dcb-8224-4455121ee9b0",
    "_uuid": "d629ff2d2480ee46fbb7e2d37f6b5fab8052498a",
    "execution": {
     "iopub.execute_input": "2020-09-09T06:59:02.368258Z",
     "iopub.status.busy": "2020-09-09T06:59:02.367463Z",
     "iopub.status.idle": "2020-09-09T06:59:02.411342Z",
     "shell.execute_reply": "2020-09-09T06:59:02.410745Z"
    },
    "papermill": {
     "duration": 0.063249,
     "end_time": "2020-09-09T06:59:02.411455",
     "exception": false,
     "start_time": "2020-09-09T06:59:02.348206",
     "status": "completed"
    },
    "tags": []
   },
   "outputs": [
    {
     "data": {
      "text/html": [
       "<div>\n",
       "<style scoped>\n",
       "    .dataframe tbody tr th:only-of-type {\n",
       "        vertical-align: middle;\n",
       "    }\n",
       "\n",
       "    .dataframe tbody tr th {\n",
       "        vertical-align: top;\n",
       "    }\n",
       "\n",
       "    .dataframe thead th {\n",
       "        text-align: right;\n",
       "    }\n",
       "</style>\n",
       "<table border=\"1\" class=\"dataframe\">\n",
       "  <thead>\n",
       "    <tr style=\"text-align: right;\">\n",
       "      <th></th>\n",
       "      <th>Loan_ID</th>\n",
       "      <th>Gender</th>\n",
       "      <th>Married</th>\n",
       "      <th>Dependents</th>\n",
       "      <th>Education</th>\n",
       "      <th>Self_Employed</th>\n",
       "      <th>ApplicantIncome</th>\n",
       "      <th>CoapplicantIncome</th>\n",
       "      <th>LoanAmount</th>\n",
       "      <th>Loan_Amount_Term</th>\n",
       "      <th>Credit_History</th>\n",
       "      <th>Property_Area</th>\n",
       "      <th>Loan_Status</th>\n",
       "    </tr>\n",
       "  </thead>\n",
       "  <tbody>\n",
       "    <tr>\n",
       "      <th>0</th>\n",
       "      <td>LP001002</td>\n",
       "      <td>Male</td>\n",
       "      <td>No</td>\n",
       "      <td>0</td>\n",
       "      <td>Graduate</td>\n",
       "      <td>No</td>\n",
       "      <td>5849</td>\n",
       "      <td>0.0</td>\n",
       "      <td>NaN</td>\n",
       "      <td>360.0</td>\n",
       "      <td>1.0</td>\n",
       "      <td>Urban</td>\n",
       "      <td>Y</td>\n",
       "    </tr>\n",
       "    <tr>\n",
       "      <th>1</th>\n",
       "      <td>LP001003</td>\n",
       "      <td>Male</td>\n",
       "      <td>Yes</td>\n",
       "      <td>1</td>\n",
       "      <td>Graduate</td>\n",
       "      <td>No</td>\n",
       "      <td>4583</td>\n",
       "      <td>1508.0</td>\n",
       "      <td>128.0</td>\n",
       "      <td>360.0</td>\n",
       "      <td>1.0</td>\n",
       "      <td>Rural</td>\n",
       "      <td>N</td>\n",
       "    </tr>\n",
       "    <tr>\n",
       "      <th>2</th>\n",
       "      <td>LP001005</td>\n",
       "      <td>Male</td>\n",
       "      <td>Yes</td>\n",
       "      <td>0</td>\n",
       "      <td>Graduate</td>\n",
       "      <td>Yes</td>\n",
       "      <td>3000</td>\n",
       "      <td>0.0</td>\n",
       "      <td>66.0</td>\n",
       "      <td>360.0</td>\n",
       "      <td>1.0</td>\n",
       "      <td>Urban</td>\n",
       "      <td>Y</td>\n",
       "    </tr>\n",
       "    <tr>\n",
       "      <th>3</th>\n",
       "      <td>LP001006</td>\n",
       "      <td>Male</td>\n",
       "      <td>Yes</td>\n",
       "      <td>0</td>\n",
       "      <td>Not Graduate</td>\n",
       "      <td>No</td>\n",
       "      <td>2583</td>\n",
       "      <td>2358.0</td>\n",
       "      <td>120.0</td>\n",
       "      <td>360.0</td>\n",
       "      <td>1.0</td>\n",
       "      <td>Urban</td>\n",
       "      <td>Y</td>\n",
       "    </tr>\n",
       "    <tr>\n",
       "      <th>4</th>\n",
       "      <td>LP001008</td>\n",
       "      <td>Male</td>\n",
       "      <td>No</td>\n",
       "      <td>0</td>\n",
       "      <td>Graduate</td>\n",
       "      <td>No</td>\n",
       "      <td>6000</td>\n",
       "      <td>0.0</td>\n",
       "      <td>141.0</td>\n",
       "      <td>360.0</td>\n",
       "      <td>1.0</td>\n",
       "      <td>Urban</td>\n",
       "      <td>Y</td>\n",
       "    </tr>\n",
       "  </tbody>\n",
       "</table>\n",
       "</div>"
      ],
      "text/plain": [
       "    Loan_ID Gender Married Dependents     Education Self_Employed  \\\n",
       "0  LP001002   Male      No          0      Graduate            No   \n",
       "1  LP001003   Male     Yes          1      Graduate            No   \n",
       "2  LP001005   Male     Yes          0      Graduate           Yes   \n",
       "3  LP001006   Male     Yes          0  Not Graduate            No   \n",
       "4  LP001008   Male      No          0      Graduate            No   \n",
       "\n",
       "   ApplicantIncome  CoapplicantIncome  LoanAmount  Loan_Amount_Term  \\\n",
       "0             5849                0.0         NaN             360.0   \n",
       "1             4583             1508.0       128.0             360.0   \n",
       "2             3000                0.0        66.0             360.0   \n",
       "3             2583             2358.0       120.0             360.0   \n",
       "4             6000                0.0       141.0             360.0   \n",
       "\n",
       "   Credit_History Property_Area Loan_Status  \n",
       "0             1.0         Urban           Y  \n",
       "1             1.0         Rural           N  \n",
       "2             1.0         Urban           Y  \n",
       "3             1.0         Urban           Y  \n",
       "4             1.0         Urban           Y  "
      ]
     },
     "execution_count": 4,
     "metadata": {},
     "output_type": "execute_result"
    }
   ],
   "source": [
    "df = pd.read_csv(FILEPATH)\n",
    "df.head()"
   ]
  },
  {
   "cell_type": "markdown",
   "execution_count": null,
   "metadata": {
    "papermill": {
     "duration": 0.010777,
     "end_time": "2020-09-09T06:59:02.433603",
     "exception": false,
     "start_time": "2020-09-09T06:59:02.422826",
     "status": "completed"
    },
    "tags": []
   },
   "source": [
    "# **DataFrame Analysis**\n",
    "\n",
    "* Size\n",
    "* Description\n",
    "* Info\n",
    "* Null values in any columns"
   ]
  },
  {
   "cell_type": "code",
   "execution_count": 5,
   "metadata": {
    "execution": {
     "iopub.execute_input": "2020-09-09T06:59:02.462004Z",
     "iopub.status.busy": "2020-09-09T06:59:02.461124Z",
     "iopub.status.idle": "2020-09-09T06:59:02.465641Z",
     "shell.execute_reply": "2020-09-09T06:59:02.466229Z"
    },
    "papermill": {
     "duration": 0.021388,
     "end_time": "2020-09-09T06:59:02.466379",
     "exception": false,
     "start_time": "2020-09-09T06:59:02.444991",
     "status": "completed"
    },
    "tags": []
   },
   "outputs": [
    {
     "data": {
      "text/plain": [
       "(614, 13)"
      ]
     },
     "execution_count": 5,
     "metadata": {},
     "output_type": "execute_result"
    }
   ],
   "source": [
    "df.shape"
   ]
  },
  {
   "cell_type": "code",
   "execution_count": 6,
   "metadata": {
    "execution": {
     "iopub.execute_input": "2020-09-09T06:59:02.497363Z",
     "iopub.status.busy": "2020-09-09T06:59:02.496553Z",
     "iopub.status.idle": "2020-09-09T06:59:02.578084Z",
     "shell.execute_reply": "2020-09-09T06:59:02.577323Z"
    },
    "papermill": {
     "duration": 0.10042,
     "end_time": "2020-09-09T06:59:02.578205",
     "exception": false,
     "start_time": "2020-09-09T06:59:02.477785",
     "status": "completed"
    },
    "tags": []
   },
   "outputs": [
    {
     "data": {
      "text/html": [
       "<div>\n",
       "<style scoped>\n",
       "    .dataframe tbody tr th:only-of-type {\n",
       "        vertical-align: middle;\n",
       "    }\n",
       "\n",
       "    .dataframe tbody tr th {\n",
       "        vertical-align: top;\n",
       "    }\n",
       "\n",
       "    .dataframe thead th {\n",
       "        text-align: right;\n",
       "    }\n",
       "</style>\n",
       "<table border=\"1\" class=\"dataframe\">\n",
       "  <thead>\n",
       "    <tr style=\"text-align: right;\">\n",
       "      <th></th>\n",
       "      <th>Loan_ID</th>\n",
       "      <th>Gender</th>\n",
       "      <th>Married</th>\n",
       "      <th>Dependents</th>\n",
       "      <th>Education</th>\n",
       "      <th>Self_Employed</th>\n",
       "      <th>ApplicantIncome</th>\n",
       "      <th>CoapplicantIncome</th>\n",
       "      <th>LoanAmount</th>\n",
       "      <th>Loan_Amount_Term</th>\n",
       "      <th>Credit_History</th>\n",
       "      <th>Property_Area</th>\n",
       "      <th>Loan_Status</th>\n",
       "    </tr>\n",
       "  </thead>\n",
       "  <tbody>\n",
       "    <tr>\n",
       "      <th>count</th>\n",
       "      <td>614</td>\n",
       "      <td>601</td>\n",
       "      <td>611</td>\n",
       "      <td>599</td>\n",
       "      <td>614</td>\n",
       "      <td>582</td>\n",
       "      <td>614.000000</td>\n",
       "      <td>614.000000</td>\n",
       "      <td>592.000000</td>\n",
       "      <td>600.00000</td>\n",
       "      <td>564.000000</td>\n",
       "      <td>614</td>\n",
       "      <td>614</td>\n",
       "    </tr>\n",
       "    <tr>\n",
       "      <th>unique</th>\n",
       "      <td>614</td>\n",
       "      <td>2</td>\n",
       "      <td>2</td>\n",
       "      <td>4</td>\n",
       "      <td>2</td>\n",
       "      <td>2</td>\n",
       "      <td>NaN</td>\n",
       "      <td>NaN</td>\n",
       "      <td>NaN</td>\n",
       "      <td>NaN</td>\n",
       "      <td>NaN</td>\n",
       "      <td>3</td>\n",
       "      <td>2</td>\n",
       "    </tr>\n",
       "    <tr>\n",
       "      <th>top</th>\n",
       "      <td>LP001116</td>\n",
       "      <td>Male</td>\n",
       "      <td>Yes</td>\n",
       "      <td>0</td>\n",
       "      <td>Graduate</td>\n",
       "      <td>No</td>\n",
       "      <td>NaN</td>\n",
       "      <td>NaN</td>\n",
       "      <td>NaN</td>\n",
       "      <td>NaN</td>\n",
       "      <td>NaN</td>\n",
       "      <td>Semiurban</td>\n",
       "      <td>Y</td>\n",
       "    </tr>\n",
       "    <tr>\n",
       "      <th>freq</th>\n",
       "      <td>1</td>\n",
       "      <td>489</td>\n",
       "      <td>398</td>\n",
       "      <td>345</td>\n",
       "      <td>480</td>\n",
       "      <td>500</td>\n",
       "      <td>NaN</td>\n",
       "      <td>NaN</td>\n",
       "      <td>NaN</td>\n",
       "      <td>NaN</td>\n",
       "      <td>NaN</td>\n",
       "      <td>233</td>\n",
       "      <td>422</td>\n",
       "    </tr>\n",
       "    <tr>\n",
       "      <th>mean</th>\n",
       "      <td>NaN</td>\n",
       "      <td>NaN</td>\n",
       "      <td>NaN</td>\n",
       "      <td>NaN</td>\n",
       "      <td>NaN</td>\n",
       "      <td>NaN</td>\n",
       "      <td>5403.459283</td>\n",
       "      <td>1621.245798</td>\n",
       "      <td>146.412162</td>\n",
       "      <td>342.00000</td>\n",
       "      <td>0.842199</td>\n",
       "      <td>NaN</td>\n",
       "      <td>NaN</td>\n",
       "    </tr>\n",
       "    <tr>\n",
       "      <th>std</th>\n",
       "      <td>NaN</td>\n",
       "      <td>NaN</td>\n",
       "      <td>NaN</td>\n",
       "      <td>NaN</td>\n",
       "      <td>NaN</td>\n",
       "      <td>NaN</td>\n",
       "      <td>6109.041673</td>\n",
       "      <td>2926.248369</td>\n",
       "      <td>85.587325</td>\n",
       "      <td>65.12041</td>\n",
       "      <td>0.364878</td>\n",
       "      <td>NaN</td>\n",
       "      <td>NaN</td>\n",
       "    </tr>\n",
       "    <tr>\n",
       "      <th>min</th>\n",
       "      <td>NaN</td>\n",
       "      <td>NaN</td>\n",
       "      <td>NaN</td>\n",
       "      <td>NaN</td>\n",
       "      <td>NaN</td>\n",
       "      <td>NaN</td>\n",
       "      <td>150.000000</td>\n",
       "      <td>0.000000</td>\n",
       "      <td>9.000000</td>\n",
       "      <td>12.00000</td>\n",
       "      <td>0.000000</td>\n",
       "      <td>NaN</td>\n",
       "      <td>NaN</td>\n",
       "    </tr>\n",
       "    <tr>\n",
       "      <th>25%</th>\n",
       "      <td>NaN</td>\n",
       "      <td>NaN</td>\n",
       "      <td>NaN</td>\n",
       "      <td>NaN</td>\n",
       "      <td>NaN</td>\n",
       "      <td>NaN</td>\n",
       "      <td>2877.500000</td>\n",
       "      <td>0.000000</td>\n",
       "      <td>100.000000</td>\n",
       "      <td>360.00000</td>\n",
       "      <td>1.000000</td>\n",
       "      <td>NaN</td>\n",
       "      <td>NaN</td>\n",
       "    </tr>\n",
       "    <tr>\n",
       "      <th>50%</th>\n",
       "      <td>NaN</td>\n",
       "      <td>NaN</td>\n",
       "      <td>NaN</td>\n",
       "      <td>NaN</td>\n",
       "      <td>NaN</td>\n",
       "      <td>NaN</td>\n",
       "      <td>3812.500000</td>\n",
       "      <td>1188.500000</td>\n",
       "      <td>128.000000</td>\n",
       "      <td>360.00000</td>\n",
       "      <td>1.000000</td>\n",
       "      <td>NaN</td>\n",
       "      <td>NaN</td>\n",
       "    </tr>\n",
       "    <tr>\n",
       "      <th>75%</th>\n",
       "      <td>NaN</td>\n",
       "      <td>NaN</td>\n",
       "      <td>NaN</td>\n",
       "      <td>NaN</td>\n",
       "      <td>NaN</td>\n",
       "      <td>NaN</td>\n",
       "      <td>5795.000000</td>\n",
       "      <td>2297.250000</td>\n",
       "      <td>168.000000</td>\n",
       "      <td>360.00000</td>\n",
       "      <td>1.000000</td>\n",
       "      <td>NaN</td>\n",
       "      <td>NaN</td>\n",
       "    </tr>\n",
       "    <tr>\n",
       "      <th>max</th>\n",
       "      <td>NaN</td>\n",
       "      <td>NaN</td>\n",
       "      <td>NaN</td>\n",
       "      <td>NaN</td>\n",
       "      <td>NaN</td>\n",
       "      <td>NaN</td>\n",
       "      <td>81000.000000</td>\n",
       "      <td>41667.000000</td>\n",
       "      <td>700.000000</td>\n",
       "      <td>480.00000</td>\n",
       "      <td>1.000000</td>\n",
       "      <td>NaN</td>\n",
       "      <td>NaN</td>\n",
       "    </tr>\n",
       "  </tbody>\n",
       "</table>\n",
       "</div>"
      ],
      "text/plain": [
       "         Loan_ID Gender Married Dependents Education Self_Employed  \\\n",
       "count        614    601     611        599       614           582   \n",
       "unique       614      2       2          4         2             2   \n",
       "top     LP001116   Male     Yes          0  Graduate            No   \n",
       "freq           1    489     398        345       480           500   \n",
       "mean         NaN    NaN     NaN        NaN       NaN           NaN   \n",
       "std          NaN    NaN     NaN        NaN       NaN           NaN   \n",
       "min          NaN    NaN     NaN        NaN       NaN           NaN   \n",
       "25%          NaN    NaN     NaN        NaN       NaN           NaN   \n",
       "50%          NaN    NaN     NaN        NaN       NaN           NaN   \n",
       "75%          NaN    NaN     NaN        NaN       NaN           NaN   \n",
       "max          NaN    NaN     NaN        NaN       NaN           NaN   \n",
       "\n",
       "        ApplicantIncome  CoapplicantIncome  LoanAmount  Loan_Amount_Term  \\\n",
       "count        614.000000         614.000000  592.000000         600.00000   \n",
       "unique              NaN                NaN         NaN               NaN   \n",
       "top                 NaN                NaN         NaN               NaN   \n",
       "freq                NaN                NaN         NaN               NaN   \n",
       "mean        5403.459283        1621.245798  146.412162         342.00000   \n",
       "std         6109.041673        2926.248369   85.587325          65.12041   \n",
       "min          150.000000           0.000000    9.000000          12.00000   \n",
       "25%         2877.500000           0.000000  100.000000         360.00000   \n",
       "50%         3812.500000        1188.500000  128.000000         360.00000   \n",
       "75%         5795.000000        2297.250000  168.000000         360.00000   \n",
       "max        81000.000000       41667.000000  700.000000         480.00000   \n",
       "\n",
       "        Credit_History Property_Area Loan_Status  \n",
       "count       564.000000           614         614  \n",
       "unique             NaN             3           2  \n",
       "top                NaN     Semiurban           Y  \n",
       "freq               NaN           233         422  \n",
       "mean          0.842199           NaN         NaN  \n",
       "std           0.364878           NaN         NaN  \n",
       "min           0.000000           NaN         NaN  \n",
       "25%           1.000000           NaN         NaN  \n",
       "50%           1.000000           NaN         NaN  \n",
       "75%           1.000000           NaN         NaN  \n",
       "max           1.000000           NaN         NaN  "
      ]
     },
     "execution_count": 6,
     "metadata": {},
     "output_type": "execute_result"
    }
   ],
   "source": [
    "df.describe(include='all')"
   ]
  },
  {
   "cell_type": "code",
   "execution_count": 7,
   "metadata": {
    "execution": {
     "iopub.execute_input": "2020-09-09T06:59:02.624234Z",
     "iopub.status.busy": "2020-09-09T06:59:02.618893Z",
     "iopub.status.idle": "2020-09-09T06:59:02.629098Z",
     "shell.execute_reply": "2020-09-09T06:59:02.628244Z"
    },
    "papermill": {
     "duration": 0.039112,
     "end_time": "2020-09-09T06:59:02.629264",
     "exception": false,
     "start_time": "2020-09-09T06:59:02.590152",
     "status": "completed"
    },
    "tags": []
   },
   "outputs": [
    {
     "name": "stdout",
     "output_type": "stream",
     "text": [
      "<class 'pandas.core.frame.DataFrame'>\n",
      "RangeIndex: 614 entries, 0 to 613\n",
      "Data columns (total 13 columns):\n",
      " #   Column             Non-Null Count  Dtype  \n",
      "---  ------             --------------  -----  \n",
      " 0   Loan_ID            614 non-null    object \n",
      " 1   Gender             601 non-null    object \n",
      " 2   Married            611 non-null    object \n",
      " 3   Dependents         599 non-null    object \n",
      " 4   Education          614 non-null    object \n",
      " 5   Self_Employed      582 non-null    object \n",
      " 6   ApplicantIncome    614 non-null    int64  \n",
      " 7   CoapplicantIncome  614 non-null    float64\n",
      " 8   LoanAmount         592 non-null    float64\n",
      " 9   Loan_Amount_Term   600 non-null    float64\n",
      " 10  Credit_History     564 non-null    float64\n",
      " 11  Property_Area      614 non-null    object \n",
      " 12  Loan_Status        614 non-null    object \n",
      "dtypes: float64(4), int64(1), object(8)\n",
      "memory usage: 62.5+ KB\n"
     ]
    }
   ],
   "source": [
    "df.info()"
   ]
  },
  {
   "cell_type": "code",
   "execution_count": 8,
   "metadata": {
    "execution": {
     "iopub.execute_input": "2020-09-09T06:59:02.665843Z",
     "iopub.status.busy": "2020-09-09T06:59:02.665056Z",
     "iopub.status.idle": "2020-09-09T06:59:02.669884Z",
     "shell.execute_reply": "2020-09-09T06:59:02.670399Z"
    },
    "papermill": {
     "duration": 0.028585,
     "end_time": "2020-09-09T06:59:02.670580",
     "exception": false,
     "start_time": "2020-09-09T06:59:02.641995",
     "status": "completed"
    },
    "tags": []
   },
   "outputs": [
    {
     "data": {
      "text/plain": [
       "Loan_ID              False\n",
       "Gender                True\n",
       "Married               True\n",
       "Dependents            True\n",
       "Education            False\n",
       "Self_Employed         True\n",
       "ApplicantIncome      False\n",
       "CoapplicantIncome    False\n",
       "LoanAmount            True\n",
       "Loan_Amount_Term      True\n",
       "Credit_History        True\n",
       "Property_Area        False\n",
       "Loan_Status          False\n",
       "dtype: bool"
      ]
     },
     "execution_count": 8,
     "metadata": {},
     "output_type": "execute_result"
    }
   ],
   "source": [
    "df.isnull().any()"
   ]
  },
  {
   "cell_type": "markdown",
   "execution_count": null,
   "metadata": {
    "papermill": {
     "duration": 0.012115,
     "end_time": "2020-09-09T06:59:02.695004",
     "exception": false,
     "start_time": "2020-09-09T06:59:02.682889",
     "status": "completed"
    },
    "tags": []
   },
   "source": [
    "Null values are there but,\n",
    "\n",
    "How many values are null exactly??"
   ]
  },
  {
   "cell_type": "code",
   "execution_count": 9,
   "metadata": {
    "execution": {
     "iopub.execute_input": "2020-09-09T06:59:02.730547Z",
     "iopub.status.busy": "2020-09-09T06:59:02.729550Z",
     "iopub.status.idle": "2020-09-09T06:59:02.733788Z",
     "shell.execute_reply": "2020-09-09T06:59:02.734382Z"
    },
    "papermill": {
     "duration": 0.027114,
     "end_time": "2020-09-09T06:59:02.734553",
     "exception": false,
     "start_time": "2020-09-09T06:59:02.707439",
     "status": "completed"
    },
    "tags": []
   },
   "outputs": [
    {
     "data": {
      "text/plain": [
       "Loan_ID               0\n",
       "Gender               13\n",
       "Married               3\n",
       "Dependents           15\n",
       "Education             0\n",
       "Self_Employed        32\n",
       "ApplicantIncome       0\n",
       "CoapplicantIncome     0\n",
       "LoanAmount           22\n",
       "Loan_Amount_Term     14\n",
       "Credit_History       50\n",
       "Property_Area         0\n",
       "Loan_Status           0\n",
       "dtype: int64"
      ]
     },
     "execution_count": 9,
     "metadata": {},
     "output_type": "execute_result"
    }
   ],
   "source": [
    "df.isna().sum()"
   ]
  },
  {
   "cell_type": "markdown",
   "execution_count": null,
   "metadata": {
    "papermill": {
     "duration": 0.012046,
     "end_time": "2020-09-09T06:59:02.759341",
     "exception": false,
     "start_time": "2020-09-09T06:59:02.747295",
     "status": "completed"
    },
    "tags": []
   },
   "source": [
    "It is hard to replace values like Gender, Married since they're categorical.\n",
    "\n",
    "Other columns are not numerical so we can mostly drop them for the lack of a better strategy.\n",
    "\n",
    "For the columns that are numerical, let's fill 'em shall we??"
   ]
  },
  {
   "cell_type": "code",
   "execution_count": 10,
   "metadata": {
    "execution": {
     "iopub.execute_input": "2020-09-09T06:59:02.792138Z",
     "iopub.status.busy": "2020-09-09T06:59:02.791358Z",
     "iopub.status.idle": "2020-09-09T06:59:02.794485Z",
     "shell.execute_reply": "2020-09-09T06:59:02.793762Z"
    },
    "papermill": {
     "duration": 0.022828,
     "end_time": "2020-09-09T06:59:02.794645",
     "exception": false,
     "start_time": "2020-09-09T06:59:02.771817",
     "status": "completed"
    },
    "tags": []
   },
   "outputs": [],
   "source": [
    "df.Credit_History.fillna(df.Credit_History.mean(), inplace=True)\n",
    "df.Loan_Amount_Term.fillna(df.Loan_Amount_Term.mean(), inplace=True)"
   ]
  },
  {
   "cell_type": "code",
   "execution_count": 11,
   "metadata": {
    "execution": {
     "iopub.execute_input": "2020-09-09T06:59:02.827549Z",
     "iopub.status.busy": "2020-09-09T06:59:02.826733Z",
     "iopub.status.idle": "2020-09-09T06:59:02.835960Z",
     "shell.execute_reply": "2020-09-09T06:59:02.835290Z"
    },
    "papermill": {
     "duration": 0.028998,
     "end_time": "2020-09-09T06:59:02.836086",
     "exception": false,
     "start_time": "2020-09-09T06:59:02.807088",
     "status": "completed"
    },
    "tags": []
   },
   "outputs": [],
   "source": [
    "df.dropna(how=\"any\",inplace=True)"
   ]
  },
  {
   "cell_type": "code",
   "execution_count": 12,
   "metadata": {
    "execution": {
     "iopub.execute_input": "2020-09-09T06:59:02.872049Z",
     "iopub.status.busy": "2020-09-09T06:59:02.870950Z",
     "iopub.status.idle": "2020-09-09T06:59:02.875934Z",
     "shell.execute_reply": "2020-09-09T06:59:02.875297Z"
    },
    "papermill": {
     "duration": 0.026895,
     "end_time": "2020-09-09T06:59:02.876054",
     "exception": false,
     "start_time": "2020-09-09T06:59:02.849159",
     "status": "completed"
    },
    "tags": []
   },
   "outputs": [
    {
     "data": {
      "text/plain": [
       "Loan_ID              False\n",
       "Gender               False\n",
       "Married              False\n",
       "Dependents           False\n",
       "Education            False\n",
       "Self_Employed        False\n",
       "ApplicantIncome      False\n",
       "CoapplicantIncome    False\n",
       "LoanAmount           False\n",
       "Loan_Amount_Term     False\n",
       "Credit_History       False\n",
       "Property_Area        False\n",
       "Loan_Status          False\n",
       "dtype: bool"
      ]
     },
     "execution_count": 12,
     "metadata": {},
     "output_type": "execute_result"
    }
   ],
   "source": [
    "df.isnull().any()"
   ]
  },
  {
   "cell_type": "markdown",
   "execution_count": null,
   "metadata": {
    "papermill": {
     "duration": 0.01467,
     "end_time": "2020-09-09T06:59:02.903501",
     "exception": false,
     "start_time": "2020-09-09T06:59:02.888831",
     "status": "completed"
    },
    "tags": []
   },
   "source": [
    "Ok null values are handled \n",
    "\n",
    "Loan ID is good but not that important so we drop it"
   ]
  },
  {
   "cell_type": "code",
   "execution_count": 13,
   "metadata": {
    "execution": {
     "iopub.execute_input": "2020-09-09T06:59:02.937592Z",
     "iopub.status.busy": "2020-09-09T06:59:02.936645Z",
     "iopub.status.idle": "2020-09-09T06:59:02.940489Z",
     "shell.execute_reply": "2020-09-09T06:59:02.941235Z"
    },
    "papermill": {
     "duration": 0.023701,
     "end_time": "2020-09-09T06:59:02.941393",
     "exception": false,
     "start_time": "2020-09-09T06:59:02.917692",
     "status": "completed"
    },
    "tags": []
   },
   "outputs": [],
   "source": [
    "df.drop(\"Loan_ID\", axis=1, inplace=True)"
   ]
  },
  {
   "cell_type": "markdown",
   "execution_count": null,
   "metadata": {
    "papermill": {
     "duration": 0.013973,
     "end_time": "2020-09-09T06:59:02.969811",
     "exception": false,
     "start_time": "2020-09-09T06:59:02.955838",
     "status": "completed"
    },
    "tags": []
   },
   "source": [
    "We need numeric values for a classifier so we need to encode it. Label Encoder is used in this notebook"
   ]
  },
  {
   "cell_type": "code",
   "execution_count": 14,
   "metadata": {
    "execution": {
     "iopub.execute_input": "2020-09-09T06:59:03.013149Z",
     "iopub.status.busy": "2020-09-09T06:59:03.012328Z",
     "iopub.status.idle": "2020-09-09T06:59:03.015934Z",
     "shell.execute_reply": "2020-09-09T06:59:03.015309Z"
    },
    "papermill": {
     "duration": 0.031506,
     "end_time": "2020-09-09T06:59:03.016069",
     "exception": false,
     "start_time": "2020-09-09T06:59:02.984563",
     "status": "completed"
    },
    "tags": []
   },
   "outputs": [],
   "source": [
    "le = LabelEncoder()\n",
    "cols = df.columns.tolist()\n",
    "for column in cols:\n",
    "    if df[column].dtype == 'object':\n",
    "        df[column] = le.fit_transform(df[column])"
   ]
  },
  {
   "cell_type": "code",
   "execution_count": 15,
   "metadata": {
    "execution": {
     "iopub.execute_input": "2020-09-09T06:59:03.050738Z",
     "iopub.status.busy": "2020-09-09T06:59:03.049877Z",
     "iopub.status.idle": "2020-09-09T06:59:03.054540Z",
     "shell.execute_reply": "2020-09-09T06:59:03.053789Z"
    },
    "papermill": {
     "duration": 0.025555,
     "end_time": "2020-09-09T06:59:03.054674",
     "exception": false,
     "start_time": "2020-09-09T06:59:03.029119",
     "status": "completed"
    },
    "tags": []
   },
   "outputs": [
    {
     "data": {
      "text/plain": [
       "Gender                 int64\n",
       "Married                int64\n",
       "Dependents             int64\n",
       "Education              int64\n",
       "Self_Employed          int64\n",
       "ApplicantIncome        int64\n",
       "CoapplicantIncome    float64\n",
       "LoanAmount           float64\n",
       "Loan_Amount_Term     float64\n",
       "Credit_History       float64\n",
       "Property_Area          int64\n",
       "Loan_Status            int64\n",
       "dtype: object"
      ]
     },
     "execution_count": 15,
     "metadata": {},
     "output_type": "execute_result"
    }
   ],
   "source": [
    "df.dtypes"
   ]
  },
  {
   "cell_type": "markdown",
   "execution_count": null,
   "metadata": {
    "papermill": {
     "duration": 0.013311,
     "end_time": "2020-09-09T06:59:03.081430",
     "exception": false,
     "start_time": "2020-09-09T06:59:03.068119",
     "status": "completed"
    },
    "tags": []
   },
   "source": [
    "Alright on to,\n",
    "\n",
    "# The Heatmap of Correlation"
   ]
  },
  {
   "cell_type": "code",
   "execution_count": 16,
   "metadata": {
    "execution": {
     "iopub.execute_input": "2020-09-09T06:59:03.115572Z",
     "iopub.status.busy": "2020-09-09T06:59:03.114752Z",
     "iopub.status.idle": "2020-09-09T06:59:04.120381Z",
     "shell.execute_reply": "2020-09-09T06:59:04.120997Z"
    },
    "papermill": {
     "duration": 1.026488,
     "end_time": "2020-09-09T06:59:04.121159",
     "exception": false,
     "start_time": "2020-09-09T06:59:03.094671",
     "status": "completed"
    },
    "tags": []
   },
   "outputs": [
    {
     "data": {
      "image/png": "[encoded data removed]",
      "text/plain": [
       "<Figure size 1440x1080 with 2 Axes>"
      ]
     },
     "metadata": {
      "needs_background": "light"
     },
     "output_type": "display_data"
    }
   ],
   "source": [
    "fig, ax = plt.subplots(figsize=(20, 15))\n",
    "sns.heatmap(data=df.corr().round(2), annot=True, linewidths=0.7, cmap='YlGnBu')\n",
    "plt.show()"
   ]
  },
  {
   "cell_type": "markdown",
   "execution_count": null,
   "metadata": {
    "papermill": {
     "duration": 0.01397,
     "end_time": "2020-09-09T06:59:04.149644",
     "exception": false,
     "start_time": "2020-09-09T06:59:04.135674",
     "status": "completed"
    },
    "tags": []
   },
   "source": [
    "This is a function to plot feature importance for a model"
   ]
  },
  {
   "cell_type": "code",
   "execution_count": 17,
   "metadata": {
    "execution": {
     "iopub.execute_input": "2020-09-09T06:59:04.189343Z",
     "iopub.status.busy": "2020-09-09T06:59:04.188226Z",
     "iopub.status.idle": "2020-09-09T06:59:04.191568Z",
     "shell.execute_reply": "2020-09-09T06:59:04.190840Z"
    },
    "papermill": {
     "duration": 0.027655,
     "end_time": "2020-09-09T06:59:04.191693",
     "exception": false,
     "start_time": "2020-09-09T06:59:04.164038",
     "status": "completed"
    },
    "tags": []
   },
   "outputs": [],
   "source": [
    "def plot_feature_importance(importance,names,model_type):\n",
    "\n",
    "    #Create arrays from feature importance and feature names\n",
    "    feature_importance = np.array(importance)\n",
    "    feature_names = np.array(names)\n",
    "\n",
    "    #Create a DataFrame using a Dictionary\n",
    "    data={'feature_names':feature_names,'feature_importance':feature_importance}\n",
    "    fi_df = pd.DataFrame(data)\n",
    "\n",
    "    #Sort the DataFrame in order decreasing feature importance\n",
    "    fi_df.sort_values(by=['feature_importance'], ascending=False,inplace=True)\n",
    "\n",
    "    #Define size of bar plot\n",
    "    plt.figure(figsize=(10,8))\n",
    "    #Plot Searborn bar chart\n",
    "    sns.barplot(x=fi_df['feature_importance'], y=fi_df['feature_names'])\n",
    "    #Add chart labels\n",
    "    plt.title(model_type + ' FEATURE IMPORTANCE')\n",
    "    plt.xlabel('FEATURE IMPORTANCE')\n",
    "    plt.ylabel('FEATURE NAMES')"
   ]
  },
  {
   "cell_type": "markdown",
   "execution_count": null,
   "metadata": {
    "papermill": {
     "duration": 0.014183,
     "end_time": "2020-09-09T06:59:04.220312",
     "exception": false,
     "start_time": "2020-09-09T06:59:04.206129",
     "status": "completed"
    },
    "tags": []
   },
   "source": [
    "**Random Forest Classifier**"
   ]
  },
  {
   "cell_type": "code",
   "execution_count": 18,
   "metadata": {
    "execution": {
     "iopub.execute_input": "2020-09-09T06:59:04.260366Z",
     "iopub.status.busy": "2020-09-09T06:59:04.259193Z",
     "iopub.status.idle": "2020-09-09T06:59:04.816761Z",
     "shell.execute_reply": "2020-09-09T06:59:04.816074Z"
    },
    "papermill": {
     "duration": 0.582306,
     "end_time": "2020-09-09T06:59:04.816899",
     "exception": false,
     "start_time": "2020-09-09T06:59:04.234593",
     "status": "completed"
    },
    "tags": []
   },
   "outputs": [
    {
     "data": {
      "image/png": "[encoded data removed]",
      "text/plain": [
       "<Figure size 720x576 with 1 Axes>"
      ]
     },
     "metadata": {
      "needs_background": "light"
     },
     "output_type": "display_data"
    }
   ],
   "source": [
    "X = df.drop(\"Loan_Status\", axis=1)\n",
    "y = df[\"Loan_Status\"]\n",
    "\n",
    "rand_f = RandomForestClassifier().fit(X, y)\n",
    "\n",
    "plot_feature_importance(rand_f.feature_importances_, X.columns, 'RANDOM FOREST')"
   ]
  },
  {
   "cell_type": "markdown",
   "execution_count": null,
   "metadata": {
    "papermill": {
     "duration": 0.01522,
     "end_time": "2020-09-09T06:59:04.847596",
     "exception": false,
     "start_time": "2020-09-09T06:59:04.832376",
     "status": "completed"
    },
    "tags": []
   },
   "source": [
    "# Top 5\n",
    "\n",
    "* Credit_History\n",
    "* Applicant_Income\n",
    "* Loan_Amount\n",
    "* Copplicant_Income\n",
    "* Loan_Amount_Term\n",
    "\n",
    "Which makes sense since these are the parameters on which a bank decides whether to give a loan or not"
   ]
  },
  {
   "cell_type": "markdown",
   "execution_count": null,
   "metadata": {
    "papermill": {
     "duration": 0.01474,
     "end_time": "2020-09-09T06:59:04.877652",
     "exception": false,
     "start_time": "2020-09-09T06:59:04.862912",
     "status": "completed"
    },
    "tags": []
   },
   "source": [
    "# **Gradient Boosting Classifier**"
   ]
  },
  {
   "cell_type": "code",
   "execution_count": 19,
   "metadata": {
    "execution": {
     "iopub.execute_input": "2020-09-09T06:59:04.917565Z",
     "iopub.status.busy": "2020-09-09T06:59:04.916414Z",
     "iopub.status.idle": "2020-09-09T06:59:05.272171Z",
     "shell.execute_reply": "2020-09-09T06:59:05.271400Z"
    },
    "papermill": {
     "duration": 0.379537,
     "end_time": "2020-09-09T06:59:05.272296",
     "exception": false,
     "start_time": "2020-09-09T06:59:04.892759",
     "status": "completed"
    },
    "tags": []
   },
   "outputs": [
    {
     "data": {
      "image/png": "[encoded data removed]",
      "text/plain": [
       "<Figure size 720x576 with 1 Axes>"
      ]
     },
     "metadata": {
      "needs_background": "light"
     },
     "output_type": "display_data"
    }
   ],
   "source": [
    "gb_m = GradientBoostingClassifier().fit(X, y)\n",
    "\n",
    "plot_feature_importance(gb_m.feature_importances_, X.columns, 'GRADIENT BOOSTING')"
   ]
  },
  {
   "cell_type": "markdown",
   "execution_count": null,
   "metadata": {
    "papermill": {
     "duration": 0.015249,
     "end_time": "2020-09-09T06:59:05.302681",
     "exception": false,
     "start_time": "2020-09-09T06:59:05.287432",
     "status": "completed"
    },
    "tags": []
   },
   "source": [
    "Same Top 5 as Random Forest"
   ]
  },
  {
   "cell_type": "markdown",
   "execution_count": null,
   "metadata": {
    "papermill": {
     "duration": 0.014788,
     "end_time": "2020-09-09T06:59:05.332654",
     "exception": false,
     "start_time": "2020-09-09T06:59:05.317866",
     "status": "completed"
    },
    "tags": []
   },
   "source": [
    "# **Ada Boosting Classifier**"
   ]
  },
  {
   "cell_type": "code",
   "execution_count": 20,
   "metadata": {
    "execution": {
     "iopub.execute_input": "2020-09-09T06:59:05.373281Z",
     "iopub.status.busy": "2020-09-09T06:59:05.372482Z",
     "iopub.status.idle": "2020-09-09T06:59:05.711161Z",
     "shell.execute_reply": "2020-09-09T06:59:05.711769Z"
    },
    "papermill": {
     "duration": 0.364094,
     "end_time": "2020-09-09T06:59:05.711932",
     "exception": false,
     "start_time": "2020-09-09T06:59:05.347838",
     "status": "completed"
    },
    "tags": []
   },
   "outputs": [
    {
     "data": {
      "image/png": "[encoded data removed]",
      "text/plain": [
       "<Figure size 720x576 with 1 Axes>"
      ]
     },
     "metadata": {
      "needs_background": "light"
     },
     "output_type": "display_data"
    }
   ],
   "source": [
    "ada = AdaBoostClassifier().fit(X, y)\n",
    "\n",
    "plot_feature_importance(ada.feature_importances_, X.columns, 'ADA BOOST')"
   ]
  },
  {
   "cell_type": "markdown",
   "execution_count": null,
   "metadata": {
    "papermill": {
     "duration": 0.020119,
     "end_time": "2020-09-09T06:59:05.747731",
     "exception": false,
     "start_time": "2020-09-09T06:59:05.727612",
     "status": "completed"
    },
    "tags": []
   },
   "source": [
    "Property Area sneaks ahead of Credit History in Ada Boosting which is interesting"
   ]
  },
  {
   "cell_type": "code",
   "execution_count": 21,
   "metadata": {
    "execution": {
     "iopub.execute_input": "2020-09-09T06:59:05.785822Z",
     "iopub.status.busy": "2020-09-09T06:59:05.785024Z",
     "iopub.status.idle": "2020-09-09T06:59:05.788927Z",
     "shell.execute_reply": "2020-09-09T06:59:05.788289Z"
    },
    "papermill": {
     "duration": 0.025672,
     "end_time": "2020-09-09T06:59:05.789049",
     "exception": false,
     "start_time": "2020-09-09T06:59:05.763377",
     "status": "completed"
    },
    "tags": []
   },
   "outputs": [],
   "source": [
    "parameters = {'kernel':('linear', 'rbf'), 'C':[1, 10]}\n",
    "\n",
    "svc = SVC()\n",
    "\n",
    "grid = GridSearchCV(svc, parameters)"
   ]
  },
  {
   "cell_type": "code",
   "execution_count": 22,
   "metadata": {
    "execution": {
     "iopub.execute_input": "2020-09-09T06:59:05.829295Z",
     "iopub.status.busy": "2020-09-09T06:59:05.828346Z",
     "iopub.status.idle": "2020-09-09T06:59:05.831639Z",
     "shell.execute_reply": "2020-09-09T06:59:05.831028Z"
    },
    "papermill": {
     "duration": 0.027001,
     "end_time": "2020-09-09T06:59:05.831767",
     "exception": false,
     "start_time": "2020-09-09T06:59:05.804766",
     "status": "completed"
    },
    "tags": []
   },
   "outputs": [],
   "source": [
    "Xtrain, Xtest, ytrain, ytest = train_test_split(X, y, test_size=0.3, random_state=30) "
   ]
  },
  {
   "cell_type": "code",
   "execution_count": 23,
   "metadata": {
    "execution": {
     "iopub.execute_input": "2020-09-09T06:59:05.870222Z",
     "iopub.status.busy": "2020-09-09T06:59:05.869402Z",
     "iopub.status.idle": "2020-09-09T07:22:03.610455Z",
     "shell.execute_reply": "2020-09-09T07:22:03.611094Z"
    },
    "papermill": {
     "duration": 1377.763913,
     "end_time": "2020-09-09T07:22:03.611265",
     "exception": false,
     "start_time": "2020-09-09T06:59:05.847352",
     "status": "completed"
    },
    "tags": []
   },
   "outputs": [
    {
     "data": {
      "text/plain": [
       "GridSearchCV(estimator=SVC(),\n",
       "             param_grid={'C': [1, 10], 'kernel': ('linear', 'rbf')})"
      ]
     },
     "execution_count": 23,
     "metadata": {},
     "output_type": "execute_result"
    }
   ],
   "source": [
    "grid.fit(Xtrain, ytrain)"
   ]
  },
  {
   "cell_type": "code",
   "execution_count": 24,
   "metadata": {
    "execution": {
     "iopub.execute_input": "2020-09-09T07:22:03.649632Z",
     "iopub.status.busy": "2020-09-09T07:22:03.648504Z",
     "iopub.status.idle": "2020-09-09T07:22:03.652773Z",
     "shell.execute_reply": "2020-09-09T07:22:03.652112Z"
    },
    "papermill": {
     "duration": 0.025668,
     "end_time": "2020-09-09T07:22:03.652904",
     "exception": false,
     "start_time": "2020-09-09T07:22:03.627236",
     "status": "completed"
    },
    "tags": []
   },
   "outputs": [
    {
     "data": {
      "text/plain": [
       "{'C': 1, 'kernel': 'linear'}"
      ]
     },
     "execution_count": 24,
     "metadata": {},
     "output_type": "execute_result"
    }
   ],
   "source": [
    "grid.best_params_"
   ]
  },
  {
   "cell_type": "code",
   "execution_count": 25,
   "metadata": {
    "execution": {
     "iopub.execute_input": "2020-09-09T07:22:03.693700Z",
     "iopub.status.busy": "2020-09-09T07:22:03.692817Z",
     "iopub.status.idle": "2020-09-09T07:22:03.696738Z",
     "shell.execute_reply": "2020-09-09T07:22:03.696086Z"
    },
    "papermill": {
     "duration": 0.027712,
     "end_time": "2020-09-09T07:22:03.696874",
     "exception": false,
     "start_time": "2020-09-09T07:22:03.669162",
     "status": "completed"
    },
    "tags": []
   },
   "outputs": [],
   "source": [
    "pred = grid.best_estimator_.predict(Xtest)"
   ]
  },
  {
   "cell_type": "code",
   "execution_count": 26,
   "metadata": {
    "execution": {
     "iopub.execute_input": "2020-09-09T07:22:03.738982Z",
     "iopub.status.busy": "2020-09-09T07:22:03.737974Z",
     "iopub.status.idle": "2020-09-09T07:22:03.743100Z",
     "shell.execute_reply": "2020-09-09T07:22:03.742487Z"
    },
    "papermill": {
     "duration": 0.029668,
     "end_time": "2020-09-09T07:22:03.743230",
     "exception": false,
     "start_time": "2020-09-09T07:22:03.713562",
     "status": "completed"
    },
    "tags": []
   },
   "outputs": [
    {
     "data": {
      "text/plain": [
       "array([[ 15,  34],\n",
       "       [  2, 110]])"
      ]
     },
     "execution_count": 26,
     "metadata": {},
     "output_type": "execute_result"
    }
   ],
   "source": [
    "confusion_matrix(ytest,pred)"
   ]
  },
  {
   "cell_type": "code",
   "execution_count": 27,
   "metadata": {
    "execution": {
     "iopub.execute_input": "2020-09-09T07:22:03.783422Z",
     "iopub.status.busy": "2020-09-09T07:22:03.782536Z",
     "iopub.status.idle": "2020-09-09T07:22:03.786314Z",
     "shell.execute_reply": "2020-09-09T07:22:03.787074Z"
    },
    "papermill": {
     "duration": 0.027417,
     "end_time": "2020-09-09T07:22:03.787228",
     "exception": false,
     "start_time": "2020-09-09T07:22:03.759811",
     "status": "completed"
    },
    "tags": []
   },
   "outputs": [
    {
     "name": "stdout",
     "output_type": "stream",
     "text": [
      "Accuracy score: 77.64%\n"
     ]
    }
   ],
   "source": [
    "print(\"Accuracy score: {0}%\".format((accuracy_score(ytest,pred)*100).round(2)))"
   ]
  },
  {
   "cell_type": "code",
   "execution_count": 28,
   "metadata": {
    "execution": {
     "iopub.execute_input": "2020-09-09T07:22:03.826655Z",
     "iopub.status.busy": "2020-09-09T07:22:03.825863Z",
     "iopub.status.idle": "2020-09-09T07:22:04.231284Z",
     "shell.execute_reply": "2020-09-09T07:22:04.230493Z"
    },
    "papermill": {
     "duration": 0.427666,
     "end_time": "2020-09-09T07:22:04.231418",
     "exception": false,
     "start_time": "2020-09-09T07:22:03.803752",
     "status": "completed"
    },
    "tags": []
   },
   "outputs": [
    {
     "data": {
      "image/png": "[encoded data removed]",
      "text/plain": [
       "<Figure size 1080x576 with 1 Axes>"
      ]
     },
     "metadata": {
      "needs_background": "light"
     },
     "output_type": "display_data"
    }
   ],
   "source": [
    "fig,ax=plt.subplots(figsize=(15,8))\n",
    "sns.regplot(x=ytest,y=pred,marker=\"*\")\n",
    "plt.show()"
   ]
  },
  {
   "cell_type": "code",
   "execution_count": null,
   "metadata": {
    "papermill": {
     "duration": 0.016492,
     "end_time": "2020-09-09T07:22:04.265212",
     "exception": false,
     "start_time": "2020-09-09T07:22:04.248720",
     "status": "completed"
    },
    "tags": []
   },
   "outputs": [],
   "source": []
  }
 ],
 "metadata": {
  "kernelspec": {
   "display_name": "Python 3",
   "language": "python",
   "name": "python3"
  },
  "language_info": {
   "codemirror_mode": {
    "name": "ipython",
    "version": 3
   },
   "file_extension": ".py",
   "mimetype": "text/x-python",
   "name": "python",
   "nbconvert_exporter": "python",
   "pygments_lexer": "ipython3",
   "version": "3.7.6"
  },
  "papermill": {
   "duration": 1389.145215,
   "end_time": "2020-09-09T07:22:04.390691",
   "environment_variables": {},
   "exception": null,
   "input_path": "__notebook__.ipynb",
   "output_path": "__notebook__.ipynb",
   "parameters": {},
   "start_time": "2020-09-09T06:58:55.245476",
   "version": "2.1.0"
  }
 },
 "nbformat": 4,
 "nbformat_minor": 4
}
