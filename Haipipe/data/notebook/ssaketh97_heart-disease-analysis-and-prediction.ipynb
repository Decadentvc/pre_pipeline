{
 "cells": [
  {
   "cell_type": "markdown",
   "metadata": {},
   "source": [
    "#### If you Like My Work **Please UpVote**"
   ]
  },
  {
   "cell_type": "markdown",
   "metadata": {},
   "source": [
    "Heart Disease UCI dataset is been created from the Cleveland database with the subset of 14 attributes. \n",
    "\n",
    "In this kernel I am going to visualize few variables **with respect to the target data** and predict the target variable using different classification algorithms.\n"
   ]
  },
  {
   "cell_type": "markdown",
   "metadata": {},
   "source": [
    "This dataset is a classification type datset with two classifications 0 or 1. \n",
    "The target variable is angiographic disease status => \n",
    "Value 0: < 50% diameter narrowing  \n",
    "Value 1: > 50% diameter narrowing in any major vessel.  \n",
    "\n",
    "Lets import the dataset and analyse the data"
   ]
  },
  {
   "cell_type": "code",
   "execution_count": 1,
   "metadata": {
    "_cell_guid": "b1076dfc-b9ad-4769-8c92-a6c4dae69d19",
    "_uuid": "8f2839f25d086af736a60e9eeb907d3b93b6e0e5"
   },
   "outputs": [
    {
     "name": "stdout",
     "output_type": "stream",
     "text": [
      "['heart.csv']\n"
     ]
    }
   ],
   "source": [
    "from warnings import simplefilter\n",
    "# ignore all future warnings\n",
    "simplefilter(action='ignore', category=FutureWarning)\n",
    "\n",
    "import numpy as np \n",
    "import pandas as pd \n",
    "import matplotlib.pyplot as plt\n",
    "\n",
    "\n",
    "import os\n",
    "print(os.listdir(\"../input\"))\n"
   ]
  },
  {
   "cell_type": "code",
   "execution_count": 2,
   "metadata": {},
   "outputs": [
    {
     "data": {
      "text/html": [
       "<div>\n",
       "<style scoped>\n",
       "    .dataframe tbody tr th:only-of-type {\n",
       "        vertical-align: middle;\n",
       "    }\n",
       "\n",
       "    .dataframe tbody tr th {\n",
       "        vertical-align: top;\n",
       "    }\n",
       "\n",
       "    .dataframe thead th {\n",
       "        text-align: right;\n",
       "    }\n",
       "</style>\n",
       "<table border=\"1\" class=\"dataframe\">\n",
       "  <thead>\n",
       "    <tr style=\"text-align: right;\">\n",
       "      <th></th>\n",
       "      <th>age</th>\n",
       "      <th>sex</th>\n",
       "      <th>cp</th>\n",
       "      <th>trestbps</th>\n",
       "      <th>chol</th>\n",
       "      <th>fbs</th>\n",
       "      <th>restecg</th>\n",
       "      <th>thalach</th>\n",
       "      <th>exang</th>\n",
       "      <th>oldpeak</th>\n",
       "      <th>slope</th>\n",
       "      <th>ca</th>\n",
       "      <th>thal</th>\n",
       "      <th>target</th>\n",
       "    </tr>\n",
       "  </thead>\n",
       "  <tbody>\n",
       "    <tr>\n",
       "      <th>0</th>\n",
       "      <td>63</td>\n",
       "      <td>1</td>\n",
       "      <td>3</td>\n",
       "      <td>145</td>\n",
       "      <td>233</td>\n",
       "      <td>1</td>\n",
       "      <td>0</td>\n",
       "      <td>150</td>\n",
       "      <td>0</td>\n",
       "      <td>2.3</td>\n",
       "      <td>0</td>\n",
       "      <td>0</td>\n",
       "      <td>1</td>\n",
       "      <td>1</td>\n",
       "    </tr>\n",
       "    <tr>\n",
       "      <th>1</th>\n",
       "      <td>37</td>\n",
       "      <td>1</td>\n",
       "      <td>2</td>\n",
       "      <td>130</td>\n",
       "      <td>250</td>\n",
       "      <td>0</td>\n",
       "      <td>1</td>\n",
       "      <td>187</td>\n",
       "      <td>0</td>\n",
       "      <td>3.5</td>\n",
       "      <td>0</td>\n",
       "      <td>0</td>\n",
       "      <td>2</td>\n",
       "      <td>1</td>\n",
       "    </tr>\n",
       "    <tr>\n",
       "      <th>2</th>\n",
       "      <td>41</td>\n",
       "      <td>0</td>\n",
       "      <td>1</td>\n",
       "      <td>130</td>\n",
       "      <td>204</td>\n",
       "      <td>0</td>\n",
       "      <td>0</td>\n",
       "      <td>172</td>\n",
       "      <td>0</td>\n",
       "      <td>1.4</td>\n",
       "      <td>2</td>\n",
       "      <td>0</td>\n",
       "      <td>2</td>\n",
       "      <td>1</td>\n",
       "    </tr>\n",
       "    <tr>\n",
       "      <th>3</th>\n",
       "      <td>56</td>\n",
       "      <td>1</td>\n",
       "      <td>1</td>\n",
       "      <td>120</td>\n",
       "      <td>236</td>\n",
       "      <td>0</td>\n",
       "      <td>1</td>\n",
       "      <td>178</td>\n",
       "      <td>0</td>\n",
       "      <td>0.8</td>\n",
       "      <td>2</td>\n",
       "      <td>0</td>\n",
       "      <td>2</td>\n",
       "      <td>1</td>\n",
       "    </tr>\n",
       "    <tr>\n",
       "      <th>4</th>\n",
       "      <td>57</td>\n",
       "      <td>0</td>\n",
       "      <td>0</td>\n",
       "      <td>120</td>\n",
       "      <td>354</td>\n",
       "      <td>0</td>\n",
       "      <td>1</td>\n",
       "      <td>163</td>\n",
       "      <td>1</td>\n",
       "      <td>0.6</td>\n",
       "      <td>2</td>\n",
       "      <td>0</td>\n",
       "      <td>2</td>\n",
       "      <td>1</td>\n",
       "    </tr>\n",
       "  </tbody>\n",
       "</table>\n",
       "</div>"
      ],
      "text/plain": [
       "   age  sex  cp  trestbps  chol   ...    oldpeak  slope  ca  thal  target\n",
       "0   63    1   3       145   233   ...        2.3      0   0     1       1\n",
       "1   37    1   2       130   250   ...        3.5      0   0     2       1\n",
       "2   41    0   1       130   204   ...        1.4      2   0     2       1\n",
       "3   56    1   1       120   236   ...        0.8      2   0     2       1\n",
       "4   57    0   0       120   354   ...        0.6      2   0     2       1\n",
       "\n",
       "[5 rows x 14 columns]"
      ]
     },
     "execution_count": 2,
     "metadata": {},
     "output_type": "execute_result"
    }
   ],
   "source": [
    "heart_dataset = pd.read_csv('../input/heart.csv')\n",
    "heart_dataset.head()"
   ]
  },
  {
   "cell_type": "markdown",
   "metadata": {},
   "source": [
    "Description of the Columns in the dataset\n",
    "1. Age - Age of the person in Years\n",
    "\n",
    "1. Sex - Gender of the person (1-> male, 0 -> female)\n",
    "\n",
    "1. CP - Chest pain type (1 = typical angina, 2 = atypical angina, 3 = non-anginal pain, 4 = asymptomatic)\n",
    "\n",
    "1. trestbps - Resting Blood Pressure in mm Hg on admission to the hospital\n",
    "\n",
    "1. chol - Serum Cholestrol in mg/dl \n",
    "\n",
    "1. fbs - Fasting Blood Sugar > 120 mg/dl (1 = true \"> 120 mg/dl”, 0 = false \"< 120 mg/dl\")\n",
    "\n",
    "1. restecg - Resting electrocardiographic results (0 = normal, 1 = having ST-T wave abnormality \"T wave inversions and/or ST elevation or depression of > 0.05 mV”, 2 = showing probable or definite left ventricular hypertrophy by Estes' criteria)\n",
    "\n",
    "1. thalach - maximum heart rate achieved\n",
    "\n",
    "1. exang - exercise induced angina (1 = yes, 0 = no)\n",
    "\n",
    "1. oldpeak - ST depression induced by exercise relative to rest\n",
    "\n",
    "1. slope - the slope of the peak exercise ST segment (1 = up sloping, 2 = flat, 3 = down sloping)\n",
    "\n",
    "1. ca - number of major vessels colored by flourosopy (0-3)\n",
    "\n",
    "1. thal - (1 = normal, 2 = fixed defect, 3 = reversable defect)\n",
    "\n",
    "1. target - diagnosis of heart disease (angiographic disease status 0 = < 50% diameter narrowing,              1 = > 50% diameter narrowing in any major vessel attributes)  \n"
   ]
  },
  {
   "cell_type": "code",
   "execution_count": 3,
   "metadata": {},
   "outputs": [
    {
     "data": {
      "text/html": [
       "<div>\n",
       "<style scoped>\n",
       "    .dataframe tbody tr th:only-of-type {\n",
       "        vertical-align: middle;\n",
       "    }\n",
       "\n",
       "    .dataframe tbody tr th {\n",
       "        vertical-align: top;\n",
       "    }\n",
       "\n",
       "    .dataframe thead th {\n",
       "        text-align: right;\n",
       "    }\n",
       "</style>\n",
       "<table border=\"1\" class=\"dataframe\">\n",
       "  <thead>\n",
       "    <tr style=\"text-align: right;\">\n",
       "      <th></th>\n",
       "      <th>age</th>\n",
       "      <th>sex</th>\n",
       "      <th>cp</th>\n",
       "      <th>trestbps</th>\n",
       "      <th>chol</th>\n",
       "      <th>fbs</th>\n",
       "      <th>restecg</th>\n",
       "      <th>thalach</th>\n",
       "      <th>exang</th>\n",
       "      <th>oldpeak</th>\n",
       "      <th>slope</th>\n",
       "      <th>ca</th>\n",
       "      <th>thal</th>\n",
       "      <th>target</th>\n",
       "    </tr>\n",
       "  </thead>\n",
       "  <tbody>\n",
       "    <tr>\n",
       "      <th>count</th>\n",
       "      <td>303.000000</td>\n",
       "      <td>303.000000</td>\n",
       "      <td>303.000000</td>\n",
       "      <td>303.000000</td>\n",
       "      <td>303.000000</td>\n",
       "      <td>303.000000</td>\n",
       "      <td>303.000000</td>\n",
       "      <td>303.000000</td>\n",
       "      <td>303.000000</td>\n",
       "      <td>303.000000</td>\n",
       "      <td>303.000000</td>\n",
       "      <td>303.000000</td>\n",
       "      <td>303.000000</td>\n",
       "      <td>303.000000</td>\n",
       "    </tr>\n",
       "    <tr>\n",
       "      <th>mean</th>\n",
       "      <td>54.366337</td>\n",
       "      <td>0.683168</td>\n",
       "      <td>0.966997</td>\n",
       "      <td>131.623762</td>\n",
       "      <td>246.264026</td>\n",
       "      <td>0.148515</td>\n",
       "      <td>0.528053</td>\n",
       "      <td>149.646865</td>\n",
       "      <td>0.326733</td>\n",
       "      <td>1.039604</td>\n",
       "      <td>1.399340</td>\n",
       "      <td>0.729373</td>\n",
       "      <td>2.313531</td>\n",
       "      <td>0.544554</td>\n",
       "    </tr>\n",
       "    <tr>\n",
       "      <th>std</th>\n",
       "      <td>9.082101</td>\n",
       "      <td>0.466011</td>\n",
       "      <td>1.032052</td>\n",
       "      <td>17.538143</td>\n",
       "      <td>51.830751</td>\n",
       "      <td>0.356198</td>\n",
       "      <td>0.525860</td>\n",
       "      <td>22.905161</td>\n",
       "      <td>0.469794</td>\n",
       "      <td>1.161075</td>\n",
       "      <td>0.616226</td>\n",
       "      <td>1.022606</td>\n",
       "      <td>0.612277</td>\n",
       "      <td>0.498835</td>\n",
       "    </tr>\n",
       "    <tr>\n",
       "      <th>min</th>\n",
       "      <td>29.000000</td>\n",
       "      <td>0.000000</td>\n",
       "      <td>0.000000</td>\n",
       "      <td>94.000000</td>\n",
       "      <td>126.000000</td>\n",
       "      <td>0.000000</td>\n",
       "      <td>0.000000</td>\n",
       "      <td>71.000000</td>\n",
       "      <td>0.000000</td>\n",
       "      <td>0.000000</td>\n",
       "      <td>0.000000</td>\n",
       "      <td>0.000000</td>\n",
       "      <td>0.000000</td>\n",
       "      <td>0.000000</td>\n",
       "    </tr>\n",
       "    <tr>\n",
       "      <th>25%</th>\n",
       "      <td>47.500000</td>\n",
       "      <td>0.000000</td>\n",
       "      <td>0.000000</td>\n",
       "      <td>120.000000</td>\n",
       "      <td>211.000000</td>\n",
       "      <td>0.000000</td>\n",
       "      <td>0.000000</td>\n",
       "      <td>133.500000</td>\n",
       "      <td>0.000000</td>\n",
       "      <td>0.000000</td>\n",
       "      <td>1.000000</td>\n",
       "      <td>0.000000</td>\n",
       "      <td>2.000000</td>\n",
       "      <td>0.000000</td>\n",
       "    </tr>\n",
       "    <tr>\n",
       "      <th>50%</th>\n",
       "      <td>55.000000</td>\n",
       "      <td>1.000000</td>\n",
       "      <td>1.000000</td>\n",
       "      <td>130.000000</td>\n",
       "      <td>240.000000</td>\n",
       "      <td>0.000000</td>\n",
       "      <td>1.000000</td>\n",
       "      <td>153.000000</td>\n",
       "      <td>0.000000</td>\n",
       "      <td>0.800000</td>\n",
       "      <td>1.000000</td>\n",
       "      <td>0.000000</td>\n",
       "      <td>2.000000</td>\n",
       "      <td>1.000000</td>\n",
       "    </tr>\n",
       "    <tr>\n",
       "      <th>75%</th>\n",
       "      <td>61.000000</td>\n",
       "      <td>1.000000</td>\n",
       "      <td>2.000000</td>\n",
       "      <td>140.000000</td>\n",
       "      <td>274.500000</td>\n",
       "      <td>0.000000</td>\n",
       "      <td>1.000000</td>\n",
       "      <td>166.000000</td>\n",
       "      <td>1.000000</td>\n",
       "      <td>1.600000</td>\n",
       "      <td>2.000000</td>\n",
       "      <td>1.000000</td>\n",
       "      <td>3.000000</td>\n",
       "      <td>1.000000</td>\n",
       "    </tr>\n",
       "    <tr>\n",
       "      <th>max</th>\n",
       "      <td>77.000000</td>\n",
       "      <td>1.000000</td>\n",
       "      <td>3.000000</td>\n",
       "      <td>200.000000</td>\n",
       "      <td>564.000000</td>\n",
       "      <td>1.000000</td>\n",
       "      <td>2.000000</td>\n",
       "      <td>202.000000</td>\n",
       "      <td>1.000000</td>\n",
       "      <td>6.200000</td>\n",
       "      <td>2.000000</td>\n",
       "      <td>4.000000</td>\n",
       "      <td>3.000000</td>\n",
       "      <td>1.000000</td>\n",
       "    </tr>\n",
       "  </tbody>\n",
       "</table>\n",
       "</div>"
      ],
      "text/plain": [
       "              age         sex     ...            thal      target\n",
       "count  303.000000  303.000000     ...      303.000000  303.000000\n",
       "mean    54.366337    0.683168     ...        2.313531    0.544554\n",
       "std      9.082101    0.466011     ...        0.612277    0.498835\n",
       "min     29.000000    0.000000     ...        0.000000    0.000000\n",
       "25%     47.500000    0.000000     ...        2.000000    0.000000\n",
       "50%     55.000000    1.000000     ...        2.000000    1.000000\n",
       "75%     61.000000    1.000000     ...        3.000000    1.000000\n",
       "max     77.000000    1.000000     ...        3.000000    1.000000\n",
       "\n",
       "[8 rows x 14 columns]"
      ]
     },
     "execution_count": 3,
     "metadata": {},
     "output_type": "execute_result"
    }
   ],
   "source": [
    "heart_dataset.describe()"
   ]
  },
  {
   "cell_type": "markdown",
   "metadata": {},
   "source": [
    "from the count we can see that there are no missing data. Lets analyse variables like Age, Gender, ChestPain type and Thal with respect to the target varaible."
   ]
  },
  {
   "cell_type": "markdown",
   "metadata": {},
   "source": [
    "Lets split the dataset into two parts for analysis purpose. data with target = 1 and target = 0"
   ]
  },
  {
   "cell_type": "code",
   "execution_count": 4,
   "metadata": {},
   "outputs": [],
   "source": [
    "data_with_disease = heart_dataset[heart_dataset['target'] == 1]\n",
    "data_without_disease = heart_dataset[heart_dataset['target'] == 0]"
   ]
  },
  {
   "cell_type": "markdown",
   "metadata": {},
   "source": [
    "#### 1: relation between age and target variable\n",
    "which age group had suffered from heart disease"
   ]
  },
  {
   "cell_type": "code",
   "execution_count": 5,
   "metadata": {},
   "outputs": [
    {
     "name": "stderr",
     "output_type": "stream",
     "text": [
      "/opt/conda/lib/python3.6/site-packages/ipykernel_launcher.py:1: SettingWithCopyWarning: \n",
      "A value is trying to be set on a copy of a slice from a DataFrame.\n",
      "Try using .loc[row_indexer,col_indexer] = value instead\n",
      "\n",
      "See the caveats in the documentation: http://pandas.pydata.org/pandas-docs/stable/indexing.html#indexing-view-versus-copy\n",
      "  \"\"\"Entry point for launching an IPython kernel.\n",
      "/opt/conda/lib/python3.6/site-packages/ipykernel_launcher.py:2: SettingWithCopyWarning: \n",
      "A value is trying to be set on a copy of a slice from a DataFrame.\n",
      "Try using .loc[row_indexer,col_indexer] = value instead\n",
      "\n",
      "See the caveats in the documentation: http://pandas.pydata.org/pandas-docs/stable/indexing.html#indexing-view-versus-copy\n",
      "  \n"
     ]
    },
    {
     "data": {
      "image/png": "[encoded data removed]",
      "text/plain": [
       "<Figure size 432x432 with 1 Axes>"
      ]
     },
     "metadata": {},
     "output_type": "display_data"
    }
   ],
   "source": [
    "data_with_disease['age'] = ((data_with_disease['age']-(data_with_disease['age']%10))/10)\n",
    "data_without_disease['age'] = ((data_without_disease['age']-(data_without_disease['age']%10))/10) \n",
    "\n",
    "N=8\n",
    "ind =np.arange(N)\n",
    "\n",
    "disease_data = [0]*8\n",
    "no_disease_data = [0]*8\n",
    "\n",
    "for i in range(0,len(data_with_disease)):\n",
    "    disease_data[int(data_with_disease['age'][i])] += 1\n",
    "for i in range(165,165+len(data_without_disease)):\n",
    "    no_disease_data[int(data_without_disease['age'][i])] += 1 \n",
    "\n",
    "plt.figure(figsize = (6,6))\n",
    "p1 = plt.bar(ind,no_disease_data)\n",
    "p2 = plt.bar(ind,disease_data,bottom = no_disease_data)\n",
    "plt.xticks(ind, ('0-10','10-20','20-30','30-40','40-50','50-60','60-70','70-80'))\n",
    "plt.yticks(np.arange(0,150,10))\n",
    "plt.xlabel('age_groups')\n",
    "plt.ylabel('count of people')\n",
    "plt.legend((p1[0], p2[0]), ('not_suffered', 'Suffered'))\n",
    "plt.title('age group wise data comparision between  suffered and un-suffered people in dataset')\n",
    "plt.show()\n"
   ]
  },
  {
   "cell_type": "markdown",
   "metadata": {},
   "source": [
    "it is significant that most of suffered people are between 40 to 70.\n",
    "\n",
    "From suffered people which age group is highest"
   ]
  },
  {
   "cell_type": "code",
   "execution_count": 6,
   "metadata": {},
   "outputs": [
    {
     "data": {
      "image/png": "[encoded data removed]",
      "text/plain": [
       "<Figure size 648x648 with 1 Axes>"
      ]
     },
     "metadata": {},
     "output_type": "display_data"
    }
   ],
   "source": [
    "plt.figure(figsize = (9,9))\n",
    "lables = ['0-10','10-20','20-30','30-40','40-50','50-60','60-70','70-80']\n",
    "sizes = disease_data\n",
    "explode = [0, 0, 0, 0, 0, 0, 0, 0]\n",
    "plt.pie(sizes, labels = lables, explode = explode, shadow = True, startangle=90, autopct='%1.1f%%')\n",
    "plt.legend()\n",
    "plt.title('percent of different age groups who are suffered in dataset')\n",
    "plt.show()"
   ]
  },
  {
   "cell_type": "markdown",
   "metadata": {},
   "source": [
    "from the pie chart we can see that people who have angiographic disease status =1 are most from the age group 50-60. Large percent are between age 40-70.  "
   ]
  },
  {
   "cell_type": "markdown",
   "metadata": {},
   "source": [
    "#### 2: relation between gender and target variable\n",
    "what is the count of people in dataset who have the status = 1 and who have status = 0 from the gender perspective."
   ]
  },
  {
   "cell_type": "code",
   "execution_count": 7,
   "metadata": {},
   "outputs": [
    {
     "data": {
      "image/png": "[encoded data removed]",
      "text/plain": [
       "<Figure size 432x288 with 1 Axes>"
      ]
     },
     "metadata": {},
     "output_type": "display_data"
    }
   ],
   "source": [
    "suffered_data = [0]*2\n",
    "un_suffered_data = [0]*2  \n",
    "for i in range(0,len(data_with_disease)):\n",
    "    suffered_data[int(data_with_disease['sex'][i])] += 1\n",
    "    \n",
    "for i in range(165,165+len(data_without_disease)):\n",
    "    un_suffered_data[int(data_without_disease['sex'][i])] += 1 \n",
    "\n",
    "N=2\n",
    "ind=np.arange(N)\n",
    "\n",
    "p1 = plt.bar(ind,suffered_data)\n",
    "p2 = plt.bar(ind,un_suffered_data,bottom = suffered_data)\n",
    "plt.xticks(ind, ('female','male'))\n",
    "plt.yticks(np.arange(0,210,20))\n",
    "plt.xlabel('gender')\n",
    "plt.ylabel('count of people')\n",
    "plt.legend((p1[0], p2[0]), ('suffered', 'not-suffered'))\n",
    "plt.title('gender wise data comparision in dataset')\n",
    "plt.show()"
   ]
  },
  {
   "cell_type": "markdown",
   "metadata": {},
   "source": [
    "#### 3: relation between Chestpaintype, Gender and target-\n",
    "\n",
    " spread of chest pain types and relation with Gender"
   ]
  },
  {
   "cell_type": "code",
   "execution_count": 8,
   "metadata": {},
   "outputs": [
    {
     "data": {
      "image/png": "[encoded data removed]",
      "text/plain": [
       "<Figure size 432x288 with 1 Axes>"
      ]
     },
     "metadata": {},
     "output_type": "display_data"
    },
    {
     "data": {
      "image/png": "[encoded data removed]",
      "text/plain": [
       "<Figure size 864x432 with 2 Axes>"
      ]
     },
     "metadata": {},
     "output_type": "display_data"
    }
   ],
   "source": [
    "chest_pains_count=[0]*4\n",
    "chest_pains_count_suffered=[0]*4\n",
    "chest_pains_count_unsuffered=[0]*4\n",
    "chest_pains_with_gender = [0]*8\n",
    "types = ['typical angina', 'atypical angina', 'non-anginal pain', 'asymptomatic']\n",
    "gender_with_types = ['female','male','female','male','female','male','female','male']\n",
    "\n",
    "#make data\n",
    "for i in range(0,len(heart_dataset)):\n",
    "    chest_pains_count[heart_dataset['cp'][i]]+= 1\n",
    "    if(heart_dataset['sex'][i] == 0):\n",
    "        chest_pains_with_gender[heart_dataset['cp'][i]*2]+=1\n",
    "    else:\n",
    "        chest_pains_with_gender[(heart_dataset['cp'][i]*2)+1]+=1\n",
    "#choose colors\n",
    "a, b, c ,d = [plt.cm.Blues, plt.cm.Reds, plt.cm.Greens, plt.cm.Oranges]\n",
    "\n",
    "#outer ring\n",
    "\n",
    "fig, ax = plt.subplots()\n",
    "ax.axis('equal')\n",
    "out_pie, _ =ax.pie(chest_pains_count, radius =2, labels =types, colors = [a(0.8), b(0.8), c(0.8), d(0.8)])\n",
    "plt.setp(out_pie, width= 1.2)\n",
    "\n",
    "#inner ring\n",
    "in_pie, _ =ax.pie(chest_pains_with_gender, radius =1.4, labels = gender_with_types, labeldistance=0.7,\n",
    "                  colors = [a(0.4),a(0.6),b(0.4),b(0.6),c(0.4),c(0.6),d(0.4),d(0.6)]) \n",
    "plt.setp(in_pie, width = 1)\n",
    "plt.show() \n",
    "\n",
    "for i in range(0,len(data_with_disease)):\n",
    "    chest_pains_count_suffered[data_with_disease['cp'][i]]+= 1\n",
    "for i in range(165,165+len(data_without_disease)):\n",
    "    chest_pains_count_unsuffered[data_without_disease['cp'][i]]+= 1  \n",
    "\n",
    "    types = ['typical', 'atypical', 'non-anginal', 'asymptomatic']\n",
    "plt.figure(figsize = (12,6))\n",
    "plt.subplot(1,2,1)\n",
    "plt.bar(types,chest_pains_count_suffered,width =0.8)\n",
    "plt.ylabel('count of different chest pain types who are suffered')\n",
    "\n",
    "plt.subplot(1,2,2)\n",
    "plt.bar(types,chest_pains_count_unsuffered,width =0.8)\n",
    "plt.ylabel('count of different chest pain types who are unsuffered')\n",
    "plt.show()   \n"
   ]
  },
  {
   "cell_type": "markdown",
   "metadata": {},
   "source": [
    "Pie chart above defines the spread of different types of chest pains in the dataset and split of chest pains Gender. The bar graphs show spread of the chest pain types in both suffered and unsuffered data"
   ]
  },
  {
   "cell_type": "markdown",
   "metadata": {},
   "source": [
    "#### 4: relation between thal and target variable"
   ]
  },
  {
   "cell_type": "code",
   "execution_count": 9,
   "metadata": {},
   "outputs": [
    {
     "data": {
      "image/png": "[encoded data removed]",
      "text/plain": [
       "<Figure size 504x504 with 1 Axes>"
      ]
     },
     "metadata": {},
     "output_type": "display_data"
    }
   ],
   "source": [
    "thal_types_suffered = [0]*4\n",
    "thal_types_unsuffered = [0]*4\n",
    "\n",
    "N =4\n",
    "ind = np.arange(N)\n",
    "for i in range(0,len(heart_dataset)):\n",
    "    if(heart_dataset['target'][i] == 1):thal_types_suffered[heart_dataset['thal'][i]] +=1\n",
    "    else:thal_types_unsuffered[heart_dataset['thal'][i]] += 1\n",
    "\n",
    "plt.figure(figsize = (7,7))\n",
    "p1 = plt.bar(ind,thal_types_suffered)\n",
    "p2 = plt.bar(ind,thal_types_unsuffered,bottom = thal_types_suffered)\n",
    "plt.xticks(ind, ('None', 'normal', 'fixed defect', 'reversable defect'))\n",
    "plt.yticks(np.arange(0,175,30))\n",
    "plt.xlabel('thal types in suffered and un-suffered data')\n",
    "plt.ylabel('count of different thal types who are suffering and not suffering')\n",
    "plt.legend((p1[0], p2[0]), ('suffered', 'not_suffered'))\n",
    "plt.title('Thal type wise data comparision between  suffered and un-suffered people in dataset')\n",
    "plt.show()\n"
   ]
  },
  {
   "cell_type": "markdown",
   "metadata": {},
   "source": [
    "All the data are in numbers but few are categorical data replace them with categories\n",
    "\n",
    "The features which are categories are sex, chestpain type(cp 0,1,2,3),fasting blood sugar(>120 yes or no),\n",
    "resting ecg(restecg  0,1,2),excercise angina(yes or no),slope(0,1,2),thal(1:normal,2:fixed,3:reversable)\n",
    "\n",
    "we replace categorical data with dummy variables and avoid dummy variable trap by considering\n",
    "only (n-1) categories in ecah categoricla data field. \n",
    "\n",
    "replacing data is not requried for sex, fasting bp, excercise angina\n",
    "\n",
    "replace rest of fields with categorical data"
   ]
  },
  {
   "cell_type": "code",
   "execution_count": 10,
   "metadata": {},
   "outputs": [
    {
     "name": "stderr",
     "output_type": "stream",
     "text": [
      "/opt/conda/lib/python3.6/site-packages/ipykernel_launcher.py:1: SettingWithCopyWarning: \n",
      "A value is trying to be set on a copy of a slice from a DataFrame\n",
      "\n",
      "See the caveats in the documentation: http://pandas.pydata.org/pandas-docs/stable/indexing.html#indexing-view-versus-copy\n",
      "  \"\"\"Entry point for launching an IPython kernel.\n",
      "/opt/conda/lib/python3.6/site-packages/ipykernel_launcher.py:6: SettingWithCopyWarning: \n",
      "A value is trying to be set on a copy of a slice from a DataFrame\n",
      "\n",
      "See the caveats in the documentation: http://pandas.pydata.org/pandas-docs/stable/indexing.html#indexing-view-versus-copy\n",
      "  \n",
      "/opt/conda/lib/python3.6/site-packages/ipykernel_launcher.py:10: SettingWithCopyWarning: \n",
      "A value is trying to be set on a copy of a slice from a DataFrame\n",
      "\n",
      "See the caveats in the documentation: http://pandas.pydata.org/pandas-docs/stable/indexing.html#indexing-view-versus-copy\n",
      "  # Remove the CWD from sys.path while we load stuff.\n",
      "/opt/conda/lib/python3.6/site-packages/ipykernel_launcher.py:11: SettingWithCopyWarning: \n",
      "A value is trying to be set on a copy of a slice from a DataFrame\n",
      "\n",
      "See the caveats in the documentation: http://pandas.pydata.org/pandas-docs/stable/indexing.html#indexing-view-versus-copy\n",
      "  # This is added back by InteractiveShellApp.init_path()\n",
      "/opt/conda/lib/python3.6/site-packages/ipykernel_launcher.py:12: SettingWithCopyWarning: \n",
      "A value is trying to be set on a copy of a slice from a DataFrame\n",
      "\n",
      "See the caveats in the documentation: http://pandas.pydata.org/pandas-docs/stable/indexing.html#indexing-view-versus-copy\n",
      "  if sys.path[0] == '':\n",
      "/opt/conda/lib/python3.6/site-packages/ipykernel_launcher.py:14: SettingWithCopyWarning: \n",
      "A value is trying to be set on a copy of a slice from a DataFrame\n",
      "\n",
      "See the caveats in the documentation: http://pandas.pydata.org/pandas-docs/stable/indexing.html#indexing-view-versus-copy\n",
      "  \n"
     ]
    }
   ],
   "source": [
    "heart_dataset['cp'][heart_dataset['cp'] == 0] = 'typical angina'\n",
    "heart_dataset['cp'][heart_dataset['cp'] == 1] = 'atypical angina'\n",
    "heart_dataset['cp'][heart_dataset['cp'] == 2] = 'non-anginal pain'\n",
    "heart_dataset['cp'][heart_dataset['cp'] == 3] = 'asymptomatic'\n",
    "\n",
    "heart_dataset['restecg'][heart_dataset['restecg'] == 0] = 'ecg1'\n",
    "heart_dataset['restecg'][heart_dataset['restecg'] == 1] = 'ecg2'\n",
    "heart_dataset['restecg'][heart_dataset['restecg'] == 2] = 'ecg3'\n",
    "\n",
    "heart_dataset['slope'][heart_dataset['slope'] == 0] = 'slope1'\n",
    "heart_dataset['slope'][heart_dataset['slope'] == 1] = 'slope2'\n",
    "heart_dataset['slope'][heart_dataset['slope'] == 2] = 'slope3'\n",
    "\n",
    "heart_dataset['thal'][heart_dataset['thal'] == 0] = 'None'\n",
    "heart_dataset['thal'][heart_dataset['thal'] == 1] = 'normal'\n",
    "heart_dataset['thal'][heart_dataset['thal'] == 2] = 'fixed'\n",
    "heart_dataset['thal'][heart_dataset['thal'] == 3] = 'reversable'"
   ]
  },
  {
   "cell_type": "markdown",
   "metadata": {},
   "source": [
    "### delimiting outliers"
   ]
  },
  {
   "cell_type": "code",
   "execution_count": 11,
   "metadata": {},
   "outputs": [
    {
     "data": {
      "text/plain": [
       "Text(0, 0.5, 'exang')"
      ]
     },
     "execution_count": 11,
     "metadata": {},
     "output_type": "execute_result"
    },
    {
     "data": {
      "image/png": "[encoded data removed]",
      "text/plain": [
       "<Figure size 1296x1296 with 6 Axes>"
      ]
     },
     "metadata": {},
     "output_type": "display_data"
    }
   ],
   "source": [
    "plt.figure(figsize = (18,18))\n",
    "plt.subplot(2,3,1)\n",
    "plt.boxplot('age', data = heart_dataset)\n",
    "plt.ylabel('age')\n",
    "plt.subplot(2,3,2)\n",
    "plt.boxplot('chol', data = heart_dataset) \n",
    "plt.ylabel('chol')\n",
    "plt.subplot(2,3,3)\n",
    "plt.boxplot('trestbps', data = heart_dataset )\n",
    "plt.ylabel('trestbps')\n",
    "plt.subplot(2,3,4)\n",
    "plt.boxplot('thalach', data = heart_dataset)\n",
    "plt.ylabel('thalach')\n",
    "plt.subplot(2,3,5)\n",
    "plt.boxplot('oldpeak', data = heart_dataset)\n",
    "plt.ylabel('oldpeak')\n",
    "plt.subplot(2,3,6)\n",
    "plt.boxplot('exang', data = heart_dataset)\n",
    "plt.ylabel('exang')"
   ]
  },
  {
   "cell_type": "markdown",
   "metadata": {},
   "source": [
    "remove the row with extreme outlier. Impute the other outliers such that the mean and median values before and after imputing doesn't change much."
   ]
  },
  {
   "cell_type": "code",
   "execution_count": 12,
   "metadata": {},
   "outputs": [
    {
     "name": "stderr",
     "output_type": "stream",
     "text": [
      "/opt/conda/lib/python3.6/site-packages/ipykernel_launcher.py:5: SettingWithCopyWarning: \n",
      "A value is trying to be set on a copy of a slice from a DataFrame\n",
      "\n",
      "See the caveats in the documentation: http://pandas.pydata.org/pandas-docs/stable/indexing.html#indexing-view-versus-copy\n",
      "  \"\"\"\n",
      "/opt/conda/lib/python3.6/site-packages/ipykernel_launcher.py:3: SettingWithCopyWarning: \n",
      "A value is trying to be set on a copy of a slice from a DataFrame\n",
      "\n",
      "See the caveats in the documentation: http://pandas.pydata.org/pandas-docs/stable/indexing.html#indexing-view-versus-copy\n",
      "  This is separate from the ipykernel package so we can avoid doing imports until\n",
      "/opt/conda/lib/python3.6/site-packages/ipykernel_launcher.py:7: SettingWithCopyWarning: \n",
      "A value is trying to be set on a copy of a slice from a DataFrame\n",
      "\n",
      "See the caveats in the documentation: http://pandas.pydata.org/pandas-docs/stable/indexing.html#indexing-view-versus-copy\n",
      "  import sys\n"
     ]
    }
   ],
   "source": [
    "for i in range(0,len(heart_dataset)):\n",
    "    if(heart_dataset['chol'][i] > 360):\n",
    "        heart_dataset['chol'][i] = int(heart_dataset['chol'][i] + heart_dataset['chol'].median())/2    \n",
    "    if(heart_dataset['trestbps'][i] > 170):\n",
    "        heart_dataset['trestbps'][i] = int(heart_dataset['trestbps'][i] + heart_dataset['trestbps'].median())/2    \n",
    "    if(heart_dataset['oldpeak'][i] > 4):\n",
    "        heart_dataset['oldpeak'][i] = int(heart_dataset['oldpeak'][i] + heart_dataset['oldpeak'].median())/2 \n",
    "\n",
    "heart_dataset = heart_dataset.drop(85) # chol value is extremely outside the range\n",
    "heart_dataset = heart_dataset.drop(48)  # thal is none\n",
    "heart_dataset = heart_dataset.drop(281) # thal is none\n",
    "\n"
   ]
  },
  {
   "cell_type": "markdown",
   "metadata": {},
   "source": [
    "dummy variables for categorical data. train test split and feature scaling"
   ]
  },
  {
   "cell_type": "code",
   "execution_count": 13,
   "metadata": {},
   "outputs": [
    {
     "name": "stderr",
     "output_type": "stream",
     "text": [
      "/opt/conda/lib/python3.6/site-packages/sklearn/preprocessing/data.py:645: DataConversionWarning: Data with input dtype uint8, int64, float64 were all converted to float64 by StandardScaler.\n",
      "  return self.partial_fit(X, y)\n",
      "/opt/conda/lib/python3.6/site-packages/sklearn/base.py:464: DataConversionWarning: Data with input dtype uint8, int64, float64 were all converted to float64 by StandardScaler.\n",
      "  return self.fit(X, **fit_params).transform(X)\n",
      "/opt/conda/lib/python3.6/site-packages/ipykernel_launcher.py:16: DataConversionWarning: Data with input dtype uint8, int64, float64 were all converted to float64 by StandardScaler.\n",
      "  app.launch_new_instance()\n"
     ]
    }
   ],
   "source": [
    "heart_dataset = pd.get_dummies(heart_dataset, drop_first=True)\n",
    "\n",
    "X = heart_dataset\n",
    "X=X.drop(['target'],axis =1)\n",
    "y = heart_dataset['target']\n",
    "\n",
    "# train test split\n",
    "from sklearn.model_selection import train_test_split\n",
    "\n",
    "train_x, test_x, train_y, test_y = train_test_split(X,y,test_size = 0.15, random_state =0)\n",
    "\n",
    "# Feature Scaling\n",
    "from sklearn.preprocessing import StandardScaler\n",
    "sc_X = StandardScaler()\n",
    "train_x = sc_X.fit_transform(train_x)\n",
    "test_x = sc_X.transform(test_x)\n"
   ]
  },
  {
   "cell_type": "markdown",
   "metadata": {},
   "source": [
    "#### model selection \n",
    "\n",
    "Lets compare the classification prediction algorithms on the dataset "
   ]
  },
  {
   "cell_type": "code",
   "execution_count": 14,
   "metadata": {},
   "outputs": [
    {
     "name": "stdout",
     "output_type": "stream",
     "text": [
      "[[18  5]\n",
      " [ 5 17]]\n",
      " \n",
      "accuracy\n",
      "0.8356125356125356\n",
      " \n",
      "standard deviation\n",
      "0.06805377032101455\n"
     ]
    },
    {
     "data": {
      "text/plain": [
       "0.7727272727272727"
      ]
     },
     "execution_count": 14,
     "metadata": {},
     "output_type": "execute_result"
    }
   ],
   "source": [
    "#1. logistic regression----------------------------------------------------------------------------------\n",
    "\n",
    "from sklearn.linear_model import LogisticRegression\n",
    "classifier = LogisticRegression(random_state =0)\n",
    "classifier.fit(train_x,train_y)\n",
    "y_pred = classifier.predict(test_x)\n",
    "\n",
    "from sklearn.metrics import confusion_matrix\n",
    "cm_logistic = confusion_matrix(test_y,y_pred)\n",
    "print(cm_logistic)\n",
    "\n",
    "from sklearn.model_selection import cross_val_score\n",
    "accuracies = cross_val_score(estimator = classifier, X = train_x, y = train_y, cv=10)\n",
    "print(' ')\n",
    "print('accuracy')\n",
    "print(accuracies.mean())\n",
    "print(' ')\n",
    "print('standard deviation')\n",
    "print(accuracies.std())\n",
    "\n",
    "from sklearn.metrics import f1_score\n",
    "f1_score(test_y,y_pred)"
   ]
  },
  {
   "cell_type": "code",
   "execution_count": 15,
   "metadata": {},
   "outputs": [
    {
     "name": "stdout",
     "output_type": "stream",
     "text": [
      "[[22  1]\n",
      " [ 7 15]]\n",
      " \n",
      "accuracy\n",
      "0.8157663817663818\n",
      " \n",
      "standard deviation\n",
      "0.057449604082861365\n"
     ]
    },
    {
     "data": {
      "text/plain": [
       "0.7894736842105263"
      ]
     },
     "execution_count": 15,
     "metadata": {},
     "output_type": "execute_result"
    }
   ],
   "source": [
    "#2.K-Nearest Neighbours----------------------------------------------------------------------------\n",
    "\n",
    "from sklearn.neighbors import KNeighborsClassifier\n",
    "classifier = KNeighborsClassifier(n_neighbors = 6, metric = 'minkowski', p=2)\n",
    "classifier.fit(train_x,train_y)\n",
    "y_pred = classifier.predict(test_x)\n",
    "\n",
    "\n",
    "cm_knn = confusion_matrix(test_y,y_pred)\n",
    "print(cm_knn)\n",
    "\n",
    "\n",
    "accuracies = cross_val_score(estimator = classifier, X = train_x, y = train_y, cv=10)\n",
    "print(' ')\n",
    "print('accuracy')\n",
    "print(accuracies.mean())\n",
    "print(' ')\n",
    "print('standard deviation')\n",
    "print(accuracies.std())\n",
    "\n",
    "f1_score(test_y,y_pred)\n"
   ]
  },
  {
   "cell_type": "markdown",
   "metadata": {},
   "source": [
    "find the best parameters for KNN. GridSearch is a method where it runs the specified classifier on different parameters and returns the best parameter fit based on the scoring method specified."
   ]
  },
  {
   "cell_type": "code",
   "execution_count": 16,
   "metadata": {},
   "outputs": [
    {
     "name": "stdout",
     "output_type": "stream",
     "text": [
      "{'metric': 'minkowski', 'n_neighbors': 6, 'p': 2}\n"
     ]
    },
    {
     "name": "stderr",
     "output_type": "stream",
     "text": [
      "/opt/conda/lib/python3.6/site-packages/sklearn/model_selection/_search.py:841: DeprecationWarning: The default of the `iid` parameter will change from True to False in version 0.22 and will be removed in 0.24. This will change numeric results when test-set sizes are unequal.\n",
      "  DeprecationWarning)\n"
     ]
    }
   ],
   "source": [
    "\n",
    "from sklearn.model_selection import GridSearchCV\n",
    "parameters = [{'n_neighbors':[2,3,4,5,6,7,8], 'metric':['minkowski'],'p':[2]}]\n",
    "gridsearch = GridSearchCV(estimator = classifier,\n",
    "                          param_grid = parameters,\n",
    "                          scoring = 'f1',\n",
    "                          cv=10)\n",
    "gridsearch = gridsearch.fit(train_x,train_y)\n",
    "best_params_knn = gridsearch.best_params_\n",
    "print(best_params_knn)"
   ]
  },
  {
   "cell_type": "code",
   "execution_count": 17,
   "metadata": {},
   "outputs": [
    {
     "name": "stdout",
     "output_type": "stream",
     "text": [
      "[[19  4]\n",
      " [ 3 19]]\n",
      " \n",
      "accuracy\n",
      "0.8433162393162392\n",
      " \n",
      "standard deviation\n",
      "0.07468638792811477\n"
     ]
    },
    {
     "data": {
      "text/plain": [
       "0.8444444444444444"
      ]
     },
     "execution_count": 17,
     "metadata": {},
     "output_type": "execute_result"
    }
   ],
   "source": [
    "#3.SVM-------------------------------------------------------------------------------------------\n",
    "\n",
    "from sklearn.svm import SVC\n",
    "classifier = SVC(C=10,kernel = 'rbf',\n",
    "                 gamma=0.01,\n",
    "                 random_state = 0)\n",
    "classifier.fit(train_x,train_y)\n",
    "y_pred = classifier.predict(test_x)\n",
    "\n",
    "cm_svm = confusion_matrix(test_y,y_pred)\n",
    "print(cm_svm)\n",
    "\n",
    "accuracies = cross_val_score(estimator = classifier, X = train_x, y = train_y, cv=10)\n",
    "print(' ')\n",
    "print('accuracy')\n",
    "print(accuracies.mean())\n",
    "print(' ')\n",
    "print('standard deviation')\n",
    "print(accuracies.std())\n",
    "\n",
    "\n",
    "f1_score(test_y,y_pred)\n"
   ]
  },
  {
   "cell_type": "markdown",
   "metadata": {},
   "source": [
    "find best parameters for the SVM through gridsearch"
   ]
  },
  {
   "cell_type": "code",
   "execution_count": 18,
   "metadata": {},
   "outputs": [
    {
     "name": "stdout",
     "output_type": "stream",
     "text": [
      "{'C': 10, 'gamma': 0.01, 'kernel': 'rbf'}\n"
     ]
    },
    {
     "name": "stderr",
     "output_type": "stream",
     "text": [
      "/opt/conda/lib/python3.6/site-packages/sklearn/model_selection/_search.py:841: DeprecationWarning: The default of the `iid` parameter will change from True to False in version 0.22 and will be removed in 0.24. This will change numeric results when test-set sizes are unequal.\n",
      "  DeprecationWarning)\n"
     ]
    }
   ],
   "source": [
    "parameters = [ {'C':[1, 10, 100], 'kernel':['linear']},\n",
    "               {'C':[1, 10, 100],'kernel' : ['rbf'], 'gamma':[0.1,0.01,0.05,0.005]},\n",
    "               {'C':[1, 10, 100], 'kernel' :['poly'], 'degree' :[1,2,3,4]}]\n",
    "gridsearch = GridSearchCV(estimator = classifier,\n",
    "                          param_grid = parameters,\n",
    "                          scoring = 'f1',\n",
    "                          cv=10)\n",
    "gridsearch = gridsearch.fit(train_x,train_y)\n",
    "best_accuracy_SVM = gridsearch.best_score_\n",
    "best_params_SVM = gridsearch.best_params_\n",
    "print(best_params_SVM)"
   ]
  },
  {
   "cell_type": "code",
   "execution_count": 19,
   "metadata": {},
   "outputs": [
    {
     "name": "stdout",
     "output_type": "stream",
     "text": [
      "[[18  5]\n",
      " [ 5 17]]\n",
      " \n",
      "accuracy\n",
      "0.7575897435897436\n",
      " \n",
      "standard deviation\n",
      "0.05663732852323211\n"
     ]
    },
    {
     "data": {
      "text/plain": [
       "0.7727272727272727"
      ]
     },
     "execution_count": 19,
     "metadata": {},
     "output_type": "execute_result"
    }
   ],
   "source": [
    "#4.Decision Tree --------------------------------------------------------------------------------------\n",
    "\n",
    "from sklearn.tree import DecisionTreeClassifier\n",
    "classifier = DecisionTreeClassifier(criterion ='entropy', random_state =0)\n",
    "classifier.fit(train_x,train_y)\n",
    "y_pred = classifier.predict(test_x)\n",
    "\n",
    "\n",
    "cm_DecisionTree = confusion_matrix(test_y,y_pred)\n",
    "print(cm_DecisionTree)\n",
    "\n",
    "accuracies = cross_val_score(estimator = classifier, X = train_x, y = train_y, cv=10)\n",
    "print(' ')\n",
    "print('accuracy')\n",
    "print(accuracies.mean())\n",
    "print(' ')\n",
    "print('standard deviation')\n",
    "print(accuracies.std())\n",
    "\n",
    "\n",
    "f1_score(test_y,y_pred)"
   ]
  },
  {
   "cell_type": "code",
   "execution_count": 20,
   "metadata": {},
   "outputs": [
    {
     "name": "stdout",
     "output_type": "stream",
     "text": [
      "[[17  6]\n",
      " [ 4 18]]\n",
      " \n",
      "accuracy\n",
      "0.8393048433048433\n",
      " \n",
      "standard deviation\n",
      "0.07894960947153255\n"
     ]
    },
    {
     "data": {
      "text/plain": [
       "0.7826086956521738"
      ]
     },
     "execution_count": 20,
     "metadata": {},
     "output_type": "execute_result"
    }
   ],
   "source": [
    "#5.Random Forest-------------------------------------------------------------------------------------------------\n",
    "\n",
    "from sklearn.ensemble import RandomForestClassifier\n",
    "classifier = RandomForestClassifier(n_estimators =100, criterion ='gini', random_state = 0)\n",
    "classifier.fit(train_x,train_y)\n",
    "y_pred = classifier.predict(test_x)\n",
    "\n",
    "\n",
    "cm_RandomForest = confusion_matrix(test_y,y_pred)\n",
    "print(cm_RandomForest)\n",
    "\n",
    "accuracies = cross_val_score(estimator = classifier, X = train_x, y = train_y, cv=10)\n",
    "print(' ')\n",
    "print('accuracy')\n",
    "print(accuracies.mean())\n",
    "print(' ')\n",
    "print('standard deviation')\n",
    "print(accuracies.std())\n",
    "\n",
    "f1_score(test_y,y_pred)\n",
    "\n"
   ]
  },
  {
   "cell_type": "code",
   "execution_count": 21,
   "metadata": {},
   "outputs": [
    {
     "name": "stdout",
     "output_type": "stream",
     "text": [
      "{'criterion': 'gini', 'n_estimators': 100}\n"
     ]
    },
    {
     "name": "stderr",
     "output_type": "stream",
     "text": [
      "/opt/conda/lib/python3.6/site-packages/sklearn/model_selection/_search.py:841: DeprecationWarning: The default of the `iid` parameter will change from True to False in version 0.22 and will be removed in 0.24. This will change numeric results when test-set sizes are unequal.\n",
      "  DeprecationWarning)\n"
     ]
    }
   ],
   "source": [
    "parameters = [ {'n_estimators':[10,100,200,300,400,500,600,700], 'criterion':['entropy']},\n",
    "                {'n_estimators':[10,100,200,300,400,500,600,700], 'criterion':['gini']}]\n",
    "gridsearch = GridSearchCV(estimator = classifier,\n",
    "                          param_grid = parameters,\n",
    "                          scoring = 'f1',\n",
    "                          cv=10)\n",
    "gridsearch = gridsearch.fit(train_x,train_y)\n",
    "best_accuracy_forest = gridsearch.best_score_\n",
    "best_params_forest = gridsearch.best_params_\n",
    "print(best_params_forest)"
   ]
  },
  {
   "cell_type": "markdown",
   "metadata": {},
   "source": [
    "from the models SVM has shown better results with f1-score of 84.4% and accuracy 84.3% and std 7.46%. This doesn't mean that SVM is the best. Because of the low no of samples in dataset other algorithms didn't perform well but if samples were more then this results might change. "
   ]
  }
 ],
 "metadata": {
  "kernelspec": {
   "display_name": "Python 3",
   "language": "python",
   "name": "python3"
  },
  "language_info": {
   "codemirror_mode": {
    "name": "ipython",
    "version": 3
   },
   "file_extension": ".py",
   "mimetype": "text/x-python",
   "name": "python",
   "nbconvert_exporter": "python",
   "pygments_lexer": "ipython3",
   "version": "3.6.4"
  }
 },
 "nbformat": 4,
 "nbformat_minor": 1
}
