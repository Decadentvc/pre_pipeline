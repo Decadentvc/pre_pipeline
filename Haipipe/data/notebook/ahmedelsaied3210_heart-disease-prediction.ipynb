{
 "cells": [
  {
   "cell_type": "code",
   "execution_count": 1,
   "metadata": {
    "_cell_guid": "b1076dfc-b9ad-4769-8c92-a6c4dae69d19",
    "_uuid": "8f2839f25d086af736a60e9eeb907d3b93b6e0e5"
   },
   "outputs": [
    {
     "name": "stdout",
     "output_type": "stream",
     "text": [
      "/kaggle/input/heart-disease-prediction-using-logistic-regression/framingham.csv\n"
     ]
    }
   ],
   "source": [
    "# This Python 3 environment comes with many helpful analytics libraries installed\n",
    "# It is defined by the kaggle/python docker image: https://github.com/kaggle/docker-python\n",
    "# For example, here's several helpful packages to load in \n",
    "\n",
    "import numpy as np # linear algebra\n",
    "import pandas as pd # data processing, CSV file I/O (e.g. pd.read_csv)\n",
    "\n",
    "# Input data files are available in the \"../input/\" directory.\n",
    "# For example, running this (by clicking run or pressing Shift+Enter) will list all files under the input directory\n",
    "\n",
    "import os\n",
    "for dirname, _, filenames in os.walk('/kaggle/input'):\n",
    "    for filename in filenames:\n",
    "        print(os.path.join(dirname, filename))\n",
    "\n",
    "# Any results you write to the current directory are saved as output."
   ]
  },
  {
   "cell_type": "code",
   "execution_count": 2,
   "metadata": {
    "_cell_guid": "79c7e3d0-c299-4dcb-8224-4455121ee9b0",
    "_uuid": "d629ff2d2480ee46fbb7e2d37f6b5fab8052498a"
   },
   "outputs": [],
   "source": [
    "import numpy as np\n",
    "import pandas as pd\n",
    "from sklearn.model_selection import train_test_split,KFold,cross_val_score\n",
    "from sklearn.linear_model import LogisticRegression\n",
    "from sklearn.tree import DecisionTreeClassifier\n",
    "from sklearn.neighbors import KNeighborsClassifier\n",
    "from sklearn.naive_bayes import GaussianNB\n",
    "from sklearn.svm import SVC\n",
    "import matplotlib.pyplot as plt"
   ]
  },
  {
   "cell_type": "code",
   "execution_count": 3,
   "metadata": {},
   "outputs": [
    {
     "data": {
      "text/html": [
       "<div>\n",
       "<style scoped>\n",
       "    .dataframe tbody tr th:only-of-type {\n",
       "        vertical-align: middle;\n",
       "    }\n",
       "\n",
       "    .dataframe tbody tr th {\n",
       "        vertical-align: top;\n",
       "    }\n",
       "\n",
       "    .dataframe thead th {\n",
       "        text-align: right;\n",
       "    }\n",
       "</style>\n",
       "<table border=\"1\" class=\"dataframe\">\n",
       "  <thead>\n",
       "    <tr style=\"text-align: right;\">\n",
       "      <th></th>\n",
       "      <th>male</th>\n",
       "      <th>age</th>\n",
       "      <th>education</th>\n",
       "      <th>currentSmoker</th>\n",
       "      <th>cigsPerDay</th>\n",
       "      <th>BPMeds</th>\n",
       "      <th>prevalentStroke</th>\n",
       "      <th>prevalentHyp</th>\n",
       "      <th>diabetes</th>\n",
       "      <th>totChol</th>\n",
       "      <th>sysBP</th>\n",
       "      <th>diaBP</th>\n",
       "      <th>BMI</th>\n",
       "      <th>heartRate</th>\n",
       "      <th>glucose</th>\n",
       "      <th>TenYearCHD</th>\n",
       "    </tr>\n",
       "  </thead>\n",
       "  <tbody>\n",
       "    <tr>\n",
       "      <th>0</th>\n",
       "      <td>1</td>\n",
       "      <td>39</td>\n",
       "      <td>4.0</td>\n",
       "      <td>0</td>\n",
       "      <td>0.0</td>\n",
       "      <td>0.0</td>\n",
       "      <td>0</td>\n",
       "      <td>0</td>\n",
       "      <td>0</td>\n",
       "      <td>195.0</td>\n",
       "      <td>106.0</td>\n",
       "      <td>70.0</td>\n",
       "      <td>26.97</td>\n",
       "      <td>80.0</td>\n",
       "      <td>77.0</td>\n",
       "      <td>0</td>\n",
       "    </tr>\n",
       "    <tr>\n",
       "      <th>1</th>\n",
       "      <td>0</td>\n",
       "      <td>46</td>\n",
       "      <td>2.0</td>\n",
       "      <td>0</td>\n",
       "      <td>0.0</td>\n",
       "      <td>0.0</td>\n",
       "      <td>0</td>\n",
       "      <td>0</td>\n",
       "      <td>0</td>\n",
       "      <td>250.0</td>\n",
       "      <td>121.0</td>\n",
       "      <td>81.0</td>\n",
       "      <td>28.73</td>\n",
       "      <td>95.0</td>\n",
       "      <td>76.0</td>\n",
       "      <td>0</td>\n",
       "    </tr>\n",
       "    <tr>\n",
       "      <th>2</th>\n",
       "      <td>1</td>\n",
       "      <td>48</td>\n",
       "      <td>1.0</td>\n",
       "      <td>1</td>\n",
       "      <td>20.0</td>\n",
       "      <td>0.0</td>\n",
       "      <td>0</td>\n",
       "      <td>0</td>\n",
       "      <td>0</td>\n",
       "      <td>245.0</td>\n",
       "      <td>127.5</td>\n",
       "      <td>80.0</td>\n",
       "      <td>25.34</td>\n",
       "      <td>75.0</td>\n",
       "      <td>70.0</td>\n",
       "      <td>0</td>\n",
       "    </tr>\n",
       "    <tr>\n",
       "      <th>3</th>\n",
       "      <td>0</td>\n",
       "      <td>61</td>\n",
       "      <td>3.0</td>\n",
       "      <td>1</td>\n",
       "      <td>30.0</td>\n",
       "      <td>0.0</td>\n",
       "      <td>0</td>\n",
       "      <td>1</td>\n",
       "      <td>0</td>\n",
       "      <td>225.0</td>\n",
       "      <td>150.0</td>\n",
       "      <td>95.0</td>\n",
       "      <td>28.58</td>\n",
       "      <td>65.0</td>\n",
       "      <td>103.0</td>\n",
       "      <td>1</td>\n",
       "    </tr>\n",
       "    <tr>\n",
       "      <th>4</th>\n",
       "      <td>0</td>\n",
       "      <td>46</td>\n",
       "      <td>3.0</td>\n",
       "      <td>1</td>\n",
       "      <td>23.0</td>\n",
       "      <td>0.0</td>\n",
       "      <td>0</td>\n",
       "      <td>0</td>\n",
       "      <td>0</td>\n",
       "      <td>285.0</td>\n",
       "      <td>130.0</td>\n",
       "      <td>84.0</td>\n",
       "      <td>23.10</td>\n",
       "      <td>85.0</td>\n",
       "      <td>85.0</td>\n",
       "      <td>0</td>\n",
       "    </tr>\n",
       "  </tbody>\n",
       "</table>\n",
       "</div>"
      ],
      "text/plain": [
       "   male  age  education  currentSmoker  cigsPerDay  BPMeds  prevalentStroke  \\\n",
       "0     1   39        4.0              0         0.0     0.0                0   \n",
       "1     0   46        2.0              0         0.0     0.0                0   \n",
       "2     1   48        1.0              1        20.0     0.0                0   \n",
       "3     0   61        3.0              1        30.0     0.0                0   \n",
       "4     0   46        3.0              1        23.0     0.0                0   \n",
       "\n",
       "   prevalentHyp  diabetes  totChol  sysBP  diaBP    BMI  heartRate  glucose  \\\n",
       "0             0         0    195.0  106.0   70.0  26.97       80.0     77.0   \n",
       "1             0         0    250.0  121.0   81.0  28.73       95.0     76.0   \n",
       "2             0         0    245.0  127.5   80.0  25.34       75.0     70.0   \n",
       "3             1         0    225.0  150.0   95.0  28.58       65.0    103.0   \n",
       "4             0         0    285.0  130.0   84.0  23.10       85.0     85.0   \n",
       "\n",
       "   TenYearCHD  \n",
       "0           0  \n",
       "1           0  \n",
       "2           0  \n",
       "3           1  \n",
       "4           0  "
      ]
     },
     "execution_count": 3,
     "metadata": {},
     "output_type": "execute_result"
    }
   ],
   "source": [
    "data=pd.read_csv('../input/heart-disease-prediction-using-logistic-regression/framingham.csv')\n",
    "data.head()"
   ]
  },
  {
   "cell_type": "code",
   "execution_count": 4,
   "metadata": {},
   "outputs": [
    {
     "data": {
      "text/plain": [
       "Index(['male', 'age', 'education', 'currentSmoker', 'cigsPerDay', 'BPMeds',\n",
       "       'prevalentStroke', 'prevalentHyp', 'diabetes', 'totChol', 'sysBP',\n",
       "       'diaBP', 'BMI', 'heartRate', 'glucose', 'TenYearCHD'],\n",
       "      dtype='object')"
      ]
     },
     "execution_count": 4,
     "metadata": {},
     "output_type": "execute_result"
    }
   ],
   "source": [
    "data.columns"
   ]
  },
  {
   "cell_type": "code",
   "execution_count": 5,
   "metadata": {},
   "outputs": [
    {
     "data": {
      "text/plain": [
       "male                 0\n",
       "age                  0\n",
       "education          105\n",
       "currentSmoker        0\n",
       "cigsPerDay          29\n",
       "BPMeds              53\n",
       "prevalentStroke      0\n",
       "prevalentHyp         0\n",
       "diabetes             0\n",
       "totChol             50\n",
       "sysBP                0\n",
       "diaBP                0\n",
       "BMI                 19\n",
       "heartRate            1\n",
       "glucose            388\n",
       "TenYearCHD           0\n",
       "dtype: int64"
      ]
     },
     "execution_count": 5,
     "metadata": {},
     "output_type": "execute_result"
    }
   ],
   "source": [
    "data.isnull().sum()"
   ]
  },
  {
   "cell_type": "code",
   "execution_count": 6,
   "metadata": {},
   "outputs": [
    {
     "data": {
      "text/plain": [
       "67808"
      ]
     },
     "execution_count": 6,
     "metadata": {},
     "output_type": "execute_result"
    }
   ],
   "source": [
    "data.size"
   ]
  },
  {
   "cell_type": "code",
   "execution_count": 7,
   "metadata": {},
   "outputs": [
    {
     "data": {
      "text/plain": [
       "male               0\n",
       "age                0\n",
       "education          0\n",
       "currentSmoker      0\n",
       "cigsPerDay         0\n",
       "BPMeds             0\n",
       "prevalentStroke    0\n",
       "prevalentHyp       0\n",
       "diabetes           0\n",
       "totChol            0\n",
       "sysBP              0\n",
       "diaBP              0\n",
       "BMI                0\n",
       "heartRate          0\n",
       "glucose            0\n",
       "TenYearCHD         0\n",
       "dtype: int64"
      ]
     },
     "execution_count": 7,
     "metadata": {},
     "output_type": "execute_result"
    }
   ],
   "source": [
    "data=data.dropna()\n",
    "data.isnull().sum()"
   ]
  },
  {
   "cell_type": "code",
   "execution_count": 8,
   "metadata": {},
   "outputs": [
    {
     "data": {
      "text/html": [
       "<div>\n",
       "<style scoped>\n",
       "    .dataframe tbody tr th:only-of-type {\n",
       "        vertical-align: middle;\n",
       "    }\n",
       "\n",
       "    .dataframe tbody tr th {\n",
       "        vertical-align: top;\n",
       "    }\n",
       "\n",
       "    .dataframe thead th {\n",
       "        text-align: right;\n",
       "    }\n",
       "</style>\n",
       "<table border=\"1\" class=\"dataframe\">\n",
       "  <thead>\n",
       "    <tr style=\"text-align: right;\">\n",
       "      <th></th>\n",
       "      <th>male</th>\n",
       "      <th>age</th>\n",
       "      <th>education</th>\n",
       "      <th>currentSmoker</th>\n",
       "      <th>cigsPerDay</th>\n",
       "      <th>BPMeds</th>\n",
       "      <th>prevalentStroke</th>\n",
       "      <th>prevalentHyp</th>\n",
       "      <th>diabetes</th>\n",
       "      <th>totChol</th>\n",
       "      <th>sysBP</th>\n",
       "      <th>diaBP</th>\n",
       "      <th>BMI</th>\n",
       "      <th>heartRate</th>\n",
       "      <th>glucose</th>\n",
       "      <th>TenYearCHD</th>\n",
       "    </tr>\n",
       "  </thead>\n",
       "  <tbody>\n",
       "    <tr>\n",
       "      <th>male</th>\n",
       "      <td>1.000000</td>\n",
       "      <td>-0.024387</td>\n",
       "      <td>0.017677</td>\n",
       "      <td>0.206778</td>\n",
       "      <td>0.331243</td>\n",
       "      <td>-0.052128</td>\n",
       "      <td>-0.002308</td>\n",
       "      <td>0.000806</td>\n",
       "      <td>0.013833</td>\n",
       "      <td>-0.070229</td>\n",
       "      <td>-0.045484</td>\n",
       "      <td>0.051575</td>\n",
       "      <td>0.072867</td>\n",
       "      <td>-0.114923</td>\n",
       "      <td>0.003048</td>\n",
       "      <td>0.091745</td>\n",
       "    </tr>\n",
       "    <tr>\n",
       "      <th>age</th>\n",
       "      <td>-0.024387</td>\n",
       "      <td>1.000000</td>\n",
       "      <td>-0.158961</td>\n",
       "      <td>-0.210862</td>\n",
       "      <td>-0.189099</td>\n",
       "      <td>0.134670</td>\n",
       "      <td>0.050864</td>\n",
       "      <td>0.306693</td>\n",
       "      <td>0.109027</td>\n",
       "      <td>0.267764</td>\n",
       "      <td>0.388551</td>\n",
       "      <td>0.208880</td>\n",
       "      <td>0.137172</td>\n",
       "      <td>-0.002685</td>\n",
       "      <td>0.118245</td>\n",
       "      <td>0.233810</td>\n",
       "    </tr>\n",
       "    <tr>\n",
       "      <th>education</th>\n",
       "      <td>0.017677</td>\n",
       "      <td>-0.158961</td>\n",
       "      <td>1.000000</td>\n",
       "      <td>0.025253</td>\n",
       "      <td>0.013527</td>\n",
       "      <td>-0.013647</td>\n",
       "      <td>-0.030353</td>\n",
       "      <td>-0.079100</td>\n",
       "      <td>-0.039547</td>\n",
       "      <td>-0.012956</td>\n",
       "      <td>-0.124511</td>\n",
       "      <td>-0.058502</td>\n",
       "      <td>-0.137280</td>\n",
       "      <td>-0.064254</td>\n",
       "      <td>-0.031874</td>\n",
       "      <td>-0.063068</td>\n",
       "    </tr>\n",
       "    <tr>\n",
       "      <th>currentSmoker</th>\n",
       "      <td>0.206778</td>\n",
       "      <td>-0.210862</td>\n",
       "      <td>0.025253</td>\n",
       "      <td>1.000000</td>\n",
       "      <td>0.773819</td>\n",
       "      <td>-0.051936</td>\n",
       "      <td>-0.038159</td>\n",
       "      <td>-0.107561</td>\n",
       "      <td>-0.041859</td>\n",
       "      <td>-0.051119</td>\n",
       "      <td>-0.134371</td>\n",
       "      <td>-0.115748</td>\n",
       "      <td>-0.159574</td>\n",
       "      <td>0.050452</td>\n",
       "      <td>-0.053346</td>\n",
       "      <td>0.019176</td>\n",
       "    </tr>\n",
       "    <tr>\n",
       "      <th>cigsPerDay</th>\n",
       "      <td>0.331243</td>\n",
       "      <td>-0.189099</td>\n",
       "      <td>0.013527</td>\n",
       "      <td>0.773819</td>\n",
       "      <td>1.000000</td>\n",
       "      <td>-0.046479</td>\n",
       "      <td>-0.036283</td>\n",
       "      <td>-0.069890</td>\n",
       "      <td>-0.036934</td>\n",
       "      <td>-0.030222</td>\n",
       "      <td>-0.094764</td>\n",
       "      <td>-0.056650</td>\n",
       "      <td>-0.086888</td>\n",
       "      <td>0.063549</td>\n",
       "      <td>-0.053803</td>\n",
       "      <td>0.052159</td>\n",
       "    </tr>\n",
       "    <tr>\n",
       "      <th>BPMeds</th>\n",
       "      <td>-0.052128</td>\n",
       "      <td>0.134670</td>\n",
       "      <td>-0.013647</td>\n",
       "      <td>-0.051936</td>\n",
       "      <td>-0.046479</td>\n",
       "      <td>1.000000</td>\n",
       "      <td>0.113119</td>\n",
       "      <td>0.263047</td>\n",
       "      <td>0.049051</td>\n",
       "      <td>0.094011</td>\n",
       "      <td>0.271291</td>\n",
       "      <td>0.199750</td>\n",
       "      <td>0.105603</td>\n",
       "      <td>0.012894</td>\n",
       "      <td>0.054210</td>\n",
       "      <td>0.089116</td>\n",
       "    </tr>\n",
       "    <tr>\n",
       "      <th>prevalentStroke</th>\n",
       "      <td>-0.002308</td>\n",
       "      <td>0.050864</td>\n",
       "      <td>-0.030353</td>\n",
       "      <td>-0.038159</td>\n",
       "      <td>-0.036283</td>\n",
       "      <td>0.113119</td>\n",
       "      <td>1.000000</td>\n",
       "      <td>0.066098</td>\n",
       "      <td>0.009619</td>\n",
       "      <td>0.012697</td>\n",
       "      <td>0.061080</td>\n",
       "      <td>0.055878</td>\n",
       "      <td>0.036478</td>\n",
       "      <td>-0.017020</td>\n",
       "      <td>0.016051</td>\n",
       "      <td>0.048351</td>\n",
       "    </tr>\n",
       "    <tr>\n",
       "      <th>prevalentHyp</th>\n",
       "      <td>0.000806</td>\n",
       "      <td>0.306693</td>\n",
       "      <td>-0.079100</td>\n",
       "      <td>-0.107561</td>\n",
       "      <td>-0.069890</td>\n",
       "      <td>0.263047</td>\n",
       "      <td>0.066098</td>\n",
       "      <td>1.000000</td>\n",
       "      <td>0.080623</td>\n",
       "      <td>0.167074</td>\n",
       "      <td>0.697790</td>\n",
       "      <td>0.617634</td>\n",
       "      <td>0.302917</td>\n",
       "      <td>0.147333</td>\n",
       "      <td>0.087129</td>\n",
       "      <td>0.181556</td>\n",
       "    </tr>\n",
       "    <tr>\n",
       "      <th>diabetes</th>\n",
       "      <td>0.013833</td>\n",
       "      <td>0.109027</td>\n",
       "      <td>-0.039547</td>\n",
       "      <td>-0.041859</td>\n",
       "      <td>-0.036934</td>\n",
       "      <td>0.049051</td>\n",
       "      <td>0.009619</td>\n",
       "      <td>0.080623</td>\n",
       "      <td>1.000000</td>\n",
       "      <td>0.048371</td>\n",
       "      <td>0.102574</td>\n",
       "      <td>0.050767</td>\n",
       "      <td>0.088970</td>\n",
       "      <td>0.060996</td>\n",
       "      <td>0.614817</td>\n",
       "      <td>0.093397</td>\n",
       "    </tr>\n",
       "    <tr>\n",
       "      <th>totChol</th>\n",
       "      <td>-0.070229</td>\n",
       "      <td>0.267764</td>\n",
       "      <td>-0.012956</td>\n",
       "      <td>-0.051119</td>\n",
       "      <td>-0.030222</td>\n",
       "      <td>0.094011</td>\n",
       "      <td>0.012697</td>\n",
       "      <td>0.167074</td>\n",
       "      <td>0.048371</td>\n",
       "      <td>1.000000</td>\n",
       "      <td>0.220130</td>\n",
       "      <td>0.174986</td>\n",
       "      <td>0.120799</td>\n",
       "      <td>0.093057</td>\n",
       "      <td>0.049749</td>\n",
       "      <td>0.091127</td>\n",
       "    </tr>\n",
       "    <tr>\n",
       "      <th>sysBP</th>\n",
       "      <td>-0.045484</td>\n",
       "      <td>0.388551</td>\n",
       "      <td>-0.124511</td>\n",
       "      <td>-0.134371</td>\n",
       "      <td>-0.094764</td>\n",
       "      <td>0.271291</td>\n",
       "      <td>0.061080</td>\n",
       "      <td>0.697790</td>\n",
       "      <td>0.102574</td>\n",
       "      <td>0.220130</td>\n",
       "      <td>1.000000</td>\n",
       "      <td>0.786727</td>\n",
       "      <td>0.331004</td>\n",
       "      <td>0.184901</td>\n",
       "      <td>0.134702</td>\n",
       "      <td>0.222885</td>\n",
       "    </tr>\n",
       "    <tr>\n",
       "      <th>diaBP</th>\n",
       "      <td>0.051575</td>\n",
       "      <td>0.208880</td>\n",
       "      <td>-0.058502</td>\n",
       "      <td>-0.115748</td>\n",
       "      <td>-0.056650</td>\n",
       "      <td>0.199750</td>\n",
       "      <td>0.055878</td>\n",
       "      <td>0.617634</td>\n",
       "      <td>0.050767</td>\n",
       "      <td>0.174986</td>\n",
       "      <td>0.786727</td>\n",
       "      <td>1.000000</td>\n",
       "      <td>0.385611</td>\n",
       "      <td>0.179008</td>\n",
       "      <td>0.063704</td>\n",
       "      <td>0.150342</td>\n",
       "    </tr>\n",
       "    <tr>\n",
       "      <th>BMI</th>\n",
       "      <td>0.072867</td>\n",
       "      <td>0.137172</td>\n",
       "      <td>-0.137280</td>\n",
       "      <td>-0.159574</td>\n",
       "      <td>-0.086888</td>\n",
       "      <td>0.105603</td>\n",
       "      <td>0.036478</td>\n",
       "      <td>0.302917</td>\n",
       "      <td>0.088970</td>\n",
       "      <td>0.120799</td>\n",
       "      <td>0.331004</td>\n",
       "      <td>0.385611</td>\n",
       "      <td>1.000000</td>\n",
       "      <td>0.074401</td>\n",
       "      <td>0.083671</td>\n",
       "      <td>0.081931</td>\n",
       "    </tr>\n",
       "    <tr>\n",
       "      <th>heartRate</th>\n",
       "      <td>-0.114923</td>\n",
       "      <td>-0.002685</td>\n",
       "      <td>-0.064254</td>\n",
       "      <td>0.050452</td>\n",
       "      <td>0.063549</td>\n",
       "      <td>0.012894</td>\n",
       "      <td>-0.017020</td>\n",
       "      <td>0.147333</td>\n",
       "      <td>0.060996</td>\n",
       "      <td>0.093057</td>\n",
       "      <td>0.184901</td>\n",
       "      <td>0.179008</td>\n",
       "      <td>0.074401</td>\n",
       "      <td>1.000000</td>\n",
       "      <td>0.097026</td>\n",
       "      <td>0.020523</td>\n",
       "    </tr>\n",
       "    <tr>\n",
       "      <th>glucose</th>\n",
       "      <td>0.003048</td>\n",
       "      <td>0.118245</td>\n",
       "      <td>-0.031874</td>\n",
       "      <td>-0.053346</td>\n",
       "      <td>-0.053803</td>\n",
       "      <td>0.054210</td>\n",
       "      <td>0.016051</td>\n",
       "      <td>0.087129</td>\n",
       "      <td>0.614817</td>\n",
       "      <td>0.049749</td>\n",
       "      <td>0.134702</td>\n",
       "      <td>0.063704</td>\n",
       "      <td>0.083671</td>\n",
       "      <td>0.097026</td>\n",
       "      <td>1.000000</td>\n",
       "      <td>0.121942</td>\n",
       "    </tr>\n",
       "    <tr>\n",
       "      <th>TenYearCHD</th>\n",
       "      <td>0.091745</td>\n",
       "      <td>0.233810</td>\n",
       "      <td>-0.063068</td>\n",
       "      <td>0.019176</td>\n",
       "      <td>0.052159</td>\n",
       "      <td>0.089116</td>\n",
       "      <td>0.048351</td>\n",
       "      <td>0.181556</td>\n",
       "      <td>0.093397</td>\n",
       "      <td>0.091127</td>\n",
       "      <td>0.222885</td>\n",
       "      <td>0.150342</td>\n",
       "      <td>0.081931</td>\n",
       "      <td>0.020523</td>\n",
       "      <td>0.121942</td>\n",
       "      <td>1.000000</td>\n",
       "    </tr>\n",
       "  </tbody>\n",
       "</table>\n",
       "</div>"
      ],
      "text/plain": [
       "                     male       age  education  currentSmoker  cigsPerDay  \\\n",
       "male             1.000000 -0.024387   0.017677       0.206778    0.331243   \n",
       "age             -0.024387  1.000000  -0.158961      -0.210862   -0.189099   \n",
       "education        0.017677 -0.158961   1.000000       0.025253    0.013527   \n",
       "currentSmoker    0.206778 -0.210862   0.025253       1.000000    0.773819   \n",
       "cigsPerDay       0.331243 -0.189099   0.013527       0.773819    1.000000   \n",
       "BPMeds          -0.052128  0.134670  -0.013647      -0.051936   -0.046479   \n",
       "prevalentStroke -0.002308  0.050864  -0.030353      -0.038159   -0.036283   \n",
       "prevalentHyp     0.000806  0.306693  -0.079100      -0.107561   -0.069890   \n",
       "diabetes         0.013833  0.109027  -0.039547      -0.041859   -0.036934   \n",
       "totChol         -0.070229  0.267764  -0.012956      -0.051119   -0.030222   \n",
       "sysBP           -0.045484  0.388551  -0.124511      -0.134371   -0.094764   \n",
       "diaBP            0.051575  0.208880  -0.058502      -0.115748   -0.056650   \n",
       "BMI              0.072867  0.137172  -0.137280      -0.159574   -0.086888   \n",
       "heartRate       -0.114923 -0.002685  -0.064254       0.050452    0.063549   \n",
       "glucose          0.003048  0.118245  -0.031874      -0.053346   -0.053803   \n",
       "TenYearCHD       0.091745  0.233810  -0.063068       0.019176    0.052159   \n",
       "\n",
       "                   BPMeds  prevalentStroke  prevalentHyp  diabetes   totChol  \\\n",
       "male            -0.052128        -0.002308      0.000806  0.013833 -0.070229   \n",
       "age              0.134670         0.050864      0.306693  0.109027  0.267764   \n",
       "education       -0.013647        -0.030353     -0.079100 -0.039547 -0.012956   \n",
       "currentSmoker   -0.051936        -0.038159     -0.107561 -0.041859 -0.051119   \n",
       "cigsPerDay      -0.046479        -0.036283     -0.069890 -0.036934 -0.030222   \n",
       "BPMeds           1.000000         0.113119      0.263047  0.049051  0.094011   \n",
       "prevalentStroke  0.113119         1.000000      0.066098  0.009619  0.012697   \n",
       "prevalentHyp     0.263047         0.066098      1.000000  0.080623  0.167074   \n",
       "diabetes         0.049051         0.009619      0.080623  1.000000  0.048371   \n",
       "totChol          0.094011         0.012697      0.167074  0.048371  1.000000   \n",
       "sysBP            0.271291         0.061080      0.697790  0.102574  0.220130   \n",
       "diaBP            0.199750         0.055878      0.617634  0.050767  0.174986   \n",
       "BMI              0.105603         0.036478      0.302917  0.088970  0.120799   \n",
       "heartRate        0.012894        -0.017020      0.147333  0.060996  0.093057   \n",
       "glucose          0.054210         0.016051      0.087129  0.614817  0.049749   \n",
       "TenYearCHD       0.089116         0.048351      0.181556  0.093397  0.091127   \n",
       "\n",
       "                    sysBP     diaBP       BMI  heartRate   glucose  TenYearCHD  \n",
       "male            -0.045484  0.051575  0.072867  -0.114923  0.003048    0.091745  \n",
       "age              0.388551  0.208880  0.137172  -0.002685  0.118245    0.233810  \n",
       "education       -0.124511 -0.058502 -0.137280  -0.064254 -0.031874   -0.063068  \n",
       "currentSmoker   -0.134371 -0.115748 -0.159574   0.050452 -0.053346    0.019176  \n",
       "cigsPerDay      -0.094764 -0.056650 -0.086888   0.063549 -0.053803    0.052159  \n",
       "BPMeds           0.271291  0.199750  0.105603   0.012894  0.054210    0.089116  \n",
       "prevalentStroke  0.061080  0.055878  0.036478  -0.017020  0.016051    0.048351  \n",
       "prevalentHyp     0.697790  0.617634  0.302917   0.147333  0.087129    0.181556  \n",
       "diabetes         0.102574  0.050767  0.088970   0.060996  0.614817    0.093397  \n",
       "totChol          0.220130  0.174986  0.120799   0.093057  0.049749    0.091127  \n",
       "sysBP            1.000000  0.786727  0.331004   0.184901  0.134702    0.222885  \n",
       "diaBP            0.786727  1.000000  0.385611   0.179008  0.063704    0.150342  \n",
       "BMI              0.331004  0.385611  1.000000   0.074401  0.083671    0.081931  \n",
       "heartRate        0.184901  0.179008  0.074401   1.000000  0.097026    0.020523  \n",
       "glucose          0.134702  0.063704  0.083671   0.097026  1.000000    0.121942  \n",
       "TenYearCHD       0.222885  0.150342  0.081931   0.020523  0.121942    1.000000  "
      ]
     },
     "execution_count": 8,
     "metadata": {},
     "output_type": "execute_result"
    }
   ],
   "source": [
    "data.corr()"
   ]
  },
  {
   "cell_type": "code",
   "execution_count": 9,
   "metadata": {},
   "outputs": [
    {
     "name": "stdout",
     "output_type": "stream",
     "text": [
      "TenYearCHD\n",
      "0    3099\n",
      "1     557\n",
      "dtype: int64\n"
     ]
    }
   ],
   "source": [
    "print(data.groupby('TenYearCHD').size())"
   ]
  },
  {
   "cell_type": "code",
   "execution_count": 10,
   "metadata": {},
   "outputs": [
    {
     "data": {
      "text/html": [
       "<div>\n",
       "<style scoped>\n",
       "    .dataframe tbody tr th:only-of-type {\n",
       "        vertical-align: middle;\n",
       "    }\n",
       "\n",
       "    .dataframe tbody tr th {\n",
       "        vertical-align: top;\n",
       "    }\n",
       "\n",
       "    .dataframe thead th {\n",
       "        text-align: right;\n",
       "    }\n",
       "</style>\n",
       "<table border=\"1\" class=\"dataframe\">\n",
       "  <thead>\n",
       "    <tr style=\"text-align: right;\">\n",
       "      <th></th>\n",
       "      <th>male</th>\n",
       "      <th>age</th>\n",
       "      <th>education</th>\n",
       "      <th>currentSmoker</th>\n",
       "      <th>cigsPerDay</th>\n",
       "      <th>BPMeds</th>\n",
       "      <th>prevalentStroke</th>\n",
       "      <th>prevalentHyp</th>\n",
       "      <th>diabetes</th>\n",
       "      <th>totChol</th>\n",
       "      <th>sysBP</th>\n",
       "      <th>diaBP</th>\n",
       "      <th>BMI</th>\n",
       "      <th>heartRate</th>\n",
       "      <th>glucose</th>\n",
       "    </tr>\n",
       "  </thead>\n",
       "  <tbody>\n",
       "    <tr>\n",
       "      <th>0</th>\n",
       "      <td>1</td>\n",
       "      <td>39</td>\n",
       "      <td>4.0</td>\n",
       "      <td>0</td>\n",
       "      <td>0.0</td>\n",
       "      <td>0.0</td>\n",
       "      <td>0</td>\n",
       "      <td>0</td>\n",
       "      <td>0</td>\n",
       "      <td>195.0</td>\n",
       "      <td>106.0</td>\n",
       "      <td>70.0</td>\n",
       "      <td>26.97</td>\n",
       "      <td>80.0</td>\n",
       "      <td>77.0</td>\n",
       "    </tr>\n",
       "    <tr>\n",
       "      <th>1</th>\n",
       "      <td>0</td>\n",
       "      <td>46</td>\n",
       "      <td>2.0</td>\n",
       "      <td>0</td>\n",
       "      <td>0.0</td>\n",
       "      <td>0.0</td>\n",
       "      <td>0</td>\n",
       "      <td>0</td>\n",
       "      <td>0</td>\n",
       "      <td>250.0</td>\n",
       "      <td>121.0</td>\n",
       "      <td>81.0</td>\n",
       "      <td>28.73</td>\n",
       "      <td>95.0</td>\n",
       "      <td>76.0</td>\n",
       "    </tr>\n",
       "    <tr>\n",
       "      <th>2</th>\n",
       "      <td>1</td>\n",
       "      <td>48</td>\n",
       "      <td>1.0</td>\n",
       "      <td>1</td>\n",
       "      <td>20.0</td>\n",
       "      <td>0.0</td>\n",
       "      <td>0</td>\n",
       "      <td>0</td>\n",
       "      <td>0</td>\n",
       "      <td>245.0</td>\n",
       "      <td>127.5</td>\n",
       "      <td>80.0</td>\n",
       "      <td>25.34</td>\n",
       "      <td>75.0</td>\n",
       "      <td>70.0</td>\n",
       "    </tr>\n",
       "    <tr>\n",
       "      <th>3</th>\n",
       "      <td>0</td>\n",
       "      <td>61</td>\n",
       "      <td>3.0</td>\n",
       "      <td>1</td>\n",
       "      <td>30.0</td>\n",
       "      <td>0.0</td>\n",
       "      <td>0</td>\n",
       "      <td>1</td>\n",
       "      <td>0</td>\n",
       "      <td>225.0</td>\n",
       "      <td>150.0</td>\n",
       "      <td>95.0</td>\n",
       "      <td>28.58</td>\n",
       "      <td>65.0</td>\n",
       "      <td>103.0</td>\n",
       "    </tr>\n",
       "    <tr>\n",
       "      <th>4</th>\n",
       "      <td>0</td>\n",
       "      <td>46</td>\n",
       "      <td>3.0</td>\n",
       "      <td>1</td>\n",
       "      <td>23.0</td>\n",
       "      <td>0.0</td>\n",
       "      <td>0</td>\n",
       "      <td>0</td>\n",
       "      <td>0</td>\n",
       "      <td>285.0</td>\n",
       "      <td>130.0</td>\n",
       "      <td>84.0</td>\n",
       "      <td>23.10</td>\n",
       "      <td>85.0</td>\n",
       "      <td>85.0</td>\n",
       "    </tr>\n",
       "  </tbody>\n",
       "</table>\n",
       "</div>"
      ],
      "text/plain": [
       "   male  age  education  currentSmoker  cigsPerDay  BPMeds  prevalentStroke  \\\n",
       "0     1   39        4.0              0         0.0     0.0                0   \n",
       "1     0   46        2.0              0         0.0     0.0                0   \n",
       "2     1   48        1.0              1        20.0     0.0                0   \n",
       "3     0   61        3.0              1        30.0     0.0                0   \n",
       "4     0   46        3.0              1        23.0     0.0                0   \n",
       "\n",
       "   prevalentHyp  diabetes  totChol  sysBP  diaBP    BMI  heartRate  glucose  \n",
       "0             0         0    195.0  106.0   70.0  26.97       80.0     77.0  \n",
       "1             0         0    250.0  121.0   81.0  28.73       95.0     76.0  \n",
       "2             0         0    245.0  127.5   80.0  25.34       75.0     70.0  \n",
       "3             1         0    225.0  150.0   95.0  28.58       65.0    103.0  \n",
       "4             0         0    285.0  130.0   84.0  23.10       85.0     85.0  "
      ]
     },
     "execution_count": 10,
     "metadata": {},
     "output_type": "execute_result"
    }
   ],
   "source": [
    "X=data[data.columns]\n",
    "X=X.drop(columns=['TenYearCHD'])\n",
    "X.head()"
   ]
  },
  {
   "cell_type": "code",
   "execution_count": 11,
   "metadata": {},
   "outputs": [
    {
     "data": {
      "text/plain": [
       "0    0\n",
       "1    0\n",
       "2    0\n",
       "3    1\n",
       "4    0\n",
       "Name: TenYearCHD, dtype: int64"
      ]
     },
     "execution_count": 11,
     "metadata": {},
     "output_type": "execute_result"
    }
   ],
   "source": [
    "Y=data['TenYearCHD']\n",
    "Y.head()"
   ]
  },
  {
   "cell_type": "code",
   "execution_count": 12,
   "metadata": {},
   "outputs": [
    {
     "name": "stdout",
     "output_type": "stream",
     "text": [
      "[ 17.12043013 295.50776101   7.67979651   0.68691311 156.56731824\n",
      "  28.15300258   8.49782271  82.96718408  31.02798685 249.15307765\n",
      " 669.50655224 142.87857382  15.73071703   2.91906232 379.58313716]\n"
     ]
    }
   ],
   "source": [
    "from sklearn.feature_selection import SelectKBest,chi2\n",
    "test=SelectKBest(score_func=chi2,k=10)\n",
    "fit=test.fit(X,Y)\n",
    "print(fit.scores_)"
   ]
  },
  {
   "cell_type": "code",
   "execution_count": 13,
   "metadata": {},
   "outputs": [
    {
     "data": {
      "text/plain": [
       "Index(['male', 'age', 'education', 'currentSmoker', 'cigsPerDay', 'BPMeds',\n",
       "       'prevalentStroke', 'prevalentHyp', 'diabetes', 'totChol', 'sysBP',\n",
       "       'diaBP', 'BMI', 'heartRate', 'glucose'],\n",
       "      dtype='object')"
      ]
     },
     "execution_count": 13,
     "metadata": {},
     "output_type": "execute_result"
    }
   ],
   "source": [
    "X.columns"
   ]
  },
  {
   "cell_type": "code",
   "execution_count": 14,
   "metadata": {},
   "outputs": [
    {
     "data": {
      "text/html": [
       "<div>\n",
       "<style scoped>\n",
       "    .dataframe tbody tr th:only-of-type {\n",
       "        vertical-align: middle;\n",
       "    }\n",
       "\n",
       "    .dataframe tbody tr th {\n",
       "        vertical-align: top;\n",
       "    }\n",
       "\n",
       "    .dataframe thead th {\n",
       "        text-align: right;\n",
       "    }\n",
       "</style>\n",
       "<table border=\"1\" class=\"dataframe\">\n",
       "  <thead>\n",
       "    <tr style=\"text-align: right;\">\n",
       "      <th></th>\n",
       "      <th>age</th>\n",
       "      <th>cigsPerDay</th>\n",
       "      <th>totChol</th>\n",
       "      <th>sysBP</th>\n",
       "      <th>diaBP</th>\n",
       "      <th>glucose</th>\n",
       "    </tr>\n",
       "  </thead>\n",
       "  <tbody>\n",
       "    <tr>\n",
       "      <th>0</th>\n",
       "      <td>39</td>\n",
       "      <td>0.0</td>\n",
       "      <td>195.0</td>\n",
       "      <td>106.0</td>\n",
       "      <td>70.0</td>\n",
       "      <td>77.0</td>\n",
       "    </tr>\n",
       "    <tr>\n",
       "      <th>1</th>\n",
       "      <td>46</td>\n",
       "      <td>0.0</td>\n",
       "      <td>250.0</td>\n",
       "      <td>121.0</td>\n",
       "      <td>81.0</td>\n",
       "      <td>76.0</td>\n",
       "    </tr>\n",
       "    <tr>\n",
       "      <th>2</th>\n",
       "      <td>48</td>\n",
       "      <td>20.0</td>\n",
       "      <td>245.0</td>\n",
       "      <td>127.5</td>\n",
       "      <td>80.0</td>\n",
       "      <td>70.0</td>\n",
       "    </tr>\n",
       "    <tr>\n",
       "      <th>3</th>\n",
       "      <td>61</td>\n",
       "      <td>30.0</td>\n",
       "      <td>225.0</td>\n",
       "      <td>150.0</td>\n",
       "      <td>95.0</td>\n",
       "      <td>103.0</td>\n",
       "    </tr>\n",
       "    <tr>\n",
       "      <th>4</th>\n",
       "      <td>46</td>\n",
       "      <td>23.0</td>\n",
       "      <td>285.0</td>\n",
       "      <td>130.0</td>\n",
       "      <td>84.0</td>\n",
       "      <td>85.0</td>\n",
       "    </tr>\n",
       "  </tbody>\n",
       "</table>\n",
       "</div>"
      ],
      "text/plain": [
       "   age  cigsPerDay  totChol  sysBP  diaBP  glucose\n",
       "0   39         0.0    195.0  106.0   70.0     77.0\n",
       "1   46         0.0    250.0  121.0   81.0     76.0\n",
       "2   48        20.0    245.0  127.5   80.0     70.0\n",
       "3   61        30.0    225.0  150.0   95.0    103.0\n",
       "4   46        23.0    285.0  130.0   84.0     85.0"
      ]
     },
     "execution_count": 14,
     "metadata": {},
     "output_type": "execute_result"
    }
   ],
   "source": [
    "X=data[['age','cigsPerDay','totChol','sysBP','diaBP','glucose']]\n",
    "X.head()"
   ]
  },
  {
   "cell_type": "code",
   "execution_count": 15,
   "metadata": {},
   "outputs": [],
   "source": [
    "from sklearn.preprocessing import StandardScaler\n",
    "sc_x=StandardScaler()\n",
    "X=sc_x.fit_transform(X)"
   ]
  },
  {
   "cell_type": "code",
   "execution_count": 16,
   "metadata": {},
   "outputs": [
    {
     "name": "stderr",
     "output_type": "stream",
     "text": [
      "/opt/conda/lib/python3.6/site-packages/ipykernel_launcher.py:4: UserWarning: To output multiple subplots, the figure containing the passed axes is being cleared\n",
      "  after removing the cwd from sys.path.\n"
     ]
    },
    {
     "data": {
      "text/plain": [
       "array([[<matplotlib.axes._subplots.AxesSubplot object at 0x7fb9737b0438>,\n",
       "        <matplotlib.axes._subplots.AxesSubplot object at 0x7fb9717378d0>],\n",
       "       [<matplotlib.axes._subplots.AxesSubplot object at 0x7fb971760e10>,\n",
       "        <matplotlib.axes._subplots.AxesSubplot object at 0x7fb9717103c8>],\n",
       "       [<matplotlib.axes._subplots.AxesSubplot object at 0x7fb9716b0da0>,\n",
       "        <matplotlib.axes._subplots.AxesSubplot object at 0x7fb9716e0358>]],\n",
       "      dtype=object)"
      ]
     },
     "execution_count": 16,
     "metadata": {},
     "output_type": "execute_result"
    },
    {
     "data": {
      "image/png": "[encoded data removed]",
      "text/plain": [
       "<Figure size 1080x1440 with 6 Axes>"
      ]
     },
     "metadata": {
      "needs_background": "light"
     },
     "output_type": "display_data"
    }
   ],
   "source": [
    "#histograms the dataset\n",
    "fig = plt.figure(figsize = (15,20))\n",
    "ax = fig.gca()\n",
    "pd.DataFrame(X).hist(ax = ax)"
   ]
  },
  {
   "cell_type": "code",
   "execution_count": 17,
   "metadata": {},
   "outputs": [],
   "source": [
    "models=[]\n",
    "models.append(('LR',LogisticRegression()))\n",
    "models.append(('DT',DecisionTreeClassifier()))\n",
    "models.append(('KN',KNeighborsClassifier()))\n",
    "models.append(('NB',GaussianNB()))\n",
    "models.append(('SVC',SVC()))"
   ]
  },
  {
   "cell_type": "code",
   "execution_count": 18,
   "metadata": {},
   "outputs": [
    {
     "name": "stderr",
     "output_type": "stream",
     "text": [
      "/opt/conda/lib/python3.6/site-packages/sklearn/model_selection/_split.py:296: FutureWarning: Setting a random_state has no effect since shuffle is False. This will raise an error in 0.24. You should leave random_state to its default (None), or set shuffle=True.\n",
      "  FutureWarning\n"
     ]
    },
    {
     "name": "stdout",
     "output_type": "stream",
     "text": [
      "LR: 0.852300 (0.018316)\n"
     ]
    },
    {
     "name": "stderr",
     "output_type": "stream",
     "text": [
      "/opt/conda/lib/python3.6/site-packages/sklearn/model_selection/_split.py:296: FutureWarning: Setting a random_state has no effect since shuffle is False. This will raise an error in 0.24. You should leave random_state to its default (None), or set shuffle=True.\n",
      "  FutureWarning\n"
     ]
    },
    {
     "name": "stdout",
     "output_type": "stream",
     "text": [
      "DT: 0.746436 (0.029051)\n"
     ]
    },
    {
     "name": "stderr",
     "output_type": "stream",
     "text": [
      "/opt/conda/lib/python3.6/site-packages/sklearn/model_selection/_split.py:296: FutureWarning: Setting a random_state has no effect since shuffle is False. This will raise an error in 0.24. You should leave random_state to its default (None), or set shuffle=True.\n",
      "  FutureWarning\n"
     ]
    },
    {
     "name": "stdout",
     "output_type": "stream",
     "text": [
      "KN: 0.833702 (0.019560)\n",
      "NB: 0.826862 (0.021174)\n"
     ]
    },
    {
     "name": "stderr",
     "output_type": "stream",
     "text": [
      "/opt/conda/lib/python3.6/site-packages/sklearn/model_selection/_split.py:296: FutureWarning: Setting a random_state has no effect since shuffle is False. This will raise an error in 0.24. You should leave random_state to its default (None), or set shuffle=True.\n",
      "  FutureWarning\n",
      "/opt/conda/lib/python3.6/site-packages/sklearn/model_selection/_split.py:296: FutureWarning: Setting a random_state has no effect since shuffle is False. This will raise an error in 0.24. You should leave random_state to its default (None), or set shuffle=True.\n",
      "  FutureWarning\n"
     ]
    },
    {
     "name": "stdout",
     "output_type": "stream",
     "text": [
      "SVC: 0.846826 (0.017596)\n"
     ]
    }
   ],
   "source": [
    "results=[]\n",
    "names=[]\n",
    "scoring='accuracy'\n",
    "for name,model in models:\n",
    "    kfold=KFold(n_splits=10,random_state=7)\n",
    "    cv_result=cross_val_score(model,X,Y,cv=kfold,scoring=scoring)\n",
    "    results.append(cv_result)\n",
    "    names.append(name)\n",
    "    msg=(\"%s: %f (%f)\" % (name,cv_result.mean(),cv_result.std()))\n",
    "    print(msg)"
   ]
  },
  {
   "cell_type": "code",
   "execution_count": 19,
   "metadata": {},
   "outputs": [
    {
     "data": {
      "image/png": "[encoded data removed]",
      "text/plain": [
       "<Figure size 432x288 with 1 Axes>"
      ]
     },
     "metadata": {
      "needs_background": "light"
     },
     "output_type": "display_data"
    }
   ],
   "source": [
    "import matplotlib.pyplot as plt\n",
    "fig=plt.figure()\n",
    "fig.suptitle('Algorithms Coparison')\n",
    "ax=fig.add_subplot(111)\n",
    "plt.boxplot(results)\n",
    "ax.set_xticklabels(names)\n",
    "plt.show()"
   ]
  },
  {
   "cell_type": "code",
   "execution_count": 20,
   "metadata": {},
   "outputs": [],
   "source": [
    "x_train,x_test,y_train,y_test=train_test_split(X,Y,test_size=0.2,random_state=1)"
   ]
  },
  {
   "cell_type": "code",
   "execution_count": 21,
   "metadata": {},
   "outputs": [
    {
     "data": {
      "text/plain": [
       "LogisticRegression(C=1.0, class_weight=None, dual=False, fit_intercept=True,\n",
       "                   intercept_scaling=1, l1_ratio=None, max_iter=100,\n",
       "                   multi_class='auto', n_jobs=None, penalty='l2',\n",
       "                   random_state=None, solver='lbfgs', tol=0.0001, verbose=0,\n",
       "                   warm_start=False)"
      ]
     },
     "execution_count": 21,
     "metadata": {},
     "output_type": "execute_result"
    }
   ],
   "source": [
    "my_model=LogisticRegression()\n",
    "my_model.fit(x_train,y_train)"
   ]
  },
  {
   "cell_type": "code",
   "execution_count": 22,
   "metadata": {},
   "outputs": [
    {
     "name": "stdout",
     "output_type": "stream",
     "text": [
      "Accuracy :  86.0655737704918\n"
     ]
    }
   ],
   "source": [
    "result=my_model.score(x_test,y_test)\n",
    "print('Accuracy : ' ,(result*100))"
   ]
  },
  {
   "cell_type": "code",
   "execution_count": null,
   "metadata": {},
   "outputs": [],
   "source": []
  }
 ],
 "metadata": {
  "kernelspec": {
   "display_name": "Python 3",
   "language": "python",
   "name": "python3"
  },
  "language_info": {
   "codemirror_mode": {
    "name": "ipython",
    "version": 3
   },
   "file_extension": ".py",
   "mimetype": "text/x-python",
   "name": "python",
   "nbconvert_exporter": "python",
   "pygments_lexer": "ipython3",
   "version": "3.6.6"
  }
 },
 "nbformat": 4,
 "nbformat_minor": 4
}
