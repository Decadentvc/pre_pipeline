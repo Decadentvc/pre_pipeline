{
 "cells": [
  {
   "cell_type": "markdown",
   "metadata": {
    "papermill": {
     "duration": 0.039368,
     "end_time": "2020-10-02T05:22:45.254238",
     "exception": false,
     "start_time": "2020-10-02T05:22:45.214870",
     "status": "completed"
    },
    "tags": []
   },
   "source": [
    "Its very important to know the type of Data to decide which Machine learning algorthim you have to use.There are three types of Data:\n",
    "\n",
    "* Categorical Data\n",
    "* Numerical Data\n",
    "* Ordinal Data\n",
    "\n",
    "In these notebook we will perfom following task:\n",
    "* First we will look through data and explore\n",
    "* We will see if data contains any missing value and try to fix it.\n",
    "* Insights of data are always usefull hence we will explore through seaborn , matplotlib libraries.\n",
    "* We will deploy through Logistic Regression Model."
   ]
  },
  {
   "cell_type": "code",
   "execution_count": 1,
   "metadata": {
    "_cell_guid": "b1076dfc-b9ad-4769-8c92-a6c4dae69d19",
    "_uuid": "8f2839f25d086af736a60e9eeb907d3b93b6e0e5",
    "execution": {
     "iopub.execute_input": "2020-10-02T05:22:45.339090Z",
     "iopub.status.busy": "2020-10-02T05:22:45.338219Z",
     "iopub.status.idle": "2020-10-02T05:22:45.346030Z",
     "shell.execute_reply": "2020-10-02T05:22:45.346892Z"
    },
    "papermill": {
     "duration": 0.054769,
     "end_time": "2020-10-02T05:22:45.347148",
     "exception": false,
     "start_time": "2020-10-02T05:22:45.292379",
     "status": "completed"
    },
    "tags": []
   },
   "outputs": [
    {
     "name": "stdout",
     "output_type": "stream",
     "text": [
      "/kaggle/input/loan-predication/train_u6lujuX_CVtuZ9i (1).csv\n"
     ]
    }
   ],
   "source": [
    "# This Python 3 environment comes with many helpful analytics libraries installed\n",
    "# It is defined by the kaggle/python Docker image: https://github.com/kaggle/docker-python\n",
    "# For example, here's several helpful packages to load\n",
    "\n",
    "import numpy as np # linear algebra\n",
    "import pandas as pd # data processing, CSV file I/O (e.g. pd.read_csv)\n",
    "\n",
    "# Input data files are available in the read-only \"../input/\" directory\n",
    "# For example, running this (by clicking run or pressing Shift+Enter) will list all files under the input directory\n",
    "\n",
    "import os\n",
    "for dirname, _, filenames in os.walk('/kaggle/input/loan-predication'):\n",
    "    for filename in filenames:\n",
    "        print(os.path.join(dirname, filename))\n",
    "\n",
    "# You can write up to 5GB to the current directory (/kaggle/working/) that gets preserved as output when you create a version using \"Save & Run All\" \n",
    "# You can also write temporary files to /kaggle/temp/, but they won't be saved outside of the current session"
   ]
  },
  {
   "cell_type": "code",
   "execution_count": 2,
   "metadata": {
    "_cell_guid": "79c7e3d0-c299-4dcb-8224-4455121ee9b0",
    "_uuid": "d629ff2d2480ee46fbb7e2d37f6b5fab8052498a",
    "execution": {
     "iopub.execute_input": "2020-10-02T05:22:45.434488Z",
     "iopub.status.busy": "2020-10-02T05:22:45.433747Z",
     "iopub.status.idle": "2020-10-02T05:22:45.449019Z",
     "shell.execute_reply": "2020-10-02T05:22:45.448261Z"
    },
    "papermill": {
     "duration": 0.061351,
     "end_time": "2020-10-02T05:22:45.449143",
     "exception": false,
     "start_time": "2020-10-02T05:22:45.387792",
     "status": "completed"
    },
    "tags": []
   },
   "outputs": [],
   "source": [
    "raw_data = pd.read_csv('/kaggle/input/loan-predication/train_u6lujuX_CVtuZ9i (1).csv')"
   ]
  },
  {
   "cell_type": "code",
   "execution_count": 3,
   "metadata": {
    "execution": {
     "iopub.execute_input": "2020-10-02T05:22:45.533684Z",
     "iopub.status.busy": "2020-10-02T05:22:45.532802Z",
     "iopub.status.idle": "2020-10-02T05:22:45.537352Z",
     "shell.execute_reply": "2020-10-02T05:22:45.536606Z"
    },
    "papermill": {
     "duration": 0.049962,
     "end_time": "2020-10-02T05:22:45.537478",
     "exception": false,
     "start_time": "2020-10-02T05:22:45.487516",
     "status": "completed"
    },
    "tags": []
   },
   "outputs": [
    {
     "data": {
      "text/plain": [
       "(614, 13)"
      ]
     },
     "execution_count": 3,
     "metadata": {},
     "output_type": "execute_result"
    }
   ],
   "source": [
    "raw_data.shape"
   ]
  },
  {
   "cell_type": "code",
   "execution_count": 4,
   "metadata": {
    "execution": {
     "iopub.execute_input": "2020-10-02T05:22:45.634632Z",
     "iopub.status.busy": "2020-10-02T05:22:45.633799Z",
     "iopub.status.idle": "2020-10-02T05:22:45.650056Z",
     "shell.execute_reply": "2020-10-02T05:22:45.649468Z"
    },
    "papermill": {
     "duration": 0.073588,
     "end_time": "2020-10-02T05:22:45.650183",
     "exception": false,
     "start_time": "2020-10-02T05:22:45.576595",
     "status": "completed"
    },
    "tags": []
   },
   "outputs": [
    {
     "data": {
      "text/html": [
       "<div>\n",
       "<style scoped>\n",
       "    .dataframe tbody tr th:only-of-type {\n",
       "        vertical-align: middle;\n",
       "    }\n",
       "\n",
       "    .dataframe tbody tr th {\n",
       "        vertical-align: top;\n",
       "    }\n",
       "\n",
       "    .dataframe thead th {\n",
       "        text-align: right;\n",
       "    }\n",
       "</style>\n",
       "<table border=\"1\" class=\"dataframe\">\n",
       "  <thead>\n",
       "    <tr style=\"text-align: right;\">\n",
       "      <th></th>\n",
       "      <th>Loan_ID</th>\n",
       "      <th>Gender</th>\n",
       "      <th>Married</th>\n",
       "      <th>Dependents</th>\n",
       "      <th>Education</th>\n",
       "      <th>Self_Employed</th>\n",
       "      <th>ApplicantIncome</th>\n",
       "      <th>CoapplicantIncome</th>\n",
       "      <th>LoanAmount</th>\n",
       "      <th>Loan_Amount_Term</th>\n",
       "      <th>Credit_History</th>\n",
       "      <th>Property_Area</th>\n",
       "      <th>Loan_Status</th>\n",
       "    </tr>\n",
       "  </thead>\n",
       "  <tbody>\n",
       "    <tr>\n",
       "      <th>0</th>\n",
       "      <td>LP001002</td>\n",
       "      <td>Male</td>\n",
       "      <td>No</td>\n",
       "      <td>0</td>\n",
       "      <td>Graduate</td>\n",
       "      <td>No</td>\n",
       "      <td>5849</td>\n",
       "      <td>0.0</td>\n",
       "      <td>NaN</td>\n",
       "      <td>360.0</td>\n",
       "      <td>1.0</td>\n",
       "      <td>Urban</td>\n",
       "      <td>Y</td>\n",
       "    </tr>\n",
       "    <tr>\n",
       "      <th>1</th>\n",
       "      <td>LP001003</td>\n",
       "      <td>Male</td>\n",
       "      <td>Yes</td>\n",
       "      <td>1</td>\n",
       "      <td>Graduate</td>\n",
       "      <td>No</td>\n",
       "      <td>4583</td>\n",
       "      <td>1508.0</td>\n",
       "      <td>128.0</td>\n",
       "      <td>360.0</td>\n",
       "      <td>1.0</td>\n",
       "      <td>Rural</td>\n",
       "      <td>N</td>\n",
       "    </tr>\n",
       "    <tr>\n",
       "      <th>2</th>\n",
       "      <td>LP001005</td>\n",
       "      <td>Male</td>\n",
       "      <td>Yes</td>\n",
       "      <td>0</td>\n",
       "      <td>Graduate</td>\n",
       "      <td>Yes</td>\n",
       "      <td>3000</td>\n",
       "      <td>0.0</td>\n",
       "      <td>66.0</td>\n",
       "      <td>360.0</td>\n",
       "      <td>1.0</td>\n",
       "      <td>Urban</td>\n",
       "      <td>Y</td>\n",
       "    </tr>\n",
       "    <tr>\n",
       "      <th>3</th>\n",
       "      <td>LP001006</td>\n",
       "      <td>Male</td>\n",
       "      <td>Yes</td>\n",
       "      <td>0</td>\n",
       "      <td>Not Graduate</td>\n",
       "      <td>No</td>\n",
       "      <td>2583</td>\n",
       "      <td>2358.0</td>\n",
       "      <td>120.0</td>\n",
       "      <td>360.0</td>\n",
       "      <td>1.0</td>\n",
       "      <td>Urban</td>\n",
       "      <td>Y</td>\n",
       "    </tr>\n",
       "    <tr>\n",
       "      <th>4</th>\n",
       "      <td>LP001008</td>\n",
       "      <td>Male</td>\n",
       "      <td>No</td>\n",
       "      <td>0</td>\n",
       "      <td>Graduate</td>\n",
       "      <td>No</td>\n",
       "      <td>6000</td>\n",
       "      <td>0.0</td>\n",
       "      <td>141.0</td>\n",
       "      <td>360.0</td>\n",
       "      <td>1.0</td>\n",
       "      <td>Urban</td>\n",
       "      <td>Y</td>\n",
       "    </tr>\n",
       "  </tbody>\n",
       "</table>\n",
       "</div>"
      ],
      "text/plain": [
       "    Loan_ID Gender Married Dependents     Education Self_Employed  \\\n",
       "0  LP001002   Male      No          0      Graduate            No   \n",
       "1  LP001003   Male     Yes          1      Graduate            No   \n",
       "2  LP001005   Male     Yes          0      Graduate           Yes   \n",
       "3  LP001006   Male     Yes          0  Not Graduate            No   \n",
       "4  LP001008   Male      No          0      Graduate            No   \n",
       "\n",
       "   ApplicantIncome  CoapplicantIncome  LoanAmount  Loan_Amount_Term  \\\n",
       "0             5849                0.0         NaN             360.0   \n",
       "1             4583             1508.0       128.0             360.0   \n",
       "2             3000                0.0        66.0             360.0   \n",
       "3             2583             2358.0       120.0             360.0   \n",
       "4             6000                0.0       141.0             360.0   \n",
       "\n",
       "   Credit_History Property_Area Loan_Status  \n",
       "0             1.0         Urban           Y  \n",
       "1             1.0         Rural           N  \n",
       "2             1.0         Urban           Y  \n",
       "3             1.0         Urban           Y  \n",
       "4             1.0         Urban           Y  "
      ]
     },
     "execution_count": 4,
     "metadata": {},
     "output_type": "execute_result"
    }
   ],
   "source": [
    "raw_data.head()"
   ]
  },
  {
   "cell_type": "code",
   "execution_count": 5,
   "metadata": {
    "execution": {
     "iopub.execute_input": "2020-10-02T05:22:45.740328Z",
     "iopub.status.busy": "2020-10-02T05:22:45.739160Z",
     "iopub.status.idle": "2020-10-02T05:22:45.743799Z",
     "shell.execute_reply": "2020-10-02T05:22:45.743184Z"
    },
    "papermill": {
     "duration": 0.053152,
     "end_time": "2020-10-02T05:22:45.743931",
     "exception": false,
     "start_time": "2020-10-02T05:22:45.690779",
     "status": "completed"
    },
    "tags": []
   },
   "outputs": [
    {
     "data": {
      "text/plain": [
       "Loan_ID               0\n",
       "Gender               13\n",
       "Married               3\n",
       "Dependents           15\n",
       "Education             0\n",
       "Self_Employed        32\n",
       "ApplicantIncome       0\n",
       "CoapplicantIncome     0\n",
       "LoanAmount           22\n",
       "Loan_Amount_Term     14\n",
       "Credit_History       50\n",
       "Property_Area         0\n",
       "Loan_Status           0\n",
       "dtype: int64"
      ]
     },
     "execution_count": 5,
     "metadata": {},
     "output_type": "execute_result"
    }
   ],
   "source": [
    "raw_data.isnull().sum()"
   ]
  },
  {
   "cell_type": "code",
   "execution_count": 6,
   "metadata": {
    "execution": {
     "iopub.execute_input": "2020-10-02T05:22:45.845225Z",
     "iopub.status.busy": "2020-10-02T05:22:45.844110Z",
     "iopub.status.idle": "2020-10-02T05:22:45.849070Z",
     "shell.execute_reply": "2020-10-02T05:22:45.847919Z"
    },
    "papermill": {
     "duration": 0.064986,
     "end_time": "2020-10-02T05:22:45.849286",
     "exception": false,
     "start_time": "2020-10-02T05:22:45.784300",
     "status": "completed"
    },
    "tags": []
   },
   "outputs": [
    {
     "name": "stdout",
     "output_type": "stream",
     "text": [
      "<class 'pandas.core.frame.DataFrame'>\n",
      "RangeIndex: 614 entries, 0 to 613\n",
      "Data columns (total 13 columns):\n",
      " #   Column             Non-Null Count  Dtype  \n",
      "---  ------             --------------  -----  \n",
      " 0   Loan_ID            614 non-null    object \n",
      " 1   Gender             601 non-null    object \n",
      " 2   Married            611 non-null    object \n",
      " 3   Dependents         599 non-null    object \n",
      " 4   Education          614 non-null    object \n",
      " 5   Self_Employed      582 non-null    object \n",
      " 6   ApplicantIncome    614 non-null    int64  \n",
      " 7   CoapplicantIncome  614 non-null    float64\n",
      " 8   LoanAmount         592 non-null    float64\n",
      " 9   Loan_Amount_Term   600 non-null    float64\n",
      " 10  Credit_History     564 non-null    float64\n",
      " 11  Property_Area      614 non-null    object \n",
      " 12  Loan_Status        614 non-null    object \n",
      "dtypes: float64(4), int64(1), object(8)\n",
      "memory usage: 62.5+ KB\n"
     ]
    }
   ],
   "source": [
    "raw_data.info()"
   ]
  },
  {
   "cell_type": "markdown",
   "metadata": {
    "papermill": {
     "duration": 0.041688,
     "end_time": "2020-10-02T05:22:45.938720",
     "exception": false,
     "start_time": "2020-10-02T05:22:45.897032",
     "status": "completed"
    },
    "tags": []
   },
   "source": [
    "**First we deal with the missing values** "
   ]
  },
  {
   "cell_type": "code",
   "execution_count": 7,
   "metadata": {
    "execution": {
     "iopub.execute_input": "2020-10-02T05:22:46.030976Z",
     "iopub.status.busy": "2020-10-02T05:22:46.030085Z",
     "iopub.status.idle": "2020-10-02T05:22:47.459350Z",
     "shell.execute_reply": "2020-10-02T05:22:47.458695Z"
    },
    "papermill": {
     "duration": 1.478745,
     "end_time": "2020-10-02T05:22:47.459474",
     "exception": false,
     "start_time": "2020-10-02T05:22:45.980729",
     "status": "completed"
    },
    "tags": []
   },
   "outputs": [
    {
     "data": {
      "text/plain": [
       "<matplotlib.axes._subplots.AxesSubplot at 0x7f25f506d510>"
      ]
     },
     "execution_count": 7,
     "metadata": {},
     "output_type": "execute_result"
    },
    {
     "data": {
      "image/png": "[encoded data removed]",
      "text/plain": [
       "<Figure size 432x288 with 1 Axes>"
      ]
     },
     "metadata": {
      "needs_background": "light"
     },
     "output_type": "display_data"
    }
   ],
   "source": [
    "import seaborn as sns\n",
    "sns.countplot('Loan_Status',hue='Gender',data=raw_data)"
   ]
  },
  {
   "cell_type": "markdown",
   "metadata": {
    "papermill": {
     "duration": 0.04199,
     "end_time": "2020-10-02T05:22:47.543882",
     "exception": false,
     "start_time": "2020-10-02T05:22:47.501892",
     "status": "completed"
    },
    "tags": []
   },
   "source": [
    "*Most probably after looking through the graph we are going to fill with mode of the data i.e 'Male'*"
   ]
  },
  {
   "cell_type": "code",
   "execution_count": 8,
   "metadata": {
    "execution": {
     "iopub.execute_input": "2020-10-02T05:22:47.635428Z",
     "iopub.status.busy": "2020-10-02T05:22:47.634512Z",
     "iopub.status.idle": "2020-10-02T05:22:47.637731Z",
     "shell.execute_reply": "2020-10-02T05:22:47.637121Z"
    },
    "papermill": {
     "duration": 0.051582,
     "end_time": "2020-10-02T05:22:47.637862",
     "exception": false,
     "start_time": "2020-10-02T05:22:47.586280",
     "status": "completed"
    },
    "tags": []
   },
   "outputs": [],
   "source": [
    "raw_data['Gender'] = raw_data['Gender'].fillna('Male')"
   ]
  },
  {
   "cell_type": "code",
   "execution_count": 9,
   "metadata": {
    "execution": {
     "iopub.execute_input": "2020-10-02T05:22:47.743947Z",
     "iopub.status.busy": "2020-10-02T05:22:47.730798Z",
     "iopub.status.idle": "2020-10-02T05:22:47.899216Z",
     "shell.execute_reply": "2020-10-02T05:22:47.898452Z"
    },
    "papermill": {
     "duration": 0.218868,
     "end_time": "2020-10-02T05:22:47.899343",
     "exception": false,
     "start_time": "2020-10-02T05:22:47.680475",
     "status": "completed"
    },
    "tags": []
   },
   "outputs": [
    {
     "data": {
      "text/plain": [
       "<matplotlib.axes._subplots.AxesSubplot at 0x7f25f4e8bed0>"
      ]
     },
     "execution_count": 9,
     "metadata": {},
     "output_type": "execute_result"
    },
    {
     "data": {
      "image/png": "[encoded data removed]",
      "text/plain": [
       "<Figure size 432x288 with 1 Axes>"
      ]
     },
     "metadata": {
      "needs_background": "light"
     },
     "output_type": "display_data"
    }
   ],
   "source": [
    "sns.countplot('Loan_Status',hue='Married',data=raw_data)"
   ]
  },
  {
   "cell_type": "markdown",
   "metadata": {
    "papermill": {
     "duration": 0.044102,
     "end_time": "2020-10-02T05:22:47.988569",
     "exception": false,
     "start_time": "2020-10-02T05:22:47.944467",
     "status": "completed"
    },
    "tags": []
   },
   "source": [
    "We can infer from this that those who were married were most probably to get the loan."
   ]
  },
  {
   "cell_type": "code",
   "execution_count": 10,
   "metadata": {
    "execution": {
     "iopub.execute_input": "2020-10-02T05:22:48.085685Z",
     "iopub.status.busy": "2020-10-02T05:22:48.084649Z",
     "iopub.status.idle": "2020-10-02T05:22:48.087132Z",
     "shell.execute_reply": "2020-10-02T05:22:48.087746Z"
    },
    "papermill": {
     "duration": 0.053234,
     "end_time": "2020-10-02T05:22:48.087900",
     "exception": false,
     "start_time": "2020-10-02T05:22:48.034666",
     "status": "completed"
    },
    "tags": []
   },
   "outputs": [],
   "source": [
    "raw_data['Married'] = raw_data['Married'].fillna('Yes')"
   ]
  },
  {
   "cell_type": "code",
   "execution_count": 11,
   "metadata": {
    "execution": {
     "iopub.execute_input": "2020-10-02T05:22:48.191005Z",
     "iopub.status.busy": "2020-10-02T05:22:48.184135Z",
     "iopub.status.idle": "2020-10-02T05:22:48.371951Z",
     "shell.execute_reply": "2020-10-02T05:22:48.371066Z"
    },
    "papermill": {
     "duration": 0.240095,
     "end_time": "2020-10-02T05:22:48.372091",
     "exception": false,
     "start_time": "2020-10-02T05:22:48.131996",
     "status": "completed"
    },
    "tags": []
   },
   "outputs": [
    {
     "data": {
      "text/plain": [
       "<matplotlib.axes._subplots.AxesSubplot at 0x7f25f4d96590>"
      ]
     },
     "execution_count": 11,
     "metadata": {},
     "output_type": "execute_result"
    },
    {
     "data": {
      "image/png": "[encoded data removed]",
      "text/plain": [
       "<Figure size 432x288 with 1 Axes>"
      ]
     },
     "metadata": {
      "needs_background": "light"
     },
     "output_type": "display_data"
    }
   ],
   "source": [
    "sns.countplot('Loan_Status',hue='Dependents',data=raw_data)"
   ]
  },
  {
   "cell_type": "markdown",
   "metadata": {
    "papermill": {
     "duration": 0.051413,
     "end_time": "2020-10-02T05:22:48.475157",
     "exception": false,
     "start_time": "2020-10-02T05:22:48.423744",
     "status": "completed"
    },
    "tags": []
   },
   "source": [
    "Since most of the dependents are 0 we are gonna fill with it with 0"
   ]
  },
  {
   "cell_type": "code",
   "execution_count": 12,
   "metadata": {
    "execution": {
     "iopub.execute_input": "2020-10-02T05:22:48.585172Z",
     "iopub.status.busy": "2020-10-02T05:22:48.584036Z",
     "iopub.status.idle": "2020-10-02T05:22:48.587673Z",
     "shell.execute_reply": "2020-10-02T05:22:48.586844Z"
    },
    "papermill": {
     "duration": 0.061544,
     "end_time": "2020-10-02T05:22:48.587813",
     "exception": false,
     "start_time": "2020-10-02T05:22:48.526269",
     "status": "completed"
    },
    "tags": []
   },
   "outputs": [],
   "source": [
    "raw_data['Dependents'] = raw_data['Dependents'].fillna('0')"
   ]
  },
  {
   "cell_type": "code",
   "execution_count": 13,
   "metadata": {
    "execution": {
     "iopub.execute_input": "2020-10-02T05:22:48.704560Z",
     "iopub.status.busy": "2020-10-02T05:22:48.700149Z",
     "iopub.status.idle": "2020-10-02T05:22:48.874847Z",
     "shell.execute_reply": "2020-10-02T05:22:48.874189Z"
    },
    "papermill": {
     "duration": 0.235554,
     "end_time": "2020-10-02T05:22:48.874970",
     "exception": false,
     "start_time": "2020-10-02T05:22:48.639416",
     "status": "completed"
    },
    "tags": []
   },
   "outputs": [
    {
     "data": {
      "text/plain": [
       "<matplotlib.axes._subplots.AxesSubplot at 0x7f25f4d82450>"
      ]
     },
     "execution_count": 13,
     "metadata": {},
     "output_type": "execute_result"
    },
    {
     "data": {
      "image/png": "[encoded data removed]",
      "text/plain": [
       "<Figure size 432x288 with 1 Axes>"
      ]
     },
     "metadata": {
      "needs_background": "light"
     },
     "output_type": "display_data"
    }
   ],
   "source": [
    "sns.countplot('Loan_Status',hue='Self_Employed',data=raw_data)"
   ]
  },
  {
   "cell_type": "code",
   "execution_count": 14,
   "metadata": {
    "execution": {
     "iopub.execute_input": "2020-10-02T05:22:48.976886Z",
     "iopub.status.busy": "2020-10-02T05:22:48.976118Z",
     "iopub.status.idle": "2020-10-02T05:22:48.979949Z",
     "shell.execute_reply": "2020-10-02T05:22:48.979163Z"
    },
    "papermill": {
     "duration": 0.057671,
     "end_time": "2020-10-02T05:22:48.980087",
     "exception": false,
     "start_time": "2020-10-02T05:22:48.922416",
     "status": "completed"
    },
    "tags": []
   },
   "outputs": [],
   "source": [
    "raw_data['Self_Employed'] = raw_data['Self_Employed'].fillna('Yes')"
   ]
  },
  {
   "cell_type": "code",
   "execution_count": 15,
   "metadata": {
    "execution": {
     "iopub.execute_input": "2020-10-02T05:22:49.087522Z",
     "iopub.status.busy": "2020-10-02T05:22:49.082273Z",
     "iopub.status.idle": "2020-10-02T05:22:49.384435Z",
     "shell.execute_reply": "2020-10-02T05:22:49.383534Z"
    },
    "papermill": {
     "duration": 0.356032,
     "end_time": "2020-10-02T05:22:49.384597",
     "exception": false,
     "start_time": "2020-10-02T05:22:49.028565",
     "status": "completed"
    },
    "tags": []
   },
   "outputs": [
    {
     "data": {
      "text/plain": [
       "<matplotlib.axes._subplots.AxesSubplot at 0x7f25f4ce8c50>"
      ]
     },
     "execution_count": 15,
     "metadata": {},
     "output_type": "execute_result"
    },
    {
     "data": {
      "image/png": "[encoded data removed]",
      "text/plain": [
       "<Figure size 432x288 with 1 Axes>"
      ]
     },
     "metadata": {
      "needs_background": "light"
     },
     "output_type": "display_data"
    }
   ],
   "source": [
    "sns.distplot(raw_data['LoanAmount'])"
   ]
  },
  {
   "cell_type": "code",
   "execution_count": 16,
   "metadata": {
    "execution": {
     "iopub.execute_input": "2020-10-02T05:22:49.608556Z",
     "iopub.status.busy": "2020-10-02T05:22:49.607266Z",
     "iopub.status.idle": "2020-10-02T05:22:49.865754Z",
     "shell.execute_reply": "2020-10-02T05:22:49.864974Z"
    },
    "papermill": {
     "duration": 0.420997,
     "end_time": "2020-10-02T05:22:49.865883",
     "exception": false,
     "start_time": "2020-10-02T05:22:49.444886",
     "status": "completed"
    },
    "tags": []
   },
   "outputs": [
    {
     "data": {
      "text/plain": [
       "<matplotlib.axes._subplots.AxesSubplot at 0x7f25f4bcb0d0>"
      ]
     },
     "execution_count": 16,
     "metadata": {},
     "output_type": "execute_result"
    },
    {
     "data": {
      "image/png": "[encoded data removed]",
      "text/plain": [
       "<Figure size 432x288 with 1 Axes>"
      ]
     },
     "metadata": {
      "needs_background": "light"
     },
     "output_type": "display_data"
    }
   ],
   "source": [
    "sns.scatterplot(raw_data['LoanAmount'],y=np.arange(0,614))"
   ]
  },
  {
   "cell_type": "markdown",
   "metadata": {
    "papermill": {
     "duration": 0.053618,
     "end_time": "2020-10-02T05:22:49.970177",
     "exception": false,
     "start_time": "2020-10-02T05:22:49.916559",
     "status": "completed"
    },
    "tags": []
   },
   "source": [
    "We see outliers as data seems to right skewed , so we will not fill values by mean of this data, we gonna take the mean without containing outliers."
   ]
  },
  {
   "cell_type": "code",
   "execution_count": 17,
   "metadata": {
    "execution": {
     "iopub.execute_input": "2020-10-02T05:22:50.084546Z",
     "iopub.status.busy": "2020-10-02T05:22:50.083795Z",
     "iopub.status.idle": "2020-10-02T05:22:50.087553Z",
     "shell.execute_reply": "2020-10-02T05:22:50.086966Z"
    },
    "papermill": {
     "duration": 0.064362,
     "end_time": "2020-10-02T05:22:50.087679",
     "exception": false,
     "start_time": "2020-10-02T05:22:50.023317",
     "status": "completed"
    },
    "tags": []
   },
   "outputs": [],
   "source": [
    "mean=raw_data[raw_data['LoanAmount']<=400]['LoanAmount'].mean()\n",
    "raw_data['LoanAmount'].fillna(mean,inplace=True)\n"
   ]
  },
  {
   "cell_type": "code",
   "execution_count": 18,
   "metadata": {
    "execution": {
     "iopub.execute_input": "2020-10-02T05:22:50.207567Z",
     "iopub.status.busy": "2020-10-02T05:22:50.206752Z",
     "iopub.status.idle": "2020-10-02T05:22:50.395866Z",
     "shell.execute_reply": "2020-10-02T05:22:50.394941Z"
    },
    "papermill": {
     "duration": 0.25731,
     "end_time": "2020-10-02T05:22:50.396009",
     "exception": false,
     "start_time": "2020-10-02T05:22:50.138699",
     "status": "completed"
    },
    "tags": []
   },
   "outputs": [
    {
     "data": {
      "text/plain": [
       "<matplotlib.axes._subplots.AxesSubplot at 0x7f25f4e1c190>"
      ]
     },
     "execution_count": 18,
     "metadata": {},
     "output_type": "execute_result"
    },
    {
     "data": {
      "image/png": "[encoded data removed]",
      "text/plain": [
       "<Figure size 432x288 with 1 Axes>"
      ]
     },
     "metadata": {
      "needs_background": "light"
     },
     "output_type": "display_data"
    }
   ],
   "source": [
    "sns.scatterplot(raw_data['Loan_Amount_Term'],y=np.arange(0,614))"
   ]
  },
  {
   "cell_type": "markdown",
   "metadata": {
    "papermill": {
     "duration": 0.058811,
     "end_time": "2020-10-02T05:22:50.514436",
     "exception": false,
     "start_time": "2020-10-02T05:22:50.455625",
     "status": "completed"
    },
    "tags": []
   },
   "source": [
    "For the missing value we are going to use mode."
   ]
  },
  {
   "cell_type": "code",
   "execution_count": 19,
   "metadata": {
    "execution": {
     "iopub.execute_input": "2020-10-02T05:22:50.640034Z",
     "iopub.status.busy": "2020-10-02T05:22:50.639309Z",
     "iopub.status.idle": "2020-10-02T05:22:50.644691Z",
     "shell.execute_reply": "2020-10-02T05:22:50.643919Z"
    },
    "papermill": {
     "duration": 0.071748,
     "end_time": "2020-10-02T05:22:50.644833",
     "exception": false,
     "start_time": "2020-10-02T05:22:50.573085",
     "status": "completed"
    },
    "tags": []
   },
   "outputs": [],
   "source": [
    "raw_data['Loan_Amount_Term'].fillna(raw_data['Loan_Amount_Term'].value_counts().idxmax(), inplace=True)\n"
   ]
  },
  {
   "cell_type": "code",
   "execution_count": 20,
   "metadata": {
    "execution": {
     "iopub.execute_input": "2020-10-02T05:22:50.759466Z",
     "iopub.status.busy": "2020-10-02T05:22:50.758325Z",
     "iopub.status.idle": "2020-10-02T05:22:50.763532Z",
     "shell.execute_reply": "2020-10-02T05:22:50.762893Z"
    },
    "papermill": {
     "duration": 0.066076,
     "end_time": "2020-10-02T05:22:50.763655",
     "exception": false,
     "start_time": "2020-10-02T05:22:50.697579",
     "status": "completed"
    },
    "tags": []
   },
   "outputs": [
    {
     "data": {
      "text/plain": [
       "array([ 1.,  0., nan])"
      ]
     },
     "execution_count": 20,
     "metadata": {},
     "output_type": "execute_result"
    }
   ],
   "source": [
    "raw_data['Credit_History'].unique()"
   ]
  },
  {
   "cell_type": "code",
   "execution_count": 21,
   "metadata": {
    "execution": {
     "iopub.execute_input": "2020-10-02T05:22:50.877976Z",
     "iopub.status.busy": "2020-10-02T05:22:50.876083Z",
     "iopub.status.idle": "2020-10-02T05:22:51.061323Z",
     "shell.execute_reply": "2020-10-02T05:22:51.060705Z"
    },
    "papermill": {
     "duration": 0.244658,
     "end_time": "2020-10-02T05:22:51.061453",
     "exception": false,
     "start_time": "2020-10-02T05:22:50.816795",
     "status": "completed"
    },
    "tags": []
   },
   "outputs": [
    {
     "data": {
      "text/plain": [
       "<matplotlib.axes._subplots.AxesSubplot at 0x7f25f424b410>"
      ]
     },
     "execution_count": 21,
     "metadata": {},
     "output_type": "execute_result"
    },
    {
     "data": {
      "image/png": "[encoded data removed]",
      "text/plain": [
       "<Figure size 432x288 with 1 Axes>"
      ]
     },
     "metadata": {
      "needs_background": "light"
     },
     "output_type": "display_data"
    }
   ],
   "source": [
    "sns.countplot('Loan_Status',hue='Credit_History',data=raw_data)"
   ]
  },
  {
   "cell_type": "markdown",
   "metadata": {
    "papermill": {
     "duration": 0.054624,
     "end_time": "2020-10-02T05:22:51.170786",
     "exception": false,
     "start_time": "2020-10-02T05:22:51.116162",
     "status": "completed"
    },
    "tags": []
   },
   "source": [
    "*Again we are going to use mode*"
   ]
  },
  {
   "cell_type": "code",
   "execution_count": 22,
   "metadata": {
    "execution": {
     "iopub.execute_input": "2020-10-02T05:22:51.287490Z",
     "iopub.status.busy": "2020-10-02T05:22:51.286699Z",
     "iopub.status.idle": "2020-10-02T05:22:51.290239Z",
     "shell.execute_reply": "2020-10-02T05:22:51.289523Z"
    },
    "papermill": {
     "duration": 0.065498,
     "end_time": "2020-10-02T05:22:51.290369",
     "exception": false,
     "start_time": "2020-10-02T05:22:51.224871",
     "status": "completed"
    },
    "tags": []
   },
   "outputs": [],
   "source": [
    "raw_data['Credit_History'].fillna(raw_data['Credit_History'].value_counts().idxmax(), inplace=True)"
   ]
  },
  {
   "cell_type": "code",
   "execution_count": 23,
   "metadata": {
    "execution": {
     "iopub.execute_input": "2020-10-02T05:22:51.409700Z",
     "iopub.status.busy": "2020-10-02T05:22:51.408557Z",
     "iopub.status.idle": "2020-10-02T05:22:51.412780Z",
     "shell.execute_reply": "2020-10-02T05:22:51.412165Z"
    },
    "papermill": {
     "duration": 0.067618,
     "end_time": "2020-10-02T05:22:51.412910",
     "exception": false,
     "start_time": "2020-10-02T05:22:51.345292",
     "status": "completed"
    },
    "tags": []
   },
   "outputs": [
    {
     "data": {
      "text/plain": [
       "Loan_ID              0\n",
       "Gender               0\n",
       "Married              0\n",
       "Dependents           0\n",
       "Education            0\n",
       "Self_Employed        0\n",
       "ApplicantIncome      0\n",
       "CoapplicantIncome    0\n",
       "LoanAmount           0\n",
       "Loan_Amount_Term     0\n",
       "Credit_History       0\n",
       "Property_Area        0\n",
       "Loan_Status          0\n",
       "dtype: int64"
      ]
     },
     "execution_count": 23,
     "metadata": {},
     "output_type": "execute_result"
    }
   ],
   "source": [
    "raw_data.isnull().sum()"
   ]
  },
  {
   "cell_type": "code",
   "execution_count": 24,
   "metadata": {
    "execution": {
     "iopub.execute_input": "2020-10-02T05:22:51.546952Z",
     "iopub.status.busy": "2020-10-02T05:22:51.545981Z",
     "iopub.status.idle": "2020-10-02T05:22:51.550975Z",
     "shell.execute_reply": "2020-10-02T05:22:51.550376Z"
    },
    "papermill": {
     "duration": 0.08245,
     "end_time": "2020-10-02T05:22:51.551094",
     "exception": false,
     "start_time": "2020-10-02T05:22:51.468644",
     "status": "completed"
    },
    "tags": []
   },
   "outputs": [
    {
     "data": {
      "text/html": [
       "<div>\n",
       "<style scoped>\n",
       "    .dataframe tbody tr th:only-of-type {\n",
       "        vertical-align: middle;\n",
       "    }\n",
       "\n",
       "    .dataframe tbody tr th {\n",
       "        vertical-align: top;\n",
       "    }\n",
       "\n",
       "    .dataframe thead th {\n",
       "        text-align: right;\n",
       "    }\n",
       "</style>\n",
       "<table border=\"1\" class=\"dataframe\">\n",
       "  <thead>\n",
       "    <tr style=\"text-align: right;\">\n",
       "      <th></th>\n",
       "      <th>Loan_ID</th>\n",
       "      <th>Gender</th>\n",
       "      <th>Married</th>\n",
       "      <th>Dependents</th>\n",
       "      <th>Education</th>\n",
       "      <th>Self_Employed</th>\n",
       "      <th>ApplicantIncome</th>\n",
       "      <th>CoapplicantIncome</th>\n",
       "      <th>LoanAmount</th>\n",
       "      <th>Loan_Amount_Term</th>\n",
       "      <th>Credit_History</th>\n",
       "      <th>Property_Area</th>\n",
       "      <th>Loan_Status</th>\n",
       "    </tr>\n",
       "  </thead>\n",
       "  <tbody>\n",
       "    <tr>\n",
       "      <th>0</th>\n",
       "      <td>LP001002</td>\n",
       "      <td>Male</td>\n",
       "      <td>No</td>\n",
       "      <td>0</td>\n",
       "      <td>Graduate</td>\n",
       "      <td>No</td>\n",
       "      <td>5849</td>\n",
       "      <td>0.0</td>\n",
       "      <td>137.186851</td>\n",
       "      <td>360.0</td>\n",
       "      <td>1.0</td>\n",
       "      <td>Urban</td>\n",
       "      <td>Y</td>\n",
       "    </tr>\n",
       "    <tr>\n",
       "      <th>1</th>\n",
       "      <td>LP001003</td>\n",
       "      <td>Male</td>\n",
       "      <td>Yes</td>\n",
       "      <td>1</td>\n",
       "      <td>Graduate</td>\n",
       "      <td>No</td>\n",
       "      <td>4583</td>\n",
       "      <td>1508.0</td>\n",
       "      <td>128.000000</td>\n",
       "      <td>360.0</td>\n",
       "      <td>1.0</td>\n",
       "      <td>Rural</td>\n",
       "      <td>N</td>\n",
       "    </tr>\n",
       "    <tr>\n",
       "      <th>2</th>\n",
       "      <td>LP001005</td>\n",
       "      <td>Male</td>\n",
       "      <td>Yes</td>\n",
       "      <td>0</td>\n",
       "      <td>Graduate</td>\n",
       "      <td>Yes</td>\n",
       "      <td>3000</td>\n",
       "      <td>0.0</td>\n",
       "      <td>66.000000</td>\n",
       "      <td>360.0</td>\n",
       "      <td>1.0</td>\n",
       "      <td>Urban</td>\n",
       "      <td>Y</td>\n",
       "    </tr>\n",
       "    <tr>\n",
       "      <th>3</th>\n",
       "      <td>LP001006</td>\n",
       "      <td>Male</td>\n",
       "      <td>Yes</td>\n",
       "      <td>0</td>\n",
       "      <td>Not Graduate</td>\n",
       "      <td>No</td>\n",
       "      <td>2583</td>\n",
       "      <td>2358.0</td>\n",
       "      <td>120.000000</td>\n",
       "      <td>360.0</td>\n",
       "      <td>1.0</td>\n",
       "      <td>Urban</td>\n",
       "      <td>Y</td>\n",
       "    </tr>\n",
       "    <tr>\n",
       "      <th>4</th>\n",
       "      <td>LP001008</td>\n",
       "      <td>Male</td>\n",
       "      <td>No</td>\n",
       "      <td>0</td>\n",
       "      <td>Graduate</td>\n",
       "      <td>No</td>\n",
       "      <td>6000</td>\n",
       "      <td>0.0</td>\n",
       "      <td>141.000000</td>\n",
       "      <td>360.0</td>\n",
       "      <td>1.0</td>\n",
       "      <td>Urban</td>\n",
       "      <td>Y</td>\n",
       "    </tr>\n",
       "  </tbody>\n",
       "</table>\n",
       "</div>"
      ],
      "text/plain": [
       "    Loan_ID Gender Married Dependents     Education Self_Employed  \\\n",
       "0  LP001002   Male      No          0      Graduate            No   \n",
       "1  LP001003   Male     Yes          1      Graduate            No   \n",
       "2  LP001005   Male     Yes          0      Graduate           Yes   \n",
       "3  LP001006   Male     Yes          0  Not Graduate            No   \n",
       "4  LP001008   Male      No          0      Graduate            No   \n",
       "\n",
       "   ApplicantIncome  CoapplicantIncome  LoanAmount  Loan_Amount_Term  \\\n",
       "0             5849                0.0  137.186851             360.0   \n",
       "1             4583             1508.0  128.000000             360.0   \n",
       "2             3000                0.0   66.000000             360.0   \n",
       "3             2583             2358.0  120.000000             360.0   \n",
       "4             6000                0.0  141.000000             360.0   \n",
       "\n",
       "   Credit_History Property_Area Loan_Status  \n",
       "0             1.0         Urban           Y  \n",
       "1             1.0         Rural           N  \n",
       "2             1.0         Urban           Y  \n",
       "3             1.0         Urban           Y  \n",
       "4             1.0         Urban           Y  "
      ]
     },
     "execution_count": 24,
     "metadata": {},
     "output_type": "execute_result"
    }
   ],
   "source": [
    "raw_data.head()\n"
   ]
  },
  {
   "cell_type": "markdown",
   "metadata": {
    "papermill": {
     "duration": 0.056012,
     "end_time": "2020-10-02T05:22:51.663934",
     "exception": false,
     "start_time": "2020-10-02T05:22:51.607922",
     "status": "completed"
    },
    "tags": []
   },
   "source": [
    "# Part 2\n",
    "We are first going to one hot encode every Categorcial data then we are going to deploy it in our model"
   ]
  },
  {
   "cell_type": "code",
   "execution_count": 25,
   "metadata": {
    "execution": {
     "iopub.execute_input": "2020-10-02T05:22:51.782108Z",
     "iopub.status.busy": "2020-10-02T05:22:51.781391Z",
     "iopub.status.idle": "2020-10-02T05:22:51.858033Z",
     "shell.execute_reply": "2020-10-02T05:22:51.858632Z"
    },
    "papermill": {
     "duration": 0.138685,
     "end_time": "2020-10-02T05:22:51.858808",
     "exception": false,
     "start_time": "2020-10-02T05:22:51.720123",
     "status": "completed"
    },
    "tags": []
   },
   "outputs": [],
   "source": [
    "from sklearn.preprocessing import LabelEncoder\n",
    "lb = LabelEncoder()\n",
    "df = raw_data.copy()"
   ]
  },
  {
   "cell_type": "markdown",
   "metadata": {
    "papermill": {
     "duration": 0.055886,
     "end_time": "2020-10-02T05:22:51.971151",
     "exception": false,
     "start_time": "2020-10-02T05:22:51.915265",
     "status": "completed"
    },
    "tags": []
   },
   "source": [
    "Let us check if the category doesnt contain any duplicates such as yes, YES ..."
   ]
  },
  {
   "cell_type": "code",
   "execution_count": 26,
   "metadata": {
    "execution": {
     "iopub.execute_input": "2020-10-02T05:22:52.093223Z",
     "iopub.status.busy": "2020-10-02T05:22:52.092459Z",
     "iopub.status.idle": "2020-10-02T05:22:52.099073Z",
     "shell.execute_reply": "2020-10-02T05:22:52.098478Z"
    },
    "papermill": {
     "duration": 0.071541,
     "end_time": "2020-10-02T05:22:52.099195",
     "exception": false,
     "start_time": "2020-10-02T05:22:52.027654",
     "status": "completed"
    },
    "tags": []
   },
   "outputs": [
    {
     "name": "stdout",
     "output_type": "stream",
     "text": [
      "['Male' 'Female']\n",
      "['No' 'Yes']\n",
      "['Graduate' 'Not Graduate']\n",
      "['No' 'Yes']\n",
      "['Urban' 'Rural' 'Semiurban']\n"
     ]
    }
   ],
   "source": [
    "print(df['Gender'].unique())\n",
    "print(df['Married'].unique())\n",
    "print(df['Education'].unique())\n",
    "print(df['Self_Employed'].unique())\n",
    "print(df['Property_Area'].unique())"
   ]
  },
  {
   "cell_type": "code",
   "execution_count": 27,
   "metadata": {
    "execution": {
     "iopub.execute_input": "2020-10-02T05:22:52.228121Z",
     "iopub.status.busy": "2020-10-02T05:22:52.227351Z",
     "iopub.status.idle": "2020-10-02T05:22:52.230275Z",
     "shell.execute_reply": "2020-10-02T05:22:52.230801Z"
    },
    "papermill": {
     "duration": 0.075045,
     "end_time": "2020-10-02T05:22:52.230979",
     "exception": false,
     "start_time": "2020-10-02T05:22:52.155934",
     "status": "completed"
    },
    "tags": []
   },
   "outputs": [],
   "source": [
    "df['Gender'] = lb.fit_transform(df['Gender'])\n",
    "df['Married'] = lb.fit_transform(df['Married'])\n",
    "df['Education'] = lb.fit_transform(df['Education'])\n",
    "df['Self_Employed'] = lb.fit_transform(df['Self_Employed'])\n",
    "df['Property_Area'] = lb.fit_transform(df['Property_Area'])\n",
    "df['Loan_Status'] = lb.fit_transform(df['Loan_Status'])\n",
    "df['Dependents'] = lb.fit_transform(df['Dependents'])"
   ]
  },
  {
   "cell_type": "markdown",
   "metadata": {
    "papermill": {
     "duration": 0.05711,
     "end_time": "2020-10-02T05:22:52.345590",
     "exception": false,
     "start_time": "2020-10-02T05:22:52.288480",
     "status": "completed"
    },
    "tags": []
   },
   "source": [
    "Lets see our result"
   ]
  },
  {
   "cell_type": "code",
   "execution_count": 28,
   "metadata": {
    "execution": {
     "iopub.execute_input": "2020-10-02T05:22:52.470456Z",
     "iopub.status.busy": "2020-10-02T05:22:52.468523Z",
     "iopub.status.idle": "2020-10-02T05:22:52.476020Z",
     "shell.execute_reply": "2020-10-02T05:22:52.475101Z"
    },
    "papermill": {
     "duration": 0.073299,
     "end_time": "2020-10-02T05:22:52.476191",
     "exception": false,
     "start_time": "2020-10-02T05:22:52.402892",
     "status": "completed"
    },
    "tags": []
   },
   "outputs": [
    {
     "name": "stdout",
     "output_type": "stream",
     "text": [
      "[1 0]\n",
      "[0 1]\n",
      "[0 1]\n",
      "[0 1]\n",
      "[2 0 1]\n",
      "[1 0]\n",
      "[0 1 2 3]\n"
     ]
    }
   ],
   "source": [
    "print(df['Gender'].unique())\n",
    "print(df['Married'].unique())\n",
    "print(df['Education'].unique())\n",
    "print(df['Self_Employed'].unique())\n",
    "print(df['Property_Area'].unique())\n",
    "print(df['Loan_Status'].unique())\n",
    "print(df['Dependents'].unique())"
   ]
  },
  {
   "cell_type": "code",
   "execution_count": 29,
   "metadata": {
    "execution": {
     "iopub.execute_input": "2020-10-02T05:22:52.611613Z",
     "iopub.status.busy": "2020-10-02T05:22:52.610734Z",
     "iopub.status.idle": "2020-10-02T05:22:52.616586Z",
     "shell.execute_reply": "2020-10-02T05:22:52.615961Z"
    },
    "papermill": {
     "duration": 0.082023,
     "end_time": "2020-10-02T05:22:52.616708",
     "exception": false,
     "start_time": "2020-10-02T05:22:52.534685",
     "status": "completed"
    },
    "tags": []
   },
   "outputs": [
    {
     "data": {
      "text/html": [
       "<div>\n",
       "<style scoped>\n",
       "    .dataframe tbody tr th:only-of-type {\n",
       "        vertical-align: middle;\n",
       "    }\n",
       "\n",
       "    .dataframe tbody tr th {\n",
       "        vertical-align: top;\n",
       "    }\n",
       "\n",
       "    .dataframe thead th {\n",
       "        text-align: right;\n",
       "    }\n",
       "</style>\n",
       "<table border=\"1\" class=\"dataframe\">\n",
       "  <thead>\n",
       "    <tr style=\"text-align: right;\">\n",
       "      <th></th>\n",
       "      <th>Loan_ID</th>\n",
       "      <th>Gender</th>\n",
       "      <th>Married</th>\n",
       "      <th>Dependents</th>\n",
       "      <th>Education</th>\n",
       "      <th>Self_Employed</th>\n",
       "      <th>ApplicantIncome</th>\n",
       "      <th>CoapplicantIncome</th>\n",
       "      <th>LoanAmount</th>\n",
       "      <th>Loan_Amount_Term</th>\n",
       "      <th>Credit_History</th>\n",
       "      <th>Property_Area</th>\n",
       "      <th>Loan_Status</th>\n",
       "    </tr>\n",
       "  </thead>\n",
       "  <tbody>\n",
       "    <tr>\n",
       "      <th>0</th>\n",
       "      <td>LP001002</td>\n",
       "      <td>1</td>\n",
       "      <td>0</td>\n",
       "      <td>0</td>\n",
       "      <td>0</td>\n",
       "      <td>0</td>\n",
       "      <td>5849</td>\n",
       "      <td>0.0</td>\n",
       "      <td>137.186851</td>\n",
       "      <td>360.0</td>\n",
       "      <td>1.0</td>\n",
       "      <td>2</td>\n",
       "      <td>1</td>\n",
       "    </tr>\n",
       "    <tr>\n",
       "      <th>1</th>\n",
       "      <td>LP001003</td>\n",
       "      <td>1</td>\n",
       "      <td>1</td>\n",
       "      <td>1</td>\n",
       "      <td>0</td>\n",
       "      <td>0</td>\n",
       "      <td>4583</td>\n",
       "      <td>1508.0</td>\n",
       "      <td>128.000000</td>\n",
       "      <td>360.0</td>\n",
       "      <td>1.0</td>\n",
       "      <td>0</td>\n",
       "      <td>0</td>\n",
       "    </tr>\n",
       "    <tr>\n",
       "      <th>2</th>\n",
       "      <td>LP001005</td>\n",
       "      <td>1</td>\n",
       "      <td>1</td>\n",
       "      <td>0</td>\n",
       "      <td>0</td>\n",
       "      <td>1</td>\n",
       "      <td>3000</td>\n",
       "      <td>0.0</td>\n",
       "      <td>66.000000</td>\n",
       "      <td>360.0</td>\n",
       "      <td>1.0</td>\n",
       "      <td>2</td>\n",
       "      <td>1</td>\n",
       "    </tr>\n",
       "    <tr>\n",
       "      <th>3</th>\n",
       "      <td>LP001006</td>\n",
       "      <td>1</td>\n",
       "      <td>1</td>\n",
       "      <td>0</td>\n",
       "      <td>1</td>\n",
       "      <td>0</td>\n",
       "      <td>2583</td>\n",
       "      <td>2358.0</td>\n",
       "      <td>120.000000</td>\n",
       "      <td>360.0</td>\n",
       "      <td>1.0</td>\n",
       "      <td>2</td>\n",
       "      <td>1</td>\n",
       "    </tr>\n",
       "    <tr>\n",
       "      <th>4</th>\n",
       "      <td>LP001008</td>\n",
       "      <td>1</td>\n",
       "      <td>0</td>\n",
       "      <td>0</td>\n",
       "      <td>0</td>\n",
       "      <td>0</td>\n",
       "      <td>6000</td>\n",
       "      <td>0.0</td>\n",
       "      <td>141.000000</td>\n",
       "      <td>360.0</td>\n",
       "      <td>1.0</td>\n",
       "      <td>2</td>\n",
       "      <td>1</td>\n",
       "    </tr>\n",
       "  </tbody>\n",
       "</table>\n",
       "</div>"
      ],
      "text/plain": [
       "    Loan_ID  Gender  Married  Dependents  Education  Self_Employed  \\\n",
       "0  LP001002       1        0           0          0              0   \n",
       "1  LP001003       1        1           1          0              0   \n",
       "2  LP001005       1        1           0          0              1   \n",
       "3  LP001006       1        1           0          1              0   \n",
       "4  LP001008       1        0           0          0              0   \n",
       "\n",
       "   ApplicantIncome  CoapplicantIncome  LoanAmount  Loan_Amount_Term  \\\n",
       "0             5849                0.0  137.186851             360.0   \n",
       "1             4583             1508.0  128.000000             360.0   \n",
       "2             3000                0.0   66.000000             360.0   \n",
       "3             2583             2358.0  120.000000             360.0   \n",
       "4             6000                0.0  141.000000             360.0   \n",
       "\n",
       "   Credit_History  Property_Area  Loan_Status  \n",
       "0             1.0              2            1  \n",
       "1             1.0              0            0  \n",
       "2             1.0              2            1  \n",
       "3             1.0              2            1  \n",
       "4             1.0              2            1  "
      ]
     },
     "execution_count": 29,
     "metadata": {},
     "output_type": "execute_result"
    }
   ],
   "source": [
    "df.head()"
   ]
  },
  {
   "cell_type": "markdown",
   "metadata": {
    "papermill": {
     "duration": 0.058281,
     "end_time": "2020-10-02T05:22:52.733320",
     "exception": false,
     "start_time": "2020-10-02T05:22:52.675039",
     "status": "completed"
    },
    "tags": []
   },
   "source": [
    "# Part 3\n",
    "Deploying it in the model"
   ]
  },
  {
   "cell_type": "code",
   "execution_count": 30,
   "metadata": {
    "execution": {
     "iopub.execute_input": "2020-10-02T05:22:52.856609Z",
     "iopub.status.busy": "2020-10-02T05:22:52.855704Z",
     "iopub.status.idle": "2020-10-02T05:22:52.860409Z",
     "shell.execute_reply": "2020-10-02T05:22:52.859771Z"
    },
    "papermill": {
     "duration": 0.068958,
     "end_time": "2020-10-02T05:22:52.860539",
     "exception": false,
     "start_time": "2020-10-02T05:22:52.791581",
     "status": "completed"
    },
    "tags": []
   },
   "outputs": [
    {
     "data": {
      "text/plain": [
       "Index(['Loan_ID', 'Gender', 'Married', 'Dependents', 'Education',\n",
       "       'Self_Employed', 'ApplicantIncome', 'CoapplicantIncome', 'LoanAmount',\n",
       "       'Loan_Amount_Term', 'Credit_History', 'Property_Area', 'Loan_Status'],\n",
       "      dtype='object')"
      ]
     },
     "execution_count": 30,
     "metadata": {},
     "output_type": "execute_result"
    }
   ],
   "source": [
    "df.columns"
   ]
  },
  {
   "cell_type": "code",
   "execution_count": 31,
   "metadata": {
    "execution": {
     "iopub.execute_input": "2020-10-02T05:22:52.985519Z",
     "iopub.status.busy": "2020-10-02T05:22:52.984625Z",
     "iopub.status.idle": "2020-10-02T05:22:53.054163Z",
     "shell.execute_reply": "2020-10-02T05:22:53.054741Z"
    },
    "papermill": {
     "duration": 0.135151,
     "end_time": "2020-10-02T05:22:53.054913",
     "exception": false,
     "start_time": "2020-10-02T05:22:52.919762",
     "status": "completed"
    },
    "tags": []
   },
   "outputs": [],
   "source": [
    "from sklearn.preprocessing import StandardScaler\n",
    "from sklearn.model_selection import train_test_split\n",
    "std = StandardScaler()"
   ]
  },
  {
   "cell_type": "code",
   "execution_count": 32,
   "metadata": {
    "execution": {
     "iopub.execute_input": "2020-10-02T05:22:53.184785Z",
     "iopub.status.busy": "2020-10-02T05:22:53.180964Z",
     "iopub.status.idle": "2020-10-02T05:22:53.194685Z",
     "shell.execute_reply": "2020-10-02T05:22:53.194013Z"
    },
    "papermill": {
     "duration": 0.08055,
     "end_time": "2020-10-02T05:22:53.194826",
     "exception": false,
     "start_time": "2020-10-02T05:22:53.114276",
     "status": "completed"
    },
    "tags": []
   },
   "outputs": [],
   "source": [
    "unscaled_features = df[['ApplicantIncome','CoapplicantIncome','LoanAmount','Loan_Amount_Term']]\n",
    "scaled_features = std.fit_transform(unscaled_features)\n",
    "df[['ApplicantIncome','CoapplicantIncome','LoanAmount','Loan_Amount_Term']] = scaled_features"
   ]
  },
  {
   "cell_type": "code",
   "execution_count": 33,
   "metadata": {
    "execution": {
     "iopub.execute_input": "2020-10-02T05:22:53.333657Z",
     "iopub.status.busy": "2020-10-02T05:22:53.332822Z",
     "iopub.status.idle": "2020-10-02T05:22:53.339044Z",
     "shell.execute_reply": "2020-10-02T05:22:53.338174Z"
    },
    "papermill": {
     "duration": 0.084631,
     "end_time": "2020-10-02T05:22:53.339176",
     "exception": false,
     "start_time": "2020-10-02T05:22:53.254545",
     "status": "completed"
    },
    "tags": []
   },
   "outputs": [
    {
     "data": {
      "text/html": [
       "<div>\n",
       "<style scoped>\n",
       "    .dataframe tbody tr th:only-of-type {\n",
       "        vertical-align: middle;\n",
       "    }\n",
       "\n",
       "    .dataframe tbody tr th {\n",
       "        vertical-align: top;\n",
       "    }\n",
       "\n",
       "    .dataframe thead th {\n",
       "        text-align: right;\n",
       "    }\n",
       "</style>\n",
       "<table border=\"1\" class=\"dataframe\">\n",
       "  <thead>\n",
       "    <tr style=\"text-align: right;\">\n",
       "      <th></th>\n",
       "      <th>Loan_ID</th>\n",
       "      <th>Gender</th>\n",
       "      <th>Married</th>\n",
       "      <th>Dependents</th>\n",
       "      <th>Education</th>\n",
       "      <th>Self_Employed</th>\n",
       "      <th>ApplicantIncome</th>\n",
       "      <th>CoapplicantIncome</th>\n",
       "      <th>LoanAmount</th>\n",
       "      <th>Loan_Amount_Term</th>\n",
       "      <th>Credit_History</th>\n",
       "      <th>Property_Area</th>\n",
       "      <th>Loan_Status</th>\n",
       "    </tr>\n",
       "  </thead>\n",
       "  <tbody>\n",
       "    <tr>\n",
       "      <th>0</th>\n",
       "      <td>LP001002</td>\n",
       "      <td>1</td>\n",
       "      <td>0</td>\n",
       "      <td>0</td>\n",
       "      <td>0</td>\n",
       "      <td>0</td>\n",
       "      <td>0.072991</td>\n",
       "      <td>-0.554487</td>\n",
       "      <td>-0.105907</td>\n",
       "      <td>0.273231</td>\n",
       "      <td>1.0</td>\n",
       "      <td>2</td>\n",
       "      <td>1</td>\n",
       "    </tr>\n",
       "    <tr>\n",
       "      <th>1</th>\n",
       "      <td>LP001003</td>\n",
       "      <td>1</td>\n",
       "      <td>1</td>\n",
       "      <td>1</td>\n",
       "      <td>0</td>\n",
       "      <td>0</td>\n",
       "      <td>-0.134412</td>\n",
       "      <td>-0.038732</td>\n",
       "      <td>-0.215292</td>\n",
       "      <td>0.273231</td>\n",
       "      <td>1.0</td>\n",
       "      <td>0</td>\n",
       "      <td>0</td>\n",
       "    </tr>\n",
       "    <tr>\n",
       "      <th>2</th>\n",
       "      <td>LP001005</td>\n",
       "      <td>1</td>\n",
       "      <td>1</td>\n",
       "      <td>0</td>\n",
       "      <td>0</td>\n",
       "      <td>1</td>\n",
       "      <td>-0.393747</td>\n",
       "      <td>-0.554487</td>\n",
       "      <td>-0.953506</td>\n",
       "      <td>0.273231</td>\n",
       "      <td>1.0</td>\n",
       "      <td>2</td>\n",
       "      <td>1</td>\n",
       "    </tr>\n",
       "    <tr>\n",
       "      <th>3</th>\n",
       "      <td>LP001006</td>\n",
       "      <td>1</td>\n",
       "      <td>1</td>\n",
       "      <td>0</td>\n",
       "      <td>1</td>\n",
       "      <td>0</td>\n",
       "      <td>-0.462062</td>\n",
       "      <td>0.251980</td>\n",
       "      <td>-0.310545</td>\n",
       "      <td>0.273231</td>\n",
       "      <td>1.0</td>\n",
       "      <td>2</td>\n",
       "      <td>1</td>\n",
       "    </tr>\n",
       "    <tr>\n",
       "      <th>4</th>\n",
       "      <td>LP001008</td>\n",
       "      <td>1</td>\n",
       "      <td>0</td>\n",
       "      <td>0</td>\n",
       "      <td>0</td>\n",
       "      <td>0</td>\n",
       "      <td>0.097728</td>\n",
       "      <td>-0.554487</td>\n",
       "      <td>-0.060505</td>\n",
       "      <td>0.273231</td>\n",
       "      <td>1.0</td>\n",
       "      <td>2</td>\n",
       "      <td>1</td>\n",
       "    </tr>\n",
       "  </tbody>\n",
       "</table>\n",
       "</div>"
      ],
      "text/plain": [
       "    Loan_ID  Gender  Married  Dependents  Education  Self_Employed  \\\n",
       "0  LP001002       1        0           0          0              0   \n",
       "1  LP001003       1        1           1          0              0   \n",
       "2  LP001005       1        1           0          0              1   \n",
       "3  LP001006       1        1           0          1              0   \n",
       "4  LP001008       1        0           0          0              0   \n",
       "\n",
       "   ApplicantIncome  CoapplicantIncome  LoanAmount  Loan_Amount_Term  \\\n",
       "0         0.072991          -0.554487   -0.105907          0.273231   \n",
       "1        -0.134412          -0.038732   -0.215292          0.273231   \n",
       "2        -0.393747          -0.554487   -0.953506          0.273231   \n",
       "3        -0.462062           0.251980   -0.310545          0.273231   \n",
       "4         0.097728          -0.554487   -0.060505          0.273231   \n",
       "\n",
       "   Credit_History  Property_Area  Loan_Status  \n",
       "0             1.0              2            1  \n",
       "1             1.0              0            0  \n",
       "2             1.0              2            1  \n",
       "3             1.0              2            1  \n",
       "4             1.0              2            1  "
      ]
     },
     "execution_count": 33,
     "metadata": {},
     "output_type": "execute_result"
    }
   ],
   "source": [
    "df.head()"
   ]
  },
  {
   "cell_type": "code",
   "execution_count": 34,
   "metadata": {
    "execution": {
     "iopub.execute_input": "2020-10-02T05:22:53.475715Z",
     "iopub.status.busy": "2020-10-02T05:22:53.474717Z",
     "iopub.status.idle": "2020-10-02T05:22:53.477919Z",
     "shell.execute_reply": "2020-10-02T05:22:53.477191Z"
    },
    "papermill": {
     "duration": 0.071512,
     "end_time": "2020-10-02T05:22:53.478047",
     "exception": false,
     "start_time": "2020-10-02T05:22:53.406535",
     "status": "completed"
    },
    "tags": []
   },
   "outputs": [],
   "source": [
    "X = df.drop(['Loan_ID','Loan_Status'],axis=1)\n",
    "y = df['Loan_Status']"
   ]
  },
  {
   "cell_type": "code",
   "execution_count": 35,
   "metadata": {
    "execution": {
     "iopub.execute_input": "2020-10-02T05:22:53.607812Z",
     "iopub.status.busy": "2020-10-02T05:22:53.605529Z",
     "iopub.status.idle": "2020-10-02T05:22:53.612241Z",
     "shell.execute_reply": "2020-10-02T05:22:53.611510Z"
    },
    "papermill": {
     "duration": 0.073661,
     "end_time": "2020-10-02T05:22:53.612379",
     "exception": false,
     "start_time": "2020-10-02T05:22:53.538718",
     "status": "completed"
    },
    "tags": []
   },
   "outputs": [],
   "source": [
    "X_train,X_test,y_train,y_test = train_test_split(X,y,test_size=0.2,random_state=42)"
   ]
  },
  {
   "cell_type": "code",
   "execution_count": 36,
   "metadata": {
    "execution": {
     "iopub.execute_input": "2020-10-02T05:22:53.742570Z",
     "iopub.status.busy": "2020-10-02T05:22:53.741752Z",
     "iopub.status.idle": "2020-10-02T05:22:53.885398Z",
     "shell.execute_reply": "2020-10-02T05:22:53.884599Z"
    },
    "papermill": {
     "duration": 0.212057,
     "end_time": "2020-10-02T05:22:53.885545",
     "exception": false,
     "start_time": "2020-10-02T05:22:53.673488",
     "status": "completed"
    },
    "tags": []
   },
   "outputs": [
    {
     "name": "stdout",
     "output_type": "stream",
     "text": [
      "              precision    recall  f1-score   support\n",
      "\n",
      "           0       0.95      0.42      0.58        43\n",
      "           1       0.76      0.99      0.86        80\n",
      "\n",
      "    accuracy                           0.79       123\n",
      "   macro avg       0.85      0.70      0.72       123\n",
      "weighted avg       0.83      0.79      0.76       123\n",
      "\n"
     ]
    }
   ],
   "source": [
    "from sklearn.linear_model import LogisticRegression\n",
    "from sklearn.metrics import classification_report\n",
    "lgt = LogisticRegression()\n",
    "lgt.fit(X_train,y_train)\n",
    "predict = lgt.predict(X_test)\n",
    "print(classification_report(y_test,predict))"
   ]
  },
  {
   "cell_type": "markdown",
   "metadata": {
    "papermill": {
     "duration": 0.062395,
     "end_time": "2020-10-02T05:22:54.011793",
     "exception": false,
     "start_time": "2020-10-02T05:22:53.949398",
     "status": "completed"
    },
    "tags": []
   },
   "source": [
    "**Hence from Logistic regression we get an accuracy of about 79%**<br>\n",
    "Just as starting our Logisitic Regression performed well."
   ]
  },
  {
   "cell_type": "code",
   "execution_count": 37,
   "metadata": {
    "execution": {
     "iopub.execute_input": "2020-10-02T05:22:54.142403Z",
     "iopub.status.busy": "2020-10-02T05:22:54.141648Z",
     "iopub.status.idle": "2020-10-02T05:22:55.128226Z",
     "shell.execute_reply": "2020-10-02T05:22:55.128973Z"
    },
    "papermill": {
     "duration": 1.054423,
     "end_time": "2020-10-02T05:22:55.129185",
     "exception": false,
     "start_time": "2020-10-02T05:22:54.074762",
     "status": "completed"
    },
    "tags": []
   },
   "outputs": [
    {
     "data": {
      "text/plain": [
       "0.7560975609756098"
      ]
     },
     "execution_count": 37,
     "metadata": {},
     "output_type": "execute_result"
    }
   ],
   "source": [
    "#Using Xgboost Classifier\n",
    "import xgboost as xgb\n",
    "xgb = xgb.XGBClassifier()\n",
    "xgb.fit(X_train,y_train)\n",
    "xgb.score(X_test,y_test)\n"
   ]
  },
  {
   "cell_type": "code",
   "execution_count": 38,
   "metadata": {
    "collapsed": true,
    "execution": {
     "iopub.execute_input": "2020-10-02T05:22:55.288378Z",
     "iopub.status.busy": "2020-10-02T05:22:55.287478Z",
     "iopub.status.idle": "2020-10-02T05:22:57.089141Z",
     "shell.execute_reply": "2020-10-02T05:22:57.088563Z"
    },
    "papermill": {
     "duration": 1.884377,
     "end_time": "2020-10-02T05:22:57.089285",
     "exception": false,
     "start_time": "2020-10-02T05:22:55.204908",
     "status": "completed"
    },
    "tags": []
   },
   "outputs": [
    {
     "name": "stdout",
     "output_type": "stream",
     "text": [
      "Learning rate set to 0.007604\n",
      "0:\tlearn: 0.6887156\ttotal: 55.5ms\tremaining: 55.5s\n",
      "1:\tlearn: 0.6847965\ttotal: 57ms\tremaining: 28.4s\n",
      "2:\tlearn: 0.6808197\ttotal: 58.4ms\tremaining: 19.4s\n",
      "3:\tlearn: 0.6768659\ttotal: 59.7ms\tremaining: 14.9s\n",
      "4:\tlearn: 0.6729268\ttotal: 61ms\tremaining: 12.1s\n",
      "5:\tlearn: 0.6689282\ttotal: 62.3ms\tremaining: 10.3s\n",
      "6:\tlearn: 0.6654062\ttotal: 63.6ms\tremaining: 9.02s\n",
      "7:\tlearn: 0.6617264\ttotal: 65ms\tremaining: 8.06s\n",
      "8:\tlearn: 0.6579965\ttotal: 66.4ms\tremaining: 7.31s\n",
      "9:\tlearn: 0.6541766\ttotal: 67.7ms\tremaining: 6.7s\n",
      "10:\tlearn: 0.6505755\ttotal: 69ms\tremaining: 6.2s\n",
      "11:\tlearn: 0.6466971\ttotal: 70.3ms\tremaining: 5.79s\n",
      "12:\tlearn: 0.6431026\ttotal: 71.5ms\tremaining: 5.43s\n",
      "13:\tlearn: 0.6401120\ttotal: 72.4ms\tremaining: 5.1s\n",
      "14:\tlearn: 0.6366397\ttotal: 73.7ms\tremaining: 4.84s\n",
      "15:\tlearn: 0.6331824\ttotal: 75.3ms\tremaining: 4.63s\n",
      "16:\tlearn: 0.6303169\ttotal: 76.8ms\tremaining: 4.44s\n",
      "17:\tlearn: 0.6265488\ttotal: 78.1ms\tremaining: 4.26s\n",
      "18:\tlearn: 0.6235162\ttotal: 79.4ms\tremaining: 4.1s\n",
      "19:\tlearn: 0.6203669\ttotal: 80.7ms\tremaining: 3.96s\n",
      "20:\tlearn: 0.6177426\ttotal: 81.4ms\tremaining: 3.79s\n",
      "21:\tlearn: 0.6149912\ttotal: 82.2ms\tremaining: 3.65s\n",
      "22:\tlearn: 0.6124047\ttotal: 83.4ms\tremaining: 3.54s\n",
      "23:\tlearn: 0.6094731\ttotal: 84.7ms\tremaining: 3.44s\n",
      "24:\tlearn: 0.6068346\ttotal: 86ms\tremaining: 3.35s\n",
      "25:\tlearn: 0.6037564\ttotal: 87.3ms\tremaining: 3.27s\n",
      "26:\tlearn: 0.6013098\ttotal: 88ms\tremaining: 3.17s\n",
      "27:\tlearn: 0.5985802\ttotal: 89.3ms\tremaining: 3.1s\n",
      "28:\tlearn: 0.5959866\ttotal: 90.6ms\tremaining: 3.03s\n",
      "29:\tlearn: 0.5936207\ttotal: 91.4ms\tremaining: 2.96s\n",
      "30:\tlearn: 0.5906200\ttotal: 92.6ms\tremaining: 2.9s\n",
      "31:\tlearn: 0.5877721\ttotal: 94ms\tremaining: 2.84s\n",
      "32:\tlearn: 0.5854769\ttotal: 95.2ms\tremaining: 2.79s\n",
      "33:\tlearn: 0.5827951\ttotal: 96.5ms\tremaining: 2.74s\n",
      "34:\tlearn: 0.5803624\ttotal: 97.8ms\tremaining: 2.7s\n",
      "35:\tlearn: 0.5782228\ttotal: 98.8ms\tremaining: 2.65s\n",
      "36:\tlearn: 0.5756275\ttotal: 100ms\tremaining: 2.61s\n",
      "37:\tlearn: 0.5736716\ttotal: 101ms\tremaining: 2.55s\n",
      "38:\tlearn: 0.5712360\ttotal: 102ms\tremaining: 2.52s\n",
      "39:\tlearn: 0.5683330\ttotal: 103ms\tremaining: 2.48s\n",
      "40:\tlearn: 0.5660186\ttotal: 105ms\tremaining: 2.45s\n",
      "41:\tlearn: 0.5642041\ttotal: 105ms\tremaining: 2.4s\n",
      "42:\tlearn: 0.5619887\ttotal: 107ms\tremaining: 2.37s\n",
      "43:\tlearn: 0.5598316\ttotal: 108ms\tremaining: 2.34s\n",
      "44:\tlearn: 0.5573411\ttotal: 109ms\tremaining: 2.32s\n",
      "45:\tlearn: 0.5554920\ttotal: 111ms\tremaining: 2.29s\n",
      "46:\tlearn: 0.5534568\ttotal: 112ms\tremaining: 2.27s\n",
      "47:\tlearn: 0.5514848\ttotal: 113ms\tremaining: 2.25s\n",
      "48:\tlearn: 0.5498812\ttotal: 114ms\tremaining: 2.21s\n",
      "49:\tlearn: 0.5474120\ttotal: 115ms\tremaining: 2.19s\n",
      "50:\tlearn: 0.5452672\ttotal: 116ms\tremaining: 2.17s\n",
      "51:\tlearn: 0.5437489\ttotal: 117ms\tremaining: 2.13s\n",
      "52:\tlearn: 0.5419165\ttotal: 118ms\tremaining: 2.12s\n",
      "53:\tlearn: 0.5396416\ttotal: 120ms\tremaining: 2.1s\n",
      "54:\tlearn: 0.5373519\ttotal: 121ms\tremaining: 2.08s\n",
      "55:\tlearn: 0.5353326\ttotal: 122ms\tremaining: 2.06s\n",
      "56:\tlearn: 0.5338446\ttotal: 124ms\tremaining: 2.05s\n",
      "57:\tlearn: 0.5319624\ttotal: 125ms\tremaining: 2.03s\n",
      "58:\tlearn: 0.5301895\ttotal: 126ms\tremaining: 2.01s\n",
      "59:\tlearn: 0.5285276\ttotal: 128ms\tremaining: 2s\n",
      "60:\tlearn: 0.5269515\ttotal: 129ms\tremaining: 1.98s\n",
      "61:\tlearn: 0.5253278\ttotal: 130ms\tremaining: 1.97s\n",
      "62:\tlearn: 0.5240045\ttotal: 131ms\tremaining: 1.95s\n",
      "63:\tlearn: 0.5222952\ttotal: 133ms\tremaining: 1.94s\n",
      "64:\tlearn: 0.5204392\ttotal: 134ms\tremaining: 1.93s\n",
      "65:\tlearn: 0.5186510\ttotal: 135ms\tremaining: 1.91s\n",
      "66:\tlearn: 0.5167342\ttotal: 136ms\tremaining: 1.9s\n",
      "67:\tlearn: 0.5152301\ttotal: 139ms\tremaining: 1.9s\n",
      "68:\tlearn: 0.5140149\ttotal: 139ms\tremaining: 1.88s\n",
      "69:\tlearn: 0.5125065\ttotal: 141ms\tremaining: 1.87s\n",
      "70:\tlearn: 0.5109977\ttotal: 142ms\tremaining: 1.86s\n",
      "71:\tlearn: 0.5097937\ttotal: 144ms\tremaining: 1.85s\n",
      "72:\tlearn: 0.5084709\ttotal: 145ms\tremaining: 1.84s\n",
      "73:\tlearn: 0.5072705\ttotal: 146ms\tremaining: 1.82s\n",
      "74:\tlearn: 0.5058663\ttotal: 147ms\tremaining: 1.81s\n",
      "75:\tlearn: 0.5043886\ttotal: 148ms\tremaining: 1.8s\n",
      "76:\tlearn: 0.5027489\ttotal: 150ms\tremaining: 1.79s\n",
      "77:\tlearn: 0.5012148\ttotal: 151ms\tremaining: 1.78s\n",
      "78:\tlearn: 0.5001094\ttotal: 152ms\tremaining: 1.77s\n",
      "79:\tlearn: 0.4987502\ttotal: 153ms\tremaining: 1.76s\n",
      "80:\tlearn: 0.4976452\ttotal: 154ms\tremaining: 1.75s\n",
      "81:\tlearn: 0.4964846\ttotal: 155ms\tremaining: 1.74s\n",
      "82:\tlearn: 0.4952086\ttotal: 156ms\tremaining: 1.73s\n",
      "83:\tlearn: 0.4943111\ttotal: 157ms\tremaining: 1.71s\n",
      "84:\tlearn: 0.4929487\ttotal: 158ms\tremaining: 1.71s\n",
      "85:\tlearn: 0.4917424\ttotal: 160ms\tremaining: 1.7s\n",
      "86:\tlearn: 0.4905437\ttotal: 161ms\tremaining: 1.69s\n",
      "87:\tlearn: 0.4896409\ttotal: 162ms\tremaining: 1.68s\n",
      "88:\tlearn: 0.4885453\ttotal: 163ms\tremaining: 1.67s\n",
      "89:\tlearn: 0.4870075\ttotal: 164ms\tremaining: 1.66s\n",
      "90:\tlearn: 0.4859049\ttotal: 166ms\tremaining: 1.65s\n",
      "91:\tlearn: 0.4847776\ttotal: 167ms\tremaining: 1.65s\n",
      "92:\tlearn: 0.4838532\ttotal: 168ms\tremaining: 1.64s\n",
      "93:\tlearn: 0.4829384\ttotal: 169ms\tremaining: 1.63s\n",
      "94:\tlearn: 0.4819463\ttotal: 170ms\tremaining: 1.62s\n",
      "95:\tlearn: 0.4808339\ttotal: 172ms\tremaining: 1.61s\n",
      "96:\tlearn: 0.4796252\ttotal: 173ms\tremaining: 1.61s\n",
      "97:\tlearn: 0.4782793\ttotal: 174ms\tremaining: 1.6s\n",
      "98:\tlearn: 0.4774318\ttotal: 175ms\tremaining: 1.59s\n",
      "99:\tlearn: 0.4764271\ttotal: 176ms\tremaining: 1.59s\n",
      "100:\tlearn: 0.4751348\ttotal: 178ms\tremaining: 1.58s\n",
      "101:\tlearn: 0.4737241\ttotal: 179ms\tremaining: 1.57s\n",
      "102:\tlearn: 0.4725228\ttotal: 180ms\tremaining: 1.57s\n",
      "103:\tlearn: 0.4715088\ttotal: 181ms\tremaining: 1.56s\n",
      "104:\tlearn: 0.4704536\ttotal: 183ms\tremaining: 1.56s\n",
      "105:\tlearn: 0.4697557\ttotal: 184ms\tremaining: 1.55s\n",
      "106:\tlearn: 0.4687197\ttotal: 186ms\tremaining: 1.55s\n",
      "107:\tlearn: 0.4679682\ttotal: 187ms\tremaining: 1.55s\n",
      "108:\tlearn: 0.4671866\ttotal: 191ms\tremaining: 1.56s\n",
      "109:\tlearn: 0.4661664\ttotal: 193ms\tremaining: 1.56s\n",
      "110:\tlearn: 0.4655051\ttotal: 195ms\tremaining: 1.56s\n",
      "111:\tlearn: 0.4652537\ttotal: 196ms\tremaining: 1.55s\n",
      "112:\tlearn: 0.4643119\ttotal: 197ms\tremaining: 1.55s\n",
      "113:\tlearn: 0.4634831\ttotal: 199ms\tremaining: 1.55s\n",
      "114:\tlearn: 0.4625233\ttotal: 201ms\tremaining: 1.54s\n",
      "115:\tlearn: 0.4616919\ttotal: 202ms\tremaining: 1.54s\n",
      "116:\tlearn: 0.4607801\ttotal: 204ms\tremaining: 1.54s\n",
      "117:\tlearn: 0.4602315\ttotal: 205ms\tremaining: 1.53s\n",
      "118:\tlearn: 0.4594514\ttotal: 206ms\tremaining: 1.52s\n",
      "119:\tlearn: 0.4586222\ttotal: 208ms\tremaining: 1.52s\n",
      "120:\tlearn: 0.4581482\ttotal: 209ms\tremaining: 1.51s\n",
      "121:\tlearn: 0.4574558\ttotal: 210ms\tremaining: 1.51s\n",
      "122:\tlearn: 0.4568350\ttotal: 212ms\tremaining: 1.51s\n",
      "123:\tlearn: 0.4558999\ttotal: 213ms\tremaining: 1.5s\n",
      "124:\tlearn: 0.4553984\ttotal: 214ms\tremaining: 1.5s\n",
      "125:\tlearn: 0.4548768\ttotal: 215ms\tremaining: 1.49s\n",
      "126:\tlearn: 0.4541009\ttotal: 216ms\tremaining: 1.48s\n",
      "127:\tlearn: 0.4532330\ttotal: 217ms\tremaining: 1.48s\n",
      "128:\tlearn: 0.4527593\ttotal: 219ms\tremaining: 1.48s\n",
      "129:\tlearn: 0.4519550\ttotal: 220ms\tremaining: 1.47s\n",
      "130:\tlearn: 0.4511761\ttotal: 221ms\tremaining: 1.47s\n",
      "131:\tlearn: 0.4505107\ttotal: 222ms\tremaining: 1.46s\n",
      "132:\tlearn: 0.4495495\ttotal: 224ms\tremaining: 1.46s\n",
      "133:\tlearn: 0.4487720\ttotal: 225ms\tremaining: 1.45s\n",
      "134:\tlearn: 0.4478983\ttotal: 226ms\tremaining: 1.45s\n",
      "135:\tlearn: 0.4472503\ttotal: 228ms\tremaining: 1.45s\n",
      "136:\tlearn: 0.4466827\ttotal: 229ms\tremaining: 1.44s\n",
      "137:\tlearn: 0.4459891\ttotal: 230ms\tremaining: 1.44s\n",
      "138:\tlearn: 0.4453401\ttotal: 232ms\tremaining: 1.44s\n",
      "139:\tlearn: 0.4444837\ttotal: 233ms\tremaining: 1.43s\n",
      "140:\tlearn: 0.4437457\ttotal: 234ms\tremaining: 1.43s\n",
      "141:\tlearn: 0.4429350\ttotal: 236ms\tremaining: 1.42s\n",
      "142:\tlearn: 0.4421506\ttotal: 237ms\tremaining: 1.42s\n",
      "143:\tlearn: 0.4413707\ttotal: 239ms\tremaining: 1.42s\n",
      "144:\tlearn: 0.4407713\ttotal: 240ms\tremaining: 1.42s\n",
      "145:\tlearn: 0.4399927\ttotal: 241ms\tremaining: 1.41s\n",
      "146:\tlearn: 0.4394635\ttotal: 243ms\tremaining: 1.41s\n",
      "147:\tlearn: 0.4389014\ttotal: 244ms\tremaining: 1.4s\n",
      "148:\tlearn: 0.4380285\ttotal: 245ms\tremaining: 1.4s\n",
      "149:\tlearn: 0.4373479\ttotal: 247ms\tremaining: 1.4s\n",
      "150:\tlearn: 0.4366765\ttotal: 248ms\tremaining: 1.39s\n",
      "151:\tlearn: 0.4361804\ttotal: 249ms\tremaining: 1.39s\n",
      "152:\tlearn: 0.4354325\ttotal: 250ms\tremaining: 1.39s\n",
      "153:\tlearn: 0.4346566\ttotal: 252ms\tremaining: 1.38s\n",
      "154:\tlearn: 0.4341698\ttotal: 253ms\tremaining: 1.38s\n",
      "155:\tlearn: 0.4332838\ttotal: 254ms\tremaining: 1.38s\n",
      "156:\tlearn: 0.4331612\ttotal: 255ms\tremaining: 1.37s\n",
      "157:\tlearn: 0.4327669\ttotal: 256ms\tremaining: 1.36s\n",
      "158:\tlearn: 0.4322535\ttotal: 258ms\tremaining: 1.36s\n",
      "159:\tlearn: 0.4314021\ttotal: 259ms\tremaining: 1.36s\n",
      "160:\tlearn: 0.4305503\ttotal: 260ms\tremaining: 1.35s\n",
      "161:\tlearn: 0.4300523\ttotal: 261ms\tremaining: 1.35s\n",
      "162:\tlearn: 0.4295324\ttotal: 263ms\tremaining: 1.35s\n",
      "163:\tlearn: 0.4289486\ttotal: 264ms\tremaining: 1.34s\n",
      "164:\tlearn: 0.4286223\ttotal: 265ms\tremaining: 1.34s\n",
      "165:\tlearn: 0.4280281\ttotal: 266ms\tremaining: 1.34s\n",
      "166:\tlearn: 0.4276247\ttotal: 267ms\tremaining: 1.33s\n",
      "167:\tlearn: 0.4268898\ttotal: 269ms\tremaining: 1.33s\n",
      "168:\tlearn: 0.4264416\ttotal: 270ms\tremaining: 1.33s\n",
      "169:\tlearn: 0.4257410\ttotal: 271ms\tremaining: 1.32s\n",
      "170:\tlearn: 0.4252262\ttotal: 273ms\tremaining: 1.32s\n",
      "171:\tlearn: 0.4245382\ttotal: 274ms\tremaining: 1.32s\n",
      "172:\tlearn: 0.4241042\ttotal: 275ms\tremaining: 1.31s\n",
      "173:\tlearn: 0.4237069\ttotal: 276ms\tremaining: 1.31s\n",
      "174:\tlearn: 0.4229422\ttotal: 278ms\tremaining: 1.31s\n",
      "175:\tlearn: 0.4226126\ttotal: 279ms\tremaining: 1.3s\n",
      "176:\tlearn: 0.4219133\ttotal: 280ms\tremaining: 1.3s\n",
      "177:\tlearn: 0.4212422\ttotal: 282ms\tremaining: 1.3s\n",
      "178:\tlearn: 0.4208730\ttotal: 283ms\tremaining: 1.3s\n",
      "179:\tlearn: 0.4204390\ttotal: 284ms\tremaining: 1.29s\n",
      "180:\tlearn: 0.4197922\ttotal: 285ms\tremaining: 1.29s\n",
      "181:\tlearn: 0.4193549\ttotal: 287ms\tremaining: 1.29s\n",
      "182:\tlearn: 0.4188011\ttotal: 288ms\tremaining: 1.29s\n",
      "183:\tlearn: 0.4182602\ttotal: 289ms\tremaining: 1.28s\n",
      "184:\tlearn: 0.4178405\ttotal: 291ms\tremaining: 1.28s\n",
      "185:\tlearn: 0.4173820\ttotal: 292ms\tremaining: 1.28s\n",
      "186:\tlearn: 0.4164701\ttotal: 293ms\tremaining: 1.27s\n",
      "187:\tlearn: 0.4161644\ttotal: 294ms\tremaining: 1.27s\n",
      "188:\tlearn: 0.4155866\ttotal: 296ms\tremaining: 1.27s\n",
      "189:\tlearn: 0.4152909\ttotal: 297ms\tremaining: 1.26s\n",
      "190:\tlearn: 0.4145764\ttotal: 298ms\tremaining: 1.26s\n",
      "191:\tlearn: 0.4137726\ttotal: 299ms\tremaining: 1.26s\n",
      "192:\tlearn: 0.4132259\ttotal: 300ms\tremaining: 1.25s\n",
      "193:\tlearn: 0.4128838\ttotal: 302ms\tremaining: 1.25s\n",
      "194:\tlearn: 0.4125363\ttotal: 303ms\tremaining: 1.25s\n",
      "195:\tlearn: 0.4120911\ttotal: 304ms\tremaining: 1.25s\n",
      "196:\tlearn: 0.4116213\ttotal: 305ms\tremaining: 1.24s\n",
      "197:\tlearn: 0.4112448\ttotal: 307ms\tremaining: 1.24s\n",
      "198:\tlearn: 0.4107311\ttotal: 308ms\tremaining: 1.24s\n",
      "199:\tlearn: 0.4102531\ttotal: 309ms\tremaining: 1.24s\n",
      "200:\tlearn: 0.4096349\ttotal: 311ms\tremaining: 1.23s\n",
      "201:\tlearn: 0.4091671\ttotal: 312ms\tremaining: 1.23s\n",
      "202:\tlearn: 0.4088253\ttotal: 313ms\tremaining: 1.23s\n",
      "203:\tlearn: 0.4083806\ttotal: 314ms\tremaining: 1.23s\n",
      "204:\tlearn: 0.4080352\ttotal: 316ms\tremaining: 1.22s\n",
      "205:\tlearn: 0.4075831\ttotal: 317ms\tremaining: 1.22s\n",
      "206:\tlearn: 0.4071509\ttotal: 318ms\tremaining: 1.22s\n",
      "207:\tlearn: 0.4067942\ttotal: 320ms\tremaining: 1.22s\n",
      "208:\tlearn: 0.4060287\ttotal: 321ms\tremaining: 1.21s\n",
      "209:\tlearn: 0.4055018\ttotal: 322ms\tremaining: 1.21s\n",
      "210:\tlearn: 0.4048054\ttotal: 323ms\tremaining: 1.21s\n",
      "211:\tlearn: 0.4043615\ttotal: 325ms\tremaining: 1.21s\n",
      "212:\tlearn: 0.4040968\ttotal: 326ms\tremaining: 1.2s\n",
      "213:\tlearn: 0.4038667\ttotal: 327ms\tremaining: 1.2s\n",
      "214:\tlearn: 0.4033235\ttotal: 329ms\tremaining: 1.2s\n",
      "215:\tlearn: 0.4028902\ttotal: 330ms\tremaining: 1.2s\n",
      "216:\tlearn: 0.4025035\ttotal: 331ms\tremaining: 1.19s\n",
      "217:\tlearn: 0.4020616\ttotal: 332ms\tremaining: 1.19s\n",
      "218:\tlearn: 0.4017304\ttotal: 334ms\tremaining: 1.19s\n",
      "219:\tlearn: 0.4013695\ttotal: 335ms\tremaining: 1.19s\n",
      "220:\tlearn: 0.4008805\ttotal: 336ms\tremaining: 1.18s\n",
      "221:\tlearn: 0.4006478\ttotal: 337ms\tremaining: 1.18s\n",
      "222:\tlearn: 0.4001609\ttotal: 338ms\tremaining: 1.18s\n",
      "223:\tlearn: 0.3997482\ttotal: 340ms\tremaining: 1.18s\n",
      "224:\tlearn: 0.3993112\ttotal: 341ms\tremaining: 1.17s\n",
      "225:\tlearn: 0.3989907\ttotal: 342ms\tremaining: 1.17s\n",
      "226:\tlearn: 0.3984813\ttotal: 344ms\tremaining: 1.17s\n",
      "227:\tlearn: 0.3983467\ttotal: 345ms\tremaining: 1.17s\n",
      "228:\tlearn: 0.3979754\ttotal: 346ms\tremaining: 1.16s\n",
      "229:\tlearn: 0.3975259\ttotal: 347ms\tremaining: 1.16s\n",
      "230:\tlearn: 0.3971286\ttotal: 349ms\tremaining: 1.16s\n",
      "231:\tlearn: 0.3967664\ttotal: 350ms\tremaining: 1.16s\n",
      "232:\tlearn: 0.3964737\ttotal: 351ms\tremaining: 1.16s\n",
      "233:\tlearn: 0.3961316\ttotal: 352ms\tremaining: 1.15s\n",
      "234:\tlearn: 0.3958865\ttotal: 354ms\tremaining: 1.15s\n",
      "235:\tlearn: 0.3954363\ttotal: 355ms\tremaining: 1.15s\n",
      "236:\tlearn: 0.3948848\ttotal: 356ms\tremaining: 1.15s\n",
      "237:\tlearn: 0.3944450\ttotal: 358ms\tremaining: 1.14s\n",
      "238:\tlearn: 0.3941615\ttotal: 359ms\tremaining: 1.14s\n",
      "239:\tlearn: 0.3936939\ttotal: 360ms\tremaining: 1.14s\n",
      "240:\tlearn: 0.3933735\ttotal: 361ms\tremaining: 1.14s\n",
      "241:\tlearn: 0.3929005\ttotal: 363ms\tremaining: 1.14s\n",
      "242:\tlearn: 0.3925675\ttotal: 364ms\tremaining: 1.13s\n",
      "243:\tlearn: 0.3922677\ttotal: 365ms\tremaining: 1.13s\n",
      "244:\tlearn: 0.3920136\ttotal: 366ms\tremaining: 1.13s\n",
      "245:\tlearn: 0.3916465\ttotal: 368ms\tremaining: 1.13s\n",
      "246:\tlearn: 0.3910637\ttotal: 370ms\tremaining: 1.13s\n",
      "247:\tlearn: 0.3904407\ttotal: 372ms\tremaining: 1.13s\n",
      "248:\tlearn: 0.3901725\ttotal: 373ms\tremaining: 1.13s\n",
      "249:\tlearn: 0.3897666\ttotal: 380ms\tremaining: 1.14s\n",
      "250:\tlearn: 0.3889333\ttotal: 382ms\tremaining: 1.14s\n",
      "251:\tlearn: 0.3886173\ttotal: 384ms\tremaining: 1.14s\n",
      "252:\tlearn: 0.3882335\ttotal: 386ms\tremaining: 1.14s\n",
      "253:\tlearn: 0.3877577\ttotal: 388ms\tremaining: 1.14s\n",
      "254:\tlearn: 0.3873290\ttotal: 389ms\tremaining: 1.14s\n",
      "255:\tlearn: 0.3869851\ttotal: 391ms\tremaining: 1.14s\n",
      "256:\tlearn: 0.3865790\ttotal: 393ms\tremaining: 1.14s\n",
      "257:\tlearn: 0.3862430\ttotal: 394ms\tremaining: 1.13s\n",
      "258:\tlearn: 0.3857237\ttotal: 396ms\tremaining: 1.13s\n",
      "259:\tlearn: 0.3855815\ttotal: 397ms\tremaining: 1.13s\n",
      "260:\tlearn: 0.3852703\ttotal: 398ms\tremaining: 1.13s\n",
      "261:\tlearn: 0.3850640\ttotal: 400ms\tremaining: 1.13s\n",
      "262:\tlearn: 0.3848064\ttotal: 401ms\tremaining: 1.12s\n",
      "263:\tlearn: 0.3845430\ttotal: 403ms\tremaining: 1.12s\n",
      "264:\tlearn: 0.3841947\ttotal: 404ms\tremaining: 1.12s\n",
      "265:\tlearn: 0.3837695\ttotal: 406ms\tremaining: 1.12s\n",
      "266:\tlearn: 0.3833729\ttotal: 407ms\tremaining: 1.12s\n",
      "267:\tlearn: 0.3832481\ttotal: 408ms\tremaining: 1.11s\n",
      "268:\tlearn: 0.3829037\ttotal: 409ms\tremaining: 1.11s\n",
      "269:\tlearn: 0.3825751\ttotal: 411ms\tremaining: 1.11s\n",
      "270:\tlearn: 0.3822022\ttotal: 412ms\tremaining: 1.11s\n",
      "271:\tlearn: 0.3818532\ttotal: 413ms\tremaining: 1.11s\n",
      "272:\tlearn: 0.3814861\ttotal: 415ms\tremaining: 1.1s\n",
      "273:\tlearn: 0.3811756\ttotal: 416ms\tremaining: 1.1s\n",
      "274:\tlearn: 0.3807611\ttotal: 417ms\tremaining: 1.1s\n",
      "275:\tlearn: 0.3803579\ttotal: 418ms\tremaining: 1.1s\n",
      "276:\tlearn: 0.3800701\ttotal: 420ms\tremaining: 1.09s\n",
      "277:\tlearn: 0.3796687\ttotal: 421ms\tremaining: 1.09s\n",
      "278:\tlearn: 0.3792664\ttotal: 422ms\tremaining: 1.09s\n",
      "279:\tlearn: 0.3790454\ttotal: 424ms\tremaining: 1.09s\n",
      "280:\tlearn: 0.3786697\ttotal: 425ms\tremaining: 1.09s\n",
      "281:\tlearn: 0.3782316\ttotal: 426ms\tremaining: 1.08s\n",
      "282:\tlearn: 0.3779642\ttotal: 428ms\tremaining: 1.08s\n",
      "283:\tlearn: 0.3777530\ttotal: 429ms\tremaining: 1.08s\n",
      "284:\tlearn: 0.3775286\ttotal: 430ms\tremaining: 1.08s\n",
      "285:\tlearn: 0.3772804\ttotal: 431ms\tremaining: 1.08s\n",
      "286:\tlearn: 0.3771762\ttotal: 432ms\tremaining: 1.07s\n",
      "287:\tlearn: 0.3768885\ttotal: 434ms\tremaining: 1.07s\n",
      "288:\tlearn: 0.3766526\ttotal: 435ms\tremaining: 1.07s\n",
      "289:\tlearn: 0.3762595\ttotal: 436ms\tremaining: 1.07s\n",
      "290:\tlearn: 0.3759220\ttotal: 438ms\tremaining: 1.07s\n",
      "291:\tlearn: 0.3753862\ttotal: 439ms\tremaining: 1.06s\n",
      "292:\tlearn: 0.3751077\ttotal: 440ms\tremaining: 1.06s\n",
      "293:\tlearn: 0.3747172\ttotal: 442ms\tremaining: 1.06s\n",
      "294:\tlearn: 0.3744812\ttotal: 443ms\tremaining: 1.06s\n",
      "295:\tlearn: 0.3741536\ttotal: 444ms\tremaining: 1.06s\n",
      "296:\tlearn: 0.3738834\ttotal: 445ms\tremaining: 1.05s\n",
      "297:\tlearn: 0.3735793\ttotal: 447ms\tremaining: 1.05s\n",
      "298:\tlearn: 0.3731101\ttotal: 448ms\tremaining: 1.05s\n",
      "299:\tlearn: 0.3725969\ttotal: 449ms\tremaining: 1.05s\n",
      "300:\tlearn: 0.3724169\ttotal: 451ms\tremaining: 1.05s\n",
      "301:\tlearn: 0.3719934\ttotal: 452ms\tremaining: 1.04s\n",
      "302:\tlearn: 0.3715241\ttotal: 454ms\tremaining: 1.04s\n",
      "303:\tlearn: 0.3712485\ttotal: 455ms\tremaining: 1.04s\n",
      "304:\tlearn: 0.3709027\ttotal: 456ms\tremaining: 1.04s\n",
      "305:\tlearn: 0.3706494\ttotal: 458ms\tremaining: 1.04s\n",
      "306:\tlearn: 0.3704068\ttotal: 459ms\tremaining: 1.04s\n",
      "307:\tlearn: 0.3699077\ttotal: 460ms\tremaining: 1.03s\n",
      "308:\tlearn: 0.3696220\ttotal: 462ms\tremaining: 1.03s\n",
      "309:\tlearn: 0.3693415\ttotal: 463ms\tremaining: 1.03s\n",
      "310:\tlearn: 0.3691217\ttotal: 464ms\tremaining: 1.03s\n",
      "311:\tlearn: 0.3687316\ttotal: 466ms\tremaining: 1.03s\n",
      "312:\tlearn: 0.3683792\ttotal: 467ms\tremaining: 1.02s\n",
      "313:\tlearn: 0.3680741\ttotal: 468ms\tremaining: 1.02s\n",
      "314:\tlearn: 0.3678568\ttotal: 470ms\tremaining: 1.02s\n",
      "315:\tlearn: 0.3675880\ttotal: 471ms\tremaining: 1.02s\n",
      "316:\tlearn: 0.3675788\ttotal: 471ms\tremaining: 1.01s\n",
      "317:\tlearn: 0.3672405\ttotal: 473ms\tremaining: 1.01s\n",
      "318:\tlearn: 0.3671798\ttotal: 473ms\tremaining: 1.01s\n",
      "319:\tlearn: 0.3667712\ttotal: 475ms\tremaining: 1.01s\n",
      "320:\tlearn: 0.3665090\ttotal: 476ms\tremaining: 1.01s\n",
      "321:\tlearn: 0.3660673\ttotal: 477ms\tremaining: 1s\n",
      "322:\tlearn: 0.3655949\ttotal: 479ms\tremaining: 1s\n",
      "323:\tlearn: 0.3654125\ttotal: 480ms\tremaining: 1s\n",
      "324:\tlearn: 0.3649869\ttotal: 481ms\tremaining: 999ms\n",
      "325:\tlearn: 0.3648001\ttotal: 483ms\tremaining: 998ms\n",
      "326:\tlearn: 0.3644732\ttotal: 484ms\tremaining: 996ms\n",
      "327:\tlearn: 0.3641594\ttotal: 485ms\tremaining: 994ms\n",
      "328:\tlearn: 0.3639429\ttotal: 487ms\tremaining: 993ms\n",
      "329:\tlearn: 0.3634592\ttotal: 488ms\tremaining: 991ms\n",
      "330:\tlearn: 0.3633211\ttotal: 489ms\tremaining: 989ms\n",
      "331:\tlearn: 0.3629491\ttotal: 491ms\tremaining: 987ms\n",
      "332:\tlearn: 0.3625826\ttotal: 492ms\tremaining: 985ms\n",
      "333:\tlearn: 0.3622463\ttotal: 493ms\tremaining: 983ms\n",
      "334:\tlearn: 0.3620684\ttotal: 494ms\tremaining: 981ms\n",
      "335:\tlearn: 0.3617851\ttotal: 496ms\tremaining: 979ms\n",
      "336:\tlearn: 0.3614987\ttotal: 497ms\tremaining: 978ms\n",
      "337:\tlearn: 0.3610927\ttotal: 498ms\tremaining: 976ms\n",
      "338:\tlearn: 0.3607956\ttotal: 499ms\tremaining: 974ms\n",
      "339:\tlearn: 0.3604431\ttotal: 501ms\tremaining: 972ms\n",
      "340:\tlearn: 0.3603337\ttotal: 502ms\tremaining: 970ms\n",
      "341:\tlearn: 0.3601235\ttotal: 503ms\tremaining: 968ms\n",
      "342:\tlearn: 0.3597719\ttotal: 505ms\tremaining: 967ms\n",
      "343:\tlearn: 0.3595144\ttotal: 506ms\tremaining: 965ms\n",
      "344:\tlearn: 0.3594070\ttotal: 507ms\tremaining: 963ms\n",
      "345:\tlearn: 0.3592473\ttotal: 508ms\tremaining: 960ms\n",
      "346:\tlearn: 0.3590850\ttotal: 509ms\tremaining: 959ms\n",
      "347:\tlearn: 0.3587131\ttotal: 511ms\tremaining: 957ms\n",
      "348:\tlearn: 0.3584675\ttotal: 512ms\tremaining: 956ms\n",
      "349:\tlearn: 0.3583324\ttotal: 513ms\tremaining: 953ms\n",
      "350:\tlearn: 0.3582183\ttotal: 515ms\tremaining: 952ms\n",
      "351:\tlearn: 0.3580592\ttotal: 516ms\tremaining: 950ms\n",
      "352:\tlearn: 0.3577215\ttotal: 517ms\tremaining: 948ms\n",
      "353:\tlearn: 0.3573741\ttotal: 519ms\tremaining: 946ms\n",
      "354:\tlearn: 0.3572710\ttotal: 520ms\tremaining: 944ms\n",
      "355:\tlearn: 0.3568166\ttotal: 521ms\tremaining: 942ms\n",
      "356:\tlearn: 0.3567137\ttotal: 522ms\tremaining: 940ms\n",
      "357:\tlearn: 0.3564613\ttotal: 523ms\tremaining: 938ms\n",
      "358:\tlearn: 0.3562672\ttotal: 525ms\tremaining: 937ms\n",
      "359:\tlearn: 0.3557970\ttotal: 526ms\tremaining: 935ms\n",
      "360:\tlearn: 0.3556016\ttotal: 527ms\tremaining: 933ms\n",
      "361:\tlearn: 0.3552189\ttotal: 529ms\tremaining: 932ms\n",
      "362:\tlearn: 0.3551461\ttotal: 529ms\tremaining: 929ms\n",
      "363:\tlearn: 0.3549455\ttotal: 531ms\tremaining: 927ms\n",
      "364:\tlearn: 0.3546754\ttotal: 532ms\tremaining: 925ms\n",
      "365:\tlearn: 0.3544442\ttotal: 533ms\tremaining: 924ms\n",
      "366:\tlearn: 0.3542156\ttotal: 534ms\tremaining: 922ms\n",
      "367:\tlearn: 0.3539427\ttotal: 536ms\tremaining: 920ms\n",
      "368:\tlearn: 0.3535859\ttotal: 537ms\tremaining: 918ms\n",
      "369:\tlearn: 0.3533494\ttotal: 538ms\tremaining: 917ms\n",
      "370:\tlearn: 0.3531711\ttotal: 540ms\tremaining: 915ms\n",
      "371:\tlearn: 0.3528568\ttotal: 541ms\tremaining: 913ms\n",
      "372:\tlearn: 0.3525396\ttotal: 542ms\tremaining: 911ms\n",
      "373:\tlearn: 0.3522772\ttotal: 544ms\tremaining: 910ms\n",
      "374:\tlearn: 0.3521921\ttotal: 545ms\tremaining: 908ms\n",
      "375:\tlearn: 0.3518482\ttotal: 546ms\tremaining: 906ms\n",
      "376:\tlearn: 0.3516082\ttotal: 547ms\tremaining: 904ms\n",
      "377:\tlearn: 0.3512751\ttotal: 549ms\tremaining: 903ms\n",
      "378:\tlearn: 0.3510813\ttotal: 550ms\tremaining: 901ms\n",
      "379:\tlearn: 0.3508012\ttotal: 551ms\tremaining: 899ms\n",
      "380:\tlearn: 0.3502769\ttotal: 552ms\tremaining: 897ms\n",
      "381:\tlearn: 0.3500383\ttotal: 554ms\tremaining: 896ms\n",
      "382:\tlearn: 0.3497248\ttotal: 556ms\tremaining: 896ms\n",
      "383:\tlearn: 0.3494719\ttotal: 558ms\tremaining: 896ms\n",
      "384:\tlearn: 0.3492575\ttotal: 570ms\tremaining: 910ms\n",
      "385:\tlearn: 0.3489876\ttotal: 571ms\tremaining: 909ms\n",
      "386:\tlearn: 0.3487575\ttotal: 573ms\tremaining: 908ms\n",
      "387:\tlearn: 0.3485107\ttotal: 575ms\tremaining: 906ms\n",
      "388:\tlearn: 0.3482390\ttotal: 576ms\tremaining: 905ms\n",
      "389:\tlearn: 0.3480166\ttotal: 578ms\tremaining: 903ms\n",
      "390:\tlearn: 0.3477697\ttotal: 579ms\tremaining: 902ms\n",
      "391:\tlearn: 0.3475253\ttotal: 581ms\tremaining: 900ms\n",
      "392:\tlearn: 0.3470985\ttotal: 582ms\tremaining: 899ms\n",
      "393:\tlearn: 0.3467844\ttotal: 584ms\tremaining: 898ms\n",
      "394:\tlearn: 0.3466976\ttotal: 585ms\tremaining: 896ms\n",
      "395:\tlearn: 0.3463604\ttotal: 586ms\tremaining: 894ms\n",
      "396:\tlearn: 0.3460805\ttotal: 588ms\tremaining: 892ms\n",
      "397:\tlearn: 0.3458748\ttotal: 589ms\tremaining: 891ms\n",
      "398:\tlearn: 0.3456406\ttotal: 590ms\tremaining: 889ms\n",
      "399:\tlearn: 0.3453991\ttotal: 591ms\tremaining: 887ms\n",
      "400:\tlearn: 0.3451565\ttotal: 593ms\tremaining: 885ms\n",
      "401:\tlearn: 0.3449099\ttotal: 594ms\tremaining: 884ms\n",
      "402:\tlearn: 0.3446729\ttotal: 595ms\tremaining: 882ms\n",
      "403:\tlearn: 0.3443184\ttotal: 597ms\tremaining: 880ms\n",
      "404:\tlearn: 0.3441523\ttotal: 598ms\tremaining: 878ms\n",
      "405:\tlearn: 0.3436207\ttotal: 599ms\tremaining: 877ms\n",
      "406:\tlearn: 0.3432046\ttotal: 601ms\tremaining: 875ms\n",
      "407:\tlearn: 0.3430831\ttotal: 602ms\tremaining: 873ms\n",
      "408:\tlearn: 0.3429253\ttotal: 603ms\tremaining: 872ms\n",
      "409:\tlearn: 0.3427612\ttotal: 605ms\tremaining: 870ms\n",
      "410:\tlearn: 0.3425711\ttotal: 606ms\tremaining: 868ms\n",
      "411:\tlearn: 0.3424307\ttotal: 607ms\tremaining: 866ms\n",
      "412:\tlearn: 0.3419385\ttotal: 608ms\tremaining: 865ms\n",
      "413:\tlearn: 0.3415980\ttotal: 610ms\tremaining: 863ms\n",
      "414:\tlearn: 0.3412006\ttotal: 611ms\tremaining: 861ms\n",
      "415:\tlearn: 0.3409704\ttotal: 612ms\tremaining: 860ms\n",
      "416:\tlearn: 0.3407585\ttotal: 614ms\tremaining: 858ms\n",
      "417:\tlearn: 0.3406201\ttotal: 615ms\tremaining: 856ms\n",
      "418:\tlearn: 0.3402525\ttotal: 616ms\tremaining: 854ms\n",
      "419:\tlearn: 0.3399412\ttotal: 617ms\tremaining: 853ms\n",
      "420:\tlearn: 0.3397933\ttotal: 618ms\tremaining: 851ms\n",
      "421:\tlearn: 0.3396108\ttotal: 620ms\tremaining: 849ms\n",
      "422:\tlearn: 0.3393069\ttotal: 621ms\tremaining: 847ms\n",
      "423:\tlearn: 0.3389227\ttotal: 622ms\tremaining: 845ms\n",
      "424:\tlearn: 0.3387294\ttotal: 624ms\tremaining: 844ms\n",
      "425:\tlearn: 0.3384616\ttotal: 625ms\tremaining: 842ms\n",
      "426:\tlearn: 0.3379905\ttotal: 626ms\tremaining: 840ms\n",
      "427:\tlearn: 0.3375197\ttotal: 627ms\tremaining: 839ms\n",
      "428:\tlearn: 0.3372322\ttotal: 629ms\tremaining: 837ms\n",
      "429:\tlearn: 0.3370406\ttotal: 630ms\tremaining: 835ms\n",
      "430:\tlearn: 0.3369877\ttotal: 631ms\tremaining: 834ms\n",
      "431:\tlearn: 0.3365628\ttotal: 633ms\tremaining: 832ms\n",
      "432:\tlearn: 0.3364253\ttotal: 634ms\tremaining: 830ms\n",
      "433:\tlearn: 0.3361710\ttotal: 635ms\tremaining: 828ms\n",
      "434:\tlearn: 0.3359555\ttotal: 637ms\tremaining: 827ms\n",
      "435:\tlearn: 0.3356900\ttotal: 638ms\tremaining: 825ms\n",
      "436:\tlearn: 0.3355763\ttotal: 639ms\tremaining: 823ms\n",
      "437:\tlearn: 0.3351179\ttotal: 640ms\tremaining: 822ms\n",
      "438:\tlearn: 0.3348466\ttotal: 642ms\tremaining: 820ms\n",
      "439:\tlearn: 0.3347061\ttotal: 643ms\tremaining: 818ms\n",
      "440:\tlearn: 0.3344148\ttotal: 644ms\tremaining: 817ms\n",
      "441:\tlearn: 0.3342149\ttotal: 646ms\tremaining: 815ms\n",
      "442:\tlearn: 0.3339220\ttotal: 647ms\tremaining: 813ms\n",
      "443:\tlearn: 0.3338240\ttotal: 648ms\tremaining: 812ms\n",
      "444:\tlearn: 0.3336457\ttotal: 649ms\tremaining: 810ms\n",
      "445:\tlearn: 0.3333177\ttotal: 651ms\tremaining: 808ms\n",
      "446:\tlearn: 0.3331077\ttotal: 652ms\tremaining: 807ms\n",
      "447:\tlearn: 0.3329346\ttotal: 653ms\tremaining: 805ms\n",
      "448:\tlearn: 0.3327383\ttotal: 655ms\tremaining: 803ms\n",
      "449:\tlearn: 0.3324873\ttotal: 656ms\tremaining: 802ms\n",
      "450:\tlearn: 0.3322698\ttotal: 657ms\tremaining: 800ms\n",
      "451:\tlearn: 0.3320129\ttotal: 658ms\tremaining: 798ms\n",
      "452:\tlearn: 0.3316092\ttotal: 660ms\tremaining: 797ms\n",
      "453:\tlearn: 0.3314167\ttotal: 661ms\tremaining: 795ms\n",
      "454:\tlearn: 0.3311352\ttotal: 662ms\tremaining: 793ms\n",
      "455:\tlearn: 0.3309042\ttotal: 663ms\tremaining: 792ms\n",
      "456:\tlearn: 0.3306608\ttotal: 665ms\tremaining: 790ms\n",
      "457:\tlearn: 0.3305130\ttotal: 666ms\tremaining: 788ms\n",
      "458:\tlearn: 0.3302458\ttotal: 667ms\tremaining: 786ms\n",
      "459:\tlearn: 0.3301307\ttotal: 669ms\tremaining: 785ms\n",
      "460:\tlearn: 0.3299246\ttotal: 670ms\tremaining: 783ms\n",
      "461:\tlearn: 0.3296301\ttotal: 671ms\tremaining: 782ms\n",
      "462:\tlearn: 0.3294668\ttotal: 672ms\tremaining: 780ms\n",
      "463:\tlearn: 0.3292338\ttotal: 674ms\tremaining: 778ms\n",
      "464:\tlearn: 0.3288220\ttotal: 675ms\tremaining: 777ms\n",
      "465:\tlearn: 0.3286342\ttotal: 676ms\tremaining: 775ms\n",
      "466:\tlearn: 0.3283896\ttotal: 678ms\tremaining: 773ms\n",
      "467:\tlearn: 0.3280645\ttotal: 679ms\tremaining: 772ms\n",
      "468:\tlearn: 0.3277734\ttotal: 680ms\tremaining: 770ms\n",
      "469:\tlearn: 0.3273262\ttotal: 681ms\tremaining: 768ms\n",
      "470:\tlearn: 0.3270901\ttotal: 683ms\tremaining: 767ms\n",
      "471:\tlearn: 0.3267333\ttotal: 684ms\tremaining: 765ms\n",
      "472:\tlearn: 0.3264886\ttotal: 685ms\tremaining: 763ms\n",
      "473:\tlearn: 0.3261638\ttotal: 687ms\tremaining: 762ms\n",
      "474:\tlearn: 0.3260208\ttotal: 688ms\tremaining: 760ms\n",
      "475:\tlearn: 0.3258434\ttotal: 689ms\tremaining: 759ms\n",
      "476:\tlearn: 0.3253962\ttotal: 690ms\tremaining: 757ms\n",
      "477:\tlearn: 0.3252115\ttotal: 692ms\tremaining: 755ms\n",
      "478:\tlearn: 0.3250016\ttotal: 693ms\tremaining: 754ms\n",
      "479:\tlearn: 0.3248999\ttotal: 694ms\tremaining: 752ms\n",
      "480:\tlearn: 0.3246975\ttotal: 696ms\tremaining: 751ms\n",
      "481:\tlearn: 0.3245794\ttotal: 697ms\tremaining: 749ms\n",
      "482:\tlearn: 0.3244029\ttotal: 698ms\tremaining: 747ms\n",
      "483:\tlearn: 0.3241307\ttotal: 699ms\tremaining: 746ms\n",
      "484:\tlearn: 0.3240653\ttotal: 701ms\tremaining: 744ms\n",
      "485:\tlearn: 0.3238619\ttotal: 702ms\tremaining: 742ms\n",
      "486:\tlearn: 0.3236807\ttotal: 703ms\tremaining: 741ms\n",
      "487:\tlearn: 0.3235152\ttotal: 705ms\tremaining: 739ms\n",
      "488:\tlearn: 0.3233497\ttotal: 706ms\tremaining: 738ms\n",
      "489:\tlearn: 0.3230916\ttotal: 707ms\tremaining: 736ms\n",
      "490:\tlearn: 0.3228808\ttotal: 708ms\tremaining: 734ms\n",
      "491:\tlearn: 0.3227125\ttotal: 710ms\tremaining: 733ms\n",
      "492:\tlearn: 0.3225196\ttotal: 711ms\tremaining: 731ms\n",
      "493:\tlearn: 0.3223038\ttotal: 712ms\tremaining: 730ms\n",
      "494:\tlearn: 0.3220971\ttotal: 713ms\tremaining: 728ms\n",
      "495:\tlearn: 0.3219207\ttotal: 715ms\tremaining: 726ms\n",
      "496:\tlearn: 0.3217064\ttotal: 716ms\tremaining: 725ms\n",
      "497:\tlearn: 0.3213965\ttotal: 717ms\tremaining: 723ms\n",
      "498:\tlearn: 0.3211887\ttotal: 719ms\tremaining: 721ms\n",
      "499:\tlearn: 0.3207576\ttotal: 720ms\tremaining: 720ms\n",
      "500:\tlearn: 0.3204934\ttotal: 721ms\tremaining: 718ms\n",
      "501:\tlearn: 0.3202342\ttotal: 722ms\tremaining: 717ms\n",
      "502:\tlearn: 0.3200419\ttotal: 724ms\tremaining: 715ms\n",
      "503:\tlearn: 0.3198572\ttotal: 725ms\tremaining: 714ms\n",
      "504:\tlearn: 0.3196278\ttotal: 726ms\tremaining: 712ms\n",
      "505:\tlearn: 0.3195203\ttotal: 728ms\tremaining: 710ms\n",
      "506:\tlearn: 0.3194057\ttotal: 729ms\tremaining: 709ms\n",
      "507:\tlearn: 0.3192108\ttotal: 730ms\tremaining: 707ms\n",
      "508:\tlearn: 0.3190133\ttotal: 731ms\tremaining: 706ms\n",
      "509:\tlearn: 0.3185308\ttotal: 733ms\tremaining: 704ms\n",
      "510:\tlearn: 0.3182367\ttotal: 734ms\tremaining: 702ms\n",
      "511:\tlearn: 0.3181013\ttotal: 735ms\tremaining: 701ms\n",
      "512:\tlearn: 0.3177786\ttotal: 737ms\tremaining: 699ms\n",
      "513:\tlearn: 0.3176160\ttotal: 738ms\tremaining: 698ms\n",
      "514:\tlearn: 0.3174628\ttotal: 739ms\tremaining: 696ms\n",
      "515:\tlearn: 0.3171816\ttotal: 741ms\tremaining: 695ms\n",
      "516:\tlearn: 0.3170215\ttotal: 743ms\tremaining: 694ms\n",
      "517:\tlearn: 0.3166509\ttotal: 745ms\tremaining: 693ms\n",
      "518:\tlearn: 0.3164499\ttotal: 750ms\tremaining: 695ms\n",
      "519:\tlearn: 0.3162496\ttotal: 751ms\tremaining: 694ms\n",
      "520:\tlearn: 0.3161488\ttotal: 753ms\tremaining: 692ms\n",
      "521:\tlearn: 0.3158899\ttotal: 754ms\tremaining: 691ms\n",
      "522:\tlearn: 0.3156062\ttotal: 756ms\tremaining: 689ms\n",
      "523:\tlearn: 0.3153197\ttotal: 757ms\tremaining: 688ms\n",
      "524:\tlearn: 0.3151267\ttotal: 758ms\tremaining: 686ms\n",
      "525:\tlearn: 0.3150243\ttotal: 760ms\tremaining: 685ms\n",
      "526:\tlearn: 0.3148357\ttotal: 761ms\tremaining: 683ms\n",
      "527:\tlearn: 0.3147712\ttotal: 762ms\tremaining: 681ms\n",
      "528:\tlearn: 0.3143007\ttotal: 764ms\tremaining: 680ms\n",
      "529:\tlearn: 0.3141611\ttotal: 765ms\tremaining: 678ms\n",
      "530:\tlearn: 0.3140040\ttotal: 766ms\tremaining: 677ms\n",
      "531:\tlearn: 0.3136778\ttotal: 768ms\tremaining: 675ms\n",
      "532:\tlearn: 0.3135773\ttotal: 769ms\tremaining: 674ms\n",
      "533:\tlearn: 0.3132292\ttotal: 770ms\tremaining: 672ms\n",
      "534:\tlearn: 0.3130769\ttotal: 772ms\tremaining: 671ms\n",
      "535:\tlearn: 0.3128182\ttotal: 773ms\tremaining: 669ms\n",
      "536:\tlearn: 0.3126578\ttotal: 774ms\tremaining: 668ms\n",
      "537:\tlearn: 0.3125100\ttotal: 776ms\tremaining: 666ms\n",
      "538:\tlearn: 0.3124885\ttotal: 776ms\tremaining: 664ms\n",
      "539:\tlearn: 0.3121017\ttotal: 778ms\tremaining: 663ms\n",
      "540:\tlearn: 0.3119037\ttotal: 779ms\tremaining: 661ms\n",
      "541:\tlearn: 0.3117465\ttotal: 780ms\tremaining: 659ms\n",
      "542:\tlearn: 0.3115765\ttotal: 782ms\tremaining: 658ms\n",
      "543:\tlearn: 0.3113383\ttotal: 783ms\tremaining: 656ms\n",
      "544:\tlearn: 0.3112002\ttotal: 784ms\tremaining: 655ms\n",
      "545:\tlearn: 0.3110883\ttotal: 785ms\tremaining: 653ms\n",
      "546:\tlearn: 0.3108356\ttotal: 787ms\tremaining: 652ms\n",
      "547:\tlearn: 0.3105887\ttotal: 788ms\tremaining: 650ms\n",
      "548:\tlearn: 0.3104880\ttotal: 789ms\tremaining: 648ms\n",
      "549:\tlearn: 0.3103156\ttotal: 791ms\tremaining: 647ms\n",
      "550:\tlearn: 0.3101262\ttotal: 792ms\tremaining: 645ms\n",
      "551:\tlearn: 0.3098697\ttotal: 793ms\tremaining: 644ms\n",
      "552:\tlearn: 0.3098658\ttotal: 794ms\tremaining: 642ms\n",
      "553:\tlearn: 0.3095960\ttotal: 795ms\tremaining: 640ms\n",
      "554:\tlearn: 0.3092360\ttotal: 796ms\tremaining: 638ms\n",
      "555:\tlearn: 0.3090981\ttotal: 797ms\tremaining: 637ms\n",
      "556:\tlearn: 0.3088389\ttotal: 799ms\tremaining: 635ms\n",
      "557:\tlearn: 0.3086250\ttotal: 800ms\tremaining: 634ms\n",
      "558:\tlearn: 0.3082627\ttotal: 801ms\tremaining: 632ms\n",
      "559:\tlearn: 0.3079127\ttotal: 803ms\tremaining: 631ms\n",
      "560:\tlearn: 0.3076454\ttotal: 804ms\tremaining: 629ms\n",
      "561:\tlearn: 0.3074411\ttotal: 805ms\tremaining: 627ms\n",
      "562:\tlearn: 0.3072614\ttotal: 806ms\tremaining: 626ms\n",
      "563:\tlearn: 0.3070747\ttotal: 808ms\tremaining: 624ms\n",
      "564:\tlearn: 0.3068942\ttotal: 809ms\tremaining: 623ms\n",
      "565:\tlearn: 0.3067729\ttotal: 810ms\tremaining: 621ms\n",
      "566:\tlearn: 0.3066381\ttotal: 812ms\tremaining: 620ms\n",
      "567:\tlearn: 0.3064085\ttotal: 813ms\tremaining: 618ms\n",
      "568:\tlearn: 0.3061937\ttotal: 814ms\tremaining: 617ms\n",
      "569:\tlearn: 0.3060018\ttotal: 815ms\tremaining: 615ms\n",
      "570:\tlearn: 0.3059843\ttotal: 816ms\tremaining: 613ms\n",
      "571:\tlearn: 0.3059121\ttotal: 817ms\tremaining: 612ms\n",
      "572:\tlearn: 0.3057714\ttotal: 819ms\tremaining: 610ms\n",
      "573:\tlearn: 0.3054491\ttotal: 820ms\tremaining: 609ms\n",
      "574:\tlearn: 0.3051736\ttotal: 821ms\tremaining: 607ms\n",
      "575:\tlearn: 0.3050359\ttotal: 823ms\tremaining: 606ms\n",
      "576:\tlearn: 0.3050071\ttotal: 823ms\tremaining: 604ms\n",
      "577:\tlearn: 0.3049074\ttotal: 825ms\tremaining: 602ms\n",
      "578:\tlearn: 0.3048043\ttotal: 826ms\tremaining: 601ms\n",
      "579:\tlearn: 0.3045796\ttotal: 827ms\tremaining: 599ms\n",
      "580:\tlearn: 0.3043402\ttotal: 828ms\tremaining: 597ms\n",
      "581:\tlearn: 0.3041106\ttotal: 830ms\tremaining: 596ms\n",
      "582:\tlearn: 0.3040211\ttotal: 831ms\tremaining: 594ms\n",
      "583:\tlearn: 0.3039773\ttotal: 832ms\tremaining: 593ms\n",
      "584:\tlearn: 0.3037361\ttotal: 834ms\tremaining: 591ms\n",
      "585:\tlearn: 0.3034757\ttotal: 835ms\tremaining: 590ms\n",
      "586:\tlearn: 0.3032499\ttotal: 836ms\tremaining: 588ms\n",
      "587:\tlearn: 0.3030237\ttotal: 837ms\tremaining: 587ms\n",
      "588:\tlearn: 0.3028230\ttotal: 839ms\tremaining: 585ms\n",
      "589:\tlearn: 0.3026518\ttotal: 840ms\tremaining: 584ms\n",
      "590:\tlearn: 0.3024188\ttotal: 841ms\tremaining: 582ms\n",
      "591:\tlearn: 0.3023547\ttotal: 843ms\tremaining: 581ms\n",
      "592:\tlearn: 0.3020118\ttotal: 844ms\tremaining: 579ms\n",
      "593:\tlearn: 0.3017995\ttotal: 845ms\tremaining: 578ms\n",
      "594:\tlearn: 0.3015366\ttotal: 846ms\tremaining: 576ms\n",
      "595:\tlearn: 0.3011717\ttotal: 848ms\tremaining: 575ms\n",
      "596:\tlearn: 0.3009716\ttotal: 849ms\tremaining: 573ms\n",
      "597:\tlearn: 0.3008024\ttotal: 850ms\tremaining: 572ms\n",
      "598:\tlearn: 0.3005106\ttotal: 851ms\tremaining: 570ms\n",
      "599:\tlearn: 0.3002492\ttotal: 853ms\tremaining: 568ms\n",
      "600:\tlearn: 0.3001271\ttotal: 854ms\tremaining: 567ms\n",
      "601:\tlearn: 0.2999579\ttotal: 855ms\tremaining: 566ms\n",
      "602:\tlearn: 0.2997880\ttotal: 857ms\tremaining: 564ms\n",
      "603:\tlearn: 0.2996521\ttotal: 858ms\tremaining: 563ms\n",
      "604:\tlearn: 0.2993600\ttotal: 859ms\tremaining: 561ms\n",
      "605:\tlearn: 0.2991999\ttotal: 861ms\tremaining: 559ms\n",
      "606:\tlearn: 0.2989256\ttotal: 862ms\tremaining: 558ms\n",
      "607:\tlearn: 0.2988879\ttotal: 863ms\tremaining: 556ms\n",
      "608:\tlearn: 0.2988207\ttotal: 864ms\tremaining: 555ms\n",
      "609:\tlearn: 0.2987250\ttotal: 865ms\tremaining: 553ms\n",
      "610:\tlearn: 0.2985948\ttotal: 866ms\tremaining: 552ms\n",
      "611:\tlearn: 0.2984254\ttotal: 868ms\tremaining: 550ms\n",
      "612:\tlearn: 0.2982483\ttotal: 869ms\tremaining: 549ms\n",
      "613:\tlearn: 0.2979582\ttotal: 870ms\tremaining: 547ms\n",
      "614:\tlearn: 0.2977690\ttotal: 871ms\tremaining: 546ms\n",
      "615:\tlearn: 0.2974039\ttotal: 873ms\tremaining: 544ms\n",
      "616:\tlearn: 0.2970589\ttotal: 874ms\tremaining: 542ms\n",
      "617:\tlearn: 0.2968710\ttotal: 875ms\tremaining: 541ms\n",
      "618:\tlearn: 0.2966888\ttotal: 876ms\tremaining: 539ms\n",
      "619:\tlearn: 0.2965374\ttotal: 878ms\tremaining: 538ms\n",
      "620:\tlearn: 0.2961849\ttotal: 879ms\tremaining: 536ms\n",
      "621:\tlearn: 0.2959962\ttotal: 880ms\tremaining: 535ms\n",
      "622:\tlearn: 0.2959017\ttotal: 881ms\tremaining: 533ms\n",
      "623:\tlearn: 0.2956331\ttotal: 883ms\tremaining: 532ms\n",
      "624:\tlearn: 0.2953411\ttotal: 884ms\tremaining: 530ms\n",
      "625:\tlearn: 0.2950935\ttotal: 885ms\tremaining: 529ms\n",
      "626:\tlearn: 0.2949772\ttotal: 886ms\tremaining: 527ms\n",
      "627:\tlearn: 0.2947952\ttotal: 888ms\tremaining: 526ms\n",
      "628:\tlearn: 0.2946202\ttotal: 889ms\tremaining: 524ms\n",
      "629:\tlearn: 0.2942304\ttotal: 890ms\tremaining: 523ms\n",
      "630:\tlearn: 0.2941219\ttotal: 891ms\tremaining: 521ms\n",
      "631:\tlearn: 0.2939856\ttotal: 893ms\tremaining: 520ms\n",
      "632:\tlearn: 0.2937981\ttotal: 894ms\tremaining: 518ms\n",
      "633:\tlearn: 0.2935829\ttotal: 895ms\tremaining: 517ms\n",
      "634:\tlearn: 0.2934823\ttotal: 897ms\tremaining: 515ms\n",
      "635:\tlearn: 0.2933703\ttotal: 898ms\tremaining: 514ms\n",
      "636:\tlearn: 0.2931267\ttotal: 899ms\tremaining: 512ms\n",
      "637:\tlearn: 0.2927324\ttotal: 900ms\tremaining: 511ms\n",
      "638:\tlearn: 0.2926321\ttotal: 902ms\tremaining: 510ms\n",
      "639:\tlearn: 0.2924363\ttotal: 904ms\tremaining: 508ms\n",
      "640:\tlearn: 0.2922291\ttotal: 905ms\tremaining: 507ms\n",
      "641:\tlearn: 0.2921132\ttotal: 906ms\tremaining: 505ms\n",
      "642:\tlearn: 0.2919445\ttotal: 907ms\tremaining: 504ms\n",
      "643:\tlearn: 0.2918678\ttotal: 909ms\tremaining: 502ms\n",
      "644:\tlearn: 0.2917648\ttotal: 910ms\tremaining: 501ms\n",
      "645:\tlearn: 0.2916141\ttotal: 911ms\tremaining: 499ms\n",
      "646:\tlearn: 0.2914843\ttotal: 912ms\tremaining: 498ms\n",
      "647:\tlearn: 0.2914297\ttotal: 913ms\tremaining: 496ms\n",
      "648:\tlearn: 0.2912141\ttotal: 915ms\tremaining: 495ms\n",
      "649:\tlearn: 0.2910035\ttotal: 916ms\tremaining: 493ms\n",
      "650:\tlearn: 0.2907904\ttotal: 917ms\tremaining: 492ms\n",
      "651:\tlearn: 0.2905759\ttotal: 918ms\tremaining: 490ms\n",
      "652:\tlearn: 0.2903943\ttotal: 920ms\tremaining: 489ms\n",
      "653:\tlearn: 0.2902982\ttotal: 921ms\tremaining: 487ms\n",
      "654:\tlearn: 0.2901023\ttotal: 922ms\tremaining: 486ms\n",
      "655:\tlearn: 0.2897018\ttotal: 923ms\tremaining: 484ms\n",
      "656:\tlearn: 0.2894053\ttotal: 925ms\tremaining: 483ms\n",
      "657:\tlearn: 0.2892466\ttotal: 926ms\tremaining: 481ms\n",
      "658:\tlearn: 0.2890063\ttotal: 927ms\tremaining: 480ms\n",
      "659:\tlearn: 0.2888055\ttotal: 929ms\tremaining: 479ms\n",
      "660:\tlearn: 0.2884826\ttotal: 932ms\tremaining: 478ms\n",
      "661:\tlearn: 0.2882007\ttotal: 939ms\tremaining: 480ms\n",
      "662:\tlearn: 0.2881036\ttotal: 941ms\tremaining: 478ms\n",
      "663:\tlearn: 0.2879589\ttotal: 942ms\tremaining: 477ms\n",
      "664:\tlearn: 0.2878174\ttotal: 944ms\tremaining: 475ms\n",
      "665:\tlearn: 0.2876365\ttotal: 945ms\tremaining: 474ms\n",
      "666:\tlearn: 0.2873666\ttotal: 947ms\tremaining: 473ms\n",
      "667:\tlearn: 0.2871734\ttotal: 948ms\tremaining: 471ms\n",
      "668:\tlearn: 0.2869799\ttotal: 949ms\tremaining: 470ms\n",
      "669:\tlearn: 0.2868746\ttotal: 951ms\tremaining: 468ms\n",
      "670:\tlearn: 0.2866102\ttotal: 952ms\tremaining: 467ms\n",
      "671:\tlearn: 0.2863208\ttotal: 953ms\tremaining: 465ms\n",
      "672:\tlearn: 0.2862509\ttotal: 955ms\tremaining: 464ms\n",
      "673:\tlearn: 0.2860085\ttotal: 956ms\tremaining: 462ms\n",
      "674:\tlearn: 0.2859100\ttotal: 957ms\tremaining: 461ms\n",
      "675:\tlearn: 0.2857491\ttotal: 959ms\tremaining: 459ms\n",
      "676:\tlearn: 0.2855677\ttotal: 960ms\tremaining: 458ms\n",
      "677:\tlearn: 0.2855140\ttotal: 961ms\tremaining: 456ms\n",
      "678:\tlearn: 0.2853616\ttotal: 962ms\tremaining: 455ms\n",
      "679:\tlearn: 0.2853386\ttotal: 964ms\tremaining: 454ms\n",
      "680:\tlearn: 0.2852899\ttotal: 971ms\tremaining: 455ms\n",
      "681:\tlearn: 0.2852177\ttotal: 973ms\tremaining: 454ms\n",
      "682:\tlearn: 0.2851333\ttotal: 974ms\tremaining: 452ms\n",
      "683:\tlearn: 0.2849609\ttotal: 976ms\tremaining: 451ms\n",
      "684:\tlearn: 0.2847795\ttotal: 978ms\tremaining: 450ms\n",
      "685:\tlearn: 0.2846122\ttotal: 980ms\tremaining: 449ms\n",
      "686:\tlearn: 0.2844524\ttotal: 981ms\tremaining: 447ms\n",
      "687:\tlearn: 0.2843246\ttotal: 983ms\tremaining: 446ms\n",
      "688:\tlearn: 0.2842206\ttotal: 984ms\tremaining: 444ms\n",
      "689:\tlearn: 0.2841523\ttotal: 985ms\tremaining: 443ms\n",
      "690:\tlearn: 0.2839284\ttotal: 987ms\tremaining: 441ms\n",
      "691:\tlearn: 0.2836181\ttotal: 988ms\tremaining: 440ms\n",
      "692:\tlearn: 0.2833611\ttotal: 989ms\tremaining: 438ms\n",
      "693:\tlearn: 0.2831194\ttotal: 990ms\tremaining: 437ms\n",
      "694:\tlearn: 0.2829110\ttotal: 992ms\tremaining: 435ms\n",
      "695:\tlearn: 0.2827831\ttotal: 993ms\tremaining: 434ms\n",
      "696:\tlearn: 0.2826520\ttotal: 994ms\tremaining: 432ms\n",
      "697:\tlearn: 0.2824484\ttotal: 995ms\tremaining: 431ms\n",
      "698:\tlearn: 0.2823274\ttotal: 997ms\tremaining: 429ms\n",
      "699:\tlearn: 0.2821690\ttotal: 998ms\tremaining: 428ms\n",
      "700:\tlearn: 0.2818900\ttotal: 999ms\tremaining: 426ms\n",
      "701:\tlearn: 0.2816966\ttotal: 1s\tremaining: 425ms\n",
      "702:\tlearn: 0.2815975\ttotal: 1s\tremaining: 423ms\n",
      "703:\tlearn: 0.2814005\ttotal: 1s\tremaining: 422ms\n",
      "704:\tlearn: 0.2812709\ttotal: 1s\tremaining: 420ms\n",
      "705:\tlearn: 0.2810709\ttotal: 1s\tremaining: 419ms\n",
      "706:\tlearn: 0.2808750\ttotal: 1.01s\tremaining: 417ms\n",
      "707:\tlearn: 0.2806705\ttotal: 1.01s\tremaining: 416ms\n",
      "708:\tlearn: 0.2803781\ttotal: 1.01s\tremaining: 414ms\n",
      "709:\tlearn: 0.2801903\ttotal: 1.01s\tremaining: 413ms\n",
      "710:\tlearn: 0.2799561\ttotal: 1.01s\tremaining: 411ms\n",
      "711:\tlearn: 0.2798270\ttotal: 1.01s\tremaining: 410ms\n",
      "712:\tlearn: 0.2796447\ttotal: 1.01s\tremaining: 408ms\n",
      "713:\tlearn: 0.2795753\ttotal: 1.01s\tremaining: 407ms\n",
      "714:\tlearn: 0.2794743\ttotal: 1.02s\tremaining: 405ms\n",
      "715:\tlearn: 0.2794095\ttotal: 1.02s\tremaining: 404ms\n",
      "716:\tlearn: 0.2792094\ttotal: 1.02s\tremaining: 402ms\n",
      "717:\tlearn: 0.2790728\ttotal: 1.02s\tremaining: 401ms\n",
      "718:\tlearn: 0.2789848\ttotal: 1.02s\tremaining: 399ms\n",
      "719:\tlearn: 0.2788896\ttotal: 1.02s\tremaining: 398ms\n",
      "720:\tlearn: 0.2787511\ttotal: 1.02s\tremaining: 396ms\n",
      "721:\tlearn: 0.2786703\ttotal: 1.02s\tremaining: 395ms\n",
      "722:\tlearn: 0.2784497\ttotal: 1.03s\tremaining: 394ms\n",
      "723:\tlearn: 0.2782474\ttotal: 1.03s\tremaining: 392ms\n",
      "724:\tlearn: 0.2780940\ttotal: 1.03s\tremaining: 391ms\n",
      "725:\tlearn: 0.2778277\ttotal: 1.03s\tremaining: 389ms\n",
      "726:\tlearn: 0.2775489\ttotal: 1.03s\tremaining: 388ms\n",
      "727:\tlearn: 0.2774086\ttotal: 1.03s\tremaining: 386ms\n",
      "728:\tlearn: 0.2773082\ttotal: 1.03s\tremaining: 385ms\n",
      "729:\tlearn: 0.2770503\ttotal: 1.03s\tremaining: 383ms\n",
      "730:\tlearn: 0.2768995\ttotal: 1.04s\tremaining: 382ms\n",
      "731:\tlearn: 0.2767713\ttotal: 1.04s\tremaining: 380ms\n",
      "732:\tlearn: 0.2765811\ttotal: 1.04s\tremaining: 379ms\n",
      "733:\tlearn: 0.2764758\ttotal: 1.04s\tremaining: 377ms\n",
      "734:\tlearn: 0.2764501\ttotal: 1.04s\tremaining: 376ms\n",
      "735:\tlearn: 0.2763410\ttotal: 1.04s\tremaining: 374ms\n",
      "736:\tlearn: 0.2761796\ttotal: 1.04s\tremaining: 373ms\n",
      "737:\tlearn: 0.2759597\ttotal: 1.04s\tremaining: 371ms\n",
      "738:\tlearn: 0.2756910\ttotal: 1.05s\tremaining: 370ms\n",
      "739:\tlearn: 0.2754538\ttotal: 1.05s\tremaining: 368ms\n",
      "740:\tlearn: 0.2753590\ttotal: 1.05s\tremaining: 367ms\n",
      "741:\tlearn: 0.2753035\ttotal: 1.05s\tremaining: 365ms\n",
      "742:\tlearn: 0.2752173\ttotal: 1.05s\tremaining: 364ms\n",
      "743:\tlearn: 0.2750692\ttotal: 1.05s\tremaining: 362ms\n",
      "744:\tlearn: 0.2746938\ttotal: 1.05s\tremaining: 361ms\n",
      "745:\tlearn: 0.2745395\ttotal: 1.05s\tremaining: 359ms\n",
      "746:\tlearn: 0.2744256\ttotal: 1.06s\tremaining: 358ms\n",
      "747:\tlearn: 0.2742118\ttotal: 1.06s\tremaining: 356ms\n",
      "748:\tlearn: 0.2740785\ttotal: 1.06s\tremaining: 355ms\n",
      "749:\tlearn: 0.2740032\ttotal: 1.06s\tremaining: 353ms\n",
      "750:\tlearn: 0.2737195\ttotal: 1.06s\tremaining: 352ms\n",
      "751:\tlearn: 0.2736094\ttotal: 1.06s\tremaining: 350ms\n",
      "752:\tlearn: 0.2734666\ttotal: 1.06s\tremaining: 349ms\n",
      "753:\tlearn: 0.2731803\ttotal: 1.06s\tremaining: 348ms\n",
      "754:\tlearn: 0.2729027\ttotal: 1.07s\tremaining: 346ms\n",
      "755:\tlearn: 0.2727588\ttotal: 1.07s\tremaining: 345ms\n",
      "756:\tlearn: 0.2725922\ttotal: 1.07s\tremaining: 343ms\n",
      "757:\tlearn: 0.2724426\ttotal: 1.07s\tremaining: 342ms\n",
      "758:\tlearn: 0.2722714\ttotal: 1.07s\tremaining: 340ms\n",
      "759:\tlearn: 0.2721099\ttotal: 1.07s\tremaining: 339ms\n",
      "760:\tlearn: 0.2719294\ttotal: 1.07s\tremaining: 337ms\n",
      "761:\tlearn: 0.2716184\ttotal: 1.07s\tremaining: 336ms\n",
      "762:\tlearn: 0.2714248\ttotal: 1.08s\tremaining: 334ms\n",
      "763:\tlearn: 0.2713082\ttotal: 1.08s\tremaining: 333ms\n",
      "764:\tlearn: 0.2711845\ttotal: 1.08s\tremaining: 331ms\n",
      "765:\tlearn: 0.2711613\ttotal: 1.08s\tremaining: 330ms\n",
      "766:\tlearn: 0.2710184\ttotal: 1.08s\tremaining: 328ms\n",
      "767:\tlearn: 0.2707640\ttotal: 1.08s\tremaining: 327ms\n",
      "768:\tlearn: 0.2706558\ttotal: 1.08s\tremaining: 325ms\n",
      "769:\tlearn: 0.2703494\ttotal: 1.08s\tremaining: 324ms\n",
      "770:\tlearn: 0.2701327\ttotal: 1.08s\tremaining: 323ms\n",
      "771:\tlearn: 0.2700051\ttotal: 1.09s\tremaining: 321ms\n",
      "772:\tlearn: 0.2698133\ttotal: 1.09s\tremaining: 320ms\n",
      "773:\tlearn: 0.2696246\ttotal: 1.09s\tremaining: 318ms\n",
      "774:\tlearn: 0.2693495\ttotal: 1.09s\tremaining: 317ms\n",
      "775:\tlearn: 0.2692505\ttotal: 1.09s\tremaining: 315ms\n",
      "776:\tlearn: 0.2690526\ttotal: 1.09s\tremaining: 314ms\n",
      "777:\tlearn: 0.2689737\ttotal: 1.09s\tremaining: 312ms\n",
      "778:\tlearn: 0.2686980\ttotal: 1.09s\tremaining: 311ms\n",
      "779:\tlearn: 0.2684912\ttotal: 1.1s\tremaining: 309ms\n",
      "780:\tlearn: 0.2681187\ttotal: 1.1s\tremaining: 308ms\n",
      "781:\tlearn: 0.2679868\ttotal: 1.1s\tremaining: 307ms\n",
      "782:\tlearn: 0.2678920\ttotal: 1.1s\tremaining: 305ms\n",
      "783:\tlearn: 0.2676612\ttotal: 1.1s\tremaining: 304ms\n",
      "784:\tlearn: 0.2675733\ttotal: 1.1s\tremaining: 302ms\n",
      "785:\tlearn: 0.2674708\ttotal: 1.1s\tremaining: 301ms\n",
      "786:\tlearn: 0.2671952\ttotal: 1.1s\tremaining: 299ms\n",
      "787:\tlearn: 0.2671189\ttotal: 1.11s\tremaining: 298ms\n",
      "788:\tlearn: 0.2670144\ttotal: 1.11s\tremaining: 296ms\n",
      "789:\tlearn: 0.2669610\ttotal: 1.11s\tremaining: 295ms\n",
      "790:\tlearn: 0.2668914\ttotal: 1.11s\tremaining: 293ms\n",
      "791:\tlearn: 0.2666387\ttotal: 1.11s\tremaining: 292ms\n",
      "792:\tlearn: 0.2664861\ttotal: 1.11s\tremaining: 291ms\n",
      "793:\tlearn: 0.2664071\ttotal: 1.11s\tremaining: 289ms\n",
      "794:\tlearn: 0.2662839\ttotal: 1.12s\tremaining: 288ms\n",
      "795:\tlearn: 0.2661193\ttotal: 1.12s\tremaining: 287ms\n",
      "796:\tlearn: 0.2658744\ttotal: 1.12s\tremaining: 286ms\n",
      "797:\tlearn: 0.2658163\ttotal: 1.12s\tremaining: 285ms\n",
      "798:\tlearn: 0.2656156\ttotal: 1.13s\tremaining: 283ms\n",
      "799:\tlearn: 0.2655129\ttotal: 1.13s\tremaining: 282ms\n",
      "800:\tlearn: 0.2652646\ttotal: 1.13s\tremaining: 281ms\n",
      "801:\tlearn: 0.2651505\ttotal: 1.13s\tremaining: 279ms\n",
      "802:\tlearn: 0.2649628\ttotal: 1.13s\tremaining: 278ms\n",
      "803:\tlearn: 0.2647982\ttotal: 1.13s\tremaining: 276ms\n",
      "804:\tlearn: 0.2645639\ttotal: 1.14s\tremaining: 275ms\n",
      "805:\tlearn: 0.2644270\ttotal: 1.14s\tremaining: 274ms\n",
      "806:\tlearn: 0.2642304\ttotal: 1.14s\tremaining: 272ms\n",
      "807:\tlearn: 0.2640898\ttotal: 1.14s\tremaining: 271ms\n",
      "808:\tlearn: 0.2638281\ttotal: 1.14s\tremaining: 269ms\n",
      "809:\tlearn: 0.2637585\ttotal: 1.14s\tremaining: 268ms\n",
      "810:\tlearn: 0.2635914\ttotal: 1.14s\tremaining: 267ms\n",
      "811:\tlearn: 0.2634059\ttotal: 1.15s\tremaining: 265ms\n",
      "812:\tlearn: 0.2630998\ttotal: 1.15s\tremaining: 264ms\n",
      "813:\tlearn: 0.2628257\ttotal: 1.15s\tremaining: 262ms\n",
      "814:\tlearn: 0.2626739\ttotal: 1.15s\tremaining: 261ms\n",
      "815:\tlearn: 0.2625407\ttotal: 1.15s\tremaining: 260ms\n",
      "816:\tlearn: 0.2624679\ttotal: 1.15s\tremaining: 258ms\n",
      "817:\tlearn: 0.2623629\ttotal: 1.15s\tremaining: 257ms\n",
      "818:\tlearn: 0.2622571\ttotal: 1.15s\tremaining: 255ms\n",
      "819:\tlearn: 0.2621425\ttotal: 1.16s\tremaining: 254ms\n",
      "820:\tlearn: 0.2619094\ttotal: 1.16s\tremaining: 252ms\n",
      "821:\tlearn: 0.2617490\ttotal: 1.16s\tremaining: 251ms\n",
      "822:\tlearn: 0.2615928\ttotal: 1.16s\tremaining: 249ms\n",
      "823:\tlearn: 0.2613689\ttotal: 1.16s\tremaining: 248ms\n",
      "824:\tlearn: 0.2612867\ttotal: 1.16s\tremaining: 247ms\n",
      "825:\tlearn: 0.2609737\ttotal: 1.16s\tremaining: 245ms\n",
      "826:\tlearn: 0.2607659\ttotal: 1.17s\tremaining: 244ms\n",
      "827:\tlearn: 0.2605841\ttotal: 1.17s\tremaining: 242ms\n",
      "828:\tlearn: 0.2604229\ttotal: 1.17s\tremaining: 241ms\n",
      "829:\tlearn: 0.2601683\ttotal: 1.17s\tremaining: 239ms\n",
      "830:\tlearn: 0.2599491\ttotal: 1.17s\tremaining: 238ms\n",
      "831:\tlearn: 0.2598865\ttotal: 1.17s\tremaining: 237ms\n",
      "832:\tlearn: 0.2596084\ttotal: 1.17s\tremaining: 235ms\n",
      "833:\tlearn: 0.2595287\ttotal: 1.17s\tremaining: 234ms\n",
      "834:\tlearn: 0.2594062\ttotal: 1.18s\tremaining: 232ms\n",
      "835:\tlearn: 0.2593723\ttotal: 1.18s\tremaining: 231ms\n",
      "836:\tlearn: 0.2590940\ttotal: 1.18s\tremaining: 229ms\n",
      "837:\tlearn: 0.2590319\ttotal: 1.18s\tremaining: 228ms\n",
      "838:\tlearn: 0.2589489\ttotal: 1.18s\tremaining: 227ms\n",
      "839:\tlearn: 0.2588533\ttotal: 1.18s\tremaining: 225ms\n",
      "840:\tlearn: 0.2586636\ttotal: 1.18s\tremaining: 224ms\n",
      "841:\tlearn: 0.2583745\ttotal: 1.18s\tremaining: 222ms\n",
      "842:\tlearn: 0.2582102\ttotal: 1.19s\tremaining: 221ms\n",
      "843:\tlearn: 0.2581384\ttotal: 1.19s\tremaining: 219ms\n",
      "844:\tlearn: 0.2579479\ttotal: 1.19s\tremaining: 218ms\n",
      "845:\tlearn: 0.2577219\ttotal: 1.19s\tremaining: 217ms\n",
      "846:\tlearn: 0.2574739\ttotal: 1.19s\tremaining: 215ms\n",
      "847:\tlearn: 0.2573588\ttotal: 1.19s\tremaining: 214ms\n",
      "848:\tlearn: 0.2572003\ttotal: 1.19s\tremaining: 212ms\n",
      "849:\tlearn: 0.2571921\ttotal: 1.19s\tremaining: 211ms\n",
      "850:\tlearn: 0.2570683\ttotal: 1.2s\tremaining: 209ms\n",
      "851:\tlearn: 0.2568829\ttotal: 1.2s\tremaining: 208ms\n",
      "852:\tlearn: 0.2567644\ttotal: 1.2s\tremaining: 206ms\n",
      "853:\tlearn: 0.2566971\ttotal: 1.2s\tremaining: 205ms\n",
      "854:\tlearn: 0.2564999\ttotal: 1.2s\tremaining: 204ms\n",
      "855:\tlearn: 0.2562220\ttotal: 1.2s\tremaining: 202ms\n",
      "856:\tlearn: 0.2559765\ttotal: 1.2s\tremaining: 201ms\n",
      "857:\tlearn: 0.2558012\ttotal: 1.2s\tremaining: 199ms\n",
      "858:\tlearn: 0.2555930\ttotal: 1.21s\tremaining: 198ms\n",
      "859:\tlearn: 0.2554212\ttotal: 1.21s\tremaining: 197ms\n",
      "860:\tlearn: 0.2552117\ttotal: 1.21s\tremaining: 195ms\n",
      "861:\tlearn: 0.2549593\ttotal: 1.21s\tremaining: 194ms\n",
      "862:\tlearn: 0.2546410\ttotal: 1.21s\tremaining: 192ms\n",
      "863:\tlearn: 0.2544709\ttotal: 1.21s\tremaining: 191ms\n",
      "864:\tlearn: 0.2543296\ttotal: 1.21s\tremaining: 189ms\n",
      "865:\tlearn: 0.2542036\ttotal: 1.21s\tremaining: 188ms\n",
      "866:\tlearn: 0.2540502\ttotal: 1.22s\tremaining: 187ms\n",
      "867:\tlearn: 0.2539690\ttotal: 1.22s\tremaining: 185ms\n",
      "868:\tlearn: 0.2537875\ttotal: 1.22s\tremaining: 184ms\n",
      "869:\tlearn: 0.2535714\ttotal: 1.22s\tremaining: 182ms\n",
      "870:\tlearn: 0.2532961\ttotal: 1.22s\tremaining: 181ms\n",
      "871:\tlearn: 0.2531221\ttotal: 1.22s\tremaining: 179ms\n",
      "872:\tlearn: 0.2529921\ttotal: 1.22s\tremaining: 178ms\n",
      "873:\tlearn: 0.2528365\ttotal: 1.23s\tremaining: 177ms\n",
      "874:\tlearn: 0.2527330\ttotal: 1.23s\tremaining: 175ms\n",
      "875:\tlearn: 0.2526711\ttotal: 1.23s\tremaining: 174ms\n",
      "876:\tlearn: 0.2526028\ttotal: 1.23s\tremaining: 172ms\n",
      "877:\tlearn: 0.2523439\ttotal: 1.23s\tremaining: 171ms\n",
      "878:\tlearn: 0.2522154\ttotal: 1.23s\tremaining: 170ms\n",
      "879:\tlearn: 0.2521493\ttotal: 1.23s\tremaining: 168ms\n",
      "880:\tlearn: 0.2521046\ttotal: 1.23s\tremaining: 167ms\n",
      "881:\tlearn: 0.2519796\ttotal: 1.24s\tremaining: 165ms\n",
      "882:\tlearn: 0.2518899\ttotal: 1.24s\tremaining: 164ms\n",
      "883:\tlearn: 0.2518083\ttotal: 1.24s\tremaining: 162ms\n",
      "884:\tlearn: 0.2515491\ttotal: 1.24s\tremaining: 161ms\n",
      "885:\tlearn: 0.2515005\ttotal: 1.24s\tremaining: 160ms\n",
      "886:\tlearn: 0.2513793\ttotal: 1.24s\tremaining: 158ms\n",
      "887:\tlearn: 0.2511403\ttotal: 1.24s\tremaining: 157ms\n",
      "888:\tlearn: 0.2509385\ttotal: 1.24s\tremaining: 155ms\n",
      "889:\tlearn: 0.2508098\ttotal: 1.25s\tremaining: 154ms\n",
      "890:\tlearn: 0.2506709\ttotal: 1.25s\tremaining: 153ms\n",
      "891:\tlearn: 0.2506392\ttotal: 1.25s\tremaining: 151ms\n",
      "892:\tlearn: 0.2506084\ttotal: 1.25s\tremaining: 150ms\n",
      "893:\tlearn: 0.2502468\ttotal: 1.25s\tremaining: 148ms\n",
      "894:\tlearn: 0.2501039\ttotal: 1.25s\tremaining: 147ms\n",
      "895:\tlearn: 0.2498214\ttotal: 1.25s\tremaining: 145ms\n",
      "896:\tlearn: 0.2495389\ttotal: 1.25s\tremaining: 144ms\n",
      "897:\tlearn: 0.2493786\ttotal: 1.25s\tremaining: 143ms\n",
      "898:\tlearn: 0.2491711\ttotal: 1.26s\tremaining: 141ms\n",
      "899:\tlearn: 0.2488804\ttotal: 1.26s\tremaining: 140ms\n",
      "900:\tlearn: 0.2487221\ttotal: 1.26s\tremaining: 138ms\n",
      "901:\tlearn: 0.2485677\ttotal: 1.26s\tremaining: 137ms\n",
      "902:\tlearn: 0.2483498\ttotal: 1.26s\tremaining: 136ms\n",
      "903:\tlearn: 0.2481939\ttotal: 1.26s\tremaining: 134ms\n",
      "904:\tlearn: 0.2480921\ttotal: 1.26s\tremaining: 133ms\n",
      "905:\tlearn: 0.2479807\ttotal: 1.27s\tremaining: 131ms\n",
      "906:\tlearn: 0.2477732\ttotal: 1.27s\tremaining: 130ms\n",
      "907:\tlearn: 0.2476227\ttotal: 1.27s\tremaining: 129ms\n",
      "908:\tlearn: 0.2474880\ttotal: 1.27s\tremaining: 127ms\n",
      "909:\tlearn: 0.2472612\ttotal: 1.27s\tremaining: 126ms\n",
      "910:\tlearn: 0.2470432\ttotal: 1.27s\tremaining: 124ms\n",
      "911:\tlearn: 0.2467330\ttotal: 1.27s\tremaining: 123ms\n",
      "912:\tlearn: 0.2464773\ttotal: 1.27s\tremaining: 122ms\n",
      "913:\tlearn: 0.2463276\ttotal: 1.28s\tremaining: 120ms\n",
      "914:\tlearn: 0.2462501\ttotal: 1.28s\tremaining: 119ms\n",
      "915:\tlearn: 0.2460387\ttotal: 1.28s\tremaining: 117ms\n",
      "916:\tlearn: 0.2458273\ttotal: 1.28s\tremaining: 116ms\n",
      "917:\tlearn: 0.2458082\ttotal: 1.28s\tremaining: 114ms\n",
      "918:\tlearn: 0.2456225\ttotal: 1.28s\tremaining: 113ms\n",
      "919:\tlearn: 0.2454480\ttotal: 1.28s\tremaining: 112ms\n",
      "920:\tlearn: 0.2451821\ttotal: 1.28s\tremaining: 110ms\n",
      "921:\tlearn: 0.2448623\ttotal: 1.29s\tremaining: 109ms\n",
      "922:\tlearn: 0.2447776\ttotal: 1.29s\tremaining: 107ms\n",
      "923:\tlearn: 0.2446349\ttotal: 1.29s\tremaining: 106ms\n",
      "924:\tlearn: 0.2445585\ttotal: 1.29s\tremaining: 105ms\n",
      "925:\tlearn: 0.2444762\ttotal: 1.29s\tremaining: 103ms\n",
      "926:\tlearn: 0.2443339\ttotal: 1.29s\tremaining: 102ms\n",
      "927:\tlearn: 0.2442099\ttotal: 1.29s\tremaining: 100ms\n",
      "928:\tlearn: 0.2439746\ttotal: 1.29s\tremaining: 99ms\n",
      "929:\tlearn: 0.2438974\ttotal: 1.3s\tremaining: 97.6ms\n",
      "930:\tlearn: 0.2436860\ttotal: 1.3s\tremaining: 96.2ms\n",
      "931:\tlearn: 0.2435700\ttotal: 1.3s\tremaining: 94.8ms\n",
      "932:\tlearn: 0.2434016\ttotal: 1.3s\tremaining: 93.5ms\n",
      "933:\tlearn: 0.2431543\ttotal: 1.3s\tremaining: 92.1ms\n",
      "934:\tlearn: 0.2430888\ttotal: 1.31s\tremaining: 90.8ms\n",
      "935:\tlearn: 0.2429447\ttotal: 1.31s\tremaining: 89.5ms\n",
      "936:\tlearn: 0.2428034\ttotal: 1.31s\tremaining: 88.1ms\n",
      "937:\tlearn: 0.2425741\ttotal: 1.31s\tremaining: 86.7ms\n",
      "938:\tlearn: 0.2424760\ttotal: 1.31s\tremaining: 85.3ms\n",
      "939:\tlearn: 0.2423871\ttotal: 1.31s\tremaining: 83.9ms\n",
      "940:\tlearn: 0.2421268\ttotal: 1.32s\tremaining: 82.5ms\n",
      "941:\tlearn: 0.2419603\ttotal: 1.32s\tremaining: 81.1ms\n",
      "942:\tlearn: 0.2416761\ttotal: 1.32s\tremaining: 79.8ms\n",
      "943:\tlearn: 0.2414523\ttotal: 1.32s\tremaining: 78.4ms\n",
      "944:\tlearn: 0.2413526\ttotal: 1.32s\tremaining: 77ms\n",
      "945:\tlearn: 0.2411839\ttotal: 1.32s\tremaining: 75.6ms\n",
      "946:\tlearn: 0.2409040\ttotal: 1.32s\tremaining: 74.2ms\n",
      "947:\tlearn: 0.2407153\ttotal: 1.33s\tremaining: 72.8ms\n",
      "948:\tlearn: 0.2405085\ttotal: 1.33s\tremaining: 71.4ms\n",
      "949:\tlearn: 0.2404584\ttotal: 1.33s\tremaining: 70ms\n",
      "950:\tlearn: 0.2401520\ttotal: 1.33s\tremaining: 68.6ms\n",
      "951:\tlearn: 0.2399565\ttotal: 1.33s\tremaining: 67.2ms\n",
      "952:\tlearn: 0.2398583\ttotal: 1.33s\tremaining: 65.8ms\n",
      "953:\tlearn: 0.2396645\ttotal: 1.33s\tremaining: 64.4ms\n",
      "954:\tlearn: 0.2396423\ttotal: 1.34s\tremaining: 63ms\n",
      "955:\tlearn: 0.2393943\ttotal: 1.34s\tremaining: 61.6ms\n",
      "956:\tlearn: 0.2392514\ttotal: 1.34s\tremaining: 60.2ms\n",
      "957:\tlearn: 0.2391016\ttotal: 1.34s\tremaining: 58.8ms\n",
      "958:\tlearn: 0.2389580\ttotal: 1.34s\tremaining: 57.4ms\n",
      "959:\tlearn: 0.2389086\ttotal: 1.34s\tremaining: 56ms\n",
      "960:\tlearn: 0.2387409\ttotal: 1.34s\tremaining: 54.6ms\n",
      "961:\tlearn: 0.2387011\ttotal: 1.34s\tremaining: 53.2ms\n",
      "962:\tlearn: 0.2385619\ttotal: 1.35s\tremaining: 51.8ms\n",
      "963:\tlearn: 0.2384037\ttotal: 1.35s\tremaining: 50.4ms\n",
      "964:\tlearn: 0.2382819\ttotal: 1.35s\tremaining: 48.9ms\n",
      "965:\tlearn: 0.2381138\ttotal: 1.35s\tremaining: 47.5ms\n",
      "966:\tlearn: 0.2380194\ttotal: 1.35s\tremaining: 46.1ms\n",
      "967:\tlearn: 0.2379247\ttotal: 1.35s\tremaining: 44.7ms\n",
      "968:\tlearn: 0.2378331\ttotal: 1.35s\tremaining: 43.3ms\n",
      "969:\tlearn: 0.2377007\ttotal: 1.35s\tremaining: 41.9ms\n",
      "970:\tlearn: 0.2375906\ttotal: 1.36s\tremaining: 40.5ms\n",
      "971:\tlearn: 0.2375396\ttotal: 1.36s\tremaining: 39.1ms\n",
      "972:\tlearn: 0.2374791\ttotal: 1.36s\tremaining: 37.7ms\n",
      "973:\tlearn: 0.2372572\ttotal: 1.36s\tremaining: 36.3ms\n",
      "974:\tlearn: 0.2371462\ttotal: 1.36s\tremaining: 34.9ms\n",
      "975:\tlearn: 0.2369601\ttotal: 1.36s\tremaining: 33.5ms\n",
      "976:\tlearn: 0.2368113\ttotal: 1.36s\tremaining: 32.1ms\n",
      "977:\tlearn: 0.2367153\ttotal: 1.36s\tremaining: 30.7ms\n",
      "978:\tlearn: 0.2366676\ttotal: 1.37s\tremaining: 29.3ms\n",
      "979:\tlearn: 0.2363419\ttotal: 1.37s\tremaining: 27.9ms\n",
      "980:\tlearn: 0.2361903\ttotal: 1.37s\tremaining: 26.5ms\n",
      "981:\tlearn: 0.2360625\ttotal: 1.37s\tremaining: 25.1ms\n",
      "982:\tlearn: 0.2359148\ttotal: 1.37s\tremaining: 23.7ms\n",
      "983:\tlearn: 0.2357715\ttotal: 1.37s\tremaining: 22.3ms\n",
      "984:\tlearn: 0.2356616\ttotal: 1.38s\tremaining: 20.9ms\n",
      "985:\tlearn: 0.2354395\ttotal: 1.38s\tremaining: 19.5ms\n",
      "986:\tlearn: 0.2352521\ttotal: 1.38s\tremaining: 18.1ms\n",
      "987:\tlearn: 0.2351551\ttotal: 1.38s\tremaining: 16.7ms\n",
      "988:\tlearn: 0.2350755\ttotal: 1.38s\tremaining: 15.4ms\n",
      "989:\tlearn: 0.2348669\ttotal: 1.38s\tremaining: 14ms\n",
      "990:\tlearn: 0.2347235\ttotal: 1.38s\tremaining: 12.6ms\n",
      "991:\tlearn: 0.2345174\ttotal: 1.38s\tremaining: 11.2ms\n",
      "992:\tlearn: 0.2343645\ttotal: 1.39s\tremaining: 9.77ms\n",
      "993:\tlearn: 0.2340988\ttotal: 1.39s\tremaining: 8.37ms\n",
      "994:\tlearn: 0.2339034\ttotal: 1.39s\tremaining: 6.98ms\n",
      "995:\tlearn: 0.2336888\ttotal: 1.39s\tremaining: 5.58ms\n",
      "996:\tlearn: 0.2334277\ttotal: 1.39s\tremaining: 4.18ms\n",
      "997:\tlearn: 0.2332280\ttotal: 1.39s\tremaining: 2.79ms\n",
      "998:\tlearn: 0.2332076\ttotal: 1.39s\tremaining: 1.4ms\n",
      "999:\tlearn: 0.2330720\ttotal: 1.39s\tremaining: 0us\n"
     ]
    },
    {
     "data": {
      "text/plain": [
       "0.7804878048780488"
      ]
     },
     "execution_count": 38,
     "metadata": {},
     "output_type": "execute_result"
    }
   ],
   "source": [
    "# Using catboost Classifier\n",
    "import catboost as cbg\n",
    "cb = cbg.CatBoostClassifier()\n",
    "cb.fit(X_train,y_train)\n",
    "cb.score(X_test,y_test)\n"
   ]
  },
  {
   "cell_type": "code",
   "execution_count": 39,
   "metadata": {
    "execution": {
     "iopub.execute_input": "2020-10-02T05:22:57.231650Z",
     "iopub.status.busy": "2020-10-02T05:22:57.230863Z",
     "iopub.status.idle": "2020-10-02T05:22:57.701564Z",
     "shell.execute_reply": "2020-10-02T05:22:57.700715Z"
    },
    "papermill": {
     "duration": 0.54433,
     "end_time": "2020-10-02T05:22:57.701713",
     "exception": false,
     "start_time": "2020-10-02T05:22:57.157383",
     "status": "completed"
    },
    "tags": []
   },
   "outputs": [
    {
     "data": {
      "text/plain": [
       "0.7886178861788617"
      ]
     },
     "execution_count": 39,
     "metadata": {},
     "output_type": "execute_result"
    }
   ],
   "source": [
    "from sklearn.ensemble import AdaBoostClassifier\n",
    "ada = AdaBoostClassifier(base_estimator=lgt)\n",
    "ada.fit(X_train,y_train)\n",
    "ada.score(X_test,y_test)"
   ]
  },
  {
   "cell_type": "markdown",
   "metadata": {
    "papermill": {
     "duration": 0.067858,
     "end_time": "2020-10-02T05:22:57.839957",
     "exception": false,
     "start_time": "2020-10-02T05:22:57.772099",
     "status": "completed"
    },
    "tags": []
   },
   "source": [
    "**Consider this as just starting model, what more could be done:<br>**\n",
    "\n",
    "1) Hyperparamater tunings of best model.<br>\n",
    "2) Adding features using best feature engineering.<br>\n",
    "3) I haven't tried neural network but you can use it.<br>\n",
    "4) More over we can achieve atleast accuracy of 0.82-0.85, using proper hyperparameter tuning, and <br>\n",
    "   using additional features."
   ]
  },
  {
   "cell_type": "markdown",
   "metadata": {
    "papermill": {
     "duration": 0.068971,
     "end_time": "2020-10-02T05:22:58.026927",
     "exception": false,
     "start_time": "2020-10-02T05:22:57.957956",
     "status": "completed"
    },
    "tags": []
   },
   "source": [
    "# Feel free to comment any doubt , if you got more better result or thought of any other feature engineering you can comment, as sharing make us stronger.\n",
    "** Thanks if you liked my work dont forget to upvote. **"
   ]
  },
  {
   "cell_type": "code",
   "execution_count": null,
   "metadata": {
    "papermill": {
     "duration": 0.068171,
     "end_time": "2020-10-02T05:22:58.164599",
     "exception": false,
     "start_time": "2020-10-02T05:22:58.096428",
     "status": "completed"
    },
    "tags": []
   },
   "outputs": [],
   "source": []
  }
 ],
 "metadata": {
  "kernelspec": {
   "display_name": "Python 3",
   "language": "python",
   "name": "python3"
  },
  "language_info": {
   "codemirror_mode": {
    "name": "ipython",
    "version": 3
   },
   "file_extension": ".py",
   "mimetype": "text/x-python",
   "name": "python",
   "nbconvert_exporter": "python",
   "pygments_lexer": "ipython3",
   "version": "3.7.6"
  },
  "papermill": {
   "duration": 18.445962,
   "end_time": "2020-10-02T05:22:58.341687",
   "environment_variables": {},
   "exception": null,
   "input_path": "__notebook__.ipynb",
   "output_path": "__notebook__.ipynb",
   "parameters": {},
   "start_time": "2020-10-02T05:22:39.895725",
   "version": "2.1.0"
  }
 },
 "nbformat": 4,
 "nbformat_minor": 4
}
