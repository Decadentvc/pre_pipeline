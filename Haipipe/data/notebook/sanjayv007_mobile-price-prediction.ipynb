{
 "cells": [
  {
   "cell_type": "code",
   "execution_count": 1,
   "metadata": {
    "_cell_guid": "b1076dfc-b9ad-4769-8c92-a6c4dae69d19",
    "_uuid": "8f2839f25d086af736a60e9eeb907d3b93b6e0e5",
    "execution": {
     "iopub.execute_input": "2020-09-10T14:32:36.764581Z",
     "iopub.status.busy": "2020-09-10T14:32:36.763753Z",
     "iopub.status.idle": "2020-09-10T14:32:36.771616Z",
     "shell.execute_reply": "2020-09-10T14:32:36.770720Z"
    },
    "papermill": {
     "duration": 0.033988,
     "end_time": "2020-09-10T14:32:36.771795",
     "exception": false,
     "start_time": "2020-09-10T14:32:36.737807",
     "status": "completed"
    },
    "tags": []
   },
   "outputs": [
    {
     "name": "stdout",
     "output_type": "stream",
     "text": [
      "/kaggle/input/mobile-price-classification/test.csv\n",
      "/kaggle/input/mobile-price-classification/train.csv\n"
     ]
    }
   ],
   "source": [
    "# This Python 3 environment comes with many helpful analytics libraries installed\n",
    "# It is defined by the kaggle/python Docker image: https://github.com/kaggle/docker-python\n",
    "# For example, here's several helpful packages to load\n",
    "\n",
    "import numpy as np # linear algebra\n",
    "import pandas as pd # data processing, CSV file I/O (e.g. pd.read_csv)\n",
    "\n",
    "# Input data files are available in the read-only \"../input/\" directory\n",
    "# For example, running this (by clicking run or pressing Shift+Enter) will list all files under the input directory\n",
    "\n",
    "import os\n",
    "for dirname, _, filenames in os.walk('/kaggle/input'):\n",
    "    for filename in filenames:\n",
    "        print(os.path.join(dirname, filename))\n",
    "\n",
    "# You can write up to 5GB to the current directory (/kaggle/working/) that gets preserved as output when you create a version using \"Save & Run All\" \n",
    "# You can also write temporary files to /kaggle/temp/, but they won't be saved outside of the current session"
   ]
  },
  {
   "cell_type": "code",
   "execution_count": 2,
   "metadata": {
    "_cell_guid": "79c7e3d0-c299-4dcb-8224-4455121ee9b0",
    "_uuid": "d629ff2d2480ee46fbb7e2d37f6b5fab8052498a",
    "execution": {
     "iopub.execute_input": "2020-09-10T14:32:36.813995Z",
     "iopub.status.busy": "2020-09-10T14:32:36.813227Z",
     "iopub.status.idle": "2020-09-10T14:32:36.861500Z",
     "shell.execute_reply": "2020-09-10T14:32:36.862019Z"
    },
    "papermill": {
     "duration": 0.072755,
     "end_time": "2020-09-10T14:32:36.862206",
     "exception": false,
     "start_time": "2020-09-10T14:32:36.789451",
     "status": "completed"
    },
    "tags": []
   },
   "outputs": [
    {
     "data": {
      "text/html": [
       "<div>\n",
       "<style scoped>\n",
       "    .dataframe tbody tr th:only-of-type {\n",
       "        vertical-align: middle;\n",
       "    }\n",
       "\n",
       "    .dataframe tbody tr th {\n",
       "        vertical-align: top;\n",
       "    }\n",
       "\n",
       "    .dataframe thead th {\n",
       "        text-align: right;\n",
       "    }\n",
       "</style>\n",
       "<table border=\"1\" class=\"dataframe\">\n",
       "  <thead>\n",
       "    <tr style=\"text-align: right;\">\n",
       "      <th></th>\n",
       "      <th>battery_power</th>\n",
       "      <th>blue</th>\n",
       "      <th>clock_speed</th>\n",
       "      <th>dual_sim</th>\n",
       "      <th>fc</th>\n",
       "      <th>four_g</th>\n",
       "      <th>int_memory</th>\n",
       "      <th>m_dep</th>\n",
       "      <th>mobile_wt</th>\n",
       "      <th>n_cores</th>\n",
       "      <th>...</th>\n",
       "      <th>px_height</th>\n",
       "      <th>px_width</th>\n",
       "      <th>ram</th>\n",
       "      <th>sc_h</th>\n",
       "      <th>sc_w</th>\n",
       "      <th>talk_time</th>\n",
       "      <th>three_g</th>\n",
       "      <th>touch_screen</th>\n",
       "      <th>wifi</th>\n",
       "      <th>price_range</th>\n",
       "    </tr>\n",
       "  </thead>\n",
       "  <tbody>\n",
       "    <tr>\n",
       "      <th>0</th>\n",
       "      <td>842</td>\n",
       "      <td>0</td>\n",
       "      <td>2.2</td>\n",
       "      <td>0</td>\n",
       "      <td>1</td>\n",
       "      <td>0</td>\n",
       "      <td>7</td>\n",
       "      <td>0.6</td>\n",
       "      <td>188</td>\n",
       "      <td>2</td>\n",
       "      <td>...</td>\n",
       "      <td>20</td>\n",
       "      <td>756</td>\n",
       "      <td>2549</td>\n",
       "      <td>9</td>\n",
       "      <td>7</td>\n",
       "      <td>19</td>\n",
       "      <td>0</td>\n",
       "      <td>0</td>\n",
       "      <td>1</td>\n",
       "      <td>1</td>\n",
       "    </tr>\n",
       "    <tr>\n",
       "      <th>1</th>\n",
       "      <td>1021</td>\n",
       "      <td>1</td>\n",
       "      <td>0.5</td>\n",
       "      <td>1</td>\n",
       "      <td>0</td>\n",
       "      <td>1</td>\n",
       "      <td>53</td>\n",
       "      <td>0.7</td>\n",
       "      <td>136</td>\n",
       "      <td>3</td>\n",
       "      <td>...</td>\n",
       "      <td>905</td>\n",
       "      <td>1988</td>\n",
       "      <td>2631</td>\n",
       "      <td>17</td>\n",
       "      <td>3</td>\n",
       "      <td>7</td>\n",
       "      <td>1</td>\n",
       "      <td>1</td>\n",
       "      <td>0</td>\n",
       "      <td>2</td>\n",
       "    </tr>\n",
       "    <tr>\n",
       "      <th>2</th>\n",
       "      <td>563</td>\n",
       "      <td>1</td>\n",
       "      <td>0.5</td>\n",
       "      <td>1</td>\n",
       "      <td>2</td>\n",
       "      <td>1</td>\n",
       "      <td>41</td>\n",
       "      <td>0.9</td>\n",
       "      <td>145</td>\n",
       "      <td>5</td>\n",
       "      <td>...</td>\n",
       "      <td>1263</td>\n",
       "      <td>1716</td>\n",
       "      <td>2603</td>\n",
       "      <td>11</td>\n",
       "      <td>2</td>\n",
       "      <td>9</td>\n",
       "      <td>1</td>\n",
       "      <td>1</td>\n",
       "      <td>0</td>\n",
       "      <td>2</td>\n",
       "    </tr>\n",
       "    <tr>\n",
       "      <th>3</th>\n",
       "      <td>615</td>\n",
       "      <td>1</td>\n",
       "      <td>2.5</td>\n",
       "      <td>0</td>\n",
       "      <td>0</td>\n",
       "      <td>0</td>\n",
       "      <td>10</td>\n",
       "      <td>0.8</td>\n",
       "      <td>131</td>\n",
       "      <td>6</td>\n",
       "      <td>...</td>\n",
       "      <td>1216</td>\n",
       "      <td>1786</td>\n",
       "      <td>2769</td>\n",
       "      <td>16</td>\n",
       "      <td>8</td>\n",
       "      <td>11</td>\n",
       "      <td>1</td>\n",
       "      <td>0</td>\n",
       "      <td>0</td>\n",
       "      <td>2</td>\n",
       "    </tr>\n",
       "    <tr>\n",
       "      <th>4</th>\n",
       "      <td>1821</td>\n",
       "      <td>1</td>\n",
       "      <td>1.2</td>\n",
       "      <td>0</td>\n",
       "      <td>13</td>\n",
       "      <td>1</td>\n",
       "      <td>44</td>\n",
       "      <td>0.6</td>\n",
       "      <td>141</td>\n",
       "      <td>2</td>\n",
       "      <td>...</td>\n",
       "      <td>1208</td>\n",
       "      <td>1212</td>\n",
       "      <td>1411</td>\n",
       "      <td>8</td>\n",
       "      <td>2</td>\n",
       "      <td>15</td>\n",
       "      <td>1</td>\n",
       "      <td>1</td>\n",
       "      <td>0</td>\n",
       "      <td>1</td>\n",
       "    </tr>\n",
       "  </tbody>\n",
       "</table>\n",
       "<p>5 rows × 21 columns</p>\n",
       "</div>"
      ],
      "text/plain": [
       "   battery_power  blue  clock_speed  dual_sim  fc  four_g  int_memory  m_dep  \\\n",
       "0            842     0          2.2         0   1       0           7    0.6   \n",
       "1           1021     1          0.5         1   0       1          53    0.7   \n",
       "2            563     1          0.5         1   2       1          41    0.9   \n",
       "3            615     1          2.5         0   0       0          10    0.8   \n",
       "4           1821     1          1.2         0  13       1          44    0.6   \n",
       "\n",
       "   mobile_wt  n_cores  ...  px_height  px_width   ram  sc_h  sc_w  talk_time  \\\n",
       "0        188        2  ...         20       756  2549     9     7         19   \n",
       "1        136        3  ...        905      1988  2631    17     3          7   \n",
       "2        145        5  ...       1263      1716  2603    11     2          9   \n",
       "3        131        6  ...       1216      1786  2769    16     8         11   \n",
       "4        141        2  ...       1208      1212  1411     8     2         15   \n",
       "\n",
       "   three_g  touch_screen  wifi  price_range  \n",
       "0        0             0     1            1  \n",
       "1        1             1     0            2  \n",
       "2        1             1     0            2  \n",
       "3        1             0     0            2  \n",
       "4        1             1     0            1  \n",
       "\n",
       "[5 rows x 21 columns]"
      ]
     },
     "execution_count": 2,
     "metadata": {},
     "output_type": "execute_result"
    }
   ],
   "source": [
    "df = pd.read_csv('/kaggle/input/mobile-price-classification/train.csv')\n",
    "df.head()"
   ]
  },
  {
   "cell_type": "code",
   "execution_count": 3,
   "metadata": {
    "execution": {
     "iopub.execute_input": "2020-09-10T14:32:36.905102Z",
     "iopub.status.busy": "2020-09-10T14:32:36.902333Z",
     "iopub.status.idle": "2020-09-10T14:32:36.909231Z",
     "shell.execute_reply": "2020-09-10T14:32:36.909770Z"
    },
    "papermill": {
     "duration": 0.03029,
     "end_time": "2020-09-10T14:32:36.909935",
     "exception": false,
     "start_time": "2020-09-10T14:32:36.879645",
     "status": "completed"
    },
    "tags": []
   },
   "outputs": [
    {
     "data": {
      "text/plain": [
       "battery_power    0\n",
       "blue             0\n",
       "clock_speed      0\n",
       "dual_sim         0\n",
       "fc               0\n",
       "four_g           0\n",
       "int_memory       0\n",
       "m_dep            0\n",
       "mobile_wt        0\n",
       "n_cores          0\n",
       "pc               0\n",
       "px_height        0\n",
       "px_width         0\n",
       "ram              0\n",
       "sc_h             0\n",
       "sc_w             0\n",
       "talk_time        0\n",
       "three_g          0\n",
       "touch_screen     0\n",
       "wifi             0\n",
       "price_range      0\n",
       "dtype: int64"
      ]
     },
     "execution_count": 3,
     "metadata": {},
     "output_type": "execute_result"
    }
   ],
   "source": [
    "df.isnull().sum()"
   ]
  },
  {
   "cell_type": "code",
   "execution_count": 4,
   "metadata": {
    "execution": {
     "iopub.execute_input": "2020-09-10T14:32:36.966638Z",
     "iopub.status.busy": "2020-09-10T14:32:36.954867Z",
     "iopub.status.idle": "2020-09-10T14:32:36.971421Z",
     "shell.execute_reply": "2020-09-10T14:32:36.970683Z"
    },
    "papermill": {
     "duration": 0.04333,
     "end_time": "2020-09-10T14:32:36.971551",
     "exception": false,
     "start_time": "2020-09-10T14:32:36.928221",
     "status": "completed"
    },
    "tags": []
   },
   "outputs": [
    {
     "name": "stdout",
     "output_type": "stream",
     "text": [
      "      battery_power  blue  clock_speed  dual_sim  fc  four_g  int_memory  \\\n",
      "0               842     0          2.2         0   1       0           7   \n",
      "1              1021     1          0.5         1   0       1          53   \n",
      "2               563     1          0.5         1   2       1          41   \n",
      "3               615     1          2.5         0   0       0          10   \n",
      "4              1821     1          1.2         0  13       1          44   \n",
      "...             ...   ...          ...       ...  ..     ...         ...   \n",
      "1995            794     1          0.5         1   0       1           2   \n",
      "1996           1965     1          2.6         1   0       0          39   \n",
      "1997           1911     0          0.9         1   1       1          36   \n",
      "1998           1512     0          0.9         0   4       1          46   \n",
      "1999            510     1          2.0         1   5       1          45   \n",
      "\n",
      "      m_dep  mobile_wt  n_cores  pc  px_height  px_width   ram  sc_h  sc_w  \\\n",
      "0       0.6        188        2   2         20       756  2549     9     7   \n",
      "1       0.7        136        3   6        905      1988  2631    17     3   \n",
      "2       0.9        145        5   6       1263      1716  2603    11     2   \n",
      "3       0.8        131        6   9       1216      1786  2769    16     8   \n",
      "4       0.6        141        2  14       1208      1212  1411     8     2   \n",
      "...     ...        ...      ...  ..        ...       ...   ...   ...   ...   \n",
      "1995    0.8        106        6  14       1222      1890   668    13     4   \n",
      "1996    0.2        187        4   3        915      1965  2032    11    10   \n",
      "1997    0.7        108        8   3        868      1632  3057     9     1   \n",
      "1998    0.1        145        5   5        336       670   869    18    10   \n",
      "1999    0.9        168        6  16        483       754  3919    19     4   \n",
      "\n",
      "      talk_time  three_g  touch_screen  wifi  \n",
      "0            19        0             0     1  \n",
      "1             7        1             1     0  \n",
      "2             9        1             1     0  \n",
      "3            11        1             0     0  \n",
      "4            15        1             1     0  \n",
      "...         ...      ...           ...   ...  \n",
      "1995         19        1             1     0  \n",
      "1996         16        1             1     1  \n",
      "1997          5        1             1     0  \n",
      "1998         19        1             1     1  \n",
      "1999          2        1             1     1  \n",
      "\n",
      "[2000 rows x 20 columns]\n"
     ]
    }
   ],
   "source": [
    "x = df.drop(columns=['price_range'])\n",
    "print(x)"
   ]
  },
  {
   "cell_type": "code",
   "execution_count": 5,
   "metadata": {
    "execution": {
     "iopub.execute_input": "2020-09-10T14:32:37.016610Z",
     "iopub.status.busy": "2020-09-10T14:32:37.015801Z",
     "iopub.status.idle": "2020-09-10T14:32:37.018969Z",
     "shell.execute_reply": "2020-09-10T14:32:37.019568Z"
    },
    "papermill": {
     "duration": 0.029254,
     "end_time": "2020-09-10T14:32:37.019723",
     "exception": false,
     "start_time": "2020-09-10T14:32:36.990469",
     "status": "completed"
    },
    "tags": []
   },
   "outputs": [
    {
     "name": "stdout",
     "output_type": "stream",
     "text": [
      "0       1\n",
      "1       2\n",
      "2       2\n",
      "3       2\n",
      "4       1\n",
      "       ..\n",
      "1995    0\n",
      "1996    2\n",
      "1997    3\n",
      "1998    0\n",
      "1999    3\n",
      "Name: price_range, Length: 2000, dtype: int64\n"
     ]
    }
   ],
   "source": [
    "y = df['price_range']\n",
    "print(y)"
   ]
  },
  {
   "cell_type": "code",
   "execution_count": 6,
   "metadata": {
    "execution": {
     "iopub.execute_input": "2020-09-10T14:32:37.068279Z",
     "iopub.status.busy": "2020-09-10T14:32:37.067385Z",
     "iopub.status.idle": "2020-09-10T14:32:37.348110Z",
     "shell.execute_reply": "2020-09-10T14:32:37.348662Z"
    },
    "papermill": {
     "duration": 0.309458,
     "end_time": "2020-09-10T14:32:37.348821",
     "exception": false,
     "start_time": "2020-09-10T14:32:37.039363",
     "status": "completed"
    },
    "tags": []
   },
   "outputs": [
    {
     "data": {
      "image/png": "[encoded data removed]",
      "text/plain": [
       "<Figure size 432x288 with 1 Axes>"
      ]
     },
     "metadata": {
      "needs_background": "light"
     },
     "output_type": "display_data"
    }
   ],
   "source": [
    "#plotting histogram \n",
    "import matplotlib.pyplot as plt\n",
    "plt.hist(df['fc'],rwidth=0.9,alpha=0.3,color='blue',bins=15,edgecolor='red') \n",
    "#x and y-axis labels \n",
    "plt.xlabel('price_range') \n",
    "plt.ylabel('battery_power') \n",
    "#plot title \n",
    "plt.title('Mobile Price Classification') \n",
    "plt.show();"
   ]
  },
  {
   "cell_type": "code",
   "execution_count": 7,
   "metadata": {
    "execution": {
     "iopub.execute_input": "2020-09-10T14:32:37.395574Z",
     "iopub.status.busy": "2020-09-10T14:32:37.394721Z",
     "iopub.status.idle": "2020-09-10T14:32:38.882794Z",
     "shell.execute_reply": "2020-09-10T14:32:38.882001Z"
    },
    "papermill": {
     "duration": 1.513585,
     "end_time": "2020-09-10T14:32:38.882928",
     "exception": false,
     "start_time": "2020-09-10T14:32:37.369343",
     "status": "completed"
    },
    "tags": []
   },
   "outputs": [
    {
     "name": "stderr",
     "output_type": "stream",
     "text": [
      "/opt/conda/lib/python3.7/site-packages/seaborn/categorical.py:3669: UserWarning: The `factorplot` function has been renamed to `catplot`. The original name will be removed in a future release. Please update your code. Note that the default `kind` in `factorplot` (`'point'`) has changed `'strip'` in `catplot`.\n",
      "  warnings.warn(msg)\n"
     ]
    },
    {
     "data": {
      "text/plain": [
       "<seaborn.axisgrid.FacetGrid at 0x7f38a691f490>"
      ]
     },
     "execution_count": 7,
     "metadata": {},
     "output_type": "execute_result"
    },
    {
     "data": {
      "image/png": "[encoded data removed]",
      "text/plain": [
       "<Figure size 360x360 with 1 Axes>"
      ]
     },
     "metadata": {
      "needs_background": "light"
     },
     "output_type": "display_data"
    }
   ],
   "source": [
    "import seaborn as sns\n",
    "sns.factorplot('fc',data=df,kind='count')"
   ]
  },
  {
   "cell_type": "code",
   "execution_count": 8,
   "metadata": {
    "execution": {
     "iopub.execute_input": "2020-09-10T14:32:38.933565Z",
     "iopub.status.busy": "2020-09-10T14:32:38.932811Z",
     "iopub.status.idle": "2020-09-10T14:32:39.270258Z",
     "shell.execute_reply": "2020-09-10T14:32:39.269593Z"
    },
    "papermill": {
     "duration": 0.364901,
     "end_time": "2020-09-10T14:32:39.270380",
     "exception": false,
     "start_time": "2020-09-10T14:32:38.905479",
     "status": "completed"
    },
    "tags": []
   },
   "outputs": [
    {
     "data": {
      "text/plain": [
       "<matplotlib.axes._subplots.AxesSubplot at 0x7f38a44ab210>"
      ]
     },
     "execution_count": 8,
     "metadata": {},
     "output_type": "execute_result"
    },
    {
     "data": {
      "image/png": "[encoded data removed]",
      "text/plain": [
       "<Figure size 432x288 with 1 Axes>"
      ]
     },
     "metadata": {
      "needs_background": "light"
     },
     "output_type": "display_data"
    }
   ],
   "source": [
    "df['talk_time'].hist(bins=70)"
   ]
  },
  {
   "cell_type": "code",
   "execution_count": 9,
   "metadata": {
    "execution": {
     "iopub.execute_input": "2020-09-10T14:32:39.329324Z",
     "iopub.status.busy": "2020-09-10T14:32:39.324449Z",
     "iopub.status.idle": "2020-09-10T14:32:39.845848Z",
     "shell.execute_reply": "2020-09-10T14:32:39.845032Z"
    },
    "papermill": {
     "duration": 0.551747,
     "end_time": "2020-09-10T14:32:39.845976",
     "exception": false,
     "start_time": "2020-09-10T14:32:39.294229",
     "status": "completed"
    },
    "tags": []
   },
   "outputs": [
    {
     "data": {
      "text/plain": [
       "<seaborn.axisgrid.FacetGrid at 0x7f38a4405e50>"
      ]
     },
     "execution_count": 9,
     "metadata": {},
     "output_type": "execute_result"
    },
    {
     "data": {
      "image/png": "[encoded data removed]",
      "text/plain": [
       "<Figure size 360x360 with 1 Axes>"
      ]
     },
     "metadata": {
      "needs_background": "light"
     },
     "output_type": "display_data"
    }
   ],
   "source": [
    "sns.lmplot('pc','price_range',data=df)"
   ]
  },
  {
   "cell_type": "code",
   "execution_count": 10,
   "metadata": {
    "execution": {
     "iopub.execute_input": "2020-09-10T14:32:39.902316Z",
     "iopub.status.busy": "2020-09-10T14:32:39.901506Z",
     "iopub.status.idle": "2020-09-10T14:32:40.139575Z",
     "shell.execute_reply": "2020-09-10T14:32:40.138935Z"
    },
    "papermill": {
     "duration": 0.268473,
     "end_time": "2020-09-10T14:32:40.139709",
     "exception": false,
     "start_time": "2020-09-10T14:32:39.871236",
     "status": "completed"
    },
    "tags": []
   },
   "outputs": [],
   "source": [
    "from sklearn.naive_bayes import GaussianNB\n",
    "from sklearn.metrics import accuracy_score\n",
    "from sklearn.model_selection import train_test_split\n"
   ]
  },
  {
   "cell_type": "code",
   "execution_count": 11,
   "metadata": {
    "execution": {
     "iopub.execute_input": "2020-09-10T14:32:40.199593Z",
     "iopub.status.busy": "2020-09-10T14:32:40.197971Z",
     "iopub.status.idle": "2020-09-10T14:32:40.202994Z",
     "shell.execute_reply": "2020-09-10T14:32:40.202273Z"
    },
    "papermill": {
     "duration": 0.038031,
     "end_time": "2020-09-10T14:32:40.203137",
     "exception": false,
     "start_time": "2020-09-10T14:32:40.165106",
     "status": "completed"
    },
    "tags": []
   },
   "outputs": [],
   "source": [
    "x_train, x_test, y_train, y_test = train_test_split(x, y, test_size=0.2, random_state=4)\n"
   ]
  },
  {
   "cell_type": "code",
   "execution_count": 12,
   "metadata": {
    "execution": {
     "iopub.execute_input": "2020-09-10T14:32:40.262574Z",
     "iopub.status.busy": "2020-09-10T14:32:40.261729Z",
     "iopub.status.idle": "2020-09-10T14:32:40.272160Z",
     "shell.execute_reply": "2020-09-10T14:32:40.271367Z"
    },
    "papermill": {
     "duration": 0.04362,
     "end_time": "2020-09-10T14:32:40.272284",
     "exception": false,
     "start_time": "2020-09-10T14:32:40.228664",
     "status": "completed"
    },
    "tags": []
   },
   "outputs": [
    {
     "data": {
      "text/plain": [
       "GaussianNB()"
      ]
     },
     "execution_count": 12,
     "metadata": {},
     "output_type": "execute_result"
    }
   ],
   "source": [
    "nb = GaussianNB()\n",
    "nb.fit(x_train, y_train)"
   ]
  },
  {
   "cell_type": "code",
   "execution_count": 13,
   "metadata": {
    "execution": {
     "iopub.execute_input": "2020-09-10T14:32:40.332508Z",
     "iopub.status.busy": "2020-09-10T14:32:40.331709Z",
     "iopub.status.idle": "2020-09-10T14:32:40.339724Z",
     "shell.execute_reply": "2020-09-10T14:32:40.338973Z"
    },
    "papermill": {
     "duration": 0.04145,
     "end_time": "2020-09-10T14:32:40.339846",
     "exception": false,
     "start_time": "2020-09-10T14:32:40.298396",
     "status": "completed"
    },
    "tags": []
   },
   "outputs": [
    {
     "name": "stdout",
     "output_type": "stream",
     "text": [
      "[3 0 1 0 2 1 3 1 3 3 3 3 1 0 2 0 1 3 2 1 3 0 2 2 3 0 0 0 3 0 1 3 3 2 1 3 0\n",
      " 3 3 3 1 3 0 1 1 1 1 3 2 3 3 1 1 1 0 0 3 3 3 0 0 0 2 1 1 1 3 2 2 0 0 0 0 2\n",
      " 0 2 2 1 1 3 0 0 3 1 1 3 1 1 1 0 2 0 2 1 3 1 0 1 2 3 2 2 2 2 1 3 2 3 2 0 1\n",
      " 2 2 3 3 1 2 1 1 3 3 3 2 0 3 3 3 1 0 0 3 2 1 0 2 2 0 2 3 0 3 1 1 1 2 1 3 3\n",
      " 2 2 2 1 3 0 1 0 2 0 0 1 2 0 2 2 3 0 1 1 3 3 0 2 0 2 0 0 1 3 2 2 2 2 2 0 0\n",
      " 3 2 3 2 2 0 3 0 2 0 2 1 3 3 0 0 0 2 1 3 3 2 3 2 3 2 2 0 1 2 2 0 1 0 2 1 2\n",
      " 0 1 0 3 1 3 1 0 0 1 0 3 0 0 0 2 1 0 3 3 1 2 2 1 3 0 2 0 0 0 0 2 0 3 1 3 1\n",
      " 2 1 3 1 0 2 0 3 1 0 0 1 1 1 0 3 2 1 2 1 0 3 1 2 0 2 1 3 3 3 2 3 3 3 2 3 3\n",
      " 3 2 2 0 2 0 1 2 3 3 3 1 3 2 0 1 2 1 2 1 1 1 1 2 3 0 3 1 2 2 0 3 3 2 3 0 1\n",
      " 2 0 2 3 3 1 3 1 0 0 3 2 0 3 3 0 3 2 0 0 2 0 1 2 2 0 1 0 3 0 1 2 3 3 1 2 0\n",
      " 1 3 3 1 2 3 0 0 0 3 3 0 3 0 0 2 2 2 2 2 0 0 0 1 3 3 0 2 2 0]\n",
      "0.815\n"
     ]
    }
   ],
   "source": [
    "y_pred = nb.predict(x_test)\n",
    "print(y_pred)\n",
    "\n",
    "print(accuracy_score(y_test, y_pred))\n"
   ]
  },
  {
   "cell_type": "code",
   "execution_count": 14,
   "metadata": {
    "execution": {
     "iopub.execute_input": "2020-09-10T14:32:40.400435Z",
     "iopub.status.busy": "2020-09-10T14:32:40.399541Z",
     "iopub.status.idle": "2020-09-10T14:32:41.166343Z",
     "shell.execute_reply": "2020-09-10T14:32:41.165436Z"
    },
    "papermill": {
     "duration": 0.800106,
     "end_time": "2020-09-10T14:32:41.166506",
     "exception": false,
     "start_time": "2020-09-10T14:32:40.366400",
     "status": "completed"
    },
    "tags": []
   },
   "outputs": [
    {
     "name": "stdout",
     "output_type": "stream",
     "text": [
      "Accuracy: 0.875\n"
     ]
    }
   ],
   "source": [
    "from sklearn import model_selection\n",
    "from sklearn.ensemble import RandomForestClassifier\n",
    "from sklearn.metrics import accuracy_score\n",
    "# random forest model creation\n",
    "rfc = RandomForestClassifier()\n",
    "rfc.fit(x_train,y_train)\n",
    "# predictions\n",
    "rfc_predict = rfc.predict(x_test)\n",
    "\n",
    "print(\"Accuracy:\",accuracy_score(y_test, rfc_predict))"
   ]
  },
  {
   "cell_type": "code",
   "execution_count": 15,
   "metadata": {
    "execution": {
     "iopub.execute_input": "2020-09-10T14:32:41.248078Z",
     "iopub.status.busy": "2020-09-10T14:32:41.246952Z",
     "iopub.status.idle": "2020-09-10T14:32:41.250423Z",
     "shell.execute_reply": "2020-09-10T14:32:41.249554Z"
    },
    "papermill": {
     "duration": 0.046835,
     "end_time": "2020-09-10T14:32:41.250580",
     "exception": false,
     "start_time": "2020-09-10T14:32:41.203745",
     "status": "completed"
    },
    "tags": []
   },
   "outputs": [],
   "source": [
    "from sklearn.tree import DecisionTreeClassifier"
   ]
  },
  {
   "cell_type": "code",
   "execution_count": 16,
   "metadata": {
    "execution": {
     "iopub.execute_input": "2020-09-10T14:32:41.335597Z",
     "iopub.status.busy": "2020-09-10T14:32:41.334618Z",
     "iopub.status.idle": "2020-09-10T14:32:41.360497Z",
     "shell.execute_reply": "2020-09-10T14:32:41.361141Z"
    },
    "papermill": {
     "duration": 0.074723,
     "end_time": "2020-09-10T14:32:41.361315",
     "exception": false,
     "start_time": "2020-09-10T14:32:41.286592",
     "status": "completed"
    },
    "tags": []
   },
   "outputs": [
    {
     "name": "stdout",
     "output_type": "stream",
     "text": [
      "Accuracy: 0.835\n"
     ]
    }
   ],
   "source": [
    "# Create Decision Tree classifer object\n",
    "clf = DecisionTreeClassifier()\n",
    "# Train Decision Tree Classifer\n",
    "clf = clf.fit(x_train,y_train)\n",
    "#Predict the response for test dataset\n",
    "y_pred = clf.predict(x_test)\n",
    "\n",
    "\n",
    "print(\"Accuracy:\",accuracy_score(y_test, y_pred))"
   ]
  },
  {
   "cell_type": "code",
   "execution_count": 17,
   "metadata": {
    "execution": {
     "iopub.execute_input": "2020-09-10T14:32:41.425987Z",
     "iopub.status.busy": "2020-09-10T14:32:41.425240Z",
     "iopub.status.idle": "2020-09-10T14:32:41.436285Z",
     "shell.execute_reply": "2020-09-10T14:32:41.435541Z"
    },
    "papermill": {
     "duration": 0.04686,
     "end_time": "2020-09-10T14:32:41.436416",
     "exception": false,
     "start_time": "2020-09-10T14:32:41.389556",
     "status": "completed"
    },
    "tags": []
   },
   "outputs": [
    {
     "data": {
      "text/plain": [
       "KNeighborsClassifier()"
      ]
     },
     "execution_count": 17,
     "metadata": {},
     "output_type": "execute_result"
    }
   ],
   "source": [
    "from sklearn.neighbors import KNeighborsClassifier  \n",
    "classifier= KNeighborsClassifier(n_neighbors=5, metric='minkowski', p=2 )  \n",
    "classifier.fit(x_train, y_train)  "
   ]
  },
  {
   "cell_type": "code",
   "execution_count": 18,
   "metadata": {
    "execution": {
     "iopub.execute_input": "2020-09-10T14:32:41.503624Z",
     "iopub.status.busy": "2020-09-10T14:32:41.502563Z",
     "iopub.status.idle": "2020-09-10T14:32:41.528736Z",
     "shell.execute_reply": "2020-09-10T14:32:41.527914Z"
    },
    "papermill": {
     "duration": 0.063381,
     "end_time": "2020-09-10T14:32:41.528874",
     "exception": false,
     "start_time": "2020-09-10T14:32:41.465493",
     "status": "completed"
    },
    "tags": []
   },
   "outputs": [],
   "source": [
    "y_pred= classifier.predict(x_test)  "
   ]
  },
  {
   "cell_type": "code",
   "execution_count": 19,
   "metadata": {
    "execution": {
     "iopub.execute_input": "2020-09-10T14:32:41.594865Z",
     "iopub.status.busy": "2020-09-10T14:32:41.592636Z",
     "iopub.status.idle": "2020-09-10T14:32:41.598625Z",
     "shell.execute_reply": "2020-09-10T14:32:41.597648Z"
    },
    "papermill": {
     "duration": 0.040549,
     "end_time": "2020-09-10T14:32:41.598808",
     "exception": false,
     "start_time": "2020-09-10T14:32:41.558259",
     "status": "completed"
    },
    "tags": []
   },
   "outputs": [],
   "source": [
    "#Creating the Confusion matrix  \n",
    "from sklearn.metrics import confusion_matrix  \n",
    "cm= confusion_matrix(y_test, y_pred)  "
   ]
  },
  {
   "cell_type": "code",
   "execution_count": 20,
   "metadata": {
    "execution": {
     "iopub.execute_input": "2020-09-10T14:32:41.663697Z",
     "iopub.status.busy": "2020-09-10T14:32:41.662785Z",
     "iopub.status.idle": "2020-09-10T14:32:41.666975Z",
     "shell.execute_reply": "2020-09-10T14:32:41.666382Z"
    },
    "papermill": {
     "duration": 0.038928,
     "end_time": "2020-09-10T14:32:41.667143",
     "exception": false,
     "start_time": "2020-09-10T14:32:41.628215",
     "status": "completed"
    },
    "tags": []
   },
   "outputs": [
    {
     "name": "stdout",
     "output_type": "stream",
     "text": [
      "0.945\n"
     ]
    }
   ],
   "source": [
    "print(accuracy_score(y_test, y_pred))"
   ]
  }
 ],
 "metadata": {
  "kernelspec": {
   "display_name": "Python 3",
   "language": "python",
   "name": "python3"
  },
  "language_info": {
   "codemirror_mode": {
    "name": "ipython",
    "version": 3
   },
   "file_extension": ".py",
   "mimetype": "text/x-python",
   "name": "python",
   "nbconvert_exporter": "python",
   "pygments_lexer": "ipython3",
   "version": "3.7.6"
  },
  "papermill": {
   "duration": 10.406252,
   "end_time": "2020-09-10T14:32:41.804385",
   "environment_variables": {},
   "exception": null,
   "input_path": "__notebook__.ipynb",
   "output_path": "__notebook__.ipynb",
   "parameters": {},
   "start_time": "2020-09-10T14:32:31.398133",
   "version": "2.1.0"
  }
 },
 "nbformat": 4,
 "nbformat_minor": 4
}
