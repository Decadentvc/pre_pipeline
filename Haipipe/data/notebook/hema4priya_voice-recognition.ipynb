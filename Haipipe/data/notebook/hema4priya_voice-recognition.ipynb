{
 "cells": [
  {
   "cell_type": "code",
   "execution_count": 1,
   "metadata": {
    "_cell_guid": "b1076dfc-b9ad-4769-8c92-a6c4dae69d19",
    "_uuid": "8f2839f25d086af736a60e9eeb907d3b93b6e0e5"
   },
   "outputs": [
    {
     "name": "stdout",
     "output_type": "stream",
     "text": [
      "['voice.csv']\n"
     ]
    }
   ],
   "source": [
    "# This Python 3 environment comes with many helpful analytics libraries installed\n",
    "# It is defined by the kaggle/python docker image: https://github.com/kaggle/docker-python\n",
    "# For example, here's several helpful packages to load in \n",
    "\n",
    "import numpy as np # linear algebra\n",
    "import pandas as pd # data processing, CSV file I/O (e.g. pd.read_csv)\n",
    "\n",
    "# Input data files are available in the \"../input/\" directory.\n",
    "# For example, running this (by clicking run or pressing Shift+Enter) will list the files in the input directory\n",
    "\n",
    "import os\n",
    "print(os.listdir(\"../input\"))\n",
    "\n",
    "# Any results you write to the current directory are saved as output."
   ]
  },
  {
   "cell_type": "code",
   "execution_count": 2,
   "metadata": {
    "_cell_guid": "79c7e3d0-c299-4dcb-8224-4455121ee9b0",
    "_uuid": "d629ff2d2480ee46fbb7e2d37f6b5fab8052498a"
   },
   "outputs": [
    {
     "name": "stdout",
     "output_type": "stream",
     "text": [
      "      meanfreq        sd    median   ...     dfrange   modindx   label\n",
      "0     0.059781  0.064241  0.032027   ...    0.000000  0.000000    male\n",
      "1     0.066009  0.067310  0.040229   ...    0.046875  0.052632    male\n",
      "2     0.077316  0.083829  0.036718   ...    0.007812  0.046512    male\n",
      "3     0.151228  0.072111  0.158011   ...    0.554688  0.247119    male\n",
      "4     0.135120  0.079146  0.124656   ...    5.476562  0.208274    male\n",
      "5     0.132786  0.079557  0.119090   ...    2.718750  0.125160    male\n",
      "6     0.150762  0.074463  0.160106   ...    5.304688  0.123992    male\n",
      "7     0.160514  0.076767  0.144337   ...    0.531250  0.283937    male\n",
      "8     0.142239  0.078018  0.138587   ...    2.156250  0.148272    male\n",
      "9     0.134329  0.080350  0.121451   ...    4.679688  0.089920    male\n",
      "10    0.157021  0.071943  0.168160   ...    2.804688  0.200000    male\n",
      "11    0.138551  0.077054  0.127527   ...    2.710938  0.132351    male\n",
      "12    0.137343  0.080877  0.124263   ...    5.000000  0.088500    male\n",
      "13    0.181225  0.060042  0.190953   ...    2.796875  0.416550    male\n",
      "14    0.183115  0.066982  0.191233   ...    6.539062  0.139332    male\n",
      "15    0.174272  0.069411  0.190874   ...    6.992188  0.209311    male\n",
      "16    0.190846  0.065790  0.207951   ...    6.312500  0.254780    male\n",
      "17    0.171247  0.074872  0.152807   ...    0.562500  0.138355    male\n",
      "18    0.168346  0.074121  0.145618   ...    3.117188  0.059537    male\n",
      "19    0.173631  0.073352  0.153569   ...    2.812500  0.068124    male\n",
      "20    0.172754  0.076903  0.177736   ...    0.710938  0.235069    male\n",
      "21    0.181015  0.074369  0.169299   ...    3.687500  0.059940    male\n",
      "22    0.163536  0.072449  0.145543   ...    0.437500  0.091699    male\n",
      "23    0.170213  0.075105  0.146053   ...    0.554688  0.161791    male\n",
      "24    0.160422  0.076615  0.144824   ...    3.945312  0.073890    male\n",
      "25    0.164700  0.075362  0.147018   ...    1.054688  0.125926    male\n",
      "26    0.169579  0.075635  0.186468   ...    3.601562  0.050841    male\n",
      "27    0.169021  0.071778  0.143168   ...    0.703125  0.397354    male\n",
      "28    0.167340  0.072841  0.141739   ...    0.671875  0.384778    male\n",
      "29    0.180528  0.070867  0.142385   ...    0.500000  0.329241    male\n",
      "...        ...       ...       ...   ...         ...       ...     ...\n",
      "3138  0.114477  0.081973  0.090199   ...    4.265625  0.183258  female\n",
      "3139  0.112769  0.074424  0.094248   ...    4.929688  0.171708  female\n",
      "3140  0.126439  0.079412  0.127325   ...    4.906250  0.090045  female\n",
      "3141  0.117350  0.090035  0.109478   ...    0.742188  0.277759  female\n",
      "3142  0.104793  0.085201  0.077886   ...    0.851562  0.370904  female\n",
      "3143  0.127633  0.084931  0.158892   ...    5.015625  0.121246  female\n",
      "3144  0.091250  0.086956  0.048191   ...    5.281250  0.187912  female\n",
      "3145  0.082404  0.085136  0.035114   ...    0.742188  0.445053  female\n",
      "3146  0.124695  0.080989  0.131882   ...    0.843750  0.396091  female\n",
      "3147  0.131566  0.084354  0.131889   ...    0.789062  0.351645  female\n",
      "3148  0.108888  0.092021  0.070063   ...    2.937500  0.236240  female\n",
      "3149  0.090445  0.079045  0.059358   ...    5.523438  0.170489  female\n",
      "3150  0.137507  0.091521  0.161298   ...    3.109375  0.096069  female\n",
      "3151  0.113148  0.090335  0.084335   ...    4.890625  0.128717  female\n",
      "3152  0.149731  0.082852  0.180932   ...    5.828125  0.365700  female\n",
      "3153  0.189614  0.035933  0.194116   ...    6.835938  0.235948  female\n",
      "3154  0.200097  0.045533  0.203796   ...    6.851562  0.092208  female\n",
      "3155  0.178573  0.046679  0.164388   ...    6.000000  0.101291  female\n",
      "3156  0.201806  0.036057  0.201622   ...    5.914062  0.124383  female\n",
      "3157  0.203627  0.041529  0.204104   ...    6.726562  0.145534  female\n",
      "3158  0.183667  0.040607  0.182534   ...    3.414062  0.166503  female\n",
      "3159  0.168794  0.085842  0.188980   ...    5.875000  0.268617  female\n",
      "3160  0.151771  0.089147  0.185970   ...    4.000000  0.192220  female\n",
      "3161  0.170656  0.081237  0.184277   ...    0.726562  0.336918  female\n",
      "3162  0.146023  0.092525  0.183434   ...    2.984375  0.258924  female\n",
      "3163  0.131884  0.084734  0.153707   ...    4.203125  0.161929  female\n",
      "3164  0.116221  0.089221  0.076758   ...    3.640625  0.277897  female\n",
      "3165  0.142056  0.095798  0.183731   ...    2.929688  0.194759  female\n",
      "3166  0.143659  0.090628  0.184976   ...    3.585938  0.311002  female\n",
      "3167  0.165509  0.092884  0.183044   ...    0.546875  0.350000  female\n",
      "\n",
      "[3168 rows x 21 columns]\n"
     ]
    }
   ],
   "source": [
    "df='../input/voice.csv'\n",
    "d=pd.read_csv(df)\n",
    "print(d)"
   ]
  },
  {
   "cell_type": "code",
   "execution_count": 3,
   "metadata": {
    "_uuid": "45757fd35074f135773e7bc9d90de8692c76b3c5"
   },
   "outputs": [
    {
     "name": "stdout",
     "output_type": "stream",
     "text": [
      "<class 'pandas.core.frame.DataFrame'>\n",
      "RangeIndex: 3168 entries, 0 to 3167\n",
      "Data columns (total 21 columns):\n",
      "meanfreq    3168 non-null float64\n",
      "sd          3168 non-null float64\n",
      "median      3168 non-null float64\n",
      "Q25         3168 non-null float64\n",
      "Q75         3168 non-null float64\n",
      "IQR         3168 non-null float64\n",
      "skew        3168 non-null float64\n",
      "kurt        3168 non-null float64\n",
      "sp.ent      3168 non-null float64\n",
      "sfm         3168 non-null float64\n",
      "mode        3168 non-null float64\n",
      "centroid    3168 non-null float64\n",
      "meanfun     3168 non-null float64\n",
      "minfun      3168 non-null float64\n",
      "maxfun      3168 non-null float64\n",
      "meandom     3168 non-null float64\n",
      "mindom      3168 non-null float64\n",
      "maxdom      3168 non-null float64\n",
      "dfrange     3168 non-null float64\n",
      "modindx     3168 non-null float64\n",
      "label       3168 non-null object\n",
      "dtypes: float64(20), object(1)\n",
      "memory usage: 519.8+ KB\n",
      "None\n"
     ]
    }
   ],
   "source": [
    "print(d.info())"
   ]
  },
  {
   "cell_type": "code",
   "execution_count": 4,
   "metadata": {
    "_uuid": "c510fbc51b3b3f06c095897d1e16f7449be33323"
   },
   "outputs": [
    {
     "name": "stdout",
     "output_type": "stream",
     "text": [
      "   meanfreq        sd    median  ...     dfrange   modindx  label\n",
      "0  0.059781  0.064241  0.032027  ...    0.000000  0.000000   male\n",
      "1  0.066009  0.067310  0.040229  ...    0.046875  0.052632   male\n",
      "2  0.077316  0.083829  0.036718  ...    0.007812  0.046512   male\n",
      "3  0.151228  0.072111  0.158011  ...    0.554688  0.247119   male\n",
      "4  0.135120  0.079146  0.124656  ...    5.476562  0.208274   male\n",
      "5  0.132786  0.079557  0.119090  ...    2.718750  0.125160   male\n",
      "6  0.150762  0.074463  0.160106  ...    5.304688  0.123992   male\n",
      "7  0.160514  0.076767  0.144337  ...    0.531250  0.283937   male\n",
      "8  0.142239  0.078018  0.138587  ...    2.156250  0.148272   male\n",
      "9  0.134329  0.080350  0.121451  ...    4.679688  0.089920   male\n",
      "\n",
      "[10 rows x 21 columns]\n"
     ]
    }
   ],
   "source": [
    "print(d.head(10))"
   ]
  },
  {
   "cell_type": "code",
   "execution_count": 5,
   "metadata": {
    "_uuid": "672f1170f60020c51f3edb23d1e13f79fe07e7d3"
   },
   "outputs": [
    {
     "name": "stdout",
     "output_type": "stream",
     "text": [
      "          meanfreq           sd     ...           dfrange      modindx\n",
      "count  3168.000000  3168.000000     ...       3168.000000  3168.000000\n",
      "mean      0.180907     0.057126     ...          4.994630     0.173752\n",
      "std       0.029918     0.016652     ...          3.520039     0.119454\n",
      "min       0.039363     0.018363     ...          0.000000     0.000000\n",
      "25%       0.163662     0.041954     ...          2.044922     0.099766\n",
      "50%       0.184838     0.059155     ...          4.945312     0.139357\n",
      "75%       0.199146     0.067020     ...          6.992188     0.209183\n",
      "max       0.251124     0.115273     ...         21.843750     0.932374\n",
      "\n",
      "[8 rows x 20 columns]\n"
     ]
    }
   ],
   "source": [
    "print(d.describe())"
   ]
  },
  {
   "cell_type": "code",
   "execution_count": 6,
   "metadata": {
    "_uuid": "07a06c4e1930767169acd706b115836564b44b6f"
   },
   "outputs": [],
   "source": [
    "import matplotlib.pyplot as plt\n",
    "import seaborn as sns\n",
    "%matplotlib inline"
   ]
  },
  {
   "cell_type": "code",
   "execution_count": 7,
   "metadata": {
    "_uuid": "9f9579d8d490d70ba6d2ee3e54ddf09aa691bb80"
   },
   "outputs": [],
   "source": [
    "x = np.array(d.drop(['label'], 1))\n",
    "y = np.array(d['label'])"
   ]
  },
  {
   "cell_type": "code",
   "execution_count": 8,
   "metadata": {
    "_uuid": "7aeac67619aefe070df5a04c0611cbd620904a2c"
   },
   "outputs": [],
   "source": [
    "from sklearn.model_selection import train_test_split\n",
    "from sklearn.linear_model import LogisticRegression"
   ]
  },
  {
   "cell_type": "code",
   "execution_count": 9,
   "metadata": {
    "_uuid": "8e3e28158c1be7a11250c4b6ce55f85c99f323ea"
   },
   "outputs": [],
   "source": [
    "from sklearn.preprocessing import StandardScaler\n",
    "df=StandardScaler()\n",
    "X_train,X_test,y_train,y_test=train_test_split(x,y,test_size=0.2)\n",
    "X_train=df.fit(X_train)\n",
    "X_test=df.fit(X_test)"
   ]
  },
  {
   "cell_type": "code",
   "execution_count": 10,
   "metadata": {
    "_uuid": "c60dab1401e45818acaf9a16234246551cc978b8"
   },
   "outputs": [
    {
     "name": "stdout",
     "output_type": "stream",
     "text": [
      "Accuracy=0.9148264984227129\n"
     ]
    },
    {
     "name": "stderr",
     "output_type": "stream",
     "text": [
      "/opt/conda/lib/python3.6/site-packages/sklearn/linear_model/logistic.py:433: FutureWarning: Default solver will be changed to 'lbfgs' in 0.22. Specify a solver to silence this warning.\n",
      "  FutureWarning)\n"
     ]
    }
   ],
   "source": [
    "X_train,X_test,y_train,y_test=train_test_split(x,y,test_size=0.2)\n",
    "model = LogisticRegression()\n",
    "model.fit(X_train, y_train)\n",
    "accuracy = model.score(X_test, y_test)\n",
    "print('Accuracy='+str(accuracy))"
   ]
  },
  {
   "cell_type": "code",
   "execution_count": 11,
   "metadata": {
    "_uuid": "228921f3e34a12282b00cdff8eef0c4c109449f0"
   },
   "outputs": [
    {
     "data": {
      "text/plain": [
       "<matplotlib.axes._subplots.AxesSubplot at 0x7f568dd8cfd0>"
      ]
     },
     "execution_count": 11,
     "metadata": {},
     "output_type": "execute_result"
    },
    {
     "data": {
      "image/png": "[encoded data removed]",
      "text/plain": [
       "<Figure size 432x288 with 2 Axes>"
      ]
     },
     "metadata": {},
     "output_type": "display_data"
    }
   ],
   "source": [
    "sns.heatmap(d.corr(),linewidths=0.25,vmax=1.0, square=True)"
   ]
  }
 ],
 "metadata": {
  "kernelspec": {
   "display_name": "Python 3",
   "language": "python",
   "name": "python3"
  },
  "language_info": {
   "codemirror_mode": {
    "name": "ipython",
    "version": 3
   },
   "file_extension": ".py",
   "mimetype": "text/x-python",
   "name": "python",
   "nbconvert_exporter": "python",
   "pygments_lexer": "ipython3",
   "version": "3.6.6"
  }
 },
 "nbformat": 4,
 "nbformat_minor": 1
}
