{
 "cells": [
  {
   "cell_type": "code",
   "execution_count": 1,
   "metadata": {
    "_cell_guid": "0e7b4381-de5a-43f9-944b-39fea9e0d1fe",
    "_uuid": "94bcc91ab5029aca74aba7b70cd0f999bb754320"
   },
   "outputs": [
    {
     "name": "stdout",
     "output_type": "stream",
     "text": [
      "bigml_59c28831336c6604c800002a.csv\n",
      "\n"
     ]
    }
   ],
   "source": [
    "# This Python 3 environment comes with many helpful analytics libraries installed\n",
    "# It is defined by the kaggle/python docker image: https://github.com/kaggle/docker-python\n",
    "# For example, here's several helpful packages to load in \n",
    "\n",
    "import numpy as np # linear algebra\n",
    "import pandas as pd # data processing, CSV file I/O (e.g. pd.read_csv)\n",
    "import seaborn as sns\n",
    "import matplotlib.pyplot as plt\n",
    "# Input data files are available in the \"../input/\" directory.\n",
    "# For example, running this (by clicking run or pressing Shift+Enter) will list the files in the input directory\n",
    "\n",
    "from subprocess import check_output\n",
    "from sklearn.model_selection import train_test_split\n",
    "from sklearn.linear_model import LogisticRegression\n",
    "from sklearn import metrics\n",
    "from sklearn.ensemble import RandomForestClassifier\n",
    "from sklearn.model_selection import cross_val_score\n",
    "\n",
    "print(check_output([\"ls\", \"../input\"]).decode(\"utf8\"))\n",
    "\n",
    "# Any results you write to the current directory are saved as output."
   ]
  },
  {
   "cell_type": "markdown",
   "metadata": {
    "_cell_guid": "1d216d5f-258e-4fcc-84a6-36af13e51cf5",
    "_uuid": "950909c3250200c8ecb7915c685c632bda689fb5"
   },
   "source": [
    "*  **Reading the data into Pandas DataFrame**.\n",
    "*  Describing the data."
   ]
  },
  {
   "cell_type": "code",
   "execution_count": 2,
   "metadata": {
    "_cell_guid": "fa61f5f3-c0b4-494e-ab6c-b5046252cc42",
    "_uuid": "9c8db47478dbed2afc1f79e68fedfc14b7a7dbeb"
   },
   "outputs": [
    {
     "name": "stdout",
     "output_type": "stream",
     "text": [
      "state                      object\n",
      "account length              int64\n",
      "area code                   int64\n",
      "phone number               object\n",
      "international plan         object\n",
      "voice mail plan            object\n",
      "number vmail messages       int64\n",
      "total day minutes         float64\n",
      "total day calls             int64\n",
      "total day charge          float64\n",
      "total eve minutes         float64\n",
      "total eve calls             int64\n",
      "total eve charge          float64\n",
      "total night minutes       float64\n",
      "total night calls           int64\n",
      "total night charge        float64\n",
      "total intl minutes        float64\n",
      "total intl calls            int64\n",
      "total intl charge         float64\n",
      "customer service calls      int64\n",
      "churn                        bool\n",
      "dtype: object\n"
     ]
    }
   ],
   "source": [
    "tele = pd.read_csv('../input/bigml_59c28831336c6604c800002a.csv')\n",
    "print(tele.dtypes)"
   ]
  },
  {
   "cell_type": "markdown",
   "metadata": {
    "_cell_guid": "aff0d05a-96b7-47b4-8c7f-1c96ce77e1ee",
    "_uuid": "4c2d144690e5454e8807254afc483a6831c325fb"
   },
   "source": [
    "**Checking if dataset has null values**"
   ]
  },
  {
   "cell_type": "code",
   "execution_count": 3,
   "metadata": {
    "_cell_guid": "007faf07-7786-42d8-abeb-89ceb5f3abe3",
    "_uuid": "719ecf43aaaf2809cc392ec9bca1d727e4a6b5aa"
   },
   "outputs": [
    {
     "name": "stdout",
     "output_type": "stream",
     "text": [
      "<class 'pandas.core.frame.DataFrame'>\n",
      "RangeIndex: 3333 entries, 0 to 3332\n",
      "Data columns (total 21 columns):\n",
      "state                     3333 non-null object\n",
      "account length            3333 non-null int64\n",
      "area code                 3333 non-null int64\n",
      "phone number              3333 non-null object\n",
      "international plan        3333 non-null object\n",
      "voice mail plan           3333 non-null object\n",
      "number vmail messages     3333 non-null int64\n",
      "total day minutes         3333 non-null float64\n",
      "total day calls           3333 non-null int64\n",
      "total day charge          3333 non-null float64\n",
      "total eve minutes         3333 non-null float64\n",
      "total eve calls           3333 non-null int64\n",
      "total eve charge          3333 non-null float64\n",
      "total night minutes       3333 non-null float64\n",
      "total night calls         3333 non-null int64\n",
      "total night charge        3333 non-null float64\n",
      "total intl minutes        3333 non-null float64\n",
      "total intl calls          3333 non-null int64\n",
      "total intl charge         3333 non-null float64\n",
      "customer service calls    3333 non-null int64\n",
      "churn                     3333 non-null bool\n",
      "dtypes: bool(1), float64(8), int64(8), object(4)\n",
      "memory usage: 524.1+ KB\n",
      "None\n"
     ]
    }
   ],
   "source": [
    "print(tele.info())"
   ]
  },
  {
   "cell_type": "markdown",
   "metadata": {
    "_cell_guid": "783dc7d2-1a1a-43b2-9c5d-a7d38419f71a",
    "_uuid": "a03f6f9c2363b3ea6ced2dbf76c49024aeed2cb0"
   },
   "source": [
    "**Information on churn**"
   ]
  },
  {
   "cell_type": "code",
   "execution_count": 4,
   "metadata": {
    "_cell_guid": "733d6d56-af79-434f-9b90-2f5b83e70538",
    "_uuid": "c601adcd2c3ccfb2da4833dde1539368b93b34df"
   },
   "outputs": [
    {
     "name": "stdout",
     "output_type": "stream",
     "text": [
      "churn\n",
      "False    2850\n",
      "True      483\n",
      "Name: phone number, dtype: int64\n"
     ]
    }
   ],
   "source": [
    "print(tele.groupby('churn')['phone number'].count())"
   ]
  },
  {
   "cell_type": "markdown",
   "metadata": {
    "_cell_guid": "6e0fcd8b-ce14-4abc-9ea1-a789b130e6b2",
    "_uuid": "cfa538c2039478861d2ffb35aafd479e0df49747"
   },
   "source": [
    "**Splitting the dataset into Train and Test data according to the dimensions needed**"
   ]
  },
  {
   "cell_type": "code",
   "execution_count": 5,
   "metadata": {
    "_cell_guid": "67428b9f-896f-4fef-8ffa-d5328fc910b2",
    "_uuid": "849eb5b521bc76e556c12540f630010764b0e880",
    "collapsed": true
   },
   "outputs": [],
   "source": [
    "drp = tele[['state','area code','phone number','international plan','voice mail plan','churn']]\n",
    "X= tele.drop(drp,1)\n",
    "y= tele.churn\n",
    "X_train, X_test, y_train, y_test = train_test_split(X, y,test_size=0.25)"
   ]
  },
  {
   "cell_type": "markdown",
   "metadata": {
    "_cell_guid": "0c7e20e0-bbc6-4f56-9c4d-7de4a51e9e86",
    "_uuid": "ad1b2ba02bf366e4b8fef23afb381e3683f19a06"
   },
   "source": [
    "* **Applying logistic regression to predict the churn variable.**\n",
    "* Also measuring the accuracy score of the algorithm."
   ]
  },
  {
   "cell_type": "code",
   "execution_count": 6,
   "metadata": {
    "_cell_guid": "e0878147-3214-45e8-a875-7f432893c121",
    "_uuid": "b98f583d4ac96253a4198f56c5fe94043906549c"
   },
   "outputs": [
    {
     "name": "stdout",
     "output_type": "stream",
     "text": [
      "Logistic regression score = 0.87\n"
     ]
    }
   ],
   "source": [
    "logreg = LogisticRegression()\n",
    "logreg.fit(X_train, y_train)\n",
    "y_pred = logreg.predict(X_test)\n",
    "print('Logistic regression score =',round(metrics.accuracy_score(y_test, y_pred),2))"
   ]
  },
  {
   "cell_type": "markdown",
   "metadata": {
    "_cell_guid": "060f4c45-f8ef-4ccf-83ad-09f71ddada63",
    "_uuid": "49693f3cf76a51910e193838f3a61f49773704b2"
   },
   "source": [
    "* Using cross validation with 5 partitions on the data.\n",
    "* Printing scores of each partition of data.\n",
    "* Printing mean score of all the partitions."
   ]
  },
  {
   "cell_type": "code",
   "execution_count": 7,
   "metadata": {
    "_cell_guid": "ee2d3629-4b06-4d4f-94a3-093bf1b9bff6",
    "_uuid": "9dfb60eda41b5f87aeb6dd1ca683f42beea36e50"
   },
   "outputs": [
    {
     "name": "stdout",
     "output_type": "stream",
     "text": [
      "Logistic regression of each partition\n",
      " [ 0.85607196  0.85907046  0.85457271  0.85135135  0.85885886]\n",
      "Mean score of all the scores after cross validation = 0.86\n"
     ]
    }
   ],
   "source": [
    "scores = cross_val_score(logreg, X, y, cv=5, scoring='accuracy') \n",
    "print('Logistic regression of each partition\\n',scores)\n",
    "print('Mean score of all the scores after cross validation =',round(scores.mean(),2)) "
   ]
  },
  {
   "cell_type": "markdown",
   "metadata": {
    "_cell_guid": "5182172b-b1a1-4e80-9dd0-86240de44505",
    "_uuid": "3017989b015db68877180900b46a64c3eab96047"
   },
   "source": [
    "**Confusion matrics to project the accuracy of Logistic Regression algorithm**"
   ]
  },
  {
   "cell_type": "code",
   "execution_count": 8,
   "metadata": {
    "_cell_guid": "36c232ff-4da3-4c5f-9901-ab65917c563c",
    "_uuid": "547d46b8e4aee9bcefd59df23238d65e97ff3c7e"
   },
   "outputs": [
    {
     "data": {
      "text/plain": [
       "Text(33,0.5,'Actual')"
      ]
     },
     "execution_count": 8,
     "metadata": {},
     "output_type": "execute_result"
    },
    {
     "data": {
      "image/png": "[encoded data removed]",
      "text/plain": [
       "<matplotlib.figure.Figure at 0x7f6198c80c18>"
      ]
     },
     "metadata": {},
     "output_type": "display_data"
    }
   ],
   "source": [
    "conf = (metrics.confusion_matrix(y_test, y_pred))\n",
    "cmap = sns.cubehelix_palette(50, hue=0.05, rot=0, light=0.9, dark=0, as_cmap=True)\n",
    "sns.heatmap(conf,cmap = cmap,xticklabels=['0','1'],yticklabels=['0','1'],annot=True, fmt=\"d\",)\n",
    "plt.xlabel('Predicted')\n",
    "plt.ylabel('Actual')"
   ]
  },
  {
   "cell_type": "markdown",
   "metadata": {
    "_cell_guid": "2d51f048-d540-45db-bc4e-a523589c79a5",
    "_uuid": "09af95f9803bef8848aef9864efed33e9a80f9ed"
   },
   "source": [
    "**Computation of rates from the confusion matrix**"
   ]
  },
  {
   "cell_type": "code",
   "execution_count": 9,
   "metadata": {
    "_cell_guid": "8ca64788-cc43-4b3f-8a5b-91063ddc9a9c",
    "_uuid": "63860a617a1162f0b97b2f44089463ec4f32ffe5"
   },
   "outputs": [
    {
     "name": "stdout",
     "output_type": "stream",
     "text": [
      "False Positive  99\n",
      "False Negative  8\n",
      "True Positive  721\n",
      "True Negative  6\n",
      "\n",
      "True Positive Rate : 0.99\n",
      "\n",
      "True Negative Rate : 0.06\n",
      "\n",
      "Positive Predictive Value : 0.88\n",
      "\n",
      "Negative Predictive Value : 0.43\n",
      "\n",
      "False Positive Rate : 0.94\n",
      "\n",
      "False Negative Rate : 0.01\n",
      "\n",
      "False Discovery Rate : 0.12\n",
      "\n",
      "Overall accuracy : 0.87\n"
     ]
    }
   ],
   "source": [
    "FP = conf[1][0]\n",
    "FN = conf[0][1]\n",
    "TP = conf[0][0]\n",
    "TN = conf[1][1]\n",
    "print('False Positive ',FP)\n",
    "print('False Negative ',FN)\n",
    "print('True Positive ',TP)\n",
    "print('True Negative ',TN)\n",
    "# Sensitivity, hit rate, recall, or true positive rate\n",
    "TPR = TP/(TP+FN)\n",
    "print('\\nTrue Positive Rate :',round(TPR,2))\n",
    "# Specificity or true negative rate\n",
    "TNR = TN/(TN+FP) \n",
    "print('\\nTrue Negative Rate :',round(TNR,2))\n",
    "# Precision or positive predictive value\n",
    "PPV = TP/(TP+FP)\n",
    "print('\\nPositive Predictive Value :',round(PPV,2))\n",
    "# Negative predictive value\n",
    "NPV = TN/(TN+FN)\n",
    "print('\\nNegative Predictive Value :',round(NPV,2))\n",
    "# Fall out or false positive rate\n",
    "FPR = FP/(FP+TN)\n",
    "print('\\nFalse Positive Rate :',round(FPR,2))\n",
    "# False negative rate\n",
    "FNR = FN/(TP+FN)\n",
    "print('\\nFalse Negative Rate :',round(FNR,2))\n",
    "# False discovery rate\n",
    "FDR = FP/(TP+FP)\n",
    "print('\\nFalse Discovery Rate :',round(FDR,2))\n",
    "\n",
    "# Overall accuracy\n",
    "ACC = (TP+TN)/(TP+FP+FN+TN)\n",
    "print('\\nOverall accuracy :',round(ACC,2))"
   ]
  },
  {
   "cell_type": "markdown",
   "metadata": {
    "_cell_guid": "75a8ba4a-7c71-4232-86b0-88e29afbf327",
    "_uuid": "93d3a9ad0d014fd620dd610086a0a38d359585dd"
   },
   "source": [
    "* **Applying Random Forest Algorithm on the dataset.**\n",
    "* Accuracy score of the algorithm on the dataset."
   ]
  },
  {
   "cell_type": "code",
   "execution_count": 10,
   "metadata": {
    "_cell_guid": "8032d086-1416-4a9e-a431-f85ad769cda6",
    "_uuid": "b4adbfd790e990dea5f86157ad576ca1bc4adf1e"
   },
   "outputs": [
    {
     "name": "stdout",
     "output_type": "stream",
     "text": [
      "Accuracy of Random forest : 0.93\n"
     ]
    }
   ],
   "source": [
    "rf_clf = RandomForestClassifier(n_estimators=120, criterion='entropy')\n",
    "rf_clf.fit(X_train, y_train)\n",
    "rf_pred_test = rf_clf.predict(X_test)\n",
    "print('Accuracy of Random forest :',round(metrics.accuracy_score(y_test, rf_pred_test),2))"
   ]
  },
  {
   "cell_type": "markdown",
   "metadata": {
    "_cell_guid": "5e5cd14d-9b72-4492-868e-119adcccd0d1",
    "_uuid": "67902f35a5106ea1f3eedbf082916a7507dfcd83"
   },
   "source": [
    "* **Applying cross validation on 5 partitions of data using Random Forest.**\n",
    "* Printing the scores of individual partitions using random forest.\n",
    "* Printing the average of all scores"
   ]
  },
  {
   "cell_type": "code",
   "execution_count": 11,
   "metadata": {
    "_cell_guid": "97b2957e-5b10-41b6-8a05-a714ab93fe33",
    "_uuid": "2359ca8acb80e742dd6221259609b8e266bfd93b"
   },
   "outputs": [
    {
     "name": "stdout",
     "output_type": "stream",
     "text": [
      "Cross Validation scores using random forest \n",
      " [ 0.91754123  0.92503748  0.93253373  0.92492492  0.93393393]\n",
      "Mean of Cross Validation scores 0.93\n"
     ]
    }
   ],
   "source": [
    "rf_scores = cross_val_score(rf_clf, X, y, cv=5, scoring='accuracy')\n",
    "print('Cross Validation scores using random forest \\n',rf_scores)\n",
    "print('Mean of Cross Validation scores',round(rf_scores.mean(),2)) "
   ]
  },
  {
   "cell_type": "markdown",
   "metadata": {
    "_cell_guid": "170f74c3-d1a6-470f-ab56-662af2ef2d2a",
    "_uuid": "18af92387fb6a1f002e628d0a6f7f44751812244"
   },
   "source": [
    "**Confusion matrix to project the accuray of Random Forest Algorithm**"
   ]
  },
  {
   "cell_type": "code",
   "execution_count": 12,
   "metadata": {
    "_cell_guid": "b60bbcc6-39c2-4cdc-ae89-5a6d98822159",
    "_uuid": "613d54bb134cf2516ff5e33bf73b6ed4fd153744"
   },
   "outputs": [
    {
     "data": {
      "text/plain": [
       "Text(33,0.5,'Actual')"
      ]
     },
     "execution_count": 12,
     "metadata": {},
     "output_type": "execute_result"
    },
    {
     "data": {
      "image/png": "[encoded data removed]",
      "text/plain": [
       "<matplotlib.figure.Figure at 0x7f61990a8c50>"
      ]
     },
     "metadata": {},
     "output_type": "display_data"
    }
   ],
   "source": [
    "rf_conf = (metrics.confusion_matrix(y_test, rf_pred_test))\n",
    "cmap = sns.cubehelix_palette(50, hue=0.05, rot=0, light=0.9, dark=0, as_cmap=True)\n",
    "sns.heatmap(rf_conf,cmap = cmap,xticklabels=['0','1'],yticklabels=['0','1'],annot=True, fmt=\"d\",)\n",
    "plt.xlabel('Predicted')\n",
    "plt.ylabel('Actual')"
   ]
  },
  {
   "cell_type": "markdown",
   "metadata": {
    "_cell_guid": "c97e84ce-acb7-400c-8b5f-76d1815bcdb1",
    "_uuid": "31ec0b2c0509e753716f25b53271e22baa4eab23"
   },
   "source": [
    "**Computation of rates from confusion matrix**"
   ]
  },
  {
   "cell_type": "code",
   "execution_count": 13,
   "metadata": {
    "_cell_guid": "c72be6fb-192b-48a3-afe5-85e85643bf31",
    "_uuid": "262091a32a751afd64686237ddf199f551503686"
   },
   "outputs": [
    {
     "name": "stdout",
     "output_type": "stream",
     "text": [
      "False Positive  51\n",
      "False Negative  7\n",
      "True Positive  722\n",
      "True Negative  54\n",
      "\n",
      "True Positive Rate : 0.99\n",
      "\n",
      "True Negative Rate : 0.51\n",
      "\n",
      "Positive Predictive Value : 0.93\n",
      "\n",
      "Negative Predictive Value : 0.89\n",
      "\n",
      "False Positive Rate : 0.49\n",
      "\n",
      "False Negative Rate : 0.01\n",
      "\n",
      "False Discovery Rate : 0.07\n",
      "\n",
      "Overall accuracy : 0.93\n"
     ]
    }
   ],
   "source": [
    "FP = rf_conf[1][0]\n",
    "FN = rf_conf[0][1]\n",
    "TP = rf_conf[0][0]\n",
    "TN = rf_conf[1][1]\n",
    "print('False Positive ',FP)\n",
    "print('False Negative ',FN)\n",
    "print('True Positive ',TP)\n",
    "print('True Negative ',TN)\n",
    "# Sensitivity, hit rate, recall, or true positive rate\n",
    "TPR = TP/(TP+FN)\n",
    "print('\\nTrue Positive Rate :',round(TPR,2))\n",
    "# Specificity or true negative rate\n",
    "TNR = TN/(TN+FP) \n",
    "print('\\nTrue Negative Rate :',round(TNR,2))\n",
    "# Precision or positive predictive value\n",
    "PPV = TP/(TP+FP)\n",
    "print('\\nPositive Predictive Value :',round(PPV,2))\n",
    "# Negative predictive value\n",
    "NPV = TN/(TN+FN)\n",
    "print('\\nNegative Predictive Value :',round(NPV,2))\n",
    "# Fall out or false positive rate\n",
    "FPR = FP/(FP+TN)\n",
    "print('\\nFalse Positive Rate :',round(FPR,2))\n",
    "# False negative rate\n",
    "FNR = FN/(TP+FN)\n",
    "print('\\nFalse Negative Rate :',round(FNR,2))\n",
    "# False discovery rate\n",
    "FDR = FP/(TP+FP)\n",
    "print('\\nFalse Discovery Rate :',round(FDR,2))\n",
    "\n",
    "# Overall accuracy\n",
    "ACC = (TP+TN)/(TP+FP+FN+TN)\n",
    "print('\\nOverall accuracy :',round(ACC,2))"
   ]
  }
 ],
 "metadata": {
  "kernelspec": {
   "display_name": "Python 3",
   "language": "python",
   "name": "python3"
  },
  "language_info": {
   "codemirror_mode": {
    "name": "ipython",
    "version": 3
   },
   "file_extension": ".py",
   "mimetype": "text/x-python",
   "name": "python",
   "nbconvert_exporter": "python",
   "pygments_lexer": "ipython3",
   "version": "3.6.3"
  }
 },
 "nbformat": 4,
 "nbformat_minor": 1
}
