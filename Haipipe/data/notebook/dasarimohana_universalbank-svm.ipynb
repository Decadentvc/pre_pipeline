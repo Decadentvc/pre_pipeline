{
 "cells": [
  {
   "cell_type": "code",
   "execution_count": 1,
   "metadata": {
    "_cell_guid": "b1076dfc-b9ad-4769-8c92-a6c4dae69d19",
    "_uuid": "8f2839f25d086af736a60e9eeb907d3b93b6e0e5",
    "execution": {
     "iopub.execute_input": "2020-09-07T09:47:54.472401Z",
     "iopub.status.busy": "2020-09-07T09:47:54.471382Z",
     "iopub.status.idle": "2020-09-07T09:47:54.482175Z",
     "shell.execute_reply": "2020-09-07T09:47:54.481288Z"
    },
    "papermill": {
     "duration": 0.032348,
     "end_time": "2020-09-07T09:47:54.482347",
     "exception": false,
     "start_time": "2020-09-07T09:47:54.449999",
     "status": "completed"
    },
    "tags": []
   },
   "outputs": [
    {
     "name": "stdout",
     "output_type": "stream",
     "text": [
      "/kaggle/input/svm-classification/UniversalBank.csv\n",
      "/kaggle/input/svm-classification/SVM_Classification.R\n",
      "/kaggle/input/svm-classification/Activity Sheet.docx\n"
     ]
    }
   ],
   "source": [
    "# This Python 3 environment comes with many helpful analytics libraries installed\n",
    "# It is defined by the kaggle/python Docker image: https://github.com/kaggle/docker-python\n",
    "# For example, here's several helpful packages to load\n",
    "\n",
    "import numpy as np # linear algebra\n",
    "import pandas as pd # data processing, CSV file I/O (e.g. pd.read_csv)\n",
    "\n",
    "# Input data files are available in the read-only \"../input/\" directory\n",
    "# For example, running this (by clicking run or pressing Shift+Enter) will list all files under the input directory\n",
    "\n",
    "import os\n",
    "for dirname, _, filenames in os.walk('/kaggle/input'):\n",
    "    for filename in filenames:\n",
    "        print(os.path.join(dirname, filename))\n",
    "\n",
    "# You can write up to 5GB to the current directory (/kaggle/working/) that gets preserved as output when you create a version using \"Save & Run All\" \n",
    "# You can also write temporary files to /kaggle/temp/, but they won't be saved outside of the current session"
   ]
  },
  {
   "cell_type": "code",
   "execution_count": 2,
   "metadata": {
    "_cell_guid": "79c7e3d0-c299-4dcb-8224-4455121ee9b0",
    "_uuid": "d629ff2d2480ee46fbb7e2d37f6b5fab8052498a",
    "execution": {
     "iopub.execute_input": "2020-09-07T09:47:54.518119Z",
     "iopub.status.busy": "2020-09-07T09:47:54.517205Z",
     "iopub.status.idle": "2020-09-07T09:47:55.786621Z",
     "shell.execute_reply": "2020-09-07T09:47:55.785950Z"
    },
    "papermill": {
     "duration": 1.289974,
     "end_time": "2020-09-07T09:47:55.786761",
     "exception": false,
     "start_time": "2020-09-07T09:47:54.496787",
     "status": "completed"
    },
    "tags": []
   },
   "outputs": [],
   "source": [
    "# Importing Required libraries\n",
    "import numpy as np\n",
    "import pandas as pd\n",
    "import matplotlib.pyplot as plt\n",
    "import seaborn as sns"
   ]
  },
  {
   "cell_type": "code",
   "execution_count": 3,
   "metadata": {
    "execution": {
     "iopub.execute_input": "2020-09-07T09:47:55.821112Z",
     "iopub.status.busy": "2020-09-07T09:47:55.820367Z",
     "iopub.status.idle": "2020-09-07T09:47:55.874189Z",
     "shell.execute_reply": "2020-09-07T09:47:55.873573Z"
    },
    "papermill": {
     "duration": 0.074364,
     "end_time": "2020-09-07T09:47:55.874321",
     "exception": false,
     "start_time": "2020-09-07T09:47:55.799957",
     "status": "completed"
    },
    "tags": []
   },
   "outputs": [
    {
     "data": {
      "text/html": [
       "<div>\n",
       "<style scoped>\n",
       "    .dataframe tbody tr th:only-of-type {\n",
       "        vertical-align: middle;\n",
       "    }\n",
       "\n",
       "    .dataframe tbody tr th {\n",
       "        vertical-align: top;\n",
       "    }\n",
       "\n",
       "    .dataframe thead th {\n",
       "        text-align: right;\n",
       "    }\n",
       "</style>\n",
       "<table border=\"1\" class=\"dataframe\">\n",
       "  <thead>\n",
       "    <tr style=\"text-align: right;\">\n",
       "      <th></th>\n",
       "      <th>ID</th>\n",
       "      <th>Age</th>\n",
       "      <th>Experience</th>\n",
       "      <th>Income</th>\n",
       "      <th>ZIP Code</th>\n",
       "      <th>Family</th>\n",
       "      <th>CCAvg</th>\n",
       "      <th>Education</th>\n",
       "      <th>Mortgage</th>\n",
       "      <th>Personal Loan</th>\n",
       "      <th>Securities Account</th>\n",
       "      <th>CD Account</th>\n",
       "      <th>Online</th>\n",
       "      <th>CreditCard</th>\n",
       "    </tr>\n",
       "  </thead>\n",
       "  <tbody>\n",
       "    <tr>\n",
       "      <th>0</th>\n",
       "      <td>1</td>\n",
       "      <td>25</td>\n",
       "      <td>1</td>\n",
       "      <td>49</td>\n",
       "      <td>91107</td>\n",
       "      <td>4</td>\n",
       "      <td>1.6</td>\n",
       "      <td>1</td>\n",
       "      <td>0</td>\n",
       "      <td>0</td>\n",
       "      <td>1</td>\n",
       "      <td>0</td>\n",
       "      <td>0</td>\n",
       "      <td>0</td>\n",
       "    </tr>\n",
       "    <tr>\n",
       "      <th>1</th>\n",
       "      <td>2</td>\n",
       "      <td>45</td>\n",
       "      <td>19</td>\n",
       "      <td>34</td>\n",
       "      <td>90089</td>\n",
       "      <td>3</td>\n",
       "      <td>1.5</td>\n",
       "      <td>1</td>\n",
       "      <td>0</td>\n",
       "      <td>0</td>\n",
       "      <td>1</td>\n",
       "      <td>0</td>\n",
       "      <td>0</td>\n",
       "      <td>0</td>\n",
       "    </tr>\n",
       "    <tr>\n",
       "      <th>2</th>\n",
       "      <td>3</td>\n",
       "      <td>39</td>\n",
       "      <td>15</td>\n",
       "      <td>11</td>\n",
       "      <td>94720</td>\n",
       "      <td>1</td>\n",
       "      <td>1.0</td>\n",
       "      <td>1</td>\n",
       "      <td>0</td>\n",
       "      <td>0</td>\n",
       "      <td>0</td>\n",
       "      <td>0</td>\n",
       "      <td>0</td>\n",
       "      <td>0</td>\n",
       "    </tr>\n",
       "    <tr>\n",
       "      <th>3</th>\n",
       "      <td>4</td>\n",
       "      <td>35</td>\n",
       "      <td>9</td>\n",
       "      <td>100</td>\n",
       "      <td>94112</td>\n",
       "      <td>1</td>\n",
       "      <td>2.7</td>\n",
       "      <td>2</td>\n",
       "      <td>0</td>\n",
       "      <td>0</td>\n",
       "      <td>0</td>\n",
       "      <td>0</td>\n",
       "      <td>0</td>\n",
       "      <td>0</td>\n",
       "    </tr>\n",
       "    <tr>\n",
       "      <th>4</th>\n",
       "      <td>5</td>\n",
       "      <td>35</td>\n",
       "      <td>8</td>\n",
       "      <td>45</td>\n",
       "      <td>91330</td>\n",
       "      <td>4</td>\n",
       "      <td>1.0</td>\n",
       "      <td>2</td>\n",
       "      <td>0</td>\n",
       "      <td>0</td>\n",
       "      <td>0</td>\n",
       "      <td>0</td>\n",
       "      <td>0</td>\n",
       "      <td>1</td>\n",
       "    </tr>\n",
       "  </tbody>\n",
       "</table>\n",
       "</div>"
      ],
      "text/plain": [
       "   ID  Age  Experience  Income  ZIP Code  Family  CCAvg  Education  Mortgage  \\\n",
       "0   1   25           1      49     91107       4    1.6          1         0   \n",
       "1   2   45          19      34     90089       3    1.5          1         0   \n",
       "2   3   39          15      11     94720       1    1.0          1         0   \n",
       "3   4   35           9     100     94112       1    2.7          2         0   \n",
       "4   5   35           8      45     91330       4    1.0          2         0   \n",
       "\n",
       "   Personal Loan  Securities Account  CD Account  Online  CreditCard  \n",
       "0              0                   1           0       0           0  \n",
       "1              0                   1           0       0           0  \n",
       "2              0                   0           0       0           0  \n",
       "3              0                   0           0       0           0  \n",
       "4              0                   0           0       0           1  "
      ]
     },
     "execution_count": 3,
     "metadata": {},
     "output_type": "execute_result"
    }
   ],
   "source": [
    "# Importing the dataset\n",
    "df = pd.read_csv('../input/svm-classification/UniversalBank.csv')\n",
    "df.head()"
   ]
  },
  {
   "cell_type": "code",
   "execution_count": 4,
   "metadata": {
    "execution": {
     "iopub.execute_input": "2020-09-07T09:47:55.908716Z",
     "iopub.status.busy": "2020-09-07T09:47:55.907933Z",
     "iopub.status.idle": "2020-09-07T09:47:55.939710Z",
     "shell.execute_reply": "2020-09-07T09:47:55.938842Z"
    },
    "papermill": {
     "duration": 0.051271,
     "end_time": "2020-09-07T09:47:55.939837",
     "exception": false,
     "start_time": "2020-09-07T09:47:55.888566",
     "status": "completed"
    },
    "tags": []
   },
   "outputs": [
    {
     "data": {
      "text/plain": [
       "ID                    0.0\n",
       "Age                   0.0\n",
       "Experience            0.0\n",
       "Income                0.0\n",
       "ZIP Code              0.0\n",
       "Family                0.0\n",
       "CCAvg                 0.0\n",
       "Education             0.0\n",
       "Mortgage              0.0\n",
       "Personal Loan         0.0\n",
       "Securities Account    0.0\n",
       "CD Account            0.0\n",
       "Online                0.0\n",
       "CreditCard            0.0\n",
       "dtype: float64"
      ]
     },
     "execution_count": 4,
     "metadata": {},
     "output_type": "execute_result"
    }
   ],
   "source": [
    "# Check for null values in dataset\n",
    "df.isnull().mean()*100"
   ]
  },
  {
   "cell_type": "code",
   "execution_count": 5,
   "metadata": {
    "execution": {
     "iopub.execute_input": "2020-09-07T09:47:55.991791Z",
     "iopub.status.busy": "2020-09-07T09:47:55.990729Z",
     "iopub.status.idle": "2020-09-07T09:47:55.996065Z",
     "shell.execute_reply": "2020-09-07T09:47:55.995472Z"
    },
    "papermill": {
     "duration": 0.041834,
     "end_time": "2020-09-07T09:47:55.996213",
     "exception": false,
     "start_time": "2020-09-07T09:47:55.954379",
     "status": "completed"
    },
    "tags": []
   },
   "outputs": [
    {
     "data": {
      "text/html": [
       "<div>\n",
       "<style scoped>\n",
       "    .dataframe tbody tr th:only-of-type {\n",
       "        vertical-align: middle;\n",
       "    }\n",
       "\n",
       "    .dataframe tbody tr th {\n",
       "        vertical-align: top;\n",
       "    }\n",
       "\n",
       "    .dataframe thead th {\n",
       "        text-align: right;\n",
       "    }\n",
       "</style>\n",
       "<table border=\"1\" class=\"dataframe\">\n",
       "  <thead>\n",
       "    <tr style=\"text-align: right;\">\n",
       "      <th></th>\n",
       "      <th>ID</th>\n",
       "      <th>Age</th>\n",
       "      <th>Experience</th>\n",
       "      <th>Income</th>\n",
       "      <th>ZIP Code</th>\n",
       "      <th>Family</th>\n",
       "      <th>CCAvg</th>\n",
       "      <th>Education</th>\n",
       "      <th>Mortgage</th>\n",
       "      <th>Personal Loan</th>\n",
       "      <th>Securities Account</th>\n",
       "      <th>CD Account</th>\n",
       "      <th>Online</th>\n",
       "    </tr>\n",
       "  </thead>\n",
       "  <tbody>\n",
       "    <tr>\n",
       "      <th>0</th>\n",
       "      <td>1</td>\n",
       "      <td>25</td>\n",
       "      <td>1</td>\n",
       "      <td>49</td>\n",
       "      <td>91107</td>\n",
       "      <td>4</td>\n",
       "      <td>1.6</td>\n",
       "      <td>1</td>\n",
       "      <td>0</td>\n",
       "      <td>0</td>\n",
       "      <td>1</td>\n",
       "      <td>0</td>\n",
       "      <td>0</td>\n",
       "    </tr>\n",
       "    <tr>\n",
       "      <th>1</th>\n",
       "      <td>2</td>\n",
       "      <td>45</td>\n",
       "      <td>19</td>\n",
       "      <td>34</td>\n",
       "      <td>90089</td>\n",
       "      <td>3</td>\n",
       "      <td>1.5</td>\n",
       "      <td>1</td>\n",
       "      <td>0</td>\n",
       "      <td>0</td>\n",
       "      <td>1</td>\n",
       "      <td>0</td>\n",
       "      <td>0</td>\n",
       "    </tr>\n",
       "    <tr>\n",
       "      <th>2</th>\n",
       "      <td>3</td>\n",
       "      <td>39</td>\n",
       "      <td>15</td>\n",
       "      <td>11</td>\n",
       "      <td>94720</td>\n",
       "      <td>1</td>\n",
       "      <td>1.0</td>\n",
       "      <td>1</td>\n",
       "      <td>0</td>\n",
       "      <td>0</td>\n",
       "      <td>0</td>\n",
       "      <td>0</td>\n",
       "      <td>0</td>\n",
       "    </tr>\n",
       "    <tr>\n",
       "      <th>3</th>\n",
       "      <td>4</td>\n",
       "      <td>35</td>\n",
       "      <td>9</td>\n",
       "      <td>100</td>\n",
       "      <td>94112</td>\n",
       "      <td>1</td>\n",
       "      <td>2.7</td>\n",
       "      <td>2</td>\n",
       "      <td>0</td>\n",
       "      <td>0</td>\n",
       "      <td>0</td>\n",
       "      <td>0</td>\n",
       "      <td>0</td>\n",
       "    </tr>\n",
       "    <tr>\n",
       "      <th>4</th>\n",
       "      <td>5</td>\n",
       "      <td>35</td>\n",
       "      <td>8</td>\n",
       "      <td>45</td>\n",
       "      <td>91330</td>\n",
       "      <td>4</td>\n",
       "      <td>1.0</td>\n",
       "      <td>2</td>\n",
       "      <td>0</td>\n",
       "      <td>0</td>\n",
       "      <td>0</td>\n",
       "      <td>0</td>\n",
       "      <td>0</td>\n",
       "    </tr>\n",
       "  </tbody>\n",
       "</table>\n",
       "</div>"
      ],
      "text/plain": [
       "   ID  Age  Experience  Income  ZIP Code  Family  CCAvg  Education  Mortgage  \\\n",
       "0   1   25           1      49     91107       4    1.6          1         0   \n",
       "1   2   45          19      34     90089       3    1.5          1         0   \n",
       "2   3   39          15      11     94720       1    1.0          1         0   \n",
       "3   4   35           9     100     94112       1    2.7          2         0   \n",
       "4   5   35           8      45     91330       4    1.0          2         0   \n",
       "\n",
       "   Personal Loan  Securities Account  CD Account  Online  \n",
       "0              0                   1           0       0  \n",
       "1              0                   1           0       0  \n",
       "2              0                   0           0       0  \n",
       "3              0                   0           0       0  \n",
       "4              0                   0           0       0  "
      ]
     },
     "execution_count": 5,
     "metadata": {},
     "output_type": "execute_result"
    }
   ],
   "source": [
    "# Assigning X and y values for the dataset\n",
    "X = df.loc[:,df.columns!='CreditCard']\n",
    "X.head()"
   ]
  },
  {
   "cell_type": "code",
   "execution_count": 6,
   "metadata": {
    "execution": {
     "iopub.execute_input": "2020-09-07T09:47:56.034266Z",
     "iopub.status.busy": "2020-09-07T09:47:56.033431Z",
     "iopub.status.idle": "2020-09-07T09:47:56.038075Z",
     "shell.execute_reply": "2020-09-07T09:47:56.037454Z"
    },
    "papermill": {
     "duration": 0.026676,
     "end_time": "2020-09-07T09:47:56.038214",
     "exception": false,
     "start_time": "2020-09-07T09:47:56.011538",
     "status": "completed"
    },
    "tags": []
   },
   "outputs": [
    {
     "data": {
      "text/plain": [
       "0    0\n",
       "1    0\n",
       "2    0\n",
       "3    0\n",
       "4    1\n",
       "Name: CreditCard, dtype: int64"
      ]
     },
     "execution_count": 6,
     "metadata": {},
     "output_type": "execute_result"
    }
   ],
   "source": [
    "y = df['CreditCard']\n",
    "y.head()"
   ]
  },
  {
   "cell_type": "code",
   "execution_count": 7,
   "metadata": {
    "execution": {
     "iopub.execute_input": "2020-09-07T09:47:56.077186Z",
     "iopub.status.busy": "2020-09-07T09:47:56.076329Z",
     "iopub.status.idle": "2020-09-07T09:47:56.188883Z",
     "shell.execute_reply": "2020-09-07T09:47:56.188121Z"
    },
    "papermill": {
     "duration": 0.134247,
     "end_time": "2020-09-07T09:47:56.189038",
     "exception": false,
     "start_time": "2020-09-07T09:47:56.054791",
     "status": "completed"
    },
    "tags": []
   },
   "outputs": [],
   "source": [
    "# Splitting Train and Test values\n",
    "from sklearn.model_selection import train_test_split\n",
    "X_train, X_test, y_train, y_test = train_test_split(X, y, test_size=0.3, random_state=None)"
   ]
  },
  {
   "cell_type": "code",
   "execution_count": 8,
   "metadata": {
    "execution": {
     "iopub.execute_input": "2020-09-07T09:47:56.230366Z",
     "iopub.status.busy": "2020-09-07T09:47:56.229587Z",
     "iopub.status.idle": "2020-09-07T09:47:56.240551Z",
     "shell.execute_reply": "2020-09-07T09:47:56.239736Z"
    },
    "papermill": {
     "duration": 0.035157,
     "end_time": "2020-09-07T09:47:56.240686",
     "exception": false,
     "start_time": "2020-09-07T09:47:56.205529",
     "status": "completed"
    },
    "tags": []
   },
   "outputs": [],
   "source": [
    "# Feature Scaling\n",
    "from sklearn.preprocessing import StandardScaler\n",
    "sc = StandardScaler()\n",
    "X_train = sc.fit_transform(X_train)\n",
    "X_test = sc.transform(X_test)"
   ]
  },
  {
   "cell_type": "markdown",
   "execution_count": null,
   "metadata": {
    "papermill": {
     "duration": 0.016025,
     "end_time": "2020-09-07T09:47:56.273110",
     "exception": false,
     "start_time": "2020-09-07T09:47:56.257085",
     "status": "completed"
    },
    "tags": []
   },
   "source": [
    "# SVM (Support Vector Machine)"
   ]
  },
  {
   "cell_type": "code",
   "execution_count": 9,
   "metadata": {
    "execution": {
     "iopub.execute_input": "2020-09-07T09:47:56.313176Z",
     "iopub.status.busy": "2020-09-07T09:47:56.312355Z",
     "iopub.status.idle": "2020-09-07T09:47:57.181663Z",
     "shell.execute_reply": "2020-09-07T09:47:57.181039Z"
    },
    "papermill": {
     "duration": 0.891498,
     "end_time": "2020-09-07T09:47:57.181796",
     "exception": false,
     "start_time": "2020-09-07T09:47:56.290298",
     "status": "completed"
    },
    "tags": []
   },
   "outputs": [
    {
     "data": {
      "text/plain": [
       "SVC()"
      ]
     },
     "execution_count": 9,
     "metadata": {},
     "output_type": "execute_result"
    }
   ],
   "source": [
    "# import svc\n",
    "from sklearn.svm import SVC\n",
    "\n",
    "# Creating a instance\n",
    "classifier = SVC(kernel='rbf',random_state=None)\n",
    "\n",
    "# Fitting the model\n",
    "classifier.fit(X_train, y_train)"
   ]
  },
  {
   "cell_type": "code",
   "execution_count": 10,
   "metadata": {
    "execution": {
     "iopub.execute_input": "2020-09-07T09:47:57.222307Z",
     "iopub.status.busy": "2020-09-07T09:47:57.221177Z",
     "iopub.status.idle": "2020-09-07T09:47:57.226263Z",
     "shell.execute_reply": "2020-09-07T09:47:57.225660Z"
    },
    "papermill": {
     "duration": 0.027484,
     "end_time": "2020-09-07T09:47:57.226426",
     "exception": false,
     "start_time": "2020-09-07T09:47:57.198942",
     "status": "completed"
    },
    "tags": []
   },
   "outputs": [
    {
     "data": {
      "text/plain": [
       "array([-0.52729875])"
      ]
     },
     "execution_count": 10,
     "metadata": {},
     "output_type": "execute_result"
    }
   ],
   "source": [
    "classifier.intercept_"
   ]
  },
  {
   "cell_type": "code",
   "execution_count": 11,
   "metadata": {
    "execution": {
     "iopub.execute_input": "2020-09-07T09:47:57.267227Z",
     "iopub.status.busy": "2020-09-07T09:47:57.266112Z",
     "iopub.status.idle": "2020-09-07T09:47:57.271181Z",
     "shell.execute_reply": "2020-09-07T09:47:57.270430Z"
    },
    "papermill": {
     "duration": 0.028207,
     "end_time": "2020-09-07T09:47:57.271308",
     "exception": false,
     "start_time": "2020-09-07T09:47:57.243101",
     "status": "completed"
    },
    "tags": []
   },
   "outputs": [
    {
     "data": {
      "text/plain": [
       "array([1313,  947], dtype=int32)"
      ]
     },
     "execution_count": 11,
     "metadata": {},
     "output_type": "execute_result"
    }
   ],
   "source": [
    "classifier.n_support_"
   ]
  },
  {
   "cell_type": "code",
   "execution_count": 12,
   "metadata": {
    "execution": {
     "iopub.execute_input": "2020-09-07T09:47:57.312374Z",
     "iopub.status.busy": "2020-09-07T09:47:57.311298Z",
     "iopub.status.idle": "2020-09-07T09:47:57.314736Z",
     "shell.execute_reply": "2020-09-07T09:47:57.315316Z"
    },
    "papermill": {
     "duration": 0.027125,
     "end_time": "2020-09-07T09:47:57.315478",
     "exception": false,
     "start_time": "2020-09-07T09:47:57.288353",
     "status": "completed"
    },
    "tags": []
   },
   "outputs": [
    {
     "data": {
      "text/plain": [
       "array([[-1.33287451,  0.30986962,  0.41774853, ...,  2.93970633,\n",
       "         3.84262485, -1.22183366],\n",
       "       [-0.42943771,  0.48384198,  0.33076936, ..., -0.34017003,\n",
       "        -0.26023878,  0.81844201],\n",
       "       [-1.33771311,  0.48384198,  0.59170687, ..., -0.34017003,\n",
       "        -0.26023878,  0.81844201],\n",
       "       ...,\n",
       "       [ 0.6647784 ,  1.52767614,  1.46149858, ..., -0.34017003,\n",
       "        -0.26023878,  0.81844201],\n",
       "       [-0.10386867,  0.48384198,  0.41774853, ..., -0.34017003,\n",
       "        -0.26023878,  0.81844201],\n",
       "       [-0.52966597, -1.77779868, -1.75673073, ..., -0.34017003,\n",
       "        -0.26023878,  0.81844201]])"
      ]
     },
     "execution_count": 12,
     "metadata": {},
     "output_type": "execute_result"
    }
   ],
   "source": [
    "classifier.support_vectors_"
   ]
  },
  {
   "cell_type": "code",
   "execution_count": 13,
   "metadata": {
    "execution": {
     "iopub.execute_input": "2020-09-07T09:47:57.357326Z",
     "iopub.status.busy": "2020-09-07T09:47:57.356261Z",
     "iopub.status.idle": "2020-09-07T09:47:57.797644Z",
     "shell.execute_reply": "2020-09-07T09:47:57.796980Z"
    },
    "papermill": {
     "duration": 0.464692,
     "end_time": "2020-09-07T09:47:57.797783",
     "exception": false,
     "start_time": "2020-09-07T09:47:57.333091",
     "status": "completed"
    },
    "tags": []
   },
   "outputs": [],
   "source": [
    "# Predicting the values\n",
    "y_pred_train = classifier.predict(X_train)\n",
    "y_pred_test = classifier.predict(X_test)"
   ]
  },
  {
   "cell_type": "code",
   "execution_count": 14,
   "metadata": {
    "execution": {
     "iopub.execute_input": "2020-09-07T09:47:57.839876Z",
     "iopub.status.busy": "2020-09-07T09:47:57.839086Z",
     "iopub.status.idle": "2020-09-07T09:47:57.854397Z",
     "shell.execute_reply": "2020-09-07T09:47:57.855137Z"
    },
    "papermill": {
     "duration": 0.040332,
     "end_time": "2020-09-07T09:47:57.855317",
     "exception": false,
     "start_time": "2020-09-07T09:47:57.814985",
     "status": "completed"
    },
    "tags": []
   },
   "outputs": [
    {
     "name": "stdout",
     "output_type": "stream",
     "text": [
      "[[2437   18]\n",
      " [ 872  173]]\n",
      "[[1067    8]\n",
      " [ 368   57]]\n"
     ]
    }
   ],
   "source": [
    "from sklearn.metrics import confusion_matrix, accuracy_score\n",
    "\n",
    "# Confusion matrix\n",
    "cm_train = confusion_matrix(y_train, y_pred_train)\n",
    "print(cm_train)\n",
    "\n",
    "cm_test = confusion_matrix(y_test, y_pred_test)\n",
    "print(cm_test)"
   ]
  },
  {
   "cell_type": "code",
   "execution_count": 15,
   "metadata": {
    "execution": {
     "iopub.execute_input": "2020-09-07T09:47:57.896420Z",
     "iopub.status.busy": "2020-09-07T09:47:57.895287Z",
     "iopub.status.idle": "2020-09-07T09:47:57.901039Z",
     "shell.execute_reply": "2020-09-07T09:47:57.900422Z"
    },
    "papermill": {
     "duration": 0.028649,
     "end_time": "2020-09-07T09:47:57.901188",
     "exception": false,
     "start_time": "2020-09-07T09:47:57.872539",
     "status": "completed"
    },
    "tags": []
   },
   "outputs": [
    {
     "name": "stdout",
     "output_type": "stream",
     "text": [
      "0.7457142857142857\n"
     ]
    }
   ],
   "source": [
    "# Accuracy\n",
    "accuracy_train = accuracy_score(y_train, y_pred_train)\n",
    "print(accuracy_train)"
   ]
  },
  {
   "cell_type": "code",
   "execution_count": 16,
   "metadata": {
    "execution": {
     "iopub.execute_input": "2020-09-07T09:47:57.942786Z",
     "iopub.status.busy": "2020-09-07T09:47:57.941639Z",
     "iopub.status.idle": "2020-09-07T09:47:57.947307Z",
     "shell.execute_reply": "2020-09-07T09:47:57.946442Z"
    },
    "papermill": {
     "duration": 0.028717,
     "end_time": "2020-09-07T09:47:57.947481",
     "exception": false,
     "start_time": "2020-09-07T09:47:57.918764",
     "status": "completed"
    },
    "tags": []
   },
   "outputs": [
    {
     "name": "stdout",
     "output_type": "stream",
     "text": [
      "0.7493333333333333\n"
     ]
    }
   ],
   "source": [
    "accuracy_test = accuracy_score(y_test, y_pred_test)\n",
    "print(accuracy_test)"
   ]
  },
  {
   "cell_type": "markdown",
   "execution_count": null,
   "metadata": {
    "papermill": {
     "duration": 0.017442,
     "end_time": "2020-09-07T09:47:57.983446",
     "exception": false,
     "start_time": "2020-09-07T09:47:57.966004",
     "status": "completed"
    },
    "tags": []
   },
   "source": [
    "**The accuracies for both train and test models are approx same**"
   ]
  },
  {
   "cell_type": "code",
   "execution_count": 17,
   "metadata": {
    "execution": {
     "iopub.execute_input": "2020-09-07T09:47:58.024826Z",
     "iopub.status.busy": "2020-09-07T09:47:58.023991Z",
     "iopub.status.idle": "2020-09-07T09:47:58.044237Z",
     "shell.execute_reply": "2020-09-07T09:47:58.043439Z"
    },
    "papermill": {
     "duration": 0.043373,
     "end_time": "2020-09-07T09:47:58.044366",
     "exception": false,
     "start_time": "2020-09-07T09:47:58.000993",
     "status": "completed"
    },
    "tags": []
   },
   "outputs": [
    {
     "name": "stdout",
     "output_type": "stream",
     "text": [
      "                          ID       Age  Experience    Income  ZIP Code  \\\n",
      "ID                  1.000000 -0.008473   -0.008326 -0.017695  0.013432   \n",
      "Age                -0.008473  1.000000    0.994215 -0.055269 -0.029216   \n",
      "Experience         -0.008326  0.994215    1.000000 -0.046574 -0.028626   \n",
      "Income             -0.017695 -0.055269   -0.046574  1.000000 -0.016410   \n",
      "ZIP Code            0.013432 -0.029216   -0.028626 -0.016410  1.000000   \n",
      "Family             -0.016797 -0.046418   -0.052563 -0.157501  0.011778   \n",
      "CCAvg              -0.024675 -0.052012   -0.050077  0.645984 -0.004061   \n",
      "Education           0.021463  0.041334    0.013152 -0.187524 -0.017377   \n",
      "Mortgage           -0.013920 -0.012539   -0.010582  0.206806  0.007383   \n",
      "Personal Loan      -0.024801 -0.007726   -0.007413  0.502462  0.000107   \n",
      "Securities Account -0.016972 -0.000436   -0.001232 -0.002616  0.004704   \n",
      "CD Account         -0.006909  0.008043    0.010353  0.169738  0.019972   \n",
      "Online             -0.002528  0.013702    0.013898  0.014206  0.016990   \n",
      "CreditCard          0.017028  0.007681    0.008967 -0.002385  0.007691   \n",
      "\n",
      "                      Family     CCAvg  Education  Mortgage  Personal Loan  \\\n",
      "ID                 -0.016797 -0.024675   0.021463 -0.013920      -0.024801   \n",
      "Age                -0.046418 -0.052012   0.041334 -0.012539      -0.007726   \n",
      "Experience         -0.052563 -0.050077   0.013152 -0.010582      -0.007413   \n",
      "Income             -0.157501  0.645984  -0.187524  0.206806       0.502462   \n",
      "ZIP Code            0.011778 -0.004061  -0.017377  0.007383       0.000107   \n",
      "Family              1.000000 -0.109275   0.064929 -0.020445       0.061367   \n",
      "CCAvg              -0.109275  1.000000  -0.136124  0.109905       0.366889   \n",
      "Education           0.064929 -0.136124   1.000000 -0.033327       0.136722   \n",
      "Mortgage           -0.020445  0.109905  -0.033327  1.000000       0.142095   \n",
      "Personal Loan       0.061367  0.366889   0.136722  0.142095       1.000000   \n",
      "Securities Account  0.019994  0.015086  -0.010812 -0.005411       0.021954   \n",
      "CD Account          0.014110  0.136534   0.013934  0.089311       0.316355   \n",
      "Online              0.010354 -0.003611  -0.015004 -0.005995       0.006278   \n",
      "CreditCard          0.011588 -0.006689  -0.011014 -0.007231       0.002802   \n",
      "\n",
      "                    Securities Account  CD Account    Online  CreditCard  \n",
      "ID                           -0.016972   -0.006909 -0.002528    0.017028  \n",
      "Age                          -0.000436    0.008043  0.013702    0.007681  \n",
      "Experience                   -0.001232    0.010353  0.013898    0.008967  \n",
      "Income                       -0.002616    0.169738  0.014206   -0.002385  \n",
      "ZIP Code                      0.004704    0.019972  0.016990    0.007691  \n",
      "Family                        0.019994    0.014110  0.010354    0.011588  \n",
      "CCAvg                         0.015086    0.136534 -0.003611   -0.006689  \n",
      "Education                    -0.010812    0.013934 -0.015004   -0.011014  \n",
      "Mortgage                     -0.005411    0.089311 -0.005995   -0.007231  \n",
      "Personal Loan                 0.021954    0.316355  0.006278    0.002802  \n",
      "Securities Account            1.000000    0.317034  0.012627   -0.015028  \n",
      "CD Account                    0.317034    1.000000  0.175880    0.278644  \n",
      "Online                        0.012627    0.175880  1.000000    0.004210  \n",
      "CreditCard                   -0.015028    0.278644  0.004210    1.000000  \n"
     ]
    }
   ],
   "source": [
    "# Correlation\n",
    "c = df.corr()\n",
    "print(c)"
   ]
  },
  {
   "cell_type": "code",
   "execution_count": 18,
   "metadata": {
    "execution": {
     "iopub.execute_input": "2020-09-07T09:47:58.086985Z",
     "iopub.status.busy": "2020-09-07T09:47:58.086164Z",
     "iopub.status.idle": "2020-09-07T09:47:59.135324Z",
     "shell.execute_reply": "2020-09-07T09:47:59.135931Z"
    },
    "papermill": {
     "duration": 1.073449,
     "end_time": "2020-09-07T09:47:59.136089",
     "exception": false,
     "start_time": "2020-09-07T09:47:58.062640",
     "status": "completed"
    },
    "tags": []
   },
   "outputs": [
    {
     "data": {
      "text/plain": [
       "<matplotlib.axes._subplots.AxesSubplot at 0x7fab5f80ad50>"
      ]
     },
     "execution_count": 18,
     "metadata": {},
     "output_type": "execute_result"
    },
    {
     "data": {
      "image/png": "[encoded data removed]",
      "text/plain": [
       "<Figure size 720x576 with 2 Axes>"
      ]
     },
     "metadata": {
      "needs_background": "light"
     },
     "output_type": "display_data"
    }
   ],
   "source": [
    "# Heat map\n",
    "plt.figure(figsize=(10,8))\n",
    "sns.heatmap(c,cmap='BrBG',annot=True)"
   ]
  },
  {
   "cell_type": "markdown",
   "execution_count": null,
   "metadata": {
    "papermill": {
     "duration": 0.019043,
     "end_time": "2020-09-07T09:47:59.174697",
     "exception": false,
     "start_time": "2020-09-07T09:47:59.155654",
     "status": "completed"
    },
    "tags": []
   },
   "source": [
    "# Data Visualization"
   ]
  },
  {
   "cell_type": "code",
   "execution_count": 19,
   "metadata": {
    "execution": {
     "iopub.execute_input": "2020-09-07T09:47:59.224053Z",
     "iopub.status.busy": "2020-09-07T09:47:59.222940Z",
     "iopub.status.idle": "2020-09-07T09:47:59.442079Z",
     "shell.execute_reply": "2020-09-07T09:47:59.441331Z"
    },
    "papermill": {
     "duration": 0.248224,
     "end_time": "2020-09-07T09:47:59.442223",
     "exception": false,
     "start_time": "2020-09-07T09:47:59.193999",
     "status": "completed"
    },
    "tags": []
   },
   "outputs": [
    {
     "data": {
      "text/plain": [
       "<matplotlib.axes._subplots.AxesSubplot at 0x7fab5a8f2950>"
      ]
     },
     "execution_count": 19,
     "metadata": {},
     "output_type": "execute_result"
    },
    {
     "data": {
      "image/png": "[encoded data removed]",
      "text/plain": [
       "<Figure size 432x288 with 1 Axes>"
      ]
     },
     "metadata": {
      "needs_background": "light"
     },
     "output_type": "display_data"
    }
   ],
   "source": [
    "# Creditcard count\n",
    "sns.countplot(df['CreditCard'])"
   ]
  },
  {
   "cell_type": "code",
   "execution_count": 20,
   "metadata": {
    "execution": {
     "iopub.execute_input": "2020-09-07T09:47:59.490115Z",
     "iopub.status.busy": "2020-09-07T09:47:59.488218Z",
     "iopub.status.idle": "2020-09-07T09:48:00.175595Z",
     "shell.execute_reply": "2020-09-07T09:48:00.176169Z"
    },
    "papermill": {
     "duration": 0.713934,
     "end_time": "2020-09-07T09:48:00.176348",
     "exception": false,
     "start_time": "2020-09-07T09:47:59.462414",
     "status": "completed"
    },
    "tags": []
   },
   "outputs": [
    {
     "data": {
      "text/plain": [
       "<matplotlib.axes._subplots.AxesSubplot at 0x7fab5a380f10>"
      ]
     },
     "execution_count": 20,
     "metadata": {},
     "output_type": "execute_result"
    },
    {
     "data": {
      "image/png": "[encoded data removed]",
      "text/plain": [
       "<Figure size 720x576 with 1 Axes>"
      ]
     },
     "metadata": {
      "needs_background": "light"
     },
     "output_type": "display_data"
    }
   ],
   "source": [
    "# Credit card issue according to age\n",
    "plt.figure(figsize=(10,8))\n",
    "sns.countplot(df['Age'],hue=df['CreditCard'])"
   ]
  },
  {
   "cell_type": "code",
   "execution_count": 21,
   "metadata": {
    "execution": {
     "iopub.execute_input": "2020-09-07T09:48:00.224315Z",
     "iopub.status.busy": "2020-09-07T09:48:00.223347Z",
     "iopub.status.idle": "2020-09-07T09:48:00.403041Z",
     "shell.execute_reply": "2020-09-07T09:48:00.402365Z"
    },
    "papermill": {
     "duration": 0.206912,
     "end_time": "2020-09-07T09:48:00.403183",
     "exception": false,
     "start_time": "2020-09-07T09:48:00.196271",
     "status": "completed"
    },
    "tags": []
   },
   "outputs": [
    {
     "data": {
      "text/plain": [
       "<matplotlib.axes._subplots.AxesSubplot at 0x7fab588c0f10>"
      ]
     },
     "execution_count": 21,
     "metadata": {},
     "output_type": "execute_result"
    },
    {
     "data": {
      "image/png": "[encoded data removed]",
      "text/plain": [
       "<Figure size 432x288 with 1 Axes>"
      ]
     },
     "metadata": {
      "needs_background": "light"
     },
     "output_type": "display_data"
    }
   ],
   "source": [
    "# Credit card issue according to Family members\n",
    "sns.countplot(df['Family'],hue=df['CreditCard'])"
   ]
  },
  {
   "cell_type": "code",
   "execution_count": 22,
   "metadata": {
    "execution": {
     "iopub.execute_input": "2020-09-07T09:48:00.450342Z",
     "iopub.status.busy": "2020-09-07T09:48:00.449265Z",
     "iopub.status.idle": "2020-09-07T09:48:00.621182Z",
     "shell.execute_reply": "2020-09-07T09:48:00.620552Z"
    },
    "papermill": {
     "duration": 0.197905,
     "end_time": "2020-09-07T09:48:00.621319",
     "exception": false,
     "start_time": "2020-09-07T09:48:00.423414",
     "status": "completed"
    },
    "tags": []
   },
   "outputs": [
    {
     "data": {
      "text/plain": [
       "<matplotlib.axes._subplots.AxesSubplot at 0x7fab588a3510>"
      ]
     },
     "execution_count": 22,
     "metadata": {},
     "output_type": "execute_result"
    },
    {
     "data": {
      "image/png": "[encoded data removed]",
      "text/plain": [
       "<Figure size 432x288 with 1 Axes>"
      ]
     },
     "metadata": {
      "needs_background": "light"
     },
     "output_type": "display_data"
    }
   ],
   "source": [
    "# Credit card issue according to Education\n",
    "sns.countplot(df['Education'],hue=df['CreditCard'])"
   ]
  },
  {
   "cell_type": "code",
   "execution_count": 23,
   "metadata": {
    "execution": {
     "iopub.execute_input": "2020-09-07T09:48:00.669132Z",
     "iopub.status.busy": "2020-09-07T09:48:00.668376Z",
     "iopub.status.idle": "2020-09-07T09:48:00.822703Z",
     "shell.execute_reply": "2020-09-07T09:48:00.823476Z"
    },
    "papermill": {
     "duration": 0.18176,
     "end_time": "2020-09-07T09:48:00.823637",
     "exception": false,
     "start_time": "2020-09-07T09:48:00.641877",
     "status": "completed"
    },
    "tags": []
   },
   "outputs": [
    {
     "data": {
      "text/plain": [
       "<matplotlib.axes._subplots.AxesSubplot at 0x7fab58814310>"
      ]
     },
     "execution_count": 23,
     "metadata": {},
     "output_type": "execute_result"
    },
    {
     "data": {
      "image/png": "[encoded data removed]",
      "text/plain": [
       "<Figure size 432x288 with 1 Axes>"
      ]
     },
     "metadata": {
      "needs_background": "light"
     },
     "output_type": "display_data"
    }
   ],
   "source": [
    "# Credit card issue according to customer's Personal Loan\n",
    "sns.countplot(df['Personal Loan'],hue=df['CreditCard'])"
   ]
  },
  {
   "cell_type": "code",
   "execution_count": 24,
   "metadata": {
    "execution": {
     "iopub.execute_input": "2020-09-07T09:48:00.873448Z",
     "iopub.status.busy": "2020-09-07T09:48:00.872579Z",
     "iopub.status.idle": "2020-09-07T09:48:01.031372Z",
     "shell.execute_reply": "2020-09-07T09:48:01.030577Z"
    },
    "papermill": {
     "duration": 0.186681,
     "end_time": "2020-09-07T09:48:01.031506",
     "exception": false,
     "start_time": "2020-09-07T09:48:00.844825",
     "status": "completed"
    },
    "tags": []
   },
   "outputs": [
    {
     "data": {
      "text/plain": [
       "<matplotlib.axes._subplots.AxesSubplot at 0x7fab587818d0>"
      ]
     },
     "execution_count": 24,
     "metadata": {},
     "output_type": "execute_result"
    },
    {
     "data": {
      "image/png": "[encoded data removed]",
      "text/plain": [
       "<Figure size 432x288 with 1 Axes>"
      ]
     },
     "metadata": {
      "needs_background": "light"
     },
     "output_type": "display_data"
    }
   ],
   "source": [
    "# Credit card issue according to customer's Securities Account\n",
    "sns.countplot(df['Securities Account'],hue=df['CreditCard'])"
   ]
  },
  {
   "cell_type": "code",
   "execution_count": 25,
   "metadata": {
    "execution": {
     "iopub.execute_input": "2020-09-07T09:48:01.082606Z",
     "iopub.status.busy": "2020-09-07T09:48:01.081423Z",
     "iopub.status.idle": "2020-09-07T09:48:01.247720Z",
     "shell.execute_reply": "2020-09-07T09:48:01.246942Z"
    },
    "papermill": {
     "duration": 0.194197,
     "end_time": "2020-09-07T09:48:01.247846",
     "exception": false,
     "start_time": "2020-09-07T09:48:01.053649",
     "status": "completed"
    },
    "tags": []
   },
   "outputs": [
    {
     "data": {
      "text/plain": [
       "<matplotlib.axes._subplots.AxesSubplot at 0x7fab5876b350>"
      ]
     },
     "execution_count": 25,
     "metadata": {},
     "output_type": "execute_result"
    },
    {
     "data": {
      "image/png": "[encoded data removed]",
      "text/plain": [
       "<Figure size 432x288 with 1 Axes>"
      ]
     },
     "metadata": {
      "needs_background": "light"
     },
     "output_type": "display_data"
    }
   ],
   "source": [
    "# Credit card issue according to customer's CD Account\n",
    "sns.countplot(df['CD Account'],hue=df['CreditCard'])"
   ]
  }
 ],
 "metadata": {
  "kernelspec": {
   "display_name": "Python 3",
   "language": "python",
   "name": "python3"
  },
  "language_info": {
   "codemirror_mode": {
    "name": "ipython",
    "version": 3
   },
   "file_extension": ".py",
   "mimetype": "text/x-python",
   "name": "python",
   "nbconvert_exporter": "python",
   "pygments_lexer": "ipython3",
   "version": "3.7.6"
  },
  "papermill": {
   "duration": 13.552965,
   "end_time": "2020-09-07T09:48:01.377973",
   "environment_variables": {},
   "exception": null,
   "input_path": "__notebook__.ipynb",
   "output_path": "__notebook__.ipynb",
   "parameters": {},
   "start_time": "2020-09-07T09:47:47.825008",
   "version": "2.1.0"
  }
 },
 "nbformat": 4,
 "nbformat_minor": 4
}
