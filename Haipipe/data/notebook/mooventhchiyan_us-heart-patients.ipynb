{
 "cells": [
  {
   "cell_type": "code",
   "execution_count": 1,
   "metadata": {},
   "outputs": [
    {
     "name": "stdout",
     "output_type": "stream",
     "text": [
      "/kaggle/input/heart-disease-prediction-using-logistic-regression/framingham.csv\n"
     ]
    }
   ],
   "source": [
    "# This Python 3 environment comes with many helpful analytics libraries installed\n",
    "# It is defined by the kaggle/python docker image: https://github.com/kaggle/docker-python\n",
    "# For example, here's several helpful packages to load in \n",
    "\n",
    "import numpy as np # linear algebra\n",
    "import pandas as pd # data processing, CSV file I/O (e.g. pd.read_csv)\n",
    "\n",
    "# Input data files are available in the \"../input/\" directory.\n",
    "# For example, running this (by clicking run or pressing Shift+Enter) will list all files under the input directory\n",
    "\n",
    "import os\n",
    "for dirname, _, filenames in os.walk('/kaggle/input'):\n",
    "    for filename in filenames:\n",
    "        print(os.path.join(dirname, filename))\n",
    "\n",
    "# Any results you write to the current directory are saved as output."
   ]
  },
  {
   "cell_type": "markdown",
   "metadata": {},
   "source": [
    "## Logistic Regression - Statistical and Machine Learning Model.\n",
    "\n",
    "Objective of buidling the model is to estimate the prediction of affected by the CHD- Heart Disease.\n",
    "\n",
    "## Steps of this notebook\n",
    "\n",
    "This notebook has the following useful features\n",
    "\n",
    "* Checking outliers,distributions\n",
    "* Data Cleaning\n",
    "* Feature Selection- Backward Elimination\n",
    "* Statistical Model with classification report,ROC analysis\n",
    "* Machine Learning LogisticRegression\n"
   ]
  },
  {
   "cell_type": "code",
   "execution_count": 2,
   "metadata": {},
   "outputs": [],
   "source": [
    "# Importing the neccasry Libraries\n",
    "import numpy as np\n",
    "import pandas as pd\n",
    "import matplotlib.pyplot as plt\n",
    "import seaborn as sns"
   ]
  },
  {
   "cell_type": "code",
   "execution_count": 3,
   "metadata": {},
   "outputs": [
    {
     "data": {
      "text/html": [
       "<div>\n",
       "<style scoped>\n",
       "    .dataframe tbody tr th:only-of-type {\n",
       "        vertical-align: middle;\n",
       "    }\n",
       "\n",
       "    .dataframe tbody tr th {\n",
       "        vertical-align: top;\n",
       "    }\n",
       "\n",
       "    .dataframe thead th {\n",
       "        text-align: right;\n",
       "    }\n",
       "</style>\n",
       "<table border=\"1\" class=\"dataframe\">\n",
       "  <thead>\n",
       "    <tr style=\"text-align: right;\">\n",
       "      <th></th>\n",
       "      <th>male</th>\n",
       "      <th>age</th>\n",
       "      <th>education</th>\n",
       "      <th>currentSmoker</th>\n",
       "      <th>cigsPerDay</th>\n",
       "      <th>BPMeds</th>\n",
       "      <th>prevalentStroke</th>\n",
       "      <th>prevalentHyp</th>\n",
       "      <th>diabetes</th>\n",
       "      <th>totChol</th>\n",
       "      <th>sysBP</th>\n",
       "      <th>diaBP</th>\n",
       "      <th>BMI</th>\n",
       "      <th>heartRate</th>\n",
       "      <th>glucose</th>\n",
       "      <th>TenYearCHD</th>\n",
       "    </tr>\n",
       "  </thead>\n",
       "  <tbody>\n",
       "    <tr>\n",
       "      <th>0</th>\n",
       "      <td>1</td>\n",
       "      <td>39</td>\n",
       "      <td>4.0</td>\n",
       "      <td>0</td>\n",
       "      <td>0.0</td>\n",
       "      <td>0.0</td>\n",
       "      <td>0</td>\n",
       "      <td>0</td>\n",
       "      <td>0</td>\n",
       "      <td>195.0</td>\n",
       "      <td>106.0</td>\n",
       "      <td>70.0</td>\n",
       "      <td>26.97</td>\n",
       "      <td>80.0</td>\n",
       "      <td>77.0</td>\n",
       "      <td>0</td>\n",
       "    </tr>\n",
       "    <tr>\n",
       "      <th>1</th>\n",
       "      <td>0</td>\n",
       "      <td>46</td>\n",
       "      <td>2.0</td>\n",
       "      <td>0</td>\n",
       "      <td>0.0</td>\n",
       "      <td>0.0</td>\n",
       "      <td>0</td>\n",
       "      <td>0</td>\n",
       "      <td>0</td>\n",
       "      <td>250.0</td>\n",
       "      <td>121.0</td>\n",
       "      <td>81.0</td>\n",
       "      <td>28.73</td>\n",
       "      <td>95.0</td>\n",
       "      <td>76.0</td>\n",
       "      <td>0</td>\n",
       "    </tr>\n",
       "    <tr>\n",
       "      <th>2</th>\n",
       "      <td>1</td>\n",
       "      <td>48</td>\n",
       "      <td>1.0</td>\n",
       "      <td>1</td>\n",
       "      <td>20.0</td>\n",
       "      <td>0.0</td>\n",
       "      <td>0</td>\n",
       "      <td>0</td>\n",
       "      <td>0</td>\n",
       "      <td>245.0</td>\n",
       "      <td>127.5</td>\n",
       "      <td>80.0</td>\n",
       "      <td>25.34</td>\n",
       "      <td>75.0</td>\n",
       "      <td>70.0</td>\n",
       "      <td>0</td>\n",
       "    </tr>\n",
       "    <tr>\n",
       "      <th>3</th>\n",
       "      <td>0</td>\n",
       "      <td>61</td>\n",
       "      <td>3.0</td>\n",
       "      <td>1</td>\n",
       "      <td>30.0</td>\n",
       "      <td>0.0</td>\n",
       "      <td>0</td>\n",
       "      <td>1</td>\n",
       "      <td>0</td>\n",
       "      <td>225.0</td>\n",
       "      <td>150.0</td>\n",
       "      <td>95.0</td>\n",
       "      <td>28.58</td>\n",
       "      <td>65.0</td>\n",
       "      <td>103.0</td>\n",
       "      <td>1</td>\n",
       "    </tr>\n",
       "    <tr>\n",
       "      <th>4</th>\n",
       "      <td>0</td>\n",
       "      <td>46</td>\n",
       "      <td>3.0</td>\n",
       "      <td>1</td>\n",
       "      <td>23.0</td>\n",
       "      <td>0.0</td>\n",
       "      <td>0</td>\n",
       "      <td>0</td>\n",
       "      <td>0</td>\n",
       "      <td>285.0</td>\n",
       "      <td>130.0</td>\n",
       "      <td>84.0</td>\n",
       "      <td>23.10</td>\n",
       "      <td>85.0</td>\n",
       "      <td>85.0</td>\n",
       "      <td>0</td>\n",
       "    </tr>\n",
       "  </tbody>\n",
       "</table>\n",
       "</div>"
      ],
      "text/plain": [
       "   male  age  education  currentSmoker  cigsPerDay  BPMeds  prevalentStroke  \\\n",
       "0     1   39        4.0              0         0.0     0.0                0   \n",
       "1     0   46        2.0              0         0.0     0.0                0   \n",
       "2     1   48        1.0              1        20.0     0.0                0   \n",
       "3     0   61        3.0              1        30.0     0.0                0   \n",
       "4     0   46        3.0              1        23.0     0.0                0   \n",
       "\n",
       "   prevalentHyp  diabetes  totChol  sysBP  diaBP    BMI  heartRate  glucose  \\\n",
       "0             0         0    195.0  106.0   70.0  26.97       80.0     77.0   \n",
       "1             0         0    250.0  121.0   81.0  28.73       95.0     76.0   \n",
       "2             0         0    245.0  127.5   80.0  25.34       75.0     70.0   \n",
       "3             1         0    225.0  150.0   95.0  28.58       65.0    103.0   \n",
       "4             0         0    285.0  130.0   84.0  23.10       85.0     85.0   \n",
       "\n",
       "   TenYearCHD  \n",
       "0           0  \n",
       "1           0  \n",
       "2           0  \n",
       "3           1  \n",
       "4           0  "
      ]
     },
     "execution_count": 3,
     "metadata": {},
     "output_type": "execute_result"
    }
   ],
   "source": [
    "# Data Loading\n",
    "df=pd.read_csv(\"/kaggle/input/heart-disease-prediction-using-logistic-regression/framingham.csv\")\n",
    "df.head()"
   ]
  },
  {
   "cell_type": "markdown",
   "metadata": {},
   "source": [
    "### Analysis of the target Varaible"
   ]
  },
  {
   "cell_type": "code",
   "execution_count": 4,
   "metadata": {},
   "outputs": [
    {
     "data": {
      "text/plain": [
       "0    3594\n",
       "1     644\n",
       "Name: TenYearCHD, dtype: int64"
      ]
     },
     "execution_count": 4,
     "metadata": {},
     "output_type": "execute_result"
    }
   ],
   "source": [
    "df.TenYearCHD.value_counts()"
   ]
  },
  {
   "cell_type": "code",
   "execution_count": 5,
   "metadata": {},
   "outputs": [
    {
     "data": {
      "image/png": "[encoded data removed]",
      "text/plain": [
       "<Figure size 432x288 with 1 Axes>"
      ]
     },
     "metadata": {
      "needs_background": "light"
     },
     "output_type": "display_data"
    }
   ],
   "source": [
    "df.TenYearCHD.value_counts(normalize=True).plot(kind='bar')\n",
    "plt.show()"
   ]
  },
  {
   "cell_type": "code",
   "execution_count": 6,
   "metadata": {},
   "outputs": [],
   "source": [
    "## Checking for Null Values and imputing"
   ]
  },
  {
   "cell_type": "code",
   "execution_count": 7,
   "metadata": {},
   "outputs": [
    {
     "name": "stdout",
     "output_type": "stream",
     "text": [
      "<class 'pandas.core.frame.DataFrame'>\n",
      "RangeIndex: 4238 entries, 0 to 4237\n",
      "Data columns (total 16 columns):\n",
      "male               4238 non-null int64\n",
      "age                4238 non-null int64\n",
      "education          4133 non-null float64\n",
      "currentSmoker      4238 non-null int64\n",
      "cigsPerDay         4209 non-null float64\n",
      "BPMeds             4185 non-null float64\n",
      "prevalentStroke    4238 non-null int64\n",
      "prevalentHyp       4238 non-null int64\n",
      "diabetes           4238 non-null int64\n",
      "totChol            4188 non-null float64\n",
      "sysBP              4238 non-null float64\n",
      "diaBP              4238 non-null float64\n",
      "BMI                4219 non-null float64\n",
      "heartRate          4237 non-null float64\n",
      "glucose            3850 non-null float64\n",
      "TenYearCHD         4238 non-null int64\n",
      "dtypes: float64(9), int64(7)\n",
      "memory usage: 529.9 KB\n"
     ]
    }
   ],
   "source": [
    "df.info()"
   ]
  },
  {
   "cell_type": "code",
   "execution_count": 8,
   "metadata": {},
   "outputs": [
    {
     "data": {
      "text/plain": [
       "male                 0\n",
       "age                  0\n",
       "education          105\n",
       "currentSmoker        0\n",
       "cigsPerDay          29\n",
       "BPMeds              53\n",
       "prevalentStroke      0\n",
       "prevalentHyp         0\n",
       "diabetes             0\n",
       "totChol             50\n",
       "sysBP                0\n",
       "diaBP                0\n",
       "BMI                 19\n",
       "heartRate            1\n",
       "glucose            388\n",
       "TenYearCHD           0\n",
       "dtype: int64"
      ]
     },
     "execution_count": 8,
     "metadata": {},
     "output_type": "execute_result"
    }
   ],
   "source": [
    "df.isnull().sum()"
   ]
  },
  {
   "cell_type": "code",
   "execution_count": 9,
   "metadata": {},
   "outputs": [],
   "source": [
    "# Forward and Backward fill is used to fill the null values so the distribution is not affected\n",
    "df.fillna(method='ffill',inplace=True)\n",
    "df.fillna(method='bfill',inplace=True)"
   ]
  },
  {
   "cell_type": "code",
   "execution_count": 10,
   "metadata": {},
   "outputs": [
    {
     "name": "stdout",
     "output_type": "stream",
     "text": [
      "<class 'pandas.core.frame.DataFrame'>\n",
      "RangeIndex: 4238 entries, 0 to 4237\n",
      "Data columns (total 16 columns):\n",
      "male               4238 non-null int64\n",
      "age                4238 non-null int64\n",
      "education          4238 non-null float64\n",
      "currentSmoker      4238 non-null int64\n",
      "cigsPerDay         4238 non-null float64\n",
      "BPMeds             4238 non-null float64\n",
      "prevalentStroke    4238 non-null int64\n",
      "prevalentHyp       4238 non-null int64\n",
      "diabetes           4238 non-null int64\n",
      "totChol            4238 non-null float64\n",
      "sysBP              4238 non-null float64\n",
      "diaBP              4238 non-null float64\n",
      "BMI                4238 non-null float64\n",
      "heartRate          4238 non-null float64\n",
      "glucose            4238 non-null float64\n",
      "TenYearCHD         4238 non-null int64\n",
      "dtypes: float64(9), int64(7)\n",
      "memory usage: 529.9 KB\n"
     ]
    }
   ],
   "source": [
    "df.info()"
   ]
  },
  {
   "cell_type": "code",
   "execution_count": 11,
   "metadata": {},
   "outputs": [
    {
     "data": {
      "image/png": "[encoded data removed]",
      "text/plain": [
       "<Figure size 432x288 with 1 Axes>"
      ]
     },
     "metadata": {
      "needs_background": "light"
     },
     "output_type": "display_data"
    },
    {
     "data": {
      "image/png": "[encoded data removed]",
      "text/plain": [
       "<Figure size 432x288 with 1 Axes>"
      ]
     },
     "metadata": {
      "needs_background": "light"
     },
     "output_type": "display_data"
    },
    {
     "data": {
      "image/png": "[encoded data removed]",
      "text/plain": [
       "<Figure size 432x288 with 1 Axes>"
      ]
     },
     "metadata": {
      "needs_background": "light"
     },
     "output_type": "display_data"
    },
    {
     "data": {
      "image/png": "[encoded data removed]",
      "text/plain": [
       "<Figure size 432x288 with 1 Axes>"
      ]
     },
     "metadata": {
      "needs_background": "light"
     },
     "output_type": "display_data"
    },
    {
     "data": {
      "image/png": "[encoded data removed]",
      "text/plain": [
       "<Figure size 432x288 with 1 Axes>"
      ]
     },
     "metadata": {
      "needs_background": "light"
     },
     "output_type": "display_data"
    },
    {
     "data": {
      "image/png": "[encoded data removed]",
      "text/plain": [
       "<Figure size 432x288 with 1 Axes>"
      ]
     },
     "metadata": {
      "needs_background": "light"
     },
     "output_type": "display_data"
    },
    {
     "data": {
      "image/png": "[encoded data removed]",
      "text/plain": [
       "<Figure size 432x288 with 1 Axes>"
      ]
     },
     "metadata": {
      "needs_background": "light"
     },
     "output_type": "display_data"
    },
    {
     "data": {
      "image/png": "[encoded data removed]",
      "text/plain": [
       "<Figure size 432x288 with 1 Axes>"
      ]
     },
     "metadata": {
      "needs_background": "light"
     },
     "output_type": "display_data"
    }
   ],
   "source": [
    "# Checking for outliers in the data set\n",
    "\n",
    "cols=[\"age\",\"cigsPerDay\",\"totChol\",\"sysBP\",\"diaBP\",\"BMI\",\"heartRate\",\"glucose\"]\n",
    "\n",
    "for col in cols:\n",
    "    sns.boxplot(df[col])\n",
    "    #df[col].plot(kind='box')\n",
    "    plt.show()"
   ]
  },
  {
   "cell_type": "code",
   "execution_count": 12,
   "metadata": {},
   "outputs": [
    {
     "data": {
      "text/plain": [
       "<matplotlib.axes._subplots.AxesSubplot at 0x7f4acdaa7be0>"
      ]
     },
     "execution_count": 12,
     "metadata": {},
     "output_type": "execute_result"
    },
    {
     "data": {
      "image/png": "[encoded data removed]",
      "text/plain": [
       "<Figure size 432x288 with 1 Axes>"
      ]
     },
     "metadata": {
      "needs_background": "light"
     },
     "output_type": "display_data"
    }
   ],
   "source": [
    "sns.scatterplot(df[\"BMI\"],df[\"glucose\"],hue=df[\"TenYearCHD\"])"
   ]
  },
  {
   "cell_type": "markdown",
   "metadata": {},
   "source": [
    "## Performing Statistical Logit Model"
   ]
  },
  {
   "cell_type": "code",
   "execution_count": 13,
   "metadata": {},
   "outputs": [],
   "source": [
    "import statsmodels.api as sm\n",
    "y=df.TenYearCHD\n",
    "X=df.drop('TenYearCHD',axis=1)"
   ]
  },
  {
   "cell_type": "code",
   "execution_count": 14,
   "metadata": {},
   "outputs": [
    {
     "name": "stdout",
     "output_type": "stream",
     "text": [
      "Optimization terminated successfully.\n",
      "         Current function value: 0.378972\n",
      "         Iterations 7\n"
     ]
    },
    {
     "name": "stderr",
     "output_type": "stream",
     "text": [
      "/opt/conda/lib/python3.6/site-packages/numpy/core/fromnumeric.py:2542: FutureWarning: Method .ptp is deprecated and will be removed in a future version. Use numpy.ptp instead.\n",
      "  return ptp(axis=axis, out=out, **kwargs)\n"
     ]
    },
    {
     "data": {
      "text/html": [
       "<table class=\"simpletable\">\n",
       "<caption>Logit Regression Results</caption>\n",
       "<tr>\n",
       "  <th>Dep. Variable:</th>      <td>TenYearCHD</td>    <th>  No. Observations:  </th>  <td>  4238</td>  \n",
       "</tr>\n",
       "<tr>\n",
       "  <th>Model:</th>                 <td>Logit</td>      <th>  Df Residuals:      </th>  <td>  4222</td>  \n",
       "</tr>\n",
       "<tr>\n",
       "  <th>Method:</th>                 <td>MLE</td>       <th>  Df Model:          </th>  <td>    15</td>  \n",
       "</tr>\n",
       "<tr>\n",
       "  <th>Date:</th>            <td>Thu, 26 Mar 2020</td> <th>  Pseudo R-squ.:     </th>  <td>0.1106</td>  \n",
       "</tr>\n",
       "<tr>\n",
       "  <th>Time:</th>                <td>19:40:52</td>     <th>  Log-Likelihood:    </th> <td> -1606.1</td> \n",
       "</tr>\n",
       "<tr>\n",
       "  <th>converged:</th>             <td>True</td>       <th>  LL-Null:           </th> <td> -1805.8</td> \n",
       "</tr>\n",
       "<tr>\n",
       "  <th>Covariance Type:</th>     <td>nonrobust</td>    <th>  LLR p-value:       </th> <td>9.338e-76</td>\n",
       "</tr>\n",
       "</table>\n",
       "<table class=\"simpletable\">\n",
       "<tr>\n",
       "         <td></td>            <th>coef</th>     <th>std err</th>      <th>z</th>      <th>P>|z|</th>  <th>[0.025</th>    <th>0.975]</th>  \n",
       "</tr>\n",
       "<tr>\n",
       "  <th>const</th>           <td>   -7.9695</td> <td>    0.659</td> <td>  -12.098</td> <td> 0.000</td> <td>   -9.261</td> <td>   -6.678</td>\n",
       "</tr>\n",
       "<tr>\n",
       "  <th>male</th>            <td>    0.5092</td> <td>    0.100</td> <td>    5.074</td> <td> 0.000</td> <td>    0.313</td> <td>    0.706</td>\n",
       "</tr>\n",
       "<tr>\n",
       "  <th>age</th>             <td>    0.0619</td> <td>    0.006</td> <td>    9.962</td> <td> 0.000</td> <td>    0.050</td> <td>    0.074</td>\n",
       "</tr>\n",
       "<tr>\n",
       "  <th>education</th>       <td>   -0.0154</td> <td>    0.046</td> <td>   -0.338</td> <td> 0.735</td> <td>   -0.105</td> <td>    0.074</td>\n",
       "</tr>\n",
       "<tr>\n",
       "  <th>currentSmoker</th>   <td>    0.0132</td> <td>    0.144</td> <td>    0.092</td> <td> 0.927</td> <td>   -0.268</td> <td>    0.295</td>\n",
       "</tr>\n",
       "<tr>\n",
       "  <th>cigsPerDay</th>      <td>    0.0209</td> <td>    0.006</td> <td>    3.684</td> <td> 0.000</td> <td>    0.010</td> <td>    0.032</td>\n",
       "</tr>\n",
       "<tr>\n",
       "  <th>BPMeds</th>          <td>    0.2308</td> <td>    0.219</td> <td>    1.053</td> <td> 0.292</td> <td>   -0.199</td> <td>    0.660</td>\n",
       "</tr>\n",
       "<tr>\n",
       "  <th>prevalentStroke</th> <td>    0.9705</td> <td>    0.441</td> <td>    2.199</td> <td> 0.028</td> <td>    0.106</td> <td>    1.835</td>\n",
       "</tr>\n",
       "<tr>\n",
       "  <th>prevalentHyp</th>    <td>    0.2350</td> <td>    0.128</td> <td>    1.831</td> <td> 0.067</td> <td>   -0.017</td> <td>    0.487</td>\n",
       "</tr>\n",
       "<tr>\n",
       "  <th>diabetes</th>        <td>    0.3056</td> <td>    0.281</td> <td>    1.086</td> <td> 0.277</td> <td>   -0.246</td> <td>    0.857</td>\n",
       "</tr>\n",
       "<tr>\n",
       "  <th>totChol</th>         <td>    0.0017</td> <td>    0.001</td> <td>    1.704</td> <td> 0.088</td> <td>   -0.000</td> <td>    0.004</td>\n",
       "</tr>\n",
       "<tr>\n",
       "  <th>sysBP</th>           <td>    0.0142</td> <td>    0.004</td> <td>    4.011</td> <td> 0.000</td> <td>    0.007</td> <td>    0.021</td>\n",
       "</tr>\n",
       "<tr>\n",
       "  <th>diaBP</th>           <td>   -0.0028</td> <td>    0.006</td> <td>   -0.473</td> <td> 0.636</td> <td>   -0.015</td> <td>    0.009</td>\n",
       "</tr>\n",
       "<tr>\n",
       "  <th>BMI</th>             <td>    0.0018</td> <td>    0.012</td> <td>    0.156</td> <td> 0.876</td> <td>   -0.021</td> <td>    0.025</td>\n",
       "</tr>\n",
       "<tr>\n",
       "  <th>heartRate</th>       <td>   -0.0014</td> <td>    0.004</td> <td>   -0.355</td> <td> 0.723</td> <td>   -0.009</td> <td>    0.006</td>\n",
       "</tr>\n",
       "<tr>\n",
       "  <th>glucose</th>         <td>    0.0055</td> <td>    0.002</td> <td>    2.793</td> <td> 0.005</td> <td>    0.002</td> <td>    0.009</td>\n",
       "</tr>\n",
       "</table>"
      ],
      "text/plain": [
       "<class 'statsmodels.iolib.summary.Summary'>\n",
       "\"\"\"\n",
       "                           Logit Regression Results                           \n",
       "==============================================================================\n",
       "Dep. Variable:             TenYearCHD   No. Observations:                 4238\n",
       "Model:                          Logit   Df Residuals:                     4222\n",
       "Method:                           MLE   Df Model:                           15\n",
       "Date:                Thu, 26 Mar 2020   Pseudo R-squ.:                  0.1106\n",
       "Time:                        19:40:52   Log-Likelihood:                -1606.1\n",
       "converged:                       True   LL-Null:                       -1805.8\n",
       "Covariance Type:            nonrobust   LLR p-value:                 9.338e-76\n",
       "===================================================================================\n",
       "                      coef    std err          z      P>|z|      [0.025      0.975]\n",
       "-----------------------------------------------------------------------------------\n",
       "const              -7.9695      0.659    -12.098      0.000      -9.261      -6.678\n",
       "male                0.5092      0.100      5.074      0.000       0.313       0.706\n",
       "age                 0.0619      0.006      9.962      0.000       0.050       0.074\n",
       "education          -0.0154      0.046     -0.338      0.735      -0.105       0.074\n",
       "currentSmoker       0.0132      0.144      0.092      0.927      -0.268       0.295\n",
       "cigsPerDay          0.0209      0.006      3.684      0.000       0.010       0.032\n",
       "BPMeds              0.2308      0.219      1.053      0.292      -0.199       0.660\n",
       "prevalentStroke     0.9705      0.441      2.199      0.028       0.106       1.835\n",
       "prevalentHyp        0.2350      0.128      1.831      0.067      -0.017       0.487\n",
       "diabetes            0.3056      0.281      1.086      0.277      -0.246       0.857\n",
       "totChol             0.0017      0.001      1.704      0.088      -0.000       0.004\n",
       "sysBP               0.0142      0.004      4.011      0.000       0.007       0.021\n",
       "diaBP              -0.0028      0.006     -0.473      0.636      -0.015       0.009\n",
       "BMI                 0.0018      0.012      0.156      0.876      -0.021       0.025\n",
       "heartRate          -0.0014      0.004     -0.355      0.723      -0.009       0.006\n",
       "glucose             0.0055      0.002      2.793      0.005       0.002       0.009\n",
       "===================================================================================\n",
       "\"\"\""
      ]
     },
     "execution_count": 14,
     "metadata": {},
     "output_type": "execute_result"
    }
   ],
   "source": [
    "Xc=sm.add_constant(X)\n",
    "model=sm.Logit(y,Xc)\n",
    "result=model.fit()\n",
    "result.summary()"
   ]
  },
  {
   "cell_type": "code",
   "execution_count": 15,
   "metadata": {},
   "outputs": [],
   "source": [
    "# check multicollinearity\n",
    "from statsmodels.stats.outliers_influence import variance_inflation_factor as vif"
   ]
  },
  {
   "cell_type": "code",
   "execution_count": 16,
   "metadata": {},
   "outputs": [
    {
     "data": {
      "text/html": [
       "<div>\n",
       "<style scoped>\n",
       "    .dataframe tbody tr th:only-of-type {\n",
       "        vertical-align: middle;\n",
       "    }\n",
       "\n",
       "    .dataframe tbody tr th {\n",
       "        vertical-align: top;\n",
       "    }\n",
       "\n",
       "    .dataframe thead th {\n",
       "        text-align: right;\n",
       "    }\n",
       "</style>\n",
       "<table border=\"1\" class=\"dataframe\">\n",
       "  <thead>\n",
       "    <tr style=\"text-align: right;\">\n",
       "      <th></th>\n",
       "      <th>male</th>\n",
       "      <th>age</th>\n",
       "      <th>education</th>\n",
       "      <th>currentSmoker</th>\n",
       "      <th>cigsPerDay</th>\n",
       "      <th>BPMeds</th>\n",
       "      <th>prevalentStroke</th>\n",
       "      <th>prevalentHyp</th>\n",
       "      <th>diabetes</th>\n",
       "      <th>totChol</th>\n",
       "      <th>sysBP</th>\n",
       "      <th>diaBP</th>\n",
       "      <th>BMI</th>\n",
       "      <th>heartRate</th>\n",
       "      <th>glucose</th>\n",
       "    </tr>\n",
       "  </thead>\n",
       "  <tbody>\n",
       "    <tr>\n",
       "      <th>vif</th>\n",
       "      <td>1.196715</td>\n",
       "      <td>1.372304</td>\n",
       "      <td>1.052767</td>\n",
       "      <td>2.495317</td>\n",
       "      <td>2.622916</td>\n",
       "      <td>1.09953</td>\n",
       "      <td>1.018961</td>\n",
       "      <td>2.052546</td>\n",
       "      <td>1.509882</td>\n",
       "      <td>1.107182</td>\n",
       "      <td>3.738878</td>\n",
       "      <td>2.967349</td>\n",
       "      <td>1.23364</td>\n",
       "      <td>1.094984</td>\n",
       "      <td>1.527711</td>\n",
       "    </tr>\n",
       "  </tbody>\n",
       "</table>\n",
       "</div>"
      ],
      "text/plain": [
       "         male       age  education  currentSmoker  cigsPerDay   BPMeds  \\\n",
       "vif  1.196715  1.372304   1.052767       2.495317    2.622916  1.09953   \n",
       "\n",
       "     prevalentStroke  prevalentHyp  diabetes   totChol     sysBP     diaBP  \\\n",
       "vif         1.018961      2.052546  1.509882  1.107182  3.738878  2.967349   \n",
       "\n",
       "         BMI  heartRate   glucose  \n",
       "vif  1.23364   1.094984  1.527711  "
      ]
     },
     "execution_count": 16,
     "metadata": {},
     "output_type": "execute_result"
    }
   ],
   "source": [
    "from statsmodels.stats.outliers_influence import variance_inflation_factor\n",
    "\n",
    "vif = [variance_inflation_factor(Xc.values, i) for i in range(Xc.shape[1])]\n",
    "pd.DataFrame({'vif': vif[1:]}, index=X.columns).T"
   ]
  },
  {
   "cell_type": "markdown",
   "metadata": {},
   "source": [
    "## VIF tabel shows there is few serious multicollonearity\n",
    "## backward elimination to drop varables one by one\n"
   ]
  },
  {
   "cell_type": "code",
   "execution_count": 17,
   "metadata": {},
   "outputs": [
    {
     "name": "stdout",
     "output_type": "stream",
     "text": [
      "Optimization terminated successfully.\n",
      "         Current function value: 0.378972\n",
      "         Iterations 7\n",
      "column removed : currentSmoker 0.9268927129149964\n",
      "Optimization terminated successfully.\n",
      "         Current function value: 0.378973\n",
      "         Iterations 7\n",
      "column removed : BMI 0.8840047212771569\n",
      "Optimization terminated successfully.\n",
      "         Current function value: 0.378976\n",
      "         Iterations 7\n",
      "column removed : heartRate 0.724773464288879\n",
      "Optimization terminated successfully.\n",
      "         Current function value: 0.378991\n",
      "         Iterations 7\n",
      "column removed : education 0.7303834746694666\n",
      "Optimization terminated successfully.\n",
      "         Current function value: 0.379005\n",
      "         Iterations 7\n",
      "column removed : diaBP 0.6215518600282737\n",
      "Optimization terminated successfully.\n",
      "         Current function value: 0.379033\n",
      "         Iterations 7\n",
      "column removed : BPMeds 0.28453387969946076\n",
      "Optimization terminated successfully.\n",
      "         Current function value: 0.379166\n",
      "         Iterations 7\n",
      "column removed : diabetes 0.25372385807419684\n",
      "Optimization terminated successfully.\n",
      "         Current function value: 0.379316\n",
      "         Iterations 7\n",
      "column removed : totChol 0.09013565716591766\n",
      "Optimization terminated successfully.\n",
      "         Current function value: 0.379651\n",
      "         Iterations 7\n",
      "column removed : prevalentHyp 0.0541955911473629\n",
      "Optimization terminated successfully.\n",
      "         Current function value: 0.380085\n",
      "         Iterations 7\n"
     ]
    },
    {
     "data": {
      "text/plain": [
       "['const', 'male', 'age', 'cigsPerDay', 'prevalentStroke', 'sysBP', 'glucose']"
      ]
     },
     "execution_count": 17,
     "metadata": {},
     "output_type": "execute_result"
    }
   ],
   "source": [
    "# VIF tabel shows tht there is no serious multicollonearity\n",
    "# backward elimination to drop varables one by one\n",
    "\n",
    "cols=list(Xc.columns)\n",
    "p=[]\n",
    "while len(cols)>2:\n",
    "    Xc=Xc[cols]\n",
    "    model=sm.Logit(y,Xc).fit().pvalues\n",
    "    p=pd.Series(model.values[1:],index=Xc.columns[1:])\n",
    "    pmax= max(p)\n",
    "    pid=p.idxmax()\n",
    "    \n",
    "    if pmax>0.05:\n",
    "        cols.remove(pid)\n",
    "        print('column removed :',pid,pmax)\n",
    "    else:\n",
    "        break\n",
    "        \n",
    "cols"
   ]
  },
  {
   "cell_type": "code",
   "execution_count": 18,
   "metadata": {},
   "outputs": [
    {
     "name": "stdout",
     "output_type": "stream",
     "text": [
      "Optimization terminated successfully.\n",
      "         Current function value: 0.380085\n",
      "         Iterations 7\n"
     ]
    },
    {
     "data": {
      "text/html": [
       "<table class=\"simpletable\">\n",
       "<caption>Logit Regression Results</caption>\n",
       "<tr>\n",
       "  <th>Dep. Variable:</th>      <td>TenYearCHD</td>    <th>  No. Observations:  </th>  <td>  4238</td>  \n",
       "</tr>\n",
       "<tr>\n",
       "  <th>Model:</th>                 <td>Logit</td>      <th>  Df Residuals:      </th>  <td>  4231</td>  \n",
       "</tr>\n",
       "<tr>\n",
       "  <th>Method:</th>                 <td>MLE</td>       <th>  Df Model:          </th>  <td>     6</td>  \n",
       "</tr>\n",
       "<tr>\n",
       "  <th>Date:</th>            <td>Thu, 26 Mar 2020</td> <th>  Pseudo R-squ.:     </th>  <td>0.1080</td>  \n",
       "</tr>\n",
       "<tr>\n",
       "  <th>Time:</th>                <td>19:40:53</td>     <th>  Log-Likelihood:    </th> <td> -1610.8</td> \n",
       "</tr>\n",
       "<tr>\n",
       "  <th>converged:</th>             <td>True</td>       <th>  LL-Null:           </th> <td> -1805.8</td> \n",
       "</tr>\n",
       "<tr>\n",
       "  <th>Covariance Type:</th>     <td>nonrobust</td>    <th>  LLR p-value:       </th> <td>4.049e-81</td>\n",
       "</tr>\n",
       "</table>\n",
       "<table class=\"simpletable\">\n",
       "<tr>\n",
       "         <td></td>            <th>coef</th>     <th>std err</th>      <th>z</th>      <th>P>|z|</th>  <th>[0.025</th>    <th>0.975]</th>  \n",
       "</tr>\n",
       "<tr>\n",
       "  <th>const</th>           <td>   -8.3983</td> <td>    0.387</td> <td>  -21.715</td> <td> 0.000</td> <td>   -9.156</td> <td>   -7.640</td>\n",
       "</tr>\n",
       "<tr>\n",
       "  <th>male</th>            <td>    0.4910</td> <td>    0.097</td> <td>    5.054</td> <td> 0.000</td> <td>    0.301</td> <td>    0.681</td>\n",
       "</tr>\n",
       "<tr>\n",
       "  <th>age</th>             <td>    0.0645</td> <td>    0.006</td> <td>   10.907</td> <td> 0.000</td> <td>    0.053</td> <td>    0.076</td>\n",
       "</tr>\n",
       "<tr>\n",
       "  <th>cigsPerDay</th>      <td>    0.0211</td> <td>    0.004</td> <td>    5.512</td> <td> 0.000</td> <td>    0.014</td> <td>    0.029</td>\n",
       "</tr>\n",
       "<tr>\n",
       "  <th>prevalentStroke</th> <td>    1.0511</td> <td>    0.436</td> <td>    2.411</td> <td> 0.016</td> <td>    0.197</td> <td>    1.906</td>\n",
       "</tr>\n",
       "<tr>\n",
       "  <th>sysBP</th>           <td>    0.0172</td> <td>    0.002</td> <td>    8.580</td> <td> 0.000</td> <td>    0.013</td> <td>    0.021</td>\n",
       "</tr>\n",
       "<tr>\n",
       "  <th>glucose</th>         <td>    0.0067</td> <td>    0.002</td> <td>    4.369</td> <td> 0.000</td> <td>    0.004</td> <td>    0.010</td>\n",
       "</tr>\n",
       "</table>"
      ],
      "text/plain": [
       "<class 'statsmodels.iolib.summary.Summary'>\n",
       "\"\"\"\n",
       "                           Logit Regression Results                           \n",
       "==============================================================================\n",
       "Dep. Variable:             TenYearCHD   No. Observations:                 4238\n",
       "Model:                          Logit   Df Residuals:                     4231\n",
       "Method:                           MLE   Df Model:                            6\n",
       "Date:                Thu, 26 Mar 2020   Pseudo R-squ.:                  0.1080\n",
       "Time:                        19:40:53   Log-Likelihood:                -1610.8\n",
       "converged:                       True   LL-Null:                       -1805.8\n",
       "Covariance Type:            nonrobust   LLR p-value:                 4.049e-81\n",
       "===================================================================================\n",
       "                      coef    std err          z      P>|z|      [0.025      0.975]\n",
       "-----------------------------------------------------------------------------------\n",
       "const              -8.3983      0.387    -21.715      0.000      -9.156      -7.640\n",
       "male                0.4910      0.097      5.054      0.000       0.301       0.681\n",
       "age                 0.0645      0.006     10.907      0.000       0.053       0.076\n",
       "cigsPerDay          0.0211      0.004      5.512      0.000       0.014       0.029\n",
       "prevalentStroke     1.0511      0.436      2.411      0.016       0.197       1.906\n",
       "sysBP               0.0172      0.002      8.580      0.000       0.013       0.021\n",
       "glucose             0.0067      0.002      4.369      0.000       0.004       0.010\n",
       "===================================================================================\n",
       "\"\"\""
      ]
     },
     "execution_count": 18,
     "metadata": {},
     "output_type": "execute_result"
    }
   ],
   "source": [
    "model=sm.Logit(y,Xc[cols])\n",
    "result=model.fit()\n",
    "result.summary()"
   ]
  },
  {
   "cell_type": "code",
   "execution_count": 19,
   "metadata": {},
   "outputs": [
    {
     "data": {
      "text/plain": [
       "const              0.000225\n",
       "male               1.633968\n",
       "age                1.066677\n",
       "cigsPerDay         1.021354\n",
       "prevalentStroke    2.860746\n",
       "sysBP              1.017310\n",
       "glucose            1.006771\n",
       "dtype: float64"
      ]
     },
     "execution_count": 19,
     "metadata": {},
     "output_type": "execute_result"
    }
   ],
   "source": [
    "# Checking the coeffecients of the features\n",
    "exp_cof=np.exp(result.params)\n",
    "exp_cof"
   ]
  },
  {
   "cell_type": "code",
   "execution_count": 20,
   "metadata": {},
   "outputs": [],
   "source": [
    "## Age\n",
    "## 1.Positive sign of age co efficient indicate that, probability of CHD increases with age\n",
    "## 2.When age increase by 1 yr, log(odds) of CHD increase by 0.0646\n",
    "## 3.When age increase by 1 yr, odds of CHD increase by 6%(So 1.066-1)"
   ]
  },
  {
   "cell_type": "code",
   "execution_count": 21,
   "metadata": {},
   "outputs": [],
   "source": [
    "## Male\n",
    "# 1.Positive sign of male co efficient indicate that, probability of CHD in male is high.\n",
    "# 2.log(odds) of CHD for male is higher by 0.49 compared to female\n",
    "# 3.odds(male)/odds(female)=1.63, odds(male) is 63% higher compared to odds(female)\n"
   ]
  },
  {
   "cell_type": "code",
   "execution_count": 22,
   "metadata": {},
   "outputs": [],
   "source": [
    "## Assiging the threshold to determine the prediction from probability"
   ]
  },
  {
   "cell_type": "code",
   "execution_count": 23,
   "metadata": {},
   "outputs": [
    {
     "data": {
      "text/html": [
       "<div>\n",
       "<style scoped>\n",
       "    .dataframe tbody tr th:only-of-type {\n",
       "        vertical-align: middle;\n",
       "    }\n",
       "\n",
       "    .dataframe tbody tr th {\n",
       "        vertical-align: top;\n",
       "    }\n",
       "\n",
       "    .dataframe thead th {\n",
       "        text-align: right;\n",
       "    }\n",
       "</style>\n",
       "<table border=\"1\" class=\"dataframe\">\n",
       "  <thead>\n",
       "    <tr style=\"text-align: right;\">\n",
       "      <th></th>\n",
       "      <th>prob</th>\n",
       "      <th>TenYearCHD</th>\n",
       "      <th>pred</th>\n",
       "    </tr>\n",
       "  </thead>\n",
       "  <tbody>\n",
       "    <tr>\n",
       "      <th>0</th>\n",
       "      <td>0.045171</td>\n",
       "      <td>0.0</td>\n",
       "      <td>0</td>\n",
       "    </tr>\n",
       "    <tr>\n",
       "      <th>1</th>\n",
       "      <td>0.055223</td>\n",
       "      <td>0.0</td>\n",
       "      <td>0</td>\n",
       "    </tr>\n",
       "    <tr>\n",
       "      <th>2</th>\n",
       "      <td>0.151125</td>\n",
       "      <td>0.0</td>\n",
       "      <td>0</td>\n",
       "    </tr>\n",
       "    <tr>\n",
       "      <th>3</th>\n",
       "      <td>0.364114</td>\n",
       "      <td>1.0</td>\n",
       "      <td>0</td>\n",
       "    </tr>\n",
       "    <tr>\n",
       "      <th>4</th>\n",
       "      <td>0.105421</td>\n",
       "      <td>0.0</td>\n",
       "      <td>0</td>\n",
       "    </tr>\n",
       "    <tr>\n",
       "      <th>...</th>\n",
       "      <td>...</td>\n",
       "      <td>...</td>\n",
       "      <td>...</td>\n",
       "    </tr>\n",
       "    <tr>\n",
       "      <th>4233</th>\n",
       "      <td>0.267694</td>\n",
       "      <td>1.0</td>\n",
       "      <td>0</td>\n",
       "    </tr>\n",
       "    <tr>\n",
       "      <th>4234</th>\n",
       "      <td>0.254105</td>\n",
       "      <td>0.0</td>\n",
       "      <td>0</td>\n",
       "    </tr>\n",
       "    <tr>\n",
       "      <th>4235</th>\n",
       "      <td>0.114176</td>\n",
       "      <td>0.0</td>\n",
       "      <td>0</td>\n",
       "    </tr>\n",
       "    <tr>\n",
       "      <th>4236</th>\n",
       "      <td>0.076573</td>\n",
       "      <td>0.0</td>\n",
       "      <td>0</td>\n",
       "    </tr>\n",
       "    <tr>\n",
       "      <th>4237</th>\n",
       "      <td>0.116238</td>\n",
       "      <td>0.0</td>\n",
       "      <td>0</td>\n",
       "    </tr>\n",
       "  </tbody>\n",
       "</table>\n",
       "<p>4238 rows × 3 columns</p>\n",
       "</div>"
      ],
      "text/plain": [
       "          prob  TenYearCHD  pred\n",
       "0     0.045171         0.0     0\n",
       "1     0.055223         0.0     0\n",
       "2     0.151125         0.0     0\n",
       "3     0.364114         1.0     0\n",
       "4     0.105421         0.0     0\n",
       "...        ...         ...   ...\n",
       "4233  0.267694         1.0     0\n",
       "4234  0.254105         0.0     0\n",
       "4235  0.114176         0.0     0\n",
       "4236  0.076573         0.0     0\n",
       "4237  0.116238         0.0     0\n",
       "\n",
       "[4238 rows x 3 columns]"
      ]
     },
     "execution_count": 23,
     "metadata": {},
     "output_type": "execute_result"
    }
   ],
   "source": [
    "prob=result.predict(Xc[cols])\n",
    "prob.name='prob'\n",
    "df_pred=pd.DataFrame([prob,y]).T\n",
    "df_pred['pred']=df_pred['prob'].apply(lambda x:0 if x<0.5 else 1)\n",
    "df_pred"
   ]
  },
  {
   "cell_type": "code",
   "execution_count": 24,
   "metadata": {},
   "outputs": [],
   "source": [
    "from sklearn.metrics import confusion_matrix,classification_report,accuracy_score"
   ]
  },
  {
   "cell_type": "code",
   "execution_count": 25,
   "metadata": {},
   "outputs": [
    {
     "data": {
      "text/plain": [
       "array([[3569,   25],\n",
       "       [ 593,   51]])"
      ]
     },
     "execution_count": 25,
     "metadata": {},
     "output_type": "execute_result"
    }
   ],
   "source": [
    "confusion_matrix(df_pred.TenYearCHD,df_pred.pred)"
   ]
  },
  {
   "cell_type": "code",
   "execution_count": 26,
   "metadata": {},
   "outputs": [
    {
     "data": {
      "text/plain": [
       "0.8541764983482775"
      ]
     },
     "execution_count": 26,
     "metadata": {},
     "output_type": "execute_result"
    }
   ],
   "source": [
    "accuracy_score(df_pred['TenYearCHD'],df_pred['pred'])"
   ]
  },
  {
   "cell_type": "code",
   "execution_count": 27,
   "metadata": {
    "scrolled": true
   },
   "outputs": [
    {
     "name": "stdout",
     "output_type": "stream",
     "text": [
      "              precision    recall  f1-score   support\n",
      "\n",
      "         0.0       0.86      0.99      0.92      3594\n",
      "         1.0       0.67      0.08      0.14       644\n",
      "\n",
      "    accuracy                           0.85      4238\n",
      "   macro avg       0.76      0.54      0.53      4238\n",
      "weighted avg       0.83      0.85      0.80      4238\n",
      "\n"
     ]
    }
   ],
   "source": [
    "print(classification_report(df_pred['TenYearCHD'],df_pred['pred']))"
   ]
  },
  {
   "cell_type": "markdown",
   "metadata": {},
   "source": [
    "## roc analisys"
   ]
  },
  {
   "cell_type": "code",
   "execution_count": 28,
   "metadata": {},
   "outputs": [],
   "source": [
    "from sklearn.metrics import roc_auc_score , roc_curve"
   ]
  },
  {
   "cell_type": "code",
   "execution_count": 29,
   "metadata": {},
   "outputs": [
    {
     "name": "stdout",
     "output_type": "stream",
     "text": [
      "AUC for model: 0.7287583774890518\n",
      "ROC for model: (array([0.        , 0.        , 0.        , ..., 0.99805231, 0.99805231,\n",
      "       1.        ]), array([0.        , 0.0015528 , 0.00465839, ..., 0.9984472 , 1.        ,\n",
      "       1.        ]), array([1.91098344, 0.91098344, 0.88956982, ..., 0.02051858, 0.02025507,\n",
      "       0.01758791]))\n"
     ]
    }
   ],
   "source": [
    "print('AUC for model:',roc_auc_score(df_pred['TenYearCHD'],df_pred['prob']))\n",
    "print('ROC for model:',roc_curve(df_pred['TenYearCHD'],df_pred['prob']))"
   ]
  },
  {
   "cell_type": "code",
   "execution_count": 30,
   "metadata": {},
   "outputs": [],
   "source": [
    "fpr,tpr,threshold=roc_curve(df_pred['TenYearCHD'],df_pred['prob'])"
   ]
  },
  {
   "cell_type": "code",
   "execution_count": 31,
   "metadata": {},
   "outputs": [
    {
     "data": {
      "text/plain": [
       "Text(0, 0.5, 'tpr')"
      ]
     },
     "execution_count": 31,
     "metadata": {},
     "output_type": "execute_result"
    },
    {
     "data": {
      "image/png": "[encoded data removed]",
      "text/plain": [
       "<Figure size 720x360 with 1 Axes>"
      ]
     },
     "metadata": {
      "needs_background": "light"
     },
     "output_type": "display_data"
    }
   ],
   "source": [
    "plt.figure(figsize=(10,5))\n",
    "plt.plot(fpr,tpr)\n",
    "plt.plot(fpr,fpr,'r-')\n",
    "plt.xlabel('fpr')\n",
    "plt.ylabel('tpr')"
   ]
  },
  {
   "cell_type": "code",
   "execution_count": 32,
   "metadata": {},
   "outputs": [],
   "source": [
    "threshold[0]=threshold[0]-1"
   ]
  },
  {
   "cell_type": "code",
   "execution_count": 33,
   "metadata": {},
   "outputs": [
    {
     "data": {
      "text/plain": [
       "Text(0, 0.5, 'tpr')"
      ]
     },
     "execution_count": 33,
     "metadata": {},
     "output_type": "execute_result"
    },
    {
     "data": {
      "image/png": "[encoded data removed]",
      "text/plain": [
       "<Figure size 720x360 with 1 Axes>"
      ]
     },
     "metadata": {
      "needs_background": "light"
     },
     "output_type": "display_data"
    }
   ],
   "source": [
    "plt.figure(figsize=(10,5))\n",
    "plt.plot(fpr,tpr)\n",
    "plt.plot(fpr,fpr,'r-')\n",
    "plt.plot(fpr,threshold,'g-')\n",
    "plt.xlabel('fpr')\n",
    "plt.ylabel('tpr')"
   ]
  },
  {
   "cell_type": "code",
   "execution_count": 34,
   "metadata": {},
   "outputs": [],
   "source": [
    "# Model is not performing its best in estimation, there is a large trade of bias and variance in the  model"
   ]
  },
  {
   "cell_type": "markdown",
   "metadata": {},
   "source": [
    "## Machine Learning "
   ]
  },
  {
   "cell_type": "code",
   "execution_count": 35,
   "metadata": {},
   "outputs": [
    {
     "name": "stdout",
     "output_type": "stream",
     "text": [
      "(2966, 15)\n",
      "(2966,)\n",
      "(1272, 15)\n",
      "(1272,)\n"
     ]
    }
   ],
   "source": [
    "# Declare x,y and split using X_train and y_train\n",
    "X= df.drop(['TenYearCHD'],axis='columns')\n",
    "y= df.TenYearCHD\n",
    "from sklearn.model_selection import train_test_split\n",
    "X_train,X_test,y_train,y_test= train_test_split(X,y,test_size=0.3,random_state=1)\n",
    "print(X_train.shape)\n",
    "print(y_train.shape)\n",
    "print(X_test.shape)\n",
    "print(y_test.shape)"
   ]
  },
  {
   "cell_type": "code",
   "execution_count": 36,
   "metadata": {},
   "outputs": [],
   "source": [
    "# Determine the logisticRegression to validate x_test and y_test\n",
    "# Logistic Regression is maximum likehood model-- iteration till the maximum\n",
    "# Using solver we can stimulate and converge at a faster rate\n",
    "from sklearn.linear_model import LogisticRegression\n",
    "lr = LogisticRegression(fit_intercept=True,solver='liblinear')"
   ]
  },
  {
   "cell_type": "code",
   "execution_count": 37,
   "metadata": {},
   "outputs": [
    {
     "data": {
      "text/plain": [
       "LogisticRegression(C=1.0, class_weight=None, dual=False, fit_intercept=True,\n",
       "                   intercept_scaling=1, l1_ratio=None, max_iter=100,\n",
       "                   multi_class='auto', n_jobs=None, penalty='l2',\n",
       "                   random_state=None, solver='liblinear', tol=0.0001, verbose=0,\n",
       "                   warm_start=False)"
      ]
     },
     "execution_count": 37,
     "metadata": {},
     "output_type": "execute_result"
    }
   ],
   "source": [
    "lr.fit(X_train, y_train)  \n",
    "# In stats we provide y,x while machine learning we provide X,y\n",
    "# Check for any warning if its there again you need to do that"
   ]
  },
  {
   "cell_type": "code",
   "execution_count": 38,
   "metadata": {},
   "outputs": [
    {
     "data": {
      "text/plain": [
       "array([0.15354647, 0.40755877, 0.14066192, ..., 0.12498089, 0.09795486,\n",
       "       0.03977144])"
      ]
     },
     "execution_count": 38,
     "metadata": {},
     "output_type": "execute_result"
    }
   ],
   "source": [
    "# Determine the prediction and Probability\n",
    "y_train_prob = lr.predict_proba(X_train)[:,1]\n",
    "y_train_pred = lr.predict(X_train)\n",
    "y_train_prob  # output- Probability for 0 and 1 i.e ( P,(1-P)) # thats the reason we slice and take the value for 1 alone"
   ]
  },
  {
   "cell_type": "code",
   "execution_count": 39,
   "metadata": {},
   "outputs": [
    {
     "name": "stdout",
     "output_type": "stream",
     "text": [
      "confusion_matrix \n",
      " [[2475   13]\n",
      " [ 442   36]]\n",
      "accuracy_score 0.8465947403910992\n",
      "roc_accuracy acore 0.729854767318274\n",
      "classification_report \n",
      "                precision    recall  f1-score   support\n",
      "\n",
      "           0       0.85      0.99      0.92      2488\n",
      "           1       0.73      0.08      0.14       478\n",
      "\n",
      "    accuracy                           0.85      2966\n",
      "   macro avg       0.79      0.54      0.53      2966\n",
      "weighted avg       0.83      0.85      0.79      2966\n",
      "\n"
     ]
    },
    {
     "data": {
      "image/png": "[encoded data removed]",
      "text/plain": [
       "<Figure size 432x288 with 1 Axes>"
      ]
     },
     "metadata": {
      "needs_background": "light"
     },
     "output_type": "display_data"
    }
   ],
   "source": [
    "# Evaluating on the training data\n",
    "# Determine the confusion matrix ,accuracy_score,roc_curve,roc_auc_score,classification_report\n",
    "from sklearn.metrics import confusion_matrix,accuracy_score,roc_curve,roc_auc_score,classification_report\n",
    "print(\"confusion_matrix \\n\",confusion_matrix(y_train,y_train_pred))         # Evaluating the data on the trained data set-->Train and Predicted\n",
    "print(\"accuracy_score\",accuracy_score(y_train,y_train_pred))           # Train and Predicted\n",
    "print(\"roc_accuracy acore\",roc_auc_score(y_train,y_train_prob))                 # Train and Probability\n",
    "print(\"classification_report \\n \",classification_report(y_train,y_train_pred))   # Train and Predicted\n",
    "fpr, tpr, thresholds =roc_curve(y_train,y_train_prob)  # Train and Probability-- Plotting\n",
    "\n",
    "plt.plot(fpr, tpr)\n",
    "plt.plot(fpr, fpr, \"r-\")\n",
    "plt.show()"
   ]
  },
  {
   "cell_type": "code",
   "execution_count": 40,
   "metadata": {},
   "outputs": [
    {
     "name": "stdout",
     "output_type": "stream",
     "text": [
      "confusion_matrix \n",
      " [[1096   10]\n",
      " [ 156   10]]\n",
      "accuracy_score 0.8694968553459119\n",
      "roc_accuracy acore 0.7084903810540535\n",
      "classification_report \n",
      "                precision    recall  f1-score   support\n",
      "\n",
      "           0       0.85      0.99      0.92      2488\n",
      "           1       0.73      0.08      0.14       478\n",
      "\n",
      "    accuracy                           0.85      2966\n",
      "   macro avg       0.79      0.54      0.53      2966\n",
      "weighted avg       0.83      0.85      0.79      2966\n",
      "\n"
     ]
    },
    {
     "data": {
      "image/png": "[encoded data removed]",
      "text/plain": [
       "<Figure size 432x288 with 1 Axes>"
      ]
     },
     "metadata": {
      "needs_background": "light"
     },
     "output_type": "display_data"
    }
   ],
   "source": [
    "# Validating the data on the test data set\n",
    "y_test_prob = lr.predict_proba(X_test)[:,1]\n",
    "y_test_pred = lr.predict(X_test)\n",
    "print(\"confusion_matrix \\n\",confusion_matrix(y_test,y_test_pred))         # Validating the data on the trained data set-->Train and Predicted\n",
    "print(\"accuracy_score\",accuracy_score(y_test,y_test_pred))           # Test and Predicted\n",
    "print(\"roc_accuracy acore\",roc_auc_score(y_test,y_test_prob))                 # Test and Probability\n",
    "print(\"classification_report \\n \",classification_report(y_train,y_train_pred))   # Test and Predicted\n",
    "fpr,tpr,thresholds = roc_curve(y_test,y_test_prob)  # Test and Probability-- Plotting\n",
    "plt.plot(fpr, tpr)\n",
    "plt.plot(fpr, fpr, \"r-\")\n",
    "plt.show()"
   ]
  },
  {
   "cell_type": "code",
   "execution_count": 41,
   "metadata": {},
   "outputs": [],
   "source": [
    "# Model is Performing good in both Test and Training data Set"
   ]
  },
  {
   "cell_type": "code",
   "execution_count": 42,
   "metadata": {},
   "outputs": [
    {
     "data": {
      "text/html": [
       "<div>\n",
       "<style scoped>\n",
       "    .dataframe tbody tr th:only-of-type {\n",
       "        vertical-align: middle;\n",
       "    }\n",
       "\n",
       "    .dataframe tbody tr th {\n",
       "        vertical-align: top;\n",
       "    }\n",
       "\n",
       "    .dataframe thead th {\n",
       "        text-align: right;\n",
       "    }\n",
       "</style>\n",
       "<table border=\"1\" class=\"dataframe\">\n",
       "  <thead>\n",
       "    <tr style=\"text-align: right;\">\n",
       "      <th></th>\n",
       "      <th>0</th>\n",
       "    </tr>\n",
       "  </thead>\n",
       "  <tbody>\n",
       "    <tr>\n",
       "      <th>accuracy</th>\n",
       "      <td>0.933333</td>\n",
       "    </tr>\n",
       "    <tr>\n",
       "      <th>recall</th>\n",
       "      <td>0.861111</td>\n",
       "    </tr>\n",
       "    <tr>\n",
       "      <th>precision</th>\n",
       "      <td>0.645833</td>\n",
       "    </tr>\n",
       "    <tr>\n",
       "      <th>roc_auc_score</th>\n",
       "      <td>0.901644</td>\n",
       "    </tr>\n",
       "  </tbody>\n",
       "</table>\n",
       "</div>"
      ],
      "text/plain": [
       "                      0\n",
       "accuracy       0.933333\n",
       "recall         0.861111\n",
       "precision      0.645833\n",
       "roc_auc_score  0.901644"
      ]
     },
     "execution_count": 42,
     "metadata": {},
     "output_type": "execute_result"
    }
   ],
   "source": [
    "# IF we want to change the thresold to estimate the predicts( threshold= 0.25)\n",
    "\n",
    "from sklearn.datasets import make_classification\n",
    "from sklearn.model_selection import train_test_split\n",
    "from sklearn.linear_model import LogisticRegression\n",
    "from sklearn.metrics import accuracy_score, confusion_matrix, recall_score, roc_auc_score, precision_score\n",
    "\n",
    "X, y = make_classification(\n",
    "    n_classes=2, class_sep=1.5, weights=[0.9, 0.1],\n",
    "    n_features=20, n_samples=1000, random_state=10\n",
    ")\n",
    "\n",
    "X_train, X_test, y_train, y_test = train_test_split(X, y, test_size=0.33, random_state=42)\n",
    "\n",
    "clf = LogisticRegression(class_weight=\"balanced\")\n",
    "clf.fit(X_train, y_train)\n",
    "THRESHOLD = 0.25\n",
    "preds = np.where(clf.predict_proba(X_test)[:,1] > THRESHOLD, 1, 0)\n",
    "\n",
    "pd.DataFrame(data=[accuracy_score(y_test, preds), recall_score(y_test, preds),\n",
    "                   precision_score(y_test, preds), roc_auc_score(y_test, preds)], \n",
    "             index=[\"accuracy\", \"recall\", \"precision\", \"roc_auc_score\"])\n"
   ]
  },
  {
   "cell_type": "code",
   "execution_count": 43,
   "metadata": {},
   "outputs": [],
   "source": [
    "## Statistical Model, Machine Learning Model both performs with a normal accuracy of 85% \n",
    "## If the threshold value is been reduced to 25% rather than 50% the accuarcy value increases with the sacrifice of precision"
   ]
  }
 ],
 "metadata": {
  "kernelspec": {
   "display_name": "Python 3",
   "language": "python",
   "name": "python3"
  },
  "language_info": {
   "codemirror_mode": {
    "name": "ipython",
    "version": 3
   },
   "file_extension": ".py",
   "mimetype": "text/x-python",
   "name": "python",
   "nbconvert_exporter": "python",
   "pygments_lexer": "ipython3",
   "version": "3.6.6"
  }
 },
 "nbformat": 4,
 "nbformat_minor": 4
}
