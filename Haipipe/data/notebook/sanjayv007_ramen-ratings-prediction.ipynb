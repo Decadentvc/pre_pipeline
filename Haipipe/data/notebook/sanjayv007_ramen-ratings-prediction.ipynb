{
 "cells": [
  {
   "cell_type": "code",
   "execution_count": 1,
   "metadata": {
    "_cell_guid": "b1076dfc-b9ad-4769-8c92-a6c4dae69d19",
    "_uuid": "8f2839f25d086af736a60e9eeb907d3b93b6e0e5",
    "execution": {
     "iopub.execute_input": "2020-09-15T14:04:49.938438Z",
     "iopub.status.busy": "2020-09-15T14:04:49.937725Z",
     "iopub.status.idle": "2020-09-15T14:04:49.944310Z",
     "shell.execute_reply": "2020-09-15T14:04:49.944948Z"
    },
    "papermill": {
     "duration": 0.046155,
     "end_time": "2020-09-15T14:04:49.945136",
     "exception": false,
     "start_time": "2020-09-15T14:04:49.898981",
     "status": "completed"
    },
    "tags": []
   },
   "outputs": [
    {
     "name": "stdout",
     "output_type": "stream",
     "text": [
      "/kaggle/input/ramen-ratings/ramen-ratings.csv\n"
     ]
    }
   ],
   "source": [
    "# This Python 3 environment comes with many helpful analytics libraries installed\n",
    "# It is defined by the kaggle/python Docker image: https://github.com/kaggle/docker-python\n",
    "# For example, here's several helpful packages to load\n",
    "\n",
    "import numpy as np # linear algebra\n",
    "import pandas as pd # data processing, CSV file I/O (e.g. pd.read_csv)\n",
    "\n",
    "# Input data files are available in the read-only \"../input/\" directory\n",
    "# For example, running this (by clicking run or pressing Shift+Enter) will list all files under the input directory\n",
    "\n",
    "import os\n",
    "for dirname, _, filenames in os.walk('/kaggle/input'):\n",
    "    for filename in filenames:\n",
    "        print(os.path.join(dirname, filename))\n",
    "\n",
    "# You can write up to 5GB to the current directory (/kaggle/working/) that gets preserved as output when you create a version using \"Save & Run All\" \n",
    "# You can also write temporary files to /kaggle/temp/, but they won't be saved outside of the current session"
   ]
  },
  {
   "cell_type": "code",
   "execution_count": 2,
   "metadata": {
    "_cell_guid": "79c7e3d0-c299-4dcb-8224-4455121ee9b0",
    "_uuid": "d629ff2d2480ee46fbb7e2d37f6b5fab8052498a",
    "execution": {
     "iopub.execute_input": "2020-09-15T14:04:50.016653Z",
     "iopub.status.busy": "2020-09-15T14:04:50.015865Z",
     "iopub.status.idle": "2020-09-15T14:04:50.042336Z",
     "shell.execute_reply": "2020-09-15T14:04:50.042910Z"
    },
    "papermill": {
     "duration": 0.062346,
     "end_time": "2020-09-15T14:04:50.043083",
     "exception": false,
     "start_time": "2020-09-15T14:04:49.980737",
     "status": "completed"
    },
    "tags": []
   },
   "outputs": [],
   "source": [
    "df = pd.read_csv('/kaggle/input/ramen-ratings/ramen-ratings.csv')"
   ]
  },
  {
   "cell_type": "code",
   "execution_count": 3,
   "metadata": {
    "execution": {
     "iopub.execute_input": "2020-09-15T14:04:50.108699Z",
     "iopub.status.busy": "2020-09-15T14:04:50.107875Z",
     "iopub.status.idle": "2020-09-15T14:04:50.130605Z",
     "shell.execute_reply": "2020-09-15T14:04:50.131179Z"
    },
    "papermill": {
     "duration": 0.057475,
     "end_time": "2020-09-15T14:04:50.131357",
     "exception": false,
     "start_time": "2020-09-15T14:04:50.073882",
     "status": "completed"
    },
    "tags": []
   },
   "outputs": [
    {
     "data": {
      "text/html": [
       "<div>\n",
       "<style scoped>\n",
       "    .dataframe tbody tr th:only-of-type {\n",
       "        vertical-align: middle;\n",
       "    }\n",
       "\n",
       "    .dataframe tbody tr th {\n",
       "        vertical-align: top;\n",
       "    }\n",
       "\n",
       "    .dataframe thead th {\n",
       "        text-align: right;\n",
       "    }\n",
       "</style>\n",
       "<table border=\"1\" class=\"dataframe\">\n",
       "  <thead>\n",
       "    <tr style=\"text-align: right;\">\n",
       "      <th></th>\n",
       "      <th>Review #</th>\n",
       "      <th>Brand</th>\n",
       "      <th>Variety</th>\n",
       "      <th>Style</th>\n",
       "      <th>Country</th>\n",
       "      <th>Stars</th>\n",
       "      <th>Top Ten</th>\n",
       "    </tr>\n",
       "  </thead>\n",
       "  <tbody>\n",
       "    <tr>\n",
       "      <th>0</th>\n",
       "      <td>2580</td>\n",
       "      <td>New Touch</td>\n",
       "      <td>T's Restaurant Tantanmen</td>\n",
       "      <td>Cup</td>\n",
       "      <td>Japan</td>\n",
       "      <td>3.75</td>\n",
       "      <td>NaN</td>\n",
       "    </tr>\n",
       "    <tr>\n",
       "      <th>1</th>\n",
       "      <td>2579</td>\n",
       "      <td>Just Way</td>\n",
       "      <td>Noodles Spicy Hot Sesame Spicy Hot Sesame Guan...</td>\n",
       "      <td>Pack</td>\n",
       "      <td>Taiwan</td>\n",
       "      <td>1</td>\n",
       "      <td>NaN</td>\n",
       "    </tr>\n",
       "    <tr>\n",
       "      <th>2</th>\n",
       "      <td>2578</td>\n",
       "      <td>Nissin</td>\n",
       "      <td>Cup Noodles Chicken Vegetable</td>\n",
       "      <td>Cup</td>\n",
       "      <td>USA</td>\n",
       "      <td>2.25</td>\n",
       "      <td>NaN</td>\n",
       "    </tr>\n",
       "    <tr>\n",
       "      <th>3</th>\n",
       "      <td>2577</td>\n",
       "      <td>Wei Lih</td>\n",
       "      <td>GGE Ramen Snack Tomato Flavor</td>\n",
       "      <td>Pack</td>\n",
       "      <td>Taiwan</td>\n",
       "      <td>2.75</td>\n",
       "      <td>NaN</td>\n",
       "    </tr>\n",
       "    <tr>\n",
       "      <th>4</th>\n",
       "      <td>2576</td>\n",
       "      <td>Ching's Secret</td>\n",
       "      <td>Singapore Curry</td>\n",
       "      <td>Pack</td>\n",
       "      <td>India</td>\n",
       "      <td>3.75</td>\n",
       "      <td>NaN</td>\n",
       "    </tr>\n",
       "  </tbody>\n",
       "</table>\n",
       "</div>"
      ],
      "text/plain": [
       "   Review #           Brand  \\\n",
       "0      2580       New Touch   \n",
       "1      2579        Just Way   \n",
       "2      2578          Nissin   \n",
       "3      2577         Wei Lih   \n",
       "4      2576  Ching's Secret   \n",
       "\n",
       "                                             Variety Style Country Stars  \\\n",
       "0                          T's Restaurant Tantanmen    Cup   Japan  3.75   \n",
       "1  Noodles Spicy Hot Sesame Spicy Hot Sesame Guan...  Pack  Taiwan     1   \n",
       "2                      Cup Noodles Chicken Vegetable   Cup     USA  2.25   \n",
       "3                      GGE Ramen Snack Tomato Flavor  Pack  Taiwan  2.75   \n",
       "4                                    Singapore Curry  Pack   India  3.75   \n",
       "\n",
       "  Top Ten  \n",
       "0     NaN  \n",
       "1     NaN  \n",
       "2     NaN  \n",
       "3     NaN  \n",
       "4     NaN  "
      ]
     },
     "execution_count": 3,
     "metadata": {},
     "output_type": "execute_result"
    }
   ],
   "source": [
    "df.head()"
   ]
  },
  {
   "cell_type": "code",
   "execution_count": 4,
   "metadata": {
    "execution": {
     "iopub.execute_input": "2020-09-15T14:04:50.203567Z",
     "iopub.status.busy": "2020-09-15T14:04:50.202743Z",
     "iopub.status.idle": "2020-09-15T14:04:50.215550Z",
     "shell.execute_reply": "2020-09-15T14:04:50.214808Z"
    },
    "papermill": {
     "duration": 0.049993,
     "end_time": "2020-09-15T14:04:50.215677",
     "exception": false,
     "start_time": "2020-09-15T14:04:50.165684",
     "status": "completed"
    },
    "tags": []
   },
   "outputs": [],
   "source": [
    "df = df.drop(columns=['Top Ten'])"
   ]
  },
  {
   "cell_type": "code",
   "execution_count": 5,
   "metadata": {
    "execution": {
     "iopub.execute_input": "2020-09-15T14:04:50.286242Z",
     "iopub.status.busy": "2020-09-15T14:04:50.285103Z",
     "iopub.status.idle": "2020-09-15T14:04:50.295531Z",
     "shell.execute_reply": "2020-09-15T14:04:50.296104Z"
    },
    "papermill": {
     "duration": 0.04579,
     "end_time": "2020-09-15T14:04:50.296261",
     "exception": false,
     "start_time": "2020-09-15T14:04:50.250471",
     "status": "completed"
    },
    "tags": []
   },
   "outputs": [
    {
     "data": {
      "text/plain": [
       "Review #    0\n",
       "Brand       0\n",
       "Variety     0\n",
       "Style       2\n",
       "Country     0\n",
       "Stars       0\n",
       "dtype: int64"
      ]
     },
     "execution_count": 5,
     "metadata": {},
     "output_type": "execute_result"
    }
   ],
   "source": [
    "df.isnull().sum()"
   ]
  },
  {
   "cell_type": "code",
   "execution_count": 6,
   "metadata": {
    "execution": {
     "iopub.execute_input": "2020-09-15T14:04:50.365467Z",
     "iopub.status.busy": "2020-09-15T14:04:50.364441Z",
     "iopub.status.idle": "2020-09-15T14:04:50.400170Z",
     "shell.execute_reply": "2020-09-15T14:04:50.399469Z"
    },
    "papermill": {
     "duration": 0.071037,
     "end_time": "2020-09-15T14:04:50.400296",
     "exception": false,
     "start_time": "2020-09-15T14:04:50.329259",
     "status": "completed"
    },
    "tags": []
   },
   "outputs": [],
   "source": [
    "df = df.dropna()"
   ]
  },
  {
   "cell_type": "code",
   "execution_count": 7,
   "metadata": {
    "execution": {
     "iopub.execute_input": "2020-09-15T14:04:50.478042Z",
     "iopub.status.busy": "2020-09-15T14:04:50.476938Z",
     "iopub.status.idle": "2020-09-15T14:04:50.483464Z",
     "shell.execute_reply": "2020-09-15T14:04:50.482743Z"
    },
    "papermill": {
     "duration": 0.050965,
     "end_time": "2020-09-15T14:04:50.483609",
     "exception": false,
     "start_time": "2020-09-15T14:04:50.432644",
     "status": "completed"
    },
    "tags": []
   },
   "outputs": [
    {
     "data": {
      "text/plain": [
       "Review #    0\n",
       "Brand       0\n",
       "Variety     0\n",
       "Style       0\n",
       "Country     0\n",
       "Stars       0\n",
       "dtype: int64"
      ]
     },
     "execution_count": 7,
     "metadata": {},
     "output_type": "execute_result"
    }
   ],
   "source": [
    "df.isnull().sum()"
   ]
  },
  {
   "cell_type": "code",
   "execution_count": 8,
   "metadata": {
    "execution": {
     "iopub.execute_input": "2020-09-15T14:04:50.563618Z",
     "iopub.status.busy": "2020-09-15T14:04:50.562391Z",
     "iopub.status.idle": "2020-09-15T14:04:50.578240Z",
     "shell.execute_reply": "2020-09-15T14:04:50.577611Z"
    },
    "papermill": {
     "duration": 0.060505,
     "end_time": "2020-09-15T14:04:50.578371",
     "exception": false,
     "start_time": "2020-09-15T14:04:50.517866",
     "status": "completed"
    },
    "tags": []
   },
   "outputs": [
    {
     "data": {
      "text/html": [
       "<div>\n",
       "<style scoped>\n",
       "    .dataframe tbody tr th:only-of-type {\n",
       "        vertical-align: middle;\n",
       "    }\n",
       "\n",
       "    .dataframe tbody tr th {\n",
       "        vertical-align: top;\n",
       "    }\n",
       "\n",
       "    .dataframe thead th {\n",
       "        text-align: right;\n",
       "    }\n",
       "</style>\n",
       "<table border=\"1\" class=\"dataframe\">\n",
       "  <thead>\n",
       "    <tr style=\"text-align: right;\">\n",
       "      <th></th>\n",
       "      <th>Review #</th>\n",
       "    </tr>\n",
       "  </thead>\n",
       "  <tbody>\n",
       "    <tr>\n",
       "      <th>count</th>\n",
       "      <td>2578.000000</td>\n",
       "    </tr>\n",
       "    <tr>\n",
       "      <th>mean</th>\n",
       "      <td>1291.281614</td>\n",
       "    </tr>\n",
       "    <tr>\n",
       "      <th>std</th>\n",
       "      <td>744.675068</td>\n",
       "    </tr>\n",
       "    <tr>\n",
       "      <th>min</th>\n",
       "      <td>1.000000</td>\n",
       "    </tr>\n",
       "    <tr>\n",
       "      <th>25%</th>\n",
       "      <td>647.250000</td>\n",
       "    </tr>\n",
       "    <tr>\n",
       "      <th>50%</th>\n",
       "      <td>1291.500000</td>\n",
       "    </tr>\n",
       "    <tr>\n",
       "      <th>75%</th>\n",
       "      <td>1935.750000</td>\n",
       "    </tr>\n",
       "    <tr>\n",
       "      <th>max</th>\n",
       "      <td>2580.000000</td>\n",
       "    </tr>\n",
       "  </tbody>\n",
       "</table>\n",
       "</div>"
      ],
      "text/plain": [
       "          Review #\n",
       "count  2578.000000\n",
       "mean   1291.281614\n",
       "std     744.675068\n",
       "min       1.000000\n",
       "25%     647.250000\n",
       "50%    1291.500000\n",
       "75%    1935.750000\n",
       "max    2580.000000"
      ]
     },
     "execution_count": 8,
     "metadata": {},
     "output_type": "execute_result"
    }
   ],
   "source": [
    "df.describe()"
   ]
  },
  {
   "cell_type": "code",
   "execution_count": 9,
   "metadata": {
    "execution": {
     "iopub.execute_input": "2020-09-15T14:04:50.666955Z",
     "iopub.status.busy": "2020-09-15T14:04:50.666221Z",
     "iopub.status.idle": "2020-09-15T14:04:50.671544Z",
     "shell.execute_reply": "2020-09-15T14:04:50.670866Z"
    },
    "papermill": {
     "duration": 0.058266,
     "end_time": "2020-09-15T14:04:50.671666",
     "exception": false,
     "start_time": "2020-09-15T14:04:50.613400",
     "status": "completed"
    },
    "tags": []
   },
   "outputs": [
    {
     "data": {
      "text/html": [
       "<div>\n",
       "<style scoped>\n",
       "    .dataframe tbody tr th:only-of-type {\n",
       "        vertical-align: middle;\n",
       "    }\n",
       "\n",
       "    .dataframe tbody tr th {\n",
       "        vertical-align: top;\n",
       "    }\n",
       "\n",
       "    .dataframe thead th {\n",
       "        text-align: right;\n",
       "    }\n",
       "</style>\n",
       "<table border=\"1\" class=\"dataframe\">\n",
       "  <thead>\n",
       "    <tr style=\"text-align: right;\">\n",
       "      <th></th>\n",
       "      <th>Review #</th>\n",
       "      <th>Brand</th>\n",
       "      <th>Variety</th>\n",
       "      <th>Country</th>\n",
       "      <th>Stars</th>\n",
       "    </tr>\n",
       "  </thead>\n",
       "  <tbody>\n",
       "    <tr>\n",
       "      <th>0</th>\n",
       "      <td>2580</td>\n",
       "      <td>New Touch</td>\n",
       "      <td>T's Restaurant Tantanmen</td>\n",
       "      <td>Japan</td>\n",
       "      <td>3.75</td>\n",
       "    </tr>\n",
       "    <tr>\n",
       "      <th>1</th>\n",
       "      <td>2579</td>\n",
       "      <td>Just Way</td>\n",
       "      <td>Noodles Spicy Hot Sesame Spicy Hot Sesame Guan...</td>\n",
       "      <td>Taiwan</td>\n",
       "      <td>1</td>\n",
       "    </tr>\n",
       "    <tr>\n",
       "      <th>2</th>\n",
       "      <td>2578</td>\n",
       "      <td>Nissin</td>\n",
       "      <td>Cup Noodles Chicken Vegetable</td>\n",
       "      <td>USA</td>\n",
       "      <td>2.25</td>\n",
       "    </tr>\n",
       "    <tr>\n",
       "      <th>3</th>\n",
       "      <td>2577</td>\n",
       "      <td>Wei Lih</td>\n",
       "      <td>GGE Ramen Snack Tomato Flavor</td>\n",
       "      <td>Taiwan</td>\n",
       "      <td>2.75</td>\n",
       "    </tr>\n",
       "    <tr>\n",
       "      <th>4</th>\n",
       "      <td>2576</td>\n",
       "      <td>Ching's Secret</td>\n",
       "      <td>Singapore Curry</td>\n",
       "      <td>India</td>\n",
       "      <td>3.75</td>\n",
       "    </tr>\n",
       "    <tr>\n",
       "      <th>...</th>\n",
       "      <td>...</td>\n",
       "      <td>...</td>\n",
       "      <td>...</td>\n",
       "      <td>...</td>\n",
       "      <td>...</td>\n",
       "    </tr>\n",
       "    <tr>\n",
       "      <th>2575</th>\n",
       "      <td>5</td>\n",
       "      <td>Vifon</td>\n",
       "      <td>Hu Tiu Nam Vang [\"Phnom Penh\" style] Asian Sty...</td>\n",
       "      <td>Vietnam</td>\n",
       "      <td>3.5</td>\n",
       "    </tr>\n",
       "    <tr>\n",
       "      <th>2576</th>\n",
       "      <td>4</td>\n",
       "      <td>Wai Wai</td>\n",
       "      <td>Oriental Style Instant Noodles</td>\n",
       "      <td>Thailand</td>\n",
       "      <td>1</td>\n",
       "    </tr>\n",
       "    <tr>\n",
       "      <th>2577</th>\n",
       "      <td>3</td>\n",
       "      <td>Wai Wai</td>\n",
       "      <td>Tom Yum Shrimp</td>\n",
       "      <td>Thailand</td>\n",
       "      <td>2</td>\n",
       "    </tr>\n",
       "    <tr>\n",
       "      <th>2578</th>\n",
       "      <td>2</td>\n",
       "      <td>Wai Wai</td>\n",
       "      <td>Tom Yum Chili Flavor</td>\n",
       "      <td>Thailand</td>\n",
       "      <td>2</td>\n",
       "    </tr>\n",
       "    <tr>\n",
       "      <th>2579</th>\n",
       "      <td>1</td>\n",
       "      <td>Westbrae</td>\n",
       "      <td>Miso Ramen</td>\n",
       "      <td>USA</td>\n",
       "      <td>0.5</td>\n",
       "    </tr>\n",
       "  </tbody>\n",
       "</table>\n",
       "<p>2578 rows × 5 columns</p>\n",
       "</div>"
      ],
      "text/plain": [
       "      Review #           Brand  \\\n",
       "0         2580       New Touch   \n",
       "1         2579        Just Way   \n",
       "2         2578          Nissin   \n",
       "3         2577         Wei Lih   \n",
       "4         2576  Ching's Secret   \n",
       "...        ...             ...   \n",
       "2575         5           Vifon   \n",
       "2576         4         Wai Wai   \n",
       "2577         3         Wai Wai   \n",
       "2578         2         Wai Wai   \n",
       "2579         1        Westbrae   \n",
       "\n",
       "                                                Variety   Country Stars  \n",
       "0                             T's Restaurant Tantanmen      Japan  3.75  \n",
       "1     Noodles Spicy Hot Sesame Spicy Hot Sesame Guan...    Taiwan     1  \n",
       "2                         Cup Noodles Chicken Vegetable       USA  2.25  \n",
       "3                         GGE Ramen Snack Tomato Flavor    Taiwan  2.75  \n",
       "4                                       Singapore Curry     India  3.75  \n",
       "...                                                 ...       ...   ...  \n",
       "2575  Hu Tiu Nam Vang [\"Phnom Penh\" style] Asian Sty...   Vietnam   3.5  \n",
       "2576                     Oriental Style Instant Noodles  Thailand     1  \n",
       "2577                                     Tom Yum Shrimp  Thailand     2  \n",
       "2578                               Tom Yum Chili Flavor  Thailand     2  \n",
       "2579                                         Miso Ramen       USA   0.5  \n",
       "\n",
       "[2578 rows x 5 columns]"
      ]
     },
     "execution_count": 9,
     "metadata": {},
     "output_type": "execute_result"
    }
   ],
   "source": [
    "x = df.drop(columns=['Style'])\n",
    "x"
   ]
  },
  {
   "cell_type": "code",
   "execution_count": 10,
   "metadata": {
    "execution": {
     "iopub.execute_input": "2020-09-15T14:04:50.745644Z",
     "iopub.status.busy": "2020-09-15T14:04:50.744691Z",
     "iopub.status.idle": "2020-09-15T14:04:50.753138Z",
     "shell.execute_reply": "2020-09-15T14:04:50.752575Z"
    },
    "papermill": {
     "duration": 0.046022,
     "end_time": "2020-09-15T14:04:50.753266",
     "exception": false,
     "start_time": "2020-09-15T14:04:50.707244",
     "status": "completed"
    },
    "tags": []
   },
   "outputs": [
    {
     "data": {
      "text/plain": [
       "0        Cup\n",
       "1       Pack\n",
       "2        Cup\n",
       "3       Pack\n",
       "4       Pack\n",
       "        ... \n",
       "2575    Bowl\n",
       "2576    Pack\n",
       "2577    Pack\n",
       "2578    Pack\n",
       "2579    Pack\n",
       "Name: Style, Length: 2578, dtype: object"
      ]
     },
     "execution_count": 10,
     "metadata": {},
     "output_type": "execute_result"
    }
   ],
   "source": [
    "y = df['Style']\n",
    "y"
   ]
  },
  {
   "cell_type": "markdown",
   "metadata": {
    "papermill": {
     "duration": 0.03512,
     "end_time": "2020-09-15T14:04:50.823056",
     "exception": false,
     "start_time": "2020-09-15T14:04:50.787936",
     "status": "completed"
    },
    "tags": []
   },
   "source": [
    "# Bar Plot"
   ]
  },
  {
   "cell_type": "code",
   "execution_count": 11,
   "metadata": {
    "execution": {
     "iopub.execute_input": "2020-09-15T14:04:50.902920Z",
     "iopub.status.busy": "2020-09-15T14:04:50.902189Z",
     "iopub.status.idle": "2020-09-15T14:04:51.123158Z",
     "shell.execute_reply": "2020-09-15T14:04:51.123674Z"
    },
    "papermill": {
     "duration": 0.263281,
     "end_time": "2020-09-15T14:04:51.123862",
     "exception": false,
     "start_time": "2020-09-15T14:04:50.860581",
     "status": "completed"
    },
    "tags": []
   },
   "outputs": [
    {
     "data": {
      "text/plain": [
       "Text(0, 0.5, 'Frequency')"
      ]
     },
     "execution_count": 11,
     "metadata": {},
     "output_type": "execute_result"
    },
    {
     "data": {
      "image/png": "[encoded data removed]",
      "text/plain": [
       "<Figure size 432x288 with 1 Axes>"
      ]
     },
     "metadata": {
      "needs_background": "light"
     },
     "output_type": "display_data"
    }
   ],
   "source": [
    "import matplotlib.pyplot as plt\n",
    "# create figure and axis\n",
    "fig, ax = plt.subplots()\n",
    "# plot histogram\n",
    "ax.hist(df['Style'])\n",
    "# set title and labels\n",
    "ax.set_title('Style of Presenting')\n",
    "ax.set_xlabel('Types')\n",
    "ax.set_ylabel('Frequency')"
   ]
  },
  {
   "cell_type": "markdown",
   "metadata": {
    "papermill": {
     "duration": 0.035984,
     "end_time": "2020-09-15T14:04:51.195984",
     "exception": false,
     "start_time": "2020-09-15T14:04:51.160000",
     "status": "completed"
    },
    "tags": []
   },
   "source": [
    "Label encoding to convert string to numeric type"
   ]
  },
  {
   "cell_type": "code",
   "execution_count": 12,
   "metadata": {
    "execution": {
     "iopub.execute_input": "2020-09-15T14:04:51.274268Z",
     "iopub.status.busy": "2020-09-15T14:04:51.273566Z",
     "iopub.status.idle": "2020-09-15T14:04:52.544388Z",
     "shell.execute_reply": "2020-09-15T14:04:52.543754Z"
    },
    "papermill": {
     "duration": 1.312778,
     "end_time": "2020-09-15T14:04:52.544594",
     "exception": false,
     "start_time": "2020-09-15T14:04:51.231816",
     "status": "completed"
    },
    "tags": []
   },
   "outputs": [
    {
     "data": {
      "text/html": [
       "<div>\n",
       "<style scoped>\n",
       "    .dataframe tbody tr th:only-of-type {\n",
       "        vertical-align: middle;\n",
       "    }\n",
       "\n",
       "    .dataframe tbody tr th {\n",
       "        vertical-align: top;\n",
       "    }\n",
       "\n",
       "    .dataframe thead th {\n",
       "        text-align: right;\n",
       "    }\n",
       "</style>\n",
       "<table border=\"1\" class=\"dataframe\">\n",
       "  <thead>\n",
       "    <tr style=\"text-align: right;\">\n",
       "      <th></th>\n",
       "      <th>Review #</th>\n",
       "      <th>Brand</th>\n",
       "      <th>Variety</th>\n",
       "      <th>Country</th>\n",
       "      <th>Stars</th>\n",
       "    </tr>\n",
       "  </thead>\n",
       "  <tbody>\n",
       "    <tr>\n",
       "      <th>0</th>\n",
       "      <td>2577</td>\n",
       "      <td>190</td>\n",
       "      <td>2187</td>\n",
       "      <td>18</td>\n",
       "      <td>36</td>\n",
       "    </tr>\n",
       "    <tr>\n",
       "      <th>1</th>\n",
       "      <td>2576</td>\n",
       "      <td>119</td>\n",
       "      <td>1441</td>\n",
       "      <td>32</td>\n",
       "      <td>6</td>\n",
       "    </tr>\n",
       "    <tr>\n",
       "      <th>2</th>\n",
       "      <td>2575</td>\n",
       "      <td>192</td>\n",
       "      <td>453</td>\n",
       "      <td>35</td>\n",
       "      <td>15</td>\n",
       "    </tr>\n",
       "    <tr>\n",
       "      <th>3</th>\n",
       "      <td>2574</td>\n",
       "      <td>336</td>\n",
       "      <td>707</td>\n",
       "      <td>32</td>\n",
       "      <td>18</td>\n",
       "    </tr>\n",
       "    <tr>\n",
       "      <th>4</th>\n",
       "      <td>2573</td>\n",
       "      <td>38</td>\n",
       "      <td>1952</td>\n",
       "      <td>16</td>\n",
       "      <td>36</td>\n",
       "    </tr>\n",
       "    <tr>\n",
       "      <th>...</th>\n",
       "      <td>...</td>\n",
       "      <td>...</td>\n",
       "      <td>...</td>\n",
       "      <td>...</td>\n",
       "      <td>...</td>\n",
       "    </tr>\n",
       "    <tr>\n",
       "      <th>2575</th>\n",
       "      <td>4</td>\n",
       "      <td>329</td>\n",
       "      <td>848</td>\n",
       "      <td>37</td>\n",
       "      <td>31</td>\n",
       "    </tr>\n",
       "    <tr>\n",
       "      <th>2576</th>\n",
       "      <td>3</td>\n",
       "      <td>332</td>\n",
       "      <td>1509</td>\n",
       "      <td>33</td>\n",
       "      <td>6</td>\n",
       "    </tr>\n",
       "    <tr>\n",
       "      <th>2577</th>\n",
       "      <td>2</td>\n",
       "      <td>332</td>\n",
       "      <td>2250</td>\n",
       "      <td>33</td>\n",
       "      <td>12</td>\n",
       "    </tr>\n",
       "    <tr>\n",
       "      <th>2578</th>\n",
       "      <td>1</td>\n",
       "      <td>332</td>\n",
       "      <td>2246</td>\n",
       "      <td>33</td>\n",
       "      <td>12</td>\n",
       "    </tr>\n",
       "    <tr>\n",
       "      <th>2579</th>\n",
       "      <td>0</td>\n",
       "      <td>338</td>\n",
       "      <td>1330</td>\n",
       "      <td>35</td>\n",
       "      <td>3</td>\n",
       "    </tr>\n",
       "  </tbody>\n",
       "</table>\n",
       "<p>2578 rows × 5 columns</p>\n",
       "</div>"
      ],
      "text/plain": [
       "      Review #  Brand  Variety  Country  Stars\n",
       "0         2577    190     2187       18     36\n",
       "1         2576    119     1441       32      6\n",
       "2         2575    192      453       35     15\n",
       "3         2574    336      707       32     18\n",
       "4         2573     38     1952       16     36\n",
       "...        ...    ...      ...      ...    ...\n",
       "2575         4    329      848       37     31\n",
       "2576         3    332     1509       33      6\n",
       "2577         2    332     2250       33     12\n",
       "2578         1    332     2246       33     12\n",
       "2579         0    338     1330       35      3\n",
       "\n",
       "[2578 rows x 5 columns]"
      ]
     },
     "execution_count": 12,
     "metadata": {},
     "output_type": "execute_result"
    }
   ],
   "source": [
    "from sklearn import preprocessing \n",
    "label_encoder = preprocessing.LabelEncoder()  \n",
    "x= x.apply(label_encoder.fit_transform)\n",
    "x"
   ]
  },
  {
   "cell_type": "code",
   "execution_count": 13,
   "metadata": {
    "execution": {
     "iopub.execute_input": "2020-09-15T14:04:52.627825Z",
     "iopub.status.busy": "2020-09-15T14:04:52.627014Z",
     "iopub.status.idle": "2020-09-15T14:04:52.630232Z",
     "shell.execute_reply": "2020-09-15T14:04:52.630741Z"
    },
    "papermill": {
     "duration": 0.04787,
     "end_time": "2020-09-15T14:04:52.631023",
     "exception": false,
     "start_time": "2020-09-15T14:04:52.583153",
     "status": "completed"
    },
    "tags": []
   },
   "outputs": [
    {
     "data": {
      "text/plain": [
       "array([4, 5, 4, ..., 5, 5, 5])"
      ]
     },
     "execution_count": 13,
     "metadata": {},
     "output_type": "execute_result"
    }
   ],
   "source": [
    "y= label_encoder.fit_transform(y)\n",
    "y"
   ]
  },
  {
   "cell_type": "markdown",
   "metadata": {
    "papermill": {
     "duration": 0.037421,
     "end_time": "2020-09-15T14:04:52.706973",
     "exception": false,
     "start_time": "2020-09-15T14:04:52.669552",
     "status": "completed"
    },
    "tags": []
   },
   "source": [
    "# Joint Plot"
   ]
  },
  {
   "cell_type": "code",
   "execution_count": 14,
   "metadata": {
    "execution": {
     "iopub.execute_input": "2020-09-15T14:04:52.788789Z",
     "iopub.status.busy": "2020-09-15T14:04:52.788054Z",
     "iopub.status.idle": "2020-09-15T14:04:55.982205Z",
     "shell.execute_reply": "2020-09-15T14:04:55.982725Z"
    },
    "papermill": {
     "duration": 3.237418,
     "end_time": "2020-09-15T14:04:55.982891",
     "exception": false,
     "start_time": "2020-09-15T14:04:52.745473",
     "status": "completed"
    },
    "tags": []
   },
   "outputs": [
    {
     "data": {
      "text/plain": [
       "<seaborn.axisgrid.JointGrid at 0x7fb54f845710>"
      ]
     },
     "execution_count": 14,
     "metadata": {},
     "output_type": "execute_result"
    },
    {
     "data": {
      "image/png": "[encoded data removed]",
      "text/plain": [
       "<Figure size 432x432 with 3 Axes>"
      ]
     },
     "metadata": {
      "needs_background": "light"
     },
     "output_type": "display_data"
    }
   ],
   "source": [
    "import seaborn as sns\n",
    "sns.jointplot(x=x['Brand'], y=x['Stars'], kind=\"kde\")"
   ]
  },
  {
   "cell_type": "markdown",
   "metadata": {
    "papermill": {
     "duration": 0.039583,
     "end_time": "2020-09-15T14:04:56.061367",
     "exception": false,
     "start_time": "2020-09-15T14:04:56.021784",
     "status": "completed"
    },
    "tags": []
   },
   "source": [
    "# Box Plot"
   ]
  },
  {
   "cell_type": "code",
   "execution_count": 15,
   "metadata": {
    "execution": {
     "iopub.execute_input": "2020-09-15T14:04:56.149277Z",
     "iopub.status.busy": "2020-09-15T14:04:56.148399Z",
     "iopub.status.idle": "2020-09-15T14:04:57.031083Z",
     "shell.execute_reply": "2020-09-15T14:04:57.030269Z"
    },
    "papermill": {
     "duration": 0.929354,
     "end_time": "2020-09-15T14:04:57.031339",
     "exception": false,
     "start_time": "2020-09-15T14:04:56.101985",
     "status": "completed"
    },
    "tags": []
   },
   "outputs": [
    {
     "data": {
      "text/plain": [
       "<matplotlib.axes._subplots.AxesSubplot at 0x7fb54f572b90>"
      ]
     },
     "execution_count": 15,
     "metadata": {},
     "output_type": "execute_result"
    },
    {
     "data": {
      "image/png": "[encoded data removed]",
      "text/plain": [
       "<Figure size 864x432 with 1 Axes>"
      ]
     },
     "metadata": {
      "needs_background": "light"
     },
     "output_type": "display_data"
    }
   ],
   "source": [
    "plt.figure(figsize=(12,6))\n",
    "sns.boxplot(x=\"Country\", y=\"Brand\", data=x)"
   ]
  },
  {
   "cell_type": "markdown",
   "metadata": {
    "papermill": {
     "duration": 0.042147,
     "end_time": "2020-09-15T14:04:57.115561",
     "exception": false,
     "start_time": "2020-09-15T14:04:57.073414",
     "status": "completed"
    },
    "tags": []
   },
   "source": [
    "# Count Plot"
   ]
  },
  {
   "cell_type": "code",
   "execution_count": 16,
   "metadata": {
    "execution": {
     "iopub.execute_input": "2020-09-15T14:04:57.217376Z",
     "iopub.status.busy": "2020-09-15T14:04:57.216604Z",
     "iopub.status.idle": "2020-09-15T14:04:57.790026Z",
     "shell.execute_reply": "2020-09-15T14:04:57.790588Z"
    },
    "papermill": {
     "duration": 0.633724,
     "end_time": "2020-09-15T14:04:57.790760",
     "exception": false,
     "start_time": "2020-09-15T14:04:57.157036",
     "status": "completed"
    },
    "tags": []
   },
   "outputs": [
    {
     "data": {
      "image/png": "[encoded data removed]",
      "text/plain": [
       "<Figure size 1800x1440 with 2 Axes>"
      ]
     },
     "metadata": {
      "needs_background": "light"
     },
     "output_type": "display_data"
    }
   ],
   "source": [
    "features=['Style', 'Country'] # Subplot for count plot\n",
    "fig=plt.subplots(figsize=(25,20))\n",
    "for i, j in enumerate(features):\n",
    "    plt.subplot(4, 2, i+1)\n",
    "    plt.subplots_adjust(hspace = 1.0)\n",
    "    sns.countplot(x=j,data = df)\n",
    "    plt.xticks(rotation=90)\n",
    "    plt.title(\"Ramen\")\n",
    "    \n",
    "plt.show()"
   ]
  },
  {
   "cell_type": "code",
   "execution_count": 17,
   "metadata": {
    "execution": {
     "iopub.execute_input": "2020-09-15T14:04:57.876939Z",
     "iopub.status.busy": "2020-09-15T14:04:57.876260Z",
     "iopub.status.idle": "2020-09-15T14:04:58.042861Z",
     "shell.execute_reply": "2020-09-15T14:04:58.043397Z"
    },
    "papermill": {
     "duration": 0.211209,
     "end_time": "2020-09-15T14:04:58.043589",
     "exception": false,
     "start_time": "2020-09-15T14:04:57.832380",
     "status": "completed"
    },
    "tags": []
   },
   "outputs": [
    {
     "data": {
      "text/plain": [
       "<matplotlib.axes._subplots.AxesSubplot at 0x7fb54f236ad0>"
      ]
     },
     "execution_count": 17,
     "metadata": {},
     "output_type": "execute_result"
    },
    {
     "data": {
      "image/png": "[encoded data removed]",
      "text/plain": [
       "<Figure size 432x288 with 1 Axes>"
      ]
     },
     "metadata": {
      "needs_background": "light"
     },
     "output_type": "display_data"
    }
   ],
   "source": [
    "import seaborn as sns\n",
    "sns.kdeplot(data=x['Country'], shade=True)"
   ]
  },
  {
   "cell_type": "code",
   "execution_count": 18,
   "metadata": {
    "execution": {
     "iopub.execute_input": "2020-09-15T14:04:58.133434Z",
     "iopub.status.busy": "2020-09-15T14:04:58.132763Z",
     "iopub.status.idle": "2020-09-15T14:04:58.208249Z",
     "shell.execute_reply": "2020-09-15T14:04:58.207523Z"
    },
    "papermill": {
     "duration": 0.12163,
     "end_time": "2020-09-15T14:04:58.208368",
     "exception": false,
     "start_time": "2020-09-15T14:04:58.086738",
     "status": "completed"
    },
    "tags": []
   },
   "outputs": [],
   "source": [
    "from sklearn.naive_bayes import GaussianNB\n",
    "from sklearn.metrics import accuracy_score\n",
    "from sklearn.model_selection import train_test_split"
   ]
  },
  {
   "cell_type": "code",
   "execution_count": 19,
   "metadata": {
    "execution": {
     "iopub.execute_input": "2020-09-15T14:04:58.301957Z",
     "iopub.status.busy": "2020-09-15T14:04:58.300854Z",
     "iopub.status.idle": "2020-09-15T14:04:58.306674Z",
     "shell.execute_reply": "2020-09-15T14:04:58.306125Z"
    },
    "papermill": {
     "duration": 0.055194,
     "end_time": "2020-09-15T14:04:58.306795",
     "exception": false,
     "start_time": "2020-09-15T14:04:58.251601",
     "status": "completed"
    },
    "tags": []
   },
   "outputs": [],
   "source": [
    "x_train, x_test, y_train, y_test = train_test_split(x, y, test_size=0.2, random_state=4)"
   ]
  },
  {
   "cell_type": "code",
   "execution_count": 20,
   "metadata": {
    "execution": {
     "iopub.execute_input": "2020-09-15T14:04:58.405549Z",
     "iopub.status.busy": "2020-09-15T14:04:58.404355Z",
     "iopub.status.idle": "2020-09-15T14:04:58.411097Z",
     "shell.execute_reply": "2020-09-15T14:04:58.410564Z"
    },
    "papermill": {
     "duration": 0.060642,
     "end_time": "2020-09-15T14:04:58.411218",
     "exception": false,
     "start_time": "2020-09-15T14:04:58.350576",
     "status": "completed"
    },
    "tags": []
   },
   "outputs": [],
   "source": [
    "# data normalization with sklearn\n",
    "from sklearn.preprocessing import MinMaxScaler\n",
    "\n",
    "# fit scaler on training data\n",
    "norm = MinMaxScaler().fit(x_train)\n",
    "\n",
    "# transform training data\n",
    "X_train_norm = norm.transform(x_train)\n",
    "\n",
    "\n",
    "# transform testing dataabs\n",
    "X_test_norm = norm.transform(x_test)\n"
   ]
  },
  {
   "cell_type": "code",
   "execution_count": 21,
   "metadata": {
    "execution": {
     "iopub.execute_input": "2020-09-15T14:04:58.512107Z",
     "iopub.status.busy": "2020-09-15T14:04:58.511136Z",
     "iopub.status.idle": "2020-09-15T14:04:58.530807Z",
     "shell.execute_reply": "2020-09-15T14:04:58.529717Z"
    },
    "papermill": {
     "duration": 0.075046,
     "end_time": "2020-09-15T14:04:58.531075",
     "exception": false,
     "start_time": "2020-09-15T14:04:58.456029",
     "status": "completed"
    },
    "tags": []
   },
   "outputs": [
    {
     "name": "stdout",
     "output_type": "stream",
     "text": [
      "Scaled Train Data: \n",
      "\n",
      "\n",
      "[[0.36515328 0.93767705 0.62655602 0.89189189 0.44      ]\n",
      " [0.01008925 0.54107649 0.24854772 0.48648649 0.76      ]\n",
      " [0.66278619 0.26345609 0.96929461 0.51351351 0.76      ]\n",
      " ...\n",
      " [0.03492433 0.06515581 0.51410788 1.         0.36      ]\n",
      " [0.93247963 0.74504249 0.90580913 0.13513514 0.04      ]\n",
      " [0.55529686 0.43626062 0.34647303 0.51351351 0.62      ]]\n"
     ]
    }
   ],
   "source": [
    "# fit scaler on training data\n",
    "norm = MinMaxScaler().fit(x_train)\n",
    "\n",
    "# transform training data\n",
    "X_train_norm = norm.transform(x_train)\n",
    "print(\"Scaled Train Data: \\n\\n\")\n",
    "print(X_train_norm)"
   ]
  },
  {
   "cell_type": "code",
   "execution_count": 22,
   "metadata": {
    "execution": {
     "iopub.execute_input": "2020-09-15T14:04:58.682113Z",
     "iopub.status.busy": "2020-09-15T14:04:58.680792Z",
     "iopub.status.idle": "2020-09-15T14:04:58.687523Z",
     "shell.execute_reply": "2020-09-15T14:04:58.686885Z"
    },
    "papermill": {
     "duration": 0.075761,
     "end_time": "2020-09-15T14:04:58.687644",
     "exception": false,
     "start_time": "2020-09-15T14:04:58.611883",
     "status": "completed"
    },
    "tags": []
   },
   "outputs": [
    {
     "name": "stdout",
     "output_type": "stream",
     "text": [
      "\n",
      "\n",
      "Scaled Test Data: \n",
      "\n",
      "\n",
      "[[0.73535118 0.45609065 0.85809129 0.13513514 0.44      ]\n",
      " [0.53938688 0.68271955 0.75062241 0.51351351 0.84      ]\n",
      " [0.44237485 0.04249292 0.74647303 0.59459459 0.84      ]\n",
      " ...\n",
      " [0.56266977 0.54107649 0.43112033 0.78378378 0.94      ]\n",
      " [0.16336826 0.55240793 0.7879668  0.81081081 0.44      ]\n",
      " [0.64105549 0.0509915  0.03485477 0.13513514 0.44      ]]\n"
     ]
    }
   ],
   "source": [
    "# transform testing dataabs\n",
    "X_test_norm = norm.transform(x_test)\n",
    "print(\"\\n\\nScaled Test Data: \\n\\n\")\n",
    "print(X_test_norm)"
   ]
  },
  {
   "cell_type": "code",
   "execution_count": 23,
   "metadata": {
    "execution": {
     "iopub.execute_input": "2020-09-15T14:04:58.794371Z",
     "iopub.status.busy": "2020-09-15T14:04:58.793551Z",
     "iopub.status.idle": "2020-09-15T14:04:59.039896Z",
     "shell.execute_reply": "2020-09-15T14:04:59.040941Z"
    },
    "papermill": {
     "duration": 0.299396,
     "end_time": "2020-09-15T14:04:59.041113",
     "exception": false,
     "start_time": "2020-09-15T14:04:58.741717",
     "status": "completed"
    },
    "tags": []
   },
   "outputs": [],
   "source": [
    "from sklearn.ensemble import RandomForestClassifier\n",
    "from sklearn.metrics import accuracy_score"
   ]
  },
  {
   "cell_type": "code",
   "execution_count": 24,
   "metadata": {
    "execution": {
     "iopub.execute_input": "2020-09-15T14:04:59.137031Z",
     "iopub.status.busy": "2020-09-15T14:04:59.136288Z",
     "iopub.status.idle": "2020-09-15T14:04:59.159219Z",
     "shell.execute_reply": "2020-09-15T14:04:59.158539Z"
    },
    "papermill": {
     "duration": 0.073514,
     "end_time": "2020-09-15T14:04:59.159347",
     "exception": false,
     "start_time": "2020-09-15T14:04:59.085833",
     "status": "completed"
    },
    "tags": []
   },
   "outputs": [
    {
     "data": {
      "text/plain": [
       "DecisionTreeClassifier()"
      ]
     },
     "execution_count": 24,
     "metadata": {},
     "output_type": "execute_result"
    }
   ],
   "source": [
    "from sklearn.tree import DecisionTreeClassifier\n",
    "# Create Decision Tree classifer object\n",
    "clf = DecisionTreeClassifier()\n",
    "# Train Decision Tree Classifer\n",
    "clf.fit(X_train_norm,y_train)"
   ]
  },
  {
   "cell_type": "code",
   "execution_count": 25,
   "metadata": {
    "execution": {
     "iopub.execute_input": "2020-09-15T14:04:59.255900Z",
     "iopub.status.busy": "2020-09-15T14:04:59.255086Z",
     "iopub.status.idle": "2020-09-15T14:04:59.260069Z",
     "shell.execute_reply": "2020-09-15T14:04:59.260574Z"
    },
    "papermill": {
     "duration": 0.055818,
     "end_time": "2020-09-15T14:04:59.260743",
     "exception": false,
     "start_time": "2020-09-15T14:04:59.204925",
     "status": "completed"
    },
    "tags": []
   },
   "outputs": [
    {
     "name": "stdout",
     "output_type": "stream",
     "text": [
      "Accuracy: 0.6201550387596899\n"
     ]
    }
   ],
   "source": [
    "#Predict the response for test dataset\n",
    "y_pred = clf.predict(X_test_norm)\n",
    "\n",
    "\n",
    "print(\"Accuracy:\",accuracy_score(y_test, y_pred))"
   ]
  },
  {
   "cell_type": "code",
   "execution_count": 26,
   "metadata": {
    "execution": {
     "iopub.execute_input": "2020-09-15T14:04:59.358763Z",
     "iopub.status.busy": "2020-09-15T14:04:59.358059Z",
     "iopub.status.idle": "2020-09-15T14:04:59.367888Z",
     "shell.execute_reply": "2020-09-15T14:04:59.367193Z"
    },
    "papermill": {
     "duration": 0.061036,
     "end_time": "2020-09-15T14:04:59.368018",
     "exception": false,
     "start_time": "2020-09-15T14:04:59.306982",
     "status": "completed"
    },
    "tags": []
   },
   "outputs": [
    {
     "data": {
      "text/plain": [
       "KNeighborsClassifier()"
      ]
     },
     "execution_count": 26,
     "metadata": {},
     "output_type": "execute_result"
    }
   ],
   "source": [
    "from sklearn.neighbors import KNeighborsClassifier  \n",
    "classifier= KNeighborsClassifier(n_neighbors=5, metric='minkowski', p=2 )  \n",
    "classifier.fit(X_train_norm, y_train)  "
   ]
  },
  {
   "cell_type": "code",
   "execution_count": 27,
   "metadata": {
    "execution": {
     "iopub.execute_input": "2020-09-15T14:04:59.469598Z",
     "iopub.status.busy": "2020-09-15T14:04:59.468623Z",
     "iopub.status.idle": "2020-09-15T14:04:59.500813Z",
     "shell.execute_reply": "2020-09-15T14:04:59.500106Z"
    },
    "papermill": {
     "duration": 0.085739,
     "end_time": "2020-09-15T14:04:59.500931",
     "exception": false,
     "start_time": "2020-09-15T14:04:59.415192",
     "status": "completed"
    },
    "tags": []
   },
   "outputs": [
    {
     "data": {
      "text/plain": [
       "array([[ 35,   0,   0,   8,  54,   1],\n",
       "       [  2,   0,   0,   0,   0,   0],\n",
       "       [  0,   0,   0,   0,   1,   0],\n",
       "       [ 15,   0,   0,  48,  44,   1],\n",
       "       [ 40,   0,   0,  37, 211,   1],\n",
       "       [  4,   0,   0,   4,   9,   1]])"
      ]
     },
     "execution_count": 27,
     "metadata": {},
     "output_type": "execute_result"
    }
   ],
   "source": [
    "y_pred= classifier.predict(X_test_norm)  \n",
    "#Creating the Confusion matrix  \n",
    "from sklearn.metrics import confusion_matrix  \n",
    "confusion_matrix(y_test, y_pred) "
   ]
  },
  {
   "cell_type": "code",
   "execution_count": 28,
   "metadata": {
    "execution": {
     "iopub.execute_input": "2020-09-15T14:04:59.610970Z",
     "iopub.status.busy": "2020-09-15T14:04:59.609833Z",
     "iopub.status.idle": "2020-09-15T14:04:59.616449Z",
     "shell.execute_reply": "2020-09-15T14:04:59.614724Z"
    },
    "papermill": {
     "duration": 0.068892,
     "end_time": "2020-09-15T14:04:59.616676",
     "exception": false,
     "start_time": "2020-09-15T14:04:59.547784",
     "status": "completed"
    },
    "tags": []
   },
   "outputs": [
    {
     "name": "stdout",
     "output_type": "stream",
     "text": [
      "0.5717054263565892\n"
     ]
    }
   ],
   "source": [
    "print(accuracy_score(y_test, y_pred))"
   ]
  },
  {
   "cell_type": "code",
   "execution_count": 29,
   "metadata": {
    "execution": {
     "iopub.execute_input": "2020-09-15T14:04:59.725299Z",
     "iopub.status.busy": "2020-09-15T14:04:59.724573Z",
     "iopub.status.idle": "2020-09-15T14:04:59.944157Z",
     "shell.execute_reply": "2020-09-15T14:04:59.945475Z"
    },
    "papermill": {
     "duration": 0.276756,
     "end_time": "2020-09-15T14:04:59.945728",
     "exception": false,
     "start_time": "2020-09-15T14:04:59.668972",
     "status": "completed"
    },
    "tags": []
   },
   "outputs": [
    {
     "data": {
      "text/plain": [
       "KMeans(n_clusters=4, random_state=251)"
      ]
     },
     "execution_count": 29,
     "metadata": {},
     "output_type": "execute_result"
    }
   ],
   "source": [
    "from sklearn.cluster import KMeans\n",
    "kmeans = KMeans(n_clusters=4, n_init = 10, random_state=251)\n",
    "kmeans.fit(x)"
   ]
  },
  {
   "cell_type": "code",
   "execution_count": 30,
   "metadata": {
    "execution": {
     "iopub.execute_input": "2020-09-15T14:05:00.076533Z",
     "iopub.status.busy": "2020-09-15T14:05:00.075681Z",
     "iopub.status.idle": "2020-09-15T14:05:00.079107Z",
     "shell.execute_reply": "2020-09-15T14:05:00.079826Z"
    },
    "papermill": {
     "duration": 0.073329,
     "end_time": "2020-09-15T14:05:00.080007",
     "exception": false,
     "start_time": "2020-09-15T14:05:00.006678",
     "status": "completed"
    },
    "tags": []
   },
   "outputs": [],
   "source": [
    "centroids = kmeans.cluster_centers_\n",
    "centroid_df = pd.DataFrame(centroids, columns = list(x) )"
   ]
  },
  {
   "cell_type": "code",
   "execution_count": 31,
   "metadata": {
    "execution": {
     "iopub.execute_input": "2020-09-15T14:05:00.194008Z",
     "iopub.status.busy": "2020-09-15T14:05:00.193140Z",
     "iopub.status.idle": "2020-09-15T14:05:00.196394Z",
     "shell.execute_reply": "2020-09-15T14:05:00.195809Z"
    },
    "papermill": {
     "duration": 0.057564,
     "end_time": "2020-09-15T14:05:00.196539",
     "exception": false,
     "start_time": "2020-09-15T14:05:00.138975",
     "status": "completed"
    },
    "tags": []
   },
   "outputs": [],
   "source": [
    "centroid_df = pd.DataFrame(centroids, columns = list(x) )\n",
    "df_labels = pd.DataFrame(kmeans.labels_ , columns = list(['labels']))"
   ]
  },
  {
   "cell_type": "code",
   "execution_count": 32,
   "metadata": {
    "execution": {
     "iopub.execute_input": "2020-09-15T14:05:00.307516Z",
     "iopub.status.busy": "2020-09-15T14:05:00.306679Z",
     "iopub.status.idle": "2020-09-15T14:05:00.310419Z",
     "shell.execute_reply": "2020-09-15T14:05:00.309837Z"
    },
    "papermill": {
     "duration": 0.065485,
     "end_time": "2020-09-15T14:05:00.310552",
     "exception": false,
     "start_time": "2020-09-15T14:05:00.245067",
     "status": "completed"
    },
    "tags": []
   },
   "outputs": [],
   "source": [
    "snail_df_labeled = x.join(df_labels)"
   ]
  },
  {
   "cell_type": "code",
   "execution_count": 33,
   "metadata": {
    "execution": {
     "iopub.execute_input": "2020-09-15T14:05:00.414274Z",
     "iopub.status.busy": "2020-09-15T14:05:00.413441Z",
     "iopub.status.idle": "2020-09-15T14:05:00.427342Z",
     "shell.execute_reply": "2020-09-15T14:05:00.426623Z"
    },
    "papermill": {
     "duration": 0.067872,
     "end_time": "2020-09-15T14:05:00.427464",
     "exception": false,
     "start_time": "2020-09-15T14:05:00.359592",
     "status": "completed"
    },
    "tags": []
   },
   "outputs": [
    {
     "data": {
      "text/html": [
       "<div>\n",
       "<style scoped>\n",
       "    .dataframe tbody tr th:only-of-type {\n",
       "        vertical-align: middle;\n",
       "    }\n",
       "\n",
       "    .dataframe tbody tr th {\n",
       "        vertical-align: top;\n",
       "    }\n",
       "\n",
       "    .dataframe thead th {\n",
       "        text-align: right;\n",
       "    }\n",
       "</style>\n",
       "<table border=\"1\" class=\"dataframe\">\n",
       "  <thead>\n",
       "    <tr style=\"text-align: right;\">\n",
       "      <th></th>\n",
       "      <th>Review #</th>\n",
       "      <th>Brand</th>\n",
       "      <th>Variety</th>\n",
       "      <th>Country</th>\n",
       "      <th>Stars</th>\n",
       "      <th>labels</th>\n",
       "    </tr>\n",
       "  </thead>\n",
       "  <tbody>\n",
       "    <tr>\n",
       "      <th>0</th>\n",
       "      <td>2577</td>\n",
       "      <td>190</td>\n",
       "      <td>2187</td>\n",
       "      <td>18</td>\n",
       "      <td>36</td>\n",
       "      <td>0.0</td>\n",
       "    </tr>\n",
       "    <tr>\n",
       "      <th>1</th>\n",
       "      <td>2576</td>\n",
       "      <td>119</td>\n",
       "      <td>1441</td>\n",
       "      <td>32</td>\n",
       "      <td>6</td>\n",
       "      <td>0.0</td>\n",
       "    </tr>\n",
       "    <tr>\n",
       "      <th>2</th>\n",
       "      <td>2575</td>\n",
       "      <td>192</td>\n",
       "      <td>453</td>\n",
       "      <td>35</td>\n",
       "      <td>15</td>\n",
       "      <td>2.0</td>\n",
       "    </tr>\n",
       "    <tr>\n",
       "      <th>3</th>\n",
       "      <td>2574</td>\n",
       "      <td>336</td>\n",
       "      <td>707</td>\n",
       "      <td>32</td>\n",
       "      <td>18</td>\n",
       "      <td>2.0</td>\n",
       "    </tr>\n",
       "    <tr>\n",
       "      <th>4</th>\n",
       "      <td>2573</td>\n",
       "      <td>38</td>\n",
       "      <td>1952</td>\n",
       "      <td>16</td>\n",
       "      <td>36</td>\n",
       "      <td>0.0</td>\n",
       "    </tr>\n",
       "  </tbody>\n",
       "</table>\n",
       "</div>"
      ],
      "text/plain": [
       "   Review #  Brand  Variety  Country  Stars  labels\n",
       "0      2577    190     2187       18     36     0.0\n",
       "1      2576    119     1441       32      6     0.0\n",
       "2      2575    192      453       35     15     2.0\n",
       "3      2574    336      707       32     18     2.0\n",
       "4      2573     38     1952       16     36     0.0"
      ]
     },
     "execution_count": 33,
     "metadata": {},
     "output_type": "execute_result"
    }
   ],
   "source": [
    "df_analysis = (snail_df_labeled.groupby(['labels'] , axis=0)).head(4177) \n",
    "df_analysis.head()"
   ]
  },
  {
   "cell_type": "code",
   "execution_count": 34,
   "metadata": {
    "execution": {
     "iopub.execute_input": "2020-09-15T14:05:00.533772Z",
     "iopub.status.busy": "2020-09-15T14:05:00.530969Z",
     "iopub.status.idle": "2020-09-15T14:05:00.540887Z",
     "shell.execute_reply": "2020-09-15T14:05:00.540098Z"
    },
    "papermill": {
     "duration": 0.064003,
     "end_time": "2020-09-15T14:05:00.541014",
     "exception": false,
     "start_time": "2020-09-15T14:05:00.477011",
     "status": "completed"
    },
    "tags": []
   },
   "outputs": [
    {
     "data": {
      "text/plain": [
       "Review #    0\n",
       "Brand       0\n",
       "Variety     0\n",
       "Country     0\n",
       "Stars       0\n",
       "labels      2\n",
       "dtype: int64"
      ]
     },
     "execution_count": 34,
     "metadata": {},
     "output_type": "execute_result"
    }
   ],
   "source": [
    "df_analysis.isnull().sum()"
   ]
  },
  {
   "cell_type": "code",
   "execution_count": 35,
   "metadata": {
    "execution": {
     "iopub.execute_input": "2020-09-15T14:05:00.656151Z",
     "iopub.status.busy": "2020-09-15T14:05:00.654036Z",
     "iopub.status.idle": "2020-09-15T14:05:00.659481Z",
     "shell.execute_reply": "2020-09-15T14:05:00.658755Z"
    },
    "papermill": {
     "duration": 0.063822,
     "end_time": "2020-09-15T14:05:00.659647",
     "exception": false,
     "start_time": "2020-09-15T14:05:00.595825",
     "status": "completed"
    },
    "tags": []
   },
   "outputs": [],
   "source": [
    "df_analysis = df_analysis.dropna()"
   ]
  },
  {
   "cell_type": "code",
   "execution_count": 36,
   "metadata": {
    "execution": {
     "iopub.execute_input": "2020-09-15T14:05:00.767688Z",
     "iopub.status.busy": "2020-09-15T14:05:00.766889Z",
     "iopub.status.idle": "2020-09-15T14:05:00.771163Z",
     "shell.execute_reply": "2020-09-15T14:05:00.770560Z"
    },
    "papermill": {
     "duration": 0.060941,
     "end_time": "2020-09-15T14:05:00.771277",
     "exception": false,
     "start_time": "2020-09-15T14:05:00.710336",
     "status": "completed"
    },
    "tags": []
   },
   "outputs": [
    {
     "data": {
      "text/plain": [
       "Review #    0\n",
       "Brand       0\n",
       "Variety     0\n",
       "Country     0\n",
       "Stars       0\n",
       "labels      0\n",
       "dtype: int64"
      ]
     },
     "execution_count": 36,
     "metadata": {},
     "output_type": "execute_result"
    }
   ],
   "source": [
    "df_analysis.isnull().sum()"
   ]
  },
  {
   "cell_type": "code",
   "execution_count": 37,
   "metadata": {
    "execution": {
     "iopub.execute_input": "2020-09-15T14:05:00.876093Z",
     "iopub.status.busy": "2020-09-15T14:05:00.875089Z",
     "iopub.status.idle": "2020-09-15T14:05:00.886169Z",
     "shell.execute_reply": "2020-09-15T14:05:00.886775Z"
    },
    "papermill": {
     "duration": 0.064703,
     "end_time": "2020-09-15T14:05:00.886940",
     "exception": false,
     "start_time": "2020-09-15T14:05:00.822237",
     "status": "completed"
    },
    "tags": []
   },
   "outputs": [],
   "source": [
    "from sklearn.model_selection import train_test_split  \n",
    "\n",
    "X= df_analysis.drop('labels',axis =1)\n",
    "y= df_analysis['labels']\n",
    "\n",
    "\n",
    "X_train, X_test, y_train, y_test = train_test_split(X, y, test_size=0.30, random_state=1)"
   ]
  },
  {
   "cell_type": "code",
   "execution_count": 38,
   "metadata": {
    "execution": {
     "iopub.execute_input": "2020-09-15T14:05:00.997798Z",
     "iopub.status.busy": "2020-09-15T14:05:00.996932Z",
     "iopub.status.idle": "2020-09-15T14:05:01.131754Z",
     "shell.execute_reply": "2020-09-15T14:05:01.132337Z"
    },
    "papermill": {
     "duration": 0.194214,
     "end_time": "2020-09-15T14:05:01.132548",
     "exception": false,
     "start_time": "2020-09-15T14:05:00.938334",
     "status": "completed"
    },
    "tags": []
   },
   "outputs": [
    {
     "name": "stderr",
     "output_type": "stream",
     "text": [
      "/opt/conda/lib/python3.7/site-packages/sklearn/linear_model/_logistic.py:764: ConvergenceWarning: lbfgs failed to converge (status=1):\n",
      "STOP: TOTAL NO. of ITERATIONS REACHED LIMIT.\n",
      "\n",
      "Increase the number of iterations (max_iter) or scale the data as shown in:\n",
      "    https://scikit-learn.org/stable/modules/preprocessing.html\n",
      "Please also refer to the documentation for alternative solver options:\n",
      "    https://scikit-learn.org/stable/modules/linear_model.html#logistic-regression\n",
      "  extra_warning_msg=_LOGISTIC_SOLVER_CONVERGENCE_MSG)\n"
     ]
    },
    {
     "data": {
      "text/plain": [
       "LogisticRegression(random_state=0)"
      ]
     },
     "execution_count": 38,
     "metadata": {},
     "output_type": "execute_result"
    }
   ],
   "source": [
    "from sklearn.linear_model import LogisticRegression\n",
    "classifier = LogisticRegression(random_state = 0)\n",
    "classifier.fit(X_train,y_train)"
   ]
  },
  {
   "cell_type": "code",
   "execution_count": 39,
   "metadata": {
    "execution": {
     "iopub.execute_input": "2020-09-15T14:05:01.247930Z",
     "iopub.status.busy": "2020-09-15T14:05:01.247211Z",
     "iopub.status.idle": "2020-09-15T14:05:01.257616Z",
     "shell.execute_reply": "2020-09-15T14:05:01.256927Z"
    },
    "papermill": {
     "duration": 0.072836,
     "end_time": "2020-09-15T14:05:01.257729",
     "exception": false,
     "start_time": "2020-09-15T14:05:01.184893",
     "status": "completed"
    },
    "tags": []
   },
   "outputs": [
    {
     "name": "stdout",
     "output_type": "stream",
     "text": [
      "Confusion Matrix \n",
      " [[188   9   8   4]\n",
      " [ 11 120  26  36]\n",
      " [ 15   5 168   0]\n",
      " [ 22  24   0 137]]\n"
     ]
    },
    {
     "data": {
      "text/plain": [
       "0.7930142302716688"
      ]
     },
     "execution_count": 39,
     "metadata": {},
     "output_type": "execute_result"
    }
   ],
   "source": [
    "# predict Model\n",
    "y_pred = classifier.predict(X_test)\n",
    "from sklearn.metrics import confusion_matrix\n",
    "from sklearn.metrics import accuracy_score\n",
    "from sklearn.metrics import classification_report\n",
    "cm = confusion_matrix(y_true=y_test,y_pred=y_pred)\n",
    "print('Confusion Matrix \\n',cm)\n",
    "accuracy_score(y_test,y_pred)"
   ]
  },
  {
   "cell_type": "code",
   "execution_count": 40,
   "metadata": {
    "execution": {
     "iopub.execute_input": "2020-09-15T14:05:01.373033Z",
     "iopub.status.busy": "2020-09-15T14:05:01.372015Z",
     "iopub.status.idle": "2020-09-15T14:05:01.388591Z",
     "shell.execute_reply": "2020-09-15T14:05:01.386830Z"
    },
    "papermill": {
     "duration": 0.078367,
     "end_time": "2020-09-15T14:05:01.388740",
     "exception": false,
     "start_time": "2020-09-15T14:05:01.310373",
     "status": "completed"
    },
    "tags": []
   },
   "outputs": [
    {
     "name": "stdout",
     "output_type": "stream",
     "text": [
      "Confusion Matrix \n",
      " [[206   0   1   2]\n",
      " [  0 162   0  31]\n",
      " [  1   2 185   0]\n",
      " [  0  28   0 155]]\n",
      "0.9159120310478654\n"
     ]
    }
   ],
   "source": [
    "# DTfrom sklearn.tree import DecisionTreeClassifier\n",
    "classifier = DecisionTreeClassifier(criterion = 'gini',random_state = 0)\n",
    "classifier.fit(X_train,y_train)\n",
    "y_pred = classifier.predict(X_test)\n",
    "cm = confusion_matrix(y_true=y_test,y_pred=y_pred)\n",
    "print('Confusion Matrix \\n',cm)\n",
    "print(accuracy_score(y_test,y_pred))"
   ]
  },
  {
   "cell_type": "code",
   "execution_count": 41,
   "metadata": {
    "execution": {
     "iopub.execute_input": "2020-09-15T14:05:01.504863Z",
     "iopub.status.busy": "2020-09-15T14:05:01.503987Z",
     "iopub.status.idle": "2020-09-15T14:05:01.908335Z",
     "shell.execute_reply": "2020-09-15T14:05:01.907649Z"
    },
    "papermill": {
     "duration": 0.465842,
     "end_time": "2020-09-15T14:05:01.908465",
     "exception": false,
     "start_time": "2020-09-15T14:05:01.442623",
     "status": "completed"
    },
    "tags": []
   },
   "outputs": [
    {
     "name": "stdout",
     "output_type": "stream",
     "text": [
      "Confusion Matrix \n",
      " [[207   0   0   2]\n",
      " [  0 163   0  30]\n",
      " [  0   2 186   0]\n",
      " [  0  28   0 155]]\n",
      "0.9197930142302717\n"
     ]
    }
   ],
   "source": [
    "rclf = RandomForestClassifier(n_estimators= 100)\n",
    "rclf.fit(X_train,y_train)\n",
    "y_pred = rclf.predict(X_test)\n",
    "cm = confusion_matrix(y_true=y_test,y_pred=y_pred)\n",
    "print('Confusion Matrix \\n',cm)\n",
    "print(accuracy_score(y_test,y_pred))"
   ]
  },
  {
   "cell_type": "code",
   "execution_count": 42,
   "metadata": {
    "execution": {
     "iopub.execute_input": "2020-09-15T14:05:02.026300Z",
     "iopub.status.busy": "2020-09-15T14:05:02.025206Z",
     "iopub.status.idle": "2020-09-15T14:05:02.033212Z",
     "shell.execute_reply": "2020-09-15T14:05:02.033813Z"
    },
    "papermill": {
     "duration": 0.072755,
     "end_time": "2020-09-15T14:05:02.033974",
     "exception": false,
     "start_time": "2020-09-15T14:05:01.961219",
     "status": "completed"
    },
    "tags": []
   },
   "outputs": [
    {
     "data": {
      "text/plain": [
       "KNeighborsClassifier()"
      ]
     },
     "execution_count": 42,
     "metadata": {},
     "output_type": "execute_result"
    }
   ],
   "source": [
    "classifier = KNeighborsClassifier(n_neighbors= 5)\n",
    "classifier.fit(X_train,y_train)"
   ]
  },
  {
   "cell_type": "code",
   "execution_count": 43,
   "metadata": {
    "execution": {
     "iopub.execute_input": "2020-09-15T14:05:02.151853Z",
     "iopub.status.busy": "2020-09-15T14:05:02.150840Z",
     "iopub.status.idle": "2020-09-15T14:05:02.201374Z",
     "shell.execute_reply": "2020-09-15T14:05:02.201997Z"
    },
    "papermill": {
     "duration": 0.110163,
     "end_time": "2020-09-15T14:05:02.202166",
     "exception": false,
     "start_time": "2020-09-15T14:05:02.092003",
     "status": "completed"
    },
    "tags": []
   },
   "outputs": [
    {
     "name": "stdout",
     "output_type": "stream",
     "text": [
      "Confusion Matrix \n",
      " [[200   0   6   3]\n",
      " [  0 157   2  34]\n",
      " [  1   1 186   0]\n",
      " [  3  30   0 150]]\n",
      "0.8965071151358344\n"
     ]
    }
   ],
   "source": [
    "y_pred = classifier.predict(X_test)\n",
    "cm = confusion_matrix(y_true=y_test,y_pred=y_pred)\n",
    "print('Confusion Matrix \\n',cm)\n",
    "print(accuracy_score(y_test,y_pred))"
   ]
  },
  {
   "cell_type": "code",
   "execution_count": 44,
   "metadata": {
    "execution": {
     "iopub.execute_input": "2020-09-15T14:05:02.322851Z",
     "iopub.status.busy": "2020-09-15T14:05:02.322062Z",
     "iopub.status.idle": "2020-09-15T14:05:02.341612Z",
     "shell.execute_reply": "2020-09-15T14:05:02.342417Z"
    },
    "papermill": {
     "duration": 0.084743,
     "end_time": "2020-09-15T14:05:02.342647",
     "exception": false,
     "start_time": "2020-09-15T14:05:02.257904",
     "status": "completed"
    },
    "tags": []
   },
   "outputs": [
    {
     "name": "stdout",
     "output_type": "stream",
     "text": [
      "Predicted Value [0. 2. 0. 0. 1. 1. 0. 0. 2. 2. 1. 2. 0. 3. 3. 0. 0. 3. 0. 3. 1. 3. 0. 2.\n",
      " 1. 2. 1. 1. 3. 3. 3. 2. 2. 2. 0. 1. 3. 2. 1. 0. 3. 3. 1. 2. 0. 0. 0. 2.\n",
      " 2. 2. 0. 0. 0. 2. 1. 2. 2. 0. 3. 0. 1. 3. 3. 3. 3. 3. 1. 1. 3. 1. 2. 1.\n",
      " 0. 0. 2. 2. 2. 2. 1. 3. 2. 1. 0. 0. 2. 1. 0. 0. 3. 1. 0. 0. 2. 0. 1. 3.\n",
      " 0. 2. 0. 2. 1. 2. 2. 3. 3. 3. 3. 0. 2. 2. 0. 0. 3. 3. 0. 3. 0. 0. 3. 2.\n",
      " 1. 0. 1. 1. 3. 1. 2. 3. 3. 1. 1. 3. 1. 1. 1. 3. 2. 2. 0. 1. 3. 2. 0. 0.\n",
      " 3. 3. 0. 2. 1. 1. 0. 1. 3. 3. 3. 1. 3. 3. 1. 0. 3. 0. 3. 2. 2. 2. 2. 2.\n",
      " 3. 0. 3. 0. 3. 2. 0. 0. 0. 0. 0. 3. 0. 2. 1. 0. 3. 1. 2. 0. 3. 1. 2. 0.\n",
      " 0. 2. 1. 1. 2. 3. 0. 3. 2. 1. 0. 2. 2. 0. 0. 1. 1. 2. 3. 0. 3. 1. 3. 0.\n",
      " 2. 0. 2. 0. 0. 0. 2. 3. 3. 0. 2. 3. 3. 1. 3. 2. 0. 1. 2. 1. 0. 0. 1. 1.\n",
      " 3. 2. 2. 2. 3. 1. 2. 2. 2. 0. 2. 1. 2. 3. 2. 2. 1. 2. 0. 2. 0. 1. 0. 1.\n",
      " 1. 0. 2. 1. 3. 1. 1. 3. 1. 1. 2. 0. 2. 2. 2. 2. 2. 3. 1. 1. 1. 3. 0. 3.\n",
      " 2. 1. 0. 0. 3. 0. 2. 3. 2. 1. 1. 3. 2. 2. 3. 3. 0. 1. 1. 1. 0. 1. 0. 2.\n",
      " 0. 1. 3. 2. 0. 1. 2. 0. 0. 1. 0. 1. 1. 0. 3. 0. 1. 2. 3. 3. 3. 1. 2. 3.\n",
      " 2. 0. 2. 3. 2. 0. 2. 2. 2. 2. 2. 0. 0. 0. 0. 1. 2. 3. 2. 0. 2. 0. 3. 0.\n",
      " 0. 1. 2. 2. 0. 2. 2. 3. 1. 1. 1. 3. 1. 3. 0. 3. 0. 0. 0. 3. 1. 3. 3. 1.\n",
      " 3. 0. 0. 0. 3. 3. 1. 0. 3. 0. 1. 0. 3. 3. 0. 3. 3. 3. 3. 3. 0. 3. 1. 1.\n",
      " 1. 0. 1. 1. 0. 3. 1. 3. 1. 1. 3. 3. 3. 1. 2. 2. 0. 1. 3. 2. 2. 3. 3. 2.\n",
      " 3. 0. 3. 3. 2. 0. 1. 2. 3. 0. 2. 3. 2. 1. 2. 3. 1. 1. 0. 3. 2. 0. 0. 0.\n",
      " 3. 0. 0. 1. 2. 1. 1. 0. 3. 0. 2. 1. 3. 3. 1. 2. 3. 2. 1. 1. 3. 1. 1. 0.\n",
      " 3. 3. 1. 0. 3. 2. 3. 3. 2. 0. 2. 3. 1. 1. 2. 0. 0. 2. 0. 3. 1. 3. 2. 0.\n",
      " 2. 3. 1. 3. 1. 0. 1. 0. 0. 2. 0. 1. 0. 0. 1. 3. 3. 0. 0. 3. 3. 0. 0. 3.\n",
      " 2. 0. 3. 1. 2. 0. 2. 0. 2. 2. 1. 1. 3. 1. 3. 2. 2. 3. 1. 3. 1. 3. 3. 3.\n",
      " 1. 1. 2. 0. 2. 3. 1. 3. 1. 0. 0. 3. 3. 0. 1. 0. 0. 0. 0. 0. 0. 2. 0. 0.\n",
      " 0. 2. 0. 2. 1. 0. 2. 0. 3. 2. 3. 3. 2. 2. 0. 3. 1. 1. 0. 2. 2. 0. 3. 1.\n",
      " 1. 2. 3. 0. 2. 0. 3. 2. 1. 3. 1. 0. 0. 1. 2. 0. 2. 2. 0. 3. 0. 2. 0. 3.\n",
      " 3. 0. 3. 3. 0. 0. 3. 1. 3. 3. 0. 0. 1. 2. 1. 3. 3. 1. 0. 2. 3. 2. 2. 3.\n",
      " 2. 2. 0. 0. 0. 0. 3. 1. 0. 2. 2. 1. 0. 1. 1. 3. 1. 3. 1. 3. 2. 3. 3. 0.\n",
      " 0. 3. 3. 2. 3. 0. 0. 3. 3. 2. 1. 0. 2. 2. 2. 0. 1. 1. 2. 1. 1. 2. 2. 1.\n",
      " 1. 3. 2. 3. 0. 2. 1. 1. 2. 2. 1. 1. 3. 3. 0. 2. 1. 0. 0. 0. 1. 3. 3. 0.\n",
      " 0. 1. 2. 1. 2. 2. 1. 2. 0. 0. 1. 2. 0. 0. 3. 2. 0. 2. 2. 2. 2. 2. 3. 2.\n",
      " 0. 1. 1. 0. 2. 2. 2. 0. 1. 2. 3. 0. 1. 3. 2. 2. 1. 2. 3. 1. 1. 1. 3. 0.\n",
      " 1. 0. 3. 3. 2.]\n"
     ]
    }
   ],
   "source": [
    "model = GaussianNB()\n",
    "model.fit(X_train,y_train)\n",
    "predicted = model.predict(X_test)\n",
    "print('Predicted Value',predicted)"
   ]
  },
  {
   "cell_type": "code",
   "execution_count": 45,
   "metadata": {
    "execution": {
     "iopub.execute_input": "2020-09-15T14:05:02.459927Z",
     "iopub.status.busy": "2020-09-15T14:05:02.459156Z",
     "iopub.status.idle": "2020-09-15T14:05:02.470018Z",
     "shell.execute_reply": "2020-09-15T14:05:02.468991Z"
    },
    "papermill": {
     "duration": 0.072435,
     "end_time": "2020-09-15T14:05:02.470192",
     "exception": false,
     "start_time": "2020-09-15T14:05:02.397757",
     "status": "completed"
    },
    "tags": []
   },
   "outputs": [
    {
     "name": "stdout",
     "output_type": "stream",
     "text": [
      "Confusion Matrix \n",
      " [[203   0   4   2]\n",
      " [  0 154   4  35]\n",
      " [  0   4 184   0]\n",
      " [  8  18   0 157]]\n",
      "0.9029754204398448\n"
     ]
    }
   ],
   "source": [
    "cm = confusion_matrix(y_true=y_test,y_pred=predicted)\n",
    "print('Confusion Matrix \\n',cm)\n",
    "print(accuracy_score(y_test,predicted))"
   ]
  }
 ],
 "metadata": {
  "kernelspec": {
   "display_name": "Python 3",
   "language": "python",
   "name": "python3"
  },
  "language_info": {
   "codemirror_mode": {
    "name": "ipython",
    "version": 3
   },
   "file_extension": ".py",
   "mimetype": "text/x-python",
   "name": "python",
   "nbconvert_exporter": "python",
   "pygments_lexer": "ipython3",
   "version": "3.7.6"
  },
  "papermill": {
   "duration": 19.232836,
   "end_time": "2020-09-15T14:05:03.576183",
   "environment_variables": {},
   "exception": null,
   "input_path": "__notebook__.ipynb",
   "output_path": "__notebook__.ipynb",
   "parameters": {},
   "start_time": "2020-09-15T14:04:44.343347",
   "version": "2.1.0"
  }
 },
 "nbformat": 4,
 "nbformat_minor": 4
}
