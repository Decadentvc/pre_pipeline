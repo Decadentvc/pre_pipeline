{
 "cells": [
  {
   "cell_type": "markdown",
   "metadata": {},
   "source": [
    "# Applying Machine Learning Algorithms:"
   ]
  },
  {
   "cell_type": "code",
   "execution_count": 1,
   "metadata": {},
   "outputs": [],
   "source": [
    "import pandas as pd\n",
    "import numpy as np\n",
    "import matplotlib.pyplot as plt\n",
    "import matplotlib\n",
    "import seaborn as sns\n",
    "\n",
    "%matplotlib inline\n",
    "from matplotlib import rcParams\n",
    "sns.set_style(\"whitegrid\")\n",
    "sns.set_context(\"poster\")"
   ]
  },
  {
   "cell_type": "code",
   "execution_count": 2,
   "metadata": {},
   "outputs": [],
   "source": [
    "rcParams['figure.figsize'] = (8.0, 5.0)\n",
    "import warnings\n",
    "warnings.simplefilter(action='ignore', category=FutureWarning)"
   ]
  },
  {
   "cell_type": "code",
   "execution_count": 3,
   "metadata": {},
   "outputs": [],
   "source": [
    "file_1 = pd.read_csv('../input/churn-prediction-of-bank-customers/Churn_Modelling.csv')"
   ]
  },
  {
   "cell_type": "code",
   "execution_count": 4,
   "metadata": {},
   "outputs": [],
   "source": [
    "df_orig = pd.DataFrame(file_1)"
   ]
  },
  {
   "cell_type": "code",
   "execution_count": 5,
   "metadata": {},
   "outputs": [
    {
     "data": {
      "text/html": [
       "<div>\n",
       "<style scoped>\n",
       "    .dataframe tbody tr th:only-of-type {\n",
       "        vertical-align: middle;\n",
       "    }\n",
       "\n",
       "    .dataframe tbody tr th {\n",
       "        vertical-align: top;\n",
       "    }\n",
       "\n",
       "    .dataframe thead th {\n",
       "        text-align: right;\n",
       "    }\n",
       "</style>\n",
       "<table border=\"1\" class=\"dataframe\">\n",
       "  <thead>\n",
       "    <tr style=\"text-align: right;\">\n",
       "      <th></th>\n",
       "      <th>RowNumber</th>\n",
       "      <th>CustomerId</th>\n",
       "      <th>Surname</th>\n",
       "      <th>CreditScore</th>\n",
       "      <th>Geography</th>\n",
       "      <th>Gender</th>\n",
       "      <th>Age</th>\n",
       "      <th>Tenure</th>\n",
       "      <th>Balance</th>\n",
       "      <th>NumOfProducts</th>\n",
       "      <th>HasCrCard</th>\n",
       "      <th>IsActiveMember</th>\n",
       "      <th>EstimatedSalary</th>\n",
       "      <th>Exited</th>\n",
       "    </tr>\n",
       "  </thead>\n",
       "  <tbody>\n",
       "    <tr>\n",
       "      <td>0</td>\n",
       "      <td>1</td>\n",
       "      <td>15634602</td>\n",
       "      <td>Hargrave</td>\n",
       "      <td>619</td>\n",
       "      <td>France</td>\n",
       "      <td>Female</td>\n",
       "      <td>42</td>\n",
       "      <td>2</td>\n",
       "      <td>0.00</td>\n",
       "      <td>1</td>\n",
       "      <td>1</td>\n",
       "      <td>1</td>\n",
       "      <td>101348.88</td>\n",
       "      <td>1</td>\n",
       "    </tr>\n",
       "    <tr>\n",
       "      <td>1</td>\n",
       "      <td>2</td>\n",
       "      <td>15647311</td>\n",
       "      <td>Hill</td>\n",
       "      <td>608</td>\n",
       "      <td>Spain</td>\n",
       "      <td>Female</td>\n",
       "      <td>41</td>\n",
       "      <td>1</td>\n",
       "      <td>83807.86</td>\n",
       "      <td>1</td>\n",
       "      <td>0</td>\n",
       "      <td>1</td>\n",
       "      <td>112542.58</td>\n",
       "      <td>0</td>\n",
       "    </tr>\n",
       "    <tr>\n",
       "      <td>2</td>\n",
       "      <td>3</td>\n",
       "      <td>15619304</td>\n",
       "      <td>Onio</td>\n",
       "      <td>502</td>\n",
       "      <td>France</td>\n",
       "      <td>Female</td>\n",
       "      <td>42</td>\n",
       "      <td>8</td>\n",
       "      <td>159660.80</td>\n",
       "      <td>3</td>\n",
       "      <td>1</td>\n",
       "      <td>0</td>\n",
       "      <td>113931.57</td>\n",
       "      <td>1</td>\n",
       "    </tr>\n",
       "    <tr>\n",
       "      <td>3</td>\n",
       "      <td>4</td>\n",
       "      <td>15701354</td>\n",
       "      <td>Boni</td>\n",
       "      <td>699</td>\n",
       "      <td>France</td>\n",
       "      <td>Female</td>\n",
       "      <td>39</td>\n",
       "      <td>1</td>\n",
       "      <td>0.00</td>\n",
       "      <td>2</td>\n",
       "      <td>0</td>\n",
       "      <td>0</td>\n",
       "      <td>93826.63</td>\n",
       "      <td>0</td>\n",
       "    </tr>\n",
       "    <tr>\n",
       "      <td>4</td>\n",
       "      <td>5</td>\n",
       "      <td>15737888</td>\n",
       "      <td>Mitchell</td>\n",
       "      <td>850</td>\n",
       "      <td>Spain</td>\n",
       "      <td>Female</td>\n",
       "      <td>43</td>\n",
       "      <td>2</td>\n",
       "      <td>125510.82</td>\n",
       "      <td>1</td>\n",
       "      <td>1</td>\n",
       "      <td>1</td>\n",
       "      <td>79084.10</td>\n",
       "      <td>0</td>\n",
       "    </tr>\n",
       "  </tbody>\n",
       "</table>\n",
       "</div>"
      ],
      "text/plain": [
       "   RowNumber  CustomerId   Surname  CreditScore Geography  Gender  Age  \\\n",
       "0          1    15634602  Hargrave          619    France  Female   42   \n",
       "1          2    15647311      Hill          608     Spain  Female   41   \n",
       "2          3    15619304      Onio          502    France  Female   42   \n",
       "3          4    15701354      Boni          699    France  Female   39   \n",
       "4          5    15737888  Mitchell          850     Spain  Female   43   \n",
       "\n",
       "   Tenure    Balance  NumOfProducts  HasCrCard  IsActiveMember  \\\n",
       "0       2       0.00              1          1               1   \n",
       "1       1   83807.86              1          0               1   \n",
       "2       8  159660.80              3          1               0   \n",
       "3       1       0.00              2          0               0   \n",
       "4       2  125510.82              1          1               1   \n",
       "\n",
       "   EstimatedSalary  Exited  \n",
       "0        101348.88       1  \n",
       "1        112542.58       0  \n",
       "2        113931.57       1  \n",
       "3         93826.63       0  \n",
       "4         79084.10       0  "
      ]
     },
     "execution_count": 5,
     "metadata": {},
     "output_type": "execute_result"
    }
   ],
   "source": [
    "df_orig.head()"
   ]
  },
  {
   "cell_type": "code",
   "execution_count": 6,
   "metadata": {},
   "outputs": [],
   "source": [
    "df = df_orig.copy()"
   ]
  },
  {
   "cell_type": "code",
   "execution_count": 7,
   "metadata": {},
   "outputs": [
    {
     "data": {
      "text/html": [
       "<div>\n",
       "<style scoped>\n",
       "    .dataframe tbody tr th:only-of-type {\n",
       "        vertical-align: middle;\n",
       "    }\n",
       "\n",
       "    .dataframe tbody tr th {\n",
       "        vertical-align: top;\n",
       "    }\n",
       "\n",
       "    .dataframe thead th {\n",
       "        text-align: right;\n",
       "    }\n",
       "</style>\n",
       "<table border=\"1\" class=\"dataframe\">\n",
       "  <thead>\n",
       "    <tr style=\"text-align: right;\">\n",
       "      <th></th>\n",
       "      <th>RowNumber</th>\n",
       "      <th>CreditScore</th>\n",
       "      <th>Geography</th>\n",
       "      <th>Gender</th>\n",
       "      <th>Age</th>\n",
       "      <th>Tenure</th>\n",
       "      <th>Balance</th>\n",
       "      <th>NumOfProducts</th>\n",
       "      <th>HasCrCard</th>\n",
       "      <th>IsActiveMember</th>\n",
       "      <th>EstimatedSalary</th>\n",
       "      <th>Exited</th>\n",
       "    </tr>\n",
       "  </thead>\n",
       "  <tbody>\n",
       "    <tr>\n",
       "      <td>0</td>\n",
       "      <td>1</td>\n",
       "      <td>619</td>\n",
       "      <td>France</td>\n",
       "      <td>Female</td>\n",
       "      <td>42</td>\n",
       "      <td>2</td>\n",
       "      <td>0.00</td>\n",
       "      <td>1</td>\n",
       "      <td>1</td>\n",
       "      <td>1</td>\n",
       "      <td>101348.88</td>\n",
       "      <td>1</td>\n",
       "    </tr>\n",
       "    <tr>\n",
       "      <td>1</td>\n",
       "      <td>2</td>\n",
       "      <td>608</td>\n",
       "      <td>Spain</td>\n",
       "      <td>Female</td>\n",
       "      <td>41</td>\n",
       "      <td>1</td>\n",
       "      <td>83807.86</td>\n",
       "      <td>1</td>\n",
       "      <td>0</td>\n",
       "      <td>1</td>\n",
       "      <td>112542.58</td>\n",
       "      <td>0</td>\n",
       "    </tr>\n",
       "    <tr>\n",
       "      <td>2</td>\n",
       "      <td>3</td>\n",
       "      <td>502</td>\n",
       "      <td>France</td>\n",
       "      <td>Female</td>\n",
       "      <td>42</td>\n",
       "      <td>8</td>\n",
       "      <td>159660.80</td>\n",
       "      <td>3</td>\n",
       "      <td>1</td>\n",
       "      <td>0</td>\n",
       "      <td>113931.57</td>\n",
       "      <td>1</td>\n",
       "    </tr>\n",
       "    <tr>\n",
       "      <td>3</td>\n",
       "      <td>4</td>\n",
       "      <td>699</td>\n",
       "      <td>France</td>\n",
       "      <td>Female</td>\n",
       "      <td>39</td>\n",
       "      <td>1</td>\n",
       "      <td>0.00</td>\n",
       "      <td>2</td>\n",
       "      <td>0</td>\n",
       "      <td>0</td>\n",
       "      <td>93826.63</td>\n",
       "      <td>0</td>\n",
       "    </tr>\n",
       "    <tr>\n",
       "      <td>4</td>\n",
       "      <td>5</td>\n",
       "      <td>850</td>\n",
       "      <td>Spain</td>\n",
       "      <td>Female</td>\n",
       "      <td>43</td>\n",
       "      <td>2</td>\n",
       "      <td>125510.82</td>\n",
       "      <td>1</td>\n",
       "      <td>1</td>\n",
       "      <td>1</td>\n",
       "      <td>79084.10</td>\n",
       "      <td>0</td>\n",
       "    </tr>\n",
       "  </tbody>\n",
       "</table>\n",
       "</div>"
      ],
      "text/plain": [
       "   RowNumber  CreditScore Geography  Gender  Age  Tenure    Balance  \\\n",
       "0          1          619    France  Female   42       2       0.00   \n",
       "1          2          608     Spain  Female   41       1   83807.86   \n",
       "2          3          502    France  Female   42       8  159660.80   \n",
       "3          4          699    France  Female   39       1       0.00   \n",
       "4          5          850     Spain  Female   43       2  125510.82   \n",
       "\n",
       "   NumOfProducts  HasCrCard  IsActiveMember  EstimatedSalary  Exited  \n",
       "0              1          1               1        101348.88       1  \n",
       "1              1          0               1        112542.58       0  \n",
       "2              3          1               0        113931.57       1  \n",
       "3              2          0               0         93826.63       0  \n",
       "4              1          1               1         79084.10       0  "
      ]
     },
     "execution_count": 7,
     "metadata": {},
     "output_type": "execute_result"
    }
   ],
   "source": [
    "# Dropping the id and name columns.\n",
    "df.drop('CustomerId', axis=1, inplace=True)\n",
    "df.drop('Surname', axis=1, inplace=True)\n",
    "df.head()"
   ]
  },
  {
   "cell_type": "code",
   "execution_count": 8,
   "metadata": {},
   "outputs": [
    {
     "name": "stdout",
     "output_type": "stream",
     "text": [
      "<class 'pandas.core.frame.DataFrame'>\n",
      "RangeIndex: 10000 entries, 0 to 9999\n",
      "Data columns (total 12 columns):\n",
      "RowNumber          10000 non-null int64\n",
      "CreditScore        10000 non-null int64\n",
      "Geography          10000 non-null object\n",
      "Gender             10000 non-null object\n",
      "Age                10000 non-null int64\n",
      "Tenure             10000 non-null int64\n",
      "Balance            10000 non-null float64\n",
      "NumOfProducts      10000 non-null int64\n",
      "HasCrCard          10000 non-null int64\n",
      "IsActiveMember     10000 non-null int64\n",
      "EstimatedSalary    10000 non-null float64\n",
      "Exited             10000 non-null int64\n",
      "dtypes: float64(2), int64(8), object(2)\n",
      "memory usage: 937.6+ KB\n"
     ]
    }
   ],
   "source": [
    "df.info()"
   ]
  },
  {
   "cell_type": "code",
   "execution_count": 9,
   "metadata": {},
   "outputs": [],
   "source": [
    "# Converting NumOfProducts column to categorical.\n",
    "df['NumOfProducts'] = df['NumOfProducts'].astype(int)\n",
    "df['NumOfProducts'] = df['NumOfProducts'].astype(object)"
   ]
  },
  {
   "cell_type": "code",
   "execution_count": 10,
   "metadata": {},
   "outputs": [
    {
     "data": {
      "text/html": [
       "<div>\n",
       "<style scoped>\n",
       "    .dataframe tbody tr th:only-of-type {\n",
       "        vertical-align: middle;\n",
       "    }\n",
       "\n",
       "    .dataframe tbody tr th {\n",
       "        vertical-align: top;\n",
       "    }\n",
       "\n",
       "    .dataframe thead th {\n",
       "        text-align: right;\n",
       "    }\n",
       "</style>\n",
       "<table border=\"1\" class=\"dataframe\">\n",
       "  <thead>\n",
       "    <tr style=\"text-align: right;\">\n",
       "      <th></th>\n",
       "      <th>RowNumber</th>\n",
       "      <th>CreditScore</th>\n",
       "      <th>Age</th>\n",
       "      <th>Tenure</th>\n",
       "      <th>Balance</th>\n",
       "      <th>HasCrCard</th>\n",
       "      <th>IsActiveMember</th>\n",
       "      <th>EstimatedSalary</th>\n",
       "      <th>Exited</th>\n",
       "      <th>Geography_France</th>\n",
       "      <th>Geography_Germany</th>\n",
       "      <th>Geography_Spain</th>\n",
       "      <th>Gender_Female</th>\n",
       "      <th>Gender_Male</th>\n",
       "      <th>NumOfProducts_1</th>\n",
       "      <th>NumOfProducts_2</th>\n",
       "      <th>NumOfProducts_3</th>\n",
       "      <th>NumOfProducts_4</th>\n",
       "    </tr>\n",
       "  </thead>\n",
       "  <tbody>\n",
       "    <tr>\n",
       "      <td>0</td>\n",
       "      <td>1</td>\n",
       "      <td>619</td>\n",
       "      <td>42</td>\n",
       "      <td>2</td>\n",
       "      <td>0.00</td>\n",
       "      <td>1</td>\n",
       "      <td>1</td>\n",
       "      <td>101348.88</td>\n",
       "      <td>1</td>\n",
       "      <td>1</td>\n",
       "      <td>0</td>\n",
       "      <td>0</td>\n",
       "      <td>1</td>\n",
       "      <td>0</td>\n",
       "      <td>1</td>\n",
       "      <td>0</td>\n",
       "      <td>0</td>\n",
       "      <td>0</td>\n",
       "    </tr>\n",
       "    <tr>\n",
       "      <td>1</td>\n",
       "      <td>2</td>\n",
       "      <td>608</td>\n",
       "      <td>41</td>\n",
       "      <td>1</td>\n",
       "      <td>83807.86</td>\n",
       "      <td>0</td>\n",
       "      <td>1</td>\n",
       "      <td>112542.58</td>\n",
       "      <td>0</td>\n",
       "      <td>0</td>\n",
       "      <td>0</td>\n",
       "      <td>1</td>\n",
       "      <td>1</td>\n",
       "      <td>0</td>\n",
       "      <td>1</td>\n",
       "      <td>0</td>\n",
       "      <td>0</td>\n",
       "      <td>0</td>\n",
       "    </tr>\n",
       "    <tr>\n",
       "      <td>2</td>\n",
       "      <td>3</td>\n",
       "      <td>502</td>\n",
       "      <td>42</td>\n",
       "      <td>8</td>\n",
       "      <td>159660.80</td>\n",
       "      <td>1</td>\n",
       "      <td>0</td>\n",
       "      <td>113931.57</td>\n",
       "      <td>1</td>\n",
       "      <td>1</td>\n",
       "      <td>0</td>\n",
       "      <td>0</td>\n",
       "      <td>1</td>\n",
       "      <td>0</td>\n",
       "      <td>0</td>\n",
       "      <td>0</td>\n",
       "      <td>1</td>\n",
       "      <td>0</td>\n",
       "    </tr>\n",
       "    <tr>\n",
       "      <td>3</td>\n",
       "      <td>4</td>\n",
       "      <td>699</td>\n",
       "      <td>39</td>\n",
       "      <td>1</td>\n",
       "      <td>0.00</td>\n",
       "      <td>0</td>\n",
       "      <td>0</td>\n",
       "      <td>93826.63</td>\n",
       "      <td>0</td>\n",
       "      <td>1</td>\n",
       "      <td>0</td>\n",
       "      <td>0</td>\n",
       "      <td>1</td>\n",
       "      <td>0</td>\n",
       "      <td>0</td>\n",
       "      <td>1</td>\n",
       "      <td>0</td>\n",
       "      <td>0</td>\n",
       "    </tr>\n",
       "    <tr>\n",
       "      <td>4</td>\n",
       "      <td>5</td>\n",
       "      <td>850</td>\n",
       "      <td>43</td>\n",
       "      <td>2</td>\n",
       "      <td>125510.82</td>\n",
       "      <td>1</td>\n",
       "      <td>1</td>\n",
       "      <td>79084.10</td>\n",
       "      <td>0</td>\n",
       "      <td>0</td>\n",
       "      <td>0</td>\n",
       "      <td>1</td>\n",
       "      <td>1</td>\n",
       "      <td>0</td>\n",
       "      <td>1</td>\n",
       "      <td>0</td>\n",
       "      <td>0</td>\n",
       "      <td>0</td>\n",
       "    </tr>\n",
       "  </tbody>\n",
       "</table>\n",
       "</div>"
      ],
      "text/plain": [
       "   RowNumber  CreditScore  Age  Tenure    Balance  HasCrCard  IsActiveMember  \\\n",
       "0          1          619   42       2       0.00          1               1   \n",
       "1          2          608   41       1   83807.86          0               1   \n",
       "2          3          502   42       8  159660.80          1               0   \n",
       "3          4          699   39       1       0.00          0               0   \n",
       "4          5          850   43       2  125510.82          1               1   \n",
       "\n",
       "   EstimatedSalary  Exited  Geography_France  Geography_Germany  \\\n",
       "0        101348.88       1                 1                  0   \n",
       "1        112542.58       0                 0                  0   \n",
       "2        113931.57       1                 1                  0   \n",
       "3         93826.63       0                 1                  0   \n",
       "4         79084.10       0                 0                  0   \n",
       "\n",
       "   Geography_Spain  Gender_Female  Gender_Male  NumOfProducts_1  \\\n",
       "0                0              1            0                1   \n",
       "1                1              1            0                1   \n",
       "2                0              1            0                0   \n",
       "3                0              1            0                0   \n",
       "4                1              1            0                1   \n",
       "\n",
       "   NumOfProducts_2  NumOfProducts_3  NumOfProducts_4  \n",
       "0                0                0                0  \n",
       "1                0                0                0  \n",
       "2                0                1                0  \n",
       "3                1                0                0  \n",
       "4                0                0                0  "
      ]
     },
     "execution_count": 10,
     "metadata": {},
     "output_type": "execute_result"
    }
   ],
   "source": [
    "# Creating seperate columns for categories\n",
    "df = pd.get_dummies(df)\n",
    "df.head()"
   ]
  },
  {
   "cell_type": "code",
   "execution_count": 11,
   "metadata": {},
   "outputs": [
    {
     "data": {
      "text/html": [
       "<div>\n",
       "<style scoped>\n",
       "    .dataframe tbody tr th:only-of-type {\n",
       "        vertical-align: middle;\n",
       "    }\n",
       "\n",
       "    .dataframe tbody tr th {\n",
       "        vertical-align: top;\n",
       "    }\n",
       "\n",
       "    .dataframe thead th {\n",
       "        text-align: right;\n",
       "    }\n",
       "</style>\n",
       "<table border=\"1\" class=\"dataframe\">\n",
       "  <thead>\n",
       "    <tr style=\"text-align: right;\">\n",
       "      <th></th>\n",
       "      <th>RowNumber</th>\n",
       "      <th>CreditScore</th>\n",
       "      <th>Age</th>\n",
       "      <th>Tenure</th>\n",
       "      <th>Balance</th>\n",
       "      <th>HasCrCard</th>\n",
       "      <th>IsActiveMember</th>\n",
       "      <th>EstimatedSalary</th>\n",
       "      <th>Exited</th>\n",
       "      <th>Geography_France</th>\n",
       "      <th>Geography_Germany</th>\n",
       "      <th>Gender_Female</th>\n",
       "      <th>NumOfProducts_1</th>\n",
       "      <th>NumOfProducts_3</th>\n",
       "      <th>NumOfProducts_4</th>\n",
       "    </tr>\n",
       "  </thead>\n",
       "  <tbody>\n",
       "    <tr>\n",
       "      <td>0</td>\n",
       "      <td>1</td>\n",
       "      <td>619</td>\n",
       "      <td>42</td>\n",
       "      <td>2</td>\n",
       "      <td>0.00</td>\n",
       "      <td>1</td>\n",
       "      <td>1</td>\n",
       "      <td>101348.88</td>\n",
       "      <td>1</td>\n",
       "      <td>1</td>\n",
       "      <td>0</td>\n",
       "      <td>1</td>\n",
       "      <td>1</td>\n",
       "      <td>0</td>\n",
       "      <td>0</td>\n",
       "    </tr>\n",
       "    <tr>\n",
       "      <td>1</td>\n",
       "      <td>2</td>\n",
       "      <td>608</td>\n",
       "      <td>41</td>\n",
       "      <td>1</td>\n",
       "      <td>83807.86</td>\n",
       "      <td>0</td>\n",
       "      <td>1</td>\n",
       "      <td>112542.58</td>\n",
       "      <td>0</td>\n",
       "      <td>0</td>\n",
       "      <td>0</td>\n",
       "      <td>1</td>\n",
       "      <td>1</td>\n",
       "      <td>0</td>\n",
       "      <td>0</td>\n",
       "    </tr>\n",
       "    <tr>\n",
       "      <td>2</td>\n",
       "      <td>3</td>\n",
       "      <td>502</td>\n",
       "      <td>42</td>\n",
       "      <td>8</td>\n",
       "      <td>159660.80</td>\n",
       "      <td>1</td>\n",
       "      <td>0</td>\n",
       "      <td>113931.57</td>\n",
       "      <td>1</td>\n",
       "      <td>1</td>\n",
       "      <td>0</td>\n",
       "      <td>1</td>\n",
       "      <td>0</td>\n",
       "      <td>1</td>\n",
       "      <td>0</td>\n",
       "    </tr>\n",
       "    <tr>\n",
       "      <td>3</td>\n",
       "      <td>4</td>\n",
       "      <td>699</td>\n",
       "      <td>39</td>\n",
       "      <td>1</td>\n",
       "      <td>0.00</td>\n",
       "      <td>0</td>\n",
       "      <td>0</td>\n",
       "      <td>93826.63</td>\n",
       "      <td>0</td>\n",
       "      <td>1</td>\n",
       "      <td>0</td>\n",
       "      <td>1</td>\n",
       "      <td>0</td>\n",
       "      <td>0</td>\n",
       "      <td>0</td>\n",
       "    </tr>\n",
       "    <tr>\n",
       "      <td>4</td>\n",
       "      <td>5</td>\n",
       "      <td>850</td>\n",
       "      <td>43</td>\n",
       "      <td>2</td>\n",
       "      <td>125510.82</td>\n",
       "      <td>1</td>\n",
       "      <td>1</td>\n",
       "      <td>79084.10</td>\n",
       "      <td>0</td>\n",
       "      <td>0</td>\n",
       "      <td>0</td>\n",
       "      <td>1</td>\n",
       "      <td>1</td>\n",
       "      <td>0</td>\n",
       "      <td>0</td>\n",
       "    </tr>\n",
       "  </tbody>\n",
       "</table>\n",
       "</div>"
      ],
      "text/plain": [
       "   RowNumber  CreditScore  Age  Tenure    Balance  HasCrCard  IsActiveMember  \\\n",
       "0          1          619   42       2       0.00          1               1   \n",
       "1          2          608   41       1   83807.86          0               1   \n",
       "2          3          502   42       8  159660.80          1               0   \n",
       "3          4          699   39       1       0.00          0               0   \n",
       "4          5          850   43       2  125510.82          1               1   \n",
       "\n",
       "   EstimatedSalary  Exited  Geography_France  Geography_Germany  \\\n",
       "0        101348.88       1                 1                  0   \n",
       "1        112542.58       0                 0                  0   \n",
       "2        113931.57       1                 1                  0   \n",
       "3         93826.63       0                 1                  0   \n",
       "4         79084.10       0                 0                  0   \n",
       "\n",
       "   Gender_Female  NumOfProducts_1  NumOfProducts_3  NumOfProducts_4  \n",
       "0              1                1                0                0  \n",
       "1              1                1                0                0  \n",
       "2              1                0                1                0  \n",
       "3              1                0                0                0  \n",
       "4              1                1                0                0  "
      ]
     },
     "execution_count": 11,
     "metadata": {},
     "output_type": "execute_result"
    }
   ],
   "source": [
    "# Dropping excess columns\n",
    "df.drop('Geography_Spain', axis=1, inplace=True)\n",
    "df.drop('Gender_Male', axis=1, inplace=True)\n",
    "df.drop('NumOfProducts_2', axis=1, inplace=True)\n",
    "df.head()"
   ]
  },
  {
   "cell_type": "code",
   "execution_count": 12,
   "metadata": {},
   "outputs": [
    {
     "data": {
      "text/plain": [
       "Index(['RowNumber', 'CreditScore', 'Age', 'Tenure', 'Balance', 'HasCrCard',\n",
       "       'IsActiveMember', 'EstimatedSalary', 'Exited', 'Geography_France',\n",
       "       'Geography_Germany', 'Gender_Female', 'NumOfProducts_1',\n",
       "       'NumOfProducts_3', 'NumOfProducts_4'],\n",
       "      dtype='object')"
      ]
     },
     "execution_count": 12,
     "metadata": {},
     "output_type": "execute_result"
    }
   ],
   "source": [
    "df.columns"
   ]
  },
  {
   "cell_type": "code",
   "execution_count": 13,
   "metadata": {},
   "outputs": [],
   "source": [
    "df = df[['CreditScore', 'Age', 'Tenure', 'Balance', 'HasCrCard',\n",
    "       'IsActiveMember', 'EstimatedSalary', 'Geography_Germany',\n",
    "       'Geography_France', 'Gender_Female', 'NumOfProducts_1',\n",
    "       'NumOfProducts_4', 'NumOfProducts_3', 'Exited']] "
   ]
  },
  {
   "cell_type": "code",
   "execution_count": 14,
   "metadata": {},
   "outputs": [
    {
     "data": {
      "text/html": [
       "<style  type=\"text/css\" >\n",
       "    #T_3924dea6_efec_11e9_895e_e54de9a20fefrow0_col0 {\n",
       "            background-color:  #023858;\n",
       "            color:  #f1f1f1;\n",
       "        }    #T_3924dea6_efec_11e9_895e_e54de9a20fefrow0_col1 {\n",
       "            background-color:  #faf3f9;\n",
       "            color:  #000000;\n",
       "        }    #T_3924dea6_efec_11e9_895e_e54de9a20fefrow0_col2 {\n",
       "            background-color:  #fbf3f9;\n",
       "            color:  #000000;\n",
       "        }    #T_3924dea6_efec_11e9_895e_e54de9a20fefrow0_col3 {\n",
       "            background-color:  #dddbec;\n",
       "            color:  #000000;\n",
       "        }    #T_3924dea6_efec_11e9_895e_e54de9a20fefrow0_col4 {\n",
       "            background-color:  #fef6fa;\n",
       "            color:  #000000;\n",
       "        }    #T_3924dea6_efec_11e9_895e_e54de9a20fefrow0_col5 {\n",
       "            background-color:  #e5e1ef;\n",
       "            color:  #000000;\n",
       "        }    #T_3924dea6_efec_11e9_895e_e54de9a20fefrow0_col6 {\n",
       "            background-color:  #fef6fa;\n",
       "            color:  #000000;\n",
       "        }    #T_3924dea6_efec_11e9_895e_e54de9a20fefrow0_col7 {\n",
       "            background-color:  #a8bedc;\n",
       "            color:  #000000;\n",
       "        }    #T_3924dea6_efec_11e9_895e_e54de9a20fefrow0_col8 {\n",
       "            background-color:  #abbfdc;\n",
       "            color:  #000000;\n",
       "        }    #T_3924dea6_efec_11e9_895e_e54de9a20fefrow0_col9 {\n",
       "            background-color:  #fbf4f9;\n",
       "            color:  #000000;\n",
       "        }    #T_3924dea6_efec_11e9_895e_e54de9a20fefrow0_col10 {\n",
       "            background-color:  #ebe6f2;\n",
       "            color:  #000000;\n",
       "        }    #T_3924dea6_efec_11e9_895e_e54de9a20fefrow0_col11 {\n",
       "            background-color:  #f4edf6;\n",
       "            color:  #000000;\n",
       "        }    #T_3924dea6_efec_11e9_895e_e54de9a20fefrow0_col12 {\n",
       "            background-color:  #e9e5f1;\n",
       "            color:  #000000;\n",
       "        }    #T_3924dea6_efec_11e9_895e_e54de9a20fefrow0_col13 {\n",
       "            background-color:  #eee9f3;\n",
       "            color:  #000000;\n",
       "        }    #T_3924dea6_efec_11e9_895e_e54de9a20fefrow1_col0 {\n",
       "            background-color:  #fcf4fa;\n",
       "            color:  #000000;\n",
       "        }    #T_3924dea6_efec_11e9_895e_e54de9a20fefrow1_col1 {\n",
       "            background-color:  #023858;\n",
       "            color:  #f1f1f1;\n",
       "        }    #T_3924dea6_efec_11e9_895e_e54de9a20fefrow1_col2 {\n",
       "            background-color:  #fdf5fa;\n",
       "            color:  #000000;\n",
       "        }    #T_3924dea6_efec_11e9_895e_e54de9a20fefrow1_col3 {\n",
       "            background-color:  #d9d8ea;\n",
       "            color:  #000000;\n",
       "        }    #T_3924dea6_efec_11e9_895e_e54de9a20fefrow1_col4 {\n",
       "            background-color:  #fff7fb;\n",
       "            color:  #000000;\n",
       "        }    #T_3924dea6_efec_11e9_895e_e54de9a20fefrow1_col5 {\n",
       "            background-color:  #d9d8ea;\n",
       "            color:  #000000;\n",
       "        }    #T_3924dea6_efec_11e9_895e_e54de9a20fefrow1_col6 {\n",
       "            background-color:  #fef6fb;\n",
       "            color:  #000000;\n",
       "        }    #T_3924dea6_efec_11e9_895e_e54de9a20fefrow1_col7 {\n",
       "            background-color:  #9ebad9;\n",
       "            color:  #000000;\n",
       "        }    #T_3924dea6_efec_11e9_895e_e54de9a20fefrow1_col8 {\n",
       "            background-color:  #b1c2de;\n",
       "            color:  #000000;\n",
       "        }    #T_3924dea6_efec_11e9_895e_e54de9a20fefrow1_col9 {\n",
       "            background-color:  #f8f1f8;\n",
       "            color:  #000000;\n",
       "        }    #T_3924dea6_efec_11e9_895e_e54de9a20fefrow1_col10 {\n",
       "            background-color:  #dad9ea;\n",
       "            color:  #000000;\n",
       "        }    #T_3924dea6_efec_11e9_895e_e54de9a20fefrow1_col11 {\n",
       "            background-color:  #ede8f3;\n",
       "            color:  #000000;\n",
       "        }    #T_3924dea6_efec_11e9_895e_e54de9a20fefrow1_col12 {\n",
       "            background-color:  #dbdaeb;\n",
       "            color:  #000000;\n",
       "        }    #T_3924dea6_efec_11e9_895e_e54de9a20fefrow1_col13 {\n",
       "            background-color:  #a4bcda;\n",
       "            color:  #000000;\n",
       "        }    #T_3924dea6_efec_11e9_895e_e54de9a20fefrow2_col0 {\n",
       "            background-color:  #fbf4f9;\n",
       "            color:  #000000;\n",
       "        }    #T_3924dea6_efec_11e9_895e_e54de9a20fefrow2_col1 {\n",
       "            background-color:  #fbf3f9;\n",
       "            color:  #000000;\n",
       "        }    #T_3924dea6_efec_11e9_895e_e54de9a20fefrow2_col2 {\n",
       "            background-color:  #023858;\n",
       "            color:  #f1f1f1;\n",
       "        }    #T_3924dea6_efec_11e9_895e_e54de9a20fefrow2_col3 {\n",
       "            background-color:  #e0deed;\n",
       "            color:  #000000;\n",
       "        }    #T_3924dea6_efec_11e9_895e_e54de9a20fefrow2_col4 {\n",
       "            background-color:  #faf2f8;\n",
       "            color:  #000000;\n",
       "        }    #T_3924dea6_efec_11e9_895e_e54de9a20fefrow2_col5 {\n",
       "            background-color:  #eee9f3;\n",
       "            color:  #000000;\n",
       "        }    #T_3924dea6_efec_11e9_895e_e54de9a20fefrow2_col6 {\n",
       "            background-color:  #fdf5fa;\n",
       "            color:  #000000;\n",
       "        }    #T_3924dea6_efec_11e9_895e_e54de9a20fefrow2_col7 {\n",
       "            background-color:  #a9bfdc;\n",
       "            color:  #000000;\n",
       "        }    #T_3924dea6_efec_11e9_895e_e54de9a20fefrow2_col8 {\n",
       "            background-color:  #a9bfdc;\n",
       "            color:  #000000;\n",
       "        }    #T_3924dea6_efec_11e9_895e_e54de9a20fefrow2_col9 {\n",
       "            background-color:  #fef6fb;\n",
       "            color:  #000000;\n",
       "        }    #T_3924dea6_efec_11e9_895e_e54de9a20fefrow2_col10 {\n",
       "            background-color:  #ebe6f2;\n",
       "            color:  #000000;\n",
       "        }    #T_3924dea6_efec_11e9_895e_e54de9a20fefrow2_col11 {\n",
       "            background-color:  #f3edf5;\n",
       "            color:  #000000;\n",
       "        }    #T_3924dea6_efec_11e9_895e_e54de9a20fefrow2_col12 {\n",
       "            background-color:  #e8e4f0;\n",
       "            color:  #000000;\n",
       "        }    #T_3924dea6_efec_11e9_895e_e54de9a20fefrow2_col13 {\n",
       "            background-color:  #ede7f2;\n",
       "            color:  #000000;\n",
       "        }    #T_3924dea6_efec_11e9_895e_e54de9a20fefrow3_col0 {\n",
       "            background-color:  #faf3f9;\n",
       "            color:  #000000;\n",
       "        }    #T_3924dea6_efec_11e9_895e_e54de9a20fefrow3_col1 {\n",
       "            background-color:  #f5eff6;\n",
       "            color:  #000000;\n",
       "        }    #T_3924dea6_efec_11e9_895e_e54de9a20fefrow3_col2 {\n",
       "            background-color:  #fdf5fa;\n",
       "            color:  #000000;\n",
       "        }    #T_3924dea6_efec_11e9_895e_e54de9a20fefrow3_col3 {\n",
       "            background-color:  #023858;\n",
       "            color:  #f1f1f1;\n",
       "        }    #T_3924dea6_efec_11e9_895e_e54de9a20fefrow3_col4 {\n",
       "            background-color:  #fff7fb;\n",
       "            color:  #000000;\n",
       "        }    #T_3924dea6_efec_11e9_895e_e54de9a20fefrow3_col5 {\n",
       "            background-color:  #ece7f2;\n",
       "            color:  #000000;\n",
       "        }    #T_3924dea6_efec_11e9_895e_e54de9a20fefrow3_col6 {\n",
       "            background-color:  #fbf4f9;\n",
       "            color:  #000000;\n",
       "        }    #T_3924dea6_efec_11e9_895e_e54de9a20fefrow3_col7 {\n",
       "            background-color:  #3991c1;\n",
       "            color:  #000000;\n",
       "        }    #T_3924dea6_efec_11e9_895e_e54de9a20fefrow3_col8 {\n",
       "            background-color:  #d7d6e9;\n",
       "            color:  #000000;\n",
       "        }    #T_3924dea6_efec_11e9_895e_e54de9a20fefrow3_col9 {\n",
       "            background-color:  #fef6fa;\n",
       "            color:  #000000;\n",
       "        }    #T_3924dea6_efec_11e9_895e_e54de9a20fefrow3_col10 {\n",
       "            background-color:  #88b1d4;\n",
       "            color:  #000000;\n",
       "        }    #T_3924dea6_efec_11e9_895e_e54de9a20fefrow3_col11 {\n",
       "            background-color:  #f1ebf5;\n",
       "            color:  #000000;\n",
       "        }    #T_3924dea6_efec_11e9_895e_e54de9a20fefrow3_col12 {\n",
       "            background-color:  #e8e4f0;\n",
       "            color:  #000000;\n",
       "        }    #T_3924dea6_efec_11e9_895e_e54de9a20fefrow3_col13 {\n",
       "            background-color:  #d3d4e7;\n",
       "            color:  #000000;\n",
       "        }    #T_3924dea6_efec_11e9_895e_e54de9a20fefrow4_col0 {\n",
       "            background-color:  #fcf4fa;\n",
       "            color:  #000000;\n",
       "        }    #T_3924dea6_efec_11e9_895e_e54de9a20fefrow4_col1 {\n",
       "            background-color:  #fbf4f9;\n",
       "            color:  #000000;\n",
       "        }    #T_3924dea6_efec_11e9_895e_e54de9a20fefrow4_col2 {\n",
       "            background-color:  #f8f1f8;\n",
       "            color:  #000000;\n",
       "        }    #T_3924dea6_efec_11e9_895e_e54de9a20fefrow4_col3 {\n",
       "            background-color:  #e0deed;\n",
       "            color:  #000000;\n",
       "        }    #T_3924dea6_efec_11e9_895e_e54de9a20fefrow4_col4 {\n",
       "            background-color:  #023858;\n",
       "            color:  #f1f1f1;\n",
       "        }    #T_3924dea6_efec_11e9_895e_e54de9a20fefrow4_col5 {\n",
       "            background-color:  #ede7f2;\n",
       "            color:  #000000;\n",
       "        }    #T_3924dea6_efec_11e9_895e_e54de9a20fefrow4_col6 {\n",
       "            background-color:  #fff7fb;\n",
       "            color:  #000000;\n",
       "        }    #T_3924dea6_efec_11e9_895e_e54de9a20fefrow4_col7 {\n",
       "            background-color:  #a7bddb;\n",
       "            color:  #000000;\n",
       "        }    #T_3924dea6_efec_11e9_895e_e54de9a20fefrow4_col8 {\n",
       "            background-color:  #a8bedc;\n",
       "            color:  #000000;\n",
       "        }    #T_3924dea6_efec_11e9_895e_e54de9a20fefrow4_col9 {\n",
       "            background-color:  #fdf5fa;\n",
       "            color:  #000000;\n",
       "        }    #T_3924dea6_efec_11e9_895e_e54de9a20fefrow4_col10 {\n",
       "            background-color:  #e9e5f1;\n",
       "            color:  #000000;\n",
       "        }    #T_3924dea6_efec_11e9_895e_e54de9a20fefrow4_col11 {\n",
       "            background-color:  #f5eef6;\n",
       "            color:  #000000;\n",
       "        }    #T_3924dea6_efec_11e9_895e_e54de9a20fefrow4_col12 {\n",
       "            background-color:  #e7e3f0;\n",
       "            color:  #000000;\n",
       "        }    #T_3924dea6_efec_11e9_895e_e54de9a20fefrow4_col13 {\n",
       "            background-color:  #ece7f2;\n",
       "            color:  #000000;\n",
       "        }    #T_3924dea6_efec_11e9_895e_e54de9a20fefrow5_col0 {\n",
       "            background-color:  #f7f0f7;\n",
       "            color:  #000000;\n",
       "        }    #T_3924dea6_efec_11e9_895e_e54de9a20fefrow5_col1 {\n",
       "            background-color:  #ede8f3;\n",
       "            color:  #000000;\n",
       "        }    #T_3924dea6_efec_11e9_895e_e54de9a20fefrow5_col2 {\n",
       "            background-color:  #fff7fb;\n",
       "            color:  #000000;\n",
       "        }    #T_3924dea6_efec_11e9_895e_e54de9a20fefrow5_col3 {\n",
       "            background-color:  #e0deed;\n",
       "            color:  #000000;\n",
       "        }    #T_3924dea6_efec_11e9_895e_e54de9a20fefrow5_col4 {\n",
       "            background-color:  #fff7fb;\n",
       "            color:  #000000;\n",
       "        }    #T_3924dea6_efec_11e9_895e_e54de9a20fefrow5_col5 {\n",
       "            background-color:  #023858;\n",
       "            color:  #f1f1f1;\n",
       "        }    #T_3924dea6_efec_11e9_895e_e54de9a20fefrow5_col6 {\n",
       "            background-color:  #fff7fb;\n",
       "            color:  #000000;\n",
       "        }    #T_3924dea6_efec_11e9_895e_e54de9a20fefrow5_col7 {\n",
       "            background-color:  #adc1dd;\n",
       "            color:  #000000;\n",
       "        }    #T_3924dea6_efec_11e9_895e_e54de9a20fefrow5_col8 {\n",
       "            background-color:  #a8bedc;\n",
       "            color:  #000000;\n",
       "        }    #T_3924dea6_efec_11e9_895e_e54de9a20fefrow5_col9 {\n",
       "            background-color:  #fff7fb;\n",
       "            color:  #000000;\n",
       "        }    #T_3924dea6_efec_11e9_895e_e54de9a20fefrow5_col10 {\n",
       "            background-color:  #ede7f2;\n",
       "            color:  #000000;\n",
       "        }    #T_3924dea6_efec_11e9_895e_e54de9a20fefrow5_col11 {\n",
       "            background-color:  #f5eef6;\n",
       "            color:  #000000;\n",
       "        }    #T_3924dea6_efec_11e9_895e_e54de9a20fefrow5_col12 {\n",
       "            background-color:  #ede8f3;\n",
       "            color:  #000000;\n",
       "        }    #T_3924dea6_efec_11e9_895e_e54de9a20fefrow5_col13 {\n",
       "            background-color:  #fff7fb;\n",
       "            color:  #000000;\n",
       "        }    #T_3924dea6_efec_11e9_895e_e54de9a20fefrow6_col0 {\n",
       "            background-color:  #fbf4f9;\n",
       "            color:  #000000;\n",
       "        }    #T_3924dea6_efec_11e9_895e_e54de9a20fefrow6_col1 {\n",
       "            background-color:  #fbf3f9;\n",
       "            color:  #000000;\n",
       "        }    #T_3924dea6_efec_11e9_895e_e54de9a20fefrow6_col2 {\n",
       "            background-color:  #faf3f9;\n",
       "            color:  #000000;\n",
       "        }    #T_3924dea6_efec_11e9_895e_e54de9a20fefrow6_col3 {\n",
       "            background-color:  #dcdaeb;\n",
       "            color:  #000000;\n",
       "        }    #T_3924dea6_efec_11e9_895e_e54de9a20fefrow6_col4 {\n",
       "            background-color:  #fef6fb;\n",
       "            color:  #000000;\n",
       "        }    #T_3924dea6_efec_11e9_895e_e54de9a20fefrow6_col5 {\n",
       "            background-color:  #ece7f2;\n",
       "            color:  #000000;\n",
       "        }    #T_3924dea6_efec_11e9_895e_e54de9a20fefrow6_col6 {\n",
       "            background-color:  #023858;\n",
       "            color:  #f1f1f1;\n",
       "        }    #T_3924dea6_efec_11e9_895e_e54de9a20fefrow6_col7 {\n",
       "            background-color:  #a7bddb;\n",
       "            color:  #000000;\n",
       "        }    #T_3924dea6_efec_11e9_895e_e54de9a20fefrow6_col8 {\n",
       "            background-color:  #a9bfdc;\n",
       "            color:  #000000;\n",
       "        }    #T_3924dea6_efec_11e9_895e_e54de9a20fefrow6_col9 {\n",
       "            background-color:  #fbf3f9;\n",
       "            color:  #000000;\n",
       "        }    #T_3924dea6_efec_11e9_895e_e54de9a20fefrow6_col10 {\n",
       "            background-color:  #eae6f1;\n",
       "            color:  #000000;\n",
       "        }    #T_3924dea6_efec_11e9_895e_e54de9a20fefrow6_col11 {\n",
       "            background-color:  #f3edf5;\n",
       "            color:  #000000;\n",
       "        }    #T_3924dea6_efec_11e9_895e_e54de9a20fefrow6_col12 {\n",
       "            background-color:  #e6e2ef;\n",
       "            color:  #000000;\n",
       "        }    #T_3924dea6_efec_11e9_895e_e54de9a20fefrow6_col13 {\n",
       "            background-color:  #e7e3f0;\n",
       "            color:  #000000;\n",
       "        }    #T_3924dea6_efec_11e9_895e_e54de9a20fefrow7_col0 {\n",
       "            background-color:  #faf3f9;\n",
       "            color:  #000000;\n",
       "        }    #T_3924dea6_efec_11e9_895e_e54de9a20fefrow7_col1 {\n",
       "            background-color:  #f2ecf5;\n",
       "            color:  #000000;\n",
       "        }    #T_3924dea6_efec_11e9_895e_e54de9a20fefrow7_col2 {\n",
       "            background-color:  #fbf4f9;\n",
       "            color:  #000000;\n",
       "        }    #T_3924dea6_efec_11e9_895e_e54de9a20fefrow7_col3 {\n",
       "            background-color:  #6da6cd;\n",
       "            color:  #000000;\n",
       "        }    #T_3924dea6_efec_11e9_895e_e54de9a20fefrow7_col4 {\n",
       "            background-color:  #fbf4f9;\n",
       "            color:  #000000;\n",
       "        }    #T_3924dea6_efec_11e9_895e_e54de9a20fefrow7_col5 {\n",
       "            background-color:  #ede8f3;\n",
       "            color:  #000000;\n",
       "        }    #T_3924dea6_efec_11e9_895e_e54de9a20fefrow7_col6 {\n",
       "            background-color:  #fcf4fa;\n",
       "            color:  #000000;\n",
       "        }    #T_3924dea6_efec_11e9_895e_e54de9a20fefrow7_col7 {\n",
       "            background-color:  #023858;\n",
       "            color:  #f1f1f1;\n",
       "        }    #T_3924dea6_efec_11e9_895e_e54de9a20fefrow7_col8 {\n",
       "            background-color:  #fff7fb;\n",
       "            color:  #000000;\n",
       "        }    #T_3924dea6_efec_11e9_895e_e54de9a20fefrow7_col9 {\n",
       "            background-color:  #f8f1f8;\n",
       "            color:  #000000;\n",
       "        }    #T_3924dea6_efec_11e9_895e_e54de9a20fefrow7_col10 {\n",
       "            background-color:  #e1dfed;\n",
       "            color:  #000000;\n",
       "        }    #T_3924dea6_efec_11e9_895e_e54de9a20fefrow7_col11 {\n",
       "            background-color:  #f0eaf4;\n",
       "            color:  #000000;\n",
       "        }    #T_3924dea6_efec_11e9_895e_e54de9a20fefrow7_col12 {\n",
       "            background-color:  #e0dded;\n",
       "            color:  #000000;\n",
       "        }    #T_3924dea6_efec_11e9_895e_e54de9a20fefrow7_col13 {\n",
       "            background-color:  #c5cce3;\n",
       "            color:  #000000;\n",
       "        }    #T_3924dea6_efec_11e9_895e_e54de9a20fefrow8_col0 {\n",
       "            background-color:  #fdf5fa;\n",
       "            color:  #000000;\n",
       "        }    #T_3924dea6_efec_11e9_895e_e54de9a20fefrow8_col1 {\n",
       "            background-color:  #fff7fb;\n",
       "            color:  #000000;\n",
       "        }    #T_3924dea6_efec_11e9_895e_e54de9a20fefrow8_col2 {\n",
       "            background-color:  #fbf4f9;\n",
       "            color:  #000000;\n",
       "        }    #T_3924dea6_efec_11e9_895e_e54de9a20fefrow8_col3 {\n",
       "            background-color:  #fff7fb;\n",
       "            color:  #000000;\n",
       "        }    #T_3924dea6_efec_11e9_895e_e54de9a20fefrow8_col4 {\n",
       "            background-color:  #fdf5fa;\n",
       "            color:  #000000;\n",
       "        }    #T_3924dea6_efec_11e9_895e_e54de9a20fefrow8_col5 {\n",
       "            background-color:  #e9e5f1;\n",
       "            color:  #000000;\n",
       "        }    #T_3924dea6_efec_11e9_895e_e54de9a20fefrow8_col6 {\n",
       "            background-color:  #fef6fa;\n",
       "            color:  #000000;\n",
       "        }    #T_3924dea6_efec_11e9_895e_e54de9a20fefrow8_col7 {\n",
       "            background-color:  #fff7fb;\n",
       "            color:  #000000;\n",
       "        }    #T_3924dea6_efec_11e9_895e_e54de9a20fefrow8_col8 {\n",
       "            background-color:  #023858;\n",
       "            color:  #f1f1f1;\n",
       "        }    #T_3924dea6_efec_11e9_895e_e54de9a20fefrow8_col9 {\n",
       "            background-color:  #fdf5fa;\n",
       "            color:  #000000;\n",
       "        }    #T_3924dea6_efec_11e9_895e_e54de9a20fefrow8_col10 {\n",
       "            background-color:  #ebe6f2;\n",
       "            color:  #000000;\n",
       "        }    #T_3924dea6_efec_11e9_895e_e54de9a20fefrow8_col11 {\n",
       "            background-color:  #f4eef6;\n",
       "            color:  #000000;\n",
       "        }    #T_3924dea6_efec_11e9_895e_e54de9a20fefrow8_col12 {\n",
       "            background-color:  #eee9f3;\n",
       "            color:  #000000;\n",
       "        }    #T_3924dea6_efec_11e9_895e_e54de9a20fefrow8_col13 {\n",
       "            background-color:  #f8f1f8;\n",
       "            color:  #000000;\n",
       "        }    #T_3924dea6_efec_11e9_895e_e54de9a20fefrow9_col0 {\n",
       "            background-color:  #fbf3f9;\n",
       "            color:  #000000;\n",
       "        }    #T_3924dea6_efec_11e9_895e_e54de9a20fefrow9_col1 {\n",
       "            background-color:  #f5eff6;\n",
       "            color:  #000000;\n",
       "        }    #T_3924dea6_efec_11e9_895e_e54de9a20fefrow9_col2 {\n",
       "            background-color:  #fdf5fa;\n",
       "            color:  #000000;\n",
       "        }    #T_3924dea6_efec_11e9_895e_e54de9a20fefrow9_col3 {\n",
       "            background-color:  #e0deed;\n",
       "            color:  #000000;\n",
       "        }    #T_3924dea6_efec_11e9_895e_e54de9a20fefrow9_col4 {\n",
       "            background-color:  #fef6fa;\n",
       "            color:  #000000;\n",
       "        }    #T_3924dea6_efec_11e9_895e_e54de9a20fefrow9_col5 {\n",
       "            background-color:  #eee8f3;\n",
       "            color:  #000000;\n",
       "        }    #T_3924dea6_efec_11e9_895e_e54de9a20fefrow9_col6 {\n",
       "            background-color:  #fdf5fa;\n",
       "            color:  #000000;\n",
       "        }    #T_3924dea6_efec_11e9_895e_e54de9a20fefrow9_col7 {\n",
       "            background-color:  #a2bcda;\n",
       "            color:  #000000;\n",
       "        }    #T_3924dea6_efec_11e9_895e_e54de9a20fefrow9_col8 {\n",
       "            background-color:  #abbfdc;\n",
       "            color:  #000000;\n",
       "        }    #T_3924dea6_efec_11e9_895e_e54de9a20fefrow9_col9 {\n",
       "            background-color:  #023858;\n",
       "            color:  #f1f1f1;\n",
       "        }    #T_3924dea6_efec_11e9_895e_e54de9a20fefrow9_col10 {\n",
       "            background-color:  #e9e5f1;\n",
       "            color:  #000000;\n",
       "        }    #T_3924dea6_efec_11e9_895e_e54de9a20fefrow9_col11 {\n",
       "            background-color:  #f0eaf4;\n",
       "            color:  #000000;\n",
       "        }    #T_3924dea6_efec_11e9_895e_e54de9a20fefrow9_col12 {\n",
       "            background-color:  #e1dfed;\n",
       "            color:  #000000;\n",
       "        }    #T_3924dea6_efec_11e9_895e_e54de9a20fefrow9_col13 {\n",
       "            background-color:  #d5d5e8;\n",
       "            color:  #000000;\n",
       "        }    #T_3924dea6_efec_11e9_895e_e54de9a20fefrow10_col0 {\n",
       "            background-color:  #fdf5fa;\n",
       "            color:  #000000;\n",
       "        }    #T_3924dea6_efec_11e9_895e_e54de9a20fefrow10_col1 {\n",
       "            background-color:  #efe9f3;\n",
       "            color:  #000000;\n",
       "        }    #T_3924dea6_efec_11e9_895e_e54de9a20fefrow10_col2 {\n",
       "            background-color:  #fdf5fa;\n",
       "            color:  #000000;\n",
       "        }    #T_3924dea6_efec_11e9_895e_e54de9a20fefrow10_col3 {\n",
       "            background-color:  #7dacd1;\n",
       "            color:  #000000;\n",
       "        }    #T_3924dea6_efec_11e9_895e_e54de9a20fefrow10_col4 {\n",
       "            background-color:  #fef6fa;\n",
       "            color:  #000000;\n",
       "        }    #T_3924dea6_efec_11e9_895e_e54de9a20fefrow10_col5 {\n",
       "            background-color:  #eee8f3;\n",
       "            color:  #000000;\n",
       "        }    #T_3924dea6_efec_11e9_895e_e54de9a20fefrow10_col6 {\n",
       "            background-color:  #fff7fb;\n",
       "            color:  #000000;\n",
       "        }    #T_3924dea6_efec_11e9_895e_e54de9a20fefrow10_col7 {\n",
       "            background-color:  #a1bbda;\n",
       "            color:  #000000;\n",
       "        }    #T_3924dea6_efec_11e9_895e_e54de9a20fefrow10_col8 {\n",
       "            background-color:  #acc0dd;\n",
       "            color:  #000000;\n",
       "        }    #T_3924dea6_efec_11e9_895e_e54de9a20fefrow10_col9 {\n",
       "            background-color:  #fdf5fa;\n",
       "            color:  #000000;\n",
       "        }    #T_3924dea6_efec_11e9_895e_e54de9a20fefrow10_col10 {\n",
       "            background-color:  #023858;\n",
       "            color:  #f1f1f1;\n",
       "        }    #T_3924dea6_efec_11e9_895e_e54de9a20fefrow10_col11 {\n",
       "            background-color:  #fff7fb;\n",
       "            color:  #000000;\n",
       "        }    #T_3924dea6_efec_11e9_895e_e54de9a20fefrow10_col12 {\n",
       "            background-color:  #fff7fb;\n",
       "            color:  #000000;\n",
       "        }    #T_3924dea6_efec_11e9_895e_e54de9a20fefrow10_col13 {\n",
       "            background-color:  #c1cae2;\n",
       "            color:  #000000;\n",
       "        }    #T_3924dea6_efec_11e9_895e_e54de9a20fefrow11_col0 {\n",
       "            background-color:  #fbf3f9;\n",
       "            color:  #000000;\n",
       "        }    #T_3924dea6_efec_11e9_895e_e54de9a20fefrow11_col1 {\n",
       "            background-color:  #f2ecf5;\n",
       "            color:  #000000;\n",
       "        }    #T_3924dea6_efec_11e9_895e_e54de9a20fefrow11_col2 {\n",
       "            background-color:  #faf3f9;\n",
       "            color:  #000000;\n",
       "        }    #T_3924dea6_efec_11e9_895e_e54de9a20fefrow11_col3 {\n",
       "            background-color:  #dad9ea;\n",
       "            color:  #000000;\n",
       "        }    #T_3924dea6_efec_11e9_895e_e54de9a20fefrow11_col4 {\n",
       "            background-color:  #fef6fa;\n",
       "            color:  #000000;\n",
       "        }    #T_3924dea6_efec_11e9_895e_e54de9a20fefrow11_col5 {\n",
       "            background-color:  #ebe6f2;\n",
       "            color:  #000000;\n",
       "        }    #T_3924dea6_efec_11e9_895e_e54de9a20fefrow11_col6 {\n",
       "            background-color:  #fdf5fa;\n",
       "            color:  #000000;\n",
       "        }    #T_3924dea6_efec_11e9_895e_e54de9a20fefrow11_col7 {\n",
       "            background-color:  #a2bcda;\n",
       "            color:  #000000;\n",
       "        }    #T_3924dea6_efec_11e9_895e_e54de9a20fefrow11_col8 {\n",
       "            background-color:  #a9bfdc;\n",
       "            color:  #000000;\n",
       "        }    #T_3924dea6_efec_11e9_895e_e54de9a20fefrow11_col9 {\n",
       "            background-color:  #f8f1f8;\n",
       "            color:  #000000;\n",
       "        }    #T_3924dea6_efec_11e9_895e_e54de9a20fefrow11_col10 {\n",
       "            background-color:  #f4edf6;\n",
       "            color:  #000000;\n",
       "        }    #T_3924dea6_efec_11e9_895e_e54de9a20fefrow11_col11 {\n",
       "            background-color:  #023858;\n",
       "            color:  #f1f1f1;\n",
       "        }    #T_3924dea6_efec_11e9_895e_e54de9a20fefrow11_col12 {\n",
       "            background-color:  #eae6f1;\n",
       "            color:  #000000;\n",
       "        }    #T_3924dea6_efec_11e9_895e_e54de9a20fefrow11_col13 {\n",
       "            background-color:  #cacee5;\n",
       "            color:  #000000;\n",
       "        }    #T_3924dea6_efec_11e9_895e_e54de9a20fefrow12_col0 {\n",
       "            background-color:  #fcf4fa;\n",
       "            color:  #000000;\n",
       "        }    #T_3924dea6_efec_11e9_895e_e54de9a20fefrow12_col1 {\n",
       "            background-color:  #f0eaf4;\n",
       "            color:  #000000;\n",
       "        }    #T_3924dea6_efec_11e9_895e_e54de9a20fefrow12_col2 {\n",
       "            background-color:  #fbf4f9;\n",
       "            color:  #000000;\n",
       "        }    #T_3924dea6_efec_11e9_895e_e54de9a20fefrow12_col3 {\n",
       "            background-color:  #dfddec;\n",
       "            color:  #000000;\n",
       "        }    #T_3924dea6_efec_11e9_895e_e54de9a20fefrow12_col4 {\n",
       "            background-color:  #fdf5fa;\n",
       "            color:  #000000;\n",
       "        }    #T_3924dea6_efec_11e9_895e_e54de9a20fefrow12_col5 {\n",
       "            background-color:  #efe9f3;\n",
       "            color:  #000000;\n",
       "        }    #T_3924dea6_efec_11e9_895e_e54de9a20fefrow12_col6 {\n",
       "            background-color:  #fcf4fa;\n",
       "            color:  #000000;\n",
       "        }    #T_3924dea6_efec_11e9_895e_e54de9a20fefrow12_col7 {\n",
       "            background-color:  #9fbad9;\n",
       "            color:  #000000;\n",
       "        }    #T_3924dea6_efec_11e9_895e_e54de9a20fefrow12_col8 {\n",
       "            background-color:  #b0c2de;\n",
       "            color:  #000000;\n",
       "        }    #T_3924dea6_efec_11e9_895e_e54de9a20fefrow12_col9 {\n",
       "            background-color:  #f7f0f7;\n",
       "            color:  #000000;\n",
       "        }    #T_3924dea6_efec_11e9_895e_e54de9a20fefrow12_col10 {\n",
       "            background-color:  #fff7fb;\n",
       "            color:  #000000;\n",
       "        }    #T_3924dea6_efec_11e9_895e_e54de9a20fefrow12_col11 {\n",
       "            background-color:  #f6eff7;\n",
       "            color:  #000000;\n",
       "        }    #T_3924dea6_efec_11e9_895e_e54de9a20fefrow12_col12 {\n",
       "            background-color:  #023858;\n",
       "            color:  #f1f1f1;\n",
       "        }    #T_3924dea6_efec_11e9_895e_e54de9a20fefrow12_col13 {\n",
       "            background-color:  #acc0dd;\n",
       "            color:  #000000;\n",
       "        }    #T_3924dea6_efec_11e9_895e_e54de9a20fefrow13_col0 {\n",
       "            background-color:  #fff7fb;\n",
       "            color:  #000000;\n",
       "        }    #T_3924dea6_efec_11e9_895e_e54de9a20fefrow13_col1 {\n",
       "            background-color:  #bcc7e1;\n",
       "            color:  #000000;\n",
       "        }    #T_3924dea6_efec_11e9_895e_e54de9a20fefrow13_col2 {\n",
       "            background-color:  #fdf5fa;\n",
       "            color:  #000000;\n",
       "        }    #T_3924dea6_efec_11e9_895e_e54de9a20fefrow13_col3 {\n",
       "            background-color:  #c5cce3;\n",
       "            color:  #000000;\n",
       "        }    #T_3924dea6_efec_11e9_895e_e54de9a20fefrow13_col4 {\n",
       "            background-color:  #fef6fb;\n",
       "            color:  #000000;\n",
       "        }    #T_3924dea6_efec_11e9_895e_e54de9a20fefrow13_col5 {\n",
       "            background-color:  #fff7fb;\n",
       "            color:  #000000;\n",
       "        }    #T_3924dea6_efec_11e9_895e_e54de9a20fefrow13_col6 {\n",
       "            background-color:  #fcf4fa;\n",
       "            color:  #000000;\n",
       "        }    #T_3924dea6_efec_11e9_895e_e54de9a20fefrow13_col7 {\n",
       "            background-color:  #7dacd1;\n",
       "            color:  #000000;\n",
       "        }    #T_3924dea6_efec_11e9_895e_e54de9a20fefrow13_col8 {\n",
       "            background-color:  #bfc9e1;\n",
       "            color:  #000000;\n",
       "        }    #T_3924dea6_efec_11e9_895e_e54de9a20fefrow13_col9 {\n",
       "            background-color:  #ece7f2;\n",
       "            color:  #000000;\n",
       "        }    #T_3924dea6_efec_11e9_895e_e54de9a20fefrow13_col10 {\n",
       "            background-color:  #bfc9e1;\n",
       "            color:  #000000;\n",
       "        }    #T_3924dea6_efec_11e9_895e_e54de9a20fefrow13_col11 {\n",
       "            background-color:  #d8d7e9;\n",
       "            color:  #000000;\n",
       "        }    #T_3924dea6_efec_11e9_895e_e54de9a20fefrow13_col12 {\n",
       "            background-color:  #abbfdc;\n",
       "            color:  #000000;\n",
       "        }    #T_3924dea6_efec_11e9_895e_e54de9a20fefrow13_col13 {\n",
       "            background-color:  #023858;\n",
       "            color:  #f1f1f1;\n",
       "        }</style><table id=\"T_3924dea6_efec_11e9_895e_e54de9a20fef\" ><thead>    <tr>        <th class=\"blank level0\" ></th>        <th class=\"col_heading level0 col0\" >CreditScore</th>        <th class=\"col_heading level0 col1\" >Age</th>        <th class=\"col_heading level0 col2\" >Tenure</th>        <th class=\"col_heading level0 col3\" >Balance</th>        <th class=\"col_heading level0 col4\" >HasCrCard</th>        <th class=\"col_heading level0 col5\" >IsActiveMember</th>        <th class=\"col_heading level0 col6\" >EstimatedSalary</th>        <th class=\"col_heading level0 col7\" >Geography_Germany</th>        <th class=\"col_heading level0 col8\" >Geography_France</th>        <th class=\"col_heading level0 col9\" >Gender_Female</th>        <th class=\"col_heading level0 col10\" >NumOfProducts_1</th>        <th class=\"col_heading level0 col11\" >NumOfProducts_4</th>        <th class=\"col_heading level0 col12\" >NumOfProducts_3</th>        <th class=\"col_heading level0 col13\" >Exited</th>    </tr></thead><tbody>\n",
       "                <tr>\n",
       "                        <th id=\"T_3924dea6_efec_11e9_895e_e54de9a20feflevel0_row0\" class=\"row_heading level0 row0\" >CreditScore</th>\n",
       "                        <td id=\"T_3924dea6_efec_11e9_895e_e54de9a20fefrow0_col0\" class=\"data row0 col0\" >1</td>\n",
       "                        <td id=\"T_3924dea6_efec_11e9_895e_e54de9a20fefrow0_col1\" class=\"data row0 col1\" >-0.00396491</td>\n",
       "                        <td id=\"T_3924dea6_efec_11e9_895e_e54de9a20fefrow0_col2\" class=\"data row0 col2\" >0.000841942</td>\n",
       "                        <td id=\"T_3924dea6_efec_11e9_895e_e54de9a20fefrow0_col3\" class=\"data row0 col3\" >0.00626838</td>\n",
       "                        <td id=\"T_3924dea6_efec_11e9_895e_e54de9a20fefrow0_col4\" class=\"data row0 col4\" >-0.00545848</td>\n",
       "                        <td id=\"T_3924dea6_efec_11e9_895e_e54de9a20fefrow0_col5\" class=\"data row0 col5\" >0.0256513</td>\n",
       "                        <td id=\"T_3924dea6_efec_11e9_895e_e54de9a20fefrow0_col6\" class=\"data row0 col6\" >-0.00138429</td>\n",
       "                        <td id=\"T_3924dea6_efec_11e9_895e_e54de9a20fefrow0_col7\" class=\"data row0 col7\" >0.00553755</td>\n",
       "                        <td id=\"T_3924dea6_efec_11e9_895e_e54de9a20fefrow0_col8\" class=\"data row0 col8\" >-0.00892807</td>\n",
       "                        <td id=\"T_3924dea6_efec_11e9_895e_e54de9a20fefrow0_col9\" class=\"data row0 col9\" >0.00285662</td>\n",
       "                        <td id=\"T_3924dea6_efec_11e9_895e_e54de9a20fefrow0_col10\" class=\"data row0 col10\" >-0.0148133</td>\n",
       "                        <td id=\"T_3924dea6_efec_11e9_895e_e54de9a20fefrow0_col11\" class=\"data row0 col11\" >0.00245546</td>\n",
       "                        <td id=\"T_3924dea6_efec_11e9_895e_e54de9a20fefrow0_col12\" class=\"data row0 col12\" >-0.00414524</td>\n",
       "                        <td id=\"T_3924dea6_efec_11e9_895e_e54de9a20fefrow0_col13\" class=\"data row0 col13\" >-0.0270935</td>\n",
       "            </tr>\n",
       "            <tr>\n",
       "                        <th id=\"T_3924dea6_efec_11e9_895e_e54de9a20feflevel0_row1\" class=\"row_heading level0 row1\" >Age</th>\n",
       "                        <td id=\"T_3924dea6_efec_11e9_895e_e54de9a20fefrow1_col0\" class=\"data row1 col0\" >-0.00396491</td>\n",
       "                        <td id=\"T_3924dea6_efec_11e9_895e_e54de9a20fefrow1_col1\" class=\"data row1 col1\" >1</td>\n",
       "                        <td id=\"T_3924dea6_efec_11e9_895e_e54de9a20fefrow1_col2\" class=\"data row1 col2\" >-0.00999683</td>\n",
       "                        <td id=\"T_3924dea6_efec_11e9_895e_e54de9a20fefrow1_col3\" class=\"data row1 col3\" >0.0283084</td>\n",
       "                        <td id=\"T_3924dea6_efec_11e9_895e_e54de9a20fefrow1_col4\" class=\"data row1 col4\" >-0.011721</td>\n",
       "                        <td id=\"T_3924dea6_efec_11e9_895e_e54de9a20fefrow1_col5\" class=\"data row1 col5\" >0.0854721</td>\n",
       "                        <td id=\"T_3924dea6_efec_11e9_895e_e54de9a20fefrow1_col6\" class=\"data row1 col6\" >-0.00720104</td>\n",
       "                        <td id=\"T_3924dea6_efec_11e9_895e_e54de9a20fefrow1_col7\" class=\"data row1 col7\" >0.0468971</td>\n",
       "                        <td id=\"T_3924dea6_efec_11e9_895e_e54de9a20fefrow1_col8\" class=\"data row1 col8\" >-0.0392077</td>\n",
       "                        <td id=\"T_3924dea6_efec_11e9_895e_e54de9a20fefrow1_col9\" class=\"data row1 col9\" >0.027544</td>\n",
       "                        <td id=\"T_3924dea6_efec_11e9_895e_e54de9a20fefrow1_col10\" class=\"data row1 col10\" >0.0728522</td>\n",
       "                        <td id=\"T_3924dea6_efec_11e9_895e_e54de9a20fefrow1_col11\" class=\"data row1 col11\" >0.0500916</td>\n",
       "                        <td id=\"T_3924dea6_efec_11e9_895e_e54de9a20fefrow1_col12\" class=\"data row1 col12\" >0.0673651</td>\n",
       "                        <td id=\"T_3924dea6_efec_11e9_895e_e54de9a20fefrow1_col13\" class=\"data row1 col13\" >0.285323</td>\n",
       "            </tr>\n",
       "            <tr>\n",
       "                        <th id=\"T_3924dea6_efec_11e9_895e_e54de9a20feflevel0_row2\" class=\"row_heading level0 row2\" >Tenure</th>\n",
       "                        <td id=\"T_3924dea6_efec_11e9_895e_e54de9a20fefrow2_col0\" class=\"data row2 col0\" >0.000841942</td>\n",
       "                        <td id=\"T_3924dea6_efec_11e9_895e_e54de9a20fefrow2_col1\" class=\"data row2 col1\" >-0.00999683</td>\n",
       "                        <td id=\"T_3924dea6_efec_11e9_895e_e54de9a20fefrow2_col2\" class=\"data row2 col2\" >1</td>\n",
       "                        <td id=\"T_3924dea6_efec_11e9_895e_e54de9a20fefrow2_col3\" class=\"data row2 col3\" >-0.0122539</td>\n",
       "                        <td id=\"T_3924dea6_efec_11e9_895e_e54de9a20fefrow2_col4\" class=\"data row2 col4\" >0.0225829</td>\n",
       "                        <td id=\"T_3924dea6_efec_11e9_895e_e54de9a20fefrow2_col5\" class=\"data row2 col5\" >-0.0283621</td>\n",
       "                        <td id=\"T_3924dea6_efec_11e9_895e_e54de9a20fefrow2_col6\" class=\"data row2 col6\" >0.00778383</td>\n",
       "                        <td id=\"T_3924dea6_efec_11e9_895e_e54de9a20fefrow2_col7\" class=\"data row2 col7\" >-0.000567498</td>\n",
       "                        <td id=\"T_3924dea6_efec_11e9_895e_e54de9a20fefrow2_col8\" class=\"data row2 col8\" >-0.00284778</td>\n",
       "                        <td id=\"T_3924dea6_efec_11e9_895e_e54de9a20fefrow2_col9\" class=\"data row2 col9\" >-0.0147331</td>\n",
       "                        <td id=\"T_3924dea6_efec_11e9_895e_e54de9a20fefrow2_col10\" class=\"data row2 col10\" >-0.0134233</td>\n",
       "                        <td id=\"T_3924dea6_efec_11e9_895e_e54de9a20fefrow2_col11\" class=\"data row2 col11\" >0.0077155</td>\n",
       "                        <td id=\"T_3924dea6_efec_11e9_895e_e54de9a20fefrow2_col12\" class=\"data row2 col12\" >-0.000516761</td>\n",
       "                        <td id=\"T_3924dea6_efec_11e9_895e_e54de9a20fefrow2_col13\" class=\"data row2 col13\" >-0.0140006</td>\n",
       "            </tr>\n",
       "            <tr>\n",
       "                        <th id=\"T_3924dea6_efec_11e9_895e_e54de9a20feflevel0_row3\" class=\"row_heading level0 row3\" >Balance</th>\n",
       "                        <td id=\"T_3924dea6_efec_11e9_895e_e54de9a20fefrow3_col0\" class=\"data row3 col0\" >0.00626838</td>\n",
       "                        <td id=\"T_3924dea6_efec_11e9_895e_e54de9a20fefrow3_col1\" class=\"data row3 col1\" >0.0283084</td>\n",
       "                        <td id=\"T_3924dea6_efec_11e9_895e_e54de9a20fefrow3_col2\" class=\"data row3 col2\" >-0.0122539</td>\n",
       "                        <td id=\"T_3924dea6_efec_11e9_895e_e54de9a20fefrow3_col3\" class=\"data row3 col3\" >1</td>\n",
       "                        <td id=\"T_3924dea6_efec_11e9_895e_e54de9a20fefrow3_col4\" class=\"data row3 col4\" >-0.0148583</td>\n",
       "                        <td id=\"T_3924dea6_efec_11e9_895e_e54de9a20fefrow3_col5\" class=\"data row3 col5\" >-0.0100841</td>\n",
       "                        <td id=\"T_3924dea6_efec_11e9_895e_e54de9a20fefrow3_col6\" class=\"data row3 col6\" >0.0127975</td>\n",
       "                        <td id=\"T_3924dea6_efec_11e9_895e_e54de9a20fefrow3_col7\" class=\"data row3 col7\" >0.40111</td>\n",
       "                        <td id=\"T_3924dea6_efec_11e9_895e_e54de9a20fefrow3_col8\" class=\"data row3 col8\" >-0.231329</td>\n",
       "                        <td id=\"T_3924dea6_efec_11e9_895e_e54de9a20fefrow3_col9\" class=\"data row3 col9\" >-0.0120866</td>\n",
       "                        <td id=\"T_3924dea6_efec_11e9_895e_e54de9a20fefrow3_col10\" class=\"data row3 col10\" >0.359646</td>\n",
       "                        <td id=\"T_3924dea6_efec_11e9_895e_e54de9a20fefrow3_col11\" class=\"data row3 col11\" >0.0214762</td>\n",
       "                        <td id=\"T_3924dea6_efec_11e9_895e_e54de9a20fefrow3_col12\" class=\"data row3 col12\" >-0.00272244</td>\n",
       "                        <td id=\"T_3924dea6_efec_11e9_895e_e54de9a20fefrow3_col13\" class=\"data row3 col13\" >0.118533</td>\n",
       "            </tr>\n",
       "            <tr>\n",
       "                        <th id=\"T_3924dea6_efec_11e9_895e_e54de9a20feflevel0_row4\" class=\"row_heading level0 row4\" >HasCrCard</th>\n",
       "                        <td id=\"T_3924dea6_efec_11e9_895e_e54de9a20fefrow4_col0\" class=\"data row4 col0\" >-0.00545848</td>\n",
       "                        <td id=\"T_3924dea6_efec_11e9_895e_e54de9a20fefrow4_col1\" class=\"data row4 col1\" >-0.011721</td>\n",
       "                        <td id=\"T_3924dea6_efec_11e9_895e_e54de9a20fefrow4_col2\" class=\"data row4 col2\" >0.0225829</td>\n",
       "                        <td id=\"T_3924dea6_efec_11e9_895e_e54de9a20fefrow4_col3\" class=\"data row4 col3\" >-0.0148583</td>\n",
       "                        <td id=\"T_3924dea6_efec_11e9_895e_e54de9a20fefrow4_col4\" class=\"data row4 col4\" >1</td>\n",
       "                        <td id=\"T_3924dea6_efec_11e9_895e_e54de9a20fefrow4_col5\" class=\"data row4 col5\" >-0.0118656</td>\n",
       "                        <td id=\"T_3924dea6_efec_11e9_895e_e54de9a20fefrow4_col6\" class=\"data row4 col6\" >-0.00993341</td>\n",
       "                        <td id=\"T_3924dea6_efec_11e9_895e_e54de9a20fefrow4_col7\" class=\"data row4 col7\" >0.0105766</td>\n",
       "                        <td id=\"T_3924dea6_efec_11e9_895e_e54de9a20fefrow4_col8\" class=\"data row4 col8\" >0.00246722</td>\n",
       "                        <td id=\"T_3924dea6_efec_11e9_895e_e54de9a20fefrow4_col9\" class=\"data row4 col9\" >-0.00576612</td>\n",
       "                        <td id=\"T_3924dea6_efec_11e9_895e_e54de9a20fefrow4_col10\" class=\"data row4 col10\" >-0.00384506</td>\n",
       "                        <td id=\"T_3924dea6_efec_11e9_895e_e54de9a20fefrow4_col11\" class=\"data row4 col11\" >-0.00377826</td>\n",
       "                        <td id=\"T_3924dea6_efec_11e9_895e_e54de9a20fefrow4_col12\" class=\"data row4 col12\" >0.00318626</td>\n",
       "                        <td id=\"T_3924dea6_efec_11e9_895e_e54de9a20fefrow4_col13\" class=\"data row4 col13\" >-0.00713777</td>\n",
       "            </tr>\n",
       "            <tr>\n",
       "                        <th id=\"T_3924dea6_efec_11e9_895e_e54de9a20feflevel0_row5\" class=\"row_heading level0 row5\" >IsActiveMember</th>\n",
       "                        <td id=\"T_3924dea6_efec_11e9_895e_e54de9a20fefrow5_col0\" class=\"data row5 col0\" >0.0256513</td>\n",
       "                        <td id=\"T_3924dea6_efec_11e9_895e_e54de9a20fefrow5_col1\" class=\"data row5 col1\" >0.0854721</td>\n",
       "                        <td id=\"T_3924dea6_efec_11e9_895e_e54de9a20fefrow5_col2\" class=\"data row5 col2\" >-0.0283621</td>\n",
       "                        <td id=\"T_3924dea6_efec_11e9_895e_e54de9a20fefrow5_col3\" class=\"data row5 col3\" >-0.0100841</td>\n",
       "                        <td id=\"T_3924dea6_efec_11e9_895e_e54de9a20fefrow5_col4\" class=\"data row5 col4\" >-0.0118656</td>\n",
       "                        <td id=\"T_3924dea6_efec_11e9_895e_e54de9a20fefrow5_col5\" class=\"data row5 col5\" >1</td>\n",
       "                        <td id=\"T_3924dea6_efec_11e9_895e_e54de9a20fefrow5_col6\" class=\"data row5 col6\" >-0.0114214</td>\n",
       "                        <td id=\"T_3924dea6_efec_11e9_895e_e54de9a20fefrow5_col7\" class=\"data row5 col7\" >-0.0204858</td>\n",
       "                        <td id=\"T_3924dea6_efec_11e9_895e_e54de9a20fefrow5_col8\" class=\"data row5 col8\" >0.00331697</td>\n",
       "                        <td id=\"T_3924dea6_efec_11e9_895e_e54de9a20fefrow5_col9\" class=\"data row5 col9\" >-0.0225443</td>\n",
       "                        <td id=\"T_3924dea6_efec_11e9_895e_e54de9a20fefrow5_col10\" class=\"data row5 col10\" >-0.0223207</td>\n",
       "                        <td id=\"T_3924dea6_efec_11e9_895e_e54de9a20fefrow5_col11\" class=\"data row5 col11\" >-0.00493835</td>\n",
       "                        <td id=\"T_3924dea6_efec_11e9_895e_e54de9a20fefrow5_col12\" class=\"data row5 col12\" >-0.0298644</td>\n",
       "                        <td id=\"T_3924dea6_efec_11e9_895e_e54de9a20fefrow5_col13\" class=\"data row5 col13\" >-0.156128</td>\n",
       "            </tr>\n",
       "            <tr>\n",
       "                        <th id=\"T_3924dea6_efec_11e9_895e_e54de9a20feflevel0_row6\" class=\"row_heading level0 row6\" >EstimatedSalary</th>\n",
       "                        <td id=\"T_3924dea6_efec_11e9_895e_e54de9a20fefrow6_col0\" class=\"data row6 col0\" >-0.00138429</td>\n",
       "                        <td id=\"T_3924dea6_efec_11e9_895e_e54de9a20fefrow6_col1\" class=\"data row6 col1\" >-0.00720104</td>\n",
       "                        <td id=\"T_3924dea6_efec_11e9_895e_e54de9a20fefrow6_col2\" class=\"data row6 col2\" >0.00778383</td>\n",
       "                        <td id=\"T_3924dea6_efec_11e9_895e_e54de9a20fefrow6_col3\" class=\"data row6 col3\" >0.0127975</td>\n",
       "                        <td id=\"T_3924dea6_efec_11e9_895e_e54de9a20fefrow6_col4\" class=\"data row6 col4\" >-0.00993341</td>\n",
       "                        <td id=\"T_3924dea6_efec_11e9_895e_e54de9a20fefrow6_col5\" class=\"data row6 col5\" >-0.0114214</td>\n",
       "                        <td id=\"T_3924dea6_efec_11e9_895e_e54de9a20fefrow6_col6\" class=\"data row6 col6\" >1</td>\n",
       "                        <td id=\"T_3924dea6_efec_11e9_895e_e54de9a20fefrow6_col7\" class=\"data row6 col7\" >0.0102971</td>\n",
       "                        <td id=\"T_3924dea6_efec_11e9_895e_e54de9a20fefrow6_col8\" class=\"data row6 col8\" >-0.00333164</td>\n",
       "                        <td id=\"T_3924dea6_efec_11e9_895e_e54de9a20fefrow6_col9\" class=\"data row6 col9\" >0.00811234</td>\n",
       "                        <td id=\"T_3924dea6_efec_11e9_895e_e54de9a20fefrow6_col10\" class=\"data row6 col10\" >-0.0106629</td>\n",
       "                        <td id=\"T_3924dea6_efec_11e9_895e_e54de9a20fefrow6_col11\" class=\"data row6 col11\" >0.0063139</td>\n",
       "                        <td id=\"T_3924dea6_efec_11e9_895e_e54de9a20fefrow6_col12\" class=\"data row6 col12\" >0.0121533</td>\n",
       "                        <td id=\"T_3924dea6_efec_11e9_895e_e54de9a20fefrow6_col13\" class=\"data row6 col13\" >0.0120969</td>\n",
       "            </tr>\n",
       "            <tr>\n",
       "                        <th id=\"T_3924dea6_efec_11e9_895e_e54de9a20feflevel0_row7\" class=\"row_heading level0 row7\" >Geography_Germany</th>\n",
       "                        <td id=\"T_3924dea6_efec_11e9_895e_e54de9a20fefrow7_col0\" class=\"data row7 col0\" >0.00553755</td>\n",
       "                        <td id=\"T_3924dea6_efec_11e9_895e_e54de9a20fefrow7_col1\" class=\"data row7 col1\" >0.0468971</td>\n",
       "                        <td id=\"T_3924dea6_efec_11e9_895e_e54de9a20fefrow7_col2\" class=\"data row7 col2\" >-0.000567498</td>\n",
       "                        <td id=\"T_3924dea6_efec_11e9_895e_e54de9a20fefrow7_col3\" class=\"data row7 col3\" >0.40111</td>\n",
       "                        <td id=\"T_3924dea6_efec_11e9_895e_e54de9a20fefrow7_col4\" class=\"data row7 col4\" >0.0105766</td>\n",
       "                        <td id=\"T_3924dea6_efec_11e9_895e_e54de9a20fefrow7_col5\" class=\"data row7 col5\" >-0.0204858</td>\n",
       "                        <td id=\"T_3924dea6_efec_11e9_895e_e54de9a20fefrow7_col6\" class=\"data row7 col6\" >0.0102971</td>\n",
       "                        <td id=\"T_3924dea6_efec_11e9_895e_e54de9a20fefrow7_col7\" class=\"data row7 col7\" >1</td>\n",
       "                        <td id=\"T_3924dea6_efec_11e9_895e_e54de9a20fefrow7_col8\" class=\"data row7 col8\" >-0.580359</td>\n",
       "                        <td id=\"T_3924dea6_efec_11e9_895e_e54de9a20fefrow7_col9\" class=\"data row7 col9\" >0.0246279</td>\n",
       "                        <td id=\"T_3924dea6_efec_11e9_895e_e54de9a20fefrow7_col10\" class=\"data row7 col10\" >0.0338775</td>\n",
       "                        <td id=\"T_3924dea6_efec_11e9_895e_e54de9a20fefrow7_col11\" class=\"data row7 col11\" >0.0267202</td>\n",
       "                        <td id=\"T_3924dea6_efec_11e9_895e_e54de9a20fefrow7_col12\" class=\"data row7 col12\" >0.0419446</td>\n",
       "                        <td id=\"T_3924dea6_efec_11e9_895e_e54de9a20fefrow7_col13\" class=\"data row7 col13\" >0.173488</td>\n",
       "            </tr>\n",
       "            <tr>\n",
       "                        <th id=\"T_3924dea6_efec_11e9_895e_e54de9a20feflevel0_row8\" class=\"row_heading level0 row8\" >Geography_France</th>\n",
       "                        <td id=\"T_3924dea6_efec_11e9_895e_e54de9a20fefrow8_col0\" class=\"data row8 col0\" >-0.00892807</td>\n",
       "                        <td id=\"T_3924dea6_efec_11e9_895e_e54de9a20fefrow8_col1\" class=\"data row8 col1\" >-0.0392077</td>\n",
       "                        <td id=\"T_3924dea6_efec_11e9_895e_e54de9a20fefrow8_col2\" class=\"data row8 col2\" >-0.00284778</td>\n",
       "                        <td id=\"T_3924dea6_efec_11e9_895e_e54de9a20fefrow8_col3\" class=\"data row8 col3\" >-0.231329</td>\n",
       "                        <td id=\"T_3924dea6_efec_11e9_895e_e54de9a20fefrow8_col4\" class=\"data row8 col4\" >0.00246722</td>\n",
       "                        <td id=\"T_3924dea6_efec_11e9_895e_e54de9a20fefrow8_col5\" class=\"data row8 col5\" >0.00331697</td>\n",
       "                        <td id=\"T_3924dea6_efec_11e9_895e_e54de9a20fefrow8_col6\" class=\"data row8 col6\" >-0.00333164</td>\n",
       "                        <td id=\"T_3924dea6_efec_11e9_895e_e54de9a20fefrow8_col7\" class=\"data row8 col7\" >-0.580359</td>\n",
       "                        <td id=\"T_3924dea6_efec_11e9_895e_e54de9a20fefrow8_col8\" class=\"data row8 col8\" >1</td>\n",
       "                        <td id=\"T_3924dea6_efec_11e9_895e_e54de9a20fefrow8_col9\" class=\"data row8 col9\" >-0.00677245</td>\n",
       "                        <td id=\"T_3924dea6_efec_11e9_895e_e54de9a20fefrow8_col10\" class=\"data row8 col10\" >-0.0140491</td>\n",
       "                        <td id=\"T_3924dea6_efec_11e9_895e_e54de9a20fefrow8_col11\" class=\"data row8 col11\" >-0.00280732</td>\n",
       "                        <td id=\"T_3924dea6_efec_11e9_895e_e54de9a20fefrow8_col12\" class=\"data row8 col12\" >-0.0365077</td>\n",
       "                        <td id=\"T_3924dea6_efec_11e9_895e_e54de9a20fefrow8_col13\" class=\"data row8 col13\" >-0.104955</td>\n",
       "            </tr>\n",
       "            <tr>\n",
       "                        <th id=\"T_3924dea6_efec_11e9_895e_e54de9a20feflevel0_row9\" class=\"row_heading level0 row9\" >Gender_Female</th>\n",
       "                        <td id=\"T_3924dea6_efec_11e9_895e_e54de9a20fefrow9_col0\" class=\"data row9 col0\" >0.00285662</td>\n",
       "                        <td id=\"T_3924dea6_efec_11e9_895e_e54de9a20fefrow9_col1\" class=\"data row9 col1\" >0.027544</td>\n",
       "                        <td id=\"T_3924dea6_efec_11e9_895e_e54de9a20fefrow9_col2\" class=\"data row9 col2\" >-0.0147331</td>\n",
       "                        <td id=\"T_3924dea6_efec_11e9_895e_e54de9a20fefrow9_col3\" class=\"data row9 col3\" >-0.0120866</td>\n",
       "                        <td id=\"T_3924dea6_efec_11e9_895e_e54de9a20fefrow9_col4\" class=\"data row9 col4\" >-0.00576612</td>\n",
       "                        <td id=\"T_3924dea6_efec_11e9_895e_e54de9a20fefrow9_col5\" class=\"data row9 col5\" >-0.0225443</td>\n",
       "                        <td id=\"T_3924dea6_efec_11e9_895e_e54de9a20fefrow9_col6\" class=\"data row9 col6\" >0.00811234</td>\n",
       "                        <td id=\"T_3924dea6_efec_11e9_895e_e54de9a20fefrow9_col7\" class=\"data row9 col7\" >0.0246279</td>\n",
       "                        <td id=\"T_3924dea6_efec_11e9_895e_e54de9a20fefrow9_col8\" class=\"data row9 col8\" >-0.00677245</td>\n",
       "                        <td id=\"T_3924dea6_efec_11e9_895e_e54de9a20fefrow9_col9\" class=\"data row9 col9\" >1</td>\n",
       "                        <td id=\"T_3924dea6_efec_11e9_895e_e54de9a20fefrow9_col10\" class=\"data row9 col10\" >-0.00548822</td>\n",
       "                        <td id=\"T_3924dea6_efec_11e9_895e_e54de9a20fefrow9_col11\" class=\"data row9 col11\" >0.0279362</td>\n",
       "                        <td id=\"T_3924dea6_efec_11e9_895e_e54de9a20fefrow9_col12\" class=\"data row9 col12\" >0.035143</td>\n",
       "                        <td id=\"T_3924dea6_efec_11e9_895e_e54de9a20fefrow9_col13\" class=\"data row9 col13\" >0.106512</td>\n",
       "            </tr>\n",
       "            <tr>\n",
       "                        <th id=\"T_3924dea6_efec_11e9_895e_e54de9a20feflevel0_row10\" class=\"row_heading level0 row10\" >NumOfProducts_1</th>\n",
       "                        <td id=\"T_3924dea6_efec_11e9_895e_e54de9a20fefrow10_col0\" class=\"data row10 col0\" >-0.0148133</td>\n",
       "                        <td id=\"T_3924dea6_efec_11e9_895e_e54de9a20fefrow10_col1\" class=\"data row10 col1\" >0.0728522</td>\n",
       "                        <td id=\"T_3924dea6_efec_11e9_895e_e54de9a20fefrow10_col2\" class=\"data row10 col2\" >-0.0134233</td>\n",
       "                        <td id=\"T_3924dea6_efec_11e9_895e_e54de9a20fefrow10_col3\" class=\"data row10 col3\" >0.359646</td>\n",
       "                        <td id=\"T_3924dea6_efec_11e9_895e_e54de9a20fefrow10_col4\" class=\"data row10 col4\" >-0.00384506</td>\n",
       "                        <td id=\"T_3924dea6_efec_11e9_895e_e54de9a20fefrow10_col5\" class=\"data row10 col5\" >-0.0223207</td>\n",
       "                        <td id=\"T_3924dea6_efec_11e9_895e_e54de9a20fefrow10_col6\" class=\"data row10 col6\" >-0.0106629</td>\n",
       "                        <td id=\"T_3924dea6_efec_11e9_895e_e54de9a20fefrow10_col7\" class=\"data row10 col7\" >0.0338775</td>\n",
       "                        <td id=\"T_3924dea6_efec_11e9_895e_e54de9a20fefrow10_col8\" class=\"data row10 col8\" >-0.0140491</td>\n",
       "                        <td id=\"T_3924dea6_efec_11e9_895e_e54de9a20fefrow10_col9\" class=\"data row10 col9\" >-0.00548822</td>\n",
       "                        <td id=\"T_3924dea6_efec_11e9_895e_e54de9a20fefrow10_col10\" class=\"data row10 col10\" >1</td>\n",
       "                        <td id=\"T_3924dea6_efec_11e9_895e_e54de9a20fefrow10_col11\" class=\"data row10 col11\" >-0.0790095</td>\n",
       "                        <td id=\"T_3924dea6_efec_11e9_895e_e54de9a20fefrow10_col12\" class=\"data row10 col12\" >-0.168109</td>\n",
       "                        <td id=\"T_3924dea6_efec_11e9_895e_e54de9a20fefrow10_col13\" class=\"data row10 col13\" >0.185447</td>\n",
       "            </tr>\n",
       "            <tr>\n",
       "                        <th id=\"T_3924dea6_efec_11e9_895e_e54de9a20feflevel0_row11\" class=\"row_heading level0 row11\" >NumOfProducts_4</th>\n",
       "                        <td id=\"T_3924dea6_efec_11e9_895e_e54de9a20fefrow11_col0\" class=\"data row11 col0\" >0.00245546</td>\n",
       "                        <td id=\"T_3924dea6_efec_11e9_895e_e54de9a20fefrow11_col1\" class=\"data row11 col1\" >0.0500916</td>\n",
       "                        <td id=\"T_3924dea6_efec_11e9_895e_e54de9a20fefrow11_col2\" class=\"data row11 col2\" >0.0077155</td>\n",
       "                        <td id=\"T_3924dea6_efec_11e9_895e_e54de9a20fefrow11_col3\" class=\"data row11 col3\" >0.0214762</td>\n",
       "                        <td id=\"T_3924dea6_efec_11e9_895e_e54de9a20fefrow11_col4\" class=\"data row11 col4\" >-0.00377826</td>\n",
       "                        <td id=\"T_3924dea6_efec_11e9_895e_e54de9a20fefrow11_col5\" class=\"data row11 col5\" >-0.00493835</td>\n",
       "                        <td id=\"T_3924dea6_efec_11e9_895e_e54de9a20fefrow11_col6\" class=\"data row11 col6\" >0.0063139</td>\n",
       "                        <td id=\"T_3924dea6_efec_11e9_895e_e54de9a20fefrow11_col7\" class=\"data row11 col7\" >0.0267202</td>\n",
       "                        <td id=\"T_3924dea6_efec_11e9_895e_e54de9a20fefrow11_col8\" class=\"data row11 col8\" >-0.00280732</td>\n",
       "                        <td id=\"T_3924dea6_efec_11e9_895e_e54de9a20fefrow11_col9\" class=\"data row11 col9\" >0.0279362</td>\n",
       "                        <td id=\"T_3924dea6_efec_11e9_895e_e54de9a20fefrow11_col10\" class=\"data row11 col10\" >-0.0790095</td>\n",
       "                        <td id=\"T_3924dea6_efec_11e9_895e_e54de9a20fefrow11_col11\" class=\"data row11 col11\" >1</td>\n",
       "                        <td id=\"T_3924dea6_efec_11e9_895e_e54de9a20fefrow11_col12\" class=\"data row11 col12\" >-0.0128433</td>\n",
       "                        <td id=\"T_3924dea6_efec_11e9_895e_e54de9a20fefrow11_col13\" class=\"data row11 col13\" >0.153612</td>\n",
       "            </tr>\n",
       "            <tr>\n",
       "                        <th id=\"T_3924dea6_efec_11e9_895e_e54de9a20feflevel0_row12\" class=\"row_heading level0 row12\" >NumOfProducts_3</th>\n",
       "                        <td id=\"T_3924dea6_efec_11e9_895e_e54de9a20fefrow12_col0\" class=\"data row12 col0\" >-0.00414524</td>\n",
       "                        <td id=\"T_3924dea6_efec_11e9_895e_e54de9a20fefrow12_col1\" class=\"data row12 col1\" >0.0673651</td>\n",
       "                        <td id=\"T_3924dea6_efec_11e9_895e_e54de9a20fefrow12_col2\" class=\"data row12 col2\" >-0.000516761</td>\n",
       "                        <td id=\"T_3924dea6_efec_11e9_895e_e54de9a20fefrow12_col3\" class=\"data row12 col3\" >-0.00272244</td>\n",
       "                        <td id=\"T_3924dea6_efec_11e9_895e_e54de9a20fefrow12_col4\" class=\"data row12 col4\" >0.00318626</td>\n",
       "                        <td id=\"T_3924dea6_efec_11e9_895e_e54de9a20fefrow12_col5\" class=\"data row12 col5\" >-0.0298644</td>\n",
       "                        <td id=\"T_3924dea6_efec_11e9_895e_e54de9a20fefrow12_col6\" class=\"data row12 col6\" >0.0121533</td>\n",
       "                        <td id=\"T_3924dea6_efec_11e9_895e_e54de9a20fefrow12_col7\" class=\"data row12 col7\" >0.0419446</td>\n",
       "                        <td id=\"T_3924dea6_efec_11e9_895e_e54de9a20fefrow12_col8\" class=\"data row12 col8\" >-0.0365077</td>\n",
       "                        <td id=\"T_3924dea6_efec_11e9_895e_e54de9a20fefrow12_col9\" class=\"data row12 col9\" >0.035143</td>\n",
       "                        <td id=\"T_3924dea6_efec_11e9_895e_e54de9a20fefrow12_col10\" class=\"data row12 col10\" >-0.168109</td>\n",
       "                        <td id=\"T_3924dea6_efec_11e9_895e_e54de9a20fefrow12_col11\" class=\"data row12 col11\" >-0.0128433</td>\n",
       "                        <td id=\"T_3924dea6_efec_11e9_895e_e54de9a20fefrow12_col12\" class=\"data row12 col12\" >1</td>\n",
       "                        <td id=\"T_3924dea6_efec_11e9_895e_e54de9a20fefrow12_col13\" class=\"data row12 col13\" >0.255862</td>\n",
       "            </tr>\n",
       "            <tr>\n",
       "                        <th id=\"T_3924dea6_efec_11e9_895e_e54de9a20feflevel0_row13\" class=\"row_heading level0 row13\" >Exited</th>\n",
       "                        <td id=\"T_3924dea6_efec_11e9_895e_e54de9a20fefrow13_col0\" class=\"data row13 col0\" >-0.0270935</td>\n",
       "                        <td id=\"T_3924dea6_efec_11e9_895e_e54de9a20fefrow13_col1\" class=\"data row13 col1\" >0.285323</td>\n",
       "                        <td id=\"T_3924dea6_efec_11e9_895e_e54de9a20fefrow13_col2\" class=\"data row13 col2\" >-0.0140006</td>\n",
       "                        <td id=\"T_3924dea6_efec_11e9_895e_e54de9a20fefrow13_col3\" class=\"data row13 col3\" >0.118533</td>\n",
       "                        <td id=\"T_3924dea6_efec_11e9_895e_e54de9a20fefrow13_col4\" class=\"data row13 col4\" >-0.00713777</td>\n",
       "                        <td id=\"T_3924dea6_efec_11e9_895e_e54de9a20fefrow13_col5\" class=\"data row13 col5\" >-0.156128</td>\n",
       "                        <td id=\"T_3924dea6_efec_11e9_895e_e54de9a20fefrow13_col6\" class=\"data row13 col6\" >0.0120969</td>\n",
       "                        <td id=\"T_3924dea6_efec_11e9_895e_e54de9a20fefrow13_col7\" class=\"data row13 col7\" >0.173488</td>\n",
       "                        <td id=\"T_3924dea6_efec_11e9_895e_e54de9a20fefrow13_col8\" class=\"data row13 col8\" >-0.104955</td>\n",
       "                        <td id=\"T_3924dea6_efec_11e9_895e_e54de9a20fefrow13_col9\" class=\"data row13 col9\" >0.106512</td>\n",
       "                        <td id=\"T_3924dea6_efec_11e9_895e_e54de9a20fefrow13_col10\" class=\"data row13 col10\" >0.185447</td>\n",
       "                        <td id=\"T_3924dea6_efec_11e9_895e_e54de9a20fefrow13_col11\" class=\"data row13 col11\" >0.153612</td>\n",
       "                        <td id=\"T_3924dea6_efec_11e9_895e_e54de9a20fefrow13_col12\" class=\"data row13 col12\" >0.255862</td>\n",
       "                        <td id=\"T_3924dea6_efec_11e9_895e_e54de9a20fefrow13_col13\" class=\"data row13 col13\" >1</td>\n",
       "            </tr>\n",
       "    </tbody></table>"
      ],
      "text/plain": [
       "<pandas.io.formats.style.Styler at 0x7f2097da0748>"
      ]
     },
     "execution_count": 14,
     "metadata": {},
     "output_type": "execute_result"
    }
   ],
   "source": [
    "# Correlation Matrix\n",
    "corr = df.corr()\n",
    "corr.style.background_gradient()"
   ]
  },
  {
   "cell_type": "code",
   "execution_count": 15,
   "metadata": {},
   "outputs": [],
   "source": [
    "# Converting all Balances more than 0 to 1\n",
    "df['Balance'] = df['Balance'].clip(upper=1)"
   ]
  },
  {
   "cell_type": "code",
   "execution_count": 16,
   "metadata": {},
   "outputs": [
    {
     "data": {
      "text/html": [
       "<div>\n",
       "<style scoped>\n",
       "    .dataframe tbody tr th:only-of-type {\n",
       "        vertical-align: middle;\n",
       "    }\n",
       "\n",
       "    .dataframe tbody tr th {\n",
       "        vertical-align: top;\n",
       "    }\n",
       "\n",
       "    .dataframe thead th {\n",
       "        text-align: right;\n",
       "    }\n",
       "</style>\n",
       "<table border=\"1\" class=\"dataframe\">\n",
       "  <thead>\n",
       "    <tr style=\"text-align: right;\">\n",
       "      <th></th>\n",
       "      <th>CreditScore</th>\n",
       "      <th>Age</th>\n",
       "      <th>Balance</th>\n",
       "      <th>IsActiveMember</th>\n",
       "      <th>Geography_Germany</th>\n",
       "      <th>Geography_France</th>\n",
       "      <th>Gender_Female</th>\n",
       "      <th>NumOfProducts_1</th>\n",
       "      <th>NumOfProducts_4</th>\n",
       "      <th>NumOfProducts_3</th>\n",
       "      <th>Exited</th>\n",
       "    </tr>\n",
       "  </thead>\n",
       "  <tbody>\n",
       "    <tr>\n",
       "      <td>0</td>\n",
       "      <td>619</td>\n",
       "      <td>42</td>\n",
       "      <td>0.0</td>\n",
       "      <td>1</td>\n",
       "      <td>0</td>\n",
       "      <td>1</td>\n",
       "      <td>1</td>\n",
       "      <td>1</td>\n",
       "      <td>0</td>\n",
       "      <td>0</td>\n",
       "      <td>1</td>\n",
       "    </tr>\n",
       "    <tr>\n",
       "      <td>1</td>\n",
       "      <td>608</td>\n",
       "      <td>41</td>\n",
       "      <td>1.0</td>\n",
       "      <td>1</td>\n",
       "      <td>0</td>\n",
       "      <td>0</td>\n",
       "      <td>1</td>\n",
       "      <td>1</td>\n",
       "      <td>0</td>\n",
       "      <td>0</td>\n",
       "      <td>0</td>\n",
       "    </tr>\n",
       "    <tr>\n",
       "      <td>2</td>\n",
       "      <td>502</td>\n",
       "      <td>42</td>\n",
       "      <td>1.0</td>\n",
       "      <td>0</td>\n",
       "      <td>0</td>\n",
       "      <td>1</td>\n",
       "      <td>1</td>\n",
       "      <td>0</td>\n",
       "      <td>0</td>\n",
       "      <td>1</td>\n",
       "      <td>1</td>\n",
       "    </tr>\n",
       "    <tr>\n",
       "      <td>3</td>\n",
       "      <td>699</td>\n",
       "      <td>39</td>\n",
       "      <td>0.0</td>\n",
       "      <td>0</td>\n",
       "      <td>0</td>\n",
       "      <td>1</td>\n",
       "      <td>1</td>\n",
       "      <td>0</td>\n",
       "      <td>0</td>\n",
       "      <td>0</td>\n",
       "      <td>0</td>\n",
       "    </tr>\n",
       "    <tr>\n",
       "      <td>4</td>\n",
       "      <td>850</td>\n",
       "      <td>43</td>\n",
       "      <td>1.0</td>\n",
       "      <td>1</td>\n",
       "      <td>0</td>\n",
       "      <td>0</td>\n",
       "      <td>1</td>\n",
       "      <td>1</td>\n",
       "      <td>0</td>\n",
       "      <td>0</td>\n",
       "      <td>0</td>\n",
       "    </tr>\n",
       "  </tbody>\n",
       "</table>\n",
       "</div>"
      ],
      "text/plain": [
       "   CreditScore  Age  Balance  IsActiveMember  Geography_Germany  \\\n",
       "0          619   42      0.0               1                  0   \n",
       "1          608   41      1.0               1                  0   \n",
       "2          502   42      1.0               0                  0   \n",
       "3          699   39      0.0               0                  0   \n",
       "4          850   43      1.0               1                  0   \n",
       "\n",
       "   Geography_France  Gender_Female  NumOfProducts_1  NumOfProducts_4  \\\n",
       "0                 1              1                1                0   \n",
       "1                 0              1                1                0   \n",
       "2                 1              1                0                0   \n",
       "3                 1              1                0                0   \n",
       "4                 0              1                1                0   \n",
       "\n",
       "   NumOfProducts_3  Exited  \n",
       "0                0       1  \n",
       "1                0       0  \n",
       "2                1       1  \n",
       "3                0       0  \n",
       "4                0       0  "
      ]
     },
     "execution_count": 16,
     "metadata": {},
     "output_type": "execute_result"
    }
   ],
   "source": [
    "# Dropping insignificant features as decided during previous excercises.\n",
    "# Age p-value = 0.0\n",
    "# Credit Score p-value = 0.0085\n",
    "# Balance p-value = 0.0\n",
    "# Estimated Salary p-value = 0.1222\n",
    "df.drop('EstimatedSalary', axis=1, inplace=True)\n",
    "df.drop('HasCrCard', axis=1, inplace=True)\n",
    "#df.drop('NumOfProducts', axis=1, inplace=True)\n",
    "df.drop('Tenure', axis=1, inplace=True)\n",
    "df.head()"
   ]
  },
  {
   "cell_type": "code",
   "execution_count": 17,
   "metadata": {},
   "outputs": [],
   "source": [
    "df = df.applymap(np.int64)"
   ]
  },
  {
   "cell_type": "code",
   "execution_count": 18,
   "metadata": {},
   "outputs": [
    {
     "data": {
      "text/html": [
       "<div>\n",
       "<style scoped>\n",
       "    .dataframe tbody tr th:only-of-type {\n",
       "        vertical-align: middle;\n",
       "    }\n",
       "\n",
       "    .dataframe tbody tr th {\n",
       "        vertical-align: top;\n",
       "    }\n",
       "\n",
       "    .dataframe thead th {\n",
       "        text-align: right;\n",
       "    }\n",
       "</style>\n",
       "<table border=\"1\" class=\"dataframe\">\n",
       "  <thead>\n",
       "    <tr style=\"text-align: right;\">\n",
       "      <th></th>\n",
       "      <th>CreditScore</th>\n",
       "      <th>Age</th>\n",
       "      <th>Balance</th>\n",
       "      <th>IsActiveMember</th>\n",
       "      <th>Geography_Germany</th>\n",
       "      <th>Geography_France</th>\n",
       "      <th>Gender_Female</th>\n",
       "      <th>NumOfProducts_1</th>\n",
       "      <th>NumOfProducts_4</th>\n",
       "      <th>NumOfProducts_3</th>\n",
       "      <th>Exited</th>\n",
       "    </tr>\n",
       "  </thead>\n",
       "  <tbody>\n",
       "    <tr>\n",
       "      <td>0</td>\n",
       "      <td>619</td>\n",
       "      <td>42</td>\n",
       "      <td>-1</td>\n",
       "      <td>1</td>\n",
       "      <td>-1</td>\n",
       "      <td>1</td>\n",
       "      <td>1</td>\n",
       "      <td>1</td>\n",
       "      <td>-1</td>\n",
       "      <td>-1</td>\n",
       "      <td>1</td>\n",
       "    </tr>\n",
       "    <tr>\n",
       "      <td>1</td>\n",
       "      <td>608</td>\n",
       "      <td>41</td>\n",
       "      <td>1</td>\n",
       "      <td>1</td>\n",
       "      <td>-1</td>\n",
       "      <td>-1</td>\n",
       "      <td>1</td>\n",
       "      <td>1</td>\n",
       "      <td>-1</td>\n",
       "      <td>-1</td>\n",
       "      <td>-1</td>\n",
       "    </tr>\n",
       "    <tr>\n",
       "      <td>2</td>\n",
       "      <td>502</td>\n",
       "      <td>42</td>\n",
       "      <td>1</td>\n",
       "      <td>-1</td>\n",
       "      <td>-1</td>\n",
       "      <td>1</td>\n",
       "      <td>1</td>\n",
       "      <td>-1</td>\n",
       "      <td>-1</td>\n",
       "      <td>1</td>\n",
       "      <td>1</td>\n",
       "    </tr>\n",
       "    <tr>\n",
       "      <td>3</td>\n",
       "      <td>699</td>\n",
       "      <td>39</td>\n",
       "      <td>-1</td>\n",
       "      <td>-1</td>\n",
       "      <td>-1</td>\n",
       "      <td>1</td>\n",
       "      <td>1</td>\n",
       "      <td>-1</td>\n",
       "      <td>-1</td>\n",
       "      <td>-1</td>\n",
       "      <td>-1</td>\n",
       "    </tr>\n",
       "    <tr>\n",
       "      <td>4</td>\n",
       "      <td>850</td>\n",
       "      <td>43</td>\n",
       "      <td>1</td>\n",
       "      <td>1</td>\n",
       "      <td>-1</td>\n",
       "      <td>-1</td>\n",
       "      <td>1</td>\n",
       "      <td>1</td>\n",
       "      <td>-1</td>\n",
       "      <td>-1</td>\n",
       "      <td>-1</td>\n",
       "    </tr>\n",
       "  </tbody>\n",
       "</table>\n",
       "</div>"
      ],
      "text/plain": [
       "   CreditScore  Age  Balance  IsActiveMember  Geography_Germany  \\\n",
       "0          619   42       -1               1                 -1   \n",
       "1          608   41        1               1                 -1   \n",
       "2          502   42        1              -1                 -1   \n",
       "3          699   39       -1              -1                 -1   \n",
       "4          850   43        1               1                 -1   \n",
       "\n",
       "   Geography_France  Gender_Female  NumOfProducts_1  NumOfProducts_4  \\\n",
       "0                 1              1                1               -1   \n",
       "1                -1              1                1               -1   \n",
       "2                 1              1               -1               -1   \n",
       "3                 1              1               -1               -1   \n",
       "4                -1              1                1               -1   \n",
       "\n",
       "   NumOfProducts_3  Exited  \n",
       "0               -1       1  \n",
       "1               -1      -1  \n",
       "2                1       1  \n",
       "3               -1      -1  \n",
       "4               -1      -1  "
      ]
     },
     "execution_count": 18,
     "metadata": {},
     "output_type": "execute_result"
    }
   ],
   "source": [
    "df.loc[df.Balance == 0, 'Balance'] = -1\n",
    "df.loc[df.IsActiveMember == 0, 'IsActiveMember'] = -1\n",
    "df.loc[df.Geography_Germany == 0, 'Geography_Germany'] = -1\n",
    "df.loc[df.Geography_France == 0, 'Geography_France'] = -1\n",
    "df.loc[df.Gender_Female == 0, 'Gender_Female'] = -1\n",
    "df.loc[df.NumOfProducts_1 == 0, 'NumOfProducts_1'] = -1\n",
    "df.loc[df.NumOfProducts_3 == 0, 'NumOfProducts_3'] = -1\n",
    "df.loc[df.NumOfProducts_4 == 0, 'NumOfProducts_4'] = -1\n",
    "df.loc[df.Exited == 0, 'Exited'] = -1\n",
    "df.head()"
   ]
  },
  {
   "cell_type": "code",
   "execution_count": 19,
   "metadata": {},
   "outputs": [
    {
     "data": {
      "text/html": [
       "<div>\n",
       "<style scoped>\n",
       "    .dataframe tbody tr th:only-of-type {\n",
       "        vertical-align: middle;\n",
       "    }\n",
       "\n",
       "    .dataframe tbody tr th {\n",
       "        vertical-align: top;\n",
       "    }\n",
       "\n",
       "    .dataframe thead th {\n",
       "        text-align: right;\n",
       "    }\n",
       "</style>\n",
       "<table border=\"1\" class=\"dataframe\">\n",
       "  <thead>\n",
       "    <tr style=\"text-align: right;\">\n",
       "      <th></th>\n",
       "      <th>CreditScore</th>\n",
       "      <th>Age</th>\n",
       "      <th>Balance</th>\n",
       "      <th>IsActiveMember</th>\n",
       "      <th>Geography_Germany</th>\n",
       "      <th>Geography_France</th>\n",
       "      <th>Gender_Female</th>\n",
       "      <th>NumOfProducts_1</th>\n",
       "      <th>NumOfProducts_4</th>\n",
       "      <th>NumOfProducts_3</th>\n",
       "      <th>Exited</th>\n",
       "    </tr>\n",
       "  </thead>\n",
       "  <tbody>\n",
       "    <tr>\n",
       "      <td>0</td>\n",
       "      <td>-0.326221</td>\n",
       "      <td>0.293517</td>\n",
       "      <td>-1</td>\n",
       "      <td>1</td>\n",
       "      <td>-1</td>\n",
       "      <td>1</td>\n",
       "      <td>1</td>\n",
       "      <td>1</td>\n",
       "      <td>-1</td>\n",
       "      <td>-1</td>\n",
       "      <td>1</td>\n",
       "    </tr>\n",
       "    <tr>\n",
       "      <td>1</td>\n",
       "      <td>-0.440036</td>\n",
       "      <td>0.198164</td>\n",
       "      <td>1</td>\n",
       "      <td>1</td>\n",
       "      <td>-1</td>\n",
       "      <td>-1</td>\n",
       "      <td>1</td>\n",
       "      <td>1</td>\n",
       "      <td>-1</td>\n",
       "      <td>-1</td>\n",
       "      <td>-1</td>\n",
       "    </tr>\n",
       "    <tr>\n",
       "      <td>2</td>\n",
       "      <td>-1.536794</td>\n",
       "      <td>0.293517</td>\n",
       "      <td>1</td>\n",
       "      <td>-1</td>\n",
       "      <td>-1</td>\n",
       "      <td>1</td>\n",
       "      <td>1</td>\n",
       "      <td>-1</td>\n",
       "      <td>-1</td>\n",
       "      <td>1</td>\n",
       "      <td>1</td>\n",
       "    </tr>\n",
       "    <tr>\n",
       "      <td>3</td>\n",
       "      <td>0.501521</td>\n",
       "      <td>0.007457</td>\n",
       "      <td>-1</td>\n",
       "      <td>-1</td>\n",
       "      <td>-1</td>\n",
       "      <td>1</td>\n",
       "      <td>1</td>\n",
       "      <td>-1</td>\n",
       "      <td>-1</td>\n",
       "      <td>-1</td>\n",
       "      <td>-1</td>\n",
       "    </tr>\n",
       "    <tr>\n",
       "      <td>4</td>\n",
       "      <td>2.063884</td>\n",
       "      <td>0.388871</td>\n",
       "      <td>1</td>\n",
       "      <td>1</td>\n",
       "      <td>-1</td>\n",
       "      <td>-1</td>\n",
       "      <td>1</td>\n",
       "      <td>1</td>\n",
       "      <td>-1</td>\n",
       "      <td>-1</td>\n",
       "      <td>-1</td>\n",
       "    </tr>\n",
       "  </tbody>\n",
       "</table>\n",
       "</div>"
      ],
      "text/plain": [
       "   CreditScore       Age  Balance  IsActiveMember  Geography_Germany  \\\n",
       "0    -0.326221  0.293517       -1               1                 -1   \n",
       "1    -0.440036  0.198164        1               1                 -1   \n",
       "2    -1.536794  0.293517        1              -1                 -1   \n",
       "3     0.501521  0.007457       -1              -1                 -1   \n",
       "4     2.063884  0.388871        1               1                 -1   \n",
       "\n",
       "   Geography_France  Gender_Female  NumOfProducts_1  NumOfProducts_4  \\\n",
       "0                 1              1                1               -1   \n",
       "1                -1              1                1               -1   \n",
       "2                 1              1               -1               -1   \n",
       "3                 1              1               -1               -1   \n",
       "4                -1              1                1               -1   \n",
       "\n",
       "   NumOfProducts_3  Exited  \n",
       "0               -1       1  \n",
       "1               -1      -1  \n",
       "2                1       1  \n",
       "3               -1      -1  \n",
       "4               -1      -1  "
      ]
     },
     "execution_count": 19,
     "metadata": {},
     "output_type": "execute_result"
    }
   ],
   "source": [
    "# Scaling the data\n",
    "from sklearn.preprocessing import scale\n",
    "\n",
    "df['CreditScore'] = scale(df['CreditScore'])\n",
    "df['Age'] = scale(df['Age'])\n",
    "#df['Tenure'] = scale(df['Tenure'])\n",
    "#df['NumOfProducts'] = scale(df['NumOfProducts'])\n",
    "\n",
    "df.head()"
   ]
  },
  {
   "cell_type": "code",
   "execution_count": 20,
   "metadata": {},
   "outputs": [
    {
     "data": {
      "text/plain": [
       "Index(['CreditScore', 'Age', 'Balance', 'IsActiveMember', 'Geography_Germany',\n",
       "       'Geography_France', 'Gender_Female', 'NumOfProducts_1',\n",
       "       'NumOfProducts_4', 'NumOfProducts_3', 'Exited'],\n",
       "      dtype='object')"
      ]
     },
     "execution_count": 20,
     "metadata": {},
     "output_type": "execute_result"
    }
   ],
   "source": [
    "df.columns"
   ]
  },
  {
   "cell_type": "code",
   "execution_count": 21,
   "metadata": {},
   "outputs": [],
   "source": [
    "X = df[['CreditScore', 'Age', 'Balance', 'IsActiveMember', 'Geography_Germany',\n",
    "       'Geography_France', 'Gender_Female', 'NumOfProducts_1',\n",
    "       'NumOfProducts_4', 'NumOfProducts_3']]\n",
    "y = df['Exited']"
   ]
  },
  {
   "cell_type": "code",
   "execution_count": 22,
   "metadata": {
    "scrolled": false
   },
   "outputs": [
    {
     "data": {
      "text/plain": [
       "([<matplotlib.axis.XTick at 0x7f2091ee0668>,\n",
       "  <matplotlib.axis.XTick at 0x7f2092e08eb8>,\n",
       "  <matplotlib.axis.XTick at 0x7f2092e08be0>,\n",
       "  <matplotlib.axis.XTick at 0x7f2091f07c50>,\n",
       "  <matplotlib.axis.XTick at 0x7f2091f07a90>,\n",
       "  <matplotlib.axis.XTick at 0x7f2091e9b630>,\n",
       "  <matplotlib.axis.XTick at 0x7f2091e9bb00>,\n",
       "  <matplotlib.axis.XTick at 0x7f2091e9be48>,\n",
       "  <matplotlib.axis.XTick at 0x7f2091f07be0>,\n",
       "  <matplotlib.axis.XTick at 0x7f2091ea3518>],\n",
       " <a list of 10 Text xticklabel objects>)"
      ]
     },
     "execution_count": 22,
     "metadata": {},
     "output_type": "execute_result"
    },
    {
     "data": {
      "image/png": "[encoded data removed]",
      "text/plain": [
       "<Figure size 576x360 with 1 Axes>"
      ]
     },
     "metadata": {
      "needs_background": "light"
     },
     "output_type": "display_data"
    }
   ],
   "source": [
    "# Using Lasso to know features significance.\n",
    "from sklearn.linear_model import Lasso\n",
    "names = df.columns\n",
    "lasso = Lasso(alpha=0.1)\n",
    "lasso_coef = lasso.fit(X, y).coef_\n",
    "_ = plt.plot(range(len(names)-1), lasso_coef)\n",
    "plt.xticks(range(len(names)-1), names, rotation=60)"
   ]
  },
  {
   "cell_type": "markdown",
   "metadata": {},
   "source": [
    "# Applying:"
   ]
  },
  {
   "cell_type": "code",
   "execution_count": 23,
   "metadata": {},
   "outputs": [],
   "source": [
    "X = df[['CreditScore', 'Age', 'Balance', 'IsActiveMember', 'Geography_Germany',\n",
    "       'Geography_France', 'Gender_Female', 'NumOfProducts_1',\n",
    "       'NumOfProducts_4', 'NumOfProducts_3']]\n",
    "y = df['Exited']"
   ]
  },
  {
   "cell_type": "code",
   "execution_count": 24,
   "metadata": {},
   "outputs": [],
   "source": [
    "# Splitting the data in test data and train data\n",
    "from sklearn.model_selection import train_test_split\n",
    "\n",
    "X_train, X_test, y_train, y_test = train_test_split(X, y, test_size=0.3, random_state=51)"
   ]
  },
  {
   "cell_type": "markdown",
   "metadata": {},
   "source": [
    "## Logistic Regression:"
   ]
  },
  {
   "cell_type": "code",
   "execution_count": 25,
   "metadata": {},
   "outputs": [
    {
     "data": {
      "text/plain": [
       "0.8356666666666667"
      ]
     },
     "execution_count": 25,
     "metadata": {},
     "output_type": "execute_result"
    }
   ],
   "source": [
    "# Fitting the data\n",
    "from sklearn.linear_model import LogisticRegression\n",
    "from sklearn.metrics import accuracy_score\n",
    "\n",
    "logreg = LogisticRegression()\n",
    "logreg.fit(X_train,y_train)\n",
    "y_pred = logreg.predict(X_test)\n",
    "accuracy_score(y_pred, y_test)"
   ]
  },
  {
   "cell_type": "code",
   "execution_count": 26,
   "metadata": {},
   "outputs": [
    {
     "name": "stdout",
     "output_type": "stream",
     "text": [
      "tuned hpyerparameters :(best parameters)  {'C': 1.0, 'penalty': 'l1'}\n",
      "accuracy : 0.8397142857142857\n",
      "LogisticRegression(C=1.0, class_weight=None, dual=False, fit_intercept=True,\n",
      "                   intercept_scaling=1, l1_ratio=None, max_iter=100,\n",
      "                   multi_class='warn', n_jobs=None, penalty='l1',\n",
      "                   random_state=None, solver='warn', tol=0.0001, verbose=0,\n",
      "                   warm_start=False)\n"
     ]
    }
   ],
   "source": [
    "# Using GridSearch to find the best parameters\n",
    "from sklearn.model_selection import GridSearchCV\n",
    "\n",
    "grid={\"C\":np.logspace(-3,3,7), \"penalty\":[\"l1\",\"l2\"]}\n",
    "logreg_cv=GridSearchCV(logreg,grid,cv=10, scoring='accuracy', refit=True, n_jobs=-1)\n",
    "logreg_cv.fit(X_train,y_train)\n",
    "\n",
    "print(\"tuned hpyerparameters :(best parameters) \",logreg_cv.best_params_)\n",
    "print(\"accuracy :\",logreg_cv.best_score_)\n",
    "print(logreg_cv.best_estimator_)"
   ]
  },
  {
   "cell_type": "code",
   "execution_count": 27,
   "metadata": {},
   "outputs": [
    {
     "data": {
      "text/plain": [
       "0.8356666666666667"
      ]
     },
     "execution_count": 27,
     "metadata": {},
     "output_type": "execute_result"
    }
   ],
   "source": [
    "accuracy_score(logreg_cv.predict(X_test), y_test)"
   ]
  },
  {
   "cell_type": "code",
   "execution_count": 28,
   "metadata": {},
   "outputs": [
    {
     "data": {
      "text/plain": [
       "<matplotlib.legend.Legend at 0x7f20905f9390>"
      ]
     },
     "execution_count": 28,
     "metadata": {},
     "output_type": "execute_result"
    },
    {
     "data": {
      "image/png": "[encoded data removed]",
      "text/plain": [
       "<Figure size 576x360 with 1 Axes>"
      ]
     },
     "metadata": {
      "needs_background": "light"
     },
     "output_type": "display_data"
    }
   ],
   "source": [
    "# ROC Curve\n",
    "from sklearn.metrics import roc_curve\n",
    "\n",
    "y_pred_prob = logreg_cv.predict_proba(X_test)[:,1]\n",
    "fpr, tpr, thresholds = roc_curve(y_test, y_pred_prob)\n",
    "plt.plot([0,1], [0,1], 'k--')\n",
    "plt.plot(fpr, tpr, label='Logistic Regression')\n",
    "plt.legend()"
   ]
  },
  {
   "cell_type": "code",
   "execution_count": 29,
   "metadata": {},
   "outputs": [
    {
     "data": {
      "text/plain": [
       "0.8411403299560001"
      ]
     },
     "execution_count": 29,
     "metadata": {},
     "output_type": "execute_result"
    }
   ],
   "source": [
    "# ROC AUC score. The area under ROC curve.\n",
    "from sklearn.metrics import roc_auc_score\n",
    "\n",
    "roc_auc_score(y_test, y_pred_prob)"
   ]
  },
  {
   "cell_type": "code",
   "execution_count": 30,
   "metadata": {},
   "outputs": [
    {
     "name": "stdout",
     "output_type": "stream",
     "text": [
      "[[2273   90]\n",
      " [ 403  234]]\n"
     ]
    }
   ],
   "source": [
    "from sklearn.metrics import confusion_matrix\n",
    "\n",
    "print(confusion_matrix(y_test, logreg_cv.predict(X_test)))\n",
    "\n",
    "#Tp#Fp\n",
    "#Fn#Tn"
   ]
  },
  {
   "cell_type": "code",
   "execution_count": 31,
   "metadata": {},
   "outputs": [
    {
     "name": "stdout",
     "output_type": "stream",
     "text": [
      "              precision    recall  f1-score   support\n",
      "\n",
      "          -1       0.85      0.96      0.90      2363\n",
      "           1       0.72      0.37      0.49       637\n",
      "\n",
      "    accuracy                           0.84      3000\n",
      "   macro avg       0.79      0.66      0.69      3000\n",
      "weighted avg       0.82      0.84      0.81      3000\n",
      "\n"
     ]
    }
   ],
   "source": [
    "# Classification Report\n",
    "from sklearn.metrics import classification_report\n",
    "\n",
    "print(classification_report(y_test, logreg_cv.predict(X_test)))"
   ]
  },
  {
   "cell_type": "markdown",
   "metadata": {},
   "source": [
    "## kNN:"
   ]
  },
  {
   "cell_type": "code",
   "execution_count": 32,
   "metadata": {},
   "outputs": [
    {
     "data": {
      "text/plain": [
       "0.84"
      ]
     },
     "execution_count": 32,
     "metadata": {},
     "output_type": "execute_result"
    }
   ],
   "source": [
    "from sklearn.neighbors import KNeighborsClassifier\n",
    "\n",
    "knn = KNeighborsClassifier(n_neighbors=15)\n",
    "knn.fit(X_train,y_train)\n",
    "accuracy_score(knn.predict(X_test), y_test)"
   ]
  },
  {
   "cell_type": "code",
   "execution_count": 33,
   "metadata": {},
   "outputs": [
    {
     "name": "stdout",
     "output_type": "stream",
     "text": [
      "tuned hpyerparameters :(best parameters)  {'n_neighbors': 14}\n",
      "accuracy : 0.8471428571428572\n",
      "KNeighborsClassifier(algorithm='auto', leaf_size=30, metric='minkowski',\n",
      "                     metric_params=None, n_jobs=None, n_neighbors=14, p=2,\n",
      "                     weights='uniform')\n"
     ]
    }
   ],
   "source": [
    "knn = KNeighborsClassifier()\n",
    "k_grid={'n_neighbors':np.arange(1,20)}\n",
    "knn_cv=GridSearchCV(knn, k_grid, cv=10, refit=True, n_jobs=-1)\n",
    "knn_cv.fit(X_train,y_train)\n",
    "\n",
    "print(\"tuned hpyerparameters :(best parameters) \",knn_cv.best_params_)\n",
    "print(\"accuracy :\",knn_cv.best_score_)\n",
    "print(knn_cv.best_estimator_)"
   ]
  },
  {
   "cell_type": "code",
   "execution_count": 34,
   "metadata": {},
   "outputs": [
    {
     "data": {
      "text/plain": [
       "<matplotlib.legend.Legend at 0x7f2090015780>"
      ]
     },
     "execution_count": 34,
     "metadata": {},
     "output_type": "execute_result"
    },
    {
     "data": {
      "image/png": "[encoded data removed]",
      "text/plain": [
       "<Figure size 576x360 with 1 Axes>"
      ]
     },
     "metadata": {
      "needs_background": "light"
     },
     "output_type": "display_data"
    }
   ],
   "source": [
    "y_pred_prob = knn_cv.predict_proba(X_test)[:,1]\n",
    "fpr, tpr, thresholds = roc_curve(y_test, y_pred_prob)\n",
    "plt.plot([0,1], [0,1], 'k--')\n",
    "plt.plot(fpr, tpr, label='k Nearest Neighbors')\n",
    "plt.legend()"
   ]
  },
  {
   "cell_type": "code",
   "execution_count": 35,
   "metadata": {},
   "outputs": [
    {
     "data": {
      "text/plain": [
       "0.8234161401140423"
      ]
     },
     "execution_count": 35,
     "metadata": {},
     "output_type": "execute_result"
    }
   ],
   "source": [
    "roc_auc_score(y_test, y_pred_prob)"
   ]
  },
  {
   "cell_type": "code",
   "execution_count": 36,
   "metadata": {},
   "outputs": [
    {
     "name": "stdout",
     "output_type": "stream",
     "text": [
      "[[2310   53]\n",
      " [ 423  214]]\n"
     ]
    }
   ],
   "source": [
    "print(confusion_matrix(y_test, knn_cv.predict(X_test)))\n",
    "\n",
    "#Tp#Fp\n",
    "#Fn#Tn"
   ]
  },
  {
   "cell_type": "code",
   "execution_count": 37,
   "metadata": {
    "scrolled": true
   },
   "outputs": [
    {
     "name": "stdout",
     "output_type": "stream",
     "text": [
      "              precision    recall  f1-score   support\n",
      "\n",
      "          -1       0.85      0.98      0.91      2363\n",
      "           1       0.80      0.34      0.47       637\n",
      "\n",
      "    accuracy                           0.84      3000\n",
      "   macro avg       0.82      0.66      0.69      3000\n",
      "weighted avg       0.84      0.84      0.81      3000\n",
      "\n"
     ]
    }
   ],
   "source": [
    "print(classification_report(y_test, knn_cv.predict(X_test)))"
   ]
  },
  {
   "cell_type": "markdown",
   "metadata": {},
   "source": [
    "## SVM with 'rbf' Kernal:"
   ]
  },
  {
   "cell_type": "code",
   "execution_count": 38,
   "metadata": {},
   "outputs": [
    {
     "name": "stdout",
     "output_type": "stream",
     "text": [
      "tuned hpyerparameters :(best parameters)  {'C': 1, 'gamma': 0.1, 'kernel': 'rbf', 'probability': True}\n",
      "accuracy : 0.861\n",
      "SVC(C=1, cache_size=200, class_weight=None, coef0=0.0,\n",
      "    decision_function_shape='ovr', degree=3, gamma=0.1, kernel='rbf',\n",
      "    max_iter=-1, probability=True, random_state=None, shrinking=True, tol=0.001,\n",
      "    verbose=False)\n"
     ]
    }
   ],
   "source": [
    "from sklearn.svm import SVC\n",
    "\n",
    "Cs = [0.1, 1, 10, 100]\n",
    "gammas = [0.001, .01, 0.1, 1, 10]\n",
    "param_grid = {'C': Cs, 'gamma': gammas,'kernel': ['rbf'], 'probability':[True]}\n",
    "\n",
    "SVM_rbf_cv = GridSearchCV(SVC(), param_grid, cv=3, refit=True, n_jobs=-1)\n",
    "SVM_rbf_cv.fit(X_train,y_train)\n",
    "\n",
    "print(\"tuned hpyerparameters :(best parameters) \",SVM_rbf_cv.best_params_)\n",
    "print(\"accuracy :\",SVM_rbf_cv.best_score_)\n",
    "print(SVM_rbf_cv.best_estimator_)"
   ]
  },
  {
   "cell_type": "code",
   "execution_count": 39,
   "metadata": {},
   "outputs": [
    {
     "name": "stdout",
     "output_type": "stream",
     "text": [
      "tuned hpyerparameters :(best parameters)  {'C': 1, 'gamma': 0.1, 'kernel': 'rbf', 'probability': True}\n",
      "accuracy : 0.8594285714285714\n"
     ]
    }
   ],
   "source": [
    "Cs = [1]\n",
    "gammas = [0.1]\n",
    "param_grid = {'C': Cs, 'gamma': gammas,'kernel': ['rbf'], 'probability':[True]}\n",
    "SVM_rbf_cv_10 = GridSearchCV(SVC(), param_grid, cv=10, refit=True, n_jobs=-1)\n",
    "SVM_rbf_cv_10.fit(X_train,y_train)\n",
    "\n",
    "print(\"tuned hpyerparameters :(best parameters) \",SVM_rbf_cv_10.best_params_)\n",
    "print(\"accuracy :\",SVM_rbf_cv_10.best_score_)"
   ]
  },
  {
   "cell_type": "code",
   "execution_count": 40,
   "metadata": {},
   "outputs": [
    {
     "data": {
      "text/plain": [
       "<matplotlib.legend.Legend at 0x7f208a73c240>"
      ]
     },
     "execution_count": 40,
     "metadata": {},
     "output_type": "execute_result"
    },
    {
     "data": {
      "image/png": "[encoded data removed]",
      "text/plain": [
       "<Figure size 576x360 with 1 Axes>"
      ]
     },
     "metadata": {
      "needs_background": "light"
     },
     "output_type": "display_data"
    }
   ],
   "source": [
    "y_pred_prob = SVM_rbf_cv_10.predict_proba(X_test)[:,1]\n",
    "fpr, tpr, thresholds = roc_curve(y_test, y_pred_prob)\n",
    "plt.plot([0,1], [0,1], 'k--')\n",
    "plt.plot(fpr, tpr, label='SVM')\n",
    "plt.legend()"
   ]
  },
  {
   "cell_type": "code",
   "execution_count": 41,
   "metadata": {},
   "outputs": [
    {
     "data": {
      "text/plain": [
       "0.8056082421900692"
      ]
     },
     "execution_count": 41,
     "metadata": {},
     "output_type": "execute_result"
    }
   ],
   "source": [
    "roc_auc_score(y_test, y_pred_prob)"
   ]
  },
  {
   "cell_type": "code",
   "execution_count": 42,
   "metadata": {},
   "outputs": [
    {
     "name": "stdout",
     "output_type": "stream",
     "text": [
      "[[2318   45]\n",
      " [ 403  234]]\n"
     ]
    }
   ],
   "source": [
    "print(confusion_matrix(y_test, SVM_rbf_cv_10.predict(X_test)))\n",
    "\n",
    "#Tp#Fp\n",
    "#Fn#Tn"
   ]
  },
  {
   "cell_type": "code",
   "execution_count": 43,
   "metadata": {},
   "outputs": [
    {
     "name": "stdout",
     "output_type": "stream",
     "text": [
      "              precision    recall  f1-score   support\n",
      "\n",
      "          -1       0.85      0.98      0.91      2363\n",
      "           1       0.84      0.37      0.51       637\n",
      "\n",
      "    accuracy                           0.85      3000\n",
      "   macro avg       0.85      0.67      0.71      3000\n",
      "weighted avg       0.85      0.85      0.83      3000\n",
      "\n"
     ]
    }
   ],
   "source": [
    "print(classification_report(y_test, SVM_rbf_cv_10.predict(X_test)))"
   ]
  },
  {
   "cell_type": "markdown",
   "metadata": {},
   "source": [
    "## SVM with 'poly' Kernal"
   ]
  },
  {
   "cell_type": "code",
   "execution_count": 44,
   "metadata": {},
   "outputs": [
    {
     "name": "stdout",
     "output_type": "stream",
     "text": [
      "tuned hpyerparameters :(best parameters)  {'probability': True, 'kernel': 'poly', 'gamma': 0.5, 'degree': 2, 'C': 10}\n",
      "accuracy : 0.8611428571428571\n",
      "SVC(C=10, cache_size=200, class_weight=None, coef0=0.0,\n",
      "    decision_function_shape='ovr', degree=2, gamma=0.5, kernel='poly',\n",
      "    max_iter=-1, probability=True, random_state=None, shrinking=True, tol=0.001,\n",
      "    verbose=False)\n"
     ]
    }
   ],
   "source": [
    "from sklearn.svm import SVC\n",
    "from sklearn.model_selection import RandomizedSearchCV\n",
    "\n",
    "Cs = [0.1, 1, 10, 100]\n",
    "gammas = [0.001, .01, 0.1, 0.5]\n",
    "\n",
    "param_grid = {'C': Cs, 'gamma': gammas,'probability':[True],'kernel': ['poly'],'degree':[2,3] }\n",
    "SVM_poly_cv = RandomizedSearchCV(estimator = SVC(), param_distributions = param_grid, n_iter = 10, cv = 3, random_state=51, n_jobs = -1, refit=True)\n",
    "SVM_poly_cv.fit(X_train,y_train)\n",
    "\n",
    "print(\"tuned hpyerparameters :(best parameters) \",SVM_poly_cv.best_params_)\n",
    "print(\"accuracy :\",SVM_poly_cv.best_score_)\n",
    "print(SVM_poly_cv.best_estimator_)"
   ]
  },
  {
   "cell_type": "code",
   "execution_count": 45,
   "metadata": {},
   "outputs": [
    {
     "name": "stderr",
     "output_type": "stream",
     "text": [
      "/opt/conda/lib/python3.6/site-packages/sklearn/model_selection/_search.py:266: UserWarning: The total space of parameters 1 is smaller than n_iter=10. Running 1 iterations. For exhaustive searches, use GridSearchCV.\n",
      "  % (grid_size, self.n_iter, grid_size), UserWarning)\n"
     ]
    },
    {
     "name": "stdout",
     "output_type": "stream",
     "text": [
      "accuracy : 0.861\n"
     ]
    }
   ],
   "source": [
    "from sklearn.model_selection import RandomizedSearchCV\n",
    "Cs = [10]\n",
    "gammas = [0.5]\n",
    "\n",
    "param_grid = {'C': Cs, 'gamma': gammas,'probability':[True],'kernel': ['poly'],'degree':[2] }\n",
    "SVM_poly_cv_10 = RandomizedSearchCV(estimator = SVC(), param_distributions = param_grid, n_iter = 10, cv = 10, random_state=51, n_jobs = -1, refit=True)\n",
    "SVM_poly_cv_10.fit(X_train,y_train)\n",
    "\n",
    "print(\"accuracy :\",SVM_poly_cv_10.best_score_)"
   ]
  },
  {
   "cell_type": "code",
   "execution_count": 46,
   "metadata": {},
   "outputs": [
    {
     "data": {
      "text/plain": [
       "<matplotlib.legend.Legend at 0x7f208a643710>"
      ]
     },
     "execution_count": 46,
     "metadata": {},
     "output_type": "execute_result"
    },
    {
     "data": {
      "image/png": "[encoded data removed]",
      "text/plain": [
       "<Figure size 576x360 with 1 Axes>"
      ]
     },
     "metadata": {
      "needs_background": "light"
     },
     "output_type": "display_data"
    }
   ],
   "source": [
    "y_pred_prob = SVM_poly_cv_10.predict_proba(X_test)[:,1]\n",
    "fpr, tpr, thresholds = roc_curve(y_test, y_pred_prob)\n",
    "plt.plot([0,1], [0,1], 'k--')\n",
    "plt.plot(fpr, tpr, label='SVM')\n",
    "plt.legend()"
   ]
  },
  {
   "cell_type": "code",
   "execution_count": 47,
   "metadata": {},
   "outputs": [
    {
     "data": {
      "text/plain": [
       "0.8195403230467615"
      ]
     },
     "execution_count": 47,
     "metadata": {},
     "output_type": "execute_result"
    }
   ],
   "source": [
    "roc_auc_score(y_test, y_pred_prob)"
   ]
  },
  {
   "cell_type": "code",
   "execution_count": 48,
   "metadata": {},
   "outputs": [
    {
     "name": "stdout",
     "output_type": "stream",
     "text": [
      "[[2308   55]\n",
      " [ 392  245]]\n"
     ]
    }
   ],
   "source": [
    "print(confusion_matrix(y_test, SVM_poly_cv_10.predict(X_test)))\n",
    "\n",
    "#Tp#Fp\n",
    "#Fn#Tn"
   ]
  },
  {
   "cell_type": "code",
   "execution_count": 49,
   "metadata": {},
   "outputs": [
    {
     "name": "stdout",
     "output_type": "stream",
     "text": [
      "              precision    recall  f1-score   support\n",
      "\n",
      "          -1       0.85      0.98      0.91      2363\n",
      "           1       0.82      0.38      0.52       637\n",
      "\n",
      "    accuracy                           0.85      3000\n",
      "   macro avg       0.84      0.68      0.72      3000\n",
      "weighted avg       0.85      0.85      0.83      3000\n",
      "\n"
     ]
    }
   ],
   "source": [
    "print(classification_report(y_test, SVM_poly_cv_10.predict(X_test)))"
   ]
  },
  {
   "cell_type": "markdown",
   "metadata": {},
   "source": [
    "## Random Forest"
   ]
  },
  {
   "cell_type": "code",
   "execution_count": 50,
   "metadata": {},
   "outputs": [
    {
     "name": "stdout",
     "output_type": "stream",
     "text": [
      "tuned hpyerparameters :(best parameters)  {'n_estimators': 261, 'min_samples_split': 11, 'max_features': 'auto', 'max_depth': 16}\n",
      "accuracy : 0.8602857142857143\n",
      "RandomForestClassifier(bootstrap=True, class_weight=None, criterion='gini',\n",
      "                       max_depth=16, max_features='auto', max_leaf_nodes=None,\n",
      "                       min_impurity_decrease=0.0, min_impurity_split=None,\n",
      "                       min_samples_leaf=1, min_samples_split=11,\n",
      "                       min_weight_fraction_leaf=0.0, n_estimators=261,\n",
      "                       n_jobs=None, oob_score=False, random_state=None,\n",
      "                       verbose=0, warm_start=False)\n"
     ]
    }
   ],
   "source": [
    "from sklearn.ensemble import RandomForestClassifier\n",
    "\n",
    "n_est = [int(x) for x in np.linspace(start = 50, stop = 1000, num = 10)]\n",
    "m_depth = [int(x) for x in np.linspace(5, 50, num = 5)]\n",
    "min_samp = [3, 5, 6, 7, 10, 11]\n",
    "m_ftr = ['auto']\n",
    "\n",
    "param_grid = {'max_depth': m_depth, 'max_features': m_ftr,'n_estimators': n_est,'min_samples_split': min_samp}\n",
    "RF_cv = RandomizedSearchCV(estimator = RandomForestClassifier(), n_iter=200, param_distributions =  param_grid, random_state=51, cv=3, n_jobs=-1, refit=True)\n",
    "RF_cv.fit(X_train,y_train)\n",
    "\n",
    "print(\"tuned hpyerparameters :(best parameters) \",RF_cv.best_params_)\n",
    "print(\"accuracy :\",RF_cv.best_score_)\n",
    "print(RF_cv.best_estimator_)"
   ]
  },
  {
   "cell_type": "code",
   "execution_count": 51,
   "metadata": {},
   "outputs": [
    {
     "name": "stderr",
     "output_type": "stream",
     "text": [
      "/opt/conda/lib/python3.6/site-packages/sklearn/model_selection/_search.py:266: UserWarning: The total space of parameters 1 is smaller than n_iter=200. Running 1 iterations. For exhaustive searches, use GridSearchCV.\n",
      "  % (grid_size, self.n_iter, grid_size), UserWarning)\n"
     ]
    },
    {
     "name": "stdout",
     "output_type": "stream",
     "text": [
      "accuracy : 0.8598571428571429\n"
     ]
    }
   ],
   "source": [
    "from sklearn.ensemble import RandomForestClassifier\n",
    "\n",
    "param_grid = {'max_depth': [16], 'max_features': [\"auto\"],'n_estimators': [155],'min_samples_split': [11]}\n",
    "RF_cv_10 = RandomizedSearchCV(estimator = RandomForestClassifier(), n_iter=200, param_distributions =  param_grid, random_state=51, cv=10, n_jobs=-1, refit=True)\n",
    "RF_cv_10.fit(X_train,y_train)\n",
    "\n",
    "print(\"accuracy :\",RF_cv_10.best_score_)"
   ]
  },
  {
   "cell_type": "code",
   "execution_count": 52,
   "metadata": {},
   "outputs": [
    {
     "data": {
      "text/plain": [
       "<matplotlib.legend.Legend at 0x7f20897878d0>"
      ]
     },
     "execution_count": 52,
     "metadata": {},
     "output_type": "execute_result"
    },
    {
     "data": {
      "image/png": "[encoded data removed]",
      "text/plain": [
       "<Figure size 576x360 with 1 Axes>"
      ]
     },
     "metadata": {
      "needs_background": "light"
     },
     "output_type": "display_data"
    }
   ],
   "source": [
    "y_pred_prob = RF_cv_10.predict_proba(X_test)[:,1]\n",
    "fpr, tpr, thresholds = roc_curve(y_test, y_pred_prob)\n",
    "plt.plot([0,1], [0,1], 'k--')\n",
    "plt.plot(fpr, tpr, label='Random Forest')\n",
    "plt.legend()"
   ]
  },
  {
   "cell_type": "code",
   "execution_count": 53,
   "metadata": {},
   "outputs": [
    {
     "data": {
      "text/plain": [
       "0.8499592421362568"
      ]
     },
     "execution_count": 53,
     "metadata": {},
     "output_type": "execute_result"
    }
   ],
   "source": [
    "roc_auc_score(y_test, y_pred_prob)"
   ]
  },
  {
   "cell_type": "code",
   "execution_count": 54,
   "metadata": {},
   "outputs": [
    {
     "name": "stdout",
     "output_type": "stream",
     "text": [
      "[[2278   85]\n",
      " [ 348  289]]\n"
     ]
    }
   ],
   "source": [
    "print(confusion_matrix(y_test, RF_cv_10.predict(X_test)))\n",
    "\n",
    "#Tp#Fp\n",
    "#Fn#Tn"
   ]
  },
  {
   "cell_type": "code",
   "execution_count": 55,
   "metadata": {},
   "outputs": [
    {
     "name": "stdout",
     "output_type": "stream",
     "text": [
      "              precision    recall  f1-score   support\n",
      "\n",
      "          -1       0.87      0.96      0.91      2363\n",
      "           1       0.77      0.45      0.57       637\n",
      "\n",
      "    accuracy                           0.86      3000\n",
      "   macro avg       0.82      0.71      0.74      3000\n",
      "weighted avg       0.85      0.86      0.84      3000\n",
      "\n"
     ]
    }
   ],
   "source": [
    "print(classification_report(y_test, RF_cv_10.predict(X_test)))"
   ]
  },
  {
   "cell_type": "markdown",
   "metadata": {},
   "source": [
    "## Gaussian Naive Bayes:"
   ]
  },
  {
   "cell_type": "code",
   "execution_count": 56,
   "metadata": {},
   "outputs": [
    {
     "data": {
      "text/plain": [
       "0.8126666666666666"
      ]
     },
     "execution_count": 56,
     "metadata": {},
     "output_type": "execute_result"
    }
   ],
   "source": [
    "from sklearn.naive_bayes import GaussianNB\n",
    "\n",
    "nb_m = GaussianNB()\n",
    "nb_m.fit(X_train,y_train)\n",
    "y_pred = nb_m.predict(X_test)\n",
    "accuracy_score(y_pred, y_test)"
   ]
  },
  {
   "cell_type": "code",
   "execution_count": 57,
   "metadata": {},
   "outputs": [
    {
     "data": {
      "text/plain": [
       "<matplotlib.legend.Legend at 0x7f20897c5320>"
      ]
     },
     "execution_count": 57,
     "metadata": {},
     "output_type": "execute_result"
    },
    {
     "data": {
      "image/png": "[encoded data removed]",
      "text/plain": [
       "<Figure size 576x360 with 1 Axes>"
      ]
     },
     "metadata": {
      "needs_background": "light"
     },
     "output_type": "display_data"
    }
   ],
   "source": [
    "y_pred_prob = nb_m.predict_proba(X_test)[:,1]\n",
    "fpr, tpr, thresholds = roc_curve(y_test, y_pred_prob)\n",
    "plt.plot([0,1], [0,1], 'k--')\n",
    "plt.plot(fpr, tpr, label='Naive Bayes')\n",
    "plt.legend()"
   ]
  },
  {
   "cell_type": "code",
   "execution_count": 58,
   "metadata": {},
   "outputs": [
    {
     "data": {
      "text/plain": [
       "0.8104300934540944"
      ]
     },
     "execution_count": 58,
     "metadata": {},
     "output_type": "execute_result"
    }
   ],
   "source": [
    "roc_auc_score(y_test, y_pred_prob)"
   ]
  },
  {
   "cell_type": "code",
   "execution_count": 59,
   "metadata": {},
   "outputs": [
    {
     "name": "stdout",
     "output_type": "stream",
     "text": [
      "[[2352   11]\n",
      " [ 551   86]]\n"
     ]
    }
   ],
   "source": [
    "print(confusion_matrix(y_test, nb_m.predict(X_test)))\n",
    "\n",
    "#Tp#Fp\n",
    "#Fn#Tn"
   ]
  },
  {
   "cell_type": "code",
   "execution_count": 60,
   "metadata": {},
   "outputs": [
    {
     "name": "stdout",
     "output_type": "stream",
     "text": [
      "              precision    recall  f1-score   support\n",
      "\n",
      "          -1       0.81      1.00      0.89      2363\n",
      "           1       0.89      0.14      0.23       637\n",
      "\n",
      "    accuracy                           0.81      3000\n",
      "   macro avg       0.85      0.57      0.56      3000\n",
      "weighted avg       0.83      0.81      0.75      3000\n",
      "\n"
     ]
    }
   ],
   "source": [
    "print(classification_report(y_test, nb_m.predict(X_test)))"
   ]
  },
  {
   "cell_type": "markdown",
   "metadata": {},
   "source": [
    "## Extreme Gradient boosting:"
   ]
  },
  {
   "cell_type": "code",
   "execution_count": 61,
   "metadata": {},
   "outputs": [
    {
     "name": "stdout",
     "output_type": "stream",
     "text": [
      "tuned hpyerparameters :(best parameters)  {'n_estimators': 20, 'min_child_weight': 1, 'max_depth': 5, 'learning_rate': 0.3, 'gamma': 0.001}\n",
      "accuracy : 0.8631428571428571\n",
      "XGBClassifier(base_score=0.5, booster='gbtree', colsample_bylevel=1,\n",
      "              colsample_bynode=1, colsample_bytree=1, gamma=0.001,\n",
      "              learning_rate=0.3, max_delta_step=0, max_depth=5,\n",
      "              min_child_weight=1, missing=None, n_estimators=20, n_jobs=1,\n",
      "              nthread=None, objective='binary:logistic', random_state=0,\n",
      "              reg_alpha=0, reg_lambda=1, scale_pos_weight=1, seed=None,\n",
      "              silent=None, subsample=1, verbosity=1)\n"
     ]
    }
   ],
   "source": [
    "from xgboost import XGBClassifier\n",
    "\n",
    "m_dep = [5,6,7,8]\n",
    "gammas = [0.01,0.001,0.001]\n",
    "min_c_wt = [1,5,10]\n",
    "l_rate = [0.05,0.1, 0.2, 0.3]\n",
    "n_est = [5,10,20,100]\n",
    "\n",
    "param_grid = {'n_estimators': n_est, 'gamma': gammas, 'max_depth': m_dep,\n",
    "              'min_child_weight': min_c_wt, 'learning_rate': l_rate}\n",
    "\n",
    "xgb_cv = RandomizedSearchCV(estimator = XGBClassifier(), n_iter=100, param_distributions =  param_grid, random_state=51, cv=3, n_jobs=-1, refit=True)\n",
    "xgb_cv.fit(X_train,y_train)\n",
    "\n",
    "print(\"tuned hpyerparameters :(best parameters) \",xgb_cv.best_params_)\n",
    "print(\"accuracy :\",xgb_cv.best_score_)\n",
    "print(xgb_cv.best_estimator_)"
   ]
  },
  {
   "cell_type": "code",
   "execution_count": 62,
   "metadata": {},
   "outputs": [
    {
     "name": "stderr",
     "output_type": "stream",
     "text": [
      "/opt/conda/lib/python3.6/site-packages/sklearn/model_selection/_search.py:266: UserWarning: The total space of parameters 1 is smaller than n_iter=300. Running 1 iterations. For exhaustive searches, use GridSearchCV.\n",
      "  % (grid_size, self.n_iter, grid_size), UserWarning)\n"
     ]
    },
    {
     "name": "stdout",
     "output_type": "stream",
     "text": [
      "accuracy : 0.8637142857142858\n"
     ]
    }
   ],
   "source": [
    "from xgboost import XGBClassifier\n",
    "\n",
    "m_dep = [5]\n",
    "gammas = [0.001]\n",
    "min_c_wt = [1]\n",
    "l_rate = [0.3]\n",
    "n_est = [20]\n",
    "\n",
    "param_grid = {'n_estimators': n_est, 'gamma': gammas, 'max_depth': m_dep,\n",
    "              'min_child_weight': min_c_wt, 'learning_rate': l_rate}\n",
    "\n",
    "xgb_cv_10 = RandomizedSearchCV(estimator = XGBClassifier(), n_iter=300, param_distributions =  param_grid, random_state=51, cv=10, n_jobs=-1, refit=True)\n",
    "xgb_cv_10.fit(X_train,y_train)\n",
    "\n",
    "print(\"accuracy :\",xgb_cv_10.best_score_)\n"
   ]
  },
  {
   "cell_type": "code",
   "execution_count": 63,
   "metadata": {},
   "outputs": [
    {
     "data": {
      "text/plain": [
       "<matplotlib.legend.Legend at 0x7f2089664940>"
      ]
     },
     "execution_count": 63,
     "metadata": {},
     "output_type": "execute_result"
    },
    {
     "data": {
      "image/png": "[encoded data removed]",
      "text/plain": [
       "<Figure size 576x360 with 1 Axes>"
      ]
     },
     "metadata": {
      "needs_background": "light"
     },
     "output_type": "display_data"
    }
   ],
   "source": [
    "y_pred_prob = xgb_cv_10.predict_proba(X_test)[:,1]\n",
    "fpr, tpr, thresholds = roc_curve(y_test, y_pred_prob)\n",
    "plt.plot([0,1], [0,1], 'k--')\n",
    "plt.plot(fpr, tpr, label='xgb')\n",
    "plt.legend()"
   ]
  },
  {
   "cell_type": "code",
   "execution_count": 64,
   "metadata": {},
   "outputs": [
    {
     "data": {
      "text/plain": [
       "0.8617032867380489"
      ]
     },
     "execution_count": 64,
     "metadata": {},
     "output_type": "execute_result"
    }
   ],
   "source": [
    "roc_auc_score(y_test, y_pred_prob)"
   ]
  },
  {
   "cell_type": "code",
   "execution_count": 65,
   "metadata": {},
   "outputs": [
    {
     "name": "stdout",
     "output_type": "stream",
     "text": [
      "[[2278   85]\n",
      " [ 352  285]]\n"
     ]
    }
   ],
   "source": [
    "print(confusion_matrix(y_test, xgb_cv_10.predict(X_test)))\n",
    "\n",
    "#Tp#Fp\n",
    "#Fn#Tn"
   ]
  },
  {
   "cell_type": "code",
   "execution_count": 66,
   "metadata": {},
   "outputs": [
    {
     "name": "stdout",
     "output_type": "stream",
     "text": [
      "              precision    recall  f1-score   support\n",
      "\n",
      "          -1       0.87      0.96      0.91      2363\n",
      "           1       0.77      0.45      0.57       637\n",
      "\n",
      "    accuracy                           0.85      3000\n",
      "   macro avg       0.82      0.71      0.74      3000\n",
      "weighted avg       0.85      0.85      0.84      3000\n",
      "\n"
     ]
    }
   ],
   "source": [
    "print(classification_report(y_test, xgb_cv_10.predict(X_test)))"
   ]
  },
  {
   "cell_type": "code",
   "execution_count": 67,
   "metadata": {},
   "outputs": [
    {
     "data": {
      "text/plain": [
       "<matplotlib.legend.Legend at 0x7f2089650128>"
      ]
     },
     "execution_count": 67,
     "metadata": {},
     "output_type": "execute_result"
    },
    {
     "data": {
      "image/png": "[encoded data removed]",
      "text/plain": [
       "<Figure size 864x576 with 1 Axes>"
      ]
     },
     "metadata": {
      "needs_background": "light"
     },
     "output_type": "display_data"
    }
   ],
   "source": [
    "algos = [logreg_cv, knn_cv, SVM_rbf_cv, SVM_poly_cv, RF_cv, nb_m, xgb_cv]\n",
    "labels = ['Logistic Regression', 'knn', 'SVM rbf', 'SVM poly', 'Random Forest','Naive Bayes', 'XGB']\n",
    "\n",
    "plt.figure(figsize = (12,8))\n",
    "plt.plot([0,1], [0,1], 'k--')\n",
    "\n",
    "for i in range(len(algos)):\n",
    "    y_pred_prob = algos[i].predict_proba(X_test)[:,1]\n",
    "    fpr, tpr, thresholds = roc_curve(y_test, y_pred_prob)\n",
    "    plt.plot(fpr, tpr, label=labels[i])\n",
    "\n",
    "plt.xlabel('False positive rate')\n",
    "plt.ylabel('True positive rate')\n",
    "plt.title('ROC Curve')\n",
    "plt.legend(loc='best')"
   ]
  },
  {
   "cell_type": "code",
   "execution_count": null,
   "metadata": {},
   "outputs": [],
   "source": []
  },
  {
   "cell_type": "code",
   "execution_count": null,
   "metadata": {},
   "outputs": [],
   "source": []
  },
  {
   "cell_type": "code",
   "execution_count": null,
   "metadata": {},
   "outputs": [],
   "source": []
  },
  {
   "cell_type": "code",
   "execution_count": null,
   "metadata": {},
   "outputs": [],
   "source": []
  },
  {
   "cell_type": "code",
   "execution_count": null,
   "metadata": {},
   "outputs": [],
   "source": []
  },
  {
   "cell_type": "code",
   "execution_count": null,
   "metadata": {},
   "outputs": [],
   "source": []
  },
  {
   "cell_type": "code",
   "execution_count": null,
   "metadata": {},
   "outputs": [],
   "source": []
  }
 ],
 "metadata": {
  "kernelspec": {
   "display_name": "Python 3",
   "language": "python",
   "name": "python3"
  },
  "language_info": {
   "codemirror_mode": {
    "name": "ipython",
    "version": 3
   },
   "file_extension": ".py",
   "mimetype": "text/x-python",
   "name": "python",
   "nbconvert_exporter": "python",
   "pygments_lexer": "ipython3",
   "version": "3.6.6"
  }
 },
 "nbformat": 4,
 "nbformat_minor": 1
}
