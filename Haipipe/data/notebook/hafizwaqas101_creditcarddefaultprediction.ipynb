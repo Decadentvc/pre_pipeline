{
 "cells": [
  {
   "cell_type": "code",
   "execution_count": 1,
   "metadata": {
    "_cell_guid": "b1076dfc-b9ad-4769-8c92-a6c4dae69d19",
    "_uuid": "8f2839f25d086af736a60e9eeb907d3b93b6e0e5",
    "execution": {
     "iopub.execute_input": "2020-08-11T18:55:59.498382Z",
     "iopub.status.busy": "2020-08-11T18:55:59.497590Z",
     "iopub.status.idle": "2020-08-11T18:56:00.599369Z",
     "shell.execute_reply": "2020-08-11T18:56:00.598395Z"
    },
    "papermill": {
     "duration": 1.135179,
     "end_time": "2020-08-11T18:56:00.599547",
     "exception": false,
     "start_time": "2020-08-11T18:55:59.464368",
     "status": "completed"
    },
    "tags": []
   },
   "outputs": [
    {
     "name": "stdout",
     "output_type": "stream",
     "text": [
      "/kaggle/input/creditcarddefault/credit-card-default.csv\n"
     ]
    }
   ],
   "source": [
    "# This Python 3 environment comes with many helpful analytics libraries installed\n",
    "# It is defined by the kaggle/python Docker image: https://github.com/kaggle/docker-python\n",
    "# For example, here's several helpful packages to load\n",
    "import numpy as np\n",
    "import pandas as pd\n",
    "import matplotlib.pyplot as plt\n",
    "from sklearn.model_selection import train_test_split\n",
    "from sklearn.ensemble import RandomForestClassifier\n",
    "from sklearn.metrics import accuracy_score\n",
    "from sklearn.model_selection import KFold\n",
    "from sklearn.model_selection import GridSearchCV\n",
    "\n",
    "# Input data files are available in the read-only \"../input/\" directory\n",
    "# For example, running this (by clicking run or pressing Shift+Enter) will list all files under the input directory\n",
    "\n",
    "import os\n",
    "for dirname, _, filenames in os.walk('/kaggle/input'):\n",
    "    for filename in filenames:\n",
    "        print(os.path.join(dirname, filename))\n",
    "\n",
    "# You can write up to 5GB to the current directory (/kaggle/working/) that gets preserved as output when you create a version using \"Save & Run All\" \n",
    "# You can also write temporary files to /kaggle/temp/, but they won't be saved outside of the current session"
   ]
  },
  {
   "cell_type": "code",
   "execution_count": 2,
   "metadata": {
    "_cell_guid": "79c7e3d0-c299-4dcb-8224-4455121ee9b0",
    "_uuid": "d629ff2d2480ee46fbb7e2d37f6b5fab8052498a",
    "execution": {
     "iopub.execute_input": "2020-08-11T18:56:00.655356Z",
     "iopub.status.busy": "2020-08-11T18:56:00.654380Z",
     "iopub.status.idle": "2020-08-11T18:56:00.774409Z",
     "shell.execute_reply": "2020-08-11T18:56:00.774970Z"
    },
    "papermill": {
     "duration": 0.150866,
     "end_time": "2020-08-11T18:56:00.775136",
     "exception": false,
     "start_time": "2020-08-11T18:56:00.624270",
     "status": "completed"
    },
    "tags": []
   },
   "outputs": [
    {
     "data": {
      "text/html": [
       "<div>\n",
       "<style scoped>\n",
       "    .dataframe tbody tr th:only-of-type {\n",
       "        vertical-align: middle;\n",
       "    }\n",
       "\n",
       "    .dataframe tbody tr th {\n",
       "        vertical-align: top;\n",
       "    }\n",
       "\n",
       "    .dataframe thead th {\n",
       "        text-align: right;\n",
       "    }\n",
       "</style>\n",
       "<table border=\"1\" class=\"dataframe\">\n",
       "  <thead>\n",
       "    <tr style=\"text-align: right;\">\n",
       "      <th></th>\n",
       "      <th>ID</th>\n",
       "      <th>LIMIT_BAL</th>\n",
       "      <th>SEX</th>\n",
       "      <th>EDUCATION</th>\n",
       "      <th>MARRIAGE</th>\n",
       "      <th>AGE</th>\n",
       "      <th>PAY_0</th>\n",
       "      <th>PAY_2</th>\n",
       "      <th>PAY_3</th>\n",
       "      <th>PAY_4</th>\n",
       "      <th>...</th>\n",
       "      <th>BILL_AMT4</th>\n",
       "      <th>BILL_AMT5</th>\n",
       "      <th>BILL_AMT6</th>\n",
       "      <th>PAY_AMT1</th>\n",
       "      <th>PAY_AMT2</th>\n",
       "      <th>PAY_AMT3</th>\n",
       "      <th>PAY_AMT4</th>\n",
       "      <th>PAY_AMT5</th>\n",
       "      <th>PAY_AMT6</th>\n",
       "      <th>defaulted</th>\n",
       "    </tr>\n",
       "  </thead>\n",
       "  <tbody>\n",
       "    <tr>\n",
       "      <th>0</th>\n",
       "      <td>1</td>\n",
       "      <td>20000</td>\n",
       "      <td>2</td>\n",
       "      <td>2</td>\n",
       "      <td>1</td>\n",
       "      <td>24</td>\n",
       "      <td>2</td>\n",
       "      <td>2</td>\n",
       "      <td>-1</td>\n",
       "      <td>-1</td>\n",
       "      <td>...</td>\n",
       "      <td>0</td>\n",
       "      <td>0</td>\n",
       "      <td>0</td>\n",
       "      <td>0</td>\n",
       "      <td>689</td>\n",
       "      <td>0</td>\n",
       "      <td>0</td>\n",
       "      <td>0</td>\n",
       "      <td>0</td>\n",
       "      <td>1</td>\n",
       "    </tr>\n",
       "    <tr>\n",
       "      <th>1</th>\n",
       "      <td>2</td>\n",
       "      <td>120000</td>\n",
       "      <td>2</td>\n",
       "      <td>2</td>\n",
       "      <td>2</td>\n",
       "      <td>26</td>\n",
       "      <td>-1</td>\n",
       "      <td>2</td>\n",
       "      <td>0</td>\n",
       "      <td>0</td>\n",
       "      <td>...</td>\n",
       "      <td>3272</td>\n",
       "      <td>3455</td>\n",
       "      <td>3261</td>\n",
       "      <td>0</td>\n",
       "      <td>1000</td>\n",
       "      <td>1000</td>\n",
       "      <td>1000</td>\n",
       "      <td>0</td>\n",
       "      <td>2000</td>\n",
       "      <td>1</td>\n",
       "    </tr>\n",
       "    <tr>\n",
       "      <th>2</th>\n",
       "      <td>3</td>\n",
       "      <td>90000</td>\n",
       "      <td>2</td>\n",
       "      <td>2</td>\n",
       "      <td>2</td>\n",
       "      <td>34</td>\n",
       "      <td>0</td>\n",
       "      <td>0</td>\n",
       "      <td>0</td>\n",
       "      <td>0</td>\n",
       "      <td>...</td>\n",
       "      <td>14331</td>\n",
       "      <td>14948</td>\n",
       "      <td>15549</td>\n",
       "      <td>1518</td>\n",
       "      <td>1500</td>\n",
       "      <td>1000</td>\n",
       "      <td>1000</td>\n",
       "      <td>1000</td>\n",
       "      <td>5000</td>\n",
       "      <td>0</td>\n",
       "    </tr>\n",
       "    <tr>\n",
       "      <th>3</th>\n",
       "      <td>4</td>\n",
       "      <td>50000</td>\n",
       "      <td>2</td>\n",
       "      <td>2</td>\n",
       "      <td>1</td>\n",
       "      <td>37</td>\n",
       "      <td>0</td>\n",
       "      <td>0</td>\n",
       "      <td>0</td>\n",
       "      <td>0</td>\n",
       "      <td>...</td>\n",
       "      <td>28314</td>\n",
       "      <td>28959</td>\n",
       "      <td>29547</td>\n",
       "      <td>2000</td>\n",
       "      <td>2019</td>\n",
       "      <td>1200</td>\n",
       "      <td>1100</td>\n",
       "      <td>1069</td>\n",
       "      <td>1000</td>\n",
       "      <td>0</td>\n",
       "    </tr>\n",
       "    <tr>\n",
       "      <th>4</th>\n",
       "      <td>5</td>\n",
       "      <td>50000</td>\n",
       "      <td>1</td>\n",
       "      <td>2</td>\n",
       "      <td>1</td>\n",
       "      <td>57</td>\n",
       "      <td>-1</td>\n",
       "      <td>0</td>\n",
       "      <td>-1</td>\n",
       "      <td>0</td>\n",
       "      <td>...</td>\n",
       "      <td>20940</td>\n",
       "      <td>19146</td>\n",
       "      <td>19131</td>\n",
       "      <td>2000</td>\n",
       "      <td>36681</td>\n",
       "      <td>10000</td>\n",
       "      <td>9000</td>\n",
       "      <td>689</td>\n",
       "      <td>679</td>\n",
       "      <td>0</td>\n",
       "    </tr>\n",
       "  </tbody>\n",
       "</table>\n",
       "<p>5 rows × 25 columns</p>\n",
       "</div>"
      ],
      "text/plain": [
       "   ID  LIMIT_BAL  SEX  EDUCATION  MARRIAGE  AGE  PAY_0  PAY_2  PAY_3  PAY_4  \\\n",
       "0   1      20000    2          2         1   24      2      2     -1     -1   \n",
       "1   2     120000    2          2         2   26     -1      2      0      0   \n",
       "2   3      90000    2          2         2   34      0      0      0      0   \n",
       "3   4      50000    2          2         1   37      0      0      0      0   \n",
       "4   5      50000    1          2         1   57     -1      0     -1      0   \n",
       "\n",
       "   ...  BILL_AMT4  BILL_AMT5  BILL_AMT6  PAY_AMT1  PAY_AMT2  PAY_AMT3  \\\n",
       "0  ...          0          0          0         0       689         0   \n",
       "1  ...       3272       3455       3261         0      1000      1000   \n",
       "2  ...      14331      14948      15549      1518      1500      1000   \n",
       "3  ...      28314      28959      29547      2000      2019      1200   \n",
       "4  ...      20940      19146      19131      2000     36681     10000   \n",
       "\n",
       "   PAY_AMT4  PAY_AMT5  PAY_AMT6  defaulted  \n",
       "0         0         0         0          1  \n",
       "1      1000         0      2000          1  \n",
       "2      1000      1000      5000          0  \n",
       "3      1100      1069      1000          0  \n",
       "4      9000       689       679          0  \n",
       "\n",
       "[5 rows x 25 columns]"
      ]
     },
     "execution_count": 2,
     "metadata": {},
     "output_type": "execute_result"
    }
   ],
   "source": [
    "credit = pd.read_csv('/kaggle/input/creditcarddefault/credit-card-default.csv')\n",
    "credit.head()"
   ]
  },
  {
   "cell_type": "code",
   "execution_count": 3,
   "metadata": {
    "execution": {
     "iopub.execute_input": "2020-08-11T18:56:00.831035Z",
     "iopub.status.busy": "2020-08-11T18:56:00.830017Z",
     "iopub.status.idle": "2020-08-11T18:56:00.844862Z",
     "shell.execute_reply": "2020-08-11T18:56:00.843943Z"
    },
    "papermill": {
     "duration": 0.045094,
     "end_time": "2020-08-11T18:56:00.845036",
     "exception": false,
     "start_time": "2020-08-11T18:56:00.799942",
     "status": "completed"
    },
    "tags": []
   },
   "outputs": [
    {
     "name": "stdout",
     "output_type": "stream",
     "text": [
      "<class 'pandas.core.frame.DataFrame'>\n",
      "RangeIndex: 30000 entries, 0 to 29999\n",
      "Data columns (total 25 columns):\n",
      " #   Column     Non-Null Count  Dtype\n",
      "---  ------     --------------  -----\n",
      " 0   ID         30000 non-null  int64\n",
      " 1   LIMIT_BAL  30000 non-null  int64\n",
      " 2   SEX        30000 non-null  int64\n",
      " 3   EDUCATION  30000 non-null  int64\n",
      " 4   MARRIAGE   30000 non-null  int64\n",
      " 5   AGE        30000 non-null  int64\n",
      " 6   PAY_0      30000 non-null  int64\n",
      " 7   PAY_2      30000 non-null  int64\n",
      " 8   PAY_3      30000 non-null  int64\n",
      " 9   PAY_4      30000 non-null  int64\n",
      " 10  PAY_5      30000 non-null  int64\n",
      " 11  PAY_6      30000 non-null  int64\n",
      " 12  BILL_AMT1  30000 non-null  int64\n",
      " 13  BILL_AMT2  30000 non-null  int64\n",
      " 14  BILL_AMT3  30000 non-null  int64\n",
      " 15  BILL_AMT4  30000 non-null  int64\n",
      " 16  BILL_AMT5  30000 non-null  int64\n",
      " 17  BILL_AMT6  30000 non-null  int64\n",
      " 18  PAY_AMT1   30000 non-null  int64\n",
      " 19  PAY_AMT2   30000 non-null  int64\n",
      " 20  PAY_AMT3   30000 non-null  int64\n",
      " 21  PAY_AMT4   30000 non-null  int64\n",
      " 22  PAY_AMT5   30000 non-null  int64\n",
      " 23  PAY_AMT6   30000 non-null  int64\n",
      " 24  defaulted  30000 non-null  int64\n",
      "dtypes: int64(25)\n",
      "memory usage: 5.7 MB\n"
     ]
    }
   ],
   "source": [
    "credit.info()"
   ]
  },
  {
   "cell_type": "code",
   "execution_count": 4,
   "metadata": {
    "execution": {
     "iopub.execute_input": "2020-08-11T18:56:00.913716Z",
     "iopub.status.busy": "2020-08-11T18:56:00.912814Z",
     "iopub.status.idle": "2020-08-11T18:56:00.925640Z",
     "shell.execute_reply": "2020-08-11T18:56:00.924892Z"
    },
    "papermill": {
     "duration": 0.05455,
     "end_time": "2020-08-11T18:56:00.925764",
     "exception": false,
     "start_time": "2020-08-11T18:56:00.871214",
     "status": "completed"
    },
    "tags": []
   },
   "outputs": [],
   "source": [
    "X = credit.drop('defaulted', axis=1)\n",
    "Y = credit['defaulted']\n",
    "X_train, X_test, Y_train, Y_test = train_test_split(X,Y,test_size=0.3, random_state=101)"
   ]
  },
  {
   "cell_type": "code",
   "execution_count": 5,
   "metadata": {
    "execution": {
     "iopub.execute_input": "2020-08-11T18:56:00.987176Z",
     "iopub.status.busy": "2020-08-11T18:56:00.986021Z",
     "iopub.status.idle": "2020-08-11T18:56:08.218201Z",
     "shell.execute_reply": "2020-08-11T18:56:08.217474Z"
    },
    "papermill": {
     "duration": 7.266483,
     "end_time": "2020-08-11T18:56:08.218350",
     "exception": false,
     "start_time": "2020-08-11T18:56:00.951867",
     "status": "completed"
    },
    "tags": []
   },
   "outputs": [
    {
     "data": {
      "text/plain": [
       "RandomForestClassifier()"
      ]
     },
     "execution_count": 5,
     "metadata": {},
     "output_type": "execute_result"
    }
   ],
   "source": [
    "model = RandomForestClassifier()\n",
    "model.fit(X_train, Y_train)"
   ]
  },
  {
   "cell_type": "code",
   "execution_count": 6,
   "metadata": {
    "execution": {
     "iopub.execute_input": "2020-08-11T18:56:08.280611Z",
     "iopub.status.busy": "2020-08-11T18:56:08.279797Z",
     "iopub.status.idle": "2020-08-11T18:56:08.494690Z",
     "shell.execute_reply": "2020-08-11T18:56:08.495256Z"
    },
    "papermill": {
     "duration": 0.250859,
     "end_time": "2020-08-11T18:56:08.495450",
     "exception": false,
     "start_time": "2020-08-11T18:56:08.244591",
     "status": "completed"
    },
    "tags": []
   },
   "outputs": [],
   "source": [
    "predicted = model.predict(X_test)"
   ]
  },
  {
   "cell_type": "code",
   "execution_count": 7,
   "metadata": {
    "execution": {
     "iopub.execute_input": "2020-08-11T18:56:08.555755Z",
     "iopub.status.busy": "2020-08-11T18:56:08.554791Z",
     "iopub.status.idle": "2020-08-11T18:56:08.560930Z",
     "shell.execute_reply": "2020-08-11T18:56:08.559965Z"
    },
    "papermill": {
     "duration": 0.038741,
     "end_time": "2020-08-11T18:56:08.561094",
     "exception": false,
     "start_time": "2020-08-11T18:56:08.522353",
     "status": "completed"
    },
    "tags": []
   },
   "outputs": [
    {
     "name": "stdout",
     "output_type": "stream",
     "text": [
      "Accuracy 82.0\n"
     ]
    }
   ],
   "source": [
    "print('Accuracy', round(accuracy_score(predicted, Y_test)*100))"
   ]
  },
  {
   "cell_type": "code",
   "execution_count": 8,
   "metadata": {
    "execution": {
     "iopub.execute_input": "2020-08-11T18:56:08.625612Z",
     "iopub.status.busy": "2020-08-11T18:56:08.624525Z",
     "iopub.status.idle": "2020-08-11T18:56:08.628051Z",
     "shell.execute_reply": "2020-08-11T18:56:08.627314Z"
    },
    "papermill": {
     "duration": 0.037314,
     "end_time": "2020-08-11T18:56:08.628179",
     "exception": false,
     "start_time": "2020-08-11T18:56:08.590865",
     "status": "completed"
    },
    "tags": []
   },
   "outputs": [],
   "source": [
    "n_folds = 5\n",
    "parameters = {'max_depth':range(2,20,5)}"
   ]
  },
  {
   "cell_type": "code",
   "execution_count": 9,
   "metadata": {
    "execution": {
     "iopub.execute_input": "2020-08-11T18:56:08.689861Z",
     "iopub.status.busy": "2020-08-11T18:56:08.688746Z",
     "iopub.status.idle": "2020-08-11T18:56:08.692281Z",
     "shell.execute_reply": "2020-08-11T18:56:08.691563Z"
    },
    "papermill": {
     "duration": 0.036241,
     "end_time": "2020-08-11T18:56:08.692428",
     "exception": false,
     "start_time": "2020-08-11T18:56:08.656187",
     "status": "completed"
    },
    "tags": []
   },
   "outputs": [],
   "source": [
    "rfModel = RandomForestClassifier()\n",
    "rfModel = GridSearchCV(rfModel, parameters, cv=n_folds, scoring='accuracy')"
   ]
  },
  {
   "cell_type": "code",
   "execution_count": 10,
   "metadata": {
    "execution": {
     "iopub.execute_input": "2020-08-11T18:56:08.752913Z",
     "iopub.status.busy": "2020-08-11T18:56:08.752124Z",
     "iopub.status.idle": "2020-08-11T18:57:15.397814Z",
     "shell.execute_reply": "2020-08-11T18:57:15.398408Z"
    },
    "papermill": {
     "duration": 66.678565,
     "end_time": "2020-08-11T18:57:15.398581",
     "exception": false,
     "start_time": "2020-08-11T18:56:08.720016",
     "status": "completed"
    },
    "tags": []
   },
   "outputs": [
    {
     "data": {
      "text/plain": [
       "GridSearchCV(cv=5, estimator=RandomForestClassifier(),\n",
       "             param_grid={'max_depth': range(2, 20, 5)}, scoring='accuracy')"
      ]
     },
     "execution_count": 10,
     "metadata": {},
     "output_type": "execute_result"
    }
   ],
   "source": [
    "rfModel.fit(X_train, Y_train)"
   ]
  },
  {
   "cell_type": "code",
   "execution_count": 11,
   "metadata": {
    "execution": {
     "iopub.execute_input": "2020-08-11T18:57:15.483037Z",
     "iopub.status.busy": "2020-08-11T18:57:15.481868Z",
     "iopub.status.idle": "2020-08-11T18:57:15.487733Z",
     "shell.execute_reply": "2020-08-11T18:57:15.486991Z"
    },
    "papermill": {
     "duration": 0.061257,
     "end_time": "2020-08-11T18:57:15.487857",
     "exception": false,
     "start_time": "2020-08-11T18:57:15.426600",
     "status": "completed"
    },
    "tags": []
   },
   "outputs": [
    {
     "data": {
      "text/html": [
       "<div>\n",
       "<style scoped>\n",
       "    .dataframe tbody tr th:only-of-type {\n",
       "        vertical-align: middle;\n",
       "    }\n",
       "\n",
       "    .dataframe tbody tr th {\n",
       "        vertical-align: top;\n",
       "    }\n",
       "\n",
       "    .dataframe thead th {\n",
       "        text-align: right;\n",
       "    }\n",
       "</style>\n",
       "<table border=\"1\" class=\"dataframe\">\n",
       "  <thead>\n",
       "    <tr style=\"text-align: right;\">\n",
       "      <th></th>\n",
       "      <th>mean_fit_time</th>\n",
       "      <th>std_fit_time</th>\n",
       "      <th>mean_score_time</th>\n",
       "      <th>std_score_time</th>\n",
       "      <th>param_max_depth</th>\n",
       "      <th>params</th>\n",
       "      <th>split0_test_score</th>\n",
       "      <th>split1_test_score</th>\n",
       "      <th>split2_test_score</th>\n",
       "      <th>split3_test_score</th>\n",
       "      <th>split4_test_score</th>\n",
       "      <th>mean_test_score</th>\n",
       "      <th>std_test_score</th>\n",
       "      <th>rank_test_score</th>\n",
       "    </tr>\n",
       "  </thead>\n",
       "  <tbody>\n",
       "    <tr>\n",
       "      <th>0</th>\n",
       "      <td>1.046139</td>\n",
       "      <td>0.023548</td>\n",
       "      <td>0.032891</td>\n",
       "      <td>0.000755</td>\n",
       "      <td>2</td>\n",
       "      <td>{'max_depth': 2}</td>\n",
       "      <td>0.801429</td>\n",
       "      <td>0.805952</td>\n",
       "      <td>0.801429</td>\n",
       "      <td>0.794762</td>\n",
       "      <td>0.798571</td>\n",
       "      <td>0.800429</td>\n",
       "      <td>0.003690</td>\n",
       "      <td>4</td>\n",
       "    </tr>\n",
       "    <tr>\n",
       "      <th>1</th>\n",
       "      <td>2.602237</td>\n",
       "      <td>0.014975</td>\n",
       "      <td>0.053449</td>\n",
       "      <td>0.004826</td>\n",
       "      <td>7</td>\n",
       "      <td>{'max_depth': 7}</td>\n",
       "      <td>0.817381</td>\n",
       "      <td>0.820476</td>\n",
       "      <td>0.819048</td>\n",
       "      <td>0.815714</td>\n",
       "      <td>0.818571</td>\n",
       "      <td>0.818238</td>\n",
       "      <td>0.001605</td>\n",
       "      <td>1</td>\n",
       "    </tr>\n",
       "    <tr>\n",
       "      <th>2</th>\n",
       "      <td>3.900304</td>\n",
       "      <td>0.011916</td>\n",
       "      <td>0.070414</td>\n",
       "      <td>0.001159</td>\n",
       "      <td>12</td>\n",
       "      <td>{'max_depth': 12}</td>\n",
       "      <td>0.811667</td>\n",
       "      <td>0.820000</td>\n",
       "      <td>0.820238</td>\n",
       "      <td>0.812857</td>\n",
       "      <td>0.818333</td>\n",
       "      <td>0.816619</td>\n",
       "      <td>0.003637</td>\n",
       "      <td>2</td>\n",
       "    </tr>\n",
       "    <tr>\n",
       "      <th>3</th>\n",
       "      <td>4.860931</td>\n",
       "      <td>0.019374</td>\n",
       "      <td>0.091470</td>\n",
       "      <td>0.000597</td>\n",
       "      <td>17</td>\n",
       "      <td>{'max_depth': 17}</td>\n",
       "      <td>0.814048</td>\n",
       "      <td>0.815238</td>\n",
       "      <td>0.818333</td>\n",
       "      <td>0.811190</td>\n",
       "      <td>0.814048</td>\n",
       "      <td>0.814571</td>\n",
       "      <td>0.002305</td>\n",
       "      <td>3</td>\n",
       "    </tr>\n",
       "  </tbody>\n",
       "</table>\n",
       "</div>"
      ],
      "text/plain": [
       "   mean_fit_time  std_fit_time  mean_score_time  std_score_time  \\\n",
       "0       1.046139      0.023548         0.032891        0.000755   \n",
       "1       2.602237      0.014975         0.053449        0.004826   \n",
       "2       3.900304      0.011916         0.070414        0.001159   \n",
       "3       4.860931      0.019374         0.091470        0.000597   \n",
       "\n",
       "  param_max_depth             params  split0_test_score  split1_test_score  \\\n",
       "0               2   {'max_depth': 2}           0.801429           0.805952   \n",
       "1               7   {'max_depth': 7}           0.817381           0.820476   \n",
       "2              12  {'max_depth': 12}           0.811667           0.820000   \n",
       "3              17  {'max_depth': 17}           0.814048           0.815238   \n",
       "\n",
       "   split2_test_score  split3_test_score  split4_test_score  mean_test_score  \\\n",
       "0           0.801429           0.794762           0.798571         0.800429   \n",
       "1           0.819048           0.815714           0.818571         0.818238   \n",
       "2           0.820238           0.812857           0.818333         0.816619   \n",
       "3           0.818333           0.811190           0.814048         0.814571   \n",
       "\n",
       "   std_test_score  rank_test_score  \n",
       "0        0.003690                4  \n",
       "1        0.001605                1  \n",
       "2        0.003637                2  \n",
       "3        0.002305                3  "
      ]
     },
     "execution_count": 11,
     "metadata": {},
     "output_type": "execute_result"
    }
   ],
   "source": [
    "scores = rfModel.cv_results_\n",
    "pd.DataFrame(scores).head()"
   ]
  },
  {
   "cell_type": "code",
   "execution_count": 12,
   "metadata": {
    "execution": {
     "iopub.execute_input": "2020-08-11T18:57:15.554732Z",
     "iopub.status.busy": "2020-08-11T18:57:15.553609Z",
     "iopub.status.idle": "2020-08-11T19:01:16.365703Z",
     "shell.execute_reply": "2020-08-11T19:01:16.366277Z"
    },
    "papermill": {
     "duration": 240.849819,
     "end_time": "2020-08-11T19:01:16.366605",
     "exception": false,
     "start_time": "2020-08-11T18:57:15.516786",
     "status": "completed"
    },
    "tags": []
   },
   "outputs": [
    {
     "data": {
      "text/plain": [
       "GridSearchCV(cv=5, estimator=RandomForestClassifier(max_depth=4),\n",
       "             param_grid={'n_estimators': range(100, 1500, 400)},\n",
       "             scoring='accuracy')"
      ]
     },
     "execution_count": 12,
     "metadata": {},
     "output_type": "execute_result"
    }
   ],
   "source": [
    "# GridSearchCV to find optimal n_estimators\n",
    "from sklearn.model_selection import KFold\n",
    "from sklearn.model_selection import GridSearchCV\n",
    "\n",
    "\n",
    "# specify number of folds for k-fold CV\n",
    "n_folds = 5\n",
    "\n",
    "# parameters to build the model on\n",
    "parameters = {'n_estimators': range(100, 1500, 400)}\n",
    "\n",
    "# instantiate the model (note we are specifying a max_depth)\n",
    "rf = RandomForestClassifier(max_depth=4)\n",
    "\n",
    "\n",
    "# fit tree on training data\n",
    "rf = GridSearchCV(rf, parameters, \n",
    "                    cv=n_folds, \n",
    "                   scoring=\"accuracy\")\n",
    "rf.fit(X_train, Y_train)"
   ]
  },
  {
   "cell_type": "code",
   "execution_count": 13,
   "metadata": {
    "execution": {
     "iopub.execute_input": "2020-08-11T19:01:16.453279Z",
     "iopub.status.busy": "2020-08-11T19:01:16.452433Z",
     "iopub.status.idle": "2020-08-11T19:01:16.457448Z",
     "shell.execute_reply": "2020-08-11T19:01:16.456730Z"
    },
    "papermill": {
     "duration": 0.061528,
     "end_time": "2020-08-11T19:01:16.457573",
     "exception": false,
     "start_time": "2020-08-11T19:01:16.396045",
     "status": "completed"
    },
    "tags": []
   },
   "outputs": [
    {
     "data": {
      "text/html": [
       "<div>\n",
       "<style scoped>\n",
       "    .dataframe tbody tr th:only-of-type {\n",
       "        vertical-align: middle;\n",
       "    }\n",
       "\n",
       "    .dataframe tbody tr th {\n",
       "        vertical-align: top;\n",
       "    }\n",
       "\n",
       "    .dataframe thead th {\n",
       "        text-align: right;\n",
       "    }\n",
       "</style>\n",
       "<table border=\"1\" class=\"dataframe\">\n",
       "  <thead>\n",
       "    <tr style=\"text-align: right;\">\n",
       "      <th></th>\n",
       "      <th>mean_fit_time</th>\n",
       "      <th>std_fit_time</th>\n",
       "      <th>mean_score_time</th>\n",
       "      <th>std_score_time</th>\n",
       "      <th>param_n_estimators</th>\n",
       "      <th>params</th>\n",
       "      <th>split0_test_score</th>\n",
       "      <th>split1_test_score</th>\n",
       "      <th>split2_test_score</th>\n",
       "      <th>split3_test_score</th>\n",
       "      <th>split4_test_score</th>\n",
       "      <th>mean_test_score</th>\n",
       "      <th>std_test_score</th>\n",
       "      <th>rank_test_score</th>\n",
       "    </tr>\n",
       "  </thead>\n",
       "  <tbody>\n",
       "    <tr>\n",
       "      <th>0</th>\n",
       "      <td>1.687886</td>\n",
       "      <td>0.018590</td>\n",
       "      <td>0.041452</td>\n",
       "      <td>0.004002</td>\n",
       "      <td>100</td>\n",
       "      <td>{'n_estimators': 100}</td>\n",
       "      <td>0.811667</td>\n",
       "      <td>0.812619</td>\n",
       "      <td>0.811190</td>\n",
       "      <td>0.805000</td>\n",
       "      <td>0.809762</td>\n",
       "      <td>0.810048</td>\n",
       "      <td>0.002687</td>\n",
       "      <td>1</td>\n",
       "    </tr>\n",
       "    <tr>\n",
       "      <th>1</th>\n",
       "      <td>8.286857</td>\n",
       "      <td>0.057533</td>\n",
       "      <td>0.186105</td>\n",
       "      <td>0.007361</td>\n",
       "      <td>500</td>\n",
       "      <td>{'n_estimators': 500}</td>\n",
       "      <td>0.811429</td>\n",
       "      <td>0.814048</td>\n",
       "      <td>0.810238</td>\n",
       "      <td>0.806190</td>\n",
       "      <td>0.806905</td>\n",
       "      <td>0.809762</td>\n",
       "      <td>0.002908</td>\n",
       "      <td>2</td>\n",
       "    </tr>\n",
       "    <tr>\n",
       "      <th>2</th>\n",
       "      <td>14.903026</td>\n",
       "      <td>0.089655</td>\n",
       "      <td>0.348147</td>\n",
       "      <td>0.041183</td>\n",
       "      <td>900</td>\n",
       "      <td>{'n_estimators': 900}</td>\n",
       "      <td>0.810714</td>\n",
       "      <td>0.814048</td>\n",
       "      <td>0.811190</td>\n",
       "      <td>0.804048</td>\n",
       "      <td>0.807857</td>\n",
       "      <td>0.809571</td>\n",
       "      <td>0.003389</td>\n",
       "      <td>4</td>\n",
       "    </tr>\n",
       "    <tr>\n",
       "      <th>3</th>\n",
       "      <td>21.795272</td>\n",
       "      <td>0.422718</td>\n",
       "      <td>0.482577</td>\n",
       "      <td>0.007098</td>\n",
       "      <td>1300</td>\n",
       "      <td>{'n_estimators': 1300}</td>\n",
       "      <td>0.810952</td>\n",
       "      <td>0.813571</td>\n",
       "      <td>0.810952</td>\n",
       "      <td>0.805476</td>\n",
       "      <td>0.807381</td>\n",
       "      <td>0.809667</td>\n",
       "      <td>0.002875</td>\n",
       "      <td>3</td>\n",
       "    </tr>\n",
       "  </tbody>\n",
       "</table>\n",
       "</div>"
      ],
      "text/plain": [
       "   mean_fit_time  std_fit_time  mean_score_time  std_score_time  \\\n",
       "0       1.687886      0.018590         0.041452        0.004002   \n",
       "1       8.286857      0.057533         0.186105        0.007361   \n",
       "2      14.903026      0.089655         0.348147        0.041183   \n",
       "3      21.795272      0.422718         0.482577        0.007098   \n",
       "\n",
       "  param_n_estimators                  params  split0_test_score  \\\n",
       "0                100   {'n_estimators': 100}           0.811667   \n",
       "1                500   {'n_estimators': 500}           0.811429   \n",
       "2                900   {'n_estimators': 900}           0.810714   \n",
       "3               1300  {'n_estimators': 1300}           0.810952   \n",
       "\n",
       "   split1_test_score  split2_test_score  split3_test_score  split4_test_score  \\\n",
       "0           0.812619           0.811190           0.805000           0.809762   \n",
       "1           0.814048           0.810238           0.806190           0.806905   \n",
       "2           0.814048           0.811190           0.804048           0.807857   \n",
       "3           0.813571           0.810952           0.805476           0.807381   \n",
       "\n",
       "   mean_test_score  std_test_score  rank_test_score  \n",
       "0         0.810048        0.002687                1  \n",
       "1         0.809762        0.002908                2  \n",
       "2         0.809571        0.003389                4  \n",
       "3         0.809667        0.002875                3  "
      ]
     },
     "execution_count": 13,
     "metadata": {},
     "output_type": "execute_result"
    }
   ],
   "source": [
    "# scores of GridSearch CV\n",
    "scores = rf.cv_results_\n",
    "pd.DataFrame(scores).head()"
   ]
  },
  {
   "cell_type": "code",
   "execution_count": 14,
   "metadata": {
    "execution": {
     "iopub.execute_input": "2020-08-11T19:01:16.531630Z",
     "iopub.status.busy": "2020-08-11T19:01:16.530873Z",
     "iopub.status.idle": "2020-08-11T19:03:16.802713Z",
     "shell.execute_reply": "2020-08-11T19:03:16.803276Z"
    },
    "papermill": {
     "duration": 120.311129,
     "end_time": "2020-08-11T19:03:16.803486",
     "exception": false,
     "start_time": "2020-08-11T19:01:16.492357",
     "status": "completed"
    },
    "tags": []
   },
   "outputs": [
    {
     "data": {
      "text/plain": [
       "GridSearchCV(cv=5, estimator=RandomForestClassifier(max_depth=4),\n",
       "             param_grid={'max_features': [4, 8, 14, 20, 24]},\n",
       "             scoring='accuracy')"
      ]
     },
     "execution_count": 14,
     "metadata": {},
     "output_type": "execute_result"
    }
   ],
   "source": [
    "# GridSearchCV to find optimal max_features\n",
    "from sklearn.model_selection import KFold\n",
    "from sklearn.model_selection import GridSearchCV\n",
    "\n",
    "\n",
    "# specify number of folds for k-fold CV\n",
    "n_folds = 5\n",
    "\n",
    "# parameters to build the model on\n",
    "parameters = {'max_features': [4, 8, 14, 20, 24]}\n",
    "\n",
    "# instantiate the model\n",
    "rf = RandomForestClassifier(max_depth=4)\n",
    "\n",
    "\n",
    "# fit tree on training data\n",
    "rf = GridSearchCV(rf, parameters, \n",
    "                    cv=n_folds, \n",
    "                   scoring=\"accuracy\")\n",
    "rf.fit(X_train, Y_train)"
   ]
  },
  {
   "cell_type": "code",
   "execution_count": 15,
   "metadata": {
    "execution": {
     "iopub.execute_input": "2020-08-11T19:03:16.891920Z",
     "iopub.status.busy": "2020-08-11T19:03:16.890778Z",
     "iopub.status.idle": "2020-08-11T19:03:16.896934Z",
     "shell.execute_reply": "2020-08-11T19:03:16.896190Z"
    },
    "papermill": {
     "duration": 0.062077,
     "end_time": "2020-08-11T19:03:16.897064",
     "exception": false,
     "start_time": "2020-08-11T19:03:16.834987",
     "status": "completed"
    },
    "tags": []
   },
   "outputs": [
    {
     "data": {
      "text/html": [
       "<div>\n",
       "<style scoped>\n",
       "    .dataframe tbody tr th:only-of-type {\n",
       "        vertical-align: middle;\n",
       "    }\n",
       "\n",
       "    .dataframe tbody tr th {\n",
       "        vertical-align: top;\n",
       "    }\n",
       "\n",
       "    .dataframe thead th {\n",
       "        text-align: right;\n",
       "    }\n",
       "</style>\n",
       "<table border=\"1\" class=\"dataframe\">\n",
       "  <thead>\n",
       "    <tr style=\"text-align: right;\">\n",
       "      <th></th>\n",
       "      <th>mean_fit_time</th>\n",
       "      <th>std_fit_time</th>\n",
       "      <th>mean_score_time</th>\n",
       "      <th>std_score_time</th>\n",
       "      <th>param_max_features</th>\n",
       "      <th>params</th>\n",
       "      <th>split0_test_score</th>\n",
       "      <th>split1_test_score</th>\n",
       "      <th>split2_test_score</th>\n",
       "      <th>split3_test_score</th>\n",
       "      <th>split4_test_score</th>\n",
       "      <th>mean_test_score</th>\n",
       "      <th>std_test_score</th>\n",
       "      <th>rank_test_score</th>\n",
       "    </tr>\n",
       "  </thead>\n",
       "  <tbody>\n",
       "    <tr>\n",
       "      <th>0</th>\n",
       "      <td>1.681766</td>\n",
       "      <td>0.013912</td>\n",
       "      <td>0.039299</td>\n",
       "      <td>0.000360</td>\n",
       "      <td>4</td>\n",
       "      <td>{'max_features': 4}</td>\n",
       "      <td>0.809048</td>\n",
       "      <td>0.815238</td>\n",
       "      <td>0.810952</td>\n",
       "      <td>0.806905</td>\n",
       "      <td>0.807619</td>\n",
       "      <td>0.809952</td>\n",
       "      <td>0.002983</td>\n",
       "      <td>5</td>\n",
       "    </tr>\n",
       "    <tr>\n",
       "      <th>1</th>\n",
       "      <td>2.854023</td>\n",
       "      <td>0.016409</td>\n",
       "      <td>0.039236</td>\n",
       "      <td>0.000634</td>\n",
       "      <td>8</td>\n",
       "      <td>{'max_features': 8}</td>\n",
       "      <td>0.817381</td>\n",
       "      <td>0.821190</td>\n",
       "      <td>0.821190</td>\n",
       "      <td>0.817857</td>\n",
       "      <td>0.817381</td>\n",
       "      <td>0.819000</td>\n",
       "      <td>0.001797</td>\n",
       "      <td>1</td>\n",
       "    </tr>\n",
       "    <tr>\n",
       "      <th>2</th>\n",
       "      <td>4.621352</td>\n",
       "      <td>0.027150</td>\n",
       "      <td>0.038901</td>\n",
       "      <td>0.000291</td>\n",
       "      <td>14</td>\n",
       "      <td>{'max_features': 14}</td>\n",
       "      <td>0.817857</td>\n",
       "      <td>0.821429</td>\n",
       "      <td>0.819048</td>\n",
       "      <td>0.817381</td>\n",
       "      <td>0.818571</td>\n",
       "      <td>0.818857</td>\n",
       "      <td>0.001408</td>\n",
       "      <td>2</td>\n",
       "    </tr>\n",
       "    <tr>\n",
       "      <th>3</th>\n",
       "      <td>6.394748</td>\n",
       "      <td>0.026267</td>\n",
       "      <td>0.038946</td>\n",
       "      <td>0.000492</td>\n",
       "      <td>20</td>\n",
       "      <td>{'max_features': 20}</td>\n",
       "      <td>0.817619</td>\n",
       "      <td>0.820952</td>\n",
       "      <td>0.819048</td>\n",
       "      <td>0.816905</td>\n",
       "      <td>0.817619</td>\n",
       "      <td>0.818429</td>\n",
       "      <td>0.001441</td>\n",
       "      <td>4</td>\n",
       "    </tr>\n",
       "    <tr>\n",
       "      <th>4</th>\n",
       "      <td>7.568579</td>\n",
       "      <td>0.024036</td>\n",
       "      <td>0.038675</td>\n",
       "      <td>0.000252</td>\n",
       "      <td>24</td>\n",
       "      <td>{'max_features': 24}</td>\n",
       "      <td>0.817143</td>\n",
       "      <td>0.822381</td>\n",
       "      <td>0.819286</td>\n",
       "      <td>0.815476</td>\n",
       "      <td>0.818810</td>\n",
       "      <td>0.818619</td>\n",
       "      <td>0.002310</td>\n",
       "      <td>3</td>\n",
       "    </tr>\n",
       "  </tbody>\n",
       "</table>\n",
       "</div>"
      ],
      "text/plain": [
       "   mean_fit_time  std_fit_time  mean_score_time  std_score_time  \\\n",
       "0       1.681766      0.013912         0.039299        0.000360   \n",
       "1       2.854023      0.016409         0.039236        0.000634   \n",
       "2       4.621352      0.027150         0.038901        0.000291   \n",
       "3       6.394748      0.026267         0.038946        0.000492   \n",
       "4       7.568579      0.024036         0.038675        0.000252   \n",
       "\n",
       "  param_max_features                params  split0_test_score  \\\n",
       "0                  4   {'max_features': 4}           0.809048   \n",
       "1                  8   {'max_features': 8}           0.817381   \n",
       "2                 14  {'max_features': 14}           0.817857   \n",
       "3                 20  {'max_features': 20}           0.817619   \n",
       "4                 24  {'max_features': 24}           0.817143   \n",
       "\n",
       "   split1_test_score  split2_test_score  split3_test_score  split4_test_score  \\\n",
       "0           0.815238           0.810952           0.806905           0.807619   \n",
       "1           0.821190           0.821190           0.817857           0.817381   \n",
       "2           0.821429           0.819048           0.817381           0.818571   \n",
       "3           0.820952           0.819048           0.816905           0.817619   \n",
       "4           0.822381           0.819286           0.815476           0.818810   \n",
       "\n",
       "   mean_test_score  std_test_score  rank_test_score  \n",
       "0         0.809952        0.002983                5  \n",
       "1         0.819000        0.001797                1  \n",
       "2         0.818857        0.001408                2  \n",
       "3         0.818429        0.001441                4  \n",
       "4         0.818619        0.002310                3  "
      ]
     },
     "execution_count": 15,
     "metadata": {},
     "output_type": "execute_result"
    }
   ],
   "source": [
    "# scores of GridSearch CV\n",
    "scores = rf.cv_results_\n",
    "pd.DataFrame(scores).head()"
   ]
  },
  {
   "cell_type": "code",
   "execution_count": 16,
   "metadata": {
    "execution": {
     "iopub.execute_input": "2020-08-11T19:03:16.969769Z",
     "iopub.status.busy": "2020-08-11T19:03:16.968994Z",
     "iopub.status.idle": "2020-08-11T19:04:39.609683Z",
     "shell.execute_reply": "2020-08-11T19:04:39.610261Z"
    },
    "papermill": {
     "duration": 82.680409,
     "end_time": "2020-08-11T19:04:39.610446",
     "exception": false,
     "start_time": "2020-08-11T19:03:16.930037",
     "status": "completed"
    },
    "tags": []
   },
   "outputs": [
    {
     "data": {
      "text/plain": [
       "GridSearchCV(cv=5, estimator=RandomForestClassifier(),\n",
       "             param_grid={'min_samples_leaf': range(100, 400, 50)},\n",
       "             scoring='accuracy')"
      ]
     },
     "execution_count": 16,
     "metadata": {},
     "output_type": "execute_result"
    }
   ],
   "source": [
    "# GridSearchCV to find optimal min_samples_leaf\n",
    "from sklearn.model_selection import KFold\n",
    "from sklearn.model_selection import GridSearchCV\n",
    "\n",
    "\n",
    "# specify number of folds for k-fold CV\n",
    "n_folds = 5\n",
    "\n",
    "# parameters to build the model on\n",
    "parameters = {'min_samples_leaf': range(100, 400, 50)}\n",
    "\n",
    "# instantiate the model\n",
    "rf = RandomForestClassifier()\n",
    "\n",
    "\n",
    "# fit tree on training data\n",
    "rf = GridSearchCV(rf, parameters, \n",
    "                    cv=n_folds, \n",
    "                   scoring=\"accuracy\")\n",
    "rf.fit(X_train, Y_train)"
   ]
  },
  {
   "cell_type": "code",
   "execution_count": 17,
   "metadata": {
    "execution": {
     "iopub.execute_input": "2020-08-11T19:04:39.701886Z",
     "iopub.status.busy": "2020-08-11T19:04:39.700969Z",
     "iopub.status.idle": "2020-08-11T19:04:39.705353Z",
     "shell.execute_reply": "2020-08-11T19:04:39.705912Z"
    },
    "papermill": {
     "duration": 0.063173,
     "end_time": "2020-08-11T19:04:39.706081",
     "exception": false,
     "start_time": "2020-08-11T19:04:39.642908",
     "status": "completed"
    },
    "tags": []
   },
   "outputs": [
    {
     "data": {
      "text/html": [
       "<div>\n",
       "<style scoped>\n",
       "    .dataframe tbody tr th:only-of-type {\n",
       "        vertical-align: middle;\n",
       "    }\n",
       "\n",
       "    .dataframe tbody tr th {\n",
       "        vertical-align: top;\n",
       "    }\n",
       "\n",
       "    .dataframe thead th {\n",
       "        text-align: right;\n",
       "    }\n",
       "</style>\n",
       "<table border=\"1\" class=\"dataframe\">\n",
       "  <thead>\n",
       "    <tr style=\"text-align: right;\">\n",
       "      <th></th>\n",
       "      <th>mean_fit_time</th>\n",
       "      <th>std_fit_time</th>\n",
       "      <th>mean_score_time</th>\n",
       "      <th>std_score_time</th>\n",
       "      <th>param_min_samples_leaf</th>\n",
       "      <th>params</th>\n",
       "      <th>split0_test_score</th>\n",
       "      <th>split1_test_score</th>\n",
       "      <th>split2_test_score</th>\n",
       "      <th>split3_test_score</th>\n",
       "      <th>split4_test_score</th>\n",
       "      <th>mean_test_score</th>\n",
       "      <th>std_test_score</th>\n",
       "      <th>rank_test_score</th>\n",
       "    </tr>\n",
       "  </thead>\n",
       "  <tbody>\n",
       "    <tr>\n",
       "      <th>0</th>\n",
       "      <td>3.087231</td>\n",
       "      <td>0.031153</td>\n",
       "      <td>0.060276</td>\n",
       "      <td>0.000865</td>\n",
       "      <td>100</td>\n",
       "      <td>{'min_samples_leaf': 100}</td>\n",
       "      <td>0.816667</td>\n",
       "      <td>0.816429</td>\n",
       "      <td>0.813571</td>\n",
       "      <td>0.813571</td>\n",
       "      <td>0.810476</td>\n",
       "      <td>0.814143</td>\n",
       "      <td>0.002267</td>\n",
       "      <td>1</td>\n",
       "    </tr>\n",
       "    <tr>\n",
       "      <th>1</th>\n",
       "      <td>2.778287</td>\n",
       "      <td>0.045042</td>\n",
       "      <td>0.056128</td>\n",
       "      <td>0.000209</td>\n",
       "      <td>150</td>\n",
       "      <td>{'min_samples_leaf': 150}</td>\n",
       "      <td>0.809762</td>\n",
       "      <td>0.820238</td>\n",
       "      <td>0.810714</td>\n",
       "      <td>0.805000</td>\n",
       "      <td>0.807619</td>\n",
       "      <td>0.810667</td>\n",
       "      <td>0.005174</td>\n",
       "      <td>2</td>\n",
       "    </tr>\n",
       "    <tr>\n",
       "      <th>2</th>\n",
       "      <td>2.579761</td>\n",
       "      <td>0.023189</td>\n",
       "      <td>0.054499</td>\n",
       "      <td>0.001563</td>\n",
       "      <td>200</td>\n",
       "      <td>{'min_samples_leaf': 200}</td>\n",
       "      <td>0.810952</td>\n",
       "      <td>0.814048</td>\n",
       "      <td>0.811429</td>\n",
       "      <td>0.805476</td>\n",
       "      <td>0.808810</td>\n",
       "      <td>0.810143</td>\n",
       "      <td>0.002867</td>\n",
       "      <td>3</td>\n",
       "    </tr>\n",
       "    <tr>\n",
       "      <th>3</th>\n",
       "      <td>2.436808</td>\n",
       "      <td>0.028102</td>\n",
       "      <td>0.061440</td>\n",
       "      <td>0.013069</td>\n",
       "      <td>250</td>\n",
       "      <td>{'min_samples_leaf': 250}</td>\n",
       "      <td>0.811190</td>\n",
       "      <td>0.813810</td>\n",
       "      <td>0.810238</td>\n",
       "      <td>0.805000</td>\n",
       "      <td>0.808095</td>\n",
       "      <td>0.809667</td>\n",
       "      <td>0.002968</td>\n",
       "      <td>4</td>\n",
       "    </tr>\n",
       "    <tr>\n",
       "      <th>4</th>\n",
       "      <td>2.324059</td>\n",
       "      <td>0.036253</td>\n",
       "      <td>0.051267</td>\n",
       "      <td>0.001084</td>\n",
       "      <td>300</td>\n",
       "      <td>{'min_samples_leaf': 300}</td>\n",
       "      <td>0.808810</td>\n",
       "      <td>0.809762</td>\n",
       "      <td>0.807619</td>\n",
       "      <td>0.805238</td>\n",
       "      <td>0.803333</td>\n",
       "      <td>0.806952</td>\n",
       "      <td>0.002359</td>\n",
       "      <td>5</td>\n",
       "    </tr>\n",
       "  </tbody>\n",
       "</table>\n",
       "</div>"
      ],
      "text/plain": [
       "   mean_fit_time  std_fit_time  mean_score_time  std_score_time  \\\n",
       "0       3.087231      0.031153         0.060276        0.000865   \n",
       "1       2.778287      0.045042         0.056128        0.000209   \n",
       "2       2.579761      0.023189         0.054499        0.001563   \n",
       "3       2.436808      0.028102         0.061440        0.013069   \n",
       "4       2.324059      0.036253         0.051267        0.001084   \n",
       "\n",
       "  param_min_samples_leaf                     params  split0_test_score  \\\n",
       "0                    100  {'min_samples_leaf': 100}           0.816667   \n",
       "1                    150  {'min_samples_leaf': 150}           0.809762   \n",
       "2                    200  {'min_samples_leaf': 200}           0.810952   \n",
       "3                    250  {'min_samples_leaf': 250}           0.811190   \n",
       "4                    300  {'min_samples_leaf': 300}           0.808810   \n",
       "\n",
       "   split1_test_score  split2_test_score  split3_test_score  split4_test_score  \\\n",
       "0           0.816429           0.813571           0.813571           0.810476   \n",
       "1           0.820238           0.810714           0.805000           0.807619   \n",
       "2           0.814048           0.811429           0.805476           0.808810   \n",
       "3           0.813810           0.810238           0.805000           0.808095   \n",
       "4           0.809762           0.807619           0.805238           0.803333   \n",
       "\n",
       "   mean_test_score  std_test_score  rank_test_score  \n",
       "0         0.814143        0.002267                1  \n",
       "1         0.810667        0.005174                2  \n",
       "2         0.810143        0.002867                3  \n",
       "3         0.809667        0.002968                4  \n",
       "4         0.806952        0.002359                5  "
      ]
     },
     "execution_count": 17,
     "metadata": {},
     "output_type": "execute_result"
    }
   ],
   "source": [
    "# scores of GridSearch CV\n",
    "scores = rf.cv_results_\n",
    "pd.DataFrame(scores).head()"
   ]
  },
  {
   "cell_type": "code",
   "execution_count": 18,
   "metadata": {
    "execution": {
     "iopub.execute_input": "2020-08-11T19:04:39.780507Z",
     "iopub.status.busy": "2020-08-11T19:04:39.779760Z",
     "iopub.status.idle": "2020-08-11T19:06:46.728908Z",
     "shell.execute_reply": "2020-08-11T19:06:46.729518Z"
    },
    "papermill": {
     "duration": 126.9902,
     "end_time": "2020-08-11T19:06:46.729686",
     "exception": false,
     "start_time": "2020-08-11T19:04:39.739486",
     "status": "completed"
    },
    "tags": []
   },
   "outputs": [
    {
     "data": {
      "text/plain": [
       "GridSearchCV(cv=5, estimator=RandomForestClassifier(),\n",
       "             param_grid={'min_samples_split': range(200, 500, 50)},\n",
       "             scoring='accuracy')"
      ]
     },
     "execution_count": 18,
     "metadata": {},
     "output_type": "execute_result"
    }
   ],
   "source": [
    "# GridSearchCV to find optimal min_samples_split\n",
    "from sklearn.model_selection import KFold\n",
    "from sklearn.model_selection import GridSearchCV\n",
    "\n",
    "\n",
    "# specify number of folds for k-fold CV\n",
    "n_folds = 5\n",
    "\n",
    "# parameters to build the model on\n",
    "parameters = {'min_samples_split': range(200, 500, 50)}\n",
    "\n",
    "# instantiate the model\n",
    "rf = RandomForestClassifier()\n",
    "\n",
    "\n",
    "# fit tree on training data\n",
    "rf = GridSearchCV(rf, parameters, \n",
    "                    cv=n_folds, \n",
    "                   scoring=\"accuracy\")\n",
    "rf.fit(X_train, Y_train)"
   ]
  },
  {
   "cell_type": "code",
   "execution_count": 19,
   "metadata": {
    "execution": {
     "iopub.execute_input": "2020-08-11T19:06:46.824257Z",
     "iopub.status.busy": "2020-08-11T19:06:46.823264Z",
     "iopub.status.idle": "2020-08-11T19:06:46.828481Z",
     "shell.execute_reply": "2020-08-11T19:06:46.827841Z"
    },
    "papermill": {
     "duration": 0.065263,
     "end_time": "2020-08-11T19:06:46.828610",
     "exception": false,
     "start_time": "2020-08-11T19:06:46.763347",
     "status": "completed"
    },
    "tags": []
   },
   "outputs": [
    {
     "data": {
      "text/html": [
       "<div>\n",
       "<style scoped>\n",
       "    .dataframe tbody tr th:only-of-type {\n",
       "        vertical-align: middle;\n",
       "    }\n",
       "\n",
       "    .dataframe tbody tr th {\n",
       "        vertical-align: top;\n",
       "    }\n",
       "\n",
       "    .dataframe thead th {\n",
       "        text-align: right;\n",
       "    }\n",
       "</style>\n",
       "<table border=\"1\" class=\"dataframe\">\n",
       "  <thead>\n",
       "    <tr style=\"text-align: right;\">\n",
       "      <th></th>\n",
       "      <th>mean_fit_time</th>\n",
       "      <th>std_fit_time</th>\n",
       "      <th>mean_score_time</th>\n",
       "      <th>std_score_time</th>\n",
       "      <th>param_min_samples_split</th>\n",
       "      <th>params</th>\n",
       "      <th>split0_test_score</th>\n",
       "      <th>split1_test_score</th>\n",
       "      <th>split2_test_score</th>\n",
       "      <th>split3_test_score</th>\n",
       "      <th>split4_test_score</th>\n",
       "      <th>mean_test_score</th>\n",
       "      <th>std_test_score</th>\n",
       "      <th>rank_test_score</th>\n",
       "    </tr>\n",
       "  </thead>\n",
       "  <tbody>\n",
       "    <tr>\n",
       "      <th>0</th>\n",
       "      <td>4.077951</td>\n",
       "      <td>0.032916</td>\n",
       "      <td>0.066871</td>\n",
       "      <td>0.000558</td>\n",
       "      <td>200</td>\n",
       "      <td>{'min_samples_split': 200}</td>\n",
       "      <td>0.817381</td>\n",
       "      <td>0.822857</td>\n",
       "      <td>0.821667</td>\n",
       "      <td>0.815000</td>\n",
       "      <td>0.818810</td>\n",
       "      <td>0.819143</td>\n",
       "      <td>0.002848</td>\n",
       "      <td>1</td>\n",
       "    </tr>\n",
       "    <tr>\n",
       "      <th>1</th>\n",
       "      <td>3.935510</td>\n",
       "      <td>0.053491</td>\n",
       "      <td>0.064090</td>\n",
       "      <td>0.000432</td>\n",
       "      <td>250</td>\n",
       "      <td>{'min_samples_split': 250}</td>\n",
       "      <td>0.818571</td>\n",
       "      <td>0.821190</td>\n",
       "      <td>0.822143</td>\n",
       "      <td>0.815952</td>\n",
       "      <td>0.816667</td>\n",
       "      <td>0.818905</td>\n",
       "      <td>0.002431</td>\n",
       "      <td>2</td>\n",
       "    </tr>\n",
       "    <tr>\n",
       "      <th>2</th>\n",
       "      <td>3.800657</td>\n",
       "      <td>0.029979</td>\n",
       "      <td>0.062514</td>\n",
       "      <td>0.000907</td>\n",
       "      <td>300</td>\n",
       "      <td>{'min_samples_split': 300}</td>\n",
       "      <td>0.818333</td>\n",
       "      <td>0.820476</td>\n",
       "      <td>0.820238</td>\n",
       "      <td>0.815238</td>\n",
       "      <td>0.816667</td>\n",
       "      <td>0.818190</td>\n",
       "      <td>0.002024</td>\n",
       "      <td>5</td>\n",
       "    </tr>\n",
       "    <tr>\n",
       "      <th>3</th>\n",
       "      <td>3.696625</td>\n",
       "      <td>0.025896</td>\n",
       "      <td>0.060976</td>\n",
       "      <td>0.000461</td>\n",
       "      <td>350</td>\n",
       "      <td>{'min_samples_split': 350}</td>\n",
       "      <td>0.818810</td>\n",
       "      <td>0.820476</td>\n",
       "      <td>0.820238</td>\n",
       "      <td>0.816667</td>\n",
       "      <td>0.818095</td>\n",
       "      <td>0.818857</td>\n",
       "      <td>0.001408</td>\n",
       "      <td>3</td>\n",
       "    </tr>\n",
       "    <tr>\n",
       "      <th>4</th>\n",
       "      <td>4.939966</td>\n",
       "      <td>1.741297</td>\n",
       "      <td>0.086026</td>\n",
       "      <td>0.054103</td>\n",
       "      <td>400</td>\n",
       "      <td>{'min_samples_split': 400}</td>\n",
       "      <td>0.817857</td>\n",
       "      <td>0.819524</td>\n",
       "      <td>0.820476</td>\n",
       "      <td>0.814762</td>\n",
       "      <td>0.816190</td>\n",
       "      <td>0.817762</td>\n",
       "      <td>0.002095</td>\n",
       "      <td>6</td>\n",
       "    </tr>\n",
       "  </tbody>\n",
       "</table>\n",
       "</div>"
      ],
      "text/plain": [
       "   mean_fit_time  std_fit_time  mean_score_time  std_score_time  \\\n",
       "0       4.077951      0.032916         0.066871        0.000558   \n",
       "1       3.935510      0.053491         0.064090        0.000432   \n",
       "2       3.800657      0.029979         0.062514        0.000907   \n",
       "3       3.696625      0.025896         0.060976        0.000461   \n",
       "4       4.939966      1.741297         0.086026        0.054103   \n",
       "\n",
       "  param_min_samples_split                      params  split0_test_score  \\\n",
       "0                     200  {'min_samples_split': 200}           0.817381   \n",
       "1                     250  {'min_samples_split': 250}           0.818571   \n",
       "2                     300  {'min_samples_split': 300}           0.818333   \n",
       "3                     350  {'min_samples_split': 350}           0.818810   \n",
       "4                     400  {'min_samples_split': 400}           0.817857   \n",
       "\n",
       "   split1_test_score  split2_test_score  split3_test_score  split4_test_score  \\\n",
       "0           0.822857           0.821667           0.815000           0.818810   \n",
       "1           0.821190           0.822143           0.815952           0.816667   \n",
       "2           0.820476           0.820238           0.815238           0.816667   \n",
       "3           0.820476           0.820238           0.816667           0.818095   \n",
       "4           0.819524           0.820476           0.814762           0.816190   \n",
       "\n",
       "   mean_test_score  std_test_score  rank_test_score  \n",
       "0         0.819143        0.002848                1  \n",
       "1         0.818905        0.002431                2  \n",
       "2         0.818190        0.002024                5  \n",
       "3         0.818857        0.001408                3  \n",
       "4         0.817762        0.002095                6  "
      ]
     },
     "execution_count": 19,
     "metadata": {},
     "output_type": "execute_result"
    }
   ],
   "source": [
    "# scores of GridSearch CV\n",
    "scores = rf.cv_results_\n",
    "pd.DataFrame(scores).head()"
   ]
  },
  {
   "cell_type": "code",
   "execution_count": 20,
   "metadata": {
    "execution": {
     "iopub.execute_input": "2020-08-11T19:06:46.906210Z",
     "iopub.status.busy": "2020-08-11T19:06:46.905496Z",
     "iopub.status.idle": "2020-08-11T19:06:46.908843Z",
     "shell.execute_reply": "2020-08-11T19:06:46.908175Z"
    },
    "papermill": {
     "duration": 0.045632,
     "end_time": "2020-08-11T19:06:46.908971",
     "exception": false,
     "start_time": "2020-08-11T19:06:46.863339",
     "status": "completed"
    },
    "tags": []
   },
   "outputs": [],
   "source": [
    "# Create the parameter grid based on the results of random search \n",
    "param_grid = {\n",
    "    'max_depth': [4,8,10],\n",
    "    'min_samples_leaf': range(100, 400, 200),\n",
    "    'min_samples_split': range(200, 500, 200),\n",
    "    'n_estimators': [100,200, 300], \n",
    "    'max_features': [5, 10]\n",
    "}\n",
    "# Create a based model\n",
    "rf = RandomForestClassifier()\n",
    "# Instantiate the grid search model\n",
    "grid_search = GridSearchCV(estimator = rf, param_grid = param_grid, \n",
    "                          cv = 3, n_jobs = -1,verbose = 1)"
   ]
  },
  {
   "cell_type": "code",
   "execution_count": 21,
   "metadata": {
    "execution": {
     "iopub.execute_input": "2020-08-11T19:06:46.983452Z",
     "iopub.status.busy": "2020-08-11T19:06:46.982711Z",
     "iopub.status.idle": "2020-08-11T19:14:35.344752Z",
     "shell.execute_reply": "2020-08-11T19:14:35.344135Z"
    },
    "papermill": {
     "duration": 468.401327,
     "end_time": "2020-08-11T19:14:35.344903",
     "exception": false,
     "start_time": "2020-08-11T19:06:46.943576",
     "status": "completed"
    },
    "tags": []
   },
   "outputs": [
    {
     "name": "stdout",
     "output_type": "stream",
     "text": [
      "Fitting 3 folds for each of 72 candidates, totalling 216 fits\n"
     ]
    },
    {
     "name": "stderr",
     "output_type": "stream",
     "text": [
      "[Parallel(n_jobs=-1)]: Using backend LokyBackend with 4 concurrent workers.\n",
      "[Parallel(n_jobs=-1)]: Done  42 tasks      | elapsed:   55.2s\n",
      "[Parallel(n_jobs=-1)]: Done 192 tasks      | elapsed:  6.4min\n",
      "[Parallel(n_jobs=-1)]: Done 216 out of 216 | elapsed:  7.7min finished\n"
     ]
    },
    {
     "data": {
      "text/plain": [
       "GridSearchCV(cv=3, estimator=RandomForestClassifier(), n_jobs=-1,\n",
       "             param_grid={'max_depth': [4, 8, 10], 'max_features': [5, 10],\n",
       "                         'min_samples_leaf': range(100, 400, 200),\n",
       "                         'min_samples_split': range(200, 500, 200),\n",
       "                         'n_estimators': [100, 200, 300]},\n",
       "             verbose=1)"
      ]
     },
     "execution_count": 21,
     "metadata": {},
     "output_type": "execute_result"
    }
   ],
   "source": [
    "# Fit the grid search to the data\n",
    "grid_search.fit(X_train, Y_train)"
   ]
  },
  {
   "cell_type": "code",
   "execution_count": 22,
   "metadata": {
    "execution": {
     "iopub.execute_input": "2020-08-11T19:14:35.426667Z",
     "iopub.status.busy": "2020-08-11T19:14:35.425626Z",
     "iopub.status.idle": "2020-08-11T19:14:35.432083Z",
     "shell.execute_reply": "2020-08-11T19:14:35.431153Z"
    },
    "papermill": {
     "duration": 0.049541,
     "end_time": "2020-08-11T19:14:35.432236",
     "exception": false,
     "start_time": "2020-08-11T19:14:35.382695",
     "status": "completed"
    },
    "tags": []
   },
   "outputs": [
    {
     "name": "stdout",
     "output_type": "stream",
     "text": [
      "We can get accuracy of 0.8183809523809523 using {'max_depth': 4, 'max_features': 10, 'min_samples_leaf': 100, 'min_samples_split': 200, 'n_estimators': 200}\n"
     ]
    }
   ],
   "source": [
    "# printing the optimal accuracy score and hyperparameters\n",
    "print('We can get accuracy of',grid_search.best_score_,'using',grid_search.best_params_)"
   ]
  },
  {
   "cell_type": "code",
   "execution_count": 23,
   "metadata": {
    "execution": {
     "iopub.execute_input": "2020-08-11T19:14:35.515201Z",
     "iopub.status.busy": "2020-08-11T19:14:35.514501Z",
     "iopub.status.idle": "2020-08-11T19:14:35.517484Z",
     "shell.execute_reply": "2020-08-11T19:14:35.518101Z"
    },
    "papermill": {
     "duration": 0.047613,
     "end_time": "2020-08-11T19:14:35.518246",
     "exception": false,
     "start_time": "2020-08-11T19:14:35.470633",
     "status": "completed"
    },
    "tags": []
   },
   "outputs": [],
   "source": [
    "# model with the best hyperparameters\n",
    "from sklearn.ensemble import RandomForestClassifier\n",
    "rfc = RandomForestClassifier(bootstrap=True,\n",
    "                             max_depth=10,\n",
    "                             min_samples_leaf=100, \n",
    "                             min_samples_split=200,\n",
    "                             max_features=10,\n",
    "                             n_estimators=100)"
   ]
  },
  {
   "cell_type": "code",
   "execution_count": 24,
   "metadata": {
    "execution": {
     "iopub.execute_input": "2020-08-11T19:14:35.602665Z",
     "iopub.status.busy": "2020-08-11T19:14:35.601919Z",
     "iopub.status.idle": "2020-08-11T19:14:43.662167Z",
     "shell.execute_reply": "2020-08-11T19:14:43.662715Z"
    },
    "papermill": {
     "duration": 8.1063,
     "end_time": "2020-08-11T19:14:43.662881",
     "exception": false,
     "start_time": "2020-08-11T19:14:35.556581",
     "status": "completed"
    },
    "tags": []
   },
   "outputs": [
    {
     "data": {
      "text/plain": [
       "RandomForestClassifier(max_depth=10, max_features=10, min_samples_leaf=100,\n",
       "                       min_samples_split=200)"
      ]
     },
     "execution_count": 24,
     "metadata": {},
     "output_type": "execute_result"
    }
   ],
   "source": [
    "# fit\n",
    "rfc.fit(X_train,Y_train)"
   ]
  },
  {
   "cell_type": "code",
   "execution_count": 25,
   "metadata": {
    "execution": {
     "iopub.execute_input": "2020-08-11T19:14:43.748772Z",
     "iopub.status.busy": "2020-08-11T19:14:43.748015Z",
     "iopub.status.idle": "2020-08-11T19:14:43.854256Z",
     "shell.execute_reply": "2020-08-11T19:14:43.853601Z"
    },
    "papermill": {
     "duration": 0.152016,
     "end_time": "2020-08-11T19:14:43.854399",
     "exception": false,
     "start_time": "2020-08-11T19:14:43.702383",
     "status": "completed"
    },
    "tags": []
   },
   "outputs": [],
   "source": [
    "# predict\n",
    "predictions = rfc.predict(X_test)"
   ]
  },
  {
   "cell_type": "code",
   "execution_count": 26,
   "metadata": {
    "execution": {
     "iopub.execute_input": "2020-08-11T19:14:43.938550Z",
     "iopub.status.busy": "2020-08-11T19:14:43.937473Z",
     "iopub.status.idle": "2020-08-11T19:14:43.940887Z",
     "shell.execute_reply": "2020-08-11T19:14:43.940143Z"
    },
    "papermill": {
     "duration": 0.047208,
     "end_time": "2020-08-11T19:14:43.941007",
     "exception": false,
     "start_time": "2020-08-11T19:14:43.893799",
     "status": "completed"
    },
    "tags": []
   },
   "outputs": [],
   "source": [
    "# evaluation metrics\n",
    "from sklearn.metrics import classification_report,confusion_matrix"
   ]
  },
  {
   "cell_type": "code",
   "execution_count": 27,
   "metadata": {
    "execution": {
     "iopub.execute_input": "2020-08-11T19:14:44.025008Z",
     "iopub.status.busy": "2020-08-11T19:14:44.024217Z",
     "iopub.status.idle": "2020-08-11T19:14:44.046213Z",
     "shell.execute_reply": "2020-08-11T19:14:44.046999Z"
    },
    "papermill": {
     "duration": 0.067035,
     "end_time": "2020-08-11T19:14:44.047197",
     "exception": false,
     "start_time": "2020-08-11T19:14:43.980162",
     "status": "completed"
    },
    "tags": []
   },
   "outputs": [
    {
     "name": "stdout",
     "output_type": "stream",
     "text": [
      "              precision    recall  f1-score   support\n",
      "\n",
      "           0       0.84      0.96      0.90      7058\n",
      "           1       0.70      0.36      0.47      1942\n",
      "\n",
      "    accuracy                           0.83      9000\n",
      "   macro avg       0.77      0.66      0.68      9000\n",
      "weighted avg       0.81      0.83      0.81      9000\n",
      "\n"
     ]
    }
   ],
   "source": [
    "print(classification_report(Y_test,predictions))"
   ]
  },
  {
   "cell_type": "code",
   "execution_count": 28,
   "metadata": {
    "execution": {
     "iopub.execute_input": "2020-08-11T19:14:44.133377Z",
     "iopub.status.busy": "2020-08-11T19:14:44.132631Z",
     "iopub.status.idle": "2020-08-11T19:14:44.153956Z",
     "shell.execute_reply": "2020-08-11T19:14:44.154512Z"
    },
    "papermill": {
     "duration": 0.066989,
     "end_time": "2020-08-11T19:14:44.154678",
     "exception": false,
     "start_time": "2020-08-11T19:14:44.087689",
     "status": "completed"
    },
    "tags": []
   },
   "outputs": [
    {
     "name": "stdout",
     "output_type": "stream",
     "text": [
      "[[6757  301]\n",
      " [1249  693]]\n"
     ]
    }
   ],
   "source": [
    "print(confusion_matrix(Y_test,predictions))"
   ]
  },
  {
   "cell_type": "code",
   "execution_count": 29,
   "metadata": {
    "execution": {
     "iopub.execute_input": "2020-08-11T19:14:44.242011Z",
     "iopub.status.busy": "2020-08-11T19:14:44.241099Z",
     "iopub.status.idle": "2020-08-11T19:14:44.244707Z",
     "shell.execute_reply": "2020-08-11T19:14:44.245254Z"
    },
    "papermill": {
     "duration": 0.050429,
     "end_time": "2020-08-11T19:14:44.245438",
     "exception": false,
     "start_time": "2020-08-11T19:14:44.195009",
     "status": "completed"
    },
    "tags": []
   },
   "outputs": [
    {
     "data": {
      "text/plain": [
       "0.8267777777777777"
      ]
     },
     "execution_count": 29,
     "metadata": {},
     "output_type": "execute_result"
    }
   ],
   "source": [
    "((6752+689)/(6752+306+1253+689))"
   ]
  },
  {
   "cell_type": "markdown",
   "execution_count": null,
   "metadata": {
    "papermill": {
     "duration": 0.041309,
     "end_time": "2020-08-11T19:14:44.327894",
     "exception": false,
     "start_time": "2020-08-11T19:14:44.286585",
     "status": "completed"
    },
    "tags": []
   },
   "source": [
    "# ** Final Model Accuracy : 82% **"
   ]
  }
 ],
 "metadata": {
  "kernelspec": {
   "display_name": "Python 3",
   "language": "python",
   "name": "python3"
  },
  "language_info": {
   "codemirror_mode": {
    "name": "ipython",
    "version": 3
   },
   "file_extension": ".py",
   "mimetype": "text/x-python",
   "name": "python",
   "nbconvert_exporter": "python",
   "pygments_lexer": "ipython3",
   "version": "3.7.6"
  },
  "papermill": {
   "duration": 1129.118694,
   "end_time": "2020-08-11T19:14:44.482507",
   "environment_variables": {},
   "exception": null,
   "input_path": "__notebook__.ipynb",
   "output_path": "__notebook__.ipynb",
   "parameters": {},
   "start_time": "2020-08-11T18:55:55.363813",
   "version": "2.1.0"
  }
 },
 "nbformat": 4,
 "nbformat_minor": 4
}
