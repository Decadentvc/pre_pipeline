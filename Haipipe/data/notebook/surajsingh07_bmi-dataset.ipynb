{
 "cells": [
  {
   "cell_type": "code",
   "execution_count": 1,
   "metadata": {
    "_cell_guid": "b1076dfc-b9ad-4769-8c92-a6c4dae69d19",
    "_uuid": "8f2839f25d086af736a60e9eeb907d3b93b6e0e5",
    "execution": {
     "iopub.execute_input": "2020-10-05T10:04:56.134059Z",
     "iopub.status.busy": "2020-10-05T10:04:56.133125Z",
     "iopub.status.idle": "2020-10-05T10:04:56.149344Z",
     "shell.execute_reply": "2020-10-05T10:04:56.148300Z"
    },
    "papermill": {
     "duration": 0.040915,
     "end_time": "2020-10-05T10:04:56.149592",
     "exception": false,
     "start_time": "2020-10-05T10:04:56.108677",
     "status": "completed"
    },
    "tags": []
   },
   "outputs": [
    {
     "name": "stdout",
     "output_type": "stream",
     "text": [
      "/kaggle/input/500-person-gender-height-weight-bodymassindex/500_Person_Gender_Height_Weight_Index.csv\n"
     ]
    }
   ],
   "source": [
    "# This Python 3 environment comes with many helpful analytics libraries installed\n",
    "# It is defined by the kaggle/python Docker image: https://github.com/kaggle/docker-python\n",
    "# For example, here's several helpful packages to load\n",
    "\n",
    "import numpy as np # linear algebra\n",
    "import pandas as pd # data processing, CSV file I/O (e.g. pd.read_csv)\n",
    "\n",
    "# Input data files are available in the read-only \"../input/\" directory\n",
    "# For example, running this (by clicking run or pressing Shift+Enter) will list all files under the input directory\n",
    "\n",
    "import os\n",
    "for dirname, _, filenames in os.walk('/kaggle/input'):\n",
    "    for filename in filenames:\n",
    "        print(os.path.join(dirname, filename))\n",
    "\n",
    "# You can write up to 5GB to the current directory (/kaggle/working/) that gets preserved as output when you create a version using \"Save & Run All\" \n",
    "# You can also write temporary files to /kaggle/temp/, but they won't be saved outside of the current session"
   ]
  },
  {
   "cell_type": "markdown",
   "metadata": {
    "papermill": {
     "duration": 0.016285,
     "end_time": "2020-10-05T10:04:56.183906",
     "exception": false,
     "start_time": "2020-10-05T10:04:56.167621",
     "status": "completed"
    },
    "tags": []
   },
   "source": [
    "# Loading the data"
   ]
  },
  {
   "cell_type": "code",
   "execution_count": 2,
   "metadata": {
    "_cell_guid": "79c7e3d0-c299-4dcb-8224-4455121ee9b0",
    "_uuid": "d629ff2d2480ee46fbb7e2d37f6b5fab8052498a",
    "execution": {
     "iopub.execute_input": "2020-10-05T10:04:56.230852Z",
     "iopub.status.busy": "2020-10-05T10:04:56.228997Z",
     "iopub.status.idle": "2020-10-05T10:04:56.242944Z",
     "shell.execute_reply": "2020-10-05T10:04:56.241980Z"
    },
    "papermill": {
     "duration": 0.040008,
     "end_time": "2020-10-05T10:04:56.243094",
     "exception": false,
     "start_time": "2020-10-05T10:04:56.203086",
     "status": "completed"
    },
    "tags": []
   },
   "outputs": [],
   "source": [
    "data = pd.read_csv('/kaggle/input/500-person-gender-height-weight-bodymassindex/500_Person_Gender_Height_Weight_Index.csv')"
   ]
  },
  {
   "cell_type": "markdown",
   "metadata": {
    "papermill": {
     "duration": 0.015843,
     "end_time": "2020-10-05T10:04:56.277604",
     "exception": false,
     "start_time": "2020-10-05T10:04:56.261761",
     "status": "completed"
    },
    "tags": []
   },
   "source": [
    "# Exploratory Data Analysis"
   ]
  },
  {
   "cell_type": "code",
   "execution_count": 3,
   "metadata": {
    "execution": {
     "iopub.execute_input": "2020-10-05T10:04:56.328852Z",
     "iopub.status.busy": "2020-10-05T10:04:56.326153Z",
     "iopub.status.idle": "2020-10-05T10:04:56.339151Z",
     "shell.execute_reply": "2020-10-05T10:04:56.338294Z"
    },
    "papermill": {
     "duration": 0.045478,
     "end_time": "2020-10-05T10:04:56.339292",
     "exception": false,
     "start_time": "2020-10-05T10:04:56.293814",
     "status": "completed"
    },
    "tags": []
   },
   "outputs": [
    {
     "data": {
      "text/html": [
       "<div>\n",
       "<style scoped>\n",
       "    .dataframe tbody tr th:only-of-type {\n",
       "        vertical-align: middle;\n",
       "    }\n",
       "\n",
       "    .dataframe tbody tr th {\n",
       "        vertical-align: top;\n",
       "    }\n",
       "\n",
       "    .dataframe thead th {\n",
       "        text-align: right;\n",
       "    }\n",
       "</style>\n",
       "<table border=\"1\" class=\"dataframe\">\n",
       "  <thead>\n",
       "    <tr style=\"text-align: right;\">\n",
       "      <th></th>\n",
       "      <th>Gender</th>\n",
       "      <th>Height</th>\n",
       "      <th>Weight</th>\n",
       "      <th>Index</th>\n",
       "    </tr>\n",
       "  </thead>\n",
       "  <tbody>\n",
       "    <tr>\n",
       "      <th>0</th>\n",
       "      <td>Male</td>\n",
       "      <td>174</td>\n",
       "      <td>96</td>\n",
       "      <td>4</td>\n",
       "    </tr>\n",
       "    <tr>\n",
       "      <th>1</th>\n",
       "      <td>Male</td>\n",
       "      <td>189</td>\n",
       "      <td>87</td>\n",
       "      <td>2</td>\n",
       "    </tr>\n",
       "    <tr>\n",
       "      <th>2</th>\n",
       "      <td>Female</td>\n",
       "      <td>185</td>\n",
       "      <td>110</td>\n",
       "      <td>4</td>\n",
       "    </tr>\n",
       "    <tr>\n",
       "      <th>3</th>\n",
       "      <td>Female</td>\n",
       "      <td>195</td>\n",
       "      <td>104</td>\n",
       "      <td>3</td>\n",
       "    </tr>\n",
       "    <tr>\n",
       "      <th>4</th>\n",
       "      <td>Male</td>\n",
       "      <td>149</td>\n",
       "      <td>61</td>\n",
       "      <td>3</td>\n",
       "    </tr>\n",
       "  </tbody>\n",
       "</table>\n",
       "</div>"
      ],
      "text/plain": [
       "   Gender  Height  Weight  Index\n",
       "0    Male     174      96      4\n",
       "1    Male     189      87      2\n",
       "2  Female     185     110      4\n",
       "3  Female     195     104      3\n",
       "4    Male     149      61      3"
      ]
     },
     "execution_count": 3,
     "metadata": {},
     "output_type": "execute_result"
    }
   ],
   "source": [
    "data.head()"
   ]
  },
  {
   "cell_type": "code",
   "execution_count": 4,
   "metadata": {
    "execution": {
     "iopub.execute_input": "2020-10-05T10:04:56.391353Z",
     "iopub.status.busy": "2020-10-05T10:04:56.390538Z",
     "iopub.status.idle": "2020-10-05T10:04:56.409998Z",
     "shell.execute_reply": "2020-10-05T10:04:56.410609Z"
    },
    "papermill": {
     "duration": 0.053966,
     "end_time": "2020-10-05T10:04:56.410905",
     "exception": false,
     "start_time": "2020-10-05T10:04:56.356939",
     "status": "completed"
    },
    "tags": []
   },
   "outputs": [
    {
     "data": {
      "text/html": [
       "<div>\n",
       "<style scoped>\n",
       "    .dataframe tbody tr th:only-of-type {\n",
       "        vertical-align: middle;\n",
       "    }\n",
       "\n",
       "    .dataframe tbody tr th {\n",
       "        vertical-align: top;\n",
       "    }\n",
       "\n",
       "    .dataframe thead th {\n",
       "        text-align: right;\n",
       "    }\n",
       "</style>\n",
       "<table border=\"1\" class=\"dataframe\">\n",
       "  <thead>\n",
       "    <tr style=\"text-align: right;\">\n",
       "      <th></th>\n",
       "      <th>Height</th>\n",
       "      <th>Weight</th>\n",
       "      <th>Index</th>\n",
       "    </tr>\n",
       "  </thead>\n",
       "  <tbody>\n",
       "    <tr>\n",
       "      <th>count</th>\n",
       "      <td>500.000000</td>\n",
       "      <td>500.000000</td>\n",
       "      <td>500.000000</td>\n",
       "    </tr>\n",
       "    <tr>\n",
       "      <th>mean</th>\n",
       "      <td>169.944000</td>\n",
       "      <td>106.000000</td>\n",
       "      <td>3.748000</td>\n",
       "    </tr>\n",
       "    <tr>\n",
       "      <th>std</th>\n",
       "      <td>16.375261</td>\n",
       "      <td>32.382607</td>\n",
       "      <td>1.355053</td>\n",
       "    </tr>\n",
       "    <tr>\n",
       "      <th>min</th>\n",
       "      <td>140.000000</td>\n",
       "      <td>50.000000</td>\n",
       "      <td>0.000000</td>\n",
       "    </tr>\n",
       "    <tr>\n",
       "      <th>25%</th>\n",
       "      <td>156.000000</td>\n",
       "      <td>80.000000</td>\n",
       "      <td>3.000000</td>\n",
       "    </tr>\n",
       "    <tr>\n",
       "      <th>50%</th>\n",
       "      <td>170.500000</td>\n",
       "      <td>106.000000</td>\n",
       "      <td>4.000000</td>\n",
       "    </tr>\n",
       "    <tr>\n",
       "      <th>75%</th>\n",
       "      <td>184.000000</td>\n",
       "      <td>136.000000</td>\n",
       "      <td>5.000000</td>\n",
       "    </tr>\n",
       "    <tr>\n",
       "      <th>max</th>\n",
       "      <td>199.000000</td>\n",
       "      <td>160.000000</td>\n",
       "      <td>5.000000</td>\n",
       "    </tr>\n",
       "  </tbody>\n",
       "</table>\n",
       "</div>"
      ],
      "text/plain": [
       "           Height      Weight       Index\n",
       "count  500.000000  500.000000  500.000000\n",
       "mean   169.944000  106.000000    3.748000\n",
       "std     16.375261   32.382607    1.355053\n",
       "min    140.000000   50.000000    0.000000\n",
       "25%    156.000000   80.000000    3.000000\n",
       "50%    170.500000  106.000000    4.000000\n",
       "75%    184.000000  136.000000    5.000000\n",
       "max    199.000000  160.000000    5.000000"
      ]
     },
     "execution_count": 4,
     "metadata": {},
     "output_type": "execute_result"
    }
   ],
   "source": [
    "data.describe()"
   ]
  },
  {
   "cell_type": "code",
   "execution_count": 5,
   "metadata": {
    "execution": {
     "iopub.execute_input": "2020-10-05T10:04:56.459711Z",
     "iopub.status.busy": "2020-10-05T10:04:56.458763Z",
     "iopub.status.idle": "2020-10-05T10:04:56.462330Z",
     "shell.execute_reply": "2020-10-05T10:04:56.463010Z"
    },
    "papermill": {
     "duration": 0.034168,
     "end_time": "2020-10-05T10:04:56.463182",
     "exception": false,
     "start_time": "2020-10-05T10:04:56.429014",
     "status": "completed"
    },
    "tags": []
   },
   "outputs": [
    {
     "name": "stdout",
     "output_type": "stream",
     "text": [
      "<class 'pandas.core.frame.DataFrame'>\n",
      "RangeIndex: 500 entries, 0 to 499\n",
      "Data columns (total 4 columns):\n",
      " #   Column  Non-Null Count  Dtype \n",
      "---  ------  --------------  ----- \n",
      " 0   Gender  500 non-null    object\n",
      " 1   Height  500 non-null    int64 \n",
      " 2   Weight  500 non-null    int64 \n",
      " 3   Index   500 non-null    int64 \n",
      "dtypes: int64(3), object(1)\n",
      "memory usage: 15.8+ KB\n"
     ]
    }
   ],
   "source": [
    "data.info()"
   ]
  },
  {
   "cell_type": "code",
   "execution_count": 6,
   "metadata": {
    "execution": {
     "iopub.execute_input": "2020-10-05T10:04:56.507075Z",
     "iopub.status.busy": "2020-10-05T10:04:56.506224Z",
     "iopub.status.idle": "2020-10-05T10:04:57.806966Z",
     "shell.execute_reply": "2020-10-05T10:04:57.806124Z"
    },
    "papermill": {
     "duration": 1.324261,
     "end_time": "2020-10-05T10:04:57.807100",
     "exception": false,
     "start_time": "2020-10-05T10:04:56.482839",
     "status": "completed"
    },
    "tags": []
   },
   "outputs": [],
   "source": [
    "# importing visualization libraries\n",
    "import matplotlib.pyplot as plt\n",
    "import seaborn as sns"
   ]
  },
  {
   "cell_type": "code",
   "execution_count": 7,
   "metadata": {
    "execution": {
     "iopub.execute_input": "2020-10-05T10:04:57.856065Z",
     "iopub.status.busy": "2020-10-05T10:04:57.855292Z",
     "iopub.status.idle": "2020-10-05T10:04:58.349121Z",
     "shell.execute_reply": "2020-10-05T10:04:58.349748Z"
    },
    "papermill": {
     "duration": 0.523673,
     "end_time": "2020-10-05T10:04:58.349909",
     "exception": false,
     "start_time": "2020-10-05T10:04:57.826236",
     "status": "completed"
    },
    "tags": []
   },
   "outputs": [
    {
     "data": {
      "text/plain": [
       "<seaborn.axisgrid.FacetGrid at 0x7f12abf9e2d0>"
      ]
     },
     "execution_count": 7,
     "metadata": {},
     "output_type": "execute_result"
    },
    {
     "data": {
      "image/png": "[encoded data removed]",
      "text/plain": [
       "<Figure size 432.875x360 with 1 Axes>"
      ]
     },
     "metadata": {
      "needs_background": "light"
     },
     "output_type": "display_data"
    }
   ],
   "source": [
    "sns.relplot(x='Height',y='Weight',data=data,hue='Gender')"
   ]
  },
  {
   "cell_type": "markdown",
   "metadata": {
    "papermill": {
     "duration": 0.021258,
     "end_time": "2020-10-05T10:04:58.392967",
     "exception": false,
     "start_time": "2020-10-05T10:04:58.371709",
     "status": "completed"
    },
    "tags": []
   },
   "source": [
    "# Preprocessing"
   ]
  },
  {
   "cell_type": "code",
   "execution_count": 8,
   "metadata": {
    "execution": {
     "iopub.execute_input": "2020-10-05T10:04:58.446873Z",
     "iopub.status.busy": "2020-10-05T10:04:58.445112Z",
     "iopub.status.idle": "2020-10-05T10:04:58.449643Z",
     "shell.execute_reply": "2020-10-05T10:04:58.450184Z"
    },
    "papermill": {
     "duration": 0.035854,
     "end_time": "2020-10-05T10:04:58.450347",
     "exception": false,
     "start_time": "2020-10-05T10:04:58.414493",
     "status": "completed"
    },
    "tags": []
   },
   "outputs": [],
   "source": [
    "data = pd.get_dummies(data)\n"
   ]
  },
  {
   "cell_type": "code",
   "execution_count": 9,
   "metadata": {
    "execution": {
     "iopub.execute_input": "2020-10-05T10:04:58.508227Z",
     "iopub.status.busy": "2020-10-05T10:04:58.507133Z",
     "iopub.status.idle": "2020-10-05T10:04:58.512122Z",
     "shell.execute_reply": "2020-10-05T10:04:58.511407Z"
    },
    "papermill": {
     "duration": 0.04009,
     "end_time": "2020-10-05T10:04:58.512248",
     "exception": false,
     "start_time": "2020-10-05T10:04:58.472158",
     "status": "completed"
    },
    "tags": []
   },
   "outputs": [
    {
     "data": {
      "text/html": [
       "<div>\n",
       "<style scoped>\n",
       "    .dataframe tbody tr th:only-of-type {\n",
       "        vertical-align: middle;\n",
       "    }\n",
       "\n",
       "    .dataframe tbody tr th {\n",
       "        vertical-align: top;\n",
       "    }\n",
       "\n",
       "    .dataframe thead th {\n",
       "        text-align: right;\n",
       "    }\n",
       "</style>\n",
       "<table border=\"1\" class=\"dataframe\">\n",
       "  <thead>\n",
       "    <tr style=\"text-align: right;\">\n",
       "      <th></th>\n",
       "      <th>Height</th>\n",
       "      <th>Weight</th>\n",
       "      <th>Index</th>\n",
       "      <th>Gender_Female</th>\n",
       "    </tr>\n",
       "  </thead>\n",
       "  <tbody>\n",
       "    <tr>\n",
       "      <th>0</th>\n",
       "      <td>174</td>\n",
       "      <td>96</td>\n",
       "      <td>4</td>\n",
       "      <td>0</td>\n",
       "    </tr>\n",
       "    <tr>\n",
       "      <th>1</th>\n",
       "      <td>189</td>\n",
       "      <td>87</td>\n",
       "      <td>2</td>\n",
       "      <td>0</td>\n",
       "    </tr>\n",
       "    <tr>\n",
       "      <th>2</th>\n",
       "      <td>185</td>\n",
       "      <td>110</td>\n",
       "      <td>4</td>\n",
       "      <td>1</td>\n",
       "    </tr>\n",
       "    <tr>\n",
       "      <th>3</th>\n",
       "      <td>195</td>\n",
       "      <td>104</td>\n",
       "      <td>3</td>\n",
       "      <td>1</td>\n",
       "    </tr>\n",
       "    <tr>\n",
       "      <th>4</th>\n",
       "      <td>149</td>\n",
       "      <td>61</td>\n",
       "      <td>3</td>\n",
       "      <td>0</td>\n",
       "    </tr>\n",
       "  </tbody>\n",
       "</table>\n",
       "</div>"
      ],
      "text/plain": [
       "   Height  Weight  Index  Gender_Female\n",
       "0     174      96      4              0\n",
       "1     189      87      2              0\n",
       "2     185     110      4              1\n",
       "3     195     104      3              1\n",
       "4     149      61      3              0"
      ]
     },
     "execution_count": 9,
     "metadata": {},
     "output_type": "execute_result"
    }
   ],
   "source": [
    "data.drop('Gender_Male',axis=1, inplace=True)\n",
    "data.head()"
   ]
  },
  {
   "cell_type": "markdown",
   "metadata": {
    "papermill": {
     "duration": 0.022983,
     "end_time": "2020-10-05T10:04:58.558074",
     "exception": false,
     "start_time": "2020-10-05T10:04:58.535091",
     "status": "completed"
    },
    "tags": []
   },
   "source": [
    "# Model Building"
   ]
  },
  {
   "cell_type": "code",
   "execution_count": 10,
   "metadata": {
    "execution": {
     "iopub.execute_input": "2020-10-05T10:04:58.609416Z",
     "iopub.status.busy": "2020-10-05T10:04:58.608538Z",
     "iopub.status.idle": "2020-10-05T10:04:58.878042Z",
     "shell.execute_reply": "2020-10-05T10:04:58.877415Z"
    },
    "papermill": {
     "duration": 0.297136,
     "end_time": "2020-10-05T10:04:58.878174",
     "exception": false,
     "start_time": "2020-10-05T10:04:58.581038",
     "status": "completed"
    },
    "tags": []
   },
   "outputs": [],
   "source": [
    "from sklearn.model_selection import train_test_split\n",
    "from sklearn.linear_model import LogisticRegression\n",
    "from sklearn.metrics import classification_report, confusion_matrix, accuracy_score"
   ]
  },
  {
   "cell_type": "code",
   "execution_count": 11,
   "metadata": {
    "execution": {
     "iopub.execute_input": "2020-10-05T10:04:58.934949Z",
     "iopub.status.busy": "2020-10-05T10:04:58.933873Z",
     "iopub.status.idle": "2020-10-05T10:04:58.937360Z",
     "shell.execute_reply": "2020-10-05T10:04:58.936626Z"
    },
    "papermill": {
     "duration": 0.036397,
     "end_time": "2020-10-05T10:04:58.937504",
     "exception": false,
     "start_time": "2020-10-05T10:04:58.901107",
     "status": "completed"
    },
    "tags": []
   },
   "outputs": [],
   "source": [
    "X =data.drop('Index',axis=1)\n",
    "y = data['Index']\n",
    "X_train, X_test, y_train, y_test = train_test_split(X, y, test_size=0.2)"
   ]
  },
  {
   "cell_type": "code",
   "execution_count": 12,
   "metadata": {
    "execution": {
     "iopub.execute_input": "2020-10-05T10:04:58.991696Z",
     "iopub.status.busy": "2020-10-05T10:04:58.990903Z",
     "iopub.status.idle": "2020-10-05T10:04:59.066445Z",
     "shell.execute_reply": "2020-10-05T10:04:59.067097Z"
    },
    "papermill": {
     "duration": 0.107383,
     "end_time": "2020-10-05T10:04:59.067270",
     "exception": false,
     "start_time": "2020-10-05T10:04:58.959887",
     "status": "completed"
    },
    "tags": []
   },
   "outputs": [
    {
     "name": "stderr",
     "output_type": "stream",
     "text": [
      "/opt/conda/lib/python3.7/site-packages/sklearn/linear_model/_logistic.py:764: ConvergenceWarning: lbfgs failed to converge (status=1):\n",
      "STOP: TOTAL NO. of ITERATIONS REACHED LIMIT.\n",
      "\n",
      "Increase the number of iterations (max_iter) or scale the data as shown in:\n",
      "    https://scikit-learn.org/stable/modules/preprocessing.html\n",
      "Please also refer to the documentation for alternative solver options:\n",
      "    https://scikit-learn.org/stable/modules/linear_model.html#logistic-regression\n",
      "  extra_warning_msg=_LOGISTIC_SOLVER_CONVERGENCE_MSG)\n"
     ]
    },
    {
     "data": {
      "text/plain": [
       "LogisticRegression()"
      ]
     },
     "execution_count": 12,
     "metadata": {},
     "output_type": "execute_result"
    }
   ],
   "source": [
    "model = LogisticRegression()\n",
    "model.fit(X_train,y_train)"
   ]
  },
  {
   "cell_type": "code",
   "execution_count": 13,
   "metadata": {
    "execution": {
     "iopub.execute_input": "2020-10-05T10:04:59.123483Z",
     "iopub.status.busy": "2020-10-05T10:04:59.122294Z",
     "iopub.status.idle": "2020-10-05T10:04:59.125851Z",
     "shell.execute_reply": "2020-10-05T10:04:59.125115Z"
    },
    "papermill": {
     "duration": 0.035044,
     "end_time": "2020-10-05T10:04:59.125974",
     "exception": false,
     "start_time": "2020-10-05T10:04:59.090930",
     "status": "completed"
    },
    "tags": []
   },
   "outputs": [],
   "source": [
    "y_pred = model.predict(X_test)"
   ]
  },
  {
   "cell_type": "code",
   "execution_count": 14,
   "metadata": {
    "execution": {
     "iopub.execute_input": "2020-10-05T10:04:59.182869Z",
     "iopub.status.busy": "2020-10-05T10:04:59.181906Z",
     "iopub.status.idle": "2020-10-05T10:04:59.190253Z",
     "shell.execute_reply": "2020-10-05T10:04:59.189493Z"
    },
    "papermill": {
     "duration": 0.040744,
     "end_time": "2020-10-05T10:04:59.190379",
     "exception": false,
     "start_time": "2020-10-05T10:04:59.149635",
     "status": "completed"
    },
    "tags": []
   },
   "outputs": [
    {
     "name": "stdout",
     "output_type": "stream",
     "text": [
      "              precision    recall  f1-score   support\n",
      "\n",
      "           0       0.75      1.00      0.86         3\n",
      "           1       1.00      0.57      0.73         7\n",
      "           2       0.50      1.00      0.67         8\n",
      "           3       0.56      0.31      0.40        16\n",
      "           4       0.62      0.58      0.60        26\n",
      "           5       0.84      0.90      0.87        40\n",
      "\n",
      "    accuracy                           0.71       100\n",
      "   macro avg       0.71      0.73      0.69       100\n",
      "weighted avg       0.72      0.71      0.70       100\n",
      "\n"
     ]
    }
   ],
   "source": [
    "print(classification_report(y_test,y_pred))"
   ]
  },
  {
   "cell_type": "code",
   "execution_count": 15,
   "metadata": {
    "execution": {
     "iopub.execute_input": "2020-10-05T10:04:59.245661Z",
     "iopub.status.busy": "2020-10-05T10:04:59.244195Z",
     "iopub.status.idle": "2020-10-05T10:04:59.250211Z",
     "shell.execute_reply": "2020-10-05T10:04:59.249632Z"
    },
    "papermill": {
     "duration": 0.035677,
     "end_time": "2020-10-05T10:04:59.250349",
     "exception": false,
     "start_time": "2020-10-05T10:04:59.214672",
     "status": "completed"
    },
    "tags": []
   },
   "outputs": [
    {
     "name": "stdout",
     "output_type": "stream",
     "text": [
      "[[ 3  0  0  0  0  0]\n",
      " [ 1  4  2  0  0  0]\n",
      " [ 0  0  8  0  0  0]\n",
      " [ 0  0  6  5  5  0]\n",
      " [ 0  0  0  4 15  7]\n",
      " [ 0  0  0  0  4 36]]\n"
     ]
    }
   ],
   "source": [
    "print(confusion_matrix(y_test,y_pred))"
   ]
  },
  {
   "cell_type": "code",
   "execution_count": 16,
   "metadata": {
    "execution": {
     "iopub.execute_input": "2020-10-05T10:04:59.307898Z",
     "iopub.status.busy": "2020-10-05T10:04:59.306962Z",
     "iopub.status.idle": "2020-10-05T10:04:59.311186Z",
     "shell.execute_reply": "2020-10-05T10:04:59.310484Z"
    },
    "papermill": {
     "duration": 0.034557,
     "end_time": "2020-10-05T10:04:59.311305",
     "exception": false,
     "start_time": "2020-10-05T10:04:59.276748",
     "status": "completed"
    },
    "tags": []
   },
   "outputs": [
    {
     "name": "stdout",
     "output_type": "stream",
     "text": [
      "0.71\n"
     ]
    }
   ],
   "source": [
    "print(accuracy_score(y_test,y_pred))"
   ]
  }
 ],
 "metadata": {
  "kernelspec": {
   "display_name": "Python 3",
   "language": "python",
   "name": "python3"
  },
  "language_info": {
   "codemirror_mode": {
    "name": "ipython",
    "version": 3
   },
   "file_extension": ".py",
   "mimetype": "text/x-python",
   "name": "python",
   "nbconvert_exporter": "python",
   "pygments_lexer": "ipython3",
   "version": "3.7.6"
  },
  "papermill": {
   "duration": 8.802192,
   "end_time": "2020-10-05T10:04:59.444487",
   "environment_variables": {},
   "exception": null,
   "input_path": "__notebook__.ipynb",
   "output_path": "__notebook__.ipynb",
   "parameters": {},
   "start_time": "2020-10-05T10:04:50.642295",
   "version": "2.1.0"
  }
 },
 "nbformat": 4,
 "nbformat_minor": 4
}
