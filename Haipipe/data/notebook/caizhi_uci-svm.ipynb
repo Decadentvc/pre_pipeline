{
 "cells": [
  {
   "cell_type": "code",
   "execution_count": 1,
   "metadata": {
    "_cell_guid": "b1076dfc-b9ad-4769-8c92-a6c4dae69d19",
    "_uuid": "8f2839f25d086af736a60e9eeb907d3b93b6e0e5"
   },
   "outputs": [
    {
     "name": "stdout",
     "output_type": "stream",
     "text": [
      "/kaggle/input/uci-secom.csv\n"
     ]
    }
   ],
   "source": [
    "# This Python 3 environment comes with many helpful analytics libraries installed\n",
    "# It is defined by the kaggle/python docker image: https://github.com/kaggle/docker-python\n",
    "# For example, here's several helpful packages to load in \n",
    "\n",
    "import numpy as np # linear algebra\n",
    "import pandas as pd # data processing, CSV file I/O (e.g. pd.read_csv)\n",
    "\n",
    "# Input data files are available in the \"../input/\" directory.\n",
    "# For example, running this (by clicking run or pressing Shift+Enter) will list all files under the input directory\n",
    "\n",
    "import os\n",
    "for dirname, _, filenames in os.walk('/kaggle/input'):\n",
    "    for filename in filenames:\n",
    "        print(os.path.join(dirname, filename))\n",
    "\n",
    "# Any results you write to the current directory are saved as output."
   ]
  },
  {
   "cell_type": "code",
   "execution_count": 2,
   "metadata": {
    "_cell_guid": "79c7e3d0-c299-4dcb-8224-4455121ee9b0",
    "_uuid": "d629ff2d2480ee46fbb7e2d37f6b5fab8052498a"
   },
   "outputs": [
    {
     "data": {
      "text/html": [
       "<div>\n",
       "<style scoped>\n",
       "    .dataframe tbody tr th:only-of-type {\n",
       "        vertical-align: middle;\n",
       "    }\n",
       "\n",
       "    .dataframe tbody tr th {\n",
       "        vertical-align: top;\n",
       "    }\n",
       "\n",
       "    .dataframe thead th {\n",
       "        text-align: right;\n",
       "    }\n",
       "</style>\n",
       "<table border=\"1\" class=\"dataframe\">\n",
       "  <thead>\n",
       "    <tr style=\"text-align: right;\">\n",
       "      <th></th>\n",
       "      <th>Time</th>\n",
       "      <th>0</th>\n",
       "      <th>1</th>\n",
       "      <th>2</th>\n",
       "      <th>3</th>\n",
       "      <th>4</th>\n",
       "      <th>5</th>\n",
       "      <th>6</th>\n",
       "      <th>7</th>\n",
       "      <th>8</th>\n",
       "      <th>...</th>\n",
       "      <th>581</th>\n",
       "      <th>582</th>\n",
       "      <th>583</th>\n",
       "      <th>584</th>\n",
       "      <th>585</th>\n",
       "      <th>586</th>\n",
       "      <th>587</th>\n",
       "      <th>588</th>\n",
       "      <th>589</th>\n",
       "      <th>Pass/Fail</th>\n",
       "    </tr>\n",
       "  </thead>\n",
       "  <tbody>\n",
       "    <tr>\n",
       "      <th>0</th>\n",
       "      <td>2008-07-19 11:55:00</td>\n",
       "      <td>3030.93</td>\n",
       "      <td>2564.00</td>\n",
       "      <td>2187.7333</td>\n",
       "      <td>1411.1265</td>\n",
       "      <td>1.3602</td>\n",
       "      <td>100.0</td>\n",
       "      <td>97.6133</td>\n",
       "      <td>0.1242</td>\n",
       "      <td>1.5005</td>\n",
       "      <td>...</td>\n",
       "      <td>NaN</td>\n",
       "      <td>0.5005</td>\n",
       "      <td>0.0118</td>\n",
       "      <td>0.0035</td>\n",
       "      <td>2.3630</td>\n",
       "      <td>NaN</td>\n",
       "      <td>NaN</td>\n",
       "      <td>NaN</td>\n",
       "      <td>NaN</td>\n",
       "      <td>-1</td>\n",
       "    </tr>\n",
       "    <tr>\n",
       "      <th>1</th>\n",
       "      <td>2008-07-19 12:32:00</td>\n",
       "      <td>3095.78</td>\n",
       "      <td>2465.14</td>\n",
       "      <td>2230.4222</td>\n",
       "      <td>1463.6606</td>\n",
       "      <td>0.8294</td>\n",
       "      <td>100.0</td>\n",
       "      <td>102.3433</td>\n",
       "      <td>0.1247</td>\n",
       "      <td>1.4966</td>\n",
       "      <td>...</td>\n",
       "      <td>208.2045</td>\n",
       "      <td>0.5019</td>\n",
       "      <td>0.0223</td>\n",
       "      <td>0.0055</td>\n",
       "      <td>4.4447</td>\n",
       "      <td>0.0096</td>\n",
       "      <td>0.0201</td>\n",
       "      <td>0.0060</td>\n",
       "      <td>208.2045</td>\n",
       "      <td>-1</td>\n",
       "    </tr>\n",
       "    <tr>\n",
       "      <th>2</th>\n",
       "      <td>2008-07-19 13:17:00</td>\n",
       "      <td>2932.61</td>\n",
       "      <td>2559.94</td>\n",
       "      <td>2186.4111</td>\n",
       "      <td>1698.0172</td>\n",
       "      <td>1.5102</td>\n",
       "      <td>100.0</td>\n",
       "      <td>95.4878</td>\n",
       "      <td>0.1241</td>\n",
       "      <td>1.4436</td>\n",
       "      <td>...</td>\n",
       "      <td>82.8602</td>\n",
       "      <td>0.4958</td>\n",
       "      <td>0.0157</td>\n",
       "      <td>0.0039</td>\n",
       "      <td>3.1745</td>\n",
       "      <td>0.0584</td>\n",
       "      <td>0.0484</td>\n",
       "      <td>0.0148</td>\n",
       "      <td>82.8602</td>\n",
       "      <td>1</td>\n",
       "    </tr>\n",
       "    <tr>\n",
       "      <th>3</th>\n",
       "      <td>2008-07-19 14:43:00</td>\n",
       "      <td>2988.72</td>\n",
       "      <td>2479.90</td>\n",
       "      <td>2199.0333</td>\n",
       "      <td>909.7926</td>\n",
       "      <td>1.3204</td>\n",
       "      <td>100.0</td>\n",
       "      <td>104.2367</td>\n",
       "      <td>0.1217</td>\n",
       "      <td>1.4882</td>\n",
       "      <td>...</td>\n",
       "      <td>73.8432</td>\n",
       "      <td>0.4990</td>\n",
       "      <td>0.0103</td>\n",
       "      <td>0.0025</td>\n",
       "      <td>2.0544</td>\n",
       "      <td>0.0202</td>\n",
       "      <td>0.0149</td>\n",
       "      <td>0.0044</td>\n",
       "      <td>73.8432</td>\n",
       "      <td>-1</td>\n",
       "    </tr>\n",
       "    <tr>\n",
       "      <th>4</th>\n",
       "      <td>2008-07-19 15:22:00</td>\n",
       "      <td>3032.24</td>\n",
       "      <td>2502.87</td>\n",
       "      <td>2233.3667</td>\n",
       "      <td>1326.5200</td>\n",
       "      <td>1.5334</td>\n",
       "      <td>100.0</td>\n",
       "      <td>100.3967</td>\n",
       "      <td>0.1235</td>\n",
       "      <td>1.5031</td>\n",
       "      <td>...</td>\n",
       "      <td>NaN</td>\n",
       "      <td>0.4800</td>\n",
       "      <td>0.4766</td>\n",
       "      <td>0.1045</td>\n",
       "      <td>99.3032</td>\n",
       "      <td>0.0202</td>\n",
       "      <td>0.0149</td>\n",
       "      <td>0.0044</td>\n",
       "      <td>73.8432</td>\n",
       "      <td>-1</td>\n",
       "    </tr>\n",
       "  </tbody>\n",
       "</table>\n",
       "<p>5 rows × 592 columns</p>\n",
       "</div>"
      ],
      "text/plain": [
       "                  Time        0        1          2          3       4      5  \\\n",
       "0  2008-07-19 11:55:00  3030.93  2564.00  2187.7333  1411.1265  1.3602  100.0   \n",
       "1  2008-07-19 12:32:00  3095.78  2465.14  2230.4222  1463.6606  0.8294  100.0   \n",
       "2  2008-07-19 13:17:00  2932.61  2559.94  2186.4111  1698.0172  1.5102  100.0   \n",
       "3  2008-07-19 14:43:00  2988.72  2479.90  2199.0333   909.7926  1.3204  100.0   \n",
       "4  2008-07-19 15:22:00  3032.24  2502.87  2233.3667  1326.5200  1.5334  100.0   \n",
       "\n",
       "          6       7       8    ...           581     582     583     584  \\\n",
       "0   97.6133  0.1242  1.5005    ...           NaN  0.5005  0.0118  0.0035   \n",
       "1  102.3433  0.1247  1.4966    ...      208.2045  0.5019  0.0223  0.0055   \n",
       "2   95.4878  0.1241  1.4436    ...       82.8602  0.4958  0.0157  0.0039   \n",
       "3  104.2367  0.1217  1.4882    ...       73.8432  0.4990  0.0103  0.0025   \n",
       "4  100.3967  0.1235  1.5031    ...           NaN  0.4800  0.4766  0.1045   \n",
       "\n",
       "       585     586     587     588       589  Pass/Fail  \n",
       "0   2.3630     NaN     NaN     NaN       NaN         -1  \n",
       "1   4.4447  0.0096  0.0201  0.0060  208.2045         -1  \n",
       "2   3.1745  0.0584  0.0484  0.0148   82.8602          1  \n",
       "3   2.0544  0.0202  0.0149  0.0044   73.8432         -1  \n",
       "4  99.3032  0.0202  0.0149  0.0044   73.8432         -1  \n",
       "\n",
       "[5 rows x 592 columns]"
      ]
     },
     "execution_count": 2,
     "metadata": {},
     "output_type": "execute_result"
    }
   ],
   "source": [
    "filename = \"/kaggle/input/uci-secom.csv\"\n",
    "\n",
    "semi = pd.read_csv(filename)\n",
    "semi.head()"
   ]
  },
  {
   "cell_type": "code",
   "execution_count": 3,
   "metadata": {},
   "outputs": [
    {
     "data": {
      "text/plain": [
       "count     592.000000\n",
       "mean       70.863176\n",
       "std       241.476304\n",
       "min         0.000000\n",
       "25%         2.000000\n",
       "50%         6.000000\n",
       "75%         9.000000\n",
       "max      1429.000000\n",
       "dtype: float64"
      ]
     },
     "execution_count": 3,
     "metadata": {},
     "output_type": "execute_result"
    }
   ],
   "source": [
    "semi.isnull().sum().describe()"
   ]
  },
  {
   "cell_type": "code",
   "execution_count": 4,
   "metadata": {},
   "outputs": [
    {
     "name": "stdout",
     "output_type": "stream",
     "text": [
      "85 1341\n",
      "109 1018\n",
      "110 1018\n",
      "111 1018\n",
      "157 1429\n",
      "158 1429\n",
      "220 1341\n",
      "244 1018\n",
      "245 1018\n",
      "246 1018\n",
      "292 1429\n",
      "293 1429\n",
      "358 1341\n",
      "382 1018\n",
      "383 1018\n",
      "384 1018\n",
      "492 1341\n",
      "516 1018\n",
      "517 1018\n",
      "518 1018\n",
      "578 949\n",
      "579 949\n",
      "580 949\n",
      "581 949\n"
     ]
    }
   ],
   "source": [
    "columns_to_remove = []\n",
    "j = semi.isnull().sum()\n",
    "for i in j.keys():\n",
    "    if j[i] >= 900:\n",
    "        print(i, j[i])\n",
    "        columns_to_remove.append(i)\n",
    "        \n",
    "data = semi.drop(columns_to_remove, axis = 1)"
   ]
  },
  {
   "cell_type": "code",
   "execution_count": 5,
   "metadata": {},
   "outputs": [],
   "source": [
    "from sklearn.impute import SimpleImputer \n",
    "from sklearn.neural_network import MLPClassifier\n",
    "from sklearn.model_selection import train_test_split\n",
    "from sklearn.ensemble import RandomForestClassifier,IsolationForest\n",
    "from sklearn.linear_model import LogisticRegression\n",
    "from sklearn.preprocessing import StandardScaler\n",
    "import xgboost as xgb\n",
    "from sklearn.metrics import confusion_matrix, accuracy_score, f1_score, precision_score, recall_score, average_precision_score\n",
    "import matplotlib.pyplot as plt\n",
    "from sklearn.model_selection import cross_val_score\n",
    "from sklearn.model_selection import cross_validate"
   ]
  },
  {
   "cell_type": "code",
   "execution_count": 6,
   "metadata": {},
   "outputs": [],
   "source": [
    "x = data.iloc[:, 1:-1]\n",
    "y = data.iloc[:, -1]\n",
    "\n",
    "imp = SimpleImputer()\n",
    "x = imp.fit_transform(x)\n",
    "\n",
    "x_train, x_test, y_train, y_test = train_test_split(x, y, train_size = 0.8, random_state = 10)"
   ]
  },
  {
   "cell_type": "code",
   "execution_count": 7,
   "metadata": {},
   "outputs": [
    {
     "name": "stdout",
     "output_type": "stream",
     "text": [
      "(1253, 566)\n",
      "(314, 566)\n",
      "(1567, 568)\n"
     ]
    }
   ],
   "source": [
    "print(x_train.shape)\n",
    "print(x_test.shape)\n",
    "print(data.shape)"
   ]
  },
  {
   "cell_type": "code",
   "execution_count": 8,
   "metadata": {},
   "outputs": [
    {
     "name": "stdout",
     "output_type": "stream",
     "text": [
      "1\n",
      "0.5611551815478494\n",
      "2\n",
      "0.5551798045616154\n",
      "3\n",
      "0.5591687017918965\n",
      "4\n",
      "0.5580584106412115\n",
      "5\n",
      "0.5524621568777687\n",
      "6\n",
      "0.5515342260870288\n",
      "7\n",
      "0.5511057256434826\n",
      "8\n",
      "0.5543239996800593\n",
      "9\n",
      "0.5539355133385903\n",
      "10\n",
      "0.5535546188070658\n"
     ]
    }
   ],
   "source": [
    "sc = StandardScaler()\n",
    "x_train_std = sc.fit_transform(x_train)\n",
    "x_test_std = sc.transform(x_test)\n",
    "## logistic regression, regularized\n",
    "\n",
    "\n",
    "Cs = [(i+1) for i in range(10)]\n",
    "f1 = []\n",
    "\n",
    "for c in Cs:\n",
    "    lr = LogisticRegression(C = c, solver = 'lbfgs', max_iter=400, penalty = 'l2')\n",
    "    f1 = cross_val_score(lr, x_train_std, y_train, cv=5, scoring='f1_macro')\n",
    "    print(c)\n",
    "    print(f1.mean())"
   ]
  },
  {
   "cell_type": "code",
   "execution_count": 9,
   "metadata": {},
   "outputs": [
    {
     "name": "stdout",
     "output_type": "stream",
     "text": [
      "accuracy score 0.9076433121019108\n",
      "confusion matrix_train [[1170    0]\n",
      " [  12   71]]\n",
      "confusion matrix_test [[278  15]\n",
      " [ 14   7]]\n",
      "precision_score 0.15064659332175256\n",
      "recall_score 0.3333333333333333\n",
      "f1_score 0.3255813953488372\n"
     ]
    }
   ],
   "source": [
    "## logistic regression, regularized\n",
    "\n",
    "## based on CV, C = 1\n",
    "c = 1\n",
    "\n",
    "lr = LogisticRegression(C = c, solver = 'lbfgs', max_iter=400, penalty = 'l2')\n",
    "lr.fit(x_train_std, y_train)\n",
    "y_pred_lr = lr.predict(x_test_std)\n",
    "print('accuracy score', accuracy_score(y_test, y_pred_lr))\n",
    "y_pred_lr = lr.predict(x_train_std)\n",
    "cm = confusion_matrix(y_train, y_pred_lr)\n",
    "print('confusion matrix_train {}'.format(cm))\n",
    "y_pred_lr = lr.predict(x_test_std)\n",
    "cm = confusion_matrix(y_test, y_pred_lr)\n",
    "print('confusion matrix_test {}'.format(cm))\n",
    "print('precision_score', average_precision_score(y_test, y_pred_lr))\n",
    "print('recall_score', recall_score(y_test, y_pred_lr))\n",
    "print('f1_score', f1_score(y_test, y_pred_lr))\n",
    "#f1.append(f1_score(y_test, y_pred_lr))\n",
    "\n",
    "#index = [i for i in range(len(Cs))]\n",
    "#plt.plot(index, f1, 'bs')"
   ]
  },
  {
   "cell_type": "code",
   "execution_count": 10,
   "metadata": {},
   "outputs": [
    {
     "name": "stdout",
     "output_type": "stream",
     "text": [
      "0.1\n",
      "0.5379325627293214\n",
      "0.2\n",
      "0.5444094989052353\n",
      "0.3\n",
      "0.5393532249230871\n",
      "0.4\n",
      "0.5488260068559142\n",
      "0.5\n",
      "0.5551895200727436\n",
      "0.6\n",
      "0.5569290789392645\n",
      "0.7\n",
      "0.5569290789392645\n",
      "0.8\n",
      "0.5569290789392645\n",
      "0.9\n",
      "0.5569290789392645\n",
      "1.0\n",
      "0.5569290789392645\n"
     ]
    }
   ],
   "source": [
    "## svm, regularized\n",
    "from sklearn.svm import SVC\n",
    "\n",
    "Cs = [(i+1)/10 for i in range(10)]\n",
    "f1 = []\n",
    "\n",
    "for c in Cs:\n",
    "    clf_svm = SVC(C = c, kernel='linear', gamma='scale')\n",
    "    print(c)\n",
    "    f1 = cross_val_score(clf_svm, x_train_std, y_train, cv=5, scoring='f1_macro')\n",
    "    print(f1.mean())"
   ]
  },
  {
   "cell_type": "code",
   "execution_count": 11,
   "metadata": {},
   "outputs": [
    {
     "name": "stdout",
     "output_type": "stream",
     "text": [
      "confusion_matrix [[272  21]\n",
      " [ 12   9]]\n",
      "f1_score 0.3529411764705882\n"
     ]
    }
   ],
   "source": [
    "# check models on test data\n",
    "clf_svm = SVC(C = 0.6, kernel='linear', degree=1, gamma='scale')\n",
    "clf_svm.fit(x_train_std, y_train)\n",
    "y_test_pred = clf_svm.predict(x_test_std)\n",
    "print('confusion_matrix', confusion_matrix(y_test, y_test_pred))\n",
    "print('f1_score',f1_score(y_test, y_test_pred))"
   ]
  },
  {
   "cell_type": "code",
   "execution_count": 12,
   "metadata": {},
   "outputs": [],
   "source": [
    "## logistic regression and SVM show similar accuracy. SVM is slightly better"
   ]
  }
 ],
 "metadata": {
  "kernelspec": {
   "display_name": "Python 3",
   "language": "python",
   "name": "python3"
  },
  "language_info": {
   "codemirror_mode": {
    "name": "ipython",
    "version": 3
   },
   "file_extension": ".py",
   "mimetype": "text/x-python",
   "name": "python",
   "nbconvert_exporter": "python",
   "pygments_lexer": "ipython3",
   "version": "3.6.6"
  }
 },
 "nbformat": 4,
 "nbformat_minor": 1
}
