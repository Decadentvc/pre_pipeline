{
 "cells": [
  {
   "cell_type": "markdown",
   "metadata": {},
   "source": [
    "# Heart Disease Classification\n",
    "\n",
    "Ein weit verbreiteter Anwendungsbereich von Machine Learning ist die medizinische Diganostik, die durch ihre Interaktion mit künstlicher Intelligenz tiefgründigere Zusammenhänge zwischen Krankheiten und ihren Ursachen aufdecken kann. Birgt die maschinell gestützte Diagnose selbst einige Risiken, profitieren Ärzte dennoch durch die Unterstützung eines repräsentativen, trainierten Modells, da Erfahrungswerte aus Millionen von Patientendaten zu einer Diagnose heranzgezogen werden können.\n",
    "\n",
    "Die folgende Arbeit soll einen Einblick in die medizinische Anwendung von Machine Learning am Beispiel der Erkennung von Herzkrankheiten ermöglichen. Die Diagnose von Herzkrankheiten stützt sich auf eine Reihe körperlicher Anzeichen und klinischer Testergebnisse, wie z.B. EKG Tests, Herz-Scans oder Bluttests. \n",
    "\n",
    "Der im Folgenden verwendete Datensatz beinhaltet eine Auswahl von Attributen, die Ergebnisse solcher Tests und zusätzliche Patienteninformationen wie Alter und Geschlecht beinhalten. Auf Basis dieser Daten soll ein Modell des Supervised Learning, die binäre Klassifikation, das Vorliegen einer Herzkrankheit beurteilen. "
   ]
  },
  {
   "cell_type": "markdown",
   "metadata": {},
   "source": [
    "## Beschreibung der Attribute\n",
    "\n",
    "Der Datensatz stammt aus einer klinischen Testreihe der Ärzte Andras Janosi, William Steinbrunn, Matthias Pfisterer und Robert \n",
    "Detrano. Die anschließende Beschreibung ist der Quelle entnommen, detaillierte Informationen folgen im Rahmen der Data Exploration.\n",
    "\n",
    "- **Age**: in years\n",
    "- **Sex**: (1 = male; 0 = female)\n",
    "- **Cp**: chest pain type\n",
    "    - Value 1: typical angina \n",
    "    - Value 2: atypical angina \n",
    "    - Value 3: non-anginal pain \n",
    "    - Value 4: asymptomatic \n",
    "- **Testbps**: resting blood pressure (in mm Hg on admission to the hospital)\n",
    "- **Chol**: serum cholestoral in mg/dl\n",
    "- **Fbs**: (fasting blood sugar > 120 mg/dl) (1 = true; 0 = false)\n",
    "- **Restec**: gresting electrocardiographic results\n",
    "- **Thalach**: maximum heart rate achieved\n",
    "- **Exang**: exercise induced angina (1 = yes; 0 = no)\n",
    "- **Oldpeak**: ST depression induced by exercise relative to rest\n",
    "- **Slope**: the slope of the peak exercise ST segment\n",
    "- **Ca**: number of major vessels (0-3) colored by flourosopy\n",
    "- **Thal**: thallium heart scan, 3 = normal; 6 = fixed defect; 7 = reversable defect\n",
    "- **Target**: 1 or 0\n",
    "\n",
    "Quelle: https://archive.ics.uci.edu/ml/datasets/Heart+Disease\n",
    "\n",
    "### Ziel: Vorhersage einer vorhandenen Herzkrankheit auf Basis von Patientendaten"
   ]
  },
  {
   "cell_type": "code",
   "execution_count": 1,
   "metadata": {
    "_cell_guid": "b1076dfc-b9ad-4769-8c92-a6c4dae69d19",
    "_uuid": "8f2839f25d086af736a60e9eeb907d3b93b6e0e5"
   },
   "outputs": [
    {
     "name": "stdout",
     "output_type": "stream",
     "text": [
      "['heart.csv']\n"
     ]
    }
   ],
   "source": [
    "import numpy as np \n",
    "import pandas as pd\n",
    "import os\n",
    "import pandas_profiling\n",
    "import matplotlib.pyplot as plt\n",
    "%matplotlib inline\n",
    "\n",
    "random_state = 42\n",
    "\n",
    "print(os.listdir(\"../input\"))\n",
    "\n",
    "import warnings\n",
    "warnings.filterwarnings('ignore')"
   ]
  },
  {
   "cell_type": "markdown",
   "metadata": {},
   "source": [
    "Erster Einblick in den Datensatz:"
   ]
  },
  {
   "cell_type": "code",
   "execution_count": 2,
   "metadata": {
    "_cell_guid": "79c7e3d0-c299-4dcb-8224-4455121ee9b0",
    "_uuid": "d629ff2d2480ee46fbb7e2d37f6b5fab8052498a",
    "scrolled": true
   },
   "outputs": [
    {
     "data": {
      "text/html": [
       "<div>\n",
       "<style scoped>\n",
       "    .dataframe tbody tr th:only-of-type {\n",
       "        vertical-align: middle;\n",
       "    }\n",
       "\n",
       "    .dataframe tbody tr th {\n",
       "        vertical-align: top;\n",
       "    }\n",
       "\n",
       "    .dataframe thead th {\n",
       "        text-align: right;\n",
       "    }\n",
       "</style>\n",
       "<table border=\"1\" class=\"dataframe\">\n",
       "  <thead>\n",
       "    <tr style=\"text-align: right;\">\n",
       "      <th></th>\n",
       "      <th>age</th>\n",
       "      <th>sex</th>\n",
       "      <th>cp</th>\n",
       "      <th>trestbps</th>\n",
       "      <th>chol</th>\n",
       "      <th>fbs</th>\n",
       "      <th>restecg</th>\n",
       "      <th>thalach</th>\n",
       "      <th>exang</th>\n",
       "      <th>oldpeak</th>\n",
       "      <th>slope</th>\n",
       "      <th>ca</th>\n",
       "      <th>thal</th>\n",
       "      <th>target</th>\n",
       "    </tr>\n",
       "  </thead>\n",
       "  <tbody>\n",
       "    <tr>\n",
       "      <th>0</th>\n",
       "      <td>63</td>\n",
       "      <td>1</td>\n",
       "      <td>3</td>\n",
       "      <td>145</td>\n",
       "      <td>233</td>\n",
       "      <td>1</td>\n",
       "      <td>0</td>\n",
       "      <td>150</td>\n",
       "      <td>0</td>\n",
       "      <td>2.3</td>\n",
       "      <td>0</td>\n",
       "      <td>0</td>\n",
       "      <td>1</td>\n",
       "      <td>1</td>\n",
       "    </tr>\n",
       "    <tr>\n",
       "      <th>1</th>\n",
       "      <td>37</td>\n",
       "      <td>1</td>\n",
       "      <td>2</td>\n",
       "      <td>130</td>\n",
       "      <td>250</td>\n",
       "      <td>0</td>\n",
       "      <td>1</td>\n",
       "      <td>187</td>\n",
       "      <td>0</td>\n",
       "      <td>3.5</td>\n",
       "      <td>0</td>\n",
       "      <td>0</td>\n",
       "      <td>2</td>\n",
       "      <td>1</td>\n",
       "    </tr>\n",
       "    <tr>\n",
       "      <th>2</th>\n",
       "      <td>41</td>\n",
       "      <td>0</td>\n",
       "      <td>1</td>\n",
       "      <td>130</td>\n",
       "      <td>204</td>\n",
       "      <td>0</td>\n",
       "      <td>0</td>\n",
       "      <td>172</td>\n",
       "      <td>0</td>\n",
       "      <td>1.4</td>\n",
       "      <td>2</td>\n",
       "      <td>0</td>\n",
       "      <td>2</td>\n",
       "      <td>1</td>\n",
       "    </tr>\n",
       "    <tr>\n",
       "      <th>3</th>\n",
       "      <td>56</td>\n",
       "      <td>1</td>\n",
       "      <td>1</td>\n",
       "      <td>120</td>\n",
       "      <td>236</td>\n",
       "      <td>0</td>\n",
       "      <td>1</td>\n",
       "      <td>178</td>\n",
       "      <td>0</td>\n",
       "      <td>0.8</td>\n",
       "      <td>2</td>\n",
       "      <td>0</td>\n",
       "      <td>2</td>\n",
       "      <td>1</td>\n",
       "    </tr>\n",
       "    <tr>\n",
       "      <th>4</th>\n",
       "      <td>57</td>\n",
       "      <td>0</td>\n",
       "      <td>0</td>\n",
       "      <td>120</td>\n",
       "      <td>354</td>\n",
       "      <td>0</td>\n",
       "      <td>1</td>\n",
       "      <td>163</td>\n",
       "      <td>1</td>\n",
       "      <td>0.6</td>\n",
       "      <td>2</td>\n",
       "      <td>0</td>\n",
       "      <td>2</td>\n",
       "      <td>1</td>\n",
       "    </tr>\n",
       "  </tbody>\n",
       "</table>\n",
       "</div>"
      ],
      "text/plain": [
       "   age  sex  cp  trestbps  chol   ...    oldpeak  slope  ca  thal  target\n",
       "0   63    1   3       145   233   ...        2.3      0   0     1       1\n",
       "1   37    1   2       130   250   ...        3.5      0   0     2       1\n",
       "2   41    0   1       130   204   ...        1.4      2   0     2       1\n",
       "3   56    1   1       120   236   ...        0.8      2   0     2       1\n",
       "4   57    0   0       120   354   ...        0.6      2   0     2       1\n",
       "\n",
       "[5 rows x 14 columns]"
      ]
     },
     "execution_count": 2,
     "metadata": {},
     "output_type": "execute_result"
    }
   ],
   "source": [
    "df = pd.read_csv('../input/heart.csv')\n",
    "df.head()"
   ]
  },
  {
   "cell_type": "markdown",
   "metadata": {},
   "source": [
    "## 1. Data Exploration"
   ]
  },
  {
   "cell_type": "markdown",
   "metadata": {},
   "source": [
    "Nach der folgenden Analyse lässt sich der Datensatz mit diesen Eckpunkten beschreiben:\n",
    "\n",
    "- Der Datensatz umfasst 303 Reihen und 14 Spalten\n",
    "- Der Speicherplatz beträgt 33.2 KB\n",
    "- Bis auf das Attribut \"oldpeak\" liegen alle weiteren Spalten im \"int64\" Datenformat vor\n",
    "\n",
    "Alle kategorischen Attribute wurden bereits in numerische Dummy-Variablen umgewandelt."
   ]
  },
  {
   "cell_type": "code",
   "execution_count": 3,
   "metadata": {
    "scrolled": false
   },
   "outputs": [
    {
     "name": "stdout",
     "output_type": "stream",
     "text": [
      "<class 'pandas.core.frame.DataFrame'>\n",
      "RangeIndex: 303 entries, 0 to 302\n",
      "Data columns (total 14 columns):\n",
      "age         303 non-null int64\n",
      "sex         303 non-null int64\n",
      "cp          303 non-null int64\n",
      "trestbps    303 non-null int64\n",
      "chol        303 non-null int64\n",
      "fbs         303 non-null int64\n",
      "restecg     303 non-null int64\n",
      "thalach     303 non-null int64\n",
      "exang       303 non-null int64\n",
      "oldpeak     303 non-null float64\n",
      "slope       303 non-null int64\n",
      "ca          303 non-null int64\n",
      "thal        303 non-null int64\n",
      "target      303 non-null int64\n",
      "dtypes: float64(1), int64(13)\n",
      "memory usage: 33.2 KB\n"
     ]
    }
   ],
   "source": [
    "df.info()"
   ]
  },
  {
   "cell_type": "markdown",
   "metadata": {},
   "source": [
    "Die folgende Tabelle enthält allgemeine Informationen zu den vorhandenen Daten, aus denen sich erste Rückschlüsse ziehen lassen, wie z.B.: Das Durchschnittsalter der Patienten beträgt ca. 54 Jahre, der jüngste Studienteilnehmer ist 29 Jahre alt, der älteste 77."
   ]
  },
  {
   "cell_type": "code",
   "execution_count": 4,
   "metadata": {
    "scrolled": true
   },
   "outputs": [
    {
     "data": {
      "text/html": [
       "<div>\n",
       "<style scoped>\n",
       "    .dataframe tbody tr th:only-of-type {\n",
       "        vertical-align: middle;\n",
       "    }\n",
       "\n",
       "    .dataframe tbody tr th {\n",
       "        vertical-align: top;\n",
       "    }\n",
       "\n",
       "    .dataframe thead th {\n",
       "        text-align: right;\n",
       "    }\n",
       "</style>\n",
       "<table border=\"1\" class=\"dataframe\">\n",
       "  <thead>\n",
       "    <tr style=\"text-align: right;\">\n",
       "      <th></th>\n",
       "      <th>age</th>\n",
       "      <th>sex</th>\n",
       "      <th>cp</th>\n",
       "      <th>trestbps</th>\n",
       "      <th>chol</th>\n",
       "      <th>fbs</th>\n",
       "      <th>restecg</th>\n",
       "      <th>thalach</th>\n",
       "      <th>exang</th>\n",
       "      <th>oldpeak</th>\n",
       "      <th>slope</th>\n",
       "      <th>ca</th>\n",
       "      <th>thal</th>\n",
       "      <th>target</th>\n",
       "    </tr>\n",
       "  </thead>\n",
       "  <tbody>\n",
       "    <tr>\n",
       "      <th>count</th>\n",
       "      <td>303.000000</td>\n",
       "      <td>303.000000</td>\n",
       "      <td>303.000000</td>\n",
       "      <td>303.000000</td>\n",
       "      <td>303.000000</td>\n",
       "      <td>303.000000</td>\n",
       "      <td>303.000000</td>\n",
       "      <td>303.000000</td>\n",
       "      <td>303.000000</td>\n",
       "      <td>303.000000</td>\n",
       "      <td>303.000000</td>\n",
       "      <td>303.000000</td>\n",
       "      <td>303.000000</td>\n",
       "      <td>303.000000</td>\n",
       "    </tr>\n",
       "    <tr>\n",
       "      <th>mean</th>\n",
       "      <td>54.366337</td>\n",
       "      <td>0.683168</td>\n",
       "      <td>0.966997</td>\n",
       "      <td>131.623762</td>\n",
       "      <td>246.264026</td>\n",
       "      <td>0.148515</td>\n",
       "      <td>0.528053</td>\n",
       "      <td>149.646865</td>\n",
       "      <td>0.326733</td>\n",
       "      <td>1.039604</td>\n",
       "      <td>1.399340</td>\n",
       "      <td>0.729373</td>\n",
       "      <td>2.313531</td>\n",
       "      <td>0.544554</td>\n",
       "    </tr>\n",
       "    <tr>\n",
       "      <th>std</th>\n",
       "      <td>9.082101</td>\n",
       "      <td>0.466011</td>\n",
       "      <td>1.032052</td>\n",
       "      <td>17.538143</td>\n",
       "      <td>51.830751</td>\n",
       "      <td>0.356198</td>\n",
       "      <td>0.525860</td>\n",
       "      <td>22.905161</td>\n",
       "      <td>0.469794</td>\n",
       "      <td>1.161075</td>\n",
       "      <td>0.616226</td>\n",
       "      <td>1.022606</td>\n",
       "      <td>0.612277</td>\n",
       "      <td>0.498835</td>\n",
       "    </tr>\n",
       "    <tr>\n",
       "      <th>min</th>\n",
       "      <td>29.000000</td>\n",
       "      <td>0.000000</td>\n",
       "      <td>0.000000</td>\n",
       "      <td>94.000000</td>\n",
       "      <td>126.000000</td>\n",
       "      <td>0.000000</td>\n",
       "      <td>0.000000</td>\n",
       "      <td>71.000000</td>\n",
       "      <td>0.000000</td>\n",
       "      <td>0.000000</td>\n",
       "      <td>0.000000</td>\n",
       "      <td>0.000000</td>\n",
       "      <td>0.000000</td>\n",
       "      <td>0.000000</td>\n",
       "    </tr>\n",
       "    <tr>\n",
       "      <th>25%</th>\n",
       "      <td>47.500000</td>\n",
       "      <td>0.000000</td>\n",
       "      <td>0.000000</td>\n",
       "      <td>120.000000</td>\n",
       "      <td>211.000000</td>\n",
       "      <td>0.000000</td>\n",
       "      <td>0.000000</td>\n",
       "      <td>133.500000</td>\n",
       "      <td>0.000000</td>\n",
       "      <td>0.000000</td>\n",
       "      <td>1.000000</td>\n",
       "      <td>0.000000</td>\n",
       "      <td>2.000000</td>\n",
       "      <td>0.000000</td>\n",
       "    </tr>\n",
       "    <tr>\n",
       "      <th>50%</th>\n",
       "      <td>55.000000</td>\n",
       "      <td>1.000000</td>\n",
       "      <td>1.000000</td>\n",
       "      <td>130.000000</td>\n",
       "      <td>240.000000</td>\n",
       "      <td>0.000000</td>\n",
       "      <td>1.000000</td>\n",
       "      <td>153.000000</td>\n",
       "      <td>0.000000</td>\n",
       "      <td>0.800000</td>\n",
       "      <td>1.000000</td>\n",
       "      <td>0.000000</td>\n",
       "      <td>2.000000</td>\n",
       "      <td>1.000000</td>\n",
       "    </tr>\n",
       "    <tr>\n",
       "      <th>75%</th>\n",
       "      <td>61.000000</td>\n",
       "      <td>1.000000</td>\n",
       "      <td>2.000000</td>\n",
       "      <td>140.000000</td>\n",
       "      <td>274.500000</td>\n",
       "      <td>0.000000</td>\n",
       "      <td>1.000000</td>\n",
       "      <td>166.000000</td>\n",
       "      <td>1.000000</td>\n",
       "      <td>1.600000</td>\n",
       "      <td>2.000000</td>\n",
       "      <td>1.000000</td>\n",
       "      <td>3.000000</td>\n",
       "      <td>1.000000</td>\n",
       "    </tr>\n",
       "    <tr>\n",
       "      <th>max</th>\n",
       "      <td>77.000000</td>\n",
       "      <td>1.000000</td>\n",
       "      <td>3.000000</td>\n",
       "      <td>200.000000</td>\n",
       "      <td>564.000000</td>\n",
       "      <td>1.000000</td>\n",
       "      <td>2.000000</td>\n",
       "      <td>202.000000</td>\n",
       "      <td>1.000000</td>\n",
       "      <td>6.200000</td>\n",
       "      <td>2.000000</td>\n",
       "      <td>4.000000</td>\n",
       "      <td>3.000000</td>\n",
       "      <td>1.000000</td>\n",
       "    </tr>\n",
       "  </tbody>\n",
       "</table>\n",
       "</div>"
      ],
      "text/plain": [
       "              age         sex     ...            thal      target\n",
       "count  303.000000  303.000000     ...      303.000000  303.000000\n",
       "mean    54.366337    0.683168     ...        2.313531    0.544554\n",
       "std      9.082101    0.466011     ...        0.612277    0.498835\n",
       "min     29.000000    0.000000     ...        0.000000    0.000000\n",
       "25%     47.500000    0.000000     ...        2.000000    0.000000\n",
       "50%     55.000000    1.000000     ...        2.000000    1.000000\n",
       "75%     61.000000    1.000000     ...        3.000000    1.000000\n",
       "max     77.000000    1.000000     ...        3.000000    1.000000\n",
       "\n",
       "[8 rows x 14 columns]"
      ]
     },
     "execution_count": 4,
     "metadata": {},
     "output_type": "execute_result"
    }
   ],
   "source": [
    "df.describe()"
   ]
  },
  {
   "cell_type": "markdown",
   "metadata": {},
   "source": [
    "#### Attributtypen\n",
    "\n",
    "Der Datensatz umfasst 9 kategorische und 5 numerische Attribute:\n",
    "\n",
    "###### Kategorische Variablen:\n",
    "\n",
    "Alle kategorischen Attribute (Geschlecht, Cp (Schmerzkategorie), hoher Blutzucker, restecg & slope (EKG Resultate), ca (Anzahl der Hauptgefäße) und thal (Einstfung des Thaliumwerts) wurden bereits in Dummy Variablen umgesetzt\n",
    "\n",
    "- **Sex**: Geschlecht\n",
    "- **Cp**: Schmerzkategorie von 1-4 \n",
    "- **Fbs**: Abnormalie des Blutzuckers (0 = unter dem Durchschnittswert, 1 = über dem Durchschnittswert)\n",
    "- **Exang**: \"Engegefühl\" bei sportlicher Aktivität (0 = Nein, 1 = Ja)\n",
    "- **Restecg**: EKG Untersuchung nach Abnormalitäten (0 = ohne Befund, 1 & 2 mittlerer bis schwerwiegender Befund)\n",
    "- **Slope**: EKG Untersuchung nach kardiographischen Auffälligkeiten (Einteilung von 0-4)\n",
    "- **Ca**: Anzahl erkennbarer Hauptgefäße im Rahmen einer Durchleuchtungsuntersuchung (Einteilung von 0-4, ein Hauptgefäß ist bei Verstopfung nicht sichtbar)\n",
    "- **thal**: Test zur Qualität der Blutversorgung, Prüfung nach Durchblutungsstörung \"Thalassämie\", welche vererbt werden kann\n",
    "- **target**: Ergebnis der Patientenuntersuchung (0 = keine Herzkrankheit, 1 = Herzkrankheit)\n",
    "\n",
    "###### Numerische Variablen:\n",
    "\n",
    "- **Age**: Alter\n",
    "- **Trestbps**: Ruhepuls gemessen an Millimeter Quecksilbersäule, Durchschnittswert bei Erwachsenen: 120-129)\n",
    "- **Chol**: Cholesterin in mg pro Deziliter, Durchschnittswert ist 240 mg/dl\n",
    "- **Thalach**: Maximale Herzfrequenz (bei größtmöglicher Anstrengung) in Herzschläge/ Minute\n",
    "- **Oldpeak**: Befund bei EKG (ST Streckensenkung), der eine bestimmte Basislinie nicht unterschreiten sollte"
   ]
  },
  {
   "cell_type": "markdown",
   "metadata": {},
   "source": [
    "### 1.1 Data Visualization"
   ]
  },
  {
   "cell_type": "markdown",
   "metadata": {},
   "source": [
    "Um ein besseres Verständnis von den entahltenen Daten zu erhalten, werden einige Zusammenhänge als Statistiken visualisiert."
   ]
  },
  {
   "cell_type": "markdown",
   "metadata": {},
   "source": [
    "####  1.1.1 Allgemeine Patienteninformationen"
   ]
  },
  {
   "cell_type": "code",
   "execution_count": 5,
   "metadata": {
    "scrolled": true
   },
   "outputs": [
    {
     "data": {
      "image/png": "[encoded data removed]",
      "text/plain": [
       "<Figure size 432x288 with 1 Axes>"
      ]
     },
     "metadata": {},
     "output_type": "display_data"
    }
   ],
   "source": [
    "values = [96, 207]\n",
    "labels = ['Weiblich', 'Männlich']\n",
    "plt.pie(values, labels= values,counterclock=False, shadow=True)\n",
    "plt.title('Geschlechterverteilung der Patienten')\n",
    "plt.legend(labels,loc=3)\n",
    "plt.show()"
   ]
  },
  {
   "cell_type": "markdown",
   "metadata": {},
   "source": [
    "**Interpretation**: Der Datensatz enthält 96 weibliche und 207 männliche Patienten. Damit ist der Datensatz hinsichtlich der Geschlechteraufteilung hin zu männlichen Geschlechtern verzerrt, da fast doppelt so viele Daten zu Männern, als zu Frauen vorliegen. "
   ]
  },
  {
   "cell_type": "code",
   "execution_count": 6,
   "metadata": {},
   "outputs": [
    {
     "data": {
      "text/plain": [
       "<matplotlib.legend.Legend at 0x7f162981c390>"
      ]
     },
     "execution_count": 6,
     "metadata": {},
     "output_type": "execute_result"
    },
    {
     "data": {
      "image/png": "[encoded data removed]",
      "text/plain": [
       "<Figure size 432x288 with 1 Axes>"
      ]
     },
     "metadata": {},
     "output_type": "display_data"
    }
   ],
   "source": [
    "df.groupby('sex').age.plot(kind='kde')\n",
    "plt.title('Alter der Patienten abhängig von Geschlecht')\n",
    "labels = ['Weiblich', 'Männlich']\n",
    "plt.legend(labels,loc=1)"
   ]
  },
  {
   "cell_type": "markdown",
   "metadata": {},
   "source": [
    "**Interpretation**: Sowohl bei weiblichen, als auch bei männlichen Patienten liegen die meisten daten für Personen zwischen 40 und ca. 75 Jahren vor."
   ]
  },
  {
   "cell_type": "code",
   "execution_count": 7,
   "metadata": {},
   "outputs": [
    {
     "data": {
      "image/png": "[encoded data removed]",
      "text/plain": [
       "<Figure size 432x288 with 1 Axes>"
      ]
     },
     "metadata": {},
     "output_type": "display_data"
    }
   ],
   "source": [
    "values = [138, 165]\n",
    "labels = ['Nicht herzkrank', 'Herzkrank']\n",
    "plt.pie(values, labels= values,counterclock=False, shadow=True)\n",
    "plt.title('Verteilung der Präsenz von Herzkrankheiten')\n",
    "plt.legend(labels,loc=3)\n",
    "plt.show()"
   ]
  },
  {
   "cell_type": "markdown",
   "metadata": {},
   "source": [
    "**Interpretation**: Hinsichtlich der Präsenz von Herzkrankheiten ist der Datensatz \"relativ\" ausbalanciert. Somit hat das ML Modell eine augeglichene Informationsbasis für die Klassifizierung von gesunden und kranken Patienten."
   ]
  },
  {
   "cell_type": "code",
   "execution_count": 8,
   "metadata": {},
   "outputs": [
    {
     "data": {
      "text/plain": [
       "Text(0.5, 1.0, 'Präsenz von Herzkrankheiten nach Geschlechtern')"
      ]
     },
     "execution_count": 8,
     "metadata": {},
     "output_type": "execute_result"
    },
    {
     "data": {
      "image/png": "[encoded data removed]",
      "text/plain": [
       "<Figure size 432x288 with 1 Axes>"
      ]
     },
     "metadata": {},
     "output_type": "display_data"
    }
   ],
   "source": [
    "ct_tarsex = pd.crosstab(df.target, df.sex)\n",
    "ct_tarsex.plot.bar(stacked=True)\n",
    "labels = ['Weiblich', 'Männlich']\n",
    "plt.legend(labels,loc=3)\n",
    "plt.title('Präsenz von Herzkrankheiten nach Geschlechtern')"
   ]
  },
  {
   "cell_type": "markdown",
   "metadata": {},
   "source": [
    "**Interpretation**: Der Graphik zufolge sind unter den Patienten ohne Herzkrankheiten deutlich mehr Männer als Frauen. Das Modell könnte demnach bei der Klassifizierung von gesunden Patienten daher möglicherweise \"biased\" bzw. voreingenommen sein und Männer tendenziell öfter als nicht herzkrank einstufen. Jedoch muss bei der Graphik die ungleiche Geschlechterverteilung innerhalb des Datensatzes beachtet werden."
   ]
  },
  {
   "cell_type": "markdown",
   "metadata": {},
   "source": [
    "####  1.1.2 Spezifische medizinische Informationen"
   ]
  },
  {
   "cell_type": "code",
   "execution_count": 9,
   "metadata": {
    "scrolled": false
   },
   "outputs": [
    {
     "data": {
      "image/png": "[encoded data removed]",
      "text/plain": [
       "<Figure size 432x288 with 1 Axes>"
      ]
     },
     "metadata": {},
     "output_type": "display_data"
    }
   ],
   "source": [
    "values = [143, 86, 50, 23]\n",
    "labels = ['Typisches Beklemmungsgefühl / Angina', 'Untpyische Angina', 'Nicht-anginale Schmerzen', 'Ohne erkennbare Symptome']\n",
    "plt.pie(values, labels= values,counterclock=False, shadow=True)\n",
    "plt.title('Verteilung der Schmerzkategorien')\n",
    "plt.legend(labels, loc=3)\n",
    "plt.show()"
   ]
  },
  {
   "cell_type": "markdown",
   "metadata": {},
   "source": [
    "**Interpretation**: Fast 50% aller Patienten haben ein typisches Beklemmungsgefühl im Herzbereich, auch Angina genannt. Die verbleibenden Testpersonen teilen sich zu ungefähr gleichen Teilen auf untypische Beklemmungserscheinungen und nicht präsente Symptome auf."
   ]
  },
  {
   "cell_type": "code",
   "execution_count": 10,
   "metadata": {},
   "outputs": [
    {
     "data": {
      "text/plain": [
       "Text(0.5, 1.0, 'Schmerzkategorien gemappt zu vorhandenen Herzkrankheiten')"
      ]
     },
     "execution_count": 10,
     "metadata": {},
     "output_type": "execute_result"
    },
    {
     "data": {
      "image/png": "[encoded data removed]",
      "text/plain": [
       "<Figure size 432x288 with 1 Axes>"
      ]
     },
     "metadata": {},
     "output_type": "display_data"
    }
   ],
   "source": [
    "ct2_anglabel = pd.crosstab(df.target, df.cp)\n",
    "ct2_anglabel.plot.bar(stacked=True)\n",
    "\n",
    "plt.title('Schmerzkategorien gemappt zu vorhandenen Herzkrankheiten')"
   ]
  },
  {
   "cell_type": "markdown",
   "metadata": {},
   "source": [
    "**Interpretation**: Entgegen der gängigen Vermutung, dass anginale Schmerzen stark mit Herzkrankheiten korrelieren, sind vor allem nicht-angila und untypische Schmerzen Zeichen für eine Herzkrankheit."
   ]
  },
  {
   "cell_type": "code",
   "execution_count": 11,
   "metadata": {
    "scrolled": false
   },
   "outputs": [
    {
     "data": {
      "text/plain": [
       "Text(0.5, 1.0, 'Anzahl erkannter Gefäße im Verhältnis zu präsenten Herzkrankheiten')"
      ]
     },
     "execution_count": 11,
     "metadata": {},
     "output_type": "execute_result"
    },
    {
     "data": {
      "image/png": "[encoded data removed]",
      "text/plain": [
       "<Figure size 432x288 with 1 Axes>"
      ]
     },
     "metadata": {},
     "output_type": "display_data"
    }
   ],
   "source": [
    "ct2_calabel = pd.crosstab(df.target, df.ca)\n",
    "ct2_calabel.plot.bar(stacked=True)\n",
    "\n",
    "plt.title('Anzahl erkannter Gefäße im Verhältnis zu präsenten Herzkrankheiten')"
   ]
  },
  {
   "cell_type": "markdown",
   "metadata": {},
   "source": [
    "**Interpretation**: Auf Basis des allgemeinen medizinischen Kontexts kann die Hypothese aufgestellt werden, dass Patienten mit 0 erkannten großen Hergefäßen (durch Verstopfung) häufiger unter einer Herzkrankheiten leiden. D.h. je weniger Gefäße erkannt wurden, desto höher wäre die Wahrscheinlichkeit einer Herzkrankheit. \n",
    "\n",
    "Die obige Graphik bestätigt diese Vermutung, da ein Großteil aller Patienten mit verstopften Gefäßen tatsächlich unter einer Herzkrankheit leiden. Dies liefert einen ersten Hinweis auf eine vorliegende Korrelation zwischen der Anzahl erkannter Hauptgefäße und dem \"Label\" Herzkrankheit. "
   ]
  },
  {
   "cell_type": "code",
   "execution_count": 12,
   "metadata": {},
   "outputs": [
    {
     "data": {
      "text/plain": [
       "Text(0.5, 1.0, 'Werteverteilung des Ruhepuls')"
      ]
     },
     "execution_count": 12,
     "metadata": {},
     "output_type": "execute_result"
    },
    {
     "data": {
      "image/png": "[encoded data removed]",
      "text/plain": [
       "<Figure size 432x288 with 1 Axes>"
      ]
     },
     "metadata": {},
     "output_type": "display_data"
    }
   ],
   "source": [
    "norm_bot = 120\n",
    "norm_top = 129\n",
    "\n",
    "result = plt.hist(df[['trestbps']].values, bins=24, color='dodgerblue', edgecolor='k', alpha=0.65)\n",
    "plt.axvline(norm_bot, color='r', linewidth=2)\n",
    "plt.axvline(norm_top, color='r', linewidth=2)\n",
    "\n",
    "_, max_ = plt.ylim()\n",
    "\n",
    "plt.text(160 + 160/10, \n",
    "         max_ - max_/10, \n",
    "         'Optimal      {:}'.format(norm_bot))\n",
    "\n",
    "plt.text(160 + 160/10, \n",
    "         max_ - max_/10 - 5, \n",
    "         'Normal <= {:}'.format(norm_top))\n",
    "\n",
    "plt.title('Werteverteilung des Ruhepuls')"
   ]
  },
  {
   "cell_type": "markdown",
   "metadata": {},
   "source": [
    "**Interpretation**: Der obigen Graphik kann entnommen werden, dass die Mehrheit aller Patienten in ihren Ruhepuls-Werten um Durchschnittswerte zentriert ist. Aus diesem Grund lässt sich vermuten, dass der Ruhepuls als solches nicht direkt mit dem Label korreliert.  "
   ]
  },
  {
   "cell_type": "code",
   "execution_count": 13,
   "metadata": {},
   "outputs": [
    {
     "data": {
      "text/plain": [
       "Text(0.5, 1.0, 'Werteverteilung der Cholesterin-Konzentration in mg/dl')"
      ]
     },
     "execution_count": 13,
     "metadata": {},
     "output_type": "execute_result"
    },
    {
     "data": {
      "image/png": "[encoded data removed]",
      "text/plain": [
       "<Figure size 432x288 with 1 Axes>"
      ]
     },
     "metadata": {},
     "output_type": "display_data"
    }
   ],
   "source": [
    "avg = 240\n",
    "\n",
    "result = plt.hist(df[['chol']].values, bins=24, color='dodgerblue', edgecolor='k', alpha=0.65)\n",
    "plt.axvline(avg, color='r', linewidth=2)\n",
    "\n",
    "_, max_ = plt.ylim()\n",
    "\n",
    "plt.text(400 + 400/10, \n",
    "         max_ - max_/10, \n",
    "         'Durchschnitt: {:}'.format(avg))\n",
    "\n",
    "plt.title('Werteverteilung der Cholesterin-Konzentration in mg/dl')"
   ]
  },
  {
   "cell_type": "markdown",
   "metadata": {},
   "source": [
    "**Interpretation**: In Bezug auf die Cholesterin Konzentration der Patienten lässt sich ein ähnliches Phänomen feststellen. Auch hier wird eine geringe Korrelation mit dem Label vermutet, da sich ein Großteil der Cholesterin Werte des Datensatzes um einen normalen bzw. durchschnittlichen Wertebereich ansiedeln.\n",
    "\n",
    "Hinweis: Zunächst wurde der Wert von über 500 mg/dl Cholesterin als Outlier betrachtet, weitere Recherchen ergaben, dass ein derartiger Wert allerdings durchaus bei spezifischen Herzkrankheiten auftreten kann."
   ]
  },
  {
   "cell_type": "code",
   "execution_count": 14,
   "metadata": {
    "scrolled": true
   },
   "outputs": [],
   "source": [
    "#pandas_profiling.ProfileReport(df)"
   ]
  },
  {
   "cell_type": "markdown",
   "metadata": {},
   "source": [
    "#### Interpretation der zusätzlichen Report-Ergebnisse:\n",
    "\n",
    "- Im Datensatz befindet sich ein Duplikat, welches aus Gründen der Repräsentativität entfernt werden sollte\n",
    "- Das Attribut \"oldpeak\" ist in der Verteilung seiner Werte linksverzerrt, da 32,7% aller Datensätze den Wert \"0\" enthalten. \n",
    "\n",
    "Hinweis: Die verbleibenden \"zero\" Warnungen bei Attributen beziehen sich auf kategrosiche Variablen und sind in diesem Fall nicht negativ auszuwerten."
   ]
  },
  {
   "cell_type": "code",
   "execution_count": 15,
   "metadata": {},
   "outputs": [],
   "source": [
    "# Löschen der Duplikate und dauerhafte Speicherung mtihilfe von inplace=True, andernfalls würde eine Kopie erstellt werden\n",
    "df.drop_duplicates(inplace=True)"
   ]
  },
  {
   "cell_type": "markdown",
   "metadata": {},
   "source": [
    "## 2. Feature Selection"
   ]
  },
  {
   "cell_type": "markdown",
   "metadata": {},
   "source": [
    "Um erkennen zu können, welche Attribute tatsächlich ausschlaggebend für die Diagnose einer Herzkrankheit sind, können sowohl ihre Korrelationen mit dem Label \"krank\" oder \"nicht krank\", als auch ihre Verbidnung untereinander betrachtet werden. Die Matrix zeigt die jeweiligen Korrelationen auf Basis des Pearson Koeffizients, wobei eine Nähe zu dem Wert 1 eine starke Korrelation bedeutet. "
   ]
  },
  {
   "cell_type": "code",
   "execution_count": 16,
   "metadata": {
    "scrolled": true
   },
   "outputs": [
    {
     "data": {
      "text/html": [
       "<div>\n",
       "<style scoped>\n",
       "    .dataframe tbody tr th:only-of-type {\n",
       "        vertical-align: middle;\n",
       "    }\n",
       "\n",
       "    .dataframe tbody tr th {\n",
       "        vertical-align: top;\n",
       "    }\n",
       "\n",
       "    .dataframe thead th {\n",
       "        text-align: right;\n",
       "    }\n",
       "</style>\n",
       "<table border=\"1\" class=\"dataframe\">\n",
       "  <thead>\n",
       "    <tr style=\"text-align: right;\">\n",
       "      <th></th>\n",
       "      <th>age</th>\n",
       "      <th>sex</th>\n",
       "      <th>cp</th>\n",
       "      <th>trestbps</th>\n",
       "      <th>chol</th>\n",
       "      <th>fbs</th>\n",
       "      <th>restecg</th>\n",
       "      <th>thalach</th>\n",
       "      <th>exang</th>\n",
       "      <th>oldpeak</th>\n",
       "      <th>slope</th>\n",
       "      <th>ca</th>\n",
       "      <th>thal</th>\n",
       "      <th>target</th>\n",
       "    </tr>\n",
       "  </thead>\n",
       "  <tbody>\n",
       "    <tr>\n",
       "      <th>age</th>\n",
       "      <td>1.000000</td>\n",
       "      <td>-0.094962</td>\n",
       "      <td>-0.063107</td>\n",
       "      <td>0.283121</td>\n",
       "      <td>0.207216</td>\n",
       "      <td>0.119492</td>\n",
       "      <td>-0.111590</td>\n",
       "      <td>-0.395235</td>\n",
       "      <td>0.093216</td>\n",
       "      <td>0.206040</td>\n",
       "      <td>-0.164124</td>\n",
       "      <td>0.302261</td>\n",
       "      <td>0.065317</td>\n",
       "      <td>-0.221476</td>\n",
       "    </tr>\n",
       "    <tr>\n",
       "      <th>sex</th>\n",
       "      <td>-0.094962</td>\n",
       "      <td>1.000000</td>\n",
       "      <td>-0.051740</td>\n",
       "      <td>-0.057647</td>\n",
       "      <td>-0.195571</td>\n",
       "      <td>0.046022</td>\n",
       "      <td>-0.060351</td>\n",
       "      <td>-0.046439</td>\n",
       "      <td>0.143460</td>\n",
       "      <td>0.098322</td>\n",
       "      <td>-0.032990</td>\n",
       "      <td>0.113060</td>\n",
       "      <td>0.211452</td>\n",
       "      <td>-0.283609</td>\n",
       "    </tr>\n",
       "    <tr>\n",
       "      <th>cp</th>\n",
       "      <td>-0.063107</td>\n",
       "      <td>-0.051740</td>\n",
       "      <td>1.000000</td>\n",
       "      <td>0.046486</td>\n",
       "      <td>-0.072682</td>\n",
       "      <td>0.096018</td>\n",
       "      <td>0.041561</td>\n",
       "      <td>0.293367</td>\n",
       "      <td>-0.392937</td>\n",
       "      <td>-0.146692</td>\n",
       "      <td>0.116854</td>\n",
       "      <td>-0.195356</td>\n",
       "      <td>-0.160370</td>\n",
       "      <td>0.432080</td>\n",
       "    </tr>\n",
       "    <tr>\n",
       "      <th>trestbps</th>\n",
       "      <td>0.283121</td>\n",
       "      <td>-0.057647</td>\n",
       "      <td>0.046486</td>\n",
       "      <td>1.000000</td>\n",
       "      <td>0.125256</td>\n",
       "      <td>0.178125</td>\n",
       "      <td>-0.115367</td>\n",
       "      <td>-0.048023</td>\n",
       "      <td>0.068526</td>\n",
       "      <td>0.194600</td>\n",
       "      <td>-0.122873</td>\n",
       "      <td>0.099248</td>\n",
       "      <td>0.062870</td>\n",
       "      <td>-0.146269</td>\n",
       "    </tr>\n",
       "    <tr>\n",
       "      <th>chol</th>\n",
       "      <td>0.207216</td>\n",
       "      <td>-0.195571</td>\n",
       "      <td>-0.072682</td>\n",
       "      <td>0.125256</td>\n",
       "      <td>1.000000</td>\n",
       "      <td>0.011428</td>\n",
       "      <td>-0.147602</td>\n",
       "      <td>-0.005308</td>\n",
       "      <td>0.064099</td>\n",
       "      <td>0.050086</td>\n",
       "      <td>0.000417</td>\n",
       "      <td>0.086878</td>\n",
       "      <td>0.096810</td>\n",
       "      <td>-0.081437</td>\n",
       "    </tr>\n",
       "    <tr>\n",
       "      <th>fbs</th>\n",
       "      <td>0.119492</td>\n",
       "      <td>0.046022</td>\n",
       "      <td>0.096018</td>\n",
       "      <td>0.178125</td>\n",
       "      <td>0.011428</td>\n",
       "      <td>1.000000</td>\n",
       "      <td>-0.083081</td>\n",
       "      <td>-0.007169</td>\n",
       "      <td>0.024729</td>\n",
       "      <td>0.004514</td>\n",
       "      <td>-0.058654</td>\n",
       "      <td>0.144935</td>\n",
       "      <td>-0.032752</td>\n",
       "      <td>-0.026826</td>\n",
       "    </tr>\n",
       "    <tr>\n",
       "      <th>restecg</th>\n",
       "      <td>-0.111590</td>\n",
       "      <td>-0.060351</td>\n",
       "      <td>0.041561</td>\n",
       "      <td>-0.115367</td>\n",
       "      <td>-0.147602</td>\n",
       "      <td>-0.083081</td>\n",
       "      <td>1.000000</td>\n",
       "      <td>0.041210</td>\n",
       "      <td>-0.068807</td>\n",
       "      <td>-0.056251</td>\n",
       "      <td>0.090402</td>\n",
       "      <td>-0.083112</td>\n",
       "      <td>-0.010473</td>\n",
       "      <td>0.134874</td>\n",
       "    </tr>\n",
       "    <tr>\n",
       "      <th>thalach</th>\n",
       "      <td>-0.395235</td>\n",
       "      <td>-0.046439</td>\n",
       "      <td>0.293367</td>\n",
       "      <td>-0.048023</td>\n",
       "      <td>-0.005308</td>\n",
       "      <td>-0.007169</td>\n",
       "      <td>0.041210</td>\n",
       "      <td>1.000000</td>\n",
       "      <td>-0.377411</td>\n",
       "      <td>-0.342201</td>\n",
       "      <td>0.384754</td>\n",
       "      <td>-0.228311</td>\n",
       "      <td>-0.094910</td>\n",
       "      <td>0.419955</td>\n",
       "    </tr>\n",
       "    <tr>\n",
       "      <th>exang</th>\n",
       "      <td>0.093216</td>\n",
       "      <td>0.143460</td>\n",
       "      <td>-0.392937</td>\n",
       "      <td>0.068526</td>\n",
       "      <td>0.064099</td>\n",
       "      <td>0.024729</td>\n",
       "      <td>-0.068807</td>\n",
       "      <td>-0.377411</td>\n",
       "      <td>1.000000</td>\n",
       "      <td>0.286766</td>\n",
       "      <td>-0.256106</td>\n",
       "      <td>0.125377</td>\n",
       "      <td>0.205826</td>\n",
       "      <td>-0.435601</td>\n",
       "    </tr>\n",
       "    <tr>\n",
       "      <th>oldpeak</th>\n",
       "      <td>0.206040</td>\n",
       "      <td>0.098322</td>\n",
       "      <td>-0.146692</td>\n",
       "      <td>0.194600</td>\n",
       "      <td>0.050086</td>\n",
       "      <td>0.004514</td>\n",
       "      <td>-0.056251</td>\n",
       "      <td>-0.342201</td>\n",
       "      <td>0.286766</td>\n",
       "      <td>1.000000</td>\n",
       "      <td>-0.576314</td>\n",
       "      <td>0.236560</td>\n",
       "      <td>0.209090</td>\n",
       "      <td>-0.429146</td>\n",
       "    </tr>\n",
       "    <tr>\n",
       "      <th>slope</th>\n",
       "      <td>-0.164124</td>\n",
       "      <td>-0.032990</td>\n",
       "      <td>0.116854</td>\n",
       "      <td>-0.122873</td>\n",
       "      <td>0.000417</td>\n",
       "      <td>-0.058654</td>\n",
       "      <td>0.090402</td>\n",
       "      <td>0.384754</td>\n",
       "      <td>-0.256106</td>\n",
       "      <td>-0.576314</td>\n",
       "      <td>1.000000</td>\n",
       "      <td>-0.092236</td>\n",
       "      <td>-0.103314</td>\n",
       "      <td>0.343940</td>\n",
       "    </tr>\n",
       "    <tr>\n",
       "      <th>ca</th>\n",
       "      <td>0.302261</td>\n",
       "      <td>0.113060</td>\n",
       "      <td>-0.195356</td>\n",
       "      <td>0.099248</td>\n",
       "      <td>0.086878</td>\n",
       "      <td>0.144935</td>\n",
       "      <td>-0.083112</td>\n",
       "      <td>-0.228311</td>\n",
       "      <td>0.125377</td>\n",
       "      <td>0.236560</td>\n",
       "      <td>-0.092236</td>\n",
       "      <td>1.000000</td>\n",
       "      <td>0.160085</td>\n",
       "      <td>-0.408992</td>\n",
       "    </tr>\n",
       "    <tr>\n",
       "      <th>thal</th>\n",
       "      <td>0.065317</td>\n",
       "      <td>0.211452</td>\n",
       "      <td>-0.160370</td>\n",
       "      <td>0.062870</td>\n",
       "      <td>0.096810</td>\n",
       "      <td>-0.032752</td>\n",
       "      <td>-0.010473</td>\n",
       "      <td>-0.094910</td>\n",
       "      <td>0.205826</td>\n",
       "      <td>0.209090</td>\n",
       "      <td>-0.103314</td>\n",
       "      <td>0.160085</td>\n",
       "      <td>1.000000</td>\n",
       "      <td>-0.343101</td>\n",
       "    </tr>\n",
       "    <tr>\n",
       "      <th>target</th>\n",
       "      <td>-0.221476</td>\n",
       "      <td>-0.283609</td>\n",
       "      <td>0.432080</td>\n",
       "      <td>-0.146269</td>\n",
       "      <td>-0.081437</td>\n",
       "      <td>-0.026826</td>\n",
       "      <td>0.134874</td>\n",
       "      <td>0.419955</td>\n",
       "      <td>-0.435601</td>\n",
       "      <td>-0.429146</td>\n",
       "      <td>0.343940</td>\n",
       "      <td>-0.408992</td>\n",
       "      <td>-0.343101</td>\n",
       "      <td>1.000000</td>\n",
       "    </tr>\n",
       "  </tbody>\n",
       "</table>\n",
       "</div>"
      ],
      "text/plain": [
       "               age       sex        cp    ...           ca      thal    target\n",
       "age       1.000000 -0.094962 -0.063107    ...     0.302261  0.065317 -0.221476\n",
       "sex      -0.094962  1.000000 -0.051740    ...     0.113060  0.211452 -0.283609\n",
       "cp       -0.063107 -0.051740  1.000000    ...    -0.195356 -0.160370  0.432080\n",
       "trestbps  0.283121 -0.057647  0.046486    ...     0.099248  0.062870 -0.146269\n",
       "chol      0.207216 -0.195571 -0.072682    ...     0.086878  0.096810 -0.081437\n",
       "fbs       0.119492  0.046022  0.096018    ...     0.144935 -0.032752 -0.026826\n",
       "restecg  -0.111590 -0.060351  0.041561    ...    -0.083112 -0.010473  0.134874\n",
       "thalach  -0.395235 -0.046439  0.293367    ...    -0.228311 -0.094910  0.419955\n",
       "exang     0.093216  0.143460 -0.392937    ...     0.125377  0.205826 -0.435601\n",
       "oldpeak   0.206040  0.098322 -0.146692    ...     0.236560  0.209090 -0.429146\n",
       "slope    -0.164124 -0.032990  0.116854    ...    -0.092236 -0.103314  0.343940\n",
       "ca        0.302261  0.113060 -0.195356    ...     1.000000  0.160085 -0.408992\n",
       "thal      0.065317  0.211452 -0.160370    ...     0.160085  1.000000 -0.343101\n",
       "target   -0.221476 -0.283609  0.432080    ...    -0.408992 -0.343101  1.000000\n",
       "\n",
       "[14 rows x 14 columns]"
      ]
     },
     "execution_count": 16,
     "metadata": {},
     "output_type": "execute_result"
    }
   ],
   "source": [
    "df.corr()"
   ]
  },
  {
   "cell_type": "code",
   "execution_count": 17,
   "metadata": {
    "scrolled": false
   },
   "outputs": [
    {
     "data": {
      "text/plain": [
       "<matplotlib.image.AxesImage at 0x7f1610b5ad30>"
      ]
     },
     "execution_count": 17,
     "metadata": {},
     "output_type": "execute_result"
    },
    {
     "data": {
      "image/png": "[encoded data removed]",
      "text/plain": [
       "<Figure size 288x288 with 1 Axes>"
      ]
     },
     "metadata": {},
     "output_type": "display_data"
    }
   ],
   "source": [
    "plt.matshow(df.corr())"
   ]
  },
  {
   "cell_type": "markdown",
   "metadata": {},
   "source": [
    "Vermutete Korrelationen:\n",
    "\n",
    "- Wie bereits vermutet, haben Ruhepuls und Cholesterin-Konzentration aufgrund ihrer starken Orientierung an Durchschnittswerten keine starke Korrelation zu dem Label. (Korrelation nahe 0)\n",
    "\n",
    "Am stärksten korrelieren die folgenden Features:\n",
    "\n",
    "- CP (0,43)\n",
    "- Thalach (0,41)\n",
    "- Exang (-0,43)\n",
    "- Oldpeak (-0,42)\n",
    "- Ca (-0,40)\n",
    "\n",
    "Die Vermutung liegt nahe, dass diese Features am besten für das spätere Model Training geeignet sind. "
   ]
  },
  {
   "cell_type": "markdown",
   "metadata": {},
   "source": [
    "Die obige Matrix lässt eine erste Beurteilung der Signifikanz der Attribute zu. Um eine möglichst optimale Anzahl an repräsentativen Attributen bzw. Features zu erhalten, wird eine statistische Selektionsmethode gewählt:"
   ]
  },
  {
   "cell_type": "code",
   "execution_count": 18,
   "metadata": {},
   "outputs": [],
   "source": [
    "from sklearn.feature_selection import f_classif, SelectKBest"
   ]
  },
  {
   "cell_type": "code",
   "execution_count": 19,
   "metadata": {},
   "outputs": [],
   "source": [
    "def select_kbest_clf(data_frame, target, k=5):\n",
    "\n",
    "    feat_selector = SelectKBest(f_classif, k=k)\n",
    "    _ = feat_selector.fit(data_frame.drop(target, axis=1), data_frame[target])\n",
    "    \n",
    "    feat_scores = pd.DataFrame()\n",
    "    feat_scores[\"F Score\"] = feat_selector.scores_\n",
    "    feat_scores[\"P Value\"] = feat_selector.pvalues_\n",
    "    feat_scores[\"Support\"] = feat_selector.get_support()\n",
    "    feat_scores[\"Attribute\"] = data_frame.drop(target, axis=1).columns\n",
    "    \n",
    "    return feat_scores "
   ]
  },
  {
   "cell_type": "code",
   "execution_count": 20,
   "metadata": {
    "scrolled": false
   },
   "outputs": [
    {
     "data": {
      "text/html": [
       "<div>\n",
       "<style scoped>\n",
       "    .dataframe tbody tr th:only-of-type {\n",
       "        vertical-align: middle;\n",
       "    }\n",
       "\n",
       "    .dataframe tbody tr th {\n",
       "        vertical-align: top;\n",
       "    }\n",
       "\n",
       "    .dataframe thead th {\n",
       "        text-align: right;\n",
       "    }\n",
       "</style>\n",
       "<table border=\"1\" class=\"dataframe\">\n",
       "  <thead>\n",
       "    <tr style=\"text-align: right;\">\n",
       "      <th></th>\n",
       "      <th>F Score</th>\n",
       "      <th>P Value</th>\n",
       "      <th>Support</th>\n",
       "      <th>Attribute</th>\n",
       "    </tr>\n",
       "  </thead>\n",
       "  <tbody>\n",
       "    <tr>\n",
       "      <th>0</th>\n",
       "      <td>15.474511</td>\n",
       "      <td>1.039484e-04</td>\n",
       "      <td>False</td>\n",
       "      <td>age</td>\n",
       "    </tr>\n",
       "    <tr>\n",
       "      <th>1</th>\n",
       "      <td>26.240952</td>\n",
       "      <td>5.402436e-07</td>\n",
       "      <td>False</td>\n",
       "      <td>sex</td>\n",
       "    </tr>\n",
       "    <tr>\n",
       "      <th>2</th>\n",
       "      <td>68.864299</td>\n",
       "      <td>3.627384e-15</td>\n",
       "      <td>True</td>\n",
       "      <td>cp</td>\n",
       "    </tr>\n",
       "    <tr>\n",
       "      <th>3</th>\n",
       "      <td>6.558676</td>\n",
       "      <td>1.092654e-02</td>\n",
       "      <td>False</td>\n",
       "      <td>trestbps</td>\n",
       "    </tr>\n",
       "    <tr>\n",
       "      <th>4</th>\n",
       "      <td>2.002888</td>\n",
       "      <td>1.580370e-01</td>\n",
       "      <td>False</td>\n",
       "      <td>chol</td>\n",
       "    </tr>\n",
       "    <tr>\n",
       "      <th>5</th>\n",
       "      <td>0.216045</td>\n",
       "      <td>6.424070e-01</td>\n",
       "      <td>False</td>\n",
       "      <td>fbs</td>\n",
       "    </tr>\n",
       "    <tr>\n",
       "      <th>6</th>\n",
       "      <td>5.558449</td>\n",
       "      <td>1.903361e-02</td>\n",
       "      <td>False</td>\n",
       "      <td>restecg</td>\n",
       "    </tr>\n",
       "    <tr>\n",
       "      <th>7</th>\n",
       "      <td>64.237793</td>\n",
       "      <td>2.476146e-14</td>\n",
       "      <td>True</td>\n",
       "      <td>thalach</td>\n",
       "    </tr>\n",
       "    <tr>\n",
       "      <th>8</th>\n",
       "      <td>70.255191</td>\n",
       "      <td>2.046468e-15</td>\n",
       "      <td>True</td>\n",
       "      <td>exang</td>\n",
       "    </tr>\n",
       "    <tr>\n",
       "      <th>9</th>\n",
       "      <td>67.721931</td>\n",
       "      <td>5.814567e-15</td>\n",
       "      <td>True</td>\n",
       "      <td>oldpeak</td>\n",
       "    </tr>\n",
       "    <tr>\n",
       "      <th>10</th>\n",
       "      <td>40.249626</td>\n",
       "      <td>8.221389e-10</td>\n",
       "      <td>False</td>\n",
       "      <td>slope</td>\n",
       "    </tr>\n",
       "    <tr>\n",
       "      <th>11</th>\n",
       "      <td>60.262749</td>\n",
       "      <td>1.317346e-13</td>\n",
       "      <td>True</td>\n",
       "      <td>ca</td>\n",
       "    </tr>\n",
       "    <tr>\n",
       "      <th>12</th>\n",
       "      <td>40.027376</td>\n",
       "      <td>9.089044e-10</td>\n",
       "      <td>False</td>\n",
       "      <td>thal</td>\n",
       "    </tr>\n",
       "  </tbody>\n",
       "</table>\n",
       "</div>"
      ],
      "text/plain": [
       "      F Score       P Value  Support Attribute\n",
       "0   15.474511  1.039484e-04    False       age\n",
       "1   26.240952  5.402436e-07    False       sex\n",
       "2   68.864299  3.627384e-15     True        cp\n",
       "3    6.558676  1.092654e-02    False  trestbps\n",
       "4    2.002888  1.580370e-01    False      chol\n",
       "5    0.216045  6.424070e-01    False       fbs\n",
       "6    5.558449  1.903361e-02    False   restecg\n",
       "7   64.237793  2.476146e-14     True   thalach\n",
       "8   70.255191  2.046468e-15     True     exang\n",
       "9   67.721931  5.814567e-15     True   oldpeak\n",
       "10  40.249626  8.221389e-10    False     slope\n",
       "11  60.262749  1.317346e-13     True        ca\n",
       "12  40.027376  9.089044e-10    False      thal"
      ]
     },
     "execution_count": 20,
     "metadata": {},
     "output_type": "execute_result"
    }
   ],
   "source": [
    "select_kbest_clf(df, 'target')"
   ]
  },
  {
   "cell_type": "markdown",
   "metadata": {},
   "source": [
    "Die mit \"True\" gekennzeichneten Attribute sind laut der Analyse als Features am besten geeignet."
   ]
  },
  {
   "cell_type": "markdown",
   "metadata": {},
   "source": [
    "## 3. Modeling"
   ]
  },
  {
   "cell_type": "markdown",
   "metadata": {},
   "source": [
    "#### Pipeline:\n",
    "- Pipeline \n",
    "    - Zusammenfassen von Teilen des Preprocessing und des Classifiers zu einer Pipeline. Da die Pipeline Modifikationen aller Paramter der einzelnen Komponenten anbietet, wird die Anwendung einer Grid Search erleichtert/ermöglicht\n",
    "    \n",
    "\n",
    "\n",
    "#### Feature Selection: \n",
    "- SelectKBest \n",
    "    - Ermitteln der am besten korrelierenden Features -> reduzieren der Features\n",
    "\n",
    "#### Scaling: \n",
    "- StandardScaler\n",
    "    - Normalizieren der einzelnen Spalten auf einen mean = 0 (Durchschnitt) und eine standard deviation = 1 (Standardabweichung)\n",
    "\n",
    "#### Parameter Tuning: \n",
    "- GridSearchCV \n",
    "    - Trainieren mehrerer Modelle mit unterschiedlichen Parameterkombinationen. Hier wird ein Modell pro Kombination trainiert, was diese Methode bei grossen Datensätzen und vielen Parameterkombinationen sehr langsam macht. \n",
    "    - Zusätzlich wird Cross Validation angewandt, was den Datensatz in sogenannte Folds einteilt. Die Anzahl kann hier mit Parameter k festgelegt werden. Das Modell wird dann auf verschiedene Kombinationen dieser Folds trainiert und aus den Ergebnissen ein Mittelwert erzeugt. Hierdurch kann Overfitting weitesgehend verhindert werden.\n",
    "- RandomizedGridSearchCV\n",
    "    - Randomisierte Grid Search um bei grosser Anzahl an Parameterkombinationen die Trainingszeit zu verringern. Hier werden zufällig Parameterkombinationen gewählt und die entsprechenden Modelle trainiert.\n",
    "- StratifiedKFold \n",
    "    - Methode zur Einteilung des Datensatzes in k Folds\n"
   ]
  },
  {
   "cell_type": "code",
   "execution_count": 21,
   "metadata": {},
   "outputs": [],
   "source": [
    "from sklearn.pipeline import Pipeline\n",
    "from sklearn.feature_selection import f_classif, SelectKBest\n",
    "from sklearn.preprocessing import StandardScaler\n",
    "from sklearn.model_selection import StratifiedKFold, RandomizedSearchCV, GridSearchCV"
   ]
  },
  {
   "cell_type": "code",
   "execution_count": 22,
   "metadata": {},
   "outputs": [],
   "source": [
    "#Visualizieren der Confusion Matrix\n",
    "#Source: https://github.com/rohanjoseph93/Python-for-data-science/blob/master/Grid%20Search%20-%20Breast%20Cancer.ipynb\n",
    "from sklearn.metrics import confusion_matrix\n",
    "np.set_printoptions(precision=2)\n",
    "\n",
    "import itertools\n",
    "def plot_confusion_matrix(cm, classes,\n",
    "                          normalize=False,\n",
    "                          title='Confusion matrix',\n",
    "                          cmap=plt.cm.Blues):\n",
    "    \"\"\"\n",
    "    This function prints and plots the confusion matrix.\n",
    "    Normalization can be applied by setting `normalize=True`.\n",
    "    \"\"\"\n",
    "    if normalize:\n",
    "        cm = cm.astype('float') / cm.sum(axis=1)[:, np.newaxis]\n",
    "        print(\"Normalized confusion matrix\")\n",
    "    else:\n",
    "        print('Confusion matrix, without normalization')\n",
    "\n",
    "    print(cm)\n",
    "    print('False Negative Rate (should be close to 0): ', cnf_matrix[0][1] / (cnf_matrix[0][1] + cnf_matrix[1][1]))\n",
    "\n",
    "    plt.imshow(cm, interpolation='nearest', cmap=cmap)\n",
    "    plt.title(title)\n",
    "    plt.colorbar()\n",
    "    tick_marks = np.arange(len(classes))\n",
    "    plt.xticks(tick_marks, classes, rotation=45)\n",
    "    plt.yticks(tick_marks, classes)\n",
    "\n",
    "    fmt = '.2f' if normalize else 'd'\n",
    "    thresh = cm.max() / 2.\n",
    "    for i, j in itertools.product(range(cm.shape[0]), range(cm.shape[1])):\n",
    "        plt.text(j, i, format(cm[i, j], fmt),\n",
    "                 horizontalalignment=\"center\",\n",
    "                 color=\"white\" if cm[i, j] > thresh else \"black\")\n",
    "\n",
    "    plt.ylabel('True label')\n",
    "    plt.xlabel('Predicted label')\n",
    "    plt.tight_layout()"
   ]
  },
  {
   "cell_type": "markdown",
   "metadata": {},
   "source": [
    "### 3.1 Data Preprocessing"
   ]
  },
  {
   "cell_type": "markdown",
   "metadata": {},
   "source": [
    "Aufteilen des Datensatzes in X (Features) und y (Label).\n",
    "Splitten der X Matrix und des y Vektors in Training- und Testset. Hierzur wird train_test_split von Sklearn verwendet und der Datensatz in 80% Trainings- und 20% Testdaten aufgeteilt."
   ]
  },
  {
   "cell_type": "code",
   "execution_count": 23,
   "metadata": {},
   "outputs": [
    {
     "name": "stdout",
     "output_type": "stream",
     "text": [
      "Training Shapes: (241, 13) (241,)\n",
      "Test Shapes: (61, 13) (61,)\n"
     ]
    }
   ],
   "source": [
    "from sklearn.model_selection import train_test_split\n",
    "\n",
    "X, y = df.iloc[:,:-1],df.iloc[:,-1]\n",
    "X_train, X_test, y_train, y_test = train_test_split(X, y, test_size=0.2, random_state=random_state)\n",
    "\n",
    "print('Training Shapes:', X_train.shape, y_train.shape)\n",
    "print('Test Shapes:', X_test.shape, y_test.shape)"
   ]
  },
  {
   "cell_type": "markdown",
   "metadata": {},
   "source": [
    "### 3.2 Dummy Classifier"
   ]
  },
  {
   "cell_type": "markdown",
   "metadata": {},
   "source": [
    "Der folgende Classifier ist ein initiales Modell, um die Trefferquote eines ML Modells zu zeigen, das bisher mit keinen Methoden optimiert wurde. Es dient zum Vergleich von später eingesetzten Modellen."
   ]
  },
  {
   "cell_type": "code",
   "execution_count": 24,
   "metadata": {},
   "outputs": [
    {
     "name": "stdout",
     "output_type": "stream",
     "text": [
      "Dummy Classifier Accuracy: 0.639344262295082\n"
     ]
    }
   ],
   "source": [
    "from sklearn.linear_model import SGDClassifier\n",
    "\n",
    "sgdcd = SGDClassifier(random_state = random_state)\n",
    "sgdcd.fit(X_train,y_train)\n",
    "ac_sgdcd = sgdcd.score(X_test, y_test)\n",
    "\n",
    "print('Dummy Classifier Accuracy:', ac_sgdcd)"
   ]
  },
  {
   "cell_type": "markdown",
   "metadata": {},
   "source": [
    "In diesem Fall sind False Negatives (versehentlich als gesund eingestuft) aus medizinischer Perspektive relevanter als False Positives (versehentlich als krank eingestuft), da es wesentlich gravierender ist einen kranken Patienten als gesund einzustufen, als einen gesunden Patienten als krank einzustufen. Wird ein kranker Patient als gesund eingestuft und sucht deshalb keinen Arzt auf, ist dies weitaus schlimmer, als ein gesunder Patient, dessen falsche Diagnose sich spätestens beim nächsten Arztbesuch auflöst. \n",
    "\n",
    "Die hierzu passende Metrik ist die False Negative-Rate, welche möglichst niedrig sein sollte (nahe 0)."
   ]
  },
  {
   "cell_type": "code",
   "execution_count": 25,
   "metadata": {},
   "outputs": [
    {
     "name": "stdout",
     "output_type": "stream",
     "text": [
      "Confusion matrix, without normalization\n",
      "[[29  0]\n",
      " [22 10]]\n",
      "False Negative Rate (should be close to 0):  0.0\n"
     ]
    },
    {
     "data": {
      "image/png": "[encoded data removed]",
      "text/plain": [
       "<Figure size 288x216 with 2 Axes>"
      ]
     },
     "metadata": {},
     "output_type": "display_data"
    }
   ],
   "source": [
    "cnf_matrix = confusion_matrix(y_test, sgdcd.predict(X_test))\n",
    "\n",
    "plt.figure()\n",
    "class_names = [0,1]\n",
    "plot_confusion_matrix(cnf_matrix, classes=class_names,\n",
    "                      title='Confusion matrix - Dummy Classifier')\n",
    "a = plt.gcf()\n",
    "a.set_size_inches(4,3)\n",
    "plt.show()"
   ]
  },
  {
   "cell_type": "markdown",
   "metadata": {},
   "source": [
    "Der \\\"Dummy Classifier\\\" hat eine Accuracy von 59%, damit ist er \"nur knapp\" besser als eine zufällige Klassifizierung, da er über 40% der Labels nicht richtig zuordnet. Da jedoch keine False Positives auftreten, wird eine Specificity von 1 erreicht."
   ]
  },
  {
   "cell_type": "markdown",
   "metadata": {},
   "source": [
    "### Vorgehensweise Modeling\n",
    "\n",
    "Aufbau einer Pipeline:\n",
    "- Feature Selection ('kbest')\n",
    "- Scaling ('scaler')\n",
    "- Classifier\n",
    "\n",
    "Setzen der Parameter:\n",
    "- Anzahl der (besten) Features, die verwendet werden sollen\n",
    "- Classifier spezifische Parameter (n_jobs=-1 erlaubt maximal mögliche Anzahl an parallelen Prozessen)\n",
    "\n",
    "Fitting / Training der Pipeline:\n",
    "- Aufrufen der fit() Methode mit den Trainingsdaten\n",
    "\n",
    "Score der Pipeline mit dem ausgewählten Classifier:\n",
    "- Aufrufen der score() Methode mit den Testdaten\n",
    "\n",
    "Hyperparameter Tuning:\n",
    "- In CLASSIFIERNAME_params werden mögliche Parameter definiert, welche später von der Grid Search kombiniert werden\n",
    "- Aufrufen der fit() Methode der GridSearchCV mit den Trainingsdaten (trotz integrierter Cross Validation)\n",
    "\n",
    "Auswerten der Grid Search\n",
    "- Anzeigen der besten Parameterkombinationen\n",
    "- Anzeigen der besten erzielten Accuracy durch Abfragen des best_score_ Attributs der Grid Search, welches die Accuracy des besten Models enthält\n",
    "    - Trainingsdaten, GRIDSEARCH.best_score_\n",
    "- Verifikation des Ergebnisses durch Aufrufen der score() Methode des besten ermittelten Models \n",
    "    - Testdaten, GRIDSEARCH.best_estimator_.score(X_test,y_test)\n",
    "- Aufrufen der score() Methode des besten Classifiers, welcher durch die Grid Search bestimmt wurde. Hierzu werden die Testdaten verwendet, welche hier jedoch eher als Validation Set verwendet werden\n",
    "\n",
    "Da die Grid Search eine integrierte Cross Validation durchführt, können die bei Seite gelegten Testdaten als Validationset verwendet werden. Durch die unterschiedlichen Folds wird Overfitting weitesgehend verhindert. Da manche Folds jedoch schlechter performen als andere, ist eine geringere Accuracy als bei der vorherigen Prediction (fit(Trainingsdaten), score(Testdaten), keine Cross Validation) zu erwarten. Die Aussagekraft ist jedoch höher, da es das Generalisieren neuer Daten besser wiederspiegelt."
   ]
  },
  {
   "cell_type": "markdown",
   "metadata": {},
   "source": [
    "### 3.3 Linear Classifier"
   ]
  },
  {
   "cell_type": "markdown",
   "metadata": {},
   "source": [
    "Initialisieren der Pipeline und erster Test des Linear Classifiers mit dem gesplitteten Datensatz:\n",
    "\n",
    "(Output: Accuracy gemessen am Testdatensatz)"
   ]
  },
  {
   "cell_type": "code",
   "execution_count": 26,
   "metadata": {},
   "outputs": [
    {
     "name": "stdout",
     "output_type": "stream",
     "text": [
      "SGD Classifier Accuracy: 0.5573770491803278\n"
     ]
    }
   ],
   "source": [
    "from sklearn.linear_model import SGDClassifier\n",
    "\n",
    "sgdc_pipe  = Pipeline([\n",
    "    ('kbest', SelectKBest(f_classif)),\n",
    "    ('scaler', StandardScaler()),\n",
    "    ('sgdc', SGDClassifier())\n",
    "])\n",
    "\n",
    "sgdc_pipe.set_params(\n",
    "    kbest__k=5,\n",
    "    sgdc__eta0=0.1, sgdc__random_state=random_state, sgdc__n_jobs=-1\n",
    ")\n",
    "\n",
    "sgdc_pipe.fit(X_train,y_train)\n",
    "\n",
    "ac_sgdc = sgdc_pipe.score(X_test, y_test)\n",
    "print('SGD Classifier Accuracy:', ac_sgdc)"
   ]
  },
  {
   "cell_type": "markdown",
   "metadata": {},
   "source": [
    "Parameter Tuning um eine höhere Accuracy zu erzielen:\n",
    "    \n",
    "Parameter:\n",
    "- Modelspezifisch:\n",
    "    - Regularization/Penalty\n",
    "    - Learning Rate\n",
    "- Datenspezifisch\n",
    "    - Anzahl der (besten) Features"
   ]
  },
  {
   "cell_type": "code",
   "execution_count": 27,
   "metadata": {},
   "outputs": [],
   "source": [
    "sgdc_params = {\n",
    "        'sgdc__penalty': ['l1', 'l2', 'none', 'elasticnet'],\n",
    "        'sgdc__learning_rate': ['constant', 'optimal', 'invscaling'],\n",
    "    \n",
    "        'kbest__k': [3, 5, 7, 9, 11, 13]\n",
    "        }"
   ]
  },
  {
   "cell_type": "code",
   "execution_count": 28,
   "metadata": {},
   "outputs": [
    {
     "name": "stderr",
     "output_type": "stream",
     "text": [
      "/opt/conda/lib/python3.6/site-packages/sklearn/model_selection/_search.py:841: DeprecationWarning: The default of the `iid` parameter will change from True to False in version 0.22 and will be removed in 0.24. This will change numeric results when test-set sizes are unequal.\n",
      "  DeprecationWarning)\n"
     ]
    },
    {
     "data": {
      "text/plain": [
       "{'kbest__k': 11, 'sgdc__learning_rate': 'constant', 'sgdc__penalty': 'l2'}"
      ]
     },
     "execution_count": 28,
     "metadata": {},
     "output_type": "execute_result"
    }
   ],
   "source": [
    "grid_search_sgdc = GridSearchCV(sgdc_pipe, param_grid=sgdc_params, scoring='roc_auc', n_jobs=-1)\n",
    "grid_search_sgdc.fit(X_train, y_train)\n",
    "\n",
    "grid_search_sgdc.best_params_"
   ]
  },
  {
   "cell_type": "code",
   "execution_count": 29,
   "metadata": {},
   "outputs": [
    {
     "data": {
      "text/plain": [
       "0.8980205214645048"
      ]
     },
     "execution_count": 29,
     "metadata": {},
     "output_type": "execute_result"
    }
   ],
   "source": [
    "grid_search_sgdc.best_score_"
   ]
  },
  {
   "cell_type": "code",
   "execution_count": 30,
   "metadata": {},
   "outputs": [
    {
     "name": "stdout",
     "output_type": "stream",
     "text": [
      "SGD Classifier Accuracy CV: 0.8360655737704918\n"
     ]
    }
   ],
   "source": [
    "ac_sgdc_cv = grid_search_sgdc.best_estimator_.score(X_test,y_test)\n",
    "print('SGD Classifier Accuracy CV:', ac_sgdc_cv)"
   ]
  },
  {
   "cell_type": "code",
   "execution_count": 31,
   "metadata": {},
   "outputs": [
    {
     "name": "stdout",
     "output_type": "stream",
     "text": [
      "Confusion matrix, without normalization\n",
      "[[24  5]\n",
      " [ 5 27]]\n",
      "False Negative Rate (should be close to 0):  0.15625\n"
     ]
    },
    {
     "data": {
      "image/png": "[encoded data removed]",
      "text/plain": [
       "<Figure size 288x216 with 2 Axes>"
      ]
     },
     "metadata": {},
     "output_type": "display_data"
    }
   ],
   "source": [
    "cnf_matrix = confusion_matrix(y_test, grid_search_sgdc.best_estimator_.predict(X_test))\n",
    "\n",
    "plt.figure()\n",
    "class_names = [0,1]\n",
    "plot_confusion_matrix(cnf_matrix, classes=class_names,\n",
    "                      title='Confusion matrix - SGDClassifier + Grid Search')\n",
    "a = plt.gcf()\n",
    "a.set_size_inches(4,3)\n",
    "plt.show()"
   ]
  },
  {
   "cell_type": "markdown",
   "metadata": {},
   "source": [
    "### 3.4 DecisonTreeClassifier"
   ]
  },
  {
   "cell_type": "markdown",
   "metadata": {},
   "source": [
    "Initialisieren der Pipeline und erster Test des DecisionTree Classifiers mit dem gesplitteten Datensatz:\n",
    "\n",
    "(Output: Accuracy gemessen am Testdatensatz)"
   ]
  },
  {
   "cell_type": "code",
   "execution_count": 32,
   "metadata": {},
   "outputs": [
    {
     "name": "stdout",
     "output_type": "stream",
     "text": [
      "DecisionTree Classifier Accuracy: 0.8360655737704918\n"
     ]
    }
   ],
   "source": [
    "from sklearn.tree import DecisionTreeClassifier\n",
    "\n",
    "dtc_pipe = Pipeline([\n",
    "    ('kbest', SelectKBest(f_classif)),\n",
    "    ('scaler', StandardScaler()),\n",
    "    ('dtc', DecisionTreeClassifier(random_state=random_state))\n",
    "])\n",
    "\n",
    "dtc_pipe.set_params(\n",
    "    kbest__k=5\n",
    ")\n",
    "\n",
    "dtc_pipe.fit(X_train, y_train)\n",
    "\n",
    "ac_dtc = dtc_pipe.score(X_test, y_test)\n",
    "print('DecisionTree Classifier Accuracy:', ac_dtc)"
   ]
  },
  {
   "cell_type": "markdown",
   "metadata": {},
   "source": [
    "Parameter Tuning um eine höhere Accuracy zu erzielen:\n",
    "    \n",
    "Parameter:\n",
    "- Modelspezifisch:\n",
    "    - Maximale Tiefe des Baumes\n",
    "    - Maximale Anzahl an Blättern (des Baumes)\n",
    "- Datenspezifisch\n",
    "    - Anzahl der (besten) Features"
   ]
  },
  {
   "cell_type": "code",
   "execution_count": 33,
   "metadata": {},
   "outputs": [],
   "source": [
    "dtc_params = {\n",
    "        'dtc__max_depth': [2, 3, 5, 10, None],\n",
    "        'dtc__max_leaf_nodes': [3, 5, 8, 10, 15, 20, None],\n",
    "    \n",
    "        'kbest__k': [3, 5, 7, 9, 11, 13]\n",
    "        }"
   ]
  },
  {
   "cell_type": "code",
   "execution_count": 34,
   "metadata": {},
   "outputs": [
    {
     "name": "stderr",
     "output_type": "stream",
     "text": [
      "/opt/conda/lib/python3.6/site-packages/sklearn/model_selection/_search.py:841: DeprecationWarning: The default of the `iid` parameter will change from True to False in version 0.22 and will be removed in 0.24. This will change numeric results when test-set sizes are unequal.\n",
      "  DeprecationWarning)\n"
     ]
    },
    {
     "data": {
      "text/plain": [
       "{'dtc__max_depth': 2, 'dtc__max_leaf_nodes': 8, 'kbest__k': 7}"
      ]
     },
     "execution_count": 34,
     "metadata": {},
     "output_type": "execute_result"
    }
   ],
   "source": [
    "grid_search_dtc = GridSearchCV(dtc_pipe, param_grid=dtc_params, scoring='roc_auc', n_jobs=-1)\n",
    "grid_search_dtc.fit(X_train, y_train)\n",
    "\n",
    "grid_search_dtc.best_params_"
   ]
  },
  {
   "cell_type": "code",
   "execution_count": 35,
   "metadata": {},
   "outputs": [
    {
     "data": {
      "text/plain": [
       "0.8395578245163305"
      ]
     },
     "execution_count": 35,
     "metadata": {},
     "output_type": "execute_result"
    }
   ],
   "source": [
    "grid_search_dtc.best_score_"
   ]
  },
  {
   "cell_type": "code",
   "execution_count": 36,
   "metadata": {},
   "outputs": [
    {
     "name": "stdout",
     "output_type": "stream",
     "text": [
      "DecisionTree Classifier Accuracy CV: 0.7868852459016393\n"
     ]
    }
   ],
   "source": [
    "ac_dtc_cv = grid_search_dtc.best_estimator_.score(X_test, y_test)\n",
    "print('DecisionTree Classifier Accuracy CV:', ac_dtc_cv)"
   ]
  },
  {
   "cell_type": "code",
   "execution_count": 37,
   "metadata": {},
   "outputs": [
    {
     "name": "stdout",
     "output_type": "stream",
     "text": [
      "Confusion matrix, without normalization\n",
      "[[24  5]\n",
      " [ 8 24]]\n",
      "False Negative Rate (should be close to 0):  0.1724137931034483\n"
     ]
    },
    {
     "data": {
      "image/png": "[encoded data removed]",
      "text/plain": [
       "<Figure size 288x216 with 2 Axes>"
      ]
     },
     "metadata": {},
     "output_type": "display_data"
    }
   ],
   "source": [
    "cnf_matrix = confusion_matrix(y_test, grid_search_dtc.best_estimator_.predict(X_test))\n",
    "\n",
    "plt.figure()\n",
    "class_names = [0,1]\n",
    "plot_confusion_matrix(cnf_matrix, classes=class_names,\n",
    "                      title='Confusion matrix - DecisionTreeClassifier + Grid Search')\n",
    "a = plt.gcf()\n",
    "a.set_size_inches(4,3)\n",
    "plt.show()"
   ]
  },
  {
   "cell_type": "markdown",
   "metadata": {},
   "source": [
    "### 3.5 KNN"
   ]
  },
  {
   "cell_type": "markdown",
   "metadata": {},
   "source": [
    "Initialisieren der Pipeline und erster Test des K-Nearest-Neighbor Classifiers mit dem gesplitteten Datensatz:\n",
    "\n",
    "(Output: Accuracy gemessen am Testdatensatz)"
   ]
  },
  {
   "cell_type": "code",
   "execution_count": 38,
   "metadata": {},
   "outputs": [
    {
     "name": "stdout",
     "output_type": "stream",
     "text": [
      "KNN Classifier Accuracy: 0.8852459016393442\n"
     ]
    }
   ],
   "source": [
    "from sklearn.neighbors import KNeighborsClassifier\n",
    "\n",
    "knn_pipe = Pipeline([\n",
    "    ('kbest', SelectKBest(f_classif)),\n",
    "    ('scaler', StandardScaler()),\n",
    "    ('knn', KNeighborsClassifier())\n",
    "])\n",
    "\n",
    "knn_pipe.set_params(\n",
    "    kbest__k=5,\n",
    "    knn__n_jobs=-1\n",
    ")\n",
    "\n",
    "knn_pipe.fit(X_train,y_train)\n",
    "\n",
    "ac_knn = knn_pipe.score(X_test, y_test)\n",
    "print('KNN Classifier Accuracy:', ac_knn)"
   ]
  },
  {
   "cell_type": "markdown",
   "metadata": {},
   "source": [
    "Parameter Tuning um eine höhere Accuracy zu erzielen:\n",
    "    \n",
    "Parameter:\n",
    "- Modelspezifisch:\n",
    "    - Anzahl der einbezogenen Nachbarn\n",
    "    - Verwendeter Algorithmus\n",
    "    - Blattgrösse\n",
    "- Datenspezifisch\n",
    "    - Anzahl der (besten) Features"
   ]
  },
  {
   "cell_type": "code",
   "execution_count": 39,
   "metadata": {},
   "outputs": [],
   "source": [
    "knn_params = {\n",
    "        'knn__n_neighbors': [3, 5, 7, 9, 11, 13, 15],\n",
    "        'knn__algorithm': ['ball_tree', 'kd_tree', 'brute'],\n",
    "        'knn__leaf_size': [20, 30, 40],\n",
    "    \n",
    "        'kbest__k': [3, 5, 7, 9, 11, 13]\n",
    "        }"
   ]
  },
  {
   "cell_type": "code",
   "execution_count": 40,
   "metadata": {},
   "outputs": [
    {
     "name": "stderr",
     "output_type": "stream",
     "text": [
      "/opt/conda/lib/python3.6/site-packages/sklearn/model_selection/_search.py:841: DeprecationWarning: The default of the `iid` parameter will change from True to False in version 0.22 and will be removed in 0.24. This will change numeric results when test-set sizes are unequal.\n",
      "  DeprecationWarning)\n"
     ]
    },
    {
     "data": {
      "text/plain": [
       "{'kbest__k': 11,\n",
       " 'knn__algorithm': 'ball_tree',\n",
       " 'knn__leaf_size': 20,\n",
       " 'knn__n_neighbors': 15}"
      ]
     },
     "execution_count": 40,
     "metadata": {},
     "output_type": "execute_result"
    }
   ],
   "source": [
    "grid_search_knn = GridSearchCV(knn_pipe, param_grid=knn_params, scoring='roc_auc', n_jobs=-1)\n",
    "grid_search_knn.fit(X_train, y_train)\n",
    "\n",
    "grid_search_knn.best_params_"
   ]
  },
  {
   "cell_type": "code",
   "execution_count": 41,
   "metadata": {},
   "outputs": [
    {
     "data": {
      "text/plain": [
       "0.8935406549514432"
      ]
     },
     "execution_count": 41,
     "metadata": {},
     "output_type": "execute_result"
    }
   ],
   "source": [
    "grid_search_knn.best_score_"
   ]
  },
  {
   "cell_type": "code",
   "execution_count": 42,
   "metadata": {},
   "outputs": [
    {
     "name": "stdout",
     "output_type": "stream",
     "text": [
      "KNN Classifier Accuracy CV: 0.9180327868852459\n"
     ]
    }
   ],
   "source": [
    "ac_knn_cv = grid_search_knn.best_estimator_.score(X_test,y_test)\n",
    "print('KNN Classifier Accuracy CV:', ac_knn_cv)"
   ]
  },
  {
   "cell_type": "code",
   "execution_count": 43,
   "metadata": {},
   "outputs": [
    {
     "name": "stdout",
     "output_type": "stream",
     "text": [
      "Confusion matrix, without normalization\n",
      "[[27  2]\n",
      " [ 3 29]]\n",
      "False Negative Rate (should be close to 0):  0.06451612903225806\n"
     ]
    },
    {
     "data": {
      "image/png": "[encoded data removed]",
      "text/plain": [
       "<Figure size 288x216 with 2 Axes>"
      ]
     },
     "metadata": {},
     "output_type": "display_data"
    }
   ],
   "source": [
    "cnf_matrix = confusion_matrix(y_test, grid_search_knn.best_estimator_.predict(X_test))\n",
    "\n",
    "plt.figure()\n",
    "class_names = [0,1]\n",
    "plot_confusion_matrix(cnf_matrix, classes=class_names,\n",
    "                      title='Confusion matrix - KNN + Grid Search')\n",
    "a = plt.gcf()\n",
    "a.set_size_inches(4,3)\n",
    "plt.show()"
   ]
  },
  {
   "cell_type": "markdown",
   "metadata": {},
   "source": [
    "### 3.6 RandomForestClassifier"
   ]
  },
  {
   "cell_type": "markdown",
   "metadata": {},
   "source": [
    "Initialisieren der Pipeline und erster Test des RandomForest Classifiers mit dem gesplitteten Datensatz:\n",
    "\n",
    "(Output: Accuracy gemessen am Testdatensatz)"
   ]
  },
  {
   "cell_type": "code",
   "execution_count": 44,
   "metadata": {},
   "outputs": [
    {
     "name": "stdout",
     "output_type": "stream",
     "text": [
      "RandomForest Classifier Accuracy: 0.8032786885245902\n"
     ]
    }
   ],
   "source": [
    "from sklearn.ensemble import RandomForestClassifier\n",
    "\n",
    "rfc_pipe = Pipeline([\n",
    "    ('kbest', SelectKBest(f_classif)),\n",
    "    ('scaler', StandardScaler()),\n",
    "    ('rfc', RandomForestClassifier())\n",
    "])\n",
    "\n",
    "rfc_pipe.set_params(\n",
    "    rfc__random_state=random_state,\n",
    "    kbest__k=5\n",
    ")\n",
    "\n",
    "rfc_pipe.fit(X_train, y_train)\n",
    "\n",
    "ac_rfc = rfc_pipe.score(X_test, y_test)\n",
    "print('RandomForest Classifier Accuracy:', ac_rfc)"
   ]
  },
  {
   "cell_type": "markdown",
   "metadata": {},
   "source": [
    "Parameter Tuning um eine höhere Accuracy zu erzielen:\n",
    "    \n",
    "Parameter:\n",
    "- Modelspezifisch:\n",
    "    - Minimale Anzahl an Sampels, bevor ein Ast aufgespaltet werden darf\n",
    "    - Maximale Tiefe des Baumes\n",
    "    - Anzahl der zu trainierenden Estimators\n",
    "    - Einsatz von Bootstrap-Samples\n",
    "    - Minimale Samples pro Blatt\n",
    "- Datenspezifisch\n",
    "    - Anzahl der (besten) Features"
   ]
  },
  {
   "cell_type": "code",
   "execution_count": 45,
   "metadata": {},
   "outputs": [
    {
     "name": "stdout",
     "output_type": "stream",
     "text": [
      "GridSearchCV parameter combinations: 9000\n",
      "RandomizedSearchCV parameter combinations: 90\n"
     ]
    }
   ],
   "source": [
    "rfc_params = {\n",
    "        'rfc__min_samples_split': [2, 5, 10, 15, 20],\n",
    "        'rfc__max_depth': [5, 10, 15, 20, 25, None],\n",
    "        'rfc__n_estimators': [100, 250, 500, 750, 1000],\n",
    "        'rfc__bootstrap': [True, False],\n",
    "        'rfc__min_samples_leaf': [1, 2, 5, 6, 10],\n",
    "    \n",
    "        'kbest__k': [3, 5, 7, 9, 11, 13]\n",
    "        }\n",
    "\n",
    "params_comb_all = int(5 * 6 * 5 * 2 * 5  * 6)\n",
    "param_comb = int(params_comb_all / 100)\n",
    "\n",
    "print('GridSearchCV parameter combinations: ' + str(params_comb_all) + '\\n' + 'RandomizedSearchCV parameter combinations: ' + str(param_comb))"
   ]
  },
  {
   "cell_type": "code",
   "execution_count": 46,
   "metadata": {},
   "outputs": [
    {
     "data": {
      "text/plain": [
       "{'rfc__n_estimators': 1000,\n",
       " 'rfc__min_samples_split': 20,\n",
       " 'rfc__min_samples_leaf': 6,\n",
       " 'rfc__max_depth': 15,\n",
       " 'rfc__bootstrap': True,\n",
       " 'kbest__k': 13}"
      ]
     },
     "execution_count": 46,
     "metadata": {},
     "output_type": "execute_result"
    }
   ],
   "source": [
    "rnd_search_rfc = RandomizedSearchCV(rfc_pipe, param_distributions=rfc_params, n_iter=param_comb, scoring='roc_auc', n_jobs=-1, random_state=random_state )\n",
    "rnd_search_rfc.fit(X_train, y_train)\n",
    "\n",
    "rnd_search_rfc.best_params_"
   ]
  },
  {
   "cell_type": "code",
   "execution_count": 47,
   "metadata": {},
   "outputs": [
    {
     "data": {
      "text/plain": [
       "0.9057908342140707"
      ]
     },
     "execution_count": 47,
     "metadata": {},
     "output_type": "execute_result"
    }
   ],
   "source": [
    "rnd_search_rfc.best_score_"
   ]
  },
  {
   "cell_type": "code",
   "execution_count": 48,
   "metadata": {},
   "outputs": [
    {
     "name": "stdout",
     "output_type": "stream",
     "text": [
      "RandomForest Classifier Accuracy CV: 0.8688524590163934\n"
     ]
    }
   ],
   "source": [
    "ac_rfc_cv = rnd_search_rfc.best_estimator_.score(X_test,y_test)\n",
    "print('RandomForest Classifier Accuracy CV:', ac_rfc_cv)"
   ]
  },
  {
   "cell_type": "code",
   "execution_count": 49,
   "metadata": {},
   "outputs": [
    {
     "name": "stdout",
     "output_type": "stream",
     "text": [
      "Confusion matrix, without normalization\n",
      "[[24  5]\n",
      " [ 3 29]]\n",
      "False Negative Rate (should be close to 0):  0.14705882352941177\n"
     ]
    },
    {
     "data": {
      "image/png": "[encoded data removed]",
      "text/plain": [
       "<Figure size 288x216 with 2 Axes>"
      ]
     },
     "metadata": {},
     "output_type": "display_data"
    }
   ],
   "source": [
    "cnf_matrix = confusion_matrix(y_test, rnd_search_rfc.best_estimator_.predict(X_test))\n",
    "\n",
    "plt.figure()\n",
    "class_names = [0,1]\n",
    "plot_confusion_matrix(cnf_matrix, classes=class_names,\n",
    "                      title='Confusion matrix - RandomForestClassifier + Randomized Grid Search')\n",
    "a = plt.gcf()\n",
    "a.set_size_inches(4,3)\n",
    "plt.show()"
   ]
  },
  {
   "cell_type": "markdown",
   "metadata": {},
   "source": [
    "## Fazit\n",
    "\n",
    "Im Zuge der Analyse von Patientendaten für die Vorhersage von Herzkrankheiten wurden verschiedene gängige ML Praktiken durchgeführt, wie beispielweise Data Preprocessing, Feature Engineering und Modeling. Um bestmögliche Vorhersagen zu erreichen, wurden verschiedene Classifier Modelle mit den Daten trainiert. Im Folgenden werden die Modelle in ihrer Performance gegenübergestellt und die Grösse des Datensatyes kritisch evaluiert. "
   ]
  },
  {
   "cell_type": "markdown",
   "metadata": {},
   "source": [
    "### Vergleich der Modelle\n",
    "\n",
    "Durch das Trainieren verschiedener Modelle und Optimierung der zugehörigen Stellschrauben (Hyperparameter), konnten mehrere Lösungsansätze evaluiert werden."
   ]
  },
  {
   "cell_type": "code",
   "execution_count": 50,
   "metadata": {
    "scrolled": true
   },
   "outputs": [
    {
     "data": {
      "text/html": [
       "<div>\n",
       "<style scoped>\n",
       "    .dataframe tbody tr th:only-of-type {\n",
       "        vertical-align: middle;\n",
       "    }\n",
       "\n",
       "    .dataframe tbody tr th {\n",
       "        vertical-align: top;\n",
       "    }\n",
       "\n",
       "    .dataframe thead th {\n",
       "        text-align: right;\n",
       "    }\n",
       "</style>\n",
       "<table border=\"1\" class=\"dataframe\">\n",
       "  <thead>\n",
       "    <tr style=\"text-align: right;\">\n",
       "      <th></th>\n",
       "      <th>Dummy</th>\n",
       "      <th>Linear</th>\n",
       "      <th>Decision Tree</th>\n",
       "      <th>KNN</th>\n",
       "      <th>Random Forest</th>\n",
       "    </tr>\n",
       "  </thead>\n",
       "  <tbody>\n",
       "    <tr>\n",
       "      <th>0</th>\n",
       "      <td>0.639344</td>\n",
       "      <td>0.557377</td>\n",
       "      <td>0.836066</td>\n",
       "      <td>0.885246</td>\n",
       "      <td>0.803279</td>\n",
       "    </tr>\n",
       "    <tr>\n",
       "      <th>1</th>\n",
       "      <td>-</td>\n",
       "      <td>0.836066</td>\n",
       "      <td>0.786885</td>\n",
       "      <td>0.918033</td>\n",
       "      <td>0.868852</td>\n",
       "    </tr>\n",
       "  </tbody>\n",
       "</table>\n",
       "</div>"
      ],
      "text/plain": [
       "      Dummy    Linear  Decision Tree       KNN  Random Forest\n",
       "0  0.639344  0.557377       0.836066  0.885246       0.803279\n",
       "1         -  0.836066       0.786885  0.918033       0.868852"
      ]
     },
     "execution_count": 50,
     "metadata": {},
     "output_type": "execute_result"
    }
   ],
   "source": [
    "ac_df = pd.DataFrame()\n",
    "ac_df['Dummy'] = [ac_sgdcd, '-']\n",
    "ac_df['Linear'] = [ac_sgdc, ac_sgdc_cv]\n",
    "ac_df['Decision Tree'] = [ac_dtc, ac_dtc_cv]\n",
    "ac_df['KNN'] = [ac_knn, ac_knn_cv]\n",
    "ac_df['Random Forest'] = [ac_rfc, ac_rfc_cv]\n",
    "ac_df\n",
    "\n",
    "#0 ist ohne CV, 1 ist mit CV"
   ]
  },
  {
   "cell_type": "markdown",
   "metadata": {},
   "source": [
    "Der obige Vergleich anhand der Accuracy zeigt, dass das KNN Modell in Verbidnung mit Cross Validation die besten Ergebnisse erzielt. Unter Verwendung dieses Modells kann eine vorhandene Herzkrankheit mit einer Accuracy von 0.9 vorhergesagt werden. Dies bedeutet, dass auf Basis der eingegebenen Daten eine Herzkrankheit zu 90% korrekt diagnostiziert werden kann."
   ]
  },
  {
   "cell_type": "markdown",
   "metadata": {},
   "source": [
    "### Kritische Betrachtung\n",
    "\n",
    "Sowohl die Auswahl der Parameter, als auch die obige Evaluation der Modelle wurde hauptsächlich anhand der Performance Metrik \"Accuracy\" durchgeführt. Die Akkuratheit stellt eine repräsentative Kennzahl dar, wenn eine möglichst gleihe Verteilung der Labels vorliegt. Auch wenn diese Bedingung durch den Datensatz gut erfüllt ist, sollten bei einer tiefergrehenden Beurteilung auch andere Metriken, wie beispielsweise die erwähnte \"True Negative Rate\" in Betracht gezogen werden.\n",
    "\n",
    "#### Kleiner Datensatz\n",
    "\n",
    "Im Vergleich zu gängigen Machine Learning Projekten handelt sich bei dem verwendeten Datensatz mit ca. 300 Einträgen um einen sehr kleinen Datensatz, dessen Nutzung einige Risiken birgt. Die Accuracy von über 90% sollte daher unter den Risiken einer geringeren Repräsentativität und der Beeinträchtigung der Fähigkeit der Generalisierung des Modells betrachtet werden. Der Datensatz repräsentiert nur einen kleinen Teil der realen Welt und spiegelt damit nur wenige Krankheitsmuster wider. Es besteht damit die Gefahr des Overifittings, das bedeutet, dass das Modell möglicherweise zu stark an die gegebenen Daten angepasst ist und bei neuen, ungesehenen Daten schlechtere Vorhersagen trifft."
   ]
  },
  {
   "cell_type": "markdown",
   "metadata": {},
   "source": [
    "## Zusatz Modeling"
   ]
  },
  {
   "cell_type": "markdown",
   "metadata": {},
   "source": [
    "Im Folgenden wird versucht mit Hilfe des XGBoost Algorithmus und eines Deep Neural Networks eine möglichst hohe Accuracy zu erziehlen. Es bleibt jedoch zu erwähnen, dass dies aufgrund des sehr kleinen Datensatzes (~ 300 Tupeln) mit Vorsicht zu behandeln ist und am besten als \"Mit Kanonen auf Spatzen schiessen\" beschrieben werden kann."
   ]
  },
  {
   "cell_type": "markdown",
   "metadata": {},
   "source": [
    "### Modeling - xgboost"
   ]
  },
  {
   "cell_type": "code",
   "execution_count": 51,
   "metadata": {},
   "outputs": [
    {
     "data": {
      "text/plain": [
       "0.8360655737704918"
      ]
     },
     "execution_count": 51,
     "metadata": {},
     "output_type": "execute_result"
    }
   ],
   "source": [
    "# from xgboost import XGBClassifier\n",
    "\n",
    "# xgc_pipe = Pipeline([\n",
    "#     ('kbest', SelectKBest(f_classif)),\n",
    "#     ('scaler', StandardScaler()),\n",
    "#     ('xgc', XGBClassifier())\n",
    "# ])\n",
    "\n",
    "# xgc_pipe.set_params(\n",
    "#     kbest__k=5\n",
    "# )\n",
    "\n",
    "# xgc_pipe.fit(X_train, y_train)\n",
    "\n",
    "# xgc_pipe.score(X_test, y_test)"
   ]
  },
  {
   "cell_type": "markdown",
   "metadata": {},
   "source": [
    "Da hier 480 Parameterkombinationen existieren, wird vorerst eine RandomizedSearchCV durchgefürht, welche die Kombinationen auf 96 reduziert und somit auch auf einem Mittelklasserechner in annehmbarer Zeit durchgeführt werden kann."
   ]
  },
  {
   "cell_type": "markdown",
   "metadata": {},
   "source": [
    "Parameter Tuning um eine höhere Accuracy zu erzielen:\n",
    "    \n",
    "Parameter:\n",
    "- Modelspezifisch:\n",
    "    - Learning Rate\n",
    "    - Maximale Tiefe der einzelnen Baume\n",
    "    - Anzahl der Estimator die trainiert bzw. für die Prediciton zu Rate gezogen werden\n",
    "- Datenspezifisch\n",
    "    - Anzahl der (besten) Features"
   ]
  },
  {
   "cell_type": "code",
   "execution_count": 52,
   "metadata": {},
   "outputs": [
    {
     "name": "stdout",
     "output_type": "stream",
     "text": [
      "GridSearchCV parameter combinations: 480\n",
      "RandomizedSearchCV parameter combinations: 96\n"
     ]
    }
   ],
   "source": [
    "# xgc_params = {\n",
    "#         'xgc__learning_rate': [.0001, .001, .01, .1],\n",
    "#         'xgc__max_depth': [5, 10, 15, 20, 25],\n",
    "#         'xgc__n_estimators': [250, 500, 750, 1000],\n",
    "    \n",
    "#         'kbest__k': [3, 5, 7, 9, 11, 13]\n",
    "#         }\n",
    "\n",
    "# params_comb_all = int(4 * 5 * 4 * 6)\n",
    "# param_comb = int(params_comb_all / 5)\n",
    "\n",
    "# print('GridSearchCV parameter combinations: ' + str(params_comb_all) + '\\n' + 'RandomizedSearchCV parameter combinations: ' + str(param_comb))"
   ]
  },
  {
   "cell_type": "code",
   "execution_count": 53,
   "metadata": {},
   "outputs": [
    {
     "data": {
      "text/plain": [
       "{'xgc__n_estimators': 750,\n",
       " 'xgc__max_depth': 10,\n",
       " 'xgc__learning_rate': 0.001,\n",
       " 'kbest__k': 9}"
      ]
     },
     "execution_count": 53,
     "metadata": {},
     "output_type": "execute_result"
    }
   ],
   "source": [
    "# rnd_search_xgc = RandomizedSearchCV(xgc_pipe, param_distributions=xgc_params, n_iter=param_comb, scoring='roc_auc', n_jobs=-1, random_state=random_state )\n",
    "# rnd_search_xgc.fit(X_train, y_train)\n",
    "\n",
    "# rnd_search_xgc.best_params_"
   ]
  },
  {
   "cell_type": "code",
   "execution_count": 54,
   "metadata": {},
   "outputs": [
    {
     "data": {
      "text/plain": [
       "0.8778622549369437"
      ]
     },
     "execution_count": 54,
     "metadata": {},
     "output_type": "execute_result"
    }
   ],
   "source": [
    "# rnd_search_xgc.best_score_"
   ]
  },
  {
   "cell_type": "code",
   "execution_count": 55,
   "metadata": {},
   "outputs": [
    {
     "data": {
      "text/plain": [
       "0.819672131147541"
      ]
     },
     "execution_count": 55,
     "metadata": {},
     "output_type": "execute_result"
    }
   ],
   "source": [
    "# rnd_search_xgc.best_estimator_.score(X_test,y_test)"
   ]
  },
  {
   "cell_type": "code",
   "execution_count": 56,
   "metadata": {},
   "outputs": [
    {
     "data": {
      "text/plain": [
       "array([[27,  2],\n",
       "       [ 9, 23]])"
      ]
     },
     "execution_count": 56,
     "metadata": {},
     "output_type": "execute_result"
    }
   ],
   "source": [
    "# y_pred = rnd_search_xgc.best_estimator_.predict(X_test)\n",
    "# confusion_matrix(y_test, y_pred)"
   ]
  },
  {
   "cell_type": "markdown",
   "metadata": {},
   "source": [
    "Um das Model noch weiter zu verbessern wird die in diesem Falle etwas aufwendigere GridSearchCV durchgeführt, welche alle 480 Parameterkombinationen abdeckt."
   ]
  },
  {
   "cell_type": "code",
   "execution_count": 57,
   "metadata": {},
   "outputs": [
    {
     "data": {
      "text/plain": [
       "{'kbest__k': 13,\n",
       " 'xgc__learning_rate': 0.01,\n",
       " 'xgc__max_depth': 5,\n",
       " 'xgc__n_estimators': 500}"
      ]
     },
     "execution_count": 57,
     "metadata": {},
     "output_type": "execute_result"
    }
   ],
   "source": [
    "# grid_search_xgc = GridSearchCV(xgc_pipe, param_grid=xgc_params, scoring='roc_auc', n_jobs=-1)\n",
    "# grid_search_xgc.fit(X_train, y_train)\n",
    "\n",
    "# grid_search_xgc.best_params_"
   ]
  },
  {
   "cell_type": "code",
   "execution_count": 58,
   "metadata": {},
   "outputs": [
    {
     "data": {
      "text/plain": [
       "0.8805955144129417"
      ]
     },
     "execution_count": 58,
     "metadata": {},
     "output_type": "execute_result"
    }
   ],
   "source": [
    "# grid_search_xgc.best_score_"
   ]
  },
  {
   "cell_type": "code",
   "execution_count": 59,
   "metadata": {},
   "outputs": [
    {
     "data": {
      "text/plain": [
       "0.8524590163934426"
      ]
     },
     "execution_count": 59,
     "metadata": {},
     "output_type": "execute_result"
    }
   ],
   "source": [
    "# grid_search_xgc.best_estimator_.score(X_test,y_test)"
   ]
  },
  {
   "cell_type": "markdown",
   "metadata": {},
   "source": [
    "### Modeling - Neural Network with Keras\n",
    "\n",
    "Base Setup:\n",
    "\n",
    "https://machinelearningmastery.com/binary-classification-tutorial-with-the-keras-deep-learning-library/\n",
    "\n",
    "Number of Neurons in Hidden Layer:\n",
    "\n",
    "https://stats.stackexchange.com/questions/181/how-to-choose-the-number-of-hidden-layers-and-nodes-in-a-feedforward-neural-netw"
   ]
  },
  {
   "cell_type": "code",
   "execution_count": 60,
   "metadata": {},
   "outputs": [
    {
     "name": "stderr",
     "output_type": "stream",
     "text": [
      "Using TensorFlow backend.\n"
     ]
    }
   ],
   "source": [
    "from keras.models import Sequential\n",
    "from keras.layers import Dense\n",
    "from keras.wrappers.scikit_learn import KerasClassifier\n",
    "\n",
    "from sklearn.model_selection import cross_val_score\n",
    "from sklearn.model_selection import KFold\n",
    "from sklearn.preprocessing import StandardScaler"
   ]
  },
  {
   "cell_type": "markdown",
   "metadata": {},
   "source": [
    "\n",
    "\n",
    "#### Model Aufbau:\n",
    "- Input Layer mit 13 Inputs \n",
    "    - alle verfügbaren Features werden verwendet\n",
    "- Hidden Layer mit 10 Neuronen\n",
    "    - relu als Activation Function\n",
    "- Output Layer mit 1 Ouput\n",
    "    - Binary Classification, sigmoid als Activation Function -> Value entweder 0 oder 1\n",
    "    \n",
    "#### Model Parameter:\n",
    "- Loss Function\n",
    "    - Binary Crossentropy\n",
    "- Optimizer\n",
    "    - Adam\n",
    "- Zu optimierende Metrik\n",
    "    - Accuracy\n",
    "- Dense Layer\n",
    "    - Neuron eines Layers erhält Input von allen Neuronen des vorangeheneden Layers\n",
    "- Sequential\n",
    "    - Feed Forward\n",
    "    \n",
    "#### Zusatz:\n",
    "Auch hier wird wieder eine Pipeline verwendet um das Scaling direkt in den Prozess zu integrieren. Durch den Keras Wrapper, welcher von Sklearn bereitgestellt wird, lässt sich der KerasClassifier wie ein Sklearn nativer Classifier verwenden (Stellt z.B. Methoden wie fit() und score() bereit.\n",
    "\n",
    "Zudem wird Cross Validation eingesetzt, wobei der Datensatz in k = 10 Folds aufgeteilt und anschliessend kombiniert wird. Auf ein Test- bzw. Validationset wird hier verzichtet, da ein DNN einen grösseren Datensatz benötigt und durch die Cross Validation hier aussreichend Schutz gegen Overfitting existiert. Tradeoff hier zwischen Overfitting und Datensatzgrösse!"
   ]
  },
  {
   "cell_type": "code",
   "execution_count": 61,
   "metadata": {},
   "outputs": [],
   "source": [
    "# def keras_model():\n",
    "#     model = Sequential()\n",
    "#     model.add(Dense(22, input_dim=5, activation='relu'))\n",
    "#     model.add(Dense(1, activation='sigmoid'))\n",
    "#     model.compile(loss='binary_crossentropy', optimizer='adam', metrics=['accuracy'])\n",
    "#     return model"
   ]
  },
  {
   "cell_type": "code",
   "execution_count": 62,
   "metadata": {},
   "outputs": [],
   "source": [
    "# kfold = KFold(n_splits=10, shuffle=True, random_state=random_state)"
   ]
  },
  {
   "cell_type": "code",
   "execution_count": 63,
   "metadata": {},
   "outputs": [],
   "source": [
    "# estimators = []\n",
    "# estimators.append(('scaler', StandardScaler()))\n",
    "# estimators.append(('keras_clf', KerasClassifier(build_fn=keras_model, epochs=200, batch_size=5, verbose=0)))\n",
    "\n",
    "# pipeline = Pipeline(estimators)"
   ]
  },
  {
   "cell_type": "markdown",
   "metadata": {},
   "source": [
    "Accuracy mit Cross Validation (gemittelt):"
   ]
  },
  {
   "cell_type": "code",
   "execution_count": 64,
   "metadata": {},
   "outputs": [
    {
     "name": "stdout",
     "output_type": "stream",
     "text": [
      "WARNING:tensorflow:From /opt/conda/lib/python3.6/site-packages/tensorflow/python/framework/op_def_library.py:263: colocate_with (from tensorflow.python.framework.ops) is deprecated and will be removed in a future version.\n",
      "Instructions for updating:\n",
      "Colocations handled automatically by placer.\n",
      "WARNING:tensorflow:From /opt/conda/lib/python3.6/site-packages/tensorflow/python/ops/math_ops.py:3066: to_int32 (from tensorflow.python.ops.math_ops) is deprecated and will be removed in a future version.\n",
      "Instructions for updating:\n",
      "Use tf.cast instead.\n",
      "Accuracy der verschiedenen Folds:  [0.84 0.9  0.73 0.87 0.83 0.9  0.7  0.8  0.9  0.77]\n",
      "Accuracy: mean 82.42% (std 6.89%)\n"
     ]
    }
   ],
   "source": [
    "# results = cross_val_score(pipeline, X[['cp', 'thalach', 'exang', 'oldpeak', 'ca']], y, cv=kfold)\n",
    "# print(\"Accuracy der verschiedenen Folds: \", results)\n",
    "# print(\"Accuracy: mean %.2f%% (std %.2f%%)\" % (results.mean()*100, results.std()*100))"
   ]
  },
  {
   "cell_type": "markdown",
   "metadata": {},
   "source": [
    "Im Verlgeich die Accuracy ohne Cross Validation (ein einzelner Split):"
   ]
  },
  {
   "cell_type": "code",
   "execution_count": 65,
   "metadata": {},
   "outputs": [],
   "source": [
    "# pipeline.fit(X_train[['cp', 'thalach', 'exang', 'oldpeak', 'ca']], y_train)\n",
    "\n",
    "# y_pred = pipeline.predict(X_test[['cp', 'thalach', 'exang', 'oldpeak', 'ca']])"
   ]
  },
  {
   "cell_type": "code",
   "execution_count": 66,
   "metadata": {},
   "outputs": [
    {
     "data": {
      "text/plain": [
       "0.8852459016393442"
      ]
     },
     "execution_count": 66,
     "metadata": {},
     "output_type": "execute_result"
    }
   ],
   "source": [
    "# from sklearn.metrics import accuracy_score\n",
    "# accuracy_score(y_test, y_pred)"
   ]
  },
  {
   "cell_type": "markdown",
   "metadata": {},
   "source": [
    "13 features = all\n",
    "5 features = cp thalach exang oldpeak ca\n",
    "\n",
    "#### Neural Network Configurations\n",
    "I played around with the number of neurons in the hidden layer, but finally sticked to a formula that worked quite well.\n",
    "\n",
    "Input, Hidden, Output, Accuracy\n",
    "13 - 10 - 1 \t80.75\n",
    "\n",
    "5 - 10 - 1 \t\t83.06\n",
    "\n",
    "5 - 4 - 1 \t\t81.43\n",
    "\n",
    "5 - 15 - 1\t\t83.42\n",
    "\n",
    "5 - 22 - 1 \t\t83.75\n",
    "\n",
    "5 - 30 - 1      81.75 \n",
    "\n",
    "\n",
    "5 - 22 - 5 - 1\t\t82.40\n",
    "\n",
    "5 - 15 - 5 -  1\t\t81.09\n",
    "\n",
    "\t"
   ]
  },
  {
   "cell_type": "code",
   "execution_count": 67,
   "metadata": {},
   "outputs": [],
   "source": []
  }
 ],
 "metadata": {
  "kernelspec": {
   "display_name": "Python 3",
   "language": "python",
   "name": "python3"
  },
  "language_info": {
   "codemirror_mode": {
    "name": "ipython",
    "version": 3
   },
   "file_extension": ".py",
   "mimetype": "text/x-python",
   "name": "python",
   "nbconvert_exporter": "python",
   "pygments_lexer": "ipython3",
   "version": "3.7.0"
  }
 },
 "nbformat": 4,
 "nbformat_minor": 1
}
