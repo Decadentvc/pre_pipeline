{
 "cells": [
  {
   "cell_type": "markdown",
   "metadata": {},
   "source": [
    "**NOTE: A LARGE MAJORITY OF CODE IN THIS ASSIGNMENT IS REPEATED WITH A FEW CHANGES**"
   ]
  },
  {
   "cell_type": "code",
   "execution_count": 1,
   "metadata": {
    "_cell_guid": "b1076dfc-b9ad-4769-8c92-a6c4dae69d19",
    "_uuid": "8f2839f25d086af736a60e9eeb907d3b93b6e0e5"
   },
   "outputs": [
    {
     "name": "stdout",
     "output_type": "stream",
     "text": [
      "['wisconsin_breast_cancer.csv']\n"
     ]
    }
   ],
   "source": [
    "# This Python 3 environment comes with many helpful analytics libraries installed\n",
    "# It is defined by the kaggle/python docker image: https://github.com/kaggle/docker-python\n",
    "# For example, here's several helpful packages to load in \n",
    "\n",
    "import numpy as np # linear algebra\n",
    "import pandas as pd # data processing, CSV file I/O (e.g. pd.read_csv)\n",
    "\n",
    "# Input data files are available in the \"../input/\" directory.\n",
    "# For example, running this (by clicking run or pressing Shift+Enter) will list the files in the input directory\n",
    "\n",
    "import os\n",
    "print(os.listdir(\"../input\"))\n",
    "\n",
    "# Any results you write to the current directory are saved as output.\n",
    "#All the import statements required for the assignment\n",
    "from sklearn.model_selection import train_test_split\n",
    "from sklearn.linear_model import SGDClassifier\n",
    "from sklearn.naive_bayes import GaussianNB\n",
    "from sklearn.model_selection import StratifiedKFold\n",
    "from sklearn.base import clone\n",
    "from sklearn.linear_model import LinearRegression\n",
    "import numpy as np\n",
    "from sklearn.model_selection import KFold\n",
    "from sklearn.model_selection import cross_val_score\n",
    "import seaborn as sns\n",
    "from sklearn.ensemble import RandomForestClassifier\n",
    "from sklearn.metrics import accuracy_score\n",
    "\n",
    "\n",
    "#ignore the warnings\n",
    "import warnings\n",
    "warnings.filterwarnings('ignore')"
   ]
  },
  {
   "cell_type": "markdown",
   "metadata": {
    "_uuid": "02023debc387a539362dc7ac8bef420a414948d6"
   },
   "source": [
    "**Author: Jeffrey Jose, ID: 1313512**"
   ]
  },
  {
   "cell_type": "code",
   "execution_count": 2,
   "metadata": {
    "_cell_guid": "79c7e3d0-c299-4dcb-8224-4455121ee9b0",
    "_uuid": "d629ff2d2480ee46fbb7e2d37f6b5fab8052498a"
   },
   "outputs": [
    {
     "data": {
      "text/html": [
       "<div>\n",
       "<style scoped>\n",
       "    .dataframe tbody tr th:only-of-type {\n",
       "        vertical-align: middle;\n",
       "    }\n",
       "\n",
       "    .dataframe tbody tr th {\n",
       "        vertical-align: top;\n",
       "    }\n",
       "\n",
       "    .dataframe thead th {\n",
       "        text-align: right;\n",
       "    }\n",
       "</style>\n",
       "<table border=\"1\" class=\"dataframe\">\n",
       "  <thead>\n",
       "    <tr style=\"text-align: right;\">\n",
       "      <th></th>\n",
       "      <th>id</th>\n",
       "      <th>thickness</th>\n",
       "      <th>size</th>\n",
       "      <th>shape</th>\n",
       "      <th>adhesion</th>\n",
       "      <th>single</th>\n",
       "      <th>nuclei</th>\n",
       "      <th>chromatin</th>\n",
       "      <th>nucleoli</th>\n",
       "      <th>mitosis</th>\n",
       "      <th>class</th>\n",
       "    </tr>\n",
       "  </thead>\n",
       "  <tbody>\n",
       "    <tr>\n",
       "      <th>0</th>\n",
       "      <td>1000025</td>\n",
       "      <td>5</td>\n",
       "      <td>1</td>\n",
       "      <td>1</td>\n",
       "      <td>1</td>\n",
       "      <td>2</td>\n",
       "      <td>1.0</td>\n",
       "      <td>3</td>\n",
       "      <td>1</td>\n",
       "      <td>1</td>\n",
       "      <td>0</td>\n",
       "    </tr>\n",
       "    <tr>\n",
       "      <th>1</th>\n",
       "      <td>1002945</td>\n",
       "      <td>5</td>\n",
       "      <td>4</td>\n",
       "      <td>4</td>\n",
       "      <td>5</td>\n",
       "      <td>7</td>\n",
       "      <td>10.0</td>\n",
       "      <td>3</td>\n",
       "      <td>2</td>\n",
       "      <td>1</td>\n",
       "      <td>0</td>\n",
       "    </tr>\n",
       "    <tr>\n",
       "      <th>2</th>\n",
       "      <td>1015425</td>\n",
       "      <td>3</td>\n",
       "      <td>1</td>\n",
       "      <td>1</td>\n",
       "      <td>1</td>\n",
       "      <td>2</td>\n",
       "      <td>2.0</td>\n",
       "      <td>3</td>\n",
       "      <td>1</td>\n",
       "      <td>1</td>\n",
       "      <td>0</td>\n",
       "    </tr>\n",
       "    <tr>\n",
       "      <th>3</th>\n",
       "      <td>1016277</td>\n",
       "      <td>6</td>\n",
       "      <td>8</td>\n",
       "      <td>8</td>\n",
       "      <td>1</td>\n",
       "      <td>3</td>\n",
       "      <td>4.0</td>\n",
       "      <td>3</td>\n",
       "      <td>7</td>\n",
       "      <td>1</td>\n",
       "      <td>0</td>\n",
       "    </tr>\n",
       "    <tr>\n",
       "      <th>4</th>\n",
       "      <td>1017023</td>\n",
       "      <td>4</td>\n",
       "      <td>1</td>\n",
       "      <td>1</td>\n",
       "      <td>3</td>\n",
       "      <td>2</td>\n",
       "      <td>1.0</td>\n",
       "      <td>3</td>\n",
       "      <td>1</td>\n",
       "      <td>1</td>\n",
       "      <td>0</td>\n",
       "    </tr>\n",
       "  </tbody>\n",
       "</table>\n",
       "</div>"
      ],
      "text/plain": [
       "        id  thickness  size  shape  ...    chromatin  nucleoli  mitosis  class\n",
       "0  1000025          5     1      1  ...            3         1        1      0\n",
       "1  1002945          5     4      4  ...            3         2        1      0\n",
       "2  1015425          3     1      1  ...            3         1        1      0\n",
       "3  1016277          6     8      8  ...            3         7        1      0\n",
       "4  1017023          4     1      1  ...            3         1        1      0\n",
       "\n",
       "[5 rows x 11 columns]"
      ]
     },
     "execution_count": 2,
     "metadata": {},
     "output_type": "execute_result"
    }
   ],
   "source": [
    "#Loading the data, filling in blank columns with 0 and showing the first 5 data entries\n",
    "wbcData = pd.read_csv('../input/wisconsin_breast_cancer.csv')\n",
    "wbcData = wbcData.fillna(0)\n",
    "wbcData.head()"
   ]
  },
  {
   "cell_type": "code",
   "execution_count": 3,
   "metadata": {
    "_uuid": "c0a8613ad4cc820a7143938f8f4ab8d95f72e26e"
   },
   "outputs": [
    {
     "name": "stdout",
     "output_type": "stream",
     "text": [
      "<class 'pandas.core.frame.DataFrame'>\n",
      "RangeIndex: 699 entries, 0 to 698\n",
      "Data columns (total 11 columns):\n",
      "id           699 non-null int64\n",
      "thickness    699 non-null int64\n",
      "size         699 non-null int64\n",
      "shape        699 non-null int64\n",
      "adhesion     699 non-null int64\n",
      "single       699 non-null int64\n",
      "nuclei       699 non-null float64\n",
      "chromatin    699 non-null int64\n",
      "nucleoli     699 non-null int64\n",
      "mitosis      699 non-null int64\n",
      "class        699 non-null int64\n",
      "dtypes: float64(1), int64(10)\n",
      "memory usage: 60.1 KB\n"
     ]
    }
   ],
   "source": [
    "#Showing the information about each column in the data\n",
    "wbcData.info()"
   ]
  },
  {
   "cell_type": "code",
   "execution_count": 4,
   "metadata": {
    "_uuid": "5e3e6b4a27a3651df7a5831b281d5eca708b43b4"
   },
   "outputs": [
    {
     "name": "stdout",
     "output_type": "stream",
     "text": [
      "559 140 559 140\n"
     ]
    }
   ],
   "source": [
    "#Split the data to train and test, in a stratified way, 80:20\n",
    "x = wbcData.iloc[:, 1:10]\n",
    "y = wbcData.iloc[:, -1]\n",
    "\n",
    "x_train, x_test, y_train, y_test = train_test_split(x, y, test_size = 0.2, stratify = y, random_state = 1313512)\n",
    "\n",
    "print(len(x_train), len(x_test), len(y_train), len(y_test))\n",
    "#Both the trains should be 80% of the data = 559.2 => 559\n",
    "#Both the tests should be 20% of the data = 139.8 => 140\n",
    "#My results are fairly close to these values"
   ]
  },
  {
   "cell_type": "code",
   "execution_count": 5,
   "metadata": {
    "_uuid": "387417fc62ba958b93efb8517a01238d7dfbc14b",
    "scrolled": true
   },
   "outputs": [
    {
     "data": {
      "text/plain": [
       "SGDClassifier(alpha=0.0001, average=False, class_weight=None,\n",
       "       early_stopping=False, epsilon=0.1, eta0=0.0, fit_intercept=True,\n",
       "       l1_ratio=0.15, learning_rate='optimal', loss='hinge', max_iter=None,\n",
       "       n_iter=None, n_iter_no_change=5, n_jobs=None, penalty='l2',\n",
       "       power_t=0.5, random_state=1313512, shuffle=True, tol=None,\n",
       "       validation_fraction=0.1, verbose=0, warm_start=False)"
      ]
     },
     "execution_count": 5,
     "metadata": {},
     "output_type": "execute_result"
    }
   ],
   "source": [
    "#Initialising a SGD Classifier on the train dataset\n",
    "#Random state is my ID number\n",
    "sgd_clf = SGDClassifier(random_state=1313512)\n",
    "sgd_clf.fit(x_train, y_train)"
   ]
  },
  {
   "cell_type": "code",
   "execution_count": 6,
   "metadata": {
    "_uuid": "c76508024058eefbc24c1aaaad0b87fbea698a67"
   },
   "outputs": [
    {
     "name": "stdout",
     "output_type": "stream",
     "text": [
      "Subset: ['nuclei', 'shape', 'size', 'thickness', 'single']\n",
      "Cross-Validation Score: 0.9748980405559354\n",
      "Index Position Of The Above Subset: 402\n"
     ]
    }
   ],
   "source": [
    "#function to determine output all the possible subsets for the 9 input features\n",
    "def recieve_ss(full_s):\n",
    "    list_representation = list(full_s)\n",
    "    \n",
    "    ss = []\n",
    "    for i in range(1,2**len(list_representation)):\n",
    "        subset_array = []\n",
    "        for j in range(len(list_representation)):\n",
    "            if i & 1<<j:\n",
    "                subset_array.append(list_representation[j])\n",
    "        ss.append(subset_array)\n",
    "        \n",
    "    return ss\n",
    "\n",
    "column_set = set(['thickness', 'size', 'shape', 'adhesion', 'single', 'nuclei', 'chromatin', 'nucleoli', 'mitosis'])\n",
    "ss = recieve_ss(column_set)\n",
    "cols = []\n",
    "\n",
    "#add the means of the validation cross of the fitted model onto the array\n",
    "for i in range(511):\n",
    "    cols.append(np.mean(cross_val_score(sgd_clf, x_train[ss[i]], y_train, cv=10, scoring=\"accuracy\")))\n",
    "\n",
    "#display highest stats information including highest possible accuracy and the subset and location index it's located in\n",
    "import operator\n",
    "index, value = max(enumerate(cols), key=operator.itemgetter(1))\n",
    "\n",
    "#print out all the subsets (commented)\n",
    "#print(cols)\n",
    "print(\"Subset: \" + str(ss[index]))\n",
    "print(\"Cross-Validation Score: \" + str(value))\n",
    "print(\"Index Position Of The Above Subset: \" + str(index))"
   ]
  },
  {
   "cell_type": "code",
   "execution_count": 7,
   "metadata": {
    "_uuid": "7f64c448248d75da9ea69c0fbfd073ea4ed7630a"
   },
   "outputs": [
    {
     "name": "stdout",
     "output_type": "stream",
     "text": [
      "Best Accuracy Of This Subset On The Test Data: 0.9142857142857143\n",
      "Best Possible Test Data Accuracy: 0.95\n",
      "Subset: ['shape', 'mitosis', 'chromatin', 'thickness']\n",
      "Index Position: 169\n"
     ]
    }
   ],
   "source": [
    "column_set = set(['thickness', 'size', 'shape', 'adhesion', 'single', 'nuclei', 'chromatin', 'nucleoli', 'mitosis'])\n",
    "ss = recieve_ss(column_set)\n",
    "cols_test = []\n",
    "\n",
    "#loop through all the subsets and fit the model using the trained data\n",
    "#predict the test accuracy using the fitted model\n",
    "#add all the accuracy scores onto the array\n",
    "for i in range(511):\n",
    "    sgd_clf.fit(x_train[ss[i]], y_train)\n",
    "    prediction = sgd_clf.predict(x_test[ss[i]])\n",
    "    cols_test.append(accuracy_score(y_test, prediction))\n",
    "\n",
    "#fit the model on the index and predict the result\n",
    "sgd_clf.fit(x_train[ss[index]], y_train)\n",
    "y_prediction = sgd_clf.predict(x_test[ss[index]])\n",
    "\n",
    "#print the accuracy of the prediction\n",
    "print(\"Best Accuracy Of This Subset On The Test Data: \" + str(accuracy_score(y_test, y_prediction)))\n",
    " \n",
    "#display highest stats information including highest possible accuracy and the subset and location index it's located in\n",
    "index, value = max(enumerate(cols_test), key=operator.itemgetter(1))\n",
    "\n",
    "\n",
    "print(\"Best Possible Test Data Accuracy: \" + str(value))\n",
    "print(\"Subset: \" + str(ss[index]))\n",
    "print(\"Index Position: \" + str(index))"
   ]
  },
  {
   "cell_type": "markdown",
   "metadata": {
    "_uuid": "e6bf2f514436a974a15db280a2b99fccc0a1ba18"
   },
   "source": [
    "**Which subset looks best given the cross-validation score?** <br />\n",
    "*The subset that looks the best given the cross-validation score is one that consists of ['size', 'nuclei', 'single', 'shape', 'thickness']. The cross validation for this subset is 0.9749 (4 d.p). * <br />\n",
    "**What is the best accuracy of this subset on the test data?** <br />\n",
    "*The accuracy of this subset on the data is 0.9143 (4.dp) as shown by the accuracy score. (This can differ with each run)* <br />\n",
    "**Is that the best possible test data accuracy?** <br />\n",
    "*No, I believe that the best test data accuracy possible on this subset is 0.95 as indicated by the variable value. However accuracy of the test data can be dependent on the train and test size and the number of splits the data goes through.*"
   ]
  },
  {
   "cell_type": "code",
   "execution_count": 8,
   "metadata": {
    "_uuid": "802f040f7f09874e867628fae5ee69d708123fa6"
   },
   "outputs": [
    {
     "data": {
      "text/plain": [
       "<matplotlib.axes._subplots.AxesSubplot at 0x7fb3ecac4400>"
      ]
     },
     "execution_count": 8,
     "metadata": {},
     "output_type": "execute_result"
    },
    {
     "data": {
      "image/png": "[encoded data removed]",
      "text/plain": [
       "<Figure size 432x288 with 1 Axes>"
      ]
     },
     "metadata": {},
     "output_type": "display_data"
    }
   ],
   "source": [
    "#scatter-plot of cross validation and test accuracy\n",
    "sns.scatterplot(cols, cols_test)"
   ]
  },
  {
   "cell_type": "code",
   "execution_count": 9,
   "metadata": {
    "_uuid": "0655f02188306f605ad37727a79a1b7f9e695ea1"
   },
   "outputs": [
    {
     "data": {
      "text/plain": [
       "RandomForestClassifier(bootstrap=True, class_weight=None, criterion='gini',\n",
       "            max_depth=None, max_features='auto', max_leaf_nodes=None,\n",
       "            min_impurity_decrease=0.0, min_impurity_split=None,\n",
       "            min_samples_leaf=1, min_samples_split=2,\n",
       "            min_weight_fraction_leaf=0.0, n_estimators=30, n_jobs=None,\n",
       "            oob_score=False, random_state=1313512, verbose=0,\n",
       "            warm_start=False)"
      ]
     },
     "execution_count": 9,
     "metadata": {},
     "output_type": "execute_result"
    }
   ],
   "source": [
    "#RandomForestClassifier\n",
    "#fit a random forest classifier on the x_train and y_train\n",
    "rf_clf = RandomForestClassifier(n_estimators = 30, random_state = 1313512)\n",
    "rf_clf.fit(x_train, y_train)"
   ]
  },
  {
   "cell_type": "code",
   "execution_count": 10,
   "metadata": {
    "_uuid": "d2dcfae6d2dc3e92a4dd9fc59d256e4c8f9fc797"
   },
   "outputs": [
    {
     "name": "stdout",
     "output_type": "stream",
     "text": [
      "Subset: ['nuclei', 'shape', 'size', 'thickness', 'single']\n",
      "Best Validation Cross For The Set: 0.9748980405559354\n",
      "Index Position: 402\n"
     ]
    }
   ],
   "source": [
    "column_array = []\n",
    "#add the means of the validation cross of the fitted model onto the array\n",
    "for i in range(511):\n",
    "    column_array.append(np.mean(cross_val_score(rf_clf, x_train[ss[i]], y_train, cv=10, scoring = \"accuracy\")))\n",
    "\n",
    "#display highest stats information including highest possible accuracy and the subset and location index it's located in\n",
    "index, value = max(enumerate(cols), key=operator.itemgetter(1))\n",
    "\n",
    "print(\"Subset: \" + str(ss[index]))\n",
    "print(\"Best Validation Cross For The Set: \" + str(value))\n",
    "print(\"Index Position: \" + str(index))"
   ]
  },
  {
   "cell_type": "code",
   "execution_count": 11,
   "metadata": {
    "_uuid": "fe44cc07dc247f03cad0f7e94feb457ffeaaaced"
   },
   "outputs": [
    {
     "name": "stdout",
     "output_type": "stream",
     "text": [
      "Accuracy: 0.9428571428571428\n",
      "Best Possible Accuracy: 0.9642857142857143\n",
      "Subset Of The Best Accuracy: ['shape', 'nucleoli', 'mitosis', 'thickness']\n",
      "Index Position Of The Above Subset: 141\n"
     ]
    }
   ],
   "source": [
    "column_array_test = []\n",
    "\n",
    "#loop through all the subsets and fit the model using the trained data\n",
    "#predict the test accuracy using the fitted model\n",
    "#add all the accuracy scores onto the array\n",
    "for i in range(511):\n",
    "    rf_clf.fit(x_train[ss[i]], y_train)\n",
    "    prediction = rf_clf.predict(x_test[ss[i]])\n",
    "    column_array_test.append(accuracy_score(y_test, prediction))\n",
    "\n",
    "#fit the model on the index and predict the result\n",
    "rf_clf.fit(x_train[ss[index]], y_train)\n",
    "y_prediction = rf_clf.predict(x_test[ss[index]])\n",
    "\n",
    "#print the accuracy of the prediction\n",
    "print(\"Accuracy: \" + str(accuracy_score(y_test, y_prediction)))\n",
    "\n",
    "#display highest stats information including highest possible accuracy and the subset and location index it's located in\n",
    "index, value = max(enumerate(column_array_test), key=operator.itemgetter(1))\n",
    "\n",
    "print(\"Best Possible Accuracy: \" + str(value))\n",
    "print(\"Subset Of The Best Accuracy: \" + str(ss[index]))\n",
    "print(\"Index Position Of The Above Subset: \" + str(index))"
   ]
  },
  {
   "cell_type": "markdown",
   "metadata": {},
   "source": [
    "**Which subset looks best given the cross-validation score?** <br />\n",
    "*The subset containing ['size', 'nuclei', 'single', 'shape', 'thickness'] looks the best given the cross-validation. The cross-validation score of this particular subset is 0.9749 (4 d.p).* <br />\n",
    "**What is the best accuracy of this subset on the test data?** <br />\n",
    "*The best accuracy of this subset on the test data is 0.9429 (4 d.p) as shown by the accuracy score.* <br />\n",
    "**Is that the best possible test data accuracy?** <br />\n",
    "*No the best possible test data accuracy on this particular set is 0.9643 (4 d.p). This belongs to the subset of ['shape', 'thickness', 'nucleoli'] which is located on index 175 *"
   ]
  },
  {
   "cell_type": "code",
   "execution_count": 12,
   "metadata": {},
   "outputs": [
    {
     "data": {
      "text/plain": [
       "<matplotlib.axes._subplots.AxesSubplot at 0x7fb3e91d8d68>"
      ]
     },
     "execution_count": 12,
     "metadata": {},
     "output_type": "execute_result"
    },
    {
     "data": {
      "image/png": "[encoded data removed]",
      "text/plain": [
       "<Figure size 432x288 with 1 Axes>"
      ]
     },
     "metadata": {},
     "output_type": "display_data"
    }
   ],
   "source": [
    "#creating a scatter plot for the accuracy distribution of the test and cross validation\n",
    "sns.scatterplot(column_array, column_array_test)"
   ]
  },
  {
   "cell_type": "code",
   "execution_count": 13,
   "metadata": {},
   "outputs": [
    {
     "name": "stdout",
     "output_type": "stream",
     "text": [
      "Subset: ['nuclei', 'size', 'thickness']\n",
      "Cross Validation Score: 0.9712628161312372\n",
      "Index Position: 144\n"
     ]
    }
   ],
   "source": [
    "#fit a Gaussian NB classifier on the x_train and y_train\n",
    "gaussian_clf = GaussianNB(priors=None)\n",
    "gaussian_clf.fit(x_train, y_train)\n",
    "\n",
    "column = []\n",
    "\n",
    "#add the means of the validation cross of the fitted model onto the array\n",
    "for i in range(511):\n",
    "    column.append(np.mean(cross_val_score(gaussian_clf, x_train[ss[i]], y_train, cv=10, scoring = \"accuracy\")))\n",
    "\n",
    "#display highest stats information including highest possible accuracy and the subset and location index it's located in\n",
    "index,value = max(enumerate(column), key=operator.itemgetter(1))\n",
    "\n",
    "print(\"Subset: \" + str(ss[index]))\n",
    "print(\"Cross Validation Score: \" + str(value))\n",
    "print(\"Index Position: \" + str(index))"
   ]
  },
  {
   "cell_type": "code",
   "execution_count": 14,
   "metadata": {},
   "outputs": [
    {
     "name": "stdout",
     "output_type": "stream",
     "text": [
      "Accuracy: 0.95\n",
      "Best Possible Accuracy: 0.9714285714285714\n",
      "Subset Of The Best Accuracy: ['shape', 'nucleoli', 'thickness']\n",
      "Index Position Of The Above Subset: 133\n"
     ]
    }
   ],
   "source": [
    "columnTest = []\n",
    "\n",
    "#loop through all the subsets and fit the model using the trained data\n",
    "#predict the test accuracy using the fitted model\n",
    "#add all the accuracy scores onto the array\n",
    "for i in range(511):\n",
    "    gaussian_clf.fit(x_train[ss[i]], y_train)\n",
    "    gaussian_prediction = gaussian_clf.predict(x_test[ss[i]])\n",
    "    columnTest.append(accuracy_score(y_test, gaussian_prediction))\n",
    "\n",
    "#fit the model on the index and predict the result\n",
    "gaussian_clf.fit(x_train[ss[index]], y_train)\n",
    "y_prediction = gaussian_clf.predict(x_test[ss[index]])\n",
    "\n",
    "#print the accuracy of the prediction\n",
    "print(\"Accuracy: \" + str(accuracy_score(y_test, y_prediction)))\n",
    "\n",
    "#display highest stats information including highest possible accuracy and the subset and location index it's located in\n",
    "index, value = max(enumerate(columnTest), key=operator.itemgetter(1))\n",
    "\n",
    "print(\"Best Possible Accuracy: \" + str(value))\n",
    "print(\"Subset Of The Best Accuracy: \" + str(ss[index]))\n",
    "print(\"Index Position Of The Above Subset: \" + str(index))"
   ]
  },
  {
   "cell_type": "markdown",
   "metadata": {},
   "source": [
    "**Which subset looks best given the cross-validation score?** <br />\n",
    "*The subset containing ['size', 'nuclei', 'thickness'] gives the best cross-validation score of 0.9713 (4 d.p)* <br />\n",
    "**What is the best accuracy of this subset on the test data?** <br />\n",
    "*The best accuracy of this subset on the test data is 0.9500 (4 d.p) as shown by the accuracy score.* <br />\n",
    "**Is that the best possible test data accuracy?** <br />\n",
    "*No the best possible test data accuracy on this particular set is 0.9714 (4 d.p). This belongs to the subset ['shape', 'thickness', 'nucleoli'] which is located on index 175. *"
   ]
  },
  {
   "cell_type": "code",
   "execution_count": 15,
   "metadata": {},
   "outputs": [
    {
     "data": {
      "text/plain": [
       "<matplotlib.axes._subplots.AxesSubplot at 0x7fb3e9165668>"
      ]
     },
     "execution_count": 15,
     "metadata": {},
     "output_type": "execute_result"
    },
    {
     "data": {
      "image/png": "[encoded data removed]",
      "text/plain": [
       "<Figure size 432x288 with 1 Axes>"
      ]
     },
     "metadata": {},
     "output_type": "display_data"
    }
   ],
   "source": [
    "#creating a scatter plot for the accuracy distribution of the test and cross validation\n",
    "sns.scatterplot(column ,columnTest)"
   ]
  },
  {
   "cell_type": "code",
   "execution_count": 16,
   "metadata": {},
   "outputs": [
    {
     "data": {
      "text/plain": [
       "<matplotlib.legend.Legend at 0x7fb3e91000b8>"
      ]
     },
     "execution_count": 16,
     "metadata": {},
     "output_type": "execute_result"
    },
    {
     "data": {
      "image/png": "[encoded data removed]",
      "text/plain": [
       "<Figure size 432x288 with 1 Axes>"
      ]
     },
     "metadata": {},
     "output_type": "display_data"
    }
   ],
   "source": [
    "#all the imports required for a roc_curve function and plotting\n",
    "from sklearn.metrics import roc_curve\n",
    "from sklearn.metrics import roc_auc_score\n",
    "from sklearn.model_selection import cross_val_predict\n",
    "from matplotlib import pyplot\n",
    "\n",
    "#RANDOM FOREST CLASSIFIER\n",
    "forest_clf = RandomForestClassifier(random_state = 1313512)\n",
    "y_probas_forest = cross_val_predict(forest_clf, x, y, cv=10, method=\"predict_proba\")\n",
    "\n",
    "y_probas_forest\n",
    "\n",
    "y_scores_forest = y_probas_forest[:, 1]\n",
    "fpr_forest, tpr_forest, thresholds_forest = roc_curve(y, y_scores_forest)\n",
    "fpr_forest, tpr_forest, thresholds_forest\n",
    "\n",
    "#GAUSSIAN NB \n",
    "gauss_clf = GaussianNB(priors=None)\n",
    "y_probas_gauss = cross_val_predict(gauss_clf, x, y, cv=10, method=\"predict_proba\")\n",
    "\n",
    "y_scores_gauss = y_probas_gauss[: ,1]\n",
    "fpr_gauss, tpr_gauss, thresholds_gauss = roc_curve(y, y_scores_gauss)\n",
    "fpr_gauss, tpr_gauss, thresholds_gauss\n",
    "\n",
    "#SGD CLASSIFIER\n",
    "y_scores = cross_val_predict(sgd_clf, x, y, cv=10, method=\"decision_function\")\n",
    "y_scores_sgd = y_scores[:]\n",
    "fpr_sgd, tpr_sgd, thresholds_sgd = roc_curve(y, y_scores_sgd)\n",
    "fpr_sgd, tpr_sgd, thresholds_sgd\n",
    "\n",
    "#PLOTTING THE ROC_CURVE WITH THE THREE LABELS\n",
    "pyplot.plot(fpr_forest, tpr_forest, label=\"Random Forest\")\n",
    "pyplot.plot(fpr_gauss, tpr_gauss, label=\"Gaussian NB\")\n",
    "pyplot.plot(fpr_sgd, tpr_sgd, label=\"SGD\")\n",
    "pyplot.legend(loc=\"lower right\")"
   ]
  },
  {
   "cell_type": "code",
   "execution_count": 17,
   "metadata": {},
   "outputs": [
    {
     "name": "stdout",
     "output_type": "stream",
     "text": [
      "Random Forest Classifier: \n"
     ]
    },
    {
     "data": {
      "text/plain": [
       "array([[1. , 0. ],\n",
       "       [0.2, 0.8],\n",
       "       [1. , 0. ],\n",
       "       ...,\n",
       "       [0.1, 0.9],\n",
       "       [0.2, 0.8],\n",
       "       [0.2, 0.8]])"
      ]
     },
     "execution_count": 17,
     "metadata": {},
     "output_type": "execute_result"
    }
   ],
   "source": [
    "#See the array values of y_probas_forest, y_probas_gauss and y_scores\n",
    "print(\"Random Forest Classifier: \")\n",
    "y_probas_forest"
   ]
  },
  {
   "cell_type": "code",
   "execution_count": 18,
   "metadata": {},
   "outputs": [
    {
     "name": "stdout",
     "output_type": "stream",
     "text": [
      "Gaussian NB: \n"
     ]
    },
    {
     "data": {
      "text/plain": [
       "array([[9.99999998e-01, 1.78020149e-09],\n",
       "       [2.59358200e-23, 1.00000000e+00],\n",
       "       [9.99999999e-01, 6.77122243e-10],\n",
       "       ...,\n",
       "       [2.93391232e-57, 1.00000000e+00],\n",
       "       [6.24044505e-28, 1.00000000e+00],\n",
       "       [5.74971681e-33, 1.00000000e+00]])"
      ]
     },
     "execution_count": 18,
     "metadata": {},
     "output_type": "execute_result"
    }
   ],
   "source": [
    "print(\"Gaussian NB: \")\n",
    "y_probas_gauss"
   ]
  },
  {
   "cell_type": "code",
   "execution_count": 19,
   "metadata": {},
   "outputs": [
    {
     "name": "stdout",
     "output_type": "stream",
     "text": [
      "SGD: \n"
     ]
    },
    {
     "data": {
      "text/plain": [
       "array([-3.81856493e+02,  2.77723115e+02, -3.23871473e+02,  3.23627923e+02,\n",
       "       -3.40783770e+02,  9.05894171e+02,  3.85349058e+01, -3.23871473e+02,\n",
       "       -2.77966665e+02, -3.64944195e+02, -3.50447940e+02, -3.77024408e+02,\n",
       "       -4.60265825e+01, -2.65886452e+02,  6.06304899e+02, -2.91142849e+01,\n",
       "       -3.91520663e+02, -3.74608366e+02,  4.75838602e+02, -3.89104621e+02,\n",
       "        4.22685667e+02,  4.03357327e+02, -3.84272536e+02, -1.06427646e+02,\n",
       "       -3.52863983e+02,  1.49672862e+02, -3.55280025e+02, -3.98768791e+02,\n",
       "       -3.77024408e+02, -3.14207302e+02, -3.81856493e+02, -3.60112110e+02,\n",
       "        3.50204391e+02, -3.43199813e+02, -3.48031898e+02, -3.77024408e+02,\n",
       "        5.33823623e+02, -2.92462920e+02,  4.87918815e+02,  2.68058945e+02,\n",
       "        2.43898520e+02, -4.95385963e+00,  7.44019322e+02, -3.87784549e+01,\n",
       "        4.85502772e+02, -3.40783770e+02,  5.89392601e+02, -3.69776281e+02,\n",
       "       -3.40783770e+02,  5.21743410e+02,  1.35176607e+02, -2.53781711e+00,\n",
       "        2.68058945e+02,  5.62816133e+02,  2.75307073e+02,  2.19738095e+02,\n",
       "        8.85321507e+02,  1.95167067e+02,  1.58970155e+02,  2.82039654e+02,\n",
       "        4.07522279e+02, -3.26287515e+02,  7.09163206e+02,  2.36190233e+02,\n",
       "       -3.69776281e+02,  4.77502974e+02, -3.74608366e+02,  4.34066681e+02,\n",
       "        9.57715329e+02, -3.28703558e+02, -3.26287515e+02,  8.46711468e+02,\n",
       "       -1.18507858e+02,  8.00862047e+02,  4.19587916e+02, -2.32061857e+02,\n",
       "       -2.61054367e+02, -3.28703558e+02, -2.80382707e+02, -3.79440451e+02,\n",
       "       -2.27229772e+02, -3.74608366e+02, -3.55280025e+02, -2.56222282e+02,\n",
       "        8.80495252e+02,  8.49124596e+02,  2.89279036e+02,  7.30881352e+02,\n",
       "       -2.31956485e+02, -3.09176563e+02, -3.33307837e+02, -2.80219034e+02,\n",
       "       -2.31956485e+02, -3.50199729e+02, -2.99524053e+02, -3.33307837e+02,\n",
       "       -3.14002818e+02, -1.98172702e+02,  9.09452781e+02,  9.79433476e+02,\n",
       "        4.89568611e+02,  1.46904518e+02, -2.07825211e+02,  7.45106960e+01,\n",
       "        1.14111301e+03,  3.37541584e+02,  1.15557517e+03,  8.05671697e+02,\n",
       "       -2.87458416e+02,  9.07023048e+02, -7.51032036e+01,  6.36752778e+02,\n",
       "        8.92544284e+02,  1.09042073e+03, -9.68213504e+01, -2.41608995e+02,\n",
       "        9.62288427e+01,  1.02285316e+03, -3.28481582e+02, -1.93346447e+02,\n",
       "       -2.89871543e+02, -1.59562663e+02,  1.24486089e+03,  5.66772083e+02,\n",
       "        8.15324206e+02, -3.50199729e+02,  9.57698724e+02, -2.65740269e+02,\n",
       "        7.52582894e+02, -4.63616717e+02, -1.66802045e+02, -2.99524053e+02,\n",
       "        1.10731262e+03, -2.51261505e+02, -2.94697798e+02, -1.04060733e+02,\n",
       "       -2.48848377e+02, -2.99524053e+02, -2.24717103e+02, -3.69504748e+02,\n",
       "       -2.99524053e+02, -3.33307837e+02,  6.34339650e+02, -2.41608995e+02,\n",
       "       -3.16415945e+02, -3.33307837e+02,  3.59243125e+02, -3.30894709e+02,\n",
       "       -4.61456747e+01,  1.35345162e+03, -3.21242200e+02,  6.80189071e+02,\n",
       "        1.20625085e+03, -2.02998957e+02, -3.67091621e+02,  5.86077102e+02,\n",
       "       -2.85045289e+02, -2.99524053e+02, -3.86396640e+02,  1.54891494e+03,\n",
       "        1.16040143e+03, -2.00585829e+02, -2.29559963e+02, -4.13360252e+01,\n",
       "       -2.00602434e+02, -1.11316720e+02,  1.03491880e+03,  9.31154322e+02,\n",
       "       -2.29559963e+02, -3.40563824e+02, -2.72996257e+02, -3.06780041e+02,\n",
       "       -3.28498187e+02,  1.61648251e+03,  7.30518293e+02,  9.21155359e+02,\n",
       "       -2.68170002e+02,  8.82545320e+02, -1.90949925e+02,  3.20286633e+02,\n",
       "       -3.04366913e+02, -3.50216334e+02, -1.13729848e+02,  1.08766115e+03,\n",
       "        7.64302077e+02, -2.65756875e+02,  7.90846479e+02,  1.37482331e+03,\n",
       "        1.03939860e+03, -2.10254944e+02,  1.39412833e+03,  1.15522872e+03,\n",
       "       -1.74058033e+02, -3.06780041e+02, -2.29559963e+02, -1.90949925e+02,\n",
       "        8.20150461e+02, -1.30621739e+02, -3.50216334e+02, -2.51278110e+02,\n",
       "        1.17453374e+03,  1.00561482e+03, -3.06780041e+02, -1.52339886e+02,\n",
       "       -3.06780041e+02,  1.42308586e+03,  8.99437212e+02, -3.04366913e+02,\n",
       "       -3.04366913e+02, -1.49926759e+02,  1.61613605e+03,  1.17694686e+03,\n",
       "       -3.06780041e+02,  1.58476540e+03,  1.48824030e+03,  1.00078856e+03,\n",
       "       -3.28498187e+02, -3.06780041e+02,  1.05870362e+03, -5.58147897e+01,\n",
       "       -2.99540658e+02,  1.07318239e+03, -3.20299693e+01,  7.25692038e+02,\n",
       "        5.34969870e+02, -3.28498187e+02,  6.04950565e+02,  5.66340527e+02,\n",
       "       -3.04366913e+02,  9.25896511e+02,  3.41919677e+02,  5.10838596e+02,\n",
       "        3.20633087e+02,  4.16726627e+02,  3.10577972e+01, -1.90949925e+02,\n",
       "        1.10446794e+03,  6.02537438e+02,  1.04413975e+03,  4.31205391e+02,\n",
       "        9.33965047e+00, -2.12668072e+02, -2.68170002e+02, -7.02935542e+01,\n",
       "       -3.06780041e+02, -9.68379557e+01,  7.20780681e+02,  3.00896511e+02,\n",
       "       -2.96168419e+01, -2.44385182e+02, -2.75755838e+02,  4.07074117e+02,\n",
       "        5.83317521e+02,  7.73869484e+02,  7.69043229e+02,  3.32267168e+02,\n",
       "       -2.73342711e+02, -2.41972054e+02, -2.10601398e+02,  5.90556903e+02,\n",
       "        5.78406164e+02,  8.14892650e+02,  6.70105005e+02,  3.53985314e+02,\n",
       "        3.12962148e+02, -7.89869514e+00,  7.06301917e+02,  1.19911955e+02,\n",
       "        1.06470755e+03, -2.82995220e+02,  4.80730720e+02, -1.38207575e+02,\n",
       "        1.35653500e+02,  9.22172067e+01, -1.81643869e+02, -2.08188270e+02,\n",
       "       -2.41972054e+02, -3.14365877e+02, -2.82995220e+02,  8.13742303e+02,\n",
       "       -2.10601398e+02, -2.29906417e+02,  1.79089794e+02,  4.42120682e+02,\n",
       "        5.14514504e+02,  1.01885813e+03,  1.37117474e+03, -2.46798309e+02,\n",
       "        1.81502921e+02,  6.30344620e+02, -3.45736533e+02, -2.82995220e+02,\n",
       "        5.33819523e+02,  3.91445006e+02, -3.48149660e+02,  4.37294427e+02,\n",
       "        3.99919838e+02,  3.07113435e+01, -7.06400079e+01,  4.73491338e+02,\n",
       "        5.94147709e+02, -2.82995220e+02,  1.41219790e+03, -2.82995220e+02,\n",
       "        3.48008713e+02,  7.70306010e+02, -2.82995220e+02, -2.82995220e+02,\n",
       "        7.55827245e+02, -1.27249500e+01, -2.82995220e+02, -3.45736533e+02,\n",
       "        3.33529948e+02, -3.45736533e+02, -3.09539622e+02,  4.31290494e+02,\n",
       "        2.15286705e+02,  6.44823384e+02, -2.97473985e+02,  3.85441073e+02,\n",
       "        4.66410004e+02, -2.44385182e+02, -2.10601398e+02,  2.92664830e+02,\n",
       "       -2.82995220e+02, -1.14076301e+02,  1.52703440e+02, -3.14365877e+02,\n",
       "        2.27510390e+02,  3.24035487e+02,  2.85425448e+02, -1.06836919e+02,\n",
       "       -5.37481160e+01,  2.58881047e+02,  3.77124290e+02, -3.45736533e+02,\n",
       "        2.95077958e+02, -2.82995220e+02, -4.20628585e+02,  2.97491085e+02,\n",
       "        3.31274869e+02, -4.06149821e+02, -3.79605419e+02, -4.25454840e+02,\n",
       "        4.83301896e+02, -4.25454840e+02, -1.72076462e+02, -4.20628585e+02,\n",
       "       -1.73671406e+00,  2.20271008e+02, -2.66188431e+02, -3.60300400e+02,\n",
       "        1.66871194e+00,  6.90830854e+02, -4.15802331e+02, -2.68601558e+02,\n",
       "       -1.73671406e+00,  8.45271008e+02,  4.01255564e+02,  3.48166761e+02,\n",
       "        1.15656444e+03,  3.38514251e+02, -2.03447118e+02, -4.41807089e+01,\n",
       "       -3.60300400e+02, -3.69952910e+02,  1.01660305e+03,  7.82529695e+02,\n",
       "       -3.53061018e+02, -3.48234763e+02, -1.74489589e+02, -3.53061018e+02,\n",
       "       -2.42057157e+02, -2.44470284e+02, -2.87906578e+02, -4.25454840e+02,\n",
       "       -4.15802331e+02, -4.20628585e+02, -3.50647890e+02, -4.17675815e+01,\n",
       "       -4.25454840e+02,  6.16023904e+02, -2.54122794e+02, -3.79605419e+02,\n",
       "       -3.79605419e+02, -1.55184570e+02,  2.75010374e+02, -9.48563846e+01,\n",
       "       -3.65126655e+02, -2.01033991e+02, -4.27867968e+02,  5.42867517e+02,\n",
       "       -3.24103489e+02, -4.30281095e+02, -3.12037852e+02, -3.24103489e+02,\n",
       "       -3.14450979e+02, -2.87906578e+02, -2.87906578e+02, -3.21690361e+02,\n",
       "        7.40743965e+02, -3.33755998e+02, -7.67017122e+01, -2.45620631e+02,\n",
       "       -2.91470052e+02, -3.37319473e+02, -1.65987426e+02, -3.37319473e+02,\n",
       "       -1.68400554e+02, -2.33554994e+02, -3.37319473e+02, -3.44558855e+02,\n",
       "        6.24913849e+02, -1.24964260e+02,  2.72597246e+02,  5.34461988e+00,\n",
       "        3.40164814e+02, -3.37319473e+02,  5.18365051e-01, -2.84230670e+02,\n",
       "       -1.27377388e+02,  6.00782575e+02, -5.73966929e+01, -1.29790515e+02,\n",
       "       -2.81817542e+02,  8.01072150e+02, -3.80916736e+01,  3.57056706e+02,\n",
       "       -3.37319473e+02, -2.96296307e+02, -2.67338778e+02, -1.10485496e+02,\n",
       "       -1.56334917e+02, -2.04597465e+02,  4.08336898e+02,  3.93253617e+02,\n",
       "        3.66709216e+02, -2.40794376e+02, -1.68400554e+02, -1.99771210e+02,\n",
       "        4.63234312e+02, -7.18754573e+01, -3.10775071e+02, -3.51798237e+02,\n",
       "       -1.05659241e+02, -3.22840708e+02, -3.63863874e+02, -1.99771210e+02,\n",
       "       -3.59037620e+02,  5.23562497e+02, -1.80466191e+02, -1.99771210e+02,\n",
       "       -2.52860013e+02,  3.71535470e+02, -2.74578160e+02, -5.31749544e+01,\n",
       "        5.01844351e+02,  6.41805741e+02, -1.78053064e+02, -1.56334917e+02,\n",
       "       -1.70813681e+02, -2.33554994e+02, -2.52701965e+02, -2.98551386e+02,\n",
       "       -3.25095787e+02,  7.06960181e+02,  4.55994930e+02,  3.69122343e+02,\n",
       "       -3.25095787e+02, -3.29922042e+02, -3.13030150e+02, -2.52701965e+02,\n",
       "       -2.76833239e+02, -3.25095787e+02, -3.05790768e+02, -3.44400807e+02,\n",
       "       -2.93725131e+02, -3.25095787e+02, -2.96138258e+02,  4.39103038e+02,\n",
       "       -2.96138258e+02, -2.04439417e+02,  1.17993315e+03,  5.64585663e+02,\n",
       "       -2.74420112e+02, -2.96138258e+02, -3.13030150e+02,  8.75879100e+02,\n",
       "        2.33437441e+02,  1.29798009e+02, -3.83010845e+02,  9.75784994e+02,\n",
       "       -2.93725131e+02,  1.17342298e+03, -3.31073704e+01, -3.13030150e+02,\n",
       "       -3.73358336e+02, -3.15443278e+02, -3.03377641e+02, -3.03377641e+02,\n",
       "       -2.43049455e+02, -3.03377641e+02, -2.86485749e+02, -2.81659494e+02,\n",
       "       -3.83010845e+02, -3.25095787e+02,  1.12521859e+03, -3.17856405e+02,\n",
       "       -3.05790768e+02, -3.63705826e+02, -3.83010845e+02, -2.84072621e+02,\n",
       "       -3.05790768e+02, -3.13030150e+02,  1.20475583e+03,  1.13485947e+03,\n",
       "       -3.73358336e+02, -3.51640189e+02, -2.96138258e+02,  9.22760169e+02,\n",
       "       -3.92663355e+02, -3.34748297e+02,  5.99790779e+02,  8.50453589e+02,\n",
       "       -3.22682660e+02, -3.40337117e+02, -3.33097734e+02, -2.65530167e+02,\n",
       "       -2.00375727e+02, -2.87248313e+02,  9.03478414e+02, -2.48638275e+02,\n",
       "       -3.40337117e+02, -3.28271479e+02, -3.57229008e+02, -2.77595804e+02,\n",
       "       -2.36572638e+02, -2.10028236e+02, -2.99313951e+02, -2.41398893e+02,\n",
       "       -2.67943294e+02, -3.62055263e+02, -2.55877657e+02, -2.99313951e+02,\n",
       "       -2.82422059e+02, -2.70356422e+02,  1.35418943e+03, -3.78947155e+02,\n",
       "       -3.49989626e+02,  7.25122184e+02, -3.28271479e+02, -3.52402754e+02,\n",
       "       -1.76244452e+02, -1.47286923e+02, -3.62055263e+02, -9.90243752e+01,\n",
       "       -1.85896962e+02, -2.60703912e+02, -3.57229008e+02, -2.70356422e+02,\n",
       "       -2.36572638e+02, -2.36572638e+02, -3.52402754e+02, -3.28271479e+02,\n",
       "       -2.53464530e+02,  1.31321570e+03, -2.67943294e+02, -2.94487696e+02,\n",
       "        7.10660868e+02,  9.61323678e+02,  9.34811266e+02,  1.34695877e+03,\n",
       "       -3.28271479e+02, -3.86186537e+02,  7.17891526e+02, -2.10028236e+02,\n",
       "       -2.70356422e+02, -3.86186537e+02, -3.86186537e+02, -3.52402754e+02,\n",
       "       -1.90761161e+02,  1.07460399e+03,  1.12039815e+03, -3.13682347e+02,\n",
       "       -2.43785987e+02, -3.71527611e+02,  1.47470040e+03, -2.00402039e+02,\n",
       "        5.17843322e+02, -2.55837083e+02,  4.84100251e+02,  7.06005298e+02,\n",
       "        5.13187752e+02, -2.19683793e+02,  6.38519157e+02, -2.26914451e+02,\n",
       "       -2.19683793e+02, -1.25685240e+02, -2.84759715e+02, -1.06403485e+02,\n",
       "       -2.84759715e+02, -3.30553883e+02, -2.55837083e+02,  4.28830075e+02,\n",
       "        5.73443235e+02,  9.18104599e+02, -2.79939277e+02, -3.71527611e+02,\n",
       "        1.00005206e+03, -2.55837083e+02,  7.34927930e+02,  6.62621350e+02,\n",
       "        1.66286237e+03, -2.55837083e+02, -3.01631251e+02, -1.83530503e+02,\n",
       "       -2.84759715e+02, -4.22142217e+02, -2.55837083e+02, -2.26914451e+02,\n",
       "       -2.84759715e+02,  1.08106035e+02, -1.23275020e+02, -3.71527611e+02,\n",
       "       -2.10042916e+02, -6.54297563e+01,  6.28878279e+02, -9.19421689e+01,\n",
       "       -3.42604979e+02, -2.84759715e+02, -1.25685240e+02, -2.26914451e+02,\n",
       "       -3.71527611e+02,  4.43291391e+02, -3.13682347e+02, -2.05222477e+02,\n",
       "        8.45798019e+02, -4.61480016e+01, -2.84759715e+02, -2.46196206e+02,\n",
       "       -2.75118838e+02, -2.84759715e+02, -2.84759715e+02, -3.83413839e+02,\n",
       "       -3.64132085e+02, -3.13517479e+02, -3.30389014e+02, -3.49670769e+02,\n",
       "        1.20010026e+03, -3.13517479e+02, -1.88186073e+02, -2.91825505e+02,\n",
       "       -2.53261995e+02, -2.94235724e+02, -2.82184627e+02, -3.13517479e+02,\n",
       "       -2.74953969e+02,  2.15030082e+01,  9.30155696e+02, -3.83413839e+02,\n",
       "       -3.52080988e+02, -2.62902873e+02, -2.99056163e+02, -2.99056163e+02,\n",
       "       -2.79774408e+02, -3.83413839e+02, -1.93006512e+02, -2.82184627e+02,\n",
       "        3.83035908e+02,  8.50618458e+02,  7.46979027e+02, -2.38800679e+02,\n",
       "       -3.01466382e+02, -2.31570021e+02, -3.52080988e+02, -2.46031337e+02,\n",
       "       -3.25568575e+02, -3.06286821e+02, -3.83413839e+02, -3.64132085e+02,\n",
       "        1.57609448e+03,  1.06753820e+03, -2.21929144e+02, -3.83413839e+02,\n",
       "       -3.83413839e+02, -3.83413839e+02, -3.83413839e+02, -2.70133531e+02,\n",
       "       -3.25568575e+02, -7.97262036e+01, -3.49670769e+02,  5.80673893e+02,\n",
       "       -3.44850330e+02, -2.70133531e+02, -3.01466382e+02, -3.64132085e+02,\n",
       "        7.34927930e+02,  5.73443235e+02,  6.43339595e+02])"
      ]
     },
     "execution_count": 19,
     "metadata": {},
     "output_type": "execute_result"
    }
   ],
   "source": [
    "print(\"SGD: \")\n",
    "y_scores"
   ]
  },
  {
   "cell_type": "code",
   "execution_count": 20,
   "metadata": {},
   "outputs": [],
   "source": []
  }
 ],
 "metadata": {
  "kernelspec": {
   "display_name": "Python 3",
   "language": "python",
   "name": "python3"
  },
  "language_info": {
   "codemirror_mode": {
    "name": "ipython",
    "version": 3
   },
   "file_extension": ".py",
   "mimetype": "text/x-python",
   "name": "python",
   "nbconvert_exporter": "python",
   "pygments_lexer": "ipython3",
   "version": "3.6.6"
  }
 },
 "nbformat": 4,
 "nbformat_minor": 1
}
