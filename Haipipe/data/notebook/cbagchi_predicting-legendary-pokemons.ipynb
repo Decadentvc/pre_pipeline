{
 "cells": [
  {
   "cell_type": "markdown",
   "execution_count": null,
   "metadata": {
    "_cell_guid": "431564e2-0dda-4895-914a-7428be0ec4f0",
    "_execution_state": "idle",
    "_uuid": "737fa98f13177711da3f085835789d1eb7ddfbc5",
    "collapsed": false
   },
   "outputs": [],
   "source": [
    "# Predicting whether a Pokemon is legendary or not"
   ]
  },
  {
   "cell_type": "code",
   "execution_count": 1,
   "metadata": {
    "_cell_guid": "55d95d3a-7898-4e66-afa8-8f1b8ac6642f",
    "_execution_state": "idle",
    "_uuid": "3908291cd9084c9c597327b097bbe799b40cd16e"
   },
   "outputs": [
    {
     "name": "stdout",
     "output_type": "stream",
     "text": [
      "Pokemon.csv\n",
      "\n"
     ]
    }
   ],
   "source": [
    "# This Python 3 environment comes with many helpful analytics libraries installed\n",
    "# It is defined by the kaggle/python docker image: https://github.com/kaggle/docker-python\n",
    "# For example, here's several helpful packages to load in \n",
    "\n",
    "import numpy as np # linear algebra\n",
    "import pandas as pd # data processing, CSV file I/O (e.g. pd.read_csv)\n",
    "from sklearn.model_selection import train_test_split\n",
    "from sklearn.preprocessing import StandardScaler\n",
    "# Input data files are available in the \"../input/\" directory.\n",
    "# For example, running this (by clicking run or pressing Shift+Enter) will list the files in the input directory\n",
    "\n",
    "from subprocess import check_output\n",
    "print(check_output([\"ls\", \"../input\"]).decode(\"utf8\"))\n",
    "\n",
    "# Any results you write to the current directory are saved as output."
   ]
  },
  {
   "cell_type": "code",
   "execution_count": 2,
   "metadata": {
    "_cell_guid": "20fae5ff-0749-4fd0-9c0e-e6a8a84a0bd8",
    "_execution_state": "idle",
    "_uuid": "103d717193761debe8b81e6c375df57aed2b44d8",
    "collapsed": false
   },
   "outputs": [
    {
     "data": {
      "text/html": [
       "<div>\n",
       "<style>\n",
       "    .dataframe thead tr:only-child th {\n",
       "        text-align: right;\n",
       "    }\n",
       "\n",
       "    .dataframe thead th {\n",
       "        text-align: left;\n",
       "    }\n",
       "\n",
       "    .dataframe tbody tr th {\n",
       "        vertical-align: top;\n",
       "    }\n",
       "</style>\n",
       "<table border=\"1\" class=\"dataframe\">\n",
       "  <thead>\n",
       "    <tr style=\"text-align: right;\">\n",
       "      <th></th>\n",
       "      <th>#</th>\n",
       "      <th>Name</th>\n",
       "      <th>Type 1</th>\n",
       "      <th>Type 2</th>\n",
       "      <th>Total</th>\n",
       "      <th>HP</th>\n",
       "      <th>Attack</th>\n",
       "      <th>Defense</th>\n",
       "      <th>Sp. Atk</th>\n",
       "      <th>Sp. Def</th>\n",
       "      <th>Speed</th>\n",
       "      <th>Generation</th>\n",
       "      <th>Legendary</th>\n",
       "    </tr>\n",
       "  </thead>\n",
       "  <tbody>\n",
       "    <tr>\n",
       "      <th>0</th>\n",
       "      <td>1</td>\n",
       "      <td>Bulbasaur</td>\n",
       "      <td>Grass</td>\n",
       "      <td>Poison</td>\n",
       "      <td>318</td>\n",
       "      <td>45</td>\n",
       "      <td>49</td>\n",
       "      <td>49</td>\n",
       "      <td>65</td>\n",
       "      <td>65</td>\n",
       "      <td>45</td>\n",
       "      <td>1</td>\n",
       "      <td>False</td>\n",
       "    </tr>\n",
       "    <tr>\n",
       "      <th>1</th>\n",
       "      <td>2</td>\n",
       "      <td>Ivysaur</td>\n",
       "      <td>Grass</td>\n",
       "      <td>Poison</td>\n",
       "      <td>405</td>\n",
       "      <td>60</td>\n",
       "      <td>62</td>\n",
       "      <td>63</td>\n",
       "      <td>80</td>\n",
       "      <td>80</td>\n",
       "      <td>60</td>\n",
       "      <td>1</td>\n",
       "      <td>False</td>\n",
       "    </tr>\n",
       "    <tr>\n",
       "      <th>2</th>\n",
       "      <td>3</td>\n",
       "      <td>Venusaur</td>\n",
       "      <td>Grass</td>\n",
       "      <td>Poison</td>\n",
       "      <td>525</td>\n",
       "      <td>80</td>\n",
       "      <td>82</td>\n",
       "      <td>83</td>\n",
       "      <td>100</td>\n",
       "      <td>100</td>\n",
       "      <td>80</td>\n",
       "      <td>1</td>\n",
       "      <td>False</td>\n",
       "    </tr>\n",
       "    <tr>\n",
       "      <th>3</th>\n",
       "      <td>3</td>\n",
       "      <td>VenusaurMega Venusaur</td>\n",
       "      <td>Grass</td>\n",
       "      <td>Poison</td>\n",
       "      <td>625</td>\n",
       "      <td>80</td>\n",
       "      <td>100</td>\n",
       "      <td>123</td>\n",
       "      <td>122</td>\n",
       "      <td>120</td>\n",
       "      <td>80</td>\n",
       "      <td>1</td>\n",
       "      <td>False</td>\n",
       "    </tr>\n",
       "    <tr>\n",
       "      <th>4</th>\n",
       "      <td>4</td>\n",
       "      <td>Charmander</td>\n",
       "      <td>Fire</td>\n",
       "      <td>NaN</td>\n",
       "      <td>309</td>\n",
       "      <td>39</td>\n",
       "      <td>52</td>\n",
       "      <td>43</td>\n",
       "      <td>60</td>\n",
       "      <td>50</td>\n",
       "      <td>65</td>\n",
       "      <td>1</td>\n",
       "      <td>False</td>\n",
       "    </tr>\n",
       "  </tbody>\n",
       "</table>\n",
       "</div>"
      ],
      "text/plain": [
       "   #                   Name Type 1  Type 2  Total  HP  Attack  Defense  \\\n",
       "0  1              Bulbasaur  Grass  Poison    318  45      49       49   \n",
       "1  2                Ivysaur  Grass  Poison    405  60      62       63   \n",
       "2  3               Venusaur  Grass  Poison    525  80      82       83   \n",
       "3  3  VenusaurMega Venusaur  Grass  Poison    625  80     100      123   \n",
       "4  4             Charmander   Fire     NaN    309  39      52       43   \n",
       "\n",
       "   Sp. Atk  Sp. Def  Speed  Generation  Legendary  \n",
       "0       65       65     45           1      False  \n",
       "1       80       80     60           1      False  \n",
       "2      100      100     80           1      False  \n",
       "3      122      120     80           1      False  \n",
       "4       60       50     65           1      False  "
      ]
     },
     "execution_count": 2,
     "metadata": {},
     "output_type": "execute_result"
    }
   ],
   "source": [
    "data=pd.read_csv(\"../input/Pokemon.csv\")\n",
    "data.head()"
   ]
  },
  {
   "cell_type": "code",
   "execution_count": 3,
   "metadata": {
    "_cell_guid": "4163b965-785a-4f51-99bd-e0cb65f8d2ad",
    "_execution_state": "idle",
    "_uuid": "a8850c0e4854e3ddaffebc1b35136fee5e1d70aa",
    "collapsed": false
   },
   "outputs": [],
   "source": [
    "X=data[[\"Total\",\"HP\",\"Attack\",\"Defense\",\"Sp. Atk\",\"Sp. Def\",\"Speed\"]]\n",
    "y=data[\"Legendary\"]\n",
    "\n",
    "scaler=StandardScaler().fit(X)   # Z-scaling the data\n",
    "X=scaler.transform(X)\n",
    "y=y.astype(int)"
   ]
  },
  {
   "cell_type": "code",
   "execution_count": 4,
   "metadata": {
    "_cell_guid": "2f9d578c-4038-4e7b-9343-4b919b3230dc",
    "_execution_state": "idle",
    "_uuid": "0f7ae3de152ef3770b785c81dc03295ed9820651",
    "collapsed": false
   },
   "outputs": [
    {
     "data": {
      "text/html": [
       "<div>\n",
       "<style>\n",
       "    .dataframe thead tr:only-child th {\n",
       "        text-align: right;\n",
       "    }\n",
       "\n",
       "    .dataframe thead th {\n",
       "        text-align: left;\n",
       "    }\n",
       "\n",
       "    .dataframe tbody tr th {\n",
       "        vertical-align: top;\n",
       "    }\n",
       "</style>\n",
       "<table border=\"1\" class=\"dataframe\">\n",
       "  <thead>\n",
       "    <tr style=\"text-align: right;\">\n",
       "      <th></th>\n",
       "      <th>0</th>\n",
       "      <th>1</th>\n",
       "      <th>2</th>\n",
       "      <th>3</th>\n",
       "      <th>4</th>\n",
       "      <th>5</th>\n",
       "      <th>6</th>\n",
       "    </tr>\n",
       "  </thead>\n",
       "  <tbody>\n",
       "    <tr>\n",
       "      <th>0</th>\n",
       "      <td>-0.876672</td>\n",
       "      <td>-1.146561</td>\n",
       "      <td>-0.894077</td>\n",
       "      <td>0.518467</td>\n",
       "      <td>-1.309407</td>\n",
       "      <td>-0.607752</td>\n",
       "      <td>-0.112853</td>\n",
       "    </tr>\n",
       "    <tr>\n",
       "      <th>1</th>\n",
       "      <td>-1.293728</td>\n",
       "      <td>-1.538430</td>\n",
       "      <td>-1.202366</td>\n",
       "      <td>-0.604624</td>\n",
       "      <td>-1.003613</td>\n",
       "      <td>-0.607752</td>\n",
       "      <td>-0.285015</td>\n",
       "    </tr>\n",
       "    <tr>\n",
       "      <th>2</th>\n",
       "      <td>-0.125972</td>\n",
       "      <td>0.029047</td>\n",
       "      <td>0.339080</td>\n",
       "      <td>-0.123299</td>\n",
       "      <td>-0.392027</td>\n",
       "      <td>-0.427970</td>\n",
       "      <td>0.059310</td>\n",
       "    </tr>\n",
       "    <tr>\n",
       "      <th>3</th>\n",
       "      <td>-0.334500</td>\n",
       "      <td>-0.166887</td>\n",
       "      <td>0.339080</td>\n",
       "      <td>-1.085948</td>\n",
       "      <td>-0.850717</td>\n",
       "      <td>0.291156</td>\n",
       "      <td>0.231473</td>\n",
       "    </tr>\n",
       "    <tr>\n",
       "      <th>4</th>\n",
       "      <td>-0.376205</td>\n",
       "      <td>0.029047</td>\n",
       "      <td>0.801513</td>\n",
       "      <td>0.999791</td>\n",
       "      <td>-0.697820</td>\n",
       "      <td>-1.147097</td>\n",
       "      <td>-1.662316</td>\n",
       "    </tr>\n",
       "  </tbody>\n",
       "</table>\n",
       "</div>"
      ],
      "text/plain": [
       "          0         1         2         3         4         5         6\n",
       "0 -0.876672 -1.146561 -0.894077  0.518467 -1.309407 -0.607752 -0.112853\n",
       "1 -1.293728 -1.538430 -1.202366 -0.604624 -1.003613 -0.607752 -0.285015\n",
       "2 -0.125972  0.029047  0.339080 -0.123299 -0.392027 -0.427970  0.059310\n",
       "3 -0.334500 -0.166887  0.339080 -1.085948 -0.850717  0.291156  0.231473\n",
       "4 -0.376205  0.029047  0.801513  0.999791 -0.697820 -1.147097 -1.662316"
      ]
     },
     "execution_count": 4,
     "metadata": {},
     "output_type": "execute_result"
    }
   ],
   "source": [
    "X_train,X_test,y_train,y_test=train_test_split(X,y,random_state=42,test_size=0.33)\n",
    "pd.DataFrame(X_train).head()"
   ]
  },
  {
   "cell_type": "markdown",
   "execution_count": null,
   "metadata": {
    "_cell_guid": "c9de5be2-e34d-46fa-abd1-d455da2564ea",
    "_execution_state": "idle",
    "_uuid": "d2036cd28696d6920a2370166e1a24ec09cf9f8d",
    "collapsed": false
   },
   "outputs": [],
   "source": [
    "## kNN"
   ]
  },
  {
   "cell_type": "code",
   "execution_count": 5,
   "metadata": {
    "_cell_guid": "38fce9bc-94ae-4601-9340-687bbea2aa45",
    "_execution_state": "idle",
    "_uuid": "9589bd6cc5fa4b15e17dc83b0354155795df4bee",
    "collapsed": false
   },
   "outputs": [
    {
     "name": "stdout",
     "output_type": "stream",
     "text": [
      "Accuracy= 93.9393939394\n"
     ]
    }
   ],
   "source": [
    "from sklearn.neighbors import KNeighborsClassifier\n",
    "clf=KNeighborsClassifier(n_neighbors=5)\n",
    "clf=clf.fit(X_train,y_train)\n",
    "pred_knn=clf.predict(X_test)\n",
    "accuracy=sum(pred_knn==y_test)/pred_knn.shape[0]*100\n",
    "print(\"Accuracy=\",accuracy)"
   ]
  },
  {
   "cell_type": "markdown",
   "execution_count": null,
   "metadata": {
    "_cell_guid": "9d6d9a59-cb52-4ee3-b939-5477918474a8",
    "_execution_state": "idle",
    "_uuid": "5247d3c246ca0d8fbd671635814e8a7f415502b3",
    "collapsed": false
   },
   "outputs": [],
   "source": [
    "## Logistic Regression"
   ]
  },
  {
   "cell_type": "code",
   "execution_count": 6,
   "metadata": {
    "_cell_guid": "cf5a4d6c-4581-42a1-9fcb-fa4c90bb782e",
    "_execution_state": "idle",
    "_uuid": "3186dc645adc0a2e2db156ab84be3aa393238d30",
    "collapsed": false
   },
   "outputs": [
    {
     "name": "stdout",
     "output_type": "stream",
     "text": [
      "Accuracy= 95.8333333333\n"
     ]
    }
   ],
   "source": [
    "from sklearn.linear_model import LogisticRegression\n",
    "logReg=LogisticRegression()\n",
    "logReg=logReg.fit(X_train,y_train)\n",
    "pred_LR=logReg.predict(X_test)\n",
    "accuracy=sum(pred_LR==y_test)/pred_knn.shape[0]*100\n",
    "print(\"Accuracy=\",accuracy)"
   ]
  },
  {
   "cell_type": "markdown",
   "execution_count": 34,
   "metadata": {
    "_cell_guid": "aa8c135e-186d-4146-b0ec-e07799526150",
    "_execution_state": "idle",
    "_uuid": "c5e238d29269005d951a5fcf57570a3c25b4cdb7",
    "collapsed": false
   },
   "outputs": [],
   "source": [
    "## SVM"
   ]
  },
  {
   "cell_type": "code",
   "execution_count": 7,
   "metadata": {
    "_cell_guid": "842df34d-b796-4584-84b9-c3cf06ee8899",
    "_execution_state": "idle",
    "_uuid": "12ff593101cc6eec8d7e42bca392c2a6c4220004",
    "collapsed": false
   },
   "outputs": [
    {
     "name": "stdout",
     "output_type": "stream",
     "text": [
      "Accuracy= 94.696969697\n"
     ]
    }
   ],
   "source": [
    "from sklearn import svm\n",
    "clf=svm.SVC()\n",
    "clf=clf.fit(X_train,y_train)\n",
    "pred_svm=clf.predict(X_test)\n",
    "accuracy=sum(pred_svm==y_test)/pred_knn.shape[0]*100\n",
    "print(\"Accuracy=\",accuracy)"
   ]
  },
  {
   "cell_type": "markdown",
   "execution_count": null,
   "metadata": {
    "_execution_state": "idle",
    "_uuid": "fae4884c3717aac09a2afc2ea38a1ec6224e4c9f",
    "collapsed": false
   },
   "outputs": [],
   "source": [
    "## Random Forest"
   ]
  },
  {
   "cell_type": "code",
   "execution_count": 8,
   "metadata": {
    "_execution_state": "idle",
    "_uuid": "f5fe358440f55b34936a440b5ab5498bac6df019",
    "collapsed": false
   },
   "outputs": [
    {
     "name": "stdout",
     "output_type": "stream",
     "text": [
      "Accuracy= 95.8333333333\n"
     ]
    }
   ],
   "source": [
    "from sklearn.ensemble import RandomForestClassifier\n",
    "clf=RandomForestClassifier(n_estimators=100,max_depth=5)\n",
    "clf=clf.fit(X_train,y_train)\n",
    "pred_rf=clf.predict(X_test)\n",
    "accuracy=sum(pred_rf==y_test)/pred_knn.shape[0]*100\n",
    "print(\"Accuracy=\",accuracy)"
   ]
  }
 ],
 "metadata": {
  "kernelspec": {
   "display_name": "Python 3",
   "language": "python",
   "name": "python3"
  },
  "language_info": {
   "codemirror_mode": {
    "name": "ipython",
    "version": 3
   },
   "file_extension": ".py",
   "mimetype": "text/x-python",
   "name": "python",
   "nbconvert_exporter": "python",
   "pygments_lexer": "ipython3",
   "version": "3.6.1"
  }
 },
 "nbformat": 4,
 "nbformat_minor": 0
}
