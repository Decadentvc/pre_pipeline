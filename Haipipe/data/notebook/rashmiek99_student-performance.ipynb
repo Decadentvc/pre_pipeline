{
 "cells": [
  {
   "cell_type": "code",
   "execution_count": 1,
   "metadata": {
    "_cell_guid": "b1076dfc-b9ad-4769-8c92-a6c4dae69d19",
    "_uuid": "8f2839f25d086af736a60e9eeb907d3b93b6e0e5"
   },
   "outputs": [
    {
     "name": "stdout",
     "output_type": "stream",
     "text": [
      "['xAPI-Edu-Data.csv']\n"
     ]
    }
   ],
   "source": [
    "# This Python 3 environment comes with many helpful analytics libraries installed\n",
    "# It is defined by the kaggle/python docker image: https://github.com/kaggle/docker-python\n",
    "# For example, here's several helpful packages to load in \n",
    "\n",
    "import warnings\n",
    "warnings.filterwarnings(\"ignore\", category=FutureWarning)\n",
    "\n",
    "import numpy as np # linear algebra\n",
    "import pandas as pd # data processing, CSV file I/O (e.g. pd.read_csv)\n",
    "import matplotlib.pyplot as plt\n",
    "import seaborn as sns\n",
    "\n",
    "# Input data files are available in the \"../input/\" directory.\n",
    "# For example, running this (by clicking run or pressing Shift+Enter) will list the files in the input directory\n",
    "\n",
    "import os\n",
    "print(os.listdir(\"../input\"))\n",
    "\n",
    "# Any results you write to the current directory are saved as output."
   ]
  },
  {
   "cell_type": "code",
   "execution_count": 2,
   "metadata": {},
   "outputs": [],
   "source": [
    "student_data = pd.read_csv(\"../input/xAPI-Edu-Data.csv\")"
   ]
  },
  {
   "cell_type": "code",
   "execution_count": 3,
   "metadata": {},
   "outputs": [
    {
     "data": {
      "text/plain": [
       "(480, 17)"
      ]
     },
     "execution_count": 3,
     "metadata": {},
     "output_type": "execute_result"
    }
   ],
   "source": [
    "student_data.shape"
   ]
  },
  {
   "cell_type": "code",
   "execution_count": 4,
   "metadata": {},
   "outputs": [
    {
     "data": {
      "text/html": [
       "<div>\n",
       "<style scoped>\n",
       "    .dataframe tbody tr th:only-of-type {\n",
       "        vertical-align: middle;\n",
       "    }\n",
       "\n",
       "    .dataframe tbody tr th {\n",
       "        vertical-align: top;\n",
       "    }\n",
       "\n",
       "    .dataframe thead th {\n",
       "        text-align: right;\n",
       "    }\n",
       "</style>\n",
       "<table border=\"1\" class=\"dataframe\">\n",
       "  <thead>\n",
       "    <tr style=\"text-align: right;\">\n",
       "      <th></th>\n",
       "      <th>raisedhands</th>\n",
       "      <th>VisITedResources</th>\n",
       "      <th>AnnouncementsView</th>\n",
       "      <th>Discussion</th>\n",
       "    </tr>\n",
       "  </thead>\n",
       "  <tbody>\n",
       "    <tr>\n",
       "      <th>count</th>\n",
       "      <td>480.000000</td>\n",
       "      <td>480.000000</td>\n",
       "      <td>480.000000</td>\n",
       "      <td>480.000000</td>\n",
       "    </tr>\n",
       "    <tr>\n",
       "      <th>mean</th>\n",
       "      <td>46.775000</td>\n",
       "      <td>54.797917</td>\n",
       "      <td>37.918750</td>\n",
       "      <td>43.283333</td>\n",
       "    </tr>\n",
       "    <tr>\n",
       "      <th>std</th>\n",
       "      <td>30.779223</td>\n",
       "      <td>33.080007</td>\n",
       "      <td>26.611244</td>\n",
       "      <td>27.637735</td>\n",
       "    </tr>\n",
       "    <tr>\n",
       "      <th>min</th>\n",
       "      <td>0.000000</td>\n",
       "      <td>0.000000</td>\n",
       "      <td>0.000000</td>\n",
       "      <td>1.000000</td>\n",
       "    </tr>\n",
       "    <tr>\n",
       "      <th>25%</th>\n",
       "      <td>15.750000</td>\n",
       "      <td>20.000000</td>\n",
       "      <td>14.000000</td>\n",
       "      <td>20.000000</td>\n",
       "    </tr>\n",
       "    <tr>\n",
       "      <th>50%</th>\n",
       "      <td>50.000000</td>\n",
       "      <td>65.000000</td>\n",
       "      <td>33.000000</td>\n",
       "      <td>39.000000</td>\n",
       "    </tr>\n",
       "    <tr>\n",
       "      <th>75%</th>\n",
       "      <td>75.000000</td>\n",
       "      <td>84.000000</td>\n",
       "      <td>58.000000</td>\n",
       "      <td>70.000000</td>\n",
       "    </tr>\n",
       "    <tr>\n",
       "      <th>max</th>\n",
       "      <td>100.000000</td>\n",
       "      <td>99.000000</td>\n",
       "      <td>98.000000</td>\n",
       "      <td>99.000000</td>\n",
       "    </tr>\n",
       "  </tbody>\n",
       "</table>\n",
       "</div>"
      ],
      "text/plain": [
       "       raisedhands  VisITedResources  AnnouncementsView  Discussion\n",
       "count   480.000000        480.000000         480.000000  480.000000\n",
       "mean     46.775000         54.797917          37.918750   43.283333\n",
       "std      30.779223         33.080007          26.611244   27.637735\n",
       "min       0.000000          0.000000           0.000000    1.000000\n",
       "25%      15.750000         20.000000          14.000000   20.000000\n",
       "50%      50.000000         65.000000          33.000000   39.000000\n",
       "75%      75.000000         84.000000          58.000000   70.000000\n",
       "max     100.000000         99.000000          98.000000   99.000000"
      ]
     },
     "execution_count": 4,
     "metadata": {},
     "output_type": "execute_result"
    }
   ],
   "source": [
    "student_data.describe()"
   ]
  },
  {
   "cell_type": "code",
   "execution_count": 5,
   "metadata": {},
   "outputs": [
    {
     "name": "stdout",
     "output_type": "stream",
     "text": [
      "Any data missing or having a null value?: False\n"
     ]
    }
   ],
   "source": [
    "print(\"Any data missing or having a null value?:\",student_data.isnull().sum().any())"
   ]
  },
  {
   "cell_type": "code",
   "execution_count": 6,
   "metadata": {},
   "outputs": [
    {
     "name": "stdout",
     "output_type": "stream",
     "text": [
      "Unique values in each column\n",
      "\n",
      "gender                       2\n",
      "NationalITy                 14\n",
      "PlaceofBirth                14\n",
      "StageID                      3\n",
      "GradeID                     10\n",
      "SectionID                    3\n",
      "Topic                       12\n",
      "Semester                     2\n",
      "Relation                     2\n",
      "raisedhands                 82\n",
      "VisITedResources            89\n",
      "AnnouncementsView           88\n",
      "Discussion                  90\n",
      "ParentAnsweringSurvey        2\n",
      "ParentschoolSatisfaction     2\n",
      "StudentAbsenceDays           2\n",
      "Class                        3\n",
      "dtype: int64\n"
     ]
    }
   ],
   "source": [
    "print(\"Unique values in each column\\n\")\n",
    "print(student_data.nunique())"
   ]
  },
  {
   "cell_type": "markdown",
   "metadata": {},
   "source": [
    "The below plot shows the percentage of boy and girls.\n",
    "Looks like more boys are close to twice as much as girls"
   ]
  },
  {
   "cell_type": "code",
   "execution_count": 7,
   "metadata": {},
   "outputs": [
    {
     "data": {
      "image/png": "[encoded data removed]",
      "text/plain": [
       "<Figure size 576x576 with 1 Axes>"
      ]
     },
     "metadata": {},
     "output_type": "display_data"
    }
   ],
   "source": [
    "ax = student_data['gender'].value_counts().plot(kind='bar', figsize=(8,8),\n",
    "                                                   fontsize=8)\n",
    "\n",
    "ax.set_ylabel(\"\")\n",
    "ax.set_yticks([sum(student_data['gender']=='M'),sum(student_data['gender']=='F')])\n",
    "ax.set_xticklabels([\"M\",\"F\"], rotation=0, fontsize=15)\n",
    "ax.set_title(\"Percentage of Boys and Girls\")\n",
    "\n",
    "totals = []\n",
    "\n",
    "for i in ax.patches:\n",
    "    totals.append(i.get_height())\n",
    "\n",
    "total = sum(totals)\n",
    "\n",
    "for i in ax.patches:\n",
    "    ax.text(i.get_x()+0.15, i.get_height()-15,str(round((i.get_height()/total)*100, 2))+'%', rotation=45,fontsize=12,color='white')\n"
   ]
  },
  {
   "cell_type": "code",
   "execution_count": 8,
   "metadata": {},
   "outputs": [
    {
     "data": {
      "image/png": "[encoded data removed]",
      "text/plain": [
       "<Figure size 576x576 with 1 Axes>"
      ]
     },
     "metadata": {},
     "output_type": "display_data"
    }
   ],
   "source": [
    "plt.figure(figsize=(8,8))\n",
    "plt.title(\"Comparing school attnedance of Boys and Girls\")\n",
    "bar = sns.countplot(hue='StudentAbsenceDays',x='gender',data=student_data)\n",
    "plt.yticks([])\n",
    "plt.ylabel(\"\")\n",
    "for p in bar.patches:\n",
    "    bar.annotate(p.get_height(), (p.get_x()+0.15, p.get_height()+1))"
   ]
  },
  {
   "cell_type": "markdown",
   "metadata": {},
   "source": [
    "Lets regroup the students on their marks/grades - \n",
    "From the data set information it's clear that \n",
    "\n",
    "Low-Level: interval includes values from 0 to 69,\n",
    "Middle-Level: interval includes values from 70 to 89,\n",
    "High-Level: interval includes values from 90-100.\n",
    "\n",
    "So we could classify that Low-level could be fail and middle and high-level as pass"
   ]
  },
  {
   "cell_type": "code",
   "execution_count": 9,
   "metadata": {},
   "outputs": [
    {
     "data": {
      "image/png": "[encoded data removed]",
      "text/plain": [
       "<Figure size 432x288 with 1 Axes>"
      ]
     },
     "metadata": {},
     "output_type": "display_data"
    }
   ],
   "source": [
    "result=[]\n",
    "for k in student_data['Class']:\n",
    "    if k in ['L']:\n",
    "        result.append('Fail')\n",
    "    else:\n",
    "        result.append('Pass')\n",
    "\n",
    "student_data['Result'] = result\n",
    "\n",
    "#student_data = student_data.drop('Class',axis=1)\n",
    "\n",
    "bar = sns.countplot(hue='Result',x='gender',data=student_data)\n",
    "plt.title(\"Result Vs Gender\")    \n",
    "plt.ylabel(\"\")\n",
    "plt.yticks([])\n",
    "\n",
    "for p in bar.patches:\n",
    "    bar.annotate(p.get_height(), (p.get_x()+0.15, p.get_height()+1))\n"
   ]
  },
  {
   "cell_type": "code",
   "execution_count": 10,
   "metadata": {},
   "outputs": [
    {
     "data": {
      "image/png": "[encoded data removed]",
      "text/plain": [
       "<Figure size 432x288 with 1 Axes>"
      ]
     },
     "metadata": {},
     "output_type": "display_data"
    }
   ],
   "source": [
    "plt.title(\"School level Vs Gender \")\n",
    "bar = sns.countplot(hue='StageID',x='gender',data=student_data)\n",
    "plt.ylabel(\"\")\n",
    "plt.yticks([])\n",
    "for p in bar.patches:\n",
    "    bar.annotate(p.get_height(), (p.get_x()+0.1, p.get_height()+1))"
   ]
  },
  {
   "cell_type": "markdown",
   "metadata": {},
   "source": [
    "Participation Vs Gender"
   ]
  },
  {
   "cell_type": "code",
   "execution_count": 11,
   "metadata": {},
   "outputs": [
    {
     "data": {
      "image/png": "[encoded data removed]",
      "text/plain": [
       "<Figure size 432x288 with 1 Axes>"
      ]
     },
     "metadata": {},
     "output_type": "display_data"
    }
   ],
   "source": [
    "result=[]\n",
    "average = np.mean(student_data['raisedhands'])\n",
    "\n",
    "for k in student_data['raisedhands']:\n",
    "    if k > average :\n",
    "        result.append('Active')\n",
    "    else:\n",
    "        result.append('Quiet')\n",
    "\n",
    "student_data['Participation'] = result\n",
    "\n",
    "#student_data = student_data.drop('raisedhands',axis=1)\n",
    "\n",
    "plt.title(\"Participation Vs Gender \")\n",
    "bar = sns.countplot(hue='Participation',x='gender',data=student_data)\n",
    "plt.ylabel(\"\")\n",
    "plt.yticks([])\n",
    "for p in bar.patches:\n",
    "    bar.annotate(p.get_height(), (p.get_x()+0.15, p.get_height()+1))"
   ]
  },
  {
   "cell_type": "code",
   "execution_count": 12,
   "metadata": {},
   "outputs": [
    {
     "data": {
      "image/png": "[encoded data removed]",
      "text/plain": [
       "<Figure size 432x288 with 1 Axes>"
      ]
     },
     "metadata": {},
     "output_type": "display_data"
    }
   ],
   "source": [
    "plt.title(\" Parent response on School\")\n",
    "\n",
    "bar = sns.countplot(hue='ParentschoolSatisfaction',x='ParentschoolSatisfaction',data=student_data)\n",
    "plt.ylabel(\"\")\n",
    "plt.yticks([])\n",
    "\n",
    "for p in bar.patches:\n",
    "    bar.annotate(p.get_height(), (p.get_x()+0.15, p.get_height()+1))"
   ]
  },
  {
   "cell_type": "code",
   "execution_count": 13,
   "metadata": {},
   "outputs": [],
   "source": [
    "from sklearn.linear_model import LogisticRegression\n",
    "from sklearn.model_selection import train_test_split\n",
    "from sklearn.metrics import accuracy_score\n",
    "from sklearn.preprocessing import LabelEncoder"
   ]
  },
  {
   "cell_type": "code",
   "execution_count": 14,
   "metadata": {},
   "outputs": [],
   "source": [
    "label = LabelEncoder()\n",
    "Features = pd.DataFrame()\n",
    "Features['Gender'] = label.fit_transform(student_data['gender'])\n",
    "Features['StageID'] = label.fit_transform(student_data['StageID'])\n",
    "Features['Raisedhands'] = label.fit_transform(student_data['raisedhands'])\n",
    "Features['Discussion'] = label.fit_transform(student_data['Discussion'])\n",
    "Features['StudentAbsenceDays'] = label.fit_transform(student_data['StudentAbsenceDays'])\n",
    "\n",
    "Target = label.fit_transform(student_data['Result'])"
   ]
  },
  {
   "cell_type": "code",
   "execution_count": 15,
   "metadata": {},
   "outputs": [],
   "source": [
    "X_train, X_test, y_train, y_test = train_test_split(Features, Target, test_size=0.2)"
   ]
  },
  {
   "cell_type": "code",
   "execution_count": 16,
   "metadata": {},
   "outputs": [
    {
     "name": "stdout",
     "output_type": "stream",
     "text": [
      "Logistic Model Acuracy =  0.9166666666666666\n"
     ]
    }
   ],
   "source": [
    "log_model = LogisticRegression()\n",
    "log_model.fit(X_train,y_train)\n",
    "y_pred = log_model.predict(X_test)\n",
    "log_model_accuracy = accuracy_score(y_test,y_pred)\n",
    "print(\"Logistic Model Acuracy = \",log_model_accuracy)"
   ]
  }
 ],
 "metadata": {
  "kernelspec": {
   "display_name": "Python 3",
   "language": "python",
   "name": "python3"
  },
  "language_info": {
   "codemirror_mode": {
    "name": "ipython",
    "version": 3
   },
   "file_extension": ".py",
   "mimetype": "text/x-python",
   "name": "python",
   "nbconvert_exporter": "python",
   "pygments_lexer": "ipython3",
   "version": "3.6.4"
  }
 },
 "nbformat": 4,
 "nbformat_minor": 1
}
