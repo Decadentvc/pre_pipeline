{
 "cells": [
  {
   "cell_type": "code",
   "execution_count": 1,
   "metadata": {
    "_cell_guid": "b1076dfc-b9ad-4769-8c92-a6c4dae69d19",
    "_uuid": "8f2839f25d086af736a60e9eeb907d3b93b6e0e5",
    "execution": {
     "iopub.execute_input": "2020-08-21T06:48:05.376112Z",
     "iopub.status.busy": "2020-08-21T06:48:05.375149Z",
     "iopub.status.idle": "2020-08-21T06:48:05.384092Z",
     "shell.execute_reply": "2020-08-21T06:48:05.383389Z"
    },
    "papermill": {
     "duration": 0.046318,
     "end_time": "2020-08-21T06:48:05.384235",
     "exception": false,
     "start_time": "2020-08-21T06:48:05.337917",
     "status": "completed"
    },
    "tags": []
   },
   "outputs": [
    {
     "name": "stdout",
     "output_type": "stream",
     "text": [
      "/kaggle/input/churn-modelling/Churn_Modelling.csv\n"
     ]
    }
   ],
   "source": [
    "# This Python 3 environment comes with many helpful analytics libraries installed\n",
    "# It is defined by the kaggle/python Docker image: https://github.com/kaggle/docker-python\n",
    "# For example, here's several helpful packages to load\n",
    "\n",
    "import numpy as np # linear algebra\n",
    "import pandas as pd # data processing, CSV file I/O (e.g. pd.read_csv)\n",
    "\n",
    "# Input data files are available in the read-only \"../input/\" directory\n",
    "# For example, running this (by clicking run or pressing Shift+Enter) will list all files under the input directory\n",
    "\n",
    "import os\n",
    "for dirname, _, filenames in os.walk('/kaggle/input'):\n",
    "    for filename in filenames:\n",
    "        print(os.path.join(dirname, filename))\n",
    "\n",
    "# You can write up to 5GB to the current directory (/kaggle/working/) that gets preserved as output when you create a version using \"Save & Run All\" \n",
    "# You can also write temporary files to /kaggle/temp/, but they won't be saved outside of the current session"
   ]
  },
  {
   "cell_type": "code",
   "execution_count": 2,
   "metadata": {
    "_cell_guid": "79c7e3d0-c299-4dcb-8224-4455121ee9b0",
    "_uuid": "d629ff2d2480ee46fbb7e2d37f6b5fab8052498a",
    "execution": {
     "iopub.execute_input": "2020-08-21T06:48:05.451985Z",
     "iopub.status.busy": "2020-08-21T06:48:05.451151Z",
     "iopub.status.idle": "2020-08-21T06:48:05.493968Z",
     "shell.execute_reply": "2020-08-21T06:48:05.493293Z"
    },
    "papermill": {
     "duration": 0.081152,
     "end_time": "2020-08-21T06:48:05.494106",
     "exception": false,
     "start_time": "2020-08-21T06:48:05.412954",
     "status": "completed"
    },
    "tags": []
   },
   "outputs": [],
   "source": [
    "df=pd.read_csv('/kaggle/input/churn-modelling/Churn_Modelling.csv')"
   ]
  },
  {
   "cell_type": "code",
   "execution_count": 3,
   "metadata": {
    "execution": {
     "iopub.execute_input": "2020-08-21T06:48:05.568084Z",
     "iopub.status.busy": "2020-08-21T06:48:05.559819Z",
     "iopub.status.idle": "2020-08-21T06:48:05.600484Z",
     "shell.execute_reply": "2020-08-21T06:48:05.599703Z"
    },
    "papermill": {
     "duration": 0.078258,
     "end_time": "2020-08-21T06:48:05.600616",
     "exception": false,
     "start_time": "2020-08-21T06:48:05.522358",
     "status": "completed"
    },
    "tags": []
   },
   "outputs": [
    {
     "data": {
      "text/html": [
       "<div>\n",
       "<style scoped>\n",
       "    .dataframe tbody tr th:only-of-type {\n",
       "        vertical-align: middle;\n",
       "    }\n",
       "\n",
       "    .dataframe tbody tr th {\n",
       "        vertical-align: top;\n",
       "    }\n",
       "\n",
       "    .dataframe thead th {\n",
       "        text-align: right;\n",
       "    }\n",
       "</style>\n",
       "<table border=\"1\" class=\"dataframe\">\n",
       "  <thead>\n",
       "    <tr style=\"text-align: right;\">\n",
       "      <th></th>\n",
       "      <th>RowNumber</th>\n",
       "      <th>CustomerId</th>\n",
       "      <th>Surname</th>\n",
       "      <th>CreditScore</th>\n",
       "      <th>Geography</th>\n",
       "      <th>Gender</th>\n",
       "      <th>Age</th>\n",
       "      <th>Tenure</th>\n",
       "      <th>Balance</th>\n",
       "      <th>NumOfProducts</th>\n",
       "      <th>HasCrCard</th>\n",
       "      <th>IsActiveMember</th>\n",
       "      <th>EstimatedSalary</th>\n",
       "      <th>Exited</th>\n",
       "    </tr>\n",
       "  </thead>\n",
       "  <tbody>\n",
       "    <tr>\n",
       "      <th>0</th>\n",
       "      <td>1</td>\n",
       "      <td>15634602</td>\n",
       "      <td>Hargrave</td>\n",
       "      <td>619</td>\n",
       "      <td>France</td>\n",
       "      <td>Female</td>\n",
       "      <td>42</td>\n",
       "      <td>2</td>\n",
       "      <td>0.00</td>\n",
       "      <td>1</td>\n",
       "      <td>1</td>\n",
       "      <td>1</td>\n",
       "      <td>101348.88</td>\n",
       "      <td>1</td>\n",
       "    </tr>\n",
       "    <tr>\n",
       "      <th>1</th>\n",
       "      <td>2</td>\n",
       "      <td>15647311</td>\n",
       "      <td>Hill</td>\n",
       "      <td>608</td>\n",
       "      <td>Spain</td>\n",
       "      <td>Female</td>\n",
       "      <td>41</td>\n",
       "      <td>1</td>\n",
       "      <td>83807.86</td>\n",
       "      <td>1</td>\n",
       "      <td>0</td>\n",
       "      <td>1</td>\n",
       "      <td>112542.58</td>\n",
       "      <td>0</td>\n",
       "    </tr>\n",
       "    <tr>\n",
       "      <th>2</th>\n",
       "      <td>3</td>\n",
       "      <td>15619304</td>\n",
       "      <td>Onio</td>\n",
       "      <td>502</td>\n",
       "      <td>France</td>\n",
       "      <td>Female</td>\n",
       "      <td>42</td>\n",
       "      <td>8</td>\n",
       "      <td>159660.80</td>\n",
       "      <td>3</td>\n",
       "      <td>1</td>\n",
       "      <td>0</td>\n",
       "      <td>113931.57</td>\n",
       "      <td>1</td>\n",
       "    </tr>\n",
       "    <tr>\n",
       "      <th>3</th>\n",
       "      <td>4</td>\n",
       "      <td>15701354</td>\n",
       "      <td>Boni</td>\n",
       "      <td>699</td>\n",
       "      <td>France</td>\n",
       "      <td>Female</td>\n",
       "      <td>39</td>\n",
       "      <td>1</td>\n",
       "      <td>0.00</td>\n",
       "      <td>2</td>\n",
       "      <td>0</td>\n",
       "      <td>0</td>\n",
       "      <td>93826.63</td>\n",
       "      <td>0</td>\n",
       "    </tr>\n",
       "    <tr>\n",
       "      <th>4</th>\n",
       "      <td>5</td>\n",
       "      <td>15737888</td>\n",
       "      <td>Mitchell</td>\n",
       "      <td>850</td>\n",
       "      <td>Spain</td>\n",
       "      <td>Female</td>\n",
       "      <td>43</td>\n",
       "      <td>2</td>\n",
       "      <td>125510.82</td>\n",
       "      <td>1</td>\n",
       "      <td>1</td>\n",
       "      <td>1</td>\n",
       "      <td>79084.10</td>\n",
       "      <td>0</td>\n",
       "    </tr>\n",
       "    <tr>\n",
       "      <th>...</th>\n",
       "      <td>...</td>\n",
       "      <td>...</td>\n",
       "      <td>...</td>\n",
       "      <td>...</td>\n",
       "      <td>...</td>\n",
       "      <td>...</td>\n",
       "      <td>...</td>\n",
       "      <td>...</td>\n",
       "      <td>...</td>\n",
       "      <td>...</td>\n",
       "      <td>...</td>\n",
       "      <td>...</td>\n",
       "      <td>...</td>\n",
       "      <td>...</td>\n",
       "    </tr>\n",
       "    <tr>\n",
       "      <th>9995</th>\n",
       "      <td>9996</td>\n",
       "      <td>15606229</td>\n",
       "      <td>Obijiaku</td>\n",
       "      <td>771</td>\n",
       "      <td>France</td>\n",
       "      <td>Male</td>\n",
       "      <td>39</td>\n",
       "      <td>5</td>\n",
       "      <td>0.00</td>\n",
       "      <td>2</td>\n",
       "      <td>1</td>\n",
       "      <td>0</td>\n",
       "      <td>96270.64</td>\n",
       "      <td>0</td>\n",
       "    </tr>\n",
       "    <tr>\n",
       "      <th>9996</th>\n",
       "      <td>9997</td>\n",
       "      <td>15569892</td>\n",
       "      <td>Johnstone</td>\n",
       "      <td>516</td>\n",
       "      <td>France</td>\n",
       "      <td>Male</td>\n",
       "      <td>35</td>\n",
       "      <td>10</td>\n",
       "      <td>57369.61</td>\n",
       "      <td>1</td>\n",
       "      <td>1</td>\n",
       "      <td>1</td>\n",
       "      <td>101699.77</td>\n",
       "      <td>0</td>\n",
       "    </tr>\n",
       "    <tr>\n",
       "      <th>9997</th>\n",
       "      <td>9998</td>\n",
       "      <td>15584532</td>\n",
       "      <td>Liu</td>\n",
       "      <td>709</td>\n",
       "      <td>France</td>\n",
       "      <td>Female</td>\n",
       "      <td>36</td>\n",
       "      <td>7</td>\n",
       "      <td>0.00</td>\n",
       "      <td>1</td>\n",
       "      <td>0</td>\n",
       "      <td>1</td>\n",
       "      <td>42085.58</td>\n",
       "      <td>1</td>\n",
       "    </tr>\n",
       "    <tr>\n",
       "      <th>9998</th>\n",
       "      <td>9999</td>\n",
       "      <td>15682355</td>\n",
       "      <td>Sabbatini</td>\n",
       "      <td>772</td>\n",
       "      <td>Germany</td>\n",
       "      <td>Male</td>\n",
       "      <td>42</td>\n",
       "      <td>3</td>\n",
       "      <td>75075.31</td>\n",
       "      <td>2</td>\n",
       "      <td>1</td>\n",
       "      <td>0</td>\n",
       "      <td>92888.52</td>\n",
       "      <td>1</td>\n",
       "    </tr>\n",
       "    <tr>\n",
       "      <th>9999</th>\n",
       "      <td>10000</td>\n",
       "      <td>15628319</td>\n",
       "      <td>Walker</td>\n",
       "      <td>792</td>\n",
       "      <td>France</td>\n",
       "      <td>Female</td>\n",
       "      <td>28</td>\n",
       "      <td>4</td>\n",
       "      <td>130142.79</td>\n",
       "      <td>1</td>\n",
       "      <td>1</td>\n",
       "      <td>0</td>\n",
       "      <td>38190.78</td>\n",
       "      <td>0</td>\n",
       "    </tr>\n",
       "  </tbody>\n",
       "</table>\n",
       "<p>10000 rows × 14 columns</p>\n",
       "</div>"
      ],
      "text/plain": [
       "      RowNumber  CustomerId    Surname  CreditScore Geography  Gender  Age  \\\n",
       "0             1    15634602   Hargrave          619    France  Female   42   \n",
       "1             2    15647311       Hill          608     Spain  Female   41   \n",
       "2             3    15619304       Onio          502    France  Female   42   \n",
       "3             4    15701354       Boni          699    France  Female   39   \n",
       "4             5    15737888   Mitchell          850     Spain  Female   43   \n",
       "...         ...         ...        ...          ...       ...     ...  ...   \n",
       "9995       9996    15606229   Obijiaku          771    France    Male   39   \n",
       "9996       9997    15569892  Johnstone          516    France    Male   35   \n",
       "9997       9998    15584532        Liu          709    France  Female   36   \n",
       "9998       9999    15682355  Sabbatini          772   Germany    Male   42   \n",
       "9999      10000    15628319     Walker          792    France  Female   28   \n",
       "\n",
       "      Tenure    Balance  NumOfProducts  HasCrCard  IsActiveMember  \\\n",
       "0          2       0.00              1          1               1   \n",
       "1          1   83807.86              1          0               1   \n",
       "2          8  159660.80              3          1               0   \n",
       "3          1       0.00              2          0               0   \n",
       "4          2  125510.82              1          1               1   \n",
       "...      ...        ...            ...        ...             ...   \n",
       "9995       5       0.00              2          1               0   \n",
       "9996      10   57369.61              1          1               1   \n",
       "9997       7       0.00              1          0               1   \n",
       "9998       3   75075.31              2          1               0   \n",
       "9999       4  130142.79              1          1               0   \n",
       "\n",
       "      EstimatedSalary  Exited  \n",
       "0           101348.88       1  \n",
       "1           112542.58       0  \n",
       "2           113931.57       1  \n",
       "3            93826.63       0  \n",
       "4            79084.10       0  \n",
       "...               ...     ...  \n",
       "9995         96270.64       0  \n",
       "9996        101699.77       0  \n",
       "9997         42085.58       1  \n",
       "9998         92888.52       1  \n",
       "9999         38190.78       0  \n",
       "\n",
       "[10000 rows x 14 columns]"
      ]
     },
     "execution_count": 3,
     "metadata": {},
     "output_type": "execute_result"
    }
   ],
   "source": [
    "df"
   ]
  },
  {
   "cell_type": "code",
   "execution_count": 4,
   "metadata": {
    "execution": {
     "iopub.execute_input": "2020-08-21T06:48:05.672171Z",
     "iopub.status.busy": "2020-08-21T06:48:05.671357Z",
     "iopub.status.idle": "2020-08-21T06:48:05.689486Z",
     "shell.execute_reply": "2020-08-21T06:48:05.688225Z"
    },
    "papermill": {
     "duration": 0.057419,
     "end_time": "2020-08-21T06:48:05.689630",
     "exception": false,
     "start_time": "2020-08-21T06:48:05.632211",
     "status": "completed"
    },
    "tags": []
   },
   "outputs": [
    {
     "name": "stdout",
     "output_type": "stream",
     "text": [
      "<class 'pandas.core.frame.DataFrame'>\n",
      "RangeIndex: 10000 entries, 0 to 9999\n",
      "Data columns (total 14 columns):\n",
      " #   Column           Non-Null Count  Dtype  \n",
      "---  ------           --------------  -----  \n",
      " 0   RowNumber        10000 non-null  int64  \n",
      " 1   CustomerId       10000 non-null  int64  \n",
      " 2   Surname          10000 non-null  object \n",
      " 3   CreditScore      10000 non-null  int64  \n",
      " 4   Geography        10000 non-null  object \n",
      " 5   Gender           10000 non-null  object \n",
      " 6   Age              10000 non-null  int64  \n",
      " 7   Tenure           10000 non-null  int64  \n",
      " 8   Balance          10000 non-null  float64\n",
      " 9   NumOfProducts    10000 non-null  int64  \n",
      " 10  HasCrCard        10000 non-null  int64  \n",
      " 11  IsActiveMember   10000 non-null  int64  \n",
      " 12  EstimatedSalary  10000 non-null  float64\n",
      " 13  Exited           10000 non-null  int64  \n",
      "dtypes: float64(2), int64(9), object(3)\n",
      "memory usage: 1.1+ MB\n"
     ]
    }
   ],
   "source": [
    "df.info()"
   ]
  },
  {
   "cell_type": "code",
   "execution_count": 5,
   "metadata": {
    "execution": {
     "iopub.execute_input": "2020-08-21T06:48:05.756188Z",
     "iopub.status.busy": "2020-08-21T06:48:05.755278Z",
     "iopub.status.idle": "2020-08-21T06:48:06.932683Z",
     "shell.execute_reply": "2020-08-21T06:48:06.931793Z"
    },
    "papermill": {
     "duration": 1.212997,
     "end_time": "2020-08-21T06:48:06.932836",
     "exception": false,
     "start_time": "2020-08-21T06:48:05.719839",
     "status": "completed"
    },
    "tags": []
   },
   "outputs": [],
   "source": [
    "import seaborn as sns\n",
    "import matplotlib.pyplot as plt\n",
    "#some visualization to get some insight info from thet data"
   ]
  },
  {
   "cell_type": "code",
   "execution_count": 6,
   "metadata": {
    "execution": {
     "iopub.execute_input": "2020-08-21T06:48:07.003685Z",
     "iopub.status.busy": "2020-08-21T06:48:07.002753Z",
     "iopub.status.idle": "2020-08-21T06:48:07.200362Z",
     "shell.execute_reply": "2020-08-21T06:48:07.199615Z"
    },
    "papermill": {
     "duration": 0.236253,
     "end_time": "2020-08-21T06:48:07.200503",
     "exception": false,
     "start_time": "2020-08-21T06:48:06.964250",
     "status": "completed"
    },
    "tags": []
   },
   "outputs": [
    {
     "data": {
      "text/plain": [
       "<matplotlib.axes._subplots.AxesSubplot at 0x7f89d6ed5f90>"
      ]
     },
     "execution_count": 6,
     "metadata": {},
     "output_type": "execute_result"
    },
    {
     "data": {
      "image/png": "[encoded data removed]",
      "text/plain": [
       "<Figure size 432x288 with 1 Axes>"
      ]
     },
     "metadata": {
      "needs_background": "light"
     },
     "output_type": "display_data"
    }
   ],
   "source": [
    "sns.countplot(df['Geography'])"
   ]
  },
  {
   "cell_type": "code",
   "execution_count": 7,
   "metadata": {
    "execution": {
     "iopub.execute_input": "2020-08-21T06:48:07.269563Z",
     "iopub.status.busy": "2020-08-21T06:48:07.268575Z",
     "iopub.status.idle": "2020-08-21T06:48:07.271849Z",
     "shell.execute_reply": "2020-08-21T06:48:07.271210Z"
    },
    "papermill": {
     "duration": 0.039758,
     "end_time": "2020-08-21T06:48:07.272001",
     "exception": false,
     "start_time": "2020-08-21T06:48:07.232243",
     "status": "completed"
    },
    "tags": []
   },
   "outputs": [],
   "source": [
    "#most people belongs to france in this dataset"
   ]
  },
  {
   "cell_type": "code",
   "execution_count": 8,
   "metadata": {
    "execution": {
     "iopub.execute_input": "2020-08-21T06:48:07.352632Z",
     "iopub.status.busy": "2020-08-21T06:48:07.351477Z",
     "iopub.status.idle": "2020-08-21T06:48:07.527979Z",
     "shell.execute_reply": "2020-08-21T06:48:07.527246Z"
    },
    "papermill": {
     "duration": 0.224528,
     "end_time": "2020-08-21T06:48:07.528130",
     "exception": false,
     "start_time": "2020-08-21T06:48:07.303602",
     "status": "completed"
    },
    "tags": []
   },
   "outputs": [
    {
     "data": {
      "text/plain": [
       "<matplotlib.axes._subplots.AxesSubplot at 0x7f89d6cf2110>"
      ]
     },
     "execution_count": 8,
     "metadata": {},
     "output_type": "execute_result"
    },
    {
     "data": {
      "image/png": "[encoded data removed]",
      "text/plain": [
       "<Figure size 432x288 with 1 Axes>"
      ]
     },
     "metadata": {
      "needs_background": "light"
     },
     "output_type": "display_data"
    }
   ],
   "source": [
    "sns.countplot(x=df['Geography'],hue='Gender',data=df)"
   ]
  },
  {
   "cell_type": "code",
   "execution_count": 9,
   "metadata": {
    "execution": {
     "iopub.execute_input": "2020-08-21T06:48:07.603730Z",
     "iopub.status.busy": "2020-08-21T06:48:07.602779Z",
     "iopub.status.idle": "2020-08-21T06:48:07.605979Z",
     "shell.execute_reply": "2020-08-21T06:48:07.605110Z"
    },
    "papermill": {
     "duration": 0.043998,
     "end_time": "2020-08-21T06:48:07.606114",
     "exception": false,
     "start_time": "2020-08-21T06:48:07.562116",
     "status": "completed"
    },
    "tags": []
   },
   "outputs": [],
   "source": [
    "#here the no of males is greater than females"
   ]
  },
  {
   "cell_type": "code",
   "execution_count": 10,
   "metadata": {
    "execution": {
     "iopub.execute_input": "2020-08-21T06:48:07.691484Z",
     "iopub.status.busy": "2020-08-21T06:48:07.690283Z",
     "iopub.status.idle": "2020-08-21T06:48:07.880022Z",
     "shell.execute_reply": "2020-08-21T06:48:07.879231Z"
    },
    "papermill": {
     "duration": 0.240011,
     "end_time": "2020-08-21T06:48:07.880166",
     "exception": false,
     "start_time": "2020-08-21T06:48:07.640155",
     "status": "completed"
    },
    "tags": []
   },
   "outputs": [
    {
     "data": {
      "text/plain": [
       "<matplotlib.axes._subplots.AxesSubplot at 0x7f89d6c77890>"
      ]
     },
     "execution_count": 10,
     "metadata": {},
     "output_type": "execute_result"
    },
    {
     "data": {
      "image/png": "[encoded data removed]",
      "text/plain": [
       "<Figure size 432x288 with 1 Axes>"
      ]
     },
     "metadata": {
      "needs_background": "light"
     },
     "output_type": "display_data"
    }
   ],
   "source": [
    "sns.countplot(x=df['Exited'],hue='Geography',data=df)"
   ]
  },
  {
   "cell_type": "code",
   "execution_count": 11,
   "metadata": {
    "execution": {
     "iopub.execute_input": "2020-08-21T06:48:07.966946Z",
     "iopub.status.busy": "2020-08-21T06:48:07.965974Z",
     "iopub.status.idle": "2020-08-21T06:48:08.127999Z",
     "shell.execute_reply": "2020-08-21T06:48:08.127199Z"
    },
    "papermill": {
     "duration": 0.213016,
     "end_time": "2020-08-21T06:48:08.128140",
     "exception": false,
     "start_time": "2020-08-21T06:48:07.915124",
     "status": "completed"
    },
    "tags": []
   },
   "outputs": [
    {
     "data": {
      "text/plain": [
       "<matplotlib.axes._subplots.AxesSubplot at 0x7f89d6be9c90>"
      ]
     },
     "execution_count": 11,
     "metadata": {},
     "output_type": "execute_result"
    },
    {
     "data": {
      "image/png": "[encoded data removed]",
      "text/plain": [
       "<Figure size 432x288 with 1 Axes>"
      ]
     },
     "metadata": {
      "needs_background": "light"
     },
     "output_type": "display_data"
    }
   ],
   "source": [
    "sns.countplot(x=df['Exited'],hue='Gender',data=df)"
   ]
  },
  {
   "cell_type": "code",
   "execution_count": 12,
   "metadata": {
    "execution": {
     "iopub.execute_input": "2020-08-21T06:48:08.216758Z",
     "iopub.status.busy": "2020-08-21T06:48:08.215567Z",
     "iopub.status.idle": "2020-08-21T06:48:08.402398Z",
     "shell.execute_reply": "2020-08-21T06:48:08.402958Z"
    },
    "papermill": {
     "duration": 0.23841,
     "end_time": "2020-08-21T06:48:08.403134",
     "exception": false,
     "start_time": "2020-08-21T06:48:08.164724",
     "status": "completed"
    },
    "tags": []
   },
   "outputs": [
    {
     "data": {
      "text/plain": [
       "<matplotlib.axes._subplots.AxesSubplot at 0x7f89d6b6b690>"
      ]
     },
     "execution_count": 12,
     "metadata": {},
     "output_type": "execute_result"
    },
    {
     "data": {
      "image/png": "[encoded data removed]",
      "text/plain": [
       "<Figure size 432x288 with 1 Axes>"
      ]
     },
     "metadata": {
      "needs_background": "light"
     },
     "output_type": "display_data"
    }
   ],
   "source": [
    "sns.countplot(x=df['HasCrCard'],hue='Geography',data=df)"
   ]
  },
  {
   "cell_type": "code",
   "execution_count": 13,
   "metadata": {
    "execution": {
     "iopub.execute_input": "2020-08-21T06:48:08.484669Z",
     "iopub.status.busy": "2020-08-21T06:48:08.483807Z",
     "iopub.status.idle": "2020-08-21T06:48:08.487528Z",
     "shell.execute_reply": "2020-08-21T06:48:08.486880Z"
    },
    "papermill": {
     "duration": 0.046688,
     "end_time": "2020-08-21T06:48:08.487662",
     "exception": false,
     "start_time": "2020-08-21T06:48:08.440974",
     "status": "completed"
    },
    "tags": []
   },
   "outputs": [],
   "source": [
    "#more people in france have credit card as comparison to others"
   ]
  },
  {
   "cell_type": "code",
   "execution_count": 14,
   "metadata": {
    "execution": {
     "iopub.execute_input": "2020-08-21T06:48:08.580182Z",
     "iopub.status.busy": "2020-08-21T06:48:08.579350Z",
     "iopub.status.idle": "2020-08-21T06:48:08.794890Z",
     "shell.execute_reply": "2020-08-21T06:48:08.793881Z"
    },
    "papermill": {
     "duration": 0.269506,
     "end_time": "2020-08-21T06:48:08.795044",
     "exception": false,
     "start_time": "2020-08-21T06:48:08.525538",
     "status": "completed"
    },
    "tags": []
   },
   "outputs": [
    {
     "data": {
      "text/plain": [
       "<matplotlib.axes._subplots.AxesSubplot at 0x7f89d6b25c50>"
      ]
     },
     "execution_count": 14,
     "metadata": {},
     "output_type": "execute_result"
    },
    {
     "data": {
      "image/png": "[encoded data removed]",
      "text/plain": [
       "<Figure size 432x288 with 1 Axes>"
      ]
     },
     "metadata": {
      "needs_background": "light"
     },
     "output_type": "display_data"
    }
   ],
   "source": [
    "sns.countplot(x=df['HasCrCard'],hue='Gender',data=df)"
   ]
  },
  {
   "cell_type": "code",
   "execution_count": 15,
   "metadata": {
    "execution": {
     "iopub.execute_input": "2020-08-21T06:48:08.884159Z",
     "iopub.status.busy": "2020-08-21T06:48:08.883234Z",
     "iopub.status.idle": "2020-08-21T06:48:08.886883Z",
     "shell.execute_reply": "2020-08-21T06:48:08.886191Z"
    },
    "papermill": {
     "duration": 0.048823,
     "end_time": "2020-08-21T06:48:08.887019",
     "exception": false,
     "start_time": "2020-08-21T06:48:08.838196",
     "status": "completed"
    },
    "tags": []
   },
   "outputs": [],
   "source": [
    "#more males carry credit card as compare to females"
   ]
  },
  {
   "cell_type": "code",
   "execution_count": 16,
   "metadata": {
    "execution": {
     "iopub.execute_input": "2020-08-21T06:48:08.996976Z",
     "iopub.status.busy": "2020-08-21T06:48:08.987242Z",
     "iopub.status.idle": "2020-08-21T06:48:23.628008Z",
     "shell.execute_reply": "2020-08-21T06:48:23.627213Z"
    },
    "papermill": {
     "duration": 14.701571,
     "end_time": "2020-08-21T06:48:23.628140",
     "exception": false,
     "start_time": "2020-08-21T06:48:08.926569",
     "status": "completed"
    },
    "tags": []
   },
   "outputs": [
    {
     "data": {
      "text/plain": [
       "<matplotlib.axes._subplots.AxesSubplot at 0x7f89d6a5e510>"
      ]
     },
     "execution_count": 16,
     "metadata": {},
     "output_type": "execute_result"
    },
    {
     "data": {
      "image/png": "[encoded data removed]",
      "text/plain": [
       "<Figure size 432x288 with 1 Axes>"
      ]
     },
     "metadata": {
      "needs_background": "light"
     },
     "output_type": "display_data"
    }
   ],
   "source": [
    "sns.lineplot(x=df['CreditScore'],y=df['EstimatedSalary'],data=df)"
   ]
  },
  {
   "cell_type": "code",
   "execution_count": 17,
   "metadata": {
    "execution": {
     "iopub.execute_input": "2020-08-21T06:48:23.725582Z",
     "iopub.status.busy": "2020-08-21T06:48:23.724648Z",
     "iopub.status.idle": "2020-08-21T06:48:23.941916Z",
     "shell.execute_reply": "2020-08-21T06:48:23.941103Z"
    },
    "papermill": {
     "duration": 0.271013,
     "end_time": "2020-08-21T06:48:23.942063",
     "exception": false,
     "start_time": "2020-08-21T06:48:23.671050",
     "status": "completed"
    },
    "tags": []
   },
   "outputs": [
    {
     "data": {
      "text/plain": [
       "<matplotlib.axes._subplots.AxesSubplot at 0x7f89d6c11890>"
      ]
     },
     "execution_count": 17,
     "metadata": {},
     "output_type": "execute_result"
    },
    {
     "data": {
      "image/png": "[encoded data removed]",
      "text/plain": [
       "<Figure size 432x288 with 1 Axes>"
      ]
     },
     "metadata": {
      "needs_background": "light"
     },
     "output_type": "display_data"
    }
   ],
   "source": [
    "sns.distplot(df['EstimatedSalary'])"
   ]
  },
  {
   "cell_type": "code",
   "execution_count": 18,
   "metadata": {
    "execution": {
     "iopub.execute_input": "2020-08-21T06:48:24.038374Z",
     "iopub.status.busy": "2020-08-21T06:48:24.037543Z",
     "iopub.status.idle": "2020-08-21T06:48:24.041485Z",
     "shell.execute_reply": "2020-08-21T06:48:24.042040Z"
    },
    "papermill": {
     "duration": 0.056164,
     "end_time": "2020-08-21T06:48:24.042220",
     "exception": false,
     "start_time": "2020-08-21T06:48:23.986056",
     "status": "completed"
    },
    "tags": []
   },
   "outputs": [],
   "source": [
    "#next step is model building\n",
    "#drop the unnecessary columns'\n",
    "df=df.drop(['RowNumber','CustomerId','Surname'],axis=1)"
   ]
  },
  {
   "cell_type": "code",
   "execution_count": 19,
   "metadata": {
    "execution": {
     "iopub.execute_input": "2020-08-21T06:48:24.138704Z",
     "iopub.status.busy": "2020-08-21T06:48:24.137736Z",
     "iopub.status.idle": "2020-08-21T06:48:24.230706Z",
     "shell.execute_reply": "2020-08-21T06:48:24.229857Z"
    },
    "papermill": {
     "duration": 0.14477,
     "end_time": "2020-08-21T06:48:24.230853",
     "exception": false,
     "start_time": "2020-08-21T06:48:24.086083",
     "status": "completed"
    },
    "tags": []
   },
   "outputs": [],
   "source": [
    "from sklearn.preprocessing import LabelEncoder\n",
    "le=LabelEncoder()\n",
    "for i in list(df.columns):\n",
    "    if df[i].dtype=='object':\n",
    "        df[i]=le.fit_transform(df[i])"
   ]
  },
  {
   "cell_type": "code",
   "execution_count": 20,
   "metadata": {
    "execution": {
     "iopub.execute_input": "2020-08-21T06:48:24.325676Z",
     "iopub.status.busy": "2020-08-21T06:48:24.324848Z",
     "iopub.status.idle": "2020-08-21T06:48:24.330253Z",
     "shell.execute_reply": "2020-08-21T06:48:24.330869Z"
    },
    "papermill": {
     "duration": 0.05604,
     "end_time": "2020-08-21T06:48:24.331046",
     "exception": false,
     "start_time": "2020-08-21T06:48:24.275006",
     "status": "completed"
    },
    "tags": []
   },
   "outputs": [],
   "source": [
    "y=df['Exited']\n",
    "x=df.drop(['Exited'],axis=1)"
   ]
  },
  {
   "cell_type": "code",
   "execution_count": 21,
   "metadata": {
    "execution": {
     "iopub.execute_input": "2020-08-21T06:48:24.425968Z",
     "iopub.status.busy": "2020-08-21T06:48:24.425172Z",
     "iopub.status.idle": "2020-08-21T06:48:24.497322Z",
     "shell.execute_reply": "2020-08-21T06:48:24.496608Z"
    },
    "papermill": {
     "duration": 0.122403,
     "end_time": "2020-08-21T06:48:24.497487",
     "exception": false,
     "start_time": "2020-08-21T06:48:24.375084",
     "status": "completed"
    },
    "tags": []
   },
   "outputs": [],
   "source": [
    "from sklearn.model_selection import train_test_split\n",
    "x_train,x_test,y_train,y_test=train_test_split(x,y,random_state=0,test_size=0.2)"
   ]
  },
  {
   "cell_type": "code",
   "execution_count": 22,
   "metadata": {
    "execution": {
     "iopub.execute_input": "2020-08-21T06:48:24.593202Z",
     "iopub.status.busy": "2020-08-21T06:48:24.592399Z",
     "iopub.status.idle": "2020-08-21T06:48:24.776554Z",
     "shell.execute_reply": "2020-08-21T06:48:24.775561Z"
    },
    "papermill": {
     "duration": 0.235308,
     "end_time": "2020-08-21T06:48:24.776715",
     "exception": false,
     "start_time": "2020-08-21T06:48:24.541407",
     "status": "completed"
    },
    "tags": []
   },
   "outputs": [],
   "source": [
    "from sklearn.linear_model import LogisticRegression\n",
    "from sklearn.metrics import accuracy_score\n",
    "list_scores=[]\n",
    "lr=LogisticRegression(max_iter=10000)\n",
    "lr.fit(x_train,y_train)\n",
    "pred_1=lr.predict(x_test)\n",
    "score_1=accuracy_score(y_test,pred_1)\n",
    "list_scores.append(score_1)"
   ]
  },
  {
   "cell_type": "code",
   "execution_count": 23,
   "metadata": {
    "execution": {
     "iopub.execute_input": "2020-08-21T06:48:24.875850Z",
     "iopub.status.busy": "2020-08-21T06:48:24.874665Z",
     "iopub.status.idle": "2020-08-21T06:48:24.879101Z",
     "shell.execute_reply": "2020-08-21T06:48:24.879717Z"
    },
    "papermill": {
     "duration": 0.055815,
     "end_time": "2020-08-21T06:48:24.879896",
     "exception": false,
     "start_time": "2020-08-21T06:48:24.824081",
     "status": "completed"
    },
    "tags": []
   },
   "outputs": [
    {
     "data": {
      "text/plain": [
       "0.789"
      ]
     },
     "execution_count": 23,
     "metadata": {},
     "output_type": "execute_result"
    }
   ],
   "source": [
    "score_1"
   ]
  },
  {
   "cell_type": "code",
   "execution_count": 24,
   "metadata": {
    "execution": {
     "iopub.execute_input": "2020-08-21T06:48:24.978265Z",
     "iopub.status.busy": "2020-08-21T06:48:24.977454Z",
     "iopub.status.idle": "2020-08-21T06:48:26.556946Z",
     "shell.execute_reply": "2020-08-21T06:48:26.556264Z"
    },
    "papermill": {
     "duration": 1.632244,
     "end_time": "2020-08-21T06:48:26.557088",
     "exception": false,
     "start_time": "2020-08-21T06:48:24.924844",
     "status": "completed"
    },
    "tags": []
   },
   "outputs": [],
   "source": [
    "from sklearn.ensemble import RandomForestClassifier\n",
    "rfr=RandomForestClassifier()\n",
    "rfr.fit(x_train,y_train)\n",
    "pred_2=rfr.predict(x_test)\n",
    "score_2=accuracy_score(y_test,pred_2)\n",
    "list_scores.append(score_2)"
   ]
  },
  {
   "cell_type": "code",
   "execution_count": 25,
   "metadata": {
    "execution": {
     "iopub.execute_input": "2020-08-21T06:48:26.654700Z",
     "iopub.status.busy": "2020-08-21T06:48:26.653740Z",
     "iopub.status.idle": "2020-08-21T06:48:26.658434Z",
     "shell.execute_reply": "2020-08-21T06:48:26.657638Z"
    },
    "papermill": {
     "duration": 0.055888,
     "end_time": "2020-08-21T06:48:26.658577",
     "exception": false,
     "start_time": "2020-08-21T06:48:26.602689",
     "status": "completed"
    },
    "tags": []
   },
   "outputs": [
    {
     "data": {
      "text/plain": [
       "0.862"
      ]
     },
     "execution_count": 25,
     "metadata": {},
     "output_type": "execute_result"
    }
   ],
   "source": [
    "score_2"
   ]
  },
  {
   "cell_type": "code",
   "execution_count": 26,
   "metadata": {
    "execution": {
     "iopub.execute_input": "2020-08-21T06:48:26.761134Z",
     "iopub.status.busy": "2020-08-21T06:48:26.760273Z",
     "iopub.status.idle": "2020-08-21T06:48:29.042501Z",
     "shell.execute_reply": "2020-08-21T06:48:29.041620Z"
    },
    "papermill": {
     "duration": 2.338032,
     "end_time": "2020-08-21T06:48:29.042647",
     "exception": false,
     "start_time": "2020-08-21T06:48:26.704615",
     "status": "completed"
    },
    "tags": []
   },
   "outputs": [],
   "source": [
    "from sklearn.neighbors import KNeighborsClassifier\n",
    "list_1=[]\n",
    "for i in range(1,21):\n",
    "    knn=KNeighborsClassifier(n_neighbors=i)\n",
    "    knn.fit(x_train,y_train)\n",
    "    preds=knn.predict(x_test)\n",
    "    scores=accuracy_score(y_test,preds)\n",
    "    list_1.append(scores)"
   ]
  },
  {
   "cell_type": "code",
   "execution_count": 27,
   "metadata": {
    "execution": {
     "iopub.execute_input": "2020-08-21T06:48:29.153423Z",
     "iopub.status.busy": "2020-08-21T06:48:29.147680Z",
     "iopub.status.idle": "2020-08-21T06:48:29.499050Z",
     "shell.execute_reply": "2020-08-21T06:48:29.498406Z"
    },
    "papermill": {
     "duration": 0.410192,
     "end_time": "2020-08-21T06:48:29.499177",
     "exception": false,
     "start_time": "2020-08-21T06:48:29.088985",
     "status": "completed"
    },
    "tags": []
   },
   "outputs": [
    {
     "data": {
      "text/plain": [
       "<matplotlib.axes._subplots.AxesSubplot at 0x7f89d00f87d0>"
      ]
     },
     "execution_count": 27,
     "metadata": {},
     "output_type": "execute_result"
    },
    {
     "data": {
      "image/png": "[encoded data removed]",
      "text/plain": [
       "<Figure size 432x288 with 1 Axes>"
      ]
     },
     "metadata": {},
     "output_type": "display_data"
    }
   ],
   "source": [
    "list_scores.append(max(list_1))\n",
    "sns.set_style('whitegrid')\n",
    "sns.lineplot(x=list(range(1,21)),y=list_1)"
   ]
  },
  {
   "cell_type": "code",
   "execution_count": 28,
   "metadata": {
    "execution": {
     "iopub.execute_input": "2020-08-21T06:48:29.601480Z",
     "iopub.status.busy": "2020-08-21T06:48:29.600442Z",
     "iopub.status.idle": "2020-08-21T06:48:29.604165Z",
     "shell.execute_reply": "2020-08-21T06:48:29.604962Z"
    },
    "papermill": {
     "duration": 0.058096,
     "end_time": "2020-08-21T06:48:29.605188",
     "exception": false,
     "start_time": "2020-08-21T06:48:29.547092",
     "status": "completed"
    },
    "tags": []
   },
   "outputs": [
    {
     "name": "stdout",
     "output_type": "stream",
     "text": [
      "0.797\n"
     ]
    }
   ],
   "source": [
    "print(max(list_1))"
   ]
  },
  {
   "cell_type": "code",
   "execution_count": 29,
   "metadata": {
    "execution": {
     "iopub.execute_input": "2020-08-21T06:48:29.713178Z",
     "iopub.status.busy": "2020-08-21T06:48:29.711986Z",
     "iopub.status.idle": "2020-08-21T06:48:30.962914Z",
     "shell.execute_reply": "2020-08-21T06:48:30.962216Z"
    },
    "papermill": {
     "duration": 1.308969,
     "end_time": "2020-08-21T06:48:30.963063",
     "exception": false,
     "start_time": "2020-08-21T06:48:29.654094",
     "status": "completed"
    },
    "tags": []
   },
   "outputs": [],
   "source": [
    "from sklearn.ensemble import GradientBoostingClassifier\n",
    "gbc=GradientBoostingClassifier()\n",
    "gbc.fit(x_train,y_train)\n",
    "pred_3=gbc.predict(x_test)\n",
    "score_3=accuracy_score(y_test,pred_3)\n",
    "list_scores.append(score_3)"
   ]
  },
  {
   "cell_type": "code",
   "execution_count": 30,
   "metadata": {
    "execution": {
     "iopub.execute_input": "2020-08-21T06:48:31.068208Z",
     "iopub.status.busy": "2020-08-21T06:48:31.067031Z",
     "iopub.status.idle": "2020-08-21T06:48:31.071769Z",
     "shell.execute_reply": "2020-08-21T06:48:31.070996Z"
    },
    "papermill": {
     "duration": 0.059595,
     "end_time": "2020-08-21T06:48:31.071910",
     "exception": false,
     "start_time": "2020-08-21T06:48:31.012315",
     "status": "completed"
    },
    "tags": []
   },
   "outputs": [
    {
     "data": {
      "text/plain": [
       "0.864"
      ]
     },
     "execution_count": 30,
     "metadata": {},
     "output_type": "execute_result"
    }
   ],
   "source": [
    "score_3"
   ]
  },
  {
   "cell_type": "code",
   "execution_count": 31,
   "metadata": {
    "execution": {
     "iopub.execute_input": "2020-08-21T06:48:31.181763Z",
     "iopub.status.busy": "2020-08-21T06:48:31.180702Z",
     "iopub.status.idle": "2020-08-21T06:48:32.958183Z",
     "shell.execute_reply": "2020-08-21T06:48:32.957539Z"
    },
    "papermill": {
     "duration": 1.837413,
     "end_time": "2020-08-21T06:48:32.958347",
     "exception": false,
     "start_time": "2020-08-21T06:48:31.120934",
     "status": "completed"
    },
    "tags": []
   },
   "outputs": [],
   "source": [
    "from sklearn.svm import SVC\n",
    "svm=SVC()\n",
    "svm.fit(x_train,y_train)\n",
    "pred_4=svm.predict(x_test)\n",
    "score_4=accuracy_score(y_test,pred_4)\n",
    "list_scores.append(score_4)"
   ]
  },
  {
   "cell_type": "code",
   "execution_count": 32,
   "metadata": {
    "execution": {
     "iopub.execute_input": "2020-08-21T06:48:33.064326Z",
     "iopub.status.busy": "2020-08-21T06:48:33.063155Z",
     "iopub.status.idle": "2020-08-21T06:48:33.068621Z",
     "shell.execute_reply": "2020-08-21T06:48:33.067786Z"
    },
    "papermill": {
     "duration": 0.061178,
     "end_time": "2020-08-21T06:48:33.068754",
     "exception": false,
     "start_time": "2020-08-21T06:48:33.007576",
     "status": "completed"
    },
    "tags": []
   },
   "outputs": [
    {
     "data": {
      "text/plain": [
       "0.7975"
      ]
     },
     "execution_count": 32,
     "metadata": {},
     "output_type": "execute_result"
    }
   ],
   "source": [
    "score_4"
   ]
  },
  {
   "cell_type": "code",
   "execution_count": 33,
   "metadata": {
    "execution": {
     "iopub.execute_input": "2020-08-21T06:48:33.177371Z",
     "iopub.status.busy": "2020-08-21T06:48:33.176570Z",
     "iopub.status.idle": "2020-08-21T06:48:34.591435Z",
     "shell.execute_reply": "2020-08-21T06:48:34.592152Z"
    },
    "papermill": {
     "duration": 1.473388,
     "end_time": "2020-08-21T06:48:34.592399",
     "exception": false,
     "start_time": "2020-08-21T06:48:33.119011",
     "status": "completed"
    },
    "tags": []
   },
   "outputs": [],
   "source": [
    "from xgboost import XGBClassifier\n",
    "xgb=XGBClassifier()\n",
    "xgb.fit(x_train,y_train)\n",
    "pred_5=xgb.predict(x_test)\n",
    "score_5=accuracy_score(y_test,pred_5)\n",
    "list_scores.append(score_5)"
   ]
  },
  {
   "cell_type": "code",
   "execution_count": 34,
   "metadata": {
    "execution": {
     "iopub.execute_input": "2020-08-21T06:48:34.724651Z",
     "iopub.status.busy": "2020-08-21T06:48:34.723713Z",
     "iopub.status.idle": "2020-08-21T06:48:34.727114Z",
     "shell.execute_reply": "2020-08-21T06:48:34.727970Z"
    },
    "papermill": {
     "duration": 0.073953,
     "end_time": "2020-08-21T06:48:34.728165",
     "exception": false,
     "start_time": "2020-08-21T06:48:34.654212",
     "status": "completed"
    },
    "tags": []
   },
   "outputs": [
    {
     "data": {
      "text/plain": [
       "0.8515"
      ]
     },
     "execution_count": 34,
     "metadata": {},
     "output_type": "execute_result"
    }
   ],
   "source": [
    "score_5"
   ]
  },
  {
   "cell_type": "code",
   "execution_count": 35,
   "metadata": {
    "execution": {
     "iopub.execute_input": "2020-08-21T06:48:34.844583Z",
     "iopub.status.busy": "2020-08-21T06:48:34.843749Z",
     "iopub.status.idle": "2020-08-21T06:48:34.848697Z",
     "shell.execute_reply": "2020-08-21T06:48:34.847954Z"
    },
    "papermill": {
     "duration": 0.061459,
     "end_time": "2020-08-21T06:48:34.848836",
     "exception": false,
     "start_time": "2020-08-21T06:48:34.787377",
     "status": "completed"
    },
    "tags": []
   },
   "outputs": [
    {
     "data": {
      "text/plain": [
       "[0.789, 0.862, 0.797, 0.864, 0.7975, 0.8515]"
      ]
     },
     "execution_count": 35,
     "metadata": {},
     "output_type": "execute_result"
    }
   ],
   "source": [
    "list_models=['logistic regression','randomforest classifier','kneighbors classifier','gradientboosting','svm','xgboost']\n",
    "list_scores\n"
   ]
  },
  {
   "cell_type": "code",
   "execution_count": 36,
   "metadata": {
    "execution": {
     "iopub.execute_input": "2020-08-21T06:48:34.968875Z",
     "iopub.status.busy": "2020-08-21T06:48:34.959933Z",
     "iopub.status.idle": "2020-08-21T06:48:35.176778Z",
     "shell.execute_reply": "2020-08-21T06:48:35.175980Z"
    },
    "papermill": {
     "duration": 0.276862,
     "end_time": "2020-08-21T06:48:35.176914",
     "exception": false,
     "start_time": "2020-08-21T06:48:34.900052",
     "status": "completed"
    },
    "tags": []
   },
   "outputs": [
    {
     "data": {
      "image/png": "[encoded data removed]",
      "text/plain": [
       "<Figure size 1440x360 with 1 Axes>"
      ]
     },
     "metadata": {},
     "output_type": "display_data"
    }
   ],
   "source": [
    "plt.figure(figsize=(20,5))\n",
    "plt.bar(list_models,list_scores,width=0.7)\n",
    "plt.xlabel('classifiers')\n",
    "plt.ylabel('accuracy scores')\n",
    "plt.show()"
   ]
  }
 ],
 "metadata": {
  "kernelspec": {
   "display_name": "Python 3",
   "language": "python",
   "name": "python3"
  },
  "language_info": {
   "codemirror_mode": {
    "name": "ipython",
    "version": 3
   },
   "file_extension": ".py",
   "mimetype": "text/x-python",
   "name": "python",
   "nbconvert_exporter": "python",
   "pygments_lexer": "ipython3",
   "version": "3.7.6"
  },
  "papermill": {
   "duration": 35.17116,
   "end_time": "2020-08-21T06:48:35.338108",
   "environment_variables": {},
   "exception": null,
   "input_path": "__notebook__.ipynb",
   "output_path": "__notebook__.ipynb",
   "parameters": {},
   "start_time": "2020-08-21T06:48:00.166948",
   "version": "2.1.0"
  }
 },
 "nbformat": 4,
 "nbformat_minor": 4
}
