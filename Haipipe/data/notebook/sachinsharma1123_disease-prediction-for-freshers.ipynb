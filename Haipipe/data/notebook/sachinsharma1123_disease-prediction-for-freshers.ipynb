{
 "cells": [
  {
   "cell_type": "code",
   "execution_count": 1,
   "metadata": {
    "_cell_guid": "b1076dfc-b9ad-4769-8c92-a6c4dae69d19",
    "_uuid": "8f2839f25d086af736a60e9eeb907d3b93b6e0e5",
    "execution": {
     "iopub.execute_input": "2020-08-23T07:28:31.661993Z",
     "iopub.status.busy": "2020-08-23T07:28:31.661263Z",
     "iopub.status.idle": "2020-08-23T07:28:31.669294Z",
     "shell.execute_reply": "2020-08-23T07:28:31.668754Z"
    },
    "papermill": {
     "duration": 0.043578,
     "end_time": "2020-08-23T07:28:31.669454",
     "exception": false,
     "start_time": "2020-08-23T07:28:31.625876",
     "status": "completed"
    },
    "tags": []
   },
   "outputs": [
    {
     "name": "stdout",
     "output_type": "stream",
     "text": [
      "/kaggle/input/heart-disease-prediction/Heart_Disease_Prediction.csv\n"
     ]
    }
   ],
   "source": [
    "# This Python 3 environment comes with many helpful analytics libraries installed\n",
    "# It is defined by the kaggle/python Docker image: https://github.com/kaggle/docker-python\n",
    "# For example, here's several helpful packages to load\n",
    "\n",
    "import numpy as np # linear algebra\n",
    "import pandas as pd # data processing, CSV file I/O (e.g. pd.read_csv)\n",
    "\n",
    "# Input data files are available in the read-only \"../input/\" directory\n",
    "# For example, running this (by clicking run or pressing Shift+Enter) will list all files under the input directory\n",
    "\n",
    "import os\n",
    "for dirname, _, filenames in os.walk('/kaggle/input'):\n",
    "    for filename in filenames:\n",
    "        print(os.path.join(dirname, filename))\n",
    "\n",
    "# You can write up to 5GB to the current directory (/kaggle/working/) that gets preserved as output when you create a version using \"Save & Run All\" \n",
    "# You can also write temporary files to /kaggle/temp/, but they won't be saved outside of the current session"
   ]
  },
  {
   "cell_type": "code",
   "execution_count": 2,
   "metadata": {
    "_cell_guid": "79c7e3d0-c299-4dcb-8224-4455121ee9b0",
    "_uuid": "d629ff2d2480ee46fbb7e2d37f6b5fab8052498a",
    "execution": {
     "iopub.execute_input": "2020-08-23T07:28:31.736010Z",
     "iopub.status.busy": "2020-08-23T07:28:31.735293Z",
     "iopub.status.idle": "2020-08-23T07:28:31.749663Z",
     "shell.execute_reply": "2020-08-23T07:28:31.748949Z"
    },
    "papermill": {
     "duration": 0.049785,
     "end_time": "2020-08-23T07:28:31.749793",
     "exception": false,
     "start_time": "2020-08-23T07:28:31.700008",
     "status": "completed"
    },
    "tags": []
   },
   "outputs": [],
   "source": [
    "df=pd.read_csv('/kaggle/input/heart-disease-prediction/Heart_Disease_Prediction.csv')"
   ]
  },
  {
   "cell_type": "code",
   "execution_count": 3,
   "metadata": {
    "execution": {
     "iopub.execute_input": "2020-08-23T07:28:31.830159Z",
     "iopub.status.busy": "2020-08-23T07:28:31.829253Z",
     "iopub.status.idle": "2020-08-23T07:28:31.843120Z",
     "shell.execute_reply": "2020-08-23T07:28:31.842501Z"
    },
    "papermill": {
     "duration": 0.065283,
     "end_time": "2020-08-23T07:28:31.843232",
     "exception": false,
     "start_time": "2020-08-23T07:28:31.777949",
     "status": "completed"
    },
    "tags": []
   },
   "outputs": [
    {
     "data": {
      "text/html": [
       "<div>\n",
       "<style scoped>\n",
       "    .dataframe tbody tr th:only-of-type {\n",
       "        vertical-align: middle;\n",
       "    }\n",
       "\n",
       "    .dataframe tbody tr th {\n",
       "        vertical-align: top;\n",
       "    }\n",
       "\n",
       "    .dataframe thead th {\n",
       "        text-align: right;\n",
       "    }\n",
       "</style>\n",
       "<table border=\"1\" class=\"dataframe\">\n",
       "  <thead>\n",
       "    <tr style=\"text-align: right;\">\n",
       "      <th></th>\n",
       "      <th>Age</th>\n",
       "      <th>Sex</th>\n",
       "      <th>Chest pain type</th>\n",
       "      <th>BP</th>\n",
       "      <th>Cholesterol</th>\n",
       "      <th>FBS over 120</th>\n",
       "      <th>EKG results</th>\n",
       "      <th>Max HR</th>\n",
       "      <th>Exercise angina</th>\n",
       "      <th>ST depression</th>\n",
       "      <th>Slope of ST</th>\n",
       "      <th>Number of vessels fluro</th>\n",
       "      <th>Thallium</th>\n",
       "      <th>Heart Disease</th>\n",
       "    </tr>\n",
       "  </thead>\n",
       "  <tbody>\n",
       "    <tr>\n",
       "      <th>0</th>\n",
       "      <td>70</td>\n",
       "      <td>1</td>\n",
       "      <td>4</td>\n",
       "      <td>130</td>\n",
       "      <td>322</td>\n",
       "      <td>0</td>\n",
       "      <td>2</td>\n",
       "      <td>109</td>\n",
       "      <td>0</td>\n",
       "      <td>2.4</td>\n",
       "      <td>2</td>\n",
       "      <td>3</td>\n",
       "      <td>3</td>\n",
       "      <td>Presence</td>\n",
       "    </tr>\n",
       "    <tr>\n",
       "      <th>1</th>\n",
       "      <td>67</td>\n",
       "      <td>0</td>\n",
       "      <td>3</td>\n",
       "      <td>115</td>\n",
       "      <td>564</td>\n",
       "      <td>0</td>\n",
       "      <td>2</td>\n",
       "      <td>160</td>\n",
       "      <td>0</td>\n",
       "      <td>1.6</td>\n",
       "      <td>2</td>\n",
       "      <td>0</td>\n",
       "      <td>7</td>\n",
       "      <td>Absence</td>\n",
       "    </tr>\n",
       "    <tr>\n",
       "      <th>2</th>\n",
       "      <td>57</td>\n",
       "      <td>1</td>\n",
       "      <td>2</td>\n",
       "      <td>124</td>\n",
       "      <td>261</td>\n",
       "      <td>0</td>\n",
       "      <td>0</td>\n",
       "      <td>141</td>\n",
       "      <td>0</td>\n",
       "      <td>0.3</td>\n",
       "      <td>1</td>\n",
       "      <td>0</td>\n",
       "      <td>7</td>\n",
       "      <td>Presence</td>\n",
       "    </tr>\n",
       "    <tr>\n",
       "      <th>3</th>\n",
       "      <td>64</td>\n",
       "      <td>1</td>\n",
       "      <td>4</td>\n",
       "      <td>128</td>\n",
       "      <td>263</td>\n",
       "      <td>0</td>\n",
       "      <td>0</td>\n",
       "      <td>105</td>\n",
       "      <td>1</td>\n",
       "      <td>0.2</td>\n",
       "      <td>2</td>\n",
       "      <td>1</td>\n",
       "      <td>7</td>\n",
       "      <td>Absence</td>\n",
       "    </tr>\n",
       "    <tr>\n",
       "      <th>4</th>\n",
       "      <td>74</td>\n",
       "      <td>0</td>\n",
       "      <td>2</td>\n",
       "      <td>120</td>\n",
       "      <td>269</td>\n",
       "      <td>0</td>\n",
       "      <td>2</td>\n",
       "      <td>121</td>\n",
       "      <td>1</td>\n",
       "      <td>0.2</td>\n",
       "      <td>1</td>\n",
       "      <td>1</td>\n",
       "      <td>3</td>\n",
       "      <td>Absence</td>\n",
       "    </tr>\n",
       "    <tr>\n",
       "      <th>...</th>\n",
       "      <td>...</td>\n",
       "      <td>...</td>\n",
       "      <td>...</td>\n",
       "      <td>...</td>\n",
       "      <td>...</td>\n",
       "      <td>...</td>\n",
       "      <td>...</td>\n",
       "      <td>...</td>\n",
       "      <td>...</td>\n",
       "      <td>...</td>\n",
       "      <td>...</td>\n",
       "      <td>...</td>\n",
       "      <td>...</td>\n",
       "      <td>...</td>\n",
       "    </tr>\n",
       "    <tr>\n",
       "      <th>265</th>\n",
       "      <td>52</td>\n",
       "      <td>1</td>\n",
       "      <td>3</td>\n",
       "      <td>172</td>\n",
       "      <td>199</td>\n",
       "      <td>1</td>\n",
       "      <td>0</td>\n",
       "      <td>162</td>\n",
       "      <td>0</td>\n",
       "      <td>0.5</td>\n",
       "      <td>1</td>\n",
       "      <td>0</td>\n",
       "      <td>7</td>\n",
       "      <td>Absence</td>\n",
       "    </tr>\n",
       "    <tr>\n",
       "      <th>266</th>\n",
       "      <td>44</td>\n",
       "      <td>1</td>\n",
       "      <td>2</td>\n",
       "      <td>120</td>\n",
       "      <td>263</td>\n",
       "      <td>0</td>\n",
       "      <td>0</td>\n",
       "      <td>173</td>\n",
       "      <td>0</td>\n",
       "      <td>0.0</td>\n",
       "      <td>1</td>\n",
       "      <td>0</td>\n",
       "      <td>7</td>\n",
       "      <td>Absence</td>\n",
       "    </tr>\n",
       "    <tr>\n",
       "      <th>267</th>\n",
       "      <td>56</td>\n",
       "      <td>0</td>\n",
       "      <td>2</td>\n",
       "      <td>140</td>\n",
       "      <td>294</td>\n",
       "      <td>0</td>\n",
       "      <td>2</td>\n",
       "      <td>153</td>\n",
       "      <td>0</td>\n",
       "      <td>1.3</td>\n",
       "      <td>2</td>\n",
       "      <td>0</td>\n",
       "      <td>3</td>\n",
       "      <td>Absence</td>\n",
       "    </tr>\n",
       "    <tr>\n",
       "      <th>268</th>\n",
       "      <td>57</td>\n",
       "      <td>1</td>\n",
       "      <td>4</td>\n",
       "      <td>140</td>\n",
       "      <td>192</td>\n",
       "      <td>0</td>\n",
       "      <td>0</td>\n",
       "      <td>148</td>\n",
       "      <td>0</td>\n",
       "      <td>0.4</td>\n",
       "      <td>2</td>\n",
       "      <td>0</td>\n",
       "      <td>6</td>\n",
       "      <td>Absence</td>\n",
       "    </tr>\n",
       "    <tr>\n",
       "      <th>269</th>\n",
       "      <td>67</td>\n",
       "      <td>1</td>\n",
       "      <td>4</td>\n",
       "      <td>160</td>\n",
       "      <td>286</td>\n",
       "      <td>0</td>\n",
       "      <td>2</td>\n",
       "      <td>108</td>\n",
       "      <td>1</td>\n",
       "      <td>1.5</td>\n",
       "      <td>2</td>\n",
       "      <td>3</td>\n",
       "      <td>3</td>\n",
       "      <td>Presence</td>\n",
       "    </tr>\n",
       "  </tbody>\n",
       "</table>\n",
       "<p>270 rows × 14 columns</p>\n",
       "</div>"
      ],
      "text/plain": [
       "     Age  Sex  Chest pain type   BP  Cholesterol  FBS over 120  EKG results  \\\n",
       "0     70    1                4  130          322             0            2   \n",
       "1     67    0                3  115          564             0            2   \n",
       "2     57    1                2  124          261             0            0   \n",
       "3     64    1                4  128          263             0            0   \n",
       "4     74    0                2  120          269             0            2   \n",
       "..   ...  ...              ...  ...          ...           ...          ...   \n",
       "265   52    1                3  172          199             1            0   \n",
       "266   44    1                2  120          263             0            0   \n",
       "267   56    0                2  140          294             0            2   \n",
       "268   57    1                4  140          192             0            0   \n",
       "269   67    1                4  160          286             0            2   \n",
       "\n",
       "     Max HR  Exercise angina  ST depression  Slope of ST  \\\n",
       "0       109                0            2.4            2   \n",
       "1       160                0            1.6            2   \n",
       "2       141                0            0.3            1   \n",
       "3       105                1            0.2            2   \n",
       "4       121                1            0.2            1   \n",
       "..      ...              ...            ...          ...   \n",
       "265     162                0            0.5            1   \n",
       "266     173                0            0.0            1   \n",
       "267     153                0            1.3            2   \n",
       "268     148                0            0.4            2   \n",
       "269     108                1            1.5            2   \n",
       "\n",
       "     Number of vessels fluro  Thallium Heart Disease  \n",
       "0                          3         3      Presence  \n",
       "1                          0         7       Absence  \n",
       "2                          0         7      Presence  \n",
       "3                          1         7       Absence  \n",
       "4                          1         3       Absence  \n",
       "..                       ...       ...           ...  \n",
       "265                        0         7       Absence  \n",
       "266                        0         7       Absence  \n",
       "267                        0         3       Absence  \n",
       "268                        0         6       Absence  \n",
       "269                        3         3      Presence  \n",
       "\n",
       "[270 rows x 14 columns]"
      ]
     },
     "execution_count": 3,
     "metadata": {},
     "output_type": "execute_result"
    }
   ],
   "source": [
    "df"
   ]
  },
  {
   "cell_type": "code",
   "execution_count": null,
   "metadata": {
    "papermill": {
     "duration": 0.0284,
     "end_time": "2020-08-23T07:28:31.900946",
     "exception": false,
     "start_time": "2020-08-23T07:28:31.872546",
     "status": "completed"
    },
    "tags": []
   },
   "outputs": [],
   "source": []
  },
  {
   "cell_type": "code",
   "execution_count": 4,
   "metadata": {
    "execution": {
     "iopub.execute_input": "2020-08-23T07:28:31.978122Z",
     "iopub.status.busy": "2020-08-23T07:28:31.977451Z",
     "iopub.status.idle": "2020-08-23T07:28:31.980230Z",
     "shell.execute_reply": "2020-08-23T07:28:31.980747Z"
    },
    "papermill": {
     "duration": 0.051234,
     "end_time": "2020-08-23T07:28:31.980900",
     "exception": false,
     "start_time": "2020-08-23T07:28:31.929666",
     "status": "completed"
    },
    "tags": []
   },
   "outputs": [
    {
     "name": "stdout",
     "output_type": "stream",
     "text": [
      "<class 'pandas.core.frame.DataFrame'>\n",
      "RangeIndex: 270 entries, 0 to 269\n",
      "Data columns (total 14 columns):\n",
      " #   Column                   Non-Null Count  Dtype  \n",
      "---  ------                   --------------  -----  \n",
      " 0   Age                      270 non-null    int64  \n",
      " 1   Sex                      270 non-null    int64  \n",
      " 2   Chest pain type          270 non-null    int64  \n",
      " 3   BP                       270 non-null    int64  \n",
      " 4   Cholesterol              270 non-null    int64  \n",
      " 5   FBS over 120             270 non-null    int64  \n",
      " 6   EKG results              270 non-null    int64  \n",
      " 7   Max HR                   270 non-null    int64  \n",
      " 8   Exercise angina          270 non-null    int64  \n",
      " 9   ST depression            270 non-null    float64\n",
      " 10  Slope of ST              270 non-null    int64  \n",
      " 11  Number of vessels fluro  270 non-null    int64  \n",
      " 12  Thallium                 270 non-null    int64  \n",
      " 13  Heart Disease            270 non-null    object \n",
      "dtypes: float64(1), int64(12), object(1)\n",
      "memory usage: 29.7+ KB\n"
     ]
    }
   ],
   "source": [
    "df.info()"
   ]
  },
  {
   "cell_type": "code",
   "execution_count": 5,
   "metadata": {
    "execution": {
     "iopub.execute_input": "2020-08-23T07:28:32.047887Z",
     "iopub.status.busy": "2020-08-23T07:28:32.047136Z",
     "iopub.status.idle": "2020-08-23T07:28:32.050757Z",
     "shell.execute_reply": "2020-08-23T07:28:32.051185Z"
    },
    "papermill": {
     "duration": 0.041137,
     "end_time": "2020-08-23T07:28:32.051334",
     "exception": false,
     "start_time": "2020-08-23T07:28:32.010197",
     "status": "completed"
    },
    "tags": []
   },
   "outputs": [
    {
     "data": {
      "text/plain": [
       "Age                        0\n",
       "Sex                        0\n",
       "Chest pain type            0\n",
       "BP                         0\n",
       "Cholesterol                0\n",
       "FBS over 120               0\n",
       "EKG results                0\n",
       "Max HR                     0\n",
       "Exercise angina            0\n",
       "ST depression              0\n",
       "Slope of ST                0\n",
       "Number of vessels fluro    0\n",
       "Thallium                   0\n",
       "Heart Disease              0\n",
       "dtype: int64"
      ]
     },
     "execution_count": 5,
     "metadata": {},
     "output_type": "execute_result"
    }
   ],
   "source": [
    "df.isnull().sum()"
   ]
  },
  {
   "cell_type": "code",
   "execution_count": 6,
   "metadata": {
    "execution": {
     "iopub.execute_input": "2020-08-23T07:28:32.116293Z",
     "iopub.status.busy": "2020-08-23T07:28:32.115317Z",
     "iopub.status.idle": "2020-08-23T07:28:33.129702Z",
     "shell.execute_reply": "2020-08-23T07:28:33.128948Z"
    },
    "papermill": {
     "duration": 1.048882,
     "end_time": "2020-08-23T07:28:33.129827",
     "exception": false,
     "start_time": "2020-08-23T07:28:32.080945",
     "status": "completed"
    },
    "tags": []
   },
   "outputs": [],
   "source": [
    "import seaborn as sns\n",
    "import matplotlib.pyplot as plt"
   ]
  },
  {
   "cell_type": "code",
   "execution_count": 7,
   "metadata": {
    "execution": {
     "iopub.execute_input": "2020-08-23T07:28:33.194311Z",
     "iopub.status.busy": "2020-08-23T07:28:33.193670Z",
     "iopub.status.idle": "2020-08-23T07:28:33.198393Z",
     "shell.execute_reply": "2020-08-23T07:28:33.197872Z"
    },
    "papermill": {
     "duration": 0.038808,
     "end_time": "2020-08-23T07:28:33.198545",
     "exception": false,
     "start_time": "2020-08-23T07:28:33.159737",
     "status": "completed"
    },
    "tags": []
   },
   "outputs": [],
   "source": [
    "#lets try to get some insight info from the dataset\n"
   ]
  },
  {
   "cell_type": "code",
   "execution_count": 8,
   "metadata": {
    "execution": {
     "iopub.execute_input": "2020-08-23T07:28:33.268242Z",
     "iopub.status.busy": "2020-08-23T07:28:33.267289Z",
     "iopub.status.idle": "2020-08-23T07:28:33.469942Z",
     "shell.execute_reply": "2020-08-23T07:28:33.469351Z"
    },
    "papermill": {
     "duration": 0.241313,
     "end_time": "2020-08-23T07:28:33.470060",
     "exception": false,
     "start_time": "2020-08-23T07:28:33.228747",
     "status": "completed"
    },
    "tags": []
   },
   "outputs": [
    {
     "data": {
      "text/plain": [
       "<matplotlib.axes._subplots.AxesSubplot at 0x7f5baebb2fd0>"
      ]
     },
     "execution_count": 8,
     "metadata": {},
     "output_type": "execute_result"
    },
    {
     "data": {
      "image/png": "[encoded data removed]",
      "text/plain": [
       "<Figure size 432x288 with 1 Axes>"
      ]
     },
     "metadata": {
      "needs_background": "light"
     },
     "output_type": "display_data"
    }
   ],
   "source": [
    "sns.countplot(x=df['Heart Disease'],hue='Sex',data=df)"
   ]
  },
  {
   "cell_type": "code",
   "execution_count": 9,
   "metadata": {
    "execution": {
     "iopub.execute_input": "2020-08-23T07:28:33.536942Z",
     "iopub.status.busy": "2020-08-23T07:28:33.536207Z",
     "iopub.status.idle": "2020-08-23T07:28:33.539261Z",
     "shell.execute_reply": "2020-08-23T07:28:33.538668Z"
    },
    "papermill": {
     "duration": 0.038246,
     "end_time": "2020-08-23T07:28:33.539370",
     "exception": false,
     "start_time": "2020-08-23T07:28:33.501124",
     "status": "completed"
    },
    "tags": []
   },
   "outputs": [],
   "source": [
    "#here males are more prone to heart diseases as compare to women"
   ]
  },
  {
   "cell_type": "code",
   "execution_count": 10,
   "metadata": {
    "execution": {
     "iopub.execute_input": "2020-08-23T07:28:33.621877Z",
     "iopub.status.busy": "2020-08-23T07:28:33.617909Z",
     "iopub.status.idle": "2020-08-23T07:28:33.755301Z",
     "shell.execute_reply": "2020-08-23T07:28:33.754630Z"
    },
    "papermill": {
     "duration": 0.185114,
     "end_time": "2020-08-23T07:28:33.755434",
     "exception": false,
     "start_time": "2020-08-23T07:28:33.570320",
     "status": "completed"
    },
    "tags": []
   },
   "outputs": [
    {
     "data": {
      "text/plain": [
       "<matplotlib.axes._subplots.AxesSubplot at 0x7f5bac927850>"
      ]
     },
     "execution_count": 10,
     "metadata": {},
     "output_type": "execute_result"
    },
    {
     "data": {
      "image/png": "[encoded data removed]",
      "text/plain": [
       "<Figure size 432x288 with 1 Axes>"
      ]
     },
     "metadata": {
      "needs_background": "light"
     },
     "output_type": "display_data"
    }
   ],
   "source": [
    "sns.countplot(x=df['Heart Disease'],hue='Chest pain type',data=df)"
   ]
  },
  {
   "cell_type": "code",
   "execution_count": 11,
   "metadata": {
    "execution": {
     "iopub.execute_input": "2020-08-23T07:28:33.824595Z",
     "iopub.status.busy": "2020-08-23T07:28:33.823890Z",
     "iopub.status.idle": "2020-08-23T07:28:33.826761Z",
     "shell.execute_reply": "2020-08-23T07:28:33.826088Z"
    },
    "papermill": {
     "duration": 0.038991,
     "end_time": "2020-08-23T07:28:33.826883",
     "exception": false,
     "start_time": "2020-08-23T07:28:33.787892",
     "status": "completed"
    },
    "tags": []
   },
   "outputs": [],
   "source": [
    "#here it seems that people who suffered from pain type 4 have more chances of heart disease"
   ]
  },
  {
   "cell_type": "code",
   "execution_count": 12,
   "metadata": {
    "execution": {
     "iopub.execute_input": "2020-08-23T07:28:33.906243Z",
     "iopub.status.busy": "2020-08-23T07:28:33.900883Z",
     "iopub.status.idle": "2020-08-23T07:28:34.042629Z",
     "shell.execute_reply": "2020-08-23T07:28:34.043181Z"
    },
    "papermill": {
     "duration": 0.184334,
     "end_time": "2020-08-23T07:28:34.043335",
     "exception": false,
     "start_time": "2020-08-23T07:28:33.859001",
     "status": "completed"
    },
    "tags": []
   },
   "outputs": [
    {
     "data": {
      "text/plain": [
       "<matplotlib.axes._subplots.AxesSubplot at 0x7f5bac9084d0>"
      ]
     },
     "execution_count": 12,
     "metadata": {},
     "output_type": "execute_result"
    },
    {
     "data": {
      "image/png": "[encoded data removed]",
      "text/plain": [
       "<Figure size 432x288 with 1 Axes>"
      ]
     },
     "metadata": {
      "needs_background": "light"
     },
     "output_type": "display_data"
    }
   ],
   "source": [
    "sns.countplot(x=df['Sex'],hue='Chest pain type',data=df)"
   ]
  },
  {
   "cell_type": "code",
   "execution_count": 13,
   "metadata": {
    "execution": {
     "iopub.execute_input": "2020-08-23T07:28:34.113906Z",
     "iopub.status.busy": "2020-08-23T07:28:34.113257Z",
     "iopub.status.idle": "2020-08-23T07:28:34.116185Z",
     "shell.execute_reply": "2020-08-23T07:28:34.115553Z"
    },
    "papermill": {
     "duration": 0.040133,
     "end_time": "2020-08-23T07:28:34.116299",
     "exception": false,
     "start_time": "2020-08-23T07:28:34.076166",
     "status": "completed"
    },
    "tags": []
   },
   "outputs": [],
   "source": [
    "# as we can see from here that more males suffers from chest pain type 4 which is dangerous"
   ]
  },
  {
   "cell_type": "code",
   "execution_count": 14,
   "metadata": {
    "execution": {
     "iopub.execute_input": "2020-08-23T07:28:34.197801Z",
     "iopub.status.busy": "2020-08-23T07:28:34.193115Z",
     "iopub.status.idle": "2020-08-23T07:28:34.360113Z",
     "shell.execute_reply": "2020-08-23T07:28:34.359463Z"
    },
    "papermill": {
     "duration": 0.209971,
     "end_time": "2020-08-23T07:28:34.360232",
     "exception": false,
     "start_time": "2020-08-23T07:28:34.150261",
     "status": "completed"
    },
    "tags": []
   },
   "outputs": [
    {
     "data": {
      "text/plain": [
       "<matplotlib.axes._subplots.AxesSubplot at 0x7f5bac822890>"
      ]
     },
     "execution_count": 14,
     "metadata": {},
     "output_type": "execute_result"
    },
    {
     "data": {
      "image/png": "[encoded data removed]",
      "text/plain": [
       "<Figure size 432x288 with 1 Axes>"
      ]
     },
     "metadata": {
      "needs_background": "light"
     },
     "output_type": "display_data"
    }
   ],
   "source": [
    "sns.barplot(x=df['Sex'],y=df['BP'],data=df)"
   ]
  },
  {
   "cell_type": "code",
   "execution_count": 15,
   "metadata": {
    "execution": {
     "iopub.execute_input": "2020-08-23T07:28:34.433932Z",
     "iopub.status.busy": "2020-08-23T07:28:34.433228Z",
     "iopub.status.idle": "2020-08-23T07:28:34.436283Z",
     "shell.execute_reply": "2020-08-23T07:28:34.436895Z"
    },
    "papermill": {
     "duration": 0.041874,
     "end_time": "2020-08-23T07:28:34.437049",
     "exception": false,
     "start_time": "2020-08-23T07:28:34.395175",
     "status": "completed"
    },
    "tags": []
   },
   "outputs": [],
   "source": [
    "#there bp rates are almost equal"
   ]
  },
  {
   "cell_type": "code",
   "execution_count": 16,
   "metadata": {
    "execution": {
     "iopub.execute_input": "2020-08-23T07:28:34.545707Z",
     "iopub.status.busy": "2020-08-23T07:28:34.523051Z",
     "iopub.status.idle": "2020-08-23T07:28:34.684893Z",
     "shell.execute_reply": "2020-08-23T07:28:34.685424Z"
    },
    "papermill": {
     "duration": 0.214411,
     "end_time": "2020-08-23T07:28:34.685591",
     "exception": false,
     "start_time": "2020-08-23T07:28:34.471180",
     "status": "completed"
    },
    "tags": []
   },
   "outputs": [
    {
     "data": {
      "text/plain": [
       "<matplotlib.axes._subplots.AxesSubplot at 0x7f5bac822cd0>"
      ]
     },
     "execution_count": 16,
     "metadata": {},
     "output_type": "execute_result"
    },
    {
     "data": {
      "image/png": "[encoded data removed]",
      "text/plain": [
       "<Figure size 432x288 with 1 Axes>"
      ]
     },
     "metadata": {
      "needs_background": "light"
     },
     "output_type": "display_data"
    }
   ],
   "source": [
    "sns.barplot(x=df['Sex'],y=df['Cholesterol'],data=df)"
   ]
  },
  {
   "cell_type": "code",
   "execution_count": 17,
   "metadata": {
    "execution": {
     "iopub.execute_input": "2020-08-23T07:28:34.761310Z",
     "iopub.status.busy": "2020-08-23T07:28:34.760278Z",
     "iopub.status.idle": "2020-08-23T07:28:34.763507Z",
     "shell.execute_reply": "2020-08-23T07:28:34.762828Z"
    },
    "papermill": {
     "duration": 0.042763,
     "end_time": "2020-08-23T07:28:34.763636",
     "exception": false,
     "start_time": "2020-08-23T07:28:34.720873",
     "status": "completed"
    },
    "tags": []
   },
   "outputs": [],
   "source": [
    "#females have little bit of higher cholesterol than males"
   ]
  },
  {
   "cell_type": "code",
   "execution_count": 18,
   "metadata": {
    "execution": {
     "iopub.execute_input": "2020-08-23T07:28:34.848266Z",
     "iopub.status.busy": "2020-08-23T07:28:34.847296Z",
     "iopub.status.idle": "2020-08-23T07:28:35.004025Z",
     "shell.execute_reply": "2020-08-23T07:28:35.003470Z"
    },
    "papermill": {
     "duration": 0.204387,
     "end_time": "2020-08-23T07:28:35.004142",
     "exception": false,
     "start_time": "2020-08-23T07:28:34.799755",
     "status": "completed"
    },
    "tags": []
   },
   "outputs": [
    {
     "data": {
      "text/plain": [
       "<matplotlib.axes._subplots.AxesSubplot at 0x7f5bac770a10>"
      ]
     },
     "execution_count": 18,
     "metadata": {},
     "output_type": "execute_result"
    },
    {
     "data": {
      "image/png": "[encoded data removed]",
      "text/plain": [
       "<Figure size 432x288 with 1 Axes>"
      ]
     },
     "metadata": {
      "needs_background": "light"
     },
     "output_type": "display_data"
    }
   ],
   "source": [
    "sns.barplot(x=df['Heart Disease'],y=df['Cholesterol'],data=df)"
   ]
  },
  {
   "cell_type": "code",
   "execution_count": 19,
   "metadata": {
    "execution": {
     "iopub.execute_input": "2020-08-23T07:28:35.081903Z",
     "iopub.status.busy": "2020-08-23T07:28:35.081180Z",
     "iopub.status.idle": "2020-08-23T07:28:35.084206Z",
     "shell.execute_reply": "2020-08-23T07:28:35.083590Z"
    },
    "papermill": {
     "duration": 0.043676,
     "end_time": "2020-08-23T07:28:35.084319",
     "exception": false,
     "start_time": "2020-08-23T07:28:35.040643",
     "status": "completed"
    },
    "tags": []
   },
   "outputs": [],
   "source": [
    "#here we can observe that higher cholesterol level results in chances of heart disease"
   ]
  },
  {
   "cell_type": "code",
   "execution_count": 20,
   "metadata": {
    "execution": {
     "iopub.execute_input": "2020-08-23T07:28:35.179892Z",
     "iopub.status.busy": "2020-08-23T07:28:35.176002Z",
     "iopub.status.idle": "2020-08-23T07:28:35.417990Z",
     "shell.execute_reply": "2020-08-23T07:28:35.417432Z"
    },
    "papermill": {
     "duration": 0.297392,
     "end_time": "2020-08-23T07:28:35.418132",
     "exception": false,
     "start_time": "2020-08-23T07:28:35.120740",
     "status": "completed"
    },
    "tags": []
   },
   "outputs": [
    {
     "data": {
      "text/plain": [
       "<matplotlib.axes._subplots.AxesSubplot at 0x7f5bac7553d0>"
      ]
     },
     "execution_count": 20,
     "metadata": {},
     "output_type": "execute_result"
    },
    {
     "data": {
      "image/png": "[encoded data removed]",
      "text/plain": [
       "<Figure size 432x288 with 1 Axes>"
      ]
     },
     "metadata": {
      "needs_background": "light"
     },
     "output_type": "display_data"
    }
   ],
   "source": [
    "sns.barplot(x=df['Heart Disease'],y=df['BP'],data=df)"
   ]
  },
  {
   "cell_type": "code",
   "execution_count": 21,
   "metadata": {
    "execution": {
     "iopub.execute_input": "2020-08-23T07:28:35.498164Z",
     "iopub.status.busy": "2020-08-23T07:28:35.497220Z",
     "iopub.status.idle": "2020-08-23T07:28:35.500568Z",
     "shell.execute_reply": "2020-08-23T07:28:35.499912Z"
    },
    "papermill": {
     "duration": 0.044908,
     "end_time": "2020-08-23T07:28:35.500689",
     "exception": false,
     "start_time": "2020-08-23T07:28:35.455781",
     "status": "completed"
    },
    "tags": []
   },
   "outputs": [],
   "source": [
    "#similary here too,high bp results in more chances of disease\n"
   ]
  },
  {
   "cell_type": "code",
   "execution_count": 22,
   "metadata": {
    "execution": {
     "iopub.execute_input": "2020-08-23T07:28:35.591320Z",
     "iopub.status.busy": "2020-08-23T07:28:35.590672Z",
     "iopub.status.idle": "2020-08-23T07:28:36.549971Z",
     "shell.execute_reply": "2020-08-23T07:28:36.549313Z"
    },
    "papermill": {
     "duration": 1.011836,
     "end_time": "2020-08-23T07:28:36.550110",
     "exception": false,
     "start_time": "2020-08-23T07:28:35.538274",
     "status": "completed"
    },
    "tags": []
   },
   "outputs": [
    {
     "data": {
      "text/plain": [
       "<matplotlib.axes._subplots.AxesSubplot at 0x7f5bac915210>"
      ]
     },
     "execution_count": 22,
     "metadata": {},
     "output_type": "execute_result"
    },
    {
     "data": {
      "image/png": "[encoded data removed]",
      "text/plain": [
       "<Figure size 432x288 with 1 Axes>"
      ]
     },
     "metadata": {
      "needs_background": "light"
     },
     "output_type": "display_data"
    }
   ],
   "source": [
    "sns.lineplot(x=df['Age'],y=df['BP'],data=df)"
   ]
  },
  {
   "cell_type": "code",
   "execution_count": 23,
   "metadata": {
    "execution": {
     "iopub.execute_input": "2020-08-23T07:28:36.634101Z",
     "iopub.status.busy": "2020-08-23T07:28:36.633205Z",
     "iopub.status.idle": "2020-08-23T07:28:36.636227Z",
     "shell.execute_reply": "2020-08-23T07:28:36.635735Z"
    },
    "papermill": {
     "duration": 0.047058,
     "end_time": "2020-08-23T07:28:36.636350",
     "exception": false,
     "start_time": "2020-08-23T07:28:36.589292",
     "status": "completed"
    },
    "tags": []
   },
   "outputs": [],
   "source": [
    "#here we can observe that bp increases at the age of 50-60"
   ]
  },
  {
   "cell_type": "code",
   "execution_count": 24,
   "metadata": {
    "execution": {
     "iopub.execute_input": "2020-08-23T07:28:36.725209Z",
     "iopub.status.busy": "2020-08-23T07:28:36.723778Z",
     "iopub.status.idle": "2020-08-23T07:28:37.749277Z",
     "shell.execute_reply": "2020-08-23T07:28:37.748614Z"
    },
    "papermill": {
     "duration": 1.073584,
     "end_time": "2020-08-23T07:28:37.749399",
     "exception": false,
     "start_time": "2020-08-23T07:28:36.675815",
     "status": "completed"
    },
    "tags": []
   },
   "outputs": [
    {
     "data": {
      "text/plain": [
       "<matplotlib.axes._subplots.AxesSubplot at 0x7f5bac625390>"
      ]
     },
     "execution_count": 24,
     "metadata": {},
     "output_type": "execute_result"
    },
    {
     "data": {
      "image/png": "[encoded data removed]",
      "text/plain": [
       "<Figure size 432x288 with 1 Axes>"
      ]
     },
     "metadata": {
      "needs_background": "light"
     },
     "output_type": "display_data"
    }
   ],
   "source": [
    "sns.lineplot(x=df['Age'],y=df['Cholesterol'],data=df)"
   ]
  },
  {
   "cell_type": "code",
   "execution_count": 25,
   "metadata": {
    "execution": {
     "iopub.execute_input": "2020-08-23T07:28:37.837674Z",
     "iopub.status.busy": "2020-08-23T07:28:37.836991Z",
     "iopub.status.idle": "2020-08-23T07:28:37.839693Z",
     "shell.execute_reply": "2020-08-23T07:28:37.839132Z"
    },
    "papermill": {
     "duration": 0.047693,
     "end_time": "2020-08-23T07:28:37.839820",
     "exception": false,
     "start_time": "2020-08-23T07:28:37.792127",
     "status": "completed"
    },
    "tags": []
   },
   "outputs": [],
   "source": [
    "#similarly here the cholesterol level increases at the age group of 50-65"
   ]
  },
  {
   "cell_type": "code",
   "execution_count": 26,
   "metadata": {
    "execution": {
     "iopub.execute_input": "2020-08-23T07:28:37.936358Z",
     "iopub.status.busy": "2020-08-23T07:28:37.935644Z",
     "iopub.status.idle": "2020-08-23T07:28:38.898082Z",
     "shell.execute_reply": "2020-08-23T07:28:38.897333Z"
    },
    "papermill": {
     "duration": 1.018029,
     "end_time": "2020-08-23T07:28:38.898208",
     "exception": false,
     "start_time": "2020-08-23T07:28:37.880179",
     "status": "completed"
    },
    "tags": []
   },
   "outputs": [
    {
     "data": {
      "text/plain": [
       "<matplotlib.axes._subplots.AxesSubplot at 0x7f5bac6113d0>"
      ]
     },
     "execution_count": 26,
     "metadata": {},
     "output_type": "execute_result"
    },
    {
     "data": {
      "image/png": "[encoded data removed]",
      "text/plain": [
       "<Figure size 432x288 with 1 Axes>"
      ]
     },
     "metadata": {
      "needs_background": "light"
     },
     "output_type": "display_data"
    }
   ],
   "source": [
    "sns.lineplot(x=df['Age'],y=df['ST depression'],data=df)"
   ]
  },
  {
   "cell_type": "code",
   "execution_count": 27,
   "metadata": {
    "execution": {
     "iopub.execute_input": "2020-08-23T07:28:38.990156Z",
     "iopub.status.busy": "2020-08-23T07:28:38.989272Z",
     "iopub.status.idle": "2020-08-23T07:28:38.991930Z",
     "shell.execute_reply": "2020-08-23T07:28:38.992581Z"
    },
    "papermill": {
     "duration": 0.052183,
     "end_time": "2020-08-23T07:28:38.992770",
     "exception": false,
     "start_time": "2020-08-23T07:28:38.940587",
     "status": "completed"
    },
    "tags": []
   },
   "outputs": [],
   "source": [
    "#we can observe from here that depression mostly increases bw the age group of 30-40"
   ]
  },
  {
   "cell_type": "code",
   "execution_count": 28,
   "metadata": {
    "execution": {
     "iopub.execute_input": "2020-08-23T07:28:39.097018Z",
     "iopub.status.busy": "2020-08-23T07:28:39.095983Z",
     "iopub.status.idle": "2020-08-23T07:28:39.250807Z",
     "shell.execute_reply": "2020-08-23T07:28:39.250257Z"
    },
    "papermill": {
     "duration": 0.209237,
     "end_time": "2020-08-23T07:28:39.250932",
     "exception": false,
     "start_time": "2020-08-23T07:28:39.041695",
     "status": "completed"
    },
    "tags": []
   },
   "outputs": [
    {
     "data": {
      "text/plain": [
       "<matplotlib.axes._subplots.AxesSubplot at 0x7f5bac57f510>"
      ]
     },
     "execution_count": 28,
     "metadata": {},
     "output_type": "execute_result"
    },
    {
     "data": {
      "image/png": "[encoded data removed]",
      "text/plain": [
       "<Figure size 432x288 with 1 Axes>"
      ]
     },
     "metadata": {
      "needs_background": "light"
     },
     "output_type": "display_data"
    }
   ],
   "source": [
    "sns.barplot(x=df['Sex'],y=df['ST depression'],data=df)"
   ]
  },
  {
   "cell_type": "code",
   "execution_count": 29,
   "metadata": {
    "execution": {
     "iopub.execute_input": "2020-08-23T07:28:39.344326Z",
     "iopub.status.busy": "2020-08-23T07:28:39.343500Z",
     "iopub.status.idle": "2020-08-23T07:28:39.346727Z",
     "shell.execute_reply": "2020-08-23T07:28:39.346058Z"
    },
    "papermill": {
     "duration": 0.052196,
     "end_time": "2020-08-23T07:28:39.346851",
     "exception": false,
     "start_time": "2020-08-23T07:28:39.294655",
     "status": "completed"
    },
    "tags": []
   },
   "outputs": [],
   "source": [
    "#more males are prone to depression as compare to females"
   ]
  },
  {
   "cell_type": "code",
   "execution_count": 30,
   "metadata": {
    "execution": {
     "iopub.execute_input": "2020-08-23T07:28:39.446987Z",
     "iopub.status.busy": "2020-08-23T07:28:39.441519Z",
     "iopub.status.idle": "2020-08-23T07:28:39.609316Z",
     "shell.execute_reply": "2020-08-23T07:28:39.608653Z"
    },
    "papermill": {
     "duration": 0.219515,
     "end_time": "2020-08-23T07:28:39.609464",
     "exception": false,
     "start_time": "2020-08-23T07:28:39.389949",
     "status": "completed"
    },
    "tags": []
   },
   "outputs": [
    {
     "data": {
      "text/plain": [
       "<matplotlib.axes._subplots.AxesSubplot at 0x7f5bac4e07d0>"
      ]
     },
     "execution_count": 30,
     "metadata": {},
     "output_type": "execute_result"
    },
    {
     "data": {
      "image/png": "[encoded data removed]",
      "text/plain": [
       "<Figure size 432x288 with 1 Axes>"
      ]
     },
     "metadata": {
      "needs_background": "light"
     },
     "output_type": "display_data"
    }
   ],
   "source": [
    "sns.barplot(x=df['Heart Disease'],y=df['Exercise angina'],data=df)"
   ]
  },
  {
   "cell_type": "code",
   "execution_count": 31,
   "metadata": {
    "execution": {
     "iopub.execute_input": "2020-08-23T07:28:39.702868Z",
     "iopub.status.busy": "2020-08-23T07:28:39.702003Z",
     "iopub.status.idle": "2020-08-23T07:28:39.704960Z",
     "shell.execute_reply": "2020-08-23T07:28:39.704368Z"
    },
    "papermill": {
     "duration": 0.051421,
     "end_time": "2020-08-23T07:28:39.705078",
     "exception": false,
     "start_time": "2020-08-23T07:28:39.653657",
     "status": "completed"
    },
    "tags": []
   },
   "outputs": [],
   "source": [
    "#person with high exercise angina has more chances of heart disease"
   ]
  },
  {
   "cell_type": "code",
   "execution_count": 32,
   "metadata": {
    "execution": {
     "iopub.execute_input": "2020-08-23T07:28:39.823973Z",
     "iopub.status.busy": "2020-08-23T07:28:39.808549Z",
     "iopub.status.idle": "2020-08-23T07:28:39.969072Z",
     "shell.execute_reply": "2020-08-23T07:28:39.968196Z"
    },
    "papermill": {
     "duration": 0.219452,
     "end_time": "2020-08-23T07:28:39.969247",
     "exception": false,
     "start_time": "2020-08-23T07:28:39.749795",
     "status": "completed"
    },
    "tags": []
   },
   "outputs": [
    {
     "data": {
      "text/plain": [
       "<matplotlib.axes._subplots.AxesSubplot at 0x7f5bac4c24d0>"
      ]
     },
     "execution_count": 32,
     "metadata": {},
     "output_type": "execute_result"
    },
    {
     "data": {
      "image/png": "[encoded data removed]",
      "text/plain": [
       "<Figure size 432x288 with 1 Axes>"
      ]
     },
     "metadata": {
      "needs_background": "light"
     },
     "output_type": "display_data"
    }
   ],
   "source": [
    "sns.barplot(x=df['Sex'],y=df['Exercise angina'],data=df)"
   ]
  },
  {
   "cell_type": "code",
   "execution_count": 33,
   "metadata": {
    "execution": {
     "iopub.execute_input": "2020-08-23T07:28:40.065750Z",
     "iopub.status.busy": "2020-08-23T07:28:40.064774Z",
     "iopub.status.idle": "2020-08-23T07:28:40.068220Z",
     "shell.execute_reply": "2020-08-23T07:28:40.067537Z"
    },
    "papermill": {
     "duration": 0.053332,
     "end_time": "2020-08-23T07:28:40.068345",
     "exception": false,
     "start_time": "2020-08-23T07:28:40.015013",
     "status": "completed"
    },
    "tags": []
   },
   "outputs": [],
   "source": [
    "# males have have high exercise angina"
   ]
  },
  {
   "cell_type": "code",
   "execution_count": 34,
   "metadata": {
    "execution": {
     "iopub.execute_input": "2020-08-23T07:28:40.169165Z",
     "iopub.status.busy": "2020-08-23T07:28:40.168140Z",
     "iopub.status.idle": "2020-08-23T07:28:40.339871Z",
     "shell.execute_reply": "2020-08-23T07:28:40.339216Z"
    },
    "papermill": {
     "duration": 0.226008,
     "end_time": "2020-08-23T07:28:40.340002",
     "exception": false,
     "start_time": "2020-08-23T07:28:40.113994",
     "status": "completed"
    },
    "tags": []
   },
   "outputs": [
    {
     "data": {
      "text/plain": [
       "<matplotlib.axes._subplots.AxesSubplot at 0x7f5bac41a990>"
      ]
     },
     "execution_count": 34,
     "metadata": {},
     "output_type": "execute_result"
    },
    {
     "data": {
      "image/png": "[encoded data removed]",
      "text/plain": [
       "<Figure size 432x288 with 1 Axes>"
      ]
     },
     "metadata": {
      "needs_background": "light"
     },
     "output_type": "display_data"
    }
   ],
   "source": [
    "sns.barplot(x=df['Heart Disease'],y=df['Number of vessels fluro'],data=df)"
   ]
  },
  {
   "cell_type": "code",
   "execution_count": 35,
   "metadata": {
    "execution": {
     "iopub.execute_input": "2020-08-23T07:28:40.439430Z",
     "iopub.status.busy": "2020-08-23T07:28:40.438701Z",
     "iopub.status.idle": "2020-08-23T07:28:40.442018Z",
     "shell.execute_reply": "2020-08-23T07:28:40.441363Z"
    },
    "papermill": {
     "duration": 0.054488,
     "end_time": "2020-08-23T07:28:40.442137",
     "exception": false,
     "start_time": "2020-08-23T07:28:40.387649",
     "status": "completed"
    },
    "tags": []
   },
   "outputs": [],
   "source": [
    "#people having high Number of vessels fluro have high chances of heart disease\n"
   ]
  },
  {
   "cell_type": "code",
   "execution_count": 36,
   "metadata": {
    "execution": {
     "iopub.execute_input": "2020-08-23T07:28:40.546230Z",
     "iopub.status.busy": "2020-08-23T07:28:40.544961Z",
     "iopub.status.idle": "2020-08-23T07:28:40.704927Z",
     "shell.execute_reply": "2020-08-23T07:28:40.704306Z"
    },
    "papermill": {
     "duration": 0.216148,
     "end_time": "2020-08-23T07:28:40.705055",
     "exception": false,
     "start_time": "2020-08-23T07:28:40.488907",
     "status": "completed"
    },
    "tags": []
   },
   "outputs": [
    {
     "data": {
      "text/plain": [
       "<matplotlib.axes._subplots.AxesSubplot at 0x7f5bac3efe90>"
      ]
     },
     "execution_count": 36,
     "metadata": {},
     "output_type": "execute_result"
    },
    {
     "data": {
      "image/png": "[encoded data removed]",
      "text/plain": [
       "<Figure size 432x288 with 1 Axes>"
      ]
     },
     "metadata": {
      "needs_background": "light"
     },
     "output_type": "display_data"
    }
   ],
   "source": [
    "sns.barplot(x=df['Heart Disease'],y=df['Thallium'],data=df)"
   ]
  },
  {
   "cell_type": "code",
   "execution_count": 37,
   "metadata": {
    "execution": {
     "iopub.execute_input": "2020-08-23T07:28:40.808168Z",
     "iopub.status.busy": "2020-08-23T07:28:40.807392Z",
     "iopub.status.idle": "2020-08-23T07:28:40.810226Z",
     "shell.execute_reply": "2020-08-23T07:28:40.810696Z"
    },
    "papermill": {
     "duration": 0.057267,
     "end_time": "2020-08-23T07:28:40.810891",
     "exception": false,
     "start_time": "2020-08-23T07:28:40.753624",
     "status": "completed"
    },
    "tags": []
   },
   "outputs": [],
   "source": [
    "#highn thallium count may lead to heart disease"
   ]
  },
  {
   "cell_type": "code",
   "execution_count": 38,
   "metadata": {
    "execution": {
     "iopub.execute_input": "2020-08-23T07:28:40.922862Z",
     "iopub.status.busy": "2020-08-23T07:28:40.921883Z",
     "iopub.status.idle": "2020-08-23T07:28:41.108265Z",
     "shell.execute_reply": "2020-08-23T07:28:41.107611Z"
    },
    "papermill": {
     "duration": 0.249293,
     "end_time": "2020-08-23T07:28:41.108393",
     "exception": false,
     "start_time": "2020-08-23T07:28:40.859100",
     "status": "completed"
    },
    "tags": []
   },
   "outputs": [
    {
     "data": {
      "text/plain": [
       "<matplotlib.axes._subplots.AxesSubplot at 0x7f5bac3683d0>"
      ]
     },
     "execution_count": 38,
     "metadata": {},
     "output_type": "execute_result"
    },
    {
     "data": {
      "image/png": "[encoded data removed]",
      "text/plain": [
       "<Figure size 432x288 with 1 Axes>"
      ]
     },
     "metadata": {
      "needs_background": "light"
     },
     "output_type": "display_data"
    }
   ],
   "source": [
    "sns.barplot(x=df['Sex'],y=df['FBS over 120'],data=df)"
   ]
  },
  {
   "cell_type": "code",
   "execution_count": 39,
   "metadata": {
    "execution": {
     "iopub.execute_input": "2020-08-23T07:28:41.212852Z",
     "iopub.status.busy": "2020-08-23T07:28:41.212047Z",
     "iopub.status.idle": "2020-08-23T07:28:41.215957Z",
     "shell.execute_reply": "2020-08-23T07:28:41.215377Z"
    },
    "papermill": {
     "duration": 0.057984,
     "end_time": "2020-08-23T07:28:41.216076",
     "exception": false,
     "start_time": "2020-08-23T07:28:41.158092",
     "status": "completed"
    },
    "tags": []
   },
   "outputs": [],
   "source": [
    "#males have high no of FBS over 120"
   ]
  },
  {
   "cell_type": "code",
   "execution_count": 40,
   "metadata": {
    "execution": {
     "iopub.execute_input": "2020-08-23T07:28:41.324169Z",
     "iopub.status.busy": "2020-08-23T07:28:41.323396Z",
     "iopub.status.idle": "2020-08-23T07:28:41.651323Z",
     "shell.execute_reply": "2020-08-23T07:28:41.650788Z"
    },
    "papermill": {
     "duration": 0.384745,
     "end_time": "2020-08-23T07:28:41.651459",
     "exception": false,
     "start_time": "2020-08-23T07:28:41.266714",
     "status": "completed"
    },
    "tags": []
   },
   "outputs": [
    {
     "data": {
      "text/plain": [
       "<matplotlib.axes._subplots.AxesSubplot at 0x7f5bac34e610>"
      ]
     },
     "execution_count": 40,
     "metadata": {},
     "output_type": "execute_result"
    },
    {
     "data": {
      "image/png": "[encoded data removed]",
      "text/plain": [
       "<Figure size 432x288 with 2 Axes>"
      ]
     },
     "metadata": {
      "needs_background": "light"
     },
     "output_type": "display_data"
    }
   ],
   "source": [
    "sns.heatmap(df.corr())"
   ]
  },
  {
   "cell_type": "code",
   "execution_count": 41,
   "metadata": {
    "execution": {
     "iopub.execute_input": "2020-08-23T07:28:41.758981Z",
     "iopub.status.busy": "2020-08-23T07:28:41.758086Z",
     "iopub.status.idle": "2020-08-23T07:28:41.761605Z",
     "shell.execute_reply": "2020-08-23T07:28:41.760952Z"
    },
    "papermill": {
     "duration": 0.059581,
     "end_time": "2020-08-23T07:28:41.761722",
     "exception": false,
     "start_time": "2020-08-23T07:28:41.702141",
     "status": "completed"
    },
    "tags": []
   },
   "outputs": [],
   "source": [
    "#now we are done with the data visualisations\n"
   ]
  },
  {
   "cell_type": "code",
   "execution_count": 42,
   "metadata": {
    "execution": {
     "iopub.execute_input": "2020-08-23T07:28:41.870088Z",
     "iopub.status.busy": "2020-08-23T07:28:41.869356Z",
     "iopub.status.idle": "2020-08-23T07:28:41.931036Z",
     "shell.execute_reply": "2020-08-23T07:28:41.930225Z"
    },
    "papermill": {
     "duration": 0.11758,
     "end_time": "2020-08-23T07:28:41.931170",
     "exception": false,
     "start_time": "2020-08-23T07:28:41.813590",
     "status": "completed"
    },
    "tags": []
   },
   "outputs": [],
   "source": [
    "from sklearn.preprocessing import LabelEncoder,StandardScaler\n",
    "le=LabelEncoder()\n",
    "df['Heart Disease']=le.fit_transform(df['Heart Disease'])"
   ]
  },
  {
   "cell_type": "code",
   "execution_count": 43,
   "metadata": {
    "execution": {
     "iopub.execute_input": "2020-08-23T07:28:42.041435Z",
     "iopub.status.busy": "2020-08-23T07:28:42.040658Z",
     "iopub.status.idle": "2020-08-23T07:28:42.043735Z",
     "shell.execute_reply": "2020-08-23T07:28:42.043081Z"
    },
    "papermill": {
     "duration": 0.060562,
     "end_time": "2020-08-23T07:28:42.043859",
     "exception": false,
     "start_time": "2020-08-23T07:28:41.983297",
     "status": "completed"
    },
    "tags": []
   },
   "outputs": [],
   "source": [
    "y=df['Heart Disease']\n",
    "x=df.drop(['Heart Disease'],axis=1)"
   ]
  },
  {
   "cell_type": "code",
   "execution_count": 44,
   "metadata": {
    "execution": {
     "iopub.execute_input": "2020-08-23T07:28:42.152518Z",
     "iopub.status.busy": "2020-08-23T07:28:42.151805Z",
     "iopub.status.idle": "2020-08-23T07:28:42.206745Z",
     "shell.execute_reply": "2020-08-23T07:28:42.206118Z"
    },
    "papermill": {
     "duration": 0.111789,
     "end_time": "2020-08-23T07:28:42.206886",
     "exception": false,
     "start_time": "2020-08-23T07:28:42.095097",
     "status": "completed"
    },
    "tags": []
   },
   "outputs": [],
   "source": [
    "from sklearn.model_selection import train_test_split\n",
    "x_train,x_test,y_train,y_test=train_test_split(x,y,random_state=0,test_size=0.2)\n"
   ]
  },
  {
   "cell_type": "code",
   "execution_count": 45,
   "metadata": {
    "execution": {
     "iopub.execute_input": "2020-08-23T07:28:42.315839Z",
     "iopub.status.busy": "2020-08-23T07:28:42.315147Z",
     "iopub.status.idle": "2020-08-23T07:28:42.600024Z",
     "shell.execute_reply": "2020-08-23T07:28:42.599348Z"
    },
    "papermill": {
     "duration": 0.342328,
     "end_time": "2020-08-23T07:28:42.600155",
     "exception": false,
     "start_time": "2020-08-23T07:28:42.257827",
     "status": "completed"
    },
    "tags": []
   },
   "outputs": [],
   "source": [
    "from sklearn.linear_model import LogisticRegression\n",
    "from sklearn.metrics import accuracy_score\n",
    "lr=LogisticRegression(max_iter=10000)\n",
    "lr.fit(x_train,y_train)\n",
    "pred_1=lr.predict(x_test)\n",
    "score_1=accuracy_score(y_test,pred_1)"
   ]
  },
  {
   "cell_type": "code",
   "execution_count": 46,
   "metadata": {
    "execution": {
     "iopub.execute_input": "2020-08-23T07:28:42.708395Z",
     "iopub.status.busy": "2020-08-23T07:28:42.707311Z",
     "iopub.status.idle": "2020-08-23T07:28:42.711552Z",
     "shell.execute_reply": "2020-08-23T07:28:42.710816Z"
    },
    "papermill": {
     "duration": 0.060519,
     "end_time": "2020-08-23T07:28:42.711689",
     "exception": false,
     "start_time": "2020-08-23T07:28:42.651170",
     "status": "completed"
    },
    "tags": []
   },
   "outputs": [
    {
     "data": {
      "text/plain": [
       "0.7777777777777778"
      ]
     },
     "execution_count": 46,
     "metadata": {},
     "output_type": "execute_result"
    }
   ],
   "source": [
    "score_1"
   ]
  },
  {
   "cell_type": "code",
   "execution_count": 47,
   "metadata": {
    "execution": {
     "iopub.execute_input": "2020-08-23T07:28:42.822326Z",
     "iopub.status.busy": "2020-08-23T07:28:42.821636Z",
     "iopub.status.idle": "2020-08-23T07:28:43.130567Z",
     "shell.execute_reply": "2020-08-23T07:28:43.131050Z"
    },
    "papermill": {
     "duration": 0.36706,
     "end_time": "2020-08-23T07:28:43.131224",
     "exception": false,
     "start_time": "2020-08-23T07:28:42.764164",
     "status": "completed"
    },
    "tags": []
   },
   "outputs": [],
   "source": [
    "from sklearn.ensemble import RandomForestClassifier\n",
    "rfc=RandomForestClassifier()\n",
    "rfc.fit(x_train,y_train)\n",
    "pred_2=rfc.predict(x_test)\n",
    "score_2=accuracy_score(y_test,pred_2)"
   ]
  },
  {
   "cell_type": "code",
   "execution_count": 48,
   "metadata": {
    "execution": {
     "iopub.execute_input": "2020-08-23T07:28:43.239338Z",
     "iopub.status.busy": "2020-08-23T07:28:43.238602Z",
     "iopub.status.idle": "2020-08-23T07:28:43.242183Z",
     "shell.execute_reply": "2020-08-23T07:28:43.241666Z"
    },
    "papermill": {
     "duration": 0.059561,
     "end_time": "2020-08-23T07:28:43.242301",
     "exception": false,
     "start_time": "2020-08-23T07:28:43.182740",
     "status": "completed"
    },
    "tags": []
   },
   "outputs": [
    {
     "data": {
      "text/plain": [
       "0.7407407407407407"
      ]
     },
     "execution_count": 48,
     "metadata": {},
     "output_type": "execute_result"
    }
   ],
   "source": [
    "score_2"
   ]
  },
  {
   "cell_type": "code",
   "execution_count": 49,
   "metadata": {
    "execution": {
     "iopub.execute_input": "2020-08-23T07:28:43.352313Z",
     "iopub.status.busy": "2020-08-23T07:28:43.351696Z",
     "iopub.status.idle": "2020-08-23T07:28:44.299224Z",
     "shell.execute_reply": "2020-08-23T07:28:44.299948Z"
    },
    "papermill": {
     "duration": 1.004699,
     "end_time": "2020-08-23T07:28:44.300146",
     "exception": false,
     "start_time": "2020-08-23T07:28:43.295447",
     "status": "completed"
    },
    "tags": []
   },
   "outputs": [],
   "source": [
    "from xgboost import XGBClassifier\n",
    "xgb=XGBClassifier()\n",
    "xgb.fit(x_train,y_train)\n",
    "pred_3=xgb.predict(x_test)\n",
    "score_3=accuracy_score(y_test,pred_3)\n"
   ]
  },
  {
   "cell_type": "code",
   "execution_count": 50,
   "metadata": {
    "execution": {
     "iopub.execute_input": "2020-08-23T07:28:44.507153Z",
     "iopub.status.busy": "2020-08-23T07:28:44.506151Z",
     "iopub.status.idle": "2020-08-23T07:28:44.509791Z",
     "shell.execute_reply": "2020-08-23T07:28:44.509256Z"
    },
    "papermill": {
     "duration": 0.140088,
     "end_time": "2020-08-23T07:28:44.509910",
     "exception": false,
     "start_time": "2020-08-23T07:28:44.369822",
     "status": "completed"
    },
    "tags": []
   },
   "outputs": [
    {
     "data": {
      "text/plain": [
       "0.7407407407407407"
      ]
     },
     "execution_count": 50,
     "metadata": {},
     "output_type": "execute_result"
    }
   ],
   "source": [
    "score_3"
   ]
  },
  {
   "cell_type": "code",
   "execution_count": 51,
   "metadata": {
    "execution": {
     "iopub.execute_input": "2020-08-23T07:28:44.629852Z",
     "iopub.status.busy": "2020-08-23T07:28:44.628833Z",
     "iopub.status.idle": "2020-08-23T07:28:44.760582Z",
     "shell.execute_reply": "2020-08-23T07:28:44.759870Z"
    },
    "papermill": {
     "duration": 0.198568,
     "end_time": "2020-08-23T07:28:44.760707",
     "exception": false,
     "start_time": "2020-08-23T07:28:44.562139",
     "status": "completed"
    },
    "tags": []
   },
   "outputs": [],
   "source": [
    "from sklearn.neighbors import KNeighborsClassifier\n",
    "list_1=[]\n",
    "for i in range(1,21):\n",
    "    knn=KNeighborsClassifier(n_neighbors=i)\n",
    "    knn.fit(x_train,y_train)\n",
    "    preds=knn.predict(x_test)\n",
    "    scores=accuracy_score(y_test,preds)\n",
    "    list_1.append(scores)"
   ]
  },
  {
   "cell_type": "code",
   "execution_count": 52,
   "metadata": {
    "execution": {
     "iopub.execute_input": "2020-08-23T07:28:44.873600Z",
     "iopub.status.busy": "2020-08-23T07:28:44.872754Z",
     "iopub.status.idle": "2020-08-23T07:28:44.877195Z",
     "shell.execute_reply": "2020-08-23T07:28:44.876565Z"
    },
    "papermill": {
     "duration": 0.062754,
     "end_time": "2020-08-23T07:28:44.877314",
     "exception": false,
     "start_time": "2020-08-23T07:28:44.814560",
     "status": "completed"
    },
    "tags": []
   },
   "outputs": [
    {
     "data": {
      "text/plain": [
       "0.7037037037037037"
      ]
     },
     "execution_count": 52,
     "metadata": {},
     "output_type": "execute_result"
    }
   ],
   "source": [
    "max(list_1)"
   ]
  },
  {
   "cell_type": "code",
   "execution_count": 53,
   "metadata": {
    "execution": {
     "iopub.execute_input": "2020-08-23T07:28:44.988315Z",
     "iopub.status.busy": "2020-08-23T07:28:44.987332Z",
     "iopub.status.idle": "2020-08-23T07:28:44.995204Z",
     "shell.execute_reply": "2020-08-23T07:28:44.995737Z"
    },
    "papermill": {
     "duration": 0.06588,
     "end_time": "2020-08-23T07:28:44.995921",
     "exception": false,
     "start_time": "2020-08-23T07:28:44.930041",
     "status": "completed"
    },
    "tags": []
   },
   "outputs": [],
   "source": [
    "#from all the classifiers used randomforest gives the best accuracy score"
   ]
  }
 ],
 "metadata": {
  "kernelspec": {
   "display_name": "Python 3",
   "language": "python",
   "name": "python3"
  },
  "language_info": {
   "codemirror_mode": {
    "name": "ipython",
    "version": 3
   },
   "file_extension": ".py",
   "mimetype": "text/x-python",
   "name": "python",
   "nbconvert_exporter": "python",
   "pygments_lexer": "ipython3",
   "version": "3.7.6"
  },
  "papermill": {
   "duration": 17.728202,
   "end_time": "2020-08-23T07:28:45.161083",
   "environment_variables": {},
   "exception": null,
   "input_path": "__notebook__.ipynb",
   "output_path": "__notebook__.ipynb",
   "parameters": {},
   "start_time": "2020-08-23T07:28:27.432881",
   "version": "2.1.0"
  }
 },
 "nbformat": 4,
 "nbformat_minor": 4
}
