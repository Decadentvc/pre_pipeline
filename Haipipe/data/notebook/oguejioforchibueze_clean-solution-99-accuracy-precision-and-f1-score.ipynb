{
 "cells": [
  {
   "cell_type": "code",
   "execution_count": 1,
   "metadata": {
    "_cell_guid": "87b61d7d-dbf5-4ed2-b648-8e5337544161",
    "_execution_state": "idle",
    "_uuid": "a03a322ead8e8fee9112543cb2b27c84606e6919",
    "collapsed": true
   },
   "outputs": [],
   "source": [
    "import pandas as pd"
   ]
  },
  {
   "cell_type": "code",
   "execution_count": 2,
   "metadata": {
    "_cell_guid": "0b56a246-5837-486c-be88-84f151a7be08",
    "_execution_state": "idle",
    "_uuid": "6cdf7d0be21b514956985eae732b21f968f2e555"
   },
   "outputs": [],
   "source": [
    "data=pd.read_csv(\"../input/dataset.csv\")"
   ]
  },
  {
   "cell_type": "code",
   "execution_count": 3,
   "metadata": {
    "_cell_guid": "17251512-8a35-43fe-a9ca-ac67b0dd9a50",
    "_execution_state": "idle",
    "_uuid": "e34e469bc4f6a3d524e172770def0b3666560244"
   },
   "outputs": [
    {
     "data": {
      "text/html": [
       "<div>\n",
       "<style>\n",
       "    .dataframe thead tr:only-child th {\n",
       "        text-align: right;\n",
       "    }\n",
       "\n",
       "    .dataframe thead th {\n",
       "        text-align: left;\n",
       "    }\n",
       "\n",
       "    .dataframe tbody tr th {\n",
       "        vertical-align: top;\n",
       "    }\n",
       "</style>\n",
       "<table border=\"1\" class=\"dataframe\">\n",
       "  <thead>\n",
       "    <tr style=\"text-align: right;\">\n",
       "      <th></th>\n",
       "      <th>date</th>\n",
       "      <th>time</th>\n",
       "      <th>username</th>\n",
       "      <th>wrist</th>\n",
       "      <th>activity</th>\n",
       "      <th>acceleration_x</th>\n",
       "      <th>acceleration_y</th>\n",
       "      <th>acceleration_z</th>\n",
       "      <th>gyro_x</th>\n",
       "      <th>gyro_y</th>\n",
       "      <th>gyro_z</th>\n",
       "    </tr>\n",
       "  </thead>\n",
       "  <tbody>\n",
       "    <tr>\n",
       "      <th>0</th>\n",
       "      <td>2017-6-30</td>\n",
       "      <td>13:51:15:847724020</td>\n",
       "      <td>viktor</td>\n",
       "      <td>0</td>\n",
       "      <td>0</td>\n",
       "      <td>0.2650</td>\n",
       "      <td>-0.7814</td>\n",
       "      <td>-0.0076</td>\n",
       "      <td>-0.0590</td>\n",
       "      <td>0.0325</td>\n",
       "      <td>-2.9296</td>\n",
       "    </tr>\n",
       "    <tr>\n",
       "      <th>1</th>\n",
       "      <td>2017-6-30</td>\n",
       "      <td>13:51:16:246945023</td>\n",
       "      <td>viktor</td>\n",
       "      <td>0</td>\n",
       "      <td>0</td>\n",
       "      <td>0.6722</td>\n",
       "      <td>-1.1233</td>\n",
       "      <td>-0.2344</td>\n",
       "      <td>-0.1757</td>\n",
       "      <td>0.0208</td>\n",
       "      <td>0.1269</td>\n",
       "    </tr>\n",
       "    <tr>\n",
       "      <th>2</th>\n",
       "      <td>2017-6-30</td>\n",
       "      <td>13:51:16:446233987</td>\n",
       "      <td>viktor</td>\n",
       "      <td>0</td>\n",
       "      <td>0</td>\n",
       "      <td>0.4399</td>\n",
       "      <td>-1.4817</td>\n",
       "      <td>0.0722</td>\n",
       "      <td>-0.9105</td>\n",
       "      <td>0.1063</td>\n",
       "      <td>-2.4367</td>\n",
       "    </tr>\n",
       "    <tr>\n",
       "      <th>3</th>\n",
       "      <td>2017-6-30</td>\n",
       "      <td>13:51:16:646117985</td>\n",
       "      <td>viktor</td>\n",
       "      <td>0</td>\n",
       "      <td>0</td>\n",
       "      <td>0.3031</td>\n",
       "      <td>-0.8125</td>\n",
       "      <td>0.0888</td>\n",
       "      <td>0.1199</td>\n",
       "      <td>-0.4099</td>\n",
       "      <td>-2.9336</td>\n",
       "    </tr>\n",
       "    <tr>\n",
       "      <th>4</th>\n",
       "      <td>2017-6-30</td>\n",
       "      <td>13:51:16:846738994</td>\n",
       "      <td>viktor</td>\n",
       "      <td>0</td>\n",
       "      <td>0</td>\n",
       "      <td>0.4814</td>\n",
       "      <td>-0.9312</td>\n",
       "      <td>0.0359</td>\n",
       "      <td>0.0527</td>\n",
       "      <td>0.4379</td>\n",
       "      <td>2.4922</td>\n",
       "    </tr>\n",
       "  </tbody>\n",
       "</table>\n",
       "</div>"
      ],
      "text/plain": [
       "        date                time username  wrist  activity  acceleration_x  \\\n",
       "0  2017-6-30  13:51:15:847724020   viktor      0         0          0.2650   \n",
       "1  2017-6-30  13:51:16:246945023   viktor      0         0          0.6722   \n",
       "2  2017-6-30  13:51:16:446233987   viktor      0         0          0.4399   \n",
       "3  2017-6-30  13:51:16:646117985   viktor      0         0          0.3031   \n",
       "4  2017-6-30  13:51:16:846738994   viktor      0         0          0.4814   \n",
       "\n",
       "   acceleration_y  acceleration_z  gyro_x  gyro_y  gyro_z  \n",
       "0         -0.7814         -0.0076 -0.0590  0.0325 -2.9296  \n",
       "1         -1.1233         -0.2344 -0.1757  0.0208  0.1269  \n",
       "2         -1.4817          0.0722 -0.9105  0.1063 -2.4367  \n",
       "3         -0.8125          0.0888  0.1199 -0.4099 -2.9336  \n",
       "4         -0.9312          0.0359  0.0527  0.4379  2.4922  "
      ]
     },
     "execution_count": 3,
     "metadata": {},
     "output_type": "execute_result"
    }
   ],
   "source": [
    "data.head()"
   ]
  },
  {
   "cell_type": "code",
   "execution_count": 4,
   "metadata": {
    "_cell_guid": "5e2324ef-5ec1-4876-8909-ec3f3d047c39",
    "_execution_state": "idle",
    "_uuid": "c00993e0b17c6130c091a8194a58120976c99636",
    "collapsed": true
   },
   "outputs": [],
   "source": [
    "labels=data.activity"
   ]
  },
  {
   "cell_type": "code",
   "execution_count": 5,
   "metadata": {
    "_cell_guid": "7e0ccdc8-2f04-42ae-8861-f49acb8e81a3",
    "_execution_state": "idle",
    "_uuid": "7084183b059407e63e73fea472592813b298118b",
    "collapsed": true
   },
   "outputs": [],
   "source": [
    "data_dropped=data.drop([\"username\",\"activity\"],axis=1)"
   ]
  },
  {
   "cell_type": "code",
   "execution_count": 6,
   "metadata": {
    "_cell_guid": "7ffc1c9e-5703-414b-87c2-d073f1926417",
    "_execution_state": "idle",
    "_uuid": "f1976f53ffc40de3d5a0bbd8f0c85b6e0e30790b"
   },
   "outputs": [
    {
     "data": {
      "text/html": [
       "<div>\n",
       "<style>\n",
       "    .dataframe thead tr:only-child th {\n",
       "        text-align: right;\n",
       "    }\n",
       "\n",
       "    .dataframe thead th {\n",
       "        text-align: left;\n",
       "    }\n",
       "\n",
       "    .dataframe tbody tr th {\n",
       "        vertical-align: top;\n",
       "    }\n",
       "</style>\n",
       "<table border=\"1\" class=\"dataframe\">\n",
       "  <thead>\n",
       "    <tr style=\"text-align: right;\">\n",
       "      <th></th>\n",
       "      <th>date</th>\n",
       "      <th>time</th>\n",
       "      <th>wrist</th>\n",
       "      <th>acceleration_x</th>\n",
       "      <th>acceleration_y</th>\n",
       "      <th>acceleration_z</th>\n",
       "      <th>gyro_x</th>\n",
       "      <th>gyro_y</th>\n",
       "      <th>gyro_z</th>\n",
       "    </tr>\n",
       "  </thead>\n",
       "  <tbody>\n",
       "    <tr>\n",
       "      <th>0</th>\n",
       "      <td>2017-6-30</td>\n",
       "      <td>13:51:15:847724020</td>\n",
       "      <td>0</td>\n",
       "      <td>0.2650</td>\n",
       "      <td>-0.7814</td>\n",
       "      <td>-0.0076</td>\n",
       "      <td>-0.0590</td>\n",
       "      <td>0.0325</td>\n",
       "      <td>-2.9296</td>\n",
       "    </tr>\n",
       "    <tr>\n",
       "      <th>1</th>\n",
       "      <td>2017-6-30</td>\n",
       "      <td>13:51:16:246945023</td>\n",
       "      <td>0</td>\n",
       "      <td>0.6722</td>\n",
       "      <td>-1.1233</td>\n",
       "      <td>-0.2344</td>\n",
       "      <td>-0.1757</td>\n",
       "      <td>0.0208</td>\n",
       "      <td>0.1269</td>\n",
       "    </tr>\n",
       "    <tr>\n",
       "      <th>2</th>\n",
       "      <td>2017-6-30</td>\n",
       "      <td>13:51:16:446233987</td>\n",
       "      <td>0</td>\n",
       "      <td>0.4399</td>\n",
       "      <td>-1.4817</td>\n",
       "      <td>0.0722</td>\n",
       "      <td>-0.9105</td>\n",
       "      <td>0.1063</td>\n",
       "      <td>-2.4367</td>\n",
       "    </tr>\n",
       "    <tr>\n",
       "      <th>3</th>\n",
       "      <td>2017-6-30</td>\n",
       "      <td>13:51:16:646117985</td>\n",
       "      <td>0</td>\n",
       "      <td>0.3031</td>\n",
       "      <td>-0.8125</td>\n",
       "      <td>0.0888</td>\n",
       "      <td>0.1199</td>\n",
       "      <td>-0.4099</td>\n",
       "      <td>-2.9336</td>\n",
       "    </tr>\n",
       "    <tr>\n",
       "      <th>4</th>\n",
       "      <td>2017-6-30</td>\n",
       "      <td>13:51:16:846738994</td>\n",
       "      <td>0</td>\n",
       "      <td>0.4814</td>\n",
       "      <td>-0.9312</td>\n",
       "      <td>0.0359</td>\n",
       "      <td>0.0527</td>\n",
       "      <td>0.4379</td>\n",
       "      <td>2.4922</td>\n",
       "    </tr>\n",
       "  </tbody>\n",
       "</table>\n",
       "</div>"
      ],
      "text/plain": [
       "        date                time  wrist  acceleration_x  acceleration_y  \\\n",
       "0  2017-6-30  13:51:15:847724020      0          0.2650         -0.7814   \n",
       "1  2017-6-30  13:51:16:246945023      0          0.6722         -1.1233   \n",
       "2  2017-6-30  13:51:16:446233987      0          0.4399         -1.4817   \n",
       "3  2017-6-30  13:51:16:646117985      0          0.3031         -0.8125   \n",
       "4  2017-6-30  13:51:16:846738994      0          0.4814         -0.9312   \n",
       "\n",
       "   acceleration_z  gyro_x  gyro_y  gyro_z  \n",
       "0         -0.0076 -0.0590  0.0325 -2.9296  \n",
       "1         -0.2344 -0.1757  0.0208  0.1269  \n",
       "2          0.0722 -0.9105  0.1063 -2.4367  \n",
       "3          0.0888  0.1199 -0.4099 -2.9336  \n",
       "4          0.0359  0.0527  0.4379  2.4922  "
      ]
     },
     "execution_count": 6,
     "metadata": {},
     "output_type": "execute_result"
    }
   ],
   "source": [
    "data_dropped.head()"
   ]
  },
  {
   "cell_type": "code",
   "execution_count": 7,
   "metadata": {
    "_cell_guid": "715856e9-ff97-4040-a207-9dfcfece91e1",
    "_execution_state": "idle",
    "_uuid": "b7ca7910cd95f336765ebc32a35e4c5fb5253811",
    "collapsed": true
   },
   "outputs": [],
   "source": [
    "data_dropped=data_dropped.set_index(\"date\")"
   ]
  },
  {
   "cell_type": "code",
   "execution_count": 8,
   "metadata": {
    "_cell_guid": "eed148b3-e3a4-4e39-b158-20b7248b99e3",
    "_execution_state": "idle",
    "_uuid": "fce400f4e8b5865f1971176b4f7b0aae2cd3c72f"
   },
   "outputs": [
    {
     "data": {
      "text/html": [
       "<div>\n",
       "<style>\n",
       "    .dataframe thead tr:only-child th {\n",
       "        text-align: right;\n",
       "    }\n",
       "\n",
       "    .dataframe thead th {\n",
       "        text-align: left;\n",
       "    }\n",
       "\n",
       "    .dataframe tbody tr th {\n",
       "        vertical-align: top;\n",
       "    }\n",
       "</style>\n",
       "<table border=\"1\" class=\"dataframe\">\n",
       "  <thead>\n",
       "    <tr style=\"text-align: right;\">\n",
       "      <th></th>\n",
       "      <th>time</th>\n",
       "      <th>wrist</th>\n",
       "      <th>acceleration_x</th>\n",
       "      <th>acceleration_y</th>\n",
       "      <th>acceleration_z</th>\n",
       "      <th>gyro_x</th>\n",
       "      <th>gyro_y</th>\n",
       "      <th>gyro_z</th>\n",
       "    </tr>\n",
       "    <tr>\n",
       "      <th>date</th>\n",
       "      <th></th>\n",
       "      <th></th>\n",
       "      <th></th>\n",
       "      <th></th>\n",
       "      <th></th>\n",
       "      <th></th>\n",
       "      <th></th>\n",
       "      <th></th>\n",
       "    </tr>\n",
       "  </thead>\n",
       "  <tbody>\n",
       "    <tr>\n",
       "      <th>2017-6-30</th>\n",
       "      <td>13:51:15:847724020</td>\n",
       "      <td>0</td>\n",
       "      <td>0.2650</td>\n",
       "      <td>-0.7814</td>\n",
       "      <td>-0.0076</td>\n",
       "      <td>-0.0590</td>\n",
       "      <td>0.0325</td>\n",
       "      <td>-2.9296</td>\n",
       "    </tr>\n",
       "    <tr>\n",
       "      <th>2017-6-30</th>\n",
       "      <td>13:51:16:246945023</td>\n",
       "      <td>0</td>\n",
       "      <td>0.6722</td>\n",
       "      <td>-1.1233</td>\n",
       "      <td>-0.2344</td>\n",
       "      <td>-0.1757</td>\n",
       "      <td>0.0208</td>\n",
       "      <td>0.1269</td>\n",
       "    </tr>\n",
       "    <tr>\n",
       "      <th>2017-6-30</th>\n",
       "      <td>13:51:16:446233987</td>\n",
       "      <td>0</td>\n",
       "      <td>0.4399</td>\n",
       "      <td>-1.4817</td>\n",
       "      <td>0.0722</td>\n",
       "      <td>-0.9105</td>\n",
       "      <td>0.1063</td>\n",
       "      <td>-2.4367</td>\n",
       "    </tr>\n",
       "    <tr>\n",
       "      <th>2017-6-30</th>\n",
       "      <td>13:51:16:646117985</td>\n",
       "      <td>0</td>\n",
       "      <td>0.3031</td>\n",
       "      <td>-0.8125</td>\n",
       "      <td>0.0888</td>\n",
       "      <td>0.1199</td>\n",
       "      <td>-0.4099</td>\n",
       "      <td>-2.9336</td>\n",
       "    </tr>\n",
       "    <tr>\n",
       "      <th>2017-6-30</th>\n",
       "      <td>13:51:16:846738994</td>\n",
       "      <td>0</td>\n",
       "      <td>0.4814</td>\n",
       "      <td>-0.9312</td>\n",
       "      <td>0.0359</td>\n",
       "      <td>0.0527</td>\n",
       "      <td>0.4379</td>\n",
       "      <td>2.4922</td>\n",
       "    </tr>\n",
       "  </tbody>\n",
       "</table>\n",
       "</div>"
      ],
      "text/plain": [
       "                         time  wrist  acceleration_x  acceleration_y  \\\n",
       "date                                                                   \n",
       "2017-6-30  13:51:15:847724020      0          0.2650         -0.7814   \n",
       "2017-6-30  13:51:16:246945023      0          0.6722         -1.1233   \n",
       "2017-6-30  13:51:16:446233987      0          0.4399         -1.4817   \n",
       "2017-6-30  13:51:16:646117985      0          0.3031         -0.8125   \n",
       "2017-6-30  13:51:16:846738994      0          0.4814         -0.9312   \n",
       "\n",
       "           acceleration_z  gyro_x  gyro_y  gyro_z  \n",
       "date                                               \n",
       "2017-6-30         -0.0076 -0.0590  0.0325 -2.9296  \n",
       "2017-6-30         -0.2344 -0.1757  0.0208  0.1269  \n",
       "2017-6-30          0.0722 -0.9105  0.1063 -2.4367  \n",
       "2017-6-30          0.0888  0.1199 -0.4099 -2.9336  \n",
       "2017-6-30          0.0359  0.0527  0.4379  2.4922  "
      ]
     },
     "execution_count": 8,
     "metadata": {},
     "output_type": "execute_result"
    }
   ],
   "source": [
    "data_dropped.head()"
   ]
  },
  {
   "cell_type": "code",
   "execution_count": 9,
   "metadata": {
    "_cell_guid": "b99b7362-cb44-480e-836e-559e47385ef3",
    "_execution_state": "idle",
    "_uuid": "a784633cb59cf0a0f98cc276449433d45135e0be",
    "collapsed": true
   },
   "outputs": [],
   "source": [
    "features=data_dropped.values"
   ]
  },
  {
   "cell_type": "code",
   "execution_count": 10,
   "metadata": {
    "_cell_guid": "694f7edf-ab65-4b33-aeaa-beaf0013fbfb",
    "_execution_state": "idle",
    "_uuid": "36f08c2aff28dadc33ffc56f939071d75ce29ed6"
   },
   "outputs": [
    {
     "data": {
      "text/plain": [
       "array([['13:51:15:847724020', 0, 0.265, ..., -0.059, 0.0325, -2.9296],\n",
       "       ['13:51:16:246945023', 0, 0.6722, ..., -0.1757, 0.0208, 0.1269],\n",
       "       ['13:51:16:446233987', 0, 0.4399, ..., -0.9105, 0.1063, -2.4367],\n",
       "       ..., \n",
       "       ['20:9:15:717828989', 0, 0.4587, ..., -1.45, -0.2792, -1.2616],\n",
       "       ['20:9:15:917932987', 0, 0.259, ..., -1.5165, 0.456, -1.7755],\n",
       "       ['20:9:16:117410004', 0, 0.314, ..., 0.1183, 1.085, 1.2814]], dtype=object)"
      ]
     },
     "execution_count": 10,
     "metadata": {},
     "output_type": "execute_result"
    }
   ],
   "source": [
    "features"
   ]
  },
  {
   "cell_type": "code",
   "execution_count": 11,
   "metadata": {
    "_cell_guid": "3eb50847-8a00-4b25-be49-1239dcb91f78",
    "_execution_state": "idle",
    "_uuid": "7d58ef6f3f726239daf854a2387a7ef2dd2908e2",
    "collapsed": true
   },
   "outputs": [],
   "source": [
    "data_time_dropped=data_dropped.drop([\"time\"],axis=1)"
   ]
  },
  {
   "cell_type": "code",
   "execution_count": 12,
   "metadata": {
    "_cell_guid": "043d887f-58b4-4bd5-b72d-0e7fd97bf423",
    "_execution_state": "idle",
    "_uuid": "899ec6dc4cb96fd7a02e6ce1e371815ee2db1fb6"
   },
   "outputs": [
    {
     "data": {
      "text/html": [
       "<div>\n",
       "<style>\n",
       "    .dataframe thead tr:only-child th {\n",
       "        text-align: right;\n",
       "    }\n",
       "\n",
       "    .dataframe thead th {\n",
       "        text-align: left;\n",
       "    }\n",
       "\n",
       "    .dataframe tbody tr th {\n",
       "        vertical-align: top;\n",
       "    }\n",
       "</style>\n",
       "<table border=\"1\" class=\"dataframe\">\n",
       "  <thead>\n",
       "    <tr style=\"text-align: right;\">\n",
       "      <th></th>\n",
       "      <th>wrist</th>\n",
       "      <th>acceleration_x</th>\n",
       "      <th>acceleration_y</th>\n",
       "      <th>acceleration_z</th>\n",
       "      <th>gyro_x</th>\n",
       "      <th>gyro_y</th>\n",
       "      <th>gyro_z</th>\n",
       "    </tr>\n",
       "    <tr>\n",
       "      <th>date</th>\n",
       "      <th></th>\n",
       "      <th></th>\n",
       "      <th></th>\n",
       "      <th></th>\n",
       "      <th></th>\n",
       "      <th></th>\n",
       "      <th></th>\n",
       "    </tr>\n",
       "  </thead>\n",
       "  <tbody>\n",
       "    <tr>\n",
       "      <th>2017-6-30</th>\n",
       "      <td>0</td>\n",
       "      <td>0.2650</td>\n",
       "      <td>-0.7814</td>\n",
       "      <td>-0.0076</td>\n",
       "      <td>-0.0590</td>\n",
       "      <td>0.0325</td>\n",
       "      <td>-2.9296</td>\n",
       "    </tr>\n",
       "    <tr>\n",
       "      <th>2017-6-30</th>\n",
       "      <td>0</td>\n",
       "      <td>0.6722</td>\n",
       "      <td>-1.1233</td>\n",
       "      <td>-0.2344</td>\n",
       "      <td>-0.1757</td>\n",
       "      <td>0.0208</td>\n",
       "      <td>0.1269</td>\n",
       "    </tr>\n",
       "    <tr>\n",
       "      <th>2017-6-30</th>\n",
       "      <td>0</td>\n",
       "      <td>0.4399</td>\n",
       "      <td>-1.4817</td>\n",
       "      <td>0.0722</td>\n",
       "      <td>-0.9105</td>\n",
       "      <td>0.1063</td>\n",
       "      <td>-2.4367</td>\n",
       "    </tr>\n",
       "    <tr>\n",
       "      <th>2017-6-30</th>\n",
       "      <td>0</td>\n",
       "      <td>0.3031</td>\n",
       "      <td>-0.8125</td>\n",
       "      <td>0.0888</td>\n",
       "      <td>0.1199</td>\n",
       "      <td>-0.4099</td>\n",
       "      <td>-2.9336</td>\n",
       "    </tr>\n",
       "    <tr>\n",
       "      <th>2017-6-30</th>\n",
       "      <td>0</td>\n",
       "      <td>0.4814</td>\n",
       "      <td>-0.9312</td>\n",
       "      <td>0.0359</td>\n",
       "      <td>0.0527</td>\n",
       "      <td>0.4379</td>\n",
       "      <td>2.4922</td>\n",
       "    </tr>\n",
       "  </tbody>\n",
       "</table>\n",
       "</div>"
      ],
      "text/plain": [
       "           wrist  acceleration_x  acceleration_y  acceleration_z  gyro_x  \\\n",
       "date                                                                       \n",
       "2017-6-30      0          0.2650         -0.7814         -0.0076 -0.0590   \n",
       "2017-6-30      0          0.6722         -1.1233         -0.2344 -0.1757   \n",
       "2017-6-30      0          0.4399         -1.4817          0.0722 -0.9105   \n",
       "2017-6-30      0          0.3031         -0.8125          0.0888  0.1199   \n",
       "2017-6-30      0          0.4814         -0.9312          0.0359  0.0527   \n",
       "\n",
       "           gyro_y  gyro_z  \n",
       "date                       \n",
       "2017-6-30  0.0325 -2.9296  \n",
       "2017-6-30  0.0208  0.1269  \n",
       "2017-6-30  0.1063 -2.4367  \n",
       "2017-6-30 -0.4099 -2.9336  \n",
       "2017-6-30  0.4379  2.4922  "
      ]
     },
     "execution_count": 12,
     "metadata": {},
     "output_type": "execute_result"
    }
   ],
   "source": [
    "data_time_dropped.head()"
   ]
  },
  {
   "cell_type": "code",
   "execution_count": 13,
   "metadata": {
    "_cell_guid": "e7eadc49-ba85-47fe-9663-951c6e3d0d9d",
    "_execution_state": "idle",
    "_uuid": "5a647c124d891ea795a215267ad9f1bbecf61925",
    "collapsed": true
   },
   "outputs": [],
   "source": [
    "features=data_time_dropped.values"
   ]
  },
  {
   "cell_type": "code",
   "execution_count": 14,
   "metadata": {
    "_cell_guid": "beb80c69-ac55-49d6-928a-d45bb5e03567",
    "_execution_state": "idle",
    "_uuid": "231b7110b4c15e5a61a441fa74cab4a9e9671287"
   },
   "outputs": [
    {
     "data": {
      "text/plain": [
       "array([[ 0.    ,  0.265 , -0.7814, ..., -0.059 ,  0.0325, -2.9296],\n",
       "       [ 0.    ,  0.6722, -1.1233, ..., -0.1757,  0.0208,  0.1269],\n",
       "       [ 0.    ,  0.4399, -1.4817, ..., -0.9105,  0.1063, -2.4367],\n",
       "       ..., \n",
       "       [ 0.    ,  0.4587, -1.178 , ..., -1.45  , -0.2792, -1.2616],\n",
       "       [ 0.    ,  0.259 , -0.8582, ..., -1.5165,  0.456 , -1.7755],\n",
       "       [ 0.    ,  0.314 , -0.8008, ...,  0.1183,  1.085 ,  1.2814]])"
      ]
     },
     "execution_count": 14,
     "metadata": {},
     "output_type": "execute_result"
    }
   ],
   "source": [
    "features"
   ]
  },
  {
   "cell_type": "code",
   "execution_count": 15,
   "metadata": {
    "_cell_guid": "e2484079-c7b1-48a5-8f66-f097094801ea",
    "_execution_state": "idle",
    "_uuid": "e26511f6f3562d344f0b343be47986be8e9364b6",
    "collapsed": true
   },
   "outputs": [],
   "source": [
    "LABELS=labels.values"
   ]
  },
  {
   "cell_type": "code",
   "execution_count": 16,
   "metadata": {
    "_cell_guid": "2eb3240d-0f77-4e03-9bf8-c30488c0a373",
    "_execution_state": "idle",
    "_uuid": "f291121a954e9f9102a4aba56f70879c2a7cd449"
   },
   "outputs": [],
   "source": [
    "FEATURES=features"
   ]
  },
  {
   "cell_type": "code",
   "execution_count": 17,
   "metadata": {
    "_cell_guid": "e4dbe638-e92c-4966-bd29-4f645fa2e613",
    "_execution_state": "idle",
    "_uuid": "d1702d4e5314c2abe2519e439fe975c87719f4cd"
   },
   "outputs": [],
   "source": [
    "from sklearn.model_selection import train_test_split"
   ]
  },
  {
   "cell_type": "code",
   "execution_count": 18,
   "metadata": {
    "_cell_guid": "fb5ad95f-661e-4312-86be-c1d61df15fbb",
    "_execution_state": "idle",
    "_uuid": "7d06857f5e560e5da0cb9ad0e18851df89c6933b",
    "collapsed": true
   },
   "outputs": [],
   "source": [
    "x_train,x_test,y_train,y_test=train_test_split(FEATURES,LABELS,test_size=0.3,random_state=1)"
   ]
  },
  {
   "cell_type": "code",
   "execution_count": 19,
   "metadata": {
    "_cell_guid": "21805ca4-b20f-42cc-9856-e9af5b3d84b1",
    "_execution_state": "idle",
    "_uuid": "52c3e75024006b951cf0c2525c8c468682a588b6",
    "collapsed": true
   },
   "outputs": [],
   "source": [
    "from sklearn.ensemble import RandomForestClassifier"
   ]
  },
  {
   "cell_type": "code",
   "execution_count": 20,
   "metadata": {
    "_cell_guid": "bb0b9967-9bb1-47e6-a5a1-0cfbe0213d5e",
    "_execution_state": "idle",
    "_uuid": "75982524eaef85a27de34573f3dcaf4b6c9c5ebb",
    "collapsed": true
   },
   "outputs": [],
   "source": [
    "RanFor=RandomForestClassifier(n_estimators=100,random_state=1)"
   ]
  },
  {
   "cell_type": "code",
   "execution_count": 21,
   "metadata": {
    "_cell_guid": "aef3e3cc-8d59-4ea1-bf66-ab48798bc013",
    "_execution_state": "idle",
    "_uuid": "5180098f93d207227cd84167b0765b357e59d373"
   },
   "outputs": [
    {
     "data": {
      "text/plain": [
       "RandomForestClassifier(bootstrap=True, class_weight=None, criterion='gini',\n",
       "            max_depth=None, max_features='auto', max_leaf_nodes=None,\n",
       "            min_impurity_decrease=0.0, min_impurity_split=None,\n",
       "            min_samples_leaf=1, min_samples_split=2,\n",
       "            min_weight_fraction_leaf=0.0, n_estimators=100, n_jobs=1,\n",
       "            oob_score=False, random_state=1, verbose=0, warm_start=False)"
      ]
     },
     "execution_count": 21,
     "metadata": {},
     "output_type": "execute_result"
    }
   ],
   "source": [
    "RanFor.fit(x_train,y_train)"
   ]
  },
  {
   "cell_type": "code",
   "execution_count": 22,
   "metadata": {
    "_cell_guid": "16eebee0-fcec-4997-9981-89a09bab892a",
    "_execution_state": "idle",
    "_uuid": "c3b38789b277362e0a60c4f4e7ebeb37e7fb5ea6",
    "collapsed": true
   },
   "outputs": [],
   "source": [
    "from sklearn.metrics import *"
   ]
  },
  {
   "cell_type": "code",
   "execution_count": 23,
   "metadata": {
    "_cell_guid": "c3875ffc-f708-42c1-85d0-e0d58bbc5e2d",
    "_execution_state": "idle",
    "_uuid": "b1bdfc81131e69573630cf8ab2fa3f51e7a9e51b"
   },
   "outputs": [
    {
     "data": {
      "text/plain": [
       "1.0"
      ]
     },
     "execution_count": 23,
     "metadata": {},
     "output_type": "execute_result"
    }
   ],
   "source": [
    "accuracy_score(y_train,RanFor.predict(x_train))"
   ]
  },
  {
   "cell_type": "code",
   "execution_count": 24,
   "metadata": {
    "_cell_guid": "8fd61ef7-7f89-44a7-af09-918175931016",
    "_execution_state": "idle",
    "_uuid": "f2e4dfb59a56b5068d67d8ff34368c49fc8c085e"
   },
   "outputs": [
    {
     "data": {
      "text/plain": [
       "0.99134590059073635"
      ]
     },
     "execution_count": 24,
     "metadata": {},
     "output_type": "execute_result"
    }
   ],
   "source": [
    "accuracy_score(y_test,RanFor.predict(x_test))"
   ]
  },
  {
   "cell_type": "code",
   "execution_count": 25,
   "metadata": {
    "_cell_guid": "3f853f80-f1d1-477f-9782-f5f5840fc249",
    "_execution_state": "idle",
    "_uuid": "643c4f575eb14d0eb0354fa9c6ff14fd67f27be7"
   },
   "outputs": [
    {
     "data": {
      "text/plain": [
       "0.99156968069233065"
      ]
     },
     "execution_count": 25,
     "metadata": {},
     "output_type": "execute_result"
    }
   ],
   "source": [
    "precision_score(y_test,RanFor.predict(x_test))"
   ]
  },
  {
   "cell_type": "code",
   "execution_count": 26,
   "metadata": {
    "_cell_guid": "0c08c559-b963-469c-8e4c-fa3378a48348",
    "_execution_state": "idle",
    "_uuid": "86690f9a3f3a0dbaa2e68cc7c18b50117f885462"
   },
   "outputs": [
    {
     "data": {
      "text/plain": [
       "0.99127386634844872"
      ]
     },
     "execution_count": 26,
     "metadata": {},
     "output_type": "execute_result"
    }
   ],
   "source": [
    "recall_score(y_test,RanFor.predict(x_test))"
   ]
  },
  {
   "cell_type": "code",
   "execution_count": 27,
   "metadata": {
    "_cell_guid": "656039f0-1137-479e-a2be-47b6b5c3a5a2",
    "_execution_state": "idle",
    "_uuid": "9047def534b753195285b534d260dff090bdeebd"
   },
   "outputs": [
    {
     "data": {
      "text/plain": [
       "0.99142175145457268"
      ]
     },
     "execution_count": 27,
     "metadata": {},
     "output_type": "execute_result"
    }
   ],
   "source": [
    "f1_score(y_test,RanFor.predict(x_test))"
   ]
  },
  {
   "cell_type": "code",
   "execution_count": 28,
   "metadata": {
    "_cell_guid": "fa0b8d2a-64cc-47cb-8aa9-7bf3b97dcc11",
    "_execution_state": "idle",
    "_uuid": "cdb81f48093ed7c554b7189d6642d2a20dbe8226",
    "collapsed": true
   },
   "outputs": [],
   "source": []
  }
 ],
 "metadata": {
  "anaconda-cloud": {},
  "kernelspec": {
   "display_name": "Python 3",
   "language": "python",
   "name": "python3"
  },
  "language_info": {
   "codemirror_mode": {
    "name": "ipython",
    "version": 3
   },
   "file_extension": ".py",
   "mimetype": "text/x-python",
   "name": "python",
   "nbconvert_exporter": "python",
   "pygments_lexer": "ipython3",
   "version": "3.6.1"
  }
 },
 "nbformat": 4,
 "nbformat_minor": 1
}
