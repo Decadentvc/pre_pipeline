{
 "cells": [
  {
   "cell_type": "code",
   "execution_count": 1,
   "metadata": {
    "_cell_guid": "b1076dfc-b9ad-4769-8c92-a6c4dae69d19",
    "_uuid": "8f2839f25d086af736a60e9eeb907d3b93b6e0e5",
    "execution": {
     "iopub.execute_input": "2020-08-30T17:02:37.158836Z",
     "iopub.status.busy": "2020-08-30T17:02:37.158088Z",
     "iopub.status.idle": "2020-08-30T17:02:38.125756Z",
     "shell.execute_reply": "2020-08-30T17:02:38.125108Z"
    },
    "papermill": {
     "duration": 0.987314,
     "end_time": "2020-08-30T17:02:38.125902",
     "exception": false,
     "start_time": "2020-08-30T17:02:37.138588",
     "status": "completed"
    },
    "tags": []
   },
   "outputs": [
    {
     "name": "stdout",
     "output_type": "stream",
     "text": [
      "/kaggle/input/cardiogoodfitness/CardioGoodFitness.csv\n"
     ]
    }
   ],
   "source": [
    "\n",
    "\n",
    "import numpy as np # linear algebra\n",
    "import pandas as pd # data processing, CSV file I/O (e.g. pd.read_csv)\n",
    "import matplotlib.pyplot as plt\n",
    "import missingno as msno\n",
    "import seaborn as sns\n",
    "\n",
    "import os\n",
    "for dirname, _, filenames in os.walk('/kaggle/input'):\n",
    "    for filename in filenames:\n",
    "        print(os.path.join(dirname, filename))\n"
   ]
  },
  {
   "cell_type": "markdown",
   "execution_count": null,
   "metadata": {
    "papermill": {
     "duration": 0.010956,
     "end_time": "2020-08-30T17:02:38.148913",
     "exception": false,
     "start_time": "2020-08-30T17:02:38.137957",
     "status": "completed"
    },
    "tags": []
   },
   "source": [
    "Load the Data Set"
   ]
  },
  {
   "cell_type": "code",
   "execution_count": 2,
   "metadata": {
    "execution": {
     "iopub.execute_input": "2020-08-30T17:02:38.204104Z",
     "iopub.status.busy": "2020-08-30T17:02:38.203362Z",
     "iopub.status.idle": "2020-08-30T17:02:38.218301Z",
     "shell.execute_reply": "2020-08-30T17:02:38.217640Z"
    },
    "papermill": {
     "duration": 0.056782,
     "end_time": "2020-08-30T17:02:38.218427",
     "exception": false,
     "start_time": "2020-08-30T17:02:38.161645",
     "status": "completed"
    },
    "tags": []
   },
   "outputs": [],
   "source": [
    "customer_fit_df = pd.read_csv('../input/cardiogoodfitness/CardioGoodFitness.csv')"
   ]
  },
  {
   "cell_type": "code",
   "execution_count": 3,
   "metadata": {
    "execution": {
     "iopub.execute_input": "2020-08-30T17:02:38.270111Z",
     "iopub.status.busy": "2020-08-30T17:02:38.269370Z",
     "iopub.status.idle": "2020-08-30T17:02:38.283980Z",
     "shell.execute_reply": "2020-08-30T17:02:38.283238Z"
    },
    "papermill": {
     "duration": 0.053958,
     "end_time": "2020-08-30T17:02:38.284100",
     "exception": false,
     "start_time": "2020-08-30T17:02:38.230142",
     "status": "completed"
    },
    "tags": []
   },
   "outputs": [
    {
     "data": {
      "text/html": [
       "<div>\n",
       "<style scoped>\n",
       "    .dataframe tbody tr th:only-of-type {\n",
       "        vertical-align: middle;\n",
       "    }\n",
       "\n",
       "    .dataframe tbody tr th {\n",
       "        vertical-align: top;\n",
       "    }\n",
       "\n",
       "    .dataframe thead th {\n",
       "        text-align: right;\n",
       "    }\n",
       "</style>\n",
       "<table border=\"1\" class=\"dataframe\">\n",
       "  <thead>\n",
       "    <tr style=\"text-align: right;\">\n",
       "      <th></th>\n",
       "      <th>Product</th>\n",
       "      <th>Age</th>\n",
       "      <th>Gender</th>\n",
       "      <th>Education</th>\n",
       "      <th>MaritalStatus</th>\n",
       "      <th>Usage</th>\n",
       "      <th>Fitness</th>\n",
       "      <th>Income</th>\n",
       "      <th>Miles</th>\n",
       "    </tr>\n",
       "  </thead>\n",
       "  <tbody>\n",
       "    <tr>\n",
       "      <th>0</th>\n",
       "      <td>TM195</td>\n",
       "      <td>18</td>\n",
       "      <td>Male</td>\n",
       "      <td>14</td>\n",
       "      <td>Single</td>\n",
       "      <td>3</td>\n",
       "      <td>4</td>\n",
       "      <td>29562</td>\n",
       "      <td>112</td>\n",
       "    </tr>\n",
       "    <tr>\n",
       "      <th>1</th>\n",
       "      <td>TM195</td>\n",
       "      <td>19</td>\n",
       "      <td>Male</td>\n",
       "      <td>15</td>\n",
       "      <td>Single</td>\n",
       "      <td>2</td>\n",
       "      <td>3</td>\n",
       "      <td>31836</td>\n",
       "      <td>75</td>\n",
       "    </tr>\n",
       "    <tr>\n",
       "      <th>2</th>\n",
       "      <td>TM195</td>\n",
       "      <td>19</td>\n",
       "      <td>Female</td>\n",
       "      <td>14</td>\n",
       "      <td>Partnered</td>\n",
       "      <td>4</td>\n",
       "      <td>3</td>\n",
       "      <td>30699</td>\n",
       "      <td>66</td>\n",
       "    </tr>\n",
       "    <tr>\n",
       "      <th>3</th>\n",
       "      <td>TM195</td>\n",
       "      <td>19</td>\n",
       "      <td>Male</td>\n",
       "      <td>12</td>\n",
       "      <td>Single</td>\n",
       "      <td>3</td>\n",
       "      <td>3</td>\n",
       "      <td>32973</td>\n",
       "      <td>85</td>\n",
       "    </tr>\n",
       "    <tr>\n",
       "      <th>4</th>\n",
       "      <td>TM195</td>\n",
       "      <td>20</td>\n",
       "      <td>Male</td>\n",
       "      <td>13</td>\n",
       "      <td>Partnered</td>\n",
       "      <td>4</td>\n",
       "      <td>2</td>\n",
       "      <td>35247</td>\n",
       "      <td>47</td>\n",
       "    </tr>\n",
       "  </tbody>\n",
       "</table>\n",
       "</div>"
      ],
      "text/plain": [
       "  Product  Age  Gender  Education MaritalStatus  Usage  Fitness  Income  Miles\n",
       "0   TM195   18    Male         14        Single      3        4   29562    112\n",
       "1   TM195   19    Male         15        Single      2        3   31836     75\n",
       "2   TM195   19  Female         14     Partnered      4        3   30699     66\n",
       "3   TM195   19    Male         12        Single      3        3   32973     85\n",
       "4   TM195   20    Male         13     Partnered      4        2   35247     47"
      ]
     },
     "execution_count": 3,
     "metadata": {},
     "output_type": "execute_result"
    }
   ],
   "source": [
    "customer_fit_df.head()"
   ]
  },
  {
   "cell_type": "code",
   "execution_count": 4,
   "metadata": {
    "execution": {
     "iopub.execute_input": "2020-08-30T17:02:38.327641Z",
     "iopub.status.busy": "2020-08-30T17:02:38.326704Z",
     "iopub.status.idle": "2020-08-30T17:02:38.330328Z",
     "shell.execute_reply": "2020-08-30T17:02:38.331284Z"
    },
    "papermill": {
     "duration": 0.034964,
     "end_time": "2020-08-30T17:02:38.331492",
     "exception": false,
     "start_time": "2020-08-30T17:02:38.296528",
     "status": "completed"
    },
    "tags": []
   },
   "outputs": [
    {
     "name": "stdout",
     "output_type": "stream",
     "text": [
      "<class 'pandas.core.frame.DataFrame'>\n",
      "RangeIndex: 180 entries, 0 to 179\n",
      "Data columns (total 9 columns):\n",
      " #   Column         Non-Null Count  Dtype \n",
      "---  ------         --------------  ----- \n",
      " 0   Product        180 non-null    object\n",
      " 1   Age            180 non-null    int64 \n",
      " 2   Gender         180 non-null    object\n",
      " 3   Education      180 non-null    int64 \n",
      " 4   MaritalStatus  180 non-null    object\n",
      " 5   Usage          180 non-null    int64 \n",
      " 6   Fitness        180 non-null    int64 \n",
      " 7   Income         180 non-null    int64 \n",
      " 8   Miles          180 non-null    int64 \n",
      "dtypes: int64(6), object(3)\n",
      "memory usage: 12.8+ KB\n"
     ]
    }
   ],
   "source": [
    "customer_fit_df.info()"
   ]
  },
  {
   "cell_type": "code",
   "execution_count": 5,
   "metadata": {
    "execution": {
     "iopub.execute_input": "2020-08-30T17:02:38.360855Z",
     "iopub.status.busy": "2020-08-30T17:02:38.360122Z",
     "iopub.status.idle": "2020-08-30T17:02:38.362965Z",
     "shell.execute_reply": "2020-08-30T17:02:38.363495Z"
    },
    "papermill": {
     "duration": 0.019247,
     "end_time": "2020-08-30T17:02:38.363657",
     "exception": false,
     "start_time": "2020-08-30T17:02:38.344410",
     "status": "completed"
    },
    "tags": []
   },
   "outputs": [],
   "source": [
    "## The info() method in pandas prints the summary of a dataframe and returns None\n",
    "## More Info https://pandas.pydata.org/pandas-docs/stable/reference/api/pandas.DataFrame.info.html"
   ]
  },
  {
   "cell_type": "code",
   "execution_count": 6,
   "metadata": {
    "execution": {
     "iopub.execute_input": "2020-08-30T17:02:38.395532Z",
     "iopub.status.busy": "2020-08-30T17:02:38.394712Z",
     "iopub.status.idle": "2020-08-30T17:02:39.191084Z",
     "shell.execute_reply": "2020-08-30T17:02:39.191658Z"
    },
    "papermill": {
     "duration": 0.815737,
     "end_time": "2020-08-30T17:02:39.191832",
     "exception": false,
     "start_time": "2020-08-30T17:02:38.376095",
     "status": "completed"
    },
    "tags": []
   },
   "outputs": [
    {
     "data": {
      "image/png": "[encoded data removed]",
      "text/plain": [
       "<Figure size 1728x720 with 3 Axes>"
      ]
     },
     "metadata": {
      "needs_background": "light"
     },
     "output_type": "display_data"
    }
   ],
   "source": [
    "p=msno.bar(customer_fit_df)"
   ]
  },
  {
   "cell_type": "code",
   "execution_count": 7,
   "metadata": {
    "execution": {
     "iopub.execute_input": "2020-08-30T17:02:39.226642Z",
     "iopub.status.busy": "2020-08-30T17:02:39.225906Z",
     "iopub.status.idle": "2020-08-30T17:02:39.265409Z",
     "shell.execute_reply": "2020-08-30T17:02:39.264766Z"
    },
    "papermill": {
     "duration": 0.059959,
     "end_time": "2020-08-30T17:02:39.265528",
     "exception": false,
     "start_time": "2020-08-30T17:02:39.205569",
     "status": "completed"
    },
    "tags": []
   },
   "outputs": [
    {
     "data": {
      "text/html": [
       "<div>\n",
       "<style scoped>\n",
       "    .dataframe tbody tr th:only-of-type {\n",
       "        vertical-align: middle;\n",
       "    }\n",
       "\n",
       "    .dataframe tbody tr th {\n",
       "        vertical-align: top;\n",
       "    }\n",
       "\n",
       "    .dataframe thead th {\n",
       "        text-align: right;\n",
       "    }\n",
       "</style>\n",
       "<table border=\"1\" class=\"dataframe\">\n",
       "  <thead>\n",
       "    <tr style=\"text-align: right;\">\n",
       "      <th></th>\n",
       "      <th>Product</th>\n",
       "      <th>Age</th>\n",
       "      <th>Gender</th>\n",
       "      <th>Education</th>\n",
       "      <th>MaritalStatus</th>\n",
       "      <th>Usage</th>\n",
       "      <th>Fitness</th>\n",
       "      <th>Income</th>\n",
       "      <th>Miles</th>\n",
       "    </tr>\n",
       "  </thead>\n",
       "  <tbody>\n",
       "    <tr>\n",
       "      <th>count</th>\n",
       "      <td>180</td>\n",
       "      <td>180.000000</td>\n",
       "      <td>180</td>\n",
       "      <td>180.000000</td>\n",
       "      <td>180</td>\n",
       "      <td>180.000000</td>\n",
       "      <td>180.000000</td>\n",
       "      <td>180.000000</td>\n",
       "      <td>180.000000</td>\n",
       "    </tr>\n",
       "    <tr>\n",
       "      <th>unique</th>\n",
       "      <td>3</td>\n",
       "      <td>NaN</td>\n",
       "      <td>2</td>\n",
       "      <td>NaN</td>\n",
       "      <td>2</td>\n",
       "      <td>NaN</td>\n",
       "      <td>NaN</td>\n",
       "      <td>NaN</td>\n",
       "      <td>NaN</td>\n",
       "    </tr>\n",
       "    <tr>\n",
       "      <th>top</th>\n",
       "      <td>TM195</td>\n",
       "      <td>NaN</td>\n",
       "      <td>Male</td>\n",
       "      <td>NaN</td>\n",
       "      <td>Partnered</td>\n",
       "      <td>NaN</td>\n",
       "      <td>NaN</td>\n",
       "      <td>NaN</td>\n",
       "      <td>NaN</td>\n",
       "    </tr>\n",
       "    <tr>\n",
       "      <th>freq</th>\n",
       "      <td>80</td>\n",
       "      <td>NaN</td>\n",
       "      <td>104</td>\n",
       "      <td>NaN</td>\n",
       "      <td>107</td>\n",
       "      <td>NaN</td>\n",
       "      <td>NaN</td>\n",
       "      <td>NaN</td>\n",
       "      <td>NaN</td>\n",
       "    </tr>\n",
       "    <tr>\n",
       "      <th>mean</th>\n",
       "      <td>NaN</td>\n",
       "      <td>28.788889</td>\n",
       "      <td>NaN</td>\n",
       "      <td>15.572222</td>\n",
       "      <td>NaN</td>\n",
       "      <td>3.455556</td>\n",
       "      <td>3.311111</td>\n",
       "      <td>53719.577778</td>\n",
       "      <td>103.194444</td>\n",
       "    </tr>\n",
       "    <tr>\n",
       "      <th>std</th>\n",
       "      <td>NaN</td>\n",
       "      <td>6.943498</td>\n",
       "      <td>NaN</td>\n",
       "      <td>1.617055</td>\n",
       "      <td>NaN</td>\n",
       "      <td>1.084797</td>\n",
       "      <td>0.958869</td>\n",
       "      <td>16506.684226</td>\n",
       "      <td>51.863605</td>\n",
       "    </tr>\n",
       "    <tr>\n",
       "      <th>min</th>\n",
       "      <td>NaN</td>\n",
       "      <td>18.000000</td>\n",
       "      <td>NaN</td>\n",
       "      <td>12.000000</td>\n",
       "      <td>NaN</td>\n",
       "      <td>2.000000</td>\n",
       "      <td>1.000000</td>\n",
       "      <td>29562.000000</td>\n",
       "      <td>21.000000</td>\n",
       "    </tr>\n",
       "    <tr>\n",
       "      <th>25%</th>\n",
       "      <td>NaN</td>\n",
       "      <td>24.000000</td>\n",
       "      <td>NaN</td>\n",
       "      <td>14.000000</td>\n",
       "      <td>NaN</td>\n",
       "      <td>3.000000</td>\n",
       "      <td>3.000000</td>\n",
       "      <td>44058.750000</td>\n",
       "      <td>66.000000</td>\n",
       "    </tr>\n",
       "    <tr>\n",
       "      <th>50%</th>\n",
       "      <td>NaN</td>\n",
       "      <td>26.000000</td>\n",
       "      <td>NaN</td>\n",
       "      <td>16.000000</td>\n",
       "      <td>NaN</td>\n",
       "      <td>3.000000</td>\n",
       "      <td>3.000000</td>\n",
       "      <td>50596.500000</td>\n",
       "      <td>94.000000</td>\n",
       "    </tr>\n",
       "    <tr>\n",
       "      <th>75%</th>\n",
       "      <td>NaN</td>\n",
       "      <td>33.000000</td>\n",
       "      <td>NaN</td>\n",
       "      <td>16.000000</td>\n",
       "      <td>NaN</td>\n",
       "      <td>4.000000</td>\n",
       "      <td>4.000000</td>\n",
       "      <td>58668.000000</td>\n",
       "      <td>114.750000</td>\n",
       "    </tr>\n",
       "    <tr>\n",
       "      <th>max</th>\n",
       "      <td>NaN</td>\n",
       "      <td>50.000000</td>\n",
       "      <td>NaN</td>\n",
       "      <td>21.000000</td>\n",
       "      <td>NaN</td>\n",
       "      <td>7.000000</td>\n",
       "      <td>5.000000</td>\n",
       "      <td>104581.000000</td>\n",
       "      <td>360.000000</td>\n",
       "    </tr>\n",
       "  </tbody>\n",
       "</table>\n",
       "</div>"
      ],
      "text/plain": [
       "       Product         Age Gender   Education MaritalStatus       Usage  \\\n",
       "count      180  180.000000    180  180.000000           180  180.000000   \n",
       "unique       3         NaN      2         NaN             2         NaN   \n",
       "top      TM195         NaN   Male         NaN     Partnered         NaN   \n",
       "freq        80         NaN    104         NaN           107         NaN   \n",
       "mean       NaN   28.788889    NaN   15.572222           NaN    3.455556   \n",
       "std        NaN    6.943498    NaN    1.617055           NaN    1.084797   \n",
       "min        NaN   18.000000    NaN   12.000000           NaN    2.000000   \n",
       "25%        NaN   24.000000    NaN   14.000000           NaN    3.000000   \n",
       "50%        NaN   26.000000    NaN   16.000000           NaN    3.000000   \n",
       "75%        NaN   33.000000    NaN   16.000000           NaN    4.000000   \n",
       "max        NaN   50.000000    NaN   21.000000           NaN    7.000000   \n",
       "\n",
       "           Fitness         Income       Miles  \n",
       "count   180.000000     180.000000  180.000000  \n",
       "unique         NaN            NaN         NaN  \n",
       "top            NaN            NaN         NaN  \n",
       "freq           NaN            NaN         NaN  \n",
       "mean      3.311111   53719.577778  103.194444  \n",
       "std       0.958869   16506.684226   51.863605  \n",
       "min       1.000000   29562.000000   21.000000  \n",
       "25%       3.000000   44058.750000   66.000000  \n",
       "50%       3.000000   50596.500000   94.000000  \n",
       "75%       4.000000   58668.000000  114.750000  \n",
       "max       5.000000  104581.000000  360.000000  "
      ]
     },
     "execution_count": 7,
     "metadata": {},
     "output_type": "execute_result"
    }
   ],
   "source": [
    "customer_fit_df.describe(include='all')\n"
   ]
  },
  {
   "cell_type": "code",
   "execution_count": 8,
   "metadata": {
    "execution": {
     "iopub.execute_input": "2020-08-30T17:02:39.296614Z",
     "iopub.status.busy": "2020-08-30T17:02:39.295544Z",
     "iopub.status.idle": "2020-08-30T17:02:39.298884Z",
     "shell.execute_reply": "2020-08-30T17:02:39.298234Z"
    },
    "papermill": {
     "duration": 0.02055,
     "end_time": "2020-08-30T17:02:39.299009",
     "exception": false,
     "start_time": "2020-08-30T17:02:39.278459",
     "status": "completed"
    },
    "tags": []
   },
   "outputs": [],
   "source": [
    "#By Default, the describe method omits the non numeric values when .describe() method is called. \n",
    "#include='all' here, also includes categorical value.\n",
    "\n",
    "#Following observations can be made :\n",
    "#    1. No value is null (Or values like Age, income,are all > 0 indicating that all are genuine values)\n",
    "#    2. TM195 is the highest purchased product (In the describe method, if multiple categories are highest, arbitrarily one of them is chosen)\n",
    "#    3. freq is the frequency of the 'top' value mentioned above\n",
    "#    4. More number of Males are present in the data than female\n",
    "#    5. Marital Status that is highest in the data is Parterned\n",
    "\n",
    "#    For more info on .descibe() method, refer : https://pandas.pydata.org/pandas-docs/stable/reference/api/pandas.DataFrame.describe.html"
   ]
  },
  {
   "cell_type": "markdown",
   "execution_count": null,
   "metadata": {
    "papermill": {
     "duration": 0.012463,
     "end_time": "2020-08-30T17:02:39.324186",
     "exception": false,
     "start_time": "2020-08-30T17:02:39.311723",
     "status": "completed"
    },
    "tags": []
   },
   "source": [
    "Let's check Data Distribution productwise (We have deduced from Above data that TM195 is max, let's check for other products)"
   ]
  },
  {
   "cell_type": "code",
   "execution_count": 9,
   "metadata": {
    "execution": {
     "iopub.execute_input": "2020-08-30T17:02:39.366993Z",
     "iopub.status.busy": "2020-08-30T17:02:39.361555Z",
     "iopub.status.idle": "2020-08-30T17:02:39.486042Z",
     "shell.execute_reply": "2020-08-30T17:02:39.485280Z"
    },
    "papermill": {
     "duration": 0.149139,
     "end_time": "2020-08-30T17:02:39.486166",
     "exception": false,
     "start_time": "2020-08-30T17:02:39.337027",
     "status": "completed"
    },
    "tags": []
   },
   "outputs": [
    {
     "data": {
      "text/plain": [
       "<BarContainer object of 3 artists>"
      ]
     },
     "execution_count": 9,
     "metadata": {},
     "output_type": "execute_result"
    },
    {
     "data": {
      "image/png": "[encoded data removed]",
      "text/plain": [
       "<Figure size 432x288 with 1 Axes>"
      ]
     },
     "metadata": {
      "needs_background": "light"
     },
     "output_type": "display_data"
    }
   ],
   "source": [
    "product_names=customer_fit_df['Product'].unique()\n",
    "product_count=customer_fit_df['Product'].value_counts()\n",
    "plt.bar(product_names,product_count)"
   ]
  },
  {
   "cell_type": "code",
   "execution_count": 10,
   "metadata": {
    "execution": {
     "iopub.execute_input": "2020-08-30T17:02:39.528539Z",
     "iopub.status.busy": "2020-08-30T17:02:39.519900Z",
     "iopub.status.idle": "2020-08-30T17:02:39.632006Z",
     "shell.execute_reply": "2020-08-30T17:02:39.631357Z"
    },
    "papermill": {
     "duration": 0.132682,
     "end_time": "2020-08-30T17:02:39.632130",
     "exception": false,
     "start_time": "2020-08-30T17:02:39.499448",
     "status": "completed"
    },
    "tags": []
   },
   "outputs": [
    {
     "data": {
      "text/plain": [
       "<BarContainer object of 2 artists>"
      ]
     },
     "execution_count": 10,
     "metadata": {},
     "output_type": "execute_result"
    },
    {
     "data": {
      "image/png": "[encoded data removed]",
      "text/plain": [
       "<Figure size 432x288 with 1 Axes>"
      ]
     },
     "metadata": {
      "needs_background": "light"
     },
     "output_type": "display_data"
    }
   ],
   "source": [
    "gender_type = customer_fit_df['Gender'].unique()\n",
    "gender_distibution =customer_fit_df['Gender'].value_counts()\n",
    "plt.bar(gender_type, gender_distibution)"
   ]
  },
  {
   "cell_type": "markdown",
   "execution_count": null,
   "metadata": {
    "papermill": {
     "duration": 0.013243,
     "end_time": "2020-08-30T17:02:39.659001",
     "exception": false,
     "start_time": "2020-08-30T17:02:39.645758",
     "status": "completed"
    },
    "tags": []
   },
   "source": [
    "Normal Distributiun for Education"
   ]
  },
  {
   "cell_type": "code",
   "execution_count": 11,
   "metadata": {
    "execution": {
     "iopub.execute_input": "2020-08-30T17:02:39.692090Z",
     "iopub.status.busy": "2020-08-30T17:02:39.691237Z",
     "iopub.status.idle": "2020-08-30T17:02:39.695547Z",
     "shell.execute_reply": "2020-08-30T17:02:39.694909Z"
    },
    "papermill": {
     "duration": 0.023085,
     "end_time": "2020-08-30T17:02:39.695668",
     "exception": false,
     "start_time": "2020-08-30T17:02:39.672583",
     "status": "completed"
    },
    "tags": []
   },
   "outputs": [
    {
     "data": {
      "text/plain": [
       "8"
      ]
     },
     "execution_count": 11,
     "metadata": {},
     "output_type": "execute_result"
    }
   ],
   "source": [
    "customer_fit_df['Education'].nunique()"
   ]
  },
  {
   "cell_type": "markdown",
   "execution_count": null,
   "metadata": {
    "papermill": {
     "duration": 0.013533,
     "end_time": "2020-08-30T17:02:39.722842",
     "exception": false,
     "start_time": "2020-08-30T17:02:39.709309",
     "status": "completed"
    },
    "tags": []
   },
   "source": [
    "There are 8 unique years of education, these can be plotted on a bar plot"
   ]
  },
  {
   "cell_type": "code",
   "execution_count": 12,
   "metadata": {
    "execution": {
     "iopub.execute_input": "2020-08-30T17:02:39.766041Z",
     "iopub.status.busy": "2020-08-30T17:02:39.765271Z",
     "iopub.status.idle": "2020-08-30T17:02:39.919234Z",
     "shell.execute_reply": "2020-08-30T17:02:39.918594Z"
    },
    "papermill": {
     "duration": 0.182918,
     "end_time": "2020-08-30T17:02:39.919364",
     "exception": false,
     "start_time": "2020-08-30T17:02:39.736446",
     "status": "completed"
    },
    "tags": []
   },
   "outputs": [
    {
     "data": {
      "text/plain": [
       "<matplotlib.axes._subplots.AxesSubplot at 0x7f47067e06d0>"
      ]
     },
     "execution_count": 12,
     "metadata": {},
     "output_type": "execute_result"
    },
    {
     "data": {
      "image/png": "[encoded data removed]",
      "text/plain": [
       "<Figure size 432x288 with 1 Axes>"
      ]
     },
     "metadata": {
      "needs_background": "light"
     },
     "output_type": "display_data"
    }
   ],
   "source": [
    "customer_fit_df['Education'].value_counts().plot(kind='bar')"
   ]
  },
  {
   "cell_type": "code",
   "execution_count": 13,
   "metadata": {
    "execution": {
     "iopub.execute_input": "2020-08-30T17:02:39.960013Z",
     "iopub.status.busy": "2020-08-30T17:02:39.959212Z",
     "iopub.status.idle": "2020-08-30T17:02:40.142448Z",
     "shell.execute_reply": "2020-08-30T17:02:40.143002Z"
    },
    "papermill": {
     "duration": 0.209464,
     "end_time": "2020-08-30T17:02:40.143167",
     "exception": false,
     "start_time": "2020-08-30T17:02:39.933703",
     "status": "completed"
    },
    "tags": []
   },
   "outputs": [
    {
     "data": {
      "text/plain": [
       "<BarContainer object of 2 artists>"
      ]
     },
     "execution_count": 13,
     "metadata": {},
     "output_type": "execute_result"
    },
    {
     "data": {
      "image/png": "[encoded data removed]",
      "text/plain": [
       "<Figure size 432x288 with 1 Axes>"
      ]
     },
     "metadata": {
      "needs_background": "light"
     },
     "output_type": "display_data"
    }
   ],
   "source": [
    "marital_status = customer_fit_df['MaritalStatus'].unique()\n",
    "marital_status_values = customer_fit_df['MaritalStatus'].value_counts()\n",
    "plt.bar(marital_status,marital_status_values)"
   ]
  },
  {
   "cell_type": "code",
   "execution_count": 14,
   "metadata": {
    "execution": {
     "iopub.execute_input": "2020-08-30T17:02:40.183676Z",
     "iopub.status.busy": "2020-08-30T17:02:40.182938Z",
     "iopub.status.idle": "2020-08-30T17:02:40.361467Z",
     "shell.execute_reply": "2020-08-30T17:02:40.362015Z"
    },
    "papermill": {
     "duration": 0.204274,
     "end_time": "2020-08-30T17:02:40.362182",
     "exception": false,
     "start_time": "2020-08-30T17:02:40.157908",
     "status": "completed"
    },
    "tags": []
   },
   "outputs": [
    {
     "data": {
      "text/plain": [
       "(array([23., 26., 48., 41., 15.,  5.,  3.,  5., 10.,  4.]),\n",
       " array([ 29562. ,  37063.9,  44565.8,  52067.7,  59569.6,  67071.5,\n",
       "         74573.4,  82075.3,  89577.2,  97079.1, 104581. ]),\n",
       " <a list of 10 Patch objects>)"
      ]
     },
     "execution_count": 14,
     "metadata": {},
     "output_type": "execute_result"
    },
    {
     "data": {
      "image/png": "[encoded data removed]",
      "text/plain": [
       "<Figure size 432x288 with 1 Axes>"
      ]
     },
     "metadata": {
      "needs_background": "light"
     },
     "output_type": "display_data"
    }
   ],
   "source": [
    "plt.hist(customer_fit_df['Income'])"
   ]
  },
  {
   "cell_type": "code",
   "execution_count": 15,
   "metadata": {
    "execution": {
     "iopub.execute_input": "2020-08-30T17:02:40.403281Z",
     "iopub.status.busy": "2020-08-30T17:02:40.401970Z",
     "iopub.status.idle": "2020-08-30T17:02:40.526231Z",
     "shell.execute_reply": "2020-08-30T17:02:40.525308Z"
    },
    "papermill": {
     "duration": 0.149215,
     "end_time": "2020-08-30T17:02:40.526415",
     "exception": false,
     "start_time": "2020-08-30T17:02:40.377200",
     "status": "completed"
    },
    "tags": []
   },
   "outputs": [
    {
     "data": {
      "text/plain": [
       "{'whiskers': [<matplotlib.lines.Line2D at 0x7f47065fe190>,\n",
       "  <matplotlib.lines.Line2D at 0x7f47065fe6d0>],\n",
       " 'caps': [<matplotlib.lines.Line2D at 0x7f47065fec10>,\n",
       "  <matplotlib.lines.Line2D at 0x7f4706605190>],\n",
       " 'boxes': [<matplotlib.lines.Line2D at 0x7f4706674c50>],\n",
       " 'medians': [<matplotlib.lines.Line2D at 0x7f4706605710>],\n",
       " 'fliers': [<matplotlib.lines.Line2D at 0x7f4706605c50>],\n",
       " 'means': []}"
      ]
     },
     "execution_count": 15,
     "metadata": {},
     "output_type": "execute_result"
    },
    {
     "data": {
      "image/png": "[encoded data removed]",
      "text/plain": [
       "<Figure size 432x288 with 1 Axes>"
      ]
     },
     "metadata": {
      "needs_background": "light"
     },
     "output_type": "display_data"
    }
   ],
   "source": [
    "plt.boxplot(customer_fit_df['Income'])"
   ]
  },
  {
   "cell_type": "code",
   "execution_count": 16,
   "metadata": {
    "execution": {
     "iopub.execute_input": "2020-08-30T17:02:40.567665Z",
     "iopub.status.busy": "2020-08-30T17:02:40.566933Z",
     "iopub.status.idle": "2020-08-30T17:02:40.582003Z",
     "shell.execute_reply": "2020-08-30T17:02:40.581346Z"
    },
    "papermill": {
     "duration": 0.038867,
     "end_time": "2020-08-30T17:02:40.582136",
     "exception": false,
     "start_time": "2020-08-30T17:02:40.543269",
     "status": "completed"
    },
    "tags": []
   },
   "outputs": [],
   "source": [
    "customer_fit_df_copy = customer_fit_df.copy(deep=True) \n",
    "lower_bound = customer_fit_df_copy.quantile(0.25)\n",
    "upper_bound = customer_fit_df_copy.quantile(0.75)\n",
    "IQR = upper_bound - lower_bound\n",
    "customer_fit_df = customer_fit_df_copy[~((customer_fit_df_copy < lower_bound- 1.5* IQR ) |  (customer_fit_df_copy > upper_bound+ 1.5* IQR )).any(axis=1)]"
   ]
  },
  {
   "cell_type": "code",
   "execution_count": 17,
   "metadata": {
    "execution": {
     "iopub.execute_input": "2020-08-30T17:02:40.626348Z",
     "iopub.status.busy": "2020-08-30T17:02:40.618800Z",
     "iopub.status.idle": "2020-08-30T17:02:40.801504Z",
     "shell.execute_reply": "2020-08-30T17:02:40.800716Z"
    },
    "papermill": {
     "duration": 0.203956,
     "end_time": "2020-08-30T17:02:40.801631",
     "exception": false,
     "start_time": "2020-08-30T17:02:40.597675",
     "status": "completed"
    },
    "tags": []
   },
   "outputs": [
    {
     "data": {
      "text/plain": [
       "<BarContainer object of 4 artists>"
      ]
     },
     "execution_count": 17,
     "metadata": {},
     "output_type": "execute_result"
    },
    {
     "data": {
      "image/png": "[encoded data removed]",
      "text/plain": [
       "<Figure size 432x288 with 1 Axes>"
      ]
     },
     "metadata": {
      "needs_background": "light"
     },
     "output_type": "display_data"
    }
   ],
   "source": [
    "usage_measures = customer_fit_df['Usage'].unique()\n",
    "usage_measures_values = customer_fit_df['Usage'].value_counts()\n",
    "plt.bar(usage_measures,usage_measures_values)"
   ]
  },
  {
   "cell_type": "code",
   "execution_count": 18,
   "metadata": {
    "execution": {
     "iopub.execute_input": "2020-08-30T17:02:40.848545Z",
     "iopub.status.busy": "2020-08-30T17:02:40.847489Z",
     "iopub.status.idle": "2020-08-30T17:02:41.004002Z",
     "shell.execute_reply": "2020-08-30T17:02:41.003371Z"
    },
    "papermill": {
     "duration": 0.186623,
     "end_time": "2020-08-30T17:02:41.004125",
     "exception": false,
     "start_time": "2020-08-30T17:02:40.817502",
     "status": "completed"
    },
    "tags": []
   },
   "outputs": [
    {
     "data": {
      "text/plain": [
       "<BarContainer object of 4 artists>"
      ]
     },
     "execution_count": 18,
     "metadata": {},
     "output_type": "execute_result"
    },
    {
     "data": {
      "image/png": "[encoded data removed]",
      "text/plain": [
       "<Figure size 432x288 with 1 Axes>"
      ]
     },
     "metadata": {
      "needs_background": "light"
     },
     "output_type": "display_data"
    }
   ],
   "source": [
    "Fitness_measure = customer_fit_df['Fitness'].unique()\n",
    "Fitness_measures_values = customer_fit_df['Fitness'].value_counts()\n",
    "plt.bar(Fitness_measure,Fitness_measures_values)"
   ]
  },
  {
   "cell_type": "code",
   "execution_count": 19,
   "metadata": {
    "execution": {
     "iopub.execute_input": "2020-08-30T17:02:41.041898Z",
     "iopub.status.busy": "2020-08-30T17:02:41.041166Z",
     "iopub.status.idle": "2020-08-30T17:02:41.139460Z",
     "shell.execute_reply": "2020-08-30T17:02:41.140001Z"
    },
    "papermill": {
     "duration": 0.119915,
     "end_time": "2020-08-30T17:02:41.140163",
     "exception": false,
     "start_time": "2020-08-30T17:02:41.020248",
     "status": "completed"
    },
    "tags": []
   },
   "outputs": [
    {
     "data": {
      "text/plain": [
       "LabelEncoder()"
      ]
     },
     "execution_count": 19,
     "metadata": {},
     "output_type": "execute_result"
    }
   ],
   "source": [
    "from sklearn.preprocessing import LabelEncoder\n",
    "le = LabelEncoder()\n",
    "le.fit(customer_fit_df['MaritalStatus'])"
   ]
  },
  {
   "cell_type": "code",
   "execution_count": 20,
   "metadata": {
    "execution": {
     "iopub.execute_input": "2020-08-30T17:02:41.179189Z",
     "iopub.status.busy": "2020-08-30T17:02:41.178438Z",
     "iopub.status.idle": "2020-08-30T17:02:41.183384Z",
     "shell.execute_reply": "2020-08-30T17:02:41.181334Z"
    },
    "papermill": {
     "duration": 0.026885,
     "end_time": "2020-08-30T17:02:41.183540",
     "exception": false,
     "start_time": "2020-08-30T17:02:41.156655",
     "status": "completed"
    },
    "tags": []
   },
   "outputs": [
    {
     "name": "stderr",
     "output_type": "stream",
     "text": [
      "/opt/conda/lib/python3.7/site-packages/ipykernel_launcher.py:1: SettingWithCopyWarning: \n",
      "A value is trying to be set on a copy of a slice from a DataFrame.\n",
      "Try using .loc[row_indexer,col_indexer] = value instead\n",
      "\n",
      "See the caveats in the documentation: https://pandas.pydata.org/pandas-docs/stable/user_guide/indexing.html#returning-a-view-versus-a-copy\n",
      "  \"\"\"Entry point for launching an IPython kernel.\n"
     ]
    }
   ],
   "source": [
    "customer_fit_df['MaritalStatus'] = le.transform(customer_fit_df['MaritalStatus'])"
   ]
  },
  {
   "cell_type": "code",
   "execution_count": 21,
   "metadata": {
    "execution": {
     "iopub.execute_input": "2020-08-30T17:02:41.224320Z",
     "iopub.status.busy": "2020-08-30T17:02:41.223374Z",
     "iopub.status.idle": "2020-08-30T17:02:41.227731Z",
     "shell.execute_reply": "2020-08-30T17:02:41.226805Z"
    },
    "papermill": {
     "duration": 0.027104,
     "end_time": "2020-08-30T17:02:41.227906",
     "exception": false,
     "start_time": "2020-08-30T17:02:41.200802",
     "status": "completed"
    },
    "tags": []
   },
   "outputs": [
    {
     "name": "stderr",
     "output_type": "stream",
     "text": [
      "/opt/conda/lib/python3.7/site-packages/ipykernel_launcher.py:3: SettingWithCopyWarning: \n",
      "A value is trying to be set on a copy of a slice from a DataFrame.\n",
      "Try using .loc[row_indexer,col_indexer] = value instead\n",
      "\n",
      "See the caveats in the documentation: https://pandas.pydata.org/pandas-docs/stable/user_guide/indexing.html#returning-a-view-versus-a-copy\n",
      "  This is separate from the ipykernel package so we can avoid doing imports until\n"
     ]
    }
   ],
   "source": [
    "le1 = LabelEncoder()\n",
    "le1.fit(customer_fit_df['Product'])\n",
    "customer_fit_df['Product'] = le1.transform(customer_fit_df['Product'])"
   ]
  },
  {
   "cell_type": "code",
   "execution_count": 22,
   "metadata": {
    "execution": {
     "iopub.execute_input": "2020-08-30T17:02:41.274983Z",
     "iopub.status.busy": "2020-08-30T17:02:41.273991Z",
     "iopub.status.idle": "2020-08-30T17:02:41.280858Z",
     "shell.execute_reply": "2020-08-30T17:02:41.277972Z"
    },
    "papermill": {
     "duration": 0.035813,
     "end_time": "2020-08-30T17:02:41.281015",
     "exception": false,
     "start_time": "2020-08-30T17:02:41.245202",
     "status": "completed"
    },
    "tags": []
   },
   "outputs": [
    {
     "name": "stderr",
     "output_type": "stream",
     "text": [
      "/opt/conda/lib/python3.7/site-packages/ipykernel_launcher.py:2: SettingWithCopyWarning: \n",
      "A value is trying to be set on a copy of a slice from a DataFrame.\n",
      "Try using .loc[row_indexer,col_indexer] = value instead\n",
      "\n",
      "See the caveats in the documentation: https://pandas.pydata.org/pandas-docs/stable/user_guide/indexing.html#returning-a-view-versus-a-copy\n",
      "  \n"
     ]
    }
   ],
   "source": [
    "le1 = LabelEncoder()\n",
    "customer_fit_df['Gender'] = le1.fit_transform(customer_fit_df['Gender'])"
   ]
  },
  {
   "cell_type": "code",
   "execution_count": 23,
   "metadata": {
    "execution": {
     "iopub.execute_input": "2020-08-30T17:02:41.329197Z",
     "iopub.status.busy": "2020-08-30T17:02:41.328064Z",
     "iopub.status.idle": "2020-08-30T17:02:41.334472Z",
     "shell.execute_reply": "2020-08-30T17:02:41.333867Z"
    },
    "papermill": {
     "duration": 0.0334,
     "end_time": "2020-08-30T17:02:41.334612",
     "exception": false,
     "start_time": "2020-08-30T17:02:41.301212",
     "status": "completed"
    },
    "tags": []
   },
   "outputs": [
    {
     "data": {
      "text/plain": [
       "0      1\n",
       "1      1\n",
       "2      0\n",
       "3      1\n",
       "4      1\n",
       "      ..\n",
       "150    1\n",
       "151    1\n",
       "153    1\n",
       "158    1\n",
       "165    1\n",
       "Name: Gender, Length: 146, dtype: int64"
      ]
     },
     "execution_count": 23,
     "metadata": {},
     "output_type": "execute_result"
    }
   ],
   "source": [
    "customer_fit_df['Gender']"
   ]
  },
  {
   "cell_type": "code",
   "execution_count": 24,
   "metadata": {
    "execution": {
     "iopub.execute_input": "2020-08-30T17:02:41.387886Z",
     "iopub.status.busy": "2020-08-30T17:02:41.386831Z",
     "iopub.status.idle": "2020-08-30T17:02:41.392432Z",
     "shell.execute_reply": "2020-08-30T17:02:41.391532Z"
    },
    "papermill": {
     "duration": 0.03596,
     "end_time": "2020-08-30T17:02:41.392626",
     "exception": false,
     "start_time": "2020-08-30T17:02:41.356666",
     "status": "completed"
    },
    "tags": []
   },
   "outputs": [
    {
     "data": {
      "text/plain": [
       "0      0\n",
       "1      0\n",
       "2      0\n",
       "3      0\n",
       "4      0\n",
       "      ..\n",
       "150    2\n",
       "151    2\n",
       "153    2\n",
       "158    2\n",
       "165    2\n",
       "Name: Product, Length: 146, dtype: int64"
      ]
     },
     "execution_count": 24,
     "metadata": {},
     "output_type": "execute_result"
    }
   ],
   "source": [
    "customer_fit_df['Product']"
   ]
  },
  {
   "cell_type": "code",
   "execution_count": 25,
   "metadata": {
    "execution": {
     "iopub.execute_input": "2020-08-30T17:02:41.459468Z",
     "iopub.status.busy": "2020-08-30T17:02:41.458695Z",
     "iopub.status.idle": "2020-08-30T17:02:41.463154Z",
     "shell.execute_reply": "2020-08-30T17:02:41.463718Z"
    },
    "papermill": {
     "duration": 0.048881,
     "end_time": "2020-08-30T17:02:41.463885",
     "exception": false,
     "start_time": "2020-08-30T17:02:41.415004",
     "status": "completed"
    },
    "tags": []
   },
   "outputs": [
    {
     "data": {
      "text/html": [
       "<div>\n",
       "<style scoped>\n",
       "    .dataframe tbody tr th:only-of-type {\n",
       "        vertical-align: middle;\n",
       "    }\n",
       "\n",
       "    .dataframe tbody tr th {\n",
       "        vertical-align: top;\n",
       "    }\n",
       "\n",
       "    .dataframe thead th {\n",
       "        text-align: right;\n",
       "    }\n",
       "</style>\n",
       "<table border=\"1\" class=\"dataframe\">\n",
       "  <thead>\n",
       "    <tr style=\"text-align: right;\">\n",
       "      <th></th>\n",
       "      <th>Product</th>\n",
       "      <th>Age</th>\n",
       "      <th>Gender</th>\n",
       "      <th>Education</th>\n",
       "      <th>MaritalStatus</th>\n",
       "      <th>Usage</th>\n",
       "      <th>Fitness</th>\n",
       "      <th>Income</th>\n",
       "      <th>Miles</th>\n",
       "    </tr>\n",
       "  </thead>\n",
       "  <tbody>\n",
       "    <tr>\n",
       "      <th>0</th>\n",
       "      <td>0</td>\n",
       "      <td>18</td>\n",
       "      <td>1</td>\n",
       "      <td>14</td>\n",
       "      <td>1</td>\n",
       "      <td>3</td>\n",
       "      <td>4</td>\n",
       "      <td>29562</td>\n",
       "      <td>112</td>\n",
       "    </tr>\n",
       "    <tr>\n",
       "      <th>1</th>\n",
       "      <td>0</td>\n",
       "      <td>19</td>\n",
       "      <td>1</td>\n",
       "      <td>15</td>\n",
       "      <td>1</td>\n",
       "      <td>2</td>\n",
       "      <td>3</td>\n",
       "      <td>31836</td>\n",
       "      <td>75</td>\n",
       "    </tr>\n",
       "    <tr>\n",
       "      <th>2</th>\n",
       "      <td>0</td>\n",
       "      <td>19</td>\n",
       "      <td>0</td>\n",
       "      <td>14</td>\n",
       "      <td>0</td>\n",
       "      <td>4</td>\n",
       "      <td>3</td>\n",
       "      <td>30699</td>\n",
       "      <td>66</td>\n",
       "    </tr>\n",
       "    <tr>\n",
       "      <th>3</th>\n",
       "      <td>0</td>\n",
       "      <td>19</td>\n",
       "      <td>1</td>\n",
       "      <td>12</td>\n",
       "      <td>1</td>\n",
       "      <td>3</td>\n",
       "      <td>3</td>\n",
       "      <td>32973</td>\n",
       "      <td>85</td>\n",
       "    </tr>\n",
       "    <tr>\n",
       "      <th>4</th>\n",
       "      <td>0</td>\n",
       "      <td>20</td>\n",
       "      <td>1</td>\n",
       "      <td>13</td>\n",
       "      <td>0</td>\n",
       "      <td>4</td>\n",
       "      <td>2</td>\n",
       "      <td>35247</td>\n",
       "      <td>47</td>\n",
       "    </tr>\n",
       "    <tr>\n",
       "      <th>5</th>\n",
       "      <td>0</td>\n",
       "      <td>20</td>\n",
       "      <td>0</td>\n",
       "      <td>14</td>\n",
       "      <td>0</td>\n",
       "      <td>3</td>\n",
       "      <td>3</td>\n",
       "      <td>32973</td>\n",
       "      <td>66</td>\n",
       "    </tr>\n",
       "    <tr>\n",
       "      <th>6</th>\n",
       "      <td>0</td>\n",
       "      <td>21</td>\n",
       "      <td>0</td>\n",
       "      <td>14</td>\n",
       "      <td>0</td>\n",
       "      <td>3</td>\n",
       "      <td>3</td>\n",
       "      <td>35247</td>\n",
       "      <td>75</td>\n",
       "    </tr>\n",
       "    <tr>\n",
       "      <th>7</th>\n",
       "      <td>0</td>\n",
       "      <td>21</td>\n",
       "      <td>1</td>\n",
       "      <td>13</td>\n",
       "      <td>1</td>\n",
       "      <td>3</td>\n",
       "      <td>3</td>\n",
       "      <td>32973</td>\n",
       "      <td>85</td>\n",
       "    </tr>\n",
       "    <tr>\n",
       "      <th>8</th>\n",
       "      <td>0</td>\n",
       "      <td>21</td>\n",
       "      <td>1</td>\n",
       "      <td>15</td>\n",
       "      <td>1</td>\n",
       "      <td>5</td>\n",
       "      <td>4</td>\n",
       "      <td>35247</td>\n",
       "      <td>141</td>\n",
       "    </tr>\n",
       "    <tr>\n",
       "      <th>9</th>\n",
       "      <td>0</td>\n",
       "      <td>21</td>\n",
       "      <td>0</td>\n",
       "      <td>15</td>\n",
       "      <td>0</td>\n",
       "      <td>2</td>\n",
       "      <td>3</td>\n",
       "      <td>37521</td>\n",
       "      <td>85</td>\n",
       "    </tr>\n",
       "    <tr>\n",
       "      <th>10</th>\n",
       "      <td>0</td>\n",
       "      <td>22</td>\n",
       "      <td>1</td>\n",
       "      <td>14</td>\n",
       "      <td>1</td>\n",
       "      <td>3</td>\n",
       "      <td>3</td>\n",
       "      <td>36384</td>\n",
       "      <td>85</td>\n",
       "    </tr>\n",
       "    <tr>\n",
       "      <th>11</th>\n",
       "      <td>0</td>\n",
       "      <td>22</td>\n",
       "      <td>0</td>\n",
       "      <td>14</td>\n",
       "      <td>0</td>\n",
       "      <td>3</td>\n",
       "      <td>2</td>\n",
       "      <td>35247</td>\n",
       "      <td>66</td>\n",
       "    </tr>\n",
       "    <tr>\n",
       "      <th>12</th>\n",
       "      <td>0</td>\n",
       "      <td>22</td>\n",
       "      <td>0</td>\n",
       "      <td>16</td>\n",
       "      <td>1</td>\n",
       "      <td>4</td>\n",
       "      <td>3</td>\n",
       "      <td>36384</td>\n",
       "      <td>75</td>\n",
       "    </tr>\n",
       "    <tr>\n",
       "      <th>13</th>\n",
       "      <td>0</td>\n",
       "      <td>22</td>\n",
       "      <td>0</td>\n",
       "      <td>14</td>\n",
       "      <td>1</td>\n",
       "      <td>3</td>\n",
       "      <td>3</td>\n",
       "      <td>35247</td>\n",
       "      <td>75</td>\n",
       "    </tr>\n",
       "    <tr>\n",
       "      <th>15</th>\n",
       "      <td>0</td>\n",
       "      <td>23</td>\n",
       "      <td>1</td>\n",
       "      <td>16</td>\n",
       "      <td>0</td>\n",
       "      <td>3</td>\n",
       "      <td>3</td>\n",
       "      <td>40932</td>\n",
       "      <td>75</td>\n",
       "    </tr>\n",
       "    <tr>\n",
       "      <th>16</th>\n",
       "      <td>0</td>\n",
       "      <td>23</td>\n",
       "      <td>0</td>\n",
       "      <td>14</td>\n",
       "      <td>1</td>\n",
       "      <td>2</td>\n",
       "      <td>3</td>\n",
       "      <td>34110</td>\n",
       "      <td>103</td>\n",
       "    </tr>\n",
       "    <tr>\n",
       "      <th>17</th>\n",
       "      <td>0</td>\n",
       "      <td>23</td>\n",
       "      <td>1</td>\n",
       "      <td>16</td>\n",
       "      <td>0</td>\n",
       "      <td>4</td>\n",
       "      <td>3</td>\n",
       "      <td>39795</td>\n",
       "      <td>94</td>\n",
       "    </tr>\n",
       "    <tr>\n",
       "      <th>18</th>\n",
       "      <td>0</td>\n",
       "      <td>23</td>\n",
       "      <td>0</td>\n",
       "      <td>16</td>\n",
       "      <td>1</td>\n",
       "      <td>4</td>\n",
       "      <td>3</td>\n",
       "      <td>38658</td>\n",
       "      <td>113</td>\n",
       "    </tr>\n",
       "    <tr>\n",
       "      <th>19</th>\n",
       "      <td>0</td>\n",
       "      <td>23</td>\n",
       "      <td>0</td>\n",
       "      <td>15</td>\n",
       "      <td>0</td>\n",
       "      <td>2</td>\n",
       "      <td>2</td>\n",
       "      <td>34110</td>\n",
       "      <td>38</td>\n",
       "    </tr>\n",
       "    <tr>\n",
       "      <th>20</th>\n",
       "      <td>0</td>\n",
       "      <td>23</td>\n",
       "      <td>1</td>\n",
       "      <td>14</td>\n",
       "      <td>1</td>\n",
       "      <td>4</td>\n",
       "      <td>3</td>\n",
       "      <td>38658</td>\n",
       "      <td>113</td>\n",
       "    </tr>\n",
       "    <tr>\n",
       "      <th>21</th>\n",
       "      <td>0</td>\n",
       "      <td>23</td>\n",
       "      <td>1</td>\n",
       "      <td>16</td>\n",
       "      <td>1</td>\n",
       "      <td>4</td>\n",
       "      <td>3</td>\n",
       "      <td>40932</td>\n",
       "      <td>94</td>\n",
       "    </tr>\n",
       "    <tr>\n",
       "      <th>22</th>\n",
       "      <td>0</td>\n",
       "      <td>24</td>\n",
       "      <td>0</td>\n",
       "      <td>16</td>\n",
       "      <td>1</td>\n",
       "      <td>4</td>\n",
       "      <td>3</td>\n",
       "      <td>42069</td>\n",
       "      <td>94</td>\n",
       "    </tr>\n",
       "    <tr>\n",
       "      <th>24</th>\n",
       "      <td>0</td>\n",
       "      <td>24</td>\n",
       "      <td>1</td>\n",
       "      <td>14</td>\n",
       "      <td>1</td>\n",
       "      <td>2</td>\n",
       "      <td>3</td>\n",
       "      <td>45480</td>\n",
       "      <td>113</td>\n",
       "    </tr>\n",
       "    <tr>\n",
       "      <th>25</th>\n",
       "      <td>0</td>\n",
       "      <td>24</td>\n",
       "      <td>1</td>\n",
       "      <td>13</td>\n",
       "      <td>0</td>\n",
       "      <td>3</td>\n",
       "      <td>2</td>\n",
       "      <td>42069</td>\n",
       "      <td>47</td>\n",
       "    </tr>\n",
       "    <tr>\n",
       "      <th>26</th>\n",
       "      <td>0</td>\n",
       "      <td>24</td>\n",
       "      <td>0</td>\n",
       "      <td>16</td>\n",
       "      <td>1</td>\n",
       "      <td>4</td>\n",
       "      <td>3</td>\n",
       "      <td>46617</td>\n",
       "      <td>75</td>\n",
       "    </tr>\n",
       "    <tr>\n",
       "      <th>27</th>\n",
       "      <td>0</td>\n",
       "      <td>25</td>\n",
       "      <td>0</td>\n",
       "      <td>14</td>\n",
       "      <td>0</td>\n",
       "      <td>3</td>\n",
       "      <td>3</td>\n",
       "      <td>48891</td>\n",
       "      <td>75</td>\n",
       "    </tr>\n",
       "    <tr>\n",
       "      <th>28</th>\n",
       "      <td>0</td>\n",
       "      <td>25</td>\n",
       "      <td>1</td>\n",
       "      <td>14</td>\n",
       "      <td>0</td>\n",
       "      <td>2</td>\n",
       "      <td>3</td>\n",
       "      <td>45480</td>\n",
       "      <td>56</td>\n",
       "    </tr>\n",
       "    <tr>\n",
       "      <th>29</th>\n",
       "      <td>0</td>\n",
       "      <td>25</td>\n",
       "      <td>0</td>\n",
       "      <td>14</td>\n",
       "      <td>0</td>\n",
       "      <td>2</td>\n",
       "      <td>2</td>\n",
       "      <td>53439</td>\n",
       "      <td>47</td>\n",
       "    </tr>\n",
       "    <tr>\n",
       "      <th>30</th>\n",
       "      <td>0</td>\n",
       "      <td>25</td>\n",
       "      <td>0</td>\n",
       "      <td>14</td>\n",
       "      <td>0</td>\n",
       "      <td>3</td>\n",
       "      <td>3</td>\n",
       "      <td>39795</td>\n",
       "      <td>85</td>\n",
       "    </tr>\n",
       "    <tr>\n",
       "      <th>31</th>\n",
       "      <td>0</td>\n",
       "      <td>25</td>\n",
       "      <td>1</td>\n",
       "      <td>16</td>\n",
       "      <td>1</td>\n",
       "      <td>3</td>\n",
       "      <td>4</td>\n",
       "      <td>40932</td>\n",
       "      <td>113</td>\n",
       "    </tr>\n",
       "    <tr>\n",
       "      <th>32</th>\n",
       "      <td>0</td>\n",
       "      <td>25</td>\n",
       "      <td>0</td>\n",
       "      <td>16</td>\n",
       "      <td>0</td>\n",
       "      <td>2</td>\n",
       "      <td>2</td>\n",
       "      <td>40932</td>\n",
       "      <td>47</td>\n",
       "    </tr>\n",
       "    <tr>\n",
       "      <th>33</th>\n",
       "      <td>0</td>\n",
       "      <td>25</td>\n",
       "      <td>1</td>\n",
       "      <td>16</td>\n",
       "      <td>1</td>\n",
       "      <td>3</td>\n",
       "      <td>3</td>\n",
       "      <td>43206</td>\n",
       "      <td>85</td>\n",
       "    </tr>\n",
       "    <tr>\n",
       "      <th>34</th>\n",
       "      <td>0</td>\n",
       "      <td>26</td>\n",
       "      <td>0</td>\n",
       "      <td>14</td>\n",
       "      <td>0</td>\n",
       "      <td>3</td>\n",
       "      <td>4</td>\n",
       "      <td>44343</td>\n",
       "      <td>113</td>\n",
       "    </tr>\n",
       "    <tr>\n",
       "      <th>35</th>\n",
       "      <td>0</td>\n",
       "      <td>26</td>\n",
       "      <td>0</td>\n",
       "      <td>16</td>\n",
       "      <td>0</td>\n",
       "      <td>4</td>\n",
       "      <td>3</td>\n",
       "      <td>52302</td>\n",
       "      <td>113</td>\n",
       "    </tr>\n",
       "    <tr>\n",
       "      <th>36</th>\n",
       "      <td>0</td>\n",
       "      <td>26</td>\n",
       "      <td>1</td>\n",
       "      <td>16</td>\n",
       "      <td>0</td>\n",
       "      <td>2</td>\n",
       "      <td>2</td>\n",
       "      <td>53439</td>\n",
       "      <td>47</td>\n",
       "    </tr>\n",
       "    <tr>\n",
       "      <th>37</th>\n",
       "      <td>0</td>\n",
       "      <td>26</td>\n",
       "      <td>1</td>\n",
       "      <td>16</td>\n",
       "      <td>0</td>\n",
       "      <td>3</td>\n",
       "      <td>3</td>\n",
       "      <td>51165</td>\n",
       "      <td>85</td>\n",
       "    </tr>\n",
       "    <tr>\n",
       "      <th>38</th>\n",
       "      <td>0</td>\n",
       "      <td>26</td>\n",
       "      <td>0</td>\n",
       "      <td>16</td>\n",
       "      <td>1</td>\n",
       "      <td>3</td>\n",
       "      <td>3</td>\n",
       "      <td>36384</td>\n",
       "      <td>66</td>\n",
       "    </tr>\n",
       "    <tr>\n",
       "      <th>39</th>\n",
       "      <td>0</td>\n",
       "      <td>26</td>\n",
       "      <td>1</td>\n",
       "      <td>16</td>\n",
       "      <td>0</td>\n",
       "      <td>4</td>\n",
       "      <td>4</td>\n",
       "      <td>44343</td>\n",
       "      <td>132</td>\n",
       "    </tr>\n",
       "    <tr>\n",
       "      <th>40</th>\n",
       "      <td>0</td>\n",
       "      <td>26</td>\n",
       "      <td>1</td>\n",
       "      <td>16</td>\n",
       "      <td>1</td>\n",
       "      <td>3</td>\n",
       "      <td>3</td>\n",
       "      <td>50028</td>\n",
       "      <td>85</td>\n",
       "    </tr>\n",
       "    <tr>\n",
       "      <th>41</th>\n",
       "      <td>0</td>\n",
       "      <td>27</td>\n",
       "      <td>0</td>\n",
       "      <td>14</td>\n",
       "      <td>0</td>\n",
       "      <td>3</td>\n",
       "      <td>2</td>\n",
       "      <td>45480</td>\n",
       "      <td>66</td>\n",
       "    </tr>\n",
       "    <tr>\n",
       "      <th>42</th>\n",
       "      <td>0</td>\n",
       "      <td>27</td>\n",
       "      <td>1</td>\n",
       "      <td>16</td>\n",
       "      <td>1</td>\n",
       "      <td>4</td>\n",
       "      <td>3</td>\n",
       "      <td>54576</td>\n",
       "      <td>85</td>\n",
       "    </tr>\n",
       "    <tr>\n",
       "      <th>43</th>\n",
       "      <td>0</td>\n",
       "      <td>27</td>\n",
       "      <td>0</td>\n",
       "      <td>14</td>\n",
       "      <td>0</td>\n",
       "      <td>2</td>\n",
       "      <td>3</td>\n",
       "      <td>45480</td>\n",
       "      <td>56</td>\n",
       "    </tr>\n",
       "    <tr>\n",
       "      <th>44</th>\n",
       "      <td>0</td>\n",
       "      <td>28</td>\n",
       "      <td>0</td>\n",
       "      <td>14</td>\n",
       "      <td>0</td>\n",
       "      <td>2</td>\n",
       "      <td>3</td>\n",
       "      <td>46617</td>\n",
       "      <td>56</td>\n",
       "    </tr>\n",
       "    <tr>\n",
       "      <th>45</th>\n",
       "      <td>0</td>\n",
       "      <td>28</td>\n",
       "      <td>0</td>\n",
       "      <td>16</td>\n",
       "      <td>0</td>\n",
       "      <td>2</td>\n",
       "      <td>3</td>\n",
       "      <td>52302</td>\n",
       "      <td>66</td>\n",
       "    </tr>\n",
       "    <tr>\n",
       "      <th>46</th>\n",
       "      <td>0</td>\n",
       "      <td>28</td>\n",
       "      <td>1</td>\n",
       "      <td>14</td>\n",
       "      <td>1</td>\n",
       "      <td>3</td>\n",
       "      <td>3</td>\n",
       "      <td>52302</td>\n",
       "      <td>103</td>\n",
       "    </tr>\n",
       "    <tr>\n",
       "      <th>47</th>\n",
       "      <td>0</td>\n",
       "      <td>28</td>\n",
       "      <td>0</td>\n",
       "      <td>14</td>\n",
       "      <td>0</td>\n",
       "      <td>3</td>\n",
       "      <td>3</td>\n",
       "      <td>54576</td>\n",
       "      <td>94</td>\n",
       "    </tr>\n",
       "    <tr>\n",
       "      <th>48</th>\n",
       "      <td>0</td>\n",
       "      <td>28</td>\n",
       "      <td>1</td>\n",
       "      <td>14</td>\n",
       "      <td>1</td>\n",
       "      <td>4</td>\n",
       "      <td>3</td>\n",
       "      <td>54576</td>\n",
       "      <td>113</td>\n",
       "    </tr>\n",
       "    <tr>\n",
       "      <th>49</th>\n",
       "      <td>0</td>\n",
       "      <td>28</td>\n",
       "      <td>0</td>\n",
       "      <td>16</td>\n",
       "      <td>0</td>\n",
       "      <td>3</td>\n",
       "      <td>3</td>\n",
       "      <td>51165</td>\n",
       "      <td>56</td>\n",
       "    </tr>\n",
       "    <tr>\n",
       "      <th>50</th>\n",
       "      <td>0</td>\n",
       "      <td>29</td>\n",
       "      <td>1</td>\n",
       "      <td>18</td>\n",
       "      <td>0</td>\n",
       "      <td>3</td>\n",
       "      <td>3</td>\n",
       "      <td>68220</td>\n",
       "      <td>85</td>\n",
       "    </tr>\n",
       "    <tr>\n",
       "      <th>51</th>\n",
       "      <td>0</td>\n",
       "      <td>29</td>\n",
       "      <td>0</td>\n",
       "      <td>14</td>\n",
       "      <td>0</td>\n",
       "      <td>2</td>\n",
       "      <td>2</td>\n",
       "      <td>46617</td>\n",
       "      <td>38</td>\n",
       "    </tr>\n",
       "  </tbody>\n",
       "</table>\n",
       "</div>"
      ],
      "text/plain": [
       "    Product  Age  Gender  Education  MaritalStatus  Usage  Fitness  Income  \\\n",
       "0         0   18       1         14              1      3        4   29562   \n",
       "1         0   19       1         15              1      2        3   31836   \n",
       "2         0   19       0         14              0      4        3   30699   \n",
       "3         0   19       1         12              1      3        3   32973   \n",
       "4         0   20       1         13              0      4        2   35247   \n",
       "5         0   20       0         14              0      3        3   32973   \n",
       "6         0   21       0         14              0      3        3   35247   \n",
       "7         0   21       1         13              1      3        3   32973   \n",
       "8         0   21       1         15              1      5        4   35247   \n",
       "9         0   21       0         15              0      2        3   37521   \n",
       "10        0   22       1         14              1      3        3   36384   \n",
       "11        0   22       0         14              0      3        2   35247   \n",
       "12        0   22       0         16              1      4        3   36384   \n",
       "13        0   22       0         14              1      3        3   35247   \n",
       "15        0   23       1         16              0      3        3   40932   \n",
       "16        0   23       0         14              1      2        3   34110   \n",
       "17        0   23       1         16              0      4        3   39795   \n",
       "18        0   23       0         16              1      4        3   38658   \n",
       "19        0   23       0         15              0      2        2   34110   \n",
       "20        0   23       1         14              1      4        3   38658   \n",
       "21        0   23       1         16              1      4        3   40932   \n",
       "22        0   24       0         16              1      4        3   42069   \n",
       "24        0   24       1         14              1      2        3   45480   \n",
       "25        0   24       1         13              0      3        2   42069   \n",
       "26        0   24       0         16              1      4        3   46617   \n",
       "27        0   25       0         14              0      3        3   48891   \n",
       "28        0   25       1         14              0      2        3   45480   \n",
       "29        0   25       0         14              0      2        2   53439   \n",
       "30        0   25       0         14              0      3        3   39795   \n",
       "31        0   25       1         16              1      3        4   40932   \n",
       "32        0   25       0         16              0      2        2   40932   \n",
       "33        0   25       1         16              1      3        3   43206   \n",
       "34        0   26       0         14              0      3        4   44343   \n",
       "35        0   26       0         16              0      4        3   52302   \n",
       "36        0   26       1         16              0      2        2   53439   \n",
       "37        0   26       1         16              0      3        3   51165   \n",
       "38        0   26       0         16              1      3        3   36384   \n",
       "39        0   26       1         16              0      4        4   44343   \n",
       "40        0   26       1         16              1      3        3   50028   \n",
       "41        0   27       0         14              0      3        2   45480   \n",
       "42        0   27       1         16              1      4        3   54576   \n",
       "43        0   27       0         14              0      2        3   45480   \n",
       "44        0   28       0         14              0      2        3   46617   \n",
       "45        0   28       0         16              0      2        3   52302   \n",
       "46        0   28       1         14              1      3        3   52302   \n",
       "47        0   28       0         14              0      3        3   54576   \n",
       "48        0   28       1         14              1      4        3   54576   \n",
       "49        0   28       0         16              0      3        3   51165   \n",
       "50        0   29       1         18              0      3        3   68220   \n",
       "51        0   29       0         14              0      2        2   46617   \n",
       "\n",
       "    Miles  \n",
       "0     112  \n",
       "1      75  \n",
       "2      66  \n",
       "3      85  \n",
       "4      47  \n",
       "5      66  \n",
       "6      75  \n",
       "7      85  \n",
       "8     141  \n",
       "9      85  \n",
       "10     85  \n",
       "11     66  \n",
       "12     75  \n",
       "13     75  \n",
       "15     75  \n",
       "16    103  \n",
       "17     94  \n",
       "18    113  \n",
       "19     38  \n",
       "20    113  \n",
       "21     94  \n",
       "22     94  \n",
       "24    113  \n",
       "25     47  \n",
       "26     75  \n",
       "27     75  \n",
       "28     56  \n",
       "29     47  \n",
       "30     85  \n",
       "31    113  \n",
       "32     47  \n",
       "33     85  \n",
       "34    113  \n",
       "35    113  \n",
       "36     47  \n",
       "37     85  \n",
       "38     66  \n",
       "39    132  \n",
       "40     85  \n",
       "41     66  \n",
       "42     85  \n",
       "43     56  \n",
       "44     56  \n",
       "45     66  \n",
       "46    103  \n",
       "47     94  \n",
       "48    113  \n",
       "49     56  \n",
       "50     85  \n",
       "51     38  "
      ]
     },
     "execution_count": 25,
     "metadata": {},
     "output_type": "execute_result"
    }
   ],
   "source": [
    "customer_fit_df.head(50)"
   ]
  },
  {
   "cell_type": "code",
   "execution_count": 26,
   "metadata": {
    "execution": {
     "iopub.execute_input": "2020-08-30T17:02:41.505893Z",
     "iopub.status.busy": "2020-08-30T17:02:41.505167Z",
     "iopub.status.idle": "2020-08-30T17:02:42.050597Z",
     "shell.execute_reply": "2020-08-30T17:02:42.050030Z"
    },
    "papermill": {
     "duration": 0.568606,
     "end_time": "2020-08-30T17:02:42.050721",
     "exception": false,
     "start_time": "2020-08-30T17:02:41.482115",
     "status": "completed"
    },
    "tags": []
   },
   "outputs": [
    {
     "data": {
      "image/png": "[encoded data removed]",
      "text/plain": [
       "<Figure size 864x720 with 2 Axes>"
      ]
     },
     "metadata": {
      "needs_background": "light"
     },
     "output_type": "display_data"
    }
   ],
   "source": [
    "plt.figure(figsize=(12,10))\n",
    "p = sns.heatmap(customer_fit_df.corr(), annot=True, vmin=-1, vmax=1)"
   ]
  },
  {
   "cell_type": "markdown",
   "execution_count": null,
   "metadata": {
    "papermill": {
     "duration": 0.018289,
     "end_time": "2020-08-30T17:02:42.087987",
     "exception": false,
     "start_time": "2020-08-30T17:02:42.069698",
     "status": "completed"
    },
    "tags": []
   },
   "source": [
    "No 2 variables have high enough correalation > 0.95 that we remove them"
   ]
  },
  {
   "cell_type": "code",
   "execution_count": 27,
   "metadata": {
    "execution": {
     "iopub.execute_input": "2020-08-30T17:02:42.136498Z",
     "iopub.status.busy": "2020-08-30T17:02:42.135645Z",
     "iopub.status.idle": "2020-08-30T17:02:42.139803Z",
     "shell.execute_reply": "2020-08-30T17:02:42.140351Z"
    },
    "papermill": {
     "duration": 0.034037,
     "end_time": "2020-08-30T17:02:42.140514",
     "exception": false,
     "start_time": "2020-08-30T17:02:42.106477",
     "status": "completed"
    },
    "tags": []
   },
   "outputs": [
    {
     "data": {
      "text/html": [
       "<div>\n",
       "<style scoped>\n",
       "    .dataframe tbody tr th:only-of-type {\n",
       "        vertical-align: middle;\n",
       "    }\n",
       "\n",
       "    .dataframe tbody tr th {\n",
       "        vertical-align: top;\n",
       "    }\n",
       "\n",
       "    .dataframe thead th {\n",
       "        text-align: right;\n",
       "    }\n",
       "</style>\n",
       "<table border=\"1\" class=\"dataframe\">\n",
       "  <thead>\n",
       "    <tr style=\"text-align: right;\">\n",
       "      <th></th>\n",
       "      <th>Product</th>\n",
       "    </tr>\n",
       "  </thead>\n",
       "  <tbody>\n",
       "    <tr>\n",
       "      <th>0</th>\n",
       "      <td>0</td>\n",
       "    </tr>\n",
       "    <tr>\n",
       "      <th>1</th>\n",
       "      <td>0</td>\n",
       "    </tr>\n",
       "    <tr>\n",
       "      <th>2</th>\n",
       "      <td>0</td>\n",
       "    </tr>\n",
       "    <tr>\n",
       "      <th>3</th>\n",
       "      <td>0</td>\n",
       "    </tr>\n",
       "    <tr>\n",
       "      <th>4</th>\n",
       "      <td>0</td>\n",
       "    </tr>\n",
       "  </tbody>\n",
       "</table>\n",
       "</div>"
      ],
      "text/plain": [
       "   Product\n",
       "0        0\n",
       "1        0\n",
       "2        0\n",
       "3        0\n",
       "4        0"
      ]
     },
     "execution_count": 27,
     "metadata": {},
     "output_type": "execute_result"
    }
   ],
   "source": [
    "X = customer_fit_df\n",
    "X.head()\n",
    "X = customer_fit_df.iloc[:,1:]\n",
    "Y = customer_fit_df.iloc[:,0].to_frame()\n",
    "Y.head()\n"
   ]
  },
  {
   "cell_type": "code",
   "execution_count": 28,
   "metadata": {
    "execution": {
     "iopub.execute_input": "2020-08-30T17:02:42.194769Z",
     "iopub.status.busy": "2020-08-30T17:02:42.194035Z",
     "iopub.status.idle": "2020-08-30T17:02:42.198403Z",
     "shell.execute_reply": "2020-08-30T17:02:42.198945Z"
    },
    "papermill": {
     "duration": 0.039458,
     "end_time": "2020-08-30T17:02:42.199098",
     "exception": false,
     "start_time": "2020-08-30T17:02:42.159640",
     "status": "completed"
    },
    "tags": []
   },
   "outputs": [
    {
     "data": {
      "text/html": [
       "<div>\n",
       "<style scoped>\n",
       "    .dataframe tbody tr th:only-of-type {\n",
       "        vertical-align: middle;\n",
       "    }\n",
       "\n",
       "    .dataframe tbody tr th {\n",
       "        vertical-align: top;\n",
       "    }\n",
       "\n",
       "    .dataframe thead th {\n",
       "        text-align: right;\n",
       "    }\n",
       "</style>\n",
       "<table border=\"1\" class=\"dataframe\">\n",
       "  <thead>\n",
       "    <tr style=\"text-align: right;\">\n",
       "      <th></th>\n",
       "      <th>Product</th>\n",
       "      <th>Age</th>\n",
       "      <th>Gender</th>\n",
       "      <th>Education</th>\n",
       "      <th>MaritalStatus</th>\n",
       "      <th>Usage</th>\n",
       "      <th>Fitness</th>\n",
       "      <th>Income</th>\n",
       "      <th>Miles</th>\n",
       "    </tr>\n",
       "  </thead>\n",
       "  <tbody>\n",
       "    <tr>\n",
       "      <th>0</th>\n",
       "      <td>0</td>\n",
       "      <td>18</td>\n",
       "      <td>1</td>\n",
       "      <td>14</td>\n",
       "      <td>1</td>\n",
       "      <td>3</td>\n",
       "      <td>4</td>\n",
       "      <td>29562</td>\n",
       "      <td>112</td>\n",
       "    </tr>\n",
       "    <tr>\n",
       "      <th>1</th>\n",
       "      <td>0</td>\n",
       "      <td>19</td>\n",
       "      <td>1</td>\n",
       "      <td>15</td>\n",
       "      <td>1</td>\n",
       "      <td>2</td>\n",
       "      <td>3</td>\n",
       "      <td>31836</td>\n",
       "      <td>75</td>\n",
       "    </tr>\n",
       "    <tr>\n",
       "      <th>2</th>\n",
       "      <td>0</td>\n",
       "      <td>19</td>\n",
       "      <td>0</td>\n",
       "      <td>14</td>\n",
       "      <td>0</td>\n",
       "      <td>4</td>\n",
       "      <td>3</td>\n",
       "      <td>30699</td>\n",
       "      <td>66</td>\n",
       "    </tr>\n",
       "    <tr>\n",
       "      <th>3</th>\n",
       "      <td>0</td>\n",
       "      <td>19</td>\n",
       "      <td>1</td>\n",
       "      <td>12</td>\n",
       "      <td>1</td>\n",
       "      <td>3</td>\n",
       "      <td>3</td>\n",
       "      <td>32973</td>\n",
       "      <td>85</td>\n",
       "    </tr>\n",
       "    <tr>\n",
       "      <th>4</th>\n",
       "      <td>0</td>\n",
       "      <td>20</td>\n",
       "      <td>1</td>\n",
       "      <td>13</td>\n",
       "      <td>0</td>\n",
       "      <td>4</td>\n",
       "      <td>2</td>\n",
       "      <td>35247</td>\n",
       "      <td>47</td>\n",
       "    </tr>\n",
       "    <tr>\n",
       "      <th>...</th>\n",
       "      <td>...</td>\n",
       "      <td>...</td>\n",
       "      <td>...</td>\n",
       "      <td>...</td>\n",
       "      <td>...</td>\n",
       "      <td>...</td>\n",
       "      <td>...</td>\n",
       "      <td>...</td>\n",
       "      <td>...</td>\n",
       "    </tr>\n",
       "    <tr>\n",
       "      <th>150</th>\n",
       "      <td>2</td>\n",
       "      <td>25</td>\n",
       "      <td>1</td>\n",
       "      <td>16</td>\n",
       "      <td>0</td>\n",
       "      <td>4</td>\n",
       "      <td>5</td>\n",
       "      <td>49801</td>\n",
       "      <td>120</td>\n",
       "    </tr>\n",
       "    <tr>\n",
       "      <th>151</th>\n",
       "      <td>2</td>\n",
       "      <td>25</td>\n",
       "      <td>1</td>\n",
       "      <td>16</td>\n",
       "      <td>0</td>\n",
       "      <td>4</td>\n",
       "      <td>4</td>\n",
       "      <td>62251</td>\n",
       "      <td>160</td>\n",
       "    </tr>\n",
       "    <tr>\n",
       "      <th>153</th>\n",
       "      <td>2</td>\n",
       "      <td>25</td>\n",
       "      <td>1</td>\n",
       "      <td>18</td>\n",
       "      <td>0</td>\n",
       "      <td>4</td>\n",
       "      <td>3</td>\n",
       "      <td>64741</td>\n",
       "      <td>100</td>\n",
       "    </tr>\n",
       "    <tr>\n",
       "      <th>158</th>\n",
       "      <td>2</td>\n",
       "      <td>26</td>\n",
       "      <td>1</td>\n",
       "      <td>16</td>\n",
       "      <td>0</td>\n",
       "      <td>5</td>\n",
       "      <td>4</td>\n",
       "      <td>64741</td>\n",
       "      <td>180</td>\n",
       "    </tr>\n",
       "    <tr>\n",
       "      <th>165</th>\n",
       "      <td>2</td>\n",
       "      <td>29</td>\n",
       "      <td>1</td>\n",
       "      <td>18</td>\n",
       "      <td>1</td>\n",
       "      <td>5</td>\n",
       "      <td>5</td>\n",
       "      <td>52290</td>\n",
       "      <td>180</td>\n",
       "    </tr>\n",
       "  </tbody>\n",
       "</table>\n",
       "<p>146 rows × 9 columns</p>\n",
       "</div>"
      ],
      "text/plain": [
       "     Product  Age  Gender  Education  MaritalStatus  Usage  Fitness  Income  \\\n",
       "0          0   18       1         14              1      3        4   29562   \n",
       "1          0   19       1         15              1      2        3   31836   \n",
       "2          0   19       0         14              0      4        3   30699   \n",
       "3          0   19       1         12              1      3        3   32973   \n",
       "4          0   20       1         13              0      4        2   35247   \n",
       "..       ...  ...     ...        ...            ...    ...      ...     ...   \n",
       "150        2   25       1         16              0      4        5   49801   \n",
       "151        2   25       1         16              0      4        4   62251   \n",
       "153        2   25       1         18              0      4        3   64741   \n",
       "158        2   26       1         16              0      5        4   64741   \n",
       "165        2   29       1         18              1      5        5   52290   \n",
       "\n",
       "     Miles  \n",
       "0      112  \n",
       "1       75  \n",
       "2       66  \n",
       "3       85  \n",
       "4       47  \n",
       "..     ...  \n",
       "150    120  \n",
       "151    160  \n",
       "153    100  \n",
       "158    180  \n",
       "165    180  \n",
       "\n",
       "[146 rows x 9 columns]"
      ]
     },
     "execution_count": 28,
     "metadata": {},
     "output_type": "execute_result"
    }
   ],
   "source": [
    "customer_fit_df"
   ]
  },
  {
   "cell_type": "code",
   "execution_count": 29,
   "metadata": {
    "execution": {
     "iopub.execute_input": "2020-08-30T17:02:42.243744Z",
     "iopub.status.busy": "2020-08-30T17:02:42.242956Z",
     "iopub.status.idle": "2020-08-30T17:02:42.298287Z",
     "shell.execute_reply": "2020-08-30T17:02:42.297471Z"
    },
    "papermill": {
     "duration": 0.079839,
     "end_time": "2020-08-30T17:02:42.298423",
     "exception": false,
     "start_time": "2020-08-30T17:02:42.218584",
     "status": "completed"
    },
    "tags": []
   },
   "outputs": [],
   "source": [
    "from sklearn.model_selection import train_test_split\n",
    "X_train, X_test, Y_train, Y_test = train_test_split(X,Y, random_state=42, test_size=0.3)"
   ]
  },
  {
   "cell_type": "code",
   "execution_count": 30,
   "metadata": {
    "execution": {
     "iopub.execute_input": "2020-08-30T17:02:42.350445Z",
     "iopub.status.busy": "2020-08-30T17:02:42.349674Z",
     "iopub.status.idle": "2020-08-30T17:02:42.357534Z",
     "shell.execute_reply": "2020-08-30T17:02:42.356913Z"
    },
    "papermill": {
     "duration": 0.035172,
     "end_time": "2020-08-30T17:02:42.357651",
     "exception": false,
     "start_time": "2020-08-30T17:02:42.322479",
     "status": "completed"
    },
    "tags": []
   },
   "outputs": [],
   "source": [
    "from sklearn.preprocessing import StandardScaler\n",
    "scalar = StandardScaler()\n",
    "scalar.fit(X_train)\n",
    "\n",
    "X_train = scalar.transform(X_train)\n",
    "X_test = scalar.transform(X_test)\n"
   ]
  },
  {
   "cell_type": "code",
   "execution_count": 31,
   "metadata": {
    "execution": {
     "iopub.execute_input": "2020-08-30T17:02:42.416684Z",
     "iopub.status.busy": "2020-08-30T17:02:42.415744Z",
     "iopub.status.idle": "2020-08-30T17:02:42.421004Z",
     "shell.execute_reply": "2020-08-30T17:02:42.420289Z"
    },
    "papermill": {
     "duration": 0.043554,
     "end_time": "2020-08-30T17:02:42.421123",
     "exception": false,
     "start_time": "2020-08-30T17:02:42.377569",
     "status": "completed"
    },
    "tags": []
   },
   "outputs": [
    {
     "data": {
      "text/plain": [
       "array([[ 7.14624590e-01, -1.10335457e+00,  5.98796530e-01,\n",
       "        -8.53705780e-01,  2.14722931e+00, -3.13265745e-02,\n",
       "         5.04271488e-01,  1.83421356e-01],\n",
       "       [-9.98642055e-01,  9.06326967e-01, -9.67286702e-01,\n",
       "         1.17136375e+00,  9.16794537e-01, -3.13265745e-02,\n",
       "        -2.75299864e-02,  5.48312776e-01],\n",
       "       [-5.31387516e-01, -1.10335457e+00, -9.67286702e-01,\n",
       "        -8.53705780e-01, -3.13640236e-01, -3.13265745e-02,\n",
       "        -1.01338158e+00, -1.48298117e-01],\n",
       "       [-2.19884489e-01,  9.06326967e-01,  5.98796530e-01,\n",
       "         1.17136375e+00,  9.16794537e-01, -3.13265745e-02,\n",
       "         6.30742577e-01, -1.48298117e-01],\n",
       "       [-3.75636002e-01, -1.10335457e+00,  5.98796530e-01,\n",
       "         1.17136375e+00,  9.16794537e-01,  1.56632872e+00,\n",
       "         1.24858221e-01,  1.24492367e+00],\n",
       "       [-6.87139029e-01, -1.10335457e+00,  5.98796530e-01,\n",
       "         1.17136375e+00,  9.16794537e-01, -3.13265745e-02,\n",
       "        -2.54555046e-01, -4.80017590e-01],\n",
       "       [-5.31387516e-01, -1.10335457e+00, -9.67286702e-01,\n",
       "        -8.53705780e-01, -3.13640236e-01, -3.13265745e-02,\n",
       "        -1.61286789e-03, -4.80017590e-01],\n",
       "       [-6.87139029e-01,  9.06326967e-01, -1.75032832e+00,\n",
       "        -8.53705780e-01, -3.13640236e-01, -1.62898187e+00,\n",
       "        -7.60439402e-01, -1.40883212e+00],\n",
       "       [-1.15439357e+00,  9.06326967e-01, -2.53336993e+00,\n",
       "        -8.53705780e-01, -1.54407501e+00, -1.62898187e+00,\n",
       "        -1.77220811e+00, -1.20980043e+00],\n",
       "       [ 1.49338216e+00,  9.06326967e-01,  5.98796530e-01,\n",
       "        -8.53705780e-01, -3.13640236e-01, -3.13265745e-02,\n",
       "         8.83684755e-01, -4.80017590e-01],\n",
       "       [-6.41329760e-02,  9.06326967e-01, -9.67286702e-01,\n",
       "         1.17136375e+00, -3.13640236e-01, -3.13265745e-02,\n",
       "         3.77800399e-01,  4.48796934e-01],\n",
       "       [-8.42890542e-01, -1.10335457e+00, -9.67286702e-01,\n",
       "         1.17136375e+00, -1.54407501e+00, -3.13265745e-02,\n",
       "        -1.64573702e+00,  4.48796934e-01],\n",
       "       [-5.31387516e-01,  9.06326967e-01, -9.67286702e-01,\n",
       "        -8.53705780e-01,  9.16794537e-01, -3.13265745e-02,\n",
       "        -3.81026135e-01,  2.67131740e+00],\n",
       "       [-2.19884489e-01, -1.10335457e+00, -9.67286702e-01,\n",
       "        -8.53705780e-01, -3.13640236e-01, -1.62898187e+00,\n",
       "        -3.81026135e-01, -7.78565116e-01],\n",
       "       [ 5.58873077e-01,  9.06326967e-01, -9.67286702e-01,\n",
       "        -8.53705780e-01,  9.16794537e-01, -3.13265745e-02,\n",
       "         3.77800399e-01, -1.48298117e-01],\n",
       "       [-8.42890542e-01,  9.06326967e-01,  5.98796530e-01,\n",
       "        -8.53705780e-01,  9.16794537e-01, -3.13265745e-02,\n",
       "        -3.81026135e-01,  1.24492367e+00],\n",
       "       [-6.87139029e-01,  9.06326967e-01, -9.67286702e-01,\n",
       "         1.17136375e+00, -1.54407501e+00, -3.13265745e-02,\n",
       "        -3.81026135e-01,  7.80516407e-01],\n",
       "       [ 1.33763064e+00, -1.10335457e+00,  5.98796530e-01,\n",
       "        -8.53705780e-01, -3.13640236e-01, -3.13265745e-02,\n",
       "        -1.26632376e+00, -1.48298117e-01],\n",
       "       [-8.42890542e-01,  9.06326967e-01, -9.67286702e-01,\n",
       "        -8.53705780e-01, -3.13640236e-01, -3.13265745e-02,\n",
       "        -1.39279485e+00,  1.83421356e-01],\n",
       "       [ 4.03121564e-01,  9.06326967e-01,  5.98796530e-01,\n",
       "        -8.53705780e-01, -3.13640236e-01, -3.13265745e-02,\n",
       "         3.77800399e-01,  1.83421356e-01],\n",
       "       [-6.41329760e-02, -1.10335457e+00,  5.98796530e-01,\n",
       "        -8.53705780e-01, -3.13640236e-01, -3.13265745e-02,\n",
       "         2.51329310e-01, -1.11028459e+00],\n",
       "       [ 5.58873077e-01,  9.06326967e-01,  5.98796530e-01,\n",
       "        -8.53705780e-01, -3.13640236e-01, -3.13265745e-02,\n",
       "         5.04271488e-01,  1.83421356e-01],\n",
       "       [-5.31387516e-01,  9.06326967e-01,  5.98796530e-01,\n",
       "        -8.53705780e-01,  9.16794537e-01,  1.56632872e+00,\n",
       "         1.48445024e+00,  2.33959793e+00],\n",
       "       [-3.75636002e-01, -1.10335457e+00,  5.98796530e-01,\n",
       "        -8.53705780e-01,  9.16794537e-01, -3.13265745e-02,\n",
       "         3.77800399e-01,  7.80516407e-01],\n",
       "       [-8.42890542e-01, -1.10335457e+00,  5.98796530e-01,\n",
       "        -8.53705780e-01, -3.13640236e-01, -1.62898187e+00,\n",
       "        -6.33968313e-01, -5.13189538e-01],\n",
       "       [-5.31387516e-01, -1.10335457e+00, -9.67286702e-01,\n",
       "        -8.53705780e-01,  2.14722931e+00, -3.13265745e-02,\n",
       "        -1.28083957e-01,  5.48312776e-01],\n",
       "       [ 1.02612762e+00, -1.10335457e+00,  5.98796530e-01,\n",
       "        -8.53705780e-01, -3.13640236e-01, -3.13265745e-02,\n",
       "         1.26309802e+00,  1.50249408e-01],\n",
       "       [ 2.27213972e+00,  9.06326967e-01,  5.98796530e-01,\n",
       "        -8.53705780e-01, -3.13640236e-01, -3.13265745e-02,\n",
       "         5.04271488e-01, -7.78565116e-01],\n",
       "       [-1.46589659e+00,  9.06326967e-01, -9.67286702e-01,\n",
       "         1.17136375e+00, -3.13640236e-01, -3.13265745e-02,\n",
       "        -1.89867920e+00, -8.44909011e-01],\n",
       "       [ 4.03121564e-01,  9.06326967e-01, -9.67286702e-01,\n",
       "        -8.53705780e-01, -1.54407501e+00, -1.62898187e+00,\n",
       "         6.30742577e-01, -1.40883212e+00],\n",
       "       [-1.31014508e+00, -1.10335457e+00, -9.67286702e-01,\n",
       "        -8.53705780e-01, -3.13640236e-01, -3.13265745e-02,\n",
       "        -1.77220811e+00, -7.78565116e-01],\n",
       "       [ 1.80488518e+00, -1.10335457e+00,  5.98796530e-01,\n",
       "        -8.53705780e-01, -3.13640236e-01, -3.13265745e-02,\n",
       "         1.38956911e+00, -1.48298117e-01],\n",
       "       [-5.31387516e-01,  9.06326967e-01,  5.98796530e-01,\n",
       "        -8.53705780e-01, -1.54407501e+00, -1.62898187e+00,\n",
       "         3.77800399e-01, -1.57469185e+00],\n",
       "       [ 9.16185372e-02, -1.10335457e+00, -9.67286702e-01,\n",
       "        -8.53705780e-01, -1.54407501e+00, -1.62898187e+00,\n",
       "        -2.54555046e-01, -1.70737964e+00],\n",
       "       [-3.75636002e-01,  9.06326967e-01,  5.98796530e-01,\n",
       "        -8.53705780e-01, -3.13640236e-01, -3.13265745e-02,\n",
       "         2.51329310e-01, -1.48298117e-01],\n",
       "       [-1.31014508e+00,  9.06326967e-01, -9.67286702e-01,\n",
       "         1.17136375e+00, -1.54407501e+00, -3.13265745e-02,\n",
       "        -1.77220811e+00, -1.20980043e+00],\n",
       "       [-3.75636002e-01,  9.06326967e-01,  5.98796530e-01,\n",
       "        -8.53705780e-01, -1.54407501e+00, -1.62898187e+00,\n",
       "         5.04271488e-01, -1.40883212e+00],\n",
       "       [ 8.70376103e-01, -1.10335457e+00,  5.98796530e-01,\n",
       "        -8.53705780e-01,  9.16794537e-01, -3.13265745e-02,\n",
       "         1.76898238e+00,  1.83421356e-01],\n",
       "       [-1.15439357e+00,  9.06326967e-01, -1.75032832e+00,\n",
       "         1.17136375e+00, -3.13640236e-01, -3.13265745e-02,\n",
       "        -1.77220811e+00, -1.48298117e-01],\n",
       "       [-6.41329760e-02, -1.10335457e+00,  5.98796530e-01,\n",
       "        -8.53705780e-01, -1.54407501e+00, -3.13265745e-02,\n",
       "         3.77800399e-01, -7.78565116e-01],\n",
       "       [ 1.64913367e+00,  9.06326967e-01,  5.98796530e-01,\n",
       "        -8.53705780e-01,  9.16794537e-01,  1.56632872e+00,\n",
       "         1.13662693e+00,  1.41078341e+00],\n",
       "       [-3.75636002e-01,  9.06326967e-01,  5.98796530e-01,\n",
       "        -8.53705780e-01,  2.14722931e+00,  1.56632872e+00,\n",
       "         1.76141858e+00,  3.00303688e+00],\n",
       "       [-8.42890542e-01,  9.06326967e-01, -9.67286702e-01,\n",
       "        -8.53705780e-01, -3.13640236e-01, -3.13265745e-02,\n",
       "        -1.13985267e+00, -1.48298117e-01],\n",
       "       [ 1.49338216e+00, -1.10335457e+00,  5.98796530e-01,\n",
       "        -8.53705780e-01,  9.16794537e-01, -3.13265745e-02,\n",
       "         1.51604020e+00, -1.48298117e-01],\n",
       "       [ 1.80488518e+00,  9.06326967e-01,  5.98796530e-01,\n",
       "        -8.53705780e-01, -3.13640236e-01, -3.13265745e-02,\n",
       "         1.76898238e+00,  1.83421356e-01],\n",
       "       [-6.87139029e-01, -1.10335457e+00, -9.67286702e-01,\n",
       "         1.17136375e+00, -3.13640236e-01, -1.62898187e+00,\n",
       "        -8.86910491e-01, -1.48298117e-01],\n",
       "       [-1.15439357e+00,  9.06326967e-01, -1.84245086e-01,\n",
       "         1.17136375e+00,  2.14722931e+00,  1.56632872e+00,\n",
       "        -1.51926594e+00,  1.70933093e+00],\n",
       "       [-9.98642055e-01, -1.10335457e+00, -9.67286702e-01,\n",
       "         1.17136375e+00, -3.13640236e-01, -3.13265745e-02,\n",
       "        -1.51926594e+00, -4.80017590e-01],\n",
       "       [ 5.58873077e-01,  9.06326967e-01,  5.98796530e-01,\n",
       "         1.17136375e+00,  9.16794537e-01, -3.13265745e-02,\n",
       "         1.26309802e+00,  1.24492367e+00],\n",
       "       [ 7.14624590e-01, -1.10335457e+00,  2.16487976e+00,\n",
       "         1.17136375e+00, -3.13640236e-01,  1.56632872e+00,\n",
       "        -1.28083957e-01, -5.13189538e-01],\n",
       "       [-1.46589659e+00,  9.06326967e-01, -2.53336993e+00,\n",
       "         1.17136375e+00, -3.13640236e-01, -3.13265745e-02,\n",
       "        -1.77220811e+00, -1.48298117e-01],\n",
       "       [-8.42890542e-01, -1.10335457e+00,  5.98796530e-01,\n",
       "         1.17136375e+00,  9.16794537e-01, -3.13265745e-02,\n",
       "        -1.13985267e+00,  7.80516407e-01],\n",
       "       [-3.75636002e-01,  9.06326967e-01,  5.98796530e-01,\n",
       "         1.17136375e+00, -3.13640236e-01, -3.13265745e-02,\n",
       "         1.24858221e-01, -1.48298117e-01],\n",
       "       [ 1.96063670e+00,  9.06326967e-01,  5.98796530e-01,\n",
       "        -8.53705780e-01,  9.16794537e-01, -3.13265745e-02,\n",
       "         6.30742577e-01,  4.48796934e-01],\n",
       "       [ 1.02612762e+00, -1.10335457e+00,  5.98796530e-01,\n",
       "         1.17136375e+00, -3.13640236e-01, -1.62898187e+00,\n",
       "         1.24858221e-01, -8.44909011e-01],\n",
       "       [-1.15439357e+00, -1.10335457e+00, -9.67286702e-01,\n",
       "        -8.53705780e-01, -3.13640236e-01, -3.13265745e-02,\n",
       "        -1.51926594e+00, -4.80017590e-01],\n",
       "       [-3.75636002e-01,  9.06326967e-01,  5.98796530e-01,\n",
       "         1.17136375e+00,  9.16794537e-01, -3.13265745e-02,\n",
       "         2.51329310e-01,  5.48312776e-01],\n",
       "       [-5.31387516e-01,  9.06326967e-01,  5.98796530e-01,\n",
       "        -8.53705780e-01, -1.54407501e+00, -3.13265745e-02,\n",
       "         1.24858221e-01, -1.20980043e+00],\n",
       "       [-1.46589659e+00, -1.10335457e+00, -9.67286702e-01,\n",
       "        -8.53705780e-01,  9.16794537e-01, -3.13265745e-02,\n",
       "        -2.02515029e+00, -7.78565116e-01],\n",
       "       [ 1.33763064e+00, -1.10335457e+00,  5.98796530e-01,\n",
       "        -8.53705780e-01, -1.54407501e+00, -3.13265745e-02,\n",
       "        -1.61286789e-03, -1.48298117e-01],\n",
       "       [ 4.03121564e-01, -1.10335457e+00, -9.67286702e-01,\n",
       "         1.17136375e+00, -1.54407501e+00, -1.62898187e+00,\n",
       "        -3.81026135e-01, -1.40883212e+00],\n",
       "       [ 9.16185372e-02, -1.10335457e+00,  5.98796530e-01,\n",
       "        -8.53705780e-01,  9.16794537e-01, -3.13265745e-02,\n",
       "         1.24858221e-01,  1.50249408e-01],\n",
       "       [ 2.47370050e-01, -1.10335457e+00, -9.67286702e-01,\n",
       "         1.17136375e+00, -3.13640236e-01, -3.13265745e-02,\n",
       "         1.01015584e+00, -5.13189538e-01],\n",
       "       [-6.41329760e-02,  9.06326967e-01, -9.67286702e-01,\n",
       "         1.17136375e+00,  9.16794537e-01, -3.13265745e-02,\n",
       "         6.30742577e-01,  7.80516407e-01],\n",
       "       [ 2.47370050e-01, -1.10335457e+00, -1.75032832e+00,\n",
       "         1.17136375e+00,  9.16794537e-01, -3.13265745e-02,\n",
       "        -2.54555046e-01,  5.48312776e-01],\n",
       "       [ 1.02612762e+00,  9.06326967e-01,  5.98796530e-01,\n",
       "        -8.53705780e-01,  9.16794537e-01, -3.13265745e-02,\n",
       "        -1.61286789e-03, -1.48298117e-01],\n",
       "       [-5.31387516e-01,  9.06326967e-01,  2.16487976e+00,\n",
       "        -8.53705780e-01,  9.16794537e-01, -3.13265745e-02,\n",
       "         1.76141858e+00,  3.49281092e-01],\n",
       "       [-1.31014508e+00,  9.06326967e-01, -9.67286702e-01,\n",
       "         1.17136375e+00, -3.13640236e-01, -3.13265745e-02,\n",
       "        -1.13985267e+00,  1.83421356e-01],\n",
       "       [ 1.02612762e+00,  9.06326967e-01,  5.98796530e-01,\n",
       "        -8.53705780e-01, -3.13640236e-01, -3.13265745e-02,\n",
       "         5.04271488e-01,  1.83421356e-01],\n",
       "       [-6.87139029e-01, -1.10335457e+00,  5.98796530e-01,\n",
       "         1.17136375e+00, -3.13640236e-01, -3.13265745e-02,\n",
       "         1.24858221e-01,  5.48312776e-01],\n",
       "       [-2.19884489e-01, -1.10335457e+00, -9.67286702e-01,\n",
       "        -8.53705780e-01, -1.54407501e+00, -3.13265745e-02,\n",
       "        -3.81026135e-01, -1.11028459e+00],\n",
       "       [ 7.14624590e-01, -1.10335457e+00,  5.98796530e-01,\n",
       "        -8.53705780e-01, -3.13640236e-01, -3.13265745e-02,\n",
       "        -2.54555046e-01, -1.48298117e-01],\n",
       "       [-6.87139029e-01,  9.06326967e-01, -9.67286702e-01,\n",
       "         1.17136375e+00, -3.13640236e-01,  1.56632872e+00,\n",
       "        -1.61286789e-03,  5.48312776e-01],\n",
       "       [ 9.16185372e-02,  9.06326967e-01,  2.16487976e+00,\n",
       "        -8.53705780e-01, -3.13640236e-01, -3.13265745e-02,\n",
       "         2.14839564e+00, -1.48298117e-01],\n",
       "       [-8.42890542e-01,  9.06326967e-01,  5.98796530e-01,\n",
       "        -8.53705780e-01, -3.13640236e-01, -3.13265745e-02,\n",
       "        -3.81026135e-01, -8.44909011e-01],\n",
       "       [ 9.16185372e-02, -1.10335457e+00, -9.67286702e-01,\n",
       "        -8.53705780e-01, -3.13640236e-01, -3.13265745e-02,\n",
       "         2.51329310e-01,  1.83421356e-01],\n",
       "       [-6.87139029e-01, -1.10335457e+00,  5.98796530e-01,\n",
       "         1.17136375e+00,  9.16794537e-01, -3.13265745e-02,\n",
       "        -7.60439402e-01,  1.50249408e-01],\n",
       "       [ 7.14624590e-01, -1.10335457e+00,  5.98796530e-01,\n",
       "         1.17136375e+00, -1.54407501e+00, -1.62898187e+00,\n",
       "         7.57213666e-01, -1.70737964e+00],\n",
       "       [ 2.73939426e+00, -1.10335457e+00,  5.98796530e-01,\n",
       "        -8.53705780e-01, -3.13640236e-01, -1.62898187e+00,\n",
       "         1.26309802e+00, -1.40883212e+00],\n",
       "       [-3.75636002e-01, -1.10335457e+00, -9.67286702e-01,\n",
       "        -8.53705780e-01, -3.13640236e-01,  1.56632872e+00,\n",
       "        -5.07497224e-01,  7.80516407e-01],\n",
       "       [-6.87139029e-01,  9.06326967e-01,  5.98796530e-01,\n",
       "         1.17136375e+00,  2.14722931e+00,  3.16398402e+00,\n",
       "         9.96084962e-02,  2.33959793e+00],\n",
       "       [ 8.70376103e-01,  9.06326967e-01,  5.98796530e-01,\n",
       "         1.17136375e+00,  9.16794537e-01,  3.16398402e+00,\n",
       "         2.51329310e-01,  2.63814546e+00],\n",
       "       [ 1.02612762e+00, -1.10335457e+00,  2.16487976e+00,\n",
       "         1.17136375e+00, -3.13640236e-01, -3.13265745e-02,\n",
       "         2.02192456e+00, -1.48298117e-01],\n",
       "       [ 2.58364275e+00,  9.06326967e-01,  5.98796530e-01,\n",
       "        -8.53705780e-01, -1.54407501e+00, -1.62898187e+00,\n",
       "         6.30742577e-01, -1.57469185e+00],\n",
       "       [-3.75636002e-01,  9.06326967e-01,  5.98796530e-01,\n",
       "        -8.53705780e-01,  9.16794537e-01,  1.56632872e+00,\n",
       "        -5.07497224e-01,  1.41078341e+00],\n",
       "       [-8.42890542e-01, -1.10335457e+00,  2.16487976e+00,\n",
       "         1.17136375e+00,  2.14722931e+00,  1.56632872e+00,\n",
       "         5.15061018e-01,  3.49281092e-01],\n",
       "       [-1.46589659e+00,  9.06326967e-01, -1.84245086e-01,\n",
       "         1.17136375e+00, -1.54407501e+00, -3.13265745e-02,\n",
       "        -1.89867920e+00, -4.80017590e-01],\n",
       "       [ 2.47370050e-01,  9.06326967e-01, -9.67286702e-01,\n",
       "         1.17136375e+00, -3.13640236e-01, -3.13265745e-02,\n",
       "         6.30742577e-01, -1.48298117e-01],\n",
       "       [ 1.80488518e+00, -1.10335457e+00,  5.98796530e-01,\n",
       "         1.17136375e+00, -3.13640236e-01, -3.13265745e-02,\n",
       "         1.01015584e+00, -1.48298117e-01],\n",
       "       [-3.75636002e-01, -1.10335457e+00,  5.98796530e-01,\n",
       "        -8.53705780e-01,  9.16794537e-01, -3.13265745e-02,\n",
       "        -3.81026135e-01, -1.48298117e-01],\n",
       "       [-5.31387516e-01,  9.06326967e-01, -9.67286702e-01,\n",
       "        -8.53705780e-01, -3.13640236e-01,  1.56632872e+00,\n",
       "        -6.33968313e-01,  5.48312776e-01],\n",
       "       [ 7.14624590e-01,  9.06326967e-01,  5.98796530e-01,\n",
       "        -8.53705780e-01, -3.13640236e-01, -3.13265745e-02,\n",
       "         2.51329310e-01,  1.83421356e-01],\n",
       "       [-8.42890542e-01, -1.10335457e+00, -9.67286702e-01,\n",
       "         1.17136375e+00, -3.13640236e-01, -1.62898187e+00,\n",
       "        -8.86910491e-01, -1.20980043e+00],\n",
       "       [ 2.42789123e+00, -1.10335457e+00,  5.98796530e-01,\n",
       "         1.17136375e+00, -3.13640236e-01,  1.56632872e+00,\n",
       "         1.01015584e+00, -4.80017590e-01],\n",
       "       [ 8.70376103e-01,  9.06326967e-01, -1.84245086e-01,\n",
       "         1.17136375e+00, -3.13640236e-01, -3.13265745e-02,\n",
       "         2.02192456e+00, -1.48298117e-01],\n",
       "       [ 9.16185372e-02,  9.06326967e-01,  2.16487976e+00,\n",
       "         1.17136375e+00,  2.14722931e+00,  3.16398402e+00,\n",
       "         3.76465612e-01,  3.00303688e+00],\n",
       "       [-8.42890542e-01,  9.06326967e-01,  5.98796530e-01,\n",
       "         1.17136375e+00,  9.16794537e-01, -3.13265745e-02,\n",
       "        -8.86910491e-01,  1.50249408e-01],\n",
       "       [ 1.80488518e+00,  9.06326967e-01,  5.98796530e-01,\n",
       "        -8.53705780e-01, -3.13640236e-01, -3.13265745e-02,\n",
       "         1.38956911e+00, -7.78565116e-01],\n",
       "       [-2.19884489e-01,  9.06326967e-01, -9.67286702e-01,\n",
       "         1.17136375e+00,  9.16794537e-01, -1.62898187e+00,\n",
       "        -3.81026135e-01, -1.20980043e+00],\n",
       "       [-8.42890542e-01,  9.06326967e-01,  5.98796530e-01,\n",
       "        -8.53705780e-01, -3.13640236e-01, -3.13265745e-02,\n",
       "        -8.86910491e-01, -4.80017590e-01],\n",
       "       [-5.31387516e-01, -1.10335457e+00, -9.67286702e-01,\n",
       "        -8.53705780e-01, -1.54407501e+00, -3.13265745e-02,\n",
       "        -3.81026135e-01, -1.48298117e-01],\n",
       "       [-5.31387516e-01,  9.06326967e-01, -9.67286702e-01,\n",
       "         1.17136375e+00,  9.16794537e-01, -3.13265745e-02,\n",
       "        -1.61286789e-03,  1.24492367e+00]])"
      ]
     },
     "execution_count": 31,
     "metadata": {},
     "output_type": "execute_result"
    }
   ],
   "source": [
    "X_train"
   ]
  },
  {
   "cell_type": "code",
   "execution_count": 32,
   "metadata": {
    "execution": {
     "iopub.execute_input": "2020-08-30T17:02:42.467581Z",
     "iopub.status.busy": "2020-08-30T17:02:42.466800Z",
     "iopub.status.idle": "2020-08-30T17:02:42.606172Z",
     "shell.execute_reply": "2020-08-30T17:02:42.606969Z"
    },
    "papermill": {
     "duration": 0.165778,
     "end_time": "2020-08-30T17:02:42.607166",
     "exception": false,
     "start_time": "2020-08-30T17:02:42.441388",
     "status": "completed"
    },
    "tags": []
   },
   "outputs": [
    {
     "name": "stderr",
     "output_type": "stream",
     "text": [
      "/opt/conda/lib/python3.7/site-packages/ipykernel_launcher.py:3: DataConversionWarning: A column-vector y was passed when a 1d array was expected. Please change the shape of y to (n_samples, ), for example using ravel().\n",
      "  This is separate from the ipykernel package so we can avoid doing imports until\n"
     ]
    },
    {
     "data": {
      "text/plain": [
       "KNeighborsClassifier(n_neighbors=4)"
      ]
     },
     "execution_count": 32,
     "metadata": {},
     "output_type": "execute_result"
    }
   ],
   "source": [
    "from sklearn.neighbors import KNeighborsClassifier\n",
    "classifier = KNeighborsClassifier(n_neighbors=4)\n",
    "classifier.fit(X_train, Y_train)"
   ]
  },
  {
   "cell_type": "code",
   "execution_count": 33,
   "metadata": {
    "execution": {
     "iopub.execute_input": "2020-08-30T17:02:42.658422Z",
     "iopub.status.busy": "2020-08-30T17:02:42.657426Z",
     "iopub.status.idle": "2020-08-30T17:02:42.661676Z",
     "shell.execute_reply": "2020-08-30T17:02:42.662267Z"
    },
    "papermill": {
     "duration": 0.034256,
     "end_time": "2020-08-30T17:02:42.662432",
     "exception": false,
     "start_time": "2020-08-30T17:02:42.628176",
     "status": "completed"
    },
    "tags": []
   },
   "outputs": [],
   "source": [
    "y_pred = classifier.predict(X_test)"
   ]
  },
  {
   "cell_type": "code",
   "execution_count": 34,
   "metadata": {
    "execution": {
     "iopub.execute_input": "2020-08-30T17:02:42.714216Z",
     "iopub.status.busy": "2020-08-30T17:02:42.713255Z",
     "iopub.status.idle": "2020-08-30T17:02:42.720799Z",
     "shell.execute_reply": "2020-08-30T17:02:42.721366Z"
    },
    "papermill": {
     "duration": 0.038414,
     "end_time": "2020-08-30T17:02:42.721532",
     "exception": false,
     "start_time": "2020-08-30T17:02:42.683118",
     "status": "completed"
    },
    "tags": []
   },
   "outputs": [
    {
     "name": "stdout",
     "output_type": "stream",
     "text": [
      "[[18  6  0]\n",
      " [12  2  0]\n",
      " [ 0  3  3]]\n",
      "              precision    recall  f1-score   support\n",
      "\n",
      "           0       0.60      0.75      0.67        24\n",
      "           1       0.18      0.14      0.16        14\n",
      "           2       1.00      0.50      0.67         6\n",
      "\n",
      "    accuracy                           0.52        44\n",
      "   macro avg       0.59      0.46      0.50        44\n",
      "weighted avg       0.52      0.52      0.51        44\n",
      "\n"
     ]
    }
   ],
   "source": [
    "from sklearn.metrics import classification_report, confusion_matrix\n",
    "print(confusion_matrix(Y_test, y_pred))\n",
    "print(classification_report(Y_test, y_pred))"
   ]
  },
  {
   "cell_type": "code",
   "execution_count": 35,
   "metadata": {
    "execution": {
     "iopub.execute_input": "2020-08-30T17:02:42.769521Z",
     "iopub.status.busy": "2020-08-30T17:02:42.768478Z",
     "iopub.status.idle": "2020-08-30T17:02:42.771504Z",
     "shell.execute_reply": "2020-08-30T17:02:42.770790Z"
    },
    "papermill": {
     "duration": 0.028996,
     "end_time": "2020-08-30T17:02:42.771629",
     "exception": false,
     "start_time": "2020-08-30T17:02:42.742633",
     "status": "completed"
    },
    "tags": []
   },
   "outputs": [],
   "source": [
    "Expected = Y_test['Product'].values"
   ]
  },
  {
   "cell_type": "code",
   "execution_count": 36,
   "metadata": {
    "execution": {
     "iopub.execute_input": "2020-08-30T17:02:42.819304Z",
     "iopub.status.busy": "2020-08-30T17:02:42.818222Z",
     "iopub.status.idle": "2020-08-30T17:02:42.822147Z",
     "shell.execute_reply": "2020-08-30T17:02:42.822673Z"
    },
    "papermill": {
     "duration": 0.030526,
     "end_time": "2020-08-30T17:02:42.822841",
     "exception": false,
     "start_time": "2020-08-30T17:02:42.792315",
     "status": "completed"
    },
    "tags": []
   },
   "outputs": [
    {
     "data": {
      "text/plain": [
       "array([-0.53138752,  0.90632697,  0.59879653,  1.17136375, -0.31364024,\n",
       "        1.56632872, -0.88691049,  0.78051641])"
      ]
     },
     "execution_count": 36,
     "metadata": {},
     "output_type": "execute_result"
    }
   ],
   "source": [
    "X_test[6]"
   ]
  },
  {
   "cell_type": "code",
   "execution_count": 37,
   "metadata": {
    "execution": {
     "iopub.execute_input": "2020-08-30T17:02:42.871246Z",
     "iopub.status.busy": "2020-08-30T17:02:42.870450Z",
     "iopub.status.idle": "2020-08-30T17:02:42.968711Z",
     "shell.execute_reply": "2020-08-30T17:02:42.967960Z"
    },
    "papermill": {
     "duration": 0.125346,
     "end_time": "2020-08-30T17:02:42.968880",
     "exception": false,
     "start_time": "2020-08-30T17:02:42.843534",
     "status": "completed"
    },
    "tags": []
   },
   "outputs": [],
   "source": [
    "my_submission = pd.DataFrame({'Predicted': y_pred, 'Expected' :Expected})\n",
    "my_submission.to_csv('./submission.csv', index=False)\n"
   ]
  },
  {
   "cell_type": "code",
   "execution_count": null,
   "metadata": {
    "papermill": {
     "duration": 0.020761,
     "end_time": "2020-08-30T17:02:43.010866",
     "exception": false,
     "start_time": "2020-08-30T17:02:42.990105",
     "status": "completed"
    },
    "tags": []
   },
   "outputs": [],
   "source": []
  }
 ],
 "metadata": {
  "kernelspec": {
   "display_name": "Python 3",
   "language": "python",
   "name": "python3"
  },
  "language_info": {
   "codemirror_mode": {
    "name": "ipython",
    "version": 3
   },
   "file_extension": ".py",
   "mimetype": "text/x-python",
   "name": "python",
   "nbconvert_exporter": "python",
   "pygments_lexer": "ipython3",
   "version": "3.7.6"
  },
  "papermill": {
   "duration": 10.607683,
   "end_time": "2020-08-30T17:02:43.139218",
   "environment_variables": {},
   "exception": null,
   "input_path": "__notebook__.ipynb",
   "output_path": "__notebook__.ipynb",
   "parameters": {},
   "start_time": "2020-08-30T17:02:32.531535",
   "version": "2.1.0"
  }
 },
 "nbformat": 4,
 "nbformat_minor": 4
}
