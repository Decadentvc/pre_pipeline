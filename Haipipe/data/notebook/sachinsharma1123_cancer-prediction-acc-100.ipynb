{
 "cells": [
  {
   "cell_type": "code",
   "execution_count": 1,
   "metadata": {
    "_cell_guid": "b1076dfc-b9ad-4769-8c92-a6c4dae69d19",
    "_uuid": "8f2839f25d086af736a60e9eeb907d3b93b6e0e5",
    "execution": {
     "iopub.execute_input": "2020-08-22T11:05:25.223944Z",
     "iopub.status.busy": "2020-08-22T11:05:25.223106Z",
     "iopub.status.idle": "2020-08-22T11:05:25.236987Z",
     "shell.execute_reply": "2020-08-22T11:05:25.237715Z"
    },
    "papermill": {
     "duration": 0.043031,
     "end_time": "2020-08-22T11:05:25.237923",
     "exception": false,
     "start_time": "2020-08-22T11:05:25.194892",
     "status": "completed"
    },
    "tags": []
   },
   "outputs": [
    {
     "name": "stdout",
     "output_type": "stream",
     "text": [
      "/kaggle/input/lung-cancer-dataset/lung_cancer_examples.csv\n"
     ]
    }
   ],
   "source": [
    "# This Python 3 environment comes with many helpful analytics libraries installed\n",
    "# It is defined by the kaggle/python Docker image: https://github.com/kaggle/docker-python\n",
    "# For example, here's several helpful packages to load\n",
    "\n",
    "import numpy as np # linear algebra\n",
    "import pandas as pd # data processing, CSV file I/O (e.g. pd.read_csv)\n",
    "\n",
    "# Input data files are available in the read-only \"../input/\" directory\n",
    "# For example, running this (by clicking run or pressing Shift+Enter) will list all files under the input directory\n",
    "\n",
    "import os\n",
    "for dirname, _, filenames in os.walk('/kaggle/input'):\n",
    "    for filename in filenames:\n",
    "        print(os.path.join(dirname, filename))\n",
    "\n",
    "# You can write up to 5GB to the current directory (/kaggle/working/) that gets preserved as output when you create a version using \"Save & Run All\" \n",
    "# You can also write temporary files to /kaggle/temp/, but they won't be saved outside of the current session"
   ]
  },
  {
   "cell_type": "code",
   "execution_count": 2,
   "metadata": {
    "_cell_guid": "79c7e3d0-c299-4dcb-8224-4455121ee9b0",
    "_uuid": "d629ff2d2480ee46fbb7e2d37f6b5fab8052498a",
    "execution": {
     "iopub.execute_input": "2020-08-22T11:05:25.291644Z",
     "iopub.status.busy": "2020-08-22T11:05:25.290790Z",
     "iopub.status.idle": "2020-08-22T11:05:25.305087Z",
     "shell.execute_reply": "2020-08-22T11:05:25.304413Z"
    },
    "papermill": {
     "duration": 0.04758,
     "end_time": "2020-08-22T11:05:25.305254",
     "exception": false,
     "start_time": "2020-08-22T11:05:25.257674",
     "status": "completed"
    },
    "tags": []
   },
   "outputs": [],
   "source": [
    "df=pd.read_csv('/kaggle/input/lung-cancer-dataset/lung_cancer_examples.csv')"
   ]
  },
  {
   "cell_type": "code",
   "execution_count": 3,
   "metadata": {
    "execution": {
     "iopub.execute_input": "2020-08-22T11:05:25.358979Z",
     "iopub.status.busy": "2020-08-22T11:05:25.352589Z",
     "iopub.status.idle": "2020-08-22T11:05:25.390878Z",
     "shell.execute_reply": "2020-08-22T11:05:25.390260Z"
    },
    "papermill": {
     "duration": 0.066607,
     "end_time": "2020-08-22T11:05:25.391011",
     "exception": false,
     "start_time": "2020-08-22T11:05:25.324404",
     "status": "completed"
    },
    "tags": []
   },
   "outputs": [
    {
     "data": {
      "text/html": [
       "<div>\n",
       "<style scoped>\n",
       "    .dataframe tbody tr th:only-of-type {\n",
       "        vertical-align: middle;\n",
       "    }\n",
       "\n",
       "    .dataframe tbody tr th {\n",
       "        vertical-align: top;\n",
       "    }\n",
       "\n",
       "    .dataframe thead th {\n",
       "        text-align: right;\n",
       "    }\n",
       "</style>\n",
       "<table border=\"1\" class=\"dataframe\">\n",
       "  <thead>\n",
       "    <tr style=\"text-align: right;\">\n",
       "      <th></th>\n",
       "      <th>Name</th>\n",
       "      <th>Surname</th>\n",
       "      <th>Age</th>\n",
       "      <th>Smokes</th>\n",
       "      <th>AreaQ</th>\n",
       "      <th>Alkhol</th>\n",
       "      <th>Result</th>\n",
       "    </tr>\n",
       "  </thead>\n",
       "  <tbody>\n",
       "    <tr>\n",
       "      <th>0</th>\n",
       "      <td>John</td>\n",
       "      <td>Wick</td>\n",
       "      <td>35</td>\n",
       "      <td>3</td>\n",
       "      <td>5</td>\n",
       "      <td>4</td>\n",
       "      <td>1</td>\n",
       "    </tr>\n",
       "    <tr>\n",
       "      <th>1</th>\n",
       "      <td>John</td>\n",
       "      <td>Constantine</td>\n",
       "      <td>27</td>\n",
       "      <td>20</td>\n",
       "      <td>2</td>\n",
       "      <td>5</td>\n",
       "      <td>1</td>\n",
       "    </tr>\n",
       "    <tr>\n",
       "      <th>2</th>\n",
       "      <td>Camela</td>\n",
       "      <td>Anderson</td>\n",
       "      <td>30</td>\n",
       "      <td>0</td>\n",
       "      <td>5</td>\n",
       "      <td>2</td>\n",
       "      <td>0</td>\n",
       "    </tr>\n",
       "    <tr>\n",
       "      <th>3</th>\n",
       "      <td>Alex</td>\n",
       "      <td>Telles</td>\n",
       "      <td>28</td>\n",
       "      <td>0</td>\n",
       "      <td>8</td>\n",
       "      <td>1</td>\n",
       "      <td>0</td>\n",
       "    </tr>\n",
       "    <tr>\n",
       "      <th>4</th>\n",
       "      <td>Diego</td>\n",
       "      <td>Maradona</td>\n",
       "      <td>68</td>\n",
       "      <td>4</td>\n",
       "      <td>5</td>\n",
       "      <td>6</td>\n",
       "      <td>1</td>\n",
       "    </tr>\n",
       "    <tr>\n",
       "      <th>5</th>\n",
       "      <td>Cristiano</td>\n",
       "      <td>Ronaldo</td>\n",
       "      <td>34</td>\n",
       "      <td>0</td>\n",
       "      <td>10</td>\n",
       "      <td>0</td>\n",
       "      <td>0</td>\n",
       "    </tr>\n",
       "    <tr>\n",
       "      <th>6</th>\n",
       "      <td>Mihail</td>\n",
       "      <td>Tal</td>\n",
       "      <td>58</td>\n",
       "      <td>15</td>\n",
       "      <td>10</td>\n",
       "      <td>0</td>\n",
       "      <td>0</td>\n",
       "    </tr>\n",
       "    <tr>\n",
       "      <th>7</th>\n",
       "      <td>Kathy</td>\n",
       "      <td>Bates</td>\n",
       "      <td>22</td>\n",
       "      <td>12</td>\n",
       "      <td>5</td>\n",
       "      <td>2</td>\n",
       "      <td>0</td>\n",
       "    </tr>\n",
       "    <tr>\n",
       "      <th>8</th>\n",
       "      <td>Nicole</td>\n",
       "      <td>Kidman</td>\n",
       "      <td>45</td>\n",
       "      <td>2</td>\n",
       "      <td>6</td>\n",
       "      <td>0</td>\n",
       "      <td>0</td>\n",
       "    </tr>\n",
       "    <tr>\n",
       "      <th>9</th>\n",
       "      <td>Ray</td>\n",
       "      <td>Milland</td>\n",
       "      <td>52</td>\n",
       "      <td>18</td>\n",
       "      <td>4</td>\n",
       "      <td>5</td>\n",
       "      <td>1</td>\n",
       "    </tr>\n",
       "    <tr>\n",
       "      <th>10</th>\n",
       "      <td>Fredric</td>\n",
       "      <td>March</td>\n",
       "      <td>33</td>\n",
       "      <td>4</td>\n",
       "      <td>8</td>\n",
       "      <td>0</td>\n",
       "      <td>0</td>\n",
       "    </tr>\n",
       "    <tr>\n",
       "      <th>11</th>\n",
       "      <td>Yul</td>\n",
       "      <td>Brynner</td>\n",
       "      <td>18</td>\n",
       "      <td>10</td>\n",
       "      <td>6</td>\n",
       "      <td>3</td>\n",
       "      <td>0</td>\n",
       "    </tr>\n",
       "    <tr>\n",
       "      <th>12</th>\n",
       "      <td>Joan</td>\n",
       "      <td>Crawford</td>\n",
       "      <td>25</td>\n",
       "      <td>2</td>\n",
       "      <td>5</td>\n",
       "      <td>1</td>\n",
       "      <td>0</td>\n",
       "    </tr>\n",
       "    <tr>\n",
       "      <th>13</th>\n",
       "      <td>Jane</td>\n",
       "      <td>Wyman</td>\n",
       "      <td>28</td>\n",
       "      <td>20</td>\n",
       "      <td>2</td>\n",
       "      <td>8</td>\n",
       "      <td>1</td>\n",
       "    </tr>\n",
       "    <tr>\n",
       "      <th>14</th>\n",
       "      <td>Anna</td>\n",
       "      <td>Magnani</td>\n",
       "      <td>34</td>\n",
       "      <td>25</td>\n",
       "      <td>4</td>\n",
       "      <td>8</td>\n",
       "      <td>1</td>\n",
       "    </tr>\n",
       "    <tr>\n",
       "      <th>15</th>\n",
       "      <td>Katharine</td>\n",
       "      <td>Hepburn</td>\n",
       "      <td>39</td>\n",
       "      <td>18</td>\n",
       "      <td>8</td>\n",
       "      <td>1</td>\n",
       "      <td>0</td>\n",
       "    </tr>\n",
       "    <tr>\n",
       "      <th>16</th>\n",
       "      <td>Katharine</td>\n",
       "      <td>Hepburn</td>\n",
       "      <td>42</td>\n",
       "      <td>22</td>\n",
       "      <td>3</td>\n",
       "      <td>5</td>\n",
       "      <td>1</td>\n",
       "    </tr>\n",
       "    <tr>\n",
       "      <th>17</th>\n",
       "      <td>Barbra</td>\n",
       "      <td>Streisand</td>\n",
       "      <td>19</td>\n",
       "      <td>12</td>\n",
       "      <td>8</td>\n",
       "      <td>0</td>\n",
       "      <td>0</td>\n",
       "    </tr>\n",
       "    <tr>\n",
       "      <th>18</th>\n",
       "      <td>Maggie</td>\n",
       "      <td>Smith</td>\n",
       "      <td>62</td>\n",
       "      <td>5</td>\n",
       "      <td>4</td>\n",
       "      <td>3</td>\n",
       "      <td>1</td>\n",
       "    </tr>\n",
       "    <tr>\n",
       "      <th>19</th>\n",
       "      <td>Glenda</td>\n",
       "      <td>Jackson</td>\n",
       "      <td>73</td>\n",
       "      <td>10</td>\n",
       "      <td>7</td>\n",
       "      <td>6</td>\n",
       "      <td>1</td>\n",
       "    </tr>\n",
       "    <tr>\n",
       "      <th>20</th>\n",
       "      <td>Jane</td>\n",
       "      <td>Fonda</td>\n",
       "      <td>55</td>\n",
       "      <td>15</td>\n",
       "      <td>1</td>\n",
       "      <td>3</td>\n",
       "      <td>1</td>\n",
       "    </tr>\n",
       "    <tr>\n",
       "      <th>21</th>\n",
       "      <td>Maximilian</td>\n",
       "      <td>Schell</td>\n",
       "      <td>33</td>\n",
       "      <td>8</td>\n",
       "      <td>8</td>\n",
       "      <td>1</td>\n",
       "      <td>0</td>\n",
       "    </tr>\n",
       "    <tr>\n",
       "      <th>22</th>\n",
       "      <td>Gregory</td>\n",
       "      <td>Peck</td>\n",
       "      <td>22</td>\n",
       "      <td>20</td>\n",
       "      <td>6</td>\n",
       "      <td>2</td>\n",
       "      <td>0</td>\n",
       "    </tr>\n",
       "    <tr>\n",
       "      <th>23</th>\n",
       "      <td>Sidney</td>\n",
       "      <td>Poitier</td>\n",
       "      <td>44</td>\n",
       "      <td>5</td>\n",
       "      <td>8</td>\n",
       "      <td>1</td>\n",
       "      <td>0</td>\n",
       "    </tr>\n",
       "    <tr>\n",
       "      <th>24</th>\n",
       "      <td>Rex</td>\n",
       "      <td>Harrison</td>\n",
       "      <td>77</td>\n",
       "      <td>3</td>\n",
       "      <td>2</td>\n",
       "      <td>6</td>\n",
       "      <td>1</td>\n",
       "    </tr>\n",
       "    <tr>\n",
       "      <th>25</th>\n",
       "      <td>Lee</td>\n",
       "      <td>Marvin</td>\n",
       "      <td>21</td>\n",
       "      <td>20</td>\n",
       "      <td>5</td>\n",
       "      <td>3</td>\n",
       "      <td>0</td>\n",
       "    </tr>\n",
       "    <tr>\n",
       "      <th>26</th>\n",
       "      <td>Paul</td>\n",
       "      <td>Scofield</td>\n",
       "      <td>37</td>\n",
       "      <td>15</td>\n",
       "      <td>6</td>\n",
       "      <td>2</td>\n",
       "      <td>0</td>\n",
       "    </tr>\n",
       "    <tr>\n",
       "      <th>27</th>\n",
       "      <td>Rod</td>\n",
       "      <td>Steiger</td>\n",
       "      <td>34</td>\n",
       "      <td>12</td>\n",
       "      <td>8</td>\n",
       "      <td>0</td>\n",
       "      <td>0</td>\n",
       "    </tr>\n",
       "    <tr>\n",
       "      <th>28</th>\n",
       "      <td>John</td>\n",
       "      <td>Wayne</td>\n",
       "      <td>55</td>\n",
       "      <td>20</td>\n",
       "      <td>1</td>\n",
       "      <td>4</td>\n",
       "      <td>1</td>\n",
       "    </tr>\n",
       "    <tr>\n",
       "      <th>29</th>\n",
       "      <td>Gene</td>\n",
       "      <td>Hackman</td>\n",
       "      <td>40</td>\n",
       "      <td>20</td>\n",
       "      <td>2</td>\n",
       "      <td>7</td>\n",
       "      <td>1</td>\n",
       "    </tr>\n",
       "    <tr>\n",
       "      <th>30</th>\n",
       "      <td>Marlon</td>\n",
       "      <td>Brando</td>\n",
       "      <td>36</td>\n",
       "      <td>13</td>\n",
       "      <td>5</td>\n",
       "      <td>2</td>\n",
       "      <td>0</td>\n",
       "    </tr>\n",
       "    <tr>\n",
       "      <th>31</th>\n",
       "      <td>Jack</td>\n",
       "      <td>Lemmon</td>\n",
       "      <td>56</td>\n",
       "      <td>20</td>\n",
       "      <td>3</td>\n",
       "      <td>3</td>\n",
       "      <td>1</td>\n",
       "    </tr>\n",
       "    <tr>\n",
       "      <th>32</th>\n",
       "      <td>Jack</td>\n",
       "      <td>Nicholson</td>\n",
       "      <td>47</td>\n",
       "      <td>15</td>\n",
       "      <td>1</td>\n",
       "      <td>8</td>\n",
       "      <td>1</td>\n",
       "    </tr>\n",
       "    <tr>\n",
       "      <th>33</th>\n",
       "      <td>Peter</td>\n",
       "      <td>Finch</td>\n",
       "      <td>62</td>\n",
       "      <td>25</td>\n",
       "      <td>3</td>\n",
       "      <td>4</td>\n",
       "      <td>1</td>\n",
       "    </tr>\n",
       "    <tr>\n",
       "      <th>34</th>\n",
       "      <td>Richard</td>\n",
       "      <td>Dreyfuss</td>\n",
       "      <td>26</td>\n",
       "      <td>10</td>\n",
       "      <td>7</td>\n",
       "      <td>2</td>\n",
       "      <td>0</td>\n",
       "    </tr>\n",
       "    <tr>\n",
       "      <th>35</th>\n",
       "      <td>Dustin</td>\n",
       "      <td>Hoffman</td>\n",
       "      <td>25</td>\n",
       "      <td>20</td>\n",
       "      <td>8</td>\n",
       "      <td>2</td>\n",
       "      <td>0</td>\n",
       "    </tr>\n",
       "    <tr>\n",
       "      <th>36</th>\n",
       "      <td>Henry</td>\n",
       "      <td>Henry</td>\n",
       "      <td>59</td>\n",
       "      <td>20</td>\n",
       "      <td>3</td>\n",
       "      <td>4</td>\n",
       "      <td>1</td>\n",
       "    </tr>\n",
       "    <tr>\n",
       "      <th>37</th>\n",
       "      <td>Robert</td>\n",
       "      <td>Duvall</td>\n",
       "      <td>62</td>\n",
       "      <td>15</td>\n",
       "      <td>5</td>\n",
       "      <td>5</td>\n",
       "      <td>1</td>\n",
       "    </tr>\n",
       "    <tr>\n",
       "      <th>38</th>\n",
       "      <td>Ellen</td>\n",
       "      <td>Burstyn</td>\n",
       "      <td>33</td>\n",
       "      <td>25</td>\n",
       "      <td>8</td>\n",
       "      <td>2</td>\n",
       "      <td>0</td>\n",
       "    </tr>\n",
       "    <tr>\n",
       "      <th>39</th>\n",
       "      <td>Faye</td>\n",
       "      <td>Dunaway</td>\n",
       "      <td>37</td>\n",
       "      <td>10</td>\n",
       "      <td>5</td>\n",
       "      <td>3</td>\n",
       "      <td>0</td>\n",
       "    </tr>\n",
       "    <tr>\n",
       "      <th>40</th>\n",
       "      <td>Diane</td>\n",
       "      <td>Keaton</td>\n",
       "      <td>50</td>\n",
       "      <td>20</td>\n",
       "      <td>2</td>\n",
       "      <td>4</td>\n",
       "      <td>1</td>\n",
       "    </tr>\n",
       "    <tr>\n",
       "      <th>41</th>\n",
       "      <td>Jane</td>\n",
       "      <td>Fonda</td>\n",
       "      <td>47</td>\n",
       "      <td>12</td>\n",
       "      <td>8</td>\n",
       "      <td>0</td>\n",
       "      <td>0</td>\n",
       "    </tr>\n",
       "    <tr>\n",
       "      <th>42</th>\n",
       "      <td>Sally</td>\n",
       "      <td>Field</td>\n",
       "      <td>69</td>\n",
       "      <td>20</td>\n",
       "      <td>5</td>\n",
       "      <td>4</td>\n",
       "      <td>1</td>\n",
       "    </tr>\n",
       "    <tr>\n",
       "      <th>43</th>\n",
       "      <td>Sissy</td>\n",
       "      <td>Spacek</td>\n",
       "      <td>63</td>\n",
       "      <td>20</td>\n",
       "      <td>4</td>\n",
       "      <td>5</td>\n",
       "      <td>1</td>\n",
       "    </tr>\n",
       "    <tr>\n",
       "      <th>44</th>\n",
       "      <td>Jessica</td>\n",
       "      <td>Lange</td>\n",
       "      <td>39</td>\n",
       "      <td>15</td>\n",
       "      <td>7</td>\n",
       "      <td>2</td>\n",
       "      <td>0</td>\n",
       "    </tr>\n",
       "    <tr>\n",
       "      <th>45</th>\n",
       "      <td>Gwyneth</td>\n",
       "      <td>Paltrow</td>\n",
       "      <td>21</td>\n",
       "      <td>20</td>\n",
       "      <td>8</td>\n",
       "      <td>3</td>\n",
       "      <td>0</td>\n",
       "    </tr>\n",
       "    <tr>\n",
       "      <th>46</th>\n",
       "      <td>Halle</td>\n",
       "      <td>Berry</td>\n",
       "      <td>31</td>\n",
       "      <td>20</td>\n",
       "      <td>9</td>\n",
       "      <td>4</td>\n",
       "      <td>0</td>\n",
       "    </tr>\n",
       "    <tr>\n",
       "      <th>47</th>\n",
       "      <td>Nicole</td>\n",
       "      <td>Kidman</td>\n",
       "      <td>28</td>\n",
       "      <td>10</td>\n",
       "      <td>4</td>\n",
       "      <td>1</td>\n",
       "      <td>0</td>\n",
       "    </tr>\n",
       "    <tr>\n",
       "      <th>48</th>\n",
       "      <td>Charlize</td>\n",
       "      <td>Theron</td>\n",
       "      <td>53</td>\n",
       "      <td>20</td>\n",
       "      <td>6</td>\n",
       "      <td>3</td>\n",
       "      <td>1</td>\n",
       "    </tr>\n",
       "    <tr>\n",
       "      <th>49</th>\n",
       "      <td>Katharine</td>\n",
       "      <td>Hepburn</td>\n",
       "      <td>62</td>\n",
       "      <td>20</td>\n",
       "      <td>5</td>\n",
       "      <td>6</td>\n",
       "      <td>1</td>\n",
       "    </tr>\n",
       "    <tr>\n",
       "      <th>50</th>\n",
       "      <td>Katharine</td>\n",
       "      <td>Hepburn</td>\n",
       "      <td>42</td>\n",
       "      <td>12</td>\n",
       "      <td>6</td>\n",
       "      <td>2</td>\n",
       "      <td>0</td>\n",
       "    </tr>\n",
       "    <tr>\n",
       "      <th>51</th>\n",
       "      <td>Barbra</td>\n",
       "      <td>Streisand</td>\n",
       "      <td>44</td>\n",
       "      <td>30</td>\n",
       "      <td>1</td>\n",
       "      <td>6</td>\n",
       "      <td>1</td>\n",
       "    </tr>\n",
       "    <tr>\n",
       "      <th>52</th>\n",
       "      <td>Maggie</td>\n",
       "      <td>Smith</td>\n",
       "      <td>26</td>\n",
       "      <td>34</td>\n",
       "      <td>1</td>\n",
       "      <td>8</td>\n",
       "      <td>1</td>\n",
       "    </tr>\n",
       "    <tr>\n",
       "      <th>53</th>\n",
       "      <td>Glenda</td>\n",
       "      <td>Jackson</td>\n",
       "      <td>35</td>\n",
       "      <td>20</td>\n",
       "      <td>5</td>\n",
       "      <td>1</td>\n",
       "      <td>0</td>\n",
       "    </tr>\n",
       "    <tr>\n",
       "      <th>54</th>\n",
       "      <td>Ernest</td>\n",
       "      <td>Borgnine</td>\n",
       "      <td>26</td>\n",
       "      <td>13</td>\n",
       "      <td>6</td>\n",
       "      <td>1</td>\n",
       "      <td>0</td>\n",
       "    </tr>\n",
       "    <tr>\n",
       "      <th>55</th>\n",
       "      <td>Alec</td>\n",
       "      <td>Guinness</td>\n",
       "      <td>77</td>\n",
       "      <td>20</td>\n",
       "      <td>5</td>\n",
       "      <td>4</td>\n",
       "      <td>1</td>\n",
       "    </tr>\n",
       "    <tr>\n",
       "      <th>56</th>\n",
       "      <td>Charlton</td>\n",
       "      <td>Heston</td>\n",
       "      <td>75</td>\n",
       "      <td>15</td>\n",
       "      <td>3</td>\n",
       "      <td>5</td>\n",
       "      <td>1</td>\n",
       "    </tr>\n",
       "    <tr>\n",
       "      <th>57</th>\n",
       "      <td>Gregory</td>\n",
       "      <td>Peck</td>\n",
       "      <td>43</td>\n",
       "      <td>30</td>\n",
       "      <td>3</td>\n",
       "      <td>8</td>\n",
       "      <td>1</td>\n",
       "    </tr>\n",
       "    <tr>\n",
       "      <th>58</th>\n",
       "      <td>Sidney</td>\n",
       "      <td>Poitier</td>\n",
       "      <td>51</td>\n",
       "      <td>25</td>\n",
       "      <td>9</td>\n",
       "      <td>0</td>\n",
       "      <td>0</td>\n",
       "    </tr>\n",
       "  </tbody>\n",
       "</table>\n",
       "</div>"
      ],
      "text/plain": [
       "           Name      Surname  Age  Smokes  AreaQ  Alkhol  Result\n",
       "0          John         Wick   35       3      5       4       1\n",
       "1          John  Constantine   27      20      2       5       1\n",
       "2        Camela     Anderson   30       0      5       2       0\n",
       "3          Alex       Telles   28       0      8       1       0\n",
       "4         Diego     Maradona   68       4      5       6       1\n",
       "5     Cristiano      Ronaldo   34       0     10       0       0\n",
       "6        Mihail          Tal   58      15     10       0       0\n",
       "7         Kathy        Bates   22      12      5       2       0\n",
       "8        Nicole       Kidman   45       2      6       0       0\n",
       "9           Ray      Milland   52      18      4       5       1\n",
       "10      Fredric        March   33       4      8       0       0\n",
       "11          Yul      Brynner   18      10      6       3       0\n",
       "12         Joan     Crawford   25       2      5       1       0\n",
       "13         Jane        Wyman   28      20      2       8       1\n",
       "14         Anna      Magnani   34      25      4       8       1\n",
       "15   Katharine       Hepburn   39      18      8       1       0\n",
       "16   Katharine       Hepburn   42      22      3       5       1\n",
       "17       Barbra    Streisand   19      12      8       0       0\n",
       "18      Maggie         Smith   62       5      4       3       1\n",
       "19      Glenda       Jackson   73      10      7       6       1\n",
       "20        Jane         Fonda   55      15      1       3       1\n",
       "21  Maximilian        Schell   33       8      8       1       0\n",
       "22     Gregory          Peck   22      20      6       2       0\n",
       "23      Sidney       Poitier   44       5      8       1       0\n",
       "24         Rex      Harrison   77       3      2       6       1\n",
       "25         Lee        Marvin   21      20      5       3       0\n",
       "26        Paul      Scofield   37      15      6       2       0\n",
       "27         Rod       Steiger   34      12      8       0       0\n",
       "28        John         Wayne   55      20      1       4       1\n",
       "29        Gene       Hackman   40      20      2       7       1\n",
       "30      Marlon        Brando   36      13      5       2       0\n",
       "31        Jack        Lemmon   56      20      3       3       1\n",
       "32        Jack     Nicholson   47      15      1       8       1\n",
       "33       Peter        Finch    62      25      3       4       1\n",
       "34     Richard      Dreyfuss   26      10      7       2       0\n",
       "35      Dustin       Hoffman   25      20      8       2       0\n",
       "36       Henry        Henry    59      20      3       4       1\n",
       "37      Robert        Duvall   62      15      5       5       1\n",
       "38       Ellen       Burstyn   33      25      8       2       0\n",
       "39        Faye       Dunaway   37      10      5       3       0\n",
       "40       Diane        Keaton   50      20      2       4       1\n",
       "41        Jane         Fonda   47      12      8       0       0\n",
       "42       Sally         Field   69      20      5       4       1\n",
       "43       Sissy        Spacek   63      20      4       5       1\n",
       "44     Jessica         Lange   39      15      7       2       0\n",
       "45     Gwyneth       Paltrow   21      20      8       3       0\n",
       "46       Halle         Berry   31      20      9       4       0\n",
       "47      Nicole        Kidman   28      10      4       1       0\n",
       "48    Charlize        Theron   53      20      6       3       1\n",
       "49   Katharine       Hepburn   62      20      5       6       1\n",
       "50   Katharine       Hepburn   42      12      6       2       0\n",
       "51      Barbra     Streisand   44      30      1       6       1\n",
       "52      Maggie         Smith   26      34      1       8       1\n",
       "53      Glenda       Jackson   35      20      5       1       0\n",
       "54      Ernest      Borgnine   26      13      6       1       0\n",
       "55        Alec      Guinness   77      20      5       4       1\n",
       "56    Charlton        Heston   75      15      3       5       1\n",
       "57     Gregory          Peck   43      30      3       8       1\n",
       "58      Sidney       Poitier   51      25      9       0       0"
      ]
     },
     "execution_count": 3,
     "metadata": {},
     "output_type": "execute_result"
    }
   ],
   "source": [
    "df"
   ]
  },
  {
   "cell_type": "code",
   "execution_count": 4,
   "metadata": {
    "execution": {
     "iopub.execute_input": "2020-08-22T11:05:25.442100Z",
     "iopub.status.busy": "2020-08-22T11:05:25.441201Z",
     "iopub.status.idle": "2020-08-22T11:05:25.446553Z",
     "shell.execute_reply": "2020-08-22T11:05:25.445928Z"
    },
    "papermill": {
     "duration": 0.034735,
     "end_time": "2020-08-22T11:05:25.446690",
     "exception": false,
     "start_time": "2020-08-22T11:05:25.411955",
     "status": "completed"
    },
    "tags": []
   },
   "outputs": [
    {
     "data": {
      "text/plain": [
       "Name       0\n",
       "Surname    0\n",
       "Age        0\n",
       "Smokes     0\n",
       "AreaQ      0\n",
       "Alkhol     0\n",
       "Result     0\n",
       "dtype: int64"
      ]
     },
     "execution_count": 4,
     "metadata": {},
     "output_type": "execute_result"
    }
   ],
   "source": [
    "df.isnull().sum()"
   ]
  },
  {
   "cell_type": "code",
   "execution_count": 5,
   "metadata": {
    "execution": {
     "iopub.execute_input": "2020-08-22T11:05:25.510083Z",
     "iopub.status.busy": "2020-08-22T11:05:25.509312Z",
     "iopub.status.idle": "2020-08-22T11:05:25.514032Z",
     "shell.execute_reply": "2020-08-22T11:05:25.513097Z"
    },
    "papermill": {
     "duration": 0.046267,
     "end_time": "2020-08-22T11:05:25.514232",
     "exception": false,
     "start_time": "2020-08-22T11:05:25.467965",
     "status": "completed"
    },
    "tags": []
   },
   "outputs": [
    {
     "name": "stdout",
     "output_type": "stream",
     "text": [
      "<class 'pandas.core.frame.DataFrame'>\n",
      "RangeIndex: 59 entries, 0 to 58\n",
      "Data columns (total 7 columns):\n",
      " #   Column   Non-Null Count  Dtype \n",
      "---  ------   --------------  ----- \n",
      " 0   Name     59 non-null     object\n",
      " 1   Surname  59 non-null     object\n",
      " 2   Age      59 non-null     int64 \n",
      " 3   Smokes   59 non-null     int64 \n",
      " 4   AreaQ    59 non-null     int64 \n",
      " 5   Alkhol   59 non-null     int64 \n",
      " 6   Result   59 non-null     int64 \n",
      "dtypes: int64(5), object(2)\n",
      "memory usage: 3.4+ KB\n"
     ]
    }
   ],
   "source": [
    "df.info()"
   ]
  },
  {
   "cell_type": "code",
   "execution_count": 6,
   "metadata": {
    "execution": {
     "iopub.execute_input": "2020-08-22T11:05:25.565997Z",
     "iopub.status.busy": "2020-08-22T11:05:25.565255Z",
     "iopub.status.idle": "2020-08-22T11:05:26.933639Z",
     "shell.execute_reply": "2020-08-22T11:05:26.933005Z"
    },
    "papermill": {
     "duration": 1.396951,
     "end_time": "2020-08-22T11:05:26.933775",
     "exception": false,
     "start_time": "2020-08-22T11:05:25.536824",
     "status": "completed"
    },
    "tags": []
   },
   "outputs": [
    {
     "data": {
      "text/plain": [
       "<matplotlib.axes._subplots.AxesSubplot at 0x7f68321e2710>"
      ]
     },
     "execution_count": 6,
     "metadata": {},
     "output_type": "execute_result"
    },
    {
     "data": {
      "image/png": "[encoded data removed]",
      "text/plain": [
       "<Figure size 432x288 with 1 Axes>"
      ]
     },
     "metadata": {
      "needs_background": "light"
     },
     "output_type": "display_data"
    }
   ],
   "source": [
    "import matplotlib.pyplot as plt\n",
    "import seaborn as sns\n",
    "sns.countplot(df['Result'])"
   ]
  },
  {
   "cell_type": "code",
   "execution_count": 7,
   "metadata": {
    "execution": {
     "iopub.execute_input": "2020-08-22T11:05:26.987224Z",
     "iopub.status.busy": "2020-08-22T11:05:26.986121Z",
     "iopub.status.idle": "2020-08-22T11:05:26.989900Z",
     "shell.execute_reply": "2020-08-22T11:05:26.989120Z"
    },
    "papermill": {
     "duration": 0.033136,
     "end_time": "2020-08-22T11:05:26.990027",
     "exception": false,
     "start_time": "2020-08-22T11:05:26.956891",
     "status": "completed"
    },
    "tags": []
   },
   "outputs": [],
   "source": [
    "#both the classes are somehow equally balanced\n"
   ]
  },
  {
   "cell_type": "code",
   "execution_count": 8,
   "metadata": {
    "execution": {
     "iopub.execute_input": "2020-08-22T11:05:27.057460Z",
     "iopub.status.busy": "2020-08-22T11:05:27.051801Z",
     "iopub.status.idle": "2020-08-22T11:05:27.804761Z",
     "shell.execute_reply": "2020-08-22T11:05:27.803998Z"
    },
    "papermill": {
     "duration": 0.790843,
     "end_time": "2020-08-22T11:05:27.804949",
     "exception": false,
     "start_time": "2020-08-22T11:05:27.014106",
     "status": "completed"
    },
    "tags": []
   },
   "outputs": [
    {
     "data": {
      "text/plain": [
       "<matplotlib.axes._subplots.AxesSubplot at 0x7f6831feb650>"
      ]
     },
     "execution_count": 8,
     "metadata": {},
     "output_type": "execute_result"
    },
    {
     "data": {
      "image/png": "[encoded data removed]",
      "text/plain": [
       "<Figure size 432x288 with 1 Axes>"
      ]
     },
     "metadata": {
      "needs_background": "light"
     },
     "output_type": "display_data"
    }
   ],
   "source": [
    "sns.lineplot(x=df['Age'],y=df['AreaQ'],data=df)"
   ]
  },
  {
   "cell_type": "code",
   "execution_count": 9,
   "metadata": {
    "execution": {
     "iopub.execute_input": "2020-08-22T11:05:27.875628Z",
     "iopub.status.busy": "2020-08-22T11:05:27.874716Z",
     "iopub.status.idle": "2020-08-22T11:05:28.611643Z",
     "shell.execute_reply": "2020-08-22T11:05:28.610964Z"
    },
    "papermill": {
     "duration": 0.781233,
     "end_time": "2020-08-22T11:05:28.611776",
     "exception": false,
     "start_time": "2020-08-22T11:05:27.830543",
     "status": "completed"
    },
    "tags": []
   },
   "outputs": [
    {
     "data": {
      "text/plain": [
       "<matplotlib.axes._subplots.AxesSubplot at 0x7f682ff13ad0>"
      ]
     },
     "execution_count": 9,
     "metadata": {},
     "output_type": "execute_result"
    },
    {
     "data": {
      "image/png": "[encoded data removed]",
      "text/plain": [
       "<Figure size 432x288 with 1 Axes>"
      ]
     },
     "metadata": {
      "needs_background": "light"
     },
     "output_type": "display_data"
    }
   ],
   "source": [
    "sns.lineplot(x=df['Age'],y=df['Alkhol'],data=df)"
   ]
  },
  {
   "cell_type": "code",
   "execution_count": 10,
   "metadata": {
    "execution": {
     "iopub.execute_input": "2020-08-22T11:05:28.670764Z",
     "iopub.status.busy": "2020-08-22T11:05:28.669933Z",
     "iopub.status.idle": "2020-08-22T11:05:28.672850Z",
     "shell.execute_reply": "2020-08-22T11:05:28.673583Z"
    },
    "papermill": {
     "duration": 0.035142,
     "end_time": "2020-08-22T11:05:28.673754",
     "exception": false,
     "start_time": "2020-08-22T11:05:28.638612",
     "status": "completed"
    },
    "tags": []
   },
   "outputs": [],
   "source": [
    "#people belonging to age gropu 40-50 consumes more alcohol"
   ]
  },
  {
   "cell_type": "code",
   "execution_count": 11,
   "metadata": {
    "execution": {
     "iopub.execute_input": "2020-08-22T11:05:28.746525Z",
     "iopub.status.busy": "2020-08-22T11:05:28.745718Z",
     "iopub.status.idle": "2020-08-22T11:05:29.507480Z",
     "shell.execute_reply": "2020-08-22T11:05:29.506727Z"
    },
    "papermill": {
     "duration": 0.806992,
     "end_time": "2020-08-22T11:05:29.507608",
     "exception": false,
     "start_time": "2020-08-22T11:05:28.700616",
     "status": "completed"
    },
    "tags": []
   },
   "outputs": [
    {
     "data": {
      "text/plain": [
       "<matplotlib.axes._subplots.AxesSubplot at 0x7f682fe87590>"
      ]
     },
     "execution_count": 11,
     "metadata": {},
     "output_type": "execute_result"
    },
    {
     "data": {
      "image/png": "[encoded data removed]",
      "text/plain": [
       "<Figure size 432x288 with 1 Axes>"
      ]
     },
     "metadata": {
      "needs_background": "light"
     },
     "output_type": "display_data"
    }
   ],
   "source": [
    "sns.lineplot(x=df['Age'],y=df['Smokes'],data=df)"
   ]
  },
  {
   "cell_type": "code",
   "execution_count": 12,
   "metadata": {
    "execution": {
     "iopub.execute_input": "2020-08-22T11:05:29.571711Z",
     "iopub.status.busy": "2020-08-22T11:05:29.570872Z",
     "iopub.status.idle": "2020-08-22T11:05:29.574685Z",
     "shell.execute_reply": "2020-08-22T11:05:29.574003Z"
    },
    "papermill": {
     "duration": 0.038726,
     "end_time": "2020-08-22T11:05:29.574814",
     "exception": false,
     "start_time": "2020-08-22T11:05:29.536088",
     "status": "completed"
    },
    "tags": []
   },
   "outputs": [],
   "source": [
    "#drop the unnecessary features like name surname\n",
    "df=df.drop(['Name','Surname'],axis=1)"
   ]
  },
  {
   "cell_type": "code",
   "execution_count": 13,
   "metadata": {
    "execution": {
     "iopub.execute_input": "2020-08-22T11:05:29.639701Z",
     "iopub.status.busy": "2020-08-22T11:05:29.638735Z",
     "iopub.status.idle": "2020-08-22T11:05:29.641641Z",
     "shell.execute_reply": "2020-08-22T11:05:29.640888Z"
    },
    "papermill": {
     "duration": 0.038253,
     "end_time": "2020-08-22T11:05:29.641767",
     "exception": false,
     "start_time": "2020-08-22T11:05:29.603514",
     "status": "completed"
    },
    "tags": []
   },
   "outputs": [],
   "source": [
    "y=df['Result']\n",
    "x=df.drop(['Result'],axis=1)"
   ]
  },
  {
   "cell_type": "code",
   "execution_count": 14,
   "metadata": {
    "execution": {
     "iopub.execute_input": "2020-08-22T11:05:29.705890Z",
     "iopub.status.busy": "2020-08-22T11:05:29.704999Z",
     "iopub.status.idle": "2020-08-22T11:05:29.826651Z",
     "shell.execute_reply": "2020-08-22T11:05:29.825923Z"
    },
    "papermill": {
     "duration": 0.156278,
     "end_time": "2020-08-22T11:05:29.826789",
     "exception": false,
     "start_time": "2020-08-22T11:05:29.670511",
     "status": "completed"
    },
    "tags": []
   },
   "outputs": [],
   "source": [
    "from sklearn.model_selection import train_test_split\n",
    "x_train,x_test,y_train,y_test=train_test_split(x,y,random_state=0,test_size=0.1)\n"
   ]
  },
  {
   "cell_type": "code",
   "execution_count": 15,
   "metadata": {
    "execution": {
     "iopub.execute_input": "2020-08-22T11:05:29.893469Z",
     "iopub.status.busy": "2020-08-22T11:05:29.892472Z",
     "iopub.status.idle": "2020-08-22T11:05:30.094811Z",
     "shell.execute_reply": "2020-08-22T11:05:30.095412Z"
    },
    "papermill": {
     "duration": 0.239762,
     "end_time": "2020-08-22T11:05:30.095597",
     "exception": false,
     "start_time": "2020-08-22T11:05:29.855835",
     "status": "completed"
    },
    "tags": []
   },
   "outputs": [],
   "source": [
    "from sklearn.linear_model import LogisticRegression\n",
    "from sklearn.metrics import accuracy_score\n",
    "list_scores=[]\n",
    "list_models=[]\n",
    "lr=LogisticRegression(max_iter=1000)\n",
    "lr.fit(x_train,y_train)\n",
    "pred_1=lr.predict(x_test)\n",
    "score_1=accuracy_score(y_test,pred_1)\n",
    "list_models.append('logisticregression')\n",
    "list_scores.append(score_1)"
   ]
  },
  {
   "cell_type": "code",
   "execution_count": 16,
   "metadata": {
    "execution": {
     "iopub.execute_input": "2020-08-22T11:05:30.163353Z",
     "iopub.status.busy": "2020-08-22T11:05:30.162320Z",
     "iopub.status.idle": "2020-08-22T11:05:30.341837Z",
     "shell.execute_reply": "2020-08-22T11:05:30.341129Z"
    },
    "papermill": {
     "duration": 0.216969,
     "end_time": "2020-08-22T11:05:30.341967",
     "exception": false,
     "start_time": "2020-08-22T11:05:30.124998",
     "status": "completed"
    },
    "tags": []
   },
   "outputs": [],
   "source": [
    "from sklearn.neighbors import KNeighborsClassifier\n",
    "list_1=[]\n",
    "for i in range(1,21):\n",
    "    knn=KNeighborsClassifier(n_neighbors=i)\n",
    "    knn.fit(x_train,y_train)\n",
    "    preds=knn.predict(x_test)\n",
    "    scores=accuracy_score(y_test,preds)\n",
    "    list_1.append(scores)\n",
    "    "
   ]
  },
  {
   "cell_type": "code",
   "execution_count": 17,
   "metadata": {
    "execution": {
     "iopub.execute_input": "2020-08-22T11:05:30.417540Z",
     "iopub.status.busy": "2020-08-22T11:05:30.411251Z",
     "iopub.status.idle": "2020-08-22T11:05:30.594235Z",
     "shell.execute_reply": "2020-08-22T11:05:30.593474Z"
    },
    "papermill": {
     "duration": 0.223032,
     "end_time": "2020-08-22T11:05:30.594382",
     "exception": false,
     "start_time": "2020-08-22T11:05:30.371350",
     "status": "completed"
    },
    "tags": []
   },
   "outputs": [
    {
     "data": {
      "text/plain": [
       "<matplotlib.axes._subplots.AxesSubplot at 0x7f682c12b390>"
      ]
     },
     "execution_count": 17,
     "metadata": {},
     "output_type": "execute_result"
    },
    {
     "data": {
      "image/png": "[encoded data removed]",
      "text/plain": [
       "<Figure size 432x288 with 1 Axes>"
      ]
     },
     "metadata": {
      "needs_background": "light"
     },
     "output_type": "display_data"
    }
   ],
   "source": [
    "sns.lineplot(x=list(range(1,21)),y=list_1)"
   ]
  },
  {
   "cell_type": "code",
   "execution_count": 18,
   "metadata": {
    "execution": {
     "iopub.execute_input": "2020-08-22T11:05:30.662506Z",
     "iopub.status.busy": "2020-08-22T11:05:30.661513Z",
     "iopub.status.idle": "2020-08-22T11:05:30.664760Z",
     "shell.execute_reply": "2020-08-22T11:05:30.664112Z"
    },
    "papermill": {
     "duration": 0.039481,
     "end_time": "2020-08-22T11:05:30.664886",
     "exception": false,
     "start_time": "2020-08-22T11:05:30.625405",
     "status": "completed"
    },
    "tags": []
   },
   "outputs": [],
   "source": [
    "list_scores.append(max(list_1))\n",
    "list_models.append('kneighbors')"
   ]
  },
  {
   "cell_type": "code",
   "execution_count": 19,
   "metadata": {
    "execution": {
     "iopub.execute_input": "2020-08-22T11:05:30.740223Z",
     "iopub.status.busy": "2020-08-22T11:05:30.736693Z",
     "iopub.status.idle": "2020-08-22T11:05:30.743981Z",
     "shell.execute_reply": "2020-08-22T11:05:30.743122Z"
    },
    "papermill": {
     "duration": 0.048215,
     "end_time": "2020-08-22T11:05:30.744117",
     "exception": false,
     "start_time": "2020-08-22T11:05:30.695902",
     "status": "completed"
    },
    "tags": []
   },
   "outputs": [],
   "source": [
    "from sklearn.svm import SVC\n",
    "svm=SVC()\n",
    "svm.fit(x_train,y_train)\n",
    "pred_2=svm.predict(x_test)\n",
    "score_2=accuracy_score(y_test,pred_2)\n",
    "list_scores.append(score_2)\n",
    "list_models.append('svm')"
   ]
  },
  {
   "cell_type": "code",
   "execution_count": 20,
   "metadata": {
    "execution": {
     "iopub.execute_input": "2020-08-22T11:05:30.813214Z",
     "iopub.status.busy": "2020-08-22T11:05:30.812029Z",
     "iopub.status.idle": "2020-08-22T11:05:30.817031Z",
     "shell.execute_reply": "2020-08-22T11:05:30.816251Z"
    },
    "papermill": {
     "duration": 0.04162,
     "end_time": "2020-08-22T11:05:30.817179",
     "exception": false,
     "start_time": "2020-08-22T11:05:30.775559",
     "status": "completed"
    },
    "tags": []
   },
   "outputs": [
    {
     "data": {
      "text/plain": [
       "1.0"
      ]
     },
     "execution_count": 20,
     "metadata": {},
     "output_type": "execute_result"
    }
   ],
   "source": [
    "score_2"
   ]
  },
  {
   "cell_type": "code",
   "execution_count": 21,
   "metadata": {
    "execution": {
     "iopub.execute_input": "2020-08-22T11:05:30.887640Z",
     "iopub.status.busy": "2020-08-22T11:05:30.886815Z",
     "iopub.status.idle": "2020-08-22T11:05:31.168939Z",
     "shell.execute_reply": "2020-08-22T11:05:31.168225Z"
    },
    "papermill": {
     "duration": 0.320443,
     "end_time": "2020-08-22T11:05:31.169082",
     "exception": false,
     "start_time": "2020-08-22T11:05:30.848639",
     "status": "completed"
    },
    "tags": []
   },
   "outputs": [],
   "source": [
    "from sklearn.ensemble import RandomForestClassifier\n",
    "rfc=RandomForestClassifier()\n",
    "rfc.fit(x_train,y_train)\n",
    "pred_3=rfc.predict(x_test)\n",
    "score_3=accuracy_score(y_test,pred_3)\n",
    "list_scores.append(score_3)\n",
    "list_models.append('randomforest classifier')"
   ]
  },
  {
   "cell_type": "code",
   "execution_count": 22,
   "metadata": {
    "execution": {
     "iopub.execute_input": "2020-08-22T11:05:31.239373Z",
     "iopub.status.busy": "2020-08-22T11:05:31.238444Z",
     "iopub.status.idle": "2020-08-22T11:05:31.243186Z",
     "shell.execute_reply": "2020-08-22T11:05:31.242423Z"
    },
    "papermill": {
     "duration": 0.042401,
     "end_time": "2020-08-22T11:05:31.243336",
     "exception": false,
     "start_time": "2020-08-22T11:05:31.200935",
     "status": "completed"
    },
    "tags": []
   },
   "outputs": [
    {
     "data": {
      "text/plain": [
       "1.0"
      ]
     },
     "execution_count": 22,
     "metadata": {},
     "output_type": "execute_result"
    }
   ],
   "source": [
    "score_3"
   ]
  },
  {
   "cell_type": "code",
   "execution_count": 23,
   "metadata": {
    "execution": {
     "iopub.execute_input": "2020-08-22T11:05:31.323472Z",
     "iopub.status.busy": "2020-08-22T11:05:31.322265Z",
     "iopub.status.idle": "2020-08-22T11:05:31.465373Z",
     "shell.execute_reply": "2020-08-22T11:05:31.464714Z"
    },
    "papermill": {
     "duration": 0.189611,
     "end_time": "2020-08-22T11:05:31.465509",
     "exception": false,
     "start_time": "2020-08-22T11:05:31.275898",
     "status": "completed"
    },
    "tags": []
   },
   "outputs": [
    {
     "data": {
      "image/png": "[encoded data removed]",
      "text/plain": [
       "<Figure size 864x288 with 1 Axes>"
      ]
     },
     "metadata": {
      "needs_background": "light"
     },
     "output_type": "display_data"
    }
   ],
   "source": [
    "plt.figure(figsize=(12,4))\n",
    "plt.bar(list_models,list_scores,width=0.2)\n",
    "plt.xlabel('classifiers')\n",
    "plt.ylabel('accuracy scores')\n",
    "plt.show()"
   ]
  }
 ],
 "metadata": {
  "kernelspec": {
   "display_name": "Python 3",
   "language": "python",
   "name": "python3"
  },
  "language_info": {
   "codemirror_mode": {
    "name": "ipython",
    "version": 3
   },
   "file_extension": ".py",
   "mimetype": "text/x-python",
   "name": "python",
   "nbconvert_exporter": "python",
   "pygments_lexer": "ipython3",
   "version": "3.7.6"
  },
  "papermill": {
   "duration": 11.632393,
   "end_time": "2020-08-22T11:05:31.608089",
   "environment_variables": {},
   "exception": null,
   "input_path": "__notebook__.ipynb",
   "output_path": "__notebook__.ipynb",
   "parameters": {},
   "start_time": "2020-08-22T11:05:19.975696",
   "version": "2.1.0"
  }
 },
 "nbformat": 4,
 "nbformat_minor": 4
}
