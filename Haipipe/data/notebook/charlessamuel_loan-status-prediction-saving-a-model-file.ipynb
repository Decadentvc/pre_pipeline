{
 "cells": [
  {
   "cell_type": "code",
   "execution_count": 1,
   "metadata": {
    "_cell_guid": "b1076dfc-b9ad-4769-8c92-a6c4dae69d19",
    "_uuid": "8f2839f25d086af736a60e9eeb907d3b93b6e0e5",
    "execution": {
     "iopub.execute_input": "2020-10-12T03:54:53.355836Z",
     "iopub.status.busy": "2020-10-12T03:54:53.355060Z",
     "iopub.status.idle": "2020-10-12T03:54:53.361290Z",
     "shell.execute_reply": "2020-10-12T03:54:53.361857Z"
    },
    "papermill": {
     "duration": 0.040098,
     "end_time": "2020-10-12T03:54:53.362053",
     "exception": false,
     "start_time": "2020-10-12T03:54:53.321955",
     "status": "completed"
    },
    "tags": []
   },
   "outputs": [
    {
     "name": "stdout",
     "output_type": "stream",
     "text": [
      "/kaggle/input/loan-data-set/loan_data_set.csv\n"
     ]
    }
   ],
   "source": [
    "# This Python 3 environment comes with many helpful analytics libraries installed\n",
    "# It is defined by the kaggle/python Docker image: https://github.com/kaggle/docker-python\n",
    "# For example, here's several helpful packages to load\n",
    "# Input data files are available in the read-only \"../input/\" directory\n",
    "# For example, running this (by clicking run or pressing Shift+Enter) will list all files under the input directory\n",
    "\n",
    "import os\n",
    "for dirname, _, filenames in os.walk('/kaggle/input'):\n",
    "    for filename in filenames:\n",
    "        print(os.path.join(dirname, filename))\n",
    "\n",
    "# You can write up to 5GB to the current directory (/kaggle/working/) that gets preserved as output when you create a version using \"Save & Run All\" \n",
    "# You can also write temporary files to /kaggle/temp/, but they won't be saved outside of the current session"
   ]
  },
  {
   "cell_type": "code",
   "execution_count": 2,
   "metadata": {
    "_cell_guid": "79c7e3d0-c299-4dcb-8224-4455121ee9b0",
    "_uuid": "d629ff2d2480ee46fbb7e2d37f6b5fab8052498a",
    "execution": {
     "iopub.execute_input": "2020-10-12T03:54:53.432470Z",
     "iopub.status.busy": "2020-10-12T03:54:53.431663Z",
     "iopub.status.idle": "2020-10-12T03:54:54.992690Z",
     "shell.execute_reply": "2020-10-12T03:54:54.993242Z"
    },
    "papermill": {
     "duration": 1.605213,
     "end_time": "2020-10-12T03:54:54.993420",
     "exception": false,
     "start_time": "2020-10-12T03:54:53.388207",
     "status": "completed"
    },
    "tags": []
   },
   "outputs": [],
   "source": [
    "import numpy as np\n",
    "import pandas as pd\n",
    "import seaborn as sns\n",
    "from matplotlib import pyplot as plt\n",
    "\n",
    "from sklearn.preprocessing import Normalizer\n",
    "from sklearn.model_selection import train_test_split\n",
    "from pylab import plot, show, subplot, specgram, imshow, savefig\n",
    "from sklearn import preprocessing\n",
    "from sklearn import metrics\n",
    "from sklearn.preprocessing import LabelEncoder\n",
    "from sklearn.model_selection import cross_val_score\n",
    "from sklearn.preprocessing import Normalizer\n",
    "from sklearn.feature_extraction.text import TfidfVectorizer\n",
    "from sklearn.model_selection import train_test_split\n",
    "from sklearn.naive_bayes import MultinomialNB\n",
    "from sklearn.naive_bayes import GaussianNB\n",
    "from sklearn.naive_bayes import BernoulliNB\n",
    "from sklearn.svm import SVC\n",
    "from sklearn.neural_network import MLPClassifier\n",
    "from sklearn.ensemble import AdaBoostClassifier\n",
    "from sklearn.tree import DecisionTreeClassifier\n",
    "from sklearn.ensemble import RandomForestClassifier\n",
    "from sklearn.ensemble import GradientBoostingClassifier\n",
    "from sklearn.linear_model import LogisticRegression\n",
    "from sklearn.model_selection import GridSearchCV\n",
    "from sklearn.metrics import accuracy_score,f1_score, confusion_matrix, accuracy_score, classification_report\n",
    "import pickle\n",
    "%matplotlib inline"
   ]
  },
  {
   "cell_type": "code",
   "execution_count": 3,
   "metadata": {
    "execution": {
     "iopub.execute_input": "2020-10-12T03:54:55.046969Z",
     "iopub.status.busy": "2020-10-12T03:54:55.046174Z",
     "iopub.status.idle": "2020-10-12T03:54:55.049461Z",
     "shell.execute_reply": "2020-10-12T03:54:55.048701Z"
    },
    "papermill": {
     "duration": 0.031699,
     "end_time": "2020-10-12T03:54:55.049605",
     "exception": false,
     "start_time": "2020-10-12T03:54:55.017906",
     "status": "completed"
    },
    "tags": []
   },
   "outputs": [],
   "source": [
    "FILEPATH = '../input/loan-data-set/loan_data_set.csv'"
   ]
  },
  {
   "cell_type": "code",
   "execution_count": 4,
   "metadata": {
    "execution": {
     "iopub.execute_input": "2020-10-12T03:54:55.105432Z",
     "iopub.status.busy": "2020-10-12T03:54:55.104673Z",
     "iopub.status.idle": "2020-10-12T03:54:55.157596Z",
     "shell.execute_reply": "2020-10-12T03:54:55.158170Z"
    },
    "papermill": {
     "duration": 0.083601,
     "end_time": "2020-10-12T03:54:55.158322",
     "exception": false,
     "start_time": "2020-10-12T03:54:55.074721",
     "status": "completed"
    },
    "tags": []
   },
   "outputs": [
    {
     "data": {
      "text/html": [
       "<div>\n",
       "<style scoped>\n",
       "    .dataframe tbody tr th:only-of-type {\n",
       "        vertical-align: middle;\n",
       "    }\n",
       "\n",
       "    .dataframe tbody tr th {\n",
       "        vertical-align: top;\n",
       "    }\n",
       "\n",
       "    .dataframe thead th {\n",
       "        text-align: right;\n",
       "    }\n",
       "</style>\n",
       "<table border=\"1\" class=\"dataframe\">\n",
       "  <thead>\n",
       "    <tr style=\"text-align: right;\">\n",
       "      <th></th>\n",
       "      <th>Loan_ID</th>\n",
       "      <th>Gender</th>\n",
       "      <th>Married</th>\n",
       "      <th>Dependents</th>\n",
       "      <th>Education</th>\n",
       "      <th>Self_Employed</th>\n",
       "      <th>ApplicantIncome</th>\n",
       "      <th>CoapplicantIncome</th>\n",
       "      <th>LoanAmount</th>\n",
       "      <th>Loan_Amount_Term</th>\n",
       "      <th>Credit_History</th>\n",
       "      <th>Property_Area</th>\n",
       "      <th>Loan_Status</th>\n",
       "    </tr>\n",
       "  </thead>\n",
       "  <tbody>\n",
       "    <tr>\n",
       "      <th>92</th>\n",
       "      <td>LP001319</td>\n",
       "      <td>Male</td>\n",
       "      <td>Yes</td>\n",
       "      <td>2</td>\n",
       "      <td>Not Graduate</td>\n",
       "      <td>No</td>\n",
       "      <td>3273</td>\n",
       "      <td>1820.0</td>\n",
       "      <td>81.0</td>\n",
       "      <td>360.0</td>\n",
       "      <td>1.0</td>\n",
       "      <td>Urban</td>\n",
       "      <td>Y</td>\n",
       "    </tr>\n",
       "    <tr>\n",
       "      <th>350</th>\n",
       "      <td>LP002139</td>\n",
       "      <td>Male</td>\n",
       "      <td>Yes</td>\n",
       "      <td>0</td>\n",
       "      <td>Graduate</td>\n",
       "      <td>No</td>\n",
       "      <td>9083</td>\n",
       "      <td>0.0</td>\n",
       "      <td>228.0</td>\n",
       "      <td>360.0</td>\n",
       "      <td>1.0</td>\n",
       "      <td>Semiurban</td>\n",
       "      <td>Y</td>\n",
       "    </tr>\n",
       "    <tr>\n",
       "      <th>394</th>\n",
       "      <td>LP002266</td>\n",
       "      <td>Male</td>\n",
       "      <td>Yes</td>\n",
       "      <td>2</td>\n",
       "      <td>Graduate</td>\n",
       "      <td>No</td>\n",
       "      <td>3100</td>\n",
       "      <td>1400.0</td>\n",
       "      <td>113.0</td>\n",
       "      <td>360.0</td>\n",
       "      <td>1.0</td>\n",
       "      <td>Urban</td>\n",
       "      <td>Y</td>\n",
       "    </tr>\n",
       "    <tr>\n",
       "      <th>377</th>\n",
       "      <td>LP002223</td>\n",
       "      <td>Male</td>\n",
       "      <td>Yes</td>\n",
       "      <td>0</td>\n",
       "      <td>Graduate</td>\n",
       "      <td>No</td>\n",
       "      <td>4310</td>\n",
       "      <td>0.0</td>\n",
       "      <td>130.0</td>\n",
       "      <td>360.0</td>\n",
       "      <td>NaN</td>\n",
       "      <td>Semiurban</td>\n",
       "      <td>Y</td>\n",
       "    </tr>\n",
       "    <tr>\n",
       "      <th>547</th>\n",
       "      <td>LP002772</td>\n",
       "      <td>Male</td>\n",
       "      <td>No</td>\n",
       "      <td>0</td>\n",
       "      <td>Graduate</td>\n",
       "      <td>No</td>\n",
       "      <td>2526</td>\n",
       "      <td>1783.0</td>\n",
       "      <td>145.0</td>\n",
       "      <td>360.0</td>\n",
       "      <td>1.0</td>\n",
       "      <td>Rural</td>\n",
       "      <td>Y</td>\n",
       "    </tr>\n",
       "    <tr>\n",
       "      <th>336</th>\n",
       "      <td>LP002110</td>\n",
       "      <td>Male</td>\n",
       "      <td>Yes</td>\n",
       "      <td>1</td>\n",
       "      <td>Graduate</td>\n",
       "      <td>NaN</td>\n",
       "      <td>5250</td>\n",
       "      <td>688.0</td>\n",
       "      <td>160.0</td>\n",
       "      <td>360.0</td>\n",
       "      <td>1.0</td>\n",
       "      <td>Rural</td>\n",
       "      <td>Y</td>\n",
       "    </tr>\n",
       "    <tr>\n",
       "      <th>494</th>\n",
       "      <td>LP002585</td>\n",
       "      <td>Male</td>\n",
       "      <td>Yes</td>\n",
       "      <td>0</td>\n",
       "      <td>Graduate</td>\n",
       "      <td>No</td>\n",
       "      <td>3597</td>\n",
       "      <td>2157.0</td>\n",
       "      <td>119.0</td>\n",
       "      <td>360.0</td>\n",
       "      <td>0.0</td>\n",
       "      <td>Rural</td>\n",
       "      <td>N</td>\n",
       "    </tr>\n",
       "    <tr>\n",
       "      <th>360</th>\n",
       "      <td>LP002161</td>\n",
       "      <td>Female</td>\n",
       "      <td>No</td>\n",
       "      <td>1</td>\n",
       "      <td>Graduate</td>\n",
       "      <td>No</td>\n",
       "      <td>4723</td>\n",
       "      <td>0.0</td>\n",
       "      <td>81.0</td>\n",
       "      <td>360.0</td>\n",
       "      <td>1.0</td>\n",
       "      <td>Semiurban</td>\n",
       "      <td>N</td>\n",
       "    </tr>\n",
       "  </tbody>\n",
       "</table>\n",
       "</div>"
      ],
      "text/plain": [
       "      Loan_ID  Gender Married Dependents     Education Self_Employed  \\\n",
       "92   LP001319    Male     Yes          2  Not Graduate            No   \n",
       "350  LP002139    Male     Yes          0      Graduate            No   \n",
       "394  LP002266    Male     Yes          2      Graduate            No   \n",
       "377  LP002223    Male     Yes          0      Graduate            No   \n",
       "547  LP002772    Male      No          0      Graduate            No   \n",
       "336  LP002110    Male     Yes          1      Graduate           NaN   \n",
       "494  LP002585    Male     Yes          0      Graduate            No   \n",
       "360  LP002161  Female      No          1      Graduate            No   \n",
       "\n",
       "     ApplicantIncome  CoapplicantIncome  LoanAmount  Loan_Amount_Term  \\\n",
       "92              3273             1820.0        81.0             360.0   \n",
       "350             9083                0.0       228.0             360.0   \n",
       "394             3100             1400.0       113.0             360.0   \n",
       "377             4310                0.0       130.0             360.0   \n",
       "547             2526             1783.0       145.0             360.0   \n",
       "336             5250              688.0       160.0             360.0   \n",
       "494             3597             2157.0       119.0             360.0   \n",
       "360             4723                0.0        81.0             360.0   \n",
       "\n",
       "     Credit_History Property_Area Loan_Status  \n",
       "92              1.0         Urban           Y  \n",
       "350             1.0     Semiurban           Y  \n",
       "394             1.0         Urban           Y  \n",
       "377             NaN     Semiurban           Y  \n",
       "547             1.0         Rural           Y  \n",
       "336             1.0         Rural           Y  \n",
       "494             0.0         Rural           N  \n",
       "360             1.0     Semiurban           N  "
      ]
     },
     "execution_count": 4,
     "metadata": {},
     "output_type": "execute_result"
    }
   ],
   "source": [
    "df = pd.read_csv(FILEPATH)\n",
    "df.sample(8)"
   ]
  },
  {
   "cell_type": "code",
   "execution_count": 5,
   "metadata": {
    "execution": {
     "iopub.execute_input": "2020-10-12T03:54:55.232201Z",
     "iopub.status.busy": "2020-10-12T03:54:55.231097Z",
     "iopub.status.idle": "2020-10-12T03:54:55.236315Z",
     "shell.execute_reply": "2020-10-12T03:54:55.235592Z"
    },
    "papermill": {
     "duration": 0.050298,
     "end_time": "2020-10-12T03:54:55.236447",
     "exception": false,
     "start_time": "2020-10-12T03:54:55.186149",
     "status": "completed"
    },
    "tags": []
   },
   "outputs": [
    {
     "data": {
      "text/html": [
       "<div>\n",
       "<style scoped>\n",
       "    .dataframe tbody tr th:only-of-type {\n",
       "        vertical-align: middle;\n",
       "    }\n",
       "\n",
       "    .dataframe tbody tr th {\n",
       "        vertical-align: top;\n",
       "    }\n",
       "\n",
       "    .dataframe thead th {\n",
       "        text-align: right;\n",
       "    }\n",
       "</style>\n",
       "<table border=\"1\" class=\"dataframe\">\n",
       "  <thead>\n",
       "    <tr style=\"text-align: right;\">\n",
       "      <th></th>\n",
       "      <th>Self_Employed</th>\n",
       "      <th>ApplicantIncome</th>\n",
       "      <th>CoapplicantIncome</th>\n",
       "      <th>LoanAmount</th>\n",
       "      <th>Loan_Amount_Term</th>\n",
       "      <th>Credit_History</th>\n",
       "      <th>Loan_Status</th>\n",
       "    </tr>\n",
       "  </thead>\n",
       "  <tbody>\n",
       "    <tr>\n",
       "      <th>0</th>\n",
       "      <td>No</td>\n",
       "      <td>5849</td>\n",
       "      <td>0.0</td>\n",
       "      <td>NaN</td>\n",
       "      <td>360.0</td>\n",
       "      <td>1.0</td>\n",
       "      <td>Y</td>\n",
       "    </tr>\n",
       "    <tr>\n",
       "      <th>1</th>\n",
       "      <td>No</td>\n",
       "      <td>4583</td>\n",
       "      <td>1508.0</td>\n",
       "      <td>128.0</td>\n",
       "      <td>360.0</td>\n",
       "      <td>1.0</td>\n",
       "      <td>N</td>\n",
       "    </tr>\n",
       "    <tr>\n",
       "      <th>2</th>\n",
       "      <td>Yes</td>\n",
       "      <td>3000</td>\n",
       "      <td>0.0</td>\n",
       "      <td>66.0</td>\n",
       "      <td>360.0</td>\n",
       "      <td>1.0</td>\n",
       "      <td>Y</td>\n",
       "    </tr>\n",
       "    <tr>\n",
       "      <th>3</th>\n",
       "      <td>No</td>\n",
       "      <td>2583</td>\n",
       "      <td>2358.0</td>\n",
       "      <td>120.0</td>\n",
       "      <td>360.0</td>\n",
       "      <td>1.0</td>\n",
       "      <td>Y</td>\n",
       "    </tr>\n",
       "    <tr>\n",
       "      <th>4</th>\n",
       "      <td>No</td>\n",
       "      <td>6000</td>\n",
       "      <td>0.0</td>\n",
       "      <td>141.0</td>\n",
       "      <td>360.0</td>\n",
       "      <td>1.0</td>\n",
       "      <td>Y</td>\n",
       "    </tr>\n",
       "  </tbody>\n",
       "</table>\n",
       "</div>"
      ],
      "text/plain": [
       "  Self_Employed  ApplicantIncome  CoapplicantIncome  LoanAmount  \\\n",
       "0            No             5849                0.0         NaN   \n",
       "1            No             4583             1508.0       128.0   \n",
       "2           Yes             3000                0.0        66.0   \n",
       "3            No             2583             2358.0       120.0   \n",
       "4            No             6000                0.0       141.0   \n",
       "\n",
       "   Loan_Amount_Term  Credit_History Loan_Status  \n",
       "0             360.0             1.0           Y  \n",
       "1             360.0             1.0           N  \n",
       "2             360.0             1.0           Y  \n",
       "3             360.0             1.0           Y  \n",
       "4             360.0             1.0           Y  "
      ]
     },
     "execution_count": 5,
     "metadata": {},
     "output_type": "execute_result"
    }
   ],
   "source": [
    "df.drop(['Loan_ID', 'Gender', 'Dependents', 'Married', 'Property_Area', 'Education'], axis=1, inplace=True) #Using a small set of cols here\n",
    "df.head()"
   ]
  },
  {
   "cell_type": "code",
   "execution_count": 6,
   "metadata": {
    "execution": {
     "iopub.execute_input": "2020-10-12T03:54:55.296261Z",
     "iopub.status.busy": "2020-10-12T03:54:55.295387Z",
     "iopub.status.idle": "2020-10-12T03:54:55.299725Z",
     "shell.execute_reply": "2020-10-12T03:54:55.300277Z"
    },
    "papermill": {
     "duration": 0.037938,
     "end_time": "2020-10-12T03:54:55.300443",
     "exception": false,
     "start_time": "2020-10-12T03:54:55.262505",
     "status": "completed"
    },
    "tags": []
   },
   "outputs": [
    {
     "data": {
      "text/plain": [
       "True"
      ]
     },
     "execution_count": 6,
     "metadata": {},
     "output_type": "execute_result"
    }
   ],
   "source": [
    "df.isnull().sum().any()"
   ]
  },
  {
   "cell_type": "code",
   "execution_count": 7,
   "metadata": {
    "execution": {
     "iopub.execute_input": "2020-10-12T03:54:55.362661Z",
     "iopub.status.busy": "2020-10-12T03:54:55.361647Z",
     "iopub.status.idle": "2020-10-12T03:54:55.366494Z",
     "shell.execute_reply": "2020-10-12T03:54:55.365890Z"
    },
    "papermill": {
     "duration": 0.039455,
     "end_time": "2020-10-12T03:54:55.366646",
     "exception": false,
     "start_time": "2020-10-12T03:54:55.327191",
     "status": "completed"
    },
    "tags": []
   },
   "outputs": [
    {
     "data": {
      "text/plain": [
       "Self_Employed        32\n",
       "ApplicantIncome       0\n",
       "CoapplicantIncome     0\n",
       "LoanAmount           22\n",
       "Loan_Amount_Term     14\n",
       "Credit_History       50\n",
       "Loan_Status           0\n",
       "dtype: int64"
      ]
     },
     "execution_count": 7,
     "metadata": {},
     "output_type": "execute_result"
    }
   ],
   "source": [
    "df.isnull().sum()"
   ]
  },
  {
   "cell_type": "code",
   "execution_count": 8,
   "metadata": {
    "execution": {
     "iopub.execute_input": "2020-10-12T03:54:55.432854Z",
     "iopub.status.busy": "2020-10-12T03:54:55.431911Z",
     "iopub.status.idle": "2020-10-12T03:54:55.435972Z",
     "shell.execute_reply": "2020-10-12T03:54:55.436690Z"
    },
    "papermill": {
     "duration": 0.042687,
     "end_time": "2020-10-12T03:54:55.436845",
     "exception": false,
     "start_time": "2020-10-12T03:54:55.394158",
     "status": "completed"
    },
    "tags": []
   },
   "outputs": [
    {
     "data": {
      "text/plain": [
       "1.0    475\n",
       "0.0     89\n",
       "Name: Credit_History, dtype: int64"
      ]
     },
     "execution_count": 8,
     "metadata": {},
     "output_type": "execute_result"
    }
   ],
   "source": [
    "df.Credit_History.value_counts()"
   ]
  },
  {
   "cell_type": "code",
   "execution_count": 9,
   "metadata": {
    "execution": {
     "iopub.execute_input": "2020-10-12T03:54:55.500235Z",
     "iopub.status.busy": "2020-10-12T03:54:55.499145Z",
     "iopub.status.idle": "2020-10-12T03:54:55.502625Z",
     "shell.execute_reply": "2020-10-12T03:54:55.501990Z"
    },
    "papermill": {
     "duration": 0.038085,
     "end_time": "2020-10-12T03:54:55.502750",
     "exception": false,
     "start_time": "2020-10-12T03:54:55.464665",
     "status": "completed"
    },
    "tags": []
   },
   "outputs": [],
   "source": [
    "df.Credit_History.fillna(0.0, inplace=True)\n",
    "df.Loan_Amount_Term.fillna(df.Loan_Amount_Term.mean(), inplace=True)"
   ]
  },
  {
   "cell_type": "code",
   "execution_count": 10,
   "metadata": {
    "execution": {
     "iopub.execute_input": "2020-10-12T03:54:55.566830Z",
     "iopub.status.busy": "2020-10-12T03:54:55.566030Z",
     "iopub.status.idle": "2020-10-12T03:54:55.568844Z",
     "shell.execute_reply": "2020-10-12T03:54:55.569371Z"
    },
    "papermill": {
     "duration": 0.038639,
     "end_time": "2020-10-12T03:54:55.569560",
     "exception": false,
     "start_time": "2020-10-12T03:54:55.530921",
     "status": "completed"
    },
    "tags": []
   },
   "outputs": [],
   "source": [
    "df.LoanAmount.fillna(df.LoanAmount.mean(), inplace=True)\n",
    "df.Self_Employed.fillna('No', inplace=True)\n",
    "#df.Married.fillna('No', inplace=True)"
   ]
  },
  {
   "cell_type": "code",
   "execution_count": 11,
   "metadata": {
    "execution": {
     "iopub.execute_input": "2020-10-12T03:54:55.634495Z",
     "iopub.status.busy": "2020-10-12T03:54:55.633666Z",
     "iopub.status.idle": "2020-10-12T03:54:55.638265Z",
     "shell.execute_reply": "2020-10-12T03:54:55.637562Z"
    },
    "papermill": {
     "duration": 0.040713,
     "end_time": "2020-10-12T03:54:55.638389",
     "exception": false,
     "start_time": "2020-10-12T03:54:55.597676",
     "status": "completed"
    },
    "tags": []
   },
   "outputs": [
    {
     "data": {
      "text/plain": [
       "False"
      ]
     },
     "execution_count": 11,
     "metadata": {},
     "output_type": "execute_result"
    }
   ],
   "source": [
    "df.isnull().sum().any()"
   ]
  },
  {
   "cell_type": "code",
   "execution_count": 12,
   "metadata": {
    "execution": {
     "iopub.execute_input": "2020-10-12T03:54:55.713346Z",
     "iopub.status.busy": "2020-10-12T03:54:55.712254Z",
     "iopub.status.idle": "2020-10-12T03:54:55.717156Z",
     "shell.execute_reply": "2020-10-12T03:54:55.716557Z"
    },
    "papermill": {
     "duration": 0.050352,
     "end_time": "2020-10-12T03:54:55.717275",
     "exception": false,
     "start_time": "2020-10-12T03:54:55.666923",
     "status": "completed"
    },
    "tags": []
   },
   "outputs": [
    {
     "data": {
      "text/plain": [
       "Self_Employed         object\n",
       "ApplicantIncome        int64\n",
       "CoapplicantIncome    float64\n",
       "LoanAmount           float64\n",
       "Loan_Amount_Term     float64\n",
       "Credit_History         int64\n",
       "Loan_Status           object\n",
       "dtype: object"
      ]
     },
     "execution_count": 12,
     "metadata": {},
     "output_type": "execute_result"
    }
   ],
   "source": [
    "df['Credit_History'] = df['Credit_History'].astype('int64')\n",
    "df.dtypes"
   ]
  },
  {
   "cell_type": "code",
   "execution_count": 13,
   "metadata": {
    "execution": {
     "iopub.execute_input": "2020-10-12T03:54:55.784816Z",
     "iopub.status.busy": "2020-10-12T03:54:55.783834Z",
     "iopub.status.idle": "2020-10-12T03:54:55.787027Z",
     "shell.execute_reply": "2020-10-12T03:54:55.786291Z"
    },
    "papermill": {
     "duration": 0.040756,
     "end_time": "2020-10-12T03:54:55.787152",
     "exception": false,
     "start_time": "2020-10-12T03:54:55.746396",
     "status": "completed"
    },
    "tags": []
   },
   "outputs": [],
   "source": [
    "le = LabelEncoder()\n",
    "cols = df.columns.tolist()\n",
    "for column in cols:\n",
    "    if df[column].dtype == 'object':\n",
    "        df[column] = le.fit_transform(df[column])"
   ]
  },
  {
   "cell_type": "code",
   "execution_count": 14,
   "metadata": {
    "execution": {
     "iopub.execute_input": "2020-10-12T03:54:55.853731Z",
     "iopub.status.busy": "2020-10-12T03:54:55.852483Z",
     "iopub.status.idle": "2020-10-12T03:54:55.857049Z",
     "shell.execute_reply": "2020-10-12T03:54:55.856311Z"
    },
    "papermill": {
     "duration": 0.04075,
     "end_time": "2020-10-12T03:54:55.857182",
     "exception": false,
     "start_time": "2020-10-12T03:54:55.816432",
     "status": "completed"
    },
    "tags": []
   },
   "outputs": [
    {
     "data": {
      "text/plain": [
       "Self_Employed          int64\n",
       "ApplicantIncome        int64\n",
       "CoapplicantIncome    float64\n",
       "LoanAmount           float64\n",
       "Loan_Amount_Term     float64\n",
       "Credit_History         int64\n",
       "Loan_Status            int64\n",
       "dtype: object"
      ]
     },
     "execution_count": 14,
     "metadata": {},
     "output_type": "execute_result"
    }
   ],
   "source": [
    "df.dtypes"
   ]
  },
  {
   "cell_type": "code",
   "execution_count": 15,
   "metadata": {
    "execution": {
     "iopub.execute_input": "2020-10-12T03:54:55.924376Z",
     "iopub.status.busy": "2020-10-12T03:54:55.923574Z",
     "iopub.status.idle": "2020-10-12T03:54:56.475024Z",
     "shell.execute_reply": "2020-10-12T03:54:56.475679Z"
    },
    "papermill": {
     "duration": 0.588658,
     "end_time": "2020-10-12T03:54:56.475846",
     "exception": false,
     "start_time": "2020-10-12T03:54:55.887188",
     "status": "completed"
    },
    "tags": []
   },
   "outputs": [
    {
     "data": {
      "image/png": "[encoded data removed]",
      "text/plain": [
       "<Figure size 1440x1080 with 2 Axes>"
      ]
     },
     "metadata": {
      "needs_background": "light"
     },
     "output_type": "display_data"
    }
   ],
   "source": [
    "fig, ax = plt.subplots(figsize=(20, 15))\n",
    "sns.heatmap(data=df.corr().round(2), annot=True, linewidths=0.7, cmap='Blues')\n",
    "plt.show()"
   ]
  },
  {
   "cell_type": "code",
   "execution_count": 16,
   "metadata": {
    "execution": {
     "iopub.execute_input": "2020-10-12T03:54:56.548574Z",
     "iopub.status.busy": "2020-10-12T03:54:56.547418Z",
     "iopub.status.idle": "2020-10-12T03:54:56.551260Z",
     "shell.execute_reply": "2020-10-12T03:54:56.550319Z"
    },
    "papermill": {
     "duration": 0.043418,
     "end_time": "2020-10-12T03:54:56.551438",
     "exception": false,
     "start_time": "2020-10-12T03:54:56.508020",
     "status": "completed"
    },
    "tags": []
   },
   "outputs": [],
   "source": [
    "X = df.drop(\"Loan_Status\", axis=1)\n",
    "y = df[\"Loan_Status\"]"
   ]
  },
  {
   "cell_type": "code",
   "execution_count": 17,
   "metadata": {
    "execution": {
     "iopub.execute_input": "2020-10-12T03:54:56.633329Z",
     "iopub.status.busy": "2020-10-12T03:54:56.632193Z",
     "iopub.status.idle": "2020-10-12T03:54:56.635436Z",
     "shell.execute_reply": "2020-10-12T03:54:56.636076Z"
    },
    "papermill": {
     "duration": 0.045787,
     "end_time": "2020-10-12T03:54:56.636248",
     "exception": false,
     "start_time": "2020-10-12T03:54:56.590461",
     "status": "completed"
    },
    "tags": []
   },
   "outputs": [],
   "source": [
    "Xtrain, Xtest, ytrain, ytest = train_test_split(X, y, test_size=0.3, random_state=30) "
   ]
  },
  {
   "cell_type": "code",
   "execution_count": 18,
   "metadata": {
    "execution": {
     "iopub.execute_input": "2020-10-12T03:54:56.719940Z",
     "iopub.status.busy": "2020-10-12T03:54:56.718874Z",
     "iopub.status.idle": "2020-10-12T03:54:56.721339Z",
     "shell.execute_reply": "2020-10-12T03:54:56.720655Z"
    },
    "papermill": {
     "duration": 0.051757,
     "end_time": "2020-10-12T03:54:56.721465",
     "exception": false,
     "start_time": "2020-10-12T03:54:56.669708",
     "status": "completed"
    },
    "tags": []
   },
   "outputs": [],
   "source": [
    "classifiers = {\n",
    "    'Multinomial NB': MultinomialNB(),\n",
    "    'Gaussian NB': GaussianNB(),\n",
    "    'Linear SVM': SVC(kernel='linear'),\n",
    "    'RBF SVM': SVC(kernel='rbf'),\n",
    "    'Sigmoid SVM': SVC(kernel='sigmoid'),\n",
    "    #FOR SVM USE HYPERPARAMETER TUNING TO BETTER UNDERSTAND WHAT TO TAKE\n",
    "    'MLP Classifier': MLPClassifier(),\n",
    "    'MLP Hidden Layer': MLPClassifier(hidden_layer_sizes=[100,100]),\n",
    "    'Ada Boost': AdaBoostClassifier(),\n",
    "    'Decision Tree': DecisionTreeClassifier(),\n",
    "    'Random Forest': RandomForestClassifier(),\n",
    "    'Gradient Boosting': GradientBoostingClassifier(),\n",
    "    'Logistic Regression': LogisticRegression()\n",
    "}"
   ]
  },
  {
   "cell_type": "code",
   "execution_count": 19,
   "metadata": {
    "execution": {
     "iopub.execute_input": "2020-10-12T03:54:56.826648Z",
     "iopub.status.busy": "2020-10-12T03:54:56.825445Z",
     "iopub.status.idle": "2020-10-12T03:55:53.385770Z",
     "shell.execute_reply": "2020-10-12T03:55:53.385039Z"
    },
    "papermill": {
     "duration": 56.619432,
     "end_time": "2020-10-12T03:55:53.385928",
     "exception": false,
     "start_time": "2020-10-12T03:54:56.766496",
     "status": "completed"
    },
    "tags": []
   },
   "outputs": [
    {
     "name": "stdout",
     "output_type": "stream",
     "text": [
      "Multinomial NB 0.4918918918918919\n",
      "Gaussian NB 0.7135135135135136\n",
      "Linear SVM 0.7405405405405405\n",
      "RBF SVM 0.7189189189189189\n",
      "Sigmoid SVM 0.6162162162162163\n",
      "MLP Classifier 0.654054054054054\n",
      "MLP Hidden Layer 0.6918918918918919\n",
      "Ada Boost 0.7189189189189189\n",
      "Decision Tree 0.6756756756756757\n",
      "Random Forest 0.7297297297297297\n",
      "Gradient Boosting 0.7405405405405405\n",
      "Logistic Regression 0.7513513513513513\n"
     ]
    }
   ],
   "source": [
    "acc_scores = dict()\n",
    "\n",
    "for classifier in classifiers:\n",
    "    \n",
    "    clf = classifiers[classifier]\n",
    "    clf.fit(Xtrain,ytrain)\n",
    "    y_pred = clf.predict(Xtest)\n",
    "    acc_scores[classifier] = accuracy_score(y_pred, ytest)\n",
    "    print(classifier, acc_scores[classifier])"
   ]
  },
  {
   "cell_type": "code",
   "execution_count": 20,
   "metadata": {
    "execution": {
     "iopub.execute_input": "2020-10-12T03:55:53.495225Z",
     "iopub.status.busy": "2020-10-12T03:55:53.470571Z",
     "iopub.status.idle": "2020-10-12T03:55:53.508300Z",
     "shell.execute_reply": "2020-10-12T03:55:53.509112Z"
    },
    "papermill": {
     "duration": 0.083474,
     "end_time": "2020-10-12T03:55:53.509370",
     "exception": false,
     "start_time": "2020-10-12T03:55:53.425896",
     "status": "completed"
    },
    "tags": []
   },
   "outputs": [
    {
     "name": "stdout",
     "output_type": "stream",
     "text": [
      "Accuracy: 75.13513513513513%\n",
      "[[ 20  31]\n",
      " [ 15 119]]\n",
      "Classification Report for Logistic Regression\n",
      "              precision    recall  f1-score   support\n",
      "\n",
      "           0       0.57      0.39      0.47        51\n",
      "           1       0.79      0.89      0.84       134\n",
      "\n",
      "    accuracy                           0.75       185\n",
      "   macro avg       0.68      0.64      0.65       185\n",
      "weighted avg       0.73      0.75      0.74       185\n",
      "\n"
     ]
    }
   ],
   "source": [
    "model = LogisticRegression()\n",
    "model.fit(Xtrain, ytrain)\n",
    "\n",
    "y_pred = model.predict(Xtest)\n",
    "print(\"Accuracy: %s%%\" % (100*accuracy_score(y_pred, ytest)))\n",
    "print(confusion_matrix(ytest, y_pred))\n",
    "print(\"Classification Report for Logistic Regression\")\n",
    "print(classification_report(ytest, y_pred))"
   ]
  },
  {
   "cell_type": "markdown",
   "metadata": {
    "papermill": {
     "duration": 0.034903,
     "end_time": "2020-10-12T03:55:53.579755",
     "exception": false,
     "start_time": "2020-10-12T03:55:53.544852",
     "status": "completed"
    },
    "tags": []
   },
   "source": [
    "# Saving a model file"
   ]
  },
  {
   "cell_type": "markdown",
   "metadata": {
    "papermill": {
     "duration": 0.034702,
     "end_time": "2020-10-12T03:55:53.650574",
     "exception": false,
     "start_time": "2020-10-12T03:55:53.615872",
     "status": "completed"
    },
    "tags": []
   },
   "source": [
    "The most popular way of saving a model file is by using pickle."
   ]
  },
  {
   "cell_type": "markdown",
   "metadata": {
    "papermill": {
     "duration": 0.034929,
     "end_time": "2020-10-12T03:55:53.720440",
     "exception": false,
     "start_time": "2020-10-12T03:55:53.685511",
     "status": "completed"
    },
    "tags": []
   },
   "source": [
    "## Logistic Regression"
   ]
  },
  {
   "cell_type": "code",
   "execution_count": 21,
   "metadata": {
    "execution": {
     "iopub.execute_input": "2020-10-12T03:55:53.801896Z",
     "iopub.status.busy": "2020-10-12T03:55:53.800972Z",
     "iopub.status.idle": "2020-10-12T03:55:53.805502Z",
     "shell.execute_reply": "2020-10-12T03:55:53.804754Z"
    },
    "papermill": {
     "duration": 0.050209,
     "end_time": "2020-10-12T03:55:53.805659",
     "exception": false,
     "start_time": "2020-10-12T03:55:53.755450",
     "status": "completed"
    },
    "tags": []
   },
   "outputs": [],
   "source": [
    "filename = 'logistic_model.p'\n",
    "pickle.dump(model, open('./'+filename, 'wb'))"
   ]
  },
  {
   "cell_type": "markdown",
   "metadata": {
    "papermill": {
     "duration": 0.040005,
     "end_time": "2020-10-12T03:55:53.881131",
     "exception": false,
     "start_time": "2020-10-12T03:55:53.841126",
     "status": "completed"
    },
    "tags": []
   },
   "source": [
    "## Random Forest Classifier"
   ]
  },
  {
   "cell_type": "code",
   "execution_count": 22,
   "metadata": {
    "execution": {
     "iopub.execute_input": "2020-10-12T03:55:53.962703Z",
     "iopub.status.busy": "2020-10-12T03:55:53.960697Z",
     "iopub.status.idle": "2020-10-12T03:55:54.258125Z",
     "shell.execute_reply": "2020-10-12T03:55:54.257469Z"
    },
    "papermill": {
     "duration": 0.341602,
     "end_time": "2020-10-12T03:55:54.258259",
     "exception": false,
     "start_time": "2020-10-12T03:55:53.916657",
     "status": "completed"
    },
    "tags": []
   },
   "outputs": [
    {
     "name": "stdout",
     "output_type": "stream",
     "text": [
      "Accuracy: 75.13513513513513%\n",
      "[[ 21  30]\n",
      " [ 16 118]]\n",
      "Classification Report for Random Forest Classifier\n",
      "              precision    recall  f1-score   support\n",
      "\n",
      "           0       0.57      0.41      0.48        51\n",
      "           1       0.80      0.88      0.84       134\n",
      "\n",
      "    accuracy                           0.75       185\n",
      "   macro avg       0.68      0.65      0.66       185\n",
      "weighted avg       0.73      0.75      0.74       185\n",
      "\n"
     ]
    }
   ],
   "source": [
    "filename = 'rand_forest_model.p'\n",
    "\n",
    "model = RandomForestClassifier()\n",
    "model.fit(Xtrain, ytrain)\n",
    "\n",
    "y_pred = model.predict(Xtest)\n",
    "print(\"Accuracy: %s%%\" % (100*accuracy_score(y_pred, ytest)))\n",
    "print(confusion_matrix(ytest, y_pred))\n",
    "print(\"Classification Report for Random Forest Classifier\")\n",
    "print(classification_report(ytest, y_pred))\n",
    "\n",
    "pickle.dump(model, open('./'+filename, 'wb'))"
   ]
  },
  {
   "cell_type": "markdown",
   "metadata": {
    "papermill": {
     "duration": 0.035339,
     "end_time": "2020-10-12T03:55:54.329291",
     "exception": false,
     "start_time": "2020-10-12T03:55:54.293952",
     "status": "completed"
    },
    "tags": []
   },
   "source": [
    "## Decision Tree Classifier"
   ]
  },
  {
   "cell_type": "code",
   "execution_count": 23,
   "metadata": {
    "execution": {
     "iopub.execute_input": "2020-10-12T03:55:54.412805Z",
     "iopub.status.busy": "2020-10-12T03:55:54.411780Z",
     "iopub.status.idle": "2020-10-12T03:55:54.428941Z",
     "shell.execute_reply": "2020-10-12T03:55:54.429574Z"
    },
    "papermill": {
     "duration": 0.064942,
     "end_time": "2020-10-12T03:55:54.429747",
     "exception": false,
     "start_time": "2020-10-12T03:55:54.364805",
     "status": "completed"
    },
    "tags": []
   },
   "outputs": [
    {
     "name": "stdout",
     "output_type": "stream",
     "text": [
      "Accuracy: 69.72972972972973%\n",
      "[[ 24  27]\n",
      " [ 29 105]]\n",
      "Classification Report for Decision Tree Classifier\n",
      "              precision    recall  f1-score   support\n",
      "\n",
      "           0       0.45      0.47      0.46        51\n",
      "           1       0.80      0.78      0.79       134\n",
      "\n",
      "    accuracy                           0.70       185\n",
      "   macro avg       0.62      0.63      0.63       185\n",
      "weighted avg       0.70      0.70      0.70       185\n",
      "\n"
     ]
    }
   ],
   "source": [
    "filename = 'dec_tree_model.p'\n",
    "\n",
    "model = DecisionTreeClassifier()\n",
    "model.fit(Xtrain, ytrain)\n",
    "\n",
    "y_pred = model.predict(Xtest)\n",
    "print(\"Accuracy: %s%%\" % (100*accuracy_score(y_pred, ytest)))\n",
    "print(confusion_matrix(ytest, y_pred))\n",
    "print(\"Classification Report for Decision Tree Classifier\")\n",
    "print(classification_report(ytest, y_pred))\n",
    "\n",
    "pickle.dump(model, open('./'+filename, 'wb'))"
   ]
  },
  {
   "cell_type": "markdown",
   "metadata": {
    "papermill": {
     "duration": 0.035701,
     "end_time": "2020-10-12T03:55:54.501836",
     "exception": false,
     "start_time": "2020-10-12T03:55:54.466135",
     "status": "completed"
    },
    "tags": []
   },
   "source": [
    "## Gaussian Naïve Bayes"
   ]
  },
  {
   "cell_type": "code",
   "execution_count": 24,
   "metadata": {
    "execution": {
     "iopub.execute_input": "2020-10-12T03:55:54.585946Z",
     "iopub.status.busy": "2020-10-12T03:55:54.585165Z",
     "iopub.status.idle": "2020-10-12T03:55:54.604506Z",
     "shell.execute_reply": "2020-10-12T03:55:54.603851Z"
    },
    "papermill": {
     "duration": 0.066701,
     "end_time": "2020-10-12T03:55:54.604665",
     "exception": false,
     "start_time": "2020-10-12T03:55:54.537964",
     "status": "completed"
    },
    "tags": []
   },
   "outputs": [
    {
     "name": "stdout",
     "output_type": "stream",
     "text": [
      "Accuracy: 71.35135135135135%\n",
      "[[ 20  31]\n",
      " [ 22 112]]\n",
      "Classification Report for Gaussian Naïve Bayes\n",
      "              precision    recall  f1-score   support\n",
      "\n",
      "           0       0.48      0.39      0.43        51\n",
      "           1       0.78      0.84      0.81       134\n",
      "\n",
      "    accuracy                           0.71       185\n",
      "   macro avg       0.63      0.61      0.62       185\n",
      "weighted avg       0.70      0.71      0.70       185\n",
      "\n"
     ]
    }
   ],
   "source": [
    "filename = 'gaussian_nb_model.p'\n",
    "\n",
    "model = GaussianNB()\n",
    "model.fit(Xtrain, ytrain)\n",
    "\n",
    "y_pred = model.predict(Xtest)\n",
    "print(\"Accuracy: %s%%\" % (100*accuracy_score(y_pred, ytest)))\n",
    "print(confusion_matrix(ytest, y_pred))\n",
    "print(\"Classification Report for Gaussian Naïve Bayes\")\n",
    "print(classification_report(ytest, y_pred))\n",
    "\n",
    "pickle.dump(model, open('./'+filename, 'wb'))"
   ]
  },
  {
   "cell_type": "markdown",
   "metadata": {
    "papermill": {
     "duration": 0.03727,
     "end_time": "2020-10-12T03:55:54.680561",
     "exception": false,
     "start_time": "2020-10-12T03:55:54.643291",
     "status": "completed"
    },
    "tags": []
   },
   "source": [
    "## Linear Kernel SVM"
   ]
  },
  {
   "cell_type": "code",
   "execution_count": 25,
   "metadata": {
    "execution": {
     "iopub.execute_input": "2020-10-12T03:55:54.767708Z",
     "iopub.status.busy": "2020-10-12T03:55:54.766693Z",
     "iopub.status.idle": "2020-10-12T03:56:48.183085Z",
     "shell.execute_reply": "2020-10-12T03:56:48.183746Z"
    },
    "papermill": {
     "duration": 53.465651,
     "end_time": "2020-10-12T03:56:48.183940",
     "exception": false,
     "start_time": "2020-10-12T03:55:54.718289",
     "status": "completed"
    },
    "tags": []
   },
   "outputs": [
    {
     "name": "stdout",
     "output_type": "stream",
     "text": [
      "Accuracy: 74.05405405405405%\n",
      "[[ 12  39]\n",
      " [  9 125]]\n",
      "Classification Report for Linear Kernel SVM\n",
      "              precision    recall  f1-score   support\n",
      "\n",
      "           0       0.57      0.24      0.33        51\n",
      "           1       0.76      0.93      0.84       134\n",
      "\n",
      "    accuracy                           0.74       185\n",
      "   macro avg       0.67      0.58      0.59       185\n",
      "weighted avg       0.71      0.74      0.70       185\n",
      "\n"
     ]
    }
   ],
   "source": [
    "filename = 'linear_svm_model.p'\n",
    "\n",
    "model = SVC(kernel='linear')\n",
    "model.fit(Xtrain, ytrain)\n",
    "\n",
    "y_pred = model.predict(Xtest)\n",
    "print(\"Accuracy: %s%%\" % (100*accuracy_score(y_pred, ytest)))\n",
    "print(confusion_matrix(ytest, y_pred))\n",
    "print(\"Classification Report for Linear Kernel SVM\")\n",
    "print(classification_report(ytest, y_pred))\n",
    "\n",
    "pickle.dump(model, open('./'+filename, 'wb'))"
   ]
  }
 ],
 "metadata": {
  "kernelspec": {
   "display_name": "Python 3",
   "language": "python",
   "name": "python3"
  },
  "language_info": {
   "codemirror_mode": {
    "name": "ipython",
    "version": 3
   },
   "file_extension": ".py",
   "mimetype": "text/x-python",
   "name": "python",
   "nbconvert_exporter": "python",
   "pygments_lexer": "ipython3",
   "version": "3.7.6"
  },
  "papermill": {
   "duration": 121.077094,
   "end_time": "2020-10-12T03:56:49.243542",
   "environment_variables": {},
   "exception": null,
   "input_path": "__notebook__.ipynb",
   "output_path": "__notebook__.ipynb",
   "parameters": {},
   "start_time": "2020-10-12T03:54:48.166448",
   "version": "2.1.0"
  }
 },
 "nbformat": 4,
 "nbformat_minor": 4
}
