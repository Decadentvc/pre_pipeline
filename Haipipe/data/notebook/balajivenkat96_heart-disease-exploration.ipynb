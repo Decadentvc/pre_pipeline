{
 "cells": [
  {
   "cell_type": "code",
   "execution_count": 1,
   "metadata": {
    "_cell_guid": "b1076dfc-b9ad-4769-8c92-a6c4dae69d19",
    "_uuid": "8f2839f25d086af736a60e9eeb907d3b93b6e0e5",
    "execution": {
     "iopub.execute_input": "2020-09-05T21:23:51.939648Z",
     "iopub.status.busy": "2020-09-05T21:23:51.938778Z",
     "iopub.status.idle": "2020-09-05T21:23:54.209842Z",
     "shell.execute_reply": "2020-09-05T21:23:54.210852Z"
    },
    "papermill": {
     "duration": 2.304132,
     "end_time": "2020-09-05T21:23:54.211144",
     "exception": false,
     "start_time": "2020-09-05T21:23:51.907012",
     "status": "completed"
    },
    "tags": []
   },
   "outputs": [
    {
     "name": "stdout",
     "output_type": "stream",
     "text": [
      "Populating the interactive namespace from numpy and matplotlib\n",
      "/kaggle/input/heart-disease-uci/heart.csv\n"
     ]
    }
   ],
   "source": [
    "# This Python 3 environment comes with many helpful analytics libraries installed\n",
    "# It is defined by the kaggle/python Docker image: https://github.com/kaggle/docker-python\n",
    "# For example, here's several helpful packages to load\n",
    "\n",
    "import numpy as np # linear algebra\n",
    "import pandas as pd # data processing, CSV file I/O (e.g. pd.read_csv)\n",
    "%pylab inline\n",
    "import seaborn as sns\n",
    "import xgboost\n",
    "# Input data files are available in the read-only \"../input/\" directory\n",
    "# For example, running this (by clicking run or pressing Shift+Enter) will list all files under the input directory\n",
    "\n",
    "import os\n",
    "for dirname, _, filenames in os.walk('/kaggle/input'):\n",
    "    for filename in filenames:\n",
    "        print(os.path.join(dirname, filename))\n",
    "\n",
    "# You can write up to 5GB to the current directory (/kaggle/working/) that gets preserved as output when you create a version using \"Save & Run All\" \n",
    "# You can also write temporary files to /kaggle/temp/, but they won't be saved outside of the current session"
   ]
  },
  {
   "cell_type": "markdown",
   "execution_count": null,
   "metadata": {
    "_cell_guid": "79c7e3d0-c299-4dcb-8224-4455121ee9b0",
    "_uuid": "d629ff2d2480ee46fbb7e2d37f6b5fab8052498a",
    "collapsed": true,
    "papermill": {
     "duration": 0.021527,
     "end_time": "2020-09-05T21:23:54.255477",
     "exception": false,
     "start_time": "2020-09-05T21:23:54.233950",
     "status": "completed"
    },
    "tags": []
   },
   "source": [
    "## Heart disease dataset - exploration"
   ]
  },
  {
   "cell_type": "code",
   "execution_count": 2,
   "metadata": {
    "execution": {
     "iopub.execute_input": "2020-09-05T21:23:54.306646Z",
     "iopub.status.busy": "2020-09-05T21:23:54.305893Z",
     "iopub.status.idle": "2020-09-05T21:23:54.319237Z",
     "shell.execute_reply": "2020-09-05T21:23:54.318596Z"
    },
    "papermill": {
     "duration": 0.042177,
     "end_time": "2020-09-05T21:23:54.319466",
     "exception": false,
     "start_time": "2020-09-05T21:23:54.277289",
     "status": "completed"
    },
    "tags": []
   },
   "outputs": [],
   "source": [
    "heart_dataset = pd.read_csv(\"/kaggle/input/heart-disease-uci/heart.csv\")"
   ]
  },
  {
   "cell_type": "code",
   "execution_count": 3,
   "metadata": {
    "execution": {
     "iopub.execute_input": "2020-09-05T21:23:54.379341Z",
     "iopub.status.busy": "2020-09-05T21:23:54.378446Z",
     "iopub.status.idle": "2020-09-05T21:23:54.391766Z",
     "shell.execute_reply": "2020-09-05T21:23:54.390984Z"
    },
    "papermill": {
     "duration": 0.050189,
     "end_time": "2020-09-05T21:23:54.391890",
     "exception": false,
     "start_time": "2020-09-05T21:23:54.341701",
     "status": "completed"
    },
    "tags": []
   },
   "outputs": [
    {
     "data": {
      "text/html": [
       "<div>\n",
       "<style scoped>\n",
       "    .dataframe tbody tr th:only-of-type {\n",
       "        vertical-align: middle;\n",
       "    }\n",
       "\n",
       "    .dataframe tbody tr th {\n",
       "        vertical-align: top;\n",
       "    }\n",
       "\n",
       "    .dataframe thead th {\n",
       "        text-align: right;\n",
       "    }\n",
       "</style>\n",
       "<table border=\"1\" class=\"dataframe\">\n",
       "  <thead>\n",
       "    <tr style=\"text-align: right;\">\n",
       "      <th></th>\n",
       "      <th>age</th>\n",
       "      <th>sex</th>\n",
       "      <th>cp</th>\n",
       "      <th>trestbps</th>\n",
       "      <th>chol</th>\n",
       "      <th>fbs</th>\n",
       "      <th>restecg</th>\n",
       "      <th>thalach</th>\n",
       "      <th>exang</th>\n",
       "      <th>oldpeak</th>\n",
       "      <th>slope</th>\n",
       "      <th>ca</th>\n",
       "      <th>thal</th>\n",
       "      <th>target</th>\n",
       "    </tr>\n",
       "  </thead>\n",
       "  <tbody>\n",
       "    <tr>\n",
       "      <th>0</th>\n",
       "      <td>63</td>\n",
       "      <td>1</td>\n",
       "      <td>3</td>\n",
       "      <td>145</td>\n",
       "      <td>233</td>\n",
       "      <td>1</td>\n",
       "      <td>0</td>\n",
       "      <td>150</td>\n",
       "      <td>0</td>\n",
       "      <td>2.3</td>\n",
       "      <td>0</td>\n",
       "      <td>0</td>\n",
       "      <td>1</td>\n",
       "      <td>1</td>\n",
       "    </tr>\n",
       "    <tr>\n",
       "      <th>1</th>\n",
       "      <td>37</td>\n",
       "      <td>1</td>\n",
       "      <td>2</td>\n",
       "      <td>130</td>\n",
       "      <td>250</td>\n",
       "      <td>0</td>\n",
       "      <td>1</td>\n",
       "      <td>187</td>\n",
       "      <td>0</td>\n",
       "      <td>3.5</td>\n",
       "      <td>0</td>\n",
       "      <td>0</td>\n",
       "      <td>2</td>\n",
       "      <td>1</td>\n",
       "    </tr>\n",
       "    <tr>\n",
       "      <th>2</th>\n",
       "      <td>41</td>\n",
       "      <td>0</td>\n",
       "      <td>1</td>\n",
       "      <td>130</td>\n",
       "      <td>204</td>\n",
       "      <td>0</td>\n",
       "      <td>0</td>\n",
       "      <td>172</td>\n",
       "      <td>0</td>\n",
       "      <td>1.4</td>\n",
       "      <td>2</td>\n",
       "      <td>0</td>\n",
       "      <td>2</td>\n",
       "      <td>1</td>\n",
       "    </tr>\n",
       "    <tr>\n",
       "      <th>3</th>\n",
       "      <td>56</td>\n",
       "      <td>1</td>\n",
       "      <td>1</td>\n",
       "      <td>120</td>\n",
       "      <td>236</td>\n",
       "      <td>0</td>\n",
       "      <td>1</td>\n",
       "      <td>178</td>\n",
       "      <td>0</td>\n",
       "      <td>0.8</td>\n",
       "      <td>2</td>\n",
       "      <td>0</td>\n",
       "      <td>2</td>\n",
       "      <td>1</td>\n",
       "    </tr>\n",
       "    <tr>\n",
       "      <th>4</th>\n",
       "      <td>57</td>\n",
       "      <td>0</td>\n",
       "      <td>0</td>\n",
       "      <td>120</td>\n",
       "      <td>354</td>\n",
       "      <td>0</td>\n",
       "      <td>1</td>\n",
       "      <td>163</td>\n",
       "      <td>1</td>\n",
       "      <td>0.6</td>\n",
       "      <td>2</td>\n",
       "      <td>0</td>\n",
       "      <td>2</td>\n",
       "      <td>1</td>\n",
       "    </tr>\n",
       "  </tbody>\n",
       "</table>\n",
       "</div>"
      ],
      "text/plain": [
       "   age  sex  cp  trestbps  chol  fbs  restecg  thalach  exang  oldpeak  slope  \\\n",
       "0   63    1   3       145   233    1        0      150      0      2.3      0   \n",
       "1   37    1   2       130   250    0        1      187      0      3.5      0   \n",
       "2   41    0   1       130   204    0        0      172      0      1.4      2   \n",
       "3   56    1   1       120   236    0        1      178      0      0.8      2   \n",
       "4   57    0   0       120   354    0        1      163      1      0.6      2   \n",
       "\n",
       "   ca  thal  target  \n",
       "0   0     1       1  \n",
       "1   0     2       1  \n",
       "2   0     2       1  \n",
       "3   0     2       1  \n",
       "4   0     2       1  "
      ]
     },
     "execution_count": 3,
     "metadata": {},
     "output_type": "execute_result"
    }
   ],
   "source": [
    "heart_dataset.head()"
   ]
  },
  {
   "cell_type": "markdown",
   "execution_count": null,
   "metadata": {
    "papermill": {
     "duration": 0.021991,
     "end_time": "2020-09-05T21:23:54.436193",
     "exception": false,
     "start_time": "2020-09-05T21:23:54.414202",
     "status": "completed"
    },
    "tags": []
   },
   "source": [
    "#### Description of columns from the text file"
   ]
  },
  {
   "cell_type": "markdown",
   "execution_count": null,
   "metadata": {
    "papermill": {
     "duration": 0.021974,
     "end_time": "2020-09-05T21:23:54.480744",
     "exception": false,
     "start_time": "2020-09-05T21:23:54.458770",
     "status": "completed"
    },
    "tags": []
   },
   "source": [
    "* age - age\n",
    "* sex - biological sex (1 = male, 0 = female)\n",
    "* cp - chest pain type\n",
    "  * Value 1: typical angina\n",
    "  * Value 2: atypical angina\n",
    "  * Value 3: non-anginal pain\n",
    "  * Value 4: asymptomatic\n",
    "* trestbps - resting blood pressure on admission to hospital\n",
    "* chol - serum cholesterol (mg/dl)\n",
    "* fbs - fasting blood sugar (indicator variable, 1 if > 120 mg/dl, 0 o.w)\n",
    "* restecg - resting electrocardiographic results\n",
    "  * Value 0: normal\n",
    "  * Value 1: having ST-T wave abnormality (T wave inversions and/or ST elevation or depression of > 0.05 mV)\n",
    "  * Value 2: showing probable or definite left ventricular hypertrophy by Estes' criteria\n",
    "                    \n",
    "* thalach - maximum heart rate achieved\n",
    "* exang - exercise induced angina (1 = yes; 0 = no)\n",
    "* oldpeak - ST depression induced by exercise relative to rest\n",
    "* slope: the slope of the peak exercise ST segment\n",
    "  * Value 1: upsloping\n",
    "  * Value 2: flat\n",
    "  * Value 3: downsloping\n",
    "* ca - number of major vessels colored by fluroscopy\n",
    "* thal - 3 = normal; 6 = fixed defect; 7 = reversable defect\n",
    "*  target - diagnosis of heart disease (angiographic disease status)\n",
    "   * Value 0: < 50% diameter narrowing\n",
    "   * Value 1: > 50% diameter narrowing\n",
    "\n",
    "\n",
    "\n"
   ]
  },
  {
   "cell_type": "code",
   "execution_count": 4,
   "metadata": {
    "execution": {
     "iopub.execute_input": "2020-09-05T21:23:54.539845Z",
     "iopub.status.busy": "2020-09-05T21:23:54.538901Z",
     "iopub.status.idle": "2020-09-05T21:23:54.720500Z",
     "shell.execute_reply": "2020-09-05T21:23:54.719561Z"
    },
    "papermill": {
     "duration": 0.217738,
     "end_time": "2020-09-05T21:23:54.720681",
     "exception": false,
     "start_time": "2020-09-05T21:23:54.502943",
     "status": "completed"
    },
    "tags": []
   },
   "outputs": [
    {
     "data": {
      "text/plain": [
       "<matplotlib.axes._subplots.AxesSubplot at 0x7f81d4bfff50>"
      ]
     },
     "execution_count": 4,
     "metadata": {},
     "output_type": "execute_result"
    },
    {
     "data": {
      "image/png": "[encoded data removed]",
      "text/plain": [
       "<Figure size 432x288 with 1 Axes>"
      ]
     },
     "metadata": {
      "needs_background": "light"
     },
     "output_type": "display_data"
    }
   ],
   "source": [
    "sns.countplot(x = \"target\", data = heart_dataset)"
   ]
  },
  {
   "cell_type": "markdown",
   "execution_count": null,
   "metadata": {
    "papermill": {
     "duration": 0.024575,
     "end_time": "2020-09-05T21:23:54.771705",
     "exception": false,
     "start_time": "2020-09-05T21:23:54.747130",
     "status": "completed"
    },
    "tags": []
   },
   "source": [
    "There seems to exist a slight class imbalance. We might need to accommodate this if required"
   ]
  },
  {
   "cell_type": "markdown",
   "execution_count": null,
   "metadata": {
    "papermill": {
     "duration": 0.03228,
     "end_time": "2020-09-05T21:23:54.833788",
     "exception": false,
     "start_time": "2020-09-05T21:23:54.801508",
     "status": "completed"
    },
    "tags": []
   },
   "source": [
    "## Exploring specific columns"
   ]
  },
  {
   "cell_type": "code",
   "execution_count": 5,
   "metadata": {
    "execution": {
     "iopub.execute_input": "2020-09-05T21:23:54.905544Z",
     "iopub.status.busy": "2020-09-05T21:23:54.900881Z",
     "iopub.status.idle": "2020-09-05T21:23:55.089100Z",
     "shell.execute_reply": "2020-09-05T21:23:55.088369Z"
    },
    "papermill": {
     "duration": 0.228763,
     "end_time": "2020-09-05T21:23:55.089225",
     "exception": false,
     "start_time": "2020-09-05T21:23:54.860462",
     "status": "completed"
    },
    "tags": []
   },
   "outputs": [
    {
     "data": {
      "text/plain": [
       "<matplotlib.axes._subplots.AxesSubplot at 0x7f81d47d4e50>"
      ]
     },
     "execution_count": 5,
     "metadata": {},
     "output_type": "execute_result"
    },
    {
     "data": {
      "image/png": "[encoded data removed]",
      "text/plain": [
       "<Figure size 432x288 with 1 Axes>"
      ]
     },
     "metadata": {
      "needs_background": "light"
     },
     "output_type": "display_data"
    }
   ],
   "source": [
    "splitBySex = pd.crosstab(heart_dataset[\"target\"], heart_dataset[\"sex\"])\n",
    "splitBySex[1] /= sum(splitBySex[1])\n",
    "splitBySex[0] /= sum(splitBySex[0])\n",
    "splitBySex.plot(kind = \"bar\")"
   ]
  },
  {
   "cell_type": "markdown",
   "execution_count": null,
   "metadata": {
    "papermill": {
     "duration": 0.022878,
     "end_time": "2020-09-05T21:23:55.135436",
     "exception": false,
     "start_time": "2020-09-05T21:23:55.112558",
     "status": "completed"
    },
    "tags": []
   },
   "source": [
    "If you have a heart failure, there seems to be a greater chance that you're female, i.e., P(female | diseased person) > P(male | diseased person)"
   ]
  },
  {
   "cell_type": "markdown",
   "execution_count": null,
   "metadata": {
    "papermill": {
     "duration": 0.02363,
     "end_time": "2020-09-05T21:23:55.182240",
     "exception": false,
     "start_time": "2020-09-05T21:23:55.158610",
     "status": "completed"
    },
    "tags": []
   },
   "source": [
    "The other probability also (for completion)"
   ]
  },
  {
   "cell_type": "code",
   "execution_count": 6,
   "metadata": {
    "execution": {
     "iopub.execute_input": "2020-09-05T21:23:55.248508Z",
     "iopub.status.busy": "2020-09-05T21:23:55.244655Z",
     "iopub.status.idle": "2020-09-05T21:23:55.254274Z",
     "shell.execute_reply": "2020-09-05T21:23:55.253527Z"
    },
    "papermill": {
     "duration": 0.048808,
     "end_time": "2020-09-05T21:23:55.254435",
     "exception": false,
     "start_time": "2020-09-05T21:23:55.205627",
     "status": "completed"
    },
    "tags": []
   },
   "outputs": [],
   "source": [
    "sexSplitByDisease = pd.crosstab(heart_dataset[\"sex\"], heart_dataset[\"target\"])\n",
    "sexSplitByDisease[0] /= sum(sexSplitByDisease[0])\n",
    "sexSplitByDisease[1] /= sum(sexSplitByDisease[1])"
   ]
  },
  {
   "cell_type": "code",
   "execution_count": 7,
   "metadata": {
    "execution": {
     "iopub.execute_input": "2020-09-05T21:23:55.314796Z",
     "iopub.status.busy": "2020-09-05T21:23:55.309869Z",
     "iopub.status.idle": "2020-09-05T21:23:55.472258Z",
     "shell.execute_reply": "2020-09-05T21:23:55.471520Z"
    },
    "papermill": {
     "duration": 0.194646,
     "end_time": "2020-09-05T21:23:55.472378",
     "exception": false,
     "start_time": "2020-09-05T21:23:55.277732",
     "status": "completed"
    },
    "tags": []
   },
   "outputs": [
    {
     "data": {
      "text/plain": [
       "<matplotlib.axes._subplots.AxesSubplot at 0x7f81d4646c50>"
      ]
     },
     "execution_count": 7,
     "metadata": {},
     "output_type": "execute_result"
    },
    {
     "data": {
      "image/png": "[encoded data removed]",
      "text/plain": [
       "<Figure size 432x288 with 1 Axes>"
      ]
     },
     "metadata": {
      "needs_background": "light"
     },
     "output_type": "display_data"
    }
   ],
   "source": [
    "sexSplitByDisease.plot(kind = \"bar\")"
   ]
  },
  {
   "cell_type": "markdown",
   "execution_count": null,
   "metadata": {
    "papermill": {
     "duration": 0.023265,
     "end_time": "2020-09-05T21:23:55.519270",
     "exception": false,
     "start_time": "2020-09-05T21:23:55.496005",
     "status": "completed"
    },
    "tags": []
   },
   "source": [
    "If you're female there's a greater chance that you're diseased i.e., P(diseased | female) > P(diseased | male)"
   ]
  },
  {
   "cell_type": "code",
   "execution_count": 8,
   "metadata": {
    "execution": {
     "iopub.execute_input": "2020-09-05T21:23:55.574405Z",
     "iopub.status.busy": "2020-09-05T21:23:55.573606Z",
     "iopub.status.idle": "2020-09-05T21:23:55.576838Z",
     "shell.execute_reply": "2020-09-05T21:23:55.576258Z"
    },
    "papermill": {
     "duration": 0.034193,
     "end_time": "2020-09-05T21:23:55.576966",
     "exception": false,
     "start_time": "2020-09-05T21:23:55.542773",
     "status": "completed"
    },
    "tags": []
   },
   "outputs": [],
   "source": [
    "positives = heart_dataset.loc[heart_dataset[\"target\"] == 1]\n",
    "negatives = heart_dataset.loc[heart_dataset[\"target\"] == 0]"
   ]
  },
  {
   "cell_type": "markdown",
   "execution_count": null,
   "metadata": {
    "papermill": {
     "duration": 0.023429,
     "end_time": "2020-09-05T21:23:55.624059",
     "exception": false,
     "start_time": "2020-09-05T21:23:55.600630",
     "status": "completed"
    },
    "tags": []
   },
   "source": [
    "### Age group"
   ]
  },
  {
   "cell_type": "code",
   "execution_count": 9,
   "metadata": {
    "execution": {
     "iopub.execute_input": "2020-09-05T21:23:55.682985Z",
     "iopub.status.busy": "2020-09-05T21:23:55.682236Z",
     "iopub.status.idle": "2020-09-05T21:23:55.859759Z",
     "shell.execute_reply": "2020-09-05T21:23:55.859093Z"
    },
    "papermill": {
     "duration": 0.2121,
     "end_time": "2020-09-05T21:23:55.859888",
     "exception": false,
     "start_time": "2020-09-05T21:23:55.647788",
     "status": "completed"
    },
    "tags": []
   },
   "outputs": [
    {
     "data": {
      "text/plain": [
       "<matplotlib.axes._subplots.AxesSubplot at 0x7f81d45e4690>"
      ]
     },
     "execution_count": 9,
     "metadata": {},
     "output_type": "execute_result"
    },
    {
     "data": {
      "image/png": "[encoded data removed]",
      "text/plain": [
       "<Figure size 432x288 with 1 Axes>"
      ]
     },
     "metadata": {
      "needs_background": "light"
     },
     "output_type": "display_data"
    }
   ],
   "source": [
    "sns.distplot(positives[\"age\"],kde = False)"
   ]
  },
  {
   "cell_type": "code",
   "execution_count": 10,
   "metadata": {
    "execution": {
     "iopub.execute_input": "2020-09-05T21:23:55.920608Z",
     "iopub.status.busy": "2020-09-05T21:23:55.919776Z",
     "iopub.status.idle": "2020-09-05T21:23:56.096420Z",
     "shell.execute_reply": "2020-09-05T21:23:56.095628Z"
    },
    "papermill": {
     "duration": 0.21217,
     "end_time": "2020-09-05T21:23:56.096549",
     "exception": false,
     "start_time": "2020-09-05T21:23:55.884379",
     "status": "completed"
    },
    "tags": []
   },
   "outputs": [
    {
     "data": {
      "text/plain": [
       "<matplotlib.axes._subplots.AxesSubplot at 0x7f81d4562690>"
      ]
     },
     "execution_count": 10,
     "metadata": {},
     "output_type": "execute_result"
    },
    {
     "data": {
      "image/png": "[encoded data removed]",
      "text/plain": [
       "<Figure size 432x288 with 1 Axes>"
      ]
     },
     "metadata": {
      "needs_background": "light"
     },
     "output_type": "display_data"
    }
   ],
   "source": [
    "sns.distplot(negatives[\"age\"],kde = False)"
   ]
  },
  {
   "cell_type": "markdown",
   "execution_count": null,
   "metadata": {
    "papermill": {
     "duration": 0.024663,
     "end_time": "2020-09-05T21:23:56.145635",
     "exception": false,
     "start_time": "2020-09-05T21:23:56.120972",
     "status": "completed"
    },
    "tags": []
   },
   "source": [
    "The bi-modality in the positives is quite striking, as is the peak in the 60s for the negatives. Looks like old people are healthy after all :) "
   ]
  },
  {
   "cell_type": "markdown",
   "execution_count": null,
   "metadata": {
    "papermill": {
     "duration": 0.025152,
     "end_time": "2020-09-05T21:23:56.196129",
     "exception": false,
     "start_time": "2020-09-05T21:23:56.170977",
     "status": "completed"
    },
    "tags": []
   },
   "source": [
    "### Angina - cp"
   ]
  },
  {
   "cell_type": "markdown",
   "execution_count": null,
   "metadata": {
    "papermill": {
     "duration": 0.023853,
     "end_time": "2020-09-05T21:23:56.244683",
     "exception": false,
     "start_time": "2020-09-05T21:23:56.220830",
     "status": "completed"
    },
    "tags": []
   },
   "source": [
    "Angina - A type of chest pain caused by reduced blood flow to the heart. Let's check the correlation of cp with heart failure rates, given that heart failure criteria is given as narrowing of artery diameter (which could cause angina, hence angina being the predictor)"
   ]
  },
  {
   "cell_type": "code",
   "execution_count": 11,
   "metadata": {
    "execution": {
     "iopub.execute_input": "2020-09-05T21:23:56.303194Z",
     "iopub.status.busy": "2020-09-05T21:23:56.302103Z",
     "iopub.status.idle": "2020-09-05T21:23:56.484786Z",
     "shell.execute_reply": "2020-09-05T21:23:56.484020Z"
    },
    "papermill": {
     "duration": 0.215397,
     "end_time": "2020-09-05T21:23:56.484916",
     "exception": false,
     "start_time": "2020-09-05T21:23:56.269519",
     "status": "completed"
    },
    "tags": []
   },
   "outputs": [
    {
     "data": {
      "text/plain": [
       "<matplotlib.axes._subplots.AxesSubplot at 0x7f81d44d4e90>"
      ]
     },
     "execution_count": 11,
     "metadata": {},
     "output_type": "execute_result"
    },
    {
     "data": {
      "image/png": "[encoded data removed]",
      "text/plain": [
       "<Figure size 432x288 with 1 Axes>"
      ]
     },
     "metadata": {
      "needs_background": "light"
     },
     "output_type": "display_data"
    }
   ],
   "source": [
    "pd.crosstab(heart_dataset[\"target\"], heart_dataset[\"cp\"]).plot(kind = \"bar\")"
   ]
  },
  {
   "cell_type": "markdown",
   "execution_count": null,
   "metadata": {
    "papermill": {
     "duration": 0.024406,
     "end_time": "2020-09-05T21:23:56.534204",
     "exception": false,
     "start_time": "2020-09-05T21:23:56.509798",
     "status": "completed"
    },
    "tags": []
   },
   "source": [
    "Recall\n",
    "* Value 0: typical angina\n",
    "* Value 1: atypical angina\n",
    "* Value 2: non-anginal pain\n",
    "* Value 3: asymptomatic"
   ]
  },
  {
   "cell_type": "markdown",
   "execution_count": null,
   "metadata": {
    "papermill": {
     "duration": 0.024284,
     "end_time": "2020-09-05T21:23:56.583066",
     "exception": false,
     "start_time": "2020-09-05T21:23:56.558782",
     "status": "completed"
    },
    "tags": []
   },
   "source": [
    "Looks like non-anginal pain seems to be a marker for heart failure, while anginal pain seems to be a marker for no heart failure"
   ]
  },
  {
   "cell_type": "markdown",
   "execution_count": null,
   "metadata": {
    "papermill": {
     "duration": 0.024201,
     "end_time": "2020-09-05T21:23:56.632060",
     "exception": false,
     "start_time": "2020-09-05T21:23:56.607859",
     "status": "completed"
    },
    "tags": []
   },
   "source": [
    "#### trestbps - Resting blood pressure"
   ]
  },
  {
   "cell_type": "code",
   "execution_count": 12,
   "metadata": {
    "execution": {
     "iopub.execute_input": "2020-09-05T21:23:56.694837Z",
     "iopub.status.busy": "2020-09-05T21:23:56.692188Z",
     "iopub.status.idle": "2020-09-05T21:23:56.883448Z",
     "shell.execute_reply": "2020-09-05T21:23:56.883971Z"
    },
    "papermill": {
     "duration": 0.227356,
     "end_time": "2020-09-05T21:23:56.884149",
     "exception": false,
     "start_time": "2020-09-05T21:23:56.656793",
     "status": "completed"
    },
    "tags": []
   },
   "outputs": [
    {
     "data": {
      "text/plain": [
       "<matplotlib.axes._subplots.AxesSubplot at 0x7f81d43fbb10>"
      ]
     },
     "execution_count": 12,
     "metadata": {},
     "output_type": "execute_result"
    },
    {
     "data": {
      "image/png": "[encoded data removed]",
      "text/plain": [
       "<Figure size 432x288 with 1 Axes>"
      ]
     },
     "metadata": {
      "needs_background": "light"
     },
     "output_type": "display_data"
    }
   ],
   "source": [
    "sns.distplot(positives[\"trestbps\"])"
   ]
  },
  {
   "cell_type": "code",
   "execution_count": 13,
   "metadata": {
    "execution": {
     "iopub.execute_input": "2020-09-05T21:23:56.947105Z",
     "iopub.status.busy": "2020-09-05T21:23:56.940676Z",
     "iopub.status.idle": "2020-09-05T21:23:57.132799Z",
     "shell.execute_reply": "2020-09-05T21:23:57.132014Z"
    },
    "papermill": {
     "duration": 0.223807,
     "end_time": "2020-09-05T21:23:57.132920",
     "exception": false,
     "start_time": "2020-09-05T21:23:56.909113",
     "status": "completed"
    },
    "tags": []
   },
   "outputs": [
    {
     "data": {
      "text/plain": [
       "<matplotlib.axes._subplots.AxesSubplot at 0x7f81d4390cd0>"
      ]
     },
     "execution_count": 13,
     "metadata": {},
     "output_type": "execute_result"
    },
    {
     "data": {
      "image/png": "[encoded data removed]",
      "text/plain": [
       "<Figure size 432x288 with 1 Axes>"
      ]
     },
     "metadata": {
      "needs_background": "light"
     },
     "output_type": "display_data"
    }
   ],
   "source": [
    "sns.distplot(negatives[\"trestbps\"])"
   ]
  },
  {
   "cell_type": "code",
   "execution_count": 14,
   "metadata": {
    "execution": {
     "iopub.execute_input": "2020-09-05T21:23:57.197278Z",
     "iopub.status.busy": "2020-09-05T21:23:57.196006Z",
     "iopub.status.idle": "2020-09-05T21:23:57.937790Z",
     "shell.execute_reply": "2020-09-05T21:23:57.937037Z"
    },
    "papermill": {
     "duration": 0.779314,
     "end_time": "2020-09-05T21:23:57.937929",
     "exception": false,
     "start_time": "2020-09-05T21:23:57.158615",
     "status": "completed"
    },
    "tags": []
   },
   "outputs": [
    {
     "data": {
      "text/plain": [
       "<seaborn.axisgrid.JointGrid at 0x7f81d432b3d0>"
      ]
     },
     "execution_count": 14,
     "metadata": {},
     "output_type": "execute_result"
    },
    {
     "data": {
      "image/png": "[encoded data removed]",
      "text/plain": [
       "<Figure size 432x432 with 3 Axes>"
      ]
     },
     "metadata": {
      "needs_background": "light"
     },
     "output_type": "display_data"
    }
   ],
   "source": [
    "sns.jointplot(x = positives[\"trestbps\"], y = positives[\"age\"],kind = \"hex\")"
   ]
  },
  {
   "cell_type": "markdown",
   "execution_count": null,
   "metadata": {
    "papermill": {
     "duration": 0.025412,
     "end_time": "2020-09-05T21:23:57.989958",
     "exception": false,
     "start_time": "2020-09-05T21:23:57.964546",
     "status": "completed"
    },
    "tags": []
   },
   "source": [
    "Looks like most people having heart failures seem to be in their 50s and having moderately high (130 mm Hg) blood pressure"
   ]
  },
  {
   "cell_type": "code",
   "execution_count": 15,
   "metadata": {
    "execution": {
     "iopub.execute_input": "2020-09-05T21:23:58.053230Z",
     "iopub.status.busy": "2020-09-05T21:23:58.052410Z",
     "iopub.status.idle": "2020-09-05T21:23:58.895056Z",
     "shell.execute_reply": "2020-09-05T21:23:58.894455Z"
    },
    "papermill": {
     "duration": 0.879506,
     "end_time": "2020-09-05T21:23:58.895199",
     "exception": false,
     "start_time": "2020-09-05T21:23:58.015693",
     "status": "completed"
    },
    "tags": []
   },
   "outputs": [
    {
     "data": {
      "text/plain": [
       "<seaborn.axisgrid.JointGrid at 0x7f81d4322f50>"
      ]
     },
     "execution_count": 15,
     "metadata": {},
     "output_type": "execute_result"
    },
    {
     "data": {
      "image/png": "[encoded data removed]",
      "text/plain": [
       "<Figure size 432x432 with 3 Axes>"
      ]
     },
     "metadata": {
      "needs_background": "light"
     },
     "output_type": "display_data"
    }
   ],
   "source": [
    "sns.jointplot(x = negatives[\"trestbps\"], y = negatives[\"age\"], kind = \"hex\")"
   ]
  },
  {
   "cell_type": "markdown",
   "execution_count": null,
   "metadata": {
    "papermill": {
     "duration": 0.025972,
     "end_time": "2020-09-05T21:23:58.948271",
     "exception": false,
     "start_time": "2020-09-05T21:23:58.922299",
     "status": "completed"
    },
    "tags": []
   },
   "source": [
    "The highest distribution here too seems to be on the lower side (120s) and in the same age group as above (50s)"
   ]
  },
  {
   "cell_type": "markdown",
   "execution_count": null,
   "metadata": {
    "papermill": {
     "duration": 0.025939,
     "end_time": "2020-09-05T21:23:59.000925",
     "exception": false,
     "start_time": "2020-09-05T21:23:58.974986",
     "status": "completed"
    },
    "tags": []
   },
   "source": [
    "#### ca - Number of major vessels coloured by fluoroscopy"
   ]
  },
  {
   "cell_type": "markdown",
   "execution_count": null,
   "metadata": {
    "papermill": {
     "duration": 0.026103,
     "end_time": "2020-09-05T21:23:59.053503",
     "exception": false,
     "start_time": "2020-09-05T21:23:59.027400",
     "status": "completed"
    },
    "tags": []
   },
   "source": [
    "What I understand from [here](https://www.hopkinsmedicine.org/health/treatment-tests-and-therapies/fluoroscopy-procedure) and [here](https://www.hopkinsmedicine.org/health/treatment-tests-and-therapies/cardiac-catheterization) is that a tube is inserted and the arteries coloured to check for any blockages. So I'm assuming the more vessels that were checked, the stronger our conclusions are, so the `ca` variable could be a very strong predictor of the presence or absence of the disease"
   ]
  },
  {
   "cell_type": "code",
   "execution_count": 16,
   "metadata": {
    "execution": {
     "iopub.execute_input": "2020-09-05T21:23:59.124348Z",
     "iopub.status.busy": "2020-09-05T21:23:59.123234Z",
     "iopub.status.idle": "2020-09-05T21:23:59.256550Z",
     "shell.execute_reply": "2020-09-05T21:23:59.255906Z"
    },
    "papermill": {
     "duration": 0.176898,
     "end_time": "2020-09-05T21:23:59.256682",
     "exception": false,
     "start_time": "2020-09-05T21:23:59.079784",
     "status": "completed"
    },
    "tags": []
   },
   "outputs": [
    {
     "data": {
      "text/plain": [
       "<matplotlib.axes._subplots.AxesSubplot at 0x7f81d44a7a10>"
      ]
     },
     "execution_count": 16,
     "metadata": {},
     "output_type": "execute_result"
    },
    {
     "data": {
      "image/png": "[encoded data removed]",
      "text/plain": [
       "<Figure size 432x288 with 1 Axes>"
      ]
     },
     "metadata": {
      "needs_background": "light"
     },
     "output_type": "display_data"
    }
   ],
   "source": [
    "(positives[\"ca\"].value_counts()).plot(kind = \"bar\")"
   ]
  },
  {
   "cell_type": "code",
   "execution_count": 17,
   "metadata": {
    "execution": {
     "iopub.execute_input": "2020-09-05T21:23:59.374716Z",
     "iopub.status.busy": "2020-09-05T21:23:59.369028Z",
     "iopub.status.idle": "2020-09-05T21:23:59.501346Z",
     "shell.execute_reply": "2020-09-05T21:23:59.500570Z"
    },
    "papermill": {
     "duration": 0.217627,
     "end_time": "2020-09-05T21:23:59.501477",
     "exception": false,
     "start_time": "2020-09-05T21:23:59.283850",
     "status": "completed"
    },
    "tags": []
   },
   "outputs": [
    {
     "data": {
      "text/plain": [
       "<matplotlib.axes._subplots.AxesSubplot at 0x7f81d43f4b90>"
      ]
     },
     "execution_count": 17,
     "metadata": {},
     "output_type": "execute_result"
    },
    {
     "data": {
      "image/png": "[encoded data removed]",
      "text/plain": [
       "<Figure size 432x288 with 1 Axes>"
      ]
     },
     "metadata": {
      "needs_background": "light"
     },
     "output_type": "display_data"
    }
   ],
   "source": [
    "negatives[\"ca\"].value_counts().plot(kind = \"bar\")"
   ]
  },
  {
   "cell_type": "markdown",
   "execution_count": null,
   "metadata": {
    "papermill": {
     "duration": 0.026786,
     "end_time": "2020-09-05T21:23:59.555459",
     "exception": false,
     "start_time": "2020-09-05T21:23:59.528673",
     "status": "completed"
    },
    "tags": []
   },
   "source": [
    "So this means if a fluoroscopy is done, there is a greater chance of not having a heart failure. For the time being, we will include `ca` as a bool - ca > 0 : 1, else 0"
   ]
  },
  {
   "cell_type": "code",
   "execution_count": 18,
   "metadata": {
    "execution": {
     "iopub.execute_input": "2020-09-05T21:23:59.624047Z",
     "iopub.status.busy": "2020-09-05T21:23:59.623050Z",
     "iopub.status.idle": "2020-09-05T21:23:59.785323Z",
     "shell.execute_reply": "2020-09-05T21:23:59.784701Z"
    },
    "papermill": {
     "duration": 0.202809,
     "end_time": "2020-09-05T21:23:59.785450",
     "exception": false,
     "start_time": "2020-09-05T21:23:59.582641",
     "status": "completed"
    },
    "tags": []
   },
   "outputs": [
    {
     "data": {
      "text/plain": [
       "<matplotlib.axes._subplots.AxesSubplot at 0x7f81b71ee750>"
      ]
     },
     "execution_count": 18,
     "metadata": {},
     "output_type": "execute_result"
    },
    {
     "data": {
      "image/png": "[encoded data removed]",
      "text/plain": [
       "<Figure size 432x288 with 1 Axes>"
      ]
     },
     "metadata": {
      "needs_background": "light"
     },
     "output_type": "display_data"
    }
   ],
   "source": [
    "pd.crosstab(heart_dataset[\"exang\"],heart_dataset[\"target\"]).plot(kind = \"bar\")"
   ]
  },
  {
   "cell_type": "markdown",
   "execution_count": null,
   "metadata": {
    "papermill": {
     "duration": 0.026806,
     "end_time": "2020-09-05T21:23:59.839489",
     "exception": false,
     "start_time": "2020-09-05T21:23:59.812683",
     "status": "completed"
    },
    "tags": []
   },
   "source": [
    "Exercise induced angina seems to be a negative indicator of heart failure"
   ]
  },
  {
   "cell_type": "markdown",
   "execution_count": null,
   "metadata": {
    "papermill": {
     "duration": 0.026962,
     "end_time": "2020-09-05T21:23:59.893785",
     "exception": false,
     "start_time": "2020-09-05T21:23:59.866823",
     "status": "completed"
    },
    "tags": []
   },
   "source": [
    "#### Oldpeak and thal"
   ]
  },
  {
   "cell_type": "markdown",
   "execution_count": null,
   "metadata": {
    "papermill": {
     "duration": 0.026771,
     "end_time": "2020-09-05T21:23:59.947936",
     "exception": false,
     "start_time": "2020-09-05T21:23:59.921165",
     "status": "completed"
    },
    "tags": []
   },
   "source": [
    "Since I'm no doctor, I don't have an intuitive idea of what these are supposed to mean and how the slope affects diagnosis, so I plot these without any intuition"
   ]
  },
  {
   "cell_type": "code",
   "execution_count": 19,
   "metadata": {
    "execution": {
     "iopub.execute_input": "2020-09-05T21:24:00.012255Z",
     "iopub.status.busy": "2020-09-05T21:24:00.011144Z",
     "iopub.status.idle": "2020-09-05T21:24:00.525145Z",
     "shell.execute_reply": "2020-09-05T21:24:00.525712Z"
    },
    "papermill": {
     "duration": 0.549857,
     "end_time": "2020-09-05T21:24:00.525879",
     "exception": false,
     "start_time": "2020-09-05T21:23:59.976022",
     "status": "completed"
    },
    "tags": []
   },
   "outputs": [
    {
     "data": {
      "text/plain": [
       "<matplotlib.axes._subplots.AxesSubplot at 0x7f81b7177e10>"
      ]
     },
     "execution_count": 19,
     "metadata": {},
     "output_type": "execute_result"
    },
    {
     "data": {
      "image/png": "[encoded data removed]",
      "text/plain": [
       "<Figure size 432x288 with 1 Axes>"
      ]
     },
     "metadata": {
      "needs_background": "light"
     },
     "output_type": "display_data"
    }
   ],
   "source": [
    "sns.swarmplot(y = heart_dataset[\"oldpeak\"], x = heart_dataset[\"slope\"], hue = heart_dataset[\"target\"])"
   ]
  },
  {
   "cell_type": "markdown",
   "execution_count": null,
   "metadata": {
    "papermill": {
     "duration": 0.027675,
     "end_time": "2020-09-05T21:24:00.581634",
     "exception": false,
     "start_time": "2020-09-05T21:24:00.553959",
     "status": "completed"
    },
    "tags": []
   },
   "source": [
    "slope 2 and low oldpeak seems to be clear cut indicators of heart failure. High values of olepeak seems to be correlated with no heart failure. So we expect similar results in the model. We will one-hot encode slope"
   ]
  },
  {
   "cell_type": "markdown",
   "execution_count": null,
   "metadata": {
    "papermill": {
     "duration": 0.027688,
     "end_time": "2020-09-05T21:24:00.637721",
     "exception": false,
     "start_time": "2020-09-05T21:24:00.610033",
     "status": "completed"
    },
    "tags": []
   },
   "source": [
    "#### chol - Serum cholesterol"
   ]
  },
  {
   "cell_type": "code",
   "execution_count": 20,
   "metadata": {
    "execution": {
     "iopub.execute_input": "2020-09-05T21:24:00.706364Z",
     "iopub.status.busy": "2020-09-05T21:24:00.704301Z",
     "iopub.status.idle": "2020-09-05T21:24:00.890444Z",
     "shell.execute_reply": "2020-09-05T21:24:00.890987Z"
    },
    "papermill": {
     "duration": 0.225448,
     "end_time": "2020-09-05T21:24:00.891171",
     "exception": false,
     "start_time": "2020-09-05T21:24:00.665723",
     "status": "completed"
    },
    "tags": []
   },
   "outputs": [
    {
     "data": {
      "text/plain": [
       "<matplotlib.axes._subplots.AxesSubplot at 0x7f81b70fca50>"
      ]
     },
     "execution_count": 20,
     "metadata": {},
     "output_type": "execute_result"
    },
    {
     "data": {
      "image/png": "[encoded data removed]",
      "text/plain": [
       "<Figure size 432x288 with 1 Axes>"
      ]
     },
     "metadata": {
      "needs_background": "light"
     },
     "output_type": "display_data"
    }
   ],
   "source": [
    "sns.distplot(positives[\"chol\"], kde = False)"
   ]
  },
  {
   "cell_type": "code",
   "execution_count": 21,
   "metadata": {
    "execution": {
     "iopub.execute_input": "2020-09-05T21:24:00.953532Z",
     "iopub.status.busy": "2020-09-05T21:24:00.952794Z",
     "iopub.status.idle": "2020-09-05T21:24:01.131816Z",
     "shell.execute_reply": "2020-09-05T21:24:01.132383Z"
    },
    "papermill": {
     "duration": 0.212968,
     "end_time": "2020-09-05T21:24:01.132551",
     "exception": false,
     "start_time": "2020-09-05T21:24:00.919583",
     "status": "completed"
    },
    "tags": []
   },
   "outputs": [
    {
     "data": {
      "text/plain": [
       "<matplotlib.axes._subplots.AxesSubplot at 0x7f81b7014110>"
      ]
     },
     "execution_count": 21,
     "metadata": {},
     "output_type": "execute_result"
    },
    {
     "data": {
      "image/png": "[encoded data removed]",
      "text/plain": [
       "<Figure size 432x288 with 1 Axes>"
      ]
     },
     "metadata": {
      "needs_background": "light"
     },
     "output_type": "display_data"
    }
   ],
   "source": [
    "sns.distplot(negatives[\"chol\"], kde = False)"
   ]
  },
  {
   "cell_type": "markdown",
   "execution_count": null,
   "metadata": {
    "papermill": {
     "duration": 0.028861,
     "end_time": "2020-09-05T21:24:01.190437",
     "exception": false,
     "start_time": "2020-09-05T21:24:01.161576",
     "status": "completed"
    },
    "tags": []
   },
   "source": [
    "This doesn't look like a very important variable, given that the core regions of positives and negatives overlap"
   ]
  },
  {
   "cell_type": "markdown",
   "execution_count": null,
   "metadata": {
    "papermill": {
     "duration": 0.028768,
     "end_time": "2020-09-05T21:24:01.248319",
     "exception": false,
     "start_time": "2020-09-05T21:24:01.219551",
     "status": "completed"
    },
    "tags": []
   },
   "source": [
    "To summarize, we shall be doing the following for modelling\n",
    "\n",
    "* Age - as is, no normalization\n",
    "* Sex - as is, no modifications\n",
    "* cp - one hot encode\n",
    "* fbs - as is, no modification\n",
    "* restecg - one hot encode\n",
    "* trestbps, chol, thalach, oldpeak - Normalize using StandardScaler so that the numbers that enter the model have the same order of magnitude\n",
    "* exang - include (expect negative correlation)\n",
    "* slope - on ehot encode\n",
    "* ca - make it bool ( 1 if at least one vesse coloured by fluoroscopy)\n",
    "* thal - drop (because I don't know what this variable is)"
   ]
  },
  {
   "cell_type": "markdown",
   "execution_count": null,
   "metadata": {
    "papermill": {
     "duration": 0.029363,
     "end_time": "2020-09-05T21:24:01.306699",
     "exception": false,
     "start_time": "2020-09-05T21:24:01.277336",
     "status": "completed"
    },
    "tags": []
   },
   "source": [
    "## ML Models"
   ]
  },
  {
   "cell_type": "markdown",
   "execution_count": null,
   "metadata": {
    "papermill": {
     "duration": 0.028568,
     "end_time": "2020-09-05T21:24:01.364969",
     "exception": false,
     "start_time": "2020-09-05T21:24:01.336401",
     "status": "completed"
    },
    "tags": []
   },
   "source": [
    "### Logistic Regression\n",
    "\n",
    "Let's start with good ol' logistic regression, because we'll be able to understand the individual coefficients in a linear model[](http://)\n"
   ]
  },
  {
   "cell_type": "code",
   "execution_count": 22,
   "metadata": {
    "execution": {
     "iopub.execute_input": "2020-09-05T21:24:01.428041Z",
     "iopub.status.busy": "2020-09-05T21:24:01.427300Z",
     "iopub.status.idle": "2020-09-05T21:24:01.523563Z",
     "shell.execute_reply": "2020-09-05T21:24:01.522727Z"
    },
    "papermill": {
     "duration": 0.129855,
     "end_time": "2020-09-05T21:24:01.523702",
     "exception": false,
     "start_time": "2020-09-05T21:24:01.393847",
     "status": "completed"
    },
    "tags": []
   },
   "outputs": [],
   "source": [
    "from  sklearn.linear_model import LogisticRegression\n",
    "from sklearn.pipeline import Pipeline\n",
    "from sklearn.preprocessing import OneHotEncoder"
   ]
  },
  {
   "cell_type": "markdown",
   "execution_count": null,
   "metadata": {
    "papermill": {
     "duration": 0.02834,
     "end_time": "2020-09-05T21:24:01.581026",
     "exception": false,
     "start_time": "2020-09-05T21:24:01.552686",
     "status": "completed"
    },
    "tags": []
   },
   "source": [
    "#### Create X and Y arrays for ML"
   ]
  },
  {
   "cell_type": "markdown",
   "execution_count": null,
   "metadata": {
    "papermill": {
     "duration": 0.028347,
     "end_time": "2020-09-05T21:24:01.638165",
     "exception": false,
     "start_time": "2020-09-05T21:24:01.609818",
     "status": "completed"
    },
    "tags": []
   },
   "source": [
    "Let's check how the data is distributed in the dataset - we don't want all positive and all negative targets together"
   ]
  },
  {
   "cell_type": "code",
   "execution_count": 23,
   "metadata": {
    "execution": {
     "iopub.execute_input": "2020-09-05T21:24:01.708821Z",
     "iopub.status.busy": "2020-09-05T21:24:01.707619Z",
     "iopub.status.idle": "2020-09-05T21:24:01.860576Z",
     "shell.execute_reply": "2020-09-05T21:24:01.859945Z"
    },
    "papermill": {
     "duration": 0.193773,
     "end_time": "2020-09-05T21:24:01.860703",
     "exception": false,
     "start_time": "2020-09-05T21:24:01.666930",
     "status": "completed"
    },
    "tags": []
   },
   "outputs": [
    {
     "data": {
      "text/plain": [
       "[<matplotlib.lines.Line2D at 0x7f81b6f98750>]"
      ]
     },
     "execution_count": 23,
     "metadata": {},
     "output_type": "execute_result"
    },
    {
     "data": {
      "image/png": "[encoded data removed]",
      "text/plain": [
       "<Figure size 432x288 with 1 Axes>"
      ]
     },
     "metadata": {
      "needs_background": "light"
     },
     "output_type": "display_data"
    }
   ],
   "source": [
    "plt.plot(heart_dataset[\"target\"])"
   ]
  },
  {
   "cell_type": "markdown",
   "execution_count": null,
   "metadata": {
    "papermill": {
     "duration": 0.029108,
     "end_time": "2020-09-05T21:24:01.919352",
     "exception": false,
     "start_time": "2020-09-05T21:24:01.890244",
     "status": "completed"
    },
    "tags": []
   },
   "source": [
    "Yep, we need to shuffle the dataset"
   ]
  },
  {
   "cell_type": "code",
   "execution_count": 24,
   "metadata": {
    "execution": {
     "iopub.execute_input": "2020-09-05T21:24:01.986454Z",
     "iopub.status.busy": "2020-09-05T21:24:01.985411Z",
     "iopub.status.idle": "2020-09-05T21:24:01.989027Z",
     "shell.execute_reply": "2020-09-05T21:24:01.988428Z"
    },
    "papermill": {
     "duration": 0.040353,
     "end_time": "2020-09-05T21:24:01.989165",
     "exception": false,
     "start_time": "2020-09-05T21:24:01.948812",
     "status": "completed"
    },
    "tags": []
   },
   "outputs": [],
   "source": [
    "X = heart_dataset.sample(frac=1) #shuffle shuffle shuffle\n",
    "X = X.drop([\"thal\"], axis = 1)"
   ]
  },
  {
   "cell_type": "code",
   "execution_count": 25,
   "metadata": {
    "execution": {
     "iopub.execute_input": "2020-09-05T21:24:02.059528Z",
     "iopub.status.busy": "2020-09-05T21:24:02.058566Z",
     "iopub.status.idle": "2020-09-05T21:24:02.062428Z",
     "shell.execute_reply": "2020-09-05T21:24:02.061701Z"
    },
    "papermill": {
     "duration": 0.044222,
     "end_time": "2020-09-05T21:24:02.062549",
     "exception": false,
     "start_time": "2020-09-05T21:24:02.018327",
     "status": "completed"
    },
    "tags": []
   },
   "outputs": [],
   "source": [
    "#Insert the ca boolean variable in place of the ca variable\n",
    "X[\"cabool\"] = X[\"ca\"].apply(lambda x : 1 if x > 0 else 0)\n",
    "X = X.drop([\"ca\"], axis = 1)\n",
    "X[\"ca\"] = X[\"cabool\"]\n",
    "X = X.drop([\"cabool\"], axis = 1)"
   ]
  },
  {
   "cell_type": "code",
   "execution_count": 26,
   "metadata": {
    "execution": {
     "iopub.execute_input": "2020-09-05T21:24:02.129299Z",
     "iopub.status.busy": "2020-09-05T21:24:02.128328Z",
     "iopub.status.idle": "2020-09-05T21:24:02.131529Z",
     "shell.execute_reply": "2020-09-05T21:24:02.130780Z"
    },
    "papermill": {
     "duration": 0.03973,
     "end_time": "2020-09-05T21:24:02.131651",
     "exception": false,
     "start_time": "2020-09-05T21:24:02.091921",
     "status": "completed"
    },
    "tags": []
   },
   "outputs": [],
   "source": [
    "#copy the targets to y\n",
    "y = X[\"target\"].copy()\n",
    "X = X.drop([\"target\"], axis = 1)"
   ]
  },
  {
   "cell_type": "code",
   "execution_count": 27,
   "metadata": {
    "execution": {
     "iopub.execute_input": "2020-09-05T21:24:02.197612Z",
     "iopub.status.busy": "2020-09-05T21:24:02.196776Z",
     "iopub.status.idle": "2020-09-05T21:24:02.205712Z",
     "shell.execute_reply": "2020-09-05T21:24:02.205018Z"
    },
    "papermill": {
     "duration": 0.044441,
     "end_time": "2020-09-05T21:24:02.205851",
     "exception": false,
     "start_time": "2020-09-05T21:24:02.161410",
     "status": "completed"
    },
    "tags": []
   },
   "outputs": [],
   "source": [
    "from sklearn.compose import ColumnTransformer\n",
    "from sklearn.pipeline import Pipeline\n",
    "from sklearn.preprocessing import OneHotEncoder, StandardScaler\n",
    "from sklearn.model_selection import train_test_split"
   ]
  },
  {
   "cell_type": "code",
   "execution_count": 28,
   "metadata": {
    "execution": {
     "iopub.execute_input": "2020-09-05T21:24:02.274397Z",
     "iopub.status.busy": "2020-09-05T21:24:02.273412Z",
     "iopub.status.idle": "2020-09-05T21:24:02.276137Z",
     "shell.execute_reply": "2020-09-05T21:24:02.276675Z"
    },
    "papermill": {
     "duration": 0.041042,
     "end_time": "2020-09-05T21:24:02.276840",
     "exception": false,
     "start_time": "2020-09-05T21:24:02.235798",
     "status": "completed"
    },
    "tags": []
   },
   "outputs": [],
   "source": [
    "#Using pipelines to do everything together - makes life easy\n",
    "onehot_encoder = OneHotEncoder(handle_unknown = \"ignore\", sparse = False)\n",
    "numerical_scaler = StandardScaler()\n",
    "preprocessor = ColumnTransformer(transformers = [(\"numerical_scaler\",numerical_scaler,[\"trestbps\",\"chol\",\"thalach\",\"oldpeak\"]),(\"onehot_encoder\",onehot_encoder,[\"cp\",\"restecg\",\"slope\"])], remainder = \"passthrough\")\n"
   ]
  },
  {
   "cell_type": "code",
   "execution_count": 29,
   "metadata": {
    "execution": {
     "iopub.execute_input": "2020-09-05T21:24:02.344614Z",
     "iopub.status.busy": "2020-09-05T21:24:02.343772Z",
     "iopub.status.idle": "2020-09-05T21:24:02.347703Z",
     "shell.execute_reply": "2020-09-05T21:24:02.347086Z"
    },
    "papermill": {
     "duration": 0.040722,
     "end_time": "2020-09-05T21:24:02.347825",
     "exception": false,
     "start_time": "2020-09-05T21:24:02.307103",
     "status": "completed"
    },
    "tags": []
   },
   "outputs": [],
   "source": [
    "X_train, X_valid, y_train, y_valid = train_test_split(X,y,train_size = 0.8)"
   ]
  },
  {
   "cell_type": "code",
   "execution_count": 30,
   "metadata": {
    "execution": {
     "iopub.execute_input": "2020-09-05T21:24:02.414605Z",
     "iopub.status.busy": "2020-09-05T21:24:02.413582Z",
     "iopub.status.idle": "2020-09-05T21:24:02.417160Z",
     "shell.execute_reply": "2020-09-05T21:24:02.416444Z"
    },
    "papermill": {
     "duration": 0.03964,
     "end_time": "2020-09-05T21:24:02.417281",
     "exception": false,
     "start_time": "2020-09-05T21:24:02.377641",
     "status": "completed"
    },
    "tags": []
   },
   "outputs": [],
   "source": [
    "from sklearn.linear_model import LogisticRegression\n",
    "fit_model = LogisticRegression(max_iter = 1000, C = 0.5, class_weight = \"balanced\")\n",
    "lr_pipeline = Pipeline(steps = [(\"preprocessor\",preprocessor),(\"model\",fit_model)])"
   ]
  },
  {
   "cell_type": "markdown",
   "execution_count": null,
   "metadata": {
    "papermill": {
     "duration": 0.029304,
     "end_time": "2020-09-05T21:24:02.476428",
     "exception": false,
     "start_time": "2020-09-05T21:24:02.447124",
     "status": "completed"
    },
    "tags": []
   },
   "source": [
    "We will do a grid search to find the best logistic regression regularization parameter"
   ]
  },
  {
   "cell_type": "code",
   "execution_count": 31,
   "metadata": {
    "execution": {
     "iopub.execute_input": "2020-09-05T21:24:02.545771Z",
     "iopub.status.busy": "2020-09-05T21:24:02.544896Z",
     "iopub.status.idle": "2020-09-05T21:24:05.879580Z",
     "shell.execute_reply": "2020-09-05T21:24:05.880395Z"
    },
    "papermill": {
     "duration": 3.374174,
     "end_time": "2020-09-05T21:24:05.880558",
     "exception": false,
     "start_time": "2020-09-05T21:24:02.506384",
     "status": "completed"
    },
    "tags": []
   },
   "outputs": [
    {
     "data": {
      "text/plain": [
       "GridSearchCV(estimator=Pipeline(steps=[('preprocessor',\n",
       "                                        ColumnTransformer(remainder='passthrough',\n",
       "                                                          transformers=[('numerical_scaler',\n",
       "                                                                         StandardScaler(),\n",
       "                                                                         ['trestbps',\n",
       "                                                                          'chol',\n",
       "                                                                          'thalach',\n",
       "                                                                          'oldpeak']),\n",
       "                                                                        ('onehot_encoder',\n",
       "                                                                         OneHotEncoder(handle_unknown='ignore',\n",
       "                                                                                       sparse=False),\n",
       "                                                                         ['cp',\n",
       "                                                                          'restecg',\n",
       "                                                                          'slope'])])),\n",
       "                                       ('model',\n",
       "                                        LogisticRegression(C=0.5,\n",
       "                                                           class_weight='balanced',\n",
       "                                                           max_iter=1000))]),\n",
       "             n_jobs=-1,\n",
       "             param_grid={'model__C': array([1.00000000e-05, 3.59381366e-05, 1.29154967e-04, 4.64158883e-04,\n",
       "       1.66810054e-03, 5.99484250e-03, 2.15443469e-02, 7.74263683e-02,\n",
       "       2.78255940e-01, 1.00000000e+00])})"
      ]
     },
     "execution_count": 31,
     "metadata": {},
     "output_type": "execute_result"
    }
   ],
   "source": [
    "from sklearn.model_selection import GridSearchCV\n",
    "param_grid = {\"model__C\" : np.logspace(-5,0,10)}\n",
    "search = GridSearchCV(lr_pipeline, param_grid, n_jobs = -1)\n",
    "search.fit(X_train,y_train)\n"
   ]
  },
  {
   "cell_type": "code",
   "execution_count": 32,
   "metadata": {
    "execution": {
     "iopub.execute_input": "2020-09-05T21:24:05.948704Z",
     "iopub.status.busy": "2020-09-05T21:24:05.947783Z",
     "iopub.status.idle": "2020-09-05T21:24:05.951722Z",
     "shell.execute_reply": "2020-09-05T21:24:05.952327Z"
    },
    "papermill": {
     "duration": 0.041129,
     "end_time": "2020-09-05T21:24:05.952499",
     "exception": false,
     "start_time": "2020-09-05T21:24:05.911370",
     "status": "completed"
    },
    "tags": []
   },
   "outputs": [
    {
     "data": {
      "text/plain": [
       "0.8556122448979592"
      ]
     },
     "execution_count": 32,
     "metadata": {},
     "output_type": "execute_result"
    }
   ],
   "source": [
    "search.best_score_"
   ]
  },
  {
   "cell_type": "code",
   "execution_count": 33,
   "metadata": {
    "execution": {
     "iopub.execute_input": "2020-09-05T21:24:06.021100Z",
     "iopub.status.busy": "2020-09-05T21:24:06.020223Z",
     "iopub.status.idle": "2020-09-05T21:24:06.024883Z",
     "shell.execute_reply": "2020-09-05T21:24:06.024298Z"
    },
    "papermill": {
     "duration": 0.041086,
     "end_time": "2020-09-05T21:24:06.025008",
     "exception": false,
     "start_time": "2020-09-05T21:24:05.983922",
     "status": "completed"
    },
    "tags": []
   },
   "outputs": [
    {
     "data": {
      "text/plain": [
       "{'model__C': 1.0}"
      ]
     },
     "execution_count": 33,
     "metadata": {},
     "output_type": "execute_result"
    }
   ],
   "source": [
    "search.best_params_"
   ]
  },
  {
   "cell_type": "code",
   "execution_count": 34,
   "metadata": {
    "execution": {
     "iopub.execute_input": "2020-09-05T21:24:06.094757Z",
     "iopub.status.busy": "2020-09-05T21:24:06.093665Z",
     "iopub.status.idle": "2020-09-05T21:24:06.097194Z",
     "shell.execute_reply": "2020-09-05T21:24:06.096603Z"
    },
    "papermill": {
     "duration": 0.041306,
     "end_time": "2020-09-05T21:24:06.097319",
     "exception": false,
     "start_time": "2020-09-05T21:24:06.056013",
     "status": "completed"
    },
    "tags": []
   },
   "outputs": [],
   "source": [
    "#Redefine the pipeline with the best C\n",
    "fit_model = LogisticRegression(max_iter = 1000, C = search.best_params_[\"model__C\"], class_weight = \"balanced\")\n",
    "lr_pipeline = Pipeline(steps = [(\"preprocessor\",preprocessor),(\"model\",fit_model)])"
   ]
  },
  {
   "cell_type": "code",
   "execution_count": 35,
   "metadata": {
    "execution": {
     "iopub.execute_input": "2020-09-05T21:24:06.170685Z",
     "iopub.status.busy": "2020-09-05T21:24:06.169871Z",
     "iopub.status.idle": "2020-09-05T21:24:06.259448Z",
     "shell.execute_reply": "2020-09-05T21:24:06.260147Z"
    },
    "papermill": {
     "duration": 0.131688,
     "end_time": "2020-09-05T21:24:06.260334",
     "exception": false,
     "start_time": "2020-09-05T21:24:06.128646",
     "status": "completed"
    },
    "tags": []
   },
   "outputs": [
    {
     "name": "stdout",
     "output_type": "stream",
     "text": [
      "Accuracy =  0.8032786885245902\n"
     ]
    }
   ],
   "source": [
    "lr_pipeline.fit(X_train,y_train)\n",
    "lr_preds = lr_pipeline.predict(X_valid)\n",
    "print(\"Accuracy = \",sum(lr_preds == y_valid)/len(y_valid))"
   ]
  },
  {
   "cell_type": "markdown",
   "execution_count": null,
   "metadata": {
    "papermill": {
     "duration": 0.030901,
     "end_time": "2020-09-05T21:24:06.325636",
     "exception": false,
     "start_time": "2020-09-05T21:24:06.294735",
     "status": "completed"
    },
    "tags": []
   },
   "source": [
    "Time for some metrics"
   ]
  },
  {
   "cell_type": "code",
   "execution_count": 36,
   "metadata": {
    "execution": {
     "iopub.execute_input": "2020-09-05T21:24:06.397026Z",
     "iopub.status.busy": "2020-09-05T21:24:06.396241Z",
     "iopub.status.idle": "2020-09-05T21:24:06.402579Z",
     "shell.execute_reply": "2020-09-05T21:24:06.401927Z"
    },
    "papermill": {
     "duration": 0.045383,
     "end_time": "2020-09-05T21:24:06.402704",
     "exception": false,
     "start_time": "2020-09-05T21:24:06.357321",
     "status": "completed"
    },
    "tags": []
   },
   "outputs": [
    {
     "name": "stdout",
     "output_type": "stream",
     "text": [
      "[[20  7]\n",
      " [ 5 29]]\n"
     ]
    }
   ],
   "source": [
    "from sklearn.metrics import confusion_matrix,f1_score\n",
    "lr_CM = confusion_matrix(y_valid, lr_preds)\n",
    "lr_TP = lr_CM[1,1]\n",
    "lr_TN = lr_CM[0,0]\n",
    "lr_FP = lr_CM[0,1]\n",
    "lr_FN = lr_CM[1,0]\n",
    "print(lr_CM)"
   ]
  },
  {
   "cell_type": "markdown",
   "execution_count": null,
   "metadata": {
    "papermill": {
     "duration": 0.031028,
     "end_time": "2020-09-05T21:24:06.465286",
     "exception": false,
     "start_time": "2020-09-05T21:24:06.434258",
     "status": "completed"
    },
    "tags": []
   },
   "source": [
    "Confusion matrix order :- \n",
    "\n",
    "TN | FP  \n",
    "FN | TP"
   ]
  },
  {
   "cell_type": "code",
   "execution_count": 37,
   "metadata": {
    "execution": {
     "iopub.execute_input": "2020-09-05T21:24:06.534480Z",
     "iopub.status.busy": "2020-09-05T21:24:06.533654Z",
     "iopub.status.idle": "2020-09-05T21:24:06.537483Z",
     "shell.execute_reply": "2020-09-05T21:24:06.536797Z"
    },
    "papermill": {
     "duration": 0.041064,
     "end_time": "2020-09-05T21:24:06.537623",
     "exception": false,
     "start_time": "2020-09-05T21:24:06.496559",
     "status": "completed"
    },
    "tags": []
   },
   "outputs": [
    {
     "name": "stdout",
     "output_type": "stream",
     "text": [
      "0.8529411764705882 0.7407407407407407\n"
     ]
    }
   ],
   "source": [
    "lr_recall = lr_TP/(lr_TP + lr_FN)\n",
    "lr_specificity = lr_TN/(lr_TN + lr_FP)\n",
    "lr_precision = lr_TP/(lr_TP + lr_FP)\n",
    "\n",
    "print(lr_recall,lr_specificity)"
   ]
  },
  {
   "cell_type": "markdown",
   "execution_count": null,
   "metadata": {
    "papermill": {
     "duration": 0.031186,
     "end_time": "2020-09-05T21:24:06.600481",
     "exception": false,
     "start_time": "2020-09-05T21:24:06.569295",
     "status": "completed"
    },
    "tags": []
   },
   "source": [
    "Our model seems to have decent recall and specificity"
   ]
  },
  {
   "cell_type": "code",
   "execution_count": 38,
   "metadata": {
    "execution": {
     "iopub.execute_input": "2020-09-05T21:24:06.669554Z",
     "iopub.status.busy": "2020-09-05T21:24:06.668482Z",
     "iopub.status.idle": "2020-09-05T21:24:06.673784Z",
     "shell.execute_reply": "2020-09-05T21:24:06.674322Z"
    },
    "papermill": {
     "duration": 0.042716,
     "end_time": "2020-09-05T21:24:06.674480",
     "exception": false,
     "start_time": "2020-09-05T21:24:06.631764",
     "status": "completed"
    },
    "tags": []
   },
   "outputs": [
    {
     "data": {
      "text/plain": [
       "0.8285714285714286"
      ]
     },
     "execution_count": 38,
     "metadata": {},
     "output_type": "execute_result"
    }
   ],
   "source": [
    "lr_f1_score = f1_score(y_valid, lr_preds)\n",
    "lr_f1_score"
   ]
  },
  {
   "cell_type": "code",
   "execution_count": 39,
   "metadata": {
    "execution": {
     "iopub.execute_input": "2020-09-05T21:24:06.752383Z",
     "iopub.status.busy": "2020-09-05T21:24:06.751538Z",
     "iopub.status.idle": "2020-09-05T21:24:06.755851Z",
     "shell.execute_reply": "2020-09-05T21:24:06.755204Z"
    },
    "papermill": {
     "duration": 0.050383,
     "end_time": "2020-09-05T21:24:06.756012",
     "exception": false,
     "start_time": "2020-09-05T21:24:06.705629",
     "status": "completed"
    },
    "tags": []
   },
   "outputs": [],
   "source": [
    "#Prep for ROC score curves\n",
    "from sklearn.metrics import roc_curve, roc_auc_score\n",
    "lr_y_proba = lr_pipeline.predict_proba(X_valid)[:,1]\n",
    "lr_fpr,lr_tpr,lr_threshold = roc_curve(y_valid,lr_y_proba)"
   ]
  },
  {
   "cell_type": "markdown",
   "execution_count": null,
   "metadata": {
    "papermill": {
     "duration": 0.031414,
     "end_time": "2020-09-05T21:24:06.819065",
     "exception": false,
     "start_time": "2020-09-05T21:24:06.787651",
     "status": "completed"
    },
    "tags": []
   },
   "source": [
    "#### A look at the coefficients"
   ]
  },
  {
   "cell_type": "markdown",
   "execution_count": null,
   "metadata": {
    "papermill": {
     "duration": 0.031516,
     "end_time": "2020-09-05T21:24:06.882542",
     "exception": false,
     "start_time": "2020-09-05T21:24:06.851026",
     "status": "completed"
    },
    "tags": []
   },
   "source": [
    "column names in X_train : trestbps, chol, thalach, oldpeak, cp = 0, cp = 1, cp = 2, cp = 3, restecg = 0, restecg = 1, restecg = 2, slope = 0, slope = 1, slope = 2, age, sex, fbs, exang, ca. The fit gives us weights in the same order"
   ]
  },
  {
   "cell_type": "code",
   "execution_count": 40,
   "metadata": {
    "execution": {
     "iopub.execute_input": "2020-09-05T21:24:06.952886Z",
     "iopub.status.busy": "2020-09-05T21:24:06.951889Z",
     "iopub.status.idle": "2020-09-05T21:24:06.956802Z",
     "shell.execute_reply": "2020-09-05T21:24:06.956180Z"
    },
    "papermill": {
     "duration": 0.04276,
     "end_time": "2020-09-05T21:24:06.956923",
     "exception": false,
     "start_time": "2020-09-05T21:24:06.914163",
     "status": "completed"
    },
    "tags": []
   },
   "outputs": [
    {
     "data": {
      "text/plain": [
       "(array([[-0.32489363, -0.51836083,  0.50595553, -0.54350066, -1.24096156,\n",
       "          0.27192936,  0.3636651 ,  0.61072   ,  0.02176843,  0.0427218 ,\n",
       "         -0.05913733,  0.09875905, -0.5500658 ,  0.45665965,  0.01952289,\n",
       "         -1.62837041,  0.05153283, -0.77409338, -1.80103431]]),\n",
       " array([1.4570793]))"
      ]
     },
     "execution_count": 40,
     "metadata": {},
     "output_type": "execute_result"
    }
   ],
   "source": [
    "fit_model.coef_, fit_model.intercept_"
   ]
  },
  {
   "cell_type": "markdown",
   "execution_count": null,
   "metadata": {
    "papermill": {
     "duration": 0.031774,
     "end_time": "2020-09-05T21:24:07.020585",
     "exception": false,
     "start_time": "2020-09-05T21:24:06.988811",
     "status": "completed"
    },
    "tags": []
   },
   "source": [
    "Some of our conclusions from the visualization part seem to have come true\n",
    "\n",
    "* `ca` is a very good predictor of not having a heart disease (in fact the best predictor)\n",
    "* `exang` being moderately negatively correlated with heart disease\n",
    "* `sex` being negatively correlated (women being more prone than men)\n",
    "* `slope` = 2 being a good indicator (moderately high positive weight)\n",
    "* `cp` = 2 (non-anginal pain) having the highest positive weight\n",
    "\n",
    "Overall, this has confirmed some of the trends we saw in the visualization phase"
   ]
  },
  {
   "cell_type": "markdown",
   "execution_count": null,
   "metadata": {
    "papermill": {
     "duration": 0.031225,
     "end_time": "2020-09-05T21:24:07.083744",
     "exception": false,
     "start_time": "2020-09-05T21:24:07.052519",
     "status": "completed"
    },
    "tags": []
   },
   "source": [
    "### Random forests\n"
   ]
  },
  {
   "cell_type": "code",
   "execution_count": 41,
   "metadata": {
    "execution": {
     "iopub.execute_input": "2020-09-05T21:24:07.152929Z",
     "iopub.status.busy": "2020-09-05T21:24:07.152052Z",
     "iopub.status.idle": "2020-09-05T21:24:07.278903Z",
     "shell.execute_reply": "2020-09-05T21:24:07.278221Z"
    },
    "papermill": {
     "duration": 0.163391,
     "end_time": "2020-09-05T21:24:07.279029",
     "exception": false,
     "start_time": "2020-09-05T21:24:07.115638",
     "status": "completed"
    },
    "tags": []
   },
   "outputs": [],
   "source": [
    "from sklearn.ensemble import RandomForestClassifier"
   ]
  },
  {
   "cell_type": "code",
   "execution_count": 42,
   "metadata": {
    "execution": {
     "iopub.execute_input": "2020-09-05T21:24:07.354889Z",
     "iopub.status.busy": "2020-09-05T21:24:07.353924Z",
     "iopub.status.idle": "2020-09-05T21:24:07.356309Z",
     "shell.execute_reply": "2020-09-05T21:24:07.356850Z"
    },
    "papermill": {
     "duration": 0.041211,
     "end_time": "2020-09-05T21:24:07.356999",
     "exception": false,
     "start_time": "2020-09-05T21:24:07.315788",
     "status": "completed"
    },
    "tags": []
   },
   "outputs": [],
   "source": [
    "rf_model = RandomForestClassifier(n_estimators = 1000)\n",
    "rf_pipeline = Pipeline([(\"preprocessor\",preprocessor),(\"model\",rf_model)])"
   ]
  },
  {
   "cell_type": "code",
   "execution_count": 43,
   "metadata": {
    "execution": {
     "iopub.execute_input": "2020-09-05T21:24:07.430249Z",
     "iopub.status.busy": "2020-09-05T21:24:07.429148Z",
     "iopub.status.idle": "2020-09-05T21:24:31.792139Z",
     "shell.execute_reply": "2020-09-05T21:24:31.791531Z"
    },
    "papermill": {
     "duration": 24.403158,
     "end_time": "2020-09-05T21:24:31.792267",
     "exception": false,
     "start_time": "2020-09-05T21:24:07.389109",
     "status": "completed"
    },
    "tags": []
   },
   "outputs": [
    {
     "data": {
      "text/plain": [
       "GridSearchCV(estimator=Pipeline(steps=[('preprocessor',\n",
       "                                        ColumnTransformer(remainder='passthrough',\n",
       "                                                          transformers=[('numerical_scaler',\n",
       "                                                                         StandardScaler(),\n",
       "                                                                         ['trestbps',\n",
       "                                                                          'chol',\n",
       "                                                                          'thalach',\n",
       "                                                                          'oldpeak']),\n",
       "                                                                        ('onehot_encoder',\n",
       "                                                                         OneHotEncoder(handle_unknown='ignore',\n",
       "                                                                                       sparse=False),\n",
       "                                                                         ['cp',\n",
       "                                                                          'restecg',\n",
       "                                                                          'slope'])])),\n",
       "                                       ('model',\n",
       "                                        RandomForestClassifier(n_estimators=1000))]),\n",
       "             n_jobs=-1,\n",
       "             param_grid={'model__n_estimators': array([ 100,  200,  300,  400,  500,  600,  700,  800,  900, 1000])})"
      ]
     },
     "execution_count": 43,
     "metadata": {},
     "output_type": "execute_result"
    }
   ],
   "source": [
    "rf_search = GridSearchCV(rf_pipeline,param_grid = {\"model__n_estimators\":np.arange(100,1100,100)},n_jobs = -1)\n",
    "rf_search.fit(X_train,y_train)"
   ]
  },
  {
   "cell_type": "code",
   "execution_count": 44,
   "metadata": {
    "execution": {
     "iopub.execute_input": "2020-09-05T21:24:31.861192Z",
     "iopub.status.busy": "2020-09-05T21:24:31.860337Z",
     "iopub.status.idle": "2020-09-05T21:24:31.863875Z",
     "shell.execute_reply": "2020-09-05T21:24:31.864412Z"
    },
    "papermill": {
     "duration": 0.040617,
     "end_time": "2020-09-05T21:24:31.864564",
     "exception": false,
     "start_time": "2020-09-05T21:24:31.823947",
     "status": "completed"
    },
    "tags": []
   },
   "outputs": [
    {
     "data": {
      "text/plain": [
       "{'model__n_estimators': 100}"
      ]
     },
     "execution_count": 44,
     "metadata": {},
     "output_type": "execute_result"
    }
   ],
   "source": [
    "rf_search.best_params_"
   ]
  },
  {
   "cell_type": "code",
   "execution_count": 45,
   "metadata": {
    "execution": {
     "iopub.execute_input": "2020-09-05T21:24:31.933969Z",
     "iopub.status.busy": "2020-09-05T21:24:31.932907Z",
     "iopub.status.idle": "2020-09-05T21:24:31.936417Z",
     "shell.execute_reply": "2020-09-05T21:24:31.937120Z"
    },
    "papermill": {
     "duration": 0.041118,
     "end_time": "2020-09-05T21:24:31.937266",
     "exception": false,
     "start_time": "2020-09-05T21:24:31.896148",
     "status": "completed"
    },
    "tags": []
   },
   "outputs": [
    {
     "data": {
      "text/plain": [
       "0.822278911564626"
      ]
     },
     "execution_count": 45,
     "metadata": {},
     "output_type": "execute_result"
    }
   ],
   "source": [
    "rf_search.best_score_"
   ]
  },
  {
   "cell_type": "code",
   "execution_count": 46,
   "metadata": {
    "execution": {
     "iopub.execute_input": "2020-09-05T21:24:32.014602Z",
     "iopub.status.busy": "2020-09-05T21:24:32.011632Z",
     "iopub.status.idle": "2020-09-05T21:24:32.268697Z",
     "shell.execute_reply": "2020-09-05T21:24:32.269273Z"
    },
    "papermill": {
     "duration": 0.300096,
     "end_time": "2020-09-05T21:24:32.269443",
     "exception": false,
     "start_time": "2020-09-05T21:24:31.969347",
     "status": "completed"
    },
    "tags": []
   },
   "outputs": [
    {
     "data": {
      "text/plain": [
       "Pipeline(steps=[('preprocessor',\n",
       "                 ColumnTransformer(remainder='passthrough',\n",
       "                                   transformers=[('numerical_scaler',\n",
       "                                                  StandardScaler(),\n",
       "                                                  ['trestbps', 'chol',\n",
       "                                                   'thalach', 'oldpeak']),\n",
       "                                                 ('onehot_encoder',\n",
       "                                                  OneHotEncoder(handle_unknown='ignore',\n",
       "                                                                sparse=False),\n",
       "                                                  ['cp', 'restecg',\n",
       "                                                   'slope'])])),\n",
       "                ('model', RandomForestClassifier())])"
      ]
     },
     "execution_count": 46,
     "metadata": {},
     "output_type": "execute_result"
    }
   ],
   "source": [
    "rf_model = RandomForestClassifier(n_estimators = rf_search.best_params_[\"model__n_estimators\"])\n",
    "rf_pipeline = Pipeline([(\"preprocessor\",preprocessor),(\"model\",rf_model)])\n",
    "rf_pipeline.fit(X_train,y_train)"
   ]
  },
  {
   "cell_type": "code",
   "execution_count": 47,
   "metadata": {
    "execution": {
     "iopub.execute_input": "2020-09-05T21:24:32.362948Z",
     "iopub.status.busy": "2020-09-05T21:24:32.345050Z",
     "iopub.status.idle": "2020-09-05T21:24:32.367953Z",
     "shell.execute_reply": "2020-09-05T21:24:32.367184Z"
    },
    "papermill": {
     "duration": 0.066099,
     "end_time": "2020-09-05T21:24:32.368135",
     "exception": false,
     "start_time": "2020-09-05T21:24:32.302036",
     "status": "completed"
    },
    "tags": []
   },
   "outputs": [
    {
     "name": "stdout",
     "output_type": "stream",
     "text": [
      "0.8360655737704918\n"
     ]
    }
   ],
   "source": [
    "rf_preds = rf_pipeline.predict(X_valid)\n",
    "print(sum(rf_preds == y_valid)/len(rf_preds))"
   ]
  },
  {
   "cell_type": "code",
   "execution_count": 48,
   "metadata": {
    "execution": {
     "iopub.execute_input": "2020-09-05T21:24:32.439115Z",
     "iopub.status.busy": "2020-09-05T21:24:32.438127Z",
     "iopub.status.idle": "2020-09-05T21:24:32.442809Z",
     "shell.execute_reply": "2020-09-05T21:24:32.442093Z"
    },
    "papermill": {
     "duration": 0.042341,
     "end_time": "2020-09-05T21:24:32.442926",
     "exception": false,
     "start_time": "2020-09-05T21:24:32.400585",
     "status": "completed"
    },
    "tags": []
   },
   "outputs": [
    {
     "data": {
      "text/plain": [
       "False"
      ]
     },
     "execution_count": 48,
     "metadata": {},
     "output_type": "execute_result"
    }
   ],
   "source": [
    "all(rf_preds == lr_preds) #Confirmation in case the accuracies turn out to be equal"
   ]
  },
  {
   "cell_type": "code",
   "execution_count": null,
   "metadata": {
    "papermill": {
     "duration": 0.032005,
     "end_time": "2020-09-05T21:24:32.507352",
     "exception": false,
     "start_time": "2020-09-05T21:24:32.475347",
     "status": "completed"
    },
    "tags": []
   },
   "outputs": [],
   "source": []
  },
  {
   "cell_type": "code",
   "execution_count": 49,
   "metadata": {
    "execution": {
     "iopub.execute_input": "2020-09-05T21:24:32.580826Z",
     "iopub.status.busy": "2020-09-05T21:24:32.579928Z",
     "iopub.status.idle": "2020-09-05T21:24:32.583143Z",
     "shell.execute_reply": "2020-09-05T21:24:32.583724Z"
    },
    "papermill": {
     "duration": 0.044125,
     "end_time": "2020-09-05T21:24:32.583869",
     "exception": false,
     "start_time": "2020-09-05T21:24:32.539744",
     "status": "completed"
    },
    "tags": []
   },
   "outputs": [
    {
     "name": "stdout",
     "output_type": "stream",
     "text": [
      "[[20  7]\n",
      " [ 3 31]]\n"
     ]
    }
   ],
   "source": [
    "rf_CM = confusion_matrix(y_valid, rf_preds)\n",
    "rf_TP = rf_CM[1,1]\n",
    "rf_TN = rf_CM[0,0]\n",
    "rf_FP = rf_CM[0,1]\n",
    "rf_FN = rf_CM[1,0]\n",
    "print(rf_CM)"
   ]
  },
  {
   "cell_type": "code",
   "execution_count": 50,
   "metadata": {
    "execution": {
     "iopub.execute_input": "2020-09-05T21:24:32.656278Z",
     "iopub.status.busy": "2020-09-05T21:24:32.655440Z",
     "iopub.status.idle": "2020-09-05T21:24:32.659536Z",
     "shell.execute_reply": "2020-09-05T21:24:32.658830Z"
    },
    "papermill": {
     "duration": 0.04302,
     "end_time": "2020-09-05T21:24:32.659665",
     "exception": false,
     "start_time": "2020-09-05T21:24:32.616645",
     "status": "completed"
    },
    "tags": []
   },
   "outputs": [
    {
     "name": "stdout",
     "output_type": "stream",
     "text": [
      "0.9117647058823529 0.7407407407407407\n"
     ]
    }
   ],
   "source": [
    "rf_recall = rf_TP/(rf_TP + rf_FN)\n",
    "rf_specificity = rf_TN/(rf_TN + rf_FP)\n",
    "lr_precision = rf_TP/(rf_TP + rf_FP)\n",
    "\n",
    "print(rf_recall,rf_specificity)"
   ]
  },
  {
   "cell_type": "code",
   "execution_count": 51,
   "metadata": {
    "execution": {
     "iopub.execute_input": "2020-09-05T21:24:32.735827Z",
     "iopub.status.busy": "2020-09-05T21:24:32.734967Z",
     "iopub.status.idle": "2020-09-05T21:24:32.740035Z",
     "shell.execute_reply": "2020-09-05T21:24:32.739458Z"
    },
    "papermill": {
     "duration": 0.042982,
     "end_time": "2020-09-05T21:24:32.740183",
     "exception": false,
     "start_time": "2020-09-05T21:24:32.697201",
     "status": "completed"
    },
    "tags": []
   },
   "outputs": [
    {
     "name": "stdout",
     "output_type": "stream",
     "text": [
      "0.8529411764705882 0.7407407407407407\n"
     ]
    }
   ],
   "source": [
    "print(lr_recall, lr_specificity)"
   ]
  },
  {
   "cell_type": "markdown",
   "execution_count": null,
   "metadata": {
    "papermill": {
     "duration": 0.032573,
     "end_time": "2020-09-05T21:24:32.805686",
     "exception": false,
     "start_time": "2020-09-05T21:24:32.773113",
     "status": "completed"
    },
    "tags": []
   },
   "source": [
    "the random forest model seems to give us a better recall sacrificing specifity. We need a very good recall rate so that we have low false negatives in our diagnosis"
   ]
  },
  {
   "cell_type": "code",
   "execution_count": 52,
   "metadata": {
    "execution": {
     "iopub.execute_input": "2020-09-05T21:24:32.886061Z",
     "iopub.status.busy": "2020-09-05T21:24:32.884208Z",
     "iopub.status.idle": "2020-09-05T21:24:32.901152Z",
     "shell.execute_reply": "2020-09-05T21:24:32.900505Z"
    },
    "papermill": {
     "duration": 0.062717,
     "end_time": "2020-09-05T21:24:32.901276",
     "exception": false,
     "start_time": "2020-09-05T21:24:32.838559",
     "status": "completed"
    },
    "tags": []
   },
   "outputs": [],
   "source": [
    "rf_y_proba = rf_pipeline.predict_proba(X_valid)[:,1]\n",
    "rf_fpr,rf_tpr,rf_threshold = roc_curve(y_valid,rf_y_proba)"
   ]
  },
  {
   "cell_type": "code",
   "execution_count": 53,
   "metadata": {
    "execution": {
     "iopub.execute_input": "2020-09-05T21:24:32.983002Z",
     "iopub.status.busy": "2020-09-05T21:24:32.976187Z",
     "iopub.status.idle": "2020-09-05T21:24:33.167683Z",
     "shell.execute_reply": "2020-09-05T21:24:33.166992Z"
    },
    "papermill": {
     "duration": 0.23351,
     "end_time": "2020-09-05T21:24:33.167807",
     "exception": false,
     "start_time": "2020-09-05T21:24:32.934297",
     "status": "completed"
    },
    "tags": []
   },
   "outputs": [
    {
     "data": {
      "image/png": "[encoded data removed]",
      "text/plain": [
       "<Figure size 432x288 with 1 Axes>"
      ]
     },
     "metadata": {
      "needs_background": "light"
     },
     "output_type": "display_data"
    }
   ],
   "source": [
    "plt.plot(lr_fpr,lr_tpr,\"b\", label = \"Logistic Regression\")\n",
    "plt.plot(rf_fpr, rf_tpr, \"r\", label = \"Random Forest\")\n",
    "plt.plot([0,1],ls = \"--\")\n",
    "plt.plot([0,0],[1,0],c='.5')\n",
    "plt.plot([1,1],c='.5')\n",
    "plt.xlabel('False Positive Rate')\n",
    "plt.ylabel('True Positive Rate')\n",
    "plt.legend()\n",
    "plt.show()"
   ]
  },
  {
   "cell_type": "code",
   "execution_count": 54,
   "metadata": {
    "execution": {
     "iopub.execute_input": "2020-09-05T21:24:33.241790Z",
     "iopub.status.busy": "2020-09-05T21:24:33.240630Z",
     "iopub.status.idle": "2020-09-05T21:24:33.249730Z",
     "shell.execute_reply": "2020-09-05T21:24:33.249106Z"
    },
    "papermill": {
     "duration": 0.047962,
     "end_time": "2020-09-05T21:24:33.249848",
     "exception": false,
     "start_time": "2020-09-05T21:24:33.201886",
     "status": "completed"
    },
    "tags": []
   },
   "outputs": [
    {
     "name": "stdout",
     "output_type": "stream",
     "text": [
      "logistic regression AUC =  0.7968409586056645\n",
      "Random forests AUC =  0.8262527233115468\n"
     ]
    }
   ],
   "source": [
    "print(\"logistic regression AUC = \",roc_auc_score(y_valid,lr_preds))\n",
    "print(\"Random forests AUC = \",roc_auc_score(y_valid,rf_preds))"
   ]
  },
  {
   "cell_type": "markdown",
   "execution_count": null,
   "metadata": {
    "papermill": {
     "duration": 0.033574,
     "end_time": "2020-09-05T21:24:33.316763",
     "exception": false,
     "start_time": "2020-09-05T21:24:33.283189",
     "status": "completed"
    },
    "tags": []
   },
   "source": [
    "Logistic Regression seems to have a slight edge in the AUC score"
   ]
  },
  {
   "cell_type": "code",
   "execution_count": null,
   "metadata": {
    "papermill": {
     "duration": 0.032752,
     "end_time": "2020-09-05T21:24:33.383136",
     "exception": false,
     "start_time": "2020-09-05T21:24:33.350384",
     "status": "completed"
    },
    "tags": []
   },
   "outputs": [],
   "source": []
  }
 ],
 "metadata": {
  "kernelspec": {
   "display_name": "Python 3",
   "language": "python",
   "name": "python3"
  },
  "language_info": {
   "codemirror_mode": {
    "name": "ipython",
    "version": 3
   },
   "file_extension": ".py",
   "mimetype": "text/x-python",
   "name": "python",
   "nbconvert_exporter": "python",
   "pygments_lexer": "ipython3",
   "version": "3.7.6"
  },
  "papermill": {
   "duration": 46.552706,
   "end_time": "2020-09-05T21:24:33.523376",
   "environment_variables": {},
   "exception": null,
   "input_path": "__notebook__.ipynb",
   "output_path": "__notebook__.ipynb",
   "parameters": {},
   "start_time": "2020-09-05T21:23:46.970670",
   "version": "2.1.0"
  }
 },
 "nbformat": 4,
 "nbformat_minor": 4
}
