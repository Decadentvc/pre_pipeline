{
 "cells": [
  {
   "cell_type": "code",
   "execution_count": 1,
   "metadata": {
    "_cell_guid": "b1076dfc-b9ad-4769-8c92-a6c4dae69d19",
    "_uuid": "8f2839f25d086af736a60e9eeb907d3b93b6e0e5",
    "execution": {
     "iopub.execute_input": "2020-09-12T23:45:41.102014Z",
     "iopub.status.busy": "2020-09-12T23:45:41.101293Z",
     "iopub.status.idle": "2020-09-12T23:45:41.138143Z",
     "shell.execute_reply": "2020-09-12T23:45:41.137385Z"
    },
    "papermill": {
     "duration": 0.060444,
     "end_time": "2020-09-12T23:45:41.138275",
     "exception": false,
     "start_time": "2020-09-12T23:45:41.077831",
     "status": "completed"
    },
    "tags": []
   },
   "outputs": [
    {
     "name": "stdout",
     "output_type": "stream",
     "text": [
      "/kaggle/input/heart-disease-prediction-using-logistic-regression/framingham.csv\n"
     ]
    }
   ],
   "source": [
    "# This Python 3 environment comes with many helpful analytics libraries installed\n",
    "# It is defined by the kaggle/python Docker image: https://github.com/kaggle/docker-python\n",
    "# For example, here's several helpful packages to load\n",
    "\n",
    "import numpy as np # linear algebra\n",
    "import pandas as pd # data processing, CSV file I/O (e.g. pd.read_csv)\n",
    "\n",
    "# Input data files are available in the read-only \"../input/\" directory\n",
    "# For example, running this (by clicking run or pressing Shift+Enter) will list all files under the input directory\n",
    "\n",
    "import os\n",
    "for dirname, _, filenames in os.walk('/kaggle/input'):\n",
    "    for filename in filenames:\n",
    "        print(os.path.join(dirname, filename))\n",
    "\n",
    "# You can write up to 5GB to the current directory (/kaggle/working/) that gets preserved as output when you create a version using \"Save & Run All\" \n",
    "# You can also write temporary files to /kaggle/temp/, but they won't be saved outside of the current session"
   ]
  },
  {
   "cell_type": "code",
   "execution_count": 2,
   "metadata": {
    "_cell_guid": "79c7e3d0-c299-4dcb-8224-4455121ee9b0",
    "_uuid": "d629ff2d2480ee46fbb7e2d37f6b5fab8052498a",
    "execution": {
     "iopub.execute_input": "2020-09-12T23:45:41.177876Z",
     "iopub.status.busy": "2020-09-12T23:45:41.177201Z",
     "iopub.status.idle": "2020-09-12T23:45:41.234643Z",
     "shell.execute_reply": "2020-09-12T23:45:41.234103Z"
    },
    "papermill": {
     "duration": 0.078217,
     "end_time": "2020-09-12T23:45:41.234766",
     "exception": false,
     "start_time": "2020-09-12T23:45:41.156549",
     "status": "completed"
    },
    "tags": []
   },
   "outputs": [
    {
     "data": {
      "text/html": [
       "<div>\n",
       "<style scoped>\n",
       "    .dataframe tbody tr th:only-of-type {\n",
       "        vertical-align: middle;\n",
       "    }\n",
       "\n",
       "    .dataframe tbody tr th {\n",
       "        vertical-align: top;\n",
       "    }\n",
       "\n",
       "    .dataframe thead th {\n",
       "        text-align: right;\n",
       "    }\n",
       "</style>\n",
       "<table border=\"1\" class=\"dataframe\">\n",
       "  <thead>\n",
       "    <tr style=\"text-align: right;\">\n",
       "      <th></th>\n",
       "      <th>male</th>\n",
       "      <th>age</th>\n",
       "      <th>education</th>\n",
       "      <th>currentSmoker</th>\n",
       "      <th>cigsPerDay</th>\n",
       "      <th>BPMeds</th>\n",
       "      <th>prevalentStroke</th>\n",
       "      <th>prevalentHyp</th>\n",
       "      <th>diabetes</th>\n",
       "      <th>totChol</th>\n",
       "      <th>sysBP</th>\n",
       "      <th>diaBP</th>\n",
       "      <th>BMI</th>\n",
       "      <th>heartRate</th>\n",
       "      <th>glucose</th>\n",
       "      <th>TenYearCHD</th>\n",
       "    </tr>\n",
       "  </thead>\n",
       "  <tbody>\n",
       "    <tr>\n",
       "      <th>0</th>\n",
       "      <td>1</td>\n",
       "      <td>39</td>\n",
       "      <td>4.0</td>\n",
       "      <td>0</td>\n",
       "      <td>0.0</td>\n",
       "      <td>0.0</td>\n",
       "      <td>0</td>\n",
       "      <td>0</td>\n",
       "      <td>0</td>\n",
       "      <td>195.0</td>\n",
       "      <td>106.0</td>\n",
       "      <td>70.0</td>\n",
       "      <td>26.97</td>\n",
       "      <td>80.0</td>\n",
       "      <td>77.0</td>\n",
       "      <td>0</td>\n",
       "    </tr>\n",
       "    <tr>\n",
       "      <th>1</th>\n",
       "      <td>0</td>\n",
       "      <td>46</td>\n",
       "      <td>2.0</td>\n",
       "      <td>0</td>\n",
       "      <td>0.0</td>\n",
       "      <td>0.0</td>\n",
       "      <td>0</td>\n",
       "      <td>0</td>\n",
       "      <td>0</td>\n",
       "      <td>250.0</td>\n",
       "      <td>121.0</td>\n",
       "      <td>81.0</td>\n",
       "      <td>28.73</td>\n",
       "      <td>95.0</td>\n",
       "      <td>76.0</td>\n",
       "      <td>0</td>\n",
       "    </tr>\n",
       "    <tr>\n",
       "      <th>2</th>\n",
       "      <td>1</td>\n",
       "      <td>48</td>\n",
       "      <td>1.0</td>\n",
       "      <td>1</td>\n",
       "      <td>20.0</td>\n",
       "      <td>0.0</td>\n",
       "      <td>0</td>\n",
       "      <td>0</td>\n",
       "      <td>0</td>\n",
       "      <td>245.0</td>\n",
       "      <td>127.5</td>\n",
       "      <td>80.0</td>\n",
       "      <td>25.34</td>\n",
       "      <td>75.0</td>\n",
       "      <td>70.0</td>\n",
       "      <td>0</td>\n",
       "    </tr>\n",
       "    <tr>\n",
       "      <th>3</th>\n",
       "      <td>0</td>\n",
       "      <td>61</td>\n",
       "      <td>3.0</td>\n",
       "      <td>1</td>\n",
       "      <td>30.0</td>\n",
       "      <td>0.0</td>\n",
       "      <td>0</td>\n",
       "      <td>1</td>\n",
       "      <td>0</td>\n",
       "      <td>225.0</td>\n",
       "      <td>150.0</td>\n",
       "      <td>95.0</td>\n",
       "      <td>28.58</td>\n",
       "      <td>65.0</td>\n",
       "      <td>103.0</td>\n",
       "      <td>1</td>\n",
       "    </tr>\n",
       "    <tr>\n",
       "      <th>4</th>\n",
       "      <td>0</td>\n",
       "      <td>46</td>\n",
       "      <td>3.0</td>\n",
       "      <td>1</td>\n",
       "      <td>23.0</td>\n",
       "      <td>0.0</td>\n",
       "      <td>0</td>\n",
       "      <td>0</td>\n",
       "      <td>0</td>\n",
       "      <td>285.0</td>\n",
       "      <td>130.0</td>\n",
       "      <td>84.0</td>\n",
       "      <td>23.10</td>\n",
       "      <td>85.0</td>\n",
       "      <td>85.0</td>\n",
       "      <td>0</td>\n",
       "    </tr>\n",
       "  </tbody>\n",
       "</table>\n",
       "</div>"
      ],
      "text/plain": [
       "   male  age  education  currentSmoker  cigsPerDay  BPMeds  prevalentStroke  \\\n",
       "0     1   39        4.0              0         0.0     0.0                0   \n",
       "1     0   46        2.0              0         0.0     0.0                0   \n",
       "2     1   48        1.0              1        20.0     0.0                0   \n",
       "3     0   61        3.0              1        30.0     0.0                0   \n",
       "4     0   46        3.0              1        23.0     0.0                0   \n",
       "\n",
       "   prevalentHyp  diabetes  totChol  sysBP  diaBP    BMI  heartRate  glucose  \\\n",
       "0             0         0    195.0  106.0   70.0  26.97       80.0     77.0   \n",
       "1             0         0    250.0  121.0   81.0  28.73       95.0     76.0   \n",
       "2             0         0    245.0  127.5   80.0  25.34       75.0     70.0   \n",
       "3             1         0    225.0  150.0   95.0  28.58       65.0    103.0   \n",
       "4             0         0    285.0  130.0   84.0  23.10       85.0     85.0   \n",
       "\n",
       "   TenYearCHD  \n",
       "0           0  \n",
       "1           0  \n",
       "2           0  \n",
       "3           1  \n",
       "4           0  "
      ]
     },
     "execution_count": 2,
     "metadata": {},
     "output_type": "execute_result"
    }
   ],
   "source": [
    "data = pd.read_csv('/kaggle/input/heart-disease-prediction-using-logistic-regression/framingham.csv')\n",
    "data.head()"
   ]
  },
  {
   "cell_type": "code",
   "execution_count": 3,
   "metadata": {
    "execution": {
     "iopub.execute_input": "2020-09-12T23:45:41.278160Z",
     "iopub.status.busy": "2020-09-12T23:45:41.277494Z",
     "iopub.status.idle": "2020-09-12T23:45:41.285342Z",
     "shell.execute_reply": "2020-09-12T23:45:41.284695Z"
    },
    "papermill": {
     "duration": 0.032698,
     "end_time": "2020-09-12T23:45:41.285453",
     "exception": false,
     "start_time": "2020-09-12T23:45:41.252755",
     "status": "completed"
    },
    "tags": []
   },
   "outputs": [
    {
     "data": {
      "text/plain": [
       "0    3594\n",
       "1     644\n",
       "Name: TenYearCHD, dtype: int64"
      ]
     },
     "execution_count": 3,
     "metadata": {},
     "output_type": "execute_result"
    }
   ],
   "source": [
    "data['TenYearCHD'].value_counts()"
   ]
  },
  {
   "cell_type": "code",
   "execution_count": 4,
   "metadata": {
    "execution": {
     "iopub.execute_input": "2020-09-12T23:45:41.327481Z",
     "iopub.status.busy": "2020-09-12T23:45:41.326821Z",
     "iopub.status.idle": "2020-09-12T23:45:41.334093Z",
     "shell.execute_reply": "2020-09-12T23:45:41.334603Z"
    },
    "papermill": {
     "duration": 0.02903,
     "end_time": "2020-09-12T23:45:41.334741",
     "exception": false,
     "start_time": "2020-09-12T23:45:41.305711",
     "status": "completed"
    },
    "tags": []
   },
   "outputs": [
    {
     "data": {
      "text/plain": [
       "male                 0\n",
       "age                  0\n",
       "education          105\n",
       "currentSmoker        0\n",
       "cigsPerDay          29\n",
       "BPMeds              53\n",
       "prevalentStroke      0\n",
       "prevalentHyp         0\n",
       "diabetes             0\n",
       "totChol             50\n",
       "sysBP                0\n",
       "diaBP                0\n",
       "BMI                 19\n",
       "heartRate            1\n",
       "glucose            388\n",
       "TenYearCHD           0\n",
       "dtype: int64"
      ]
     },
     "execution_count": 4,
     "metadata": {},
     "output_type": "execute_result"
    }
   ],
   "source": [
    "data.isna().sum()"
   ]
  },
  {
   "cell_type": "code",
   "execution_count": 5,
   "metadata": {
    "execution": {
     "iopub.execute_input": "2020-09-12T23:45:41.376118Z",
     "iopub.status.busy": "2020-09-12T23:45:41.375464Z",
     "iopub.status.idle": "2020-09-12T23:45:41.416432Z",
     "shell.execute_reply": "2020-09-12T23:45:41.415265Z"
    },
    "papermill": {
     "duration": 0.06299,
     "end_time": "2020-09-12T23:45:41.416581",
     "exception": false,
     "start_time": "2020-09-12T23:45:41.353591",
     "status": "completed"
    },
    "tags": []
   },
   "outputs": [
    {
     "data": {
      "text/plain": [
       "0    3099\n",
       "1     557\n",
       "Name: TenYearCHD, dtype: int64"
      ]
     },
     "execution_count": 5,
     "metadata": {},
     "output_type": "execute_result"
    }
   ],
   "source": [
    "data.dropna(axis=0,inplace=True)\n",
    "data['TenYearCHD'].value_counts()"
   ]
  },
  {
   "cell_type": "markdown",
   "metadata": {
    "papermill": {
     "duration": 0.019953,
     "end_time": "2020-09-12T23:45:41.456465",
     "exception": false,
     "start_time": "2020-09-12T23:45:41.436512",
     "status": "completed"
    },
    "tags": []
   },
   "source": [
    "### Fill in the Missing Values : Mode"
   ]
  },
  {
   "cell_type": "code",
   "execution_count": 6,
   "metadata": {
    "execution": {
     "iopub.execute_input": "2020-09-12T23:45:41.502520Z",
     "iopub.status.busy": "2020-09-12T23:45:41.501831Z",
     "iopub.status.idle": "2020-09-12T23:45:41.520056Z",
     "shell.execute_reply": "2020-09-12T23:45:41.521098Z"
    },
    "papermill": {
     "duration": 0.044798,
     "end_time": "2020-09-12T23:45:41.521293",
     "exception": false,
     "start_time": "2020-09-12T23:45:41.476495",
     "status": "completed"
    },
    "tags": []
   },
   "outputs": [
    {
     "name": "stdout",
     "output_type": "stream",
     "text": [
      "<class 'pandas.core.frame.DataFrame'>\n",
      "Int64Index: 3656 entries, 0 to 4237\n",
      "Data columns (total 16 columns):\n",
      " #   Column           Non-Null Count  Dtype  \n",
      "---  ------           --------------  -----  \n",
      " 0   male             3656 non-null   int64  \n",
      " 1   age              3656 non-null   int64  \n",
      " 2   education        3656 non-null   float64\n",
      " 3   currentSmoker    3656 non-null   int64  \n",
      " 4   cigsPerDay       3656 non-null   float64\n",
      " 5   BPMeds           3656 non-null   float64\n",
      " 6   prevalentStroke  3656 non-null   int64  \n",
      " 7   prevalentHyp     3656 non-null   int64  \n",
      " 8   diabetes         3656 non-null   int64  \n",
      " 9   totChol          3656 non-null   float64\n",
      " 10  sysBP            3656 non-null   float64\n",
      " 11  diaBP            3656 non-null   float64\n",
      " 12  BMI              3656 non-null   float64\n",
      " 13  heartRate        3656 non-null   float64\n",
      " 14  glucose          3656 non-null   float64\n",
      " 15  TenYearCHD       3656 non-null   int64  \n",
      "dtypes: float64(9), int64(7)\n",
      "memory usage: 485.6 KB\n"
     ]
    }
   ],
   "source": [
    "data.info()"
   ]
  },
  {
   "cell_type": "markdown",
   "metadata": {
    "papermill": {
     "duration": 0.020297,
     "end_time": "2020-09-12T23:45:41.564394",
     "exception": false,
     "start_time": "2020-09-12T23:45:41.544097",
     "status": "completed"
    },
    "tags": []
   },
   "source": [
    "* Demographic:\n",
    "* • Sex: male or female(Nominal)\n",
    "* • Age: Age of the patient;(Continuous - Although the recorded ages have been truncated to whole numbers, the concept of age is continuous)\n",
    "* Behavioral\n",
    "* • Current Smoker: whether or not the patient is a current smoker (Nominal)\n",
    "* • Cigs Per Day: the number of cigarettes that the person smoked on average in one day.(can be considered continuous as one can have any number of cigarettes, even half a cigarette.)\n",
    "* Medical( history)\n",
    "* • BP Meds: whether or not the patient was on blood pressure medication (Nominal)\n",
    "* • Prevalent Stroke: whether or not the patient had previously had a stroke (Nominal)\n",
    "* • Prevalent Hyp: whether or not the patient was hypertensive (Nominal)\n",
    "* • Diabetes: whether or not the patient had diabetes (Nominal)\n",
    "* Medical(current)\n",
    "* • Tot Chol: total cholesterol level (Continuous)\n",
    "* • Sys BP: systolic blood pressure (Continuous)\n",
    "* • Dia BP: diastolic blood pressure (Continuous)\n",
    "* • BMI: Body Mass Index (Continuous)\n",
    "* • Heart Rate: heart rate (Continuous - In medical research, variables such as heart rate though in fact discrete, yet are considered continuous because of large number of possible values.)\n",
    "* • Glucose: glucose level (Continuous)\n",
    "* Predict variable (desired target)\n",
    "* • 10 year risk of coronary heart disease CHD (binary: “1”, means “Yes”, “0” means “No”)"
   ]
  },
  {
   "cell_type": "code",
   "execution_count": null,
   "metadata": {
    "papermill": {
     "duration": 0.01936,
     "end_time": "2020-09-12T23:45:41.603529",
     "exception": false,
     "start_time": "2020-09-12T23:45:41.584169",
     "status": "completed"
    },
    "tags": []
   },
   "outputs": [],
   "source": []
  },
  {
   "cell_type": "markdown",
   "metadata": {
    "papermill": {
     "duration": 0.020397,
     "end_time": "2020-09-12T23:45:41.643942",
     "exception": false,
     "start_time": "2020-09-12T23:45:41.623545",
     "status": "completed"
    },
    "tags": []
   },
   "source": [
    "# Exploratory Data Analysis"
   ]
  },
  {
   "cell_type": "code",
   "execution_count": 7,
   "metadata": {
    "execution": {
     "iopub.execute_input": "2020-09-12T23:45:41.694591Z",
     "iopub.status.busy": "2020-09-12T23:45:41.693518Z",
     "iopub.status.idle": "2020-09-12T23:45:41.750222Z",
     "shell.execute_reply": "2020-09-12T23:45:41.751013Z"
    },
    "papermill": {
     "duration": 0.087295,
     "end_time": "2020-09-12T23:45:41.751209",
     "exception": false,
     "start_time": "2020-09-12T23:45:41.663914",
     "status": "completed"
    },
    "tags": []
   },
   "outputs": [
    {
     "data": {
      "text/html": [
       "<div>\n",
       "<style scoped>\n",
       "    .dataframe tbody tr th:only-of-type {\n",
       "        vertical-align: middle;\n",
       "    }\n",
       "\n",
       "    .dataframe tbody tr th {\n",
       "        vertical-align: top;\n",
       "    }\n",
       "\n",
       "    .dataframe thead th {\n",
       "        text-align: right;\n",
       "    }\n",
       "</style>\n",
       "<table border=\"1\" class=\"dataframe\">\n",
       "  <thead>\n",
       "    <tr style=\"text-align: right;\">\n",
       "      <th>TenYearCHD</th>\n",
       "      <th>0</th>\n",
       "      <th>1</th>\n",
       "      <th>All</th>\n",
       "    </tr>\n",
       "    <tr>\n",
       "      <th>male</th>\n",
       "      <th></th>\n",
       "      <th></th>\n",
       "      <th></th>\n",
       "    </tr>\n",
       "  </thead>\n",
       "  <tbody>\n",
       "    <tr>\n",
       "      <th>0</th>\n",
       "      <td>0.487965</td>\n",
       "      <td>0.068381</td>\n",
       "      <td>0.556346</td>\n",
       "    </tr>\n",
       "    <tr>\n",
       "      <th>1</th>\n",
       "      <td>0.359683</td>\n",
       "      <td>0.083972</td>\n",
       "      <td>0.443654</td>\n",
       "    </tr>\n",
       "    <tr>\n",
       "      <th>All</th>\n",
       "      <td>0.847648</td>\n",
       "      <td>0.152352</td>\n",
       "      <td>1.000000</td>\n",
       "    </tr>\n",
       "  </tbody>\n",
       "</table>\n",
       "</div>"
      ],
      "text/plain": [
       "TenYearCHD         0         1       All\n",
       "male                                    \n",
       "0           0.487965  0.068381  0.556346\n",
       "1           0.359683  0.083972  0.443654\n",
       "All         0.847648  0.152352  1.000000"
      ]
     },
     "execution_count": 7,
     "metadata": {},
     "output_type": "execute_result"
    }
   ],
   "source": [
    "import matplotlib.pyplot as plt\n",
    "#Gender vs TenYearCHD\n",
    "x=pd.crosstab(data.male,data.TenYearCHD,margins=True)/data.shape[0]\n",
    "x"
   ]
  },
  {
   "cell_type": "code",
   "execution_count": 8,
   "metadata": {
    "execution": {
     "iopub.execute_input": "2020-09-12T23:45:41.797086Z",
     "iopub.status.busy": "2020-09-12T23:45:41.796092Z",
     "iopub.status.idle": "2020-09-12T23:45:41.803202Z",
     "shell.execute_reply": "2020-09-12T23:45:41.802649Z"
    },
    "papermill": {
     "duration": 0.031443,
     "end_time": "2020-09-12T23:45:41.803316",
     "exception": false,
     "start_time": "2020-09-12T23:45:41.771873",
     "status": "completed"
    },
    "tags": []
   },
   "outputs": [
    {
     "data": {
      "text/plain": [
       "3656"
      ]
     },
     "execution_count": 8,
     "metadata": {},
     "output_type": "execute_result"
    }
   ],
   "source": [
    "data.shape[0]"
   ]
  },
  {
   "cell_type": "markdown",
   "metadata": {
    "papermill": {
     "duration": 0.020941,
     "end_time": "2020-09-12T23:45:41.845280",
     "exception": false,
     "start_time": "2020-09-12T23:45:41.824339",
     "status": "completed"
    },
    "tags": []
   },
   "source": [
    "* The dataset of 3656 records has 55.6% percentage data on women and 44.4% data  on men. Out these 7% of women,8.3% of men have a risk of getting coronary heart disease."
   ]
  },
  {
   "cell_type": "markdown",
   "metadata": {
    "papermill": {
     "duration": 0.020634,
     "end_time": "2020-09-12T23:45:41.887016",
     "exception": false,
     "start_time": "2020-09-12T23:45:41.866382",
     "status": "completed"
    },
    "tags": []
   },
   "source": [
    "* Performed Stratified sampling because of class imbalance."
   ]
  },
  {
   "cell_type": "code",
   "execution_count": 9,
   "metadata": {
    "execution": {
     "iopub.execute_input": "2020-09-12T23:45:41.935894Z",
     "iopub.status.busy": "2020-09-12T23:45:41.935245Z",
     "iopub.status.idle": "2020-09-12T23:45:43.037699Z",
     "shell.execute_reply": "2020-09-12T23:45:43.037117Z"
    },
    "papermill": {
     "duration": 1.129945,
     "end_time": "2020-09-12T23:45:43.037826",
     "exception": false,
     "start_time": "2020-09-12T23:45:41.907881",
     "status": "completed"
    },
    "tags": []
   },
   "outputs": [],
   "source": [
    "from sklearn.model_selection import train_test_split\n",
    "y=data.pop('TenYearCHD')\n",
    "X=data\n",
    "X_train,X_test,y_train,y_test = train_test_split(X,y,random_state=1,shuffle=True,stratify=y)"
   ]
  },
  {
   "cell_type": "code",
   "execution_count": 10,
   "metadata": {
    "execution": {
     "iopub.execute_input": "2020-09-12T23:45:43.086869Z",
     "iopub.status.busy": "2020-09-12T23:45:43.086140Z",
     "iopub.status.idle": "2020-09-12T23:45:43.099048Z",
     "shell.execute_reply": "2020-09-12T23:45:43.099616Z"
    },
    "papermill": {
     "duration": 0.040482,
     "end_time": "2020-09-12T23:45:43.099771",
     "exception": false,
     "start_time": "2020-09-12T23:45:43.059289",
     "status": "completed"
    },
    "tags": []
   },
   "outputs": [],
   "source": [
    "from sklearn.preprocessing import StandardScaler\n",
    "ss=StandardScaler()\n",
    "X_train =ss.fit_transform(X_train)\n",
    "X_test =ss.fit_transform(X_test)"
   ]
  },
  {
   "cell_type": "code",
   "execution_count": 11,
   "metadata": {
    "execution": {
     "iopub.execute_input": "2020-09-12T23:45:43.146960Z",
     "iopub.status.busy": "2020-09-12T23:45:43.146311Z",
     "iopub.status.idle": "2020-09-12T23:45:44.393687Z",
     "shell.execute_reply": "2020-09-12T23:45:44.393169Z"
    },
    "papermill": {
     "duration": 1.272479,
     "end_time": "2020-09-12T23:45:44.393815",
     "exception": false,
     "start_time": "2020-09-12T23:45:43.121336",
     "status": "completed"
    },
    "tags": []
   },
   "outputs": [
    {
     "name": "stdout",
     "output_type": "stream",
     "text": [
      "The accuracy is 0.846827\n"
     ]
    },
    {
     "data": {
      "text/plain": [
       "array([[766,   9],\n",
       "       [131,   8]])"
      ]
     },
     "execution_count": 11,
     "metadata": {},
     "output_type": "execute_result"
    }
   ],
   "source": [
    "\n",
    "import matplotlib.pyplot as plt\n",
    "import seaborn as sns\n",
    "from sklearn.metrics import accuracy_score\n",
    "from sklearn.metrics import confusion_matrix\n",
    "from sklearn.linear_model import LogisticRegression\n",
    "from sklearn.svm import SVC\n",
    "from sklearn.tree import DecisionTreeClassifier\n",
    "from xgboost import XGBClassifier\n",
    "from sklearn.ensemble import RandomForestClassifier\n",
    "\n",
    "lr=LogisticRegression(C=2,solver='liblinear')\n",
    "lr.fit(X_train,y_train)\n",
    "lr_y_pred=lr.predict(X_test)\n",
    "print(\"The accuracy is %f\" %accuracy_score(y_test,lr_y_pred))\n",
    "confusion_matrix(y_test,lr_y_pred)"
   ]
  },
  {
   "cell_type": "markdown",
   "metadata": {
    "papermill": {
     "duration": 0.021781,
     "end_time": "2020-09-12T23:45:44.437713",
     "exception": false,
     "start_time": "2020-09-12T23:45:44.415932",
     "status": "completed"
    },
    "tags": []
   },
   "source": [
    "# SVC"
   ]
  },
  {
   "cell_type": "code",
   "execution_count": 12,
   "metadata": {
    "execution": {
     "iopub.execute_input": "2020-09-12T23:45:44.489327Z",
     "iopub.status.busy": "2020-09-12T23:45:44.488321Z",
     "iopub.status.idle": "2020-09-12T23:45:44.660847Z",
     "shell.execute_reply": "2020-09-12T23:45:44.661607Z"
    },
    "papermill": {
     "duration": 0.201908,
     "end_time": "2020-09-12T23:45:44.661804",
     "exception": false,
     "start_time": "2020-09-12T23:45:44.459896",
     "status": "completed"
    },
    "tags": []
   },
   "outputs": [
    {
     "name": "stdout",
     "output_type": "stream",
     "text": [
      "The accuracy is 0.847921\n"
     ]
    },
    {
     "data": {
      "text/plain": [
       "array([[775,   0],\n",
       "       [139,   0]])"
      ]
     },
     "execution_count": 12,
     "metadata": {},
     "output_type": "execute_result"
    }
   ],
   "source": [
    "svc=SVC(C=1,kernel='linear')\n",
    "svc.fit(X_train,y_train)\n",
    "svc_y_pred=svc.predict(X_test)\n",
    "print(\"The accuracy is %f\" %accuracy_score(y_test,svc_y_pred))\n",
    "confusion_matrix(y_test,svc_y_pred)"
   ]
  },
  {
   "cell_type": "markdown",
   "metadata": {
    "papermill": {
     "duration": 0.025423,
     "end_time": "2020-09-12T23:45:44.725937",
     "exception": false,
     "start_time": "2020-09-12T23:45:44.700514",
     "status": "completed"
    },
    "tags": []
   },
   "source": [
    "The SVC doesn't work for us as it's not giving us any true positives and is probably using high threshold as decision boundary which is expected, compared to logistic regression"
   ]
  },
  {
   "cell_type": "markdown",
   "metadata": {
    "papermill": {
     "duration": 0.022523,
     "end_time": "2020-09-12T23:45:44.771916",
     "exception": false,
     "start_time": "2020-09-12T23:45:44.749393",
     "status": "completed"
    },
    "tags": []
   },
   "source": [
    "# Decision Tree"
   ]
  },
  {
   "cell_type": "code",
   "execution_count": 13,
   "metadata": {
    "execution": {
     "iopub.execute_input": "2020-09-12T23:45:44.825063Z",
     "iopub.status.busy": "2020-09-12T23:45:44.824122Z",
     "iopub.status.idle": "2020-09-12T23:45:44.857033Z",
     "shell.execute_reply": "2020-09-12T23:45:44.856062Z"
    },
    "papermill": {
     "duration": 0.061826,
     "end_time": "2020-09-12T23:45:44.857162",
     "exception": false,
     "start_time": "2020-09-12T23:45:44.795336",
     "status": "completed"
    },
    "tags": []
   },
   "outputs": [
    {
     "name": "stdout",
     "output_type": "stream",
     "text": [
      "The accuracy is 0.765864\n"
     ]
    },
    {
     "data": {
      "text/plain": [
       "array([[664, 111],\n",
       "       [103,  36]])"
      ]
     },
     "execution_count": 13,
     "metadata": {},
     "output_type": "execute_result"
    }
   ],
   "source": [
    "dc = DecisionTreeClassifier()\n",
    "dc.fit(X_train,y_train)\n",
    "y_pred=dc.predict(X_test)\n",
    "print(\"The accuracy is %f\" %accuracy_score(y_test,y_pred))\n",
    "confusion_matrix(y_test,y_pred)"
   ]
  },
  {
   "cell_type": "markdown",
   "metadata": {
    "papermill": {
     "duration": 0.023496,
     "end_time": "2020-09-12T23:45:44.904957",
     "exception": false,
     "start_time": "2020-09-12T23:45:44.881461",
     "status": "completed"
    },
    "tags": []
   },
   "source": [
    "High Number of misclassifications from the decision decision which makes it worse than the SVC, and Logistic Regression.(FP=120,FN=97)"
   ]
  },
  {
   "cell_type": "markdown",
   "metadata": {
    "papermill": {
     "duration": 0.023415,
     "end_time": "2020-09-12T23:45:44.952200",
     "exception": false,
     "start_time": "2020-09-12T23:45:44.928785",
     "status": "completed"
    },
    "tags": []
   },
   "source": [
    "# Random Forest"
   ]
  },
  {
   "cell_type": "code",
   "execution_count": 14,
   "metadata": {
    "execution": {
     "iopub.execute_input": "2020-09-12T23:45:45.003665Z",
     "iopub.status.busy": "2020-09-12T23:45:45.002970Z",
     "iopub.status.idle": "2020-09-12T23:45:45.668732Z",
     "shell.execute_reply": "2020-09-12T23:45:45.669222Z"
    },
    "papermill": {
     "duration": 0.693418,
     "end_time": "2020-09-12T23:45:45.669367",
     "exception": false,
     "start_time": "2020-09-12T23:45:44.975949",
     "status": "completed"
    },
    "tags": []
   },
   "outputs": [
    {
     "name": "stdout",
     "output_type": "stream",
     "text": [
      "The accuracy is 0.846827\n"
     ]
    },
    {
     "data": {
      "text/plain": [
       "array([[768,   7],\n",
       "       [133,   6]])"
      ]
     },
     "execution_count": 14,
     "metadata": {},
     "output_type": "execute_result"
    }
   ],
   "source": [
    "rf=RandomForestClassifier(max_depth=100,criterion='entropy',max_features='log2')\n",
    "rf.fit(X_train,y_train)\n",
    "rf_y_pred=rf.predict(X_test)\n",
    "print(\"The accuracy is %f\" %accuracy_score(y_test,rf_y_pred))\n",
    "confusion_matrix(y_test,rf_y_pred)"
   ]
  },
  {
   "cell_type": "markdown",
   "metadata": {
    "papermill": {
     "duration": 0.024258,
     "end_time": "2020-09-12T23:45:45.718399",
     "exception": false,
     "start_time": "2020-09-12T23:45:45.694141",
     "status": "completed"
    },
    "tags": []
   },
   "source": [
    "# XGB "
   ]
  },
  {
   "cell_type": "code",
   "execution_count": 15,
   "metadata": {
    "execution": {
     "iopub.execute_input": "2020-09-12T23:45:45.771608Z",
     "iopub.status.busy": "2020-09-12T23:45:45.770984Z",
     "iopub.status.idle": "2020-09-12T23:45:45.984655Z",
     "shell.execute_reply": "2020-09-12T23:45:45.985306Z"
    },
    "papermill": {
     "duration": 0.242416,
     "end_time": "2020-09-12T23:45:45.985482",
     "exception": false,
     "start_time": "2020-09-12T23:45:45.743066",
     "status": "completed"
    },
    "tags": []
   },
   "outputs": [
    {
     "name": "stdout",
     "output_type": "stream",
     "text": [
      "The accuracy is 0.844639\n"
     ]
    },
    {
     "data": {
      "text/plain": [
       "array([[762,  13],\n",
       "       [129,  10]])"
      ]
     },
     "execution_count": 15,
     "metadata": {},
     "output_type": "execute_result"
    }
   ],
   "source": [
    "xg=  XGBClassifier(n_estimators=50,booster='dart',learning_rate=0.07)\n",
    "xg.fit(X_train,y_train)\n",
    "xg_y_pred = xg.predict(X_test)\n",
    "print(\"The accuracy is %f\" %accuracy_score(y_test,xg_y_pred))\n",
    "confusion_matrix(y_test,xg_y_pred)"
   ]
  },
  {
   "cell_type": "code",
   "execution_count": 16,
   "metadata": {
    "execution": {
     "iopub.execute_input": "2020-09-12T23:45:46.056760Z",
     "iopub.status.busy": "2020-09-12T23:45:46.055993Z",
     "iopub.status.idle": "2020-09-12T23:45:46.317260Z",
     "shell.execute_reply": "2020-09-12T23:45:46.315768Z"
    },
    "papermill": {
     "duration": 0.299101,
     "end_time": "2020-09-12T23:45:46.317404",
     "exception": false,
     "start_time": "2020-09-12T23:45:46.018303",
     "status": "completed"
    },
    "tags": []
   },
   "outputs": [],
   "source": [
    "pd.DataFrame(xg_y_pred).to_csv('submission')"
   ]
  },
  {
   "cell_type": "markdown",
   "metadata": {
    "papermill": {
     "duration": 0.025189,
     "end_time": "2020-09-12T23:45:46.368245",
     "exception": false,
     "start_time": "2020-09-12T23:45:46.343056",
     "status": "completed"
    },
    "tags": []
   },
   "source": [
    "The models are gonna get better predictions with hypertuning for sure, please look at the documentations are try to get the maximum. I hope there was something to learn from my notebook and Look forward to solving more problems! thank you, if you found it useful, please vote!"
   ]
  }
 ],
 "metadata": {
  "kernelspec": {
   "display_name": "Python 3",
   "language": "python",
   "name": "python3"
  },
  "language_info": {
   "codemirror_mode": {
    "name": "ipython",
    "version": 3
   },
   "file_extension": ".py",
   "mimetype": "text/x-python",
   "name": "python",
   "nbconvert_exporter": "python",
   "pygments_lexer": "ipython3",
   "version": "3.7.6"
  },
  "papermill": {
   "duration": 10.333171,
   "end_time": "2020-09-12T23:45:46.501111",
   "environment_variables": {},
   "exception": null,
   "input_path": "__notebook__.ipynb",
   "output_path": "__notebook__.ipynb",
   "parameters": {},
   "start_time": "2020-09-12T23:45:36.167940",
   "version": "2.1.0"
  }
 },
 "nbformat": 4,
 "nbformat_minor": 4
}
