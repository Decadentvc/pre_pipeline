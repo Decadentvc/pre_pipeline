{
 "cells": [
  {
   "cell_type": "code",
   "execution_count": 1,
   "metadata": {
    "_cell_guid": "b1076dfc-b9ad-4769-8c92-a6c4dae69d19",
    "_uuid": "8f2839f25d086af736a60e9eeb907d3b93b6e0e5",
    "execution": {
     "iopub.execute_input": "2020-10-11T15:45:18.206103Z",
     "iopub.status.busy": "2020-10-11T15:45:18.205345Z",
     "iopub.status.idle": "2020-10-11T15:45:19.464618Z",
     "shell.execute_reply": "2020-10-11T15:45:19.463811Z"
    },
    "papermill": {
     "duration": 1.277469,
     "end_time": "2020-10-11T15:45:19.464746",
     "exception": false,
     "start_time": "2020-10-11T15:45:18.187277",
     "status": "completed"
    },
    "tags": []
   },
   "outputs": [],
   "source": [
    "\n",
    "import pandas as pd \n",
    "import numpy as np \n",
    "from sklearn.tree import DecisionTreeClassifier \n",
    "from sklearn.ensemble import RandomForestClassifier,ExtraTreesClassifier\n",
    "from sklearn.svm import SVC\n",
    "from sklearn.linear_model import LogisticRegression\n",
    "from sklearn.model_selection import train_test_split \n",
    "from sklearn.model_selection import cross_val_score \n",
    "from sklearn.metrics import confusion_matrix \n",
    "from sklearn.metrics import plot_confusion_matrix \n",
    "from sklearn.metrics import accuracy_score\n",
    "from sklearn.metrics import classification_report\n",
    "\n",
    "#Import dataset as a pandas dataframe\n",
    "heart = pd.read_csv('../input/heart-disease-uci/heart.csv')\n",
    "\n",
    "#Target column is intended output and rest are features\n",
    "X= heart.drop('target',axis=1)\n",
    "y= heart['target']\n",
    "\n",
    "#Splitting the data in  70:30 Train-test ratio\n",
    "X_train, X_test, y_train, y_test = train_test_split(X, y, test_size=0.3, random_state=5)\n",
    "\n"
   ]
  },
  {
   "cell_type": "code",
   "execution_count": 2,
   "metadata": {
    "execution": {
     "iopub.execute_input": "2020-10-11T15:45:19.489251Z",
     "iopub.status.busy": "2020-10-11T15:45:19.488513Z",
     "iopub.status.idle": "2020-10-11T15:45:19.744814Z",
     "shell.execute_reply": "2020-10-11T15:45:19.745339Z"
    },
    "papermill": {
     "duration": 0.273163,
     "end_time": "2020-10-11T15:45:19.745516",
     "exception": false,
     "start_time": "2020-10-11T15:45:19.472353",
     "status": "completed"
    },
    "tags": []
   },
   "outputs": [
    {
     "name": "stdout",
     "output_type": "stream",
     "text": [
      "SVM classifier Accuracy: \n",
      "Classification report for SVM classifier:\n",
      "              precision    recall  f1-score   support\n",
      "\n",
      "           0       0.74      0.60      0.67        43\n",
      "           1       0.70      0.81      0.75        48\n",
      "\n",
      "    accuracy                           0.71        91\n",
      "   macro avg       0.72      0.71      0.71        91\n",
      "weighted avg       0.72      0.71      0.71        91\n",
      "\n"
     ]
    },
    {
     "data": {
      "image/png": "[encoded data removed]",
      "text/plain": [
       "<Figure size 432x288 with 2 Axes>"
      ]
     },
     "metadata": {
      "needs_background": "light"
     },
     "output_type": "display_data"
    }
   ],
   "source": [
    "#Building an SVM classifier\n",
    "svclassifier=SVC(kernel='poly',degree=2)\n",
    "svclassifier.fit(X_train,y_train)\n",
    "y_svc=svclassifier.predict(X_test)\n",
    "svc_score=svclassifier.score(X_test,y_test)\n",
    "print(\"SVM classifier Accuracy: \")\n",
    "#Confusion matrix and classification report for SVM classifier\n",
    "print(\"Classification report for SVM classifier:\")\n",
    "plot_confusion_matrix(svclassifier, X_test, y_test, display_labels=[\"Does not have heart disease\", \"Has heart disease\"])\n",
    "print(classification_report(y_test,y_svc))\n",
    "\n"
   ]
  },
  {
   "cell_type": "code",
   "execution_count": 3,
   "metadata": {
    "_cell_guid": "79c7e3d0-c299-4dcb-8224-4455121ee9b0",
    "_uuid": "d629ff2d2480ee46fbb7e2d37f6b5fab8052498a",
    "execution": {
     "iopub.execute_input": "2020-10-11T15:45:19.773068Z",
     "iopub.status.busy": "2020-10-11T15:45:19.772261Z",
     "iopub.status.idle": "2020-10-11T15:45:19.975196Z",
     "shell.execute_reply": "2020-10-11T15:45:19.974629Z"
    },
    "papermill": {
     "duration": 0.221048,
     "end_time": "2020-10-11T15:45:19.975317",
     "exception": false,
     "start_time": "2020-10-11T15:45:19.754269",
     "status": "completed"
    },
    "tags": []
   },
   "outputs": [
    {
     "name": "stdout",
     "output_type": "stream",
     "text": [
      "Logistic Regression Accuracy: 0.8241758241758241\n",
      "Classification report for Logistic Regression classifier:\n",
      "              precision    recall  f1-score   support\n",
      "\n",
      "           0       0.83      0.79      0.81        43\n",
      "           1       0.82      0.85      0.84        48\n",
      "\n",
      "    accuracy                           0.82        91\n",
      "   macro avg       0.82      0.82      0.82        91\n",
      "weighted avg       0.82      0.82      0.82        91\n",
      "\n"
     ]
    },
    {
     "data": {
      "image/png": "[encoded data removed]",
      "text/plain": [
       "<Figure size 432x288 with 2 Axes>"
      ]
     },
     "metadata": {
      "needs_background": "light"
     },
     "output_type": "display_data"
    }
   ],
   "source": [
    "#Building a logistic regression classifier\n",
    "LR = LogisticRegression(C=0.01, solver='liblinear').fit(X_train,y_train)\n",
    "LR_score = LR.score(X_test, y_test)\n",
    "print(\"Logistic Regression Accuracy:\" ,LR_score)\n",
    "ylr = LR.predict(X_test)\n",
    "#Confusion matrix and classification report for Logistic regression classifier\n",
    "print(\"Classification report for Logistic Regression classifier:\")\n",
    "plot_confusion_matrix(LR,X_test,y_test,display_labels=[\"Does not have heart disease\", \"Has heart disease\"])\n",
    "print (classification_report(y_test, ylr))\n",
    "\n"
   ]
  },
  {
   "cell_type": "code",
   "execution_count": 4,
   "metadata": {
    "execution": {
     "iopub.execute_input": "2020-10-11T15:45:20.008119Z",
     "iopub.status.busy": "2020-10-11T15:45:20.007026Z",
     "iopub.status.idle": "2020-10-11T15:45:20.201526Z",
     "shell.execute_reply": "2020-10-11T15:45:20.200786Z"
    },
    "papermill": {
     "duration": 0.216273,
     "end_time": "2020-10-11T15:45:20.201649",
     "exception": false,
     "start_time": "2020-10-11T15:45:19.985376",
     "status": "completed"
    },
    "tags": []
   },
   "outputs": [
    {
     "name": "stdout",
     "output_type": "stream",
     "text": [
      "Decision Tree Accuracy: 0.7802197802197802\n",
      "Classification report for decision tree classifier:\n",
      "              precision    recall  f1-score   support\n",
      "\n",
      "           0       0.74      0.81      0.78        43\n",
      "           1       0.82      0.75      0.78        48\n",
      "\n",
      "    accuracy                           0.78        91\n",
      "   macro avg       0.78      0.78      0.78        91\n",
      "weighted avg       0.78      0.78      0.78        91\n",
      "\n"
     ]
    },
    {
     "data": {
      "image/png": "[encoded data removed]",
      "text/plain": [
       "<Figure size 432x288 with 2 Axes>"
      ]
     },
     "metadata": {
      "needs_background": "light"
     },
     "output_type": "display_data"
    }
   ],
   "source": [
    "#Building a decision tree classifier\n",
    "lf_dt = DecisionTreeClassifier(random_state=5)\n",
    "clf_dt = lf_dt.fit(X_train, y_train)\n",
    "#Confusion matrix and classification report for Logistic regression classifier\n",
    "plot_confusion_matrix(clf_dt, X_test, y_test, display_labels=[\"Does not have heart disease\", \"Has heart disease\"])\n",
    "DT_score = clf_dt.score(X_test, y_test)\n",
    "print(\"Decision Tree Accuracy:\" , DT_score)\n",
    "print(\"Classification report for decision tree classifier:\")\n",
    "ydt=clf_dt.predict(X_test)\n",
    "print(classification_report(y_test,ydt))\n",
    "\n"
   ]
  },
  {
   "cell_type": "code",
   "execution_count": 5,
   "metadata": {
    "execution": {
     "iopub.execute_input": "2020-10-11T15:45:20.234963Z",
     "iopub.status.busy": "2020-10-11T15:45:20.234214Z",
     "iopub.status.idle": "2020-10-11T15:45:20.763393Z",
     "shell.execute_reply": "2020-10-11T15:45:20.762692Z"
    },
    "papermill": {
     "duration": 0.550371,
     "end_time": "2020-10-11T15:45:20.763531",
     "exception": false,
     "start_time": "2020-10-11T15:45:20.213160",
     "status": "completed"
    },
    "tags": []
   },
   "outputs": [
    {
     "name": "stdout",
     "output_type": "stream",
     "text": [
      "Random Forest Accuracy: \n",
      "Classification report for random forest classifier:\n",
      "              precision    recall  f1-score   support\n",
      "\n",
      "           0       0.90      0.88      0.89        43\n",
      "           1       0.90      0.92      0.91        48\n",
      "\n",
      "    accuracy                           0.90        91\n",
      "   macro avg       0.90      0.90      0.90        91\n",
      "weighted avg       0.90      0.90      0.90        91\n",
      "\n"
     ]
    },
    {
     "data": {
      "image/png": "[encoded data removed]",
      "text/plain": [
       "<Figure size 432x288 with 2 Axes>"
      ]
     },
     "metadata": {
      "needs_background": "light"
     },
     "output_type": "display_data"
    }
   ],
   "source": [
    "#Building a random forest classifier\n",
    "rfc =  RandomForestClassifier(random_state=5).fit(X_train, y_train)\n",
    "rfc_score=rfc.score(X_test,y_test)\n",
    "print(\"Random Forest Accuracy: \")\n",
    "#Confusion matrix and classification report for random forest classifier\n",
    "print(\"Classification report for random forest classifier:\")\n",
    "plot_confusion_matrix(rfc, X_test, y_test, display_labels=[\"Does not have heart disease\", \"Has heart disease\"])\n",
    "yrfc=rfc.predict(X_test)\n",
    "print(classification_report(y_test,yrfc))\n",
    "\n"
   ]
  },
  {
   "cell_type": "code",
   "execution_count": 6,
   "metadata": {
    "execution": {
     "iopub.execute_input": "2020-10-11T15:45:20.806993Z",
     "iopub.status.busy": "2020-10-11T15:45:20.801649Z",
     "iopub.status.idle": "2020-10-11T15:45:21.180935Z",
     "shell.execute_reply": "2020-10-11T15:45:21.181539Z"
    },
    "papermill": {
     "duration": 0.403396,
     "end_time": "2020-10-11T15:45:21.181701",
     "exception": false,
     "start_time": "2020-10-11T15:45:20.778305",
     "status": "completed"
    },
    "tags": []
   },
   "outputs": [
    {
     "name": "stdout",
     "output_type": "stream",
     "text": [
      "Extreme Random Forest Accuracy: \n",
      "Classification report for extreme random forest classifier:\n",
      "              precision    recall  f1-score   support\n",
      "\n",
      "           0       0.88      0.88      0.88        43\n",
      "           1       0.90      0.90      0.90        48\n",
      "\n",
      "    accuracy                           0.89        91\n",
      "   macro avg       0.89      0.89      0.89        91\n",
      "weighted avg       0.89      0.89      0.89        91\n",
      "\n"
     ]
    },
    {
     "data": {
      "image/png": "[encoded data removed]",
      "text/plain": [
       "<Figure size 432x288 with 2 Axes>"
      ]
     },
     "metadata": {
      "needs_background": "light"
     },
     "output_type": "display_data"
    }
   ],
   "source": [
    "#Building an extreme random forest classifier\n",
    "params = {'n_estimators': 100, 'max_depth': 4, 'random_state': 0}\n",
    "erfc = ExtraTreesClassifier(**params)\n",
    "erfc.fit(X_train, y_train)\n",
    "erfc_score=erfc.score(X_test,y_test)\n",
    "print(\"Extreme Random Forest Accuracy: \")\n",
    "#Confusion matrix and classification report for random forest classifier\n",
    "print(\"Classification report for extreme random forest classifier:\")\n",
    "plot_confusion_matrix(erfc, X_test, y_test, display_labels=[\"Does not have heart disease\", \"Has heart disease\"])\n",
    "yerfc=erfc.predict(X_test)\n",
    "print(classification_report(y_test,yerfc))\n",
    "\n"
   ]
  },
  {
   "cell_type": "code",
   "execution_count": 7,
   "metadata": {
    "execution": {
     "iopub.execute_input": "2020-10-11T15:45:21.217940Z",
     "iopub.status.busy": "2020-10-11T15:45:21.217170Z",
     "iopub.status.idle": "2020-10-11T15:45:21.227265Z",
     "shell.execute_reply": "2020-10-11T15:45:21.226681Z"
    },
    "papermill": {
     "duration": 0.031115,
     "end_time": "2020-10-11T15:45:21.227394",
     "exception": false,
     "start_time": "2020-10-11T15:45:21.196279",
     "status": "completed"
    },
    "tags": []
   },
   "outputs": [
    {
     "name": "stdout",
     "output_type": "stream",
     "text": [
      "Accuracy comparison of supervised learning models\n",
      "                    Model  Accuracy\n",
      "0         SVM classifier  0.714286\n",
      "1    Logistic Regression  0.824176\n",
      "2          Decision Tree  0.780220\n",
      "3          Random Forest  0.901099\n",
      "4  Extreme Random Forest  0.890110\n"
     ]
    }
   ],
   "source": [
    "#Comparing the accuracy of the supervised learning models\n",
    "data = [['SVM classifier',svc_score],['Logistic Regression', LR_score],['Decision Tree', DT_score],  ['Random Forest', rfc_score],['Extreme Random Forest',erfc_score]] \n",
    "accuracy = pd.DataFrame(data,columns = ['Model', 'Accuracy',])\n",
    "print('Accuracy comparison of supervised learning models\\n',accuracy)"
   ]
  }
 ],
 "metadata": {
  "kernelspec": {
   "display_name": "Python 3",
   "language": "python",
   "name": "python3"
  },
  "language_info": {
   "codemirror_mode": {
    "name": "ipython",
    "version": 3
   },
   "file_extension": ".py",
   "mimetype": "text/x-python",
   "name": "python",
   "nbconvert_exporter": "python",
   "pygments_lexer": "ipython3",
   "version": "3.7.6"
  },
  "papermill": {
   "duration": 7.628949,
   "end_time": "2020-10-11T15:45:21.350022",
   "environment_variables": {},
   "exception": null,
   "input_path": "__notebook__.ipynb",
   "output_path": "__notebook__.ipynb",
   "parameters": {},
   "start_time": "2020-10-11T15:45:13.721073",
   "version": "2.1.0"
  }
 },
 "nbformat": 4,
 "nbformat_minor": 4
}
