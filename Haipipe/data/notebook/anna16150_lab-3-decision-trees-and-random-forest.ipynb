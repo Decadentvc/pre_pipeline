{
 "cells": [
  {
   "cell_type": "code",
   "execution_count": 1,
   "metadata": {
    "_cell_guid": "b1076dfc-b9ad-4769-8c92-a6c4dae69d19",
    "_uuid": "8f2839f25d086af736a60e9eeb907d3b93b6e0e5",
    "execution": {
     "iopub.execute_input": "2020-10-11T03:30:22.186715Z",
     "iopub.status.busy": "2020-10-11T03:30:22.185798Z",
     "iopub.status.idle": "2020-10-11T03:30:22.203078Z",
     "shell.execute_reply": "2020-10-11T03:30:22.202352Z"
    },
    "papermill": {
     "duration": 0.064604,
     "end_time": "2020-10-11T03:30:22.203250",
     "exception": false,
     "start_time": "2020-10-11T03:30:22.138646",
     "status": "completed"
    },
    "tags": []
   },
   "outputs": [
    {
     "name": "stdout",
     "output_type": "stream",
     "text": [
      "/kaggle/input/bank-marketing-dataset/bank.csv\n"
     ]
    }
   ],
   "source": [
    "# This Python 3 environment comes with many helpful analytics libraries installed\n",
    "# It is defined by the kaggle/python Docker image: https://github.com/kaggle/docker-python\n",
    "# For example, here's several helpful packages to load\n",
    "\n",
    "import numpy as np # linear algebra\n",
    "import pandas as pd # data processing, CSV file I/O (e.g. pd.read_csv)\n",
    "\n",
    "# Input data files are available in the read-only \"../input/\" directory\n",
    "# For example, running this (by clicking run or pressing Shift+Enter) will list all files under the input directory\n",
    "\n",
    "import os\n",
    "for dirname, _, filenames in os.walk('/kaggle/input'):\n",
    "    for filename in filenames:\n",
    "        print(os.path.join(dirname, filename))\n",
    "\n",
    "# You can write up to 5GB to the current directory (/kaggle/working/) that gets preserved as output when you create a version using \"Save & Run All\" \n",
    "# You can also write temporary files to /kaggle/temp/, but they won't be saved outside of the current session"
   ]
  },
  {
   "cell_type": "code",
   "execution_count": 2,
   "metadata": {
    "_cell_guid": "79c7e3d0-c299-4dcb-8224-4455121ee9b0",
    "_uuid": "d629ff2d2480ee46fbb7e2d37f6b5fab8052498a",
    "execution": {
     "iopub.execute_input": "2020-10-11T03:30:22.282466Z",
     "iopub.status.busy": "2020-10-11T03:30:22.281644Z",
     "iopub.status.idle": "2020-10-11T03:30:23.399434Z",
     "shell.execute_reply": "2020-10-11T03:30:23.398621Z"
    },
    "papermill": {
     "duration": 1.159159,
     "end_time": "2020-10-11T03:30:23.399565",
     "exception": false,
     "start_time": "2020-10-11T03:30:22.240406",
     "status": "completed"
    },
    "tags": []
   },
   "outputs": [],
   "source": [
    "import pandas as pd\n",
    "import seaborn as sns\n",
    "import matplotlib.pyplot as plt"
   ]
  },
  {
   "cell_type": "markdown",
   "metadata": {
    "papermill": {
     "duration": 0.036497,
     "end_time": "2020-10-11T03:30:23.473044",
     "exception": false,
     "start_time": "2020-10-11T03:30:23.436547",
     "status": "completed"
    },
    "tags": []
   },
   "source": [
    "Подключаем библиотеки"
   ]
  },
  {
   "cell_type": "markdown",
   "metadata": {
    "papermill": {
     "duration": 0.037549,
     "end_time": "2020-10-11T03:30:23.547407",
     "exception": false,
     "start_time": "2020-10-11T03:30:23.509858",
     "status": "completed"
    },
    "tags": []
   },
   "source": [
    "1. Деревья решений"
   ]
  },
  {
   "cell_type": "markdown",
   "metadata": {
    "papermill": {
     "duration": 0.036779,
     "end_time": "2020-10-11T03:30:23.621208",
     "exception": false,
     "start_time": "2020-10-11T03:30:23.584429",
     "status": "completed"
    },
    "tags": []
   },
   "source": [
    "1.1 Подключитесь к набору данных. Разберитесь в том, как устроен датасет и какова постановка задачи. Сделайте необходимый препроцессинг данных"
   ]
  },
  {
   "cell_type": "code",
   "execution_count": 3,
   "metadata": {
    "execution": {
     "iopub.execute_input": "2020-10-11T03:30:23.702056Z",
     "iopub.status.busy": "2020-10-11T03:30:23.701283Z",
     "iopub.status.idle": "2020-10-11T03:30:23.788408Z",
     "shell.execute_reply": "2020-10-11T03:30:23.787804Z"
    },
    "papermill": {
     "duration": 0.130333,
     "end_time": "2020-10-11T03:30:23.788538",
     "exception": false,
     "start_time": "2020-10-11T03:30:23.658205",
     "status": "completed"
    },
    "tags": []
   },
   "outputs": [
    {
     "data": {
      "text/html": [
       "<div>\n",
       "<style scoped>\n",
       "    .dataframe tbody tr th:only-of-type {\n",
       "        vertical-align: middle;\n",
       "    }\n",
       "\n",
       "    .dataframe tbody tr th {\n",
       "        vertical-align: top;\n",
       "    }\n",
       "\n",
       "    .dataframe thead th {\n",
       "        text-align: right;\n",
       "    }\n",
       "</style>\n",
       "<table border=\"1\" class=\"dataframe\">\n",
       "  <thead>\n",
       "    <tr style=\"text-align: right;\">\n",
       "      <th></th>\n",
       "      <th>age</th>\n",
       "      <th>job</th>\n",
       "      <th>marital</th>\n",
       "      <th>education</th>\n",
       "      <th>default</th>\n",
       "      <th>balance</th>\n",
       "      <th>housing</th>\n",
       "      <th>loan</th>\n",
       "      <th>contact</th>\n",
       "      <th>day</th>\n",
       "      <th>month</th>\n",
       "      <th>duration</th>\n",
       "      <th>campaign</th>\n",
       "      <th>pdays</th>\n",
       "      <th>previous</th>\n",
       "      <th>poutcome</th>\n",
       "      <th>deposit</th>\n",
       "    </tr>\n",
       "  </thead>\n",
       "  <tbody>\n",
       "    <tr>\n",
       "      <th>0</th>\n",
       "      <td>59</td>\n",
       "      <td>admin.</td>\n",
       "      <td>married</td>\n",
       "      <td>secondary</td>\n",
       "      <td>no</td>\n",
       "      <td>2343</td>\n",
       "      <td>yes</td>\n",
       "      <td>no</td>\n",
       "      <td>unknown</td>\n",
       "      <td>5</td>\n",
       "      <td>may</td>\n",
       "      <td>1042</td>\n",
       "      <td>1</td>\n",
       "      <td>-1</td>\n",
       "      <td>0</td>\n",
       "      <td>unknown</td>\n",
       "      <td>yes</td>\n",
       "    </tr>\n",
       "    <tr>\n",
       "      <th>1</th>\n",
       "      <td>56</td>\n",
       "      <td>admin.</td>\n",
       "      <td>married</td>\n",
       "      <td>secondary</td>\n",
       "      <td>no</td>\n",
       "      <td>45</td>\n",
       "      <td>no</td>\n",
       "      <td>no</td>\n",
       "      <td>unknown</td>\n",
       "      <td>5</td>\n",
       "      <td>may</td>\n",
       "      <td>1467</td>\n",
       "      <td>1</td>\n",
       "      <td>-1</td>\n",
       "      <td>0</td>\n",
       "      <td>unknown</td>\n",
       "      <td>yes</td>\n",
       "    </tr>\n",
       "    <tr>\n",
       "      <th>2</th>\n",
       "      <td>41</td>\n",
       "      <td>technician</td>\n",
       "      <td>married</td>\n",
       "      <td>secondary</td>\n",
       "      <td>no</td>\n",
       "      <td>1270</td>\n",
       "      <td>yes</td>\n",
       "      <td>no</td>\n",
       "      <td>unknown</td>\n",
       "      <td>5</td>\n",
       "      <td>may</td>\n",
       "      <td>1389</td>\n",
       "      <td>1</td>\n",
       "      <td>-1</td>\n",
       "      <td>0</td>\n",
       "      <td>unknown</td>\n",
       "      <td>yes</td>\n",
       "    </tr>\n",
       "    <tr>\n",
       "      <th>3</th>\n",
       "      <td>55</td>\n",
       "      <td>services</td>\n",
       "      <td>married</td>\n",
       "      <td>secondary</td>\n",
       "      <td>no</td>\n",
       "      <td>2476</td>\n",
       "      <td>yes</td>\n",
       "      <td>no</td>\n",
       "      <td>unknown</td>\n",
       "      <td>5</td>\n",
       "      <td>may</td>\n",
       "      <td>579</td>\n",
       "      <td>1</td>\n",
       "      <td>-1</td>\n",
       "      <td>0</td>\n",
       "      <td>unknown</td>\n",
       "      <td>yes</td>\n",
       "    </tr>\n",
       "    <tr>\n",
       "      <th>4</th>\n",
       "      <td>54</td>\n",
       "      <td>admin.</td>\n",
       "      <td>married</td>\n",
       "      <td>tertiary</td>\n",
       "      <td>no</td>\n",
       "      <td>184</td>\n",
       "      <td>no</td>\n",
       "      <td>no</td>\n",
       "      <td>unknown</td>\n",
       "      <td>5</td>\n",
       "      <td>may</td>\n",
       "      <td>673</td>\n",
       "      <td>2</td>\n",
       "      <td>-1</td>\n",
       "      <td>0</td>\n",
       "      <td>unknown</td>\n",
       "      <td>yes</td>\n",
       "    </tr>\n",
       "  </tbody>\n",
       "</table>\n",
       "</div>"
      ],
      "text/plain": [
       "   age         job  marital  education default  balance housing loan  contact  \\\n",
       "0   59      admin.  married  secondary      no     2343     yes   no  unknown   \n",
       "1   56      admin.  married  secondary      no       45      no   no  unknown   \n",
       "2   41  technician  married  secondary      no     1270     yes   no  unknown   \n",
       "3   55    services  married  secondary      no     2476     yes   no  unknown   \n",
       "4   54      admin.  married   tertiary      no      184      no   no  unknown   \n",
       "\n",
       "   day month  duration  campaign  pdays  previous poutcome deposit  \n",
       "0    5   may      1042         1     -1         0  unknown     yes  \n",
       "1    5   may      1467         1     -1         0  unknown     yes  \n",
       "2    5   may      1389         1     -1         0  unknown     yes  \n",
       "3    5   may       579         1     -1         0  unknown     yes  \n",
       "4    5   may       673         2     -1         0  unknown     yes  "
      ]
     },
     "execution_count": 3,
     "metadata": {},
     "output_type": "execute_result"
    }
   ],
   "source": [
    "#Загрузка данных\n",
    "df = pd.read_csv(\"/kaggle/input/bank-marketing-dataset/bank.csv\")\n",
    "df.head()"
   ]
  },
  {
   "cell_type": "code",
   "execution_count": 4,
   "metadata": {
    "execution": {
     "iopub.execute_input": "2020-10-11T03:30:23.872954Z",
     "iopub.status.busy": "2020-10-11T03:30:23.872113Z",
     "iopub.status.idle": "2020-10-11T03:30:23.911541Z",
     "shell.execute_reply": "2020-10-11T03:30:23.910862Z"
    },
    "papermill": {
     "duration": 0.085327,
     "end_time": "2020-10-11T03:30:23.911674",
     "exception": false,
     "start_time": "2020-10-11T03:30:23.826347",
     "status": "completed"
    },
    "tags": []
   },
   "outputs": [
    {
     "data": {
      "text/html": [
       "<div>\n",
       "<style scoped>\n",
       "    .dataframe tbody tr th:only-of-type {\n",
       "        vertical-align: middle;\n",
       "    }\n",
       "\n",
       "    .dataframe tbody tr th {\n",
       "        vertical-align: top;\n",
       "    }\n",
       "\n",
       "    .dataframe thead th {\n",
       "        text-align: right;\n",
       "    }\n",
       "</style>\n",
       "<table border=\"1\" class=\"dataframe\">\n",
       "  <thead>\n",
       "    <tr style=\"text-align: right;\">\n",
       "      <th></th>\n",
       "      <th>count</th>\n",
       "      <th>mean</th>\n",
       "      <th>std</th>\n",
       "      <th>min</th>\n",
       "      <th>25%</th>\n",
       "      <th>50%</th>\n",
       "      <th>75%</th>\n",
       "      <th>max</th>\n",
       "    </tr>\n",
       "  </thead>\n",
       "  <tbody>\n",
       "    <tr>\n",
       "      <th>age</th>\n",
       "      <td>11162.0</td>\n",
       "      <td>41.231948</td>\n",
       "      <td>11.913369</td>\n",
       "      <td>18.0</td>\n",
       "      <td>32.0</td>\n",
       "      <td>39.0</td>\n",
       "      <td>49.00</td>\n",
       "      <td>95.0</td>\n",
       "    </tr>\n",
       "    <tr>\n",
       "      <th>balance</th>\n",
       "      <td>11162.0</td>\n",
       "      <td>1528.538524</td>\n",
       "      <td>3225.413326</td>\n",
       "      <td>-6847.0</td>\n",
       "      <td>122.0</td>\n",
       "      <td>550.0</td>\n",
       "      <td>1708.00</td>\n",
       "      <td>81204.0</td>\n",
       "    </tr>\n",
       "    <tr>\n",
       "      <th>day</th>\n",
       "      <td>11162.0</td>\n",
       "      <td>15.658036</td>\n",
       "      <td>8.420740</td>\n",
       "      <td>1.0</td>\n",
       "      <td>8.0</td>\n",
       "      <td>15.0</td>\n",
       "      <td>22.00</td>\n",
       "      <td>31.0</td>\n",
       "    </tr>\n",
       "    <tr>\n",
       "      <th>duration</th>\n",
       "      <td>11162.0</td>\n",
       "      <td>371.993818</td>\n",
       "      <td>347.128386</td>\n",
       "      <td>2.0</td>\n",
       "      <td>138.0</td>\n",
       "      <td>255.0</td>\n",
       "      <td>496.00</td>\n",
       "      <td>3881.0</td>\n",
       "    </tr>\n",
       "    <tr>\n",
       "      <th>campaign</th>\n",
       "      <td>11162.0</td>\n",
       "      <td>2.508421</td>\n",
       "      <td>2.722077</td>\n",
       "      <td>1.0</td>\n",
       "      <td>1.0</td>\n",
       "      <td>2.0</td>\n",
       "      <td>3.00</td>\n",
       "      <td>63.0</td>\n",
       "    </tr>\n",
       "    <tr>\n",
       "      <th>pdays</th>\n",
       "      <td>11162.0</td>\n",
       "      <td>51.330407</td>\n",
       "      <td>108.758282</td>\n",
       "      <td>-1.0</td>\n",
       "      <td>-1.0</td>\n",
       "      <td>-1.0</td>\n",
       "      <td>20.75</td>\n",
       "      <td>854.0</td>\n",
       "    </tr>\n",
       "    <tr>\n",
       "      <th>previous</th>\n",
       "      <td>11162.0</td>\n",
       "      <td>0.832557</td>\n",
       "      <td>2.292007</td>\n",
       "      <td>0.0</td>\n",
       "      <td>0.0</td>\n",
       "      <td>0.0</td>\n",
       "      <td>1.00</td>\n",
       "      <td>58.0</td>\n",
       "    </tr>\n",
       "  </tbody>\n",
       "</table>\n",
       "</div>"
      ],
      "text/plain": [
       "            count         mean          std     min    25%    50%      75%  \\\n",
       "age       11162.0    41.231948    11.913369    18.0   32.0   39.0    49.00   \n",
       "balance   11162.0  1528.538524  3225.413326 -6847.0  122.0  550.0  1708.00   \n",
       "day       11162.0    15.658036     8.420740     1.0    8.0   15.0    22.00   \n",
       "duration  11162.0   371.993818   347.128386     2.0  138.0  255.0   496.00   \n",
       "campaign  11162.0     2.508421     2.722077     1.0    1.0    2.0     3.00   \n",
       "pdays     11162.0    51.330407   108.758282    -1.0   -1.0   -1.0    20.75   \n",
       "previous  11162.0     0.832557     2.292007     0.0    0.0    0.0     1.00   \n",
       "\n",
       "              max  \n",
       "age          95.0  \n",
       "balance   81204.0  \n",
       "day          31.0  \n",
       "duration   3881.0  \n",
       "campaign     63.0  \n",
       "pdays       854.0  \n",
       "previous     58.0  "
      ]
     },
     "execution_count": 4,
     "metadata": {},
     "output_type": "execute_result"
    }
   ],
   "source": [
    "# Статистика по числовым признакам\n",
    "df.describe().T"
   ]
  },
  {
   "cell_type": "code",
   "execution_count": 5,
   "metadata": {
    "execution": {
     "iopub.execute_input": "2020-10-11T03:30:24.007100Z",
     "iopub.status.busy": "2020-10-11T03:30:24.006108Z",
     "iopub.status.idle": "2020-10-11T03:30:24.021620Z",
     "shell.execute_reply": "2020-10-11T03:30:24.020878Z"
    },
    "papermill": {
     "duration": 0.071556,
     "end_time": "2020-10-11T03:30:24.021750",
     "exception": false,
     "start_time": "2020-10-11T03:30:23.950194",
     "status": "completed"
    },
    "tags": []
   },
   "outputs": [
    {
     "name": "stdout",
     "output_type": "stream",
     "text": [
      "<class 'pandas.core.frame.DataFrame'>\n",
      "RangeIndex: 11162 entries, 0 to 11161\n",
      "Data columns (total 17 columns):\n",
      " #   Column     Non-Null Count  Dtype \n",
      "---  ------     --------------  ----- \n",
      " 0   age        11162 non-null  int64 \n",
      " 1   job        11162 non-null  object\n",
      " 2   marital    11162 non-null  object\n",
      " 3   education  11162 non-null  object\n",
      " 4   default    11162 non-null  object\n",
      " 5   balance    11162 non-null  int64 \n",
      " 6   housing    11162 non-null  object\n",
      " 7   loan       11162 non-null  object\n",
      " 8   contact    11162 non-null  object\n",
      " 9   day        11162 non-null  int64 \n",
      " 10  month      11162 non-null  object\n",
      " 11  duration   11162 non-null  int64 \n",
      " 12  campaign   11162 non-null  int64 \n",
      " 13  pdays      11162 non-null  int64 \n",
      " 14  previous   11162 non-null  int64 \n",
      " 15  poutcome   11162 non-null  object\n",
      " 16  deposit    11162 non-null  object\n",
      "dtypes: int64(7), object(10)\n",
      "memory usage: 1.4+ MB\n"
     ]
    }
   ],
   "source": [
    "df.info()"
   ]
  },
  {
   "cell_type": "markdown",
   "metadata": {
    "papermill": {
     "duration": 0.041371,
     "end_time": "2020-10-11T03:30:24.102950",
     "exception": false,
     "start_time": "2020-10-11T03:30:24.061579",
     "status": "completed"
    },
    "tags": []
   },
   "source": [
    "Датасет состоит из данных маркетингового банка(возраст клиента, образование, баланс и тд). Target переменная - deposit. Цель прогнозной модели - проанализировать данные и выяснить внесет ли человек депозит.\n"
   ]
  },
  {
   "cell_type": "code",
   "execution_count": 6,
   "metadata": {
    "execution": {
     "iopub.execute_input": "2020-10-11T03:30:24.193256Z",
     "iopub.status.busy": "2020-10-11T03:30:24.192112Z",
     "iopub.status.idle": "2020-10-11T03:30:24.195868Z",
     "shell.execute_reply": "2020-10-11T03:30:24.196412Z"
    },
    "papermill": {
     "duration": 0.053054,
     "end_time": "2020-10-11T03:30:24.196571",
     "exception": false,
     "start_time": "2020-10-11T03:30:24.143517",
     "status": "completed"
    },
    "tags": []
   },
   "outputs": [
    {
     "data": {
      "text/plain": [
       "0        yes\n",
       "1        yes\n",
       "2        yes\n",
       "3        yes\n",
       "4        yes\n",
       "        ... \n",
       "11157     no\n",
       "11158     no\n",
       "11159     no\n",
       "11160     no\n",
       "11161     no\n",
       "Name: deposit, Length: 11162, dtype: object"
      ]
     },
     "execution_count": 6,
     "metadata": {},
     "output_type": "execute_result"
    }
   ],
   "source": [
    "df['deposit']"
   ]
  },
  {
   "cell_type": "markdown",
   "metadata": {
    "papermill": {
     "duration": 0.039093,
     "end_time": "2020-10-11T03:30:24.275467",
     "exception": false,
     "start_time": "2020-10-11T03:30:24.236374",
     "status": "completed"
    },
    "tags": []
   },
   "source": [
    "Целевой признак (target) - deposit. Задача обучения - классификация, так как имеет конечное количество ответов(\"да\" или \"нет\")"
   ]
  },
  {
   "cell_type": "markdown",
   "metadata": {
    "papermill": {
     "duration": 0.039093,
     "end_time": "2020-10-11T03:30:24.354157",
     "exception": false,
     "start_time": "2020-10-11T03:30:24.315064",
     "status": "completed"
    },
    "tags": []
   },
   "source": [
    "Сделайте необходимый препроцессинг данных (удаление лишних признаков, кодирование категориальных признаков, логарифмирование целевой переменной, масштабирование)"
   ]
  },
  {
   "cell_type": "markdown",
   "metadata": {
    "papermill": {
     "duration": 0.038875,
     "end_time": "2020-10-11T03:30:24.432502",
     "exception": false,
     "start_time": "2020-10-11T03:30:24.393627",
     "status": "completed"
    },
    "tags": []
   },
   "source": [
    "Преобразование категориальных признаков проведем путём кодирования с помощью map()"
   ]
  },
  {
   "cell_type": "markdown",
   "metadata": {
    "papermill": {
     "duration": 0.039294,
     "end_time": "2020-10-11T03:30:24.511409",
     "exception": false,
     "start_time": "2020-10-11T03:30:24.472115",
     "status": "completed"
    },
    "tags": []
   },
   "source": [
    "Для признаков имеющих больше двух параметров воспользуемся get_dummies()"
   ]
  },
  {
   "cell_type": "code",
   "execution_count": 7,
   "metadata": {
    "execution": {
     "iopub.execute_input": "2020-10-11T03:30:24.623842Z",
     "iopub.status.busy": "2020-10-11T03:30:24.599332Z",
     "iopub.status.idle": "2020-10-11T03:30:24.669601Z",
     "shell.execute_reply": "2020-10-11T03:30:24.668989Z"
    },
    "papermill": {
     "duration": 0.118622,
     "end_time": "2020-10-11T03:30:24.669728",
     "exception": false,
     "start_time": "2020-10-11T03:30:24.551106",
     "status": "completed"
    },
    "tags": []
   },
   "outputs": [
    {
     "data": {
      "text/html": [
       "<div>\n",
       "<style scoped>\n",
       "    .dataframe tbody tr th:only-of-type {\n",
       "        vertical-align: middle;\n",
       "    }\n",
       "\n",
       "    .dataframe tbody tr th {\n",
       "        vertical-align: top;\n",
       "    }\n",
       "\n",
       "    .dataframe thead th {\n",
       "        text-align: right;\n",
       "    }\n",
       "</style>\n",
       "<table border=\"1\" class=\"dataframe\">\n",
       "  <thead>\n",
       "    <tr style=\"text-align: right;\">\n",
       "      <th></th>\n",
       "      <th>0</th>\n",
       "      <th>1</th>\n",
       "      <th>2</th>\n",
       "      <th>3</th>\n",
       "      <th>4</th>\n",
       "    </tr>\n",
       "  </thead>\n",
       "  <tbody>\n",
       "    <tr>\n",
       "      <th>age</th>\n",
       "      <td>59</td>\n",
       "      <td>56</td>\n",
       "      <td>41</td>\n",
       "      <td>55</td>\n",
       "      <td>54</td>\n",
       "    </tr>\n",
       "    <tr>\n",
       "      <th>job</th>\n",
       "      <td>admin.</td>\n",
       "      <td>admin.</td>\n",
       "      <td>technician</td>\n",
       "      <td>services</td>\n",
       "      <td>admin.</td>\n",
       "    </tr>\n",
       "    <tr>\n",
       "      <th>balance</th>\n",
       "      <td>2343</td>\n",
       "      <td>45</td>\n",
       "      <td>1270</td>\n",
       "      <td>2476</td>\n",
       "      <td>184</td>\n",
       "    </tr>\n",
       "    <tr>\n",
       "      <th>day</th>\n",
       "      <td>5</td>\n",
       "      <td>5</td>\n",
       "      <td>5</td>\n",
       "      <td>5</td>\n",
       "      <td>5</td>\n",
       "    </tr>\n",
       "    <tr>\n",
       "      <th>duration</th>\n",
       "      <td>1042</td>\n",
       "      <td>1467</td>\n",
       "      <td>1389</td>\n",
       "      <td>579</td>\n",
       "      <td>673</td>\n",
       "    </tr>\n",
       "    <tr>\n",
       "      <th>campaign</th>\n",
       "      <td>1</td>\n",
       "      <td>1</td>\n",
       "      <td>1</td>\n",
       "      <td>1</td>\n",
       "      <td>2</td>\n",
       "    </tr>\n",
       "    <tr>\n",
       "      <th>pdays</th>\n",
       "      <td>-1</td>\n",
       "      <td>-1</td>\n",
       "      <td>-1</td>\n",
       "      <td>-1</td>\n",
       "      <td>-1</td>\n",
       "    </tr>\n",
       "    <tr>\n",
       "      <th>previous</th>\n",
       "      <td>0</td>\n",
       "      <td>0</td>\n",
       "      <td>0</td>\n",
       "      <td>0</td>\n",
       "      <td>0</td>\n",
       "    </tr>\n",
       "    <tr>\n",
       "      <th>deposit1</th>\n",
       "      <td>1</td>\n",
       "      <td>1</td>\n",
       "      <td>1</td>\n",
       "      <td>1</td>\n",
       "      <td>1</td>\n",
       "    </tr>\n",
       "    <tr>\n",
       "      <th>housing1</th>\n",
       "      <td>1</td>\n",
       "      <td>0</td>\n",
       "      <td>1</td>\n",
       "      <td>1</td>\n",
       "      <td>0</td>\n",
       "    </tr>\n",
       "    <tr>\n",
       "      <th>loan1</th>\n",
       "      <td>0</td>\n",
       "      <td>0</td>\n",
       "      <td>0</td>\n",
       "      <td>0</td>\n",
       "      <td>0</td>\n",
       "    </tr>\n",
       "    <tr>\n",
       "      <th>default1</th>\n",
       "      <td>0</td>\n",
       "      <td>0</td>\n",
       "      <td>0</td>\n",
       "      <td>0</td>\n",
       "      <td>0</td>\n",
       "    </tr>\n",
       "    <tr>\n",
       "      <th>contact1</th>\n",
       "      <td>0</td>\n",
       "      <td>0</td>\n",
       "      <td>0</td>\n",
       "      <td>0</td>\n",
       "      <td>0</td>\n",
       "    </tr>\n",
       "    <tr>\n",
       "      <th>month1</th>\n",
       "      <td>5</td>\n",
       "      <td>5</td>\n",
       "      <td>5</td>\n",
       "      <td>5</td>\n",
       "      <td>5</td>\n",
       "    </tr>\n",
       "    <tr>\n",
       "      <th>marital_divorced</th>\n",
       "      <td>0</td>\n",
       "      <td>0</td>\n",
       "      <td>0</td>\n",
       "      <td>0</td>\n",
       "      <td>0</td>\n",
       "    </tr>\n",
       "    <tr>\n",
       "      <th>marital_married</th>\n",
       "      <td>1</td>\n",
       "      <td>1</td>\n",
       "      <td>1</td>\n",
       "      <td>1</td>\n",
       "      <td>1</td>\n",
       "    </tr>\n",
       "    <tr>\n",
       "      <th>marital_single</th>\n",
       "      <td>0</td>\n",
       "      <td>0</td>\n",
       "      <td>0</td>\n",
       "      <td>0</td>\n",
       "      <td>0</td>\n",
       "    </tr>\n",
       "    <tr>\n",
       "      <th>poutcome_failure</th>\n",
       "      <td>0</td>\n",
       "      <td>0</td>\n",
       "      <td>0</td>\n",
       "      <td>0</td>\n",
       "      <td>0</td>\n",
       "    </tr>\n",
       "    <tr>\n",
       "      <th>poutcome_other</th>\n",
       "      <td>0</td>\n",
       "      <td>0</td>\n",
       "      <td>0</td>\n",
       "      <td>0</td>\n",
       "      <td>0</td>\n",
       "    </tr>\n",
       "    <tr>\n",
       "      <th>poutcome_success</th>\n",
       "      <td>0</td>\n",
       "      <td>0</td>\n",
       "      <td>0</td>\n",
       "      <td>0</td>\n",
       "      <td>0</td>\n",
       "    </tr>\n",
       "    <tr>\n",
       "      <th>poutcome_unknown</th>\n",
       "      <td>1</td>\n",
       "      <td>1</td>\n",
       "      <td>1</td>\n",
       "      <td>1</td>\n",
       "      <td>1</td>\n",
       "    </tr>\n",
       "    <tr>\n",
       "      <th>education_primary</th>\n",
       "      <td>0</td>\n",
       "      <td>0</td>\n",
       "      <td>0</td>\n",
       "      <td>0</td>\n",
       "      <td>0</td>\n",
       "    </tr>\n",
       "    <tr>\n",
       "      <th>education_secondary</th>\n",
       "      <td>1</td>\n",
       "      <td>1</td>\n",
       "      <td>1</td>\n",
       "      <td>1</td>\n",
       "      <td>0</td>\n",
       "    </tr>\n",
       "    <tr>\n",
       "      <th>education_tertiary</th>\n",
       "      <td>0</td>\n",
       "      <td>0</td>\n",
       "      <td>0</td>\n",
       "      <td>0</td>\n",
       "      <td>1</td>\n",
       "    </tr>\n",
       "    <tr>\n",
       "      <th>education_unknown</th>\n",
       "      <td>0</td>\n",
       "      <td>0</td>\n",
       "      <td>0</td>\n",
       "      <td>0</td>\n",
       "      <td>0</td>\n",
       "    </tr>\n",
       "  </tbody>\n",
       "</table>\n",
       "</div>"
      ],
      "text/plain": [
       "                          0       1           2         3       4\n",
       "age                      59      56          41        55      54\n",
       "job                  admin.  admin.  technician  services  admin.\n",
       "balance                2343      45        1270      2476     184\n",
       "day                       5       5           5         5       5\n",
       "duration               1042    1467        1389       579     673\n",
       "campaign                  1       1           1         1       2\n",
       "pdays                    -1      -1          -1        -1      -1\n",
       "previous                  0       0           0         0       0\n",
       "deposit1                  1       1           1         1       1\n",
       "housing1                  1       0           1         1       0\n",
       "loan1                     0       0           0         0       0\n",
       "default1                  0       0           0         0       0\n",
       "contact1                  0       0           0         0       0\n",
       "month1                    5       5           5         5       5\n",
       "marital_divorced          0       0           0         0       0\n",
       "marital_married           1       1           1         1       1\n",
       "marital_single            0       0           0         0       0\n",
       "poutcome_failure          0       0           0         0       0\n",
       "poutcome_other            0       0           0         0       0\n",
       "poutcome_success          0       0           0         0       0\n",
       "poutcome_unknown          1       1           1         1       1\n",
       "education_primary         0       0           0         0       0\n",
       "education_secondary       1       1           1         1       0\n",
       "education_tertiary        0       0           0         0       1\n",
       "education_unknown         0       0           0         0       0"
      ]
     },
     "execution_count": 7,
     "metadata": {},
     "output_type": "execute_result"
    }
   ],
   "source": [
    "new_values = {'yes':  1, 'no': 0} \n",
    "df['deposit1'] = df['deposit'].map(new_values)\n",
    "df['housing1'] = df['housing'].map(new_values)\n",
    "df['loan1'] = df['loan'].map(new_values)\n",
    "\n",
    "df['default1'] = df['default'].map(new_values)\n",
    "df['contact'].value_counts()\n",
    "\n",
    "new_values_1 = {'cellular':  1, 'unknown': 0,'telephone' : 1 } \n",
    "df['contact1'] = df['contact'].map(new_values_1)\n",
    "df['contact1'].value_counts()\n",
    "\n",
    "new_values_2 = {'jan': 1, 'feb': 2, 'mar': 3, 'apr': 4, 'may': 5, 'jun': 6, 'jul': 7, 'aug': 8, 'sep': 9, 'oct': 10, 'nov': 11, 'dec':12}\n",
    "df['month1'] = df['month'].map(new_values_2)\n",
    "\n",
    "df = df.drop(['deposit','housing','loan','default','contact', 'month'], axis = 1)\n",
    "\n",
    "df = pd.get_dummies(df, columns=['marital','poutcome','education'])\n",
    "df.head().T"
   ]
  },
  {
   "cell_type": "markdown",
   "metadata": {
    "papermill": {
     "duration": 0.039658,
     "end_time": "2020-10-11T03:30:24.749979",
     "exception": false,
     "start_time": "2020-10-11T03:30:24.710321",
     "status": "completed"
    },
    "tags": []
   },
   "source": [
    "1.2 Разбейте набор данных на обучающую и валидационную (тестовую) выборки с помощью метода train_test_split ."
   ]
  },
  {
   "cell_type": "code",
   "execution_count": 8,
   "metadata": {
    "execution": {
     "iopub.execute_input": "2020-10-11T03:30:24.842925Z",
     "iopub.status.busy": "2020-10-11T03:30:24.842076Z",
     "iopub.status.idle": "2020-10-11T03:30:24.986530Z",
     "shell.execute_reply": "2020-10-11T03:30:24.987098Z"
    },
    "papermill": {
     "duration": 0.192949,
     "end_time": "2020-10-11T03:30:24.987284",
     "exception": false,
     "start_time": "2020-10-11T03:30:24.794335",
     "status": "completed"
    },
    "tags": []
   },
   "outputs": [
    {
     "name": "stdout",
     "output_type": "stream",
     "text": [
      "<class 'pandas.core.frame.DataFrame'>\n",
      "RangeIndex: 11162 entries, 0 to 11161\n",
      "Data columns (total 23 columns):\n",
      " #   Column               Non-Null Count  Dtype\n",
      "---  ------               --------------  -----\n",
      " 0   age                  11162 non-null  int64\n",
      " 1   balance              11162 non-null  int64\n",
      " 2   day                  11162 non-null  int64\n",
      " 3   duration             11162 non-null  int64\n",
      " 4   campaign             11162 non-null  int64\n",
      " 5   pdays                11162 non-null  int64\n",
      " 6   previous             11162 non-null  int64\n",
      " 7   housing1             11162 non-null  int64\n",
      " 8   loan1                11162 non-null  int64\n",
      " 9   default1             11162 non-null  int64\n",
      " 10  contact1             11162 non-null  int64\n",
      " 11  month1               11162 non-null  int64\n",
      " 12  marital_divorced     11162 non-null  uint8\n",
      " 13  marital_married      11162 non-null  uint8\n",
      " 14  marital_single       11162 non-null  uint8\n",
      " 15  poutcome_failure     11162 non-null  uint8\n",
      " 16  poutcome_other       11162 non-null  uint8\n",
      " 17  poutcome_success     11162 non-null  uint8\n",
      " 18  poutcome_unknown     11162 non-null  uint8\n",
      " 19  education_primary    11162 non-null  uint8\n",
      " 20  education_secondary  11162 non-null  uint8\n",
      " 21  education_tertiary   11162 non-null  uint8\n",
      " 22  education_unknown    11162 non-null  uint8\n",
      "dtypes: int64(12), uint8(11)\n",
      "memory usage: 1.1 MB\n"
     ]
    }
   ],
   "source": [
    "from sklearn.model_selection import train_test_split\n",
    "\n",
    "X = df.drop('deposit1', axis=1).drop('job',axis = 1)\n",
    "y = df['deposit1'] \n",
    "\n",
    "\n",
    "# Разделение\n",
    "# test_size --- доля исходных данных, которую оставляем для валидации\n",
    "# random_state --- произвольное целое число, для воспроизводимости случайных результатов\n",
    "\n",
    "X_train, X_valid, y_train, y_valid = train_test_split(X, y, test_size=0.25, random_state=12)\n",
    "X.info()"
   ]
  },
  {
   "cell_type": "code",
   "execution_count": 9,
   "metadata": {
    "execution": {
     "iopub.execute_input": "2020-10-11T03:30:25.076678Z",
     "iopub.status.busy": "2020-10-11T03:30:25.075376Z",
     "iopub.status.idle": "2020-10-11T03:30:25.079896Z",
     "shell.execute_reply": "2020-10-11T03:30:25.080473Z"
    },
    "papermill": {
     "duration": 0.051266,
     "end_time": "2020-10-11T03:30:25.080625",
     "exception": false,
     "start_time": "2020-10-11T03:30:25.029359",
     "status": "completed"
    },
    "tags": []
   },
   "outputs": [
    {
     "name": "stdout",
     "output_type": "stream",
     "text": [
      "(8371, 23) (8371,)\n"
     ]
    }
   ],
   "source": [
    "print(X_train.shape, y_train.shape)"
   ]
  },
  {
   "cell_type": "code",
   "execution_count": 10,
   "metadata": {
    "execution": {
     "iopub.execute_input": "2020-10-11T03:30:25.171413Z",
     "iopub.status.busy": "2020-10-11T03:30:25.170374Z",
     "iopub.status.idle": "2020-10-11T03:30:25.174331Z",
     "shell.execute_reply": "2020-10-11T03:30:25.175133Z"
    },
    "papermill": {
     "duration": 0.052844,
     "end_time": "2020-10-11T03:30:25.175333",
     "exception": false,
     "start_time": "2020-10-11T03:30:25.122489",
     "status": "completed"
    },
    "tags": []
   },
   "outputs": [
    {
     "name": "stdout",
     "output_type": "stream",
     "text": [
      "(2791, 23) (2791,)\n"
     ]
    }
   ],
   "source": [
    "print( X_valid.shape, y_valid.shape)"
   ]
  },
  {
   "cell_type": "markdown",
   "metadata": {
    "papermill": {
     "duration": 0.042035,
     "end_time": "2020-10-11T03:30:25.260968",
     "exception": false,
     "start_time": "2020-10-11T03:30:25.218933",
     "status": "completed"
    },
    "tags": []
   },
   "source": [
    "1.3 Обучите алгоритм классификации DecisionTreeClassifier. Оцените качество каждой модели на отложенной выборке с помощью accuracy_score."
   ]
  },
  {
   "cell_type": "code",
   "execution_count": 11,
   "metadata": {
    "execution": {
     "iopub.execute_input": "2020-10-11T03:30:25.353205Z",
     "iopub.status.busy": "2020-10-11T03:30:25.352258Z",
     "iopub.status.idle": "2020-10-11T03:30:25.564355Z",
     "shell.execute_reply": "2020-10-11T03:30:25.563303Z"
    },
    "papermill": {
     "duration": 0.261502,
     "end_time": "2020-10-11T03:30:25.564646",
     "exception": false,
     "start_time": "2020-10-11T03:30:25.303144",
     "status": "completed"
    },
    "tags": []
   },
   "outputs": [
    {
     "name": "stdout",
     "output_type": "stream",
     "text": [
      "Качество модели: 0.7567180222142601\n"
     ]
    }
   ],
   "source": [
    "from sklearn.tree import DecisionTreeClassifier\n",
    "from sklearn.metrics import accuracy_score\n",
    "\n",
    "tree = DecisionTreeClassifier(max_depth=3, random_state=2019)\n",
    "tree.fit(X_train, y_train)\n",
    "y_pred = tree.predict(X_valid)\n",
    "print('Качество модели:', accuracy_score(y_pred, y_valid))"
   ]
  },
  {
   "cell_type": "markdown",
   "metadata": {
    "papermill": {
     "duration": 0.04294,
     "end_time": "2020-10-11T03:30:25.651325",
     "exception": false,
     "start_time": "2020-10-11T03:30:25.608385",
     "status": "completed"
    },
    "tags": []
   },
   "source": [
    "2. Настройка гиперпараметров дерева\n"
   ]
  },
  {
   "cell_type": "markdown",
   "metadata": {
    "papermill": {
     "duration": 0.04251,
     "end_time": "2020-10-11T03:30:25.736456",
     "exception": false,
     "start_time": "2020-10-11T03:30:25.693946",
     "status": "completed"
    },
    "tags": []
   },
   "source": [
    "2.1 Создайте генератор разбиений, помешивающий выборку перед созданием блоков. Число блоков равно 5."
   ]
  },
  {
   "cell_type": "code",
   "execution_count": 12,
   "metadata": {
    "execution": {
     "iopub.execute_input": "2020-10-11T03:30:25.831337Z",
     "iopub.status.busy": "2020-10-11T03:30:25.830389Z",
     "iopub.status.idle": "2020-10-11T03:30:25.977270Z",
     "shell.execute_reply": "2020-10-11T03:30:25.976493Z"
    },
    "papermill": {
     "duration": 0.197707,
     "end_time": "2020-10-11T03:30:25.977394",
     "exception": false,
     "start_time": "2020-10-11T03:30:25.779687",
     "status": "completed"
    },
    "tags": []
   },
   "outputs": [
    {
     "name": "stdout",
     "output_type": "stream",
     "text": [
      "Массив значений метрики: [0.76085983 0.77966861 0.75492832 0.77912186 0.77060932]\n"
     ]
    }
   ],
   "source": [
    "from sklearn.model_selection import KFold\n",
    "from sklearn.model_selection import cross_val_score\n",
    "\n",
    "kf = KFold(n_splits=5, shuffle=True, random_state=42) # n_splits играет роль K\n",
    "scores = cross_val_score(tree, X, y, cv=kf, scoring='accuracy')\n",
    "print('Массив значений метрики:', scores)"
   ]
  },
  {
   "cell_type": "markdown",
   "metadata": {
    "papermill": {
     "duration": 0.043207,
     "end_time": "2020-10-11T03:30:26.064834",
     "exception": false,
     "start_time": "2020-10-11T03:30:26.021627",
     "status": "completed"
    },
    "tags": []
   },
   "source": [
    "2.2 Осуществите кросс-валидацию модели для подбора гиперпараметров. Используйте GridSearchCV. Интервалы изменения гиперпараметров задайте самостоятельно.\n"
   ]
  },
  {
   "cell_type": "code",
   "execution_count": 13,
   "metadata": {
    "execution": {
     "iopub.execute_input": "2020-10-11T03:30:26.164196Z",
     "iopub.status.busy": "2020-10-11T03:30:26.162962Z",
     "iopub.status.idle": "2020-10-11T03:30:27.688261Z",
     "shell.execute_reply": "2020-10-11T03:30:27.687125Z"
    },
    "papermill": {
     "duration": 1.578958,
     "end_time": "2020-10-11T03:30:27.688407",
     "exception": false,
     "start_time": "2020-10-11T03:30:26.109449",
     "status": "completed"
    },
    "tags": []
   },
   "outputs": [
    {
     "name": "stdout",
     "output_type": "stream",
     "text": [
      "9\n"
     ]
    }
   ],
   "source": [
    "# Кросс-валидация и подбор гиперпараметров\n",
    "from sklearn.model_selection import GridSearchCV\n",
    "\n",
    "tree_params_depth = {'max_depth': np.arange(2, 11)}\n",
    "\n",
    "tree_grid_depth = GridSearchCV(tree, tree_params_depth, cv=5, scoring='accuracy') # кросс-валидация по 5 блокам\n",
    "tree_grid_depth.fit(X_train, y_train)\n",
    "tree_grid_depth.best_params_\n",
    "m_depth = tree_grid_depth.best_params_['max_depth']\n",
    "print(m_depth)"
   ]
  },
  {
   "cell_type": "code",
   "execution_count": 14,
   "metadata": {
    "execution": {
     "iopub.execute_input": "2020-10-11T03:30:27.786195Z",
     "iopub.status.busy": "2020-10-11T03:30:27.784716Z",
     "iopub.status.idle": "2020-10-11T03:30:31.890987Z",
     "shell.execute_reply": "2020-10-11T03:30:31.890239Z"
    },
    "papermill": {
     "duration": 4.158042,
     "end_time": "2020-10-11T03:30:31.891114",
     "exception": false,
     "start_time": "2020-10-11T03:30:27.733072",
     "status": "completed"
    },
    "tags": []
   },
   "outputs": [
    {
     "name": "stdout",
     "output_type": "stream",
     "text": [
      "20\n"
     ]
    }
   ],
   "source": [
    "tree_params_split = {'min_samples_split': np.arange(2,21)}\n",
    "\n",
    "tree = DecisionTreeClassifier(max_depth = m_depth)\n",
    "tree_grid_samples_split = GridSearchCV(tree, tree_params_split, cv=5, scoring='accuracy')\n",
    "tree_grid_samples_split.fit(X_train, y_train)\n",
    "tree_grid_samples_split.best_params_\n",
    "m_split = tree_grid_samples_split.best_params_['min_samples_split']\n",
    "print(m_split)"
   ]
  },
  {
   "cell_type": "code",
   "execution_count": 15,
   "metadata": {
    "execution": {
     "iopub.execute_input": "2020-10-11T03:30:31.988099Z",
     "iopub.status.busy": "2020-10-11T03:30:31.987228Z",
     "iopub.status.idle": "2020-10-11T03:30:35.926427Z",
     "shell.execute_reply": "2020-10-11T03:30:35.925480Z"
    },
    "papermill": {
     "duration": 3.991023,
     "end_time": "2020-10-11T03:30:35.926571",
     "exception": false,
     "start_time": "2020-10-11T03:30:31.935548",
     "status": "completed"
    },
    "tags": []
   },
   "outputs": [
    {
     "name": "stdout",
     "output_type": "stream",
     "text": [
      "15\n"
     ]
    }
   ],
   "source": [
    "tree_params_leaf = {'min_samples_leaf':np.arange(2,21)}\n",
    "\n",
    "tree = DecisionTreeClassifier(max_depth = m_depth, min_samples_split = m_split)\n",
    "tree_grid_samples_leaf = GridSearchCV(tree, tree_params_leaf, cv=5, scoring='accuracy')\n",
    "tree_grid_samples_leaf.fit(X_train, y_train)\n",
    "tree_grid_samples_leaf.best_params_\n",
    "m_leaf = tree_grid_samples_leaf.best_params_['min_samples_leaf']\n",
    "print(m_leaf)"
   ]
  },
  {
   "cell_type": "code",
   "execution_count": 16,
   "metadata": {
    "execution": {
     "iopub.execute_input": "2020-10-11T03:30:36.029426Z",
     "iopub.status.busy": "2020-10-11T03:30:36.028527Z",
     "iopub.status.idle": "2020-10-11T03:30:38.478890Z",
     "shell.execute_reply": "2020-10-11T03:30:38.479509Z"
    },
    "papermill": {
     "duration": 2.506714,
     "end_time": "2020-10-11T03:30:38.479666",
     "exception": false,
     "start_time": "2020-10-11T03:30:35.972952",
     "status": "completed"
    },
    "tags": []
   },
   "outputs": [
    {
     "name": "stdout",
     "output_type": "stream",
     "text": [
      "19\n"
     ]
    }
   ],
   "source": [
    "tree_params_features = {'max_features':np.arange(2,21)}\n",
    "\n",
    "tree = DecisionTreeClassifier(max_depth = m_depth, min_samples_split = m_split, min_samples_leaf = m_leaf)\n",
    "tree_grid_features = GridSearchCV(tree, tree_params_features, cv=5, scoring='accuracy')\n",
    "tree_grid_features.fit(X_train, y_train)\n",
    "tree_grid_features.best_params_\n",
    "m_features = tree_grid_features.best_params_['max_features']\n",
    "print(m_features)"
   ]
  },
  {
   "cell_type": "markdown",
   "metadata": {
    "papermill": {
     "duration": 0.045634,
     "end_time": "2020-10-11T03:30:38.571758",
     "exception": false,
     "start_time": "2020-10-11T03:30:38.526124",
     "status": "completed"
    },
    "tags": []
   },
   "source": [
    "2.3 Постройте валидационные кривые. Сделайте выводы."
   ]
  },
  {
   "cell_type": "code",
   "execution_count": 17,
   "metadata": {
    "execution": {
     "iopub.execute_input": "2020-10-11T03:30:38.678479Z",
     "iopub.status.busy": "2020-10-11T03:30:38.677607Z",
     "iopub.status.idle": "2020-10-11T03:30:39.401679Z",
     "shell.execute_reply": "2020-10-11T03:30:39.402299Z"
    },
    "papermill": {
     "duration": 0.784261,
     "end_time": "2020-10-11T03:30:39.402458",
     "exception": false,
     "start_time": "2020-10-11T03:30:38.618197",
     "status": "completed"
    },
    "tags": []
   },
   "outputs": [
    {
     "data": {
      "image/png": "[encoded data removed]",
      "text/plain": [
       "<Figure size 720x720 with 4 Axes>"
      ]
     },
     "metadata": {
      "needs_background": "light"
     },
     "output_type": "display_data"
    }
   ],
   "source": [
    "# Валидационная кривая\n",
    "import matplotlib.pyplot as plt\n",
    "\n",
    "fig, ax = plt.subplots(2, 2, figsize = (10,10))\n",
    "\n",
    "ax[0, 0].set_xlabel('max_depth')\n",
    "ax[0, 0].set_ylabel('accuracy score')\n",
    "ax[0, 0].plot(tree_params_depth['max_depth'], tree_grid_depth.cv_results_['mean_test_score']);\n",
    "\n",
    "ax[0, 1].set_xlabel('min_samples_split')\n",
    "ax[0, 1].set_ylabel('accuracy score')\n",
    "ax[0, 1].plot(tree_params_split['min_samples_split'], tree_grid_samples_split.cv_results_['mean_test_score']);\n",
    "\n",
    "ax[1, 0].set_xlabel('min_samples_leaf')\n",
    "ax[1, 0].set_ylabel('accuracy score')\n",
    "ax[1, 0].plot(tree_params_leaf['min_samples_leaf'], tree_grid_samples_leaf.cv_results_['mean_test_score']);\n",
    "\n",
    "ax[1, 1].set_xlabel('max_features')\n",
    "ax[1, 1].set_ylabel('accuracy score')\n",
    "ax[1, 1].plot(tree_params_features['max_features'], tree_grid_features.cv_results_['mean_test_score']);\n"
   ]
  },
  {
   "cell_type": "markdown",
   "metadata": {
    "papermill": {
     "duration": 0.04771,
     "end_time": "2020-10-11T03:30:39.498409",
     "exception": false,
     "start_time": "2020-10-11T03:30:39.450699",
     "status": "completed"
    },
    "tags": []
   },
   "source": [
    "Вывод: набор гиперпараметров хороший, но не лучший(не удалось подобрать все 4 гиперпараметра одновременно)"
   ]
  },
  {
   "cell_type": "markdown",
   "metadata": {
    "papermill": {
     "duration": 0.048487,
     "end_time": "2020-10-11T03:30:39.594931",
     "exception": false,
     "start_time": "2020-10-11T03:30:39.546444",
     "status": "completed"
    },
    "tags": []
   },
   "source": [
    "2.4 Постройте графически полученное дерево. Оцените важность признаков."
   ]
  },
  {
   "cell_type": "code",
   "execution_count": 18,
   "metadata": {
    "execution": {
     "iopub.execute_input": "2020-10-11T03:30:39.705661Z",
     "iopub.status.busy": "2020-10-11T03:30:39.704260Z",
     "iopub.status.idle": "2020-10-11T03:30:39.751262Z",
     "shell.execute_reply": "2020-10-11T03:30:39.751943Z"
    },
    "papermill": {
     "duration": 0.108701,
     "end_time": "2020-10-11T03:30:39.752141",
     "exception": false,
     "start_time": "2020-10-11T03:30:39.643440",
     "status": "completed"
    },
    "tags": []
   },
   "outputs": [
    {
     "data": {
      "text/plain": [
       "DecisionTreeClassifier(max_depth=9, max_features=19, min_samples_leaf=15,\n",
       "                       min_samples_split=20, random_state=19)"
      ]
     },
     "execution_count": 18,
     "metadata": {},
     "output_type": "execute_result"
    }
   ],
   "source": [
    "tree = DecisionTreeClassifier(max_depth = m_depth, min_samples_split = m_split, min_samples_leaf = m_leaf, max_features = m_features, random_state=19)\n",
    "tree.fit(X_train, y_train)"
   ]
  },
  {
   "cell_type": "code",
   "execution_count": 19,
   "metadata": {
    "execution": {
     "iopub.execute_input": "2020-10-11T03:30:39.868800Z",
     "iopub.status.busy": "2020-10-11T03:30:39.863967Z",
     "iopub.status.idle": "2020-10-11T03:30:39.900889Z",
     "shell.execute_reply": "2020-10-11T03:30:39.901825Z"
    },
    "papermill": {
     "duration": 0.101083,
     "end_time": "2020-10-11T03:30:39.902096",
     "exception": false,
     "start_time": "2020-10-11T03:30:39.801013",
     "status": "completed"
    },
    "tags": []
   },
   "outputs": [
    {
     "name": "stdout",
     "output_type": "stream",
     "text": [
      "digraph Tree {\n",
      "node [shape=box] ;\n",
      "0 [label=\"duration <= 206.5\\ngini = 0.499\\nsamples = 8371\\nvalue = [4394, 3977]\"] ;\n",
      "1 [label=\"pdays <= 9.5\\ngini = 0.327\\nsamples = 3424\\nvalue = [2719, 705]\"] ;\n",
      "0 -> 1 [labeldistance=2.5, labelangle=45, headlabel=\"True\"] ;\n",
      "2 [label=\"month1 <= 4.5\\ngini = 0.245\\nsamples = 2660\\nvalue = [2279, 381]\"] ;\n",
      "1 -> 2 ;\n",
      "3 [label=\"day <= 27.5\\ngini = 0.492\\nsamples = 445\\nvalue = [251, 194]\"] ;\n",
      "2 -> 3 ;\n",
      "4 [label=\"duration <= 77.5\\ngini = 0.499\\nsamples = 357\\nvalue = [172, 185]\"] ;\n",
      "3 -> 4 ;\n",
      "5 [label=\"education_tertiary <= 0.5\\ngini = 0.15\\nsamples = 61\\nvalue = [56, 5]\"] ;\n",
      "4 -> 5 ;\n",
      "6 [label=\"gini = 0.0\\nsamples = 38\\nvalue = [38, 0]\"] ;\n",
      "5 -> 6 ;\n",
      "7 [label=\"gini = 0.34\\nsamples = 23\\nvalue = [18, 5]\"] ;\n",
      "5 -> 7 ;\n",
      "8 [label=\"day <= 6.5\\ngini = 0.477\\nsamples = 296\\nvalue = [116, 180]\"] ;\n",
      "4 -> 8 ;\n",
      "9 [label=\"month1 <= 2.5\\ngini = 0.469\\nsamples = 96\\nvalue = [60, 36]\"] ;\n",
      "8 -> 9 ;\n",
      "10 [label=\"education_secondary <= 0.5\\ngini = 0.356\\nsamples = 69\\nvalue = [53, 16]\"] ;\n",
      "9 -> 10 ;\n",
      "11 [label=\"balance <= 611.0\\ngini = 0.472\\nsamples = 34\\nvalue = [21, 13]\"] ;\n",
      "10 -> 11 ;\n",
      "12 [label=\"gini = 0.36\\nsamples = 17\\nvalue = [13, 4]\"] ;\n",
      "11 -> 12 ;\n",
      "13 [label=\"gini = 0.498\\nsamples = 17\\nvalue = [8, 9]\"] ;\n",
      "11 -> 13 ;\n",
      "14 [label=\"age <= 34.5\\ngini = 0.157\\nsamples = 35\\nvalue = [32, 3]\"] ;\n",
      "10 -> 14 ;\n",
      "15 [label=\"gini = 0.278\\nsamples = 18\\nvalue = [15, 3]\"] ;\n",
      "14 -> 15 ;\n",
      "16 [label=\"gini = 0.0\\nsamples = 17\\nvalue = [17, 0]\"] ;\n",
      "14 -> 16 ;\n",
      "17 [label=\"gini = 0.384\\nsamples = 27\\nvalue = [7, 20]\"] ;\n",
      "9 -> 17 ;\n",
      "18 [label=\"housing1 <= 0.5\\ngini = 0.403\\nsamples = 200\\nvalue = [56, 144]\"] ;\n",
      "8 -> 18 ;\n",
      "19 [label=\"balance <= 862.5\\ngini = 0.265\\nsamples = 146\\nvalue = [23, 123]\"] ;\n",
      "18 -> 19 ;\n",
      "20 [label=\"balance <= 455.0\\ngini = 0.358\\nsamples = 77\\nvalue = [18, 59]\"] ;\n",
      "19 -> 20 ;\n",
      "21 [label=\"gini = 0.298\\nsamples = 55\\nvalue = [10, 45]\"] ;\n",
      "20 -> 21 ;\n",
      "22 [label=\"gini = 0.463\\nsamples = 22\\nvalue = [8, 14]\"] ;\n",
      "20 -> 22 ;\n",
      "23 [label=\"age <= 50.5\\ngini = 0.134\\nsamples = 69\\nvalue = [5, 64]\"] ;\n",
      "19 -> 23 ;\n",
      "24 [label=\"gini = 0.043\\nsamples = 46\\nvalue = [1, 45]\"] ;\n",
      "23 -> 24 ;\n",
      "25 [label=\"gini = 0.287\\nsamples = 23\\nvalue = [4, 19]\"] ;\n",
      "23 -> 25 ;\n",
      "26 [label=\"month1 <= 3.5\\ngini = 0.475\\nsamples = 54\\nvalue = [33, 21]\"] ;\n",
      "18 -> 26 ;\n",
      "27 [label=\"gini = 0.291\\nsamples = 17\\nvalue = [3, 14]\"] ;\n",
      "26 -> 27 ;\n",
      "28 [label=\"duration <= 147.5\\ngini = 0.307\\nsamples = 37\\nvalue = [30, 7]\"] ;\n",
      "26 -> 28 ;\n",
      "29 [label=\"gini = 0.408\\nsamples = 21\\nvalue = [15, 6]\"] ;\n",
      "28 -> 29 ;\n",
      "30 [label=\"gini = 0.117\\nsamples = 16\\nvalue = [15, 1]\"] ;\n",
      "28 -> 30 ;\n",
      "31 [label=\"month1 <= 2.0\\ngini = 0.184\\nsamples = 88\\nvalue = [79, 9]\"] ;\n",
      "3 -> 31 ;\n",
      "32 [label=\"balance <= 1274.5\\ngini = 0.105\\nsamples = 72\\nvalue = [68, 4]\"] ;\n",
      "31 -> 32 ;\n",
      "33 [label=\"balance <= 69.0\\ngini = 0.034\\nsamples = 57\\nvalue = [56, 1]\"] ;\n",
      "32 -> 33 ;\n",
      "34 [label=\"gini = 0.124\\nsamples = 15\\nvalue = [14, 1]\"] ;\n",
      "33 -> 34 ;\n",
      "35 [label=\"gini = 0.0\\nsamples = 42\\nvalue = [42, 0]\"] ;\n",
      "33 -> 35 ;\n",
      "36 [label=\"gini = 0.32\\nsamples = 15\\nvalue = [12, 3]\"] ;\n",
      "32 -> 36 ;\n",
      "37 [label=\"gini = 0.43\\nsamples = 16\\nvalue = [11, 5]\"] ;\n",
      "31 -> 37 ;\n",
      "38 [label=\"age <= 60.5\\ngini = 0.155\\nsamples = 2215\\nvalue = [2028, 187]\"] ;\n",
      "2 -> 38 ;\n",
      "39 [label=\"duration <= 123.5\\ngini = 0.138\\nsamples = 2171\\nvalue = [2009, 162]\"] ;\n",
      "38 -> 39 ;\n",
      "40 [label=\"day <= 4.5\\ngini = 0.048\\nsamples = 1247\\nvalue = [1216, 31]\"] ;\n",
      "39 -> 40 ;\n",
      "41 [label=\"contact1 <= 0.5\\ngini = 0.225\\nsamples = 62\\nvalue = [54, 8]\"] ;\n",
      "40 -> 41 ;\n",
      "42 [label=\"gini = 0.0\\nsamples = 37\\nvalue = [37, 0]\"] ;\n",
      "41 -> 42 ;\n",
      "43 [label=\"gini = 0.435\\nsamples = 25\\nvalue = [17, 8]\"] ;\n",
      "41 -> 43 ;\n",
      "44 [label=\"age <= 24.5\\ngini = 0.038\\nsamples = 1185\\nvalue = [1162, 23]\"] ;\n",
      "40 -> 44 ;\n",
      "45 [label=\"gini = 0.291\\nsamples = 17\\nvalue = [14, 3]\"] ;\n",
      "44 -> 45 ;\n",
      "46 [label=\"balance <= 180.5\\ngini = 0.034\\nsamples = 1168\\nvalue = [1148, 20]\"] ;\n",
      "44 -> 46 ;\n",
      "47 [label=\"gini = 0.0\\nsamples = 454\\nvalue = [454, 0]\"] ;\n",
      "46 -> 47 ;\n",
      "48 [label=\"month1 <= 8.5\\ngini = 0.054\\nsamples = 714\\nvalue = [694, 20]\"] ;\n",
      "46 -> 48 ;\n",
      "49 [label=\"gini = 0.035\\nsamples = 616\\nvalue = [605, 11]\"] ;\n",
      "48 -> 49 ;\n",
      "50 [label=\"gini = 0.167\\nsamples = 98\\nvalue = [89, 9]\"] ;\n",
      "48 -> 50 ;\n",
      "51 [label=\"month1 <= 8.5\\ngini = 0.243\\nsamples = 924\\nvalue = [793, 131]\"] ;\n",
      "39 -> 51 ;\n",
      "52 [label=\"day <= 4.5\\ngini = 0.182\\nsamples = 802\\nvalue = [721, 81]\"] ;\n",
      "51 -> 52 ;\n",
      "53 [label=\"contact1 <= 0.5\\ngini = 0.484\\nsamples = 68\\nvalue = [40, 28]\"] ;\n",
      "52 -> 53 ;\n",
      "54 [label=\"gini = 0.069\\nsamples = 28\\nvalue = [27, 1]\"] ;\n",
      "53 -> 54 ;\n",
      "55 [label=\"duration <= 163.0\\ngini = 0.439\\nsamples = 40\\nvalue = [13, 27]\"] ;\n",
      "53 -> 55 ;\n",
      "56 [label=\"gini = 0.492\\nsamples = 16\\nvalue = [9, 7]\"] ;\n",
      "55 -> 56 ;\n",
      "57 [label=\"gini = 0.278\\nsamples = 24\\nvalue = [4, 20]\"] ;\n",
      "55 -> 57 ;\n",
      "58 [label=\"age <= 25.5\\ngini = 0.134\\nsamples = 734\\nvalue = [681, 53]\"] ;\n",
      "52 -> 58 ;\n",
      "59 [label=\"month1 <= 5.5\\ngini = 0.487\\nsamples = 31\\nvalue = [18, 13]\"] ;\n",
      "58 -> 59 ;\n",
      "60 [label=\"gini = 0.391\\nsamples = 15\\nvalue = [11, 4]\"] ;\n",
      "59 -> 60 ;\n",
      "61 [label=\"gini = 0.492\\nsamples = 16\\nvalue = [7, 9]\"] ;\n",
      "59 -> 61 ;\n",
      "62 [label=\"housing1 <= 0.5\\ngini = 0.107\\nsamples = 703\\nvalue = [663, 40]\"] ;\n",
      "58 -> 62 ;\n",
      "63 [label=\"gini = 0.203\\nsamples = 305\\nvalue = [270, 35]\"] ;\n",
      "62 -> 63 ;\n",
      "64 [label=\"gini = 0.025\\nsamples = 398\\nvalue = [393, 5]\"] ;\n",
      "62 -> 64 ;\n",
      "65 [label=\"day <= 16.5\\ngini = 0.484\\nsamples = 122\\nvalue = [72, 50]\"] ;\n",
      "51 -> 65 ;\n",
      "66 [label=\"education_secondary <= 0.5\\ngini = 0.124\\nsamples = 30\\nvalue = [2, 28]\"] ;\n",
      "65 -> 66 ;\n",
      "67 [label=\"gini = 0.231\\nsamples = 15\\nvalue = [2, 13]\"] ;\n",
      "66 -> 67 ;\n",
      "68 [label=\"gini = 0.0\\nsamples = 15\\nvalue = [0, 15]\"] ;\n",
      "66 -> 68 ;\n",
      "69 [label=\"day <= 21.5\\ngini = 0.364\\nsamples = 92\\nvalue = [70, 22]\"] ;\n",
      "65 -> 69 ;\n",
      "70 [label=\"age <= 35.5\\ngini = 0.029\\nsamples = 67\\nvalue = [66, 1]\"] ;\n",
      "69 -> 70 ;\n",
      "71 [label=\"gini = 0.087\\nsamples = 22\\nvalue = [21, 1]\"] ;\n",
      "70 -> 71 ;\n",
      "72 [label=\"gini = 0.0\\nsamples = 45\\nvalue = [45, 0]\"] ;\n",
      "70 -> 72 ;\n",
      "73 [label=\"gini = 0.269\\nsamples = 25\\nvalue = [4, 21]\"] ;\n",
      "69 -> 73 ;\n",
      "74 [label=\"day <= 15.5\\ngini = 0.491\\nsamples = 44\\nvalue = [19, 25]\"] ;\n",
      "38 -> 74 ;\n",
      "75 [label=\"gini = 0.444\\nsamples = 21\\nvalue = [14, 7]\"] ;\n",
      "74 -> 75 ;\n",
      "76 [label=\"gini = 0.34\\nsamples = 23\\nvalue = [5, 18]\"] ;\n",
      "74 -> 76 ;\n",
      "77 [label=\"poutcome_success <= 0.5\\ngini = 0.488\\nsamples = 764\\nvalue = [440, 324]\"] ;\n",
      "1 -> 77 ;\n",
      "78 [label=\"housing1 <= 0.5\\ngini = 0.384\\nsamples = 536\\nvalue = [397, 139]\"] ;\n",
      "77 -> 78 ;\n",
      "79 [label=\"duration <= 113.5\\ngini = 0.494\\nsamples = 199\\nvalue = [110, 89]\"] ;\n",
      "78 -> 79 ;\n",
      "80 [label=\"duration <= 62.0\\ngini = 0.314\\nsamples = 77\\nvalue = [62, 15]\"] ;\n",
      "79 -> 80 ;\n",
      "81 [label=\"gini = 0.0\\nsamples = 22\\nvalue = [22, 0]\"] ;\n",
      "80 -> 81 ;\n",
      "82 [label=\"pdays <= 179.5\\ngini = 0.397\\nsamples = 55\\nvalue = [40, 15]\"] ;\n",
      "80 -> 82 ;\n",
      "83 [label=\"gini = 0.185\\nsamples = 29\\nvalue = [26, 3]\"] ;\n",
      "82 -> 83 ;\n",
      "84 [label=\"gini = 0.497\\nsamples = 26\\nvalue = [14, 12]\"] ;\n",
      "82 -> 84 ;\n",
      "85 [label=\"balance <= 116.5\\ngini = 0.477\\nsamples = 122\\nvalue = [48, 74]\"] ;\n",
      "79 -> 85 ;\n",
      "86 [label=\"gini = 0.423\\nsamples = 23\\nvalue = [16, 7]\"] ;\n",
      "85 -> 86 ;\n",
      "87 [label=\"age <= 30.5\\ngini = 0.438\\nsamples = 99\\nvalue = [32, 67]\"] ;\n",
      "85 -> 87 ;\n",
      "88 [label=\"gini = 0.208\\nsamples = 17\\nvalue = [2, 15]\"] ;\n",
      "87 -> 88 ;\n",
      "89 [label=\"poutcome_other <= 0.5\\ngini = 0.464\\nsamples = 82\\nvalue = [30, 52]\"] ;\n",
      "87 -> 89 ;\n",
      "90 [label=\"marital_married <= 0.5\\ngini = 0.494\\nsamples = 56\\nvalue = [25, 31]\"] ;\n",
      "89 -> 90 ;\n",
      "91 [label=\"gini = 0.488\\nsamples = 19\\nvalue = [11, 8]\"] ;\n",
      "90 -> 91 ;\n",
      "92 [label=\"gini = 0.47\\nsamples = 37\\nvalue = [14, 23]\"] ;\n",
      "90 -> 92 ;\n",
      "93 [label=\"gini = 0.311\\nsamples = 26\\nvalue = [5, 21]\"] ;\n",
      "89 -> 93 ;\n",
      "94 [label=\"pdays <= 95.5\\ngini = 0.253\\nsamples = 337\\nvalue = [287, 50]\"] ;\n",
      "78 -> 94 ;\n",
      "95 [label=\"gini = 0.495\\nsamples = 29\\nvalue = [13, 16]\"] ;\n",
      "94 -> 95 ;\n",
      "96 [label=\"duration <= 104.5\\ngini = 0.196\\nsamples = 308\\nvalue = [274, 34]\"] ;\n",
      "94 -> 96 ;\n",
      "97 [label=\"pdays <= 367.0\\ngini = 0.065\\nsamples = 149\\nvalue = [144, 5]\"] ;\n",
      "96 -> 97 ;\n",
      "98 [label=\"pdays <= 201.0\\ngini = 0.029\\nsamples = 134\\nvalue = [132, 2]\"] ;\n",
      "97 -> 98 ;\n",
      "99 [label=\"day <= 17.5\\ngini = 0.083\\nsamples = 46\\nvalue = [44, 2]\"] ;\n",
      "98 -> 99 ;\n",
      "100 [label=\"gini = 0.208\\nsamples = 17\\nvalue = [15, 2]\"] ;\n",
      "99 -> 100 ;\n",
      "101 [label=\"gini = 0.0\\nsamples = 29\\nvalue = [29, 0]\"] ;\n",
      "99 -> 101 ;\n",
      "102 [label=\"gini = 0.0\\nsamples = 88\\nvalue = [88, 0]\"] ;\n",
      "98 -> 102 ;\n",
      "103 [label=\"gini = 0.32\\nsamples = 15\\nvalue = [12, 3]\"] ;\n",
      "97 -> 103 ;\n",
      "104 [label=\"balance <= 549.5\\ngini = 0.298\\nsamples = 159\\nvalue = [130, 29]\"] ;\n",
      "96 -> 104 ;\n",
      "105 [label=\"pdays <= 186.0\\ngini = 0.16\\nsamples = 80\\nvalue = [73, 7]\"] ;\n",
      "104 -> 105 ;\n",
      "106 [label=\"gini = 0.34\\nsamples = 23\\nvalue = [18, 5]\"] ;\n",
      "105 -> 106 ;\n",
      "107 [label=\"balance <= 240.5\\ngini = 0.068\\nsamples = 57\\nvalue = [55, 2]\"] ;\n",
      "105 -> 107 ;\n",
      "108 [label=\"gini = 0.0\\nsamples = 42\\nvalue = [42, 0]\"] ;\n",
      "107 -> 108 ;\n",
      "109 [label=\"gini = 0.231\\nsamples = 15\\nvalue = [13, 2]\"] ;\n",
      "107 -> 109 ;\n",
      "110 [label=\"day <= 12.5\\ngini = 0.402\\nsamples = 79\\nvalue = [57, 22]\"] ;\n",
      "104 -> 110 ;\n",
      "111 [label=\"balance <= 1475.0\\ngini = 0.478\\nsamples = 33\\nvalue = [20, 13]\"] ;\n",
      "110 -> 111 ;\n",
      "112 [label=\"gini = 0.484\\nsamples = 17\\nvalue = [7, 10]\"] ;\n",
      "111 -> 112 ;\n",
      "113 [label=\"gini = 0.305\\nsamples = 16\\nvalue = [13, 3]\"] ;\n",
      "111 -> 113 ;\n",
      "114 [label=\"marital_married <= 0.5\\ngini = 0.315\\nsamples = 46\\nvalue = [37, 9]\"] ;\n",
      "110 -> 114 ;\n",
      "115 [label=\"gini = 0.432\\nsamples = 19\\nvalue = [13, 6]\"] ;\n",
      "114 -> 115 ;\n",
      "116 [label=\"gini = 0.198\\nsamples = 27\\nvalue = [24, 3]\"] ;\n",
      "114 -> 116 ;\n",
      "117 [label=\"duration <= 119.5\\ngini = 0.306\\nsamples = 228\\nvalue = [43, 185]\"] ;\n",
      "77 -> 117 ;\n",
      "118 [label=\"duration <= 80.5\\ngini = 0.5\\nsamples = 53\\nvalue = [27, 26]\"] ;\n",
      "117 -> 118 ;\n",
      "119 [label=\"gini = 0.375\\nsamples = 16\\nvalue = [12, 4]\"] ;\n",
      "118 -> 119 ;\n",
      "120 [label=\"pdays <= 96.0\\ngini = 0.482\\nsamples = 37\\nvalue = [15, 22]\"] ;\n",
      "118 -> 120 ;\n",
      "121 [label=\"gini = 0.5\\nsamples = 16\\nvalue = [8, 8]\"] ;\n",
      "120 -> 121 ;\n",
      "122 [label=\"gini = 0.444\\nsamples = 21\\nvalue = [7, 14]\"] ;\n",
      "120 -> 122 ;\n",
      "123 [label=\"balance <= 382.0\\ngini = 0.166\\nsamples = 175\\nvalue = [16, 159]\"] ;\n",
      "117 -> 123 ;\n",
      "124 [label=\"gini = 0.0\\nsamples = 46\\nvalue = [0, 46]\"] ;\n",
      "123 -> 124 ;\n",
      "125 [label=\"duration <= 191.0\\ngini = 0.217\\nsamples = 129\\nvalue = [16, 113]\"] ;\n",
      "123 -> 125 ;\n",
      "126 [label=\"age <= 28.5\\ngini = 0.254\\nsamples = 107\\nvalue = [16, 91]\"] ;\n",
      "125 -> 126 ;\n",
      "127 [label=\"gini = 0.43\\nsamples = 16\\nvalue = [5, 11]\"] ;\n",
      "126 -> 127 ;\n",
      "128 [label=\"pdays <= 131.5\\ngini = 0.213\\nsamples = 91\\nvalue = [11, 80]\"] ;\n",
      "126 -> 128 ;\n",
      "129 [label=\"pdays <= 100.5\\ngini = 0.289\\nsamples = 57\\nvalue = [10, 47]\"] ;\n",
      "128 -> 129 ;\n",
      "130 [label=\"gini = 0.18\\nsamples = 40\\nvalue = [4, 36]\"] ;\n",
      "129 -> 130 ;\n",
      "131 [label=\"gini = 0.457\\nsamples = 17\\nvalue = [6, 11]\"] ;\n",
      "129 -> 131 ;\n",
      "132 [label=\"duration <= 167.5\\ngini = 0.057\\nsamples = 34\\nvalue = [1, 33]\"] ;\n",
      "128 -> 132 ;\n",
      "133 [label=\"gini = 0.124\\nsamples = 15\\nvalue = [1, 14]\"] ;\n",
      "132 -> 133 ;\n",
      "134 [label=\"gini = 0.0\\nsamples = 19\\nvalue = [0, 19]\"] ;\n",
      "132 -> 134 ;\n",
      "135 [label=\"gini = 0.0\\nsamples = 22\\nvalue = [0, 22]\"] ;\n",
      "125 -> 135 ;\n",
      "136 [label=\"duration <= 409.5\\ngini = 0.448\\nsamples = 4947\\nvalue = [1675, 3272]\"] ;\n",
      "0 -> 136 [labeldistance=2.5, labelangle=-45, headlabel=\"False\"] ;\n",
      "137 [label=\"contact1 <= 0.5\\ngini = 0.5\\nsamples = 2362\\nvalue = [1173, 1189]\"] ;\n",
      "136 -> 137 ;\n",
      "138 [label=\"month1 <= 6.5\\ngini = 0.11\\nsamples = 393\\nvalue = [370, 23]\"] ;\n",
      "137 -> 138 ;\n",
      "139 [label=\"duration <= 380.5\\ngini = 0.072\\nsamples = 377\\nvalue = [363, 14]\"] ;\n",
      "138 -> 139 ;\n",
      "140 [label=\"age <= 28.5\\ngini = 0.04\\nsamples = 343\\nvalue = [336, 7]\"] ;\n",
      "139 -> 140 ;\n",
      "141 [label=\"gini = 0.227\\nsamples = 23\\nvalue = [20, 3]\"] ;\n",
      "140 -> 141 ;\n",
      "142 [label=\"day <= 5.5\\ngini = 0.025\\nsamples = 320\\nvalue = [316, 4]\"] ;\n",
      "140 -> 142 ;\n",
      "143 [label=\"duration <= 261.0\\ngini = 0.149\\nsamples = 37\\nvalue = [34, 3]\"] ;\n",
      "142 -> 143 ;\n",
      "144 [label=\"gini = 0.305\\nsamples = 16\\nvalue = [13, 3]\"] ;\n",
      "143 -> 144 ;\n",
      "145 [label=\"gini = 0.0\\nsamples = 21\\nvalue = [21, 0]\"] ;\n",
      "143 -> 145 ;\n",
      "146 [label=\"duration <= 367.0\\ngini = 0.007\\nsamples = 283\\nvalue = [282, 1]\"] ;\n",
      "142 -> 146 ;\n",
      "147 [label=\"gini = 0.0\\nsamples = 264\\nvalue = [264, 0]\"] ;\n",
      "146 -> 147 ;\n",
      "148 [label=\"gini = 0.1\\nsamples = 19\\nvalue = [18, 1]\"] ;\n",
      "146 -> 148 ;\n",
      "149 [label=\"balance <= 498.0\\ngini = 0.327\\nsamples = 34\\nvalue = [27, 7]\"] ;\n",
      "139 -> 149 ;\n",
      "150 [label=\"gini = 0.188\\nsamples = 19\\nvalue = [17, 2]\"] ;\n",
      "149 -> 150 ;\n",
      "151 [label=\"gini = 0.444\\nsamples = 15\\nvalue = [10, 5]\"] ;\n",
      "149 -> 151 ;\n",
      "152 [label=\"gini = 0.492\\nsamples = 16\\nvalue = [7, 9]\"] ;\n",
      "138 -> 152 ;\n",
      "153 [label=\"poutcome_success <= 0.5\\ngini = 0.483\\nsamples = 1969\\nvalue = [803, 1166]\"] ;\n",
      "137 -> 153 ;\n",
      "154 [label=\"age <= 59.5\\ngini = 0.5\\nsamples = 1605\\nvalue = [784, 821]\"] ;\n",
      "153 -> 154 ;\n",
      "155 [label=\"housing1 <= 0.5\\ngini = 0.499\\nsamples = 1448\\nvalue = [761, 687]\"] ;\n",
      "154 -> 155 ;\n",
      "156 [label=\"age <= 25.5\\ngini = 0.486\\nsamples = 848\\nvalue = [354, 494]\"] ;\n",
      "155 -> 156 ;\n",
      "157 [label=\"day <= 8.5\\ngini = 0.193\\nsamples = 74\\nvalue = [8, 66]\"] ;\n",
      "156 -> 157 ;\n",
      "158 [label=\"gini = 0.401\\nsamples = 18\\nvalue = [5, 13]\"] ;\n",
      "157 -> 158 ;\n",
      "159 [label=\"balance <= 310.0\\ngini = 0.101\\nsamples = 56\\nvalue = [3, 53]\"] ;\n",
      "157 -> 159 ;\n",
      "160 [label=\"gini = 0.231\\nsamples = 15\\nvalue = [2, 13]\"] ;\n",
      "159 -> 160 ;\n",
      "161 [label=\"gini = 0.048\\nsamples = 41\\nvalue = [1, 40]\"] ;\n",
      "159 -> 161 ;\n",
      "162 [label=\"balance <= 61.0\\ngini = 0.494\\nsamples = 774\\nvalue = [346, 428]\"] ;\n",
      "156 -> 162 ;\n",
      "163 [label=\"month1 <= 8.5\\ngini = 0.387\\nsamples = 126\\nvalue = [93, 33]\"] ;\n",
      "162 -> 163 ;\n",
      "164 [label=\"gini = 0.315\\nsamples = 107\\nvalue = [86, 21]\"] ;\n",
      "163 -> 164 ;\n",
      "165 [label=\"gini = 0.465\\nsamples = 19\\nvalue = [7, 12]\"] ;\n",
      "163 -> 165 ;\n",
      "166 [label=\"month1 <= 6.5\\ngini = 0.476\\nsamples = 648\\nvalue = [253, 395]\"] ;\n",
      "162 -> 166 ;\n",
      "167 [label=\"gini = 0.38\\nsamples = 290\\nvalue = [74, 216]\"] ;\n",
      "166 -> 167 ;\n",
      "168 [label=\"gini = 0.5\\nsamples = 358\\nvalue = [179, 179]\"] ;\n",
      "166 -> 168 ;\n",
      "169 [label=\"pdays <= 370.5\\ngini = 0.436\\nsamples = 600\\nvalue = [407, 193]\"] ;\n",
      "155 -> 169 ;\n",
      "170 [label=\"day <= 4.5\\ngini = 0.419\\nsamples = 579\\nvalue = [406, 173]\"] ;\n",
      "169 -> 170 ;\n",
      "171 [label=\"month1 <= 2.5\\ngini = 0.472\\nsamples = 55\\nvalue = [21, 34]\"] ;\n",
      "170 -> 171 ;\n",
      "172 [label=\"gini = 0.32\\nsamples = 15\\nvalue = [12, 3]\"] ;\n",
      "171 -> 172 ;\n",
      "173 [label=\"gini = 0.349\\nsamples = 40\\nvalue = [9, 31]\"] ;\n",
      "171 -> 173 ;\n",
      "174 [label=\"day <= 21.5\\ngini = 0.39\\nsamples = 524\\nvalue = [385, 139]\"] ;\n",
      "170 -> 174 ;\n",
      "175 [label=\"gini = 0.346\\nsamples = 413\\nvalue = [321, 92]\"] ;\n",
      "174 -> 175 ;\n",
      "176 [label=\"gini = 0.488\\nsamples = 111\\nvalue = [64, 47]\"] ;\n",
      "174 -> 176 ;\n",
      "177 [label=\"gini = 0.091\\nsamples = 21\\nvalue = [1, 20]\"] ;\n",
      "169 -> 177 ;\n",
      "178 [label=\"balance <= 382.0\\ngini = 0.25\\nsamples = 157\\nvalue = [23, 134]\"] ;\n",
      "154 -> 178 ;\n",
      "179 [label=\"age <= 60.5\\ngini = 0.433\\nsamples = 41\\nvalue = [13, 28]\"] ;\n",
      "178 -> 179 ;\n",
      "180 [label=\"gini = 0.498\\nsamples = 15\\nvalue = [8, 7]\"] ;\n",
      "179 -> 180 ;\n",
      "181 [label=\"gini = 0.311\\nsamples = 26\\nvalue = [5, 21]\"] ;\n",
      "179 -> 181 ;\n",
      "182 [label=\"balance <= 5407.0\\ngini = 0.158\\nsamples = 116\\nvalue = [10, 106]\"] ;\n",
      "178 -> 182 ;\n",
      "183 [label=\"duration <= 316.0\\ngini = 0.115\\nsamples = 98\\nvalue = [6, 92]\"] ;\n",
      "182 -> 183 ;\n",
      "184 [label=\"balance <= 963.5\\ngini = 0.032\\nsamples = 61\\nvalue = [1, 60]\"] ;\n",
      "183 -> 184 ;\n",
      "185 [label=\"gini = 0.124\\nsamples = 15\\nvalue = [1, 14]\"] ;\n",
      "184 -> 185 ;\n",
      "186 [label=\"gini = 0.0\\nsamples = 46\\nvalue = [0, 46]\"] ;\n",
      "184 -> 186 ;\n",
      "187 [label=\"age <= 69.5\\ngini = 0.234\\nsamples = 37\\nvalue = [5, 32]\"] ;\n",
      "183 -> 187 ;\n",
      "188 [label=\"gini = 0.095\\nsamples = 20\\nvalue = [1, 19]\"] ;\n",
      "187 -> 188 ;\n",
      "189 [label=\"gini = 0.36\\nsamples = 17\\nvalue = [4, 13]\"] ;\n",
      "187 -> 189 ;\n",
      "190 [label=\"gini = 0.346\\nsamples = 18\\nvalue = [4, 14]\"] ;\n",
      "182 -> 190 ;\n",
      "191 [label=\"day <= 5.5\\ngini = 0.099\\nsamples = 364\\nvalue = [19, 345]\"] ;\n",
      "153 -> 191 ;\n",
      "192 [label=\"month1 <= 6.5\\ngini = 0.225\\nsamples = 62\\nvalue = [8, 54]\"] ;\n",
      "191 -> 192 ;\n",
      "193 [label=\"balance <= 823.0\\ngini = 0.339\\nsamples = 37\\nvalue = [8, 29]\"] ;\n",
      "192 -> 193 ;\n",
      "194 [label=\"gini = 0.42\\nsamples = 20\\nvalue = [6, 14]\"] ;\n",
      "193 -> 194 ;\n",
      "195 [label=\"gini = 0.208\\nsamples = 17\\nvalue = [2, 15]\"] ;\n",
      "193 -> 195 ;\n",
      "196 [label=\"gini = 0.0\\nsamples = 25\\nvalue = [0, 25]\"] ;\n",
      "192 -> 196 ;\n",
      "197 [label=\"pdays <= 262.5\\ngini = 0.07\\nsamples = 302\\nvalue = [11, 291]\"] ;\n",
      "191 -> 197 ;\n",
      "198 [label=\"month1 <= 10.5\\ngini = 0.05\\nsamples = 271\\nvalue = [7, 264]\"] ;\n",
      "197 -> 198 ;\n",
      "199 [label=\"balance <= 1663.0\\ngini = 0.025\\nsamples = 235\\nvalue = [3, 232]\"] ;\n",
      "198 -> 199 ;\n",
      "200 [label=\"gini = 0.0\\nsamples = 152\\nvalue = [0, 152]\"] ;\n",
      "199 -> 200 ;\n",
      "201 [label=\"day <= 10.5\\ngini = 0.07\\nsamples = 83\\nvalue = [3, 80]\"] ;\n",
      "199 -> 201 ;\n",
      "202 [label=\"gini = 0.198\\nsamples = 18\\nvalue = [2, 16]\"] ;\n",
      "201 -> 202 ;\n",
      "203 [label=\"gini = 0.03\\nsamples = 65\\nvalue = [1, 64]\"] ;\n",
      "201 -> 203 ;\n",
      "204 [label=\"duration <= 292.0\\ngini = 0.198\\nsamples = 36\\nvalue = [4, 32]\"] ;\n",
      "198 -> 204 ;\n",
      "205 [label=\"gini = 0.091\\nsamples = 21\\nvalue = [1, 20]\"] ;\n",
      "204 -> 205 ;\n",
      "206 [label=\"gini = 0.32\\nsamples = 15\\nvalue = [3, 12]\"] ;\n",
      "204 -> 206 ;\n",
      "207 [label=\"age <= 46.0\\ngini = 0.225\\nsamples = 31\\nvalue = [4, 27]\"] ;\n",
      "197 -> 207 ;\n",
      "208 [label=\"gini = 0.117\\nsamples = 16\\nvalue = [1, 15]\"] ;\n",
      "207 -> 208 ;\n",
      "209 [label=\"gini = 0.32\\nsamples = 15\\nvalue = [3, 12]\"] ;\n",
      "207 -> 209 ;\n",
      "210 [label=\"contact1 <= 0.5\\ngini = 0.313\\nsamples = 2585\\nvalue = [502, 2083]\"] ;\n",
      "136 -> 210 ;\n",
      "211 [label=\"duration <= 634.5\\ngini = 0.425\\nsamples = 500\\nvalue = [153, 347]\"] ;\n",
      "210 -> 211 ;\n",
      "212 [label=\"month1 <= 5.5\\ngini = 0.493\\nsamples = 182\\nvalue = [102, 80]\"] ;\n",
      "211 -> 212 ;\n",
      "213 [label=\"duration <= 499.0\\ngini = 0.458\\nsamples = 110\\nvalue = [71, 39]\"] ;\n",
      "212 -> 213 ;\n",
      "214 [label=\"age <= 38.5\\ngini = 0.351\\nsamples = 44\\nvalue = [34, 10]\"] ;\n",
      "213 -> 214 ;\n",
      "215 [label=\"gini = 0.426\\nsamples = 26\\nvalue = [18, 8]\"] ;\n",
      "214 -> 215 ;\n",
      "216 [label=\"gini = 0.198\\nsamples = 18\\nvalue = [16, 2]\"] ;\n",
      "214 -> 216 ;\n",
      "217 [label=\"marital_married <= 0.5\\ngini = 0.493\\nsamples = 66\\nvalue = [37, 29]\"] ;\n",
      "213 -> 217 ;\n",
      "218 [label=\"gini = 0.48\\nsamples = 25\\nvalue = [10, 15]\"] ;\n",
      "217 -> 218 ;\n",
      "219 [label=\"duration <= 581.5\\ngini = 0.45\\nsamples = 41\\nvalue = [27, 14]\"] ;\n",
      "217 -> 219 ;\n",
      "220 [label=\"gini = 0.497\\nsamples = 24\\nvalue = [13, 11]\"] ;\n",
      "219 -> 220 ;\n",
      "221 [label=\"gini = 0.291\\nsamples = 17\\nvalue = [14, 3]\"] ;\n",
      "219 -> 221 ;\n",
      "222 [label=\"duration <= 463.0\\ngini = 0.49\\nsamples = 72\\nvalue = [31, 41]\"] ;\n",
      "212 -> 222 ;\n",
      "223 [label=\"gini = 0.391\\nsamples = 15\\nvalue = [11, 4]\"] ;\n",
      "222 -> 223 ;\n",
      "224 [label=\"housing1 <= 0.5\\ngini = 0.456\\nsamples = 57\\nvalue = [20, 37]\"] ;\n",
      "222 -> 224 ;\n",
      "225 [label=\"gini = 0.499\\nsamples = 21\\nvalue = [11, 10]\"] ;\n",
      "224 -> 225 ;\n",
      "226 [label=\"duration <= 530.5\\ngini = 0.375\\nsamples = 36\\nvalue = [9, 27]\"] ;\n",
      "224 -> 226 ;\n",
      "227 [label=\"gini = 0.198\\nsamples = 18\\nvalue = [2, 16]\"] ;\n",
      "226 -> 227 ;\n",
      "228 [label=\"gini = 0.475\\nsamples = 18\\nvalue = [7, 11]\"] ;\n",
      "226 -> 228 ;\n",
      "229 [label=\"duration <= 1179.5\\ngini = 0.269\\nsamples = 318\\nvalue = [51, 267]\"] ;\n",
      "211 -> 229 ;\n",
      "230 [label=\"balance <= 53.0\\ngini = 0.311\\nsamples = 234\\nvalue = [45, 189]\"] ;\n",
      "229 -> 230 ;\n",
      "231 [label=\"duration <= 802.5\\ngini = 0.444\\nsamples = 39\\nvalue = [13, 26]\"] ;\n",
      "230 -> 231 ;\n",
      "232 [label=\"gini = 0.498\\nsamples = 15\\nvalue = [7, 8]\"] ;\n",
      "231 -> 232 ;\n",
      "233 [label=\"gini = 0.375\\nsamples = 24\\nvalue = [6, 18]\"] ;\n",
      "231 -> 233 ;\n",
      "234 [label=\"duration <= 1048.5\\ngini = 0.274\\nsamples = 195\\nvalue = [32, 163]\"] ;\n",
      "230 -> 234 ;\n",
      "235 [label=\"duration <= 781.0\\ngini = 0.232\\nsamples = 164\\nvalue = [22, 142]\"] ;\n",
      "234 -> 235 ;\n",
      "236 [label=\"balance <= 589.0\\ngini = 0.32\\nsamples = 80\\nvalue = [16, 64]\"] ;\n",
      "235 -> 236 ;\n",
      "237 [label=\"gini = 0.219\\nsamples = 48\\nvalue = [6, 42]\"] ;\n",
      "236 -> 237 ;\n",
      "238 [label=\"gini = 0.43\\nsamples = 32\\nvalue = [10, 22]\"] ;\n",
      "236 -> 238 ;\n",
      "239 [label=\"age <= 42.5\\ngini = 0.133\\nsamples = 84\\nvalue = [6, 78]\"] ;\n",
      "235 -> 239 ;\n",
      "240 [label=\"gini = 0.204\\nsamples = 52\\nvalue = [6, 46]\"] ;\n",
      "239 -> 240 ;\n",
      "241 [label=\"gini = 0.0\\nsamples = 32\\nvalue = [0, 32]\"] ;\n",
      "239 -> 241 ;\n",
      "242 [label=\"duration <= 1105.0\\ngini = 0.437\\nsamples = 31\\nvalue = [10, 21]\"] ;\n",
      "234 -> 242 ;\n",
      "243 [label=\"gini = 0.469\\nsamples = 16\\nvalue = [6, 10]\"] ;\n",
      "242 -> 243 ;\n",
      "244 [label=\"gini = 0.391\\nsamples = 15\\nvalue = [4, 11]\"] ;\n",
      "242 -> 244 ;\n",
      "245 [label=\"age <= 43.5\\ngini = 0.133\\nsamples = 84\\nvalue = [6, 78]\"] ;\n",
      "229 -> 245 ;\n",
      "246 [label=\"balance <= 1048.0\\ngini = 0.036\\nsamples = 55\\nvalue = [1, 54]\"] ;\n",
      "245 -> 246 ;\n",
      "247 [label=\"gini = 0.0\\nsamples = 34\\nvalue = [0, 34]\"] ;\n",
      "246 -> 247 ;\n",
      "248 [label=\"gini = 0.091\\nsamples = 21\\nvalue = [1, 20]\"] ;\n",
      "246 -> 248 ;\n",
      "249 [label=\"gini = 0.285\\nsamples = 29\\nvalue = [5, 24]\"] ;\n",
      "245 -> 249 ;\n",
      "250 [label=\"duration <= 654.5\\ngini = 0.279\\nsamples = 2085\\nvalue = [349, 1736]\"] ;\n",
      "210 -> 250 ;\n",
      "251 [label=\"poutcome_success <= 0.5\\ngini = 0.348\\nsamples = 987\\nvalue = [221, 766]\"] ;\n",
      "250 -> 251 ;\n",
      "252 [label=\"housing1 <= 0.5\\ngini = 0.378\\nsamples = 862\\nvalue = [218, 644]\"] ;\n",
      "251 -> 252 ;\n",
      "253 [label=\"month1 <= 1.5\\ngini = 0.326\\nsamples = 507\\nvalue = [104, 403]\"] ;\n",
      "252 -> 253 ;\n",
      "254 [label=\"gini = 0.499\\nsamples = 19\\nvalue = [10, 9]\"] ;\n",
      "253 -> 254 ;\n",
      "255 [label=\"pdays <= 56.5\\ngini = 0.311\\nsamples = 488\\nvalue = [94, 394]\"] ;\n",
      "253 -> 255 ;\n",
      "256 [label=\"month1 <= 6.5\\ngini = 0.337\\nsamples = 401\\nvalue = [86, 315]\"] ;\n",
      "255 -> 256 ;\n",
      "257 [label=\"gini = 0.235\\nsamples = 147\\nvalue = [20, 127]\"] ;\n",
      "256 -> 257 ;\n",
      "258 [label=\"gini = 0.385\\nsamples = 254\\nvalue = [66, 188]\"] ;\n",
      "256 -> 258 ;\n",
      "259 [label=\"duration <= 511.5\\ngini = 0.167\\nsamples = 87\\nvalue = [8, 79]\"] ;\n",
      "255 -> 259 ;\n",
      "260 [label=\"gini = 0.071\\nsamples = 54\\nvalue = [2, 52]\"] ;\n",
      "259 -> 260 ;\n",
      "261 [label=\"gini = 0.298\\nsamples = 33\\nvalue = [6, 27]\"] ;\n",
      "259 -> 261 ;\n",
      "262 [label=\"age <= 29.5\\ngini = 0.436\\nsamples = 355\\nvalue = [114, 241]\"] ;\n",
      "252 -> 262 ;\n",
      "263 [label=\"day <= 14.5\\ngini = 0.219\\nsamples = 48\\nvalue = [6, 42]\"] ;\n",
      "262 -> 263 ;\n",
      "264 [label=\"gini = 0.401\\nsamples = 18\\nvalue = [5, 13]\"] ;\n",
      "263 -> 264 ;\n",
      "265 [label=\"balance <= 241.0\\ngini = 0.064\\nsamples = 30\\nvalue = [1, 29]\"] ;\n",
      "263 -> 265 ;\n",
      "266 [label=\"gini = 0.0\\nsamples = 15\\nvalue = [0, 15]\"] ;\n",
      "265 -> 266 ;\n",
      "267 [label=\"gini = 0.124\\nsamples = 15\\nvalue = [1, 14]\"] ;\n",
      "265 -> 267 ;\n",
      "268 [label=\"balance <= 13.0\\ngini = 0.456\\nsamples = 307\\nvalue = [108, 199]\"] ;\n",
      "262 -> 268 ;\n",
      "269 [label=\"day <= 11.5\\ngini = 0.5\\nsamples = 46\\nvalue = [23, 23]\"] ;\n",
      "268 -> 269 ;\n",
      "270 [label=\"gini = 0.43\\nsamples = 16\\nvalue = [11, 5]\"] ;\n",
      "269 -> 270 ;\n",
      "271 [label=\"gini = 0.48\\nsamples = 30\\nvalue = [12, 18]\"] ;\n",
      "269 -> 271 ;\n",
      "272 [label=\"duration <= 559.5\\ngini = 0.439\\nsamples = 261\\nvalue = [85, 176]\"] ;\n",
      "268 -> 272 ;\n",
      "273 [label=\"gini = 0.48\\nsamples = 163\\nvalue = [65, 98]\"] ;\n",
      "272 -> 273 ;\n",
      "274 [label=\"gini = 0.325\\nsamples = 98\\nvalue = [20, 78]\"] ;\n",
      "272 -> 274 ;\n",
      "275 [label=\"pdays <= 84.5\\ngini = 0.047\\nsamples = 125\\nvalue = [3, 122]\"] ;\n",
      "251 -> 275 ;\n",
      "276 [label=\"gini = 0.219\\nsamples = 16\\nvalue = [2, 14]\"] ;\n",
      "275 -> 276 ;\n",
      "277 [label=\"age <= 29.5\\ngini = 0.018\\nsamples = 109\\nvalue = [1, 108]\"] ;\n",
      "275 -> 277 ;\n",
      "278 [label=\"gini = 0.111\\nsamples = 17\\nvalue = [1, 16]\"] ;\n",
      "277 -> 278 ;\n",
      "279 [label=\"gini = 0.0\\nsamples = 92\\nvalue = [0, 92]\"] ;\n",
      "277 -> 279 ;\n",
      "280 [label=\"marital_married <= 0.5\\ngini = 0.206\\nsamples = 1098\\nvalue = [128, 970]\"] ;\n",
      "250 -> 280 ;\n",
      "281 [label=\"balance <= 7.5\\ngini = 0.161\\nsamples = 498\\nvalue = [44, 454]\"] ;\n",
      "280 -> 281 ;\n",
      "282 [label=\"age <= 30.5\\ngini = 0.024\\nsamples = 84\\nvalue = [1, 83]\"] ;\n",
      "281 -> 282 ;\n",
      "283 [label=\"gini = 0.091\\nsamples = 21\\nvalue = [1, 20]\"] ;\n",
      "282 -> 283 ;\n",
      "284 [label=\"gini = 0.0\\nsamples = 63\\nvalue = [0, 63]\"] ;\n",
      "282 -> 284 ;\n",
      "285 [label=\"day <= 3.5\\ngini = 0.186\\nsamples = 414\\nvalue = [43, 371]\"] ;\n",
      "281 -> 285 ;\n",
      "286 [label=\"gini = 0.386\\nsamples = 23\\nvalue = [6, 17]\"] ;\n",
      "285 -> 286 ;\n",
      "287 [label=\"pdays <= 303.5\\ngini = 0.171\\nsamples = 391\\nvalue = [37, 354]\"] ;\n",
      "285 -> 287 ;\n",
      "288 [label=\"pdays <= 0.5\\ngini = 0.153\\nsamples = 359\\nvalue = [30, 329]\"] ;\n",
      "287 -> 288 ;\n",
      "289 [label=\"gini = 0.176\\nsamples = 298\\nvalue = [29, 269]\"] ;\n",
      "288 -> 289 ;\n",
      "290 [label=\"gini = 0.032\\nsamples = 61\\nvalue = [1, 60]\"] ;\n",
      "288 -> 290 ;\n",
      "291 [label=\"pdays <= 349.5\\ngini = 0.342\\nsamples = 32\\nvalue = [7, 25]\"] ;\n",
      "287 -> 291 ;\n",
      "292 [label=\"gini = 0.457\\nsamples = 17\\nvalue = [6, 11]\"] ;\n",
      "291 -> 292 ;\n",
      "293 [label=\"gini = 0.124\\nsamples = 15\\nvalue = [1, 14]\"] ;\n",
      "291 -> 293 ;\n",
      "294 [label=\"poutcome_success <= 0.5\\ngini = 0.241\\nsamples = 600\\nvalue = [84, 516]\"] ;\n",
      "280 -> 294 ;\n",
      "295 [label=\"duration <= 845.0\\ngini = 0.257\\nsamples = 554\\nvalue = [84, 470]\"] ;\n",
      "294 -> 295 ;\n",
      "296 [label=\"balance <= 683.5\\ngini = 0.312\\nsamples = 238\\nvalue = [46, 192]\"] ;\n",
      "295 -> 296 ;\n",
      "297 [label=\"day <= 12.5\\ngini = 0.398\\nsamples = 113\\nvalue = [31, 82]\"] ;\n",
      "296 -> 297 ;\n",
      "298 [label=\"gini = 0.236\\nsamples = 44\\nvalue = [6, 38]\"] ;\n",
      "297 -> 298 ;\n",
      "299 [label=\"gini = 0.462\\nsamples = 69\\nvalue = [25, 44]\"] ;\n",
      "297 -> 299 ;\n",
      "300 [label=\"day <= 5.5\\ngini = 0.211\\nsamples = 125\\nvalue = [15, 110]\"] ;\n",
      "296 -> 300 ;\n",
      "301 [label=\"gini = 0.423\\nsamples = 23\\nvalue = [7, 16]\"] ;\n",
      "300 -> 301 ;\n",
      "302 [label=\"gini = 0.145\\nsamples = 102\\nvalue = [8, 94]\"] ;\n",
      "300 -> 302 ;\n",
      "303 [label=\"age <= 60.5\\ngini = 0.212\\nsamples = 316\\nvalue = [38, 278]\"] ;\n",
      "295 -> 303 ;\n",
      "304 [label=\"pdays <= 332.5\\ngini = 0.198\\nsamples = 296\\nvalue = [33, 263]\"] ;\n",
      "303 -> 304 ;\n",
      "305 [label=\"gini = 0.185\\nsamples = 281\\nvalue = [29, 252]\"] ;\n",
      "304 -> 305 ;\n",
      "306 [label=\"gini = 0.391\\nsamples = 15\\nvalue = [4, 11]\"] ;\n",
      "304 -> 306 ;\n",
      "307 [label=\"gini = 0.375\\nsamples = 20\\nvalue = [5, 15]\"] ;\n",
      "303 -> 307 ;\n",
      "308 [label=\"gini = 0.0\\nsamples = 46\\nvalue = [0, 46]\"] ;\n",
      "294 -> 308 ;\n",
      "}\n"
     ]
    }
   ],
   "source": [
    "from sklearn.tree import export_graphviz\n",
    "\n",
    "export_graphviz(tree, out_file = 'tree.dot', feature_names = X.columns)\n",
    "print(open('tree.dot').read())"
   ]
  },
  {
   "cell_type": "markdown",
   "metadata": {
    "papermill": {
     "duration": 0.049786,
     "end_time": "2020-10-11T03:30:40.004599",
     "exception": false,
     "start_time": "2020-10-11T03:30:39.954813",
     "status": "completed"
    },
    "tags": []
   },
   "source": [
    "[Ссылка на гугл-диск с картинкой](https://drive.google.com/file/d/1oiC1LRZHSS5olsEmKnkWzjFOc_SfgiVF/view?usp=sharing)"
   ]
  },
  {
   "cell_type": "code",
   "execution_count": 20,
   "metadata": {
    "execution": {
     "iopub.execute_input": "2020-10-11T03:30:40.210587Z",
     "iopub.status.busy": "2020-10-11T03:30:40.209707Z",
     "iopub.status.idle": "2020-10-11T03:30:40.700589Z",
     "shell.execute_reply": "2020-10-11T03:30:40.699905Z"
    },
    "papermill": {
     "duration": 0.643743,
     "end_time": "2020-10-11T03:30:40.700719",
     "exception": false,
     "start_time": "2020-10-11T03:30:40.056976",
     "status": "completed"
    },
    "tags": []
   },
   "outputs": [
    {
     "name": "stdout",
     "output_type": "stream",
     "text": [
      "Feature ranking:\n",
      "1 duration 0.5099516862827888\n",
      "2 poutcome_success 0.09309603601162528\n",
      "3 contact1 0.09091930526557314\n",
      "4 month1 0.07867285436350852\n",
      "5 day 0.058118329047211\n",
      "6 pdays 0.05688101586602577\n",
      "7 age 0.042013232928928994\n",
      "8 housing1 0.04059692790754163\n",
      "9 balance 0.024584583260677098\n",
      "10 marital_married 0.00227586369648701\n",
      "11 education_secondary 0.0013731987742801335\n",
      "12 poutcome_other 0.0009537525916166512\n",
      "13 education_tertiary 0.0005632140037360213\n",
      "14 poutcome_failure 0.0\n",
      "15 marital_single 0.0\n",
      "16 marital_divorced 0.0\n",
      "17 default1 0.0\n",
      "18 loan1 0.0\n",
      "19 previous 0.0\n",
      "20 poutcome_unknown 0.0\n",
      "21 campaign 0.0\n",
      "22 education_primary 0.0\n",
      "23 education_unknown 0.0\n"
     ]
    },
    {
     "data": {
      "image/png": "[encoded data removed]",
      "text/plain": [
       "<Figure size 1080x360 with 1 Axes>"
      ]
     },
     "metadata": {
      "needs_background": "light"
     },
     "output_type": "display_data"
    }
   ],
   "source": [
    "features = dict(zip(range(len(X.columns)), X.columns))\n",
    "\n",
    "# Важность признаков\n",
    "importances = tree.feature_importances_\n",
    "\n",
    "indices = np.argsort(importances)[::-1]\n",
    "# Plot the feature importancies of the forest\n",
    "num_to_plot = max(10, len(X.columns))\n",
    "feature_indices = [ind for ind in indices[:num_to_plot]]\n",
    "\n",
    "# Print the feature ranking\n",
    "print(\"Feature ranking:\")\n",
    "\n",
    "for f in range(num_to_plot):\n",
    "    print(f+1, features[feature_indices[f]], importances[indices[f]])\n",
    "\n",
    "plt.figure(figsize=(15,5))\n",
    "plt.title(\"Feature importances\")\n",
    "bars = plt.bar(range(num_to_plot), \n",
    "               importances[indices[:num_to_plot]],\n",
    "               color=([str(i/float(num_to_plot+1)) for i in range(num_to_plot)]),\n",
    "               align=\"center\")\n",
    "ticks = plt.xticks(range(num_to_plot), \n",
    "                   feature_indices)\n",
    "plt.xlim([-1, num_to_plot])\n",
    "plt.legend(bars, [u''.join(features[i]) for i in feature_indices]);"
   ]
  },
  {
   "cell_type": "markdown",
   "metadata": {
    "papermill": {
     "duration": 0.052339,
     "end_time": "2020-10-11T03:30:40.805969",
     "exception": false,
     "start_time": "2020-10-11T03:30:40.753630",
     "status": "completed"
    },
    "tags": []
   },
   "source": [
    "Вывод: 'duration' - самый влиятельный признак. После него идут 'month', 'contact' и далее по убыванию. Самыми не влиятельными признаками оказались 'poutcome', 'education'."
   ]
  },
  {
   "cell_type": "markdown",
   "metadata": {
    "papermill": {
     "duration": 0.051971,
     "end_time": "2020-10-11T03:30:40.910046",
     "exception": false,
     "start_time": "2020-10-11T03:30:40.858075",
     "status": "completed"
    },
    "tags": []
   },
   "source": [
    "3. Случайный лес"
   ]
  },
  {
   "cell_type": "markdown",
   "metadata": {
    "papermill": {
     "duration": 0.054504,
     "end_time": "2020-10-11T03:30:41.017443",
     "exception": false,
     "start_time": "2020-10-11T03:30:40.962939",
     "status": "completed"
    },
    "tags": []
   },
   "source": [
    "3.1 Постройте модельь случайного леса для вашей задачи с гиперпараметрами по умолчанию и оцените качество модели."
   ]
  },
  {
   "cell_type": "code",
   "execution_count": 21,
   "metadata": {
    "execution": {
     "iopub.execute_input": "2020-10-11T03:30:41.132196Z",
     "iopub.status.busy": "2020-10-11T03:30:41.131323Z",
     "iopub.status.idle": "2020-10-11T03:30:42.548183Z",
     "shell.execute_reply": "2020-10-11T03:30:42.548871Z"
    },
    "papermill": {
     "duration": 1.477807,
     "end_time": "2020-10-11T03:30:42.549050",
     "exception": false,
     "start_time": "2020-10-11T03:30:41.071243",
     "status": "completed"
    },
    "tags": []
   },
   "outputs": [
    {
     "name": "stdout",
     "output_type": "stream",
     "text": [
      "0.8384091723396632\n"
     ]
    }
   ],
   "source": [
    "# Обучение случайного леса\n",
    "from sklearn.ensemble import RandomForestClassifier\n",
    "\n",
    "rf = RandomForestClassifier(n_estimators=100, random_state=2019)\n",
    "rf.fit(X_train, y_train)\n",
    "\n",
    "y_pred = rf.predict(X_valid)\n",
    "\n",
    "from sklearn.metrics import accuracy_score\n",
    "\n",
    "print(accuracy_score(y_valid, y_pred))"
   ]
  },
  {
   "cell_type": "markdown",
   "metadata": {
    "papermill": {
     "duration": 0.053974,
     "end_time": "2020-10-11T03:30:42.668071",
     "exception": false,
     "start_time": "2020-10-11T03:30:42.614097",
     "status": "completed"
    },
    "tags": []
   },
   "source": [
    "3.2 Осуществите подбор гиперпараметров модели"
   ]
  },
  {
   "cell_type": "code",
   "execution_count": 22,
   "metadata": {
    "execution": {
     "iopub.execute_input": "2020-10-11T03:30:42.785459Z",
     "iopub.status.busy": "2020-10-11T03:30:42.784358Z",
     "iopub.status.idle": "2020-10-11T03:31:53.589658Z",
     "shell.execute_reply": "2020-10-11T03:31:53.590276Z"
    },
    "papermill": {
     "duration": 70.867023,
     "end_time": "2020-10-11T03:31:53.590437",
     "exception": false,
     "start_time": "2020-10-11T03:30:42.723414",
     "status": "completed"
    },
    "tags": []
   },
   "outputs": [
    {
     "data": {
      "text/plain": [
       "{'n_estimators': 200}"
      ]
     },
     "execution_count": 22,
     "metadata": {},
     "output_type": "execute_result"
    }
   ],
   "source": [
    "rf_params_estimators = {\"n_estimators\":[50, 100, 150, 200, 350, 400]}\n",
    "rf_estimators = GridSearchCV(rf, rf_params_estimators, cv=5, scoring='accuracy')\n",
    "rf_estimators.fit(X_train, y_train)\n",
    "rf_estimators.best_params_\n"
   ]
  },
  {
   "cell_type": "code",
   "execution_count": 23,
   "metadata": {
    "execution": {
     "iopub.execute_input": "2020-10-11T03:31:53.708139Z",
     "iopub.status.busy": "2020-10-11T03:31:53.706943Z",
     "iopub.status.idle": "2020-10-11T03:32:54.225339Z",
     "shell.execute_reply": "2020-10-11T03:32:54.226009Z"
    },
    "papermill": {
     "duration": 60.581764,
     "end_time": "2020-10-11T03:32:54.226194",
     "exception": false,
     "start_time": "2020-10-11T03:31:53.644430",
     "status": "completed"
    },
    "tags": []
   },
   "outputs": [
    {
     "data": {
      "text/plain": [
       "{'max_depth': 10}"
      ]
     },
     "execution_count": 23,
     "metadata": {},
     "output_type": "execute_result"
    }
   ],
   "source": [
    "rf_params_depth = {'max_depth': np.arange(2, 11)}\n",
    "rf = RandomForestClassifier(random_state = 19, n_estimators = 200)\n",
    "rf_grid_depth = GridSearchCV(rf, rf_params_depth, cv=5, scoring='accuracy') \n",
    "rf_grid_depth.fit(X_train, y_train)\n",
    "rf_grid_depth.best_params_"
   ]
  },
  {
   "cell_type": "code",
   "execution_count": 24,
   "metadata": {
    "execution": {
     "iopub.execute_input": "2020-10-11T03:32:54.344553Z",
     "iopub.status.busy": "2020-10-11T03:32:54.343718Z",
     "iopub.status.idle": "2020-10-11T03:35:37.335569Z",
     "shell.execute_reply": "2020-10-11T03:35:37.336226Z"
    },
    "papermill": {
     "duration": 163.05599,
     "end_time": "2020-10-11T03:35:37.336410",
     "exception": false,
     "start_time": "2020-10-11T03:32:54.280420",
     "status": "completed"
    },
    "tags": []
   },
   "outputs": [
    {
     "data": {
      "text/plain": [
       "{'min_samples_split': 5}"
      ]
     },
     "execution_count": 24,
     "metadata": {},
     "output_type": "execute_result"
    }
   ],
   "source": [
    "rf_params_split = {'min_samples_split': np.arange(2, 21)}\n",
    "rf = RandomForestClassifier(random_state = 19, n_estimators = 200, max_depth = 10)\n",
    "rf_grid_split = GridSearchCV(rf, rf_params_split, cv=5, scoring='accuracy') \n",
    "rf_grid_split.fit(X_train, y_train)\n",
    "rf_grid_split.best_params_"
   ]
  },
  {
   "cell_type": "code",
   "execution_count": 25,
   "metadata": {
    "execution": {
     "iopub.execute_input": "2020-10-11T03:35:37.456565Z",
     "iopub.status.busy": "2020-10-11T03:35:37.455121Z",
     "iopub.status.idle": "2020-10-11T03:38:11.892635Z",
     "shell.execute_reply": "2020-10-11T03:38:11.893253Z"
    },
    "papermill": {
     "duration": 154.501543,
     "end_time": "2020-10-11T03:38:11.893436",
     "exception": false,
     "start_time": "2020-10-11T03:35:37.391893",
     "status": "completed"
    },
    "tags": []
   },
   "outputs": [
    {
     "data": {
      "text/plain": [
       "{'min_samples_leaf': 7}"
      ]
     },
     "execution_count": 25,
     "metadata": {},
     "output_type": "execute_result"
    }
   ],
   "source": [
    "rf_params_leaf = {'min_samples_leaf': np.arange(2, 21)}\n",
    "rf = RandomForestClassifier(random_state = 19, n_estimators = 200, max_depth = 10, min_samples_split = 5)\n",
    "rf_grid_leaf = GridSearchCV(rf, rf_params_leaf, cv=5, scoring='accuracy') \n",
    "rf_grid_leaf.fit(X_train, y_train)\n",
    "rf_grid_leaf.best_params_"
   ]
  },
  {
   "cell_type": "code",
   "execution_count": 26,
   "metadata": {
    "execution": {
     "iopub.execute_input": "2020-10-11T03:38:12.014067Z",
     "iopub.status.busy": "2020-10-11T03:38:12.013194Z",
     "iopub.status.idle": "2020-10-11T03:42:57.184199Z",
     "shell.execute_reply": "2020-10-11T03:42:57.184835Z"
    },
    "papermill": {
     "duration": 285.23598,
     "end_time": "2020-10-11T03:42:57.185010",
     "exception": false,
     "start_time": "2020-10-11T03:38:11.949030",
     "status": "completed"
    },
    "tags": []
   },
   "outputs": [
    {
     "data": {
      "text/plain": [
       "{'max_features': 15}"
      ]
     },
     "execution_count": 26,
     "metadata": {},
     "output_type": "execute_result"
    }
   ],
   "source": [
    "rf_params_features = {'max_features': np.arange(2, 21)}\n",
    "rf = RandomForestClassifier(random_state = 19, n_estimators = 200, max_depth = 10, min_samples_split = 5, min_samples_leaf= 7)\n",
    "rf_grid_features = GridSearchCV(rf, rf_params_features, cv=5, scoring='accuracy') \n",
    "rf_grid_features.fit(X_train, y_train)\n",
    "rf_grid_features.best_params_"
   ]
  },
  {
   "cell_type": "markdown",
   "metadata": {
    "papermill": {
     "duration": 0.061269,
     "end_time": "2020-10-11T03:42:57.303509",
     "exception": false,
     "start_time": "2020-10-11T03:42:57.242240",
     "status": "completed"
    },
    "tags": []
   },
   "source": [
    "Набор гиперпараметров:\n",
    "\n",
    "n_estimators = 200\n",
    "\n",
    "max_depth = 10\n",
    "\n",
    "min_samples_split = 5\n",
    "\n",
    "min_samples_leaf = 7\n",
    "\n",
    "max_features = 15"
   ]
  },
  {
   "cell_type": "markdown",
   "metadata": {
    "papermill": {
     "duration": 0.056374,
     "end_time": "2020-10-11T03:42:57.418836",
     "exception": false,
     "start_time": "2020-10-11T03:42:57.362462",
     "status": "completed"
    },
    "tags": []
   },
   "source": [
    "3.3 Постройте валидационные кривые для каждого из гиперпараметров."
   ]
  },
  {
   "cell_type": "code",
   "execution_count": 27,
   "metadata": {
    "execution": {
     "iopub.execute_input": "2020-10-11T03:42:57.548124Z",
     "iopub.status.busy": "2020-10-11T03:42:57.547284Z",
     "iopub.status.idle": "2020-10-11T03:42:58.370491Z",
     "shell.execute_reply": "2020-10-11T03:42:58.369686Z"
    },
    "papermill": {
     "duration": 0.895215,
     "end_time": "2020-10-11T03:42:58.370616",
     "exception": false,
     "start_time": "2020-10-11T03:42:57.475401",
     "status": "completed"
    },
    "tags": []
   },
   "outputs": [
    {
     "ename": "IndexError",
     "evalue": "index 2 is out of bounds for axis 1 with size 2",
     "output_type": "error",
     "traceback": [
      "\u001b[0;31m---------------------------------------------------------------------------\u001b[0m",
      "\u001b[0;31mIndexError\u001b[0m                                Traceback (most recent call last)",
      "\u001b[0;32m<ipython-input-27-9550c8988d14>\u001b[0m in \u001b[0;36m<module>\u001b[0;34m\u001b[0m\n\u001b[1;32m     20\u001b[0m \u001b[0max\u001b[0m\u001b[0;34m[\u001b[0m\u001b[0;36m1\u001b[0m\u001b[0;34m,\u001b[0m \u001b[0;36m1\u001b[0m\u001b[0;34m]\u001b[0m\u001b[0;34m.\u001b[0m\u001b[0mplot\u001b[0m\u001b[0;34m(\u001b[0m\u001b[0mrf_params_leaf\u001b[0m\u001b[0;34m[\u001b[0m\u001b[0;34m'min_samples_leaf'\u001b[0m\u001b[0;34m]\u001b[0m\u001b[0;34m,\u001b[0m \u001b[0mrf_grid_leaf\u001b[0m\u001b[0;34m.\u001b[0m\u001b[0mcv_results_\u001b[0m\u001b[0;34m[\u001b[0m\u001b[0;34m'mean_test_score'\u001b[0m\u001b[0;34m]\u001b[0m\u001b[0;34m)\u001b[0m\u001b[0;34m;\u001b[0m\u001b[0;34m\u001b[0m\u001b[0;34m\u001b[0m\u001b[0m\n\u001b[1;32m     21\u001b[0m \u001b[0;34m\u001b[0m\u001b[0m\n\u001b[0;32m---> 22\u001b[0;31m \u001b[0max\u001b[0m\u001b[0;34m[\u001b[0m\u001b[0;36m1\u001b[0m\u001b[0;34m,\u001b[0m \u001b[0;36m2\u001b[0m\u001b[0;34m]\u001b[0m\u001b[0;34m.\u001b[0m\u001b[0mset_xlabel\u001b[0m\u001b[0;34m(\u001b[0m\u001b[0;34m'max_features'\u001b[0m\u001b[0;34m)\u001b[0m\u001b[0;34m\u001b[0m\u001b[0;34m\u001b[0m\u001b[0m\n\u001b[0m\u001b[1;32m     23\u001b[0m \u001b[0max\u001b[0m\u001b[0;34m[\u001b[0m\u001b[0;36m1\u001b[0m\u001b[0;34m,\u001b[0m \u001b[0;36m2\u001b[0m\u001b[0;34m]\u001b[0m\u001b[0;34m.\u001b[0m\u001b[0mset_ylabel\u001b[0m\u001b[0;34m(\u001b[0m\u001b[0;34m'accuracy score'\u001b[0m\u001b[0;34m)\u001b[0m\u001b[0;34m\u001b[0m\u001b[0;34m\u001b[0m\u001b[0m\n\u001b[1;32m     24\u001b[0m \u001b[0max\u001b[0m\u001b[0;34m[\u001b[0m\u001b[0;36m1\u001b[0m\u001b[0;34m,\u001b[0m \u001b[0;36m2\u001b[0m\u001b[0;34m]\u001b[0m\u001b[0;34m.\u001b[0m\u001b[0mplot\u001b[0m\u001b[0;34m(\u001b[0m\u001b[0mrf_params_features\u001b[0m\u001b[0;34m[\u001b[0m\u001b[0;34m'max_features'\u001b[0m\u001b[0;34m]\u001b[0m\u001b[0;34m,\u001b[0m \u001b[0mrf_grid_features\u001b[0m\u001b[0;34m.\u001b[0m\u001b[0mcv_results_\u001b[0m\u001b[0;34m[\u001b[0m\u001b[0;34m'mean_test_score'\u001b[0m\u001b[0;34m]\u001b[0m\u001b[0;34m)\u001b[0m\u001b[0;34m;\u001b[0m\u001b[0;34m\u001b[0m\u001b[0;34m\u001b[0m\u001b[0m\n",
      "\u001b[0;31mIndexError\u001b[0m: index 2 is out of bounds for axis 1 with size 2"
     ]
    },
    {
     "data": {
      "image/png": "[encoded data removed]",
      "text/plain": [
       "<Figure size 720x720 with 4 Axes>"
      ]
     },
     "metadata": {
      "needs_background": "light"
     },
     "output_type": "display_data"
    }
   ],
   "source": [
    "# Валидационная кривая\n",
    "import matplotlib.pyplot as plt\n",
    "\n",
    "fig, ax = plt.subplots(2, 2, figsize = (10,10))\n",
    "\n",
    "ax[0,0].set_xlabel('n_estimators')\n",
    "ax[0,0].set_ylabel('accuracy score')\n",
    "ax[0,0].plot(rf_params_estimators['n_estimators'], rf_estimators.cv_results_[\"mean_test_score\"]);\n",
    "\n",
    "ax[0, 1].set_xlabel('max_depth')\n",
    "ax[0, 1].set_ylabel('accuracy score')\n",
    "ax[0, 1].plot(rf_params_depth['max_depth'], rf_grid_depth.cv_results_['mean_test_score']);\n",
    "\n",
    "ax[1, 0].set_xlabel('min_samples_split')\n",
    "ax[1, 0].set_ylabel('accuracy score')\n",
    "ax[1, 0].plot(rf_params_split['min_samples_split'], rf_grid_split.cv_results_['mean_test_score']);\n",
    "\n",
    "ax[1, 1].set_xlabel('min_samples_leaf')\n",
    "ax[1, 1].set_ylabel('accuracy score')\n",
    "ax[1, 1].plot(rf_params_leaf['min_samples_leaf'], rf_grid_leaf.cv_results_['mean_test_score']);\n",
    "\n",
    "ax[1, 2].set_xlabel('max_features')\n",
    "ax[1, 2].set_ylabel('accuracy score')\n",
    "ax[1, 2].plot(rf_params_features['max_features'], rf_grid_features.cv_results_['mean_test_score']);"
   ]
  },
  {
   "cell_type": "markdown",
   "metadata": {
    "papermill": {
     "duration": 0.058304,
     "end_time": "2020-10-11T03:42:58.487840",
     "exception": false,
     "start_time": "2020-10-11T03:42:58.429536",
     "status": "completed"
    },
    "tags": []
   },
   "source": [
    " 3.4 Оцените важность признаков данной модели. Визуализируйте топ-10 самых полезных признаков."
   ]
  },
  {
   "cell_type": "code",
   "execution_count": 28,
   "metadata": {
    "execution": {
     "iopub.execute_input": "2020-10-11T03:42:58.622770Z",
     "iopub.status.busy": "2020-10-11T03:42:58.621663Z",
     "iopub.status.idle": "2020-10-11T03:42:59.111892Z",
     "shell.execute_reply": "2020-10-11T03:42:59.111002Z"
    },
    "papermill": {
     "duration": 0.565317,
     "end_time": "2020-10-11T03:42:59.112039",
     "exception": false,
     "start_time": "2020-10-11T03:42:58.546722",
     "status": "completed"
    },
    "tags": []
   },
   "outputs": [
    {
     "name": "stdout",
     "output_type": "stream",
     "text": [
      "Feature ranking:\n",
      "1 duration 0.5099516862827888\n",
      "2 poutcome_success 0.09309603601162528\n",
      "3 contact1 0.09091930526557314\n",
      "4 month1 0.07867285436350852\n",
      "5 day 0.058118329047211\n",
      "6 pdays 0.05688101586602577\n",
      "7 age 0.042013232928928994\n",
      "8 housing1 0.04059692790754163\n",
      "9 balance 0.024584583260677098\n",
      "10 marital_married 0.00227586369648701\n",
      "11 education_secondary 0.0013731987742801335\n",
      "12 poutcome_other 0.0009537525916166512\n",
      "13 education_tertiary 0.0005632140037360213\n",
      "14 poutcome_failure 0.0\n",
      "15 marital_single 0.0\n",
      "16 marital_divorced 0.0\n",
      "17 default1 0.0\n",
      "18 loan1 0.0\n",
      "19 previous 0.0\n",
      "20 poutcome_unknown 0.0\n",
      "21 campaign 0.0\n",
      "22 education_primary 0.0\n",
      "23 education_unknown 0.0\n"
     ]
    },
    {
     "data": {
      "image/png": "[encoded data removed]",
      "text/plain": [
       "<Figure size 1080x360 with 1 Axes>"
      ]
     },
     "metadata": {
      "needs_background": "light"
     },
     "output_type": "display_data"
    }
   ],
   "source": [
    "features = dict(zip(range(len(X.columns)), X.columns))\n",
    "\n",
    "# Важность признаков\n",
    "importances = tree.feature_importances_\n",
    "\n",
    "indices = np.argsort(importances)[::-1]\n",
    "# Plot the feature importancies of the forest\n",
    "num_to_plot = max(10, len(X.columns))\n",
    "feature_indices = [ind for ind in indices[:num_to_plot]]\n",
    "\n",
    "# Print the feature ranking\n",
    "print(\"Feature ranking:\")\n",
    "\n",
    "for f in range(num_to_plot):\n",
    "    print(f+1, features[feature_indices[f]], importances[indices[f]])\n",
    "\n",
    "plt.figure(figsize=(15,5))\n",
    "plt.title(\"Feature importances\")\n",
    "bars = plt.bar(range(num_to_plot), \n",
    "               importances[indices[:num_to_plot]],\n",
    "               color=([str(i/float(num_to_plot+1)) for i in range(num_to_plot)]),\n",
    "               align=\"center\")\n",
    "ticks = plt.xticks(range(num_to_plot), \n",
    "                   feature_indices)\n",
    "plt.xlim([-1, num_to_plot])\n",
    "plt.legend(bars, [u''.join(features[i]) for i in feature_indices]);"
   ]
  },
  {
   "cell_type": "markdown",
   "metadata": {
    "papermill": {
     "duration": 0.061041,
     "end_time": "2020-10-11T03:42:59.236472",
     "exception": false,
     "start_time": "2020-10-11T03:42:59.175431",
     "status": "completed"
    },
    "tags": []
   },
   "source": [
    "Наиболее влиятельными оказались те же признаки, что и для дерева решений - 'duration', 'month' и тд. И самыми наименее значимыми признаками оказались также 'poutcome' и 'education'."
   ]
  },
  {
   "cell_type": "markdown",
   "metadata": {
    "papermill": {
     "duration": 0.06778,
     "end_time": "2020-10-11T03:42:59.371746",
     "exception": false,
     "start_time": "2020-10-11T03:42:59.303966",
     "status": "completed"
    },
    "tags": []
   },
   "source": [
    "3.5 Сравните результаты метода ближайших соседей, дерева решений и случайного леса. Сформулируйте выводы."
   ]
  },
  {
   "cell_type": "markdown",
   "metadata": {
    "papermill": {
     "duration": 0.061512,
     "end_time": "2020-10-11T03:42:59.494429",
     "exception": false,
     "start_time": "2020-10-11T03:42:59.432917",
     "status": "completed"
    },
    "tags": []
   },
   "source": [
    "Метод ближайших соседей является самым времязатратным и подходящим только для небольших исследований, качество модели худшее среди всех. Дерево решений справляется с задачами намного быстрее метода ближайших соседей, качество модели лучше чем в случае kNN. Случайный лес также является неплохим методом по сравнению с kNN, качество модели было лучшим среди всех, однако в данном случае(при большом кол-ве деревьев) работал очень долго. "
   ]
  }
 ],
 "metadata": {
  "kernelspec": {
   "display_name": "Python 3",
   "language": "python",
   "name": "python3"
  },
  "language_info": {
   "codemirror_mode": {
    "name": "ipython",
    "version": 3
   },
   "file_extension": ".py",
   "mimetype": "text/x-python",
   "name": "python",
   "nbconvert_exporter": "python",
   "pygments_lexer": "ipython3",
   "version": "3.7.6"
  },
  "papermill": {
   "duration": 762.661352,
   "end_time": "2020-10-11T03:42:59.664713",
   "environment_variables": {},
   "exception": null,
   "input_path": "__notebook__.ipynb",
   "output_path": "__notebook__.ipynb",
   "parameters": {},
   "start_time": "2020-10-11T03:30:17.003361",
   "version": "2.1.0"
  }
 },
 "nbformat": 4,
 "nbformat_minor": 4
}
