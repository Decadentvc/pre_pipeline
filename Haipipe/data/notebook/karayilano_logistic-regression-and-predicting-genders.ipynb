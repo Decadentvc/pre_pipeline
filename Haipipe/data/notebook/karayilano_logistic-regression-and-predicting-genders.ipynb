{
 "cells": [
  {
   "cell_type": "markdown",
   "metadata": {
    "papermill": {
     "duration": 0.009557,
     "end_time": "2020-10-14T14:58:21.464307",
     "exception": false,
     "start_time": "2020-10-14T14:58:21.454750",
     "status": "completed"
    },
    "tags": []
   },
   "source": [
    "In this notebook I will try to predict genders of participants given some information about them such as Favorite Color,\tFavorite Music Genre,\tFavorite Beverage,\tFavorite Soft Drink.\n",
    "\n",
    "I will use Logistic Regression. This will be beginner friendly as I am a beginner too :)\n",
    "\n",
    "Feel free to comment if you want to improve some point. All feedbacks are appreciated!"
   ]
  },
  {
   "cell_type": "code",
   "execution_count": 1,
   "metadata": {
    "_cell_guid": "b1076dfc-b9ad-4769-8c92-a6c4dae69d19",
    "_uuid": "8f2839f25d086af736a60e9eeb907d3b93b6e0e5",
    "execution": {
     "iopub.execute_input": "2020-10-14T14:58:21.487616Z",
     "iopub.status.busy": "2020-10-14T14:58:21.486891Z",
     "iopub.status.idle": "2020-10-14T14:58:21.494805Z",
     "shell.execute_reply": "2020-10-14T14:58:21.494207Z"
    },
    "papermill": {
     "duration": 0.021696,
     "end_time": "2020-10-14T14:58:21.494905",
     "exception": false,
     "start_time": "2020-10-14T14:58:21.473209",
     "status": "completed"
    },
    "tags": []
   },
   "outputs": [
    {
     "name": "stdout",
     "output_type": "stream",
     "text": [
      "/kaggle/input/gender-classification/Transformed Data Set - Sheet1.csv\n"
     ]
    }
   ],
   "source": [
    "# This Python 3 environment comes with many helpful analytics libraries installed\n",
    "# It is defined by the kaggle/python Docker image: https://github.com/kaggle/docker-python\n",
    "# For example, here's several helpful packages to load\n",
    "\n",
    "import numpy as np # linear algebra\n",
    "import pandas as pd # data processing, CSV file I/O (e.g. pd.read_csv)\n",
    "\n",
    "# Input data files are available in the read-only \"../input/\" directory\n",
    "# For example, running this (by clicking run or pressing Shift+Enter) will list all files under the input directory\n",
    "\n",
    "import os\n",
    "for dirname, _, filenames in os.walk('/kaggle/input'):\n",
    "    for filename in filenames:\n",
    "        print(os.path.join(dirname, filename))\n",
    "\n",
    "# You can write up to 5GB to the current directory (/kaggle/working/) that gets preserved as output when you create a version using \"Save & Run All\" \n",
    "# You can also write temporary files to /kaggle/temp/, but they won't be saved outside of the current session"
   ]
  },
  {
   "cell_type": "code",
   "execution_count": 2,
   "metadata": {
    "_cell_guid": "79c7e3d0-c299-4dcb-8224-4455121ee9b0",
    "_uuid": "d629ff2d2480ee46fbb7e2d37f6b5fab8052498a",
    "execution": {
     "iopub.execute_input": "2020-10-14T14:58:21.517859Z",
     "iopub.status.busy": "2020-10-14T14:58:21.517283Z",
     "iopub.status.idle": "2020-10-14T14:58:21.526428Z",
     "shell.execute_reply": "2020-10-14T14:58:21.525794Z"
    },
    "papermill": {
     "duration": 0.022252,
     "end_time": "2020-10-14T14:58:21.526532",
     "exception": false,
     "start_time": "2020-10-14T14:58:21.504280",
     "status": "completed"
    },
    "tags": []
   },
   "outputs": [],
   "source": [
    "df = pd.read_csv(\"../input/gender-classification/Transformed Data Set - Sheet1.csv\")"
   ]
  },
  {
   "cell_type": "code",
   "execution_count": 3,
   "metadata": {
    "execution": {
     "iopub.execute_input": "2020-10-14T14:58:21.558593Z",
     "iopub.status.busy": "2020-10-14T14:58:21.557759Z",
     "iopub.status.idle": "2020-10-14T14:58:21.565993Z",
     "shell.execute_reply": "2020-10-14T14:58:21.565416Z"
    },
    "papermill": {
     "duration": 0.030486,
     "end_time": "2020-10-14T14:58:21.566125",
     "exception": false,
     "start_time": "2020-10-14T14:58:21.535639",
     "status": "completed"
    },
    "tags": []
   },
   "outputs": [
    {
     "data": {
      "text/html": [
       "<div>\n",
       "<style scoped>\n",
       "    .dataframe tbody tr th:only-of-type {\n",
       "        vertical-align: middle;\n",
       "    }\n",
       "\n",
       "    .dataframe tbody tr th {\n",
       "        vertical-align: top;\n",
       "    }\n",
       "\n",
       "    .dataframe thead th {\n",
       "        text-align: right;\n",
       "    }\n",
       "</style>\n",
       "<table border=\"1\" class=\"dataframe\">\n",
       "  <thead>\n",
       "    <tr style=\"text-align: right;\">\n",
       "      <th></th>\n",
       "      <th>Favorite Color</th>\n",
       "      <th>Favorite Music Genre</th>\n",
       "      <th>Favorite Beverage</th>\n",
       "      <th>Favorite Soft Drink</th>\n",
       "      <th>Gender</th>\n",
       "    </tr>\n",
       "  </thead>\n",
       "  <tbody>\n",
       "    <tr>\n",
       "      <th>0</th>\n",
       "      <td>Cool</td>\n",
       "      <td>Rock</td>\n",
       "      <td>Vodka</td>\n",
       "      <td>7UP/Sprite</td>\n",
       "      <td>F</td>\n",
       "    </tr>\n",
       "    <tr>\n",
       "      <th>1</th>\n",
       "      <td>Neutral</td>\n",
       "      <td>Hip hop</td>\n",
       "      <td>Vodka</td>\n",
       "      <td>Coca Cola/Pepsi</td>\n",
       "      <td>F</td>\n",
       "    </tr>\n",
       "    <tr>\n",
       "      <th>2</th>\n",
       "      <td>Warm</td>\n",
       "      <td>Rock</td>\n",
       "      <td>Wine</td>\n",
       "      <td>Coca Cola/Pepsi</td>\n",
       "      <td>F</td>\n",
       "    </tr>\n",
       "    <tr>\n",
       "      <th>3</th>\n",
       "      <td>Warm</td>\n",
       "      <td>Folk/Traditional</td>\n",
       "      <td>Whiskey</td>\n",
       "      <td>Fanta</td>\n",
       "      <td>F</td>\n",
       "    </tr>\n",
       "    <tr>\n",
       "      <th>4</th>\n",
       "      <td>Cool</td>\n",
       "      <td>Rock</td>\n",
       "      <td>Vodka</td>\n",
       "      <td>Coca Cola/Pepsi</td>\n",
       "      <td>F</td>\n",
       "    </tr>\n",
       "  </tbody>\n",
       "</table>\n",
       "</div>"
      ],
      "text/plain": [
       "  Favorite Color Favorite Music Genre Favorite Beverage Favorite Soft Drink  \\\n",
       "0           Cool                 Rock             Vodka          7UP/Sprite   \n",
       "1        Neutral              Hip hop             Vodka     Coca Cola/Pepsi   \n",
       "2           Warm                 Rock              Wine     Coca Cola/Pepsi   \n",
       "3           Warm     Folk/Traditional           Whiskey               Fanta   \n",
       "4           Cool                 Rock             Vodka     Coca Cola/Pepsi   \n",
       "\n",
       "  Gender  \n",
       "0      F  \n",
       "1      F  \n",
       "2      F  \n",
       "3      F  \n",
       "4      F  "
      ]
     },
     "execution_count": 3,
     "metadata": {},
     "output_type": "execute_result"
    }
   ],
   "source": [
    "df.head()"
   ]
  },
  {
   "cell_type": "code",
   "execution_count": 4,
   "metadata": {
    "execution": {
     "iopub.execute_input": "2020-10-14T14:58:21.599119Z",
     "iopub.status.busy": "2020-10-14T14:58:21.598362Z",
     "iopub.status.idle": "2020-10-14T14:58:21.601623Z",
     "shell.execute_reply": "2020-10-14T14:58:21.601090Z"
    },
    "papermill": {
     "duration": 0.024477,
     "end_time": "2020-10-14T14:58:21.601720",
     "exception": false,
     "start_time": "2020-10-14T14:58:21.577243",
     "status": "completed"
    },
    "tags": []
   },
   "outputs": [
    {
     "name": "stdout",
     "output_type": "stream",
     "text": [
      "<class 'pandas.core.frame.DataFrame'>\n",
      "RangeIndex: 66 entries, 0 to 65\n",
      "Data columns (total 5 columns):\n",
      " #   Column                Non-Null Count  Dtype \n",
      "---  ------                --------------  ----- \n",
      " 0   Favorite Color        66 non-null     object\n",
      " 1   Favorite Music Genre  66 non-null     object\n",
      " 2   Favorite Beverage     66 non-null     object\n",
      " 3   Favorite Soft Drink   66 non-null     object\n",
      " 4   Gender                66 non-null     object\n",
      "dtypes: object(5)\n",
      "memory usage: 2.7+ KB\n"
     ]
    }
   ],
   "source": [
    "df.info()"
   ]
  },
  {
   "cell_type": "code",
   "execution_count": 5,
   "metadata": {
    "execution": {
     "iopub.execute_input": "2020-10-14T14:58:21.626781Z",
     "iopub.status.busy": "2020-10-14T14:58:21.625974Z",
     "iopub.status.idle": "2020-10-14T14:58:21.629892Z",
     "shell.execute_reply": "2020-10-14T14:58:21.629403Z"
    },
    "papermill": {
     "duration": 0.018359,
     "end_time": "2020-10-14T14:58:21.629984",
     "exception": false,
     "start_time": "2020-10-14T14:58:21.611625",
     "status": "completed"
    },
    "tags": []
   },
   "outputs": [
    {
     "data": {
      "text/plain": [
       "33"
      ]
     },
     "execution_count": 5,
     "metadata": {},
     "output_type": "execute_result"
    }
   ],
   "source": [
    "df.Gender[df.Gender == \"F\"].count()"
   ]
  },
  {
   "cell_type": "markdown",
   "metadata": {
    "papermill": {
     "duration": 0.010461,
     "end_time": "2020-10-14T14:58:21.650781",
     "exception": false,
     "start_time": "2020-10-14T14:58:21.640320",
     "status": "completed"
    },
    "tags": []
   },
   "source": [
    "In below cell I make Female genders 1. Male ones 0."
   ]
  },
  {
   "cell_type": "code",
   "execution_count": 6,
   "metadata": {
    "execution": {
     "iopub.execute_input": "2020-10-14T14:58:21.676467Z",
     "iopub.status.busy": "2020-10-14T14:58:21.675755Z",
     "iopub.status.idle": "2020-10-14T14:58:21.678417Z",
     "shell.execute_reply": "2020-10-14T14:58:21.677905Z"
    },
    "papermill": {
     "duration": 0.017535,
     "end_time": "2020-10-14T14:58:21.678518",
     "exception": false,
     "start_time": "2020-10-14T14:58:21.660983",
     "status": "completed"
    },
    "tags": []
   },
   "outputs": [],
   "source": [
    "df.Gender = [1 if each==\"F\" else 0 for each in df.Gender]"
   ]
  },
  {
   "cell_type": "code",
   "execution_count": 7,
   "metadata": {
    "execution": {
     "iopub.execute_input": "2020-10-14T14:58:21.706927Z",
     "iopub.status.busy": "2020-10-14T14:58:21.705499Z",
     "iopub.status.idle": "2020-10-14T14:58:21.710676Z",
     "shell.execute_reply": "2020-10-14T14:58:21.711125Z"
    },
    "papermill": {
     "duration": 0.022413,
     "end_time": "2020-10-14T14:58:21.711251",
     "exception": false,
     "start_time": "2020-10-14T14:58:21.688838",
     "status": "completed"
    },
    "tags": []
   },
   "outputs": [],
   "source": [
    "#Creating new columns with get_dummines to work with Logistic Regression\n",
    "columns_color = pd.get_dummies(df[\"Favorite Color\"], prefix='color')\n",
    "columns_music = pd.get_dummies(df[\"Favorite Music Genre\"], prefix='music')\n",
    "columns_beverage = pd.get_dummies(df[\"Favorite Beverage\"], prefix='beverage')\n",
    "columns_drink = pd.get_dummies(df[\"Favorite Soft Drink\"], prefix='drink')\n",
    "\n"
   ]
  },
  {
   "cell_type": "code",
   "execution_count": 8,
   "metadata": {
    "execution": {
     "iopub.execute_input": "2020-10-14T14:58:21.741943Z",
     "iopub.status.busy": "2020-10-14T14:58:21.741318Z",
     "iopub.status.idle": "2020-10-14T14:58:21.744174Z",
     "shell.execute_reply": "2020-10-14T14:58:21.743581Z"
    },
    "papermill": {
     "duration": 0.022513,
     "end_time": "2020-10-14T14:58:21.744277",
     "exception": false,
     "start_time": "2020-10-14T14:58:21.721764",
     "status": "completed"
    },
    "tags": []
   },
   "outputs": [],
   "source": [
    "final = pd.concat([df, columns_color], axis=1)\n",
    "final = pd.concat([final, columns_music], axis=1)\n",
    "final = pd.concat([final, columns_beverage], axis=1)\n",
    "final = pd.concat([final, columns_drink], axis=1)\n",
    "final.drop([\"Favorite Color\", \"Favorite Music Genre\", \"Favorite Beverage\", \"Favorite Soft Drink\"], axis=1, inplace=True)"
   ]
  },
  {
   "cell_type": "code",
   "execution_count": 9,
   "metadata": {
    "execution": {
     "iopub.execute_input": "2020-10-14T14:58:21.770756Z",
     "iopub.status.busy": "2020-10-14T14:58:21.770179Z",
     "iopub.status.idle": "2020-10-14T14:58:21.772481Z",
     "shell.execute_reply": "2020-10-14T14:58:21.772889Z"
    },
    "papermill": {
     "duration": 0.018123,
     "end_time": "2020-10-14T14:58:21.773027",
     "exception": false,
     "start_time": "2020-10-14T14:58:21.754904",
     "status": "completed"
    },
    "tags": []
   },
   "outputs": [],
   "source": [
    "x = final.drop(\"Gender\", axis=1)\n",
    "y = final[\"Gender\"]"
   ]
  },
  {
   "cell_type": "code",
   "execution_count": 10,
   "metadata": {
    "execution": {
     "iopub.execute_input": "2020-10-14T14:58:21.799295Z",
     "iopub.status.busy": "2020-10-14T14:58:21.798663Z",
     "iopub.status.idle": "2020-10-14T14:58:22.625246Z",
     "shell.execute_reply": "2020-10-14T14:58:22.624693Z"
    },
    "papermill": {
     "duration": 0.841594,
     "end_time": "2020-10-14T14:58:22.625377",
     "exception": false,
     "start_time": "2020-10-14T14:58:21.783783",
     "status": "completed"
    },
    "tags": []
   },
   "outputs": [],
   "source": [
    "from sklearn.model_selection import train_test_split\n",
    "x_train, x_test, y_train, y_test = train_test_split(x, y, test_size=0.2, random_state=42)"
   ]
  },
  {
   "cell_type": "code",
   "execution_count": 11,
   "metadata": {
    "execution": {
     "iopub.execute_input": "2020-10-14T14:58:22.652929Z",
     "iopub.status.busy": "2020-10-14T14:58:22.652305Z",
     "iopub.status.idle": "2020-10-14T14:58:22.735932Z",
     "shell.execute_reply": "2020-10-14T14:58:22.735331Z"
    },
    "papermill": {
     "duration": 0.099176,
     "end_time": "2020-10-14T14:58:22.736065",
     "exception": false,
     "start_time": "2020-10-14T14:58:22.636889",
     "status": "completed"
    },
    "tags": []
   },
   "outputs": [
    {
     "data": {
      "text/plain": [
       "LogisticRegression()"
      ]
     },
     "execution_count": 11,
     "metadata": {},
     "output_type": "execute_result"
    }
   ],
   "source": [
    "from sklearn.linear_model import LogisticRegression\n",
    "lr = LogisticRegression()\n",
    "lr.fit(x_train, y_train)"
   ]
  },
  {
   "cell_type": "code",
   "execution_count": 12,
   "metadata": {
    "execution": {
     "iopub.execute_input": "2020-10-14T14:58:22.766742Z",
     "iopub.status.busy": "2020-10-14T14:58:22.765945Z",
     "iopub.status.idle": "2020-10-14T14:58:22.769848Z",
     "shell.execute_reply": "2020-10-14T14:58:22.769354Z"
    },
    "papermill": {
     "duration": 0.021572,
     "end_time": "2020-10-14T14:58:22.769948",
     "exception": false,
     "start_time": "2020-10-14T14:58:22.748376",
     "status": "completed"
    },
    "tags": []
   },
   "outputs": [
    {
     "data": {
      "text/plain": [
       "0.7142857142857143"
      ]
     },
     "execution_count": 12,
     "metadata": {},
     "output_type": "execute_result"
    }
   ],
   "source": [
    "lr.score(x_test, y_test)"
   ]
  },
  {
   "cell_type": "markdown",
   "metadata": {
    "papermill": {
     "duration": 0.01161,
     "end_time": "2020-10-14T14:58:22.793199",
     "exception": false,
     "start_time": "2020-10-14T14:58:22.781589",
     "status": "completed"
    },
    "tags": []
   },
   "source": [
    "This result changes drastically when I change test_size and random_state. The reason for that there are not much data I think. So this result not really handy. But nice example for usage of logistic regression."
   ]
  },
  {
   "cell_type": "code",
   "execution_count": null,
   "metadata": {
    "papermill": {
     "duration": 0.011528,
     "end_time": "2020-10-14T14:58:22.816258",
     "exception": false,
     "start_time": "2020-10-14T14:58:22.804730",
     "status": "completed"
    },
    "tags": []
   },
   "outputs": [],
   "source": []
  }
 ],
 "metadata": {
  "kernelspec": {
   "display_name": "Python 3",
   "language": "python",
   "name": "python3"
  },
  "language_info": {
   "codemirror_mode": {
    "name": "ipython",
    "version": 3
   },
   "file_extension": ".py",
   "mimetype": "text/x-python",
   "name": "python",
   "nbconvert_exporter": "python",
   "pygments_lexer": "ipython3",
   "version": "3.7.6"
  },
  "papermill": {
   "duration": 5.389088,
   "end_time": "2020-10-14T14:58:22.934089",
   "environment_variables": {},
   "exception": null,
   "input_path": "__notebook__.ipynb",
   "output_path": "__notebook__.ipynb",
   "parameters": {},
   "start_time": "2020-10-14T14:58:17.545001",
   "version": "2.1.0"
  }
 },
 "nbformat": 4,
 "nbformat_minor": 4
}
