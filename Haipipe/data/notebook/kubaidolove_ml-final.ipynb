{
 "cells": [
  {
   "cell_type": "code",
   "execution_count": 1,
   "metadata": {},
   "outputs": [],
   "source": [
    "import numpy as np\n",
    "import pandas as pd\n",
    "from sklearn.metrics import confusion_matrix, accuracy_score\n",
    "\n",
    "dataset = pd.read_csv('../input/heart-disease-uci/heart.csv')\n",
    "X = dataset.iloc[:,:-1].values\n",
    "y = dataset.iloc[:,-1].values"
   ]
  },
  {
   "cell_type": "code",
   "execution_count": 2,
   "metadata": {},
   "outputs": [
    {
     "name": "stderr",
     "output_type": "stream",
     "text": [
      "/opt/conda/lib/python3.6/site-packages/sklearn/preprocessing/_encoders.py:415: FutureWarning: The handling of integer data will change in version 0.22. Currently, the categories are determined based on the range [0, max(values)], while in the future they will be determined based on the unique values.\n",
      "If you want the future behaviour and silence this warning, you can specify \"categories='auto'\".\n",
      "In case you used a LabelEncoder before this OneHotEncoder to convert the categories to integers, then you can now use the OneHotEncoder directly.\n",
      "  warnings.warn(msg, FutureWarning)\n",
      "/opt/conda/lib/python3.6/site-packages/sklearn/preprocessing/_encoders.py:451: DeprecationWarning: The 'categorical_features' keyword is deprecated in version 0.20 and will be removed in 0.22. You can use the ColumnTransformer instead.\n",
      "  \"use the ColumnTransformer instead.\", DeprecationWarning)\n",
      "/opt/conda/lib/python3.6/site-packages/sklearn/preprocessing/_encoders.py:415: FutureWarning: The handling of integer data will change in version 0.22. Currently, the categories are determined based on the range [0, max(values)], while in the future they will be determined based on the unique values.\n",
      "If you want the future behaviour and silence this warning, you can specify \"categories='auto'\".\n",
      "In case you used a LabelEncoder before this OneHotEncoder to convert the categories to integers, then you can now use the OneHotEncoder directly.\n",
      "  warnings.warn(msg, FutureWarning)\n",
      "/opt/conda/lib/python3.6/site-packages/sklearn/preprocessing/_encoders.py:451: DeprecationWarning: The 'categorical_features' keyword is deprecated in version 0.20 and will be removed in 0.22. You can use the ColumnTransformer instead.\n",
      "  \"use the ColumnTransformer instead.\", DeprecationWarning)\n",
      "/opt/conda/lib/python3.6/site-packages/sklearn/preprocessing/_encoders.py:415: FutureWarning: The handling of integer data will change in version 0.22. Currently, the categories are determined based on the range [0, max(values)], while in the future they will be determined based on the unique values.\n",
      "If you want the future behaviour and silence this warning, you can specify \"categories='auto'\".\n",
      "In case you used a LabelEncoder before this OneHotEncoder to convert the categories to integers, then you can now use the OneHotEncoder directly.\n",
      "  warnings.warn(msg, FutureWarning)\n",
      "/opt/conda/lib/python3.6/site-packages/sklearn/preprocessing/_encoders.py:451: DeprecationWarning: The 'categorical_features' keyword is deprecated in version 0.20 and will be removed in 0.22. You can use the ColumnTransformer instead.\n",
      "  \"use the ColumnTransformer instead.\", DeprecationWarning)\n",
      "/opt/conda/lib/python3.6/site-packages/sklearn/preprocessing/_encoders.py:415: FutureWarning: The handling of integer data will change in version 0.22. Currently, the categories are determined based on the range [0, max(values)], while in the future they will be determined based on the unique values.\n",
      "If you want the future behaviour and silence this warning, you can specify \"categories='auto'\".\n",
      "In case you used a LabelEncoder before this OneHotEncoder to convert the categories to integers, then you can now use the OneHotEncoder directly.\n",
      "  warnings.warn(msg, FutureWarning)\n",
      "/opt/conda/lib/python3.6/site-packages/sklearn/preprocessing/_encoders.py:451: DeprecationWarning: The 'categorical_features' keyword is deprecated in version 0.20 and will be removed in 0.22. You can use the ColumnTransformer instead.\n",
      "  \"use the ColumnTransformer instead.\", DeprecationWarning)\n",
      "/opt/conda/lib/python3.6/site-packages/sklearn/preprocessing/_encoders.py:415: FutureWarning: The handling of integer data will change in version 0.22. Currently, the categories are determined based on the range [0, max(values)], while in the future they will be determined based on the unique values.\n",
      "If you want the future behaviour and silence this warning, you can specify \"categories='auto'\".\n",
      "In case you used a LabelEncoder before this OneHotEncoder to convert the categories to integers, then you can now use the OneHotEncoder directly.\n",
      "  warnings.warn(msg, FutureWarning)\n",
      "/opt/conda/lib/python3.6/site-packages/sklearn/preprocessing/_encoders.py:451: DeprecationWarning: The 'categorical_features' keyword is deprecated in version 0.20 and will be removed in 0.22. You can use the ColumnTransformer instead.\n",
      "  \"use the ColumnTransformer instead.\", DeprecationWarning)\n"
     ]
    }
   ],
   "source": [
    "#Encoding Categorical Data\n",
    "from sklearn.preprocessing import OneHotEncoder\n",
    "from sklearn.compose import ColumnTransformer\n",
    "#cp\n",
    "\n",
    "columnTransformer = ColumnTransformer([('encoder', OneHotEncoder(), [2])],     remainder='passthrough')\n",
    "X=np.array(columnTransformer.fit_transform(X),dtype=np.str)\n",
    "X = X[:, 1:]\n",
    "#restecg\n",
    "columnTransformer = ColumnTransformer([('encoder', OneHotEncoder(), [8])],     remainder='passthrough')\n",
    "X=np.array(columnTransformer.fit_transform(X),dtype=np.str)\n",
    "X = X[:, 1:]\n",
    "#slope\n",
    "columnTransformer = ColumnTransformer([('encoder', OneHotEncoder(), [13])],     remainder='passthrough')\n",
    "X=np.array(columnTransformer.fit_transform(X),dtype=np.str)\n",
    "X = X[:, 1:]\n",
    "#ca\n",
    "columnTransformer = ColumnTransformer([('encoder', OneHotEncoder(), [15])],     remainder='passthrough')\n",
    "X=np.array(columnTransformer.fit_transform(X),dtype=np.str)\n",
    "X = X[:, 1:]\n",
    "#thal\n",
    "columnTransformer = ColumnTransformer([('encoder', OneHotEncoder(), [19])],     remainder='passthrough')\n",
    "X=np.array(columnTransformer.fit_transform(X),dtype=np.str)\n",
    "X = X[:, 1:]\n",
    "\n",
    "from sklearn.preprocessing import StandardScaler\n",
    "scalerX = StandardScaler()\n",
    "X = scalerX.fit_transform(X)"
   ]
  },
  {
   "cell_type": "code",
   "execution_count": 3,
   "metadata": {},
   "outputs": [],
   "source": [
    "from sklearn.model_selection import train_test_split\n",
    "XTrain, XTest, yTrain, yTest = train_test_split(X, y, test_size=0.3, random_state=0)"
   ]
  },
  {
   "cell_type": "code",
   "execution_count": 4,
   "metadata": {},
   "outputs": [
    {
     "name": "stdout",
     "output_type": "stream",
     "text": [
      "Logistic Regression :\n",
      "Accuracy =  0.8461538461538461\n",
      "[[34 10]\n",
      " [ 4 43]]\n"
     ]
    },
    {
     "name": "stderr",
     "output_type": "stream",
     "text": [
      "/opt/conda/lib/python3.6/site-packages/sklearn/linear_model/logistic.py:432: FutureWarning: Default solver will be changed to 'lbfgs' in 0.22. Specify a solver to silence this warning.\n",
      "  FutureWarning)\n"
     ]
    }
   ],
   "source": [
    "#Logistic Regression\n",
    "from sklearn.linear_model import LogisticRegression\n",
    "classifier = LogisticRegression()\n",
    "classifier.fit(XTrain,yTrain)\n",
    "yPred = classifier.predict(XTest)\n",
    "cm = confusion_matrix(yTest,yPred)\n",
    "accuracy = accuracy_score(yTest,yPred)\n",
    "print(\"Logistic Regression :\")\n",
    "print(\"Accuracy = \", accuracy)\n",
    "print(cm)"
   ]
  },
  {
   "cell_type": "code",
   "execution_count": 5,
   "metadata": {},
   "outputs": [
    {
     "name": "stdout",
     "output_type": "stream",
     "text": [
      "K Nearest Neighbors :\n",
      "Accuracy =  0.8131868131868132\n",
      "[[32 12]\n",
      " [ 5 42]]\n"
     ]
    }
   ],
   "source": [
    "#K Nearest Neighbors\n",
    "from sklearn.neighbors import KNeighborsClassifier\n",
    "classifier = KNeighborsClassifier(n_neighbors=5, p=2, metric='minkowski')\n",
    "classifier.fit(XTrain,yTrain)\n",
    "yPred = classifier.predict(XTest)\n",
    "cm = confusion_matrix(yTest,yPred)\n",
    "accuracy = accuracy_score(yTest,yPred)\n",
    "print(\"K Nearest Neighbors :\")\n",
    "print(\"Accuracy = \", accuracy)\n",
    "print(cm)"
   ]
  },
  {
   "cell_type": "code",
   "execution_count": 6,
   "metadata": {},
   "outputs": [
    {
     "name": "stdout",
     "output_type": "stream",
     "text": [
      "Gaussian Naive Bayes :\n",
      "Accuracy =  0.8131868131868132\n",
      "[[33 11]\n",
      " [ 6 41]]\n"
     ]
    }
   ],
   "source": [
    "#Gaussian Naive Bayes\n",
    "from sklearn.naive_bayes import GaussianNB\n",
    "classifier = GaussianNB()\n",
    "classifier.fit(XTrain,yTrain)\n",
    "yPred = classifier.predict(XTest)\n",
    "cm = confusion_matrix(yTest,yPred)\n",
    "accuracy = accuracy_score(yTest,yPred)\n",
    "print(\"Gaussian Naive Bayes :\")\n",
    "print(\"Accuracy = \", accuracy)\n",
    "print(cm)"
   ]
  },
  {
   "cell_type": "code",
   "execution_count": 7,
   "metadata": {},
   "outputs": [
    {
     "name": "stdout",
     "output_type": "stream",
     "text": [
      "Decision Tree Classifier :\n",
      "Accuracy =  0.6813186813186813\n",
      "[[31 13]\n",
      " [16 31]]\n"
     ]
    }
   ],
   "source": [
    "#Decision Tree Classifier\n",
    "from sklearn.tree import DecisionTreeClassifier as DT\n",
    "classifier = DT(criterion='entropy', random_state=0)\n",
    "classifier.fit(XTrain,yTrain)\n",
    "yPred = classifier.predict(XTest)\n",
    "cm = confusion_matrix(yTest,yPred)\n",
    "accuracy = accuracy_score(yTest,yPred)\n",
    "print(\"Decision Tree Classifier :\")\n",
    "print(\"Accuracy = \", accuracy)\n",
    "print(cm)"
   ]
  },
  {
   "cell_type": "code",
   "execution_count": 8,
   "metadata": {},
   "outputs": [
    {
     "name": "stdout",
     "output_type": "stream",
     "text": [
      "Random Forest Classifier :\n",
      "Accuracy =  0.8241758241758241\n",
      "[[34 10]\n",
      " [ 6 41]]\n"
     ]
    }
   ],
   "source": [
    "#Random Forest Classifier\n",
    "from sklearn.ensemble import RandomForestClassifier as RF\n",
    "classifier = RF(n_estimators=10, criterion='entropy', random_state=0)\n",
    "classifier.fit(XTrain,yTrain)\n",
    "yPred = classifier.predict(XTest)\n",
    "cm = confusion_matrix(yTest,yPred)\n",
    "accuracy = accuracy_score(yTest,yPred)\n",
    "print(\"Random Forest Classifier :\")\n",
    "print(\"Accuracy = \", accuracy)\n",
    "print(cm)"
   ]
  },
  {
   "cell_type": "code",
   "execution_count": 9,
   "metadata": {},
   "outputs": [
    {
     "name": "stderr",
     "output_type": "stream",
     "text": [
      "Using TensorFlow backend.\n"
     ]
    },
    {
     "name": "stdout",
     "output_type": "stream",
     "text": [
      "Model: \"sequential_1\"\n",
      "_________________________________________________________________\n",
      "Layer (type)                 Output Shape              Param #   \n",
      "=================================================================\n",
      "dense_1 (Dense)              (None, 12)                276       \n",
      "_________________________________________________________________\n",
      "dense_2 (Dense)              (None, 12)                156       \n",
      "_________________________________________________________________\n",
      "dense_3 (Dense)              (None, 1)                 13        \n",
      "=================================================================\n",
      "Total params: 445\n",
      "Trainable params: 445\n",
      "Non-trainable params: 0\n",
      "_________________________________________________________________\n",
      "None\n",
      "Epoch 1/20\n",
      "212/212 [==============================] - 0s 2ms/step - loss: 0.6624 - accuracy: 0.6462\n",
      "Epoch 2/20\n",
      "212/212 [==============================] - 0s 675us/step - loss: 0.4487 - accuracy: 0.8160\n",
      "Epoch 3/20\n",
      "212/212 [==============================] - 0s 626us/step - loss: 0.3560 - accuracy: 0.8302\n",
      "Epoch 4/20\n",
      "212/212 [==============================] - 0s 601us/step - loss: 0.3313 - accuracy: 0.8443\n",
      "Epoch 5/20\n",
      "212/212 [==============================] - 0s 640us/step - loss: 0.3148 - accuracy: 0.8443\n",
      "Epoch 6/20\n",
      "212/212 [==============================] - 0s 631us/step - loss: 0.3036 - accuracy: 0.8726\n",
      "Epoch 7/20\n",
      "212/212 [==============================] - 0s 645us/step - loss: 0.2943 - accuracy: 0.8821\n",
      "Epoch 8/20\n",
      "212/212 [==============================] - 0s 623us/step - loss: 0.2908 - accuracy: 0.8868\n",
      "Epoch 9/20\n",
      "212/212 [==============================] - 0s 608us/step - loss: 0.2789 - accuracy: 0.8821\n",
      "Epoch 10/20\n",
      "212/212 [==============================] - 0s 604us/step - loss: 0.2733 - accuracy: 0.8868\n",
      "Epoch 11/20\n",
      "212/212 [==============================] - 0s 595us/step - loss: 0.2653 - accuracy: 0.8915\n",
      "Epoch 12/20\n",
      "212/212 [==============================] - 0s 593us/step - loss: 0.2562 - accuracy: 0.8868\n",
      "Epoch 13/20\n",
      "212/212 [==============================] - 0s 625us/step - loss: 0.2521 - accuracy: 0.8868\n",
      "Epoch 14/20\n",
      "212/212 [==============================] - 0s 613us/step - loss: 0.2448 - accuracy: 0.8962\n",
      "Epoch 15/20\n",
      "212/212 [==============================] - 0s 582us/step - loss: 0.2343 - accuracy: 0.9009\n",
      "Epoch 16/20\n",
      "212/212 [==============================] - 0s 601us/step - loss: 0.2284 - accuracy: 0.9057\n",
      "Epoch 17/20\n",
      "212/212 [==============================] - 0s 606us/step - loss: 0.2197 - accuracy: 0.9151\n",
      "Epoch 18/20\n",
      "212/212 [==============================] - 0s 577us/step - loss: 0.2124 - accuracy: 0.9198\n",
      "Epoch 19/20\n",
      "212/212 [==============================] - 0s 578us/step - loss: 0.2061 - accuracy: 0.9198\n",
      "Epoch 20/20\n",
      "212/212 [==============================] - 0s 597us/step - loss: 0.1969 - accuracy: 0.9387\n"
     ]
    },
    {
     "data": {
      "image/png": "[encoded data removed]",
      "text/plain": [
       "<Figure size 432x288 with 1 Axes>"
      ]
     },
     "metadata": {
      "needs_background": "light"
     },
     "output_type": "display_data"
    },
    {
     "name": "stdout",
     "output_type": "stream",
     "text": [
      "Artificial Neural Network Classifier :\n",
      "Accuracy =  0.8351648351648352\n",
      "[[34 10]\n",
      " [ 5 42]]\n"
     ]
    }
   ],
   "source": [
    "#Artificial Neural Network\n",
    "from keras.models import Sequential\n",
    "from keras.layers import Dense\n",
    "\n",
    "#Initialising ANN\n",
    "classifier = Sequential()\n",
    "\n",
    "#Adding the first hidden layer or the input layer\n",
    "classifier.add(Dense(activation='relu',\n",
    "                     kernel_initializer='uniform',\n",
    "                     input_dim=22,\n",
    "                     units=12))\n",
    "#Adding the second hidden layer\n",
    "classifier.add(Dense(activation='relu',\n",
    "                     kernel_initializer='uniform',\n",
    "                     units=12))\n",
    "#Adding the output layer\n",
    "classifier.add(Dense(activation='sigmoid',\n",
    "                     kernel_initializer='uniform',\n",
    "                     units=1))\n",
    "\n",
    "#Compiling the ANN\n",
    "classifier.compile(optimizer='nadam', loss='binary_crossentropy', metrics=['accuracy'])\n",
    "print(classifier.summary())\n",
    "\n",
    "#Fitting the ANN\n",
    "history = classifier.fit(XTrain, yTrain, batch_size=3, epochs=20, verbose=1)\n",
    "from matplotlib import pyplot as plt\n",
    "plt.plot(history.history['accuracy'],'green')\n",
    "plt.plot(history.history['loss'],'red')\n",
    "plt.title('Model Accuracy-Loss')\n",
    "plt.xlabel('Epoch')\n",
    "plt.legend(['Accuracy','Loss'])\n",
    "plt.show()\n",
    "\n",
    "#Predicting the Test set Results\n",
    "yPred = classifier.predict(XTest)\n",
    "yPred = (yPred>0.5) #Since output is probability\n",
    "cm = confusion_matrix(yTest,yPred)\n",
    "accuracy = accuracy_score(yTest,yPred)\n",
    "print(\"Artificial Neural Network Classifier :\")\n",
    "print(\"Accuracy = \", accuracy)\n",
    "print(cm)"
   ]
  }
 ],
 "metadata": {
  "kernelspec": {
   "display_name": "Python 3",
   "language": "python",
   "name": "python3"
  },
  "language_info": {
   "codemirror_mode": {
    "name": "ipython",
    "version": 3
   },
   "file_extension": ".py",
   "mimetype": "text/x-python",
   "name": "python",
   "nbconvert_exporter": "python",
   "pygments_lexer": "ipython3",
   "version": "3.6.6"
  }
 },
 "nbformat": 4,
 "nbformat_minor": 1
}
