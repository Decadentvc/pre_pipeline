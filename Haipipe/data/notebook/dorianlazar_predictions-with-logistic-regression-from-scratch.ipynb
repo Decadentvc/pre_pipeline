{
 "cells": [
  {
   "cell_type": "markdown",
   "metadata": {
    "papermill": {
     "duration": 0.009525,
     "end_time": "2020-10-25T13:33:36.846368",
     "exception": false,
     "start_time": "2020-10-25T13:33:36.836843",
     "status": "completed"
    },
    "tags": []
   },
   "source": [
    "# Predicting heart disease with a logistic regression model made from scratch"
   ]
  },
  {
   "cell_type": "code",
   "execution_count": 1,
   "metadata": {
    "execution": {
     "iopub.execute_input": "2020-10-25T13:33:36.868637Z",
     "iopub.status.busy": "2020-10-25T13:33:36.867932Z",
     "iopub.status.idle": "2020-10-25T13:33:36.871738Z",
     "shell.execute_reply": "2020-10-25T13:33:36.870904Z"
    },
    "papermill": {
     "duration": 0.016562,
     "end_time": "2020-10-25T13:33:36.871851",
     "exception": false,
     "start_time": "2020-10-25T13:33:36.855289",
     "status": "completed"
    },
    "tags": []
   },
   "outputs": [],
   "source": [
    "import numpy as np"
   ]
  },
  {
   "cell_type": "code",
   "execution_count": 2,
   "metadata": {
    "execution": {
     "iopub.execute_input": "2020-10-25T13:33:36.909725Z",
     "iopub.status.busy": "2020-10-25T13:33:36.898520Z",
     "iopub.status.idle": "2020-10-25T13:33:36.917821Z",
     "shell.execute_reply": "2020-10-25T13:33:36.917423Z"
    },
    "papermill": {
     "duration": 0.036431,
     "end_time": "2020-10-25T13:33:36.917908",
     "exception": false,
     "start_time": "2020-10-25T13:33:36.881477",
     "status": "completed"
    },
    "tags": []
   },
   "outputs": [],
   "source": [
    "class LogisticRegression:\n",
    "    EPS = 1e-5\n",
    "    def __ols_solve(self, x, y):\n",
    "        # uses the closed-form formula\n",
    "        rows, cols = x.shape\n",
    "        if rows >= cols == np.linalg.matrix_rank(x):\n",
    "            y = np.maximum(self.EPS, np.minimum(y.astype(np.float32), 1-self.EPS))\n",
    "            ols_y = -np.log(np.divide(1, y) - 1)\n",
    "            self.weights = np.matmul(\n",
    "                np.matmul(\n",
    "                    np.linalg.inv(\n",
    "                        np.matmul(x.transpose(), x)\n",
    "                    ),\n",
    "                    x.transpose()),\n",
    "                ols_y)\n",
    "        else:\n",
    "            print('Error! X has not full column rank.')\n",
    "    \n",
    "    def __sgd(self, x, y, grad_fn, learning_rate, iterations, batch_size):\n",
    "        rows, cols = x.shape\n",
    "        self.weights = np.random.normal(scale=1.0/cols, size=(cols, 1))\n",
    "        num_batches = int(np.ceil(rows/batch_size))\n",
    "        \n",
    "        for i in range(iterations):\n",
    "            xy = np.concatenate([x, y], axis=1)\n",
    "            np.random.shuffle(xy)\n",
    "            x, y = xy[:, :-1], xy[:, -1:]\n",
    "            for step in range(num_batches):\n",
    "                start, end = batch_size*step, np.min([batch_size*(step+1), rows])\n",
    "                xb, yb = x[start:end], y[start:end]\n",
    "                \n",
    "                grads = grad_fn(xb, yb)\n",
    "                \n",
    "                self.weights -= learning_rate*grads\n",
    "    \n",
    "    def __sse_grad(self, xb, yb):\n",
    "        # computes the gradient of the Sum of Squared Errors loss\n",
    "        yb = np.maximum(self.EPS, np.minimum(yb.astype(np.float32), 1-self.EPS))\n",
    "        ols_yb = -np.log(np.divide(1, yb) - 1)\n",
    "        \n",
    "        grads = 2*np.matmul(\n",
    "            xb.transpose(),\n",
    "            np.matmul(xb, self.weights) - ols_yb)\n",
    "        \n",
    "        return grads\n",
    "    \n",
    "    def __mle_grad(self, xb, yb):\n",
    "        # computes the gradient of the MLE loss\n",
    "        term1 = np.matmul(xb.transpose(), 1-yb)\n",
    "        exw = np.exp(-np.matmul(xb, self.weights))\n",
    "        term2 = np.matmul(\n",
    "            (np.divide(exw, 1+exw)*xb).transpose(),\n",
    "            np.ones_like(yb))\n",
    "        return term1-term2\n",
    "    \n",
    "    def fit(self, x, y, method, learning_rate=0.001, iterations=500, batch_size=32):\n",
    "        x = np.concatenate([x, np.ones_like(y, dtype=np.float32)], axis=1)\n",
    "        if method == \"ols_solve\":\n",
    "            self.__ols_solve(x, y)\n",
    "        elif method == \"ols_sgd\":\n",
    "            self.__sgd(x, y, self.__sse_grad, learning_rate, iterations, batch_size)\n",
    "        elif method == \"mle_sgd\":\n",
    "            self.__sgd(x, y, self.__mle_grad, learning_rate, iterations, batch_size)\n",
    "        else:\n",
    "            print(f'Unknown method: \\'{method}\\'')\n",
    "        \n",
    "        return self\n",
    "    \n",
    "    def predict(self, x):\n",
    "        if not hasattr(self, 'weights'):\n",
    "            print('Cannot predict. You should call the .fit() method first.')\n",
    "            return\n",
    "        \n",
    "        x = np.concatenate([x, np.ones((x.shape[0], 1), dtype=np.float32)], axis=1)\n",
    "        \n",
    "        if x.shape[1] != self.weights.shape[0]:\n",
    "            print(f'Shapes do not match. {x.shape[1]} != {self.weights.shape[0]}')\n",
    "            return\n",
    "        \n",
    "        xw = np.matmul(x, self.weights)\n",
    "        return np.divide(1, 1+np.exp(-xw))\n",
    "    \n",
    "    def accuracy(self, x, y):\n",
    "        y_hat = self.predict(x)\n",
    "        \n",
    "        if y.shape != y_hat.shape:\n",
    "            print('Error! Predictions don\\'t have the same shape as given y')\n",
    "            return\n",
    "        \n",
    "        zeros, ones = np.zeros_like(y), np.ones_like(y)\n",
    "        y = np.where(y >= 0.5, ones, zeros)\n",
    "        y_hat = np.where(y_hat >= 0.5, ones, zeros)\n",
    "        \n",
    "        return np.mean((y == y_hat).astype(np.float32))"
   ]
  },
  {
   "cell_type": "code",
   "execution_count": 3,
   "metadata": {
    "execution": {
     "iopub.execute_input": "2020-10-25T13:33:36.934711Z",
     "iopub.status.busy": "2020-10-25T13:33:36.934288Z",
     "iopub.status.idle": "2020-10-25T13:33:37.802981Z",
     "shell.execute_reply": "2020-10-25T13:33:37.802486Z"
    },
    "papermill": {
     "duration": 0.878576,
     "end_time": "2020-10-25T13:33:37.803082",
     "exception": false,
     "start_time": "2020-10-25T13:33:36.924506",
     "status": "completed"
    },
    "tags": []
   },
   "outputs": [],
   "source": [
    "import pandas as pd\n",
    "from sklearn.model_selection import train_test_split\n",
    "from sklearn.preprocessing import MinMaxScaler"
   ]
  },
  {
   "cell_type": "code",
   "execution_count": 4,
   "metadata": {
    "execution": {
     "iopub.execute_input": "2020-10-25T13:33:37.827161Z",
     "iopub.status.busy": "2020-10-25T13:33:37.826669Z",
     "iopub.status.idle": "2020-10-25T13:33:37.863555Z",
     "shell.execute_reply": "2020-10-25T13:33:37.862918Z"
    },
    "papermill": {
     "duration": 0.054093,
     "end_time": "2020-10-25T13:33:37.863644",
     "exception": false,
     "start_time": "2020-10-25T13:33:37.809551",
     "status": "completed"
    },
    "tags": []
   },
   "outputs": [
    {
     "data": {
      "text/html": [
       "<div>\n",
       "<style scoped>\n",
       "    .dataframe tbody tr th:only-of-type {\n",
       "        vertical-align: middle;\n",
       "    }\n",
       "\n",
       "    .dataframe tbody tr th {\n",
       "        vertical-align: top;\n",
       "    }\n",
       "\n",
       "    .dataframe thead th {\n",
       "        text-align: right;\n",
       "    }\n",
       "</style>\n",
       "<table border=\"1\" class=\"dataframe\">\n",
       "  <thead>\n",
       "    <tr style=\"text-align: right;\">\n",
       "      <th></th>\n",
       "      <th>age</th>\n",
       "      <th>sex</th>\n",
       "      <th>cp</th>\n",
       "      <th>trestbps</th>\n",
       "      <th>chol</th>\n",
       "      <th>fbs</th>\n",
       "      <th>restecg</th>\n",
       "      <th>thalach</th>\n",
       "      <th>exang</th>\n",
       "      <th>oldpeak</th>\n",
       "      <th>slope</th>\n",
       "      <th>ca</th>\n",
       "      <th>thal</th>\n",
       "      <th>target</th>\n",
       "    </tr>\n",
       "  </thead>\n",
       "  <tbody>\n",
       "    <tr>\n",
       "      <th>0</th>\n",
       "      <td>63</td>\n",
       "      <td>1</td>\n",
       "      <td>3</td>\n",
       "      <td>145</td>\n",
       "      <td>233</td>\n",
       "      <td>1</td>\n",
       "      <td>0</td>\n",
       "      <td>150</td>\n",
       "      <td>0</td>\n",
       "      <td>2.3</td>\n",
       "      <td>0</td>\n",
       "      <td>0</td>\n",
       "      <td>1</td>\n",
       "      <td>1</td>\n",
       "    </tr>\n",
       "    <tr>\n",
       "      <th>1</th>\n",
       "      <td>37</td>\n",
       "      <td>1</td>\n",
       "      <td>2</td>\n",
       "      <td>130</td>\n",
       "      <td>250</td>\n",
       "      <td>0</td>\n",
       "      <td>1</td>\n",
       "      <td>187</td>\n",
       "      <td>0</td>\n",
       "      <td>3.5</td>\n",
       "      <td>0</td>\n",
       "      <td>0</td>\n",
       "      <td>2</td>\n",
       "      <td>1</td>\n",
       "    </tr>\n",
       "    <tr>\n",
       "      <th>2</th>\n",
       "      <td>41</td>\n",
       "      <td>0</td>\n",
       "      <td>1</td>\n",
       "      <td>130</td>\n",
       "      <td>204</td>\n",
       "      <td>0</td>\n",
       "      <td>0</td>\n",
       "      <td>172</td>\n",
       "      <td>0</td>\n",
       "      <td>1.4</td>\n",
       "      <td>2</td>\n",
       "      <td>0</td>\n",
       "      <td>2</td>\n",
       "      <td>1</td>\n",
       "    </tr>\n",
       "    <tr>\n",
       "      <th>3</th>\n",
       "      <td>56</td>\n",
       "      <td>1</td>\n",
       "      <td>1</td>\n",
       "      <td>120</td>\n",
       "      <td>236</td>\n",
       "      <td>0</td>\n",
       "      <td>1</td>\n",
       "      <td>178</td>\n",
       "      <td>0</td>\n",
       "      <td>0.8</td>\n",
       "      <td>2</td>\n",
       "      <td>0</td>\n",
       "      <td>2</td>\n",
       "      <td>1</td>\n",
       "    </tr>\n",
       "    <tr>\n",
       "      <th>4</th>\n",
       "      <td>57</td>\n",
       "      <td>0</td>\n",
       "      <td>0</td>\n",
       "      <td>120</td>\n",
       "      <td>354</td>\n",
       "      <td>0</td>\n",
       "      <td>1</td>\n",
       "      <td>163</td>\n",
       "      <td>1</td>\n",
       "      <td>0.6</td>\n",
       "      <td>2</td>\n",
       "      <td>0</td>\n",
       "      <td>2</td>\n",
       "      <td>1</td>\n",
       "    </tr>\n",
       "    <tr>\n",
       "      <th>...</th>\n",
       "      <td>...</td>\n",
       "      <td>...</td>\n",
       "      <td>...</td>\n",
       "      <td>...</td>\n",
       "      <td>...</td>\n",
       "      <td>...</td>\n",
       "      <td>...</td>\n",
       "      <td>...</td>\n",
       "      <td>...</td>\n",
       "      <td>...</td>\n",
       "      <td>...</td>\n",
       "      <td>...</td>\n",
       "      <td>...</td>\n",
       "      <td>...</td>\n",
       "    </tr>\n",
       "    <tr>\n",
       "      <th>298</th>\n",
       "      <td>57</td>\n",
       "      <td>0</td>\n",
       "      <td>0</td>\n",
       "      <td>140</td>\n",
       "      <td>241</td>\n",
       "      <td>0</td>\n",
       "      <td>1</td>\n",
       "      <td>123</td>\n",
       "      <td>1</td>\n",
       "      <td>0.2</td>\n",
       "      <td>1</td>\n",
       "      <td>0</td>\n",
       "      <td>3</td>\n",
       "      <td>0</td>\n",
       "    </tr>\n",
       "    <tr>\n",
       "      <th>299</th>\n",
       "      <td>45</td>\n",
       "      <td>1</td>\n",
       "      <td>3</td>\n",
       "      <td>110</td>\n",
       "      <td>264</td>\n",
       "      <td>0</td>\n",
       "      <td>1</td>\n",
       "      <td>132</td>\n",
       "      <td>0</td>\n",
       "      <td>1.2</td>\n",
       "      <td>1</td>\n",
       "      <td>0</td>\n",
       "      <td>3</td>\n",
       "      <td>0</td>\n",
       "    </tr>\n",
       "    <tr>\n",
       "      <th>300</th>\n",
       "      <td>68</td>\n",
       "      <td>1</td>\n",
       "      <td>0</td>\n",
       "      <td>144</td>\n",
       "      <td>193</td>\n",
       "      <td>1</td>\n",
       "      <td>1</td>\n",
       "      <td>141</td>\n",
       "      <td>0</td>\n",
       "      <td>3.4</td>\n",
       "      <td>1</td>\n",
       "      <td>2</td>\n",
       "      <td>3</td>\n",
       "      <td>0</td>\n",
       "    </tr>\n",
       "    <tr>\n",
       "      <th>301</th>\n",
       "      <td>57</td>\n",
       "      <td>1</td>\n",
       "      <td>0</td>\n",
       "      <td>130</td>\n",
       "      <td>131</td>\n",
       "      <td>0</td>\n",
       "      <td>1</td>\n",
       "      <td>115</td>\n",
       "      <td>1</td>\n",
       "      <td>1.2</td>\n",
       "      <td>1</td>\n",
       "      <td>1</td>\n",
       "      <td>3</td>\n",
       "      <td>0</td>\n",
       "    </tr>\n",
       "    <tr>\n",
       "      <th>302</th>\n",
       "      <td>57</td>\n",
       "      <td>0</td>\n",
       "      <td>1</td>\n",
       "      <td>130</td>\n",
       "      <td>236</td>\n",
       "      <td>0</td>\n",
       "      <td>0</td>\n",
       "      <td>174</td>\n",
       "      <td>0</td>\n",
       "      <td>0.0</td>\n",
       "      <td>1</td>\n",
       "      <td>1</td>\n",
       "      <td>2</td>\n",
       "      <td>0</td>\n",
       "    </tr>\n",
       "  </tbody>\n",
       "</table>\n",
       "<p>303 rows × 14 columns</p>\n",
       "</div>"
      ],
      "text/plain": [
       "     age  sex  cp  trestbps  chol  fbs  restecg  thalach  exang  oldpeak  \\\n",
       "0     63    1   3       145   233    1        0      150      0      2.3   \n",
       "1     37    1   2       130   250    0        1      187      0      3.5   \n",
       "2     41    0   1       130   204    0        0      172      0      1.4   \n",
       "3     56    1   1       120   236    0        1      178      0      0.8   \n",
       "4     57    0   0       120   354    0        1      163      1      0.6   \n",
       "..   ...  ...  ..       ...   ...  ...      ...      ...    ...      ...   \n",
       "298   57    0   0       140   241    0        1      123      1      0.2   \n",
       "299   45    1   3       110   264    0        1      132      0      1.2   \n",
       "300   68    1   0       144   193    1        1      141      0      3.4   \n",
       "301   57    1   0       130   131    0        1      115      1      1.2   \n",
       "302   57    0   1       130   236    0        0      174      0      0.0   \n",
       "\n",
       "     slope  ca  thal  target  \n",
       "0        0   0     1       1  \n",
       "1        0   0     2       1  \n",
       "2        2   0     2       1  \n",
       "3        2   0     2       1  \n",
       "4        2   0     2       1  \n",
       "..     ...  ..   ...     ...  \n",
       "298      1   0     3       0  \n",
       "299      1   0     3       0  \n",
       "300      1   2     3       0  \n",
       "301      1   1     3       0  \n",
       "302      1   1     2       0  \n",
       "\n",
       "[303 rows x 14 columns]"
      ]
     },
     "execution_count": 4,
     "metadata": {},
     "output_type": "execute_result"
    }
   ],
   "source": [
    "df = pd.read_csv('../input/heart-disease-uci/heart.csv')\n",
    "df"
   ]
  },
  {
   "cell_type": "code",
   "execution_count": 5,
   "metadata": {
    "execution": {
     "iopub.execute_input": "2020-10-25T13:33:37.886489Z",
     "iopub.status.busy": "2020-10-25T13:33:37.885845Z",
     "iopub.status.idle": "2020-10-25T13:33:37.889087Z",
     "shell.execute_reply": "2020-10-25T13:33:37.888647Z"
    },
    "papermill": {
     "duration": 0.016995,
     "end_time": "2020-10-25T13:33:37.889169",
     "exception": false,
     "start_time": "2020-10-25T13:33:37.872174",
     "status": "completed"
    },
    "tags": []
   },
   "outputs": [],
   "source": [
    "x, y = df.iloc[:, 0:-1].values, df.iloc[:, -1].values.reshape((-1, 1))"
   ]
  },
  {
   "cell_type": "code",
   "execution_count": 6,
   "metadata": {
    "execution": {
     "iopub.execute_input": "2020-10-25T13:33:37.910348Z",
     "iopub.status.busy": "2020-10-25T13:33:37.909846Z",
     "iopub.status.idle": "2020-10-25T13:33:37.912396Z",
     "shell.execute_reply": "2020-10-25T13:33:37.911924Z"
    },
    "papermill": {
     "duration": 0.015472,
     "end_time": "2020-10-25T13:33:37.912475",
     "exception": false,
     "start_time": "2020-10-25T13:33:37.897003",
     "status": "completed"
    },
    "tags": []
   },
   "outputs": [],
   "source": [
    "x_train, x_test, y_train, y_test = train_test_split(x, y, train_size=0.8)"
   ]
  },
  {
   "cell_type": "code",
   "execution_count": 7,
   "metadata": {
    "execution": {
     "iopub.execute_input": "2020-10-25T13:33:37.932021Z",
     "iopub.status.busy": "2020-10-25T13:33:37.931121Z",
     "iopub.status.idle": "2020-10-25T13:33:37.934665Z",
     "shell.execute_reply": "2020-10-25T13:33:37.934278Z"
    },
    "papermill": {
     "duration": 0.014917,
     "end_time": "2020-10-25T13:33:37.934754",
     "exception": false,
     "start_time": "2020-10-25T13:33:37.919837",
     "status": "completed"
    },
    "tags": []
   },
   "outputs": [],
   "source": [
    "def print_acc(model):\n",
    "    print(f'Train accuracy = {model.accuracy(x_train, y_train)} ; '+\n",
    "          f'Test accuracy = {model.accuracy(x_test, y_test)}')"
   ]
  },
  {
   "cell_type": "code",
   "execution_count": 8,
   "metadata": {
    "execution": {
     "iopub.execute_input": "2020-10-25T13:33:37.954774Z",
     "iopub.status.busy": "2020-10-25T13:33:37.954275Z",
     "iopub.status.idle": "2020-10-25T13:33:37.958045Z",
     "shell.execute_reply": "2020-10-25T13:33:37.957532Z"
    },
    "papermill": {
     "duration": 0.015847,
     "end_time": "2020-10-25T13:33:37.958149",
     "exception": false,
     "start_time": "2020-10-25T13:33:37.942302",
     "status": "completed"
    },
    "tags": []
   },
   "outputs": [],
   "source": [
    "scaler = MinMaxScaler().fit(x_train)\n",
    "x_train, x_test = scaler.transform(x_train), scaler.transform(x_test)"
   ]
  },
  {
   "cell_type": "code",
   "execution_count": 9,
   "metadata": {
    "execution": {
     "iopub.execute_input": "2020-10-25T13:33:38.056779Z",
     "iopub.status.busy": "2020-10-25T13:33:38.042597Z",
     "iopub.status.idle": "2020-10-25T13:33:38.063978Z",
     "shell.execute_reply": "2020-10-25T13:33:38.064476Z"
    },
    "papermill": {
     "duration": 0.098509,
     "end_time": "2020-10-25T13:33:38.064625",
     "exception": false,
     "start_time": "2020-10-25T13:33:37.966116",
     "status": "completed"
    },
    "tags": []
   },
   "outputs": [
    {
     "name": "stdout",
     "output_type": "stream",
     "text": [
      "Train accuracy = 0.8760330677032471 ; Test accuracy = 0.8196721076965332\n"
     ]
    }
   ],
   "source": [
    "lr_ols_solve = LogisticRegression().fit(x_train, y_train, 'ols_solve')\n",
    "print_acc(lr_ols_solve)"
   ]
  },
  {
   "cell_type": "code",
   "execution_count": 10,
   "metadata": {
    "execution": {
     "iopub.execute_input": "2020-10-25T13:33:38.092385Z",
     "iopub.status.busy": "2020-10-25T13:33:38.087548Z",
     "iopub.status.idle": "2020-10-25T13:33:38.390310Z",
     "shell.execute_reply": "2020-10-25T13:33:38.389696Z"
    },
    "papermill": {
     "duration": 0.315909,
     "end_time": "2020-10-25T13:33:38.390411",
     "exception": false,
     "start_time": "2020-10-25T13:33:38.074502",
     "status": "completed"
    },
    "scrolled": true,
    "tags": []
   },
   "outputs": [
    {
     "name": "stdout",
     "output_type": "stream",
     "text": [
      "Train accuracy = 0.8760330677032471 ; Test accuracy = 0.8196721076965332\n"
     ]
    }
   ],
   "source": [
    "lr_ols_sgd = LogisticRegression().fit(x_train, y_train, 'ols_sgd')\n",
    "print_acc(lr_ols_sgd)"
   ]
  },
  {
   "cell_type": "code",
   "execution_count": 11,
   "metadata": {
    "execution": {
     "iopub.execute_input": "2020-10-25T13:33:38.415557Z",
     "iopub.status.busy": "2020-10-25T13:33:38.414963Z",
     "iopub.status.idle": "2020-10-25T13:33:38.819222Z",
     "shell.execute_reply": "2020-10-25T13:33:38.818758Z"
    },
    "papermill": {
     "duration": 0.417852,
     "end_time": "2020-10-25T13:33:38.819299",
     "exception": false,
     "start_time": "2020-10-25T13:33:38.401447",
     "status": "completed"
    },
    "tags": []
   },
   "outputs": [
    {
     "name": "stdout",
     "output_type": "stream",
     "text": [
      "Train accuracy = 0.8429751992225647 ; Test accuracy = 0.8196721076965332\n"
     ]
    }
   ],
   "source": [
    "lr_mle_sgd = LogisticRegression().fit(x_train, y_train, 'mle_sgd')\n",
    "print_acc(lr_mle_sgd)"
   ]
  }
 ],
 "metadata": {
  "kernelspec": {
   "display_name": "Python 3",
   "language": "python",
   "name": "python3"
  },
  "language_info": {
   "codemirror_mode": {
    "name": "ipython",
    "version": 3
   },
   "file_extension": ".py",
   "mimetype": "text/x-python",
   "name": "python",
   "nbconvert_exporter": "python",
   "pygments_lexer": "ipython3",
   "version": "3.7.6"
  },
  "papermill": {
   "duration": 6.046101,
   "end_time": "2020-10-25T13:33:38.934273",
   "environment_variables": {},
   "exception": null,
   "input_path": "__notebook__.ipynb",
   "output_path": "__notebook__.ipynb",
   "parameters": {},
   "start_time": "2020-10-25T13:33:32.888172",
   "version": "2.1.0"
  }
 },
 "nbformat": 4,
 "nbformat_minor": 4
}
