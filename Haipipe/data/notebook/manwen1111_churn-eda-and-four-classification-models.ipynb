{
 "cells": [
  {
   "cell_type": "code",
   "execution_count": 1,
   "metadata": {
    "_cell_guid": "b1076dfc-b9ad-4769-8c92-a6c4dae69d19",
    "_uuid": "8f2839f25d086af736a60e9eeb907d3b93b6e0e5"
   },
   "outputs": [
    {
     "name": "stdout",
     "output_type": "stream",
     "text": [
      "/kaggle/input/telco-customer-churn/WA_Fn-UseC_-Telco-Customer-Churn.csv\n"
     ]
    }
   ],
   "source": [
    "# This Python 3 environment comes with many helpful analytics libraries installed\n",
    "# It is defined by the kaggle/python docker image: https://github.com/kaggle/docker-python\n",
    "# For example, here's several helpful packages to load in \n",
    "\n",
    "import numpy as np # linear algebra\n",
    "import pandas as pd # data processing, CSV file I/O (e.g. pd.read_csv)\n",
    "\n",
    "# Input data files are available in the \"../input/\" directory.\n",
    "# For example, running this (by clicking run or pressing Shift+Enter) will list all files under the input directory\n",
    "\n",
    "import os\n",
    "for dirname, _, filenames in os.walk('/kaggle/input'):\n",
    "    for filename in filenames:\n",
    "        print(os.path.join(dirname, filename))\n",
    "\n",
    "# Any results you write to the current directory are saved as output."
   ]
  },
  {
   "cell_type": "markdown",
   "metadata": {},
   "source": [
    "# In this project, I had finished some EDA process,and Utilized four predictive models( logistic regression, Support vector machine, random forest and neural network) and evaluate."
   ]
  },
  {
   "cell_type": "code",
   "execution_count": 2,
   "metadata": {
    "_cell_guid": "79c7e3d0-c299-4dcb-8224-4455121ee9b0",
    "_uuid": "d629ff2d2480ee46fbb7e2d37f6b5fab8052498a"
   },
   "outputs": [],
   "source": [
    "import numpy as np \n",
    "import pandas as pd \n",
    "import matplotlib.pyplot as plt \n",
    "import seaborn as sns\n",
    "\n",
    "%matplotlib inline"
   ]
  },
  {
   "cell_type": "code",
   "execution_count": null,
   "metadata": {},
   "outputs": [],
   "source": []
  },
  {
   "cell_type": "code",
   "execution_count": 3,
   "metadata": {},
   "outputs": [],
   "source": [
    "churn=pd.read_csv('../input/telco-customer-churn/WA_Fn-UseC_-Telco-Customer-Churn.csv')"
   ]
  },
  {
   "cell_type": "code",
   "execution_count": 4,
   "metadata": {},
   "outputs": [
    {
     "data": {
      "text/plain": [
       "array(['customerID', 'gender', 'SeniorCitizen', 'Partner', 'Dependents',\n",
       "       'tenure', 'PhoneService', 'MultipleLines', 'InternetService',\n",
       "       'OnlineSecurity', 'OnlineBackup', 'DeviceProtection',\n",
       "       'TechSupport', 'StreamingTV', 'StreamingMovies', 'Contract',\n",
       "       'PaperlessBilling', 'PaymentMethod', 'MonthlyCharges',\n",
       "       'TotalCharges', 'Churn'], dtype=object)"
      ]
     },
     "execution_count": 4,
     "metadata": {},
     "output_type": "execute_result"
    }
   ],
   "source": [
    "churn.columns.values"
   ]
  },
  {
   "cell_type": "raw",
   "metadata": {},
   "source": [
    "# check type and null value "
   ]
  },
  {
   "cell_type": "code",
   "execution_count": 5,
   "metadata": {},
   "outputs": [
    {
     "data": {
      "text/plain": [
       "customerID           object\n",
       "gender               object\n",
       "SeniorCitizen         int64\n",
       "Partner              object\n",
       "Dependents           object\n",
       "tenure                int64\n",
       "PhoneService         object\n",
       "MultipleLines        object\n",
       "InternetService      object\n",
       "OnlineSecurity       object\n",
       "OnlineBackup         object\n",
       "DeviceProtection     object\n",
       "TechSupport          object\n",
       "StreamingTV          object\n",
       "StreamingMovies      object\n",
       "Contract             object\n",
       "PaperlessBilling     object\n",
       "PaymentMethod        object\n",
       "MonthlyCharges      float64\n",
       "TotalCharges         object\n",
       "Churn                object\n",
       "dtype: object"
      ]
     },
     "execution_count": 5,
     "metadata": {},
     "output_type": "execute_result"
    }
   ],
   "source": [
    "churn.dtypes"
   ]
  },
  {
   "cell_type": "code",
   "execution_count": 6,
   "metadata": {},
   "outputs": [],
   "source": [
    "# change totalcharges's type(object) to float64"
   ]
  },
  {
   "cell_type": "code",
   "execution_count": 7,
   "metadata": {},
   "outputs": [],
   "source": [
    "churn['TotalCharges']=pd.to_numeric(churn['TotalCharges'],errors = 'coerce')"
   ]
  },
  {
   "cell_type": "code",
   "execution_count": 8,
   "metadata": {},
   "outputs": [
    {
     "data": {
      "text/plain": [
       "customerID           0\n",
       "gender               0\n",
       "SeniorCitizen        0\n",
       "Partner              0\n",
       "Dependents           0\n",
       "tenure               0\n",
       "PhoneService         0\n",
       "MultipleLines        0\n",
       "InternetService      0\n",
       "OnlineSecurity       0\n",
       "OnlineBackup         0\n",
       "DeviceProtection     0\n",
       "TechSupport          0\n",
       "StreamingTV          0\n",
       "StreamingMovies      0\n",
       "Contract             0\n",
       "PaperlessBilling     0\n",
       "PaymentMethod        0\n",
       "MonthlyCharges       0\n",
       "TotalCharges        11\n",
       "Churn                0\n",
       "dtype: int64"
      ]
     },
     "execution_count": 8,
     "metadata": {},
     "output_type": "execute_result"
    }
   ],
   "source": [
    "churn.isnull().sum()"
   ]
  },
  {
   "cell_type": "code",
   "execution_count": 9,
   "metadata": {},
   "outputs": [],
   "source": [
    "churn.dropna(inplace=True)"
   ]
  },
  {
   "cell_type": "code",
   "execution_count": 10,
   "metadata": {},
   "outputs": [],
   "source": [
    "# delete the first column (customerID)\n",
    "churn.head()\n",
    "churn_d=churn.iloc[:,1:]"
   ]
  },
  {
   "cell_type": "code",
   "execution_count": 11,
   "metadata": {},
   "outputs": [],
   "source": [
    "# transfrom yes,no to 1,0\n",
    "churn_d['Churn'].replace(to_replace='Yes',value=1,inplace=True) \n",
    "churn_d['Churn'].replace(to_replace='No',value=0,inplace=True)"
   ]
  },
  {
   "cell_type": "code",
   "execution_count": 12,
   "metadata": {},
   "outputs": [
    {
     "data": {
      "text/plain": [
       "array(['SeniorCitizen', 'tenure', 'MonthlyCharges', 'TotalCharges',\n",
       "       'Churn', 'gender_Female', 'gender_Male', 'Partner_No',\n",
       "       'Partner_Yes', 'Dependents_No', 'Dependents_Yes',\n",
       "       'PhoneService_No', 'PhoneService_Yes', 'MultipleLines_No',\n",
       "       'MultipleLines_No phone service', 'MultipleLines_Yes',\n",
       "       'InternetService_DSL', 'InternetService_Fiber optic',\n",
       "       'InternetService_No', 'OnlineSecurity_No',\n",
       "       'OnlineSecurity_No internet service', 'OnlineSecurity_Yes',\n",
       "       'OnlineBackup_No', 'OnlineBackup_No internet service',\n",
       "       'OnlineBackup_Yes', 'DeviceProtection_No',\n",
       "       'DeviceProtection_No internet service', 'DeviceProtection_Yes',\n",
       "       'TechSupport_No', 'TechSupport_No internet service',\n",
       "       'TechSupport_Yes', 'StreamingTV_No',\n",
       "       'StreamingTV_No internet service', 'StreamingTV_Yes',\n",
       "       'StreamingMovies_No', 'StreamingMovies_No internet service',\n",
       "       'StreamingMovies_Yes', 'Contract_Month-to-month',\n",
       "       'Contract_One year', 'Contract_Two year', 'PaperlessBilling_No',\n",
       "       'PaperlessBilling_Yes', 'PaymentMethod_Bank transfer (automatic)',\n",
       "       'PaymentMethod_Credit card (automatic)',\n",
       "       'PaymentMethod_Electronic check', 'PaymentMethod_Mailed check'],\n",
       "      dtype=object)"
      ]
     },
     "execution_count": 12,
     "metadata": {},
     "output_type": "execute_result"
    }
   ],
   "source": [
    "#get_dummy \n",
    "churn_dum= pd.get_dummies(churn_d)\n",
    "churn_dum.columns.values"
   ]
  },
  {
   "cell_type": "markdown",
   "metadata": {},
   "source": [
    "# Distribution of our target value : churn "
   ]
  },
  {
   "cell_type": "code",
   "execution_count": 13,
   "metadata": {},
   "outputs": [
    {
     "data": {
      "text/plain": [
       "<matplotlib.axes._subplots.AxesSubplot at 0x7f903bfb27b8>"
      ]
     },
     "execution_count": 13,
     "metadata": {},
     "output_type": "execute_result"
    },
    {
     "data": {
      "image/png": "[encoded data removed]",
      "text/plain": [
       "<Figure size 432x288 with 1 Axes>"
      ]
     },
     "metadata": {
      "needs_background": "light"
     },
     "output_type": "display_data"
    }
   ],
   "source": [
    "sns.countplot(x=\"Churn\",data=churn)"
   ]
  },
  {
   "cell_type": "markdown",
   "metadata": {},
   "source": [
    "From the result, the dataset is imbalance, which would make our accuracy measurement untenable, when \n",
    "we evaluate the model, we prefer to use recall or f1 to judge."
   ]
  },
  {
   "cell_type": "markdown",
   "metadata": {},
   "source": [
    "# Correlation Analysis"
   ]
  },
  {
   "cell_type": "code",
   "execution_count": 14,
   "metadata": {},
   "outputs": [
    {
     "data": {
      "text/plain": [
       "Text(0, 0.5, 'correlation')"
      ]
     },
     "execution_count": 14,
     "metadata": {},
     "output_type": "execute_result"
    },
    {
     "data": {
      "image/png": "[encoded data removed]",
      "text/plain": [
       "<Figure size 1080x576 with 1 Axes>"
      ]
     },
     "metadata": {
      "needs_background": "light"
     },
     "output_type": "display_data"
    }
   ],
   "source": [
    "plt.figure(figsize=(15,8)) \n",
    "churn_corr = churn_dum.corr()['Churn'].sort_values(ascending=False).plot(kind='bar', \n",
    "                                                                         title ='Correlation between Churn & variables'\n",
    "                                                                        )\n",
    "churn_corr.set_xlabel('category',fontsize=20) \n",
    "churn_corr.set_ylabel('correlation',fontsize=20)"
   ]
  },
  {
   "cell_type": "code",
   "execution_count": 15,
   "metadata": {},
   "outputs": [
    {
     "data": {
      "text/plain": [
       "<matplotlib.axes._subplots.AxesSubplot at 0x7f9039d9ad68>"
      ]
     },
     "execution_count": 15,
     "metadata": {},
     "output_type": "execute_result"
    },
    {
     "data": {
      "image/png": "[encoded data removed]",
      "text/plain": [
       "<Figure size 800x640 with 2 Axes>"
      ]
     },
     "metadata": {
      "needs_background": "light"
     },
     "output_type": "display_data"
    }
   ],
   "source": [
    "plt.figure(figsize=(10,8), dpi= 80) \n",
    "sns.heatmap(churn.corr(), xticklabels=churn.corr().columns, \n",
    "            yticklabels=churn.corr().columns, cmap='RdYlGn', center=0, annot=True)"
   ]
  },
  {
   "cell_type": "markdown",
   "metadata": {},
   "source": [
    "Top 3 positive correlated variables : contract month_to_month, online_security_No, tech_support_No, \n",
    "Top 3 negative correlated variables:  tenure, contract_2_year, internet_servive_no, streaming_service_NO \n",
    "\n",
    "Some interetsing things:\n",
    "\n",
    "1.contract_month_to_month and contract_2year have totally diﬀerent inﬂuences.\n",
    "\n",
    "2.monthly charge and total_charge have opposite eﬀects on churn\n",
    "\n",
    "3.total_charge and tenure has strong relationship (0.83)\n",
    "\n",
    "4.absence of online security and tech support seem to be positively correlated with churn\n",
    "\n",
    "5.customer with no internet service are less likely to churn. \n",
    "\n",
    "6.difference among payment methods.\n",
    "\n",
    "..."
   ]
  },
  {
   "cell_type": "code",
   "execution_count": 16,
   "metadata": {},
   "outputs": [],
   "source": [
    "# more exploration "
   ]
  },
  {
   "cell_type": "markdown",
   "metadata": {},
   "source": [
    " # Churn & Contract"
   ]
  },
  {
   "cell_type": "code",
   "execution_count": 17,
   "metadata": {},
   "outputs": [
    {
     "name": "stdout",
     "output_type": "stream",
     "text": [
      "Month-to-month\n",
      "One year\n",
      "Two year\n"
     ]
    }
   ],
   "source": [
    "for item in churn['Contract'].unique():\n",
    "    print(item)"
   ]
  },
  {
   "cell_type": "code",
   "execution_count": 18,
   "metadata": {},
   "outputs": [
    {
     "name": "stdout",
     "output_type": "stream",
     "text": [
      "['Month-to-month', 'Two year', 'One year']\n"
     ]
    }
   ],
   "source": [
    "contract_types = (churn['Contract'].value_counts(normalize=True) * 100).keys().tolist() \n",
    "contract_propotion = (churn['Contract'].value_counts(normalize=True) * 100).values.tolist()\n",
    "for i in range(3):\n",
    "    contract_propotion[i]=round(contract_propotion[i],2)\n",
    "text= ['{} %'.format(x) for x in contract_propotion]\n",
    "print(contract_types)"
   ]
  },
  {
   "cell_type": "markdown",
   "metadata": {},
   "source": [
    "the result shows that majority of cutsomers have month_month contract(55.11%)\n",
    "Then visualize the churn rate for different groups."
   ]
  },
  {
   "cell_type": "code",
   "execution_count": 19,
   "metadata": {},
   "outputs": [
    {
     "name": "stdout",
     "output_type": "stream",
     "text": [
      "['Month-to-month', 'Two year', 'One year'] \n",
      " [55.11, 23.96, 20.93] \n",
      " [43, 11, 3] \n",
      " [57, 89, 97]\n"
     ]
    }
   ],
   "source": [
    "month_to_month =churn.loc[churn['Contract']=='Month-to-month'] \n",
    "m2m = int(round((month_to_month['Churn'].value_counts(normalize=True) * 100)['Yes']))\n",
    "one_year =churn.loc[churn['Contract']=='One year'] \n",
    "oney = int(round((one_year['Churn'].value_counts(normalize=True) * 100)['Yes']))\n",
    "two_year =churn.loc[churn['Contract']=='Two year'] \n",
    "twoy = int(round((two_year['Churn'].value_counts(normalize=True) * 100)['Yes']))\n",
    "churn_rate = [m2m, oney, twoy] \n",
    "retention_rate = [100 - m2m, 100 - oney, 100 - twoy]\n",
    "print(contract_types,'\\n',contract_propotion,'\\n',churn_rate,'\\n',retention_rate)"
   ]
  },
  {
   "cell_type": "code",
   "execution_count": 20,
   "metadata": {},
   "outputs": [
    {
     "data": {
      "text/plain": [
       "Text(0.5, 0, 'contract type')"
      ]
     },
     "execution_count": 20,
     "metadata": {},
     "output_type": "execute_result"
    },
    {
     "data": {
      "image/png": "[encoded data removed]",
      "text/plain": [
       "<Figure size 576x432 with 1 Axes>"
      ]
     },
     "metadata": {
      "needs_background": "light"
     },
     "output_type": "display_data"
    }
   ],
   "source": [
    "#Visulize the result above \n",
    "\n",
    "plt.figure(figsize=(8,6)) \n",
    "churn_label=['{} %'.format(x) for x in churn_rate] \n",
    "retention_label=['{} %'.format(x) for x in retention_rate]\n",
    "p1=plt.bar(contract_types,churn_rate,color='yellow', hatch=\"*\") \n",
    "p2=plt.bar(contract_types, retention_rate,bottom=churn_rate,color='#FFE4C4')\n",
    "plt.ylim(0,100) \n",
    "plt.ylabel('churn and retention rate') \n",
    "plt.xlabel('contract type')"
   ]
  },
  {
   "cell_type": "markdown",
   "metadata": {},
   "source": [
    "the area of yellow with star represents churn rate. According to the bar chart, people with month to month contract are much easier to churn.\n",
    "M2M > 2 year > 1 year"
   ]
  },
  {
   "cell_type": "markdown",
   "metadata": {},
   "source": [
    "# Churn & Charge & Contract"
   ]
  },
  {
   "cell_type": "markdown",
   "metadata": {},
   "source": [
    "install plotly from terminal\n",
    "\n",
    "****pip install plotly\n",
    "\n",
    "https://plot.ly/python/plotly-express/"
   ]
  },
  {
   "cell_type": "code",
   "execution_count": 21,
   "metadata": {},
   "outputs": [
    {
     "data": {
      "text/html": [
       "        <script type=\"text/javascript\">\n",
       "        window.PlotlyConfig = {MathJaxConfig: 'local'};\n",
       "        if (window.MathJax) {MathJax.Hub.Config({SVG: {font: \"STIX-Web\"}});}\n",
       "        if (typeof require !== 'undefined') {\n",
       "        require.undef(\"plotly\");\n",
       "        requirejs.config({\n",
       "            paths: {\n",
       "                'plotly': ['https://cdn.plot.ly/plotly-latest.min']\n",
       "            }\n",
       "        });\n",
       "        require(['plotly'], function(Plotly) {\n",
       "            window._Plotly = Plotly;\n",
       "        });\n",
       "        }\n",
       "        </script>\n",
       "        "
      ]
     },
     "metadata": {},
     "output_type": "display_data"
    },
    {
     "data": {
      "text/html": [
       "<div>\n",
       "        \n",
       "        \n",
       "            <div id=\"a13cf59f-9d65-475e-8685-75d5f81a7428\" class=\"plotly-graph-div\" style=\"height:525px; width:100%;\"></div>\n",
       "            <script type=\"text/javascript\">\n",
       "                require([\"plotly\"], function(Plotly) {\n",
       "                    window.PLOTLYENV=window.PLOTLYENV || {};\n",
       "                    \n",
       "                if (document.getElementById(\"a13cf59f-9d65-475e-8685-75d5f81a7428\")) {\n",
       "                    Plotly.newPlot(\n",
       "                        'a13cf59f-9d65-475e-8685-75d5f81a7428',\n",
       "                        [{\"alignmentgroup\": \"True\", \"bingroup\": \"x\", \"histfunc\": \"avg\", \"hoverlabel\": {\"namelength\": 0}, \"hovertemplate\": \"Churn=%{x}<br>Contract=Month-to-month<br>avg of MonthlyCharges=%{y}\", \"legendgroup\": \"No\", \"marker\": {\"color\": \"#636efa\"}, \"name\": \"No\", \"offsetgroup\": \"No\", \"orientation\": \"v\", \"showlegend\": true, \"type\": \"histogram\", \"x\": [\"No\", \"No\", \"No\", \"No\", \"No\", \"No\", \"No\", \"No\", \"No\", \"No\", \"No\", \"No\", \"No\", \"No\", \"No\", \"No\", \"No\", \"No\", \"No\", \"No\", \"No\", \"No\", \"No\", \"No\", \"No\", \"No\", \"No\", \"No\", \"No\", \"No\", \"No\", \"No\", \"No\", \"No\", \"No\", \"No\", \"No\", \"No\", \"No\", \"No\", \"No\", \"No\", \"No\", \"No\", \"No\", \"No\", \"No\", \"No\", \"No\", \"No\", \"No\", \"No\", \"No\", \"No\", \"No\", \"No\", \"No\", \"No\", \"No\", \"No\", \"No\", \"No\", \"No\", \"No\", \"No\", \"No\", \"No\", \"No\", \"No\", \"No\", \"No\", \"No\", \"No\", \"No\", \"No\", \"No\", \"No\", \"No\", \"No\", \"No\", \"No\", \"No\", \"No\", \"No\", \"No\", \"No\", \"No\", \"No\", \"No\", \"No\", \"No\", \"No\", \"No\", \"No\", \"No\", \"No\", \"No\", \"No\", \"No\", \"No\", \"No\", \"No\", \"No\", \"No\", \"No\", \"No\", \"No\", \"No\", \"No\", \"No\", \"No\", \"No\", \"No\", \"No\", \"No\", \"No\", \"No\", \"No\", \"No\", \"No\", \"No\", \"No\", \"No\", \"No\", \"No\", \"No\", \"No\", \"No\", \"No\", \"No\", \"No\", \"No\", \"No\", \"No\", \"No\", \"No\", \"No\", \"No\", \"No\", \"No\", \"No\", \"No\", \"No\", \"No\", \"No\", \"No\", \"No\", \"No\", \"No\", \"No\", \"No\", \"No\", \"No\", \"No\", \"No\", \"No\", \"No\", \"No\", \"No\", \"No\", \"No\", \"No\", \"No\", \"No\", \"No\", \"No\", \"No\", \"No\", \"No\", \"No\", \"No\", \"No\", \"No\", \"No\", \"No\", \"No\", \"No\", \"No\", \"No\", \"No\", \"No\", \"No\", \"No\", \"No\", \"No\", \"No\", \"No\", \"No\", \"No\", \"No\", \"No\", \"No\", \"No\", \"No\", \"No\", \"No\", \"No\", \"No\", \"No\", \"No\", \"No\", \"No\", \"No\", \"No\", \"No\", \"No\", \"No\", \"No\", \"No\", \"No\", \"No\", \"No\", \"No\", \"No\", \"No\", \"No\", \"No\", \"No\", \"No\", \"No\", \"No\", \"No\", \"No\", \"No\", \"No\", \"No\", \"No\", \"No\", \"No\", \"No\", \"No\", \"No\", \"No\", \"No\", \"No\", \"No\", \"No\", \"No\", \"No\", \"No\", \"No\", \"No\", \"No\", \"No\", \"No\", \"No\", \"No\", \"No\", \"No\", \"No\", \"No\", \"No\", \"No\", \"No\", \"No\", \"No\", \"No\", \"No\", \"No\", \"No\", \"No\", \"No\", \"No\", \"No\", \"No\", \"No\", \"No\", \"No\", \"No\", \"No\", \"No\", \"No\", \"No\", \"No\", \"No\", \"No\", \"No\", \"No\", \"No\", \"No\", \"No\", \"No\", \"No\", \"No\", \"No\", \"No\", \"No\", \"No\", \"No\", \"No\", \"No\", \"No\", \"No\", \"No\", \"No\", \"No\", \"No\", \"No\", \"No\", \"No\", \"No\", \"No\", \"No\", \"No\", \"No\", \"No\", \"No\", \"No\", \"No\", \"No\", \"No\", \"No\", \"No\", \"No\", \"No\", \"No\", \"No\", \"No\", \"No\", \"No\", \"No\", \"No\", \"No\", \"No\", \"No\", \"No\", \"No\", \"No\", \"No\", \"No\", \"No\", \"No\", \"No\", \"No\", \"No\", \"No\", \"No\", \"No\", \"No\", \"No\", \"No\", \"No\", \"No\", \"No\", \"No\", \"No\", \"No\", \"No\", \"No\", \"No\", \"No\", \"No\", \"No\", \"No\", \"No\", \"No\", \"No\", \"No\", \"No\", \"No\", \"No\", \"No\", \"No\", \"No\", \"No\", \"No\", \"No\", \"No\", \"No\", \"No\", \"No\", \"No\", \"No\", \"No\", \"No\", \"No\", \"No\", \"No\", \"No\", \"No\", \"No\", \"No\", \"No\", \"No\", \"No\", \"No\", \"No\", \"No\", \"No\", \"No\", \"No\", \"No\", \"No\", \"No\", \"No\", \"No\", \"No\", \"No\", \"No\", \"No\", \"No\", \"No\", \"No\", \"No\", \"No\", \"No\", \"No\", \"No\", \"No\", \"No\", \"No\", \"No\", \"No\", \"No\", \"No\", \"No\", \"No\", \"No\", \"No\", \"No\", \"No\", \"No\", \"No\", \"No\", \"No\", \"No\", \"No\", \"No\", \"No\", \"No\", \"No\", \"No\", \"No\", \"No\", \"No\", \"No\", \"No\", \"No\", \"No\", \"No\", \"No\", \"No\", \"No\", \"No\", \"No\", \"No\", \"No\", \"No\", \"No\", \"No\", \"No\", \"No\", \"No\", \"No\", \"No\", \"No\", \"No\", \"No\", \"No\", \"No\", \"No\", \"No\", \"No\", \"No\", \"No\", \"No\", \"No\", \"No\", \"No\", \"No\", \"No\", \"No\", \"No\", \"No\", \"No\", \"No\", \"No\", \"No\", \"No\", \"No\", \"No\", \"No\", \"No\", \"No\", \"No\", \"No\", \"No\", \"No\", \"No\", \"No\", \"No\", \"No\", \"No\", \"No\", \"No\", \"No\", \"No\", \"No\", \"No\", \"No\", \"No\", \"No\", \"No\", \"No\", \"No\", \"No\", \"No\", \"No\", \"No\", \"No\", \"No\", \"No\", \"No\", \"No\", \"No\", \"No\", \"No\", \"No\", \"No\", \"No\", \"No\", \"No\", \"No\", \"No\", \"No\", \"No\", \"No\", \"No\", \"No\", \"No\", \"No\", \"No\", \"No\", \"No\", \"No\", \"No\", \"No\", \"No\", \"No\", \"No\", \"No\", \"No\", \"No\", \"No\", \"No\", \"No\", \"No\", \"No\", \"No\", \"No\", \"No\", \"No\", \"No\", \"No\", \"No\", \"No\", \"No\", \"No\", \"No\", \"No\", \"No\", \"No\", \"No\", \"No\", \"No\", \"No\", \"No\", \"No\", \"No\", \"No\", \"No\", \"No\", \"No\", \"No\", \"No\", \"No\", \"No\", \"No\", \"No\", \"No\", \"No\", \"No\", \"No\", \"No\", \"No\", \"No\", \"No\", \"No\", \"No\", \"No\", \"No\", \"No\", \"No\", \"No\", \"No\", \"No\", \"No\", \"No\", \"No\", \"No\", \"No\", \"No\", \"No\", \"No\", \"No\", \"No\", \"No\", \"No\", \"No\", \"No\", \"No\", \"No\", \"No\", \"No\", \"No\", \"No\", \"No\", \"No\", \"No\", \"No\", \"No\", \"No\", \"No\", \"No\", \"No\", \"No\", \"No\", \"No\", \"No\", \"No\", \"No\", \"No\", \"No\", \"No\", \"No\", \"No\", \"No\", \"No\", \"No\", \"No\", \"No\", \"No\", \"No\", \"No\", \"No\", \"No\", \"No\", \"No\", \"No\", \"No\", \"No\", \"No\", \"No\", \"No\", \"No\", \"No\", \"No\", \"No\", \"No\", \"No\", \"No\", \"No\", \"No\", \"No\", \"No\", \"No\", \"No\", \"No\", \"No\", \"No\", \"No\", \"No\", \"No\", \"No\", \"No\", \"No\", \"No\", \"No\", \"No\", \"No\", \"No\", \"No\", \"No\", \"No\", \"No\", \"No\", \"No\", \"No\", \"No\", \"No\", \"No\", \"No\", \"No\", \"No\", \"No\", \"No\", \"No\", \"No\", \"No\", \"No\", \"No\", \"No\", \"No\", \"No\", \"No\", \"No\", \"No\", \"No\", \"No\", \"No\", \"No\", \"No\", \"No\", \"No\", \"No\", \"No\", \"No\", \"No\", \"No\", \"No\", \"No\", \"No\", \"No\", \"No\", \"No\", \"No\", \"No\", \"No\", \"No\", \"No\", \"No\", \"No\", \"No\", \"No\", \"No\", \"No\", \"No\", \"No\", \"No\", \"No\", \"No\", \"No\", \"No\", \"No\", \"No\", \"No\", \"No\", \"No\", \"No\", \"No\", \"No\", \"No\", \"No\", \"No\", \"No\", \"No\", \"No\", \"No\", \"No\", \"No\", \"No\", \"No\", \"No\", \"No\", \"No\", \"No\", \"No\", \"No\", \"No\", \"No\", \"No\", \"No\", \"No\", \"No\", \"No\", \"No\", \"No\", \"No\", \"No\", \"No\", \"No\", \"No\", \"No\", \"No\", \"No\", \"No\", \"No\", \"No\", \"No\", \"No\", \"No\", \"No\", \"No\", \"No\", \"No\", \"No\", \"No\", \"No\", \"No\", \"No\", \"No\", \"No\", \"No\", \"No\", \"No\", \"No\", \"No\", \"No\", \"No\", \"No\", \"No\", \"No\", \"No\", \"No\", \"No\", \"No\", \"No\", \"No\", \"No\", \"No\", \"No\", \"No\", \"No\", \"No\", \"No\", \"No\", \"No\", \"No\", \"No\", \"No\", \"No\", \"No\", \"No\", \"No\", \"No\", \"No\", \"No\", \"No\", \"No\", \"No\", \"No\", \"No\", \"No\", \"No\", \"No\", \"No\", \"No\", \"No\", \"No\", \"No\", \"No\", \"No\", \"No\", \"No\", \"No\", \"No\", \"No\", \"No\", \"No\", \"No\", \"No\", \"No\", \"No\", \"No\", \"No\", \"No\", \"No\", \"No\", \"No\", \"No\", \"No\", \"No\", \"No\", \"No\", \"No\", \"No\", \"No\", \"No\", \"No\", \"No\", \"No\", \"No\", \"No\", \"No\", \"No\", \"No\", \"No\", \"No\", \"No\", \"No\", \"No\", \"No\", \"No\", \"No\", \"No\", \"No\", \"No\", \"No\", \"No\", \"No\", \"No\", \"No\", \"No\", \"No\", \"No\", \"No\", \"No\", \"No\", \"No\", \"No\", \"No\", \"No\", \"No\", \"No\", \"No\", \"No\", \"No\", \"No\", \"No\", \"No\", \"No\", \"No\", \"No\", \"No\", \"No\", \"No\", \"No\", \"No\", \"No\", \"No\", \"No\", \"No\", \"No\", \"No\", \"No\", \"No\", \"No\", \"No\", \"No\", \"No\", \"No\", \"No\", \"No\", \"No\", \"No\", \"No\", \"No\", \"No\", \"No\", \"No\", \"No\", \"No\", \"No\", \"No\", \"No\", \"No\", \"No\", \"No\", \"No\", \"No\", \"No\", \"No\", \"No\", \"No\", \"No\", \"No\", \"No\", \"No\", \"No\", \"No\", \"No\", \"No\", \"No\", \"No\", \"No\", \"No\", \"No\", \"No\", \"No\", \"No\", \"No\", \"No\", \"No\", \"No\", \"No\", \"No\", \"No\", \"No\", \"No\", \"No\", \"No\", \"No\", \"No\", \"No\", \"No\", \"No\", \"No\", \"No\", \"No\", \"No\", \"No\", \"No\", \"No\", \"No\", \"No\", \"No\", \"No\", \"No\", \"No\", \"No\", \"No\", \"No\", \"No\", \"No\", \"No\", \"No\", \"No\", \"No\", \"No\", \"No\", \"No\", \"No\", \"No\", \"No\", \"No\", \"No\", \"No\", \"No\", \"No\", \"No\", \"No\", \"No\", \"No\", \"No\", \"No\", \"No\", \"No\", \"No\", \"No\", \"No\", \"No\", \"No\", \"No\", \"No\", \"No\", \"No\", \"No\", \"No\", \"No\", \"No\", \"No\", \"No\", \"No\", \"No\", \"No\", \"No\", \"No\", \"No\", \"No\", \"No\", \"No\", \"No\", \"No\", \"No\", \"No\", \"No\", \"No\", \"No\", \"No\", \"No\", \"No\", \"No\", \"No\", \"No\", \"No\", \"No\", \"No\", \"No\", \"No\", \"No\", \"No\", \"No\", \"No\", \"No\", \"No\", \"No\", \"No\", \"No\", \"No\", \"No\", \"No\", \"No\", \"No\", \"No\", \"No\", \"No\", \"No\", \"No\", \"No\", \"No\", \"No\", \"No\", \"No\", \"No\", \"No\", \"No\", \"No\", \"No\", \"No\", \"No\", \"No\", \"No\", \"No\", \"No\", \"No\", \"No\", \"No\", \"No\", \"No\", \"No\", \"No\", \"No\", \"No\", \"No\", \"No\", \"No\", \"No\", \"No\", \"No\", \"No\", \"No\", \"No\", \"No\", \"No\", \"No\", \"No\", \"No\", \"No\", \"No\", \"No\", \"No\", \"No\", \"No\", \"No\", \"No\", \"No\", \"No\", \"No\", \"No\", \"No\", \"No\", \"No\", \"No\", \"No\", \"No\", \"No\", \"No\", \"No\", \"No\", \"No\", \"No\", \"No\", \"No\", \"No\", \"No\", \"No\", \"No\", \"No\", \"No\", \"No\", \"No\", \"No\", \"No\", \"No\", \"No\", \"No\", \"No\", \"No\", \"No\", \"No\", \"No\", \"No\", \"No\", \"No\", \"No\", \"No\", \"No\", \"No\", \"No\", \"No\", \"No\", \"No\", \"No\", \"No\", \"No\", \"No\", \"No\", \"No\", \"No\", \"No\", \"No\", \"No\", \"No\", \"No\", \"No\", \"No\", \"No\", \"No\", \"No\", \"No\", \"No\", \"No\", \"No\", \"No\", \"No\", \"No\", \"No\", \"No\", \"No\", \"No\", \"No\", \"No\", \"No\", \"No\", \"No\", \"No\", \"No\", \"No\", \"No\", \"No\", \"No\", \"No\", \"No\", \"No\", \"No\", \"No\", \"No\", \"No\", \"No\", \"No\", \"No\", \"No\", \"No\", \"No\", \"No\", \"No\", \"No\", \"No\", \"No\", \"No\", \"No\", \"No\", \"No\", \"No\", \"No\", \"No\", \"No\", \"No\", \"No\", \"No\", \"No\", \"No\", \"No\", \"No\", \"No\", \"No\", \"No\", \"No\", \"No\", \"No\", \"No\", \"No\", \"No\", \"No\", \"No\", \"No\", \"No\", \"No\", \"No\", \"No\", \"No\", \"No\", \"No\", \"No\", \"No\", \"No\", \"No\", \"No\", \"No\", \"No\", \"No\", \"No\", \"No\", \"No\", \"No\", \"No\", \"No\", \"No\", \"No\", \"No\", \"No\", \"No\", \"No\", \"No\", \"No\", \"No\", \"No\", \"No\", \"No\", \"No\", \"No\", \"No\", \"No\", \"No\", \"No\", \"No\", \"No\", \"No\", \"No\", \"No\", \"No\", \"No\", \"No\", \"No\", \"No\", \"No\", \"No\", \"No\", \"No\", \"No\", \"No\", \"No\", \"No\", \"No\", \"No\", \"No\", \"No\", \"No\", \"No\", \"No\", \"No\", \"No\", \"No\", \"No\", \"No\", \"No\", \"No\", \"No\", \"No\", \"No\", \"No\", \"No\", \"No\", \"No\", \"No\", \"No\", \"No\", \"No\", \"No\", \"No\", \"No\", \"No\", \"No\", \"No\", \"No\", \"No\", \"No\", \"No\", \"No\", \"No\", \"No\", \"No\", \"No\", \"No\", \"No\", \"No\", \"No\", \"No\", \"No\", \"No\", \"No\", \"No\", \"No\", \"No\", \"No\", \"No\", \"No\", \"No\", \"No\", \"No\", \"No\", \"No\", \"No\", \"No\", \"No\", \"No\", \"No\", \"No\", \"No\", \"No\", \"No\", \"No\", \"No\", \"No\", \"No\", \"No\", \"No\", \"No\", \"No\", \"No\", \"No\", \"No\", \"No\", \"No\", \"No\", \"No\", \"No\", \"No\", \"No\", \"No\", \"No\", \"No\", \"No\", \"No\", \"No\", \"No\", \"No\", \"No\", \"No\", \"No\", \"No\", \"No\", \"No\", \"No\", \"No\", \"No\", \"No\", \"No\", \"No\", \"No\", \"No\", \"No\", \"No\", \"No\", \"No\", \"No\", \"No\", \"No\", \"No\", \"No\", \"No\", \"No\", \"No\", \"No\", \"No\", \"No\", \"No\", \"No\", \"No\", \"No\", \"No\", \"No\", \"No\", \"No\", \"No\", \"No\", \"No\", \"No\", \"No\", \"No\", \"No\", \"No\", \"No\", \"No\", \"No\", \"No\", \"No\", \"No\", \"No\", \"No\", \"No\", \"No\", \"No\", \"No\", \"No\", \"No\", \"No\", \"No\", \"No\", \"No\", \"No\", \"No\", \"No\", \"No\", \"No\", \"No\", \"No\", \"No\", \"No\", \"No\", \"No\", \"No\", \"No\", \"No\", \"No\", \"No\", \"No\", \"No\", \"No\", \"No\", \"No\", \"No\", \"No\", \"No\", \"No\", \"No\", \"No\", \"No\", \"No\", \"No\", \"No\", \"No\", \"No\", \"No\", \"No\", \"No\", \"No\", \"No\", \"No\", \"No\", \"No\", \"No\", \"No\", \"No\", \"No\", \"No\", \"No\", \"No\", \"No\", \"No\", \"No\", \"No\", \"No\", \"No\", \"No\", \"No\", \"No\", \"No\", \"No\", \"No\", \"No\", \"No\", \"No\", \"No\", \"No\", \"No\", \"No\", \"No\", \"No\", \"No\", \"No\", \"No\", \"No\", \"No\", \"No\", \"No\", \"No\", \"No\", \"No\", \"No\", \"No\", \"No\", \"No\", \"No\", \"No\", \"No\", \"No\", \"No\", \"No\", \"No\", \"No\", \"No\", \"No\", \"No\", \"No\", \"No\", \"No\", \"No\", \"No\", \"No\", \"No\", \"No\", \"No\", \"No\", \"No\", \"No\", \"No\", \"No\", \"No\", \"No\", \"No\", \"No\", \"No\", \"No\", \"No\", \"No\", \"No\", \"No\", \"No\", \"No\", \"No\", \"No\", \"No\", \"No\", \"No\", \"No\", \"No\", \"No\", \"No\", \"No\", \"No\", \"No\", \"No\", \"No\", \"No\", \"No\", \"No\", \"No\", \"No\", \"No\", \"No\", \"No\", \"No\", \"No\", \"No\", \"No\", \"No\", \"No\", \"No\", \"No\", \"No\", \"No\", \"No\", \"No\", \"No\", \"No\", \"No\", \"No\", \"No\", \"No\", \"No\", \"No\", \"No\", \"No\", \"No\", \"No\", \"No\", \"No\", \"No\", \"No\", \"No\", \"No\", \"No\", \"No\", \"No\", \"No\", \"No\", \"No\", \"No\", \"No\", \"No\", \"No\", \"No\", \"No\", \"No\", \"No\", \"No\", \"No\", \"No\", \"No\", \"No\", \"No\", \"No\", \"No\", \"No\", \"No\", \"No\", \"No\", \"No\", \"No\", \"No\", \"No\", \"No\", \"No\", \"No\", \"No\", \"No\", \"No\", \"No\", \"No\", \"No\", \"No\", \"No\", \"No\", \"No\", \"No\", \"No\", \"No\", \"No\", \"No\", \"No\", \"No\", \"No\", \"No\", \"No\", \"No\", \"No\", \"No\", \"No\", \"No\", \"No\", \"No\", \"No\", \"No\", \"No\", \"No\", \"No\", \"No\", \"No\", \"No\", \"No\", \"No\", \"No\", \"No\", \"No\", \"No\", \"No\", \"No\", \"No\", \"No\", \"No\", \"No\", \"No\", \"No\", \"No\", \"No\", \"No\", \"No\", \"No\", \"No\", \"No\", \"No\", \"No\", \"No\", \"No\", \"No\", \"No\", \"No\", \"No\", \"No\", \"No\", \"No\", \"No\", \"No\", \"No\", \"No\", \"No\", \"No\", \"No\", \"No\", \"No\", \"No\", \"No\", \"No\", \"No\", \"No\", \"No\", \"No\", \"No\", \"No\", \"No\", \"No\", \"No\", \"No\", \"No\", \"No\", \"No\", \"No\", \"No\", \"No\", \"No\", \"No\", \"No\", \"No\", \"No\", \"No\", \"No\", \"No\", \"No\", \"No\", \"No\", \"No\", \"No\", \"No\", \"No\", \"No\", \"No\", \"No\", \"No\", \"No\", \"No\", \"No\", \"No\", \"No\", \"No\", \"No\", \"No\", \"No\", \"No\", \"No\", \"No\", \"No\", \"No\", \"No\", \"No\", \"No\", \"No\", \"No\", \"No\", \"No\", \"No\", \"No\", \"No\", \"No\", \"No\", \"No\", \"No\", \"No\", \"No\", \"No\", \"No\", \"No\", \"No\", \"No\", \"No\", \"No\", \"No\", \"No\", \"No\", \"No\", \"No\", \"No\", \"No\", \"No\", \"No\", \"No\", \"No\", \"No\", \"No\", \"No\", \"No\", \"No\", \"No\", \"No\", \"No\", \"No\", \"No\", \"No\", \"No\", \"No\", \"No\", \"No\", \"No\", \"No\", \"No\", \"No\", \"No\", \"No\", \"No\", \"No\", \"No\", \"No\", \"No\", \"No\", \"No\", \"No\", \"No\", \"No\", \"No\", \"No\", \"No\", \"No\", \"No\", \"No\", \"No\", \"No\", \"No\", \"No\", \"No\", \"No\", \"No\", \"No\", \"No\", \"No\", \"No\", \"No\", \"No\", \"No\", \"No\", \"No\", \"No\", \"No\", \"No\", \"No\", \"No\", \"No\", \"No\", \"No\", \"No\", \"No\", \"No\", \"No\", \"No\", \"No\", \"No\", \"No\", \"No\", \"No\", \"No\", \"No\", \"No\", \"No\", \"No\", \"No\", \"No\", \"No\", \"No\", \"No\", \"No\", \"No\", \"No\", \"No\", \"No\", \"No\", \"No\", \"No\", \"No\", \"No\", \"No\", \"No\", \"No\", \"No\", \"No\", \"No\", \"No\", \"No\", \"No\", \"No\", \"No\", \"No\", \"No\", \"No\", \"No\", \"No\", \"No\", \"No\", \"No\", \"No\", \"No\", \"No\", \"No\", \"No\", \"No\", \"No\", \"No\", \"No\", \"No\", \"No\", \"No\", \"No\", \"No\", \"No\", \"No\", \"No\", \"No\", \"No\", \"No\", \"No\", \"No\", \"No\", \"No\", \"No\", \"No\", \"No\", \"No\", \"No\", \"No\", \"No\", \"No\", \"No\", \"No\", \"No\", \"No\", \"No\", \"No\", \"No\", \"No\", \"No\", \"No\", \"No\", \"No\", \"No\", \"No\", \"No\", \"No\", \"No\", \"No\", \"No\", \"No\", \"No\", \"No\", \"No\", \"No\", \"No\", \"No\", \"No\", \"No\", \"No\", \"No\", \"No\", \"No\", \"No\", \"No\", \"No\", \"No\", \"No\", \"No\", \"No\", \"No\", \"No\", \"No\", \"No\", \"No\", \"No\", \"No\", \"No\", \"No\", \"No\", \"No\", \"No\", \"No\", \"No\", \"No\", \"No\", \"No\", \"No\", \"No\", \"No\", \"No\", \"No\", \"No\", \"No\", \"No\", \"No\", \"No\", \"No\", \"No\", \"No\", \"No\", \"No\", \"No\", \"No\", \"No\", \"No\", \"No\", \"No\", \"No\", \"No\", \"No\", \"No\", \"No\", \"No\", \"No\", \"No\", \"No\", \"No\", \"No\", \"No\", \"No\", \"No\", \"No\", \"No\", \"No\", \"No\", \"No\", \"No\", \"No\", \"No\", \"No\", \"No\", \"No\", \"No\", \"No\", \"No\", \"No\", \"No\", \"No\", \"No\", \"No\", \"No\", \"No\", \"No\", \"No\", \"No\", \"No\", \"No\", \"No\", \"No\", \"No\", \"No\", \"No\", \"No\", \"No\", \"No\", \"No\", \"No\", \"No\", \"No\", \"No\", \"No\", \"No\", \"No\", \"No\", \"No\", \"No\", \"No\", \"No\", \"No\", \"No\", \"No\", \"No\", \"No\", \"No\", \"No\", \"No\", \"No\", \"No\", \"No\", \"No\", \"No\", \"No\", \"No\", \"No\", \"No\", \"No\", \"No\", \"No\", \"No\", \"No\", \"No\", \"No\", \"No\", \"No\", \"No\", \"No\", \"No\", \"No\", \"No\", \"No\", \"No\", \"No\", \"No\", \"No\", \"No\", \"No\", \"No\", \"No\", \"No\", \"No\", \"No\", \"No\", \"No\", \"No\", \"No\", \"No\", \"No\", \"No\", \"No\", \"No\", \"No\", \"No\", \"No\", \"No\", \"No\", \"No\", \"No\", \"No\", \"No\", \"No\", \"No\", \"No\", \"No\", \"No\", \"No\", \"No\", \"No\", \"No\", \"No\", \"No\", \"No\", \"No\", \"No\", \"No\", \"No\", \"No\", \"No\", \"No\", \"No\", \"No\", \"No\"], \"xaxis\": \"x\", \"y\": [29.85, 89.1, 29.75, 49.95, 105.5, 90.05, 59.6, 55.3, 95.5, 20.2, 45.25, 74.8, 76.2, 84.5, 49.25, 90.25, 69.5, 100.5, 89.9, 75.3, 79.85, 49.05, 64.5, 54.65, 74.75, 50.55, 103.8, 99.3, 33.75, 82.05, 74.7, 111.05, 20.2, 19.45, 24.3, 91.65, 89.85, 85.2, 20.7, 50.7, 20.85, 19.75, 85.95, 75.0, 69.5, 68.55, 19.7, 80.9, 84.15, 56.0, 69.7, 20.4, 24.7, 105.35, 45.3, 51.8, 30.4, 56.6, 96.55, 111.35, 20.75, 80.05, 78.3, 68.85, 25.25, 86.8, 58.75, 80.0, 89.9, 93.5, 25.15, 73.15, 94.4, 54.8, 75.35, 19.85, 45.0, 89.85, 105.0, 107.05, 64.95, 55.0, 50.55, 55.15, 51.2, 25.4, 54.45, 44.35, 89.35, 19.7, 20.25, 100.8, 74.55, 90.4, 81.85, 101.15, 19.25, 89.05, 69.35, 91.5, 44.8, 102.7, 82.9, 35.9, 82.65, 94.8, 54.65, 67.45, 72.1, 44.95, 89.15, 54.1, 20.2, 75.9, 59.95, 19.15, 96.1, 25.35, 90.4, 44.0, 95.6, 84.8, 44.3, 19.9, 95.05, 109.9, 54.6, 93.95, 74.95, 87.35, 70.65, 73.25, 24.3, 69.85, 40.7, 51.65, 85.95, 75.6, 53.45, 44.45, 89.85, 55.05, 112.95, 101.55, 64.8, 80.4, 94.75, 69.75, 60.2, 104.15, 20.0, 75.1, 19.65, 69.45, 70.05, 53.6, 76.05, 75.7, 81.45, 100.15, 59.0, 20.4, 60.9, 84.05, 78.0, 19.85, 106.45, 105.45, 95.0, 70.05, 20.05, 51.6, 85.5, 79.95, 89.55, 81.55, 58.95, 19.55, 19.75, 19.9, 70.2, 49.3, 23.6, 69.7, 64.3, 110.85, 70.5, 94.55, 19.65, 19.0, 20.0, 84.3, 45.6, 65.55, 74.55, 48.85, 25.25, 87.55, 78.55, 34.55, 95.15, 84.25, 55.0, 25.25, 70.0, 24.8, 95.1, 20.35, 45.25, 20.05, 74.75, 30.2, 24.85, 107.95, 81.4, 64.4, 71.1, 49.9, 83.4, 20.45, 20.65, 83.15, 84.9, 20.55, 49.25, 75.3, 80.1, 81.0, 86.0, 89.15, 85.65, 50.35, 80.35, 21.25, 80.85, 20.35, 75.5, 90.15, 50.6, 79.35, 80.45, 44.05, 75.05, 56.7, 71.35, 90.35, 19.85, 20.8, 35.8, 78.85, 74.25, 20.45, 40.3, 44.8, 54.75, 60.85, 45.0, 64.2, 25.55, 20.0, 55.2, 20.05, 84.6, 106.35, 63.95, 25.55, 44.85, 88.8, 93.25, 79.2, 30.85, 24.85, 64.35, 20.5, 34.8, 54.65, 20.05, 84.35, 89.3, 81.1, 94.3, 94.4, 19.5, 56.4, 19.95, 89.0, 75.4, 80.7, 20.45, 75.4, 81.7, 76.3, 75.1, 83.25, 19.9, 30.15, 79.85, 104.1, 20.5, 91.35, 75.6, 55.1, 58.95, 95.1, 56.75, 81.75, 86.1, 29.8, 60.9, 20.85, 93.85, 75.25, 19.5, 43.8, 19.75, 19.15, 70.3, 69.55, 20.0, 50.15, 95.9, 49.5, 40.05, 19.5, 51.05, 84.7, 86.1, 70.35, 69.75, 71.6, 49.15, 70.2, 99.3, 50.25, 35.5, 50.2, 62.25, 89.25, 21.1, 96.65, 69.55, 98.85, 87.65, 74.75, 80.55, 81.25, 55.7, 24.8, 20.0, 79.75, 50.15, 98.85, 105.25, 70.55, 49.05, 19.4, 86.05, 19.25, 81.95, 65.15, 20.2, 75.2, 56.8, 75.5, 60.25, 40.35, 18.85, 54.85, 94.1, 95.1, 53.8, 100.4, 80.0, 94.3, 53.75, 87.9, 85.7, 50.45, 60.0, 19.45, 78.9, 49.4, 25.55, 70.15, 69.4, 69.55, 70.45, 65.75, 24.6, 100.85, 87.2, 64.4, 58.7, 20.15, 64.5, 28.5, 90.45, 105.15, 19.45, 50.3, 80.15, 51.25, 80.25, 19.45, 88.2, 62.8, 107.5, 80.7, 75.6, 59.55, 19.95, 24.6, 66.7, 19.95, 54.25, 25.15, 75.35, 20.5, 49.65, 20.45, 19.5, 75.2, 111.45, 70.15, 82.15, 60.9, 95.3, 19.85, 66.8, 70.7, 58.35, 85.8, 20.35, 82.85, 84.35, 19.95, 66.25, 92.55, 101.45, 95.5, 49.85, 89.55, 99.8, 74.15, 73.85, 20.75, 68.95, 109.4, 49.0, 55.8, 98.55, 50.05, 20.85, 19.5, 19.35, 69.5, 48.8, 94.5, 20.65, 95.9, 64.95, 74.6, 49.2, 19.2, 88.65, 95.95, 20.25, 96.85, 51.25, 19.55, 79.5, 98.15, 20.25, 79.15, 94.25, 40.2, 71.1, 88.45, 84.8, 92.6, 20.55, 19.6, 43.55, 109.85, 20.65, 95.4, 56.2, 25.75, 19.6, 64.2, 50.3, 80.3, 50.0, 85.9, 80.8, 81.5, 20.9, 67.25, 20.35, 34.65, 69.35, 81.55, 67.8, 111.4, 46.3, 20.05, 36.0, 48.95, 64.95, 21.1, 18.85, 70.35, 19.7, 59.45, 29.05, 59.2, 75.9, 90.05, 102.6, 43.8, 19.85, 90.35, 80.95, 56.15, 34.4, 90.8, 25.6, 25.4, 108.8, 76.85, 115.65, 74.6, 80.15, 45.75, 50.15, 70.55, 58.85, 97.55, 35.65, 90.45, 73.85, 82.75, 61.35, 54.75, 107.95, 83.8, 94.9, 94.2, 49.9, 71.05, 19.05, 44.25, 20.4, 71.4, 110.75, 54.3, 19.4, 89.65, 45.4, 93.25, 48.75, 54.9, 91.15, 66.05, 30.4, 69.4, 73.65, 43.85, 69.7, 20.65, 79.35, 75.5, 19.2, 74.35, 45.65, 54.2, 90.65, 50.9, 74.85, 63.55, 47.95, 45.0, 90.05, 75.95, 67.45, 50.5, 44.05, 45.55, 93.8, 20.75, 44.65, 60.2, 70.3, 31.1, 50.95, 69.1, 43.95, 69.95, 90.95, 92.0, 78.5, 30.5, 64.6, 51.1, 54.95, 20.45, 60.35, 85.35, 81.05, 20.5, 20.2, 20.9, 21.05, 54.65, 49.8, 90.4, 50.2, 95.5, 95.4, 53.1, 84.85, 34.25, 88.6, 70.7, 54.8, 85.6, 90.7, 95.25, 19.95, 83.55, 75.5, 20.15, 85.7, 61.8, 49.9, 86.25, 60.95, 25.05, 63.95, 74.3, 70.6, 64.45, 69.65, 24.7, 77.4, 85.4, 103.85, 108.45, 81.0, 92.95, 85.35, 100.75, 19.9, 101.05, 106.05, 75.3, 24.7, 29.5, 24.8, 19.65, 94.05, 90.75, 78.85, 80.55, 70.2, 93.35, 44.95, 20.2, 61.9, 80.15, 20.45, 80.45, 44.45, 74.55, 20.15, 106.6, 91.0, 66.85, 20.15, 50.5, 72.9, 19.0, 19.55, 84.1, 50.1, 74.6, 96.6, 60.85, 43.95, 86.05, 50.2, 31.2, 20.2, 63.85, 19.55, 108.95, 89.95, 101.15, 70.5, 69.9, 71.45, 95.85, 100.8, 54.45, 70.5, 69.35, 51.2, 52.15, 91.55, 49.85, 104.15, 48.2, 100.15, 55.9, 64.4, 85.3, 45.2, 90.25, 97.7, 69.85, 104.5, 20.7, 90.6, 95.45, 19.95, 85.7, 102.05, 64.4, 65.2, 85.05, 55.8, 106.4, 46.1, 20.05, 33.6, 84.0, 19.7, 80.35, 45.2, 72.75, 39.2, 44.75, 82.65, 93.9, 25.7, 19.4, 55.3, 103.75, 26.05, 91.05, 29.65, 50.2, 105.3, 55.45, 59.25, 90.7, 30.25, 49.85, 93.0, 54.55, 19.7, 80.45, 35.75, 86.45, 38.55, 39.9, 70.05, 20.3, 35.65, 19.65, 59.8, 73.55, 61.4, 19.45, 81.5, 74.4, 74.9, 59.65, 74.45, 20.45, 70.45, 85.65, 19.85, 106.35, 86.05, 44.55, 45.0, 20.5, 60.45, 20.35, 90.75, 19.6, 53.8, 99.65, 91.45, 100.4, 76.15, 69.95, 20.05, 19.45, 19.2, 50.0, 60.0, 84.55, 45.45, 19.25, 108.25, 101.3, 20.0, 105.3, 65.25, 19.6, 49.4, 88.4, 100.6, 19.45, 75.15, 70.1, 100.55, 104.35, 80.45, 68.35, 80.55, 66.7, 86.4, 83.4, 94.95, 59.9, 19.8, 20.0, 59.6, 84.35, 55.55, 66.1, 52.1, 105.4, 20.05, 91.0, 49.8, 19.65, 19.85, 96.35, 24.15, 44.0, 53.95, 29.35, 20.45, 25.25, 44.9, 20.5, 24.5, 108.25, 20.4, 55.3, 20.25, 72.95, 89.45, 19.4, 24.85, 41.35, 19.6, 20.25, 19.65, 81.05, 67.6, 70.15, 84.8, 63.15, 29.1, 50.05, 20.0, 44.4, 94.1, 88.95, 48.85, 80.1, 56.05, 89.8, 20.35, 97.1, 36.65, 55.2, 26.35, 50.15, 98.7, 84.4, 25.1, 48.25, 94.2, 62.15, 79.3, 20.3, 99.0, 50.15, 20.55, 101.4, 44.6, 63.75, 84.6, 85.75, 87.0, 79.95, 64.9, 104.95, 20.45, 74.1, 35.5, 48.8, 93.5, 44.45, 43.35, 89.8, 69.9, 105.35, 19.4, 102.65, 50.95, 75.6, 80.75, 90.4, 20.2, 20.25, 99.0, 80.3, 19.55, 100.75, 53.75, 46.35, 90.4, 60.65, 24.1, 19.5, 85.95, 19.2, 90.0, 34.0, 25.25, 60.6, 74.75, 20.6, 20.4, 20.3, 25.0, 80.45, 89.2, 19.95, 19.95, 20.4, 20.7, 69.3, 49.9, 44.45, 55.05, 34.25, 100.05, 68.65, 45.8, 75.75, 20.55, 50.95, 59.45, 24.3, 95.65, 84.8, 20.4, 94.45, 79.8, 74.05, 49.15, 19.1, 95.4, 75.15, 69.95, 19.0, 38.85, 20.35, 74.3, 19.2, 76.45, 72.8, 18.95, 101.75, 75.45, 64.1, 25.65, 75.1, 54.4, 72.75, 19.05, 94.85, 69.6, 90.7, 101.4, 48.8, 20.0, 89.85, 19.8, 29.35, 80.55, 55.25, 20.0, 19.65, 80.0, 80.25, 20.45, 29.75, 44.9, 29.8, 71.95, 20.75, 56.3, 84.45, 29.9, 55.3, 49.45, 39.7, 54.5, 55.55, 104.5, 101.8, 93.2, 24.4, 70.55, 85.8, 91.1, 100.85, 105.1, 84.9, 88.5, 35.0, 55.15, 50.95, 64.0, 49.3, 20.05, 94.75, 80.0, 44.8, 20.3, 19.2, 59.1, 20.25, 75.55, 70.25, 50.3, 25.0, 75.35, 43.8, 84.05, 85.05, 53.45, 19.95, 74.65, 55.6, 48.7, 104.9, 19.4, 19.3, 20.65, 55.15, 70.6, 19.0, 90.7, 84.3, 20.45, 86.8, 87.8, 69.85, 56.3, 109.55, 69.5, 94.3, 71.3, 98.8, 44.95, 35.65, 19.5, 100.05, 55.7, 91.15, 83.85, 45.9, 19.7, 91.5, 51.3, 104.75, 85.75, 74.15, 50.7, 45.0, 77.8, 83.45, 59.9, 29.2, 46.6, 74.3, 69.3, 24.95, 84.75, 19.75, 44.9, 75.25, 20.95, 55.5, 19.45, 84.85, 19.6, 74.2, 69.0, 79.15, 40.65, 95.7, 71.05, 59.45, 43.9, 90.5, 99.15, 62.1, 79.5, 19.55, 20.35, 51.7, 65.1, 81.2, 80.5, 75.0, 69.05, 59.7, 40.75, 95.7, 46.3, 81.3, 20.0, 66.15, 19.6, 49.8, 73.7, 54.25, 50.0, 72.25, 96.1, 55.3, 69.5, 79.65, 71.25, 19.7, 104.1, 19.05, 69.7, 89.9, 19.4, 54.25, 88.4, 50.8, 111.5, 24.25, 20.5, 30.55, 84.9, 75.35, 98.05, 69.15, 98.85, 89.6, 83.25, 84.3, 50.75, 78.5, 48.95, 99.65, 54.55, 20.45, 69.8, 84.05, 49.2, 71.65, 106.5, 58.5, 109.45, 29.15, 20.05, 49.55, 73.6, 49.0, 25.45, 77.75, 26.2, 50.4, 84.05, 105.2, 75.75, 95.3, 19.85, 69.1, 20.25, 54.75, 81.45, 100.3, 20.0, 79.85, 73.55, 19.3, 44.55, 54.45, 112.9, 94.05, 55.3, 74.75, 100.5, 20.05, 95.0, 45.45, 20.0, 49.2, 19.65, 72.8, 109.65, 65.0, 114.1, 20.65, 25.35, 102.55, 24.0, 103.1, 43.75, 100.65, 44.8, 79.8, 88.85, 74.95, 19.7, 51.3, 109.1, 29.9, 80.6, 20.8, 89.95, 69.95, 66.3, 94.65, 34.7, 95.95, 71.05, 19.7, 68.25, 20.15, 50.95, 25.15, 20.25, 44.0, 55.8, 57.65, 94.8, 45.9, 57.55, 29.25, 69.95, 50.9, 90.7, 85.2, 54.55, 38.5, 92.9, 54.5, 99.75, 20.4, 54.35, 108.1, 45.35, 18.85, 25.05, 51.0, 84.65, 44.65, 93.25, 20.25, 94.1, 51.35, 50.15, 98.9, 60.25, 56.25, 50.1, 50.15, 74.0, 38.9, 79.55, 46.3, 95.8, 78.15, 20.9, 49.9, 68.9, 20.25, 76.0, 74.0, 82.3, 89.4, 99.15, 29.45, 59.15, 44.75, 49.55, 99.45, 74.8, 71.55, 94.95, 86.1, 19.55, 84.05, 36.25, 98.6, 103.65, 20.1, 80.5, 39.85, 103.85, 67.8, 19.35, 89.0, 55.0, 19.75, 45.2, 89.75, 49.95, 87.95, 19.5, 86.55, 45.65, 73.3, 101.35, 33.6, 20.7, 108.75, 19.75, 70.05, 84.75, 85.55, 43.55, 54.9, 75.1, 25.05, 19.3, 70.3, 20.25, 19.95, 19.75, 64.1, 90.55, 56.1, 88.75, 99.4, 104.45, 25.75, 20.95, 25.4, 35.0, 70.2, 90.95, 88.05, 46.0, 58.55, 110.1, 69.75, 50.6, 79.1, 80.35, 70.15, 67.45, 20.75, 69.9, 51.1, 90.55, 76.4, 84.95, 99.65, 45.4, 48.65, 66.4, 44.55, 20.35, 91.8, 50.35, 18.8, 20.45, 98.7, 89.45, 85.6, 79.85, 20.15, 80.0, 48.75, 20.25, 100.4, 57.95, 59.5, 19.2, 59.55, 103.1, 24.7, 110.2, 62.45, 89.55, 78.9, 20.35, 94.65, 49.9, 20.75, 75.4, 21.05, 88.85, 66.4, 69.2, 61.4, 69.8, 75.65, 90.7, 80.5, 60.6, 44.75, 107.7, 93.9, 19.4, 75.0, 78.2, 94.2, 44.65, 98.1, 19.55, 54.2, 40.15, 70.35, 89.2, 19.75, 84.3, 66.05, 19.9, 68.15, 80.6, 83.2, 45.55, 75.3, 93.4, 73.75, 88.15, 49.2, 49.0, 49.8, 20.95, 79.3, 44.15, 105.5, 92.7, 96.95, 20.45, 108.2, 20.15, 55.75, 105.35, 18.95, 69.8, 106.15, 25.25, 19.75, 60.95, 81.15, 85.9, 95.0, 21.2, 20.3, 56.25, 103.65, 35.1, 99.1, 59.55, 20.25, 54.6, 20.7, 94.75, 49.45, 83.8, 95.35, 74.05, 89.6, 54.2, 19.3, 65.05, 18.75, 93.6, 24.4, 65.25, 50.55, 70.7, 45.25, 70.3, 26.45, 75.8, 25.1, 44.45, 20.15, 19.2, 19.25, 61.2, 35.05, 44.0, 20.0, 58.4, 94.1, 90.85, 19.9, 66.4, 100.7, 19.85, 94.65, 45.85, 104.35, 61.15, 78.95, 96.85, 96.6, 84.6, 79.0, 94.65, 100.45, 91.25, 72.45, 69.15, 91.55, 68.95, 51.55, 96.8, 70.05, 78.75, 19.55, 54.7, 84.85, 20.0, 19.35, 74.9, 19.8, 54.65, 91.7, 20.3, 99.8, 19.9, 83.05, 41.1, 45.0, 104.25, 78.35, 33.45, 94.6, 69.15, 24.9, 48.8, 63.05, 100.85, 80.55, 19.3, 59.05, 76.55, 94.9, 20.45, 92.55, 65.6, 84.35, 85.15, 49.7, 30.2, 56.35, 107.55, 39.2, 79.55, 19.6, 99.95, 59.8, 49.75, 44.55, 103.45, 57.2, 97.05, 18.9, 74.45, 24.4, 55.5, 84.3, 100.2, 20.4, 94.75, 44.35, 74.55, 50.1, 19.85, 19.55, 93.8, 59.65, 79.55, 29.8, 45.5, 30.05, 49.5, 111.15, 20.6, 94.5, 20.1, 34.65, 52.3, 65.0, 95.6, 69.8, 50.3, 101.5, 89.15, 19.4, 78.8, 96.8, 104.6, 80.05, 45.15, 73.15, 105.35, 45.65, 79.95, 75.85, 48.8, 35.2, 66.3, 75.35, 104.45, 92.15, 95.7, 71.35, 40.6, 20.35, 54.4, 20.45, 96.75, 106.65, 59.45, 58.6, 49.7, 73.5, 83.4, 85.9, 75.65, 49.85, 103.05, 99.7, 81.9, 19.75, 72.6, 116.5, 89.25, 19.25, 30.75, 86.2, 30.1, 20.1, 20.35, 94.55, 76.25, 74.35, 54.15, 19.45, 34.95, 53.65, 19.65, 45.9, 44.8, 45.8, 104.4, 101.5, 54.3, 103.95, 70.7, 24.85, 91.2, 59.45, 92.55, 24.5, 20.6, 65.5, 21.15, 96.2, 44.4, 20.3, 81.15, 54.75, 89.3, 94.55, 107.5, 76.05, 77.9, 90.65, 44.85, 59.65, 66.4, 109.6, 48.8, 20.55, 108.75, 105.9, 65.5, 40.45, 70.45, 90.1, 66.25, 89.7, 81.9, 19.1, 50.0, 85.45, 98.65, 61.65, 89.35, 95.4, 19.25, 20.35, 90.8, 104.95, 61.3, 64.4, 45.8, 30.5, 69.15, 105.1, 19.75, 70.4, 86.2, 94.0, 50.3, 80.55, 100.45, 84.75, 95.3, 54.5, 49.6, 45.45, 107.75, 44.75, 19.7, 51.0, 88.85, 79.0, 74.2, 81.0, 49.6, 84.6, 69.05, 45.4, 50.75, 25.2, 55.7, 65.35, 25.1, 20.2, 101.3, 55.3, 48.45, 55.7, 64.65, 69.2, 20.05, 95.4, 80.35, 78.85, 86.55, 42.4, 19.6, 80.2, 31.65, 94.15, 20.65, 76.85, 20.15, 95.1, 95.15, 20.45, 19.15, 83.75, 19.4, 70.8, 60.2, 100.4, 54.5, 20.75, 20.35, 51.1, 89.8, 20.55, 64.05, 74.85, 25.0, 26.35, 54.7, 20.65, 69.1, 20.05, 48.6, 49.75, 94.75, 93.0, 19.85, 95.25, 25.05, 20.15, 101.25, 69.6, 19.75, 35.0, 74.65, 54.8, 85.3, 79.3, 76.5, 86.85, 19.65, 45.55, 78.1, 20.3, 55.3, 80.65, 51.05, 19.9, 87.3, 20.05, 83.25, 99.85, 19.9, 19.05, 96.5, 25.7, 91.55, 105.7, 70.25, 20.4, 60.55, 65.6, 20.3, 89.2, 74.8, 25.15, 50.85, 102.4, 55.5, 106.4, 88.8, 80.05, 75.55, 49.55, 66.4, 85.95, 20.6, 44.6, 70.55, 20.05, 90.05, 34.3, 105.05, 51.4, 71.85, 75.4, 78.75, 70.4, 76.1, 48.8, 50.55, 44.65, 70.5, 20.85, 19.65, 44.0, 75.4, 20.3, 50.3, 50.25, 51.65, 59.85, 75.7, 50.85, 85.0, 44.3, 60.9, 34.2, 54.3, 19.95, 78.8, 89.25, 78.65, 89.1, 59.9, 108.9, 33.6, 34.85, 95.3, 44.95, 24.7, 100.3, 25.45, 50.7, 55.0, 55.05, 35.9, 80.75, 61.75, 87.6, 89.15, 20.05, 34.3, 84.25, 50.35, 79.15, 94.7, 74.95, 89.75, 24.9, 30.35, 19.35, 74.55, 56.15, 20.45, 18.9, 45.2, 19.45, 94.9, 29.3, 109.4, 19.95, 76.6, 85.3, 65.85, 99.4, 20.0, 55.0, 61.55, 45.9, 87.1, 49.5, 73.8, 18.8, 54.1, 49.8, 95.0, 19.65, 70.2, 19.75, 19.95, 25.15, 54.15, 59.8, 83.85, 75.3, 66.65, 59.45, 78.1, 39.9, 53.4, 24.9, 44.7, 83.85, 20.2, 19.95, 90.0, 91.05, 85.8, 19.65, 74.35, 89.1, 70.65, 90.05, 19.4, 88.75, 91.0, 55.7, 20.05, 55.65, 74.7, 80.7, 25.15, 95.65, 89.4, 20.05, 20.7, 100.6, 74.0, 99.05, 74.5, 19.25, 39.45, 44.85, 19.9, 45.25, 33.45, 44.95, 93.5, 20.05, 79.45, 80.0, 54.9, 19.9, 70.35, 73.85, 21.05, 24.95, 75.85, 90.15, 69.65, 74.3, 20.25, 96.9, 104.1, 56.55, 68.6, 69.05, 20.05, 94.4, 54.95, 79.4, 62.8, 74.9, 74.85, 92.95, 104.35, 19.55, 56.85, 49.75, 92.4, 91.95, 73.1, 50.65, 70.1, 84.9, 19.35, 61.0, 106.9, 101.35, 55.35, 19.5, 90.65, 19.55, 87.75, 81.3, 44.3, 49.15, 29.45, 85.3, 70.35, 74.15, 75.05, 75.9, 53.45, 69.95, 97.0, 73.55, 29.8, 103.05, 20.3, 56.25, 60.9, 59.65, 54.85, 34.0, 65.8, 105.8, 24.4, 73.05, 51.15, 54.35, 100.0, 98.7, 73.8, 20.05, 106.2, 99.7, 29.15, 90.1, 59.05, 20.3, 103.5, 20.05, 96.35, 66.6, 44.5, 80.1, 20.4, 50.1, 86.65, 20.15, 78.75, 55.55, 79.0, 74.6, 20.1, 20.05, 19.85, 20.2, 67.45, 29.75, 54.65, 29.3, 83.85, 103.65, 99.05, 43.95, 23.5, 94.3, 29.15, 50.25, 74.65, 48.25, 96.55, 85.6, 51.1, 19.9, 98.35, 85.45, 95.9, 100.75, 89.2, 19.5, 45.3, 89.55, 50.35, 20.35, 55.9, 24.0, 79.9, 89.75, 19.4, 19.9, 55.7, 78.9, 20.65, 19.65, 29.9, 45.0, 44.8, 51.1, 24.7, 109.95, 20.8, 85.1, 69.05, 70.15, 89.1, 90.35, 85.7, 94.0, 93.35, 50.55, 81.3, 20.7, 79.05, 103.6, 79.7, 19.3, 55.75, 89.65, 45.85, 55.95, 69.0, 83.55, 61.9, 20.0, 92.85, 74.6, 94.6, 49.2, 86.05, 35.15, 105.35, 80.7, 89.85, 29.05, 80.4, 43.85, 44.5, 53.55, 85.5, 89.4, 79.85, 74.45, 64.4, 20.05, 56.75, 35.75, 19.1, 45.55, 49.4, 19.8, 45.05, 86.25, 95.55, 102.6, 94.2, 49.7, 24.2, 65.45, 83.2, 25.0, 69.5, 93.6, 76.1, 80.5, 35.75, 95.1, 93.4, 89.2, 85.2, 49.95, 19.2, 103.5, 84.8, 95.05, 73.35, 44.4, 20.05, 69.5, 78.7, 29.6], \"yaxis\": \"y\"}, {\"alignmentgroup\": \"True\", \"bingroup\": \"x\", \"histfunc\": \"avg\", \"hoverlabel\": {\"namelength\": 0}, \"hovertemplate\": \"Churn=%{x}<br>Contract=One year<br>avg of MonthlyCharges=%{y}\", \"legendgroup\": \"No\", \"marker\": {\"color\": \"#636efa\"}, \"name\": \"No\", \"offsetgroup\": \"No\", \"orientation\": \"v\", \"showlegend\": false, \"type\": \"histogram\", \"x\": [\"No\", \"No\", \"No\", \"No\", \"No\", \"No\", \"No\", \"No\", \"No\", \"No\", \"No\", \"No\", \"No\", \"No\", \"No\", \"No\", \"No\", \"No\", \"No\", \"No\", \"No\", \"No\", \"No\", \"No\", \"No\", \"No\", \"No\", \"No\", \"No\", \"No\", \"No\", \"No\", \"No\", \"No\", \"No\", \"No\", \"No\", \"No\", \"No\", \"No\", \"No\", \"No\", \"No\", \"No\", \"No\", \"No\", \"No\", \"No\", \"No\", \"No\", \"No\", \"No\", \"No\", \"No\", \"No\", \"No\", \"No\", \"No\", \"No\", \"No\", \"No\", \"No\", \"No\", \"No\", \"No\", \"No\", \"No\", \"No\", \"No\", \"No\", \"No\", \"No\", \"No\", \"No\", \"No\", \"No\", \"No\", \"No\", \"No\", \"No\", \"No\", \"No\", \"No\", \"No\", \"No\", \"No\", \"No\", \"No\", \"No\", \"No\", \"No\", \"No\", \"No\", \"No\", \"No\", \"No\", \"No\", \"No\", \"No\", \"No\", \"No\", \"No\", \"No\", \"No\", \"No\", \"No\", \"No\", \"No\", \"No\", \"No\", \"No\", \"No\", \"No\", \"No\", \"No\", \"No\", \"No\", \"No\", \"No\", \"No\", \"No\", \"No\", \"No\", \"No\", \"No\", \"No\", \"No\", \"No\", \"No\", \"No\", \"No\", \"No\", \"No\", \"No\", \"No\", \"No\", \"No\", \"No\", \"No\", \"No\", \"No\", \"No\", \"No\", \"No\", \"No\", \"No\", \"No\", \"No\", \"No\", \"No\", \"No\", \"No\", \"No\", \"No\", \"No\", \"No\", \"No\", \"No\", \"No\", \"No\", \"No\", \"No\", \"No\", \"No\", \"No\", \"No\", \"No\", \"No\", \"No\", \"No\", \"No\", \"No\", \"No\", \"No\", \"No\", \"No\", \"No\", \"No\", \"No\", \"No\", \"No\", \"No\", \"No\", \"No\", \"No\", \"No\", \"No\", \"No\", \"No\", \"No\", \"No\", \"No\", \"No\", \"No\", \"No\", \"No\", \"No\", \"No\", \"No\", \"No\", \"No\", \"No\", \"No\", \"No\", \"No\", \"No\", \"No\", \"No\", \"No\", \"No\", \"No\", \"No\", \"No\", \"No\", \"No\", \"No\", \"No\", \"No\", \"No\", \"No\", \"No\", \"No\", \"No\", \"No\", \"No\", \"No\", \"No\", \"No\", \"No\", \"No\", \"No\", \"No\", \"No\", \"No\", \"No\", \"No\", \"No\", \"No\", \"No\", \"No\", \"No\", \"No\", \"No\", \"No\", \"No\", \"No\", \"No\", \"No\", \"No\", \"No\", \"No\", \"No\", \"No\", \"No\", \"No\", \"No\", \"No\", \"No\", \"No\", \"No\", \"No\", \"No\", \"No\", \"No\", \"No\", \"No\", \"No\", \"No\", \"No\", \"No\", \"No\", \"No\", \"No\", \"No\", \"No\", \"No\", \"No\", \"No\", \"No\", \"No\", \"No\", \"No\", \"No\", \"No\", \"No\", \"No\", \"No\", \"No\", \"No\", \"No\", \"No\", \"No\", \"No\", \"No\", \"No\", \"No\", \"No\", \"No\", \"No\", \"No\", \"No\", \"No\", \"No\", \"No\", \"No\", \"No\", \"No\", \"No\", \"No\", \"No\", \"No\", \"No\", \"No\", \"No\", \"No\", \"No\", \"No\", \"No\", \"No\", \"No\", \"No\", \"No\", \"No\", \"No\", \"No\", \"No\", \"No\", \"No\", \"No\", \"No\", \"No\", \"No\", \"No\", \"No\", \"No\", \"No\", \"No\", \"No\", \"No\", \"No\", \"No\", \"No\", \"No\", \"No\", \"No\", \"No\", \"No\", \"No\", \"No\", \"No\", \"No\", \"No\", \"No\", \"No\", \"No\", \"No\", \"No\", \"No\", \"No\", \"No\", \"No\", \"No\", \"No\", \"No\", \"No\", \"No\", \"No\", \"No\", \"No\", \"No\", \"No\", \"No\", \"No\", \"No\", \"No\", \"No\", \"No\", \"No\", \"No\", \"No\", \"No\", \"No\", \"No\", \"No\", \"No\", \"No\", \"No\", \"No\", \"No\", \"No\", \"No\", \"No\", \"No\", \"No\", \"No\", \"No\", \"No\", \"No\", \"No\", \"No\", \"No\", \"No\", \"No\", \"No\", \"No\", \"No\", \"No\", \"No\", \"No\", \"No\", \"No\", \"No\", \"No\", \"No\", \"No\", \"No\", \"No\", \"No\", \"No\", \"No\", \"No\", \"No\", \"No\", \"No\", \"No\", \"No\", \"No\", \"No\", \"No\", \"No\", \"No\", \"No\", \"No\", \"No\", \"No\", \"No\", \"No\", \"No\", \"No\", \"No\", \"No\", \"No\", \"No\", \"No\", \"No\", \"No\", \"No\", \"No\", \"No\", \"No\", \"No\", \"No\", \"No\", \"No\", \"No\", \"No\", \"No\", \"No\", \"No\", \"No\", \"No\", \"No\", \"No\", \"No\", \"No\", \"No\", \"No\", \"No\", \"No\", \"No\", \"No\", \"No\", \"No\", \"No\", \"No\", \"No\", \"No\", \"No\", \"No\", \"No\", \"No\", \"No\", \"No\", \"No\", \"No\", \"No\", \"No\", \"No\", \"No\", \"No\", \"No\", \"No\", \"No\", \"No\", \"No\", \"No\", \"No\", \"No\", \"No\", \"No\", \"No\", \"No\", \"No\", \"No\", \"No\", \"No\", \"No\", \"No\", \"No\", \"No\", \"No\", \"No\", \"No\", \"No\", \"No\", \"No\", \"No\", \"No\", \"No\", \"No\", \"No\", \"No\", \"No\", \"No\", \"No\", \"No\", \"No\", \"No\", \"No\", \"No\", \"No\", \"No\", \"No\", \"No\", \"No\", \"No\", \"No\", \"No\", \"No\", \"No\", \"No\", \"No\", \"No\", \"No\", \"No\", \"No\", \"No\", \"No\", \"No\", \"No\", \"No\", \"No\", \"No\", \"No\", \"No\", \"No\", \"No\", \"No\", \"No\", \"No\", \"No\", \"No\", \"No\", \"No\", \"No\", \"No\", \"No\", \"No\", \"No\", \"No\", \"No\", \"No\", \"No\", \"No\", \"No\", \"No\", \"No\", \"No\", \"No\", \"No\", \"No\", \"No\", \"No\", \"No\", \"No\", \"No\", \"No\", \"No\", \"No\", \"No\", \"No\", \"No\", \"No\", \"No\", \"No\", \"No\", \"No\", \"No\", \"No\", \"No\", \"No\", \"No\", \"No\", \"No\", \"No\", \"No\", \"No\", \"No\", \"No\", \"No\", \"No\", \"No\", \"No\", \"No\", \"No\", \"No\", \"No\", \"No\", \"No\", \"No\", \"No\", \"No\", \"No\", \"No\", \"No\", \"No\", \"No\", \"No\", \"No\", \"No\", \"No\", \"No\", \"No\", \"No\", \"No\", \"No\", \"No\", \"No\", \"No\", \"No\", \"No\", \"No\", \"No\", \"No\", \"No\", \"No\", \"No\", \"No\", \"No\", \"No\", \"No\", \"No\", \"No\", \"No\", \"No\", \"No\", \"No\", \"No\", \"No\", \"No\", \"No\", \"No\", \"No\", \"No\", \"No\", \"No\", \"No\", \"No\", \"No\", \"No\", \"No\", \"No\", \"No\", \"No\", \"No\", \"No\", \"No\", \"No\", \"No\", \"No\", \"No\", \"No\", \"No\", \"No\", \"No\", \"No\", \"No\", \"No\", \"No\", \"No\", \"No\", \"No\", \"No\", \"No\", \"No\", \"No\", \"No\", \"No\", \"No\", \"No\", \"No\", \"No\", \"No\", \"No\", \"No\", \"No\", \"No\", \"No\", \"No\", \"No\", \"No\", \"No\", \"No\", \"No\", \"No\", \"No\", \"No\", \"No\", \"No\", \"No\", \"No\", \"No\", \"No\", \"No\", \"No\", \"No\", \"No\", \"No\", \"No\", \"No\", \"No\", \"No\", \"No\", \"No\", \"No\", \"No\", \"No\", \"No\", \"No\", \"No\", \"No\", \"No\", \"No\", \"No\", \"No\", \"No\", \"No\", \"No\", \"No\", \"No\", \"No\", \"No\", \"No\", \"No\", \"No\", \"No\", \"No\", \"No\", \"No\", \"No\", \"No\", \"No\", \"No\", \"No\", \"No\", \"No\", \"No\", \"No\", \"No\", \"No\", \"No\", \"No\", \"No\", \"No\", \"No\", \"No\", \"No\", \"No\", \"No\", \"No\", \"No\", \"No\", \"No\", \"No\", \"No\", \"No\", \"No\", \"No\", \"No\", \"No\", \"No\", \"No\", \"No\", \"No\", \"No\", \"No\", \"No\", \"No\", \"No\", \"No\", \"No\", \"No\", \"No\", \"No\", \"No\", \"No\", \"No\", \"No\", \"No\", \"No\", \"No\", \"No\", \"No\", \"No\", \"No\", \"No\", \"No\", \"No\", \"No\", \"No\", \"No\", \"No\", \"No\", \"No\", \"No\", \"No\", \"No\", \"No\", \"No\", \"No\", \"No\", \"No\", \"No\", \"No\", \"No\", \"No\", \"No\", \"No\", \"No\", \"No\", \"No\", \"No\", \"No\", \"No\", \"No\", \"No\", \"No\", \"No\", \"No\", \"No\", \"No\", \"No\", \"No\", \"No\", \"No\", \"No\", \"No\", \"No\", \"No\", \"No\", \"No\", \"No\", \"No\", \"No\", \"No\", \"No\", \"No\", \"No\", \"No\", \"No\", \"No\", \"No\", \"No\", \"No\", \"No\", \"No\", \"No\", \"No\", \"No\", \"No\", \"No\", \"No\", \"No\", \"No\", \"No\", \"No\", \"No\", \"No\", \"No\", \"No\", \"No\", \"No\", \"No\", \"No\", \"No\", \"No\", \"No\", \"No\", \"No\", \"No\", \"No\", \"No\", \"No\", \"No\", \"No\", \"No\", \"No\", \"No\", \"No\", \"No\", \"No\", \"No\", \"No\", \"No\", \"No\", \"No\", \"No\", \"No\", \"No\", \"No\", \"No\", \"No\", \"No\", \"No\", \"No\", \"No\", \"No\", \"No\", \"No\", \"No\", \"No\", \"No\", \"No\", \"No\", \"No\", \"No\", \"No\", \"No\", \"No\", \"No\", \"No\", \"No\", \"No\", \"No\", \"No\", \"No\", \"No\", \"No\", \"No\", \"No\", \"No\", \"No\", \"No\", \"No\", \"No\", \"No\", \"No\", \"No\", \"No\", \"No\", \"No\", \"No\", \"No\", \"No\", \"No\", \"No\", \"No\", \"No\", \"No\", \"No\", \"No\", \"No\", \"No\", \"No\", \"No\", \"No\", \"No\", \"No\", \"No\", \"No\", \"No\", \"No\", \"No\", \"No\", \"No\", \"No\", \"No\", \"No\", \"No\", \"No\", \"No\", \"No\", \"No\", \"No\", \"No\", \"No\", \"No\", \"No\", \"No\", \"No\", \"No\", \"No\", \"No\", \"No\", \"No\", \"No\", \"No\", \"No\", \"No\", \"No\", \"No\", \"No\", \"No\", \"No\", \"No\", \"No\", \"No\", \"No\", \"No\", \"No\", \"No\", \"No\", \"No\", \"No\", \"No\", \"No\", \"No\", \"No\", \"No\", \"No\", \"No\", \"No\", \"No\", \"No\", \"No\", \"No\", \"No\", \"No\", \"No\", \"No\", \"No\", \"No\", \"No\", \"No\", \"No\", \"No\", \"No\", \"No\", \"No\", \"No\", \"No\", \"No\", \"No\", \"No\", \"No\", \"No\", \"No\", \"No\", \"No\", \"No\", \"No\", \"No\", \"No\", \"No\", \"No\", \"No\", \"No\", \"No\", \"No\", \"No\", \"No\", \"No\", \"No\", \"No\", \"No\", \"No\", \"No\", \"No\", \"No\", \"No\", \"No\", \"No\", \"No\", \"No\", \"No\", \"No\", \"No\", \"No\", \"No\", \"No\", \"No\", \"No\", \"No\", \"No\", \"No\", \"No\", \"No\", \"No\", \"No\", \"No\", \"No\", \"No\", \"No\", \"No\", \"No\", \"No\", \"No\", \"No\", \"No\", \"No\", \"No\", \"No\", \"No\", \"No\", \"No\", \"No\", \"No\", \"No\", \"No\", \"No\", \"No\", \"No\", \"No\", \"No\", \"No\", \"No\", \"No\", \"No\", \"No\", \"No\", \"No\", \"No\", \"No\", \"No\", \"No\", \"No\", \"No\", \"No\", \"No\", \"No\", \"No\", \"No\", \"No\", \"No\", \"No\", \"No\", \"No\", \"No\", \"No\", \"No\", \"No\", \"No\", \"No\", \"No\", \"No\", \"No\", \"No\", \"No\", \"No\", \"No\", \"No\", \"No\", \"No\", \"No\", \"No\", \"No\", \"No\", \"No\", \"No\", \"No\", \"No\", \"No\", \"No\", \"No\", \"No\", \"No\", \"No\", \"No\", \"No\", \"No\", \"No\", \"No\", \"No\", \"No\", \"No\", \"No\", \"No\", \"No\", \"No\", \"No\", \"No\", \"No\", \"No\", \"No\", \"No\", \"No\", \"No\", \"No\", \"No\", \"No\", \"No\", \"No\", \"No\", \"No\", \"No\", \"No\", \"No\", \"No\", \"No\", \"No\", \"No\", \"No\", \"No\", \"No\", \"No\", \"No\", \"No\", \"No\", \"No\", \"No\", \"No\", \"No\", \"No\", \"No\", \"No\", \"No\", \"No\", \"No\", \"No\", \"No\", \"No\", \"No\", \"No\", \"No\", \"No\", \"No\", \"No\", \"No\", \"No\", \"No\", \"No\", \"No\", \"No\", \"No\", \"No\", \"No\", \"No\", \"No\", \"No\", \"No\", \"No\", \"No\", \"No\", \"No\", \"No\", \"No\", \"No\", \"No\", \"No\", \"No\", \"No\", \"No\", \"No\", \"No\", \"No\", \"No\", \"No\", \"No\", \"No\", \"No\", \"No\", \"No\", \"No\", \"No\", \"No\", \"No\", \"No\", \"No\", \"No\", \"No\", \"No\", \"No\", \"No\", \"No\", \"No\", \"No\", \"No\", \"No\", \"No\", \"No\", \"No\", \"No\", \"No\", \"No\", \"No\", \"No\", \"No\", \"No\", \"No\", \"No\", \"No\", \"No\", \"No\", \"No\", \"No\", \"No\"], \"xaxis\": \"x2\", \"y\": [56.95, 42.3, 56.15, 100.35, 20.65, 19.8, 66.15, 49.55, 20.75, 74.85, 99.65, 108.45, 54.4, 78.9, 20.4, 110.5, 55.65, 25.9, 62.15, 66.85, 95.0, 45.55, 104.15, 30.15, 94.35, 57.95, 99.8, 56.45, 84.3, 19.6, 64.5, 108.15, 20.15, 20.6, 84.25, 20.55, 20.55, 74.75, 19.65, 71.9, 101.9, 79.95, 102.45, 20.0, 20.2, 19.35, 50.6, 81.15, 74.7, 65.0, 99.0, 93.5, 83.7, 114.35, 113.3, 76.0, 61.2, 86.8, 64.9, 78.75, 110.05, 48.6, 19.2, 94.9, 20.5, 20.25, 97.0, 44.6, 97.1, 50.3, 98.65, 20.6, 99.75, 85.1, 86.75, 86.2, 54.75, 20.05, 19.75, 20.05, 55.9, 95.4, 24.45, 100.55, 25.7, 105.1, 58.25, 20.85, 114.65, 24.7, 92.9, 89.7, 20.65, 108.5, 64.05, 116.25, 65.2, 94.3, 54.3, 105.4, 91.25, 94.7, 107.15, 58.45, 95.65, 78.95, 105.05, 101.9, 68.75, 70.6, 107.25, 101.9, 40.4, 64.9, 98.05, 20.1, 24.9, 90.35, 19.95, 74.25, 109.55, 47.85, 109.8, 102.85, 92.05, 85.05, 104.6, 20.35, 54.55, 89.85, 69.65, 78.8, 19.85, 24.55, 103.75, 24.6, 30.1, 75.25, 20.55, 20.05, 84.95, 104.65, 20.2, 110.45, 90.05, 20.4, 64.8, 107.0, 40.6, 78.4, 76.9, 81.7, 30.4, 103.7, 103.1, 74.1, 71.4, 20.55, 33.15, 89.0, 19.8, 97.55, 60.15, 64.75, 19.3, 111.25, 35.8, 110.5, 91.2, 81.2, 105.6, 65.35, 106.1, 20.05, 104.55, 24.15, 79.7, 86.45, 33.6, 108.05, 21.05, 20.5, 54.95, 47.85, 19.6, 95.85, 20.75, 24.4, 54.35, 94.9, 80.9, 19.3, 54.25, 74.0, 19.8, 80.75, 19.55, 20.05, 55.7, 54.0, 24.5, 19.6, 107.45, 75.35, 68.5, 89.55, 105.2, 19.55, 24.25, 82.5, 61.6, 66.25, 19.65, 35.6, 64.3, 97.95, 72.35, 19.9, 51.55, 19.65, 44.05, 54.25, 93.45, 61.05, 99.25, 104.85, 104.5, 93.15, 23.75, 90.4, 105.85, 98.3, 19.45, 83.15, 34.2, 94.8, 53.6, 60.7, 20.95, 19.25, 74.1, 68.8, 57.6, 75.55, 45.1, 70.95, 94.8, 65.85, 51.25, 56.25, 35.4, 73.05, 100.75, 20.35, 84.4, 98.45, 24.95, 20.1, 110.8, 19.55, 104.1, 100.3, 19.95, 92.0, 24.8, 64.85, 50.25, 19.9, 97.8, 100.3, 108.3, 20.0, 73.75, 92.3, 49.05, 35.55, 69.75, 106.8, 57.75, 70.85, 55.35, 102.15, 68.6, 100.55, 67.45, 45.05, 96.1, 19.65, 60.65, 71.7, 65.2, 80.45, 106.8, 94.65, 95.75, 20.1, 111.55, 20.05, 70.6, 69.95, 24.35, 29.45, 20.65, 65.5, 18.8, 24.8, 103.15, 105.4, 24.45, 26.4, 25.25, 70.7, 20.65, 55.25, 76.75, 19.9, 56.4, 89.45, 99.0, 90.55, 104.45, 48.7, 74.3, 74.85, 54.9, 110.65, 20.55, 58.55, 104.35, 105.2, 61.5, 26.2, 95.15, 96.65, 25.05, 24.3, 66.4, 35.75, 18.8, 19.3, 25.1, 60.7, 99.0, 104.4, 95.2, 55.45, 55.8, 20.15, 24.85, 36.0, 20.65, 20.5, 95.5, 111.8, 19.7, 19.85, 60.5, 71.5, 90.25, 60.15, 99.95, 54.8, 100.3, 19.35, 80.85, 78.75, 19.6, 20.1, 75.4, 95.7, 105.75, 20.15, 60.3, 19.5, 76.4, 19.55, 103.15, 19.35, 59.1, 55.85, 55.8, 99.5, 59.45, 59.4, 95.0, 20.2, 75.85, 19.65, 64.85, 115.05, 101.1, 106.8, 20.2, 94.05, 60.25, 20.25, 19.55, 84.15, 21.2, 25.55, 61.95, 58.2, 85.85, 104.9, 99.85, 104.4, 19.5, 39.1, 19.55, 78.35, 45.85, 24.85, 20.1, 19.8, 65.6, 80.55, 52.7, 104.45, 19.8, 100.9, 65.6, 104.65, 20.1, 104.3, 73.45, 109.15, 94.7, 26.8, 66.05, 45.0, 24.4, 75.1, 19.7, 49.4, 61.25, 19.5, 39.5, 85.45, 19.8, 79.05, 90.7, 95.0, 84.8, 94.45, 60.0, 20.2, 100.5, 53.8, 20.1, 82.95, 25.2, 50.8, 19.9, 90.65, 19.7, 97.95, 20.0, 90.45, 78.45, 20.25, 70.2, 75.5, 26.05, 20.6, 20.1, 90.1, 68.75, 78.75, 101.1, 107.2, 72.1, 78.85, 70.75, 26.9, 20.05, 20.05, 58.85, 109.6, 111.45, 19.9, 51.0, 50.05, 100.15, 59.3, 109.15, 94.95, 93.55, 95.15, 20.1, 20.35, 19.7, 105.2, 59.1, 81.4, 19.1, 60.6, 20.4, 19.95, 61.05, 106.65, 104.65, 101.15, 77.2, 19.45, 84.45, 20.65, 115.0, 19.7, 74.65, 56.2, 85.45, 19.1, 106.05, 19.45, 103.9, 24.05, 43.8, 70.75, 20.25, 63.85, 56.25, 79.2, 70.35, 20.45, 19.7, 64.0, 50.0, 19.85, 19.95, 79.2, 55.45, 64.85, 103.05, 40.25, 92.85, 97.75, 60.25, 64.15, 25.6, 58.35, 53.5, 20.85, 26.0, 20.4, 81.7, 20.0, 71.0, 61.5, 34.05, 49.35, 20.35, 105.6, 65.65, 103.3, 106.6, 19.6, 38.1, 96.4, 79.4, 105.7, 59.9, 23.95, 20.15, 20.5, 54.4, 58.6, 20.15, 106.0, 89.15, 107.9, 19.5, 19.5, 95.0, 74.4, 51.05, 109.1, 95.85, 19.85, 19.35, 20.25, 19.35, 68.75, 100.2, 19.35, 45.0, 20.25, 106.0, 20.4, 70.55, 65.8, 20.05, 35.4, 79.6, 79.6, 105.25, 53.65, 43.7, 20.55, 62.1, 110.6, 84.9, 20.05, 74.8, 24.8, 20.0, 57.2, 102.5, 20.35, 117.2, 20.1, 19.9, 80.05, 107.35, 47.85, 70.8, 95.3, 62.05, 20.1, 101.35, 105.9, 44.1, 93.8, 94.15, 79.85, 68.4, 19.95, 44.1, 61.55, 99.25, 100.7, 55.6, 20.95, 70.4, 19.55, 95.95, 107.75, 54.6, 19.5, 56.3, 60.8, 98.15, 35.35, 103.15, 107.75, 81.4, 95.7, 104.8, 70.95, 97.65, 21.1, 20.3, 100.75, 78.55, 94.8, 90.1, 70.95, 94.3, 54.0, 104.25, 25.0, 53.45, 19.8, 19.35, 19.8, 53.65, 55.35, 97.65, 19.45, 92.2, 90.45, 84.6, 19.95, 23.3, 60.3, 90.15, 19.85, 101.75, 55.15, 103.95, 50.05, 87.3, 20.1, 100.5, 19.05, 81.9, 90.15, 109.9, 35.5, 87.55, 59.75, 70.4, 44.45, 63.9, 64.65, 70.25, 20.1, 73.0, 20.45, 75.75, 65.4, 18.25, 40.65, 24.8, 88.8, 20.2, 24.6, 75.5, 79.2, 25.2, 80.85, 56.35, 19.1, 80.2, 20.15, 19.65, 30.75, 20.45, 78.65, 19.9, 58.35, 86.95, 94.75, 98.25, 54.4, 82.0, 106.85, 19.3, 56.1, 20.3, 25.05, 19.65, 19.9, 81.25, 72.1, 44.8, 109.4, 40.25, 20.25, 88.9, 61.35, 106.5, 19.3, 63.7, 60.4, 79.25, 81.15, 56.15, 54.45, 59.0, 69.45, 19.8, 60.05, 34.8, 100.25, 64.65, 19.5, 40.35, 19.45, 65.25, 20.35, 77.4, 19.7, 19.15, 78.95, 62.85, 19.9, 60.5, 20.3, 75.0, 67.05, 19.8, 75.7, 20.4, 19.8, 73.7, 20.15, 19.6, 20.05, 60.8, 65.2, 75.15, 19.5, 112.2, 19.05, 95.65, 19.4, 36.1, 65.9, 104.5, 73.15, 54.65, 89.7, 19.9, 18.85, 97.05, 101.25, 85.15, 60.95, 24.6, 86.35, 19.0, 20.55, 75.75, 110.0, 20.85, 69.0, 20.55, 64.75, 58.75, 20.7, 54.1, 80.9, 24.5, 20.05, 114.3, 100.3, 20.85, 80.0, 20.35, 25.45, 69.35, 97.0, 79.5, 50.05, 69.55, 90.1, 48.95, 24.1, 53.85, 115.6, 97.95, 20.0, 103.9, 20.15, 80.85, 109.4, 20.7, 19.5, 54.9, 90.35, 66.8, 100.3, 85.2, 105.75, 104.85, 24.2, 89.6, 50.95, 55.1, 116.6, 20.0, 71.0, 19.65, 19.05, 74.75, 50.35, 20.75, 55.45, 109.2, 19.8, 108.25, 105.05, 110.7, 20.0, 102.1, 70.15, 80.05, 19.9, 85.25, 20.6, 20.3, 39.55, 20.45, 75.1, 19.85, 19.9, 19.7, 59.1, 91.15, 69.2, 99.25, 94.75, 118.6, 19.45, 75.0, 80.3, 54.05, 97.25, 40.2, 70.5, 19.75, 109.7, 20.3, 51.35, 100.05, 94.45, 46.4, 59.6, 58.95, 113.15, 64.4, 75.2, 74.65, 69.1, 19.9, 106.05, 113.45, 71.1, 108.5, 84.0, 80.65, 24.7, 76.35, 24.35, 20.8, 25.6, 19.2, 110.75, 115.8, 35.45, 81.85, 20.0, 29.9, 19.3, 20.65, 19.8, 99.1, 54.45, 76.25, 24.9, 49.45, 19.45, 100.25, 19.8, 20.75, 89.85, 45.05, 82.85, 70.9, 66.2, 104.55, 87.2, 25.7, 94.4, 56.1, 104.0, 64.85, 20.35, 108.95, 24.95, 70.8, 108.1, 111.5, 106.5, 19.9, 58.0, 107.45, 100.15, 104.45, 105.75, 89.55, 53.75, 105.75, 64.2, 87.7, 73.0, 68.7, 29.8, 88.9, 58.75, 19.85, 108.1, 56.9, 79.15, 115.1, 86.45, 33.7, 80.1, 41.1, 93.65, 106.4, 105.2, 54.6, 20.55, 66.05, 58.9, 96.9, 84.1, 40.65, 35.4, 20.4, 23.75, 98.0, 52.0, 49.25, 20.1, 19.75, 95.65, 103.8, 85.55, 95.0, 19.8, 100.9, 90.95, 101.6, 95.65, 75.1, 70.15, 56.05, 19.95, 98.6, 20.15, 98.7, 20.05, 30.25, 59.9, 86.7, 84.25, 24.75, 23.95, 105.0, 59.85, 92.15, 44.8, 19.95, 20.5, 20.25, 103.0, 79.8, 78.35, 19.1, 19.95, 19.15, 91.3, 75.5, 19.15, 40.9, 55.2, 54.15, 62.55, 85.5, 91.0, 90.25, 25.45, 19.5, 66.15, 39.1, 59.8, 77.55, 53.15, 100.55, 71.8, 19.7, 80.8, 64.2, 90.65, 19.95, 51.45, 19.3, 104.05, 55.8, 72.8, 99.5, 20.3, 60.0, 90.65, 68.1, 20.2, 59.8, 26.3, 59.95, 25.35, 19.15, 49.7, 81.6, 94.0, 110.8, 96.1, 19.45, 94.4, 21.2, 79.95, 24.35, 24.15, 98.9, 80.2, 87.15, 78.2, 68.7, 85.85, 84.45, 78.65, 63.7, 79.85, 19.8, 74.6, 19.65, 84.8, 71.75, 54.85, 19.5, 100.65, 94.1, 80.55, 61.25, 20.25, 110.5, 19.6, 19.6, 71.1, 40.3, 35.3, 76.75, 24.9, 64.9, 61.35, 90.15, 39.95, 75.9, 23.9, 104.9, 73.85, 51.45, 19.55, 93.55, 59.3, 109.8, 20.35, 99.1, 25.85, 20.5, 89.65, 90.8, 99.9, 54.3, 103.95, 104.15, 83.65, 105.1, 24.85, 54.75, 50.75, 81.45, 58.4, 19.6, 84.2, 64.95, 80.1, 110.55, 96.75, 54.2, 20.85, 85.9, 61.0, 86.9, 20.35, 49.45, 20.6, 54.55, 79.85, 100.0, 50.4, 113.35, 116.3, 44.45, 100.15, 64.5, 105.95, 91.25, 40.3, 100.9, 20.1, 93.7, 98.9, 74.05, 20.1, 106.15, 78.95, 58.2, 65.25, 101.4, 56.15, 19.2, 83.0, 45.35, 79.3, 79.25, 53.75, 44.25, 50.05, 69.35, 50.55, 89.85, 79.0, 116.25, 44.45, 69.1, 44.6, 43.45, 20.05, 94.15, 64.15, 90.6, 19.4, 54.6, 105.7, 60.35, 91.35, 45.9, 36.1, 20.35, 96.75, 64.35, 54.75, 96.0, 19.65, 19.0, 19.8, 55.0, 51.0, 73.55, 78.0, 72.1, 19.25, 20.0, 59.45, 81.25, 69.05, 83.45, 20.35, 94.05, 20.1, 70.3, 53.65, 103.4, 50.8, 96.5, 19.4, 20.45, 39.65, 104.8, 70.7, 44.15, 36.05, 112.35, 41.15, 79.3, 89.6, 100.35, 106.15, 99.4, 69.7, 107.05, 19.65, 101.35, 35.45, 79.4, 35.2, 68.75, 93.65, 72.9, 19.75, 89.35, 91.25, 105.55, 88.4, 19.95, 67.7, 60.6, 81.15, 104.3, 99.65, 61.1, 99.7, 100.05, 94.0, 68.95, 68.45, 69.0, 108.75, 74.1, 18.8, 55.8, 99.15, 89.2, 50.7, 101.05, 103.7, 36.25, 89.1, 56.3, 43.05, 94.0, 98.85, 40.2, 108.35, 76.0, 100.55, 24.45, 20.55, 19.3, 104.95, 60.0, 60.65, 84.8, 103.2], \"yaxis\": \"y2\"}, {\"alignmentgroup\": \"True\", \"bingroup\": \"x\", \"histfunc\": \"avg\", \"hoverlabel\": {\"namelength\": 0}, \"hovertemplate\": \"Churn=%{x}<br>Contract=Two year<br>avg of MonthlyCharges=%{y}\", \"legendgroup\": \"No\", \"marker\": {\"color\": \"#636efa\"}, \"name\": \"No\", \"offsetgroup\": \"No\", \"orientation\": \"v\", \"showlegend\": false, \"type\": \"histogram\", \"x\": [\"No\", \"No\", \"No\", \"No\", \"No\", \"No\", \"No\", \"No\", \"No\", \"No\", \"No\", \"No\", \"No\", \"No\", \"No\", \"No\", \"No\", \"No\", \"No\", \"No\", \"No\", \"No\", \"No\", \"No\", \"No\", \"No\", \"No\", \"No\", \"No\", \"No\", \"No\", \"No\", \"No\", \"No\", \"No\", \"No\", \"No\", \"No\", \"No\", \"No\", \"No\", \"No\", \"No\", \"No\", \"No\", \"No\", \"No\", \"No\", \"No\", \"No\", \"No\", \"No\", \"No\", \"No\", \"No\", \"No\", \"No\", \"No\", \"No\", \"No\", \"No\", \"No\", \"No\", \"No\", \"No\", \"No\", \"No\", \"No\", \"No\", \"No\", \"No\", \"No\", \"No\", \"No\", \"No\", \"No\", \"No\", \"No\", \"No\", \"No\", \"No\", \"No\", \"No\", \"No\", \"No\", \"No\", \"No\", \"No\", \"No\", \"No\", \"No\", \"No\", \"No\", \"No\", \"No\", \"No\", \"No\", \"No\", \"No\", \"No\", \"No\", \"No\", \"No\", \"No\", \"No\", \"No\", \"No\", \"No\", \"No\", \"No\", \"No\", \"No\", \"No\", \"No\", \"No\", \"No\", \"No\", \"No\", \"No\", \"No\", \"No\", \"No\", \"No\", \"No\", \"No\", \"No\", \"No\", \"No\", \"No\", \"No\", \"No\", \"No\", \"No\", \"No\", \"No\", \"No\", \"No\", \"No\", \"No\", \"No\", \"No\", \"No\", \"No\", \"No\", \"No\", \"No\", \"No\", \"No\", \"No\", \"No\", \"No\", \"No\", \"No\", \"No\", \"No\", \"No\", \"No\", \"No\", \"No\", \"No\", \"No\", \"No\", \"No\", \"No\", \"No\", \"No\", \"No\", \"No\", \"No\", \"No\", \"No\", \"No\", \"No\", \"No\", \"No\", \"No\", \"No\", \"No\", \"No\", \"No\", \"No\", \"No\", \"No\", \"No\", \"No\", \"No\", \"No\", \"No\", \"No\", \"No\", \"No\", \"No\", \"No\", \"No\", \"No\", \"No\", \"No\", \"No\", \"No\", \"No\", \"No\", \"No\", \"No\", \"No\", \"No\", \"No\", \"No\", \"No\", \"No\", \"No\", \"No\", \"No\", \"No\", \"No\", \"No\", \"No\", \"No\", \"No\", \"No\", \"No\", \"No\", \"No\", \"No\", \"No\", \"No\", \"No\", \"No\", \"No\", \"No\", \"No\", \"No\", \"No\", \"No\", \"No\", \"No\", \"No\", \"No\", \"No\", \"No\", \"No\", \"No\", \"No\", \"No\", \"No\", \"No\", \"No\", \"No\", \"No\", \"No\", \"No\", \"No\", \"No\", \"No\", \"No\", \"No\", \"No\", \"No\", \"No\", \"No\", \"No\", \"No\", \"No\", \"No\", \"No\", \"No\", \"No\", \"No\", \"No\", \"No\", \"No\", \"No\", \"No\", \"No\", \"No\", \"No\", \"No\", \"No\", \"No\", \"No\", \"No\", \"No\", \"No\", \"No\", \"No\", \"No\", \"No\", \"No\", \"No\", \"No\", \"No\", \"No\", \"No\", \"No\", \"No\", \"No\", \"No\", \"No\", \"No\", \"No\", \"No\", \"No\", \"No\", \"No\", \"No\", \"No\", \"No\", \"No\", \"No\", \"No\", \"No\", \"No\", \"No\", \"No\", \"No\", \"No\", \"No\", \"No\", \"No\", \"No\", \"No\", \"No\", \"No\", \"No\", \"No\", \"No\", \"No\", \"No\", \"No\", \"No\", \"No\", \"No\", \"No\", \"No\", \"No\", \"No\", \"No\", \"No\", \"No\", \"No\", \"No\", \"No\", \"No\", \"No\", \"No\", \"No\", \"No\", \"No\", \"No\", \"No\", \"No\", \"No\", \"No\", \"No\", \"No\", \"No\", \"No\", \"No\", \"No\", \"No\", \"No\", \"No\", \"No\", \"No\", \"No\", \"No\", \"No\", \"No\", \"No\", \"No\", \"No\", \"No\", \"No\", \"No\", \"No\", \"No\", \"No\", \"No\", \"No\", \"No\", \"No\", \"No\", \"No\", \"No\", \"No\", \"No\", \"No\", \"No\", \"No\", \"No\", \"No\", \"No\", \"No\", \"No\", \"No\", \"No\", \"No\", \"No\", \"No\", \"No\", \"No\", \"No\", \"No\", \"No\", \"No\", \"No\", \"No\", \"No\", \"No\", \"No\", \"No\", \"No\", \"No\", \"No\", \"No\", \"No\", \"No\", \"No\", \"No\", \"No\", \"No\", \"No\", \"No\", \"No\", \"No\", \"No\", \"No\", \"No\", \"No\", \"No\", \"No\", \"No\", \"No\", \"No\", \"No\", \"No\", \"No\", \"No\", \"No\", \"No\", \"No\", \"No\", \"No\", \"No\", \"No\", \"No\", \"No\", \"No\", \"No\", \"No\", \"No\", \"No\", \"No\", \"No\", \"No\", \"No\", \"No\", \"No\", \"No\", \"No\", \"No\", \"No\", \"No\", \"No\", \"No\", \"No\", \"No\", \"No\", \"No\", \"No\", \"No\", \"No\", \"No\", \"No\", \"No\", \"No\", \"No\", \"No\", \"No\", \"No\", \"No\", \"No\", \"No\", \"No\", \"No\", \"No\", \"No\", \"No\", \"No\", \"No\", \"No\", \"No\", \"No\", \"No\", \"No\", \"No\", \"No\", \"No\", \"No\", \"No\", \"No\", \"No\", \"No\", \"No\", \"No\", \"No\", \"No\", \"No\", \"No\", \"No\", \"No\", \"No\", \"No\", \"No\", \"No\", \"No\", \"No\", \"No\", \"No\", \"No\", \"No\", \"No\", \"No\", \"No\", \"No\", \"No\", \"No\", \"No\", \"No\", \"No\", \"No\", \"No\", \"No\", \"No\", \"No\", \"No\", \"No\", \"No\", \"No\", \"No\", \"No\", \"No\", \"No\", \"No\", \"No\", \"No\", \"No\", \"No\", \"No\", \"No\", \"No\", \"No\", \"No\", \"No\", \"No\", \"No\", \"No\", \"No\", \"No\", \"No\", \"No\", \"No\", \"No\", \"No\", \"No\", \"No\", \"No\", \"No\", \"No\", \"No\", \"No\", \"No\", \"No\", \"No\", \"No\", \"No\", \"No\", \"No\", \"No\", \"No\", \"No\", \"No\", \"No\", \"No\", \"No\", \"No\", \"No\", \"No\", \"No\", \"No\", \"No\", \"No\", \"No\", \"No\", \"No\", \"No\", \"No\", \"No\", \"No\", \"No\", \"No\", \"No\", \"No\", \"No\", \"No\", \"No\", \"No\", \"No\", \"No\", \"No\", \"No\", \"No\", \"No\", \"No\", \"No\", \"No\", \"No\", \"No\", \"No\", \"No\", \"No\", \"No\", \"No\", \"No\", \"No\", \"No\", \"No\", \"No\", \"No\", \"No\", \"No\", \"No\", \"No\", \"No\", \"No\", \"No\", \"No\", \"No\", \"No\", \"No\", \"No\", \"No\", \"No\", \"No\", \"No\", \"No\", \"No\", \"No\", \"No\", \"No\", \"No\", \"No\", \"No\", \"No\", \"No\", \"No\", \"No\", \"No\", \"No\", \"No\", \"No\", \"No\", \"No\", \"No\", \"No\", \"No\", \"No\", \"No\", \"No\", \"No\", \"No\", \"No\", \"No\", \"No\", \"No\", \"No\", \"No\", \"No\", \"No\", \"No\", \"No\", \"No\", \"No\", \"No\", \"No\", \"No\", \"No\", \"No\", \"No\", \"No\", \"No\", \"No\", \"No\", \"No\", \"No\", \"No\", \"No\", \"No\", \"No\", \"No\", \"No\", \"No\", \"No\", \"No\", \"No\", \"No\", \"No\", \"No\", \"No\", \"No\", \"No\", \"No\", \"No\", \"No\", \"No\", \"No\", \"No\", \"No\", \"No\", \"No\", \"No\", \"No\", \"No\", \"No\", \"No\", \"No\", \"No\", \"No\", \"No\", \"No\", \"No\", \"No\", \"No\", \"No\", \"No\", \"No\", \"No\", \"No\", \"No\", \"No\", \"No\", \"No\", \"No\", \"No\", \"No\", \"No\", \"No\", \"No\", \"No\", \"No\", \"No\", \"No\", \"No\", \"No\", \"No\", \"No\", \"No\", \"No\", \"No\", \"No\", \"No\", \"No\", \"No\", \"No\", \"No\", \"No\", \"No\", \"No\", \"No\", \"No\", \"No\", \"No\", \"No\", \"No\", \"No\", \"No\", \"No\", \"No\", \"No\", \"No\", \"No\", \"No\", \"No\", \"No\", \"No\", \"No\", \"No\", \"No\", \"No\", \"No\", \"No\", \"No\", \"No\", \"No\", \"No\", \"No\", \"No\", \"No\", \"No\", \"No\", \"No\", \"No\", \"No\", \"No\", \"No\", \"No\", \"No\", \"No\", \"No\", \"No\", \"No\", \"No\", \"No\", \"No\", \"No\", \"No\", \"No\", \"No\", \"No\", \"No\", \"No\", \"No\", \"No\", \"No\", \"No\", \"No\", \"No\", \"No\", \"No\", \"No\", \"No\", \"No\", \"No\", \"No\", \"No\", \"No\", \"No\", \"No\", \"No\", \"No\", \"No\", \"No\", \"No\", \"No\", \"No\", \"No\", \"No\", \"No\", \"No\", \"No\", \"No\", \"No\", \"No\", \"No\", \"No\", \"No\", \"No\", \"No\", \"No\", \"No\", \"No\", \"No\", \"No\", \"No\", \"No\", \"No\", \"No\", \"No\", \"No\", \"No\", \"No\", \"No\", \"No\", \"No\", \"No\", \"No\", \"No\", \"No\", \"No\", \"No\", \"No\", \"No\", \"No\", \"No\", \"No\", \"No\", \"No\", \"No\", \"No\", \"No\", \"No\", \"No\", \"No\", \"No\", \"No\", \"No\", \"No\", \"No\", \"No\", \"No\", \"No\", \"No\", \"No\", \"No\", \"No\", \"No\", \"No\", \"No\", \"No\", \"No\", \"No\", \"No\", \"No\", \"No\", \"No\", \"No\", \"No\", \"No\", \"No\", \"No\", \"No\", \"No\", \"No\", \"No\", \"No\", \"No\", \"No\", \"No\", \"No\", \"No\", \"No\", \"No\", \"No\", \"No\", \"No\", \"No\", \"No\", \"No\", \"No\", \"No\", \"No\", \"No\", \"No\", \"No\", \"No\", \"No\", \"No\", \"No\", \"No\", \"No\", \"No\", \"No\", \"No\", \"No\", \"No\", \"No\", \"No\", \"No\", \"No\", \"No\", \"No\", \"No\", \"No\", \"No\", \"No\", \"No\", \"No\", \"No\", \"No\", \"No\", \"No\", \"No\", \"No\", \"No\", \"No\", \"No\", \"No\", \"No\", \"No\", \"No\", \"No\", \"No\", \"No\", \"No\", \"No\", \"No\", \"No\", \"No\", \"No\", \"No\", \"No\", \"No\", \"No\", \"No\", \"No\", \"No\", \"No\", \"No\", \"No\", \"No\", \"No\", \"No\", \"No\", \"No\", \"No\", \"No\", \"No\", \"No\", \"No\", \"No\", \"No\", \"No\", \"No\", \"No\", \"No\", \"No\", \"No\", \"No\", \"No\", \"No\", \"No\", \"No\", \"No\", \"No\", \"No\", \"No\", \"No\", \"No\", \"No\", \"No\", \"No\", \"No\", \"No\", \"No\", \"No\", \"No\", \"No\", \"No\", \"No\", \"No\", \"No\", \"No\", \"No\", \"No\", \"No\", \"No\", \"No\", \"No\", \"No\", \"No\", \"No\", \"No\", \"No\", \"No\", \"No\", \"No\", \"No\", \"No\", \"No\", \"No\", \"No\", \"No\", \"No\", \"No\", \"No\", \"No\", \"No\", \"No\", \"No\", \"No\", \"No\", \"No\", \"No\", \"No\", \"No\", \"No\", \"No\", \"No\", \"No\", \"No\", \"No\", \"No\", \"No\", \"No\", \"No\", \"No\", \"No\", \"No\", \"No\", \"No\", \"No\", \"No\", \"No\", \"No\", \"No\", \"No\", \"No\", \"No\", \"No\", \"No\", \"No\", \"No\", \"No\", \"No\", \"No\", \"No\", \"No\", \"No\", \"No\", \"No\", \"No\", \"No\", \"No\", \"No\", \"No\", \"No\", \"No\", \"No\", \"No\", \"No\", \"No\", \"No\", \"No\", \"No\", \"No\", \"No\", \"No\", \"No\", \"No\", \"No\", \"No\", \"No\", \"No\", \"No\", \"No\", \"No\", \"No\", \"No\", \"No\", \"No\", \"No\", \"No\", \"No\", \"No\", \"No\", \"No\", \"No\", \"No\", \"No\", \"No\", \"No\", \"No\", \"No\", \"No\", \"No\", \"No\", \"No\", \"No\", \"No\", \"No\", \"No\", \"No\", \"No\", \"No\", \"No\", \"No\", \"No\", \"No\", \"No\", \"No\", \"No\", \"No\", \"No\", \"No\", \"No\", \"No\", \"No\", \"No\", \"No\", \"No\", \"No\", \"No\", \"No\", \"No\", \"No\", \"No\", \"No\", \"No\", \"No\", \"No\", \"No\", \"No\", \"No\", \"No\", \"No\", \"No\", \"No\", \"No\", \"No\", \"No\", \"No\", \"No\", \"No\", \"No\", \"No\", \"No\", \"No\", \"No\", \"No\", \"No\", \"No\", \"No\", \"No\", \"No\", \"No\", \"No\", \"No\", \"No\", \"No\", \"No\", \"No\", \"No\", \"No\", \"No\", \"No\", \"No\", \"No\", \"No\", \"No\", \"No\", \"No\", \"No\", \"No\", \"No\", \"No\", \"No\", \"No\", \"No\", \"No\", \"No\", \"No\", \"No\", \"No\", \"No\", \"No\", \"No\", \"No\", \"No\", \"No\", \"No\", \"No\", \"No\", \"No\", \"No\", \"No\", \"No\", \"No\", \"No\", \"No\", \"No\", \"No\", \"No\", \"No\", \"No\", \"No\", \"No\", \"No\", \"No\", \"No\", \"No\", \"No\", \"No\", \"No\", \"No\", \"No\", \"No\", \"No\", \"No\", \"No\", \"No\", \"No\", \"No\", \"No\", \"No\", \"No\", \"No\", \"No\", \"No\", \"No\", \"No\", \"No\", \"No\", \"No\", \"No\", \"No\", \"No\", \"No\", \"No\", \"No\", \"No\", \"No\", \"No\", \"No\", \"No\", \"No\", \"No\", \"No\", \"No\", \"No\", \"No\", \"No\", \"No\", \"No\", \"No\", \"No\", \"No\", \"No\", \"No\", \"No\", \"No\", \"No\", \"No\", \"No\", \"No\", \"No\", \"No\", \"No\", \"No\", \"No\", \"No\", \"No\", \"No\", \"No\", \"No\", \"No\", \"No\", \"No\", \"No\", \"No\", \"No\", \"No\", \"No\", \"No\", \"No\", \"No\", \"No\", \"No\", \"No\", \"No\", \"No\", \"No\", \"No\", \"No\", \"No\", \"No\", \"No\", \"No\", \"No\", \"No\", \"No\", \"No\", \"No\", \"No\", \"No\", \"No\", \"No\", \"No\", \"No\", \"No\", \"No\", \"No\", \"No\", \"No\", \"No\", \"No\", \"No\", \"No\", \"No\", \"No\", \"No\", \"No\", \"No\", \"No\", \"No\", \"No\", \"No\", \"No\", \"No\", \"No\", \"No\", \"No\", \"No\", \"No\", \"No\", \"No\", \"No\", \"No\", \"No\", \"No\", \"No\", \"No\", \"No\", \"No\", \"No\", \"No\", \"No\", \"No\", \"No\", \"No\", \"No\", \"No\", \"No\", \"No\", \"No\", \"No\", \"No\", \"No\", \"No\", \"No\", \"No\", \"No\", \"No\", \"No\", \"No\", \"No\", \"No\", \"No\", \"No\", \"No\", \"No\", \"No\", \"No\", \"No\", \"No\", \"No\", \"No\", \"No\", \"No\", \"No\", \"No\", \"No\", \"No\", \"No\", \"No\", \"No\", \"No\", \"No\", \"No\", \"No\", \"No\", \"No\", \"No\", \"No\", \"No\", \"No\", \"No\", \"No\", \"No\", \"No\", \"No\", \"No\", \"No\", \"No\", \"No\", \"No\", \"No\", \"No\", \"No\", \"No\", \"No\", \"No\", \"No\", \"No\", \"No\", \"No\", \"No\", \"No\", \"No\", \"No\", \"No\", \"No\", \"No\", \"No\", \"No\", \"No\", \"No\", \"No\", \"No\", \"No\", \"No\", \"No\", \"No\", \"No\", \"No\", \"No\", \"No\", \"No\", \"No\", \"No\", \"No\", \"No\", \"No\", \"No\", \"No\", \"No\", \"No\", \"No\", \"No\", \"No\", \"No\", \"No\", \"No\", \"No\", \"No\", \"No\", \"No\", \"No\", \"No\", \"No\", \"No\", \"No\", \"No\", \"No\", \"No\", \"No\", \"No\", \"No\", \"No\", \"No\", \"No\", \"No\", \"No\", \"No\", \"No\", \"No\", \"No\", \"No\", \"No\", \"No\", \"No\", \"No\", \"No\", \"No\", \"No\", \"No\", \"No\", \"No\", \"No\", \"No\", \"No\", \"No\", \"No\", \"No\", \"No\", \"No\", \"No\", \"No\", \"No\", \"No\", \"No\", \"No\", \"No\", \"No\", \"No\", \"No\", \"No\", \"No\", \"No\", \"No\", \"No\", \"No\", \"No\", \"No\", \"No\", \"No\", \"No\", \"No\", \"No\", \"No\", \"No\", \"No\", \"No\", \"No\", \"No\", \"No\", \"No\", \"No\", \"No\", \"No\", \"No\", \"No\", \"No\", \"No\", \"No\", \"No\", \"No\", \"No\", \"No\", \"No\", \"No\", \"No\", \"No\", \"No\", \"No\", \"No\", \"No\", \"No\", \"No\", \"No\", \"No\", \"No\", \"No\", \"No\", \"No\", \"No\", \"No\", \"No\", \"No\", \"No\", \"No\", \"No\", \"No\", \"No\", \"No\", \"No\", \"No\", \"No\", \"No\", \"No\", \"No\", \"No\", \"No\", \"No\", \"No\", \"No\", \"No\", \"No\", \"No\"], \"xaxis\": \"x3\", \"y\": [18.95, 113.25, 106.7, 59.9, 90.25, 96.35, 99.9, 69.2, 79.85, 79.75, 64.15, 24.95, 107.5, 42.1, 79.2, 20.15, 111.6, 24.25, 20.15, 20.65, 19.95, 84.0, 100.9, 21.0, 19.4, 54.6, 31.05, 20.65, 88.95, 23.55, 50.55, 25.7, 20.2, 19.6, 88.05, 101.05, 23.95, 99.05, 86.1, 64.25, 25.7, 73.9, 19.9, 89.05, 81.95, 19.75, 109.7, 19.3, 24.1, 112.25, 105.55, 55.45, 19.75, 45.25, 56.6, 84.2, 24.75, 85.3, 108.0, 20.25, 29.6, 19.75, 86.6, 109.2, 59.55, 115.1, 49.85, 88.1, 24.9, 24.25, 59.75, 76.05, 60.3, 24.8, 75.55, 115.05, 19.9, 60.0, 60.05, 19.85, 88.15, 85.75, 19.45, 62.8, 105.25, 98.8, 20.55, 112.6, 35.75, 89.65, 64.8, 108.1, 90.05, 19.7, 19.8, 98.7, 24.8, 65.2, 19.75, 114.05, 25.05, 105.5, 24.4, 80.8, 116.05, 40.05, 102.1, 19.9, 19.65, 84.5, 88.6, 104.8, 19.8, 80.7, 79.45, 115.75, 19.6, 99.9, 21.1, 20.05, 80.6, 113.1, 110.3, 115.6, 19.35, 25.6, 99.5, 70.85, 73.5, 19.25, 59.6, 81.05, 63.25, 99.15, 90.4, 111.9, 83.5, 54.85, 20.4, 108.65, 86.65, 81.0, 114.55, 20.55, 69.5, 19.7, 111.65, 89.85, 99.45, 70.9, 25.4, 20.1, 88.85, 69.55, 19.5, 57.8, 25.55, 110.35, 73.8, 85.15, 66.5, 63.3, 59.6, 24.7, 25.4, 58.25, 20.55, 26.25, 74.2, 79.05, 101.0, 89.85, 65.0, 24.1, 110.8, 114.95, 19.25, 80.15, 19.7, 90.35, 66.85, 19.9, 110.65, 73.35, 55.3, 69.65, 59.85, 19.85, 67.65, 75.65, 23.8, 64.2, 76.8, 108.55, 25.25, 88.0, 79.15, 25.8, 25.05, 20.4, 105.0, 84.85, 92.0, 89.8, 115.8, 85.15, 20.5, 86.05, 64.8, 93.4, 39.0, 26.4, 98.2, 19.95, 99.7, 116.1, 105.55, 81.35, 111.25, 25.2, 65.55, 103.75, 80.6, 19.3, 65.5, 20.5, 25.45, 73.25, 77.35, 70.1, 75.95, 19.6, 23.75, 80.3, 24.35, 25.25, 26.1, 20.0, 20.7, 19.85, 58.65, 80.1, 110.0, 23.65, 81.85, 25.1, 114.7, 112.4, 19.65, 56.75, 79.2, 20.05, 64.95, 100.45, 97.45, 24.25, 24.6, 39.6, 89.85, 53.85, 89.45, 59.5, 19.15, 114.65, 20.0, 19.8, 88.95, 24.65, 76.1, 18.7, 82.7, 114.0, 79.2, 49.8, 104.05, 69.15, 74.45, 85.25, 20.75, 25.0, 20.2, 20.4, 69.25, 24.65, 75.35, 24.7, 103.2, 88.8, 85.9, 20.15, 95.2, 76.1, 115.55, 24.65, 101.15, 56.8, 99.4, 20.1, 114.85, 105.5, 19.85, 19.55, 84.45, 84.5, 111.2, 80.6, 110.6, 58.2, 81.0, 19.7, 20.9, 24.65, 19.4, 23.95, 20.4, 20.0, 19.95, 65.65, 60.95, 92.0, 85.5, 20.25, 84.35, 19.85, 82.3, 44.6, 102.5, 86.55, 24.3, 68.75, 23.3, 25.3, 44.55, 94.55, 55.5, 19.15, 113.05, 24.45, 111.15, 106.05, 99.65, 105.4, 65.1, 99.2, 19.95, 54.1, 19.65, 80.4, 19.25, 19.5, 21.0, 18.4, 19.8, 75.75, 78.95, 19.85, 21.1, 104.75, 19.85, 25.25, 80.55, 75.4, 20.4, 53.5, 109.05, 26.3, 19.35, 26.0, 96.9, 19.55, 80.4, 19.55, 104.1, 60.5, 90.95, 50.95, 19.4, 81.5, 97.2, 70.95, 59.0, 84.4, 87.1, 20.75, 70.8, 20.25, 72.1, 25.1, 25.4, 25.0, 85.25, 19.6, 20.15, 19.65, 114.45, 75.55, 84.8, 20.45, 97.65, 69.1, 24.4, 19.4, 19.7, 20.1, 81.65, 114.45, 24.85, 19.8, 116.45, 20.05, 89.7, 96.6, 79.95, 20.05, 24.45, 75.7, 115.15, 19.35, 109.05, 25.0, 24.75, 92.2, 19.6, 24.75, 91.05, 19.4, 38.55, 53.1, 64.45, 25.1, 19.7, 20.5, 98.35, 51.35, 20.3, 20.5, 25.3, 19.7, 19.4, 20.1, 58.9, 19.45, 24.1, 19.7, 70.65, 86.45, 114.1, 88.55, 60.4, 86.5, 19.9, 90.6, 19.95, 106.1, 89.1, 85.95, 19.8, 72.1, 19.55, 19.2, 20.5, 104.6, 101.3, 53.6, 80.8, 19.6, 69.75, 20.0, 93.3, 46.35, 67.85, 105.65, 45.2, 79.25, 20.4, 108.15, 116.85, 19.6, 90.55, 19.45, 110.5, 47.6, 19.4, 86.65, 90.35, 25.15, 24.8, 94.1, 84.1, 39.7, 20.15, 79.55, 26.1, 21.25, 118.65, 64.45, 21.0, 75.5, 48.15, 25.4, 69.95, 74.85, 24.15, 19.75, 84.5, 25.05, 83.7, 101.1, 81.0, 19.4, 102.65, 19.9, 95.5, 103.2, 19.95, 116.25, 24.45, 84.2, 85.65, 25.75, 104.0, 25.25, 49.85, 89.9, 82.0, 79.35, 64.05, 34.6, 104.45, 20.35, 19.45, 59.7, 35.7, 89.55, 24.95, 105.35, 19.65, 74.4, 93.05, 20.85, 114.95, 113.65, 20.6, 25.1, 107.45, 91.3, 85.95, 79.2, 55.5, 91.25, 90.45, 63.7, 93.25, 25.25, 100.5, 89.4, 20.45, 19.95, 114.9, 39.7, 95.75, 90.45, 67.4, 19.6, 54.2, 20.05, 117.15, 99.25, 112.55, 90.3, 109.7, 20.85, 84.95, 49.65, 55.65, 109.55, 110.45, 24.55, 24.55, 105.05, 19.55, 20.55, 25.25, 70.9, 99.5, 84.7, 75.85, 25.0, 100.55, 20.05, 20.35, 24.3, 24.5, 110.5, 25.25, 19.2, 115.1, 84.75, 20.25, 19.9, 97.75, 24.45, 50.9, 92.2, 113.4, 40.55, 26.0, 111.95, 53.8, 39.1, 20.05, 115.55, 99.0, 50.55, 25.0, 91.55, 19.35, 24.85, 100.4, 25.0, 20.15, 69.85, 19.8, 20.3, 107.65, 80.45, 73.0, 98.65, 114.9, 20.4, 91.35, 79.1, 25.7, 84.65, 64.75, 25.25, 113.0, 40.65, 81.8, 25.0, 75.35, 18.8, 86.45, 47.4, 79.5, 115.05, 20.7, 85.45, 40.4, 100.65, 116.75, 19.3, 38.9, 87.95, 25.65, 95.1, 92.65, 43.7, 72.6, 18.95, 20.6, 75.2, 68.75, 111.05, 99.0, 21.0, 99.3, 74.0, 85.4, 108.9, 26.1, 74.35, 19.65, 59.85, 86.1, 19.75, 24.55, 48.7, 109.55, 20.65, 20.45, 19.25, 20.45, 61.4, 61.15, 20.0, 19.3, 19.85, 90.6, 85.9, 19.35, 63.8, 88.55, 109.25, 107.95, 22.95, 19.45, 25.75, 90.15, 116.1, 26.45, 63.4, 53.95, 95.1, 25.4, 63.9, 63.8, 19.95, 49.65, 85.1, 116.0, 95.1, 25.75, 113.6, 24.0, 86.1, 97.95, 19.95, 24.6, 113.75, 109.3, 90.3, 65.25, 25.45, 20.5, 89.9, 113.2, 69.05, 20.1, 109.65, 38.6, 19.75, 65.65, 86.75, 25.1, 89.7, 26.3, 19.45, 110.8, 64.45, 89.9, 104.1, 70.5, 24.05, 90.5, 58.75, 53.3, 81.0, 82.45, 61.4, 19.4, 113.65, 25.95, 100.55, 24.95, 82.85, 78.45, 46.25, 74.35, 20.85, 25.5, 48.9, 19.6, 81.3, 95.2, 83.3, 20.3, 54.65, 19.15, 19.1, 25.5, 79.6, 88.05, 117.6, 24.7, 77.3, 19.55, 19.7, 19.85, 19.65, 20.45, 111.6, 85.0, 20.1, 20.4, 79.4, 58.6, 94.8, 69.2, 20.85, 80.2, 84.35, 109.95, 79.65, 25.2, 25.55, 19.35, 20.3, 88.0, 20.9, 90.2, 57.5, 19.65, 89.25, 19.9, 25.05, 84.45, 25.55, 107.6, 91.7, 78.45, 19.55, 20.05, 113.65, 59.5, 41.9, 92.15, 97.0, 58.35, 94.8, 90.55, 85.25, 25.1, 25.1, 19.85, 20.1, 76.45, 19.95, 113.65, 24.6, 110.6, 112.1, 109.2, 100.2, 108.65, 105.6, 83.2, 90.05, 68.05, 102.1, 23.4, 19.85, 20.5, 74.5, 99.65, 60.25, 85.3, 90.95, 19.85, 25.15, 113.8, 24.55, 74.45, 25.0, 25.35, 24.65, 19.55, 60.0, 49.8, 24.1, 99.0, 96.55, 54.5, 24.5, 61.4, 19.9, 20.4, 59.75, 20.05, 77.15, 35.05, 108.1, 104.9, 78.9, 59.2, 66.5, 82.65, 110.9, 19.9, 19.3, 55.25, 90.95, 105.0, 88.7, 75.15, 20.25, 109.1, 78.85, 19.35, 19.35, 25.65, 83.25, 19.25, 105.45, 25.4, 25.6, 73.5, 34.2, 116.05, 65.15, 118.6, 24.15, 115.5, 111.3, 116.05, 19.55, 115.25, 24.8, 86.4, 19.85, 79.15, 108.05, 102.6, 19.6, 111.75, 107.7, 20.05, 110.1, 25.3, 24.35, 25.1, 96.6, 84.7, 66.0, 20.75, 61.45, 109.75, 80.85, 20.3, 67.8, 19.8, 25.7, 86.7, 19.65, 64.95, 114.3, 109.2, 45.05, 110.45, 25.45, 20.6, 60.75, 64.05, 84.8, 94.6, 59.75, 97.7, 46.2, 24.9, 63.35, 79.6, 99.55, 99.35, 26.1, 79.2, 19.8, 90.8, 106.7, 94.45, 67.95, 19.95, 99.7, 24.8, 92.9, 24.85, 76.15, 117.35, 25.2, 65.7, 110.9, 62.15, 115.15, 56.4, 104.05, 20.25, 25.95, 24.05, 23.05, 59.95, 19.55, 78.6, 116.8, 108.2, 92.0, 19.6, 80.65, 115.75, 80.6, 59.55, 19.75, 19.7, 110.2, 106.35, 52.5, 26.0, 115.55, 91.15, 92.4, 19.7, 73.85, 20.1, 110.3, 73.55, 19.75, 25.5, 19.55, 65.6, 82.1, 90.65, 25.55, 60.0, 110.1, 59.85, 80.65, 100.2, 20.2, 80.3, 79.8, 19.6, 89.95, 19.4, 103.95, 68.95, 71.45, 46.35, 66.1, 100.65, 79.7, 40.55, 101.15, 24.95, 20.3, 60.0, 20.25, 98.0, 104.7, 86.45, 24.95, 80.35, 53.35, 24.45, 25.6, 91.7, 24.05, 25.3, 89.75, 20.7, 26.0, 77.35, 75.5, 87.55, 19.65, 105.15, 26.25, 115.8, 20.2, 114.6, 20.55, 19.1, 20.8, 90.15, 90.1, 74.1, 118.75, 20.15, 101.3, 85.3, 115.85, 26.1, 67.25, 25.0, 77.8, 24.15, 45.25, 64.75, 115.8, 24.05, 20.15, 108.95, 104.3, 89.0, 36.15, 20.45, 86.4, 108.9, 107.4, 25.6, 95.8, 106.65, 61.3, 40.55, 90.45, 86.4, 66.9, 49.2, 20.5, 38.25, 54.95, 19.9, 81.25, 115.5, 20.8, 59.5, 20.05, 25.25, 19.7, 25.0, 35.8, 113.15, 19.8, 24.4, 19.5, 103.65, 54.15, 114.05, 80.85, 24.55, 116.15, 80.6, 84.3, 104.9, 74.55, 24.65, 20.2, 39.4, 20.3, 104.05, 108.5, 40.55, 20.75, 84.9, 20.55, 62.5, 111.65, 19.85, 95.9, 23.85, 83.85, 84.8, 76.1, 74.55, 19.55, 39.15, 20.1, 60.15, 19.05, 110.75, 84.4, 20.05, 19.4, 73.6, 53.0, 25.05, 103.75, 56.75, 24.45, 83.3, 24.45, 65.65, 74.05, 19.7, 43.95, 19.65, 88.65, 19.7, 19.85, 109.3, 25.4, 109.9, 25.1, 84.7, 54.3, 20.9, 19.85, 93.15, 69.7, 19.75, 66.15, 86.85, 110.15, 20.1, 65.85, 113.65, 65.65, 61.35, 20.1, 106.8, 24.95, 99.35, 19.2, 25.65, 68.25, 24.75, 70.35, 20.0, 64.35, 90.8, 84.7, 91.1, 19.95, 26.45, 75.1, 110.15, 111.1, 65.6, 109.95, 38.5, 25.45, 94.35, 105.85, 20.15, 20.05, 67.2, 114.75, 110.45, 86.9, 20.15, 25.15, 66.75, 80.7, 59.7, 104.05, 20.35, 78.8, 82.45, 20.25, 64.55, 73.6, 109.75, 61.45, 19.7, 54.05, 45.4, 66.25, 76.9, 74.6, 116.95, 114.35, 69.7, 19.95, 24.75, 25.35, 20.0, 59.75, 82.5, 105.25, 75.8, 39.35, 20.45, 20.35, 97.2, 63.55, 24.95, 99.0, 61.4, 78.5, 114.3, 20.05, 62.65, 92.7, 75.2, 79.5, 25.0, 89.1, 103.15, 61.35, 20.05, 65.1, 20.75, 89.45, 84.2, 106.3, 99.35, 87.1, 25.3, 24.25, 60.5, 25.15, 76.95, 92.45, 19.35, 54.65, 20.9, 85.1, 115.05, 86.15, 24.25, 20.6, 19.8, 116.4, 55.25, 82.15, 74.8, 20.0, 24.0, 19.75, 26.5, 80.25, 70.45, 104.8, 20.3, 105.35, 25.1, 71.9, 25.3, 49.85, 19.2, 20.0, 61.2, 73.45, 80.45, 25.4, 110.5, 81.35, 56.55, 19.7, 52.85, 24.65, 21.3, 110.2, 19.8, 19.85, 89.4, 20.0, 102.9, 39.1, 114.5, 20.2, 24.2, 20.25, 26.0, 19.85, 39.4, 93.75, 59.8, 109.0, 81.95, 82.5, 82.3, 68.15, 20.2, 84.4, 19.8, 109.75, 60.0, 23.9, 18.8, 108.4, 80.9, 111.8, 105.1, 115.15, 79.85, 24.45, 19.3, 103.95, 19.95, 89.3, 19.25, 19.65, 19.35, 71.0, 61.05, 19.7, 19.75, 85.35, 24.0, 25.45, 23.9, 91.6, 19.1, 112.75, 19.5, 65.55, 105.25, 20.65, 24.75, 19.75, 84.7, 19.95, 84.6, 68.4, 19.8, 20.0, 104.4, 20.65, 19.65, 20.2, 20.35, 21.05, 111.95, 19.85, 20.05, 108.95, 93.2, 24.2, 20.35, 19.6, 25.45, 20.05, 78.45, 25.1, 19.2, 25.0, 81.0, 105.55, 113.95, 24.4, 69.9, 103.25, 94.25, 47.05, 20.55, 81.0, 24.7, 110.25, 85.0, 109.5, 19.3, 118.2, 19.5, 64.9, 114.0, 20.25, 54.2, 66.9, 20.95, 109.2, 49.45, 75.15, 18.95, 102.4, 88.7, 20.15, 91.95, 110.05, 25.5, 19.5, 80.8, 20.15, 20.05, 71.6, 53.7, 106.1, 25.75, 85.45, 25.3, 99.4, 107.45, 83.6, 65.3, 89.55, 60.8, 99.15, 97.2, 76.95, 35.4, 20.45, 100.1, 20.2, 69.4, 104.3, 19.55, 19.6, 20.2, 80.95, 24.9, 109.25, 25.6, 70.1, 25.25, 43.6, 89.75, 104.4, 105.25, 104.0, 19.7, 110.25, 80.45, 25.85, 68.3, 48.4, 105.05, 25.15, 19.5, 20.7, 19.35, 40.1, 83.55, 19.55, 59.75, 59.8, 116.6, 109.3, 108.3, 25.25, 43.9, 71.05, 24.25, 20.15, 19.15, 20.5, 50.2, 79.6, 24.9, 19.9, 70.35, 20.6, 21.45, 19.55, 109.55, 110.8, 94.35, 19.75, 35.1, 59.8, 99.65, 50.65, 64.7, 25.1, 20.5, 20.35, 20.5, 41.95, 61.45, 116.55, 19.7, 19.5, 90.8, 72.95, 84.3, 106.75, 20.55, 24.65, 23.85, 25.8, 82.55, 74.3, 109.7, 19.7, 19.4, 60.05, 84.1, 20.75, 77.55, 18.55, 24.2, 23.55, 92.3, 53.65, 100.05, 20.35, 20.85, 37.7, 92.45, 109.75, 20.3, 94.3, 76.15, 71.1, 20.5, 106.3, 25.7, 25.75, 84.1, 79.3, 20.05, 115.15, 72.95, 19.55, 87.25, 20.8, 109.25, 79.2, 19.65, 49.85, 25.6, 117.5, 19.85, 79.75, 79.95, 19.75, 53.15, 25.6, 108.4, 19.55, 111.15, 19.1, 20.4, 100.45, 69.85, 25.85, 71.1, 19.05, 19.6, 20.2, 20.9, 38.8, 65.7, 94.9, 25.15, 111.3, 65.5, 19.95, 89.05, 19.45, 25.2, 24.3, 46.0, 18.7, 114.6, 20.1, 97.85, 19.55, 84.05, 19.7, 104.15, 110.8, 69.9, 55.65, 20.0, 19.9, 64.55, 19.75, 64.35, 72.0, 80.7, 74.35, 89.55, 105.4, 63.1, 84.95, 20.65, 20.15, 64.1, 21.15, 105.65], \"yaxis\": \"y3\"}, {\"alignmentgroup\": \"True\", \"bingroup\": \"x\", \"histfunc\": \"avg\", \"hoverlabel\": {\"namelength\": 0}, \"hovertemplate\": \"Churn=%{x}<br>Contract=Month-to-month<br>avg of MonthlyCharges=%{y}\", \"legendgroup\": \"Yes\", \"marker\": {\"color\": \"#EF553B\"}, \"name\": \"Yes\", \"offsetgroup\": \"Yes\", \"orientation\": \"v\", \"showlegend\": true, \"type\": \"histogram\", \"x\": [\"Yes\", \"Yes\", \"Yes\", \"Yes\", \"Yes\", \"Yes\", \"Yes\", \"Yes\", \"Yes\", \"Yes\", \"Yes\", \"Yes\", \"Yes\", \"Yes\", \"Yes\", \"Yes\", \"Yes\", \"Yes\", \"Yes\", \"Yes\", \"Yes\", \"Yes\", \"Yes\", \"Yes\", \"Yes\", \"Yes\", \"Yes\", \"Yes\", \"Yes\", \"Yes\", \"Yes\", \"Yes\", \"Yes\", \"Yes\", \"Yes\", \"Yes\", \"Yes\", \"Yes\", \"Yes\", \"Yes\", \"Yes\", \"Yes\", \"Yes\", \"Yes\", \"Yes\", \"Yes\", \"Yes\", \"Yes\", \"Yes\", \"Yes\", \"Yes\", \"Yes\", \"Yes\", \"Yes\", \"Yes\", \"Yes\", \"Yes\", \"Yes\", \"Yes\", \"Yes\", \"Yes\", \"Yes\", \"Yes\", \"Yes\", \"Yes\", \"Yes\", \"Yes\", \"Yes\", \"Yes\", \"Yes\", \"Yes\", \"Yes\", \"Yes\", \"Yes\", \"Yes\", \"Yes\", \"Yes\", \"Yes\", \"Yes\", \"Yes\", \"Yes\", \"Yes\", \"Yes\", \"Yes\", \"Yes\", \"Yes\", \"Yes\", \"Yes\", \"Yes\", \"Yes\", \"Yes\", \"Yes\", \"Yes\", \"Yes\", \"Yes\", \"Yes\", \"Yes\", \"Yes\", \"Yes\", \"Yes\", \"Yes\", \"Yes\", \"Yes\", \"Yes\", \"Yes\", \"Yes\", \"Yes\", \"Yes\", \"Yes\", \"Yes\", \"Yes\", \"Yes\", \"Yes\", \"Yes\", \"Yes\", \"Yes\", \"Yes\", \"Yes\", \"Yes\", \"Yes\", \"Yes\", \"Yes\", \"Yes\", \"Yes\", \"Yes\", \"Yes\", \"Yes\", \"Yes\", \"Yes\", \"Yes\", \"Yes\", \"Yes\", \"Yes\", \"Yes\", \"Yes\", \"Yes\", \"Yes\", \"Yes\", \"Yes\", \"Yes\", \"Yes\", \"Yes\", \"Yes\", \"Yes\", \"Yes\", \"Yes\", \"Yes\", \"Yes\", \"Yes\", \"Yes\", \"Yes\", \"Yes\", \"Yes\", \"Yes\", \"Yes\", \"Yes\", \"Yes\", \"Yes\", \"Yes\", \"Yes\", \"Yes\", \"Yes\", \"Yes\", \"Yes\", \"Yes\", \"Yes\", \"Yes\", \"Yes\", \"Yes\", \"Yes\", \"Yes\", \"Yes\", \"Yes\", \"Yes\", \"Yes\", \"Yes\", \"Yes\", \"Yes\", \"Yes\", \"Yes\", \"Yes\", \"Yes\", \"Yes\", \"Yes\", \"Yes\", \"Yes\", \"Yes\", \"Yes\", \"Yes\", \"Yes\", \"Yes\", \"Yes\", \"Yes\", \"Yes\", \"Yes\", \"Yes\", \"Yes\", \"Yes\", \"Yes\", \"Yes\", \"Yes\", \"Yes\", \"Yes\", \"Yes\", \"Yes\", \"Yes\", \"Yes\", \"Yes\", \"Yes\", \"Yes\", \"Yes\", \"Yes\", \"Yes\", \"Yes\", \"Yes\", \"Yes\", \"Yes\", \"Yes\", \"Yes\", \"Yes\", \"Yes\", \"Yes\", \"Yes\", \"Yes\", \"Yes\", \"Yes\", \"Yes\", \"Yes\", \"Yes\", \"Yes\", \"Yes\", \"Yes\", \"Yes\", \"Yes\", \"Yes\", \"Yes\", \"Yes\", \"Yes\", \"Yes\", \"Yes\", \"Yes\", \"Yes\", \"Yes\", \"Yes\", \"Yes\", \"Yes\", \"Yes\", \"Yes\", \"Yes\", \"Yes\", \"Yes\", \"Yes\", \"Yes\", \"Yes\", \"Yes\", \"Yes\", \"Yes\", \"Yes\", \"Yes\", \"Yes\", \"Yes\", \"Yes\", \"Yes\", \"Yes\", \"Yes\", \"Yes\", \"Yes\", \"Yes\", \"Yes\", \"Yes\", \"Yes\", \"Yes\", \"Yes\", \"Yes\", \"Yes\", \"Yes\", \"Yes\", \"Yes\", \"Yes\", \"Yes\", \"Yes\", \"Yes\", \"Yes\", \"Yes\", \"Yes\", \"Yes\", \"Yes\", \"Yes\", \"Yes\", \"Yes\", \"Yes\", \"Yes\", \"Yes\", \"Yes\", \"Yes\", \"Yes\", \"Yes\", \"Yes\", \"Yes\", \"Yes\", \"Yes\", \"Yes\", \"Yes\", \"Yes\", \"Yes\", \"Yes\", \"Yes\", \"Yes\", \"Yes\", \"Yes\", \"Yes\", \"Yes\", \"Yes\", \"Yes\", \"Yes\", \"Yes\", \"Yes\", \"Yes\", \"Yes\", \"Yes\", \"Yes\", \"Yes\", \"Yes\", \"Yes\", \"Yes\", \"Yes\", \"Yes\", \"Yes\", \"Yes\", \"Yes\", \"Yes\", \"Yes\", \"Yes\", \"Yes\", \"Yes\", \"Yes\", \"Yes\", \"Yes\", \"Yes\", \"Yes\", \"Yes\", \"Yes\", \"Yes\", \"Yes\", \"Yes\", \"Yes\", \"Yes\", \"Yes\", \"Yes\", \"Yes\", \"Yes\", \"Yes\", \"Yes\", \"Yes\", \"Yes\", \"Yes\", \"Yes\", \"Yes\", \"Yes\", \"Yes\", \"Yes\", \"Yes\", \"Yes\", \"Yes\", \"Yes\", \"Yes\", \"Yes\", \"Yes\", \"Yes\", \"Yes\", \"Yes\", \"Yes\", \"Yes\", \"Yes\", \"Yes\", \"Yes\", \"Yes\", \"Yes\", \"Yes\", \"Yes\", \"Yes\", \"Yes\", \"Yes\", \"Yes\", \"Yes\", \"Yes\", \"Yes\", \"Yes\", \"Yes\", \"Yes\", \"Yes\", \"Yes\", \"Yes\", \"Yes\", \"Yes\", \"Yes\", \"Yes\", \"Yes\", \"Yes\", \"Yes\", \"Yes\", \"Yes\", \"Yes\", \"Yes\", \"Yes\", \"Yes\", \"Yes\", \"Yes\", \"Yes\", \"Yes\", \"Yes\", \"Yes\", \"Yes\", \"Yes\", \"Yes\", \"Yes\", \"Yes\", \"Yes\", \"Yes\", \"Yes\", \"Yes\", \"Yes\", \"Yes\", \"Yes\", \"Yes\", \"Yes\", \"Yes\", \"Yes\", \"Yes\", \"Yes\", \"Yes\", \"Yes\", \"Yes\", \"Yes\", \"Yes\", \"Yes\", \"Yes\", \"Yes\", \"Yes\", \"Yes\", \"Yes\", \"Yes\", \"Yes\", \"Yes\", \"Yes\", \"Yes\", \"Yes\", \"Yes\", \"Yes\", \"Yes\", \"Yes\", \"Yes\", \"Yes\", \"Yes\", \"Yes\", \"Yes\", \"Yes\", \"Yes\", \"Yes\", \"Yes\", \"Yes\", \"Yes\", \"Yes\", \"Yes\", \"Yes\", \"Yes\", \"Yes\", \"Yes\", \"Yes\", \"Yes\", \"Yes\", \"Yes\", \"Yes\", \"Yes\", \"Yes\", \"Yes\", \"Yes\", \"Yes\", \"Yes\", \"Yes\", \"Yes\", \"Yes\", \"Yes\", \"Yes\", \"Yes\", \"Yes\", \"Yes\", \"Yes\", \"Yes\", \"Yes\", \"Yes\", \"Yes\", \"Yes\", \"Yes\", \"Yes\", \"Yes\", \"Yes\", \"Yes\", \"Yes\", \"Yes\", \"Yes\", \"Yes\", \"Yes\", \"Yes\", \"Yes\", \"Yes\", \"Yes\", \"Yes\", \"Yes\", \"Yes\", \"Yes\", \"Yes\", \"Yes\", \"Yes\", \"Yes\", \"Yes\", \"Yes\", \"Yes\", \"Yes\", \"Yes\", \"Yes\", \"Yes\", \"Yes\", \"Yes\", \"Yes\", \"Yes\", \"Yes\", \"Yes\", \"Yes\", \"Yes\", \"Yes\", \"Yes\", \"Yes\", \"Yes\", \"Yes\", \"Yes\", \"Yes\", \"Yes\", \"Yes\", \"Yes\", \"Yes\", \"Yes\", \"Yes\", \"Yes\", \"Yes\", \"Yes\", \"Yes\", \"Yes\", \"Yes\", \"Yes\", \"Yes\", \"Yes\", \"Yes\", \"Yes\", \"Yes\", \"Yes\", \"Yes\", \"Yes\", \"Yes\", \"Yes\", \"Yes\", \"Yes\", \"Yes\", \"Yes\", \"Yes\", \"Yes\", \"Yes\", \"Yes\", \"Yes\", \"Yes\", \"Yes\", \"Yes\", \"Yes\", \"Yes\", \"Yes\", \"Yes\", \"Yes\", \"Yes\", \"Yes\", \"Yes\", \"Yes\", \"Yes\", \"Yes\", \"Yes\", \"Yes\", \"Yes\", \"Yes\", \"Yes\", \"Yes\", \"Yes\", \"Yes\", \"Yes\", \"Yes\", \"Yes\", \"Yes\", \"Yes\", \"Yes\", \"Yes\", \"Yes\", \"Yes\", \"Yes\", \"Yes\", \"Yes\", \"Yes\", \"Yes\", \"Yes\", \"Yes\", \"Yes\", \"Yes\", \"Yes\", \"Yes\", \"Yes\", \"Yes\", \"Yes\", \"Yes\", \"Yes\", \"Yes\", \"Yes\", \"Yes\", \"Yes\", \"Yes\", \"Yes\", \"Yes\", \"Yes\", \"Yes\", \"Yes\", \"Yes\", \"Yes\", \"Yes\", \"Yes\", \"Yes\", \"Yes\", \"Yes\", \"Yes\", \"Yes\", \"Yes\", \"Yes\", \"Yes\", \"Yes\", \"Yes\", \"Yes\", \"Yes\", \"Yes\", \"Yes\", \"Yes\", \"Yes\", \"Yes\", \"Yes\", \"Yes\", \"Yes\", \"Yes\", \"Yes\", \"Yes\", \"Yes\", \"Yes\", \"Yes\", \"Yes\", \"Yes\", \"Yes\", \"Yes\", \"Yes\", \"Yes\", \"Yes\", \"Yes\", \"Yes\", \"Yes\", \"Yes\", \"Yes\", \"Yes\", \"Yes\", \"Yes\", \"Yes\", \"Yes\", \"Yes\", \"Yes\", \"Yes\", \"Yes\", \"Yes\", \"Yes\", \"Yes\", \"Yes\", \"Yes\", \"Yes\", \"Yes\", \"Yes\", \"Yes\", \"Yes\", \"Yes\", \"Yes\", \"Yes\", \"Yes\", \"Yes\", \"Yes\", \"Yes\", \"Yes\", \"Yes\", \"Yes\", \"Yes\", \"Yes\", \"Yes\", \"Yes\", \"Yes\", \"Yes\", \"Yes\", \"Yes\", \"Yes\", \"Yes\", \"Yes\", \"Yes\", \"Yes\", \"Yes\", \"Yes\", \"Yes\", \"Yes\", \"Yes\", \"Yes\", \"Yes\", \"Yes\", \"Yes\", \"Yes\", \"Yes\", \"Yes\", \"Yes\", \"Yes\", \"Yes\", \"Yes\", \"Yes\", \"Yes\", \"Yes\", \"Yes\", \"Yes\", \"Yes\", \"Yes\", \"Yes\", \"Yes\", \"Yes\", \"Yes\", \"Yes\", \"Yes\", \"Yes\", \"Yes\", \"Yes\", \"Yes\", \"Yes\", \"Yes\", \"Yes\", \"Yes\", \"Yes\", \"Yes\", \"Yes\", \"Yes\", \"Yes\", \"Yes\", \"Yes\", \"Yes\", \"Yes\", \"Yes\", \"Yes\", \"Yes\", \"Yes\", \"Yes\", \"Yes\", \"Yes\", \"Yes\", \"Yes\", \"Yes\", \"Yes\", \"Yes\", \"Yes\", \"Yes\", \"Yes\", \"Yes\", \"Yes\", \"Yes\", \"Yes\", \"Yes\", \"Yes\", \"Yes\", \"Yes\", \"Yes\", \"Yes\", \"Yes\", \"Yes\", \"Yes\", \"Yes\", \"Yes\", \"Yes\", \"Yes\", \"Yes\", \"Yes\", \"Yes\", \"Yes\", \"Yes\", \"Yes\", \"Yes\", \"Yes\", \"Yes\", \"Yes\", \"Yes\", \"Yes\", \"Yes\", \"Yes\", \"Yes\", \"Yes\", \"Yes\", \"Yes\", \"Yes\", \"Yes\", \"Yes\", \"Yes\", \"Yes\", \"Yes\", \"Yes\", \"Yes\", \"Yes\", \"Yes\", \"Yes\", \"Yes\", \"Yes\", \"Yes\", \"Yes\", \"Yes\", \"Yes\", \"Yes\", \"Yes\", \"Yes\", \"Yes\", \"Yes\", \"Yes\", \"Yes\", \"Yes\", \"Yes\", \"Yes\", \"Yes\", \"Yes\", \"Yes\", \"Yes\", \"Yes\", \"Yes\", \"Yes\", \"Yes\", \"Yes\", \"Yes\", \"Yes\", \"Yes\", \"Yes\", \"Yes\", \"Yes\", \"Yes\", \"Yes\", \"Yes\", \"Yes\", \"Yes\", \"Yes\", \"Yes\", \"Yes\", \"Yes\", \"Yes\", \"Yes\", \"Yes\", \"Yes\", \"Yes\", \"Yes\", \"Yes\", \"Yes\", \"Yes\", \"Yes\", \"Yes\", \"Yes\", \"Yes\", \"Yes\", \"Yes\", \"Yes\", \"Yes\", \"Yes\", \"Yes\", \"Yes\", \"Yes\", \"Yes\", \"Yes\", \"Yes\", \"Yes\", \"Yes\", \"Yes\", \"Yes\", \"Yes\", \"Yes\", \"Yes\", \"Yes\", \"Yes\", \"Yes\", \"Yes\", \"Yes\", \"Yes\", \"Yes\", \"Yes\", \"Yes\", \"Yes\", \"Yes\", \"Yes\", \"Yes\", \"Yes\", \"Yes\", \"Yes\", \"Yes\", \"Yes\", \"Yes\", \"Yes\", \"Yes\", \"Yes\", \"Yes\", \"Yes\", \"Yes\", \"Yes\", \"Yes\", \"Yes\", \"Yes\", \"Yes\", \"Yes\", \"Yes\", \"Yes\", \"Yes\", \"Yes\", \"Yes\", \"Yes\", \"Yes\", \"Yes\", \"Yes\", \"Yes\", \"Yes\", \"Yes\", \"Yes\", \"Yes\", \"Yes\", \"Yes\", \"Yes\", \"Yes\", \"Yes\", \"Yes\", \"Yes\", \"Yes\", \"Yes\", \"Yes\", \"Yes\", \"Yes\", \"Yes\", \"Yes\", \"Yes\", \"Yes\", \"Yes\", \"Yes\", \"Yes\", \"Yes\", \"Yes\", \"Yes\", \"Yes\", \"Yes\", \"Yes\", \"Yes\", \"Yes\", \"Yes\", \"Yes\", \"Yes\", \"Yes\", \"Yes\", \"Yes\", \"Yes\", \"Yes\", \"Yes\", \"Yes\", \"Yes\", \"Yes\", \"Yes\", \"Yes\", \"Yes\", \"Yes\", \"Yes\", \"Yes\", \"Yes\", \"Yes\", \"Yes\", \"Yes\", \"Yes\", \"Yes\", \"Yes\", \"Yes\", \"Yes\", \"Yes\", \"Yes\", \"Yes\", \"Yes\", \"Yes\", \"Yes\", \"Yes\", \"Yes\", \"Yes\", \"Yes\", \"Yes\", \"Yes\", \"Yes\", \"Yes\", \"Yes\", \"Yes\", \"Yes\", \"Yes\", \"Yes\", \"Yes\", \"Yes\", \"Yes\", \"Yes\", \"Yes\", \"Yes\", \"Yes\", \"Yes\", \"Yes\", \"Yes\", \"Yes\", \"Yes\", \"Yes\", \"Yes\", \"Yes\", \"Yes\", \"Yes\", \"Yes\", \"Yes\", \"Yes\", \"Yes\", \"Yes\", \"Yes\", \"Yes\", \"Yes\", \"Yes\", \"Yes\", \"Yes\", \"Yes\", \"Yes\", \"Yes\", \"Yes\", \"Yes\", \"Yes\", \"Yes\", \"Yes\", \"Yes\", \"Yes\", \"Yes\", \"Yes\", \"Yes\", \"Yes\", \"Yes\", \"Yes\", \"Yes\", \"Yes\", \"Yes\", \"Yes\", \"Yes\", \"Yes\", \"Yes\", \"Yes\", \"Yes\", \"Yes\", \"Yes\", \"Yes\", \"Yes\", \"Yes\", \"Yes\", \"Yes\", \"Yes\", \"Yes\", \"Yes\", \"Yes\", \"Yes\", \"Yes\", \"Yes\", \"Yes\", \"Yes\", \"Yes\", \"Yes\", \"Yes\", \"Yes\", \"Yes\", \"Yes\", \"Yes\", \"Yes\", \"Yes\", \"Yes\", \"Yes\", \"Yes\", \"Yes\", \"Yes\", \"Yes\", \"Yes\", \"Yes\", \"Yes\", \"Yes\", \"Yes\", \"Yes\", \"Yes\", \"Yes\", \"Yes\", \"Yes\", \"Yes\", \"Yes\", \"Yes\", \"Yes\", \"Yes\", \"Yes\", \"Yes\", \"Yes\", \"Yes\", \"Yes\", \"Yes\", \"Yes\", \"Yes\", \"Yes\", \"Yes\", \"Yes\", \"Yes\", \"Yes\", \"Yes\", \"Yes\", \"Yes\", \"Yes\", \"Yes\", \"Yes\", \"Yes\", \"Yes\", \"Yes\", \"Yes\", \"Yes\", \"Yes\", \"Yes\", \"Yes\", \"Yes\", \"Yes\", \"Yes\", \"Yes\", \"Yes\", \"Yes\", \"Yes\", \"Yes\", \"Yes\", \"Yes\", \"Yes\", \"Yes\", \"Yes\", \"Yes\", \"Yes\", \"Yes\", \"Yes\", \"Yes\", \"Yes\", \"Yes\", \"Yes\", \"Yes\", \"Yes\", \"Yes\", \"Yes\", \"Yes\", \"Yes\", \"Yes\", \"Yes\", \"Yes\", \"Yes\", \"Yes\", \"Yes\", \"Yes\", \"Yes\", \"Yes\", \"Yes\", \"Yes\", \"Yes\", \"Yes\", \"Yes\", \"Yes\", \"Yes\", \"Yes\", \"Yes\", \"Yes\", \"Yes\", \"Yes\", \"Yes\", \"Yes\", \"Yes\", \"Yes\", \"Yes\", \"Yes\", \"Yes\", \"Yes\", \"Yes\", \"Yes\", \"Yes\", \"Yes\", \"Yes\", \"Yes\", \"Yes\", \"Yes\", \"Yes\", \"Yes\", \"Yes\", \"Yes\", \"Yes\", \"Yes\", \"Yes\", \"Yes\", \"Yes\", \"Yes\", \"Yes\", \"Yes\", \"Yes\", \"Yes\", \"Yes\", \"Yes\", \"Yes\", \"Yes\", \"Yes\", \"Yes\", \"Yes\", \"Yes\", \"Yes\", \"Yes\", \"Yes\", \"Yes\", \"Yes\", \"Yes\", \"Yes\", \"Yes\", \"Yes\", \"Yes\", \"Yes\", \"Yes\", \"Yes\", \"Yes\", \"Yes\", \"Yes\", \"Yes\", \"Yes\", \"Yes\", \"Yes\", \"Yes\", \"Yes\", \"Yes\", \"Yes\", \"Yes\", \"Yes\", \"Yes\", \"Yes\", \"Yes\", \"Yes\", \"Yes\", \"Yes\", \"Yes\", \"Yes\", \"Yes\", \"Yes\", \"Yes\", \"Yes\", \"Yes\", \"Yes\", \"Yes\", \"Yes\", \"Yes\", \"Yes\", \"Yes\", \"Yes\", \"Yes\", \"Yes\", \"Yes\", \"Yes\", \"Yes\", \"Yes\", \"Yes\", \"Yes\", \"Yes\", \"Yes\", \"Yes\", \"Yes\", \"Yes\", \"Yes\", \"Yes\", \"Yes\", \"Yes\", \"Yes\", \"Yes\", \"Yes\", \"Yes\", \"Yes\", \"Yes\", \"Yes\", \"Yes\", \"Yes\", \"Yes\", \"Yes\", \"Yes\", \"Yes\", \"Yes\", \"Yes\", \"Yes\", \"Yes\", \"Yes\", \"Yes\", \"Yes\", \"Yes\", \"Yes\", \"Yes\", \"Yes\", \"Yes\", \"Yes\", \"Yes\", \"Yes\", \"Yes\", \"Yes\", \"Yes\", \"Yes\", \"Yes\", \"Yes\", \"Yes\", \"Yes\", \"Yes\", \"Yes\", \"Yes\", \"Yes\", \"Yes\", \"Yes\", \"Yes\", \"Yes\", \"Yes\", \"Yes\", \"Yes\", \"Yes\", \"Yes\", \"Yes\", \"Yes\", \"Yes\", \"Yes\", \"Yes\", \"Yes\", \"Yes\", \"Yes\", \"Yes\", \"Yes\", \"Yes\", \"Yes\", \"Yes\", \"Yes\", \"Yes\", \"Yes\", \"Yes\", \"Yes\", \"Yes\", \"Yes\", \"Yes\", \"Yes\", \"Yes\", \"Yes\", \"Yes\", \"Yes\", \"Yes\", \"Yes\", \"Yes\", \"Yes\", \"Yes\", \"Yes\", \"Yes\", \"Yes\", \"Yes\", \"Yes\", \"Yes\", \"Yes\", \"Yes\", \"Yes\", \"Yes\", \"Yes\", \"Yes\", \"Yes\", \"Yes\", \"Yes\", \"Yes\", \"Yes\", \"Yes\", \"Yes\", \"Yes\", \"Yes\", \"Yes\", \"Yes\", \"Yes\", \"Yes\", \"Yes\", \"Yes\", \"Yes\", \"Yes\", \"Yes\", \"Yes\", \"Yes\", \"Yes\", \"Yes\", \"Yes\", \"Yes\", \"Yes\", \"Yes\", \"Yes\", \"Yes\", \"Yes\", \"Yes\", \"Yes\", \"Yes\", \"Yes\", \"Yes\", \"Yes\", \"Yes\", \"Yes\", \"Yes\", \"Yes\", \"Yes\", \"Yes\", \"Yes\", \"Yes\", \"Yes\", \"Yes\", \"Yes\", \"Yes\", \"Yes\", \"Yes\", \"Yes\", \"Yes\", \"Yes\", \"Yes\", \"Yes\", \"Yes\", \"Yes\", \"Yes\", \"Yes\", \"Yes\", \"Yes\", \"Yes\", \"Yes\", \"Yes\", \"Yes\", \"Yes\", \"Yes\", \"Yes\", \"Yes\", \"Yes\", \"Yes\", \"Yes\", \"Yes\", \"Yes\", \"Yes\", \"Yes\", \"Yes\", \"Yes\", \"Yes\", \"Yes\", \"Yes\", \"Yes\", \"Yes\", \"Yes\", \"Yes\", \"Yes\", \"Yes\", \"Yes\", \"Yes\", \"Yes\", \"Yes\", \"Yes\", \"Yes\", \"Yes\", \"Yes\", \"Yes\", \"Yes\", \"Yes\", \"Yes\", \"Yes\", \"Yes\", \"Yes\", \"Yes\", \"Yes\", \"Yes\", \"Yes\", \"Yes\", \"Yes\", \"Yes\", \"Yes\", \"Yes\", \"Yes\", \"Yes\", \"Yes\", \"Yes\", \"Yes\", \"Yes\", \"Yes\", \"Yes\", \"Yes\", \"Yes\", \"Yes\", \"Yes\", \"Yes\", \"Yes\", \"Yes\", \"Yes\", \"Yes\", \"Yes\", \"Yes\", \"Yes\", \"Yes\", \"Yes\", \"Yes\", \"Yes\", \"Yes\", \"Yes\", \"Yes\", \"Yes\", \"Yes\", \"Yes\", \"Yes\", \"Yes\", \"Yes\", \"Yes\", \"Yes\", \"Yes\", \"Yes\", \"Yes\", \"Yes\", \"Yes\", \"Yes\", \"Yes\", \"Yes\", \"Yes\", \"Yes\", \"Yes\", \"Yes\", \"Yes\", \"Yes\", \"Yes\", \"Yes\", \"Yes\", \"Yes\", \"Yes\", \"Yes\", \"Yes\", \"Yes\", \"Yes\", \"Yes\", \"Yes\", \"Yes\", \"Yes\", \"Yes\", \"Yes\", \"Yes\", \"Yes\", \"Yes\", \"Yes\", \"Yes\", \"Yes\", \"Yes\", \"Yes\", \"Yes\", \"Yes\", \"Yes\", \"Yes\", \"Yes\", \"Yes\", \"Yes\", \"Yes\", \"Yes\", \"Yes\", \"Yes\", \"Yes\", \"Yes\", \"Yes\", \"Yes\", \"Yes\", \"Yes\", \"Yes\", \"Yes\", \"Yes\", \"Yes\", \"Yes\", \"Yes\", \"Yes\", \"Yes\", \"Yes\", \"Yes\", \"Yes\", \"Yes\", \"Yes\", \"Yes\", \"Yes\", \"Yes\", \"Yes\", \"Yes\", \"Yes\", \"Yes\", \"Yes\", \"Yes\", \"Yes\", \"Yes\", \"Yes\", \"Yes\", \"Yes\", \"Yes\", \"Yes\", \"Yes\", \"Yes\", \"Yes\", \"Yes\", \"Yes\", \"Yes\", \"Yes\", \"Yes\", \"Yes\", \"Yes\", \"Yes\", \"Yes\", \"Yes\", \"Yes\", \"Yes\", \"Yes\", \"Yes\", \"Yes\", \"Yes\", \"Yes\", \"Yes\", \"Yes\", \"Yes\", \"Yes\", \"Yes\", \"Yes\", \"Yes\", \"Yes\", \"Yes\", \"Yes\", \"Yes\", \"Yes\", \"Yes\", \"Yes\", \"Yes\", \"Yes\", \"Yes\", \"Yes\", \"Yes\", \"Yes\", \"Yes\", \"Yes\", \"Yes\", \"Yes\", \"Yes\", \"Yes\", \"Yes\", \"Yes\", \"Yes\", \"Yes\", \"Yes\", \"Yes\", \"Yes\", \"Yes\"], \"xaxis\": \"x\", \"y\": [53.85, 70.7, 99.65, 104.8, 103.7, 55.2, 39.65, 20.15, 99.35, 30.2, 64.7, 69.7, 106.35, 97.85, 80.65, 99.1, 80.65, 95.45, 94.4, 79.35, 75.15, 78.95, 21.05, 98.5, 96.75, 76.5, 100.25, 74.4, 78.05, 58.6, 35.45, 44.35, 70.45, 71.15, 45.65, 95.0, 82.4, 70.9, 45.3, 104.4, 74.45, 76.45, 29.95, 84.5, 79.25, 24.8, 91.0, 79.9, 106.6, 46.0, 70.15, 50.05, 55.2, 84.6, 54.4, 95.0, 74.4, 48.55, 70.4, 40.2, 44.6, 41.15, 106.9, 94.45, 24.8, 70.6, 85.4, 105.05, 95.15, 70.0, 74.5, 44.85, 76.1, 73.6, 95.45, 74.9, 80.6, 93.15, 70.35, 73.85, 80.6, 103.4, 90.4, 84.8, 41.9, 80.25, 30.75, 96.5, 85.65, 104.95, 50.65, 90.85, 19.95, 85.45, 73.95, 99.45, 19.9, 19.6, 81.35, 83.3, 75.3, 19.4, 45.4, 105.9, 69.55, 81.05, 101.15, 99.8, 55.95, 55.0, 74.7, 80.25, 96.1, 69.0, 45.3, 83.55, 74.35, 74.4, 28.45, 99.7, 94.1, 94.2, 80.5, 74.35, 104.8, 75.2, 75.6, 100.05, 85.0, 86.05, 45.55, 86.3, 80.35, 100.25, 19.0, 75.3, 89.2, 85.7, 61.65, 105.25, 29.95, 65.0, 20.0, 90.05, 110.75, 105.5, 85.25, 56.15, 89.55, 94.55, 45.7, 89.5, 69.55, 74.6, 19.65, 24.25, 69.65, 45.65, 75.05, 49.15, 34.7, 80.0, 49.25, 75.1, 50.15, 79.85, 19.55, 85.95, 45.35, 94.5, 91.7, 87.25, 98.55, 98.55, 85.9, 89.25, 70.3, 93.35, 19.9, 88.9, 82.0, 45.35, 52.2, 98.5, 85.35, 101.3, 69.55, 86.2, 111.2, 89.45, 95.6, 78.85, 44.4, 89.9, 50.8, 73.65, 95.1, 94.65, 80.6, 50.8, 105.1, 110.1, 83.9, 100.55, 103.85, 24.6, 98.9, 98.3, 93.85, 100.5, 72.85, 73.55, 79.4, 81.15, 84.6, 79.05, 74.4, 99.05, 44.95, 44.7, 45.7, 100.3, 19.25, 96.0, 90.55, 30.35, 69.9, 86.6, 80.6, 85.3, 70.0, 94.3, 95.35, 75.5, 90.1, 68.95, 99.55, 57.45, 100.6, 83.75, 88.3, 92.1, 79.45, 90.45, 69.75, 19.65, 43.65, 39.5, 97.1, 80.0, 84.7, 89.55, 90.6, 90.05, 99.05, 69.75, 49.05, 98.05, 114.5, 80.95, 74.3, 89.7, 100.45, 56.15, 94.4, 78.95, 105.65, 74.65, 64.7, 104.05, 35.55, 95.15, 96.65, 80.4, 31.35, 89.75, 19.85, 109.9, 101.35, 60.05, 60.15, 90.45, 74.9, 80.25, 69.0, 66.35, 86.0, 80.3, 90.55, 75.9, 45.85, 49.95, 78.3, 76.95, 96.15, 45.3, 19.4, 90.15, 45.05, 75.8, 79.3, 30.9, 89.6, 89.5, 75.0, 44.75, 44.05, 85.6, 86.6, 85.2, 97.65, 109.55, 19.45, 20.35, 69.25, 25.2, 45.0, 20.15, 105.0, 54.7, 87.25, 79.95, 88.35, 94.75, 95.05, 78.45, 70.2, 41.05, 85.6, 79.2, 49.95, 69.25, 94.25, 99.8, 35.0, 76.0, 93.85, 84.3, 84.4, 101.1, 50.45, 99.95, 91.4, 75.55, 80.8, 100.0, 20.55, 85.3, 70.4, 98.8, 74.4, 98.75, 104.7, 96.7, 55.05, 88.2, 75.65, 74.7, 76.65, 25.8, 42.6, 68.85, 90.0, 75.35, 100.85, 69.95, 45.85, 91.7, 95.6, 74.95, 95.35, 45.0, 99.5, 59.5, 80.45, 77.95, 74.7, 88.8, 90.25, 64.65, 89.05, 94.75, 86.45, 75.75, 85.35, 45.05, 109.8, 84.65, 79.5, 85.8, 79.1, 44.3, 105.95, 69.75, 94.65, 96.05, 50.15, 113.6, 78.9, 60.05, 34.7, 85.3, 104.4, 99.75, 74.4, 74.25, 59.85, 69.6, 45.4, 19.5, 69.9, 87.15, 84.75, 89.95, 113.2, 90.5, 79.0, 71.65, 20.35, 84.25, 78.1, 89.65, 98.7, 76.35, 79.15, 85.0, 85.3, 86.55, 73.85, 44.85, 45.1, 96.0, 20.05, 45.55, 35.1, 46.2, 45.15, 43.3, 57.15, 73.2, 85.35, 45.95, 83.75, 70.05, 86.0, 100.5, 72.65, 21.0, 45.1, 50.4, 78.95, 94.45, 84.8, 50.9, 99.8, 107.35, 19.55, 79.1, 25.5, 80.75, 91.85, 75.35, 75.45, 49.55, 81.1, 74.95, 93.55, 102.1, 90.9, 29.2, 89.15, 84.75, 45.7, 69.95, 44.6, 74.95, 89.85, 47.15, 80.2, 87.1, 75.9, 98.75, 86.45, 45.3, 81.0, 88.15, 20.2, 90.8, 79.35, 96.8, 83.35, 49.4, 79.2, 48.7, 95.6, 59.75, 108.15, 71.35, 20.15, 69.75, 93.2, 80.85, 33.65, 79.95, 19.3, 85.2, 75.25, 54.35, 24.95, 75.3, 70.55, 86.15, 85.0, 80.55, 75.8, 98.5, 95.25, 74.4, 85.15, 88.55, 54.75, 91.3, 79.5, 70.1, 95.25, 86.25, 100.8, 86.3, 89.95, 76.45, 70.0, 102.45, 80.1, 80.2, 98.15, 112.95, 70.9, 86.85, 99.85, 74.5, 109.15, 65.2, 99.5, 71.55, 93.9, 48.75, 85.65, 106.7, 25.15, 47.8, 98.6, 83.05, 70.4, 94.25, 45.95, 70.15, 85.55, 70.3, 106.35, 88.35, 94.2, 96.25, 70.7, 94.55, 35.9, 99.25, 24.45, 103.35, 84.8, 99.95, 90.0, 104.85, 74.2, 89.35, 77.15, 35.25, 48.55, 98.4, 93.85, 100.7, 80.45, 55.25, 54.45, 75.35, 75.7, 74.25, 89.7, 96.4, 69.5, 85.25, 19.4, 83.3, 80.1, 98.15, 93.7, 105.95, 95.75, 94.05, 54.75, 95.65, 94.6, 98.9, 76.05, 69.75, 34.5, 105.55, 30.1, 70.3, 80.2, 44.6, 19.6, 110.45, 70.7, 99.25, 84.8, 54.45, 85.3, 83.35, 33.5, 90.35, 90.75, 89.6, 49.25, 19.75, 95.15, 101.35, 70.05, 74.65, 50.4, 79.65, 79.85, 78.75, 80.45, 50.1, 76.4, 98.7, 100.8, 51.55, 79.25, 94.85, 85.7, 44.4, 89.5, 86.05, 44.55, 35.4, 95.65, 20.95, 34.7, 19.75, 92.55, 74.3, 85.35, 98.1, 74.55, 100.95, 94.9, 104.9, 88.35, 94.65, 74.4, 79.9, 69.7, 98.1, 20.5, 99.6, 81.95, 69.35, 91.1, 86.1, 94.7, 85.1, 99.15, 102.95, 45.05, 71.0, 70.55, 79.7, 59.0, 69.25, 70.95, 89.0, 99.4, 73.5, 95.5, 92.35, 74.55, 83.8, 54.45, 99.8, 105.85, 75.45, 93.85, 100.75, 31.0, 80.0, 70.25, 100.15, 94.5, 33.9, 89.95, 84.45, 79.5, 89.15, 74.95, 74.4, 55.3, 55.15, 84.95, 43.25, 79.55, 71.05, 84.5, 30.3, 30.4, 45.4, 84.15, 19.75, 85.4, 75.2, 106.4, 84.4, 56.25, 85.55, 68.65, 77.85, 105.35, 87.05, 53.5, 25.1, 79.65, 54.2, 19.45, 84.45, 85.95, 59.4, 30.6, 99.55, 70.0, 45.3, 29.85, 95.1, 19.8, 76.65, 99.15, 44.95, 49.55, 95.9, 81.5, 84.1, 36.45, 25.05, 49.85, 55.55, 104.3, 93.85, 50.45, 74.65, 94.2, 20.1, 83.8, 55.15, 86.65, 106.75, 78.45, 87.45, 70.75, 101.35, 81.7, 68.25, 79.15, 95.45, 69.1, 69.6, 77.95, 78.45, 29.5, 70.75, 84.45, 85.65, 97.8, 46.3, 106.3, 89.4, 83.15, 74.15, 99.5, 44.15, 53.9, 85.45, 50.85, 59.2, 83.2, 54.9, 103.9, 19.25, 75.45, 54.85, 95.1, 75.5, 73.75, 96.05, 88.95, 50.7, 53.4, 101.9, 50.6, 89.5, 69.8, 93.8, 101.05, 94.7, 61.45, 90.55, 88.8, 85.2, 91.4, 106.15, 45.3, 73.25, 51.05, 85.35, 75.35, 75.2, 20.9, 43.3, 84.8, 95.05, 50.35, 74.6, 19.7, 59.45, 45.15, 93.8, 96.2, 79.6, 85.25, 80.5, 89.8, 50.75, 89.65, 72.9, 40.0, 99.45, 86.25, 45.65, 70.1, 70.2, 55.35, 84.2, 45.85, 75.25, 100.15, 105.75, 48.35, 24.4, 20.95, 49.55, 20.25, 50.15, 95.9, 25.25, 45.15, 84.4, 75.1, 101.75, 45.8, 20.1, 40.65, 101.0, 69.1, 75.0, 71.15, 54.15, 49.15, 19.4, 79.15, 80.4, 102.0, 20.65, 70.8, 89.05, 96.6, 104.5, 50.6, 49.35, 94.25, 68.95, 93.85, 76.05, 24.45, 89.35, 80.35, 55.8, 79.05, 95.0, 25.2, 98.4, 101.4, 89.8, 91.25, 49.1, 65.25, 85.45, 71.65, 104.65, 74.25, 74.2, 101.0, 100.2, 96.5, 70.85, 73.9, 100.2, 74.05, 101.55, 45.75, 74.95, 80.15, 35.2, 78.8, 106.4, 49.4, 69.1, 90.2, 93.55, 80.85, 20.55, 78.55, 78.65, 42.9, 34.25, 58.5, 96.2, 74.4, 105.3, 73.85, 84.55, 85.8, 24.45, 105.7, 24.25, 76.5, 93.5, 74.9, 69.6, 24.05, 50.55, 100.55, 20.5, 74.8, 24.45, 71.0, 40.3, 50.6, 84.85, 65.7, 70.5, 94.85, 19.75, 65.45, 98.7, 69.6, 100.2, 78.05, 73.6, 74.75, 20.2, 93.55, 25.05, 95.55, 39.3, 20.25, 23.9, 85.45, 84.8, 75.2, 74.9, 101.25, 18.95, 28.6, 24.35, 98.65, 79.9, 103.3, 96.2, 102.95, 90.6, 50.8, 90.05, 75.85, 68.5, 73.5, 69.95, 70.05, 94.0, 61.15, 84.45, 19.6, 66.4, 100.05, 90.2, 79.85, 49.6, 91.85, 40.1, 73.9, 89.8, 72.25, 96.55, 40.1, 101.25, 79.55, 89.1, 94.4, 78.25, 44.15, 75.75, 19.1, 80.3, 74.9, 80.85, 24.75, 90.85, 79.7, 86.5, 103.95, 25.1, 48.95, 83.55, 89.15, 70.45, 24.75, 103.3, 78.5, 19.85, 79.9, 99.7, 58.6, 98.5, 50.45, 94.65, 100.25, 88.45, 69.85, 81.7, 79.9, 25.4, 83.75, 20.9, 69.4, 74.9, 74.15, 70.1, 78.3, 96.8, 94.4, 84.3, 99.55, 81.25, 19.95, 99.25, 79.35, 79.75, 100.05, 69.35, 85.8, 50.55, 80.55, 84.5, 84.3, 67.75, 85.25, 80.05, 20.0, 48.8, 85.05, 102.8, 99.95, 79.5, 79.65, 94.7, 92.5, 19.45, 75.55, 70.0, 104.4, 86.2, 51.2, 19.5, 74.9, 74.9, 100.25, 102.8, 99.85, 94.2, 83.85, 88.3, 94.7, 100.65, 78.85, 44.45, 84.9, 20.25, 74.35, 62.05, 104.1, 39.1, 76.5, 49.2, 23.15, 80.85, 60.1, 78.95, 45.15, 79.4, 99.3, 80.65, 71.1, 94.0, 89.85, 46.0, 66.25, 90.0, 53.95, 105.5, 81.0, 69.8, 73.75, 54.55, 76.25, 93.9, 70.4, 91.15, 70.95, 99.5, 83.9, 117.45, 104.4, 29.4, 44.65, 25.25, 84.05, 85.7, 74.7, 90.8, 106.15, 90.85, 35.75, 46.0, 89.4, 19.8, 50.9, 81.0, 98.35, 51.0, 91.65, 90.85, 69.4, 94.45, 20.15, 95.7, 74.95, 47.95, 63.6, 36.85, 44.1, 50.75, 39.3, 96.05, 75.1, 44.7, 55.0, 74.35, 55.7, 19.85, 70.3, 85.55, 94.5, 85.35, 79.65, 79.6, 90.6, 20.2, 99.15, 55.9, 82.35, 40.4, 75.35, 94.7, 30.5, 77.0, 20.1, 75.3, 85.5, 20.05, 70.4, 75.3, 94.0, 30.45, 96.1, 104.25, 80.2, 104.2, 69.65, 80.8, 80.3, 84.1, 69.35, 79.6, 36.45, 89.4, 80.35, 40.65, 84.9, 73.55, 20.15, 98.75, 101.15, 88.7, 79.75, 94.55, 69.05, 101.1, 55.25, 90.1, 53.75, 89.3, 95.2, 45.7, 74.5, 79.65, 101.3, 80.05, 89.2, 83.65, 19.5, 51.25, 45.6, 49.65, 20.0, 34.0, 92.5, 88.35, 74.45, 64.75, 89.8, 29.65, 84.5, 90.7, 70.3, 74.75, 50.8, 80.25, 78.9, 84.75, 85.45, 19.9, 99.45, 70.6, 81.0, 84.85, 89.15, 24.8, 80.85, 89.45, 72.15, 76.4, 61.6, 79.9, 96.15, 19.65, 84.65, 69.55, 31.05, 51.0, 44.35, 79.7, 55.0, 84.85, 73.65, 77.75, 84.35, 84.95, 73.85, 46.0, 79.4, 71.8, 46.0, 51.75, 94.4, 70.15, 34.7, 81.1, 20.55, 106.75, 89.45, 97.9, 55.7, 79.8, 39.05, 83.9, 69.85, 53.55, 84.95, 80.5, 19.3, 49.65, 88.45, 90.5, 94.85, 69.95, 48.6, 55.8, 80.15, 75.5, 20.2, 74.75, 104.05, 96.65, 20.05, 103.45, 19.9, 46.35, 19.95, 79.6, 75.9, 76.2, 19.25, 84.3, 79.0, 70.25, 84.6, 24.1, 60.0, 86.55, 20.85, 50.75, 85.15, 54.2, 104.4, 105.1, 75.7, 90.8, 97.95, 108.15, 80.5, 104.3, 71.35, 89.4, 20.6, 99.95, 81.0, 70.15, 70.15, 69.65, 89.3, 87.55, 96.3, 85.2, 35.1, 81.3, 19.6, 85.45, 71.0, 85.05, 44.4, 70.3, 79.35, 90.8, 70.45, 75.8, 71.3, 69.1, 88.25, 70.0, 97.35, 25.9, 55.65, 69.65, 100.6, 86.0, 29.6, 95.6, 100.85, 40.2, 84.5, 78.95, 20.2, 85.2, 98.0, 94.45, 105.0, 93.85, 84.0, 48.75, 84.85, 56.65, 89.9, 78.55, 99.45, 25.2, 55.0, 89.75, 85.15, 94.6, 94.25, 105.2, 82.85, 103.85, 83.6, 91.5, 80.85, 49.05, 105.3, 88.95, 36.5, 70.75, 40.15, 94.45, 97.35, 45.3, 94.95, 44.55, 23.45, 29.7, 101.1, 50.65, 55.4, 90.6, 86.85, 99.05, 55.1, 102.25, 95.9, 95.05, 53.85, 104.2, 50.25, 99.5, 71.0, 93.2, 19.35, 19.85, 104.2, 79.25, 44.9, 70.1, 29.65, 77.85, 54.3, 95.15, 80.5, 72.2, 51.5, 89.55, 95.25, 85.0, 85.75, 98.25, 25.7, 69.0, 46.05, 76.4, 100.5, 40.05, 69.95, 93.3, 49.15, 35.05, 73.0, 83.85, 70.1, 70.65, 20.35, 99.0, 83.95, 19.7, 75.55, 77.65, 95.0, 95.85, 79.15, 19.65, 79.0, 91.85, 49.9, 100.35, 74.95, 49.25, 103.7, 20.3, 101.95, 94.0, 89.3, 74.3, 44.65, 84.05, 80.7, 101.7, 20.4, 55.1, 91.05, 77.5, 69.25, 50.5, 74.4, 100.05, 100.55, 95.65, 94.4, 55.0, 101.45, 67.95, 69.5, 18.85, 69.2, 69.65, 101.85, 82.3, 79.25, 84.6, 93.4, 94.2, 25.05, 25.1, 48.95, 45.3, 85.85, 95.2, 55.3, 74.85, 79.85, 76.0, 104.75, 74.65, 56.25, 106.1, 79.75, 68.65, 20.25, 100.2, 74.9, 70.85, 69.8, 54.55, 70.75, 94.1, 29.7, 105.0, 25.3, 20.1, 69.9, 101.4, 80.8, 62.05, 76.45, 91.3, 95.75, 62.65, 74.5, 102.1, 50.15, 86.5, 81.45, 69.15, 79.55, 91.05, 79.2, 45.25, 74.3, 74.1, 100.6, 75.0, 70.75, 50.25, 79.2, 96.0, 100.1, 56.5, 85.0, 49.4, 55.0, 69.2, 92.5, 69.65, 48.55, 20.2, 39.65, 56.7, 74.95, 29.7, 50.35, 70.3, 98.8, 99.85, 80.3, 80.45, 86.8, 84.2, 99.0, 100.75, 91.75, 79.55, 111.1, 89.1, 101.9, 91.65, 88.85, 25.3, 95.45, 91.1, 69.7, 89.5, 35.15, 73.75, 101.35, 55.9, 105.9, 43.95, 45.1, 70.25, 55.35, 103.0, 69.35, 73.85, 75.15, 69.6, 80.15, 30.5, 107.4, 82.0, 75.4, 101.25, 89.5, 74.4, 20.5, 74.35, 99.75, 39.0, 94.1, 95.65, 88.05, 35.45, 49.9, 104.5, 75.05, 81.0, 74.45, 60.4, 70.65, 44.2, 75.75, 102.95, 74.4], \"yaxis\": \"y\"}, {\"alignmentgroup\": \"True\", \"bingroup\": \"x\", \"histfunc\": \"avg\", \"hoverlabel\": {\"namelength\": 0}, \"hovertemplate\": \"Churn=%{x}<br>Contract=One year<br>avg of MonthlyCharges=%{y}\", \"legendgroup\": \"Yes\", \"marker\": {\"color\": \"#EF553B\"}, \"name\": \"Yes\", \"offsetgroup\": \"Yes\", \"orientation\": \"v\", \"showlegend\": false, \"type\": \"histogram\", \"x\": [\"Yes\", \"Yes\", \"Yes\", \"Yes\", \"Yes\", \"Yes\", \"Yes\", \"Yes\", \"Yes\", \"Yes\", \"Yes\", \"Yes\", \"Yes\", \"Yes\", \"Yes\", \"Yes\", \"Yes\", \"Yes\", \"Yes\", \"Yes\", \"Yes\", \"Yes\", \"Yes\", \"Yes\", \"Yes\", \"Yes\", \"Yes\", \"Yes\", \"Yes\", \"Yes\", \"Yes\", \"Yes\", \"Yes\", \"Yes\", \"Yes\", \"Yes\", \"Yes\", \"Yes\", \"Yes\", \"Yes\", \"Yes\", \"Yes\", \"Yes\", \"Yes\", \"Yes\", \"Yes\", \"Yes\", \"Yes\", \"Yes\", \"Yes\", \"Yes\", \"Yes\", \"Yes\", \"Yes\", \"Yes\", \"Yes\", \"Yes\", \"Yes\", \"Yes\", \"Yes\", \"Yes\", \"Yes\", \"Yes\", \"Yes\", \"Yes\", \"Yes\", \"Yes\", \"Yes\", \"Yes\", \"Yes\", \"Yes\", \"Yes\", \"Yes\", \"Yes\", \"Yes\", \"Yes\", \"Yes\", \"Yes\", \"Yes\", \"Yes\", \"Yes\", \"Yes\", \"Yes\", \"Yes\", \"Yes\", \"Yes\", \"Yes\", \"Yes\", \"Yes\", \"Yes\", \"Yes\", \"Yes\", \"Yes\", \"Yes\", \"Yes\", \"Yes\", \"Yes\", \"Yes\", \"Yes\", \"Yes\", \"Yes\", \"Yes\", \"Yes\", \"Yes\", \"Yes\", \"Yes\", \"Yes\", \"Yes\", \"Yes\", \"Yes\", \"Yes\", \"Yes\", \"Yes\", \"Yes\", \"Yes\", \"Yes\", \"Yes\", \"Yes\", \"Yes\", \"Yes\", \"Yes\", \"Yes\", \"Yes\", \"Yes\", \"Yes\", \"Yes\", \"Yes\", \"Yes\", \"Yes\", \"Yes\", \"Yes\", \"Yes\", \"Yes\", \"Yes\", \"Yes\", \"Yes\", \"Yes\", \"Yes\", \"Yes\", \"Yes\", \"Yes\", \"Yes\", \"Yes\", \"Yes\", \"Yes\", \"Yes\", \"Yes\", \"Yes\", \"Yes\", \"Yes\", \"Yes\", \"Yes\", \"Yes\", \"Yes\", \"Yes\", \"Yes\", \"Yes\", \"Yes\", \"Yes\", \"Yes\", \"Yes\", \"Yes\", \"Yes\", \"Yes\", \"Yes\", \"Yes\"], \"xaxis\": \"x2\", \"y\": [94.85, 80.3, 82.45, 75.8, 43.75, 100.3, 104.55, 19.85, 95.8, 110.0, 96.75, 103.25, 90.95, 108.55, 100.0, 19.8, 100.15, 85.55, 103.75, 53.65, 90.4, 44.85, 94.4, 94.25, 95.25, 110.15, 115.55, 89.55, 99.5, 70.0, 73.0, 100.05, 106.0, 19.75, 107.5, 106.1, 98.6, 87.4, 98.25, 106.1, 102.45, 20.15, 78.6, 108.85, 100.45, 104.1, 90.6, 99.2, 42.35, 94.8, 111.3, 64.4, 110.35, 103.25, 104.75, 103.7, 33.55, 106.1, 62.7, 25.3, 82.0, 94.35, 105.0, 90.1, 60.05, 74.3, 24.1, 104.05, 60.35, 48.35, 55.85, 69.5, 106.55, 100.95, 103.45, 70.15, 83.0, 109.5, 105.2, 65.4, 70.15, 100.0, 19.3, 89.05, 70.1, 105.65, 85.95, 111.95, 55.95, 109.25, 82.05, 101.5, 67.5, 84.35, 99.9, 104.15, 75.3, 109.55, 102.0, 105.95, 84.05, 60.3, 117.8, 100.0, 104.05, 80.0, 53.95, 106.25, 20.8, 70.45, 85.35, 104.4, 106.45, 104.7, 85.15, 93.8, 20.4, 99.2, 49.75, 118.35, 60.45, 34.7, 107.55, 104.7, 95.5, 103.95, 105.65, 73.9, 51.8, 88.4, 105.5, 109.5, 96.55, 95.55, 45.25, 106.95, 59.9, 41.6, 73.9, 74.05, 72.45, 108.45, 110.85, 111.25, 110.85, 77.5, 105.4, 106.0, 89.75, 102.6, 79.45, 104.65, 100.6, 102.35, 115.65, 110.9, 55.15, 59.3, 62.3, 24.9, 105.95, 54.15, 103.75, 111.95, 66.5, 59.8], \"yaxis\": \"y2\"}, {\"alignmentgroup\": \"True\", \"bingroup\": \"x\", \"histfunc\": \"avg\", \"hoverlabel\": {\"namelength\": 0}, \"hovertemplate\": \"Churn=%{x}<br>Contract=Two year<br>avg of MonthlyCharges=%{y}\", \"legendgroup\": \"Yes\", \"marker\": {\"color\": \"#EF553B\"}, \"name\": \"Yes\", \"offsetgroup\": \"Yes\", \"orientation\": \"v\", \"showlegend\": false, \"type\": \"histogram\", \"x\": [\"Yes\", \"Yes\", \"Yes\", \"Yes\", \"Yes\", \"Yes\", \"Yes\", \"Yes\", \"Yes\", \"Yes\", \"Yes\", \"Yes\", \"Yes\", \"Yes\", \"Yes\", \"Yes\", \"Yes\", \"Yes\", \"Yes\", \"Yes\", \"Yes\", \"Yes\", \"Yes\", \"Yes\", \"Yes\", \"Yes\", \"Yes\", \"Yes\", \"Yes\", \"Yes\", \"Yes\", \"Yes\", \"Yes\", \"Yes\", \"Yes\", \"Yes\", \"Yes\", \"Yes\", \"Yes\", \"Yes\", \"Yes\", \"Yes\", \"Yes\", \"Yes\", \"Yes\", \"Yes\", \"Yes\", \"Yes\"], \"xaxis\": \"x3\", \"y\": [110.0, 19.35, 104.6, 104.0, 108.05, 108.65, 95.25, 108.4, 112.95, 109.65, 108.6, 103.4, 104.15, 108.75, 79.4, 109.75, 94.1, 109.45, 24.75, 49.35, 25.15, 57.55, 92.45, 80.45, 79.7, 74.8, 80.55, 19.75, 106.05, 96.25, 107.95, 65.3, 106.6, 93.9, 113.15, 54.35, 24.5, 114.2, 116.2, 93.7, 106.0, 106.5, 54.2, 95.5, 70.2, 111.6, 47.85, 98.3], \"yaxis\": \"y3\"}],\n",
       "                        {\"annotations\": [{\"font\": {}, \"showarrow\": false, \"text\": \"Contract=Month-to-month\", \"x\": 0.15999999999999998, \"xanchor\": \"center\", \"xref\": \"paper\", \"y\": 1.0, \"yanchor\": \"bottom\", \"yref\": \"paper\"}, {\"font\": {}, \"showarrow\": false, \"text\": \"Contract=One year\", \"x\": 0.49999999999999994, \"xanchor\": \"center\", \"xref\": \"paper\", \"y\": 1.0, \"yanchor\": \"bottom\", \"yref\": \"paper\"}, {\"font\": {}, \"showarrow\": false, \"text\": \"Contract=Two year\", \"x\": 0.8399999999999999, \"xanchor\": \"center\", \"xref\": \"paper\", \"y\": 1.0, \"yanchor\": \"bottom\", \"yref\": \"paper\"}], \"barmode\": \"relative\", \"legend\": {\"title\": {\"text\": \"Churn\"}, \"tracegroupgap\": 0}, \"margin\": {\"t\": 60}, \"template\": {\"data\": {\"bar\": [{\"error_x\": {\"color\": \"#2a3f5f\"}, \"error_y\": {\"color\": \"#2a3f5f\"}, \"marker\": {\"line\": {\"color\": \"#E5ECF6\", \"width\": 0.5}}, \"type\": \"bar\"}], \"barpolar\": [{\"marker\": {\"line\": {\"color\": \"#E5ECF6\", \"width\": 0.5}}, \"type\": \"barpolar\"}], \"carpet\": [{\"aaxis\": {\"endlinecolor\": \"#2a3f5f\", \"gridcolor\": \"white\", \"linecolor\": \"white\", \"minorgridcolor\": \"white\", \"startlinecolor\": \"#2a3f5f\"}, \"baxis\": {\"endlinecolor\": \"#2a3f5f\", \"gridcolor\": \"white\", \"linecolor\": \"white\", \"minorgridcolor\": \"white\", \"startlinecolor\": \"#2a3f5f\"}, \"type\": \"carpet\"}], \"choropleth\": [{\"colorbar\": {\"outlinewidth\": 0, \"ticks\": \"\"}, \"type\": \"choropleth\"}], \"contour\": [{\"colorbar\": {\"outlinewidth\": 0, \"ticks\": \"\"}, \"colorscale\": [[0.0, \"#0d0887\"], [0.1111111111111111, \"#46039f\"], [0.2222222222222222, \"#7201a8\"], [0.3333333333333333, \"#9c179e\"], [0.4444444444444444, \"#bd3786\"], [0.5555555555555556, \"#d8576b\"], [0.6666666666666666, \"#ed7953\"], [0.7777777777777778, \"#fb9f3a\"], [0.8888888888888888, \"#fdca26\"], [1.0, \"#f0f921\"]], \"type\": \"contour\"}], \"contourcarpet\": [{\"colorbar\": {\"outlinewidth\": 0, \"ticks\": \"\"}, \"type\": \"contourcarpet\"}], \"heatmap\": [{\"colorbar\": {\"outlinewidth\": 0, \"ticks\": \"\"}, \"colorscale\": [[0.0, \"#0d0887\"], [0.1111111111111111, \"#46039f\"], [0.2222222222222222, \"#7201a8\"], [0.3333333333333333, \"#9c179e\"], [0.4444444444444444, \"#bd3786\"], [0.5555555555555556, \"#d8576b\"], [0.6666666666666666, \"#ed7953\"], [0.7777777777777778, \"#fb9f3a\"], [0.8888888888888888, \"#fdca26\"], [1.0, \"#f0f921\"]], \"type\": \"heatmap\"}], \"heatmapgl\": [{\"colorbar\": {\"outlinewidth\": 0, \"ticks\": \"\"}, \"colorscale\": [[0.0, \"#0d0887\"], [0.1111111111111111, \"#46039f\"], [0.2222222222222222, \"#7201a8\"], [0.3333333333333333, \"#9c179e\"], [0.4444444444444444, \"#bd3786\"], [0.5555555555555556, \"#d8576b\"], [0.6666666666666666, \"#ed7953\"], [0.7777777777777778, \"#fb9f3a\"], [0.8888888888888888, \"#fdca26\"], [1.0, \"#f0f921\"]], \"type\": \"heatmapgl\"}], \"histogram\": [{\"marker\": {\"colorbar\": {\"outlinewidth\": 0, \"ticks\": \"\"}}, \"type\": \"histogram\"}], \"histogram2d\": [{\"colorbar\": {\"outlinewidth\": 0, \"ticks\": \"\"}, \"colorscale\": [[0.0, \"#0d0887\"], [0.1111111111111111, \"#46039f\"], [0.2222222222222222, \"#7201a8\"], [0.3333333333333333, \"#9c179e\"], [0.4444444444444444, \"#bd3786\"], [0.5555555555555556, \"#d8576b\"], [0.6666666666666666, \"#ed7953\"], [0.7777777777777778, \"#fb9f3a\"], [0.8888888888888888, \"#fdca26\"], [1.0, \"#f0f921\"]], \"type\": \"histogram2d\"}], \"histogram2dcontour\": [{\"colorbar\": {\"outlinewidth\": 0, \"ticks\": \"\"}, \"colorscale\": [[0.0, \"#0d0887\"], [0.1111111111111111, \"#46039f\"], [0.2222222222222222, \"#7201a8\"], [0.3333333333333333, \"#9c179e\"], [0.4444444444444444, \"#bd3786\"], [0.5555555555555556, \"#d8576b\"], [0.6666666666666666, \"#ed7953\"], [0.7777777777777778, \"#fb9f3a\"], [0.8888888888888888, \"#fdca26\"], [1.0, \"#f0f921\"]], \"type\": \"histogram2dcontour\"}], \"mesh3d\": [{\"colorbar\": {\"outlinewidth\": 0, \"ticks\": \"\"}, \"type\": \"mesh3d\"}], \"parcoords\": [{\"line\": {\"colorbar\": {\"outlinewidth\": 0, \"ticks\": \"\"}}, \"type\": \"parcoords\"}], \"pie\": [{\"automargin\": true, \"type\": \"pie\"}], \"scatter\": [{\"marker\": {\"colorbar\": {\"outlinewidth\": 0, \"ticks\": \"\"}}, \"type\": \"scatter\"}], \"scatter3d\": [{\"line\": {\"colorbar\": {\"outlinewidth\": 0, \"ticks\": \"\"}}, \"marker\": {\"colorbar\": {\"outlinewidth\": 0, \"ticks\": \"\"}}, \"type\": \"scatter3d\"}], \"scattercarpet\": [{\"marker\": {\"colorbar\": {\"outlinewidth\": 0, \"ticks\": \"\"}}, \"type\": \"scattercarpet\"}], \"scattergeo\": [{\"marker\": {\"colorbar\": {\"outlinewidth\": 0, \"ticks\": \"\"}}, \"type\": \"scattergeo\"}], \"scattergl\": [{\"marker\": {\"colorbar\": {\"outlinewidth\": 0, \"ticks\": \"\"}}, \"type\": \"scattergl\"}], \"scattermapbox\": [{\"marker\": {\"colorbar\": {\"outlinewidth\": 0, \"ticks\": \"\"}}, \"type\": \"scattermapbox\"}], \"scatterpolar\": [{\"marker\": {\"colorbar\": {\"outlinewidth\": 0, \"ticks\": \"\"}}, \"type\": \"scatterpolar\"}], \"scatterpolargl\": [{\"marker\": {\"colorbar\": {\"outlinewidth\": 0, \"ticks\": \"\"}}, \"type\": \"scatterpolargl\"}], \"scatterternary\": [{\"marker\": {\"colorbar\": {\"outlinewidth\": 0, \"ticks\": \"\"}}, \"type\": \"scatterternary\"}], \"surface\": [{\"colorbar\": {\"outlinewidth\": 0, \"ticks\": \"\"}, \"colorscale\": [[0.0, \"#0d0887\"], [0.1111111111111111, \"#46039f\"], [0.2222222222222222, \"#7201a8\"], [0.3333333333333333, \"#9c179e\"], [0.4444444444444444, \"#bd3786\"], [0.5555555555555556, \"#d8576b\"], [0.6666666666666666, \"#ed7953\"], [0.7777777777777778, \"#fb9f3a\"], [0.8888888888888888, \"#fdca26\"], [1.0, \"#f0f921\"]], \"type\": \"surface\"}], \"table\": [{\"cells\": {\"fill\": {\"color\": \"#EBF0F8\"}, \"line\": {\"color\": \"white\"}}, \"header\": {\"fill\": {\"color\": \"#C8D4E3\"}, \"line\": {\"color\": \"white\"}}, \"type\": \"table\"}]}, \"layout\": {\"annotationdefaults\": {\"arrowcolor\": \"#2a3f5f\", \"arrowhead\": 0, \"arrowwidth\": 1}, \"coloraxis\": {\"colorbar\": {\"outlinewidth\": 0, \"ticks\": \"\"}}, \"colorscale\": {\"diverging\": [[0, \"#8e0152\"], [0.1, \"#c51b7d\"], [0.2, \"#de77ae\"], [0.3, \"#f1b6da\"], [0.4, \"#fde0ef\"], [0.5, \"#f7f7f7\"], [0.6, \"#e6f5d0\"], [0.7, \"#b8e186\"], [0.8, \"#7fbc41\"], [0.9, \"#4d9221\"], [1, \"#276419\"]], \"sequential\": [[0.0, \"#0d0887\"], [0.1111111111111111, \"#46039f\"], [0.2222222222222222, \"#7201a8\"], [0.3333333333333333, \"#9c179e\"], [0.4444444444444444, \"#bd3786\"], [0.5555555555555556, \"#d8576b\"], [0.6666666666666666, \"#ed7953\"], [0.7777777777777778, \"#fb9f3a\"], [0.8888888888888888, \"#fdca26\"], [1.0, \"#f0f921\"]], \"sequentialminus\": [[0.0, \"#0d0887\"], [0.1111111111111111, \"#46039f\"], [0.2222222222222222, \"#7201a8\"], [0.3333333333333333, \"#9c179e\"], [0.4444444444444444, \"#bd3786\"], [0.5555555555555556, \"#d8576b\"], [0.6666666666666666, \"#ed7953\"], [0.7777777777777778, \"#fb9f3a\"], [0.8888888888888888, \"#fdca26\"], [1.0, \"#f0f921\"]]}, \"colorway\": [\"#636efa\", \"#EF553B\", \"#00cc96\", \"#ab63fa\", \"#FFA15A\", \"#19d3f3\", \"#FF6692\", \"#B6E880\", \"#FF97FF\", \"#FECB52\"], \"font\": {\"color\": \"#2a3f5f\"}, \"geo\": {\"bgcolor\": \"white\", \"lakecolor\": \"white\", \"landcolor\": \"#E5ECF6\", \"showlakes\": true, \"showland\": true, \"subunitcolor\": \"white\"}, \"hoverlabel\": {\"align\": \"left\"}, \"hovermode\": \"closest\", \"mapbox\": {\"style\": \"light\"}, \"paper_bgcolor\": \"white\", \"plot_bgcolor\": \"#E5ECF6\", \"polar\": {\"angularaxis\": {\"gridcolor\": \"white\", \"linecolor\": \"white\", \"ticks\": \"\"}, \"bgcolor\": \"#E5ECF6\", \"radialaxis\": {\"gridcolor\": \"white\", \"linecolor\": \"white\", \"ticks\": \"\"}}, \"scene\": {\"xaxis\": {\"backgroundcolor\": \"#E5ECF6\", \"gridcolor\": \"white\", \"gridwidth\": 2, \"linecolor\": \"white\", \"showbackground\": true, \"ticks\": \"\", \"zerolinecolor\": \"white\"}, \"yaxis\": {\"backgroundcolor\": \"#E5ECF6\", \"gridcolor\": \"white\", \"gridwidth\": 2, \"linecolor\": \"white\", \"showbackground\": true, \"ticks\": \"\", \"zerolinecolor\": \"white\"}, \"zaxis\": {\"backgroundcolor\": \"#E5ECF6\", \"gridcolor\": \"white\", \"gridwidth\": 2, \"linecolor\": \"white\", \"showbackground\": true, \"ticks\": \"\", \"zerolinecolor\": \"white\"}}, \"shapedefaults\": {\"line\": {\"color\": \"#2a3f5f\"}}, \"ternary\": {\"aaxis\": {\"gridcolor\": \"white\", \"linecolor\": \"white\", \"ticks\": \"\"}, \"baxis\": {\"gridcolor\": \"white\", \"linecolor\": \"white\", \"ticks\": \"\"}, \"bgcolor\": \"#E5ECF6\", \"caxis\": {\"gridcolor\": \"white\", \"linecolor\": \"white\", \"ticks\": \"\"}}, \"title\": {\"x\": 0.05}, \"xaxis\": {\"automargin\": true, \"gridcolor\": \"white\", \"linecolor\": \"white\", \"ticks\": \"\", \"title\": {\"standoff\": 15}, \"zerolinecolor\": \"white\", \"zerolinewidth\": 2}, \"yaxis\": {\"automargin\": true, \"gridcolor\": \"white\", \"linecolor\": \"white\", \"ticks\": \"\", \"title\": {\"standoff\": 15}, \"zerolinecolor\": \"white\", \"zerolinewidth\": 2}}}, \"title\": {\"text\": \"Average Monthly Cost by Contract Type\"}, \"xaxis\": {\"anchor\": \"y\", \"categoryarray\": [\"No\", \"Yes\"], \"categoryorder\": \"array\", \"domain\": [0.0, 0.31999999999999995], \"title\": {\"text\": \"Churn\"}}, \"xaxis2\": {\"anchor\": \"y2\", \"categoryarray\": [\"No\", \"Yes\"], \"categoryorder\": \"array\", \"domain\": [0.33999999999999997, 0.6599999999999999], \"matches\": \"x\", \"title\": {\"text\": \"Churn\"}}, \"xaxis3\": {\"anchor\": \"y3\", \"categoryarray\": [\"No\", \"Yes\"], \"categoryorder\": \"array\", \"domain\": [0.6799999999999999, 0.9999999999999999], \"matches\": \"x\", \"title\": {\"text\": \"Churn\"}}, \"yaxis\": {\"anchor\": \"x\", \"domain\": [0.0, 1.0], \"title\": {\"text\": \"avg of MonthlyCharges\"}}, \"yaxis2\": {\"anchor\": \"x2\", \"domain\": [0.0, 1.0], \"matches\": \"y\", \"showticklabels\": false}, \"yaxis3\": {\"anchor\": \"x3\", \"domain\": [0.0, 1.0], \"matches\": \"y\", \"showticklabels\": false}},\n",
       "                        {\"responsive\": true}\n",
       "                    ).then(function(){\n",
       "                            \n",
       "var gd = document.getElementById('a13cf59f-9d65-475e-8685-75d5f81a7428');\n",
       "var x = new MutationObserver(function (mutations, observer) {{\n",
       "        var display = window.getComputedStyle(gd).display;\n",
       "        if (!display || display === 'none') {{\n",
       "            console.log([gd, 'removed!']);\n",
       "            Plotly.purge(gd);\n",
       "            observer.disconnect();\n",
       "        }}\n",
       "}});\n",
       "\n",
       "// Listen for the removal of the full notebook cells\n",
       "var notebookContainer = gd.closest('#notebook-container');\n",
       "if (notebookContainer) {{\n",
       "    x.observe(notebookContainer, {childList: true});\n",
       "}}\n",
       "\n",
       "// Listen for the clearing of the current output cell\n",
       "var outputEl = gd.closest('.output');\n",
       "if (outputEl) {{\n",
       "    x.observe(outputEl, {childList: true});\n",
       "}}\n",
       "\n",
       "                        })\n",
       "                };\n",
       "                });\n",
       "            </script>\n",
       "        </div>"
      ]
     },
     "metadata": {},
     "output_type": "display_data"
    }
   ],
   "source": [
    "import plotly.express as px \n",
    "fig = px.histogram(churn, x=\"Churn\", y=\"MonthlyCharges\", color='Churn', facet_col=\"Contract\", histfunc='avg')\n",
    "fig.update_layout(title_text='Average Monthly Cost by Contract Type')\n",
    "fig.show()"
   ]
  },
  {
   "cell_type": "markdown",
   "metadata": {},
   "source": [
    "nomatter which type of contract customer chooses, increasing average monthly charges, much easier to churn, "
   ]
  },
  {
   "cell_type": "markdown",
   "metadata": {},
   "source": [
    "# Churn & Tenure & Contract"
   ]
  },
  {
   "cell_type": "code",
   "execution_count": 22,
   "metadata": {},
   "outputs": [
    {
     "data": {
      "text/plain": [
       "count    7032.000000\n",
       "mean       32.421786\n",
       "std        24.545260\n",
       "min         1.000000\n",
       "25%         9.000000\n",
       "50%        29.000000\n",
       "75%        55.000000\n",
       "max        72.000000\n",
       "Name: tenure, dtype: float64"
      ]
     },
     "execution_count": 22,
     "metadata": {},
     "output_type": "execute_result"
    }
   ],
   "source": [
    "#Tenure: Number of months the customer has stayed with the company\n",
    "churn[\"tenure\"].describe()"
   ]
  },
  {
   "cell_type": "code",
   "execution_count": 23,
   "metadata": {},
   "outputs": [
    {
     "data": {
      "text/plain": [
       "<matplotlib.legend.Legend at 0x7f9028cf7f98>"
      ]
     },
     "execution_count": 23,
     "metadata": {},
     "output_type": "execute_result"
    },
    {
     "data": {
      "image/png": "[encoded data removed]",
      "text/plain": [
       "<Figure size 576x288 with 1 Axes>"
      ]
     },
     "metadata": {
      "needs_background": "light"
     },
     "output_type": "display_data"
    }
   ],
   "source": [
    "fig, a1=plt.subplots(nrows=1,ncols=1,sharey=True,figsize=(8,4))\n",
    "for type in contract_types:\n",
    "    for ai in [a1]:\n",
    "        for title in ['M-to-M','One-year','Two-year']:\n",
    "            a=sns.distplot(churn[churn['Contract']==type]['tenure'],ax=ai)\n",
    "            a.set_xlabel('Tenure_month')\n",
    "            a.set_ylabel('proportion of customer') \n",
    "            a.set_title('Churn & Tenure')\n",
    "fig.legend(labels=['M-to-M','one-year','two-year'])"
   ]
  },
  {
   "cell_type": "markdown",
   "metadata": {},
   "source": [
    "for people who only has a monthly contract tend to has a shorter tenure and longer in a two year contract,\n",
    "\n",
    "longer time, more loyal, \n",
    "\n",
    "so we might need to adjust some strategies for the short contract with conditions and terms."
   ]
  },
  {
   "cell_type": "markdown",
   "metadata": {},
   "source": [
    "# Churn & Service "
   ]
  },
  {
   "cell_type": "code",
   "execution_count": 24,
   "metadata": {},
   "outputs": [],
   "source": [
    "# build a list of service including all...\n",
    "\n",
    "service=['PhoneService','MultipleLines','InternetService','OnlineSecurity', \n",
    "         'OnlineBackup','DeviceProtection', 'TechSupport','StreamingTV','StreamingMovies']"
   ]
  },
  {
   "cell_type": "code",
   "execution_count": 25,
   "metadata": {},
   "outputs": [
    {
     "data": {
      "image/png": "[encoded data removed]",
      "text/plain": [
       "<Figure size 864x720 with 9 Axes>"
      ]
     },
     "metadata": {
      "needs_background": "light"
     },
     "output_type": "display_data"
    }
   ],
   "source": [
    "fig,axes=plt.subplots(nrows=3,ncols=3,figsize=(12,10)) \n",
    "\n",
    "for i,item in enumerate(service):\n",
    "    if i <3:\n",
    "        ax=churn[item].value_counts().plot(kind='bar',ax=axes[i,0]) \n",
    "    if i >= 3 and i < 6:\n",
    "        ax=churn[item].value_counts().plot(kind='bar',ax=axes[i-3,1]) \n",
    "    if i>=6:\n",
    "        ax=churn[item].value_counts().plot(kind='bar',ax=axes[i-6,2]) \n",
    "    ax.set_title(item)"
   ]
  },
  {
   "cell_type": "markdown",
   "metadata": {},
   "source": [
    "from all the figures above (except phone service)\n",
    "absence of online security and tech support ... and etc. seem to be abviously positively correlated with churn. \n",
    "that when this service == 'Yes', they are less likely to churn \n",
    "\n",
    "data visualization results are accord with the result (1,2,3,4) of correlation analysis, \n",
    "After EDA, I would build some classification model and evaluate.\n",
    "\n",
    "(Logistic model, random forest, support vector machine, neural netwrok)"
   ]
  },
  {
   "cell_type": "markdown",
   "metadata": {},
   "source": [
    "# logistic model "
   ]
  },
  {
   "cell_type": "code",
   "execution_count": 26,
   "metadata": {},
   "outputs": [
    {
     "data": {
      "text/html": [
       "<div>\n",
       "<style scoped>\n",
       "    .dataframe tbody tr th:only-of-type {\n",
       "        vertical-align: middle;\n",
       "    }\n",
       "\n",
       "    .dataframe tbody tr th {\n",
       "        vertical-align: top;\n",
       "    }\n",
       "\n",
       "    .dataframe thead th {\n",
       "        text-align: right;\n",
       "    }\n",
       "</style>\n",
       "<table border=\"1\" class=\"dataframe\">\n",
       "  <thead>\n",
       "    <tr style=\"text-align: right;\">\n",
       "      <th></th>\n",
       "      <th>SeniorCitizen</th>\n",
       "      <th>tenure</th>\n",
       "      <th>MonthlyCharges</th>\n",
       "      <th>TotalCharges</th>\n",
       "      <th>Churn</th>\n",
       "      <th>gender_Female</th>\n",
       "      <th>gender_Male</th>\n",
       "      <th>Partner_No</th>\n",
       "      <th>Partner_Yes</th>\n",
       "      <th>Dependents_No</th>\n",
       "      <th>...</th>\n",
       "      <th>StreamingMovies_Yes</th>\n",
       "      <th>Contract_Month-to-month</th>\n",
       "      <th>Contract_One year</th>\n",
       "      <th>Contract_Two year</th>\n",
       "      <th>PaperlessBilling_No</th>\n",
       "      <th>PaperlessBilling_Yes</th>\n",
       "      <th>PaymentMethod_Bank transfer (automatic)</th>\n",
       "      <th>PaymentMethod_Credit card (automatic)</th>\n",
       "      <th>PaymentMethod_Electronic check</th>\n",
       "      <th>PaymentMethod_Mailed check</th>\n",
       "    </tr>\n",
       "  </thead>\n",
       "  <tbody>\n",
       "    <tr>\n",
       "      <th>0</th>\n",
       "      <td>0</td>\n",
       "      <td>1</td>\n",
       "      <td>29.85</td>\n",
       "      <td>29.85</td>\n",
       "      <td>0</td>\n",
       "      <td>1</td>\n",
       "      <td>0</td>\n",
       "      <td>0</td>\n",
       "      <td>1</td>\n",
       "      <td>1</td>\n",
       "      <td>...</td>\n",
       "      <td>0</td>\n",
       "      <td>1</td>\n",
       "      <td>0</td>\n",
       "      <td>0</td>\n",
       "      <td>0</td>\n",
       "      <td>1</td>\n",
       "      <td>0</td>\n",
       "      <td>0</td>\n",
       "      <td>1</td>\n",
       "      <td>0</td>\n",
       "    </tr>\n",
       "    <tr>\n",
       "      <th>1</th>\n",
       "      <td>0</td>\n",
       "      <td>34</td>\n",
       "      <td>56.95</td>\n",
       "      <td>1889.50</td>\n",
       "      <td>0</td>\n",
       "      <td>0</td>\n",
       "      <td>1</td>\n",
       "      <td>1</td>\n",
       "      <td>0</td>\n",
       "      <td>1</td>\n",
       "      <td>...</td>\n",
       "      <td>0</td>\n",
       "      <td>0</td>\n",
       "      <td>1</td>\n",
       "      <td>0</td>\n",
       "      <td>1</td>\n",
       "      <td>0</td>\n",
       "      <td>0</td>\n",
       "      <td>0</td>\n",
       "      <td>0</td>\n",
       "      <td>1</td>\n",
       "    </tr>\n",
       "    <tr>\n",
       "      <th>2</th>\n",
       "      <td>0</td>\n",
       "      <td>2</td>\n",
       "      <td>53.85</td>\n",
       "      <td>108.15</td>\n",
       "      <td>1</td>\n",
       "      <td>0</td>\n",
       "      <td>1</td>\n",
       "      <td>1</td>\n",
       "      <td>0</td>\n",
       "      <td>1</td>\n",
       "      <td>...</td>\n",
       "      <td>0</td>\n",
       "      <td>1</td>\n",
       "      <td>0</td>\n",
       "      <td>0</td>\n",
       "      <td>0</td>\n",
       "      <td>1</td>\n",
       "      <td>0</td>\n",
       "      <td>0</td>\n",
       "      <td>0</td>\n",
       "      <td>1</td>\n",
       "    </tr>\n",
       "    <tr>\n",
       "      <th>3</th>\n",
       "      <td>0</td>\n",
       "      <td>45</td>\n",
       "      <td>42.30</td>\n",
       "      <td>1840.75</td>\n",
       "      <td>0</td>\n",
       "      <td>0</td>\n",
       "      <td>1</td>\n",
       "      <td>1</td>\n",
       "      <td>0</td>\n",
       "      <td>1</td>\n",
       "      <td>...</td>\n",
       "      <td>0</td>\n",
       "      <td>0</td>\n",
       "      <td>1</td>\n",
       "      <td>0</td>\n",
       "      <td>1</td>\n",
       "      <td>0</td>\n",
       "      <td>1</td>\n",
       "      <td>0</td>\n",
       "      <td>0</td>\n",
       "      <td>0</td>\n",
       "    </tr>\n",
       "    <tr>\n",
       "      <th>4</th>\n",
       "      <td>0</td>\n",
       "      <td>2</td>\n",
       "      <td>70.70</td>\n",
       "      <td>151.65</td>\n",
       "      <td>1</td>\n",
       "      <td>1</td>\n",
       "      <td>0</td>\n",
       "      <td>1</td>\n",
       "      <td>0</td>\n",
       "      <td>1</td>\n",
       "      <td>...</td>\n",
       "      <td>0</td>\n",
       "      <td>1</td>\n",
       "      <td>0</td>\n",
       "      <td>0</td>\n",
       "      <td>0</td>\n",
       "      <td>1</td>\n",
       "      <td>0</td>\n",
       "      <td>0</td>\n",
       "      <td>1</td>\n",
       "      <td>0</td>\n",
       "    </tr>\n",
       "  </tbody>\n",
       "</table>\n",
       "<p>5 rows × 46 columns</p>\n",
       "</div>"
      ],
      "text/plain": [
       "   SeniorCitizen  tenure  MonthlyCharges  TotalCharges  Churn  gender_Female  \\\n",
       "0              0       1           29.85         29.85      0              1   \n",
       "1              0      34           56.95       1889.50      0              0   \n",
       "2              0       2           53.85        108.15      1              0   \n",
       "3              0      45           42.30       1840.75      0              0   \n",
       "4              0       2           70.70        151.65      1              1   \n",
       "\n",
       "   gender_Male  Partner_No  Partner_Yes  Dependents_No  ...  \\\n",
       "0            0           0            1              1  ...   \n",
       "1            1           1            0              1  ...   \n",
       "2            1           1            0              1  ...   \n",
       "3            1           1            0              1  ...   \n",
       "4            0           1            0              1  ...   \n",
       "\n",
       "   StreamingMovies_Yes  Contract_Month-to-month  Contract_One year  \\\n",
       "0                    0                        1                  0   \n",
       "1                    0                        0                  1   \n",
       "2                    0                        1                  0   \n",
       "3                    0                        0                  1   \n",
       "4                    0                        1                  0   \n",
       "\n",
       "   Contract_Two year  PaperlessBilling_No  PaperlessBilling_Yes  \\\n",
       "0                  0                    0                     1   \n",
       "1                  0                    1                     0   \n",
       "2                  0                    0                     1   \n",
       "3                  0                    1                     0   \n",
       "4                  0                    0                     1   \n",
       "\n",
       "   PaymentMethod_Bank transfer (automatic)  \\\n",
       "0                                        0   \n",
       "1                                        0   \n",
       "2                                        0   \n",
       "3                                        1   \n",
       "4                                        0   \n",
       "\n",
       "   PaymentMethod_Credit card (automatic)  PaymentMethod_Electronic check  \\\n",
       "0                                      0                               1   \n",
       "1                                      0                               0   \n",
       "2                                      0                               0   \n",
       "3                                      0                               0   \n",
       "4                                      0                               1   \n",
       "\n",
       "   PaymentMethod_Mailed check  \n",
       "0                           0  \n",
       "1                           1  \n",
       "2                           1  \n",
       "3                           0  \n",
       "4                           0  \n",
       "\n",
       "[5 rows x 46 columns]"
      ]
     },
     "execution_count": 26,
     "metadata": {},
     "output_type": "execute_result"
    }
   ],
   "source": [
    "churn_dum.head() # get_dummy before"
   ]
  },
  {
   "cell_type": "code",
   "execution_count": 27,
   "metadata": {},
   "outputs": [],
   "source": [
    "# choose variables \n",
    "x=churn_dum.drop(columns=['Churn']) \n",
    "y=churn_dum['Churn'] \n",
    "#normalization \n",
    "from sklearn.preprocessing import MinMaxScaler \n",
    "features=x.columns.values \n",
    "scaler=MinMaxScaler(feature_range=(0,1)) \n",
    "scaler.fit(x) \n",
    "x=pd.DataFrame(scaler.transform(x)) \n",
    "x.columns=features"
   ]
  },
  {
   "cell_type": "code",
   "execution_count": 28,
   "metadata": {},
   "outputs": [],
   "source": [
    "from sklearn.model_selection import train_test_split \n",
    "x_train,x_test,y_train,y_test=train_test_split(x,y,test_size=0.3, random_state=101)"
   ]
  },
  {
   "cell_type": "code",
   "execution_count": 29,
   "metadata": {},
   "outputs": [
    {
     "name": "stdout",
     "output_type": "stream",
     "text": [
      "0.8075829383886256\n"
     ]
    },
    {
     "name": "stderr",
     "output_type": "stream",
     "text": [
      "/opt/conda/lib/python3.6/site-packages/sklearn/linear_model/logistic.py:432: FutureWarning:\n",
      "\n",
      "Default solver will be changed to 'lbfgs' in 0.22. Specify a solver to silence this warning.\n",
      "\n"
     ]
    }
   ],
   "source": [
    "from sklearn.linear_model import LogisticRegression \n",
    "model=LogisticRegression() \n",
    "result=model.fit(x_train,y_train)\n",
    "\n",
    "from sklearn import metrics\n",
    "lg_pred=model.predict(x_test)\n",
    "print(metrics.accuracy_score(y_test,lg_pred))"
   ]
  },
  {
   "cell_type": "code",
   "execution_count": 30,
   "metadata": {},
   "outputs": [
    {
     "name": "stdout",
     "output_type": "stream",
     "text": [
      "              precision    recall  f1-score   support\n",
      "\n",
      "           0       0.85      0.90      0.87      1580\n",
      "           1       0.64      0.54      0.58       530\n",
      "\n",
      "    accuracy                           0.81      2110\n",
      "   macro avg       0.75      0.72      0.73      2110\n",
      "weighted avg       0.80      0.81      0.80      2110\n",
      "\n"
     ]
    }
   ],
   "source": [
    "from sklearn.metrics import classification_report \n",
    "lg_report= classification_report(y_test, lg_pred) \n",
    "print(lg_report)"
   ]
  },
  {
   "cell_type": "markdown",
   "metadata": {},
   "source": [
    "# Random Forest "
   ]
  },
  {
   "cell_type": "code",
   "execution_count": 31,
   "metadata": {},
   "outputs": [
    {
     "name": "stdout",
     "output_type": "stream",
     "text": [
      "0.795734597156398\n"
     ]
    }
   ],
   "source": [
    "from sklearn.ensemble import RandomForestClassifier \n",
    "x_train,x_test,y_train,y_test=train_test_split(x,y,test_size=0.3, random_state=101) \n",
    "model_r=RandomForestClassifier(n_estimators=100,random_state=50, oob_score=True) \n",
    "model_r.fit(x_train,y_train) \n",
    "rf_pred=model_r.predict(x_test)\n",
    "print(metrics.accuracy_score(y_test,rf_pred))"
   ]
  },
  {
   "cell_type": "code",
   "execution_count": 32,
   "metadata": {},
   "outputs": [
    {
     "name": "stdout",
     "output_type": "stream",
     "text": [
      "              precision    recall  f1-score   support\n",
      "\n",
      "           0       0.84      0.89      0.87      1580\n",
      "           1       0.61      0.50      0.55       530\n",
      "\n",
      "    accuracy                           0.80      2110\n",
      "   macro avg       0.73      0.70      0.71      2110\n",
      "weighted avg       0.79      0.80      0.79      2110\n",
      "\n"
     ]
    }
   ],
   "source": [
    "rf_report=classification_report(y_test, rf_pred)\n",
    "print(rf_report)"
   ]
  },
  {
   "cell_type": "markdown",
   "metadata": {},
   "source": [
    "# I would explore and find the most appropiate tree numbers (n_estomators)"
   ]
  },
  {
   "cell_type": "code",
   "execution_count": 33,
   "metadata": {},
   "outputs": [],
   "source": [
    "rand_score =[] \n",
    "for i in range(1,102):\n",
    "    i_loop= RandomForestClassifier(n_estimators=i, random_state=101) \n",
    "    i_loop.fit(x_train,y_train) \n",
    "    loop_pre=i_loop.predict(x_test) \n",
    "    rand_score.append(metrics.accuracy_score(y_test,loop_pre))"
   ]
  },
  {
   "cell_type": "code",
   "execution_count": 34,
   "metadata": {},
   "outputs": [
    {
     "data": {
      "image/png": "[encoded data removed]",
      "text/plain": [
       "<Figure size 432x288 with 1 Axes>"
      ]
     },
     "metadata": {
      "needs_background": "light"
     },
     "output_type": "display_data"
    }
   ],
   "source": [
    "plt.plot(range(1,102),rand_score)\n",
    "plt.xlabel(\"Range\") \n",
    "plt.ylabel(\"accuracy score\")\n",
    "plt.show()"
   ]
  },
  {
   "cell_type": "markdown",
   "metadata": {},
   "source": [
    "# 79 trees around"
   ]
  },
  {
   "cell_type": "code",
   "execution_count": 35,
   "metadata": {},
   "outputs": [
    {
     "name": "stdout",
     "output_type": "stream",
     "text": [
      "0.7981042654028436\n"
     ]
    }
   ],
   "source": [
    "model_r=RandomForestClassifier(n_estimators=79,random_state=101, oob_score=True)\n",
    "model_r.fit(x_train,y_train) \n",
    "rf_new_pred=model_r.predict(x_test)\n",
    "print(metrics.accuracy_score(y_test,rf_new_pred))"
   ]
  },
  {
   "cell_type": "code",
   "execution_count": 36,
   "metadata": {},
   "outputs": [],
   "source": [
    "# only a little bit improvement "
   ]
  },
  {
   "cell_type": "code",
   "execution_count": 37,
   "metadata": {},
   "outputs": [
    {
     "name": "stdout",
     "output_type": "stream",
     "text": [
      "              precision    recall  f1-score   support\n",
      "\n",
      "           0       0.84      0.90      0.87      1580\n",
      "           1       0.62      0.50      0.55       530\n",
      "\n",
      "    accuracy                           0.80      2110\n",
      "   macro avg       0.73      0.70      0.71      2110\n",
      "weighted avg       0.79      0.80      0.79      2110\n",
      "\n"
     ]
    }
   ],
   "source": [
    "rf_new_report=classification_report(y_test, rf_new_pred)\n",
    "print(rf_new_report)"
   ]
  },
  {
   "cell_type": "code",
   "execution_count": 38,
   "metadata": {},
   "outputs": [
    {
     "data": {
      "text/plain": [
       "TotalCharges                      0.158485\n",
       "tenure                            0.146398\n",
       "MonthlyCharges                    0.136710\n",
       "Contract_Month-to-month           0.047121\n",
       "PaymentMethod_Electronic check    0.030749\n",
       "TechSupport_No                    0.029945\n",
       "OnlineSecurity_No                 0.028683\n",
       "InternetService_Fiber optic       0.022903\n",
       "SeniorCitizen                     0.020710\n",
       "gender_Female                     0.018292\n",
       "dtype: float64"
      ]
     },
     "execution_count": 38,
     "metadata": {},
     "output_type": "execute_result"
    }
   ],
   "source": [
    "rand_coef=model_r.feature_importances_ \n",
    "weight=pd.Series(rand_coef,index=x.columns.values)\n",
    "weight.sort_values(ascending=False)[:10]"
   ]
  },
  {
   "cell_type": "markdown",
   "metadata": {},
   "source": [
    "same: TOTAL charges, tenure and monthlycharges, contract .. are highly possive related with churn result \n",
    "\n",
    "seems no change for recall and f1 LOL"
   ]
  },
  {
   "cell_type": "markdown",
   "metadata": {},
   "source": [
    "# SVM"
   ]
  },
  {
   "cell_type": "code",
   "execution_count": 39,
   "metadata": {},
   "outputs": [
    {
     "name": "stderr",
     "output_type": "stream",
     "text": [
      "/opt/conda/lib/python3.6/site-packages/sklearn/svm/base.py:193: FutureWarning:\n",
      "\n",
      "The default value of gamma will change from 'auto' to 'scale' in version 0.22 to account better for unscaled features. Set gamma explicitly to 'auto' or 'scale' to avoid this warning.\n",
      "\n"
     ]
    },
    {
     "name": "stdout",
     "output_type": "stream",
     "text": [
      "0.8085308056872038\n"
     ]
    }
   ],
   "source": [
    "from sklearn.svm import SVC\n",
    "svc_model = SVC(random_state=101)\n",
    "svc_model.fit(x_train, y_train) \n",
    "accuracy_svc = svc_model.score(x_test, y_test)\n",
    "print(accuracy_svc)"
   ]
  },
  {
   "cell_type": "code",
   "execution_count": 40,
   "metadata": {},
   "outputs": [
    {
     "name": "stdout",
     "output_type": "stream",
     "text": [
      "              precision    recall  f1-score   support\n",
      "\n",
      "           0       0.85      0.91      0.88      1580\n",
      "           1       0.65      0.51      0.57       530\n",
      "\n",
      "    accuracy                           0.81      2110\n",
      "   macro avg       0.75      0.71      0.72      2110\n",
      "weighted avg       0.80      0.81      0.80      2110\n",
      "\n"
     ]
    }
   ],
   "source": [
    "svm_pred=svc_model.predict(x_test)\n",
    "\n",
    "from sklearn.metrics import classification_report, confusion_matrix\n",
    "svm_report=classification_report(y_test,svm_pred) \n",
    "print(svm_report)"
   ]
  },
  {
   "cell_type": "markdown",
   "metadata": {},
   "source": [
    "# Neural Network"
   ]
  },
  {
   "cell_type": "code",
   "execution_count": 41,
   "metadata": {},
   "outputs": [
    {
     "data": {
      "text/html": [
       "<div>\n",
       "<style scoped>\n",
       "    .dataframe tbody tr th:only-of-type {\n",
       "        vertical-align: middle;\n",
       "    }\n",
       "\n",
       "    .dataframe tbody tr th {\n",
       "        vertical-align: top;\n",
       "    }\n",
       "\n",
       "    .dataframe thead th {\n",
       "        text-align: right;\n",
       "    }\n",
       "</style>\n",
       "<table border=\"1\" class=\"dataframe\">\n",
       "  <thead>\n",
       "    <tr style=\"text-align: right;\">\n",
       "      <th></th>\n",
       "      <th>SeniorCitizen</th>\n",
       "      <th>tenure</th>\n",
       "      <th>MonthlyCharges</th>\n",
       "      <th>TotalCharges</th>\n",
       "      <th>gender_Female</th>\n",
       "      <th>gender_Male</th>\n",
       "      <th>Partner_No</th>\n",
       "      <th>Partner_Yes</th>\n",
       "      <th>Dependents_No</th>\n",
       "      <th>Dependents_Yes</th>\n",
       "      <th>...</th>\n",
       "      <th>StreamingMovies_Yes</th>\n",
       "      <th>Contract_Month-to-month</th>\n",
       "      <th>Contract_One year</th>\n",
       "      <th>Contract_Two year</th>\n",
       "      <th>PaperlessBilling_No</th>\n",
       "      <th>PaperlessBilling_Yes</th>\n",
       "      <th>PaymentMethod_Bank transfer (automatic)</th>\n",
       "      <th>PaymentMethod_Credit card (automatic)</th>\n",
       "      <th>PaymentMethod_Electronic check</th>\n",
       "      <th>PaymentMethod_Mailed check</th>\n",
       "    </tr>\n",
       "  </thead>\n",
       "  <tbody>\n",
       "    <tr>\n",
       "      <th>2785</th>\n",
       "      <td>0.0</td>\n",
       "      <td>0.690141</td>\n",
       "      <td>0.909453</td>\n",
       "      <td>0.638397</td>\n",
       "      <td>1.0</td>\n",
       "      <td>0.0</td>\n",
       "      <td>1.0</td>\n",
       "      <td>0.0</td>\n",
       "      <td>1.0</td>\n",
       "      <td>0.0</td>\n",
       "      <td>...</td>\n",
       "      <td>1.0</td>\n",
       "      <td>0.0</td>\n",
       "      <td>0.0</td>\n",
       "      <td>1.0</td>\n",
       "      <td>0.0</td>\n",
       "      <td>1.0</td>\n",
       "      <td>0.0</td>\n",
       "      <td>0.0</td>\n",
       "      <td>1.0</td>\n",
       "      <td>0.0</td>\n",
       "    </tr>\n",
       "    <tr>\n",
       "      <th>896</th>\n",
       "      <td>0.0</td>\n",
       "      <td>0.154930</td>\n",
       "      <td>0.802488</td>\n",
       "      <td>0.127181</td>\n",
       "      <td>1.0</td>\n",
       "      <td>0.0</td>\n",
       "      <td>1.0</td>\n",
       "      <td>0.0</td>\n",
       "      <td>1.0</td>\n",
       "      <td>0.0</td>\n",
       "      <td>...</td>\n",
       "      <td>1.0</td>\n",
       "      <td>1.0</td>\n",
       "      <td>0.0</td>\n",
       "      <td>0.0</td>\n",
       "      <td>0.0</td>\n",
       "      <td>1.0</td>\n",
       "      <td>1.0</td>\n",
       "      <td>0.0</td>\n",
       "      <td>0.0</td>\n",
       "      <td>0.0</td>\n",
       "    </tr>\n",
       "    <tr>\n",
       "      <th>3958</th>\n",
       "      <td>1.0</td>\n",
       "      <td>0.718310</td>\n",
       "      <td>0.878109</td>\n",
       "      <td>0.646556</td>\n",
       "      <td>1.0</td>\n",
       "      <td>0.0</td>\n",
       "      <td>0.0</td>\n",
       "      <td>1.0</td>\n",
       "      <td>1.0</td>\n",
       "      <td>0.0</td>\n",
       "      <td>...</td>\n",
       "      <td>1.0</td>\n",
       "      <td>0.0</td>\n",
       "      <td>1.0</td>\n",
       "      <td>0.0</td>\n",
       "      <td>0.0</td>\n",
       "      <td>1.0</td>\n",
       "      <td>0.0</td>\n",
       "      <td>0.0</td>\n",
       "      <td>1.0</td>\n",
       "      <td>0.0</td>\n",
       "    </tr>\n",
       "    <tr>\n",
       "      <th>5193</th>\n",
       "      <td>0.0</td>\n",
       "      <td>0.112676</td>\n",
       "      <td>0.016418</td>\n",
       "      <td>0.016824</td>\n",
       "      <td>0.0</td>\n",
       "      <td>1.0</td>\n",
       "      <td>1.0</td>\n",
       "      <td>0.0</td>\n",
       "      <td>1.0</td>\n",
       "      <td>0.0</td>\n",
       "      <td>...</td>\n",
       "      <td>0.0</td>\n",
       "      <td>0.0</td>\n",
       "      <td>1.0</td>\n",
       "      <td>0.0</td>\n",
       "      <td>0.0</td>\n",
       "      <td>1.0</td>\n",
       "      <td>0.0</td>\n",
       "      <td>0.0</td>\n",
       "      <td>1.0</td>\n",
       "      <td>0.0</td>\n",
       "    </tr>\n",
       "    <tr>\n",
       "      <th>1270</th>\n",
       "      <td>0.0</td>\n",
       "      <td>0.859155</td>\n",
       "      <td>0.824876</td>\n",
       "      <td>0.763853</td>\n",
       "      <td>1.0</td>\n",
       "      <td>0.0</td>\n",
       "      <td>0.0</td>\n",
       "      <td>1.0</td>\n",
       "      <td>0.0</td>\n",
       "      <td>1.0</td>\n",
       "      <td>...</td>\n",
       "      <td>1.0</td>\n",
       "      <td>0.0</td>\n",
       "      <td>0.0</td>\n",
       "      <td>1.0</td>\n",
       "      <td>0.0</td>\n",
       "      <td>1.0</td>\n",
       "      <td>1.0</td>\n",
       "      <td>0.0</td>\n",
       "      <td>0.0</td>\n",
       "      <td>0.0</td>\n",
       "    </tr>\n",
       "  </tbody>\n",
       "</table>\n",
       "<p>5 rows × 45 columns</p>\n",
       "</div>"
      ],
      "text/plain": [
       "      SeniorCitizen    tenure  MonthlyCharges  TotalCharges  gender_Female  \\\n",
       "2785            0.0  0.690141        0.909453      0.638397            1.0   \n",
       "896             0.0  0.154930        0.802488      0.127181            1.0   \n",
       "3958            1.0  0.718310        0.878109      0.646556            1.0   \n",
       "5193            0.0  0.112676        0.016418      0.016824            0.0   \n",
       "1270            0.0  0.859155        0.824876      0.763853            1.0   \n",
       "\n",
       "      gender_Male  Partner_No  Partner_Yes  Dependents_No  Dependents_Yes  \\\n",
       "2785          0.0         1.0          0.0            1.0             0.0   \n",
       "896           0.0         1.0          0.0            1.0             0.0   \n",
       "3958          0.0         0.0          1.0            1.0             0.0   \n",
       "5193          1.0         1.0          0.0            1.0             0.0   \n",
       "1270          0.0         0.0          1.0            0.0             1.0   \n",
       "\n",
       "      ...  StreamingMovies_Yes  Contract_Month-to-month  Contract_One year  \\\n",
       "2785  ...                  1.0                      0.0                0.0   \n",
       "896   ...                  1.0                      1.0                0.0   \n",
       "3958  ...                  1.0                      0.0                1.0   \n",
       "5193  ...                  0.0                      0.0                1.0   \n",
       "1270  ...                  1.0                      0.0                0.0   \n",
       "\n",
       "      Contract_Two year  PaperlessBilling_No  PaperlessBilling_Yes  \\\n",
       "2785                1.0                  0.0                   1.0   \n",
       "896                 0.0                  0.0                   1.0   \n",
       "3958                0.0                  0.0                   1.0   \n",
       "5193                0.0                  0.0                   1.0   \n",
       "1270                1.0                  0.0                   1.0   \n",
       "\n",
       "      PaymentMethod_Bank transfer (automatic)  \\\n",
       "2785                                      0.0   \n",
       "896                                       1.0   \n",
       "3958                                      0.0   \n",
       "5193                                      0.0   \n",
       "1270                                      1.0   \n",
       "\n",
       "      PaymentMethod_Credit card (automatic)  PaymentMethod_Electronic check  \\\n",
       "2785                                    0.0                             1.0   \n",
       "896                                     0.0                             0.0   \n",
       "3958                                    0.0                             1.0   \n",
       "5193                                    0.0                             1.0   \n",
       "1270                                    0.0                             0.0   \n",
       "\n",
       "      PaymentMethod_Mailed check  \n",
       "2785                         0.0  \n",
       "896                          0.0  \n",
       "3958                         0.0  \n",
       "5193                         0.0  \n",
       "1270                         0.0  \n",
       "\n",
       "[5 rows x 45 columns]"
      ]
     },
     "execution_count": 41,
     "metadata": {},
     "output_type": "execute_result"
    }
   ],
   "source": [
    "x_train.head() # has been standardalized"
   ]
  },
  {
   "cell_type": "code",
   "execution_count": 42,
   "metadata": {},
   "outputs": [
    {
     "name": "stderr",
     "output_type": "stream",
     "text": [
      "Using TensorFlow backend.\n"
     ]
    }
   ],
   "source": [
    "import keras"
   ]
  },
  {
   "cell_type": "code",
   "execution_count": 43,
   "metadata": {},
   "outputs": [],
   "source": [
    "from keras.models import Sequential \n",
    "from keras.layers import Dense \n",
    "from keras import optimizers \n",
    "model_nn = Sequential() \n",
    "sgd= optimizers.SGD(lr=0.01) # (set learning rate)\n",
    "# first time, no gradient descend, so might be the reason learning rate is too fast, thus...set it as 0.01"
   ]
  },
  {
   "cell_type": "code",
   "execution_count": 44,
   "metadata": {},
   "outputs": [],
   "source": [
    "model_nn.add(Dense(45, activation= 'relu', input_dim=45)) \n",
    "model_nn.add(Dense(22, activation='relu'))\n",
    "model_nn.add(Dense(11, activation='relu')) \n",
    "model_nn.add(Dense(6, activation='relu')) \n",
    "model_nn.add(Dense(1,activation='sigmoid'))"
   ]
  },
  {
   "cell_type": "code",
   "execution_count": 45,
   "metadata": {},
   "outputs": [
    {
     "name": "stdout",
     "output_type": "stream",
     "text": [
      "Train on 4922 samples, validate on 2110 samples\n",
      "Epoch 1/50\n",
      "4922/4922 [==============================] - 1s 152us/step - loss: 0.6543 - accuracy: 0.6524 - val_loss: 0.5964 - val_accuracy: 0.7488\n",
      "Epoch 2/50\n",
      "4922/4922 [==============================] - 0s 71us/step - loss: 0.5849 - accuracy: 0.7280 - val_loss: 0.5515 - val_accuracy: 0.7488\n",
      "Epoch 3/50\n",
      "4922/4922 [==============================] - 0s 72us/step - loss: 0.5538 - accuracy: 0.7280 - val_loss: 0.5200 - val_accuracy: 0.7488\n",
      "Epoch 4/50\n",
      "4922/4922 [==============================] - 0s 74us/step - loss: 0.5163 - accuracy: 0.7280 - val_loss: 0.4833 - val_accuracy: 0.7483\n",
      "Epoch 5/50\n",
      "4922/4922 [==============================] - 0s 72us/step - loss: 0.4789 - accuracy: 0.7397 - val_loss: 0.4594 - val_accuracy: 0.7768\n",
      "Epoch 6/50\n",
      "4922/4922 [==============================] - 0s 74us/step - loss: 0.4570 - accuracy: 0.7688 - val_loss: 0.4479 - val_accuracy: 0.7929\n",
      "Epoch 7/50\n",
      "4922/4922 [==============================] - 0s 74us/step - loss: 0.4454 - accuracy: 0.7822 - val_loss: 0.4433 - val_accuracy: 0.7896\n",
      "Epoch 8/50\n",
      "4922/4922 [==============================] - 0s 72us/step - loss: 0.4388 - accuracy: 0.7911 - val_loss: 0.4366 - val_accuracy: 0.7986\n",
      "Epoch 9/50\n",
      "4922/4922 [==============================] - 0s 74us/step - loss: 0.4344 - accuracy: 0.7924 - val_loss: 0.4383 - val_accuracy: 0.7905\n",
      "Epoch 10/50\n",
      "4922/4922 [==============================] - 0s 72us/step - loss: 0.4312 - accuracy: 0.7946 - val_loss: 0.4354 - val_accuracy: 0.7953\n",
      "Epoch 11/50\n",
      "4922/4922 [==============================] - 0s 71us/step - loss: 0.4277 - accuracy: 0.7926 - val_loss: 0.4297 - val_accuracy: 0.8038\n",
      "Epoch 12/50\n",
      "4922/4922 [==============================] - 0s 71us/step - loss: 0.4252 - accuracy: 0.7952 - val_loss: 0.4288 - val_accuracy: 0.8038\n",
      "Epoch 13/50\n",
      "4922/4922 [==============================] - 0s 71us/step - loss: 0.4233 - accuracy: 0.7976 - val_loss: 0.4276 - val_accuracy: 0.8005\n",
      "Epoch 14/50\n",
      "4922/4922 [==============================] - 0s 71us/step - loss: 0.4218 - accuracy: 0.7948 - val_loss: 0.4259 - val_accuracy: 0.8038\n",
      "Epoch 15/50\n",
      "4922/4922 [==============================] - 0s 71us/step - loss: 0.4204 - accuracy: 0.8003 - val_loss: 0.4259 - val_accuracy: 0.8038\n",
      "Epoch 16/50\n",
      "4922/4922 [==============================] - 0s 71us/step - loss: 0.4192 - accuracy: 0.7966 - val_loss: 0.4259 - val_accuracy: 0.8028\n",
      "Epoch 17/50\n",
      "4922/4922 [==============================] - 0s 72us/step - loss: 0.4182 - accuracy: 0.7983 - val_loss: 0.4270 - val_accuracy: 0.8033\n",
      "Epoch 18/50\n",
      "4922/4922 [==============================] - 0s 75us/step - loss: 0.4164 - accuracy: 0.7980 - val_loss: 0.4227 - val_accuracy: 0.8047\n",
      "Epoch 19/50\n",
      "4922/4922 [==============================] - 0s 73us/step - loss: 0.4167 - accuracy: 0.8011 - val_loss: 0.4224 - val_accuracy: 0.8071\n",
      "Epoch 20/50\n",
      "4922/4922 [==============================] - 0s 72us/step - loss: 0.4155 - accuracy: 0.8007 - val_loss: 0.4275 - val_accuracy: 0.8024\n",
      "Epoch 21/50\n",
      "4922/4922 [==============================] - 0s 72us/step - loss: 0.4153 - accuracy: 0.7968 - val_loss: 0.4220 - val_accuracy: 0.8057\n",
      "Epoch 22/50\n",
      "4922/4922 [==============================] - 0s 72us/step - loss: 0.4135 - accuracy: 0.8007 - val_loss: 0.4214 - val_accuracy: 0.8057\n",
      "Epoch 23/50\n",
      "4922/4922 [==============================] - 0s 73us/step - loss: 0.4139 - accuracy: 0.7993 - val_loss: 0.4217 - val_accuracy: 0.8066\n",
      "Epoch 24/50\n",
      "4922/4922 [==============================] - 0s 72us/step - loss: 0.4129 - accuracy: 0.8011 - val_loss: 0.4306 - val_accuracy: 0.7972\n",
      "Epoch 25/50\n",
      "4922/4922 [==============================] - 0s 72us/step - loss: 0.4125 - accuracy: 0.7985 - val_loss: 0.4201 - val_accuracy: 0.8057\n",
      "Epoch 26/50\n",
      "4922/4922 [==============================] - 0s 74us/step - loss: 0.4125 - accuracy: 0.7993 - val_loss: 0.4208 - val_accuracy: 0.8057\n",
      "Epoch 27/50\n",
      "4922/4922 [==============================] - 0s 71us/step - loss: 0.4118 - accuracy: 0.8007 - val_loss: 0.4306 - val_accuracy: 0.8014\n",
      "Epoch 28/50\n",
      "4922/4922 [==============================] - 0s 72us/step - loss: 0.4116 - accuracy: 0.8013 - val_loss: 0.4261 - val_accuracy: 0.8019\n",
      "Epoch 29/50\n",
      "4922/4922 [==============================] - 0s 73us/step - loss: 0.4107 - accuracy: 0.8035 - val_loss: 0.4228 - val_accuracy: 0.8085\n",
      "Epoch 30/50\n",
      "4922/4922 [==============================] - 0s 72us/step - loss: 0.4096 - accuracy: 0.8041 - val_loss: 0.4444 - val_accuracy: 0.7820\n",
      "Epoch 31/50\n",
      "4922/4922 [==============================] - 0s 76us/step - loss: 0.4107 - accuracy: 0.8025 - val_loss: 0.4274 - val_accuracy: 0.7976\n",
      "Epoch 32/50\n",
      "4922/4922 [==============================] - 0s 79us/step - loss: 0.4099 - accuracy: 0.8037 - val_loss: 0.4216 - val_accuracy: 0.8085\n",
      "Epoch 33/50\n",
      "4922/4922 [==============================] - 0s 75us/step - loss: 0.4091 - accuracy: 0.8027 - val_loss: 0.4205 - val_accuracy: 0.8095\n",
      "Epoch 34/50\n",
      "4922/4922 [==============================] - 0s 73us/step - loss: 0.4089 - accuracy: 0.8056 - val_loss: 0.4245 - val_accuracy: 0.8071\n",
      "Epoch 35/50\n",
      "4922/4922 [==============================] - 0s 72us/step - loss: 0.4075 - accuracy: 0.8041 - val_loss: 0.4258 - val_accuracy: 0.8005\n",
      "Epoch 36/50\n",
      "4922/4922 [==============================] - 0s 73us/step - loss: 0.4080 - accuracy: 0.8037 - val_loss: 0.4391 - val_accuracy: 0.7867\n",
      "Epoch 37/50\n",
      "4922/4922 [==============================] - 0s 73us/step - loss: 0.4087 - accuracy: 0.8025 - val_loss: 0.4198 - val_accuracy: 0.8076\n",
      "Epoch 38/50\n",
      "4922/4922 [==============================] - 0s 73us/step - loss: 0.4078 - accuracy: 0.8050 - val_loss: 0.4436 - val_accuracy: 0.7820\n",
      "Epoch 39/50\n",
      "4922/4922 [==============================] - 0s 71us/step - loss: 0.4076 - accuracy: 0.8046 - val_loss: 0.4187 - val_accuracy: 0.8095\n",
      "Epoch 40/50\n",
      "4922/4922 [==============================] - 0s 72us/step - loss: 0.4059 - accuracy: 0.8076 - val_loss: 0.4238 - val_accuracy: 0.8014\n",
      "Epoch 41/50\n",
      "4922/4922 [==============================] - 0s 72us/step - loss: 0.4060 - accuracy: 0.8025 - val_loss: 0.4335 - val_accuracy: 0.7919\n",
      "Epoch 42/50\n",
      "4922/4922 [==============================] - 0s 71us/step - loss: 0.4054 - accuracy: 0.8043 - val_loss: 0.4268 - val_accuracy: 0.7967\n",
      "Epoch 43/50\n",
      "4922/4922 [==============================] - 0s 71us/step - loss: 0.4057 - accuracy: 0.8037 - val_loss: 0.4191 - val_accuracy: 0.8057\n",
      "Epoch 44/50\n",
      "4922/4922 [==============================] - 0s 70us/step - loss: 0.4053 - accuracy: 0.8058 - val_loss: 0.4252 - val_accuracy: 0.7995\n",
      "Epoch 45/50\n",
      "4922/4922 [==============================] - 0s 71us/step - loss: 0.4046 - accuracy: 0.8074 - val_loss: 0.4232 - val_accuracy: 0.8062\n",
      "Epoch 46/50\n",
      "4922/4922 [==============================] - 0s 76us/step - loss: 0.4044 - accuracy: 0.8058 - val_loss: 0.4197 - val_accuracy: 0.8066\n",
      "Epoch 47/50\n",
      "4922/4922 [==============================] - 0s 72us/step - loss: 0.4037 - accuracy: 0.8052 - val_loss: 0.4238 - val_accuracy: 0.8066\n",
      "Epoch 48/50\n",
      "4922/4922 [==============================] - 0s 72us/step - loss: 0.4042 - accuracy: 0.8094 - val_loss: 0.4325 - val_accuracy: 0.7929\n",
      "Epoch 49/50\n",
      "4922/4922 [==============================] - 0s 72us/step - loss: 0.4033 - accuracy: 0.8066 - val_loss: 0.4246 - val_accuracy: 0.8066\n",
      "Epoch 50/50\n",
      "4922/4922 [==============================] - 0s 73us/step - loss: 0.4040 - accuracy: 0.8039 - val_loss: 0.4196 - val_accuracy: 0.8081\n"
     ]
    }
   ],
   "source": [
    "model_nn.compile(loss='binary_crossentropy',optimizer='SGD',metrics=['accuracy']) \n",
    "history= model_nn.fit(x_train, y_train,\n",
    "                      batch_size=30, epochs=50, validation_data=(x_test,y_test))"
   ]
  },
  {
   "cell_type": "code",
   "execution_count": 46,
   "metadata": {},
   "outputs": [
    {
     "name": "stdout",
     "output_type": "stream",
     "text": [
      "2110/2110 [==============================] - 0s 26us/step\n"
     ]
    },
    {
     "data": {
      "text/plain": [
       "[0.4195965910974837, 0.8080568909645081]"
      ]
     },
     "execution_count": 46,
     "metadata": {},
     "output_type": "execute_result"
    }
   ],
   "source": [
    "result_1=model_nn.evaluate(x_test,y_test)\n",
    "result_1"
   ]
  },
  {
   "cell_type": "code",
   "execution_count": 47,
   "metadata": {},
   "outputs": [
    {
     "data": {
      "text/plain": [
       "dict_keys(['val_loss', 'val_accuracy', 'loss', 'accuracy'])"
      ]
     },
     "execution_count": 47,
     "metadata": {},
     "output_type": "execute_result"
    }
   ],
   "source": [
    "history_dict=history.history\n",
    "history_dict.keys()"
   ]
  },
  {
   "cell_type": "code",
   "execution_count": 48,
   "metadata": {},
   "outputs": [],
   "source": [
    "loss_value=history_dict['loss'] \n",
    "val_loss_values= history_dict['val_loss']"
   ]
  },
  {
   "cell_type": "code",
   "execution_count": 49,
   "metadata": {},
   "outputs": [
    {
     "data": {
      "text/plain": [
       "<matplotlib.legend.Legend at 0x7f9008144c88>"
      ]
     },
     "execution_count": 49,
     "metadata": {},
     "output_type": "execute_result"
    },
    {
     "data": {
      "image/png": "[encoded data removed]",
      "text/plain": [
       "<Figure size 432x288 with 1 Axes>"
      ]
     },
     "metadata": {
      "needs_background": "light"
     },
     "output_type": "display_data"
    }
   ],
   "source": [
    "plt.clf() \n",
    "epochs=range(1,len(loss_value)+1)\n",
    "plt.plot(epochs,loss_value,'bo',label='Training loss') \n",
    "plt.plot(epochs,val_loss_values,'b',label='Validation loss') \n",
    "plt.title('Training and validation loss') \n",
    "plt.xlabel('Epochs') \n",
    "plt.ylabel('loss')\n",
    "plt.legend()"
   ]
  },
  {
   "cell_type": "code",
   "execution_count": 50,
   "metadata": {},
   "outputs": [],
   "source": [
    " # Accroding to the graph, it is reasonable to use epochs=50 where has the least loss "
   ]
  },
  {
   "cell_type": "code",
   "execution_count": 51,
   "metadata": {},
   "outputs": [
    {
     "data": {
      "text/plain": [
       "array([[0.1289881 ],\n",
       "       [0.3335585 ],\n",
       "       [0.7528705 ],\n",
       "       [0.07622311]], dtype=float32)"
      ]
     },
     "execution_count": 51,
     "metadata": {},
     "output_type": "execute_result"
    }
   ],
   "source": [
    "nn_pred = model_nn.predict(x_test)\n",
    "nn_pred[1:5]"
   ]
  },
  {
   "cell_type": "code",
   "execution_count": 52,
   "metadata": {},
   "outputs": [],
   "source": [
    "def threshold(nn_pred):\n",
    "    lst_threshold=[] \n",
    "    for i in nn_pred:\n",
    "        if i >=0.5:\n",
    "            i=1 \n",
    "            lst_threshold.append(i)\n",
    "        else: \n",
    "            i=0 \n",
    "            lst_threshold.append(i)\n",
    "    return lst_threshold"
   ]
  },
  {
   "cell_type": "markdown",
   "metadata": {},
   "source": [
    "\n",
    "for report precision, recall and f1,\n",
    "Classification metrics can't handle a mix of binary and continuous targets !!!!\n",
    "\n",
    "build threshold rule for neural network"
   ]
  },
  {
   "cell_type": "code",
   "execution_count": 53,
   "metadata": {},
   "outputs": [
    {
     "data": {
      "text/plain": [
       "[0, 0, 1, 0]"
      ]
     },
     "execution_count": 53,
     "metadata": {},
     "output_type": "execute_result"
    }
   ],
   "source": [
    "nn_pred_new = threshold(nn_pred) \n",
    "nn_pred_new[1:5]"
   ]
  },
  {
   "cell_type": "code",
   "execution_count": 54,
   "metadata": {},
   "outputs": [
    {
     "name": "stdout",
     "output_type": "stream",
     "text": [
      "              precision    recall  f1-score   support\n",
      "\n",
      "           0       0.85      0.90      0.88      1580\n",
      "           1       0.64      0.54      0.58       530\n",
      "\n",
      "    accuracy                           0.81      2110\n",
      "   macro avg       0.75      0.72      0.73      2110\n",
      "weighted avg       0.80      0.81      0.80      2110\n",
      "\n"
     ]
    }
   ],
   "source": [
    "nn_report=classification_report(y_test,nn_pred_new)\n",
    "print(nn_report)"
   ]
  },
  {
   "cell_type": "code",
   "execution_count": 55,
   "metadata": {},
   "outputs": [
    {
     "name": "stdout",
     "output_type": "stream",
     "text": [
      "\n",
      "--------------------Logistic Regression-----------------\n",
      "               precision    recall  f1-score   support\n",
      "\n",
      "           0       0.85      0.90      0.87      1580\n",
      "           1       0.64      0.54      0.58       530\n",
      "\n",
      "    accuracy                           0.81      2110\n",
      "   macro avg       0.75      0.72      0.73      2110\n",
      "weighted avg       0.80      0.81      0.80      2110\n",
      " \n",
      "----------------------Random Forest---------------------\n",
      "               precision    recall  f1-score   support\n",
      "\n",
      "           0       0.84      0.89      0.87      1580\n",
      "           1       0.61      0.50      0.55       530\n",
      "\n",
      "    accuracy                           0.80      2110\n",
      "   macro avg       0.73      0.70      0.71      2110\n",
      "weighted avg       0.79      0.80      0.79      2110\n",
      " \n",
      "----------------- Support Vector Machine----------------\n",
      "               precision    recall  f1-score   support\n",
      "\n",
      "           0       0.85      0.91      0.88      1580\n",
      "           1       0.65      0.51      0.57       530\n",
      "\n",
      "    accuracy                           0.81      2110\n",
      "   macro avg       0.75      0.71      0.72      2110\n",
      "weighted avg       0.80      0.81      0.80      2110\n",
      " \n",
      "---------------------Neural Network---------------------\n",
      "               precision    recall  f1-score   support\n",
      "\n",
      "           0       0.85      0.90      0.88      1580\n",
      "           1       0.64      0.54      0.58       530\n",
      "\n",
      "    accuracy                           0.81      2110\n",
      "   macro avg       0.75      0.72      0.73      2110\n",
      "weighted avg       0.80      0.81      0.80      2110\n",
      "\n"
     ]
    }
   ],
   "source": [
    "print('\\n--------------------Logistic Regression-----------------\\n',lg_report, \n",
    "      '\\n----------------------Random Forest---------------------\\n',rf_report, \n",
    "      '\\n----------------- Support Vector Machine----------------\\n',svm_report, \n",
    "      '\\n---------------------Neural Network---------------------\\n',nn_report)"
   ]
  },
  {
   "cell_type": "markdown",
   "metadata": {},
   "source": [
    "in the view of accuracy: **Neural network(0.8109)> SVM (0.8085) > logistic regression (0.8076)>random forest(0.7981)**\n",
    "In fact, i think the four models are all good predictor (over 0.8). however,because the **data is imbalanced!**, i prefer \n",
    "to compare the  recall and f1-score rather than accuracy!!\n",
    "\n",
    "besides, the **precision is more important than recall in this customer churn prediction project, **\n",
    "for we take more care on dicovering the targeted customers precisely and make eﬀective strategies.( precision: P=TP/(TP+FP) )\n",
    "and classifing loyal customers into churn group would not make any loss.\n",
    "\n",
    "Thus, logistic regression and support vector machine, neural network are a little bit better. "
   ]
  }
 ],
 "metadata": {
  "kernelspec": {
   "display_name": "Python 3",
   "language": "python",
   "name": "python3"
  },
  "language_info": {
   "codemirror_mode": {
    "name": "ipython",
    "version": 3
   },
   "file_extension": ".py",
   "mimetype": "text/x-python",
   "name": "python",
   "nbconvert_exporter": "python",
   "pygments_lexer": "ipython3",
   "version": "3.6.6"
  }
 },
 "nbformat": 4,
 "nbformat_minor": 1
}
