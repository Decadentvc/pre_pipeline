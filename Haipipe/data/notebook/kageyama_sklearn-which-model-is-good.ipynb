{
 "cells": [
  {
   "cell_type": "markdown",
   "metadata": {
    "_uuid": "f45b6018ac0580a5f111b6f1a225bb31924f5e22"
   },
   "source": [
    "# Introduction\n",
    "I'll build a model with logistic regression, SVM and random forest by using sklearn.  \n",
    "And I'll evaluate the three models and consider which one to choose."
   ]
  },
  {
   "cell_type": "code",
   "execution_count": 1,
   "metadata": {
    "_cell_guid": "b1076dfc-b9ad-4769-8c92-a6c4dae69d19",
    "_uuid": "8f2839f25d086af736a60e9eeb907d3b93b6e0e5"
   },
   "outputs": [
    {
     "name": "stdout",
     "output_type": "stream",
     "text": [
      "['heart.csv']\n"
     ]
    }
   ],
   "source": [
    "# This Python 3 environment comes with many helpful analytics libraries installed\n",
    "# It is defined by the kaggle/python docker image: https://github.com/kaggle/docker-python\n",
    "# For example, here's several helpful packages to load in \n",
    "\n",
    "import numpy as np # linear algebra\n",
    "import pandas as pd # data processing, CSV file I/O (e.g. pd.read_csv)\n",
    "\n",
    "# Input data files are available in the \"../input/\" directory.\n",
    "# For example, running this (by clicking run or pressing Shift+Enter) will list the files in the input directory\n",
    "\n",
    "import os\n",
    "print(os.listdir(\"../input\"))\n",
    "\n",
    "# Any results you write to the current directory are saved as output."
   ]
  },
  {
   "cell_type": "code",
   "execution_count": 2,
   "metadata": {
    "_uuid": "21150d173711254605c7c9d9cd398a81261032df"
   },
   "outputs": [],
   "source": [
    "from sklearn.model_selection import train_test_split\n",
    "from sklearn.preprocessing import StandardScaler\n",
    "from sklearn.svm import SVC\n",
    "from sklearn.ensemble import RandomForestClassifier\n",
    "from sklearn.linear_model import LogisticRegression\n",
    "from sklearn.model_selection import GridSearchCV\n",
    "from sklearn.metrics import classification_report\n",
    "from sklearn.model_selection import cross_val_score\n",
    "from sklearn.metrics import roc_auc_score\n",
    "import warnings\n",
    "from sklearn.exceptions import ConvergenceWarning\n",
    "warnings.filterwarnings(action='ignore', category=ConvergenceWarning)\n",
    "warnings.filterwarnings(action='ignore', category=DeprecationWarning)"
   ]
  },
  {
   "cell_type": "markdown",
   "metadata": {
    "_uuid": "582df34e875341b9cc0a4c533a29c4ae31858996"
   },
   "source": [
    "## Load and check the dataset"
   ]
  },
  {
   "cell_type": "code",
   "execution_count": 3,
   "metadata": {
    "_cell_guid": "79c7e3d0-c299-4dcb-8224-4455121ee9b0",
    "_uuid": "d629ff2d2480ee46fbb7e2d37f6b5fab8052498a"
   },
   "outputs": [],
   "source": [
    "data = pd.read_csv('../input/heart.csv')"
   ]
  },
  {
   "cell_type": "code",
   "execution_count": 4,
   "metadata": {
    "_uuid": "603e9814aeb5b75fc4c4dc56e3fce9260966b329"
   },
   "outputs": [
    {
     "data": {
      "text/html": [
       "<div>\n",
       "<style scoped>\n",
       "    .dataframe tbody tr th:only-of-type {\n",
       "        vertical-align: middle;\n",
       "    }\n",
       "\n",
       "    .dataframe tbody tr th {\n",
       "        vertical-align: top;\n",
       "    }\n",
       "\n",
       "    .dataframe thead th {\n",
       "        text-align: right;\n",
       "    }\n",
       "</style>\n",
       "<table border=\"1\" class=\"dataframe\">\n",
       "  <thead>\n",
       "    <tr style=\"text-align: right;\">\n",
       "      <th></th>\n",
       "      <th>age</th>\n",
       "      <th>sex</th>\n",
       "      <th>cp</th>\n",
       "      <th>trestbps</th>\n",
       "      <th>chol</th>\n",
       "      <th>fbs</th>\n",
       "      <th>restecg</th>\n",
       "      <th>thalach</th>\n",
       "      <th>exang</th>\n",
       "      <th>oldpeak</th>\n",
       "      <th>slope</th>\n",
       "      <th>ca</th>\n",
       "      <th>thal</th>\n",
       "      <th>target</th>\n",
       "    </tr>\n",
       "  </thead>\n",
       "  <tbody>\n",
       "    <tr>\n",
       "      <th>0</th>\n",
       "      <td>63</td>\n",
       "      <td>1</td>\n",
       "      <td>3</td>\n",
       "      <td>145</td>\n",
       "      <td>233</td>\n",
       "      <td>1</td>\n",
       "      <td>0</td>\n",
       "      <td>150</td>\n",
       "      <td>0</td>\n",
       "      <td>2.3</td>\n",
       "      <td>0</td>\n",
       "      <td>0</td>\n",
       "      <td>1</td>\n",
       "      <td>1</td>\n",
       "    </tr>\n",
       "    <tr>\n",
       "      <th>1</th>\n",
       "      <td>37</td>\n",
       "      <td>1</td>\n",
       "      <td>2</td>\n",
       "      <td>130</td>\n",
       "      <td>250</td>\n",
       "      <td>0</td>\n",
       "      <td>1</td>\n",
       "      <td>187</td>\n",
       "      <td>0</td>\n",
       "      <td>3.5</td>\n",
       "      <td>0</td>\n",
       "      <td>0</td>\n",
       "      <td>2</td>\n",
       "      <td>1</td>\n",
       "    </tr>\n",
       "    <tr>\n",
       "      <th>2</th>\n",
       "      <td>41</td>\n",
       "      <td>0</td>\n",
       "      <td>1</td>\n",
       "      <td>130</td>\n",
       "      <td>204</td>\n",
       "      <td>0</td>\n",
       "      <td>0</td>\n",
       "      <td>172</td>\n",
       "      <td>0</td>\n",
       "      <td>1.4</td>\n",
       "      <td>2</td>\n",
       "      <td>0</td>\n",
       "      <td>2</td>\n",
       "      <td>1</td>\n",
       "    </tr>\n",
       "    <tr>\n",
       "      <th>3</th>\n",
       "      <td>56</td>\n",
       "      <td>1</td>\n",
       "      <td>1</td>\n",
       "      <td>120</td>\n",
       "      <td>236</td>\n",
       "      <td>0</td>\n",
       "      <td>1</td>\n",
       "      <td>178</td>\n",
       "      <td>0</td>\n",
       "      <td>0.8</td>\n",
       "      <td>2</td>\n",
       "      <td>0</td>\n",
       "      <td>2</td>\n",
       "      <td>1</td>\n",
       "    </tr>\n",
       "    <tr>\n",
       "      <th>4</th>\n",
       "      <td>57</td>\n",
       "      <td>0</td>\n",
       "      <td>0</td>\n",
       "      <td>120</td>\n",
       "      <td>354</td>\n",
       "      <td>0</td>\n",
       "      <td>1</td>\n",
       "      <td>163</td>\n",
       "      <td>1</td>\n",
       "      <td>0.6</td>\n",
       "      <td>2</td>\n",
       "      <td>0</td>\n",
       "      <td>2</td>\n",
       "      <td>1</td>\n",
       "    </tr>\n",
       "  </tbody>\n",
       "</table>\n",
       "</div>"
      ],
      "text/plain": [
       "   age  sex  cp  trestbps  chol   ...    oldpeak  slope  ca  thal  target\n",
       "0   63    1   3       145   233   ...        2.3      0   0     1       1\n",
       "1   37    1   2       130   250   ...        3.5      0   0     2       1\n",
       "2   41    0   1       130   204   ...        1.4      2   0     2       1\n",
       "3   56    1   1       120   236   ...        0.8      2   0     2       1\n",
       "4   57    0   0       120   354   ...        0.6      2   0     2       1\n",
       "\n",
       "[5 rows x 14 columns]"
      ]
     },
     "execution_count": 4,
     "metadata": {},
     "output_type": "execute_result"
    }
   ],
   "source": [
    "data.head()"
   ]
  },
  {
   "cell_type": "code",
   "execution_count": 5,
   "metadata": {
    "_uuid": "e365517af21bcb833ddc1ecf5d4e5e9b4b50cc66"
   },
   "outputs": [
    {
     "data": {
      "text/plain": [
       "age           int64\n",
       "sex           int64\n",
       "cp            int64\n",
       "trestbps      int64\n",
       "chol          int64\n",
       "fbs           int64\n",
       "restecg       int64\n",
       "thalach       int64\n",
       "exang         int64\n",
       "oldpeak     float64\n",
       "slope         int64\n",
       "ca            int64\n",
       "thal          int64\n",
       "target        int64\n",
       "dtype: object"
      ]
     },
     "execution_count": 5,
     "metadata": {},
     "output_type": "execute_result"
    }
   ],
   "source": [
    "data.dtypes"
   ]
  },
  {
   "cell_type": "code",
   "execution_count": 6,
   "metadata": {
    "_uuid": "a05d28ee4766d14b133cb0a462b7a085d55738ba"
   },
   "outputs": [
    {
     "data": {
      "text/plain": [
       "age         0\n",
       "sex         0\n",
       "cp          0\n",
       "trestbps    0\n",
       "chol        0\n",
       "fbs         0\n",
       "restecg     0\n",
       "thalach     0\n",
       "exang       0\n",
       "oldpeak     0\n",
       "slope       0\n",
       "ca          0\n",
       "thal        0\n",
       "target      0\n",
       "dtype: int64"
      ]
     },
     "execution_count": 6,
     "metadata": {},
     "output_type": "execute_result"
    }
   ],
   "source": [
    "data.isnull().sum()"
   ]
  },
  {
   "cell_type": "markdown",
   "metadata": {
    "_uuid": "fee59fac4e68a3593c464edd27941bcb9cd10b2e"
   },
   "source": [
    "\n",
    "All columns are numerical.  \n",
    "However, there are columns that should be treated as categories rather than numbers. "
   ]
  },
  {
   "cell_type": "code",
   "execution_count": 7,
   "metadata": {
    "_uuid": "09bd74e60e03cd952905cba3ea1e1bafab9123b1"
   },
   "outputs": [
    {
     "data": {
      "text/html": [
       "<div>\n",
       "<style scoped>\n",
       "    .dataframe tbody tr th:only-of-type {\n",
       "        vertical-align: middle;\n",
       "    }\n",
       "\n",
       "    .dataframe tbody tr th {\n",
       "        vertical-align: top;\n",
       "    }\n",
       "\n",
       "    .dataframe thead th {\n",
       "        text-align: right;\n",
       "    }\n",
       "</style>\n",
       "<table border=\"1\" class=\"dataframe\">\n",
       "  <thead>\n",
       "    <tr style=\"text-align: right;\">\n",
       "      <th></th>\n",
       "      <th>age</th>\n",
       "      <th>sex</th>\n",
       "      <th>trestbps</th>\n",
       "      <th>chol</th>\n",
       "      <th>fbs</th>\n",
       "      <th>thalach</th>\n",
       "      <th>exang</th>\n",
       "      <th>oldpeak</th>\n",
       "      <th>target</th>\n",
       "      <th>cp_1</th>\n",
       "      <th>cp_2</th>\n",
       "      <th>cp_3</th>\n",
       "      <th>restecg_1</th>\n",
       "      <th>restecg_2</th>\n",
       "      <th>slope_1</th>\n",
       "      <th>slope_2</th>\n",
       "      <th>ca_1</th>\n",
       "      <th>ca_2</th>\n",
       "      <th>ca_3</th>\n",
       "      <th>ca_4</th>\n",
       "      <th>thal_1</th>\n",
       "      <th>thal_2</th>\n",
       "      <th>thal_3</th>\n",
       "    </tr>\n",
       "  </thead>\n",
       "  <tbody>\n",
       "    <tr>\n",
       "      <th>0</th>\n",
       "      <td>63</td>\n",
       "      <td>1</td>\n",
       "      <td>145</td>\n",
       "      <td>233</td>\n",
       "      <td>1</td>\n",
       "      <td>150</td>\n",
       "      <td>0</td>\n",
       "      <td>2.3</td>\n",
       "      <td>1</td>\n",
       "      <td>0</td>\n",
       "      <td>0</td>\n",
       "      <td>1</td>\n",
       "      <td>0</td>\n",
       "      <td>0</td>\n",
       "      <td>0</td>\n",
       "      <td>0</td>\n",
       "      <td>0</td>\n",
       "      <td>0</td>\n",
       "      <td>0</td>\n",
       "      <td>0</td>\n",
       "      <td>1</td>\n",
       "      <td>0</td>\n",
       "      <td>0</td>\n",
       "    </tr>\n",
       "    <tr>\n",
       "      <th>1</th>\n",
       "      <td>37</td>\n",
       "      <td>1</td>\n",
       "      <td>130</td>\n",
       "      <td>250</td>\n",
       "      <td>0</td>\n",
       "      <td>187</td>\n",
       "      <td>0</td>\n",
       "      <td>3.5</td>\n",
       "      <td>1</td>\n",
       "      <td>0</td>\n",
       "      <td>1</td>\n",
       "      <td>0</td>\n",
       "      <td>1</td>\n",
       "      <td>0</td>\n",
       "      <td>0</td>\n",
       "      <td>0</td>\n",
       "      <td>0</td>\n",
       "      <td>0</td>\n",
       "      <td>0</td>\n",
       "      <td>0</td>\n",
       "      <td>0</td>\n",
       "      <td>1</td>\n",
       "      <td>0</td>\n",
       "    </tr>\n",
       "    <tr>\n",
       "      <th>2</th>\n",
       "      <td>41</td>\n",
       "      <td>0</td>\n",
       "      <td>130</td>\n",
       "      <td>204</td>\n",
       "      <td>0</td>\n",
       "      <td>172</td>\n",
       "      <td>0</td>\n",
       "      <td>1.4</td>\n",
       "      <td>1</td>\n",
       "      <td>1</td>\n",
       "      <td>0</td>\n",
       "      <td>0</td>\n",
       "      <td>0</td>\n",
       "      <td>0</td>\n",
       "      <td>0</td>\n",
       "      <td>1</td>\n",
       "      <td>0</td>\n",
       "      <td>0</td>\n",
       "      <td>0</td>\n",
       "      <td>0</td>\n",
       "      <td>0</td>\n",
       "      <td>1</td>\n",
       "      <td>0</td>\n",
       "    </tr>\n",
       "    <tr>\n",
       "      <th>3</th>\n",
       "      <td>56</td>\n",
       "      <td>1</td>\n",
       "      <td>120</td>\n",
       "      <td>236</td>\n",
       "      <td>0</td>\n",
       "      <td>178</td>\n",
       "      <td>0</td>\n",
       "      <td>0.8</td>\n",
       "      <td>1</td>\n",
       "      <td>1</td>\n",
       "      <td>0</td>\n",
       "      <td>0</td>\n",
       "      <td>1</td>\n",
       "      <td>0</td>\n",
       "      <td>0</td>\n",
       "      <td>1</td>\n",
       "      <td>0</td>\n",
       "      <td>0</td>\n",
       "      <td>0</td>\n",
       "      <td>0</td>\n",
       "      <td>0</td>\n",
       "      <td>1</td>\n",
       "      <td>0</td>\n",
       "    </tr>\n",
       "    <tr>\n",
       "      <th>4</th>\n",
       "      <td>57</td>\n",
       "      <td>0</td>\n",
       "      <td>120</td>\n",
       "      <td>354</td>\n",
       "      <td>0</td>\n",
       "      <td>163</td>\n",
       "      <td>1</td>\n",
       "      <td>0.6</td>\n",
       "      <td>1</td>\n",
       "      <td>0</td>\n",
       "      <td>0</td>\n",
       "      <td>0</td>\n",
       "      <td>1</td>\n",
       "      <td>0</td>\n",
       "      <td>0</td>\n",
       "      <td>1</td>\n",
       "      <td>0</td>\n",
       "      <td>0</td>\n",
       "      <td>0</td>\n",
       "      <td>0</td>\n",
       "      <td>0</td>\n",
       "      <td>1</td>\n",
       "      <td>0</td>\n",
       "    </tr>\n",
       "  </tbody>\n",
       "</table>\n",
       "</div>"
      ],
      "text/plain": [
       "   age  sex  trestbps  chol  fbs   ...    ca_3  ca_4  thal_1  thal_2  thal_3\n",
       "0   63    1       145   233    1   ...       0     0       1       0       0\n",
       "1   37    1       130   250    0   ...       0     0       0       1       0\n",
       "2   41    0       130   204    0   ...       0     0       0       1       0\n",
       "3   56    1       120   236    0   ...       0     0       0       1       0\n",
       "4   57    0       120   354    0   ...       0     0       0       1       0\n",
       "\n",
       "[5 rows x 23 columns]"
      ]
     },
     "execution_count": 7,
     "metadata": {},
     "output_type": "execute_result"
    }
   ],
   "source": [
    "data['cp'] = data['cp'].astype(object)\n",
    "data['restecg'] = data['restecg'].astype(object)\n",
    "data['slope'] = data['slope'].astype(object)\n",
    "data['ca'] = data['ca'].astype(object)\n",
    "data['thal'] = data['thal'].astype(object)\n",
    "data = pd.get_dummies(data,drop_first=True)\n",
    "data.head()"
   ]
  },
  {
   "cell_type": "code",
   "execution_count": 8,
   "metadata": {
    "_uuid": "00420331b43915b5572c1cb709ed1e869f53dc67"
   },
   "outputs": [],
   "source": [
    "target = data['target']"
   ]
  },
  {
   "cell_type": "code",
   "execution_count": 9,
   "metadata": {
    "_uuid": "88711e85eabc85e527c2f791105d73d99977acbe"
   },
   "outputs": [],
   "source": [
    "data = data.drop(columns='target')"
   ]
  },
  {
   "cell_type": "code",
   "execution_count": 10,
   "metadata": {
    "_uuid": "ed9a498182f6d088c4d07f52bec3edce1fed9791"
   },
   "outputs": [
    {
     "name": "stderr",
     "output_type": "stream",
     "text": [
      "/opt/conda/lib/python3.6/site-packages/sklearn/preprocessing/data.py:645: DataConversionWarning: Data with input dtype uint8, int64, float64 were all converted to float64 by StandardScaler.\n",
      "  return self.partial_fit(X, y)\n",
      "/opt/conda/lib/python3.6/site-packages/ipykernel_launcher.py:5: DataConversionWarning: Data with input dtype uint8, int64, float64 were all converted to float64 by StandardScaler.\n",
      "  \"\"\"\n",
      "/opt/conda/lib/python3.6/site-packages/ipykernel_launcher.py:6: DataConversionWarning: Data with input dtype uint8, int64, float64 were all converted to float64 by StandardScaler.\n",
      "  \n"
     ]
    }
   ],
   "source": [
    "X_train,X_test,Y_train,Y_test = train_test_split(data,target,random_state=0)\n",
    "scaler = StandardScaler()\n",
    "scaler.fit(X_train)\n",
    "# Logistic Regression and SVM use scaled data.\n",
    "X_train_scaled = scaler.transform(X_train)\n",
    "X_test_scaled = scaler.transform(X_test)"
   ]
  },
  {
   "cell_type": "markdown",
   "metadata": {
    "_uuid": "a0a99a9f7e74ce4ac4faf9f4289ac3ebd4f307b6"
   },
   "source": [
    "This time I'll compare the performance of Logistic Regression, SVM and Random Forest.  \n",
    "*In the code, it is abbreviated as follows.  \n",
    "Logistic Regression : LR  \n",
    "SVM: SVM  \n",
    "Random Forest : RF  "
   ]
  },
  {
   "cell_type": "markdown",
   "metadata": {
    "_uuid": "435ffd709060e8d1f0c5bb94e87294f99cb0a889"
   },
   "source": [
    "## Train three models"
   ]
  },
  {
   "cell_type": "code",
   "execution_count": 11,
   "metadata": {
    "_uuid": "340afd840902ed201001cf822411a20e114e8415"
   },
   "outputs": [
    {
     "data": {
      "text/plain": [
       "GridSearchCV(cv=5, error_score='raise-deprecating',\n",
       "       estimator=RandomForestClassifier(bootstrap=True, class_weight=None, criterion='gini',\n",
       "            max_depth=None, max_features='auto', max_leaf_nodes=None,\n",
       "            min_impurity_decrease=0.0, min_impurity_split=None,\n",
       "            min_samples_leaf=1, min_samples_split=2,\n",
       "            min_weight_fraction_leaf=0.0, n_estimators='warn', n_jobs=None,\n",
       "            oob_score=False, random_state=0, verbose=0, warm_start=False),\n",
       "       fit_params=None, iid='warn', n_jobs=None,\n",
       "       param_grid={'n_estimators': [10, 25, 50, 75, 100, 125, 150], 'max_depth': [1]},\n",
       "       pre_dispatch='2*n_jobs', refit=True, return_train_score='warn',\n",
       "       scoring=None, verbose=0)"
      ]
     },
     "execution_count": 11,
     "metadata": {},
     "output_type": "execute_result"
    }
   ],
   "source": [
    "\n",
    "# LogisticRegression Train\n",
    "param_grid = {'C':[0.001,0.01,0.1,1,10,100],\n",
    "              'solver':['lbfgs','liblinear','sag','saga'],\n",
    "              'max_iter':[1,5,10,25,50,75,100,125,150]}\n",
    "\n",
    "lr = GridSearchCV(LogisticRegression(random_state=0),param_grid,cv=5)\n",
    "lr.fit(X_train_scaled,Y_train)\n",
    "\n",
    "# SVM Train\n",
    "param_grid = {'C':[0.001,0.01,0.1,1,10,100],\n",
    "             'gamma':[0.001,0.01,0.1,1,10,100]}\n",
    "\n",
    "\n",
    "svm = GridSearchCV(SVC(),param_grid,cv=5)\n",
    "svm.fit(X_train_scaled,Y_train)\n",
    "\n",
    "# RandomForest Train\n",
    "# When the depth is 2 or more, it becomes over fitting.\n",
    "param_grid = {'n_estimators':[10,25,50,75,100,125,150],\n",
    "              'max_depth':[1]}\n",
    "\n",
    "rf = GridSearchCV(RandomForestClassifier(random_state=0),param_grid,cv=5)\n",
    "rf.fit(X_train,Y_train)"
   ]
  },
  {
   "cell_type": "code",
   "execution_count": 12,
   "metadata": {
    "_uuid": "53c3ccf0e1f1a0ce7cb4220c8039334e424c060a"
   },
   "outputs": [
    {
     "name": "stdout",
     "output_type": "stream",
     "text": [
      "LogisticRegression train set score: 0.87\n",
      "LogisticRegression test set score: 0.86\n",
      "LogisticRegression best paramerters: {'C': 0.1, 'max_iter': 5, 'solver': 'liblinear'}\n",
      "SVM train set score: 0.84\n",
      "SVM test set score: 0.83\n",
      "SVM best paramerters: {'C': 0.1, 'gamma': 0.01}\n",
      "RandomForest train set score: 0.81\n",
      "RandomForest test set score: 0.79\n",
      "RandomForest best paramerters: {'max_depth': 1, 'n_estimators': 125}\n"
     ]
    }
   ],
   "source": [
    "print('LogisticRegression train set score: {:.2f}'.format(lr.score(X_train_scaled,Y_train)))\n",
    "print('LogisticRegression test set score: {:.2f}'.format(lr.score(X_test_scaled,Y_test)))\n",
    "print('LogisticRegression best paramerters: {}'.format(lr.best_params_))\n",
    "\n",
    "print('SVM train set score: {:.2f}'.format(svm.score(X_train_scaled,Y_train)))\n",
    "print('SVM test set score: {:.2f}'.format(svm.score(X_test_scaled,Y_test)))\n",
    "print('SVM best paramerters: {}'.format(svm.best_params_))\n",
    "\n",
    "print('RandomForest train set score: {:.2f}'.format(rf.score(X_train,Y_train)))\n",
    "print('RandomForest test set score: {:.2f}'.format(rf.score(X_test,Y_test)))\n",
    "print('RandomForest best paramerters: {}'.format(rf.best_params_))"
   ]
  },
  {
   "cell_type": "markdown",
   "metadata": {
    "_uuid": "f5c9f29fa9c506701744266a35bbd671fb12ce95"
   },
   "source": [
    "**Logistic regression has the best result. **  \n",
    "Next, check the result of cross validation.  "
   ]
  },
  {
   "cell_type": "markdown",
   "metadata": {
    "_uuid": "3b7ca5d6719dcb52251477430092fd3e3300aa74"
   },
   "source": [
    "## Check cross-validation score"
   ]
  },
  {
   "cell_type": "code",
   "execution_count": 13,
   "metadata": {
    "_uuid": "c491b48d09d094bdb650ff68dc2417b7d3d0ced9"
   },
   "outputs": [],
   "source": [
    "\n",
    "data = pd.concat([X_train,X_test])\n",
    "data_scaled = np.concatenate([X_train_scaled,X_test_scaled])\n",
    "target = pd.concat([Y_train,Y_test])\n",
    "lr_scores = cross_val_score(lr,data_scaled,target,cv=5)\n",
    "svm_scores = cross_val_score(svm,data_scaled,target,cv=5)\n",
    "rf_scores = cross_val_score(rf,data,target,cv=5)"
   ]
  },
  {
   "cell_type": "code",
   "execution_count": 14,
   "metadata": {
    "_uuid": "5715fcd8192b92a7a2b14c39788af46bc053e48c"
   },
   "outputs": [
    {
     "name": "stdout",
     "output_type": "stream",
     "text": [
      "LR Cross-validation scores:  [0.83606557 0.86885246 0.81967213 0.81666667 0.86666667]\n",
      "LR Mean Cross-validation scores:  0.8415846994535521\n",
      "SVM Cross-validation scores:  [0.81967213 0.85245902 0.81967213 0.8        0.86666667]\n",
      "SVM Mean Cross-validation scores:  0.8316939890710383\n",
      "RF Cross-validation scores:  [0.70491803 0.81967213 0.85245902 0.76666667 0.78333333]\n",
      "RF Mean Cross-validation scores:  0.7854098360655738\n"
     ]
    }
   ],
   "source": [
    "print('LR Cross-validation scores: ',lr_scores)\n",
    "print('LR Mean Cross-validation scores: ',lr_scores.mean())\n",
    "\n",
    "print('SVM Cross-validation scores: ',svm_scores)\n",
    "print('SVM Mean Cross-validation scores: ',svm_scores.mean())\n",
    "\n",
    "print('RF Cross-validation scores: ',rf_scores)\n",
    "print('RF Mean Cross-validation scores: ',rf_scores.mean())"
   ]
  },
  {
   "cell_type": "markdown",
   "metadata": {
    "_uuid": "be92791e430cfff7dea7f01768d7615b58d57272"
   },
   "source": [
    "\n",
    "**As a result of cross validation, the result of logistic regression is the best.**  \n",
    "I'll analyze the results from different perspectives.  "
   ]
  },
  {
   "cell_type": "markdown",
   "metadata": {
    "_uuid": "97aef3809dbbef00bc6157b1ba87d29bb94a733e"
   },
   "source": [
    "## Check precision , recall and f1-score "
   ]
  },
  {
   "cell_type": "code",
   "execution_count": 15,
   "metadata": {
    "_uuid": "c7cd33af8637717727be6b5bd8a252ae44f8cdc1"
   },
   "outputs": [
    {
     "name": "stdout",
     "output_type": "stream",
     "text": [
      "---Classification Report about LR---\n",
      "              precision    recall  f1-score   support\n",
      "\n",
      "           0       0.87      0.79      0.83        33\n",
      "           1       0.85      0.91      0.88        43\n",
      "\n",
      "   micro avg       0.86      0.86      0.86        76\n",
      "   macro avg       0.86      0.85      0.85        76\n",
      "weighted avg       0.86      0.86      0.85        76\n",
      "\n"
     ]
    }
   ],
   "source": [
    "predict = lr.predict(X_test_scaled)\n",
    "print(\"---Classification Report about LR---\")\n",
    "print(classification_report(Y_test,predict))"
   ]
  },
  {
   "cell_type": "code",
   "execution_count": 16,
   "metadata": {
    "_uuid": "addba6972d8ddcedf9a5471d32de676ab090e4f7"
   },
   "outputs": [
    {
     "name": "stdout",
     "output_type": "stream",
     "text": [
      "---Classification Report about SVM---\n",
      "              precision    recall  f1-score   support\n",
      "\n",
      "           0       0.83      0.76      0.79        33\n",
      "           1       0.83      0.88      0.85        43\n",
      "\n",
      "   micro avg       0.83      0.83      0.83        76\n",
      "   macro avg       0.83      0.82      0.82        76\n",
      "weighted avg       0.83      0.83      0.83        76\n",
      "\n"
     ]
    }
   ],
   "source": [
    "predict = svm.predict(X_test_scaled)\n",
    "print(\"---Classification Report about SVM---\")\n",
    "print(classification_report(Y_test,predict))"
   ]
  },
  {
   "cell_type": "code",
   "execution_count": 17,
   "metadata": {
    "_uuid": "27bae264e424012f70e50cf8b8781a11b0b91950"
   },
   "outputs": [
    {
     "name": "stdout",
     "output_type": "stream",
     "text": [
      "---Classification Report about RF---\n",
      "              precision    recall  f1-score   support\n",
      "\n",
      "           0       0.81      0.67      0.73        33\n",
      "           1       0.78      0.88      0.83        43\n",
      "\n",
      "   micro avg       0.79      0.79      0.79        76\n",
      "   macro avg       0.80      0.78      0.78        76\n",
      "weighted avg       0.79      0.79      0.79        76\n",
      "\n"
     ]
    }
   ],
   "source": [
    "predict = rf.predict(X_test)\n",
    "print(\"---Classification Report about RF---\")\n",
    "print(classification_report(Y_test,predict))"
   ]
  },
  {
   "cell_type": "markdown",
   "metadata": {
    "_uuid": "fbf0117c673fbcda0ed83e1ce8f37e9028f55432"
   },
   "source": [
    "\n",
    "The above shows **precision, recall, f1-score** of the three models.  \n",
    "  \n",
    "I'll clarify each definition.  \n",
    "![](https://cdn-ak.f.st-hatena.com/images/fotolife/p/protoidea/20190210/20190210130811.png)  \n",
    "  \n",
    "**precision = TP/(TP + FP)  \n",
    "recall = TP/(TP+FN)  \n",
    "f1-score = 2 * (precision * recall)/(presion + recall)  \n",
    "TPR = recall  \n",
    "FPR = FP/(FP + TN)**  \n",
    "  \n",
    "Next, let's check the precision-recall-curve and ROC-curve."
   ]
  },
  {
   "cell_type": "markdown",
   "metadata": {
    "_uuid": "92085b8db26488da9ecffa59e2523a2525c7715f"
   },
   "source": [
    "## Check precision-recall-curve and ROC-curve"
   ]
  },
  {
   "cell_type": "code",
   "execution_count": 18,
   "metadata": {
    "_uuid": "05a7d4dd3a6afc09c7d0de08dcdb510d235ff39b"
   },
   "outputs": [
    {
     "data": {
      "text/plain": [
       "<matplotlib.legend.Legend at 0x7f8b1e3489e8>"
      ]
     },
     "execution_count": 18,
     "metadata": {},
     "output_type": "execute_result"
    },
    {
     "data": {
      "image/png": "[encoded data removed]",
      "text/plain": [
       "<Figure size 432x288 with 1 Axes>"
      ]
     },
     "metadata": {},
     "output_type": "display_data"
    }
   ],
   "source": [
    "import matplotlib.pyplot as plt\n",
    "from sklearn.metrics import roc_curve\n",
    "from sklearn.metrics import precision_recall_curve\n",
    "precision_lr,recall_lr,thresholds_lr = precision_recall_curve(Y_test,lr.decision_function(X_test_scaled))\n",
    "precision_svm,recall_svm,thresholds_svm = precision_recall_curve(Y_test,svm.decision_function(X_test_scaled))\n",
    "precision_rf,recall_rf,thresholds_rf = precision_recall_curve(Y_test,rf.predict_proba(X_test)[:,1])\n",
    "\n",
    "plt.plot(precision_lr,recall_lr,label='LR')\n",
    "plt.plot(precision_svm,recall_svm,label='SVM')\n",
    "plt.plot(precision_rf,recall_rf,label='RF')\n",
    "\n",
    "close_zero_lr = np.argmin(np.abs(thresholds_lr))\n",
    "close_zero_svm = np.argmin(np.abs(thresholds_svm))\n",
    "close_default_rf = np.argmin(np.abs(thresholds_rf -0.5))\n",
    "\n",
    "plt.plot(precision_lr[close_zero_lr],recall_lr[close_zero_lr],'o',markersize=10,label=\"threshold zero lr\",fillstyle=\"none\",mew=2)\n",
    "plt.plot(precision_svm[close_zero_svm],recall_svm[close_zero_svm],'^',markersize=10,label=\"threshold zero svm\",fillstyle=\"none\",mew=2)\n",
    "plt.plot(precision_rf[close_default_rf],recall_rf[close_default_rf],'x',markersize=10,label=\"threshold 0.5 rf\",fillstyle=\"none\",mew=2)\n",
    "\n",
    "plt.xlabel('Precision')\n",
    "plt.ylabel('Recall')\n",
    "plt.legend()\n"
   ]
  },
  {
   "cell_type": "code",
   "execution_count": 19,
   "metadata": {
    "_uuid": "20ae3a27c7e2d675d173bf71f35f94ccec45c252"
   },
   "outputs": [
    {
     "data": {
      "text/plain": [
       "<matplotlib.legend.Legend at 0x7f8b14614320>"
      ]
     },
     "execution_count": 19,
     "metadata": {},
     "output_type": "execute_result"
    },
    {
     "data": {
      "image/png": "[encoded data removed]",
      "text/plain": [
       "<Figure size 432x288 with 1 Axes>"
      ]
     },
     "metadata": {},
     "output_type": "display_data"
    }
   ],
   "source": [
    "fpr_lr,tpr_lr,thresholds_lr = roc_curve(Y_test,lr.decision_function(X_test_scaled))\n",
    "fpr_svm,tpr_svm,thresholds_svm = roc_curve(Y_test,svm.decision_function(X_test_scaled))\n",
    "fpr_rf,tpr_rf,thresholds_rf = roc_curve(Y_test,rf.predict_proba(X_test)[:,1])\n",
    "\n",
    "plt.plot(fpr_lr,tpr_lr,label=\"ROC Curve LR\")\n",
    "plt.plot(fpr_svm,tpr_svm,label=\"ROC Curve SVM\")\n",
    "plt.plot(fpr_rf,tpr_rf,label=\"ROC Curve RF\")\n",
    "\n",
    "close_zero_lr = np.argmin(np.abs(thresholds_lr))\n",
    "close_zero_svm = np.argmin(np.abs(thresholds_svm))\n",
    "close_default_rf = np.argmin(np.abs(thresholds_rf -0.5))\n",
    "\n",
    "plt.plot(fpr_lr[close_zero_lr],tpr_lr[close_zero_lr],'o',markersize=10,label=\"threshold zero lr\",fillstyle=\"none\",mew=2)\n",
    "plt.plot(fpr_svm[close_zero_svm],tpr_svm[close_zero_svm],'^',markersize=10,label=\"threshold zero svm\",fillstyle=\"none\",mew=2)\n",
    "plt.plot(fpr_rf[close_default_rf],tpr_rf[close_default_rf],'x',markersize=10,label=\"threshold 0.5 rf\",fillstyle=\"none\",mew=2)\n",
    "\n",
    "plt.xlabel(\"FPR\")\n",
    "plt.ylabel(\"TPR\")\n",
    "plt.legend(loc=4)\n"
   ]
  },
  {
   "cell_type": "markdown",
   "metadata": {
    "_uuid": "58a3f3f6fdd8dcd0a4538ffac3629ebc022a18d5"
   },
   "source": [
    "Logistic regression and SVM have marked a threshold of 0, marking 0.5 in random forest.  \n",
    "Logistic regression has good results in total.  \n",
    "But, if you want to raise 'recall', it seems better to use SVM.  \n",
    "I guess that  **It is important to increase 'recall' in this problem** , because It is dangerous to mistakenly predict that heart disease is not a heart disease.  \n",
    "I think we should choose SVM that can increase recall while keeping precison high."
   ]
  }
 ],
 "metadata": {
  "kernelspec": {
   "display_name": "Python 3",
   "language": "python",
   "name": "python3"
  },
  "language_info": {
   "codemirror_mode": {
    "name": "ipython",
    "version": 3
   },
   "file_extension": ".py",
   "mimetype": "text/x-python",
   "name": "python",
   "nbconvert_exporter": "python",
   "pygments_lexer": "ipython3",
   "version": "3.6.6"
  }
 },
 "nbformat": 4,
 "nbformat_minor": 1
}
