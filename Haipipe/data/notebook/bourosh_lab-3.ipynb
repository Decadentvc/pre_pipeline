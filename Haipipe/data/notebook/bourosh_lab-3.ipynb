{
 "cells": [
  {
   "cell_type": "markdown",
   "metadata": {
    "papermill": {
     "duration": 0.064259,
     "end_time": "2020-10-19T09:41:48.267715",
     "exception": false,
     "start_time": "2020-10-19T09:41:48.203456",
     "status": "completed"
    },
    "tags": []
   },
   "source": [
    "**Д е р е в ь я р е ш е н и й и с л у ч а й н ы й л е с**"
   ]
  },
  {
   "cell_type": "markdown",
   "metadata": {
    "papermill": {
     "duration": 0.060837,
     "end_time": "2020-10-19T09:41:48.390978",
     "exception": false,
     "start_time": "2020-10-19T09:41:48.330141",
     "status": "completed"
    },
    "tags": []
   },
   "source": [
    "1 Деревья решений"
   ]
  },
  {
   "cell_type": "markdown",
   "metadata": {
    "papermill": {
     "duration": 0.060538,
     "end_time": "2020-10-19T09:41:48.512950",
     "exception": false,
     "start_time": "2020-10-19T09:41:48.452412",
     "status": "completed"
    },
    "tags": []
   },
   "source": [
    "Разберитесь в том , как устроен ваш датасет и какова постановка задачи . Сделайте необходимый препроцессинг данных ( удаление лишних признаков , кодирование категориальных признаков, логарифмирование целевой переменной,масштабирование) ."
   ]
  },
  {
   "cell_type": "code",
   "execution_count": 1,
   "metadata": {
    "_cell_guid": "b1076dfc-b9ad-4769-8c92-a6c4dae69d19",
    "_uuid": "8f2839f25d086af736a60e9eeb907d3b93b6e0e5",
    "execution": {
     "iopub.execute_input": "2020-10-19T09:41:48.645918Z",
     "iopub.status.busy": "2020-10-19T09:41:48.644837Z",
     "iopub.status.idle": "2020-10-19T09:41:49.847443Z",
     "shell.execute_reply": "2020-10-19T09:41:49.846188Z"
    },
    "papermill": {
     "duration": 1.273578,
     "end_time": "2020-10-19T09:41:49.847723",
     "exception": false,
     "start_time": "2020-10-19T09:41:48.574145",
     "status": "completed"
    },
    "tags": []
   },
   "outputs": [
    {
     "name": "stdout",
     "output_type": "stream",
     "text": [
      "/kaggle/input/bank-marketing-dataset/bank.csv\n"
     ]
    }
   ],
   "source": [
    "# This Python 3 environment comes with many helpful analytics libraries installed\n",
    "# It is defined by the kaggle/python Docker image: https://github.com/kaggle/docker-python\n",
    "# For example, here's several helpful packages to load\n",
    "\n",
    "import numpy as np # linear algebra\n",
    "import pandas as pd # data processing, CSV file I/O (e.g. pd.read_csv)\n",
    "import pandas as pd\n",
    "import seaborn as sns\n",
    "import matplotlib.pyplot as plt\n",
    "\n",
    "# Input data files are available in the read-only \"../input/\" directory\n",
    "# For example, running this (by clicking run or pressing Shift+Enter) will list all files under the input directory\n",
    "\n",
    "import os\n",
    "for dirname, _, filenames in os.walk('/kaggle/input'):\n",
    "    for filename in filenames:\n",
    "        print(os.path.join(dirname, filename))\n",
    "\n",
    "# You can write up to 5GB to the current directory (/kaggle/working/) that gets preserved as output when you create a version using \"Save & Run All\" \n",
    "# You can also write temporary files to /kaggle/temp/, but they won't be saved outside of the current session"
   ]
  },
  {
   "cell_type": "code",
   "execution_count": 2,
   "metadata": {
    "_cell_guid": "79c7e3d0-c299-4dcb-8224-4455121ee9b0",
    "_uuid": "d629ff2d2480ee46fbb7e2d37f6b5fab8052498a",
    "execution": {
     "iopub.execute_input": "2020-10-19T09:41:49.981716Z",
     "iopub.status.busy": "2020-10-19T09:41:49.980805Z",
     "iopub.status.idle": "2020-10-19T09:41:50.039296Z",
     "shell.execute_reply": "2020-10-19T09:41:50.038506Z"
    },
    "papermill": {
     "duration": 0.12757,
     "end_time": "2020-10-19T09:41:50.039469",
     "exception": false,
     "start_time": "2020-10-19T09:41:49.911899",
     "status": "completed"
    },
    "tags": []
   },
   "outputs": [],
   "source": [
    "df = pd.read_csv(\"/kaggle/input/bank-marketing-dataset/bank.csv\")\n",
    "# Загружаем данные"
   ]
  },
  {
   "cell_type": "code",
   "execution_count": 3,
   "metadata": {
    "execution": {
     "iopub.execute_input": "2020-10-19T09:41:50.191531Z",
     "iopub.status.busy": "2020-10-19T09:41:50.189425Z",
     "iopub.status.idle": "2020-10-19T09:41:50.209323Z",
     "shell.execute_reply": "2020-10-19T09:41:50.208598Z"
    },
    "papermill": {
     "duration": 0.10655,
     "end_time": "2020-10-19T09:41:50.209469",
     "exception": false,
     "start_time": "2020-10-19T09:41:50.102919",
     "status": "completed"
    },
    "tags": []
   },
   "outputs": [
    {
     "name": "stdout",
     "output_type": "stream",
     "text": [
      "<class 'pandas.core.frame.DataFrame'>\n",
      "RangeIndex: 11162 entries, 0 to 11161\n",
      "Data columns (total 17 columns):\n",
      " #   Column     Non-Null Count  Dtype \n",
      "---  ------     --------------  ----- \n",
      " 0   age        11162 non-null  int64 \n",
      " 1   job        11162 non-null  object\n",
      " 2   marital    11162 non-null  object\n",
      " 3   education  11162 non-null  object\n",
      " 4   default    11162 non-null  object\n",
      " 5   balance    11162 non-null  int64 \n",
      " 6   housing    11162 non-null  object\n",
      " 7   loan       11162 non-null  object\n",
      " 8   contact    11162 non-null  object\n",
      " 9   day        11162 non-null  int64 \n",
      " 10  month      11162 non-null  object\n",
      " 11  duration   11162 non-null  int64 \n",
      " 12  campaign   11162 non-null  int64 \n",
      " 13  pdays      11162 non-null  int64 \n",
      " 14  previous   11162 non-null  int64 \n",
      " 15  poutcome   11162 non-null  object\n",
      " 16  deposit    11162 non-null  object\n",
      "dtypes: int64(7), object(10)\n",
      "memory usage: 1.4+ MB\n"
     ]
    }
   ],
   "source": [
    "df.info()"
   ]
  },
  {
   "cell_type": "code",
   "execution_count": 4,
   "metadata": {
    "execution": {
     "iopub.execute_input": "2020-10-19T09:41:50.351548Z",
     "iopub.status.busy": "2020-10-19T09:41:50.350638Z",
     "iopub.status.idle": "2020-10-19T09:41:50.368865Z",
     "shell.execute_reply": "2020-10-19T09:41:50.368241Z"
    },
    "papermill": {
     "duration": 0.097479,
     "end_time": "2020-10-19T09:41:50.369024",
     "exception": false,
     "start_time": "2020-10-19T09:41:50.271545",
     "status": "completed"
    },
    "tags": []
   },
   "outputs": [
    {
     "data": {
      "text/html": [
       "<div>\n",
       "<style scoped>\n",
       "    .dataframe tbody tr th:only-of-type {\n",
       "        vertical-align: middle;\n",
       "    }\n",
       "\n",
       "    .dataframe tbody tr th {\n",
       "        vertical-align: top;\n",
       "    }\n",
       "\n",
       "    .dataframe thead th {\n",
       "        text-align: right;\n",
       "    }\n",
       "</style>\n",
       "<table border=\"1\" class=\"dataframe\">\n",
       "  <thead>\n",
       "    <tr style=\"text-align: right;\">\n",
       "      <th></th>\n",
       "      <th>age</th>\n",
       "      <th>job</th>\n",
       "      <th>marital</th>\n",
       "      <th>education</th>\n",
       "      <th>default</th>\n",
       "      <th>balance</th>\n",
       "      <th>housing</th>\n",
       "      <th>loan</th>\n",
       "      <th>contact</th>\n",
       "      <th>day</th>\n",
       "      <th>month</th>\n",
       "      <th>duration</th>\n",
       "      <th>campaign</th>\n",
       "      <th>pdays</th>\n",
       "      <th>previous</th>\n",
       "      <th>poutcome</th>\n",
       "      <th>deposit</th>\n",
       "    </tr>\n",
       "  </thead>\n",
       "  <tbody>\n",
       "    <tr>\n",
       "      <th>0</th>\n",
       "      <td>59</td>\n",
       "      <td>admin.</td>\n",
       "      <td>married</td>\n",
       "      <td>secondary</td>\n",
       "      <td>no</td>\n",
       "      <td>2343</td>\n",
       "      <td>yes</td>\n",
       "      <td>no</td>\n",
       "      <td>unknown</td>\n",
       "      <td>5</td>\n",
       "      <td>may</td>\n",
       "      <td>1042</td>\n",
       "      <td>1</td>\n",
       "      <td>-1</td>\n",
       "      <td>0</td>\n",
       "      <td>unknown</td>\n",
       "      <td>yes</td>\n",
       "    </tr>\n",
       "    <tr>\n",
       "      <th>1</th>\n",
       "      <td>56</td>\n",
       "      <td>admin.</td>\n",
       "      <td>married</td>\n",
       "      <td>secondary</td>\n",
       "      <td>no</td>\n",
       "      <td>45</td>\n",
       "      <td>no</td>\n",
       "      <td>no</td>\n",
       "      <td>unknown</td>\n",
       "      <td>5</td>\n",
       "      <td>may</td>\n",
       "      <td>1467</td>\n",
       "      <td>1</td>\n",
       "      <td>-1</td>\n",
       "      <td>0</td>\n",
       "      <td>unknown</td>\n",
       "      <td>yes</td>\n",
       "    </tr>\n",
       "    <tr>\n",
       "      <th>2</th>\n",
       "      <td>41</td>\n",
       "      <td>technician</td>\n",
       "      <td>married</td>\n",
       "      <td>secondary</td>\n",
       "      <td>no</td>\n",
       "      <td>1270</td>\n",
       "      <td>yes</td>\n",
       "      <td>no</td>\n",
       "      <td>unknown</td>\n",
       "      <td>5</td>\n",
       "      <td>may</td>\n",
       "      <td>1389</td>\n",
       "      <td>1</td>\n",
       "      <td>-1</td>\n",
       "      <td>0</td>\n",
       "      <td>unknown</td>\n",
       "      <td>yes</td>\n",
       "    </tr>\n",
       "    <tr>\n",
       "      <th>3</th>\n",
       "      <td>55</td>\n",
       "      <td>services</td>\n",
       "      <td>married</td>\n",
       "      <td>secondary</td>\n",
       "      <td>no</td>\n",
       "      <td>2476</td>\n",
       "      <td>yes</td>\n",
       "      <td>no</td>\n",
       "      <td>unknown</td>\n",
       "      <td>5</td>\n",
       "      <td>may</td>\n",
       "      <td>579</td>\n",
       "      <td>1</td>\n",
       "      <td>-1</td>\n",
       "      <td>0</td>\n",
       "      <td>unknown</td>\n",
       "      <td>yes</td>\n",
       "    </tr>\n",
       "    <tr>\n",
       "      <th>4</th>\n",
       "      <td>54</td>\n",
       "      <td>admin.</td>\n",
       "      <td>married</td>\n",
       "      <td>tertiary</td>\n",
       "      <td>no</td>\n",
       "      <td>184</td>\n",
       "      <td>no</td>\n",
       "      <td>no</td>\n",
       "      <td>unknown</td>\n",
       "      <td>5</td>\n",
       "      <td>may</td>\n",
       "      <td>673</td>\n",
       "      <td>2</td>\n",
       "      <td>-1</td>\n",
       "      <td>0</td>\n",
       "      <td>unknown</td>\n",
       "      <td>yes</td>\n",
       "    </tr>\n",
       "  </tbody>\n",
       "</table>\n",
       "</div>"
      ],
      "text/plain": [
       "   age         job  marital  education default  balance housing loan  contact  \\\n",
       "0   59      admin.  married  secondary      no     2343     yes   no  unknown   \n",
       "1   56      admin.  married  secondary      no       45      no   no  unknown   \n",
       "2   41  technician  married  secondary      no     1270     yes   no  unknown   \n",
       "3   55    services  married  secondary      no     2476     yes   no  unknown   \n",
       "4   54      admin.  married   tertiary      no      184      no   no  unknown   \n",
       "\n",
       "   day month  duration  campaign  pdays  previous poutcome deposit  \n",
       "0    5   may      1042         1     -1         0  unknown     yes  \n",
       "1    5   may      1467         1     -1         0  unknown     yes  \n",
       "2    5   may      1389         1     -1         0  unknown     yes  \n",
       "3    5   may       579         1     -1         0  unknown     yes  \n",
       "4    5   may       673         2     -1         0  unknown     yes  "
      ]
     },
     "execution_count": 4,
     "metadata": {},
     "output_type": "execute_result"
    }
   ],
   "source": [
    "df.head()"
   ]
  },
  {
   "cell_type": "code",
   "execution_count": 5,
   "metadata": {
    "execution": {
     "iopub.execute_input": "2020-10-19T09:41:50.505544Z",
     "iopub.status.busy": "2020-10-19T09:41:50.504649Z",
     "iopub.status.idle": "2020-10-19T09:41:50.541735Z",
     "shell.execute_reply": "2020-10-19T09:41:50.541036Z"
    },
    "papermill": {
     "duration": 0.109417,
     "end_time": "2020-10-19T09:41:50.541880",
     "exception": false,
     "start_time": "2020-10-19T09:41:50.432463",
     "status": "completed"
    },
    "tags": []
   },
   "outputs": [
    {
     "data": {
      "text/html": [
       "<div>\n",
       "<style scoped>\n",
       "    .dataframe tbody tr th:only-of-type {\n",
       "        vertical-align: middle;\n",
       "    }\n",
       "\n",
       "    .dataframe tbody tr th {\n",
       "        vertical-align: top;\n",
       "    }\n",
       "\n",
       "    .dataframe thead th {\n",
       "        text-align: right;\n",
       "    }\n",
       "</style>\n",
       "<table border=\"1\" class=\"dataframe\">\n",
       "  <thead>\n",
       "    <tr style=\"text-align: right;\">\n",
       "      <th></th>\n",
       "      <th>age</th>\n",
       "      <th>balance</th>\n",
       "      <th>day</th>\n",
       "      <th>duration</th>\n",
       "      <th>campaign</th>\n",
       "      <th>pdays</th>\n",
       "      <th>previous</th>\n",
       "    </tr>\n",
       "  </thead>\n",
       "  <tbody>\n",
       "    <tr>\n",
       "      <th>count</th>\n",
       "      <td>11162.000000</td>\n",
       "      <td>11162.000000</td>\n",
       "      <td>11162.000000</td>\n",
       "      <td>11162.000000</td>\n",
       "      <td>11162.000000</td>\n",
       "      <td>11162.000000</td>\n",
       "      <td>11162.000000</td>\n",
       "    </tr>\n",
       "    <tr>\n",
       "      <th>mean</th>\n",
       "      <td>41.231948</td>\n",
       "      <td>1528.538524</td>\n",
       "      <td>15.658036</td>\n",
       "      <td>371.993818</td>\n",
       "      <td>2.508421</td>\n",
       "      <td>51.330407</td>\n",
       "      <td>0.832557</td>\n",
       "    </tr>\n",
       "    <tr>\n",
       "      <th>std</th>\n",
       "      <td>11.913369</td>\n",
       "      <td>3225.413326</td>\n",
       "      <td>8.420740</td>\n",
       "      <td>347.128386</td>\n",
       "      <td>2.722077</td>\n",
       "      <td>108.758282</td>\n",
       "      <td>2.292007</td>\n",
       "    </tr>\n",
       "    <tr>\n",
       "      <th>min</th>\n",
       "      <td>18.000000</td>\n",
       "      <td>-6847.000000</td>\n",
       "      <td>1.000000</td>\n",
       "      <td>2.000000</td>\n",
       "      <td>1.000000</td>\n",
       "      <td>-1.000000</td>\n",
       "      <td>0.000000</td>\n",
       "    </tr>\n",
       "    <tr>\n",
       "      <th>25%</th>\n",
       "      <td>32.000000</td>\n",
       "      <td>122.000000</td>\n",
       "      <td>8.000000</td>\n",
       "      <td>138.000000</td>\n",
       "      <td>1.000000</td>\n",
       "      <td>-1.000000</td>\n",
       "      <td>0.000000</td>\n",
       "    </tr>\n",
       "    <tr>\n",
       "      <th>50%</th>\n",
       "      <td>39.000000</td>\n",
       "      <td>550.000000</td>\n",
       "      <td>15.000000</td>\n",
       "      <td>255.000000</td>\n",
       "      <td>2.000000</td>\n",
       "      <td>-1.000000</td>\n",
       "      <td>0.000000</td>\n",
       "    </tr>\n",
       "    <tr>\n",
       "      <th>75%</th>\n",
       "      <td>49.000000</td>\n",
       "      <td>1708.000000</td>\n",
       "      <td>22.000000</td>\n",
       "      <td>496.000000</td>\n",
       "      <td>3.000000</td>\n",
       "      <td>20.750000</td>\n",
       "      <td>1.000000</td>\n",
       "    </tr>\n",
       "    <tr>\n",
       "      <th>max</th>\n",
       "      <td>95.000000</td>\n",
       "      <td>81204.000000</td>\n",
       "      <td>31.000000</td>\n",
       "      <td>3881.000000</td>\n",
       "      <td>63.000000</td>\n",
       "      <td>854.000000</td>\n",
       "      <td>58.000000</td>\n",
       "    </tr>\n",
       "  </tbody>\n",
       "</table>\n",
       "</div>"
      ],
      "text/plain": [
       "                age       balance           day      duration      campaign  \\\n",
       "count  11162.000000  11162.000000  11162.000000  11162.000000  11162.000000   \n",
       "mean      41.231948   1528.538524     15.658036    371.993818      2.508421   \n",
       "std       11.913369   3225.413326      8.420740    347.128386      2.722077   \n",
       "min       18.000000  -6847.000000      1.000000      2.000000      1.000000   \n",
       "25%       32.000000    122.000000      8.000000    138.000000      1.000000   \n",
       "50%       39.000000    550.000000     15.000000    255.000000      2.000000   \n",
       "75%       49.000000   1708.000000     22.000000    496.000000      3.000000   \n",
       "max       95.000000  81204.000000     31.000000   3881.000000     63.000000   \n",
       "\n",
       "              pdays      previous  \n",
       "count  11162.000000  11162.000000  \n",
       "mean      51.330407      0.832557  \n",
       "std      108.758282      2.292007  \n",
       "min       -1.000000      0.000000  \n",
       "25%       -1.000000      0.000000  \n",
       "50%       -1.000000      0.000000  \n",
       "75%       20.750000      1.000000  \n",
       "max      854.000000     58.000000  "
      ]
     },
     "execution_count": 5,
     "metadata": {},
     "output_type": "execute_result"
    }
   ],
   "source": [
    "df.describe()"
   ]
  },
  {
   "cell_type": "code",
   "execution_count": 6,
   "metadata": {
    "execution": {
     "iopub.execute_input": "2020-10-19T09:41:50.679748Z",
     "iopub.status.busy": "2020-10-19T09:41:50.678165Z",
     "iopub.status.idle": "2020-10-19T09:41:50.977557Z",
     "shell.execute_reply": "2020-10-19T09:41:50.976740Z"
    },
    "papermill": {
     "duration": 0.371048,
     "end_time": "2020-10-19T09:41:50.977701",
     "exception": false,
     "start_time": "2020-10-19T09:41:50.606653",
     "status": "completed"
    },
    "tags": []
   },
   "outputs": [
    {
     "data": {
      "text/plain": [
       "<seaborn.axisgrid.FacetGrid at 0x7fc7d8d79f10>"
      ]
     },
     "execution_count": 6,
     "metadata": {},
     "output_type": "execute_result"
    },
    {
     "data": {
      "image/png": "[encoded data removed]",
      "text/plain": [
       "<Figure size 360x360 with 1 Axes>"
      ]
     },
     "metadata": {
      "needs_background": "light"
     },
     "output_type": "display_data"
    }
   ],
   "source": [
    "sns.catplot(x=\"housing\", kind=\"count\", data=df)"
   ]
  },
  {
   "cell_type": "markdown",
   "metadata": {
    "papermill": {
     "duration": 0.065381,
     "end_time": "2020-10-19T09:41:51.109549",
     "exception": false,
     "start_time": "2020-10-19T09:41:51.044168",
     "status": "completed"
    },
    "tags": []
   },
   "source": [
    "Это классический набор данных маркетингового банка, изначально загруженный в репозиторий машинного обучения UCI. Набор данных дает нам информацию о маркетинговой кампании финансового учреждения, которую нам нужно будет проанализировать, чтобы найти способы поиска будущих стратегий для улучшения будущих маркетинговых компаний для банка.\n",
    "\n",
    "Целевая переменная deposit-принимает значения да или нет.\n",
    "\n",
    "Задача классификации: выяснить, что клиент возьмет депозит."
   ]
  },
  {
   "cell_type": "code",
   "execution_count": 7,
   "metadata": {
    "execution": {
     "iopub.execute_input": "2020-10-19T09:41:51.252102Z",
     "iopub.status.busy": "2020-10-19T09:41:51.250875Z",
     "iopub.status.idle": "2020-10-19T09:41:51.255941Z",
     "shell.execute_reply": "2020-10-19T09:41:51.255192Z"
    },
    "papermill": {
     "duration": 0.080367,
     "end_time": "2020-10-19T09:41:51.256102",
     "exception": false,
     "start_time": "2020-10-19T09:41:51.175735",
     "status": "completed"
    },
    "tags": []
   },
   "outputs": [
    {
     "data": {
      "text/plain": [
       "0        yes\n",
       "1        yes\n",
       "2        yes\n",
       "3        yes\n",
       "4        yes\n",
       "        ... \n",
       "11157     no\n",
       "11158     no\n",
       "11159     no\n",
       "11160     no\n",
       "11161     no\n",
       "Name: deposit, Length: 11162, dtype: object"
      ]
     },
     "execution_count": 7,
     "metadata": {},
     "output_type": "execute_result"
    }
   ],
   "source": [
    "df['deposit']"
   ]
  },
  {
   "cell_type": "code",
   "execution_count": 8,
   "metadata": {
    "execution": {
     "iopub.execute_input": "2020-10-19T09:41:51.396178Z",
     "iopub.status.busy": "2020-10-19T09:41:51.395285Z",
     "iopub.status.idle": "2020-10-19T09:41:51.434304Z",
     "shell.execute_reply": "2020-10-19T09:41:51.433373Z"
    },
    "papermill": {
     "duration": 0.111798,
     "end_time": "2020-10-19T09:41:51.434460",
     "exception": false,
     "start_time": "2020-10-19T09:41:51.322662",
     "status": "completed"
    },
    "tags": []
   },
   "outputs": [],
   "source": [
    "df1 = pd.read_csv('/kaggle/input/bank-marketing-dataset/bank.csv')"
   ]
  },
  {
   "cell_type": "code",
   "execution_count": 9,
   "metadata": {
    "execution": {
     "iopub.execute_input": "2020-10-19T09:41:51.590350Z",
     "iopub.status.busy": "2020-10-19T09:41:51.589192Z",
     "iopub.status.idle": "2020-10-19T09:41:51.602644Z",
     "shell.execute_reply": "2020-10-19T09:41:51.601887Z"
    },
    "papermill": {
     "duration": 0.100928,
     "end_time": "2020-10-19T09:41:51.602787",
     "exception": false,
     "start_time": "2020-10-19T09:41:51.501859",
     "status": "completed"
    },
    "tags": []
   },
   "outputs": [
    {
     "name": "stdout",
     "output_type": "stream",
     "text": [
      "<class 'pandas.core.frame.DataFrame'>\n",
      "RangeIndex: 11162 entries, 0 to 11161\n",
      "Data columns (total 17 columns):\n",
      " #   Column     Non-Null Count  Dtype \n",
      "---  ------     --------------  ----- \n",
      " 0   age        11162 non-null  int64 \n",
      " 1   job        11162 non-null  object\n",
      " 2   marital    11162 non-null  object\n",
      " 3   education  11162 non-null  object\n",
      " 4   default    11162 non-null  object\n",
      " 5   balance    11162 non-null  int64 \n",
      " 6   housing    11162 non-null  object\n",
      " 7   loan       11162 non-null  object\n",
      " 8   contact    11162 non-null  object\n",
      " 9   day        11162 non-null  int64 \n",
      " 10  month      11162 non-null  object\n",
      " 11  duration   11162 non-null  int64 \n",
      " 12  campaign   11162 non-null  int64 \n",
      " 13  pdays      11162 non-null  int64 \n",
      " 14  previous   11162 non-null  int64 \n",
      " 15  poutcome   11162 non-null  object\n",
      " 16  deposit    11162 non-null  object\n",
      "dtypes: int64(7), object(10)\n",
      "memory usage: 1.4+ MB\n"
     ]
    }
   ],
   "source": [
    "df1.info()"
   ]
  },
  {
   "cell_type": "markdown",
   "metadata": {
    "papermill": {
     "duration": 0.066331,
     "end_time": "2020-10-19T09:41:51.736536",
     "exception": false,
     "start_time": "2020-10-19T09:41:51.670205",
     "status": "completed"
    },
    "tags": []
   },
   "source": [
    "Категориальные признаки переводим в бинарные"
   ]
  },
  {
   "cell_type": "code",
   "execution_count": 10,
   "metadata": {
    "execution": {
     "iopub.execute_input": "2020-10-19T09:41:51.885067Z",
     "iopub.status.busy": "2020-10-19T09:41:51.883708Z",
     "iopub.status.idle": "2020-10-19T09:41:51.938166Z",
     "shell.execute_reply": "2020-10-19T09:41:51.937351Z"
    },
    "papermill": {
     "duration": 0.134606,
     "end_time": "2020-10-19T09:41:51.938313",
     "exception": false,
     "start_time": "2020-10-19T09:41:51.803707",
     "status": "completed"
    },
    "tags": []
   },
   "outputs": [
    {
     "data": {
      "text/html": [
       "<div>\n",
       "<style scoped>\n",
       "    .dataframe tbody tr th:only-of-type {\n",
       "        vertical-align: middle;\n",
       "    }\n",
       "\n",
       "    .dataframe tbody tr th {\n",
       "        vertical-align: top;\n",
       "    }\n",
       "\n",
       "    .dataframe thead th {\n",
       "        text-align: right;\n",
       "    }\n",
       "</style>\n",
       "<table border=\"1\" class=\"dataframe\">\n",
       "  <thead>\n",
       "    <tr style=\"text-align: right;\">\n",
       "      <th></th>\n",
       "      <th>age</th>\n",
       "      <th>balance</th>\n",
       "      <th>day</th>\n",
       "      <th>duration</th>\n",
       "      <th>campaign</th>\n",
       "      <th>pdays</th>\n",
       "      <th>previous</th>\n",
       "      <th>deposit</th>\n",
       "      <th>job_admin.</th>\n",
       "      <th>job_blue-collar</th>\n",
       "      <th>...</th>\n",
       "      <th>month_may</th>\n",
       "      <th>month_nov</th>\n",
       "      <th>month_oct</th>\n",
       "      <th>month_sep</th>\n",
       "      <th>loan_no</th>\n",
       "      <th>loan_yes</th>\n",
       "      <th>housing_no</th>\n",
       "      <th>housing_yes</th>\n",
       "      <th>default_no</th>\n",
       "      <th>default_yes</th>\n",
       "    </tr>\n",
       "  </thead>\n",
       "  <tbody>\n",
       "    <tr>\n",
       "      <th>0</th>\n",
       "      <td>59</td>\n",
       "      <td>2343</td>\n",
       "      <td>5</td>\n",
       "      <td>1042</td>\n",
       "      <td>1</td>\n",
       "      <td>-1</td>\n",
       "      <td>0</td>\n",
       "      <td>1</td>\n",
       "      <td>1</td>\n",
       "      <td>0</td>\n",
       "      <td>...</td>\n",
       "      <td>1</td>\n",
       "      <td>0</td>\n",
       "      <td>0</td>\n",
       "      <td>0</td>\n",
       "      <td>1</td>\n",
       "      <td>0</td>\n",
       "      <td>0</td>\n",
       "      <td>1</td>\n",
       "      <td>1</td>\n",
       "      <td>0</td>\n",
       "    </tr>\n",
       "    <tr>\n",
       "      <th>1</th>\n",
       "      <td>56</td>\n",
       "      <td>45</td>\n",
       "      <td>5</td>\n",
       "      <td>1467</td>\n",
       "      <td>1</td>\n",
       "      <td>-1</td>\n",
       "      <td>0</td>\n",
       "      <td>1</td>\n",
       "      <td>1</td>\n",
       "      <td>0</td>\n",
       "      <td>...</td>\n",
       "      <td>1</td>\n",
       "      <td>0</td>\n",
       "      <td>0</td>\n",
       "      <td>0</td>\n",
       "      <td>1</td>\n",
       "      <td>0</td>\n",
       "      <td>1</td>\n",
       "      <td>0</td>\n",
       "      <td>1</td>\n",
       "      <td>0</td>\n",
       "    </tr>\n",
       "    <tr>\n",
       "      <th>2</th>\n",
       "      <td>41</td>\n",
       "      <td>1270</td>\n",
       "      <td>5</td>\n",
       "      <td>1389</td>\n",
       "      <td>1</td>\n",
       "      <td>-1</td>\n",
       "      <td>0</td>\n",
       "      <td>1</td>\n",
       "      <td>0</td>\n",
       "      <td>0</td>\n",
       "      <td>...</td>\n",
       "      <td>1</td>\n",
       "      <td>0</td>\n",
       "      <td>0</td>\n",
       "      <td>0</td>\n",
       "      <td>1</td>\n",
       "      <td>0</td>\n",
       "      <td>0</td>\n",
       "      <td>1</td>\n",
       "      <td>1</td>\n",
       "      <td>0</td>\n",
       "    </tr>\n",
       "    <tr>\n",
       "      <th>3</th>\n",
       "      <td>55</td>\n",
       "      <td>2476</td>\n",
       "      <td>5</td>\n",
       "      <td>579</td>\n",
       "      <td>1</td>\n",
       "      <td>-1</td>\n",
       "      <td>0</td>\n",
       "      <td>1</td>\n",
       "      <td>0</td>\n",
       "      <td>0</td>\n",
       "      <td>...</td>\n",
       "      <td>1</td>\n",
       "      <td>0</td>\n",
       "      <td>0</td>\n",
       "      <td>0</td>\n",
       "      <td>1</td>\n",
       "      <td>0</td>\n",
       "      <td>0</td>\n",
       "      <td>1</td>\n",
       "      <td>1</td>\n",
       "      <td>0</td>\n",
       "    </tr>\n",
       "    <tr>\n",
       "      <th>4</th>\n",
       "      <td>54</td>\n",
       "      <td>184</td>\n",
       "      <td>5</td>\n",
       "      <td>673</td>\n",
       "      <td>2</td>\n",
       "      <td>-1</td>\n",
       "      <td>0</td>\n",
       "      <td>1</td>\n",
       "      <td>1</td>\n",
       "      <td>0</td>\n",
       "      <td>...</td>\n",
       "      <td>1</td>\n",
       "      <td>0</td>\n",
       "      <td>0</td>\n",
       "      <td>0</td>\n",
       "      <td>1</td>\n",
       "      <td>0</td>\n",
       "      <td>1</td>\n",
       "      <td>0</td>\n",
       "      <td>1</td>\n",
       "      <td>0</td>\n",
       "    </tr>\n",
       "  </tbody>\n",
       "</table>\n",
       "<p>5 rows × 52 columns</p>\n",
       "</div>"
      ],
      "text/plain": [
       "   age  balance  day  duration  campaign  pdays  previous  deposit  \\\n",
       "0   59     2343    5      1042         1     -1         0        1   \n",
       "1   56       45    5      1467         1     -1         0        1   \n",
       "2   41     1270    5      1389         1     -1         0        1   \n",
       "3   55     2476    5       579         1     -1         0        1   \n",
       "4   54      184    5       673         2     -1         0        1   \n",
       "\n",
       "   job_admin.  job_blue-collar  ...  month_may  month_nov  month_oct  \\\n",
       "0           1                0  ...          1          0          0   \n",
       "1           1                0  ...          1          0          0   \n",
       "2           0                0  ...          1          0          0   \n",
       "3           0                0  ...          1          0          0   \n",
       "4           1                0  ...          1          0          0   \n",
       "\n",
       "   month_sep  loan_no  loan_yes  housing_no  housing_yes  default_no  \\\n",
       "0          0        1         0           0            1           1   \n",
       "1          0        1         0           1            0           1   \n",
       "2          0        1         0           0            1           1   \n",
       "3          0        1         0           0            1           1   \n",
       "4          0        1         0           1            0           1   \n",
       "\n",
       "   default_yes  \n",
       "0            0  \n",
       "1            0  \n",
       "2            0  \n",
       "3            0  \n",
       "4            0  \n",
       "\n",
       "[5 rows x 52 columns]"
      ]
     },
     "execution_count": 10,
     "metadata": {},
     "output_type": "execute_result"
    }
   ],
   "source": [
    "df1 = pd.get_dummies(df, columns=['job', 'education', 'marital', 'contact', 'poutcome', 'month', 'loan', 'housing', 'default'])\n",
    "df1['deposit']=df['deposit'].map({'no':0,'yes':1})\n",
    "df1.head()"
   ]
  },
  {
   "cell_type": "code",
   "execution_count": 11,
   "metadata": {
    "execution": {
     "iopub.execute_input": "2020-10-19T09:41:52.084196Z",
     "iopub.status.busy": "2020-10-19T09:41:52.083359Z",
     "iopub.status.idle": "2020-10-19T09:41:52.089928Z",
     "shell.execute_reply": "2020-10-19T09:41:52.089199Z"
    },
    "papermill": {
     "duration": 0.081891,
     "end_time": "2020-10-19T09:41:52.090098",
     "exception": false,
     "start_time": "2020-10-19T09:41:52.008207",
     "status": "completed"
    },
    "tags": []
   },
   "outputs": [],
   "source": [
    "df2 = df1.drop(['deposit'], axis=1)"
   ]
  },
  {
   "cell_type": "code",
   "execution_count": 12,
   "metadata": {
    "execution": {
     "iopub.execute_input": "2020-10-19T09:41:52.252040Z",
     "iopub.status.busy": "2020-10-19T09:41:52.250938Z",
     "iopub.status.idle": "2020-10-19T09:41:52.256729Z",
     "shell.execute_reply": "2020-10-19T09:41:52.256122Z"
    },
    "papermill": {
     "duration": 0.097714,
     "end_time": "2020-10-19T09:41:52.256885",
     "exception": false,
     "start_time": "2020-10-19T09:41:52.159171",
     "status": "completed"
    },
    "tags": []
   },
   "outputs": [
    {
     "data": {
      "text/html": [
       "<div>\n",
       "<style scoped>\n",
       "    .dataframe tbody tr th:only-of-type {\n",
       "        vertical-align: middle;\n",
       "    }\n",
       "\n",
       "    .dataframe tbody tr th {\n",
       "        vertical-align: top;\n",
       "    }\n",
       "\n",
       "    .dataframe thead th {\n",
       "        text-align: right;\n",
       "    }\n",
       "</style>\n",
       "<table border=\"1\" class=\"dataframe\">\n",
       "  <thead>\n",
       "    <tr style=\"text-align: right;\">\n",
       "      <th></th>\n",
       "      <th>age</th>\n",
       "      <th>balance</th>\n",
       "      <th>day</th>\n",
       "      <th>duration</th>\n",
       "      <th>campaign</th>\n",
       "      <th>pdays</th>\n",
       "      <th>previous</th>\n",
       "      <th>job_admin.</th>\n",
       "      <th>job_blue-collar</th>\n",
       "      <th>job_entrepreneur</th>\n",
       "      <th>...</th>\n",
       "      <th>month_may</th>\n",
       "      <th>month_nov</th>\n",
       "      <th>month_oct</th>\n",
       "      <th>month_sep</th>\n",
       "      <th>loan_no</th>\n",
       "      <th>loan_yes</th>\n",
       "      <th>housing_no</th>\n",
       "      <th>housing_yes</th>\n",
       "      <th>default_no</th>\n",
       "      <th>default_yes</th>\n",
       "    </tr>\n",
       "  </thead>\n",
       "  <tbody>\n",
       "    <tr>\n",
       "      <th>0</th>\n",
       "      <td>59</td>\n",
       "      <td>2343</td>\n",
       "      <td>5</td>\n",
       "      <td>1042</td>\n",
       "      <td>1</td>\n",
       "      <td>-1</td>\n",
       "      <td>0</td>\n",
       "      <td>1</td>\n",
       "      <td>0</td>\n",
       "      <td>0</td>\n",
       "      <td>...</td>\n",
       "      <td>1</td>\n",
       "      <td>0</td>\n",
       "      <td>0</td>\n",
       "      <td>0</td>\n",
       "      <td>1</td>\n",
       "      <td>0</td>\n",
       "      <td>0</td>\n",
       "      <td>1</td>\n",
       "      <td>1</td>\n",
       "      <td>0</td>\n",
       "    </tr>\n",
       "    <tr>\n",
       "      <th>1</th>\n",
       "      <td>56</td>\n",
       "      <td>45</td>\n",
       "      <td>5</td>\n",
       "      <td>1467</td>\n",
       "      <td>1</td>\n",
       "      <td>-1</td>\n",
       "      <td>0</td>\n",
       "      <td>1</td>\n",
       "      <td>0</td>\n",
       "      <td>0</td>\n",
       "      <td>...</td>\n",
       "      <td>1</td>\n",
       "      <td>0</td>\n",
       "      <td>0</td>\n",
       "      <td>0</td>\n",
       "      <td>1</td>\n",
       "      <td>0</td>\n",
       "      <td>1</td>\n",
       "      <td>0</td>\n",
       "      <td>1</td>\n",
       "      <td>0</td>\n",
       "    </tr>\n",
       "    <tr>\n",
       "      <th>2</th>\n",
       "      <td>41</td>\n",
       "      <td>1270</td>\n",
       "      <td>5</td>\n",
       "      <td>1389</td>\n",
       "      <td>1</td>\n",
       "      <td>-1</td>\n",
       "      <td>0</td>\n",
       "      <td>0</td>\n",
       "      <td>0</td>\n",
       "      <td>0</td>\n",
       "      <td>...</td>\n",
       "      <td>1</td>\n",
       "      <td>0</td>\n",
       "      <td>0</td>\n",
       "      <td>0</td>\n",
       "      <td>1</td>\n",
       "      <td>0</td>\n",
       "      <td>0</td>\n",
       "      <td>1</td>\n",
       "      <td>1</td>\n",
       "      <td>0</td>\n",
       "    </tr>\n",
       "    <tr>\n",
       "      <th>3</th>\n",
       "      <td>55</td>\n",
       "      <td>2476</td>\n",
       "      <td>5</td>\n",
       "      <td>579</td>\n",
       "      <td>1</td>\n",
       "      <td>-1</td>\n",
       "      <td>0</td>\n",
       "      <td>0</td>\n",
       "      <td>0</td>\n",
       "      <td>0</td>\n",
       "      <td>...</td>\n",
       "      <td>1</td>\n",
       "      <td>0</td>\n",
       "      <td>0</td>\n",
       "      <td>0</td>\n",
       "      <td>1</td>\n",
       "      <td>0</td>\n",
       "      <td>0</td>\n",
       "      <td>1</td>\n",
       "      <td>1</td>\n",
       "      <td>0</td>\n",
       "    </tr>\n",
       "    <tr>\n",
       "      <th>4</th>\n",
       "      <td>54</td>\n",
       "      <td>184</td>\n",
       "      <td>5</td>\n",
       "      <td>673</td>\n",
       "      <td>2</td>\n",
       "      <td>-1</td>\n",
       "      <td>0</td>\n",
       "      <td>1</td>\n",
       "      <td>0</td>\n",
       "      <td>0</td>\n",
       "      <td>...</td>\n",
       "      <td>1</td>\n",
       "      <td>0</td>\n",
       "      <td>0</td>\n",
       "      <td>0</td>\n",
       "      <td>1</td>\n",
       "      <td>0</td>\n",
       "      <td>1</td>\n",
       "      <td>0</td>\n",
       "      <td>1</td>\n",
       "      <td>0</td>\n",
       "    </tr>\n",
       "  </tbody>\n",
       "</table>\n",
       "<p>5 rows × 51 columns</p>\n",
       "</div>"
      ],
      "text/plain": [
       "   age  balance  day  duration  campaign  pdays  previous  job_admin.  \\\n",
       "0   59     2343    5      1042         1     -1         0           1   \n",
       "1   56       45    5      1467         1     -1         0           1   \n",
       "2   41     1270    5      1389         1     -1         0           0   \n",
       "3   55     2476    5       579         1     -1         0           0   \n",
       "4   54      184    5       673         2     -1         0           1   \n",
       "\n",
       "   job_blue-collar  job_entrepreneur  ...  month_may  month_nov  month_oct  \\\n",
       "0                0                 0  ...          1          0          0   \n",
       "1                0                 0  ...          1          0          0   \n",
       "2                0                 0  ...          1          0          0   \n",
       "3                0                 0  ...          1          0          0   \n",
       "4                0                 0  ...          1          0          0   \n",
       "\n",
       "   month_sep  loan_no  loan_yes  housing_no  housing_yes  default_no  \\\n",
       "0          0        1         0           0            1           1   \n",
       "1          0        1         0           1            0           1   \n",
       "2          0        1         0           0            1           1   \n",
       "3          0        1         0           0            1           1   \n",
       "4          0        1         0           1            0           1   \n",
       "\n",
       "   default_yes  \n",
       "0            0  \n",
       "1            0  \n",
       "2            0  \n",
       "3            0  \n",
       "4            0  \n",
       "\n",
       "[5 rows x 51 columns]"
      ]
     },
     "execution_count": 12,
     "metadata": {},
     "output_type": "execute_result"
    }
   ],
   "source": [
    "df2.head()"
   ]
  },
  {
   "cell_type": "code",
   "execution_count": 13,
   "metadata": {
    "execution": {
     "iopub.execute_input": "2020-10-19T09:41:52.403636Z",
     "iopub.status.busy": "2020-10-19T09:41:52.402712Z",
     "iopub.status.idle": "2020-10-19T09:41:52.536135Z",
     "shell.execute_reply": "2020-10-19T09:41:52.535457Z"
    },
    "papermill": {
     "duration": 0.21006,
     "end_time": "2020-10-19T09:41:52.536303",
     "exception": false,
     "start_time": "2020-10-19T09:41:52.326243",
     "status": "completed"
    },
    "tags": []
   },
   "outputs": [],
   "source": [
    "from sklearn.model_selection import train_test_split\n",
    "\n",
    "# Создание X, y\n",
    "# X --- вся таблица без таргета\n",
    "# y --- таргет (целевая переменная)\n",
    "X=df1.drop('deposit', axis=1)\n",
    "y =df1['deposit']\n",
    "X_train, X_valid, y_train, y_valid = train_test_split(X, y, test_size=0.25, random_state=12)"
   ]
  },
  {
   "cell_type": "code",
   "execution_count": 14,
   "metadata": {
    "execution": {
     "iopub.execute_input": "2020-10-19T09:41:52.697696Z",
     "iopub.status.busy": "2020-10-19T09:41:52.694625Z",
     "iopub.status.idle": "2020-10-19T09:41:52.703652Z",
     "shell.execute_reply": "2020-10-19T09:41:52.702829Z"
    },
    "papermill": {
     "duration": 0.098161,
     "end_time": "2020-10-19T09:41:52.703801",
     "exception": false,
     "start_time": "2020-10-19T09:41:52.605640",
     "status": "completed"
    },
    "tags": []
   },
   "outputs": [
    {
     "data": {
      "text/html": [
       "<div>\n",
       "<style scoped>\n",
       "    .dataframe tbody tr th:only-of-type {\n",
       "        vertical-align: middle;\n",
       "    }\n",
       "\n",
       "    .dataframe tbody tr th {\n",
       "        vertical-align: top;\n",
       "    }\n",
       "\n",
       "    .dataframe thead th {\n",
       "        text-align: right;\n",
       "    }\n",
       "</style>\n",
       "<table border=\"1\" class=\"dataframe\">\n",
       "  <thead>\n",
       "    <tr style=\"text-align: right;\">\n",
       "      <th></th>\n",
       "      <th>0</th>\n",
       "      <th>1</th>\n",
       "      <th>2</th>\n",
       "      <th>3</th>\n",
       "      <th>4</th>\n",
       "    </tr>\n",
       "  </thead>\n",
       "  <tbody>\n",
       "    <tr>\n",
       "      <th>age</th>\n",
       "      <td>59</td>\n",
       "      <td>56</td>\n",
       "      <td>41</td>\n",
       "      <td>55</td>\n",
       "      <td>54</td>\n",
       "    </tr>\n",
       "    <tr>\n",
       "      <th>balance</th>\n",
       "      <td>2343</td>\n",
       "      <td>45</td>\n",
       "      <td>1270</td>\n",
       "      <td>2476</td>\n",
       "      <td>184</td>\n",
       "    </tr>\n",
       "    <tr>\n",
       "      <th>day</th>\n",
       "      <td>5</td>\n",
       "      <td>5</td>\n",
       "      <td>5</td>\n",
       "      <td>5</td>\n",
       "      <td>5</td>\n",
       "    </tr>\n",
       "    <tr>\n",
       "      <th>duration</th>\n",
       "      <td>1042</td>\n",
       "      <td>1467</td>\n",
       "      <td>1389</td>\n",
       "      <td>579</td>\n",
       "      <td>673</td>\n",
       "    </tr>\n",
       "    <tr>\n",
       "      <th>campaign</th>\n",
       "      <td>1</td>\n",
       "      <td>1</td>\n",
       "      <td>1</td>\n",
       "      <td>1</td>\n",
       "      <td>2</td>\n",
       "    </tr>\n",
       "    <tr>\n",
       "      <th>pdays</th>\n",
       "      <td>-1</td>\n",
       "      <td>-1</td>\n",
       "      <td>-1</td>\n",
       "      <td>-1</td>\n",
       "      <td>-1</td>\n",
       "    </tr>\n",
       "    <tr>\n",
       "      <th>previous</th>\n",
       "      <td>0</td>\n",
       "      <td>0</td>\n",
       "      <td>0</td>\n",
       "      <td>0</td>\n",
       "      <td>0</td>\n",
       "    </tr>\n",
       "    <tr>\n",
       "      <th>deposit</th>\n",
       "      <td>1</td>\n",
       "      <td>1</td>\n",
       "      <td>1</td>\n",
       "      <td>1</td>\n",
       "      <td>1</td>\n",
       "    </tr>\n",
       "    <tr>\n",
       "      <th>job_admin.</th>\n",
       "      <td>1</td>\n",
       "      <td>1</td>\n",
       "      <td>0</td>\n",
       "      <td>0</td>\n",
       "      <td>1</td>\n",
       "    </tr>\n",
       "    <tr>\n",
       "      <th>job_blue-collar</th>\n",
       "      <td>0</td>\n",
       "      <td>0</td>\n",
       "      <td>0</td>\n",
       "      <td>0</td>\n",
       "      <td>0</td>\n",
       "    </tr>\n",
       "    <tr>\n",
       "      <th>job_entrepreneur</th>\n",
       "      <td>0</td>\n",
       "      <td>0</td>\n",
       "      <td>0</td>\n",
       "      <td>0</td>\n",
       "      <td>0</td>\n",
       "    </tr>\n",
       "    <tr>\n",
       "      <th>job_housemaid</th>\n",
       "      <td>0</td>\n",
       "      <td>0</td>\n",
       "      <td>0</td>\n",
       "      <td>0</td>\n",
       "      <td>0</td>\n",
       "    </tr>\n",
       "    <tr>\n",
       "      <th>job_management</th>\n",
       "      <td>0</td>\n",
       "      <td>0</td>\n",
       "      <td>0</td>\n",
       "      <td>0</td>\n",
       "      <td>0</td>\n",
       "    </tr>\n",
       "    <tr>\n",
       "      <th>job_retired</th>\n",
       "      <td>0</td>\n",
       "      <td>0</td>\n",
       "      <td>0</td>\n",
       "      <td>0</td>\n",
       "      <td>0</td>\n",
       "    </tr>\n",
       "    <tr>\n",
       "      <th>job_self-employed</th>\n",
       "      <td>0</td>\n",
       "      <td>0</td>\n",
       "      <td>0</td>\n",
       "      <td>0</td>\n",
       "      <td>0</td>\n",
       "    </tr>\n",
       "    <tr>\n",
       "      <th>job_services</th>\n",
       "      <td>0</td>\n",
       "      <td>0</td>\n",
       "      <td>0</td>\n",
       "      <td>1</td>\n",
       "      <td>0</td>\n",
       "    </tr>\n",
       "    <tr>\n",
       "      <th>job_student</th>\n",
       "      <td>0</td>\n",
       "      <td>0</td>\n",
       "      <td>0</td>\n",
       "      <td>0</td>\n",
       "      <td>0</td>\n",
       "    </tr>\n",
       "    <tr>\n",
       "      <th>job_technician</th>\n",
       "      <td>0</td>\n",
       "      <td>0</td>\n",
       "      <td>1</td>\n",
       "      <td>0</td>\n",
       "      <td>0</td>\n",
       "    </tr>\n",
       "    <tr>\n",
       "      <th>job_unemployed</th>\n",
       "      <td>0</td>\n",
       "      <td>0</td>\n",
       "      <td>0</td>\n",
       "      <td>0</td>\n",
       "      <td>0</td>\n",
       "    </tr>\n",
       "    <tr>\n",
       "      <th>job_unknown</th>\n",
       "      <td>0</td>\n",
       "      <td>0</td>\n",
       "      <td>0</td>\n",
       "      <td>0</td>\n",
       "      <td>0</td>\n",
       "    </tr>\n",
       "    <tr>\n",
       "      <th>education_primary</th>\n",
       "      <td>0</td>\n",
       "      <td>0</td>\n",
       "      <td>0</td>\n",
       "      <td>0</td>\n",
       "      <td>0</td>\n",
       "    </tr>\n",
       "    <tr>\n",
       "      <th>education_secondary</th>\n",
       "      <td>1</td>\n",
       "      <td>1</td>\n",
       "      <td>1</td>\n",
       "      <td>1</td>\n",
       "      <td>0</td>\n",
       "    </tr>\n",
       "    <tr>\n",
       "      <th>education_tertiary</th>\n",
       "      <td>0</td>\n",
       "      <td>0</td>\n",
       "      <td>0</td>\n",
       "      <td>0</td>\n",
       "      <td>1</td>\n",
       "    </tr>\n",
       "    <tr>\n",
       "      <th>education_unknown</th>\n",
       "      <td>0</td>\n",
       "      <td>0</td>\n",
       "      <td>0</td>\n",
       "      <td>0</td>\n",
       "      <td>0</td>\n",
       "    </tr>\n",
       "    <tr>\n",
       "      <th>marital_divorced</th>\n",
       "      <td>0</td>\n",
       "      <td>0</td>\n",
       "      <td>0</td>\n",
       "      <td>0</td>\n",
       "      <td>0</td>\n",
       "    </tr>\n",
       "    <tr>\n",
       "      <th>marital_married</th>\n",
       "      <td>1</td>\n",
       "      <td>1</td>\n",
       "      <td>1</td>\n",
       "      <td>1</td>\n",
       "      <td>1</td>\n",
       "    </tr>\n",
       "    <tr>\n",
       "      <th>marital_single</th>\n",
       "      <td>0</td>\n",
       "      <td>0</td>\n",
       "      <td>0</td>\n",
       "      <td>0</td>\n",
       "      <td>0</td>\n",
       "    </tr>\n",
       "    <tr>\n",
       "      <th>contact_cellular</th>\n",
       "      <td>0</td>\n",
       "      <td>0</td>\n",
       "      <td>0</td>\n",
       "      <td>0</td>\n",
       "      <td>0</td>\n",
       "    </tr>\n",
       "    <tr>\n",
       "      <th>contact_telephone</th>\n",
       "      <td>0</td>\n",
       "      <td>0</td>\n",
       "      <td>0</td>\n",
       "      <td>0</td>\n",
       "      <td>0</td>\n",
       "    </tr>\n",
       "    <tr>\n",
       "      <th>contact_unknown</th>\n",
       "      <td>1</td>\n",
       "      <td>1</td>\n",
       "      <td>1</td>\n",
       "      <td>1</td>\n",
       "      <td>1</td>\n",
       "    </tr>\n",
       "    <tr>\n",
       "      <th>poutcome_failure</th>\n",
       "      <td>0</td>\n",
       "      <td>0</td>\n",
       "      <td>0</td>\n",
       "      <td>0</td>\n",
       "      <td>0</td>\n",
       "    </tr>\n",
       "    <tr>\n",
       "      <th>poutcome_other</th>\n",
       "      <td>0</td>\n",
       "      <td>0</td>\n",
       "      <td>0</td>\n",
       "      <td>0</td>\n",
       "      <td>0</td>\n",
       "    </tr>\n",
       "    <tr>\n",
       "      <th>poutcome_success</th>\n",
       "      <td>0</td>\n",
       "      <td>0</td>\n",
       "      <td>0</td>\n",
       "      <td>0</td>\n",
       "      <td>0</td>\n",
       "    </tr>\n",
       "    <tr>\n",
       "      <th>poutcome_unknown</th>\n",
       "      <td>1</td>\n",
       "      <td>1</td>\n",
       "      <td>1</td>\n",
       "      <td>1</td>\n",
       "      <td>1</td>\n",
       "    </tr>\n",
       "    <tr>\n",
       "      <th>month_apr</th>\n",
       "      <td>0</td>\n",
       "      <td>0</td>\n",
       "      <td>0</td>\n",
       "      <td>0</td>\n",
       "      <td>0</td>\n",
       "    </tr>\n",
       "    <tr>\n",
       "      <th>month_aug</th>\n",
       "      <td>0</td>\n",
       "      <td>0</td>\n",
       "      <td>0</td>\n",
       "      <td>0</td>\n",
       "      <td>0</td>\n",
       "    </tr>\n",
       "    <tr>\n",
       "      <th>month_dec</th>\n",
       "      <td>0</td>\n",
       "      <td>0</td>\n",
       "      <td>0</td>\n",
       "      <td>0</td>\n",
       "      <td>0</td>\n",
       "    </tr>\n",
       "    <tr>\n",
       "      <th>month_feb</th>\n",
       "      <td>0</td>\n",
       "      <td>0</td>\n",
       "      <td>0</td>\n",
       "      <td>0</td>\n",
       "      <td>0</td>\n",
       "    </tr>\n",
       "    <tr>\n",
       "      <th>month_jan</th>\n",
       "      <td>0</td>\n",
       "      <td>0</td>\n",
       "      <td>0</td>\n",
       "      <td>0</td>\n",
       "      <td>0</td>\n",
       "    </tr>\n",
       "    <tr>\n",
       "      <th>month_jul</th>\n",
       "      <td>0</td>\n",
       "      <td>0</td>\n",
       "      <td>0</td>\n",
       "      <td>0</td>\n",
       "      <td>0</td>\n",
       "    </tr>\n",
       "    <tr>\n",
       "      <th>month_jun</th>\n",
       "      <td>0</td>\n",
       "      <td>0</td>\n",
       "      <td>0</td>\n",
       "      <td>0</td>\n",
       "      <td>0</td>\n",
       "    </tr>\n",
       "    <tr>\n",
       "      <th>month_mar</th>\n",
       "      <td>0</td>\n",
       "      <td>0</td>\n",
       "      <td>0</td>\n",
       "      <td>0</td>\n",
       "      <td>0</td>\n",
       "    </tr>\n",
       "    <tr>\n",
       "      <th>month_may</th>\n",
       "      <td>1</td>\n",
       "      <td>1</td>\n",
       "      <td>1</td>\n",
       "      <td>1</td>\n",
       "      <td>1</td>\n",
       "    </tr>\n",
       "    <tr>\n",
       "      <th>month_nov</th>\n",
       "      <td>0</td>\n",
       "      <td>0</td>\n",
       "      <td>0</td>\n",
       "      <td>0</td>\n",
       "      <td>0</td>\n",
       "    </tr>\n",
       "    <tr>\n",
       "      <th>month_oct</th>\n",
       "      <td>0</td>\n",
       "      <td>0</td>\n",
       "      <td>0</td>\n",
       "      <td>0</td>\n",
       "      <td>0</td>\n",
       "    </tr>\n",
       "    <tr>\n",
       "      <th>month_sep</th>\n",
       "      <td>0</td>\n",
       "      <td>0</td>\n",
       "      <td>0</td>\n",
       "      <td>0</td>\n",
       "      <td>0</td>\n",
       "    </tr>\n",
       "    <tr>\n",
       "      <th>loan_no</th>\n",
       "      <td>1</td>\n",
       "      <td>1</td>\n",
       "      <td>1</td>\n",
       "      <td>1</td>\n",
       "      <td>1</td>\n",
       "    </tr>\n",
       "    <tr>\n",
       "      <th>loan_yes</th>\n",
       "      <td>0</td>\n",
       "      <td>0</td>\n",
       "      <td>0</td>\n",
       "      <td>0</td>\n",
       "      <td>0</td>\n",
       "    </tr>\n",
       "    <tr>\n",
       "      <th>housing_no</th>\n",
       "      <td>0</td>\n",
       "      <td>1</td>\n",
       "      <td>0</td>\n",
       "      <td>0</td>\n",
       "      <td>1</td>\n",
       "    </tr>\n",
       "    <tr>\n",
       "      <th>housing_yes</th>\n",
       "      <td>1</td>\n",
       "      <td>0</td>\n",
       "      <td>1</td>\n",
       "      <td>1</td>\n",
       "      <td>0</td>\n",
       "    </tr>\n",
       "    <tr>\n",
       "      <th>default_no</th>\n",
       "      <td>1</td>\n",
       "      <td>1</td>\n",
       "      <td>1</td>\n",
       "      <td>1</td>\n",
       "      <td>1</td>\n",
       "    </tr>\n",
       "    <tr>\n",
       "      <th>default_yes</th>\n",
       "      <td>0</td>\n",
       "      <td>0</td>\n",
       "      <td>0</td>\n",
       "      <td>0</td>\n",
       "      <td>0</td>\n",
       "    </tr>\n",
       "  </tbody>\n",
       "</table>\n",
       "</div>"
      ],
      "text/plain": [
       "                        0     1     2     3    4\n",
       "age                    59    56    41    55   54\n",
       "balance              2343    45  1270  2476  184\n",
       "day                     5     5     5     5    5\n",
       "duration             1042  1467  1389   579  673\n",
       "campaign                1     1     1     1    2\n",
       "pdays                  -1    -1    -1    -1   -1\n",
       "previous                0     0     0     0    0\n",
       "deposit                 1     1     1     1    1\n",
       "job_admin.              1     1     0     0    1\n",
       "job_blue-collar         0     0     0     0    0\n",
       "job_entrepreneur        0     0     0     0    0\n",
       "job_housemaid           0     0     0     0    0\n",
       "job_management          0     0     0     0    0\n",
       "job_retired             0     0     0     0    0\n",
       "job_self-employed       0     0     0     0    0\n",
       "job_services            0     0     0     1    0\n",
       "job_student             0     0     0     0    0\n",
       "job_technician          0     0     1     0    0\n",
       "job_unemployed          0     0     0     0    0\n",
       "job_unknown             0     0     0     0    0\n",
       "education_primary       0     0     0     0    0\n",
       "education_secondary     1     1     1     1    0\n",
       "education_tertiary      0     0     0     0    1\n",
       "education_unknown       0     0     0     0    0\n",
       "marital_divorced        0     0     0     0    0\n",
       "marital_married         1     1     1     1    1\n",
       "marital_single          0     0     0     0    0\n",
       "contact_cellular        0     0     0     0    0\n",
       "contact_telephone       0     0     0     0    0\n",
       "contact_unknown         1     1     1     1    1\n",
       "poutcome_failure        0     0     0     0    0\n",
       "poutcome_other          0     0     0     0    0\n",
       "poutcome_success        0     0     0     0    0\n",
       "poutcome_unknown        1     1     1     1    1\n",
       "month_apr               0     0     0     0    0\n",
       "month_aug               0     0     0     0    0\n",
       "month_dec               0     0     0     0    0\n",
       "month_feb               0     0     0     0    0\n",
       "month_jan               0     0     0     0    0\n",
       "month_jul               0     0     0     0    0\n",
       "month_jun               0     0     0     0    0\n",
       "month_mar               0     0     0     0    0\n",
       "month_may               1     1     1     1    1\n",
       "month_nov               0     0     0     0    0\n",
       "month_oct               0     0     0     0    0\n",
       "month_sep               0     0     0     0    0\n",
       "loan_no                 1     1     1     1    1\n",
       "loan_yes                0     0     0     0    0\n",
       "housing_no              0     1     0     0    1\n",
       "housing_yes             1     0     1     1    0\n",
       "default_no              1     1     1     1    1\n",
       "default_yes             0     0     0     0    0"
      ]
     },
     "execution_count": 14,
     "metadata": {},
     "output_type": "execute_result"
    }
   ],
   "source": [
    "df1.head().T"
   ]
  },
  {
   "cell_type": "markdown",
   "metadata": {
    "papermill": {
     "duration": 0.070069,
     "end_time": "2020-10-19T09:41:52.844039",
     "exception": false,
     "start_time": "2020-10-19T09:41:52.773970",
     "status": "completed"
    },
    "tags": []
   },
   "source": [
    "Разделим выборку"
   ]
  },
  {
   "cell_type": "code",
   "execution_count": 15,
   "metadata": {
    "execution": {
     "iopub.execute_input": "2020-10-19T09:41:52.994519Z",
     "iopub.status.busy": "2020-10-19T09:41:52.993607Z",
     "iopub.status.idle": "2020-10-19T09:41:53.001355Z",
     "shell.execute_reply": "2020-10-19T09:41:53.000522Z"
    },
    "papermill": {
     "duration": 0.086326,
     "end_time": "2020-10-19T09:41:53.001509",
     "exception": false,
     "start_time": "2020-10-19T09:41:52.915183",
     "status": "completed"
    },
    "tags": []
   },
   "outputs": [],
   "source": [
    "from sklearn.model_selection import train_test_split\n",
    "\n",
    "X_train, X_valid, y_train, y_valid = train_test_split(X, y,\n",
    "                                                      test_size=0.3, random_state=2019)"
   ]
  },
  {
   "cell_type": "markdown",
   "metadata": {
    "papermill": {
     "duration": 0.072226,
     "end_time": "2020-10-19T09:41:53.146879",
     "exception": false,
     "start_time": "2020-10-19T09:41:53.074653",
     "status": "completed"
    },
    "tags": []
   },
   "source": [
    "Обучаем Дерево Решений с максимальной глубиной 3 и параметром random_state=2019"
   ]
  },
  {
   "cell_type": "code",
   "execution_count": 16,
   "metadata": {
    "execution": {
     "iopub.execute_input": "2020-10-19T09:41:53.295944Z",
     "iopub.status.busy": "2020-10-19T09:41:53.295089Z",
     "iopub.status.idle": "2020-10-19T09:41:53.525489Z",
     "shell.execute_reply": "2020-10-19T09:41:53.524668Z"
    },
    "papermill": {
     "duration": 0.30827,
     "end_time": "2020-10-19T09:41:53.525637",
     "exception": false,
     "start_time": "2020-10-19T09:41:53.217367",
     "status": "completed"
    },
    "tags": []
   },
   "outputs": [
    {
     "data": {
      "text/plain": [
       "DecisionTreeClassifier(max_depth=3, random_state=2019)"
      ]
     },
     "execution_count": 16,
     "metadata": {},
     "output_type": "execute_result"
    }
   ],
   "source": [
    "# Обучение дерева решений\n",
    "from sklearn.tree import DecisionTreeClassifier\n",
    "\n",
    "tree = DecisionTreeClassifier(max_depth = 3, random_state = 2019)\n",
    "tree.fit(X_train, y_train)\n"
   ]
  },
  {
   "cell_type": "code",
   "execution_count": 17,
   "metadata": {
    "execution": {
     "iopub.execute_input": "2020-10-19T09:41:53.678820Z",
     "iopub.status.busy": "2020-10-19T09:41:53.675735Z",
     "iopub.status.idle": "2020-10-19T09:41:53.684507Z",
     "shell.execute_reply": "2020-10-19T09:41:53.683791Z"
    },
    "papermill": {
     "duration": 0.087314,
     "end_time": "2020-10-19T09:41:53.684661",
     "exception": false,
     "start_time": "2020-10-19T09:41:53.597347",
     "status": "completed"
    },
    "tags": []
   },
   "outputs": [
    {
     "name": "stdout",
     "output_type": "stream",
     "text": [
      "digraph Tree {\n",
      "node [shape=box] ;\n",
      "0 [label=\"X[3] <= 203.5\\ngini = 0.499\\nsamples = 7813\\nvalue = [4101, 3712]\"] ;\n",
      "1 [label=\"X[31] <= 0.5\\ngini = 0.329\\nsamples = 3112\\nvalue = [2467, 645]\"] ;\n",
      "0 -> 1 [labeldistance=2.5, labelangle=45, headlabel=\"True\"] ;\n",
      "2 [label=\"X[40] <= 0.5\\ngini = 0.274\\nsamples = 2910\\nvalue = [2433, 477]\"] ;\n",
      "1 -> 2 ;\n",
      "3 [label=\"gini = 0.249\\nsamples = 2832\\nvalue = [2419, 413]\"] ;\n",
      "2 -> 3 ;\n",
      "4 [label=\"gini = 0.295\\nsamples = 78\\nvalue = [14, 64]\"] ;\n",
      "2 -> 4 ;\n",
      "5 [label=\"X[3] <= 68.0\\ngini = 0.28\\nsamples = 202\\nvalue = [34, 168]\"] ;\n",
      "1 -> 5 ;\n",
      "6 [label=\"gini = 0.219\\nsamples = 8\\nvalue = [7, 1]\"] ;\n",
      "5 -> 6 ;\n",
      "7 [label=\"gini = 0.24\\nsamples = 194\\nvalue = [27, 167]\"] ;\n",
      "5 -> 7 ;\n",
      "8 [label=\"X[3] <= 441.5\\ngini = 0.454\\nsamples = 4701\\nvalue = [1634, 3067]\"] ;\n",
      "0 -> 8 [labeldistance=2.5, labelangle=-45, headlabel=\"False\"] ;\n",
      "9 [label=\"X[28] <= 0.5\\ngini = 0.5\\nsamples = 2481\\nvalue = [1213, 1268]\"] ;\n",
      "8 -> 9 ;\n",
      "10 [label=\"gini = 0.478\\nsamples = 2061\\nvalue = [815, 1246]\"] ;\n",
      "9 -> 10 ;\n",
      "11 [label=\"gini = 0.099\\nsamples = 420\\nvalue = [398, 22]\"] ;\n",
      "9 -> 11 ;\n",
      "12 [label=\"X[3] <= 649.5\\ngini = 0.307\\nsamples = 2220\\nvalue = [421, 1799]\"] ;\n",
      "8 -> 12 ;\n",
      "13 [label=\"gini = 0.396\\nsamples = 895\\nvalue = [243, 652]\"] ;\n",
      "12 -> 13 ;\n",
      "14 [label=\"gini = 0.233\\nsamples = 1325\\nvalue = [178, 1147]\"] ;\n",
      "12 -> 14 ;\n",
      "}\n"
     ]
    }
   ],
   "source": [
    "from sklearn.tree import export_graphviz\n",
    "export_graphviz(tree, out_file='tree.dot')\n",
    "print(open('tree.dot').read()) "
   ]
  },
  {
   "cell_type": "markdown",
   "metadata": {
    "papermill": {
     "duration": 0.071471,
     "end_time": "2020-10-19T09:41:53.828379",
     "exception": false,
     "start_time": "2020-10-19T09:41:53.756908",
     "status": "completed"
    },
    "tags": []
   },
   "source": [
    "\n",
    "Ссылка на изображение с кодом:\n",
    "https://dreampuf.github.io/GraphvizOnline/#digraph%20Tree%20%7B%0D%0Anode%20%5Bshape%3Dbox%5D%20%3B%0D%0A0%20%5Blabel%3D%22X%5B3%5D%20%3C%3D%20203.5%5Cngini%20%3D%200.499%5Cnsamples%20%3D%207813%5Cnvalue%20%3D%20%5B4101%2C%203712%5D%22%5D%20%3B%0D%0A1%20%5Blabel%3D%22X%5B31%5D%20%3C%3D%200.5%5Cngini%20%3D%200.329%5Cnsamples%20%3D%203112%5Cnvalue%20%3D%20%5B2467%2C%20645%5D%22%5D%20%3B%0D%0A0%20-%3E%201%20%5Blabeldistance%3D2.5%2C%20labelangle%3D45%2C%20headlabel%3D%22True%22%5D%20%3B%0D%0A2%20%5Blabel%3D%22X%5B40%5D%20%3C%3D%200.5%5Cngini%20%3D%200.274%5Cnsamples%20%3D%202910%5Cnvalue%20%3D%20%5B2433%2C%20477%5D%22%5D%20%3B%0D%0A1%20-%3E%202%20%3B%0D%0A3%20%5Blabel%3D%22gini%20%3D%200.249%5Cnsamples%20%3D%202832%5Cnvalue%20%3D%20%5B2419%2C%20413%5D%22%5D%20%3B%0D%0A2%20-%3E%203%20%3B%0D%0A4%20%5Blabel%3D%22gini%20%3D%200.295%5Cnsamples%20%3D%2078%5Cnvalue%20%3D%20%5B14%2C%2064%5D%22%5D%20%3B%0D%0A2%20-%3E%204%20%3B%0D%0A5%20%5Blabel%3D%22X%5B3%5D%20%3C%3D%2068.0%5Cngini%20%3D%200.28%5Cnsamples%20%3D%20202%5Cnvalue%20%3D%20%5B34%2C%20168%5D%22%5D%20%3B%0D%0A1%20-%3E%205%20%3B%0D%0A6%20%5Blabel%3D%22gini%20%3D%200.219%5Cnsamples%20%3D%208%5Cnvalue%20%3D%20%5B7%2C%201%5D%22%5D%20%3B%0D%0A5%20-%3E%206%20%3B%0D%0A7%20%5Blabel%3D%22gini%20%3D%200.24%5Cnsamples%20%3D%20194%5Cnvalue%20%3D%20%5B27%2C%20167%5D%22%5D%20%3B%0D%0A5%20-%3E%207%20%3B%0D%0A8%20%5Blabel%3D%22X%5B3%5D%20%3C%3D%20441.5%5Cngini%20%3D%200.454%5Cnsamples%20%3D%204701%5Cnvalue%20%3D%20%5B1634%2C%203067%5D%22%5D%20%3B%0D%0A0%20-%3E%208%20%5Blabeldistance%3D2.5%2C%20labelangle%3D-45%2C%20headlabel%3D%22False%22%5D%20%3B%0D%0A9%20%5Blabel%3D%22X%5B28%5D%20%3C%3D%200.5%5Cngini%20%3D%200.5%5Cnsamples%20%3D%202481%5Cnvalue%20%3D%20%5B1213%2C%201268%5D%22%5D%20%3B%0D%0A8%20-%3E%209%20%3B%0D%0A10%20%5Blabel%3D%22gini%20%3D%200.478%5Cnsamples%20%3D%202061%5Cnvalue%20%3D%20%5B815%2C%201246%5D%22%5D%20%3B%0D%0A9%20-%3E%2010%20%3B%0D%0A11%20%5Blabel%3D%22gini%20%3D%200.099%5Cnsamples%20%3D%20420%5Cnvalue%20%3D%20%5B398%2C%2022%5D%22%5D%20%3B%0D%0A9%20-%3E%2011%20%3B%0D%0A12%20%5Blabel%3D%22X%5B3%5D%20%3C%3D%20649.5%5Cngini%20%3D%200.307%5Cnsamples%20%3D%202220%5Cnvalue%20%3D%20%5B421%2C%201799%5D%22%5D%20%3B%0D%0A8%20-%3E%2012%20%3B%0D%0A13%20%5Blabel%3D%22gini%20%3D%200.396%5Cnsamples%20%3D%20895%5Cnvalue%20%3D%20%5B243%2C%20652%5D%22%5D%20%3B%0D%0A12%20-%3E%2013%20%3B%0D%0A14%20%5Blabel%3D%22gini%20%3D%200.233%5Cnsamples%20%3D%201325%5Cnvalue%20%3D%20%5B178%2C%201147%5D%22%5D%20%3B%0D%0A12%20-%3E%2014%20%3B%0D%0A%7D"
   ]
  },
  {
   "cell_type": "markdown",
   "metadata": {
    "papermill": {
     "duration": 0.07132,
     "end_time": "2020-10-19T09:41:53.971795",
     "exception": false,
     "start_time": "2020-10-19T09:41:53.900475",
     "status": "completed"
    },
    "tags": []
   },
   "source": [
    "Вычисляем метрику accuracy на валидационном множестве."
   ]
  },
  {
   "cell_type": "code",
   "execution_count": 18,
   "metadata": {
    "execution": {
     "iopub.execute_input": "2020-10-19T09:41:54.127238Z",
     "iopub.status.busy": "2020-10-19T09:41:54.125907Z",
     "iopub.status.idle": "2020-10-19T09:41:54.135342Z",
     "shell.execute_reply": "2020-10-19T09:41:54.134671Z"
    },
    "papermill": {
     "duration": 0.091049,
     "end_time": "2020-10-19T09:41:54.135506",
     "exception": false,
     "start_time": "2020-10-19T09:41:54.044457",
     "status": "completed"
    },
    "tags": []
   },
   "outputs": [
    {
     "data": {
      "text/plain": [
       "0.7745595700209018"
      ]
     },
     "execution_count": 18,
     "metadata": {},
     "output_type": "execute_result"
    }
   ],
   "source": [
    "from sklearn.metrics import accuracy_score\n",
    "y_pred = tree.predict(X_valid)\n",
    "accuracy_score(y_valid, y_pred)"
   ]
  },
  {
   "cell_type": "markdown",
   "metadata": {
    "papermill": {
     "duration": 0.07284,
     "end_time": "2020-10-19T09:41:54.281795",
     "exception": false,
     "start_time": "2020-10-19T09:41:54.208955",
     "status": "completed"
    },
    "tags": []
   },
   "source": [
    "2 Настройка гиперпараметров дерева\n",
    "1 . С о з д а й т е г е н е р а т о р р а з б и е н и й , к о т о р ы й п е р е м е ш и в а е т в ы б о р к у п е р е д с о з д а н и -\n",
    "е м б л о к о в ( s h u f f l e = T r u e ) . Ч и с л о б л о к о в n _ s p l i t s р а в н о 5 . З а д а й т е т а к ж е\n",
    "п а р а м е т р r a n d o m _ s t a t e д л я в о с п р о и з в о д и м о с т и р е з у л ь т а т о в . Н а п р и м е р :\n",
    "k f = K F o l d ( n _ s p l i t s = 5 , s h u f f l e = T r u e , r a n d o m _ s t a t e = 4 2 )"
   ]
  },
  {
   "cell_type": "code",
   "execution_count": 19,
   "metadata": {
    "execution": {
     "iopub.execute_input": "2020-10-19T09:41:54.434761Z",
     "iopub.status.busy": "2020-10-19T09:41:54.433941Z",
     "iopub.status.idle": "2020-10-19T09:41:54.439211Z",
     "shell.execute_reply": "2020-10-19T09:41:54.439873Z"
    },
    "papermill": {
     "duration": 0.084965,
     "end_time": "2020-10-19T09:41:54.440134",
     "exception": false,
     "start_time": "2020-10-19T09:41:54.355169",
     "status": "completed"
    },
    "tags": []
   },
   "outputs": [],
   "source": [
    "from sklearn.model_selection import KFold\n",
    "kf = KFold(n_splits = 5, shuffle = True, random_state = 42)"
   ]
  },
  {
   "cell_type": "markdown",
   "metadata": {
    "papermill": {
     "duration": 0.073413,
     "end_time": "2020-10-19T09:41:54.587231",
     "exception": false,
     "start_time": "2020-10-19T09:41:54.513818",
     "status": "completed"
    },
    "tags": []
   },
   "source": [
    "2 . Осуществите кросс-валидацию модели для подборагиперпараметров:"
   ]
  },
  {
   "cell_type": "code",
   "execution_count": 20,
   "metadata": {
    "execution": {
     "iopub.execute_input": "2020-10-19T09:41:54.742185Z",
     "iopub.status.busy": "2020-10-19T09:41:54.741245Z",
     "iopub.status.idle": "2020-10-19T09:42:10.924470Z",
     "shell.execute_reply": "2020-10-19T09:42:10.923623Z"
    },
    "papermill": {
     "duration": 16.264152,
     "end_time": "2020-10-19T09:42:10.924633",
     "exception": false,
     "start_time": "2020-10-19T09:41:54.660481",
     "status": "completed"
    },
    "tags": []
   },
   "outputs": [
    {
     "data": {
      "text/plain": [
       "GridSearchCV(cv=5,\n",
       "             estimator=DecisionTreeClassifier(max_depth=3, random_state=2019),\n",
       "             param_grid={'max_depth': array([ 2,  3,  4,  5,  6,  7,  8,  9, 10]),\n",
       "                         'min_samples_leaf': array([ 2,  3,  4,  5,  6,  7,  8,  9, 10])},\n",
       "             scoring='accuracy')"
      ]
     },
     "execution_count": 20,
     "metadata": {},
     "output_type": "execute_result"
    }
   ],
   "source": [
    "from sklearn.model_selection import GridSearchCV\n",
    "tree_params = {'max_depth': np.arange(2, 11),\n",
    "               'min_samples_leaf': np.arange(2, 11)}\n",
    "\n",
    "tree_grid = GridSearchCV(tree, tree_params, cv=5, scoring='accuracy') # кросс-валидация по 5 блокам\n",
    "tree_grid.fit(X_train, y_train)"
   ]
  },
  {
   "cell_type": "code",
   "execution_count": 21,
   "metadata": {
    "execution": {
     "iopub.execute_input": "2020-10-19T09:42:11.089532Z",
     "iopub.status.busy": "2020-10-19T09:42:11.088113Z",
     "iopub.status.idle": "2020-10-19T09:42:11.097999Z",
     "shell.execute_reply": "2020-10-19T09:42:11.097295Z"
    },
    "papermill": {
     "duration": 0.097429,
     "end_time": "2020-10-19T09:42:11.098174",
     "exception": false,
     "start_time": "2020-10-19T09:42:11.000745",
     "status": "completed"
    },
    "tags": []
   },
   "outputs": [
    {
     "data": {
      "text/plain": [
       "0.818751866228725"
      ]
     },
     "execution_count": 21,
     "metadata": {},
     "output_type": "execute_result"
    }
   ],
   "source": [
    "best_tree = tree_grid.best_estimator_\n",
    "y_pred = best_tree.predict(X_valid)\n",
    "accuracy_score(y_valid, y_pred)"
   ]
  },
  {
   "cell_type": "code",
   "execution_count": 22,
   "metadata": {
    "execution": {
     "iopub.execute_input": "2020-10-19T09:42:11.310281Z",
     "iopub.status.busy": "2020-10-19T09:42:11.287425Z",
     "iopub.status.idle": "2020-10-19T09:42:11.320670Z",
     "shell.execute_reply": "2020-10-19T09:42:11.321332Z"
    },
    "papermill": {
     "duration": 0.146079,
     "end_time": "2020-10-19T09:42:11.321529",
     "exception": false,
     "start_time": "2020-10-19T09:42:11.175450",
     "status": "completed"
    },
    "tags": []
   },
   "outputs": [
    {
     "data": {
      "text/html": [
       "<div>\n",
       "<style scoped>\n",
       "    .dataframe tbody tr th:only-of-type {\n",
       "        vertical-align: middle;\n",
       "    }\n",
       "\n",
       "    .dataframe tbody tr th {\n",
       "        vertical-align: top;\n",
       "    }\n",
       "\n",
       "    .dataframe thead th {\n",
       "        text-align: right;\n",
       "    }\n",
       "</style>\n",
       "<table border=\"1\" class=\"dataframe\">\n",
       "  <thead>\n",
       "    <tr style=\"text-align: right;\">\n",
       "      <th></th>\n",
       "      <th>0</th>\n",
       "      <th>1</th>\n",
       "      <th>2</th>\n",
       "      <th>3</th>\n",
       "      <th>4</th>\n",
       "      <th>5</th>\n",
       "      <th>6</th>\n",
       "      <th>7</th>\n",
       "      <th>8</th>\n",
       "      <th>9</th>\n",
       "      <th>...</th>\n",
       "      <th>71</th>\n",
       "      <th>72</th>\n",
       "      <th>73</th>\n",
       "      <th>74</th>\n",
       "      <th>75</th>\n",
       "      <th>76</th>\n",
       "      <th>77</th>\n",
       "      <th>78</th>\n",
       "      <th>79</th>\n",
       "      <th>80</th>\n",
       "    </tr>\n",
       "  </thead>\n",
       "  <tbody>\n",
       "    <tr>\n",
       "      <th>mean_fit_time</th>\n",
       "      <td>0.017279</td>\n",
       "      <td>0.0164309</td>\n",
       "      <td>0.0166544</td>\n",
       "      <td>0.01668</td>\n",
       "      <td>0.0166295</td>\n",
       "      <td>0.01762</td>\n",
       "      <td>0.0189727</td>\n",
       "      <td>0.0176142</td>\n",
       "      <td>0.017908</td>\n",
       "      <td>0.0211739</td>\n",
       "      <td>...</td>\n",
       "      <td>0.0469128</td>\n",
       "      <td>0.0529061</td>\n",
       "      <td>0.0523675</td>\n",
       "      <td>0.0522956</td>\n",
       "      <td>0.051282</td>\n",
       "      <td>0.052768</td>\n",
       "      <td>0.0511364</td>\n",
       "      <td>0.0508259</td>\n",
       "      <td>0.0495759</td>\n",
       "      <td>0.0493646</td>\n",
       "    </tr>\n",
       "    <tr>\n",
       "      <th>std_fit_time</th>\n",
       "      <td>0.00128173</td>\n",
       "      <td>6.85988e-05</td>\n",
       "      <td>0.000234391</td>\n",
       "      <td>0.000165281</td>\n",
       "      <td>0.000194081</td>\n",
       "      <td>0.00158875</td>\n",
       "      <td>0.00219663</td>\n",
       "      <td>0.000864861</td>\n",
       "      <td>0.00110967</td>\n",
       "      <td>0.000138723</td>\n",
       "      <td>...</td>\n",
       "      <td>0.000712506</td>\n",
       "      <td>0.000375106</td>\n",
       "      <td>0.000645546</td>\n",
       "      <td>0.000283694</td>\n",
       "      <td>0.000369733</td>\n",
       "      <td>0.00145704</td>\n",
       "      <td>0.000769406</td>\n",
       "      <td>0.000704416</td>\n",
       "      <td>0.000490737</td>\n",
       "      <td>0.000711807</td>\n",
       "    </tr>\n",
       "    <tr>\n",
       "      <th>mean_score_time</th>\n",
       "      <td>0.00394192</td>\n",
       "      <td>0.00393686</td>\n",
       "      <td>0.00396614</td>\n",
       "      <td>0.00409932</td>\n",
       "      <td>0.00389643</td>\n",
       "      <td>0.00426903</td>\n",
       "      <td>0.00491457</td>\n",
       "      <td>0.00424442</td>\n",
       "      <td>0.00425892</td>\n",
       "      <td>0.00396504</td>\n",
       "      <td>...</td>\n",
       "      <td>0.00435505</td>\n",
       "      <td>0.00417943</td>\n",
       "      <td>0.00456095</td>\n",
       "      <td>0.00425072</td>\n",
       "      <td>0.004214</td>\n",
       "      <td>0.00432854</td>\n",
       "      <td>0.00426631</td>\n",
       "      <td>0.00431581</td>\n",
       "      <td>0.00420237</td>\n",
       "      <td>0.00416946</td>\n",
       "    </tr>\n",
       "    <tr>\n",
       "      <th>std_score_time</th>\n",
       "      <td>8.40243e-05</td>\n",
       "      <td>5.85026e-05</td>\n",
       "      <td>3.74812e-05</td>\n",
       "      <td>0.000210006</td>\n",
       "      <td>4.78307e-05</td>\n",
       "      <td>0.00059655</td>\n",
       "      <td>0.0007223</td>\n",
       "      <td>0.000459103</td>\n",
       "      <td>0.000517149</td>\n",
       "      <td>4.96883e-05</td>\n",
       "      <td>...</td>\n",
       "      <td>0.000139518</td>\n",
       "      <td>0.000128524</td>\n",
       "      <td>0.000697676</td>\n",
       "      <td>6.68532e-05</td>\n",
       "      <td>5.29528e-05</td>\n",
       "      <td>9.90524e-05</td>\n",
       "      <td>0.0001268</td>\n",
       "      <td>0.00011227</td>\n",
       "      <td>0.000117319</td>\n",
       "      <td>4.85058e-05</td>\n",
       "    </tr>\n",
       "    <tr>\n",
       "      <th>param_max_depth</th>\n",
       "      <td>2</td>\n",
       "      <td>2</td>\n",
       "      <td>2</td>\n",
       "      <td>2</td>\n",
       "      <td>2</td>\n",
       "      <td>2</td>\n",
       "      <td>2</td>\n",
       "      <td>2</td>\n",
       "      <td>2</td>\n",
       "      <td>3</td>\n",
       "      <td>...</td>\n",
       "      <td>9</td>\n",
       "      <td>10</td>\n",
       "      <td>10</td>\n",
       "      <td>10</td>\n",
       "      <td>10</td>\n",
       "      <td>10</td>\n",
       "      <td>10</td>\n",
       "      <td>10</td>\n",
       "      <td>10</td>\n",
       "      <td>10</td>\n",
       "    </tr>\n",
       "    <tr>\n",
       "      <th>param_min_samples_leaf</th>\n",
       "      <td>2</td>\n",
       "      <td>3</td>\n",
       "      <td>4</td>\n",
       "      <td>5</td>\n",
       "      <td>6</td>\n",
       "      <td>7</td>\n",
       "      <td>8</td>\n",
       "      <td>9</td>\n",
       "      <td>10</td>\n",
       "      <td>2</td>\n",
       "      <td>...</td>\n",
       "      <td>10</td>\n",
       "      <td>2</td>\n",
       "      <td>3</td>\n",
       "      <td>4</td>\n",
       "      <td>5</td>\n",
       "      <td>6</td>\n",
       "      <td>7</td>\n",
       "      <td>8</td>\n",
       "      <td>9</td>\n",
       "      <td>10</td>\n",
       "    </tr>\n",
       "    <tr>\n",
       "      <th>params</th>\n",
       "      <td>{'max_depth': 2, 'min_samples_leaf': 2}</td>\n",
       "      <td>{'max_depth': 2, 'min_samples_leaf': 3}</td>\n",
       "      <td>{'max_depth': 2, 'min_samples_leaf': 4}</td>\n",
       "      <td>{'max_depth': 2, 'min_samples_leaf': 5}</td>\n",
       "      <td>{'max_depth': 2, 'min_samples_leaf': 6}</td>\n",
       "      <td>{'max_depth': 2, 'min_samples_leaf': 7}</td>\n",
       "      <td>{'max_depth': 2, 'min_samples_leaf': 8}</td>\n",
       "      <td>{'max_depth': 2, 'min_samples_leaf': 9}</td>\n",
       "      <td>{'max_depth': 2, 'min_samples_leaf': 10}</td>\n",
       "      <td>{'max_depth': 3, 'min_samples_leaf': 2}</td>\n",
       "      <td>...</td>\n",
       "      <td>{'max_depth': 9, 'min_samples_leaf': 10}</td>\n",
       "      <td>{'max_depth': 10, 'min_samples_leaf': 2}</td>\n",
       "      <td>{'max_depth': 10, 'min_samples_leaf': 3}</td>\n",
       "      <td>{'max_depth': 10, 'min_samples_leaf': 4}</td>\n",
       "      <td>{'max_depth': 10, 'min_samples_leaf': 5}</td>\n",
       "      <td>{'max_depth': 10, 'min_samples_leaf': 6}</td>\n",
       "      <td>{'max_depth': 10, 'min_samples_leaf': 7}</td>\n",
       "      <td>{'max_depth': 10, 'min_samples_leaf': 8}</td>\n",
       "      <td>{'max_depth': 10, 'min_samples_leaf': 9}</td>\n",
       "      <td>{'max_depth': 10, 'min_samples_leaf': 10}</td>\n",
       "    </tr>\n",
       "    <tr>\n",
       "      <th>split0_test_score</th>\n",
       "      <td>0.730006</td>\n",
       "      <td>0.730006</td>\n",
       "      <td>0.730006</td>\n",
       "      <td>0.730006</td>\n",
       "      <td>0.730006</td>\n",
       "      <td>0.730006</td>\n",
       "      <td>0.730006</td>\n",
       "      <td>0.730006</td>\n",
       "      <td>0.730006</td>\n",
       "      <td>0.78055</td>\n",
       "      <td>...</td>\n",
       "      <td>0.8119</td>\n",
       "      <td>0.802943</td>\n",
       "      <td>0.809341</td>\n",
       "      <td>0.809981</td>\n",
       "      <td>0.806782</td>\n",
       "      <td>0.806142</td>\n",
       "      <td>0.810621</td>\n",
       "      <td>0.81318</td>\n",
       "      <td>0.81382</td>\n",
       "      <td>0.808701</td>\n",
       "    </tr>\n",
       "    <tr>\n",
       "      <th>split1_test_score</th>\n",
       "      <td>0.769034</td>\n",
       "      <td>0.769034</td>\n",
       "      <td>0.769034</td>\n",
       "      <td>0.769034</td>\n",
       "      <td>0.769034</td>\n",
       "      <td>0.769034</td>\n",
       "      <td>0.769034</td>\n",
       "      <td>0.769034</td>\n",
       "      <td>0.769034</td>\n",
       "      <td>0.775432</td>\n",
       "      <td>...</td>\n",
       "      <td>0.806782</td>\n",
       "      <td>0.799744</td>\n",
       "      <td>0.803583</td>\n",
       "      <td>0.802943</td>\n",
       "      <td>0.801024</td>\n",
       "      <td>0.801663</td>\n",
       "      <td>0.806142</td>\n",
       "      <td>0.801663</td>\n",
       "      <td>0.801663</td>\n",
       "      <td>0.802303</td>\n",
       "    </tr>\n",
       "    <tr>\n",
       "      <th>split2_test_score</th>\n",
       "      <td>0.701855</td>\n",
       "      <td>0.701855</td>\n",
       "      <td>0.701855</td>\n",
       "      <td>0.701855</td>\n",
       "      <td>0.701855</td>\n",
       "      <td>0.701855</td>\n",
       "      <td>0.701855</td>\n",
       "      <td>0.701855</td>\n",
       "      <td>0.701855</td>\n",
       "      <td>0.767754</td>\n",
       "      <td>...</td>\n",
       "      <td>0.818938</td>\n",
       "      <td>0.806782</td>\n",
       "      <td>0.805502</td>\n",
       "      <td>0.808061</td>\n",
       "      <td>0.814459</td>\n",
       "      <td>0.816379</td>\n",
       "      <td>0.815099</td>\n",
       "      <td>0.815739</td>\n",
       "      <td>0.817019</td>\n",
       "      <td>0.820218</td>\n",
       "    </tr>\n",
       "    <tr>\n",
       "      <th>split3_test_score</th>\n",
       "      <td>0.713188</td>\n",
       "      <td>0.713188</td>\n",
       "      <td>0.713188</td>\n",
       "      <td>0.713188</td>\n",
       "      <td>0.713188</td>\n",
       "      <td>0.713188</td>\n",
       "      <td>0.713188</td>\n",
       "      <td>0.713188</td>\n",
       "      <td>0.713188</td>\n",
       "      <td>0.775928</td>\n",
       "      <td>...</td>\n",
       "      <td>0.81242</td>\n",
       "      <td>0.797695</td>\n",
       "      <td>0.801536</td>\n",
       "      <td>0.799616</td>\n",
       "      <td>0.806658</td>\n",
       "      <td>0.800896</td>\n",
       "      <td>0.807939</td>\n",
       "      <td>0.809859</td>\n",
       "      <td>0.810499</td>\n",
       "      <td>0.810499</td>\n",
       "    </tr>\n",
       "    <tr>\n",
       "      <th>split4_test_score</th>\n",
       "      <td>0.769526</td>\n",
       "      <td>0.769526</td>\n",
       "      <td>0.769526</td>\n",
       "      <td>0.769526</td>\n",
       "      <td>0.769526</td>\n",
       "      <td>0.769526</td>\n",
       "      <td>0.769526</td>\n",
       "      <td>0.769526</td>\n",
       "      <td>0.769526</td>\n",
       "      <td>0.768886</td>\n",
       "      <td>...</td>\n",
       "      <td>0.823303</td>\n",
       "      <td>0.818182</td>\n",
       "      <td>0.81306</td>\n",
       "      <td>0.820743</td>\n",
       "      <td>0.825224</td>\n",
       "      <td>0.825224</td>\n",
       "      <td>0.822663</td>\n",
       "      <td>0.827785</td>\n",
       "      <td>0.823303</td>\n",
       "      <td>0.825864</td>\n",
       "    </tr>\n",
       "    <tr>\n",
       "      <th>mean_test_score</th>\n",
       "      <td>0.736722</td>\n",
       "      <td>0.736722</td>\n",
       "      <td>0.736722</td>\n",
       "      <td>0.736722</td>\n",
       "      <td>0.736722</td>\n",
       "      <td>0.736722</td>\n",
       "      <td>0.736722</td>\n",
       "      <td>0.736722</td>\n",
       "      <td>0.736722</td>\n",
       "      <td>0.77371</td>\n",
       "      <td>...</td>\n",
       "      <td>0.814669</td>\n",
       "      <td>0.805069</td>\n",
       "      <td>0.806605</td>\n",
       "      <td>0.808269</td>\n",
       "      <td>0.810829</td>\n",
       "      <td>0.810061</td>\n",
       "      <td>0.812493</td>\n",
       "      <td>0.813645</td>\n",
       "      <td>0.813261</td>\n",
       "      <td>0.813517</td>\n",
       "    </tr>\n",
       "    <tr>\n",
       "      <th>std_test_score</th>\n",
       "      <td>0.0280528</td>\n",
       "      <td>0.0280528</td>\n",
       "      <td>0.0280528</td>\n",
       "      <td>0.0280528</td>\n",
       "      <td>0.0280528</td>\n",
       "      <td>0.0280528</td>\n",
       "      <td>0.0280528</td>\n",
       "      <td>0.0280528</td>\n",
       "      <td>0.0280528</td>\n",
       "      <td>0.00476267</td>\n",
       "      <td>...</td>\n",
       "      <td>0.00579154</td>\n",
       "      <td>0.00724053</td>\n",
       "      <td>0.00412782</td>\n",
       "      <td>0.00723612</td>\n",
       "      <td>0.0083704</td>\n",
       "      <td>0.00937765</td>\n",
       "      <td>0.00591287</td>\n",
       "      <td>0.00851384</td>\n",
       "      <td>0.00717512</td>\n",
       "      <td>0.00843087</td>\n",
       "    </tr>\n",
       "    <tr>\n",
       "      <th>rank_test_score</th>\n",
       "      <td>73</td>\n",
       "      <td>73</td>\n",
       "      <td>73</td>\n",
       "      <td>73</td>\n",
       "      <td>73</td>\n",
       "      <td>73</td>\n",
       "      <td>73</td>\n",
       "      <td>73</td>\n",
       "      <td>73</td>\n",
       "      <td>64</td>\n",
       "      <td>...</td>\n",
       "      <td>9</td>\n",
       "      <td>45</td>\n",
       "      <td>44</td>\n",
       "      <td>43</td>\n",
       "      <td>32</td>\n",
       "      <td>41</td>\n",
       "      <td>22</td>\n",
       "      <td>13</td>\n",
       "      <td>18</td>\n",
       "      <td>15</td>\n",
       "    </tr>\n",
       "  </tbody>\n",
       "</table>\n",
       "<p>15 rows × 81 columns</p>\n",
       "</div>"
      ],
      "text/plain": [
       "                                                             0   \\\n",
       "mean_fit_time                                          0.017279   \n",
       "std_fit_time                                         0.00128173   \n",
       "mean_score_time                                      0.00394192   \n",
       "std_score_time                                      8.40243e-05   \n",
       "param_max_depth                                               2   \n",
       "param_min_samples_leaf                                        2   \n",
       "params                  {'max_depth': 2, 'min_samples_leaf': 2}   \n",
       "split0_test_score                                      0.730006   \n",
       "split1_test_score                                      0.769034   \n",
       "split2_test_score                                      0.701855   \n",
       "split3_test_score                                      0.713188   \n",
       "split4_test_score                                      0.769526   \n",
       "mean_test_score                                        0.736722   \n",
       "std_test_score                                        0.0280528   \n",
       "rank_test_score                                              73   \n",
       "\n",
       "                                                             1   \\\n",
       "mean_fit_time                                         0.0164309   \n",
       "std_fit_time                                        6.85988e-05   \n",
       "mean_score_time                                      0.00393686   \n",
       "std_score_time                                      5.85026e-05   \n",
       "param_max_depth                                               2   \n",
       "param_min_samples_leaf                                        3   \n",
       "params                  {'max_depth': 2, 'min_samples_leaf': 3}   \n",
       "split0_test_score                                      0.730006   \n",
       "split1_test_score                                      0.769034   \n",
       "split2_test_score                                      0.701855   \n",
       "split3_test_score                                      0.713188   \n",
       "split4_test_score                                      0.769526   \n",
       "mean_test_score                                        0.736722   \n",
       "std_test_score                                        0.0280528   \n",
       "rank_test_score                                              73   \n",
       "\n",
       "                                                             2   \\\n",
       "mean_fit_time                                         0.0166544   \n",
       "std_fit_time                                        0.000234391   \n",
       "mean_score_time                                      0.00396614   \n",
       "std_score_time                                      3.74812e-05   \n",
       "param_max_depth                                               2   \n",
       "param_min_samples_leaf                                        4   \n",
       "params                  {'max_depth': 2, 'min_samples_leaf': 4}   \n",
       "split0_test_score                                      0.730006   \n",
       "split1_test_score                                      0.769034   \n",
       "split2_test_score                                      0.701855   \n",
       "split3_test_score                                      0.713188   \n",
       "split4_test_score                                      0.769526   \n",
       "mean_test_score                                        0.736722   \n",
       "std_test_score                                        0.0280528   \n",
       "rank_test_score                                              73   \n",
       "\n",
       "                                                             3   \\\n",
       "mean_fit_time                                           0.01668   \n",
       "std_fit_time                                        0.000165281   \n",
       "mean_score_time                                      0.00409932   \n",
       "std_score_time                                      0.000210006   \n",
       "param_max_depth                                               2   \n",
       "param_min_samples_leaf                                        5   \n",
       "params                  {'max_depth': 2, 'min_samples_leaf': 5}   \n",
       "split0_test_score                                      0.730006   \n",
       "split1_test_score                                      0.769034   \n",
       "split2_test_score                                      0.701855   \n",
       "split3_test_score                                      0.713188   \n",
       "split4_test_score                                      0.769526   \n",
       "mean_test_score                                        0.736722   \n",
       "std_test_score                                        0.0280528   \n",
       "rank_test_score                                              73   \n",
       "\n",
       "                                                             4   \\\n",
       "mean_fit_time                                         0.0166295   \n",
       "std_fit_time                                        0.000194081   \n",
       "mean_score_time                                      0.00389643   \n",
       "std_score_time                                      4.78307e-05   \n",
       "param_max_depth                                               2   \n",
       "param_min_samples_leaf                                        6   \n",
       "params                  {'max_depth': 2, 'min_samples_leaf': 6}   \n",
       "split0_test_score                                      0.730006   \n",
       "split1_test_score                                      0.769034   \n",
       "split2_test_score                                      0.701855   \n",
       "split3_test_score                                      0.713188   \n",
       "split4_test_score                                      0.769526   \n",
       "mean_test_score                                        0.736722   \n",
       "std_test_score                                        0.0280528   \n",
       "rank_test_score                                              73   \n",
       "\n",
       "                                                             5   \\\n",
       "mean_fit_time                                           0.01762   \n",
       "std_fit_time                                         0.00158875   \n",
       "mean_score_time                                      0.00426903   \n",
       "std_score_time                                       0.00059655   \n",
       "param_max_depth                                               2   \n",
       "param_min_samples_leaf                                        7   \n",
       "params                  {'max_depth': 2, 'min_samples_leaf': 7}   \n",
       "split0_test_score                                      0.730006   \n",
       "split1_test_score                                      0.769034   \n",
       "split2_test_score                                      0.701855   \n",
       "split3_test_score                                      0.713188   \n",
       "split4_test_score                                      0.769526   \n",
       "mean_test_score                                        0.736722   \n",
       "std_test_score                                        0.0280528   \n",
       "rank_test_score                                              73   \n",
       "\n",
       "                                                             6   \\\n",
       "mean_fit_time                                         0.0189727   \n",
       "std_fit_time                                         0.00219663   \n",
       "mean_score_time                                      0.00491457   \n",
       "std_score_time                                        0.0007223   \n",
       "param_max_depth                                               2   \n",
       "param_min_samples_leaf                                        8   \n",
       "params                  {'max_depth': 2, 'min_samples_leaf': 8}   \n",
       "split0_test_score                                      0.730006   \n",
       "split1_test_score                                      0.769034   \n",
       "split2_test_score                                      0.701855   \n",
       "split3_test_score                                      0.713188   \n",
       "split4_test_score                                      0.769526   \n",
       "mean_test_score                                        0.736722   \n",
       "std_test_score                                        0.0280528   \n",
       "rank_test_score                                              73   \n",
       "\n",
       "                                                             7   \\\n",
       "mean_fit_time                                         0.0176142   \n",
       "std_fit_time                                        0.000864861   \n",
       "mean_score_time                                      0.00424442   \n",
       "std_score_time                                      0.000459103   \n",
       "param_max_depth                                               2   \n",
       "param_min_samples_leaf                                        9   \n",
       "params                  {'max_depth': 2, 'min_samples_leaf': 9}   \n",
       "split0_test_score                                      0.730006   \n",
       "split1_test_score                                      0.769034   \n",
       "split2_test_score                                      0.701855   \n",
       "split3_test_score                                      0.713188   \n",
       "split4_test_score                                      0.769526   \n",
       "mean_test_score                                        0.736722   \n",
       "std_test_score                                        0.0280528   \n",
       "rank_test_score                                              73   \n",
       "\n",
       "                                                              8   \\\n",
       "mean_fit_time                                           0.017908   \n",
       "std_fit_time                                          0.00110967   \n",
       "mean_score_time                                       0.00425892   \n",
       "std_score_time                                       0.000517149   \n",
       "param_max_depth                                                2   \n",
       "param_min_samples_leaf                                        10   \n",
       "params                  {'max_depth': 2, 'min_samples_leaf': 10}   \n",
       "split0_test_score                                       0.730006   \n",
       "split1_test_score                                       0.769034   \n",
       "split2_test_score                                       0.701855   \n",
       "split3_test_score                                       0.713188   \n",
       "split4_test_score                                       0.769526   \n",
       "mean_test_score                                         0.736722   \n",
       "std_test_score                                         0.0280528   \n",
       "rank_test_score                                               73   \n",
       "\n",
       "                                                             9   ...  \\\n",
       "mean_fit_time                                         0.0211739  ...   \n",
       "std_fit_time                                        0.000138723  ...   \n",
       "mean_score_time                                      0.00396504  ...   \n",
       "std_score_time                                      4.96883e-05  ...   \n",
       "param_max_depth                                               3  ...   \n",
       "param_min_samples_leaf                                        2  ...   \n",
       "params                  {'max_depth': 3, 'min_samples_leaf': 2}  ...   \n",
       "split0_test_score                                       0.78055  ...   \n",
       "split1_test_score                                      0.775432  ...   \n",
       "split2_test_score                                      0.767754  ...   \n",
       "split3_test_score                                      0.775928  ...   \n",
       "split4_test_score                                      0.768886  ...   \n",
       "mean_test_score                                         0.77371  ...   \n",
       "std_test_score                                       0.00476267  ...   \n",
       "rank_test_score                                              64  ...   \n",
       "\n",
       "                                                              71  \\\n",
       "mean_fit_time                                          0.0469128   \n",
       "std_fit_time                                         0.000712506   \n",
       "mean_score_time                                       0.00435505   \n",
       "std_score_time                                       0.000139518   \n",
       "param_max_depth                                                9   \n",
       "param_min_samples_leaf                                        10   \n",
       "params                  {'max_depth': 9, 'min_samples_leaf': 10}   \n",
       "split0_test_score                                         0.8119   \n",
       "split1_test_score                                       0.806782   \n",
       "split2_test_score                                       0.818938   \n",
       "split3_test_score                                        0.81242   \n",
       "split4_test_score                                       0.823303   \n",
       "mean_test_score                                         0.814669   \n",
       "std_test_score                                        0.00579154   \n",
       "rank_test_score                                                9   \n",
       "\n",
       "                                                              72  \\\n",
       "mean_fit_time                                          0.0529061   \n",
       "std_fit_time                                         0.000375106   \n",
       "mean_score_time                                       0.00417943   \n",
       "std_score_time                                       0.000128524   \n",
       "param_max_depth                                               10   \n",
       "param_min_samples_leaf                                         2   \n",
       "params                  {'max_depth': 10, 'min_samples_leaf': 2}   \n",
       "split0_test_score                                       0.802943   \n",
       "split1_test_score                                       0.799744   \n",
       "split2_test_score                                       0.806782   \n",
       "split3_test_score                                       0.797695   \n",
       "split4_test_score                                       0.818182   \n",
       "mean_test_score                                         0.805069   \n",
       "std_test_score                                        0.00724053   \n",
       "rank_test_score                                               45   \n",
       "\n",
       "                                                              73  \\\n",
       "mean_fit_time                                          0.0523675   \n",
       "std_fit_time                                         0.000645546   \n",
       "mean_score_time                                       0.00456095   \n",
       "std_score_time                                       0.000697676   \n",
       "param_max_depth                                               10   \n",
       "param_min_samples_leaf                                         3   \n",
       "params                  {'max_depth': 10, 'min_samples_leaf': 3}   \n",
       "split0_test_score                                       0.809341   \n",
       "split1_test_score                                       0.803583   \n",
       "split2_test_score                                       0.805502   \n",
       "split3_test_score                                       0.801536   \n",
       "split4_test_score                                        0.81306   \n",
       "mean_test_score                                         0.806605   \n",
       "std_test_score                                        0.00412782   \n",
       "rank_test_score                                               44   \n",
       "\n",
       "                                                              74  \\\n",
       "mean_fit_time                                          0.0522956   \n",
       "std_fit_time                                         0.000283694   \n",
       "mean_score_time                                       0.00425072   \n",
       "std_score_time                                       6.68532e-05   \n",
       "param_max_depth                                               10   \n",
       "param_min_samples_leaf                                         4   \n",
       "params                  {'max_depth': 10, 'min_samples_leaf': 4}   \n",
       "split0_test_score                                       0.809981   \n",
       "split1_test_score                                       0.802943   \n",
       "split2_test_score                                       0.808061   \n",
       "split3_test_score                                       0.799616   \n",
       "split4_test_score                                       0.820743   \n",
       "mean_test_score                                         0.808269   \n",
       "std_test_score                                        0.00723612   \n",
       "rank_test_score                                               43   \n",
       "\n",
       "                                                              75  \\\n",
       "mean_fit_time                                           0.051282   \n",
       "std_fit_time                                         0.000369733   \n",
       "mean_score_time                                         0.004214   \n",
       "std_score_time                                       5.29528e-05   \n",
       "param_max_depth                                               10   \n",
       "param_min_samples_leaf                                         5   \n",
       "params                  {'max_depth': 10, 'min_samples_leaf': 5}   \n",
       "split0_test_score                                       0.806782   \n",
       "split1_test_score                                       0.801024   \n",
       "split2_test_score                                       0.814459   \n",
       "split3_test_score                                       0.806658   \n",
       "split4_test_score                                       0.825224   \n",
       "mean_test_score                                         0.810829   \n",
       "std_test_score                                         0.0083704   \n",
       "rank_test_score                                               32   \n",
       "\n",
       "                                                              76  \\\n",
       "mean_fit_time                                           0.052768   \n",
       "std_fit_time                                          0.00145704   \n",
       "mean_score_time                                       0.00432854   \n",
       "std_score_time                                       9.90524e-05   \n",
       "param_max_depth                                               10   \n",
       "param_min_samples_leaf                                         6   \n",
       "params                  {'max_depth': 10, 'min_samples_leaf': 6}   \n",
       "split0_test_score                                       0.806142   \n",
       "split1_test_score                                       0.801663   \n",
       "split2_test_score                                       0.816379   \n",
       "split3_test_score                                       0.800896   \n",
       "split4_test_score                                       0.825224   \n",
       "mean_test_score                                         0.810061   \n",
       "std_test_score                                        0.00937765   \n",
       "rank_test_score                                               41   \n",
       "\n",
       "                                                              77  \\\n",
       "mean_fit_time                                          0.0511364   \n",
       "std_fit_time                                         0.000769406   \n",
       "mean_score_time                                       0.00426631   \n",
       "std_score_time                                         0.0001268   \n",
       "param_max_depth                                               10   \n",
       "param_min_samples_leaf                                         7   \n",
       "params                  {'max_depth': 10, 'min_samples_leaf': 7}   \n",
       "split0_test_score                                       0.810621   \n",
       "split1_test_score                                       0.806142   \n",
       "split2_test_score                                       0.815099   \n",
       "split3_test_score                                       0.807939   \n",
       "split4_test_score                                       0.822663   \n",
       "mean_test_score                                         0.812493   \n",
       "std_test_score                                        0.00591287   \n",
       "rank_test_score                                               22   \n",
       "\n",
       "                                                              78  \\\n",
       "mean_fit_time                                          0.0508259   \n",
       "std_fit_time                                         0.000704416   \n",
       "mean_score_time                                       0.00431581   \n",
       "std_score_time                                        0.00011227   \n",
       "param_max_depth                                               10   \n",
       "param_min_samples_leaf                                         8   \n",
       "params                  {'max_depth': 10, 'min_samples_leaf': 8}   \n",
       "split0_test_score                                        0.81318   \n",
       "split1_test_score                                       0.801663   \n",
       "split2_test_score                                       0.815739   \n",
       "split3_test_score                                       0.809859   \n",
       "split4_test_score                                       0.827785   \n",
       "mean_test_score                                         0.813645   \n",
       "std_test_score                                        0.00851384   \n",
       "rank_test_score                                               13   \n",
       "\n",
       "                                                              79  \\\n",
       "mean_fit_time                                          0.0495759   \n",
       "std_fit_time                                         0.000490737   \n",
       "mean_score_time                                       0.00420237   \n",
       "std_score_time                                       0.000117319   \n",
       "param_max_depth                                               10   \n",
       "param_min_samples_leaf                                         9   \n",
       "params                  {'max_depth': 10, 'min_samples_leaf': 9}   \n",
       "split0_test_score                                        0.81382   \n",
       "split1_test_score                                       0.801663   \n",
       "split2_test_score                                       0.817019   \n",
       "split3_test_score                                       0.810499   \n",
       "split4_test_score                                       0.823303   \n",
       "mean_test_score                                         0.813261   \n",
       "std_test_score                                        0.00717512   \n",
       "rank_test_score                                               18   \n",
       "\n",
       "                                                               80  \n",
       "mean_fit_time                                           0.0493646  \n",
       "std_fit_time                                          0.000711807  \n",
       "mean_score_time                                        0.00416946  \n",
       "std_score_time                                        4.85058e-05  \n",
       "param_max_depth                                                10  \n",
       "param_min_samples_leaf                                         10  \n",
       "params                  {'max_depth': 10, 'min_samples_leaf': 10}  \n",
       "split0_test_score                                        0.808701  \n",
       "split1_test_score                                        0.802303  \n",
       "split2_test_score                                        0.820218  \n",
       "split3_test_score                                        0.810499  \n",
       "split4_test_score                                        0.825864  \n",
       "mean_test_score                                          0.813517  \n",
       "std_test_score                                         0.00843087  \n",
       "rank_test_score                                                15  \n",
       "\n",
       "[15 rows x 81 columns]"
      ]
     },
     "execution_count": 22,
     "metadata": {},
     "output_type": "execute_result"
    }
   ],
   "source": [
    "pd.DataFrame(tree_grid.cv_results_).T"
   ]
  },
  {
   "cell_type": "code",
   "execution_count": 23,
   "metadata": {
    "execution": {
     "iopub.execute_input": "2020-10-19T09:42:11.485415Z",
     "iopub.status.busy": "2020-10-19T09:42:11.484459Z",
     "iopub.status.idle": "2020-10-19T09:42:13.455539Z",
     "shell.execute_reply": "2020-10-19T09:42:13.454679Z"
    },
    "papermill": {
     "duration": 2.056743,
     "end_time": "2020-10-19T09:42:13.455693",
     "exception": false,
     "start_time": "2020-10-19T09:42:11.398950",
     "status": "completed"
    },
    "tags": []
   },
   "outputs": [
    {
     "data": {
      "text/plain": [
       "GridSearchCV(cv=KFold(n_splits=5, random_state=42, shuffle=True),\n",
       "             estimator=DecisionTreeClassifier(max_depth=3, random_state=2019),\n",
       "             param_grid={'max_depth': array([ 2,  3,  4,  5,  6,  7,  8,  9, 10])},\n",
       "             scoring='accuracy')"
      ]
     },
     "execution_count": 23,
     "metadata": {},
     "output_type": "execute_result"
    }
   ],
   "source": [
    "\n",
    "tree_params = {'max_depth': np.arange(2, 11),\n",
    "               #'min_samples_leaf': np.arange(2, 11),\n",
    "               #'min_samples_split':np.arange(2,11),\n",
    "               #'max_features':np.arange(2,11)\n",
    "              }\n",
    "\n",
    "tree_grid_max_depth = GridSearchCV(tree, tree_params, cv=kf, scoring='accuracy')\n",
    "tree_grid_max_depth.fit(X_train, y_train)"
   ]
  },
  {
   "cell_type": "code",
   "execution_count": 24,
   "metadata": {
    "execution": {
     "iopub.execute_input": "2020-10-19T09:42:13.645210Z",
     "iopub.status.busy": "2020-10-19T09:42:13.644331Z",
     "iopub.status.idle": "2020-10-19T09:42:13.830327Z",
     "shell.execute_reply": "2020-10-19T09:42:13.830907Z"
    },
    "papermill": {
     "duration": 0.297726,
     "end_time": "2020-10-19T09:42:13.831122",
     "exception": false,
     "start_time": "2020-10-19T09:42:13.533396",
     "status": "completed"
    },
    "tags": []
   },
   "outputs": [
    {
     "data": {
      "text/plain": [
       "<Figure size 432x288 with 0 Axes>"
      ]
     },
     "execution_count": 24,
     "metadata": {},
     "output_type": "execute_result"
    },
    {
     "data": {
      "image/png": "[encoded data removed]",
      "text/plain": [
       "<Figure size 432x288 with 1 Axes>"
      ]
     },
     "metadata": {
      "needs_background": "light"
     },
     "output_type": "display_data"
    },
    {
     "data": {
      "text/plain": [
       "<Figure size 432x288 with 0 Axes>"
      ]
     },
     "metadata": {},
     "output_type": "display_data"
    }
   ],
   "source": [
    "end = pd.DataFrame(tree_grid_max_depth.cv_results_)\n",
    "end.head().T\n",
    "plt.plot(end['param_max_depth'], end['mean_test_score'])\n",
    "plt.ylabel('accuracy scoring')\n",
    "plt.xlabel('max_depth')\n",
    "plt.figure()"
   ]
  },
  {
   "cell_type": "code",
   "execution_count": 25,
   "metadata": {
    "execution": {
     "iopub.execute_input": "2020-10-19T09:42:14.073507Z",
     "iopub.status.busy": "2020-10-19T09:42:14.072240Z",
     "iopub.status.idle": "2020-10-19T09:42:14.077434Z",
     "shell.execute_reply": "2020-10-19T09:42:14.076661Z"
    },
    "papermill": {
     "duration": 0.16572,
     "end_time": "2020-10-19T09:42:14.077578",
     "exception": false,
     "start_time": "2020-10-19T09:42:13.911858",
     "status": "completed"
    },
    "tags": []
   },
   "outputs": [
    {
     "data": {
      "text/plain": [
       "{'max_depth': 8}"
      ]
     },
     "execution_count": 25,
     "metadata": {},
     "output_type": "execute_result"
    }
   ],
   "source": [
    "tree_grid_max_depth.best_params_"
   ]
  },
  {
   "cell_type": "code",
   "execution_count": 26,
   "metadata": {
    "execution": {
     "iopub.execute_input": "2020-10-19T09:42:14.246586Z",
     "iopub.status.busy": "2020-10-19T09:42:14.245631Z",
     "iopub.status.idle": "2020-10-19T09:42:14.249804Z",
     "shell.execute_reply": "2020-10-19T09:42:14.250428Z"
    },
    "papermill": {
     "duration": 0.092647,
     "end_time": "2020-10-19T09:42:14.250609",
     "exception": false,
     "start_time": "2020-10-19T09:42:14.157962",
     "status": "completed"
    },
    "tags": []
   },
   "outputs": [
    {
     "data": {
      "text/plain": [
       "DecisionTreeClassifier(max_depth=8, random_state=2019)"
      ]
     },
     "execution_count": 26,
     "metadata": {},
     "output_type": "execute_result"
    }
   ],
   "source": [
    "tree_grid_max_depth.best_estimator_"
   ]
  },
  {
   "cell_type": "code",
   "execution_count": 27,
   "metadata": {
    "execution": {
     "iopub.execute_input": "2020-10-19T09:42:14.421377Z",
     "iopub.status.busy": "2020-10-19T09:42:14.420424Z",
     "iopub.status.idle": "2020-10-19T09:42:14.425374Z",
     "shell.execute_reply": "2020-10-19T09:42:14.424527Z"
    },
    "papermill": {
     "duration": 0.094281,
     "end_time": "2020-10-19T09:42:14.425525",
     "exception": false,
     "start_time": "2020-10-19T09:42:14.331244",
     "status": "completed"
    },
    "tags": []
   },
   "outputs": [
    {
     "data": {
      "text/plain": [
       "0.8191476550807198"
      ]
     },
     "execution_count": 27,
     "metadata": {},
     "output_type": "execute_result"
    }
   ],
   "source": [
    "tree_grid_max_depth.best_score_"
   ]
  },
  {
   "cell_type": "code",
   "execution_count": 28,
   "metadata": {
    "execution": {
     "iopub.execute_input": "2020-10-19T09:42:14.603165Z",
     "iopub.status.busy": "2020-10-19T09:42:14.601898Z",
     "iopub.status.idle": "2020-10-19T09:42:17.132613Z",
     "shell.execute_reply": "2020-10-19T09:42:17.131898Z"
    },
    "papermill": {
     "duration": 2.626229,
     "end_time": "2020-10-19T09:42:17.132755",
     "exception": false,
     "start_time": "2020-10-19T09:42:14.506526",
     "status": "completed"
    },
    "tags": []
   },
   "outputs": [
    {
     "data": {
      "text/plain": [
       "GridSearchCV(cv=KFold(n_splits=5, random_state=42, shuffle=True),\n",
       "             estimator=DecisionTreeClassifier(max_depth=3, random_state=2019),\n",
       "             param_grid={'max_depth': [9],\n",
       "                         'min_samples_leaf': array([ 2,  3,  4,  5,  6,  7,  8,  9, 10])},\n",
       "             scoring='accuracy')"
      ]
     },
     "execution_count": 28,
     "metadata": {},
     "output_type": "execute_result"
    }
   ],
   "source": [
    "tree_params = {'max_depth': [9],\n",
    "               'min_samples_leaf': np.arange(2, 11),\n",
    "               #'min_samples_split':np.arange(2,11),\n",
    "               #'max_features':np.arange(2,11)\n",
    "              }\n",
    "tree_grid_min_samples_leaf = GridSearchCV(tree, tree_params, cv=kf, scoring='accuracy')\n",
    "tree_grid_min_samples_leaf.fit(X_train, y_train)"
   ]
  },
  {
   "cell_type": "code",
   "execution_count": 29,
   "metadata": {
    "execution": {
     "iopub.execute_input": "2020-10-19T09:42:17.315854Z",
     "iopub.status.busy": "2020-10-19T09:42:17.314959Z",
     "iopub.status.idle": "2020-10-19T09:42:17.491431Z",
     "shell.execute_reply": "2020-10-19T09:42:17.490624Z"
    },
    "papermill": {
     "duration": 0.276463,
     "end_time": "2020-10-19T09:42:17.491578",
     "exception": false,
     "start_time": "2020-10-19T09:42:17.215115",
     "status": "completed"
    },
    "tags": []
   },
   "outputs": [
    {
     "data": {
      "text/plain": [
       "<Figure size 432x288 with 0 Axes>"
      ]
     },
     "execution_count": 29,
     "metadata": {},
     "output_type": "execute_result"
    },
    {
     "data": {
      "image/png": "[encoded data removed]",
      "text/plain": [
       "<Figure size 432x288 with 1 Axes>"
      ]
     },
     "metadata": {
      "needs_background": "light"
     },
     "output_type": "display_data"
    },
    {
     "data": {
      "text/plain": [
       "<Figure size 432x288 with 0 Axes>"
      ]
     },
     "metadata": {},
     "output_type": "display_data"
    }
   ],
   "source": [
    "end = pd.DataFrame(tree_grid_min_samples_leaf.cv_results_)\n",
    "end.head().T\n",
    "plt.plot(end['param_min_samples_leaf'], end['mean_test_score'])\n",
    "plt.ylabel('accuracy scoring')\n",
    "plt.xlabel('min_samples_leaf')\n",
    "plt.figure()"
   ]
  },
  {
   "cell_type": "code",
   "execution_count": 30,
   "metadata": {
    "execution": {
     "iopub.execute_input": "2020-10-19T09:42:17.665074Z",
     "iopub.status.busy": "2020-10-19T09:42:17.664125Z",
     "iopub.status.idle": "2020-10-19T09:42:17.668607Z",
     "shell.execute_reply": "2020-10-19T09:42:17.667936Z"
    },
    "papermill": {
     "duration": 0.094068,
     "end_time": "2020-10-19T09:42:17.668761",
     "exception": false,
     "start_time": "2020-10-19T09:42:17.574693",
     "status": "completed"
    },
    "tags": []
   },
   "outputs": [
    {
     "data": {
      "text/plain": [
       "0.8237577035527888"
      ]
     },
     "execution_count": 30,
     "metadata": {},
     "output_type": "execute_result"
    }
   ],
   "source": [
    "tree_grid_min_samples_leaf.best_score_"
   ]
  },
  {
   "cell_type": "code",
   "execution_count": 31,
   "metadata": {
    "execution": {
     "iopub.execute_input": "2020-10-19T09:42:17.843212Z",
     "iopub.status.busy": "2020-10-19T09:42:17.841973Z",
     "iopub.status.idle": "2020-10-19T09:42:17.846574Z",
     "shell.execute_reply": "2020-10-19T09:42:17.845871Z"
    },
    "papermill": {
     "duration": 0.094626,
     "end_time": "2020-10-19T09:42:17.846726",
     "exception": false,
     "start_time": "2020-10-19T09:42:17.752100",
     "status": "completed"
    },
    "tags": []
   },
   "outputs": [
    {
     "data": {
      "text/plain": [
       "DecisionTreeClassifier(max_depth=9, min_samples_leaf=9, random_state=2019)"
      ]
     },
     "execution_count": 31,
     "metadata": {},
     "output_type": "execute_result"
    }
   ],
   "source": [
    "tree_grid_min_samples_leaf.best_estimator_"
   ]
  },
  {
   "cell_type": "code",
   "execution_count": 32,
   "metadata": {
    "execution": {
     "iopub.execute_input": "2020-10-19T09:42:18.024927Z",
     "iopub.status.busy": "2020-10-19T09:42:18.024045Z",
     "iopub.status.idle": "2020-10-19T09:42:18.028579Z",
     "shell.execute_reply": "2020-10-19T09:42:18.027850Z"
    },
    "papermill": {
     "duration": 0.09651,
     "end_time": "2020-10-19T09:42:18.028726",
     "exception": false,
     "start_time": "2020-10-19T09:42:17.932216",
     "status": "completed"
    },
    "tags": []
   },
   "outputs": [
    {
     "data": {
      "text/plain": [
       "{'max_depth': 9, 'min_samples_leaf': 9}"
      ]
     },
     "execution_count": 32,
     "metadata": {},
     "output_type": "execute_result"
    }
   ],
   "source": [
    "tree_grid_min_samples_leaf.best_params_"
   ]
  },
  {
   "cell_type": "code",
   "execution_count": 33,
   "metadata": {
    "execution": {
     "iopub.execute_input": "2020-10-19T09:42:18.209312Z",
     "iopub.status.busy": "2020-10-19T09:42:18.208464Z",
     "iopub.status.idle": "2020-10-19T09:42:23.370436Z",
     "shell.execute_reply": "2020-10-19T09:42:23.369431Z"
    },
    "papermill": {
     "duration": 5.256902,
     "end_time": "2020-10-19T09:42:23.370643",
     "exception": false,
     "start_time": "2020-10-19T09:42:18.113741",
     "status": "completed"
    },
    "tags": []
   },
   "outputs": [
    {
     "data": {
      "text/plain": [
       "GridSearchCV(cv=KFold(n_splits=5, random_state=42, shuffle=True),\n",
       "             estimator=DecisionTreeClassifier(max_depth=3, random_state=2019),\n",
       "             param_grid={'max_depth': [9], 'min_samples_leaf': [3],\n",
       "                         'min_samples_split': array([ 2,  3,  4,  5,  6,  7,  8,  9, 10, 11, 12, 13, 14, 15, 16, 17, 18,\n",
       "       19, 20])},\n",
       "             scoring='accuracy')"
      ]
     },
     "execution_count": 33,
     "metadata": {},
     "output_type": "execute_result"
    }
   ],
   "source": [
    "tree_params = {'max_depth': [9],\n",
    "               'min_samples_leaf': [3],\n",
    "                'min_samples_split':np.arange(2,21)\n",
    "              }\n",
    "tree_grid_min_samples_split = GridSearchCV(tree, tree_params, cv=kf, scoring='accuracy') \n",
    "tree_grid_min_samples_split.fit(X_train, y_train)"
   ]
  },
  {
   "cell_type": "code",
   "execution_count": 34,
   "metadata": {
    "execution": {
     "iopub.execute_input": "2020-10-19T09:42:23.570377Z",
     "iopub.status.busy": "2020-10-19T09:42:23.569430Z",
     "iopub.status.idle": "2020-10-19T09:42:23.754445Z",
     "shell.execute_reply": "2020-10-19T09:42:23.753625Z"
    },
    "papermill": {
     "duration": 0.293667,
     "end_time": "2020-10-19T09:42:23.754591",
     "exception": false,
     "start_time": "2020-10-19T09:42:23.460924",
     "status": "completed"
    },
    "tags": []
   },
   "outputs": [
    {
     "data": {
      "text/plain": [
       "<Figure size 432x288 with 0 Axes>"
      ]
     },
     "execution_count": 34,
     "metadata": {},
     "output_type": "execute_result"
    },
    {
     "data": {
      "image/png": "[encoded data removed]",
      "text/plain": [
       "<Figure size 432x288 with 1 Axes>"
      ]
     },
     "metadata": {
      "needs_background": "light"
     },
     "output_type": "display_data"
    },
    {
     "data": {
      "text/plain": [
       "<Figure size 432x288 with 0 Axes>"
      ]
     },
     "metadata": {},
     "output_type": "display_data"
    }
   ],
   "source": [
    "end = pd.DataFrame(tree_grid_min_samples_split.cv_results_)\n",
    "end.head()\n",
    "plt.plot(end['param_min_samples_split'], end['mean_test_score'])\n",
    "plt.ylabel('accuracy scoring')\n",
    "plt.xlabel('min_samples_split')\n",
    "plt.figure()"
   ]
  },
  {
   "cell_type": "code",
   "execution_count": 35,
   "metadata": {
    "execution": {
     "iopub.execute_input": "2020-10-19T09:42:23.935996Z",
     "iopub.status.busy": "2020-10-19T09:42:23.935068Z",
     "iopub.status.idle": "2020-10-19T09:42:23.938981Z",
     "shell.execute_reply": "2020-10-19T09:42:23.939605Z"
    },
    "papermill": {
     "duration": 0.09776,
     "end_time": "2020-10-19T09:42:23.939791",
     "exception": false,
     "start_time": "2020-10-19T09:42:23.842031",
     "status": "completed"
    },
    "tags": []
   },
   "outputs": [
    {
     "data": {
      "text/plain": [
       "{'max_depth': 9, 'min_samples_leaf': 3, 'min_samples_split': 17}"
      ]
     },
     "execution_count": 35,
     "metadata": {},
     "output_type": "execute_result"
    }
   ],
   "source": [
    "tree_grid_min_samples_split.best_params_"
   ]
  },
  {
   "cell_type": "code",
   "execution_count": 36,
   "metadata": {
    "execution": {
     "iopub.execute_input": "2020-10-19T09:42:24.125151Z",
     "iopub.status.busy": "2020-10-19T09:42:24.124185Z",
     "iopub.status.idle": "2020-10-19T09:42:24.128760Z",
     "shell.execute_reply": "2020-10-19T09:42:24.127972Z"
    },
    "papermill": {
     "duration": 0.100286,
     "end_time": "2020-10-19T09:42:24.128911",
     "exception": false,
     "start_time": "2020-10-19T09:42:24.028625",
     "status": "completed"
    },
    "tags": []
   },
   "outputs": [
    {
     "data": {
      "text/plain": [
       "DecisionTreeClassifier(max_depth=9, min_samples_leaf=3, min_samples_split=17,\n",
       "                       random_state=2019)"
      ]
     },
     "execution_count": 36,
     "metadata": {},
     "output_type": "execute_result"
    }
   ],
   "source": [
    "tree_grid_min_samples_split.best_estimator_"
   ]
  },
  {
   "cell_type": "code",
   "execution_count": 37,
   "metadata": {
    "execution": {
     "iopub.execute_input": "2020-10-19T09:42:24.313083Z",
     "iopub.status.busy": "2020-10-19T09:42:24.312060Z",
     "iopub.status.idle": "2020-10-19T09:42:24.317122Z",
     "shell.execute_reply": "2020-10-19T09:42:24.316441Z"
    },
    "papermill": {
     "duration": 0.099549,
     "end_time": "2020-10-19T09:42:24.317266",
     "exception": false,
     "start_time": "2020-10-19T09:42:24.217717",
     "status": "completed"
    },
    "tags": []
   },
   "outputs": [
    {
     "data": {
      "text/plain": [
       "0.8209402287042794"
      ]
     },
     "execution_count": 37,
     "metadata": {},
     "output_type": "execute_result"
    }
   ],
   "source": [
    "tree_grid_min_samples_split.best_score_"
   ]
  },
  {
   "cell_type": "code",
   "execution_count": 38,
   "metadata": {
    "execution": {
     "iopub.execute_input": "2020-10-19T09:42:24.539833Z",
     "iopub.status.busy": "2020-10-19T09:42:24.538849Z",
     "iopub.status.idle": "2020-10-19T09:42:32.879555Z",
     "shell.execute_reply": "2020-10-19T09:42:32.880194Z"
    },
    "papermill": {
     "duration": 8.456534,
     "end_time": "2020-10-19T09:42:32.880388",
     "exception": false,
     "start_time": "2020-10-19T09:42:24.423854",
     "status": "completed"
    },
    "tags": []
   },
   "outputs": [
    {
     "data": {
      "text/plain": [
       "GridSearchCV(cv=KFold(n_splits=5, random_state=42, shuffle=True),\n",
       "             estimator=DecisionTreeClassifier(max_depth=3, random_state=2019),\n",
       "             param_grid={'max_depth': [9],\n",
       "                         'max_features': array([ 1,  2,  3,  4,  5,  6,  7,  8,  9, 10, 11, 12, 13, 14, 15, 16, 17,\n",
       "       18, 19, 20, 21, 22, 23, 24, 25, 26, 27, 28, 29, 30, 31, 32, 33, 34,\n",
       "       35, 36, 37, 38, 39, 40, 41, 42, 43, 44, 45, 46, 47, 48, 49, 50]),\n",
       "                         'min_samples_leaf': [3], 'min_samples_split': [11]},\n",
       "             scoring='accuracy')"
      ]
     },
     "execution_count": 38,
     "metadata": {},
     "output_type": "execute_result"
    }
   ],
   "source": [
    "tree_params = {'max_depth': [9],\n",
    "               'min_samples_leaf': [3],\n",
    "               'min_samples_split': [11],\n",
    "               'max_features': np.arange(1, X.shape[1])\n",
    "              }\n",
    "tree_grid_max_features = GridSearchCV(tree, tree_params, cv=kf, scoring='accuracy') \n",
    "tree_grid_max_features.fit(X_train, y_train)"
   ]
  },
  {
   "cell_type": "code",
   "execution_count": 39,
   "metadata": {
    "execution": {
     "iopub.execute_input": "2020-10-19T09:42:33.086752Z",
     "iopub.status.busy": "2020-10-19T09:42:33.080438Z",
     "iopub.status.idle": "2020-10-19T09:42:33.265693Z",
     "shell.execute_reply": "2020-10-19T09:42:33.264916Z"
    },
    "papermill": {
     "duration": 0.290258,
     "end_time": "2020-10-19T09:42:33.265840",
     "exception": false,
     "start_time": "2020-10-19T09:42:32.975582",
     "status": "completed"
    },
    "tags": []
   },
   "outputs": [
    {
     "data": {
      "text/plain": [
       "<Figure size 432x288 with 0 Axes>"
      ]
     },
     "execution_count": 39,
     "metadata": {},
     "output_type": "execute_result"
    },
    {
     "data": {
      "image/png": "[encoded data removed]",
      "text/plain": [
       "<Figure size 432x288 with 1 Axes>"
      ]
     },
     "metadata": {
      "needs_background": "light"
     },
     "output_type": "display_data"
    },
    {
     "data": {
      "text/plain": [
       "<Figure size 432x288 with 0 Axes>"
      ]
     },
     "metadata": {},
     "output_type": "display_data"
    }
   ],
   "source": [
    "end = pd.DataFrame(tree_grid_max_features.cv_results_)\n",
    "end.head().T\n",
    "plt.plot(end['param_max_features'], end['mean_test_score'])\n",
    "plt.ylabel('accuracy scoring')\n",
    "plt.xlabel('max_features')\n",
    "plt.figure()"
   ]
  },
  {
   "cell_type": "code",
   "execution_count": 40,
   "metadata": {
    "execution": {
     "iopub.execute_input": "2020-10-19T09:42:33.456917Z",
     "iopub.status.busy": "2020-10-19T09:42:33.455851Z",
     "iopub.status.idle": "2020-10-19T09:42:33.461020Z",
     "shell.execute_reply": "2020-10-19T09:42:33.460245Z"
    },
    "papermill": {
     "duration": 0.10329,
     "end_time": "2020-10-19T09:42:33.461165",
     "exception": false,
     "start_time": "2020-10-19T09:42:33.357875",
     "status": "completed"
    },
    "tags": []
   },
   "outputs": [
    {
     "data": {
      "text/plain": [
       "{'max_depth': 9,\n",
       " 'max_features': 40,\n",
       " 'min_samples_leaf': 3,\n",
       " 'min_samples_split': 11}"
      ]
     },
     "execution_count": 40,
     "metadata": {},
     "output_type": "execute_result"
    }
   ],
   "source": [
    "tree_grid_max_features.best_params_"
   ]
  },
  {
   "cell_type": "code",
   "execution_count": 41,
   "metadata": {
    "execution": {
     "iopub.execute_input": "2020-10-19T09:42:33.654786Z",
     "iopub.status.busy": "2020-10-19T09:42:33.653665Z",
     "iopub.status.idle": "2020-10-19T09:42:33.657405Z",
     "shell.execute_reply": "2020-10-19T09:42:33.658000Z"
    },
    "papermill": {
     "duration": 0.104348,
     "end_time": "2020-10-19T09:42:33.658193",
     "exception": false,
     "start_time": "2020-10-19T09:42:33.553845",
     "status": "completed"
    },
    "tags": []
   },
   "outputs": [
    {
     "data": {
      "text/plain": [
       "DecisionTreeClassifier(max_depth=9, max_features=40, min_samples_leaf=3,\n",
       "                       min_samples_split=11, random_state=2019)"
      ]
     },
     "execution_count": 41,
     "metadata": {},
     "output_type": "execute_result"
    }
   ],
   "source": [
    "tree_grid_max_features.best_estimator_"
   ]
  },
  {
   "cell_type": "code",
   "execution_count": 42,
   "metadata": {
    "execution": {
     "iopub.execute_input": "2020-10-19T09:42:33.851523Z",
     "iopub.status.busy": "2020-10-19T09:42:33.850757Z",
     "iopub.status.idle": "2020-10-19T09:42:33.857250Z",
     "shell.execute_reply": "2020-10-19T09:42:33.856503Z"
    },
    "papermill": {
     "duration": 0.106866,
     "end_time": "2020-10-19T09:42:33.857403",
     "exception": false,
     "start_time": "2020-10-19T09:42:33.750537",
     "status": "completed"
    },
    "tags": []
   },
   "outputs": [
    {
     "data": {
      "text/plain": [
       "0.8204287201719008"
      ]
     },
     "execution_count": 42,
     "metadata": {},
     "output_type": "execute_result"
    }
   ],
   "source": [
    "tree_grid_max_features.best_score_"
   ]
  },
  {
   "cell_type": "markdown",
   "metadata": {
    "papermill": {
     "duration": 0.095682,
     "end_time": "2020-10-19T09:42:34.046982",
     "exception": false,
     "start_time": "2020-10-19T09:42:33.951300",
     "status": "completed"
    },
    "tags": []
   },
   "source": [
    "> max_depth=9, max_features=40, min_samples_leaf=3, min_samples_split=11."
   ]
  },
  {
   "cell_type": "markdown",
   "metadata": {
    "papermill": {
     "duration": 0.093896,
     "end_time": "2020-10-19T09:42:34.234878",
     "exception": false,
     "start_time": "2020-10-19T09:42:34.140982",
     "status": "completed"
    },
    "tags": []
   },
   "source": [
    "4 . Постройте графически полученнoе дерево. Оцените важность признаков с помощью атрибута feature_importances_."
   ]
  },
  {
   "cell_type": "code",
   "execution_count": 43,
   "metadata": {
    "execution": {
     "iopub.execute_input": "2020-10-19T09:42:34.436287Z",
     "iopub.status.busy": "2020-10-19T09:42:34.434968Z",
     "iopub.status.idle": "2020-10-19T09:42:34.444351Z",
     "shell.execute_reply": "2020-10-19T09:42:34.443663Z"
    },
    "papermill": {
     "duration": 0.114648,
     "end_time": "2020-10-19T09:42:34.444495",
     "exception": false,
     "start_time": "2020-10-19T09:42:34.329847",
     "status": "completed"
    },
    "tags": []
   },
   "outputs": [
    {
     "data": {
      "text/plain": [
       "0.8154673036727381"
      ]
     },
     "execution_count": 43,
     "metadata": {},
     "output_type": "execute_result"
    }
   ],
   "source": [
    "best_tree_max_depth = tree_grid_max_depth.best_estimator_\n",
    "y_pred = best_tree_max_depth.predict(X_valid)\n",
    "accuracy_score(y_valid, y_pred)"
   ]
  },
  {
   "cell_type": "code",
   "execution_count": 44,
   "metadata": {
    "execution": {
     "iopub.execute_input": "2020-10-19T09:42:34.656848Z",
     "iopub.status.busy": "2020-10-19T09:42:34.640606Z",
     "iopub.status.idle": "2020-10-19T09:42:34.691625Z",
     "shell.execute_reply": "2020-10-19T09:42:34.692549Z"
    },
    "papermill": {
     "duration": 0.152634,
     "end_time": "2020-10-19T09:42:34.692812",
     "exception": false,
     "start_time": "2020-10-19T09:42:34.540178",
     "status": "completed"
    },
    "tags": []
   },
   "outputs": [
    {
     "name": "stdout",
     "output_type": "stream",
     "text": [
      "digraph Tree {\n",
      "node [shape=box] ;\n",
      "0 [label=\"X[3] <= 203.5\\ngini = 0.499\\nsamples = 7813\\nvalue = [4101, 3712]\"] ;\n",
      "1 [label=\"X[31] <= 0.5\\ngini = 0.329\\nsamples = 3112\\nvalue = [2467, 645]\"] ;\n",
      "0 -> 1 [labeldistance=2.5, labelangle=45, headlabel=\"True\"] ;\n",
      "2 [label=\"X[40] <= 0.5\\ngini = 0.274\\nsamples = 2910\\nvalue = [2433, 477]\"] ;\n",
      "1 -> 2 ;\n",
      "3 [label=\"X[43] <= 0.5\\ngini = 0.249\\nsamples = 2832\\nvalue = [2419, 413]\"] ;\n",
      "2 -> 3 ;\n",
      "4 [label=\"X[3] <= 123.5\\ngini = 0.228\\nsamples = 2755\\nvalue = [2394, 361]\"] ;\n",
      "3 -> 4 ;\n",
      "5 [label=\"X[36] <= 0.5\\ngini = 0.111\\nsamples = 1524\\nvalue = [1434, 90]\"] ;\n",
      "4 -> 5 ;\n",
      "6 [label=\"X[33] <= 0.5\\ngini = 0.087\\nsamples = 1421\\nvalue = [1356, 65]\"] ;\n",
      "5 -> 6 ;\n",
      "7 [label=\"X[44] <= 0.5\\ngini = 0.066\\nsamples = 1343\\nvalue = [1297, 46]\"] ;\n",
      "6 -> 7 ;\n",
      "8 [label=\"gini = 0.057\\nsamples = 1324\\nvalue = [1285, 39]\"] ;\n",
      "7 -> 8 ;\n",
      "9 [label=\"gini = 0.465\\nsamples = 19\\nvalue = [12, 7]\"] ;\n",
      "7 -> 9 ;\n",
      "10 [label=\"X[47] <= 0.5\\ngini = 0.369\\nsamples = 78\\nvalue = [59, 19]\"] ;\n",
      "6 -> 10 ;\n",
      "11 [label=\"gini = 0.15\\nsamples = 49\\nvalue = [45, 4]\"] ;\n",
      "10 -> 11 ;\n",
      "12 [label=\"gini = 0.499\\nsamples = 29\\nvalue = [14, 15]\"] ;\n",
      "10 -> 12 ;\n",
      "13 [label=\"X[2] <= 9.5\\ngini = 0.368\\nsamples = 103\\nvalue = [78, 25]\"] ;\n",
      "5 -> 13 ;\n",
      "14 [label=\"X[1] <= -16.0\\ngini = 0.075\\nsamples = 77\\nvalue = [74, 3]\"] ;\n",
      "13 -> 14 ;\n",
      "15 [label=\"gini = 0.444\\nsamples = 3\\nvalue = [2, 1]\"] ;\n",
      "14 -> 15 ;\n",
      "16 [label=\"gini = 0.053\\nsamples = 74\\nvalue = [72, 2]\"] ;\n",
      "14 -> 16 ;\n",
      "17 [label=\"X[3] <= 63.0\\ngini = 0.26\\nsamples = 26\\nvalue = [4, 22]\"] ;\n",
      "13 -> 17 ;\n",
      "18 [label=\"gini = 0.375\\nsamples = 4\\nvalue = [3, 1]\"] ;\n",
      "17 -> 18 ;\n",
      "19 [label=\"gini = 0.087\\nsamples = 22\\nvalue = [1, 21]\"] ;\n",
      "17 -> 19 ;\n",
      "20 [label=\"X[47] <= 0.5\\ngini = 0.343\\nsamples = 1231\\nvalue = [960, 271]\"] ;\n",
      "4 -> 20 ;\n",
      "21 [label=\"X[41] <= 0.5\\ngini = 0.171\\nsamples = 615\\nvalue = [557, 58]\"] ;\n",
      "20 -> 21 ;\n",
      "22 [label=\"X[44] <= 0.5\\ngini = 0.286\\nsamples = 307\\nvalue = [254, 53]\"] ;\n",
      "21 -> 22 ;\n",
      "23 [label=\"gini = 0.268\\nsamples = 301\\nvalue = [253, 48]\"] ;\n",
      "22 -> 23 ;\n",
      "24 [label=\"gini = 0.278\\nsamples = 6\\nvalue = [1, 5]\"] ;\n",
      "22 -> 24 ;\n",
      "25 [label=\"X[1] <= 10624.5\\ngini = 0.032\\nsamples = 308\\nvalue = [303, 5]\"] ;\n",
      "21 -> 25 ;\n",
      "26 [label=\"gini = 0.026\\nsamples = 306\\nvalue = [302, 4]\"] ;\n",
      "25 -> 26 ;\n",
      "27 [label=\"gini = 0.5\\nsamples = 2\\nvalue = [1, 1]\"] ;\n",
      "25 -> 27 ;\n",
      "28 [label=\"X[33] <= 0.5\\ngini = 0.452\\nsamples = 616\\nvalue = [403, 213]\"] ;\n",
      "20 -> 28 ;\n",
      "29 [label=\"X[5] <= 32.0\\ngini = 0.415\\nsamples = 549\\nvalue = [388, 161]\"] ;\n",
      "28 -> 29 ;\n",
      "30 [label=\"gini = 0.357\\nsamples = 468\\nvalue = [359, 109]\"] ;\n",
      "29 -> 30 ;\n",
      "31 [label=\"gini = 0.46\\nsamples = 81\\nvalue = [29, 52]\"] ;\n",
      "29 -> 31 ;\n",
      "32 [label=\"X[2] <= 29.0\\ngini = 0.348\\nsamples = 67\\nvalue = [15, 52]\"] ;\n",
      "28 -> 32 ;\n",
      "33 [label=\"gini = 0.278\\nsamples = 60\\nvalue = [10, 50]\"] ;\n",
      "32 -> 33 ;\n",
      "34 [label=\"gini = 0.408\\nsamples = 7\\nvalue = [5, 2]\"] ;\n",
      "32 -> 34 ;\n",
      "35 [label=\"X[2] <= 20.5\\ngini = 0.439\\nsamples = 77\\nvalue = [25, 52]\"] ;\n",
      "3 -> 35 ;\n",
      "36 [label=\"X[3] <= 129.5\\ngini = 0.489\\nsamples = 33\\nvalue = [19, 14]\"] ;\n",
      "35 -> 36 ;\n",
      "37 [label=\"X[0] <= 46.0\\ngini = 0.346\\nsamples = 18\\nvalue = [14, 4]\"] ;\n",
      "36 -> 37 ;\n",
      "38 [label=\"gini = 0.0\\nsamples = 10\\nvalue = [10, 0]\"] ;\n",
      "37 -> 38 ;\n",
      "39 [label=\"X[0] <= 59.5\\ngini = 0.5\\nsamples = 8\\nvalue = [4, 4]\"] ;\n",
      "37 -> 39 ;\n",
      "40 [label=\"gini = 0.32\\nsamples = 5\\nvalue = [1, 4]\"] ;\n",
      "39 -> 40 ;\n",
      "41 [label=\"gini = 0.0\\nsamples = 3\\nvalue = [3, 0]\"] ;\n",
      "39 -> 41 ;\n",
      "42 [label=\"X[1] <= 2159.0\\ngini = 0.444\\nsamples = 15\\nvalue = [5, 10]\"] ;\n",
      "36 -> 42 ;\n",
      "43 [label=\"X[3] <= 138.5\\ngini = 0.469\\nsamples = 8\\nvalue = [5, 3]\"] ;\n",
      "42 -> 43 ;\n",
      "44 [label=\"gini = 0.375\\nsamples = 4\\nvalue = [1, 3]\"] ;\n",
      "43 -> 44 ;\n",
      "45 [label=\"gini = 0.0\\nsamples = 4\\nvalue = [4, 0]\"] ;\n",
      "43 -> 45 ;\n",
      "46 [label=\"gini = 0.0\\nsamples = 7\\nvalue = [0, 7]\"] ;\n",
      "42 -> 46 ;\n",
      "47 [label=\"X[4] <= 1.5\\ngini = 0.236\\nsamples = 44\\nvalue = [6, 38]\"] ;\n",
      "35 -> 47 ;\n",
      "48 [label=\"X[3] <= 108.5\\ngini = 0.061\\nsamples = 32\\nvalue = [1, 31]\"] ;\n",
      "47 -> 48 ;\n",
      "49 [label=\"X[21] <= 0.5\\ngini = 0.32\\nsamples = 5\\nvalue = [1, 4]\"] ;\n",
      "48 -> 49 ;\n",
      "50 [label=\"gini = 0.0\\nsamples = 4\\nvalue = [0, 4]\"] ;\n",
      "49 -> 50 ;\n",
      "51 [label=\"gini = 0.0\\nsamples = 1\\nvalue = [1, 0]\"] ;\n",
      "49 -> 51 ;\n",
      "52 [label=\"gini = 0.0\\nsamples = 27\\nvalue = [0, 27]\"] ;\n",
      "48 -> 52 ;\n",
      "53 [label=\"X[1] <= 3845.5\\ngini = 0.486\\nsamples = 12\\nvalue = [5, 7]\"] ;\n",
      "47 -> 53 ;\n",
      "54 [label=\"X[1] <= 1637.5\\ngini = 0.42\\nsamples = 10\\nvalue = [3, 7]\"] ;\n",
      "53 -> 54 ;\n",
      "55 [label=\"gini = 0.5\\nsamples = 6\\nvalue = [3, 3]\"] ;\n",
      "54 -> 55 ;\n",
      "56 [label=\"gini = 0.0\\nsamples = 4\\nvalue = [0, 4]\"] ;\n",
      "54 -> 56 ;\n",
      "57 [label=\"gini = 0.0\\nsamples = 2\\nvalue = [2, 0]\"] ;\n",
      "53 -> 57 ;\n",
      "58 [label=\"X[4] <= 5.5\\ngini = 0.295\\nsamples = 78\\nvalue = [14, 64]\"] ;\n",
      "2 -> 58 ;\n",
      "59 [label=\"X[0] <= 26.5\\ngini = 0.236\\nsamples = 73\\nvalue = [10, 63]\"] ;\n",
      "58 -> 59 ;\n",
      "60 [label=\"X[3] <= 94.0\\ngini = 0.444\\nsamples = 6\\nvalue = [4, 2]\"] ;\n",
      "59 -> 60 ;\n",
      "61 [label=\"gini = 0.0\\nsamples = 3\\nvalue = [3, 0]\"] ;\n",
      "60 -> 61 ;\n",
      "62 [label=\"X[3] <= 133.5\\ngini = 0.444\\nsamples = 3\\nvalue = [1, 2]\"] ;\n",
      "60 -> 62 ;\n",
      "63 [label=\"gini = 0.0\\nsamples = 2\\nvalue = [0, 2]\"] ;\n",
      "62 -> 63 ;\n",
      "64 [label=\"gini = 0.0\\nsamples = 1\\nvalue = [1, 0]\"] ;\n",
      "62 -> 64 ;\n",
      "65 [label=\"X[3] <= 109.5\\ngini = 0.163\\nsamples = 67\\nvalue = [6, 61]\"] ;\n",
      "59 -> 65 ;\n",
      "66 [label=\"X[0] <= 55.0\\ngini = 0.408\\nsamples = 14\\nvalue = [4, 10]\"] ;\n",
      "65 -> 66 ;\n",
      "67 [label=\"X[2] <= 2.5\\ngini = 0.18\\nsamples = 10\\nvalue = [1, 9]\"] ;\n",
      "66 -> 67 ;\n",
      "68 [label=\"gini = 0.0\\nsamples = 1\\nvalue = [1, 0]\"] ;\n",
      "67 -> 68 ;\n",
      "69 [label=\"gini = 0.0\\nsamples = 9\\nvalue = [0, 9]\"] ;\n",
      "67 -> 69 ;\n",
      "70 [label=\"X[3] <= 104.0\\ngini = 0.375\\nsamples = 4\\nvalue = [3, 1]\"] ;\n",
      "66 -> 70 ;\n",
      "71 [label=\"gini = 0.0\\nsamples = 3\\nvalue = [3, 0]\"] ;\n",
      "70 -> 71 ;\n",
      "72 [label=\"gini = 0.0\\nsamples = 1\\nvalue = [0, 1]\"] ;\n",
      "70 -> 72 ;\n",
      "73 [label=\"X[30] <= 0.5\\ngini = 0.073\\nsamples = 53\\nvalue = [2, 51]\"] ;\n",
      "65 -> 73 ;\n",
      "74 [label=\"X[16] <= 0.5\\ngini = 0.04\\nsamples = 49\\nvalue = [1, 48]\"] ;\n",
      "73 -> 74 ;\n",
      "75 [label=\"gini = 0.0\\nsamples = 40\\nvalue = [0, 40]\"] ;\n",
      "74 -> 75 ;\n",
      "76 [label=\"gini = 0.198\\nsamples = 9\\nvalue = [1, 8]\"] ;\n",
      "74 -> 76 ;\n",
      "77 [label=\"X[24] <= 0.5\\ngini = 0.375\\nsamples = 4\\nvalue = [1, 3]\"] ;\n",
      "73 -> 77 ;\n",
      "78 [label=\"gini = 0.0\\nsamples = 3\\nvalue = [0, 3]\"] ;\n",
      "77 -> 78 ;\n",
      "79 [label=\"gini = 0.0\\nsamples = 1\\nvalue = [1, 0]\"] ;\n",
      "77 -> 79 ;\n",
      "80 [label=\"X[23] <= 0.5\\ngini = 0.32\\nsamples = 5\\nvalue = [4, 1]\"] ;\n",
      "58 -> 80 ;\n",
      "81 [label=\"gini = 0.0\\nsamples = 4\\nvalue = [4, 0]\"] ;\n",
      "80 -> 81 ;\n",
      "82 [label=\"gini = 0.0\\nsamples = 1\\nvalue = [0, 1]\"] ;\n",
      "80 -> 82 ;\n",
      "83 [label=\"X[3] <= 68.0\\ngini = 0.28\\nsamples = 202\\nvalue = [34, 168]\"] ;\n",
      "1 -> 83 ;\n",
      "84 [label=\"X[38] <= 0.5\\ngini = 0.219\\nsamples = 8\\nvalue = [7, 1]\"] ;\n",
      "83 -> 84 ;\n",
      "85 [label=\"gini = 0.0\\nsamples = 7\\nvalue = [7, 0]\"] ;\n",
      "84 -> 85 ;\n",
      "86 [label=\"gini = 0.0\\nsamples = 1\\nvalue = [0, 1]\"] ;\n",
      "84 -> 86 ;\n",
      "87 [label=\"X[3] <= 133.5\\ngini = 0.24\\nsamples = 194\\nvalue = [27, 167]\"] ;\n",
      "83 -> 87 ;\n",
      "88 [label=\"X[5] <= 136.5\\ngini = 0.39\\nsamples = 64\\nvalue = [17, 47]\"] ;\n",
      "87 -> 88 ;\n",
      "89 [label=\"X[5] <= 85.0\\ngini = 0.278\\nsamples = 42\\nvalue = [7, 35]\"] ;\n",
      "88 -> 89 ;\n",
      "90 [label=\"X[47] <= 0.5\\ngini = 0.5\\nsamples = 10\\nvalue = [5, 5]\"] ;\n",
      "89 -> 90 ;\n",
      "91 [label=\"gini = 0.0\\nsamples = 3\\nvalue = [3, 0]\"] ;\n",
      "90 -> 91 ;\n",
      "92 [label=\"X[5] <= 73.5\\ngini = 0.408\\nsamples = 7\\nvalue = [2, 5]\"] ;\n",
      "90 -> 92 ;\n",
      "93 [label=\"gini = 0.0\\nsamples = 5\\nvalue = [0, 5]\"] ;\n",
      "92 -> 93 ;\n",
      "94 [label=\"gini = 0.0\\nsamples = 2\\nvalue = [2, 0]\"] ;\n",
      "92 -> 94 ;\n",
      "95 [label=\"X[22] <= 0.5\\ngini = 0.117\\nsamples = 32\\nvalue = [2, 30]\"] ;\n",
      "89 -> 95 ;\n",
      "96 [label=\"X[1] <= 163.5\\ngini = 0.062\\nsamples = 31\\nvalue = [1, 30]\"] ;\n",
      "95 -> 96 ;\n",
      "97 [label=\"gini = 0.5\\nsamples = 2\\nvalue = [1, 1]\"] ;\n",
      "96 -> 97 ;\n",
      "98 [label=\"gini = 0.0\\nsamples = 29\\nvalue = [0, 29]\"] ;\n",
      "96 -> 98 ;\n",
      "99 [label=\"gini = 0.0\\nsamples = 1\\nvalue = [1, 0]\"] ;\n",
      "95 -> 99 ;\n",
      "100 [label=\"X[5] <= 182.5\\ngini = 0.496\\nsamples = 22\\nvalue = [10, 12]\"] ;\n",
      "88 -> 100 ;\n",
      "101 [label=\"X[0] <= 58.0\\ngini = 0.375\\nsamples = 8\\nvalue = [6, 2]\"] ;\n",
      "100 -> 101 ;\n",
      "102 [label=\"X[11] <= 0.5\\ngini = 0.245\\nsamples = 7\\nvalue = [6, 1]\"] ;\n",
      "101 -> 102 ;\n",
      "103 [label=\"gini = 0.0\\nsamples = 6\\nvalue = [6, 0]\"] ;\n",
      "102 -> 103 ;\n",
      "104 [label=\"gini = 0.0\\nsamples = 1\\nvalue = [0, 1]\"] ;\n",
      "102 -> 104 ;\n",
      "105 [label=\"gini = 0.0\\nsamples = 1\\nvalue = [0, 1]\"] ;\n",
      "101 -> 105 ;\n",
      "106 [label=\"X[5] <= 196.5\\ngini = 0.408\\nsamples = 14\\nvalue = [4, 10]\"] ;\n",
      "100 -> 106 ;\n",
      "107 [label=\"X[38] <= 0.5\\ngini = 0.198\\nsamples = 9\\nvalue = [1, 8]\"] ;\n",
      "106 -> 107 ;\n",
      "108 [label=\"gini = 0.0\\nsamples = 8\\nvalue = [0, 8]\"] ;\n",
      "107 -> 108 ;\n",
      "109 [label=\"gini = 0.0\\nsamples = 1\\nvalue = [1, 0]\"] ;\n",
      "107 -> 109 ;\n",
      "110 [label=\"X[5] <= 259.0\\ngini = 0.48\\nsamples = 5\\nvalue = [3, 2]\"] ;\n",
      "106 -> 110 ;\n",
      "111 [label=\"gini = 0.0\\nsamples = 3\\nvalue = [3, 0]\"] ;\n",
      "110 -> 111 ;\n",
      "112 [label=\"gini = 0.0\\nsamples = 2\\nvalue = [0, 2]\"] ;\n",
      "110 -> 112 ;\n",
      "113 [label=\"X[6] <= 21.0\\ngini = 0.142\\nsamples = 130\\nvalue = [10, 120]\"] ;\n",
      "87 -> 113 ;\n",
      "114 [label=\"X[9] <= 0.5\\ngini = 0.13\\nsamples = 129\\nvalue = [9, 120]\"] ;\n",
      "113 -> 114 ;\n",
      "115 [label=\"X[0] <= 67.5\\ngini = 0.117\\nsamples = 128\\nvalue = [8, 120]\"] ;\n",
      "114 -> 115 ;\n",
      "116 [label=\"X[5] <= 135.5\\ngini = 0.094\\nsamples = 122\\nvalue = [6, 116]\"] ;\n",
      "115 -> 116 ;\n",
      "117 [label=\"gini = 0.157\\nsamples = 70\\nvalue = [6, 64]\"] ;\n",
      "116 -> 117 ;\n",
      "118 [label=\"gini = 0.0\\nsamples = 52\\nvalue = [0, 52]\"] ;\n",
      "116 -> 118 ;\n",
      "119 [label=\"X[1] <= 1267.0\\ngini = 0.444\\nsamples = 6\\nvalue = [2, 4]\"] ;\n",
      "115 -> 119 ;\n",
      "120 [label=\"gini = 0.0\\nsamples = 3\\nvalue = [0, 3]\"] ;\n",
      "119 -> 120 ;\n",
      "121 [label=\"gini = 0.444\\nsamples = 3\\nvalue = [2, 1]\"] ;\n",
      "119 -> 121 ;\n",
      "122 [label=\"gini = 0.0\\nsamples = 1\\nvalue = [1, 0]\"] ;\n",
      "114 -> 122 ;\n",
      "123 [label=\"gini = 0.0\\nsamples = 1\\nvalue = [1, 0]\"] ;\n",
      "113 -> 123 ;\n",
      "124 [label=\"X[3] <= 441.5\\ngini = 0.454\\nsamples = 4701\\nvalue = [1634, 3067]\"] ;\n",
      "0 -> 124 [labeldistance=2.5, labelangle=-45, headlabel=\"False\"] ;\n",
      "125 [label=\"X[28] <= 0.5\\ngini = 0.5\\nsamples = 2481\\nvalue = [1213, 1268]\"] ;\n",
      "124 -> 125 ;\n",
      "126 [label=\"X[31] <= 0.5\\ngini = 0.478\\nsamples = 2061\\nvalue = [815, 1246]\"] ;\n",
      "125 -> 126 ;\n",
      "127 [label=\"X[48] <= 0.5\\ngini = 0.499\\nsamples = 1680\\nvalue = [797, 883]\"] ;\n",
      "126 -> 127 ;\n",
      "128 [label=\"X[1] <= 90.0\\ngini = 0.465\\nsamples = 1060\\nvalue = [390, 670]\"] ;\n",
      "127 -> 128 ;\n",
      "129 [label=\"X[38] <= 0.5\\ngini = 0.466\\nsamples = 195\\nvalue = [123, 72]\"] ;\n",
      "128 -> 129 ;\n",
      "130 [label=\"X[2] <= 18.5\\ngini = 0.493\\nsamples = 147\\nvalue = [82, 65]\"] ;\n",
      "129 -> 130 ;\n",
      "131 [label=\"gini = 0.491\\nsamples = 83\\nvalue = [36, 47]\"] ;\n",
      "130 -> 131 ;\n",
      "132 [label=\"gini = 0.404\\nsamples = 64\\nvalue = [46, 18]\"] ;\n",
      "130 -> 132 ;\n",
      "133 [label=\"X[3] <= 408.0\\ngini = 0.249\\nsamples = 48\\nvalue = [41, 7]\"] ;\n",
      "129 -> 133 ;\n",
      "134 [label=\"gini = 0.13\\nsamples = 43\\nvalue = [40, 3]\"] ;\n",
      "133 -> 134 ;\n",
      "135 [label=\"gini = 0.32\\nsamples = 5\\nvalue = [1, 4]\"] ;\n",
      "133 -> 135 ;\n",
      "136 [label=\"X[0] <= 59.5\\ngini = 0.427\\nsamples = 865\\nvalue = [267, 598]\"] ;\n",
      "128 -> 136 ;\n",
      "137 [label=\"X[39] <= 0.5\\ngini = 0.452\\nsamples = 746\\nvalue = [258, 488]\"] ;\n",
      "136 -> 137 ;\n",
      "138 [label=\"gini = 0.469\\nsamples = 678\\nvalue = [255, 423]\"] ;\n",
      "137 -> 138 ;\n",
      "139 [label=\"gini = 0.084\\nsamples = 68\\nvalue = [3, 65]\"] ;\n",
      "137 -> 139 ;\n",
      "140 [label=\"X[3] <= 430.5\\ngini = 0.14\\nsamples = 119\\nvalue = [9, 110]\"] ;\n",
      "136 -> 140 ;\n",
      "141 [label=\"gini = 0.115\\nsamples = 114\\nvalue = [7, 107]\"] ;\n",
      "140 -> 141 ;\n",
      "142 [label=\"gini = 0.48\\nsamples = 5\\nvalue = [2, 3]\"] ;\n",
      "140 -> 142 ;\n",
      "143 [label=\"X[5] <= 374.5\\ngini = 0.451\\nsamples = 620\\nvalue = [407, 213]\"] ;\n",
      "127 -> 143 ;\n",
      "144 [label=\"X[40] <= 0.5\\ngini = 0.432\\nsamples = 593\\nvalue = [406, 187]\"] ;\n",
      "143 -> 144 ;\n",
      "145 [label=\"X[39] <= 0.5\\ngini = 0.417\\nsamples = 577\\nvalue = [406, 171]\"] ;\n",
      "144 -> 145 ;\n",
      "146 [label=\"gini = 0.398\\nsamples = 557\\nvalue = [404, 153]\"] ;\n",
      "145 -> 146 ;\n",
      "147 [label=\"gini = 0.18\\nsamples = 20\\nvalue = [2, 18]\"] ;\n",
      "145 -> 147 ;\n",
      "148 [label=\"gini = 0.0\\nsamples = 16\\nvalue = [0, 16]\"] ;\n",
      "144 -> 148 ;\n",
      "149 [label=\"X[1] <= 207.0\\ngini = 0.071\\nsamples = 27\\nvalue = [1, 26]\"] ;\n",
      "143 -> 149 ;\n",
      "150 [label=\"X[24] <= 0.5\\ngini = 0.5\\nsamples = 2\\nvalue = [1, 1]\"] ;\n",
      "149 -> 150 ;\n",
      "151 [label=\"gini = 0.0\\nsamples = 1\\nvalue = [0, 1]\"] ;\n",
      "150 -> 151 ;\n",
      "152 [label=\"gini = 0.0\\nsamples = 1\\nvalue = [1, 0]\"] ;\n",
      "150 -> 152 ;\n",
      "153 [label=\"gini = 0.0\\nsamples = 25\\nvalue = [0, 25]\"] ;\n",
      "149 -> 153 ;\n",
      "154 [label=\"X[1] <= -207.0\\ngini = 0.09\\nsamples = 381\\nvalue = [18, 363]\"] ;\n",
      "126 -> 154 ;\n",
      "155 [label=\"gini = 0.0\\nsamples = 1\\nvalue = [1, 0]\"] ;\n",
      "154 -> 155 ;\n",
      "156 [label=\"X[39] <= 0.5\\ngini = 0.085\\nsamples = 380\\nvalue = [17, 363]\"] ;\n",
      "154 -> 156 ;\n",
      "157 [label=\"X[6] <= 10.5\\ngini = 0.068\\nsamples = 340\\nvalue = [12, 328]\"] ;\n",
      "156 -> 157 ;\n",
      "158 [label=\"X[0] <= 76.5\\ngini = 0.063\\nsamples = 338\\nvalue = [11, 327]\"] ;\n",
      "157 -> 158 ;\n",
      "159 [label=\"gini = 0.054\\nsamples = 325\\nvalue = [9, 316]\"] ;\n",
      "158 -> 159 ;\n",
      "160 [label=\"gini = 0.26\\nsamples = 13\\nvalue = [2, 11]\"] ;\n",
      "158 -> 160 ;\n",
      "161 [label=\"X[46] <= 0.5\\ngini = 0.5\\nsamples = 2\\nvalue = [1, 1]\"] ;\n",
      "157 -> 161 ;\n",
      "162 [label=\"gini = 0.0\\nsamples = 1\\nvalue = [1, 0]\"] ;\n",
      "161 -> 162 ;\n",
      "163 [label=\"gini = 0.0\\nsamples = 1\\nvalue = [0, 1]\"] ;\n",
      "161 -> 163 ;\n",
      "164 [label=\"X[23] <= 0.5\\ngini = 0.219\\nsamples = 40\\nvalue = [5, 35]\"] ;\n",
      "156 -> 164 ;\n",
      "165 [label=\"X[1] <= 5439.0\\ngini = 0.149\\nsamples = 37\\nvalue = [3, 34]\"] ;\n",
      "164 -> 165 ;\n",
      "166 [label=\"gini = 0.108\\nsamples = 35\\nvalue = [2, 33]\"] ;\n",
      "165 -> 166 ;\n",
      "167 [label=\"gini = 0.5\\nsamples = 2\\nvalue = [1, 1]\"] ;\n",
      "165 -> 167 ;\n",
      "168 [label=\"X[0] <= 38.0\\ngini = 0.444\\nsamples = 3\\nvalue = [2, 1]\"] ;\n",
      "164 -> 168 ;\n",
      "169 [label=\"gini = 0.0\\nsamples = 1\\nvalue = [0, 1]\"] ;\n",
      "168 -> 169 ;\n",
      "170 [label=\"gini = 0.0\\nsamples = 2\\nvalue = [2, 0]\"] ;\n",
      "168 -> 170 ;\n",
      "171 [label=\"X[43] <= 0.5\\ngini = 0.099\\nsamples = 420\\nvalue = [398, 22]\"] ;\n",
      "125 -> 171 ;\n",
      "172 [label=\"X[42] <= 0.5\\ngini = 0.074\\nsamples = 414\\nvalue = [398, 16]\"] ;\n",
      "171 -> 172 ;\n",
      "173 [label=\"X[6] <= 0.5\\ngini = 0.057\\nsamples = 410\\nvalue = [398, 12]\"] ;\n",
      "172 -> 173 ;\n",
      "174 [label=\"X[36] <= 0.5\\ngini = 0.043\\nsamples = 407\\nvalue = [398, 9]\"] ;\n",
      "173 -> 174 ;\n",
      "175 [label=\"X[3] <= 411.0\\ngini = 0.034\\nsamples = 405\\nvalue = [398, 7]\"] ;\n",
      "174 -> 175 ;\n",
      "176 [label=\"gini = 0.016\\nsamples = 376\\nvalue = [373, 3]\"] ;\n",
      "175 -> 176 ;\n",
      "177 [label=\"gini = 0.238\\nsamples = 29\\nvalue = [25, 4]\"] ;\n",
      "175 -> 177 ;\n",
      "178 [label=\"gini = 0.0\\nsamples = 2\\nvalue = [0, 2]\"] ;\n",
      "174 -> 178 ;\n",
      "179 [label=\"gini = 0.0\\nsamples = 3\\nvalue = [0, 3]\"] ;\n",
      "173 -> 179 ;\n",
      "180 [label=\"gini = 0.0\\nsamples = 4\\nvalue = [0, 4]\"] ;\n",
      "172 -> 180 ;\n",
      "181 [label=\"gini = 0.0\\nsamples = 6\\nvalue = [0, 6]\"] ;\n",
      "171 -> 181 ;\n",
      "182 [label=\"X[3] <= 649.5\\ngini = 0.307\\nsamples = 2220\\nvalue = [421, 1799]\"] ;\n",
      "124 -> 182 ;\n",
      "183 [label=\"X[28] <= 0.5\\ngini = 0.396\\nsamples = 895\\nvalue = [243, 652]\"] ;\n",
      "182 -> 183 ;\n",
      "184 [label=\"X[48] <= 0.5\\ngini = 0.348\\nsamples = 744\\nvalue = [167, 577]\"] ;\n",
      "183 -> 184 ;\n",
      "185 [label=\"X[5] <= 80.0\\ngini = 0.287\\nsamples = 450\\nvalue = [78, 372]\"] ;\n",
      "184 -> 185 ;\n",
      "186 [label=\"X[1] <= 820.5\\ngini = 0.345\\nsamples = 320\\nvalue = [71, 249]\"] ;\n",
      "185 -> 186 ;\n",
      "187 [label=\"X[4] <= 4.5\\ngini = 0.401\\nsamples = 180\\nvalue = [50, 130]\"] ;\n",
      "186 -> 187 ;\n",
      "188 [label=\"gini = 0.425\\nsamples = 160\\nvalue = [49, 111]\"] ;\n",
      "187 -> 188 ;\n",
      "189 [label=\"gini = 0.095\\nsamples = 20\\nvalue = [1, 19]\"] ;\n",
      "187 -> 189 ;\n",
      "190 [label=\"X[1] <= 35886.5\\ngini = 0.255\\nsamples = 140\\nvalue = [21, 119]\"] ;\n",
      "186 -> 190 ;\n",
      "191 [label=\"gini = 0.246\\nsamples = 139\\nvalue = [20, 119]\"] ;\n",
      "190 -> 191 ;\n",
      "192 [label=\"gini = 0.0\\nsamples = 1\\nvalue = [1, 0]\"] ;\n",
      "190 -> 192 ;\n",
      "193 [label=\"X[15] <= 0.5\\ngini = 0.102\\nsamples = 130\\nvalue = [7, 123]\"] ;\n",
      "185 -> 193 ;\n",
      "194 [label=\"X[10] <= 0.5\\ngini = 0.078\\nsamples = 123\\nvalue = [5, 118]\"] ;\n",
      "193 -> 194 ;\n",
      "195 [label=\"gini = 0.064\\nsamples = 120\\nvalue = [4, 116]\"] ;\n",
      "194 -> 195 ;\n",
      "196 [label=\"gini = 0.444\\nsamples = 3\\nvalue = [1, 2]\"] ;\n",
      "194 -> 196 ;\n",
      "197 [label=\"X[1] <= 631.5\\ngini = 0.408\\nsamples = 7\\nvalue = [2, 5]\"] ;\n",
      "193 -> 197 ;\n",
      "198 [label=\"gini = 0.444\\nsamples = 3\\nvalue = [2, 1]\"] ;\n",
      "197 -> 198 ;\n",
      "199 [label=\"gini = 0.0\\nsamples = 4\\nvalue = [0, 4]\"] ;\n",
      "197 -> 199 ;\n",
      "200 [label=\"X[1] <= 12.0\\ngini = 0.422\\nsamples = 294\\nvalue = [89, 205]\"] ;\n",
      "184 -> 200 ;\n",
      "201 [label=\"X[3] <= 601.0\\ngini = 0.499\\nsamples = 57\\nvalue = [27, 30]\"] ;\n",
      "200 -> 201 ;\n",
      "202 [label=\"X[1] <= -96.5\\ngini = 0.493\\nsamples = 43\\nvalue = [24, 19]\"] ;\n",
      "201 -> 202 ;\n",
      "203 [label=\"gini = 0.457\\nsamples = 17\\nvalue = [6, 11]\"] ;\n",
      "202 -> 203 ;\n",
      "204 [label=\"gini = 0.426\\nsamples = 26\\nvalue = [18, 8]\"] ;\n",
      "202 -> 204 ;\n",
      "205 [label=\"X[33] <= 0.5\\ngini = 0.337\\nsamples = 14\\nvalue = [3, 11]\"] ;\n",
      "201 -> 205 ;\n",
      "206 [label=\"gini = 0.165\\nsamples = 11\\nvalue = [1, 10]\"] ;\n",
      "205 -> 206 ;\n",
      "207 [label=\"gini = 0.444\\nsamples = 3\\nvalue = [2, 1]\"] ;\n",
      "205 -> 207 ;\n",
      "208 [label=\"X[9] <= 0.5\\ngini = 0.386\\nsamples = 237\\nvalue = [62, 175]\"] ;\n",
      "200 -> 208 ;\n",
      "209 [label=\"X[31] <= 0.5\\ngini = 0.372\\nsamples = 227\\nvalue = [56, 171]\"] ;\n",
      "208 -> 209 ;\n",
      "210 [label=\"gini = 0.395\\nsamples = 203\\nvalue = [55, 148]\"] ;\n",
      "209 -> 210 ;\n",
      "211 [label=\"gini = 0.08\\nsamples = 24\\nvalue = [1, 23]\"] ;\n",
      "209 -> 211 ;\n",
      "212 [label=\"X[0] <= 40.5\\ngini = 0.48\\nsamples = 10\\nvalue = [6, 4]\"] ;\n",
      "208 -> 212 ;\n",
      "213 [label=\"gini = 0.444\\nsamples = 6\\nvalue = [2, 4]\"] ;\n",
      "212 -> 213 ;\n",
      "214 [label=\"gini = 0.0\\nsamples = 4\\nvalue = [4, 0]\"] ;\n",
      "212 -> 214 ;\n",
      "215 [label=\"X[41] <= 0.5\\ngini = 0.5\\nsamples = 151\\nvalue = [76, 75]\"] ;\n",
      "183 -> 215 ;\n",
      "216 [label=\"X[47] <= 0.5\\ngini = 0.433\\nsamples = 63\\nvalue = [20, 43]\"] ;\n",
      "215 -> 216 ;\n",
      "217 [label=\"X[22] <= 0.5\\ngini = 0.291\\nsamples = 34\\nvalue = [6, 28]\"] ;\n",
      "216 -> 217 ;\n",
      "218 [label=\"X[7] <= 0.5\\ngini = 0.219\\nsamples = 32\\nvalue = [4, 28]\"] ;\n",
      "217 -> 218 ;\n",
      "219 [label=\"gini = 0.137\\nsamples = 27\\nvalue = [2, 25]\"] ;\n",
      "218 -> 219 ;\n",
      "220 [label=\"gini = 0.48\\nsamples = 5\\nvalue = [2, 3]\"] ;\n",
      "218 -> 220 ;\n",
      "221 [label=\"gini = 0.0\\nsamples = 2\\nvalue = [2, 0]\"] ;\n",
      "217 -> 221 ;\n",
      "222 [label=\"X[1] <= 2910.5\\ngini = 0.499\\nsamples = 29\\nvalue = [14, 15]\"] ;\n",
      "216 -> 222 ;\n",
      "223 [label=\"X[3] <= 468.5\\ngini = 0.469\\nsamples = 24\\nvalue = [9, 15]\"] ;\n",
      "222 -> 223 ;\n",
      "224 [label=\"gini = 0.0\\nsamples = 3\\nvalue = [3, 0]\"] ;\n",
      "223 -> 224 ;\n",
      "225 [label=\"gini = 0.408\\nsamples = 21\\nvalue = [6, 15]\"] ;\n",
      "223 -> 225 ;\n",
      "226 [label=\"gini = 0.0\\nsamples = 5\\nvalue = [5, 0]\"] ;\n",
      "222 -> 226 ;\n",
      "227 [label=\"X[3] <= 535.0\\ngini = 0.463\\nsamples = 88\\nvalue = [56, 32]\"] ;\n",
      "215 -> 227 ;\n",
      "228 [label=\"X[0] <= 44.5\\ngini = 0.295\\nsamples = 39\\nvalue = [32, 7]\"] ;\n",
      "227 -> 228 ;\n",
      "229 [label=\"X[3] <= 450.5\\ngini = 0.128\\nsamples = 29\\nvalue = [27, 2]\"] ;\n",
      "228 -> 229 ;\n",
      "230 [label=\"gini = 0.0\\nsamples = 1\\nvalue = [0, 1]\"] ;\n",
      "229 -> 230 ;\n",
      "231 [label=\"gini = 0.069\\nsamples = 28\\nvalue = [27, 1]\"] ;\n",
      "229 -> 231 ;\n",
      "232 [label=\"X[19] <= 0.5\\ngini = 0.5\\nsamples = 10\\nvalue = [5, 5]\"] ;\n",
      "228 -> 232 ;\n",
      "233 [label=\"gini = 0.408\\nsamples = 7\\nvalue = [5, 2]\"] ;\n",
      "232 -> 233 ;\n",
      "234 [label=\"gini = 0.0\\nsamples = 3\\nvalue = [0, 3]\"] ;\n",
      "232 -> 234 ;\n",
      "235 [label=\"X[1] <= 60.5\\ngini = 0.5\\nsamples = 49\\nvalue = [24, 25]\"] ;\n",
      "227 -> 235 ;\n",
      "236 [label=\"X[15] <= 0.5\\ngini = 0.278\\nsamples = 12\\nvalue = [2, 10]\"] ;\n",
      "235 -> 236 ;\n",
      "237 [label=\"gini = 0.165\\nsamples = 11\\nvalue = [1, 10]\"] ;\n",
      "236 -> 237 ;\n",
      "238 [label=\"gini = 0.0\\nsamples = 1\\nvalue = [1, 0]\"] ;\n",
      "236 -> 238 ;\n",
      "239 [label=\"X[0] <= 51.5\\ngini = 0.482\\nsamples = 37\\nvalue = [22, 15]\"] ;\n",
      "235 -> 239 ;\n",
      "240 [label=\"gini = 0.5\\nsamples = 30\\nvalue = [15, 15]\"] ;\n",
      "239 -> 240 ;\n",
      "241 [label=\"gini = 0.0\\nsamples = 7\\nvalue = [7, 0]\"] ;\n",
      "239 -> 241 ;\n",
      "242 [label=\"X[3] <= 865.5\\ngini = 0.233\\nsamples = 1325\\nvalue = [178, 1147]\"] ;\n",
      "182 -> 242 ;\n",
      "243 [label=\"X[31] <= 0.5\\ngini = 0.288\\nsamples = 595\\nvalue = [104, 491]\"] ;\n",
      "242 -> 243 ;\n",
      "244 [label=\"X[24] <= 0.5\\ngini = 0.305\\nsamples = 553\\nvalue = [104, 449]\"] ;\n",
      "243 -> 244 ;\n",
      "245 [label=\"X[22] <= 0.5\\ngini = 0.238\\nsamples = 253\\nvalue = [35, 218]\"] ;\n",
      "244 -> 245 ;\n",
      "246 [label=\"X[33] <= 0.5\\ngini = 0.222\\nsamples = 244\\nvalue = [31, 213]\"] ;\n",
      "245 -> 246 ;\n",
      "247 [label=\"gini = 0.198\\nsamples = 225\\nvalue = [25, 200]\"] ;\n",
      "246 -> 247 ;\n",
      "248 [label=\"gini = 0.432\\nsamples = 19\\nvalue = [6, 13]\"] ;\n",
      "246 -> 248 ;\n",
      "249 [label=\"X[3] <= 739.5\\ngini = 0.494\\nsamples = 9\\nvalue = [4, 5]\"] ;\n",
      "245 -> 249 ;\n",
      "250 [label=\"gini = 0.278\\nsamples = 6\\nvalue = [1, 5]\"] ;\n",
      "249 -> 250 ;\n",
      "251 [label=\"gini = 0.0\\nsamples = 3\\nvalue = [3, 0]\"] ;\n",
      "249 -> 251 ;\n",
      "252 [label=\"X[6] <= 5.5\\ngini = 0.354\\nsamples = 300\\nvalue = [69, 231]\"] ;\n",
      "244 -> 252 ;\n",
      "253 [label=\"X[3] <= 861.5\\ngini = 0.34\\nsamples = 290\\nvalue = [63, 227]\"] ;\n",
      "252 -> 253 ;\n",
      "254 [label=\"gini = 0.334\\nsamples = 288\\nvalue = [61, 227]\"] ;\n",
      "253 -> 254 ;\n",
      "255 [label=\"gini = 0.0\\nsamples = 2\\nvalue = [2, 0]\"] ;\n",
      "253 -> 255 ;\n",
      "256 [label=\"X[6] <= 9.5\\ngini = 0.48\\nsamples = 10\\nvalue = [6, 4]\"] ;\n",
      "252 -> 256 ;\n",
      "257 [label=\"gini = 0.0\\nsamples = 6\\nvalue = [6, 0]\"] ;\n",
      "256 -> 257 ;\n",
      "258 [label=\"gini = 0.0\\nsamples = 4\\nvalue = [0, 4]\"] ;\n",
      "256 -> 258 ;\n",
      "259 [label=\"gini = 0.0\\nsamples = 42\\nvalue = [0, 42]\"] ;\n",
      "243 -> 259 ;\n",
      "260 [label=\"X[3] <= 3268.5\\ngini = 0.182\\nsamples = 730\\nvalue = [74, 656]\"] ;\n",
      "242 -> 260 ;\n",
      "261 [label=\"X[3] <= 1231.5\\ngini = 0.18\\nsamples = 729\\nvalue = [73, 656]\"] ;\n",
      "260 -> 261 ;\n",
      "262 [label=\"X[3] <= 1150.5\\ngini = 0.211\\nsamples = 501\\nvalue = [60, 441]\"] ;\n",
      "261 -> 262 ;\n",
      "263 [label=\"X[6] <= 6.5\\ngini = 0.189\\nsamples = 427\\nvalue = [45, 382]\"] ;\n",
      "262 -> 263 ;\n",
      "264 [label=\"gini = 0.178\\nsamples = 416\\nvalue = [41, 375]\"] ;\n",
      "263 -> 264 ;\n",
      "265 [label=\"gini = 0.463\\nsamples = 11\\nvalue = [4, 7]\"] ;\n",
      "263 -> 265 ;\n",
      "266 [label=\"X[0] <= 63.5\\ngini = 0.323\\nsamples = 74\\nvalue = [15, 59]\"] ;\n",
      "262 -> 266 ;\n",
      "267 [label=\"gini = 0.281\\nsamples = 71\\nvalue = [12, 59]\"] ;\n",
      "266 -> 267 ;\n",
      "268 [label=\"gini = 0.0\\nsamples = 3\\nvalue = [3, 0]\"] ;\n",
      "266 -> 268 ;\n",
      "269 [label=\"X[5] <= 382.5\\ngini = 0.108\\nsamples = 228\\nvalue = [13, 215]\"] ;\n",
      "261 -> 269 ;\n",
      "270 [label=\"X[26] <= 0.5\\ngini = 0.101\\nsamples = 226\\nvalue = [12, 214]\"] ;\n",
      "269 -> 270 ;\n",
      "271 [label=\"gini = 0.176\\nsamples = 82\\nvalue = [8, 74]\"] ;\n",
      "270 -> 271 ;\n",
      "272 [label=\"gini = 0.054\\nsamples = 144\\nvalue = [4, 140]\"] ;\n",
      "270 -> 272 ;\n",
      "273 [label=\"X[1] <= 2040.0\\ngini = 0.5\\nsamples = 2\\nvalue = [1, 1]\"] ;\n",
      "269 -> 273 ;\n",
      "274 [label=\"gini = 0.0\\nsamples = 1\\nvalue = [0, 1]\"] ;\n",
      "273 -> 274 ;\n",
      "275 [label=\"gini = 0.0\\nsamples = 1\\nvalue = [1, 0]\"] ;\n",
      "273 -> 275 ;\n",
      "276 [label=\"gini = 0.0\\nsamples = 1\\nvalue = [1, 0]\"] ;\n",
      "260 -> 276 ;\n",
      "}\n"
     ]
    }
   ],
   "source": [
    "export_graphviz(best_tree_max_depth, out_file='tree.dot')\n",
    "print(open('tree.dot').read()) "
   ]
  },
  {
   "cell_type": "markdown",
   "metadata": {
    "papermill": {
     "duration": 0.12133,
     "end_time": "2020-10-19T09:42:34.926125",
     "exception": false,
     "start_time": "2020-10-19T09:42:34.804795",
     "status": "completed"
    },
    "tags": []
   },
   "source": [
    "Ссылка на изображение с кодом: https://dreampuf.github.io/GraphvizOnline/#digraph%20Tree%20%7B%0D%0Anode%20%5Bshape%3Dbox%5D%20%3B%0D%0A0%20%5Blabel%3D%22X%5B3%5D%20%3C%3D%20203.5%5Cngini%20%3D%200.499%5Cnsamples%20%3D%207813%5Cnvalue%20%3D%20%5B4101%2C%203712%5D%22%5D%20%3B%0D%0A1%20%5Blabel%3D%22X%5B31%5D%20%3C%3D%200.5%5Cngini%20%3D%200.329%5Cnsamples%20%3D%203112%5Cnvalue%20%3D%20%5B2467%2C%20645%5D%22%5D%20%3B%0D%0A0%20-%3E%201%20%5Blabeldistance%3D2.5%2C%20labelangle%3D45%2C%20headlabel%3D%22True%22%5D%20%3B%0D%0A2%20%5Blabel%3D%22X%5B40%5D%20%3C%3D%200.5%5Cngini%20%3D%200.274%5Cnsamples%20%3D%202910%5Cnvalue%20%3D%20%5B2433%2C%20477%5D%22%5D%20%3B%0D%0A1%20-%3E%202%20%3B%0D%0A3%20%5Blabel%3D%22X%5B43%5D%20%3C%3D%200.5%5Cngini%20%3D%200.249%5Cnsamples%20%3D%202832%5Cnvalue%20%3D%20%5B2419%2C%20413%5D%22%5D%20%3B%0D%0A2%20-%3E%203%20%3B%0D%0A4%20%5Blabel%3D%22X%5B3%5D%20%3C%3D%20123.5%5Cngini%20%3D%200.228%5Cnsamples%20%3D%202755%5Cnvalue%20%3D%20%5B2394%2C%20361%5D%22%5D%20%3B%0D%0A3%20-%3E%204%20%3B%0D%0A5%20%5Blabel%3D%22X%5B36%5D%20%3C%3D%200.5%5Cngini%20%3D%200.111%5Cnsamples%20%3D%201524%5Cnvalue%20%3D%20%5B1434%2C%2090%5D%22%5D%20%3B%0D%0A4%20-%3E%205%20%3B%0D%0A6%20%5Blabel%3D%22X%5B33%5D%20%3C%3D%200.5%5Cngini%20%3D%200.087%5Cnsamples%20%3D%201421%5Cnvalue%20%3D%20%5B1356%2C%2065%5D%22%5D%20%3B%0D%0A5%20-%3E%206%20%3B%0D%0A7%20%5Blabel%3D%22X%5B44%5D%20%3C%3D%200.5%5Cngini%20%3D%200.066%5Cnsamples%20%3D%201343%5Cnvalue%20%3D%20%5B1297%2C%2046%5D%22%5D%20%3B%0D%0A6%20-%3E%207%20%3B%0D%0A8%20%5Blabel%3D%22gini%20%3D%200.057%5Cnsamples%20%3D%201324%5Cnvalue%20%3D%20%5B1285%2C%2039%5D%22%5D%20%3B%0D%0A7%20-%3E%208%20%3B%0D%0A9%20%5Blabel%3D%22gini%20%3D%200.465%5Cnsamples%20%3D%2019%5Cnvalue%20%3D%20%5B12%2C%207%5D%22%5D%20%3B%0D%0A7%20-%3E%209%20%3B%0D%0A10%20%5Blabel%3D%22X%5B47%5D%20%3C%3D%200.5%5Cngini%20%3D%200.369%5Cnsamples%20%3D%2078%5Cnvalue%20%3D%20%5B59%2C%2019%5D%22%5D%20%3B%0D%0A6%20-%3E%2010%20%3B%0D%0A11%20%5Blabel%3D%22gini%20%3D%200.15%5Cnsamples%20%3D%2049%5Cnvalue%20%3D%20%5B45%2C%204%5D%22%5D%20%3B%0D%0A10%20-%3E%2011%20%3B%0D%0A12%20%5Blabel%3D%22gini%20%3D%200.499%5Cnsamples%20%3D%2029%5Cnvalue%20%3D%20%5B14%2C%2015%5D%22%5D%20%3B%0D%0A10%20-%3E%2012%20%3B%0D%0A13%20%5Blabel%3D%22X%5B2%5D%20%3C%3D%209.5%5Cngini%20%3D%200.368%5Cnsamples%20%3D%20103%5Cnvalue%20%3D%20%5B78%2C%2025%5D%22%5D%20%3B%0D%0A5%20-%3E%2013%20%3B%0D%0A14%20%5Blabel%3D%22X%5B1%5D%20%3C%3D%20-16.0%5Cngini%20%3D%200.075%5Cnsamples%20%3D%2077%5Cnvalue%20%3D%20%5B74%2C%203%5D%22%5D%20%3B%0D%0A13%20-%3E%2014%20%3B%0D%0A15%20%5Blabel%3D%22gini%20%3D%200.444%5Cnsamples%20%3D%203%5Cnvalue%20%3D%20%5B2%2C%201%5D%22%5D%20%3B%0D%0A14%20-%3E%2015%20%3B%0D%0A16%20%5Blabel%3D%22gini%20%3D%200.053%5Cnsamples%20%3D%2074%5Cnvalue%20%3D%20%5B72%2C%202%5D%22%5D%20%3B%0D%0A14%20-%3E%2016%20%3B%0D%0A17%20%5Blabel%3D%22X%5B3%5D%20%3C%3D%2063.0%5Cngini%20%3D%200.26%5Cnsamples%20%3D%2026%5Cnvalue%20%3D%20%5B4%2C%2022%5D%22%5D%20%3B%0D%0A13%20-%3E%2017%20%3B%0D%0A18%20%5Blabel%3D%22gini%20%3D%200.375%5Cnsamples%20%3D%204%5Cnvalue%20%3D%20%5B3%2C%201%5D%22%5D%20%3B%0D%0A17%20-%3E%2018%20%3B%0D%0A19%20%5Blabel%3D%22gini%20%3D%200.087%5Cnsamples%20%3D%2022%5Cnvalue%20%3D%20%5B1%2C%2021%5D%22%5D%20%3B%0D%0A17%20-%3E%2019%20%3B%0D%0A20%20%5Blabel%3D%22X%5B47%5D%20%3C%3D%200.5%5Cngini%20%3D%200.343%5Cnsamples%20%3D%201231%5Cnvalue%20%3D%20%5B960%2C%20271%5D%22%5D%20%3B%0D%0A4%20-%3E%2020%20%3B%0D%0A21%20%5Blabel%3D%22X%5B41%5D%20%3C%3D%200.5%5Cngini%20%3D%200.171%5Cnsamples%20%3D%20615%5Cnvalue%20%3D%20%5B557%2C%2058%5D%22%5D%20%3B%0D%0A20%20-%3E%2021%20%3B%0D%0A22%20%5Blabel%3D%22X%5B44%5D%20%3C%3D%200.5%5Cngini%20%3D%200.286%5Cnsamples%20%3D%20307%5Cnvalue%20%3D%20%5B254%2C%2053%5D%22%5D%20%3B%0D%0A21%20-%3E%2022%20%3B%0D%0A23%20%5Blabel%3D%22gini%20%3D%200.268%5Cnsamples%20%3D%20301%5Cnvalue%20%3D%20%5B253%2C%2048%5D%22%5D%20%3B%0D%0A22%20-%3E%2023%20%3B%0D%0A24%20%5Blabel%3D%22gini%20%3D%200.278%5Cnsamples%20%3D%206%5Cnvalue%20%3D%20%5B1%2C%205%5D%22%5D%20%3B%0D%0A22%20-%3E%2024%20%3B%0D%0A25%20%5Blabel%3D%22X%5B1%5D%20%3C%3D%2010624.5%5Cngini%20%3D%200.032%5Cnsamples%20%3D%20308%5Cnvalue%20%3D%20%5B303%2C%205%5D%22%5D%20%3B%0D%0A21%20-%3E%2025%20%3B%0D%0A26%20%5Blabel%3D%22gini%20%3D%200.026%5Cnsamples%20%3D%20306%5Cnvalue%20%3D%20%5B302%2C%204%5D%22%5D%20%3B%0D%0A25%20-%3E%2026%20%3B%0D%0A27%20%5Blabel%3D%22gini%20%3D%200.5%5Cnsamples%20%3D%202%5Cnvalue%20%3D%20%5B1%2C%201%5D%22%5D%20%3B%0D%0A25%20-%3E%2027%20%3B%0D%0A28%20%5Blabel%3D%22X%5B33%5D%20%3C%3D%200.5%5Cngini%20%3D%200.452%5Cnsamples%20%3D%20616%5Cnvalue%20%3D%20%5B403%2C%20213%5D%22%5D%20%3B%0D%0A20%20-%3E%2028%20%3B%0D%0A29%20%5Blabel%3D%22X%5B5%5D%20%3C%3D%2032.0%5Cngini%20%3D%200.415%5Cnsamples%20%3D%20549%5Cnvalue%20%3D%20%5B388%2C%20161%5D%22%5D%20%3B%0D%0A28%20-%3E%2029%20%3B%0D%0A30%20%5Blabel%3D%22gini%20%3D%200.357%5Cnsamples%20%3D%20468%5Cnvalue%20%3D%20%5B359%2C%20109%5D%22%5D%20%3B%0D%0A29%20-%3E%2030%20%3B%0D%0A31%20%5Blabel%3D%22gini%20%3D%200.46%5Cnsamples%20%3D%2081%5Cnvalue%20%3D%20%5B29%2C%2052%5D%22%5D%20%3B%0D%0A29%20-%3E%2031%20%3B%0D%0A32%20%5Blabel%3D%22X%5B2%5D%20%3C%3D%2029.0%5Cngini%20%3D%200.348%5Cnsamples%20%3D%2067%5Cnvalue%20%3D%20%5B15%2C%2052%5D%22%5D%20%3B%0D%0A28%20-%3E%2032%20%3B%0D%0A33%20%5Blabel%3D%22gini%20%3D%200.278%5Cnsamples%20%3D%2060%5Cnvalue%20%3D%20%5B10%2C%2050%5D%22%5D%20%3B%0D%0A32%20-%3E%2033%20%3B%0D%0A34%20%5Blabel%3D%22gini%20%3D%200.408%5Cnsamples%20%3D%207%5Cnvalue%20%3D%20%5B5%2C%202%5D%22%5D%20%3B%0D%0A32%20-%3E%2034%20%3B%0D%0A35%20%5Blabel%3D%22X%5B2%5D%20%3C%3D%2020.5%5Cngini%20%3D%200.439%5Cnsamples%20%3D%2077%5Cnvalue%20%3D%20%5B25%2C%2052%5D%22%5D%20%3B%0D%0A3%20-%3E%2035%20%3B%0D%0A36%20%5Blabel%3D%22X%5B3%5D%20%3C%3D%20129.5%5Cngini%20%3D%200.489%5Cnsamples%20%3D%2033%5Cnvalue%20%3D%20%5B19%2C%2014%5D%22%5D%20%3B%0D%0A35%20-%3E%2036%20%3B%0D%0A37%20%5Blabel%3D%22X%5B0%5D%20%3C%3D%2046.0%5Cngini%20%3D%200.346%5Cnsamples%20%3D%2018%5Cnvalue%20%3D%20%5B14%2C%204%5D%22%5D%20%3B%0D%0A36%20-%3E%2037%20%3B%0D%0A38%20%5Blabel%3D%22gini%20%3D%200.0%5Cnsamples%20%3D%2010%5Cnvalue%20%3D%20%5B10%2C%200%5D%22%5D%20%3B%0D%0A37%20-%3E%2038%20%3B%0D%0A39%20%5Blabel%3D%22X%5B0%5D%20%3C%3D%2059.5%5Cngini%20%3D%200.5%5Cnsamples%20%3D%208%5Cnvalue%20%3D%20%5B4%2C%204%5D%22%5D%20%3B%0D%0A37%20-%3E%2039%20%3B%0D%0A40%20%5Blabel%3D%22gini%20%3D%200.32%5Cnsamples%20%3D%205%5Cnvalue%20%3D%20%5B1%2C%204%5D%22%5D%20%3B%0D%0A39%20-%3E%2040%20%3B%0D%0A41%20%5Blabel%3D%22gini%20%3D%200.0%5Cnsamples%20%3D%203%5Cnvalue%20%3D%20%5B3%2C%200%5D%22%5D%20%3B%0D%0A39%20-%3E%2041%20%3B%0D%0A42%20%5Blabel%3D%22X%5B1%5D%20%3C%3D%202159.0%5Cngini%20%3D%200.444%5Cnsamples%20%3D%2015%5Cnvalue%20%3D%20%5B5%2C%2010%5D%22%5D%20%3B%0D%0A36%20-%3E%2042%20%3B%0D%0A43%20%5Blabel%3D%22X%5B3%5D%20%3C%3D%20138.5%5Cngini%20%3D%200.469%5Cnsamples%20%3D%208%5Cnvalue%20%3D%20%5B5%2C%203%5D%22%5D%20%3B%0D%0A42%20-%3E%2043%20%3B%0D%0A44%20%5Blabel%3D%22gini%20%3D%200.375%5Cnsamples%20%3D%204%5Cnvalue%20%3D%20%5B1%2C%203%5D%22%5D%20%3B%0D%0A43%20-%3E%2044%20%3B%0D%0A45%20%5Blabel%3D%22gini%20%3D%200.0%5Cnsamples%20%3D%204%5Cnvalue%20%3D%20%5B4%2C%200%5D%22%5D%20%3B%0D%0A43%20-%3E%2045%20%3B%0D%0A46%20%5Blabel%3D%22gini%20%3D%200.0%5Cnsamples%20%3D%207%5Cnvalue%20%3D%20%5B0%2C%207%5D%22%5D%20%3B%0D%0A42%20-%3E%2046%20%3B%0D%0A47%20%5Blabel%3D%22X%5B4%5D%20%3C%3D%201.5%5Cngini%20%3D%200.236%5Cnsamples%20%3D%2044%5Cnvalue%20%3D%20%5B6%2C%2038%5D%22%5D%20%3B%0D%0A35%20-%3E%2047%20%3B%0D%0A48%20%5Blabel%3D%22X%5B3%5D%20%3C%3D%20108.5%5Cngini%20%3D%200.061%5Cnsamples%20%3D%2032%5Cnvalue%20%3D%20%5B1%2C%2031%5D%22%5D%20%3B%0D%0A47%20-%3E%2048%20%3B%0D%0A49%20%5Blabel%3D%22X%5B21%5D%20%3C%3D%200.5%5Cngini%20%3D%200.32%5Cnsamples%20%3D%205%5Cnvalue%20%3D%20%5B1%2C%204%5D%22%5D%20%3B%0D%0A48%20-%3E%2049%20%3B%0D%0A50%20%5Blabel%3D%22gini%20%3D%200.0%5Cnsamples%20%3D%204%5Cnvalue%20%3D%20%5B0%2C%204%5D%22%5D%20%3B%0D%0A49%20-%3E%2050%20%3B%0D%0A51%20%5Blabel%3D%22gini%20%3D%200.0%5Cnsamples%20%3D%201%5Cnvalue%20%3D%20%5B1%2C%200%5D%22%5D%20%3B%0D%0A49%20-%3E%2051%20%3B%0D%0A52%20%5Blabel%3D%22gini%20%3D%200.0%5Cnsamples%20%3D%2027%5Cnvalue%20%3D%20%5B0%2C%2027%5D%22%5D%20%3B%0D%0A48%20-%3E%2052%20%3B%0D%0A53%20%5Blabel%3D%22X%5B1%5D%20%3C%3D%203845.5%5Cngini%20%3D%200.486%5Cnsamples%20%3D%2012%5Cnvalue%20%3D%20%5B5%2C%207%5D%22%5D%20%3B%0D%0A47%20-%3E%2053%20%3B%0D%0A54%20%5Blabel%3D%22X%5B1%5D%20%3C%3D%201637.5%5Cngini%20%3D%200.42%5Cnsamples%20%3D%2010%5Cnvalue%20%3D%20%5B3%2C%207%5D%22%5D%20%3B%0D%0A53%20-%3E%2054%20%3B%0D%0A55%20%5Blabel%3D%22gini%20%3D%200.5%5Cnsamples%20%3D%206%5Cnvalue%20%3D%20%5B3%2C%203%5D%22%5D%20%3B%0D%0A54%20-%3E%2055%20%3B%0D%0A56%20%5Blabel%3D%22gini%20%3D%200.0%5Cnsamples%20%3D%204%5Cnvalue%20%3D%20%5B0%2C%204%5D%22%5D%20%3B%0D%0A54%20-%3E%2056%20%3B%0D%0A57%20%5Blabel%3D%22gini%20%3D%200.0%5Cnsamples%20%3D%202%5Cnvalue%20%3D%20%5B2%2C%200%5D%22%5D%20%3B%0D%0A53%20-%3E%2057%20%3B%0D%0A58%20%5Blabel%3D%22X%5B4%5D%20%3C%3D%205.5%5Cngini%20%3D%200.295%5Cnsamples%20%3D%2078%5Cnvalue%20%3D%20%5B14%2C%2064%5D%22%5D%20%3B%0D%0A2%20-%3E%2058%20%3B%0D%0A59%20%5Blabel%3D%22X%5B0%5D%20%3C%3D%2026.5%5Cngini%20%3D%200.236%5Cnsamples%20%3D%2073%5Cnvalue%20%3D%20%5B10%2C%2063%5D%22%5D%20%3B%0D%0A58%20-%3E%2059%20%3B%0D%0A60%20%5Blabel%3D%22X%5B3%5D%20%3C%3D%2094.0%5Cngini%20%3D%200.444%5Cnsamples%20%3D%206%5Cnvalue%20%3D%20%5B4%2C%202%5D%22%5D%20%3B%0D%0A59%20-%3E%2060%20%3B%0D%0A61%20%5Blabel%3D%22gini%20%3D%200.0%5Cnsamples%20%3D%203%5Cnvalue%20%3D%20%5B3%2C%200%5D%22%5D%20%3B%0D%0A60%20-%3E%2061%20%3B%0D%0A62%20%5Blabel%3D%22X%5B3%5D%20%3C%3D%20133.5%5Cngini%20%3D%200.444%5Cnsamples%20%3D%203%5Cnvalue%20%3D%20%5B1%2C%202%5D%22%5D%20%3B%0D%0A60%20-%3E%2062%20%3B%0D%0A63%20%5Blabel%3D%22gini%20%3D%200.0%5Cnsamples%20%3D%202%5Cnvalue%20%3D%20%5B0%2C%202%5D%22%5D%20%3B%0D%0A62%20-%3E%2063%20%3B%0D%0A64%20%5Blabel%3D%22gini%20%3D%200.0%5Cnsamples%20%3D%201%5Cnvalue%20%3D%20%5B1%2C%200%5D%22%5D%20%3B%0D%0A62%20-%3E%2064%20%3B%0D%0A65%20%5Blabel%3D%22X%5B3%5D%20%3C%3D%20109.5%5Cngini%20%3D%200.163%5Cnsamples%20%3D%2067%5Cnvalue%20%3D%20%5B6%2C%2061%5D%22%5D%20%3B%0D%0A59%20-%3E%2065%20%3B%0D%0A66%20%5Blabel%3D%22X%5B0%5D%20%3C%3D%2055.0%5Cngini%20%3D%200.408%5Cnsamples%20%3D%2014%5Cnvalue%20%3D%20%5B4%2C%2010%5D%22%5D%20%3B%0D%0A65%20-%3E%2066%20%3B%0D%0A67%20%5Blabel%3D%22X%5B2%5D%20%3C%3D%202.5%5Cngini%20%3D%200.18%5Cnsamples%20%3D%2010%5Cnvalue%20%3D%20%5B1%2C%209%5D%22%5D%20%3B%0D%0A66%20-%3E%2067%20%3B%0D%0A68%20%5Blabel%3D%22gini%20%3D%200.0%5Cnsamples%20%3D%201%5Cnvalue%20%3D%20%5B1%2C%200%5D%22%5D%20%3B%0D%0A67%20-%3E%2068%20%3B%0D%0A69%20%5Blabel%3D%22gini%20%3D%200.0%5Cnsamples%20%3D%209%5Cnvalue%20%3D%20%5B0%2C%209%5D%22%5D%20%3B%0D%0A67%20-%3E%2069%20%3B%0D%0A70%20%5Blabel%3D%22X%5B3%5D%20%3C%3D%20104.0%5Cngini%20%3D%200.375%5Cnsamples%20%3D%204%5Cnvalue%20%3D%20%5B3%2C%201%5D%22%5D%20%3B%0D%0A66%20-%3E%2070%20%3B%0D%0A71%20%5Blabel%3D%22gini%20%3D%200.0%5Cnsamples%20%3D%203%5Cnvalue%20%3D%20%5B3%2C%200%5D%22%5D%20%3B%0D%0A70%20-%3E%2071%20%3B%0D%0A72%20%5Blabel%3D%22gini%20%3D%200.0%5Cnsamples%20%3D%201%5Cnvalue%20%3D%20%5B0%2C%201%5D%22%5D%20%3B%0D%0A70%20-%3E%2072%20%3B%0D%0A73%20%5Blabel%3D%22X%5B30%5D%20%3C%3D%200.5%5Cngini%20%3D%200.073%5Cnsamples%20%3D%2053%5Cnvalue%20%3D%20%5B2%2C%2051%5D%22%5D%20%3B%0D%0A65%20-%3E%2073%20%3B%0D%0A74%20%5Blabel%3D%22X%5B16%5D%20%3C%3D%200.5%5Cngini%20%3D%200.04%5Cnsamples%20%3D%2049%5Cnvalue%20%3D%20%5B1%2C%2048%5D%22%5D%20%3B%0D%0A73%20-%3E%2074%20%3B%0D%0A75%20%5Blabel%3D%22gini%20%3D%200.0%5Cnsamples%20%3D%2040%5Cnvalue%20%3D%20%5B0%2C%2040%5D%22%5D%20%3B%0D%0A74%20-%3E%2075%20%3B%0D%0A76%20%5Blabel%3D%22gini%20%3D%200.198%5Cnsamples%20%3D%209%5Cnvalue%20%3D%20%5B1%2C%208%5D%22%5D%20%3B%0D%0A74%20-%3E%2076%20%3B%0D%0A77%20%5Blabel%3D%22X%5B24%5D%20%3C%3D%200.5%5Cngini%20%3D%200.375%5Cnsamples%20%3D%204%5Cnvalue%20%3D%20%5B1%2C%203%5D%22%5D%20%3B%0D%0A73%20-%3E%2077%20%3B%0D%0A78%20%5Blabel%3D%22gini%20%3D%200.0%5Cnsamples%20%3D%203%5Cnvalue%20%3D%20%5B0%2C%203%5D%22%5D%20%3B%0D%0A77%20-%3E%2078%20%3B%0D%0A79%20%5Blabel%3D%22gini%20%3D%200.0%5Cnsamples%20%3D%201%5Cnvalue%20%3D%20%5B1%2C%200%5D%22%5D%20%3B%0D%0A77%20-%3E%2079%20%3B%0D%0A80%20%5Blabel%3D%22X%5B23%5D%20%3C%3D%200.5%5Cngini%20%3D%200.32%5Cnsamples%20%3D%205%5Cnvalue%20%3D%20%5B4%2C%201%5D%22%5D%20%3B%0D%0A58%20-%3E%2080%20%3B%0D%0A81%20%5Blabel%3D%22gini%20%3D%200.0%5Cnsamples%20%3D%204%5Cnvalue%20%3D%20%5B4%2C%200%5D%22%5D%20%3B%0D%0A80%20-%3E%2081%20%3B%0D%0A82%20%5Blabel%3D%22gini%20%3D%200.0%5Cnsamples%20%3D%201%5Cnvalue%20%3D%20%5B0%2C%201%5D%22%5D%20%3B%0D%0A80%20-%3E%2082%20%3B%0D%0A83%20%5Blabel%3D%22X%5B3%5D%20%3C%3D%2068.0%5Cngini%20%3D%200.28%5Cnsamples%20%3D%20202%5Cnvalue%20%3D%20%5B34%2C%20168%5D%22%5D%20%3B%0D%0A1%20-%3E%2083%20%3B%0D%0A84%20%5Blabel%3D%22X%5B38%5D%20%3C%3D%200.5%5Cngini%20%3D%200.219%5Cnsamples%20%3D%208%5Cnvalue%20%3D%20%5B7%2C%201%5D%22%5D%20%3B%0D%0A83%20-%3E%2084%20%3B%0D%0A85%20%5Blabel%3D%22gini%20%3D%200.0%5Cnsamples%20%3D%207%5Cnvalue%20%3D%20%5B7%2C%200%5D%22%5D%20%3B%0D%0A84%20-%3E%2085%20%3B%0D%0A86%20%5Blabel%3D%22gini%20%3D%200.0%5Cnsamples%20%3D%201%5Cnvalue%20%3D%20%5B0%2C%201%5D%22%5D%20%3B%0D%0A84%20-%3E%2086%20%3B%0D%0A87%20%5Blabel%3D%22X%5B3%5D%20%3C%3D%20133.5%5Cngini%20%3D%200.24%5Cnsamples%20%3D%20194%5Cnvalue%20%3D%20%5B27%2C%20167%5D%22%5D%20%3B%0D%0A83%20-%3E%2087%20%3B%0D%0A88%20%5Blabel%3D%22X%5B5%5D%20%3C%3D%20136.5%5Cngini%20%3D%200.39%5Cnsamples%20%3D%2064%5Cnvalue%20%3D%20%5B17%2C%2047%5D%22%5D%20%3B%0D%0A87%20-%3E%2088%20%3B%0D%0A89%20%5Blabel%3D%22X%5B5%5D%20%3C%3D%2085.0%5Cngini%20%3D%200.278%5Cnsamples%20%3D%2042%5Cnvalue%20%3D%20%5B7%2C%2035%5D%22%5D%20%3B%0D%0A88%20-%3E%2089%20%3B%0D%0A90%20%5Blabel%3D%22X%5B47%5D%20%3C%3D%200.5%5Cngini%20%3D%200.5%5Cnsamples%20%3D%2010%5Cnvalue%20%3D%20%5B5%2C%205%5D%22%5D%20%3B%0D%0A89%20-%3E%2090%20%3B%0D%0A91%20%5Blabel%3D%22gini%20%3D%200.0%5Cnsamples%20%3D%203%5Cnvalue%20%3D%20%5B3%2C%200%5D%22%5D%20%3B%0D%0A90%20-%3E%2091%20%3B%0D%0A92%20%5Blabel%3D%22X%5B5%5D%20%3C%3D%2073.5%5Cngini%20%3D%200.408%5Cnsamples%20%3D%207%5Cnvalue%20%3D%20%5B2%2C%205%5D%22%5D%20%3B%0D%0A90%20-%3E%2092%20%3B%0D%0A93%20%5Blabel%3D%22gini%20%3D%200.0%5Cnsamples%20%3D%205%5Cnvalue%20%3D%20%5B0%2C%205%5D%22%5D%20%3B%0D%0A92%20-%3E%2093%20%3B%0D%0A94%20%5Blabel%3D%22gini%20%3D%200.0%5Cnsamples%20%3D%202%5Cnvalue%20%3D%20%5B2%2C%200%5D%22%5D%20%3B%0D%0A92%20-%3E%2094%20%3B%0D%0A95%20%5Blabel%3D%22X%5B22%5D%20%3C%3D%200.5%5Cngini%20%3D%200.117%5Cnsamples%20%3D%2032%5Cnvalue%20%3D%20%5B2%2C%2030%5D%22%5D%20%3B%0D%0A89%20-%3E%2095%20%3B%0D%0A96%20%5Blabel%3D%22X%5B1%5D%20%3C%3D%20163.5%5Cngini%20%3D%200.062%5Cnsamples%20%3D%2031%5Cnvalue%20%3D%20%5B1%2C%2030%5D%22%5D%20%3B%0D%0A95%20-%3E%2096%20%3B%0D%0A97%20%5Blabel%3D%22gini%20%3D%200.5%5Cnsamples%20%3D%202%5Cnvalue%20%3D%20%5B1%2C%201%5D%22%5D%20%3B%0D%0A96%20-%3E%2097%20%3B%0D%0A98%20%5Blabel%3D%22gini%20%3D%200.0%5Cnsamples%20%3D%2029%5Cnvalue%20%3D%20%5B0%2C%2029%5D%22%5D%20%3B%0D%0A96%20-%3E%2098%20%3B%0D%0A99%20%5Blabel%3D%22gini%20%3D%200.0%5Cnsamples%20%3D%201%5Cnvalue%20%3D%20%5B1%2C%200%5D%22%5D%20%3B%0D%0A95%20-%3E%2099%20%3B%0D%0A100%20%5Blabel%3D%22X%5B5%5D%20%3C%3D%20182.5%5Cngini%20%3D%200.496%5Cnsamples%20%3D%2022%5Cnvalue%20%3D%20%5B10%2C%2012%5D%22%5D%20%3B%0D%0A88%20-%3E%20100%20%3B%0D%0A101%20%5Blabel%3D%22X%5B0%5D%20%3C%3D%2058.0%5Cngini%20%3D%200.375%5Cnsamples%20%3D%208%5Cnvalue%20%3D%20%5B6%2C%202%5D%22%5D%20%3B%0D%0A100%20-%3E%20101%20%3B%0D%0A102%20%5Blabel%3D%22X%5B11%5D%20%3C%3D%200.5%5Cngini%20%3D%200.245%5Cnsamples%20%3D%207%5Cnvalue%20%3D%20%5B6%2C%201%5D%22%5D%20%3B%0D%0A101%20-%3E%20102%20%3B%0D%0A103%20%5Blabel%3D%22gini%20%3D%200.0%5Cnsamples%20%3D%206%5Cnvalue%20%3D%20%5B6%2C%200%5D%22%5D%20%3B%0D%0A102%20-%3E%20103%20%3B%0D%0A104%20%5Blabel%3D%22gini%20%3D%200.0%5Cnsamples%20%3D%201%5Cnvalue%20%3D%20%5B0%2C%201%5D%22%5D%20%3B%0D%0A102%20-%3E%20104%20%3B%0D%0A105%20%5Blabel%3D%22gini%20%3D%200.0%5Cnsamples%20%3D%201%5Cnvalue%20%3D%20%5B0%2C%201%5D%22%5D%20%3B%0D%0A101%20-%3E%20105%20%3B%0D%0A106%20%5Blabel%3D%22X%5B5%5D%20%3C%3D%20196.5%5Cngini%20%3D%200.408%5Cnsamples%20%3D%2014%5Cnvalue%20%3D%20%5B4%2C%2010%5D%22%5D%20%3B%0D%0A100%20-%3E%20106%20%3B%0D%0A107%20%5Blabel%3D%22X%5B38%5D%20%3C%3D%200.5%5Cngini%20%3D%200.198%5Cnsamples%20%3D%209%5Cnvalue%20%3D%20%5B1%2C%208%5D%22%5D%20%3B%0D%0A106%20-%3E%20107%20%3B%0D%0A108%20%5Blabel%3D%22gini%20%3D%200.0%5Cnsamples%20%3D%208%5Cnvalue%20%3D%20%5B0%2C%208%5D%22%5D%20%3B%0D%0A107%20-%3E%20108%20%3B%0D%0A109%20%5Blabel%3D%22gini%20%3D%200.0%5Cnsamples%20%3D%201%5Cnvalue%20%3D%20%5B1%2C%200%5D%22%5D%20%3B%0D%0A107%20-%3E%20109%20%3B%0D%0A110%20%5Blabel%3D%22X%5B5%5D%20%3C%3D%20259.0%5Cngini%20%3D%200.48%5Cnsamples%20%3D%205%5Cnvalue%20%3D%20%5B3%2C%202%5D%22%5D%20%3B%0D%0A106%20-%3E%20110%20%3B%0D%0A111%20%5Blabel%3D%22gini%20%3D%200.0%5Cnsamples%20%3D%203%5Cnvalue%20%3D%20%5B3%2C%200%5D%22%5D%20%3B%0D%0A110%20-%3E%20111%20%3B%0D%0A112%20%5Blabel%3D%22gini%20%3D%200.0%5Cnsamples%20%3D%202%5Cnvalue%20%3D%20%5B0%2C%202%5D%22%5D%20%3B%0D%0A110%20-%3E%20112%20%3B%0D%0A113%20%5Blabel%3D%22X%5B6%5D%20%3C%3D%2021.0%5Cngini%20%3D%200.142%5Cnsamples%20%3D%20130%5Cnvalue%20%3D%20%5B10%2C%20120%5D%22%5D%20%3B%0D%0A87%20-%3E%20113%20%3B%0D%0A114%20%5Blabel%3D%22X%5B9%5D%20%3C%3D%200.5%5Cngini%20%3D%200.13%5Cnsamples%20%3D%20129%5Cnvalue%20%3D%20%5B9%2C%20120%5D%22%5D%20%3B%0D%0A113%20-%3E%20114%20%3B%0D%0A115%20%5Blabel%3D%22X%5B0%5D%20%3C%3D%2067.5%5Cngini%20%3D%200.117%5Cnsamples%20%3D%20128%5Cnvalue%20%3D%20%5B8%2C%20120%5D%22%5D%20%3B%0D%0A114%20-%3E%20115%20%3B%0D%0A116%20%5Blabel%3D%22X%5B5%5D%20%3C%3D%20135.5%5Cngini%20%3D%200.094%5Cnsamples%20%3D%20122%5Cnvalue%20%3D%20%5B6%2C%20116%5D%22%5D%20%3B%0D%0A115%20-%3E%20116%20%3B%0D%0A117%20%5Blabel%3D%22gini%20%3D%200.157%5Cnsamples%20%3D%2070%5Cnvalue%20%3D%20%5B6%2C%2064%5D%22%5D%20%3B%0D%0A116%20-%3E%20117%20%3B%0D%0A118%20%5Blabel%3D%22gini%20%3D%200.0%5Cnsamples%20%3D%2052%5Cnvalue%20%3D%20%5B0%2C%2052%5D%22%5D%20%3B%0D%0A116%20-%3E%20118%20%3B%0D%0A119%20%5Blabel%3D%22X%5B1%5D%20%3C%3D%201267.0%5Cngini%20%3D%200.444%5Cnsamples%20%3D%206%5Cnvalue%20%3D%20%5B2%2C%204%5D%22%5D%20%3B%0D%0A115%20-%3E%20119%20%3B%0D%0A120%20%5Blabel%3D%22gini%20%3D%200.0%5Cnsamples%20%3D%203%5Cnvalue%20%3D%20%5B0%2C%203%5D%22%5D%20%3B%0D%0A119%20-%3E%20120%20%3B%0D%0A121%20%5Blabel%3D%22gini%20%3D%200.444%5Cnsamples%20%3D%203%5Cnvalue%20%3D%20%5B2%2C%201%5D%22%5D%20%3B%0D%0A119%20-%3E%20121%20%3B%0D%0A122%20%5Blabel%3D%22gini%20%3D%200.0%5Cnsamples%20%3D%201%5Cnvalue%20%3D%20%5B1%2C%200%5D%22%5D%20%3B%0D%0A114%20-%3E%20122%20%3B%0D%0A123%20%5Blabel%3D%22gini%20%3D%200.0%5Cnsamples%20%3D%201%5Cnvalue%20%3D%20%5B1%2C%200%5D%22%5D%20%3B%0D%0A113%20-%3E%20123%20%3B%0D%0A124%20%5Blabel%3D%22X%5B3%5D%20%3C%3D%20441.5%5Cngini%20%3D%200.454%5Cnsamples%20%3D%204701%5Cnvalue%20%3D%20%5B1634%2C%203067%5D%22%5D%20%3B%0D%0A0%20-%3E%20124%20%5Blabeldistance%3D2.5%2C%20labelangle%3D-45%2C%20headlabel%3D%22False%22%5D%20%3B%0D%0A125%20%5Blabel%3D%22X%5B28%5D%20%3C%3D%200.5%5Cngini%20%3D%200.5%5Cnsamples%20%3D%202481%5Cnvalue%20%3D%20%5B1213%2C%201268%5D%22%5D%20%3B%0D%0A124%20-%3E%20125%20%3B%0D%0A126%20%5Blabel%3D%22X%5B31%5D%20%3C%3D%200.5%5Cngini%20%3D%200.478%5Cnsamples%20%3D%202061%5Cnvalue%20%3D%20%5B815%2C%201246%5D%22%5D%20%3B%0D%0A125%20-%3E%20126%20%3B%0D%0A127%20%5Blabel%3D%22X%5B48%5D%20%3C%3D%200.5%5Cngini%20%3D%200.499%5Cnsamples%20%3D%201680%5Cnvalue%20%3D%20%5B797%2C%20883%5D%22%5D%20%3B%0D%0A126%20-%3E%20127%20%3B%0D%0A128%20%5Blabel%3D%22X%5B1%5D%20%3C%3D%2090.0%5Cngini%20%3D%200.465%5Cnsamples%20%3D%201060%5Cnvalue%20%3D%20%5B390%2C%20670%5D%22%5D%20%3B%0D%0A127%20-%3E%20128%20%3B%0D%0A129%20%5Blabel%3D%22X%5B38%5D%20%3C%3D%200.5%5Cngini%20%3D%200.466%5Cnsamples%20%3D%20195%5Cnvalue%20%3D%20%5B123%2C%2072%5D%22%5D%20%3B%0D%0A128%20-%3E%20129%20%3B%0D%0A130%20%5Blabel%3D%22X%5B2%5D%20%3C%3D%2018.5%5Cngini%20%3D%200.493%5Cnsamples%20%3D%20147%5Cnvalue%20%3D%20%5B82%2C%2065%5D%22%5D%20%3B%0D%0A129%20-%3E%20130%20%3B%0D%0A131%20%5Blabel%3D%22gini%20%3D%200.491%5Cnsamples%20%3D%2083%5Cnvalue%20%3D%20%5B36%2C%2047%5D%22%5D%20%3B%0D%0A130%20-%3E%20131%20%3B%0D%0A132%20%5Blabel%3D%22gini%20%3D%200.404%5Cnsamples%20%3D%2064%5Cnvalue%20%3D%20%5B46%2C%2018%5D%22%5D%20%3B%0D%0A130%20-%3E%20132%20%3B%0D%0A133%20%5Blabel%3D%22X%5B3%5D%20%3C%3D%20408.0%5Cngini%20%3D%200.249%5Cnsamples%20%3D%2048%5Cnvalue%20%3D%20%5B41%2C%207%5D%22%5D%20%3B%0D%0A129%20-%3E%20133%20%3B%0D%0A134%20%5Blabel%3D%22gini%20%3D%200.13%5Cnsamples%20%3D%2043%5Cnvalue%20%3D%20%5B40%2C%203%5D%22%5D%20%3B%0D%0A133%20-%3E%20134%20%3B%0D%0A135%20%5Blabel%3D%22gini%20%3D%200.32%5Cnsamples%20%3D%205%5Cnvalue%20%3D%20%5B1%2C%204%5D%22%5D%20%3B%0D%0A133%20-%3E%20135%20%3B%0D%0A136%20%5Blabel%3D%22X%5B0%5D%20%3C%3D%2059.5%5Cngini%20%3D%200.427%5Cnsamples%20%3D%20865%5Cnvalue%20%3D%20%5B267%2C%20598%5D%22%5D%20%3B%0D%0A128%20-%3E%20136%20%3B%0D%0A137%20%5Blabel%3D%22X%5B39%5D%20%3C%3D%200.5%5Cngini%20%3D%200.452%5Cnsamples%20%3D%20746%5Cnvalue%20%3D%20%5B258%2C%20488%5D%22%5D%20%3B%0D%0A136%20-%3E%20137%20%3B%0D%0A138%20%5Blabel%3D%22gini%20%3D%200.469%5Cnsamples%20%3D%20678%5Cnvalue%20%3D%20%5B255%2C%20423%5D%22%5D%20%3B%0D%0A137%20-%3E%20138%20%3B%0D%0A139%20%5Blabel%3D%22gini%20%3D%200.084%5Cnsamples%20%3D%2068%5Cnvalue%20%3D%20%5B3%2C%2065%5D%22%5D%20%3B%0D%0A137%20-%3E%20139%20%3B%0D%0A140%20%5Blabel%3D%22X%5B3%5D%20%3C%3D%20430.5%5Cngini%20%3D%200.14%5Cnsamples%20%3D%20119%5Cnvalue%20%3D%20%5B9%2C%20110%5D%22%5D%20%3B%0D%0A136%20-%3E%20140%20%3B%0D%0A141%20%5Blabel%3D%22gini%20%3D%200.115%5Cnsamples%20%3D%20114%5Cnvalue%20%3D%20%5B7%2C%20107%5D%22%5D%20%3B%0D%0A140%20-%3E%20141%20%3B%0D%0A142%20%5Blabel%3D%22gini%20%3D%200.48%5Cnsamples%20%3D%205%5Cnvalue%20%3D%20%5B2%2C%203%5D%22%5D%20%3B%0D%0A140%20-%3E%20142%20%3B%0D%0A143%20%5Blabel%3D%22X%5B5%5D%20%3C%3D%20374.5%5Cngini%20%3D%200.451%5Cnsamples%20%3D%20620%5Cnvalue%20%3D%20%5B407%2C%20213%5D%22%5D%20%3B%0D%0A127%20-%3E%20143%20%3B%0D%0A144%20%5Blabel%3D%22X%5B40%5D%20%3C%3D%200.5%5Cngini%20%3D%200.432%5Cnsamples%20%3D%20593%5Cnvalue%20%3D%20%5B406%2C%20187%5D%22%5D%20%3B%0D%0A143%20-%3E%20144%20%3B%0D%0A145%20%5Blabel%3D%22X%5B39%5D%20%3C%3D%200.5%5Cngini%20%3D%200.417%5Cnsamples%20%3D%20577%5Cnvalue%20%3D%20%5B406%2C%20171%5D%22%5D%20%3B%0D%0A144%20-%3E%20145%20%3B%0D%0A146%20%5Blabel%3D%22gini%20%3D%200.398%5Cnsamples%20%3D%20557%5Cnvalue%20%3D%20%5B404%2C%20153%5D%22%5D%20%3B%0D%0A145%20-%3E%20146%20%3B%0D%0A147%20%5Blabel%3D%22gini%20%3D%200.18%5Cnsamples%20%3D%2020%5Cnvalue%20%3D%20%5B2%2C%2018%5D%22%5D%20%3B%0D%0A145%20-%3E%20147%20%3B%0D%0A148%20%5Blabel%3D%22gini%20%3D%200.0%5Cnsamples%20%3D%2016%5Cnvalue%20%3D%20%5B0%2C%2016%5D%22%5D%20%3B%0D%0A144%20-%3E%20148%20%3B%0D%0A149%20%5Blabel%3D%22X%5B1%5D%20%3C%3D%20207.0%5Cngini%20%3D%200.071%5Cnsamples%20%3D%2027%5Cnvalue%20%3D%20%5B1%2C%2026%5D%22%5D%20%3B%0D%0A143%20-%3E%20149%20%3B%0D%0A150%20%5Blabel%3D%22X%5B24%5D%20%3C%3D%200.5%5Cngini%20%3D%200.5%5Cnsamples%20%3D%202%5Cnvalue%20%3D%20%5B1%2C%201%5D%22%5D%20%3B%0D%0A149%20-%3E%20150%20%3B%0D%0A151%20%5Blabel%3D%22gini%20%3D%200.0%5Cnsamples%20%3D%201%5Cnvalue%20%3D%20%5B0%2C%201%5D%22%5D%20%3B%0D%0A150%20-%3E%20151%20%3B%0D%0A152%20%5Blabel%3D%22gini%20%3D%200.0%5Cnsamples%20%3D%201%5Cnvalue%20%3D%20%5B1%2C%200%5D%22%5D%20%3B%0D%0A150%20-%3E%20152%20%3B%0D%0A153%20%5Blabel%3D%22gini%20%3D%200.0%5Cnsamples%20%3D%2025%5Cnvalue%20%3D%20%5B0%2C%2025%5D%22%5D%20%3B%0D%0A149%20-%3E%20153%20%3B%0D%0A154%20%5Blabel%3D%22X%5B1%5D%20%3C%3D%20-207.0%5Cngini%20%3D%200.09%5Cnsamples%20%3D%20381%5Cnvalue%20%3D%20%5B18%2C%20363%5D%22%5D%20%3B%0D%0A126%20-%3E%20154%20%3B%0D%0A155%20%5Blabel%3D%22gini%20%3D%200.0%5Cnsamples%20%3D%201%5Cnvalue%20%3D%20%5B1%2C%200%5D%22%5D%20%3B%0D%0A154%20-%3E%20155%20%3B%0D%0A156%20%5Blabel%3D%22X%5B39%5D%20%3C%3D%200.5%5Cngini%20%3D%200.085%5Cnsamples%20%3D%20380%5Cnvalue%20%3D%20%5B17%2C%20363%5D%22%5D%20%3B%0D%0A154%20-%3E%20156%20%3B%0D%0A157%20%5Blabel%3D%22X%5B6%5D%20%3C%3D%2010.5%5Cngini%20%3D%200.068%5Cnsamples%20%3D%20340%5Cnvalue%20%3D%20%5B12%2C%20328%5D%22%5D%20%3B%0D%0A156%20-%3E%20157%20%3B%0D%0A158%20%5Blabel%3D%22X%5B0%5D%20%3C%3D%2076.5%5Cngini%20%3D%200.063%5Cnsamples%20%3D%20338%5Cnvalue%20%3D%20%5B11%2C%20327%5D%22%5D%20%3B%0D%0A157%20-%3E%20158%20%3B%0D%0A159%20%5Blabel%3D%22gini%20%3D%200.054%5Cnsamples%20%3D%20325%5Cnvalue%20%3D%20%5B9%2C%20316%5D%22%5D%20%3B%0D%0A158%20-%3E%20159%20%3B%0D%0A160%20%5Blabel%3D%22gini%20%3D%200.26%5Cnsamples%20%3D%2013%5Cnvalue%20%3D%20%5B2%2C%2011%5D%22%5D%20%3B%0D%0A158%20-%3E%20160%20%3B%0D%0A161%20%5Blabel%3D%22X%5B46%5D%20%3C%3D%200.5%5Cngini%20%3D%200.5%5Cnsamples%20%3D%202%5Cnvalue%20%3D%20%5B1%2C%201%5D%22%5D%20%3B%0D%0A157%20-%3E%20161%20%3B%0D%0A162%20%5Blabel%3D%22gini%20%3D%200.0%5Cnsamples%20%3D%201%5Cnvalue%20%3D%20%5B1%2C%200%5D%22%5D%20%3B%0D%0A161%20-%3E%20162%20%3B%0D%0A163%20%5Blabel%3D%22gini%20%3D%200.0%5Cnsamples%20%3D%201%5Cnvalue%20%3D%20%5B0%2C%201%5D%22%5D%20%3B%0D%0A161%20-%3E%20163%20%3B%0D%0A164%20%5Blabel%3D%22X%5B23%5D%20%3C%3D%200.5%5Cngini%20%3D%200.219%5Cnsamples%20%3D%2040%5Cnvalue%20%3D%20%5B5%2C%2035%5D%22%5D%20%3B%0D%0A156%20-%3E%20164%20%3B%0D%0A165%20%5Blabel%3D%22X%5B1%5D%20%3C%3D%205439.0%5Cngini%20%3D%200.149%5Cnsamples%20%3D%2037%5Cnvalue%20%3D%20%5B3%2C%2034%5D%22%5D%20%3B%0D%0A164%20-%3E%20165%20%3B%0D%0A166%20%5Blabel%3D%22gini%20%3D%200.108%5Cnsamples%20%3D%2035%5Cnvalue%20%3D%20%5B2%2C%2033%5D%22%5D%20%3B%0D%0A165%20-%3E%20166%20%3B%0D%0A167%20%5Blabel%3D%22gini%20%3D%200.5%5Cnsamples%20%3D%202%5Cnvalue%20%3D%20%5B1%2C%201%5D%22%5D%20%3B%0D%0A165%20-%3E%20167%20%3B%0D%0A168%20%5Blabel%3D%22X%5B0%5D%20%3C%3D%2038.0%5Cngini%20%3D%200.444%5Cnsamples%20%3D%203%5Cnvalue%20%3D%20%5B2%2C%201%5D%22%5D%20%3B%0D%0A164%20-%3E%20168%20%3B%0D%0A169%20%5Blabel%3D%22gini%20%3D%200.0%5Cnsamples%20%3D%201%5Cnvalue%20%3D%20%5B0%2C%201%5D%22%5D%20%3B%0D%0A168%20-%3E%20169%20%3B%0D%0A170%20%5Blabel%3D%22gini%20%3D%200.0%5Cnsamples%20%3D%202%5Cnvalue%20%3D%20%5B2%2C%200%5D%22%5D%20%3B%0D%0A168%20-%3E%20170%20%3B%0D%0A171%20%5Blabel%3D%22X%5B43%5D%20%3C%3D%200.5%5Cngini%20%3D%200.099%5Cnsamples%20%3D%20420%5Cnvalue%20%3D%20%5B398%2C%2022%5D%22%5D%20%3B%0D%0A125%20-%3E%20171%20%3B%0D%0A172%20%5Blabel%3D%22X%5B42%5D%20%3C%3D%200.5%5Cngini%20%3D%200.074%5Cnsamples%20%3D%20414%5Cnvalue%20%3D%20%5B398%2C%2016%5D%22%5D%20%3B%0D%0A171%20-%3E%20172%20%3B%0D%0A173%20%5Blabel%3D%22X%5B6%5D%20%3C%3D%200.5%5Cngini%20%3D%200.057%5Cnsamples%20%3D%20410%5Cnvalue%20%3D%20%5B398%2C%2012%5D%22%5D%20%3B%0D%0A172%20-%3E%20173%20%3B%0D%0A174%20%5Blabel%3D%22X%5B36%5D%20%3C%3D%200.5%5Cngini%20%3D%200.043%5Cnsamples%20%3D%20407%5Cnvalue%20%3D%20%5B398%2C%209%5D%22%5D%20%3B%0D%0A173%20-%3E%20174%20%3B%0D%0A175%20%5Blabel%3D%22X%5B3%5D%20%3C%3D%20411.0%5Cngini%20%3D%200.034%5Cnsamples%20%3D%20405%5Cnvalue%20%3D%20%5B398%2C%207%5D%22%5D%20%3B%0D%0A174%20-%3E%20175%20%3B%0D%0A176%20%5Blabel%3D%22gini%20%3D%200.016%5Cnsamples%20%3D%20376%5Cnvalue%20%3D%20%5B373%2C%203%5D%22%5D%20%3B%0D%0A175%20-%3E%20176%20%3B%0D%0A177%20%5Blabel%3D%22gini%20%3D%200.238%5Cnsamples%20%3D%2029%5Cnvalue%20%3D%20%5B25%2C%204%5D%22%5D%20%3B%0D%0A175%20-%3E%20177%20%3B%0D%0A178%20%5Blabel%3D%22gini%20%3D%200.0%5Cnsamples%20%3D%202%5Cnvalue%20%3D%20%5B0%2C%202%5D%22%5D%20%3B%0D%0A174%20-%3E%20178%20%3B%0D%0A179%20%5Blabel%3D%22gini%20%3D%200.0%5Cnsamples%20%3D%203%5Cnvalue%20%3D%20%5B0%2C%203%5D%22%5D%20%3B%0D%0A173%20-%3E%20179%20%3B%0D%0A180%20%5Blabel%3D%22gini%20%3D%200.0%5Cnsamples%20%3D%204%5Cnvalue%20%3D%20%5B0%2C%204%5D%22%5D%20%3B%0D%0A172%20-%3E%20180%20%3B%0D%0A181%20%5Blabel%3D%22gini%20%3D%200.0%5Cnsamples%20%3D%206%5Cnvalue%20%3D%20%5B0%2C%206%5D%22%5D%20%3B%0D%0A171%20-%3E%20181%20%3B%0D%0A182%20%5Blabel%3D%22X%5B3%5D%20%3C%3D%20649.5%5Cngini%20%3D%200.307%5Cnsamples%20%3D%202220%5Cnvalue%20%3D%20%5B421%2C%201799%5D%22%5D%20%3B%0D%0A124%20-%3E%20182%20%3B%0D%0A183%20%5Blabel%3D%22X%5B28%5D%20%3C%3D%200.5%5Cngini%20%3D%200.396%5Cnsamples%20%3D%20895%5Cnvalue%20%3D%20%5B243%2C%20652%5D%22%5D%20%3B%0D%0A182%20-%3E%20183%20%3B%0D%0A184%20%5Blabel%3D%22X%5B48%5D%20%3C%3D%200.5%5Cngini%20%3D%200.348%5Cnsamples%20%3D%20744%5Cnvalue%20%3D%20%5B167%2C%20577%5D%22%5D%20%3B%0D%0A183%20-%3E%20184%20%3B%0D%0A185%20%5Blabel%3D%22X%5B5%5D%20%3C%3D%2080.0%5Cngini%20%3D%200.287%5Cnsamples%20%3D%20450%5Cnvalue%20%3D%20%5B78%2C%20372%5D%22%5D%20%3B%0D%0A184%20-%3E%20185%20%3B%0D%0A186%20%5Blabel%3D%22X%5B1%5D%20%3C%3D%20820.5%5Cngini%20%3D%200.345%5Cnsamples%20%3D%20320%5Cnvalue%20%3D%20%5B71%2C%20249%5D%22%5D%20%3B%0D%0A185%20-%3E%20186%20%3B%0D%0A187%20%5Blabel%3D%22X%5B4%5D%20%3C%3D%204.5%5Cngini%20%3D%200.401%5Cnsamples%20%3D%20180%5Cnvalue%20%3D%20%5B50%2C%20130%5D%22%5D%20%3B%0D%0A186%20-%3E%20187%20%3B%0D%0A188%20%5Blabel%3D%22gini%20%3D%200.425%5Cnsamples%20%3D%20160%5Cnvalue%20%3D%20%5B49%2C%20111%5D%22%5D%20%3B%0D%0A187%20-%3E%20188%20%3B%0D%0A189%20%5Blabel%3D%22gini%20%3D%200.095%5Cnsamples%20%3D%2020%5Cnvalue%20%3D%20%5B1%2C%2019%5D%22%5D%20%3B%0D%0A187%20-%3E%20189%20%3B%0D%0A190%20%5Blabel%3D%22X%5B1%5D%20%3C%3D%2035886.5%5Cngini%20%3D%200.255%5Cnsamples%20%3D%20140%5Cnvalue%20%3D%20%5B21%2C%20119%5D%22%5D%20%3B%0D%0A186%20-%3E%20190%20%3B%0D%0A191%20%5Blabel%3D%22gini%20%3D%200.246%5Cnsamples%20%3D%20139%5Cnvalue%20%3D%20%5B20%2C%20119%5D%22%5D%20%3B%0D%0A190%20-%3E%20191%20%3B%0D%0A192%20%5Blabel%3D%22gini%20%3D%200.0%5Cnsamples%20%3D%201%5Cnvalue%20%3D%20%5B1%2C%200%5D%22%5D%20%3B%0D%0A190%20-%3E%20192%20%3B%0D%0A193%20%5Blabel%3D%22X%5B15%5D%20%3C%3D%200.5%5Cngini%20%3D%200.102%5Cnsamples%20%3D%20130%5Cnvalue%20%3D%20%5B7%2C%20123%5D%22%5D%20%3B%0D%0A185%20-%3E%20193%20%3B%0D%0A194%20%5Blabel%3D%22X%5B10%5D%20%3C%3D%200.5%5Cngini%20%3D%200.078%5Cnsamples%20%3D%20123%5Cnvalue%20%3D%20%5B5%2C%20118%5D%22%5D%20%3B%0D%0A193%20-%3E%20194%20%3B%0D%0A195%20%5Blabel%3D%22gini%20%3D%200.064%5Cnsamples%20%3D%20120%5Cnvalue%20%3D%20%5B4%2C%20116%5D%22%5D%20%3B%0D%0A194%20-%3E%20195%20%3B%0D%0A196%20%5Blabel%3D%22gini%20%3D%200.444%5Cnsamples%20%3D%203%5Cnvalue%20%3D%20%5B1%2C%202%5D%22%5D%20%3B%0D%0A194%20-%3E%20196%20%3B%0D%0A197%20%5Blabel%3D%22X%5B1%5D%20%3C%3D%20631.5%5Cngini%20%3D%200.408%5Cnsamples%20%3D%207%5Cnvalue%20%3D%20%5B2%2C%205%5D%22%5D%20%3B%0D%0A193%20-%3E%20197%20%3B%0D%0A198%20%5Blabel%3D%22gini%20%3D%200.444%5Cnsamples%20%3D%203%5Cnvalue%20%3D%20%5B2%2C%201%5D%22%5D%20%3B%0D%0A197%20-%3E%20198%20%3B%0D%0A199%20%5Blabel%3D%22gini%20%3D%200.0%5Cnsamples%20%3D%204%5Cnvalue%20%3D%20%5B0%2C%204%5D%22%5D%20%3B%0D%0A197%20-%3E%20199%20%3B%0D%0A200%20%5Blabel%3D%22X%5B1%5D%20%3C%3D%2012.0%5Cngini%20%3D%200.422%5Cnsamples%20%3D%20294%5Cnvalue%20%3D%20%5B89%2C%20205%5D%22%5D%20%3B%0D%0A184%20-%3E%20200%20%3B%0D%0A201%20%5Blabel%3D%22X%5B3%5D%20%3C%3D%20601.0%5Cngini%20%3D%200.499%5Cnsamples%20%3D%2057%5Cnvalue%20%3D%20%5B27%2C%2030%5D%22%5D%20%3B%0D%0A200%20-%3E%20201%20%3B%0D%0A202%20%5Blabel%3D%22X%5B1%5D%20%3C%3D%20-96.5%5Cngini%20%3D%200.493%5Cnsamples%20%3D%2043%5Cnvalue%20%3D%20%5B24%2C%2019%5D%22%5D%20%3B%0D%0A201%20-%3E%20202%20%3B%0D%0A203%20%5Blabel%3D%22gini%20%3D%200.457%5Cnsamples%20%3D%2017%5Cnvalue%20%3D%20%5B6%2C%2011%5D%22%5D%20%3B%0D%0A202%20-%3E%20203%20%3B%0D%0A204%20%5Blabel%3D%22gini%20%3D%200.426%5Cnsamples%20%3D%2026%5Cnvalue%20%3D%20%5B18%2C%208%5D%22%5D%20%3B%0D%0A202%20-%3E%20204%20%3B%0D%0A205%20%5Blabel%3D%22X%5B33%5D%20%3C%3D%200.5%5Cngini%20%3D%200.337%5Cnsamples%20%3D%2014%5Cnvalue%20%3D%20%5B3%2C%2011%5D%22%5D%20%3B%0D%0A201%20-%3E%20205%20%3B%0D%0A206%20%5Blabel%3D%22gini%20%3D%200.165%5Cnsamples%20%3D%2011%5Cnvalue%20%3D%20%5B1%2C%2010%5D%22%5D%20%3B%0D%0A205%20-%3E%20206%20%3B%0D%0A207%20%5Blabel%3D%22gini%20%3D%200.444%5Cnsamples%20%3D%203%5Cnvalue%20%3D%20%5B2%2C%201%5D%22%5D%20%3B%0D%0A205%20-%3E%20207%20%3B%0D%0A208%20%5Blabel%3D%22X%5B9%5D%20%3C%3D%200.5%5Cngini%20%3D%200.386%5Cnsamples%20%3D%20237%5Cnvalue%20%3D%20%5B62%2C%20175%5D%22%5D%20%3B%0D%0A200%20-%3E%20208%20%3B%0D%0A209%20%5Blabel%3D%22X%5B31%5D%20%3C%3D%200.5%5Cngini%20%3D%200.372%5Cnsamples%20%3D%20227%5Cnvalue%20%3D%20%5B56%2C%20171%5D%22%5D%20%3B%0D%0A208%20-%3E%20209%20%3B%0D%0A210%20%5Blabel%3D%22gini%20%3D%200.395%5Cnsamples%20%3D%20203%5Cnvalue%20%3D%20%5B55%2C%20148%5D%22%5D%20%3B%0D%0A209%20-%3E%20210%20%3B%0D%0A211%20%5Blabel%3D%22gini%20%3D%200.08%5Cnsamples%20%3D%2024%5Cnvalue%20%3D%20%5B1%2C%2023%5D%22%5D%20%3B%0D%0A209%20-%3E%20211%20%3B%0D%0A212%20%5Blabel%3D%22X%5B0%5D%20%3C%3D%2040.5%5Cngini%20%3D%200.48%5Cnsamples%20%3D%2010%5Cnvalue%20%3D%20%5B6%2C%204%5D%22%5D%20%3B%0D%0A208%20-%3E%20212%20%3B%0D%0A213%20%5Blabel%3D%22gini%20%3D%200.444%5Cnsamples%20%3D%206%5Cnvalue%20%3D%20%5B2%2C%204%5D%22%5D%20%3B%0D%0A212%20-%3E%20213%20%3B%0D%0A214%20%5Blabel%3D%22gini%20%3D%200.0%5Cnsamples%20%3D%204%5Cnvalue%20%3D%20%5B4%2C%200%5D%22%5D%20%3B%0D%0A212%20-%3E%20214%20%3B%0D%0A215%20%5Blabel%3D%22X%5B41%5D%20%3C%3D%200.5%5Cngini%20%3D%200.5%5Cnsamples%20%3D%20151%5Cnvalue%20%3D%20%5B76%2C%2075%5D%22%5D%20%3B%0D%0A183%20-%3E%20215%20%3B%0D%0A216%20%5Blabel%3D%22X%5B47%5D%20%3C%3D%200.5%5Cngini%20%3D%200.433%5Cnsamples%20%3D%2063%5Cnvalue%20%3D%20%5B20%2C%2043%5D%22%5D%20%3B%0D%0A215%20-%3E%20216%20%3B%0D%0A217%20%5Blabel%3D%22X%5B22%5D%20%3C%3D%200.5%5Cngini%20%3D%200.291%5Cnsamples%20%3D%2034%5Cnvalue%20%3D%20%5B6%2C%2028%5D%22%5D%20%3B%0D%0A216%20-%3E%20217%20%3B%0D%0A218%20%5Blabel%3D%22X%5B7%5D%20%3C%3D%200.5%5Cngini%20%3D%200.219%5Cnsamples%20%3D%2032%5Cnvalue%20%3D%20%5B4%2C%2028%5D%22%5D%20%3B%0D%0A217%20-%3E%20218%20%3B%0D%0A219%20%5Blabel%3D%22gini%20%3D%200.137%5Cnsamples%20%3D%2027%5Cnvalue%20%3D%20%5B2%2C%2025%5D%22%5D%20%3B%0D%0A218%20-%3E%20219%20%3B%0D%0A220%20%5Blabel%3D%22gini%20%3D%200.48%5Cnsamples%20%3D%205%5Cnvalue%20%3D%20%5B2%2C%203%5D%22%5D%20%3B%0D%0A218%20-%3E%20220%20%3B%0D%0A221%20%5Blabel%3D%22gini%20%3D%200.0%5Cnsamples%20%3D%202%5Cnvalue%20%3D%20%5B2%2C%200%5D%22%5D%20%3B%0D%0A217%20-%3E%20221%20%3B%0D%0A222%20%5Blabel%3D%22X%5B1%5D%20%3C%3D%202910.5%5Cngini%20%3D%200.499%5Cnsamples%20%3D%2029%5Cnvalue%20%3D%20%5B14%2C%2015%5D%22%5D%20%3B%0D%0A216%20-%3E%20222%20%3B%0D%0A223%20%5Blabel%3D%22X%5B3%5D%20%3C%3D%20468.5%5Cngini%20%3D%200.469%5Cnsamples%20%3D%2024%5Cnvalue%20%3D%20%5B9%2C%2015%5D%22%5D%20%3B%0D%0A222%20-%3E%20223%20%3B%0D%0A224%20%5Blabel%3D%22gini%20%3D%200.0%5Cnsamples%20%3D%203%5Cnvalue%20%3D%20%5B3%2C%200%5D%22%5D%20%3B%0D%0A223%20-%3E%20224%20%3B%0D%0A225%20%5Blabel%3D%22gini%20%3D%200.408%5Cnsamples%20%3D%2021%5Cnvalue%20%3D%20%5B6%2C%2015%5D%22%5D%20%3B%0D%0A223%20-%3E%20225%20%3B%0D%0A226%20%5Blabel%3D%22gini%20%3D%200.0%5Cnsamples%20%3D%205%5Cnvalue%20%3D%20%5B5%2C%200%5D%22%5D%20%3B%0D%0A222%20-%3E%20226%20%3B%0D%0A227%20%5Blabel%3D%22X%5B3%5D%20%3C%3D%20535.0%5Cngini%20%3D%200.463%5Cnsamples%20%3D%2088%5Cnvalue%20%3D%20%5B56%2C%2032%5D%22%5D%20%3B%0D%0A215%20-%3E%20227%20%3B%0D%0A228%20%5Blabel%3D%22X%5B0%5D%20%3C%3D%2044.5%5Cngini%20%3D%200.295%5Cnsamples%20%3D%2039%5Cnvalue%20%3D%20%5B32%2C%207%5D%22%5D%20%3B%0D%0A227%20-%3E%20228%20%3B%0D%0A229%20%5Blabel%3D%22X%5B3%5D%20%3C%3D%20450.5%5Cngini%20%3D%200.128%5Cnsamples%20%3D%2029%5Cnvalue%20%3D%20%5B27%2C%202%5D%22%5D%20%3B%0D%0A228%20-%3E%20229%20%3B%0D%0A230%20%5Blabel%3D%22gini%20%3D%200.0%5Cnsamples%20%3D%201%5Cnvalue%20%3D%20%5B0%2C%201%5D%22%5D%20%3B%0D%0A229%20-%3E%20230%20%3B%0D%0A231%20%5Blabel%3D%22gini%20%3D%200.069%5Cnsamples%20%3D%2028%5Cnvalue%20%3D%20%5B27%2C%201%5D%22%5D%20%3B%0D%0A229%20-%3E%20231%20%3B%0D%0A232%20%5Blabel%3D%22X%5B19%5D%20%3C%3D%200.5%5Cngini%20%3D%200.5%5Cnsamples%20%3D%2010%5Cnvalue%20%3D%20%5B5%2C%205%5D%22%5D%20%3B%0D%0A228%20-%3E%20232%20%3B%0D%0A233%20%5Blabel%3D%22gini%20%3D%200.408%5Cnsamples%20%3D%207%5Cnvalue%20%3D%20%5B5%2C%202%5D%22%5D%20%3B%0D%0A232%20-%3E%20233%20%3B%0D%0A234%20%5Blabel%3D%22gini%20%3D%200.0%5Cnsamples%20%3D%203%5Cnvalue%20%3D%20%5B0%2C%203%5D%22%5D%20%3B%0D%0A232%20-%3E%20234%20%3B%0D%0A235%20%5Blabel%3D%22X%5B1%5D%20%3C%3D%2060.5%5Cngini%20%3D%200.5%5Cnsamples%20%3D%2049%5Cnvalue%20%3D%20%5B24%2C%2025%5D%22%5D%20%3B%0D%0A227%20-%3E%20235%20%3B%0D%0A236%20%5Blabel%3D%22X%5B15%5D%20%3C%3D%200.5%5Cngini%20%3D%200.278%5Cnsamples%20%3D%2012%5Cnvalue%20%3D%20%5B2%2C%2010%5D%22%5D%20%3B%0D%0A235%20-%3E%20236%20%3B%0D%0A237%20%5Blabel%3D%22gini%20%3D%200.165%5Cnsamples%20%3D%2011%5Cnvalue%20%3D%20%5B1%2C%2010%5D%22%5D%20%3B%0D%0A236%20-%3E%20237%20%3B%0D%0A238%20%5Blabel%3D%22gini%20%3D%200.0%5Cnsamples%20%3D%201%5Cnvalue%20%3D%20%5B1%2C%200%5D%22%5D%20%3B%0D%0A236%20-%3E%20238%20%3B%0D%0A239%20%5Blabel%3D%22X%5B0%5D%20%3C%3D%2051.5%5Cngini%20%3D%200.482%5Cnsamples%20%3D%2037%5Cnvalue%20%3D%20%5B22%2C%2015%5D%22%5D%20%3B%0D%0A235%20-%3E%20239%20%3B%0D%0A240%20%5Blabel%3D%22gini%20%3D%200.5%5Cnsamples%20%3D%2030%5Cnvalue%20%3D%20%5B15%2C%2015%5D%22%5D%20%3B%0D%0A239%20-%3E%20240%20%3B%0D%0A241%20%5Blabel%3D%22gini%20%3D%200.0%5Cnsamples%20%3D%207%5Cnvalue%20%3D%20%5B7%2C%200%5D%22%5D%20%3B%0D%0A239%20-%3E%20241%20%3B%0D%0A242%20%5Blabel%3D%22X%5B3%5D%20%3C%3D%20865.5%5Cngini%20%3D%200.233%5Cnsamples%20%3D%201325%5Cnvalue%20%3D%20%5B178%2C%201147%5D%22%5D%20%3B%0D%0A182%20-%3E%20242%20%3B%0D%0A243%20%5Blabel%3D%22X%5B31%5D%20%3C%3D%200.5%5Cngini%20%3D%200.288%5Cnsamples%20%3D%20595%5Cnvalue%20%3D%20%5B104%2C%20491%5D%22%5D%20%3B%0D%0A242%20-%3E%20243%20%3B%0D%0A244%20%5Blabel%3D%22X%5B24%5D%20%3C%3D%200.5%5Cngini%20%3D%200.305%5Cnsamples%20%3D%20553%5Cnvalue%20%3D%20%5B104%2C%20449%5D%22%5D%20%3B%0D%0A243%20-%3E%20244%20%3B%0D%0A245%20%5Blabel%3D%22X%5B22%5D%20%3C%3D%200.5%5Cngini%20%3D%200.238%5Cnsamples%20%3D%20253%5Cnvalue%20%3D%20%5B35%2C%20218%5D%22%5D%20%3B%0D%0A244%20-%3E%20245%20%3B%0D%0A246%20%5Blabel%3D%22X%5B33%5D%20%3C%3D%200.5%5Cngini%20%3D%200.222%5Cnsamples%20%3D%20244%5Cnvalue%20%3D%20%5B31%2C%20213%5D%22%5D%20%3B%0D%0A245%20-%3E%20246%20%3B%0D%0A247%20%5Blabel%3D%22gini%20%3D%200.198%5Cnsamples%20%3D%20225%5Cnvalue%20%3D%20%5B25%2C%20200%5D%22%5D%20%3B%0D%0A246%20-%3E%20247%20%3B%0D%0A248%20%5Blabel%3D%22gini%20%3D%200.432%5Cnsamples%20%3D%2019%5Cnvalue%20%3D%20%5B6%2C%2013%5D%22%5D%20%3B%0D%0A246%20-%3E%20248%20%3B%0D%0A249%20%5Blabel%3D%22X%5B3%5D%20%3C%3D%20739.5%5Cngini%20%3D%200.494%5Cnsamples%20%3D%209%5Cnvalue%20%3D%20%5B4%2C%205%5D%22%5D%20%3B%0D%0A245%20-%3E%20249%20%3B%0D%0A250%20%5Blabel%3D%22gini%20%3D%200.278%5Cnsamples%20%3D%206%5Cnvalue%20%3D%20%5B1%2C%205%5D%22%5D%20%3B%0D%0A249%20-%3E%20250%20%3B%0D%0A251%20%5Blabel%3D%22gini%20%3D%200.0%5Cnsamples%20%3D%203%5Cnvalue%20%3D%20%5B3%2C%200%5D%22%5D%20%3B%0D%0A249%20-%3E%20251%20%3B%0D%0A252%20%5Blabel%3D%22X%5B6%5D%20%3C%3D%205.5%5Cngini%20%3D%200.354%5Cnsamples%20%3D%20300%5Cnvalue%20%3D%20%5B69%2C%20231%5D%22%5D%20%3B%0D%0A244%20-%3E%20252%20%3B%0D%0A253%20%5Blabel%3D%22X%5B3%5D%20%3C%3D%20861.5%5Cngini%20%3D%200.34%5Cnsamples%20%3D%20290%5Cnvalue%20%3D%20%5B63%2C%20227%5D%22%5D%20%3B%0D%0A252%20-%3E%20253%20%3B%0D%0A254%20%5Blabel%3D%22gini%20%3D%200.334%5Cnsamples%20%3D%20288%5Cnvalue%20%3D%20%5B61%2C%20227%5D%22%5D%20%3B%0D%0A253%20-%3E%20254%20%3B%0D%0A255%20%5Blabel%3D%22gini%20%3D%200.0%5Cnsamples%20%3D%202%5Cnvalue%20%3D%20%5B2%2C%200%5D%22%5D%20%3B%0D%0A253%20-%3E%20255%20%3B%0D%0A256%20%5Blabel%3D%22X%5B6%5D%20%3C%3D%209.5%5Cngini%20%3D%200.48%5Cnsamples%20%3D%2010%5Cnvalue%20%3D%20%5B6%2C%204%5D%22%5D%20%3B%0D%0A252%20-%3E%20256%20%3B%0D%0A257%20%5Blabel%3D%22gini%20%3D%200.0%5Cnsamples%20%3D%206%5Cnvalue%20%3D%20%5B6%2C%200%5D%22%5D%20%3B%0D%0A256%20-%3E%20257%20%3B%0D%0A258%20%5Blabel%3D%22gini%20%3D%200.0%5Cnsamples%20%3D%204%5Cnvalue%20%3D%20%5B0%2C%204%5D%22%5D%20%3B%0D%0A256%20-%3E%20258%20%3B%0D%0A259%20%5Blabel%3D%22gini%20%3D%200.0%5Cnsamples%20%3D%2042%5Cnvalue%20%3D%20%5B0%2C%2042%5D%22%5D%20%3B%0D%0A243%20-%3E%20259%20%3B%0D%0A260%20%5Blabel%3D%22X%5B3%5D%20%3C%3D%203268.5%5Cngini%20%3D%200.182%5Cnsamples%20%3D%20730%5Cnvalue%20%3D%20%5B74%2C%20656%5D%22%5D%20%3B%0D%0A242%20-%3E%20260%20%3B%0D%0A261%20%5Blabel%3D%22X%5B3%5D%20%3C%3D%201231.5%5Cngini%20%3D%200.18%5Cnsamples%20%3D%20729%5Cnvalue%20%3D%20%5B73%2C%20656%5D%22%5D%20%3B%0D%0A260%20-%3E%20261%20%3B%0D%0A262%20%5Blabel%3D%22X%5B3%5D%20%3C%3D%201150.5%5Cngini%20%3D%200.211%5Cnsamples%20%3D%20501%5Cnvalue%20%3D%20%5B60%2C%20441%5D%22%5D%20%3B%0D%0A261%20-%3E%20262%20%3B%0D%0A263%20%5Blabel%3D%22X%5B6%5D%20%3C%3D%206.5%5Cngini%20%3D%200.189%5Cnsamples%20%3D%20427%5Cnvalue%20%3D%20%5B45%2C%20382%5D%22%5D%20%3B%0D%0A262%20-%3E%20263%20%3B%0D%0A264%20%5Blabel%3D%22gini%20%3D%200.178%5Cnsamples%20%3D%20416%5Cnvalue%20%3D%20%5B41%2C%20375%5D%22%5D%20%3B%0D%0A263%20-%3E%20264%20%3B%0D%0A265%20%5Blabel%3D%22gini%20%3D%200.463%5Cnsamples%20%3D%2011%5Cnvalue%20%3D%20%5B4%2C%207%5D%22%5D%20%3B%0D%0A263%20-%3E%20265%20%3B%0D%0A266%20%5Blabel%3D%22X%5B0%5D%20%3C%3D%2063.5%5Cngini%20%3D%200.323%5Cnsamples%20%3D%2074%5Cnvalue%20%3D%20%5B15%2C%2059%5D%22%5D%20%3B%0D%0A262%20-%3E%20266%20%3B%0D%0A267%20%5Blabel%3D%22gini%20%3D%200.281%5Cnsamples%20%3D%2071%5Cnvalue%20%3D%20%5B12%2C%2059%5D%22%5D%20%3B%0D%0A266%20-%3E%20267%20%3B%0D%0A268%20%5Blabel%3D%22gini%20%3D%200.0%5Cnsamples%20%3D%203%5Cnvalue%20%3D%20%5B3%2C%200%5D%22%5D%20%3B%0D%0A266%20-%3E%20268%20%3B%0D%0A269%20%5Blabel%3D%22X%5B5%5D%20%3C%3D%20382.5%5Cngini%20%3D%200.108%5Cnsamples%20%3D%20228%5Cnvalue%20%3D%20%5B13%2C%20215%5D%22%5D%20%3B%0D%0A261%20-%3E%20269%20%3B%0D%0A270%20%5Blabel%3D%22X%5B26%5D%20%3C%3D%200.5%5Cngini%20%3D%200.101%5Cnsamples%20%3D%20226%5Cnvalue%20%3D%20%5B12%2C%20214%5D%22%5D%20%3B%0D%0A269%20-%3E%20270%20%3B%0D%0A271%20%5Blabel%3D%22gini%20%3D%200.176%5Cnsamples%20%3D%2082%5Cnvalue%20%3D%20%5B8%2C%2074%5D%22%5D%20%3B%0D%0A270%20-%3E%20271%20%3B%0D%0A272%20%5Blabel%3D%22gini%20%3D%200.054%5Cnsamples%20%3D%20144%5Cnvalue%20%3D%20%5B4%2C%20140%5D%22%5D%20%3B%0D%0A270%20-%3E%20272%20%3B%0D%0A273%20%5Blabel%3D%22X%5B1%5D%20%3C%3D%202040.0%5Cngini%20%3D%200.5%5Cnsamples%20%3D%202%5Cnvalue%20%3D%20%5B1%2C%201%5D%22%5D%20%3B%0D%0A269%20-%3E%20273%20%3B%0D%0A274%20%5Blabel%3D%22gini%20%3D%200.0%5Cnsamples%20%3D%201%5Cnvalue%20%3D%20%5B0%2C%201%5D%22%5D%20%3B%0D%0A273%20-%3E%20274%20%3B%0D%0A275%20%5Blabel%3D%22gini%20%3D%200.0%5Cnsamples%20%3D%201%5Cnvalue%20%3D%20%5B1%2C%200%5D%22%5D%20%3B%0D%0A273%20-%3E%20275%20%3B%0D%0A276%20%5Blabel%3D%22gini%20%3D%200.0%5Cnsamples%20%3D%201%5Cnvalue%20%3D%20%5B1%2C%200%5D%22%5D%20%3B%0D%0A260%20-%3E%20276%20%3B%0D%0A%7D"
   ]
  },
  {
   "cell_type": "code",
   "execution_count": 45,
   "metadata": {
    "execution": {
     "iopub.execute_input": "2020-10-19T09:42:35.134156Z",
     "iopub.status.busy": "2020-10-19T09:42:35.133233Z",
     "iopub.status.idle": "2020-10-19T09:46:05.111135Z",
     "shell.execute_reply": "2020-10-19T09:46:05.112151Z"
    },
    "papermill": {
     "duration": 210.085185,
     "end_time": "2020-10-19T09:46:05.112452",
     "exception": false,
     "start_time": "2020-10-19T09:42:35.027267",
     "status": "completed"
    },
    "tags": []
   },
   "outputs": [
    {
     "name": "stdout",
     "output_type": "stream",
     "text": [
      "0.8506348391050075\n",
      "{'max_depth': 12, 'n_estimators': 195}\n"
     ]
    }
   ],
   "source": [
    "from sklearn.ensemble import RandomForestClassifier\n",
    "tree_params = {'n_estimators': np.arange(165, 196, 10), 'max_depth': np.arange(6, 13)}\n",
    "tree = RandomForestClassifier(random_state=22)\n",
    "tree_grid = GridSearchCV(tree, tree_params, cv=5, scoring='accuracy')\n",
    "tree_grid.fit(X_train, y_train)\n",
    "\n",
    "print(tree_grid.best_score_)\n",
    "print(tree_grid.best_params_)\n",
    "#print(tree_grid.best_estimator_)"
   ]
  },
  {
   "cell_type": "code",
   "execution_count": 46,
   "metadata": {
    "execution": {
     "iopub.execute_input": "2020-10-19T09:46:05.328683Z",
     "iopub.status.busy": "2020-10-19T09:46:05.327329Z",
     "iopub.status.idle": "2020-10-19T09:46:05.636448Z",
     "shell.execute_reply": "2020-10-19T09:46:05.635675Z"
    },
    "papermill": {
     "duration": 0.424372,
     "end_time": "2020-10-19T09:46:05.636598",
     "exception": false,
     "start_time": "2020-10-19T09:46:05.212226",
     "status": "completed"
    },
    "tags": []
   },
   "outputs": [
    {
     "name": "stdout",
     "output_type": "stream",
     "text": [
      "Feature ranking:\n",
      "1 duration 0.38250360861812094\n",
      "2 poutcome_success 0.05281087738405824\n",
      "3 balance 0.052262025893729164\n",
      "4 age 0.050496053685824396\n",
      "5 contact_unknown 0.04296544300677805\n",
      "6 day 0.04030255756108947\n",
      "7 pdays 0.0399759122600936\n",
      "8 previous 0.027349285762291956\n",
      "9 campaign 0.024074259718408892\n",
      "10 housing_yes 0.022608225561915836\n"
     ]
    },
    {
     "data": {
      "image/png": "[encoded data removed]",
      "text/plain": [
       "<Figure size 1080x360 with 1 Axes>"
      ]
     },
     "metadata": {
      "needs_background": "light"
     },
     "output_type": "display_data"
    }
   ],
   "source": [
    "\n",
    "features = dict(zip(range(len(X.columns)), X.columns))\n",
    "\n",
    "# Важность признаков\n",
    "importances = tree_grid.best_estimator_.feature_importances_\n",
    "\n",
    "indices = np.argsort(importances)[::-1]\n",
    "# Plot the feature importancies of the forest\n",
    "num_to_plot = min(10, len(X.columns))\n",
    "feature_indices = [ind for ind in indices[:num_to_plot]]\n",
    "\n",
    "# Print the feature ranking\n",
    "print(\"Feature ranking:\")\n",
    "\n",
    "for f in range(num_to_plot):\n",
    "    print(f+1, features[feature_indices[f]], importances[indices[f]])\n",
    "\n",
    "plt.figure(figsize=(15,5))\n",
    "plt.title(\"Feature importances\")\n",
    "bars = plt.bar(range(num_to_plot), \n",
    "               importances[indices[:num_to_plot]],\n",
    "               color=([str(i/float(num_to_plot+1)) for i in range(num_to_plot)]),\n",
    "               align=\"center\")\n",
    "ticks = plt.xticks(range(num_to_plot), \n",
    "                   feature_indices)\n",
    "plt.xlim([-1, num_to_plot])\n",
    "plt.legend(bars, [u''.join(features[i]) for i in feature_indices])\n",
    "plt.show()\n"
   ]
  },
  {
   "cell_type": "markdown",
   "metadata": {
    "papermill": {
     "duration": 0.098355,
     "end_time": "2020-10-19T09:46:05.833889",
     "exception": false,
     "start_time": "2020-10-19T09:46:05.735534",
     "status": "completed"
    },
    "tags": []
   },
   "source": [
    "Самым влиятельным из параметров оказался max_depth."
   ]
  },
  {
   "cell_type": "markdown",
   "metadata": {
    "papermill": {
     "duration": 0.0997,
     "end_time": "2020-10-19T09:46:06.032234",
     "exception": false,
     "start_time": "2020-10-19T09:46:05.932534",
     "status": "completed"
    },
    "tags": []
   },
   "source": [
    "**3 Случайный лес**"
   ]
  },
  {
   "cell_type": "markdown",
   "metadata": {
    "papermill": {
     "duration": 0.099088,
     "end_time": "2020-10-19T09:46:06.232172",
     "exception": false,
     "start_time": "2020-10-19T09:46:06.133084",
     "status": "completed"
    },
    "tags": []
   },
   "source": [
    "1 . Постройте  модель случайного леса ( Random Forest ) для вашей задачи с гиперпараметрами по умолчанию и оцените качество модели на отложенной выборке ."
   ]
  },
  {
   "cell_type": "code",
   "execution_count": 47,
   "metadata": {
    "execution": {
     "iopub.execute_input": "2020-10-19T09:46:06.442316Z",
     "iopub.status.busy": "2020-10-19T09:46:06.441407Z",
     "iopub.status.idle": "2020-10-19T09:46:07.955957Z",
     "shell.execute_reply": "2020-10-19T09:46:07.955180Z"
    },
    "papermill": {
     "duration": 1.625191,
     "end_time": "2020-10-19T09:46:07.956121",
     "exception": false,
     "start_time": "2020-10-19T09:46:06.330930",
     "status": "completed"
    },
    "tags": []
   },
   "outputs": [
    {
     "data": {
      "text/plain": [
       "0.846521349656614"
      ]
     },
     "execution_count": 47,
     "metadata": {},
     "output_type": "execute_result"
    }
   ],
   "source": [
    "rf = RandomForestClassifier(n_estimators=100, random_state=2020)\n",
    "rf.fit(X_train, y_train)\n",
    "y_pred = rf.predict(X_valid)\n",
    "\n",
    "accuracy_score(y_valid, y_pred)"
   ]
  },
  {
   "cell_type": "markdown",
   "metadata": {
    "papermill": {
     "duration": 0.099741,
     "end_time": "2020-10-19T09:46:08.157248",
     "exception": false,
     "start_time": "2020-10-19T09:46:08.057507",
     "status": "completed"
    },
    "tags": []
   },
   "source": [
    "Доля правильных ответов получилась 0.8465. Теперь попробуем с максимальной глубиной, равной оптимальной глубине (max_depth) из прошлого задания"
   ]
  },
  {
   "cell_type": "code",
   "execution_count": 48,
   "metadata": {
    "execution": {
     "iopub.execute_input": "2020-10-19T09:46:08.367575Z",
     "iopub.status.busy": "2020-10-19T09:46:08.366688Z",
     "iopub.status.idle": "2020-10-19T09:46:08.996800Z",
     "shell.execute_reply": "2020-10-19T09:46:08.996160Z"
    },
    "papermill": {
     "duration": 0.74001,
     "end_time": "2020-10-19T09:46:08.996940",
     "exception": false,
     "start_time": "2020-10-19T09:46:08.256930",
     "status": "completed"
    },
    "tags": []
   },
   "outputs": [
    {
     "data": {
      "text/plain": [
       "0.7921767691848313"
      ]
     },
     "execution_count": 48,
     "metadata": {},
     "output_type": "execute_result"
    }
   ],
   "source": [
    "rf = RandomForestClassifier(n_estimators=100, random_state=2020, max_depth=4)\n",
    "rf.fit(X_train, y_train)\n",
    "y_pred = rf.predict(X_valid)\n",
    "\n",
    "accuracy_score(y_valid, y_pred)"
   ]
  },
  {
   "cell_type": "markdown",
   "metadata": {
    "papermill": {
     "duration": 0.100122,
     "end_time": "2020-10-19T09:46:09.198173",
     "exception": false,
     "start_time": "2020-10-19T09:46:09.098051",
     "status": "completed"
    },
    "tags": []
   },
   "source": [
    "Тут доля правильных ответов получилась 0,7921, что еще меньше полученных ранее с Деревом Решений и меньше чем с параметром по умолчанию"
   ]
  },
  {
   "cell_type": "markdown",
   "metadata": {
    "papermill": {
     "duration": 0.099801,
     "end_time": "2020-10-19T09:46:09.397914",
     "exception": false,
     "start_time": "2020-10-19T09:46:09.298113",
     "status": "completed"
    },
    "tags": []
   },
   "source": [
    "2 . Осуществите подбор гиперпараметров модели :\n",
    "• количество деревьев n_estimators ;\n",
    "• максимальная глубина дерева max_depth ;\n",
    "• минимальное числообъектов для разбиения во внутренней вершине min_samples_split;\n",
    "• минимальное число объектов в листе min_samples_leaf;\n",
    "• максимальное количество признако, рассматриваемых при поиске лучшего разбиения max_features \n",
    "3  Постройте валидационные кривые для каждого из гиперпараметров ."
   ]
  },
  {
   "cell_type": "code",
   "execution_count": 49,
   "metadata": {
    "execution": {
     "iopub.execute_input": "2020-10-19T09:46:09.610621Z",
     "iopub.status.busy": "2020-10-19T09:46:09.609611Z",
     "iopub.status.idle": "2020-10-19T09:46:42.277335Z",
     "shell.execute_reply": "2020-10-19T09:46:42.278018Z"
    },
    "papermill": {
     "duration": 32.779336,
     "end_time": "2020-10-19T09:46:42.278235",
     "exception": false,
     "start_time": "2020-10-19T09:46:09.498899",
     "status": "completed"
    },
    "tags": []
   },
   "outputs": [
    {
     "data": {
      "text/plain": [
       "GridSearchCV(cv=5, estimator=RandomForestClassifier(random_state=2020),\n",
       "             param_grid={'n_estimators': array([ 5, 15, 25, 35, 45, 55, 65, 75, 85, 95])},\n",
       "             scoring='accuracy')"
      ]
     },
     "execution_count": 49,
     "metadata": {},
     "output_type": "execute_result"
    }
   ],
   "source": [
    "rf_params_n_estimators = {'n_estimators': np.arange(5, 100, 10)}\n",
    "rf_n_estimators = RandomForestClassifier(random_state=2020)\n",
    "rf_grid_n_estimators = GridSearchCV(rf_n_estimators, rf_params_n_estimators, cv=5, scoring='accuracy') \n",
    "rf_grid_n_estimators.fit(X_train, y_train)"
   ]
  },
  {
   "cell_type": "code",
   "execution_count": 50,
   "metadata": {
    "execution": {
     "iopub.execute_input": "2020-10-19T09:46:42.488169Z",
     "iopub.status.busy": "2020-10-19T09:46:42.487063Z",
     "iopub.status.idle": "2020-10-19T09:46:42.490794Z",
     "shell.execute_reply": "2020-10-19T09:46:42.491435Z"
    },
    "papermill": {
     "duration": 0.112348,
     "end_time": "2020-10-19T09:46:42.491623",
     "exception": false,
     "start_time": "2020-10-19T09:46:42.379275",
     "status": "completed"
    },
    "tags": []
   },
   "outputs": [
    {
     "name": "stdout",
     "output_type": "stream",
     "text": [
      "0.8551141432436882\n",
      "{'n_estimators': 95}\n",
      "RandomForestClassifier(n_estimators=95, random_state=2020)\n"
     ]
    }
   ],
   "source": [
    "print(rf_grid_n_estimators.best_score_)\n",
    "print(rf_grid_n_estimators.best_params_)\n",
    "print(rf_grid_n_estimators.best_estimator_)"
   ]
  },
  {
   "cell_type": "code",
   "execution_count": 51,
   "metadata": {
    "execution": {
     "iopub.execute_input": "2020-10-19T09:46:42.709870Z",
     "iopub.status.busy": "2020-10-19T09:46:42.708639Z",
     "iopub.status.idle": "2020-10-19T09:46:42.860296Z",
     "shell.execute_reply": "2020-10-19T09:46:42.859672Z"
    },
    "papermill": {
     "duration": 0.267275,
     "end_time": "2020-10-19T09:46:42.860443",
     "exception": false,
     "start_time": "2020-10-19T09:46:42.593168",
     "status": "completed"
    },
    "tags": []
   },
   "outputs": [
    {
     "data": {
      "text/plain": [
       "Text(0, 0.5, 'Mean accuracy on test set')"
      ]
     },
     "execution_count": 51,
     "metadata": {},
     "output_type": "execute_result"
    },
    {
     "data": {
      "image/png": "[encoded data removed]",
      "text/plain": [
       "<Figure size 432x288 with 1 Axes>"
      ]
     },
     "metadata": {
      "needs_background": "light"
     },
     "output_type": "display_data"
    }
   ],
   "source": [
    "import matplotlib.pyplot as plt\n",
    "\n",
    "fig, ax = plt.subplots()\n",
    "\n",
    "ax.plot(rf_params_n_estimators['n_estimators'], rf_grid_n_estimators.cv_results_['mean_test_score']) # accuracy vs max_depth\n",
    "ax.set_xlabel('n_estimators')\n",
    "ax.set_ylabel('Mean accuracy on test set')"
   ]
  },
  {
   "cell_type": "markdown",
   "metadata": {
    "papermill": {
     "duration": 0.103528,
     "end_time": "2020-10-19T09:46:43.066314",
     "exception": false,
     "start_time": "2020-10-19T09:46:42.962786",
     "status": "completed"
    },
    "tags": []
   },
   "source": [
    "Лучший n_estimators получили 95"
   ]
  },
  {
   "cell_type": "code",
   "execution_count": 52,
   "metadata": {
    "execution": {
     "iopub.execute_input": "2020-10-19T09:46:43.284309Z",
     "iopub.status.busy": "2020-10-19T09:46:43.282943Z",
     "iopub.status.idle": "2020-10-19T09:47:50.486582Z",
     "shell.execute_reply": "2020-10-19T09:47:50.487219Z"
    },
    "papermill": {
     "duration": 67.316022,
     "end_time": "2020-10-19T09:47:50.487446",
     "exception": false,
     "start_time": "2020-10-19T09:46:43.171424",
     "status": "completed"
    },
    "tags": []
   },
   "outputs": [
    {
     "name": "stderr",
     "output_type": "stream",
     "text": [
      "/opt/conda/lib/python3.7/site-packages/sklearn/model_selection/_validation.py:552: FitFailedWarning: Estimator fit failed. The score on this train-test partition for these parameters will be set to nan. Details: \n",
      "Traceback (most recent call last):\n",
      "  File \"/opt/conda/lib/python3.7/site-packages/sklearn/model_selection/_validation.py\", line 531, in _fit_and_score\n",
      "    estimator.fit(X_train, y_train, **fit_params)\n",
      "  File \"/opt/conda/lib/python3.7/site-packages/sklearn/ensemble/_forest.py\", line 392, in fit\n",
      "    for i, t in enumerate(trees))\n",
      "  File \"/opt/conda/lib/python3.7/site-packages/joblib/parallel.py\", line 1004, in __call__\n",
      "    if self.dispatch_one_batch(iterator):\n",
      "  File \"/opt/conda/lib/python3.7/site-packages/joblib/parallel.py\", line 835, in dispatch_one_batch\n",
      "    self._dispatch(tasks)\n",
      "  File \"/opt/conda/lib/python3.7/site-packages/joblib/parallel.py\", line 754, in _dispatch\n",
      "    job = self._backend.apply_async(batch, callback=cb)\n",
      "  File \"/opt/conda/lib/python3.7/site-packages/joblib/_parallel_backends.py\", line 209, in apply_async\n",
      "    result = ImmediateResult(func)\n",
      "  File \"/opt/conda/lib/python3.7/site-packages/joblib/_parallel_backends.py\", line 590, in __init__\n",
      "    self.results = batch()\n",
      "  File \"/opt/conda/lib/python3.7/site-packages/joblib/parallel.py\", line 256, in __call__\n",
      "    for func, args, kwargs in self.items]\n",
      "  File \"/opt/conda/lib/python3.7/site-packages/joblib/parallel.py\", line 256, in <listcomp>\n",
      "    for func, args, kwargs in self.items]\n",
      "  File \"/opt/conda/lib/python3.7/site-packages/sklearn/ensemble/_forest.py\", line 168, in _parallel_build_trees\n",
      "    tree.fit(X, y, sample_weight=curr_sample_weight, check_input=False)\n",
      "  File \"/opt/conda/lib/python3.7/site-packages/sklearn/tree/_classes.py\", line 894, in fit\n",
      "    X_idx_sorted=X_idx_sorted)\n",
      "  File \"/opt/conda/lib/python3.7/site-packages/sklearn/tree/_classes.py\", line 279, in fit\n",
      "    raise ValueError(\"max_features must be in (0, n_features]\")\n",
      "ValueError: max_features must be in (0, n_features]\n",
      "\n",
      "  FitFailedWarning)\n",
      "/opt/conda/lib/python3.7/site-packages/sklearn/model_selection/_validation.py:552: FitFailedWarning: Estimator fit failed. The score on this train-test partition for these parameters will be set to nan. Details: \n",
      "Traceback (most recent call last):\n",
      "  File \"/opt/conda/lib/python3.7/site-packages/sklearn/model_selection/_validation.py\", line 531, in _fit_and_score\n",
      "    estimator.fit(X_train, y_train, **fit_params)\n",
      "  File \"/opt/conda/lib/python3.7/site-packages/sklearn/ensemble/_forest.py\", line 392, in fit\n",
      "    for i, t in enumerate(trees))\n",
      "  File \"/opt/conda/lib/python3.7/site-packages/joblib/parallel.py\", line 1004, in __call__\n",
      "    if self.dispatch_one_batch(iterator):\n",
      "  File \"/opt/conda/lib/python3.7/site-packages/joblib/parallel.py\", line 835, in dispatch_one_batch\n",
      "    self._dispatch(tasks)\n",
      "  File \"/opt/conda/lib/python3.7/site-packages/joblib/parallel.py\", line 754, in _dispatch\n",
      "    job = self._backend.apply_async(batch, callback=cb)\n",
      "  File \"/opt/conda/lib/python3.7/site-packages/joblib/_parallel_backends.py\", line 209, in apply_async\n",
      "    result = ImmediateResult(func)\n",
      "  File \"/opt/conda/lib/python3.7/site-packages/joblib/_parallel_backends.py\", line 590, in __init__\n",
      "    self.results = batch()\n",
      "  File \"/opt/conda/lib/python3.7/site-packages/joblib/parallel.py\", line 256, in __call__\n",
      "    for func, args, kwargs in self.items]\n",
      "  File \"/opt/conda/lib/python3.7/site-packages/joblib/parallel.py\", line 256, in <listcomp>\n",
      "    for func, args, kwargs in self.items]\n",
      "  File \"/opt/conda/lib/python3.7/site-packages/sklearn/ensemble/_forest.py\", line 168, in _parallel_build_trees\n",
      "    tree.fit(X, y, sample_weight=curr_sample_weight, check_input=False)\n",
      "  File \"/opt/conda/lib/python3.7/site-packages/sklearn/tree/_classes.py\", line 894, in fit\n",
      "    X_idx_sorted=X_idx_sorted)\n",
      "  File \"/opt/conda/lib/python3.7/site-packages/sklearn/tree/_classes.py\", line 279, in fit\n",
      "    raise ValueError(\"max_features must be in (0, n_features]\")\n",
      "ValueError: max_features must be in (0, n_features]\n",
      "\n",
      "  FitFailedWarning)\n",
      "/opt/conda/lib/python3.7/site-packages/sklearn/model_selection/_validation.py:552: FitFailedWarning: Estimator fit failed. The score on this train-test partition for these parameters will be set to nan. Details: \n",
      "Traceback (most recent call last):\n",
      "  File \"/opt/conda/lib/python3.7/site-packages/sklearn/model_selection/_validation.py\", line 531, in _fit_and_score\n",
      "    estimator.fit(X_train, y_train, **fit_params)\n",
      "  File \"/opt/conda/lib/python3.7/site-packages/sklearn/ensemble/_forest.py\", line 392, in fit\n",
      "    for i, t in enumerate(trees))\n",
      "  File \"/opt/conda/lib/python3.7/site-packages/joblib/parallel.py\", line 1004, in __call__\n",
      "    if self.dispatch_one_batch(iterator):\n",
      "  File \"/opt/conda/lib/python3.7/site-packages/joblib/parallel.py\", line 835, in dispatch_one_batch\n",
      "    self._dispatch(tasks)\n",
      "  File \"/opt/conda/lib/python3.7/site-packages/joblib/parallel.py\", line 754, in _dispatch\n",
      "    job = self._backend.apply_async(batch, callback=cb)\n",
      "  File \"/opt/conda/lib/python3.7/site-packages/joblib/_parallel_backends.py\", line 209, in apply_async\n",
      "    result = ImmediateResult(func)\n",
      "  File \"/opt/conda/lib/python3.7/site-packages/joblib/_parallel_backends.py\", line 590, in __init__\n",
      "    self.results = batch()\n",
      "  File \"/opt/conda/lib/python3.7/site-packages/joblib/parallel.py\", line 256, in __call__\n",
      "    for func, args, kwargs in self.items]\n",
      "  File \"/opt/conda/lib/python3.7/site-packages/joblib/parallel.py\", line 256, in <listcomp>\n",
      "    for func, args, kwargs in self.items]\n",
      "  File \"/opt/conda/lib/python3.7/site-packages/sklearn/ensemble/_forest.py\", line 168, in _parallel_build_trees\n",
      "    tree.fit(X, y, sample_weight=curr_sample_weight, check_input=False)\n",
      "  File \"/opt/conda/lib/python3.7/site-packages/sklearn/tree/_classes.py\", line 894, in fit\n",
      "    X_idx_sorted=X_idx_sorted)\n",
      "  File \"/opt/conda/lib/python3.7/site-packages/sklearn/tree/_classes.py\", line 279, in fit\n",
      "    raise ValueError(\"max_features must be in (0, n_features]\")\n",
      "ValueError: max_features must be in (0, n_features]\n",
      "\n",
      "  FitFailedWarning)\n",
      "/opt/conda/lib/python3.7/site-packages/sklearn/model_selection/_validation.py:552: FitFailedWarning: Estimator fit failed. The score on this train-test partition for these parameters will be set to nan. Details: \n",
      "Traceback (most recent call last):\n",
      "  File \"/opt/conda/lib/python3.7/site-packages/sklearn/model_selection/_validation.py\", line 531, in _fit_and_score\n",
      "    estimator.fit(X_train, y_train, **fit_params)\n",
      "  File \"/opt/conda/lib/python3.7/site-packages/sklearn/ensemble/_forest.py\", line 392, in fit\n",
      "    for i, t in enumerate(trees))\n",
      "  File \"/opt/conda/lib/python3.7/site-packages/joblib/parallel.py\", line 1004, in __call__\n",
      "    if self.dispatch_one_batch(iterator):\n",
      "  File \"/opt/conda/lib/python3.7/site-packages/joblib/parallel.py\", line 835, in dispatch_one_batch\n",
      "    self._dispatch(tasks)\n",
      "  File \"/opt/conda/lib/python3.7/site-packages/joblib/parallel.py\", line 754, in _dispatch\n",
      "    job = self._backend.apply_async(batch, callback=cb)\n",
      "  File \"/opt/conda/lib/python3.7/site-packages/joblib/_parallel_backends.py\", line 209, in apply_async\n",
      "    result = ImmediateResult(func)\n",
      "  File \"/opt/conda/lib/python3.7/site-packages/joblib/_parallel_backends.py\", line 590, in __init__\n",
      "    self.results = batch()\n",
      "  File \"/opt/conda/lib/python3.7/site-packages/joblib/parallel.py\", line 256, in __call__\n",
      "    for func, args, kwargs in self.items]\n",
      "  File \"/opt/conda/lib/python3.7/site-packages/joblib/parallel.py\", line 256, in <listcomp>\n",
      "    for func, args, kwargs in self.items]\n",
      "  File \"/opt/conda/lib/python3.7/site-packages/sklearn/ensemble/_forest.py\", line 168, in _parallel_build_trees\n",
      "    tree.fit(X, y, sample_weight=curr_sample_weight, check_input=False)\n",
      "  File \"/opt/conda/lib/python3.7/site-packages/sklearn/tree/_classes.py\", line 894, in fit\n",
      "    X_idx_sorted=X_idx_sorted)\n",
      "  File \"/opt/conda/lib/python3.7/site-packages/sklearn/tree/_classes.py\", line 279, in fit\n",
      "    raise ValueError(\"max_features must be in (0, n_features]\")\n",
      "ValueError: max_features must be in (0, n_features]\n",
      "\n",
      "  FitFailedWarning)\n",
      "/opt/conda/lib/python3.7/site-packages/sklearn/model_selection/_validation.py:552: FitFailedWarning: Estimator fit failed. The score on this train-test partition for these parameters will be set to nan. Details: \n",
      "Traceback (most recent call last):\n",
      "  File \"/opt/conda/lib/python3.7/site-packages/sklearn/model_selection/_validation.py\", line 531, in _fit_and_score\n",
      "    estimator.fit(X_train, y_train, **fit_params)\n",
      "  File \"/opt/conda/lib/python3.7/site-packages/sklearn/ensemble/_forest.py\", line 392, in fit\n",
      "    for i, t in enumerate(trees))\n",
      "  File \"/opt/conda/lib/python3.7/site-packages/joblib/parallel.py\", line 1004, in __call__\n",
      "    if self.dispatch_one_batch(iterator):\n",
      "  File \"/opt/conda/lib/python3.7/site-packages/joblib/parallel.py\", line 835, in dispatch_one_batch\n",
      "    self._dispatch(tasks)\n",
      "  File \"/opt/conda/lib/python3.7/site-packages/joblib/parallel.py\", line 754, in _dispatch\n",
      "    job = self._backend.apply_async(batch, callback=cb)\n",
      "  File \"/opt/conda/lib/python3.7/site-packages/joblib/_parallel_backends.py\", line 209, in apply_async\n",
      "    result = ImmediateResult(func)\n",
      "  File \"/opt/conda/lib/python3.7/site-packages/joblib/_parallel_backends.py\", line 590, in __init__\n",
      "    self.results = batch()\n",
      "  File \"/opt/conda/lib/python3.7/site-packages/joblib/parallel.py\", line 256, in __call__\n",
      "    for func, args, kwargs in self.items]\n",
      "  File \"/opt/conda/lib/python3.7/site-packages/joblib/parallel.py\", line 256, in <listcomp>\n",
      "    for func, args, kwargs in self.items]\n",
      "  File \"/opt/conda/lib/python3.7/site-packages/sklearn/ensemble/_forest.py\", line 168, in _parallel_build_trees\n",
      "    tree.fit(X, y, sample_weight=curr_sample_weight, check_input=False)\n",
      "  File \"/opt/conda/lib/python3.7/site-packages/sklearn/tree/_classes.py\", line 894, in fit\n",
      "    X_idx_sorted=X_idx_sorted)\n",
      "  File \"/opt/conda/lib/python3.7/site-packages/sklearn/tree/_classes.py\", line 279, in fit\n",
      "    raise ValueError(\"max_features must be in (0, n_features]\")\n",
      "ValueError: max_features must be in (0, n_features]\n",
      "\n",
      "  FitFailedWarning)\n",
      "/opt/conda/lib/python3.7/site-packages/sklearn/model_selection/_validation.py:552: FitFailedWarning: Estimator fit failed. The score on this train-test partition for these parameters will be set to nan. Details: \n",
      "Traceback (most recent call last):\n",
      "  File \"/opt/conda/lib/python3.7/site-packages/sklearn/model_selection/_validation.py\", line 531, in _fit_and_score\n",
      "    estimator.fit(X_train, y_train, **fit_params)\n",
      "  File \"/opt/conda/lib/python3.7/site-packages/sklearn/ensemble/_forest.py\", line 392, in fit\n",
      "    for i, t in enumerate(trees))\n",
      "  File \"/opt/conda/lib/python3.7/site-packages/joblib/parallel.py\", line 1004, in __call__\n",
      "    if self.dispatch_one_batch(iterator):\n",
      "  File \"/opt/conda/lib/python3.7/site-packages/joblib/parallel.py\", line 835, in dispatch_one_batch\n",
      "    self._dispatch(tasks)\n",
      "  File \"/opt/conda/lib/python3.7/site-packages/joblib/parallel.py\", line 754, in _dispatch\n",
      "    job = self._backend.apply_async(batch, callback=cb)\n",
      "  File \"/opt/conda/lib/python3.7/site-packages/joblib/_parallel_backends.py\", line 209, in apply_async\n",
      "    result = ImmediateResult(func)\n",
      "  File \"/opt/conda/lib/python3.7/site-packages/joblib/_parallel_backends.py\", line 590, in __init__\n",
      "    self.results = batch()\n",
      "  File \"/opt/conda/lib/python3.7/site-packages/joblib/parallel.py\", line 256, in __call__\n",
      "    for func, args, kwargs in self.items]\n",
      "  File \"/opt/conda/lib/python3.7/site-packages/joblib/parallel.py\", line 256, in <listcomp>\n",
      "    for func, args, kwargs in self.items]\n",
      "  File \"/opt/conda/lib/python3.7/site-packages/sklearn/ensemble/_forest.py\", line 168, in _parallel_build_trees\n",
      "    tree.fit(X, y, sample_weight=curr_sample_weight, check_input=False)\n",
      "  File \"/opt/conda/lib/python3.7/site-packages/sklearn/tree/_classes.py\", line 894, in fit\n",
      "    X_idx_sorted=X_idx_sorted)\n",
      "  File \"/opt/conda/lib/python3.7/site-packages/sklearn/tree/_classes.py\", line 279, in fit\n",
      "    raise ValueError(\"max_features must be in (0, n_features]\")\n",
      "ValueError: max_features must be in (0, n_features]\n",
      "\n",
      "  FitFailedWarning)\n",
      "/opt/conda/lib/python3.7/site-packages/sklearn/model_selection/_validation.py:552: FitFailedWarning: Estimator fit failed. The score on this train-test partition for these parameters will be set to nan. Details: \n",
      "Traceback (most recent call last):\n",
      "  File \"/opt/conda/lib/python3.7/site-packages/sklearn/model_selection/_validation.py\", line 531, in _fit_and_score\n",
      "    estimator.fit(X_train, y_train, **fit_params)\n",
      "  File \"/opt/conda/lib/python3.7/site-packages/sklearn/ensemble/_forest.py\", line 392, in fit\n",
      "    for i, t in enumerate(trees))\n",
      "  File \"/opt/conda/lib/python3.7/site-packages/joblib/parallel.py\", line 1004, in __call__\n",
      "    if self.dispatch_one_batch(iterator):\n",
      "  File \"/opt/conda/lib/python3.7/site-packages/joblib/parallel.py\", line 835, in dispatch_one_batch\n",
      "    self._dispatch(tasks)\n",
      "  File \"/opt/conda/lib/python3.7/site-packages/joblib/parallel.py\", line 754, in _dispatch\n",
      "    job = self._backend.apply_async(batch, callback=cb)\n",
      "  File \"/opt/conda/lib/python3.7/site-packages/joblib/_parallel_backends.py\", line 209, in apply_async\n",
      "    result = ImmediateResult(func)\n",
      "  File \"/opt/conda/lib/python3.7/site-packages/joblib/_parallel_backends.py\", line 590, in __init__\n",
      "    self.results = batch()\n",
      "  File \"/opt/conda/lib/python3.7/site-packages/joblib/parallel.py\", line 256, in __call__\n",
      "    for func, args, kwargs in self.items]\n",
      "  File \"/opt/conda/lib/python3.7/site-packages/joblib/parallel.py\", line 256, in <listcomp>\n",
      "    for func, args, kwargs in self.items]\n",
      "  File \"/opt/conda/lib/python3.7/site-packages/sklearn/ensemble/_forest.py\", line 168, in _parallel_build_trees\n",
      "    tree.fit(X, y, sample_weight=curr_sample_weight, check_input=False)\n",
      "  File \"/opt/conda/lib/python3.7/site-packages/sklearn/tree/_classes.py\", line 894, in fit\n",
      "    X_idx_sorted=X_idx_sorted)\n",
      "  File \"/opt/conda/lib/python3.7/site-packages/sklearn/tree/_classes.py\", line 279, in fit\n",
      "    raise ValueError(\"max_features must be in (0, n_features]\")\n",
      "ValueError: max_features must be in (0, n_features]\n",
      "\n",
      "  FitFailedWarning)\n",
      "/opt/conda/lib/python3.7/site-packages/sklearn/model_selection/_validation.py:552: FitFailedWarning: Estimator fit failed. The score on this train-test partition for these parameters will be set to nan. Details: \n",
      "Traceback (most recent call last):\n",
      "  File \"/opt/conda/lib/python3.7/site-packages/sklearn/model_selection/_validation.py\", line 531, in _fit_and_score\n",
      "    estimator.fit(X_train, y_train, **fit_params)\n",
      "  File \"/opt/conda/lib/python3.7/site-packages/sklearn/ensemble/_forest.py\", line 392, in fit\n",
      "    for i, t in enumerate(trees))\n",
      "  File \"/opt/conda/lib/python3.7/site-packages/joblib/parallel.py\", line 1004, in __call__\n",
      "    if self.dispatch_one_batch(iterator):\n",
      "  File \"/opt/conda/lib/python3.7/site-packages/joblib/parallel.py\", line 835, in dispatch_one_batch\n",
      "    self._dispatch(tasks)\n",
      "  File \"/opt/conda/lib/python3.7/site-packages/joblib/parallel.py\", line 754, in _dispatch\n",
      "    job = self._backend.apply_async(batch, callback=cb)\n",
      "  File \"/opt/conda/lib/python3.7/site-packages/joblib/_parallel_backends.py\", line 209, in apply_async\n",
      "    result = ImmediateResult(func)\n",
      "  File \"/opt/conda/lib/python3.7/site-packages/joblib/_parallel_backends.py\", line 590, in __init__\n",
      "    self.results = batch()\n",
      "  File \"/opt/conda/lib/python3.7/site-packages/joblib/parallel.py\", line 256, in __call__\n",
      "    for func, args, kwargs in self.items]\n",
      "  File \"/opt/conda/lib/python3.7/site-packages/joblib/parallel.py\", line 256, in <listcomp>\n",
      "    for func, args, kwargs in self.items]\n",
      "  File \"/opt/conda/lib/python3.7/site-packages/sklearn/ensemble/_forest.py\", line 168, in _parallel_build_trees\n",
      "    tree.fit(X, y, sample_weight=curr_sample_weight, check_input=False)\n",
      "  File \"/opt/conda/lib/python3.7/site-packages/sklearn/tree/_classes.py\", line 894, in fit\n",
      "    X_idx_sorted=X_idx_sorted)\n",
      "  File \"/opt/conda/lib/python3.7/site-packages/sklearn/tree/_classes.py\", line 279, in fit\n",
      "    raise ValueError(\"max_features must be in (0, n_features]\")\n",
      "ValueError: max_features must be in (0, n_features]\n",
      "\n",
      "  FitFailedWarning)\n",
      "/opt/conda/lib/python3.7/site-packages/sklearn/model_selection/_validation.py:552: FitFailedWarning: Estimator fit failed. The score on this train-test partition for these parameters will be set to nan. Details: \n",
      "Traceback (most recent call last):\n",
      "  File \"/opt/conda/lib/python3.7/site-packages/sklearn/model_selection/_validation.py\", line 531, in _fit_and_score\n",
      "    estimator.fit(X_train, y_train, **fit_params)\n",
      "  File \"/opt/conda/lib/python3.7/site-packages/sklearn/ensemble/_forest.py\", line 392, in fit\n",
      "    for i, t in enumerate(trees))\n",
      "  File \"/opt/conda/lib/python3.7/site-packages/joblib/parallel.py\", line 1004, in __call__\n",
      "    if self.dispatch_one_batch(iterator):\n",
      "  File \"/opt/conda/lib/python3.7/site-packages/joblib/parallel.py\", line 835, in dispatch_one_batch\n",
      "    self._dispatch(tasks)\n",
      "  File \"/opt/conda/lib/python3.7/site-packages/joblib/parallel.py\", line 754, in _dispatch\n",
      "    job = self._backend.apply_async(batch, callback=cb)\n",
      "  File \"/opt/conda/lib/python3.7/site-packages/joblib/_parallel_backends.py\", line 209, in apply_async\n",
      "    result = ImmediateResult(func)\n",
      "  File \"/opt/conda/lib/python3.7/site-packages/joblib/_parallel_backends.py\", line 590, in __init__\n",
      "    self.results = batch()\n",
      "  File \"/opt/conda/lib/python3.7/site-packages/joblib/parallel.py\", line 256, in __call__\n",
      "    for func, args, kwargs in self.items]\n",
      "  File \"/opt/conda/lib/python3.7/site-packages/joblib/parallel.py\", line 256, in <listcomp>\n",
      "    for func, args, kwargs in self.items]\n",
      "  File \"/opt/conda/lib/python3.7/site-packages/sklearn/ensemble/_forest.py\", line 168, in _parallel_build_trees\n",
      "    tree.fit(X, y, sample_weight=curr_sample_weight, check_input=False)\n",
      "  File \"/opt/conda/lib/python3.7/site-packages/sklearn/tree/_classes.py\", line 894, in fit\n",
      "    X_idx_sorted=X_idx_sorted)\n",
      "  File \"/opt/conda/lib/python3.7/site-packages/sklearn/tree/_classes.py\", line 279, in fit\n",
      "    raise ValueError(\"max_features must be in (0, n_features]\")\n",
      "ValueError: max_features must be in (0, n_features]\n",
      "\n",
      "  FitFailedWarning)\n",
      "/opt/conda/lib/python3.7/site-packages/sklearn/model_selection/_validation.py:552: FitFailedWarning: Estimator fit failed. The score on this train-test partition for these parameters will be set to nan. Details: \n",
      "Traceback (most recent call last):\n",
      "  File \"/opt/conda/lib/python3.7/site-packages/sklearn/model_selection/_validation.py\", line 531, in _fit_and_score\n",
      "    estimator.fit(X_train, y_train, **fit_params)\n",
      "  File \"/opt/conda/lib/python3.7/site-packages/sklearn/ensemble/_forest.py\", line 392, in fit\n",
      "    for i, t in enumerate(trees))\n",
      "  File \"/opt/conda/lib/python3.7/site-packages/joblib/parallel.py\", line 1004, in __call__\n",
      "    if self.dispatch_one_batch(iterator):\n",
      "  File \"/opt/conda/lib/python3.7/site-packages/joblib/parallel.py\", line 835, in dispatch_one_batch\n",
      "    self._dispatch(tasks)\n",
      "  File \"/opt/conda/lib/python3.7/site-packages/joblib/parallel.py\", line 754, in _dispatch\n",
      "    job = self._backend.apply_async(batch, callback=cb)\n",
      "  File \"/opt/conda/lib/python3.7/site-packages/joblib/_parallel_backends.py\", line 209, in apply_async\n",
      "    result = ImmediateResult(func)\n",
      "  File \"/opt/conda/lib/python3.7/site-packages/joblib/_parallel_backends.py\", line 590, in __init__\n",
      "    self.results = batch()\n",
      "  File \"/opt/conda/lib/python3.7/site-packages/joblib/parallel.py\", line 256, in __call__\n",
      "    for func, args, kwargs in self.items]\n",
      "  File \"/opt/conda/lib/python3.7/site-packages/joblib/parallel.py\", line 256, in <listcomp>\n",
      "    for func, args, kwargs in self.items]\n",
      "  File \"/opt/conda/lib/python3.7/site-packages/sklearn/ensemble/_forest.py\", line 168, in _parallel_build_trees\n",
      "    tree.fit(X, y, sample_weight=curr_sample_weight, check_input=False)\n",
      "  File \"/opt/conda/lib/python3.7/site-packages/sklearn/tree/_classes.py\", line 894, in fit\n",
      "    X_idx_sorted=X_idx_sorted)\n",
      "  File \"/opt/conda/lib/python3.7/site-packages/sklearn/tree/_classes.py\", line 279, in fit\n",
      "    raise ValueError(\"max_features must be in (0, n_features]\")\n",
      "ValueError: max_features must be in (0, n_features]\n",
      "\n",
      "  FitFailedWarning)\n",
      "/opt/conda/lib/python3.7/site-packages/sklearn/model_selection/_validation.py:552: FitFailedWarning: Estimator fit failed. The score on this train-test partition for these parameters will be set to nan. Details: \n",
      "Traceback (most recent call last):\n",
      "  File \"/opt/conda/lib/python3.7/site-packages/sklearn/model_selection/_validation.py\", line 531, in _fit_and_score\n",
      "    estimator.fit(X_train, y_train, **fit_params)\n",
      "  File \"/opt/conda/lib/python3.7/site-packages/sklearn/ensemble/_forest.py\", line 392, in fit\n",
      "    for i, t in enumerate(trees))\n",
      "  File \"/opt/conda/lib/python3.7/site-packages/joblib/parallel.py\", line 1004, in __call__\n",
      "    if self.dispatch_one_batch(iterator):\n",
      "  File \"/opt/conda/lib/python3.7/site-packages/joblib/parallel.py\", line 835, in dispatch_one_batch\n",
      "    self._dispatch(tasks)\n",
      "  File \"/opt/conda/lib/python3.7/site-packages/joblib/parallel.py\", line 754, in _dispatch\n",
      "    job = self._backend.apply_async(batch, callback=cb)\n",
      "  File \"/opt/conda/lib/python3.7/site-packages/joblib/_parallel_backends.py\", line 209, in apply_async\n",
      "    result = ImmediateResult(func)\n",
      "  File \"/opt/conda/lib/python3.7/site-packages/joblib/_parallel_backends.py\", line 590, in __init__\n",
      "    self.results = batch()\n",
      "  File \"/opt/conda/lib/python3.7/site-packages/joblib/parallel.py\", line 256, in __call__\n",
      "    for func, args, kwargs in self.items]\n",
      "  File \"/opt/conda/lib/python3.7/site-packages/joblib/parallel.py\", line 256, in <listcomp>\n",
      "    for func, args, kwargs in self.items]\n",
      "  File \"/opt/conda/lib/python3.7/site-packages/sklearn/ensemble/_forest.py\", line 168, in _parallel_build_trees\n",
      "    tree.fit(X, y, sample_weight=curr_sample_weight, check_input=False)\n",
      "  File \"/opt/conda/lib/python3.7/site-packages/sklearn/tree/_classes.py\", line 894, in fit\n",
      "    X_idx_sorted=X_idx_sorted)\n",
      "  File \"/opt/conda/lib/python3.7/site-packages/sklearn/tree/_classes.py\", line 279, in fit\n",
      "    raise ValueError(\"max_features must be in (0, n_features]\")\n",
      "ValueError: max_features must be in (0, n_features]\n",
      "\n",
      "  FitFailedWarning)\n",
      "/opt/conda/lib/python3.7/site-packages/sklearn/model_selection/_validation.py:552: FitFailedWarning: Estimator fit failed. The score on this train-test partition for these parameters will be set to nan. Details: \n",
      "Traceback (most recent call last):\n",
      "  File \"/opt/conda/lib/python3.7/site-packages/sklearn/model_selection/_validation.py\", line 531, in _fit_and_score\n",
      "    estimator.fit(X_train, y_train, **fit_params)\n",
      "  File \"/opt/conda/lib/python3.7/site-packages/sklearn/ensemble/_forest.py\", line 392, in fit\n",
      "    for i, t in enumerate(trees))\n",
      "  File \"/opt/conda/lib/python3.7/site-packages/joblib/parallel.py\", line 1004, in __call__\n",
      "    if self.dispatch_one_batch(iterator):\n",
      "  File \"/opt/conda/lib/python3.7/site-packages/joblib/parallel.py\", line 835, in dispatch_one_batch\n",
      "    self._dispatch(tasks)\n",
      "  File \"/opt/conda/lib/python3.7/site-packages/joblib/parallel.py\", line 754, in _dispatch\n",
      "    job = self._backend.apply_async(batch, callback=cb)\n",
      "  File \"/opt/conda/lib/python3.7/site-packages/joblib/_parallel_backends.py\", line 209, in apply_async\n",
      "    result = ImmediateResult(func)\n",
      "  File \"/opt/conda/lib/python3.7/site-packages/joblib/_parallel_backends.py\", line 590, in __init__\n",
      "    self.results = batch()\n",
      "  File \"/opt/conda/lib/python3.7/site-packages/joblib/parallel.py\", line 256, in __call__\n",
      "    for func, args, kwargs in self.items]\n",
      "  File \"/opt/conda/lib/python3.7/site-packages/joblib/parallel.py\", line 256, in <listcomp>\n",
      "    for func, args, kwargs in self.items]\n",
      "  File \"/opt/conda/lib/python3.7/site-packages/sklearn/ensemble/_forest.py\", line 168, in _parallel_build_trees\n",
      "    tree.fit(X, y, sample_weight=curr_sample_weight, check_input=False)\n",
      "  File \"/opt/conda/lib/python3.7/site-packages/sklearn/tree/_classes.py\", line 894, in fit\n",
      "    X_idx_sorted=X_idx_sorted)\n",
      "  File \"/opt/conda/lib/python3.7/site-packages/sklearn/tree/_classes.py\", line 279, in fit\n",
      "    raise ValueError(\"max_features must be in (0, n_features]\")\n",
      "ValueError: max_features must be in (0, n_features]\n",
      "\n",
      "  FitFailedWarning)\n",
      "/opt/conda/lib/python3.7/site-packages/sklearn/model_selection/_validation.py:552: FitFailedWarning: Estimator fit failed. The score on this train-test partition for these parameters will be set to nan. Details: \n",
      "Traceback (most recent call last):\n",
      "  File \"/opt/conda/lib/python3.7/site-packages/sklearn/model_selection/_validation.py\", line 531, in _fit_and_score\n",
      "    estimator.fit(X_train, y_train, **fit_params)\n",
      "  File \"/opt/conda/lib/python3.7/site-packages/sklearn/ensemble/_forest.py\", line 392, in fit\n",
      "    for i, t in enumerate(trees))\n",
      "  File \"/opt/conda/lib/python3.7/site-packages/joblib/parallel.py\", line 1004, in __call__\n",
      "    if self.dispatch_one_batch(iterator):\n",
      "  File \"/opt/conda/lib/python3.7/site-packages/joblib/parallel.py\", line 835, in dispatch_one_batch\n",
      "    self._dispatch(tasks)\n",
      "  File \"/opt/conda/lib/python3.7/site-packages/joblib/parallel.py\", line 754, in _dispatch\n",
      "    job = self._backend.apply_async(batch, callback=cb)\n",
      "  File \"/opt/conda/lib/python3.7/site-packages/joblib/_parallel_backends.py\", line 209, in apply_async\n",
      "    result = ImmediateResult(func)\n",
      "  File \"/opt/conda/lib/python3.7/site-packages/joblib/_parallel_backends.py\", line 590, in __init__\n",
      "    self.results = batch()\n",
      "  File \"/opt/conda/lib/python3.7/site-packages/joblib/parallel.py\", line 256, in __call__\n",
      "    for func, args, kwargs in self.items]\n",
      "  File \"/opt/conda/lib/python3.7/site-packages/joblib/parallel.py\", line 256, in <listcomp>\n",
      "    for func, args, kwargs in self.items]\n",
      "  File \"/opt/conda/lib/python3.7/site-packages/sklearn/ensemble/_forest.py\", line 168, in _parallel_build_trees\n",
      "    tree.fit(X, y, sample_weight=curr_sample_weight, check_input=False)\n",
      "  File \"/opt/conda/lib/python3.7/site-packages/sklearn/tree/_classes.py\", line 894, in fit\n",
      "    X_idx_sorted=X_idx_sorted)\n",
      "  File \"/opt/conda/lib/python3.7/site-packages/sklearn/tree/_classes.py\", line 279, in fit\n",
      "    raise ValueError(\"max_features must be in (0, n_features]\")\n",
      "ValueError: max_features must be in (0, n_features]\n",
      "\n",
      "  FitFailedWarning)\n",
      "/opt/conda/lib/python3.7/site-packages/sklearn/model_selection/_validation.py:552: FitFailedWarning: Estimator fit failed. The score on this train-test partition for these parameters will be set to nan. Details: \n",
      "Traceback (most recent call last):\n",
      "  File \"/opt/conda/lib/python3.7/site-packages/sklearn/model_selection/_validation.py\", line 531, in _fit_and_score\n",
      "    estimator.fit(X_train, y_train, **fit_params)\n",
      "  File \"/opt/conda/lib/python3.7/site-packages/sklearn/ensemble/_forest.py\", line 392, in fit\n",
      "    for i, t in enumerate(trees))\n",
      "  File \"/opt/conda/lib/python3.7/site-packages/joblib/parallel.py\", line 1004, in __call__\n",
      "    if self.dispatch_one_batch(iterator):\n",
      "  File \"/opt/conda/lib/python3.7/site-packages/joblib/parallel.py\", line 835, in dispatch_one_batch\n",
      "    self._dispatch(tasks)\n",
      "  File \"/opt/conda/lib/python3.7/site-packages/joblib/parallel.py\", line 754, in _dispatch\n",
      "    job = self._backend.apply_async(batch, callback=cb)\n",
      "  File \"/opt/conda/lib/python3.7/site-packages/joblib/_parallel_backends.py\", line 209, in apply_async\n",
      "    result = ImmediateResult(func)\n",
      "  File \"/opt/conda/lib/python3.7/site-packages/joblib/_parallel_backends.py\", line 590, in __init__\n",
      "    self.results = batch()\n",
      "  File \"/opt/conda/lib/python3.7/site-packages/joblib/parallel.py\", line 256, in __call__\n",
      "    for func, args, kwargs in self.items]\n",
      "  File \"/opt/conda/lib/python3.7/site-packages/joblib/parallel.py\", line 256, in <listcomp>\n",
      "    for func, args, kwargs in self.items]\n",
      "  File \"/opt/conda/lib/python3.7/site-packages/sklearn/ensemble/_forest.py\", line 168, in _parallel_build_trees\n",
      "    tree.fit(X, y, sample_weight=curr_sample_weight, check_input=False)\n",
      "  File \"/opt/conda/lib/python3.7/site-packages/sklearn/tree/_classes.py\", line 894, in fit\n",
      "    X_idx_sorted=X_idx_sorted)\n",
      "  File \"/opt/conda/lib/python3.7/site-packages/sklearn/tree/_classes.py\", line 279, in fit\n",
      "    raise ValueError(\"max_features must be in (0, n_features]\")\n",
      "ValueError: max_features must be in (0, n_features]\n",
      "\n",
      "  FitFailedWarning)\n",
      "/opt/conda/lib/python3.7/site-packages/sklearn/model_selection/_validation.py:552: FitFailedWarning: Estimator fit failed. The score on this train-test partition for these parameters will be set to nan. Details: \n",
      "Traceback (most recent call last):\n",
      "  File \"/opt/conda/lib/python3.7/site-packages/sklearn/model_selection/_validation.py\", line 531, in _fit_and_score\n",
      "    estimator.fit(X_train, y_train, **fit_params)\n",
      "  File \"/opt/conda/lib/python3.7/site-packages/sklearn/ensemble/_forest.py\", line 392, in fit\n",
      "    for i, t in enumerate(trees))\n",
      "  File \"/opt/conda/lib/python3.7/site-packages/joblib/parallel.py\", line 1004, in __call__\n",
      "    if self.dispatch_one_batch(iterator):\n",
      "  File \"/opt/conda/lib/python3.7/site-packages/joblib/parallel.py\", line 835, in dispatch_one_batch\n",
      "    self._dispatch(tasks)\n",
      "  File \"/opt/conda/lib/python3.7/site-packages/joblib/parallel.py\", line 754, in _dispatch\n",
      "    job = self._backend.apply_async(batch, callback=cb)\n",
      "  File \"/opt/conda/lib/python3.7/site-packages/joblib/_parallel_backends.py\", line 209, in apply_async\n",
      "    result = ImmediateResult(func)\n",
      "  File \"/opt/conda/lib/python3.7/site-packages/joblib/_parallel_backends.py\", line 590, in __init__\n",
      "    self.results = batch()\n",
      "  File \"/opt/conda/lib/python3.7/site-packages/joblib/parallel.py\", line 256, in __call__\n",
      "    for func, args, kwargs in self.items]\n",
      "  File \"/opt/conda/lib/python3.7/site-packages/joblib/parallel.py\", line 256, in <listcomp>\n",
      "    for func, args, kwargs in self.items]\n",
      "  File \"/opt/conda/lib/python3.7/site-packages/sklearn/ensemble/_forest.py\", line 168, in _parallel_build_trees\n",
      "    tree.fit(X, y, sample_weight=curr_sample_weight, check_input=False)\n",
      "  File \"/opt/conda/lib/python3.7/site-packages/sklearn/tree/_classes.py\", line 894, in fit\n",
      "    X_idx_sorted=X_idx_sorted)\n",
      "  File \"/opt/conda/lib/python3.7/site-packages/sklearn/tree/_classes.py\", line 279, in fit\n",
      "    raise ValueError(\"max_features must be in (0, n_features]\")\n",
      "ValueError: max_features must be in (0, n_features]\n",
      "\n",
      "  FitFailedWarning)\n",
      "/opt/conda/lib/python3.7/site-packages/sklearn/model_selection/_validation.py:552: FitFailedWarning: Estimator fit failed. The score on this train-test partition for these parameters will be set to nan. Details: \n",
      "Traceback (most recent call last):\n",
      "  File \"/opt/conda/lib/python3.7/site-packages/sklearn/model_selection/_validation.py\", line 531, in _fit_and_score\n",
      "    estimator.fit(X_train, y_train, **fit_params)\n",
      "  File \"/opt/conda/lib/python3.7/site-packages/sklearn/ensemble/_forest.py\", line 392, in fit\n",
      "    for i, t in enumerate(trees))\n",
      "  File \"/opt/conda/lib/python3.7/site-packages/joblib/parallel.py\", line 1004, in __call__\n",
      "    if self.dispatch_one_batch(iterator):\n",
      "  File \"/opt/conda/lib/python3.7/site-packages/joblib/parallel.py\", line 835, in dispatch_one_batch\n",
      "    self._dispatch(tasks)\n",
      "  File \"/opt/conda/lib/python3.7/site-packages/joblib/parallel.py\", line 754, in _dispatch\n",
      "    job = self._backend.apply_async(batch, callback=cb)\n",
      "  File \"/opt/conda/lib/python3.7/site-packages/joblib/_parallel_backends.py\", line 209, in apply_async\n",
      "    result = ImmediateResult(func)\n",
      "  File \"/opt/conda/lib/python3.7/site-packages/joblib/_parallel_backends.py\", line 590, in __init__\n",
      "    self.results = batch()\n",
      "  File \"/opt/conda/lib/python3.7/site-packages/joblib/parallel.py\", line 256, in __call__\n",
      "    for func, args, kwargs in self.items]\n",
      "  File \"/opt/conda/lib/python3.7/site-packages/joblib/parallel.py\", line 256, in <listcomp>\n",
      "    for func, args, kwargs in self.items]\n",
      "  File \"/opt/conda/lib/python3.7/site-packages/sklearn/ensemble/_forest.py\", line 168, in _parallel_build_trees\n",
      "    tree.fit(X, y, sample_weight=curr_sample_weight, check_input=False)\n",
      "  File \"/opt/conda/lib/python3.7/site-packages/sklearn/tree/_classes.py\", line 894, in fit\n",
      "    X_idx_sorted=X_idx_sorted)\n",
      "  File \"/opt/conda/lib/python3.7/site-packages/sklearn/tree/_classes.py\", line 279, in fit\n",
      "    raise ValueError(\"max_features must be in (0, n_features]\")\n",
      "ValueError: max_features must be in (0, n_features]\n",
      "\n",
      "  FitFailedWarning)\n",
      "/opt/conda/lib/python3.7/site-packages/sklearn/model_selection/_validation.py:552: FitFailedWarning: Estimator fit failed. The score on this train-test partition for these parameters will be set to nan. Details: \n",
      "Traceback (most recent call last):\n",
      "  File \"/opt/conda/lib/python3.7/site-packages/sklearn/model_selection/_validation.py\", line 531, in _fit_and_score\n",
      "    estimator.fit(X_train, y_train, **fit_params)\n",
      "  File \"/opt/conda/lib/python3.7/site-packages/sklearn/ensemble/_forest.py\", line 392, in fit\n",
      "    for i, t in enumerate(trees))\n",
      "  File \"/opt/conda/lib/python3.7/site-packages/joblib/parallel.py\", line 1004, in __call__\n",
      "    if self.dispatch_one_batch(iterator):\n",
      "  File \"/opt/conda/lib/python3.7/site-packages/joblib/parallel.py\", line 835, in dispatch_one_batch\n",
      "    self._dispatch(tasks)\n",
      "  File \"/opt/conda/lib/python3.7/site-packages/joblib/parallel.py\", line 754, in _dispatch\n",
      "    job = self._backend.apply_async(batch, callback=cb)\n",
      "  File \"/opt/conda/lib/python3.7/site-packages/joblib/_parallel_backends.py\", line 209, in apply_async\n",
      "    result = ImmediateResult(func)\n",
      "  File \"/opt/conda/lib/python3.7/site-packages/joblib/_parallel_backends.py\", line 590, in __init__\n",
      "    self.results = batch()\n",
      "  File \"/opt/conda/lib/python3.7/site-packages/joblib/parallel.py\", line 256, in __call__\n",
      "    for func, args, kwargs in self.items]\n",
      "  File \"/opt/conda/lib/python3.7/site-packages/joblib/parallel.py\", line 256, in <listcomp>\n",
      "    for func, args, kwargs in self.items]\n",
      "  File \"/opt/conda/lib/python3.7/site-packages/sklearn/ensemble/_forest.py\", line 168, in _parallel_build_trees\n",
      "    tree.fit(X, y, sample_weight=curr_sample_weight, check_input=False)\n",
      "  File \"/opt/conda/lib/python3.7/site-packages/sklearn/tree/_classes.py\", line 894, in fit\n",
      "    X_idx_sorted=X_idx_sorted)\n",
      "  File \"/opt/conda/lib/python3.7/site-packages/sklearn/tree/_classes.py\", line 279, in fit\n",
      "    raise ValueError(\"max_features must be in (0, n_features]\")\n",
      "ValueError: max_features must be in (0, n_features]\n",
      "\n",
      "  FitFailedWarning)\n",
      "/opt/conda/lib/python3.7/site-packages/sklearn/model_selection/_validation.py:552: FitFailedWarning: Estimator fit failed. The score on this train-test partition for these parameters will be set to nan. Details: \n",
      "Traceback (most recent call last):\n",
      "  File \"/opt/conda/lib/python3.7/site-packages/sklearn/model_selection/_validation.py\", line 531, in _fit_and_score\n",
      "    estimator.fit(X_train, y_train, **fit_params)\n",
      "  File \"/opt/conda/lib/python3.7/site-packages/sklearn/ensemble/_forest.py\", line 392, in fit\n",
      "    for i, t in enumerate(trees))\n",
      "  File \"/opt/conda/lib/python3.7/site-packages/joblib/parallel.py\", line 1004, in __call__\n",
      "    if self.dispatch_one_batch(iterator):\n",
      "  File \"/opt/conda/lib/python3.7/site-packages/joblib/parallel.py\", line 835, in dispatch_one_batch\n",
      "    self._dispatch(tasks)\n",
      "  File \"/opt/conda/lib/python3.7/site-packages/joblib/parallel.py\", line 754, in _dispatch\n",
      "    job = self._backend.apply_async(batch, callback=cb)\n",
      "  File \"/opt/conda/lib/python3.7/site-packages/joblib/_parallel_backends.py\", line 209, in apply_async\n",
      "    result = ImmediateResult(func)\n",
      "  File \"/opt/conda/lib/python3.7/site-packages/joblib/_parallel_backends.py\", line 590, in __init__\n",
      "    self.results = batch()\n",
      "  File \"/opt/conda/lib/python3.7/site-packages/joblib/parallel.py\", line 256, in __call__\n",
      "    for func, args, kwargs in self.items]\n",
      "  File \"/opt/conda/lib/python3.7/site-packages/joblib/parallel.py\", line 256, in <listcomp>\n",
      "    for func, args, kwargs in self.items]\n",
      "  File \"/opt/conda/lib/python3.7/site-packages/sklearn/ensemble/_forest.py\", line 168, in _parallel_build_trees\n",
      "    tree.fit(X, y, sample_weight=curr_sample_weight, check_input=False)\n",
      "  File \"/opt/conda/lib/python3.7/site-packages/sklearn/tree/_classes.py\", line 894, in fit\n",
      "    X_idx_sorted=X_idx_sorted)\n",
      "  File \"/opt/conda/lib/python3.7/site-packages/sklearn/tree/_classes.py\", line 279, in fit\n",
      "    raise ValueError(\"max_features must be in (0, n_features]\")\n",
      "ValueError: max_features must be in (0, n_features]\n",
      "\n",
      "  FitFailedWarning)\n",
      "/opt/conda/lib/python3.7/site-packages/sklearn/model_selection/_validation.py:552: FitFailedWarning: Estimator fit failed. The score on this train-test partition for these parameters will be set to nan. Details: \n",
      "Traceback (most recent call last):\n",
      "  File \"/opt/conda/lib/python3.7/site-packages/sklearn/model_selection/_validation.py\", line 531, in _fit_and_score\n",
      "    estimator.fit(X_train, y_train, **fit_params)\n",
      "  File \"/opt/conda/lib/python3.7/site-packages/sklearn/ensemble/_forest.py\", line 392, in fit\n",
      "    for i, t in enumerate(trees))\n",
      "  File \"/opt/conda/lib/python3.7/site-packages/joblib/parallel.py\", line 1004, in __call__\n",
      "    if self.dispatch_one_batch(iterator):\n",
      "  File \"/opt/conda/lib/python3.7/site-packages/joblib/parallel.py\", line 835, in dispatch_one_batch\n",
      "    self._dispatch(tasks)\n",
      "  File \"/opt/conda/lib/python3.7/site-packages/joblib/parallel.py\", line 754, in _dispatch\n",
      "    job = self._backend.apply_async(batch, callback=cb)\n",
      "  File \"/opt/conda/lib/python3.7/site-packages/joblib/_parallel_backends.py\", line 209, in apply_async\n",
      "    result = ImmediateResult(func)\n",
      "  File \"/opt/conda/lib/python3.7/site-packages/joblib/_parallel_backends.py\", line 590, in __init__\n",
      "    self.results = batch()\n",
      "  File \"/opt/conda/lib/python3.7/site-packages/joblib/parallel.py\", line 256, in __call__\n",
      "    for func, args, kwargs in self.items]\n",
      "  File \"/opt/conda/lib/python3.7/site-packages/joblib/parallel.py\", line 256, in <listcomp>\n",
      "    for func, args, kwargs in self.items]\n",
      "  File \"/opt/conda/lib/python3.7/site-packages/sklearn/ensemble/_forest.py\", line 168, in _parallel_build_trees\n",
      "    tree.fit(X, y, sample_weight=curr_sample_weight, check_input=False)\n",
      "  File \"/opt/conda/lib/python3.7/site-packages/sklearn/tree/_classes.py\", line 894, in fit\n",
      "    X_idx_sorted=X_idx_sorted)\n",
      "  File \"/opt/conda/lib/python3.7/site-packages/sklearn/tree/_classes.py\", line 279, in fit\n",
      "    raise ValueError(\"max_features must be in (0, n_features]\")\n",
      "ValueError: max_features must be in (0, n_features]\n",
      "\n",
      "  FitFailedWarning)\n",
      "/opt/conda/lib/python3.7/site-packages/sklearn/model_selection/_validation.py:552: FitFailedWarning: Estimator fit failed. The score on this train-test partition for these parameters will be set to nan. Details: \n",
      "Traceback (most recent call last):\n",
      "  File \"/opt/conda/lib/python3.7/site-packages/sklearn/model_selection/_validation.py\", line 531, in _fit_and_score\n",
      "    estimator.fit(X_train, y_train, **fit_params)\n",
      "  File \"/opt/conda/lib/python3.7/site-packages/sklearn/ensemble/_forest.py\", line 392, in fit\n",
      "    for i, t in enumerate(trees))\n",
      "  File \"/opt/conda/lib/python3.7/site-packages/joblib/parallel.py\", line 1004, in __call__\n",
      "    if self.dispatch_one_batch(iterator):\n",
      "  File \"/opt/conda/lib/python3.7/site-packages/joblib/parallel.py\", line 835, in dispatch_one_batch\n",
      "    self._dispatch(tasks)\n",
      "  File \"/opt/conda/lib/python3.7/site-packages/joblib/parallel.py\", line 754, in _dispatch\n",
      "    job = self._backend.apply_async(batch, callback=cb)\n",
      "  File \"/opt/conda/lib/python3.7/site-packages/joblib/_parallel_backends.py\", line 209, in apply_async\n",
      "    result = ImmediateResult(func)\n",
      "  File \"/opt/conda/lib/python3.7/site-packages/joblib/_parallel_backends.py\", line 590, in __init__\n",
      "    self.results = batch()\n",
      "  File \"/opt/conda/lib/python3.7/site-packages/joblib/parallel.py\", line 256, in __call__\n",
      "    for func, args, kwargs in self.items]\n",
      "  File \"/opt/conda/lib/python3.7/site-packages/joblib/parallel.py\", line 256, in <listcomp>\n",
      "    for func, args, kwargs in self.items]\n",
      "  File \"/opt/conda/lib/python3.7/site-packages/sklearn/ensemble/_forest.py\", line 168, in _parallel_build_trees\n",
      "    tree.fit(X, y, sample_weight=curr_sample_weight, check_input=False)\n",
      "  File \"/opt/conda/lib/python3.7/site-packages/sklearn/tree/_classes.py\", line 894, in fit\n",
      "    X_idx_sorted=X_idx_sorted)\n",
      "  File \"/opt/conda/lib/python3.7/site-packages/sklearn/tree/_classes.py\", line 279, in fit\n",
      "    raise ValueError(\"max_features must be in (0, n_features]\")\n",
      "ValueError: max_features must be in (0, n_features]\n",
      "\n",
      "  FitFailedWarning)\n",
      "/opt/conda/lib/python3.7/site-packages/sklearn/model_selection/_validation.py:552: FitFailedWarning: Estimator fit failed. The score on this train-test partition for these parameters will be set to nan. Details: \n",
      "Traceback (most recent call last):\n",
      "  File \"/opt/conda/lib/python3.7/site-packages/sklearn/model_selection/_validation.py\", line 531, in _fit_and_score\n",
      "    estimator.fit(X_train, y_train, **fit_params)\n",
      "  File \"/opt/conda/lib/python3.7/site-packages/sklearn/ensemble/_forest.py\", line 392, in fit\n",
      "    for i, t in enumerate(trees))\n",
      "  File \"/opt/conda/lib/python3.7/site-packages/joblib/parallel.py\", line 1004, in __call__\n",
      "    if self.dispatch_one_batch(iterator):\n",
      "  File \"/opt/conda/lib/python3.7/site-packages/joblib/parallel.py\", line 835, in dispatch_one_batch\n",
      "    self._dispatch(tasks)\n",
      "  File \"/opt/conda/lib/python3.7/site-packages/joblib/parallel.py\", line 754, in _dispatch\n",
      "    job = self._backend.apply_async(batch, callback=cb)\n",
      "  File \"/opt/conda/lib/python3.7/site-packages/joblib/_parallel_backends.py\", line 209, in apply_async\n",
      "    result = ImmediateResult(func)\n",
      "  File \"/opt/conda/lib/python3.7/site-packages/joblib/_parallel_backends.py\", line 590, in __init__\n",
      "    self.results = batch()\n",
      "  File \"/opt/conda/lib/python3.7/site-packages/joblib/parallel.py\", line 256, in __call__\n",
      "    for func, args, kwargs in self.items]\n",
      "  File \"/opt/conda/lib/python3.7/site-packages/joblib/parallel.py\", line 256, in <listcomp>\n",
      "    for func, args, kwargs in self.items]\n",
      "  File \"/opt/conda/lib/python3.7/site-packages/sklearn/ensemble/_forest.py\", line 168, in _parallel_build_trees\n",
      "    tree.fit(X, y, sample_weight=curr_sample_weight, check_input=False)\n",
      "  File \"/opt/conda/lib/python3.7/site-packages/sklearn/tree/_classes.py\", line 894, in fit\n",
      "    X_idx_sorted=X_idx_sorted)\n",
      "  File \"/opt/conda/lib/python3.7/site-packages/sklearn/tree/_classes.py\", line 279, in fit\n",
      "    raise ValueError(\"max_features must be in (0, n_features]\")\n",
      "ValueError: max_features must be in (0, n_features]\n",
      "\n",
      "  FitFailedWarning)\n",
      "/opt/conda/lib/python3.7/site-packages/sklearn/model_selection/_validation.py:552: FitFailedWarning: Estimator fit failed. The score on this train-test partition for these parameters will be set to nan. Details: \n",
      "Traceback (most recent call last):\n",
      "  File \"/opt/conda/lib/python3.7/site-packages/sklearn/model_selection/_validation.py\", line 531, in _fit_and_score\n",
      "    estimator.fit(X_train, y_train, **fit_params)\n",
      "  File \"/opt/conda/lib/python3.7/site-packages/sklearn/ensemble/_forest.py\", line 392, in fit\n",
      "    for i, t in enumerate(trees))\n",
      "  File \"/opt/conda/lib/python3.7/site-packages/joblib/parallel.py\", line 1004, in __call__\n",
      "    if self.dispatch_one_batch(iterator):\n",
      "  File \"/opt/conda/lib/python3.7/site-packages/joblib/parallel.py\", line 835, in dispatch_one_batch\n",
      "    self._dispatch(tasks)\n",
      "  File \"/opt/conda/lib/python3.7/site-packages/joblib/parallel.py\", line 754, in _dispatch\n",
      "    job = self._backend.apply_async(batch, callback=cb)\n",
      "  File \"/opt/conda/lib/python3.7/site-packages/joblib/_parallel_backends.py\", line 209, in apply_async\n",
      "    result = ImmediateResult(func)\n",
      "  File \"/opt/conda/lib/python3.7/site-packages/joblib/_parallel_backends.py\", line 590, in __init__\n",
      "    self.results = batch()\n",
      "  File \"/opt/conda/lib/python3.7/site-packages/joblib/parallel.py\", line 256, in __call__\n",
      "    for func, args, kwargs in self.items]\n",
      "  File \"/opt/conda/lib/python3.7/site-packages/joblib/parallel.py\", line 256, in <listcomp>\n",
      "    for func, args, kwargs in self.items]\n",
      "  File \"/opt/conda/lib/python3.7/site-packages/sklearn/ensemble/_forest.py\", line 168, in _parallel_build_trees\n",
      "    tree.fit(X, y, sample_weight=curr_sample_weight, check_input=False)\n",
      "  File \"/opt/conda/lib/python3.7/site-packages/sklearn/tree/_classes.py\", line 894, in fit\n",
      "    X_idx_sorted=X_idx_sorted)\n",
      "  File \"/opt/conda/lib/python3.7/site-packages/sklearn/tree/_classes.py\", line 279, in fit\n",
      "    raise ValueError(\"max_features must be in (0, n_features]\")\n",
      "ValueError: max_features must be in (0, n_features]\n",
      "\n",
      "  FitFailedWarning)\n",
      "/opt/conda/lib/python3.7/site-packages/sklearn/model_selection/_validation.py:552: FitFailedWarning: Estimator fit failed. The score on this train-test partition for these parameters will be set to nan. Details: \n",
      "Traceback (most recent call last):\n",
      "  File \"/opt/conda/lib/python3.7/site-packages/sklearn/model_selection/_validation.py\", line 531, in _fit_and_score\n",
      "    estimator.fit(X_train, y_train, **fit_params)\n",
      "  File \"/opt/conda/lib/python3.7/site-packages/sklearn/ensemble/_forest.py\", line 392, in fit\n",
      "    for i, t in enumerate(trees))\n",
      "  File \"/opt/conda/lib/python3.7/site-packages/joblib/parallel.py\", line 1004, in __call__\n",
      "    if self.dispatch_one_batch(iterator):\n",
      "  File \"/opt/conda/lib/python3.7/site-packages/joblib/parallel.py\", line 835, in dispatch_one_batch\n",
      "    self._dispatch(tasks)\n",
      "  File \"/opt/conda/lib/python3.7/site-packages/joblib/parallel.py\", line 754, in _dispatch\n",
      "    job = self._backend.apply_async(batch, callback=cb)\n",
      "  File \"/opt/conda/lib/python3.7/site-packages/joblib/_parallel_backends.py\", line 209, in apply_async\n",
      "    result = ImmediateResult(func)\n",
      "  File \"/opt/conda/lib/python3.7/site-packages/joblib/_parallel_backends.py\", line 590, in __init__\n",
      "    self.results = batch()\n",
      "  File \"/opt/conda/lib/python3.7/site-packages/joblib/parallel.py\", line 256, in __call__\n",
      "    for func, args, kwargs in self.items]\n",
      "  File \"/opt/conda/lib/python3.7/site-packages/joblib/parallel.py\", line 256, in <listcomp>\n",
      "    for func, args, kwargs in self.items]\n",
      "  File \"/opt/conda/lib/python3.7/site-packages/sklearn/ensemble/_forest.py\", line 168, in _parallel_build_trees\n",
      "    tree.fit(X, y, sample_weight=curr_sample_weight, check_input=False)\n",
      "  File \"/opt/conda/lib/python3.7/site-packages/sklearn/tree/_classes.py\", line 894, in fit\n",
      "    X_idx_sorted=X_idx_sorted)\n",
      "  File \"/opt/conda/lib/python3.7/site-packages/sklearn/tree/_classes.py\", line 279, in fit\n",
      "    raise ValueError(\"max_features must be in (0, n_features]\")\n",
      "ValueError: max_features must be in (0, n_features]\n",
      "\n",
      "  FitFailedWarning)\n",
      "/opt/conda/lib/python3.7/site-packages/sklearn/model_selection/_validation.py:552: FitFailedWarning: Estimator fit failed. The score on this train-test partition for these parameters will be set to nan. Details: \n",
      "Traceback (most recent call last):\n",
      "  File \"/opt/conda/lib/python3.7/site-packages/sklearn/model_selection/_validation.py\", line 531, in _fit_and_score\n",
      "    estimator.fit(X_train, y_train, **fit_params)\n",
      "  File \"/opt/conda/lib/python3.7/site-packages/sklearn/ensemble/_forest.py\", line 392, in fit\n",
      "    for i, t in enumerate(trees))\n",
      "  File \"/opt/conda/lib/python3.7/site-packages/joblib/parallel.py\", line 1004, in __call__\n",
      "    if self.dispatch_one_batch(iterator):\n",
      "  File \"/opt/conda/lib/python3.7/site-packages/joblib/parallel.py\", line 835, in dispatch_one_batch\n",
      "    self._dispatch(tasks)\n",
      "  File \"/opt/conda/lib/python3.7/site-packages/joblib/parallel.py\", line 754, in _dispatch\n",
      "    job = self._backend.apply_async(batch, callback=cb)\n",
      "  File \"/opt/conda/lib/python3.7/site-packages/joblib/_parallel_backends.py\", line 209, in apply_async\n",
      "    result = ImmediateResult(func)\n",
      "  File \"/opt/conda/lib/python3.7/site-packages/joblib/_parallel_backends.py\", line 590, in __init__\n",
      "    self.results = batch()\n",
      "  File \"/opt/conda/lib/python3.7/site-packages/joblib/parallel.py\", line 256, in __call__\n",
      "    for func, args, kwargs in self.items]\n",
      "  File \"/opt/conda/lib/python3.7/site-packages/joblib/parallel.py\", line 256, in <listcomp>\n",
      "    for func, args, kwargs in self.items]\n",
      "  File \"/opt/conda/lib/python3.7/site-packages/sklearn/ensemble/_forest.py\", line 168, in _parallel_build_trees\n",
      "    tree.fit(X, y, sample_weight=curr_sample_weight, check_input=False)\n",
      "  File \"/opt/conda/lib/python3.7/site-packages/sklearn/tree/_classes.py\", line 894, in fit\n",
      "    X_idx_sorted=X_idx_sorted)\n",
      "  File \"/opt/conda/lib/python3.7/site-packages/sklearn/tree/_classes.py\", line 279, in fit\n",
      "    raise ValueError(\"max_features must be in (0, n_features]\")\n",
      "ValueError: max_features must be in (0, n_features]\n",
      "\n",
      "  FitFailedWarning)\n",
      "/opt/conda/lib/python3.7/site-packages/sklearn/model_selection/_validation.py:552: FitFailedWarning: Estimator fit failed. The score on this train-test partition for these parameters will be set to nan. Details: \n",
      "Traceback (most recent call last):\n",
      "  File \"/opt/conda/lib/python3.7/site-packages/sklearn/model_selection/_validation.py\", line 531, in _fit_and_score\n",
      "    estimator.fit(X_train, y_train, **fit_params)\n",
      "  File \"/opt/conda/lib/python3.7/site-packages/sklearn/ensemble/_forest.py\", line 392, in fit\n",
      "    for i, t in enumerate(trees))\n",
      "  File \"/opt/conda/lib/python3.7/site-packages/joblib/parallel.py\", line 1004, in __call__\n",
      "    if self.dispatch_one_batch(iterator):\n",
      "  File \"/opt/conda/lib/python3.7/site-packages/joblib/parallel.py\", line 835, in dispatch_one_batch\n",
      "    self._dispatch(tasks)\n",
      "  File \"/opt/conda/lib/python3.7/site-packages/joblib/parallel.py\", line 754, in _dispatch\n",
      "    job = self._backend.apply_async(batch, callback=cb)\n",
      "  File \"/opt/conda/lib/python3.7/site-packages/joblib/_parallel_backends.py\", line 209, in apply_async\n",
      "    result = ImmediateResult(func)\n",
      "  File \"/opt/conda/lib/python3.7/site-packages/joblib/_parallel_backends.py\", line 590, in __init__\n",
      "    self.results = batch()\n",
      "  File \"/opt/conda/lib/python3.7/site-packages/joblib/parallel.py\", line 256, in __call__\n",
      "    for func, args, kwargs in self.items]\n",
      "  File \"/opt/conda/lib/python3.7/site-packages/joblib/parallel.py\", line 256, in <listcomp>\n",
      "    for func, args, kwargs in self.items]\n",
      "  File \"/opt/conda/lib/python3.7/site-packages/sklearn/ensemble/_forest.py\", line 168, in _parallel_build_trees\n",
      "    tree.fit(X, y, sample_weight=curr_sample_weight, check_input=False)\n",
      "  File \"/opt/conda/lib/python3.7/site-packages/sklearn/tree/_classes.py\", line 894, in fit\n",
      "    X_idx_sorted=X_idx_sorted)\n",
      "  File \"/opt/conda/lib/python3.7/site-packages/sklearn/tree/_classes.py\", line 279, in fit\n",
      "    raise ValueError(\"max_features must be in (0, n_features]\")\n",
      "ValueError: max_features must be in (0, n_features]\n",
      "\n",
      "  FitFailedWarning)\n"
     ]
    },
    {
     "data": {
      "text/plain": [
       "GridSearchCV(cv=5,\n",
       "             estimator=RandomForestClassifier(n_estimators=95,\n",
       "                                              random_state=2020),\n",
       "             param_grid={'max_features': array([ 5, 15, 25, 35, 45, 55, 65, 75, 85, 95])},\n",
       "             scoring='accuracy')"
      ]
     },
     "execution_count": 52,
     "metadata": {},
     "output_type": "execute_result"
    }
   ],
   "source": [
    "rf_params_max_features = {'max_features': np.arange(5, 100, 10)}\n",
    "rf_max_features = RandomForestClassifier(n_estimators=95, random_state=2020)\n",
    "rf_grid_max_features = GridSearchCV(rf_max_features, rf_params_max_features, cv=5, scoring='accuracy')\n",
    "rf_grid_max_features.fit(X_train, y_train)"
   ]
  },
  {
   "cell_type": "code",
   "execution_count": 53,
   "metadata": {
    "execution": {
     "iopub.execute_input": "2020-10-19T09:47:50.717623Z",
     "iopub.status.busy": "2020-10-19T09:47:50.716541Z",
     "iopub.status.idle": "2020-10-19T09:47:50.722076Z",
     "shell.execute_reply": "2020-10-19T09:47:50.721410Z"
    },
    "papermill": {
     "duration": 0.124538,
     "end_time": "2020-10-19T09:47:50.722234",
     "exception": false,
     "start_time": "2020-10-19T09:47:50.597696",
     "status": "completed"
    },
    "tags": []
   },
   "outputs": [
    {
     "name": "stdout",
     "output_type": "stream",
     "text": [
      "0.8569063072672058\n",
      "{'max_features': 45}\n",
      "RandomForestClassifier(max_features=45, n_estimators=95, random_state=2020)\n"
     ]
    }
   ],
   "source": [
    "print(rf_grid_max_features.best_score_)\n",
    "print(rf_grid_max_features.best_params_)\n",
    "print(rf_grid_max_features.best_estimator_)"
   ]
  },
  {
   "cell_type": "code",
   "execution_count": 54,
   "metadata": {
    "execution": {
     "iopub.execute_input": "2020-10-19T09:47:50.964250Z",
     "iopub.status.busy": "2020-10-19T09:47:50.963139Z",
     "iopub.status.idle": "2020-10-19T09:47:51.163940Z",
     "shell.execute_reply": "2020-10-19T09:47:51.163102Z"
    },
    "papermill": {
     "duration": 0.32916,
     "end_time": "2020-10-19T09:47:51.164111",
     "exception": false,
     "start_time": "2020-10-19T09:47:50.834951",
     "status": "completed"
    },
    "tags": []
   },
   "outputs": [
    {
     "data": {
      "text/plain": [
       "Text(0, 0.5, 'Mean accuracy on test set')"
      ]
     },
     "execution_count": 54,
     "metadata": {},
     "output_type": "execute_result"
    },
    {
     "data": {
      "image/png": "[encoded data removed]",
      "text/plain": [
       "<Figure size 432x288 with 1 Axes>"
      ]
     },
     "metadata": {
      "needs_background": "light"
     },
     "output_type": "display_data"
    }
   ],
   "source": [
    "fig, ax = plt.subplots() \n",
    "\n",
    "ax.plot(rf_params_max_features['max_features'], rf_grid_max_features.cv_results_['mean_test_score']) # accuracy vs max_depth\n",
    "ax.set_xlabel('max_features')\n",
    "ax.set_ylabel('Mean accuracy on test set')"
   ]
  },
  {
   "cell_type": "markdown",
   "metadata": {
    "papermill": {
     "duration": 0.112213,
     "end_time": "2020-10-19T09:47:51.388212",
     "exception": false,
     "start_time": "2020-10-19T09:47:51.275999",
     "status": "completed"
    },
    "tags": []
   },
   "source": [
    "Лучшее значение max_features получили 45"
   ]
  },
  {
   "cell_type": "code",
   "execution_count": 55,
   "metadata": {
    "execution": {
     "iopub.execute_input": "2020-10-19T09:47:51.621905Z",
     "iopub.status.busy": "2020-10-19T09:47:51.621040Z",
     "iopub.status.idle": "2020-10-19T09:49:20.291327Z",
     "shell.execute_reply": "2020-10-19T09:49:20.292031Z"
    },
    "papermill": {
     "duration": 88.792434,
     "end_time": "2020-10-19T09:49:20.292244",
     "exception": false,
     "start_time": "2020-10-19T09:47:51.499810",
     "status": "completed"
    },
    "tags": []
   },
   "outputs": [
    {
     "data": {
      "text/plain": [
       "GridSearchCV(cv=5,\n",
       "             estimator=RandomForestClassifier(max_features=45, n_estimators=95,\n",
       "                                              random_state=2020),\n",
       "             param_grid={'max_depth': array([ 2,  3,  4,  5,  6,  7,  8,  9, 10])},\n",
       "             scoring='accuracy')"
      ]
     },
     "execution_count": 55,
     "metadata": {},
     "output_type": "execute_result"
    }
   ],
   "source": [
    "rf_params_max_depth = {'max_depth': np.arange(2, 11)}\n",
    "rf_max_depth = RandomForestClassifier(n_estimators=95, max_features=45, random_state=2020)\n",
    "rf_grid_max_depth = GridSearchCV(rf_max_depth, rf_params_max_depth, cv=5, scoring='accuracy') \n",
    "rf_grid_max_depth.fit(X_train, y_train)"
   ]
  },
  {
   "cell_type": "code",
   "execution_count": 56,
   "metadata": {
    "execution": {
     "iopub.execute_input": "2020-10-19T09:49:20.529378Z",
     "iopub.status.busy": "2020-10-19T09:49:20.528227Z",
     "iopub.status.idle": "2020-10-19T09:49:20.532222Z",
     "shell.execute_reply": "2020-10-19T09:49:20.532839Z"
    },
    "papermill": {
     "duration": 0.126933,
     "end_time": "2020-10-19T09:49:20.533060",
     "exception": false,
     "start_time": "2020-10-19T09:49:20.406127",
     "status": "completed"
    },
    "tags": []
   },
   "outputs": [
    {
     "name": "stdout",
     "output_type": "stream",
     "text": [
      "0.8511461837973693\n",
      "{'max_depth': 10}\n",
      "RandomForestClassifier(max_depth=10, max_features=45, n_estimators=95,\n",
      "                       random_state=2020)\n"
     ]
    }
   ],
   "source": [
    "print(rf_grid_max_depth.best_score_)\n",
    "print(rf_grid_max_depth.best_params_)\n",
    "print(rf_grid_max_depth.best_estimator_)"
   ]
  },
  {
   "cell_type": "code",
   "execution_count": 57,
   "metadata": {
    "execution": {
     "iopub.execute_input": "2020-10-19T09:49:20.775111Z",
     "iopub.status.busy": "2020-10-19T09:49:20.773493Z",
     "iopub.status.idle": "2020-10-19T09:49:20.967438Z",
     "shell.execute_reply": "2020-10-19T09:49:20.966544Z"
    },
    "papermill": {
     "duration": 0.318479,
     "end_time": "2020-10-19T09:49:20.967620",
     "exception": false,
     "start_time": "2020-10-19T09:49:20.649141",
     "status": "completed"
    },
    "tags": []
   },
   "outputs": [
    {
     "data": {
      "text/plain": [
       "Text(0, 0.5, 'Mean accuracy on test set')"
      ]
     },
     "execution_count": 57,
     "metadata": {},
     "output_type": "execute_result"
    },
    {
     "data": {
      "image/png": "[encoded data removed]",
      "text/plain": [
       "<Figure size 432x288 with 1 Axes>"
      ]
     },
     "metadata": {
      "needs_background": "light"
     },
     "output_type": "display_data"
    }
   ],
   "source": [
    "fig, ax = plt.subplots() \n",
    "\n",
    "ax.plot(rf_params_max_depth['max_depth'], rf_grid_max_depth.cv_results_['mean_test_score']) # accuracy vs max_depth\n",
    "ax.set_xlabel('max_depth')\n",
    "ax.set_ylabel('Mean accuracy on test set')"
   ]
  },
  {
   "cell_type": "markdown",
   "metadata": {
    "papermill": {
     "duration": 0.117099,
     "end_time": "2020-10-19T09:49:21.202589",
     "exception": false,
     "start_time": "2020-10-19T09:49:21.085490",
     "status": "completed"
    },
    "tags": []
   },
   "source": [
    "Лучшее значение max_depth= 10."
   ]
  },
  {
   "cell_type": "code",
   "execution_count": 58,
   "metadata": {
    "execution": {
     "iopub.execute_input": "2020-10-19T09:49:21.452977Z",
     "iopub.status.busy": "2020-10-19T09:49:21.451659Z",
     "iopub.status.idle": "2020-10-19T09:50:18.778864Z",
     "shell.execute_reply": "2020-10-19T09:50:18.779643Z"
    },
    "papermill": {
     "duration": 57.456623,
     "end_time": "2020-10-19T09:50:18.779864",
     "exception": false,
     "start_time": "2020-10-19T09:49:21.323241",
     "status": "completed"
    },
    "tags": []
   },
   "outputs": [
    {
     "data": {
      "text/plain": [
       "GridSearchCV(cv=5,\n",
       "             estimator=RandomForestClassifier(max_depth=10, max_features=45,\n",
       "                                              n_estimators=95,\n",
       "                                              random_state=22),\n",
       "             param_grid={'min_samples_leaf': array([3, 5, 7, 9])},\n",
       "             scoring='accuracy')"
      ]
     },
     "execution_count": 58,
     "metadata": {},
     "output_type": "execute_result"
    }
   ],
   "source": [
    "rf_params_min_samples_leaf = {'min_samples_leaf': np.arange(3, 10, 2)}\n",
    "rf_min_samples_leaf = RandomForestClassifier(n_estimators=95, max_features=45, max_depth=10, random_state=22)\n",
    "rf_grid_min_samples_leaf = GridSearchCV(rf_min_samples_leaf, rf_params_min_samples_leaf, cv=5, scoring='accuracy')\n",
    "rf_grid_min_samples_leaf.fit(X_train, y_train)"
   ]
  },
  {
   "cell_type": "code",
   "execution_count": 59,
   "metadata": {
    "execution": {
     "iopub.execute_input": "2020-10-19T09:50:19.025926Z",
     "iopub.status.busy": "2020-10-19T09:50:19.024659Z",
     "iopub.status.idle": "2020-10-19T09:50:19.030240Z",
     "shell.execute_reply": "2020-10-19T09:50:19.028964Z"
    },
    "papermill": {
     "duration": 0.132388,
     "end_time": "2020-10-19T09:50:19.030461",
     "exception": false,
     "start_time": "2020-10-19T09:50:18.898073",
     "status": "completed"
    },
    "tags": []
   },
   "outputs": [
    {
     "name": "stdout",
     "output_type": "stream",
     "text": [
      "0.8490978559076204\n",
      "{'min_samples_leaf': 3}\n",
      "RandomForestClassifier(max_depth=10, max_features=45, min_samples_leaf=3,\n",
      "                       n_estimators=95, random_state=22)\n"
     ]
    }
   ],
   "source": [
    "print(rf_grid_min_samples_leaf.best_score_)\n",
    "print(rf_grid_min_samples_leaf.best_params_)\n",
    "print(rf_grid_min_samples_leaf.best_estimator_)"
   ]
  },
  {
   "cell_type": "code",
   "execution_count": 60,
   "metadata": {
    "execution": {
     "iopub.execute_input": "2020-10-19T09:50:19.278297Z",
     "iopub.status.busy": "2020-10-19T09:50:19.277282Z",
     "iopub.status.idle": "2020-10-19T09:50:19.474047Z",
     "shell.execute_reply": "2020-10-19T09:50:19.473116Z"
    },
    "papermill": {
     "duration": 0.324134,
     "end_time": "2020-10-19T09:50:19.474211",
     "exception": false,
     "start_time": "2020-10-19T09:50:19.150077",
     "status": "completed"
    },
    "tags": []
   },
   "outputs": [
    {
     "data": {
      "text/plain": [
       "Text(0, 0.5, 'Mean accuracy on test set')"
      ]
     },
     "execution_count": 60,
     "metadata": {},
     "output_type": "execute_result"
    },
    {
     "data": {
      "image/png": "[encoded data removed]",
      "text/plain": [
       "<Figure size 432x288 with 1 Axes>"
      ]
     },
     "metadata": {
      "needs_background": "light"
     },
     "output_type": "display_data"
    }
   ],
   "source": [
    "fig, ax = plt.subplots() \n",
    "\n",
    "ax.plot(rf_params_min_samples_leaf['min_samples_leaf'], rf_grid_min_samples_leaf.cv_results_['mean_test_score']) # accuracy vs max_depth\n",
    "ax.set_xlabel('min_samples_leaf')\n",
    "ax.set_ylabel('Mean accuracy on test set')"
   ]
  },
  {
   "cell_type": "markdown",
   "metadata": {
    "papermill": {
     "duration": 0.119262,
     "end_time": "2020-10-19T09:50:19.714795",
     "exception": false,
     "start_time": "2020-10-19T09:50:19.595533",
     "status": "completed"
    },
    "tags": []
   },
   "source": [
    "Лучшее значение min_samples_leaf = 3."
   ]
  },
  {
   "cell_type": "markdown",
   "metadata": {
    "papermill": {
     "duration": 0.117892,
     "end_time": "2020-10-19T09:50:19.951275",
     "exception": false,
     "start_time": "2020-10-19T09:50:19.833383",
     "status": "completed"
    },
    "tags": []
   },
   "source": [
    "4 . Оцените важность признаков в данной модели. Визуализируйте топ - 10 самых полезных признаков с помощью столбчатой диаграммы."
   ]
  },
  {
   "cell_type": "code",
   "execution_count": 61,
   "metadata": {
    "execution": {
     "iopub.execute_input": "2020-10-19T09:50:20.204729Z",
     "iopub.status.busy": "2020-10-19T09:50:20.203515Z",
     "iopub.status.idle": "2020-10-19T09:53:46.619270Z",
     "shell.execute_reply": "2020-10-19T09:53:46.620201Z"
    },
    "papermill": {
     "duration": 206.548339,
     "end_time": "2020-10-19T09:53:46.620484",
     "exception": false,
     "start_time": "2020-10-19T09:50:20.072145",
     "status": "completed"
    },
    "tags": []
   },
   "outputs": [
    {
     "name": "stdout",
     "output_type": "stream",
     "text": [
      "0.8506348391050075\n",
      "{'max_depth': 12, 'n_estimators': 195}\n"
     ]
    }
   ],
   "source": [
    "rf_params = {'n_estimators': np.arange(165, 196, 10), 'max_depth': np.arange(6, 13)}\n",
    "rf = RandomForestClassifier(random_state=22)\n",
    "rf_grid = GridSearchCV(rf, rf_params, cv=5, scoring='accuracy')\n",
    "rf_grid.fit(X_train, y_train)\n",
    "\n",
    "print(rf_grid.best_score_)\n",
    "print(rf_grid.best_params_)\n",
    "#print(rf_grid.best_estimator_)"
   ]
  },
  {
   "cell_type": "code",
   "execution_count": 62,
   "metadata": {
    "execution": {
     "iopub.execute_input": "2020-10-19T09:53:46.874943Z",
     "iopub.status.busy": "2020-10-19T09:53:46.873625Z",
     "iopub.status.idle": "2020-10-19T09:53:47.173798Z",
     "shell.execute_reply": "2020-10-19T09:53:47.172977Z"
    },
    "papermill": {
     "duration": 0.435547,
     "end_time": "2020-10-19T09:53:47.173964",
     "exception": false,
     "start_time": "2020-10-19T09:53:46.738417",
     "status": "completed"
    },
    "tags": []
   },
   "outputs": [
    {
     "name": "stdout",
     "output_type": "stream",
     "text": [
      "Feature ranking:\n",
      "1 duration 0.38250360861812094\n",
      "2 poutcome_success 0.05281087738405824\n",
      "3 balance 0.052262025893729164\n",
      "4 age 0.050496053685824396\n",
      "5 contact_unknown 0.04296544300677805\n",
      "6 day 0.04030255756108947\n",
      "7 pdays 0.0399759122600936\n",
      "8 previous 0.027349285762291956\n",
      "9 campaign 0.024074259718408892\n",
      "10 housing_yes 0.022608225561915836\n"
     ]
    },
    {
     "data": {
      "image/png": "[encoded data removed]",
      "text/plain": [
       "<Figure size 1080x360 with 1 Axes>"
      ]
     },
     "metadata": {
      "needs_background": "light"
     },
     "output_type": "display_data"
    }
   ],
   "source": [
    "features = dict(zip(range(len(X.columns)), X.columns))\n",
    "\n",
    "# Важность признаков\n",
    "importances = rf_grid.best_estimator_.feature_importances_\n",
    "\n",
    "indices = np.argsort(importances)[::-1]\n",
    "# Plot the feature importancies of the forest\n",
    "num_to_plot = min(10, len(X.columns))\n",
    "feature_indices = [ind for ind in indices[:num_to_plot]]\n",
    "\n",
    "# Print the feature ranking\n",
    "print(\"Feature ranking:\")\n",
    "\n",
    "for f in range(num_to_plot):\n",
    "    print(f+1, features[feature_indices[f]], importances[indices[f]])\n",
    "\n",
    "plt.figure(figsize=(15,5))\n",
    "plt.title(\"Feature importances\")\n",
    "bars = plt.bar(range(num_to_plot), \n",
    "               importances[indices[:num_to_plot]],\n",
    "               color=([str(i/float(num_to_plot+1)) for i in range(num_to_plot)]),\n",
    "               align=\"center\")\n",
    "ticks = plt.xticks(range(num_to_plot), \n",
    "                   feature_indices)\n",
    "plt.xlim([-1, num_to_plot])\n",
    "plt.legend(bars, [u''.join(features[i]) for i in feature_indices])\n",
    "plt.show()\n"
   ]
  },
  {
   "cell_type": "markdown",
   "metadata": {
    "papermill": {
     "duration": 0.120567,
     "end_time": "2020-10-19T09:53:47.416216",
     "exception": false,
     "start_time": "2020-10-19T09:53:47.295649",
     "status": "completed"
    },
    "tags": []
   },
   "source": [
    "5 . Сравните результаты трёх моделей: метода ближайших соседей, дерева решений и случайного леса. Сформулируйте выводы ."
   ]
  },
  {
   "cell_type": "markdown",
   "metadata": {
    "papermill": {
     "duration": 0.121444,
     "end_time": "2020-10-19T09:53:47.658081",
     "exception": false,
     "start_time": "2020-10-19T09:53:47.536637",
     "status": "completed"
    },
    "tags": []
   },
   "source": [
    "1. Метод ближайших соседей оказался худшим среди всех и потратил больше всего времени на выполнение работы.\n",
    "2. Дерево решений было достаточно быстрым. Справляется с задачами намного быстрее метода ближайших соседей.\n",
    "3. Наилучшую точность показал случайный лес."
   ]
  }
 ],
 "metadata": {
  "kernelspec": {
   "display_name": "Python 3",
   "language": "python",
   "name": "python3"
  },
  "language_info": {
   "codemirror_mode": {
    "name": "ipython",
    "version": 3
   },
   "file_extension": ".py",
   "mimetype": "text/x-python",
   "name": "python",
   "nbconvert_exporter": "python",
   "pygments_lexer": "ipython3",
   "version": "3.7.6"
  },
  "papermill": {
   "duration": 725.0846,
   "end_time": "2020-10-19T09:53:47.889635",
   "environment_variables": {},
   "exception": null,
   "input_path": "__notebook__.ipynb",
   "output_path": "__notebook__.ipynb",
   "parameters": {},
   "start_time": "2020-10-19T09:41:42.805035",
   "version": "2.1.0"
  }
 },
 "nbformat": 4,
 "nbformat_minor": 4
}
