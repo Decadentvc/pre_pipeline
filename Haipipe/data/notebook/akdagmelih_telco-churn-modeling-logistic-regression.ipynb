{
 "cells": [
  {
   "cell_type": "markdown",
   "metadata": {
    "papermill": {
     "duration": 0.034374,
     "end_time": "2020-09-24T13:52:20.415527",
     "exception": false,
     "start_time": "2020-09-24T13:52:20.381153",
     "status": "completed"
    },
    "tags": []
   },
   "source": [
    "# TELCO CUSTOMER CHURN PREDICTION MODEL\n",
    "\n",
    "In this study, I worked on customer churn prediction using logistic regression.\n",
    "\n",
    "Churn data is important for the companies. The decision makers could take precautions and maybe offer deals to the customers who would likely to end relationship with the company in the future by understanding the past customers' churn data.\n",
    "\n",
    "Designing a good classifier model is important to predict the future customers who would end the relationship with the company. While we wouldn't like to miss the customers who would churn, also we wouldn't like to spend exstra resources (contacting the customers, offering discounts or deals) for the customers who wouldn't churn. Deciding the right evaluation metric (accuracy, precision, recall, f1 score) becomes important for these kind of business concerns.  \n",
    "\n",
    "The important parts of the study are;\n",
    "\n",
    "a. The target variable labels (churn or not churn) are unbalanced,\n",
    "\n",
    "b. The difference between the model evaluation metrics (accuracy, precision, recall, f1 score),\n",
    "\n",
    "c. Deciding which metric to use for this specific application and setting a new threshold for the logistic regression prediction."
   ]
  },
  {
   "cell_type": "code",
   "execution_count": 1,
   "metadata": {
    "_cell_guid": "b1076dfc-b9ad-4769-8c92-a6c4dae69d19",
    "_kg_hide-input": true,
    "_kg_hide-output": true,
    "_uuid": "8f2839f25d086af736a60e9eeb907d3b93b6e0e5",
    "execution": {
     "iopub.execute_input": "2020-09-24T13:52:20.490044Z",
     "iopub.status.busy": "2020-09-24T13:52:20.489204Z",
     "iopub.status.idle": "2020-09-24T13:52:21.603168Z",
     "shell.execute_reply": "2020-09-24T13:52:21.602341Z"
    },
    "papermill": {
     "duration": 1.154349,
     "end_time": "2020-09-24T13:52:21.603303",
     "exception": false,
     "start_time": "2020-09-24T13:52:20.448954",
     "status": "completed"
    },
    "tags": []
   },
   "outputs": [],
   "source": [
    "import numpy as np\n",
    "import pandas as pd\n",
    "import matplotlib.pyplot as plt\n",
    "import seaborn as sns\n",
    "\n",
    "pd.set_option(\"display.max_columns\", 50)"
   ]
  },
  {
   "cell_type": "code",
   "execution_count": 2,
   "metadata": {
    "_cell_guid": "79c7e3d0-c299-4dcb-8224-4455121ee9b0",
    "_uuid": "d629ff2d2480ee46fbb7e2d37f6b5fab8052498a",
    "execution": {
     "iopub.execute_input": "2020-09-24T13:52:21.683116Z",
     "iopub.status.busy": "2020-09-24T13:52:21.682348Z",
     "iopub.status.idle": "2020-09-24T13:52:21.744023Z",
     "shell.execute_reply": "2020-09-24T13:52:21.743250Z"
    },
    "papermill": {
     "duration": 0.107248,
     "end_time": "2020-09-24T13:52:21.744145",
     "exception": false,
     "start_time": "2020-09-24T13:52:21.636897",
     "status": "completed"
    },
    "tags": []
   },
   "outputs": [],
   "source": [
    "dataset = pd.read_csv('../input/telco-customer-churn/WA_Fn-UseC_-Telco-Customer-Churn.csv')\n",
    "df = dataset.copy()"
   ]
  },
  {
   "cell_type": "code",
   "execution_count": 3,
   "metadata": {
    "execution": {
     "iopub.execute_input": "2020-09-24T13:52:21.835089Z",
     "iopub.status.busy": "2020-09-24T13:52:21.834242Z",
     "iopub.status.idle": "2020-09-24T13:52:21.853727Z",
     "shell.execute_reply": "2020-09-24T13:52:21.852788Z"
    },
    "papermill": {
     "duration": 0.076533,
     "end_time": "2020-09-24T13:52:21.853916",
     "exception": false,
     "start_time": "2020-09-24T13:52:21.777383",
     "status": "completed"
    },
    "tags": []
   },
   "outputs": [
    {
     "data": {
      "text/html": [
       "<div>\n",
       "<style scoped>\n",
       "    .dataframe tbody tr th:only-of-type {\n",
       "        vertical-align: middle;\n",
       "    }\n",
       "\n",
       "    .dataframe tbody tr th {\n",
       "        vertical-align: top;\n",
       "    }\n",
       "\n",
       "    .dataframe thead th {\n",
       "        text-align: right;\n",
       "    }\n",
       "</style>\n",
       "<table border=\"1\" class=\"dataframe\">\n",
       "  <thead>\n",
       "    <tr style=\"text-align: right;\">\n",
       "      <th></th>\n",
       "      <th>customerID</th>\n",
       "      <th>gender</th>\n",
       "      <th>SeniorCitizen</th>\n",
       "      <th>Partner</th>\n",
       "      <th>Dependents</th>\n",
       "      <th>tenure</th>\n",
       "      <th>PhoneService</th>\n",
       "      <th>MultipleLines</th>\n",
       "      <th>InternetService</th>\n",
       "      <th>OnlineSecurity</th>\n",
       "      <th>OnlineBackup</th>\n",
       "      <th>DeviceProtection</th>\n",
       "      <th>TechSupport</th>\n",
       "      <th>StreamingTV</th>\n",
       "      <th>StreamingMovies</th>\n",
       "      <th>Contract</th>\n",
       "      <th>PaperlessBilling</th>\n",
       "      <th>PaymentMethod</th>\n",
       "      <th>MonthlyCharges</th>\n",
       "      <th>TotalCharges</th>\n",
       "      <th>Churn</th>\n",
       "    </tr>\n",
       "  </thead>\n",
       "  <tbody>\n",
       "    <tr>\n",
       "      <th>0</th>\n",
       "      <td>7590-VHVEG</td>\n",
       "      <td>Female</td>\n",
       "      <td>0</td>\n",
       "      <td>Yes</td>\n",
       "      <td>No</td>\n",
       "      <td>1</td>\n",
       "      <td>No</td>\n",
       "      <td>No phone service</td>\n",
       "      <td>DSL</td>\n",
       "      <td>No</td>\n",
       "      <td>Yes</td>\n",
       "      <td>No</td>\n",
       "      <td>No</td>\n",
       "      <td>No</td>\n",
       "      <td>No</td>\n",
       "      <td>Month-to-month</td>\n",
       "      <td>Yes</td>\n",
       "      <td>Electronic check</td>\n",
       "      <td>29.85</td>\n",
       "      <td>29.85</td>\n",
       "      <td>No</td>\n",
       "    </tr>\n",
       "    <tr>\n",
       "      <th>1</th>\n",
       "      <td>5575-GNVDE</td>\n",
       "      <td>Male</td>\n",
       "      <td>0</td>\n",
       "      <td>No</td>\n",
       "      <td>No</td>\n",
       "      <td>34</td>\n",
       "      <td>Yes</td>\n",
       "      <td>No</td>\n",
       "      <td>DSL</td>\n",
       "      <td>Yes</td>\n",
       "      <td>No</td>\n",
       "      <td>Yes</td>\n",
       "      <td>No</td>\n",
       "      <td>No</td>\n",
       "      <td>No</td>\n",
       "      <td>One year</td>\n",
       "      <td>No</td>\n",
       "      <td>Mailed check</td>\n",
       "      <td>56.95</td>\n",
       "      <td>1889.5</td>\n",
       "      <td>No</td>\n",
       "    </tr>\n",
       "    <tr>\n",
       "      <th>2</th>\n",
       "      <td>3668-QPYBK</td>\n",
       "      <td>Male</td>\n",
       "      <td>0</td>\n",
       "      <td>No</td>\n",
       "      <td>No</td>\n",
       "      <td>2</td>\n",
       "      <td>Yes</td>\n",
       "      <td>No</td>\n",
       "      <td>DSL</td>\n",
       "      <td>Yes</td>\n",
       "      <td>Yes</td>\n",
       "      <td>No</td>\n",
       "      <td>No</td>\n",
       "      <td>No</td>\n",
       "      <td>No</td>\n",
       "      <td>Month-to-month</td>\n",
       "      <td>Yes</td>\n",
       "      <td>Mailed check</td>\n",
       "      <td>53.85</td>\n",
       "      <td>108.15</td>\n",
       "      <td>Yes</td>\n",
       "    </tr>\n",
       "    <tr>\n",
       "      <th>3</th>\n",
       "      <td>7795-CFOCW</td>\n",
       "      <td>Male</td>\n",
       "      <td>0</td>\n",
       "      <td>No</td>\n",
       "      <td>No</td>\n",
       "      <td>45</td>\n",
       "      <td>No</td>\n",
       "      <td>No phone service</td>\n",
       "      <td>DSL</td>\n",
       "      <td>Yes</td>\n",
       "      <td>No</td>\n",
       "      <td>Yes</td>\n",
       "      <td>Yes</td>\n",
       "      <td>No</td>\n",
       "      <td>No</td>\n",
       "      <td>One year</td>\n",
       "      <td>No</td>\n",
       "      <td>Bank transfer (automatic)</td>\n",
       "      <td>42.30</td>\n",
       "      <td>1840.75</td>\n",
       "      <td>No</td>\n",
       "    </tr>\n",
       "    <tr>\n",
       "      <th>4</th>\n",
       "      <td>9237-HQITU</td>\n",
       "      <td>Female</td>\n",
       "      <td>0</td>\n",
       "      <td>No</td>\n",
       "      <td>No</td>\n",
       "      <td>2</td>\n",
       "      <td>Yes</td>\n",
       "      <td>No</td>\n",
       "      <td>Fiber optic</td>\n",
       "      <td>No</td>\n",
       "      <td>No</td>\n",
       "      <td>No</td>\n",
       "      <td>No</td>\n",
       "      <td>No</td>\n",
       "      <td>No</td>\n",
       "      <td>Month-to-month</td>\n",
       "      <td>Yes</td>\n",
       "      <td>Electronic check</td>\n",
       "      <td>70.70</td>\n",
       "      <td>151.65</td>\n",
       "      <td>Yes</td>\n",
       "    </tr>\n",
       "  </tbody>\n",
       "</table>\n",
       "</div>"
      ],
      "text/plain": [
       "   customerID  gender  SeniorCitizen Partner Dependents  tenure PhoneService  \\\n",
       "0  7590-VHVEG  Female              0     Yes         No       1           No   \n",
       "1  5575-GNVDE    Male              0      No         No      34          Yes   \n",
       "2  3668-QPYBK    Male              0      No         No       2          Yes   \n",
       "3  7795-CFOCW    Male              0      No         No      45           No   \n",
       "4  9237-HQITU  Female              0      No         No       2          Yes   \n",
       "\n",
       "      MultipleLines InternetService OnlineSecurity OnlineBackup  \\\n",
       "0  No phone service             DSL             No          Yes   \n",
       "1                No             DSL            Yes           No   \n",
       "2                No             DSL            Yes          Yes   \n",
       "3  No phone service             DSL            Yes           No   \n",
       "4                No     Fiber optic             No           No   \n",
       "\n",
       "  DeviceProtection TechSupport StreamingTV StreamingMovies        Contract  \\\n",
       "0               No          No          No              No  Month-to-month   \n",
       "1              Yes          No          No              No        One year   \n",
       "2               No          No          No              No  Month-to-month   \n",
       "3              Yes         Yes          No              No        One year   \n",
       "4               No          No          No              No  Month-to-month   \n",
       "\n",
       "  PaperlessBilling              PaymentMethod  MonthlyCharges TotalCharges  \\\n",
       "0              Yes           Electronic check           29.85        29.85   \n",
       "1               No               Mailed check           56.95       1889.5   \n",
       "2              Yes               Mailed check           53.85       108.15   \n",
       "3               No  Bank transfer (automatic)           42.30      1840.75   \n",
       "4              Yes           Electronic check           70.70       151.65   \n",
       "\n",
       "  Churn  \n",
       "0    No  \n",
       "1    No  \n",
       "2   Yes  \n",
       "3    No  \n",
       "4   Yes  "
      ]
     },
     "execution_count": 3,
     "metadata": {},
     "output_type": "execute_result"
    }
   ],
   "source": [
    "df.head()"
   ]
  },
  {
   "cell_type": "markdown",
   "metadata": {
    "papermill": {
     "duration": 0.034393,
     "end_time": "2020-09-24T13:52:21.923629",
     "exception": false,
     "start_time": "2020-09-24T13:52:21.889236",
     "status": "completed"
    },
    "tags": []
   },
   "source": [
    "### EDA:\n",
    "\n",
    "**We should understand the dataset before implement a prediction model.**\n",
    "\n",
    "**Analyzing the customers' basic demography and churn distribution.**"
   ]
  },
  {
   "cell_type": "code",
   "execution_count": 4,
   "metadata": {
    "_kg_hide-input": true,
    "_kg_hide-output": false,
    "execution": {
     "iopub.execute_input": "2020-09-24T13:52:22.017822Z",
     "iopub.status.busy": "2020-09-24T13:52:22.016996Z",
     "iopub.status.idle": "2020-09-24T13:52:22.192253Z",
     "shell.execute_reply": "2020-09-24T13:52:22.191554Z"
    },
    "papermill": {
     "duration": 0.234667,
     "end_time": "2020-09-24T13:52:22.192395",
     "exception": false,
     "start_time": "2020-09-24T13:52:21.957728",
     "status": "completed"
    },
    "tags": []
   },
   "outputs": [
    {
     "data": {
      "image/png": "[encoded data removed]",
      "text/plain": [
       "<Figure size 720x720 with 2 Axes>"
      ]
     },
     "metadata": {},
     "output_type": "display_data"
    }
   ],
   "source": [
    "gender_label = df.gender.value_counts().index\n",
    "gender_size = df.gender.value_counts().values\n",
    "\n",
    "partner_label = df['Partner'].value_counts().index\n",
    "partner_size = df['Partner'].value_counts().values\n",
    "\n",
    "plt.figure(figsize=(10,10))\n",
    "plt.subplot(1,2,1)\n",
    "plt.pie(gender_size, labels=gender_label, colors=['cyan', 'pink'], autopct='%1.1f%%', shadow=True, startangle=45, textprops={'fontsize':25})\n",
    "plt.title('Gender Distribution of the Customers', color='navy', fontsize=15)\n",
    "\n",
    "plt.subplot(1,2,2)\n",
    "plt.pie(partner_size, labels=partner_label, colors=['cyan', 'pink'], autopct='%1.1f%%', shadow=True, startangle=45, textprops={'fontsize':25})\n",
    "plt.title('Maritial Status of the Customers', color='navy', fontsize=15);"
   ]
  },
  {
   "cell_type": "code",
   "execution_count": 5,
   "metadata": {
    "_kg_hide-input": true,
    "_kg_hide-output": false,
    "execution": {
     "iopub.execute_input": "2020-09-24T13:52:22.275761Z",
     "iopub.status.busy": "2020-09-24T13:52:22.272422Z",
     "iopub.status.idle": "2020-09-24T13:52:22.449233Z",
     "shell.execute_reply": "2020-09-24T13:52:22.448538Z"
    },
    "papermill": {
     "duration": 0.220279,
     "end_time": "2020-09-24T13:52:22.449367",
     "exception": false,
     "start_time": "2020-09-24T13:52:22.229088",
     "status": "completed"
    },
    "tags": []
   },
   "outputs": [
    {
     "data": {
      "image/png": "[encoded data removed]",
      "text/plain": [
       "<Figure size 576x360 with 1 Axes>"
      ]
     },
     "metadata": {
      "needs_background": "light"
     },
     "output_type": "display_data"
    }
   ],
   "source": [
    "plt.figure(figsize=(8,5))\n",
    "sns.countplot(df['Partner'], hue=df['Dependents'], palette='hls')\n",
    "plt.title('Maritial and Dependent Status of the Customers', color='navy', fontsize=15)\n",
    "plt.xlabel('Having Partner')\n",
    "plt.ylabel('No of Customers with Dependents');"
   ]
  },
  {
   "cell_type": "code",
   "execution_count": 6,
   "metadata": {
    "_kg_hide-input": true,
    "_kg_hide-output": false,
    "execution": {
     "iopub.execute_input": "2020-09-24T13:52:22.549488Z",
     "iopub.status.busy": "2020-09-24T13:52:22.548727Z",
     "iopub.status.idle": "2020-09-24T13:52:22.726596Z",
     "shell.execute_reply": "2020-09-24T13:52:22.725933Z"
    },
    "papermill": {
     "duration": 0.239527,
     "end_time": "2020-09-24T13:52:22.726721",
     "exception": false,
     "start_time": "2020-09-24T13:52:22.487194",
     "status": "completed"
    },
    "tags": []
   },
   "outputs": [
    {
     "data": {
      "image/png": "[encoded data removed]",
      "text/plain": [
       "<Figure size 1080x360 with 2 Axes>"
      ]
     },
     "metadata": {
      "needs_background": "light"
     },
     "output_type": "display_data"
    }
   ],
   "source": [
    "churn_label = df['Churn'].value_counts().index\n",
    "churn_color = ['cyan', 'red']\n",
    "churn_size = df['Churn'].value_counts().values\n",
    "\n",
    "plt.figure(figsize=(15,5))\n",
    "plt.subplot(1,2,1)\n",
    "plt.pie(churn_size, labels=churn_label, colors=churn_color, autopct='%1.1f%%', shadow=True, startangle=90, textprops={'fontsize':25})\n",
    "plt.title('Percentage of Churn', color='navy', fontsize=15)\n",
    "\n",
    "plt.subplot(1,2,2)\n",
    "sns.countplot(df['Churn'], palette={'No':'cyan', 'Yes':'red'})\n",
    "plt.title('Counts of Churn and No Churn', color='navy', fontsize=15)\n",
    "plt.ylabel('Counts of Churn');"
   ]
  },
  {
   "cell_type": "markdown",
   "metadata": {
    "papermill": {
     "duration": 0.038403,
     "end_time": "2020-09-24T13:52:22.803901",
     "exception": false,
     "start_time": "2020-09-24T13:52:22.765498",
     "status": "completed"
    },
    "tags": []
   },
   "source": [
    "**We can see that gender and marital status of the customers are balanced.**\n",
    "\n",
    "**But dependents information and churn distributions are inbalanced in our dataset.**\n",
    "\n",
    "**Now let's see the monthly and total charges distributions and the customers' loyalty to the company (Tenure: Length of time as months the customers have been a member of the company)**"
   ]
  },
  {
   "cell_type": "code",
   "execution_count": 7,
   "metadata": {
    "execution": {
     "iopub.execute_input": "2020-09-24T13:52:22.892379Z",
     "iopub.status.busy": "2020-09-24T13:52:22.891523Z",
     "iopub.status.idle": "2020-09-24T13:52:22.921654Z",
     "shell.execute_reply": "2020-09-24T13:52:22.921012Z"
    },
    "papermill": {
     "duration": 0.079594,
     "end_time": "2020-09-24T13:52:22.921783",
     "exception": false,
     "start_time": "2020-09-24T13:52:22.842189",
     "status": "completed"
    },
    "tags": []
   },
   "outputs": [
    {
     "data": {
      "text/html": [
       "<div>\n",
       "<style scoped>\n",
       "    .dataframe tbody tr th:only-of-type {\n",
       "        vertical-align: middle;\n",
       "    }\n",
       "\n",
       "    .dataframe tbody tr th {\n",
       "        vertical-align: top;\n",
       "    }\n",
       "\n",
       "    .dataframe thead th {\n",
       "        text-align: right;\n",
       "    }\n",
       "</style>\n",
       "<table border=\"1\" class=\"dataframe\">\n",
       "  <thead>\n",
       "    <tr style=\"text-align: right;\">\n",
       "      <th></th>\n",
       "      <th>MonthlyCharges</th>\n",
       "      <th>TotalCharges</th>\n",
       "      <th>tenure</th>\n",
       "    </tr>\n",
       "  </thead>\n",
       "  <tbody>\n",
       "    <tr>\n",
       "      <th>count</th>\n",
       "      <td>7043.000000</td>\n",
       "      <td>7032.000000</td>\n",
       "      <td>7043.000000</td>\n",
       "    </tr>\n",
       "    <tr>\n",
       "      <th>mean</th>\n",
       "      <td>64.761692</td>\n",
       "      <td>2283.300441</td>\n",
       "      <td>32.371149</td>\n",
       "    </tr>\n",
       "    <tr>\n",
       "      <th>std</th>\n",
       "      <td>30.090047</td>\n",
       "      <td>2266.771362</td>\n",
       "      <td>24.559481</td>\n",
       "    </tr>\n",
       "    <tr>\n",
       "      <th>min</th>\n",
       "      <td>18.250000</td>\n",
       "      <td>18.800000</td>\n",
       "      <td>0.000000</td>\n",
       "    </tr>\n",
       "    <tr>\n",
       "      <th>25%</th>\n",
       "      <td>35.500000</td>\n",
       "      <td>401.450000</td>\n",
       "      <td>9.000000</td>\n",
       "    </tr>\n",
       "    <tr>\n",
       "      <th>50%</th>\n",
       "      <td>70.350000</td>\n",
       "      <td>1397.475000</td>\n",
       "      <td>29.000000</td>\n",
       "    </tr>\n",
       "    <tr>\n",
       "      <th>75%</th>\n",
       "      <td>89.850000</td>\n",
       "      <td>3794.737500</td>\n",
       "      <td>55.000000</td>\n",
       "    </tr>\n",
       "    <tr>\n",
       "      <th>max</th>\n",
       "      <td>118.750000</td>\n",
       "      <td>8684.800000</td>\n",
       "      <td>72.000000</td>\n",
       "    </tr>\n",
       "  </tbody>\n",
       "</table>\n",
       "</div>"
      ],
      "text/plain": [
       "       MonthlyCharges  TotalCharges       tenure\n",
       "count     7043.000000   7032.000000  7043.000000\n",
       "mean        64.761692   2283.300441    32.371149\n",
       "std         30.090047   2266.771362    24.559481\n",
       "min         18.250000     18.800000     0.000000\n",
       "25%         35.500000    401.450000     9.000000\n",
       "50%         70.350000   1397.475000    29.000000\n",
       "75%         89.850000   3794.737500    55.000000\n",
       "max        118.750000   8684.800000    72.000000"
      ]
     },
     "execution_count": 7,
     "metadata": {},
     "output_type": "execute_result"
    }
   ],
   "source": [
    "#'Total Charges' feature should be float but it has an object type. So I will convert it into float type:\n",
    "df['TotalCharges'] = pd.to_numeric(df['TotalCharges'], errors='coerce')\n",
    "\n",
    "df[['MonthlyCharges', 'TotalCharges', 'tenure']].describe()"
   ]
  },
  {
   "cell_type": "code",
   "execution_count": 8,
   "metadata": {
    "_kg_hide-input": true,
    "_kg_hide-output": false,
    "execution": {
     "iopub.execute_input": "2020-09-24T13:52:23.018366Z",
     "iopub.status.busy": "2020-09-24T13:52:23.017381Z",
     "iopub.status.idle": "2020-09-24T13:52:23.690497Z",
     "shell.execute_reply": "2020-09-24T13:52:23.689650Z"
    },
    "papermill": {
     "duration": 0.729391,
     "end_time": "2020-09-24T13:52:23.690711",
     "exception": false,
     "start_time": "2020-09-24T13:52:22.961320",
     "status": "completed"
    },
    "tags": []
   },
   "outputs": [
    {
     "data": {
      "image/png": "[encoded data removed]",
      "text/plain": [
       "<Figure size 504x1224 with 3 Axes>"
      ]
     },
     "metadata": {
      "needs_background": "light"
     },
     "output_type": "display_data"
    }
   ],
   "source": [
    "plt.figure(figsize=(7,17))\n",
    "plt.subplot(3,1,1)\n",
    "sns.distplot(df['MonthlyCharges'])\n",
    "plt.title('Distribution of Monthly Charges', color='navy', fontsize=15)\n",
    "\n",
    "plt.subplot(3,1,2)\n",
    "sns.distplot(df['TotalCharges'])\n",
    "plt.title('Distribution of Total Charges', color='navy', fontsize=15)\n",
    "\n",
    "plt.subplot(3,1,3)\n",
    "sns.distplot(df['tenure'])\n",
    "plt.title('Tenure (Months) of the Customers', color='navy', fontsize=15);"
   ]
  },
  {
   "cell_type": "markdown",
   "metadata": {
    "papermill": {
     "duration": 0.054677,
     "end_time": "2020-09-24T13:52:23.808215",
     "exception": false,
     "start_time": "2020-09-24T13:52:23.753538",
     "status": "completed"
    },
    "tags": []
   },
   "source": [
    "**Now we can analyze the contract and internet usage information.**"
   ]
  },
  {
   "cell_type": "code",
   "execution_count": 9,
   "metadata": {
    "_kg_hide-input": true,
    "execution": {
     "iopub.execute_input": "2020-09-24T13:52:24.004810Z",
     "iopub.status.busy": "2020-09-24T13:52:24.003657Z",
     "iopub.status.idle": "2020-09-24T13:52:24.951978Z",
     "shell.execute_reply": "2020-09-24T13:52:24.951375Z"
    },
    "papermill": {
     "duration": 1.102966,
     "end_time": "2020-09-24T13:52:24.952117",
     "exception": false,
     "start_time": "2020-09-24T13:52:23.849151",
     "status": "completed"
    },
    "tags": []
   },
   "outputs": [
    {
     "data": {
      "image/png": "[encoded data removed]",
      "text/plain": [
       "<Figure size 1080x1080 with 6 Axes>"
      ]
     },
     "metadata": {
      "needs_background": "light"
     },
     "output_type": "display_data"
    }
   ],
   "source": [
    "plt.figure(figsize=(15,15))\n",
    "plt.subplot(3,2,1)\n",
    "sns.countplot(df['Contract'], hue=df['Churn'], palette=['cyan', 'red'])\n",
    "\n",
    "plt.subplot(3,2,2)\n",
    "sns.countplot(df['PhoneService'], hue=df['Churn'], palette=['cyan', 'red'])\n",
    "\n",
    "plt.subplot(3,2,3)\n",
    "sns.countplot(df['InternetService'], hue=df['Churn'], palette=['cyan', 'red'])\n",
    "\n",
    "plt.subplot(3,2,4)\n",
    "sns.countplot(df['StreamingTV'], hue=df['Churn'], palette=['cyan', 'red'])\n",
    "\n",
    "plt.subplot(3,2,5)\n",
    "sns.countplot(df['StreamingMovies'], hue=df['Churn'], palette=['cyan', 'red'])\n",
    "\n",
    "plt.subplot(3,2,6)\n",
    "sns.countplot(df['PaymentMethod'], hue=df['Churn'], palette=['cyan', 'red'])\n",
    "plt.xticks(rotation=45);"
   ]
  },
  {
   "cell_type": "markdown",
   "metadata": {
    "papermill": {
     "duration": 0.04319,
     "end_time": "2020-09-24T13:52:25.038806",
     "exception": false,
     "start_time": "2020-09-24T13:52:24.995616",
     "status": "completed"
    },
    "tags": []
   },
   "source": [
    "## Data Preparation and Feature Engineering:\n",
    " \n",
    "**For the binary features I will use Label Encoding and for the others I will use One Hot Encoding method to prepare my features. I could have only use one hot encoding instead, but I wanted to demonstrate how to use label encoder method as well.**\n",
    "\n",
    "### Label Encoding:"
   ]
  },
  {
   "cell_type": "code",
   "execution_count": 10,
   "metadata": {
    "execution": {
     "iopub.execute_input": "2020-09-24T13:52:25.134123Z",
     "iopub.status.busy": "2020-09-24T13:52:25.133297Z",
     "iopub.status.idle": "2020-09-24T13:52:25.239885Z",
     "shell.execute_reply": "2020-09-24T13:52:25.239227Z"
    },
    "papermill": {
     "duration": 0.158053,
     "end_time": "2020-09-24T13:52:25.240020",
     "exception": false,
     "start_time": "2020-09-24T13:52:25.081967",
     "status": "completed"
    },
    "tags": []
   },
   "outputs": [],
   "source": [
    "# Label encoding for 'Yes' and 'No' features:\n",
    "from sklearn.preprocessing import LabelEncoder\n",
    "encoder = LabelEncoder()\n",
    "\n",
    "binary_cols = ['gender', 'Partner', 'Dependents', 'PhoneService', 'PaperlessBilling', 'Churn']\n",
    "df[binary_cols] = df[binary_cols].astype('category')\n",
    "\n",
    "for each in binary_cols:\n",
    "    df[each] = encoder.fit_transform(df[each])"
   ]
  },
  {
   "cell_type": "markdown",
   "metadata": {
    "papermill": {
     "duration": 0.042772,
     "end_time": "2020-09-24T13:52:25.327021",
     "exception": false,
     "start_time": "2020-09-24T13:52:25.284249",
     "status": "completed"
    },
    "tags": []
   },
   "source": [
    "### One Hot Encoding:"
   ]
  },
  {
   "cell_type": "code",
   "execution_count": 11,
   "metadata": {
    "_kg_hide-input": true,
    "execution": {
     "iopub.execute_input": "2020-09-24T13:52:25.425499Z",
     "iopub.status.busy": "2020-09-24T13:52:25.424659Z",
     "iopub.status.idle": "2020-09-24T13:52:25.442996Z",
     "shell.execute_reply": "2020-09-24T13:52:25.443696Z"
    },
    "papermill": {
     "duration": 0.07268,
     "end_time": "2020-09-24T13:52:25.443859",
     "exception": false,
     "start_time": "2020-09-24T13:52:25.371179",
     "status": "completed"
    },
    "tags": []
   },
   "outputs": [
    {
     "name": "stdout",
     "output_type": "stream",
     "text": [
      "MultipleLines Values   :  ['No phone service' 'No' 'Yes']\n",
      "Contract Values        :  ['Month-to-month' 'One year' 'Two year']\n",
      "InternetService Values :  ['DSL' 'Fiber optic' 'No']\n",
      "PaymentMethod Values   :  ['Electronic check' 'Mailed check' 'Bank transfer (automatic)'\n",
      " 'Credit card (automatic)']\n",
      "OnlineSecurity Values  :  ['No' 'Yes' 'No internet service']\n",
      "OnlineBackup Values    :  ['Yes' 'No' 'No internet service']\n",
      "DeviceProtection Values:  ['No' 'Yes' 'No internet service']\n",
      "TechSupport Values     :  ['No' 'Yes' 'No internet service']\n",
      "StreamingTV Values     :  ['No' 'Yes' 'No internet service']\n",
      "StreamingMovies Values :  ['No' 'Yes' 'No internet service']\n"
     ]
    }
   ],
   "source": [
    "# Features with multiple values:\n",
    "print('MultipleLines Values   : ', df['MultipleLines'].unique())\n",
    "print('Contract Values        : ', df['Contract'].unique())\n",
    "print('InternetService Values : ', df['InternetService'].unique())\n",
    "print('PaymentMethod Values   : ', df['PaymentMethod'].unique())\n",
    "print('OnlineSecurity Values  : ', df['OnlineSecurity'].unique())\n",
    "print('OnlineBackup Values    : ', df['OnlineBackup'].unique())\n",
    "print('DeviceProtection Values: ', df['DeviceProtection'].unique())\n",
    "print('TechSupport Values     : ', df['TechSupport'].unique())\n",
    "print('StreamingTV Values     : ', df['TechSupport'].unique())\n",
    "print('StreamingMovies Values : ', df['TechSupport'].unique())"
   ]
  },
  {
   "cell_type": "code",
   "execution_count": 12,
   "metadata": {
    "execution": {
     "iopub.execute_input": "2020-09-24T13:52:25.542907Z",
     "iopub.status.busy": "2020-09-24T13:52:25.541733Z",
     "iopub.status.idle": "2020-09-24T13:52:25.571313Z",
     "shell.execute_reply": "2020-09-24T13:52:25.570687Z"
    },
    "papermill": {
     "duration": 0.082695,
     "end_time": "2020-09-24T13:52:25.571446",
     "exception": false,
     "start_time": "2020-09-24T13:52:25.488751",
     "status": "completed"
    },
    "tags": []
   },
   "outputs": [],
   "source": [
    "cols_for_dummies = ['MultipleLines', 'Contract', 'InternetService', \n",
    "                    'PaymentMethod', 'OnlineSecurity', 'OnlineBackup', \n",
    "                    'DeviceProtection', 'TechSupport', 'StreamingTV', 'StreamingMovies']\n",
    "df_ = df.drop(cols_for_dummies, axis=1)\n",
    "dms = pd.get_dummies(df[cols_for_dummies])\n",
    "df = pd.concat([df_, dms], axis=1)"
   ]
  },
  {
   "cell_type": "markdown",
   "metadata": {
    "papermill": {
     "duration": 0.060003,
     "end_time": "2020-09-24T13:52:25.676253",
     "exception": false,
     "start_time": "2020-09-24T13:52:25.616250",
     "status": "completed"
    },
    "tags": []
   },
   "source": [
    "**Converting all the column names into lowercase.**"
   ]
  },
  {
   "cell_type": "code",
   "execution_count": 13,
   "metadata": {
    "execution": {
     "iopub.execute_input": "2020-09-24T13:52:25.771297Z",
     "iopub.status.busy": "2020-09-24T13:52:25.770549Z",
     "iopub.status.idle": "2020-09-24T13:52:25.773931Z",
     "shell.execute_reply": "2020-09-24T13:52:25.773177Z"
    },
    "papermill": {
     "duration": 0.053161,
     "end_time": "2020-09-24T13:52:25.774062",
     "exception": false,
     "start_time": "2020-09-24T13:52:25.720901",
     "status": "completed"
    },
    "tags": []
   },
   "outputs": [],
   "source": [
    "df.columns = df.columns.str.lower()"
   ]
  },
  {
   "cell_type": "markdown",
   "metadata": {
    "papermill": {
     "duration": 0.044164,
     "end_time": "2020-09-24T13:52:25.862989",
     "exception": false,
     "start_time": "2020-09-24T13:52:25.818825",
     "status": "completed"
    },
    "tags": []
   },
   "source": [
    "**Are there any null values?**"
   ]
  },
  {
   "cell_type": "code",
   "execution_count": 14,
   "metadata": {
    "execution": {
     "iopub.execute_input": "2020-09-24T13:52:25.958109Z",
     "iopub.status.busy": "2020-09-24T13:52:25.957380Z",
     "iopub.status.idle": "2020-09-24T13:52:25.965907Z",
     "shell.execute_reply": "2020-09-24T13:52:25.966476Z"
    },
    "papermill": {
     "duration": 0.059279,
     "end_time": "2020-09-24T13:52:25.966661",
     "exception": false,
     "start_time": "2020-09-24T13:52:25.907382",
     "status": "completed"
    },
    "tags": []
   },
   "outputs": [
    {
     "data": {
      "text/plain": [
       "customerid                                  0\n",
       "gender                                      0\n",
       "seniorcitizen                               0\n",
       "partner                                     0\n",
       "dependents                                  0\n",
       "tenure                                      0\n",
       "phoneservice                                0\n",
       "paperlessbilling                            0\n",
       "monthlycharges                              0\n",
       "totalcharges                               11\n",
       "churn                                       0\n",
       "multiplelines_no                            0\n",
       "multiplelines_no phone service              0\n",
       "multiplelines_yes                           0\n",
       "contract_month-to-month                     0\n",
       "contract_one year                           0\n",
       "contract_two year                           0\n",
       "internetservice_dsl                         0\n",
       "internetservice_fiber optic                 0\n",
       "internetservice_no                          0\n",
       "paymentmethod_bank transfer (automatic)     0\n",
       "paymentmethod_credit card (automatic)       0\n",
       "paymentmethod_electronic check              0\n",
       "paymentmethod_mailed check                  0\n",
       "onlinesecurity_no                           0\n",
       "onlinesecurity_no internet service          0\n",
       "onlinesecurity_yes                          0\n",
       "onlinebackup_no                             0\n",
       "onlinebackup_no internet service            0\n",
       "onlinebackup_yes                            0\n",
       "deviceprotection_no                         0\n",
       "deviceprotection_no internet service        0\n",
       "deviceprotection_yes                        0\n",
       "techsupport_no                              0\n",
       "techsupport_no internet service             0\n",
       "techsupport_yes                             0\n",
       "streamingtv_no                              0\n",
       "streamingtv_no internet service             0\n",
       "streamingtv_yes                             0\n",
       "streamingmovies_no                          0\n",
       "streamingmovies_no internet service         0\n",
       "streamingmovies_yes                         0\n",
       "dtype: int64"
      ]
     },
     "execution_count": 14,
     "metadata": {},
     "output_type": "execute_result"
    }
   ],
   "source": [
    "df.isnull().sum()"
   ]
  },
  {
   "cell_type": "markdown",
   "metadata": {
    "papermill": {
     "duration": 0.045721,
     "end_time": "2020-09-24T13:52:26.057795",
     "exception": false,
     "start_time": "2020-09-24T13:52:26.012074",
     "status": "completed"
    },
    "tags": []
   },
   "source": [
    "**There aren't a lot of null values. So I decided to delete 11 customer datapoints with the null values. And I want to delete Customer IDs as well because it is not related with my predictions.**"
   ]
  },
  {
   "cell_type": "code",
   "execution_count": 15,
   "metadata": {
    "execution": {
     "iopub.execute_input": "2020-09-24T13:52:26.156132Z",
     "iopub.status.busy": "2020-09-24T13:52:26.154234Z",
     "iopub.status.idle": "2020-09-24T13:52:26.183469Z",
     "shell.execute_reply": "2020-09-24T13:52:26.182701Z"
    },
    "papermill": {
     "duration": 0.080395,
     "end_time": "2020-09-24T13:52:26.183616",
     "exception": false,
     "start_time": "2020-09-24T13:52:26.103221",
     "status": "completed"
    },
    "tags": []
   },
   "outputs": [],
   "source": [
    "df.dropna(inplace=True)\n",
    "df = df.drop('customerid', axis=1)"
   ]
  },
  {
   "cell_type": "markdown",
   "metadata": {
    "papermill": {
     "duration": 0.046035,
     "end_time": "2020-09-24T13:52:26.275817",
     "exception": false,
     "start_time": "2020-09-24T13:52:26.229782",
     "status": "completed"
    },
    "tags": []
   },
   "source": [
    "**Now it is time for scaling the 'tenure', 'monthly charges', and 'total charges' features.**"
   ]
  },
  {
   "cell_type": "code",
   "execution_count": 16,
   "metadata": {
    "execution": {
     "iopub.execute_input": "2020-09-24T13:52:26.378423Z",
     "iopub.status.busy": "2020-09-24T13:52:26.376106Z",
     "iopub.status.idle": "2020-09-24T13:52:26.390935Z",
     "shell.execute_reply": "2020-09-24T13:52:26.390235Z"
    },
    "papermill": {
     "duration": 0.069738,
     "end_time": "2020-09-24T13:52:26.391066",
     "exception": false,
     "start_time": "2020-09-24T13:52:26.321328",
     "status": "completed"
    },
    "tags": []
   },
   "outputs": [],
   "source": [
    "from sklearn.preprocessing import MinMaxScaler\n",
    "\n",
    "scaler = MinMaxScaler()\n",
    "df[['tenure', 'monthlycharges', 'totalcharges']] = scaler.fit_transform(df[['tenure', 'monthlycharges', 'totalcharges']])"
   ]
  },
  {
   "cell_type": "markdown",
   "metadata": {
    "papermill": {
     "duration": 0.045834,
     "end_time": "2020-09-24T13:52:26.482787",
     "exception": false,
     "start_time": "2020-09-24T13:52:26.436953",
     "status": "completed"
    },
    "tags": []
   },
   "source": [
    "**The final dataset:**"
   ]
  },
  {
   "cell_type": "code",
   "execution_count": 17,
   "metadata": {
    "execution": {
     "iopub.execute_input": "2020-09-24T13:52:26.600419Z",
     "iopub.status.busy": "2020-09-24T13:52:26.590754Z",
     "iopub.status.idle": "2020-09-24T13:52:26.621639Z",
     "shell.execute_reply": "2020-09-24T13:52:26.619321Z"
    },
    "papermill": {
     "duration": 0.093154,
     "end_time": "2020-09-24T13:52:26.621836",
     "exception": false,
     "start_time": "2020-09-24T13:52:26.528682",
     "status": "completed"
    },
    "tags": []
   },
   "outputs": [
    {
     "data": {
      "text/html": [
       "<div>\n",
       "<style scoped>\n",
       "    .dataframe tbody tr th:only-of-type {\n",
       "        vertical-align: middle;\n",
       "    }\n",
       "\n",
       "    .dataframe tbody tr th {\n",
       "        vertical-align: top;\n",
       "    }\n",
       "\n",
       "    .dataframe thead th {\n",
       "        text-align: right;\n",
       "    }\n",
       "</style>\n",
       "<table border=\"1\" class=\"dataframe\">\n",
       "  <thead>\n",
       "    <tr style=\"text-align: right;\">\n",
       "      <th></th>\n",
       "      <th>gender</th>\n",
       "      <th>seniorcitizen</th>\n",
       "      <th>partner</th>\n",
       "      <th>dependents</th>\n",
       "      <th>tenure</th>\n",
       "      <th>phoneservice</th>\n",
       "      <th>paperlessbilling</th>\n",
       "      <th>monthlycharges</th>\n",
       "      <th>totalcharges</th>\n",
       "      <th>churn</th>\n",
       "      <th>multiplelines_no</th>\n",
       "      <th>multiplelines_no phone service</th>\n",
       "      <th>multiplelines_yes</th>\n",
       "      <th>contract_month-to-month</th>\n",
       "      <th>contract_one year</th>\n",
       "      <th>contract_two year</th>\n",
       "      <th>internetservice_dsl</th>\n",
       "      <th>internetservice_fiber optic</th>\n",
       "      <th>internetservice_no</th>\n",
       "      <th>paymentmethod_bank transfer (automatic)</th>\n",
       "      <th>paymentmethod_credit card (automatic)</th>\n",
       "      <th>paymentmethod_electronic check</th>\n",
       "      <th>paymentmethod_mailed check</th>\n",
       "      <th>onlinesecurity_no</th>\n",
       "      <th>onlinesecurity_no internet service</th>\n",
       "      <th>onlinesecurity_yes</th>\n",
       "      <th>onlinebackup_no</th>\n",
       "      <th>onlinebackup_no internet service</th>\n",
       "      <th>onlinebackup_yes</th>\n",
       "      <th>deviceprotection_no</th>\n",
       "      <th>deviceprotection_no internet service</th>\n",
       "      <th>deviceprotection_yes</th>\n",
       "      <th>techsupport_no</th>\n",
       "      <th>techsupport_no internet service</th>\n",
       "      <th>techsupport_yes</th>\n",
       "      <th>streamingtv_no</th>\n",
       "      <th>streamingtv_no internet service</th>\n",
       "      <th>streamingtv_yes</th>\n",
       "      <th>streamingmovies_no</th>\n",
       "      <th>streamingmovies_no internet service</th>\n",
       "      <th>streamingmovies_yes</th>\n",
       "    </tr>\n",
       "  </thead>\n",
       "  <tbody>\n",
       "    <tr>\n",
       "      <th>0</th>\n",
       "      <td>0</td>\n",
       "      <td>0</td>\n",
       "      <td>1</td>\n",
       "      <td>0</td>\n",
       "      <td>0.000000</td>\n",
       "      <td>0</td>\n",
       "      <td>1</td>\n",
       "      <td>0.115423</td>\n",
       "      <td>0.001275</td>\n",
       "      <td>0</td>\n",
       "      <td>0</td>\n",
       "      <td>1</td>\n",
       "      <td>0</td>\n",
       "      <td>1</td>\n",
       "      <td>0</td>\n",
       "      <td>0</td>\n",
       "      <td>1</td>\n",
       "      <td>0</td>\n",
       "      <td>0</td>\n",
       "      <td>0</td>\n",
       "      <td>0</td>\n",
       "      <td>1</td>\n",
       "      <td>0</td>\n",
       "      <td>1</td>\n",
       "      <td>0</td>\n",
       "      <td>0</td>\n",
       "      <td>0</td>\n",
       "      <td>0</td>\n",
       "      <td>1</td>\n",
       "      <td>1</td>\n",
       "      <td>0</td>\n",
       "      <td>0</td>\n",
       "      <td>1</td>\n",
       "      <td>0</td>\n",
       "      <td>0</td>\n",
       "      <td>1</td>\n",
       "      <td>0</td>\n",
       "      <td>0</td>\n",
       "      <td>1</td>\n",
       "      <td>0</td>\n",
       "      <td>0</td>\n",
       "    </tr>\n",
       "    <tr>\n",
       "      <th>1</th>\n",
       "      <td>1</td>\n",
       "      <td>0</td>\n",
       "      <td>0</td>\n",
       "      <td>0</td>\n",
       "      <td>0.464789</td>\n",
       "      <td>1</td>\n",
       "      <td>0</td>\n",
       "      <td>0.385075</td>\n",
       "      <td>0.215867</td>\n",
       "      <td>0</td>\n",
       "      <td>1</td>\n",
       "      <td>0</td>\n",
       "      <td>0</td>\n",
       "      <td>0</td>\n",
       "      <td>1</td>\n",
       "      <td>0</td>\n",
       "      <td>1</td>\n",
       "      <td>0</td>\n",
       "      <td>0</td>\n",
       "      <td>0</td>\n",
       "      <td>0</td>\n",
       "      <td>0</td>\n",
       "      <td>1</td>\n",
       "      <td>0</td>\n",
       "      <td>0</td>\n",
       "      <td>1</td>\n",
       "      <td>1</td>\n",
       "      <td>0</td>\n",
       "      <td>0</td>\n",
       "      <td>0</td>\n",
       "      <td>0</td>\n",
       "      <td>1</td>\n",
       "      <td>1</td>\n",
       "      <td>0</td>\n",
       "      <td>0</td>\n",
       "      <td>1</td>\n",
       "      <td>0</td>\n",
       "      <td>0</td>\n",
       "      <td>1</td>\n",
       "      <td>0</td>\n",
       "      <td>0</td>\n",
       "    </tr>\n",
       "    <tr>\n",
       "      <th>2</th>\n",
       "      <td>1</td>\n",
       "      <td>0</td>\n",
       "      <td>0</td>\n",
       "      <td>0</td>\n",
       "      <td>0.014085</td>\n",
       "      <td>1</td>\n",
       "      <td>1</td>\n",
       "      <td>0.354229</td>\n",
       "      <td>0.010310</td>\n",
       "      <td>1</td>\n",
       "      <td>1</td>\n",
       "      <td>0</td>\n",
       "      <td>0</td>\n",
       "      <td>1</td>\n",
       "      <td>0</td>\n",
       "      <td>0</td>\n",
       "      <td>1</td>\n",
       "      <td>0</td>\n",
       "      <td>0</td>\n",
       "      <td>0</td>\n",
       "      <td>0</td>\n",
       "      <td>0</td>\n",
       "      <td>1</td>\n",
       "      <td>0</td>\n",
       "      <td>0</td>\n",
       "      <td>1</td>\n",
       "      <td>0</td>\n",
       "      <td>0</td>\n",
       "      <td>1</td>\n",
       "      <td>1</td>\n",
       "      <td>0</td>\n",
       "      <td>0</td>\n",
       "      <td>1</td>\n",
       "      <td>0</td>\n",
       "      <td>0</td>\n",
       "      <td>1</td>\n",
       "      <td>0</td>\n",
       "      <td>0</td>\n",
       "      <td>1</td>\n",
       "      <td>0</td>\n",
       "      <td>0</td>\n",
       "    </tr>\n",
       "    <tr>\n",
       "      <th>3</th>\n",
       "      <td>1</td>\n",
       "      <td>0</td>\n",
       "      <td>0</td>\n",
       "      <td>0</td>\n",
       "      <td>0.619718</td>\n",
       "      <td>0</td>\n",
       "      <td>0</td>\n",
       "      <td>0.239303</td>\n",
       "      <td>0.210241</td>\n",
       "      <td>0</td>\n",
       "      <td>0</td>\n",
       "      <td>1</td>\n",
       "      <td>0</td>\n",
       "      <td>0</td>\n",
       "      <td>1</td>\n",
       "      <td>0</td>\n",
       "      <td>1</td>\n",
       "      <td>0</td>\n",
       "      <td>0</td>\n",
       "      <td>1</td>\n",
       "      <td>0</td>\n",
       "      <td>0</td>\n",
       "      <td>0</td>\n",
       "      <td>0</td>\n",
       "      <td>0</td>\n",
       "      <td>1</td>\n",
       "      <td>1</td>\n",
       "      <td>0</td>\n",
       "      <td>0</td>\n",
       "      <td>0</td>\n",
       "      <td>0</td>\n",
       "      <td>1</td>\n",
       "      <td>0</td>\n",
       "      <td>0</td>\n",
       "      <td>1</td>\n",
       "      <td>1</td>\n",
       "      <td>0</td>\n",
       "      <td>0</td>\n",
       "      <td>1</td>\n",
       "      <td>0</td>\n",
       "      <td>0</td>\n",
       "    </tr>\n",
       "    <tr>\n",
       "      <th>4</th>\n",
       "      <td>0</td>\n",
       "      <td>0</td>\n",
       "      <td>0</td>\n",
       "      <td>0</td>\n",
       "      <td>0.014085</td>\n",
       "      <td>1</td>\n",
       "      <td>1</td>\n",
       "      <td>0.521891</td>\n",
       "      <td>0.015330</td>\n",
       "      <td>1</td>\n",
       "      <td>1</td>\n",
       "      <td>0</td>\n",
       "      <td>0</td>\n",
       "      <td>1</td>\n",
       "      <td>0</td>\n",
       "      <td>0</td>\n",
       "      <td>0</td>\n",
       "      <td>1</td>\n",
       "      <td>0</td>\n",
       "      <td>0</td>\n",
       "      <td>0</td>\n",
       "      <td>1</td>\n",
       "      <td>0</td>\n",
       "      <td>1</td>\n",
       "      <td>0</td>\n",
       "      <td>0</td>\n",
       "      <td>1</td>\n",
       "      <td>0</td>\n",
       "      <td>0</td>\n",
       "      <td>1</td>\n",
       "      <td>0</td>\n",
       "      <td>0</td>\n",
       "      <td>1</td>\n",
       "      <td>0</td>\n",
       "      <td>0</td>\n",
       "      <td>1</td>\n",
       "      <td>0</td>\n",
       "      <td>0</td>\n",
       "      <td>1</td>\n",
       "      <td>0</td>\n",
       "      <td>0</td>\n",
       "    </tr>\n",
       "    <tr>\n",
       "      <th>5</th>\n",
       "      <td>0</td>\n",
       "      <td>0</td>\n",
       "      <td>0</td>\n",
       "      <td>0</td>\n",
       "      <td>0.098592</td>\n",
       "      <td>1</td>\n",
       "      <td>1</td>\n",
       "      <td>0.809950</td>\n",
       "      <td>0.092511</td>\n",
       "      <td>1</td>\n",
       "      <td>0</td>\n",
       "      <td>0</td>\n",
       "      <td>1</td>\n",
       "      <td>1</td>\n",
       "      <td>0</td>\n",
       "      <td>0</td>\n",
       "      <td>0</td>\n",
       "      <td>1</td>\n",
       "      <td>0</td>\n",
       "      <td>0</td>\n",
       "      <td>0</td>\n",
       "      <td>1</td>\n",
       "      <td>0</td>\n",
       "      <td>1</td>\n",
       "      <td>0</td>\n",
       "      <td>0</td>\n",
       "      <td>1</td>\n",
       "      <td>0</td>\n",
       "      <td>0</td>\n",
       "      <td>0</td>\n",
       "      <td>0</td>\n",
       "      <td>1</td>\n",
       "      <td>1</td>\n",
       "      <td>0</td>\n",
       "      <td>0</td>\n",
       "      <td>0</td>\n",
       "      <td>0</td>\n",
       "      <td>1</td>\n",
       "      <td>0</td>\n",
       "      <td>0</td>\n",
       "      <td>1</td>\n",
       "    </tr>\n",
       "    <tr>\n",
       "      <th>6</th>\n",
       "      <td>1</td>\n",
       "      <td>0</td>\n",
       "      <td>0</td>\n",
       "      <td>1</td>\n",
       "      <td>0.295775</td>\n",
       "      <td>1</td>\n",
       "      <td>1</td>\n",
       "      <td>0.704975</td>\n",
       "      <td>0.222779</td>\n",
       "      <td>0</td>\n",
       "      <td>0</td>\n",
       "      <td>0</td>\n",
       "      <td>1</td>\n",
       "      <td>1</td>\n",
       "      <td>0</td>\n",
       "      <td>0</td>\n",
       "      <td>0</td>\n",
       "      <td>1</td>\n",
       "      <td>0</td>\n",
       "      <td>0</td>\n",
       "      <td>1</td>\n",
       "      <td>0</td>\n",
       "      <td>0</td>\n",
       "      <td>1</td>\n",
       "      <td>0</td>\n",
       "      <td>0</td>\n",
       "      <td>0</td>\n",
       "      <td>0</td>\n",
       "      <td>1</td>\n",
       "      <td>1</td>\n",
       "      <td>0</td>\n",
       "      <td>0</td>\n",
       "      <td>1</td>\n",
       "      <td>0</td>\n",
       "      <td>0</td>\n",
       "      <td>0</td>\n",
       "      <td>0</td>\n",
       "      <td>1</td>\n",
       "      <td>1</td>\n",
       "      <td>0</td>\n",
       "      <td>0</td>\n",
       "    </tr>\n",
       "    <tr>\n",
       "      <th>7</th>\n",
       "      <td>0</td>\n",
       "      <td>0</td>\n",
       "      <td>0</td>\n",
       "      <td>0</td>\n",
       "      <td>0.126761</td>\n",
       "      <td>0</td>\n",
       "      <td>0</td>\n",
       "      <td>0.114428</td>\n",
       "      <td>0.032668</td>\n",
       "      <td>0</td>\n",
       "      <td>0</td>\n",
       "      <td>1</td>\n",
       "      <td>0</td>\n",
       "      <td>1</td>\n",
       "      <td>0</td>\n",
       "      <td>0</td>\n",
       "      <td>1</td>\n",
       "      <td>0</td>\n",
       "      <td>0</td>\n",
       "      <td>0</td>\n",
       "      <td>0</td>\n",
       "      <td>0</td>\n",
       "      <td>1</td>\n",
       "      <td>0</td>\n",
       "      <td>0</td>\n",
       "      <td>1</td>\n",
       "      <td>1</td>\n",
       "      <td>0</td>\n",
       "      <td>0</td>\n",
       "      <td>1</td>\n",
       "      <td>0</td>\n",
       "      <td>0</td>\n",
       "      <td>1</td>\n",
       "      <td>0</td>\n",
       "      <td>0</td>\n",
       "      <td>1</td>\n",
       "      <td>0</td>\n",
       "      <td>0</td>\n",
       "      <td>1</td>\n",
       "      <td>0</td>\n",
       "      <td>0</td>\n",
       "    </tr>\n",
       "    <tr>\n",
       "      <th>8</th>\n",
       "      <td>0</td>\n",
       "      <td>0</td>\n",
       "      <td>1</td>\n",
       "      <td>0</td>\n",
       "      <td>0.380282</td>\n",
       "      <td>1</td>\n",
       "      <td>1</td>\n",
       "      <td>0.861194</td>\n",
       "      <td>0.349325</td>\n",
       "      <td>1</td>\n",
       "      <td>0</td>\n",
       "      <td>0</td>\n",
       "      <td>1</td>\n",
       "      <td>1</td>\n",
       "      <td>0</td>\n",
       "      <td>0</td>\n",
       "      <td>0</td>\n",
       "      <td>1</td>\n",
       "      <td>0</td>\n",
       "      <td>0</td>\n",
       "      <td>0</td>\n",
       "      <td>1</td>\n",
       "      <td>0</td>\n",
       "      <td>1</td>\n",
       "      <td>0</td>\n",
       "      <td>0</td>\n",
       "      <td>1</td>\n",
       "      <td>0</td>\n",
       "      <td>0</td>\n",
       "      <td>0</td>\n",
       "      <td>0</td>\n",
       "      <td>1</td>\n",
       "      <td>0</td>\n",
       "      <td>0</td>\n",
       "      <td>1</td>\n",
       "      <td>0</td>\n",
       "      <td>0</td>\n",
       "      <td>1</td>\n",
       "      <td>0</td>\n",
       "      <td>0</td>\n",
       "      <td>1</td>\n",
       "    </tr>\n",
       "    <tr>\n",
       "      <th>9</th>\n",
       "      <td>1</td>\n",
       "      <td>0</td>\n",
       "      <td>0</td>\n",
       "      <td>1</td>\n",
       "      <td>0.859155</td>\n",
       "      <td>1</td>\n",
       "      <td>0</td>\n",
       "      <td>0.377114</td>\n",
       "      <td>0.400317</td>\n",
       "      <td>0</td>\n",
       "      <td>1</td>\n",
       "      <td>0</td>\n",
       "      <td>0</td>\n",
       "      <td>0</td>\n",
       "      <td>1</td>\n",
       "      <td>0</td>\n",
       "      <td>1</td>\n",
       "      <td>0</td>\n",
       "      <td>0</td>\n",
       "      <td>1</td>\n",
       "      <td>0</td>\n",
       "      <td>0</td>\n",
       "      <td>0</td>\n",
       "      <td>0</td>\n",
       "      <td>0</td>\n",
       "      <td>1</td>\n",
       "      <td>0</td>\n",
       "      <td>0</td>\n",
       "      <td>1</td>\n",
       "      <td>1</td>\n",
       "      <td>0</td>\n",
       "      <td>0</td>\n",
       "      <td>1</td>\n",
       "      <td>0</td>\n",
       "      <td>0</td>\n",
       "      <td>1</td>\n",
       "      <td>0</td>\n",
       "      <td>0</td>\n",
       "      <td>1</td>\n",
       "      <td>0</td>\n",
       "      <td>0</td>\n",
       "    </tr>\n",
       "  </tbody>\n",
       "</table>\n",
       "</div>"
      ],
      "text/plain": [
       "   gender  seniorcitizen  partner  dependents    tenure  phoneservice  \\\n",
       "0       0              0        1           0  0.000000             0   \n",
       "1       1              0        0           0  0.464789             1   \n",
       "2       1              0        0           0  0.014085             1   \n",
       "3       1              0        0           0  0.619718             0   \n",
       "4       0              0        0           0  0.014085             1   \n",
       "5       0              0        0           0  0.098592             1   \n",
       "6       1              0        0           1  0.295775             1   \n",
       "7       0              0        0           0  0.126761             0   \n",
       "8       0              0        1           0  0.380282             1   \n",
       "9       1              0        0           1  0.859155             1   \n",
       "\n",
       "   paperlessbilling  monthlycharges  totalcharges  churn  multiplelines_no  \\\n",
       "0                 1        0.115423      0.001275      0                 0   \n",
       "1                 0        0.385075      0.215867      0                 1   \n",
       "2                 1        0.354229      0.010310      1                 1   \n",
       "3                 0        0.239303      0.210241      0                 0   \n",
       "4                 1        0.521891      0.015330      1                 1   \n",
       "5                 1        0.809950      0.092511      1                 0   \n",
       "6                 1        0.704975      0.222779      0                 0   \n",
       "7                 0        0.114428      0.032668      0                 0   \n",
       "8                 1        0.861194      0.349325      1                 0   \n",
       "9                 0        0.377114      0.400317      0                 1   \n",
       "\n",
       "   multiplelines_no phone service  multiplelines_yes  contract_month-to-month  \\\n",
       "0                               1                  0                        1   \n",
       "1                               0                  0                        0   \n",
       "2                               0                  0                        1   \n",
       "3                               1                  0                        0   \n",
       "4                               0                  0                        1   \n",
       "5                               0                  1                        1   \n",
       "6                               0                  1                        1   \n",
       "7                               1                  0                        1   \n",
       "8                               0                  1                        1   \n",
       "9                               0                  0                        0   \n",
       "\n",
       "   contract_one year  contract_two year  internetservice_dsl  \\\n",
       "0                  0                  0                    1   \n",
       "1                  1                  0                    1   \n",
       "2                  0                  0                    1   \n",
       "3                  1                  0                    1   \n",
       "4                  0                  0                    0   \n",
       "5                  0                  0                    0   \n",
       "6                  0                  0                    0   \n",
       "7                  0                  0                    1   \n",
       "8                  0                  0                    0   \n",
       "9                  1                  0                    1   \n",
       "\n",
       "   internetservice_fiber optic  internetservice_no  \\\n",
       "0                            0                   0   \n",
       "1                            0                   0   \n",
       "2                            0                   0   \n",
       "3                            0                   0   \n",
       "4                            1                   0   \n",
       "5                            1                   0   \n",
       "6                            1                   0   \n",
       "7                            0                   0   \n",
       "8                            1                   0   \n",
       "9                            0                   0   \n",
       "\n",
       "   paymentmethod_bank transfer (automatic)  \\\n",
       "0                                        0   \n",
       "1                                        0   \n",
       "2                                        0   \n",
       "3                                        1   \n",
       "4                                        0   \n",
       "5                                        0   \n",
       "6                                        0   \n",
       "7                                        0   \n",
       "8                                        0   \n",
       "9                                        1   \n",
       "\n",
       "   paymentmethod_credit card (automatic)  paymentmethod_electronic check  \\\n",
       "0                                      0                               1   \n",
       "1                                      0                               0   \n",
       "2                                      0                               0   \n",
       "3                                      0                               0   \n",
       "4                                      0                               1   \n",
       "5                                      0                               1   \n",
       "6                                      1                               0   \n",
       "7                                      0                               0   \n",
       "8                                      0                               1   \n",
       "9                                      0                               0   \n",
       "\n",
       "   paymentmethod_mailed check  onlinesecurity_no  \\\n",
       "0                           0                  1   \n",
       "1                           1                  0   \n",
       "2                           1                  0   \n",
       "3                           0                  0   \n",
       "4                           0                  1   \n",
       "5                           0                  1   \n",
       "6                           0                  1   \n",
       "7                           1                  0   \n",
       "8                           0                  1   \n",
       "9                           0                  0   \n",
       "\n",
       "   onlinesecurity_no internet service  onlinesecurity_yes  onlinebackup_no  \\\n",
       "0                                   0                   0                0   \n",
       "1                                   0                   1                1   \n",
       "2                                   0                   1                0   \n",
       "3                                   0                   1                1   \n",
       "4                                   0                   0                1   \n",
       "5                                   0                   0                1   \n",
       "6                                   0                   0                0   \n",
       "7                                   0                   1                1   \n",
       "8                                   0                   0                1   \n",
       "9                                   0                   1                0   \n",
       "\n",
       "   onlinebackup_no internet service  onlinebackup_yes  deviceprotection_no  \\\n",
       "0                                 0                 1                    1   \n",
       "1                                 0                 0                    0   \n",
       "2                                 0                 1                    1   \n",
       "3                                 0                 0                    0   \n",
       "4                                 0                 0                    1   \n",
       "5                                 0                 0                    0   \n",
       "6                                 0                 1                    1   \n",
       "7                                 0                 0                    1   \n",
       "8                                 0                 0                    0   \n",
       "9                                 0                 1                    1   \n",
       "\n",
       "   deviceprotection_no internet service  deviceprotection_yes  techsupport_no  \\\n",
       "0                                     0                     0               1   \n",
       "1                                     0                     1               1   \n",
       "2                                     0                     0               1   \n",
       "3                                     0                     1               0   \n",
       "4                                     0                     0               1   \n",
       "5                                     0                     1               1   \n",
       "6                                     0                     0               1   \n",
       "7                                     0                     0               1   \n",
       "8                                     0                     1               0   \n",
       "9                                     0                     0               1   \n",
       "\n",
       "   techsupport_no internet service  techsupport_yes  streamingtv_no  \\\n",
       "0                                0                0               1   \n",
       "1                                0                0               1   \n",
       "2                                0                0               1   \n",
       "3                                0                1               1   \n",
       "4                                0                0               1   \n",
       "5                                0                0               0   \n",
       "6                                0                0               0   \n",
       "7                                0                0               1   \n",
       "8                                0                1               0   \n",
       "9                                0                0               1   \n",
       "\n",
       "   streamingtv_no internet service  streamingtv_yes  streamingmovies_no  \\\n",
       "0                                0                0                   1   \n",
       "1                                0                0                   1   \n",
       "2                                0                0                   1   \n",
       "3                                0                0                   1   \n",
       "4                                0                0                   1   \n",
       "5                                0                1                   0   \n",
       "6                                0                1                   1   \n",
       "7                                0                0                   1   \n",
       "8                                0                1                   0   \n",
       "9                                0                0                   1   \n",
       "\n",
       "   streamingmovies_no internet service  streamingmovies_yes  \n",
       "0                                    0                    0  \n",
       "1                                    0                    0  \n",
       "2                                    0                    0  \n",
       "3                                    0                    0  \n",
       "4                                    0                    0  \n",
       "5                                    0                    1  \n",
       "6                                    0                    0  \n",
       "7                                    0                    0  \n",
       "8                                    0                    1  \n",
       "9                                    0                    0  "
      ]
     },
     "execution_count": 17,
     "metadata": {},
     "output_type": "execute_result"
    }
   ],
   "source": [
    "df.head(10)"
   ]
  },
  {
   "cell_type": "markdown",
   "metadata": {
    "papermill": {
     "duration": 0.046979,
     "end_time": "2020-09-24T13:52:26.718187",
     "exception": false,
     "start_time": "2020-09-24T13:52:26.671208",
     "status": "completed"
    },
    "tags": []
   },
   "source": [
    "**Let's see our features' correlation with the churn data. But I want to see only the features with 0.20 (and -0.20) or higher correlation because otherwise the graph becomes really crowded.**"
   ]
  },
  {
   "cell_type": "code",
   "execution_count": 18,
   "metadata": {
    "execution": {
     "iopub.execute_input": "2020-09-24T13:52:26.821942Z",
     "iopub.status.busy": "2020-09-24T13:52:26.821088Z",
     "iopub.status.idle": "2020-09-24T13:52:27.134395Z",
     "shell.execute_reply": "2020-09-24T13:52:27.134964Z"
    },
    "papermill": {
     "duration": 0.369596,
     "end_time": "2020-09-24T13:52:27.135119",
     "exception": false,
     "start_time": "2020-09-24T13:52:26.765523",
     "status": "completed"
    },
    "tags": []
   },
   "outputs": [
    {
     "data": {
      "image/png": "[encoded data removed]",
      "text/plain": [
       "<Figure size 720x360 with 1 Axes>"
      ]
     },
     "metadata": {
      "needs_background": "light"
     },
     "output_type": "display_data"
    }
   ],
   "source": [
    "corrmatrix = pd.DataFrame(df.corr()['churn'].sort_values(ascending=True)).rename(columns={'churn':'correlation'})\n",
    "\n",
    "stronger_corr = corrmatrix[(corrmatrix.correlation > 0.20) | (corrmatrix.correlation < -0.20)].drop('churn')\n",
    "\n",
    "plt.figure(figsize=(10,5))\n",
    "sns.barplot(x=stronger_corr.correlation, y=stronger_corr.index)\n",
    "plt.title('Features and Churn Correlation', color='navy', fontsize=15);"
   ]
  },
  {
   "cell_type": "markdown",
   "metadata": {
    "papermill": {
     "duration": 0.048274,
     "end_time": "2020-09-24T13:52:27.231672",
     "exception": false,
     "start_time": "2020-09-24T13:52:27.183398",
     "status": "completed"
    },
    "tags": []
   },
   "source": [
    "**From the correlation matrix according to the churn data, we can have some insights for the business actions.**\n",
    "\n",
    "**We can see from above,** \n",
    "\n",
    "* The customers who have a longer membership (tenure and two year contract) and who doesn't use internet services are less likely to churn.\n",
    "\n",
    "* The customers who have month to month contracts and who don't have online security, tech support, online backup services are more likely to churn.\n",
    "\n",
    "* So the client should convince the customers to increase their contract time and support customers to purchase technical support and backup services."
   ]
  },
  {
   "cell_type": "markdown",
   "metadata": {
    "papermill": {
     "duration": 0.047949,
     "end_time": "2020-09-24T13:52:27.329199",
     "exception": false,
     "start_time": "2020-09-24T13:52:27.281250",
     "status": "completed"
    },
    "tags": []
   },
   "source": [
    "## Train and Test Split\n",
    "\n",
    "**Before separeting the dataset into train and test, I need to separete target column from the other features.**"
   ]
  },
  {
   "cell_type": "code",
   "execution_count": 19,
   "metadata": {
    "execution": {
     "iopub.execute_input": "2020-09-24T13:52:27.433307Z",
     "iopub.status.busy": "2020-09-24T13:52:27.432430Z",
     "iopub.status.idle": "2020-09-24T13:52:27.436377Z",
     "shell.execute_reply": "2020-09-24T13:52:27.435647Z"
    },
    "papermill": {
     "duration": 0.058715,
     "end_time": "2020-09-24T13:52:27.436496",
     "exception": false,
     "start_time": "2020-09-24T13:52:27.377781",
     "status": "completed"
    },
    "tags": []
   },
   "outputs": [],
   "source": [
    "y = df['churn']\n",
    "X = df.drop('churn', axis=1)"
   ]
  },
  {
   "cell_type": "markdown",
   "metadata": {
    "papermill": {
     "duration": 0.048266,
     "end_time": "2020-09-24T13:52:27.533275",
     "exception": false,
     "start_time": "2020-09-24T13:52:27.485009",
     "status": "completed"
    },
    "tags": []
   },
   "source": [
    "**Splitting the dataset into train and test.**"
   ]
  },
  {
   "cell_type": "code",
   "execution_count": 20,
   "metadata": {
    "execution": {
     "iopub.execute_input": "2020-09-24T13:52:27.641969Z",
     "iopub.status.busy": "2020-09-24T13:52:27.641168Z",
     "iopub.status.idle": "2020-09-24T13:52:27.714179Z",
     "shell.execute_reply": "2020-09-24T13:52:27.713220Z"
    },
    "papermill": {
     "duration": 0.132402,
     "end_time": "2020-09-24T13:52:27.714335",
     "exception": false,
     "start_time": "2020-09-24T13:52:27.581933",
     "status": "completed"
    },
    "tags": []
   },
   "outputs": [
    {
     "name": "stdout",
     "output_type": "stream",
     "text": [
      "X_train shape :  (5625, 40)\n",
      "y_train shape :  (5625,)\n",
      "X_test shape  :  (1407, 40)\n",
      "y_test shape  :  (1407,)\n"
     ]
    }
   ],
   "source": [
    "from sklearn.model_selection import train_test_split\n",
    "X_train, X_test, y_train, y_test = train_test_split(X, y, test_size=0.20, random_state=1)\n",
    "\n",
    "print('X_train shape : ', X_train.shape)\n",
    "print('y_train shape : ', y_train.shape)\n",
    "print('X_test shape  : ', X_test.shape)\n",
    "print('y_test shape  : ', y_test.shape)"
   ]
  },
  {
   "cell_type": "markdown",
   "metadata": {
    "papermill": {
     "duration": 0.049292,
     "end_time": "2020-09-24T13:52:27.813274",
     "exception": false,
     "start_time": "2020-09-24T13:52:27.763982",
     "status": "completed"
    },
    "tags": []
   },
   "source": [
    "## Logistic Regression Model"
   ]
  },
  {
   "cell_type": "code",
   "execution_count": 21,
   "metadata": {
    "execution": {
     "iopub.execute_input": "2020-09-24T13:52:27.918754Z",
     "iopub.status.busy": "2020-09-24T13:52:27.917758Z",
     "iopub.status.idle": "2020-09-24T13:52:28.104355Z",
     "shell.execute_reply": "2020-09-24T13:52:28.103478Z"
    },
    "papermill": {
     "duration": 0.242045,
     "end_time": "2020-09-24T13:52:28.104532",
     "exception": false,
     "start_time": "2020-09-24T13:52:27.862487",
     "status": "completed"
    },
    "tags": []
   },
   "outputs": [],
   "source": [
    "from sklearn.linear_model import LogisticRegression\n",
    "\n",
    "loj = LogisticRegression(solver='liblinear')\n",
    "\n",
    "loj_model = loj.fit(X_train, y_train)\n",
    "\n",
    "y_pred = loj_model.predict(X_test)\n",
    "y_pred_prob = loj_model.predict_proba(X_test)"
   ]
  },
  {
   "cell_type": "markdown",
   "metadata": {
    "papermill": {
     "duration": 0.060951,
     "end_time": "2020-09-24T13:52:28.236186",
     "exception": false,
     "start_time": "2020-09-24T13:52:28.175235",
     "status": "completed"
    },
    "tags": []
   },
   "source": [
    "**Prediction of our default model:**"
   ]
  },
  {
   "cell_type": "code",
   "execution_count": 22,
   "metadata": {
    "execution": {
     "iopub.execute_input": "2020-09-24T13:52:28.365328Z",
     "iopub.status.busy": "2020-09-24T13:52:28.364436Z",
     "iopub.status.idle": "2020-09-24T13:52:28.369293Z",
     "shell.execute_reply": "2020-09-24T13:52:28.368679Z"
    },
    "papermill": {
     "duration": 0.06061,
     "end_time": "2020-09-24T13:52:28.369413",
     "exception": false,
     "start_time": "2020-09-24T13:52:28.308803",
     "status": "completed"
    },
    "tags": []
   },
   "outputs": [
    {
     "data": {
      "text/plain": [
       "array([0, 1, 0, ..., 0, 0, 0])"
      ]
     },
     "execution_count": 22,
     "metadata": {},
     "output_type": "execute_result"
    }
   ],
   "source": [
    "y_pred"
   ]
  },
  {
   "cell_type": "markdown",
   "metadata": {
    "papermill": {
     "duration": 0.049444,
     "end_time": "2020-09-24T13:52:28.469648",
     "exception": false,
     "start_time": "2020-09-24T13:52:28.420204",
     "status": "completed"
    },
    "tags": []
   },
   "source": [
    "**Predictions with the probabilities:**\n",
    "\n",
    "**The first column is the probability of predicting 0 (no churn) and the second column is the probability of predicting 1 (churn).**"
   ]
  },
  {
   "cell_type": "code",
   "execution_count": 23,
   "metadata": {
    "execution": {
     "iopub.execute_input": "2020-09-24T13:52:28.578971Z",
     "iopub.status.busy": "2020-09-24T13:52:28.577832Z",
     "iopub.status.idle": "2020-09-24T13:52:28.582503Z",
     "shell.execute_reply": "2020-09-24T13:52:28.581916Z"
    },
    "papermill": {
     "duration": 0.062336,
     "end_time": "2020-09-24T13:52:28.582655",
     "exception": false,
     "start_time": "2020-09-24T13:52:28.520319",
     "status": "completed"
    },
    "tags": []
   },
   "outputs": [
    {
     "data": {
      "text/plain": [
       "array([[0.99658471, 0.00341529],\n",
       "       [0.31865572, 0.68134428],\n",
       "       [0.92564372, 0.07435628],\n",
       "       ...,\n",
       "       [0.92753375, 0.07246625],\n",
       "       [0.93815314, 0.06184686],\n",
       "       [0.81555058, 0.18444942]])"
      ]
     },
     "execution_count": 23,
     "metadata": {},
     "output_type": "execute_result"
    }
   ],
   "source": [
    "y_pred_prob"
   ]
  },
  {
   "cell_type": "markdown",
   "metadata": {
    "papermill": {
     "duration": 0.050339,
     "end_time": "2020-09-24T13:52:28.683494",
     "exception": false,
     "start_time": "2020-09-24T13:52:28.633155",
     "status": "completed"
    },
    "tags": []
   },
   "source": [
    "**Let's evaluate our default logistic regression model:**\n",
    "\n",
    "**Accuracy is the percent of predictions that are correct. Accuracy is not a good choice for unbalanced datasets like this one.**\n",
    "\n",
    "**Precision = TP / TP + FP**\n",
    "\n",
    "**Recall = TP / TP + FN**\n",
    "\n",
    "**Precision is interested in the predicted positives.**\n",
    "\n",
    "**Recall is interested in the actual positives.**\n",
    "\n",
    "**Precision is sureness while recall is sensitivity.**\n",
    "\n",
    "**With a high value for a precision treshold, the model will need higher proof to accept for a prediction. So there would be some false negatives (Predicted as no churn, but actually churn).**\n",
    "\n",
    "**With a high value for a recall the model will be more willing to accept a prediction with less proof. So there would be some false positives (Predicted as churn, but actually no churn).**\n",
    "\n",
    "**F1 score = 2 * (precision * recall) / (precision + recall)**\n",
    "\n",
    "**F1 score is the harmonic mean of the precision and the recall. It is a balanced value between precision and recall.**\n",
    "\n",
    "**Let's see our default model's performance which has 0.5 as the treshold.**"
   ]
  },
  {
   "cell_type": "code",
   "execution_count": 24,
   "metadata": {
    "_kg_hide-input": true,
    "execution": {
     "iopub.execute_input": "2020-09-24T13:52:28.795128Z",
     "iopub.status.busy": "2020-09-24T13:52:28.794221Z",
     "iopub.status.idle": "2020-09-24T13:52:28.913314Z",
     "shell.execute_reply": "2020-09-24T13:52:28.912596Z"
    },
    "papermill": {
     "duration": 0.179471,
     "end_time": "2020-09-24T13:52:28.913434",
     "exception": false,
     "start_time": "2020-09-24T13:52:28.733963",
     "status": "completed"
    },
    "tags": []
   },
   "outputs": [
    {
     "name": "stdout",
     "output_type": "stream",
     "text": [
      "Accuracy of the default model  : 0.80\n",
      "Precision of the default model : 0.63\n",
      "Recall of the default model    : 0.54\n",
      "F1 Score of the default model  : 0.58\n"
     ]
    },
    {
     "data": {
      "image/png": "[encoded data removed]",
      "text/plain": [
       "<Figure size 432x288 with 1 Axes>"
      ]
     },
     "metadata": {
      "needs_background": "light"
     },
     "output_type": "display_data"
    }
   ],
   "source": [
    "from sklearn.metrics import accuracy_score, precision_score, recall_score, f1_score, confusion_matrix, roc_auc_score, roc_curve\n",
    "\n",
    "print('Accuracy of the default model  : %.2f' % accuracy_score(y_test, y_pred))\n",
    "print('Precision of the default model : %.2f' % precision_score(y_test, y_pred))\n",
    "print('Recall of the default model    : %.2f' % recall_score(y_test, y_pred))\n",
    "print('F1 Score of the default model  : %.2f' % f1_score(y_test, y_pred))\n",
    "\n",
    "sns.heatmap(confusion_matrix(y_test, y_pred), annot=True, annot_kws={\"fontsize\":20}, fmt='d', cbar=False, cmap='PuBu')\n",
    "plt.title('Confusion Matrix of the Default Model', color='navy', fontsize=15)\n",
    "plt.xlabel('Predicted Values')\n",
    "plt.ylabel('Actual Values');"
   ]
  },
  {
   "cell_type": "code",
   "execution_count": 25,
   "metadata": {
    "_kg_hide-input": true,
    "execution": {
     "iopub.execute_input": "2020-09-24T13:52:29.030044Z",
     "iopub.status.busy": "2020-09-24T13:52:29.028906Z",
     "iopub.status.idle": "2020-09-24T13:52:29.228064Z",
     "shell.execute_reply": "2020-09-24T13:52:29.227259Z"
    },
    "papermill": {
     "duration": 0.262984,
     "end_time": "2020-09-24T13:52:29.228190",
     "exception": false,
     "start_time": "2020-09-24T13:52:28.965206",
     "status": "completed"
    },
    "tags": []
   },
   "outputs": [
    {
     "data": {
      "image/png": "[encoded data removed]",
      "text/plain": [
       "<Figure size 504x504 with 1 Axes>"
      ]
     },
     "metadata": {
      "needs_background": "light"
     },
     "output_type": "display_data"
    }
   ],
   "source": [
    "logit_roc_auc = roc_auc_score(y_test, y_pred)\n",
    "\n",
    "fpr, tpr, thresholds = roc_curve(y_test, y_pred_prob[:,1])\n",
    "\n",
    "plt.figure(figsize=(7,7))\n",
    "plt.plot(fpr, tpr, label='AUC (Area = %0.2f)' %logit_roc_auc)\n",
    "plt.plot([0,1], [0,1], 'r--')\n",
    "plt.xlim([0.0, 1.0])\n",
    "plt.ylim([0.0, 1.05])\n",
    "plt.xlabel('Sensitivity : False Positive Ratio')\n",
    "plt.ylabel('1 - Specifity : True Positive Ratio')\n",
    "plt.title('ROC and AUC of the Default Model')\n",
    "plt.legend()\n",
    "plt.show()"
   ]
  },
  {
   "cell_type": "markdown",
   "metadata": {
    "papermill": {
     "duration": 0.053536,
     "end_time": "2020-09-24T13:52:29.335952",
     "exception": false,
     "start_time": "2020-09-24T13:52:29.282416",
     "status": "completed"
    },
    "tags": []
   },
   "source": [
    "**I am not so happy with my default model. Because 169 customers have churned, but we didn't predict that they are going to churn. We would loose those 169 customers if our company don't act because of following our model's prediction.**\n",
    "\n",
    "**And there are 116 customers who wouldn't churn, but the company might have acted and spent it's resources.**\n",
    "\n",
    "**For this study, I would act to decrease those 169 customers. That means I want my model to be more sensitive for predictions. So I am going to decrease my threshold from it's default number 0.5 to something like 0.4 or 0.3.**"
   ]
  },
  {
   "cell_type": "code",
   "execution_count": 26,
   "metadata": {
    "execution": {
     "iopub.execute_input": "2020-09-24T13:52:29.453661Z",
     "iopub.status.busy": "2020-09-24T13:52:29.452882Z",
     "iopub.status.idle": "2020-09-24T13:52:29.460490Z",
     "shell.execute_reply": "2020-09-24T13:52:29.459748Z"
    },
    "papermill": {
     "duration": 0.070738,
     "end_time": "2020-09-24T13:52:29.460639",
     "exception": false,
     "start_time": "2020-09-24T13:52:29.389901",
     "status": "completed"
    },
    "tags": []
   },
   "outputs": [],
   "source": [
    "# New predictions with 0.4 threshold:\n",
    "y_pred_4 = loj_model.predict_proba(X_test)[:,1] >= 0.4\n",
    "\n",
    "# New predictions with 0.3 threshold:\n",
    "y_pred_3 = loj_model.predict_proba(X_test)[:,1] >= 0.3"
   ]
  },
  {
   "cell_type": "code",
   "execution_count": 27,
   "metadata": {
    "_kg_hide-input": true,
    "execution": {
     "iopub.execute_input": "2020-09-24T13:52:29.582477Z",
     "iopub.status.busy": "2020-09-24T13:52:29.579979Z",
     "iopub.status.idle": "2020-09-24T13:52:29.610391Z",
     "shell.execute_reply": "2020-09-24T13:52:29.609269Z"
    },
    "papermill": {
     "duration": 0.094645,
     "end_time": "2020-09-24T13:52:29.610598",
     "exception": false,
     "start_time": "2020-09-24T13:52:29.515953",
     "status": "completed"
    },
    "tags": []
   },
   "outputs": [
    {
     "name": "stdout",
     "output_type": "stream",
     "text": [
      "Accuracy of the default model             : 0.80\n",
      "Precision of the default model            : 0.63\n",
      "Recall of the default model               : 0.54\n",
      "F1 Score of the default model             : 0.58\n",
      "------------------------------------------------\n",
      "Accuracy of the model with 0.4 threshold  : 0.79\n",
      "Precision of the model with 0.4 threshold : 0.58\n",
      "Recall of the model with 0.4 threshold    : 0.66\n",
      "F1 Score of the model with 0.4 threshold  : 0.62\n",
      "------------------------------------------------\n",
      "Accuracy of the model with 0.3 threshold  : 0.76\n",
      "Precision of the model with 0.3 threshold : 0.53\n",
      "Recall of the model with 0.3 threshold    : 0.78\n",
      "F1 Score of the model with 0.3 threshold  : 0.63\n"
     ]
    }
   ],
   "source": [
    "print('Accuracy of the default model             : %.2f' % accuracy_score(y_test, y_pred))\n",
    "print('Precision of the default model            : %.2f' % precision_score(y_test, y_pred))\n",
    "print('Recall of the default model               : %.2f' % recall_score(y_test, y_pred))\n",
    "print('F1 Score of the default model             : %.2f' % f1_score(y_test, y_pred))\n",
    "print('--'*24)\n",
    "print('Accuracy of the model with 0.4 threshold  : %.2f' % accuracy_score(y_test, y_pred_4))\n",
    "print('Precision of the model with 0.4 threshold : %.2f' % precision_score(y_test, y_pred_4))\n",
    "print('Recall of the model with 0.4 threshold    : %.2f' % recall_score(y_test, y_pred_4))\n",
    "print('F1 Score of the model with 0.4 threshold  : %.2f' % f1_score(y_test, y_pred_4))\n",
    "print('--'*24)\n",
    "print('Accuracy of the model with 0.3 threshold  : %.2f' % accuracy_score(y_test, y_pred_3))\n",
    "print('Precision of the model with 0.3 threshold : %.2f' % precision_score(y_test, y_pred_3))\n",
    "print('Recall of the model with 0.3 threshold    : %.2f' % recall_score(y_test, y_pred_3))\n",
    "print('F1 Score of the model with 0.3 threshold  : %.2f' % f1_score(y_test, y_pred_3))"
   ]
  },
  {
   "cell_type": "code",
   "execution_count": 28,
   "metadata": {
    "_kg_hide-input": true,
    "execution": {
     "iopub.execute_input": "2020-09-24T13:52:29.751085Z",
     "iopub.status.busy": "2020-09-24T13:52:29.750302Z",
     "iopub.status.idle": "2020-09-24T13:52:30.010276Z",
     "shell.execute_reply": "2020-09-24T13:52:30.010954Z"
    },
    "papermill": {
     "duration": 0.344606,
     "end_time": "2020-09-24T13:52:30.011156",
     "exception": false,
     "start_time": "2020-09-24T13:52:29.666550",
     "status": "completed"
    },
    "tags": []
   },
   "outputs": [
    {
     "data": {
      "image/png": "[encoded data removed]",
      "text/plain": [
       "<Figure size 1080x288 with 3 Axes>"
      ]
     },
     "metadata": {
      "needs_background": "light"
     },
     "output_type": "display_data"
    }
   ],
   "source": [
    "plt.figure(figsize=(15,4))\n",
    "plt.subplot(1,3,1)\n",
    "sns.heatmap(confusion_matrix(y_test, y_pred), annot=True, annot_kws={\"fontsize\":20}, fmt='d', cbar=False, cmap='PuBu')\n",
    "plt.xlabel('Predicted Values')\n",
    "plt.ylabel('Actual Values')\n",
    "plt.title('Default Model', color='navy', fontsize=15)\n",
    "\n",
    "plt.subplot(1,3,2)\n",
    "sns.heatmap(confusion_matrix(y_test, y_pred_4), annot=True, annot_kws={\"fontsize\":20}, fmt='d', cbar=False, cmap='PuBu')\n",
    "plt.xlabel('Predicted Values')\n",
    "plt.ylabel('Actual Values')\n",
    "plt.title('Model with 0.4 Threshold', color='navy', fontsize=15)\n",
    "\n",
    "plt.subplot(1,3,3)\n",
    "sns.heatmap(confusion_matrix(y_test, y_pred_3), annot=True, annot_kws={\"fontsize\":20}, fmt='d', cbar=False, cmap='PuBu')\n",
    "plt.xlabel('Predicted Values')\n",
    "plt.ylabel('Actual Values')\n",
    "plt.title('Model with 0.3 Threshold', color='navy', fontsize=15);"
   ]
  },
  {
   "cell_type": "markdown",
   "metadata": {
    "papermill": {
     "duration": 0.055996,
     "end_time": "2020-09-24T13:52:30.124400",
     "exception": false,
     "start_time": "2020-09-24T13:52:30.068404",
     "status": "completed"
    },
    "tags": []
   },
   "source": [
    "**If we decide to choose 0.3 as the model's threshold, the company would only loose 79 customers instead of 169, and it would offer 259 customers who wouldn't choose to churn at all.**\n",
    "\n",
    "**For the scenario of this study, I am going to choose the 0.3 threshold. Because my imaginary client thinks the company would earn more profit by decreasing the number of the customers who are going to churn than offering discounts or offers to more customers.**"
   ]
  }
 ],
 "metadata": {
  "kernelspec": {
   "display_name": "Python 3",
   "language": "python",
   "name": "python3"
  },
  "language_info": {
   "codemirror_mode": {
    "name": "ipython",
    "version": 3
   },
   "file_extension": ".py",
   "mimetype": "text/x-python",
   "name": "python",
   "nbconvert_exporter": "python",
   "pygments_lexer": "ipython3",
   "version": "3.7.6"
  },
  "papermill": {
   "duration": 14.922665,
   "end_time": "2020-09-24T13:52:30.290600",
   "environment_variables": {},
   "exception": null,
   "input_path": "__notebook__.ipynb",
   "output_path": "__notebook__.ipynb",
   "parameters": {},
   "start_time": "2020-09-24T13:52:15.367935",
   "version": "2.1.0"
  }
 },
 "nbformat": 4,
 "nbformat_minor": 4
}
