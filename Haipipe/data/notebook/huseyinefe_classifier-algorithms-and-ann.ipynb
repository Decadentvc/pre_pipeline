{
 "cells": [
  {
   "cell_type": "markdown",
   "metadata": {},
   "source": [
    "#### I imported necessary libraries**"
   ]
  },
  {
   "cell_type": "code",
   "execution_count": 1,
   "metadata": {
    "_cell_guid": "b1076dfc-b9ad-4769-8c92-a6c4dae69d19",
    "_uuid": "8f2839f25d086af736a60e9eeb907d3b93b6e0e5"
   },
   "outputs": [
    {
     "name": "stderr",
     "output_type": "stream",
     "text": [
      "Using TensorFlow backend.\n"
     ]
    },
    {
     "name": "stdout",
     "output_type": "stream",
     "text": [
      "/kaggle/input/heart-disease-uci/heart.csv\n"
     ]
    }
   ],
   "source": [
    "\n",
    "import numpy as np # linear algebra\n",
    "import pandas as pd # data processing, CSV file I/O (e.g. pd.read_csv)\n",
    "import matplotlib.pyplot as plt # data visulization\n",
    "import seaborn as sns # data visulization\n",
    "from copy import deepcopy # data copy\n",
    "from sklearn.model_selection import train_test_split # data split\n",
    "from sklearn.preprocessing import StandardScaler # data preprocessing\n",
    "from sklearn.ensemble import RandomForestClassifier # machine learning algorithm\n",
    "from sklearn.svm import SVC # machine learning algorithm\n",
    "from sklearn.neighbors import KNeighborsClassifier # machine learning algorithm\n",
    "from sklearn.linear_model import LogisticRegression # machine learning algorithm\n",
    "from sklearn.metrics import confusion_matrix,roc_curve,roc_auc_score # measure error algorithm\n",
    "from keras.models import Sequential # start ANN model Deep Learning tool\n",
    "from keras.layers import Dense,Dropout # Deep Learning tool for prepare ANN model \n",
    "import os\n",
    "for dirname, _, filenames in os.walk('/kaggle/input'):\n",
    "    for filename in filenames:\n",
    "        print(os.path.join(dirname, filename))"
   ]
  },
  {
   "cell_type": "markdown",
   "metadata": {},
   "source": [
    "#### I loaded the dataset"
   ]
  },
  {
   "cell_type": "code",
   "execution_count": 2,
   "metadata": {
    "_cell_guid": "79c7e3d0-c299-4dcb-8224-4455121ee9b0",
    "_uuid": "d629ff2d2480ee46fbb7e2d37f6b5fab8052498a"
   },
   "outputs": [],
   "source": [
    "dataset=pd.read_csv(\"../input/heart-disease-uci/heart.csv\")"
   ]
  },
  {
   "cell_type": "markdown",
   "metadata": {},
   "source": [
    "### I got some information about the data"
   ]
  },
  {
   "cell_type": "code",
   "execution_count": 3,
   "metadata": {},
   "outputs": [
    {
     "name": "stdout",
     "output_type": "stream",
     "text": [
      "<class 'pandas.core.frame.DataFrame'>\n",
      "RangeIndex: 303 entries, 0 to 302\n",
      "Data columns (total 14 columns):\n",
      "age         303 non-null int64\n",
      "sex         303 non-null int64\n",
      "cp          303 non-null int64\n",
      "trestbps    303 non-null int64\n",
      "chol        303 non-null int64\n",
      "fbs         303 non-null int64\n",
      "restecg     303 non-null int64\n",
      "thalach     303 non-null int64\n",
      "exang       303 non-null int64\n",
      "oldpeak     303 non-null float64\n",
      "slope       303 non-null int64\n",
      "ca          303 non-null int64\n",
      "thal        303 non-null int64\n",
      "target      303 non-null int64\n",
      "dtypes: float64(1), int64(13)\n",
      "memory usage: 33.3 KB\n"
     ]
    }
   ],
   "source": [
    "dataset.info()"
   ]
  },
  {
   "cell_type": "markdown",
   "metadata": {},
   "source": [
    "### I observed the data"
   ]
  },
  {
   "cell_type": "code",
   "execution_count": 4,
   "metadata": {},
   "outputs": [
    {
     "data": {
      "text/html": [
       "<div>\n",
       "<style scoped>\n",
       "    .dataframe tbody tr th:only-of-type {\n",
       "        vertical-align: middle;\n",
       "    }\n",
       "\n",
       "    .dataframe tbody tr th {\n",
       "        vertical-align: top;\n",
       "    }\n",
       "\n",
       "    .dataframe thead th {\n",
       "        text-align: right;\n",
       "    }\n",
       "</style>\n",
       "<table border=\"1\" class=\"dataframe\">\n",
       "  <thead>\n",
       "    <tr style=\"text-align: right;\">\n",
       "      <th></th>\n",
       "      <th>age</th>\n",
       "      <th>sex</th>\n",
       "      <th>cp</th>\n",
       "      <th>trestbps</th>\n",
       "      <th>chol</th>\n",
       "      <th>fbs</th>\n",
       "      <th>restecg</th>\n",
       "      <th>thalach</th>\n",
       "      <th>exang</th>\n",
       "      <th>oldpeak</th>\n",
       "      <th>slope</th>\n",
       "      <th>ca</th>\n",
       "      <th>thal</th>\n",
       "      <th>target</th>\n",
       "    </tr>\n",
       "  </thead>\n",
       "  <tbody>\n",
       "    <tr>\n",
       "      <th>0</th>\n",
       "      <td>63</td>\n",
       "      <td>1</td>\n",
       "      <td>3</td>\n",
       "      <td>145</td>\n",
       "      <td>233</td>\n",
       "      <td>1</td>\n",
       "      <td>0</td>\n",
       "      <td>150</td>\n",
       "      <td>0</td>\n",
       "      <td>2.3</td>\n",
       "      <td>0</td>\n",
       "      <td>0</td>\n",
       "      <td>1</td>\n",
       "      <td>1</td>\n",
       "    </tr>\n",
       "    <tr>\n",
       "      <th>1</th>\n",
       "      <td>37</td>\n",
       "      <td>1</td>\n",
       "      <td>2</td>\n",
       "      <td>130</td>\n",
       "      <td>250</td>\n",
       "      <td>0</td>\n",
       "      <td>1</td>\n",
       "      <td>187</td>\n",
       "      <td>0</td>\n",
       "      <td>3.5</td>\n",
       "      <td>0</td>\n",
       "      <td>0</td>\n",
       "      <td>2</td>\n",
       "      <td>1</td>\n",
       "    </tr>\n",
       "    <tr>\n",
       "      <th>2</th>\n",
       "      <td>41</td>\n",
       "      <td>0</td>\n",
       "      <td>1</td>\n",
       "      <td>130</td>\n",
       "      <td>204</td>\n",
       "      <td>0</td>\n",
       "      <td>0</td>\n",
       "      <td>172</td>\n",
       "      <td>0</td>\n",
       "      <td>1.4</td>\n",
       "      <td>2</td>\n",
       "      <td>0</td>\n",
       "      <td>2</td>\n",
       "      <td>1</td>\n",
       "    </tr>\n",
       "    <tr>\n",
       "      <th>3</th>\n",
       "      <td>56</td>\n",
       "      <td>1</td>\n",
       "      <td>1</td>\n",
       "      <td>120</td>\n",
       "      <td>236</td>\n",
       "      <td>0</td>\n",
       "      <td>1</td>\n",
       "      <td>178</td>\n",
       "      <td>0</td>\n",
       "      <td>0.8</td>\n",
       "      <td>2</td>\n",
       "      <td>0</td>\n",
       "      <td>2</td>\n",
       "      <td>1</td>\n",
       "    </tr>\n",
       "    <tr>\n",
       "      <th>4</th>\n",
       "      <td>57</td>\n",
       "      <td>0</td>\n",
       "      <td>0</td>\n",
       "      <td>120</td>\n",
       "      <td>354</td>\n",
       "      <td>0</td>\n",
       "      <td>1</td>\n",
       "      <td>163</td>\n",
       "      <td>1</td>\n",
       "      <td>0.6</td>\n",
       "      <td>2</td>\n",
       "      <td>0</td>\n",
       "      <td>2</td>\n",
       "      <td>1</td>\n",
       "    </tr>\n",
       "  </tbody>\n",
       "</table>\n",
       "</div>"
      ],
      "text/plain": [
       "   age  sex  cp  trestbps  chol  fbs  restecg  thalach  exang  oldpeak  slope  \\\n",
       "0   63    1   3       145   233    1        0      150      0      2.3      0   \n",
       "1   37    1   2       130   250    0        1      187      0      3.5      0   \n",
       "2   41    0   1       130   204    0        0      172      0      1.4      2   \n",
       "3   56    1   1       120   236    0        1      178      0      0.8      2   \n",
       "4   57    0   0       120   354    0        1      163      1      0.6      2   \n",
       "\n",
       "   ca  thal  target  \n",
       "0   0     1       1  \n",
       "1   0     2       1  \n",
       "2   0     2       1  \n",
       "3   0     2       1  \n",
       "4   0     2       1  "
      ]
     },
     "execution_count": 4,
     "metadata": {},
     "output_type": "execute_result"
    }
   ],
   "source": [
    "dataset.head()"
   ]
  },
  {
   "cell_type": "markdown",
   "metadata": {},
   "source": [
    "#### I observed people that have heart dieases according to age"
   ]
  },
  {
   "cell_type": "code",
   "execution_count": 5,
   "metadata": {},
   "outputs": [
    {
     "data": {
      "image/png": "[encoded data removed]",
      "text/plain": [
       "<Figure size 720x720 with 1 Axes>"
      ]
     },
     "metadata": {
      "needs_background": "light"
     },
     "output_type": "display_data"
    }
   ],
   "source": [
    "plt.figure(figsize=(10,10))\n",
    "sns.countplot(dataset.age[dataset.target == 1 ])\n",
    "plt.title(\"Age Distribution of People That Being Heart Diases\")\n",
    "plt.ylabel(\"Number of People\")\n",
    "plt.xlabel(\"Age of People\")\n",
    "plt.show()"
   ]
  },
  {
   "cell_type": "markdown",
   "metadata": {},
   "source": [
    "#### I observed people that have not heart dieases according to age"
   ]
  },
  {
   "cell_type": "code",
   "execution_count": 6,
   "metadata": {},
   "outputs": [
    {
     "data": {
      "image/png": "[encoded data removed]",
      "text/plain": [
       "<Figure size 720x720 with 1 Axes>"
      ]
     },
     "metadata": {
      "needs_background": "light"
     },
     "output_type": "display_data"
    }
   ],
   "source": [
    "plt.figure(figsize=(10,10))\n",
    "sns.countplot(dataset.age[dataset.target == 0 ])\n",
    "plt.title(\"Age Distribution of People That Not Being Heart Diases\")\n",
    "plt.ylabel(\"Number of People\")\n",
    "plt.xlabel(\"Age of People\")\n",
    "plt.show()"
   ]
  },
  {
   "cell_type": "markdown",
   "metadata": {},
   "source": [
    "#### I divided it into labels and theirs features"
   ]
  },
  {
   "cell_type": "code",
   "execution_count": 7,
   "metadata": {},
   "outputs": [
    {
     "name": "stdout",
     "output_type": "stream",
     "text": [
      "x shape : (303, 13)\n",
      "y shape : (303, 1)\n"
     ]
    }
   ],
   "source": [
    "x=dataset.iloc[:,:-1].values\n",
    "y=dataset.iloc[:,-1:].values\n",
    "print(\"x shape :\",x.shape)\n",
    "print(\"y shape :\",y.shape)"
   ]
  },
  {
   "cell_type": "markdown",
   "metadata": {},
   "source": [
    "#### I divided the dataset as train and test dataset"
   ]
  },
  {
   "cell_type": "code",
   "execution_count": 8,
   "metadata": {},
   "outputs": [
    {
     "name": "stdout",
     "output_type": "stream",
     "text": [
      "x_train shape : (227, 13)\n",
      "x_test shape : (76, 13)\n",
      "y_train shape : (227, 1)\n",
      "y_test shape : (76, 1)\n"
     ]
    }
   ],
   "source": [
    "x_train,x_test,y_train,y_test = train_test_split(x,y,test_size=0.25,random_state=0)\n",
    "print(\"x_train shape :\",x_train.shape)\n",
    "print(\"x_test shape :\",x_test.shape)\n",
    "print(\"y_train shape :\",y_train.shape)\n",
    "print(\"y_test shape :\",y_test.shape)"
   ]
  },
  {
   "cell_type": "markdown",
   "metadata": {},
   "source": [
    "### I compressed the values -1 between 1"
   ]
  },
  {
   "cell_type": "code",
   "execution_count": 9,
   "metadata": {},
   "outputs": [],
   "source": [
    "sc=StandardScaler()\n",
    "x_train=sc.fit_transform(x_train)\n",
    "x_test=sc.transform(x_test)"
   ]
  },
  {
   "cell_type": "markdown",
   "metadata": {},
   "source": [
    "# ARTIFICIAL NEURAL NETWORK"
   ]
  },
  {
   "cell_type": "markdown",
   "metadata": {},
   "source": [
    "#### I creat my ANN model"
   ]
  },
  {
   "cell_type": "code",
   "execution_count": 10,
   "metadata": {},
   "outputs": [],
   "source": [
    "model = Sequential()\n",
    "\n",
    "model.add(Dense(206,activation=\"relu\",input_dim=13))\n",
    "model.add(Dropout(0.4))\n",
    "model.add(Dense(103,activation=\"relu\"))\n",
    "model.add(Dropout(0.4))\n",
    "model.add(Dense(1,activation=\"sigmoid\"))"
   ]
  },
  {
   "cell_type": "markdown",
   "metadata": {},
   "source": [
    "#### I compiled my model because I want to see validation and loss of train and test dataset"
   ]
  },
  {
   "cell_type": "code",
   "execution_count": 11,
   "metadata": {},
   "outputs": [],
   "source": [
    "model.compile(optimizer=\"adam\",loss=\"binary_crossentropy\",metrics=[\"accuracy\"])"
   ]
  },
  {
   "cell_type": "markdown",
   "metadata": {},
   "source": [
    "#### I started to work my model"
   ]
  },
  {
   "cell_type": "code",
   "execution_count": 12,
   "metadata": {},
   "outputs": [
    {
     "name": "stdout",
     "output_type": "stream",
     "text": [
      "Train on 227 samples, validate on 76 samples\n",
      "Epoch 1/100\n",
      "227/227 [==============================] - 1s 2ms/step - loss: 0.7860 - accuracy: 0.3965 - val_loss: 0.6991 - val_accuracy: 0.4737\n",
      "Epoch 2/100\n",
      "227/227 [==============================] - 0s 33us/step - loss: 0.7380 - accuracy: 0.4802 - val_loss: 0.6631 - val_accuracy: 0.5789\n",
      "Epoch 3/100\n",
      "227/227 [==============================] - 0s 30us/step - loss: 0.6761 - accuracy: 0.5727 - val_loss: 0.6311 - val_accuracy: 0.6842\n",
      "Epoch 4/100\n",
      "227/227 [==============================] - 0s 30us/step - loss: 0.6743 - accuracy: 0.5771 - val_loss: 0.6023 - val_accuracy: 0.7500\n",
      "Epoch 5/100\n",
      "227/227 [==============================] - 0s 27us/step - loss: 0.6195 - accuracy: 0.6784 - val_loss: 0.5768 - val_accuracy: 0.8289\n",
      "Epoch 6/100\n",
      "227/227 [==============================] - 0s 28us/step - loss: 0.5882 - accuracy: 0.7489 - val_loss: 0.5538 - val_accuracy: 0.8158\n",
      "Epoch 7/100\n",
      "227/227 [==============================] - 0s 27us/step - loss: 0.5892 - accuracy: 0.7225 - val_loss: 0.5333 - val_accuracy: 0.8289\n",
      "Epoch 8/100\n",
      "227/227 [==============================] - 0s 25us/step - loss: 0.5403 - accuracy: 0.7577 - val_loss: 0.5146 - val_accuracy: 0.8289\n",
      "Epoch 9/100\n",
      "227/227 [==============================] - 0s 25us/step - loss: 0.5462 - accuracy: 0.7357 - val_loss: 0.4975 - val_accuracy: 0.8026\n",
      "Epoch 10/100\n",
      "227/227 [==============================] - 0s 26us/step - loss: 0.5310 - accuracy: 0.7665 - val_loss: 0.4819 - val_accuracy: 0.8026\n",
      "Epoch 11/100\n",
      "227/227 [==============================] - 0s 28us/step - loss: 0.4981 - accuracy: 0.7797 - val_loss: 0.4676 - val_accuracy: 0.8026\n",
      "Epoch 12/100\n",
      "227/227 [==============================] - 0s 28us/step - loss: 0.4877 - accuracy: 0.7930 - val_loss: 0.4545 - val_accuracy: 0.8158\n",
      "Epoch 13/100\n",
      "227/227 [==============================] - 0s 25us/step - loss: 0.4704 - accuracy: 0.8150 - val_loss: 0.4425 - val_accuracy: 0.8158\n",
      "Epoch 14/100\n",
      "227/227 [==============================] - 0s 29us/step - loss: 0.4642 - accuracy: 0.8238 - val_loss: 0.4316 - val_accuracy: 0.8158\n",
      "Epoch 15/100\n",
      "227/227 [==============================] - 0s 30us/step - loss: 0.4593 - accuracy: 0.8062 - val_loss: 0.4219 - val_accuracy: 0.8289\n",
      "Epoch 16/100\n",
      "227/227 [==============================] - 0s 26us/step - loss: 0.4305 - accuracy: 0.8458 - val_loss: 0.4131 - val_accuracy: 0.8158\n",
      "Epoch 17/100\n",
      "227/227 [==============================] - 0s 27us/step - loss: 0.4232 - accuracy: 0.8194 - val_loss: 0.4052 - val_accuracy: 0.8158\n",
      "Epoch 18/100\n",
      "227/227 [==============================] - 0s 24us/step - loss: 0.4276 - accuracy: 0.8238 - val_loss: 0.3982 - val_accuracy: 0.8158\n",
      "Epoch 19/100\n",
      "227/227 [==============================] - 0s 25us/step - loss: 0.4320 - accuracy: 0.8062 - val_loss: 0.3922 - val_accuracy: 0.8289\n",
      "Epoch 20/100\n",
      "227/227 [==============================] - 0s 26us/step - loss: 0.4073 - accuracy: 0.8458 - val_loss: 0.3867 - val_accuracy: 0.8289\n",
      "Epoch 21/100\n",
      "227/227 [==============================] - 0s 23us/step - loss: 0.3974 - accuracy: 0.8370 - val_loss: 0.3821 - val_accuracy: 0.8289\n",
      "Epoch 22/100\n",
      "227/227 [==============================] - 0s 26us/step - loss: 0.3990 - accuracy: 0.8194 - val_loss: 0.3782 - val_accuracy: 0.8289\n",
      "Epoch 23/100\n",
      "227/227 [==============================] - 0s 28us/step - loss: 0.4010 - accuracy: 0.8370 - val_loss: 0.3749 - val_accuracy: 0.8289\n",
      "Epoch 24/100\n",
      "227/227 [==============================] - 0s 27us/step - loss: 0.3759 - accuracy: 0.8282 - val_loss: 0.3723 - val_accuracy: 0.8158\n",
      "Epoch 25/100\n",
      "227/227 [==============================] - 0s 26us/step - loss: 0.3712 - accuracy: 0.8458 - val_loss: 0.3701 - val_accuracy: 0.8158\n",
      "Epoch 26/100\n",
      "227/227 [==============================] - 0s 26us/step - loss: 0.3636 - accuracy: 0.8458 - val_loss: 0.3685 - val_accuracy: 0.8158\n",
      "Epoch 27/100\n",
      "227/227 [==============================] - 0s 25us/step - loss: 0.3729 - accuracy: 0.8590 - val_loss: 0.3673 - val_accuracy: 0.8158\n",
      "Epoch 28/100\n",
      "227/227 [==============================] - 0s 28us/step - loss: 0.3414 - accuracy: 0.8414 - val_loss: 0.3667 - val_accuracy: 0.8289\n",
      "Epoch 29/100\n",
      "227/227 [==============================] - 0s 31us/step - loss: 0.3563 - accuracy: 0.8502 - val_loss: 0.3664 - val_accuracy: 0.8289\n",
      "Epoch 30/100\n",
      "227/227 [==============================] - 0s 30us/step - loss: 0.3557 - accuracy: 0.8370 - val_loss: 0.3666 - val_accuracy: 0.8421\n",
      "Epoch 31/100\n",
      "227/227 [==============================] - 0s 30us/step - loss: 0.3438 - accuracy: 0.8634 - val_loss: 0.3670 - val_accuracy: 0.8289\n",
      "Epoch 32/100\n",
      "227/227 [==============================] - 0s 27us/step - loss: 0.3624 - accuracy: 0.8370 - val_loss: 0.3676 - val_accuracy: 0.8289\n",
      "Epoch 33/100\n",
      "227/227 [==============================] - 0s 26us/step - loss: 0.3591 - accuracy: 0.8370 - val_loss: 0.3685 - val_accuracy: 0.8289\n",
      "Epoch 34/100\n",
      "227/227 [==============================] - 0s 27us/step - loss: 0.3484 - accuracy: 0.8502 - val_loss: 0.3695 - val_accuracy: 0.8289\n",
      "Epoch 35/100\n",
      "227/227 [==============================] - 0s 26us/step - loss: 0.3586 - accuracy: 0.8634 - val_loss: 0.3707 - val_accuracy: 0.8289\n",
      "Epoch 36/100\n",
      "227/227 [==============================] - 0s 27us/step - loss: 0.3266 - accuracy: 0.8546 - val_loss: 0.3720 - val_accuracy: 0.8289\n",
      "Epoch 37/100\n",
      "227/227 [==============================] - 0s 27us/step - loss: 0.3345 - accuracy: 0.8546 - val_loss: 0.3733 - val_accuracy: 0.8289\n",
      "Epoch 38/100\n",
      "227/227 [==============================] - 0s 27us/step - loss: 0.3620 - accuracy: 0.8546 - val_loss: 0.3748 - val_accuracy: 0.8289\n",
      "Epoch 39/100\n",
      "227/227 [==============================] - 0s 28us/step - loss: 0.3260 - accuracy: 0.8678 - val_loss: 0.3763 - val_accuracy: 0.8289\n",
      "Epoch 40/100\n",
      "227/227 [==============================] - 0s 26us/step - loss: 0.3363 - accuracy: 0.8414 - val_loss: 0.3776 - val_accuracy: 0.8289\n",
      "Epoch 41/100\n",
      "227/227 [==============================] - 0s 29us/step - loss: 0.3371 - accuracy: 0.8414 - val_loss: 0.3789 - val_accuracy: 0.8421\n",
      "Epoch 42/100\n",
      "227/227 [==============================] - 0s 26us/step - loss: 0.3171 - accuracy: 0.8678 - val_loss: 0.3801 - val_accuracy: 0.8421\n",
      "Epoch 43/100\n",
      "227/227 [==============================] - 0s 27us/step - loss: 0.3674 - accuracy: 0.8546 - val_loss: 0.3811 - val_accuracy: 0.8421\n",
      "Epoch 44/100\n",
      "227/227 [==============================] - 0s 28us/step - loss: 0.3118 - accuracy: 0.8767 - val_loss: 0.3820 - val_accuracy: 0.8421\n",
      "Epoch 45/100\n",
      "227/227 [==============================] - 0s 25us/step - loss: 0.3124 - accuracy: 0.8546 - val_loss: 0.3828 - val_accuracy: 0.8421\n",
      "Epoch 46/100\n",
      "227/227 [==============================] - 0s 28us/step - loss: 0.3316 - accuracy: 0.8458 - val_loss: 0.3837 - val_accuracy: 0.8421\n",
      "Epoch 47/100\n",
      "227/227 [==============================] - 0s 29us/step - loss: 0.3317 - accuracy: 0.8502 - val_loss: 0.3842 - val_accuracy: 0.8421\n",
      "Epoch 48/100\n",
      "227/227 [==============================] - 0s 29us/step - loss: 0.2997 - accuracy: 0.8855 - val_loss: 0.3846 - val_accuracy: 0.8421\n",
      "Epoch 49/100\n",
      "227/227 [==============================] - 0s 29us/step - loss: 0.3030 - accuracy: 0.8767 - val_loss: 0.3848 - val_accuracy: 0.8421\n",
      "Epoch 50/100\n",
      "227/227 [==============================] - 0s 26us/step - loss: 0.2961 - accuracy: 0.8634 - val_loss: 0.3848 - val_accuracy: 0.8421\n",
      "Epoch 51/100\n",
      "227/227 [==============================] - 0s 26us/step - loss: 0.2968 - accuracy: 0.8855 - val_loss: 0.3849 - val_accuracy: 0.8421\n",
      "Epoch 52/100\n",
      "227/227 [==============================] - 0s 27us/step - loss: 0.3177 - accuracy: 0.8634 - val_loss: 0.3849 - val_accuracy: 0.8421\n",
      "Epoch 53/100\n",
      "227/227 [==============================] - 0s 29us/step - loss: 0.3087 - accuracy: 0.8811 - val_loss: 0.3850 - val_accuracy: 0.8421\n",
      "Epoch 54/100\n",
      "227/227 [==============================] - 0s 29us/step - loss: 0.2919 - accuracy: 0.8767 - val_loss: 0.3850 - val_accuracy: 0.8421\n",
      "Epoch 55/100\n",
      "227/227 [==============================] - 0s 27us/step - loss: 0.2937 - accuracy: 0.8811 - val_loss: 0.3848 - val_accuracy: 0.8421\n",
      "Epoch 56/100\n",
      "227/227 [==============================] - 0s 26us/step - loss: 0.3049 - accuracy: 0.8458 - val_loss: 0.3848 - val_accuracy: 0.8421\n",
      "Epoch 57/100\n",
      "227/227 [==============================] - 0s 29us/step - loss: 0.3209 - accuracy: 0.8767 - val_loss: 0.3845 - val_accuracy: 0.8421\n",
      "Epoch 58/100\n",
      "227/227 [==============================] - 0s 29us/step - loss: 0.2889 - accuracy: 0.8811 - val_loss: 0.3841 - val_accuracy: 0.8421\n",
      "Epoch 59/100\n",
      "227/227 [==============================] - 0s 28us/step - loss: 0.3177 - accuracy: 0.8722 - val_loss: 0.3835 - val_accuracy: 0.8421\n",
      "Epoch 60/100\n",
      "227/227 [==============================] - 0s 28us/step - loss: 0.3008 - accuracy: 0.8855 - val_loss: 0.3830 - val_accuracy: 0.8421\n",
      "Epoch 61/100\n",
      "227/227 [==============================] - 0s 29us/step - loss: 0.3011 - accuracy: 0.8811 - val_loss: 0.3825 - val_accuracy: 0.8421\n",
      "Epoch 62/100\n",
      "227/227 [==============================] - 0s 29us/step - loss: 0.3143 - accuracy: 0.8722 - val_loss: 0.3818 - val_accuracy: 0.8421\n",
      "Epoch 63/100\n",
      "227/227 [==============================] - 0s 28us/step - loss: 0.2927 - accuracy: 0.8678 - val_loss: 0.3812 - val_accuracy: 0.8421\n",
      "Epoch 64/100\n",
      "227/227 [==============================] - 0s 28us/step - loss: 0.2892 - accuracy: 0.8678 - val_loss: 0.3805 - val_accuracy: 0.8421\n",
      "Epoch 65/100\n",
      "227/227 [==============================] - 0s 27us/step - loss: 0.2972 - accuracy: 0.8678 - val_loss: 0.3797 - val_accuracy: 0.8421\n",
      "Epoch 66/100\n",
      "227/227 [==============================] - 0s 28us/step - loss: 0.2655 - accuracy: 0.8987 - val_loss: 0.3790 - val_accuracy: 0.8421\n",
      "Epoch 67/100\n",
      "227/227 [==============================] - 0s 29us/step - loss: 0.2798 - accuracy: 0.8855 - val_loss: 0.3782 - val_accuracy: 0.8421\n",
      "Epoch 68/100\n",
      "227/227 [==============================] - 0s 25us/step - loss: 0.2850 - accuracy: 0.8855 - val_loss: 0.3775 - val_accuracy: 0.8421\n",
      "Epoch 69/100\n",
      "227/227 [==============================] - 0s 28us/step - loss: 0.2543 - accuracy: 0.9207 - val_loss: 0.3768 - val_accuracy: 0.8553\n",
      "Epoch 70/100\n",
      "227/227 [==============================] - 0s 27us/step - loss: 0.2771 - accuracy: 0.8855 - val_loss: 0.3765 - val_accuracy: 0.8553\n",
      "Epoch 71/100\n",
      "227/227 [==============================] - 0s 28us/step - loss: 0.2807 - accuracy: 0.8811 - val_loss: 0.3765 - val_accuracy: 0.8553\n",
      "Epoch 72/100\n",
      "227/227 [==============================] - 0s 26us/step - loss: 0.2524 - accuracy: 0.9075 - val_loss: 0.3764 - val_accuracy: 0.8553\n",
      "Epoch 73/100\n",
      "227/227 [==============================] - 0s 26us/step - loss: 0.2703 - accuracy: 0.8987 - val_loss: 0.3763 - val_accuracy: 0.8553\n",
      "Epoch 74/100\n",
      "227/227 [==============================] - 0s 30us/step - loss: 0.2648 - accuracy: 0.8899 - val_loss: 0.3761 - val_accuracy: 0.8553\n",
      "Epoch 75/100\n",
      "227/227 [==============================] - 0s 31us/step - loss: 0.2676 - accuracy: 0.8943 - val_loss: 0.3759 - val_accuracy: 0.8553\n",
      "Epoch 76/100\n",
      "227/227 [==============================] - 0s 27us/step - loss: 0.2825 - accuracy: 0.8987 - val_loss: 0.3755 - val_accuracy: 0.8553\n",
      "Epoch 77/100\n",
      "227/227 [==============================] - 0s 28us/step - loss: 0.2616 - accuracy: 0.8943 - val_loss: 0.3752 - val_accuracy: 0.8553\n",
      "Epoch 78/100\n",
      "227/227 [==============================] - 0s 28us/step - loss: 0.2608 - accuracy: 0.8943 - val_loss: 0.3750 - val_accuracy: 0.8553\n",
      "Epoch 79/100\n",
      "227/227 [==============================] - 0s 28us/step - loss: 0.2516 - accuracy: 0.8987 - val_loss: 0.3750 - val_accuracy: 0.8553\n",
      "Epoch 80/100\n",
      "227/227 [==============================] - 0s 26us/step - loss: 0.2616 - accuracy: 0.8899 - val_loss: 0.3750 - val_accuracy: 0.8553\n",
      "Epoch 81/100\n",
      "227/227 [==============================] - 0s 30us/step - loss: 0.2587 - accuracy: 0.8767 - val_loss: 0.3753 - val_accuracy: 0.8553\n",
      "Epoch 82/100\n",
      "227/227 [==============================] - 0s 28us/step - loss: 0.2786 - accuracy: 0.8899 - val_loss: 0.3756 - val_accuracy: 0.8553\n",
      "Epoch 83/100\n",
      "227/227 [==============================] - 0s 28us/step - loss: 0.2871 - accuracy: 0.8943 - val_loss: 0.3759 - val_accuracy: 0.8553\n",
      "Epoch 84/100\n",
      "227/227 [==============================] - 0s 32us/step - loss: 0.2380 - accuracy: 0.9075 - val_loss: 0.3763 - val_accuracy: 0.8553\n",
      "Epoch 85/100\n",
      "227/227 [==============================] - 0s 28us/step - loss: 0.2638 - accuracy: 0.8987 - val_loss: 0.3762 - val_accuracy: 0.8684\n",
      "Epoch 86/100\n",
      "227/227 [==============================] - 0s 27us/step - loss: 0.2637 - accuracy: 0.8899 - val_loss: 0.3762 - val_accuracy: 0.8684\n",
      "Epoch 87/100\n",
      "227/227 [==============================] - 0s 28us/step - loss: 0.2463 - accuracy: 0.8987 - val_loss: 0.3762 - val_accuracy: 0.8684\n",
      "Epoch 88/100\n",
      "227/227 [==============================] - 0s 27us/step - loss: 0.2534 - accuracy: 0.8767 - val_loss: 0.3764 - val_accuracy: 0.8684\n",
      "Epoch 89/100\n",
      "227/227 [==============================] - 0s 27us/step - loss: 0.2519 - accuracy: 0.9119 - val_loss: 0.3762 - val_accuracy: 0.8684\n",
      "Epoch 90/100\n",
      "227/227 [==============================] - 0s 27us/step - loss: 0.2396 - accuracy: 0.9075 - val_loss: 0.3759 - val_accuracy: 0.8684\n",
      "Epoch 91/100\n",
      "227/227 [==============================] - 0s 31us/step - loss: 0.2518 - accuracy: 0.8987 - val_loss: 0.3756 - val_accuracy: 0.8684\n",
      "Epoch 92/100\n",
      "227/227 [==============================] - 0s 31us/step - loss: 0.2364 - accuracy: 0.8987 - val_loss: 0.3753 - val_accuracy: 0.8684\n",
      "Epoch 93/100\n",
      "227/227 [==============================] - 0s 32us/step - loss: 0.2362 - accuracy: 0.9119 - val_loss: 0.3748 - val_accuracy: 0.8684\n",
      "Epoch 94/100\n",
      "227/227 [==============================] - 0s 29us/step - loss: 0.2230 - accuracy: 0.9207 - val_loss: 0.3747 - val_accuracy: 0.8684\n",
      "Epoch 95/100\n",
      "227/227 [==============================] - 0s 27us/step - loss: 0.2424 - accuracy: 0.9075 - val_loss: 0.3744 - val_accuracy: 0.8684\n",
      "Epoch 96/100\n",
      "227/227 [==============================] - 0s 26us/step - loss: 0.2516 - accuracy: 0.9207 - val_loss: 0.3744 - val_accuracy: 0.8684\n",
      "Epoch 97/100\n",
      "227/227 [==============================] - 0s 28us/step - loss: 0.2527 - accuracy: 0.8899 - val_loss: 0.3744 - val_accuracy: 0.8684\n",
      "Epoch 98/100\n",
      "227/227 [==============================] - 0s 25us/step - loss: 0.2232 - accuracy: 0.9163 - val_loss: 0.3742 - val_accuracy: 0.8684\n",
      "Epoch 99/100\n",
      "227/227 [==============================] - 0s 28us/step - loss: 0.2243 - accuracy: 0.9031 - val_loss: 0.3743 - val_accuracy: 0.8684\n",
      "Epoch 100/100\n",
      "227/227 [==============================] - 0s 27us/step - loss: 0.2107 - accuracy: 0.9163 - val_loss: 0.3744 - val_accuracy: 0.8684\n"
     ]
    }
   ],
   "source": [
    "hist=model.fit(x_train,y_train,batch_size=250,epochs=100,validation_data=(x_test,y_test))"
   ]
  },
  {
   "cell_type": "markdown",
   "metadata": {},
   "source": [
    "#### I equalized the values I obtained 0 and 1 for using heatmap visulization and I used deepcopy predicted values for use roc_curve and roc_auc_score algorithms "
   ]
  },
  {
   "cell_type": "code",
   "execution_count": 13,
   "metadata": {},
   "outputs": [],
   "source": [
    "prediction=model.predict(x_test)\n",
    "predict=deepcopy(prediction)\n",
    "for i in range(0,len(prediction)):\n",
    "    if prediction[i] <0.5:\n",
    "        prediction[i] = 0\n",
    "    else:\n",
    "        prediction[i] = 1"
   ]
  },
  {
   "cell_type": "markdown",
   "metadata": {},
   "source": [
    "#                         HEAT MAP"
   ]
  },
  {
   "cell_type": "code",
   "execution_count": 14,
   "metadata": {},
   "outputs": [
    {
     "data": {
      "image/png": "[encoded data removed]",
      "text/plain": [
       "<Figure size 720x720 with 2 Axes>"
      ]
     },
     "metadata": {
      "needs_background": "light"
     },
     "output_type": "display_data"
    }
   ],
   "source": [
    "cfm=confusion_matrix(y_test,prediction)\n",
    "f,ax=plt.subplots(figsize=(10,10))\n",
    "sns.heatmap(cfm,annot=True,cmap=\"coolwarm\",linewidths=1,linecolor=\"black\",fmt=\".1f\",ax=ax)\n",
    "plt.title(\"Error Number With Heat Map\")\n",
    "plt.xlabel(\"Real\")\n",
    "plt.ylabel(\"Prediction\")\n",
    "plt.show()"
   ]
  },
  {
   "cell_type": "markdown",
   "metadata": {},
   "source": [
    "# ROC CURVE"
   ]
  },
  {
   "cell_type": "code",
   "execution_count": 15,
   "metadata": {},
   "outputs": [
    {
     "name": "stdout",
     "output_type": "stream",
     "text": [
      "fpr shape : (20,)\n",
      "tpr shape : (20,)\n",
      "threshold shape : (20,)\n"
     ]
    }
   ],
   "source": [
    "fpr,tpr,threshold=roc_curve(y_test,predict)\n",
    "print(\"fpr shape :\",fpr.shape)\n",
    "print(\"tpr shape :\",tpr.shape)\n",
    "print(\"threshold shape :\",threshold.shape)"
   ]
  },
  {
   "cell_type": "code",
   "execution_count": 16,
   "metadata": {},
   "outputs": [
    {
     "data": {
      "image/png": "[encoded data removed]",
      "text/plain": [
       "<Figure size 1080x576 with 1 Axes>"
      ]
     },
     "metadata": {
      "needs_background": "light"
     },
     "output_type": "display_data"
    }
   ],
   "source": [
    "plt.figure(figsize=(15,8))\n",
    "plt.plot(tpr,color=\"green\",label=\"TPR\")\n",
    "plt.plot(fpr,color=\"red\",label=\"FPR\")\n",
    "plt.xlabel(\"False Positive Rate\")\n",
    "plt.ylabel(\"True Positive Rate\")\n",
    "plt.grid()\n",
    "plt.title(\"Roc Curve Validation\")\n",
    "plt.show()"
   ]
  },
  {
   "cell_type": "markdown",
   "metadata": {},
   "source": [
    "# ROC AUC SCORE"
   ]
  },
  {
   "cell_type": "code",
   "execution_count": 17,
   "metadata": {},
   "outputs": [
    {
     "name": "stdout",
     "output_type": "stream",
     "text": [
      "Roc Auc Score : 0.9090909090909091\n"
     ]
    }
   ],
   "source": [
    "score=roc_auc_score(y_test,predict)\n",
    "print(\"Roc Auc Score :\",score)"
   ]
  },
  {
   "cell_type": "markdown",
   "metadata": {},
   "source": [
    "# RANDOM FOREST CLASSIFIER"
   ]
  },
  {
   "cell_type": "markdown",
   "metadata": {},
   "source": [
    "#### I changed the number several numbers of estimators by for loop for which number to decide better"
   ]
  },
  {
   "cell_type": "code",
   "execution_count": 18,
   "metadata": {},
   "outputs": [
    {
     "name": "stderr",
     "output_type": "stream",
     "text": [
      "/opt/conda/lib/python3.6/site-packages/ipykernel_launcher.py:5: DataConversionWarning: A column-vector y was passed when a 1d array was expected. Please change the shape of y to (n_samples,), for example using ravel().\n",
      "  \"\"\"\n",
      "/opt/conda/lib/python3.6/site-packages/ipykernel_launcher.py:5: DataConversionWarning: A column-vector y was passed when a 1d array was expected. Please change the shape of y to (n_samples,), for example using ravel().\n",
      "  \"\"\"\n",
      "/opt/conda/lib/python3.6/site-packages/ipykernel_launcher.py:5: DataConversionWarning: A column-vector y was passed when a 1d array was expected. Please change the shape of y to (n_samples,), for example using ravel().\n",
      "  \"\"\"\n",
      "/opt/conda/lib/python3.6/site-packages/ipykernel_launcher.py:5: DataConversionWarning: A column-vector y was passed when a 1d array was expected. Please change the shape of y to (n_samples,), for example using ravel().\n",
      "  \"\"\"\n",
      "/opt/conda/lib/python3.6/site-packages/ipykernel_launcher.py:5: DataConversionWarning: A column-vector y was passed when a 1d array was expected. Please change the shape of y to (n_samples,), for example using ravel().\n",
      "  \"\"\"\n",
      "/opt/conda/lib/python3.6/site-packages/ipykernel_launcher.py:5: DataConversionWarning: A column-vector y was passed when a 1d array was expected. Please change the shape of y to (n_samples,), for example using ravel().\n",
      "  \"\"\"\n",
      "/opt/conda/lib/python3.6/site-packages/ipykernel_launcher.py:5: DataConversionWarning: A column-vector y was passed when a 1d array was expected. Please change the shape of y to (n_samples,), for example using ravel().\n",
      "  \"\"\"\n",
      "/opt/conda/lib/python3.6/site-packages/ipykernel_launcher.py:5: DataConversionWarning: A column-vector y was passed when a 1d array was expected. Please change the shape of y to (n_samples,), for example using ravel().\n",
      "  \"\"\"\n",
      "/opt/conda/lib/python3.6/site-packages/ipykernel_launcher.py:5: DataConversionWarning: A column-vector y was passed when a 1d array was expected. Please change the shape of y to (n_samples,), for example using ravel().\n",
      "  \"\"\"\n",
      "/opt/conda/lib/python3.6/site-packages/ipykernel_launcher.py:5: DataConversionWarning: A column-vector y was passed when a 1d array was expected. Please change the shape of y to (n_samples,), for example using ravel().\n",
      "  \"\"\"\n"
     ]
    }
   ],
   "source": [
    "train_score=[]\n",
    "test_score=[]\n",
    "for i in range(1,11):\n",
    " rfc=RandomForestClassifier(n_estimators=i,random_state=0)\n",
    " rfc.fit(x_train,y_train)\n",
    " train_score.append(rfc.score(x_train,y_train))\n",
    " test_score.append(rfc.score(x_test,y_test))"
   ]
  },
  {
   "cell_type": "markdown",
   "metadata": {},
   "source": [
    "#### I observed and decided which number better"
   ]
  },
  {
   "cell_type": "code",
   "execution_count": 19,
   "metadata": {},
   "outputs": [
    {
     "data": {
      "image/png": "[encoded data removed]",
      "text/plain": [
       "<Figure size 432x288 with 1 Axes>"
      ]
     },
     "metadata": {
      "needs_background": "light"
     },
     "output_type": "display_data"
    }
   ],
   "source": [
    "plt.plot(train_score,color=\"green\",label=\"Train Score\")\n",
    "plt.plot(test_score,color=\"red\",label=\"Test Score\")\n",
    "plt.legend()\n",
    "plt.xlabel(\"Number of Tree\")\n",
    "plt.ylabel(\"Score Validations\")\n",
    "plt.title(\"Choose Tree Number\")\n",
    "plt.show()"
   ]
  },
  {
   "cell_type": "code",
   "execution_count": 20,
   "metadata": {},
   "outputs": [
    {
     "name": "stdout",
     "output_type": "stream",
     "text": [
      "Train Accuracy : 0.9383259911894273\n",
      "Test Accuracy : 0.8026315789473685\n"
     ]
    },
    {
     "name": "stderr",
     "output_type": "stream",
     "text": [
      "/opt/conda/lib/python3.6/site-packages/ipykernel_launcher.py:2: DataConversionWarning: A column-vector y was passed when a 1d array was expected. Please change the shape of y to (n_samples,), for example using ravel().\n",
      "  \n"
     ]
    }
   ],
   "source": [
    "rfc1=RandomForestClassifier(n_estimators=3,random_state=0)\n",
    "rfc1.fit(x_train,y_train)\n",
    "prediction=rfc1.predict(x_test)\n",
    "print(\"Train Accuracy :\",rfc1.score(x_train,y_train))\n",
    "print(\"Test Accuracy :\",rfc1.score(x_test,y_test))"
   ]
  },
  {
   "cell_type": "markdown",
   "metadata": {},
   "source": [
    "# HEAT MAP"
   ]
  },
  {
   "cell_type": "code",
   "execution_count": 21,
   "metadata": {},
   "outputs": [
    {
     "data": {
      "image/png": "[encoded data removed]",
      "text/plain": [
       "<Figure size 720x720 with 2 Axes>"
      ]
     },
     "metadata": {
      "needs_background": "light"
     },
     "output_type": "display_data"
    }
   ],
   "source": [
    "f,ax=plt.subplots(figsize=(10,10))\n",
    "cfm=confusion_matrix(y_test,prediction)\n",
    "sns.heatmap(cfm,annot=True,cmap=\"coolwarm\",linewidths=1,linecolor=\"black\",fmt=\".1f\",ax=ax)\n",
    "plt.title(\"Error Number With Heat Map\")\n",
    "plt.xlabel(\"Real\")\n",
    "plt.ylabel(\"Prediction\")\n",
    "plt.show()"
   ]
  },
  {
   "cell_type": "markdown",
   "metadata": {},
   "source": [
    "# SUPPORT VECTOR CLASSIFIER"
   ]
  },
  {
   "cell_type": "code",
   "execution_count": 22,
   "metadata": {},
   "outputs": [
    {
     "name": "stdout",
     "output_type": "stream",
     "text": [
      "Train Accuracy : 0.9162995594713657\n",
      "Test Accuracy : 0.8552631578947368\n"
     ]
    },
    {
     "name": "stderr",
     "output_type": "stream",
     "text": [
      "/opt/conda/lib/python3.6/site-packages/sklearn/utils/validation.py:760: DataConversionWarning: A column-vector y was passed when a 1d array was expected. Please change the shape of y to (n_samples, ), for example using ravel().\n",
      "  y = column_or_1d(y, warn=True)\n"
     ]
    }
   ],
   "source": [
    "svc=SVC(random_state=42)\n",
    "svc.fit(x_train,y_train)\n",
    "print(\"Train Accuracy :\",svc.score(x_train,y_train))\n",
    "print(\"Test Accuracy :\",svc.score(x_test,y_test))"
   ]
  },
  {
   "cell_type": "code",
   "execution_count": 23,
   "metadata": {},
   "outputs": [],
   "source": [
    "prediction=svc.predict(x_test)"
   ]
  },
  {
   "cell_type": "markdown",
   "metadata": {},
   "source": [
    "# HEAT MAP"
   ]
  },
  {
   "cell_type": "code",
   "execution_count": 24,
   "metadata": {},
   "outputs": [
    {
     "data": {
      "image/png": "[encoded data removed]",
      "text/plain": [
       "<Figure size 720x720 with 2 Axes>"
      ]
     },
     "metadata": {
      "needs_background": "light"
     },
     "output_type": "display_data"
    }
   ],
   "source": [
    "f,ax=plt.subplots(figsize=(10,10))\n",
    "cfm=confusion_matrix(y_test,prediction)\n",
    "sns.heatmap(cfm,annot=True,cmap=\"coolwarm\",linewidths=1,linecolor=\"black\",fmt=\".1f\",ax=ax)\n",
    "plt.title(\"Error Number With Heat Map\")\n",
    "plt.xlabel(\"Real\")\n",
    "plt.ylabel(\"Prediction\")\n",
    "plt.show()"
   ]
  },
  {
   "cell_type": "markdown",
   "metadata": {},
   "source": [
    "# K-NEAREST NEİGHBOURS"
   ]
  },
  {
   "cell_type": "code",
   "execution_count": 25,
   "metadata": {},
   "outputs": [
    {
     "name": "stderr",
     "output_type": "stream",
     "text": [
      "/opt/conda/lib/python3.6/site-packages/ipykernel_launcher.py:5: DataConversionWarning: A column-vector y was passed when a 1d array was expected. Please change the shape of y to (n_samples, ), for example using ravel().\n",
      "  \"\"\"\n",
      "/opt/conda/lib/python3.6/site-packages/ipykernel_launcher.py:5: DataConversionWarning: A column-vector y was passed when a 1d array was expected. Please change the shape of y to (n_samples, ), for example using ravel().\n",
      "  \"\"\"\n",
      "/opt/conda/lib/python3.6/site-packages/ipykernel_launcher.py:5: DataConversionWarning: A column-vector y was passed when a 1d array was expected. Please change the shape of y to (n_samples, ), for example using ravel().\n",
      "  \"\"\"\n",
      "/opt/conda/lib/python3.6/site-packages/ipykernel_launcher.py:5: DataConversionWarning: A column-vector y was passed when a 1d array was expected. Please change the shape of y to (n_samples, ), for example using ravel().\n",
      "  \"\"\"\n",
      "/opt/conda/lib/python3.6/site-packages/ipykernel_launcher.py:5: DataConversionWarning: A column-vector y was passed when a 1d array was expected. Please change the shape of y to (n_samples, ), for example using ravel().\n",
      "  \"\"\"\n",
      "/opt/conda/lib/python3.6/site-packages/ipykernel_launcher.py:5: DataConversionWarning: A column-vector y was passed when a 1d array was expected. Please change the shape of y to (n_samples, ), for example using ravel().\n",
      "  \"\"\"\n",
      "/opt/conda/lib/python3.6/site-packages/ipykernel_launcher.py:5: DataConversionWarning: A column-vector y was passed when a 1d array was expected. Please change the shape of y to (n_samples, ), for example using ravel().\n",
      "  \"\"\"\n",
      "/opt/conda/lib/python3.6/site-packages/ipykernel_launcher.py:5: DataConversionWarning: A column-vector y was passed when a 1d array was expected. Please change the shape of y to (n_samples, ), for example using ravel().\n",
      "  \"\"\"\n",
      "/opt/conda/lib/python3.6/site-packages/ipykernel_launcher.py:5: DataConversionWarning: A column-vector y was passed when a 1d array was expected. Please change the shape of y to (n_samples, ), for example using ravel().\n",
      "  \"\"\"\n",
      "/opt/conda/lib/python3.6/site-packages/ipykernel_launcher.py:5: DataConversionWarning: A column-vector y was passed when a 1d array was expected. Please change the shape of y to (n_samples, ), for example using ravel().\n",
      "  \"\"\"\n"
     ]
    }
   ],
   "source": [
    "train_score=[]\n",
    "test_score=[]\n",
    "for i in range(1,11):\n",
    "    knn=KNeighborsClassifier(n_neighbors=i)\n",
    "    knn.fit(x_train,y_train)\n",
    "    train_score.append(knn.score(x_train,y_train))\n",
    "    test_score.append(knn.score(x_test,y_test))"
   ]
  },
  {
   "cell_type": "code",
   "execution_count": 26,
   "metadata": {},
   "outputs": [
    {
     "data": {
      "image/png": "[encoded data removed]",
      "text/plain": [
       "<Figure size 432x288 with 1 Axes>"
      ]
     },
     "metadata": {
      "needs_background": "light"
     },
     "output_type": "display_data"
    }
   ],
   "source": [
    "plt.plot(train_score,color=\"green\",label=\"Train Score\")\n",
    "plt.plot(test_score,color=\"red\",label=\"Test Score\")\n",
    "plt.legend()\n",
    "plt.xlabel(\"Number of Neighbours\")\n",
    "plt.ylabel(\"Score Validations\")\n",
    "plt.title(\"Choose Tree Number\")\n",
    "plt.show()"
   ]
  },
  {
   "cell_type": "code",
   "execution_count": 27,
   "metadata": {},
   "outputs": [
    {
     "name": "stdout",
     "output_type": "stream",
     "text": [
      "Train Accuracy : 0.8370044052863436\n",
      "Test Accuracy : 0.8552631578947368\n"
     ]
    },
    {
     "name": "stderr",
     "output_type": "stream",
     "text": [
      "/opt/conda/lib/python3.6/site-packages/ipykernel_launcher.py:2: DataConversionWarning: A column-vector y was passed when a 1d array was expected. Please change the shape of y to (n_samples, ), for example using ravel().\n",
      "  \n"
     ]
    }
   ],
   "source": [
    "knn1=KNeighborsClassifier(n_neighbors=6)\n",
    "knn1.fit(x_train,y_train)\n",
    "print(\"Train Accuracy :\",knn1.score(x_train,y_train))\n",
    "print(\"Test Accuracy :\",knn1.score(x_test,y_test))"
   ]
  },
  {
   "cell_type": "code",
   "execution_count": 28,
   "metadata": {},
   "outputs": [],
   "source": [
    "prediction=knn1.predict(x_test)"
   ]
  },
  {
   "cell_type": "markdown",
   "metadata": {},
   "source": [
    "# HEAT MAP"
   ]
  },
  {
   "cell_type": "code",
   "execution_count": 29,
   "metadata": {},
   "outputs": [
    {
     "data": {
      "image/png": "[encoded data removed]",
      "text/plain": [
       "<Figure size 720x720 with 2 Axes>"
      ]
     },
     "metadata": {
      "needs_background": "light"
     },
     "output_type": "display_data"
    }
   ],
   "source": [
    "f,ax=plt.subplots(figsize=(10,10))\n",
    "cfm=confusion_matrix(y_test,prediction)\n",
    "sns.heatmap(cfm,annot=True,cmap=\"coolwarm\",linewidths=1,linecolor=\"black\",fmt=\".1f\",ax=ax)\n",
    "plt.title(\"Error Number With Heat Map\")\n",
    "plt.xlabel(\"Real\")\n",
    "plt.ylabel(\"Prediction\")\n",
    "plt.show()"
   ]
  },
  {
   "cell_type": "markdown",
   "metadata": {},
   "source": [
    "# LOGISTIC REGRESSION"
   ]
  },
  {
   "cell_type": "code",
   "execution_count": 30,
   "metadata": {},
   "outputs": [
    {
     "name": "stdout",
     "output_type": "stream",
     "text": [
      "Train Accuracy : 0.8590308370044053\n",
      "Test Accuracy : 0.8289473684210527\n"
     ]
    },
    {
     "name": "stderr",
     "output_type": "stream",
     "text": [
      "/opt/conda/lib/python3.6/site-packages/sklearn/utils/validation.py:760: DataConversionWarning: A column-vector y was passed when a 1d array was expected. Please change the shape of y to (n_samples, ), for example using ravel().\n",
      "  y = column_or_1d(y, warn=True)\n"
     ]
    }
   ],
   "source": [
    "lr=LogisticRegression()\n",
    "lr.fit(x_train,y_train)\n",
    "print(\"Train Accuracy :\",lr.score(x_train,y_train))\n",
    "print(\"Test Accuracy :\",lr.score(x_test,y_test))"
   ]
  },
  {
   "cell_type": "code",
   "execution_count": 31,
   "metadata": {},
   "outputs": [],
   "source": [
    "prediction=lr.predict(x_test)"
   ]
  },
  {
   "cell_type": "markdown",
   "metadata": {},
   "source": [
    "# HEAT MAP "
   ]
  },
  {
   "cell_type": "code",
   "execution_count": 32,
   "metadata": {},
   "outputs": [
    {
     "data": {
      "image/png": "[encoded data removed]",
      "text/plain": [
       "<Figure size 720x720 with 2 Axes>"
      ]
     },
     "metadata": {
      "needs_background": "light"
     },
     "output_type": "display_data"
    }
   ],
   "source": [
    "f,ax=plt.subplots(figsize=(10,10))\n",
    "cfm=confusion_matrix(y_test,prediction)\n",
    "sns.heatmap(cfm,annot=True,cmap=\"coolwarm\",linewidths=1,linecolor=\"black\",fmt=\".1f\",ax=ax)\n",
    "plt.title(\"Error Number With Heat Map\")\n",
    "plt.xlabel(\"Real\")\n",
    "plt.ylabel(\"Prediction\")\n",
    "plt.show()"
   ]
  }
 ],
 "metadata": {
  "kernelspec": {
   "display_name": "Python 3",
   "language": "python",
   "name": "python3"
  },
  "language_info": {
   "codemirror_mode": {
    "name": "ipython",
    "version": 3
   },
   "file_extension": ".py",
   "mimetype": "text/x-python",
   "name": "python",
   "nbconvert_exporter": "python",
   "pygments_lexer": "ipython3",
   "version": "3.6.6"
  }
 },
 "nbformat": 4,
 "nbformat_minor": 4
}
