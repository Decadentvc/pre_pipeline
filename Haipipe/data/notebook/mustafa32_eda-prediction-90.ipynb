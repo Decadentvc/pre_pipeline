{
 "cells": [
  {
   "cell_type": "code",
   "execution_count": 1,
   "metadata": {},
   "outputs": [],
   "source": [
    "import pandas as pd\n",
    "import seaborn as sns\n",
    "import matplotlib.pyplot as plt"
   ]
  },
  {
   "cell_type": "code",
   "execution_count": 2,
   "metadata": {},
   "outputs": [
    {
     "data": {
      "text/html": [
       "<div>\n",
       "<style scoped>\n",
       "    .dataframe tbody tr th:only-of-type {\n",
       "        vertical-align: middle;\n",
       "    }\n",
       "\n",
       "    .dataframe tbody tr th {\n",
       "        vertical-align: top;\n",
       "    }\n",
       "\n",
       "    .dataframe thead th {\n",
       "        text-align: right;\n",
       "    }\n",
       "</style>\n",
       "<table border=\"1\" class=\"dataframe\">\n",
       "  <thead>\n",
       "    <tr style=\"text-align: right;\">\n",
       "      <th></th>\n",
       "      <th>STATE</th>\n",
       "      <th>CONSTITUENCY</th>\n",
       "      <th>NAME</th>\n",
       "      <th>WINNER</th>\n",
       "      <th>PARTY</th>\n",
       "      <th>SYMBOL</th>\n",
       "      <th>GENDER</th>\n",
       "      <th>CRIMINAL\\nCASES</th>\n",
       "      <th>AGE</th>\n",
       "      <th>CATEGORY</th>\n",
       "      <th>EDUCATION</th>\n",
       "      <th>ASSETS</th>\n",
       "      <th>LIABILITIES</th>\n",
       "      <th>GENERAL\\nVOTES</th>\n",
       "      <th>POSTAL\\nVOTES</th>\n",
       "      <th>TOTAL\\nVOTES</th>\n",
       "      <th>OVER TOTAL ELECTORS \\nIN CONSTITUENCY</th>\n",
       "      <th>OVER TOTAL VOTES POLLED \\nIN CONSTITUENCY</th>\n",
       "      <th>TOTAL ELECTORS</th>\n",
       "    </tr>\n",
       "  </thead>\n",
       "  <tbody>\n",
       "    <tr>\n",
       "      <th>0</th>\n",
       "      <td>Telangana</td>\n",
       "      <td>ADILABAD</td>\n",
       "      <td>SOYAM BAPU RAO</td>\n",
       "      <td>1</td>\n",
       "      <td>BJP</td>\n",
       "      <td>Lotus</td>\n",
       "      <td>MALE</td>\n",
       "      <td>52</td>\n",
       "      <td>52.0</td>\n",
       "      <td>ST</td>\n",
       "      <td>12th Pass</td>\n",
       "      <td>Rs 30,99,414\\n ~ 30 Lacs+</td>\n",
       "      <td>Rs 2,31,450\\n ~ 2 Lacs+</td>\n",
       "      <td>376892</td>\n",
       "      <td>482</td>\n",
       "      <td>377374</td>\n",
       "      <td>25.330684</td>\n",
       "      <td>35.468248</td>\n",
       "      <td>1489790</td>\n",
       "    </tr>\n",
       "    <tr>\n",
       "      <th>1</th>\n",
       "      <td>Telangana</td>\n",
       "      <td>ADILABAD</td>\n",
       "      <td>Godam Nagesh</td>\n",
       "      <td>0</td>\n",
       "      <td>TRS</td>\n",
       "      <td>Car</td>\n",
       "      <td>MALE</td>\n",
       "      <td>0</td>\n",
       "      <td>54.0</td>\n",
       "      <td>ST</td>\n",
       "      <td>Post Graduate</td>\n",
       "      <td>Rs 1,84,77,888\\n ~ 1 Crore+</td>\n",
       "      <td>Rs 8,47,000\\n ~ 8 Lacs+</td>\n",
       "      <td>318665</td>\n",
       "      <td>149</td>\n",
       "      <td>318814</td>\n",
       "      <td>21.399929</td>\n",
       "      <td>29.964370</td>\n",
       "      <td>1489790</td>\n",
       "    </tr>\n",
       "    <tr>\n",
       "      <th>2</th>\n",
       "      <td>Telangana</td>\n",
       "      <td>ADILABAD</td>\n",
       "      <td>RATHOD RAMESH</td>\n",
       "      <td>0</td>\n",
       "      <td>INC</td>\n",
       "      <td>Hand</td>\n",
       "      <td>MALE</td>\n",
       "      <td>3</td>\n",
       "      <td>52.0</td>\n",
       "      <td>ST</td>\n",
       "      <td>12th Pass</td>\n",
       "      <td>Rs 3,64,91,000\\n ~ 3 Crore+</td>\n",
       "      <td>Rs 1,53,00,000\\n ~ 1 Crore+</td>\n",
       "      <td>314057</td>\n",
       "      <td>181</td>\n",
       "      <td>314238</td>\n",
       "      <td>21.092771</td>\n",
       "      <td>29.534285</td>\n",
       "      <td>1489790</td>\n",
       "    </tr>\n",
       "    <tr>\n",
       "      <th>3</th>\n",
       "      <td>Telangana</td>\n",
       "      <td>ADILABAD</td>\n",
       "      <td>NOTA</td>\n",
       "      <td>0</td>\n",
       "      <td>NOTA</td>\n",
       "      <td>NaN</td>\n",
       "      <td>NaN</td>\n",
       "      <td>NaN</td>\n",
       "      <td>NaN</td>\n",
       "      <td>NaN</td>\n",
       "      <td>NaN</td>\n",
       "      <td>NaN</td>\n",
       "      <td>NaN</td>\n",
       "      <td>13030</td>\n",
       "      <td>6</td>\n",
       "      <td>13036</td>\n",
       "      <td>0.875023</td>\n",
       "      <td>1.225214</td>\n",
       "      <td>1489790</td>\n",
       "    </tr>\n",
       "    <tr>\n",
       "      <th>4</th>\n",
       "      <td>Uttar Pradesh</td>\n",
       "      <td>AGRA</td>\n",
       "      <td>Satyapal Singh Baghel</td>\n",
       "      <td>1</td>\n",
       "      <td>BJP</td>\n",
       "      <td>Lotus</td>\n",
       "      <td>MALE</td>\n",
       "      <td>5</td>\n",
       "      <td>58.0</td>\n",
       "      <td>SC</td>\n",
       "      <td>Doctorate</td>\n",
       "      <td>Rs 7,42,74,036\\n ~ 7 Crore+</td>\n",
       "      <td>Rs 86,06,522\\n ~ 86 Lacs+</td>\n",
       "      <td>644459</td>\n",
       "      <td>2416</td>\n",
       "      <td>646875</td>\n",
       "      <td>33.383823</td>\n",
       "      <td>56.464615</td>\n",
       "      <td>1937690</td>\n",
       "    </tr>\n",
       "  </tbody>\n",
       "</table>\n",
       "</div>"
      ],
      "text/plain": [
       "           STATE CONSTITUENCY                   NAME  WINNER PARTY SYMBOL  \\\n",
       "0      Telangana     ADILABAD         SOYAM BAPU RAO       1   BJP  Lotus   \n",
       "1      Telangana     ADILABAD           Godam Nagesh       0   TRS    Car   \n",
       "2      Telangana     ADILABAD          RATHOD RAMESH       0   INC   Hand   \n",
       "3      Telangana     ADILABAD                   NOTA       0  NOTA    NaN   \n",
       "4  Uttar Pradesh         AGRA  Satyapal Singh Baghel       1   BJP  Lotus   \n",
       "\n",
       "  GENDER CRIMINAL\\nCASES   AGE CATEGORY      EDUCATION  \\\n",
       "0   MALE              52  52.0       ST      12th Pass   \n",
       "1   MALE               0  54.0       ST  Post Graduate   \n",
       "2   MALE               3  52.0       ST      12th Pass   \n",
       "3    NaN             NaN   NaN      NaN            NaN   \n",
       "4   MALE               5  58.0       SC      Doctorate   \n",
       "\n",
       "                        ASSETS                  LIABILITIES  GENERAL\\nVOTES  \\\n",
       "0    Rs 30,99,414\\n ~ 30 Lacs+      Rs 2,31,450\\n ~ 2 Lacs+          376892   \n",
       "1  Rs 1,84,77,888\\n ~ 1 Crore+      Rs 8,47,000\\n ~ 8 Lacs+          318665   \n",
       "2  Rs 3,64,91,000\\n ~ 3 Crore+  Rs 1,53,00,000\\n ~ 1 Crore+          314057   \n",
       "3                          NaN                          NaN           13030   \n",
       "4  Rs 7,42,74,036\\n ~ 7 Crore+    Rs 86,06,522\\n ~ 86 Lacs+          644459   \n",
       "\n",
       "   POSTAL\\nVOTES  TOTAL\\nVOTES  OVER TOTAL ELECTORS \\nIN CONSTITUENCY  \\\n",
       "0            482        377374                              25.330684   \n",
       "1            149        318814                              21.399929   \n",
       "2            181        314238                              21.092771   \n",
       "3              6         13036                               0.875023   \n",
       "4           2416        646875                              33.383823   \n",
       "\n",
       "   OVER TOTAL VOTES POLLED \\nIN CONSTITUENCY  TOTAL ELECTORS  \n",
       "0                                  35.468248         1489790  \n",
       "1                                  29.964370         1489790  \n",
       "2                                  29.534285         1489790  \n",
       "3                                   1.225214         1489790  \n",
       "4                                  56.464615         1937690  "
      ]
     },
     "execution_count": 2,
     "metadata": {},
     "output_type": "execute_result"
    }
   ],
   "source": [
    "df = pd.read_csv(\"../input/indian-candidates-for-general-election-2019/LS_2.0.csv\")\n",
    "df.head()"
   ]
  },
  {
   "cell_type": "code",
   "execution_count": null,
   "metadata": {},
   "outputs": [],
   "source": []
  },
  {
   "cell_type": "code",
   "execution_count": 3,
   "metadata": {},
   "outputs": [
    {
     "data": {
      "text/plain": [
       "<matplotlib.axes._subplots.AxesSubplot at 0x7ffb22945358>"
      ]
     },
     "execution_count": 3,
     "metadata": {},
     "output_type": "execute_result"
    },
    {
     "data": {
      "image/png": "[encoded data removed]",
      "text/plain": [
       "<Figure size 432x288 with 1 Axes>"
      ]
     },
     "metadata": {
      "needs_background": "light"
     },
     "output_type": "display_data"
    }
   ],
   "source": [
    "df['PARTY'].value_counts()[:10].plot(kind='bar')"
   ]
  },
  {
   "cell_type": "code",
   "execution_count": 4,
   "metadata": {},
   "outputs": [
    {
     "data": {
      "text/plain": [
       "Index(['STATE', 'CONSTITUENCY', 'NAME', 'WINNER', 'PARTY', 'SYMBOL', 'GENDER',\n",
       "       'CRIMINAL\\nCASES', 'AGE', 'CATEGORY', 'EDUCATION', 'ASSETS',\n",
       "       'LIABILITIES', 'GENERAL\\nVOTES', 'POSTAL\\nVOTES', 'TOTAL\\nVOTES',\n",
       "       'OVER TOTAL ELECTORS \\nIN CONSTITUENCY',\n",
       "       'OVER TOTAL VOTES POLLED \\nIN CONSTITUENCY', 'TOTAL ELECTORS'],\n",
       "      dtype='object')"
      ]
     },
     "execution_count": 4,
     "metadata": {},
     "output_type": "execute_result"
    }
   ],
   "source": [
    "df.columns"
   ]
  },
  {
   "cell_type": "code",
   "execution_count": 5,
   "metadata": {},
   "outputs": [],
   "source": [
    "df.columns = [\"State\",\"Constituency\",\"Name\",\"Winner\",\"Party\",\"Symbol\",\"Gender\",\"CrimeCases\",\"Age\",\"Category\",\"Education\",\"Assets\",\"Liabilites\",\"General Votes\",\"Postal Votes\",\"Total Votes\",\"Over total Electors in Constituency\",\"Over Total Votes Polled In Constituency\",\"Total Electors\"]"
   ]
  },
  {
   "cell_type": "code",
   "execution_count": 6,
   "metadata": {},
   "outputs": [
    {
     "data": {
      "text/html": [
       "<div>\n",
       "<style scoped>\n",
       "    .dataframe tbody tr th:only-of-type {\n",
       "        vertical-align: middle;\n",
       "    }\n",
       "\n",
       "    .dataframe tbody tr th {\n",
       "        vertical-align: top;\n",
       "    }\n",
       "\n",
       "    .dataframe thead th {\n",
       "        text-align: right;\n",
       "    }\n",
       "</style>\n",
       "<table border=\"1\" class=\"dataframe\">\n",
       "  <thead>\n",
       "    <tr style=\"text-align: right;\">\n",
       "      <th></th>\n",
       "      <th>State</th>\n",
       "      <th>Constituency</th>\n",
       "      <th>Name</th>\n",
       "      <th>Winner</th>\n",
       "      <th>Party</th>\n",
       "      <th>Symbol</th>\n",
       "      <th>Gender</th>\n",
       "      <th>CrimeCases</th>\n",
       "      <th>Age</th>\n",
       "      <th>Category</th>\n",
       "      <th>Education</th>\n",
       "      <th>Assets</th>\n",
       "      <th>Liabilites</th>\n",
       "      <th>General Votes</th>\n",
       "      <th>Postal Votes</th>\n",
       "      <th>Total Votes</th>\n",
       "      <th>Over total Electors in Constituency</th>\n",
       "      <th>Over Total Votes Polled In Constituency</th>\n",
       "      <th>Total Electors</th>\n",
       "    </tr>\n",
       "  </thead>\n",
       "  <tbody>\n",
       "    <tr>\n",
       "      <th>0</th>\n",
       "      <td>Telangana</td>\n",
       "      <td>ADILABAD</td>\n",
       "      <td>SOYAM BAPU RAO</td>\n",
       "      <td>1</td>\n",
       "      <td>BJP</td>\n",
       "      <td>Lotus</td>\n",
       "      <td>MALE</td>\n",
       "      <td>52</td>\n",
       "      <td>52.0</td>\n",
       "      <td>ST</td>\n",
       "      <td>12th Pass</td>\n",
       "      <td>Rs 30,99,414\\n ~ 30 Lacs+</td>\n",
       "      <td>Rs 2,31,450\\n ~ 2 Lacs+</td>\n",
       "      <td>376892</td>\n",
       "      <td>482</td>\n",
       "      <td>377374</td>\n",
       "      <td>25.330684</td>\n",
       "      <td>35.468248</td>\n",
       "      <td>1489790</td>\n",
       "    </tr>\n",
       "    <tr>\n",
       "      <th>1</th>\n",
       "      <td>Telangana</td>\n",
       "      <td>ADILABAD</td>\n",
       "      <td>Godam Nagesh</td>\n",
       "      <td>0</td>\n",
       "      <td>TRS</td>\n",
       "      <td>Car</td>\n",
       "      <td>MALE</td>\n",
       "      <td>0</td>\n",
       "      <td>54.0</td>\n",
       "      <td>ST</td>\n",
       "      <td>Post Graduate</td>\n",
       "      <td>Rs 1,84,77,888\\n ~ 1 Crore+</td>\n",
       "      <td>Rs 8,47,000\\n ~ 8 Lacs+</td>\n",
       "      <td>318665</td>\n",
       "      <td>149</td>\n",
       "      <td>318814</td>\n",
       "      <td>21.399929</td>\n",
       "      <td>29.964370</td>\n",
       "      <td>1489790</td>\n",
       "    </tr>\n",
       "    <tr>\n",
       "      <th>2</th>\n",
       "      <td>Telangana</td>\n",
       "      <td>ADILABAD</td>\n",
       "      <td>RATHOD RAMESH</td>\n",
       "      <td>0</td>\n",
       "      <td>INC</td>\n",
       "      <td>Hand</td>\n",
       "      <td>MALE</td>\n",
       "      <td>3</td>\n",
       "      <td>52.0</td>\n",
       "      <td>ST</td>\n",
       "      <td>12th Pass</td>\n",
       "      <td>Rs 3,64,91,000\\n ~ 3 Crore+</td>\n",
       "      <td>Rs 1,53,00,000\\n ~ 1 Crore+</td>\n",
       "      <td>314057</td>\n",
       "      <td>181</td>\n",
       "      <td>314238</td>\n",
       "      <td>21.092771</td>\n",
       "      <td>29.534285</td>\n",
       "      <td>1489790</td>\n",
       "    </tr>\n",
       "    <tr>\n",
       "      <th>4</th>\n",
       "      <td>Uttar Pradesh</td>\n",
       "      <td>AGRA</td>\n",
       "      <td>Satyapal Singh Baghel</td>\n",
       "      <td>1</td>\n",
       "      <td>BJP</td>\n",
       "      <td>Lotus</td>\n",
       "      <td>MALE</td>\n",
       "      <td>5</td>\n",
       "      <td>58.0</td>\n",
       "      <td>SC</td>\n",
       "      <td>Doctorate</td>\n",
       "      <td>Rs 7,42,74,036\\n ~ 7 Crore+</td>\n",
       "      <td>Rs 86,06,522\\n ~ 86 Lacs+</td>\n",
       "      <td>644459</td>\n",
       "      <td>2416</td>\n",
       "      <td>646875</td>\n",
       "      <td>33.383823</td>\n",
       "      <td>56.464615</td>\n",
       "      <td>1937690</td>\n",
       "    </tr>\n",
       "    <tr>\n",
       "      <th>5</th>\n",
       "      <td>Uttar Pradesh</td>\n",
       "      <td>AGRA</td>\n",
       "      <td>Manoj Kumar Soni</td>\n",
       "      <td>0</td>\n",
       "      <td>BSP</td>\n",
       "      <td>Elephant</td>\n",
       "      <td>MALE</td>\n",
       "      <td>0</td>\n",
       "      <td>47.0</td>\n",
       "      <td>SC</td>\n",
       "      <td>Post Graduate</td>\n",
       "      <td>Rs 13,37,84,385\\n ~ 13 Crore+</td>\n",
       "      <td>Rs 2,22,51,891\\n ~ 2 Crore+</td>\n",
       "      <td>434199</td>\n",
       "      <td>1130</td>\n",
       "      <td>435329</td>\n",
       "      <td>22.466390</td>\n",
       "      <td>37.999125</td>\n",
       "      <td>1937690</td>\n",
       "    </tr>\n",
       "  </tbody>\n",
       "</table>\n",
       "</div>"
      ],
      "text/plain": [
       "           State Constituency                   Name  Winner Party    Symbol  \\\n",
       "0      Telangana     ADILABAD         SOYAM BAPU RAO       1   BJP     Lotus   \n",
       "1      Telangana     ADILABAD           Godam Nagesh       0   TRS       Car   \n",
       "2      Telangana     ADILABAD          RATHOD RAMESH       0   INC      Hand   \n",
       "4  Uttar Pradesh         AGRA  Satyapal Singh Baghel       1   BJP     Lotus   \n",
       "5  Uttar Pradesh         AGRA       Manoj Kumar Soni       0   BSP  Elephant   \n",
       "\n",
       "  Gender CrimeCases   Age Category      Education  \\\n",
       "0   MALE         52  52.0       ST      12th Pass   \n",
       "1   MALE          0  54.0       ST  Post Graduate   \n",
       "2   MALE          3  52.0       ST      12th Pass   \n",
       "4   MALE          5  58.0       SC      Doctorate   \n",
       "5   MALE          0  47.0       SC  Post Graduate   \n",
       "\n",
       "                          Assets                   Liabilites  General Votes  \\\n",
       "0      Rs 30,99,414\\n ~ 30 Lacs+      Rs 2,31,450\\n ~ 2 Lacs+         376892   \n",
       "1    Rs 1,84,77,888\\n ~ 1 Crore+      Rs 8,47,000\\n ~ 8 Lacs+         318665   \n",
       "2    Rs 3,64,91,000\\n ~ 3 Crore+  Rs 1,53,00,000\\n ~ 1 Crore+         314057   \n",
       "4    Rs 7,42,74,036\\n ~ 7 Crore+    Rs 86,06,522\\n ~ 86 Lacs+         644459   \n",
       "5  Rs 13,37,84,385\\n ~ 13 Crore+  Rs 2,22,51,891\\n ~ 2 Crore+         434199   \n",
       "\n",
       "   Postal Votes  Total Votes  Over total Electors in Constituency  \\\n",
       "0           482       377374                            25.330684   \n",
       "1           149       318814                            21.399929   \n",
       "2           181       314238                            21.092771   \n",
       "4          2416       646875                            33.383823   \n",
       "5          1130       435329                            22.466390   \n",
       "\n",
       "   Over Total Votes Polled In Constituency  Total Electors  \n",
       "0                                35.468248         1489790  \n",
       "1                                29.964370         1489790  \n",
       "2                                29.534285         1489790  \n",
       "4                                56.464615         1937690  \n",
       "5                                37.999125         1937690  "
      ]
     },
     "execution_count": 6,
     "metadata": {},
     "output_type": "execute_result"
    }
   ],
   "source": [
    "df.dropna(inplace=True)\n",
    "df.head()"
   ]
  },
  {
   "cell_type": "code",
   "execution_count": 7,
   "metadata": {},
   "outputs": [
    {
     "data": {
      "text/plain": [
       "<matplotlib.axes._subplots.AxesSubplot at 0x7ffb2288ccf8>"
      ]
     },
     "execution_count": 7,
     "metadata": {},
     "output_type": "execute_result"
    },
    {
     "data": {
      "image/png": "[encoded data removed]",
      "text/plain": [
       "<Figure size 432x288 with 1 Axes>"
      ]
     },
     "metadata": {
      "needs_background": "light"
     },
     "output_type": "display_data"
    }
   ],
   "source": [
    "df['Education'].value_counts().plot.bar()"
   ]
  },
  {
   "cell_type": "code",
   "execution_count": 8,
   "metadata": {},
   "outputs": [
    {
     "data": {
      "text/plain": [
       "<matplotlib.axes._subplots.AxesSubplot at 0x7ffb228276a0>"
      ]
     },
     "execution_count": 8,
     "metadata": {},
     "output_type": "execute_result"
    },
    {
     "data": {
      "image/png": "[encoded data removed]",
      "text/plain": [
       "<Figure size 1080x504 with 1 Axes>"
      ]
     },
     "metadata": {
      "needs_background": "light"
     },
     "output_type": "display_data"
    }
   ],
   "source": [
    "plt.figure(figsize=(15,7))\n",
    "df['Age'].value_counts().plot.bar()"
   ]
  },
  {
   "cell_type": "code",
   "execution_count": 9,
   "metadata": {},
   "outputs": [
    {
     "data": {
      "text/plain": [
       "<matplotlib.axes._subplots.AxesSubplot at 0x7ffb2248cb70>"
      ]
     },
     "execution_count": 9,
     "metadata": {},
     "output_type": "execute_result"
    },
    {
     "data": {
      "image/png": "[encoded data removed]",
      "text/plain": [
       "<Figure size 432x288 with 1 Axes>"
      ]
     },
     "metadata": {
      "needs_background": "light"
     },
     "output_type": "display_data"
    }
   ],
   "source": [
    "df['Category'].value_counts().plot.bar()"
   ]
  },
  {
   "cell_type": "code",
   "execution_count": 10,
   "metadata": {},
   "outputs": [],
   "source": [
    "def changeAssetValue(x):\n",
    "    try:\n",
    "        temp = (x.split('Rs')[1].split('\\n')[0].strip())\n",
    "        temp2 = ''\n",
    "        for i in temp.split(\",\"):\n",
    "            temp2 = i+temp2\n",
    "        return temp2\n",
    "    except:\n",
    "        x = 0\n",
    "        return x\n",
    "def changeLiabilitesValue(x):\n",
    "    try:\n",
    "        temp = x.split('Rs')[1].split('\\n')[0].strip()\n",
    "        temp2 = ''\n",
    "        for i in temp.split(\",\"):\n",
    "            temp2 = i+temp2\n",
    "        return temp2\n",
    "    except:\n",
    "        x = 0\n",
    "        return x\n",
    "    "
   ]
  },
  {
   "cell_type": "code",
   "execution_count": 11,
   "metadata": {},
   "outputs": [],
   "source": [
    "df['Assets'] = df['Assets'].apply(changeAssetValue)\n",
    "df['Liabilites'] = df['Liabilites'].apply(changeLiabilitesValue)"
   ]
  },
  {
   "cell_type": "code",
   "execution_count": 12,
   "metadata": {},
   "outputs": [
    {
     "data": {
      "text/html": [
       "<div>\n",
       "<style scoped>\n",
       "    .dataframe tbody tr th:only-of-type {\n",
       "        vertical-align: middle;\n",
       "    }\n",
       "\n",
       "    .dataframe tbody tr th {\n",
       "        vertical-align: top;\n",
       "    }\n",
       "\n",
       "    .dataframe thead th {\n",
       "        text-align: right;\n",
       "    }\n",
       "</style>\n",
       "<table border=\"1\" class=\"dataframe\">\n",
       "  <thead>\n",
       "    <tr style=\"text-align: right;\">\n",
       "      <th></th>\n",
       "      <th>State</th>\n",
       "      <th>Constituency</th>\n",
       "      <th>Name</th>\n",
       "      <th>Winner</th>\n",
       "      <th>Party</th>\n",
       "      <th>Symbol</th>\n",
       "      <th>Gender</th>\n",
       "      <th>CrimeCases</th>\n",
       "      <th>Age</th>\n",
       "      <th>Category</th>\n",
       "      <th>Education</th>\n",
       "      <th>Assets</th>\n",
       "      <th>Liabilites</th>\n",
       "      <th>General Votes</th>\n",
       "      <th>Postal Votes</th>\n",
       "      <th>Total Votes</th>\n",
       "      <th>Over total Electors in Constituency</th>\n",
       "      <th>Over Total Votes Polled In Constituency</th>\n",
       "      <th>Total Electors</th>\n",
       "    </tr>\n",
       "  </thead>\n",
       "  <tbody>\n",
       "    <tr>\n",
       "      <th>0</th>\n",
       "      <td>Telangana</td>\n",
       "      <td>ADILABAD</td>\n",
       "      <td>SOYAM BAPU RAO</td>\n",
       "      <td>1</td>\n",
       "      <td>BJP</td>\n",
       "      <td>Lotus</td>\n",
       "      <td>MALE</td>\n",
       "      <td>52</td>\n",
       "      <td>52.0</td>\n",
       "      <td>ST</td>\n",
       "      <td>12th Pass</td>\n",
       "      <td>4149930</td>\n",
       "      <td>450312</td>\n",
       "      <td>376892</td>\n",
       "      <td>482</td>\n",
       "      <td>377374</td>\n",
       "      <td>25.330684</td>\n",
       "      <td>35.468248</td>\n",
       "      <td>1489790</td>\n",
       "    </tr>\n",
       "    <tr>\n",
       "      <th>1</th>\n",
       "      <td>Telangana</td>\n",
       "      <td>ADILABAD</td>\n",
       "      <td>Godam Nagesh</td>\n",
       "      <td>0</td>\n",
       "      <td>TRS</td>\n",
       "      <td>Car</td>\n",
       "      <td>MALE</td>\n",
       "      <td>0</td>\n",
       "      <td>54.0</td>\n",
       "      <td>ST</td>\n",
       "      <td>Post Graduate</td>\n",
       "      <td>88877841</td>\n",
       "      <td>000478</td>\n",
       "      <td>318665</td>\n",
       "      <td>149</td>\n",
       "      <td>318814</td>\n",
       "      <td>21.399929</td>\n",
       "      <td>29.964370</td>\n",
       "      <td>1489790</td>\n",
       "    </tr>\n",
       "    <tr>\n",
       "      <th>2</th>\n",
       "      <td>Telangana</td>\n",
       "      <td>ADILABAD</td>\n",
       "      <td>RATHOD RAMESH</td>\n",
       "      <td>0</td>\n",
       "      <td>INC</td>\n",
       "      <td>Hand</td>\n",
       "      <td>MALE</td>\n",
       "      <td>3</td>\n",
       "      <td>52.0</td>\n",
       "      <td>ST</td>\n",
       "      <td>12th Pass</td>\n",
       "      <td>00091643</td>\n",
       "      <td>00000531</td>\n",
       "      <td>314057</td>\n",
       "      <td>181</td>\n",
       "      <td>314238</td>\n",
       "      <td>21.092771</td>\n",
       "      <td>29.534285</td>\n",
       "      <td>1489790</td>\n",
       "    </tr>\n",
       "    <tr>\n",
       "      <th>4</th>\n",
       "      <td>Uttar Pradesh</td>\n",
       "      <td>AGRA</td>\n",
       "      <td>Satyapal Singh Baghel</td>\n",
       "      <td>1</td>\n",
       "      <td>BJP</td>\n",
       "      <td>Lotus</td>\n",
       "      <td>MALE</td>\n",
       "      <td>5</td>\n",
       "      <td>58.0</td>\n",
       "      <td>SC</td>\n",
       "      <td>Doctorate</td>\n",
       "      <td>03674427</td>\n",
       "      <td>5220686</td>\n",
       "      <td>644459</td>\n",
       "      <td>2416</td>\n",
       "      <td>646875</td>\n",
       "      <td>33.383823</td>\n",
       "      <td>56.464615</td>\n",
       "      <td>1937690</td>\n",
       "    </tr>\n",
       "    <tr>\n",
       "      <th>5</th>\n",
       "      <td>Uttar Pradesh</td>\n",
       "      <td>AGRA</td>\n",
       "      <td>Manoj Kumar Soni</td>\n",
       "      <td>0</td>\n",
       "      <td>BSP</td>\n",
       "      <td>Elephant</td>\n",
       "      <td>MALE</td>\n",
       "      <td>0</td>\n",
       "      <td>47.0</td>\n",
       "      <td>SC</td>\n",
       "      <td>Post Graduate</td>\n",
       "      <td>385843713</td>\n",
       "      <td>89151222</td>\n",
       "      <td>434199</td>\n",
       "      <td>1130</td>\n",
       "      <td>435329</td>\n",
       "      <td>22.466390</td>\n",
       "      <td>37.999125</td>\n",
       "      <td>1937690</td>\n",
       "    </tr>\n",
       "  </tbody>\n",
       "</table>\n",
       "</div>"
      ],
      "text/plain": [
       "           State Constituency                   Name  Winner Party    Symbol  \\\n",
       "0      Telangana     ADILABAD         SOYAM BAPU RAO       1   BJP     Lotus   \n",
       "1      Telangana     ADILABAD           Godam Nagesh       0   TRS       Car   \n",
       "2      Telangana     ADILABAD          RATHOD RAMESH       0   INC      Hand   \n",
       "4  Uttar Pradesh         AGRA  Satyapal Singh Baghel       1   BJP     Lotus   \n",
       "5  Uttar Pradesh         AGRA       Manoj Kumar Soni       0   BSP  Elephant   \n",
       "\n",
       "  Gender CrimeCases   Age Category      Education     Assets Liabilites  \\\n",
       "0   MALE         52  52.0       ST      12th Pass    4149930     450312   \n",
       "1   MALE          0  54.0       ST  Post Graduate   88877841     000478   \n",
       "2   MALE          3  52.0       ST      12th Pass   00091643   00000531   \n",
       "4   MALE          5  58.0       SC      Doctorate   03674427    5220686   \n",
       "5   MALE          0  47.0       SC  Post Graduate  385843713   89151222   \n",
       "\n",
       "   General Votes  Postal Votes  Total Votes  \\\n",
       "0         376892           482       377374   \n",
       "1         318665           149       318814   \n",
       "2         314057           181       314238   \n",
       "4         644459          2416       646875   \n",
       "5         434199          1130       435329   \n",
       "\n",
       "   Over total Electors in Constituency  \\\n",
       "0                            25.330684   \n",
       "1                            21.399929   \n",
       "2                            21.092771   \n",
       "4                            33.383823   \n",
       "5                            22.466390   \n",
       "\n",
       "   Over Total Votes Polled In Constituency  Total Electors  \n",
       "0                                35.468248         1489790  \n",
       "1                                29.964370         1489790  \n",
       "2                                29.534285         1489790  \n",
       "4                                56.464615         1937690  \n",
       "5                                37.999125         1937690  "
      ]
     },
     "execution_count": 12,
     "metadata": {},
     "output_type": "execute_result"
    }
   ],
   "source": [
    "df.head()"
   ]
  },
  {
   "cell_type": "code",
   "execution_count": 13,
   "metadata": {},
   "outputs": [
    {
     "data": {
      "text/plain": [
       "<matplotlib.axes._subplots.AxesSubplot at 0x7ffb2265e518>"
      ]
     },
     "execution_count": 13,
     "metadata": {},
     "output_type": "execute_result"
    },
    {
     "data": {
      "image/png": "[encoded data removed]",
      "text/plain": [
       "<Figure size 432x288 with 1 Axes>"
      ]
     },
     "metadata": {
      "needs_background": "light"
     },
     "output_type": "display_data"
    }
   ],
   "source": [
    "sns.countplot(df['Gender'])"
   ]
  },
  {
   "cell_type": "code",
   "execution_count": 14,
   "metadata": {},
   "outputs": [
    {
     "name": "stdout",
     "output_type": "stream",
     "text": [
      "Total Assets of Indian Policitions: 470689505401\n"
     ]
    }
   ],
   "source": [
    "df['Assets'] = df['Assets'].astype('int64')\n",
    "print(\"Total Assets of Indian Policitions:\",df['Assets'].sum())"
   ]
  },
  {
   "cell_type": "code",
   "execution_count": 15,
   "metadata": {},
   "outputs": [
    {
     "name": "stdout",
     "output_type": "stream",
     "text": [
      "Total Liabilites of Indian Policitions: 62391972094\n"
     ]
    }
   ],
   "source": [
    "df['Liabilites'] = df['Liabilites'].astype('int64')\n",
    "print(\"Total Liabilites of Indian Policitions:\",df['Liabilites'].sum())"
   ]
  },
  {
   "cell_type": "code",
   "execution_count": 16,
   "metadata": {},
   "outputs": [
    {
     "data": {
      "text/plain": [
       "408297533307"
      ]
     },
     "execution_count": 16,
     "metadata": {},
     "output_type": "execute_result"
    }
   ],
   "source": [
    "df['Assets'].sum()-df['Liabilites'].sum()"
   ]
  },
  {
   "cell_type": "code",
   "execution_count": 17,
   "metadata": {},
   "outputs": [
    {
     "data": {
      "text/plain": [
       "233245542.81516352"
      ]
     },
     "execution_count": 17,
     "metadata": {},
     "output_type": "execute_result"
    }
   ],
   "source": [
    "df['Assets'].mean()\n",
    "# Average 20 cr."
   ]
  },
  {
   "cell_type": "code",
   "execution_count": 18,
   "metadata": {},
   "outputs": [
    {
     "data": {
      "text/plain": [
       "30917726.50842418"
      ]
     },
     "execution_count": 18,
     "metadata": {},
     "output_type": "execute_result"
    }
   ],
   "source": [
    "df['Liabilites'].mean()\n",
    "# Average 2 cr."
   ]
  },
  {
   "cell_type": "code",
   "execution_count": 19,
   "metadata": {},
   "outputs": [
    {
     "data": {
      "text/plain": [
       "<matplotlib.axes._subplots.AxesSubplot at 0x7ffb22608908>"
      ]
     },
     "execution_count": 19,
     "metadata": {},
     "output_type": "execute_result"
    },
    {
     "data": {
      "image/png": "[encoded data removed]",
      "text/plain": [
       "<Figure size 1080x504 with 1 Axes>"
      ]
     },
     "metadata": {
      "needs_background": "light"
     },
     "output_type": "display_data"
    }
   ],
   "source": [
    "pd.crosstab(df['Symbol'],df['Winner']).plot(figsize=(15,7))"
   ]
  },
  {
   "cell_type": "code",
   "execution_count": 20,
   "metadata": {},
   "outputs": [
    {
     "data": {
      "text/plain": [
       "<matplotlib.axes._subplots.AxesSubplot at 0x7ffb22670160>"
      ]
     },
     "execution_count": 20,
     "metadata": {},
     "output_type": "execute_result"
    },
    {
     "data": {
      "image/png": "[encoded data removed]",
      "text/plain": [
       "<Figure size 1080x504 with 1 Axes>"
      ]
     },
     "metadata": {
      "needs_background": "light"
     },
     "output_type": "display_data"
    }
   ],
   "source": [
    "pd.crosstab(df['CrimeCases'],df['Winner']).plot(figsize=(15,7))"
   ]
  },
  {
   "cell_type": "code",
   "execution_count": 21,
   "metadata": {},
   "outputs": [
    {
     "data": {
      "text/plain": [
       "<matplotlib.axes._subplots.AxesSubplot at 0x7ffb2268ebe0>"
      ]
     },
     "execution_count": 21,
     "metadata": {},
     "output_type": "execute_result"
    },
    {
     "data": {
      "image/png": "[encoded data removed]",
      "text/plain": [
       "<Figure size 1080x504 with 1 Axes>"
      ]
     },
     "metadata": {
      "needs_background": "light"
     },
     "output_type": "display_data"
    }
   ],
   "source": [
    "plt.figure(figsize=(15,7))\n",
    "sns.countplot(df['CrimeCases'],hue=df['Winner'])"
   ]
  },
  {
   "cell_type": "code",
   "execution_count": 22,
   "metadata": {},
   "outputs": [
    {
     "data": {
      "text/plain": [
       "<matplotlib.axes._subplots.AxesSubplot at 0x7ffb2256c2e8>"
      ]
     },
     "execution_count": 22,
     "metadata": {},
     "output_type": "execute_result"
    },
    {
     "data": {
      "image/png": "[encoded data removed]",
      "text/plain": [
       "<Figure size 1368x720 with 1 Axes>"
      ]
     },
     "metadata": {
      "needs_background": "light"
     },
     "output_type": "display_data"
    }
   ],
   "source": [
    "plt.figure(figsize=(19,10))\n",
    "sns.countplot(df['Education'],hue=df['Winner'])"
   ]
  },
  {
   "cell_type": "code",
   "execution_count": 23,
   "metadata": {},
   "outputs": [
    {
     "data": {
      "text/plain": [
       "<matplotlib.axes._subplots.AxesSubplot at 0x7ffb22199518>"
      ]
     },
     "execution_count": 23,
     "metadata": {},
     "output_type": "execute_result"
    },
    {
     "data": {
      "image/png": "[encoded data removed]",
      "text/plain": [
       "<Figure size 1368x720 with 1 Axes>"
      ]
     },
     "metadata": {
      "needs_background": "light"
     },
     "output_type": "display_data"
    }
   ],
   "source": [
    "plt.figure(figsize=(19,10))\n",
    "sns.countplot(df['Category'],hue=df['Winner'])"
   ]
  },
  {
   "cell_type": "code",
   "execution_count": 24,
   "metadata": {},
   "outputs": [],
   "source": [
    "from sklearn.preprocessing import LabelEncoder\n",
    "from sklearn.model_selection import train_test_split\n",
    "from sklearn.linear_model import LogisticRegression\n",
    "from sklearn.tree import DecisionTreeClassifier,ExtraTreeClassifier\n",
    "from sklearn.naive_bayes import GaussianNB\n",
    "from sklearn.neighbors import NearestNeighbors,KNeighborsClassifier\n",
    "from sklearn.metrics import accuracy_score"
   ]
  },
  {
   "cell_type": "code",
   "execution_count": 25,
   "metadata": {},
   "outputs": [],
   "source": [
    "l = df.select_dtypes('object').columns\n",
    "lb = LabelEncoder()\n",
    "for i in l:\n",
    "    df[i] = lb.fit_transform(df[i])"
   ]
  },
  {
   "cell_type": "code",
   "execution_count": null,
   "metadata": {},
   "outputs": [],
   "source": []
  },
  {
   "cell_type": "code",
   "execution_count": 26,
   "metadata": {},
   "outputs": [],
   "source": [
    "df.drop(['Name'],axis=1,inplace=True)\n",
    "X = df.drop('Winner',axis=1)\n",
    "y = df['Winner']"
   ]
  },
  {
   "cell_type": "code",
   "execution_count": 27,
   "metadata": {},
   "outputs": [],
   "source": [
    "X_train, X_test, y_train, y_test = train_test_split(X, y, test_size=0.33, random_state=42)"
   ]
  },
  {
   "cell_type": "code",
   "execution_count": 28,
   "metadata": {},
   "outputs": [],
   "source": [
    "models = [[\"LogisticRegression\",LogisticRegression()],[\"DecisionTreeClassifier\",DecisionTreeClassifier()],[\"ExtraTreeClassifier\",ExtraTreeClassifier()],[\"GaussianNB\",GaussianNB()],[\"KNeighborsClassifier\",KNeighborsClassifier()]]\n",
    "model_prediction = []"
   ]
  },
  {
   "cell_type": "code",
   "execution_count": 29,
   "metadata": {},
   "outputs": [],
   "source": [
    "for i in models:\n",
    "    model = i[1]\n",
    "    model.fit(X_train,y_train)\n",
    "    predict = model.predict(X_test)\n",
    "    score = (accuracy_score(predict,y_test))\n",
    "    model_prediction.append([i[0],score])"
   ]
  },
  {
   "cell_type": "code",
   "execution_count": 30,
   "metadata": {},
   "outputs": [
    {
     "data": {
      "text/html": [
       "<div>\n",
       "<style scoped>\n",
       "    .dataframe tbody tr th:only-of-type {\n",
       "        vertical-align: middle;\n",
       "    }\n",
       "\n",
       "    .dataframe tbody tr th {\n",
       "        vertical-align: top;\n",
       "    }\n",
       "\n",
       "    .dataframe thead th {\n",
       "        text-align: right;\n",
       "    }\n",
       "</style>\n",
       "<table border=\"1\" class=\"dataframe\">\n",
       "  <thead>\n",
       "    <tr style=\"text-align: right;\">\n",
       "      <th></th>\n",
       "      <th>Model Name</th>\n",
       "      <th>Score</th>\n",
       "    </tr>\n",
       "  </thead>\n",
       "  <tbody>\n",
       "    <tr>\n",
       "      <th>1</th>\n",
       "      <td>DecisionTreeClassifier</td>\n",
       "      <td>0.929429</td>\n",
       "    </tr>\n",
       "    <tr>\n",
       "      <th>2</th>\n",
       "      <td>ExtraTreeClassifier</td>\n",
       "      <td>0.915916</td>\n",
       "    </tr>\n",
       "    <tr>\n",
       "      <th>0</th>\n",
       "      <td>LogisticRegression</td>\n",
       "      <td>0.888889</td>\n",
       "    </tr>\n",
       "    <tr>\n",
       "      <th>3</th>\n",
       "      <td>GaussianNB</td>\n",
       "      <td>0.863363</td>\n",
       "    </tr>\n",
       "    <tr>\n",
       "      <th>4</th>\n",
       "      <td>KNeighborsClassifier</td>\n",
       "      <td>0.690691</td>\n",
       "    </tr>\n",
       "  </tbody>\n",
       "</table>\n",
       "</div>"
      ],
      "text/plain": [
       "               Model Name     Score\n",
       "1  DecisionTreeClassifier  0.929429\n",
       "2     ExtraTreeClassifier  0.915916\n",
       "0      LogisticRegression  0.888889\n",
       "3              GaussianNB  0.863363\n",
       "4    KNeighborsClassifier  0.690691"
      ]
     },
     "execution_count": 30,
     "metadata": {},
     "output_type": "execute_result"
    }
   ],
   "source": [
    "model_prediction = pd.DataFrame(model_prediction)\n",
    "model_prediction.columns = [\"Model Name\",\"Score\"]\n",
    "model_prediction.sort_values(by='Score',ascending=False)"
   ]
  },
  {
   "cell_type": "code",
   "execution_count": null,
   "metadata": {},
   "outputs": [],
   "source": []
  }
 ],
 "metadata": {
  "kernelspec": {
   "display_name": "Python 3",
   "language": "python",
   "name": "python3"
  },
  "language_info": {
   "codemirror_mode": {
    "name": "ipython",
    "version": 3
   },
   "file_extension": ".py",
   "mimetype": "text/x-python",
   "name": "python",
   "nbconvert_exporter": "python",
   "pygments_lexer": "ipython3",
   "version": "3.6.6"
  }
 },
 "nbformat": 4,
 "nbformat_minor": 4
}
