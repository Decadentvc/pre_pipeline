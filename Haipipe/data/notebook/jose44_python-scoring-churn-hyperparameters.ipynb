{
 "cells": [
  {
   "cell_type": "code",
   "execution_count": 1,
   "metadata": {
    "_cell_guid": "b1076dfc-b9ad-4769-8c92-a6c4dae69d19",
    "_uuid": "8f2839f25d086af736a60e9eeb907d3b93b6e0e5",
    "execution": {
     "iopub.execute_input": "2020-09-20T21:36:02.037554Z",
     "iopub.status.busy": "2020-09-20T21:36:02.036723Z",
     "iopub.status.idle": "2020-09-20T21:36:03.520863Z",
     "shell.execute_reply": "2020-09-20T21:36:03.520043Z"
    },
    "papermill": {
     "duration": 1.509517,
     "end_time": "2020-09-20T21:36:03.521007",
     "exception": false,
     "start_time": "2020-09-20T21:36:02.011490",
     "status": "completed"
    },
    "tags": []
   },
   "outputs": [
    {
     "name": "stdout",
     "output_type": "stream",
     "text": [
      "/kaggle/input/telco-customer-churn/WA_Fn-UseC_-Telco-Customer-Churn.csv\n"
     ]
    }
   ],
   "source": [
    "# This Python 3 environment comes with many helpful analytics libraries installed\n",
    "# It is defined by the kaggle/python Docker image: https://github.com/kaggle/docker-python\n",
    "# For example, here's several helpful packages to load\n",
    "\n",
    "import pandas as pd\n",
    "import numpy as np\n",
    "import seaborn as sns\n",
    "import matplotlib.pyplot as plt\n",
    "\n",
    "# Tools\n",
    "from sklearn.model_selection import train_test_split\n",
    "from sklearn.model_selection import RandomizedSearchCV\n",
    "from sklearn.model_selection import cross_val_score\n",
    "from sklearn.preprocessing import StandardScaler\n",
    "\n",
    "# Model\n",
    "from sklearn.ensemble import RandomForestClassifier\n",
    "\n",
    "# Metrics\n",
    "from sklearn.metrics import accuracy_score\n",
    "from sklearn.metrics import classification_report,confusion_matrix\n",
    "import warnings\n",
    "warnings.filterwarnings(\"ignore\")\n",
    "\n",
    "# Input data files are available in the read-only \"../input/\" directory\n",
    "# For example, running this (by clicking run or pressing Shift+Enter) will list all files under the input directory\n",
    "\n",
    "import os\n",
    "for dirname, _, filenames in os.walk('/kaggle/input'):\n",
    "    for filename in filenames:\n",
    "        print(os.path.join(dirname, filename))\n",
    "\n",
    "# You can write up to 5GB to the current directory (/kaggle/working/) that gets preserved as output when you create a version using \"Save & Run All\" \n",
    "# You can also write temporary files to /kaggle/temp/, but they won't be saved outside of the current session\n",
    "\n",
    "# Configs\n",
    "pd.options.display.float_format = '{:,.4f}'.format\n",
    "sns.set(style=\"whitegrid\")\n",
    "plt.style.use('seaborn')\n",
    "seed = 42\n",
    "np.random.seed(seed)"
   ]
  },
  {
   "cell_type": "code",
   "execution_count": 2,
   "metadata": {
    "execution": {
     "iopub.execute_input": "2020-09-20T21:36:03.554333Z",
     "iopub.status.busy": "2020-09-20T21:36:03.553356Z",
     "iopub.status.idle": "2020-09-20T21:36:03.556598Z",
     "shell.execute_reply": "2020-09-20T21:36:03.555869Z"
    },
    "papermill": {
     "duration": 0.022424,
     "end_time": "2020-09-20T21:36:03.556724",
     "exception": false,
     "start_time": "2020-09-20T21:36:03.534300",
     "status": "completed"
    },
    "tags": []
   },
   "outputs": [],
   "source": [
    "def evalua(y_test,pred):\n",
    "    print('Confusion matrix:\\n',confusion_matrix(y_test,pred),'\\n')\n",
    "    print('Classification report:\\n',classification_report(y_test,pred),'\\n')\n",
    "    print('Accuracy:',accuracy_score(y_test,pred),'\\n')"
   ]
  },
  {
   "cell_type": "code",
   "execution_count": 3,
   "metadata": {
    "_cell_guid": "79c7e3d0-c299-4dcb-8224-4455121ee9b0",
    "_uuid": "d629ff2d2480ee46fbb7e2d37f6b5fab8052498a",
    "execution": {
     "iopub.execute_input": "2020-09-20T21:36:03.594774Z",
     "iopub.status.busy": "2020-09-20T21:36:03.593992Z",
     "iopub.status.idle": "2020-09-20T21:36:03.703656Z",
     "shell.execute_reply": "2020-09-20T21:36:03.703013Z"
    },
    "papermill": {
     "duration": 0.134264,
     "end_time": "2020-09-20T21:36:03.703776",
     "exception": false,
     "start_time": "2020-09-20T21:36:03.569512",
     "status": "completed"
    },
    "tags": []
   },
   "outputs": [
    {
     "name": "stdout",
     "output_type": "stream",
     "text": [
      "DataSet = 7,043 rows and 21 columns\n",
      "\n",
      "All Columns:\n",
      "=> ['customerID', 'gender', 'SeniorCitizen', 'Partner', 'Dependents', 'tenure', 'PhoneService', 'MultipleLines', 'InternetService', 'OnlineSecurity', 'OnlineBackup', 'DeviceProtection', 'TechSupport', 'StreamingTV', 'StreamingMovies', 'Contract', 'PaperlessBilling', 'PaymentMethod', 'MonthlyCharges', 'TotalCharges', 'Churn']\n",
      "\n",
      "Strings Variables:\n",
      "=> ['customerID', 'gender', 'Partner', 'Dependents', 'PhoneService', 'MultipleLines', 'InternetService', 'OnlineSecurity', 'OnlineBackup', 'DeviceProtection', 'TechSupport', 'StreamingTV', 'StreamingMovies', 'Contract', 'PaperlessBilling', 'PaymentMethod', 'TotalCharges'] \n",
      "\n",
      "Numerics Variables:\n",
      "=> ['SeniorCitizen', 'tenure', 'MonthlyCharges']\n"
     ]
    },
    {
     "data": {
      "text/html": [
       "<div>\n",
       "<style scoped>\n",
       "    .dataframe tbody tr th:only-of-type {\n",
       "        vertical-align: middle;\n",
       "    }\n",
       "\n",
       "    .dataframe tbody tr th {\n",
       "        vertical-align: top;\n",
       "    }\n",
       "\n",
       "    .dataframe thead th {\n",
       "        text-align: right;\n",
       "    }\n",
       "</style>\n",
       "<table border=\"1\" class=\"dataframe\">\n",
       "  <thead>\n",
       "    <tr style=\"text-align: right;\">\n",
       "      <th></th>\n",
       "      <th>customerID</th>\n",
       "      <th>gender</th>\n",
       "      <th>SeniorCitizen</th>\n",
       "      <th>Partner</th>\n",
       "      <th>Dependents</th>\n",
       "      <th>tenure</th>\n",
       "      <th>PhoneService</th>\n",
       "      <th>MultipleLines</th>\n",
       "      <th>InternetService</th>\n",
       "      <th>OnlineSecurity</th>\n",
       "      <th>...</th>\n",
       "      <th>DeviceProtection</th>\n",
       "      <th>TechSupport</th>\n",
       "      <th>StreamingTV</th>\n",
       "      <th>StreamingMovies</th>\n",
       "      <th>Contract</th>\n",
       "      <th>PaperlessBilling</th>\n",
       "      <th>PaymentMethod</th>\n",
       "      <th>MonthlyCharges</th>\n",
       "      <th>TotalCharges</th>\n",
       "      <th>Churn</th>\n",
       "    </tr>\n",
       "  </thead>\n",
       "  <tbody>\n",
       "    <tr>\n",
       "      <th>0</th>\n",
       "      <td>7590-VHVEG</td>\n",
       "      <td>Female</td>\n",
       "      <td>0</td>\n",
       "      <td>Yes</td>\n",
       "      <td>No</td>\n",
       "      <td>1</td>\n",
       "      <td>No</td>\n",
       "      <td>No phone service</td>\n",
       "      <td>DSL</td>\n",
       "      <td>No</td>\n",
       "      <td>...</td>\n",
       "      <td>No</td>\n",
       "      <td>No</td>\n",
       "      <td>No</td>\n",
       "      <td>No</td>\n",
       "      <td>Month-to-month</td>\n",
       "      <td>Yes</td>\n",
       "      <td>Electronic check</td>\n",
       "      <td>29.8500</td>\n",
       "      <td>29.85</td>\n",
       "      <td>No</td>\n",
       "    </tr>\n",
       "    <tr>\n",
       "      <th>1</th>\n",
       "      <td>5575-GNVDE</td>\n",
       "      <td>Male</td>\n",
       "      <td>0</td>\n",
       "      <td>No</td>\n",
       "      <td>No</td>\n",
       "      <td>34</td>\n",
       "      <td>Yes</td>\n",
       "      <td>No</td>\n",
       "      <td>DSL</td>\n",
       "      <td>Yes</td>\n",
       "      <td>...</td>\n",
       "      <td>Yes</td>\n",
       "      <td>No</td>\n",
       "      <td>No</td>\n",
       "      <td>No</td>\n",
       "      <td>One year</td>\n",
       "      <td>No</td>\n",
       "      <td>Mailed check</td>\n",
       "      <td>56.9500</td>\n",
       "      <td>1889.5</td>\n",
       "      <td>No</td>\n",
       "    </tr>\n",
       "    <tr>\n",
       "      <th>2</th>\n",
       "      <td>3668-QPYBK</td>\n",
       "      <td>Male</td>\n",
       "      <td>0</td>\n",
       "      <td>No</td>\n",
       "      <td>No</td>\n",
       "      <td>2</td>\n",
       "      <td>Yes</td>\n",
       "      <td>No</td>\n",
       "      <td>DSL</td>\n",
       "      <td>Yes</td>\n",
       "      <td>...</td>\n",
       "      <td>No</td>\n",
       "      <td>No</td>\n",
       "      <td>No</td>\n",
       "      <td>No</td>\n",
       "      <td>Month-to-month</td>\n",
       "      <td>Yes</td>\n",
       "      <td>Mailed check</td>\n",
       "      <td>53.8500</td>\n",
       "      <td>108.15</td>\n",
       "      <td>Yes</td>\n",
       "    </tr>\n",
       "  </tbody>\n",
       "</table>\n",
       "<p>3 rows × 21 columns</p>\n",
       "</div>"
      ],
      "text/plain": [
       "   customerID  gender  SeniorCitizen Partner Dependents  tenure PhoneService  \\\n",
       "0  7590-VHVEG  Female              0     Yes         No       1           No   \n",
       "1  5575-GNVDE    Male              0      No         No      34          Yes   \n",
       "2  3668-QPYBK    Male              0      No         No       2          Yes   \n",
       "\n",
       "      MultipleLines InternetService OnlineSecurity  ... DeviceProtection  \\\n",
       "0  No phone service             DSL             No  ...               No   \n",
       "1                No             DSL            Yes  ...              Yes   \n",
       "2                No             DSL            Yes  ...               No   \n",
       "\n",
       "  TechSupport StreamingTV StreamingMovies        Contract PaperlessBilling  \\\n",
       "0          No          No              No  Month-to-month              Yes   \n",
       "1          No          No              No        One year               No   \n",
       "2          No          No              No  Month-to-month              Yes   \n",
       "\n",
       "      PaymentMethod MonthlyCharges  TotalCharges Churn  \n",
       "0  Electronic check        29.8500         29.85    No  \n",
       "1      Mailed check        56.9500        1889.5    No  \n",
       "2      Mailed check        53.8500        108.15   Yes  \n",
       "\n",
       "[3 rows x 21 columns]"
      ]
     },
     "execution_count": 3,
     "metadata": {},
     "output_type": "execute_result"
    }
   ],
   "source": [
    "# Load data\n",
    "file_path = '/kaggle/input/telco-customer-churn/WA_Fn-UseC_-Telco-Customer-Churn.csv'\n",
    "df = pd.read_csv(file_path)\n",
    "print(\"DataSet = {:,d} rows and {} columns\".format(df.shape[0], df.shape[1]))\n",
    "\n",
    "print(\"\\nAll Columns:\\n=>\", df.columns.tolist())\n",
    "\n",
    "quantitative = [f for f in df.columns if df.dtypes[f] != 'object']\n",
    "qualitative = [f for f in df.columns if df.dtypes[f] == 'object']\n",
    "del qualitative[-1]\n",
    "\n",
    "print(\"\\nStrings Variables:\\n=>\",qualitative ,\n",
    "      \"\\n\\nNumerics Variables:\\n=>\", quantitative)\n",
    "\n",
    "df.head(3)"
   ]
  },
  {
   "cell_type": "code",
   "execution_count": 4,
   "metadata": {
    "execution": {
     "iopub.execute_input": "2020-09-20T21:36:03.747394Z",
     "iopub.status.busy": "2020-09-20T21:36:03.746607Z",
     "iopub.status.idle": "2020-09-20T21:36:03.808583Z",
     "shell.execute_reply": "2020-09-20T21:36:03.807758Z"
    },
    "papermill": {
     "duration": 0.090728,
     "end_time": "2020-09-20T21:36:03.808715",
     "exception": false,
     "start_time": "2020-09-20T21:36:03.717987",
     "status": "completed"
    },
    "tags": []
   },
   "outputs": [
    {
     "data": {
      "text/plain": [
       "customerID          0\n",
       "gender              0\n",
       "SeniorCitizen       0\n",
       "Partner             0\n",
       "Dependents          0\n",
       "tenure              0\n",
       "PhoneService        0\n",
       "MultipleLines       0\n",
       "InternetService     0\n",
       "OnlineSecurity      0\n",
       "OnlineBackup        0\n",
       "DeviceProtection    0\n",
       "TechSupport         0\n",
       "StreamingTV         0\n",
       "StreamingMovies     0\n",
       "Contract            0\n",
       "PaperlessBilling    0\n",
       "PaymentMethod       0\n",
       "MonthlyCharges      0\n",
       "TotalCharges        0\n",
       "Churn               0\n",
       "dtype: int64"
      ]
     },
     "execution_count": 4,
     "metadata": {},
     "output_type": "execute_result"
    }
   ],
   "source": [
    "# Transform data\n",
    "\n",
    "df['Churn'].replace(to_replace='Yes', value=1, inplace=True)\n",
    "df['Churn'].replace(to_replace='No',  value=0, inplace=True)\n",
    "\n",
    "df = df.dropna()\n",
    "df.isnull().sum()"
   ]
  },
  {
   "cell_type": "code",
   "execution_count": 5,
   "metadata": {
    "execution": {
     "iopub.execute_input": "2020-09-20T21:36:03.853702Z",
     "iopub.status.busy": "2020-09-20T21:36:03.852899Z",
     "iopub.status.idle": "2020-09-20T21:36:04.129765Z",
     "shell.execute_reply": "2020-09-20T21:36:04.129104Z"
    },
    "papermill": {
     "duration": 0.306773,
     "end_time": "2020-09-20T21:36:04.129902",
     "exception": false,
     "start_time": "2020-09-20T21:36:03.823129",
     "status": "completed"
    },
    "tags": []
   },
   "outputs": [],
   "source": [
    "# String to numeric (TCA)\n",
    "df1=df.Churn\n",
    "for i in qualitative:\n",
    "    spd1=pd.DataFrame(df.groupby(df[i]).mean().Churn)\n",
    "    auxiliar=spd1.to_dict()\n",
    "    spd2=df[i].map(auxiliar.get('Churn'))\n",
    "    df1=pd.DataFrame(df1).join(pd.DataFrame(spd2))"
   ]
  },
  {
   "cell_type": "code",
   "execution_count": 6,
   "metadata": {
    "execution": {
     "iopub.execute_input": "2020-09-20T21:36:04.168992Z",
     "iopub.status.busy": "2020-09-20T21:36:04.168032Z",
     "iopub.status.idle": "2020-09-20T21:36:04.172896Z",
     "shell.execute_reply": "2020-09-20T21:36:04.172139Z"
    },
    "papermill": {
     "duration": 0.027504,
     "end_time": "2020-09-20T21:36:04.173020",
     "exception": false,
     "start_time": "2020-09-20T21:36:04.145516",
     "status": "completed"
    },
    "tags": []
   },
   "outputs": [],
   "source": [
    "# Create numeric data frame\n",
    "df2=df[quantitative]\n",
    "df=pd.DataFrame(df1).join(pd.DataFrame(df2))"
   ]
  },
  {
   "cell_type": "code",
   "execution_count": 7,
   "metadata": {
    "execution": {
     "iopub.execute_input": "2020-09-20T21:36:04.211355Z",
     "iopub.status.busy": "2020-09-20T21:36:04.210519Z",
     "iopub.status.idle": "2020-09-20T21:36:04.833630Z",
     "shell.execute_reply": "2020-09-20T21:36:04.832874Z"
    },
    "papermill": {
     "duration": 0.64574,
     "end_time": "2020-09-20T21:36:04.833761",
     "exception": false,
     "start_time": "2020-09-20T21:36:04.188021",
     "status": "completed"
    },
    "tags": []
   },
   "outputs": [
    {
     "data": {
      "image/png": "[encoded data removed]",
      "text/plain": [
       "<Figure size 864x432 with 2 Axes>"
      ]
     },
     "metadata": {},
     "output_type": "display_data"
    }
   ],
   "source": [
    "# Correlation analysis plot\n",
    "plt.figure(figsize=(12, 6))\n",
    "df.drop(['customerID'], axis=1, inplace=True)\n",
    "corr = df.apply(lambda x: pd.factorize(x)[0]).corr()\n",
    "ax = sns.heatmap(corr, xticklabels=corr.columns, yticklabels=corr.columns, \n",
    "                 linewidths=.2, cmap=\"YlGnBu\")"
   ]
  },
  {
   "cell_type": "code",
   "execution_count": 8,
   "metadata": {
    "execution": {
     "iopub.execute_input": "2020-09-20T21:36:04.878828Z",
     "iopub.status.busy": "2020-09-20T21:36:04.877845Z",
     "iopub.status.idle": "2020-09-20T21:36:04.882655Z",
     "shell.execute_reply": "2020-09-20T21:36:04.882061Z"
    },
    "papermill": {
     "duration": 0.029676,
     "end_time": "2020-09-20T21:36:04.882792",
     "exception": false,
     "start_time": "2020-09-20T21:36:04.853116",
     "status": "completed"
    },
    "tags": []
   },
   "outputs": [
    {
     "data": {
      "text/plain": [
       "Contract           -0.3967\n",
       "OnlineSecurity     -0.3328\n",
       "TechSupport        -0.3299\n",
       "DeviceProtection   -0.2815\n",
       "PaymentMethod      -0.2628\n",
       "StreamingMovies    -0.2073\n",
       "StreamingTV        -0.2057\n",
       "PaperlessBilling   -0.1918\n",
       "Dependents         -0.1642\n",
       "tenure             -0.1444\n",
       "OnlineBackup       -0.0742\n",
       "InternetService    -0.0473\n",
       "gender             -0.0086\n",
       "PhoneService        0.0119\n",
       "MonthlyCharges      0.0210\n",
       "MultipleLines       0.0363\n",
       "Partner             0.1504\n",
       "SeniorCitizen       0.1509\n",
       "TotalCharges        0.3989\n",
       "Churn               1.0000\n",
       "Name: Churn, dtype: float64"
      ]
     },
     "execution_count": 8,
     "metadata": {},
     "output_type": "execute_result"
    }
   ],
   "source": [
    "corr['Churn'].sort_values(ascending=True)"
   ]
  },
  {
   "cell_type": "code",
   "execution_count": 9,
   "metadata": {
    "execution": {
     "iopub.execute_input": "2020-09-20T21:36:04.927708Z",
     "iopub.status.busy": "2020-09-20T21:36:04.926933Z",
     "iopub.status.idle": "2020-09-20T21:36:04.932688Z",
     "shell.execute_reply": "2020-09-20T21:36:04.931912Z"
    },
    "papermill": {
     "duration": 0.032329,
     "end_time": "2020-09-20T21:36:04.932821",
     "exception": false,
     "start_time": "2020-09-20T21:36:04.900492",
     "status": "completed"
    },
    "tags": []
   },
   "outputs": [],
   "source": [
    "# Samples\n",
    "x = df.drop(['Churn'], axis=1)\n",
    "y = df['Churn']\n",
    "x_train, x_test, y_train, y_test = train_test_split(x, y.values, test_size=0.20, random_state=42)"
   ]
  },
  {
   "cell_type": "code",
   "execution_count": 10,
   "metadata": {
    "execution": {
     "iopub.execute_input": "2020-09-20T21:36:04.978610Z",
     "iopub.status.busy": "2020-09-20T21:36:04.977794Z",
     "iopub.status.idle": "2020-09-20T21:36:47.786324Z",
     "shell.execute_reply": "2020-09-20T21:36:47.785120Z"
    },
    "papermill": {
     "duration": 42.835794,
     "end_time": "2020-09-20T21:36:47.786551",
     "exception": false,
     "start_time": "2020-09-20T21:36:04.950757",
     "status": "completed"
    },
    "tags": []
   },
   "outputs": [
    {
     "name": "stdout",
     "output_type": "stream",
     "text": [
      "Fitting 6 folds for each of 50 candidates, totalling 300 fits\n"
     ]
    },
    {
     "name": "stderr",
     "output_type": "stream",
     "text": [
      "[Parallel(n_jobs=10)]: Using backend LokyBackend with 10 concurrent workers.\n",
      "[Parallel(n_jobs=10)]: Done  30 tasks      | elapsed:    9.8s\n",
      "[Parallel(n_jobs=10)]: Done 180 tasks      | elapsed:   29.0s\n",
      "[Parallel(n_jobs=10)]: Done 300 out of 300 | elapsed:   42.4s finished\n"
     ]
    },
    {
     "name": "stdout",
     "output_type": "stream",
     "text": [
      "Training:\n",
      "Confusion matrix:\n",
      " [[4100   38]\n",
      " [  54 1442]] \n",
      "\n",
      "Classification report:\n",
      "               precision    recall  f1-score   support\n",
      "\n",
      "           0       0.99      0.99      0.99      4138\n",
      "           1       0.97      0.96      0.97      1496\n",
      "\n",
      "    accuracy                           0.98      5634\n",
      "   macro avg       0.98      0.98      0.98      5634\n",
      "weighted avg       0.98      0.98      0.98      5634\n",
      " \n",
      "\n",
      "Accuracy: 0.9836705715299965 \n",
      "\n"
     ]
    }
   ],
   "source": [
    "# Search model\n",
    "random_search = {\n",
    "               'criterion': ['entropy', 'gini'],\n",
    "               'max_depth': [2,3,4,5],\n",
    "               'max_features': ['auto', 'sqrt'],\n",
    "               'min_samples_leaf': [10,30,50],\n",
    "               'n_estimators': [60,80,100]}\n",
    "\n",
    "clf = RandomForestClassifier()\n",
    "model = RandomizedSearchCV(estimator = clf, param_distributions = random_search, n_iter = 50, \n",
    "                               cv = 6, verbose= 1, random_state= 101, n_jobs = 10)\n",
    "model.fit(x_train,y_train)\n",
    "\n",
    "# Training \n",
    "print('Training:')\n",
    "evalua(y_train,model.predict(x_train))"
   ]
  },
  {
   "cell_type": "code",
   "execution_count": 11,
   "metadata": {
    "execution": {
     "iopub.execute_input": "2020-09-20T21:36:47.835082Z",
     "iopub.status.busy": "2020-09-20T21:36:47.834334Z",
     "iopub.status.idle": "2020-09-20T21:36:47.841136Z",
     "shell.execute_reply": "2020-09-20T21:36:47.840432Z"
    },
    "papermill": {
     "duration": 0.033216,
     "end_time": "2020-09-20T21:36:47.841323",
     "exception": false,
     "start_time": "2020-09-20T21:36:47.808107",
     "status": "completed"
    },
    "tags": []
   },
   "outputs": [
    {
     "name": "stdout",
     "output_type": "stream",
     "text": [
      "Our best model: RandomForestClassifier(max_depth=5, min_samples_leaf=10, n_estimators=60)\n"
     ]
    }
   ],
   "source": [
    "# the best estimator\n",
    "print('Our best model:',model.best_estimator_)"
   ]
  },
  {
   "cell_type": "code",
   "execution_count": 12,
   "metadata": {
    "execution": {
     "iopub.execute_input": "2020-09-20T21:36:47.891999Z",
     "iopub.status.busy": "2020-09-20T21:36:47.890954Z",
     "iopub.status.idle": "2020-09-20T21:36:47.922965Z",
     "shell.execute_reply": "2020-09-20T21:36:47.922298Z"
    },
    "papermill": {
     "duration": 0.060725,
     "end_time": "2020-09-20T21:36:47.923089",
     "exception": false,
     "start_time": "2020-09-20T21:36:47.862364",
     "status": "completed"
    },
    "tags": []
   },
   "outputs": [
    {
     "name": "stdout",
     "output_type": "stream",
     "text": [
      "Testing:\n",
      "Confusion matrix:\n",
      " [[1024   12]\n",
      " [  18  355]] \n",
      "\n",
      "Classification report:\n",
      "               precision    recall  f1-score   support\n",
      "\n",
      "           0       0.98      0.99      0.99      1036\n",
      "           1       0.97      0.95      0.96       373\n",
      "\n",
      "    accuracy                           0.98      1409\n",
      "   macro avg       0.98      0.97      0.97      1409\n",
      "weighted avg       0.98      0.98      0.98      1409\n",
      " \n",
      "\n",
      "Accuracy: 0.978708303761533 \n",
      "\n"
     ]
    }
   ],
   "source": [
    "# Test\n",
    "print('Testing:')\n",
    "pred=model.predict(x_test)\n",
    "evalua(y_test,pred)"
   ]
  },
  {
   "cell_type": "code",
   "execution_count": 13,
   "metadata": {
    "execution": {
     "iopub.execute_input": "2020-09-20T21:36:47.977632Z",
     "iopub.status.busy": "2020-09-20T21:36:47.976861Z",
     "iopub.status.idle": "2020-09-20T21:36:48.395509Z",
     "shell.execute_reply": "2020-09-20T21:36:48.394783Z"
    },
    "papermill": {
     "duration": 0.450861,
     "end_time": "2020-09-20T21:36:48.395631",
     "exception": false,
     "start_time": "2020-09-20T21:36:47.944770",
     "status": "completed"
    },
    "tags": []
   },
   "outputs": [
    {
     "data": {
      "text/plain": [
       "<matplotlib.axes._subplots.AxesSubplot at 0x7fcbab6c9250>"
      ]
     },
     "execution_count": 13,
     "metadata": {},
     "output_type": "execute_result"
    },
    {
     "data": {
      "image/png": "[encoded data removed]",
      "text/plain": [
       "<Figure size 1440x720 with 1 Axes>"
      ]
     },
     "metadata": {},
     "output_type": "display_data"
    }
   ],
   "source": [
    "# Target for marketing\n",
    "churn_scoring=model.predict_proba(x)\n",
    "cuts=np.percentile(churn_scoring[:,1],[0,50,60,70,80,100])\n",
    "df['Churn scoring']=pd.cut(np.array(churn_scoring[:,1]),cuts)\n",
    "dfs=df.groupby('Churn scoring').mean()['Churn']\n",
    "dfs.plot(kind='barh',title='Churn Rates',color=['r','b','y','g'],figsize=(20,10),grid=bool)"
   ]
  },
  {
   "cell_type": "code",
   "execution_count": 14,
   "metadata": {
    "execution": {
     "iopub.execute_input": "2020-09-20T21:36:48.451718Z",
     "iopub.status.busy": "2020-09-20T21:36:48.450589Z",
     "iopub.status.idle": "2020-09-20T21:36:48.812696Z",
     "shell.execute_reply": "2020-09-20T21:36:48.811957Z"
    },
    "papermill": {
     "duration": 0.393955,
     "end_time": "2020-09-20T21:36:48.812838",
     "exception": false,
     "start_time": "2020-09-20T21:36:48.418883",
     "status": "completed"
    },
    "tags": []
   },
   "outputs": [
    {
     "data": {
      "image/png": "[encoded data removed]",
      "text/plain": [
       "<Figure size 1080x576 with 1 Axes>"
      ]
     },
     "metadata": {},
     "output_type": "display_data"
    }
   ],
   "source": [
    "# Model performance\n",
    "df['Scoring']=churn_scoring[:,1]\n",
    "plt.figure(figsize=(15, 8))\n",
    "plt.title(\"KDE for scoring (RFO)\")\n",
    "ax0 = sns.kdeplot(df[df['Churn'] == 0]['Scoring'].dropna(), color= 'navy', label= 'Churn: No')\n",
    "ax1 = sns.kdeplot(df[df['Churn'] == 1]['Scoring'].dropna(), color= 'orange', label= 'Churn: Yes')"
   ]
  }
 ],
 "metadata": {
  "kernelspec": {
   "display_name": "Python 3",
   "language": "python",
   "name": "python3"
  },
  "language_info": {
   "codemirror_mode": {
    "name": "ipython",
    "version": 3
   },
   "file_extension": ".py",
   "mimetype": "text/x-python",
   "name": "python",
   "nbconvert_exporter": "python",
   "pygments_lexer": "ipython3",
   "version": "3.7.6"
  },
  "papermill": {
   "duration": 51.803652,
   "end_time": "2020-09-20T21:36:48.960639",
   "environment_variables": {},
   "exception": null,
   "input_path": "__notebook__.ipynb",
   "output_path": "__notebook__.ipynb",
   "parameters": {},
   "start_time": "2020-09-20T21:35:57.156987",
   "version": "2.1.0"
  }
 },
 "nbformat": 4,
 "nbformat_minor": 4
}
