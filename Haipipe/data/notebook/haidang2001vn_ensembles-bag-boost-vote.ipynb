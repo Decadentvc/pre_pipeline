{
 "cells": [
  {
   "cell_type": "code",
   "execution_count": 1,
   "metadata": {
    "_cell_guid": "b1076dfc-b9ad-4769-8c92-a6c4dae69d19",
    "_uuid": "8f2839f25d086af736a60e9eeb907d3b93b6e0e5"
   },
   "outputs": [],
   "source": [
    "import pandas as pd\n",
    "import numpy as np\n",
    "import os \n",
    "# Get some classifiers to evaluate\n",
    "from sklearn.model_selection import GridSearchCV\n",
    "from sklearn.ensemble import VotingClassifier\n",
    "from sklearn.linear_model import LogisticRegression\n",
    "from sklearn.ensemble import BaggingClassifier, ExtraTreesClassifier, RandomForestClassifier, GradientBoostingClassifier\n",
    "from sklearn.neighbors import KNeighborsClassifier\n",
    "from sklearn.linear_model import RidgeClassifier\n",
    "from sklearn.svm import SVC\n",
    "# score\n",
    "from sklearn.model_selection import train_test_split\n",
    "from sklearn.metrics import accuracy_score\n",
    "from sklearn.model_selection import cross_val_score"
   ]
  },
  {
   "cell_type": "code",
   "execution_count": 2,
   "metadata": {},
   "outputs": [
    {
     "name": "stdout",
     "output_type": "stream",
     "text": [
      "['diabetes_data.csv']\n",
      "(768,)\n",
      "first 10 labels\n",
      "0    1\n",
      "1    0\n",
      "2    1\n",
      "3    0\n",
      "4    1\n",
      "5    0\n",
      "6    1\n",
      "7    0\n",
      "8    1\n",
      "9    1\n",
      "Name: diabetes, dtype: int64\n",
      "(537, 8)\n",
      "(231, 8)\n",
      "(537,)\n",
      "(231,)\n"
     ]
    }
   ],
   "source": [
    "print(os.listdir('../input'))\n",
    "#read in the dataset\n",
    "df = pd.read_csv('../input/diabetes_data.csv')\n",
    "\n",
    "#take a look at the data\n",
    "df.head()\n",
    "#check dataset size\n",
    "df.shape\n",
    "#split data into inputs and targets\n",
    "X = df.drop(columns = ['diabetes'])\n",
    "y = df['diabetes']\n",
    "print(y.shape)\n",
    "print(\"first 10 labels\")\n",
    "print(y[:10])\n",
    "#split data into train and test sets\n",
    "X_train, X_test, y_train, y_test = train_test_split(X, y, test_size=0.3, random_state=1)\n",
    "print(X_train.shape)\n",
    "print(X_test.shape)\n",
    "print(y_train.shape)\n",
    "print(y_test.shape)"
   ]
  },
  {
   "cell_type": "code",
   "execution_count": 3,
   "metadata": {},
   "outputs": [
    {
     "name": "stdout",
     "output_type": "stream",
     "text": [
      "score on test data: 0.7922077922077922\n",
      "Mean of: 0.772, std: (+/-) 0.043 [RandomForestClassifier]\n",
      "Mean of: 0.763, std: (+/-) 0.044 [Bagging RandomForestClassifier]\n",
      "\n",
      "score on test data: 0.70995670995671\n",
      "Mean of: 0.700, std: (+/-) 0.028 [ExtraTreesClassifier]\n",
      "Mean of: 0.720, std: (+/-) 0.036 [Bagging ExtraTreesClassifier]\n",
      "\n",
      "score on test data: 0.7489177489177489\n",
      "Mean of: 0.721, std: (+/-) 0.044 [KNeighborsClassifier]\n",
      "Mean of: 0.729, std: (+/-) 0.043 [Bagging KNeighborsClassifier]\n",
      "\n",
      "score on test data: 0.7705627705627706\n",
      "Mean of: 0.758, std: (+/-) 0.030 [SVC]\n",
      "Mean of: 0.762, std: (+/-) 0.030 [Bagging SVC]\n",
      "\n",
      "score on test data: 0.7835497835497836\n",
      "Mean of: 0.773, std: (+/-) 0.034 [RidgeClassifier]\n",
      "Mean of: 0.767, std: (+/-) 0.031 [Bagging RidgeClassifier]\n",
      "\n",
      "score on test data: 0.8008658008658008\n",
      "Mean of: 0.751, std: (+/-) 0.051 [GradientBoostingClassifier]\n",
      "Mean of: 0.766, std: (+/-) 0.052 [Bagging GradientBoostingClassifier]\n",
      "\n"
     ]
    }
   ],
   "source": [
    "seed = 1075\n",
    "np.random.seed(seed)\n",
    "\n",
    "# Create classifiers\n",
    "rf = RandomForestClassifier(n_estimators=150, max_depth=4, min_samples_split=10)\n",
    "et = ExtraTreesClassifier(n_estimators=150, max_depth=4, min_samples_split=10)\n",
    "knn = KNeighborsClassifier()\n",
    "svc = SVC(gamma='scale')\n",
    "rg = RidgeClassifier()\n",
    "gb = GradientBoostingClassifier(n_estimators=100, max_depth=4, min_samples_split=8)\n",
    "\n",
    "clf_array = [rf, et, knn, svc, rg, gb]\n",
    "\n",
    "for clf in clf_array:\n",
    "    vanilla_scores = cross_val_score(clf, X, y, cv=10, n_jobs=-1)\n",
    "    bagging_clf = BaggingClassifier(clf, max_samples=0.7, random_state=seed)\n",
    "    bagging_scores = cross_val_score(bagging_clf, X, y, cv=10, \n",
    "       n_jobs=-1)\n",
    "    \n",
    "    bag_model=BaggingClassifier(clf,bootstrap=True)\n",
    "    bag_model=bag_model.fit(X_train,y_train)\n",
    "    ytest_pred=bag_model.predict(X_test)\n",
    "    print(\"score on test data:\", accuracy_score(ytest_pred, y_test))\n",
    "    \n",
    "    print (\"Mean of: {1:.3f}, std: (+/-) {2:.3f} [{0}]\".format(clf.__class__.__name__, \n",
    "                                                              vanilla_scores.mean(), vanilla_scores.std()))\n",
    "    print (\"Mean of: {1:.3f}, std: (+/-) {2:.3f} [Bagging {0}]\\n\".format(clf.__class__.__name__, \n",
    "                                                                        bagging_scores.mean(), bagging_scores.std()))"
   ]
  },
  {
   "cell_type": "code",
   "execution_count": 4,
   "metadata": {},
   "outputs": [
    {
     "name": "stdout",
     "output_type": "stream",
     "text": [
      "Accuracy: 0.76 (+/- 0.05) [Random Forest]\n",
      "Accuracy: 0.71 (+/- 0.03) [Extra Trees]\n",
      "Accuracy: 0.72 (+/- 0.04) [KNeighbors]\n",
      "Accuracy: 0.76 (+/- 0.03) [SVC]\n",
      "Accuracy: 0.77 (+/- 0.03) [Ridge Classifier]\n",
      "Accuracy: 0.75 (+/- 0.05) [GradientBoosting]\n",
      "Accuracy: 0.76 (+/- 0.04) [Ensemble]\n"
     ]
    }
   ],
   "source": [
    "# Example of hard voting \n",
    "from sklearn.ensemble import VotingClassifier\n",
    "clf = [rf, et, knn, svc, rg, gb]\n",
    "eclf = VotingClassifier(estimators=[('Random Forests', rf), ('Extra Trees', et), ('KNeighbors', knn), ('SVC', svc), ('Ridge Classifier', rg)], voting='hard')\n",
    "for clf, label in zip([rf, et, knn, svc, rg, gb, eclf], ['Random Forest', 'Extra Trees', 'KNeighbors', 'SVC', 'Ridge Classifier', 'GradientBoosting', 'Ensemble']):\n",
    "    scores = cross_val_score(clf, X, y, cv=10, scoring='accuracy')\n",
    "    print(\"Accuracy: %0.2f (+/- %0.2f) [%s]\" % (scores.mean(), scores.std(), label))"
   ]
  },
  {
   "cell_type": "code",
   "execution_count": 5,
   "metadata": {},
   "outputs": [
    {
     "name": "stdout",
     "output_type": "stream",
     "text": [
      "Mean: 0.763, std: (+/-) 0.044 [Bagging Random Forest]\n",
      "Mean: 0.720, std: (+/-) 0.036 [Bagging Extra Trees]\n",
      "Mean: 0.729, std: (+/-) 0.043 [Bagging KNeighbors]\n",
      "Mean: 0.762, std: (+/-) 0.030 [Bagging SVC]\n",
      "Mean: 0.767, std: (+/-) 0.031 [BaggingRidge Classifier]\n",
      "Mean: 0.766, std: (+/-) 0.052 [GradientBoostingBagged]\n",
      "Mean: 0.769, std: (+/-) 0.035 [Bagging Ensemble]\n"
     ]
    }
   ],
   "source": [
    "# Set up ensemble voting for bagging\n",
    "ebclf_array = []\n",
    "\n",
    "for clf in clf_array:\n",
    "    ebclf_array.append(BaggingClassifier(clf, max_samples=0.7, random_state=seed))\n",
    "for clf, label in (zip(ebclf_array, ['Bagging Random Forest', 'Bagging Extra Trees', 'Bagging KNeighbors',\n",
    "                              'Bagging SVC', 'BaggingRidge Classifier', 'GradientBoostingBagged'])):\n",
    "    scores = cross_val_score(clf, X, y, cv=10, scoring='accuracy',error_score='raise')\n",
    "    print(\"Mean: {0:.3f}, std: (+/-) {1:.3f} [{2}]\".format(scores.mean(), scores.std(), label))\n",
    "## Set up voting\n",
    "v_eclf = VotingClassifier(estimators=[('Bagging Random Forest', ebclf_array[0]), ('Bagging Extra Trees', ebclf_array[1]), \n",
    "                                    ('Bagging KNeighbors', ebclf_array[2]), ('Bagging SVC', ebclf_array[3]), ('Bagging Ridge Classifier', ebclf_array[4])], voting='hard')\n",
    "scores = cross_val_score(v_eclf, X, y, cv=10, scoring='accuracy',error_score='raise')\n",
    "print(\"Mean: {0:.3f}, std: (+/-) {1:.3f} [{2}]\".format(scores.mean(), scores.std(), 'Bagging Ensemble'))"
   ]
  },
  {
   "cell_type": "code",
   "execution_count": 6,
   "metadata": {},
   "outputs": [
    {
     "name": "stdout",
     "output_type": "stream",
     "text": [
      "Mean: 0.755, std: (+/-) 0.057 [Ada Boost]\n",
      "Mean: 0.762, std: (+/-) 0.052 [Grad Boost]\n",
      "Mean: 0.769, std: (+/-) 0.059 [XG Boost]\n",
      "Mean: 0.770, std: (+/-) 0.050 [Ensemble]\n"
     ]
    }
   ],
   "source": [
    "from mlxtend.classifier import EnsembleVoteClassifier\n",
    "import warnings\n",
    "from xgboost import plot_importance\n",
    "from xgboost.sklearn import XGBClassifier\n",
    "from sklearn.ensemble import AdaBoostClassifier\n",
    "\n",
    "warnings.filterwarnings('ignore')\n",
    "\n",
    "# Create boosting classifiers\n",
    "ada_boost = AdaBoostClassifier()\n",
    "grad_boost = GradientBoostingClassifier()\n",
    "xgb_boost = XGBClassifier()\n",
    "\n",
    "boost_array = [ada_boost, grad_boost, xgb_boost, gb]\n",
    "\n",
    "eclf = EnsembleVoteClassifier(clfs=[ada_boost, grad_boost, xgb_boost, gb], voting='hard')\n",
    "\n",
    "labels = ['Ada Boost', 'Grad Boost', 'XG Boost', 'Ensemble', 'Gradient Boosting']\n",
    "\n",
    "for clf, label in zip([ada_boost, grad_boost, xgb_boost, eclf,], labels):\n",
    "    scores = cross_val_score(clf, X, y, cv=10, scoring='accuracy')\n",
    "    print(\"Mean: {0:.3f}, std: (+/-) {1:.3f} [{2}]\".format(scores.mean(), scores.std(), label))"
   ]
  },
  {
   "cell_type": "code",
   "execution_count": 7,
   "metadata": {},
   "outputs": [
    {
     "name": "stdout",
     "output_type": "stream",
     "text": [
      "\n",
      "Fitting 2 layers\n",
      "Processing layer-1             "
     ]
    },
    {
     "name": "stderr",
     "output_type": "stream",
     "text": [
      "[MLENS] backend: threading\n"
     ]
    },
    {
     "name": "stdout",
     "output_type": "stream",
     "text": [
      "done | 00:00:03\n",
      "Processing layer-2             done | 00:00:00\n",
      "Fit complete                        | 00:00:03\n",
      "\n",
      "Predicting 2 layers\n",
      "Processing layer-1             done | 00:00:00\n",
      "Processing layer-2             done | 00:00:00\n",
      "Predict complete                    | 00:00:00\n",
      "Fit data:\n",
      "                                   score-m  score-s  ft-m  ft-s  pt-m  pt-s\n",
      "layer-1  extratreesclassifier         0.73     0.04  0.27  0.03  0.02  0.00\n",
      "layer-1  kneighborsclassifier         0.72     0.07  0.00  0.00  0.01  0.00\n",
      "layer-1  randomforestclassifier       0.76     0.05  0.28  0.06  0.04  0.03\n",
      "layer-1  ridgeclassifier              0.77     0.05  0.00  0.00  0.00  0.00\n",
      "\n",
      "Accuracy score: 0.7637795275590551\n"
     ]
    }
   ],
   "source": [
    "from mlens.ensemble import SuperLearner\n",
    "from sklearn.metrics import accuracy_score\n",
    "from sklearn.linear_model import LogisticRegression\n",
    "from sklearn.model_selection import train_test_split\n",
    "\n",
    "lr = LogisticRegression()\n",
    "\n",
    "seed = 1075\n",
    "\n",
    "ensemble = SuperLearner(scorer = accuracy_score, \n",
    "                        random_state=seed, \n",
    "                        folds=10,\n",
    "                        verbose = 2)\n",
    "\n",
    "X_train, X_test, y_train, y_test = train_test_split(X, y, test_size=0.33, random_state=seed)\n",
    "\n",
    "# Build the first layer\n",
    "ensemble.add([rf, et, knn, rg])\n",
    "# Attach the final meta estimator\n",
    "ensemble.add_meta(lr)\n",
    "\n",
    "ensemble.fit(X_train, y_train)\n",
    "preds = ensemble.predict(X_test)\n",
    "print(\"Fit data:\\n%r\" % ensemble.data)\n",
    "print(\"Accuracy score:\", accuracy_score(preds, y_test))"
   ]
  },
  {
   "cell_type": "code",
   "execution_count": 8,
   "metadata": {},
   "outputs": [
    {
     "name": "stdout",
     "output_type": "stream",
     "text": [
      "Accuracy score:  0.7834645669291339 ['Random Forest']\n",
      "Accuracy score:  0.7401574803149606 ['Extra Trees']\n",
      "Accuracy score:  0.7047244094488189 ['KNeighbors']\n",
      "Accuracy score:  0.7519685039370079 ['SVC']\n",
      "Accuracy score:  0.7559055118110236 ['Ridge Classifier']\n",
      "Accuracy score:  0.7677165354330708 ['Random Forest', 'Extra Trees']\n",
      "Accuracy score:  0.7874015748031497 ['Random Forest', 'KNeighbors']\n",
      "Accuracy score:  0.7834645669291339 ['Random Forest', 'SVC']\n",
      "Accuracy score:  0.7716535433070866 ['Random Forest', 'Ridge Classifier']\n",
      "Accuracy score:  0.7559055118110236 ['Extra Trees', 'KNeighbors']\n",
      "Accuracy score:  0.7519685039370079 ['Extra Trees', 'SVC']\n",
      "Accuracy score:  0.7165354330708661 ['Extra Trees', 'Ridge Classifier']\n",
      "Accuracy score:  0.7637795275590551 ['KNeighbors', 'SVC']\n",
      "Accuracy score:  0.7559055118110236 ['KNeighbors', 'Ridge Classifier']\n",
      "Accuracy score:  0.7677165354330708 ['SVC', 'Ridge Classifier']\n",
      "Accuracy score:  0.7519685039370079 ['Random Forest', 'Extra Trees', 'KNeighbors']\n",
      "Accuracy score:  0.7559055118110236 ['Random Forest', 'Extra Trees', 'SVC']\n",
      "Accuracy score:  0.7677165354330708 ['Random Forest', 'Extra Trees', 'Ridge Classifier']\n",
      "Accuracy score:  0.7559055118110236 ['Random Forest', 'KNeighbors', 'SVC']\n",
      "Accuracy score:  0.7559055118110236 ['Random Forest', 'KNeighbors', 'Ridge Classifier']\n",
      "Accuracy score:  0.7559055118110236 ['Random Forest', 'SVC', 'Ridge Classifier']\n",
      "Accuracy score:  0.7677165354330708 ['Extra Trees', 'KNeighbors', 'SVC']\n",
      "Accuracy score:  0.7716535433070866 ['Extra Trees', 'KNeighbors', 'Ridge Classifier']\n",
      "Accuracy score:  0.7559055118110236 ['Extra Trees', 'SVC', 'Ridge Classifier']\n",
      "Accuracy score:  0.7677165354330708 ['KNeighbors', 'SVC', 'Ridge Classifier']\n",
      "Accuracy score:  0.7755905511811023 ['Random Forest', 'Extra Trees', 'KNeighbors', 'SVC']\n",
      "Accuracy score:  0.7795275590551181 ['Random Forest', 'Extra Trees', 'KNeighbors', 'Ridge Classifier']\n",
      "Accuracy score:  0.7519685039370079 ['Random Forest', 'Extra Trees', 'SVC', 'Ridge Classifier']\n",
      "Accuracy score:  0.7795275590551181 ['Random Forest', 'KNeighbors', 'SVC', 'Ridge Classifier']\n",
      "Accuracy score:  0.7637795275590551 ['Extra Trees', 'KNeighbors', 'SVC', 'Ridge Classifier']\n",
      "Accuracy score:  0.7559055118110236 ['Random Forest', 'Extra Trees', 'KNeighbors', 'SVC', 'Ridge Classifier']\n",
      "\n",
      "Best stacking model is {} with accuracy of:  ['Random Forest', 'KNeighbors'] 0.7874015748031497\n"
     ]
    }
   ],
   "source": [
    "from itertools import combinations\n",
    "\n",
    "names = ['Random Forest', 'Extra Trees', 'KNeighbors', 'SVC', 'Ridge Classifier']\n",
    "\n",
    "def zip_stacked_classifiers(*args):\n",
    "    to_zip = []\n",
    "    for arg in args:\n",
    "        temp_list = []\n",
    "        for i in range(len(arg) + 1):\n",
    "            temp = list(map(list, combinations(arg, i)))\n",
    "            temp_list.append(temp)\n",
    "        combined_items = sum(temp_list, [])\n",
    "#         print(map(list(combinations(arg, 2))))\n",
    "#         print (len(combined_items),combined_items)\n",
    "#         combined_items = sum([map(list(), combinations(arg, i)) for i in range(len(arg) + 1)], [])\n",
    "        combined_items = filter(lambda x: len(x) > 0, combined_items)\n",
    "#         print (list(combined_items))\n",
    "        to_zip.append(combined_items) \n",
    "#     print(\"to_zip[0]\",list(to_zip[0]))\n",
    "#     print(\"to_zip[1]\",list(to_zip[1]))\n",
    "    return zip(to_zip[0], to_zip[1])\n",
    "\n",
    "stacked_clf_list = zip_stacked_classifiers(clf_array, names)\n",
    "# for clf in stacked_clf_list:\n",
    "#     print(\"clf\", clf[1])\n",
    "best_combination = [0.00, \"\"]\n",
    "\n",
    "for clf in stacked_clf_list:\n",
    "    \n",
    "    ensemble = SuperLearner(scorer = accuracy_score, \n",
    "                            random_state = seed, \n",
    "                            folds = 10)\n",
    "    ensemble.add(clf[0])\n",
    "    ensemble.add_meta(lr)\n",
    "    ensemble.fit(X_train, y_train)\n",
    "    preds = ensemble.predict(X_test)\n",
    "    accuracy = accuracy_score(preds, y_test)\n",
    "    \n",
    "    if accuracy > best_combination[0]:\n",
    "        best_combination[0] = accuracy\n",
    "        best_combination[1] = clf[1]\n",
    "    \n",
    "    print(\"Accuracy score: \", accuracy, clf[1])\n",
    "\n",
    "print(\"\\nBest stacking model is {} with accuracy of: \",best_combination[1], best_combination[0])"
   ]
  }
 ],
 "metadata": {
  "kernelspec": {
   "display_name": "Python 3",
   "language": "python",
   "name": "python3"
  },
  "language_info": {
   "codemirror_mode": {
    "name": "ipython",
    "version": 3
   },
   "file_extension": ".py",
   "mimetype": "text/x-python",
   "name": "python",
   "nbconvert_exporter": "python",
   "pygments_lexer": "ipython3",
   "version": "3.6.6"
  }
 },
 "nbformat": 4,
 "nbformat_minor": 1
}
