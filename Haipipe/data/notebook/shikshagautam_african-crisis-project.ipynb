{
 "cells": [
  {
   "cell_type": "code",
   "execution_count": 1,
   "metadata": {},
   "outputs": [
    {
     "data": {
      "text/html": [
       "<div>\n",
       "<style scoped>\n",
       "    .dataframe tbody tr th:only-of-type {\n",
       "        vertical-align: middle;\n",
       "    }\n",
       "\n",
       "    .dataframe tbody tr th {\n",
       "        vertical-align: top;\n",
       "    }\n",
       "\n",
       "    .dataframe thead th {\n",
       "        text-align: right;\n",
       "    }\n",
       "</style>\n",
       "<table border=\"1\" class=\"dataframe\">\n",
       "  <thead>\n",
       "    <tr style=\"text-align: right;\">\n",
       "      <th></th>\n",
       "      <th>case</th>\n",
       "      <th>cc3</th>\n",
       "      <th>country</th>\n",
       "      <th>year</th>\n",
       "      <th>systemic_crisis</th>\n",
       "      <th>exch_usd</th>\n",
       "      <th>domestic_debt_in_default</th>\n",
       "      <th>sovereign_external_debt_default</th>\n",
       "      <th>gdp_weighted_default</th>\n",
       "      <th>inflation_annual_cpi</th>\n",
       "      <th>independence</th>\n",
       "      <th>currency_crises</th>\n",
       "      <th>inflation_crises</th>\n",
       "      <th>banking_crisis</th>\n",
       "    </tr>\n",
       "  </thead>\n",
       "  <tbody>\n",
       "    <tr>\n",
       "      <th>0</th>\n",
       "      <td>1</td>\n",
       "      <td>DZA</td>\n",
       "      <td>Algeria</td>\n",
       "      <td>1870</td>\n",
       "      <td>1</td>\n",
       "      <td>0.052264</td>\n",
       "      <td>0</td>\n",
       "      <td>0</td>\n",
       "      <td>0.0</td>\n",
       "      <td>3.441456</td>\n",
       "      <td>0</td>\n",
       "      <td>0</td>\n",
       "      <td>0</td>\n",
       "      <td>crisis</td>\n",
       "    </tr>\n",
       "    <tr>\n",
       "      <th>1</th>\n",
       "      <td>1</td>\n",
       "      <td>DZA</td>\n",
       "      <td>Algeria</td>\n",
       "      <td>1871</td>\n",
       "      <td>0</td>\n",
       "      <td>0.052798</td>\n",
       "      <td>0</td>\n",
       "      <td>0</td>\n",
       "      <td>0.0</td>\n",
       "      <td>14.149140</td>\n",
       "      <td>0</td>\n",
       "      <td>0</td>\n",
       "      <td>0</td>\n",
       "      <td>no_crisis</td>\n",
       "    </tr>\n",
       "    <tr>\n",
       "      <th>2</th>\n",
       "      <td>1</td>\n",
       "      <td>DZA</td>\n",
       "      <td>Algeria</td>\n",
       "      <td>1872</td>\n",
       "      <td>0</td>\n",
       "      <td>0.052274</td>\n",
       "      <td>0</td>\n",
       "      <td>0</td>\n",
       "      <td>0.0</td>\n",
       "      <td>-3.718593</td>\n",
       "      <td>0</td>\n",
       "      <td>0</td>\n",
       "      <td>0</td>\n",
       "      <td>no_crisis</td>\n",
       "    </tr>\n",
       "    <tr>\n",
       "      <th>3</th>\n",
       "      <td>1</td>\n",
       "      <td>DZA</td>\n",
       "      <td>Algeria</td>\n",
       "      <td>1873</td>\n",
       "      <td>0</td>\n",
       "      <td>0.051680</td>\n",
       "      <td>0</td>\n",
       "      <td>0</td>\n",
       "      <td>0.0</td>\n",
       "      <td>11.203897</td>\n",
       "      <td>0</td>\n",
       "      <td>0</td>\n",
       "      <td>0</td>\n",
       "      <td>no_crisis</td>\n",
       "    </tr>\n",
       "    <tr>\n",
       "      <th>4</th>\n",
       "      <td>1</td>\n",
       "      <td>DZA</td>\n",
       "      <td>Algeria</td>\n",
       "      <td>1874</td>\n",
       "      <td>0</td>\n",
       "      <td>0.051308</td>\n",
       "      <td>0</td>\n",
       "      <td>0</td>\n",
       "      <td>0.0</td>\n",
       "      <td>-3.848561</td>\n",
       "      <td>0</td>\n",
       "      <td>0</td>\n",
       "      <td>0</td>\n",
       "      <td>no_crisis</td>\n",
       "    </tr>\n",
       "    <tr>\n",
       "      <th>...</th>\n",
       "      <td>...</td>\n",
       "      <td>...</td>\n",
       "      <td>...</td>\n",
       "      <td>...</td>\n",
       "      <td>...</td>\n",
       "      <td>...</td>\n",
       "      <td>...</td>\n",
       "      <td>...</td>\n",
       "      <td>...</td>\n",
       "      <td>...</td>\n",
       "      <td>...</td>\n",
       "      <td>...</td>\n",
       "      <td>...</td>\n",
       "      <td>...</td>\n",
       "    </tr>\n",
       "    <tr>\n",
       "      <th>1054</th>\n",
       "      <td>70</td>\n",
       "      <td>ZWE</td>\n",
       "      <td>Zimbabwe</td>\n",
       "      <td>2009</td>\n",
       "      <td>1</td>\n",
       "      <td>354.800000</td>\n",
       "      <td>1</td>\n",
       "      <td>1</td>\n",
       "      <td>0.0</td>\n",
       "      <td>-7.670000</td>\n",
       "      <td>1</td>\n",
       "      <td>1</td>\n",
       "      <td>0</td>\n",
       "      <td>crisis</td>\n",
       "    </tr>\n",
       "    <tr>\n",
       "      <th>1055</th>\n",
       "      <td>70</td>\n",
       "      <td>ZWE</td>\n",
       "      <td>Zimbabwe</td>\n",
       "      <td>2010</td>\n",
       "      <td>0</td>\n",
       "      <td>378.200000</td>\n",
       "      <td>1</td>\n",
       "      <td>1</td>\n",
       "      <td>0.0</td>\n",
       "      <td>3.217000</td>\n",
       "      <td>1</td>\n",
       "      <td>0</td>\n",
       "      <td>0</td>\n",
       "      <td>no_crisis</td>\n",
       "    </tr>\n",
       "    <tr>\n",
       "      <th>1056</th>\n",
       "      <td>70</td>\n",
       "      <td>ZWE</td>\n",
       "      <td>Zimbabwe</td>\n",
       "      <td>2011</td>\n",
       "      <td>0</td>\n",
       "      <td>361.900000</td>\n",
       "      <td>1</td>\n",
       "      <td>1</td>\n",
       "      <td>0.0</td>\n",
       "      <td>4.920000</td>\n",
       "      <td>1</td>\n",
       "      <td>0</td>\n",
       "      <td>0</td>\n",
       "      <td>no_crisis</td>\n",
       "    </tr>\n",
       "    <tr>\n",
       "      <th>1057</th>\n",
       "      <td>70</td>\n",
       "      <td>ZWE</td>\n",
       "      <td>Zimbabwe</td>\n",
       "      <td>2012</td>\n",
       "      <td>0</td>\n",
       "      <td>361.900000</td>\n",
       "      <td>1</td>\n",
       "      <td>1</td>\n",
       "      <td>0.0</td>\n",
       "      <td>3.720000</td>\n",
       "      <td>1</td>\n",
       "      <td>0</td>\n",
       "      <td>0</td>\n",
       "      <td>no_crisis</td>\n",
       "    </tr>\n",
       "    <tr>\n",
       "      <th>1058</th>\n",
       "      <td>70</td>\n",
       "      <td>ZWE</td>\n",
       "      <td>Zimbabwe</td>\n",
       "      <td>2013</td>\n",
       "      <td>0</td>\n",
       "      <td>361.900000</td>\n",
       "      <td>1</td>\n",
       "      <td>1</td>\n",
       "      <td>0.0</td>\n",
       "      <td>1.632000</td>\n",
       "      <td>1</td>\n",
       "      <td>0</td>\n",
       "      <td>0</td>\n",
       "      <td>no_crisis</td>\n",
       "    </tr>\n",
       "  </tbody>\n",
       "</table>\n",
       "<p>1059 rows × 14 columns</p>\n",
       "</div>"
      ],
      "text/plain": [
       "      case  cc3   country  year  systemic_crisis    exch_usd  \\\n",
       "0        1  DZA   Algeria  1870                1    0.052264   \n",
       "1        1  DZA   Algeria  1871                0    0.052798   \n",
       "2        1  DZA   Algeria  1872                0    0.052274   \n",
       "3        1  DZA   Algeria  1873                0    0.051680   \n",
       "4        1  DZA   Algeria  1874                0    0.051308   \n",
       "...    ...  ...       ...   ...              ...         ...   \n",
       "1054    70  ZWE  Zimbabwe  2009                1  354.800000   \n",
       "1055    70  ZWE  Zimbabwe  2010                0  378.200000   \n",
       "1056    70  ZWE  Zimbabwe  2011                0  361.900000   \n",
       "1057    70  ZWE  Zimbabwe  2012                0  361.900000   \n",
       "1058    70  ZWE  Zimbabwe  2013                0  361.900000   \n",
       "\n",
       "      domestic_debt_in_default  sovereign_external_debt_default  \\\n",
       "0                            0                                0   \n",
       "1                            0                                0   \n",
       "2                            0                                0   \n",
       "3                            0                                0   \n",
       "4                            0                                0   \n",
       "...                        ...                              ...   \n",
       "1054                         1                                1   \n",
       "1055                         1                                1   \n",
       "1056                         1                                1   \n",
       "1057                         1                                1   \n",
       "1058                         1                                1   \n",
       "\n",
       "      gdp_weighted_default  inflation_annual_cpi  independence  \\\n",
       "0                      0.0              3.441456             0   \n",
       "1                      0.0             14.149140             0   \n",
       "2                      0.0             -3.718593             0   \n",
       "3                      0.0             11.203897             0   \n",
       "4                      0.0             -3.848561             0   \n",
       "...                    ...                   ...           ...   \n",
       "1054                   0.0             -7.670000             1   \n",
       "1055                   0.0              3.217000             1   \n",
       "1056                   0.0              4.920000             1   \n",
       "1057                   0.0              3.720000             1   \n",
       "1058                   0.0              1.632000             1   \n",
       "\n",
       "      currency_crises  inflation_crises banking_crisis  \n",
       "0                   0                 0         crisis  \n",
       "1                   0                 0      no_crisis  \n",
       "2                   0                 0      no_crisis  \n",
       "3                   0                 0      no_crisis  \n",
       "4                   0                 0      no_crisis  \n",
       "...               ...               ...            ...  \n",
       "1054                1                 0         crisis  \n",
       "1055                0                 0      no_crisis  \n",
       "1056                0                 0      no_crisis  \n",
       "1057                0                 0      no_crisis  \n",
       "1058                0                 0      no_crisis  \n",
       "\n",
       "[1059 rows x 14 columns]"
      ]
     },
     "execution_count": 1,
     "metadata": {},
     "output_type": "execute_result"
    }
   ],
   "source": [
    "import pandas as pd\n",
    "import matplotlib.pyplot as plt\n",
    "import seaborn as sns\n",
    "import numpy as np\n",
    "crises=pd.read_csv('../input/africa-economic-banking-and-systemic-crisis-data/african_crises.csv')\n",
    "crises"
   ]
  },
  {
   "cell_type": "code",
   "execution_count": 2,
   "metadata": {},
   "outputs": [
    {
     "name": "stdout",
     "output_type": "stream",
     "text": [
      "<class 'pandas.core.frame.DataFrame'>\n",
      "RangeIndex: 1059 entries, 0 to 1058\n",
      "Data columns (total 14 columns):\n",
      "case                               1059 non-null int64\n",
      "cc3                                1059 non-null object\n",
      "country                            1059 non-null object\n",
      "year                               1059 non-null int64\n",
      "systemic_crisis                    1059 non-null int64\n",
      "exch_usd                           1059 non-null float64\n",
      "domestic_debt_in_default           1059 non-null int64\n",
      "sovereign_external_debt_default    1059 non-null int64\n",
      "gdp_weighted_default               1059 non-null float64\n",
      "inflation_annual_cpi               1059 non-null float64\n",
      "independence                       1059 non-null int64\n",
      "currency_crises                    1059 non-null int64\n",
      "inflation_crises                   1059 non-null int64\n",
      "banking_crisis                     1059 non-null object\n",
      "dtypes: float64(3), int64(8), object(3)\n",
      "memory usage: 116.0+ KB\n"
     ]
    }
   ],
   "source": [
    "crises.info()"
   ]
  },
  {
   "cell_type": "code",
   "execution_count": 3,
   "metadata": {},
   "outputs": [
    {
     "data": {
      "text/html": [
       "<div>\n",
       "<style scoped>\n",
       "    .dataframe tbody tr th:only-of-type {\n",
       "        vertical-align: middle;\n",
       "    }\n",
       "\n",
       "    .dataframe tbody tr th {\n",
       "        vertical-align: top;\n",
       "    }\n",
       "\n",
       "    .dataframe thead th {\n",
       "        text-align: right;\n",
       "    }\n",
       "</style>\n",
       "<table border=\"1\" class=\"dataframe\">\n",
       "  <thead>\n",
       "    <tr style=\"text-align: right;\">\n",
       "      <th></th>\n",
       "      <th>case</th>\n",
       "      <th>country</th>\n",
       "      <th>year</th>\n",
       "      <th>systemic_crisis</th>\n",
       "      <th>exch_usd</th>\n",
       "      <th>domestic_debt_in_default</th>\n",
       "      <th>sovereign_external_debt_default</th>\n",
       "      <th>inflation_annual_cpi</th>\n",
       "      <th>independence</th>\n",
       "      <th>currency_crises</th>\n",
       "      <th>inflation_crises</th>\n",
       "    </tr>\n",
       "  </thead>\n",
       "  <tbody>\n",
       "    <tr>\n",
       "      <th>0</th>\n",
       "      <td>1</td>\n",
       "      <td>Algeria</td>\n",
       "      <td>1870</td>\n",
       "      <td>1</td>\n",
       "      <td>0.052264</td>\n",
       "      <td>0</td>\n",
       "      <td>0</td>\n",
       "      <td>3.441456</td>\n",
       "      <td>0</td>\n",
       "      <td>0</td>\n",
       "      <td>0</td>\n",
       "    </tr>\n",
       "    <tr>\n",
       "      <th>1</th>\n",
       "      <td>1</td>\n",
       "      <td>Algeria</td>\n",
       "      <td>1871</td>\n",
       "      <td>0</td>\n",
       "      <td>0.052798</td>\n",
       "      <td>0</td>\n",
       "      <td>0</td>\n",
       "      <td>14.149140</td>\n",
       "      <td>0</td>\n",
       "      <td>0</td>\n",
       "      <td>0</td>\n",
       "    </tr>\n",
       "    <tr>\n",
       "      <th>2</th>\n",
       "      <td>1</td>\n",
       "      <td>Algeria</td>\n",
       "      <td>1872</td>\n",
       "      <td>0</td>\n",
       "      <td>0.052274</td>\n",
       "      <td>0</td>\n",
       "      <td>0</td>\n",
       "      <td>-3.718593</td>\n",
       "      <td>0</td>\n",
       "      <td>0</td>\n",
       "      <td>0</td>\n",
       "    </tr>\n",
       "    <tr>\n",
       "      <th>3</th>\n",
       "      <td>1</td>\n",
       "      <td>Algeria</td>\n",
       "      <td>1873</td>\n",
       "      <td>0</td>\n",
       "      <td>0.051680</td>\n",
       "      <td>0</td>\n",
       "      <td>0</td>\n",
       "      <td>11.203897</td>\n",
       "      <td>0</td>\n",
       "      <td>0</td>\n",
       "      <td>0</td>\n",
       "    </tr>\n",
       "    <tr>\n",
       "      <th>4</th>\n",
       "      <td>1</td>\n",
       "      <td>Algeria</td>\n",
       "      <td>1874</td>\n",
       "      <td>0</td>\n",
       "      <td>0.051308</td>\n",
       "      <td>0</td>\n",
       "      <td>0</td>\n",
       "      <td>-3.848561</td>\n",
       "      <td>0</td>\n",
       "      <td>0</td>\n",
       "      <td>0</td>\n",
       "    </tr>\n",
       "    <tr>\n",
       "      <th>...</th>\n",
       "      <td>...</td>\n",
       "      <td>...</td>\n",
       "      <td>...</td>\n",
       "      <td>...</td>\n",
       "      <td>...</td>\n",
       "      <td>...</td>\n",
       "      <td>...</td>\n",
       "      <td>...</td>\n",
       "      <td>...</td>\n",
       "      <td>...</td>\n",
       "      <td>...</td>\n",
       "    </tr>\n",
       "    <tr>\n",
       "      <th>1054</th>\n",
       "      <td>70</td>\n",
       "      <td>Zimbabwe</td>\n",
       "      <td>2009</td>\n",
       "      <td>1</td>\n",
       "      <td>354.800000</td>\n",
       "      <td>1</td>\n",
       "      <td>1</td>\n",
       "      <td>-7.670000</td>\n",
       "      <td>1</td>\n",
       "      <td>1</td>\n",
       "      <td>0</td>\n",
       "    </tr>\n",
       "    <tr>\n",
       "      <th>1055</th>\n",
       "      <td>70</td>\n",
       "      <td>Zimbabwe</td>\n",
       "      <td>2010</td>\n",
       "      <td>0</td>\n",
       "      <td>378.200000</td>\n",
       "      <td>1</td>\n",
       "      <td>1</td>\n",
       "      <td>3.217000</td>\n",
       "      <td>1</td>\n",
       "      <td>0</td>\n",
       "      <td>0</td>\n",
       "    </tr>\n",
       "    <tr>\n",
       "      <th>1056</th>\n",
       "      <td>70</td>\n",
       "      <td>Zimbabwe</td>\n",
       "      <td>2011</td>\n",
       "      <td>0</td>\n",
       "      <td>361.900000</td>\n",
       "      <td>1</td>\n",
       "      <td>1</td>\n",
       "      <td>4.920000</td>\n",
       "      <td>1</td>\n",
       "      <td>0</td>\n",
       "      <td>0</td>\n",
       "    </tr>\n",
       "    <tr>\n",
       "      <th>1057</th>\n",
       "      <td>70</td>\n",
       "      <td>Zimbabwe</td>\n",
       "      <td>2012</td>\n",
       "      <td>0</td>\n",
       "      <td>361.900000</td>\n",
       "      <td>1</td>\n",
       "      <td>1</td>\n",
       "      <td>3.720000</td>\n",
       "      <td>1</td>\n",
       "      <td>0</td>\n",
       "      <td>0</td>\n",
       "    </tr>\n",
       "    <tr>\n",
       "      <th>1058</th>\n",
       "      <td>70</td>\n",
       "      <td>Zimbabwe</td>\n",
       "      <td>2013</td>\n",
       "      <td>0</td>\n",
       "      <td>361.900000</td>\n",
       "      <td>1</td>\n",
       "      <td>1</td>\n",
       "      <td>1.632000</td>\n",
       "      <td>1</td>\n",
       "      <td>0</td>\n",
       "      <td>0</td>\n",
       "    </tr>\n",
       "  </tbody>\n",
       "</table>\n",
       "<p>1059 rows × 11 columns</p>\n",
       "</div>"
      ],
      "text/plain": [
       "      case   country  year  systemic_crisis    exch_usd  \\\n",
       "0        1   Algeria  1870                1    0.052264   \n",
       "1        1   Algeria  1871                0    0.052798   \n",
       "2        1   Algeria  1872                0    0.052274   \n",
       "3        1   Algeria  1873                0    0.051680   \n",
       "4        1   Algeria  1874                0    0.051308   \n",
       "...    ...       ...   ...              ...         ...   \n",
       "1054    70  Zimbabwe  2009                1  354.800000   \n",
       "1055    70  Zimbabwe  2010                0  378.200000   \n",
       "1056    70  Zimbabwe  2011                0  361.900000   \n",
       "1057    70  Zimbabwe  2012                0  361.900000   \n",
       "1058    70  Zimbabwe  2013                0  361.900000   \n",
       "\n",
       "      domestic_debt_in_default  sovereign_external_debt_default  \\\n",
       "0                            0                                0   \n",
       "1                            0                                0   \n",
       "2                            0                                0   \n",
       "3                            0                                0   \n",
       "4                            0                                0   \n",
       "...                        ...                              ...   \n",
       "1054                         1                                1   \n",
       "1055                         1                                1   \n",
       "1056                         1                                1   \n",
       "1057                         1                                1   \n",
       "1058                         1                                1   \n",
       "\n",
       "      inflation_annual_cpi  independence  currency_crises  inflation_crises  \n",
       "0                 3.441456             0                0                 0  \n",
       "1                14.149140             0                0                 0  \n",
       "2                -3.718593             0                0                 0  \n",
       "3                11.203897             0                0                 0  \n",
       "4                -3.848561             0                0                 0  \n",
       "...                    ...           ...              ...               ...  \n",
       "1054             -7.670000             1                1                 0  \n",
       "1055              3.217000             1                0                 0  \n",
       "1056              4.920000             1                0                 0  \n",
       "1057              3.720000             1                0                 0  \n",
       "1058              1.632000             1                0                 0  \n",
       "\n",
       "[1059 rows x 11 columns]"
      ]
     },
     "execution_count": 3,
     "metadata": {},
     "output_type": "execute_result"
    }
   ],
   "source": [
    "x=crises.drop(['banking_crisis','cc3','gdp_weighted_default'],axis=1)\n",
    "x"
   ]
  },
  {
   "cell_type": "code",
   "execution_count": 4,
   "metadata": {},
   "outputs": [
    {
     "data": {
      "text/plain": [
       "0          crisis\n",
       "1       no_crisis\n",
       "2       no_crisis\n",
       "3       no_crisis\n",
       "4       no_crisis\n",
       "          ...    \n",
       "1054       crisis\n",
       "1055    no_crisis\n",
       "1056    no_crisis\n",
       "1057    no_crisis\n",
       "1058    no_crisis\n",
       "Name: banking_crisis, Length: 1059, dtype: object"
      ]
     },
     "execution_count": 4,
     "metadata": {},
     "output_type": "execute_result"
    }
   ],
   "source": [
    "y=crises.iloc[:,13]\n",
    "y"
   ]
  },
  {
   "cell_type": "code",
   "execution_count": 5,
   "metadata": {},
   "outputs": [
    {
     "data": {
      "image/png": "[encoded data removed]",
      "text/plain": [
       "<Figure size 432x288 with 1 Axes>"
      ]
     },
     "metadata": {
      "needs_background": "light"
     },
     "output_type": "display_data"
    }
   ],
   "source": [
    "sns.countplot(x=y,data=crises,palette='hls')\n",
    "plt.show()"
   ]
  },
  {
   "cell_type": "markdown",
   "metadata": {},
   "source": [
    "## visulization :"
   ]
  },
  {
   "cell_type": "code",
   "execution_count": 6,
   "metadata": {},
   "outputs": [
    {
     "data": {
      "image/png": "[encoded data removed]",
      "text/plain": [
       "<Figure size 432x288 with 1 Axes>"
      ]
     },
     "metadata": {
      "needs_background": "light"
     },
     "output_type": "display_data"
    }
   ],
   "source": [
    "pd.crosstab(x.country,y).plot(kind='bar')\n",
    "plt.title('crisis frequency for african country')\n",
    "plt.xlabel('country')\n",
    "plt.ylabel('frequency of banking crisis')\n",
    "plt.show()"
   ]
  },
  {
   "cell_type": "code",
   "execution_count": 7,
   "metadata": {},
   "outputs": [
    {
     "data": {
      "image/png": "[encoded data removed]",
      "text/plain": [
       "<Figure size 432x288 with 1 Axes>"
      ]
     },
     "metadata": {
      "needs_background": "light"
     },
     "output_type": "display_data"
    }
   ],
   "source": [
    "pd.crosstab(x.year,y).plot(kind='bar')\n",
    "plt.title('crisis frequency per year')\n",
    "plt.xlabel('year')\n",
    "plt.ylabel('frequency of banking crises')\n",
    "plt.show()"
   ]
  },
  {
   "cell_type": "code",
   "execution_count": 8,
   "metadata": {},
   "outputs": [
    {
     "data": {
      "image/png": "[encoded data removed]",
      "text/plain": [
       "<Figure size 432x288 with 1 Axes>"
      ]
     },
     "metadata": {
      "needs_background": "light"
     },
     "output_type": "display_data"
    }
   ],
   "source": [
    "pd.crosstab(x.year,y).plot(kind='bar')\n",
    "plt.title('crisis frequency for systemic_crisis')\n",
    "plt.xlabel('systemic crisis')\n",
    "plt.ylabel('frequency of banking crises')\n",
    "plt.show()"
   ]
  },
  {
   "cell_type": "code",
   "execution_count": 9,
   "metadata": {},
   "outputs": [
    {
     "data": {
      "image/png": "[encoded data removed]",
      "text/plain": [
       "<Figure size 432x288 with 1 Axes>"
      ]
     },
     "metadata": {
      "needs_background": "light"
     },
     "output_type": "display_data"
    }
   ],
   "source": [
    "pd.crosstab(x.year,y).plot(kind='bar')\n",
    "plt.title('crisis frequency for exch_usd')\n",
    "plt.xlabel('exch_usd')\n",
    "plt.ylabel('frequency of banking crises')\n",
    "plt.show()"
   ]
  },
  {
   "cell_type": "code",
   "execution_count": 10,
   "metadata": {},
   "outputs": [
    {
     "data": {
      "image/png": "[encoded data removed]",
      "text/plain": [
       "<Figure size 432x288 with 1 Axes>"
      ]
     },
     "metadata": {
      "needs_background": "light"
     },
     "output_type": "display_data"
    }
   ],
   "source": [
    "pd.crosstab(x.year,y).plot(kind='bar')\n",
    "plt.title('crisis frequency for inflation_annual_cpi')\n",
    "plt.xlabel('inflation_annual_cpi')\n",
    "plt.ylabel('frequency of banking crises')\n",
    "plt.show()"
   ]
  },
  {
   "cell_type": "code",
   "execution_count": 11,
   "metadata": {},
   "outputs": [
    {
     "data": {
      "image/png": "[encoded data removed]",
      "text/plain": [
       "<Figure size 432x288 with 1 Axes>"
      ]
     },
     "metadata": {
      "needs_background": "light"
     },
     "output_type": "display_data"
    }
   ],
   "source": [
    "pd.crosstab(x.year,y).plot(kind='bar')\n",
    "plt.title('crisis frequency for independence')\n",
    "plt.xlabel('independence')\n",
    "plt.ylabel('frequency of banking crises')\n",
    "plt.show()"
   ]
  },
  {
   "cell_type": "code",
   "execution_count": 12,
   "metadata": {},
   "outputs": [
    {
     "data": {
      "image/png": "[encoded data removed]",
      "text/plain": [
       "<Figure size 432x288 with 1 Axes>"
      ]
     },
     "metadata": {
      "needs_background": "light"
     },
     "output_type": "display_data"
    }
   ],
   "source": [
    "pd.crosstab(x.year,y).plot(kind='bar')\n",
    "plt.title('crisis frequency for inflation_crises')\n",
    "plt.xlabel('inflation_crises')\n",
    "plt.ylabel('frequency of banking crises')\n",
    "plt.show()"
   ]
  },
  {
   "cell_type": "code",
   "execution_count": 13,
   "metadata": {},
   "outputs": [
    {
     "data": {
      "image/png": "[encoded data removed]",
      "text/plain": [
       "<Figure size 432x288 with 1 Axes>"
      ]
     },
     "metadata": {
      "needs_background": "light"
     },
     "output_type": "display_data"
    }
   ],
   "source": [
    "pd.crosstab(x.year,y).plot(kind='bar')\n",
    "plt.title('crisis frequency for currency_crises')\n",
    "plt.xlabel('currency_crises')\n",
    "plt.ylabel('frequency of banking crises')\n",
    "plt.show()"
   ]
  },
  {
   "cell_type": "code",
   "execution_count": 14,
   "metadata": {},
   "outputs": [
    {
     "data": {
      "image/png": "[encoded data removed]",
      "text/plain": [
       "<Figure size 432x288 with 1 Axes>"
      ]
     },
     "metadata": {
      "needs_background": "light"
     },
     "output_type": "display_data"
    }
   ],
   "source": [
    "pd.crosstab(x.year,y).plot(kind='bar')\n",
    "plt.title('crisis frequency for domestic_debt_in_default')\n",
    "plt.xlabel('domestic_debt_in_default')\n",
    "plt.ylabel('frequency of banking crises')\n",
    "plt.show()"
   ]
  },
  {
   "cell_type": "code",
   "execution_count": 15,
   "metadata": {},
   "outputs": [
    {
     "data": {
      "image/png": "[encoded data removed]",
      "text/plain": [
       "<Figure size 432x288 with 1 Axes>"
      ]
     },
     "metadata": {
      "needs_background": "light"
     },
     "output_type": "display_data"
    }
   ],
   "source": [
    "pd.crosstab(x.year,y).plot(kind='bar')\n",
    "plt.title('crisis frequency for sovereign_external_debt_default')\n",
    "plt.xlabel('sovereign_external_debt_default')\n",
    "plt.ylabel('frequency of banking crises')\n",
    "plt.show()"
   ]
  },
  {
   "cell_type": "code",
   "execution_count": 16,
   "metadata": {},
   "outputs": [
    {
     "data": {
      "text/plain": [
       "<matplotlib.axes._subplots.AxesSubplot at 0x7f414575a710>"
      ]
     },
     "execution_count": 16,
     "metadata": {},
     "output_type": "execute_result"
    },
    {
     "data": {
      "image/png": "[encoded data removed]",
      "text/plain": [
       "<Figure size 432x288 with 1 Axes>"
      ]
     },
     "metadata": {
      "needs_background": "light"
     },
     "output_type": "display_data"
    }
   ],
   "source": [
    "x.exch_usd.hist()"
   ]
  },
  {
   "cell_type": "code",
   "execution_count": 17,
   "metadata": {},
   "outputs": [
    {
     "data": {
      "text/plain": [
       "<matplotlib.axes._subplots.AxesSubplot at 0x7f414564b400>"
      ]
     },
     "execution_count": 17,
     "metadata": {},
     "output_type": "execute_result"
    },
    {
     "data": {
      "image/png": "[encoded data removed]",
      "text/plain": [
       "<Figure size 432x288 with 1 Axes>"
      ]
     },
     "metadata": {
      "needs_background": "light"
     },
     "output_type": "display_data"
    }
   ],
   "source": [
    "x.country.hist()"
   ]
  },
  {
   "cell_type": "code",
   "execution_count": 18,
   "metadata": {},
   "outputs": [],
   "source": [
    "#data=x.drop(['country'],axis=1)\n",
    "#data"
   ]
  },
  {
   "cell_type": "code",
   "execution_count": 19,
   "metadata": {},
   "outputs": [],
   "source": [
    "from sklearn.preprocessing import LabelEncoder\n",
    "le=LabelEncoder()\n",
    "x['country']=le.fit_transform(x['country'])\n",
    "y=le.fit_transform(y)\n",
    "    "
   ]
  },
  {
   "cell_type": "code",
   "execution_count": 20,
   "metadata": {},
   "outputs": [
    {
     "data": {
      "text/plain": [
       "array([0, 0, 1, 1, 1, 1, 1, 1, 1, 1, 0, 1, 1, 1, 1, 1, 1, 1, 1, 1, 1, 1,\n",
       "       1, 1, 1, 1, 1, 1, 0, 1, 1, 1, 1, 1, 1, 1, 1, 1, 1, 0, 1, 1, 1, 1,\n",
       "       1, 1, 1, 1, 1, 1, 1, 1, 1, 1, 1, 1, 1, 1, 1, 1, 1, 1, 1, 1, 1, 0,\n",
       "       1, 1, 1, 1, 1, 1, 1, 1, 1, 1, 1, 1, 1, 1, 0, 1, 0, 1, 1, 1, 1, 1,\n",
       "       1, 1, 1, 1, 1, 1, 1, 1, 1, 1, 1, 0, 1, 0, 1, 1, 0, 1, 1, 1, 0, 1,\n",
       "       1, 1, 1, 1, 1, 1, 0, 1, 1, 1, 0, 1, 1, 1, 1, 1, 1, 0, 1, 1, 1, 0,\n",
       "       1, 1, 1, 1, 1, 1, 1, 1, 1, 0, 1, 1, 1, 1, 1, 1, 0, 1, 1, 1, 0, 1,\n",
       "       1, 1, 1, 1, 1, 1, 1, 1, 1, 1, 1, 1, 1, 0, 0, 1, 1, 1, 0, 1, 1, 1,\n",
       "       0, 1, 1, 1, 1, 1, 1, 1, 1, 1, 1, 1, 1, 1, 0, 1, 1, 1, 1, 1, 1, 1,\n",
       "       1, 1, 1, 1, 1, 1, 1, 1, 1, 1, 1, 1, 1, 1])"
      ]
     },
     "execution_count": 20,
     "metadata": {},
     "output_type": "execute_result"
    }
   ],
   "source": [
    "from sklearn.model_selection import train_test_split\n",
    "x_train,x_test,y_train,y_test=train_test_split(x,y,test_size=.20,random_state=0)\n",
    "y_test"
   ]
  },
  {
   "cell_type": "code",
   "execution_count": 21,
   "metadata": {},
   "outputs": [],
   "source": [
    "from sklearn.preprocessing import MinMaxScaler\n",
    "mms=MinMaxScaler()\n",
    "x_trainmin=mms.fit_transform(x_train)\n",
    "                         \n",
    "x_testmin=mms.transform(x_test)"
   ]
  },
  {
   "cell_type": "code",
   "execution_count": 22,
   "metadata": {},
   "outputs": [],
   "source": [
    "from sklearn.preprocessing import StandardScaler\n",
    "ss=StandardScaler()\n",
    "x_trainstd=ss.fit_transform(x_train)\n",
    "x_teststd=ss.transform(x_test)"
   ]
  },
  {
   "cell_type": "markdown",
   "metadata": {},
   "source": [
    "## LOGISTIC REGRESSION"
   ]
  },
  {
   "cell_type": "code",
   "execution_count": 23,
   "metadata": {},
   "outputs": [
    {
     "name": "stdout",
     "output_type": "stream",
     "text": [
      "accuracy is 0.9811320754716981\n"
     ]
    },
    {
     "name": "stderr",
     "output_type": "stream",
     "text": [
      "/opt/conda/lib/python3.6/site-packages/sklearn/linear_model/logistic.py:432: FutureWarning: Default solver will be changed to 'lbfgs' in 0.22. Specify a solver to silence this warning.\n",
      "  FutureWarning)\n"
     ]
    }
   ],
   "source": [
    "from sklearn.linear_model import LogisticRegression\n",
    "lr=LogisticRegression()\n",
    "lr.fit(x_train,y_train)\n",
    "pred1=lr.predict(x_test)\n",
    "pred1\n",
    "\n",
    "from sklearn.metrics import accuracy_score\n",
    "print('accuracy is',accuracy_score(y_test,pred1))"
   ]
  },
  {
   "cell_type": "code",
   "execution_count": 24,
   "metadata": {},
   "outputs": [
    {
     "name": "stdout",
     "output_type": "stream",
     "text": [
      "accuracy is 0.9716981132075472\n"
     ]
    },
    {
     "name": "stderr",
     "output_type": "stream",
     "text": [
      "/opt/conda/lib/python3.6/site-packages/sklearn/linear_model/logistic.py:432: FutureWarning: Default solver will be changed to 'lbfgs' in 0.22. Specify a solver to silence this warning.\n",
      "  FutureWarning)\n"
     ]
    }
   ],
   "source": [
    "from sklearn.linear_model import LogisticRegression\n",
    "lr=LogisticRegression()\n",
    "lr.fit(x_trainmin,y_train)\n",
    "pred2=lr.predict(x_testmin)\n",
    "pred2\n",
    "\n",
    "from sklearn.metrics import accuracy_score\n",
    "print('accuracy is',accuracy_score(y_test,pred2))"
   ]
  },
  {
   "cell_type": "code",
   "execution_count": 25,
   "metadata": {},
   "outputs": [
    {
     "name": "stdout",
     "output_type": "stream",
     "text": [
      "accuracy is 0.9764150943396226\n"
     ]
    },
    {
     "name": "stderr",
     "output_type": "stream",
     "text": [
      "/opt/conda/lib/python3.6/site-packages/sklearn/linear_model/logistic.py:432: FutureWarning: Default solver will be changed to 'lbfgs' in 0.22. Specify a solver to silence this warning.\n",
      "  FutureWarning)\n"
     ]
    }
   ],
   "source": [
    "from sklearn.linear_model import LogisticRegression\n",
    "lr=LogisticRegression()\n",
    "lr.fit(x_trainstd,y_train)\n",
    "pred3=lr.predict(x_teststd)\n",
    "pred3\n",
    "\n",
    "from sklearn.metrics import accuracy_score\n",
    "print('accuracy is',accuracy_score(y_test,pred3))"
   ]
  },
  {
   "cell_type": "markdown",
   "metadata": {},
   "source": [
    "## knn"
   ]
  },
  {
   "cell_type": "code",
   "execution_count": 26,
   "metadata": {},
   "outputs": [
    {
     "name": "stdout",
     "output_type": "stream",
     "text": [
      "accuracy is 0.9056603773584906\n"
     ]
    }
   ],
   "source": [
    "from sklearn.neighbors import KNeighborsClassifier\n",
    "knn=KNeighborsClassifier()\n",
    "knn.fit(x_train,y_train)\n",
    "pred1=knn.predict(x_test)\n",
    "pred1\n",
    "\n",
    "from sklearn.metrics import accuracy_score\n",
    "print('accuracy is',accuracy_score(y_test,pred1))"
   ]
  },
  {
   "cell_type": "code",
   "execution_count": 27,
   "metadata": {},
   "outputs": [
    {
     "name": "stdout",
     "output_type": "stream",
     "text": [
      "accuracy is 0.9811320754716981\n"
     ]
    }
   ],
   "source": [
    "from sklearn.neighbors import KNeighborsClassifier\n",
    "knn=KNeighborsClassifier()\n",
    "knn.fit(x_trainmin,y_train)\n",
    "pred2=knn.predict(x_testmin)\n",
    "pred2\n",
    "\n",
    "from sklearn.metrics import accuracy_score\n",
    "print('accuracy is',accuracy_score(y_test,pred2))"
   ]
  },
  {
   "cell_type": "code",
   "execution_count": 28,
   "metadata": {},
   "outputs": [
    {
     "name": "stdout",
     "output_type": "stream",
     "text": [
      "accuracy is 0.9811320754716981\n"
     ]
    }
   ],
   "source": [
    "from sklearn.neighbors import KNeighborsClassifier\n",
    "knn=KNeighborsClassifier()\n",
    "knn.fit(x_trainstd,y_train)\n",
    "pred3=knn.predict(x_teststd)\n",
    "pred3\n",
    "\n",
    "#from sklearn.metrics import accuracy_score\n",
    "print('accuracy is',accuracy_score(y_test,pred3))"
   ]
  },
  {
   "cell_type": "markdown",
   "metadata": {},
   "source": [
    "## svm"
   ]
  },
  {
   "cell_type": "code",
   "execution_count": 29,
   "metadata": {},
   "outputs": [
    {
     "name": "stdout",
     "output_type": "stream",
     "text": [
      "accuracy is 0.8962264150943396\n"
     ]
    },
    {
     "name": "stderr",
     "output_type": "stream",
     "text": [
      "/opt/conda/lib/python3.6/site-packages/sklearn/svm/base.py:193: FutureWarning: The default value of gamma will change from 'auto' to 'scale' in version 0.22 to account better for unscaled features. Set gamma explicitly to 'auto' or 'scale' to avoid this warning.\n",
      "  \"avoid this warning.\", FutureWarning)\n"
     ]
    }
   ],
   "source": [
    "from sklearn.svm import SVC\n",
    "svc=SVC()\n",
    "svc.fit(x_train,y_train)\n",
    "pred1=svc.predict(x_test)\n",
    "pred1\n",
    "\n",
    "#from sklearn.metrics import accuracy_score\n",
    "print('accuracy is',accuracy_score(y_test,pred1))"
   ]
  },
  {
   "cell_type": "code",
   "execution_count": 30,
   "metadata": {},
   "outputs": [
    {
     "name": "stdout",
     "output_type": "stream",
     "text": [
      "accuracy is 0.9669811320754716\n"
     ]
    },
    {
     "name": "stderr",
     "output_type": "stream",
     "text": [
      "/opt/conda/lib/python3.6/site-packages/sklearn/svm/base.py:193: FutureWarning: The default value of gamma will change from 'auto' to 'scale' in version 0.22 to account better for unscaled features. Set gamma explicitly to 'auto' or 'scale' to avoid this warning.\n",
      "  \"avoid this warning.\", FutureWarning)\n"
     ]
    }
   ],
   "source": [
    "from sklearn.svm import SVC\n",
    "svc=SVC()\n",
    "svc.fit(x_trainmin,y_train)\n",
    "pred2=svc.predict(x_testmin)\n",
    "pred2\n",
    "\n",
    "#from sklearn.metrics import accuracy_score\n",
    "print('accuracy is',accuracy_score(y_test,pred2))"
   ]
  },
  {
   "cell_type": "code",
   "execution_count": 31,
   "metadata": {},
   "outputs": [
    {
     "name": "stdout",
     "output_type": "stream",
     "text": [
      "accuracy is 0.9716981132075472\n"
     ]
    }
   ],
   "source": [
    "from sklearn.svm import SVC\n",
    "svc=SVC()\n",
    "svc.fit(x_trainstd,y_train)\n",
    "pred3=svc.predict(x_teststd)\n",
    "pred3\n",
    "\n",
    "#from sklearn.metrics import accuracy_score\n",
    "print('accuracy is',accuracy_score(y_test,pred3))"
   ]
  },
  {
   "cell_type": "markdown",
   "metadata": {},
   "source": [
    "## DECISION TREE ACC TO TRAIN TEST SPLIT DATA"
   ]
  },
  {
   "cell_type": "code",
   "execution_count": 32,
   "metadata": {},
   "outputs": [
    {
     "name": "stdout",
     "output_type": "stream",
     "text": [
      "Root Mean Squared Error(RMSE): 0.16823164622761327\n",
      "Mean Absolute Error(MAE): 0.02830188679245283\n",
      "Mean Squared Error(MSE): 0.02830188679245283\n"
     ]
    }
   ],
   "source": [
    "from sklearn.tree import DecisionTreeClassifier\n",
    "dt1=DecisionTreeClassifier(splitter='best',max_depth=3,random_state=56)\n",
    "dt1.fit(x_train,y_train)\n",
    "pred1=dt1.predict(x_test)\n",
    "from sklearn import metrics\n",
    "from sklearn.metrics import mean_squared_error\n",
    "from math import sqrt\n",
    "print('Root Mean Squared Error(RMSE):', np.sqrt(metrics.mean_squared_error(y_test, pred1)))\n",
    "print('Mean Absolute Error(MAE):', metrics.mean_absolute_error(y_test,pred1))\n",
    "print('Mean Squared Error(MSE):', metrics.mean_squared_error(y_test, pred1))\n"
   ]
  },
  {
   "cell_type": "code",
   "execution_count": 33,
   "metadata": {},
   "outputs": [
    {
     "data": {
      "image/svg+xml": [
       "<svg height=\"373pt\" viewBox=\"0.00 0.00 940.00 373.00\" width=\"940pt\" xmlns=\"http://www.w3.org/2000/svg\" xmlns:xlink=\"http://www.w3.org/1999/xlink\">\n",
       "<g class=\"graph\" id=\"graph0\" transform=\"scale(1 1) rotate(0) translate(4 369)\">\n",
       "<title>Tree</title>\n",
       "<polygon fill=\"white\" points=\"-4,4 -4,-369 936,-369 936,4 -4,4\" stroke=\"none\"/>\n",
       "<!-- 0 -->\n",
       "<g class=\"node\" id=\"node1\"><title>0</title>\n",
       "<path d=\"M538.5,-365C538.5,-365 411.5,-365 411.5,-365 405.5,-365 399.5,-359 399.5,-353 399.5,-353 399.5,-309 399.5,-309 399.5,-303 405.5,-297 411.5,-297 411.5,-297 538.5,-297 538.5,-297 544.5,-297 550.5,-303 550.5,-309 550.5,-309 550.5,-353 550.5,-353 550.5,-359 544.5,-365 538.5,-365\" fill=\"#4ba6e7\" stroke=\"black\"/>\n",
       "<text font-family=\"Helvetica,sans-Serif\" font-size=\"14.00\" text-anchor=\"middle\" x=\"475\" y=\"-349.8\">systemic_crisis &lt;= 0.5</text>\n",
       "<text font-family=\"Helvetica,sans-Serif\" font-size=\"14.00\" text-anchor=\"middle\" x=\"475\" y=\"-334.8\">gini = 0.152</text>\n",
       "<text font-family=\"Helvetica,sans-Serif\" font-size=\"14.00\" text-anchor=\"middle\" x=\"475\" y=\"-319.8\">samples = 847</text>\n",
       "<text font-family=\"Helvetica,sans-Serif\" font-size=\"14.00\" text-anchor=\"middle\" x=\"475\" y=\"-304.8\">value = [70, 777]</text>\n",
       "</g>\n",
       "<!-- 1 -->\n",
       "<g class=\"node\" id=\"node2\"><title>1</title>\n",
       "<path d=\"M478.5,-261C478.5,-261 293.5,-261 293.5,-261 287.5,-261 281.5,-255 281.5,-249 281.5,-249 281.5,-205 281.5,-205 281.5,-199 287.5,-193 293.5,-193 293.5,-193 478.5,-193 478.5,-193 484.5,-193 490.5,-199 490.5,-205 490.5,-205 490.5,-249 490.5,-249 490.5,-255 484.5,-261 478.5,-261\" fill=\"#3d9fe5\" stroke=\"black\"/>\n",
       "<text font-family=\"Helvetica,sans-Serif\" font-size=\"14.00\" text-anchor=\"middle\" x=\"386\" y=\"-245.8\">inflation_annual_cpi &lt;= 193.609</text>\n",
       "<text font-family=\"Helvetica,sans-Serif\" font-size=\"14.00\" text-anchor=\"middle\" x=\"386\" y=\"-230.8\">gini = 0.035</text>\n",
       "<text font-family=\"Helvetica,sans-Serif\" font-size=\"14.00\" text-anchor=\"middle\" x=\"386\" y=\"-215.8\">samples = 787</text>\n",
       "<text font-family=\"Helvetica,sans-Serif\" font-size=\"14.00\" text-anchor=\"middle\" x=\"386\" y=\"-200.8\">value = [14, 773]</text>\n",
       "</g>\n",
       "<!-- 0&#45;&gt;1 -->\n",
       "<g class=\"edge\" id=\"edge1\"><title>0-&gt;1</title>\n",
       "<path d=\"M446.104,-296.884C438.332,-287.976 429.833,-278.235 421.737,-268.957\" fill=\"none\" stroke=\"black\"/>\n",
       "<polygon fill=\"black\" points=\"424.267,-266.533 415.055,-261.299 418.993,-271.135 424.267,-266.533\" stroke=\"black\"/>\n",
       "<text font-family=\"Helvetica,sans-Serif\" font-size=\"14.00\" text-anchor=\"middle\" x=\"413.358\" y=\"-282.542\">True</text>\n",
       "</g>\n",
       "<!-- 8 -->\n",
       "<g class=\"node\" id=\"node9\"><title>8</title>\n",
       "<path d=\"M607,-261C607,-261 523,-261 523,-261 517,-261 511,-255 511,-249 511,-249 511,-205 511,-205 511,-199 517,-193 523,-193 523,-193 607,-193 607,-193 613,-193 619,-199 619,-205 619,-205 619,-249 619,-249 619,-255 613,-261 607,-261\" fill=\"#e78a47\" stroke=\"black\"/>\n",
       "<text font-family=\"Helvetica,sans-Serif\" font-size=\"14.00\" text-anchor=\"middle\" x=\"565\" y=\"-245.8\">year &lt;= 1996.5</text>\n",
       "<text font-family=\"Helvetica,sans-Serif\" font-size=\"14.00\" text-anchor=\"middle\" x=\"565\" y=\"-230.8\">gini = 0.124</text>\n",
       "<text font-family=\"Helvetica,sans-Serif\" font-size=\"14.00\" text-anchor=\"middle\" x=\"565\" y=\"-215.8\">samples = 60</text>\n",
       "<text font-family=\"Helvetica,sans-Serif\" font-size=\"14.00\" text-anchor=\"middle\" x=\"565\" y=\"-200.8\">value = [56, 4]</text>\n",
       "</g>\n",
       "<!-- 0&#45;&gt;8 -->\n",
       "<g class=\"edge\" id=\"edge8\"><title>0-&gt;8</title>\n",
       "<path d=\"M504.22,-296.884C512.08,-287.976 520.675,-278.235 528.862,-268.957\" fill=\"none\" stroke=\"black\"/>\n",
       "<polygon fill=\"black\" points=\"531.626,-271.113 535.618,-261.299 526.378,-266.482 531.626,-271.113\" stroke=\"black\"/>\n",
       "<text font-family=\"Helvetica,sans-Serif\" font-size=\"14.00\" text-anchor=\"middle\" x=\"537.178\" y=\"-282.551\">False</text>\n",
       "</g>\n",
       "<!-- 2 -->\n",
       "<g class=\"node\" id=\"node3\"><title>2</title>\n",
       "<path d=\"M268,-157C268,-157 98,-157 98,-157 92,-157 86,-151 86,-145 86,-145 86,-101 86,-101 86,-95 92,-89 98,-89 98,-89 268,-89 268,-89 274,-89 280,-95 280,-101 280,-101 280,-145 280,-145 280,-151 274,-157 268,-157\" fill=\"#3c9ee5\" stroke=\"black\"/>\n",
       "<text font-family=\"Helvetica,sans-Serif\" font-size=\"14.00\" text-anchor=\"middle\" x=\"183\" y=\"-141.8\">inflation_annual_cpi &lt;= 9.031</text>\n",
       "<text font-family=\"Helvetica,sans-Serif\" font-size=\"14.00\" text-anchor=\"middle\" x=\"183\" y=\"-126.8\">gini = 0.025</text>\n",
       "<text font-family=\"Helvetica,sans-Serif\" font-size=\"14.00\" text-anchor=\"middle\" x=\"183\" y=\"-111.8\">samples = 781</text>\n",
       "<text font-family=\"Helvetica,sans-Serif\" font-size=\"14.00\" text-anchor=\"middle\" x=\"183\" y=\"-96.8\">value = [10, 771]</text>\n",
       "</g>\n",
       "<!-- 1&#45;&gt;2 -->\n",
       "<g class=\"edge\" id=\"edge2\"><title>1-&gt;2</title>\n",
       "<path d=\"M320.092,-192.884C300.225,-182.901 278.275,-171.872 257.87,-161.619\" fill=\"none\" stroke=\"black\"/>\n",
       "<polygon fill=\"black\" points=\"259.432,-158.487 248.925,-157.125 256.289,-164.742 259.432,-158.487\" stroke=\"black\"/>\n",
       "</g>\n",
       "<!-- 5 -->\n",
       "<g class=\"node\" id=\"node6\"><title>5</title>\n",
       "<path d=\"M428,-157C428,-157 344,-157 344,-157 338,-157 332,-151 332,-145 332,-145 332,-101 332,-101 332,-95 338,-89 344,-89 344,-89 428,-89 428,-89 434,-89 440,-95 440,-101 440,-101 440,-145 440,-145 440,-151 434,-157 428,-157\" fill=\"#f2c09c\" stroke=\"black\"/>\n",
       "<text font-family=\"Helvetica,sans-Serif\" font-size=\"14.00\" text-anchor=\"middle\" x=\"386\" y=\"-141.8\">year &lt;= 1998.0</text>\n",
       "<text font-family=\"Helvetica,sans-Serif\" font-size=\"14.00\" text-anchor=\"middle\" x=\"386\" y=\"-126.8\">gini = 0.444</text>\n",
       "<text font-family=\"Helvetica,sans-Serif\" font-size=\"14.00\" text-anchor=\"middle\" x=\"386\" y=\"-111.8\">samples = 6</text>\n",
       "<text font-family=\"Helvetica,sans-Serif\" font-size=\"14.00\" text-anchor=\"middle\" x=\"386\" y=\"-96.8\">value = [4, 2]</text>\n",
       "</g>\n",
       "<!-- 1&#45;&gt;5 -->\n",
       "<g class=\"edge\" id=\"edge5\"><title>1-&gt;5</title>\n",
       "<path d=\"M386,-192.884C386,-184.778 386,-175.982 386,-167.472\" fill=\"none\" stroke=\"black\"/>\n",
       "<polygon fill=\"black\" points=\"389.5,-167.299 386,-157.299 382.5,-167.299 389.5,-167.299\" stroke=\"black\"/>\n",
       "</g>\n",
       "<!-- 3 -->\n",
       "<g class=\"node\" id=\"node4\"><title>3</title>\n",
       "<path d=\"M98,-53C98,-53 12,-53 12,-53 6,-53 0,-47 0,-41 0,-41 0,-12 0,-12 0,-6 6,-0 12,-0 12,-0 98,-0 98,-0 104,-0 110,-6 110,-12 110,-12 110,-41 110,-41 110,-47 104,-53 98,-53\" fill=\"#399de5\" stroke=\"black\"/>\n",
       "<text font-family=\"Helvetica,sans-Serif\" font-size=\"14.00\" text-anchor=\"middle\" x=\"55\" y=\"-37.8\">gini = 0.004</text>\n",
       "<text font-family=\"Helvetica,sans-Serif\" font-size=\"14.00\" text-anchor=\"middle\" x=\"55\" y=\"-22.8\">samples = 527</text>\n",
       "<text font-family=\"Helvetica,sans-Serif\" font-size=\"14.00\" text-anchor=\"middle\" x=\"55\" y=\"-7.8\">value = [1, 526]</text>\n",
       "</g>\n",
       "<!-- 2&#45;&gt;3 -->\n",
       "<g class=\"edge\" id=\"edge3\"><title>2-&gt;3</title>\n",
       "<path d=\"M138.232,-88.9485C125.221,-79.3431 111.042,-68.8747 98.134,-59.345\" fill=\"none\" stroke=\"black\"/>\n",
       "<polygon fill=\"black\" points=\"99.9842,-56.3605 89.8603,-53.2367 95.8265,-61.992 99.9842,-56.3605\" stroke=\"black\"/>\n",
       "</g>\n",
       "<!-- 4 -->\n",
       "<g class=\"node\" id=\"node5\"><title>4</title>\n",
       "<path d=\"M226,-53C226,-53 140,-53 140,-53 134,-53 128,-47 128,-41 128,-41 128,-12 128,-12 128,-6 134,-0 140,-0 140,-0 226,-0 226,-0 232,-0 238,-6 238,-12 238,-12 238,-41 238,-41 238,-47 232,-53 226,-53\" fill=\"#40a1e6\" stroke=\"black\"/>\n",
       "<text font-family=\"Helvetica,sans-Serif\" font-size=\"14.00\" text-anchor=\"middle\" x=\"183\" y=\"-37.8\">gini = 0.068</text>\n",
       "<text font-family=\"Helvetica,sans-Serif\" font-size=\"14.00\" text-anchor=\"middle\" x=\"183\" y=\"-22.8\">samples = 254</text>\n",
       "<text font-family=\"Helvetica,sans-Serif\" font-size=\"14.00\" text-anchor=\"middle\" x=\"183\" y=\"-7.8\">value = [9, 245]</text>\n",
       "</g>\n",
       "<!-- 2&#45;&gt;4 -->\n",
       "<g class=\"edge\" id=\"edge4\"><title>2-&gt;4</title>\n",
       "<path d=\"M183,-88.9485C183,-80.7153 183,-71.848 183,-63.4814\" fill=\"none\" stroke=\"black\"/>\n",
       "<polygon fill=\"black\" points=\"186.5,-63.2367 183,-53.2367 179.5,-63.2367 186.5,-63.2367\" stroke=\"black\"/>\n",
       "</g>\n",
       "<!-- 6 -->\n",
       "<g class=\"node\" id=\"node7\"><title>6</title>\n",
       "<path d=\"M339.5,-53C339.5,-53 268.5,-53 268.5,-53 262.5,-53 256.5,-47 256.5,-41 256.5,-41 256.5,-12 256.5,-12 256.5,-6 262.5,-0 268.5,-0 268.5,-0 339.5,-0 339.5,-0 345.5,-0 351.5,-6 351.5,-12 351.5,-12 351.5,-41 351.5,-41 351.5,-47 345.5,-53 339.5,-53\" fill=\"#e58139\" stroke=\"black\"/>\n",
       "<text font-family=\"Helvetica,sans-Serif\" font-size=\"14.00\" text-anchor=\"middle\" x=\"304\" y=\"-37.8\">gini = 0.0</text>\n",
       "<text font-family=\"Helvetica,sans-Serif\" font-size=\"14.00\" text-anchor=\"middle\" x=\"304\" y=\"-22.8\">samples = 4</text>\n",
       "<text font-family=\"Helvetica,sans-Serif\" font-size=\"14.00\" text-anchor=\"middle\" x=\"304\" y=\"-7.8\">value = [4, 0]</text>\n",
       "</g>\n",
       "<!-- 5&#45;&gt;6 -->\n",
       "<g class=\"edge\" id=\"edge6\"><title>5-&gt;6</title>\n",
       "<path d=\"M357.32,-88.9485C349.462,-79.892 340.938,-70.0682 333.058,-60.9875\" fill=\"none\" stroke=\"black\"/>\n",
       "<polygon fill=\"black\" points=\"335.53,-58.4958 326.332,-53.2367 330.243,-63.0835 335.53,-58.4958\" stroke=\"black\"/>\n",
       "</g>\n",
       "<!-- 7 -->\n",
       "<g class=\"node\" id=\"node8\"><title>7</title>\n",
       "<path d=\"M452.5,-53C452.5,-53 381.5,-53 381.5,-53 375.5,-53 369.5,-47 369.5,-41 369.5,-41 369.5,-12 369.5,-12 369.5,-6 375.5,-0 381.5,-0 381.5,-0 452.5,-0 452.5,-0 458.5,-0 464.5,-6 464.5,-12 464.5,-12 464.5,-41 464.5,-41 464.5,-47 458.5,-53 452.5,-53\" fill=\"#399de5\" stroke=\"black\"/>\n",
       "<text font-family=\"Helvetica,sans-Serif\" font-size=\"14.00\" text-anchor=\"middle\" x=\"417\" y=\"-37.8\">gini = 0.0</text>\n",
       "<text font-family=\"Helvetica,sans-Serif\" font-size=\"14.00\" text-anchor=\"middle\" x=\"417\" y=\"-22.8\">samples = 2</text>\n",
       "<text font-family=\"Helvetica,sans-Serif\" font-size=\"14.00\" text-anchor=\"middle\" x=\"417\" y=\"-7.8\">value = [0, 2]</text>\n",
       "</g>\n",
       "<!-- 5&#45;&gt;7 -->\n",
       "<g class=\"edge\" id=\"edge7\"><title>5-&gt;7</title>\n",
       "<path d=\"M396.842,-88.9485C399.603,-80.5323 402.581,-71.4536 405.379,-62.9243\" fill=\"none\" stroke=\"black\"/>\n",
       "<polygon fill=\"black\" points=\"408.766,-63.8295 408.557,-53.2367 402.115,-61.6475 408.766,-63.8295\" stroke=\"black\"/>\n",
       "</g>\n",
       "<!-- 9 -->\n",
       "<g class=\"node\" id=\"node10\"><title>9</title>\n",
       "<path d=\"M627.5,-157C627.5,-157 502.5,-157 502.5,-157 496.5,-157 490.5,-151 490.5,-145 490.5,-145 490.5,-101 490.5,-101 490.5,-95 496.5,-89 502.5,-89 502.5,-89 627.5,-89 627.5,-89 633.5,-89 639.5,-95 639.5,-101 639.5,-101 639.5,-145 639.5,-145 639.5,-151 633.5,-157 627.5,-157\" fill=\"#e6843e\" stroke=\"black\"/>\n",
       "<text font-family=\"Helvetica,sans-Serif\" font-size=\"14.00\" text-anchor=\"middle\" x=\"565\" y=\"-141.8\">inflation_crises &lt;= 0.5</text>\n",
       "<text font-family=\"Helvetica,sans-Serif\" font-size=\"14.00\" text-anchor=\"middle\" x=\"565\" y=\"-126.8\">gini = 0.049</text>\n",
       "<text font-family=\"Helvetica,sans-Serif\" font-size=\"14.00\" text-anchor=\"middle\" x=\"565\" y=\"-111.8\">samples = 40</text>\n",
       "<text font-family=\"Helvetica,sans-Serif\" font-size=\"14.00\" text-anchor=\"middle\" x=\"565\" y=\"-96.8\">value = [39, 1]</text>\n",
       "</g>\n",
       "<!-- 8&#45;&gt;9 -->\n",
       "<g class=\"edge\" id=\"edge9\"><title>8-&gt;9</title>\n",
       "<path d=\"M565,-192.884C565,-184.778 565,-175.982 565,-167.472\" fill=\"none\" stroke=\"black\"/>\n",
       "<polygon fill=\"black\" points=\"568.5,-167.299 565,-157.299 561.5,-167.299 568.5,-167.299\" stroke=\"black\"/>\n",
       "</g>\n",
       "<!-- 12 -->\n",
       "<g class=\"node\" id=\"node13\"><title>12</title>\n",
       "<path d=\"M804,-157C804,-157 724,-157 724,-157 718,-157 712,-151 712,-145 712,-145 712,-101 712,-101 712,-95 718,-89 724,-89 724,-89 804,-89 804,-89 810,-89 816,-95 816,-101 816,-101 816,-145 816,-145 816,-151 810,-157 804,-157\" fill=\"#ea975c\" stroke=\"black\"/>\n",
       "<text font-family=\"Helvetica,sans-Serif\" font-size=\"14.00\" text-anchor=\"middle\" x=\"764\" y=\"-141.8\">country &lt;= 6.5</text>\n",
       "<text font-family=\"Helvetica,sans-Serif\" font-size=\"14.00\" text-anchor=\"middle\" x=\"764\" y=\"-126.8\">gini = 0.255</text>\n",
       "<text font-family=\"Helvetica,sans-Serif\" font-size=\"14.00\" text-anchor=\"middle\" x=\"764\" y=\"-111.8\">samples = 20</text>\n",
       "<text font-family=\"Helvetica,sans-Serif\" font-size=\"14.00\" text-anchor=\"middle\" x=\"764\" y=\"-96.8\">value = [17, 3]</text>\n",
       "</g>\n",
       "<!-- 8&#45;&gt;12 -->\n",
       "<g class=\"edge\" id=\"edge12\"><title>8-&gt;12</title>\n",
       "<path d=\"M619.115,-198.263C645.069,-184.959 676.267,-168.969 703.055,-155.238\" fill=\"none\" stroke=\"black\"/>\n",
       "<polygon fill=\"black\" points=\"704.654,-158.352 711.956,-150.676 701.461,-152.122 704.654,-158.352\" stroke=\"black\"/>\n",
       "</g>\n",
       "<!-- 10 -->\n",
       "<g class=\"node\" id=\"node11\"><title>10</title>\n",
       "<path d=\"M573,-53C573,-53 495,-53 495,-53 489,-53 483,-47 483,-41 483,-41 483,-12 483,-12 483,-6 489,-0 495,-0 495,-0 573,-0 573,-0 579,-0 585,-6 585,-12 585,-12 585,-41 585,-41 585,-47 579,-53 573,-53\" fill=\"#e58139\" stroke=\"black\"/>\n",
       "<text font-family=\"Helvetica,sans-Serif\" font-size=\"14.00\" text-anchor=\"middle\" x=\"534\" y=\"-37.8\">gini = 0.0</text>\n",
       "<text font-family=\"Helvetica,sans-Serif\" font-size=\"14.00\" text-anchor=\"middle\" x=\"534\" y=\"-22.8\">samples = 32</text>\n",
       "<text font-family=\"Helvetica,sans-Serif\" font-size=\"14.00\" text-anchor=\"middle\" x=\"534\" y=\"-7.8\">value = [32, 0]</text>\n",
       "</g>\n",
       "<!-- 9&#45;&gt;10 -->\n",
       "<g class=\"edge\" id=\"edge10\"><title>9-&gt;10</title>\n",
       "<path d=\"M554.158,-88.9485C551.397,-80.5323 548.419,-71.4536 545.621,-62.9243\" fill=\"none\" stroke=\"black\"/>\n",
       "<polygon fill=\"black\" points=\"548.885,-61.6475 542.443,-53.2367 542.234,-63.8295 548.885,-61.6475\" stroke=\"black\"/>\n",
       "</g>\n",
       "<!-- 11 -->\n",
       "<g class=\"node\" id=\"node12\"><title>11</title>\n",
       "<path d=\"M686.5,-53C686.5,-53 615.5,-53 615.5,-53 609.5,-53 603.5,-47 603.5,-41 603.5,-41 603.5,-12 603.5,-12 603.5,-6 609.5,-0 615.5,-0 615.5,-0 686.5,-0 686.5,-0 692.5,-0 698.5,-6 698.5,-12 698.5,-12 698.5,-41 698.5,-41 698.5,-47 692.5,-53 686.5,-53\" fill=\"#e99355\" stroke=\"black\"/>\n",
       "<text font-family=\"Helvetica,sans-Serif\" font-size=\"14.00\" text-anchor=\"middle\" x=\"651\" y=\"-37.8\">gini = 0.219</text>\n",
       "<text font-family=\"Helvetica,sans-Serif\" font-size=\"14.00\" text-anchor=\"middle\" x=\"651\" y=\"-22.8\">samples = 8</text>\n",
       "<text font-family=\"Helvetica,sans-Serif\" font-size=\"14.00\" text-anchor=\"middle\" x=\"651\" y=\"-7.8\">value = [7, 1]</text>\n",
       "</g>\n",
       "<!-- 9&#45;&gt;11 -->\n",
       "<g class=\"edge\" id=\"edge11\"><title>9-&gt;11</title>\n",
       "<path d=\"M595.079,-88.9485C603.404,-79.8005 612.441,-69.8697 620.775,-60.7126\" fill=\"none\" stroke=\"black\"/>\n",
       "<polygon fill=\"black\" points=\"623.436,-62.9883 627.578,-53.2367 618.259,-58.2769 623.436,-62.9883\" stroke=\"black\"/>\n",
       "</g>\n",
       "<!-- 13 -->\n",
       "<g class=\"node\" id=\"node14\"><title>13</title>\n",
       "<path d=\"M799.5,-53C799.5,-53 728.5,-53 728.5,-53 722.5,-53 716.5,-47 716.5,-41 716.5,-41 716.5,-12 716.5,-12 716.5,-6 722.5,-0 728.5,-0 728.5,-0 799.5,-0 799.5,-0 805.5,-0 811.5,-6 811.5,-12 811.5,-12 811.5,-41 811.5,-41 811.5,-47 805.5,-53 799.5,-53\" fill=\"#7bbeee\" stroke=\"black\"/>\n",
       "<text font-family=\"Helvetica,sans-Serif\" font-size=\"14.00\" text-anchor=\"middle\" x=\"764\" y=\"-37.8\">gini = 0.375</text>\n",
       "<text font-family=\"Helvetica,sans-Serif\" font-size=\"14.00\" text-anchor=\"middle\" x=\"764\" y=\"-22.8\">samples = 4</text>\n",
       "<text font-family=\"Helvetica,sans-Serif\" font-size=\"14.00\" text-anchor=\"middle\" x=\"764\" y=\"-7.8\">value = [1, 3]</text>\n",
       "</g>\n",
       "<!-- 12&#45;&gt;13 -->\n",
       "<g class=\"edge\" id=\"edge13\"><title>12-&gt;13</title>\n",
       "<path d=\"M764,-88.9485C764,-80.7153 764,-71.848 764,-63.4814\" fill=\"none\" stroke=\"black\"/>\n",
       "<polygon fill=\"black\" points=\"767.5,-63.2367 764,-53.2367 760.5,-63.2367 767.5,-63.2367\" stroke=\"black\"/>\n",
       "</g>\n",
       "<!-- 14 -->\n",
       "<g class=\"node\" id=\"node15\"><title>14</title>\n",
       "<path d=\"M920,-53C920,-53 842,-53 842,-53 836,-53 830,-47 830,-41 830,-41 830,-12 830,-12 830,-6 836,-0 842,-0 842,-0 920,-0 920,-0 926,-0 932,-6 932,-12 932,-12 932,-41 932,-41 932,-47 926,-53 920,-53\" fill=\"#e58139\" stroke=\"black\"/>\n",
       "<text font-family=\"Helvetica,sans-Serif\" font-size=\"14.00\" text-anchor=\"middle\" x=\"881\" y=\"-37.8\">gini = 0.0</text>\n",
       "<text font-family=\"Helvetica,sans-Serif\" font-size=\"14.00\" text-anchor=\"middle\" x=\"881\" y=\"-22.8\">samples = 16</text>\n",
       "<text font-family=\"Helvetica,sans-Serif\" font-size=\"14.00\" text-anchor=\"middle\" x=\"881\" y=\"-7.8\">value = [16, 0]</text>\n",
       "</g>\n",
       "<!-- 12&#45;&gt;14 -->\n",
       "<g class=\"edge\" id=\"edge14\"><title>12-&gt;14</title>\n",
       "<path d=\"M804.921,-88.9485C816.7,-79.4346 829.527,-69.074 841.235,-59.6175\" fill=\"none\" stroke=\"black\"/>\n",
       "<polygon fill=\"black\" points=\"843.555,-62.2429 849.136,-53.2367 839.157,-56.7973 843.555,-62.2429\" stroke=\"black\"/>\n",
       "</g>\n",
       "</g>\n",
       "</svg>"
      ],
      "text/plain": [
       "<IPython.core.display.SVG object>"
      ]
     },
     "metadata": {},
     "output_type": "display_data"
    }
   ],
   "source": [
    "fet=['case','country','year','systemic_crisis','exch_usd','domestic_debt_in_default','sovereign_external_debt_default','inflation_annual_cpi','independence','currency_crises','inflation_crises']\n",
    "#distance\tspeed\ttemp_inside\tgas_type\tAC\train\tsun\n",
    "from sklearn.tree import export_graphviz\n",
    "from sklearn import tree\n",
    "from graphviz import Source\n",
    "from IPython.display import SVG\n",
    "from IPython.display import display\n",
    "\n",
    "graph = Source(tree.export_graphviz(dt1, out_file=None, feature_names=fet, filled = True,rounded=True))\n",
    "\n",
    "\n",
    "display(SVG(graph.pipe(format='svg')))\n"
   ]
  },
  {
   "cell_type": "code",
   "execution_count": 34,
   "metadata": {},
   "outputs": [
    {
     "data": {
      "image/png": "[encoded data removed]",
      "text/plain": [
       "<Figure size 432x288 with 1 Axes>"
      ]
     },
     "metadata": {
      "needs_background": "light"
     },
     "output_type": "display_data"
    }
   ],
   "source": [
    "plt.scatter(y_test,pred1)\n",
    "plt.xlabel('Values')\n",
    "plt.ylabel('pred1')\n",
    "plt.show()"
   ]
  },
  {
   "cell_type": "markdown",
   "metadata": {},
   "source": [
    "## DECISION TREE ACC TO MIN MAX SCALAR"
   ]
  },
  {
   "cell_type": "code",
   "execution_count": 35,
   "metadata": {},
   "outputs": [
    {
     "name": "stdout",
     "output_type": "stream",
     "text": [
      "Root Mean Squared Error(RMSE): 0.16823164622761327\n",
      "Mean Absolute Error(MAE): 0.02830188679245283\n",
      "Mean Squared Error(MSE): 0.02830188679245283\n"
     ]
    }
   ],
   "source": [
    "from sklearn.tree import DecisionTreeClassifier\n",
    "dt2=DecisionTreeClassifier(splitter='best',max_depth=3,random_state=56)\n",
    "dt2.fit(x_trainmin,y_train)\n",
    "pred2=dt2.predict(x_testmin)\n",
    "from sklearn import metrics\n",
    "from sklearn.metrics import mean_squared_error\n",
    "from math import sqrt\n",
    "print('Root Mean Squared Error(RMSE):', np.sqrt(metrics.mean_squared_error(y_test, pred2)))\n",
    "print('Mean Absolute Error(MAE):', metrics.mean_absolute_error(y_test,pred2))\n",
    "print('Mean Squared Error(MSE):', metrics.mean_squared_error(y_test, pred2))\n"
   ]
  },
  {
   "cell_type": "code",
   "execution_count": 36,
   "metadata": {},
   "outputs": [
    {
     "data": {
      "image/svg+xml": [
       "<svg height=\"373pt\" viewBox=\"0.00 0.00 940.00 373.00\" width=\"940pt\" xmlns=\"http://www.w3.org/2000/svg\" xmlns:xlink=\"http://www.w3.org/1999/xlink\">\n",
       "<g class=\"graph\" id=\"graph0\" transform=\"scale(1 1) rotate(0) translate(4 369)\">\n",
       "<title>Tree</title>\n",
       "<polygon fill=\"white\" points=\"-4,4 -4,-369 936,-369 936,4 -4,4\" stroke=\"none\"/>\n",
       "<!-- 0 -->\n",
       "<g class=\"node\" id=\"node1\"><title>0</title>\n",
       "<path d=\"M538.5,-365C538.5,-365 411.5,-365 411.5,-365 405.5,-365 399.5,-359 399.5,-353 399.5,-353 399.5,-309 399.5,-309 399.5,-303 405.5,-297 411.5,-297 411.5,-297 538.5,-297 538.5,-297 544.5,-297 550.5,-303 550.5,-309 550.5,-309 550.5,-353 550.5,-353 550.5,-359 544.5,-365 538.5,-365\" fill=\"#4ba6e7\" stroke=\"black\"/>\n",
       "<text font-family=\"Helvetica,sans-Serif\" font-size=\"14.00\" text-anchor=\"middle\" x=\"475\" y=\"-349.8\">systemic_crisis &lt;= 0.5</text>\n",
       "<text font-family=\"Helvetica,sans-Serif\" font-size=\"14.00\" text-anchor=\"middle\" x=\"475\" y=\"-334.8\">gini = 0.152</text>\n",
       "<text font-family=\"Helvetica,sans-Serif\" font-size=\"14.00\" text-anchor=\"middle\" x=\"475\" y=\"-319.8\">samples = 847</text>\n",
       "<text font-family=\"Helvetica,sans-Serif\" font-size=\"14.00\" text-anchor=\"middle\" x=\"475\" y=\"-304.8\">value = [70, 777]</text>\n",
       "</g>\n",
       "<!-- 1 -->\n",
       "<g class=\"node\" id=\"node2\"><title>1</title>\n",
       "<path d=\"M473,-261C473,-261 303,-261 303,-261 297,-261 291,-255 291,-249 291,-249 291,-205 291,-205 291,-199 297,-193 303,-193 303,-193 473,-193 473,-193 479,-193 485,-199 485,-205 485,-205 485,-249 485,-249 485,-255 479,-261 473,-261\" fill=\"#3d9fe5\" stroke=\"black\"/>\n",
       "<text font-family=\"Helvetica,sans-Serif\" font-size=\"14.00\" text-anchor=\"middle\" x=\"388\" y=\"-245.8\">inflation_annual_cpi &lt;= 0.003</text>\n",
       "<text font-family=\"Helvetica,sans-Serif\" font-size=\"14.00\" text-anchor=\"middle\" x=\"388\" y=\"-230.8\">gini = 0.035</text>\n",
       "<text font-family=\"Helvetica,sans-Serif\" font-size=\"14.00\" text-anchor=\"middle\" x=\"388\" y=\"-215.8\">samples = 787</text>\n",
       "<text font-family=\"Helvetica,sans-Serif\" font-size=\"14.00\" text-anchor=\"middle\" x=\"388\" y=\"-200.8\">value = [14, 773]</text>\n",
       "</g>\n",
       "<!-- 0&#45;&gt;1 -->\n",
       "<g class=\"edge\" id=\"edge1\"><title>0-&gt;1</title>\n",
       "<path d=\"M446.754,-296.884C439.156,-287.976 430.848,-278.235 422.934,-268.957\" fill=\"none\" stroke=\"black\"/>\n",
       "<polygon fill=\"black\" points=\"425.555,-266.636 416.402,-261.299 420.229,-271.179 425.555,-266.636\" stroke=\"black\"/>\n",
       "<text font-family=\"Helvetica,sans-Serif\" font-size=\"14.00\" text-anchor=\"middle\" x=\"414.424\" y=\"-282.521\">True</text>\n",
       "</g>\n",
       "<!-- 8 -->\n",
       "<g class=\"node\" id=\"node9\"><title>8</title>\n",
       "<path d=\"M602,-261C602,-261 524,-261 524,-261 518,-261 512,-255 512,-249 512,-249 512,-205 512,-205 512,-199 518,-193 524,-193 524,-193 602,-193 602,-193 608,-193 614,-199 614,-205 614,-205 614,-249 614,-249 614,-255 608,-261 602,-261\" fill=\"#e78a47\" stroke=\"black\"/>\n",
       "<text font-family=\"Helvetica,sans-Serif\" font-size=\"14.00\" text-anchor=\"middle\" x=\"563\" y=\"-245.8\">year &lt;= 0.886</text>\n",
       "<text font-family=\"Helvetica,sans-Serif\" font-size=\"14.00\" text-anchor=\"middle\" x=\"563\" y=\"-230.8\">gini = 0.124</text>\n",
       "<text font-family=\"Helvetica,sans-Serif\" font-size=\"14.00\" text-anchor=\"middle\" x=\"563\" y=\"-215.8\">samples = 60</text>\n",
       "<text font-family=\"Helvetica,sans-Serif\" font-size=\"14.00\" text-anchor=\"middle\" x=\"563\" y=\"-200.8\">value = [56, 4]</text>\n",
       "</g>\n",
       "<!-- 0&#45;&gt;8 -->\n",
       "<g class=\"edge\" id=\"edge8\"><title>0-&gt;8</title>\n",
       "<path d=\"M503.571,-296.884C511.256,-287.976 519.66,-278.235 527.665,-268.957\" fill=\"none\" stroke=\"black\"/>\n",
       "<polygon fill=\"black\" points=\"530.389,-271.157 534.271,-261.299 525.089,-266.585 530.389,-271.157\" stroke=\"black\"/>\n",
       "<text font-family=\"Helvetica,sans-Serif\" font-size=\"14.00\" text-anchor=\"middle\" x=\"536.108\" y=\"-282.532\">False</text>\n",
       "</g>\n",
       "<!-- 2 -->\n",
       "<g class=\"node\" id=\"node3\"><title>2</title>\n",
       "<path d=\"M268,-157C268,-157 98,-157 98,-157 92,-157 86,-151 86,-145 86,-145 86,-101 86,-101 86,-95 92,-89 98,-89 98,-89 268,-89 268,-89 274,-89 280,-95 280,-101 280,-101 280,-145 280,-145 280,-151 274,-157 268,-157\" fill=\"#3c9ee5\" stroke=\"black\"/>\n",
       "<text font-family=\"Helvetica,sans-Serif\" font-size=\"14.00\" text-anchor=\"middle\" x=\"183\" y=\"-141.8\">inflation_annual_cpi &lt;= 0.001</text>\n",
       "<text font-family=\"Helvetica,sans-Serif\" font-size=\"14.00\" text-anchor=\"middle\" x=\"183\" y=\"-126.8\">gini = 0.025</text>\n",
       "<text font-family=\"Helvetica,sans-Serif\" font-size=\"14.00\" text-anchor=\"middle\" x=\"183\" y=\"-111.8\">samples = 781</text>\n",
       "<text font-family=\"Helvetica,sans-Serif\" font-size=\"14.00\" text-anchor=\"middle\" x=\"183\" y=\"-96.8\">value = [10, 771]</text>\n",
       "</g>\n",
       "<!-- 1&#45;&gt;2 -->\n",
       "<g class=\"edge\" id=\"edge2\"><title>1-&gt;2</title>\n",
       "<path d=\"M321.442,-192.884C301.38,-182.901 279.214,-171.872 258.608,-161.619\" fill=\"none\" stroke=\"black\"/>\n",
       "<polygon fill=\"black\" points=\"260.086,-158.446 249.574,-157.125 256.968,-164.713 260.086,-158.446\" stroke=\"black\"/>\n",
       "</g>\n",
       "<!-- 5 -->\n",
       "<g class=\"node\" id=\"node6\"><title>5</title>\n",
       "<path d=\"M426.5,-157C426.5,-157 349.5,-157 349.5,-157 343.5,-157 337.5,-151 337.5,-145 337.5,-145 337.5,-101 337.5,-101 337.5,-95 343.5,-89 349.5,-89 349.5,-89 426.5,-89 426.5,-89 432.5,-89 438.5,-95 438.5,-101 438.5,-101 438.5,-145 438.5,-145 438.5,-151 432.5,-157 426.5,-157\" fill=\"#f2c09c\" stroke=\"black\"/>\n",
       "<text font-family=\"Helvetica,sans-Serif\" font-size=\"14.00\" text-anchor=\"middle\" x=\"388\" y=\"-141.8\">year &lt;= 0.895</text>\n",
       "<text font-family=\"Helvetica,sans-Serif\" font-size=\"14.00\" text-anchor=\"middle\" x=\"388\" y=\"-126.8\">gini = 0.444</text>\n",
       "<text font-family=\"Helvetica,sans-Serif\" font-size=\"14.00\" text-anchor=\"middle\" x=\"388\" y=\"-111.8\">samples = 6</text>\n",
       "<text font-family=\"Helvetica,sans-Serif\" font-size=\"14.00\" text-anchor=\"middle\" x=\"388\" y=\"-96.8\">value = [4, 2]</text>\n",
       "</g>\n",
       "<!-- 1&#45;&gt;5 -->\n",
       "<g class=\"edge\" id=\"edge5\"><title>1-&gt;5</title>\n",
       "<path d=\"M388,-192.884C388,-184.778 388,-175.982 388,-167.472\" fill=\"none\" stroke=\"black\"/>\n",
       "<polygon fill=\"black\" points=\"391.5,-167.299 388,-157.299 384.5,-167.299 391.5,-167.299\" stroke=\"black\"/>\n",
       "</g>\n",
       "<!-- 3 -->\n",
       "<g class=\"node\" id=\"node4\"><title>3</title>\n",
       "<path d=\"M98,-53C98,-53 12,-53 12,-53 6,-53 0,-47 0,-41 0,-41 0,-12 0,-12 0,-6 6,-0 12,-0 12,-0 98,-0 98,-0 104,-0 110,-6 110,-12 110,-12 110,-41 110,-41 110,-47 104,-53 98,-53\" fill=\"#399de5\" stroke=\"black\"/>\n",
       "<text font-family=\"Helvetica,sans-Serif\" font-size=\"14.00\" text-anchor=\"middle\" x=\"55\" y=\"-37.8\">gini = 0.004</text>\n",
       "<text font-family=\"Helvetica,sans-Serif\" font-size=\"14.00\" text-anchor=\"middle\" x=\"55\" y=\"-22.8\">samples = 527</text>\n",
       "<text font-family=\"Helvetica,sans-Serif\" font-size=\"14.00\" text-anchor=\"middle\" x=\"55\" y=\"-7.8\">value = [1, 526]</text>\n",
       "</g>\n",
       "<!-- 2&#45;&gt;3 -->\n",
       "<g class=\"edge\" id=\"edge3\"><title>2-&gt;3</title>\n",
       "<path d=\"M138.232,-88.9485C125.221,-79.3431 111.042,-68.8747 98.134,-59.345\" fill=\"none\" stroke=\"black\"/>\n",
       "<polygon fill=\"black\" points=\"99.9842,-56.3605 89.8603,-53.2367 95.8265,-61.992 99.9842,-56.3605\" stroke=\"black\"/>\n",
       "</g>\n",
       "<!-- 4 -->\n",
       "<g class=\"node\" id=\"node5\"><title>4</title>\n",
       "<path d=\"M226,-53C226,-53 140,-53 140,-53 134,-53 128,-47 128,-41 128,-41 128,-12 128,-12 128,-6 134,-0 140,-0 140,-0 226,-0 226,-0 232,-0 238,-6 238,-12 238,-12 238,-41 238,-41 238,-47 232,-53 226,-53\" fill=\"#40a1e6\" stroke=\"black\"/>\n",
       "<text font-family=\"Helvetica,sans-Serif\" font-size=\"14.00\" text-anchor=\"middle\" x=\"183\" y=\"-37.8\">gini = 0.068</text>\n",
       "<text font-family=\"Helvetica,sans-Serif\" font-size=\"14.00\" text-anchor=\"middle\" x=\"183\" y=\"-22.8\">samples = 254</text>\n",
       "<text font-family=\"Helvetica,sans-Serif\" font-size=\"14.00\" text-anchor=\"middle\" x=\"183\" y=\"-7.8\">value = [9, 245]</text>\n",
       "</g>\n",
       "<!-- 2&#45;&gt;4 -->\n",
       "<g class=\"edge\" id=\"edge4\"><title>2-&gt;4</title>\n",
       "<path d=\"M183,-88.9485C183,-80.7153 183,-71.848 183,-63.4814\" fill=\"none\" stroke=\"black\"/>\n",
       "<polygon fill=\"black\" points=\"186.5,-63.2367 183,-53.2367 179.5,-63.2367 186.5,-63.2367\" stroke=\"black\"/>\n",
       "</g>\n",
       "<!-- 6 -->\n",
       "<g class=\"node\" id=\"node7\"><title>6</title>\n",
       "<path d=\"M339.5,-53C339.5,-53 268.5,-53 268.5,-53 262.5,-53 256.5,-47 256.5,-41 256.5,-41 256.5,-12 256.5,-12 256.5,-6 262.5,-0 268.5,-0 268.5,-0 339.5,-0 339.5,-0 345.5,-0 351.5,-6 351.5,-12 351.5,-12 351.5,-41 351.5,-41 351.5,-47 345.5,-53 339.5,-53\" fill=\"#e58139\" stroke=\"black\"/>\n",
       "<text font-family=\"Helvetica,sans-Serif\" font-size=\"14.00\" text-anchor=\"middle\" x=\"304\" y=\"-37.8\">gini = 0.0</text>\n",
       "<text font-family=\"Helvetica,sans-Serif\" font-size=\"14.00\" text-anchor=\"middle\" x=\"304\" y=\"-22.8\">samples = 4</text>\n",
       "<text font-family=\"Helvetica,sans-Serif\" font-size=\"14.00\" text-anchor=\"middle\" x=\"304\" y=\"-7.8\">value = [4, 0]</text>\n",
       "</g>\n",
       "<!-- 5&#45;&gt;6 -->\n",
       "<g class=\"edge\" id=\"edge6\"><title>5-&gt;6</title>\n",
       "<path d=\"M358.621,-88.9485C350.489,-79.8005 341.662,-69.8697 333.522,-60.7126\" fill=\"none\" stroke=\"black\"/>\n",
       "<polygon fill=\"black\" points=\"336.137,-58.3855 326.877,-53.2367 330.905,-63.0361 336.137,-58.3855\" stroke=\"black\"/>\n",
       "</g>\n",
       "<!-- 7 -->\n",
       "<g class=\"node\" id=\"node8\"><title>7</title>\n",
       "<path d=\"M452.5,-53C452.5,-53 381.5,-53 381.5,-53 375.5,-53 369.5,-47 369.5,-41 369.5,-41 369.5,-12 369.5,-12 369.5,-6 375.5,-0 381.5,-0 381.5,-0 452.5,-0 452.5,-0 458.5,-0 464.5,-6 464.5,-12 464.5,-12 464.5,-41 464.5,-41 464.5,-47 458.5,-53 452.5,-53\" fill=\"#399de5\" stroke=\"black\"/>\n",
       "<text font-family=\"Helvetica,sans-Serif\" font-size=\"14.00\" text-anchor=\"middle\" x=\"417\" y=\"-37.8\">gini = 0.0</text>\n",
       "<text font-family=\"Helvetica,sans-Serif\" font-size=\"14.00\" text-anchor=\"middle\" x=\"417\" y=\"-22.8\">samples = 2</text>\n",
       "<text font-family=\"Helvetica,sans-Serif\" font-size=\"14.00\" text-anchor=\"middle\" x=\"417\" y=\"-7.8\">value = [0, 2]</text>\n",
       "</g>\n",
       "<!-- 5&#45;&gt;7 -->\n",
       "<g class=\"edge\" id=\"edge7\"><title>5-&gt;7</title>\n",
       "<path d=\"M398.143,-88.9485C400.726,-80.5323 403.512,-71.4536 406.129,-62.9243\" fill=\"none\" stroke=\"black\"/>\n",
       "<polygon fill=\"black\" points=\"409.514,-63.8235 409.102,-53.2367 402.822,-61.7698 409.514,-63.8235\" stroke=\"black\"/>\n",
       "</g>\n",
       "<!-- 9 -->\n",
       "<g class=\"node\" id=\"node10\"><title>9</title>\n",
       "<path d=\"M625.5,-157C625.5,-157 500.5,-157 500.5,-157 494.5,-157 488.5,-151 488.5,-145 488.5,-145 488.5,-101 488.5,-101 488.5,-95 494.5,-89 500.5,-89 500.5,-89 625.5,-89 625.5,-89 631.5,-89 637.5,-95 637.5,-101 637.5,-101 637.5,-145 637.5,-145 637.5,-151 631.5,-157 625.5,-157\" fill=\"#e6843e\" stroke=\"black\"/>\n",
       "<text font-family=\"Helvetica,sans-Serif\" font-size=\"14.00\" text-anchor=\"middle\" x=\"563\" y=\"-141.8\">inflation_crises &lt;= 0.5</text>\n",
       "<text font-family=\"Helvetica,sans-Serif\" font-size=\"14.00\" text-anchor=\"middle\" x=\"563\" y=\"-126.8\">gini = 0.049</text>\n",
       "<text font-family=\"Helvetica,sans-Serif\" font-size=\"14.00\" text-anchor=\"middle\" x=\"563\" y=\"-111.8\">samples = 40</text>\n",
       "<text font-family=\"Helvetica,sans-Serif\" font-size=\"14.00\" text-anchor=\"middle\" x=\"563\" y=\"-96.8\">value = [39, 1]</text>\n",
       "</g>\n",
       "<!-- 8&#45;&gt;9 -->\n",
       "<g class=\"edge\" id=\"edge9\"><title>8-&gt;9</title>\n",
       "<path d=\"M563,-192.884C563,-184.778 563,-175.982 563,-167.472\" fill=\"none\" stroke=\"black\"/>\n",
       "<polygon fill=\"black\" points=\"566.5,-167.299 563,-157.299 559.5,-167.299 566.5,-167.299\" stroke=\"black\"/>\n",
       "</g>\n",
       "<!-- 12 -->\n",
       "<g class=\"node\" id=\"node13\"><title>12</title>\n",
       "<path d=\"M811.5,-157C811.5,-157 716.5,-157 716.5,-157 710.5,-157 704.5,-151 704.5,-145 704.5,-145 704.5,-101 704.5,-101 704.5,-95 710.5,-89 716.5,-89 716.5,-89 811.5,-89 811.5,-89 817.5,-89 823.5,-95 823.5,-101 823.5,-101 823.5,-145 823.5,-145 823.5,-151 817.5,-157 811.5,-157\" fill=\"#ea975c\" stroke=\"black\"/>\n",
       "<text font-family=\"Helvetica,sans-Serif\" font-size=\"14.00\" text-anchor=\"middle\" x=\"764\" y=\"-141.8\">country &lt;= 0.542</text>\n",
       "<text font-family=\"Helvetica,sans-Serif\" font-size=\"14.00\" text-anchor=\"middle\" x=\"764\" y=\"-126.8\">gini = 0.255</text>\n",
       "<text font-family=\"Helvetica,sans-Serif\" font-size=\"14.00\" text-anchor=\"middle\" x=\"764\" y=\"-111.8\">samples = 20</text>\n",
       "<text font-family=\"Helvetica,sans-Serif\" font-size=\"14.00\" text-anchor=\"middle\" x=\"764\" y=\"-96.8\">value = [17, 3]</text>\n",
       "</g>\n",
       "<!-- 8&#45;&gt;12 -->\n",
       "<g class=\"edge\" id=\"edge12\"><title>8-&gt;12</title>\n",
       "<path d=\"M614.241,-199.997C638.795,-187.537 668.562,-172.431 695.067,-158.981\" fill=\"none\" stroke=\"black\"/>\n",
       "<polygon fill=\"black\" points=\"696.959,-161.946 704.293,-154.299 693.791,-155.703 696.959,-161.946\" stroke=\"black\"/>\n",
       "</g>\n",
       "<!-- 10 -->\n",
       "<g class=\"node\" id=\"node11\"><title>10</title>\n",
       "<path d=\"M573,-53C573,-53 495,-53 495,-53 489,-53 483,-47 483,-41 483,-41 483,-12 483,-12 483,-6 489,-0 495,-0 495,-0 573,-0 573,-0 579,-0 585,-6 585,-12 585,-12 585,-41 585,-41 585,-47 579,-53 573,-53\" fill=\"#e58139\" stroke=\"black\"/>\n",
       "<text font-family=\"Helvetica,sans-Serif\" font-size=\"14.00\" text-anchor=\"middle\" x=\"534\" y=\"-37.8\">gini = 0.0</text>\n",
       "<text font-family=\"Helvetica,sans-Serif\" font-size=\"14.00\" text-anchor=\"middle\" x=\"534\" y=\"-22.8\">samples = 32</text>\n",
       "<text font-family=\"Helvetica,sans-Serif\" font-size=\"14.00\" text-anchor=\"middle\" x=\"534\" y=\"-7.8\">value = [32, 0]</text>\n",
       "</g>\n",
       "<!-- 9&#45;&gt;10 -->\n",
       "<g class=\"edge\" id=\"edge10\"><title>9-&gt;10</title>\n",
       "<path d=\"M552.857,-88.9485C550.274,-80.5323 547.488,-71.4536 544.871,-62.9243\" fill=\"none\" stroke=\"black\"/>\n",
       "<polygon fill=\"black\" points=\"548.178,-61.7698 541.898,-53.2367 541.486,-63.8235 548.178,-61.7698\" stroke=\"black\"/>\n",
       "</g>\n",
       "<!-- 11 -->\n",
       "<g class=\"node\" id=\"node12\"><title>11</title>\n",
       "<path d=\"M686.5,-53C686.5,-53 615.5,-53 615.5,-53 609.5,-53 603.5,-47 603.5,-41 603.5,-41 603.5,-12 603.5,-12 603.5,-6 609.5,-0 615.5,-0 615.5,-0 686.5,-0 686.5,-0 692.5,-0 698.5,-6 698.5,-12 698.5,-12 698.5,-41 698.5,-41 698.5,-47 692.5,-53 686.5,-53\" fill=\"#e99355\" stroke=\"black\"/>\n",
       "<text font-family=\"Helvetica,sans-Serif\" font-size=\"14.00\" text-anchor=\"middle\" x=\"651\" y=\"-37.8\">gini = 0.219</text>\n",
       "<text font-family=\"Helvetica,sans-Serif\" font-size=\"14.00\" text-anchor=\"middle\" x=\"651\" y=\"-22.8\">samples = 8</text>\n",
       "<text font-family=\"Helvetica,sans-Serif\" font-size=\"14.00\" text-anchor=\"middle\" x=\"651\" y=\"-7.8\">value = [7, 1]</text>\n",
       "</g>\n",
       "<!-- 9&#45;&gt;11 -->\n",
       "<g class=\"edge\" id=\"edge11\"><title>9-&gt;11</title>\n",
       "<path d=\"M593.778,-88.9485C602.297,-79.8005 611.545,-69.8697 620.072,-60.7126\" fill=\"none\" stroke=\"black\"/>\n",
       "<polygon fill=\"black\" points=\"622.78,-62.9402 627.034,-53.2367 617.657,-58.1698 622.78,-62.9402\" stroke=\"black\"/>\n",
       "</g>\n",
       "<!-- 13 -->\n",
       "<g class=\"node\" id=\"node14\"><title>13</title>\n",
       "<path d=\"M799.5,-53C799.5,-53 728.5,-53 728.5,-53 722.5,-53 716.5,-47 716.5,-41 716.5,-41 716.5,-12 716.5,-12 716.5,-6 722.5,-0 728.5,-0 728.5,-0 799.5,-0 799.5,-0 805.5,-0 811.5,-6 811.5,-12 811.5,-12 811.5,-41 811.5,-41 811.5,-47 805.5,-53 799.5,-53\" fill=\"#7bbeee\" stroke=\"black\"/>\n",
       "<text font-family=\"Helvetica,sans-Serif\" font-size=\"14.00\" text-anchor=\"middle\" x=\"764\" y=\"-37.8\">gini = 0.375</text>\n",
       "<text font-family=\"Helvetica,sans-Serif\" font-size=\"14.00\" text-anchor=\"middle\" x=\"764\" y=\"-22.8\">samples = 4</text>\n",
       "<text font-family=\"Helvetica,sans-Serif\" font-size=\"14.00\" text-anchor=\"middle\" x=\"764\" y=\"-7.8\">value = [1, 3]</text>\n",
       "</g>\n",
       "<!-- 12&#45;&gt;13 -->\n",
       "<g class=\"edge\" id=\"edge13\"><title>12-&gt;13</title>\n",
       "<path d=\"M764,-88.9485C764,-80.7153 764,-71.848 764,-63.4814\" fill=\"none\" stroke=\"black\"/>\n",
       "<polygon fill=\"black\" points=\"767.5,-63.2367 764,-53.2367 760.5,-63.2367 767.5,-63.2367\" stroke=\"black\"/>\n",
       "</g>\n",
       "<!-- 14 -->\n",
       "<g class=\"node\" id=\"node15\"><title>14</title>\n",
       "<path d=\"M920,-53C920,-53 842,-53 842,-53 836,-53 830,-47 830,-41 830,-41 830,-12 830,-12 830,-6 836,-0 842,-0 842,-0 920,-0 920,-0 926,-0 932,-6 932,-12 932,-12 932,-41 932,-41 932,-47 926,-53 920,-53\" fill=\"#e58139\" stroke=\"black\"/>\n",
       "<text font-family=\"Helvetica,sans-Serif\" font-size=\"14.00\" text-anchor=\"middle\" x=\"881\" y=\"-37.8\">gini = 0.0</text>\n",
       "<text font-family=\"Helvetica,sans-Serif\" font-size=\"14.00\" text-anchor=\"middle\" x=\"881\" y=\"-22.8\">samples = 16</text>\n",
       "<text font-family=\"Helvetica,sans-Serif\" font-size=\"14.00\" text-anchor=\"middle\" x=\"881\" y=\"-7.8\">value = [16, 0]</text>\n",
       "</g>\n",
       "<!-- 12&#45;&gt;14 -->\n",
       "<g class=\"edge\" id=\"edge14\"><title>12-&gt;14</title>\n",
       "<path d=\"M804.921,-88.9485C816.7,-79.4346 829.527,-69.074 841.235,-59.6175\" fill=\"none\" stroke=\"black\"/>\n",
       "<polygon fill=\"black\" points=\"843.555,-62.2429 849.136,-53.2367 839.157,-56.7973 843.555,-62.2429\" stroke=\"black\"/>\n",
       "</g>\n",
       "</g>\n",
       "</svg>"
      ],
      "text/plain": [
       "<IPython.core.display.SVG object>"
      ]
     },
     "metadata": {},
     "output_type": "display_data"
    }
   ],
   "source": [
    "fet=['case','country','year','systemic_crisis','exch_usd','domestic_debt_in_default','sovereign_external_debt_default','inflation_annual_cpi','independence','currency_crises','inflation_crises']\n",
    "\n",
    "from sklearn.tree import export_graphviz\n",
    "from sklearn import tree\n",
    "from graphviz import Source\n",
    "from IPython.display import SVG\n",
    "from IPython.display import display\n",
    "\n",
    "graph = Source(tree.export_graphviz(dt2, out_file=None, feature_names=fet, filled = True,rounded=True))\n",
    "\n",
    "\n",
    "display(SVG(graph.pipe(format='svg')))\n"
   ]
  },
  {
   "cell_type": "code",
   "execution_count": 37,
   "metadata": {},
   "outputs": [
    {
     "data": {
      "image/png": "[encoded data removed]",
      "text/plain": [
       "<Figure size 432x288 with 1 Axes>"
      ]
     },
     "metadata": {
      "needs_background": "light"
     },
     "output_type": "display_data"
    }
   ],
   "source": [
    "plt.scatter(y_test,pred2)\n",
    "plt.xlabel('Values')\n",
    "plt.ylabel('pred2')\n",
    "plt.show()"
   ]
  },
  {
   "cell_type": "markdown",
   "metadata": {},
   "source": [
    "## DECISION TREE ACC TO STANDARD SCALAR"
   ]
  },
  {
   "cell_type": "code",
   "execution_count": 38,
   "metadata": {},
   "outputs": [
    {
     "name": "stdout",
     "output_type": "stream",
     "text": [
      "Root Mean Squared Error(RMSE): 0.16823164622761327\n",
      "Mean Absolute Error(MAE): 0.02830188679245283\n",
      "Mean Squared Error(MSE): 0.02830188679245283\n"
     ]
    }
   ],
   "source": [
    "from sklearn.tree import DecisionTreeClassifier\n",
    "dt3=DecisionTreeClassifier(splitter='best',max_depth=3,random_state=56)\n",
    "dt3.fit(x_trainstd,y_train)\n",
    "pred3=dt2.predict(x_teststd)\n",
    "from sklearn import metrics\n",
    "from sklearn.metrics import mean_squared_error\n",
    "from math import sqrt\n",
    "print('Root Mean Squared Error(RMSE):', np.sqrt(metrics.mean_squared_error(y_test, pred3)))\n",
    "print('Mean Absolute Error(MAE):', metrics.mean_absolute_error(y_test,pred3))\n",
    "print('Mean Squared Error(MSE):', metrics.mean_squared_error(y_test, pred3))\n"
   ]
  },
  {
   "cell_type": "code",
   "execution_count": 39,
   "metadata": {},
   "outputs": [
    {
     "data": {
      "image/svg+xml": [
       "<svg height=\"373pt\" viewBox=\"0.00 0.00 940.00 373.00\" width=\"940pt\" xmlns=\"http://www.w3.org/2000/svg\" xmlns:xlink=\"http://www.w3.org/1999/xlink\">\n",
       "<g class=\"graph\" id=\"graph0\" transform=\"scale(1 1) rotate(0) translate(4 369)\">\n",
       "<title>Tree</title>\n",
       "<polygon fill=\"white\" points=\"-4,4 -4,-369 936,-369 936,4 -4,4\" stroke=\"none\"/>\n",
       "<!-- 0 -->\n",
       "<g class=\"node\" id=\"node1\"><title>0</title>\n",
       "<path d=\"M546,-365C546,-365 404,-365 404,-365 398,-365 392,-359 392,-353 392,-353 392,-309 392,-309 392,-303 398,-297 404,-297 404,-297 546,-297 546,-297 552,-297 558,-303 558,-309 558,-309 558,-353 558,-353 558,-359 552,-365 546,-365\" fill=\"#4ba6e7\" stroke=\"black\"/>\n",
       "<text font-family=\"Helvetica,sans-Serif\" font-size=\"14.00\" text-anchor=\"middle\" x=\"475\" y=\"-349.8\">systemic_crisis &lt;= 1.673</text>\n",
       "<text font-family=\"Helvetica,sans-Serif\" font-size=\"14.00\" text-anchor=\"middle\" x=\"475\" y=\"-334.8\">gini = 0.152</text>\n",
       "<text font-family=\"Helvetica,sans-Serif\" font-size=\"14.00\" text-anchor=\"middle\" x=\"475\" y=\"-319.8\">samples = 847</text>\n",
       "<text font-family=\"Helvetica,sans-Serif\" font-size=\"14.00\" text-anchor=\"middle\" x=\"475\" y=\"-304.8\">value = [70, 777]</text>\n",
       "</g>\n",
       "<!-- 1 -->\n",
       "<g class=\"node\" id=\"node2\"><title>1</title>\n",
       "<path d=\"M473,-261C473,-261 303,-261 303,-261 297,-261 291,-255 291,-249 291,-249 291,-205 291,-205 291,-199 297,-193 303,-193 303,-193 473,-193 473,-193 479,-193 485,-199 485,-205 485,-205 485,-249 485,-249 485,-255 479,-261 473,-261\" fill=\"#3d9fe5\" stroke=\"black\"/>\n",
       "<text font-family=\"Helvetica,sans-Serif\" font-size=\"14.00\" text-anchor=\"middle\" x=\"388\" y=\"-245.8\">inflation_annual_cpi &lt;= 0.042</text>\n",
       "<text font-family=\"Helvetica,sans-Serif\" font-size=\"14.00\" text-anchor=\"middle\" x=\"388\" y=\"-230.8\">gini = 0.035</text>\n",
       "<text font-family=\"Helvetica,sans-Serif\" font-size=\"14.00\" text-anchor=\"middle\" x=\"388\" y=\"-215.8\">samples = 787</text>\n",
       "<text font-family=\"Helvetica,sans-Serif\" font-size=\"14.00\" text-anchor=\"middle\" x=\"388\" y=\"-200.8\">value = [14, 773]</text>\n",
       "</g>\n",
       "<!-- 0&#45;&gt;1 -->\n",
       "<g class=\"edge\" id=\"edge1\"><title>0-&gt;1</title>\n",
       "<path d=\"M446.754,-296.884C439.156,-287.976 430.848,-278.235 422.934,-268.957\" fill=\"none\" stroke=\"black\"/>\n",
       "<polygon fill=\"black\" points=\"425.555,-266.636 416.402,-261.299 420.229,-271.179 425.555,-266.636\" stroke=\"black\"/>\n",
       "<text font-family=\"Helvetica,sans-Serif\" font-size=\"14.00\" text-anchor=\"middle\" x=\"414.424\" y=\"-282.521\">True</text>\n",
       "</g>\n",
       "<!-- 8 -->\n",
       "<g class=\"node\" id=\"node9\"><title>8</title>\n",
       "<path d=\"M601,-261C601,-261 523,-261 523,-261 517,-261 511,-255 511,-249 511,-249 511,-205 511,-205 511,-199 517,-193 523,-193 523,-193 601,-193 601,-193 607,-193 613,-199 613,-205 613,-205 613,-249 613,-249 613,-255 607,-261 601,-261\" fill=\"#e78a47\" stroke=\"black\"/>\n",
       "<text font-family=\"Helvetica,sans-Serif\" font-size=\"14.00\" text-anchor=\"middle\" x=\"562\" y=\"-245.8\">year &lt;= 0.869</text>\n",
       "<text font-family=\"Helvetica,sans-Serif\" font-size=\"14.00\" text-anchor=\"middle\" x=\"562\" y=\"-230.8\">gini = 0.124</text>\n",
       "<text font-family=\"Helvetica,sans-Serif\" font-size=\"14.00\" text-anchor=\"middle\" x=\"562\" y=\"-215.8\">samples = 60</text>\n",
       "<text font-family=\"Helvetica,sans-Serif\" font-size=\"14.00\" text-anchor=\"middle\" x=\"562\" y=\"-200.8\">value = [56, 4]</text>\n",
       "</g>\n",
       "<!-- 0&#45;&gt;8 -->\n",
       "<g class=\"edge\" id=\"edge8\"><title>0-&gt;8</title>\n",
       "<path d=\"M503.246,-296.884C510.844,-287.976 519.152,-278.235 527.066,-268.957\" fill=\"none\" stroke=\"black\"/>\n",
       "<polygon fill=\"black\" points=\"529.771,-271.179 533.598,-261.299 524.445,-266.636 529.771,-271.179\" stroke=\"black\"/>\n",
       "<text font-family=\"Helvetica,sans-Serif\" font-size=\"14.00\" text-anchor=\"middle\" x=\"535.576\" y=\"-282.521\">False</text>\n",
       "</g>\n",
       "<!-- 2 -->\n",
       "<g class=\"node\" id=\"node3\"><title>2</title>\n",
       "<path d=\"M270,-157C270,-157 96,-157 96,-157 90,-157 84,-151 84,-145 84,-145 84,-101 84,-101 84,-95 90,-89 96,-89 96,-89 270,-89 270,-89 276,-89 282,-95 282,-101 282,-101 282,-145 282,-145 282,-151 276,-157 270,-157\" fill=\"#3c9ee5\" stroke=\"black\"/>\n",
       "<text font-family=\"Helvetica,sans-Serif\" font-size=\"14.00\" text-anchor=\"middle\" x=\"183\" y=\"-141.8\">inflation_annual_cpi &lt;= -0.039</text>\n",
       "<text font-family=\"Helvetica,sans-Serif\" font-size=\"14.00\" text-anchor=\"middle\" x=\"183\" y=\"-126.8\">gini = 0.025</text>\n",
       "<text font-family=\"Helvetica,sans-Serif\" font-size=\"14.00\" text-anchor=\"middle\" x=\"183\" y=\"-111.8\">samples = 781</text>\n",
       "<text font-family=\"Helvetica,sans-Serif\" font-size=\"14.00\" text-anchor=\"middle\" x=\"183\" y=\"-96.8\">value = [10, 771]</text>\n",
       "</g>\n",
       "<!-- 1&#45;&gt;2 -->\n",
       "<g class=\"edge\" id=\"edge2\"><title>1-&gt;2</title>\n",
       "<path d=\"M321.442,-192.884C301.38,-182.901 279.214,-171.872 258.608,-161.619\" fill=\"none\" stroke=\"black\"/>\n",
       "<polygon fill=\"black\" points=\"260.086,-158.446 249.574,-157.125 256.968,-164.713 260.086,-158.446\" stroke=\"black\"/>\n",
       "</g>\n",
       "<!-- 5 -->\n",
       "<g class=\"node\" id=\"node6\"><title>5</title>\n",
       "<path d=\"M426.5,-157C426.5,-157 349.5,-157 349.5,-157 343.5,-157 337.5,-151 337.5,-145 337.5,-145 337.5,-101 337.5,-101 337.5,-95 343.5,-89 349.5,-89 349.5,-89 426.5,-89 426.5,-89 432.5,-89 438.5,-95 438.5,-101 438.5,-101 438.5,-145 438.5,-145 438.5,-151 432.5,-157 426.5,-157\" fill=\"#f2c09c\" stroke=\"black\"/>\n",
       "<text font-family=\"Helvetica,sans-Serif\" font-size=\"14.00\" text-anchor=\"middle\" x=\"388\" y=\"-141.8\">year &lt;= 0.914</text>\n",
       "<text font-family=\"Helvetica,sans-Serif\" font-size=\"14.00\" text-anchor=\"middle\" x=\"388\" y=\"-126.8\">gini = 0.444</text>\n",
       "<text font-family=\"Helvetica,sans-Serif\" font-size=\"14.00\" text-anchor=\"middle\" x=\"388\" y=\"-111.8\">samples = 6</text>\n",
       "<text font-family=\"Helvetica,sans-Serif\" font-size=\"14.00\" text-anchor=\"middle\" x=\"388\" y=\"-96.8\">value = [4, 2]</text>\n",
       "</g>\n",
       "<!-- 1&#45;&gt;5 -->\n",
       "<g class=\"edge\" id=\"edge5\"><title>1-&gt;5</title>\n",
       "<path d=\"M388,-192.884C388,-184.778 388,-175.982 388,-167.472\" fill=\"none\" stroke=\"black\"/>\n",
       "<polygon fill=\"black\" points=\"391.5,-167.299 388,-157.299 384.5,-167.299 391.5,-167.299\" stroke=\"black\"/>\n",
       "</g>\n",
       "<!-- 3 -->\n",
       "<g class=\"node\" id=\"node4\"><title>3</title>\n",
       "<path d=\"M98,-53C98,-53 12,-53 12,-53 6,-53 0,-47 0,-41 0,-41 0,-12 0,-12 0,-6 6,-0 12,-0 12,-0 98,-0 98,-0 104,-0 110,-6 110,-12 110,-12 110,-41 110,-41 110,-47 104,-53 98,-53\" fill=\"#399de5\" stroke=\"black\"/>\n",
       "<text font-family=\"Helvetica,sans-Serif\" font-size=\"14.00\" text-anchor=\"middle\" x=\"55\" y=\"-37.8\">gini = 0.004</text>\n",
       "<text font-family=\"Helvetica,sans-Serif\" font-size=\"14.00\" text-anchor=\"middle\" x=\"55\" y=\"-22.8\">samples = 527</text>\n",
       "<text font-family=\"Helvetica,sans-Serif\" font-size=\"14.00\" text-anchor=\"middle\" x=\"55\" y=\"-7.8\">value = [1, 526]</text>\n",
       "</g>\n",
       "<!-- 2&#45;&gt;3 -->\n",
       "<g class=\"edge\" id=\"edge3\"><title>2-&gt;3</title>\n",
       "<path d=\"M138.232,-88.9485C125.221,-79.3431 111.042,-68.8747 98.134,-59.345\" fill=\"none\" stroke=\"black\"/>\n",
       "<polygon fill=\"black\" points=\"99.9842,-56.3605 89.8603,-53.2367 95.8265,-61.992 99.9842,-56.3605\" stroke=\"black\"/>\n",
       "</g>\n",
       "<!-- 4 -->\n",
       "<g class=\"node\" id=\"node5\"><title>4</title>\n",
       "<path d=\"M226,-53C226,-53 140,-53 140,-53 134,-53 128,-47 128,-41 128,-41 128,-12 128,-12 128,-6 134,-0 140,-0 140,-0 226,-0 226,-0 232,-0 238,-6 238,-12 238,-12 238,-41 238,-41 238,-47 232,-53 226,-53\" fill=\"#40a1e6\" stroke=\"black\"/>\n",
       "<text font-family=\"Helvetica,sans-Serif\" font-size=\"14.00\" text-anchor=\"middle\" x=\"183\" y=\"-37.8\">gini = 0.068</text>\n",
       "<text font-family=\"Helvetica,sans-Serif\" font-size=\"14.00\" text-anchor=\"middle\" x=\"183\" y=\"-22.8\">samples = 254</text>\n",
       "<text font-family=\"Helvetica,sans-Serif\" font-size=\"14.00\" text-anchor=\"middle\" x=\"183\" y=\"-7.8\">value = [9, 245]</text>\n",
       "</g>\n",
       "<!-- 2&#45;&gt;4 -->\n",
       "<g class=\"edge\" id=\"edge4\"><title>2-&gt;4</title>\n",
       "<path d=\"M183,-88.9485C183,-80.7153 183,-71.848 183,-63.4814\" fill=\"none\" stroke=\"black\"/>\n",
       "<polygon fill=\"black\" points=\"186.5,-63.2367 183,-53.2367 179.5,-63.2367 186.5,-63.2367\" stroke=\"black\"/>\n",
       "</g>\n",
       "<!-- 6 -->\n",
       "<g class=\"node\" id=\"node7\"><title>6</title>\n",
       "<path d=\"M339.5,-53C339.5,-53 268.5,-53 268.5,-53 262.5,-53 256.5,-47 256.5,-41 256.5,-41 256.5,-12 256.5,-12 256.5,-6 262.5,-0 268.5,-0 268.5,-0 339.5,-0 339.5,-0 345.5,-0 351.5,-6 351.5,-12 351.5,-12 351.5,-41 351.5,-41 351.5,-47 345.5,-53 339.5,-53\" fill=\"#e58139\" stroke=\"black\"/>\n",
       "<text font-family=\"Helvetica,sans-Serif\" font-size=\"14.00\" text-anchor=\"middle\" x=\"304\" y=\"-37.8\">gini = 0.0</text>\n",
       "<text font-family=\"Helvetica,sans-Serif\" font-size=\"14.00\" text-anchor=\"middle\" x=\"304\" y=\"-22.8\">samples = 4</text>\n",
       "<text font-family=\"Helvetica,sans-Serif\" font-size=\"14.00\" text-anchor=\"middle\" x=\"304\" y=\"-7.8\">value = [4, 0]</text>\n",
       "</g>\n",
       "<!-- 5&#45;&gt;6 -->\n",
       "<g class=\"edge\" id=\"edge6\"><title>5-&gt;6</title>\n",
       "<path d=\"M358.621,-88.9485C350.489,-79.8005 341.662,-69.8697 333.522,-60.7126\" fill=\"none\" stroke=\"black\"/>\n",
       "<polygon fill=\"black\" points=\"336.137,-58.3855 326.877,-53.2367 330.905,-63.0361 336.137,-58.3855\" stroke=\"black\"/>\n",
       "</g>\n",
       "<!-- 7 -->\n",
       "<g class=\"node\" id=\"node8\"><title>7</title>\n",
       "<path d=\"M452.5,-53C452.5,-53 381.5,-53 381.5,-53 375.5,-53 369.5,-47 369.5,-41 369.5,-41 369.5,-12 369.5,-12 369.5,-6 375.5,-0 381.5,-0 381.5,-0 452.5,-0 452.5,-0 458.5,-0 464.5,-6 464.5,-12 464.5,-12 464.5,-41 464.5,-41 464.5,-47 458.5,-53 452.5,-53\" fill=\"#399de5\" stroke=\"black\"/>\n",
       "<text font-family=\"Helvetica,sans-Serif\" font-size=\"14.00\" text-anchor=\"middle\" x=\"417\" y=\"-37.8\">gini = 0.0</text>\n",
       "<text font-family=\"Helvetica,sans-Serif\" font-size=\"14.00\" text-anchor=\"middle\" x=\"417\" y=\"-22.8\">samples = 2</text>\n",
       "<text font-family=\"Helvetica,sans-Serif\" font-size=\"14.00\" text-anchor=\"middle\" x=\"417\" y=\"-7.8\">value = [0, 2]</text>\n",
       "</g>\n",
       "<!-- 5&#45;&gt;7 -->\n",
       "<g class=\"edge\" id=\"edge7\"><title>5-&gt;7</title>\n",
       "<path d=\"M398.143,-88.9485C400.726,-80.5323 403.512,-71.4536 406.129,-62.9243\" fill=\"none\" stroke=\"black\"/>\n",
       "<polygon fill=\"black\" points=\"409.514,-63.8235 409.102,-53.2367 402.822,-61.7698 409.514,-63.8235\" stroke=\"black\"/>\n",
       "</g>\n",
       "<!-- 9 -->\n",
       "<g class=\"node\" id=\"node10\"><title>9</title>\n",
       "<path d=\"M632,-157C632,-157 492,-157 492,-157 486,-157 480,-151 480,-145 480,-145 480,-101 480,-101 480,-95 486,-89 492,-89 492,-89 632,-89 632,-89 638,-89 644,-95 644,-101 644,-101 644,-145 644,-145 644,-151 638,-157 632,-157\" fill=\"#e6843e\" stroke=\"black\"/>\n",
       "<text font-family=\"Helvetica,sans-Serif\" font-size=\"14.00\" text-anchor=\"middle\" x=\"562\" y=\"-141.8\">inflation_crises &lt;= 1.086</text>\n",
       "<text font-family=\"Helvetica,sans-Serif\" font-size=\"14.00\" text-anchor=\"middle\" x=\"562\" y=\"-126.8\">gini = 0.049</text>\n",
       "<text font-family=\"Helvetica,sans-Serif\" font-size=\"14.00\" text-anchor=\"middle\" x=\"562\" y=\"-111.8\">samples = 40</text>\n",
       "<text font-family=\"Helvetica,sans-Serif\" font-size=\"14.00\" text-anchor=\"middle\" x=\"562\" y=\"-96.8\">value = [39, 1]</text>\n",
       "</g>\n",
       "<!-- 8&#45;&gt;9 -->\n",
       "<g class=\"edge\" id=\"edge9\"><title>8-&gt;9</title>\n",
       "<path d=\"M562,-192.884C562,-184.778 562,-175.982 562,-167.472\" fill=\"none\" stroke=\"black\"/>\n",
       "<polygon fill=\"black\" points=\"565.5,-167.299 562,-157.299 558.5,-167.299 565.5,-167.299\" stroke=\"black\"/>\n",
       "</g>\n",
       "<!-- 12 -->\n",
       "<g class=\"node\" id=\"node13\"><title>12</title>\n",
       "<path d=\"M811.5,-157C811.5,-157 716.5,-157 716.5,-157 710.5,-157 704.5,-151 704.5,-145 704.5,-145 704.5,-101 704.5,-101 704.5,-95 710.5,-89 716.5,-89 716.5,-89 811.5,-89 811.5,-89 817.5,-89 823.5,-95 823.5,-101 823.5,-101 823.5,-145 823.5,-145 823.5,-151 817.5,-157 811.5,-157\" fill=\"#ea975c\" stroke=\"black\"/>\n",
       "<text font-family=\"Helvetica,sans-Serif\" font-size=\"14.00\" text-anchor=\"middle\" x=\"764\" y=\"-141.8\">country &lt;= 0.167</text>\n",
       "<text font-family=\"Helvetica,sans-Serif\" font-size=\"14.00\" text-anchor=\"middle\" x=\"764\" y=\"-126.8\">gini = 0.255</text>\n",
       "<text font-family=\"Helvetica,sans-Serif\" font-size=\"14.00\" text-anchor=\"middle\" x=\"764\" y=\"-111.8\">samples = 20</text>\n",
       "<text font-family=\"Helvetica,sans-Serif\" font-size=\"14.00\" text-anchor=\"middle\" x=\"764\" y=\"-96.8\">value = [17, 3]</text>\n",
       "</g>\n",
       "<!-- 8&#45;&gt;12 -->\n",
       "<g class=\"edge\" id=\"edge12\"><title>8-&gt;12</title>\n",
       "<path d=\"M613.234,-200.129C638.122,-187.562 668.385,-172.281 695.248,-158.716\" fill=\"none\" stroke=\"black\"/>\n",
       "<polygon fill=\"black\" points=\"696.866,-161.82 704.215,-154.189 693.711,-155.572 696.866,-161.82\" stroke=\"black\"/>\n",
       "</g>\n",
       "<!-- 10 -->\n",
       "<g class=\"node\" id=\"node11\"><title>10</title>\n",
       "<path d=\"M573,-53C573,-53 495,-53 495,-53 489,-53 483,-47 483,-41 483,-41 483,-12 483,-12 483,-6 489,-0 495,-0 495,-0 573,-0 573,-0 579,-0 585,-6 585,-12 585,-12 585,-41 585,-41 585,-47 579,-53 573,-53\" fill=\"#e58139\" stroke=\"black\"/>\n",
       "<text font-family=\"Helvetica,sans-Serif\" font-size=\"14.00\" text-anchor=\"middle\" x=\"534\" y=\"-37.8\">gini = 0.0</text>\n",
       "<text font-family=\"Helvetica,sans-Serif\" font-size=\"14.00\" text-anchor=\"middle\" x=\"534\" y=\"-22.8\">samples = 32</text>\n",
       "<text font-family=\"Helvetica,sans-Serif\" font-size=\"14.00\" text-anchor=\"middle\" x=\"534\" y=\"-7.8\">value = [32, 0]</text>\n",
       "</g>\n",
       "<!-- 9&#45;&gt;10 -->\n",
       "<g class=\"edge\" id=\"edge10\"><title>9-&gt;10</title>\n",
       "<path d=\"M552.207,-88.9485C549.713,-80.5323 547.023,-71.4536 544.496,-62.9243\" fill=\"none\" stroke=\"black\"/>\n",
       "<polygon fill=\"black\" points=\"547.822,-61.8304 541.626,-53.2367 541.111,-63.819 547.822,-61.8304\" stroke=\"black\"/>\n",
       "</g>\n",
       "<!-- 11 -->\n",
       "<g class=\"node\" id=\"node12\"><title>11</title>\n",
       "<path d=\"M686.5,-53C686.5,-53 615.5,-53 615.5,-53 609.5,-53 603.5,-47 603.5,-41 603.5,-41 603.5,-12 603.5,-12 603.5,-6 609.5,-0 615.5,-0 615.5,-0 686.5,-0 686.5,-0 692.5,-0 698.5,-6 698.5,-12 698.5,-12 698.5,-41 698.5,-41 698.5,-47 692.5,-53 686.5,-53\" fill=\"#e99355\" stroke=\"black\"/>\n",
       "<text font-family=\"Helvetica,sans-Serif\" font-size=\"14.00\" text-anchor=\"middle\" x=\"651\" y=\"-37.8\">gini = 0.219</text>\n",
       "<text font-family=\"Helvetica,sans-Serif\" font-size=\"14.00\" text-anchor=\"middle\" x=\"651\" y=\"-22.8\">samples = 8</text>\n",
       "<text font-family=\"Helvetica,sans-Serif\" font-size=\"14.00\" text-anchor=\"middle\" x=\"651\" y=\"-7.8\">value = [7, 1]</text>\n",
       "</g>\n",
       "<!-- 9&#45;&gt;11 -->\n",
       "<g class=\"edge\" id=\"edge11\"><title>9-&gt;11</title>\n",
       "<path d=\"M593.128,-88.9485C601.743,-79.8005 611.096,-69.8697 619.72,-60.7126\" fill=\"none\" stroke=\"black\"/>\n",
       "<polygon fill=\"black\" points=\"622.453,-62.9161 626.761,-53.2367 617.357,-58.1168 622.453,-62.9161\" stroke=\"black\"/>\n",
       "</g>\n",
       "<!-- 13 -->\n",
       "<g class=\"node\" id=\"node14\"><title>13</title>\n",
       "<path d=\"M799.5,-53C799.5,-53 728.5,-53 728.5,-53 722.5,-53 716.5,-47 716.5,-41 716.5,-41 716.5,-12 716.5,-12 716.5,-6 722.5,-0 728.5,-0 728.5,-0 799.5,-0 799.5,-0 805.5,-0 811.5,-6 811.5,-12 811.5,-12 811.5,-41 811.5,-41 811.5,-47 805.5,-53 799.5,-53\" fill=\"#7bbeee\" stroke=\"black\"/>\n",
       "<text font-family=\"Helvetica,sans-Serif\" font-size=\"14.00\" text-anchor=\"middle\" x=\"764\" y=\"-37.8\">gini = 0.375</text>\n",
       "<text font-family=\"Helvetica,sans-Serif\" font-size=\"14.00\" text-anchor=\"middle\" x=\"764\" y=\"-22.8\">samples = 4</text>\n",
       "<text font-family=\"Helvetica,sans-Serif\" font-size=\"14.00\" text-anchor=\"middle\" x=\"764\" y=\"-7.8\">value = [1, 3]</text>\n",
       "</g>\n",
       "<!-- 12&#45;&gt;13 -->\n",
       "<g class=\"edge\" id=\"edge13\"><title>12-&gt;13</title>\n",
       "<path d=\"M764,-88.9485C764,-80.7153 764,-71.848 764,-63.4814\" fill=\"none\" stroke=\"black\"/>\n",
       "<polygon fill=\"black\" points=\"767.5,-63.2367 764,-53.2367 760.5,-63.2367 767.5,-63.2367\" stroke=\"black\"/>\n",
       "</g>\n",
       "<!-- 14 -->\n",
       "<g class=\"node\" id=\"node15\"><title>14</title>\n",
       "<path d=\"M920,-53C920,-53 842,-53 842,-53 836,-53 830,-47 830,-41 830,-41 830,-12 830,-12 830,-6 836,-0 842,-0 842,-0 920,-0 920,-0 926,-0 932,-6 932,-12 932,-12 932,-41 932,-41 932,-47 926,-53 920,-53\" fill=\"#e58139\" stroke=\"black\"/>\n",
       "<text font-family=\"Helvetica,sans-Serif\" font-size=\"14.00\" text-anchor=\"middle\" x=\"881\" y=\"-37.8\">gini = 0.0</text>\n",
       "<text font-family=\"Helvetica,sans-Serif\" font-size=\"14.00\" text-anchor=\"middle\" x=\"881\" y=\"-22.8\">samples = 16</text>\n",
       "<text font-family=\"Helvetica,sans-Serif\" font-size=\"14.00\" text-anchor=\"middle\" x=\"881\" y=\"-7.8\">value = [16, 0]</text>\n",
       "</g>\n",
       "<!-- 12&#45;&gt;14 -->\n",
       "<g class=\"edge\" id=\"edge14\"><title>12-&gt;14</title>\n",
       "<path d=\"M804.921,-88.9485C816.7,-79.4346 829.527,-69.074 841.235,-59.6175\" fill=\"none\" stroke=\"black\"/>\n",
       "<polygon fill=\"black\" points=\"843.555,-62.2429 849.136,-53.2367 839.157,-56.7973 843.555,-62.2429\" stroke=\"black\"/>\n",
       "</g>\n",
       "</g>\n",
       "</svg>"
      ],
      "text/plain": [
       "<IPython.core.display.SVG object>"
      ]
     },
     "metadata": {},
     "output_type": "display_data"
    }
   ],
   "source": [
    "fet=['case','country','year','systemic_crisis','exch_usd','domestic_debt_in_default','sovereign_external_debt_default','inflation_annual_cpi','independence','currency_crises','inflation_crises']\n",
    "\n",
    "from sklearn.tree import export_graphviz\n",
    "from sklearn import tree\n",
    "from graphviz import Source\n",
    "from IPython.display import SVG\n",
    "from IPython.display import display\n",
    "\n",
    "graph = Source(tree.export_graphviz(dt3, out_file=None, feature_names=fet, filled = True,rounded=True))\n",
    "\n",
    "\n",
    "display(SVG(graph.pipe(format='svg')))\n"
   ]
  },
  {
   "cell_type": "code",
   "execution_count": 40,
   "metadata": {},
   "outputs": [
    {
     "data": {
      "image/png": "[encoded data removed]",
      "text/plain": [
       "<Figure size 432x288 with 1 Axes>"
      ]
     },
     "metadata": {
      "needs_background": "light"
     },
     "output_type": "display_data"
    }
   ],
   "source": [
    "plt.scatter(y_test,pred3)\n",
    "plt.xlabel('Values')\n",
    "plt.ylabel('pred3')\n",
    "plt.show()"
   ]
  },
  {
   "cell_type": "markdown",
   "metadata": {},
   "source": [
    "## RANDOM FOREST ACC TO TRAIN TEST DATA"
   ]
  },
  {
   "cell_type": "code",
   "execution_count": 41,
   "metadata": {},
   "outputs": [
    {
     "data": {
      "text/plain": [
       "array([1, 0, 1, 1, 1, 1, 1, 1, 1, 1, 0, 1, 1, 1, 1, 1, 1, 0, 1, 1, 1, 1,\n",
       "       1, 1, 1, 1, 0, 1, 0, 1, 1, 1, 1, 1, 1, 1, 1, 1, 1, 0, 1, 1, 1, 1,\n",
       "       1, 1, 1, 1, 1, 1, 1, 1, 1, 1, 1, 1, 1, 1, 1, 1, 1, 1, 1, 1, 1, 0,\n",
       "       1, 1, 1, 1, 1, 1, 1, 1, 1, 1, 1, 1, 1, 1, 0, 1, 1, 1, 1, 1, 1, 1,\n",
       "       1, 1, 1, 1, 1, 1, 1, 1, 1, 1, 1, 0, 1, 0, 1, 1, 0, 1, 1, 1, 0, 1,\n",
       "       1, 1, 1, 1, 1, 1, 0, 1, 1, 1, 0, 1, 1, 1, 1, 1, 1, 0, 1, 1, 1, 0,\n",
       "       1, 1, 1, 1, 1, 1, 1, 1, 1, 0, 1, 1, 1, 1, 1, 1, 0, 1, 1, 1, 0, 1,\n",
       "       1, 1, 1, 1, 1, 1, 1, 1, 1, 1, 1, 1, 1, 1, 0, 1, 1, 1, 0, 1, 1, 1,\n",
       "       0, 1, 1, 1, 1, 1, 1, 1, 1, 1, 1, 1, 1, 1, 0, 1, 1, 1, 1, 1, 1, 1,\n",
       "       1, 1, 1, 1, 1, 1, 1, 1, 1, 1, 1, 1, 1, 1])"
      ]
     },
     "execution_count": 41,
     "metadata": {},
     "output_type": "execute_result"
    }
   ],
   "source": [
    "from sklearn.ensemble import RandomForestClassifier\n",
    "model1 = RandomForestClassifier(n_estimators=5, random_state=50,criterion='entropy',max_depth=4)\n",
    "\n",
    "model1.fit(x_train, y_train)\n",
    "pred1=model1.predict(x_test)\n",
    "pred1"
   ]
  },
  {
   "cell_type": "code",
   "execution_count": 42,
   "metadata": {},
   "outputs": [
    {
     "data": {
      "image/svg+xml": [
       "<svg height=\"477pt\" viewBox=\"0.00 0.00 932.00 477.00\" width=\"932pt\" xmlns=\"http://www.w3.org/2000/svg\" xmlns:xlink=\"http://www.w3.org/1999/xlink\">\n",
       "<g class=\"graph\" id=\"graph0\" transform=\"scale(1 1) rotate(0) translate(4 473)\">\n",
       "<title>Tree</title>\n",
       "<polygon fill=\"white\" points=\"-4,4 -4,-473 928,-473 928,4 -4,4\" stroke=\"none\"/>\n",
       "<!-- 0 -->\n",
       "<g class=\"node\" id=\"node1\"><title>0</title>\n",
       "<polygon fill=\"#47a4e7\" points=\"491.5,-469 350.5,-469 350.5,-401 491.5,-401 491.5,-469\" stroke=\"black\"/>\n",
       "<text font-family=\"Times,serif\" font-size=\"14.00\" text-anchor=\"middle\" x=\"421\" y=\"-453.8\">inflation_crises &lt;= 0.5</text>\n",
       "<text font-family=\"Times,serif\" font-size=\"14.00\" text-anchor=\"middle\" x=\"421\" y=\"-438.8\">entropy = 0.351</text>\n",
       "<text font-family=\"Times,serif\" font-size=\"14.00\" text-anchor=\"middle\" x=\"421\" y=\"-423.8\">samples = 530</text>\n",
       "<text font-family=\"Times,serif\" font-size=\"14.00\" text-anchor=\"middle\" x=\"421\" y=\"-408.8\">value = [56, 791]</text>\n",
       "</g>\n",
       "<!-- 1 -->\n",
       "<g class=\"node\" id=\"node2\"><title>1</title>\n",
       "<polygon fill=\"#43a2e6\" points=\"402,-365 290,-365 290,-297 402,-297 402,-365\" stroke=\"black\"/>\n",
       "<text font-family=\"Times,serif\" font-size=\"14.00\" text-anchor=\"middle\" x=\"346\" y=\"-349.8\">year &lt;= 1975.5</text>\n",
       "<text font-family=\"Times,serif\" font-size=\"14.00\" text-anchor=\"middle\" x=\"346\" y=\"-334.8\">entropy = 0.278</text>\n",
       "<text font-family=\"Times,serif\" font-size=\"14.00\" text-anchor=\"middle\" x=\"346\" y=\"-319.8\">samples = 473</text>\n",
       "<text font-family=\"Times,serif\" font-size=\"14.00\" text-anchor=\"middle\" x=\"346\" y=\"-304.8\">value = [36, 715]</text>\n",
       "</g>\n",
       "<!-- 0&#45;&gt;1 -->\n",
       "<g class=\"edge\" id=\"edge1\"><title>0-&gt;1</title>\n",
       "<path d=\"M396.65,-400.884C390.231,-392.154 383.224,-382.625 376.525,-373.514\" fill=\"none\" stroke=\"black\"/>\n",
       "<polygon fill=\"black\" points=\"379.229,-371.283 370.485,-365.299 373.589,-375.429 379.229,-371.283\" stroke=\"black\"/>\n",
       "<text font-family=\"Times,serif\" font-size=\"14.00\" text-anchor=\"middle\" x=\"366.715\" y=\"-386.313\">True</text>\n",
       "</g>\n",
       "<!-- 10 -->\n",
       "<g class=\"node\" id=\"node11\"><title>10</title>\n",
       "<polygon fill=\"#6db7ec\" points=\"549.5,-365 444.5,-365 444.5,-297 549.5,-297 549.5,-365\" stroke=\"black\"/>\n",
       "<text font-family=\"Times,serif\" font-size=\"14.00\" text-anchor=\"middle\" x=\"497\" y=\"-349.8\">year &lt;= 1991.5</text>\n",
       "<text font-family=\"Times,serif\" font-size=\"14.00\" text-anchor=\"middle\" x=\"497\" y=\"-334.8\">entropy = 0.738</text>\n",
       "<text font-family=\"Times,serif\" font-size=\"14.00\" text-anchor=\"middle\" x=\"497\" y=\"-319.8\">samples = 57</text>\n",
       "<text font-family=\"Times,serif\" font-size=\"14.00\" text-anchor=\"middle\" x=\"497\" y=\"-304.8\">value = [20, 76]</text>\n",
       "</g>\n",
       "<!-- 0&#45;&gt;10 -->\n",
       "<g class=\"edge\" id=\"edge10\"><title>0-&gt;10</title>\n",
       "<path d=\"M445.675,-400.884C452.179,-392.154 459.28,-382.625 466.068,-373.514\" fill=\"none\" stroke=\"black\"/>\n",
       "<polygon fill=\"black\" points=\"469.02,-375.409 472.189,-365.299 463.407,-371.227 469.02,-375.409\" stroke=\"black\"/>\n",
       "<text font-family=\"Times,serif\" font-size=\"14.00\" text-anchor=\"middle\" x=\"475.802\" y=\"-386.337\">False</text>\n",
       "</g>\n",
       "<!-- 2 -->\n",
       "<g class=\"node\" id=\"node3\"><title>2</title>\n",
       "<polygon fill=\"#399de5\" points=\"257.5,-253.5 152.5,-253.5 152.5,-200.5 257.5,-200.5 257.5,-253.5\" stroke=\"black\"/>\n",
       "<text font-family=\"Times,serif\" font-size=\"14.00\" text-anchor=\"middle\" x=\"205\" y=\"-238.3\">entropy = 0.0</text>\n",
       "<text font-family=\"Times,serif\" font-size=\"14.00\" text-anchor=\"middle\" x=\"205\" y=\"-223.3\">samples = 272</text>\n",
       "<text font-family=\"Times,serif\" font-size=\"14.00\" text-anchor=\"middle\" x=\"205\" y=\"-208.3\">value = [0, 436]</text>\n",
       "</g>\n",
       "<!-- 1&#45;&gt;2 -->\n",
       "<g class=\"edge\" id=\"edge2\"><title>1-&gt;2</title>\n",
       "<path d=\"M300.221,-296.884C283.65,-284.896 264.992,-271.399 248.612,-259.549\" fill=\"none\" stroke=\"black\"/>\n",
       "<polygon fill=\"black\" points=\"250.431,-256.545 240.278,-253.52 246.328,-262.217 250.431,-256.545\" stroke=\"black\"/>\n",
       "</g>\n",
       "<!-- 3 -->\n",
       "<g class=\"node\" id=\"node4\"><title>3</title>\n",
       "<polygon fill=\"#53aae8\" points=\"416.5,-261 275.5,-261 275.5,-193 416.5,-193 416.5,-261\" stroke=\"black\"/>\n",
       "<text font-family=\"Times,serif\" font-size=\"14.00\" text-anchor=\"middle\" x=\"346\" y=\"-245.8\">systemic_crisis &lt;= 0.5</text>\n",
       "<text font-family=\"Times,serif\" font-size=\"14.00\" text-anchor=\"middle\" x=\"346\" y=\"-230.8\">entropy = 0.513</text>\n",
       "<text font-family=\"Times,serif\" font-size=\"14.00\" text-anchor=\"middle\" x=\"346\" y=\"-215.8\">samples = 201</text>\n",
       "<text font-family=\"Times,serif\" font-size=\"14.00\" text-anchor=\"middle\" x=\"346\" y=\"-200.8\">value = [36, 279]</text>\n",
       "</g>\n",
       "<!-- 1&#45;&gt;3 -->\n",
       "<g class=\"edge\" id=\"edge3\"><title>1-&gt;3</title>\n",
       "<path d=\"M346,-296.884C346,-288.778 346,-279.982 346,-271.472\" fill=\"none\" stroke=\"black\"/>\n",
       "<polygon fill=\"black\" points=\"349.5,-271.299 346,-261.299 342.5,-271.299 349.5,-271.299\" stroke=\"black\"/>\n",
       "</g>\n",
       "<!-- 4 -->\n",
       "<g class=\"node\" id=\"node5\"><title>4</title>\n",
       "<polygon fill=\"#3d9fe5\" points=\"236,-157 114,-157 114,-89 236,-89 236,-157\" stroke=\"black\"/>\n",
       "<text font-family=\"Times,serif\" font-size=\"14.00\" text-anchor=\"middle\" x=\"175\" y=\"-141.8\">exch_usd &lt;= 3.336</text>\n",
       "<text font-family=\"Times,serif\" font-size=\"14.00\" text-anchor=\"middle\" x=\"175\" y=\"-126.8\">entropy = 0.129</text>\n",
       "<text font-family=\"Times,serif\" font-size=\"14.00\" text-anchor=\"middle\" x=\"175\" y=\"-111.8\">samples = 178</text>\n",
       "<text font-family=\"Times,serif\" font-size=\"14.00\" text-anchor=\"middle\" x=\"175\" y=\"-96.8\">value = [5, 276]</text>\n",
       "</g>\n",
       "<!-- 3&#45;&gt;4 -->\n",
       "<g class=\"edge\" id=\"edge4\"><title>3-&gt;4</title>\n",
       "<path d=\"M290.481,-192.884C274.121,-183.125 256.084,-172.366 239.226,-162.31\" fill=\"none\" stroke=\"black\"/>\n",
       "<polygon fill=\"black\" points=\"240.914,-159.242 230.533,-157.125 237.328,-165.253 240.914,-159.242\" stroke=\"black\"/>\n",
       "</g>\n",
       "<!-- 7 -->\n",
       "<g class=\"node\" id=\"node8\"><title>7</title>\n",
       "<polygon fill=\"#e88d4c\" points=\"410.5,-157 281.5,-157 281.5,-89 410.5,-89 410.5,-157\" stroke=\"black\"/>\n",
       "<text font-family=\"Times,serif\" font-size=\"14.00\" text-anchor=\"middle\" x=\"346\" y=\"-141.8\">exch_usd &lt;= 58.922</text>\n",
       "<text font-family=\"Times,serif\" font-size=\"14.00\" text-anchor=\"middle\" x=\"346\" y=\"-126.8\">entropy = 0.431</text>\n",
       "<text font-family=\"Times,serif\" font-size=\"14.00\" text-anchor=\"middle\" x=\"346\" y=\"-111.8\">samples = 23</text>\n",
       "<text font-family=\"Times,serif\" font-size=\"14.00\" text-anchor=\"middle\" x=\"346\" y=\"-96.8\">value = [31, 3]</text>\n",
       "</g>\n",
       "<!-- 3&#45;&gt;7 -->\n",
       "<g class=\"edge\" id=\"edge7\"><title>3-&gt;7</title>\n",
       "<path d=\"M346,-192.884C346,-184.778 346,-175.982 346,-167.472\" fill=\"none\" stroke=\"black\"/>\n",
       "<polygon fill=\"black\" points=\"349.5,-167.299 346,-157.299 342.5,-167.299 349.5,-167.299\" stroke=\"black\"/>\n",
       "</g>\n",
       "<!-- 5 -->\n",
       "<g class=\"node\" id=\"node6\"><title>5</title>\n",
       "<polygon fill=\"#46a3e7\" points=\"104,-53 0,-53 0,-0 104,-0 104,-53\" stroke=\"black\"/>\n",
       "<text font-family=\"Times,serif\" font-size=\"14.00\" text-anchor=\"middle\" x=\"52\" y=\"-37.8\">entropy = 0.331</text>\n",
       "<text font-family=\"Times,serif\" font-size=\"14.00\" text-anchor=\"middle\" x=\"52\" y=\"-22.8\">samples = 47</text>\n",
       "<text font-family=\"Times,serif\" font-size=\"14.00\" text-anchor=\"middle\" x=\"52\" y=\"-7.8\">value = [5, 77]</text>\n",
       "</g>\n",
       "<!-- 4&#45;&gt;5 -->\n",
       "<g class=\"edge\" id=\"edge5\"><title>4-&gt;5</title>\n",
       "<path d=\"M131.981,-88.9485C119.478,-79.3431 105.853,-68.8747 93.449,-59.345\" fill=\"none\" stroke=\"black\"/>\n",
       "<polygon fill=\"black\" points=\"95.5608,-56.5537 85.4986,-53.2367 91.2961,-62.1046 95.5608,-56.5537\" stroke=\"black\"/>\n",
       "</g>\n",
       "<!-- 6 -->\n",
       "<g class=\"node\" id=\"node7\"><title>6</title>\n",
       "<polygon fill=\"#399de5\" points=\"227.5,-53 122.5,-53 122.5,-0 227.5,-0 227.5,-53\" stroke=\"black\"/>\n",
       "<text font-family=\"Times,serif\" font-size=\"14.00\" text-anchor=\"middle\" x=\"175\" y=\"-37.8\">entropy = 0.0</text>\n",
       "<text font-family=\"Times,serif\" font-size=\"14.00\" text-anchor=\"middle\" x=\"175\" y=\"-22.8\">samples = 131</text>\n",
       "<text font-family=\"Times,serif\" font-size=\"14.00\" text-anchor=\"middle\" x=\"175\" y=\"-7.8\">value = [0, 199]</text>\n",
       "</g>\n",
       "<!-- 4&#45;&gt;6 -->\n",
       "<g class=\"edge\" id=\"edge6\"><title>4-&gt;6</title>\n",
       "<path d=\"M175,-88.9485C175,-80.7153 175,-71.848 175,-63.4814\" fill=\"none\" stroke=\"black\"/>\n",
       "<polygon fill=\"black\" points=\"178.5,-63.2367 175,-53.2367 171.5,-63.2367 178.5,-63.2367\" stroke=\"black\"/>\n",
       "</g>\n",
       "<!-- 8 -->\n",
       "<g class=\"node\" id=\"node9\"><title>8</title>\n",
       "<polygon fill=\"#e58139\" points=\"344,-53 246,-53 246,-0 344,-0 344,-53\" stroke=\"black\"/>\n",
       "<text font-family=\"Times,serif\" font-size=\"14.00\" text-anchor=\"middle\" x=\"295\" y=\"-37.8\">entropy = 0.0</text>\n",
       "<text font-family=\"Times,serif\" font-size=\"14.00\" text-anchor=\"middle\" x=\"295\" y=\"-22.8\">samples = 10</text>\n",
       "<text font-family=\"Times,serif\" font-size=\"14.00\" text-anchor=\"middle\" x=\"295\" y=\"-7.8\">value = [17, 0]</text>\n",
       "</g>\n",
       "<!-- 7&#45;&gt;8 -->\n",
       "<g class=\"edge\" id=\"edge8\"><title>7-&gt;8</title>\n",
       "<path d=\"M328.163,-88.9485C323.473,-80.2579 318.401,-70.8608 313.669,-62.0917\" fill=\"none\" stroke=\"black\"/>\n",
       "<polygon fill=\"black\" points=\"316.719,-60.3747 308.89,-53.2367 310.559,-63.6992 316.719,-60.3747\" stroke=\"black\"/>\n",
       "</g>\n",
       "<!-- 9 -->\n",
       "<g class=\"node\" id=\"node10\"><title>9</title>\n",
       "<polygon fill=\"#eb9c63\" points=\"466,-53 362,-53 362,-0 466,-0 466,-53\" stroke=\"black\"/>\n",
       "<text font-family=\"Times,serif\" font-size=\"14.00\" text-anchor=\"middle\" x=\"414\" y=\"-37.8\">entropy = 0.672</text>\n",
       "<text font-family=\"Times,serif\" font-size=\"14.00\" text-anchor=\"middle\" x=\"414\" y=\"-22.8\">samples = 13</text>\n",
       "<text font-family=\"Times,serif\" font-size=\"14.00\" text-anchor=\"middle\" x=\"414\" y=\"-7.8\">value = [14, 3]</text>\n",
       "</g>\n",
       "<!-- 7&#45;&gt;9 -->\n",
       "<g class=\"edge\" id=\"edge9\"><title>7-&gt;9</title>\n",
       "<path d=\"M369.783,-88.9485C376.168,-80.0749 383.084,-70.4648 389.507,-61.5388\" fill=\"none\" stroke=\"black\"/>\n",
       "<polygon fill=\"black\" points=\"392.481,-63.398 395.48,-53.2367 386.799,-59.3094 392.481,-63.398\" stroke=\"black\"/>\n",
       "</g>\n",
       "<!-- 11 -->\n",
       "<g class=\"node\" id=\"node12\"><title>11</title>\n",
       "<polygon fill=\"#399de5\" points=\"546,-253.5 448,-253.5 448,-200.5 546,-200.5 546,-253.5\" stroke=\"black\"/>\n",
       "<text font-family=\"Times,serif\" font-size=\"14.00\" text-anchor=\"middle\" x=\"497\" y=\"-238.3\">entropy = 0.0</text>\n",
       "<text font-family=\"Times,serif\" font-size=\"14.00\" text-anchor=\"middle\" x=\"497\" y=\"-223.3\">samples = 34</text>\n",
       "<text font-family=\"Times,serif\" font-size=\"14.00\" text-anchor=\"middle\" x=\"497\" y=\"-208.3\">value = [0, 56]</text>\n",
       "</g>\n",
       "<!-- 10&#45;&gt;11 -->\n",
       "<g class=\"edge\" id=\"edge11\"><title>10-&gt;11</title>\n",
       "<path d=\"M497,-296.884C497,-286.326 497,-274.597 497,-263.854\" fill=\"none\" stroke=\"black\"/>\n",
       "<polygon fill=\"black\" points=\"500.5,-263.52 497,-253.52 493.5,-263.52 500.5,-263.52\" stroke=\"black\"/>\n",
       "</g>\n",
       "<!-- 12 -->\n",
       "<g class=\"node\" id=\"node13\"><title>12</title>\n",
       "<polygon fill=\"#ffffff\" points=\"676.5,-261 571.5,-261 571.5,-193 676.5,-193 676.5,-261\" stroke=\"black\"/>\n",
       "<text font-family=\"Times,serif\" font-size=\"14.00\" text-anchor=\"middle\" x=\"624\" y=\"-245.8\">year &lt;= 1999.5</text>\n",
       "<text font-family=\"Times,serif\" font-size=\"14.00\" text-anchor=\"middle\" x=\"624\" y=\"-230.8\">entropy = 1.0</text>\n",
       "<text font-family=\"Times,serif\" font-size=\"14.00\" text-anchor=\"middle\" x=\"624\" y=\"-215.8\">samples = 23</text>\n",
       "<text font-family=\"Times,serif\" font-size=\"14.00\" text-anchor=\"middle\" x=\"624\" y=\"-200.8\">value = [20, 20]</text>\n",
       "</g>\n",
       "<!-- 10&#45;&gt;12 -->\n",
       "<g class=\"edge\" id=\"edge12\"><title>10-&gt;12</title>\n",
       "<path d=\"M538.233,-296.884C549.878,-287.531 562.667,-277.259 574.734,-267.568\" fill=\"none\" stroke=\"black\"/>\n",
       "<polygon fill=\"black\" points=\"576.934,-270.29 582.539,-261.299 572.551,-264.832 576.934,-270.29\" stroke=\"black\"/>\n",
       "</g>\n",
       "<!-- 13 -->\n",
       "<g class=\"node\" id=\"node14\"><title>13</title>\n",
       "<polygon fill=\"#f2c09c\" points=\"676,-157 572,-157 572,-89 676,-89 676,-157\" stroke=\"black\"/>\n",
       "<text font-family=\"Times,serif\" font-size=\"14.00\" text-anchor=\"middle\" x=\"624\" y=\"-141.8\">year &lt;= 1995.5</text>\n",
       "<text font-family=\"Times,serif\" font-size=\"14.00\" text-anchor=\"middle\" x=\"624\" y=\"-126.8\">entropy = 0.918</text>\n",
       "<text font-family=\"Times,serif\" font-size=\"14.00\" text-anchor=\"middle\" x=\"624\" y=\"-111.8\">samples = 17</text>\n",
       "<text font-family=\"Times,serif\" font-size=\"14.00\" text-anchor=\"middle\" x=\"624\" y=\"-96.8\">value = [18, 9]</text>\n",
       "</g>\n",
       "<!-- 12&#45;&gt;13 -->\n",
       "<g class=\"edge\" id=\"edge13\"><title>12-&gt;13</title>\n",
       "<path d=\"M624,-192.884C624,-184.778 624,-175.982 624,-167.472\" fill=\"none\" stroke=\"black\"/>\n",
       "<polygon fill=\"black\" points=\"627.5,-167.299 624,-157.299 620.5,-167.299 627.5,-167.299\" stroke=\"black\"/>\n",
       "</g>\n",
       "<!-- 16 -->\n",
       "<g class=\"node\" id=\"node17\"><title>16</title>\n",
       "<polygon fill=\"#5dafea\" points=\"823,-157 701,-157 701,-89 823,-89 823,-157\" stroke=\"black\"/>\n",
       "<text font-family=\"Times,serif\" font-size=\"14.00\" text-anchor=\"middle\" x=\"762\" y=\"-141.8\">exch_usd &lt;= 2.225</text>\n",
       "<text font-family=\"Times,serif\" font-size=\"14.00\" text-anchor=\"middle\" x=\"762\" y=\"-126.8\">entropy = 0.619</text>\n",
       "<text font-family=\"Times,serif\" font-size=\"14.00\" text-anchor=\"middle\" x=\"762\" y=\"-111.8\">samples = 6</text>\n",
       "<text font-family=\"Times,serif\" font-size=\"14.00\" text-anchor=\"middle\" x=\"762\" y=\"-96.8\">value = [2, 11]</text>\n",
       "</g>\n",
       "<!-- 12&#45;&gt;16 -->\n",
       "<g class=\"edge\" id=\"edge16\"><title>12-&gt;16</title>\n",
       "<path d=\"M668.805,-192.884C681.579,-183.442 695.62,-173.064 708.841,-163.292\" fill=\"none\" stroke=\"black\"/>\n",
       "<polygon fill=\"black\" points=\"710.987,-166.058 716.948,-157.299 706.826,-160.429 710.987,-166.058\" stroke=\"black\"/>\n",
       "</g>\n",
       "<!-- 14 -->\n",
       "<g class=\"node\" id=\"node15\"><title>14</title>\n",
       "<polygon fill=\"#fae8db\" points=\"588,-53 484,-53 484,-0 588,-0 588,-53\" stroke=\"black\"/>\n",
       "<text font-family=\"Times,serif\" font-size=\"14.00\" text-anchor=\"middle\" x=\"536\" y=\"-37.8\">entropy = 0.993</text>\n",
       "<text font-family=\"Times,serif\" font-size=\"14.00\" text-anchor=\"middle\" x=\"536\" y=\"-22.8\">samples = 12</text>\n",
       "<text font-family=\"Times,serif\" font-size=\"14.00\" text-anchor=\"middle\" x=\"536\" y=\"-7.8\">value = [11, 9]</text>\n",
       "</g>\n",
       "<!-- 13&#45;&gt;14 -->\n",
       "<g class=\"edge\" id=\"edge14\"><title>13-&gt;14</title>\n",
       "<path d=\"M593.222,-88.9485C584.703,-79.8005 575.455,-69.8697 566.928,-60.7126\" fill=\"none\" stroke=\"black\"/>\n",
       "<polygon fill=\"black\" points=\"569.343,-58.1698 559.966,-53.2367 564.22,-62.9402 569.343,-58.1698\" stroke=\"black\"/>\n",
       "</g>\n",
       "<!-- 15 -->\n",
       "<g class=\"node\" id=\"node16\"><title>15</title>\n",
       "<polygon fill=\"#e58139\" points=\"698,-53 606,-53 606,-0 698,-0 698,-53\" stroke=\"black\"/>\n",
       "<text font-family=\"Times,serif\" font-size=\"14.00\" text-anchor=\"middle\" x=\"652\" y=\"-37.8\">entropy = 0.0</text>\n",
       "<text font-family=\"Times,serif\" font-size=\"14.00\" text-anchor=\"middle\" x=\"652\" y=\"-22.8\">samples = 5</text>\n",
       "<text font-family=\"Times,serif\" font-size=\"14.00\" text-anchor=\"middle\" x=\"652\" y=\"-7.8\">value = [7, 0]</text>\n",
       "</g>\n",
       "<!-- 13&#45;&gt;15 -->\n",
       "<g class=\"edge\" id=\"edge15\"><title>13-&gt;15</title>\n",
       "<path d=\"M633.793,-88.9485C636.287,-80.5323 638.977,-71.4536 641.504,-62.9243\" fill=\"none\" stroke=\"black\"/>\n",
       "<polygon fill=\"black\" points=\"644.889,-63.819 644.374,-53.2367 638.178,-61.8304 644.889,-63.819\" stroke=\"black\"/>\n",
       "</g>\n",
       "<!-- 17 -->\n",
       "<g class=\"node\" id=\"node18\"><title>17</title>\n",
       "<polygon fill=\"#e58139\" points=\"808,-53 716,-53 716,-0 808,-0 808,-53\" stroke=\"black\"/>\n",
       "<text font-family=\"Times,serif\" font-size=\"14.00\" text-anchor=\"middle\" x=\"762\" y=\"-37.8\">entropy = 0.0</text>\n",
       "<text font-family=\"Times,serif\" font-size=\"14.00\" text-anchor=\"middle\" x=\"762\" y=\"-22.8\">samples = 1</text>\n",
       "<text font-family=\"Times,serif\" font-size=\"14.00\" text-anchor=\"middle\" x=\"762\" y=\"-7.8\">value = [2, 0]</text>\n",
       "</g>\n",
       "<!-- 16&#45;&gt;17 -->\n",
       "<g class=\"edge\" id=\"edge17\"><title>16-&gt;17</title>\n",
       "<path d=\"M762,-88.9485C762,-80.7153 762,-71.848 762,-63.4814\" fill=\"none\" stroke=\"black\"/>\n",
       "<polygon fill=\"black\" points=\"765.5,-63.2367 762,-53.2367 758.5,-63.2367 765.5,-63.2367\" stroke=\"black\"/>\n",
       "</g>\n",
       "<!-- 18 -->\n",
       "<g class=\"node\" id=\"node19\"><title>18</title>\n",
       "<polygon fill=\"#399de5\" points=\"924,-53 826,-53 826,-0 924,-0 924,-53\" stroke=\"black\"/>\n",
       "<text font-family=\"Times,serif\" font-size=\"14.00\" text-anchor=\"middle\" x=\"875\" y=\"-37.8\">entropy = 0.0</text>\n",
       "<text font-family=\"Times,serif\" font-size=\"14.00\" text-anchor=\"middle\" x=\"875\" y=\"-22.8\">samples = 5</text>\n",
       "<text font-family=\"Times,serif\" font-size=\"14.00\" text-anchor=\"middle\" x=\"875\" y=\"-7.8\">value = [0, 11]</text>\n",
       "</g>\n",
       "<!-- 16&#45;&gt;18 -->\n",
       "<g class=\"edge\" id=\"edge18\"><title>16-&gt;18</title>\n",
       "<path d=\"M801.522,-88.9485C812.789,-79.526 825.049,-69.2731 836.268,-59.8906\" fill=\"none\" stroke=\"black\"/>\n",
       "<polygon fill=\"black\" points=\"838.799,-62.3368 844.225,-53.2367 834.308,-56.967 838.799,-62.3368\" stroke=\"black\"/>\n",
       "</g>\n",
       "</g>\n",
       "</svg>"
      ],
      "text/plain": [
       "<IPython.core.display.SVG object>"
      ]
     },
     "metadata": {},
     "output_type": "display_data"
    }
   ],
   "source": [
    "estimators=model1.estimators_[3]\n",
    "labels=['case','country','year','systemic_crisis','exch_usd','domestic_debt_in_default','sovereign_external_debt_default','inflation_annual_cpi','independence','currency_crises','inflation_crises']\n",
    "from sklearn import tree\n",
    "from graphviz import Source\n",
    "from IPython.display import SVG\n",
    "from IPython.display import display\n",
    "\n",
    "graph = Source(tree.export_graphviz(estimators, out_file=None\n",
    "   , feature_names=labels\n",
    "   , filled = True))\n",
    "display(SVG(graph.pipe(format='svg')))\n"
   ]
  },
  {
   "cell_type": "code",
   "execution_count": 43,
   "metadata": {},
   "outputs": [
    {
     "data": {
      "image/png": "[encoded data removed]",
      "text/plain": [
       "<Figure size 432x288 with 1 Axes>"
      ]
     },
     "metadata": {
      "needs_background": "light"
     },
     "output_type": "display_data"
    }
   ],
   "source": [
    "sns.distplot((y_test-pred1),bins=50)\n",
    "plt.show()"
   ]
  },
  {
   "cell_type": "markdown",
   "metadata": {},
   "source": [
    "## RANDOM FOREST ACC TO MIN MAX SCALAR"
   ]
  },
  {
   "cell_type": "code",
   "execution_count": 44,
   "metadata": {},
   "outputs": [
    {
     "data": {
      "text/plain": [
       "array([1, 0, 1, 1, 1, 1, 1, 1, 1, 1, 0, 1, 1, 1, 1, 1, 1, 0, 1, 1, 1, 1,\n",
       "       1, 1, 1, 1, 0, 1, 0, 1, 1, 1, 1, 1, 1, 1, 1, 1, 1, 0, 1, 1, 1, 1,\n",
       "       1, 1, 1, 1, 1, 1, 1, 1, 1, 1, 1, 1, 1, 1, 1, 1, 1, 1, 1, 1, 1, 0,\n",
       "       1, 1, 1, 1, 1, 1, 1, 1, 1, 1, 1, 1, 1, 1, 0, 1, 1, 1, 1, 1, 1, 1,\n",
       "       1, 1, 1, 1, 1, 1, 1, 1, 1, 1, 1, 0, 1, 0, 1, 1, 1, 1, 1, 1, 0, 1,\n",
       "       1, 1, 1, 1, 1, 1, 0, 1, 1, 1, 0, 1, 1, 1, 1, 1, 1, 0, 1, 1, 1, 0,\n",
       "       1, 1, 1, 1, 1, 1, 1, 1, 1, 0, 1, 1, 1, 1, 1, 1, 0, 1, 1, 1, 0, 1,\n",
       "       1, 1, 1, 1, 1, 1, 1, 1, 1, 1, 1, 1, 1, 1, 0, 1, 1, 1, 0, 1, 1, 1,\n",
       "       0, 1, 1, 1, 1, 1, 1, 1, 1, 1, 1, 1, 1, 1, 0, 1, 1, 1, 1, 1, 1, 1,\n",
       "       1, 1, 1, 1, 1, 1, 1, 1, 1, 1, 1, 1, 1, 1])"
      ]
     },
     "execution_count": 44,
     "metadata": {},
     "output_type": "execute_result"
    }
   ],
   "source": [
    "from sklearn.ensemble import RandomForestClassifier\n",
    "model2 = RandomForestClassifier(n_estimators=5, random_state=50,criterion='entropy',max_depth=4)\n",
    "\n",
    "model2.fit(x_trainmin, y_train)\n",
    "pred2=model1.predict(x_testmin)\n",
    "pred2"
   ]
  },
  {
   "cell_type": "code",
   "execution_count": 45,
   "metadata": {},
   "outputs": [
    {
     "data": {
      "image/svg+xml": [
       "<svg height=\"477pt\" viewBox=\"0.00 0.00 932.00 477.00\" width=\"932pt\" xmlns=\"http://www.w3.org/2000/svg\" xmlns:xlink=\"http://www.w3.org/1999/xlink\">\n",
       "<g class=\"graph\" id=\"graph0\" transform=\"scale(1 1) rotate(0) translate(4 473)\">\n",
       "<title>Tree</title>\n",
       "<polygon fill=\"white\" points=\"-4,4 -4,-473 928,-473 928,4 -4,4\" stroke=\"none\"/>\n",
       "<!-- 0 -->\n",
       "<g class=\"node\" id=\"node1\"><title>0</title>\n",
       "<polygon fill=\"#47a4e7\" points=\"486.5,-469 345.5,-469 345.5,-401 486.5,-401 486.5,-469\" stroke=\"black\"/>\n",
       "<text font-family=\"Times,serif\" font-size=\"14.00\" text-anchor=\"middle\" x=\"416\" y=\"-453.8\">inflation_crises &lt;= 0.5</text>\n",
       "<text font-family=\"Times,serif\" font-size=\"14.00\" text-anchor=\"middle\" x=\"416\" y=\"-438.8\">entropy = 0.351</text>\n",
       "<text font-family=\"Times,serif\" font-size=\"14.00\" text-anchor=\"middle\" x=\"416\" y=\"-423.8\">samples = 530</text>\n",
       "<text font-family=\"Times,serif\" font-size=\"14.00\" text-anchor=\"middle\" x=\"416\" y=\"-408.8\">value = [56, 791]</text>\n",
       "</g>\n",
       "<!-- 1 -->\n",
       "<g class=\"node\" id=\"node2\"><title>1</title>\n",
       "<polygon fill=\"#43a2e6\" points=\"400,-365 288,-365 288,-297 400,-297 400,-365\" stroke=\"black\"/>\n",
       "<text font-family=\"Times,serif\" font-size=\"14.00\" text-anchor=\"middle\" x=\"344\" y=\"-349.8\">year &lt;= 0.748</text>\n",
       "<text font-family=\"Times,serif\" font-size=\"14.00\" text-anchor=\"middle\" x=\"344\" y=\"-334.8\">entropy = 0.278</text>\n",
       "<text font-family=\"Times,serif\" font-size=\"14.00\" text-anchor=\"middle\" x=\"344\" y=\"-319.8\">samples = 473</text>\n",
       "<text font-family=\"Times,serif\" font-size=\"14.00\" text-anchor=\"middle\" x=\"344\" y=\"-304.8\">value = [36, 715]</text>\n",
       "</g>\n",
       "<!-- 0&#45;&gt;1 -->\n",
       "<g class=\"edge\" id=\"edge1\"><title>0-&gt;1</title>\n",
       "<path d=\"M392.624,-400.884C386.462,-392.154 379.735,-382.625 373.304,-373.514\" fill=\"none\" stroke=\"black\"/>\n",
       "<polygon fill=\"black\" points=\"376.132,-371.451 367.505,-365.299 370.413,-375.487 376.132,-371.451\" stroke=\"black\"/>\n",
       "<text font-family=\"Times,serif\" font-size=\"14.00\" text-anchor=\"middle\" x=\"363.258\" y=\"-386.236\">True</text>\n",
       "</g>\n",
       "<!-- 10 -->\n",
       "<g class=\"node\" id=\"node11\"><title>10</title>\n",
       "<polygon fill=\"#6db7ec\" points=\"541.5,-365 436.5,-365 436.5,-297 541.5,-297 541.5,-365\" stroke=\"black\"/>\n",
       "<text font-family=\"Times,serif\" font-size=\"14.00\" text-anchor=\"middle\" x=\"489\" y=\"-349.8\">year &lt;= 0.853</text>\n",
       "<text font-family=\"Times,serif\" font-size=\"14.00\" text-anchor=\"middle\" x=\"489\" y=\"-334.8\">entropy = 0.738</text>\n",
       "<text font-family=\"Times,serif\" font-size=\"14.00\" text-anchor=\"middle\" x=\"489\" y=\"-319.8\">samples = 57</text>\n",
       "<text font-family=\"Times,serif\" font-size=\"14.00\" text-anchor=\"middle\" x=\"489\" y=\"-304.8\">value = [20, 76]</text>\n",
       "</g>\n",
       "<!-- 0&#45;&gt;10 -->\n",
       "<g class=\"edge\" id=\"edge10\"><title>0-&gt;10</title>\n",
       "<path d=\"M439.701,-400.884C445.948,-392.154 452.769,-382.625 459.289,-373.514\" fill=\"none\" stroke=\"black\"/>\n",
       "<polygon fill=\"black\" points=\"462.194,-375.468 465.168,-365.299 456.502,-371.394 462.194,-375.468\" stroke=\"black\"/>\n",
       "<text font-family=\"Times,serif\" font-size=\"14.00\" text-anchor=\"middle\" x=\"469.255\" y=\"-386.263\">False</text>\n",
       "</g>\n",
       "<!-- 2 -->\n",
       "<g class=\"node\" id=\"node3\"><title>2</title>\n",
       "<polygon fill=\"#399de5\" points=\"255.5,-253.5 150.5,-253.5 150.5,-200.5 255.5,-200.5 255.5,-253.5\" stroke=\"black\"/>\n",
       "<text font-family=\"Times,serif\" font-size=\"14.00\" text-anchor=\"middle\" x=\"203\" y=\"-238.3\">entropy = 0.0</text>\n",
       "<text font-family=\"Times,serif\" font-size=\"14.00\" text-anchor=\"middle\" x=\"203\" y=\"-223.3\">samples = 272</text>\n",
       "<text font-family=\"Times,serif\" font-size=\"14.00\" text-anchor=\"middle\" x=\"203\" y=\"-208.3\">value = [0, 436]</text>\n",
       "</g>\n",
       "<!-- 1&#45;&gt;2 -->\n",
       "<g class=\"edge\" id=\"edge2\"><title>1-&gt;2</title>\n",
       "<path d=\"M298.221,-296.884C281.65,-284.896 262.992,-271.399 246.612,-259.549\" fill=\"none\" stroke=\"black\"/>\n",
       "<polygon fill=\"black\" points=\"248.431,-256.545 238.278,-253.52 244.328,-262.217 248.431,-256.545\" stroke=\"black\"/>\n",
       "</g>\n",
       "<!-- 3 -->\n",
       "<g class=\"node\" id=\"node4\"><title>3</title>\n",
       "<polygon fill=\"#53aae8\" points=\"414.5,-261 273.5,-261 273.5,-193 414.5,-193 414.5,-261\" stroke=\"black\"/>\n",
       "<text font-family=\"Times,serif\" font-size=\"14.00\" text-anchor=\"middle\" x=\"344\" y=\"-245.8\">systemic_crisis &lt;= 0.5</text>\n",
       "<text font-family=\"Times,serif\" font-size=\"14.00\" text-anchor=\"middle\" x=\"344\" y=\"-230.8\">entropy = 0.513</text>\n",
       "<text font-family=\"Times,serif\" font-size=\"14.00\" text-anchor=\"middle\" x=\"344\" y=\"-215.8\">samples = 201</text>\n",
       "<text font-family=\"Times,serif\" font-size=\"14.00\" text-anchor=\"middle\" x=\"344\" y=\"-200.8\">value = [36, 279]</text>\n",
       "</g>\n",
       "<!-- 1&#45;&gt;3 -->\n",
       "<g class=\"edge\" id=\"edge3\"><title>1-&gt;3</title>\n",
       "<path d=\"M344,-296.884C344,-288.778 344,-279.982 344,-271.472\" fill=\"none\" stroke=\"black\"/>\n",
       "<polygon fill=\"black\" points=\"347.5,-271.299 344,-261.299 340.5,-271.299 347.5,-271.299\" stroke=\"black\"/>\n",
       "</g>\n",
       "<!-- 4 -->\n",
       "<g class=\"node\" id=\"node5\"><title>4</title>\n",
       "<polygon fill=\"#3d9fe5\" points=\"236,-157 114,-157 114,-89 236,-89 236,-157\" stroke=\"black\"/>\n",
       "<text font-family=\"Times,serif\" font-size=\"14.00\" text-anchor=\"middle\" x=\"175\" y=\"-141.8\">exch_usd &lt;= 0.004</text>\n",
       "<text font-family=\"Times,serif\" font-size=\"14.00\" text-anchor=\"middle\" x=\"175\" y=\"-126.8\">entropy = 0.129</text>\n",
       "<text font-family=\"Times,serif\" font-size=\"14.00\" text-anchor=\"middle\" x=\"175\" y=\"-111.8\">samples = 178</text>\n",
       "<text font-family=\"Times,serif\" font-size=\"14.00\" text-anchor=\"middle\" x=\"175\" y=\"-96.8\">value = [5, 276]</text>\n",
       "</g>\n",
       "<!-- 3&#45;&gt;4 -->\n",
       "<g class=\"edge\" id=\"edge4\"><title>3-&gt;4</title>\n",
       "<path d=\"M289.131,-192.884C272.962,-183.125 255.136,-172.366 238.475,-162.31\" fill=\"none\" stroke=\"black\"/>\n",
       "<polygon fill=\"black\" points=\"240.253,-159.296 229.883,-157.125 236.636,-165.289 240.253,-159.296\" stroke=\"black\"/>\n",
       "</g>\n",
       "<!-- 7 -->\n",
       "<g class=\"node\" id=\"node8\"><title>7</title>\n",
       "<polygon fill=\"#e88d4c\" points=\"405,-157 283,-157 283,-89 405,-89 405,-157\" stroke=\"black\"/>\n",
       "<text font-family=\"Times,serif\" font-size=\"14.00\" text-anchor=\"middle\" x=\"344\" y=\"-141.8\">exch_usd &lt;= 0.079</text>\n",
       "<text font-family=\"Times,serif\" font-size=\"14.00\" text-anchor=\"middle\" x=\"344\" y=\"-126.8\">entropy = 0.431</text>\n",
       "<text font-family=\"Times,serif\" font-size=\"14.00\" text-anchor=\"middle\" x=\"344\" y=\"-111.8\">samples = 23</text>\n",
       "<text font-family=\"Times,serif\" font-size=\"14.00\" text-anchor=\"middle\" x=\"344\" y=\"-96.8\">value = [31, 3]</text>\n",
       "</g>\n",
       "<!-- 3&#45;&gt;7 -->\n",
       "<g class=\"edge\" id=\"edge7\"><title>3-&gt;7</title>\n",
       "<path d=\"M344,-192.884C344,-184.778 344,-175.982 344,-167.472\" fill=\"none\" stroke=\"black\"/>\n",
       "<polygon fill=\"black\" points=\"347.5,-167.299 344,-157.299 340.5,-167.299 347.5,-167.299\" stroke=\"black\"/>\n",
       "</g>\n",
       "<!-- 5 -->\n",
       "<g class=\"node\" id=\"node6\"><title>5</title>\n",
       "<polygon fill=\"#46a3e7\" points=\"104,-53 0,-53 0,-0 104,-0 104,-53\" stroke=\"black\"/>\n",
       "<text font-family=\"Times,serif\" font-size=\"14.00\" text-anchor=\"middle\" x=\"52\" y=\"-37.8\">entropy = 0.331</text>\n",
       "<text font-family=\"Times,serif\" font-size=\"14.00\" text-anchor=\"middle\" x=\"52\" y=\"-22.8\">samples = 47</text>\n",
       "<text font-family=\"Times,serif\" font-size=\"14.00\" text-anchor=\"middle\" x=\"52\" y=\"-7.8\">value = [5, 77]</text>\n",
       "</g>\n",
       "<!-- 4&#45;&gt;5 -->\n",
       "<g class=\"edge\" id=\"edge5\"><title>4-&gt;5</title>\n",
       "<path d=\"M131.981,-88.9485C119.478,-79.3431 105.853,-68.8747 93.449,-59.345\" fill=\"none\" stroke=\"black\"/>\n",
       "<polygon fill=\"black\" points=\"95.5608,-56.5537 85.4986,-53.2367 91.2961,-62.1046 95.5608,-56.5537\" stroke=\"black\"/>\n",
       "</g>\n",
       "<!-- 6 -->\n",
       "<g class=\"node\" id=\"node7\"><title>6</title>\n",
       "<polygon fill=\"#399de5\" points=\"227.5,-53 122.5,-53 122.5,-0 227.5,-0 227.5,-53\" stroke=\"black\"/>\n",
       "<text font-family=\"Times,serif\" font-size=\"14.00\" text-anchor=\"middle\" x=\"175\" y=\"-37.8\">entropy = 0.0</text>\n",
       "<text font-family=\"Times,serif\" font-size=\"14.00\" text-anchor=\"middle\" x=\"175\" y=\"-22.8\">samples = 131</text>\n",
       "<text font-family=\"Times,serif\" font-size=\"14.00\" text-anchor=\"middle\" x=\"175\" y=\"-7.8\">value = [0, 199]</text>\n",
       "</g>\n",
       "<!-- 4&#45;&gt;6 -->\n",
       "<g class=\"edge\" id=\"edge6\"><title>4-&gt;6</title>\n",
       "<path d=\"M175,-88.9485C175,-80.7153 175,-71.848 175,-63.4814\" fill=\"none\" stroke=\"black\"/>\n",
       "<polygon fill=\"black\" points=\"178.5,-63.2367 175,-53.2367 171.5,-63.2367 178.5,-63.2367\" stroke=\"black\"/>\n",
       "</g>\n",
       "<!-- 8 -->\n",
       "<g class=\"node\" id=\"node9\"><title>8</title>\n",
       "<polygon fill=\"#e58139\" points=\"344,-53 246,-53 246,-0 344,-0 344,-53\" stroke=\"black\"/>\n",
       "<text font-family=\"Times,serif\" font-size=\"14.00\" text-anchor=\"middle\" x=\"295\" y=\"-37.8\">entropy = 0.0</text>\n",
       "<text font-family=\"Times,serif\" font-size=\"14.00\" text-anchor=\"middle\" x=\"295\" y=\"-22.8\">samples = 10</text>\n",
       "<text font-family=\"Times,serif\" font-size=\"14.00\" text-anchor=\"middle\" x=\"295\" y=\"-7.8\">value = [17, 0]</text>\n",
       "</g>\n",
       "<!-- 7&#45;&gt;8 -->\n",
       "<g class=\"edge\" id=\"edge8\"><title>7-&gt;8</title>\n",
       "<path d=\"M326.862,-88.9485C322.403,-80.3494 317.586,-71.0586 313.08,-62.3689\" fill=\"none\" stroke=\"black\"/>\n",
       "<polygon fill=\"black\" points=\"316.055,-60.5031 308.345,-53.2367 309.841,-63.7254 316.055,-60.5031\" stroke=\"black\"/>\n",
       "</g>\n",
       "<!-- 9 -->\n",
       "<g class=\"node\" id=\"node10\"><title>9</title>\n",
       "<polygon fill=\"#eb9c63\" points=\"466,-53 362,-53 362,-0 466,-0 466,-53\" stroke=\"black\"/>\n",
       "<text font-family=\"Times,serif\" font-size=\"14.00\" text-anchor=\"middle\" x=\"414\" y=\"-37.8\">entropy = 0.672</text>\n",
       "<text font-family=\"Times,serif\" font-size=\"14.00\" text-anchor=\"middle\" x=\"414\" y=\"-22.8\">samples = 13</text>\n",
       "<text font-family=\"Times,serif\" font-size=\"14.00\" text-anchor=\"middle\" x=\"414\" y=\"-7.8\">value = [14, 3]</text>\n",
       "</g>\n",
       "<!-- 7&#45;&gt;9 -->\n",
       "<g class=\"edge\" id=\"edge9\"><title>7-&gt;9</title>\n",
       "<path d=\"M368.483,-88.9485C375.056,-80.0749 382.174,-70.4648 388.786,-61.5388\" fill=\"none\" stroke=\"black\"/>\n",
       "<polygon fill=\"black\" points=\"391.796,-63.3556 394.936,-53.2367 386.171,-59.189 391.796,-63.3556\" stroke=\"black\"/>\n",
       "</g>\n",
       "<!-- 11 -->\n",
       "<g class=\"node\" id=\"node12\"><title>11</title>\n",
       "<polygon fill=\"#399de5\" points=\"538,-253.5 440,-253.5 440,-200.5 538,-200.5 538,-253.5\" stroke=\"black\"/>\n",
       "<text font-family=\"Times,serif\" font-size=\"14.00\" text-anchor=\"middle\" x=\"489\" y=\"-238.3\">entropy = 0.0</text>\n",
       "<text font-family=\"Times,serif\" font-size=\"14.00\" text-anchor=\"middle\" x=\"489\" y=\"-223.3\">samples = 34</text>\n",
       "<text font-family=\"Times,serif\" font-size=\"14.00\" text-anchor=\"middle\" x=\"489\" y=\"-208.3\">value = [0, 56]</text>\n",
       "</g>\n",
       "<!-- 10&#45;&gt;11 -->\n",
       "<g class=\"edge\" id=\"edge11\"><title>10-&gt;11</title>\n",
       "<path d=\"M489,-296.884C489,-286.326 489,-274.597 489,-263.854\" fill=\"none\" stroke=\"black\"/>\n",
       "<polygon fill=\"black\" points=\"492.5,-263.52 489,-253.52 485.5,-263.52 492.5,-263.52\" stroke=\"black\"/>\n",
       "</g>\n",
       "<!-- 12 -->\n",
       "<g class=\"node\" id=\"node13\"><title>12</title>\n",
       "<polygon fill=\"#ffffff\" points=\"675.5,-261 570.5,-261 570.5,-193 675.5,-193 675.5,-261\" stroke=\"black\"/>\n",
       "<text font-family=\"Times,serif\" font-size=\"14.00\" text-anchor=\"middle\" x=\"623\" y=\"-245.8\">year &lt;= 0.905</text>\n",
       "<text font-family=\"Times,serif\" font-size=\"14.00\" text-anchor=\"middle\" x=\"623\" y=\"-230.8\">entropy = 1.0</text>\n",
       "<text font-family=\"Times,serif\" font-size=\"14.00\" text-anchor=\"middle\" x=\"623\" y=\"-215.8\">samples = 23</text>\n",
       "<text font-family=\"Times,serif\" font-size=\"14.00\" text-anchor=\"middle\" x=\"623\" y=\"-200.8\">value = [20, 20]</text>\n",
       "</g>\n",
       "<!-- 10&#45;&gt;12 -->\n",
       "<g class=\"edge\" id=\"edge12\"><title>10-&gt;12</title>\n",
       "<path d=\"M532.506,-296.884C544.793,-287.531 558.287,-277.259 571.018,-267.568\" fill=\"none\" stroke=\"black\"/>\n",
       "<polygon fill=\"black\" points=\"573.417,-270.141 579.254,-261.299 569.177,-264.571 573.417,-270.141\" stroke=\"black\"/>\n",
       "</g>\n",
       "<!-- 13 -->\n",
       "<g class=\"node\" id=\"node14\"><title>13</title>\n",
       "<polygon fill=\"#f2c09c\" points=\"675,-157 571,-157 571,-89 675,-89 675,-157\" stroke=\"black\"/>\n",
       "<text font-family=\"Times,serif\" font-size=\"14.00\" text-anchor=\"middle\" x=\"623\" y=\"-141.8\">year &lt;= 0.879</text>\n",
       "<text font-family=\"Times,serif\" font-size=\"14.00\" text-anchor=\"middle\" x=\"623\" y=\"-126.8\">entropy = 0.918</text>\n",
       "<text font-family=\"Times,serif\" font-size=\"14.00\" text-anchor=\"middle\" x=\"623\" y=\"-111.8\">samples = 17</text>\n",
       "<text font-family=\"Times,serif\" font-size=\"14.00\" text-anchor=\"middle\" x=\"623\" y=\"-96.8\">value = [18, 9]</text>\n",
       "</g>\n",
       "<!-- 12&#45;&gt;13 -->\n",
       "<g class=\"edge\" id=\"edge13\"><title>12-&gt;13</title>\n",
       "<path d=\"M623,-192.884C623,-184.778 623,-175.982 623,-167.472\" fill=\"none\" stroke=\"black\"/>\n",
       "<polygon fill=\"black\" points=\"626.5,-167.299 623,-157.299 619.5,-167.299 626.5,-167.299\" stroke=\"black\"/>\n",
       "</g>\n",
       "<!-- 16 -->\n",
       "<g class=\"node\" id=\"node17\"><title>16</title>\n",
       "<polygon fill=\"#5dafea\" points=\"823,-157 701,-157 701,-89 823,-89 823,-157\" stroke=\"black\"/>\n",
       "<text font-family=\"Times,serif\" font-size=\"14.00\" text-anchor=\"middle\" x=\"762\" y=\"-141.8\">exch_usd &lt;= 0.003</text>\n",
       "<text font-family=\"Times,serif\" font-size=\"14.00\" text-anchor=\"middle\" x=\"762\" y=\"-126.8\">entropy = 0.619</text>\n",
       "<text font-family=\"Times,serif\" font-size=\"14.00\" text-anchor=\"middle\" x=\"762\" y=\"-111.8\">samples = 6</text>\n",
       "<text font-family=\"Times,serif\" font-size=\"14.00\" text-anchor=\"middle\" x=\"762\" y=\"-96.8\">value = [2, 11]</text>\n",
       "</g>\n",
       "<!-- 12&#45;&gt;16 -->\n",
       "<g class=\"edge\" id=\"edge16\"><title>12-&gt;16</title>\n",
       "<path d=\"M668.129,-192.884C680.996,-183.442 695.139,-173.064 708.456,-163.292\" fill=\"none\" stroke=\"black\"/>\n",
       "<polygon fill=\"black\" points=\"710.63,-166.037 716.621,-157.299 706.489,-160.394 710.63,-166.037\" stroke=\"black\"/>\n",
       "</g>\n",
       "<!-- 14 -->\n",
       "<g class=\"node\" id=\"node15\"><title>14</title>\n",
       "<polygon fill=\"#fae8db\" points=\"588,-53 484,-53 484,-0 588,-0 588,-53\" stroke=\"black\"/>\n",
       "<text font-family=\"Times,serif\" font-size=\"14.00\" text-anchor=\"middle\" x=\"536\" y=\"-37.8\">entropy = 0.993</text>\n",
       "<text font-family=\"Times,serif\" font-size=\"14.00\" text-anchor=\"middle\" x=\"536\" y=\"-22.8\">samples = 12</text>\n",
       "<text font-family=\"Times,serif\" font-size=\"14.00\" text-anchor=\"middle\" x=\"536\" y=\"-7.8\">value = [11, 9]</text>\n",
       "</g>\n",
       "<!-- 13&#45;&gt;14 -->\n",
       "<g class=\"edge\" id=\"edge14\"><title>13-&gt;14</title>\n",
       "<path d=\"M592.572,-88.9485C584.15,-79.8005 575.007,-69.8697 566.577,-60.7126\" fill=\"none\" stroke=\"black\"/>\n",
       "<polygon fill=\"black\" points=\"569.042,-58.2231 559.694,-53.2367 563.892,-62.9643 569.042,-58.2231\" stroke=\"black\"/>\n",
       "</g>\n",
       "<!-- 15 -->\n",
       "<g class=\"node\" id=\"node16\"><title>15</title>\n",
       "<polygon fill=\"#e58139\" points=\"698,-53 606,-53 606,-0 698,-0 698,-53\" stroke=\"black\"/>\n",
       "<text font-family=\"Times,serif\" font-size=\"14.00\" text-anchor=\"middle\" x=\"652\" y=\"-37.8\">entropy = 0.0</text>\n",
       "<text font-family=\"Times,serif\" font-size=\"14.00\" text-anchor=\"middle\" x=\"652\" y=\"-22.8\">samples = 5</text>\n",
       "<text font-family=\"Times,serif\" font-size=\"14.00\" text-anchor=\"middle\" x=\"652\" y=\"-7.8\">value = [7, 0]</text>\n",
       "</g>\n",
       "<!-- 13&#45;&gt;15 -->\n",
       "<g class=\"edge\" id=\"edge15\"><title>13-&gt;15</title>\n",
       "<path d=\"M633.143,-88.9485C635.726,-80.5323 638.512,-71.4536 641.129,-62.9243\" fill=\"none\" stroke=\"black\"/>\n",
       "<polygon fill=\"black\" points=\"644.514,-63.8235 644.102,-53.2367 637.822,-61.7698 644.514,-63.8235\" stroke=\"black\"/>\n",
       "</g>\n",
       "<!-- 17 -->\n",
       "<g class=\"node\" id=\"node18\"><title>17</title>\n",
       "<polygon fill=\"#e58139\" points=\"808,-53 716,-53 716,-0 808,-0 808,-53\" stroke=\"black\"/>\n",
       "<text font-family=\"Times,serif\" font-size=\"14.00\" text-anchor=\"middle\" x=\"762\" y=\"-37.8\">entropy = 0.0</text>\n",
       "<text font-family=\"Times,serif\" font-size=\"14.00\" text-anchor=\"middle\" x=\"762\" y=\"-22.8\">samples = 1</text>\n",
       "<text font-family=\"Times,serif\" font-size=\"14.00\" text-anchor=\"middle\" x=\"762\" y=\"-7.8\">value = [2, 0]</text>\n",
       "</g>\n",
       "<!-- 16&#45;&gt;17 -->\n",
       "<g class=\"edge\" id=\"edge17\"><title>16-&gt;17</title>\n",
       "<path d=\"M762,-88.9485C762,-80.7153 762,-71.848 762,-63.4814\" fill=\"none\" stroke=\"black\"/>\n",
       "<polygon fill=\"black\" points=\"765.5,-63.2367 762,-53.2367 758.5,-63.2367 765.5,-63.2367\" stroke=\"black\"/>\n",
       "</g>\n",
       "<!-- 18 -->\n",
       "<g class=\"node\" id=\"node19\"><title>18</title>\n",
       "<polygon fill=\"#399de5\" points=\"924,-53 826,-53 826,-0 924,-0 924,-53\" stroke=\"black\"/>\n",
       "<text font-family=\"Times,serif\" font-size=\"14.00\" text-anchor=\"middle\" x=\"875\" y=\"-37.8\">entropy = 0.0</text>\n",
       "<text font-family=\"Times,serif\" font-size=\"14.00\" text-anchor=\"middle\" x=\"875\" y=\"-22.8\">samples = 5</text>\n",
       "<text font-family=\"Times,serif\" font-size=\"14.00\" text-anchor=\"middle\" x=\"875\" y=\"-7.8\">value = [0, 11]</text>\n",
       "</g>\n",
       "<!-- 16&#45;&gt;18 -->\n",
       "<g class=\"edge\" id=\"edge18\"><title>16-&gt;18</title>\n",
       "<path d=\"M801.522,-88.9485C812.789,-79.526 825.049,-69.2731 836.268,-59.8906\" fill=\"none\" stroke=\"black\"/>\n",
       "<polygon fill=\"black\" points=\"838.799,-62.3368 844.225,-53.2367 834.308,-56.967 838.799,-62.3368\" stroke=\"black\"/>\n",
       "</g>\n",
       "</g>\n",
       "</svg>"
      ],
      "text/plain": [
       "<IPython.core.display.SVG object>"
      ]
     },
     "metadata": {},
     "output_type": "display_data"
    }
   ],
   "source": [
    "estimators=model2.estimators_[3]\n",
    "labels=['case','country','year','systemic_crisis','exch_usd','domestic_debt_in_default','sovereign_external_debt_default','inflation_annual_cpi','independence','currency_crises','inflation_crises']\n",
    "from sklearn import tree\n",
    "from graphviz import Source\n",
    "from IPython.display import SVG\n",
    "from IPython.display import display\n",
    "\n",
    "graph = Source(tree.export_graphviz(estimators, out_file=None\n",
    "   , feature_names=labels\n",
    "   , filled = True))\n",
    "display(SVG(graph.pipe(format='svg')))\n"
   ]
  },
  {
   "cell_type": "code",
   "execution_count": 46,
   "metadata": {},
   "outputs": [
    {
     "data": {
      "image/png": "[encoded data removed]",
      "text/plain": [
       "<Figure size 432x288 with 1 Axes>"
      ]
     },
     "metadata": {
      "needs_background": "light"
     },
     "output_type": "display_data"
    }
   ],
   "source": [
    "sns.distplot((y_test-pred2),bins=50)\n",
    "plt.show()"
   ]
  },
  {
   "cell_type": "markdown",
   "metadata": {},
   "source": [
    "## RANDOM FOREST ACC TO STANDARD SCALAR"
   ]
  },
  {
   "cell_type": "code",
   "execution_count": 47,
   "metadata": {},
   "outputs": [
    {
     "data": {
      "text/plain": [
       "array([1, 0, 1, 1, 1, 1, 1, 1, 1, 1, 0, 1, 1, 1, 1, 1, 1, 0, 1, 1, 1, 1,\n",
       "       1, 1, 1, 1, 0, 1, 0, 1, 1, 1, 1, 1, 1, 1, 1, 1, 1, 0, 1, 1, 1, 1,\n",
       "       1, 1, 1, 1, 1, 1, 1, 1, 1, 1, 1, 1, 1, 1, 1, 1, 1, 1, 1, 1, 1, 0,\n",
       "       1, 1, 1, 1, 1, 1, 1, 1, 1, 1, 1, 1, 1, 1, 0, 1, 1, 1, 1, 1, 1, 1,\n",
       "       1, 1, 1, 1, 1, 1, 1, 1, 1, 1, 1, 0, 1, 0, 1, 1, 1, 1, 1, 1, 1, 1,\n",
       "       1, 1, 1, 1, 1, 1, 1, 1, 1, 1, 1, 1, 1, 1, 1, 1, 1, 0, 1, 1, 1, 0,\n",
       "       1, 1, 1, 1, 1, 1, 1, 1, 1, 1, 1, 1, 1, 1, 1, 1, 0, 1, 1, 1, 0, 1,\n",
       "       1, 1, 1, 1, 1, 1, 1, 1, 1, 1, 1, 1, 1, 1, 0, 1, 1, 1, 0, 1, 1, 1,\n",
       "       0, 1, 1, 1, 1, 1, 1, 1, 1, 1, 1, 1, 1, 1, 0, 1, 1, 1, 1, 1, 1, 1,\n",
       "       1, 1, 1, 1, 1, 1, 1, 1, 1, 1, 1, 1, 1, 1])"
      ]
     },
     "execution_count": 47,
     "metadata": {},
     "output_type": "execute_result"
    }
   ],
   "source": [
    "from sklearn.ensemble import RandomForestClassifier\n",
    "model3= RandomForestClassifier(n_estimators=5, random_state=50,criterion='entropy',max_depth=4)\n",
    "\n",
    "model3.fit(x_trainstd, y_train)\n",
    "pred3=model1.predict(x_teststd)\n",
    "pred3"
   ]
  },
  {
   "cell_type": "code",
   "execution_count": 48,
   "metadata": {},
   "outputs": [
    {
     "data": {
      "image/svg+xml": [
       "<svg height=\"477pt\" viewBox=\"0.00 0.00 932.00 477.00\" width=\"932pt\" xmlns=\"http://www.w3.org/2000/svg\" xmlns:xlink=\"http://www.w3.org/1999/xlink\">\n",
       "<g class=\"graph\" id=\"graph0\" transform=\"scale(1 1) rotate(0) translate(4 473)\">\n",
       "<title>Tree</title>\n",
       "<polygon fill=\"white\" points=\"-4,4 -4,-473 928,-473 928,4 -4,4\" stroke=\"none\"/>\n",
       "<!-- 0 -->\n",
       "<g class=\"node\" id=\"node1\"><title>0</title>\n",
       "<polygon fill=\"#47a4e7\" points=\"495.5,-469 340.5,-469 340.5,-401 495.5,-401 495.5,-469\" stroke=\"black\"/>\n",
       "<text font-family=\"Times,serif\" font-size=\"14.00\" text-anchor=\"middle\" x=\"418\" y=\"-453.8\">inflation_crises &lt;= 1.086</text>\n",
       "<text font-family=\"Times,serif\" font-size=\"14.00\" text-anchor=\"middle\" x=\"418\" y=\"-438.8\">entropy = 0.351</text>\n",
       "<text font-family=\"Times,serif\" font-size=\"14.00\" text-anchor=\"middle\" x=\"418\" y=\"-423.8\">samples = 530</text>\n",
       "<text font-family=\"Times,serif\" font-size=\"14.00\" text-anchor=\"middle\" x=\"418\" y=\"-408.8\">value = [56, 791]</text>\n",
       "</g>\n",
       "<!-- 1 -->\n",
       "<g class=\"node\" id=\"node2\"><title>1</title>\n",
       "<polygon fill=\"#43a2e6\" points=\"396,-365 284,-365 284,-297 396,-297 396,-365\" stroke=\"black\"/>\n",
       "<text font-family=\"Times,serif\" font-size=\"14.00\" text-anchor=\"middle\" x=\"340\" y=\"-349.8\">year &lt;= 0.232</text>\n",
       "<text font-family=\"Times,serif\" font-size=\"14.00\" text-anchor=\"middle\" x=\"340\" y=\"-334.8\">entropy = 0.278</text>\n",
       "<text font-family=\"Times,serif\" font-size=\"14.00\" text-anchor=\"middle\" x=\"340\" y=\"-319.8\">samples = 473</text>\n",
       "<text font-family=\"Times,serif\" font-size=\"14.00\" text-anchor=\"middle\" x=\"340\" y=\"-304.8\">value = [36, 715]</text>\n",
       "</g>\n",
       "<!-- 0&#45;&gt;1 -->\n",
       "<g class=\"edge\" id=\"edge1\"><title>0-&gt;1</title>\n",
       "<path d=\"M392.676,-400.884C386,-392.154 378.713,-382.625 371.746,-373.514\" fill=\"none\" stroke=\"black\"/>\n",
       "<polygon fill=\"black\" points=\"374.319,-371.117 365.464,-365.299 368.758,-375.369 374.319,-371.117\" stroke=\"black\"/>\n",
       "<text font-family=\"Times,serif\" font-size=\"14.00\" text-anchor=\"middle\" x=\"362.16\" y=\"-386.38\">True</text>\n",
       "</g>\n",
       "<!-- 10 -->\n",
       "<g class=\"node\" id=\"node11\"><title>10</title>\n",
       "<polygon fill=\"#6db7ec\" points=\"548.5,-365 443.5,-365 443.5,-297 548.5,-297 548.5,-365\" stroke=\"black\"/>\n",
       "<text font-family=\"Times,serif\" font-size=\"14.00\" text-anchor=\"middle\" x=\"496\" y=\"-349.8\">year &lt;= 0.717</text>\n",
       "<text font-family=\"Times,serif\" font-size=\"14.00\" text-anchor=\"middle\" x=\"496\" y=\"-334.8\">entropy = 0.738</text>\n",
       "<text font-family=\"Times,serif\" font-size=\"14.00\" text-anchor=\"middle\" x=\"496\" y=\"-319.8\">samples = 57</text>\n",
       "<text font-family=\"Times,serif\" font-size=\"14.00\" text-anchor=\"middle\" x=\"496\" y=\"-304.8\">value = [20, 76]</text>\n",
       "</g>\n",
       "<!-- 0&#45;&gt;10 -->\n",
       "<g class=\"edge\" id=\"edge10\"><title>0-&gt;10</title>\n",
       "<path d=\"M443.324,-400.884C450,-392.154 457.287,-382.625 464.254,-373.514\" fill=\"none\" stroke=\"black\"/>\n",
       "<polygon fill=\"black\" points=\"467.242,-375.369 470.536,-365.299 461.681,-371.117 467.242,-375.369\" stroke=\"black\"/>\n",
       "<text font-family=\"Times,serif\" font-size=\"14.00\" text-anchor=\"middle\" x=\"473.84\" y=\"-386.38\">False</text>\n",
       "</g>\n",
       "<!-- 2 -->\n",
       "<g class=\"node\" id=\"node3\"><title>2</title>\n",
       "<polygon fill=\"#399de5\" points=\"244.5,-253.5 139.5,-253.5 139.5,-200.5 244.5,-200.5 244.5,-253.5\" stroke=\"black\"/>\n",
       "<text font-family=\"Times,serif\" font-size=\"14.00\" text-anchor=\"middle\" x=\"192\" y=\"-238.3\">entropy = 0.0</text>\n",
       "<text font-family=\"Times,serif\" font-size=\"14.00\" text-anchor=\"middle\" x=\"192\" y=\"-223.3\">samples = 272</text>\n",
       "<text font-family=\"Times,serif\" font-size=\"14.00\" text-anchor=\"middle\" x=\"192\" y=\"-208.3\">value = [0, 436]</text>\n",
       "</g>\n",
       "<!-- 1&#45;&gt;2 -->\n",
       "<g class=\"edge\" id=\"edge2\"><title>1-&gt;2</title>\n",
       "<path d=\"M291.949,-296.884C274.395,-284.786 254.611,-271.151 237.305,-259.224\" fill=\"none\" stroke=\"black\"/>\n",
       "<polygon fill=\"black\" points=\"239.249,-256.313 229.029,-253.52 235.277,-262.077 239.249,-256.313\" stroke=\"black\"/>\n",
       "</g>\n",
       "<!-- 3 -->\n",
       "<g class=\"node\" id=\"node4\"><title>3</title>\n",
       "<polygon fill=\"#53aae8\" points=\"417.5,-261 262.5,-261 262.5,-193 417.5,-193 417.5,-261\" stroke=\"black\"/>\n",
       "<text font-family=\"Times,serif\" font-size=\"14.00\" text-anchor=\"middle\" x=\"340\" y=\"-245.8\">systemic_crisis &lt;= 1.673</text>\n",
       "<text font-family=\"Times,serif\" font-size=\"14.00\" text-anchor=\"middle\" x=\"340\" y=\"-230.8\">entropy = 0.513</text>\n",
       "<text font-family=\"Times,serif\" font-size=\"14.00\" text-anchor=\"middle\" x=\"340\" y=\"-215.8\">samples = 201</text>\n",
       "<text font-family=\"Times,serif\" font-size=\"14.00\" text-anchor=\"middle\" x=\"340\" y=\"-200.8\">value = [36, 279]</text>\n",
       "</g>\n",
       "<!-- 1&#45;&gt;3 -->\n",
       "<g class=\"edge\" id=\"edge3\"><title>1-&gt;3</title>\n",
       "<path d=\"M340,-296.884C340,-288.778 340,-279.982 340,-271.472\" fill=\"none\" stroke=\"black\"/>\n",
       "<polygon fill=\"black\" points=\"343.5,-271.299 340,-261.299 336.5,-271.299 343.5,-271.299\" stroke=\"black\"/>\n",
       "</g>\n",
       "<!-- 4 -->\n",
       "<g class=\"node\" id=\"node5\"><title>4</title>\n",
       "<polygon fill=\"#3d9fe5\" points=\"238.5,-157 111.5,-157 111.5,-89 238.5,-89 238.5,-157\" stroke=\"black\"/>\n",
       "<text font-family=\"Times,serif\" font-size=\"14.00\" text-anchor=\"middle\" x=\"175\" y=\"-141.8\">exch_usd &lt;= -0.364</text>\n",
       "<text font-family=\"Times,serif\" font-size=\"14.00\" text-anchor=\"middle\" x=\"175\" y=\"-126.8\">entropy = 0.129</text>\n",
       "<text font-family=\"Times,serif\" font-size=\"14.00\" text-anchor=\"middle\" x=\"175\" y=\"-111.8\">samples = 178</text>\n",
       "<text font-family=\"Times,serif\" font-size=\"14.00\" text-anchor=\"middle\" x=\"175\" y=\"-96.8\">value = [5, 276]</text>\n",
       "</g>\n",
       "<!-- 3&#45;&gt;4 -->\n",
       "<g class=\"edge\" id=\"edge4\"><title>3-&gt;4</title>\n",
       "<path d=\"M286.429,-192.884C270.788,-183.214 253.559,-172.563 237.42,-162.587\" fill=\"none\" stroke=\"black\"/>\n",
       "<polygon fill=\"black\" points=\"238.93,-159.406 228.584,-157.125 235.25,-165.36 238.93,-159.406\" stroke=\"black\"/>\n",
       "</g>\n",
       "<!-- 7 -->\n",
       "<g class=\"node\" id=\"node8\"><title>7</title>\n",
       "<polygon fill=\"#e88d4c\" points=\"401,-157 279,-157 279,-89 401,-89 401,-157\" stroke=\"black\"/>\n",
       "<text font-family=\"Times,serif\" font-size=\"14.00\" text-anchor=\"middle\" x=\"340\" y=\"-141.8\">exch_usd &lt;= 0.134</text>\n",
       "<text font-family=\"Times,serif\" font-size=\"14.00\" text-anchor=\"middle\" x=\"340\" y=\"-126.8\">entropy = 0.431</text>\n",
       "<text font-family=\"Times,serif\" font-size=\"14.00\" text-anchor=\"middle\" x=\"340\" y=\"-111.8\">samples = 23</text>\n",
       "<text font-family=\"Times,serif\" font-size=\"14.00\" text-anchor=\"middle\" x=\"340\" y=\"-96.8\">value = [31, 3]</text>\n",
       "</g>\n",
       "<!-- 3&#45;&gt;7 -->\n",
       "<g class=\"edge\" id=\"edge7\"><title>3-&gt;7</title>\n",
       "<path d=\"M340,-192.884C340,-184.778 340,-175.982 340,-167.472\" fill=\"none\" stroke=\"black\"/>\n",
       "<polygon fill=\"black\" points=\"343.5,-167.299 340,-157.299 336.5,-167.299 343.5,-167.299\" stroke=\"black\"/>\n",
       "</g>\n",
       "<!-- 5 -->\n",
       "<g class=\"node\" id=\"node6\"><title>5</title>\n",
       "<polygon fill=\"#46a3e7\" points=\"104,-53 0,-53 0,-0 104,-0 104,-53\" stroke=\"black\"/>\n",
       "<text font-family=\"Times,serif\" font-size=\"14.00\" text-anchor=\"middle\" x=\"52\" y=\"-37.8\">entropy = 0.331</text>\n",
       "<text font-family=\"Times,serif\" font-size=\"14.00\" text-anchor=\"middle\" x=\"52\" y=\"-22.8\">samples = 47</text>\n",
       "<text font-family=\"Times,serif\" font-size=\"14.00\" text-anchor=\"middle\" x=\"52\" y=\"-7.8\">value = [5, 77]</text>\n",
       "</g>\n",
       "<!-- 4&#45;&gt;5 -->\n",
       "<g class=\"edge\" id=\"edge5\"><title>4-&gt;5</title>\n",
       "<path d=\"M131.981,-88.9485C119.478,-79.3431 105.853,-68.8747 93.449,-59.345\" fill=\"none\" stroke=\"black\"/>\n",
       "<polygon fill=\"black\" points=\"95.5608,-56.5537 85.4986,-53.2367 91.2961,-62.1046 95.5608,-56.5537\" stroke=\"black\"/>\n",
       "</g>\n",
       "<!-- 6 -->\n",
       "<g class=\"node\" id=\"node7\"><title>6</title>\n",
       "<polygon fill=\"#399de5\" points=\"227.5,-53 122.5,-53 122.5,-0 227.5,-0 227.5,-53\" stroke=\"black\"/>\n",
       "<text font-family=\"Times,serif\" font-size=\"14.00\" text-anchor=\"middle\" x=\"175\" y=\"-37.8\">entropy = 0.0</text>\n",
       "<text font-family=\"Times,serif\" font-size=\"14.00\" text-anchor=\"middle\" x=\"175\" y=\"-22.8\">samples = 131</text>\n",
       "<text font-family=\"Times,serif\" font-size=\"14.00\" text-anchor=\"middle\" x=\"175\" y=\"-7.8\">value = [0, 199]</text>\n",
       "</g>\n",
       "<!-- 4&#45;&gt;6 -->\n",
       "<g class=\"edge\" id=\"edge6\"><title>4-&gt;6</title>\n",
       "<path d=\"M175,-88.9485C175,-80.7153 175,-71.848 175,-63.4814\" fill=\"none\" stroke=\"black\"/>\n",
       "<polygon fill=\"black\" points=\"178.5,-63.2367 175,-53.2367 171.5,-63.2367 178.5,-63.2367\" stroke=\"black\"/>\n",
       "</g>\n",
       "<!-- 8 -->\n",
       "<g class=\"node\" id=\"node9\"><title>8</title>\n",
       "<polygon fill=\"#e58139\" points=\"344,-53 246,-53 246,-0 344,-0 344,-53\" stroke=\"black\"/>\n",
       "<text font-family=\"Times,serif\" font-size=\"14.00\" text-anchor=\"middle\" x=\"295\" y=\"-37.8\">entropy = 0.0</text>\n",
       "<text font-family=\"Times,serif\" font-size=\"14.00\" text-anchor=\"middle\" x=\"295\" y=\"-22.8\">samples = 10</text>\n",
       "<text font-family=\"Times,serif\" font-size=\"14.00\" text-anchor=\"middle\" x=\"295\" y=\"-7.8\">value = [17, 0]</text>\n",
       "</g>\n",
       "<!-- 7&#45;&gt;8 -->\n",
       "<g class=\"edge\" id=\"edge8\"><title>7-&gt;8</title>\n",
       "<path d=\"M324.261,-88.9485C320.166,-80.3494 315.742,-71.0586 311.604,-62.3689\" fill=\"none\" stroke=\"black\"/>\n",
       "<polygon fill=\"black\" points=\"314.715,-60.7605 307.256,-53.2367 308.395,-63.7701 314.715,-60.7605\" stroke=\"black\"/>\n",
       "</g>\n",
       "<!-- 9 -->\n",
       "<g class=\"node\" id=\"node10\"><title>9</title>\n",
       "<polygon fill=\"#eb9c63\" points=\"466,-53 362,-53 362,-0 466,-0 466,-53\" stroke=\"black\"/>\n",
       "<text font-family=\"Times,serif\" font-size=\"14.00\" text-anchor=\"middle\" x=\"414\" y=\"-37.8\">entropy = 0.672</text>\n",
       "<text font-family=\"Times,serif\" font-size=\"14.00\" text-anchor=\"middle\" x=\"414\" y=\"-22.8\">samples = 13</text>\n",
       "<text font-family=\"Times,serif\" font-size=\"14.00\" text-anchor=\"middle\" x=\"414\" y=\"-7.8\">value = [14, 3]</text>\n",
       "</g>\n",
       "<!-- 7&#45;&gt;9 -->\n",
       "<g class=\"edge\" id=\"edge9\"><title>7-&gt;9</title>\n",
       "<path d=\"M365.882,-88.9485C372.902,-79.9834 380.511,-70.2666 387.561,-61.2629\" fill=\"none\" stroke=\"black\"/>\n",
       "<polygon fill=\"black\" points=\"390.437,-63.2679 393.846,-53.2367 384.925,-58.9521 390.437,-63.2679\" stroke=\"black\"/>\n",
       "</g>\n",
       "<!-- 11 -->\n",
       "<g class=\"node\" id=\"node12\"><title>11</title>\n",
       "<polygon fill=\"#399de5\" points=\"545,-253.5 447,-253.5 447,-200.5 545,-200.5 545,-253.5\" stroke=\"black\"/>\n",
       "<text font-family=\"Times,serif\" font-size=\"14.00\" text-anchor=\"middle\" x=\"496\" y=\"-238.3\">entropy = 0.0</text>\n",
       "<text font-family=\"Times,serif\" font-size=\"14.00\" text-anchor=\"middle\" x=\"496\" y=\"-223.3\">samples = 34</text>\n",
       "<text font-family=\"Times,serif\" font-size=\"14.00\" text-anchor=\"middle\" x=\"496\" y=\"-208.3\">value = [0, 56]</text>\n",
       "</g>\n",
       "<!-- 10&#45;&gt;11 -->\n",
       "<g class=\"edge\" id=\"edge11\"><title>10-&gt;11</title>\n",
       "<path d=\"M496,-296.884C496,-286.326 496,-274.597 496,-263.854\" fill=\"none\" stroke=\"black\"/>\n",
       "<polygon fill=\"black\" points=\"499.5,-263.52 496,-253.52 492.5,-263.52 499.5,-263.52\" stroke=\"black\"/>\n",
       "</g>\n",
       "<!-- 12 -->\n",
       "<g class=\"node\" id=\"node13\"><title>12</title>\n",
       "<polygon fill=\"#ffffff\" points=\"674.5,-261 569.5,-261 569.5,-193 674.5,-193 674.5,-261\" stroke=\"black\"/>\n",
       "<text font-family=\"Times,serif\" font-size=\"14.00\" text-anchor=\"middle\" x=\"622\" y=\"-245.8\">year &lt;= 0.959</text>\n",
       "<text font-family=\"Times,serif\" font-size=\"14.00\" text-anchor=\"middle\" x=\"622\" y=\"-230.8\">entropy = 1.0</text>\n",
       "<text font-family=\"Times,serif\" font-size=\"14.00\" text-anchor=\"middle\" x=\"622\" y=\"-215.8\">samples = 23</text>\n",
       "<text font-family=\"Times,serif\" font-size=\"14.00\" text-anchor=\"middle\" x=\"622\" y=\"-200.8\">value = [20, 20]</text>\n",
       "</g>\n",
       "<!-- 10&#45;&gt;12 -->\n",
       "<g class=\"edge\" id=\"edge12\"><title>10-&gt;12</title>\n",
       "<path d=\"M536.909,-296.884C548.352,-287.62 560.909,-277.455 572.779,-267.845\" fill=\"none\" stroke=\"black\"/>\n",
       "<polygon fill=\"black\" points=\"575.295,-270.312 580.865,-261.299 570.891,-264.871 575.295,-270.312\" stroke=\"black\"/>\n",
       "</g>\n",
       "<!-- 13 -->\n",
       "<g class=\"node\" id=\"node14\"><title>13</title>\n",
       "<polygon fill=\"#f2c09c\" points=\"674,-157 570,-157 570,-89 674,-89 674,-157\" stroke=\"black\"/>\n",
       "<text font-family=\"Times,serif\" font-size=\"14.00\" text-anchor=\"middle\" x=\"622\" y=\"-141.8\">year &lt;= 0.838</text>\n",
       "<text font-family=\"Times,serif\" font-size=\"14.00\" text-anchor=\"middle\" x=\"622\" y=\"-126.8\">entropy = 0.918</text>\n",
       "<text font-family=\"Times,serif\" font-size=\"14.00\" text-anchor=\"middle\" x=\"622\" y=\"-111.8\">samples = 17</text>\n",
       "<text font-family=\"Times,serif\" font-size=\"14.00\" text-anchor=\"middle\" x=\"622\" y=\"-96.8\">value = [18, 9]</text>\n",
       "</g>\n",
       "<!-- 12&#45;&gt;13 -->\n",
       "<g class=\"edge\" id=\"edge13\"><title>12-&gt;13</title>\n",
       "<path d=\"M622,-192.884C622,-184.778 622,-175.982 622,-167.472\" fill=\"none\" stroke=\"black\"/>\n",
       "<polygon fill=\"black\" points=\"625.5,-167.299 622,-157.299 618.5,-167.299 625.5,-167.299\" stroke=\"black\"/>\n",
       "</g>\n",
       "<!-- 16 -->\n",
       "<g class=\"node\" id=\"node17\"><title>16</title>\n",
       "<polygon fill=\"#5dafea\" points=\"825.5,-157 698.5,-157 698.5,-89 825.5,-89 825.5,-157\" stroke=\"black\"/>\n",
       "<text font-family=\"Times,serif\" font-size=\"14.00\" text-anchor=\"middle\" x=\"762\" y=\"-141.8\">exch_usd &lt;= -0.374</text>\n",
       "<text font-family=\"Times,serif\" font-size=\"14.00\" text-anchor=\"middle\" x=\"762\" y=\"-126.8\">entropy = 0.619</text>\n",
       "<text font-family=\"Times,serif\" font-size=\"14.00\" text-anchor=\"middle\" x=\"762\" y=\"-111.8\">samples = 6</text>\n",
       "<text font-family=\"Times,serif\" font-size=\"14.00\" text-anchor=\"middle\" x=\"762\" y=\"-96.8\">value = [2, 11]</text>\n",
       "</g>\n",
       "<!-- 12&#45;&gt;16 -->\n",
       "<g class=\"edge\" id=\"edge16\"><title>12-&gt;16</title>\n",
       "<path d=\"M667.454,-192.884C680.413,-183.442 694.658,-173.064 708.07,-163.292\" fill=\"none\" stroke=\"black\"/>\n",
       "<polygon fill=\"black\" points=\"710.274,-166.017 716.295,-157.299 706.152,-160.359 710.274,-166.017\" stroke=\"black\"/>\n",
       "</g>\n",
       "<!-- 14 -->\n",
       "<g class=\"node\" id=\"node15\"><title>14</title>\n",
       "<polygon fill=\"#fae8db\" points=\"588,-53 484,-53 484,-0 588,-0 588,-53\" stroke=\"black\"/>\n",
       "<text font-family=\"Times,serif\" font-size=\"14.00\" text-anchor=\"middle\" x=\"536\" y=\"-37.8\">entropy = 0.993</text>\n",
       "<text font-family=\"Times,serif\" font-size=\"14.00\" text-anchor=\"middle\" x=\"536\" y=\"-22.8\">samples = 12</text>\n",
       "<text font-family=\"Times,serif\" font-size=\"14.00\" text-anchor=\"middle\" x=\"536\" y=\"-7.8\">value = [11, 9]</text>\n",
       "</g>\n",
       "<!-- 13&#45;&gt;14 -->\n",
       "<g class=\"edge\" id=\"edge14\"><title>13-&gt;14</title>\n",
       "<path d=\"M591.921,-88.9485C583.596,-79.8005 574.559,-69.8697 566.225,-60.7126\" fill=\"none\" stroke=\"black\"/>\n",
       "<polygon fill=\"black\" points=\"568.741,-58.2769 559.422,-53.2367 563.564,-62.9883 568.741,-58.2769\" stroke=\"black\"/>\n",
       "</g>\n",
       "<!-- 15 -->\n",
       "<g class=\"node\" id=\"node16\"><title>15</title>\n",
       "<polygon fill=\"#e58139\" points=\"698,-53 606,-53 606,-0 698,-0 698,-53\" stroke=\"black\"/>\n",
       "<text font-family=\"Times,serif\" font-size=\"14.00\" text-anchor=\"middle\" x=\"652\" y=\"-37.8\">entropy = 0.0</text>\n",
       "<text font-family=\"Times,serif\" font-size=\"14.00\" text-anchor=\"middle\" x=\"652\" y=\"-22.8\">samples = 5</text>\n",
       "<text font-family=\"Times,serif\" font-size=\"14.00\" text-anchor=\"middle\" x=\"652\" y=\"-7.8\">value = [7, 0]</text>\n",
       "</g>\n",
       "<!-- 13&#45;&gt;15 -->\n",
       "<g class=\"edge\" id=\"edge15\"><title>13-&gt;15</title>\n",
       "<path d=\"M632.493,-88.9485C635.164,-80.5323 638.046,-71.4536 640.754,-62.9243\" fill=\"none\" stroke=\"black\"/>\n",
       "<polygon fill=\"black\" points=\"644.14,-63.827 643.83,-53.2367 637.468,-61.7089 644.14,-63.827\" stroke=\"black\"/>\n",
       "</g>\n",
       "<!-- 17 -->\n",
       "<g class=\"node\" id=\"node18\"><title>17</title>\n",
       "<polygon fill=\"#e58139\" points=\"808,-53 716,-53 716,-0 808,-0 808,-53\" stroke=\"black\"/>\n",
       "<text font-family=\"Times,serif\" font-size=\"14.00\" text-anchor=\"middle\" x=\"762\" y=\"-37.8\">entropy = 0.0</text>\n",
       "<text font-family=\"Times,serif\" font-size=\"14.00\" text-anchor=\"middle\" x=\"762\" y=\"-22.8\">samples = 1</text>\n",
       "<text font-family=\"Times,serif\" font-size=\"14.00\" text-anchor=\"middle\" x=\"762\" y=\"-7.8\">value = [2, 0]</text>\n",
       "</g>\n",
       "<!-- 16&#45;&gt;17 -->\n",
       "<g class=\"edge\" id=\"edge17\"><title>16-&gt;17</title>\n",
       "<path d=\"M762,-88.9485C762,-80.7153 762,-71.848 762,-63.4814\" fill=\"none\" stroke=\"black\"/>\n",
       "<polygon fill=\"black\" points=\"765.5,-63.2367 762,-53.2367 758.5,-63.2367 765.5,-63.2367\" stroke=\"black\"/>\n",
       "</g>\n",
       "<!-- 18 -->\n",
       "<g class=\"node\" id=\"node19\"><title>18</title>\n",
       "<polygon fill=\"#399de5\" points=\"924,-53 826,-53 826,-0 924,-0 924,-53\" stroke=\"black\"/>\n",
       "<text font-family=\"Times,serif\" font-size=\"14.00\" text-anchor=\"middle\" x=\"875\" y=\"-37.8\">entropy = 0.0</text>\n",
       "<text font-family=\"Times,serif\" font-size=\"14.00\" text-anchor=\"middle\" x=\"875\" y=\"-22.8\">samples = 5</text>\n",
       "<text font-family=\"Times,serif\" font-size=\"14.00\" text-anchor=\"middle\" x=\"875\" y=\"-7.8\">value = [0, 11]</text>\n",
       "</g>\n",
       "<!-- 16&#45;&gt;18 -->\n",
       "<g class=\"edge\" id=\"edge18\"><title>16-&gt;18</title>\n",
       "<path d=\"M801.522,-88.9485C812.789,-79.526 825.049,-69.2731 836.268,-59.8906\" fill=\"none\" stroke=\"black\"/>\n",
       "<polygon fill=\"black\" points=\"838.799,-62.3368 844.225,-53.2367 834.308,-56.967 838.799,-62.3368\" stroke=\"black\"/>\n",
       "</g>\n",
       "</g>\n",
       "</svg>"
      ],
      "text/plain": [
       "<IPython.core.display.SVG object>"
      ]
     },
     "metadata": {},
     "output_type": "display_data"
    }
   ],
   "source": [
    "estimators=model3.estimators_[3]\n",
    "labels=['case','country','year','systemic_crisis','exch_usd','domestic_debt_in_default','sovereign_external_debt_default','inflation_annual_cpi','independence','currency_crises','inflation_crises']\n",
    "from sklearn import tree\n",
    "from graphviz import Source\n",
    "from IPython.display import SVG\n",
    "from IPython.display import display\n",
    "\n",
    "graph = Source(tree.export_graphviz(estimators, out_file=None\n",
    "   , feature_names=labels\n",
    "   , filled = True))\n",
    "display(SVG(graph.pipe(format='svg')))\n"
   ]
  },
  {
   "cell_type": "code",
   "execution_count": 49,
   "metadata": {},
   "outputs": [
    {
     "data": {
      "image/png": "[encoded data removed]",
      "text/plain": [
       "<Figure size 432x288 with 1 Axes>"
      ]
     },
     "metadata": {
      "needs_background": "light"
     },
     "output_type": "display_data"
    }
   ],
   "source": [
    "sns.distplot((y_test-pred3),bins=50)\n",
    "plt.show()"
   ]
  },
  {
   "cell_type": "markdown",
   "metadata": {},
   "source": [
    "## NAIVE BAYES ACC TO TRAIN TEST DATA"
   ]
  },
  {
   "cell_type": "code",
   "execution_count": 50,
   "metadata": {},
   "outputs": [
    {
     "name": "stdout",
     "output_type": "stream",
     "text": [
      "0.9481132075471698\n"
     ]
    }
   ],
   "source": [
    "from sklearn.naive_bayes import GaussianNB\n",
    "model1=GaussianNB()\n",
    "model1.fit(x_train,y_train)\n",
    "\n",
    "pred1=model1.predict(x_test)\n",
    "pred1\n",
    "\n",
    "from sklearn.metrics import accuracy_score\n",
    "#from sklearn.metrics import confusion_matrix\n",
    "print(accuracy_score(y_test, pred1))\n",
    "\n"
   ]
  },
  {
   "cell_type": "markdown",
   "metadata": {},
   "source": [
    "## NAIVE BAYES ACC TO MIN MAX SCALAR"
   ]
  },
  {
   "cell_type": "code",
   "execution_count": 51,
   "metadata": {},
   "outputs": [
    {
     "name": "stdout",
     "output_type": "stream",
     "text": [
      "0.9481132075471698\n"
     ]
    }
   ],
   "source": [
    "from sklearn.naive_bayes import GaussianNB\n",
    "model2=GaussianNB()\n",
    "model2.fit(x_trainmin,y_train)\n",
    "\n",
    "pred2=model2.predict(x_testmin)\n",
    "pred2\n",
    "\n",
    "from sklearn.metrics import accuracy_score\n",
    "#from sklearn.metrics import confusion_matrix\n",
    "print(accuracy_score(y_test, pred2))\n",
    "\n"
   ]
  },
  {
   "cell_type": "markdown",
   "metadata": {},
   "source": [
    "## NAIVE BAYES ACC TO STANDARD SCALAR"
   ]
  },
  {
   "cell_type": "code",
   "execution_count": 52,
   "metadata": {},
   "outputs": [
    {
     "name": "stdout",
     "output_type": "stream",
     "text": [
      "0.9481132075471698\n"
     ]
    }
   ],
   "source": [
    "from sklearn.naive_bayes import GaussianNB\n",
    "model3=GaussianNB()\n",
    "model3.fit(x_trainstd,y_train)\n",
    "\n",
    "pred3=model3.predict(x_teststd)\n",
    "pred3\n",
    "\n",
    "from sklearn.metrics import accuracy_score\n",
    "#from sklearn.metrics import confusion_matrix\n",
    "print(accuracy_score(y_test, pred3))\n",
    "\n"
   ]
  },
  {
   "cell_type": "code",
   "execution_count": 53,
   "metadata": {
    "_cell_guid": "",
    "_uuid": ""
   },
   "outputs": [],
   "source": [
    "import pandas as pd\n",
    "african_crises = pd.read_csv(\"../input/africa-economic-banking-and-systemic-crisis-data/african_crises.csv\")"
   ]
  }
 ],
 "metadata": {
  "kernelspec": {
   "display_name": "Python 3",
   "language": "python",
   "name": "python3"
  },
  "language_info": {
   "codemirror_mode": {
    "name": "ipython",
    "version": 3
   },
   "file_extension": ".py",
   "mimetype": "text/x-python",
   "name": "python",
   "nbconvert_exporter": "python",
   "pygments_lexer": "ipython3",
   "version": "3.6.6"
  }
 },
 "nbformat": 4,
 "nbformat_minor": 1
}
