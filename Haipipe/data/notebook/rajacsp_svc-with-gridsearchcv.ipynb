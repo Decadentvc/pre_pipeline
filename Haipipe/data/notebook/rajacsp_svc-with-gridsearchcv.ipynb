{
 "cells": [
  {
   "cell_type": "code",
   "execution_count": 1,
   "metadata": {
    "_cell_guid": "b1076dfc-b9ad-4769-8c92-a6c4dae69d19",
    "_uuid": "8f2839f25d086af736a60e9eeb907d3b93b6e0e5",
    "execution": {
     "iopub.execute_input": "2020-10-01T00:29:56.891492Z",
     "iopub.status.busy": "2020-10-01T00:29:56.890794Z",
     "iopub.status.idle": "2020-10-01T00:29:56.897392Z",
     "shell.execute_reply": "2020-10-01T00:29:56.896762Z"
    },
    "papermill": {
     "duration": 0.029731,
     "end_time": "2020-10-01T00:29:56.897503",
     "exception": false,
     "start_time": "2020-10-01T00:29:56.867772",
     "status": "completed"
    },
    "tags": []
   },
   "outputs": [
    {
     "name": "stdout",
     "output_type": "stream",
     "text": [
      "/kaggle/input/heart-disease-uci/heart.csv\n"
     ]
    }
   ],
   "source": [
    "# This Python 3 environment comes with many helpful analytics libraries installed\n",
    "# It is defined by the kaggle/python Docker image: https://github.com/kaggle/docker-python\n",
    "# For example, here's several helpful packages to load\n",
    "\n",
    "import numpy as np # linear algebra\n",
    "import pandas as pd # data processing, CSV file I/O (e.g. pd.read_csv)\n",
    "\n",
    "# Input data files are available in the read-only \"../input/\" directory\n",
    "# For example, running this (by clicking run or pressing Shift+Enter) will list all files under the input directory\n",
    "\n",
    "import os\n",
    "for dirname, _, filenames in os.walk('/kaggle/input'):\n",
    "    for filename in filenames:\n",
    "        print(os.path.join(dirname, filename))\n",
    "\n",
    "# You can write up to 5GB to the current directory (/kaggle/working/) that gets preserved as output when you create a version using \"Save & Run All\" \n",
    "# You can also write temporary files to /kaggle/temp/, but they won't be saved outside of the current session"
   ]
  },
  {
   "cell_type": "markdown",
   "metadata": {
    "papermill": {
     "duration": 0.021236,
     "end_time": "2020-10-01T00:29:56.938002",
     "exception": false,
     "start_time": "2020-10-01T00:29:56.916766",
     "status": "completed"
    },
    "tags": []
   },
   "source": [
    "**About this Notebook:**\n",
    "\n",
    "* I have played with GridSearchCV in this notebook to let the newcomers get to know how to use GridSearch and improve the accuracy score.\n",
    "\n",
    "* No cleanup work is done in this dataset.\n",
    "\n",
    "* Just used the basic GridSearchCV params.\n",
    "\n",
    "* This is not production ready. Created this only for education and experiment purpose."
   ]
  },
  {
   "cell_type": "code",
   "execution_count": 2,
   "metadata": {
    "execution": {
     "iopub.execute_input": "2020-10-01T00:29:56.981167Z",
     "iopub.status.busy": "2020-10-01T00:29:56.980155Z",
     "iopub.status.idle": "2020-10-01T00:29:57.924239Z",
     "shell.execute_reply": "2020-10-01T00:29:57.923625Z"
    },
    "papermill": {
     "duration": 0.967655,
     "end_time": "2020-10-01T00:29:57.924350",
     "exception": false,
     "start_time": "2020-10-01T00:29:56.956695",
     "status": "completed"
    },
    "tags": []
   },
   "outputs": [],
   "source": [
    "from sklearn.model_selection import train_test_split\n",
    "from sklearn.model_selection import GridSearchCV"
   ]
  },
  {
   "cell_type": "code",
   "execution_count": 3,
   "metadata": {
    "_cell_guid": "79c7e3d0-c299-4dcb-8224-4455121ee9b0",
    "_uuid": "d629ff2d2480ee46fbb7e2d37f6b5fab8052498a",
    "execution": {
     "iopub.execute_input": "2020-10-01T00:29:57.964114Z",
     "iopub.status.busy": "2020-10-01T00:29:57.963445Z",
     "iopub.status.idle": "2020-10-01T00:29:57.966768Z",
     "shell.execute_reply": "2020-10-01T00:29:57.966156Z"
    },
    "papermill": {
     "duration": 0.02402,
     "end_time": "2020-10-01T00:29:57.966904",
     "exception": false,
     "start_time": "2020-10-01T00:29:57.942884",
     "status": "completed"
    },
    "tags": []
   },
   "outputs": [],
   "source": [
    "FILEPATH = '/kaggle/input/heart-disease-uci/heart.csv'"
   ]
  },
  {
   "cell_type": "code",
   "execution_count": 4,
   "metadata": {
    "execution": {
     "iopub.execute_input": "2020-10-01T00:29:58.009409Z",
     "iopub.status.busy": "2020-10-01T00:29:58.008363Z",
     "iopub.status.idle": "2020-10-01T00:29:58.021866Z",
     "shell.execute_reply": "2020-10-01T00:29:58.021201Z"
    },
    "papermill": {
     "duration": 0.037357,
     "end_time": "2020-10-01T00:29:58.021967",
     "exception": false,
     "start_time": "2020-10-01T00:29:57.984610",
     "status": "completed"
    },
    "tags": []
   },
   "outputs": [],
   "source": [
    "df = pd.read_csv(FILEPATH)"
   ]
  },
  {
   "cell_type": "code",
   "execution_count": 5,
   "metadata": {
    "execution": {
     "iopub.execute_input": "2020-10-01T00:29:58.073391Z",
     "iopub.status.busy": "2020-10-01T00:29:58.072503Z",
     "iopub.status.idle": "2020-10-01T00:29:58.081705Z",
     "shell.execute_reply": "2020-10-01T00:29:58.082210Z"
    },
    "papermill": {
     "duration": 0.042377,
     "end_time": "2020-10-01T00:29:58.082334",
     "exception": false,
     "start_time": "2020-10-01T00:29:58.039957",
     "status": "completed"
    },
    "tags": []
   },
   "outputs": [
    {
     "data": {
      "text/html": [
       "<div>\n",
       "<style scoped>\n",
       "    .dataframe tbody tr th:only-of-type {\n",
       "        vertical-align: middle;\n",
       "    }\n",
       "\n",
       "    .dataframe tbody tr th {\n",
       "        vertical-align: top;\n",
       "    }\n",
       "\n",
       "    .dataframe thead th {\n",
       "        text-align: right;\n",
       "    }\n",
       "</style>\n",
       "<table border=\"1\" class=\"dataframe\">\n",
       "  <thead>\n",
       "    <tr style=\"text-align: right;\">\n",
       "      <th></th>\n",
       "      <th>age</th>\n",
       "      <th>sex</th>\n",
       "      <th>cp</th>\n",
       "      <th>trestbps</th>\n",
       "      <th>chol</th>\n",
       "      <th>fbs</th>\n",
       "      <th>restecg</th>\n",
       "      <th>thalach</th>\n",
       "      <th>exang</th>\n",
       "      <th>oldpeak</th>\n",
       "      <th>slope</th>\n",
       "      <th>ca</th>\n",
       "      <th>thal</th>\n",
       "      <th>target</th>\n",
       "    </tr>\n",
       "  </thead>\n",
       "  <tbody>\n",
       "    <tr>\n",
       "      <th>135</th>\n",
       "      <td>49</td>\n",
       "      <td>0</td>\n",
       "      <td>0</td>\n",
       "      <td>130</td>\n",
       "      <td>269</td>\n",
       "      <td>0</td>\n",
       "      <td>1</td>\n",
       "      <td>163</td>\n",
       "      <td>0</td>\n",
       "      <td>0.0</td>\n",
       "      <td>2</td>\n",
       "      <td>0</td>\n",
       "      <td>2</td>\n",
       "      <td>1</td>\n",
       "    </tr>\n",
       "    <tr>\n",
       "      <th>58</th>\n",
       "      <td>34</td>\n",
       "      <td>1</td>\n",
       "      <td>3</td>\n",
       "      <td>118</td>\n",
       "      <td>182</td>\n",
       "      <td>0</td>\n",
       "      <td>0</td>\n",
       "      <td>174</td>\n",
       "      <td>0</td>\n",
       "      <td>0.0</td>\n",
       "      <td>2</td>\n",
       "      <td>0</td>\n",
       "      <td>2</td>\n",
       "      <td>1</td>\n",
       "    </tr>\n",
       "  </tbody>\n",
       "</table>\n",
       "</div>"
      ],
      "text/plain": [
       "     age  sex  cp  trestbps  chol  fbs  restecg  thalach  exang  oldpeak  \\\n",
       "135   49    0   0       130   269    0        1      163      0      0.0   \n",
       "58    34    1   3       118   182    0        0      174      0      0.0   \n",
       "\n",
       "     slope  ca  thal  target  \n",
       "135      2   0     2       1  \n",
       "58       2   0     2       1  "
      ]
     },
     "execution_count": 5,
     "metadata": {},
     "output_type": "execute_result"
    }
   ],
   "source": [
    "df.sample(2)"
   ]
  },
  {
   "cell_type": "code",
   "execution_count": 6,
   "metadata": {
    "execution": {
     "iopub.execute_input": "2020-10-01T00:29:58.129924Z",
     "iopub.status.busy": "2020-10-01T00:29:58.129200Z",
     "iopub.status.idle": "2020-10-01T00:29:58.132779Z",
     "shell.execute_reply": "2020-10-01T00:29:58.132233Z"
    },
    "papermill": {
     "duration": 0.032253,
     "end_time": "2020-10-01T00:29:58.132885",
     "exception": false,
     "start_time": "2020-10-01T00:29:58.100632",
     "status": "completed"
    },
    "tags": []
   },
   "outputs": [],
   "source": [
    "X = df.drop(['target'], axis = 1)\n",
    "y = df['target']"
   ]
  },
  {
   "cell_type": "code",
   "execution_count": 7,
   "metadata": {
    "execution": {
     "iopub.execute_input": "2020-10-01T00:29:58.173907Z",
     "iopub.status.busy": "2020-10-01T00:29:58.172961Z",
     "iopub.status.idle": "2020-10-01T00:29:58.251728Z",
     "shell.execute_reply": "2020-10-01T00:29:58.251137Z"
    },
    "papermill": {
     "duration": 0.100216,
     "end_time": "2020-10-01T00:29:58.251830",
     "exception": false,
     "start_time": "2020-10-01T00:29:58.151614",
     "status": "completed"
    },
    "tags": []
   },
   "outputs": [],
   "source": [
    "from sklearn.svm import SVC"
   ]
  },
  {
   "cell_type": "code",
   "execution_count": 8,
   "metadata": {
    "execution": {
     "iopub.execute_input": "2020-10-01T00:29:58.296078Z",
     "iopub.status.busy": "2020-10-01T00:29:58.295404Z",
     "iopub.status.idle": "2020-10-01T00:29:58.298083Z",
     "shell.execute_reply": "2020-10-01T00:29:58.298582Z"
    },
    "papermill": {
     "duration": 0.028836,
     "end_time": "2020-10-01T00:29:58.298796",
     "exception": false,
     "start_time": "2020-10-01T00:29:58.269960",
     "status": "completed"
    },
    "tags": []
   },
   "outputs": [],
   "source": [
    "results = pd.DataFrame(columns = ['train_score', 'test_score'])"
   ]
  },
  {
   "cell_type": "code",
   "execution_count": 9,
   "metadata": {
    "execution": {
     "iopub.execute_input": "2020-10-01T00:29:58.337868Z",
     "iopub.status.busy": "2020-10-01T00:29:58.337253Z",
     "iopub.status.idle": "2020-10-01T00:29:58.358859Z",
     "shell.execute_reply": "2020-10-01T00:29:58.359365Z"
    },
    "papermill": {
     "duration": 0.042311,
     "end_time": "2020-10-01T00:29:58.359519",
     "exception": false,
     "start_time": "2020-10-01T00:29:58.317208",
     "status": "completed"
    },
    "tags": []
   },
   "outputs": [],
   "source": [
    "X_train, X_test, y_train, y_test = train_test_split(X, y, test_size = 0.25, random_state = 23)\n",
    "\n",
    "model = SVC()\n",
    "model.fit(X_train, y_train)\n",
    "\n",
    "score_train = model.score(X_train, y_train)\n",
    "score_test = model.score(X_test, y_test)\n",
    "\n",
    "#print('training score : ', score_train)\n",
    "#print('testing score : ', score_test)\n",
    "\n",
    "col_name = 'SVC - '\n",
    "\n",
    "results.loc[col_name] = (score_train, score_test)"
   ]
  },
  {
   "cell_type": "code",
   "execution_count": 10,
   "metadata": {
    "execution": {
     "iopub.execute_input": "2020-10-01T00:29:58.399829Z",
     "iopub.status.busy": "2020-10-01T00:29:58.399217Z",
     "iopub.status.idle": "2020-10-01T00:29:58.406875Z",
     "shell.execute_reply": "2020-10-01T00:29:58.407437Z"
    },
    "papermill": {
     "duration": 0.029171,
     "end_time": "2020-10-01T00:29:58.407563",
     "exception": false,
     "start_time": "2020-10-01T00:29:58.378392",
     "status": "completed"
    },
    "tags": []
   },
   "outputs": [
    {
     "data": {
      "text/html": [
       "<div>\n",
       "<style scoped>\n",
       "    .dataframe tbody tr th:only-of-type {\n",
       "        vertical-align: middle;\n",
       "    }\n",
       "\n",
       "    .dataframe tbody tr th {\n",
       "        vertical-align: top;\n",
       "    }\n",
       "\n",
       "    .dataframe thead th {\n",
       "        text-align: right;\n",
       "    }\n",
       "</style>\n",
       "<table border=\"1\" class=\"dataframe\">\n",
       "  <thead>\n",
       "    <tr style=\"text-align: right;\">\n",
       "      <th></th>\n",
       "      <th>train_score</th>\n",
       "      <th>test_score</th>\n",
       "    </tr>\n",
       "  </thead>\n",
       "  <tbody>\n",
       "    <tr>\n",
       "      <th>SVC -</th>\n",
       "      <td>0.634361</td>\n",
       "      <td>0.75</td>\n",
       "    </tr>\n",
       "  </tbody>\n",
       "</table>\n",
       "</div>"
      ],
      "text/plain": [
       "        train_score  test_score\n",
       "SVC -      0.634361        0.75"
      ]
     },
     "execution_count": 10,
     "metadata": {},
     "output_type": "execute_result"
    }
   ],
   "source": [
    "results"
   ]
  },
  {
   "cell_type": "code",
   "execution_count": 11,
   "metadata": {
    "execution": {
     "iopub.execute_input": "2020-10-01T00:29:58.447385Z",
     "iopub.status.busy": "2020-10-01T00:29:58.446744Z",
     "iopub.status.idle": "2020-10-01T00:29:58.451840Z",
     "shell.execute_reply": "2020-10-01T00:29:58.452237Z"
    },
    "papermill": {
     "duration": 0.026523,
     "end_time": "2020-10-01T00:29:58.452356",
     "exception": false,
     "start_time": "2020-10-01T00:29:58.425833",
     "status": "completed"
    },
    "tags": []
   },
   "outputs": [],
   "source": [
    "# Param 1\n",
    "param_grid = {\n",
    "    'C' : [1, 10],\n",
    "    'gamma' : [0.1, 0.01],\n",
    "    'kernel' : ['rbf', 'linear']\n",
    "}\n",
    "\n",
    "# Param 2\n",
    "from sklearn.utils.fixes import loguniform\n",
    "\n",
    "# param_grid = {\n",
    "#     'C': loguniform(1e0, 1e3),\n",
    "#     'gamma': loguniform(1e-4, 1e-3),\n",
    "#     'kernel': ['rbf']\n",
    "# }"
   ]
  },
  {
   "cell_type": "code",
   "execution_count": 12,
   "metadata": {
    "execution": {
     "iopub.execute_input": "2020-10-01T00:29:58.496119Z",
     "iopub.status.busy": "2020-10-01T00:29:58.495212Z",
     "iopub.status.idle": "2020-10-01T00:29:58.498916Z",
     "shell.execute_reply": "2020-10-01T00:29:58.499438Z"
    },
    "papermill": {
     "duration": 0.028384,
     "end_time": "2020-10-01T00:29:58.499596",
     "exception": false,
     "start_time": "2020-10-01T00:29:58.471212",
     "status": "completed"
    },
    "tags": []
   },
   "outputs": [
    {
     "data": {
      "text/plain": [
       "{'C': [1, 10], 'gamma': [0.1, 0.01], 'kernel': ['rbf', 'linear']}"
      ]
     },
     "execution_count": 12,
     "metadata": {},
     "output_type": "execute_result"
    }
   ],
   "source": [
    "param_grid"
   ]
  },
  {
   "cell_type": "code",
   "execution_count": 13,
   "metadata": {
    "execution": {
     "iopub.execute_input": "2020-10-01T00:29:58.548972Z",
     "iopub.status.busy": "2020-10-01T00:29:58.548242Z",
     "iopub.status.idle": "2020-10-01T00:30:17.159507Z",
     "shell.execute_reply": "2020-10-01T00:30:17.158833Z"
    },
    "papermill": {
     "duration": 18.640066,
     "end_time": "2020-10-01T00:30:17.159619",
     "exception": false,
     "start_time": "2020-10-01T00:29:58.519553",
     "status": "completed"
    },
    "tags": []
   },
   "outputs": [
    {
     "name": "stdout",
     "output_type": "stream",
     "text": [
      "Fitting 5 folds for each of 8 candidates, totalling 40 fits\n",
      "[CV] C=1, gamma=0.1, kernel=rbf ......................................\n",
      "[CV] .......... C=1, gamma=0.1, kernel=rbf, score=0.543, total=   0.0s\n",
      "[CV] C=1, gamma=0.1, kernel=rbf ......................................\n",
      "[CV] .......... C=1, gamma=0.1, kernel=rbf, score=0.543, total=   0.0s\n",
      "[CV] C=1, gamma=0.1, kernel=rbf ......................................\n",
      "[CV] .......... C=1, gamma=0.1, kernel=rbf, score=0.556, total=   0.0s\n",
      "[CV] C=1, gamma=0.1, kernel=rbf ......................................\n",
      "[CV] .......... C=1, gamma=0.1, kernel=rbf, score=0.556, total=   0.0s\n",
      "[CV] C=1, gamma=0.1, kernel=rbf ......................................\n",
      "[CV] .......... C=1, gamma=0.1, kernel=rbf, score=0.556, total=   0.0s\n",
      "[CV] C=1, gamma=0.1, kernel=linear ...................................\n"
     ]
    },
    {
     "name": "stderr",
     "output_type": "stream",
     "text": [
      "[Parallel(n_jobs=1)]: Using backend SequentialBackend with 1 concurrent workers.\n",
      "[Parallel(n_jobs=1)]: Done   1 out of   1 | elapsed:    0.0s remaining:    0.0s\n",
      "[Parallel(n_jobs=1)]: Done   2 out of   2 | elapsed:    0.0s remaining:    0.0s\n"
     ]
    },
    {
     "name": "stdout",
     "output_type": "stream",
     "text": [
      "[CV] ....... C=1, gamma=0.1, kernel=linear, score=0.848, total=   0.5s\n",
      "[CV] C=1, gamma=0.1, kernel=linear ...................................\n",
      "[CV] ....... C=1, gamma=0.1, kernel=linear, score=0.870, total=   0.3s\n",
      "[CV] C=1, gamma=0.1, kernel=linear ...................................\n",
      "[CV] ....... C=1, gamma=0.1, kernel=linear, score=0.778, total=   0.2s\n",
      "[CV] C=1, gamma=0.1, kernel=linear ...................................\n",
      "[CV] ....... C=1, gamma=0.1, kernel=linear, score=0.822, total=   0.2s\n",
      "[CV] C=1, gamma=0.1, kernel=linear ...................................\n",
      "[CV] ....... C=1, gamma=0.1, kernel=linear, score=0.844, total=   0.3s\n",
      "[CV] C=1, gamma=0.01, kernel=rbf .....................................\n",
      "[CV] ......... C=1, gamma=0.01, kernel=rbf, score=0.500, total=   0.0s\n",
      "[CV] C=1, gamma=0.01, kernel=rbf .....................................\n",
      "[CV] ......... C=1, gamma=0.01, kernel=rbf, score=0.565, total=   0.0s\n",
      "[CV] C=1, gamma=0.01, kernel=rbf .....................................\n",
      "[CV] ......... C=1, gamma=0.01, kernel=rbf, score=0.511, total=   0.0s\n",
      "[CV] C=1, gamma=0.01, kernel=rbf .....................................\n",
      "[CV] ......... C=1, gamma=0.01, kernel=rbf, score=0.556, total=   0.0s\n",
      "[CV] C=1, gamma=0.01, kernel=rbf .....................................\n",
      "[CV] ......... C=1, gamma=0.01, kernel=rbf, score=0.622, total=   0.0s\n",
      "[CV] C=1, gamma=0.01, kernel=linear ..................................\n",
      "[CV] ...... C=1, gamma=0.01, kernel=linear, score=0.848, total=   0.5s\n",
      "[CV] C=1, gamma=0.01, kernel=linear ..................................\n",
      "[CV] ...... C=1, gamma=0.01, kernel=linear, score=0.870, total=   0.3s\n",
      "[CV] C=1, gamma=0.01, kernel=linear ..................................\n",
      "[CV] ...... C=1, gamma=0.01, kernel=linear, score=0.778, total=   0.2s\n",
      "[CV] C=1, gamma=0.01, kernel=linear ..................................\n",
      "[CV] ...... C=1, gamma=0.01, kernel=linear, score=0.822, total=   0.2s\n",
      "[CV] C=1, gamma=0.01, kernel=linear ..................................\n",
      "[CV] ...... C=1, gamma=0.01, kernel=linear, score=0.844, total=   0.3s\n",
      "[CV] C=10, gamma=0.1, kernel=rbf .....................................\n",
      "[CV] ......... C=10, gamma=0.1, kernel=rbf, score=0.543, total=   0.0s\n",
      "[CV] C=10, gamma=0.1, kernel=rbf .....................................\n",
      "[CV] ......... C=10, gamma=0.1, kernel=rbf, score=0.565, total=   0.0s\n",
      "[CV] C=10, gamma=0.1, kernel=rbf .....................................\n",
      "[CV] ......... C=10, gamma=0.1, kernel=rbf, score=0.556, total=   0.0s\n",
      "[CV] C=10, gamma=0.1, kernel=rbf .....................................\n",
      "[CV] ......... C=10, gamma=0.1, kernel=rbf, score=0.533, total=   0.0s\n",
      "[CV] C=10, gamma=0.1, kernel=rbf .....................................\n",
      "[CV] ......... C=10, gamma=0.1, kernel=rbf, score=0.578, total=   0.0s\n",
      "[CV] C=10, gamma=0.1, kernel=linear ..................................\n",
      "[CV] ...... C=10, gamma=0.1, kernel=linear, score=0.870, total=   1.3s\n",
      "[CV] C=10, gamma=0.1, kernel=linear ..................................\n",
      "[CV] ...... C=10, gamma=0.1, kernel=linear, score=0.891, total=   1.9s\n",
      "[CV] C=10, gamma=0.1, kernel=linear ..................................\n",
      "[CV] ...... C=10, gamma=0.1, kernel=linear, score=0.756, total=   1.8s\n",
      "[CV] C=10, gamma=0.1, kernel=linear ..................................\n",
      "[CV] ...... C=10, gamma=0.1, kernel=linear, score=0.800, total=   0.8s\n",
      "[CV] C=10, gamma=0.1, kernel=linear ..................................\n",
      "[CV] ...... C=10, gamma=0.1, kernel=linear, score=0.867, total=   0.9s\n",
      "[CV] C=10, gamma=0.01, kernel=rbf ....................................\n",
      "[CV] ........ C=10, gamma=0.01, kernel=rbf, score=0.457, total=   0.0s\n",
      "[CV] C=10, gamma=0.01, kernel=rbf ....................................\n",
      "[CV] ........ C=10, gamma=0.01, kernel=rbf, score=0.522, total=   0.0s\n",
      "[CV] C=10, gamma=0.01, kernel=rbf ....................................\n",
      "[CV] ........ C=10, gamma=0.01, kernel=rbf, score=0.511, total=   0.0s\n",
      "[CV] C=10, gamma=0.01, kernel=rbf ....................................\n",
      "[CV] ........ C=10, gamma=0.01, kernel=rbf, score=0.511, total=   0.0s\n",
      "[CV] C=10, gamma=0.01, kernel=rbf ....................................\n",
      "[CV] ........ C=10, gamma=0.01, kernel=rbf, score=0.600, total=   0.0s\n",
      "[CV] C=10, gamma=0.01, kernel=linear .................................\n",
      "[CV] ..... C=10, gamma=0.01, kernel=linear, score=0.870, total=   1.3s\n",
      "[CV] C=10, gamma=0.01, kernel=linear .................................\n",
      "[CV] ..... C=10, gamma=0.01, kernel=linear, score=0.891, total=   1.9s\n",
      "[CV] C=10, gamma=0.01, kernel=linear .................................\n",
      "[CV] ..... C=10, gamma=0.01, kernel=linear, score=0.756, total=   1.8s\n",
      "[CV] C=10, gamma=0.01, kernel=linear .................................\n",
      "[CV] ..... C=10, gamma=0.01, kernel=linear, score=0.800, total=   0.9s\n",
      "[CV] C=10, gamma=0.01, kernel=linear .................................\n",
      "[CV] ..... C=10, gamma=0.01, kernel=linear, score=0.867, total=   0.9s\n"
     ]
    },
    {
     "name": "stderr",
     "output_type": "stream",
     "text": [
      "[Parallel(n_jobs=1)]: Done  40 out of  40 | elapsed:   16.4s finished\n"
     ]
    },
    {
     "name": "stdout",
     "output_type": "stream",
     "text": [
      "\n",
      "best_params :  {'C': 10, 'gamma': 0.1, 'kernel': 'linear'}\n",
      "\n",
      "best_estimator :  SVC(C=10, gamma=0.1, kernel='linear')\n",
      "\n",
      "training score :  0.8414096916299559\n",
      "\n",
      "testing score :  0.8552631578947368\n"
     ]
    }
   ],
   "source": [
    "grid_model = GridSearchCV(SVC(), param_grid, refit = True, verbose = 3, cv = 5, return_train_score = False)\n",
    "\n",
    "grid_model.fit(X_train, y_train)\n",
    "\n",
    "best_params = grid_model.best_params_\n",
    "best_estimator = grid_model.best_estimator_\n",
    "\n",
    "print('\\nbest_params : ', best_params)\n",
    "print('\\nbest_estimator : ', best_estimator)\n",
    "\n",
    "score_train = grid_model.score(X_train, y_train)\n",
    "score_test = grid_model.score(X_test, y_test)\n",
    "\n",
    "print('\\ntraining score : ', score_train)\n",
    "print('\\ntesting score : ', score_test)"
   ]
  },
  {
   "cell_type": "code",
   "execution_count": 14,
   "metadata": {
    "execution": {
     "iopub.execute_input": "2020-10-01T00:30:17.223979Z",
     "iopub.status.busy": "2020-10-01T00:30:17.223322Z",
     "iopub.status.idle": "2020-10-01T00:30:17.227707Z",
     "shell.execute_reply": "2020-10-01T00:30:17.227027Z"
    },
    "papermill": {
     "duration": 0.040969,
     "end_time": "2020-10-01T00:30:17.227816",
     "exception": false,
     "start_time": "2020-10-01T00:30:17.186847",
     "status": "completed"
    },
    "tags": []
   },
   "outputs": [
    {
     "data": {
      "text/plain": [
       "{'mean_fit_time': array([0.00545774, 0.28293357, 0.0050909 , 0.28206882, 0.00555468,\n",
       "        1.32797413, 0.00519404, 1.34386973]),\n",
       " 'std_fit_time': array([4.45943520e-04, 1.10794822e-01, 2.21355410e-04, 1.04945385e-01,\n",
       "        3.05034933e-04, 4.44182638e-01, 5.83179057e-05, 4.50677105e-01]),\n",
       " 'mean_score_time': array([0.00241332, 0.00243878, 0.00230641, 0.0023807 , 0.00246406,\n",
       "        0.00253835, 0.00238266, 0.00242834]),\n",
       " 'std_score_time': array([6.52395140e-05, 1.43182218e-04, 4.12006069e-05, 1.08466001e-04,\n",
       "        1.24732525e-04, 1.06513681e-04, 7.79709097e-05, 8.07109961e-05]),\n",
       " 'param_C': masked_array(data=[1, 1, 1, 1, 10, 10, 10, 10],\n",
       "              mask=[False, False, False, False, False, False, False, False],\n",
       "        fill_value='?',\n",
       "             dtype=object),\n",
       " 'param_gamma': masked_array(data=[0.1, 0.1, 0.01, 0.01, 0.1, 0.1, 0.01, 0.01],\n",
       "              mask=[False, False, False, False, False, False, False, False],\n",
       "        fill_value='?',\n",
       "             dtype=object),\n",
       " 'param_kernel': masked_array(data=['rbf', 'linear', 'rbf', 'linear', 'rbf', 'linear',\n",
       "                    'rbf', 'linear'],\n",
       "              mask=[False, False, False, False, False, False, False, False],\n",
       "        fill_value='?',\n",
       "             dtype=object),\n",
       " 'params': [{'C': 1, 'gamma': 0.1, 'kernel': 'rbf'},\n",
       "  {'C': 1, 'gamma': 0.1, 'kernel': 'linear'},\n",
       "  {'C': 1, 'gamma': 0.01, 'kernel': 'rbf'},\n",
       "  {'C': 1, 'gamma': 0.01, 'kernel': 'linear'},\n",
       "  {'C': 10, 'gamma': 0.1, 'kernel': 'rbf'},\n",
       "  {'C': 10, 'gamma': 0.1, 'kernel': 'linear'},\n",
       "  {'C': 10, 'gamma': 0.01, 'kernel': 'rbf'},\n",
       "  {'C': 10, 'gamma': 0.01, 'kernel': 'linear'}],\n",
       " 'split0_test_score': array([0.54347826, 0.84782609, 0.5       , 0.84782609, 0.54347826,\n",
       "        0.86956522, 0.45652174, 0.86956522]),\n",
       " 'split1_test_score': array([0.54347826, 0.86956522, 0.56521739, 0.86956522, 0.56521739,\n",
       "        0.89130435, 0.52173913, 0.89130435]),\n",
       " 'split2_test_score': array([0.55555556, 0.77777778, 0.51111111, 0.77777778, 0.55555556,\n",
       "        0.75555556, 0.51111111, 0.75555556]),\n",
       " 'split3_test_score': array([0.55555556, 0.82222222, 0.55555556, 0.82222222, 0.53333333,\n",
       "        0.8       , 0.51111111, 0.8       ]),\n",
       " 'split4_test_score': array([0.55555556, 0.84444444, 0.62222222, 0.84444444, 0.57777778,\n",
       "        0.86666667, 0.6       , 0.86666667]),\n",
       " 'mean_test_score': array([0.55072464, 0.83236715, 0.55082126, 0.83236715, 0.55507246,\n",
       "        0.83661836, 0.52009662, 0.83661836]),\n",
       " 'std_test_score': array([0.00591664, 0.03114949, 0.0435602 , 0.03114949, 0.01565694,\n",
       "        0.05077605, 0.0460228 , 0.05077605]),\n",
       " 'rank_test_score': array([7, 3, 6, 3, 5, 1, 8, 1], dtype=int32)}"
      ]
     },
     "execution_count": 14,
     "metadata": {},
     "output_type": "execute_result"
    }
   ],
   "source": [
    "grid_model.cv_results_"
   ]
  },
  {
   "cell_type": "code",
   "execution_count": 15,
   "metadata": {
    "execution": {
     "iopub.execute_input": "2020-10-01T00:30:17.291353Z",
     "iopub.status.busy": "2020-10-01T00:30:17.290397Z",
     "iopub.status.idle": "2020-10-01T00:30:17.293814Z",
     "shell.execute_reply": "2020-10-01T00:30:17.293232Z"
    },
    "papermill": {
     "duration": 0.038028,
     "end_time": "2020-10-01T00:30:17.293921",
     "exception": false,
     "start_time": "2020-10-01T00:30:17.255893",
     "status": "completed"
    },
    "tags": []
   },
   "outputs": [],
   "source": [
    "cv_results = pd.DataFrame(grid_model.cv_results_)"
   ]
  },
  {
   "cell_type": "code",
   "execution_count": 16,
   "metadata": {
    "execution": {
     "iopub.execute_input": "2020-10-01T00:30:17.374890Z",
     "iopub.status.busy": "2020-10-01T00:30:17.373951Z",
     "iopub.status.idle": "2020-10-01T00:30:17.378802Z",
     "shell.execute_reply": "2020-10-01T00:30:17.378315Z"
    },
    "papermill": {
     "duration": 0.056783,
     "end_time": "2020-10-01T00:30:17.378906",
     "exception": false,
     "start_time": "2020-10-01T00:30:17.322123",
     "status": "completed"
    },
    "tags": []
   },
   "outputs": [
    {
     "data": {
      "text/html": [
       "<div>\n",
       "<style scoped>\n",
       "    .dataframe tbody tr th:only-of-type {\n",
       "        vertical-align: middle;\n",
       "    }\n",
       "\n",
       "    .dataframe tbody tr th {\n",
       "        vertical-align: top;\n",
       "    }\n",
       "\n",
       "    .dataframe thead th {\n",
       "        text-align: right;\n",
       "    }\n",
       "</style>\n",
       "<table border=\"1\" class=\"dataframe\">\n",
       "  <thead>\n",
       "    <tr style=\"text-align: right;\">\n",
       "      <th></th>\n",
       "      <th>mean_fit_time</th>\n",
       "      <th>std_fit_time</th>\n",
       "      <th>mean_score_time</th>\n",
       "      <th>std_score_time</th>\n",
       "      <th>param_C</th>\n",
       "      <th>param_gamma</th>\n",
       "      <th>param_kernel</th>\n",
       "      <th>params</th>\n",
       "      <th>split0_test_score</th>\n",
       "      <th>split1_test_score</th>\n",
       "      <th>split2_test_score</th>\n",
       "      <th>split3_test_score</th>\n",
       "      <th>split4_test_score</th>\n",
       "      <th>mean_test_score</th>\n",
       "      <th>std_test_score</th>\n",
       "      <th>rank_test_score</th>\n",
       "    </tr>\n",
       "  </thead>\n",
       "  <tbody>\n",
       "    <tr>\n",
       "      <th>0</th>\n",
       "      <td>0.005458</td>\n",
       "      <td>0.000446</td>\n",
       "      <td>0.002413</td>\n",
       "      <td>0.000065</td>\n",
       "      <td>1</td>\n",
       "      <td>0.1</td>\n",
       "      <td>rbf</td>\n",
       "      <td>{'C': 1, 'gamma': 0.1, 'kernel': 'rbf'}</td>\n",
       "      <td>0.543478</td>\n",
       "      <td>0.543478</td>\n",
       "      <td>0.555556</td>\n",
       "      <td>0.555556</td>\n",
       "      <td>0.555556</td>\n",
       "      <td>0.550725</td>\n",
       "      <td>0.005917</td>\n",
       "      <td>7</td>\n",
       "    </tr>\n",
       "    <tr>\n",
       "      <th>1</th>\n",
       "      <td>0.282934</td>\n",
       "      <td>0.110795</td>\n",
       "      <td>0.002439</td>\n",
       "      <td>0.000143</td>\n",
       "      <td>1</td>\n",
       "      <td>0.1</td>\n",
       "      <td>linear</td>\n",
       "      <td>{'C': 1, 'gamma': 0.1, 'kernel': 'linear'}</td>\n",
       "      <td>0.847826</td>\n",
       "      <td>0.869565</td>\n",
       "      <td>0.777778</td>\n",
       "      <td>0.822222</td>\n",
       "      <td>0.844444</td>\n",
       "      <td>0.832367</td>\n",
       "      <td>0.031149</td>\n",
       "      <td>3</td>\n",
       "    </tr>\n",
       "    <tr>\n",
       "      <th>2</th>\n",
       "      <td>0.005091</td>\n",
       "      <td>0.000221</td>\n",
       "      <td>0.002306</td>\n",
       "      <td>0.000041</td>\n",
       "      <td>1</td>\n",
       "      <td>0.01</td>\n",
       "      <td>rbf</td>\n",
       "      <td>{'C': 1, 'gamma': 0.01, 'kernel': 'rbf'}</td>\n",
       "      <td>0.500000</td>\n",
       "      <td>0.565217</td>\n",
       "      <td>0.511111</td>\n",
       "      <td>0.555556</td>\n",
       "      <td>0.622222</td>\n",
       "      <td>0.550821</td>\n",
       "      <td>0.043560</td>\n",
       "      <td>6</td>\n",
       "    </tr>\n",
       "    <tr>\n",
       "      <th>3</th>\n",
       "      <td>0.282069</td>\n",
       "      <td>0.104945</td>\n",
       "      <td>0.002381</td>\n",
       "      <td>0.000108</td>\n",
       "      <td>1</td>\n",
       "      <td>0.01</td>\n",
       "      <td>linear</td>\n",
       "      <td>{'C': 1, 'gamma': 0.01, 'kernel': 'linear'}</td>\n",
       "      <td>0.847826</td>\n",
       "      <td>0.869565</td>\n",
       "      <td>0.777778</td>\n",
       "      <td>0.822222</td>\n",
       "      <td>0.844444</td>\n",
       "      <td>0.832367</td>\n",
       "      <td>0.031149</td>\n",
       "      <td>3</td>\n",
       "    </tr>\n",
       "    <tr>\n",
       "      <th>4</th>\n",
       "      <td>0.005555</td>\n",
       "      <td>0.000305</td>\n",
       "      <td>0.002464</td>\n",
       "      <td>0.000125</td>\n",
       "      <td>10</td>\n",
       "      <td>0.1</td>\n",
       "      <td>rbf</td>\n",
       "      <td>{'C': 10, 'gamma': 0.1, 'kernel': 'rbf'}</td>\n",
       "      <td>0.543478</td>\n",
       "      <td>0.565217</td>\n",
       "      <td>0.555556</td>\n",
       "      <td>0.533333</td>\n",
       "      <td>0.577778</td>\n",
       "      <td>0.555072</td>\n",
       "      <td>0.015657</td>\n",
       "      <td>5</td>\n",
       "    </tr>\n",
       "    <tr>\n",
       "      <th>5</th>\n",
       "      <td>1.327974</td>\n",
       "      <td>0.444183</td>\n",
       "      <td>0.002538</td>\n",
       "      <td>0.000107</td>\n",
       "      <td>10</td>\n",
       "      <td>0.1</td>\n",
       "      <td>linear</td>\n",
       "      <td>{'C': 10, 'gamma': 0.1, 'kernel': 'linear'}</td>\n",
       "      <td>0.869565</td>\n",
       "      <td>0.891304</td>\n",
       "      <td>0.755556</td>\n",
       "      <td>0.800000</td>\n",
       "      <td>0.866667</td>\n",
       "      <td>0.836618</td>\n",
       "      <td>0.050776</td>\n",
       "      <td>1</td>\n",
       "    </tr>\n",
       "    <tr>\n",
       "      <th>6</th>\n",
       "      <td>0.005194</td>\n",
       "      <td>0.000058</td>\n",
       "      <td>0.002383</td>\n",
       "      <td>0.000078</td>\n",
       "      <td>10</td>\n",
       "      <td>0.01</td>\n",
       "      <td>rbf</td>\n",
       "      <td>{'C': 10, 'gamma': 0.01, 'kernel': 'rbf'}</td>\n",
       "      <td>0.456522</td>\n",
       "      <td>0.521739</td>\n",
       "      <td>0.511111</td>\n",
       "      <td>0.511111</td>\n",
       "      <td>0.600000</td>\n",
       "      <td>0.520097</td>\n",
       "      <td>0.046023</td>\n",
       "      <td>8</td>\n",
       "    </tr>\n",
       "    <tr>\n",
       "      <th>7</th>\n",
       "      <td>1.343870</td>\n",
       "      <td>0.450677</td>\n",
       "      <td>0.002428</td>\n",
       "      <td>0.000081</td>\n",
       "      <td>10</td>\n",
       "      <td>0.01</td>\n",
       "      <td>linear</td>\n",
       "      <td>{'C': 10, 'gamma': 0.01, 'kernel': 'linear'}</td>\n",
       "      <td>0.869565</td>\n",
       "      <td>0.891304</td>\n",
       "      <td>0.755556</td>\n",
       "      <td>0.800000</td>\n",
       "      <td>0.866667</td>\n",
       "      <td>0.836618</td>\n",
       "      <td>0.050776</td>\n",
       "      <td>1</td>\n",
       "    </tr>\n",
       "  </tbody>\n",
       "</table>\n",
       "</div>"
      ],
      "text/plain": [
       "   mean_fit_time  std_fit_time  mean_score_time  std_score_time param_C  \\\n",
       "0       0.005458      0.000446         0.002413        0.000065       1   \n",
       "1       0.282934      0.110795         0.002439        0.000143       1   \n",
       "2       0.005091      0.000221         0.002306        0.000041       1   \n",
       "3       0.282069      0.104945         0.002381        0.000108       1   \n",
       "4       0.005555      0.000305         0.002464        0.000125      10   \n",
       "5       1.327974      0.444183         0.002538        0.000107      10   \n",
       "6       0.005194      0.000058         0.002383        0.000078      10   \n",
       "7       1.343870      0.450677         0.002428        0.000081      10   \n",
       "\n",
       "  param_gamma param_kernel                                        params  \\\n",
       "0         0.1          rbf       {'C': 1, 'gamma': 0.1, 'kernel': 'rbf'}   \n",
       "1         0.1       linear    {'C': 1, 'gamma': 0.1, 'kernel': 'linear'}   \n",
       "2        0.01          rbf      {'C': 1, 'gamma': 0.01, 'kernel': 'rbf'}   \n",
       "3        0.01       linear   {'C': 1, 'gamma': 0.01, 'kernel': 'linear'}   \n",
       "4         0.1          rbf      {'C': 10, 'gamma': 0.1, 'kernel': 'rbf'}   \n",
       "5         0.1       linear   {'C': 10, 'gamma': 0.1, 'kernel': 'linear'}   \n",
       "6        0.01          rbf     {'C': 10, 'gamma': 0.01, 'kernel': 'rbf'}   \n",
       "7        0.01       linear  {'C': 10, 'gamma': 0.01, 'kernel': 'linear'}   \n",
       "\n",
       "   split0_test_score  split1_test_score  split2_test_score  split3_test_score  \\\n",
       "0           0.543478           0.543478           0.555556           0.555556   \n",
       "1           0.847826           0.869565           0.777778           0.822222   \n",
       "2           0.500000           0.565217           0.511111           0.555556   \n",
       "3           0.847826           0.869565           0.777778           0.822222   \n",
       "4           0.543478           0.565217           0.555556           0.533333   \n",
       "5           0.869565           0.891304           0.755556           0.800000   \n",
       "6           0.456522           0.521739           0.511111           0.511111   \n",
       "7           0.869565           0.891304           0.755556           0.800000   \n",
       "\n",
       "   split4_test_score  mean_test_score  std_test_score  rank_test_score  \n",
       "0           0.555556         0.550725        0.005917                7  \n",
       "1           0.844444         0.832367        0.031149                3  \n",
       "2           0.622222         0.550821        0.043560                6  \n",
       "3           0.844444         0.832367        0.031149                3  \n",
       "4           0.577778         0.555072        0.015657                5  \n",
       "5           0.866667         0.836618        0.050776                1  \n",
       "6           0.600000         0.520097        0.046023                8  \n",
       "7           0.866667         0.836618        0.050776                1  "
      ]
     },
     "execution_count": 16,
     "metadata": {},
     "output_type": "execute_result"
    }
   ],
   "source": [
    "cv_results"
   ]
  },
  {
   "cell_type": "code",
   "execution_count": 17,
   "metadata": {
    "execution": {
     "iopub.execute_input": "2020-10-01T00:30:17.440291Z",
     "iopub.status.busy": "2020-10-01T00:30:17.439669Z",
     "iopub.status.idle": "2020-10-01T00:30:17.441525Z",
     "shell.execute_reply": "2020-10-01T00:30:17.442079Z"
    },
    "papermill": {
     "duration": 0.034798,
     "end_time": "2020-10-01T00:30:17.442203",
     "exception": false,
     "start_time": "2020-10-01T00:30:17.407405",
     "status": "completed"
    },
    "tags": []
   },
   "outputs": [],
   "source": [
    "df_min_results = cv_results[['param_C', 'param_kernel', 'mean_test_score']]"
   ]
  },
  {
   "cell_type": "code",
   "execution_count": 18,
   "metadata": {
    "execution": {
     "iopub.execute_input": "2020-10-01T00:30:17.505365Z",
     "iopub.status.busy": "2020-10-01T00:30:17.504338Z",
     "iopub.status.idle": "2020-10-01T00:30:17.515240Z",
     "shell.execute_reply": "2020-10-01T00:30:17.516091Z"
    },
    "papermill": {
     "duration": 0.045624,
     "end_time": "2020-10-01T00:30:17.516283",
     "exception": false,
     "start_time": "2020-10-01T00:30:17.470659",
     "status": "completed"
    },
    "tags": []
   },
   "outputs": [
    {
     "data": {
      "text/html": [
       "<div>\n",
       "<style scoped>\n",
       "    .dataframe tbody tr th:only-of-type {\n",
       "        vertical-align: middle;\n",
       "    }\n",
       "\n",
       "    .dataframe tbody tr th {\n",
       "        vertical-align: top;\n",
       "    }\n",
       "\n",
       "    .dataframe thead th {\n",
       "        text-align: right;\n",
       "    }\n",
       "</style>\n",
       "<table border=\"1\" class=\"dataframe\">\n",
       "  <thead>\n",
       "    <tr style=\"text-align: right;\">\n",
       "      <th></th>\n",
       "      <th>param_C</th>\n",
       "      <th>param_kernel</th>\n",
       "      <th>mean_test_score</th>\n",
       "    </tr>\n",
       "  </thead>\n",
       "  <tbody>\n",
       "    <tr>\n",
       "      <th>0</th>\n",
       "      <td>1</td>\n",
       "      <td>rbf</td>\n",
       "      <td>0.550725</td>\n",
       "    </tr>\n",
       "    <tr>\n",
       "      <th>1</th>\n",
       "      <td>1</td>\n",
       "      <td>linear</td>\n",
       "      <td>0.832367</td>\n",
       "    </tr>\n",
       "    <tr>\n",
       "      <th>2</th>\n",
       "      <td>1</td>\n",
       "      <td>rbf</td>\n",
       "      <td>0.550821</td>\n",
       "    </tr>\n",
       "    <tr>\n",
       "      <th>3</th>\n",
       "      <td>1</td>\n",
       "      <td>linear</td>\n",
       "      <td>0.832367</td>\n",
       "    </tr>\n",
       "    <tr>\n",
       "      <th>4</th>\n",
       "      <td>10</td>\n",
       "      <td>rbf</td>\n",
       "      <td>0.555072</td>\n",
       "    </tr>\n",
       "    <tr>\n",
       "      <th>5</th>\n",
       "      <td>10</td>\n",
       "      <td>linear</td>\n",
       "      <td>0.836618</td>\n",
       "    </tr>\n",
       "    <tr>\n",
       "      <th>6</th>\n",
       "      <td>10</td>\n",
       "      <td>rbf</td>\n",
       "      <td>0.520097</td>\n",
       "    </tr>\n",
       "    <tr>\n",
       "      <th>7</th>\n",
       "      <td>10</td>\n",
       "      <td>linear</td>\n",
       "      <td>0.836618</td>\n",
       "    </tr>\n",
       "  </tbody>\n",
       "</table>\n",
       "</div>"
      ],
      "text/plain": [
       "  param_C param_kernel  mean_test_score\n",
       "0       1          rbf         0.550725\n",
       "1       1       linear         0.832367\n",
       "2       1          rbf         0.550821\n",
       "3       1       linear         0.832367\n",
       "4      10          rbf         0.555072\n",
       "5      10       linear         0.836618\n",
       "6      10          rbf         0.520097\n",
       "7      10       linear         0.836618"
      ]
     },
     "execution_count": 18,
     "metadata": {},
     "output_type": "execute_result"
    }
   ],
   "source": [
    "df_min_results"
   ]
  },
  {
   "cell_type": "code",
   "execution_count": 19,
   "metadata": {
    "execution": {
     "iopub.execute_input": "2020-10-01T00:30:17.582261Z",
     "iopub.status.busy": "2020-10-01T00:30:17.581730Z",
     "iopub.status.idle": "2020-10-01T00:30:17.585897Z",
     "shell.execute_reply": "2020-10-01T00:30:17.586406Z"
    },
    "papermill": {
     "duration": 0.035042,
     "end_time": "2020-10-01T00:30:17.586564",
     "exception": false,
     "start_time": "2020-10-01T00:30:17.551522",
     "status": "completed"
    },
    "tags": []
   },
   "outputs": [
    {
     "data": {
      "text/plain": [
       "0.8366183574879227"
      ]
     },
     "execution_count": 19,
     "metadata": {},
     "output_type": "execute_result"
    }
   ],
   "source": [
    "grid_model.best_score_"
   ]
  },
  {
   "cell_type": "code",
   "execution_count": 20,
   "metadata": {
    "execution": {
     "iopub.execute_input": "2020-10-01T00:30:17.645507Z",
     "iopub.status.busy": "2020-10-01T00:30:17.644967Z",
     "iopub.status.idle": "2020-10-01T00:30:17.649480Z",
     "shell.execute_reply": "2020-10-01T00:30:17.649996Z"
    },
    "papermill": {
     "duration": 0.034709,
     "end_time": "2020-10-01T00:30:17.650107",
     "exception": false,
     "start_time": "2020-10-01T00:30:17.615398",
     "status": "completed"
    },
    "tags": []
   },
   "outputs": [
    {
     "data": {
      "text/plain": [
       "{'C': 10, 'gamma': 0.1, 'kernel': 'linear'}"
      ]
     },
     "execution_count": 20,
     "metadata": {},
     "output_type": "execute_result"
    }
   ],
   "source": [
    "grid_model.best_params_"
   ]
  },
  {
   "cell_type": "code",
   "execution_count": 21,
   "metadata": {
    "execution": {
     "iopub.execute_input": "2020-10-01T00:30:17.709120Z",
     "iopub.status.busy": "2020-10-01T00:30:17.708523Z",
     "iopub.status.idle": "2020-10-01T00:30:17.712867Z",
     "shell.execute_reply": "2020-10-01T00:30:17.712331Z"
    },
    "papermill": {
     "duration": 0.035882,
     "end_time": "2020-10-01T00:30:17.712980",
     "exception": false,
     "start_time": "2020-10-01T00:30:17.677098",
     "status": "completed"
    },
    "tags": []
   },
   "outputs": [],
   "source": [
    "from sklearn.metrics import classification_report"
   ]
  },
  {
   "cell_type": "code",
   "execution_count": 22,
   "metadata": {
    "execution": {
     "iopub.execute_input": "2020-10-01T00:30:17.776409Z",
     "iopub.status.busy": "2020-10-01T00:30:17.775806Z",
     "iopub.status.idle": "2020-10-01T00:30:17.778072Z",
     "shell.execute_reply": "2020-10-01T00:30:17.778504Z"
    },
    "papermill": {
     "duration": 0.036739,
     "end_time": "2020-10-01T00:30:17.778619",
     "exception": false,
     "start_time": "2020-10-01T00:30:17.741880",
     "status": "completed"
    },
    "tags": []
   },
   "outputs": [],
   "source": [
    "y_pred = grid_model.predict(X_test)"
   ]
  },
  {
   "cell_type": "code",
   "execution_count": 23,
   "metadata": {
    "execution": {
     "iopub.execute_input": "2020-10-01T00:30:17.841944Z",
     "iopub.status.busy": "2020-10-01T00:30:17.841302Z",
     "iopub.status.idle": "2020-10-01T00:30:17.843429Z",
     "shell.execute_reply": "2020-10-01T00:30:17.843940Z"
    },
    "papermill": {
     "duration": 0.036772,
     "end_time": "2020-10-01T00:30:17.844080",
     "exception": false,
     "start_time": "2020-10-01T00:30:17.807308",
     "status": "completed"
    },
    "tags": []
   },
   "outputs": [],
   "source": [
    "# classification_report(y_test, y_pred)"
   ]
  },
  {
   "cell_type": "code",
   "execution_count": 24,
   "metadata": {
    "execution": {
     "iopub.execute_input": "2020-10-01T00:30:17.909803Z",
     "iopub.status.busy": "2020-10-01T00:30:17.909200Z",
     "iopub.status.idle": "2020-10-01T00:30:17.919085Z",
     "shell.execute_reply": "2020-10-01T00:30:17.919562Z"
    },
    "papermill": {
     "duration": 0.043721,
     "end_time": "2020-10-01T00:30:17.919714",
     "exception": false,
     "start_time": "2020-10-01T00:30:17.875993",
     "status": "completed"
    },
    "tags": []
   },
   "outputs": [
    {
     "name": "stdout",
     "output_type": "stream",
     "text": [
      "              precision    recall  f1-score   support\n",
      "\n",
      "           0       0.88      0.81      0.84        36\n",
      "           1       0.84      0.90      0.87        40\n",
      "\n",
      "    accuracy                           0.86        76\n",
      "   macro avg       0.86      0.85      0.85        76\n",
      "weighted avg       0.86      0.86      0.85        76\n",
      "\n"
     ]
    }
   ],
   "source": [
    "print(classification_report(y_test, y_pred))"
   ]
  },
  {
   "cell_type": "markdown",
   "metadata": {
    "papermill": {
     "duration": 0.033126,
     "end_time": "2020-10-01T00:30:17.985751",
     "exception": false,
     "start_time": "2020-10-01T00:30:17.952625",
     "status": "completed"
    },
    "tags": []
   },
   "source": [
    "Note:\n",
    "* I will add some basic documentation so you can understand better.\n",
    "* I will do some code cleanup for better understanding"
   ]
  },
  {
   "cell_type": "markdown",
   "metadata": {
    "papermill": {
     "duration": 0.029352,
     "end_time": "2020-10-01T00:30:18.045708",
     "exception": false,
     "start_time": "2020-10-01T00:30:18.016356",
     "status": "completed"
    },
    "tags": []
   },
   "source": [
    "Resources:\n",
    "\n",
    "* https://www.youtube.com/watch?v=HdlDYng8g9s\n",
    "* https://www.kaggle.com/vigneshsharma99/heart-disease-classification"
   ]
  },
  {
   "cell_type": "code",
   "execution_count": null,
   "metadata": {
    "papermill": {
     "duration": 0.029027,
     "end_time": "2020-10-01T00:30:18.103896",
     "exception": false,
     "start_time": "2020-10-01T00:30:18.074869",
     "status": "completed"
    },
    "tags": []
   },
   "outputs": [],
   "source": []
  }
 ],
 "metadata": {
  "kernelspec": {
   "display_name": "Python 3",
   "language": "python",
   "name": "python3"
  },
  "language_info": {
   "codemirror_mode": {
    "name": "ipython",
    "version": 3
   },
   "file_extension": ".py",
   "mimetype": "text/x-python",
   "name": "python",
   "nbconvert_exporter": "python",
   "pygments_lexer": "ipython3",
   "version": "3.7.6"
  },
  "papermill": {
   "duration": 25.460148,
   "end_time": "2020-10-01T00:30:18.242846",
   "environment_variables": {},
   "exception": null,
   "input_path": "__notebook__.ipynb",
   "output_path": "__notebook__.ipynb",
   "parameters": {},
   "start_time": "2020-10-01T00:29:52.782698",
   "version": "2.1.0"
  }
 },
 "nbformat": 4,
 "nbformat_minor": 4
}
