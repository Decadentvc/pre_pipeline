{
 "cells": [
  {
   "cell_type": "markdown",
   "metadata": {
    "papermill": {
     "duration": 0.040954,
     "end_time": "2020-10-11T19:41:01.423933",
     "exception": false,
     "start_time": "2020-10-11T19:41:01.382979",
     "status": "completed"
    },
    "tags": []
   },
   "source": [
    "Метрические методы классификации\n",
    "1. Методы ближайших соседей\n",
    "2. Настройка оптимального числа ближайших соседей в методе kNN\n",
    "3. Выбор метрики в методе kNN\n",
    "4. Другие метрические методы"
   ]
  },
  {
   "cell_type": "markdown",
   "metadata": {
    "papermill": {
     "duration": 0.039203,
     "end_time": "2020-10-11T19:41:01.501631",
     "exception": false,
     "start_time": "2020-10-11T19:41:01.462428",
     "status": "completed"
    },
    "tags": []
   },
   "source": [
    "# Методы ближайших соседей"
   ]
  },
  {
   "cell_type": "markdown",
   "metadata": {
    "papermill": {
     "duration": 0.038943,
     "end_time": "2020-10-11T19:41:01.579434",
     "exception": false,
     "start_time": "2020-10-11T19:41:01.540491",
     "status": "completed"
    },
    "tags": []
   },
   "source": [
    "*1. Подключитесь к одному из наборов данных на Kaggle: Вариант 3: Bank marketing.*"
   ]
  },
  {
   "cell_type": "code",
   "execution_count": 1,
   "metadata": {
    "_cell_guid": "b1076dfc-b9ad-4769-8c92-a6c4dae69d19",
    "_uuid": "8f2839f25d086af736a60e9eeb907d3b93b6e0e5",
    "execution": {
     "iopub.execute_input": "2020-10-11T19:41:01.665771Z",
     "iopub.status.busy": "2020-10-11T19:41:01.664910Z",
     "iopub.status.idle": "2020-10-11T19:41:01.675814Z",
     "shell.execute_reply": "2020-10-11T19:41:01.676386Z"
    },
    "papermill": {
     "duration": 0.057497,
     "end_time": "2020-10-11T19:41:01.676559",
     "exception": false,
     "start_time": "2020-10-11T19:41:01.619062",
     "status": "completed"
    },
    "tags": []
   },
   "outputs": [
    {
     "name": "stdout",
     "output_type": "stream",
     "text": [
      "/kaggle/input/bank-marketing-dataset/bank.csv\n"
     ]
    }
   ],
   "source": [
    "# This Python 3 environment comes with many helpful analytics libraries installed\n",
    "# It is defined by the kaggle/python Docker image: https://github.com/kaggle/docker-python\n",
    "# For example, here's several helpful packages to load\n",
    "\n",
    "import numpy as np # linear algebra\n",
    "import pandas as pd # data processing, CSV file I/O (e.g. pd.read_csv)\n",
    "\n",
    "# Input data files are available in the read-only \"../input/\" directory\n",
    "# For example, running this (by clicking run or pressing Shift+Enter) will list all files under the input directory\n",
    "\n",
    "import os\n",
    "for dirname, _, filenames in os.walk('/kaggle/input'):\n",
    "    for filename in filenames:\n",
    "        print(os.path.join(dirname, filename))\n",
    "\n",
    "# You can write up to 5GB to the current directory (/kaggle/working/) that gets preserved as output when you create a version using \"Save & Run All\" \n",
    "# You can also write temporary files to /kaggle/temp/, but they won't be saved outside of the current session"
   ]
  },
  {
   "cell_type": "code",
   "execution_count": 2,
   "metadata": {
    "_cell_guid": "79c7e3d0-c299-4dcb-8224-4455121ee9b0",
    "_uuid": "d629ff2d2480ee46fbb7e2d37f6b5fab8052498a",
    "execution": {
     "iopub.execute_input": "2020-10-11T19:41:01.763452Z",
     "iopub.status.busy": "2020-10-11T19:41:01.762711Z",
     "iopub.status.idle": "2020-10-11T19:41:01.848821Z",
     "shell.execute_reply": "2020-10-11T19:41:01.848246Z"
    },
    "papermill": {
     "duration": 0.131471,
     "end_time": "2020-10-11T19:41:01.848924",
     "exception": false,
     "start_time": "2020-10-11T19:41:01.717453",
     "status": "completed"
    },
    "tags": []
   },
   "outputs": [
    {
     "data": {
      "text/html": [
       "<div>\n",
       "<style scoped>\n",
       "    .dataframe tbody tr th:only-of-type {\n",
       "        vertical-align: middle;\n",
       "    }\n",
       "\n",
       "    .dataframe tbody tr th {\n",
       "        vertical-align: top;\n",
       "    }\n",
       "\n",
       "    .dataframe thead th {\n",
       "        text-align: right;\n",
       "    }\n",
       "</style>\n",
       "<table border=\"1\" class=\"dataframe\">\n",
       "  <thead>\n",
       "    <tr style=\"text-align: right;\">\n",
       "      <th></th>\n",
       "      <th>age</th>\n",
       "      <th>job</th>\n",
       "      <th>marital</th>\n",
       "      <th>education</th>\n",
       "      <th>default</th>\n",
       "      <th>balance</th>\n",
       "      <th>housing</th>\n",
       "      <th>loan</th>\n",
       "      <th>contact</th>\n",
       "      <th>day</th>\n",
       "      <th>month</th>\n",
       "      <th>duration</th>\n",
       "      <th>campaign</th>\n",
       "      <th>pdays</th>\n",
       "      <th>previous</th>\n",
       "      <th>poutcome</th>\n",
       "      <th>deposit</th>\n",
       "    </tr>\n",
       "  </thead>\n",
       "  <tbody>\n",
       "    <tr>\n",
       "      <th>0</th>\n",
       "      <td>59</td>\n",
       "      <td>admin.</td>\n",
       "      <td>married</td>\n",
       "      <td>secondary</td>\n",
       "      <td>no</td>\n",
       "      <td>2343</td>\n",
       "      <td>yes</td>\n",
       "      <td>no</td>\n",
       "      <td>unknown</td>\n",
       "      <td>5</td>\n",
       "      <td>may</td>\n",
       "      <td>1042</td>\n",
       "      <td>1</td>\n",
       "      <td>-1</td>\n",
       "      <td>0</td>\n",
       "      <td>unknown</td>\n",
       "      <td>yes</td>\n",
       "    </tr>\n",
       "    <tr>\n",
       "      <th>1</th>\n",
       "      <td>56</td>\n",
       "      <td>admin.</td>\n",
       "      <td>married</td>\n",
       "      <td>secondary</td>\n",
       "      <td>no</td>\n",
       "      <td>45</td>\n",
       "      <td>no</td>\n",
       "      <td>no</td>\n",
       "      <td>unknown</td>\n",
       "      <td>5</td>\n",
       "      <td>may</td>\n",
       "      <td>1467</td>\n",
       "      <td>1</td>\n",
       "      <td>-1</td>\n",
       "      <td>0</td>\n",
       "      <td>unknown</td>\n",
       "      <td>yes</td>\n",
       "    </tr>\n",
       "    <tr>\n",
       "      <th>2</th>\n",
       "      <td>41</td>\n",
       "      <td>technician</td>\n",
       "      <td>married</td>\n",
       "      <td>secondary</td>\n",
       "      <td>no</td>\n",
       "      <td>1270</td>\n",
       "      <td>yes</td>\n",
       "      <td>no</td>\n",
       "      <td>unknown</td>\n",
       "      <td>5</td>\n",
       "      <td>may</td>\n",
       "      <td>1389</td>\n",
       "      <td>1</td>\n",
       "      <td>-1</td>\n",
       "      <td>0</td>\n",
       "      <td>unknown</td>\n",
       "      <td>yes</td>\n",
       "    </tr>\n",
       "    <tr>\n",
       "      <th>3</th>\n",
       "      <td>55</td>\n",
       "      <td>services</td>\n",
       "      <td>married</td>\n",
       "      <td>secondary</td>\n",
       "      <td>no</td>\n",
       "      <td>2476</td>\n",
       "      <td>yes</td>\n",
       "      <td>no</td>\n",
       "      <td>unknown</td>\n",
       "      <td>5</td>\n",
       "      <td>may</td>\n",
       "      <td>579</td>\n",
       "      <td>1</td>\n",
       "      <td>-1</td>\n",
       "      <td>0</td>\n",
       "      <td>unknown</td>\n",
       "      <td>yes</td>\n",
       "    </tr>\n",
       "    <tr>\n",
       "      <th>4</th>\n",
       "      <td>54</td>\n",
       "      <td>admin.</td>\n",
       "      <td>married</td>\n",
       "      <td>tertiary</td>\n",
       "      <td>no</td>\n",
       "      <td>184</td>\n",
       "      <td>no</td>\n",
       "      <td>no</td>\n",
       "      <td>unknown</td>\n",
       "      <td>5</td>\n",
       "      <td>may</td>\n",
       "      <td>673</td>\n",
       "      <td>2</td>\n",
       "      <td>-1</td>\n",
       "      <td>0</td>\n",
       "      <td>unknown</td>\n",
       "      <td>yes</td>\n",
       "    </tr>\n",
       "  </tbody>\n",
       "</table>\n",
       "</div>"
      ],
      "text/plain": [
       "   age         job  marital  education default  balance housing loan  contact  \\\n",
       "0   59      admin.  married  secondary      no     2343     yes   no  unknown   \n",
       "1   56      admin.  married  secondary      no       45      no   no  unknown   \n",
       "2   41  technician  married  secondary      no     1270     yes   no  unknown   \n",
       "3   55    services  married  secondary      no     2476     yes   no  unknown   \n",
       "4   54      admin.  married   tertiary      no      184      no   no  unknown   \n",
       "\n",
       "   day month  duration  campaign  pdays  previous poutcome deposit  \n",
       "0    5   may      1042         1     -1         0  unknown     yes  \n",
       "1    5   may      1467         1     -1         0  unknown     yes  \n",
       "2    5   may      1389         1     -1         0  unknown     yes  \n",
       "3    5   may       579         1     -1         0  unknown     yes  \n",
       "4    5   may       673         2     -1         0  unknown     yes  "
      ]
     },
     "execution_count": 2,
     "metadata": {},
     "output_type": "execute_result"
    }
   ],
   "source": [
    "#Загрузка данных\n",
    "df = pd.read_csv('/kaggle/input/bank-marketing-dataset/bank.csv')\n",
    "df.head()"
   ]
  },
  {
   "cell_type": "code",
   "execution_count": 3,
   "metadata": {
    "execution": {
     "iopub.execute_input": "2020-10-11T19:41:01.934064Z",
     "iopub.status.busy": "2020-10-11T19:41:01.933266Z",
     "iopub.status.idle": "2020-10-11T19:41:01.937705Z",
     "shell.execute_reply": "2020-10-11T19:41:01.936974Z"
    },
    "papermill": {
     "duration": 0.048847,
     "end_time": "2020-10-11T19:41:01.937822",
     "exception": false,
     "start_time": "2020-10-11T19:41:01.888975",
     "status": "completed"
    },
    "tags": []
   },
   "outputs": [
    {
     "data": {
      "text/plain": [
       "Index(['age', 'job', 'marital', 'education', 'default', 'balance', 'housing',\n",
       "       'loan', 'contact', 'day', 'month', 'duration', 'campaign', 'pdays',\n",
       "       'previous', 'poutcome', 'deposit'],\n",
       "      dtype='object')"
      ]
     },
     "execution_count": 3,
     "metadata": {},
     "output_type": "execute_result"
    }
   ],
   "source": [
    "df.keys()"
   ]
  },
  {
   "cell_type": "code",
   "execution_count": 4,
   "metadata": {
    "execution": {
     "iopub.execute_input": "2020-10-11T19:41:02.024086Z",
     "iopub.status.busy": "2020-10-11T19:41:02.023157Z",
     "iopub.status.idle": "2020-10-11T19:41:02.026404Z",
     "shell.execute_reply": "2020-10-11T19:41:02.025817Z"
    },
    "papermill": {
     "duration": 0.047966,
     "end_time": "2020-10-11T19:41:02.026521",
     "exception": false,
     "start_time": "2020-10-11T19:41:01.978555",
     "status": "completed"
    },
    "tags": []
   },
   "outputs": [],
   "source": [
    "#df.info()"
   ]
  },
  {
   "cell_type": "markdown",
   "metadata": {
    "papermill": {
     "duration": 0.041738,
     "end_time": "2020-10-11T19:41:02.108775",
     "exception": false,
     "start_time": "2020-10-11T19:41:02.067037",
     "status": "completed"
    },
    "tags": []
   },
   "source": [
    "*2. Извлеките целевой признак (target). Какая из задач обучения с учителем рассматривается –– классификация или регрессия?*\n",
    "\n",
    "Целевым признаком (target) является 'deposit', принимающий значения \"yes\" и \"no\", что означает положит клиент срочный депозит или нет. Рассматривается категория - обучение с учителем и тип задачи - классификация (предсказание категории объекта).\n"
   ]
  },
  {
   "cell_type": "markdown",
   "metadata": {
    "papermill": {
     "duration": 0.041016,
     "end_time": "2020-10-11T19:41:02.190108",
     "exception": false,
     "start_time": "2020-10-11T19:41:02.149092",
     "status": "completed"
    },
    "tags": []
   },
   "source": [
    "*3. Каково распределение значений target-переменной? Постройте подходящую визуализацию. Прокомментируйте результат.*"
   ]
  },
  {
   "cell_type": "code",
   "execution_count": 5,
   "metadata": {
    "execution": {
     "iopub.execute_input": "2020-10-11T19:41:02.275526Z",
     "iopub.status.busy": "2020-10-11T19:41:02.274775Z",
     "iopub.status.idle": "2020-10-11T19:41:03.477580Z",
     "shell.execute_reply": "2020-10-11T19:41:03.476945Z"
    },
    "papermill": {
     "duration": 1.247252,
     "end_time": "2020-10-11T19:41:03.477702",
     "exception": false,
     "start_time": "2020-10-11T19:41:02.230450",
     "status": "completed"
    },
    "tags": []
   },
   "outputs": [
    {
     "data": {
      "text/plain": [
       "<seaborn.axisgrid.FacetGrid at 0x7f0de6f1b250>"
      ]
     },
     "execution_count": 5,
     "metadata": {},
     "output_type": "execute_result"
    },
    {
     "data": {
      "image/png": "[encoded data removed]",
      "text/plain": [
       "<Figure size 360x360 with 1 Axes>"
      ]
     },
     "metadata": {
      "needs_background": "light"
     },
     "output_type": "display_data"
    }
   ],
   "source": [
    "import seaborn as sns\n",
    "sns.catplot(x = \"deposit\", kind = \"count\", palette = \"ch:.25\", data = df)"
   ]
  },
  {
   "cell_type": "code",
   "execution_count": 6,
   "metadata": {
    "execution": {
     "iopub.execute_input": "2020-10-11T19:41:03.568716Z",
     "iopub.status.busy": "2020-10-11T19:41:03.567949Z",
     "iopub.status.idle": "2020-10-11T19:41:03.590348Z",
     "shell.execute_reply": "2020-10-11T19:41:03.589791Z"
    },
    "papermill": {
     "duration": 0.071712,
     "end_time": "2020-10-11T19:41:03.590451",
     "exception": false,
     "start_time": "2020-10-11T19:41:03.518739",
     "status": "completed"
    },
    "tags": []
   },
   "outputs": [
    {
     "data": {
      "text/plain": [
       "no     0.52616\n",
       "yes    0.47384\n",
       "Name: deposit, dtype: float64"
      ]
     },
     "execution_count": 6,
     "metadata": {},
     "output_type": "execute_result"
    }
   ],
   "source": [
    "# Выведем процентное соотношение\n",
    "df['deposit'].value_counts(normalize=True)"
   ]
  },
  {
   "cell_type": "code",
   "execution_count": 7,
   "metadata": {
    "execution": {
     "iopub.execute_input": "2020-10-11T19:41:03.683127Z",
     "iopub.status.busy": "2020-10-11T19:41:03.682194Z",
     "iopub.status.idle": "2020-10-11T19:41:03.686373Z",
     "shell.execute_reply": "2020-10-11T19:41:03.685838Z"
    },
    "papermill": {
     "duration": 0.053172,
     "end_time": "2020-10-11T19:41:03.686498",
     "exception": false,
     "start_time": "2020-10-11T19:41:03.633326",
     "status": "completed"
    },
    "tags": []
   },
   "outputs": [
    {
     "data": {
      "text/plain": [
       "0        yes\n",
       "1        yes\n",
       "2        yes\n",
       "3        yes\n",
       "4        yes\n",
       "        ... \n",
       "11157     no\n",
       "11158     no\n",
       "11159     no\n",
       "11160     no\n",
       "11161     no\n",
       "Name: deposit, Length: 11162, dtype: object"
      ]
     },
     "execution_count": 7,
     "metadata": {},
     "output_type": "execute_result"
    }
   ],
   "source": [
    "# print(df['deposit'].shape) # Всего 11162 строк\n",
    "df['deposit']"
   ]
  },
  {
   "cell_type": "markdown",
   "metadata": {
    "papermill": {
     "duration": 0.042301,
     "end_time": "2020-10-11T19:41:03.770986",
     "exception": false,
     "start_time": "2020-10-11T19:41:03.728685",
     "status": "completed"
    },
    "tags": []
   },
   "source": [
    "Имеем ~52,6% клиентов без депозитов и ~47,4% клиентов c депозитом.\n",
    "\n",
    "Можно заметить, что классы 'no' и 'yes' почти сбалансированы."
   ]
  },
  {
   "cell_type": "markdown",
   "metadata": {
    "papermill": {
     "duration": 0.043966,
     "end_time": "2020-10-11T19:41:03.857060",
     "exception": false,
     "start_time": "2020-10-11T19:41:03.813094",
     "status": "completed"
    },
    "tags": []
   },
   "source": [
    "*4. Проведите необходимую предобработку данных (preprocessing). Для построения моделей с помощью метрических методов все признаки должны быть закодированы числами. Полезными будут следующие методы библиотеки Pandas:*\n",
    "1. map() – для перекодировки категориальной переменной числовыми метками; \n",
    "2. get_dummies() – для создания нескольких бинарных признаков на основе категориального. \n",
    "\n",
    "*Также может потребоваться масштабирование данных (scaling). Воспользуйтесь классом StandardScaler библиотеки Scikit-learn.*"
   ]
  },
  {
   "cell_type": "code",
   "execution_count": 8,
   "metadata": {
    "execution": {
     "iopub.execute_input": "2020-10-11T19:41:03.956930Z",
     "iopub.status.busy": "2020-10-11T19:41:03.956097Z",
     "iopub.status.idle": "2020-10-11T19:41:04.047989Z",
     "shell.execute_reply": "2020-10-11T19:41:04.047313Z"
    },
    "papermill": {
     "duration": 0.14747,
     "end_time": "2020-10-11T19:41:04.048092",
     "exception": false,
     "start_time": "2020-10-11T19:41:03.900622",
     "status": "completed"
    },
    "tags": []
   },
   "outputs": [
    {
     "data": {
      "text/html": [
       "<div>\n",
       "<style scoped>\n",
       "    .dataframe tbody tr th:only-of-type {\n",
       "        vertical-align: middle;\n",
       "    }\n",
       "\n",
       "    .dataframe tbody tr th {\n",
       "        vertical-align: top;\n",
       "    }\n",
       "\n",
       "    .dataframe thead th {\n",
       "        text-align: right;\n",
       "    }\n",
       "</style>\n",
       "<table border=\"1\" class=\"dataframe\">\n",
       "  <thead>\n",
       "    <tr style=\"text-align: right;\">\n",
       "      <th></th>\n",
       "      <th>0</th>\n",
       "      <th>1</th>\n",
       "      <th>2</th>\n",
       "      <th>3</th>\n",
       "      <th>4</th>\n",
       "    </tr>\n",
       "  </thead>\n",
       "  <tbody>\n",
       "    <tr>\n",
       "      <th>age</th>\n",
       "      <td>59</td>\n",
       "      <td>56</td>\n",
       "      <td>41</td>\n",
       "      <td>55</td>\n",
       "      <td>54</td>\n",
       "    </tr>\n",
       "    <tr>\n",
       "      <th>job</th>\n",
       "      <td>admin.</td>\n",
       "      <td>admin.</td>\n",
       "      <td>technician</td>\n",
       "      <td>services</td>\n",
       "      <td>admin.</td>\n",
       "    </tr>\n",
       "    <tr>\n",
       "      <th>marital</th>\n",
       "      <td>married</td>\n",
       "      <td>married</td>\n",
       "      <td>married</td>\n",
       "      <td>married</td>\n",
       "      <td>married</td>\n",
       "    </tr>\n",
       "    <tr>\n",
       "      <th>education</th>\n",
       "      <td>secondary</td>\n",
       "      <td>secondary</td>\n",
       "      <td>secondary</td>\n",
       "      <td>secondary</td>\n",
       "      <td>tertiary</td>\n",
       "    </tr>\n",
       "    <tr>\n",
       "      <th>default</th>\n",
       "      <td>no</td>\n",
       "      <td>no</td>\n",
       "      <td>no</td>\n",
       "      <td>no</td>\n",
       "      <td>no</td>\n",
       "    </tr>\n",
       "    <tr>\n",
       "      <th>balance</th>\n",
       "      <td>2343</td>\n",
       "      <td>45</td>\n",
       "      <td>1270</td>\n",
       "      <td>2476</td>\n",
       "      <td>184</td>\n",
       "    </tr>\n",
       "    <tr>\n",
       "      <th>housing</th>\n",
       "      <td>yes</td>\n",
       "      <td>no</td>\n",
       "      <td>yes</td>\n",
       "      <td>yes</td>\n",
       "      <td>no</td>\n",
       "    </tr>\n",
       "    <tr>\n",
       "      <th>loan</th>\n",
       "      <td>no</td>\n",
       "      <td>no</td>\n",
       "      <td>no</td>\n",
       "      <td>no</td>\n",
       "      <td>no</td>\n",
       "    </tr>\n",
       "    <tr>\n",
       "      <th>contact</th>\n",
       "      <td>unknown</td>\n",
       "      <td>unknown</td>\n",
       "      <td>unknown</td>\n",
       "      <td>unknown</td>\n",
       "      <td>unknown</td>\n",
       "    </tr>\n",
       "    <tr>\n",
       "      <th>day</th>\n",
       "      <td>5</td>\n",
       "      <td>5</td>\n",
       "      <td>5</td>\n",
       "      <td>5</td>\n",
       "      <td>5</td>\n",
       "    </tr>\n",
       "    <tr>\n",
       "      <th>month</th>\n",
       "      <td>may</td>\n",
       "      <td>may</td>\n",
       "      <td>may</td>\n",
       "      <td>may</td>\n",
       "      <td>may</td>\n",
       "    </tr>\n",
       "    <tr>\n",
       "      <th>duration</th>\n",
       "      <td>1042</td>\n",
       "      <td>1467</td>\n",
       "      <td>1389</td>\n",
       "      <td>579</td>\n",
       "      <td>673</td>\n",
       "    </tr>\n",
       "    <tr>\n",
       "      <th>campaign</th>\n",
       "      <td>1</td>\n",
       "      <td>1</td>\n",
       "      <td>1</td>\n",
       "      <td>1</td>\n",
       "      <td>2</td>\n",
       "    </tr>\n",
       "    <tr>\n",
       "      <th>pdays</th>\n",
       "      <td>-1</td>\n",
       "      <td>-1</td>\n",
       "      <td>-1</td>\n",
       "      <td>-1</td>\n",
       "      <td>-1</td>\n",
       "    </tr>\n",
       "    <tr>\n",
       "      <th>previous</th>\n",
       "      <td>0</td>\n",
       "      <td>0</td>\n",
       "      <td>0</td>\n",
       "      <td>0</td>\n",
       "      <td>0</td>\n",
       "    </tr>\n",
       "    <tr>\n",
       "      <th>poutcome</th>\n",
       "      <td>unknown</td>\n",
       "      <td>unknown</td>\n",
       "      <td>unknown</td>\n",
       "      <td>unknown</td>\n",
       "      <td>unknown</td>\n",
       "    </tr>\n",
       "    <tr>\n",
       "      <th>deposit</th>\n",
       "      <td>yes</td>\n",
       "      <td>yes</td>\n",
       "      <td>yes</td>\n",
       "      <td>yes</td>\n",
       "      <td>yes</td>\n",
       "    </tr>\n",
       "    <tr>\n",
       "      <th>default_le</th>\n",
       "      <td>0</td>\n",
       "      <td>0</td>\n",
       "      <td>0</td>\n",
       "      <td>0</td>\n",
       "      <td>0</td>\n",
       "    </tr>\n",
       "    <tr>\n",
       "      <th>housing_le</th>\n",
       "      <td>1</td>\n",
       "      <td>0</td>\n",
       "      <td>1</td>\n",
       "      <td>1</td>\n",
       "      <td>0</td>\n",
       "    </tr>\n",
       "    <tr>\n",
       "      <th>loan_le</th>\n",
       "      <td>0</td>\n",
       "      <td>0</td>\n",
       "      <td>0</td>\n",
       "      <td>0</td>\n",
       "      <td>0</td>\n",
       "    </tr>\n",
       "    <tr>\n",
       "      <th>deposit_le</th>\n",
       "      <td>1</td>\n",
       "      <td>1</td>\n",
       "      <td>1</td>\n",
       "      <td>1</td>\n",
       "      <td>1</td>\n",
       "    </tr>\n",
       "    <tr>\n",
       "      <th>month_le</th>\n",
       "      <td>5</td>\n",
       "      <td>5</td>\n",
       "      <td>5</td>\n",
       "      <td>5</td>\n",
       "      <td>5</td>\n",
       "    </tr>\n",
       "  </tbody>\n",
       "</table>\n",
       "</div>"
      ],
      "text/plain": [
       "                    0          1           2          3         4\n",
       "age                59         56          41         55        54\n",
       "job            admin.     admin.  technician   services    admin.\n",
       "marital       married    married     married    married   married\n",
       "education   secondary  secondary   secondary  secondary  tertiary\n",
       "default            no         no          no         no        no\n",
       "balance          2343         45        1270       2476       184\n",
       "housing           yes         no         yes        yes        no\n",
       "loan               no         no          no         no        no\n",
       "contact       unknown    unknown     unknown    unknown   unknown\n",
       "day                 5          5           5          5         5\n",
       "month             may        may         may        may       may\n",
       "duration         1042       1467        1389        579       673\n",
       "campaign            1          1           1          1         2\n",
       "pdays              -1         -1          -1         -1        -1\n",
       "previous            0          0           0          0         0\n",
       "poutcome      unknown    unknown     unknown    unknown   unknown\n",
       "deposit           yes        yes         yes        yes       yes\n",
       "default_le          0          0           0          0         0\n",
       "housing_le          1          0           1          1         0\n",
       "loan_le             0          0           0          0         0\n",
       "deposit_le          1          1           1          1         1\n",
       "month_le            5          5           5          5         5"
      ]
     },
     "execution_count": 8,
     "metadata": {},
     "output_type": "execute_result"
    }
   ],
   "source": [
    "from sklearn. preprocessing import LabelEncoder\n",
    "\n",
    "le = LabelEncoder()\n",
    "le.fit(df.default)\n",
    "df['default_le'] = le.transform(df.default)\n",
    "\n",
    "# ручная альтернатива\n",
    "#dct = {'no': 0, 'yes': 1} # словарь для кодировки \n",
    "#df['default_le'] = df['default'].map(dct)\n",
    "\n",
    "le_1 = LabelEncoder()\n",
    "le_1.fit(df.housing)\n",
    "df['housing_le'] = le_1.transform(df.housing)\n",
    "\n",
    "le_2 = LabelEncoder()\n",
    "le_2.fit(df.housing)\n",
    "df['loan_le'] = le_2.transform(df.loan)\n",
    "\n",
    "le_3 = LabelEncoder()\n",
    "le_3.fit(df.housing)\n",
    "df['deposit_le'] = le_3.transform(df.deposit)\n",
    "\n",
    "dct_1 = {'jan': 1, 'feb': 2, 'mar': 3, 'apr': 4, 'may': 5, 'jun': 6, 'jul': 7, 'aug': 8, 'sep': 9, 'oct': 10, 'nov': 11, 'dec':12}\n",
    "df['month_le'] = df['month'].map(dct_1)\n",
    "\n",
    "#dct_2 = {'married': 1, 'single': 2, 'divorced': 3}\n",
    "#df['marital_le'] = df['marital'].map(dct_2)\n",
    "\n",
    "#dct_3 = {'secondary': 1, 'tertiary': 2, 'primary': 3, 'unknown': 4}\n",
    "#df['education_le'] = df['education'].map(dct_3)\n",
    "\n",
    "#dct_4 = {'unknown': 0, 'cellular': 1, 'telephone': 2}\n",
    "#df['contact_le'] = df['contact'].map(dct_4)\n",
    "\n",
    "#dct_5 = {'unknown': 0, 'other': 1, 'failure': 2, 'success': 3}\n",
    "#df['poutcome_le'] = df['poutcome'].map(dct_5)\n",
    "\n",
    "df.head().T"
   ]
  },
  {
   "cell_type": "code",
   "execution_count": 9,
   "metadata": {
    "execution": {
     "iopub.execute_input": "2020-10-11T19:41:04.145565Z",
     "iopub.status.busy": "2020-10-11T19:41:04.144606Z",
     "iopub.status.idle": "2020-10-11T19:41:04.213760Z",
     "shell.execute_reply": "2020-10-11T19:41:04.214288Z"
    },
    "papermill": {
     "duration": 0.122087,
     "end_time": "2020-10-11T19:41:04.214434",
     "exception": false,
     "start_time": "2020-10-11T19:41:04.092347",
     "status": "completed"
    },
    "tags": []
   },
   "outputs": [
    {
     "data": {
      "text/html": [
       "<div>\n",
       "<style scoped>\n",
       "    .dataframe tbody tr th:only-of-type {\n",
       "        vertical-align: middle;\n",
       "    }\n",
       "\n",
       "    .dataframe tbody tr th {\n",
       "        vertical-align: top;\n",
       "    }\n",
       "\n",
       "    .dataframe thead th {\n",
       "        text-align: right;\n",
       "    }\n",
       "</style>\n",
       "<table border=\"1\" class=\"dataframe\">\n",
       "  <thead>\n",
       "    <tr style=\"text-align: right;\">\n",
       "      <th></th>\n",
       "      <th>0</th>\n",
       "      <th>1</th>\n",
       "      <th>2</th>\n",
       "      <th>3</th>\n",
       "      <th>4</th>\n",
       "    </tr>\n",
       "  </thead>\n",
       "  <tbody>\n",
       "    <tr>\n",
       "      <th>age</th>\n",
       "      <td>59</td>\n",
       "      <td>56</td>\n",
       "      <td>41</td>\n",
       "      <td>55</td>\n",
       "      <td>54</td>\n",
       "    </tr>\n",
       "    <tr>\n",
       "      <th>job</th>\n",
       "      <td>admin.</td>\n",
       "      <td>admin.</td>\n",
       "      <td>technician</td>\n",
       "      <td>services</td>\n",
       "      <td>admin.</td>\n",
       "    </tr>\n",
       "    <tr>\n",
       "      <th>default</th>\n",
       "      <td>0</td>\n",
       "      <td>0</td>\n",
       "      <td>0</td>\n",
       "      <td>0</td>\n",
       "      <td>0</td>\n",
       "    </tr>\n",
       "    <tr>\n",
       "      <th>balance</th>\n",
       "      <td>2343</td>\n",
       "      <td>45</td>\n",
       "      <td>1270</td>\n",
       "      <td>2476</td>\n",
       "      <td>184</td>\n",
       "    </tr>\n",
       "    <tr>\n",
       "      <th>housing</th>\n",
       "      <td>1</td>\n",
       "      <td>0</td>\n",
       "      <td>1</td>\n",
       "      <td>1</td>\n",
       "      <td>0</td>\n",
       "    </tr>\n",
       "    <tr>\n",
       "      <th>loan</th>\n",
       "      <td>0</td>\n",
       "      <td>0</td>\n",
       "      <td>0</td>\n",
       "      <td>0</td>\n",
       "      <td>0</td>\n",
       "    </tr>\n",
       "    <tr>\n",
       "      <th>day</th>\n",
       "      <td>5</td>\n",
       "      <td>5</td>\n",
       "      <td>5</td>\n",
       "      <td>5</td>\n",
       "      <td>5</td>\n",
       "    </tr>\n",
       "    <tr>\n",
       "      <th>month</th>\n",
       "      <td>5</td>\n",
       "      <td>5</td>\n",
       "      <td>5</td>\n",
       "      <td>5</td>\n",
       "      <td>5</td>\n",
       "    </tr>\n",
       "    <tr>\n",
       "      <th>duration</th>\n",
       "      <td>1042</td>\n",
       "      <td>1467</td>\n",
       "      <td>1389</td>\n",
       "      <td>579</td>\n",
       "      <td>673</td>\n",
       "    </tr>\n",
       "    <tr>\n",
       "      <th>campaign</th>\n",
       "      <td>1</td>\n",
       "      <td>1</td>\n",
       "      <td>1</td>\n",
       "      <td>1</td>\n",
       "      <td>2</td>\n",
       "    </tr>\n",
       "    <tr>\n",
       "      <th>pdays</th>\n",
       "      <td>-1</td>\n",
       "      <td>-1</td>\n",
       "      <td>-1</td>\n",
       "      <td>-1</td>\n",
       "      <td>-1</td>\n",
       "    </tr>\n",
       "    <tr>\n",
       "      <th>previous</th>\n",
       "      <td>0</td>\n",
       "      <td>0</td>\n",
       "      <td>0</td>\n",
       "      <td>0</td>\n",
       "      <td>0</td>\n",
       "    </tr>\n",
       "    <tr>\n",
       "      <th>deposit</th>\n",
       "      <td>1</td>\n",
       "      <td>1</td>\n",
       "      <td>1</td>\n",
       "      <td>1</td>\n",
       "      <td>1</td>\n",
       "    </tr>\n",
       "    <tr>\n",
       "      <th>marital_divorced</th>\n",
       "      <td>0</td>\n",
       "      <td>0</td>\n",
       "      <td>0</td>\n",
       "      <td>0</td>\n",
       "      <td>0</td>\n",
       "    </tr>\n",
       "    <tr>\n",
       "      <th>marital_married</th>\n",
       "      <td>1</td>\n",
       "      <td>1</td>\n",
       "      <td>1</td>\n",
       "      <td>1</td>\n",
       "      <td>1</td>\n",
       "    </tr>\n",
       "    <tr>\n",
       "      <th>marital_single</th>\n",
       "      <td>0</td>\n",
       "      <td>0</td>\n",
       "      <td>0</td>\n",
       "      <td>0</td>\n",
       "      <td>0</td>\n",
       "    </tr>\n",
       "    <tr>\n",
       "      <th>education_primary</th>\n",
       "      <td>0</td>\n",
       "      <td>0</td>\n",
       "      <td>0</td>\n",
       "      <td>0</td>\n",
       "      <td>0</td>\n",
       "    </tr>\n",
       "    <tr>\n",
       "      <th>education_secondary</th>\n",
       "      <td>1</td>\n",
       "      <td>1</td>\n",
       "      <td>1</td>\n",
       "      <td>1</td>\n",
       "      <td>0</td>\n",
       "    </tr>\n",
       "    <tr>\n",
       "      <th>education_tertiary</th>\n",
       "      <td>0</td>\n",
       "      <td>0</td>\n",
       "      <td>0</td>\n",
       "      <td>0</td>\n",
       "      <td>1</td>\n",
       "    </tr>\n",
       "    <tr>\n",
       "      <th>education_unknown</th>\n",
       "      <td>0</td>\n",
       "      <td>0</td>\n",
       "      <td>0</td>\n",
       "      <td>0</td>\n",
       "      <td>0</td>\n",
       "    </tr>\n",
       "    <tr>\n",
       "      <th>contact_cellular</th>\n",
       "      <td>0</td>\n",
       "      <td>0</td>\n",
       "      <td>0</td>\n",
       "      <td>0</td>\n",
       "      <td>0</td>\n",
       "    </tr>\n",
       "    <tr>\n",
       "      <th>contact_telephone</th>\n",
       "      <td>0</td>\n",
       "      <td>0</td>\n",
       "      <td>0</td>\n",
       "      <td>0</td>\n",
       "      <td>0</td>\n",
       "    </tr>\n",
       "    <tr>\n",
       "      <th>contact_unknown</th>\n",
       "      <td>1</td>\n",
       "      <td>1</td>\n",
       "      <td>1</td>\n",
       "      <td>1</td>\n",
       "      <td>1</td>\n",
       "    </tr>\n",
       "    <tr>\n",
       "      <th>poutcome_failure</th>\n",
       "      <td>0</td>\n",
       "      <td>0</td>\n",
       "      <td>0</td>\n",
       "      <td>0</td>\n",
       "      <td>0</td>\n",
       "    </tr>\n",
       "    <tr>\n",
       "      <th>poutcome_other</th>\n",
       "      <td>0</td>\n",
       "      <td>0</td>\n",
       "      <td>0</td>\n",
       "      <td>0</td>\n",
       "      <td>0</td>\n",
       "    </tr>\n",
       "    <tr>\n",
       "      <th>poutcome_success</th>\n",
       "      <td>0</td>\n",
       "      <td>0</td>\n",
       "      <td>0</td>\n",
       "      <td>0</td>\n",
       "      <td>0</td>\n",
       "    </tr>\n",
       "    <tr>\n",
       "      <th>poutcome_unknown</th>\n",
       "      <td>1</td>\n",
       "      <td>1</td>\n",
       "      <td>1</td>\n",
       "      <td>1</td>\n",
       "      <td>1</td>\n",
       "    </tr>\n",
       "  </tbody>\n",
       "</table>\n",
       "</div>"
      ],
      "text/plain": [
       "                          0       1           2         3       4\n",
       "age                      59      56          41        55      54\n",
       "job                  admin.  admin.  technician  services  admin.\n",
       "default                   0       0           0         0       0\n",
       "balance                2343      45        1270      2476     184\n",
       "housing                   1       0           1         1       0\n",
       "loan                      0       0           0         0       0\n",
       "day                       5       5           5         5       5\n",
       "month                     5       5           5         5       5\n",
       "duration               1042    1467        1389       579     673\n",
       "campaign                  1       1           1         1       2\n",
       "pdays                    -1      -1          -1        -1      -1\n",
       "previous                  0       0           0         0       0\n",
       "deposit                   1       1           1         1       1\n",
       "marital_divorced          0       0           0         0       0\n",
       "marital_married           1       1           1         1       1\n",
       "marital_single            0       0           0         0       0\n",
       "education_primary         0       0           0         0       0\n",
       "education_secondary       1       1           1         1       0\n",
       "education_tertiary        0       0           0         0       1\n",
       "education_unknown         0       0           0         0       0\n",
       "contact_cellular          0       0           0         0       0\n",
       "contact_telephone         0       0           0         0       0\n",
       "contact_unknown           1       1           1         1       1\n",
       "poutcome_failure          0       0           0         0       0\n",
       "poutcome_other            0       0           0         0       0\n",
       "poutcome_success          0       0           0         0       0\n",
       "poutcome_unknown          1       1           1         1       1"
      ]
     },
     "execution_count": 9,
     "metadata": {},
     "output_type": "execute_result"
    }
   ],
   "source": [
    "df_1 = pd.read_csv('/kaggle/input/bank-marketing-dataset/bank.csv')\n",
    "df_1['default'] = df['default_le']\n",
    "df_1['housing'] = df['housing_le']\n",
    "df_1['loan'] = df['loan_le']\n",
    "df_1['deposit'] = df['deposit_le']\n",
    "df_1['month'] = df['month_le']\n",
    "\n",
    "#df_1['marital'] = df['marital_le']\n",
    "#df_1['education'] = df['education_le']\n",
    "#df_1['contact'] = df['contact_le']\n",
    "#df_1['poutcome'] = df['poutcome_le']\n",
    "\n",
    "# get_dummies\n",
    "df_1 = pd.get_dummies(df_1, columns=['marital', 'education', 'contact', 'poutcome'])\n",
    "\n",
    "df_1.head().T"
   ]
  },
  {
   "cell_type": "code",
   "execution_count": 10,
   "metadata": {
    "execution": {
     "iopub.execute_input": "2020-10-11T19:41:04.306427Z",
     "iopub.status.busy": "2020-10-11T19:41:04.305766Z",
     "iopub.status.idle": "2020-10-11T19:41:04.308629Z",
     "shell.execute_reply": "2020-10-11T19:41:04.308054Z"
    },
    "papermill": {
     "duration": 0.04992,
     "end_time": "2020-10-11T19:41:04.308745",
     "exception": false,
     "start_time": "2020-10-11T19:41:04.258825",
     "status": "completed"
    },
    "tags": []
   },
   "outputs": [],
   "source": [
    "#df_1.info()"
   ]
  },
  {
   "cell_type": "code",
   "execution_count": 11,
   "metadata": {
    "execution": {
     "iopub.execute_input": "2020-10-11T19:41:04.403185Z",
     "iopub.status.busy": "2020-10-11T19:41:04.402500Z",
     "iopub.status.idle": "2020-10-11T19:41:04.424645Z",
     "shell.execute_reply": "2020-10-11T19:41:04.423964Z"
    },
    "papermill": {
     "duration": 0.071459,
     "end_time": "2020-10-11T19:41:04.424752",
     "exception": false,
     "start_time": "2020-10-11T19:41:04.353293",
     "status": "completed"
    },
    "tags": []
   },
   "outputs": [
    {
     "data": {
      "text/html": [
       "<div>\n",
       "<style scoped>\n",
       "    .dataframe tbody tr th:only-of-type {\n",
       "        vertical-align: middle;\n",
       "    }\n",
       "\n",
       "    .dataframe tbody tr th {\n",
       "        vertical-align: top;\n",
       "    }\n",
       "\n",
       "    .dataframe thead th {\n",
       "        text-align: right;\n",
       "    }\n",
       "</style>\n",
       "<table border=\"1\" class=\"dataframe\">\n",
       "  <thead>\n",
       "    <tr style=\"text-align: right;\">\n",
       "      <th></th>\n",
       "      <th>0</th>\n",
       "      <th>1</th>\n",
       "      <th>2</th>\n",
       "      <th>3</th>\n",
       "      <th>4</th>\n",
       "    </tr>\n",
       "  </thead>\n",
       "  <tbody>\n",
       "    <tr>\n",
       "      <th>age</th>\n",
       "      <td>59</td>\n",
       "      <td>56</td>\n",
       "      <td>41</td>\n",
       "      <td>55</td>\n",
       "      <td>54</td>\n",
       "    </tr>\n",
       "    <tr>\n",
       "      <th>default</th>\n",
       "      <td>0</td>\n",
       "      <td>0</td>\n",
       "      <td>0</td>\n",
       "      <td>0</td>\n",
       "      <td>0</td>\n",
       "    </tr>\n",
       "    <tr>\n",
       "      <th>balance</th>\n",
       "      <td>2343</td>\n",
       "      <td>45</td>\n",
       "      <td>1270</td>\n",
       "      <td>2476</td>\n",
       "      <td>184</td>\n",
       "    </tr>\n",
       "    <tr>\n",
       "      <th>housing</th>\n",
       "      <td>1</td>\n",
       "      <td>0</td>\n",
       "      <td>1</td>\n",
       "      <td>1</td>\n",
       "      <td>0</td>\n",
       "    </tr>\n",
       "    <tr>\n",
       "      <th>loan</th>\n",
       "      <td>0</td>\n",
       "      <td>0</td>\n",
       "      <td>0</td>\n",
       "      <td>0</td>\n",
       "      <td>0</td>\n",
       "    </tr>\n",
       "    <tr>\n",
       "      <th>day</th>\n",
       "      <td>5</td>\n",
       "      <td>5</td>\n",
       "      <td>5</td>\n",
       "      <td>5</td>\n",
       "      <td>5</td>\n",
       "    </tr>\n",
       "    <tr>\n",
       "      <th>month</th>\n",
       "      <td>5</td>\n",
       "      <td>5</td>\n",
       "      <td>5</td>\n",
       "      <td>5</td>\n",
       "      <td>5</td>\n",
       "    </tr>\n",
       "    <tr>\n",
       "      <th>duration</th>\n",
       "      <td>1042</td>\n",
       "      <td>1467</td>\n",
       "      <td>1389</td>\n",
       "      <td>579</td>\n",
       "      <td>673</td>\n",
       "    </tr>\n",
       "    <tr>\n",
       "      <th>campaign</th>\n",
       "      <td>1</td>\n",
       "      <td>1</td>\n",
       "      <td>1</td>\n",
       "      <td>1</td>\n",
       "      <td>2</td>\n",
       "    </tr>\n",
       "    <tr>\n",
       "      <th>pdays</th>\n",
       "      <td>-1</td>\n",
       "      <td>-1</td>\n",
       "      <td>-1</td>\n",
       "      <td>-1</td>\n",
       "      <td>-1</td>\n",
       "    </tr>\n",
       "    <tr>\n",
       "      <th>previous</th>\n",
       "      <td>0</td>\n",
       "      <td>0</td>\n",
       "      <td>0</td>\n",
       "      <td>0</td>\n",
       "      <td>0</td>\n",
       "    </tr>\n",
       "    <tr>\n",
       "      <th>deposit</th>\n",
       "      <td>1</td>\n",
       "      <td>1</td>\n",
       "      <td>1</td>\n",
       "      <td>1</td>\n",
       "      <td>1</td>\n",
       "    </tr>\n",
       "    <tr>\n",
       "      <th>marital_divorced</th>\n",
       "      <td>0</td>\n",
       "      <td>0</td>\n",
       "      <td>0</td>\n",
       "      <td>0</td>\n",
       "      <td>0</td>\n",
       "    </tr>\n",
       "    <tr>\n",
       "      <th>marital_married</th>\n",
       "      <td>1</td>\n",
       "      <td>1</td>\n",
       "      <td>1</td>\n",
       "      <td>1</td>\n",
       "      <td>1</td>\n",
       "    </tr>\n",
       "    <tr>\n",
       "      <th>marital_single</th>\n",
       "      <td>0</td>\n",
       "      <td>0</td>\n",
       "      <td>0</td>\n",
       "      <td>0</td>\n",
       "      <td>0</td>\n",
       "    </tr>\n",
       "    <tr>\n",
       "      <th>education_primary</th>\n",
       "      <td>0</td>\n",
       "      <td>0</td>\n",
       "      <td>0</td>\n",
       "      <td>0</td>\n",
       "      <td>0</td>\n",
       "    </tr>\n",
       "    <tr>\n",
       "      <th>education_secondary</th>\n",
       "      <td>1</td>\n",
       "      <td>1</td>\n",
       "      <td>1</td>\n",
       "      <td>1</td>\n",
       "      <td>0</td>\n",
       "    </tr>\n",
       "    <tr>\n",
       "      <th>education_tertiary</th>\n",
       "      <td>0</td>\n",
       "      <td>0</td>\n",
       "      <td>0</td>\n",
       "      <td>0</td>\n",
       "      <td>1</td>\n",
       "    </tr>\n",
       "    <tr>\n",
       "      <th>education_unknown</th>\n",
       "      <td>0</td>\n",
       "      <td>0</td>\n",
       "      <td>0</td>\n",
       "      <td>0</td>\n",
       "      <td>0</td>\n",
       "    </tr>\n",
       "    <tr>\n",
       "      <th>contact_cellular</th>\n",
       "      <td>0</td>\n",
       "      <td>0</td>\n",
       "      <td>0</td>\n",
       "      <td>0</td>\n",
       "      <td>0</td>\n",
       "    </tr>\n",
       "    <tr>\n",
       "      <th>contact_telephone</th>\n",
       "      <td>0</td>\n",
       "      <td>0</td>\n",
       "      <td>0</td>\n",
       "      <td>0</td>\n",
       "      <td>0</td>\n",
       "    </tr>\n",
       "    <tr>\n",
       "      <th>contact_unknown</th>\n",
       "      <td>1</td>\n",
       "      <td>1</td>\n",
       "      <td>1</td>\n",
       "      <td>1</td>\n",
       "      <td>1</td>\n",
       "    </tr>\n",
       "    <tr>\n",
       "      <th>poutcome_failure</th>\n",
       "      <td>0</td>\n",
       "      <td>0</td>\n",
       "      <td>0</td>\n",
       "      <td>0</td>\n",
       "      <td>0</td>\n",
       "    </tr>\n",
       "    <tr>\n",
       "      <th>poutcome_other</th>\n",
       "      <td>0</td>\n",
       "      <td>0</td>\n",
       "      <td>0</td>\n",
       "      <td>0</td>\n",
       "      <td>0</td>\n",
       "    </tr>\n",
       "    <tr>\n",
       "      <th>poutcome_success</th>\n",
       "      <td>0</td>\n",
       "      <td>0</td>\n",
       "      <td>0</td>\n",
       "      <td>0</td>\n",
       "      <td>0</td>\n",
       "    </tr>\n",
       "    <tr>\n",
       "      <th>poutcome_unknown</th>\n",
       "      <td>1</td>\n",
       "      <td>1</td>\n",
       "      <td>1</td>\n",
       "      <td>1</td>\n",
       "      <td>1</td>\n",
       "    </tr>\n",
       "    <tr>\n",
       "      <th>job_admin.</th>\n",
       "      <td>1</td>\n",
       "      <td>1</td>\n",
       "      <td>0</td>\n",
       "      <td>0</td>\n",
       "      <td>1</td>\n",
       "    </tr>\n",
       "    <tr>\n",
       "      <th>job_blue-collar</th>\n",
       "      <td>0</td>\n",
       "      <td>0</td>\n",
       "      <td>0</td>\n",
       "      <td>0</td>\n",
       "      <td>0</td>\n",
       "    </tr>\n",
       "    <tr>\n",
       "      <th>job_entrepreneur</th>\n",
       "      <td>0</td>\n",
       "      <td>0</td>\n",
       "      <td>0</td>\n",
       "      <td>0</td>\n",
       "      <td>0</td>\n",
       "    </tr>\n",
       "    <tr>\n",
       "      <th>job_housemaid</th>\n",
       "      <td>0</td>\n",
       "      <td>0</td>\n",
       "      <td>0</td>\n",
       "      <td>0</td>\n",
       "      <td>0</td>\n",
       "    </tr>\n",
       "    <tr>\n",
       "      <th>job_management</th>\n",
       "      <td>0</td>\n",
       "      <td>0</td>\n",
       "      <td>0</td>\n",
       "      <td>0</td>\n",
       "      <td>0</td>\n",
       "    </tr>\n",
       "    <tr>\n",
       "      <th>job_retired</th>\n",
       "      <td>0</td>\n",
       "      <td>0</td>\n",
       "      <td>0</td>\n",
       "      <td>0</td>\n",
       "      <td>0</td>\n",
       "    </tr>\n",
       "    <tr>\n",
       "      <th>job_self-employed</th>\n",
       "      <td>0</td>\n",
       "      <td>0</td>\n",
       "      <td>0</td>\n",
       "      <td>0</td>\n",
       "      <td>0</td>\n",
       "    </tr>\n",
       "    <tr>\n",
       "      <th>job_services</th>\n",
       "      <td>0</td>\n",
       "      <td>0</td>\n",
       "      <td>0</td>\n",
       "      <td>1</td>\n",
       "      <td>0</td>\n",
       "    </tr>\n",
       "    <tr>\n",
       "      <th>job_student</th>\n",
       "      <td>0</td>\n",
       "      <td>0</td>\n",
       "      <td>0</td>\n",
       "      <td>0</td>\n",
       "      <td>0</td>\n",
       "    </tr>\n",
       "    <tr>\n",
       "      <th>job_technician</th>\n",
       "      <td>0</td>\n",
       "      <td>0</td>\n",
       "      <td>1</td>\n",
       "      <td>0</td>\n",
       "      <td>0</td>\n",
       "    </tr>\n",
       "    <tr>\n",
       "      <th>job_unemployed</th>\n",
       "      <td>0</td>\n",
       "      <td>0</td>\n",
       "      <td>0</td>\n",
       "      <td>0</td>\n",
       "      <td>0</td>\n",
       "    </tr>\n",
       "    <tr>\n",
       "      <th>job_unknown</th>\n",
       "      <td>0</td>\n",
       "      <td>0</td>\n",
       "      <td>0</td>\n",
       "      <td>0</td>\n",
       "      <td>0</td>\n",
       "    </tr>\n",
       "  </tbody>\n",
       "</table>\n",
       "</div>"
      ],
      "text/plain": [
       "                        0     1     2     3    4\n",
       "age                    59    56    41    55   54\n",
       "default                 0     0     0     0    0\n",
       "balance              2343    45  1270  2476  184\n",
       "housing                 1     0     1     1    0\n",
       "loan                    0     0     0     0    0\n",
       "day                     5     5     5     5    5\n",
       "month                   5     5     5     5    5\n",
       "duration             1042  1467  1389   579  673\n",
       "campaign                1     1     1     1    2\n",
       "pdays                  -1    -1    -1    -1   -1\n",
       "previous                0     0     0     0    0\n",
       "deposit                 1     1     1     1    1\n",
       "marital_divorced        0     0     0     0    0\n",
       "marital_married         1     1     1     1    1\n",
       "marital_single          0     0     0     0    0\n",
       "education_primary       0     0     0     0    0\n",
       "education_secondary     1     1     1     1    0\n",
       "education_tertiary      0     0     0     0    1\n",
       "education_unknown       0     0     0     0    0\n",
       "contact_cellular        0     0     0     0    0\n",
       "contact_telephone       0     0     0     0    0\n",
       "contact_unknown         1     1     1     1    1\n",
       "poutcome_failure        0     0     0     0    0\n",
       "poutcome_other          0     0     0     0    0\n",
       "poutcome_success        0     0     0     0    0\n",
       "poutcome_unknown        1     1     1     1    1\n",
       "job_admin.              1     1     0     0    1\n",
       "job_blue-collar         0     0     0     0    0\n",
       "job_entrepreneur        0     0     0     0    0\n",
       "job_housemaid           0     0     0     0    0\n",
       "job_management          0     0     0     0    0\n",
       "job_retired             0     0     0     0    0\n",
       "job_self-employed       0     0     0     0    0\n",
       "job_services            0     0     0     1    0\n",
       "job_student             0     0     0     0    0\n",
       "job_technician          0     0     1     0    0\n",
       "job_unemployed          0     0     0     0    0\n",
       "job_unknown             0     0     0     0    0"
      ]
     },
     "execution_count": 11,
     "metadata": {},
     "output_type": "execute_result"
    }
   ],
   "source": [
    "#df_2 = df_1.drop(['job'], axis = 1)\n",
    "df_2 = pd.get_dummies(df_1, columns=['job']) \n",
    "\n",
    "df_2.head().T"
   ]
  },
  {
   "cell_type": "code",
   "execution_count": 12,
   "metadata": {
    "execution": {
     "iopub.execute_input": "2020-10-11T19:41:04.519962Z",
     "iopub.status.busy": "2020-10-11T19:41:04.519221Z",
     "iopub.status.idle": "2020-10-11T19:41:04.521587Z",
     "shell.execute_reply": "2020-10-11T19:41:04.522076Z"
    },
    "papermill": {
     "duration": 0.052195,
     "end_time": "2020-10-11T19:41:04.522241",
     "exception": false,
     "start_time": "2020-10-11T19:41:04.470046",
     "status": "completed"
    },
    "tags": []
   },
   "outputs": [],
   "source": [
    "#df_2.info()"
   ]
  },
  {
   "cell_type": "code",
   "execution_count": 13,
   "metadata": {
    "execution": {
     "iopub.execute_input": "2020-10-11T19:41:04.621579Z",
     "iopub.status.busy": "2020-10-11T19:41:04.620774Z",
     "iopub.status.idle": "2020-10-11T19:41:04.649085Z",
     "shell.execute_reply": "2020-10-11T19:41:04.648500Z"
    },
    "papermill": {
     "duration": 0.080478,
     "end_time": "2020-10-11T19:41:04.649217",
     "exception": false,
     "start_time": "2020-10-11T19:41:04.568739",
     "status": "completed"
    },
    "tags": []
   },
   "outputs": [
    {
     "data": {
      "text/plain": [
       "array([[ 1.49150488, -0.12361659,  0.25252514, ..., -0.44181774,\n",
       "        -0.1817698 , -0.07944089],\n",
       "       [ 1.23967567, -0.12361659, -0.4599736 , ..., -0.44181774,\n",
       "        -0.1817698 , -0.07944089],\n",
       "       [-0.0194704 , -0.12361659, -0.0801603 , ...,  2.26337677,\n",
       "        -0.1817698 , -0.07944089],\n",
       "       ...,\n",
       "       [-0.77495804, -0.12361659, -0.46493443, ...,  2.26337677,\n",
       "        -0.1817698 , -0.07944089],\n",
       "       [ 0.14841574, -0.12361659, -0.47392593, ...,  2.26337677,\n",
       "        -0.1817698 , -0.07944089],\n",
       "       [-0.6070719 , -0.12361659, -0.47392593, ...,  2.26337677,\n",
       "        -0.1817698 , -0.07944089]])"
      ]
     },
     "execution_count": 13,
     "metadata": {},
     "output_type": "execute_result"
    }
   ],
   "source": [
    "from sklearn.preprocessing import StandardScaler\n",
    "scaler = StandardScaler()\n",
    "\n",
    "# Создание X - вся таблица без target (deposit), а y - target (deposit).\n",
    "\n",
    "y = df_2['deposit']\n",
    "df_3 = df_2.drop('deposit', axis = 1)\n",
    "\n",
    "X = df_3\n",
    "\n",
    "X_new = scaler.fit_transform(X)\n",
    "X_new"
   ]
  },
  {
   "cell_type": "markdown",
   "metadata": {
    "papermill": {
     "duration": 0.045698,
     "end_time": "2020-10-11T19:41:04.742053",
     "exception": false,
     "start_time": "2020-10-11T19:41:04.696355",
     "status": "completed"
    },
    "tags": []
   },
   "source": [
    "*5. Разбейте набор данных на обучающую и валидационную (тестовую) выборки с помощью метода train_test_split.*"
   ]
  },
  {
   "cell_type": "code",
   "execution_count": 14,
   "metadata": {
    "execution": {
     "iopub.execute_input": "2020-10-11T19:41:04.840987Z",
     "iopub.status.busy": "2020-10-11T19:41:04.840124Z",
     "iopub.status.idle": "2020-10-11T19:41:04.897039Z",
     "shell.execute_reply": "2020-10-11T19:41:04.896431Z"
    },
    "papermill": {
     "duration": 0.109396,
     "end_time": "2020-10-11T19:41:04.897161",
     "exception": false,
     "start_time": "2020-10-11T19:41:04.787765",
     "status": "completed"
    },
    "tags": []
   },
   "outputs": [],
   "source": [
    "# Разбиение\n",
    "from sklearn.model_selection import train_test_split\n",
    "X_train, X_valid, y_train, y_valid = train_test_split(X, \n",
    "                                                      y, \n",
    "                                                      test_size=0.25, \n",
    "                                                      random_state=20) \n",
    "\n",
    "#random_state. Controls the shuffling applied to the data before applying the split. "
   ]
  },
  {
   "cell_type": "code",
   "execution_count": 15,
   "metadata": {
    "execution": {
     "iopub.execute_input": "2020-10-11T19:41:04.994981Z",
     "iopub.status.busy": "2020-10-11T19:41:04.993977Z",
     "iopub.status.idle": "2020-10-11T19:41:04.998491Z",
     "shell.execute_reply": "2020-10-11T19:41:04.997667Z"
    },
    "papermill": {
     "duration": 0.055378,
     "end_time": "2020-10-11T19:41:04.998672",
     "exception": false,
     "start_time": "2020-10-11T19:41:04.943294",
     "status": "completed"
    },
    "tags": []
   },
   "outputs": [
    {
     "name": "stdout",
     "output_type": "stream",
     "text": [
      "(8371, 37) (8371,)\n",
      "(2791, 37) (2791,)\n"
     ]
    }
   ],
   "source": [
    "print(X_train.shape, y_train.shape)\n",
    "print( X_valid.shape, y_valid.shape)"
   ]
  },
  {
   "cell_type": "markdown",
   "metadata": {
    "papermill": {
     "duration": 0.048436,
     "end_time": "2020-10-11T19:41:05.097563",
     "exception": false,
     "start_time": "2020-10-11T19:41:05.049127",
     "status": "completed"
    },
    "tags": []
   },
   "source": [
    "*6. Обучите алгоритм классификации kNeighborsClassifier или регрессии KNeighborsRegressor . Оцените качество каждой модели на валидационной выборке с помощью*\n",
    "1. accuracy_score для классификации;\n",
    "2. mean_squared_error для регрессии.\n",
    "\n",
    "*Сравните результаты и сделайте выводы.*"
   ]
  },
  {
   "cell_type": "code",
   "execution_count": 16,
   "metadata": {
    "execution": {
     "iopub.execute_input": "2020-10-11T19:41:05.197599Z",
     "iopub.status.busy": "2020-10-11T19:41:05.196747Z",
     "iopub.status.idle": "2020-10-11T19:41:05.330552Z",
     "shell.execute_reply": "2020-10-11T19:41:05.329772Z"
    },
    "papermill": {
     "duration": 0.185971,
     "end_time": "2020-10-11T19:41:05.330709",
     "exception": false,
     "start_time": "2020-10-11T19:41:05.144738",
     "status": "completed"
    },
    "tags": []
   },
   "outputs": [],
   "source": [
    "#Обучение классификатора\n",
    "# Создаём представителя класса модели, задаём необходимые гиперпараметры\n",
    "\n",
    "from sklearn.neighbors import KNeighborsClassifier\n",
    "knn = KNeighborsClassifier(n_neighbors=1)"
   ]
  },
  {
   "cell_type": "code",
   "execution_count": 17,
   "metadata": {
    "execution": {
     "iopub.execute_input": "2020-10-11T19:41:05.434476Z",
     "iopub.status.busy": "2020-10-11T19:41:05.433469Z",
     "iopub.status.idle": "2020-10-11T19:41:05.479364Z",
     "shell.execute_reply": "2020-10-11T19:41:05.479916Z"
    },
    "papermill": {
     "duration": 0.100994,
     "end_time": "2020-10-11T19:41:05.480056",
     "exception": false,
     "start_time": "2020-10-11T19:41:05.379062",
     "status": "completed"
    },
    "tags": []
   },
   "outputs": [
    {
     "data": {
      "text/plain": [
       "KNeighborsClassifier(n_neighbors=1)"
      ]
     },
     "execution_count": 17,
     "metadata": {},
     "output_type": "execute_result"
    }
   ],
   "source": [
    "# Обучаем модель на обучающей выборке\n",
    "knn.fit(X_train, y_train)"
   ]
  },
  {
   "cell_type": "code",
   "execution_count": 18,
   "metadata": {
    "execution": {
     "iopub.execute_input": "2020-10-11T19:41:05.584815Z",
     "iopub.status.busy": "2020-10-11T19:41:05.584157Z",
     "iopub.status.idle": "2020-10-11T19:41:05.741005Z",
     "shell.execute_reply": "2020-10-11T19:41:05.740365Z"
    },
    "papermill": {
     "duration": 0.211426,
     "end_time": "2020-10-11T19:41:05.741135",
     "exception": false,
     "start_time": "2020-10-11T19:41:05.529709",
     "status": "completed"
    },
    "tags": []
   },
   "outputs": [
    {
     "data": {
      "text/plain": [
       "array([1, 1, 1, ..., 0, 0, 0])"
      ]
     },
     "execution_count": 18,
     "metadata": {},
     "output_type": "execute_result"
    }
   ],
   "source": [
    "# Строим предсказания на основе обученной модели\n",
    "y_pred = knn.predict(X_valid)\n",
    "y_pred"
   ]
  },
  {
   "cell_type": "code",
   "execution_count": 19,
   "metadata": {
    "execution": {
     "iopub.execute_input": "2020-10-11T19:41:05.848273Z",
     "iopub.status.busy": "2020-10-11T19:41:05.847487Z",
     "iopub.status.idle": "2020-10-11T19:41:05.851332Z",
     "shell.execute_reply": "2020-10-11T19:41:05.850649Z"
    },
    "papermill": {
     "duration": 0.060644,
     "end_time": "2020-10-11T19:41:05.851445",
     "exception": false,
     "start_time": "2020-10-11T19:41:05.790801",
     "status": "completed"
    },
    "tags": []
   },
   "outputs": [
    {
     "data": {
      "text/plain": [
       "0.29308491580078827"
      ]
     },
     "execution_count": 19,
     "metadata": {},
     "output_type": "execute_result"
    }
   ],
   "source": [
    "#Функция mean_squared_error вычисляет среднеквадратичную ошибку, метрику риска, \n",
    "#соответствующую ожидаемому значению квадратичной ошибки или убытка.\n",
    "\n",
    "from sklearn.metrics import mean_squared_error\n",
    "mean_squared_error(y_valid, y_pred)"
   ]
  },
  {
   "cell_type": "code",
   "execution_count": 20,
   "metadata": {
    "execution": {
     "iopub.execute_input": "2020-10-11T19:41:05.958128Z",
     "iopub.status.busy": "2020-10-11T19:41:05.957131Z",
     "iopub.status.idle": "2020-10-11T19:41:06.149832Z",
     "shell.execute_reply": "2020-10-11T19:41:06.149253Z"
    },
    "papermill": {
     "duration": 0.248464,
     "end_time": "2020-10-11T19:41:06.149948",
     "exception": false,
     "start_time": "2020-10-11T19:41:05.901484",
     "status": "completed"
    },
    "tags": []
   },
   "outputs": [
    {
     "data": {
      "text/plain": [
       "0.7069150841992118"
      ]
     },
     "execution_count": 20,
     "metadata": {},
     "output_type": "execute_result"
    }
   ],
   "source": [
    "# Вычисляем метрику\n",
    "knn.score(X_valid, y_valid)"
   ]
  },
  {
   "cell_type": "code",
   "execution_count": 21,
   "metadata": {
    "execution": {
     "iopub.execute_input": "2020-10-11T19:41:06.257413Z",
     "iopub.status.busy": "2020-10-11T19:41:06.256326Z",
     "iopub.status.idle": "2020-10-11T19:41:06.260605Z",
     "shell.execute_reply": "2020-10-11T19:41:06.261109Z"
    },
    "papermill": {
     "duration": 0.059395,
     "end_time": "2020-10-11T19:41:06.261279",
     "exception": false,
     "start_time": "2020-10-11T19:41:06.201884",
     "status": "completed"
    },
    "tags": []
   },
   "outputs": [
    {
     "name": "stdout",
     "output_type": "stream",
     "text": [
      "0.7069150841992118\n"
     ]
    }
   ],
   "source": [
    "# Ещё один способ для вычисления метрики\n",
    "from sklearn.metrics import accuracy_score\n",
    "print(accuracy_score(y_valid, y_pred))"
   ]
  },
  {
   "cell_type": "code",
   "execution_count": 22,
   "metadata": {
    "execution": {
     "iopub.execute_input": "2020-10-11T19:41:06.369237Z",
     "iopub.status.busy": "2020-10-11T19:41:06.368271Z",
     "iopub.status.idle": "2020-10-11T19:41:06.378518Z",
     "shell.execute_reply": "2020-10-11T19:41:06.377944Z"
    },
    "papermill": {
     "duration": 0.066601,
     "end_time": "2020-10-11T19:41:06.378618",
     "exception": false,
     "start_time": "2020-10-11T19:41:06.312017",
     "status": "completed"
    },
    "tags": []
   },
   "outputs": [
    {
     "name": "stdout",
     "output_type": "stream",
     "text": [
      "[[1064  390]\n",
      " [ 428  909]]\n"
     ]
    }
   ],
   "source": [
    "from sklearn.metrics import confusion_matrix\n",
    "print(confusion_matrix(y_valid, y_pred))"
   ]
  },
  {
   "cell_type": "markdown",
   "metadata": {
    "papermill": {
     "duration": 0.050594,
     "end_time": "2020-10-11T19:41:06.481560",
     "exception": false,
     "start_time": "2020-10-11T19:41:06.430966",
     "status": "completed"
    },
    "tags": []
   },
   "source": [
    "Cреднеквадратическая ошибка мала, а score достаточно большое, откуда следует, что  модель можно считать качественной.\n",
    "\n",
    "Также можно сделать вывод, что модель предсказывает случаи 'no' немного лучше чем 'yes', что очевидно, ведь ноборов 'no' в данном датасете больше. "
   ]
  },
  {
   "cell_type": "markdown",
   "metadata": {
    "papermill": {
     "duration": 0.050358,
     "end_time": "2020-10-11T19:41:06.583703",
     "exception": false,
     "start_time": "2020-10-11T19:41:06.533345",
     "status": "completed"
    },
    "tags": []
   },
   "source": [
    "# Настройка оптимального числа ближайших соседей в методе kNN"
   ]
  },
  {
   "cell_type": "markdown",
   "metadata": {
    "papermill": {
     "duration": 0.049731,
     "end_time": "2020-10-11T19:41:06.683835",
     "exception": false,
     "start_time": "2020-10-11T19:41:06.634104",
     "status": "completed"
    },
    "tags": []
   },
   "source": [
    "*1. Создайте генератор разбиений, который перемешивает выборку перед созданием блоков ( shuffle=True ). Число блоков n_splits равно 5. Задайте также параметр random_state для воспроизводимости результатов. Например: kf = KFold(n_splits=5, shuffle=True, random_state=42).*\n",
    "\n",
    "*Найдите показатель качества модели kNN на кросс-валидации. Подумайте, приемлемо ли использование вашей меры (метрики) качества в данной задаче? При необходимости пересчитайте качество с помощью другой метрики из списка.*"
   ]
  },
  {
   "cell_type": "code",
   "execution_count": 23,
   "metadata": {
    "execution": {
     "iopub.execute_input": "2020-10-11T19:41:06.790936Z",
     "iopub.status.busy": "2020-10-11T19:41:06.790066Z",
     "iopub.status.idle": "2020-10-11T19:41:07.648232Z",
     "shell.execute_reply": "2020-10-11T19:41:07.647575Z"
    },
    "papermill": {
     "duration": 0.914253,
     "end_time": "2020-10-11T19:41:07.648364",
     "exception": false,
     "start_time": "2020-10-11T19:41:06.734111",
     "status": "completed"
    },
    "tags": []
   },
   "outputs": [
    {
     "data": {
      "text/plain": [
       "0.7059662250985943"
      ]
     },
     "execution_count": 23,
     "metadata": {},
     "output_type": "execute_result"
    }
   ],
   "source": [
    "from sklearn.model_selection import KFold, cross_val_score\n",
    "kf = KFold(n_splits = 5, shuffle = True, random_state = 42)\n",
    "\n",
    "scores = cross_val_score(knn, X, y, cv = kf, scoring = 'accuracy')\n",
    "scores.mean()"
   ]
  },
  {
   "cell_type": "markdown",
   "metadata": {
    "papermill": {
     "duration": 0.052291,
     "end_time": "2020-10-11T19:41:07.754985",
     "exception": false,
     "start_time": "2020-10-11T19:41:07.702694",
     "status": "completed"
    },
    "tags": []
   },
   "source": [
    "В лучщем случае метод должен вернуть положительное значение с плавающей запятой (лучшее - 1). Имеется число наближенное к 1-е, следовательное использованиие этой метрики для данной задачи \n",
    "приемлимо. "
   ]
  },
  {
   "cell_type": "markdown",
   "metadata": {
    "papermill": {
     "duration": 0.051255,
     "end_time": "2020-10-11T19:41:07.858033",
     "exception": false,
     "start_time": "2020-10-11T19:41:07.806778",
     "status": "completed"
    },
    "tags": []
   },
   "source": [
    "Для примера,рассмотрим ещё F1 score. The F1 score is the harmonic mean of the precision and recall. The highest possible value of F1 is 1, indicating perfect precision and recall, and the lowest possible value is 0, if either the precision or the recall is zero."
   ]
  },
  {
   "cell_type": "code",
   "execution_count": 24,
   "metadata": {
    "execution": {
     "iopub.execute_input": "2020-10-11T19:41:07.969283Z",
     "iopub.status.busy": "2020-10-11T19:41:07.968195Z",
     "iopub.status.idle": "2020-10-11T19:41:08.817484Z",
     "shell.execute_reply": "2020-10-11T19:41:08.816821Z"
    },
    "papermill": {
     "duration": 0.907438,
     "end_time": "2020-10-11T19:41:08.817609",
     "exception": false,
     "start_time": "2020-10-11T19:41:07.910171",
     "status": "completed"
    },
    "tags": []
   },
   "outputs": [
    {
     "data": {
      "text/plain": [
       "0.6851150677234813"
      ]
     },
     "execution_count": 24,
     "metadata": {},
     "output_type": "execute_result"
    }
   ],
   "source": [
    "scores = cross_val_score(knn, X, y, cv = kf, scoring = 'f1')\n",
    "scores.mean()"
   ]
  },
  {
   "cell_type": "markdown",
   "metadata": {
    "papermill": {
     "duration": 0.053342,
     "end_time": "2020-10-11T19:41:08.924495",
     "exception": false,
     "start_time": "2020-10-11T19:41:08.871153",
     "status": "completed"
    },
    "tags": []
   },
   "source": [
    "Полученное значение наближенно к единице,но хуже предыдущего случая."
   ]
  },
  {
   "cell_type": "markdown",
   "metadata": {
    "papermill": {
     "duration": 0.052307,
     "end_time": "2020-10-11T19:41:09.028242",
     "exception": false,
     "start_time": "2020-10-11T19:41:08.975935",
     "status": "completed"
    },
    "tags": []
   },
   "source": [
    "*2. Осуществите кросс-валидацию модели при числе соседей k ∈ [1;50]. Используйте GridSearchCV . При каком k качество получилось наилучшим? Чему равна эта оценка качества? Постройте график значений метрики в зависимости от k (matplotlib.pyplot.plot()).*"
   ]
  },
  {
   "cell_type": "code",
   "execution_count": 25,
   "metadata": {
    "execution": {
     "iopub.execute_input": "2020-10-11T19:41:09.140311Z",
     "iopub.status.busy": "2020-10-11T19:41:09.139250Z",
     "iopub.status.idle": "2020-10-11T19:41:48.563111Z",
     "shell.execute_reply": "2020-10-11T19:41:48.563751Z"
    },
    "papermill": {
     "duration": 39.483266,
     "end_time": "2020-10-11T19:41:48.563921",
     "exception": false,
     "start_time": "2020-10-11T19:41:09.080655",
     "status": "completed"
    },
    "tags": []
   },
   "outputs": [
    {
     "data": {
      "text/plain": [
       "GridSearchCV(cv=KFold(n_splits=5, random_state=42, shuffle=True),\n",
       "             estimator=KNeighborsClassifier(n_neighbors=1),\n",
       "             param_grid={'n_neighbors': array([ 1,  2,  3,  4,  5,  6,  7,  8,  9, 10, 11, 12, 13, 14, 15, 16, 17,\n",
       "       18, 19, 20, 21, 22, 23, 24, 25, 26, 27, 28, 29, 30, 31, 32, 33, 34,\n",
       "       35, 36, 37, 38, 39, 40, 41, 42, 43, 44, 45, 46, 47, 48, 49, 50])},\n",
       "             scoring='f1')"
      ]
     },
     "execution_count": 25,
     "metadata": {},
     "output_type": "execute_result"
    }
   ],
   "source": [
    "from sklearn.model_selection import GridSearchCV\n",
    "knn_params = {'n_neighbors': np.arange(1, 51)}\n",
    "knn_grid = GridSearchCV(knn, \n",
    "                        knn_params, \n",
    "                        scoring='f1',\n",
    "                        cv = kf)\n",
    "knn_grid.fit(X_train, y_train)"
   ]
  },
  {
   "cell_type": "code",
   "execution_count": 26,
   "metadata": {
    "execution": {
     "iopub.execute_input": "2020-10-11T19:41:48.717754Z",
     "iopub.status.busy": "2020-10-11T19:41:48.716533Z",
     "iopub.status.idle": "2020-10-11T19:41:48.721836Z",
     "shell.execute_reply": "2020-10-11T19:41:48.720695Z"
    },
    "papermill": {
     "duration": 0.084429,
     "end_time": "2020-10-11T19:41:48.722021",
     "exception": false,
     "start_time": "2020-10-11T19:41:48.637592",
     "status": "completed"
    },
    "tags": []
   },
   "outputs": [
    {
     "name": "stdout",
     "output_type": "stream",
     "text": [
      "Best_estimator:  KNeighborsClassifier(n_neighbors=13)\n",
      "Cross-validated score of the best_estimator:  0.736035999768965\n",
      "Best_index_ while the best_score_ attribute will not be available:  {'n_neighbors': 13}\n"
     ]
    }
   ],
   "source": [
    "print(\"Best_estimator: \", knn_grid.best_estimator_)\n",
    "print(\"Cross-validated score of the best_estimator: \", knn_grid.best_score_)\n",
    "print( \"Best_index_ while the best_score_ attribute will not be available: \", knn_grid.best_params_)"
   ]
  },
  {
   "cell_type": "code",
   "execution_count": 27,
   "metadata": {
    "execution": {
     "iopub.execute_input": "2020-10-11T19:41:48.914956Z",
     "iopub.status.busy": "2020-10-11T19:41:48.914160Z",
     "iopub.status.idle": "2020-10-11T19:41:48.919584Z",
     "shell.execute_reply": "2020-10-11T19:41:48.919037Z"
    },
    "papermill": {
     "duration": 0.126061,
     "end_time": "2020-10-11T19:41:48.919694",
     "exception": false,
     "start_time": "2020-10-11T19:41:48.793633",
     "status": "completed"
    },
    "tags": []
   },
   "outputs": [
    {
     "data": {
      "text/html": [
       "<div>\n",
       "<style scoped>\n",
       "    .dataframe tbody tr th:only-of-type {\n",
       "        vertical-align: middle;\n",
       "    }\n",
       "\n",
       "    .dataframe tbody tr th {\n",
       "        vertical-align: top;\n",
       "    }\n",
       "\n",
       "    .dataframe thead th {\n",
       "        text-align: right;\n",
       "    }\n",
       "</style>\n",
       "<table border=\"1\" class=\"dataframe\">\n",
       "  <thead>\n",
       "    <tr style=\"text-align: right;\">\n",
       "      <th></th>\n",
       "      <th>0</th>\n",
       "      <th>1</th>\n",
       "      <th>2</th>\n",
       "      <th>3</th>\n",
       "      <th>4</th>\n",
       "      <th>5</th>\n",
       "      <th>6</th>\n",
       "      <th>7</th>\n",
       "      <th>8</th>\n",
       "      <th>9</th>\n",
       "      <th>...</th>\n",
       "      <th>40</th>\n",
       "      <th>41</th>\n",
       "      <th>42</th>\n",
       "      <th>43</th>\n",
       "      <th>44</th>\n",
       "      <th>45</th>\n",
       "      <th>46</th>\n",
       "      <th>47</th>\n",
       "      <th>48</th>\n",
       "      <th>49</th>\n",
       "    </tr>\n",
       "  </thead>\n",
       "  <tbody>\n",
       "    <tr>\n",
       "      <th>mean_fit_time</th>\n",
       "      <td>0.0282763</td>\n",
       "      <td>0.0283842</td>\n",
       "      <td>0.0283089</td>\n",
       "      <td>0.0287024</td>\n",
       "      <td>0.02857</td>\n",
       "      <td>0.028268</td>\n",
       "      <td>0.0292572</td>\n",
       "      <td>0.0288674</td>\n",
       "      <td>0.0287075</td>\n",
       "      <td>0.0289191</td>\n",
       "      <td>...</td>\n",
       "      <td>0.0286097</td>\n",
       "      <td>0.0289476</td>\n",
       "      <td>0.0286537</td>\n",
       "      <td>0.0298603</td>\n",
       "      <td>0.0293597</td>\n",
       "      <td>0.0293304</td>\n",
       "      <td>0.0292419</td>\n",
       "      <td>0.0291004</td>\n",
       "      <td>0.0293229</td>\n",
       "      <td>0.0368288</td>\n",
       "    </tr>\n",
       "    <tr>\n",
       "      <th>std_fit_time</th>\n",
       "      <td>0.000351265</td>\n",
       "      <td>0.00023847</td>\n",
       "      <td>0.000337453</td>\n",
       "      <td>0.000510275</td>\n",
       "      <td>0.000519104</td>\n",
       "      <td>0.000467278</td>\n",
       "      <td>0.000268001</td>\n",
       "      <td>0.000641664</td>\n",
       "      <td>0.000454874</td>\n",
       "      <td>0.00023247</td>\n",
       "      <td>...</td>\n",
       "      <td>0.000744326</td>\n",
       "      <td>0.00044137</td>\n",
       "      <td>0.000336187</td>\n",
       "      <td>0.001384</td>\n",
       "      <td>0.000646182</td>\n",
       "      <td>0.000755197</td>\n",
       "      <td>0.000434807</td>\n",
       "      <td>0.000500474</td>\n",
       "      <td>0.000785537</td>\n",
       "      <td>0.00201853</td>\n",
       "    </tr>\n",
       "    <tr>\n",
       "      <th>mean_score_time</th>\n",
       "      <td>0.095235</td>\n",
       "      <td>0.09859</td>\n",
       "      <td>0.101182</td>\n",
       "      <td>0.102869</td>\n",
       "      <td>0.104191</td>\n",
       "      <td>0.10573</td>\n",
       "      <td>0.109626</td>\n",
       "      <td>0.108924</td>\n",
       "      <td>0.11064</td>\n",
       "      <td>0.111774</td>\n",
       "      <td>...</td>\n",
       "      <td>0.142203</td>\n",
       "      <td>0.139824</td>\n",
       "      <td>0.140047</td>\n",
       "      <td>0.143102</td>\n",
       "      <td>0.146277</td>\n",
       "      <td>0.147451</td>\n",
       "      <td>0.146972</td>\n",
       "      <td>0.148859</td>\n",
       "      <td>0.153452</td>\n",
       "      <td>0.190507</td>\n",
       "    </tr>\n",
       "    <tr>\n",
       "      <th>std_score_time</th>\n",
       "      <td>0.000635955</td>\n",
       "      <td>0.00148966</td>\n",
       "      <td>0.000986572</td>\n",
       "      <td>0.00112934</td>\n",
       "      <td>0.000590933</td>\n",
       "      <td>0.000902385</td>\n",
       "      <td>0.00131907</td>\n",
       "      <td>0.002181</td>\n",
       "      <td>0.00097707</td>\n",
       "      <td>0.00106126</td>\n",
       "      <td>...</td>\n",
       "      <td>0.00669549</td>\n",
       "      <td>0.00132296</td>\n",
       "      <td>0.00190214</td>\n",
       "      <td>0.00555125</td>\n",
       "      <td>0.00762054</td>\n",
       "      <td>0.00639708</td>\n",
       "      <td>0.00247029</td>\n",
       "      <td>0.00756067</td>\n",
       "      <td>0.00766542</td>\n",
       "      <td>0.0158373</td>\n",
       "    </tr>\n",
       "    <tr>\n",
       "      <th>param_n_neighbors</th>\n",
       "      <td>1</td>\n",
       "      <td>2</td>\n",
       "      <td>3</td>\n",
       "      <td>4</td>\n",
       "      <td>5</td>\n",
       "      <td>6</td>\n",
       "      <td>7</td>\n",
       "      <td>8</td>\n",
       "      <td>9</td>\n",
       "      <td>10</td>\n",
       "      <td>...</td>\n",
       "      <td>41</td>\n",
       "      <td>42</td>\n",
       "      <td>43</td>\n",
       "      <td>44</td>\n",
       "      <td>45</td>\n",
       "      <td>46</td>\n",
       "      <td>47</td>\n",
       "      <td>48</td>\n",
       "      <td>49</td>\n",
       "      <td>50</td>\n",
       "    </tr>\n",
       "    <tr>\n",
       "      <th>params</th>\n",
       "      <td>{'n_neighbors': 1}</td>\n",
       "      <td>{'n_neighbors': 2}</td>\n",
       "      <td>{'n_neighbors': 3}</td>\n",
       "      <td>{'n_neighbors': 4}</td>\n",
       "      <td>{'n_neighbors': 5}</td>\n",
       "      <td>{'n_neighbors': 6}</td>\n",
       "      <td>{'n_neighbors': 7}</td>\n",
       "      <td>{'n_neighbors': 8}</td>\n",
       "      <td>{'n_neighbors': 9}</td>\n",
       "      <td>{'n_neighbors': 10}</td>\n",
       "      <td>...</td>\n",
       "      <td>{'n_neighbors': 41}</td>\n",
       "      <td>{'n_neighbors': 42}</td>\n",
       "      <td>{'n_neighbors': 43}</td>\n",
       "      <td>{'n_neighbors': 44}</td>\n",
       "      <td>{'n_neighbors': 45}</td>\n",
       "      <td>{'n_neighbors': 46}</td>\n",
       "      <td>{'n_neighbors': 47}</td>\n",
       "      <td>{'n_neighbors': 48}</td>\n",
       "      <td>{'n_neighbors': 49}</td>\n",
       "      <td>{'n_neighbors': 50}</td>\n",
       "    </tr>\n",
       "    <tr>\n",
       "      <th>split0_test_score</th>\n",
       "      <td>0.70988</td>\n",
       "      <td>0.606107</td>\n",
       "      <td>0.716113</td>\n",
       "      <td>0.672792</td>\n",
       "      <td>0.724028</td>\n",
       "      <td>0.695055</td>\n",
       "      <td>0.720102</td>\n",
       "      <td>0.699329</td>\n",
       "      <td>0.728316</td>\n",
       "      <td>0.703282</td>\n",
       "      <td>...</td>\n",
       "      <td>0.727869</td>\n",
       "      <td>0.719788</td>\n",
       "      <td>0.725361</td>\n",
       "      <td>0.716378</td>\n",
       "      <td>0.726557</td>\n",
       "      <td>0.716755</td>\n",
       "      <td>0.723934</td>\n",
       "      <td>0.723179</td>\n",
       "      <td>0.722986</td>\n",
       "      <td>0.722333</td>\n",
       "    </tr>\n",
       "    <tr>\n",
       "      <th>split1_test_score</th>\n",
       "      <td>0.676184</td>\n",
       "      <td>0.602675</td>\n",
       "      <td>0.730097</td>\n",
       "      <td>0.673866</td>\n",
       "      <td>0.730242</td>\n",
       "      <td>0.70028</td>\n",
       "      <td>0.735198</td>\n",
       "      <td>0.711354</td>\n",
       "      <td>0.742561</td>\n",
       "      <td>0.720162</td>\n",
       "      <td>...</td>\n",
       "      <td>0.724161</td>\n",
       "      <td>0.719146</td>\n",
       "      <td>0.725955</td>\n",
       "      <td>0.718876</td>\n",
       "      <td>0.727873</td>\n",
       "      <td>0.721289</td>\n",
       "      <td>0.722924</td>\n",
       "      <td>0.72118</td>\n",
       "      <td>0.721485</td>\n",
       "      <td>0.716779</td>\n",
       "    </tr>\n",
       "    <tr>\n",
       "      <th>split2_test_score</th>\n",
       "      <td>0.672823</td>\n",
       "      <td>0.609929</td>\n",
       "      <td>0.714754</td>\n",
       "      <td>0.688359</td>\n",
       "      <td>0.730424</td>\n",
       "      <td>0.709366</td>\n",
       "      <td>0.727624</td>\n",
       "      <td>0.717808</td>\n",
       "      <td>0.738402</td>\n",
       "      <td>0.729111</td>\n",
       "      <td>...</td>\n",
       "      <td>0.725936</td>\n",
       "      <td>0.722449</td>\n",
       "      <td>0.725569</td>\n",
       "      <td>0.720978</td>\n",
       "      <td>0.728123</td>\n",
       "      <td>0.727642</td>\n",
       "      <td>0.727878</td>\n",
       "      <td>0.720379</td>\n",
       "      <td>0.724024</td>\n",
       "      <td>0.718329</td>\n",
       "    </tr>\n",
       "    <tr>\n",
       "      <th>split3_test_score</th>\n",
       "      <td>0.681388</td>\n",
       "      <td>0.623591</td>\n",
       "      <td>0.725898</td>\n",
       "      <td>0.686713</td>\n",
       "      <td>0.724181</td>\n",
       "      <td>0.705163</td>\n",
       "      <td>0.731738</td>\n",
       "      <td>0.731966</td>\n",
       "      <td>0.738854</td>\n",
       "      <td>0.729927</td>\n",
       "      <td>...</td>\n",
       "      <td>0.733078</td>\n",
       "      <td>0.736093</td>\n",
       "      <td>0.732951</td>\n",
       "      <td>0.734932</td>\n",
       "      <td>0.733205</td>\n",
       "      <td>0.731865</td>\n",
       "      <td>0.732018</td>\n",
       "      <td>0.73234</td>\n",
       "      <td>0.731801</td>\n",
       "      <td>0.729381</td>\n",
       "    </tr>\n",
       "    <tr>\n",
       "      <th>split4_test_score</th>\n",
       "      <td>0.65982</td>\n",
       "      <td>0.591398</td>\n",
       "      <td>0.694087</td>\n",
       "      <td>0.656716</td>\n",
       "      <td>0.704298</td>\n",
       "      <td>0.685596</td>\n",
       "      <td>0.72129</td>\n",
       "      <td>0.701173</td>\n",
       "      <td>0.716243</td>\n",
       "      <td>0.694693</td>\n",
       "      <td>...</td>\n",
       "      <td>0.730845</td>\n",
       "      <td>0.727634</td>\n",
       "      <td>0.730845</td>\n",
       "      <td>0.729318</td>\n",
       "      <td>0.736979</td>\n",
       "      <td>0.734694</td>\n",
       "      <td>0.737737</td>\n",
       "      <td>0.735099</td>\n",
       "      <td>0.740013</td>\n",
       "      <td>0.733289</td>\n",
       "    </tr>\n",
       "    <tr>\n",
       "      <th>mean_test_score</th>\n",
       "      <td>0.680019</td>\n",
       "      <td>0.60674</td>\n",
       "      <td>0.71619</td>\n",
       "      <td>0.675689</td>\n",
       "      <td>0.722634</td>\n",
       "      <td>0.699092</td>\n",
       "      <td>0.727191</td>\n",
       "      <td>0.712326</td>\n",
       "      <td>0.732875</td>\n",
       "      <td>0.715435</td>\n",
       "      <td>...</td>\n",
       "      <td>0.728378</td>\n",
       "      <td>0.725022</td>\n",
       "      <td>0.728136</td>\n",
       "      <td>0.724096</td>\n",
       "      <td>0.730548</td>\n",
       "      <td>0.726449</td>\n",
       "      <td>0.728898</td>\n",
       "      <td>0.726435</td>\n",
       "      <td>0.728062</td>\n",
       "      <td>0.724022</td>\n",
       "    </tr>\n",
       "    <tr>\n",
       "      <th>std_test_score</th>\n",
       "      <td>0.0165412</td>\n",
       "      <td>0.0104541</td>\n",
       "      <td>0.0124759</td>\n",
       "      <td>0.0114344</td>\n",
       "      <td>0.00958243</td>\n",
       "      <td>0.00827386</td>\n",
       "      <td>0.00583193</td>\n",
       "      <td>0.0119166</td>\n",
       "      <td>0.00956592</td>\n",
       "      <td>0.014123</td>\n",
       "      <td>...</td>\n",
       "      <td>0.0032306</td>\n",
       "      <td>0.0062919</td>\n",
       "      <td>0.0031485</td>\n",
       "      <td>0.00694599</td>\n",
       "      <td>0.00393401</td>\n",
       "      <td>0.00662309</td>\n",
       "      <td>0.00546323</td>\n",
       "      <td>0.00607997</td>\n",
       "      <td>0.00695886</td>\n",
       "      <td>0.00636143</td>\n",
       "    </tr>\n",
       "    <tr>\n",
       "      <th>rank_test_score</th>\n",
       "      <td>48</td>\n",
       "      <td>50</td>\n",
       "      <td>44</td>\n",
       "      <td>49</td>\n",
       "      <td>43</td>\n",
       "      <td>47</td>\n",
       "      <td>23</td>\n",
       "      <td>46</td>\n",
       "      <td>7</td>\n",
       "      <td>45</td>\n",
       "      <td>...</td>\n",
       "      <td>16</td>\n",
       "      <td>32</td>\n",
       "      <td>18</td>\n",
       "      <td>35</td>\n",
       "      <td>12</td>\n",
       "      <td>25</td>\n",
       "      <td>15</td>\n",
       "      <td>26</td>\n",
       "      <td>20</td>\n",
       "      <td>37</td>\n",
       "    </tr>\n",
       "  </tbody>\n",
       "</table>\n",
       "<p>14 rows × 50 columns</p>\n",
       "</div>"
      ],
      "text/plain": [
       "                                   0                   1                   2   \\\n",
       "mean_fit_time               0.0282763           0.0283842           0.0283089   \n",
       "std_fit_time              0.000351265          0.00023847         0.000337453   \n",
       "mean_score_time              0.095235             0.09859            0.101182   \n",
       "std_score_time            0.000635955          0.00148966         0.000986572   \n",
       "param_n_neighbors                   1                   2                   3   \n",
       "params             {'n_neighbors': 1}  {'n_neighbors': 2}  {'n_neighbors': 3}   \n",
       "split0_test_score             0.70988            0.606107            0.716113   \n",
       "split1_test_score            0.676184            0.602675            0.730097   \n",
       "split2_test_score            0.672823            0.609929            0.714754   \n",
       "split3_test_score            0.681388            0.623591            0.725898   \n",
       "split4_test_score             0.65982            0.591398            0.694087   \n",
       "mean_test_score              0.680019             0.60674             0.71619   \n",
       "std_test_score              0.0165412           0.0104541           0.0124759   \n",
       "rank_test_score                    48                  50                  44   \n",
       "\n",
       "                                   3                   4                   5   \\\n",
       "mean_fit_time               0.0287024             0.02857            0.028268   \n",
       "std_fit_time              0.000510275         0.000519104         0.000467278   \n",
       "mean_score_time              0.102869            0.104191             0.10573   \n",
       "std_score_time             0.00112934         0.000590933         0.000902385   \n",
       "param_n_neighbors                   4                   5                   6   \n",
       "params             {'n_neighbors': 4}  {'n_neighbors': 5}  {'n_neighbors': 6}   \n",
       "split0_test_score            0.672792            0.724028            0.695055   \n",
       "split1_test_score            0.673866            0.730242             0.70028   \n",
       "split2_test_score            0.688359            0.730424            0.709366   \n",
       "split3_test_score            0.686713            0.724181            0.705163   \n",
       "split4_test_score            0.656716            0.704298            0.685596   \n",
       "mean_test_score              0.675689            0.722634            0.699092   \n",
       "std_test_score              0.0114344          0.00958243          0.00827386   \n",
       "rank_test_score                    49                  43                  47   \n",
       "\n",
       "                                   6                   7                   8   \\\n",
       "mean_fit_time               0.0292572           0.0288674           0.0287075   \n",
       "std_fit_time              0.000268001         0.000641664         0.000454874   \n",
       "mean_score_time              0.109626            0.108924             0.11064   \n",
       "std_score_time             0.00131907            0.002181          0.00097707   \n",
       "param_n_neighbors                   7                   8                   9   \n",
       "params             {'n_neighbors': 7}  {'n_neighbors': 8}  {'n_neighbors': 9}   \n",
       "split0_test_score            0.720102            0.699329            0.728316   \n",
       "split1_test_score            0.735198            0.711354            0.742561   \n",
       "split2_test_score            0.727624            0.717808            0.738402   \n",
       "split3_test_score            0.731738            0.731966            0.738854   \n",
       "split4_test_score             0.72129            0.701173            0.716243   \n",
       "mean_test_score              0.727191            0.712326            0.732875   \n",
       "std_test_score             0.00583193           0.0119166          0.00956592   \n",
       "rank_test_score                    23                  46                   7   \n",
       "\n",
       "                                    9   ...                   40  \\\n",
       "mean_fit_time                0.0289191  ...            0.0286097   \n",
       "std_fit_time                0.00023247  ...          0.000744326   \n",
       "mean_score_time               0.111774  ...             0.142203   \n",
       "std_score_time              0.00106126  ...           0.00669549   \n",
       "param_n_neighbors                   10  ...                   41   \n",
       "params             {'n_neighbors': 10}  ...  {'n_neighbors': 41}   \n",
       "split0_test_score             0.703282  ...             0.727869   \n",
       "split1_test_score             0.720162  ...             0.724161   \n",
       "split2_test_score             0.729111  ...             0.725936   \n",
       "split3_test_score             0.729927  ...             0.733078   \n",
       "split4_test_score             0.694693  ...             0.730845   \n",
       "mean_test_score               0.715435  ...             0.728378   \n",
       "std_test_score                0.014123  ...            0.0032306   \n",
       "rank_test_score                     45  ...                   16   \n",
       "\n",
       "                                    41                   42  \\\n",
       "mean_fit_time                0.0289476            0.0286537   \n",
       "std_fit_time                0.00044137          0.000336187   \n",
       "mean_score_time               0.139824             0.140047   \n",
       "std_score_time              0.00132296           0.00190214   \n",
       "param_n_neighbors                   42                   43   \n",
       "params             {'n_neighbors': 42}  {'n_neighbors': 43}   \n",
       "split0_test_score             0.719788             0.725361   \n",
       "split1_test_score             0.719146             0.725955   \n",
       "split2_test_score             0.722449             0.725569   \n",
       "split3_test_score             0.736093             0.732951   \n",
       "split4_test_score             0.727634             0.730845   \n",
       "mean_test_score               0.725022             0.728136   \n",
       "std_test_score               0.0062919            0.0031485   \n",
       "rank_test_score                     32                   18   \n",
       "\n",
       "                                    43                   44  \\\n",
       "mean_fit_time                0.0298603            0.0293597   \n",
       "std_fit_time                  0.001384          0.000646182   \n",
       "mean_score_time               0.143102             0.146277   \n",
       "std_score_time              0.00555125           0.00762054   \n",
       "param_n_neighbors                   44                   45   \n",
       "params             {'n_neighbors': 44}  {'n_neighbors': 45}   \n",
       "split0_test_score             0.716378             0.726557   \n",
       "split1_test_score             0.718876             0.727873   \n",
       "split2_test_score             0.720978             0.728123   \n",
       "split3_test_score             0.734932             0.733205   \n",
       "split4_test_score             0.729318             0.736979   \n",
       "mean_test_score               0.724096             0.730548   \n",
       "std_test_score              0.00694599           0.00393401   \n",
       "rank_test_score                     35                   12   \n",
       "\n",
       "                                    45                   46  \\\n",
       "mean_fit_time                0.0293304            0.0292419   \n",
       "std_fit_time               0.000755197          0.000434807   \n",
       "mean_score_time               0.147451             0.146972   \n",
       "std_score_time              0.00639708           0.00247029   \n",
       "param_n_neighbors                   46                   47   \n",
       "params             {'n_neighbors': 46}  {'n_neighbors': 47}   \n",
       "split0_test_score             0.716755             0.723934   \n",
       "split1_test_score             0.721289             0.722924   \n",
       "split2_test_score             0.727642             0.727878   \n",
       "split3_test_score             0.731865             0.732018   \n",
       "split4_test_score             0.734694             0.737737   \n",
       "mean_test_score               0.726449             0.728898   \n",
       "std_test_score              0.00662309           0.00546323   \n",
       "rank_test_score                     25                   15   \n",
       "\n",
       "                                    47                   48  \\\n",
       "mean_fit_time                0.0291004            0.0293229   \n",
       "std_fit_time               0.000500474          0.000785537   \n",
       "mean_score_time               0.148859             0.153452   \n",
       "std_score_time              0.00756067           0.00766542   \n",
       "param_n_neighbors                   48                   49   \n",
       "params             {'n_neighbors': 48}  {'n_neighbors': 49}   \n",
       "split0_test_score             0.723179             0.722986   \n",
       "split1_test_score              0.72118             0.721485   \n",
       "split2_test_score             0.720379             0.724024   \n",
       "split3_test_score              0.73234             0.731801   \n",
       "split4_test_score             0.735099             0.740013   \n",
       "mean_test_score               0.726435             0.728062   \n",
       "std_test_score              0.00607997           0.00695886   \n",
       "rank_test_score                     26                   20   \n",
       "\n",
       "                                    49  \n",
       "mean_fit_time                0.0368288  \n",
       "std_fit_time                0.00201853  \n",
       "mean_score_time               0.190507  \n",
       "std_score_time               0.0158373  \n",
       "param_n_neighbors                   50  \n",
       "params             {'n_neighbors': 50}  \n",
       "split0_test_score             0.722333  \n",
       "split1_test_score             0.716779  \n",
       "split2_test_score             0.718329  \n",
       "split3_test_score             0.729381  \n",
       "split4_test_score             0.733289  \n",
       "mean_test_score               0.724022  \n",
       "std_test_score              0.00636143  \n",
       "rank_test_score                     37  \n",
       "\n",
       "[14 rows x 50 columns]"
      ]
     },
     "execution_count": 27,
     "metadata": {},
     "output_type": "execute_result"
    }
   ],
   "source": [
    "cv_results = pd.DataFrame(knn_grid.cv_results_)\n",
    "cv_results.T"
   ]
  },
  {
   "cell_type": "code",
   "execution_count": 28,
   "metadata": {
    "execution": {
     "iopub.execute_input": "2020-10-11T19:41:49.042333Z",
     "iopub.status.busy": "2020-10-11T19:41:49.041630Z",
     "iopub.status.idle": "2020-10-11T19:41:49.239150Z",
     "shell.execute_reply": "2020-10-11T19:41:49.238508Z"
    },
    "papermill": {
     "duration": 0.261848,
     "end_time": "2020-10-11T19:41:49.239281",
     "exception": false,
     "start_time": "2020-10-11T19:41:48.977433",
     "status": "completed"
    },
    "tags": []
   },
   "outputs": [
    {
     "data": {
      "text/plain": [
       "0.7667502687208886"
      ]
     },
     "execution_count": 28,
     "metadata": {},
     "output_type": "execute_result"
    }
   ],
   "source": [
    "# Предсказания на тестовой выборке для оптимального числа соседей\n",
    "y_pred = knn_grid.predict(X_valid)\n",
    "accuracy_score(y_valid, y_pred)"
   ]
  },
  {
   "cell_type": "code",
   "execution_count": 29,
   "metadata": {
    "execution": {
     "iopub.execute_input": "2020-10-11T19:41:49.360427Z",
     "iopub.status.busy": "2020-10-11T19:41:49.359688Z",
     "iopub.status.idle": "2020-10-11T19:41:49.588677Z",
     "shell.execute_reply": "2020-10-11T19:41:49.588058Z"
    },
    "papermill": {
     "duration": 0.292671,
     "end_time": "2020-10-11T19:41:49.588788",
     "exception": false,
     "start_time": "2020-10-11T19:41:49.296117",
     "status": "completed"
    },
    "tags": []
   },
   "outputs": [
    {
     "data": {
      "text/plain": [
       "0.7667502687208886"
      ]
     },
     "execution_count": 29,
     "metadata": {},
     "output_type": "execute_result"
    }
   ],
   "source": [
    "best_knn = KNeighborsClassifier(n_neighbors=13)\n",
    "y_pred = best_knn.fit(X_train, y_train).predict(X_valid)\n",
    "accuracy_score(y_valid, y_pred)"
   ]
  },
  {
   "cell_type": "code",
   "execution_count": 30,
   "metadata": {
    "execution": {
     "iopub.execute_input": "2020-10-11T19:41:49.710827Z",
     "iopub.status.busy": "2020-10-11T19:41:49.705879Z",
     "iopub.status.idle": "2020-10-11T19:41:49.863356Z",
     "shell.execute_reply": "2020-10-11T19:41:49.862712Z"
    },
    "papermill": {
     "duration": 0.21982,
     "end_time": "2020-10-11T19:41:49.863475",
     "exception": false,
     "start_time": "2020-10-11T19:41:49.643655",
     "status": "completed"
    },
    "tags": []
   },
   "outputs": [
    {
     "data": {
      "image/png": "[encoded data removed]",
      "text/plain": [
       "<Figure size 432x288 with 1 Axes>"
      ]
     },
     "metadata": {
      "needs_background": "light"
     },
     "output_type": "display_data"
    }
   ],
   "source": [
    "import matplotlib.pyplot as plt\n",
    "plt.plot(cv_results[\"param_n_neighbors\"],cv_results[\"mean_test_score\"])\n",
    "\n",
    "plt.xlabel('Number of neighbors')\n",
    "plt.ylabel('Test accuracy')\n",
    "plt.title('F1 score')\n",
    "plt.show()"
   ]
  },
  {
   "cell_type": "markdown",
   "metadata": {
    "papermill": {
     "duration": 0.056802,
     "end_time": "2020-10-11T19:41:49.979174",
     "exception": false,
     "start_time": "2020-10-11T19:41:49.922372",
     "status": "completed"
    },
    "tags": []
   },
   "source": [
    " При k = 13 качество получилось наилучшим."
   ]
  },
  {
   "cell_type": "markdown",
   "metadata": {
    "papermill": {
     "duration": 0.064886,
     "end_time": "2020-10-11T19:41:50.100243",
     "exception": false,
     "start_time": "2020-10-11T19:41:50.035357",
     "status": "completed"
    },
    "tags": []
   },
   "source": [
    "\n",
    "# Выбор метрики в методе kNN"
   ]
  },
  {
   "cell_type": "markdown",
   "metadata": {
    "papermill": {
     "duration": 0.060899,
     "end_time": "2020-10-11T19:41:50.231181",
     "exception": false,
     "start_time": "2020-10-11T19:41:50.170282",
     "status": "completed"
    },
    "tags": []
   },
   "source": [
    "*1. Переберите разные варианты значений параметра p по сетке от 1 до 10 с таким шагом, чтобы всего было протестировано 200 вариантов (удобно использовать функцию numpy.linspace ). Используйте KNeighborsClassifier или KNeighborsRegressor с оптимальным значением n_neighbors , найденным ранее. Задайте опцию weights='distance' – данный параметр добавляет в алгоритм веса, зависящие от расстояния до ближайших соседей. В качестве метрики качества снова используйте accuracy . Качество оценивайте с помощью кросс-валидации по 5 блокам.*"
   ]
  },
  {
   "cell_type": "code",
   "execution_count": 31,
   "metadata": {
    "execution": {
     "iopub.execute_input": "2020-10-11T19:41:50.354980Z",
     "iopub.status.busy": "2020-10-11T19:41:50.354321Z",
     "iopub.status.idle": "2020-10-11T19:45:15.846719Z",
     "shell.execute_reply": "2020-10-11T19:45:15.847331Z"
    },
    "papermill": {
     "duration": 205.558616,
     "end_time": "2020-10-11T19:45:15.847491",
     "exception": false,
     "start_time": "2020-10-11T19:41:50.288875",
     "status": "completed"
    },
    "tags": []
   },
   "outputs": [
    {
     "data": {
      "text/plain": [
       "GridSearchCV(cv=KFold(n_splits=5, random_state=42, shuffle=True),\n",
       "             estimator=KNeighborsClassifier(n_jobs=-1, n_neighbors=13,\n",
       "                                            weights='distance'),\n",
       "             param_grid={'p': array([ 1.        ,  1.04522613,  1.09045226,  1.13567839,  1.18090452,\n",
       "        1.22613065,  1.27135678,  1.31658291,  1.36180905,  1.40703518,\n",
       "        1.45226131,  1.49748744,  1.54271357,  1.5879397 ,  1.63316583,\n",
       "        1.67839196,  1.72361809,  1.76884422...\n",
       "        8.46231156,  8.50753769,  8.55276382,  8.59798995,  8.64321608,\n",
       "        8.68844221,  8.73366834,  8.77889447,  8.8241206 ,  8.86934673,\n",
       "        8.91457286,  8.95979899,  9.00502513,  9.05025126,  9.09547739,\n",
       "        9.14070352,  9.18592965,  9.23115578,  9.27638191,  9.32160804,\n",
       "        9.36683417,  9.4120603 ,  9.45728643,  9.50251256,  9.54773869,\n",
       "        9.59296482,  9.63819095,  9.68341709,  9.72864322,  9.77386935,\n",
       "        9.81909548,  9.86432161,  9.90954774,  9.95477387, 10.        ])},\n",
       "             scoring='f1')"
      ]
     },
     "execution_count": 31,
     "metadata": {},
     "output_type": "execute_result"
    }
   ],
   "source": [
    "knn_params = {\"p\": np.linspace(1,10, 200)}\n",
    "\n",
    "knn = KNeighborsClassifier(n_neighbors = 13, weights = \"distance\", n_jobs = -1)\n",
    "knn.fit(X_train, y_train)\n",
    "\n",
    "cv = GridSearchCV(knn, knn_params, cv = kf, scoring=\"f1\")\n",
    "cv.fit(X_train, y_train)"
   ]
  },
  {
   "cell_type": "markdown",
   "metadata": {
    "papermill": {
     "duration": 0.058676,
     "end_time": "2020-10-11T19:45:15.965381",
     "exception": false,
     "start_time": "2020-10-11T19:45:15.906705",
     "status": "completed"
    },
    "tags": []
   },
   "source": [
    "*2. Определите, при каком p качество на кросс-валидации оказалось оптимальным. Обратите внимание, что cross_val_score возвращает массив показателей качества по блокам; необходимо максимизировать среднее этих показателей.*"
   ]
  },
  {
   "cell_type": "code",
   "execution_count": 32,
   "metadata": {
    "execution": {
     "iopub.execute_input": "2020-10-11T19:45:16.089684Z",
     "iopub.status.busy": "2020-10-11T19:45:16.088758Z",
     "iopub.status.idle": "2020-10-11T19:45:16.093437Z",
     "shell.execute_reply": "2020-10-11T19:45:16.092326Z"
    },
    "papermill": {
     "duration": 0.069514,
     "end_time": "2020-10-11T19:45:16.093564",
     "exception": false,
     "start_time": "2020-10-11T19:45:16.024050",
     "status": "completed"
    },
    "tags": []
   },
   "outputs": [
    {
     "name": "stdout",
     "output_type": "stream",
     "text": [
      "Лучшее значение: 0.7417053508092902\n",
      "KNeighborsClassifier(n_jobs=-1, n_neighbors=13, p=1.0, weights='distance')\n"
     ]
    }
   ],
   "source": [
    "\n",
    "print(\"Лучшее значение:\", cv.best_score_)\n",
    "print(cv.best_estimator_)"
   ]
  },
  {
   "cell_type": "code",
   "execution_count": 33,
   "metadata": {
    "execution": {
     "iopub.execute_input": "2020-10-11T19:45:16.233002Z",
     "iopub.status.busy": "2020-10-11T19:45:16.232300Z",
     "iopub.status.idle": "2020-10-11T19:45:16.251810Z",
     "shell.execute_reply": "2020-10-11T19:45:16.251226Z"
    },
    "papermill": {
     "duration": 0.09849,
     "end_time": "2020-10-11T19:45:16.251921",
     "exception": false,
     "start_time": "2020-10-11T19:45:16.153431",
     "status": "completed"
    },
    "tags": []
   },
   "outputs": [
    {
     "data": {
      "text/html": [
       "<div>\n",
       "<style scoped>\n",
       "    .dataframe tbody tr th:only-of-type {\n",
       "        vertical-align: middle;\n",
       "    }\n",
       "\n",
       "    .dataframe tbody tr th {\n",
       "        vertical-align: top;\n",
       "    }\n",
       "\n",
       "    .dataframe thead th {\n",
       "        text-align: right;\n",
       "    }\n",
       "</style>\n",
       "<table border=\"1\" class=\"dataframe\">\n",
       "  <thead>\n",
       "    <tr style=\"text-align: right;\">\n",
       "      <th></th>\n",
       "      <th>mean_fit_time</th>\n",
       "      <th>std_fit_time</th>\n",
       "      <th>mean_score_time</th>\n",
       "      <th>std_score_time</th>\n",
       "      <th>param_p</th>\n",
       "      <th>params</th>\n",
       "      <th>split0_test_score</th>\n",
       "      <th>split1_test_score</th>\n",
       "      <th>split2_test_score</th>\n",
       "      <th>split3_test_score</th>\n",
       "      <th>split4_test_score</th>\n",
       "      <th>mean_test_score</th>\n",
       "      <th>std_test_score</th>\n",
       "      <th>rank_test_score</th>\n",
       "    </tr>\n",
       "  </thead>\n",
       "  <tbody>\n",
       "    <tr>\n",
       "      <th>0</th>\n",
       "      <td>0.029282</td>\n",
       "      <td>0.001237</td>\n",
       "      <td>0.384098</td>\n",
       "      <td>0.684684</td>\n",
       "      <td>1</td>\n",
       "      <td>{'p': 1.0}</td>\n",
       "      <td>0.739018</td>\n",
       "      <td>0.740353</td>\n",
       "      <td>0.740053</td>\n",
       "      <td>0.747926</td>\n",
       "      <td>0.741176</td>\n",
       "      <td>0.741705</td>\n",
       "      <td>0.003186</td>\n",
       "      <td>1</td>\n",
       "    </tr>\n",
       "    <tr>\n",
       "      <th>1</th>\n",
       "      <td>0.029564</td>\n",
       "      <td>0.000527</td>\n",
       "      <td>0.231903</td>\n",
       "      <td>0.007779</td>\n",
       "      <td>1.04523</td>\n",
       "      <td>{'p': 1.0452261306532664}</td>\n",
       "      <td>0.733506</td>\n",
       "      <td>0.741661</td>\n",
       "      <td>0.748021</td>\n",
       "      <td>0.747126</td>\n",
       "      <td>0.736773</td>\n",
       "      <td>0.741418</td>\n",
       "      <td>0.005664</td>\n",
       "      <td>2</td>\n",
       "    </tr>\n",
       "    <tr>\n",
       "      <th>2</th>\n",
       "      <td>0.029951</td>\n",
       "      <td>0.000476</td>\n",
       "      <td>0.226484</td>\n",
       "      <td>0.007507</td>\n",
       "      <td>1.09045</td>\n",
       "      <td>{'p': 1.0904522613065326}</td>\n",
       "      <td>0.732558</td>\n",
       "      <td>0.739187</td>\n",
       "      <td>0.745539</td>\n",
       "      <td>0.749045</td>\n",
       "      <td>0.735121</td>\n",
       "      <td>0.740290</td>\n",
       "      <td>0.006195</td>\n",
       "      <td>5</td>\n",
       "    </tr>\n",
       "    <tr>\n",
       "      <th>3</th>\n",
       "      <td>0.029548</td>\n",
       "      <td>0.000362</td>\n",
       "      <td>0.214716</td>\n",
       "      <td>0.005156</td>\n",
       "      <td>1.13568</td>\n",
       "      <td>{'p': 1.135678391959799}</td>\n",
       "      <td>0.735484</td>\n",
       "      <td>0.742820</td>\n",
       "      <td>0.744217</td>\n",
       "      <td>0.748247</td>\n",
       "      <td>0.734987</td>\n",
       "      <td>0.741151</td>\n",
       "      <td>0.005151</td>\n",
       "      <td>3</td>\n",
       "    </tr>\n",
       "    <tr>\n",
       "      <th>4</th>\n",
       "      <td>0.028906</td>\n",
       "      <td>0.000532</td>\n",
       "      <td>0.210269</td>\n",
       "      <td>0.005070</td>\n",
       "      <td>1.1809</td>\n",
       "      <td>{'p': 1.1809045226130652}</td>\n",
       "      <td>0.734668</td>\n",
       "      <td>0.741176</td>\n",
       "      <td>0.743234</td>\n",
       "      <td>0.749045</td>\n",
       "      <td>0.734987</td>\n",
       "      <td>0.740622</td>\n",
       "      <td>0.005390</td>\n",
       "      <td>4</td>\n",
       "    </tr>\n",
       "    <tr>\n",
       "      <th>...</th>\n",
       "      <td>...</td>\n",
       "      <td>...</td>\n",
       "      <td>...</td>\n",
       "      <td>...</td>\n",
       "      <td>...</td>\n",
       "      <td>...</td>\n",
       "      <td>...</td>\n",
       "      <td>...</td>\n",
       "      <td>...</td>\n",
       "      <td>...</td>\n",
       "      <td>...</td>\n",
       "      <td>...</td>\n",
       "      <td>...</td>\n",
       "      <td>...</td>\n",
       "    </tr>\n",
       "    <tr>\n",
       "      <th>195</th>\n",
       "      <td>0.029443</td>\n",
       "      <td>0.000583</td>\n",
       "      <td>0.161403</td>\n",
       "      <td>0.003586</td>\n",
       "      <td>9.8191</td>\n",
       "      <td>{'p': 9.819095477386934}</td>\n",
       "      <td>0.733586</td>\n",
       "      <td>0.734932</td>\n",
       "      <td>0.729852</td>\n",
       "      <td>0.743980</td>\n",
       "      <td>0.723377</td>\n",
       "      <td>0.733145</td>\n",
       "      <td>0.006739</td>\n",
       "      <td>88</td>\n",
       "    </tr>\n",
       "    <tr>\n",
       "      <th>196</th>\n",
       "      <td>0.029940</td>\n",
       "      <td>0.000438</td>\n",
       "      <td>0.163653</td>\n",
       "      <td>0.003685</td>\n",
       "      <td>9.86432</td>\n",
       "      <td>{'p': 9.864321608040202}</td>\n",
       "      <td>0.733586</td>\n",
       "      <td>0.734932</td>\n",
       "      <td>0.729852</td>\n",
       "      <td>0.743980</td>\n",
       "      <td>0.723377</td>\n",
       "      <td>0.733145</td>\n",
       "      <td>0.006739</td>\n",
       "      <td>88</td>\n",
       "    </tr>\n",
       "    <tr>\n",
       "      <th>197</th>\n",
       "      <td>0.029564</td>\n",
       "      <td>0.000282</td>\n",
       "      <td>0.164485</td>\n",
       "      <td>0.005773</td>\n",
       "      <td>9.90955</td>\n",
       "      <td>{'p': 9.909547738693467}</td>\n",
       "      <td>0.733586</td>\n",
       "      <td>0.734932</td>\n",
       "      <td>0.729852</td>\n",
       "      <td>0.743980</td>\n",
       "      <td>0.723377</td>\n",
       "      <td>0.733145</td>\n",
       "      <td>0.006739</td>\n",
       "      <td>88</td>\n",
       "    </tr>\n",
       "    <tr>\n",
       "      <th>198</th>\n",
       "      <td>0.028971</td>\n",
       "      <td>0.000481</td>\n",
       "      <td>0.162362</td>\n",
       "      <td>0.004760</td>\n",
       "      <td>9.95477</td>\n",
       "      <td>{'p': 9.954773869346734}</td>\n",
       "      <td>0.733586</td>\n",
       "      <td>0.734932</td>\n",
       "      <td>0.729852</td>\n",
       "      <td>0.743980</td>\n",
       "      <td>0.723377</td>\n",
       "      <td>0.733145</td>\n",
       "      <td>0.006739</td>\n",
       "      <td>88</td>\n",
       "    </tr>\n",
       "    <tr>\n",
       "      <th>199</th>\n",
       "      <td>0.029460</td>\n",
       "      <td>0.000504</td>\n",
       "      <td>0.184694</td>\n",
       "      <td>0.003904</td>\n",
       "      <td>10</td>\n",
       "      <td>{'p': 10.0}</td>\n",
       "      <td>0.733586</td>\n",
       "      <td>0.734932</td>\n",
       "      <td>0.729852</td>\n",
       "      <td>0.743980</td>\n",
       "      <td>0.723377</td>\n",
       "      <td>0.733145</td>\n",
       "      <td>0.006739</td>\n",
       "      <td>88</td>\n",
       "    </tr>\n",
       "  </tbody>\n",
       "</table>\n",
       "<p>200 rows × 14 columns</p>\n",
       "</div>"
      ],
      "text/plain": [
       "     mean_fit_time  std_fit_time  mean_score_time  std_score_time  param_p  \\\n",
       "0         0.029282      0.001237         0.384098        0.684684        1   \n",
       "1         0.029564      0.000527         0.231903        0.007779  1.04523   \n",
       "2         0.029951      0.000476         0.226484        0.007507  1.09045   \n",
       "3         0.029548      0.000362         0.214716        0.005156  1.13568   \n",
       "4         0.028906      0.000532         0.210269        0.005070   1.1809   \n",
       "..             ...           ...              ...             ...      ...   \n",
       "195       0.029443      0.000583         0.161403        0.003586   9.8191   \n",
       "196       0.029940      0.000438         0.163653        0.003685  9.86432   \n",
       "197       0.029564      0.000282         0.164485        0.005773  9.90955   \n",
       "198       0.028971      0.000481         0.162362        0.004760  9.95477   \n",
       "199       0.029460      0.000504         0.184694        0.003904       10   \n",
       "\n",
       "                        params  split0_test_score  split1_test_score  \\\n",
       "0                   {'p': 1.0}           0.739018           0.740353   \n",
       "1    {'p': 1.0452261306532664}           0.733506           0.741661   \n",
       "2    {'p': 1.0904522613065326}           0.732558           0.739187   \n",
       "3     {'p': 1.135678391959799}           0.735484           0.742820   \n",
       "4    {'p': 1.1809045226130652}           0.734668           0.741176   \n",
       "..                         ...                ...                ...   \n",
       "195   {'p': 9.819095477386934}           0.733586           0.734932   \n",
       "196   {'p': 9.864321608040202}           0.733586           0.734932   \n",
       "197   {'p': 9.909547738693467}           0.733586           0.734932   \n",
       "198   {'p': 9.954773869346734}           0.733586           0.734932   \n",
       "199                {'p': 10.0}           0.733586           0.734932   \n",
       "\n",
       "     split2_test_score  split3_test_score  split4_test_score  mean_test_score  \\\n",
       "0             0.740053           0.747926           0.741176         0.741705   \n",
       "1             0.748021           0.747126           0.736773         0.741418   \n",
       "2             0.745539           0.749045           0.735121         0.740290   \n",
       "3             0.744217           0.748247           0.734987         0.741151   \n",
       "4             0.743234           0.749045           0.734987         0.740622   \n",
       "..                 ...                ...                ...              ...   \n",
       "195           0.729852           0.743980           0.723377         0.733145   \n",
       "196           0.729852           0.743980           0.723377         0.733145   \n",
       "197           0.729852           0.743980           0.723377         0.733145   \n",
       "198           0.729852           0.743980           0.723377         0.733145   \n",
       "199           0.729852           0.743980           0.723377         0.733145   \n",
       "\n",
       "     std_test_score  rank_test_score  \n",
       "0          0.003186                1  \n",
       "1          0.005664                2  \n",
       "2          0.006195                5  \n",
       "3          0.005151                3  \n",
       "4          0.005390                4  \n",
       "..              ...              ...  \n",
       "195        0.006739               88  \n",
       "196        0.006739               88  \n",
       "197        0.006739               88  \n",
       "198        0.006739               88  \n",
       "199        0.006739               88  \n",
       "\n",
       "[200 rows x 14 columns]"
      ]
     },
     "execution_count": 33,
     "metadata": {},
     "output_type": "execute_result"
    }
   ],
   "source": [
    "cv_result = pd.DataFrame(cv.cv_results_)\n",
    "cv_result"
   ]
  },
  {
   "cell_type": "code",
   "execution_count": 34,
   "metadata": {
    "execution": {
     "iopub.execute_input": "2020-10-11T19:45:16.386952Z",
     "iopub.status.busy": "2020-10-11T19:45:16.386189Z",
     "iopub.status.idle": "2020-10-11T19:45:16.524970Z",
     "shell.execute_reply": "2020-10-11T19:45:16.524445Z"
    },
    "papermill": {
     "duration": 0.21162,
     "end_time": "2020-10-11T19:45:16.525090",
     "exception": false,
     "start_time": "2020-10-11T19:45:16.313470",
     "status": "completed"
    },
    "tags": []
   },
   "outputs": [
    {
     "data": {
      "text/plain": [
       "[<matplotlib.lines.Line2D at 0x7f0ddabb0950>]"
      ]
     },
     "execution_count": 34,
     "metadata": {},
     "output_type": "execute_result"
    },
    {
     "data": {
      "image/png": "[encoded data removed]",
      "text/plain": [
       "<Figure size 432x288 with 1 Axes>"
      ]
     },
     "metadata": {
      "needs_background": "light"
     },
     "output_type": "display_data"
    }
   ],
   "source": [
    "plt.plot(cv_result[\"param_p\"],cv_result[\"mean_test_score\"])"
   ]
  },
  {
   "cell_type": "markdown",
   "metadata": {
    "papermill": {
     "duration": 0.058867,
     "end_time": "2020-10-11T19:45:16.644332",
     "exception": false,
     "start_time": "2020-10-11T19:45:16.585465",
     "status": "completed"
    },
    "tags": []
   },
   "source": [
    "# Другие метрические методы"
   ]
  },
  {
   "cell_type": "markdown",
   "metadata": {
    "papermill": {
     "duration": 0.060234,
     "end_time": "2020-10-11T19:45:16.765363",
     "exception": false,
     "start_time": "2020-10-11T19:45:16.705129",
     "status": "completed"
    },
    "tags": []
   },
   "source": [
    "*Поэкспериментируйте с другими метрическими методами для задач регрессии и классификации, представленными в библиотеке Scikit-learn:*\n",
    "1. RadiusNeighborsClassifier;\n",
    "2. RadiusNeighborsRegressor;\n",
    "3. NearestCentroid"
   ]
  },
  {
   "cell_type": "code",
   "execution_count": 35,
   "metadata": {
    "execution": {
     "iopub.execute_input": "2020-10-11T19:45:16.897636Z",
     "iopub.status.busy": "2020-10-11T19:45:16.896952Z",
     "iopub.status.idle": "2020-10-11T19:45:16.910065Z",
     "shell.execute_reply": "2020-10-11T19:45:16.909506Z"
    },
    "papermill": {
     "duration": 0.083708,
     "end_time": "2020-10-11T19:45:16.910175",
     "exception": false,
     "start_time": "2020-10-11T19:45:16.826467",
     "status": "completed"
    },
    "tags": []
   },
   "outputs": [
    {
     "data": {
      "text/plain": [
       "array([1, 0, 0, ..., 0, 1, 1])"
      ]
     },
     "execution_count": 35,
     "metadata": {},
     "output_type": "execute_result"
    }
   ],
   "source": [
    "from sklearn.neighbors import NearestCentroid\n",
    "clf = NearestCentroid()\n",
    "clf.fit(X_train, y_train)\n",
    "NearestCentroid()\n",
    "\n",
    "y_pred_nc = clf.predict(X_valid)\n",
    "y_pred_nc"
   ]
  },
  {
   "cell_type": "code",
   "execution_count": 36,
   "metadata": {
    "execution": {
     "iopub.execute_input": "2020-10-11T19:45:17.040793Z",
     "iopub.status.busy": "2020-10-11T19:45:17.039987Z",
     "iopub.status.idle": "2020-10-11T19:45:17.044709Z",
     "shell.execute_reply": "2020-10-11T19:45:17.043925Z"
    },
    "papermill": {
     "duration": 0.073474,
     "end_time": "2020-10-11T19:45:17.044834",
     "exception": false,
     "start_time": "2020-10-11T19:45:16.971360",
     "status": "completed"
    },
    "tags": []
   },
   "outputs": [
    {
     "data": {
      "text/plain": [
       "0.4113221067717664"
      ]
     },
     "execution_count": 36,
     "metadata": {},
     "output_type": "execute_result"
    }
   ],
   "source": [
    "mean_squared_error(y_valid, y_pred_nc)"
   ]
  },
  {
   "cell_type": "code",
   "execution_count": 37,
   "metadata": {
    "execution": {
     "iopub.execute_input": "2020-10-11T19:45:17.175405Z",
     "iopub.status.busy": "2020-10-11T19:45:17.174426Z",
     "iopub.status.idle": "2020-10-11T19:45:17.179198Z",
     "shell.execute_reply": "2020-10-11T19:45:17.178542Z"
    },
    "papermill": {
     "duration": 0.070405,
     "end_time": "2020-10-11T19:45:17.179341",
     "exception": false,
     "start_time": "2020-10-11T19:45:17.108936",
     "status": "completed"
    },
    "tags": []
   },
   "outputs": [
    {
     "name": "stdout",
     "output_type": "stream",
     "text": [
      "0.5886778932282336\n"
     ]
    }
   ],
   "source": [
    "print(accuracy_score(y_valid, y_pred_nc))"
   ]
  },
  {
   "cell_type": "code",
   "execution_count": 38,
   "metadata": {
    "execution": {
     "iopub.execute_input": "2020-10-11T19:45:17.311060Z",
     "iopub.status.busy": "2020-10-11T19:45:17.310359Z",
     "iopub.status.idle": "2020-10-11T19:45:17.320182Z",
     "shell.execute_reply": "2020-10-11T19:45:17.319542Z"
    },
    "papermill": {
     "duration": 0.077451,
     "end_time": "2020-10-11T19:45:17.320301",
     "exception": false,
     "start_time": "2020-10-11T19:45:17.242850",
     "status": "completed"
    },
    "tags": []
   },
   "outputs": [
    {
     "name": "stdout",
     "output_type": "stream",
     "text": [
      "[[1156  298]\n",
      " [ 850  487]]\n"
     ]
    }
   ],
   "source": [
    "print(confusion_matrix(y_valid, y_pred_nc))"
   ]
  },
  {
   "cell_type": "markdown",
   "metadata": {
    "papermill": {
     "duration": 0.061908,
     "end_time": "2020-10-11T19:45:17.445773",
     "exception": false,
     "start_time": "2020-10-11T19:45:17.383865",
     "status": "completed"
    },
    "tags": []
   },
   "source": [
    "Метод NearestCentroid в сравнении с kNN даёт хуже результат, так как среднеквадратическая ошибка по значению близка к score."
   ]
  }
 ],
 "metadata": {
  "kernelspec": {
   "display_name": "Python 3",
   "language": "python",
   "name": "python3"
  },
  "language_info": {
   "codemirror_mode": {
    "name": "ipython",
    "version": 3
   },
   "file_extension": ".py",
   "mimetype": "text/x-python",
   "name": "python",
   "nbconvert_exporter": "python",
   "pygments_lexer": "ipython3",
   "version": "3.7.6"
  },
  "papermill": {
   "duration": 260.596733,
   "end_time": "2020-10-11T19:45:17.620534",
   "environment_variables": {},
   "exception": null,
   "input_path": "__notebook__.ipynb",
   "output_path": "__notebook__.ipynb",
   "parameters": {},
   "start_time": "2020-10-11T19:40:57.023801",
   "version": "2.1.0"
  }
 },
 "nbformat": 4,
 "nbformat_minor": 4
}
