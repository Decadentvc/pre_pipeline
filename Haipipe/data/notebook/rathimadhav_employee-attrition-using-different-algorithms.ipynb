{
 "cells": [
  {
   "cell_type": "code",
   "execution_count": 1,
   "metadata": {
    "_cell_guid": "b1076dfc-b9ad-4769-8c92-a6c4dae69d19",
    "_uuid": "8f2839f25d086af736a60e9eeb907d3b93b6e0e5",
    "execution": {
     "iopub.execute_input": "2020-09-01T14:41:21.783654Z",
     "iopub.status.busy": "2020-09-01T14:41:21.782893Z",
     "iopub.status.idle": "2020-09-01T14:41:22.970649Z",
     "shell.execute_reply": "2020-09-01T14:41:22.971505Z"
    },
    "papermill": {
     "duration": 1.212689,
     "end_time": "2020-09-01T14:41:22.971765",
     "exception": false,
     "start_time": "2020-09-01T14:41:21.759076",
     "status": "completed"
    },
    "tags": []
   },
   "outputs": [
    {
     "name": "stdout",
     "output_type": "stream",
     "text": [
      "/kaggle/input/employee-attrition/WA_Fn-UseC_-HR-Employee-Attrition.csv\n"
     ]
    }
   ],
   "source": [
    "# This Python 3 environment comes with many helpful analytics libraries installed\n",
    "# It is defined by the kaggle/python Docker image: https://github.com/kaggle/docker-python\n",
    "# For example, here's several helpful packages to load\n",
    "\n",
    "import numpy as np # linear algebra\n",
    "import pandas as pd # data processing, CSV file I/O (e.g. pd.read_csv)\n",
    "import sklearn\n",
    "from sklearn.metrics import mean_absolute_error,accuracy_score\n",
    "from sklearn.model_selection import train_test_split\n",
    "from sklearn.metrics import confusion_matrix\n",
    "from sklearn.metrics import classification_report\n",
    "\n",
    "# Input data files are available in the read-only \"../input/\" directory\n",
    "# For example, running this (by clicking run or pressing Shift+Enter) will list all files under the input directory\n",
    "\n",
    "import os\n",
    "for dirname, _, filenames in os.walk('/kaggle/input'):\n",
    "    for filename in filenames:\n",
    "        print(os.path.join(dirname, filename))\n",
    "\n",
    "import matplotlib.pyplot as plt\n",
    "import seaborn as sns\n",
    "# You can write up to 5GB to the current directory (/kaggle/working/) that gets preserved as output when you create a version using \"Save & Run All\" \n",
    "# You can also write temporary files to /kaggle/temp/, but they won't be saved outside of the current session"
   ]
  },
  {
   "cell_type": "code",
   "execution_count": 2,
   "metadata": {
    "_cell_guid": "79c7e3d0-c299-4dcb-8224-4455121ee9b0",
    "_uuid": "d629ff2d2480ee46fbb7e2d37f6b5fab8052498a",
    "execution": {
     "iopub.execute_input": "2020-09-01T14:41:23.016628Z",
     "iopub.status.busy": "2020-09-01T14:41:23.015815Z",
     "iopub.status.idle": "2020-09-01T14:41:23.075915Z",
     "shell.execute_reply": "2020-09-01T14:41:23.075035Z"
    },
    "papermill": {
     "duration": 0.088214,
     "end_time": "2020-09-01T14:41:23.076070",
     "exception": false,
     "start_time": "2020-09-01T14:41:22.987856",
     "status": "completed"
    },
    "tags": []
   },
   "outputs": [
    {
     "data": {
      "text/plain": [
       "Index(['Age', 'Attrition', 'DailyRate', 'DistanceFromHome', 'MonthlyIncome',\n",
       "       'MonthlyRate', 'OverTime', 'PercentSalaryHike', 'PerformanceRating',\n",
       "       'StockOptionLevel', 'TotalWorkingYears', 'TrainingTimesLastYear',\n",
       "       'YearsAtCompany', 'YearsInCurrentRole', 'YearsSinceLastPromotion',\n",
       "       'YearsWithCurrManager', 'BusinessTravel_Non-Travel',\n",
       "       'BusinessTravel_Travel_Frequently', 'BusinessTravel_Travel_Rarely',\n",
       "       'Department_Human Resources', 'Department_Research & Development',\n",
       "       'Department_Sales', 'Education_1', 'Education_2', 'Education_3',\n",
       "       'Education_4', 'Education_5', 'EducationField_Human Resources',\n",
       "       'EducationField_Life Sciences', 'EducationField_Marketing',\n",
       "       'EducationField_Medical', 'EducationField_Other',\n",
       "       'EducationField_Technical Degree', 'EnvironmentSatisfaction_1',\n",
       "       'EnvironmentSatisfaction_2', 'EnvironmentSatisfaction_3',\n",
       "       'EnvironmentSatisfaction_4', 'JobInvolvement_1', 'JobInvolvement_2',\n",
       "       'JobInvolvement_3', 'JobInvolvement_4', 'JobLevel_1', 'JobLevel_2',\n",
       "       'JobLevel_3', 'JobLevel_4', 'JobLevel_5',\n",
       "       'JobRole_Healthcare Representative', 'JobRole_Human Resources',\n",
       "       'JobRole_Laboratory Technician', 'JobRole_Manager',\n",
       "       'JobRole_Manufacturing Director', 'JobRole_Research Director',\n",
       "       'JobRole_Research Scientist', 'JobRole_Sales Executive',\n",
       "       'JobRole_Sales Representative', 'JobSatisfaction_1',\n",
       "       'JobSatisfaction_2', 'JobSatisfaction_3', 'JobSatisfaction_4',\n",
       "       'RelationshipSatisfaction_1', 'RelationshipSatisfaction_2',\n",
       "       'RelationshipSatisfaction_3', 'RelationshipSatisfaction_4',\n",
       "       'WorkLifeBalance_1', 'WorkLifeBalance_2', 'WorkLifeBalance_3',\n",
       "       'WorkLifeBalance_4'],\n",
       "      dtype='object')"
      ]
     },
     "execution_count": 2,
     "metadata": {},
     "output_type": "execute_result"
    }
   ],
   "source": [
    "df= pd.read_csv(\"/kaggle/input/employee-attrition/WA_Fn-UseC_-HR-Employee-Attrition.csv\",usecols = ['Age', 'Attrition', 'BusinessTravel', 'DailyRate', 'Department',\n",
    "       'DistanceFromHome', 'Education', 'EducationField','EnvironmentSatisfaction',\n",
    "       'JobInvolvement', 'JobLevel', 'JobRole', 'JobSatisfaction',\n",
    "       'MonthlyIncome', 'MonthlyRate', 'OverTime', 'PercentSalaryHike',\n",
    "       'PerformanceRating', 'RelationshipSatisfaction', 'StockOptionLevel',\n",
    "       'TotalWorkingYears', 'TrainingTimesLastYear', 'WorkLifeBalance',\n",
    "       'YearsAtCompany', 'YearsInCurrentRole', 'YearsSinceLastPromotion',\n",
    "       'YearsWithCurrManager'])\n",
    "#here, we deleted columns that deos not matter or have the same values for all such as \n",
    "#Employee count, Standard Hours and to remove bias from our model, we've deleted some columns such as gender, marital status,\n",
    "df = pd.get_dummies( df , columns=['BusinessTravel','Department','Education','EducationField','EnvironmentSatisfaction','JobInvolvement',\n",
    "                                  'JobLevel','JobRole','JobSatisfaction','RelationshipSatisfaction',\n",
    "                                  'WorkLifeBalance'] )\n",
    "df.columns"
   ]
  },
  {
   "cell_type": "code",
   "execution_count": 3,
   "metadata": {
    "execution": {
     "iopub.execute_input": "2020-09-01T14:41:23.114513Z",
     "iopub.status.busy": "2020-09-01T14:41:23.113667Z",
     "iopub.status.idle": "2020-09-01T14:41:23.119082Z",
     "shell.execute_reply": "2020-09-01T14:41:23.119630Z"
    },
    "papermill": {
     "duration": 0.028559,
     "end_time": "2020-09-01T14:41:23.119848",
     "exception": false,
     "start_time": "2020-09-01T14:41:23.091289",
     "status": "completed"
    },
    "tags": []
   },
   "outputs": [],
   "source": [
    "df.drop(['BusinessTravel_Non-Travel','Department_Human Resources','Education_5','EducationField_Other','EnvironmentSatisfaction_4',\n",
    "         'JobInvolvement_4','JobLevel_5','JobRole_Sales Representative','JobSatisfaction_4',\n",
    "         'RelationshipSatisfaction_4','WorkLifeBalance_4'], axis=1, inplace=True) "
   ]
  },
  {
   "cell_type": "code",
   "execution_count": 4,
   "metadata": {
    "execution": {
     "iopub.execute_input": "2020-09-01T14:41:23.167442Z",
     "iopub.status.busy": "2020-09-01T14:41:23.166229Z",
     "iopub.status.idle": "2020-09-01T14:41:23.173267Z",
     "shell.execute_reply": "2020-09-01T14:41:23.172425Z"
    },
    "papermill": {
     "duration": 0.037991,
     "end_time": "2020-09-01T14:41:23.173414",
     "exception": false,
     "start_time": "2020-09-01T14:41:23.135423",
     "status": "completed"
    },
    "tags": []
   },
   "outputs": [],
   "source": [
    "cleanup_cols = { 'Attrition' : {'Yes':1, 'No':0},\n",
    "                'OverTime': {'Yes':1 , 'No':0},\n",
    "                'PerformanceRating' : {3:0,4:1}\n",
    "               }\n",
    "#here we are not using dummies to create cols for these, instead we're directling replacing the values\n",
    "# as we have only two values in each of three, we can directly replace them by 0 or 1\n",
    "df.replace(cleanup_cols, inplace=True)"
   ]
  },
  {
   "cell_type": "code",
   "execution_count": 5,
   "metadata": {
    "execution": {
     "iopub.execute_input": "2020-09-01T14:41:23.213324Z",
     "iopub.status.busy": "2020-09-01T14:41:23.212183Z",
     "iopub.status.idle": "2020-09-01T14:41:23.217473Z",
     "shell.execute_reply": "2020-09-01T14:41:23.216680Z"
    },
    "papermill": {
     "duration": 0.028647,
     "end_time": "2020-09-01T14:41:23.217612",
     "exception": false,
     "start_time": "2020-09-01T14:41:23.188965",
     "status": "completed"
    },
    "tags": []
   },
   "outputs": [
    {
     "data": {
      "text/plain": [
       "Index(['Age', 'Attrition', 'DailyRate', 'DistanceFromHome', 'MonthlyIncome',\n",
       "       'MonthlyRate', 'OverTime', 'PercentSalaryHike', 'PerformanceRating',\n",
       "       'StockOptionLevel', 'TotalWorkingYears', 'TrainingTimesLastYear',\n",
       "       'YearsAtCompany', 'YearsInCurrentRole', 'YearsSinceLastPromotion',\n",
       "       'YearsWithCurrManager', 'BusinessTravel_Travel_Frequently',\n",
       "       'BusinessTravel_Travel_Rarely', 'Department_Research & Development',\n",
       "       'Department_Sales', 'Education_1', 'Education_2', 'Education_3',\n",
       "       'Education_4', 'EducationField_Human Resources',\n",
       "       'EducationField_Life Sciences', 'EducationField_Marketing',\n",
       "       'EducationField_Medical', 'EducationField_Technical Degree',\n",
       "       'EnvironmentSatisfaction_1', 'EnvironmentSatisfaction_2',\n",
       "       'EnvironmentSatisfaction_3', 'JobInvolvement_1', 'JobInvolvement_2',\n",
       "       'JobInvolvement_3', 'JobLevel_1', 'JobLevel_2', 'JobLevel_3',\n",
       "       'JobLevel_4', 'JobRole_Healthcare Representative',\n",
       "       'JobRole_Human Resources', 'JobRole_Laboratory Technician',\n",
       "       'JobRole_Manager', 'JobRole_Manufacturing Director',\n",
       "       'JobRole_Research Director', 'JobRole_Research Scientist',\n",
       "       'JobRole_Sales Executive', 'JobSatisfaction_1', 'JobSatisfaction_2',\n",
       "       'JobSatisfaction_3', 'RelationshipSatisfaction_1',\n",
       "       'RelationshipSatisfaction_2', 'RelationshipSatisfaction_3',\n",
       "       'WorkLifeBalance_1', 'WorkLifeBalance_2', 'WorkLifeBalance_3'],\n",
       "      dtype='object')"
      ]
     },
     "execution_count": 5,
     "metadata": {},
     "output_type": "execute_result"
    }
   ],
   "source": [
    "df.columns"
   ]
  },
  {
   "cell_type": "code",
   "execution_count": 6,
   "metadata": {
    "execution": {
     "iopub.execute_input": "2020-09-01T14:41:23.256522Z",
     "iopub.status.busy": "2020-09-01T14:41:23.255699Z",
     "iopub.status.idle": "2020-09-01T14:41:23.259948Z",
     "shell.execute_reply": "2020-09-01T14:41:23.259285Z"
    },
    "papermill": {
     "duration": 0.026479,
     "end_time": "2020-09-01T14:41:23.260100",
     "exception": false,
     "start_time": "2020-09-01T14:41:23.233621",
     "status": "completed"
    },
    "tags": []
   },
   "outputs": [],
   "source": [
    "y = df['Attrition']\n",
    "X= df.loc[:, df.columns != 'Attrition']"
   ]
  },
  {
   "cell_type": "code",
   "execution_count": 7,
   "metadata": {
    "execution": {
     "iopub.execute_input": "2020-09-01T14:41:23.298442Z",
     "iopub.status.busy": "2020-09-01T14:41:23.297709Z",
     "iopub.status.idle": "2020-09-01T14:41:23.857766Z",
     "shell.execute_reply": "2020-09-01T14:41:23.858843Z"
    },
    "papermill": {
     "duration": 0.583105,
     "end_time": "2020-09-01T14:41:23.859019",
     "exception": false,
     "start_time": "2020-09-01T14:41:23.275914",
     "status": "completed"
    },
    "tags": []
   },
   "outputs": [
    {
     "data": {
      "text/plain": [
       "Age                                  0.037960\n",
       "DailyRate                            0.027839\n",
       "DistanceFromHome                     0.031960\n",
       "MonthlyIncome                        0.033391\n",
       "MonthlyRate                          0.027916\n",
       "OverTime                             0.064934\n",
       "PercentSalaryHike                    0.027360\n",
       "PerformanceRating                    0.011736\n",
       "StockOptionLevel                     0.033525\n",
       "TotalWorkingYears                    0.031682\n",
       "TrainingTimesLastYear                0.027117\n",
       "YearsAtCompany                       0.031132\n",
       "YearsInCurrentRole                   0.027768\n",
       "YearsSinceLastPromotion              0.024762\n",
       "YearsWithCurrManager                 0.030659\n",
       "BusinessTravel_Travel_Frequently     0.020936\n",
       "BusinessTravel_Travel_Rarely         0.013271\n",
       "Department_Research & Development    0.013835\n",
       "Department_Sales                     0.012286\n",
       "Education_1                          0.011797\n",
       "Education_2                          0.012545\n",
       "Education_3                          0.016736\n",
       "Education_4                          0.014958\n",
       "EducationField_Human Resources       0.004217\n",
       "EducationField_Life Sciences         0.013883\n",
       "EducationField_Marketing             0.011430\n",
       "EducationField_Medical               0.014829\n",
       "EducationField_Technical Degree      0.013198\n",
       "EnvironmentSatisfaction_1            0.026163\n",
       "EnvironmentSatisfaction_2            0.013915\n",
       "EnvironmentSatisfaction_3            0.016205\n",
       "JobInvolvement_1                     0.016639\n",
       "JobInvolvement_2                     0.013870\n",
       "JobInvolvement_3                     0.017847\n",
       "JobLevel_1                           0.028625\n",
       "JobLevel_2                           0.013290\n",
       "JobLevel_3                           0.006817\n",
       "JobLevel_4                           0.002865\n",
       "JobRole_Healthcare Representative    0.004719\n",
       "JobRole_Human Resources              0.004396\n",
       "JobRole_Laboratory Technician        0.014061\n",
       "JobRole_Manager                      0.002976\n",
       "JobRole_Manufacturing Director       0.004667\n",
       "JobRole_Research Director            0.002465\n",
       "JobRole_Research Scientist           0.010411\n",
       "JobRole_Sales Executive              0.009813\n",
       "JobSatisfaction_1                    0.020085\n",
       "JobSatisfaction_2                    0.013511\n",
       "JobSatisfaction_3                    0.015611\n",
       "RelationshipSatisfaction_1           0.019254\n",
       "RelationshipSatisfaction_2           0.010621\n",
       "RelationshipSatisfaction_3           0.017498\n",
       "WorkLifeBalance_1                    0.015060\n",
       "WorkLifeBalance_2                    0.016167\n",
       "WorkLifeBalance_3                    0.018785\n",
       "dtype: float64"
      ]
     },
     "execution_count": 7,
     "metadata": {},
     "output_type": "execute_result"
    }
   ],
   "source": [
    "from sklearn.ensemble import ExtraTreesClassifier\n",
    "\n",
    "model = ExtraTreesClassifier()\n",
    "model.fit(X,y)\n",
    "#print(model.feature_importances_)\n",
    "\n",
    "#use inbuilt class feature_importances of tree based classifiers\n",
    "feat_importances = pd.Series(model.feature_importances_, index=X.columns)\n",
    "#print(feat_importances<0.05)\n",
    "feat_importances"
   ]
  },
  {
   "cell_type": "code",
   "execution_count": 8,
   "metadata": {
    "execution": {
     "iopub.execute_input": "2020-09-01T14:41:23.902080Z",
     "iopub.status.busy": "2020-09-01T14:41:23.900950Z",
     "iopub.status.idle": "2020-09-01T14:41:23.906591Z",
     "shell.execute_reply": "2020-09-01T14:41:23.905991Z"
    },
    "papermill": {
     "duration": 0.028854,
     "end_time": "2020-09-01T14:41:23.906729",
     "exception": false,
     "start_time": "2020-09-01T14:41:23.877875",
     "status": "completed"
    },
    "tags": []
   },
   "outputs": [],
   "source": [
    "#splitting the processed data for Model training and evaluation\n",
    "X_train, X_test, y_train, y_test = train_test_split(X, y, test_size=0.3, random_state=0)"
   ]
  },
  {
   "cell_type": "code",
   "execution_count": 9,
   "metadata": {
    "execution": {
     "iopub.execute_input": "2020-09-01T14:41:23.947980Z",
     "iopub.status.busy": "2020-09-01T14:41:23.947161Z",
     "iopub.status.idle": "2020-09-01T14:41:23.954046Z",
     "shell.execute_reply": "2020-09-01T14:41:23.953387Z"
    },
    "papermill": {
     "duration": 0.03048,
     "end_time": "2020-09-01T14:41:23.954181",
     "exception": false,
     "start_time": "2020-09-01T14:41:23.923701",
     "status": "completed"
    },
    "tags": []
   },
   "outputs": [
    {
     "data": {
      "text/plain": [
       "0.8387755102040816"
      ]
     },
     "execution_count": 9,
     "metadata": {},
     "output_type": "execute_result"
    }
   ],
   "source": [
    "#BASELINE MODEL WE WANT TO DEFEAT\n",
    "from sklearn.dummy import DummyClassifier\n",
    "dummy_clf = DummyClassifier(strategy=\"most_frequent\") #Always predicts the most frequent class\n",
    "dummy_clf.fit(X, y)\n",
    "dummy_clf.predict(X)\n",
    "dummy_clf.score(X, y) #Accuracy of the model that always predicts 0, i.e NO Attrition)"
   ]
  },
  {
   "cell_type": "code",
   "execution_count": 10,
   "metadata": {
    "execution": {
     "iopub.execute_input": "2020-09-01T14:41:23.999494Z",
     "iopub.status.busy": "2020-09-01T14:41:23.998727Z",
     "iopub.status.idle": "2020-09-01T14:41:32.041756Z",
     "shell.execute_reply": "2020-09-01T14:41:32.040962Z"
    },
    "papermill": {
     "duration": 8.070432,
     "end_time": "2020-09-01T14:41:32.041911",
     "exception": false,
     "start_time": "2020-09-01T14:41:23.971479",
     "status": "completed"
    },
    "tags": []
   },
   "outputs": [
    {
     "data": {
      "text/plain": [
       "0.8707482993197279"
      ]
     },
     "execution_count": 10,
     "metadata": {},
     "output_type": "execute_result"
    }
   ],
   "source": [
    "#RANDOM FOREST MODEL\n",
    "from sklearn.ensemble import RandomForestRegressor\n",
    "rf = RandomForestRegressor(n_estimators=1000,random_state = 0,max_depth = 20)\n",
    "\n",
    "rf.fit(X_train, y_train)\n",
    "\n",
    "y_pred = np.round(rf.predict(X_test)).astype(int)\n",
    "accuracy_score(y_test,y_pred)"
   ]
  },
  {
   "cell_type": "code",
   "execution_count": 11,
   "metadata": {
    "execution": {
     "iopub.execute_input": "2020-09-01T14:41:32.084459Z",
     "iopub.status.busy": "2020-09-01T14:41:32.083641Z",
     "iopub.status.idle": "2020-09-01T14:41:32.099007Z",
     "shell.execute_reply": "2020-09-01T14:41:32.098277Z"
    },
    "papermill": {
     "duration": 0.038909,
     "end_time": "2020-09-01T14:41:32.099132",
     "exception": false,
     "start_time": "2020-09-01T14:41:32.060223",
     "status": "completed"
    },
    "tags": []
   },
   "outputs": [
    {
     "name": "stdout",
     "output_type": "stream",
     "text": [
      "              precision    recall  f1-score   support\n",
      "\n",
      "           0       0.88      0.98      0.93       371\n",
      "           1       0.74      0.29      0.41        70\n",
      "\n",
      "    accuracy                           0.87       441\n",
      "   macro avg       0.81      0.63      0.67       441\n",
      "weighted avg       0.86      0.87      0.85       441\n",
      "\n"
     ]
    },
    {
     "data": {
      "text/plain": [
       "array([[364,   7],\n",
       "       [ 50,  20]])"
      ]
     },
     "execution_count": 11,
     "metadata": {},
     "output_type": "execute_result"
    }
   ],
   "source": [
    "print(classification_report(y_test,y_pred))\n",
    "confusion_matrix(y_test, y_pred) #for Random Forest"
   ]
  },
  {
   "cell_type": "code",
   "execution_count": 12,
   "metadata": {
    "execution": {
     "iopub.execute_input": "2020-09-01T14:41:32.147872Z",
     "iopub.status.busy": "2020-09-01T14:41:32.147015Z",
     "iopub.status.idle": "2020-09-01T14:41:34.115469Z",
     "shell.execute_reply": "2020-09-01T14:41:34.116322Z"
    },
    "papermill": {
     "duration": 1.998069,
     "end_time": "2020-09-01T14:41:34.116586",
     "exception": false,
     "start_time": "2020-09-01T14:41:32.118517",
     "status": "completed"
    },
    "tags": []
   },
   "outputs": [
    {
     "data": {
      "text/plain": [
       "0.8707482993197279"
      ]
     },
     "execution_count": 12,
     "metadata": {},
     "output_type": "execute_result"
    }
   ],
   "source": [
    "#LOGISTIC REGRESSION\n",
    "from sklearn.linear_model import LogisticRegression\n",
    "reg = LogisticRegression(max_iter = 500,n_jobs=8)\n",
    "reg.fit(X_train, y_train)\n",
    "\n",
    "preds = reg.predict(X_test)\n",
    "accuracy_score(y_test,preds)\n",
    "accuracy = accuracy_score(y_test, preds, normalize=True, sample_weight=None)\n",
    "accuracy"
   ]
  },
  {
   "cell_type": "code",
   "execution_count": 13,
   "metadata": {
    "execution": {
     "iopub.execute_input": "2020-09-01T14:41:34.172600Z",
     "iopub.status.busy": "2020-09-01T14:41:34.171682Z",
     "iopub.status.idle": "2020-09-01T14:41:34.188551Z",
     "shell.execute_reply": "2020-09-01T14:41:34.187733Z"
    },
    "papermill": {
     "duration": 0.043613,
     "end_time": "2020-09-01T14:41:34.188694",
     "exception": false,
     "start_time": "2020-09-01T14:41:34.145081",
     "status": "completed"
    },
    "tags": []
   },
   "outputs": [
    {
     "name": "stdout",
     "output_type": "stream",
     "text": [
      "              precision    recall  f1-score   support\n",
      "\n",
      "           0       0.88      0.97      0.93       371\n",
      "           1       0.70      0.33      0.45        70\n",
      "\n",
      "    accuracy                           0.87       441\n",
      "   macro avg       0.79      0.65      0.69       441\n",
      "weighted avg       0.85      0.87      0.85       441\n",
      "\n"
     ]
    },
    {
     "data": {
      "text/plain": [
       "array([[361,  10],\n",
       "       [ 47,  23]])"
      ]
     },
     "execution_count": 13,
     "metadata": {},
     "output_type": "execute_result"
    }
   ],
   "source": [
    "print(classification_report(y_test, preds))\n",
    "confusion_matrix(y_test, preds) # for logistic regression"
   ]
  },
  {
   "cell_type": "code",
   "execution_count": 14,
   "metadata": {
    "execution": {
     "iopub.execute_input": "2020-09-01T14:41:34.238986Z",
     "iopub.status.busy": "2020-09-01T14:41:34.238171Z",
     "iopub.status.idle": "2020-09-01T14:41:34.333930Z",
     "shell.execute_reply": "2020-09-01T14:41:34.333306Z"
    },
    "papermill": {
     "duration": 0.124438,
     "end_time": "2020-09-01T14:41:34.334072",
     "exception": false,
     "start_time": "2020-09-01T14:41:34.209634",
     "status": "completed"
    },
    "tags": []
   },
   "outputs": [
    {
     "data": {
      "text/plain": [
       "0.8798185941043084"
      ]
     },
     "execution_count": 14,
     "metadata": {},
     "output_type": "execute_result"
    }
   ],
   "source": [
    "#Linear Discriminant Analysis\n",
    "from sklearn.discriminant_analysis import LinearDiscriminantAnalysis\n",
    "\n",
    "clf = LinearDiscriminantAnalysis()\n",
    "clf.fit(X_train,y_train)\n",
    "\n",
    "prediction = clf.predict(X_test)\n",
    "\n",
    "accuracy_score(y_test, prediction, normalize=True, sample_weight=None)"
   ]
  },
  {
   "cell_type": "code",
   "execution_count": 15,
   "metadata": {
    "execution": {
     "iopub.execute_input": "2020-09-01T14:41:34.382162Z",
     "iopub.status.busy": "2020-09-01T14:41:34.381417Z",
     "iopub.status.idle": "2020-09-01T14:41:34.395911Z",
     "shell.execute_reply": "2020-09-01T14:41:34.395184Z"
    },
    "papermill": {
     "duration": 0.040908,
     "end_time": "2020-09-01T14:41:34.396055",
     "exception": false,
     "start_time": "2020-09-01T14:41:34.355147",
     "status": "completed"
    },
    "tags": []
   },
   "outputs": [
    {
     "name": "stdout",
     "output_type": "stream",
     "text": [
      "              precision    recall  f1-score   support\n",
      "\n",
      "           0       0.90      0.96      0.93       371\n",
      "           1       0.69      0.44      0.54        70\n",
      "\n",
      "    accuracy                           0.88       441\n",
      "   macro avg       0.80      0.70      0.74       441\n",
      "weighted avg       0.87      0.88      0.87       441\n",
      "\n"
     ]
    },
    {
     "data": {
      "text/plain": [
       "array([[357,  14],\n",
       "       [ 39,  31]])"
      ]
     },
     "execution_count": 15,
     "metadata": {},
     "output_type": "execute_result"
    }
   ],
   "source": [
    "print(classification_report(y_test, prediction))\n",
    "confusion_matrix(y_test, prediction) # for Linear Discriminant Analysis"
   ]
  },
  {
   "cell_type": "code",
   "execution_count": null,
   "metadata": {
    "papermill": {
     "duration": 0.021806,
     "end_time": "2020-09-01T14:41:34.443884",
     "exception": false,
     "start_time": "2020-09-01T14:41:34.422078",
     "status": "completed"
    },
    "tags": []
   },
   "outputs": [],
   "source": []
  }
 ],
 "metadata": {
  "kernelspec": {
   "display_name": "Python 3",
   "language": "python",
   "name": "python3"
  },
  "language_info": {
   "codemirror_mode": {
    "name": "ipython",
    "version": 3
   },
   "file_extension": ".py",
   "mimetype": "text/x-python",
   "name": "python",
   "nbconvert_exporter": "python",
   "pygments_lexer": "ipython3",
   "version": "3.7.6"
  },
  "papermill": {
   "duration": 17.415841,
   "end_time": "2020-09-01T14:41:34.579233",
   "environment_variables": {},
   "exception": null,
   "input_path": "__notebook__.ipynb",
   "output_path": "__notebook__.ipynb",
   "parameters": {},
   "start_time": "2020-09-01T14:41:17.163392",
   "version": "2.1.0"
  }
 },
 "nbformat": 4,
 "nbformat_minor": 4
}
