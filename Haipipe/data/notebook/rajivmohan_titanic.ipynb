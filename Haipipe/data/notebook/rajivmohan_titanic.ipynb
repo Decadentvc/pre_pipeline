{
 "cells": [
  {
   "cell_type": "code",
   "execution_count": 1,
   "metadata": {
    "_cell_guid": "b1076dfc-b9ad-4769-8c92-a6c4dae69d19",
    "_uuid": "8f2839f25d086af736a60e9eeb907d3b93b6e0e5",
    "execution": {
     "iopub.execute_input": "2020-10-05T19:34:33.086879Z",
     "iopub.status.busy": "2020-10-05T19:34:33.086112Z",
     "iopub.status.idle": "2020-10-05T19:34:33.095257Z",
     "shell.execute_reply": "2020-10-05T19:34:33.094296Z"
    },
    "papermill": {
     "duration": 0.036581,
     "end_time": "2020-10-05T19:34:33.095416",
     "exception": false,
     "start_time": "2020-10-05T19:34:33.058835",
     "status": "completed"
    },
    "tags": []
   },
   "outputs": [
    {
     "name": "stdout",
     "output_type": "stream",
     "text": [
      "/kaggle/input/titanicdataset-traincsv/train.csv\n"
     ]
    }
   ],
   "source": [
    "# This Python 3 environment comes with many helpful analytics libraries installed\n",
    "# It is defined by the kaggle/python Docker image: https://github.com/kaggle/docker-python\n",
    "# For example, here's several helpful packages to load\n",
    "\n",
    "import numpy as np # linear algebra\n",
    "import pandas as pd # data processing, CSV file I/O (e.g. pd.read_csv)\n",
    "\n",
    "# Input data files are available in the read-only \"../input/\" directory\n",
    "# For example, running this (by clicking run or pressing Shift+Enter) will list all files under the input directory\n",
    "\n",
    "import os\n",
    "for dirname, _, filenames in os.walk('/kaggle/input'):\n",
    "    for filename in filenames:\n",
    "        print(os.path.join(dirname, filename))\n",
    "\n",
    "# You can write up to 5GB to the current directory (/kaggle/working/) that gets preserved as output when you create a version using \"Save & Run All\" \n",
    "# You can also write temporary files to /kaggle/temp/, but they won't be saved outside of the current session"
   ]
  },
  {
   "cell_type": "code",
   "execution_count": 2,
   "metadata": {
    "_cell_guid": "79c7e3d0-c299-4dcb-8224-4455121ee9b0",
    "_uuid": "d629ff2d2480ee46fbb7e2d37f6b5fab8052498a",
    "execution": {
     "iopub.execute_input": "2020-10-05T19:34:33.144691Z",
     "iopub.status.busy": "2020-10-05T19:34:33.143953Z",
     "iopub.status.idle": "2020-10-05T19:34:33.183675Z",
     "shell.execute_reply": "2020-10-05T19:34:33.183066Z"
    },
    "papermill": {
     "duration": 0.067315,
     "end_time": "2020-10-05T19:34:33.183806",
     "exception": false,
     "start_time": "2020-10-05T19:34:33.116491",
     "status": "completed"
    },
    "tags": []
   },
   "outputs": [
    {
     "data": {
      "text/html": [
       "<div>\n",
       "<style scoped>\n",
       "    .dataframe tbody tr th:only-of-type {\n",
       "        vertical-align: middle;\n",
       "    }\n",
       "\n",
       "    .dataframe tbody tr th {\n",
       "        vertical-align: top;\n",
       "    }\n",
       "\n",
       "    .dataframe thead th {\n",
       "        text-align: right;\n",
       "    }\n",
       "</style>\n",
       "<table border=\"1\" class=\"dataframe\">\n",
       "  <thead>\n",
       "    <tr style=\"text-align: right;\">\n",
       "      <th></th>\n",
       "      <th>PassengerId</th>\n",
       "      <th>Survived</th>\n",
       "      <th>Pclass</th>\n",
       "      <th>Name</th>\n",
       "      <th>Sex</th>\n",
       "      <th>Age</th>\n",
       "      <th>SibSp</th>\n",
       "      <th>Parch</th>\n",
       "      <th>Ticket</th>\n",
       "      <th>Fare</th>\n",
       "      <th>Cabin</th>\n",
       "      <th>Embarked</th>\n",
       "    </tr>\n",
       "  </thead>\n",
       "  <tbody>\n",
       "    <tr>\n",
       "      <th>0</th>\n",
       "      <td>1</td>\n",
       "      <td>0</td>\n",
       "      <td>3</td>\n",
       "      <td>Braund, Mr. Owen Harris</td>\n",
       "      <td>male</td>\n",
       "      <td>22.0</td>\n",
       "      <td>1</td>\n",
       "      <td>0</td>\n",
       "      <td>A/5 21171</td>\n",
       "      <td>7.2500</td>\n",
       "      <td>NaN</td>\n",
       "      <td>S</td>\n",
       "    </tr>\n",
       "    <tr>\n",
       "      <th>1</th>\n",
       "      <td>2</td>\n",
       "      <td>1</td>\n",
       "      <td>1</td>\n",
       "      <td>Cumings, Mrs. John Bradley (Florence Briggs Th...</td>\n",
       "      <td>female</td>\n",
       "      <td>38.0</td>\n",
       "      <td>1</td>\n",
       "      <td>0</td>\n",
       "      <td>PC 17599</td>\n",
       "      <td>71.2833</td>\n",
       "      <td>C85</td>\n",
       "      <td>C</td>\n",
       "    </tr>\n",
       "    <tr>\n",
       "      <th>2</th>\n",
       "      <td>3</td>\n",
       "      <td>1</td>\n",
       "      <td>3</td>\n",
       "      <td>Heikkinen, Miss. Laina</td>\n",
       "      <td>female</td>\n",
       "      <td>26.0</td>\n",
       "      <td>0</td>\n",
       "      <td>0</td>\n",
       "      <td>STON/O2. 3101282</td>\n",
       "      <td>7.9250</td>\n",
       "      <td>NaN</td>\n",
       "      <td>S</td>\n",
       "    </tr>\n",
       "    <tr>\n",
       "      <th>3</th>\n",
       "      <td>4</td>\n",
       "      <td>1</td>\n",
       "      <td>1</td>\n",
       "      <td>Futrelle, Mrs. Jacques Heath (Lily May Peel)</td>\n",
       "      <td>female</td>\n",
       "      <td>35.0</td>\n",
       "      <td>1</td>\n",
       "      <td>0</td>\n",
       "      <td>113803</td>\n",
       "      <td>53.1000</td>\n",
       "      <td>C123</td>\n",
       "      <td>S</td>\n",
       "    </tr>\n",
       "    <tr>\n",
       "      <th>4</th>\n",
       "      <td>5</td>\n",
       "      <td>0</td>\n",
       "      <td>3</td>\n",
       "      <td>Allen, Mr. William Henry</td>\n",
       "      <td>male</td>\n",
       "      <td>35.0</td>\n",
       "      <td>0</td>\n",
       "      <td>0</td>\n",
       "      <td>373450</td>\n",
       "      <td>8.0500</td>\n",
       "      <td>NaN</td>\n",
       "      <td>S</td>\n",
       "    </tr>\n",
       "  </tbody>\n",
       "</table>\n",
       "</div>"
      ],
      "text/plain": [
       "   PassengerId  Survived  Pclass  \\\n",
       "0            1         0       3   \n",
       "1            2         1       1   \n",
       "2            3         1       3   \n",
       "3            4         1       1   \n",
       "4            5         0       3   \n",
       "\n",
       "                                                Name     Sex   Age  SibSp  \\\n",
       "0                            Braund, Mr. Owen Harris    male  22.0      1   \n",
       "1  Cumings, Mrs. John Bradley (Florence Briggs Th...  female  38.0      1   \n",
       "2                             Heikkinen, Miss. Laina  female  26.0      0   \n",
       "3       Futrelle, Mrs. Jacques Heath (Lily May Peel)  female  35.0      1   \n",
       "4                           Allen, Mr. William Henry    male  35.0      0   \n",
       "\n",
       "   Parch            Ticket     Fare Cabin Embarked  \n",
       "0      0         A/5 21171   7.2500   NaN        S  \n",
       "1      0          PC 17599  71.2833   C85        C  \n",
       "2      0  STON/O2. 3101282   7.9250   NaN        S  \n",
       "3      0            113803  53.1000  C123        S  \n",
       "4      0            373450   8.0500   NaN        S  "
      ]
     },
     "execution_count": 2,
     "metadata": {},
     "output_type": "execute_result"
    }
   ],
   "source": [
    "dataset = pd.read_csv('/kaggle/input/titanicdataset-traincsv/train.csv')\n",
    "dataset.head()"
   ]
  },
  {
   "cell_type": "code",
   "execution_count": 3,
   "metadata": {
    "execution": {
     "iopub.execute_input": "2020-10-05T19:34:33.245346Z",
     "iopub.status.busy": "2020-10-05T19:34:33.244571Z",
     "iopub.status.idle": "2020-10-05T19:34:33.248822Z",
     "shell.execute_reply": "2020-10-05T19:34:33.248203Z"
    },
    "papermill": {
     "duration": 0.044582,
     "end_time": "2020-10-05T19:34:33.248942",
     "exception": false,
     "start_time": "2020-10-05T19:34:33.204360",
     "status": "completed"
    },
    "tags": []
   },
   "outputs": [
    {
     "name": "stdout",
     "output_type": "stream",
     "text": [
      "<class 'pandas.core.frame.DataFrame'>\n",
      "RangeIndex: 891 entries, 0 to 890\n",
      "Data columns (total 12 columns):\n",
      " #   Column       Non-Null Count  Dtype  \n",
      "---  ------       --------------  -----  \n",
      " 0   PassengerId  891 non-null    int64  \n",
      " 1   Survived     891 non-null    int64  \n",
      " 2   Pclass       891 non-null    int64  \n",
      " 3   Name         891 non-null    object \n",
      " 4   Sex          891 non-null    object \n",
      " 5   Age          714 non-null    float64\n",
      " 6   SibSp        891 non-null    int64  \n",
      " 7   Parch        891 non-null    int64  \n",
      " 8   Ticket       891 non-null    object \n",
      " 9   Fare         891 non-null    float64\n",
      " 10  Cabin        204 non-null    object \n",
      " 11  Embarked     889 non-null    object \n",
      "dtypes: float64(2), int64(5), object(5)\n",
      "memory usage: 83.7+ KB\n"
     ]
    }
   ],
   "source": [
    "dataset.info()"
   ]
  },
  {
   "cell_type": "code",
   "execution_count": 4,
   "metadata": {
    "execution": {
     "iopub.execute_input": "2020-10-05T19:34:33.300981Z",
     "iopub.status.busy": "2020-10-05T19:34:33.300212Z",
     "iopub.status.idle": "2020-10-05T19:34:33.304798Z",
     "shell.execute_reply": "2020-10-05T19:34:33.304216Z"
    },
    "papermill": {
     "duration": 0.033394,
     "end_time": "2020-10-05T19:34:33.304919",
     "exception": false,
     "start_time": "2020-10-05T19:34:33.271525",
     "status": "completed"
    },
    "tags": []
   },
   "outputs": [
    {
     "data": {
      "text/plain": [
       "PassengerId      0\n",
       "Survived         0\n",
       "Pclass           0\n",
       "Name             0\n",
       "Sex              0\n",
       "Age            177\n",
       "SibSp            0\n",
       "Parch            0\n",
       "Ticket           0\n",
       "Fare             0\n",
       "Cabin          687\n",
       "Embarked         2\n",
       "dtype: int64"
      ]
     },
     "execution_count": 4,
     "metadata": {},
     "output_type": "execute_result"
    }
   ],
   "source": [
    "dataset.isnull().sum()"
   ]
  },
  {
   "cell_type": "code",
   "execution_count": 5,
   "metadata": {
    "execution": {
     "iopub.execute_input": "2020-10-05T19:34:33.359878Z",
     "iopub.status.busy": "2020-10-05T19:34:33.359132Z",
     "iopub.status.idle": "2020-10-05T19:34:33.381240Z",
     "shell.execute_reply": "2020-10-05T19:34:33.380603Z"
    },
    "papermill": {
     "duration": 0.054092,
     "end_time": "2020-10-05T19:34:33.381370",
     "exception": false,
     "start_time": "2020-10-05T19:34:33.327278",
     "status": "completed"
    },
    "tags": []
   },
   "outputs": [],
   "source": [
    "def impute_sex(col):\n",
    "    Age = col[0]\n",
    "    Sex = col[1]\n",
    "    \n",
    "    if Age <= 12: return 'Child'\n",
    "    else: return Sex\n",
    "    \n",
    "\n",
    "dataset['Sex'] = dataset[['Age','Sex']].apply(impute_sex, axis=1)"
   ]
  },
  {
   "cell_type": "code",
   "execution_count": 6,
   "metadata": {
    "execution": {
     "iopub.execute_input": "2020-10-05T19:34:33.433949Z",
     "iopub.status.busy": "2020-10-05T19:34:33.433187Z",
     "iopub.status.idle": "2020-10-05T19:34:33.437408Z",
     "shell.execute_reply": "2020-10-05T19:34:33.436719Z"
    },
    "papermill": {
     "duration": 0.033956,
     "end_time": "2020-10-05T19:34:33.437536",
     "exception": false,
     "start_time": "2020-10-05T19:34:33.403580",
     "status": "completed"
    },
    "tags": []
   },
   "outputs": [
    {
     "data": {
      "text/plain": [
       "male      540\n",
       "female    282\n",
       "Child      69\n",
       "Name: Sex, dtype: int64"
      ]
     },
     "execution_count": 6,
     "metadata": {},
     "output_type": "execute_result"
    }
   ],
   "source": [
    "dataset['Sex'].value_counts()"
   ]
  },
  {
   "cell_type": "code",
   "execution_count": 7,
   "metadata": {
    "execution": {
     "iopub.execute_input": "2020-10-05T19:34:33.488524Z",
     "iopub.status.busy": "2020-10-05T19:34:33.487810Z",
     "iopub.status.idle": "2020-10-05T19:34:34.709808Z",
     "shell.execute_reply": "2020-10-05T19:34:34.708994Z"
    },
    "papermill": {
     "duration": 1.249904,
     "end_time": "2020-10-05T19:34:34.709980",
     "exception": false,
     "start_time": "2020-10-05T19:34:33.460076",
     "status": "completed"
    },
    "tags": []
   },
   "outputs": [
    {
     "data": {
      "image/png": "[encoded data removed]",
      "text/plain": [
       "<Figure size 432x288 with 1 Axes>"
      ]
     },
     "metadata": {
      "needs_background": "light"
     },
     "output_type": "display_data"
    }
   ],
   "source": [
    "import seaborn as sns\n",
    "import matplotlib.pyplot as plt\n",
    "\n",
    "sns.countplot(x= 'Survived', hue='Sex', data=dataset)\n",
    "plt.show()"
   ]
  },
  {
   "cell_type": "code",
   "execution_count": 8,
   "metadata": {
    "execution": {
     "iopub.execute_input": "2020-10-05T19:34:34.766243Z",
     "iopub.status.busy": "2020-10-05T19:34:34.765496Z",
     "iopub.status.idle": "2020-10-05T19:34:34.940713Z",
     "shell.execute_reply": "2020-10-05T19:34:34.939996Z"
    },
    "papermill": {
     "duration": 0.206848,
     "end_time": "2020-10-05T19:34:34.940831",
     "exception": false,
     "start_time": "2020-10-05T19:34:34.733983",
     "status": "completed"
    },
    "tags": []
   },
   "outputs": [
    {
     "data": {
      "image/png": "[encoded data removed]",
      "text/plain": [
       "<Figure size 432x288 with 1 Axes>"
      ]
     },
     "metadata": {
      "needs_background": "light"
     },
     "output_type": "display_data"
    }
   ],
   "source": [
    "sns.countplot(x= 'Pclass', hue='Survived', data=dataset)\n",
    "plt.show()"
   ]
  },
  {
   "cell_type": "code",
   "execution_count": 9,
   "metadata": {
    "execution": {
     "iopub.execute_input": "2020-10-05T19:34:34.995171Z",
     "iopub.status.busy": "2020-10-05T19:34:34.994362Z",
     "iopub.status.idle": "2020-10-05T19:34:35.215091Z",
     "shell.execute_reply": "2020-10-05T19:34:35.214364Z"
    },
    "papermill": {
     "duration": 0.249999,
     "end_time": "2020-10-05T19:34:35.215211",
     "exception": false,
     "start_time": "2020-10-05T19:34:34.965212",
     "status": "completed"
    },
    "tags": []
   },
   "outputs": [
    {
     "data": {
      "text/plain": [
       "<matplotlib.axes._subplots.AxesSubplot at 0x7f59581aa350>"
      ]
     },
     "execution_count": 9,
     "metadata": {},
     "output_type": "execute_result"
    },
    {
     "data": {
      "image/png": "[encoded data removed]",
      "text/plain": [
       "<Figure size 432x288 with 1 Axes>"
      ]
     },
     "metadata": {
      "needs_background": "light"
     },
     "output_type": "display_data"
    }
   ],
   "source": [
    "dataset['Age'].plot.hist(bins=20)"
   ]
  },
  {
   "cell_type": "code",
   "execution_count": 10,
   "metadata": {
    "execution": {
     "iopub.execute_input": "2020-10-05T19:34:35.279449Z",
     "iopub.status.busy": "2020-10-05T19:34:35.272879Z",
     "iopub.status.idle": "2020-10-05T19:34:35.458584Z",
     "shell.execute_reply": "2020-10-05T19:34:35.457915Z"
    },
    "papermill": {
     "duration": 0.217023,
     "end_time": "2020-10-05T19:34:35.458720",
     "exception": false,
     "start_time": "2020-10-05T19:34:35.241697",
     "status": "completed"
    },
    "tags": []
   },
   "outputs": [
    {
     "data": {
      "text/plain": [
       "<matplotlib.axes._subplots.AxesSubplot at 0x7f59580e07d0>"
      ]
     },
     "execution_count": 10,
     "metadata": {},
     "output_type": "execute_result"
    },
    {
     "data": {
      "image/png": "[encoded data removed]",
      "text/plain": [
       "<Figure size 432x288 with 1 Axes>"
      ]
     },
     "metadata": {
      "needs_background": "light"
     },
     "output_type": "display_data"
    }
   ],
   "source": [
    "dataset.boxplot(by='Pclass', column=['Age'])"
   ]
  },
  {
   "cell_type": "code",
   "execution_count": 11,
   "metadata": {
    "execution": {
     "iopub.execute_input": "2020-10-05T19:34:35.540350Z",
     "iopub.status.busy": "2020-10-05T19:34:35.539307Z",
     "iopub.status.idle": "2020-10-05T19:34:35.542713Z",
     "shell.execute_reply": "2020-10-05T19:34:35.542107Z"
    },
    "papermill": {
     "duration": 0.0567,
     "end_time": "2020-10-05T19:34:35.542832",
     "exception": false,
     "start_time": "2020-10-05T19:34:35.486132",
     "status": "completed"
    },
    "tags": []
   },
   "outputs": [],
   "source": [
    "def impute_age(col):\n",
    "    Age = col[0]\n",
    "    Pclass = col[1]\n",
    "    \n",
    "    if pd.isnull(Age):\n",
    "        if Pclass ==1 : return 38\n",
    "        elif Pclass ==2: return 29\n",
    "        else: return 24\n",
    "    else: return Age\n",
    "    \n",
    "\n",
    "dataset['Age'] = dataset[['Age','Pclass']].apply(impute_age, axis=1)"
   ]
  },
  {
   "cell_type": "code",
   "execution_count": 12,
   "metadata": {
    "execution": {
     "iopub.execute_input": "2020-10-05T19:34:35.606240Z",
     "iopub.status.busy": "2020-10-05T19:34:35.605259Z",
     "iopub.status.idle": "2020-10-05T19:34:35.610063Z",
     "shell.execute_reply": "2020-10-05T19:34:35.609351Z"
    },
    "papermill": {
     "duration": 0.039893,
     "end_time": "2020-10-05T19:34:35.610178",
     "exception": false,
     "start_time": "2020-10-05T19:34:35.570285",
     "status": "completed"
    },
    "tags": []
   },
   "outputs": [
    {
     "data": {
      "text/plain": [
       "S    644\n",
       "C    168\n",
       "Q     77\n",
       "Name: Embarked, dtype: int64"
      ]
     },
     "execution_count": 12,
     "metadata": {},
     "output_type": "execute_result"
    }
   ],
   "source": [
    "dataset['Embarked'].value_counts()"
   ]
  },
  {
   "cell_type": "code",
   "execution_count": 13,
   "metadata": {
    "execution": {
     "iopub.execute_input": "2020-10-05T19:34:35.672535Z",
     "iopub.status.busy": "2020-10-05T19:34:35.671748Z",
     "iopub.status.idle": "2020-10-05T19:34:35.675195Z",
     "shell.execute_reply": "2020-10-05T19:34:35.674560Z"
    },
    "papermill": {
     "duration": 0.0373,
     "end_time": "2020-10-05T19:34:35.675323",
     "exception": false,
     "start_time": "2020-10-05T19:34:35.638023",
     "status": "completed"
    },
    "tags": []
   },
   "outputs": [],
   "source": [
    "dataset['Embarked'] = dataset['Embarked'].fillna('S')"
   ]
  },
  {
   "cell_type": "code",
   "execution_count": 14,
   "metadata": {
    "execution": {
     "iopub.execute_input": "2020-10-05T19:34:35.741351Z",
     "iopub.status.busy": "2020-10-05T19:34:35.740243Z",
     "iopub.status.idle": "2020-10-05T19:34:35.762710Z",
     "shell.execute_reply": "2020-10-05T19:34:35.762091Z"
    },
    "papermill": {
     "duration": 0.059491,
     "end_time": "2020-10-05T19:34:35.762830",
     "exception": false,
     "start_time": "2020-10-05T19:34:35.703339",
     "status": "completed"
    },
    "tags": []
   },
   "outputs": [
    {
     "data": {
      "text/html": [
       "<div>\n",
       "<style scoped>\n",
       "    .dataframe tbody tr th:only-of-type {\n",
       "        vertical-align: middle;\n",
       "    }\n",
       "\n",
       "    .dataframe tbody tr th {\n",
       "        vertical-align: top;\n",
       "    }\n",
       "\n",
       "    .dataframe thead th {\n",
       "        text-align: right;\n",
       "    }\n",
       "</style>\n",
       "<table border=\"1\" class=\"dataframe\">\n",
       "  <thead>\n",
       "    <tr style=\"text-align: right;\">\n",
       "      <th></th>\n",
       "      <th>PassengerId</th>\n",
       "      <th>Survived</th>\n",
       "      <th>Pclass</th>\n",
       "      <th>Name</th>\n",
       "      <th>Age</th>\n",
       "      <th>SibSp</th>\n",
       "      <th>Parch</th>\n",
       "      <th>Ticket</th>\n",
       "      <th>Fare</th>\n",
       "      <th>Cabin</th>\n",
       "      <th>Sex_female</th>\n",
       "      <th>Sex_male</th>\n",
       "      <th>Embarked_Q</th>\n",
       "      <th>Embarked_S</th>\n",
       "    </tr>\n",
       "  </thead>\n",
       "  <tbody>\n",
       "    <tr>\n",
       "      <th>0</th>\n",
       "      <td>1</td>\n",
       "      <td>0</td>\n",
       "      <td>3</td>\n",
       "      <td>Braund, Mr. Owen Harris</td>\n",
       "      <td>22.0</td>\n",
       "      <td>1</td>\n",
       "      <td>0</td>\n",
       "      <td>A/5 21171</td>\n",
       "      <td>7.2500</td>\n",
       "      <td>NaN</td>\n",
       "      <td>0</td>\n",
       "      <td>1</td>\n",
       "      <td>0</td>\n",
       "      <td>1</td>\n",
       "    </tr>\n",
       "    <tr>\n",
       "      <th>1</th>\n",
       "      <td>2</td>\n",
       "      <td>1</td>\n",
       "      <td>1</td>\n",
       "      <td>Cumings, Mrs. John Bradley (Florence Briggs Th...</td>\n",
       "      <td>38.0</td>\n",
       "      <td>1</td>\n",
       "      <td>0</td>\n",
       "      <td>PC 17599</td>\n",
       "      <td>71.2833</td>\n",
       "      <td>C85</td>\n",
       "      <td>1</td>\n",
       "      <td>0</td>\n",
       "      <td>0</td>\n",
       "      <td>0</td>\n",
       "    </tr>\n",
       "    <tr>\n",
       "      <th>2</th>\n",
       "      <td>3</td>\n",
       "      <td>1</td>\n",
       "      <td>3</td>\n",
       "      <td>Heikkinen, Miss. Laina</td>\n",
       "      <td>26.0</td>\n",
       "      <td>0</td>\n",
       "      <td>0</td>\n",
       "      <td>STON/O2. 3101282</td>\n",
       "      <td>7.9250</td>\n",
       "      <td>NaN</td>\n",
       "      <td>1</td>\n",
       "      <td>0</td>\n",
       "      <td>0</td>\n",
       "      <td>1</td>\n",
       "    </tr>\n",
       "    <tr>\n",
       "      <th>3</th>\n",
       "      <td>4</td>\n",
       "      <td>1</td>\n",
       "      <td>1</td>\n",
       "      <td>Futrelle, Mrs. Jacques Heath (Lily May Peel)</td>\n",
       "      <td>35.0</td>\n",
       "      <td>1</td>\n",
       "      <td>0</td>\n",
       "      <td>113803</td>\n",
       "      <td>53.1000</td>\n",
       "      <td>C123</td>\n",
       "      <td>1</td>\n",
       "      <td>0</td>\n",
       "      <td>0</td>\n",
       "      <td>1</td>\n",
       "    </tr>\n",
       "    <tr>\n",
       "      <th>4</th>\n",
       "      <td>5</td>\n",
       "      <td>0</td>\n",
       "      <td>3</td>\n",
       "      <td>Allen, Mr. William Henry</td>\n",
       "      <td>35.0</td>\n",
       "      <td>0</td>\n",
       "      <td>0</td>\n",
       "      <td>373450</td>\n",
       "      <td>8.0500</td>\n",
       "      <td>NaN</td>\n",
       "      <td>0</td>\n",
       "      <td>1</td>\n",
       "      <td>0</td>\n",
       "      <td>1</td>\n",
       "    </tr>\n",
       "  </tbody>\n",
       "</table>\n",
       "</div>"
      ],
      "text/plain": [
       "   PassengerId  Survived  Pclass  \\\n",
       "0            1         0       3   \n",
       "1            2         1       1   \n",
       "2            3         1       3   \n",
       "3            4         1       1   \n",
       "4            5         0       3   \n",
       "\n",
       "                                                Name   Age  SibSp  Parch  \\\n",
       "0                            Braund, Mr. Owen Harris  22.0      1      0   \n",
       "1  Cumings, Mrs. John Bradley (Florence Briggs Th...  38.0      1      0   \n",
       "2                             Heikkinen, Miss. Laina  26.0      0      0   \n",
       "3       Futrelle, Mrs. Jacques Heath (Lily May Peel)  35.0      1      0   \n",
       "4                           Allen, Mr. William Henry  35.0      0      0   \n",
       "\n",
       "             Ticket     Fare Cabin  Sex_female  Sex_male  Embarked_Q  \\\n",
       "0         A/5 21171   7.2500   NaN           0         1           0   \n",
       "1          PC 17599  71.2833   C85           1         0           0   \n",
       "2  STON/O2. 3101282   7.9250   NaN           1         0           0   \n",
       "3            113803  53.1000  C123           1         0           0   \n",
       "4            373450   8.0500   NaN           0         1           0   \n",
       "\n",
       "   Embarked_S  \n",
       "0           1  \n",
       "1           0  \n",
       "2           1  \n",
       "3           1  \n",
       "4           1  "
      ]
     },
     "execution_count": 14,
     "metadata": {},
     "output_type": "execute_result"
    }
   ],
   "source": [
    "one_hot = pd.get_dummies(dataset , columns=['Sex', 'Embarked'], drop_first=True)\n",
    "one_hot.head()"
   ]
  },
  {
   "cell_type": "code",
   "execution_count": 15,
   "metadata": {
    "execution": {
     "iopub.execute_input": "2020-10-05T19:34:35.828299Z",
     "iopub.status.busy": "2020-10-05T19:34:35.827514Z",
     "iopub.status.idle": "2020-10-05T19:34:35.832437Z",
     "shell.execute_reply": "2020-10-05T19:34:35.833030Z"
    },
    "papermill": {
     "duration": 0.041088,
     "end_time": "2020-10-05T19:34:35.833195",
     "exception": false,
     "start_time": "2020-10-05T19:34:35.792107",
     "status": "completed"
    },
    "tags": []
   },
   "outputs": [],
   "source": [
    "x = one_hot.drop(['PassengerId','Survived', 'Name','Ticket','Cabin'], axis=1)\n",
    "y = one_hot['Survived']"
   ]
  },
  {
   "cell_type": "code",
   "execution_count": 16,
   "metadata": {
    "execution": {
     "iopub.execute_input": "2020-10-05T19:34:35.898443Z",
     "iopub.status.busy": "2020-10-05T19:34:35.897604Z",
     "iopub.status.idle": "2020-10-05T19:34:36.033240Z",
     "shell.execute_reply": "2020-10-05T19:34:36.032576Z"
    },
    "papermill": {
     "duration": 0.170731,
     "end_time": "2020-10-05T19:34:36.033360",
     "exception": false,
     "start_time": "2020-10-05T19:34:35.862629",
     "status": "completed"
    },
    "tags": []
   },
   "outputs": [],
   "source": [
    "from sklearn.model_selection import train_test_split\n",
    "xtr, xts, ytr, yts = train_test_split(x, y, test_size=0.3, random_state=101)"
   ]
  },
  {
   "cell_type": "code",
   "execution_count": 17,
   "metadata": {
    "execution": {
     "iopub.execute_input": "2020-10-05T19:34:36.097979Z",
     "iopub.status.busy": "2020-10-05T19:34:36.097045Z",
     "iopub.status.idle": "2020-10-05T19:34:36.101041Z",
     "shell.execute_reply": "2020-10-05T19:34:36.101616Z"
    },
    "papermill": {
     "duration": 0.038773,
     "end_time": "2020-10-05T19:34:36.101793",
     "exception": false,
     "start_time": "2020-10-05T19:34:36.063020",
     "status": "completed"
    },
    "tags": []
   },
   "outputs": [
    {
     "name": "stdout",
     "output_type": "stream",
     "text": [
      "(623, 9)\n",
      "(268, 9)\n"
     ]
    }
   ],
   "source": [
    "print(xtr.shape)\n",
    "print(xts.shape)"
   ]
  },
  {
   "cell_type": "code",
   "execution_count": 18,
   "metadata": {
    "execution": {
     "iopub.execute_input": "2020-10-05T19:34:36.168688Z",
     "iopub.status.busy": "2020-10-05T19:34:36.167881Z",
     "iopub.status.idle": "2020-10-05T19:34:36.441506Z",
     "shell.execute_reply": "2020-10-05T19:34:36.440700Z"
    },
    "papermill": {
     "duration": 0.309788,
     "end_time": "2020-10-05T19:34:36.441680",
     "exception": false,
     "start_time": "2020-10-05T19:34:36.131892",
     "status": "completed"
    },
    "tags": []
   },
   "outputs": [],
   "source": [
    "from sklearn.linear_model import LogisticRegression\n",
    "\n",
    "model = LogisticRegression(max_iter=5000)\n",
    "model.fit(xtr, ytr)\n",
    "ypr = model.predict(xts)\n",
    "model_score = model.score(xts, yts)"
   ]
  },
  {
   "cell_type": "code",
   "execution_count": 19,
   "metadata": {
    "execution": {
     "iopub.execute_input": "2020-10-05T19:34:36.510473Z",
     "iopub.status.busy": "2020-10-05T19:34:36.509496Z",
     "iopub.status.idle": "2020-10-05T19:34:36.514406Z",
     "shell.execute_reply": "2020-10-05T19:34:36.513711Z"
    },
    "papermill": {
     "duration": 0.040052,
     "end_time": "2020-10-05T19:34:36.514522",
     "exception": false,
     "start_time": "2020-10-05T19:34:36.474470",
     "status": "completed"
    },
    "tags": []
   },
   "outputs": [
    {
     "data": {
      "text/plain": [
       "0.7947761194029851"
      ]
     },
     "execution_count": 19,
     "metadata": {},
     "output_type": "execute_result"
    }
   ],
   "source": [
    "model_score"
   ]
  },
  {
   "cell_type": "code",
   "execution_count": 20,
   "metadata": {
    "execution": {
     "iopub.execute_input": "2020-10-05T19:34:36.584236Z",
     "iopub.status.busy": "2020-10-05T19:34:36.583499Z",
     "iopub.status.idle": "2020-10-05T19:34:36.588527Z",
     "shell.execute_reply": "2020-10-05T19:34:36.587978Z"
    },
    "papermill": {
     "duration": 0.043568,
     "end_time": "2020-10-05T19:34:36.588661",
     "exception": false,
     "start_time": "2020-10-05T19:34:36.545093",
     "status": "completed"
    },
    "tags": []
   },
   "outputs": [
    {
     "name": "stdout",
     "output_type": "stream",
     "text": [
      "[[0.71162991 0.28837009]]\n",
      "[0]\n"
     ]
    }
   ],
   "source": [
    "print(model.predict_proba([xts.iloc[0,:]]))\n",
    "print(model.predict([xts.iloc[0,:]]))"
   ]
  },
  {
   "cell_type": "code",
   "execution_count": null,
   "metadata": {
    "papermill": {
     "duration": 0.030742,
     "end_time": "2020-10-05T19:34:36.651605",
     "exception": false,
     "start_time": "2020-10-05T19:34:36.620863",
     "status": "completed"
    },
    "tags": []
   },
   "outputs": [],
   "source": []
  },
  {
   "cell_type": "code",
   "execution_count": 21,
   "metadata": {
    "execution": {
     "iopub.execute_input": "2020-10-05T19:34:36.721394Z",
     "iopub.status.busy": "2020-10-05T19:34:36.720556Z",
     "iopub.status.idle": "2020-10-05T19:34:36.723879Z",
     "shell.execute_reply": "2020-10-05T19:34:36.723190Z"
    },
    "papermill": {
     "duration": 0.041201,
     "end_time": "2020-10-05T19:34:36.723999",
     "exception": false,
     "start_time": "2020-10-05T19:34:36.682798",
     "status": "completed"
    },
    "tags": []
   },
   "outputs": [],
   "source": [
    "param_grid = [\n",
    "    {\n",
    "        'penalty': ['l1', 'l2', 'elasticnet', 'none'],\n",
    "        'C' : [0.01, 0.1, 1, 10 ,100],\n",
    "        'solver' : ['newton-cg', 'lbfgs', 'liblinear', 'sag', 'saga'],\n",
    "        'max_iter' : [100, 1000, 5000]\n",
    "    }\n",
    "]"
   ]
  },
  {
   "cell_type": "code",
   "execution_count": 22,
   "metadata": {
    "execution": {
     "iopub.execute_input": "2020-10-05T19:34:36.795036Z",
     "iopub.status.busy": "2020-10-05T19:34:36.794214Z",
     "iopub.status.idle": "2020-10-05T19:35:08.741872Z",
     "shell.execute_reply": "2020-10-05T19:35:08.741062Z"
    },
    "papermill": {
     "duration": 31.986615,
     "end_time": "2020-10-05T19:35:08.742003",
     "exception": false,
     "start_time": "2020-10-05T19:34:36.755388",
     "status": "completed"
    },
    "tags": []
   },
   "outputs": [
    {
     "name": "stdout",
     "output_type": "stream",
     "text": [
      "Fitting 5 folds for each of 300 candidates, totalling 1500 fits\n"
     ]
    },
    {
     "name": "stderr",
     "output_type": "stream",
     "text": [
      "[Parallel(n_jobs=-1)]: Using backend LokyBackend with 4 concurrent workers.\n",
      "[Parallel(n_jobs=-1)]: Done  68 tasks      | elapsed:    2.6s\n",
      "[Parallel(n_jobs=-1)]: Done 1052 tasks      | elapsed:   19.4s\n",
      "[Parallel(n_jobs=-1)]: Done 1500 out of 1500 | elapsed:   31.8s finished\n",
      "/opt/conda/lib/python3.7/site-packages/sklearn/linear_model/_logistic.py:1321: UserWarning: Setting penalty='none' will ignore the C and l1_ratio parameters\n",
      "  \"Setting penalty='none' will ignore the C and l1_ratio \"\n"
     ]
    },
    {
     "data": {
      "text/plain": [
       "GridSearchCV(cv=5, estimator=LogisticRegression(max_iter=5000), n_jobs=-1,\n",
       "             param_grid=[{'C': [0.01, 0.1, 1, 10, 100],\n",
       "                          'max_iter': [100, 1000, 5000],\n",
       "                          'penalty': ['l1', 'l2', 'elasticnet', 'none'],\n",
       "                          'solver': ['newton-cg', 'lbfgs', 'liblinear', 'sag',\n",
       "                                     'saga']}],\n",
       "             verbose=True)"
      ]
     },
     "execution_count": 22,
     "metadata": {},
     "output_type": "execute_result"
    }
   ],
   "source": [
    "from sklearn.model_selection import GridSearchCV\n",
    "\n",
    "clf = GridSearchCV(model, param_grid=param_grid, cv=5, verbose=True, n_jobs=-1)\n",
    "clf.fit(xtr, ytr)"
   ]
  },
  {
   "cell_type": "code",
   "execution_count": 23,
   "metadata": {
    "execution": {
     "iopub.execute_input": "2020-10-05T19:35:08.817708Z",
     "iopub.status.busy": "2020-10-05T19:35:08.816614Z",
     "iopub.status.idle": "2020-10-05T19:35:08.821250Z",
     "shell.execute_reply": "2020-10-05T19:35:08.820661Z"
    },
    "papermill": {
     "duration": 0.045214,
     "end_time": "2020-10-05T19:35:08.821373",
     "exception": false,
     "start_time": "2020-10-05T19:35:08.776159",
     "status": "completed"
    },
    "tags": []
   },
   "outputs": [
    {
     "data": {
      "text/plain": [
       "LogisticRegression(C=0.01, penalty='none', solver='newton-cg')"
      ]
     },
     "execution_count": 23,
     "metadata": {},
     "output_type": "execute_result"
    }
   ],
   "source": [
    "clf.best_estimator_"
   ]
  },
  {
   "cell_type": "code",
   "execution_count": 24,
   "metadata": {
    "execution": {
     "iopub.execute_input": "2020-10-05T19:35:08.897567Z",
     "iopub.status.busy": "2020-10-05T19:35:08.896666Z",
     "iopub.status.idle": "2020-10-05T19:35:08.900701Z",
     "shell.execute_reply": "2020-10-05T19:35:08.901295Z"
    },
    "papermill": {
     "duration": 0.045277,
     "end_time": "2020-10-05T19:35:08.901448",
     "exception": false,
     "start_time": "2020-10-05T19:35:08.856171",
     "status": "completed"
    },
    "tags": []
   },
   "outputs": [
    {
     "data": {
      "text/plain": [
       "0.8298709677419355"
      ]
     },
     "execution_count": 24,
     "metadata": {},
     "output_type": "execute_result"
    }
   ],
   "source": [
    "clf.best_score_"
   ]
  }
 ],
 "metadata": {
  "kernelspec": {
   "display_name": "Python 3",
   "language": "python",
   "name": "python3"
  },
  "language_info": {
   "codemirror_mode": {
    "name": "ipython",
    "version": 3
   },
   "file_extension": ".py",
   "mimetype": "text/x-python",
   "name": "python",
   "nbconvert_exporter": "python",
   "pygments_lexer": "ipython3",
   "version": "3.7.6"
  },
  "papermill": {
   "duration": 40.743464,
   "end_time": "2020-10-05T19:35:09.048924",
   "environment_variables": {},
   "exception": null,
   "input_path": "__notebook__.ipynb",
   "output_path": "__notebook__.ipynb",
   "parameters": {},
   "start_time": "2020-10-05T19:34:28.305460",
   "version": "2.1.0"
  }
 },
 "nbformat": 4,
 "nbformat_minor": 4
}
