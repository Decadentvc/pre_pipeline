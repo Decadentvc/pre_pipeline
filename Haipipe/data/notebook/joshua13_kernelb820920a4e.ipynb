{
 "cells": [
  {
   "cell_type": "code",
   "execution_count": 1,
   "metadata": {
    "_cell_guid": "b1076dfc-b9ad-4769-8c92-a6c4dae69d19",
    "_uuid": "8f2839f25d086af736a60e9eeb907d3b93b6e0e5"
   },
   "outputs": [
    {
     "name": "stdout",
     "output_type": "stream",
     "text": [
      "['heart.csv']\n"
     ]
    }
   ],
   "source": [
    "# This Python 3 environment comes with many helpful analytics libraries installed\n",
    "# It is defined by the kaggle/python docker image: https://github.com/kaggle/docker-python\n",
    "# For example, here's several helpful packages to load in \n",
    "\n",
    "import numpy as np # linear algebra\n",
    "import pandas as pd # data processing, CSV file I/O (e.g. pd.read_csv)\n",
    "\n",
    "# Input data files are available in the \"../input/\" directory.\n",
    "# For example, running this (by clicking run or pressing Shift+Enter) will list the files in the input directory\n",
    "\n",
    "import os\n",
    "print(os.listdir(\"../input\"))\n",
    "\n",
    "# Any results you write to the current directory are saved as output."
   ]
  },
  {
   "cell_type": "code",
   "execution_count": 2,
   "metadata": {
    "_cell_guid": "79c7e3d0-c299-4dcb-8224-4455121ee9b0",
    "_uuid": "d629ff2d2480ee46fbb7e2d37f6b5fab8052498a"
   },
   "outputs": [],
   "source": [
    "df = pd.read_csv(r'../input/heart.csv')"
   ]
  },
  {
   "cell_type": "code",
   "execution_count": 3,
   "metadata": {
    "_uuid": "5cbcf05f3b26588d31842c490b0e860728983af0",
    "scrolled": true
   },
   "outputs": [
    {
     "name": "stdout",
     "output_type": "stream",
     "text": [
      "     age  sex  cp  trestbps  chol   ...    oldpeak  slope  ca  thal  target\n",
      "0     63    1   3       145   233   ...        2.3      0   0     1       1\n",
      "1     37    1   2       130   250   ...        3.5      0   0     2       1\n",
      "2     41    0   1       130   204   ...        1.4      2   0     2       1\n",
      "3     56    1   1       120   236   ...        0.8      2   0     2       1\n",
      "4     57    0   0       120   354   ...        0.6      2   0     2       1\n",
      "5     57    1   0       140   192   ...        0.4      1   0     1       1\n",
      "6     56    0   1       140   294   ...        1.3      1   0     2       1\n",
      "7     44    1   1       120   263   ...        0.0      2   0     3       1\n",
      "8     52    1   2       172   199   ...        0.5      2   0     3       1\n",
      "9     57    1   2       150   168   ...        1.6      2   0     2       1\n",
      "10    54    1   0       140   239   ...        1.2      2   0     2       1\n",
      "11    48    0   2       130   275   ...        0.2      2   0     2       1\n",
      "12    49    1   1       130   266   ...        0.6      2   0     2       1\n",
      "13    64    1   3       110   211   ...        1.8      1   0     2       1\n",
      "14    58    0   3       150   283   ...        1.0      2   0     2       1\n",
      "15    50    0   2       120   219   ...        1.6      1   0     2       1\n",
      "16    58    0   2       120   340   ...        0.0      2   0     2       1\n",
      "17    66    0   3       150   226   ...        2.6      0   0     2       1\n",
      "18    43    1   0       150   247   ...        1.5      2   0     2       1\n",
      "19    69    0   3       140   239   ...        1.8      2   2     2       1\n",
      "20    59    1   0       135   234   ...        0.5      1   0     3       1\n",
      "21    44    1   2       130   233   ...        0.4      2   0     2       1\n",
      "22    42    1   0       140   226   ...        0.0      2   0     2       1\n",
      "23    61    1   2       150   243   ...        1.0      1   0     2       1\n",
      "24    40    1   3       140   199   ...        1.4      2   0     3       1\n",
      "25    71    0   1       160   302   ...        0.4      2   2     2       1\n",
      "26    59    1   2       150   212   ...        1.6      2   0     2       1\n",
      "27    51    1   2       110   175   ...        0.6      2   0     2       1\n",
      "28    65    0   2       140   417   ...        0.8      2   1     2       1\n",
      "29    53    1   2       130   197   ...        1.2      0   0     2       1\n",
      "..   ...  ...  ..       ...   ...   ...        ...    ...  ..   ...     ...\n",
      "273   58    1   0       100   234   ...        0.1      2   1     3       0\n",
      "274   47    1   0       110   275   ...        1.0      1   1     2       0\n",
      "275   52    1   0       125   212   ...        1.0      2   2     3       0\n",
      "276   58    1   0       146   218   ...        2.0      1   1     3       0\n",
      "277   57    1   1       124   261   ...        0.3      2   0     3       0\n",
      "278   58    0   1       136   319   ...        0.0      2   2     2       0\n",
      "279   61    1   0       138   166   ...        3.6      1   1     2       0\n",
      "280   42    1   0       136   315   ...        1.8      1   0     1       0\n",
      "281   52    1   0       128   204   ...        1.0      1   0     0       0\n",
      "282   59    1   2       126   218   ...        2.2      1   1     1       0\n",
      "283   40    1   0       152   223   ...        0.0      2   0     3       0\n",
      "284   61    1   0       140   207   ...        1.9      2   1     3       0\n",
      "285   46    1   0       140   311   ...        1.8      1   2     3       0\n",
      "286   59    1   3       134   204   ...        0.8      2   2     2       0\n",
      "287   57    1   1       154   232   ...        0.0      2   1     2       0\n",
      "288   57    1   0       110   335   ...        3.0      1   1     3       0\n",
      "289   55    0   0       128   205   ...        2.0      1   1     3       0\n",
      "290   61    1   0       148   203   ...        0.0      2   1     3       0\n",
      "291   58    1   0       114   318   ...        4.4      0   3     1       0\n",
      "292   58    0   0       170   225   ...        2.8      1   2     1       0\n",
      "293   67    1   2       152   212   ...        0.8      1   0     3       0\n",
      "294   44    1   0       120   169   ...        2.8      0   0     1       0\n",
      "295   63    1   0       140   187   ...        4.0      2   2     3       0\n",
      "296   63    0   0       124   197   ...        0.0      1   0     2       0\n",
      "297   59    1   0       164   176   ...        1.0      1   2     1       0\n",
      "298   57    0   0       140   241   ...        0.2      1   0     3       0\n",
      "299   45    1   3       110   264   ...        1.2      1   0     3       0\n",
      "300   68    1   0       144   193   ...        3.4      1   2     3       0\n",
      "301   57    1   0       130   131   ...        1.2      1   1     3       0\n",
      "302   57    0   1       130   236   ...        0.0      1   1     2       0\n",
      "\n",
      "[303 rows x 14 columns]\n"
     ]
    }
   ],
   "source": [
    "print(df)"
   ]
  },
  {
   "cell_type": "code",
   "execution_count": 4,
   "metadata": {
    "_uuid": "84d813b37700910129dcc3e78e2498c0a987d92b"
   },
   "outputs": [
    {
     "name": "stdout",
     "output_type": "stream",
     "text": [
      "[[42.  1.  0. ...  0.  2.  1.]\n",
      " [51.  0.  2. ...  0.  2.  1.]\n",
      " [46.  0.  2. ...  0.  2.  1.]\n",
      " ...\n",
      " [61.  0.  0. ...  0.  2.  0.]\n",
      " [68.  1.  0. ...  2.  3.  0.]\n",
      " [67.  1.  2. ...  0.  3.  0.]]\n"
     ]
    }
   ],
   "source": [
    "dataset =  np.array(df.values)\n",
    "np.random.shuffle(dataset)\n",
    "print(dataset)"
   ]
  },
  {
   "cell_type": "code",
   "execution_count": 5,
   "metadata": {
    "_uuid": "55bf9eaa74cd97a4c7b4b5aaf72b3f4140e9f4cf"
   },
   "outputs": [],
   "source": [
    "from sklearn import svm\n",
    "from sklearn.metrics import accuracy_score\n",
    "import matplotlib.pyplot as plt\n",
    "from sklearn.model_selection import train_test_split\n",
    "%matplotlib inline  "
   ]
  },
  {
   "cell_type": "code",
   "execution_count": 6,
   "metadata": {
    "_uuid": "8de462a217a2a291c8ecc357243a7b7fe4115d2d"
   },
   "outputs": [],
   "source": [
    "X = df.iloc[:, :-1]\n",
    "y = df.iloc[:, -1]\n",
    "X_train, X_test, y_train, y_test = train_test_split(X, y, test_size=0.25, random_state=0)"
   ]
  },
  {
   "cell_type": "markdown",
   "metadata": {
    "_uuid": "e3fa2cc24fa7aa37a691fe1684f50c291bca9a97"
   },
   "source": [
    "**SVM CLASSIFICATION**"
   ]
  },
  {
   "cell_type": "code",
   "execution_count": 7,
   "metadata": {
    "_uuid": "7b7bab2089b5043abb1cf0b650cf87f32a8d0e66"
   },
   "outputs": [
    {
     "data": {
      "text/plain": [
       "LinearSVC(C=1.0, class_weight=None, dual=False, fit_intercept=True,\n",
       "     intercept_scaling=1, loss='squared_hinge', max_iter=1000,\n",
       "     multi_class='ovr', penalty='l1', random_state=None, tol=0.001,\n",
       "     verbose=0)"
      ]
     },
     "execution_count": 7,
     "metadata": {},
     "output_type": "execute_result"
    }
   ],
   "source": [
    "clf = svm.LinearSVC(penalty='l1',dual=False,tol=1e-3)\n",
    "clf.fit(X_train, y_train) "
   ]
  },
  {
   "cell_type": "code",
   "execution_count": 8,
   "metadata": {
    "_uuid": "679b0e3a50c83dac43d795693bd54a95a482918c"
   },
   "outputs": [
    {
     "name": "stdout",
     "output_type": "stream",
     "text": [
      "0.8289473684210527\n"
     ]
    }
   ],
   "source": [
    "prediction = clf.predict(X_test)\n",
    "print(accuracy_score(y_test, prediction))"
   ]
  },
  {
   "cell_type": "markdown",
   "metadata": {
    "_uuid": "764a7a91117e0663836126c4409544b2633deb0b"
   },
   "source": [
    "**DECISION TREE CLASSIFIER**"
   ]
  },
  {
   "cell_type": "code",
   "execution_count": 9,
   "metadata": {
    "_uuid": "c5c544cf87d6c934c42ad6564292ed36395f8bf0"
   },
   "outputs": [],
   "source": [
    "from sklearn import tree\n",
    "clf = tree.DecisionTreeClassifier()\n",
    "clf = clf.fit(X_train,y_train)"
   ]
  },
  {
   "cell_type": "code",
   "execution_count": 10,
   "metadata": {
    "_uuid": "e3cdc83f1cb6619185502b80919cf0961dfb2397"
   },
   "outputs": [
    {
     "name": "stdout",
     "output_type": "stream",
     "text": [
      "0.8157894736842105\n"
     ]
    }
   ],
   "source": [
    "prediction = clf.predict(X_test)\n",
    "print(accuracy_score(y_test, prediction))"
   ]
  },
  {
   "cell_type": "markdown",
   "metadata": {
    "_uuid": "c1bc1e6161859683e57281d66666ac6ad941b918"
   },
   "source": [
    "**KNN CLASSIFICATION**"
   ]
  },
  {
   "cell_type": "code",
   "execution_count": 11,
   "metadata": {
    "_uuid": "6f0966917e7f84ebac36b8ef7b8bf72eaf17a8be"
   },
   "outputs": [
    {
     "data": {
      "text/plain": [
       "KNeighborsClassifier(algorithm='auto', leaf_size=30, metric='minkowski',\n",
       "           metric_params=None, n_jobs=None, n_neighbors=2, p=2,\n",
       "           weights='uniform')"
      ]
     },
     "execution_count": 11,
     "metadata": {},
     "output_type": "execute_result"
    }
   ],
   "source": [
    "from sklearn.neighbors import KNeighborsClassifier\n",
    "neigh = KNeighborsClassifier(n_neighbors=2)\n",
    "neigh.fit(X_train,y_train) "
   ]
  },
  {
   "cell_type": "code",
   "execution_count": 12,
   "metadata": {
    "_uuid": "1268ad650cf012c92b0bdb40a71cab0ce53f4a61"
   },
   "outputs": [
    {
     "name": "stdout",
     "output_type": "stream",
     "text": [
      "0.618421052631579\n"
     ]
    }
   ],
   "source": [
    "prediction = neigh.predict(X_test)\n",
    "print(accuracy_score(y_test, prediction))"
   ]
  },
  {
   "cell_type": "markdown",
   "metadata": {
    "_uuid": "0c2c18e1994cd83c850cb5cf0a36864c6c3fa599"
   },
   "source": [
    "**GAUSSIAN NAIVE BAYES**"
   ]
  },
  {
   "cell_type": "code",
   "execution_count": 13,
   "metadata": {
    "_uuid": "a2e74db6ef6596a54679e5a4b2c90b296560bdc4"
   },
   "outputs": [
    {
     "data": {
      "text/plain": [
       "GaussianNB(priors=None, var_smoothing=1e-09)"
      ]
     },
     "execution_count": 13,
     "metadata": {},
     "output_type": "execute_result"
    }
   ],
   "source": [
    "from sklearn.naive_bayes import GaussianNB\n",
    "gnb = GaussianNB()\n",
    "gnb.fit(X_train, y_train)"
   ]
  },
  {
   "cell_type": "code",
   "execution_count": 14,
   "metadata": {
    "_uuid": "04a543202b3c2e89fba6c17b65df910f24afcabe"
   },
   "outputs": [
    {
     "name": "stdout",
     "output_type": "stream",
     "text": [
      "0.8289473684210527\n"
     ]
    }
   ],
   "source": [
    "y_pred = gnb.predict(X_test)\n",
    "print(accuracy_score(y_test, y_pred))"
   ]
  },
  {
   "cell_type": "code",
   "execution_count": 15,
   "metadata": {
    "_uuid": "a7dde4caa85dd20eed55087a650d53344c414921"
   },
   "outputs": [],
   "source": []
  }
 ],
 "metadata": {
  "kernelspec": {
   "display_name": "Python 3",
   "language": "python",
   "name": "python3"
  },
  "language_info": {
   "codemirror_mode": {
    "name": "ipython",
    "version": 3
   },
   "file_extension": ".py",
   "mimetype": "text/x-python",
   "name": "python",
   "nbconvert_exporter": "python",
   "pygments_lexer": "ipython3",
   "version": "3.6.6"
  }
 },
 "nbformat": 4,
 "nbformat_minor": 1
}
