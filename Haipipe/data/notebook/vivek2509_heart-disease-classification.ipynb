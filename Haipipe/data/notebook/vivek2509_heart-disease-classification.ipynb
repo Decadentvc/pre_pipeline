{
 "cells": [
  {
   "cell_type": "markdown",
   "execution_count": null,
   "metadata": {
    "papermill": {
     "duration": 0.006222,
     "end_time": "2020-08-19T13:01:33.676488",
     "exception": false,
     "start_time": "2020-08-19T13:01:33.670266",
     "status": "completed"
    },
    "tags": []
   },
   "source": [
    "1. Get the data ready\n",
    "2. divided into X & Y\n",
    "3. Choose the right model\n",
    "4. Fit the model with training data\n",
    "5. Evaluate the model on test data"
   ]
  },
  {
   "cell_type": "code",
   "execution_count": 1,
   "metadata": {
    "_cell_guid": "a31d0712-6803-4dda-9651-e7b4c05dff4c",
    "_uuid": "0c128fe4-4273-489f-933b-def657589023",
    "execution": {
     "iopub.execute_input": "2020-08-19T13:01:33.704524Z",
     "iopub.status.busy": "2020-08-19T13:01:33.703627Z",
     "iopub.status.idle": "2020-08-19T13:01:35.346299Z",
     "shell.execute_reply": "2020-08-19T13:01:35.347030Z"
    },
    "papermill": {
     "duration": 1.665773,
     "end_time": "2020-08-19T13:01:35.347247",
     "exception": false,
     "start_time": "2020-08-19T13:01:33.681474",
     "status": "completed"
    },
    "tags": []
   },
   "outputs": [
    {
     "data": {
      "text/plain": [
       "0.8032786885245902"
      ]
     },
     "execution_count": 1,
     "metadata": {},
     "output_type": "execute_result"
    }
   ],
   "source": [
    "# 1. Get the data ready\n",
    "import pandas as pd\n",
    "import numpy as np\n",
    "heart_disease = pd.read_csv(\"../input/heart-disease-uci/heart.csv\")\n",
    "heart_disease.head()\n",
    "\n",
    "# Create X (Features matrix)\n",
    "x  = heart_disease.drop(\"target\",axis=1)\n",
    "\n",
    "#create Y (labals)\n",
    "y= heart_disease[\"target\"]\n",
    "\n",
    "#2. Choose the right model\n",
    "from sklearn.ensemble import RandomForestClassifier\n",
    "clf = RandomForestClassifier()\n",
    "\n",
    "#3. Fit the model to the training data\n",
    "from sklearn.model_selection import train_test_split\n",
    "\n",
    "x_train, x_test, y_train, y_test = train_test_split(x, y, test_size=0.2)\n",
    "\n",
    "clf.fit(x_train, y_train)\n",
    "\n",
    "#make a prediction\n",
    "y_preds = clf.predict(x_test)\n",
    "\n",
    "# 4. Evaluate the model on training data and test data\n",
    "clf.score(x_test,y_test)"
   ]
  },
  {
   "cell_type": "code",
   "execution_count": 2,
   "metadata": {
    "execution": {
     "iopub.execute_input": "2020-08-19T13:01:35.367129Z",
     "iopub.status.busy": "2020-08-19T13:01:35.366019Z",
     "iopub.status.idle": "2020-08-19T13:01:35.371344Z",
     "shell.execute_reply": "2020-08-19T13:01:35.370571Z"
    },
    "papermill": {
     "duration": 0.018704,
     "end_time": "2020-08-19T13:01:35.371485",
     "exception": false,
     "start_time": "2020-08-19T13:01:35.352781",
     "status": "completed"
    },
    "tags": []
   },
   "outputs": [
    {
     "data": {
      "text/plain": [
       "array([[23,  5],\n",
       "       [ 7, 26]])"
      ]
     },
     "execution_count": 2,
     "metadata": {},
     "output_type": "execute_result"
    }
   ],
   "source": [
    "from sklearn.metrics import confusion_matrix\n",
    "\n",
    "conf_mat = confusion_matrix(y_test,y_preds)\n",
    "conf_mat"
   ]
  },
  {
   "cell_type": "code",
   "execution_count": 3,
   "metadata": {
    "execution": {
     "iopub.execute_input": "2020-08-19T13:01:35.391345Z",
     "iopub.status.busy": "2020-08-19T13:01:35.390484Z",
     "iopub.status.idle": "2020-08-19T13:01:35.773564Z",
     "shell.execute_reply": "2020-08-19T13:01:35.772875Z"
    },
    "papermill": {
     "duration": 0.397016,
     "end_time": "2020-08-19T13:01:35.773706",
     "exception": false,
     "start_time": "2020-08-19T13:01:35.376690",
     "status": "completed"
    },
    "tags": []
   },
   "outputs": [
    {
     "data": {
      "image/png": "[encoded data removed]",
      "text/plain": [
       "<Figure size 216x216 with 1 Axes>"
      ]
     },
     "metadata": {},
     "output_type": "display_data"
    }
   ],
   "source": [
    "import seaborn as sns\n",
    "import matplotlib.pyplot as plt\n",
    "# Set the font scale \n",
    "sns.set(font_scale=1.5)\n",
    "\n",
    "def plot_conf_mat(conf_mat):\n",
    "    \"\"\"\n",
    "    Plots a confusion matrix using Seaborn's heatmap().\n",
    "    \"\"\"\n",
    "    fig, ax = plt.subplots(figsize=(3,3))\n",
    "    ax = sns.heatmap(conf_mat,\n",
    "                     annot=True, \n",
    "                     cbar=False)\n",
    "    plt.xlabel(\"Predicted label\")\n",
    "    plt.ylabel(\"True label\")\n",
    "    \n",
    "plot_conf_mat(conf_mat);"
   ]
  },
  {
   "cell_type": "code",
   "execution_count": 4,
   "metadata": {
    "execution": {
     "iopub.execute_input": "2020-08-19T13:01:35.795883Z",
     "iopub.status.busy": "2020-08-19T13:01:35.794977Z",
     "iopub.status.idle": "2020-08-19T13:01:35.798890Z",
     "shell.execute_reply": "2020-08-19T13:01:35.798083Z"
    },
    "papermill": {
     "duration": 0.02022,
     "end_time": "2020-08-19T13:01:35.799050",
     "exception": false,
     "start_time": "2020-08-19T13:01:35.778830",
     "status": "completed"
    },
    "tags": []
   },
   "outputs": [],
   "source": [
    "from sklearn.metrics import accuracy_score, precision_score, recall_score, f1_score\n",
    "def evaluate_preds(y_true, y_preds):\n",
    "    \"\"\"\n",
    "    Performs evaluation comparison on y_true labels vs. y_pred labels\n",
    "    on a classification.\n",
    "    \"\"\"\n",
    "    accuracy = accuracy_score(y_true, y_preds)\n",
    "    precision = precision_score(y_true, y_preds)\n",
    "    recall = recall_score(y_true, y_preds)\n",
    "    f1 = f1_score(y_true, y_preds)\n",
    "    metric_dict = {\"accuracy\": round(accuracy, 2),\n",
    "                   \"precision\": round(precision, 2),\n",
    "                   \"recall\": round(recall, 2),\n",
    "                   \"f1\": round(f1, 2)}\n",
    "    print(f\"Acc: {accuracy * 100:.2f}%\")\n",
    "    print(f\"Precision: {precision:.2f}\")\n",
    "    print(f\"Recall: {recall:.2f}\")\n",
    "    print(f\"F1 score: {f1:.2f}\")\n",
    "    \n",
    "    return metric_dict"
   ]
  },
  {
   "cell_type": "code",
   "execution_count": 5,
   "metadata": {
    "execution": {
     "iopub.execute_input": "2020-08-19T13:01:35.818049Z",
     "iopub.status.busy": "2020-08-19T13:01:35.817220Z",
     "iopub.status.idle": "2020-08-19T13:01:35.827436Z",
     "shell.execute_reply": "2020-08-19T13:01:35.826644Z"
    },
    "papermill": {
     "duration": 0.023059,
     "end_time": "2020-08-19T13:01:35.827573",
     "exception": false,
     "start_time": "2020-08-19T13:01:35.804514",
     "status": "completed"
    },
    "tags": []
   },
   "outputs": [
    {
     "name": "stdout",
     "output_type": "stream",
     "text": [
      "Acc: 80.33%\n",
      "Precision: 0.84\n",
      "Recall: 0.79\n",
      "F1 score: 0.81\n"
     ]
    }
   ],
   "source": [
    "# Evaluate the predictions\n",
    "final_model = evaluate_preds(y_test, y_preds)"
   ]
  },
  {
   "cell_type": "code",
   "execution_count": 6,
   "metadata": {
    "execution": {
     "iopub.execute_input": "2020-08-19T13:01:35.846110Z",
     "iopub.status.busy": "2020-08-19T13:01:35.845189Z",
     "iopub.status.idle": "2020-08-19T13:01:36.096126Z",
     "shell.execute_reply": "2020-08-19T13:01:36.095452Z"
    },
    "papermill": {
     "duration": 0.263344,
     "end_time": "2020-08-19T13:01:36.096277",
     "exception": false,
     "start_time": "2020-08-19T13:01:35.832933",
     "status": "completed"
    },
    "tags": []
   },
   "outputs": [
    {
     "data": {
      "image/png": "[encoded data removed]",
      "text/plain": [
       "<Figure size 720x576 with 1 Axes>"
      ]
     },
     "metadata": {},
     "output_type": "display_data"
    }
   ],
   "source": [
    "compare_metrics = pd.DataFrame({\"Final_model\":final_model})\n",
    "\n",
    "compare_metrics.plot.bar(figsize=(10, 8));"
   ]
  },
  {
   "cell_type": "code",
   "execution_count": 7,
   "metadata": {
    "execution": {
     "iopub.execute_input": "2020-08-19T13:01:36.116303Z",
     "iopub.status.busy": "2020-08-19T13:01:36.115406Z",
     "iopub.status.idle": "2020-08-19T13:01:36.119723Z",
     "shell.execute_reply": "2020-08-19T13:01:36.118969Z"
    },
    "papermill": {
     "duration": 0.017914,
     "end_time": "2020-08-19T13:01:36.119888",
     "exception": false,
     "start_time": "2020-08-19T13:01:36.101974",
     "status": "completed"
    },
    "tags": []
   },
   "outputs": [],
   "source": [
    "import pickle\n",
    "\n",
    "# Save an extisting model to file\n",
    "pickle.dump(final_model, open(\"Heart-disease.pkl\", \"wb\"))"
   ]
  }
 ],
 "metadata": {
  "kernelspec": {
   "display_name": "Python 3",
   "language": "python",
   "name": "python3"
  },
  "language_info": {
   "codemirror_mode": {
    "name": "ipython",
    "version": 3
   },
   "file_extension": ".py",
   "mimetype": "text/x-python",
   "name": "python",
   "nbconvert_exporter": "python",
   "pygments_lexer": "ipython3",
   "version": "3.7.6"
  },
  "papermill": {
   "duration": 7.927788,
   "end_time": "2020-08-19T13:01:36.234674",
   "environment_variables": {},
   "exception": null,
   "input_path": "__notebook__.ipynb",
   "output_path": "__notebook__.ipynb",
   "parameters": {},
   "start_time": "2020-08-19T13:01:28.306886",
   "version": "2.1.0"
  }
 },
 "nbformat": 4,
 "nbformat_minor": 4
}
